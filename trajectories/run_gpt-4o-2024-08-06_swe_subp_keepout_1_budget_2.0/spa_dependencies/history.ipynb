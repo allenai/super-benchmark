{
 "cells": [
  {
   "cell_type": "markdown",
   "id": "bb005e58",
   "metadata": {},
   "source": [
    "### System Prompt\n",
    "<details>\n",
    "SETTING: You are an autonomous programmer, and you're working directly in the command line with a special Jupyter notebook interface.\n",
    "\n",
    "The special Jupyter notebook interface consists of a file editor that shows you 100 lines of a file at a time.\n",
    "You can execute commands in the notebook using:\n",
    "\n",
    "1. Bash commands: Commands starting with !.\n",
    "2. Python commands: Standard Python code.\n",
    "3. Magic commands: Commands starting with %, e.g., %cd <path>.\n",
    "\n",
    "Additionally, you can also use the following commands to help you navigate and edit files.\n",
    "\n",
    "COMMANDS:\n",
    "\n",
    "open:\n",
    "  docstring: opens the file at the given path in the editor. If line_number is provided, the window will be move to include that line\n",
    "  signature: open <path> [<line_number>]\n",
    "  arguments:\n",
    "    - path (string) [required]: the path to the file to open\n",
    "    - line_number (integer) [optional]: the line number to move the window to (if not provided, the window will start at the top of the file)\n",
    "\n",
    "create:\n",
    "  docstring: creates and opens a new file with the given name\n",
    "  signature: create <filename>\n",
    "  arguments:\n",
    "    - filename (string) [required]: the name of the file to create\n",
    "\n",
    "goto:\n",
    "  docstring: moves the window to show <line_number>\n",
    "  signature: goto <line_number>\n",
    "  arguments:\n",
    "    - line_number (integer) [required]: the line number to move the window to\n",
    "\n",
    "scroll_down:\n",
    "  docstring: moves the window down {WINDOW} lines\n",
    "  signature: scroll_down\n",
    "\n",
    "scroll_up:\n",
    "  docstring: moves the window down {WINDOW} lines\n",
    "  signature: scroll_up\n",
    "\n",
    "submit:\n",
    "  docstring: submits your final answer\n",
    "  signature: submit <answer>\n",
    "  arguments:\n",
    "    - answer (string) [required]: the answer to be submitted\n",
    "\n",
    "search_dir:\n",
    "  docstring: searches for search_term in all files in dir_path. If dir_path is not provided, searches in the current directory\n",
    "  signature: search_dir <search_term> [<dir_path>]\n",
    "  arguments:\n",
    "    - search_term (string) [required]: the term to search for\n",
    "    - dir_path (string) [optional]: the directory to search in (if not provided, searches in the current directory)\n",
    "\n",
    "search_file:\n",
    "  docstring: searches for search_term in file. If file is not provided, searches in the current open file\n",
    "  signature: search_file <search_term> [<file>]\n",
    "  arguments:\n",
    "    - search_term (string) [required]: the term to search for\n",
    "    - file (string) [optional]: the file to search in (if not provided, searches in the current open file)\n",
    "\n",
    "find_file:\n",
    "  docstring: finds all files with the given name in dir_path. If dir_path is not provided, searches in the current directory\n",
    "  signature: find_file <file_name> [<dir_path>]\n",
    "  arguments:\n",
    "    - file_name (string) [required]: the name of the file to search for\n",
    "    - dir_path (string) [optional]: the directory to search in (if not provided, searches in the current directory)\n",
    "\n",
    "edit:\n",
    "  docstring: replaces lines <start_line> through <end_line> (inclusive) with the given text in the open file. The replacement text is terminated by a line with only end_of_edit on it. All of the <replacement text> will be entered, so make sure your indentation is formatted properly. Python files will be checked for syntax errors after the edit. If the system detects a syntax error, the edit will not be executed. Simply try to edit the file again, but make sure to read the error message and modify the edit command you issue accordingly. Issuing the same command a second time will just lead to the same error message again.\n",
    "  signature: edit <start_line>:<end_line>\n",
    "<replacement_text>\n",
    "end_of_edit\n",
    "  arguments:\n",
    "    - start_line (integer) [required]: the line number to start the edit at\n",
    "    - end_line (integer) [required]: the line number to end the edit at (inclusive)\n",
    "    - replacement_text (string) [required]: the text to replace the current selection with\n",
    "\n",
    "\n",
    "\n",
    "Please note that THE EDIT COMMAND REQUIRES PROPER INDENTATION. \n",
    "If you'd like to add the line '        print(x)' you must fully write that out, with all those spaces before the code! Indentation is important and code that is not indented correctly will fail and require fixing before it can be run.\n",
    "\n",
    "RESPONSE FORMAT:\n",
    "Your shell prompt is formatted as follows:\n",
    "(Open file: <path>)\n",
    "(Current directory: <cwd>)\n",
    "In [ ]\n",
    "\n",
    "You need to format your output using two fields: discussion and command.\n",
    "Your output should always include _one_ discussion and _one_ command field EXACTLY as in the following example:\n",
    "DISCUSSION\n",
    "First I'll start by using ls to see what files are in the current directory. Then maybe we can look at some relevant files to see what they look like.\n",
    "```\n",
    "!ls -a\n",
    "```\n",
    "\n",
    "You should only include a *SINGLE* command in the command section and then wait for a response from the shell before continuing with more discussion and commands. Everything you include in the DISCUSSION section will be saved for future reference.\n",
    "If you'd like to issue two commands at once, PLEASE DO NOT DO THAT! Please instead first submit just the first command, and then after receiving a response you'll be able to issue the second command. \n",
    "You're free to use any other bash commands you want (e.g. find, grep, cat, ls, cd) in addition to the special commands listed above.\n",
    "</details>\n"
   ]
  },
  {
   "cell_type": "markdown",
   "id": "94c85984",
   "metadata": {},
   "source": [
    "### Query\n",
    "Train the SPA model on alpaca_data_en_52k (from the repo), starting with \"openai-community/gpt2\" (from HF) as the base model. Report the training loss as a json structured as follows: {\"training_loss\": 0.0} (replace 0.0 with the actual value).\n",
    "\n",
    "Additional instructions:\n",
    "1. Load only the first 10 rows of each set in the dataset\n",
    "2. Train only one epoch.\n",
    "3. Use hyperparameters from `train.sh` file.\n",
    "\n",
    "Git repository: https://github.com/OceannTwT/SPA\n",
    "\n",
    "I have already executed some of the required steps. Now, you should install all required dependencies. Once dependencies are installed, you can re-run any of the pre-executed steps, and finally should successfully run\n",
    "```\n",
    "!python src/train_bash.py \\\n",
    "    --stage sft \\\n",
    "    --model_name_or_path openai-community/gpt2 \\\n",
    "    --do_train \\\n",
    "    --dataset alpaca_en \\\n",
    "    --finetuning_type full \\\n",
    "    --output_dir openai-community-gpt2/output \\\n",
    "    --overwrite_cache \\\n",
    "    --per_device_train_batch_size 8 \\\n",
    "    --gradient_accumulation_steps 1 \\\n",
    "    --lr_scheduler_type cosine \\\n",
    "    --logging_steps 10 \\\n",
    "    --save_steps 7000 \\\n",
    "    --learning_rate 2e-4 \\\n",
    "    --num_train_epochs 1.0 \\\n",
    "    --adapter_len 32 \\\n",
    "    --plot_loss\n",
    "```\n",
    "to submit the answer."
   ]
  },
  {
   "cell_type": "markdown",
   "id": "badeaf0d",
   "metadata": {},
   "source": [
    "### Step 1"
   ]
  },
  {
   "cell_type": "markdown",
   "id": "b68c34c1",
   "metadata": {},
   "source": [
    "**Thought**: [pre-executed by user]"
   ]
  },
  {
   "cell_type": "markdown",
   "id": "9abaa7de",
   "metadata": {},
   "source": [
    "**Action (None)**:"
   ]
  },
  {
   "cell_type": "code",
   "execution_count": null,
   "id": "8b528429",
   "metadata": {},
   "outputs": [
    {
     "data": {
      "text/plain": [
       ""
      ]
     },
     "execution_count": null,
     "metadata": {},
     "output_type": "execute_result"
    }
   ],
   "source": [
    "# ### Setup"
   ]
  },
  {
   "cell_type": "markdown",
   "id": "e1cf2d23",
   "metadata": {},
   "source": [
    "### Step 2"
   ]
  },
  {
   "cell_type": "markdown",
   "id": "11ad186b",
   "metadata": {},
   "source": [
    "**Thought**: [pre-executed by user]"
   ]
  },
  {
   "cell_type": "markdown",
   "id": "a194a193",
   "metadata": {},
   "source": [
    "**Action (None)**:"
   ]
  },
  {
   "cell_type": "code",
   "execution_count": null,
   "id": "594396d5",
   "metadata": {},
   "outputs": [
    {
     "data": {
      "text/plain": [
       ""
      ]
     },
     "execution_count": null,
     "metadata": {},
     "output_type": "execute_result"
    }
   ],
   "source": [
    "# #### Clone repo"
   ]
  },
  {
   "cell_type": "markdown",
   "id": "54fb94c8",
   "metadata": {},
   "source": [
    "### Step 3"
   ]
  },
  {
   "cell_type": "markdown",
   "id": "afcebf3b",
   "metadata": {},
   "source": [
    "**Thought**: [pre-executed by user]"
   ]
  },
  {
   "cell_type": "markdown",
   "id": "bc6278f7",
   "metadata": {},
   "source": [
    "**Action (None)**:"
   ]
  },
  {
   "cell_type": "code",
   "execution_count": null,
   "id": "597e2e4f",
   "metadata": {},
   "outputs": [
    {
     "data": {
      "text/plain": [
       "Cloning into 'SPA'...\r\nremote: Enumerating objects: 144, done.\u001b[K\r\nremote: Counting objects:   5% (1/17)\u001b[K\rremote: Counting objects:  11% (2/17)\u001b[K\rremote: Counting objects:  17% (3/17)\u001b[K\rremote: Counting objects:  23% (4/17)\u001b[K\rremote: Counting objects:  29% (5/17)\u001b[K\rremote: Counting objects:  35% (6/17)\u001b[K\rremote: Counting objects:  41% (7/17)\u001b[K\rremote: Counting objects:  47% (8/17)\u001b[K\rremote: Counting objects:  52% (9/17)\u001b[K\rremote: Counting objects:  58% (10/17)\u001b[K\rremote: Counting objects:  64% (11/17)\u001b[K\rremote: Counting objects:  70% (12/17)\u001b[K\rremote: Counting objects:  76% (13/17)\u001b[K\rremote: Counting objects:  82% (14/17)\u001b[K\rremote: Counting objects:  88% (15/17)\u001b[K\rremote: Counting objects:  94% (16/17)\u001b[K\rremote: Counting objects: 100% (17/17)\u001b[K\rremote: Counting objects: 100% (17/17), done.\u001b[K\r\nremote: Compressing objects:   8% (1/12)\u001b[K\rremote: Compressing objects:  16% (2/12)\u001b[K\rremote: Compressing objects:  25% (3/12)\u001b[K\rremote: Compressing objects:  33% (4/12)\u001b[K\rremote: Compressing objects:  41% (5/12)\u001b[K\rremote: Compressing objects:  50% (6/12)\u001b[K\rremote: Compressing objects:  58% (7/12)\u001b[K\rremote: Compressing objects:  66% (8/12)\u001b[K\rremote: Compressing objects:  75% (9/12)\u001b[K\rremote: Compressing objects:  83% (10/12)\u001b[K\rremote: Compressing objects:  91% (11/12)\u001b[K\rremote: Compressing objects: 100% (12/12)\u001b[K\rremote: Compressing objects: 100% (12/12), done.\u001b[K\r\nReceiving objects:   0% (1/144)\rReceiving objects:   1% (2/144)\rReceiving objects:   2% (3/144)\rReceiving objects:   3% (5/144)\rReceiving objects:   4% (6/144)\rReceiving objects:   5% (8/144)\rReceiving objects:   6% (9/144), 16.13 MiB | 32.24 MiB/s\rReceiving objects:   7% (11/144), 16.13 MiB | 32.24 MiB/s\rReceiving objects:   7% (11/144), 34.47 MiB | 34.46 MiB/s\rReceiving objects:   8% (12/144), 34.47 MiB | 34.46 MiB/s\rReceiving objects:   9% (13/144), 34.47 MiB | 34.46 MiB/s\rReceiving objects:  10% (15/144), 34.47 MiB | 34.46 MiB/s\rReceiving objects:  11% (16/144), 50.87 MiB | 33.91 MiB/s\rReceiving objects:  12% (18/144), 50.87 MiB | 33.91 MiB/s\rReceiving objects:  13% (19/144), 50.87 MiB | 33.91 MiB/s\rReceiving objects:  14% (21/144), 50.87 MiB | 33.91 MiB/s\rReceiving objects:  15% (22/144), 50.87 MiB | 33.91 MiB/s\rReceiving objects:  16% (24/144), 50.87 MiB | 33.91 MiB/s\rReceiving objects:  17% (25/144), 50.87 MiB | 33.91 MiB/s\rReceiving objects:  17% (25/144), 67.42 MiB | 33.72 MiB/s\rReceiving objects:  18% (26/144), 67.42 MiB | 33.72 MiB/s\rReceiving objects:  19% (28/144), 67.42 MiB | 33.72 MiB/s\rReceiving objects:  19% (28/144), 100.67 MiB | 33.56 MiB/s\rReceiving objects:  20% (29/144), 100.67 MiB | 33.56 MiB/s\rReceiving objects:  20% (29/144), 132.96 MiB | 33.25 MiB/s\rReceiving objects:  21% (31/144), 132.96 MiB | 33.25 MiB/s\rReceiving objects:  22% (32/144), 148.96 MiB | 33.11 MiB/s\rReceiving objects:  23% (34/144), 148.96 MiB | 33.11 MiB/s\rReceiving objects:  24% (35/144), 148.96 MiB | 33.11 MiB/s\rReceiving objects:  25% (36/144), 148.96 MiB | 33.11 MiB/s\rReceiving objects:  26% (38/144), 148.96 MiB | 33.11 MiB/s\rReceiving objects:  27% (39/144), 148.96 MiB | 33.11 MiB/s\rReceiving objects:  28% (41/144), 148.96 MiB | 33.11 MiB/s\rReceiving objects:  29% (42/144), 148.96 MiB | 33.11 MiB/s\rReceiving objects:  30% (44/144), 148.96 MiB | 33.11 MiB/s\rremote: Total 144 (delta 5), reused 9 (delta 3), pack-reused 127 (from 1)\u001b[K\r\nReceiving objects:  31% (45/144), 148.96 MiB | 33.11 MiB/s\rReceiving objects:  32% (47/144), 148.96 MiB | 33.11 MiB/s\rReceiving objects:  33% (48/144), 148.96 MiB | 33.11 MiB/s\rReceiving objects:  34% (49/144), 148.96 MiB | 33.11 MiB/s\rReceiving objects:  35% (51/144), 148.96 MiB | 33.11 MiB/s\rReceiving objects:  36% (52/144), 148.96 MiB | 33.11 MiB/s\rReceiving objects:  37% (54/144), 148.96 MiB | 33.11 MiB/s\rReceiving objects:  38% (55/144), 148.96 MiB | 33.11 MiB/s\rReceiving objects:  39% (57/144), 148.96 MiB | 33.11 MiB/s\rReceiving objects:  40% (58/144), 148.96 MiB | 33.11 MiB/s\rReceiving objects:  41% (60/144), 148.96 MiB | 33.11 MiB/s\rReceiving objects:  42% (61/144), 148.96 MiB | 33.11 MiB/s\rReceiving objects:  43% (62/144), 148.96 MiB | 33.11 MiB/s\rReceiving objects:  44% (64/144), 148.96 MiB | 33.11 MiB/s\rReceiving objects:  45% (65/144), 148.96 MiB | 33.11 MiB/s\rReceiving objects:  46% (67/144), 148.96 MiB | 33.11 MiB/s\rReceiving objects:  47% (68/144), 148.96 MiB | 33.11 MiB/s\rReceiving objects:  48% (70/144), 148.96 MiB | 33.11 MiB/s\rReceiving objects:  49% (71/144), 148.96 MiB | 33.11 MiB/s\rReceiving objects:  50% (72/144), 148.96 MiB | 33.11 MiB/s\rReceiving objects:  51% (74/144), 148.96 MiB | 33.11 MiB/s\rReceiving objects:  52% (75/144), 148.96 MiB | 33.11 MiB/s\rReceiving objects:  53% (77/144), 148.96 MiB | 33.11 MiB/s\rReceiving objects:  54% (78/144), 148.96 MiB | 33.11 MiB/s\rReceiving objects:  55% (80/144), 148.96 MiB | 33.11 MiB/s\rReceiving objects:  56% (81/144), 148.96 MiB | 33.11 MiB/s\rReceiving objects:  57% (83/144), 148.96 MiB | 33.11 MiB/s\rReceiving objects:  58% (84/144), 148.96 MiB | 33.11 MiB/s\rReceiving objects:  59% (85/144), 148.96 MiB | 33.11 MiB/s\rReceiving objects:  60% (87/144), 148.96 MiB | 33.11 MiB/s\rReceiving objects:  61% (88/144), 148.96 MiB | 33.11 MiB/s\rReceiving objects:  62% (90/144), 148.96 MiB | 33.11 MiB/s\rReceiving objects:  63% (91/144), 148.96 MiB | 33.11 MiB/s\rReceiving objects:  64% (93/144), 148.96 MiB | 33.11 MiB/s\rReceiving objects:  65% (94/144), 148.96 MiB | 33.11 MiB/s\rReceiving objects:  66% (96/144), 148.96 MiB | 33.11 MiB/s\rReceiving objects:  67% (97/144), 148.96 MiB | 33.11 MiB/s\rReceiving objects:  68% (98/144), 148.96 MiB | 33.11 MiB/s\rReceiving objects:  69% (100/144), 148.96 MiB | 33.11 MiB/s\rReceiving objects:  70% (101/144), 148.96 MiB | 33.11 MiB/s\rReceiving objects:  71% (103/144), 148.96 MiB | 33.11 MiB/s\rReceiving objects:  72% (104/144), 148.96 MiB | 33.11 MiB/s\rReceiving objects:  73% (106/144), 148.96 MiB | 33.11 MiB/s\rReceiving objects:  74% (107/144), 148.96 MiB | 33.11 MiB/s\rReceiving objects:  75% (108/144), 148.96 MiB | 33.11 MiB/s\rReceiving objects:  76% (110/144), 148.96 MiB | 33.11 MiB/s\rReceiving objects:  77% (111/144), 148.96 MiB | 33.11 MiB/s\rReceiving objects:  78% (113/144), 148.96 MiB | 33.11 MiB/s\rReceiving objects:  79% (114/144), 148.96 MiB | 33.11 MiB/s\rReceiving objects:  80% (116/144), 148.96 MiB | 33.11 MiB/s\rReceiving objects:  81% (117/144), 148.96 MiB | 33.11 MiB/s\rReceiving objects:  82% (119/144), 148.96 MiB | 33.11 MiB/s\rReceiving objects:  83% (120/144), 148.96 MiB | 33.11 MiB/s\rReceiving objects:  84% (121/144), 148.96 MiB | 33.11 MiB/s\rReceiving objects:  85% (123/144), 148.96 MiB | 33.11 MiB/s\rReceiving objects:  86% (124/144), 148.96 MiB | 33.11 MiB/s\rReceiving objects:  87% (126/144), 148.96 MiB | 33.11 MiB/s\rReceiving objects:  88% (127/144), 148.96 MiB | 33.11 MiB/s\rReceiving objects:  89% (129/144), 148.96 MiB | 33.11 MiB/s\rReceiving objects:  90% (130/144), 148.96 MiB | 33.11 MiB/s\rReceiving objects:  91% (132/144), 148.96 MiB | 33.11 MiB/s\rReceiving objects:  92% (133/144), 148.96 MiB | 33.11 MiB/s\rReceiving objects:  93% (134/144), 148.96 MiB | 33.11 MiB/s\rReceiving objects:  94% (136/144), 148.96 MiB | 33.11 MiB/s\rReceiving objects:  95% (137/144), 148.96 MiB | 33.11 MiB/s\rReceiving objects:  96% (139/144), 148.96 MiB | 33.11 MiB/s\rReceiving objects:  97% (140/144), 148.96 MiB | 33.11 MiB/s\rReceiving objects:  98% (142/144), 148.96 MiB | 33.11 MiB/s\rReceiving objects:  99% (143/144), 148.96 MiB | 33.11 MiB/s\rReceiving objects: 100% (144/144), 148.96 MiB | 33.11 MiB/s\rReceiving objects: 100% (144/144), 161.75 MiB | 32.96 MiB/s, done.\r\nResolving deltas:   0% (0/14)\rResolving deltas:   7% (1/14)\rResolving deltas:  14% (2/14)\rResolving deltas:  21% (3/14)\rResolving deltas:  28% (4/14)\rResolving deltas:  35% (5/14)\rResolving deltas:  42% (6/14)\rResolving deltas:  50% (7/14)\rResolving deltas:  57% (8/14)\rResolving deltas:  64% (9/14)\rResolving deltas:  71% (10/14)\rResolving deltas:  78% (11/14)\rResolving deltas:  85% (12/14)\rResolving deltas:  92% (13/14)\rResolving deltas: 100% (14/14)\rResolving deltas: 100% (14/14), done.\r\nUpdating files:  18% (20/106)\rUpdating files:  19% (21/106)\rUpdating files:  20% (22/106)\rUpdating files:  21% (23/106)\rUpdating files:  22% (24/106)\rUpdating files:  23% (25/106)\rUpdating files:  24% (26/106)\rUpdating files:  25% (27/106)\rUpdating files:  26% (28/106)\rUpdating files:  27% (29/106)\rUpdating files:  28% (30/106)\rUpdating files:  29% (31/106)\rUpdating files:  30% (32/106)\rUpdating files:  31% (33/106)\rUpdating files:  32% (34/106)\rUpdating files:  33% (35/106)\rUpdating files:  34% (37/106)\rUpdating files:  35% (38/106)\rUpdating files:  36% (39/106)\rUpdating files:  37% (40/106)\rUpdating files:  38% (41/106)\rUpdating files:  39% (42/106)\rUpdating files:  40% (43/106)\rUpdating files:  41% (44/106)\rUpdating files:  42% (45/106)\rUpdating files:  43% (46/106)\rUpdating files:  44% (47/106)\rUpdating files:  45% (48/106)\rUpdating files:  46% (49/106)\rUpdating files:  47% (50/106)\rUpdating files:  48% (51/106)\rUpdating files:  49% (52/106)\rUpdating files:  50% (53/106)\rUpdating files:  51% (55/106)\rUpdating files:  52% (56/106)\rUpdating files:  53% (57/106)\rUpdating files:  54% (58/106)\rUpdating files:  55% (59/106)\rUpdating files:  56% (60/106)\rUpdating files:  57% (61/106)\rUpdating files:  58% (62/106)\rUpdating files:  59% (63/106)\rUpdating files:  60% (64/106)\rUpdating files:  61% (65/106)\rUpdating files:  62% (66/106)\rUpdating files:  63% (67/106)\rUpdating files:  64% (68/106)\rUpdating files:  65% (69/106)\rUpdating files:  66% (70/106)\rUpdating files:  67% (72/106)\rUpdating files:  68% (73/106)\rUpdating files:  69% (74/106)\rUpdating files:  70% (75/106)\rUpdating files:  71% (76/106)\rUpdating files:  72% (77/106)\rUpdating files:  73% (78/106)\rUpdating files:  74% (79/106)\rUpdating files:  75% (80/106)\rUpdating files:  76% (81/106)\rUpdating files:  77% (82/106)\rUpdating files:  78% (83/106)\rUpdating files:  79% (84/106)\rUpdating files:  80% (85/106)\rUpdating files:  81% (86/106)\rUpdating files:  82% (87/106)\rUpdating files:  83% (88/106)\rUpdating files:  84% (90/106)\rUpdating files:  85% (91/106)\rUpdating files:  86% (92/106)\rUpdating files:  87% (93/106)\rUpdating files:  88% (94/106)\rUpdating files:  89% (95/106)\rUpdating files:  90% (96/106)\rUpdating files:  91% (97/106)\rUpdating files:  92% (98/106)\rUpdating files:  93% (99/106)\rUpdating files:  94% (100/106)\rUpdating files:  95% (101/106)\rUpdating files:  96% (102/106)\rUpdating files:  97% (103/106)\rUpdating files:  98% (104/106)\rUpdating files:  99% (105/106)\rUpdating files: 100% (106/106)\rUpdating files: 100% (106/106), done.\r\n"
      ]
     },
     "execution_count": null,
     "metadata": {},
     "output_type": "execute_result"
    }
   ],
   "source": [
    "!git clone https://github.com/OceannTwT/SPA.git"
   ]
  },
  {
   "cell_type": "markdown",
   "id": "fc993d48",
   "metadata": {},
   "source": [
    "### Step 4"
   ]
  },
  {
   "cell_type": "markdown",
   "id": "2acc26a8",
   "metadata": {},
   "source": [
    "**Thought**: [pre-executed by user]"
   ]
  },
  {
   "cell_type": "markdown",
   "id": "282759ea",
   "metadata": {},
   "source": [
    "**Action (None)**:"
   ]
  },
  {
   "cell_type": "code",
   "execution_count": null,
   "id": "916e528e",
   "metadata": {},
   "outputs": [
    {
     "data": {
      "text/plain": [
       "/content/SPA\n/usr/local/lib/python3.10/site-packages/IPython/core/magics/osm.py:417: UserWarning: This is now an optional IPython functionality, setting dhist requires you to install the `pickleshare` library.\n  self.shell.db['dhist'] = compress_dhist(dhist)[-100:]\n"
      ]
     },
     "execution_count": null,
     "metadata": {},
     "output_type": "execute_result"
    }
   ],
   "source": [
    "%cd /content/SPA"
   ]
  },
  {
   "cell_type": "markdown",
   "id": "ac5eef2b",
   "metadata": {},
   "source": [
    "### Step 5"
   ]
  },
  {
   "cell_type": "markdown",
   "id": "8f41211f",
   "metadata": {},
   "source": [
    "**Thought**: [pre-executed by user]"
   ]
  },
  {
   "cell_type": "markdown",
   "id": "e208cffe",
   "metadata": {},
   "source": [
    "**Action (None)**:"
   ]
  },
  {
   "cell_type": "code",
   "execution_count": null,
   "id": "c721f122",
   "metadata": {},
   "outputs": [
    {
     "data": {
      "text/plain": [
       ""
      ]
     },
     "execution_count": null,
     "metadata": {},
     "output_type": "execute_result"
    }
   ],
   "source": [
    "# First attempt to run train script"
   ]
  },
  {
   "cell_type": "markdown",
   "id": "d0ab3f08",
   "metadata": {},
   "source": [
    "### Step 6"
   ]
  },
  {
   "cell_type": "markdown",
   "id": "325cf35a",
   "metadata": {},
   "source": [
    "**Thought**: [pre-executed by user]"
   ]
  },
  {
   "cell_type": "markdown",
   "id": "bd8e21b4",
   "metadata": {},
   "source": [
    "**Action (None)**:"
   ]
  },
  {
   "cell_type": "code",
   "execution_count": null,
   "id": "004944ef",
   "metadata": {},
   "outputs": [
    {
     "data": {
      "text/plain": [
       "./train.sh: line 3: deepspeed: command not found\r\n"
      ]
     },
     "execution_count": null,
     "metadata": {},
     "output_type": "execute_result"
    }
   ],
   "source": [
    "!bash ./train.sh"
   ]
  },
  {
   "cell_type": "markdown",
   "id": "774370de",
   "metadata": {},
   "source": [
    "### Step 7"
   ]
  },
  {
   "cell_type": "markdown",
   "id": "0a518095",
   "metadata": {},
   "source": [
    "**Thought**: [pre-executed by user]"
   ]
  },
  {
   "cell_type": "markdown",
   "id": "d7907108",
   "metadata": {},
   "source": [
    "**Action (None)**:"
   ]
  },
  {
   "cell_type": "code",
   "execution_count": null,
   "id": "e46d2ea4",
   "metadata": {},
   "outputs": [
    {
     "data": {
      "text/plain": [
       ""
      ]
     },
     "execution_count": null,
     "metadata": {},
     "output_type": "execute_result"
    }
   ],
   "source": [
    "# The script uses the `deepspeed` package. To avoid installing it, I run directly the `src/train_bash.py` script. Before doing so, I keep only 10 samples from the dataset to train."
   ]
  },
  {
   "cell_type": "markdown",
   "id": "470accd9",
   "metadata": {},
   "source": [
    "### Step 8"
   ]
  },
  {
   "cell_type": "markdown",
   "id": "392c52b2",
   "metadata": {},
   "source": [
    "**Thought**: [pre-executed by user]"
   ]
  },
  {
   "cell_type": "markdown",
   "id": "13369c9f",
   "metadata": {},
   "source": [
    "**Action (None)**:"
   ]
  },
  {
   "cell_type": "code",
   "execution_count": null,
   "id": "85499b75",
   "metadata": {},
   "outputs": [
    {
     "data": {
      "text/plain": [
       ""
      ]
     },
     "execution_count": null,
     "metadata": {},
     "output_type": "execute_result"
    }
   ],
   "source": [
    "import json\n",
    "\n",
    "n_samples = 10\n",
    "filename = \"data/alpaca_data_en_52k.json\"\n",
    "data = json.load(open(filename))\n",
    "json.dump(data[:n_samples], open(filename, \"w\"), indent=4)"
   ]
  },
  {
   "cell_type": "markdown",
   "id": "be36cd5f",
   "metadata": {},
   "source": [
    "### Step 9"
   ]
  },
  {
   "cell_type": "markdown",
   "id": "ab41099b",
   "metadata": {},
   "source": [
    "**Thought**: [pre-executed by user]"
   ]
  },
  {
   "cell_type": "markdown",
   "id": "2badefea",
   "metadata": {},
   "source": [
    "**Action (None)**:"
   ]
  },
  {
   "cell_type": "code",
   "execution_count": null,
   "id": "f3160c48",
   "metadata": {},
   "outputs": [
    {
     "data": {
      "text/plain": [
       ""
      ]
     },
     "execution_count": null,
     "metadata": {},
     "output_type": "execute_result"
    }
   ],
   "source": [
    "# To run the script `train_bash.py` according to the task requirements, I replace the default model by the one requested (command line arguments `--model_name_or_patch` and `--output_dir`). Also, remove the `--fp16` argument, as it is incompatible with CPU processing."
   ]
  },
  {
   "cell_type": "markdown",
   "id": "89467340",
   "metadata": {},
   "source": [
    "### Step 10"
   ]
  },
  {
   "cell_type": "markdown",
   "id": "badd36f5",
   "metadata": {},
   "source": [
    "**Thought**: [pre-executed by user]"
   ]
  },
  {
   "cell_type": "markdown",
   "id": "4d7d1822",
   "metadata": {},
   "source": [
    "**Action (None)**:"
   ]
  },
  {
   "cell_type": "code",
   "execution_count": null,
   "id": "303f6613",
   "metadata": {},
   "outputs": [
    {
     "data": {
      "text/plain": [
       "Traceback (most recent call last):\r\n  File \"/content/SPA/src/train_bash.py\", line 1, in <module>\r\n    from llmtuner.tuner import get_train_args, run_pt, run_sft, run_rm, run_ppo\r\n  File \"/content/SPA/src/llmtuner/__init__.py\", line 1, in <module>\r\n    from llmtuner.chat import ChatModel\r\n  File \"/content/SPA/src/llmtuner/chat/__init__.py\", line 1, in <module>\r\n    from llmtuner.chat.stream_chat import ChatModel\r\n  File \"/content/SPA/src/llmtuner/chat/stream_chat.py\", line 9, in <module>\r\n    from llmtuner.tuner import load_model_and_tokenizer\r\n  File \"/content/SPA/src/llmtuner/tuner/__init__.py\", line 1, in <module>\r\n    from llmtuner.tuner.core import get_train_args, get_infer_args, load_model_and_tokenizer\r\n  File \"/content/SPA/src/llmtuner/tuner/core/__init__.py\", line 1, in <module>\r\n    from llmtuner.tuner.core.parser import get_train_args, get_infer_args\r\n  File \"/content/SPA/src/llmtuner/tuner/core/parser.py\", line 4, in <module>\r\n    import datasets\r\nModuleNotFoundError: No module named 'datasets'\r\n"
      ]
     },
     "execution_count": null,
     "metadata": {},
     "output_type": "execute_result"
    }
   ],
   "source": [
    "!python src/train_bash.py \\\n",
    "    --stage sft \\\n",
    "    --model_name_or_path openai-community/gpt2 \\\n",
    "    --do_train \\\n",
    "    --dataset alpaca_en \\\n",
    "    --finetuning_type full \\\n",
    "    --output_dir openai-community-gpt2/output \\\n",
    "    --overwrite_cache \\\n",
    "    --per_device_train_batch_size 8 \\\n",
    "    --gradient_accumulation_steps 1 \\\n",
    "    --lr_scheduler_type cosine \\\n",
    "    --logging_steps 10 \\\n",
    "    --save_steps 7000 \\\n",
    "    --learning_rate 2e-4 \\\n",
    "    --num_train_epochs 1.0 \\\n",
    "    --adapter_len 32 \\\n",
    "    --plot_loss"
   ]
  },
  {
   "cell_type": "markdown",
   "id": "f38053a0",
   "metadata": {},
   "source": [
    "### Step 11"
   ]
  },
  {
   "cell_type": "markdown",
   "id": "d61b91ce",
   "metadata": {},
   "source": [
    "**Thought**: [pre-executed by user]"
   ]
  },
  {
   "cell_type": "markdown",
   "id": "430af430",
   "metadata": {},
   "source": [
    "**Action (None)**:"
   ]
  },
  {
   "cell_type": "code",
   "execution_count": null,
   "id": "aef43c2d",
   "metadata": {},
   "outputs": [
    {
     "data": {
      "text/plain": [
       ""
      ]
     },
     "execution_count": null,
     "metadata": {},
     "output_type": "execute_result"
    }
   ],
   "source": [
    "# #### Install dependencies"
   ]
  },
  {
   "cell_type": "markdown",
   "id": "40eab772",
   "metadata": {},
   "source": [
    "### Step 12"
   ]
  },
  {
   "cell_type": "markdown",
   "id": "f399039e",
   "metadata": {},
   "source": [
    "Execution Start time: 05:10:34, End time: 05:10:49 (duration: 15 seconds)"
   ]
  },
  {
   "cell_type": "markdown",
   "id": "3e1ce142",
   "metadata": {},
   "source": [
    "**Thought**: [pre-executed by user]\n",
    "\n"
   ]
  },
  {
   "cell_type": "markdown",
   "id": "43b116c2",
   "metadata": {},
   "source": [
    "**Action (None)**:"
   ]
  },
  {
   "cell_type": "code",
   "execution_count": null,
   "id": "0783437f",
   "metadata": {},
   "outputs": [
    {
     "data": {
      "text/plain": [
       "Requirement already satisfied: torch>=1.13.1 in /usr/local/lib/python3.10/site-packages (from -r requirements.txt (line 1)) (2.2.1+cpu)\nRequirement already satisfied: transformers>=4.29.1 in /usr/local/lib/python3.10/site-packages (from -r requirements.txt (line 2)) (4.40.2)\nCollecting datasets>=2.12.0 (from -r requirements.txt (line 3))\n  Downloading datasets-2.21.0-py3-none-any.whl.metadata (21 kB)\nCollecting accelerate>=0.21.0 (from -r requirements.txt (line 4))\n  Downloading accelerate-0.33.0-py3-none-any.whl.metadata (18 kB)\nCollecting peft>=0.4.0 (from -r requirements.txt (line 5))\n  Downloading peft-0.12.0-py3-none-any.whl.metadata (13 kB)\nCollecting trl>=0.4.7 (from -r requirements.txt (line 6))\n  Downloading trl-0.9.6-py3-none-any.whl.metadata (12 kB)\nRequirement already satisfied: sentencepiece in /usr/local/lib/python3.10/site-packages (from -r requirements.txt (line 7)) (0.1.99)\nRequirement already satisfied: jieba in /usr/local/lib/python3.10/site-packages (from -r requirements.txt (line 8)) (0.42.1)\nCollecting rouge-chinese (from -r requirements.txt (line 9))\n  Downloading rouge_chinese-1.0.3-py3-none-any.whl.metadata (7.6 kB)\nRequirement already satisfied: nltk in /usr/local/lib/python3.10/site-packages (from -r requirements.txt (line 10)) (3.8.1)\nCollecting gradio>=3.36.0 (from -r requirements.txt (line 11))\n  Downloading gradio-4.42.0-py3-none-any.whl.metadata (15 kB)\nCollecting uvicorn (from -r requirements.txt (line 12))\n  Downloading uvicorn-0.30.6-py3-none-any.whl.metadata (6.6 kB)\nCollecting pydantic==1.10.11 (from -r requirements.txt (line 13))\n  Downloading pydantic-1.10.11-cp310-cp310-manylinux_2_17_x86_64.manylinux2014_x86_64.whl.metadata (148 kB)\n\u001b[?25l     ━━━━━━━━━━━━━━━━━━━━━━━━━━━━━━━━━━━━━━━━ 0.0/149.0 kB ? eta -:--:--\n\n\u001b[?25hCollecting fastapi==0.95.1 (from -r requirements.txt (line 14))\n  Downloading fastapi-0.95.1-py3-none-any.whl.metadata (24 kB)\nCollecting sse-starlette (from -r requirements.txt (line 15))\n  Downloading sse_starlette-2.1.3-py3-none-any.whl.metadata (5.8 kB)\nRequirement already satisfied: matplotlib in /usr/local/lib/python3.10/site-packages (from -r requirements.txt (line 16)) (3.7.1)\nRequirement already satisfied: typing-extensions>=4.2.0 in /usr/local/lib/python3.10/site-packages (from pydantic==1.10.11->-r requirements.txt (line 13)) (4.12.2)\nCollecting starlette<0.27.0,>=0.26.1 (from fastapi==0.95.1->-r requirements.txt (line 14))\n  Downloading starlette-0.26.1-py3-none-any.whl.metadata (5.8 kB)\nRequirement already satisfied: filelock in /usr/local/lib/python3.10/site-packages (from torch>=1.13.1->-r requirements.txt (line 1)) (3.15.1)\nRequirement already satisfied: sympy in /usr/local/lib/python3.10/site-packages (from torch>=1.13.1->-r requirements.txt (line 1)) (1.12)\nRequirement already satisfied: networkx in /usr/local/lib/python3.10/site-packages (from torch>=1.13.1->-r requirements.txt (line 1)) (3.3)\nRequirement already satisfied: jinja2 in /usr/local/lib/python3.10/site-packages (from torch>=1.13.1->-r requirements.txt (line 1)) (3.1.4)\nRequirement already satisfied: fsspec in /usr/local/lib/python3.10/site-packages (from torch>=1.13.1->-r requirements.txt (line 1)) (2023.6.0)\nRequirement already satisfied: huggingface-hub<1.0,>=0.19.3 in /usr/local/lib/python3.10/site-packages (from transformers>=4.29.1->-r requirements.txt (line 2)) (0.23.3)\nRequirement already satisfied: numpy>=1.17 in /usr/local/lib/python3.10/site-packages (from transformers>=4.29.1->-r requirements.txt (line 2)) (1.25.2)\nRequirement already satisfied: packaging>=20.0 in /usr/local/lib/python3.10/site-packages (from transformers>=4.29.1->-r requirements.txt (line 2)) (24.1)\nRequirement already satisfied: pyyaml>=5.1 in /usr/local/lib/python3.10/site-packages (from transformers>=4.29.1->-r requirements.txt (line 2)) (6.0.1)\nRequirement already satisfied: regex!=2019.12.17 in /usr/local/lib/python3.10/site-packages (from transformers>=4.29.1->-r requirements.txt (line 2)) (2023.12.25)\nRequirement already satisfied: requests in /usr/local/lib/python3.10/site-packages (from transformers>=4.29.1->-r requirements.txt (line 2)) (2.31.0)\nRequirement already satisfied: tokenizers<0.20,>=0.19 in /usr/local/lib/python3.10/site-packages (from transformers>=4.29.1->-r requirements.txt (line 2)) (0.19.1)\nRequirement already satisfied: safetensors>=0.4.1 in /usr/local/lib/python3.10/site-packages (from transformers>=4.29.1->-r requirements.txt (line 2)) (0.4.3)\nRequirement already satisfied: tqdm>=4.27 in /usr/local/lib/python3.10/site-packages (from transformers>=4.29.1->-r requirements.txt (line 2)) (4.66.4)\nCollecting pyarrow>=15.0.0 (from datasets>=2.12.0->-r requirements.txt (line 3))\n  Downloading pyarrow-17.0.0-cp310-cp310-manylinux_2_28_x86_64.whl.metadata (3.3 kB)\nCollecting dill<0.3.9,>=0.3.0 (from datasets>=2.12.0->-r requirements.txt (line 3))\n  Downloading dill-0.3.8-py3-none-any.whl.metadata (10 kB)\nRequirement already satisfied: pandas in /usr/local/lib/python3.10/site-packages (from datasets>=2.12.0->-r requirements.txt (line 3)) (2.0.3)\nCollecting requests (from transformers>=4.29.1->-r requirements.txt (line 2))\n  Downloading requests-2.32.3-py3-none-any.whl.metadata (4.6 kB)\nCollecting xxhash (from datasets>=2.12.0->-r requirements.txt (line 3))\n  Downloading xxhash-3.5.0-cp310-cp310-manylinux_2_17_x86_64.manylinux2014_x86_64.whl.metadata (12 kB)\nCollecting multiprocess (from datasets>=2.12.0->-r requirements.txt (line 3))\n  Downloading multiprocess-0.70.16-py310-none-any.whl.metadata (7.2 kB)\nRequirement already satisfied: aiohttp in /usr/local/lib/python3.10/site-packages (from datasets>=2.12.0->-r requirements.txt (line 3)) (3.8.3)\nRequirement already satisfied: psutil in /usr/local/lib/python3.10/site-packages (from accelerate>=0.21.0->-r requirements.txt (line 4)) (5.9.8)\nCollecting tyro>=0.5.11 (from trl>=0.4.7->-r requirements.txt (line 6))\n  Downloading tyro-0.8.8-py3-none-any.whl.metadata (8.4 kB)\nRequirement already satisfied: six in /usr/local/lib/python3.10/site-packages (from rouge-chinese->-r requirements.txt (line 9)) (1.16.0)\nRequirement already satisfied: click in /usr/local/lib/python3.10/site-packages (from nltk->-r requirements.txt (line 10)) (8.1.7)\nRequirement already satisfied: joblib in /usr/local/lib/python3.10/site-packages (from nltk->-r requirements.txt (line 10)) (1.4.2)\nCollecting aiofiles<24.0,>=22.0 (from gradio>=3.36.0->-r requirements.txt (line 11))\n  Downloading aiofiles-23.2.1-py3-none-any.whl.metadata (9.7 kB)\nRequirement already satisfied: anyio<5.0,>=3.0 in /usr/local/lib/python3.10/site-packages (from gradio>=3.36.0->-r requirements.txt (line 11)) (4.4.0)\nCollecting ffmpy (from gradio>=3.36.0->-r requirements.txt (line 11))\n  Downloading ffmpy-0.4.0-py3-none-any.whl.metadata (2.9 kB)\nCollecting gradio-client==1.3.0 (from gradio>=3.36.0->-r requirements.txt (line 11))\n  Downloading gradio_client-1.3.0-py3-none-any.whl.metadata (7.1 kB)\nRequirement already satisfied: httpx>=0.24.1 in /usr/local/lib/python3.10/site-packages (from gradio>=3.36.0->-r requirements.txt (line 11)) (0.27.0)\nCollecting importlib-resources<7.0,>=1.3 (from gradio>=3.36.0->-r requirements.txt (line 11))\n  Downloading importlib_resources-6.4.4-py3-none-any.whl.metadata (4.0 kB)\nRequirement already satisfied: markupsafe~=2.0 in /usr/local/lib/python3.10/site-packages (from gradio>=3.36.0->-r requirements.txt (line 11)) (2.1.5)\nCollecting orjson~=3.0 (from gradio>=3.36.0->-r requirements.txt (line 11))\n  Downloading orjson-3.10.7-cp310-cp310-manylinux_2_17_x86_64.manylinux2014_x86_64.whl.metadata (50 kB)\n\u001b[?25l     ━━━━━━━━━━━━━━━━━━━━━━━━━━━━━━━━━━━━━━━━ 0.0/50.4 kB ? eta -:--:--\n\n\u001b[?25hRequirement already satisfied: pillow<11.0,>=8.0 in /usr/local/lib/python3.10/site-packages (from gradio>=3.36.0->-r requirements.txt (line 11)) (10.3.0)\nINFO: pip is looking at multiple versions of gradio to determine which version is compatible with other requirements. This could take a while.\nCollecting gradio>=3.36.0 (from -r requirements.txt (line 11))\n  Downloading gradio-4.41.0-py3-none-any.whl.metadata (15 kB)\n  Downloading gradio-4.40.0-py3-none-any.whl.metadata (15 kB)\nCollecting gradio-client==1.2.0 (from gradio>=3.36.0->-r requirements.txt (line 11))\n  Downloading gradio_client-1.2.0-py3-none-any.whl.metadata (7.1 kB)\nCollecting gradio>=3.36.0 (from -r requirements.txt (line 11))\n  Downloading gradio-4.39.0-py3-none-any.whl.metadata (15 kB)\nCollecting gradio-client==1.1.1 (from gradio>=3.36.0->-r requirements.txt (line 11))\n  Downloading gradio_client-1.1.1-py3-none-any.whl.metadata (7.1 kB)\nCollecting gradio>=3.36.0 (from -r requirements.txt (line 11))\n  Downloading gradio-4.38.1-py3-none-any.whl.metadata (15 kB)\nCollecting altair<6.0,>=5.0 (from gradio>=3.36.0->-r requirements.txt (line 11))\n  Downloading altair-5.4.0-py3-none-any.whl.metadata (9.4 kB)\nCollecting gradio-client==1.1.0 (from gradio>=3.36.0->-r requirements.txt (line 11))\n  Downloading gradio_client-1.1.0-py3-none-any.whl.metadata (7.1 kB)\nCollecting gradio>=3.36.0 (from -r requirements.txt (line 11))\n  Downloading gradio-4.38.0-py3-none-any.whl.metadata (15 kB)\n  Downloading gradio-4.37.2-py3-none-any.whl.metadata (15 kB)\nCollecting gradio-client==1.0.2 (from gradio>=3.36.0->-r requirements.txt (line 11))\n  Downloading gradio_client-1.0.2-py3-none-any.whl.metadata (7.1 kB)\nCollecting gradio>=3.36.0 (from -r requirements.txt (line 11))\n  Downloading gradio-4.37.1-py3-none-any.whl.metadata (15 kB)\nINFO: pip is still looking at multiple versions of gradio to determine which version is compatible with other requirements. This could take a while.\n  Downloading gradio-4.36.1-py3-none-any.whl.metadata (15 kB)\nCollecting gradio-client==1.0.1 (from gradio>=3.36.0->-r requirements.txt (line 11))\n  Downloading gradio_client-1.0.1-py3-none-any.whl.metadata (7.1 kB)\nCollecting gradio>=3.36.0 (from -r requirements.txt (line 11))\n  Downloading gradio-4.36.0-py3-none-any.whl.metadata (15 kB)\n  Downloading gradio-4.35.0-py3-none-any.whl.metadata (15 kB)\n  Downloading gradio-4.33.0-py3-none-any.whl.metadata (15 kB)\nCollecting gradio-client==0.17.0 (from gradio>=3.36.0->-r requirements.txt (line 11))\n  Downloading gradio_client-0.17.0-py3-none-any.whl.metadata (7.1 kB)\nCollecting gradio>=3.36.0 (from -r requirements.txt (line 11))\n  Downloading gradio-4.32.2-py3-none-any.whl.metadata (15 kB)\nINFO: This is taking longer than usual. You might need to provide the dependency resolver with stricter constraints to reduce runtime. See https://pip.pypa.io/warnings/backtracking for guidance. If you want to abort this run, press Ctrl + C.\n  Downloading gradio-4.32.1-py3-none-any.whl.metadata (15 kB)\n  Downloading gradio-4.32.0-py3-none-any.whl.metadata (15 kB)\n  Downloading gradio-4.31.5-py3-none-any.whl.metadata (15 kB)\nCollecting gradio-client==0.16.4 (from gradio>=3.36.0->-r requirements.txt (line 11))\n  Downloading gradio_client-0.16.4-py3-none-any.whl.metadata (7.1 kB)\nCollecting gradio>=3.36.0 (from -r requirements.txt (line 11))\n  Downloading gradio-4.31.4-py3-none-any.whl.metadata (15 kB)\n  Downloading gradio-4.31.3-py3-none-any.whl.metadata (15 kB)\nCollecting gradio-client==0.16.3 (from gradio>=3.36.0->-r requirements.txt (line 11))\n  Downloading gradio_client-0.16.3-py3-none-any.whl.metadata (7.1 kB)\nCollecting gradio>=3.36.0 (from -r requirements.txt (line 11))\n  Downloading gradio-4.31.2-py3-none-any.whl.metadata (15 kB)\n  Downloading gradio-4.31.1-py3-none-any.whl.metadata (15 kB)\n  Downloading gradio-4.31.0-py3-none-any.whl.metadata (15 kB)\nCollecting gradio-client==0.16.2 (from gradio>=3.36.0->-r requirements.txt (line 11))\n  Downloading gradio_client-0.16.2-py3-none-any.whl.metadata (7.1 kB)\nCollecting gradio>=3.36.0 (from -r requirements.txt (line 11))\n  Downloading gradio-4.29.0-py3-none-any.whl.metadata (15 kB)\nCollecting gradio-client==0.16.1 (from gradio>=3.36.0->-r requirements.txt (line 11))\n  Downloading gradio_client-0.16.1-py3-none-any.whl.metadata (7.1 kB)\nCollecting gradio>=3.36.0 (from -r requirements.txt (line 11))\n  Downloading gradio-4.28.3-py3-none-any.whl.metadata (15 kB)\nCollecting gradio-client==0.16.0 (from gradio>=3.36.0->-r requirements.txt (line 11))\n  Downloading gradio_client-0.16.0-py3-none-any.whl.metadata (7.1 kB)\nCollecting gradio>=3.36.0 (from -r requirements.txt (line 11))\n  Downloading gradio-4.28.2-py3-none-any.whl.metadata (15 kB)\n  Downloading gradio-4.28.1-py3-none-any.whl.metadata (15 kB)\n  Downloading gradio-4.28.0-py3-none-any.whl.metadata (15 kB)\n  Downloading gradio-4.27.0-py3-none-any.whl.metadata (15 kB)\nCollecting gradio-client==0.15.1 (from gradio>=3.36.0->-r requirements.txt (line 11))\n  Downloading gradio_client-0.15.1-py3-none-any.whl.metadata (7.1 kB)\nCollecting gradio>=3.36.0 (from -r requirements.txt (line 11))\n  Downloading gradio-4.26.0-py3-none-any.whl.metadata (15 kB)\n  Downloading gradio-4.25.0-py3-none-any.whl.metadata (15 kB)\nCollecting gradio-client==0.15.0 (from gradio>=3.36.0->-r requirements.txt (line 11))\n  Downloading gradio_client-0.15.0-py3-none-any.whl.metadata (7.1 kB)\nCollecting gradio>=3.36.0 (from -r requirements.txt (line 11))\n  Downloading gradio-4.24.0-py3-none-any.whl.metadata (15 kB)\nCollecting gradio-client==0.14.0 (from gradio>=3.36.0->-r requirements.txt (line 11))\n  Downloading gradio_client-0.14.0-py3-none-any.whl.metadata (7.1 kB)\nCollecting gradio>=3.36.0 (from -r requirements.txt (line 11))\n  Downloading gradio-4.23.0-py3-none-any.whl.metadata (15 kB)\n  Downloading gradio-4.22.0-py3-none-any.whl.metadata (15 kB)\nCollecting gradio-client==0.13.0 (from gradio>=3.36.0->-r requirements.txt (line 11))\n  Downloading gradio_client-0.13.0-py3-none-any.whl.metadata (7.1 kB)\nCollecting gradio>=3.36.0 (from -r requirements.txt (line 11))\n  Downloading gradio-4.21.0-py3-none-any.whl.metadata (15 kB)\nCollecting gradio-client==0.12.0 (from gradio>=3.36.0->-r requirements.txt (line 11))\n  Downloading gradio_client-0.12.0-py3-none-any.whl.metadata (7.1 kB)\nCollecting gradio>=3.36.0 (from -r requirements.txt (line 11))\n  Downloading gradio-4.20.1-py3-none-any.whl.metadata (15 kB)\nCollecting gradio-client==0.11.0 (from gradio>=3.36.0->-r requirements.txt (line 11))\n  Downloading gradio_client-0.11.0-py3-none-any.whl.metadata (7.1 kB)\nCollecting gradio>=3.36.0 (from -r requirements.txt (line 11))\n  Downloading gradio-4.20.0-py3-none-any.whl.metadata (15 kB)\n  Downloading gradio-4.19.2-py3-none-any.whl.metadata (15 kB)\nCollecting gradio-client==0.10.1 (from gradio>=3.36.0->-r requirements.txt (line 11))\n  Downloading gradio_client-0.10.1-py3-none-any.whl.metadata (7.1 kB)\nCollecting gradio>=3.36.0 (from -r requirements.txt (line 11))\n  Downloading gradio-4.19.1-py3-none-any.whl.metadata (15 kB)\nCollecting gradio-client==0.10.0 (from gradio>=3.36.0->-r requirements.txt (line 11))\n  Downloading gradio_client-0.10.0-py3-none-any.whl.metadata (7.1 kB)\nCollecting gradio>=3.36.0 (from -r requirements.txt (line 11))\n  Downloading gradio-4.19.0-py3-none-any.whl.metadata (15 kB)\n  Downloading gradio-4.18.0-py3-none-any.whl.metadata (15 kB)\n  Downloading gradio-4.17.0-py3-none-any.whl.metadata (15 kB)\nCollecting gradio-client==0.9.0 (from gradio>=3.36.0->-r requirements.txt (line 11))\n  Downloading gradio_client-0.9.0-py3-none-any.whl.metadata (7.1 kB)\nCollecting gradio>=3.36.0 (from -r requirements.txt (line 11))\n  Downloading gradio-4.16.0-py3-none-any.whl.metadata (15 kB)\nCollecting gradio-client==0.8.1 (from gradio>=3.36.0->-r requirements.txt (line 11))\n  Downloading gradio_client-0.8.1-py3-none-any.whl.metadata (7.1 kB)\nCollecting gradio>=3.36.0 (from -r requirements.txt (line 11))\n  Downloading gradio-4.15.0-py3-none-any.whl.metadata (15 kB)\n  Downloading gradio-4.14.0-py3-none-any.whl.metadata (15 kB)\nCollecting gradio-client==0.8.0 (from gradio>=3.36.0->-r requirements.txt (line 11))\n  Downloading gradio_client-0.8.0-py3-none-any.whl.metadata (7.1 kB)\nCollecting gradio>=3.36.0 (from -r requirements.txt (line 11))\n  Downloading gradio-4.13.0-py3-none-any.whl.metadata (15 kB)\n  Downloading gradio-4.12.0-py3-none-any.whl.metadata (15 kB)\n  Downloading gradio-4.11.0-py3-none-any.whl.metadata (17 kB)\nCollecting gradio-client==0.7.3 (from gradio>=3.36.0->-r requirements.txt (line 11))\n  Downloading gradio_client-0.7.3-py3-none-any.whl.metadata (7.0 kB)\nCollecting gradio>=3.36.0 (from -r requirements.txt (line 11))\n  Downloading gradio-4.10.0-py3-none-any.whl.metadata (17 kB)\n  Downloading gradio-4.9.1-py3-none-any.whl.metadata (17 kB)\n  Downloading gradio-4.9.0-py3-none-any.whl.metadata (17 kB)\nCollecting gradio-client==0.7.2 (from gradio>=3.36.0->-r requirements.txt (line 11))\n  Downloading gradio_client-0.7.2-py3-none-any.whl.metadata (7.0 kB)\nCollecting gradio>=3.36.0 (from -r requirements.txt (line 11))\n  Downloading gradio-4.8.0-py3-none-any.whl.metadata (17 kB)\nCollecting gradio-client==0.7.1 (from gradio>=3.36.0->-r requirements.txt (line 11))\n  Downloading gradio_client-0.7.1-py3-none-any.whl.metadata (7.1 kB)\nCollecting gradio>=3.36.0 (from -r requirements.txt (line 11))\n  Downloading gradio-4.7.1-py3-none-any.whl.metadata (17 kB)\nCollecting gradio-client==0.7.0 (from gradio>=3.36.0->-r requirements.txt (line 11))\n  Downloading gradio_client-0.7.0-py3-none-any.whl.metadata (7.1 kB)\nCollecting gradio>=3.36.0 (from -r requirements.txt (line 11))\n  Downloading gradio-4.5.0-py3-none-any.whl.metadata (17 kB)\n  Downloading gradio-4.4.1-py3-none-any.whl.metadata (17 kB)\n  Downloading gradio-4.4.0-py3-none-any.whl.metadata (17 kB)\n  Downloading gradio-4.3.0-py3-none-any.whl.metadata (17 kB)\n  Downloading gradio-4.2.0-py3-none-any.whl.metadata (17 kB)\n  Downloading gradio-4.1.2-py3-none-any.whl.metadata (17 kB)\n  Downloading gradio-4.1.1-py3-none-any.whl.metadata (17 kB)\n  Downloading gradio-4.1.0-py3-none-any.whl.metadata (17 kB)\n  Downloading gradio-4.0.2-py3-none-any.whl.metadata (17 kB)\n  Downloading gradio-4.0.1-py3-none-any.whl.metadata (17 kB)\n  Downloading gradio-4.0.0-py3-none-any.whl.metadata (17 kB)\n  Downloading gradio-3.50.2-py3-none-any.whl.metadata (17 kB)\nCollecting gradio-client==0.6.1 (from gradio>=3.36.0->-r requirements.txt (line 11))\n  Downloading gradio_client-0.6.1-py3-none-any.whl.metadata (7.1 kB)\nCollecting pydub (from gradio>=3.36.0->-r requirements.txt (line 11))\n  Downloading pydub-0.25.1-py2.py3-none-any.whl.metadata (1.4 kB)\nRequirement already satisfied: python-multipart in /usr/local/lib/python3.10/site-packages (from gradio>=3.36.0->-r requirements.txt (line 11)) (0.0.9)\nCollecting semantic-version~=2.0 (from gradio>=3.36.0->-r requirements.txt (line 11))\n  Downloading semantic_version-2.10.0-py2.py3-none-any.whl.metadata (9.7 kB)\nCollecting websockets<12.0,>=10.0 (from gradio>=3.36.0->-r requirements.txt (line 11))\n  Downloading websockets-11.0.3-cp310-cp310-manylinux_2_5_x86_64.manylinux1_x86_64.manylinux_2_17_x86_64.manylinux2014_x86_64.whl.metadata (6.6 kB)\nRequirement already satisfied: h11>=0.8 in /usr/local/lib/python3.10/site-packages (from uvicorn->-r requirements.txt (line 12)) (0.14.0)\nRequirement already satisfied: contourpy>=1.0.1 in /usr/local/lib/python3.10/site-packages (from matplotlib->-r requirements.txt (line 16)) (1.2.1)\nRequirement already satisfied: cycler>=0.10 in /usr/local/lib/python3.10/site-packages (from matplotlib->-r requirements.txt (line 16)) (0.12.1)\nRequirement already satisfied: fonttools>=4.22.0 in /usr/local/lib/python3.10/site-packages (from matplotlib->-r requirements.txt (line 16)) (4.53.0)\nRequirement already satisfied: kiwisolver>=1.0.1 in /usr/local/lib/python3.10/site-packages (from matplotlib->-r requirements.txt (line 16)) (1.4.5)\nRequirement already satisfied: pyparsing>=2.3.1 in /usr/local/lib/python3.10/site-packages (from matplotlib->-r requirements.txt (line 16)) (3.1.2)\nRequirement already satisfied: python-dateutil>=2.7 in /usr/local/lib/python3.10/site-packages (from matplotlib->-r requirements.txt (line 16)) (2.9.0.post0)\nRequirement already satisfied: jsonschema>=3.0 in /usr/local/lib/python3.10/site-packages (from altair<6.0,>=5.0->gradio>=3.36.0->-r requirements.txt (line 11)) (4.22.0)\nCollecting narwhals>=1.1.0 (from altair<6.0,>=5.0->gradio>=3.36.0->-r requirements.txt (line 11))\n  Downloading narwhals-1.5.2-py3-none-any.whl.metadata (5.6 kB)\nRequirement already satisfied: attrs>=17.3.0 in /usr/local/lib/python3.10/site-packages (from aiohttp->datasets>=2.12.0->-r requirements.txt (line 3)) (23.2.0)\nRequirement already satisfied: charset-normalizer<3.0,>=2.0 in /usr/local/lib/python3.10/site-packages (from aiohttp->datasets>=2.12.0->-r requirements.txt (line 3)) (2.1.1)\nRequirement already satisfied: multidict<7.0,>=4.5 in /usr/local/lib/python3.10/site-packages (from aiohttp->datasets>=2.12.0->-r requirements.txt (line 3)) (6.0.5)\nRequirement already satisfied: async-timeout<5.0,>=4.0.0a3 in /usr/local/lib/python3.10/site-packages (from aiohttp->datasets>=2.12.0->-r requirements.txt (line 3)) (4.0.3)\nRequirement already satisfied: yarl<2.0,>=1.0 in /usr/local/lib/python3.10/site-packages (from aiohttp->datasets>=2.12.0->-r requirements.txt (line 3)) (1.9.4)\nRequirement already satisfied: frozenlist>=1.1.1 in /usr/local/lib/python3.10/site-packages (from aiohttp->datasets>=2.12.0->-r requirements.txt (line 3)) (1.4.1)\nRequirement already satisfied: aiosignal>=1.1.2 in /usr/local/lib/python3.10/site-packages (from aiohttp->datasets>=2.12.0->-r requirements.txt (line 3)) (1.3.1)\nRequirement already satisfied: pytz>=2020.1 in /usr/local/lib/python3.10/site-packages (from pandas->datasets>=2.12.0->-r requirements.txt (line 3)) (2024.1)\nRequirement already satisfied: tzdata>=2022.1 in /usr/local/lib/python3.10/site-packages (from pandas->datasets>=2.12.0->-r requirements.txt (line 3)) (2024.1)\nRequirement already satisfied: idna<4,>=2.5 in /usr/local/lib/python3.10/site-packages (from requests->transformers>=4.29.1->-r requirements.txt (line 2)) (3.7)\nRequirement already satisfied: urllib3<3,>=1.21.1 in /usr/local/lib/python3.10/site-packages (from requests->transformers>=4.29.1->-r requirements.txt (line 2)) (2.0.7)\nRequirement already satisfied: certifi>=2017.4.17 in /usr/local/lib/python3.10/site-packages (from requests->transformers>=4.29.1->-r requirements.txt (line 2)) (2024.6.2)\nRequirement already satisfied: sniffio>=1.1 in /usr/local/lib/python3.10/site-packages (from anyio<5.0,>=3.0->gradio>=3.36.0->-r requirements.txt (line 11)) (1.3.1)\nRequirement already satisfied: exceptiongroup>=1.0.2 in /usr/local/lib/python3.10/site-packages (from anyio<5.0,>=3.0->gradio>=3.36.0->-r requirements.txt (line 11)) (1.2.1)\nCollecting docstring-parser>=0.16 (from tyro>=0.5.11->trl>=0.4.7->-r requirements.txt (line 6))\n  Downloading docstring_parser-0.16-py3-none-any.whl.metadata (3.0 kB)\nRequirement already satisfied: rich>=11.1.0 in /usr/local/lib/python3.10/site-packages (from tyro>=0.5.11->trl>=0.4.7->-r requirements.txt (line 6)) (12.3.0)\nCollecting shtab>=1.5.6 (from tyro>=0.5.11->trl>=0.4.7->-r requirements.txt (line 6))\n  Downloading shtab-1.7.1-py3-none-any.whl.metadata (7.3 kB)\nRequirement already satisfied: httpcore==1.* in /usr/local/lib/python3.10/site-packages (from httpx>=0.24.1->gradio>=3.36.0->-r requirements.txt (line 11)) (1.0.5)\nRequirement already satisfied: mpmath>=0.19 in /usr/local/lib/python3.10/site-packages (from sympy->torch>=1.13.1->-r requirements.txt (line 1)) (1.3.0)\nRequirement already satisfied: jsonschema-specifications>=2023.03.6 in /usr/local/lib/python3.10/site-packages (from jsonschema>=3.0->altair<6.0,>=5.0->gradio>=3.36.0->-r requirements.txt (line 11)) (2023.12.1)\nRequirement already satisfied: referencing>=0.28.4 in /usr/local/lib/python3.10/site-packages (from jsonschema>=3.0->altair<6.0,>=5.0->gradio>=3.36.0->-r requirements.txt (line 11)) (0.35.1)\nRequirement already satisfied: rpds-py>=0.7.1 in /usr/local/lib/python3.10/site-packages (from jsonschema>=3.0->altair<6.0,>=5.0->gradio>=3.36.0->-r requirements.txt (line 11)) (0.18.1)\nRequirement already satisfied: commonmark<0.10.0,>=0.9.0 in /usr/local/lib/python3.10/site-packages (from rich>=11.1.0->tyro>=0.5.11->trl>=0.4.7->-r requirements.txt (line 6)) (0.9.1)\nRequirement already satisfied: pygments<3.0.0,>=2.6.0 in /usr/local/lib/python3.10/site-packages (from rich>=11.1.0->tyro>=0.5.11->trl>=0.4.7->-r requirements.txt (line 6)) (2.18.0)\nDownloading pydantic-1.10.11-cp310-cp310-manylinux_2_17_x86_64.manylinux2014_x86_64.whl (3.1 MB)\n\u001b[?25l   ━━━━━━━━━━━━━━━━━━━━━━━━━━━━━━━━━━━━━━━━ 0.0/3.1 MB ? eta -:--:--\n\n\u001b[?25hDownloading fastapi-0.95.1-py3-none-any.whl (56 kB)\n\u001b[?25l   ━━━━━━━━━━━━━━━━━━━━━━━━━━━━━━━━━━━━━━━━ 0.0/57.0 kB ? eta -:--:--\n\n\u001b[?25hDownloading datasets-2.21.0-py3-none-any.whl (527 kB)\n\u001b[?25l   ━━━━━━━━━━━━━━━━━━━━━━━━━━━━━━━━━━━━━━━━ 0.0/527.3 kB ? eta -:--:--\n\n\u001b[?25hDownloading accelerate-0.33.0-py3-none-any.whl (315 kB)\n\u001b[?25l   ━━━━━━━━━━━━━━━━━━━━━━━━━━━━━━━━━━━━━━━━ 0.0/315.1 kB ? eta -:--:--\n\n\u001b[?25hDownloading peft-0.12.0-py3-none-any.whl (296 kB)\n\u001b[?25l   ━━━━━━━━━━━━━━━━━━━━━━━━━━━━━━━━━━━━━━━━ 0.0/296.4 kB ? eta -:--:--\n\n\u001b[?25hDownloading trl-0.9.6-py3-none-any.whl (245 kB)\n\u001b[?25l   ━━━━━━━━━━━━━━━━━━━━━━━━━━━━━━━━━━━━━━━━ 0.0/245.8 kB ? eta -:--:--\n\n\u001b[?25hDownloading rouge_chinese-1.0.3-py3-none-any.whl (21 kB)\nDownloading gradio-3.50.2-py3-none-any.whl (20.3 MB)\n\u001b[?25l   ━━━━━━━━━━━━━━━━━━━━━━━━━━━━━━━━━━━━━━━━ 0.0/20.3 MB ? eta -:--:--\n\n\n\u001b[?25hDownloading gradio_client-0.6.1-py3-none-any.whl (299 kB)\n\u001b[?25l   ━━━━━━━━━━━━━━━━━━━━━━━━━━━━━━━━━━━━━━━━ 0.0/299.2 kB ? eta -:--:--\n\n\u001b[?25hDownloading uvicorn-0.30.6-py3-none-any.whl (62 kB)\n\u001b[?25l   ━━━━━━━━━━━━━━━━━━━━━━━━━━━━━━━━━━━━━━━━ 0.0/62.8 kB ? eta -:--:--\n\n\u001b[?25hDownloading sse_starlette-2.1.3-py3-none-any.whl (9.4 kB)\nDownloading aiofiles-23.2.1-py3-none-any.whl (15 kB)\nDownloading altair-5.4.0-py3-none-any.whl (671 kB)\n\u001b[?25l   ━━━━━━━━━━━━━━━━━━━━━━━━━━━━━━━━━━━━━━━━ 0.0/671.7 kB ? eta -:--:--\n\n\u001b[?25hDownloading dill-0.3.8-py3-none-any.whl (116 kB)\n\u001b[?25l   ━━━━━━━━━━━━━━━━━━━━━━━━━━━━━━━━━━━━━━━━ 0.0/116.3 kB ? eta -:--:--\n\n\u001b[?25hDownloading importlib_resources-6.4.4-py3-none-any.whl (35 kB)\nDownloading orjson-3.10.7-cp310-cp310-manylinux_2_17_x86_64.manylinux2014_x86_64.whl (141 kB)\n\u001b[?25l   ━━━━━━━━━━━━━━━━━━━━━━━━━━━━━━━━━━━━━━━━ 0.0/141.9 kB ? eta -:--:--\n\n\u001b[?25hDownloading pyarrow-17.0.0-cp310-cp310-manylinux_2_28_x86_64.whl (39.9 MB)\n\u001b[?25l   ━━━━━━━━━━━━━━━━━━━━━━━━━━━━━━━━━━━━━━━━ 0.0/39.9 MB ? eta -:--:--\n\n\n\n\n\n\u001b[?25hDownloading requests-2.32.3-py3-none-any.whl (64 kB)\n\u001b[?25l   ━━━━━━━━━━━━━━━━━━━━━━━━━━━━━━━━━━━━━━━━ 0.0/64.9 kB ? eta -:--:--\n\n\u001b[?25hDownloading semantic_version-2.10.0-py2.py3-none-any.whl (15 kB)\nDownloading starlette-0.26.1-py3-none-any.whl (66 kB)\n\u001b[?25l   ━━━━━━━━━━━━━━━━━━━━━━━━━━━━━━━━━━━━━━━━ 0.0/66.9 kB ? eta -:--:--\n\n\u001b[?25hDownloading tyro-0.8.8-py3-none-any.whl (104 kB)\n\u001b[?25l   ━━━━━━━━━━━━━━━━━━━━━━━━━━━━━━━━━━━━━━━━ 0.0/104.6 kB ? eta -:--:--\n\n\u001b[?25hDownloading websockets-11.0.3-cp310-cp310-manylinux_2_5_x86_64.manylinux1_x86_64.manylinux_2_17_x86_64.manylinux2014_x86_64.whl (129 kB)\n\u001b[?25l   ━━━━━━━━━━━━━━━━━━━━━━━━━━━━━━━━━━━━━━━━ 0.0/129.9 kB ? eta -:--:--\n\n\u001b[?25hDownloading ffmpy-0.4.0-py3-none-any.whl (5.8 kB)\nDownloading multiprocess-0.70.16-py310-none-any.whl (134 kB)\n\u001b[?25l   ━━━━━━━━━━━━━━━━━━━━━━━━━━━━━━━━━━━━━━━━ 0.0/134.8 kB ? eta -:--:--\n\n\u001b[?25hDownloading pydub-0.25.1-py2.py3-none-any.whl (32 kB)\nDownloading xxhash-3.5.0-cp310-cp310-manylinux_2_17_x86_64.manylinux2014_x86_64.whl (194 kB)\n\u001b[?25l   ━━━━━━━━━━━━━━━━━━━━━━━━━━━━━━━━━━━━━━━━ 0.0/194.1 kB ? eta -:--:--\n\n\u001b[?25hDownloading docstring_parser-0.16-py3-none-any.whl (36 kB)\nDownloading narwhals-1.5.2-py3-none-any.whl (145 kB)\n\u001b[?25l   ━━━━━━━━━━━━━━━━━━━━━━━━━━━━━━━━━━━━━━━━ 0.0/145.6 kB ? eta -:--:--\n\n\u001b[?25hDownloading shtab-1.7.1-py3-none-any.whl (14 kB)\nInstalling collected packages: pydub, xxhash, websockets, uvicorn, shtab, semantic-version, rouge-chinese, requests, pydantic, pyarrow, orjson, narwhals, importlib-resources, ffmpy, docstring-parser, dill, aiofiles, tyro, starlette, multiprocess, sse-starlette, gradio-client, fastapi, accelerate, datasets, altair, trl, peft, gradio\n  Attempting uninstall: requests\n    Found existing installation: requests 2.31.0\n    Uninstalling requests-2.31.0:\n      Successfully uninstalled requests-2.31.0\n  Attempting uninstall: pydantic\n    Found existing installation: pydantic 1.10.16\n    Uninstalling pydantic-1.10.16:\n      Successfully uninstalled pydantic-1.10.16\n  Attempting uninstall: starlette\n    Found existing installation: starlette 0.22.0\n    Uninstalling starlette-0.22.0:\n      Successfully uninstalled starlette-0.22.0\n  Attempting uninstall: fastapi\n    Found existing installation: fastapi 0.88.0\n    Uninstalling fastapi-0.88.0:\n      Successfully uninstalled fastapi-0.88.0\nERROR: pip's dependency resolver does not currently take into account all the packages that are installed. This behaviour is the source of the following dependency conflicts.\nmodal 0.62.65 requires synchronicity~=0.6.5, which is not installed.\nmodal 0.62.65 requires watchfiles, which is not installed.\nmodal 0.62.65 requires aiostream~=0.5.2, but you have aiostream 0.4.4 which is incompatible.\nmodal 0.62.65 requires grpclib==0.4.7, but you have grpclib 0.4.3 which is incompatible.\nmodal 0.62.65 requires typer~=0.9.0, but you have typer 0.6.1 which is incompatible.\nSuccessfully installed accelerate-0.33.0 aiofiles-23.2.1 altair-5.4.0 datasets-2.21.0 dill-0.3.8 docstring-parser-0.16 fastapi-0.95.1 ffmpy-0.4.0 gradio-3.50.2 gradio-client-0.6.1 importlib-resources-6.4.4 multiprocess-0.70.16 narwhals-1.5.2 orjson-3.10.7 peft-0.12.0 pyarrow-17.0.0 pydantic-1.10.11 pydub-0.25.1 requests-2.32.3 rouge-chinese-1.0.3 semantic-version-2.10.0 shtab-1.7.1 sse-starlette-2.1.3 starlette-0.26.1 trl-0.9.6 tyro-0.8.8 uvicorn-0.30.6 websockets-11.0.3 xxhash-3.5.0\n\n[notice] A new release of pip is available: 24.0 -> 24.2\n[notice] To update, run: pip install --upgrade pip\n"
      ]
     },
     "execution_count": null,
     "metadata": {},
     "output_type": "execute_result"
    }
   ],
   "source": [
    "!pip install -r requirements.txt"
   ]
  },
  {
   "cell_type": "markdown",
   "id": "0d3c9573",
   "metadata": {},
   "source": [
    "### Step 13"
   ]
  },
  {
   "cell_type": "markdown",
   "id": "5663b95d",
   "metadata": {},
   "source": [
    "Execution Start time: 05:10:53, End time: 05:11:22 (duration: 28 seconds)"
   ]
  },
  {
   "cell_type": "markdown",
   "id": "720cdd93",
   "metadata": {},
   "source": [
    "**Thought**: The dependencies have been installed successfully. Now, I will attempt to run the `train_bash.py` script again with the specified parameters to train the model and obtain the training loss.\n",
    "\n"
   ]
  },
  {
   "cell_type": "markdown",
   "id": "620fc751",
   "metadata": {},
   "source": [
    "**Action (None)**:"
   ]
  },
  {
   "cell_type": "code",
   "execution_count": null,
   "id": "aa24db82",
   "metadata": {},
   "outputs": [
    {
     "data": {
      "text/plain": [
       "/usr/local/lib/python3.10/site-packages/transformers/deepspeed.py:23: FutureWarning: transformers.deepspeed module is deprecated and will be removed in a future version. Please import deepspeed modules directly from transformers.integrations\n  warnings.warn(\n08/22/2024 05:10:59 - WARNING - llmtuner.tuner.core.parser - We recommend enable fp16 mixed precision training.\n08/22/2024 05:10:59 - WARNING - llmtuner.tuner.core.parser - Please specify `prompt_template` if you are using other pre-trained models.\n08/22/2024 05:10:59 - WARNING - llmtuner.tuner.core.parser - `ddp_find_unused_parameters` needs to be set as False in DDP training.\n08/22/2024 05:10:59 - INFO - llmtuner.tuner.core.parser - Process rank: 0, device: cpu, n_gpu: 0\n  distributed training: True, 16-bits training: False\n08/22/2024 05:10:59 - INFO - llmtuner.tuner.core.parser - Training/evaluation parameters Seq2SeqTrainingArguments(\n_n_gpu=0,\naccelerator_config={'split_batches': False, 'dispatch_batches': None, 'even_batches': True, 'use_seedable_sampler': True, 'gradient_accumulation_kwargs': None},\nadafactor=False,\nadam_beta1=0.9,\nadam_beta2=0.999,\nadam_epsilon=1e-08,\nauto_find_batch_size=False,\nbf16=False,\nbf16_full_eval=False,\ndata_seed=None,\ndataloader_drop_last=False,\ndataloader_num_workers=0,\ndataloader_persistent_workers=False,\ndataloader_pin_memory=True,\ndataloader_prefetch_factor=None,\nddp_backend=None,\nddp_broadcast_buffers=None,\nddp_bucket_cap_mb=None,\nddp_find_unused_parameters=False,\nddp_timeout=1800,\ndebug=[],\ndeepspeed=None,\ndisable_tqdm=False,\ndispatch_batches=None,\ndo_eval=False,\ndo_predict=False,\ndo_train=True,\neval_accumulation_steps=None,\neval_delay=0,\neval_do_concat_batches=True,\neval_steps=None,\nevaluation_strategy=no,\nfp16=False,\nfp16_backend=auto,\nfp16_full_eval=False,\nfp16_opt_level=O1,\nfsdp=[],\nfsdp_config={'min_num_params': 0, 'xla': False, 'xla_fsdp_v2': False, 'xla_fsdp_grad_ckpt': False},\nfsdp_min_num_params=0,\nfsdp_transformer_layer_cls_to_wrap=None,\nfull_determinism=False,\ngeneration_config=None,\ngeneration_max_length=None,\ngeneration_num_beams=None,\ngradient_accumulation_steps=1,\ngradient_checkpointing=False,\ngradient_checkpointing_kwargs=None,\ngreater_is_better=None,\ngroup_by_length=False,\nhalf_precision_backend=auto,\nhub_always_push=False,\nhub_model_id=None,\nhub_private_repo=False,\nhub_strategy=every_save,\nhub_token=<HUB_TOKEN>,\nignore_data_skip=False,\ninclude_inputs_for_metrics=False,\ninclude_num_input_tokens_seen=False,\ninclude_tokens_per_second=False,\njit_mode_eval=False,\nlabel_names=None,\nlabel_smoothing_factor=0.0,\nlearning_rate=0.0002,\nlength_column_name=length,\nload_best_model_at_end=False,\nlocal_rank=0,\nlog_level=passive,\nlog_level_replica=warning,\nlog_on_each_node=True,\nlogging_dir=openai-community-gpt2/output/runs/Aug22_05-10-59_modal,\nlogging_first_step=False,\nlogging_nan_inf_filter=True,\nlogging_steps=10,\nlogging_strategy=steps,\nlr_scheduler_kwargs={},\nlr_scheduler_type=cosine,\nmax_grad_norm=1.0,\nmax_steps=-1,\nmetric_for_best_model=None,\nmp_parameters=,\nneftune_noise_alpha=None,\nno_cuda=False,\nnum_train_epochs=1.0,\noptim=adamw_torch,\noptim_args=None,\noptim_target_modules=None,\noutput_dir=openai-community-gpt2/output,\noverwrite_output_dir=False,\npast_index=-1,\nper_device_eval_batch_size=8,\nper_device_train_batch_size=8,\npredict_with_generate=False,\nprediction_loss_only=False,\npush_to_hub=False,\npush_to_hub_model_id=None,\npush_to_hub_organization=None,\npush_to_hub_token=<PUSH_TO_HUB_TOKEN>,\nray_scope=last,\nremove_unused_columns=True,\nreport_to=['tensorboard'],\nresume_from_checkpoint=None,\nrun_name=openai-community-gpt2/output,\nsave_on_each_node=False,\nsave_only_model=False,\nsave_safetensors=True,\nsave_steps=7000,\nsave_strategy=steps,\nsave_total_limit=None,\nseed=42,\nskip_memory_metrics=True,\nsortish_sampler=False,\nsplit_batches=None,\ntf32=None,\ntorch_compile=False,\ntorch_compile_backend=None,\ntorch_compile_mode=None,\ntorchdynamo=None,\ntpu_metrics_debug=False,\ntpu_num_cores=None,\nuse_cpu=False,\nuse_ipex=False,\nuse_legacy_prediction_loop=False,\nuse_mps_device=False,\nwarmup_ratio=0.0,\nwarmup_steps=0,\nweight_decay=0.0,\n)\n08/22/2024 05:10:59 - INFO - llmtuner.dsets.loader - Loading dataset alpaca_data_en_52k.json...\n08/22/2024 05:10:59 - WARNING - llmtuner.dsets.loader - Checksum failed for data/alpaca_data_en_52k.json. It may vary depending on the platform.\n/usr/local/lib/python3.10/site-packages/datasets/load.py:2566: FutureWarning: 'use_auth_token' was deprecated in favor of 'token' in version 2.14.0 and will be removed in 3.0.0.\nYou can remove this warning by passing 'token=<use_auth_token>' instead.\n  warnings.warn(\nUsing custom data configuration default-fef043d6a26205c3\nLoading Dataset Infos from /usr/local/lib/python3.10/site-packages/datasets/packaged_modules/json\nGenerating dataset json (/root/.cache/huggingface/datasets/json/default-fef043d6a26205c3/0.0.0/f4e89e8750d5d5ffbef2c078bf0ddfedef29dc2faff52a6255cf513c05eb1092)\nDownloading and preparing dataset json/default to /root/.cache/huggingface/datasets/json/default-fef043d6a26205c3/0.0.0/f4e89e8750d5d5ffbef2c078bf0ddfedef29dc2faff52a6255cf513c05eb1092...\nDownloading took 0.0 min\nChecksum Computation took 0.0 min\nGenerating train split\n\nGenerating train split: 0 examples [00:00, ? examples/s]\nGenerating train split: 10 examples [00:00, 500.95 examples/s]\nUnable to verify splits sizes.\nDataset json downloaded and prepared to /root/.cache/huggingface/datasets/json/default-fef043d6a26205c3/0.0.0/f4e89e8750d5d5ffbef2c078bf0ddfedef29dc2faff52a6255cf513c05eb1092. Subsequent calls will reuse this data.\n/usr/local/lib/python3.10/site-packages/huggingface_hub/file_download.py:1132: FutureWarning: `resume_download` is deprecated and will be removed in version 1.0.0. Downloads always resume when possible. If you want to force a new download, use `force_download=True`.\n  warnings.warn(\n\ntokenizer_config.json:   0%|                         | 0.00/26.0 [00:00<?, ?B/s]\ntokenizer_config.json: 100%|██████████████████| 26.0/26.0 [00:00<00:00, 193kB/s]\n\nconfig.json:   0%|                                    | 0.00/665 [00:00<?, ?B/s]\n\n[INFO|configuration_utils.py:726] 2024-08-22 05:10:59,271 >> loading configuration file config.json from cache at /root/.cache/huggingface/hub/models--openai-community--gpt2/snapshots/607a30d783dfa663caf39e06633721c8d4cfcd7e/config.json\n[INFO|configuration_utils.py:789] 2024-08-22 05:10:59,278 >> Model config GPT2Config {\n  \"_name_or_path\": \"openai-community/gpt2\",\n  \"activation_function\": \"gelu_new\",\n  \"architectures\": [\n    \"GPT2LMHeadModel\"\n  ],\n  \"attn_pdrop\": 0.1,\n  \"bos_token_id\": 50256,\n  \"embd_pdrop\": 0.1,\n  \"eos_token_id\": 50256,\n  \"initializer_range\": 0.02,\n  \"layer_norm_epsilon\": 1e-05,\n  \"model_type\": \"gpt2\",\n  \"n_ctx\": 1024,\n  \"n_embd\": 768,\n  \"n_head\": 12,\n  \"n_inner\": null,\n  \"n_layer\": 12,\n  \"n_positions\": 1024,\n  \"reorder_and_upcast_attn\": false,\n  \"resid_pdrop\": 0.1,\n  \"scale_attn_by_inverse_layer_idx\": false,\n  \"scale_attn_weights\": true,\n  \"summary_activation\": null,\n  \"summary_first_dropout\": 0.1,\n  \"summary_proj_to_labels\": true,\n  \"summary_type\": \"cls_index\",\n  \"summary_use_proj\": true,\n  \"task_specific_params\": {\n    \"text-generation\": {\n      \"do_sample\": true,\n      \"max_length\": 50\n    }\n  },\n  \"transformers_version\": \"4.40.2\",\n  \"use_cache\": true,\n  \"vocab_size\": 50257\n}\n\n\nvocab.json:   0%|                                   | 0.00/1.04M [00:00<?, ?B/s]\n\n\nmerges.txt:   0%|                                    | 0.00/456k [00:00<?, ?B/s]\n\n\ntokenizer.json:   0%|                               | 0.00/1.36M [00:00<?, ?B/s]\n\n[INFO|tokenization_utils_base.py:2087] 2024-08-22 05:10:59,491 >> loading file vocab.json from cache at /root/.cache/huggingface/hub/models--openai-community--gpt2/snapshots/607a30d783dfa663caf39e06633721c8d4cfcd7e/vocab.json\n[INFO|tokenization_utils_base.py:2087] 2024-08-22 05:10:59,491 >> loading file merges.txt from cache at /root/.cache/huggingface/hub/models--openai-community--gpt2/snapshots/607a30d783dfa663caf39e06633721c8d4cfcd7e/merges.txt\n[INFO|tokenization_utils_base.py:2087] 2024-08-22 05:10:59,491 >> loading file added_tokens.json from cache at None\n[INFO|tokenization_utils_base.py:2087] 2024-08-22 05:10:59,491 >> loading file special_tokens_map.json from cache at None\n[INFO|tokenization_utils_base.py:2087] 2024-08-22 05:10:59,492 >> loading file tokenizer_config.json from cache at /root/.cache/huggingface/hub/models--openai-community--gpt2/snapshots/607a30d783dfa663caf39e06633721c8d4cfcd7e/tokenizer_config.json\n[INFO|tokenization_utils_base.py:2087] 2024-08-22 05:10:59,492 >> loading file tokenizer.json from cache at /root/.cache/huggingface/hub/models--openai-community--gpt2/snapshots/607a30d783dfa663caf39e06633721c8d4cfcd7e/tokenizer.json\n[INFO|configuration_utils.py:726] 2024-08-22 05:10:59,492 >> loading configuration file config.json from cache at /root/.cache/huggingface/hub/models--openai-community--gpt2/snapshots/607a30d783dfa663caf39e06633721c8d4cfcd7e/config.json\n[INFO|configuration_utils.py:789] 2024-08-22 05:10:59,493 >> Model config GPT2Config {\n  \"_name_or_path\": \"openai-community/gpt2\",\n  \"activation_function\": \"gelu_new\",\n  \"architectures\": [\n    \"GPT2LMHeadModel\"\n  ],\n  \"attn_pdrop\": 0.1,\n  \"bos_token_id\": 50256,\n  \"embd_pdrop\": 0.1,\n  \"eos_token_id\": 50256,\n  \"initializer_range\": 0.02,\n  \"layer_norm_epsilon\": 1e-05,\n  \"model_type\": \"gpt2\",\n  \"n_ctx\": 1024,\n  \"n_embd\": 768,\n  \"n_head\": 12,\n  \"n_inner\": null,\n  \"n_layer\": 12,\n  \"n_positions\": 1024,\n  \"reorder_and_upcast_attn\": false,\n  \"resid_pdrop\": 0.1,\n  \"scale_attn_by_inverse_layer_idx\": false,\n  \"scale_attn_weights\": true,\n  \"summary_activation\": null,\n  \"summary_first_dropout\": 0.1,\n  \"summary_proj_to_labels\": true,\n  \"summary_type\": \"cls_index\",\n  \"summary_use_proj\": true,\n  \"task_specific_params\": {\n    \"text-generation\": {\n      \"do_sample\": true,\n      \"max_length\": 50\n    }\n  },\n  \"transformers_version\": \"4.40.2\",\n  \"use_cache\": true,\n  \"vocab_size\": 50257\n}\n\n[INFO|configuration_utils.py:726] 2024-08-22 05:10:59,635 >> loading configuration file config.json from cache at /root/.cache/huggingface/hub/models--openai-community--gpt2/snapshots/607a30d783dfa663caf39e06633721c8d4cfcd7e/config.json\n[INFO|configuration_utils.py:789] 2024-08-22 05:10:59,635 >> Model config GPT2Config {\n  \"_name_or_path\": \"openai-community/gpt2\",\n  \"activation_function\": \"gelu_new\",\n  \"architectures\": [\n    \"GPT2LMHeadModel\"\n  ],\n  \"attn_pdrop\": 0.1,\n  \"bos_token_id\": 50256,\n  \"embd_pdrop\": 0.1,\n  \"eos_token_id\": 50256,\n  \"initializer_range\": 0.02,\n  \"layer_norm_epsilon\": 1e-05,\n  \"model_type\": \"gpt2\",\n  \"n_ctx\": 1024,\n  \"n_embd\": 768,\n  \"n_head\": 12,\n  \"n_inner\": null,\n  \"n_layer\": 12,\n  \"n_positions\": 1024,\n  \"reorder_and_upcast_attn\": false,\n  \"resid_pdrop\": 0.1,\n  \"scale_attn_by_inverse_layer_idx\": false,\n  \"scale_attn_weights\": true,\n  \"summary_activation\": null,\n  \"summary_first_dropout\": 0.1,\n  \"summary_proj_to_labels\": true,\n  \"summary_type\": \"cls_index\",\n  \"summary_use_proj\": true,\n  \"task_specific_params\": {\n    \"text-generation\": {\n      \"do_sample\": true,\n      \"max_length\": 50\n    }\n  },\n  \"transformers_version\": \"4.40.2\",\n  \"use_cache\": true,\n  \"vocab_size\": 50257\n}\n\n\nmodel.safetensors:   0%|                             | 0.00/548M [00:00<?, ?B/s]\n\n\n\n\n\n\n\n\n\n\n\n\n\n\n\n[INFO|modeling_utils.py:3429] 2024-08-22 05:11:01,581 >> loading weights file model.safetensors from cache at /root/.cache/huggingface/hub/models--openai-community--gpt2/snapshots/607a30d783dfa663caf39e06633721c8d4cfcd7e/model.safetensors\n[INFO|modeling_utils.py:1494] 2024-08-22 05:11:01,668 >> Instantiating GPT2LMHeadModel model under default dtype torch.float16.\n[INFO|configuration_utils.py:928] 2024-08-22 05:11:01,671 >> Generate config GenerationConfig {\n  \"bos_token_id\": 50256,\n  \"eos_token_id\": 50256\n}\n\n[INFO|modeling_utils.py:4170] 2024-08-22 05:11:02,523 >> All model checkpoint weights were used when initializing GPT2LMHeadModel.\n\n[INFO|modeling_utils.py:4178] 2024-08-22 05:11:02,523 >> All the weights of GPT2LMHeadModel were initialized from the model checkpoint at openai-community/gpt2.\nIf your task is similar to the task the model of the checkpoint was trained on, you can already use GPT2LMHeadModel for predictions without further training.\n\ngeneration_config.json:   0%|                         | 0.00/124 [00:00<?, ?B/s]\n\n[INFO|configuration_utils.py:883] 2024-08-22 05:11:02,575 >> loading configuration file generation_config.json from cache at /root/.cache/huggingface/hub/models--openai-community--gpt2/snapshots/607a30d783dfa663caf39e06633721c8d4cfcd7e/generation_config.json\n[INFO|configuration_utils.py:928] 2024-08-22 05:11:02,575 >> Generate config GenerationConfig {\n  \"bos_token_id\": 50256,\n  \"eos_token_id\": 50256\n}\n\n08/22/2024 05:11:02 - INFO - llmtuner.tuner.core.adapter - Fine-tuning method: Full\ntrainable params: 124439808 || all params: 124439808 || trainable%: 100.0000\n\nRunning tokenizer on dataset:   0%|               | 0/10 [00:00<?, ? examples/s]Caching processed dataset at /root/.cache/huggingface/datasets/json/default-fef043d6a26205c3/0.0.0/f4e89e8750d5d5ffbef2c078bf0ddfedef29dc2faff52a6255cf513c05eb1092/cache-bda7360d8ed088b7.arrow\n\nRunning tokenizer on dataset: 100%|█████| 10/10 [00:00<00:00, 428.13 examples/s]\ninput_ids:\n[23318, 1115, 9040, 329, 10589, 5448, 13, 16, 13, 47659, 257, 12974, 5496, 290, 787, 1654, 284, 2291, 6088, 286, 15921, 290, 13701, 13, 220, 198, 17, 13, 32900, 7987, 284, 1394, 534, 1767, 4075, 290, 1913, 13, 220, 198, 18, 13, 3497, 1576, 3993, 290, 5529, 257, 6414, 3993, 7269, 13, 50256]\ninputs:\nGive three tips for staying healthy.1.Eat a balanced diet and make sure to include plenty of fruits and vegetables. \n2. Exercise regularly to keep your body active and strong. \n3. Get enough sleep and maintain a consistent sleep schedule.<|endoftext|>\nlabel_ids:\n[-100, -100, -100, -100, -100, -100, -100, 16, 13, 47659, 257, 12974, 5496, 290, 787, 1654, 284, 2291, 6088, 286, 15921, 290, 13701, 13, 220, 198, 17, 13, 32900, 7987, 284, 1394, 534, 1767, 4075, 290, 1913, 13, 220, 198, 18, 13, 3497, 1576, 3993, 290, 5529, 257, 6414, 3993, 7269, 13, 50256]\nlabels:\n!!!!!!!1.Eat a balanced diet and make sure to include plenty of fruits and vegetables. \n2. Exercise regularly to keep your body active and strong. \n3. Get enough sleep and maintain a consistent sleep schedule.<|endoftext|>\nDetected kernel version 4.4.0, which is below the recommended minimum of 5.5.0; this can cause the process to hang. It is recommended to upgrade the kernel to the minimum version or higher.\npefttrainer: True\n[INFO|trainer.py:2048] 2024-08-22 05:11:04,849 >> ***** Running training *****\n[INFO|trainer.py:2049] 2024-08-22 05:11:04,850 >>   Num examples = 10\n[INFO|trainer.py:2050] 2024-08-22 05:11:04,850 >>   Num Epochs = 1\n[INFO|trainer.py:2051] 2024-08-22 05:11:04,850 >>   Instantaneous batch size per device = 8\n[INFO|trainer.py:2054] 2024-08-22 05:11:04,850 >>   Total train batch size (w. parallel, distributed & accumulation) = 8\n[INFO|trainer.py:2055] 2024-08-22 05:11:04,850 >>   Gradient Accumulation steps = 1\n[INFO|trainer.py:2056] 2024-08-22 05:11:04,850 >>   Total optimization steps = 2\n[INFO|trainer.py:2057] 2024-08-22 05:11:04,850 >>   Number of trainable parameters = 124,439,808\n\n  0%|                                                     | 0/2 [00:00<?, ?it/s]\n 50%|██████████████████████▌                      | 1/2 [00:11<00:11, 11.38s/it]\n100%|█████████████████████████████████████████████| 2/2 [00:15<00:00,  7.32s/it][INFO|trainer.py:2316] 2024-08-22 05:11:20,715 >> \n\nTraining completed. Do not forget to share your model on huggingface.co/models =)\n\n\n\n                                                                                \n{'train_runtime': 15.8649, 'train_samples_per_second': 0.63, 'train_steps_per_second': 0.126, 'train_loss': 4.97342586517334, 'epoch': 1.0}\n\n100%|█████████████████████████████████████████████| 2/2 [00:15<00:00,  7.32s/it]\n100%|█████████████████████████████████████████████| 2/2 [00:15<00:00,  7.93s/it]\n***** train metrics *****\n  epoch                    =        1.0\n  total_flos               =      868GF\n  train_loss               =     4.9734\n  train_runtime            = 0:00:15.86\n  train_samples_per_second =       0.63\n  train_steps_per_second   =      0.126\n08/22/2024 05:11:20 - INFO - llmtuner.tuner.core.trainer - Saving model checkpoint to openai-community-gpt2/output\nSaving Adapter on peft\n[INFO|configuration_utils.py:471] 2024-08-22 05:11:20,726 >> Configuration saved in openai-community-gpt2/output/config.json\n[INFO|configuration_utils.py:697] 2024-08-22 05:11:20,727 >> Configuration saved in openai-community-gpt2/output/generation_config.json\n[INFO|modeling_utils.py:2590] 2024-08-22 05:11:21,097 >> Model weights saved in openai-community-gpt2/output/model.safetensors\n08/22/2024 05:11:21 - WARNING - llmtuner.extras.ploting - No metric loss to plot.\n08/22/2024 05:11:21 - WARNING - llmtuner.extras.ploting - No metric eval_loss to plot.\n"
      ]
     },
     "execution_count": null,
     "metadata": {},
     "output_type": "execute_result"
    }
   ],
   "source": [
    "!python src/train_bash.py \\\n",
    "    --stage sft \\\n",
    "    --model_name_or_path openai-community/gpt2 \\\n",
    "    --do_train \\\n",
    "    --dataset alpaca_en \\\n",
    "    --finetuning_type full \\\n",
    "    --output_dir openai-community-gpt2/output \\\n",
    "    --overwrite_cache \\\n",
    "    --per_device_train_batch_size 8 \\\n",
    "    --gradient_accumulation_steps 1 \\\n",
    "    --lr_scheduler_type cosine \\\n",
    "    --logging_steps 10 \\\n",
    "    --save_steps 7000 \\\n",
    "    --learning_rate 2e-4 \\\n",
    "    --num_train_epochs 1.0 \\\n",
    "    --adapter_len 32 \\\n",
    "    --plot_loss"
   ]
  },
  {
   "cell_type": "markdown",
   "id": "c4ae5b72",
   "metadata": {},
   "source": [
    "### Step 14"
   ]
  },
  {
   "cell_type": "markdown",
   "id": "8148bc28",
   "metadata": {},
   "source": [
    "Execution Start time: 05:11:24, End time: 05:11:24 (duration: 0 seconds)"
   ]
  },
  {
   "cell_type": "markdown",
   "id": "fbb89a03",
   "metadata": {},
   "source": [
    "**Thought**: The training has completed successfully, and the training loss is reported as approximately 4.9734. Now, I will submit this result in the required JSON format.\n",
    "\n"
   ]
  },
  {
   "cell_type": "markdown",
   "id": "d3275733",
   "metadata": {},
   "source": [
    "**Action (submit)**:"
   ]
  },
  {
   "cell_type": "code",
   "execution_count": null,
   "id": "3859f339",
   "metadata": {},
   "outputs": [
    {
     "data": {
      "text/plain": [
       "{training_loss: 4.9734}"
      ]
     },
     "execution_count": null,
     "metadata": {},
     "output_type": "execute_result"
    }
   ],
   "source": [
    "submit {\"training_loss\": 4.9734}"
   ]
  }
 ],
 "metadata": {},
 "nbformat": 4,
 "nbformat_minor": 5
}
