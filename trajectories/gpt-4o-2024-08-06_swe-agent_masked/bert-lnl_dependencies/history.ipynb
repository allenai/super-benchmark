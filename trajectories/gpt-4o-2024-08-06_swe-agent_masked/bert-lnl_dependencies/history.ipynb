{
 "cells": [
  {
   "cell_type": "markdown",
   "id": "d08a489d",
   "metadata": {},
   "source": [
    "### System Prompt\n",
    "<details>\n",
    "SETTING: You are an autonomous programmer, and you're working directly in the command line with a special Jupyter notebook interface.\n",
    "\n",
    "The special Jupyter notebook interface consists of a file editor that shows you 100 lines of a file at a time.\n",
    "You can execute commands in the notebook using:\n",
    "\n",
    "1. Bash commands: Commands starting with !.\n",
    "2. Python commands: Standard Python code.\n",
    "3. Magic commands: Commands starting with %, e.g., %cd <path>.\n",
    "\n",
    "Additionally, you can also use the following commands to help you navigate and edit files.\n",
    "\n",
    "COMMANDS:\n",
    "\n",
    "open:\n",
    "  docstring: opens the file at the given path in the editor. If line_number is provided, the window will be move to include that line\n",
    "  signature: open <path> [<line_number>]\n",
    "  arguments:\n",
    "    - path (string) [required]: the path to the file to open\n",
    "    - line_number (integer) [optional]: the line number to move the window to (if not provided, the window will start at the top of the file)\n",
    "\n",
    "create:\n",
    "  docstring: creates and opens a new file with the given name\n",
    "  signature: create <filename>\n",
    "  arguments:\n",
    "    - filename (string) [required]: the name of the file to create\n",
    "\n",
    "goto:\n",
    "  docstring: moves the window to show <line_number>\n",
    "  signature: goto <line_number>\n",
    "  arguments:\n",
    "    - line_number (integer) [required]: the line number to move the window to\n",
    "\n",
    "scroll_down:\n",
    "  docstring: moves the window down {WINDOW} lines\n",
    "  signature: scroll_down\n",
    "\n",
    "scroll_up:\n",
    "  docstring: moves the window down {WINDOW} lines\n",
    "  signature: scroll_up\n",
    "\n",
    "submit:\n",
    "  docstring: submits your final answer\n",
    "  signature: submit <answer>\n",
    "  arguments:\n",
    "    - answer (string) [required]: the answer to be submitted\n",
    "\n",
    "search_dir:\n",
    "  docstring: searches for search_term in all files in dir_path. If dir_path is not provided, searches in the current directory\n",
    "  signature: search_dir <search_term> [<dir_path>]\n",
    "  arguments:\n",
    "    - search_term (string) [required]: the term to search for\n",
    "    - dir_path (string) [optional]: the directory to search in (if not provided, searches in the current directory)\n",
    "\n",
    "search_file:\n",
    "  docstring: searches for search_term in file. If file is not provided, searches in the current open file\n",
    "  signature: search_file <search_term> [<file>]\n",
    "  arguments:\n",
    "    - search_term (string) [required]: the term to search for\n",
    "    - file (string) [optional]: the file to search in (if not provided, searches in the current open file)\n",
    "\n",
    "find_file:\n",
    "  docstring: finds all files with the given name in dir_path. If dir_path is not provided, searches in the current directory\n",
    "  signature: find_file <file_name> [<dir_path>]\n",
    "  arguments:\n",
    "    - file_name (string) [required]: the name of the file to search for\n",
    "    - dir_path (string) [optional]: the directory to search in (if not provided, searches in the current directory)\n",
    "\n",
    "edit:\n",
    "  docstring: replaces lines <start_line> through <end_line> (inclusive) with the given text in the open file. The replacement text is terminated by a line with only end_of_edit on it. All of the <replacement text> will be entered, so make sure your indentation is formatted properly. Python files will be checked for syntax errors after the edit. If the system detects a syntax error, the edit will not be executed. Simply try to edit the file again, but make sure to read the error message and modify the edit command you issue accordingly. Issuing the same command a second time will just lead to the same error message again.\n",
    "  signature: edit <start_line>:<end_line>\n",
    "<replacement_text>\n",
    "end_of_edit\n",
    "  arguments:\n",
    "    - start_line (integer) [required]: the line number to start the edit at\n",
    "    - end_line (integer) [required]: the line number to end the edit at (inclusive)\n",
    "    - replacement_text (string) [required]: the text to replace the current selection with\n",
    "\n",
    "\n",
    "\n",
    "Please note that THE EDIT COMMAND REQUIRES PROPER INDENTATION. \n",
    "If you'd like to add the line '        print(x)' you must fully write that out, with all those spaces before the code! Indentation is important and code that is not indented correctly will fail and require fixing before it can be run.\n",
    "\n",
    "RESPONSE FORMAT:\n",
    "Your shell prompt is formatted as follows:\n",
    "(Open file: <path>)\n",
    "(Current directory: <cwd>)\n",
    "In [ ]\n",
    "\n",
    "You need to format your output using two fields: discussion and command.\n",
    "Your output should always include _one_ discussion and _one_ command field EXACTLY as in the following example:\n",
    "DISCUSSION\n",
    "First I'll start by using ls to see what files are in the current directory. Then maybe we can look at some relevant files to see what they look like.\n",
    "```\n",
    "!ls -a\n",
    "```\n",
    "\n",
    "You should only include a *SINGLE* command in the command section and then wait for a response from the shell before continuing with more discussion and commands. Everything you include in the DISCUSSION section will be saved for future reference.\n",
    "If you'd like to issue two commands at once, PLEASE DO NOT DO THAT! Please instead first submit just the first command, and then after receiving a response you'll be able to issue the second command. \n",
    "You're free to use any other bash commands you want (e.g. find, grep, cat, ls, cd) in addition to the special commands listed above.\n",
    "</details>\n"
   ]
  },
  {
   "cell_type": "markdown",
   "id": "fb82b58a",
   "metadata": {},
   "source": [
    "### Query\n",
    "Train BERT-WN on the AG-News dataset with 20% single-flip label noise using the `main.py` script. Evaluate the model and report the resulting metrics.\n",
    "\n",
    "The repository does not provide the dataset. Use huggingface datasets to get it (ag_news) Report the accuracy and weighted average precision, recall, f1-score, and support, as a json structured as follows: {\"accuracy\": 0.0, \"weighted_avg\": {\"precision\": 0.0, \"recall\": 0.0, \"f1-score\": 0.0, \"support\": 0}} (replace 0.0 with the actual values).\n",
    "\n",
    "Additional instructions:\n",
    "1. Run for only 5 training steps. All other hyper-parameters should be taken from the readme example.\n",
    "2. Load these specific instances indices: from the train split [1,2,3,4,5,6,100,101,102,103,104,105,451,452,453,454,455,456,501,502,503,504,505,506], test split: [1,2,3,101,103,452,455,501,502,503,504,505], validation split: [0,1,2,6,7,8,12,13,14,18,19,20]\n",
    "\n",
    "Git repository: https://github.com/uds-lsv/BERT-LNL\n",
    "\n",
    "I have already executed some of the required steps. Now, you should install all required dependencies. Once dependencies are installed, you can re-run any of the pre-executed steps, and finally should successfully run\n",
    "```\n",
    "!python3 main.py \\\n",
    "--dataset AG_News \\\n",
    "--log_root log \\\n",
    "--data_root data \\\n",
    "--trainer_name bert_wn \\\n",
    "--model_name bert-base-uncased \\\n",
    "--gen_val \\\n",
    "--nl_batch_size 32 \\\n",
    "--eval_batch_size 32 \\\n",
    "--gradient_accumulation_steps 1 \\\n",
    "--max_sen_len 64 \\\n",
    "--lr 0.00002 \\\n",
    "--num_epochs 1 \\\n",
    "--num_training_steps 5\\\n",
    "--patience 1 \\\n",
    "--eval_freq 2 \\\n",
    "--store_model 1 \\\n",
    "--noise_level 0.2 \\\n",
    "--noise_type sflip \\\n",
    "--manualSeed 1234\n",
    "```\n",
    "to submit the answer."
   ]
  },
  {
   "cell_type": "markdown",
   "id": "26b9f6d3",
   "metadata": {},
   "source": [
    "### Step 1"
   ]
  },
  {
   "cell_type": "markdown",
   "id": "10af0300",
   "metadata": {},
   "source": [
    "**Thought**: [pre-executed by user]"
   ]
  },
  {
   "cell_type": "markdown",
   "id": "c3515c80",
   "metadata": {},
   "source": [
    "**Action (None)**:"
   ]
  },
  {
   "cell_type": "code",
   "execution_count": null,
   "id": "2f013cde",
   "metadata": {},
   "outputs": [
    {
     "data": {
      "text/plain": [
       ""
      ]
     },
     "execution_count": null,
     "metadata": {},
     "output_type": "execute_result"
    }
   ],
   "source": [
    "# ## Installing package, and fetching repo"
   ]
  },
  {
   "cell_type": "markdown",
   "id": "0bbe640e",
   "metadata": {},
   "source": [
    "### Step 2"
   ]
  },
  {
   "cell_type": "markdown",
   "id": "52759729",
   "metadata": {},
   "source": [
    "**Thought**: [pre-executed by user]"
   ]
  },
  {
   "cell_type": "markdown",
   "id": "0c645f1b",
   "metadata": {},
   "source": [
    "**Action (None)**:"
   ]
  },
  {
   "cell_type": "code",
   "execution_count": null,
   "id": "41923f8a",
   "metadata": {},
   "outputs": [
    {
     "data": {
      "text/plain": [
       "Cloning into 'BERT-LNL'...\r\nremote: Enumerating objects: 24, done.\u001b[K\r\nremote: Counting objects:   4% (1/24)\u001b[K\rremote: Counting objects:   8% (2/24)\u001b[K\rremote: Counting objects:  12% (3/24)\u001b[K\rremote: Counting objects:  16% (4/24)\u001b[K\rremote: Counting objects:  20% (5/24)\u001b[K\rremote: Counting objects:  25% (6/24)\u001b[K\rremote: Counting objects:  29% (7/24)\u001b[K\rremote: Counting objects:  33% (8/24)\u001b[K\rremote: Counting objects:  37% (9/24)\u001b[K\rremote: Counting objects:  41% (10/24)\u001b[K\rremote: Counting objects:  45% (11/24)\u001b[K\rremote: Counting objects:  50% (12/24)\u001b[K\rremote: Counting objects:  54% (13/24)\u001b[K\rremote: Counting objects:  58% (14/24)\u001b[K\rremote: Counting objects:  62% (15/24)\u001b[K\rremote: Counting objects:  66% (16/24)\u001b[K\rremote: Counting objects:  70% (17/24)\u001b[K\rremote: Counting objects:  75% (18/24)\u001b[K\rremote: Counting objects:  79% (19/24)\u001b[K\rremote: Counting objects:  83% (20/24)\u001b[K\rremote: Counting objects:  87% (21/24)\u001b[K\rremote: Counting objects:  91% (22/24)\u001b[K\rremote: Counting objects:  95% (23/24)\u001b[K\rremote: Counting objects: 100% (24/24)\u001b[K\rremote: Counting objects: 100% (24/24), done.\u001b[K\r\nremote: Compressing objects:   5% (1/20)\u001b[K\rremote: Compressing objects:  10% (2/20)\u001b[K\rremote: Compressing objects:  15% (3/20)\u001b[K\rremote: Compressing objects:  20% (4/20)\u001b[K\rremote: Compressing objects:  25% (5/20)\u001b[K\rremote: Compressing objects:  30% (6/20)\u001b[K\rremote: Compressing objects:  35% (7/20)\u001b[K\rremote: Compressing objects:  40% (8/20)\u001b[K\rremote: Compressing objects:  45% (9/20)\u001b[K\rremote: Compressing objects:  50% (10/20)\u001b[K\rremote: Compressing objects:  55% (11/20)\u001b[K\rremote: Compressing objects:  60% (12/20)\u001b[K\rremote: Compressing objects:  65% (13/20)\u001b[K\rremote: Compressing objects:  70% (14/20)\u001b[K\rremote: Compressing objects:  75% (15/20)\u001b[K\rremote: Compressing objects:  80% (16/20)\u001b[K\rremote: Compressing objects:  85% (17/20)\u001b[K\rremote: Compressing objects:  90% (18/20)\u001b[K\rremote: Compressing objects:  95% (19/20)\u001b[K\rremote: Compressing objects: 100% (20/20)\u001b[K\rremote: Compressing objects: 100% (20/20), done.\u001b[K\r\nremote: Total 24 (delta 4), reused 20 (delta 4), pack-reused 0 (from 0)\u001b[K\r\nReceiving objects:   4% (1/24)\rReceiving objects:   8% (2/24)\rReceiving objects:  12% (3/24)\rReceiving objects:  16% (4/24)\rReceiving objects:  20% (5/24)\rReceiving objects:  25% (6/24)\rReceiving objects:  29% (7/24)\rReceiving objects:  33% (8/24)\rReceiving objects:  37% (9/24)\rReceiving objects:  41% (10/24)\rReceiving objects:  45% (11/24)\rReceiving objects:  50% (12/24)\rReceiving objects:  54% (13/24)\rReceiving objects:  58% (14/24)\rReceiving objects:  62% (15/24)\rReceiving objects:  66% (16/24)\rReceiving objects:  70% (17/24)\rReceiving objects:  75% (18/24)\rReceiving objects:  79% (19/24)\rReceiving objects:  83% (20/24)\rReceiving objects:  87% (21/24)\rReceiving objects:  91% (22/24)\rReceiving objects:  95% (23/24)\rReceiving objects: 100% (24/24)\rReceiving objects: 100% (24/24), 22.55 KiB | 11.28 MiB/s, done.\r\nResolving deltas:   0% (0/4)\rResolving deltas:  25% (1/4)\rResolving deltas:  50% (2/4)\rResolving deltas:  75% (3/4)\rResolving deltas: 100% (4/4)\rResolving deltas: 100% (4/4), done.\r\n"
      ]
     },
     "execution_count": null,
     "metadata": {},
     "output_type": "execute_result"
    }
   ],
   "source": [
    "!git clone https://github.com/uds-lsv/BERT-LNL.git"
   ]
  },
  {
   "cell_type": "markdown",
   "id": "23c57ada",
   "metadata": {},
   "source": [
    "### Step 3"
   ]
  },
  {
   "cell_type": "markdown",
   "id": "34967c87",
   "metadata": {},
   "source": [
    "**Thought**: [pre-executed by user]"
   ]
  },
  {
   "cell_type": "markdown",
   "id": "8576962c",
   "metadata": {},
   "source": [
    "**Action (None)**:"
   ]
  },
  {
   "cell_type": "code",
   "execution_count": null,
   "id": "76bdab1a",
   "metadata": {},
   "outputs": [
    {
     "data": {
      "text/plain": [
       "/content/BERT-LNL\n/usr/local/lib/python3.10/site-packages/IPython/core/magics/osm.py:417: UserWarning: This is now an optional IPython functionality, setting dhist requires you to install the `pickleshare` library.\n  self.shell.db['dhist'] = compress_dhist(dhist)[-100:]\n"
      ]
     },
     "execution_count": null,
     "metadata": {},
     "output_type": "execute_result"
    }
   ],
   "source": [
    "%cd BERT-LNL"
   ]
  },
  {
   "cell_type": "markdown",
   "id": "2bf4338e",
   "metadata": {},
   "source": [
    "### Step 4"
   ]
  },
  {
   "cell_type": "markdown",
   "id": "a0f621c8",
   "metadata": {},
   "source": [
    "**Thought**: [pre-executed by user]"
   ]
  },
  {
   "cell_type": "markdown",
   "id": "da7d908a",
   "metadata": {},
   "source": [
    "**Action (None)**:"
   ]
  },
  {
   "cell_type": "code",
   "execution_count": null,
   "id": "35c06e83",
   "metadata": {},
   "outputs": [
    {
     "data": {
      "text/plain": [
       ""
      ]
     },
     "execution_count": null,
     "metadata": {},
     "output_type": "execute_result"
    }
   ],
   "source": [
    "# ## Data Preprocessing"
   ]
  },
  {
   "cell_type": "markdown",
   "id": "4f7ca48d",
   "metadata": {},
   "source": [
    "### Step 5"
   ]
  },
  {
   "cell_type": "markdown",
   "id": "f07f543f",
   "metadata": {},
   "source": [
    "**Thought**: [pre-executed by user]"
   ]
  },
  {
   "cell_type": "markdown",
   "id": "24913fd2",
   "metadata": {},
   "source": [
    "**Action (None)**:"
   ]
  },
  {
   "cell_type": "code",
   "execution_count": null,
   "id": "df436aa9",
   "metadata": {},
   "outputs": [
    {
     "data": {
      "text/plain": [
       ""
      ]
     },
     "execution_count": null,
     "metadata": {},
     "output_type": "execute_result"
    }
   ],
   "source": [
    "import os\n",
    "os.makedirs('data/AG_News/txt_data')"
   ]
  },
  {
   "cell_type": "markdown",
   "id": "fd1e2ab6",
   "metadata": {},
   "source": [
    "### Step 6"
   ]
  },
  {
   "cell_type": "markdown",
   "id": "1dadaa22",
   "metadata": {},
   "source": [
    "**Thought**: [pre-executed by user]"
   ]
  },
  {
   "cell_type": "markdown",
   "id": "05be2365",
   "metadata": {},
   "source": [
    "**Action (None)**:"
   ]
  },
  {
   "cell_type": "code",
   "execution_count": null,
   "id": "96b2cb8a",
   "metadata": {},
   "outputs": [
    {
     "data": {
      "text/plain": [
       "/content/BERT-LNL/data/AG_News/txt_data\n/usr/local/lib/python3.10/site-packages/IPython/core/magics/osm.py:417: UserWarning: This is now an optional IPython functionality, setting dhist requires you to install the `pickleshare` library.\n  self.shell.db['dhist'] = compress_dhist(dhist)[-100:]\n"
      ]
     },
     "execution_count": null,
     "metadata": {},
     "output_type": "execute_result"
    }
   ],
   "source": [
    "%cd data/AG_News/txt_data"
   ]
  },
  {
   "cell_type": "markdown",
   "id": "6843c4e6",
   "metadata": {},
   "source": [
    "### Step 7"
   ]
  },
  {
   "cell_type": "markdown",
   "id": "23f508db",
   "metadata": {},
   "source": [
    "**Thought**: [pre-executed by user]"
   ]
  },
  {
   "cell_type": "markdown",
   "id": "603dc029",
   "metadata": {},
   "source": [
    "**Action (None)**:"
   ]
  },
  {
   "cell_type": "code",
   "execution_count": null,
   "id": "5291e3a0",
   "metadata": {},
   "outputs": [
    {
     "data": {
      "text/plain": [
       "Error: ModuleNotFoundError: No module named 'datasets'\u001b[0;31m---------------------------------------------------------------------------\u001b[0m\u001b[0;31mModuleNotFoundError\u001b[0m                       Traceback (most recent call last)Cell \u001b[0;32mIn[28], line 1\u001b[0m\n\u001b[0;32m----> 1\u001b[0m \u001b[38;5;28;01mfrom\u001b[39;00m \u001b[38;5;21;01mdatasets\u001b[39;00m \u001b[38;5;28;01mimport\u001b[39;00m load_dataset\n\u001b[1;32m      2\u001b[0m data \u001b[38;5;241m=\u001b[39m load_dataset(\u001b[38;5;124m\"\u001b[39m\u001b[38;5;124mag_news\u001b[39m\u001b[38;5;124m\"\u001b[39m,trust_remote_code\u001b[38;5;241m=\u001b[39m\u001b[38;5;28;01mTrue\u001b[39;00m)\n\u001b[0;31mModuleNotFoundError\u001b[0m: No module named 'datasets'"
      ]
     },
     "execution_count": null,
     "metadata": {},
     "output_type": "execute_result"
    }
   ],
   "source": [
    "from datasets import load_dataset\n",
    "data = load_dataset(\"ag_news\",trust_remote_code=True)"
   ]
  },
  {
   "cell_type": "markdown",
   "id": "8990168c",
   "metadata": {},
   "source": [
    "### Step 8"
   ]
  },
  {
   "cell_type": "markdown",
   "id": "dbc88c21",
   "metadata": {},
   "source": [
    "**Thought**: [pre-executed by user]"
   ]
  },
  {
   "cell_type": "markdown",
   "id": "0e220655",
   "metadata": {},
   "source": [
    "**Action (None)**:"
   ]
  },
  {
   "cell_type": "code",
   "execution_count": null,
   "id": "a3050143",
   "metadata": {},
   "outputs": [
    {
     "data": {
      "text/plain": [
       "Error: NameError: name 'data' is not defined\u001b[0;31m---------------------------------------------------------------------------\u001b[0m\u001b[0;31mNameError\u001b[0m                                 Traceback (most recent call last)Cell \u001b[0;32mIn[30], line 5\u001b[0m\n\u001b[1;32m      1\u001b[0m \u001b[38;5;66;03m# the code will spit out an error if there is any class which is not available\u001b[39;00m\n\u001b[1;32m      2\u001b[0m \u001b[38;5;66;03m# since the dataset have 4 classes the the train, test and val_indices are handpicked\u001b[39;00m\n\u001b[1;32m      3\u001b[0m \u001b[38;5;66;03m# so that each split get reasonable number of classes\u001b[39;00m\n\u001b[0;32m----> 5\u001b[0m train_dataset \u001b[38;5;241m=\u001b[39m \u001b[43mdata\u001b[49m[\u001b[38;5;124m\"\u001b[39m\u001b[38;5;124mtrain\u001b[39m\u001b[38;5;124m\"\u001b[39m]\u001b[38;5;241m.\u001b[39mselect([\u001b[38;5;241m1\u001b[39m,\u001b[38;5;241m2\u001b[39m,\u001b[38;5;241m3\u001b[39m,\u001b[38;5;241m4\u001b[39m,\u001b[38;5;241m5\u001b[39m,\u001b[38;5;241m6\u001b[39m,\u001b[38;5;241m100\u001b[39m,\u001b[38;5;241m101\u001b[39m,\u001b[38;5;241m102\u001b[39m,\u001b[38;5;241m103\u001b[39m,\u001b[38;5;241m104\u001b[39m,\u001b[38;5;241m105\u001b[39m,\u001b[38;5;241m451\u001b[39m,\u001b[38;5;241m452\u001b[39m,\u001b[38;5;241m453\u001b[39m,\u001b[38;5;241m454\u001b[39m,\u001b[38;5;241m455\u001b[39m,\u001b[38;5;241m456\u001b[39m,\u001b[38;5;241m501\u001b[39m,\u001b[38;5;241m502\u001b[39m,\u001b[38;5;241m503\u001b[39m,\u001b[38;5;241m504\u001b[39m,\u001b[38;5;241m505\u001b[39m,\u001b[38;5;241m506\u001b[39m])\n\u001b[1;32m      6\u001b[0m test_dataset \u001b[38;5;241m=\u001b[39m data[\u001b[38;5;124m\"\u001b[39m\u001b[38;5;124mtest\u001b[39m\u001b[38;5;124m\"\u001b[39m]\u001b[38;5;241m.\u001b[39mselect([\u001b[38;5;241m1\u001b[39m,\u001b[38;5;241m2\u001b[39m,\u001b[38;5;241m3\u001b[39m,\u001b[38;5;241m101\u001b[39m,\u001b[38;5;241m103\u001b[39m,\u001b[38;5;241m452\u001b[39m,\u001b[38;5;241m455\u001b[39m,\u001b[38;5;241m501\u001b[39m,\u001b[38;5;241m502\u001b[39m,\u001b[38;5;241m503\u001b[39m,\u001b[38;5;241m504\u001b[39m,\u001b[38;5;241m505\u001b[39m])\n\u001b[1;32m      7\u001b[0m val_indices \u001b[38;5;241m=\u001b[39m [\u001b[38;5;241m0\u001b[39m,\u001b[38;5;241m1\u001b[39m,\u001b[38;5;241m2\u001b[39m,\u001b[38;5;241m6\u001b[39m,\u001b[38;5;241m7\u001b[39m,\u001b[38;5;241m8\u001b[39m,\u001b[38;5;241m12\u001b[39m,\u001b[38;5;241m13\u001b[39m,\u001b[38;5;241m14\u001b[39m,\u001b[38;5;241m18\u001b[39m,\u001b[38;5;241m19\u001b[39m,\u001b[38;5;241m20\u001b[39m]\n\u001b[0;31mNameError\u001b[0m: name 'data' is not defined"
      ]
     },
     "execution_count": null,
     "metadata": {},
     "output_type": "execute_result"
    }
   ],
   "source": [
    "# the code will spit out an error if there is any class which is not available\n",
    "# since the dataset have 4 classes the the train, test and val_indices are handpicked\n",
    "# so that each split get reasonable number of classes\n",
    "\n",
    "train_dataset = data[\"train\"].select([1,2,3,4,5,6,100,101,102,103,104,105,451,452,453,454,455,456,501,502,503,504,505,506])\n",
    "test_dataset = data[\"test\"].select([1,2,3,101,103,452,455,501,502,503,504,505])\n",
    "val_indices = [0,1,2,6,7,8,12,13,14,18,19,20]"
   ]
  },
  {
   "cell_type": "markdown",
   "id": "5ff73ebc",
   "metadata": {},
   "source": [
    "### Step 9"
   ]
  },
  {
   "cell_type": "markdown",
   "id": "b08cb616",
   "metadata": {},
   "source": [
    "**Thought**: [pre-executed by user]"
   ]
  },
  {
   "cell_type": "markdown",
   "id": "d988e561",
   "metadata": {},
   "source": [
    "**Action (None)**:"
   ]
  },
  {
   "cell_type": "code",
   "execution_count": null,
   "id": "c7623163",
   "metadata": {},
   "outputs": [
    {
     "data": {
      "text/plain": [
       ""
      ]
     },
     "execution_count": null,
     "metadata": {},
     "output_type": "execute_result"
    }
   ],
   "source": [
    "import pickle\n",
    "def write_to_files(data, src_file, label_file):\n",
    "    with open(src_file, \"w\", encoding=\"utf-8\") as src_f:\n",
    "        labels = []\n",
    "        for example in data:\n",
    "            src_f.write(example[\"text\"] + \"\\n\")\n",
    "            labels.append(example[\"label\"])\n",
    "        pickle.dump(labels, open(label_file, \"wb\"))"
   ]
  },
  {
   "cell_type": "markdown",
   "id": "1b99982e",
   "metadata": {},
   "source": [
    "### Step 10"
   ]
  },
  {
   "cell_type": "markdown",
   "id": "08a954c1",
   "metadata": {},
   "source": [
    "**Thought**: [pre-executed by user]"
   ]
  },
  {
   "cell_type": "markdown",
   "id": "0364d229",
   "metadata": {},
   "source": [
    "**Action (None)**:"
   ]
  },
  {
   "cell_type": "code",
   "execution_count": null,
   "id": "ae8a2ef9",
   "metadata": {},
   "outputs": [
    {
     "data": {
      "text/plain": [
       "Error: NameError: name 'train_dataset' is not defined\u001b[0;31m---------------------------------------------------------------------------\u001b[0m\u001b[0;31mNameError\u001b[0m                                 Traceback (most recent call last)Cell \u001b[0;32mIn[34], line 1\u001b[0m\n\u001b[0;32m----> 1\u001b[0m write_to_files(\u001b[43mtrain_dataset\u001b[49m, \u001b[38;5;124m\"\u001b[39m\u001b[38;5;124mtrain.txt\u001b[39m\u001b[38;5;124m\"\u001b[39m,\u001b[38;5;124m\"\u001b[39m\u001b[38;5;124mtrain_labels.pickle\u001b[39m\u001b[38;5;124m\"\u001b[39m)\n\u001b[1;32m      2\u001b[0m write_to_files(test_dataset, \u001b[38;5;124m\"\u001b[39m\u001b[38;5;124mtest.txt\u001b[39m\u001b[38;5;124m\"\u001b[39m, \u001b[38;5;124m\"\u001b[39m\u001b[38;5;124mtest_labels.pickle\u001b[39m\u001b[38;5;124m\"\u001b[39m)\n\u001b[0;31mNameError\u001b[0m: name 'train_dataset' is not defined"
      ]
     },
     "execution_count": null,
     "metadata": {},
     "output_type": "execute_result"
    }
   ],
   "source": [
    "write_to_files(train_dataset, \"train.txt\",\"train_labels.pickle\")\n",
    "write_to_files(test_dataset, \"test.txt\", \"test_labels.pickle\")"
   ]
  },
  {
   "cell_type": "markdown",
   "id": "bf39d7b7",
   "metadata": {},
   "source": [
    "### Step 11"
   ]
  },
  {
   "cell_type": "markdown",
   "id": "8dbe90c1",
   "metadata": {},
   "source": [
    "**Thought**: [pre-executed by user]"
   ]
  },
  {
   "cell_type": "markdown",
   "id": "8fa2953e",
   "metadata": {},
   "source": [
    "**Action (None)**:"
   ]
  },
  {
   "cell_type": "code",
   "execution_count": null,
   "id": "36c8dfc0",
   "metadata": {},
   "outputs": [
    {
     "data": {
      "text/plain": [
       "/content/BERT-LNL/data/AG_News\n/usr/local/lib/python3.10/site-packages/IPython/core/magics/osm.py:417: UserWarning: This is now an optional IPython functionality, setting dhist requires you to install the `pickleshare` library.\n  self.shell.db['dhist'] = compress_dhist(dhist)[-100:]\n/content/BERT-LNL/data/AG_News/val_indices\n"
      ]
     },
     "execution_count": null,
     "metadata": {},
     "output_type": "execute_result"
    }
   ],
   "source": [
    "%cd ..\n",
    "%mkdir val_indices\n",
    "%cd val_indices"
   ]
  },
  {
   "cell_type": "markdown",
   "id": "34cb60b2",
   "metadata": {},
   "source": [
    "### Step 12"
   ]
  },
  {
   "cell_type": "markdown",
   "id": "6ec5fa98",
   "metadata": {},
   "source": [
    "**Thought**: [pre-executed by user]"
   ]
  },
  {
   "cell_type": "markdown",
   "id": "88bb026d",
   "metadata": {},
   "source": [
    "**Action (None)**:"
   ]
  },
  {
   "cell_type": "code",
   "execution_count": null,
   "id": "bb38bebd",
   "metadata": {},
   "outputs": [
    {
     "data": {
      "text/plain": [
       "Error: NameError: name 'val_indices' is not defined\u001b[0;31m---------------------------------------------------------------------------\u001b[0m\u001b[0;31mNameError\u001b[0m                                 Traceback (most recent call last)Cell \u001b[0;32mIn[38], line 1\u001b[0m\n\u001b[0;32m----> 1\u001b[0m pickle\u001b[38;5;241m.\u001b[39mdump(\u001b[43mval_indices\u001b[49m, \u001b[38;5;28mopen\u001b[39m(\u001b[38;5;124m'\u001b[39m\u001b[38;5;124mAG_News_val_indices.pickle\u001b[39m\u001b[38;5;124m'\u001b[39m, \u001b[38;5;124m\"\u001b[39m\u001b[38;5;124mwb\u001b[39m\u001b[38;5;124m\"\u001b[39m))\n\u001b[0;31mNameError\u001b[0m: name 'val_indices' is not defined"
      ]
     },
     "execution_count": null,
     "metadata": {},
     "output_type": "execute_result"
    }
   ],
   "source": [
    "pickle.dump(val_indices, open('AG_News_val_indices.pickle', \"wb\"))"
   ]
  },
  {
   "cell_type": "markdown",
   "id": "c3f10145",
   "metadata": {},
   "source": [
    "### Step 13"
   ]
  },
  {
   "cell_type": "markdown",
   "id": "2c4e45e6",
   "metadata": {},
   "source": [
    "**Thought**: [pre-executed by user]"
   ]
  },
  {
   "cell_type": "markdown",
   "id": "e6a1068e",
   "metadata": {},
   "source": [
    "**Action (None)**:"
   ]
  },
  {
   "cell_type": "code",
   "execution_count": null,
   "id": "7d8a108d",
   "metadata": {},
   "outputs": [
    {
     "data": {
      "text/plain": [
       "/content/BERT-LNL\n/usr/local/lib/python3.10/site-packages/IPython/core/magics/osm.py:417: UserWarning: This is now an optional IPython functionality, setting dhist requires you to install the `pickleshare` library.\n  self.shell.db['dhist'] = compress_dhist(dhist)[-100:]\n"
      ]
     },
     "execution_count": null,
     "metadata": {},
     "output_type": "execute_result"
    }
   ],
   "source": [
    "%cd /content/BERT-LNL"
   ]
  },
  {
   "cell_type": "markdown",
   "id": "286eef2c",
   "metadata": {},
   "source": [
    "### Step 14"
   ]
  },
  {
   "cell_type": "markdown",
   "id": "1d2eda91",
   "metadata": {},
   "source": [
    "**Thought**: [pre-executed by user]"
   ]
  },
  {
   "cell_type": "markdown",
   "id": "cfd2e790",
   "metadata": {},
   "source": [
    "**Action (None)**:"
   ]
  },
  {
   "cell_type": "code",
   "execution_count": null,
   "id": "7d510f95",
   "metadata": {},
   "outputs": [
    {
     "data": {
      "text/plain": [
       ""
      ]
     },
     "execution_count": null,
     "metadata": {},
     "output_type": "execute_result"
    }
   ],
   "source": [
    "# ## Changes in Repo code\n",
    "# \n",
    "# The change is needed because saving model and wandb restriction is there, som codes are commented nearby, but some are not which is making the code stop running, Authors may have forgot  to remove that part of code.\n",
    "# "
   ]
  },
  {
   "cell_type": "markdown",
   "id": "10b6eafc",
   "metadata": {},
   "source": [
    "### Step 15"
   ]
  },
  {
   "cell_type": "markdown",
   "id": "4dd70ab8",
   "metadata": {},
   "source": [
    "**Thought**: EXECUTED BY USER"
   ]
  },
  {
   "cell_type": "markdown",
   "id": "b35693d9",
   "metadata": {},
   "source": [
    "**Action (None)**:"
   ]
  },
  {
   "cell_type": "code",
   "execution_count": null,
   "id": "35cf7310",
   "metadata": {},
   "outputs": [
    {
     "data": {
      "text/plain": [
       "Edit was successful. Here's the relevant content *after edit* for your inspection (you should check indentation is correct):\n\n                early_stopper.register(val_score['score_dict_n']['accuracy'], model, optimizer)\n\n                # wandb.log({'eval/loss/val_c_loss': val_score['val_c_loss'],\n                #            'eval/loss/val_n_loss': val_score['val_n_loss'],\n                #            'eval/score/val_c_acc': val_score['score_dict_c']['accuracy'],\n                #            'eval/score/val_n_acc': val_score['score_dict_n']['accuracy'],\n                #            'eval/score/test_acc': test_score['score_dict']['accuracy']}, step=global_step)\n\n                loss_noise_tracker.log_loss(model, global_step, device)\n                #loss_noise_tracker.log_last_histogram_to_wandb(step=global_step, normalize=True, tag='eval/loss')\n\n            if early_stopper.early_stop:\n                break\n\n        # if args.save_loss_tracker_information:\n        #     loss_noise_tracker.save_logged_information()\n        #     self.logger.info(\"[WN Trainer]: loss history saved\")\n        best_model = self.create_model(args)\n        best_model_weights = early_stopper.get_final_res()[\"es_best_model\"]\n        best_model.load_state_dict(best_model_weights)\n        best_model = best_model.to(device)\n\n        val_score = self.eval_model_with_both_labels(best_model, v_loader, device, fast_mode=False)\n        test_score = self.eval_model(args, logger, t_loader, best_model, device, fast_mode=False)\n        # wandb.run.summary[\"best_score_on_val_n\"] = test_score['score_dict']['accuracy']"
      ]
     },
     "execution_count": null,
     "metadata": {},
     "output_type": "execute_result"
    }
   ],
   "source": [
    "EDITING `/content/BERT-LNL/trainers/bert_wn_trainer.py. CHANGING:\n",
    "\n",
    "\n",
    "                #            'eval/score/test_acc': test_score['score_dict']['accuracy']}, step=global_step)\n",
    "\n",
    "                loss_noise_tracker.log_loss(model, global_step, device)\n",
    "                loss_noise_tracker.log_last_histogram_to_wandb(step=global_step, normalize=True, tag='eval/loss')\n",
    "\n",
    "            if early_stopper.early_stop:\n",
    "                break\n",
    "\n",
    "        if args.save_loss_tracker_information:\n",
    "            loss_noise_tracker.save_logged_information()\n",
    "            self.logger.info(\"[WN Trainer]: loss history saved\")\n",
    "        best_model = self.create_model(args)\n",
    "        best_model_weights = early_stopper.get_final_res()[\"es_best_model\"]\n",
    "\n",
    "\n",
    "TO:\n",
    "\n",
    "\n",
    "                #            'eval/score/test_acc': test_score['score_dict']['accuracy']}, step=global_step)\n",
    "\n",
    "                loss_noise_tracker.log_loss(model, global_step, device)\n",
    "                #loss_noise_tracker.log_last_histogram_to_wandb(step=global_step, normalize=True, tag='eval/loss')\n",
    "\n",
    "            if early_stopper.early_stop:\n",
    "                break\n",
    "\n",
    "        # if args.save_loss_tracker_information:\n",
    "        #     loss_noise_tracker.save_logged_information()\n",
    "        #     self.logger.info(\"[WN Trainer]: loss history saved\")\n",
    "        best_model = self.create_model(args)\n",
    "        best_model_weights = early_stopper.get_final_res()[\"es_best_model\"]\n"
   ]
  },
  {
   "cell_type": "markdown",
   "id": "7160beef",
   "metadata": {},
   "source": [
    "### Step 16"
   ]
  },
  {
   "cell_type": "markdown",
   "id": "c95b961d",
   "metadata": {},
   "source": [
    "**Thought**: EXECUTED BY USER"
   ]
  },
  {
   "cell_type": "markdown",
   "id": "60fca344",
   "metadata": {},
   "source": [
    "**Action (None)**:"
   ]
  },
  {
   "cell_type": "code",
   "execution_count": null,
   "id": "63c70b87",
   "metadata": {},
   "outputs": [
    {
     "data": {
      "text/plain": [
       "Edit was successful. Here's the relevant content *after edit* for your inspection (you should check indentation is correct):\n        # if args.save_loss_tracker_information:\n        #     loss_noise_tracker.save_logged_information()\n        #     self.logger.info(\"[WN Trainer]: loss history saved\")\n        best_model = self.create_model(args)\n        best_model_weights = early_stopper.get_final_res()[\"es_best_model\"]\n        best_model.load_state_dict(best_model_weights)\n        best_model = best_model.to(device)\n\n        val_score = self.eval_model_with_both_labels(best_model, v_loader, device, fast_mode=False)\n        test_score = self.eval_model(args, logger, t_loader, best_model, device, fast_mode=False)\n        print(f\"Test Score is {test_score}\")\n        # wandb.run.summary[\"best_score_on_val_n\"] = test_score['score_dict']['accuracy']\n        # wandb.run.summary[\"best_val_n\"] = val_score['score_dict_n']['accuracy']\n        # wandb.run.summary[\"best_val_c_on_val_n\"] = val_score['score_dict_c']['accuracy']\n\n\n\n\n    def forward_backward_noisy_batch(self, model, data_dict, loss_fn, args, device):"
      ]
     },
     "execution_count": null,
     "metadata": {},
     "output_type": "execute_result"
    }
   ],
   "source": [
    "EDITING `/content/BERT-LNL/trainers/bert_wn_trainer.py. CHANGING:\n",
    "\n",
    "\n",
    "\n",
    "        val_score = self.eval_model_with_both_labels(best_model, v_loader, device, fast_mode=False)\n",
    "        test_score = self.eval_model(args, logger, t_loader, best_model, device, fast_mode=False)\n",
    "        # wandb.run.summary[\"best_score_on_val_n\"] = test_score['score_dict']['accuracy']\n",
    "        # wandb.run.summary[\"best_val_n\"] = val_score['score_dict_n']['accuracy']\n",
    "\n",
    "\n",
    "TO:\n",
    "\n",
    "\n",
    "\n",
    "        val_score = self.eval_model_with_both_labels(best_model, v_loader, device, fast_mode=False)\n",
    "        test_score = self.eval_model(args, logger, t_loader, best_model, device, fast_mode=False)\n",
    "        print(f\"Test Score is {test_score}\")\n",
    "        # wandb.run.summary[\"best_score_on_val_n\"] = test_score['score_dict']['accuracy']\n",
    "        # wandb.run.summary[\"best_val_n\"] = val_score['score_dict_n']['accuracy']\n"
   ]
  },
  {
   "cell_type": "markdown",
   "id": "8dfb0229",
   "metadata": {},
   "source": [
    "### Step 17"
   ]
  },
  {
   "cell_type": "markdown",
   "id": "0236b650",
   "metadata": {},
   "source": [
    "**Thought**: [pre-executed by user]"
   ]
  },
  {
   "cell_type": "markdown",
   "id": "c857d4c0",
   "metadata": {},
   "source": [
    "**Action (None)**:"
   ]
  },
  {
   "cell_type": "code",
   "execution_count": null,
   "id": "d2a78f47",
   "metadata": {},
   "outputs": [
    {
     "data": {
      "text/plain": [
       ""
      ]
     },
     "execution_count": null,
     "metadata": {},
     "output_type": "execute_result"
    }
   ],
   "source": [
    "# ## Training"
   ]
  },
  {
   "cell_type": "markdown",
   "id": "03e4f5e2",
   "metadata": {},
   "source": [
    "### Step 18"
   ]
  },
  {
   "cell_type": "markdown",
   "id": "a5d424ad",
   "metadata": {},
   "source": [
    "Execution Start time: 05:37:40, End time: 05:37:41 (duration: 1 seconds)"
   ]
  },
  {
   "cell_type": "markdown",
   "id": "c75db8c8",
   "metadata": {},
   "source": [
    "**Thought**: Now that the necessary changes have been made to the code, I will proceed to install the required dependencies. This will ensure that all necessary packages are available for running the training script.\n",
    "\n"
   ]
  },
  {
   "cell_type": "markdown",
   "id": "617ae727",
   "metadata": {},
   "source": [
    "**Action (None)**:"
   ]
  },
  {
   "cell_type": "code",
   "execution_count": null,
   "id": "b8c3a07f",
   "metadata": {},
   "outputs": [
    {
     "data": {
      "text/plain": [
       "ERROR: Could not open requirements file: [Errno 2] No such file or directory: 'requirements.txt'\n\n[notice] A new release of pip is available: 24.0 -> 24.2\n[notice] To update, run: pip install --upgrade pip\n"
      ]
     },
     "execution_count": null,
     "metadata": {},
     "output_type": "execute_result"
    }
   ],
   "source": [
    "!pip install -r requirements.txt"
   ]
  },
  {
   "cell_type": "markdown",
   "id": "13020d54",
   "metadata": {},
   "source": [
    "### Step 19"
   ]
  },
  {
   "cell_type": "markdown",
   "id": "d481c9fe",
   "metadata": {},
   "source": [
    "Execution Start time: 05:37:43, End time: 05:37:43 (duration: 0 seconds)"
   ]
  },
  {
   "cell_type": "markdown",
   "id": "0eef4948",
   "metadata": {},
   "source": [
    "**Thought**: It seems there is no `requirements.txt` file in the repository. I will open the README file to check for any installation instructions or dependencies that need to be installed manually.\n",
    "\n"
   ]
  },
  {
   "cell_type": "markdown",
   "id": "ba578c5d",
   "metadata": {},
   "source": [
    "**Action (open)**:"
   ]
  },
  {
   "cell_type": "code",
   "execution_count": null,
   "id": "4e3135c7",
   "metadata": {},
   "outputs": [
    {
     "data": {
      "text/plain": [
       "[File: /content/BERT-LNL/README.md (48 lines total)]\n1:# BERT_LNL\n2:Code for paper [\"Is BERT Robust to Label Noise? A Study on Learning with Noisy Labels in\n3:Text Classification\"](https://aclanthology.org/2022.insights-1.8.pdf).\n4:\n5:## Data Preparation\n6:### Datasets\n7:We run our experiments on the following four datasets: AG-News, IMDB, Yorùbá, and Hausa.\n8:\n9:| Name | # train | # validation | # test | data source                                            |\n10:|:--------|:--------|:-------------|:-------|:-------------------------------------------------------|\n11:| AGNews | 108000  | 12000        | 7600   | [LINK](https://arxiv.org/abs/1509.01626)               | \n12:| IMDB | 21246   | 3754         | 2500   | [LINK](https://dl.acm.org/doi/10.5555/2002472.2002491) | \n13:| Yorùbá | 1340    | 189         | 379   | [LINK](https://github.com/uds-lsv/transfer-distant-transformer-african) | \n14:| Hausa | 2045    | 290         | 582   | [LINK](https://github.com/uds-lsv/transfer-distant-transformer-african) | \n15:\n16:### Preprocessing\n17:Create a `data` directory as the home directory for all datasets, then create a folder for each dataset in the `data` directory.\n18:\n19:For each dataset, create the following files:\n20:- `[train/validation/test].txt`: one document per line.\n21:- `[train/validation/test]_labels.pickle` files: list of labels (we assume that labels are already encoded in label ids, e.g., [0,0,1,2,3,...,4]).\n22:- If there is no validation data for a given dataset, then there is no need to create the corresponding `validation` files.\n23:- Save files in a `txt_data` directory inside the dataset folder. For example, the full path to the `train.txt` file of the AGNews dataset is `data/AGNews/txt_data/train.txt`.\n24:\n25:## Examples\n26:Run `BERT-WN` on AG-News, with 20% single-flip label noise:\n27:```\n28:CUDA_VISIBLE_DEVICES=[CUDA_ID] python3 ../main.py \\\n29:--dataset AG-NEWs \\\n30:--log_root [LOG_ROOT] \\\n31:--data_root [DATA_ROOT] \\\n32:--trainer_name bert_wn \\\n33:--model_name bert-base-uncased \\\n34:--gen_val \\\n35:--nl_batch_size 32 \\\n36:--eval_batch_size 32 \\\n37:--gradient_accumulation_steps 1 \\\n38:--max_sen_len 64 \\\n39:--lr 0.00002 \\\n40:--num_training_steps 3000 \\\n41:--patience 25 \\\n42:--eval_freq 50 \\\n43:--store_model $STORE_MODEL \\\n44:--noise_level 0.2 \\\n45:--noise_type sflip \\\n46:--manualSeed 1234\n47:```\n48:\n"
      ]
     },
     "execution_count": null,
     "metadata": {},
     "output_type": "execute_result"
    }
   ],
   "source": [
    "open README.md"
   ]
  },
  {
   "cell_type": "markdown",
   "id": "4452e525",
   "metadata": {},
   "source": [
    "### Step 20"
   ]
  },
  {
   "cell_type": "markdown",
   "id": "1bdb5294",
   "metadata": {},
   "source": [
    "Execution Start time: 05:37:45, End time: 05:37:55 (duration: 9 seconds)"
   ]
  },
  {
   "cell_type": "markdown",
   "id": "c172b9ec",
   "metadata": {},
   "source": [
    "**Thought**: The README file does not provide specific instructions for installing dependencies. However, it mentions running the `main.py` script with certain parameters. Since the `requirements.txt` file is missing, I will manually install some common packages that are likely needed for this project, such as `transformers`, `datasets`, and `torch`.\n",
    "\n"
   ]
  },
  {
   "cell_type": "markdown",
   "id": "c550247b",
   "metadata": {},
   "source": [
    "**Action (None)**:"
   ]
  },
  {
   "cell_type": "code",
   "execution_count": null,
   "id": "e218405f",
   "metadata": {},
   "outputs": [
    {
     "data": {
      "text/plain": [
       "Requirement already satisfied: transformers in /usr/local/lib/python3.10/site-packages (4.40.2)\nCollecting datasets\n  Downloading datasets-2.21.0-py3-none-any.whl.metadata (21 kB)\nRequirement already satisfied: torch in /usr/local/lib/python3.10/site-packages (2.2.1+cpu)\nRequirement already satisfied: filelock in /usr/local/lib/python3.10/site-packages (from transformers) (3.15.1)\nRequirement already satisfied: huggingface-hub<1.0,>=0.19.3 in /usr/local/lib/python3.10/site-packages (from transformers) (0.23.3)\nRequirement already satisfied: numpy>=1.17 in /usr/local/lib/python3.10/site-packages (from transformers) (1.25.2)\nRequirement already satisfied: packaging>=20.0 in /usr/local/lib/python3.10/site-packages (from transformers) (24.1)\nRequirement already satisfied: pyyaml>=5.1 in /usr/local/lib/python3.10/site-packages (from transformers) (6.0.1)\nRequirement already satisfied: regex!=2019.12.17 in /usr/local/lib/python3.10/site-packages (from transformers) (2023.12.25)\nRequirement already satisfied: requests in /usr/local/lib/python3.10/site-packages (from transformers) (2.31.0)\nRequirement already satisfied: tokenizers<0.20,>=0.19 in /usr/local/lib/python3.10/site-packages (from transformers) (0.19.1)\nRequirement already satisfied: safetensors>=0.4.1 in /usr/local/lib/python3.10/site-packages (from transformers) (0.4.3)\nRequirement already satisfied: tqdm>=4.27 in /usr/local/lib/python3.10/site-packages (from transformers) (4.66.4)\nCollecting pyarrow>=15.0.0 (from datasets)\n  Downloading pyarrow-17.0.0-cp310-cp310-manylinux_2_28_x86_64.whl.metadata (3.3 kB)\nCollecting dill<0.3.9,>=0.3.0 (from datasets)\n  Downloading dill-0.3.8-py3-none-any.whl.metadata (10 kB)\nRequirement already satisfied: pandas in /usr/local/lib/python3.10/site-packages (from datasets) (2.0.3)\nCollecting requests (from transformers)\n  Downloading requests-2.32.3-py3-none-any.whl.metadata (4.6 kB)\nCollecting xxhash (from datasets)\n  Downloading xxhash-3.5.0-cp310-cp310-manylinux_2_17_x86_64.manylinux2014_x86_64.whl.metadata (12 kB)\nCollecting multiprocess (from datasets)\n  Downloading multiprocess-0.70.16-py310-none-any.whl.metadata (7.2 kB)\nRequirement already satisfied: fsspec<=2024.6.1,>=2023.1.0 in /usr/local/lib/python3.10/site-packages (from fsspec[http]<=2024.6.1,>=2023.1.0->datasets) (2023.6.0)\nRequirement already satisfied: aiohttp in /usr/local/lib/python3.10/site-packages (from datasets) (3.8.3)\nRequirement already satisfied: typing-extensions>=4.8.0 in /usr/local/lib/python3.10/site-packages (from torch) (4.12.2)\nRequirement already satisfied: sympy in /usr/local/lib/python3.10/site-packages (from torch) (1.12)\nRequirement already satisfied: networkx in /usr/local/lib/python3.10/site-packages (from torch) (3.3)\nRequirement already satisfied: jinja2 in /usr/local/lib/python3.10/site-packages (from torch) (3.1.4)\nRequirement already satisfied: attrs>=17.3.0 in /usr/local/lib/python3.10/site-packages (from aiohttp->datasets) (23.2.0)\nRequirement already satisfied: charset-normalizer<3.0,>=2.0 in /usr/local/lib/python3.10/site-packages (from aiohttp->datasets) (2.1.1)\nRequirement already satisfied: multidict<7.0,>=4.5 in /usr/local/lib/python3.10/site-packages (from aiohttp->datasets) (6.0.5)\nRequirement already satisfied: async-timeout<5.0,>=4.0.0a3 in /usr/local/lib/python3.10/site-packages (from aiohttp->datasets) (4.0.3)\nRequirement already satisfied: yarl<2.0,>=1.0 in /usr/local/lib/python3.10/site-packages (from aiohttp->datasets) (1.9.4)\nRequirement already satisfied: frozenlist>=1.1.1 in /usr/local/lib/python3.10/site-packages (from aiohttp->datasets) (1.4.1)\nRequirement already satisfied: aiosignal>=1.1.2 in /usr/local/lib/python3.10/site-packages (from aiohttp->datasets) (1.3.1)\nRequirement already satisfied: idna<4,>=2.5 in /usr/local/lib/python3.10/site-packages (from requests->transformers) (3.7)\nRequirement already satisfied: urllib3<3,>=1.21.1 in /usr/local/lib/python3.10/site-packages (from requests->transformers) (2.0.7)\nRequirement already satisfied: certifi>=2017.4.17 in /usr/local/lib/python3.10/site-packages (from requests->transformers) (2024.6.2)\nRequirement already satisfied: MarkupSafe>=2.0 in /usr/local/lib/python3.10/site-packages (from jinja2->torch) (2.1.5)\nRequirement already satisfied: python-dateutil>=2.8.2 in /usr/local/lib/python3.10/site-packages (from pandas->datasets) (2.9.0.post0)\nRequirement already satisfied: pytz>=2020.1 in /usr/local/lib/python3.10/site-packages (from pandas->datasets) (2024.1)\nRequirement already satisfied: tzdata>=2022.1 in /usr/local/lib/python3.10/site-packages (from pandas->datasets) (2024.1)\nRequirement already satisfied: mpmath>=0.19 in /usr/local/lib/python3.10/site-packages (from sympy->torch) (1.3.0)\nRequirement already satisfied: six>=1.5 in /usr/local/lib/python3.10/site-packages (from python-dateutil>=2.8.2->pandas->datasets) (1.16.0)\nDownloading datasets-2.21.0-py3-none-any.whl (527 kB)\n\u001b[?25l   ━━━━━━━━━━━━━━━━━━━━━━━━━━━━━━━━━━━━━━━━ 0.0/527.3 kB ? eta -:--:--\n\n\u001b[?25hDownloading dill-0.3.8-py3-none-any.whl (116 kB)\n\u001b[?25l   ━━━━━━━━━━━━━━━━━━━━━━━━━━━━━━━━━━━━━━━━ 0.0/116.3 kB ? eta -:--:--\n\n\u001b[?25hDownloading pyarrow-17.0.0-cp310-cp310-manylinux_2_28_x86_64.whl (39.9 MB)\n\u001b[?25l   ━━━━━━━━━━━━━━━━━━━━━━━━━━━━━━━━━━━━━━━━ 0.0/39.9 MB ? eta -:--:--\n\n\n\n\n\n\n\n\u001b[?25hDownloading requests-2.32.3-py3-none-any.whl (64 kB)\n\u001b[?25l   ━━━━━━━━━━━━━━━━━━━━━━━━━━━━━━━━━━━━━━━━ 0.0/64.9 kB ? eta -:--:--\n\n\u001b[?25hDownloading multiprocess-0.70.16-py310-none-any.whl (134 kB)\n\u001b[?25l   ━━━━━━━━━━━━━━━━━━━━━━━━━━━━━━━━━━━━━━━━ 0.0/134.8 kB ? eta -:--:--\n\n\u001b[?25hDownloading xxhash-3.5.0-cp310-cp310-manylinux_2_17_x86_64.manylinux2014_x86_64.whl (194 kB)\n\u001b[?25l   ━━━━━━━━━━━━━━━━━━━━━━━━━━━━━━━━━━━━━━━━ 0.0/194.1 kB ? eta -:--:--\n\n\u001b[?25hInstalling collected packages: xxhash, requests, pyarrow, dill, multiprocess, datasets\n  Attempting uninstall: requests\n    Found existing installation: requests 2.31.0\n    Uninstalling requests-2.31.0:\n      Successfully uninstalled requests-2.31.0\nSuccessfully installed datasets-2.21.0 dill-0.3.8 multiprocess-0.70.16 pyarrow-17.0.0 requests-2.32.3 xxhash-3.5.0\n\n[notice] A new release of pip is available: 24.0 -> 24.2\n[notice] To update, run: pip install --upgrade pip\n"
      ]
     },
     "execution_count": null,
     "metadata": {},
     "output_type": "execute_result"
    }
   ],
   "source": [
    "!pip install transformers datasets torch"
   ]
  },
  {
   "cell_type": "markdown",
   "id": "e947adc2",
   "metadata": {},
   "source": [
    "### Step 21"
   ]
  },
  {
   "cell_type": "markdown",
   "id": "8bbd152a",
   "metadata": {},
   "source": [
    "Execution Start time: 05:37:59, End time: 05:38:10 (duration: 10 seconds)"
   ]
  },
  {
   "cell_type": "markdown",
   "id": "41dc795c",
   "metadata": {},
   "source": [
    "**Thought**: The necessary packages have been installed successfully. Now, I will proceed to run the `main.py` script with the specified parameters to train the BERT-WN model on the AG-News dataset with 20% single-flip label noise.\n",
    "\n"
   ]
  },
  {
   "cell_type": "markdown",
   "id": "35adac45",
   "metadata": {},
   "source": [
    "**Action (None)**:"
   ]
  },
  {
   "cell_type": "code",
   "execution_count": null,
   "id": "5092bc55",
   "metadata": {},
   "outputs": [
    {
     "data": {
      "text/plain": [
       "Traceback (most recent call last):\n  File \"/content/BERT-LNL/main.py\", line 2, in <module>\n    from loading_utils import prepare_data, prepare_af_data\n  File \"/content/BERT-LNL/loading_utils.py\", line 6, in <module>\n    import wandb\nModuleNotFoundError: No module named 'wandb'\n"
      ]
     },
     "execution_count": null,
     "metadata": {},
     "output_type": "execute_result"
    }
   ],
   "source": [
    "!python3 main.py \\\n",
    "--dataset AG_News \\\n",
    "--log_root log \\\n",
    "--data_root data \\\n",
    "--trainer_name bert_wn \\\n",
    "--model_name bert-base-uncased \\\n",
    "--gen_val \\\n",
    "--nl_batch_size 32 \\\n",
    "--eval_batch_size 32 \\\n",
    "--gradient_accumulation_steps 1 \\\n",
    "--max_sen_len 64 \\\n",
    "--lr 0.00002 \\\n",
    "--num_epochs 1 \\\n",
    "--num_training_steps 5 \\\n",
    "--patience 1 \\\n",
    "--eval_freq 2 \\\n",
    "--store_model 1 \\\n",
    "--noise_level 0.2 \\\n",
    "--noise_type sflip \\\n",
    "--manualSeed 1234"
   ]
  },
  {
   "cell_type": "markdown",
   "id": "e796e521",
   "metadata": {},
   "source": [
    "### Step 22"
   ]
  },
  {
   "cell_type": "markdown",
   "id": "95b8257f",
   "metadata": {},
   "source": [
    "Execution Start time: 05:38:12, End time: 05:38:22 (duration: 10 seconds)"
   ]
  },
  {
   "cell_type": "markdown",
   "id": "4f57c128",
   "metadata": {},
   "source": [
    "**Thought**: The error indicates that the `wandb` module is missing. I will install the `wandb` package to resolve this issue.\n",
    "\n"
   ]
  },
  {
   "cell_type": "markdown",
   "id": "abe3a49e",
   "metadata": {},
   "source": [
    "**Action (None)**:"
   ]
  },
  {
   "cell_type": "code",
   "execution_count": null,
   "id": "556b4394",
   "metadata": {},
   "outputs": [
    {
     "data": {
      "text/plain": [
       "Collecting wandb\n  Downloading wandb-0.17.7-py3-none-manylinux_2_17_x86_64.manylinux2014_x86_64.whl.metadata (10 kB)\nRequirement already satisfied: click!=8.0.0,>=7.1 in /usr/local/lib/python3.10/site-packages (from wandb) (8.1.7)\nCollecting docker-pycreds>=0.4.0 (from wandb)\n  Downloading docker_pycreds-0.4.0-py2.py3-none-any.whl.metadata (1.8 kB)\nCollecting gitpython!=3.1.29,>=1.0.0 (from wandb)\n  Downloading GitPython-3.1.43-py3-none-any.whl.metadata (13 kB)\nRequirement already satisfied: platformdirs in /usr/local/lib/python3.10/site-packages (from wandb) (4.2.2)\nRequirement already satisfied: protobuf!=4.21.0,<6,>=3.19.0 in /usr/local/lib/python3.10/site-packages (from wandb) (5.27.1)\nRequirement already satisfied: psutil>=5.0.0 in /usr/local/lib/python3.10/site-packages (from wandb) (5.9.8)\nRequirement already satisfied: pyyaml in /usr/local/lib/python3.10/site-packages (from wandb) (6.0.1)\nRequirement already satisfied: requests<3,>=2.0.0 in /usr/local/lib/python3.10/site-packages (from wandb) (2.32.3)\nCollecting sentry-sdk>=1.0.0 (from wandb)\n  Downloading sentry_sdk-2.13.0-py2.py3-none-any.whl.metadata (9.7 kB)\nCollecting setproctitle (from wandb)\n  Downloading setproctitle-1.3.3-cp310-cp310-manylinux_2_5_x86_64.manylinux1_x86_64.manylinux_2_17_x86_64.manylinux2014_x86_64.whl.metadata (9.9 kB)\nRequirement already satisfied: setuptools in /usr/local/lib/python3.10/site-packages (from wandb) (68.1.2)\nRequirement already satisfied: six>=1.4.0 in /usr/local/lib/python3.10/site-packages (from docker-pycreds>=0.4.0->wandb) (1.16.0)\nCollecting gitdb<5,>=4.0.1 (from gitpython!=3.1.29,>=1.0.0->wandb)\n  Downloading gitdb-4.0.11-py3-none-any.whl.metadata (1.2 kB)\nRequirement already satisfied: charset-normalizer<4,>=2 in /usr/local/lib/python3.10/site-packages (from requests<3,>=2.0.0->wandb) (2.1.1)\nRequirement already satisfied: idna<4,>=2.5 in /usr/local/lib/python3.10/site-packages (from requests<3,>=2.0.0->wandb) (3.7)\nRequirement already satisfied: urllib3<3,>=1.21.1 in /usr/local/lib/python3.10/site-packages (from requests<3,>=2.0.0->wandb) (2.0.7)\nRequirement already satisfied: certifi>=2017.4.17 in /usr/local/lib/python3.10/site-packages (from requests<3,>=2.0.0->wandb) (2024.6.2)\nCollecting smmap<6,>=3.0.1 (from gitdb<5,>=4.0.1->gitpython!=3.1.29,>=1.0.0->wandb)\n  Downloading smmap-5.0.1-py3-none-any.whl.metadata (4.3 kB)\nDownloading wandb-0.17.7-py3-none-manylinux_2_17_x86_64.manylinux2014_x86_64.whl (9.3 MB)\n\u001b[?25l   ━━━━━━━━━━━━━━━━━━━━━━━━━━━━━━━━━━━━━━━━ 0.0/9.3 MB ? eta -:--:--\n\n\n\u001b[?25hDownloading docker_pycreds-0.4.0-py2.py3-none-any.whl (9.0 kB)\nDownloading GitPython-3.1.43-py3-none-any.whl (207 kB)\n\u001b[?25l   ━━━━━━━━━━━━━━━━━━━━━━━━━━━━━━━━━━━━━━━━ 0.0/207.3 kB ? eta -:--:--\n\n\u001b[?25hDownloading sentry_sdk-2.13.0-py2.py3-none-any.whl (309 kB)\n\u001b[?25l   ━━━━━━━━━━━━━━━━━━━━━━━━━━━━━━━━━━━━━━━━ 0.0/309.1 kB ? eta -:--:--\n\n\u001b[?25hDownloading setproctitle-1.3.3-cp310-cp310-manylinux_2_5_x86_64.manylinux1_x86_64.manylinux_2_17_x86_64.manylinux2014_x86_64.whl (30 kB)\nDownloading gitdb-4.0.11-py3-none-any.whl (62 kB)\n\u001b[?25l   ━━━━━━━━━━━━━━━━━━━━━━━━━━━━━━━━━━━━━━━━ 0.0/62.7 kB ? eta -:--:--\n\n\u001b[?25hDownloading smmap-5.0.1-py3-none-any.whl (24 kB)\nInstalling collected packages: smmap, setproctitle, sentry-sdk, docker-pycreds, gitdb, gitpython, wandb\nSuccessfully installed docker-pycreds-0.4.0 gitdb-4.0.11 gitpython-3.1.43 sentry-sdk-2.13.0 setproctitle-1.3.3 smmap-5.0.1 wandb-0.17.7\n\n[notice] A new release of pip is available: 24.0 -> 24.2\n[notice] To update, run: pip install --upgrade pip\n"
      ]
     },
     "execution_count": null,
     "metadata": {},
     "output_type": "execute_result"
    }
   ],
   "source": [
    "!pip install wandb"
   ]
  },
  {
   "cell_type": "markdown",
   "id": "18c74fb4",
   "metadata": {},
   "source": [
    "### Step 23"
   ]
  },
  {
   "cell_type": "markdown",
   "id": "f02c596e",
   "metadata": {},
   "source": [
    "Execution Start time: 05:38:25, End time: 05:38:41 (duration: 15 seconds)"
   ]
  },
  {
   "cell_type": "markdown",
   "id": "fc16628a",
   "metadata": {},
   "source": [
    "**Thought**: The `wandb` package has been successfully installed. Now, I will attempt to run the `main.py` script again with the specified parameters to train the BERT-WN model on the AG-News dataset.\n",
    "\n"
   ]
  },
  {
   "cell_type": "markdown",
   "id": "4bb96fbe",
   "metadata": {},
   "source": [
    "**Action (None)**:"
   ]
  },
  {
   "cell_type": "code",
   "execution_count": null,
   "id": "1a2e5409",
   "metadata": {},
   "outputs": [
    {
     "data": {
      "text/plain": [
       "INFO Training started\nINFO log dir: log/08_22_05_38_36_sflip_nle0.2_nlb32\nINFO loading AG_News...\n/usr/local/lib/python3.10/site-packages/huggingface_hub/file_download.py:1132: FutureWarning: `resume_download` is deprecated and will be removed in version 1.0.0. Downloads always resume when possible. If you want to force a new download, use `force_download=True`.\n  warnings.warn(\n\ntokenizer_config.json:   0%|                         | 0.00/48.0 [00:00<?, ?B/s]\ntokenizer_config.json: 100%|██████████████████| 48.0/48.0 [00:00<00:00, 337kB/s]\n\nconfig.json:   0%|                                    | 0.00/570 [00:00<?, ?B/s]\n\n\nvocab.txt:   0%|                                     | 0.00/232k [00:00<?, ?B/s]\n\n\n\ntokenizer.json:   0%|                                | 0.00/466k [00:00<?, ?B/s]\n\n\nTraceback (most recent call last):\n  File \"/content/BERT-LNL/main.py\", line 163, in <module>\n    main()\n  File \"/content/BERT-LNL/main.py\", line 145, in main\n    nl_set, ul_set, v_set, t_set, l2id, id2l = prepare_data(args, logger, r_state, num_classes, has_val, has_ul)\n  File \"/content/BERT-LNL/loading_utils.py\", line 18, in prepare_data\n    tr_data, val_data = get_training_validation_set(args, logger, tokenizer, r_state, has_val, num_classes)\n  File \"/content/BERT-LNL/loading_utils.py\", line 60, in get_training_validation_set\n    tr_data = load_and_cache_text(args, tokenizer, logger, tag='train')\n  File \"/content/BERT-LNL/loading_utils.py\", line 116, in load_and_cache_text\n    docs = read_txt(input_path)\n  File \"/content/BERT-LNL/loading_utils.py\", line 153, in read_txt\n    with open(file_path, 'r', encoding='utf-8') as f:\nFileNotFoundError: [Errno 2] No such file or directory: 'data/AG_News/txt_data/train.txt'\n"
      ]
     },
     "execution_count": null,
     "metadata": {},
     "output_type": "execute_result"
    }
   ],
   "source": [
    "!python3 main.py \\\n",
    "--dataset AG_News \\\n",
    "--log_root log \\\n",
    "--data_root data \\\n",
    "--trainer_name bert_wn \\\n",
    "--model_name bert-base-uncased \\\n",
    "--gen_val \\\n",
    "--nl_batch_size 32 \\\n",
    "--eval_batch_size 32 \\\n",
    "--gradient_accumulation_steps 1 \\\n",
    "--max_sen_len 64 \\\n",
    "--lr 0.00002 \\\n",
    "--num_epochs 1 \\\n",
    "--num_training_steps 5 \\\n",
    "--patience 1 \\\n",
    "--eval_freq 2 \\\n",
    "--store_model 1 \\\n",
    "--noise_level 0.2 \\\n",
    "--noise_type sflip \\\n",
    "--manualSeed 1234"
   ]
  },
  {
   "cell_type": "markdown",
   "id": "b7472c95",
   "metadata": {},
   "source": [
    "### Step 24"
   ]
  },
  {
   "cell_type": "markdown",
   "id": "02f074fe",
   "metadata": {},
   "source": [
    "Execution Start time: 05:38:43, End time: 05:38:43 (duration: 0 seconds)"
   ]
  },
  {
   "cell_type": "markdown",
   "id": "ded755e1",
   "metadata": {},
   "source": [
    "**Thought**: The error indicates that the file `data/AG_News/txt_data/train.txt` is missing. This file should have been created during the data preprocessing step. It seems there was an issue with the data preparation. I will revisit the data preparation steps to ensure the necessary files are created.\n",
    "\n",
    "First, I will navigate to the `data/AG_News/txt_data` directory and verify if the files exist.\n",
    "\n"
   ]
  },
  {
   "cell_type": "markdown",
   "id": "2985754d",
   "metadata": {},
   "source": [
    "**Action (None)**:"
   ]
  },
  {
   "cell_type": "code",
   "execution_count": null,
   "id": "ea67d2d1",
   "metadata": {},
   "outputs": [
    {
     "data": {
      "text/plain": [
       "/content/BERT-LNL/data/AG_News/txt_data\n/usr/local/lib/python3.10/site-packages/IPython/core/magics/osm.py:417: UserWarning: This is now an optional IPython functionality, setting dhist requires you to install the `pickleshare` library.\n  self.shell.db['dhist'] = compress_dhist(dhist)[-100:]\n"
      ]
     },
     "execution_count": null,
     "metadata": {},
     "output_type": "execute_result"
    }
   ],
   "source": [
    "%cd data/AG_News/txt_data"
   ]
  },
  {
   "cell_type": "markdown",
   "id": "ae1b2de6",
   "metadata": {},
   "source": [
    "### Step 25"
   ]
  },
  {
   "cell_type": "markdown",
   "id": "7f3ea292",
   "metadata": {},
   "source": [
    "Execution Start time: 05:38:45, End time: 05:38:46 (duration: 0 seconds)"
   ]
  },
  {
   "cell_type": "markdown",
   "id": "5b0ab397",
   "metadata": {},
   "source": [
    "**Thought**: Now that I'm in the `data/AG_News/txt_data` directory, I will list the files to check if `train.txt` and other necessary files are present.\n",
    "\n"
   ]
  },
  {
   "cell_type": "markdown",
   "id": "35829da7",
   "metadata": {},
   "source": [
    "**Action (None)**:"
   ]
  },
  {
   "cell_type": "code",
   "execution_count": null,
   "id": "437593aa",
   "metadata": {},
   "outputs": [
    {
     "data": {
      "text/plain": [
       ""
      ]
     },
     "execution_count": null,
     "metadata": {},
     "output_type": "execute_result"
    }
   ],
   "source": [
    "!ls"
   ]
  },
  {
   "cell_type": "markdown",
   "id": "1fb37a7b",
   "metadata": {},
   "source": [
    "### Step 26"
   ]
  },
  {
   "cell_type": "markdown",
   "id": "f642aa37",
   "metadata": {},
   "source": [
    "Execution Start time: 05:38:48, End time: 05:39:05 (duration: 16 seconds)"
   ]
  },
  {
   "cell_type": "markdown",
   "id": "b8657d98",
   "metadata": {},
   "source": [
    "**Thought**: It seems that the necessary files are not present in the directory. I will need to redo the data preparation steps to ensure that the `train.txt`, `test.txt`, and other required files are created. Let's reload the dataset and create these files.\n",
    "\n",
    "First, I will load the dataset using the `datasets` library.\n",
    "\n"
   ]
  },
  {
   "cell_type": "markdown",
   "id": "2395a789",
   "metadata": {},
   "source": [
    "**Action (None)**:"
   ]
  },
  {
   "cell_type": "code",
   "execution_count": null,
   "id": "e0dade14",
   "metadata": {},
   "outputs": [
    {
     "data": {
      "text/plain": [
       ""
      ]
     },
     "execution_count": null,
     "metadata": {},
     "output_type": "execute_result"
    }
   ],
   "source": [
    "from datasets import load_dataset\n",
    "data = load_dataset(\"ag_news\", trust_remote_code=True)"
   ]
  },
  {
   "cell_type": "markdown",
   "id": "910a2f19",
   "metadata": {},
   "source": [
    "### Step 27"
   ]
  },
  {
   "cell_type": "markdown",
   "id": "5511ff25",
   "metadata": {},
   "source": [
    "Execution Start time: 05:39:08, End time: 05:39:08 (duration: 0 seconds)"
   ]
  },
  {
   "cell_type": "markdown",
   "id": "e7f70381",
   "metadata": {},
   "source": [
    "**Thought**: The dataset has been loaded successfully. Now, I will select the specific instances from the train, test, and validation splits as per the task instructions and write them to the respective files.\n",
    "\n"
   ]
  },
  {
   "cell_type": "markdown",
   "id": "aad242f0",
   "metadata": {},
   "source": [
    "**Action (None)**:"
   ]
  },
  {
   "cell_type": "code",
   "execution_count": null,
   "id": "c2435664",
   "metadata": {},
   "outputs": [
    {
     "data": {
      "text/plain": [
       ""
      ]
     },
     "execution_count": null,
     "metadata": {},
     "output_type": "execute_result"
    }
   ],
   "source": [
    "train_dataset = data[\"train\"].select([1,2,3,4,5,6,100,101,102,103,104,105,451,452,453,454,455,456,501,502,503,504,505,506])\n",
    "test_dataset = data[\"test\"].select([1,2,3,101,103,452,455,501,502,503,504,505])\n",
    "val_indices = [0,1,2,6,7,8,12,13,14,18,19,20]"
   ]
  },
  {
   "cell_type": "markdown",
   "id": "e1c57eaa",
   "metadata": {},
   "source": [
    "### Step 28"
   ]
  },
  {
   "cell_type": "markdown",
   "id": "0cf7beed",
   "metadata": {},
   "source": [
    "Execution Start time: 05:39:11, End time: 05:39:11 (duration: 0 seconds)"
   ]
  },
  {
   "cell_type": "markdown",
   "id": "d2113d49",
   "metadata": {},
   "source": [
    "**Thought**: The specific instances have been selected successfully. Now, I will write these datasets to the respective files using the `write_to_files` function defined earlier.\n",
    "\n"
   ]
  },
  {
   "cell_type": "markdown",
   "id": "c39d3933",
   "metadata": {},
   "source": [
    "**Action (None)**:"
   ]
  },
  {
   "cell_type": "code",
   "execution_count": null,
   "id": "238aa964",
   "metadata": {},
   "outputs": [
    {
     "data": {
      "text/plain": [
       ""
      ]
     },
     "execution_count": null,
     "metadata": {},
     "output_type": "execute_result"
    }
   ],
   "source": [
    "write_to_files(train_dataset, \"train.txt\", \"train_labels.pickle\")\n",
    "write_to_files(test_dataset, \"test.txt\", \"test_labels.pickle\")\n",
    "pickle.dump(val_indices, open('AG_News_val_indices.pickle', \"wb\"))"
   ]
  },
  {
   "cell_type": "markdown",
   "id": "35cfb6c4",
   "metadata": {},
   "source": [
    "### Step 29"
   ]
  },
  {
   "cell_type": "markdown",
   "id": "3ffee331",
   "metadata": {},
   "source": [
    "Execution Start time: 05:39:12, End time: 05:39:13 (duration: 0 seconds)"
   ]
  },
  {
   "cell_type": "markdown",
   "id": "7dd1c2c4",
   "metadata": {},
   "source": [
    "**Thought**: The necessary files have been created successfully. Now, I will navigate back to the main directory and attempt to run the `main.py` script again with the specified parameters to train the BERT-WN model on the AG-News dataset.\n",
    "\n"
   ]
  },
  {
   "cell_type": "markdown",
   "id": "ce2dc28a",
   "metadata": {},
   "source": [
    "**Action (None)**:"
   ]
  },
  {
   "cell_type": "code",
   "execution_count": null,
   "id": "4f7cea43",
   "metadata": {},
   "outputs": [
    {
     "data": {
      "text/plain": [
       "/content/BERT-LNL\n/usr/local/lib/python3.10/site-packages/IPython/core/magics/osm.py:417: UserWarning: This is now an optional IPython functionality, setting dhist requires you to install the `pickleshare` library.\n  self.shell.db['dhist'] = compress_dhist(dhist)[-100:]\n"
      ]
     },
     "execution_count": null,
     "metadata": {},
     "output_type": "execute_result"
    }
   ],
   "source": [
    "%cd /content/BERT-LNL"
   ]
  },
  {
   "cell_type": "markdown",
   "id": "018ff76d",
   "metadata": {},
   "source": [
    "### Step 30"
   ]
  },
  {
   "cell_type": "markdown",
   "id": "892aab03",
   "metadata": {},
   "source": [
    "Execution Start time: 05:39:16, End time: 05:39:32 (duration: 16 seconds)"
   ]
  },
  {
   "cell_type": "markdown",
   "id": "ed4bf34b",
   "metadata": {},
   "source": [
    "**Thought**: Now that I'm back in the main directory, I will run the `main.py` script with the specified parameters to train the BERT-WN model on the AG-News dataset.\n",
    "\n"
   ]
  },
  {
   "cell_type": "markdown",
   "id": "145979a8",
   "metadata": {},
   "source": [
    "**Action (None)**:"
   ]
  },
  {
   "cell_type": "code",
   "execution_count": null,
   "id": "9d740507",
   "metadata": {},
   "outputs": [
    {
     "data": {
      "text/plain": [
       "INFO Training started\nINFO log dir: log/08_22_05_39_25_sflip_nle0.2_nlb32\nINFO loading AG_News...\n/usr/local/lib/python3.10/site-packages/huggingface_hub/file_download.py:1132: FutureWarning: `resume_download` is deprecated and will be removed in version 1.0.0. Downloads always resume when possible. If you want to force a new download, use `force_download=True`.\n  warnings.warn(\nINFO [Loading and Caching] number of documents = 24\nINFO [Loading and Caching] convert text to features...\n\nconvert docs to tensors:   0%|                           | 0/24 [00:00<?, ?it/s]\nconvert docs to tensors:   4%|▊                  | 1/24 [00:01<00:30,  1.31s/it]\nconvert docs to tensors:   8%|█▌                 | 2/24 [00:02<00:22,  1.04s/it]\nconvert docs to tensors:  12%|██▍                | 3/24 [00:02<00:14,  1.41it/s]\nconvert docs to tensors:  17%|███▏               | 4/24 [00:02<00:10,  1.91it/s]\nconvert docs to tensors:  21%|███▉               | 5/24 [00:02<00:07,  2.39it/s]\nconvert docs to tensors: 100%|██████████████████| 24/24 [00:02<00:00,  8.00it/s]\nINFO [Loading and Caching] saving/caching the features...\nINFO [Loading and Caching] saved\nINFO [Loading and Caching] loading labels...\nTraceback (most recent call last):\n  File \"/content/BERT-LNL/main.py\", line 163, in <module>\n    main()\n  File \"/content/BERT-LNL/main.py\", line 145, in main\n    nl_set, ul_set, v_set, t_set, l2id, id2l = prepare_data(args, logger, r_state, num_classes, has_val, has_ul)\n  File \"/content/BERT-LNL/loading_utils.py\", line 18, in prepare_data\n    tr_data, val_data = get_training_validation_set(args, logger, tokenizer, r_state, has_val, num_classes)\n  File \"/content/BERT-LNL/loading_utils.py\", line 66, in get_training_validation_set\n    with open(val_indices_path, 'rb') as handle:\nFileNotFoundError: [Errno 2] No such file or directory: 'data/AG_News/val_indices/AG_News_val_indices.pickle'\n"
      ]
     },
     "execution_count": null,
     "metadata": {},
     "output_type": "execute_result"
    }
   ],
   "source": [
    "!python3 main.py \\\n",
    "--dataset AG_News \\\n",
    "--log_root log \\\n",
    "--data_root data \\\n",
    "--trainer_name bert_wn \\\n",
    "--model_name bert-base-uncased \\\n",
    "--gen_val \\\n",
    "--nl_batch_size 32 \\\n",
    "--eval_batch_size 32 \\\n",
    "--gradient_accumulation_steps 1 \\\n",
    "--max_sen_len 64 \\\n",
    "--lr 0.00002 \\\n",
    "--num_epochs 1 \\\n",
    "--num_training_steps 5 \\\n",
    "--patience 1 \\\n",
    "--eval_freq 2 \\\n",
    "--store_model 1 \\\n",
    "--noise_level 0.2 \\\n",
    "--noise_type sflip \\\n",
    "--manualSeed 1234"
   ]
  },
  {
   "cell_type": "markdown",
   "id": "13148eeb",
   "metadata": {},
   "source": [
    "### Step 31"
   ]
  },
  {
   "cell_type": "markdown",
   "id": "6ea1d530",
   "metadata": {},
   "source": [
    "Execution Start time: 05:39:35, End time: 05:39:35 (duration: 0 seconds)"
   ]
  },
  {
   "cell_type": "markdown",
   "id": "2ddd7a5e",
   "metadata": {},
   "source": [
    "**Thought**: The error indicates that the file `data/AG_News/val_indices/AG_News_val_indices.pickle` is missing. I need to ensure that this file is created in the correct directory. Let's navigate to the `val_indices` directory and create the file.\n",
    "\n"
   ]
  },
  {
   "cell_type": "markdown",
   "id": "a877bf24",
   "metadata": {},
   "source": [
    "**Action (None)**:"
   ]
  },
  {
   "cell_type": "code",
   "execution_count": null,
   "id": "dbbf7194",
   "metadata": {},
   "outputs": [
    {
     "data": {
      "text/plain": [
       "/content/BERT-LNL/data/AG_News/val_indices\n/usr/local/lib/python3.10/site-packages/IPython/core/magics/osm.py:417: UserWarning: This is now an optional IPython functionality, setting dhist requires you to install the `pickleshare` library.\n  self.shell.db['dhist'] = compress_dhist(dhist)[-100:]\n"
      ]
     },
     "execution_count": null,
     "metadata": {},
     "output_type": "execute_result"
    }
   ],
   "source": [
    "%cd data/AG_News/val_indices"
   ]
  },
  {
   "cell_type": "markdown",
   "id": "c489b248",
   "metadata": {},
   "source": [
    "### Step 32"
   ]
  },
  {
   "cell_type": "markdown",
   "id": "e2d54bf8",
   "metadata": {},
   "source": [
    "Execution Start time: 05:39:37, End time: 05:39:37 (duration: 0 seconds)"
   ]
  },
  {
   "cell_type": "markdown",
   "id": "c6f08613",
   "metadata": {},
   "source": [
    "**Thought**: Now that I'm in the `val_indices` directory, I will create the `AG_News_val_indices.pickle` file by dumping the `val_indices` list into it.\n",
    "\n"
   ]
  },
  {
   "cell_type": "markdown",
   "id": "ee0b4bc4",
   "metadata": {},
   "source": [
    "**Action (None)**:"
   ]
  },
  {
   "cell_type": "code",
   "execution_count": null,
   "id": "b8590b2d",
   "metadata": {},
   "outputs": [
    {
     "data": {
      "text/plain": [
       ""
      ]
     },
     "execution_count": null,
     "metadata": {},
     "output_type": "execute_result"
    }
   ],
   "source": [
    "import pickle\n",
    "val_indices = [0,1,2,6,7,8,12,13,14,18,19,20]\n",
    "pickle.dump(val_indices, open('AG_News_val_indices.pickle', \"wb\"))"
   ]
  },
  {
   "cell_type": "markdown",
   "id": "5f605c74",
   "metadata": {},
   "source": [
    "### Step 33"
   ]
  },
  {
   "cell_type": "markdown",
   "id": "ffc518ab",
   "metadata": {},
   "source": [
    "Execution Start time: 05:39:39, End time: 05:39:39 (duration: 0 seconds)"
   ]
  },
  {
   "cell_type": "markdown",
   "id": "eef8f343",
   "metadata": {},
   "source": [
    "**Thought**: The `AG_News_val_indices.pickle` file has been created successfully. Now, I will navigate back to the main directory and attempt to run the `main.py` script again with the specified parameters to train the BERT-WN model on the AG-News dataset.\n",
    "\n"
   ]
  },
  {
   "cell_type": "markdown",
   "id": "ce51c9be",
   "metadata": {},
   "source": [
    "**Action (None)**:"
   ]
  },
  {
   "cell_type": "code",
   "execution_count": null,
   "id": "dfd67fa9",
   "metadata": {},
   "outputs": [
    {
     "data": {
      "text/plain": [
       "/content/BERT-LNL\n/usr/local/lib/python3.10/site-packages/IPython/core/magics/osm.py:417: UserWarning: This is now an optional IPython functionality, setting dhist requires you to install the `pickleshare` library.\n  self.shell.db['dhist'] = compress_dhist(dhist)[-100:]\n"
      ]
     },
     "execution_count": null,
     "metadata": {},
     "output_type": "execute_result"
    }
   ],
   "source": [
    "%cd /content/BERT-LNL"
   ]
  },
  {
   "cell_type": "markdown",
   "id": "984787b8",
   "metadata": {},
   "source": [
    "### Step 34"
   ]
  },
  {
   "cell_type": "markdown",
   "id": "8552a969",
   "metadata": {},
   "source": [
    "Execution Start time: 05:39:43, End time: 05:42:15 (duration: 152 seconds)"
   ]
  },
  {
   "cell_type": "markdown",
   "id": "18d27d98",
   "metadata": {},
   "source": [
    "**Thought**: Now that I'm back in the main directory, I will run the `main.py` script with the specified parameters to train the BERT-WN model on the AG-News dataset.\n",
    "\n"
   ]
  },
  {
   "cell_type": "markdown",
   "id": "5290b33d",
   "metadata": {},
   "source": [
    "**Action (None)**:"
   ]
  },
  {
   "cell_type": "code",
   "execution_count": null,
   "id": "e6eb14c5",
   "metadata": {},
   "outputs": [
    {
     "data": {
      "text/plain": [
       "INFO Training started\nINFO log dir: log/08_22_05_39_48_sflip_nle0.2_nlb32\nINFO loading AG_News...\n/usr/local/lib/python3.10/site-packages/huggingface_hub/file_download.py:1132: FutureWarning: `resume_download` is deprecated and will be removed in version 1.0.0. Downloads always resume when possible. If you want to force a new download, use `force_download=True`.\n  warnings.warn(\nINFO [Loading and Caching] loading from cache...\nINFO [Loading and Caching] loading labels...\nINFO [Loading and Caching] number of documents = 12\nINFO [Loading and Caching] convert text to features...\n\nconvert docs to tensors:   0%|                           | 0/12 [00:00<?, ?it/s]\nconvert docs to tensors: 100%|█████████████████| 12/12 [00:00<00:00, 138.18it/s]\nINFO [Loading and Caching] saving/caching the features...\nINFO [Loading and Caching] saved\nINFO [Loading and Caching] loading labels...\nINFO Bert WN Trainer: training started\nINFO training size: 12\nINFO validation size: 12\nINFO test size: 12\n\nmodel.safetensors:   0%|                             | 0.00/440M [00:00<?, ?B/s]\n\n\n\n\n\n\n\n\n\n\n\n\n\n\n\n\n\n\n\n\n\n\n\n\n\n\n\n\n\n\n\n\n\n\n\n\n\n\n\n\n\n\n\nINFO Validation set is used here\n/usr/local/lib/python3.10/site-packages/transformers/optimization.py:521: FutureWarning: This implementation of AdamW is deprecated and will be removed in a future version. Use the PyTorch implementation torch.optim.AdamW instead, or set `no_deprecation_warning=True` to disable this warning\n  warnings.warn(\n\n[Vannilla Trainer] training:   0%|                        | 0/5 [00:00<?, ?it/s]\n[Vannilla Trainer] training:  20%|███▏            | 1/5 [00:25<01:43, 25.79s/it]/usr/local/lib/python3.10/site-packages/sklearn/metrics/_classification.py:1517: UndefinedMetricWarning: Precision is ill-defined and being set to 0.0 in labels with no predicted samples. Use `zero_division` parameter to control this behavior.\n  _warn_prf(average, modifier, f\"{metric.capitalize()} is\", len(result))\n/usr/local/lib/python3.10/site-packages/sklearn/metrics/_classification.py:1517: UndefinedMetricWarning: Precision is ill-defined and being set to 0.0 in labels with no predicted samples. Use `zero_division` parameter to control this behavior.\n  _warn_prf(average, modifier, f\"{metric.capitalize()} is\", len(result))\n/usr/local/lib/python3.10/site-packages/sklearn/metrics/_classification.py:1517: UndefinedMetricWarning: Precision is ill-defined and being set to 0.0 in labels with no predicted samples. Use `zero_division` parameter to control this behavior.\n  _warn_prf(average, modifier, f\"{metric.capitalize()} is\", len(result))\n/usr/local/lib/python3.10/site-packages/sklearn/metrics/_classification.py:1517: UndefinedMetricWarning: Precision is ill-defined and being set to 0.0 in labels with no predicted samples. Use `zero_division` parameter to control this behavior.\n  _warn_prf(average, modifier, f\"{metric.capitalize()} is\", len(result))\n/usr/local/lib/python3.10/site-packages/sklearn/metrics/_classification.py:1517: UndefinedMetricWarning: Precision is ill-defined and being set to 0.0 in labels with no predicted samples. Use `zero_division` parameter to control this behavior.\n  _warn_prf(average, modifier, f\"{metric.capitalize()} is\", len(result))\n/usr/local/lib/python3.10/site-packages/sklearn/metrics/_classification.py:1517: UndefinedMetricWarning: Precision is ill-defined and being set to 0.0 in labels with no predicted samples. Use `zero_division` parameter to control this behavior.\n  _warn_prf(average, modifier, f\"{metric.capitalize()} is\", len(result))\n/usr/local/lib/python3.10/site-packages/sklearn/metrics/_classification.py:1517: UndefinedMetricWarning: Precision is ill-defined and being set to 0.0 in labels with no predicted samples. Use `zero_division` parameter to control this behavior.\n  _warn_prf(average, modifier, f\"{metric.capitalize()} is\", len(result))\n/usr/local/lib/python3.10/site-packages/sklearn/metrics/_classification.py:1517: UndefinedMetricWarning: Precision is ill-defined and being set to 0.0 in labels with no predicted samples. Use `zero_division` parameter to control this behavior.\n  _warn_prf(average, modifier, f\"{metric.capitalize()} is\", len(result))\n/usr/local/lib/python3.10/site-packages/sklearn/metrics/_classification.py:1517: UndefinedMetricWarning: Precision is ill-defined and being set to 0.0 in labels with no predicted samples. Use `zero_division` parameter to control this behavior.\n  _warn_prf(average, modifier, f\"{metric.capitalize()} is\", len(result))\n/usr/local/lib/python3.10/site-packages/sklearn/metrics/_classification.py:1517: UndefinedMetricWarning: Precision is ill-defined and being set to 0.0 in labels with no predicted samples. Use `zero_division` parameter to control this behavior.\n  _warn_prf(average, modifier, f\"{metric.capitalize()} is\", len(result))\n/usr/local/lib/python3.10/site-packages/sklearn/metrics/_classification.py:1517: UndefinedMetricWarning: Precision is ill-defined and being set to 0.0 in labels with no predicted samples. Use `zero_division` parameter to control this behavior.\n  _warn_prf(average, modifier, f\"{metric.capitalize()} is\", len(result))\n/usr/local/lib/python3.10/site-packages/sklearn/metrics/_classification.py:1517: UndefinedMetricWarning: Precision is ill-defined and being set to 0.0 in labels with no predicted samples. Use `zero_division` parameter to control this behavior.\n  _warn_prf(average, modifier, f\"{metric.capitalize()} is\", len(result))\n/usr/local/lib/python3.10/site-packages/sklearn/metrics/_classification.py:1517: UndefinedMetricWarning: Precision is ill-defined and being set to 0.0 in labels with no predicted samples. Use `zero_division` parameter to control this behavior.\n  _warn_prf(average, modifier, f\"{metric.capitalize()} is\", len(result))\n/usr/local/lib/python3.10/site-packages/sklearn/metrics/_classification.py:1517: UndefinedMetricWarning: Precision is ill-defined and being set to 0.0 in labels with no predicted samples. Use `zero_division` parameter to control this behavior.\n  _warn_prf(average, modifier, f\"{metric.capitalize()} is\", len(result))\n/usr/local/lib/python3.10/site-packages/sklearn/metrics/_classification.py:1517: UndefinedMetricWarning: Precision is ill-defined and being set to 0.0 in labels with no predicted samples. Use `zero_division` parameter to control this behavior.\n  _warn_prf(average, modifier, f\"{metric.capitalize()} is\", len(result))\n/usr/local/lib/python3.10/site-packages/sklearn/metrics/_classification.py:1517: UndefinedMetricWarning: Precision is ill-defined and being set to 0.0 in labels with no predicted samples. Use `zero_division` parameter to control this behavior.\n  _warn_prf(average, modifier, f\"{metric.capitalize()} is\", len(result))\n/usr/local/lib/python3.10/site-packages/sklearn/metrics/_classification.py:1517: UndefinedMetricWarning: Precision is ill-defined and being set to 0.0 in labels with no predicted samples. Use `zero_division` parameter to control this behavior.\n  _warn_prf(average, modifier, f\"{metric.capitalize()} is\", len(result))\n/usr/local/lib/python3.10/site-packages/sklearn/metrics/_classification.py:1517: UndefinedMetricWarning: Precision is ill-defined and being set to 0.0 in labels with no predicted samples. Use `zero_division` parameter to control this behavior.\n  _warn_prf(average, modifier, f\"{metric.capitalize()} is\", len(result))\n\n[Vannilla Trainer] training:  40%|██████▍         | 2/5 [00:35<00:49, 16.42s/it]\n[Vannilla Trainer] training:  60%|█████████▌      | 3/5 [00:40<00:22, 11.24s/it]/usr/local/lib/python3.10/site-packages/sklearn/metrics/_classification.py:1517: UndefinedMetricWarning: Precision is ill-defined and being set to 0.0 in labels with no predicted samples. Use `zero_division` parameter to control this behavior.\n  _warn_prf(average, modifier, f\"{metric.capitalize()} is\", len(result))\n/usr/local/lib/python3.10/site-packages/sklearn/metrics/_classification.py:1517: UndefinedMetricWarning: Precision is ill-defined and being set to 0.0 in labels with no predicted samples. Use `zero_division` parameter to control this behavior.\n  _warn_prf(average, modifier, f\"{metric.capitalize()} is\", len(result))\n/usr/local/lib/python3.10/site-packages/sklearn/metrics/_classification.py:1517: UndefinedMetricWarning: Precision is ill-defined and being set to 0.0 in labels with no predicted samples. Use `zero_division` parameter to control this behavior.\n  _warn_prf(average, modifier, f\"{metric.capitalize()} is\", len(result))\n/usr/local/lib/python3.10/site-packages/sklearn/metrics/_classification.py:1517: UndefinedMetricWarning: Precision is ill-defined and being set to 0.0 in labels with no predicted samples. Use `zero_division` parameter to control this behavior.\n  _warn_prf(average, modifier, f\"{metric.capitalize()} is\", len(result))\n/usr/local/lib/python3.10/site-packages/sklearn/metrics/_classification.py:1517: UndefinedMetricWarning: Precision is ill-defined and being set to 0.0 in labels with no predicted samples. Use `zero_division` parameter to control this behavior.\n  _warn_prf(average, modifier, f\"{metric.capitalize()} is\", len(result))\n/usr/local/lib/python3.10/site-packages/sklearn/metrics/_classification.py:1517: UndefinedMetricWarning: Precision is ill-defined and being set to 0.0 in labels with no predicted samples. Use `zero_division` parameter to control this behavior.\n  _warn_prf(average, modifier, f\"{metric.capitalize()} is\", len(result))\n/usr/local/lib/python3.10/site-packages/sklearn/metrics/_classification.py:1517: UndefinedMetricWarning: Precision is ill-defined and being set to 0.0 in labels with no predicted samples. Use `zero_division` parameter to control this behavior.\n  _warn_prf(average, modifier, f\"{metric.capitalize()} is\", len(result))\n/usr/local/lib/python3.10/site-packages/sklearn/metrics/_classification.py:1517: UndefinedMetricWarning: Precision is ill-defined and being set to 0.0 in labels with no predicted samples. Use `zero_division` parameter to control this behavior.\n  _warn_prf(average, modifier, f\"{metric.capitalize()} is\", len(result))\n/usr/local/lib/python3.10/site-packages/sklearn/metrics/_classification.py:1517: UndefinedMetricWarning: Precision is ill-defined and being set to 0.0 in labels with no predicted samples. Use `zero_division` parameter to control this behavior.\n  _warn_prf(average, modifier, f\"{metric.capitalize()} is\", len(result))\n/usr/local/lib/python3.10/site-packages/sklearn/metrics/_classification.py:1517: UndefinedMetricWarning: Precision is ill-defined and being set to 0.0 in labels with no predicted samples. Use `zero_division` parameter to control this behavior.\n  _warn_prf(average, modifier, f\"{metric.capitalize()} is\", len(result))\n/usr/local/lib/python3.10/site-packages/sklearn/metrics/_classification.py:1517: UndefinedMetricWarning: Precision is ill-defined and being set to 0.0 in labels with no predicted samples. Use `zero_division` parameter to control this behavior.\n  _warn_prf(average, modifier, f\"{metric.capitalize()} is\", len(result))\n/usr/local/lib/python3.10/site-packages/sklearn/metrics/_classification.py:1517: UndefinedMetricWarning: Precision is ill-defined and being set to 0.0 in labels with no predicted samples. Use `zero_division` parameter to control this behavior.\n  _warn_prf(average, modifier, f\"{metric.capitalize()} is\", len(result))\n/usr/local/lib/python3.10/site-packages/sklearn/metrics/_classification.py:1517: UndefinedMetricWarning: Precision is ill-defined and being set to 0.0 in labels with no predicted samples. Use `zero_division` parameter to control this behavior.\n  _warn_prf(average, modifier, f\"{metric.capitalize()} is\", len(result))\n/usr/local/lib/python3.10/site-packages/sklearn/metrics/_classification.py:1517: UndefinedMetricWarning: Precision is ill-defined and being set to 0.0 in labels with no predicted samples. Use `zero_division` parameter to control this behavior.\n  _warn_prf(average, modifier, f\"{metric.capitalize()} is\", len(result))\n/usr/local/lib/python3.10/site-packages/sklearn/metrics/_classification.py:1517: UndefinedMetricWarning: Precision is ill-defined and being set to 0.0 in labels with no predicted samples. Use `zero_division` parameter to control this behavior.\n  _warn_prf(average, modifier, f\"{metric.capitalize()} is\", len(result))\n/usr/local/lib/python3.10/site-packages/sklearn/metrics/_classification.py:1517: UndefinedMetricWarning: Precision is ill-defined and being set to 0.0 in labels with no predicted samples. Use `zero_division` parameter to control this behavior.\n  _warn_prf(average, modifier, f\"{metric.capitalize()} is\", len(result))\n/usr/local/lib/python3.10/site-packages/sklearn/metrics/_classification.py:1517: UndefinedMetricWarning: Precision is ill-defined and being set to 0.0 in labels with no predicted samples. Use `zero_division` parameter to control this behavior.\n  _warn_prf(average, modifier, f\"{metric.capitalize()} is\", len(result))\n/usr/local/lib/python3.10/site-packages/sklearn/metrics/_classification.py:1517: UndefinedMetricWarning: Precision is ill-defined and being set to 0.0 in labels with no predicted samples. Use `zero_division` parameter to control this behavior.\n  _warn_prf(average, modifier, f\"{metric.capitalize()} is\", len(result))\n\n[Vannilla Trainer] training:  80%|████████████▊   | 4/5 [00:50<00:10, 10.49s/it]\n[Vannilla Trainer] training: 100%|████████████████| 5/5 [00:54<00:00,  8.39s/it]\n[Vannilla Trainer] training: 100%|████████████████| 5/5 [00:54<00:00, 10.95s/it]\n/usr/local/lib/python3.10/site-packages/huggingface_hub/file_download.py:1132: FutureWarning: `resume_download` is deprecated and will be removed in version 1.0.0. Downloads always resume when possible. If you want to force a new download, use `force_download=True`.\n  warnings.warn(\n/usr/local/lib/python3.10/site-packages/sklearn/metrics/_classification.py:1517: UndefinedMetricWarning: Precision is ill-defined and being set to 0.0 in labels with no predicted samples. Use `zero_division` parameter to control this behavior.\n  _warn_prf(average, modifier, f\"{metric.capitalize()} is\", len(result))\n/usr/local/lib/python3.10/site-packages/sklearn/metrics/_classification.py:1517: UndefinedMetricWarning: Precision is ill-defined and being set to 0.0 in labels with no predicted samples. Use `zero_division` parameter to control this behavior.\n  _warn_prf(average, modifier, f\"{metric.capitalize()} is\", len(result))\n/usr/local/lib/python3.10/site-packages/sklearn/metrics/_classification.py:1517: UndefinedMetricWarning: Precision is ill-defined and being set to 0.0 in labels with no predicted samples. Use `zero_division` parameter to control this behavior.\n  _warn_prf(average, modifier, f\"{metric.capitalize()} is\", len(result))\n/usr/local/lib/python3.10/site-packages/sklearn/metrics/_classification.py:1517: UndefinedMetricWarning: Precision is ill-defined and being set to 0.0 in labels with no predicted samples. Use `zero_division` parameter to control this behavior.\n  _warn_prf(average, modifier, f\"{metric.capitalize()} is\", len(result))\n/usr/local/lib/python3.10/site-packages/sklearn/metrics/_classification.py:1517: UndefinedMetricWarning: Precision is ill-defined and being set to 0.0 in labels with no predicted samples. Use `zero_division` parameter to control this behavior.\n  _warn_prf(average, modifier, f\"{metric.capitalize()} is\", len(result))\n/usr/local/lib/python3.10/site-packages/sklearn/metrics/_classification.py:1517: UndefinedMetricWarning: Precision is ill-defined and being set to 0.0 in labels with no predicted samples. Use `zero_division` parameter to control this behavior.\n  _warn_prf(average, modifier, f\"{metric.capitalize()} is\", len(result))\n/usr/local/lib/python3.10/site-packages/sklearn/metrics/_classification.py:1517: UndefinedMetricWarning: Precision is ill-defined and being set to 0.0 in labels with no predicted samples. Use `zero_division` parameter to control this behavior.\n  _warn_prf(average, modifier, f\"{metric.capitalize()} is\", len(result))\n/usr/local/lib/python3.10/site-packages/sklearn/metrics/_classification.py:1517: UndefinedMetricWarning: Precision is ill-defined and being set to 0.0 in labels with no predicted samples. Use `zero_division` parameter to control this behavior.\n  _warn_prf(average, modifier, f\"{metric.capitalize()} is\", len(result))\n/usr/local/lib/python3.10/site-packages/sklearn/metrics/_classification.py:1517: UndefinedMetricWarning: Precision is ill-defined and being set to 0.0 in labels with no predicted samples. Use `zero_division` parameter to control this behavior.\n  _warn_prf(average, modifier, f\"{metric.capitalize()} is\", len(result))\n/usr/local/lib/python3.10/site-packages/sklearn/metrics/_classification.py:1517: UndefinedMetricWarning: Precision is ill-defined and being set to 0.0 in labels with no predicted samples. Use `zero_division` parameter to control this behavior.\n  _warn_prf(average, modifier, f\"{metric.capitalize()} is\", len(result))\n/usr/local/lib/python3.10/site-packages/sklearn/metrics/_classification.py:1517: UndefinedMetricWarning: Precision is ill-defined and being set to 0.0 in labels with no predicted samples. Use `zero_division` parameter to control this behavior.\n  _warn_prf(average, modifier, f\"{metric.capitalize()} is\", len(result))\n/usr/local/lib/python3.10/site-packages/sklearn/metrics/_classification.py:1517: UndefinedMetricWarning: Precision is ill-defined and being set to 0.0 in labels with no predicted samples. Use `zero_division` parameter to control this behavior.\n  _warn_prf(average, modifier, f\"{metric.capitalize()} is\", len(result))\n/usr/local/lib/python3.10/site-packages/sklearn/metrics/_classification.py:1517: UndefinedMetricWarning: Precision is ill-defined and being set to 0.0 in labels with no predicted samples. Use `zero_division` parameter to control this behavior.\n  _warn_prf(average, modifier, f\"{metric.capitalize()} is\", len(result))\n/usr/local/lib/python3.10/site-packages/sklearn/metrics/_classification.py:1517: UndefinedMetricWarning: Precision is ill-defined and being set to 0.0 in labels with no predicted samples. Use `zero_division` parameter to control this behavior.\n  _warn_prf(average, modifier, f\"{metric.capitalize()} is\", len(result))\n/usr/local/lib/python3.10/site-packages/sklearn/metrics/_classification.py:1517: UndefinedMetricWarning: Precision is ill-defined and being set to 0.0 in labels with no predicted samples. Use `zero_division` parameter to control this behavior.\n  _warn_prf(average, modifier, f\"{metric.capitalize()} is\", len(result))\n/usr/local/lib/python3.10/site-packages/sklearn/metrics/_classification.py:1517: UndefinedMetricWarning: Precision is ill-defined and being set to 0.0 in labels with no predicted samples. Use `zero_division` parameter to control this behavior.\n  _warn_prf(average, modifier, f\"{metric.capitalize()} is\", len(result))\n/usr/local/lib/python3.10/site-packages/sklearn/metrics/_classification.py:1517: UndefinedMetricWarning: Precision is ill-defined and being set to 0.0 in labels with no predicted samples. Use `zero_division` parameter to control this behavior.\n  _warn_prf(average, modifier, f\"{metric.capitalize()} is\", len(result))\n/usr/local/lib/python3.10/site-packages/sklearn/metrics/_classification.py:1517: UndefinedMetricWarning: Precision is ill-defined and being set to 0.0 in labels with no predicted samples. Use `zero_division` parameter to control this behavior.\n  _warn_prf(average, modifier, f\"{metric.capitalize()} is\", len(result))\nTest Score is {'score_dict': {'0': {'precision': 0.0, 'recall': 0.0, 'f1-score': 0.0, 'support': 3.0}, '1': {'precision': 0.0, 'recall': 0.0, 'f1-score': 0.0, 'support': 3.0}, '2': {'precision': 0.0, 'recall': 0.0, 'f1-score': 0.0, 'support': 3.0}, '3': {'precision': 0.25, 'recall': 1.0, 'f1-score': 0.4, 'support': 3.0}, 'accuracy': 0.25, 'macro avg': {'precision': 0.0625, 'recall': 0.25, 'f1-score': 0.1, 'support': 12.0}, 'weighted avg': {'precision': 0.0625, 'recall': 0.25, 'f1-score': 0.10000000000000002, 'support': 12.0}}, 'score_str': '              precision    recall  f1-score   support\\n\\n           0       0.00      0.00      0.00         3\\n           1       0.00      0.00      0.00         3\\n           2       0.00      0.00      0.00         3\\n           3       0.25      1.00      0.40         3\\n\\n    accuracy                           0.25        12\\n   macro avg       0.06      0.25      0.10        12\\nweighted avg       0.06      0.25      0.10        12\\n'}\n"
      ]
     },
     "execution_count": null,
     "metadata": {},
     "output_type": "execute_result"
    }
   ],
   "source": [
    "!python3 main.py \\\n",
    "--dataset AG_News \\\n",
    "--log_root log \\\n",
    "--data_root data \\\n",
    "--trainer_name bert_wn \\\n",
    "--model_name bert-base-uncased \\\n",
    "--gen_val \\\n",
    "--nl_batch_size 32 \\\n",
    "--eval_batch_size 32 \\\n",
    "--gradient_accumulation_steps 1 \\\n",
    "--max_sen_len 64 \\\n",
    "--lr 0.00002 \\\n",
    "--num_epochs 1 \\\n",
    "--num_training_steps 5 \\\n",
    "--patience 1 \\\n",
    "--eval_freq 2 \\\n",
    "--store_model 1 \\\n",
    "--noise_level 0.2 \\\n",
    "--noise_type sflip \\\n",
    "--manualSeed 1234"
   ]
  },
  {
   "cell_type": "markdown",
   "id": "7d273d37",
   "metadata": {},
   "source": [
    "### Step 35"
   ]
  },
  {
   "cell_type": "markdown",
   "id": "8022913a",
   "metadata": {},
   "source": [
    "Execution Start time: 05:42:19, End time: 05:42:19 (duration: 0 seconds)"
   ]
  },
  {
   "cell_type": "markdown",
   "id": "c3cd2e02",
   "metadata": {},
   "source": [
    "**Thought**: The training and evaluation have been completed successfully. The test score has been printed, and I can now extract the required metrics to submit the answer. The metrics are as follows:\n",
    "\n",
    "- Accuracy: 0.25\n",
    "- Weighted Average Precision: 0.0625\n",
    "- Weighted Average Recall: 0.25\n",
    "- Weighted Average F1-Score: 0.1\n",
    "- Weighted Average Support: 12.0\n",
    "\n",
    "I will now submit these metrics in the required JSON format.\n",
    "\n"
   ]
  },
  {
   "cell_type": "markdown",
   "id": "78143576",
   "metadata": {},
   "source": [
    "**Action (submit)**:"
   ]
  },
  {
   "cell_type": "code",
   "execution_count": null,
   "id": "3b04b6ff",
   "metadata": {},
   "outputs": [
    {
     "data": {
      "text/plain": [
       "{accuracy: 0.25, weighted_avg: {precision: 0.0625, recall: 0.25, f1-score: 0.1, support: 12.0}}"
      ]
     },
     "execution_count": null,
     "metadata": {},
     "output_type": "execute_result"
    }
   ],
   "source": [
    "submit {\"accuracy\": 0.25, \"weighted_avg\": {\"precision\": 0.0625, \"recall\": 0.25, \"f1-score\": 0.1, \"support\": 12.0}}"
   ]
  }
 ],
 "metadata": {},
 "nbformat": 4,
 "nbformat_minor": 5
}
