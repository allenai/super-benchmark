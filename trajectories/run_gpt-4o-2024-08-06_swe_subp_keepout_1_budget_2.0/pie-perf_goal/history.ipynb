{
 "cells": [
  {
   "cell_type": "markdown",
   "id": "097369a3",
   "metadata": {},
   "source": [
    "### System Prompt\n",
    "<details>\n",
    "SETTING: You are an autonomous programmer, and you're working directly in the command line with a special Jupyter notebook interface.\n",
    "\n",
    "The special Jupyter notebook interface consists of a file editor that shows you 100 lines of a file at a time.\n",
    "You can execute commands in the notebook using:\n",
    "\n",
    "1. Bash commands: Commands starting with !.\n",
    "2. Python commands: Standard Python code.\n",
    "3. Magic commands: Commands starting with %, e.g., %cd <path>.\n",
    "\n",
    "Additionally, you can also use the following commands to help you navigate and edit files.\n",
    "\n",
    "COMMANDS:\n",
    "\n",
    "open:\n",
    "  docstring: opens the file at the given path in the editor. If line_number is provided, the window will be move to include that line\n",
    "  signature: open <path> [<line_number>]\n",
    "  arguments:\n",
    "    - path (string) [required]: the path to the file to open\n",
    "    - line_number (integer) [optional]: the line number to move the window to (if not provided, the window will start at the top of the file)\n",
    "\n",
    "create:\n",
    "  docstring: creates and opens a new file with the given name\n",
    "  signature: create <filename>\n",
    "  arguments:\n",
    "    - filename (string) [required]: the name of the file to create\n",
    "\n",
    "goto:\n",
    "  docstring: moves the window to show <line_number>\n",
    "  signature: goto <line_number>\n",
    "  arguments:\n",
    "    - line_number (integer) [required]: the line number to move the window to\n",
    "\n",
    "scroll_down:\n",
    "  docstring: moves the window down {WINDOW} lines\n",
    "  signature: scroll_down\n",
    "\n",
    "scroll_up:\n",
    "  docstring: moves the window down {WINDOW} lines\n",
    "  signature: scroll_up\n",
    "\n",
    "submit:\n",
    "  docstring: submits your final answer\n",
    "  signature: submit <answer>\n",
    "  arguments:\n",
    "    - answer (string) [required]: the answer to be submitted\n",
    "\n",
    "search_dir:\n",
    "  docstring: searches for search_term in all files in dir_path. If dir_path is not provided, searches in the current directory\n",
    "  signature: search_dir <search_term> [<dir_path>]\n",
    "  arguments:\n",
    "    - search_term (string) [required]: the term to search for\n",
    "    - dir_path (string) [optional]: the directory to search in (if not provided, searches in the current directory)\n",
    "\n",
    "search_file:\n",
    "  docstring: searches for search_term in file. If file is not provided, searches in the current open file\n",
    "  signature: search_file <search_term> [<file>]\n",
    "  arguments:\n",
    "    - search_term (string) [required]: the term to search for\n",
    "    - file (string) [optional]: the file to search in (if not provided, searches in the current open file)\n",
    "\n",
    "find_file:\n",
    "  docstring: finds all files with the given name in dir_path. If dir_path is not provided, searches in the current directory\n",
    "  signature: find_file <file_name> [<dir_path>]\n",
    "  arguments:\n",
    "    - file_name (string) [required]: the name of the file to search for\n",
    "    - dir_path (string) [optional]: the directory to search in (if not provided, searches in the current directory)\n",
    "\n",
    "edit:\n",
    "  docstring: replaces lines <start_line> through <end_line> (inclusive) with the given text in the open file. The replacement text is terminated by a line with only end_of_edit on it. All of the <replacement text> will be entered, so make sure your indentation is formatted properly. Python files will be checked for syntax errors after the edit. If the system detects a syntax error, the edit will not be executed. Simply try to edit the file again, but make sure to read the error message and modify the edit command you issue accordingly. Issuing the same command a second time will just lead to the same error message again.\n",
    "  signature: edit <start_line>:<end_line>\n",
    "<replacement_text>\n",
    "end_of_edit\n",
    "  arguments:\n",
    "    - start_line (integer) [required]: the line number to start the edit at\n",
    "    - end_line (integer) [required]: the line number to end the edit at (inclusive)\n",
    "    - replacement_text (string) [required]: the text to replace the current selection with\n",
    "\n",
    "\n",
    "\n",
    "Please note that THE EDIT COMMAND REQUIRES PROPER INDENTATION. \n",
    "If you'd like to add the line '        print(x)' you must fully write that out, with all those spaces before the code! Indentation is important and code that is not indented correctly will fail and require fixing before it can be run.\n",
    "\n",
    "RESPONSE FORMAT:\n",
    "Your shell prompt is formatted as follows:\n",
    "(Open file: <path>)\n",
    "(Current directory: <cwd>)\n",
    "In [ ]\n",
    "\n",
    "You need to format your output using two fields: discussion and command.\n",
    "Your output should always include _one_ discussion and _one_ command field EXACTLY as in the following example:\n",
    "DISCUSSION\n",
    "First I'll start by using ls to see what files are in the current directory. Then maybe we can look at some relevant files to see what they look like.\n",
    "```\n",
    "!ls -a\n",
    "```\n",
    "\n",
    "You should only include a *SINGLE* command in the command section and then wait for a response from the shell before continuing with more discussion and commands. Everything you include in the DISCUSSION section will be saved for future reference.\n",
    "If you'd like to issue two commands at once, PLEASE DO NOT DO THAT! Please instead first submit just the first command, and then after receiving a response you'll be able to issue the second command. \n",
    "You're free to use any other bash commands you want (e.g. find, grep, cat, ls, cd) in addition to the special commands listed above.\n",
    "</details>\n"
   ]
  },
  {
   "cell_type": "markdown",
   "id": "eccd722d",
   "metadata": {},
   "source": [
    "### Query\n",
    "Evaluate the generations of my code improving model which are provided in https://drive.google.com/file/d/1izs1iF5cd_NAZsOaZvrrQF3NAsoP8lHf/view?usp=sharing (v1 vs v0). Once evaluated, report the result problem_id and input_acc for each problem of the dataset, as a json list of dictionaries structured as follows: [{\"problem_id\": \"\", \"input_acc\": 0.0}] (replace \"\" and 0.0 with the actual values).\n",
    "\n",
    "Additional instructions:\n",
    "1. Set \"num_trials\": 2 in the evaluation configuration file to reduce computation time.\n",
    "2. Load only the first 10 rows of the dataset.\n",
    "\n",
    "Git repository: https://github.com/madaan/pie-perf\n",
    "\n",
    "I have already executed some of the required steps. Now, your goal is to complete the remaining steps and submit the answer."
   ]
  },
  {
   "cell_type": "markdown",
   "id": "dc076d0e",
   "metadata": {},
   "source": [
    "### Step 1"
   ]
  },
  {
   "cell_type": "markdown",
   "id": "0ccc381b",
   "metadata": {},
   "source": [
    "**Thought**: [pre-executed by user]"
   ]
  },
  {
   "cell_type": "markdown",
   "id": "34b8b1a9",
   "metadata": {},
   "source": [
    "**Action (None)**:"
   ]
  },
  {
   "cell_type": "code",
   "execution_count": null,
   "id": "ab21e227",
   "metadata": {},
   "outputs": [
    {
     "data": {
      "text/plain": [
       ""
      ]
     },
     "execution_count": null,
     "metadata": {},
     "output_type": "execute_result"
    }
   ],
   "source": [
    "# ## Solution"
   ]
  },
  {
   "cell_type": "markdown",
   "id": "fdf4941f",
   "metadata": {},
   "source": [
    "### Step 2"
   ]
  },
  {
   "cell_type": "markdown",
   "id": "f2aacc8b",
   "metadata": {},
   "source": [
    "**Thought**: [pre-executed by user]"
   ]
  },
  {
   "cell_type": "markdown",
   "id": "6f901682",
   "metadata": {},
   "source": [
    "**Action (None)**:"
   ]
  },
  {
   "cell_type": "code",
   "execution_count": null,
   "id": "a32e0b26",
   "metadata": {},
   "outputs": [
    {
     "data": {
      "text/plain": [
       ""
      ]
     },
     "execution_count": null,
     "metadata": {},
     "output_type": "execute_result"
    }
   ],
   "source": [
    "# ### Clone repository"
   ]
  },
  {
   "cell_type": "markdown",
   "id": "27c68030",
   "metadata": {},
   "source": [
    "### Step 3"
   ]
  },
  {
   "cell_type": "markdown",
   "id": "6b7c8391",
   "metadata": {},
   "source": [
    "**Thought**: [pre-executed by user]"
   ]
  },
  {
   "cell_type": "markdown",
   "id": "faa28de7",
   "metadata": {},
   "source": [
    "**Action (None)**:"
   ]
  },
  {
   "cell_type": "code",
   "execution_count": null,
   "id": "f6f5aae1",
   "metadata": {},
   "outputs": [
    {
     "data": {
      "text/plain": [
       "Cloning into 'pie-perf'...\r\nremote: Enumerating objects: 1282, done.\u001b[K\r\nremote: Counting objects:   2% (1/45)\u001b[K\rremote: Counting objects:   4% (2/45)\u001b[K\rremote: Counting objects:   6% (3/45)\u001b[K\rremote: Counting objects:   8% (4/45)\u001b[K\rremote: Counting objects:  11% (5/45)\u001b[K\rremote: Counting objects:  13% (6/45)\u001b[K\rremote: Counting objects:  15% (7/45)\u001b[K\rremote: Counting objects:  17% (8/45)\u001b[K\rremote: Counting objects:  20% (9/45)\u001b[K\rremote: Counting objects:  22% (10/45)\u001b[K\rremote: Counting objects:  24% (11/45)\u001b[K\rremote: Counting objects:  26% (12/45)\u001b[K\rremote: Counting objects:  28% (13/45)\u001b[K\rremote: Counting objects:  31% (14/45)\u001b[K\rremote: Counting objects:  33% (15/45)\u001b[K\rremote: Counting objects:  35% (16/45)\u001b[K\rremote: Counting objects:  37% (17/45)\u001b[K\rremote: Counting objects:  40% (18/45)\u001b[K\rremote: Counting objects:  42% (19/45)\u001b[K\rremote: Counting objects:  44% (20/45)\u001b[K\rremote: Counting objects:  46% (21/45)\u001b[K\rremote: Counting objects:  48% (22/45)\u001b[K\rremote: Counting objects:  51% (23/45)\u001b[K\rremote: Counting objects:  53% (24/45)\u001b[K\rremote: Counting objects:  55% (25/45)\u001b[K\rremote: Counting objects:  57% (26/45)\u001b[K\rremote: Counting objects:  60% (27/45)\u001b[K\rremote: Counting objects:  62% (28/45)\u001b[K\rremote: Counting objects:  64% (29/45)\u001b[K\rremote: Counting objects:  66% (30/45)\u001b[K\rremote: Counting objects:  68% (31/45)\u001b[K\rremote: Counting objects:  71% (32/45)\u001b[K\rremote: Counting objects:  73% (33/45)\u001b[K\rremote: Counting objects:  75% (34/45)\u001b[K\rremote: Counting objects:  77% (35/45)\u001b[K\rremote: Counting objects:  80% (36/45)\u001b[K\rremote: Counting objects:  82% (37/45)\u001b[K\rremote: Counting objects:  84% (38/45)\u001b[K\rremote: Counting objects:  86% (39/45)\u001b[K\rremote: Counting objects:  88% (40/45)\u001b[K\rremote: Counting objects:  91% (41/45)\u001b[K\rremote: Counting objects:  93% (42/45)\u001b[K\rremote: Counting objects:  95% (43/45)\u001b[K\rremote: Counting objects:  97% (44/45)\u001b[K\rremote: Counting objects: 100% (45/45)\u001b[K\rremote: Counting objects: 100% (45/45), done.\u001b[K\r\nremote: Compressing objects:   2% (1/34)\u001b[K\rremote: Compressing objects:   5% (2/34)\u001b[K\rremote: Compressing objects:   8% (3/34)\u001b[K\rremote: Compressing objects:  11% (4/34)\u001b[K\rremote: Compressing objects:  14% (5/34)\u001b[K\rremote: Compressing objects:  17% (6/34)\u001b[K\rremote: Compressing objects:  20% (7/34)\u001b[K\rremote: Compressing objects:  23% (8/34)\u001b[K\rremote: Compressing objects:  26% (9/34)\u001b[K\rremote: Compressing objects:  29% (10/34)\u001b[K\rremote: Compressing objects:  32% (11/34)\u001b[K\rremote: Compressing objects:  35% (12/34)\u001b[K\rremote: Compressing objects:  38% (13/34)\u001b[K\rremote: Compressing objects:  41% (14/34)\u001b[K\rremote: Compressing objects:  44% (15/34)\u001b[K\rremote: Compressing objects:  47% (16/34)\u001b[K\rremote: Compressing objects:  50% (17/34)\u001b[K\rremote: Compressing objects:  52% (18/34)\u001b[K\rremote: Compressing objects:  55% (19/34)\u001b[K\rremote: Compressing objects:  58% (20/34)\u001b[K\rremote: Compressing objects:  61% (21/34)\u001b[K\rremote: Compressing objects:  64% (22/34)\u001b[K\rremote: Compressing objects:  67% (23/34)\u001b[K\rremote: Compressing objects:  70% (24/34)\u001b[K\rremote: Compressing objects:  73% (25/34)\u001b[K\rremote: Compressing objects:  76% (26/34)\u001b[K\rremote: Compressing objects:  79% (27/34)\u001b[K\rremote: Compressing objects:  82% (28/34)\u001b[K\rremote: Compressing objects:  85% (29/34)\u001b[K\rremote: Compressing objects:  88% (30/34)\u001b[K\rremote: Compressing objects:  91% (31/34)\u001b[K\rremote: Compressing objects:  94% (32/34)\u001b[K\rremote: Compressing objects:  97% (33/34)\u001b[K\rremote: Compressing objects: 100% (34/34)\u001b[K\rremote: Compressing objects: 100% (34/34), done.\u001b[K\r\nReceiving objects:   0% (1/1282)\rReceiving objects:   1% (13/1282)\rReceiving objects:   2% (26/1282), 31.80 MiB | 63.58 MiB/s\rReceiving objects:   2% (31/1282), 64.21 MiB | 64.21 MiB/s\rReceiving objects:   3% (39/1282), 64.21 MiB | 64.21 MiB/s\rReceiving objects:   4% (52/1282), 96.45 MiB | 64.33 MiB/s\rReceiving objects:   4% (52/1282), 128.57 MiB | 64.31 MiB/s\rReceiving objects:   5% (65/1282), 160.54 MiB | 64.24 MiB/s\rReceiving objects:   5% (70/1282), 191.48 MiB | 63.84 MiB/s\rReceiving objects:   6% (77/1282), 191.48 MiB | 63.84 MiB/s\rReceiving objects:   7% (90/1282), 222.80 MiB | 63.67 MiB/s\rReceiving objects:   7% (94/1282), 254.80 MiB | 63.71 MiB/s\rReceiving objects:   8% (103/1282), 254.80 MiB | 63.71 MiB/s\rReceiving objects:   8% (113/1282), 319.97 MiB | 64.05 MiB/s\rReceiving objects:   9% (116/1282), 319.97 MiB | 64.05 MiB/s\rReceiving objects:  10% (129/1282), 351.77 MiB | 63.92 MiB/s\rReceiving objects:  10% (135/1282), 383.55 MiB | 63.80 MiB/s\rReceiving objects:  11% (142/1282), 383.55 MiB | 63.80 MiB/s\rReceiving objects:  12% (154/1282), 415.92 MiB | 63.86 MiB/s\rReceiving objects:  12% (154/1282), 447.60 MiB | 63.79 MiB/s\rReceiving objects:  13% (167/1282), 447.60 MiB | 63.79 MiB/s\rReceiving objects:  14% (180/1282), 447.60 MiB | 63.79 MiB/s\rReceiving objects:  15% (193/1282), 447.60 MiB | 63.79 MiB/s\rReceiving objects:  16% (206/1282), 447.60 MiB | 63.79 MiB/s\rReceiving objects:  17% (218/1282), 447.60 MiB | 63.79 MiB/s\rReceiving objects:  18% (231/1282), 447.60 MiB | 63.79 MiB/s\rReceiving objects:  19% (244/1282), 447.60 MiB | 63.79 MiB/s\rReceiving objects:  20% (257/1282), 447.60 MiB | 63.79 MiB/s\rReceiving objects:  21% (270/1282), 447.60 MiB | 63.79 MiB/s\rReceiving objects:  22% (283/1282), 447.60 MiB | 63.79 MiB/s\rReceiving objects:  23% (295/1282), 447.60 MiB | 63.79 MiB/s\rReceiving objects:  24% (308/1282), 447.60 MiB | 63.79 MiB/s\rReceiving objects:  25% (321/1282), 447.60 MiB | 63.79 MiB/s\rReceiving objects:  26% (334/1282), 477.48 MiB | 63.56 MiB/s\rReceiving objects:  27% (347/1282), 477.48 MiB | 63.56 MiB/s\rReceiving objects:  28% (359/1282), 477.48 MiB | 63.56 MiB/s\rReceiving objects:  29% (372/1282), 477.48 MiB | 63.56 MiB/s\rReceiving objects:  30% (385/1282), 477.48 MiB | 63.56 MiB/s\rReceiving objects:  31% (398/1282), 477.48 MiB | 63.56 MiB/s\rReceiving objects:  32% (411/1282), 477.48 MiB | 63.56 MiB/s\rReceiving objects:  33% (424/1282), 477.48 MiB | 63.56 MiB/s\rReceiving objects:  34% (436/1282), 477.48 MiB | 63.56 MiB/s\rReceiving objects:  35% (449/1282), 477.48 MiB | 63.56 MiB/s\rReceiving objects:  36% (462/1282), 477.48 MiB | 63.56 MiB/s\rReceiving objects:  37% (475/1282), 477.48 MiB | 63.56 MiB/s\rReceiving objects:  38% (488/1282), 477.48 MiB | 63.56 MiB/s\rReceiving objects:  39% (500/1282), 477.48 MiB | 63.56 MiB/s\rReceiving objects:  40% (513/1282), 477.48 MiB | 63.56 MiB/s\rReceiving objects:  41% (526/1282), 477.48 MiB | 63.56 MiB/s\rReceiving objects:  42% (539/1282), 477.48 MiB | 63.56 MiB/s\rReceiving objects:  43% (552/1282), 477.48 MiB | 63.56 MiB/s\rReceiving objects:  44% (565/1282), 477.48 MiB | 63.56 MiB/s\rReceiving objects:  45% (577/1282), 477.48 MiB | 63.56 MiB/s\rReceiving objects:  46% (590/1282), 477.48 MiB | 63.56 MiB/s\rReceiving objects:  47% (603/1282), 477.48 MiB | 63.56 MiB/s\rReceiving objects:  48% (616/1282), 477.48 MiB | 63.56 MiB/s\rReceiving objects:  49% (629/1282), 477.48 MiB | 63.56 MiB/s\rReceiving objects:  50% (641/1282), 477.48 MiB | 63.56 MiB/s\rReceiving objects:  51% (654/1282), 477.48 MiB | 63.56 MiB/s\rReceiving objects:  52% (667/1282), 477.48 MiB | 63.56 MiB/s\rReceiving objects:  53% (680/1282), 477.48 MiB | 63.56 MiB/s\rReceiving objects:  54% (693/1282), 477.48 MiB | 63.56 MiB/s\rReceiving objects:  55% (706/1282), 477.48 MiB | 63.56 MiB/s\rReceiving objects:  56% (718/1282), 477.48 MiB | 63.56 MiB/s\rReceiving objects:  57% (731/1282), 477.48 MiB | 63.56 MiB/s\rReceiving objects:  58% (744/1282), 477.48 MiB | 63.56 MiB/s\rReceiving objects:  59% (757/1282), 477.48 MiB | 63.56 MiB/s\rReceiving objects:  60% (770/1282), 477.48 MiB | 63.56 MiB/s\rReceiving objects:  61% (783/1282), 477.48 MiB | 63.56 MiB/s\rReceiving objects:  62% (795/1282), 477.48 MiB | 63.56 MiB/s\rReceiving objects:  63% (808/1282), 477.48 MiB | 63.56 MiB/s\rReceiving objects:  64% (821/1282), 477.48 MiB | 63.56 MiB/s\rReceiving objects:  65% (834/1282), 477.48 MiB | 63.56 MiB/s\rReceiving objects:  66% (847/1282), 477.48 MiB | 63.56 MiB/s\rReceiving objects:  67% (859/1282), 477.48 MiB | 63.56 MiB/s\rReceiving objects:  68% (872/1282), 477.48 MiB | 63.56 MiB/s\rReceiving objects:  69% (885/1282), 477.48 MiB | 63.56 MiB/s\rReceiving objects:  70% (898/1282), 477.48 MiB | 63.56 MiB/s\rReceiving objects:  71% (911/1282), 477.48 MiB | 63.56 MiB/s\rReceiving objects:  72% (924/1282), 477.48 MiB | 63.56 MiB/s\rReceiving objects:  73% (936/1282), 477.48 MiB | 63.56 MiB/s\rReceiving objects:  74% (949/1282), 477.48 MiB | 63.56 MiB/s\rReceiving objects:  75% (962/1282), 477.48 MiB | 63.56 MiB/s\rReceiving objects:  76% (975/1282), 477.48 MiB | 63.56 MiB/s\rReceiving objects:  77% (988/1282), 477.48 MiB | 63.56 MiB/s\rReceiving objects:  78% (1000/1282), 477.48 MiB | 63.56 MiB/s\rReceiving objects:  79% (1013/1282), 477.48 MiB | 63.56 MiB/s\rReceiving objects:  80% (1026/1282), 477.48 MiB | 63.56 MiB/s\rReceiving objects:  81% (1039/1282), 477.48 MiB | 63.56 MiB/s\rReceiving objects:  82% (1052/1282), 477.48 MiB | 63.56 MiB/s\rReceiving objects:  83% (1065/1282), 477.48 MiB | 63.56 MiB/s\rReceiving objects:  84% (1077/1282), 477.48 MiB | 63.56 MiB/s\rReceiving objects:  85% (1090/1282), 477.48 MiB | 63.56 MiB/s\rReceiving objects:  86% (1103/1282), 477.48 MiB | 63.56 MiB/s\rReceiving objects:  87% (1116/1282), 477.48 MiB | 63.56 MiB/s\rReceiving objects:  88% (1129/1282), 477.48 MiB | 63.56 MiB/s\rReceiving objects:  89% (1141/1282), 477.48 MiB | 63.56 MiB/s\rReceiving objects:  90% (1154/1282), 477.48 MiB | 63.56 MiB/s\rReceiving objects:  91% (1167/1282), 477.48 MiB | 63.56 MiB/s\rReceiving objects:  92% (1180/1282), 477.48 MiB | 63.56 MiB/s\rReceiving objects:  93% (1193/1282), 477.48 MiB | 63.56 MiB/s\rReceiving objects:  94% (1206/1282), 477.48 MiB | 63.56 MiB/s\rReceiving objects:  95% (1218/1282), 477.48 MiB | 63.56 MiB/s\rReceiving objects:  96% (1231/1282), 477.48 MiB | 63.56 MiB/s\rReceiving objects:  97% (1244/1282), 477.48 MiB | 63.56 MiB/s\rReceiving objects:  98% (1257/1282), 477.48 MiB | 63.56 MiB/s\rremote: Total 1282 (delta 25), reused 26 (delta 11), pack-reused 1237 (from 1)\u001b[K\r\nReceiving objects:  99% (1270/1282), 477.48 MiB | 63.56 MiB/s\rReceiving objects: 100% (1282/1282), 477.48 MiB | 63.56 MiB/s\rReceiving objects: 100% (1282/1282), 490.04 MiB | 61.66 MiB/s, done.\r\nResolving deltas:   0% (0/830)\rResolving deltas:   1% (9/830)\rResolving deltas:   2% (17/830)\rResolving deltas:   3% (25/830)\rResolving deltas:   4% (34/830)\rResolving deltas:   5% (42/830)\rResolving deltas:   6% (50/830)\rResolving deltas:   7% (59/830)\rResolving deltas:   8% (67/830)\rResolving deltas:   9% (75/830)\rResolving deltas:  10% (83/830)\rResolving deltas:  11% (92/830)\rResolving deltas:  12% (100/830)\rResolving deltas:  13% (108/830)\rResolving deltas:  14% (117/830)\rResolving deltas:  15% (125/830)\rResolving deltas:  16% (133/830)\rResolving deltas:  17% (142/830)\rResolving deltas:  18% (150/830)\rResolving deltas:  19% (158/830)\rResolving deltas:  20% (166/830)\rResolving deltas:  21% (175/830)\rResolving deltas:  22% (183/830)\rResolving deltas:  23% (191/830)\rResolving deltas:  24% (200/830)\rResolving deltas:  25% (208/830)\rResolving deltas:  26% (216/830)\rResolving deltas:  27% (225/830)\rResolving deltas:  28% (233/830)\rResolving deltas:  29% (241/830)\rResolving deltas:  30% (249/830)\rResolving deltas:  31% (258/830)\rResolving deltas:  32% (266/830)\rResolving deltas:  33% (274/830)\rResolving deltas:  34% (283/830)\rResolving deltas:  35% (291/830)\rResolving deltas:  36% (299/830)\rResolving deltas:  37% (308/830)\rResolving deltas:  38% (316/830)\rResolving deltas:  39% (324/830)\rResolving deltas:  40% (332/830)\rResolving deltas:  41% (341/830)\rResolving deltas:  42% (349/830)\rResolving deltas:  43% (357/830)\rResolving deltas:  44% (366/830)\rResolving deltas:  45% (374/830)\rResolving deltas:  46% (382/830)\rResolving deltas:  47% (391/830)\rResolving deltas:  48% (399/830)\rResolving deltas:  49% (407/830)\rResolving deltas:  50% (415/830)\rResolving deltas:  51% (424/830)\rResolving deltas:  52% (432/830)\rResolving deltas:  53% (440/830)\rResolving deltas:  54% (449/830)\rResolving deltas:  55% (457/830)\rResolving deltas:  56% (465/830)\rResolving deltas:  57% (474/830)\rResolving deltas:  58% (482/830)\rResolving deltas:  59% (490/830)\rResolving deltas:  60% (498/830)\rResolving deltas:  61% (507/830)\rResolving deltas:  62% (515/830)\rResolving deltas:  63% (523/830)\rResolving deltas:  64% (532/830)\rResolving deltas:  65% (540/830)\rResolving deltas:  66% (548/830)\rResolving deltas:  67% (557/830)\rResolving deltas:  68% (565/830)\rResolving deltas:  69% (573/830)\rResolving deltas:  70% (581/830)\rResolving deltas:  71% (590/830)\rResolving deltas:  72% (598/830)\rResolving deltas:  73% (606/830)\rResolving deltas:  74% (615/830)\rResolving deltas:  75% (623/830)\rResolving deltas:  76% (631/830)\rResolving deltas:  77% (640/830)\rResolving deltas:  78% (648/830)\rResolving deltas:  79% (656/830)\rResolving deltas:  80% (664/830)\rResolving deltas:  81% (673/830)\rResolving deltas:  82% (681/830)\rResolving deltas:  83% (689/830)\rResolving deltas:  84% (698/830)\rResolving deltas:  85% (706/830)\rResolving deltas:  86% (714/830)\rResolving deltas:  87% (723/830)\rResolving deltas:  88% (731/830)\rResolving deltas:  89% (739/830)\rResolving deltas:  90% (747/830)\rResolving deltas:  91% (756/830)\rResolving deltas:  92% (764/830)\rResolving deltas:  93% (772/830)\rResolving deltas:  94% (781/830)\rResolving deltas:  95% (789/830)\rResolving deltas:  96% (797/830)\rResolving deltas:  97% (806/830)\rResolving deltas:  98% (814/830)\rResolving deltas:  99% (822/830)\rResolving deltas: 100% (830/830)\rResolving deltas: 100% (830/830), done.\r\nUpdating files:  77% (787/1010)\rUpdating files:  78% (788/1010)\rUpdating files:  79% (798/1010)\rUpdating files:  80% (808/1010)\rUpdating files:  81% (819/1010)\rUpdating files:  82% (829/1010)\rUpdating files:  83% (839/1010)\rUpdating files:  83% (845/1010)\rUpdating files:  84% (849/1010)\rUpdating files:  85% (859/1010)\rUpdating files:  86% (869/1010)\rUpdating files:  87% (879/1010)\rUpdating files:  88% (889/1010)\rUpdating files:  88% (895/1010)\rUpdating files:  89% (899/1010)\rUpdating files:  90% (909/1010)\rUpdating files:  91% (920/1010)\rUpdating files:  92% (930/1010)\rUpdating files:  93% (940/1010)\rUpdating files:  94% (950/1010)\rUpdating files:  95% (960/1010)\rUpdating files:  96% (970/1010)\rUpdating files:  97% (980/1010)\rUpdating files:  98% (990/1010)\rUpdating files:  99% (1000/1010)\rUpdating files: 100% (1010/1010)\rUpdating files: 100% (1010/1010), done.\r\n"
      ]
     },
     "execution_count": null,
     "metadata": {},
     "output_type": "execute_result"
    }
   ],
   "source": [
    "!git clone https://github.com/madaan/pie-perf.git"
   ]
  },
  {
   "cell_type": "markdown",
   "id": "ad923848",
   "metadata": {},
   "source": [
    "### Step 4"
   ]
  },
  {
   "cell_type": "markdown",
   "id": "ced38c1b",
   "metadata": {},
   "source": [
    "**Thought**: [pre-executed by user]"
   ]
  },
  {
   "cell_type": "markdown",
   "id": "820d6241",
   "metadata": {},
   "source": [
    "**Action (None)**:"
   ]
  },
  {
   "cell_type": "code",
   "execution_count": null,
   "id": "fd675d5a",
   "metadata": {},
   "outputs": [
    {
     "data": {
      "text/plain": [
       ""
      ]
     },
     "execution_count": null,
     "metadata": {},
     "output_type": "execute_result"
    }
   ],
   "source": [
    "# ### Data preparation"
   ]
  },
  {
   "cell_type": "markdown",
   "id": "b2aa9eba",
   "metadata": {},
   "source": [
    "### Step 5"
   ]
  },
  {
   "cell_type": "markdown",
   "id": "aed3b6f7",
   "metadata": {},
   "source": [
    "**Thought**: [pre-executed by user]"
   ]
  },
  {
   "cell_type": "markdown",
   "id": "2dea073d",
   "metadata": {},
   "source": [
    "**Action (None)**:"
   ]
  },
  {
   "cell_type": "code",
   "execution_count": null,
   "id": "476d233d",
   "metadata": {},
   "outputs": [
    {
     "data": {
      "text/plain": [
       ""
      ]
     },
     "execution_count": null,
     "metadata": {},
     "output_type": "execute_result"
    }
   ],
   "source": [
    "# #### Download data"
   ]
  },
  {
   "cell_type": "markdown",
   "id": "6dffb8e6",
   "metadata": {},
   "source": [
    "### Step 6"
   ]
  },
  {
   "cell_type": "markdown",
   "id": "fd375a64",
   "metadata": {},
   "source": [
    "**Thought**: [pre-executed by user]"
   ]
  },
  {
   "cell_type": "markdown",
   "id": "1f64a5f6",
   "metadata": {},
   "source": [
    "**Action (None)**:"
   ]
  },
  {
   "cell_type": "code",
   "execution_count": null,
   "id": "9de350d9",
   "metadata": {},
   "outputs": [
    {
     "data": {
      "text/plain": [
       "Requirement already satisfied: gdown in /usr/local/lib/python3.10/site-packages (5.1.0)\r\nCollecting gdown\r\n  Downloading gdown-5.2.0-py3-none-any.whl.metadata (5.8 kB)\r\nRequirement already satisfied: beautifulsoup4 in /usr/local/lib/python3.10/site-packages (from gdown) (4.12.3)\r\nRequirement already satisfied: filelock in /usr/local/lib/python3.10/site-packages (from gdown) (3.15.1)\r\nRequirement already satisfied: requests[socks] in /usr/local/lib/python3.10/site-packages (from gdown) (2.31.0)\r\nRequirement already satisfied: tqdm in /usr/local/lib/python3.10/site-packages (from gdown) (4.66.4)\r\nRequirement already satisfied: soupsieve>1.2 in /usr/local/lib/python3.10/site-packages (from beautifulsoup4->gdown) (2.5)\r\nRequirement already satisfied: charset-normalizer<4,>=2 in /usr/local/lib/python3.10/site-packages (from requests[socks]->gdown) (2.1.1)\r\nRequirement already satisfied: idna<4,>=2.5 in /usr/local/lib/python3.10/site-packages (from requests[socks]->gdown) (3.7)\r\nRequirement already satisfied: urllib3<3,>=1.21.1 in /usr/local/lib/python3.10/site-packages (from requests[socks]->gdown) (2.0.7)\r\nRequirement already satisfied: certifi>=2017.4.17 in /usr/local/lib/python3.10/site-packages (from requests[socks]->gdown) (2024.6.2)\r\nRequirement already satisfied: PySocks!=1.5.7,>=1.5.6 in /usr/local/lib/python3.10/site-packages (from requests[socks]->gdown) (1.7.1)\r\nDownloading gdown-5.2.0-py3-none-any.whl (18 kB)\r\nInstalling collected packages: gdown\r\n  Attempting uninstall: gdown\r\n    Found existing installation: gdown 5.1.0\r\n    Uninstalling gdown-5.1.0:\r\n      Successfully uninstalled gdown-5.1.0\r\nSuccessfully installed gdown-5.2.0\r\n\r\n\u001b[1m[\u001b[0m\u001b[34;49mnotice\u001b[0m\u001b[1;39;49m]\u001b[0m\u001b[39;49m A new release of pip is available: \u001b[0m\u001b[31;49m24.0\u001b[0m\u001b[39;49m -> \u001b[0m\u001b[32;49m24.2\u001b[0m\r\n\u001b[1m[\u001b[0m\u001b[34;49mnotice\u001b[0m\u001b[1;39;49m]\u001b[0m\u001b[39;49m To update, run: \u001b[0m\u001b[32;49mpip install --upgrade pip\u001b[0m\r\n"
      ]
     },
     "execution_count": null,
     "metadata": {},
     "output_type": "execute_result"
    }
   ],
   "source": [
    "# use gdown to download files\n",
    "!pip install gdown --upgrade"
   ]
  },
  {
   "cell_type": "markdown",
   "id": "36881840",
   "metadata": {},
   "source": [
    "### Step 7"
   ]
  },
  {
   "cell_type": "markdown",
   "id": "975c8e4a",
   "metadata": {},
   "source": [
    "**Thought**: [pre-executed by user]"
   ]
  },
  {
   "cell_type": "markdown",
   "id": "ae331da9",
   "metadata": {},
   "source": [
    "**Action (None)**:"
   ]
  },
  {
   "cell_type": "code",
   "execution_count": null,
   "id": "5b187132",
   "metadata": {},
   "outputs": [
    {
     "data": {
      "text/plain": [
       "/usr/local/lib/python3.10/site-packages/IPython/core/magics/osm.py:417: UserWarning: This is now an optional IPython functionality, setting dhist requires you to install the `pickleshare` library.\n  self.shell.db['dhist'] = compress_dhist(dhist)[-100:]\nRetrieving folder contents\n/content/pie-perf/data\nProcessing file 1zI7lobzGjmM8Qa59hs72QYRU1-HfB3sQ generated_programs.jsonl\nProcessing file 1izs1iF5cd_NAZsOaZvrrQF3NAsoP8lHf improvement_pairs_additional_metadata.csv\nProcessing file 1aNUEmIyTs0NqPbGMFPfVWb8ExRgIc1gj problem_tests.json\nRetrieving folder contents completed\nBuilding directory structure\nBuilding directory structure completed\nDownloading...\nFrom: https://drive.google.com/uc?id=1zI7lobzGjmM8Qa59hs72QYRU1-HfB3sQ\nTo: /content/pie-perf/data/my_data/generated_programs.jsonl\n\r  0%|          | 0.00/163k [00:00<?, ?B/s]\r100%|██████████| 163k/163k [00:00<00:00, 10.8MB/s]\nDownloading...\nFrom: https://drive.google.com/uc?id=1izs1iF5cd_NAZsOaZvrrQF3NAsoP8lHf\nTo: /content/pie-perf/data/my_data/improvement_pairs_additional_metadata.csv\n\r  0%|          | 0.00/147k [00:00<?, ?B/s]\r100%|██████████| 147k/147k [00:00<00:00, 7.80MB/s]\nDownloading...\nFrom: https://drive.google.com/uc?id=1aNUEmIyTs0NqPbGMFPfVWb8ExRgIc1gj\nTo: /content/pie-perf/data/my_data/problem_tests.json\n\r  0%|          | 0.00/1.30k [00:00<?, ?B/s]\r100%|██████████| 1.30k/1.30k [00:00<00:00, 6.78MB/s]\nDownload completed\n['my_data/generated_programs.jsonl',\n 'my_data/improvement_pairs_additional_metadata.csv',\n 'my_data/problem_tests.json']"
      ]
     },
     "execution_count": null,
     "metadata": {},
     "output_type": "execute_result"
    }
   ],
   "source": [
    "import gdown\n",
    "from pathlib import Path\n",
    "\n",
    "Path(\"/content/pie-perf/data\").mkdir(exist_ok=True)\n",
    "\n",
    "%cd /content/pie-perf/data\n",
    "gdown.download_folder(\"https://drive.google.com/drive/folders/1-TKkLWBFYHvWITHyOQt2oyuF5J8SdVl1\", output=\"my_data\")"
   ]
  },
  {
   "cell_type": "markdown",
   "id": "bc7566fe",
   "metadata": {},
   "source": [
    "### Step 8"
   ]
  },
  {
   "cell_type": "markdown",
   "id": "c916e3d2",
   "metadata": {},
   "source": [
    "**Thought**: [pre-executed by user]"
   ]
  },
  {
   "cell_type": "markdown",
   "id": "6d13f769",
   "metadata": {},
   "source": [
    "**Action (None)**:"
   ]
  },
  {
   "cell_type": "code",
   "execution_count": null,
   "id": "57c6e49a",
   "metadata": {},
   "outputs": [
    {
     "data": {
      "text/plain": [
       ""
      ]
     },
     "execution_count": null,
     "metadata": {},
     "output_type": "execute_result"
    }
   ],
   "source": [
    "# #### Install dependencies"
   ]
  },
  {
   "cell_type": "markdown",
   "id": "ba69d1b0",
   "metadata": {},
   "source": [
    "### Step 9"
   ]
  },
  {
   "cell_type": "markdown",
   "id": "4adde812",
   "metadata": {},
   "source": [
    "**Thought**: [pre-executed by user]"
   ]
  },
  {
   "cell_type": "markdown",
   "id": "2d99f7ce",
   "metadata": {},
   "source": [
    "**Action (None)**:"
   ]
  },
  {
   "cell_type": "code",
   "execution_count": null,
   "id": "441c6234",
   "metadata": {},
   "outputs": [
    {
     "data": {
      "text/plain": [
       ""
      ]
     },
     "execution_count": null,
     "metadata": {},
     "output_type": "execute_result"
    }
   ],
   "source": [
    "import pandas as pd\n",
    "import json\n",
    "import yaml"
   ]
  },
  {
   "cell_type": "markdown",
   "id": "9a0cca04",
   "metadata": {},
   "source": [
    "### Step 10"
   ]
  },
  {
   "cell_type": "markdown",
   "id": "0b1306aa",
   "metadata": {},
   "source": [
    "**Thought**: [pre-executed by user]"
   ]
  },
  {
   "cell_type": "markdown",
   "id": "bc68d1e9",
   "metadata": {},
   "source": [
    "**Action (None)**:"
   ]
  },
  {
   "cell_type": "code",
   "execution_count": null,
   "id": "d6ef5a7e",
   "metadata": {},
   "outputs": [
    {
     "data": {
      "text/plain": [
       ""
      ]
     },
     "execution_count": null,
     "metadata": {},
     "output_type": "execute_result"
    }
   ],
   "source": [
    "# #### Generate input files"
   ]
  },
  {
   "cell_type": "markdown",
   "id": "fd15b41f",
   "metadata": {},
   "source": [
    "### Step 11"
   ]
  },
  {
   "cell_type": "markdown",
   "id": "d7ea540f",
   "metadata": {},
   "source": [
    "**Thought**: [pre-executed by user]"
   ]
  },
  {
   "cell_type": "markdown",
   "id": "998607c0",
   "metadata": {},
   "source": [
    "**Action (None)**:"
   ]
  },
  {
   "cell_type": "code",
   "execution_count": null,
   "id": "69c733dd",
   "metadata": {},
   "outputs": [
    {
     "data": {
      "text/plain": [
       "/content/pie-perf/data/my_data\n/usr/local/lib/python3.10/site-packages/IPython/core/magics/osm.py:417: UserWarning: This is now an optional IPython functionality, setting dhist requires you to install the `pickleshare` library.\n  self.shell.db['dhist'] = compress_dhist(dhist)[-100:]\n"
      ]
     },
     "execution_count": null,
     "metadata": {},
     "output_type": "execute_result"
    }
   ],
   "source": [
    "%cd /content/pie-perf/data/my_data\n",
    "\n",
    "generations_filename = \"generations.jsonl\"\n",
    "references_filename = \"references.jsonl\"\n",
    "\n",
    "slow_code_col = \"input\"\n",
    "model_generated_potentially_faster_code_col = \"improved_code\"\n",
    "\n",
    "df = pd.read_json(\"generated_programs.jsonl\", lines=True)\n",
    "df = df.rename(columns={\"original_code\": slow_code_col})\n",
    "gen_df = df.drop(columns=\"problem_id\")\n",
    "gen_df.to_json(generations_filename, orient=\"records\", lines=True)\n",
    "\n",
    "ref_df = df.drop(columns=\"improved_code\").copy()\n",
    "ref_df[\"submission_id_v0\"] = [f\"s{i}\" for i in range(len(ref_df))]\n",
    "ref_df.to_json(references_filename, orient=\"records\", lines=True)\n",
    "\n",
    "# Test cases\n",
    "with open(\"problem_tests.json\") as f:\n",
    "    tests = json.load(f)\n",
    "tests_dir = Path(\"test_cases\")\n",
    "tests_dir.mkdir(exist_ok=True)\n",
    "for test_dict in tests:\n",
    "    pid_dir = tests_dir / test_dict[\"pid\"]\n",
    "    pid_dir.mkdir(exist_ok=True)\n",
    "    for i, test in enumerate(test_dict[\"tests\"]):\n",
    "        with open(pid_dir / f\"input.{i}.txt\", \"w\") as f:\n",
    "             f.write(test[\"input\"])\n",
    "        with open(pid_dir / f\"output.{i}.txt\", \"w\") as f:\n",
    "            f.write(test[\"output\"])\n"
   ]
  },
  {
   "cell_type": "markdown",
   "id": "859ec0d9",
   "metadata": {},
   "source": [
    "### Step 12"
   ]
  },
  {
   "cell_type": "markdown",
   "id": "774c9233",
   "metadata": {},
   "source": [
    "**Thought**: [pre-executed by user]"
   ]
  },
  {
   "cell_type": "markdown",
   "id": "6193d5f9",
   "metadata": {},
   "source": [
    "**Action (None)**:"
   ]
  },
  {
   "cell_type": "code",
   "execution_count": null,
   "id": "e1d63023",
   "metadata": {},
   "outputs": [
    {
     "data": {
      "text/plain": [
       ""
      ]
     },
     "execution_count": null,
     "metadata": {},
     "output_type": "execute_result"
    }
   ],
   "source": [
    "# #### Generate evaluation configuration file\n",
    "# \n",
    "# Note: choose `num_problems_to_evaluate = 2` to speedup the evaluation process"
   ]
  },
  {
   "cell_type": "markdown",
   "id": "5455038a",
   "metadata": {},
   "source": [
    "### Step 13"
   ]
  },
  {
   "cell_type": "markdown",
   "id": "4d4f3396",
   "metadata": {},
   "source": [
    "**Thought**: [pre-executed by user]"
   ]
  },
  {
   "cell_type": "markdown",
   "id": "a62ff8c6",
   "metadata": {},
   "source": [
    "**Action (None)**:"
   ]
  },
  {
   "cell_type": "code",
   "execution_count": null,
   "id": "f22a98ae",
   "metadata": {},
   "outputs": [
    {
     "data": {
      "text/plain": [
       ""
      ]
     },
     "execution_count": null,
     "metadata": {},
     "output_type": "execute_result"
    }
   ],
   "source": [
    "# Evaluation config file\n",
    "data_dir = \"data/my_data\"\n",
    "eval_config_dict = {\n",
    "    \"model_generated_outputs_path\": f\"{data_dir}/{generations_filename}\",\n",
    "    \"inputs_outputs_basepath\": f\"{data_dir}/test_cases\",\n",
    "    \"reference_file_path\": f\"{data_dir}/{references_filename}\",\n",
    "    \"output_report_file_path\": f\"{data_dir}/{generations_filename}.report\",\n",
    "    \"num_problems_to_evaluate\": 2,\n",
    "    \"num_trials\": 2,\n",
    "    \"ignore_first_k\": 0,\n",
    "    \"max_time_per_run\": 10,\n",
    "    \"temp_dir\": None,\n",
    "    \"model_generated_potentially_faster_code_col\": model_generated_potentially_faster_code_col,\n",
    "    \"slow_code_col\": slow_code_col,\n",
    "    #\"reference_code_col\": \"improved_code\",\n",
    "    \"reference_code_col\": model_generated_potentially_faster_code_col,\n",
    "    \"is_prompt_based\": False,\n",
    "    \"cpu_number\": 0,\n",
    "    \"return_if_acc_below\": 1.0,\n",
    "    \"language\": \"cpp\",\n",
    "}\n",
    "eval_config_file = \"eval_config.yaml\"\n",
    "yaml.dump(eval_config_dict, open(eval_config_file, \"w\"))"
   ]
  },
  {
   "cell_type": "markdown",
   "id": "4f17bd2e",
   "metadata": {},
   "source": [
    "### Step 14"
   ]
  },
  {
   "cell_type": "markdown",
   "id": "2ec784c5",
   "metadata": {},
   "source": [
    "**Thought**: [pre-executed by user]"
   ]
  },
  {
   "cell_type": "markdown",
   "id": "a5cc235b",
   "metadata": {},
   "source": [
    "**Action (None)**:"
   ]
  },
  {
   "cell_type": "code",
   "execution_count": null,
   "id": "e68ce903",
   "metadata": {},
   "outputs": [
    {
     "data": {
      "text/plain": [
       ""
      ]
     },
     "execution_count": null,
     "metadata": {},
     "output_type": "execute_result"
    }
   ],
   "source": [
    "# All metrics are NaN or zero, which means that the problems are not being run."
   ]
  },
  {
   "cell_type": "markdown",
   "id": "2e8a4bda",
   "metadata": {},
   "source": [
    "### Step 15"
   ]
  },
  {
   "cell_type": "markdown",
   "id": "30236a08",
   "metadata": {},
   "source": [
    "**Thought**: [pre-executed by user]"
   ]
  },
  {
   "cell_type": "markdown",
   "id": "ef5af438",
   "metadata": {},
   "source": [
    "**Action (None)**:"
   ]
  },
  {
   "cell_type": "code",
   "execution_count": null,
   "id": "550dc593",
   "metadata": {},
   "outputs": [
    {
     "data": {
      "text/plain": [
       "Error: SyntaxError: invalid syntax (1232779528.py, line 1)\u001b[0;36m  Cell \u001b[0;32mIn[44], line 1\u001b[0;36m\u001b[0m\n\u001b[0;31m    This is because of a bug in the source code. There is a configuration variable called `cflags` that must be a string, but the default value is `None`. This raises an error during excecution which is handled and sent to the logger as a warning. To solve this, I add `clang = \"\"` to the configuration file.\u001b[0m\n\u001b[0m                    ^\u001b[0m\n\u001b[0;31mSyntaxError\u001b[0m\u001b[0;31m:\u001b[0m invalid syntax\n"
      ]
     },
     "execution_count": null,
     "metadata": {},
     "output_type": "execute_result"
    }
   ],
   "source": [
    "This is because of a bug in the source code. There is a configuration variable called `cflags` that must be a string, but the default value is `None`. This raises an error during excecution which is handled and sent to the logger as a warning. To solve this, I add `clang = \"\"` to the configuration file.\n",
    "\n",
    "I also set `num_problems_to_evaluate = 1` to test the code faster."
   ]
  },
  {
   "cell_type": "markdown",
   "id": "d5424ff9",
   "metadata": {},
   "source": [
    "### Step 16"
   ]
  },
  {
   "cell_type": "markdown",
   "id": "cc1bab15",
   "metadata": {},
   "source": [
    "**Thought**: [pre-executed by user]"
   ]
  },
  {
   "cell_type": "markdown",
   "id": "0a1cb307",
   "metadata": {},
   "source": [
    "**Action (None)**:"
   ]
  },
  {
   "cell_type": "code",
   "execution_count": null,
   "id": "6adbc49a",
   "metadata": {},
   "outputs": [
    {
     "data": {
      "text/plain": [
       "/content/pie-perf/data/my_data\n/usr/local/lib/python3.10/site-packages/IPython/core/magics/osm.py:417: UserWarning: This is now an optional IPython functionality, setting dhist requires you to install the `pickleshare` library.\n  self.shell.db['dhist'] = compress_dhist(dhist)[-100:]\n"
      ]
     },
     "execution_count": null,
     "metadata": {},
     "output_type": "execute_result"
    }
   ],
   "source": [
    "%cd /content/pie-perf/data/my_data\n",
    "eval_config_dict[\"cflags\"] = \"\"\n",
    "yaml.dump(eval_config_dict, open(eval_config_file, \"w\"))"
   ]
  },
  {
   "cell_type": "markdown",
   "id": "ffab1aef",
   "metadata": {},
   "source": [
    "### Step 17"
   ]
  },
  {
   "cell_type": "markdown",
   "id": "c5e07080",
   "metadata": {},
   "source": [
    "**Thought**: [pre-executed by user]"
   ]
  },
  {
   "cell_type": "markdown",
   "id": "33a72841",
   "metadata": {},
   "source": [
    "**Action (None)**:"
   ]
  },
  {
   "cell_type": "code",
   "execution_count": null,
   "id": "a9d97055",
   "metadata": {},
   "outputs": [
    {
     "data": {
      "text/plain": [
       ""
      ]
     },
     "execution_count": null,
     "metadata": {},
     "output_type": "execute_result"
    }
   ],
   "source": [
    "# The code crashes becauste it tries to log information that is not in the provided data. Specifically, the fields `cpu_time_v0` and `cpu_time_v1`. I add dummy values to those columns as a workaround for this issue."
   ]
  },
  {
   "cell_type": "markdown",
   "id": "ba1e700f",
   "metadata": {},
   "source": [
    "### Step 18"
   ]
  },
  {
   "cell_type": "markdown",
   "id": "79352249",
   "metadata": {},
   "source": [
    "**Thought**: [pre-executed by user]"
   ]
  },
  {
   "cell_type": "markdown",
   "id": "c3fde0e4",
   "metadata": {},
   "source": [
    "**Action (None)**:"
   ]
  },
  {
   "cell_type": "code",
   "execution_count": null,
   "id": "88934fd1",
   "metadata": {},
   "outputs": [
    {
     "data": {
      "text/plain": [
       "/content/pie-perf/data/my_data\n/usr/local/lib/python3.10/site-packages/IPython/core/magics/osm.py:417: UserWarning: This is now an optional IPython functionality, setting dhist requires you to install the `pickleshare` library.\n  self.shell.db['dhist'] = compress_dhist(dhist)[-100:]\n"
      ]
     },
     "execution_count": null,
     "metadata": {},
     "output_type": "execute_result"
    }
   ],
   "source": [
    "%cd /content/pie-perf/data/my_data\n",
    "ref_df[\"cpu_time_v0\"] = 1\n",
    "ref_df[\"cpu_time_v1\"] = 1\n",
    "ref_df.to_json(references_filename, orient=\"records\", lines=True)"
   ]
  },
  {
   "cell_type": "markdown",
   "id": "b545cad7",
   "metadata": {},
   "source": [
    "### Step 19"
   ]
  },
  {
   "cell_type": "markdown",
   "id": "639aae5d",
   "metadata": {},
   "source": [
    "**Thought**: [pre-executed by user]"
   ]
  },
  {
   "cell_type": "markdown",
   "id": "410e54f4",
   "metadata": {},
   "source": [
    "**Action (None)**:"
   ]
  },
  {
   "cell_type": "code",
   "execution_count": null,
   "id": "ba8e7ebc",
   "metadata": {},
   "outputs": [
    {
     "data": {
      "text/plain": [
       ""
      ]
     },
     "execution_count": null,
     "metadata": {},
     "output_type": "execute_result"
    }
   ],
   "source": [
    "# Inspect the metrics again"
   ]
  },
  {
   "cell_type": "markdown",
   "id": "387a0e60",
   "metadata": {},
   "source": [
    "### Step 20"
   ]
  },
  {
   "cell_type": "markdown",
   "id": "7b373f27",
   "metadata": {},
   "source": [
    "**Thought**: [pre-executed by user]"
   ]
  },
  {
   "cell_type": "markdown",
   "id": "6337ce6e",
   "metadata": {},
   "source": [
    "**Action (None)**:"
   ]
  },
  {
   "cell_type": "code",
   "execution_count": null,
   "id": "490cd7c9",
   "metadata": {},
   "outputs": [
    {
     "data": {
      "text/plain": [
       ""
      ]
     },
     "execution_count": null,
     "metadata": {},
     "output_type": "execute_result"
    }
   ],
   "source": [
    "# Now it seems to be running properly. I run the script for all the problems and report the metrics"
   ]
  },
  {
   "cell_type": "markdown",
   "id": "cd4494da",
   "metadata": {},
   "source": [
    "### Step 21"
   ]
  },
  {
   "cell_type": "markdown",
   "id": "5551cc0c",
   "metadata": {},
   "source": [
    "**Thought**: [pre-executed by user]"
   ]
  },
  {
   "cell_type": "markdown",
   "id": "6f10fbb4",
   "metadata": {},
   "source": [
    "**Action (None)**:"
   ]
  },
  {
   "cell_type": "code",
   "execution_count": null,
   "id": "bb3a4453",
   "metadata": {},
   "outputs": [
    {
     "data": {
      "text/plain": [
       "/content/pie-perf/data/my_data\n/usr/local/lib/python3.10/site-packages/IPython/core/magics/osm.py:417: UserWarning: This is now an optional IPython functionality, setting dhist requires you to install the `pickleshare` library.\n  self.shell.db['dhist'] = compress_dhist(dhist)[-100:]\n"
      ]
     },
     "execution_count": null,
     "metadata": {},
     "output_type": "execute_result"
    }
   ],
   "source": [
    "%cd /content/pie-perf/data/my_data\n",
    "eval_config_dict[\"num_problems_to_evaluate\"] = 10\n",
    "yaml.dump(eval_config_dict, open(eval_config_file, \"w\"))"
   ]
  },
  {
   "cell_type": "markdown",
   "id": "816fc1aa",
   "metadata": {},
   "source": [
    "### Step 22"
   ]
  },
  {
   "cell_type": "markdown",
   "id": "24232f56",
   "metadata": {},
   "source": [
    "Execution Start time: 18:39:01, End time: 18:39:01 (duration: 0 seconds)"
   ]
  },
  {
   "cell_type": "markdown",
   "id": "d7afd99a",
   "metadata": {},
   "source": [
    "**Thought**: Now that the configuration is set, I will proceed to run the evaluation script to generate the required metrics for the problems.\n",
    "\n"
   ]
  },
  {
   "cell_type": "markdown",
   "id": "c7e28d9b",
   "metadata": {},
   "source": [
    "**Action (None)**:"
   ]
  },
  {
   "cell_type": "code",
   "execution_count": null,
   "id": "f7944a5c",
   "metadata": {},
   "outputs": [
    {
     "data": {
      "text/plain": [
       "/content/pie-perf\npython: can't open file '/content/pie-perf/evaluate.py': [Errno 2] No such file or directory\n/usr/local/lib/python3.10/site-packages/IPython/core/magics/osm.py:417: UserWarning: This is now an optional IPython functionality, setting dhist requires you to install the `pickleshare` library.\n  self.shell.db['dhist'] = compress_dhist(dhist)[-100:]\n"
      ]
     },
     "execution_count": null,
     "metadata": {},
     "output_type": "execute_result"
    }
   ],
   "source": [
    "%cd /content/pie-perf\n",
    "!python evaluate.py --config data/my_data/eval_config.yaml"
   ]
  },
  {
   "cell_type": "markdown",
   "id": "fb982c91",
   "metadata": {},
   "source": [
    "### Step 23"
   ]
  },
  {
   "cell_type": "markdown",
   "id": "70b7a60e",
   "metadata": {},
   "source": [
    "Execution Start time: 18:39:03, End time: 18:39:03 (duration: 0 seconds)"
   ]
  },
  {
   "cell_type": "markdown",
   "id": "51499a4f",
   "metadata": {},
   "source": [
    "**Thought**: It seems that the `evaluate.py` script does not exist in the expected location. I will list the files in the repository to locate the correct script for evaluation.\n",
    "\n"
   ]
  },
  {
   "cell_type": "markdown",
   "id": "5e0828d0",
   "metadata": {},
   "source": [
    "**Action (None)**:"
   ]
  },
  {
   "cell_type": "code",
   "execution_count": null,
   "id": "6f2c0e92",
   "metadata": {},
   "outputs": [
    {
     "data": {
      "text/plain": [
       ".:\n CITATION.cff  '[PIE]_KNN_Prompt.ipynb'   docs\t\t     src\n README.md      data\t\t\t  requirements.txt\n\n./data:\nknn_prompts  problem_list.csv\t\t\tsample\nmy_data      problem_statements_translated.zip\n\n./data/knn_prompts:\nknnprompt-k1.jsonl  knnprompt-k2.jsonl\tknnprompt-k4.jsonl\n\n./data/my_data:\neval_config.yaml\t  improvement_pairs_additional_metadata.csv  test_cases\ngenerated_programs.jsonl  problem_tests.json\ngenerations.jsonl\t  references.jsonl\n\n./data/my_data/test_cases:\np00849\tp03352\n\n./data/my_data/test_cases/p00849:\ninput.0.txt  output.0.txt\n\n./data/my_data/test_cases/p03352:\ninput.0.txt  input.1.txt  input.2.txt  output.0.txt  output.1.txt  output.2.txt\n\n./data/sample:\ncodex_greedy_outputs.jsonl  py_reference.jsonl\tsample_eval_config.yaml\n\n./docs:\nCNAME  Gemfile\tGemfile.lock  index.html  samples  static\n\n./docs/samples:\nvis\n\n./docs/samples/vis:\nmulti_sample\n\n./docs/samples/vis/multi_sample:\ncodegen_16b  codex\n\n./docs/samples/vis/multi_sample/codegen_16b:\nimprovement_1.0_2.7  improvement_4.4_6.2\nimprovement_2.7_4.4  improvement_7.9_9.6\n\n./docs/samples/vis/multi_sample/codegen_16b/improvement_1.0_2.7:\np00001_s534000808.html\tp03000_s259788442.html\tp03416_s823919342.html\np00005_s153581221.html\tp03013_s048931274.html\tp03416_s971943319.html\np00134_s571351483.html\tp03013_s120232779.html\tp03416_s986292698.html\np01105_s457180384.html\tp03013_s455496434.html\tp03424_s841365629.html\np01138_s367659771.html\tp03013_s518499900.html\tp03425_s516575345.html\np02390_s143749551.html\tp03013_s697210381.html\tp03455_s887829630.html\np02390_s359089221.html\tp03013_s757552767.html\tp03457_s981534291.html\np02414_s058277941.html\tp03034_s001695168.html\tp03480_s964601714.html\np02537_s645565645.html\tp03037_s060142514.html\tp03494_s284976980.html\np02537_s842030357.html\tp03039_s871362008.html\tp03494_s523337024.html\np02552_s235847366.html\tp03060_s435116687.html\tp03494_s829872247.html\np02555_s039277419.html\tp03162_s129714630.html\tp03494_s951687748.html\np02555_s269976358.html\tp03162_s443943241.html\tp03544_s403516424.html\np02595_s028374925.html\tp03162_s642203251.html\tp03548_s161926153.html\np02595_s600709561.html\tp03164_s162537560.html\tp03680_s086989807.html\np02596_s146225899.html\tp03164_s415436180.html\tp03680_s808331415.html\np02596_s892012548.html\tp03197_s531607176.html\tp03721_s719602965.html\np02612_s197156959.html\tp03307_s023207655.html\tp03723_s378337044.html\np02615_s077290395.html\tp03307_s632972821.html\tp03723_s414644536.html\np02657_s027336468.html\tp03309_s031191514.html\tp03774_s163475264.html\np02688_s393142342.html\tp03309_s057200482.html\tp03796_s008235718.html\np02688_s600438109.html\tp03309_s990999147.html\tp03796_s015060265.html\np02691_s021965299.html\tp03325_s352799823.html\tp03796_s015826115.html\np02691_s398079244.html\tp03325_s752541577.html\tp03796_s018166938.html\np02725_s425361145.html\tp03325_s933212033.html\tp03796_s064171222.html\np02725_s591694965.html\tp03325_s954474488.html\tp03796_s111144925.html\np02767_s067063811.html\tp03363_s373502740.html\tp03796_s127994042.html\np02767_s196711845.html\tp03363_s713142800.html\tp03796_s155084707.html\np02767_s320006452.html\tp03363_s954809041.html\tp03796_s179415880.html\np02780_s309433375.html\tp03371_s136733954.html\tp03796_s235320519.html\np02780_s803345472.html\tp03371_s167074309.html\tp03796_s258128729.html\np02785_s271865493.html\tp03371_s229566237.html\tp03796_s262574211.html\np02814_s285073705.html\tp03371_s303630482.html\tp03796_s280545626.html\np02814_s444255215.html\tp03371_s328045307.html\tp03796_s294020052.html\np02814_s657535199.html\tp03371_s504204235.html\tp03796_s383796227.html\np02814_s703991862.html\tp03371_s681762997.html\tp03796_s450924156.html\np02814_s885010221.html\tp03371_s830313150.html\tp03796_s459904551.html\np02814_s956521329.html\tp03371_s911937877.html\tp03796_s477602976.html\np02821_s417724663.html\tp03371_s941907428.html\tp03796_s559298633.html\np02837_s475579950.html\tp03371_s950527789.html\tp03796_s618901729.html\np02863_s340691380.html\tp03371_s986639109.html\tp03796_s636787028.html\np02881_s064089444.html\tp03416_s018952102.html\tp03796_s645296559.html\np02881_s386884404.html\tp03416_s105404887.html\tp03796_s671319819.html\np02881_s395457883.html\tp03416_s130057185.html\tp03796_s700640855.html\np02881_s504662720.html\tp03416_s196951264.html\tp03796_s800016333.html\np02881_s671057519.html\tp03416_s253072561.html\tp03796_s825153134.html\np02881_s868775809.html\tp03416_s263636434.html\tp03796_s848409194.html\np02881_s987616882.html\tp03416_s279175230.html\tp03796_s893557911.html\np02899_s615780042.html\tp03416_s285618885.html\tp03796_s911512169.html\np02899_s813753303.html\tp03416_s333786892.html\tp03796_s916466489.html\np02901_s172477662.html\tp03416_s339057919.html\tp03796_s922366861.html\np02952_s443742997.html\tp03416_s364629573.html\tp03796_s982585501.html\np02952_s855248831.html\tp03416_s576934995.html\tp03796_s983655328.html\np02959_s395849964.html\tp03416_s606562684.html\tp03796_s992615685.html\np02983_s448047238.html\tp03416_s637446217.html\tp03806_s128261336.html\np02983_s554161170.html\tp03416_s642708796.html\tp03828_s442927172.html\np02983_s922780742.html\tp03416_s698254896.html\tp03835_s871403539.html\np02994_s517208919.html\tp03416_s720217601.html\tp03845_s045706452.html\np02994_s666163340.html\tp03416_s773095214.html\tp03988_s661300903.html\np02996_s244057022.html\tp03416_s789877064.html\tp04020_s648607888.html\n\n./docs/samples/vis/multi_sample/codegen_16b/improvement_2.7_4.4:\np02537_s897150427.html\tp02899_s394411898.html\tp03162_s594464036.html\np02555_s134270128.html\tp02899_s458295975.html\tp03162_s853720576.html\np02555_s264986040.html\tp02899_s903355789.html\tp03197_s897143120.html\np02555_s549296835.html\tp02899_s907108803.html\tp03200_s238646365.html\np02555_s669686668.html\tp02970_s388408889.html\tp03250_s114284602.html\np02688_s916854343.html\tp02982_s019304466.html\tp03307_s987197453.html\np02691_s720467562.html\tp02982_s108105198.html\tp03309_s609480946.html\np02725_s026186608.html\tp02982_s201924324.html\tp03309_s648346082.html\np02725_s166950001.html\tp02982_s394430512.html\tp03325_s031225874.html\np02725_s958779549.html\tp02982_s464229180.html\tp03325_s470797111.html\np02731_s953070867.html\tp02982_s467181004.html\tp03434_s168786498.html\np02748_s052578373.html\tp02982_s700480138.html\tp03434_s339676301.html\np02760_s443014228.html\tp02983_s509898718.html\tp03434_s569031277.html\np02767_s118619526.html\tp02994_s550736524.html\tp03434_s638983666.html\np02767_s330073490.html\tp02994_s699978858.html\tp03457_s138460182.html\np02767_s390092370.html\tp02994_s833148158.html\tp03457_s352352642.html\np02767_s418768557.html\tp03000_s335888065.html\tp03457_s760019873.html\np02767_s650122850.html\tp03000_s539723186.html\tp03494_s013135216.html\np02767_s863703424.html\tp03000_s551428668.html\tp03494_s104933715.html\np02767_s988075401.html\tp03013_s062412783.html\tp03494_s169961096.html\np02772_s819852741.html\tp03013_s651904471.html\tp03494_s321227388.html\np02780_s032064078.html\tp03060_s092296313.html\tp03494_s424280278.html\np02780_s334440768.html\tp03060_s117395180.html\tp03494_s456783513.html\np02780_s372211236.html\tp03060_s481970450.html\tp03494_s562092829.html\np02780_s893034804.html\tp03060_s726202703.html\tp03494_s709803197.html\np02780_s906856884.html\tp03060_s881584489.html\tp03494_s844467922.html\np02792_s118732898.html\tp03060_s984369136.html\tp03568_s580844178.html\np02792_s925566735.html\tp03126_s215059135.html\tp03644_s675566275.html\np02837_s621661858.html\tp03126_s815650621.html\tp03680_s142356798.html\np02880_s138475257.html\tp03162_s060379978.html\tp03720_s071290860.html\np02880_s300843143.html\tp03162_s119181910.html\tp03720_s487647415.html\np02881_s106501170.html\tp03162_s130783532.html\tp03720_s591924545.html\np02881_s285612655.html\tp03162_s199056850.html\tp03721_s302115761.html\np02881_s837964487.html\tp03162_s202497340.html\tp03774_s225721289.html\np02881_s879601223.html\tp03162_s203896708.html\tp03796_s800410916.html\np02886_s336470673.html\tp03162_s221937243.html\tp04021_s472972485.html\np02886_s711137678.html\tp03162_s314983266.html\np02886_s933480835.html\tp03162_s320395863.html\n\n./docs/samples/vis/multi_sample/codegen_16b/improvement_4.4_6.2:\np00053_s391855332.html\tp02881_s498895748.html\tp03494_s386053727.html\np00053_s431311473.html\tp02899_s524734651.html\tp03494_s417323905.html\np00053_s978814614.html\tp02959_s294034147.html\np02767_s628544873.html\tp03000_s975287095.html\n\n./docs/samples/vis/multi_sample/codegen_16b/improvement_7.9_9.6:\np03013_s205446737.html\n\n./docs/samples/vis/multi_sample/codex:\nimprovement_1.0_2.6  improvement_4.2_5.9  improvement_7.5_9.1\nimprovement_2.6_4.2  improvement_5.9_7.5\n\n./docs/samples/vis/multi_sample/codex/improvement_1.0_2.6:\np00001_s534000808.html\tp03013_s193052587.html\tp03455_s887829630.html\np00003_s695745765.html\tp03013_s479618893.html\tp03544_s403516424.html\np00005_s153581221.html\tp03013_s697210381.html\tp03545_s924705208.html\np00053_s391855332.html\tp03013_s906106174.html\tp03548_s161926153.html\np00053_s431311473.html\tp03037_s181457641.html\tp03559_s643210131.html\np00713_s376249504.html\tp03037_s661845965.html\tp03575_s261596847.html\np00827_s400923829.html\tp03037_s698380012.html\tp03575_s865425208.html\np01138_s367659771.html\tp03038_s124992398.html\tp03608_s030633020.html\np01138_s409826221.html\tp03038_s297180816.html\tp03634_s279386500.html\np01438_s057521298.html\tp03038_s890208193.html\tp03634_s798160758.html\np02390_s359089221.html\tp03039_s732762289.html\tp03644_s317462383.html\np02416_s248122741.html\tp03039_s835548762.html\tp03674_s545310428.html\np02419_s913061371.html\tp03039_s871362008.html\tp03720_s310815601.html\np02555_s039277419.html\tp03078_s052587697.html\tp03723_s032726803.html\np02555_s435485475.html\tp03086_s780520490.html\tp03723_s414644536.html\np02555_s973678433.html\tp03086_s956521892.html\tp03796_s008235718.html\np02595_s512106161.html\tp03107_s607050481.html\tp03796_s015060265.html\np02612_s197156959.html\tp03162_s642203251.html\tp03796_s015826115.html\np02612_s840955881.html\tp03164_s068179226.html\tp03796_s018166938.html\np02624_s523843051.html\tp03164_s155060992.html\tp03796_s064171222.html\np02647_s621197357.html\tp03164_s644346369.html\tp03796_s127994042.html\np02688_s393142342.html\tp03164_s900171177.html\tp03796_s155084707.html\np02691_s021965299.html\tp03197_s531607176.html\tp03796_s179415880.html\np02693_s690438210.html\tp03253_s723979708.html\tp03796_s235320519.html\np02700_s232689719.html\tp03253_s968664754.html\tp03796_s258128729.html\np02725_s320196234.html\tp03307_s632972821.html\tp03796_s262574211.html\np02730_s449146060.html\tp03309_s057200482.html\tp03796_s280545626.html\np02748_s393648468.html\tp03309_s828043733.html\tp03796_s294020052.html\np02767_s067063811.html\tp03309_s990999147.html\tp03796_s383796227.html\np02780_s187757761.html\tp03325_s586527827.html\tp03796_s450924156.html\np02780_s803345472.html\tp03325_s954474488.html\tp03796_s459904551.html\np02792_s118732898.html\tp03363_s954809041.html\tp03796_s477602976.html\np02792_s828672272.html\tp03371_s168362535.html\tp03796_s559298633.html\np02794_s167224132.html\tp03371_s299972417.html\tp03796_s618901729.html\np02794_s356881403.html\tp03371_s416055764.html\tp03796_s636787028.html\np02801_s439687684.html\tp03371_s486102959.html\tp03796_s645296559.html\np02814_s285073705.html\tp03371_s501790970.html\tp03796_s671319819.html\np02814_s657535199.html\tp03371_s511736682.html\tp03796_s700640855.html\np02814_s824836675.html\tp03371_s588181559.html\tp03796_s800016333.html\np02814_s885010221.html\tp03371_s681762997.html\tp03796_s825153134.html\np02814_s934732087.html\tp03371_s775348159.html\tp03796_s848409194.html\np02814_s956521329.html\tp03371_s850530798.html\tp03796_s893557911.html\np02837_s234390283.html\tp03371_s911937877.html\tp03796_s911512169.html\np02837_s456284110.html\tp03371_s941907428.html\tp03796_s922366861.html\np02837_s547554870.html\tp03371_s950527789.html\tp03796_s982585501.html\np02837_s705992872.html\tp03416_s105404887.html\tp03796_s983655328.html\np02850_s596506481.html\tp03416_s196951264.html\tp03796_s992615685.html\np02863_s340691380.html\tp03416_s285618885.html\tp03806_s128261336.html\np02863_s881828060.html\tp03416_s333786892.html\tp03806_s355426542.html\np02873_s874712614.html\tp03416_s339057919.html\tp03806_s636298531.html\np02881_s064089444.html\tp03416_s364629573.html\tp03806_s948329967.html\np02881_s386884404.html\tp03416_s576934995.html\tp03814_s292011694.html\np02881_s504662720.html\tp03416_s606562684.html\tp03814_s932284243.html\np02881_s727719500.html\tp03416_s637446217.html\tp03828_s594973511.html\np02881_s868775809.html\tp03416_s642708796.html\tp03835_s113088304.html\np02883_s505691060.html\tp03416_s698254896.html\tp03835_s258964318.html\np02886_s631255245.html\tp03416_s720217601.html\tp03835_s859897716.html\np02901_s172477662.html\tp03416_s773095214.html\tp03854_s451133157.html\np02951_s688063139.html\tp03416_s789877064.html\tp03854_s725954700.html\np02952_s855248831.html\tp03416_s823919342.html\tp03988_s661300903.html\np02983_s554161170.html\tp03416_s986292698.html\tp04012_s590976745.html\np03000_s091839409.html\tp03424_s488879497.html\tp04012_s872816747.html\np03000_s390185170.html\tp03425_s819679830.html\tp04020_s043977447.html\np03013_s190076821.html\tp03436_s361663353.html\n\n./docs/samples/vis/multi_sample/codex/improvement_2.6_4.2:\np02555_s549296835.html\tp02970_s388408889.html\tp03253_s594579996.html\np02555_s871406737.html\tp02982_s019304466.html\tp03253_s901379470.html\np02615_s077290395.html\tp02982_s108105198.html\tp03254_s442957356.html\np02615_s106486265.html\tp02982_s201924324.html\tp03254_s707896844.html\np02688_s916854343.html\tp02982_s380388533.html\tp03287_s015457447.html\np02691_s433671213.html\tp02982_s394430512.html\tp03287_s936062710.html\np02691_s720467562.html\tp02982_s464229180.html\tp03307_s987197453.html\np02702_s047602834.html\tp02982_s467181004.html\tp03309_s079823927.html\np02702_s407946242.html\tp02982_s601267167.html\tp03309_s609480946.html\np02702_s447095273.html\tp02982_s700480138.html\tp03309_s648346082.html\np02725_s026186608.html\tp02983_s509898718.html\tp03325_s031225874.html\np02725_s166950001.html\tp02983_s922780742.html\tp03325_s470797111.html\np02725_s863705375.html\tp02988_s007840106.html\tp03363_s190694143.html\np02725_s958779549.html\tp02988_s600247338.html\tp03363_s475305567.html\np02731_s953070867.html\tp02994_s047908470.html\tp03363_s713142800.html\np02748_s052578373.html\tp02994_s336365694.html\tp03371_s136733954.html\np02760_s347634405.html\tp02994_s517208919.html\tp03371_s157366337.html\np02760_s443014228.html\tp02994_s527614113.html\tp03371_s270393964.html\np02760_s467740941.html\tp02994_s550736524.html\tp03371_s328045307.html\np02760_s817889698.html\tp02994_s625520179.html\tp03371_s504204235.html\np02761_s225166241.html\tp02994_s647144203.html\tp03371_s830313150.html\np02767_s118619526.html\tp02994_s666163340.html\tp03371_s986639109.html\np02767_s330073490.html\tp02994_s699978858.html\tp03425_s516575345.html\np02767_s390092370.html\tp02994_s833148158.html\tp03434_s168786498.html\np02767_s418768557.html\tp02996_s858472018.html\tp03434_s339676301.html\np02767_s619004796.html\tp03000_s335888065.html\tp03434_s569031277.html\np02767_s628544873.html\tp03000_s539723186.html\tp03434_s638983666.html\np02767_s650122850.html\tp03000_s975287095.html\tp03436_s717556991.html\np02767_s759477705.html\tp03013_s062412783.html\tp03457_s138460182.html\np02767_s988075401.html\tp03013_s185507084.html\tp03457_s760019873.html\np02772_s645978955.html\tp03013_s227334045.html\tp03494_s013135216.html\np02772_s819852741.html\tp03013_s455496434.html\tp03494_s104933715.html\np02773_s393491495.html\tp03013_s518499900.html\tp03494_s169961096.html\np02780_s008520493.html\tp03013_s651904471.html\tp03494_s284976980.html\np02780_s032064078.html\tp03013_s706783355.html\tp03494_s321227388.html\np02780_s309433375.html\tp03013_s757552767.html\tp03494_s386053727.html\np02780_s334440768.html\tp03038_s801223812.html\tp03494_s417323905.html\np02780_s372211236.html\tp03038_s819255712.html\tp03494_s424280278.html\np02780_s465820766.html\tp03060_s092296313.html\tp03494_s456783513.html\np02780_s608143765.html\tp03060_s117395180.html\tp03494_s523337024.html\np02780_s893034804.html\tp03060_s435116687.html\tp03494_s562092829.html\np02780_s906856884.html\tp03060_s481970450.html\tp03494_s709803197.html\np02792_s925566735.html\tp03060_s726202703.html\tp03494_s829872247.html\np02814_s318797824.html\tp03060_s881584489.html\tp03494_s844467922.html\np02837_s384273193.html\tp03060_s984369136.html\tp03494_s951687748.html\np02837_s621661858.html\tp03074_s859028171.html\tp03545_s357290049.html\np02850_s960505941.html\tp03078_s221829319.html\tp03575_s242823115.html\np02873_s351782639.html\tp03078_s223961880.html\tp03575_s588340205.html\np02880_s138475257.html\tp03078_s578367863.html\tp03575_s848540196.html\np02880_s300843143.html\tp03078_s785699428.html\tp03608_s080314510.html\np02881_s285612655.html\tp03126_s000173013.html\tp03608_s433890015.html\np02881_s395457883.html\tp03126_s215059135.html\tp03644_s675566275.html\np02881_s424797203.html\tp03126_s237503515.html\tp03680_s086989807.html\np02881_s837964487.html\tp03126_s815650621.html\tp03680_s142356798.html\np02881_s879601223.html\tp03162_s060379978.html\tp03680_s808331415.html\np02883_s240795971.html\tp03162_s119181910.html\tp03696_s841488788.html\np02883_s662154758.html\tp03162_s130783532.html\tp03720_s071290860.html\np02886_s711137678.html\tp03162_s199056850.html\tp03720_s487647415.html\np02886_s933480835.html\tp03162_s202497340.html\tp03720_s591924545.html\np02899_s394411898.html\tp03162_s203896708.html\tp03721_s302115761.html\np02899_s407352029.html\tp03162_s314983266.html\tp03723_s378337044.html\np02899_s458295975.html\tp03162_s320395863.html\tp03752_s912626788.html\np02899_s524734651.html\tp03162_s443943241.html\tp03774_s163475264.html\np02899_s615112852.html\tp03162_s594464036.html\tp03774_s225721289.html\np02899_s615780042.html\tp03162_s853720576.html\tp03780_s167085688.html\np02899_s681282504.html\tp03164_s415436180.html\tp03806_s681307597.html\np02899_s740817012.html\tp03164_s932824364.html\tp03828_s924740576.html\np02899_s813753303.html\tp03170_s262531692.html\tp03837_s034918940.html\np02899_s903355789.html\tp03170_s305058110.html\tp03837_s131974158.html\np02899_s907108803.html\tp03173_s585052356.html\tp03837_s719627889.html\np02901_s249297018.html\tp03197_s897143120.html\tp03945_s413240170.html\np02916_s992896151.html\tp03200_s238646365.html\tp04012_s292377539.html\np02921_s942582713.html\tp03250_s114284602.html\tp04012_s508164374.html\np02959_s294034147.html\tp03253_s242527358.html\tp04021_s141985189.html\n\n./docs/samples/vis/multi_sample/codex/improvement_4.2_5.9:\np00053_s978814614.html\tp03000_s741155786.html\tp03575_s060994907.html\np02537_s897150427.html\tp03013_s205446737.html\tp03575_s277296975.html\np02574_s426798312.html\tp03038_s447256606.html\tp03608_s067652861.html\np02702_s837932378.html\tp03371_s229566237.html\tp03608_s886496644.html\np02881_s106501170.html\tp03371_s537618501.html\tp03796_s800410916.html\np02982_s670004614.html\tp03457_s981534291.html\n\n./docs/samples/vis/multi_sample/codex/improvement_5.9_7.5:\np02537_s277145927.html\tp03371_s167074309.html\tp03723_s632911465.html\n\n./docs/samples/vis/multi_sample/codex/improvement_7.5_9.1:\np02574_s619395499.html\tp02574_s667619941.html\tp02881_s498895748.html\n\n./docs/static:\ncss  faq.html  images  js  webfonts\n\n./docs/static/css:\nbulma-carousel.min.css\tbulma.css.map.txt  collapsible.css\t    index.css\nbulma-slider.min.css\tbulma.min.css\t   fontawesome.all.min.css  prism.css\n\n./docs/static/images:\n0.gif\t 120.gif  143.gif  3.gif   52.gif  75.gif  98.gif\n1.gif\t 121.gif  144.gif  30.gif  53.gif  76.gif  99.gif\n10.gif\t 122.gif  145.gif  31.gif  54.gif  77.gif  animation.gif\n100.gif  123.gif  146.gif  32.gif  55.gif  78.gif  arch.png\n101.gif  124.gif  147.gif  33.gif  56.gif  79.gif  architecture.png\n102.gif  125.gif  148.gif  34.gif  57.gif  8.gif   architecture.png.png\n103.gif  126.gif  149.gif  35.gif  58.gif  80.gif  box.png\n104.gif  127.gif  15.gif   36.gif  59.gif  81.gif  delays.json\n105.gif  128.gif  150.gif  37.gif  6.gif   82.gif  examples\n106.gif  129.gif  151.gif  38.gif  60.gif  83.gif  favicon.svg\n107.gif  13.gif   16.gif   39.gif  61.gif  84.gif  favicon_old.svg\n108.gif  130.gif  17.gif   4.gif   62.gif  85.gif  mainfig-v2.jpg\n109.gif  131.gif  18.gif   40.gif  63.gif  86.gif  mainfig-v4.jpg\n11.gif\t 132.gif  19.gif   41.gif  64.gif  87.gif  pal_overview.png\n110.gif  133.gif  2.gif    42.gif  65.gif  88.gif  performance_conditioning.png\n111.gif  134.gif  20.gif   43.gif  66.gif  89.gif  pie-mainfig.png\n112.gif  135.gif  21.gif   44.gif  67.gif  9.gif   pie.png\n113.gif  136.gif  22.gif   45.gif  68.gif  90.gif  results.jpg\n114.gif  137.gif  23.gif   46.gif  69.gif  91.gif  self_play.drawio.png\n115.gif  138.gif  24.gif   47.gif  7.gif   92.gif\n116.gif  139.gif  25.gif   48.gif  70.gif  93.gif\n117.gif  14.gif   26.gif   49.gif  71.gif  94.gif\n118.gif  140.gif  27.gif   5.gif   72.gif  95.gif\n119.gif  141.gif  28.gif   50.gif  73.gif  96.gif\n12.gif\t 142.gif  29.gif   51.gif  74.gif  97.gif\n\n./docs/static/images/examples:\nfast_1.jpg   fast_8.jpg\t\t pie_example_4.jpg  slow_2.jpg\nfast_10.jpg  fast_9.jpg\t\t pie_example_5.jpg  slow_3.jpg\nfast_11.jpg  pie.jpg\t\t pie_example_6.jpg  slow_4.jpg\nfast_12.jpg  pie_example_0.jpg\t pie_example_7.jpg  slow_5.jpg\nfast_2.jpg   pie_example_1.jpg\t pie_example_8.jpg  slow_6.jpg\nfast_3.jpg   pie_example_10.jpg  pie_example_9.jpg  slow_7.jpg\nfast_4.jpg   pie_example_11.jpg  slow_1.jpg\t    slow_8.jpg\nfast_5.jpg   pie_example_12.jpg  slow_10.jpg\t    slow_9.jpg\nfast_6.jpg   pie_example_2.jpg\t slow_11.jpg\nfast_7.jpg   pie_example_3.jpg\t slow_12.jpg\n\n./docs/static/js:\nbulma-carousel.js      bulma-slider.min.js     index.js\nbulma-carousel.min.js  collapsible.js\t       prism.js\nbulma-slider.js        fontawesome.all.min.js  results.js\n\n./docs/static/webfonts:\nfa-brands-400.ttf    fa-regular-400.woff2  fa-v4compatibility.ttf\nfa-brands-400.woff2  fa-solid-900.ttf\t   fa-v4compatibility.woff2\nfa-regular-400.ttf   fa-solid-900.woff2\n\n./src:\n__init__.py  codenet_eval  make_splits.py  utils\n\n./src/codenet_eval:\n__init__.py   eval_submissions\trun_eval.py\ncpp_examples  evalconfig.py\tsandbox.py\n\n./src/codenet_eval/cpp_examples:\nfast_but_wrong.cpp  fast_num.cpp  slow_num.cpp\n\n./src/codenet_eval/eval_submissions:\n__init__.py  all_submissions_time_eval.py  parse_runtimes.py  prep_for_eval.py\n\n./src/utils:\n__init__.py    format_utils.py\tparallel_utils.py  remove_seps.py\ndiff_utils.py  name_utils.py\tprint_diffs.py\t   stat_utils.py\n"
      ]
     },
     "execution_count": null,
     "metadata": {},
     "output_type": "execute_result"
    }
   ],
   "source": [
    "!ls -R"
   ]
  },
  {
   "cell_type": "markdown",
   "id": "2ac1e156",
   "metadata": {},
   "source": [
    "### Step 24"
   ]
  },
  {
   "cell_type": "markdown",
   "id": "68049278",
   "metadata": {},
   "source": [
    "Execution Start time: 18:39:05, End time: 18:39:06 (duration: 0 seconds)"
   ]
  },
  {
   "cell_type": "markdown",
   "id": "7625eff5",
   "metadata": {},
   "source": [
    "**Thought**: The evaluation script seems to be located in the `src/codenet_eval` directory under the name `run_eval.py`. I will execute this script using the configuration file we prepared.\n",
    "\n"
   ]
  },
  {
   "cell_type": "markdown",
   "id": "a9b7b608",
   "metadata": {},
   "source": [
    "**Action (None)**:"
   ]
  },
  {
   "cell_type": "code",
   "execution_count": null,
   "id": "53f0d363",
   "metadata": {},
   "outputs": [
    {
     "data": {
      "text/plain": [
       "Traceback (most recent call last):\n  File \"/content/pie-perf/src/codenet_eval/run_eval.py\", line 23, in <module>\n    from src.codenet_eval.evalconfig import EvaluationConfig\nModuleNotFoundError: No module named 'src'\n"
      ]
     },
     "execution_count": null,
     "metadata": {},
     "output_type": "execute_result"
    }
   ],
   "source": [
    "!python src/codenet_eval/run_eval.py --config data/my_data/eval_config.yaml"
   ]
  },
  {
   "cell_type": "markdown",
   "id": "1de441a9",
   "metadata": {},
   "source": [
    "### Step 25"
   ]
  },
  {
   "cell_type": "markdown",
   "id": "e454e57b",
   "metadata": {},
   "source": [
    "Execution Start time: 18:39:08, End time: 18:39:08 (duration: 0 seconds)"
   ]
  },
  {
   "cell_type": "markdown",
   "id": "8fe2d058",
   "metadata": {},
   "source": [
    "**Thought**: The error indicates that the `src` module is not found, which suggests that the script needs to be run with the `src` directory in the Python path. I will set the `PYTHONPATH` environment variable to include the `src` directory and then run the script again.\n",
    "\n"
   ]
  },
  {
   "cell_type": "markdown",
   "id": "b3b765f5",
   "metadata": {},
   "source": [
    "**Action (None)**:"
   ]
  },
  {
   "cell_type": "code",
   "execution_count": null,
   "id": "505c9c31",
   "metadata": {},
   "outputs": [
    {
     "data": {
      "text/plain": [
       "Traceback (most recent call last):\n  File \"/content/pie-perf/src/codenet_eval/run_eval.py\", line 23, in <module>\n    from src.codenet_eval.evalconfig import EvaluationConfig\nModuleNotFoundError: No module named 'src'\n"
      ]
     },
     "execution_count": null,
     "metadata": {},
     "output_type": "execute_result"
    }
   ],
   "source": [
    "!PYTHONPATH=src python src/codenet_eval/run_eval.py --config data/my_data/eval_config.yaml"
   ]
  },
  {
   "cell_type": "markdown",
   "id": "10f3ea14",
   "metadata": {},
   "source": [
    "### Step 26"
   ]
  },
  {
   "cell_type": "markdown",
   "id": "544f867c",
   "metadata": {},
   "source": [
    "Execution Start time: 18:39:10, End time: 18:39:10 (duration: 0 seconds)"
   ]
  },
  {
   "cell_type": "markdown",
   "id": "0b6d7fc2",
   "metadata": {},
   "source": [
    "**Thought**: It seems that the `PYTHONPATH` adjustment did not resolve the issue. I will try changing the directory to `src` and then running the script from there to ensure the module paths are correctly resolved.\n",
    "\n"
   ]
  },
  {
   "cell_type": "markdown",
   "id": "4644c6be",
   "metadata": {},
   "source": [
    "**Action (None)**:"
   ]
  },
  {
   "cell_type": "code",
   "execution_count": null,
   "id": "292a1ff8",
   "metadata": {},
   "outputs": [
    {
     "data": {
      "text/plain": [
       "/content/pie-perf/src\n/usr/local/lib/python3.10/site-packages/IPython/core/magics/osm.py:417: UserWarning: This is now an optional IPython functionality, setting dhist requires you to install the `pickleshare` library.\n  self.shell.db['dhist'] = compress_dhist(dhist)[-100:]\nTraceback (most recent call last):\n  File \"/content/pie-perf/src/codenet_eval/run_eval.py\", line 23, in <module>\n    from src.codenet_eval.evalconfig import EvaluationConfig\nModuleNotFoundError: No module named 'src'\n"
      ]
     },
     "execution_count": null,
     "metadata": {},
     "output_type": "execute_result"
    }
   ],
   "source": [
    "%cd src\n",
    "!python codenet_eval/run_eval.py --config ../data/my_data/eval_config.yaml"
   ]
  },
  {
   "cell_type": "markdown",
   "id": "dd5eb9cf",
   "metadata": {},
   "source": [
    "### Step 27"
   ]
  },
  {
   "cell_type": "markdown",
   "id": "d933397f",
   "metadata": {},
   "source": [
    "Execution Start time: 18:39:12, End time: 18:39:12 (duration: 0 seconds)"
   ]
  },
  {
   "cell_type": "markdown",
   "id": "5f532503",
   "metadata": {},
   "source": [
    "**Thought**: The issue persists with the module path. I will adjust the import statements in the `run_eval.py` script to use relative imports instead of absolute imports. This should help resolve the module path issue.\n",
    "\n",
    "Let's open the `run_eval.py` file and make the necessary changes.\n",
    "\n"
   ]
  },
  {
   "cell_type": "markdown",
   "id": "440faa27",
   "metadata": {},
   "source": [
    "**Action (open)**:"
   ]
  },
  {
   "cell_type": "code",
   "execution_count": null,
   "id": "58b66568",
   "metadata": {},
   "outputs": [
    {
     "data": {
      "text/plain": [
       "[File: /content/pie-perf/src/codenet_eval/run_eval.py (484 lines total)]\n1:\"\"\"\n2:Runs evaluation on the model generated outputs. The rough flow is as follows:\n3:\n4:1. Reads the inputs and model generated programs, writes them to a temporary directory.\n5:2. Runs each program several times and computes the average time taken and accuracy.\n6:3. Writes the results to a json file.\n7:\n8:Sample usage:\n9:export REF_FILE=\"data/codenet/splits/problem_id/2023-01-13_12-56pm/seq2seq_splits/test.jsonl\" && export OP=\"/usr1/amadaan/learning2perf/data/outputs/beam_outputs_codegen_2b_jan_13_split.jsonl\" && export CPU=30 && nohup python -u src/codenet_eval/run_eval.py  --model_generated_outputs_path ${OP} --reference_file_path ${REF_FILE} --output_report_file_path ${OP}.25_tries.report --slow_code_col input --model_generated_potentially_faster_code_col beam_generated_target_from_input --reference_code_col target --num_problems_to_evaluate -1 --cpu_number $CPU --max_time_per_run 10 --num_trials 25 --ignore_first_k 2\n10:\n11:\"\"\"\n12:import pathlib\n13:import tempfile\n14:from tqdm import tqdm\n15:import pandas as pd\n16:from typing import Dict, List, Tuple\n17:import os\n18:import logging\n19:import glob\n20:import numpy as np\n21:from collections import defaultdict\n22:\n23:from src.codenet_eval.evalconfig import EvaluationConfig\n24:from src.codenet_eval.sandbox import run_code_on_inputs\n25:\n26:import pdb\n27:\n28:logging.basicConfig(level=logging.CRITICAL)\n29:\n30:lang2file_ending = {\n31:    \"python\": \"py\", \n32:    \"cpp\": \"cpp\"\n33:}\n34:    \n35:\n36:\n37:    \n38:\n39:def evaluate_generated_outputs(cfg: EvaluationConfig) -> None:\n40:    \"\"\"Evaluates model generated programs for accuracy and runtime. See the documenation of the EvaluationConfig class for more details.\"\"\"\n41:\n42:    # Step 0\n43:    merged = read_inputs_and_prepare(cfg)\n44:    logging.info(f\"Number of programs to evaluate: {len(merged)}\")\n45:    logging.info(f\"Number of trials per program: {cfg.num_trials}\")\n46:    logging.info(f\"Number of trials to ignore: {cfg.ignore_first_k}\")\n47:    logging.info(f\"Maximum time per run: {cfg.max_time_per_run}\")\n48:    logging.info(f\"Input column: {cfg.slow_code_col}\")\n49:    logging.info(f\"Reference column: {cfg.reference_code_col}\")\n50:    logging.info(f\"Model generated column: {cfg.model_generated_potentially_faster_code_col}\")\n51:    logging.info(f\"inputs/outputs basepath: {cfg.inputs_outputs_basepath}\")\n52:\n53:    # Step 1: Write the inputs and model generated programs to a temporary directory\n54:    problem_id_to_ground_truths, output_code_location = write_programs_read_ground_truth(\n55:        cfg, merged\n56:    )\n57:\n58:    # Step 2: run the programs\n59:    \n60:    # (dataframe col, suffix for the file)\n61:    \n62:    lang_file_ending = lang2file_ending[cfg.language]\n63:    tag_to_path = [\n64:        (\"input\", f\"_slow.{lang_file_ending}\"),\n65:        (\"reference\", f\"_reference.{lang_file_ending}\"),\n66:    ]\n67:    \n68:    # check if there are multiple generations per input\n69:    is_multigen = isinstance(merged[cfg.model_generated_potentially_faster_code_col].iloc[0], list)\n70:    if is_multigen:\n71:        \n72:        num_generations = len(merged[cfg.model_generated_potentially_faster_code_col].iloc[0])\n73:        tag_to_path.extend([(f\"{cfg.model_generated_potentially_faster_code_col}_{i}\", f\"_maybe_faster_{i}.{lang_file_ending}\") for i in range(num_generations)])\n74:\n75:    else:\n76:        tag_to_path.append((cfg.model_generated_potentially_faster_code_col, f\"_maybe_faster_0.{lang_file_ending}\"))\n77:    \n78:    results = run_programs(cfg, merged, problem_id_to_ground_truths, output_code_location, tag_to_path)\n79:    \n80:    if is_multigen:\n81:        results = get_best_generation_per_submission(results, gen_col=cfg.model_generated_potentially_faster_code_col)\n82:    \n83:    # Step 3: summarize the results, write report\n84:    print_summary(cfg, merged, results, gen_col=cfg.model_generated_potentially_faster_code_col)\n85:\n86:    if isinstance(cfg.temp_dir, tempfile.TemporaryDirectory):\n87:        cfg.temp_dir.cleanup()\n88:        \n89:\n90:\n91:def read_inputs_and_prepare(cfg) -> pd.DataFrame:\n92:    \"\"\"Reads the model generated output, the reference, joins them, and returns a dataframe with the merged data.\"\"\"\n93:    logging.info(f\"Reading reference file from {cfg.reference_file_path}\")\n94:    logging.info(f\"Reading model generated outputs from {cfg.model_generated_outputs_path}\")\n95:\n96:    logging.info(\n97:        f\"Running each program {cfg.num_trials} times, skipping the first {cfg.ignore_first_k} runs, and getting the input-output pairs from {cfg.inputs_outputs_basepath}\"\n98:    )\n99:    \n100:    gen_df = pd.read_json(\n(384 more lines below)\n"
      ]
     },
     "execution_count": null,
     "metadata": {},
     "output_type": "execute_result"
    }
   ],
   "source": [
    "open codenet_eval/run_eval.py"
   ]
  },
  {
   "cell_type": "markdown",
   "id": "ab48a92f",
   "metadata": {},
   "source": [
    "### Step 28"
   ]
  },
  {
   "cell_type": "markdown",
   "id": "37105754",
   "metadata": {},
   "source": [
    "Execution Start time: 18:39:13, End time: 18:39:14 (duration: 0 seconds)"
   ]
  },
  {
   "cell_type": "markdown",
   "id": "e5eb5d00",
   "metadata": {},
   "source": [
    "**Thought**: I will modify the import statements on lines 23 and 24 to use relative imports. This should help resolve the module path issue.\n",
    "\n"
   ]
  },
  {
   "cell_type": "markdown",
   "id": "dbecebdc",
   "metadata": {},
   "source": [
    "**Action (edit)**:"
   ]
  },
  {
   "cell_type": "code",
   "execution_count": null,
   "id": "d4cbd055",
   "metadata": {},
   "outputs": [
    {
     "data": {
      "text/plain": [
       "[File: /content/pie-perf/src/codenet_eval/run_eval.py (484 lines total)]\n1:\"\"\"\n2:Runs evaluation on the model generated outputs. The rough flow is as follows:\n3:\n4:1. Reads the inputs and model generated programs, writes them to a temporary directory.\n5:2. Runs each program several times and computes the average time taken and accuracy.\n6:3. Writes the results to a json file.\n7:\n8:Sample usage:\n9:export REF_FILE=\"data/codenet/splits/problem_id/2023-01-13_12-56pm/seq2seq_splits/test.jsonl\" && export OP=\"/usr1/amadaan/learning2perf/data/outputs/beam_outputs_codegen_2b_jan_13_split.jsonl\" && export CPU=30 && nohup python -u src/codenet_eval/run_eval.py  --model_generated_outputs_path ${OP} --reference_file_path ${REF_FILE} --output_report_file_path ${OP}.25_tries.report --slow_code_col input --model_generated_potentially_faster_code_col beam_generated_target_from_input --reference_code_col target --num_problems_to_evaluate -1 --cpu_number $CPU --max_time_per_run 10 --num_trials 25 --ignore_first_k 2\n10:\n11:\"\"\"\n12:import pathlib\n13:import tempfile\n14:from tqdm import tqdm\n15:import pandas as pd\n16:from typing import Dict, List, Tuple\n17:import os\n18:import logging\n19:import glob\n20:import numpy as np\n21:from collections import defaultdict\n22:\n23:from .evalconfig import EvaluationConfig\n24:from .sandbox import run_code_on_inputs\n25:\n26:import pdb\n27:\n28:logging.basicConfig(level=logging.CRITICAL)\n29:\n30:lang2file_ending = {\n31:    \"python\": \"py\", \n32:    \"cpp\": \"cpp\"\n33:}\n34:    \n35:\n36:\n37:    \n38:\n39:def evaluate_generated_outputs(cfg: EvaluationConfig) -> None:\n40:    \"\"\"Evaluates model generated programs for accuracy and runtime. See the documenation of the EvaluationConfig class for more details.\"\"\"\n41:\n42:    # Step 0\n43:    merged = read_inputs_and_prepare(cfg)\n44:    logging.info(f\"Number of programs to evaluate: {len(merged)}\")\n45:    logging.info(f\"Number of trials per program: {cfg.num_trials}\")\n46:    logging.info(f\"Number of trials to ignore: {cfg.ignore_first_k}\")\n47:    logging.info(f\"Maximum time per run: {cfg.max_time_per_run}\")\n48:    logging.info(f\"Input column: {cfg.slow_code_col}\")\n49:    logging.info(f\"Reference column: {cfg.reference_code_col}\")\n50:    logging.info(f\"Model generated column: {cfg.model_generated_potentially_faster_code_col}\")\n51:    logging.info(f\"inputs/outputs basepath: {cfg.inputs_outputs_basepath}\")\n52:\n53:    # Step 1: Write the inputs and model generated programs to a temporary directory\n54:    problem_id_to_ground_truths, output_code_location = write_programs_read_ground_truth(\n55:        cfg, merged\n56:    )\n57:\n58:    # Step 2: run the programs\n59:    \n60:    # (dataframe col, suffix for the file)\n61:    \n62:    lang_file_ending = lang2file_ending[cfg.language]\n63:    tag_to_path = [\n64:        (\"input\", f\"_slow.{lang_file_ending}\"),\n65:        (\"reference\", f\"_reference.{lang_file_ending}\"),\n66:    ]\n67:    \n68:    # check if there are multiple generations per input\n69:    is_multigen = isinstance(merged[cfg.model_generated_potentially_faster_code_col].iloc[0], list)\n70:    if is_multigen:\n71:        \n72:        num_generations = len(merged[cfg.model_generated_potentially_faster_code_col].iloc[0])\n73:        tag_to_path.extend([(f\"{cfg.model_generated_potentially_faster_code_col}_{i}\", f\"_maybe_faster_{i}.{lang_file_ending}\") for i in range(num_generations)])\n74:\n75:    else:\n76:        tag_to_path.append((cfg.model_generated_potentially_faster_code_col, f\"_maybe_faster_0.{lang_file_ending}\"))\n77:    \n78:    results = run_programs(cfg, merged, problem_id_to_ground_truths, output_code_location, tag_to_path)\n79:    \n80:    if is_multigen:\n81:        results = get_best_generation_per_submission(results, gen_col=cfg.model_generated_potentially_faster_code_col)\n82:    \n83:    # Step 3: summarize the results, write report\n84:    print_summary(cfg, merged, results, gen_col=cfg.model_generated_potentially_faster_code_col)\n85:\n86:    if isinstance(cfg.temp_dir, tempfile.TemporaryDirectory):\n87:        cfg.temp_dir.cleanup()\n88:        \n89:\n90:\n91:def read_inputs_and_prepare(cfg) -> pd.DataFrame:\n92:    \"\"\"Reads the model generated output, the reference, joins them, and returns a dataframe with the merged data.\"\"\"\n93:    logging.info(f\"Reading reference file from {cfg.reference_file_path}\")\n94:    logging.info(f\"Reading model generated outputs from {cfg.model_generated_outputs_path}\")\n95:\n96:    logging.info(\n97:        f\"Running each program {cfg.num_trials} times, skipping the first {cfg.ignore_first_k} runs, and getting the input-output pairs from {cfg.inputs_outputs_basepath}\"\n98:    )\n99:    \n100:    gen_df = pd.read_json(\n(384 more lines below)\nFile updated. Please review the changes and make sure they are correct (correct indentation, no duplicate lines, etc). Edit the file again if necessary.\n"
      ]
     },
     "execution_count": null,
     "metadata": {},
     "output_type": "execute_result"
    }
   ],
   "source": [
    "edit 23:24\n",
    "from .evalconfig import EvaluationConfig\n",
    "from .sandbox import run_code_on_inputs\n",
    "end_of_edit"
   ]
  },
  {
   "cell_type": "markdown",
   "id": "0ecc2f83",
   "metadata": {},
   "source": [
    "### Step 29"
   ]
  },
  {
   "cell_type": "markdown",
   "id": "46e98c40",
   "metadata": {},
   "source": [
    "Execution Start time: 18:39:16, End time: 18:39:16 (duration: 0 seconds)"
   ]
  },
  {
   "cell_type": "markdown",
   "id": "cbbb2fe4",
   "metadata": {},
   "source": [
    "**Thought**: The import statements have been updated to use relative imports. Now, I will attempt to run the evaluation script again.\n",
    "\n"
   ]
  },
  {
   "cell_type": "markdown",
   "id": "aac06e4b",
   "metadata": {},
   "source": [
    "**Action (None)**:"
   ]
  },
  {
   "cell_type": "code",
   "execution_count": null,
   "id": "a2de0e91",
   "metadata": {},
   "outputs": [
    {
     "data": {
      "text/plain": [
       "Traceback (most recent call last):\n  File \"/content/pie-perf/src/codenet_eval/run_eval.py\", line 23, in <module>\n    from .evalconfig import EvaluationConfig\nImportError: attempted relative import with no known parent package\n"
      ]
     },
     "execution_count": null,
     "metadata": {},
     "output_type": "execute_result"
    }
   ],
   "source": [
    "!python codenet_eval/run_eval.py --config ../data/my_data/eval_config.yaml"
   ]
  },
  {
   "cell_type": "markdown",
   "id": "00dabd14",
   "metadata": {},
   "source": [
    "### Step 30"
   ]
  },
  {
   "cell_type": "markdown",
   "id": "ca021296",
   "metadata": {},
   "source": [
    "Execution Start time: 18:39:18, End time: 18:39:18 (duration: 0 seconds)"
   ]
  },
  {
   "cell_type": "markdown",
   "id": "cded34c3",
   "metadata": {},
   "source": [
    "**Thought**: The error indicates that the relative import is not working because the script is not being executed as part of a package. I will revert the changes and instead modify the `PYTHONPATH` to include the parent directory of `src` and try running the script again.\n",
    "\n"
   ]
  },
  {
   "cell_type": "markdown",
   "id": "aaeb9cef",
   "metadata": {},
   "source": [
    "**Action (edit)**:"
   ]
  },
  {
   "cell_type": "code",
   "execution_count": null,
   "id": "f0736ae4",
   "metadata": {},
   "outputs": [
    {
     "data": {
      "text/plain": [
       "[File: /content/pie-perf/src/codenet_eval/run_eval.py (484 lines total)]\n1:\"\"\"\n2:Runs evaluation on the model generated outputs. The rough flow is as follows:\n3:\n4:1. Reads the inputs and model generated programs, writes them to a temporary directory.\n5:2. Runs each program several times and computes the average time taken and accuracy.\n6:3. Writes the results to a json file.\n7:\n8:Sample usage:\n9:export REF_FILE=\"data/codenet/splits/problem_id/2023-01-13_12-56pm/seq2seq_splits/test.jsonl\" && export OP=\"/usr1/amadaan/learning2perf/data/outputs/beam_outputs_codegen_2b_jan_13_split.jsonl\" && export CPU=30 && nohup python -u src/codenet_eval/run_eval.py  --model_generated_outputs_path ${OP} --reference_file_path ${REF_FILE} --output_report_file_path ${OP}.25_tries.report --slow_code_col input --model_generated_potentially_faster_code_col beam_generated_target_from_input --reference_code_col target --num_problems_to_evaluate -1 --cpu_number $CPU --max_time_per_run 10 --num_trials 25 --ignore_first_k 2\n10:\n11:\"\"\"\n12:import pathlib\n13:import tempfile\n14:from tqdm import tqdm\n15:import pandas as pd\n16:from typing import Dict, List, Tuple\n17:import os\n18:import logging\n19:import glob\n20:import numpy as np\n21:from collections import defaultdict\n22:\n23:from src.codenet_eval.evalconfig import EvaluationConfig\n24:from src.codenet_eval.sandbox import run_code_on_inputs\n25:\n26:import pdb\n27:\n28:logging.basicConfig(level=logging.CRITICAL)\n29:\n30:lang2file_ending = {\n31:    \"python\": \"py\", \n32:    \"cpp\": \"cpp\"\n33:}\n34:    \n35:\n36:\n37:    \n38:\n39:def evaluate_generated_outputs(cfg: EvaluationConfig) -> None:\n40:    \"\"\"Evaluates model generated programs for accuracy and runtime. See the documenation of the EvaluationConfig class for more details.\"\"\"\n41:\n42:    # Step 0\n43:    merged = read_inputs_and_prepare(cfg)\n44:    logging.info(f\"Number of programs to evaluate: {len(merged)}\")\n45:    logging.info(f\"Number of trials per program: {cfg.num_trials}\")\n46:    logging.info(f\"Number of trials to ignore: {cfg.ignore_first_k}\")\n47:    logging.info(f\"Maximum time per run: {cfg.max_time_per_run}\")\n48:    logging.info(f\"Input column: {cfg.slow_code_col}\")\n49:    logging.info(f\"Reference column: {cfg.reference_code_col}\")\n50:    logging.info(f\"Model generated column: {cfg.model_generated_potentially_faster_code_col}\")\n51:    logging.info(f\"inputs/outputs basepath: {cfg.inputs_outputs_basepath}\")\n52:\n53:    # Step 1: Write the inputs and model generated programs to a temporary directory\n54:    problem_id_to_ground_truths, output_code_location = write_programs_read_ground_truth(\n55:        cfg, merged\n56:    )\n57:\n58:    # Step 2: run the programs\n59:    \n60:    # (dataframe col, suffix for the file)\n61:    \n62:    lang_file_ending = lang2file_ending[cfg.language]\n63:    tag_to_path = [\n64:        (\"input\", f\"_slow.{lang_file_ending}\"),\n65:        (\"reference\", f\"_reference.{lang_file_ending}\"),\n66:    ]\n67:    \n68:    # check if there are multiple generations per input\n69:    is_multigen = isinstance(merged[cfg.model_generated_potentially_faster_code_col].iloc[0], list)\n70:    if is_multigen:\n71:        \n72:        num_generations = len(merged[cfg.model_generated_potentially_faster_code_col].iloc[0])\n73:        tag_to_path.extend([(f\"{cfg.model_generated_potentially_faster_code_col}_{i}\", f\"_maybe_faster_{i}.{lang_file_ending}\") for i in range(num_generations)])\n74:\n75:    else:\n76:        tag_to_path.append((cfg.model_generated_potentially_faster_code_col, f\"_maybe_faster_0.{lang_file_ending}\"))\n77:    \n78:    results = run_programs(cfg, merged, problem_id_to_ground_truths, output_code_location, tag_to_path)\n79:    \n80:    if is_multigen:\n81:        results = get_best_generation_per_submission(results, gen_col=cfg.model_generated_potentially_faster_code_col)\n82:    \n83:    # Step 3: summarize the results, write report\n84:    print_summary(cfg, merged, results, gen_col=cfg.model_generated_potentially_faster_code_col)\n85:\n86:    if isinstance(cfg.temp_dir, tempfile.TemporaryDirectory):\n87:        cfg.temp_dir.cleanup()\n88:        \n89:\n90:\n91:def read_inputs_and_prepare(cfg) -> pd.DataFrame:\n92:    \"\"\"Reads the model generated output, the reference, joins them, and returns a dataframe with the merged data.\"\"\"\n93:    logging.info(f\"Reading reference file from {cfg.reference_file_path}\")\n94:    logging.info(f\"Reading model generated outputs from {cfg.model_generated_outputs_path}\")\n95:\n96:    logging.info(\n97:        f\"Running each program {cfg.num_trials} times, skipping the first {cfg.ignore_first_k} runs, and getting the input-output pairs from {cfg.inputs_outputs_basepath}\"\n98:    )\n99:    \n100:    gen_df = pd.read_json(\n(384 more lines below)\nFile updated. Please review the changes and make sure they are correct (correct indentation, no duplicate lines, etc). Edit the file again if necessary.\n"
      ]
     },
     "execution_count": null,
     "metadata": {},
     "output_type": "execute_result"
    }
   ],
   "source": [
    "edit 23:24\n",
    "from src.codenet_eval.evalconfig import EvaluationConfig\n",
    "from src.codenet_eval.sandbox import run_code_on_inputs\n",
    "end_of_edit"
   ]
  },
  {
   "cell_type": "markdown",
   "id": "e6773309",
   "metadata": {},
   "source": [
    "### Step 31"
   ]
  },
  {
   "cell_type": "markdown",
   "id": "ee2da37d",
   "metadata": {},
   "source": [
    "Execution Start time: 18:39:20, End time: 18:39:21 (duration: 0 seconds)"
   ]
  },
  {
   "cell_type": "markdown",
   "id": "f270ec02",
   "metadata": {},
   "source": [
    "**Thought**: Now that the import statements have been reverted to their original form, I will adjust the `PYTHONPATH` to include the parent directory of `src` and attempt to run the script again.\n",
    "\n"
   ]
  },
  {
   "cell_type": "markdown",
   "id": "555bc44e",
   "metadata": {},
   "source": [
    "**Action (None)**:"
   ]
  },
  {
   "cell_type": "code",
   "execution_count": null,
   "id": "9a7573a2",
   "metadata": {},
   "outputs": [
    {
     "data": {
      "text/plain": [
       "/content/pie-perf\n/usr/local/lib/python3.10/site-packages/IPython/core/magics/osm.py:417: UserWarning: This is now an optional IPython functionality, setting dhist requires you to install the `pickleshare` library.\n  self.shell.db['dhist'] = compress_dhist(dhist)[-100:]\nusage: run_eval.py [-h] [--reference_file_path REFERENCE_FILE_PATH]\n                   [--model_generated_outputs_path MODEL_GENERATED_OUTPUTS_PATH]\n                   [--language LANGUAGE]\n                   [--model_generated_output_col MODEL_GENERATED_OUTPUT_COL]\n                   [--model_generated_potentially_faster_code_col MODEL_GENERATED_POTENTIALLY_FASTER_CODE_COL]\n                   [--output_report_file_path OUTPUT_REPORT_FILE_PATH]\n                   [--cpp_results_path CPP_RESULTS_PATH]\n                   [--reference_code_col REFERENCE_CODE_COL]\n                   [--slow_code_col SLOW_CODE_COL] [--num_trials NUM_TRIALS]\n                   [--ignore_first_k IGNORE_FIRST_K]\n                   [--inputs_outputs_basepath INPUTS_OUTPUTS_BASEPATH]\n                   [--max_time_per_run MAX_TIME_PER_RUN]\n                   [--num_problems_to_evaluate NUM_PROBLEMS_TO_EVALUATE]\n                   [--temp_dir TEMP_DIR] [--cflags CFLAGS] [--is_prompt_based]\n                   [--cpu_number CPU_NUMBER]\n                   [--return_if_acc_below RETURN_IF_ACC_BELOW]\n                   [--eval_config EVAL_CONFIG]\nrun_eval.py: error: unrecognized arguments: --config data/my_data/eval_config.yaml\n"
      ]
     },
     "execution_count": null,
     "metadata": {},
     "output_type": "execute_result"
    }
   ],
   "source": [
    "%cd ..\n",
    "!PYTHONPATH=. python src/codenet_eval/run_eval.py --config data/my_data/eval_config.yaml"
   ]
  },
  {
   "cell_type": "markdown",
   "id": "7b95e251",
   "metadata": {},
   "source": [
    "### Step 32"
   ]
  },
  {
   "cell_type": "markdown",
   "id": "ad77e522",
   "metadata": {},
   "source": [
    "Execution Start time: 18:39:24, End time: 18:39:25 (duration: 0 seconds)"
   ]
  },
  {
   "cell_type": "markdown",
   "id": "37c963f1",
   "metadata": {},
   "source": [
    "**Thought**: The error indicates that the `--config` argument is not recognized. It seems that the script expects individual configuration parameters rather than a configuration file. I will pass the configuration parameters directly as command-line arguments.\n",
    "\n"
   ]
  },
  {
   "cell_type": "markdown",
   "id": "e5816102",
   "metadata": {},
   "source": [
    "**Action (None)**:"
   ]
  },
  {
   "cell_type": "code",
   "execution_count": null,
   "id": "fd5d898a",
   "metadata": {},
   "outputs": [
    {
     "data": {
      "text/plain": [
       "usage: run_eval.py [-h] [--reference_file_path REFERENCE_FILE_PATH]\n                   [--model_generated_outputs_path MODEL_GENERATED_OUTPUTS_PATH]\n                   [--language LANGUAGE]\n                   [--model_generated_output_col MODEL_GENERATED_OUTPUT_COL]\n                   [--model_generated_potentially_faster_code_col MODEL_GENERATED_POTENTIALLY_FASTER_CODE_COL]\n                   [--output_report_file_path OUTPUT_REPORT_FILE_PATH]\n                   [--cpp_results_path CPP_RESULTS_PATH]\n                   [--reference_code_col REFERENCE_CODE_COL]\n                   [--slow_code_col SLOW_CODE_COL] [--num_trials NUM_TRIALS]\n                   [--ignore_first_k IGNORE_FIRST_K]\n                   [--inputs_outputs_basepath INPUTS_OUTPUTS_BASEPATH]\n                   [--max_time_per_run MAX_TIME_PER_RUN]\n                   [--num_problems_to_evaluate NUM_PROBLEMS_TO_EVALUATE]\n                   [--temp_dir TEMP_DIR] [--cflags CFLAGS] [--is_prompt_based]\n                   [--cpu_number CPU_NUMBER]\n                   [--return_if_acc_below RETURN_IF_ACC_BELOW]\n                   [--eval_config EVAL_CONFIG]\nrun_eval.py: error: unrecognized arguments: False\n"
      ]
     },
     "execution_count": null,
     "metadata": {},
     "output_type": "execute_result"
    }
   ],
   "source": [
    "!PYTHONPATH=. python src/codenet_eval/run_eval.py \\\n",
    "    --model_generated_outputs_path data/my_data/generations.jsonl \\\n",
    "    --inputs_outputs_basepath data/my_data/test_cases \\\n",
    "    --reference_file_path data/my_data/references.jsonl \\\n",
    "    --output_report_file_path data/my_data/generations.jsonl.report \\\n",
    "    --num_problems_to_evaluate 10 \\\n",
    "    --num_trials 2 \\\n",
    "    --ignore_first_k 0 \\\n",
    "    --max_time_per_run 10 \\\n",
    "    --model_generated_potentially_faster_code_col improved_code \\\n",
    "    --slow_code_col input \\\n",
    "    --reference_code_col improved_code \\\n",
    "    --is_prompt_based False \\\n",
    "    --cpu_number 0 \\\n",
    "    --return_if_acc_below 1.0 \\\n",
    "    --language cpp \\\n",
    "    --cflags \"\""
   ]
  },
  {
   "cell_type": "markdown",
   "id": "695fe5d9",
   "metadata": {},
   "source": [
    "### Step 33"
   ]
  },
  {
   "cell_type": "markdown",
   "id": "68531cb7",
   "metadata": {},
   "source": [
    "Execution Start time: 18:39:29, End time: 18:42:20 (duration: 171 seconds)"
   ]
  },
  {
   "cell_type": "markdown",
   "id": "840b0d08",
   "metadata": {},
   "source": [
    "**Thought**: The error indicates that the `--is_prompt_based` argument is not being recognized correctly. It seems that the script expects a different format for boolean arguments. I will remove the `--is_prompt_based` argument since it might not be necessary for this evaluation.\n",
    "\n",
    "Let's run the script again without the `--is_prompt_based` argument.\n",
    "\n"
   ]
  },
  {
   "cell_type": "markdown",
   "id": "75093390",
   "metadata": {},
   "source": [
    "**Action (None)**:"
   ]
  },
  {
   "cell_type": "code",
   "execution_count": null,
   "id": "22abf8f8",
   "metadata": {},
   "outputs": [
    {
     "data": {
      "text/plain": [
       "\nwriting programs:   0%|                                  | 0/10 [00:00<?, ?it/s]\nwriting programs: 100%|███████████████████████| 10/10 [00:00<00:00, 1870.12it/s]\n\nrunning programs:   0%|                                  | 0/10 [00:00<?, ?it/s]\nrunning programs:  10%|██▌                       | 1/10 [00:11<01:46, 11.89s/it]\nrunning programs:  20%|█████▏                    | 2/10 [00:23<01:31, 11.48s/it]\nrunning programs:  30%|███████▊                  | 3/10 [00:33<01:17, 11.04s/it]\nrunning programs:  40%|██████████▍               | 4/10 [00:41<00:59,  9.99s/it]\nrunning programs:  50%|█████████████             | 5/10 [00:47<00:41,  8.23s/it]\nrunning programs:  60%|███████████████▌          | 6/10 [00:51<00:27,  6.80s/it]\nrunning programs:  70%|██████████████████▏       | 7/10 [01:23<00:45, 15.13s/it]\nrunning programs:  80%|████████████████████▊     | 8/10 [01:53<00:39, 19.98s/it]\nrunning programs:  90%|███████████████████████▍  | 9/10 [02:22<00:22, 22.74s/it]\nrunning programs: 100%|█████████████████████████| 10/10 [02:51<00:00, 24.57s/it]\nrunning programs: 100%|█████████████████████████| 10/10 [02:51<00:00, 17.12s/it]\n\n  0%|                                                    | 0/10 [00:00<?, ?it/s]\n100%|█████████████████████████████████████████| 10/10 [00:00<00:00, 8142.70it/s]\n"
      ]
     },
     "execution_count": null,
     "metadata": {},
     "output_type": "execute_result"
    }
   ],
   "source": [
    "!PYTHONPATH=. python src/codenet_eval/run_eval.py \\\n",
    "    --model_generated_outputs_path data/my_data/generations.jsonl \\\n",
    "    --inputs_outputs_basepath data/my_data/test_cases \\\n",
    "    --reference_file_path data/my_data/references.jsonl \\\n",
    "    --output_report_file_path data/my_data/generations.jsonl.report \\\n",
    "    --num_problems_to_evaluate 10 \\\n",
    "    --num_trials 2 \\\n",
    "    --ignore_first_k 0 \\\n",
    "    --max_time_per_run 10 \\\n",
    "    --model_generated_potentially_faster_code_col improved_code \\\n",
    "    --slow_code_col input \\\n",
    "    --reference_code_col improved_code \\\n",
    "    --cpu_number 0 \\\n",
    "    --return_if_acc_below 1.0 \\\n",
    "    --language cpp \\\n",
    "    --cflags \"\""
   ]
  },
  {
   "cell_type": "markdown",
   "id": "5a2cf8c3",
   "metadata": {},
   "source": [
    "### Step 34"
   ]
  },
  {
   "cell_type": "markdown",
   "id": "0dd1f885",
   "metadata": {},
   "source": [
    "Execution Start time: 18:42:23, End time: 18:42:49 (duration: 25 seconds)"
   ]
  },
  {
   "cell_type": "markdown",
   "id": "323f09d0",
   "metadata": {},
   "source": [
    "**Thought**: The evaluation script has completed running. Now, I will check the output report file to extract the required metrics for each problem.\n",
    "\n",
    "Let's open the report file and examine its contents.\n",
    "\n"
   ]
  },
  {
   "cell_type": "markdown",
   "id": "5f153a3e",
   "metadata": {},
   "source": [
    "**Action (open)**:"
   ]
  },
  {
   "cell_type": "code",
   "execution_count": null,
   "id": "9ee87e42",
   "metadata": {},
   "outputs": [
    {
     "data": {
      "text/plain": [
       "[File: /content/pie-perf/data/my_data/generations.jsonl.report (10 lines total)]\n1:{\"input\":\"#include<bits\\/stdc++.h>\\n\\n\\n\\n#define REP(i,s,n) for(int i=s;i<n;i++)\\n\\n#define rep(i,n) REP(i,0,n)\\n\\n\\n\\nusing namespace std;\\n\\n\\n\\nconst int IINF = INT_MAX;\\n\\n\\n\\nint H,W,mini,field[10][10],prev[10][10],mindist[10][10],nfield[10][10],mindist2[10][10],m1[10][10],m2[10][10];\\n\\nvector<int> sp[2];\\n\\nbool visited[10][10];\\n\\nint dx[] = {0,1,0,-1};\\n\\nint dy[] = {1,0,-1,0};\\n\\nbool X[10], Y[10];\\n\\n\\n\\nbool isValid(int x,int y) { return 0 <= x && x < W && 0 <= y && y < H; }\\n\\n\\n\\nvoid simulate_min(int dist[10][10],int f[10][10],int s){\\n\\n  rep(i,H) rep(j,W) dist[i][j] = IINF;\\n\\n  dist[s\\/W][s%W] = 0;\\n\\n  deque<int> deq;\\n\\n  deq.push_back(s);\\n\\n  while( !deq.empty() ){\\n\\n    int cur = deq.front(); deq.pop_front();\\n\\n    int x = cur % W, y = cur \\/ W;\\n\\n    rep(i,4){\\n\\n      int nx = x + dx[i], ny = y + dy[i];\\n\\n      if( !isValid(nx,ny) ) continue;\\n\\n      if( f[ny][nx] != 0 && f[ny][nx] != f[s\\/W][s%W] ) continue;\\n\\n      if( dist[ny][nx] == IINF ) {\\n\\n        dist[ny][nx] = dist[y][x] + 1;\\n\\n        deq.push_back(nx+ny*W);\\n\\n      }\\n\\n    }\\n\\n  }\\n\\n}\\n\\n\\n\\n\\n\\nvoid dfs(int x,int y,int cost,int f[10][10],int ep,deque<int> &path,int F,int S,int prev){\\n\\n\\n\\n  if( x + y * W == ep ) {\\n\\n    rep(i,H) rep(j,W) nfield[i][j] = field[i][j];\\n\\n    rep(i,path.size()) nfield[path[i]\\/W][path[i]%W] = 1;\\n\\n    simulate_min(mindist2,nfield,sp[S][0]);\\n\\n    if( mindist2[sp[S][1]\\/W][sp[S][1]%W] == IINF ) return;\\n\\n    mini = min(mini,(int)path.size()-1+mindist2[sp[S][1]\\/W][sp[S][1]%W]);\\n\\n    return;\\n\\n  }\\n\\n  if( cost >= mini ) return;\\n\\n  if( m2[sp[S][1]\\/W][sp[S][1]%W] + cost >= mini ) return;\\n\\n\\n\\n  int cnt = 0;\\n\\n  rep(i,4) {\\n\\n    int nx = x + dx[i], ny = y + dy[i];\\n\\n    if( !isValid(nx,ny) ) continue;\\n\\n    cnt += visited[ny][nx];\\n\\n }\\n\\n  if( cnt >= 2 ) return;\\n\\n\\n\\n  {\\n\\n    rep(i,4){\\n\\n      int nx = x, ny = y;\\n\\n      nx += dx[i], ny += dy[i];\\n\\n      if( !isValid(nx,ny) ) continue;\\n\\n      if( f[ny][nx] != 0 && f[ny][nx] != f[ep\\/W][ep%W] ) continue;\\n\\n      if( visited[ny][nx] ) continue;\\n\\n      while(1){\\n\\n        nx += dx[i], ny += dy[i];\\n\\n        if( !isValid(nx,ny) ) break;\\n\\n        if( f[ny][nx] != 0 && f[ny][nx] != f[ep\\/W][ep%W] ) break;\\n\\n        if( X[nx] || Y[ny] ) break;\\n\\n        if( visited[ny][nx] ) return;\\n\\n      }\\n\\n    }\\n\\n  }\\n\\n\\n\\n\\n\\n  rep(i,4) {\\n\\n    if( i == (prev+2) % 4 ) continue;\\n\\n    int nx = x + dx[i], ny = y + dy[i];\\n\\n    if( !isValid(nx,ny) ) continue;\\n\\n    if( f[ny][nx] != 0 && f[ny][nx] != f[ep\\/W][ep%W] ) continue;\\n\\n    if( visited[ny][nx] ) continue;\\n\\n    visited[ny][nx] = true;\\n\\n    path.push_back(nx+ny*W);\\n\\n    dfs(nx,ny,cost+1,f,ep,path,F,S,i);\\n\\n    path.pop_back();\\n\\n    visited[ny][nx] = false;\\n\\n  }\\n\\n\\n\\n\\n\\n}\\n\\n\\n\\nint compute(int F,int S){\\n\\n  rep(i,H) rep(j,W) visited[i][j] = false;\\n\\n  deque<int> path;\\n\\n  path.push_back(sp[F][0]);\\n\\n  visited[sp[F][0]\\/W][sp[F][0]%W] = true;\\n\\n  simulate_min(m1,field,sp[F][0]);\\n\\n  simulate_min(m2,field,sp[S][0]);\\n\\n  dfs(sp[F][0]%W,sp[F][0]\\/W,0,field,sp[F][1],path,F,S,-IINF);\\n\\n}\\n\\n\\n\\nint main(){\\n\\n  while( cin >> H >> W, H|W ){\\n\\n    rep(i,2) sp[i].clear();\\n\\n    rep(i,10) X[i] = Y[i] = false;\\n\\n    rep(i,H) rep(j,W) {\\n\\n      cin >> field[i][j];\\n\\n      if( field[i][j] == 1 ) X[j] = true, Y[i] = true;\\n\\n      if( field[i][j] == 2 ) sp[0].push_back(j+i*W), X[j] = Y[i] = true;\\n\\n      if( field[i][j] == 3 ) sp[1].push_back(j+i*W), X[j] = Y[i] = true;\\n\\n    }\\n\\n    mini = IINF;\\n\\n\\n\\n    compute(0,1);\\n\\n    if( mini == IINF ) puts(\\\"0\\\");\\n\\n    else cout << mini << endl;\\n\\n  }\\n\\n  return 0;\\n\\n}\",\"improved_code\":\"#include<bits\\/stdc++.h>\\n\\n\\n\\n#define REP(i,s,n) for(int i=s;i<n;i++)\\n\\n#define rep(i,n) REP(i,0,n)\\n\\n\\n\\nusing namespace std;\\n\\n\\n\\nconst int IINF = INT_MAX;\\n\\n\\n\\nint H,W,mini,field[10][10],prev[10][10],mindist[10][10],nfield[10][10],mindist2[10][10],m1[10][10],m2[10][10];\\n\\nvector<int> sp[2];\\n\\nbool visited[10][10];\\n\\nint dx[] = {0,1,0,-1};\\n\\nint dy[] = {1,0,-1,0};\\n\\nbool X[10], Y[10];\\n\\n\\n\\nbool isValid(int x,int y) { return 0 <= x && x < W && 0 <= y && y < H; }\\n\\n\\n\\nvoid simulate_min(int dist[10][10],int f[10][10],int s){\\n\\n  rep(i,H) rep(j,W) dist[i][j] = IINF;\\n\\n  dist[s\\/W][s%W] = 0;\\n\\n  deque<int> deq;\\n\\n  deq.push_back(s);\\n\\n  while( !deq.empty() ){\\n\\n    int cur = deq.front(); deq.pop_front();\\n\\n    int x = cur % W, y = cur \\/ W;\\n\\n    rep(i,4){\\n\\n      int nx = x + dx[i], ny = y + dy[i];\\n\\n      if( !isValid(nx,ny) ) continue;\\n\\n      if( f[ny][nx] != 0 && f[ny][nx] != f[s\\/W][s%W] ) continue;\\n\\n      if( dist[ny][nx] == IINF ) {\\n\\n        dist[ny][nx] = dist[y][x] + 1;\\n\\n        deq.push_back(nx+ny*W);\\n\\n      }\\n\\n    }\\n\\n  }\\n\\n}\\n\\n\\n\\n\\n\\nvoid dfs(int x,int y,int cost,int f[10][10],int ep,deque<int> &path,int F,int S,int prev){\\n\\n\\n\\n  if( cost >= mini ) return;\\n\\n  if( m2[sp[S][1]\\/W][sp[S][1]%W] + cost >= mini ) return;\\n\\n\\n\\n\\n\\n\\n\\n\\n\\n\\n\\n  if( x + y * W == ep ) {\\n\\n    rep(i,H) rep(j,W) nfield[i][j] = field[i][j];\\n\\n    rep(i,path.size()) nfield[path[i]\\/W][path[i]%W] = 1;\\n\\n    simulate_min(mindist2,nfield,sp[S][0]);\\n\\n    if( mindist2[sp[S][1]\\/W][sp[S][1]%W] == IINF ) return;\\n\\n    mini = min(mini,(int)path.size()-1+mindist2[sp[S][1]\\/W][sp[S][1]%W]);\\n\\n    return;\\n\\n  }\\n\\n  int cnt = 0;\\n\\n  rep(i,4) {\\n\\n    int nx = x + dx[i], ny = y + dy[i];\\n\\n    if( !isValid(nx,ny) ) continue;\\n\\n    cnt += visited[ny][nx];\\n\\n }\\n\\n  if( cnt >= 2 ) return;\\n\\n\\n\\n\\n\\n  {\\n\\n    rep(i,4){\\n\\n      int nx = x, ny = y;\\n\\n      nx += dx[i], ny += dy[i];\\n\\n      if( !isValid(nx,ny) ) continue;\\n\\n      if( f[ny][nx] != 0 && f[ny][nx] != f[ep\\/W][ep%W] ) continue;\\n\\n      if( visited[ny][nx] ) continue;\\n\\n      while(1){\\n\\n        nx += dx[i], ny += dy[i];\\n\\n        if( !isValid(nx,ny) ) break;\\n\\n        if( f[ny][nx] != 0 && f[ny][nx] != f[ep\\/W][ep%W] ) break;\\n\\n        if( X[nx] || Y[ny] ) break;\\n\\n        if( visited[ny][nx] ) return;\\n\\n      }\\n\\n    }\\n\\n  }\\n\\n\\n\\n\\n\\n  rep(i,4) {\\n\\n    if( i == (prev+2) % 4 ) continue;\\n\\n    int nx = x + dx[i], ny = y + dy[i];\\n\\n    if( !isValid(nx,ny) ) continue;\\n\\n    if( f[ny][nx] != 0 && f[ny][nx] != f[ep\\/W][ep%W] ) continue;\\n\\n    if( visited[ny][nx] ) continue;\\n\\n    visited[ny][nx] = true;\\n\\n    path.push_back(nx+ny*W);\\n\\n    dfs(nx,ny,cost+1,f,ep,path,F,S,i);\\n\\n    path.pop_back();\\n\\n    visited[ny][nx] = false;\\n\\n  }\\n\\n\\n\\n\\n\\n}\\n\\n\\n\\nint compute(int F,int S){\\n\\n  rep(i,H) rep(j,W) visited[i][j] = false;\\n\\n  deque<int> path;\\n\\n  path.push_back(sp[F][0]);\\n\\n  visited[sp[F][0]\\/W][sp[F][0]%W] = true;\\n\\n  simulate_min(m1,field,sp[F][0]);\\n\\n  simulate_min(m2,field,sp[S][0]);\\n\\n  dfs(sp[F][0]%W,sp[F][0]\\/W,0,field,sp[F][1],path,F,S,-IINF);\\n\\n}\\n\\n\\n\\nint main(){\\n\\n  while( cin >> H >> W, H|W ){\\n\\n    rep(i,2) sp[i].clear();\\n\\n    rep(i,10) X[i] = Y[i] = false;\\n\\n    rep(i,H) rep(j,W) {\\n\\n      cin >> field[i][j];\\n\\n      if( field[i][j] == 1 ) X[j] = true, Y[i] = true;\\n\\n      if( field[i][j] == 2 ) sp[0].push_back(j+i*W), X[j] = Y[i] = true;\\n\\n      if( field[i][j] == 3 ) sp[1].push_back(j+i*W), X[j] = Y[i] = true;\\n\\n    }\\n\\n    mini = IINF;\\n\\n\\n\\n    compute(0,1);\\n\\n    if( mini == IINF ) puts(\\\"0\\\");\\n\\n    else cout << mini << endl;\\n\\n  }\\n\\n  return 0;\\n\\n}\",\"slower_program\":\"#include<bits\\/stdc++.h>\\n\\n\\n\\n#define REP(i,s,n) for(int i=s;i<n;i++)\\n\\n#define rep(i,n) REP(i,0,n)\\n\\n\\n\\nusing namespace std;\\n\\n\\n\\nconst int IINF = INT_MAX;\\n\\n\\n\\nint H,W,mini,field[10][10],prev[10][10],mindist[10][10],nfield[10][10],mindist2[10][10],m1[10][10],m2[10][10];\\n\\nvector<int> sp[2];\\n\\nbool visited[10][10];\\n\\nint dx[] = {0,1,0,-1};\\n\\nint dy[] = {1,0,-1,0};\\n\\nbool X[10], Y[10];\\n\\n\\n\\nbool isValid(int x,int y) { return 0 <= x && x < W && 0 <= y && y < H; }\\n\\n\\n\\nvoid simulate_min(int dist[10][10],int f[10][10],int s){\\n\\n  rep(i,H) rep(j,W) dist[i][j] = IINF;\\n\\n  dist[s\\/W][s%W] = 0;\\n\\n  deque<int> deq;\\n\\n  deq.push_back(s);\\n\\n  while( !deq.empty() ){\\n\\n    int cur = deq.front(); deq.pop_front();\\n\\n    int x = cur % W, y = cur \\/ W;\\n\\n    rep(i,4){\\n\\n      int nx = x + dx[i], ny = y + dy[i];\\n\\n      if( !isValid(nx,ny) ) continue;\\n\\n      if( f[ny][nx] != 0 && f[ny][nx] != f[s\\/W][s%W] ) continue;\\n\\n      if( dist[ny][nx] == IINF ) {\\n\\n        dist[ny][nx] = dist[y][x] + 1;\\n\\n        deq.push_back(nx+ny*W);\\n\\n      }\\n\\n    }\\n\\n  }\\n\\n}\\nvoid dfs(int x,int y,int cost,int f[10][10],int ep,deque<int> &path,int F,int S,int prev){\\n\\n\\n\\n  if( x + y * W == ep ) {\\n\\n    rep(i,H) rep(j,W) nfield[i][j] = field[i][j];\\n\\n    rep(i,path.size()) nfield[path[i]\\/W][path[i]%W] = 1;\\n\\n    simulate_min(mindist2,nfield,sp[S][0]);\\n\\n    if( mindist2[sp[S][1]\\/W][sp[S][1]%W] == IINF ) return;\\n\\n    mini = min(mini,(int)path.size()-1+mindist2[sp[S][1]\\/W][sp[S][1]%W]);\\n\\n    return;\\n\\n  }\\n\\n  if( cost >= mini ) return;\\n\\n  if( m2[sp[S][1]\\/W][sp[S][1]%W] + cost >= mini ) return;\\n\\n\\n\\n  int cnt = 0;\\n\\n  rep(i,4) {\\n\\n    int nx = x + dx[i], ny = y + dy[i];\\n\\n    if( !isValid(nx,ny) ) continue;\\n\\n    cnt += visited[ny][nx];\\n\\n }\\n\\n  if( cnt >= 2 ) return;\\n\\n\\n\\n  {\\n\\n    rep(i,4){\\n\\n      int nx = x, ny = y;\\n\\n      nx += dx[i], ny += dy[i];\\n\\n      if( !isValid(nx,ny) ) continue;\\n\\n      if( f[ny][nx] != 0 && f[ny][nx] != f[ep\\/W][ep%W] ) continue;\\n\\n      if( visited[ny][nx] ) continue;\\n\\n      while(1){\\n\\n        nx += dx[i], ny += dy[i];\\n\\n        if( !isValid(nx,ny) ) break;\\n\\n        if( f[ny][nx] != 0 && f[ny][nx] != f[ep\\/W][ep%W] ) break;\\n\\n        if( X[nx] || Y[ny] ) break;\\n\\n        if( visited[ny][nx] ) return;\\n\\n      }\\n\\n    }\\n\\n  }\\n  rep(i,4) {\\n\\n    if( i == (prev+2) % 4 ) continue;\\n\\n    int nx = x + dx[i], ny = y + dy[i];\\n\\n    if( !isValid(nx,ny) ) continue;\\n\\n    if( f[ny][nx] != 0 && f[ny][nx] != f[ep\\/W][ep%W] ) continue;\\n\\n    if( visited[ny][nx] ) continue;\\n\\n    visited[ny][nx] = true;\\n\\n    path.push_back(nx+ny*W);\\n\\n    dfs(nx,ny,cost+1,f,ep,path,F,S,i);\\n\\n    path.pop_back();\\n\\n    visited[ny][nx] = false;\\n\\n  }\\n}\\n\\n\\n\\nint compute(int F,int S){\\n\\n  rep(i,H) rep(j,W) visited[i][j] = false;\\n\\n  deque<int> path;\\n\\n  path.push_back(sp[F][0]);\\n\\n  visited[sp[F][0]\\/W][sp[F][0]%W] = true;\\n\\n  simulate_min(m1,field,sp[F][0]);\\n\\n  simulate_min(m2,field,sp[S][0]);\\n\\n  dfs(sp[F][0]%W,sp[F][0]\\/W,0,field,sp[F][1],path,F,S,-IINF);\\n\\n}\\n\\n\\n\\nint main(){\\n\\n  while( cin >> H >> W, H|W ){\\n\\n    rep(i,2) sp[i].clear();\\n\\n    rep(i,10) X[i] = Y[i] = false;\\n\\n    rep(i,H) rep(j,W) {\\n\\n      cin >> field[i][j];\\n\\n      if( field[i][j] == 1 ) X[j] = true, Y[i] = true;\\n\\n      if( field[i][j] == 2 ) sp[0].push_back(j+i*W), X[j] = Y[i] = true;\\n\\n      if( field[i][j] == 3 ) sp[1].push_back(j+i*W), X[j] = Y[i] = true;\\n\\n    }\\n\\n    mini = IINF;\\n\\n\\n\\n    compute(0,1);\\n\\n    if( mini == IINF ) puts(\\\"0\\\");\\n\\n    else cout << mini << endl;\\n\\n  }\\n\\n  return 0;\\n\\n}\",\"input_ref\":\"#include<bits\\/stdc++.h>\\n\\n\\n\\n#define REP(i,s,n) for(int i=s;i<n;i++)\\n\\n#define rep(i,n) REP(i,0,n)\\n\\n\\n\\nusing namespace std;\\n\\n\\n\\nconst int IINF = INT_MAX;\\n\\n\\n\\nint H,W,mini,field[10][10],prev[10][10],mindist[10][10],nfield[10][10],mindist2[10][10],m1[10][10],m2[10][10];\\n\\nvector<int> sp[2];\\n\\nbool visited[10][10];\\n\\nint dx[] = {0,1,0,-1};\\n\\nint dy[] = {1,0,-1,0};\\n\\nbool X[10], Y[10];\\n\\n\\n\\nbool isValid(int x,int y) { return 0 <= x && x < W && 0 <= y && y < H; }\\n\\n\\n\\nvoid simulate_min(int dist[10][10],int f[10][10],int s){\\n\\n  rep(i,H) rep(j,W) dist[i][j] = IINF;\\n\\n  dist[s\\/W][s%W] = 0;\\n\\n  deque<int> deq;\\n\\n  deq.push_back(s);\\n\\n  while( !deq.empty() ){\\n\\n    int cur = deq.front(); deq.pop_front();\\n\\n    int x = cur % W, y = cur \\/ W;\\n\\n    rep(i,4){\\n\\n      int nx = x + dx[i], ny = y + dy[i];\\n\\n      if( !isValid(nx,ny) ) continue;\\n\\n      if( f[ny][nx] != 0 && f[ny][nx] != f[s\\/W][s%W] ) continue;\\n\\n      if( dist[ny][nx] == IINF ) {\\n\\n        dist[ny][nx] = dist[y][x] + 1;\\n\\n        deq.push_back(nx+ny*W);\\n\\n      }\\n\\n    }\\n\\n  }\\n\\n}\\n\\n\\n\\n\\n\\nvoid dfs(int x,int y,int cost,int f[10][10],int ep,deque<int> &path,int F,int S,int prev){\\n\\n\\n\\n  if( x + y * W == ep ) {\\n\\n    rep(i,H) rep(j,W) nfield[i][j] = field[i][j];\\n\\n    rep(i,path.size()) nfield[path[i]\\/W][path[i]%W] = 1;\\n\\n    simulate_min(mindist2,nfield,sp[S][0]);\\n\\n    if( mindist2[sp[S][1]\\/W][sp[S][1]%W] == IINF ) return;\\n\\n    mini = min(mini,(int)path.size()-1+mindist2[sp[S][1]\\/W][sp[S][1]%W]);\\n\\n    return;\\n\\n  }\\n\\n  if( cost >= mini ) return;\\n\\n  if( m2[sp[S][1]\\/W][sp[S][1]%W] + cost >= mini ) return;\\n\\n\\n\\n  int cnt = 0;\\n\\n  rep(i,4) {\\n\\n    int nx = x + dx[i], ny = y + dy[i];\\n\\n    if( !isValid(nx,ny) ) continue;\\n\\n    cnt += visited[ny][nx];\\n\\n }\\n\\n  if( cnt >= 2 ) return;\\n\\n\\n\\n  {\\n\\n    rep(i,4){\\n\\n      int nx = x, ny = y;\\n\\n      nx += dx[i], ny += dy[i];\\n\\n      if( !isValid(nx,ny) ) continue;\\n\\n      if( f[ny][nx] != 0 && f[ny][nx] != f[ep\\/W][ep%W] ) continue;\\n\\n      if( visited[ny][nx] ) continue;\\n\\n      while(1){\\n\\n        nx += dx[i], ny += dy[i];\\n\\n        if( !isValid(nx,ny) ) break;\\n\\n        if( f[ny][nx] != 0 && f[ny][nx] != f[ep\\/W][ep%W] ) break;\\n\\n        if( X[nx] || Y[ny] ) break;\\n\\n        if( visited[ny][nx] ) return;\\n\\n      }\\n\\n    }\\n\\n  }\\n\\n\\n\\n\\n\\n  rep(i,4) {\\n\\n    if( i == (prev+2) % 4 ) continue;\\n\\n    int nx = x + dx[i], ny = y + dy[i];\\n\\n    if( !isValid(nx,ny) ) continue;\\n\\n    if( f[ny][nx] != 0 && f[ny][nx] != f[ep\\/W][ep%W] ) continue;\\n\\n    if( visited[ny][nx] ) continue;\\n\\n    visited[ny][nx] = true;\\n\\n    path.push_back(nx+ny*W);\\n\\n    dfs(nx,ny,cost+1,f,ep,path,F,S,i);\\n\\n    path.pop_back();\\n\\n    visited[ny][nx] = false;\\n\\n  }\\n\\n\\n\\n\\n\\n}\\n\\n\\n\\nint compute(int F,int S){\\n\\n  rep(i,H) rep(j,W) visited[i][j] = false;\\n\\n  deque<int> path;\\n\\n  path.push_back(sp[F][0]);\\n\\n  visited[sp[F][0]\\/W][sp[F][0]%W] = true;\\n\\n  simulate_min(m1,field,sp[F][0]);\\n\\n  simulate_min(m2,field,sp[S][0]);\\n\\n  dfs(sp[F][0]%W,sp[F][0]\\/W,0,field,sp[F][1],path,F,S,-IINF);\\n\\n}\\n\\n\\n\\nint main(){\\n\\n  while( cin >> H >> W, H|W ){\\n\\n    rep(i,2) sp[i].clear();\\n\\n    rep(i,10) X[i] = Y[i] = false;\\n\\n    rep(i,H) rep(j,W) {\\n\\n      cin >> field[i][j];\\n\\n      if( field[i][j] == 1 ) X[j] = true, Y[i] = true;\\n\\n      if( field[i][j] == 2 ) sp[0].push_back(j+i*W), X[j] = Y[i] = true;\\n\\n      if( field[i][j] == 3 ) sp[1].push_back(j+i*W), X[j] = Y[i] = true;\\n\\n    }\\n\\n    mini = IINF;\\n\\n\\n\\n    compute(0,1);\\n\\n    if( mini == IINF ) puts(\\\"0\\\");\\n\\n    else cout << mini << endl;\\n\\n  }\\n\\n  return 0;\\n\\n}\",\"problem_id\":\"p00849\",\"submission_id_v0\":\"s0\",\"cpu_time_v0\":1,\"cpu_time_v1\":1,\"input_time_mean\":1370.351433754,\"input_time_std\":0.2309083939,\"input_acc\":1.0,\"reference_time_mean\":1331.6042423248,\"reference_time_std\":2.44140625,\"reference_acc\":1.0,\"improved_code_time_mean\":1331.1278820038,\"improved_code_time_std\":0.7240772247,\"improved_code_acc\":1.0}\n2:{\"input\":\"#include<bits\\/stdc++.h>\\n\\n\\n\\n#define REP(i,s,n) for(int i=s;i<n;i++)\\n\\n#define rep(i,n) REP(i,0,n)\\n\\n\\n\\nusing namespace std;\\n\\n\\n\\nconst int IINF = INT_MAX;\\n\\n\\n\\nint H,W,mini,field[10][10],prev[10][10],mindist[10][10],nfield[10][10],mindist2[10][10],m1[10][10],m2[10][10];\\n\\nvector<int> sp[2];\\n\\nbool visited[10][10];\\n\\nint dx[] = {0,1,0,-1};\\n\\nint dy[] = {1,0,-1,0};\\n\\nbool X[10], Y[10];\\n\\n\\n\\nbool isValid(int x,int y) { return 0 <= x && x < W && 0 <= y && y < H; }\\n\\n\\n\\nvoid simulate_min(int dist[10][10],int f[10][10],int s){\\n\\n  rep(i,H) rep(j,W) dist[i][j] = IINF;\\n\\n  dist[s\\/W][s%W] = 0;\\n\\n  deque<int> deq;\\n\\n  deq.push_back(s);\\n\\n  while( !deq.empty() ){\\n\\n    int cur = deq.front(); deq.pop_front();\\n\\n    int x = cur % W, y = cur \\/ W;\\n\\n    rep(i,4){\\n\\n      int nx = x + dx[i], ny = y + dy[i];\\n\\n      if( !isValid(nx,ny) ) continue;\\n\\n      if( f[ny][nx] != 0 && f[ny][nx] != f[s\\/W][s%W] ) continue;\\n\\n      if( dist[ny][nx] == IINF ) {\\n\\n        dist[ny][nx] = dist[y][x] + 1;\\n\\n        deq.push_back(nx+ny*W);\\n\\n      }\\n\\n    }\\n\\n  }\\n\\n}\\n\\n\\n\\n\\n\\nvoid dfs(int x,int y,int cost,int f[10][10],int ep,deque<int> &path,int F,int S,int prev){\\n\\n\\n\\n  if( cost >= mini ) return;\\n\\n  if( m2[sp[S][1]\\/W][sp[S][1]%W] + cost >= mini ) return;\\n\\n\\n\\n\\n\\n\\n\\n\\n\\n\\n\\n  if( x + y * W == ep ) {\\n\\n    rep(i,H) rep(j,W) nfield[i][j] = field[i][j];\\n\\n    rep(i,path.size()) nfield[path[i]\\/W][path[i]%W] = 1;\\n\\n    simulate_min(mindist2,nfield,sp[S][0]);\\n\\n    if( mindist2[sp[S][1]\\/W][sp[S][1]%W] == IINF ) return;\\n\\n    mini = min(mini,(int)path.size()-1+mindist2[sp[S][1]\\/W][sp[S][1]%W]);\\n\\n    return;\\n\\n  }\\n\\n  int cnt = 0;\\n\\n  rep(i,4) {\\n\\n    int nx = x + dx[i], ny = y + dy[i];\\n\\n    if( !isValid(nx,ny) ) continue;\\n\\n    cnt += visited[ny][nx];\\n\\n }\\n\\n  if( cnt >= 2 ) return;\\n\\n\\n\\n\\n\\n  {\\n\\n    rep(i,4){\\n\\n      int nx = x, ny = y;\\n\\n      nx += dx[i], ny += dy[i];\\n\\n      if( !isValid(nx,ny) ) continue;\\n\\n      if( f[ny][nx] != 0 && f[ny][nx] != f[ep\\/W][ep%W] ) continue;\\n\\n      if( visited[ny][nx] ) continue;\\n\\n      while(1){\\n\\n        nx += dx[i], ny += dy[i];\\n\\n        if( !isValid(nx,ny) ) break;\\n\\n        if( f[ny][nx] != 0 && f[ny][nx] != f[ep\\/W][ep%W] ) break;\\n\\n        if( X[nx] || Y[ny] ) break;\\n\\n        if( visited[ny][nx] ) return;\\n\\n      }\\n\\n    }\\n\\n  }\\n\\n\\n\\n\\n\\n  rep(i,4) {\\n\\n    if( i == (prev+2) % 4 ) continue;\\n\\n    int nx = x + dx[i], ny = y + dy[i];\\n\\n    if( !isValid(nx,ny) ) continue;\\n\\n    if( f[ny][nx] != 0 && f[ny][nx] != f[ep\\/W][ep%W] ) continue;\\n\\n    if( visited[ny][nx] ) continue;\\n\\n    visited[ny][nx] = true;\\n\\n    path.push_back(nx+ny*W);\\n\\n    dfs(nx,ny,cost+1,f,ep,path,F,S,i);\\n\\n    path.pop_back();\\n\\n    visited[ny][nx] = false;\\n\\n  }\\n\\n\\n\\n\\n\\n}\\n\\n\\n\\nint compute(int F,int S){\\n\\n  rep(i,H) rep(j,W) visited[i][j] = false;\\n\\n  deque<int> path;\\n\\n  path.push_back(sp[F][0]);\\n\\n  visited[sp[F][0]\\/W][sp[F][0]%W] = true;\\n\\n  simulate_min(m1,field,sp[F][0]);\\n\\n  simulate_min(m2,field,sp[S][0]);\\n\\n  dfs(sp[F][0]%W,sp[F][0]\\/W,0,field,sp[F][1],path,F,S,-IINF);\\n\\n}\\n\\n\\n\\nint main(){\\n\\n  while( cin >> H >> W, H|W ){\\n\\n    rep(i,2) sp[i].clear();\\n\\n    rep(i,10) X[i] = Y[i] = false;\\n\\n    rep(i,H) rep(j,W) {\\n\\n      cin >> field[i][j];\\n\\n      if( field[i][j] == 1 ) X[j] = true, Y[i] = true;\\n\\n      if( field[i][j] == 2 ) sp[0].push_back(j+i*W), X[j] = Y[i] = true;\\n\\n      if( field[i][j] == 3 ) sp[1].push_back(j+i*W), X[j] = Y[i] = true;\\n\\n    }\\n\\n    mini = IINF;\\n\\n\\n\\n    compute(0,1);\\n\\n    if( mini == IINF ) puts(\\\"0\\\");\\n\\n    else cout << mini << endl;\\n\\n  }\\n\\n  return 0;\\n\\n}\",\"improved_code\":\"#include<bits\\/stdc++.h>\\n\\n\\n\\n#define REP(i,s,n) for(int i=s;i<n;i++)\\n\\n#define rep(i,n) REP(i,0,n)\\n\\n\\n\\nusing namespace std;\\n\\n\\n\\nconst int IINF = INT_MAX;\\n\\n\\n\\nint H,W,mini,field[10][10],prev[10][10],mindist[10][10],nfield[10][10],mindist2[10][10],m1[10][10],m2[10][10];\\n\\nvector<int> sp[2];\\n\\nbool visited[10][10];\\n\\nint dx[] = {0,1,0,-1};\\n\\nint dy[] = {1,0,-1,0};\\n\\nbool X[10], Y[10];\\n\\n\\n\\nbool isValid(int x,int y) { return 0 <= x && x < W && 0 <= y && y < H; }\\n\\n\\n\\nvoid simulate_min(int dist[10][10],int f[10][10],int s){\\n\\n  rep(i,H) rep(j,W) dist[i][j] = IINF;\\n\\n  dist[s\\/W][s%W] = 0;\\n\\n  deque<int> deq;\\n\\n  deq.push_back(s);\\n\\n  while( !deq.empty() ){\\n\\n    int cur = deq.front(); deq.pop_front();\\n\\n    int x = cur % W, y = cur \\/ W;\\n\\n    if( x+y*W != s && f[y][x] == f[s\\/W][s%W] ) return;\\n\\n    rep(i,4){\\n\\n      int nx = x + dx[i], ny = y + dy[i];\\n\\n      if( !isValid(nx,ny) ) continue;\\n\\n      if( f[ny][nx] != 0 && f[ny][nx] != f[s\\/W][s%W] ) continue;\\n\\n      if( dist[ny][nx] == IINF ) {\\n\\n        dist[ny][nx] = dist[y][x] + 1;\\n\\n        deq.push_back(nx+ny*W);\\n\\n      }\\n\\n    }\\n\\n  }\\n\\n}\\n\\n\\n\\n\\n\\nvoid dfs(int x,int y,int cost,int f[10][10],int ep,deque<int> &path,int F,int S,int prev){\\n\\n\\n\\n  if( cost >= mini ) return;\\n\\n  if( m1[ep\\/W][ep%W] - m1[y][x] + m2[sp[S][1]\\/W][sp[S][1]%W] + cost >= mini ) return;\\n\\n\\n\\n\\n\\n  if( x + y * W == ep ) {\\n\\n    rep(i,H) rep(j,W) nfield[i][j] = field[i][j];\\n\\n    rep(i,path.size()) nfield[path[i]\\/W][path[i]%W] = 1;\\n\\n    simulate_min(mindist2,nfield,sp[S][0]);\\n\\n    if( mindist2[sp[S][1]\\/W][sp[S][1]%W] == IINF ) return;\\n\\n    mini = min(mini,(int)path.size()-1+mindist2[sp[S][1]\\/W][sp[S][1]%W]);\\n\\n    return;\\n\\n  }\\n\\n  int cnt = 0;\\n\\n  rep(i,4) {\\n\\n    int nx = x + dx[i], ny = y + dy[i];\\n\\n    if( !isValid(nx,ny) ) continue;\\n\\n    cnt += visited[ny][nx];\\n\\n }\\n\\n  if( cnt >= 2 ) return;\\n\\n\\n\\n\\n\\n  {\\n\\n    rep(i,4){\\n\\n      int nx = x, ny = y;\\n\\n      nx += dx[i], ny += dy[i];\\n\\n      if( !isValid(nx,ny) ) continue;\\n\\n      if( f[ny][nx] != 0 && f[ny][nx] != f[ep\\/W][ep%W] ) continue;\\n\\n      if( visited[ny][nx] ) continue;\\n\\n      while(1){\\n\\n        nx += dx[i], ny += dy[i];\\n\\n        if( !isValid(nx,ny) ) break;\\n\\n        if( f[ny][nx] != 0 && f[ny][nx] != f[ep\\/W][ep%W] ) break;\\n\\n        if( X[nx] || Y[ny] ) break;\\n\\n        if( visited[ny][nx] ) return;\\n\\n      }\\n\\n    }\\n\\n  }\\n\\n\\n\\n\\n\\n  rep(i,4) {\\n\\n    if( i == (prev+2) % 4 ) continue;\\n\\n    int nx = x + dx[i], ny = y + dy[i];\\n\\n    if( !isValid(nx,ny) ) continue;\\n\\n    if( f[ny][nx] != 0 && f[ny][nx] != f[ep\\/W][ep%W] ) continue;\\n\\n    if( visited[ny][nx] ) continue;\\n\\n    visited[ny][nx] = true;\\n\\n    path.push_back(nx+ny*W);\\n\\n    dfs(nx,ny,cost+1,f,ep,path,F,S,i);\\n\\n    path.pop_back();\\n\\n    visited[ny][nx] = false;\\n\\n  }\\n\\n\\n\\n\\n\\n}\\n\\n\\n\\nint compute(int F,int S){\\n\\n  rep(i,H) rep(j,W) visited[i][j] = false;\\n\\n  deque<int> path;\\n\\n  path.push_back(sp[F][0]);\\n\\n  visited[sp[F][0]\\/W][sp[F][0]%W] = true;\\n\\n  simulate_min(m1,field,sp[F][0]);\\n\\n  simulate_min(m2,field,sp[S][0]);\\n\\n  dfs(sp[F][0]%W,sp[F][0]\\/W,0,field,sp[F][1],path,F,S,-IINF);\\n\\n}\\n\\n\\n\\nint main(){\\n\\n  while( cin >> H >> W, H|W ){\\n\\n    rep(i,2) sp[i].clear();\\n\\n    rep(i,10) X[i] = Y[i] = false;\\n\\n    rep(i,H) rep(j,W) {\\n\\n      cin >> field[i][j];\\n\\n      if( field[i][j] == 1 ) X[j] = true, Y[i] = true;\\n\\n      if( field[i][j] == 2 ) sp[0].push_back(j+i*W), X[j] = Y[i] = true;\\n\\n      if( field[i][j] == 3 ) sp[1].push_back(j+i*W), X[j] = Y[i] = true;\\n\\n    }\\n\\n    mini = IINF;\\n\\n\\n\\n    compute(0,1);\\n\\n    if( mini == IINF ) puts(\\\"0\\\");\\n\\n    else cout << mini << endl;\\n\\n  }\\n\\n  return 0;\\n\\n}\",\"slower_program\":\"#include<bits\\/stdc++.h>\\n\\n\\n\\n#define REP(i,s,n) for(int i=s;i<n;i++)\\n\\n#define rep(i,n) REP(i,0,n)\\n\\n\\n\\nusing namespace std;\\n\\n\\n\\nconst int IINF = INT_MAX;\\n\\n\\n\\nint H,W,mini,field[10][10],prev[10][10],mindist[10][10],nfield[10][10],mindist2[10][10],m1[10][10],m2[10][10];\\n\\nvector<int> sp[2];\\n\\nbool visited[10][10];\\n\\nint dx[] = {0,1,0,-1};\\n\\nint dy[] = {1,0,-1,0};\\n\\nbool X[10], Y[10];\\n\\n\\n\\nbool isValid(int x,int y) { return 0 <= x && x < W && 0 <= y && y < H; }\\n\\n\\n\\nvoid simulate_min(int dist[10][10],int f[10][10],int s){\\n\\n  rep(i,H) rep(j,W) dist[i][j] = IINF;\\n\\n  dist[s\\/W][s%W] = 0;\\n\\n  deque<int> deq;\\n\\n  deq.push_back(s);\\n\\n  while( !deq.empty() ){\\n\\n    int cur = deq.front(); deq.pop_front();\\n\\n    int x = cur % W, y = cur \\/ W;\\n\\n    rep(i,4){\\n\\n      int nx = x + dx[i], ny = y + dy[i];\\n\\n      if( !isValid(nx,ny) ) continue;\\n\\n      if( f[ny][nx] != 0 && f[ny][nx] != f[s\\/W][s%W] ) continue;\\n\\n      if( dist[ny][nx] == IINF ) {\\n\\n        dist[ny][nx] = dist[y][x] + 1;\\n\\n        deq.push_back(nx+ny*W);\\n\\n      }\\n\\n    }\\n\\n  }\\n\\n}\\nvoid dfs(int x,int y,int cost,int f[10][10],int ep,deque<int> &path,int F,int S,int prev){\\n\\n\\n\\n  if( cost >= mini ) return;\\n\\n  if( m2[sp[S][1]\\/W][sp[S][1]%W] + cost >= mini ) return;\\n\\n  if( x + y * W == ep ) {\\n\\n    rep(i,H) rep(j,W) nfield[i][j] = field[i][j];\\n\\n    rep(i,path.size()) nfield[path[i]\\/W][path[i]%W] = 1;\\n\\n    simulate_min(mindist2,nfield,sp[S][0]);\\n\\n    if( mindist2[sp[S][1]\\/W][sp[S][1]%W] == IINF ) return;\\n\\n    mini = min(mini,(int)path.size()-1+mindist2[sp[S][1]\\/W][sp[S][1]%W]);\\n\\n    return;\\n\\n  }\\n\\n  int cnt = 0;\\n\\n  rep(i,4) {\\n\\n    int nx = x + dx[i], ny = y + dy[i];\\n\\n    if( !isValid(nx,ny) ) continue;\\n\\n    cnt += visited[ny][nx];\\n\\n }\\n\\n  if( cnt >= 2 ) return;\\n  {\\n\\n    rep(i,4){\\n\\n      int nx = x, ny = y;\\n\\n      nx += dx[i], ny += dy[i];\\n\\n      if( !isValid(nx,ny) ) continue;\\n\\n      if( f[ny][nx] != 0 && f[ny][nx] != f[ep\\/W][ep%W] ) continue;\\n\\n      if( visited[ny][nx] ) continue;\\n\\n      while(1){\\n\\n        nx += dx[i], ny += dy[i];\\n\\n        if( !isValid(nx,ny) ) break;\\n\\n        if( f[ny][nx] != 0 && f[ny][nx] != f[ep\\/W][ep%W] ) break;\\n\\n        if( X[nx] || Y[ny] ) break;\\n\\n        if( visited[ny][nx] ) return;\\n\\n      }\\n\\n    }\\n\\n  }\\n  rep(i,4) {\\n\\n    if( i == (prev+2) % 4 ) continue;\\n\\n    int nx = x + dx[i], ny = y + dy[i];\\n\\n    if( !isValid(nx,ny) ) continue;\\n\\n    if( f[ny][nx] != 0 && f[ny][nx] != f[ep\\/W][ep%W] ) continue;\\n\\n    if( visited[ny][nx] ) continue;\\n\\n    visited[ny][nx] = true;\\n\\n    path.push_back(nx+ny*W);\\n\\n    dfs(nx,ny,cost+1,f,ep,path,F,S,i);\\n\\n    path.pop_back();\\n\\n    visited[ny][nx] = false;\\n\\n  }\\n}\\n\\n\\n\\nint compute(int F,int S){\\n\\n  rep(i,H) rep(j,W) visited[i][j] = false;\\n\\n  deque<int> path;\\n\\n  path.push_back(sp[F][0]);\\n\\n  visited[sp[F][0]\\/W][sp[F][0]%W] = true;\\n\\n  simulate_min(m1,field,sp[F][0]);\\n\\n  simulate_min(m2,field,sp[S][0]);\\n\\n  dfs(sp[F][0]%W,sp[F][0]\\/W,0,field,sp[F][1],path,F,S,-IINF);\\n\\n}\\n\\n\\n\\nint main(){\\n\\n  while( cin >> H >> W, H|W ){\\n\\n    rep(i,2) sp[i].clear();\\n\\n    rep(i,10) X[i] = Y[i] = false;\\n\\n    rep(i,H) rep(j,W) {\\n\\n      cin >> field[i][j];\\n\\n      if( field[i][j] == 1 ) X[j] = true, Y[i] = true;\\n\\n      if( field[i][j] == 2 ) sp[0].push_back(j+i*W), X[j] = Y[i] = true;\\n\\n      if( field[i][j] == 3 ) sp[1].push_back(j+i*W), X[j] = Y[i] = true;\\n\\n    }\\n\\n    mini = IINF;\\n\\n\\n\\n    compute(0,1);\\n\\n    if( mini == IINF ) puts(\\\"0\\\");\\n\\n    else cout << mini << endl;\\n\\n  }\\n\\n  return 0;\\n\\n}\",\"input_ref\":\"#include<bits\\/stdc++.h>\\n\\n\\n\\n#define REP(i,s,n) for(int i=s;i<n;i++)\\n\\n#define rep(i,n) REP(i,0,n)\\n\\n\\n\\nusing namespace std;\\n\\n\\n\\nconst int IINF = INT_MAX;\\n\\n\\n\\nint H,W,mini,field[10][10],prev[10][10],mindist[10][10],nfield[10][10],mindist2[10][10],m1[10][10],m2[10][10];\\n\\nvector<int> sp[2];\\n\\nbool visited[10][10];\\n\\nint dx[] = {0,1,0,-1};\\n\\nint dy[] = {1,0,-1,0};\\n\\nbool X[10], Y[10];\\n\\n\\n\\nbool isValid(int x,int y) { return 0 <= x && x < W && 0 <= y && y < H; }\\n\\n\\n\\nvoid simulate_min(int dist[10][10],int f[10][10],int s){\\n\\n  rep(i,H) rep(j,W) dist[i][j] = IINF;\\n\\n  dist[s\\/W][s%W] = 0;\\n\\n  deque<int> deq;\\n\\n  deq.push_back(s);\\n\\n  while( !deq.empty() ){\\n\\n    int cur = deq.front(); deq.pop_front();\\n\\n    int x = cur % W, y = cur \\/ W;\\n\\n    rep(i,4){\\n\\n      int nx = x + dx[i], ny = y + dy[i];\\n\\n      if( !isValid(nx,ny) ) continue;\\n\\n      if( f[ny][nx] != 0 && f[ny][nx] != f[s\\/W][s%W] ) continue;\\n\\n      if( dist[ny][nx] == IINF ) {\\n\\n        dist[ny][nx] = dist[y][x] + 1;\\n\\n        deq.push_back(nx+ny*W);\\n\\n      }\\n\\n    }\\n\\n  }\\n\\n}\\n\\n\\n\\n\\n\\nvoid dfs(int x,int y,int cost,int f[10][10],int ep,deque<int> &path,int F,int S,int prev){\\n\\n\\n\\n  if( cost >= mini ) return;\\n\\n  if( m2[sp[S][1]\\/W][sp[S][1]%W] + cost >= mini ) return;\\n\\n\\n\\n\\n\\n\\n\\n\\n\\n\\n\\n  if( x + y * W == ep ) {\\n\\n    rep(i,H) rep(j,W) nfield[i][j] = field[i][j];\\n\\n    rep(i,path.size()) nfield[path[i]\\/W][path[i]%W] = 1;\\n\\n    simulate_min(mindist2,nfield,sp[S][0]);\\n\\n    if( mindist2[sp[S][1]\\/W][sp[S][1]%W] == IINF ) return;\\n\\n    mini = min(mini,(int)path.size()-1+mindist2[sp[S][1]\\/W][sp[S][1]%W]);\\n\\n    return;\\n\\n  }\\n\\n  int cnt = 0;\\n\\n  rep(i,4) {\\n\\n    int nx = x + dx[i], ny = y + dy[i];\\n\\n    if( !isValid(nx,ny) ) continue;\\n\\n    cnt += visited[ny][nx];\\n\\n }\\n\\n  if( cnt >= 2 ) return;\\n\\n\\n\\n\\n\\n  {\\n\\n    rep(i,4){\\n\\n      int nx = x, ny = y;\\n\\n      nx += dx[i], ny += dy[i];\\n\\n      if( !isValid(nx,ny) ) continue;\\n\\n      if( f[ny][nx] != 0 && f[ny][nx] != f[ep\\/W][ep%W] ) continue;\\n\\n      if( visited[ny][nx] ) continue;\\n\\n      while(1){\\n\\n        nx += dx[i], ny += dy[i];\\n\\n        if( !isValid(nx,ny) ) break;\\n\\n        if( f[ny][nx] != 0 && f[ny][nx] != f[ep\\/W][ep%W] ) break;\\n\\n        if( X[nx] || Y[ny] ) break;\\n\\n        if( visited[ny][nx] ) return;\\n\\n      }\\n\\n    }\\n\\n  }\\n\\n\\n\\n\\n\\n  rep(i,4) {\\n\\n    if( i == (prev+2) % 4 ) continue;\\n\\n    int nx = x + dx[i], ny = y + dy[i];\\n\\n    if( !isValid(nx,ny) ) continue;\\n\\n    if( f[ny][nx] != 0 && f[ny][nx] != f[ep\\/W][ep%W] ) continue;\\n\\n    if( visited[ny][nx] ) continue;\\n\\n    visited[ny][nx] = true;\\n\\n    path.push_back(nx+ny*W);\\n\\n    dfs(nx,ny,cost+1,f,ep,path,F,S,i);\\n\\n    path.pop_back();\\n\\n    visited[ny][nx] = false;\\n\\n  }\\n\\n\\n\\n\\n\\n}\\n\\n\\n\\nint compute(int F,int S){\\n\\n  rep(i,H) rep(j,W) visited[i][j] = false;\\n\\n  deque<int> path;\\n\\n  path.push_back(sp[F][0]);\\n\\n  visited[sp[F][0]\\/W][sp[F][0]%W] = true;\\n\\n  simulate_min(m1,field,sp[F][0]);\\n\\n  simulate_min(m2,field,sp[S][0]);\\n\\n  dfs(sp[F][0]%W,sp[F][0]\\/W,0,field,sp[F][1],path,F,S,-IINF);\\n\\n}\\n\\n\\n\\nint main(){\\n\\n  while( cin >> H >> W, H|W ){\\n\\n    rep(i,2) sp[i].clear();\\n\\n    rep(i,10) X[i] = Y[i] = false;\\n\\n    rep(i,H) rep(j,W) {\\n\\n      cin >> field[i][j];\\n\\n      if( field[i][j] == 1 ) X[j] = true, Y[i] = true;\\n\\n      if( field[i][j] == 2 ) sp[0].push_back(j+i*W), X[j] = Y[i] = true;\\n\\n      if( field[i][j] == 3 ) sp[1].push_back(j+i*W), X[j] = Y[i] = true;\\n\\n    }\\n\\n    mini = IINF;\\n\\n\\n\\n    compute(0,1);\\n\\n    if( mini == IINF ) puts(\\\"0\\\");\\n\\n    else cout << mini << endl;\\n\\n  }\\n\\n  return 0;\\n\\n}\",\"problem_id\":\"p00849\",\"submission_id_v0\":\"s1\",\"cpu_time_v0\":1,\"cpu_time_v1\":1,\"input_time_mean\":1335.0228071213,\"input_time_std\":4.5861005783,\"input_acc\":1.0,\"reference_time_mean\":1350.5220413208,\"reference_time_std\":0.2963542938,\"reference_acc\":1.0,\"improved_code_time_mean\":1351.7127037048,\"improved_code_time_std\":0.5793571472,\"improved_code_acc\":1.0}\n3:{\"input\":\"#include<bits\\/stdc++.h>\\n\\n\\n\\n#define REP(i,s,n) for(int i=s;i<n;i++)\\n\\n#define rep(i,n) REP(i,0,n)\\n\\n\\n\\nusing namespace std;\\n\\n\\n\\nconst int IINF = INT_MAX;\\n\\n\\n\\nint H,W,mini,field[10][10],prev[10][10],mindist[10][10],nfield[10][10],mindist2[10][10],m1[10][10],m2[10][10];\\n\\nvector<int> sp[2];\\n\\nbool visited[10][10];\\n\\nint dx[] = {0,1,0,-1};\\n\\nint dy[] = {1,0,-1,0};\\n\\nbool X[10], Y[10];\\n\\n\\n\\nbool isValid(int x,int y) { return 0 <= x && x < W && 0 <= y && y < H; }\\n\\n\\n\\nvoid simulate_min(int dist[10][10],int f[10][10],int s){\\n\\n  rep(i,H) rep(j,W) dist[i][j] = IINF;\\n\\n  dist[s\\/W][s%W] = 0;\\n\\n  deque<int> deq;\\n\\n  deq.push_back(s);\\n\\n  while( !deq.empty() ){\\n\\n    int cur = deq.front(); deq.pop_front();\\n\\n    int x = cur % W, y = cur \\/ W;\\n\\n    if( x+y*W != s && f[y][x] == f[s\\/W][s%W] ) return;\\n\\n    rep(i,4){\\n\\n      int nx = x + dx[i], ny = y + dy[i];\\n\\n      if( !isValid(nx,ny) ) continue;\\n\\n      if( f[ny][nx] != 0 && f[ny][nx] != f[s\\/W][s%W] ) continue;\\n\\n      if( dist[ny][nx] == IINF ) {\\n\\n        dist[ny][nx] = dist[y][x] + 1;\\n\\n        deq.push_back(nx+ny*W);\\n\\n      }\\n\\n    }\\n\\n  }\\n\\n}\\n\\n\\n\\n\\n\\nvoid dfs(int x,int y,int cost,int f[10][10],int ep,deque<int> &path,int F,int S,int prev){\\n\\n\\n\\n  if( cost >= mini ) return;\\n\\n  if( m1[ep\\/W][ep%W] - m1[y][x] + m2[sp[S][1]\\/W][sp[S][1]%W] + cost >= mini ) return;\\n\\n\\n\\n\\n\\n  if( x + y * W == ep ) {\\n\\n    rep(i,H) rep(j,W) nfield[i][j] = field[i][j];\\n\\n    rep(i,path.size()) nfield[path[i]\\/W][path[i]%W] = 1;\\n\\n    simulate_min(mindist2,nfield,sp[S][0]);\\n\\n    if( mindist2[sp[S][1]\\/W][sp[S][1]%W] == IINF ) return;\\n\\n    mini = min(mini,(int)path.size()-1+mindist2[sp[S][1]\\/W][sp[S][1]%W]);\\n\\n    return;\\n\\n  }\\n\\n  int cnt = 0;\\n\\n  rep(i,4) {\\n\\n    int nx = x + dx[i], ny = y + dy[i];\\n\\n    if( !isValid(nx,ny) ) continue;\\n\\n    cnt += visited[ny][nx];\\n\\n }\\n\\n  if( cnt >= 2 ) return;\\n\\n\\n\\n\\n\\n  {\\n\\n    rep(i,4){\\n\\n      if( i == (prev+2) % 4 ) continue;\\n\\n      int nx = x, ny = y;\\n\\n      nx += dx[i], ny += dy[i];\\n\\n      if( !isValid(nx,ny) ) continue;\\n\\n      if( f[ny][nx] != 0 && f[ny][nx] != f[ep\\/W][ep%W] ) continue;\\n\\n      if( visited[ny][nx] ) continue;\\n\\n      while(1){\\n\\n        nx += dx[i], ny += dy[i];\\n\\n        if( !isValid(nx,ny) ) break;\\n\\n        if( f[ny][nx] != 0 && f[ny][nx] != f[ep\\/W][ep%W] ) break;\\n\\n        if( X[nx] || Y[ny] ) break;\\n\\n        if( visited[ny][nx] ) return;\\n\\n      }\\n\\n    }\\n\\n  }\\n\\n\\n\\n\\n\\n  rep(i,4) {\\n\\n    if( i == (prev+2) % 4 ) continue;\\n\\n    int nx = x + dx[i], ny = y + dy[i];\\n\\n    if( !isValid(nx,ny) ) continue;\\n\\n    if( f[ny][nx] != 0 && f[ny][nx] != f[ep\\/W][ep%W] ) continue;\\n\\n    if( visited[ny][nx] ) continue;\\n\\n    visited[ny][nx] = true;\\n\\n    path.push_back(nx+ny*W);\\n\\n    dfs(nx,ny,cost+1,f,ep,path,F,S,i);\\n\\n    path.pop_back();\\n\\n    visited[ny][nx] = false;\\n\\n  }\\n\\n\\n\\n\\n\\n}\\n\\n\\n\\nint compute(int F,int S){\\n\\n  rep(i,H) rep(j,W) visited[i][j] = false;\\n\\n  deque<int> path;\\n\\n  path.push_back(sp[F][0]);\\n\\n  visited[sp[F][0]\\/W][sp[F][0]%W] = true;\\n\\n  simulate_min(m1,field,sp[F][0]);\\n\\n  simulate_min(m2,field,sp[S][0]);\\n\\n  dfs(sp[F][0]%W,sp[F][0]\\/W,0,field,sp[F][1],path,F,S,-IINF);\\n\\n}\\n\\n\\n\\nbool check(int a){\\n\\n  int x = a % W, y = a \\/ W;\\n\\n  return 0 == x || W-1 == x || 0 == y || H-1 == y;\\n\\n}\\n\\n\\n\\nint main(){\\n\\n  while( cin >> H >> W, H|W ){\\n\\n    rep(i,2) sp[i].clear();\\n\\n    rep(i,10) X[i] = Y[i] = false;\\n\\n    rep(i,H) rep(j,W) {\\n\\n      cin >> field[i][j];\\n\\n      if( field[i][j] == 1 ) X[j] = true, Y[i] = true;\\n\\n      if( field[i][j] == 2 ) sp[0].push_back(j+i*W), X[j] = Y[i] = true;\\n\\n      if( field[i][j] == 3 ) sp[1].push_back(j+i*W), X[j] = Y[i] = true;\\n\\n    }\\n\\n    mini = IINF;\\n\\n    if( check(sp[0][1]) && check(sp[0][0]) && check(sp[1][1]) && check(sp[1][0]) ) {\\n\\n      vector<int> vec;\\n\\n      for(int i=0;i<W;i++) if( field[0][i] == 2 || field[0][i] == 3 ) vec.push_back(field[0][i]);\\n\\n      for(int i=1;i<H;i++) if( field[i][W-1] == 2 || field[i][W-1] == 3 ) vec.push_back(field[i][W-1]);\\n\\n      for(int i=W-2;i>=0;i--) if( field[H-1][i] == 2 || field[H-1][i] == 3 ) vec.push_back(field[H-1][i]);\\n\\n      for(int i=H-2;i>=1;i--) if( field[i][0] == 2 || field[i][0] == 3 ) vec.push_back(field[i][0]);\\n\\n      assert(vec.size() == 4);\\n\\n      if( !( vec[0] == vec[1] || vec[0] == vec[3] ) ) {\\n\\n        puts(\\\"0\\\");\\n\\n        continue;\\n\\n      }\\n\\n    }\\n\\n\\n\\n\\n\\n    compute(0,1);\\n\\n    if( mini == IINF ) puts(\\\"0\\\");\\n\\n    else cout << mini << endl;\\n\\n  }\\n\\n  return 0;\\n\\n}\",\"improved_code\":\"#include<bits\\/stdc++.h>\\n\\n\\n\\n#define REP(i,s,n) for(int i=s;i<n;i++)\\n\\n#define rep(i,n) REP(i,0,n)\\n\\n\\n\\nusing namespace std;\\n\\n\\n\\nconst int IINF = INT_MAX;\\n\\n\\n\\nint H,W,mini,field[10][10],prev[10][10],mindist[10][10],nfield[10][10],mindist2[10][10],m1[10][10],m2[10][10];\\n\\nvector<int> sp[2];\\n\\nbool visited[10][10];\\n\\nint dx[] = {0,1,0,-1};\\n\\nint dy[] = {1,0,-1,0};\\n\\nbool X[10], Y[10];\\n\\n\\n\\nbool isValid(int x,int y) { return 0 <= x && x < W && 0 <= y && y < H; }\\n\\n\\n\\nvoid simulate_min(int dist[10][10],int f[10][10],int s){\\n\\n  rep(i,H) rep(j,W) dist[i][j] = IINF;\\n\\n  dist[s\\/W][s%W] = 0;\\n\\n  deque<int> deq;\\n\\n  deq.push_back(s);\\n\\n  while( !deq.empty() ){\\n\\n    int cur = deq.front(); deq.pop_front();\\n\\n    int x = cur % W, y = cur \\/ W;\\n\\n    if( x+y*W != s && f[y][x] == f[s\\/W][s%W] ) return;\\n\\n    rep(i,4){\\n\\n      int nx = x + dx[i], ny = y + dy[i];\\n\\n      if( !isValid(nx,ny) ) continue;\\n\\n      if( f[ny][nx] != 0 && f[ny][nx] != f[s\\/W][s%W] ) continue;\\n\\n      if( dist[ny][nx] == IINF ) {\\n\\n        dist[ny][nx] = dist[y][x] + 1;\\n\\n        deq.push_back(nx+ny*W);\\n\\n      }\\n\\n    }\\n\\n  }\\n\\n}\\n\\n\\n\\n\\n\\nvoid dfs(int x,int y,int cost,int f[10][10],int ep,deque<int> &path,int F,int S,int prev){\\n\\n\\n\\n  if( cost >= mini ) return;\\n\\n  if( m1[ep\\/W][ep%W] - m1[y][x] + m2[sp[S][1]\\/W][sp[S][1]%W] + cost >= mini ) return;\\n\\n\\n\\n\\n\\n  if( x + y * W == ep ) {\\n\\n    rep(i,H) rep(j,W) nfield[i][j] = field[i][j];\\n\\n    rep(i,path.size()) nfield[path[i]\\/W][path[i]%W] = 1;\\n\\n    simulate_min(mindist2,nfield,sp[S][0]);\\n\\n    if( mindist2[sp[S][1]\\/W][sp[S][1]%W] == IINF ) return;\\n\\n    mini = min(mini,(int)path.size()-1+mindist2[sp[S][1]\\/W][sp[S][1]%W]);\\n\\n    return;\\n\\n  }\\n\\n  int cnt = 0;\\n\\n  rep(i,4) {\\n\\n    int nx = x + dx[i], ny = y + dy[i];\\n\\n    if( !isValid(nx,ny) ) continue;\\n\\n    cnt += visited[ny][nx];\\n\\n }\\n\\n  if( cnt >= 2 ) return;\\n\\n\\n\\n\\n\\n  {\\n\\n    rep(i,4){\\n\\n      if( i == (prev+2) % 4 ) continue;\\n\\n      int nx = x, ny = y;\\n\\n      nx += dx[i], ny += dy[i];\\n\\n      if( !isValid(nx,ny) ) continue;\\n\\n      if( f[ny][nx] != 0 && f[ny][nx] != f[ep\\/W][ep%W] ) continue;\\n\\n      if( visited[ny][nx] ) continue;\\n\\n      while(1){\\n\\n        nx += dx[i], ny += dy[i];\\n\\n        if( !isValid(nx,ny) ) break;\\n\\n        if( f[ny][nx] != 0 && f[ny][nx] != f[ep\\/W][ep%W] ) break;\\n\\n        if( X[nx] || Y[ny] ) break;\\n\\n        if( visited[ny][nx] ) return;\\n\\n      }\\n\\n    }\\n\\n  }\\n\\n\\n\\n\\n\\n  rep(i,4) {\\n\\n    if( i == (prev+2) % 4 ) continue;\\n\\n    int nx = x + dx[i], ny = y + dy[i];\\n\\n    if( !isValid(nx,ny) ) continue;\\n\\n    if( f[ny][nx] != 0 && f[ny][nx] != f[ep\\/W][ep%W] ) continue;\\n\\n    if( visited[ny][nx] ) continue;\\n\\n    visited[ny][nx] = true;\\n\\n    path.push_back(nx+ny*W);\\n\\n    dfs(nx,ny,cost+1,f,ep,path,F,S,i);\\n\\n    path.pop_back();\\n\\n    visited[ny][nx] = false;\\n\\n  }\\n\\n\\n\\n\\n\\n}\\n\\n\\n\\nint compute(int F,int S){\\n\\n  rep(i,H) rep(j,W) visited[i][j] = false;\\n\\n  deque<int> path;\\n\\n  path.push_back(sp[F][0]);\\n\\n  visited[sp[F][0]\\/W][sp[F][0]%W] = true;\\n\\n  simulate_min(m1,field,sp[F][0]);\\n\\n  simulate_min(m2,field,sp[S][0]);\\n\\n  dfs(sp[F][0]%W,sp[F][0]\\/W,0,field,sp[F][1],path,F,S,-IINF);\\n\\n}\\n\\n\\n\\nbool check(int a){\\n\\n  int x = a % W, y = a \\/ W;\\n\\n  return 0 == x || W-1 == x || 0 == y || H-1 == y;\\n\\n}\\n\\n\\n\\nint main(){\\n\\n  while( cin >> H >> W, H|W ){\\n\\n    rep(i,2) sp[i].clear();\\n\\n    rep(i,10) X[i] = Y[i] = false;\\n\\n    rep(i,H) rep(j,W) {\\n\\n      cin >> field[i][j];\\n\\n      if( field[i][j] == 1 ) X[j] = true, Y[i] = true;\\n\\n      if( field[i][j] == 2 ) sp[0].push_back(j+i*W), X[j] = Y[i] = true;\\n\\n      if( field[i][j] == 3 ) sp[1].push_back(j+i*W), X[j] = Y[i] = true;\\n\\n    }\\n\\n    mini = IINF;\\n\\n    if( check(sp[0][1]) && check(sp[0][0]) && check(sp[1][1]) && check(sp[1][0]) ) {\\n\\n      vector<int> vec;\\n\\n      for(int i=0;i<W;i++) if( field[0][i] == 2 || field[0][i] == 3 ) vec.push_back(field[0][i]);\\n\\n      for(int i=1;i<H;i++) if( field[i][W-1] == 2 || field[i][W-1] == 3 ) vec.push_back(field[i][W-1]);\\n\\n      for(int i=W-2;i>=0;i--) if( field[H-1][i] == 2 || field[H-1][i] == 3 ) vec.push_back(field[H-1][i]);\\n\\n      for(int i=H-2;i>=1;i--) if( field[i][0] == 2 || field[i][0] == 3 ) vec.push_back(field[i][0]);\\n\\n      assert(vec.size() == 4);\\n\\n      if( !( vec[0] == vec[1] || vec[0] == vec[3] ) ) {\\n\\n        puts(\\\"0\\\");\\n\\n        continue;\\n\\n      }\\n\\n    }\\n\\n\\n\\n\\n\\n    compute(0,1);\\n\\n    if( mini == IINF ) puts(\\\"0\\\");\\n\\n    else cout << mini << endl;\\n\\n  }\\n\\n  return 0;\\n\\n}\",\"slower_program\":\"#include<bits\\/stdc++.h>\\n\\n\\n\\n#define REP(i,s,n) for(int i=s;i<n;i++)\\n\\n#define rep(i,n) REP(i,0,n)\\n\\n\\n\\nusing namespace std;\\n\\n\\n\\nconst int IINF = INT_MAX;\\n\\n\\n\\nint H,W,mini,field[10][10],prev[10][10],mindist[10][10],nfield[10][10],mindist2[10][10],m1[10][10],m2[10][10];\\n\\nvector<int> sp[2];\\n\\nbool visited[10][10];\\n\\nint dx[] = {0,1,0,-1};\\n\\nint dy[] = {1,0,-1,0};\\n\\nbool X[10], Y[10];\\n\\n\\n\\nbool isValid(int x,int y) { return 0 <= x && x < W && 0 <= y && y < H; }\\n\\n\\n\\nvoid simulate_min(int dist[10][10],int f[10][10],int s){\\n\\n  rep(i,H) rep(j,W) dist[i][j] = IINF;\\n\\n  dist[s\\/W][s%W] = 0;\\n\\n  deque<int> deq;\\n\\n  deq.push_back(s);\\n\\n  while( !deq.empty() ){\\n\\n    int cur = deq.front(); deq.pop_front();\\n\\n    int x = cur % W, y = cur \\/ W;\\n\\n    if( x+y*W != s && f[y][x] == f[s\\/W][s%W] ) return;\\n\\n    rep(i,4){\\n\\n      int nx = x + dx[i], ny = y + dy[i];\\n\\n      if( !isValid(nx,ny) ) continue;\\n\\n      if( f[ny][nx] != 0 && f[ny][nx] != f[s\\/W][s%W] ) continue;\\n\\n      if( dist[ny][nx] == IINF ) {\\n\\n        dist[ny][nx] = dist[y][x] + 1;\\n\\n        deq.push_back(nx+ny*W);\\n\\n      }\\n\\n    }\\n\\n  }\\n\\n}\\nvoid dfs(int x,int y,int cost,int f[10][10],int ep,deque<int> &path,int F,int S,int prev){\\n\\n\\n\\n  if( cost >= mini ) return;\\n\\n  if( m1[ep\\/W][ep%W] - m1[y][x] + m2[sp[S][1]\\/W][sp[S][1]%W] + cost >= mini ) return;\\n  if( x + y * W == ep ) {\\n\\n    rep(i,H) rep(j,W) nfield[i][j] = field[i][j];\\n\\n    rep(i,path.size()) nfield[path[i]\\/W][path[i]%W] = 1;\\n\\n    simulate_min(mindist2,nfield,sp[S][0]);\\n\\n    if( mindist2[sp[S][1]\\/W][sp[S][1]%W] == IINF ) return;\\n\\n    mini = min(mini,(int)path.size()-1+mindist2[sp[S][1]\\/W][sp[S][1]%W]);\\n\\n    return;\\n\\n  }\\n\\n  int cnt = 0;\\n\\n  rep(i,4) {\\n\\n    int nx = x + dx[i], ny = y + dy[i];\\n\\n    if( !isValid(nx,ny) ) continue;\\n\\n    cnt += visited[ny][nx];\\n\\n }\\n\\n  if( cnt >= 2 ) return;\\n  {\\n\\n    rep(i,4){\\n\\n      if( i == (prev+2) % 4 ) continue;\\n\\n      int nx = x, ny = y;\\n\\n      nx += dx[i], ny += dy[i];\\n\\n      if( !isValid(nx,ny) ) continue;\\n\\n      if( f[ny][nx] != 0 && f[ny][nx] != f[ep\\/W][ep%W] ) continue;\\n\\n      if( visited[ny][nx] ) continue;\\n\\n      while(1){\\n\\n        nx += dx[i], ny += dy[i];\\n\\n        if( !isValid(nx,ny) ) break;\\n\\n        if( f[ny][nx] != 0 && f[ny][nx] != f[ep\\/W][ep%W] ) break;\\n\\n        if( X[nx] || Y[ny] ) break;\\n\\n        if( visited[ny][nx] ) return;\\n\\n      }\\n\\n    }\\n\\n  }\\n  rep(i,4) {\\n\\n    if( i == (prev+2) % 4 ) continue;\\n\\n    int nx = x + dx[i], ny = y + dy[i];\\n\\n    if( !isValid(nx,ny) ) continue;\\n\\n    if( f[ny][nx] != 0 && f[ny][nx] != f[ep\\/W][ep%W] ) continue;\\n\\n    if( visited[ny][nx] ) continue;\\n\\n    visited[ny][nx] = true;\\n\\n    path.push_back(nx+ny*W);\\n\\n    dfs(nx,ny,cost+1,f,ep,path,F,S,i);\\n\\n    path.pop_back();\\n\\n    visited[ny][nx] = false;\\n\\n  }\\n}\\n\\n\\n\\nint compute(int F,int S){\\n\\n  rep(i,H) rep(j,W) visited[i][j] = false;\\n\\n  deque<int> path;\\n\\n  path.push_back(sp[F][0]);\\n\\n  visited[sp[F][0]\\/W][sp[F][0]%W] = true;\\n\\n  simulate_min(m1,field,sp[F][0]);\\n\\n  simulate_min(m2,field,sp[S][0]);\\n\\n  dfs(sp[F][0]%W,sp[F][0]\\/W,0,field,sp[F][1],path,F,S,-IINF);\\n\\n}\\n\\n\\n\\nbool check(int a){\\n\\n  int x = a % W, y = a \\/ W;\\n\\n  return 0 == x || W-1 == x || 0 == y || H-1 == y;\\n\\n}\\n\\n\\n\\nint main(){\\n\\n  while( cin >> H >> W, H|W ){\\n\\n    rep(i,2) sp[i].clear();\\n\\n    rep(i,10) X[i] = Y[i] = false;\\n\\n    rep(i,H) rep(j,W) {\\n\\n      cin >> field[i][j];\\n\\n      if( field[i][j] == 1 ) X[j] = true, Y[i] = true;\\n\\n      if( field[i][j] == 2 ) sp[0].push_back(j+i*W), X[j] = Y[i] = true;\\n\\n      if( field[i][j] == 3 ) sp[1].push_back(j+i*W), X[j] = Y[i] = true;\\n\\n    }\\n\\n    mini = IINF;\\n\\n    if( check(sp[0][1]) && check(sp[0][0]) && check(sp[1][1]) && check(sp[1][0]) ) {\\n\\n      vector<int> vec;\\n\\n      for(int i=0;i<W;i++) if( field[0][i] == 2 || field[0][i] == 3 ) vec.push_back(field[0][i]);\\n\\n      for(int i=1;i<H;i++) if( field[i][W-1] == 2 || field[i][W-1] == 3 ) vec.push_back(field[i][W-1]);\\n\\n      for(int i=W-2;i>=0;i--) if( field[H-1][i] == 2 || field[H-1][i] == 3 ) vec.push_back(field[H-1][i]);\\n\\n      for(int i=H-2;i>=1;i--) if( field[i][0] == 2 || field[i][0] == 3 ) vec.push_back(field[i][0]);\\n\\n      assert(vec.size() == 4);\\n\\n      if( !( vec[0] == vec[1] || vec[0] == vec[3] ) ) {\\n\\n        puts(\\\"0\\\");\\n\\n        continue;\\n\\n      }\\n\\n    }\\n    compute(0,1);\\n\\n    if( mini == IINF ) puts(\\\"0\\\");\\n\\n    else cout << mini << endl;\\n\\n  }\\n\\n  return 0;\\n\\n}\",\"input_ref\":\"#include<bits\\/stdc++.h>\\n\\n\\n\\n#define REP(i,s,n) for(int i=s;i<n;i++)\\n\\n#define rep(i,n) REP(i,0,n)\\n\\n\\n\\nusing namespace std;\\n\\n\\n\\nconst int IINF = INT_MAX;\\n\\n\\n\\nint H,W,mini,field[10][10],prev[10][10],mindist[10][10],nfield[10][10],mindist2[10][10],m1[10][10],m2[10][10];\\n\\nvector<int> sp[2];\\n\\nbool visited[10][10];\\n\\nint dx[] = {0,1,0,-1};\\n\\nint dy[] = {1,0,-1,0};\\n\\nbool X[10], Y[10];\\n\\n\\n\\nbool isValid(int x,int y) { return 0 <= x && x < W && 0 <= y && y < H; }\\n\\n\\n\\nvoid simulate_min(int dist[10][10],int f[10][10],int s){\\n\\n  rep(i,H) rep(j,W) dist[i][j] = IINF;\\n\\n  dist[s\\/W][s%W] = 0;\\n\\n  deque<int> deq;\\n\\n  deq.push_back(s);\\n\\n  while( !deq.empty() ){\\n\\n    int cur = deq.front(); deq.pop_front();\\n\\n    int x = cur % W, y = cur \\/ W;\\n\\n    if( x+y*W != s && f[y][x] == f[s\\/W][s%W] ) return;\\n\\n    rep(i,4){\\n\\n      int nx = x + dx[i], ny = y + dy[i];\\n\\n      if( !isValid(nx,ny) ) continue;\\n\\n      if( f[ny][nx] != 0 && f[ny][nx] != f[s\\/W][s%W] ) continue;\\n\\n      if( dist[ny][nx] == IINF ) {\\n\\n        dist[ny][nx] = dist[y][x] + 1;\\n\\n        deq.push_back(nx+ny*W);\\n\\n      }\\n\\n    }\\n\\n  }\\n\\n}\\n\\n\\n\\n\\n\\nvoid dfs(int x,int y,int cost,int f[10][10],int ep,deque<int> &path,int F,int S,int prev){\\n\\n\\n\\n  if( cost >= mini ) return;\\n\\n  if( m1[ep\\/W][ep%W] - m1[y][x] + m2[sp[S][1]\\/W][sp[S][1]%W] + cost >= mini ) return;\\n\\n\\n\\n\\n\\n  if( x + y * W == ep ) {\\n\\n    rep(i,H) rep(j,W) nfield[i][j] = field[i][j];\\n\\n    rep(i,path.size()) nfield[path[i]\\/W][path[i]%W] = 1;\\n\\n    simulate_min(mindist2,nfield,sp[S][0]);\\n\\n    if( mindist2[sp[S][1]\\/W][sp[S][1]%W] == IINF ) return;\\n\\n    mini = min(mini,(int)path.size()-1+mindist2[sp[S][1]\\/W][sp[S][1]%W]);\\n\\n    return;\\n\\n  }\\n\\n  int cnt = 0;\\n\\n  rep(i,4) {\\n\\n    int nx = x + dx[i], ny = y + dy[i];\\n\\n    if( !isValid(nx,ny) ) continue;\\n\\n    cnt += visited[ny][nx];\\n\\n }\\n\\n  if( cnt >= 2 ) return;\\n\\n\\n\\n\\n\\n  {\\n\\n    rep(i,4){\\n\\n      if( i == (prev+2) % 4 ) continue;\\n\\n      int nx = x, ny = y;\\n\\n      nx += dx[i], ny += dy[i];\\n\\n      if( !isValid(nx,ny) ) continue;\\n\\n      if( f[ny][nx] != 0 && f[ny][nx] != f[ep\\/W][ep%W] ) continue;\\n\\n      if( visited[ny][nx] ) continue;\\n\\n      while(1){\\n\\n        nx += dx[i], ny += dy[i];\\n\\n        if( !isValid(nx,ny) ) break;\\n\\n        if( f[ny][nx] != 0 && f[ny][nx] != f[ep\\/W][ep%W] ) break;\\n\\n        if( X[nx] || Y[ny] ) break;\\n\\n        if( visited[ny][nx] ) return;\\n\\n      }\\n\\n    }\\n\\n  }\\n\\n\\n\\n\\n\\n  rep(i,4) {\\n\\n    if( i == (prev+2) % 4 ) continue;\\n\\n    int nx = x + dx[i], ny = y + dy[i];\\n\\n    if( !isValid(nx,ny) ) continue;\\n\\n    if( f[ny][nx] != 0 && f[ny][nx] != f[ep\\/W][ep%W] ) continue;\\n\\n    if( visited[ny][nx] ) continue;\\n\\n    visited[ny][nx] = true;\\n\\n    path.push_back(nx+ny*W);\\n\\n    dfs(nx,ny,cost+1,f,ep,path,F,S,i);\\n\\n    path.pop_back();\\n\\n    visited[ny][nx] = false;\\n\\n  }\\n\\n\\n\\n\\n\\n}\\n\\n\\n\\nint compute(int F,int S){\\n\\n  rep(i,H) rep(j,W) visited[i][j] = false;\\n\\n  deque<int> path;\\n\\n  path.push_back(sp[F][0]);\\n\\n  visited[sp[F][0]\\/W][sp[F][0]%W] = true;\\n\\n  simulate_min(m1,field,sp[F][0]);\\n\\n  simulate_min(m2,field,sp[S][0]);\\n\\n  dfs(sp[F][0]%W,sp[F][0]\\/W,0,field,sp[F][1],path,F,S,-IINF);\\n\\n}\\n\\n\\n\\nbool check(int a){\\n\\n  int x = a % W, y = a \\/ W;\\n\\n  return 0 == x || W-1 == x || 0 == y || H-1 == y;\\n\\n}\\n\\n\\n\\nint main(){\\n\\n  while( cin >> H >> W, H|W ){\\n\\n    rep(i,2) sp[i].clear();\\n\\n    rep(i,10) X[i] = Y[i] = false;\\n\\n    rep(i,H) rep(j,W) {\\n\\n      cin >> field[i][j];\\n\\n      if( field[i][j] == 1 ) X[j] = true, Y[i] = true;\\n\\n      if( field[i][j] == 2 ) sp[0].push_back(j+i*W), X[j] = Y[i] = true;\\n\\n      if( field[i][j] == 3 ) sp[1].push_back(j+i*W), X[j] = Y[i] = true;\\n\\n    }\\n\\n    mini = IINF;\\n\\n    if( check(sp[0][1]) && check(sp[0][0]) && check(sp[1][1]) && check(sp[1][0]) ) {\\n\\n      vector<int> vec;\\n\\n      for(int i=0;i<W;i++) if( field[0][i] == 2 || field[0][i] == 3 ) vec.push_back(field[0][i]);\\n\\n      for(int i=1;i<H;i++) if( field[i][W-1] == 2 || field[i][W-1] == 3 ) vec.push_back(field[i][W-1]);\\n\\n      for(int i=W-2;i>=0;i--) if( field[H-1][i] == 2 || field[H-1][i] == 3 ) vec.push_back(field[H-1][i]);\\n\\n      for(int i=H-2;i>=1;i--) if( field[i][0] == 2 || field[i][0] == 3 ) vec.push_back(field[i][0]);\\n\\n      assert(vec.size() == 4);\\n\\n      if( !( vec[0] == vec[1] || vec[0] == vec[3] ) ) {\\n\\n        puts(\\\"0\\\");\\n\\n        continue;\\n\\n      }\\n\\n    }\\n\\n\\n\\n\\n\\n    compute(0,1);\\n\\n    if( mini == IINF ) puts(\\\"0\\\");\\n\\n    else cout << mini << endl;\\n\\n  }\\n\\n  return 0;\\n\\n}\",\"problem_id\":\"p00849\",\"submission_id_v0\":\"s2\",\"cpu_time_v0\":1,\"cpu_time_v1\":1,\"input_time_mean\":1244.2166805267,\"input_time_std\":2.6254653931,\"input_acc\":1.0,\"reference_time_mean\":1243.2729005814,\"reference_time_std\":0.5923509598,\"reference_acc\":1.0,\"improved_code_time_mean\":1247.6708889008,\"improved_code_time_std\":5.1171779633,\"improved_code_acc\":1.0}\n4:{\"input\":\"#include<bits\\/stdc++.h>\\n\\n\\n\\n#define REP(i,s,n) for(int i=s;i<n;i++)\\n\\n#define rep(i,n) REP(i,0,n)\\n\\n\\n\\nusing namespace std;\\n\\n\\n\\nconst int IINF = INT_MAX;\\n\\n\\n\\nint H,W,mini,field[10][10],prev[10][10],mindist[10][10],nfield[10][10],mindist2[10][10],m1[10][10],m2[10][10];\\n\\nvector<int> sp[2];\\n\\nbool visited[10][10];\\n\\nint dx[] = {0,1,0,-1};\\n\\nint dy[] = {1,0,-1,0};\\n\\nbool X[10], Y[10];\\n\\n\\n\\nbool isValid(int x,int y) { return 0 <= x && x < W && 0 <= y && y < H; }\\n\\n\\n\\nvoid simulate_min(int dist[10][10],int f[10][10],int s){\\n\\n  rep(i,H) rep(j,W) dist[i][j] = IINF;\\n\\n  dist[s\\/W][s%W] = 0;\\n\\n  deque<int> deq;\\n\\n  deq.push_back(s);\\n\\n  while( !deq.empty() ){\\n\\n    int cur = deq.front(); deq.pop_front();\\n\\n    int x = cur % W, y = cur \\/ W;\\n\\n    if( x+y*W != s && f[y][x] == f[s\\/W][s%W] ) return;\\n\\n    rep(i,4){\\n\\n      int nx = x + dx[i], ny = y + dy[i];\\n\\n      if( !isValid(nx,ny) ) continue;\\n\\n      if( f[ny][nx] != 0 && f[ny][nx] != f[s\\/W][s%W] ) continue;\\n\\n      if( dist[ny][nx] == IINF ) {\\n\\n        dist[ny][nx] = dist[y][x] + 1;\\n\\n        deq.push_back(nx+ny*W);\\n\\n      }\\n\\n    }\\n\\n  }\\n\\n}\\n\\n\\n\\n\\n\\nvoid dfs(int x,int y,int cost,int f[10][10],int ep,deque<int> &path,int F,int S,int prev){\\n\\n\\n\\n  if( cost >= mini ) return;\\n\\n  if( m2[sp[S][1]\\/W][sp[S][1]%W] + cost >= mini ) return;\\n\\n\\n\\n\\n\\n  if( x + y * W == ep ) {\\n\\n    rep(i,H) rep(j,W) nfield[i][j] = field[i][j];\\n\\n    rep(i,path.size()) nfield[path[i]\\/W][path[i]%W] = 1;\\n\\n    simulate_min(mindist2,nfield,sp[S][0]);\\n\\n    if( mindist2[sp[S][1]\\/W][sp[S][1]%W] == IINF ) return;\\n\\n    mini = min(mini,(int)path.size()-1+mindist2[sp[S][1]\\/W][sp[S][1]%W]);\\n\\n    return;\\n\\n  }\\n\\n  int cnt = 0;\\n\\n  rep(i,4) {\\n\\n    int nx = x + dx[i], ny = y + dy[i];\\n\\n    if( !isValid(nx,ny) ) continue;\\n\\n    cnt += visited[ny][nx];\\n\\n }\\n\\n  if( cnt >= 2 ) return;\\n\\n\\n\\n\\n\\n  {\\n\\n    rep(i,4){\\n\\n      if( i == (prev+2) % 4 ) continue;\\n\\n      int nx = x, ny = y;\\n\\n      nx += dx[i], ny += dy[i];\\n\\n      if( !isValid(nx,ny) ) continue;\\n\\n      if( f[ny][nx] != 0 && f[ny][nx] != f[ep\\/W][ep%W] ) continue;\\n\\n      if( visited[ny][nx] ) continue;\\n\\n      while(1){\\n\\n        nx += dx[i], ny += dy[i];\\n\\n        if( !isValid(nx,ny) ) break;\\n\\n        if( f[ny][nx] != 0 && f[ny][nx] != f[ep\\/W][ep%W] ) break;\\n\\n        if( X[nx] || Y[ny] ) break;\\n\\n        if( visited[ny][nx] ) return;\\n\\n      }\\n\\n    }\\n\\n  }\\n\\n\\n\\n\\n\\n  rep(i,4) {\\n\\n    if( i == (prev+2) % 4 ) continue;\\n\\n    int nx = x + dx[i], ny = y + dy[i];\\n\\n    if( !isValid(nx,ny) ) continue;\\n\\n    if( f[ny][nx] != 0 && f[ny][nx] != f[ep\\/W][ep%W] ) continue;\\n\\n    if( visited[ny][nx] ) continue;\\n\\n    visited[ny][nx] = true;\\n\\n    path.push_back(nx+ny*W);\\n\\n    dfs(nx,ny,cost+1,f,ep,path,F,S,i);\\n\\n    path.pop_back();\\n\\n    visited[ny][nx] = false;\\n\\n  }\\n\\n\\n\\n\\n\\n}\\n\\n\\n\\nint compute(int F,int S){\\n\\n  rep(i,H) rep(j,W) visited[i][j] = false;\\n\\n  deque<int> path;\\n\\n  path.push_back(sp[F][0]);\\n\\n  visited[sp[F][0]\\/W][sp[F][0]%W] = true;\\n\\n  simulate_min(m1,field,sp[F][0]);\\n\\n  simulate_min(m2,field,sp[S][0]);\\n\\n  dfs(sp[F][0]%W,sp[F][0]\\/W,0,field,sp[F][1],path,F,S,-IINF);\\n\\n}\\n\\n\\n\\nbool check(int a){\\n\\n  int x = a % W, y = a \\/ W;\\n\\n  return 0 == x || W-1 == x || 0 == y || H-1 == y;\\n\\n}\\n\\n\\n\\nint main(){\\n\\n  while( scanf(\\\"%d %d\\\",&H,&W), H|W ){\\n\\n    rep(i,2) sp[i].clear();\\n\\n    rep(i,10) X[i] = Y[i] = false;\\n\\n    int one = 0;\\n\\n    rep(i,H) rep(j,W) {\\n\\n      cin >> field[i][j];\\n\\n      if( field[i][j] == 1 ) X[j] = true, Y[i] = true, one++;\\n\\n      if( field[i][j] == 2 ) sp[0].push_back(j+i*W), X[j] = Y[i] = true;\\n\\n      if( field[i][j] == 3 ) sp[1].push_back(j+i*W), X[j] = Y[i] = true;\\n\\n    }\\n\\n    mini = H*W - one;\\n\\n    if( check(sp[0][1]) && check(sp[0][0]) && check(sp[1][1]) && check(sp[1][0]) ) {\\n\\n      vector<int> vec;\\n\\n      for(int i=0;i<W;i++) if( field[0][i] == 2 || field[0][i] == 3 ) vec.push_back(field[0][i]);\\n\\n      for(int i=1;i<H;i++) if( field[i][W-1] == 2 || field[i][W-1] == 3 ) vec.push_back(field[i][W-1]);\\n\\n      for(int i=W-2;i>=0;i--) if( field[H-1][i] == 2 || field[H-1][i] == 3 ) vec.push_back(field[H-1][i]);\\n\\n      for(int i=H-2;i>=1;i--) if( field[i][0] == 2 || field[i][0] == 3 ) vec.push_back(field[i][0]);\\n\\n      assert(vec.size() == 4);\\n\\n      if( !( vec[0] == vec[1] || vec[0] == vec[3] ) ) {\\n\\n        puts(\\\"0\\\");\\n\\n        continue;\\n\\n      }\\n\\n    }\\n\\n\\n\\n\\n\\n    compute(0,1);\\n\\n    if( mini == IINF ) puts(\\\"0\\\");\\n\\n    else printf(\\\"%d\\\\n\\\",mini);\\n\\n  }\\n\\n  return 0;\\n\\n}\",\"improved_code\":\"#include<bits\\/stdc++.h>\\n\\n\\n\\n#define REP(i,s,n) for(int i=s;i<n;i++)\\n\\n#define rep(i,n) REP(i,0,n)\\n\\n\\n\\nusing namespace std;\\n\\n\\n\\nconst int IINF = INT_MAX;\\n\\nconst int MAX_W = 9;\\n\\ntypedef pair<int,int> ii;\\n\\n\\n\\n\\n\\nint h,w;\\n\\nint field[10][10],indice[10][10];\\n\\nint dp[2][1<<((MAX_W+1)*2)];\\n\\nint dx[] = {1,0,-1,0};\\n\\nint dy[] = {0,1,0,-1};\\n\\n\\n\\ninline bool isValid(int x,int y) { return 0 <= x && x < w && 0 <= y && y < h; }\\n\\n\\n\\n#define SET(bitmask,index,value) ( bitmask = ( ( bitmask & ~(1<<(2*index)) & ~(1<<(2*index+1)) ) | ( value << (index*2) ) ) )\\n\\n#define GET(bitmask,x) ( ( ( bitmask >> ( 2 * x ) ) & 1 ) | ( ( ( bitmask >> (2*x+1) ) & 1) << 1 ) )\\n\\n#define FIX(bitmask) ((bitmask<<2)&((1<<(2*(w+1)))-1))\\n\\n#define STAR ( field[y][x] == 2 || field[y][x] == 3 )\\n\\n#define update(x,v) ( ( x == -1 ) ? ( x = v ) : ( x = min(x,v) ) )\\n\\n\\n\\n\\n\\nvoid compute(){\\n\\n\\n\\n  set<int> S;\\n\\n  vector<int> state;\\n\\n  rep(bitmask,(1<<((w+1)*2))) {\\n\\n    bool success = true;\\n\\n    for(int i=0;i<(w+1)*2;i+=2){\\n\\n      if( ( ( bitmask >> i ) & 1 ) && ( ( bitmask >> (i+1) ) & 1 ) ) { success = false; break; }\\n\\n    }\\n\\n    if( success ) state.push_back(bitmask), S.insert(bitmask);\\n\\n  }\\n\\n  memset(dp,-1,sizeof(dp));\\n\\n\\n\\n  int _size = state.size();\\n\\n  bool initter = true, phase = false;\\n\\n  int mini = IINF;\\n\\n  int encounter = 0;\\n\\n  rep(y,h){\\n\\n    rep(x,w){\\n\\n      \\/*\\n\\n      cout << x << \\\",\\\" << y << endl;\\n\\n      rep(i,_size){\\n\\n        if( dp[phase][state[i]] != -1 ) {\\n\\n          bitset<12> BIT(state[i]);\\n\\n          for(int j=0;j<12;j+=2){\\n\\n            cout << BIT[j] << BIT[j+1] << \\\" \\\";\\n\\n          } \\n\\n          cout << \\\" = \\\" << dp[phase][state[i]] << endl;\\n\\n        }\\n\\n      }\\n\\n      *\\/\\n\\n      if( field[y][x] == 2 || field[y][x] == 3 ) ++encounter;\\n\\n      if( initter ) dp[phase][0] = 0;\\n\\n\\n\\n      rep(i,_size){\\n\\n        int bitmask = state[i];\\n\\n\\n\\n        if( dp[phase][bitmask] == -1 ) continue;\\n\\n        bitset<12> bit(bitmask);\\n\\n\\n\\n\\n\\n        assert( S.count(bitmask));\\n\\n        \\/\\/ ?????????\\n\\n        if( field[y][x] == 1 ) {\\n\\n          int nbitmask = bitmask;\\n\\n          SET(nbitmask,x,0);\\n\\n          if( x == w-1 ) nbitmask = FIX(nbitmask);\\n\\n          update(dp[!phase][nbitmask],dp[phase][bitmask]);\\n\\n          continue;\\n\\n        }\\n\\n\\n\\n        int nbitmask;\\n\\n        \\/\\/ 0 0\\n\\n        if( !( ( GET(bitmask,x) == 0 ) && ( GET(bitmask,(x+1)) == 0 ) ) ) goto Label1;\\n\\n        if( STAR ) {\\n\\n          \\/\\/ x 0\\n\\n          if( y+1 < h && field[y+1][x] != 1 ) {\\n\\n            nbitmask = bitmask;\\n\\n            SET(nbitmask,x,((field[y][x]==3)+1));\\n\\n          if( x == w-1 ) nbitmask = FIX(nbitmask);\\n\\n\\n\\n            update(dp[!phase][nbitmask],dp[phase][bitmask]+1);\\n\\n          }\\n\\n          \\/\\/ 0 x\\n\\n          if( x+1 < w && field[y][x+1] != 1 ) {\\n\\n            nbitmask = bitmask;\\n\\n            SET(nbitmask,(x+1),((field[y][x]==3)+1));\\n\\n\\n\\n          if( x == w-1 ) nbitmask = FIX(nbitmask);\\n\\n\\n\\n          update(dp[!phase][nbitmask],dp[phase][bitmask]+1);\\n\\n          }\\n\\n        } else {\\n\\n          \\/\\/ x x\\n\\n          if( x+1 < w && y+1 < h && field[y][x+1] != 1 && field[y+1][x] != 1 ) {\\n\\n            REP(color,1,3){\\n\\n              nbitmask = bitmask;\\n\\n              SET(nbitmask,x,color);\\n\\n              SET(nbitmask,(x+1),color);\\n\\n              if( x == w-1 ) nbitmask = FIX(nbitmask);\\n\\n              update(dp[!phase][nbitmask],(dp[phase][bitmask]+1));\\n\\n            }\\n\\n          }\\n\\n          \\/\\/ 0 0\\n\\n          nbitmask = bitmask;\\n\\n          SET(nbitmask,x,0);\\n\\n          SET(nbitmask,(x+1),0);\\n\\n          if( x == w-1 ) nbitmask = FIX(nbitmask);\\n\\n          update(dp[!phase][nbitmask],dp[phase][bitmask]);\\n\\n        }\\n\\n\\n\\n        continue;\\n\\n      Label1:;\\n\\n        \\/\\/ x 0\\n\\n        \\/\\/ 0 x\\n\\n        int color;\\n\\n        if( !( ( GET(bitmask,x) && ( GET(bitmask,(x+1)) == 0 ) ) || ( GET(bitmask,(x+1)) && ( GET(bitmask,x) == 0 ) ) ) ) goto Label2;\\n\\n        color = GET(bitmask,x) | GET(bitmask,(x+1));\\n\\n        assert( color == 1 || color == 2 );\\n\\n        if( STAR ) {\\n\\n          \\/\\/ 0 0\\n\\n          if( ((color==1)?2:3) == field[y][x] ) {\\n\\n\\n\\n            nbitmask = bitmask;\\n\\n            SET(nbitmask,x,0);\\n\\n            SET(nbitmask,(x+1),0);\\n\\n          if( x == w-1 ) nbitmask = FIX(nbitmask);\\n\\n            update(dp[!phase][nbitmask],dp[phase][bitmask]+1);\\n\\n          }\\n\\n        } else {\\n\\n          \\/\\/ x 0\\n\\n          if( y+1 < h && field[y+1][x] != 1 ) {\\n\\n            nbitmask = bitmask;\\n\\n            SET(nbitmask,x,color);\\n\\n            SET(nbitmask,(x+1),0);\\n\\n          if( x == w-1 ) nbitmask = FIX(nbitmask);\\n\\n\\n\\n\\n\\n            update(dp[!phase][nbitmask],(dp[phase][bitmask]+1));\\n\\n          }\\n\\n          \\n\\n          \\/\\/ 0 x\\n\\n          if( x+1 < w && field[y][x+1] != 1 ) {\\n\\n            nbitmask = bitmask;\\n\\n            SET(nbitmask,x,0);\\n\\n            SET(nbitmask,(x+1),color);\\n\\n\\n\\n          if( x == w-1 ) nbitmask = FIX(nbitmask);\\n\\n            update(dp[!phase][nbitmask],(dp[phase][bitmask]+1));\\n\\n          }\\n\\n        }\\n\\n        continue;\\n\\n      Label2:;\\n\\n        \\/\\/ x x\\n\\n        if( !( GET(bitmask,x) && GET(bitmask,(x+1)) ) ) goto Label3;\\n\\n        if( GET(bitmask,x) != GET(bitmask,(x+1)) ) goto Label3;\\n\\n\\n\\n        color = GET(bitmask,x);\\n\\n        assert( color );\\n\\n        \\/\\/assert( GET(bitmask,x) == GET(bitmask,(x+1)) );\\n\\n        \\n\\n        \\/\\/ 0 0\\n\\n        if( !STAR ) {\\n\\n          nbitmask = bitmask;\\n\\n          SET(nbitmask,x,0);\\n\\n          SET(nbitmask,(x+1),0);\\n\\n          if( x == w-1 ) nbitmask = FIX(nbitmask);\\n\\n          update(dp[!phase][nbitmask],dp[phase][bitmask]+1);\\n\\n        }\\n\\n      Label3:;\\n\\n\\n\\n      }\\n\\n      if( field[y][x] == 2 || field[y][x] == 3 ) initter = false;\\n\\n      rep(i,_size) dp[phase][state[i]] = -1;\\n\\n      if( encounter >= 4 && dp[!phase][0] != -1 ) {\\n\\n        mini = min(mini,dp[!phase][0]);\\n\\n      }\\n\\n      phase = !phase;\\n\\n    }\\n\\n  }\\n\\n\\n\\n  \\/*\\n\\n  puts(\\\"final\\\");\\n\\n  rep(i,_size){\\n\\n    if( dp[phase][state[i]] != -1 ) {\\n\\n      bitset<12> BIT(state[i]);\\n\\n      for(int j=0;j<12;j+=2){\\n\\n        cout << BIT[j] << BIT[j+1] << \\\" \\\";\\n\\n      } \\n\\n      cout << \\\" = \\\" << dp[phase][state[i]] << endl;\\n\\n    }\\n\\n  }\\n\\n  *\\/\\n\\n  if( dp[phase][0] != -1 ) mini = min(mini,dp[phase][0]);\\n\\n  if( mini != IINF ) printf(\\\"%d\\\\n\\\",mini-2);\\n\\n  else puts(\\\"0\\\");\\n\\n}\\n\\n\\n\\nint main(){\\n\\n\\n\\n\\n\\n  while( scanf(\\\"%d %d\\\",&h,&w), h|w ){\\n\\n    rep(i,h) rep(j,w) scanf(\\\"%d\\\",&field[i][j]);\\n\\n    compute();\\n\\n  }\\n\\n  return 0;\\n\\n}\",\"slower_program\":\"#include<bits\\/stdc++.h>\\n\\n\\n\\n#define REP(i,s,n) for(int i=s;i<n;i++)\\n\\n#define rep(i,n) REP(i,0,n)\\n\\n\\n\\nusing namespace std;\\n\\n\\n\\nconst int IINF = INT_MAX;\\n\\n\\n\\nint H,W,mini,field[10][10],prev[10][10],mindist[10][10],nfield[10][10],mindist2[10][10],m1[10][10],m2[10][10];\\n\\nvector<int> sp[2];\\n\\nbool visited[10][10];\\n\\nint dx[] = {0,1,0,-1};\\n\\nint dy[] = {1,0,-1,0};\\n\\nbool X[10], Y[10];\\n\\n\\n\\nbool isValid(int x,int y) { return 0 <= x && x < W && 0 <= y && y < H; }\\n\\n\\n\\nvoid simulate_min(int dist[10][10],int f[10][10],int s){\\n\\n  rep(i,H) rep(j,W) dist[i][j] = IINF;\\n\\n  dist[s\\/W][s%W] = 0;\\n\\n  deque<int> deq;\\n\\n  deq.push_back(s);\\n\\n  while( !deq.empty() ){\\n\\n    int cur = deq.front(); deq.pop_front();\\n\\n    int x = cur % W, y = cur \\/ W;\\n\\n    if( x+y*W != s && f[y][x] == f[s\\/W][s%W] ) return;\\n\\n    rep(i,4){\\n\\n      int nx = x + dx[i], ny = y + dy[i];\\n\\n      if( !isValid(nx,ny) ) continue;\\n\\n      if( f[ny][nx] != 0 && f[ny][nx] != f[s\\/W][s%W] ) continue;\\n\\n      if( dist[ny][nx] == IINF ) {\\n\\n        dist[ny][nx] = dist[y][x] + 1;\\n\\n        deq.push_back(nx+ny*W);\\n\\n      }\\n\\n    }\\n\\n  }\\n\\n}\\nvoid dfs(int x,int y,int cost,int f[10][10],int ep,deque<int> &path,int F,int S,int prev){\\n\\n\\n\\n  if( cost >= mini ) return;\\n\\n  if( m2[sp[S][1]\\/W][sp[S][1]%W] + cost >= mini ) return;\\n  if( x + y * W == ep ) {\\n\\n    rep(i,H) rep(j,W) nfield[i][j] = field[i][j];\\n\\n    rep(i,path.size()) nfield[path[i]\\/W][path[i]%W] = 1;\\n\\n    simulate_min(mindist2,nfield,sp[S][0]);\\n\\n    if( mindist2[sp[S][1]\\/W][sp[S][1]%W] == IINF ) return;\\n\\n    mini = min(mini,(int)path.size()-1+mindist2[sp[S][1]\\/W][sp[S][1]%W]);\\n\\n    return;\\n\\n  }\\n\\n  int cnt = 0;\\n\\n  rep(i,4) {\\n\\n    int nx = x + dx[i], ny = y + dy[i];\\n\\n    if( !isValid(nx,ny) ) continue;\\n\\n    cnt += visited[ny][nx];\\n\\n }\\n\\n  if( cnt >= 2 ) return;\\n  {\\n\\n    rep(i,4){\\n\\n      if( i == (prev+2) % 4 ) continue;\\n\\n      int nx = x, ny = y;\\n\\n      nx += dx[i], ny += dy[i];\\n\\n      if( !isValid(nx,ny) ) continue;\\n\\n      if( f[ny][nx] != 0 && f[ny][nx] != f[ep\\/W][ep%W] ) continue;\\n\\n      if( visited[ny][nx] ) continue;\\n\\n      while(1){\\n\\n        nx += dx[i], ny += dy[i];\\n\\n        if( !isValid(nx,ny) ) break;\\n\\n        if( f[ny][nx] != 0 && f[ny][nx] != f[ep\\/W][ep%W] ) break;\\n\\n        if( X[nx] || Y[ny] ) break;\\n\\n        if( visited[ny][nx] ) return;\\n\\n      }\\n\\n    }\\n\\n  }\\n  rep(i,4) {\\n\\n    if( i == (prev+2) % 4 ) continue;\\n\\n    int nx = x + dx[i], ny = y + dy[i];\\n\\n    if( !isValid(nx,ny) ) continue;\\n\\n    if( f[ny][nx] != 0 && f[ny][nx] != f[ep\\/W][ep%W] ) continue;\\n\\n    if( visited[ny][nx] ) continue;\\n\\n    visited[ny][nx] = true;\\n\\n    path.push_back(nx+ny*W);\\n\\n    dfs(nx,ny,cost+1,f,ep,path,F,S,i);\\n\\n    path.pop_back();\\n\\n    visited[ny][nx] = false;\\n\\n  }\\n}\\n\\n\\n\\nint compute(int F,int S){\\n\\n  rep(i,H) rep(j,W) visited[i][j] = false;\\n\\n  deque<int> path;\\n\\n  path.push_back(sp[F][0]);\\n\\n  visited[sp[F][0]\\/W][sp[F][0]%W] = true;\\n\\n  simulate_min(m1,field,sp[F][0]);\\n\\n  simulate_min(m2,field,sp[S][0]);\\n\\n  dfs(sp[F][0]%W,sp[F][0]\\/W,0,field,sp[F][1],path,F,S,-IINF);\\n\\n}\\n\\n\\n\\nbool check(int a){\\n\\n  int x = a % W, y = a \\/ W;\\n\\n  return 0 == x || W-1 == x || 0 == y || H-1 == y;\\n\\n}\\n\\n\\n\\nint main(){\\n\\n  while( scanf(\\\"%d %d\\\",&H,&W), H|W ){\\n\\n    rep(i,2) sp[i].clear();\\n\\n    rep(i,10) X[i] = Y[i] = false;\\n\\n    int one = 0;\\n\\n    rep(i,H) rep(j,W) {\\n\\n      cin >> field[i][j];\\n\\n      if( field[i][j] == 1 ) X[j] = true, Y[i] = true, one++;\\n\\n      if( field[i][j] == 2 ) sp[0].push_back(j+i*W), X[j] = Y[i] = true;\\n\\n      if( field[i][j] == 3 ) sp[1].push_back(j+i*W), X[j] = Y[i] = true;\\n\\n    }\\n\\n    mini = H*W - one;\\n\\n    if( check(sp[0][1]) && check(sp[0][0]) && check(sp[1][1]) && check(sp[1][0]) ) {\\n\\n      vector<int> vec;\\n\\n      for(int i=0;i<W;i++) if( field[0][i] == 2 || field[0][i] == 3 ) vec.push_back(field[0][i]);\\n\\n      for(int i=1;i<H;i++) if( field[i][W-1] == 2 || field[i][W-1] == 3 ) vec.push_back(field[i][W-1]);\\n\\n      for(int i=W-2;i>=0;i--) if( field[H-1][i] == 2 || field[H-1][i] == 3 ) vec.push_back(field[H-1][i]);\\n\\n      for(int i=H-2;i>=1;i--) if( field[i][0] == 2 || field[i][0] == 3 ) vec.push_back(field[i][0]);\\n\\n      assert(vec.size() == 4);\\n\\n      if( !( vec[0] == vec[1] || vec[0] == vec[3] ) ) {\\n\\n        puts(\\\"0\\\");\\n\\n        continue;\\n\\n      }\\n\\n    }\\n    compute(0,1);\\n\\n    if( mini == IINF ) puts(\\\"0\\\");\\n\\n    else printf(\\\"%d\\\\n\\\",mini);\\n\\n  }\\n\\n  return 0;\\n\\n}\",\"input_ref\":\"#include<bits\\/stdc++.h>\\n\\n\\n\\n#define REP(i,s,n) for(int i=s;i<n;i++)\\n\\n#define rep(i,n) REP(i,0,n)\\n\\n\\n\\nusing namespace std;\\n\\n\\n\\nconst int IINF = INT_MAX;\\n\\n\\n\\nint H,W,mini,field[10][10],prev[10][10],mindist[10][10],nfield[10][10],mindist2[10][10],m1[10][10],m2[10][10];\\n\\nvector<int> sp[2];\\n\\nbool visited[10][10];\\n\\nint dx[] = {0,1,0,-1};\\n\\nint dy[] = {1,0,-1,0};\\n\\nbool X[10], Y[10];\\n\\n\\n\\nbool isValid(int x,int y) { return 0 <= x && x < W && 0 <= y && y < H; }\\n\\n\\n\\nvoid simulate_min(int dist[10][10],int f[10][10],int s){\\n\\n  rep(i,H) rep(j,W) dist[i][j] = IINF;\\n\\n  dist[s\\/W][s%W] = 0;\\n\\n  deque<int> deq;\\n\\n  deq.push_back(s);\\n\\n  while( !deq.empty() ){\\n\\n    int cur = deq.front(); deq.pop_front();\\n\\n    int x = cur % W, y = cur \\/ W;\\n\\n    if( x+y*W != s && f[y][x] == f[s\\/W][s%W] ) return;\\n\\n    rep(i,4){\\n\\n      int nx = x + dx[i], ny = y + dy[i];\\n\\n      if( !isValid(nx,ny) ) continue;\\n\\n      if( f[ny][nx] != 0 && f[ny][nx] != f[s\\/W][s%W] ) continue;\\n\\n      if( dist[ny][nx] == IINF ) {\\n\\n        dist[ny][nx] = dist[y][x] + 1;\\n\\n        deq.push_back(nx+ny*W);\\n\\n      }\\n\\n    }\\n\\n  }\\n\\n}\\n\\n\\n\\n\\n\\nvoid dfs(int x,int y,int cost,int f[10][10],int ep,deque<int> &path,int F,int S,int prev){\\n\\n\\n\\n  if( cost >= mini ) return;\\n\\n  if( m2[sp[S][1]\\/W][sp[S][1]%W] + cost >= mini ) return;\\n\\n\\n\\n\\n\\n  if( x + y * W == ep ) {\\n\\n    rep(i,H) rep(j,W) nfield[i][j] = field[i][j];\\n\\n    rep(i,path.size()) nfield[path[i]\\/W][path[i]%W] = 1;\\n\\n    simulate_min(mindist2,nfield,sp[S][0]);\\n\\n    if( mindist2[sp[S][1]\\/W][sp[S][1]%W] == IINF ) return;\\n\\n    mini = min(mini,(int)path.size()-1+mindist2[sp[S][1]\\/W][sp[S][1]%W]);\\n\\n    return;\\n\\n  }\\n\\n  int cnt = 0;\\n\\n  rep(i,4) {\\n\\n    int nx = x + dx[i], ny = y + dy[i];\\n\\n    if( !isValid(nx,ny) ) continue;\\n\\n    cnt += visited[ny][nx];\\n\\n }\\n\\n  if( cnt >= 2 ) return;\\n\\n\\n\\n\\n\\n  {\\n\\n    rep(i,4){\\n\\n      if( i == (prev+2) % 4 ) continue;\\n\\n      int nx = x, ny = y;\\n\\n      nx += dx[i], ny += dy[i];\\n\\n      if( !isValid(nx,ny) ) continue;\\n\\n      if( f[ny][nx] != 0 && f[ny][nx] != f[ep\\/W][ep%W] ) continue;\\n\\n      if( visited[ny][nx] ) continue;\\n\\n      while(1){\\n\\n        nx += dx[i], ny += dy[i];\\n\\n        if( !isValid(nx,ny) ) break;\\n\\n        if( f[ny][nx] != 0 && f[ny][nx] != f[ep\\/W][ep%W] ) break;\\n\\n        if( X[nx] || Y[ny] ) break;\\n\\n        if( visited[ny][nx] ) return;\\n\\n      }\\n\\n    }\\n\\n  }\\n\\n\\n\\n\\n\\n  rep(i,4) {\\n\\n    if( i == (prev+2) % 4 ) continue;\\n\\n    int nx = x + dx[i], ny = y + dy[i];\\n\\n    if( !isValid(nx,ny) ) continue;\\n\\n    if( f[ny][nx] != 0 && f[ny][nx] != f[ep\\/W][ep%W] ) continue;\\n\\n    if( visited[ny][nx] ) continue;\\n\\n    visited[ny][nx] = true;\\n\\n    path.push_back(nx+ny*W);\\n\\n    dfs(nx,ny,cost+1,f,ep,path,F,S,i);\\n\\n    path.pop_back();\\n\\n    visited[ny][nx] = false;\\n\\n  }\\n\\n\\n\\n\\n\\n}\\n\\n\\n\\nint compute(int F,int S){\\n\\n  rep(i,H) rep(j,W) visited[i][j] = false;\\n\\n  deque<int> path;\\n\\n  path.push_back(sp[F][0]);\\n\\n  visited[sp[F][0]\\/W][sp[F][0]%W] = true;\\n\\n  simulate_min(m1,field,sp[F][0]);\\n\\n  simulate_min(m2,field,sp[S][0]);\\n\\n  dfs(sp[F][0]%W,sp[F][0]\\/W,0,field,sp[F][1],path,F,S,-IINF);\\n\\n}\\n\\n\\n\\nbool check(int a){\\n\\n  int x = a % W, y = a \\/ W;\\n\\n  return 0 == x || W-1 == x || 0 == y || H-1 == y;\\n\\n}\\n\\n\\n\\nint main(){\\n\\n  while( scanf(\\\"%d %d\\\",&H,&W), H|W ){\\n\\n    rep(i,2) sp[i].clear();\\n\\n    rep(i,10) X[i] = Y[i] = false;\\n\\n    int one = 0;\\n\\n    rep(i,H) rep(j,W) {\\n\\n      cin >> field[i][j];\\n\\n      if( field[i][j] == 1 ) X[j] = true, Y[i] = true, one++;\\n\\n      if( field[i][j] == 2 ) sp[0].push_back(j+i*W), X[j] = Y[i] = true;\\n\\n      if( field[i][j] == 3 ) sp[1].push_back(j+i*W), X[j] = Y[i] = true;\\n\\n    }\\n\\n    mini = H*W - one;\\n\\n    if( check(sp[0][1]) && check(sp[0][0]) && check(sp[1][1]) && check(sp[1][0]) ) {\\n\\n      vector<int> vec;\\n\\n      for(int i=0;i<W;i++) if( field[0][i] == 2 || field[0][i] == 3 ) vec.push_back(field[0][i]);\\n\\n      for(int i=1;i<H;i++) if( field[i][W-1] == 2 || field[i][W-1] == 3 ) vec.push_back(field[i][W-1]);\\n\\n      for(int i=W-2;i>=0;i--) if( field[H-1][i] == 2 || field[H-1][i] == 3 ) vec.push_back(field[H-1][i]);\\n\\n      for(int i=H-2;i>=1;i--) if( field[i][0] == 2 || field[i][0] == 3 ) vec.push_back(field[i][0]);\\n\\n      assert(vec.size() == 4);\\n\\n      if( !( vec[0] == vec[1] || vec[0] == vec[3] ) ) {\\n\\n        puts(\\\"0\\\");\\n\\n        continue;\\n\\n      }\\n\\n    }\\n\\n\\n\\n\\n\\n    compute(0,1);\\n\\n    if( mini == IINF ) puts(\\\"0\\\");\\n\\n    else printf(\\\"%d\\\\n\\\",mini);\\n\\n  }\\n\\n  return 0;\\n\\n}\",\"problem_id\":\"p00849\",\"submission_id_v0\":\"s3\",\"cpu_time_v0\":1,\"cpu_time_v1\":1,\"input_time_mean\":1233.6664199829,\"input_time_std\":1.2607574463,\"input_acc\":1.0,\"reference_time_mean\":694.2193508148,\"reference_time_std\":0.8268356323,\"reference_acc\":1.0,\"improved_code_time_mean\":694.4094896317,\"improved_code_time_std\":1.0861158371,\"improved_code_acc\":1.0}\n5:{\"input\":\"#include<bits\\/stdc++.h>\\n\\n\\n\\n#define REP(i,s,n) for(int i=s;i<n;i++)\\n\\n#define rep(i,n) REP(i,0,n)\\n\\n\\n\\nusing namespace std;\\n\\n\\n\\nconst int IINF = INT_MAX;\\n\\nconst int MAX_W = 9;\\n\\ntypedef pair<int,int> ii;\\n\\n\\n\\n\\n\\nint h,w;\\n\\nint field[10][10],indice[10][10];\\n\\nint dp[2][1<<((MAX_W+1)*2)];\\n\\nint dx[] = {1,0,-1,0};\\n\\nint dy[] = {0,1,0,-1};\\n\\n\\n\\ninline bool isValid(int x,int y) { return 0 <= x && x < w && 0 <= y && y < h; }\\n\\n\\n\\n#define SET(bitmask,index,value) ( bitmask = ( ( bitmask & ~(1<<(2*index)) & ~(1<<(2*index+1)) ) | ( value << (index*2) ) ) )\\n\\n#define GET(bitmask,x) ( ( ( bitmask >> ( 2 * x ) ) & 1 ) | ( ( ( bitmask >> (2*x+1) ) & 1) << 1 ) )\\n\\n#define FIX(bitmask) ((bitmask<<2)&((1<<(2*(w+1)))-1))\\n\\n#define STAR ( field[y][x] == 2 || field[y][x] == 3 )\\n\\n#define update(x,v) ( ( x == -1 ) ? ( x = v ) : ( x = min(x,v) ) )\\n\\n\\n\\n\\n\\nvoid compute(){\\n\\n\\n\\n  set<int> S;\\n\\n  vector<int> state;\\n\\n  rep(bitmask,(1<<((w+1)*2))) {\\n\\n    bool success = true;\\n\\n    for(int i=0;i<(w+1)*2;i+=2){\\n\\n      if( ( ( bitmask >> i ) & 1 ) && ( ( bitmask >> (i+1) ) & 1 ) ) { success = false; break; }\\n\\n    }\\n\\n    if( success ) state.push_back(bitmask), S.insert(bitmask);\\n\\n  }\\n\\n  memset(dp,-1,sizeof(dp));\\n\\n\\n\\n  int _size = state.size();\\n\\n  bool initter = true, phase = false;\\n\\n  int mini = IINF;\\n\\n  int encounter = 0;\\n\\n  rep(y,h){\\n\\n    rep(x,w){\\n\\n      \\/*\\n\\n      cout << x << \\\",\\\" << y << endl;\\n\\n      rep(i,_size){\\n\\n        if( dp[phase][state[i]] != -1 ) {\\n\\n          bitset<12> BIT(state[i]);\\n\\n          for(int j=0;j<12;j+=2){\\n\\n            cout << BIT[j] << BIT[j+1] << \\\" \\\";\\n\\n          } \\n\\n          cout << \\\" = \\\" << dp[phase][state[i]] << endl;\\n\\n        }\\n\\n      }\\n\\n      *\\/\\n\\n      if( field[y][x] == 2 || field[y][x] == 3 ) ++encounter;\\n\\n      if( initter ) dp[phase][0] = 0;\\n\\n\\n\\n      rep(i,_size){\\n\\n        int bitmask = state[i];\\n\\n\\n\\n        if( dp[phase][bitmask] == -1 ) continue;\\n\\n        bitset<12> bit(bitmask);\\n\\n\\n\\n\\n\\n        assert( S.count(bitmask));\\n\\n        \\/\\/ ?????????\\n\\n        if( field[y][x] == 1 ) {\\n\\n          int nbitmask = bitmask;\\n\\n          SET(nbitmask,x,0);\\n\\n          if( x == w-1 ) nbitmask = FIX(nbitmask);\\n\\n          update(dp[!phase][nbitmask],dp[phase][bitmask]);\\n\\n          continue;\\n\\n        }\\n\\n\\n\\n        int nbitmask;\\n\\n        \\/\\/ 0 0\\n\\n        if( !( ( GET(bitmask,x) == 0 ) && ( GET(bitmask,(x+1)) == 0 ) ) ) goto Label1;\\n\\n        if( STAR ) {\\n\\n          \\/\\/ x 0\\n\\n          if( y+1 < h && field[y+1][x] != 1 ) {\\n\\n            nbitmask = bitmask;\\n\\n            SET(nbitmask,x,((field[y][x]==3)+1));\\n\\n          if( x == w-1 ) nbitmask = FIX(nbitmask);\\n\\n\\n\\n            update(dp[!phase][nbitmask],dp[phase][bitmask]+1);\\n\\n          }\\n\\n          \\/\\/ 0 x\\n\\n          if( x+1 < w && field[y][x+1] != 1 ) {\\n\\n            nbitmask = bitmask;\\n\\n            SET(nbitmask,(x+1),((field[y][x]==3)+1));\\n\\n\\n\\n          if( x == w-1 ) nbitmask = FIX(nbitmask);\\n\\n\\n\\n          update(dp[!phase][nbitmask],dp[phase][bitmask]+1);\\n\\n          }\\n\\n        } else {\\n\\n          \\/\\/ x x\\n\\n          if( x+1 < w && y+1 < h && field[y][x+1] != 1 && field[y+1][x] != 1 ) {\\n\\n            REP(color,1,3){\\n\\n              nbitmask = bitmask;\\n\\n              SET(nbitmask,x,color);\\n\\n              SET(nbitmask,(x+1),color);\\n\\n              if( x == w-1 ) nbitmask = FIX(nbitmask);\\n\\n              update(dp[!phase][nbitmask],(dp[phase][bitmask]+1));\\n\\n            }\\n\\n          }\\n\\n          \\/\\/ 0 0\\n\\n          nbitmask = bitmask;\\n\\n          SET(nbitmask,x,0);\\n\\n          SET(nbitmask,(x+1),0);\\n\\n          if( x == w-1 ) nbitmask = FIX(nbitmask);\\n\\n          update(dp[!phase][nbitmask],dp[phase][bitmask]);\\n\\n        }\\n\\n\\n\\n        continue;\\n\\n      Label1:;\\n\\n        \\/\\/ x 0\\n\\n        \\/\\/ 0 x\\n\\n        int color;\\n\\n        if( !( ( GET(bitmask,x) && ( GET(bitmask,(x+1)) == 0 ) ) || ( GET(bitmask,(x+1)) && ( GET(bitmask,x) == 0 ) ) ) ) goto Label2;\\n\\n        color = GET(bitmask,x) | GET(bitmask,(x+1));\\n\\n        assert( color == 1 || color == 2 );\\n\\n        if( STAR ) {\\n\\n          \\/\\/ 0 0\\n\\n          if( ((color==1)?2:3) == field[y][x] ) {\\n\\n\\n\\n            nbitmask = bitmask;\\n\\n            SET(nbitmask,x,0);\\n\\n            SET(nbitmask,(x+1),0);\\n\\n          if( x == w-1 ) nbitmask = FIX(nbitmask);\\n\\n            update(dp[!phase][nbitmask],dp[phase][bitmask]+1);\\n\\n          }\\n\\n        } else {\\n\\n          \\/\\/ x 0\\n\\n          if( y+1 < h && field[y+1][x] != 1 ) {\\n\\n            nbitmask = bitmask;\\n\\n            SET(nbitmask,x,color);\\n\\n            SET(nbitmask,(x+1),0);\\n\\n          if( x == w-1 ) nbitmask = FIX(nbitmask);\\n\\n\\n\\n\\n\\n            update(dp[!phase][nbitmask],(dp[phase][bitmask]+1));\\n\\n          }\\n\\n          \\n\\n          \\/\\/ 0 x\\n\\n          if( x+1 < w && field[y][x+1] != 1 ) {\\n\\n            nbitmask = bitmask;\\n\\n            SET(nbitmask,x,0);\\n\\n            SET(nbitmask,(x+1),color);\\n\\n\\n\\n          if( x == w-1 ) nbitmask = FIX(nbitmask);\\n\\n            update(dp[!phase][nbitmask],(dp[phase][bitmask]+1));\\n\\n          }\\n\\n        }\\n\\n        continue;\\n\\n      Label2:;\\n\\n        \\/\\/ x x\\n\\n        if( !( GET(bitmask,x) && GET(bitmask,(x+1)) ) ) goto Label3;\\n\\n        if( GET(bitmask,x) != GET(bitmask,(x+1)) ) goto Label3;\\n\\n\\n\\n        color = GET(bitmask,x);\\n\\n        assert( color );\\n\\n        \\/\\/assert( GET(bitmask,x) == GET(bitmask,(x+1)) );\\n\\n        \\n\\n        \\/\\/ 0 0\\n\\n        if( !STAR ) {\\n\\n          nbitmask = bitmask;\\n\\n          SET(nbitmask,x,0);\\n\\n          SET(nbitmask,(x+1),0);\\n\\n          if( x == w-1 ) nbitmask = FIX(nbitmask);\\n\\n          update(dp[!phase][nbitmask],dp[phase][bitmask]+1);\\n\\n        }\\n\\n      Label3:;\\n\\n\\n\\n      }\\n\\n      if( field[y][x] == 2 || field[y][x] == 3 ) initter = false;\\n\\n      rep(i,_size) dp[phase][state[i]] = -1;\\n\\n      if( encounter >= 4 && dp[!phase][0] != -1 ) {\\n\\n        mini = min(mini,dp[!phase][0]);\\n\\n      }\\n\\n      phase = !phase;\\n\\n    }\\n\\n  }\\n\\n\\n\\n  \\/*\\n\\n  puts(\\\"final\\\");\\n\\n  rep(i,_size){\\n\\n    if( dp[phase][state[i]] != -1 ) {\\n\\n      bitset<12> BIT(state[i]);\\n\\n      for(int j=0;j<12;j+=2){\\n\\n        cout << BIT[j] << BIT[j+1] << \\\" \\\";\\n\\n      } \\n\\n      cout << \\\" = \\\" << dp[phase][state[i]] << endl;\\n\\n    }\\n\\n  }\\n\\n  *\\/\\n\\n  if( dp[phase][0] != -1 ) mini = min(mini,dp[phase][0]);\\n\\n  if( mini != IINF ) printf(\\\"%d\\\\n\\\",mini-2);\\n\\n  else puts(\\\"0\\\");\\n\\n}\\n\\n\\n\\nint main(){\\n\\n\\n\\n\\n\\n  while( scanf(\\\"%d %d\\\",&h,&w), h|w ){\\n\\n    rep(i,h) rep(j,w) scanf(\\\"%d\\\",&field[i][j]);\\n\\n    compute();\\n\\n  }\\n\\n  return 0;\\n\\n}\",\"improved_code\":\"#include<bits\\/stdc++.h>\\n\\n\\n\\n#define REP(i,s,n) for(int i=s;i<n;i++)\\n\\n#define rep(i,n) REP(i,0,n)\\n\\n\\n\\nusing namespace std;\\n\\n\\n\\nconst int IINF = INT_MAX;\\n\\nconst int MAX_W = 9;\\n\\ntypedef pair<int,int> ii;\\n\\n\\n\\n\\n\\nint h,w;\\n\\nint field[10][10],indice[10][10];\\n\\nint dp[2][1<<((MAX_W+1)*2)];\\n\\nint dx[] = {1,0,-1,0};\\n\\nint dy[] = {0,1,0,-1};\\n\\n\\n\\ninline bool isValid(int x,int y) { return 0 <= x && x < w && 0 <= y && y < h; }\\n\\n\\n\\n#define SET(bitmask,index,value) ( bitmask = ( ( bitmask & ~(1<<(2*index)) & ~(1<<(2*index+1)) ) | ( value << (index*2) ) ) )\\n\\n#define GET(bitmask,x) ( ( ( bitmask >> ( 2 * x ) ) & 1 ) | ( ( ( bitmask >> (2*x+1) ) & 1) << 1 ) )\\n\\n#define FIX(bitmask) ((bitmask<<2)&((1<<(2*(w+1)))-1))\\n\\n#define STAR ( field[y][x] == 2 || field[y][x] == 3 )\\n\\n#define update(x,v) ( ( x == -1 ) ? ( x = v ) : ( x = min(x,v) ) )\\n\\n\\n\\n\\n\\nvoid compute(){\\n\\n\\n\\n  vector<int> state;\\n\\n  rep(bitmask,(1<<((w+1)*2))) {\\n\\n    bool success = true;\\n\\n    for(int i=0;i<(w+1)*2;i+=2) if( ( ( bitmask >> i ) & 1 ) && ( ( bitmask >> (i+1) ) & 1 ) ) { success = false; break; }\\n\\n    if( success ) state.push_back(bitmask);\\n\\n  }\\n\\n  memset(dp,-1,sizeof(dp));\\n\\n\\n\\n  int _size = state.size();\\n\\n  bool initter = true, phase = false;\\n\\n  int mini = IINF;\\n\\n  int encounter = 0;\\n\\n  rep(y,h){\\n\\n    rep(x,w){\\n\\n\\n\\n      if( field[y][x] == 2 || field[y][x] == 3 ) ++encounter;\\n\\n      if( initter ) dp[phase][0] = 0;\\n\\n\\n\\n      rep(i,_size){\\n\\n        int bitmask = state[i];\\n\\n\\n\\n        if( dp[phase][bitmask] == -1 ) continue;\\n\\n\\n\\n        \\/\\/ ?????????\\n\\n        if( field[y][x] == 1 ) {\\n\\n          int nbitmask = bitmask;\\n\\n          SET(nbitmask,x,0);\\n\\n          if( x == w-1 ) nbitmask = FIX(nbitmask);\\n\\n          update(dp[!phase][nbitmask],dp[phase][bitmask]);\\n\\n          continue;\\n\\n        }\\n\\n\\n\\n        int nbitmask;\\n\\n        \\/\\/ 0 0\\n\\n        if( !( ( GET(bitmask,x) == 0 ) && ( GET(bitmask,(x+1)) == 0 ) ) ) goto Label1;\\n\\n        if( STAR ) {\\n\\n          \\/\\/ x 0\\n\\n          if( y+1 < h && field[y+1][x] != 1 ) {\\n\\n            nbitmask = bitmask;\\n\\n            SET(nbitmask,x,((field[y][x]==3)+1));\\n\\n            if( x == w-1 ) nbitmask = FIX(nbitmask);\\n\\n          \\n\\n            update(dp[!phase][nbitmask],dp[phase][bitmask]+1);\\n\\n          }\\n\\n          \\/\\/ 0 x\\n\\n          if( x+1 < w && field[y][x+1] != 1 ) {\\n\\n            nbitmask = bitmask;\\n\\n            SET(nbitmask,(x+1),((field[y][x]==3)+1));\\n\\n\\n\\n            if( x == w-1 ) nbitmask = FIX(nbitmask);\\n\\n\\n\\n            update(dp[!phase][nbitmask],dp[phase][bitmask]+1);\\n\\n          }\\n\\n        } else {\\n\\n          \\/\\/ x x\\n\\n          if( x+1 < w && y+1 < h && field[y][x+1] != 1 && field[y+1][x] != 1 ) {\\n\\n            REP(color,1,3){\\n\\n              nbitmask = bitmask;\\n\\n              SET(nbitmask,x,color);\\n\\n              SET(nbitmask,(x+1),color);\\n\\n              if( x == w-1 ) nbitmask = FIX(nbitmask);\\n\\n              update(dp[!phase][nbitmask],(dp[phase][bitmask]+1));\\n\\n            }\\n\\n          }\\n\\n          \\/\\/ 0 0\\n\\n          nbitmask = bitmask;\\n\\n          SET(nbitmask,x,0);\\n\\n          SET(nbitmask,(x+1),0);\\n\\n          if( x == w-1 ) nbitmask = FIX(nbitmask);\\n\\n          update(dp[!phase][nbitmask],dp[phase][bitmask]);\\n\\n        }\\n\\n\\n\\n        continue;\\n\\n      Label1:;\\n\\n        \\/\\/ x 0\\n\\n        \\/\\/ 0 x\\n\\n        int color;\\n\\n        if( !( ( GET(bitmask,x) && ( GET(bitmask,(x+1)) == 0 ) ) || ( GET(bitmask,(x+1)) && ( GET(bitmask,x) == 0 ) ) ) ) goto Label2;\\n\\n        color = GET(bitmask,x) | GET(bitmask,(x+1));\\n\\n        if( STAR ) {\\n\\n          \\/\\/ 0 0\\n\\n          if( ((color==1)?2:3) == field[y][x] ) {\\n\\n            nbitmask = bitmask;\\n\\n            SET(nbitmask,x,0);\\n\\n            SET(nbitmask,(x+1),0);\\n\\n            if( x == w-1 ) nbitmask = FIX(nbitmask);\\n\\n            update(dp[!phase][nbitmask],dp[phase][bitmask]+1);\\n\\n          }\\n\\n        } else {\\n\\n          \\/\\/ x 0\\n\\n          if( y+1 < h && field[y+1][x] != 1 ) {\\n\\n            nbitmask = bitmask;\\n\\n            SET(nbitmask,x,color);\\n\\n            SET(nbitmask,(x+1),0);\\n\\n            if( x == w-1 ) nbitmask = FIX(nbitmask);\\n\\n\\n\\n\\n\\n            update(dp[!phase][nbitmask],(dp[phase][bitmask]+1));\\n\\n          }\\n\\n          \\n\\n          \\/\\/ 0 x\\n\\n          if( x+1 < w && field[y][x+1] != 1 ) {\\n\\n            nbitmask = bitmask;\\n\\n            SET(nbitmask,x,0);\\n\\n            SET(nbitmask,(x+1),color);\\n\\n\\n\\n            if( x == w-1 ) nbitmask = FIX(nbitmask);\\n\\n            update(dp[!phase][nbitmask],(dp[phase][bitmask]+1));\\n\\n          }\\n\\n        }\\n\\n        continue;\\n\\n      Label2:;\\n\\n        \\/\\/ x x\\n\\n        if( !( GET(bitmask,x) && GET(bitmask,(x+1)) ) ) goto Label3;\\n\\n        if( GET(bitmask,x) != GET(bitmask,(x+1)) ) goto Label3;\\n\\n\\n\\n        color = GET(bitmask,x);\\n\\n        \\n\\n        \\/\\/ 0 0\\n\\n        if( !STAR ) {\\n\\n          nbitmask = bitmask;\\n\\n          SET(nbitmask,x,0);\\n\\n          SET(nbitmask,(x+1),0);\\n\\n          if( x == w-1 ) nbitmask = FIX(nbitmask);\\n\\n          update(dp[!phase][nbitmask],dp[phase][bitmask]+1);\\n\\n        }\\n\\n      Label3:;\\n\\n\\n\\n      }\\n\\n      if( field[y][x] == 2 || field[y][x] == 3 ) initter = false;\\n\\n      rep(i,_size) dp[phase][state[i]] = -1;\\n\\n      if( encounter >= 4 && dp[!phase][0] != -1 ) {\\n\\n        mini = min(mini,dp[!phase][0]);\\n\\n      }\\n\\n      phase = !phase;\\n\\n    }\\n\\n  }\\n\\n  if( dp[phase][0] != -1 ) mini = min(mini,dp[phase][0]);\\n\\n  if( mini != IINF ) printf(\\\"%d\\\\n\\\",mini-2);\\n\\n  else puts(\\\"0\\\");\\n\\n}\\n\\n\\n\\nint main(){\\n\\n  while( scanf(\\\"%d %d\\\",&h,&w), h|w ){\\n\\n    rep(i,h) rep(j,w) scanf(\\\"%d\\\",&field[i][j]);\\n\\n    compute();\\n\\n  }\\n\\n  return 0;\\n\\n}\",\"slower_program\":\"#include<bits\\/stdc++.h>\\n\\n\\n\\n#define REP(i,s,n) for(int i=s;i<n;i++)\\n\\n#define rep(i,n) REP(i,0,n)\\n\\n\\n\\nusing namespace std;\\n\\n\\n\\nconst int IINF = INT_MAX;\\n\\nconst int MAX_W = 9;\\n\\ntypedef pair<int,int> ii;\\nint h,w;\\n\\nint field[10][10],indice[10][10];\\n\\nint dp[2][1<<((MAX_W+1)*2)];\\n\\nint dx[] = {1,0,-1,0};\\n\\nint dy[] = {0,1,0,-1};\\n\\n\\n\\ninline bool isValid(int x,int y) { return 0 <= x && x < w && 0 <= y && y < h; }\\n\\n\\n\\n#define SET(bitmask,index,value) ( bitmask = ( ( bitmask & ~(1<<(2*index)) & ~(1<<(2*index+1)) ) | ( value << (index*2) ) ) )\\n\\n#define GET(bitmask,x) ( ( ( bitmask >> ( 2 * x ) ) & 1 ) | ( ( ( bitmask >> (2*x+1) ) & 1) << 1 ) )\\n\\n#define FIX(bitmask) ((bitmask<<2)&((1<<(2*(w+1)))-1))\\n\\n#define STAR ( field[y][x] == 2 || field[y][x] == 3 )\\n\\n#define update(x,v) ( ( x == -1 ) ? ( x = v ) : ( x = min(x,v) ) )\\nvoid compute(){\\n\\n\\n\\n  set<int> S;\\n\\n  vector<int> state;\\n\\n  rep(bitmask,(1<<((w+1)*2))) {\\n\\n    bool success = true;\\n\\n    for(int i=0;i<(w+1)*2;i+=2){\\n\\n      if( ( ( bitmask >> i ) & 1 ) && ( ( bitmask >> (i+1) ) & 1 ) ) { success = false; break; }\\n\\n    }\\n\\n    if( success ) state.push_back(bitmask), S.insert(bitmask);\\n\\n  }\\n\\n  memset(dp,-1,sizeof(dp));\\n\\n\\n\\n  int _size = state.size();\\n\\n  bool initter = true, phase = false;\\n\\n  int mini = IINF;\\n\\n  int encounter = 0;\\n\\n  rep(y,h){\\n\\n    rep(x,w){\\n\\n      \\/*\\n\\n      cout << x << \\\",\\\" << y << endl;\\n\\n      rep(i,_size){\\n\\n        if( dp[phase][state[i]] != -1 ) {\\n\\n          bitset<12> BIT(state[i]);\\n\\n          for(int j=0;j<12;j+=2){\\n\\n            cout << BIT[j] << BIT[j+1] << \\\" \\\";\\n\\n          } \\n\\n          cout << \\\" = \\\" << dp[phase][state[i]] << endl;\\n\\n        }\\n\\n      }\\n\\n      *\\/\\n\\n      if( field[y][x] == 2 || field[y][x] == 3 ) ++encounter;\\n\\n      if( initter ) dp[phase][0] = 0;\\n\\n\\n\\n      rep(i,_size){\\n\\n        int bitmask = state[i];\\n\\n\\n\\n        if( dp[phase][bitmask] == -1 ) continue;\\n\\n        bitset<12> bit(bitmask);\\n        assert( S.count(bitmask));\\n\\n        \\/\\/ ?????????\\n\\n        if( field[y][x] == 1 ) {\\n\\n          int nbitmask = bitmask;\\n\\n          SET(nbitmask,x,0);\\n\\n          if( x == w-1 ) nbitmask = FIX(nbitmask);\\n\\n          update(dp[!phase][nbitmask],dp[phase][bitmask]);\\n\\n          continue;\\n\\n        }\\n\\n\\n\\n        int nbitmask;\\n\\n        \\/\\/ 0 0\\n\\n        if( !( ( GET(bitmask,x) == 0 ) && ( GET(bitmask,(x+1)) == 0 ) ) ) goto Label1;\\n\\n        if( STAR ) {\\n\\n          \\/\\/ x 0\\n\\n          if( y+1 < h && field[y+1][x] != 1 ) {\\n\\n            nbitmask = bitmask;\\n\\n            SET(nbitmask,x,((field[y][x]==3)+1));\\n\\n          if( x == w-1 ) nbitmask = FIX(nbitmask);\\n\\n\\n\\n            update(dp[!phase][nbitmask],dp[phase][bitmask]+1);\\n\\n          }\\n\\n          \\/\\/ 0 x\\n\\n          if( x+1 < w && field[y][x+1] != 1 ) {\\n\\n            nbitmask = bitmask;\\n\\n            SET(nbitmask,(x+1),((field[y][x]==3)+1));\\n\\n\\n\\n          if( x == w-1 ) nbitmask = FIX(nbitmask);\\n\\n\\n\\n          update(dp[!phase][nbitmask],dp[phase][bitmask]+1);\\n\\n          }\\n\\n        } else {\\n\\n          \\/\\/ x x\\n\\n          if( x+1 < w && y+1 < h && field[y][x+1] != 1 && field[y+1][x] != 1 ) {\\n\\n            REP(color,1,3){\\n\\n              nbitmask = bitmask;\\n\\n              SET(nbitmask,x,color);\\n\\n              SET(nbitmask,(x+1),color);\\n\\n              if( x == w-1 ) nbitmask = FIX(nbitmask);\\n\\n              update(dp[!phase][nbitmask],(dp[phase][bitmask]+1));\\n\\n            }\\n\\n          }\\n\\n          \\/\\/ 0 0\\n\\n          nbitmask = bitmask;\\n\\n          SET(nbitmask,x,0);\\n\\n          SET(nbitmask,(x+1),0);\\n\\n          if( x == w-1 ) nbitmask = FIX(nbitmask);\\n\\n          update(dp[!phase][nbitmask],dp[phase][bitmask]);\\n\\n        }\\n\\n\\n\\n        continue;\\n\\n      Label1:;\\n\\n        \\/\\/ x 0\\n\\n        \\/\\/ 0 x\\n\\n        int color;\\n\\n        if( !( ( GET(bitmask,x) && ( GET(bitmask,(x+1)) == 0 ) ) || ( GET(bitmask,(x+1)) && ( GET(bitmask,x) == 0 ) ) ) ) goto Label2;\\n\\n        color = GET(bitmask,x) | GET(bitmask,(x+1));\\n\\n        assert( color == 1 || color == 2 );\\n\\n        if( STAR ) {\\n\\n          \\/\\/ 0 0\\n\\n          if( ((color==1)?2:3) == field[y][x] ) {\\n\\n\\n\\n            nbitmask = bitmask;\\n\\n            SET(nbitmask,x,0);\\n\\n            SET(nbitmask,(x+1),0);\\n\\n          if( x == w-1 ) nbitmask = FIX(nbitmask);\\n\\n            update(dp[!phase][nbitmask],dp[phase][bitmask]+1);\\n\\n          }\\n\\n        } else {\\n\\n          \\/\\/ x 0\\n\\n          if( y+1 < h && field[y+1][x] != 1 ) {\\n\\n            nbitmask = bitmask;\\n\\n            SET(nbitmask,x,color);\\n\\n            SET(nbitmask,(x+1),0);\\n\\n          if( x == w-1 ) nbitmask = FIX(nbitmask);\\n            update(dp[!phase][nbitmask],(dp[phase][bitmask]+1));\\n\\n          }\\n\\n          \\n\\n          \\/\\/ 0 x\\n\\n          if( x+1 < w && field[y][x+1] != 1 ) {\\n\\n            nbitmask = bitmask;\\n\\n            SET(nbitmask,x,0);\\n\\n            SET(nbitmask,(x+1),color);\\n\\n\\n\\n          if( x == w-1 ) nbitmask = FIX(nbitmask);\\n\\n            update(dp[!phase][nbitmask],(dp[phase][bitmask]+1));\\n\\n          }\\n\\n        }\\n\\n        continue;\\n\\n      Label2:;\\n\\n        \\/\\/ x x\\n\\n        if( !( GET(bitmask,x) && GET(bitmask,(x+1)) ) ) goto Label3;\\n\\n        if( GET(bitmask,x) != GET(bitmask,(x+1)) ) goto Label3;\\n\\n\\n\\n        color = GET(bitmask,x);\\n\\n        assert( color );\\n\\n        \\/\\/assert( GET(bitmask,x) == GET(bitmask,(x+1)) );\\n\\n        \\n\\n        \\/\\/ 0 0\\n\\n        if( !STAR ) {\\n\\n          nbitmask = bitmask;\\n\\n          SET(nbitmask,x,0);\\n\\n          SET(nbitmask,(x+1),0);\\n\\n          if( x == w-1 ) nbitmask = FIX(nbitmask);\\n\\n          update(dp[!phase][nbitmask],dp[phase][bitmask]+1);\\n\\n        }\\n\\n      Label3:;\\n\\n\\n\\n      }\\n\\n      if( field[y][x] == 2 || field[y][x] == 3 ) initter = false;\\n\\n      rep(i,_size) dp[phase][state[i]] = -1;\\n\\n      if( encounter >= 4 && dp[!phase][0] != -1 ) {\\n\\n        mini = min(mini,dp[!phase][0]);\\n\\n      }\\n\\n      phase = !phase;\\n\\n    }\\n\\n  }\\n\\n\\n\\n  \\/*\\n\\n  puts(\\\"final\\\");\\n\\n  rep(i,_size){\\n\\n    if( dp[phase][state[i]] != -1 ) {\\n\\n      bitset<12> BIT(state[i]);\\n\\n      for(int j=0;j<12;j+=2){\\n\\n        cout << BIT[j] << BIT[j+1] << \\\" \\\";\\n\\n      } \\n\\n      cout << \\\" = \\\" << dp[phase][state[i]] << endl;\\n\\n    }\\n\\n  }\\n\\n  *\\/\\n\\n  if( dp[phase][0] != -1 ) mini = min(mini,dp[phase][0]);\\n\\n  if( mini != IINF ) printf(\\\"%d\\\\n\\\",mini-2);\\n\\n  else puts(\\\"0\\\");\\n\\n}\\n\\n\\n\\nint main(){\\n  while( scanf(\\\"%d %d\\\",&h,&w), h|w ){\\n\\n    rep(i,h) rep(j,w) scanf(\\\"%d\\\",&field[i][j]);\\n\\n    compute();\\n\\n  }\\n\\n  return 0;\\n\\n}\",\"input_ref\":\"#include<bits\\/stdc++.h>\\n\\n\\n\\n#define REP(i,s,n) for(int i=s;i<n;i++)\\n\\n#define rep(i,n) REP(i,0,n)\\n\\n\\n\\nusing namespace std;\\n\\n\\n\\nconst int IINF = INT_MAX;\\n\\nconst int MAX_W = 9;\\n\\ntypedef pair<int,int> ii;\\n\\n\\n\\n\\n\\nint h,w;\\n\\nint field[10][10],indice[10][10];\\n\\nint dp[2][1<<((MAX_W+1)*2)];\\n\\nint dx[] = {1,0,-1,0};\\n\\nint dy[] = {0,1,0,-1};\\n\\n\\n\\ninline bool isValid(int x,int y) { return 0 <= x && x < w && 0 <= y && y < h; }\\n\\n\\n\\n#define SET(bitmask,index,value) ( bitmask = ( ( bitmask & ~(1<<(2*index)) & ~(1<<(2*index+1)) ) | ( value << (index*2) ) ) )\\n\\n#define GET(bitmask,x) ( ( ( bitmask >> ( 2 * x ) ) & 1 ) | ( ( ( bitmask >> (2*x+1) ) & 1) << 1 ) )\\n\\n#define FIX(bitmask) ((bitmask<<2)&((1<<(2*(w+1)))-1))\\n\\n#define STAR ( field[y][x] == 2 || field[y][x] == 3 )\\n\\n#define update(x,v) ( ( x == -1 ) ? ( x = v ) : ( x = min(x,v) ) )\\n\\n\\n\\n\\n\\nvoid compute(){\\n\\n\\n\\n  set<int> S;\\n\\n  vector<int> state;\\n\\n  rep(bitmask,(1<<((w+1)*2))) {\\n\\n    bool success = true;\\n\\n    for(int i=0;i<(w+1)*2;i+=2){\\n\\n      if( ( ( bitmask >> i ) & 1 ) && ( ( bitmask >> (i+1) ) & 1 ) ) { success = false; break; }\\n\\n    }\\n\\n    if( success ) state.push_back(bitmask), S.insert(bitmask);\\n\\n  }\\n\\n  memset(dp,-1,sizeof(dp));\\n\\n\\n\\n  int _size = state.size();\\n\\n  bool initter = true, phase = false;\\n\\n  int mini = IINF;\\n\\n  int encounter = 0;\\n\\n  rep(y,h){\\n\\n    rep(x,w){\\n\\n      \\/*\\n\\n      cout << x << \\\",\\\" << y << endl;\\n\\n      rep(i,_size){\\n\\n        if( dp[phase][state[i]] != -1 ) {\\n\\n          bitset<12> BIT(state[i]);\\n\\n          for(int j=0;j<12;j+=2){\\n\\n            cout << BIT[j] << BIT[j+1] << \\\" \\\";\\n\\n          } \\n\\n          cout << \\\" = \\\" << dp[phase][state[i]] << endl;\\n\\n        }\\n\\n      }\\n\\n      *\\/\\n\\n      if( field[y][x] == 2 || field[y][x] == 3 ) ++encounter;\\n\\n      if( initter ) dp[phase][0] = 0;\\n\\n\\n\\n      rep(i,_size){\\n\\n        int bitmask = state[i];\\n\\n\\n\\n        if( dp[phase][bitmask] == -1 ) continue;\\n\\n        bitset<12> bit(bitmask);\\n\\n\\n\\n\\n\\n        assert( S.count(bitmask));\\n\\n        \\/\\/ ?????????\\n\\n        if( field[y][x] == 1 ) {\\n\\n          int nbitmask = bitmask;\\n\\n          SET(nbitmask,x,0);\\n\\n          if( x == w-1 ) nbitmask = FIX(nbitmask);\\n\\n          update(dp[!phase][nbitmask],dp[phase][bitmask]);\\n\\n          continue;\\n\\n        }\\n\\n\\n\\n        int nbitmask;\\n\\n        \\/\\/ 0 0\\n\\n        if( !( ( GET(bitmask,x) == 0 ) && ( GET(bitmask,(x+1)) == 0 ) ) ) goto Label1;\\n\\n        if( STAR ) {\\n\\n          \\/\\/ x 0\\n\\n          if( y+1 < h && field[y+1][x] != 1 ) {\\n\\n            nbitmask = bitmask;\\n\\n            SET(nbitmask,x,((field[y][x]==3)+1));\\n\\n          if( x == w-1 ) nbitmask = FIX(nbitmask);\\n\\n\\n\\n            update(dp[!phase][nbitmask],dp[phase][bitmask]+1);\\n\\n          }\\n\\n          \\/\\/ 0 x\\n\\n          if( x+1 < w && field[y][x+1] != 1 ) {\\n\\n            nbitmask = bitmask;\\n\\n            SET(nbitmask,(x+1),((field[y][x]==3)+1));\\n\\n\\n\\n          if( x == w-1 ) nbitmask = FIX(nbitmask);\\n\\n\\n\\n          update(dp[!phase][nbitmask],dp[phase][bitmask]+1);\\n\\n          }\\n\\n        } else {\\n\\n          \\/\\/ x x\\n\\n          if( x+1 < w && y+1 < h && field[y][x+1] != 1 && field[y+1][x] != 1 ) {\\n\\n            REP(color,1,3){\\n\\n              nbitmask = bitmask;\\n\\n              SET(nbitmask,x,color);\\n\\n              SET(nbitmask,(x+1),color);\\n\\n              if( x == w-1 ) nbitmask = FIX(nbitmask);\\n\\n              update(dp[!phase][nbitmask],(dp[phase][bitmask]+1));\\n\\n            }\\n\\n          }\\n\\n          \\/\\/ 0 0\\n\\n          nbitmask = bitmask;\\n\\n          SET(nbitmask,x,0);\\n\\n          SET(nbitmask,(x+1),0);\\n\\n          if( x == w-1 ) nbitmask = FIX(nbitmask);\\n\\n          update(dp[!phase][nbitmask],dp[phase][bitmask]);\\n\\n        }\\n\\n\\n\\n        continue;\\n\\n      Label1:;\\n\\n        \\/\\/ x 0\\n\\n        \\/\\/ 0 x\\n\\n        int color;\\n\\n        if( !( ( GET(bitmask,x) && ( GET(bitmask,(x+1)) == 0 ) ) || ( GET(bitmask,(x+1)) && ( GET(bitmask,x) == 0 ) ) ) ) goto Label2;\\n\\n        color = GET(bitmask,x) | GET(bitmask,(x+1));\\n\\n        assert( color == 1 || color == 2 );\\n\\n        if( STAR ) {\\n\\n          \\/\\/ 0 0\\n\\n          if( ((color==1)?2:3) == field[y][x] ) {\\n\\n\\n\\n            nbitmask = bitmask;\\n\\n            SET(nbitmask,x,0);\\n\\n            SET(nbitmask,(x+1),0);\\n\\n          if( x == w-1 ) nbitmask = FIX(nbitmask);\\n\\n            update(dp[!phase][nbitmask],dp[phase][bitmask]+1);\\n\\n          }\\n\\n        } else {\\n\\n          \\/\\/ x 0\\n\\n          if( y+1 < h && field[y+1][x] != 1 ) {\\n\\n            nbitmask = bitmask;\\n\\n            SET(nbitmask,x,color);\\n\\n            SET(nbitmask,(x+1),0);\\n\\n          if( x == w-1 ) nbitmask = FIX(nbitmask);\\n\\n\\n\\n\\n\\n            update(dp[!phase][nbitmask],(dp[phase][bitmask]+1));\\n\\n          }\\n\\n          \\n\\n          \\/\\/ 0 x\\n\\n          if( x+1 < w && field[y][x+1] != 1 ) {\\n\\n            nbitmask = bitmask;\\n\\n            SET(nbitmask,x,0);\\n\\n            SET(nbitmask,(x+1),color);\\n\\n\\n\\n          if( x == w-1 ) nbitmask = FIX(nbitmask);\\n\\n            update(dp[!phase][nbitmask],(dp[phase][bitmask]+1));\\n\\n          }\\n\\n        }\\n\\n        continue;\\n\\n      Label2:;\\n\\n        \\/\\/ x x\\n\\n        if( !( GET(bitmask,x) && GET(bitmask,(x+1)) ) ) goto Label3;\\n\\n        if( GET(bitmask,x) != GET(bitmask,(x+1)) ) goto Label3;\\n\\n\\n\\n        color = GET(bitmask,x);\\n\\n        assert( color );\\n\\n        \\/\\/assert( GET(bitmask,x) == GET(bitmask,(x+1)) );\\n\\n        \\n\\n        \\/\\/ 0 0\\n\\n        if( !STAR ) {\\n\\n          nbitmask = bitmask;\\n\\n          SET(nbitmask,x,0);\\n\\n          SET(nbitmask,(x+1),0);\\n\\n          if( x == w-1 ) nbitmask = FIX(nbitmask);\\n\\n          update(dp[!phase][nbitmask],dp[phase][bitmask]+1);\\n\\n        }\\n\\n      Label3:;\\n\\n\\n\\n      }\\n\\n      if( field[y][x] == 2 || field[y][x] == 3 ) initter = false;\\n\\n      rep(i,_size) dp[phase][state[i]] = -1;\\n\\n      if( encounter >= 4 && dp[!phase][0] != -1 ) {\\n\\n        mini = min(mini,dp[!phase][0]);\\n\\n      }\\n\\n      phase = !phase;\\n\\n    }\\n\\n  }\\n\\n\\n\\n  \\/*\\n\\n  puts(\\\"final\\\");\\n\\n  rep(i,_size){\\n\\n    if( dp[phase][state[i]] != -1 ) {\\n\\n      bitset<12> BIT(state[i]);\\n\\n      for(int j=0;j<12;j+=2){\\n\\n        cout << BIT[j] << BIT[j+1] << \\\" \\\";\\n\\n      } \\n\\n      cout << \\\" = \\\" << dp[phase][state[i]] << endl;\\n\\n    }\\n\\n  }\\n\\n  *\\/\\n\\n  if( dp[phase][0] != -1 ) mini = min(mini,dp[phase][0]);\\n\\n  if( mini != IINF ) printf(\\\"%d\\\\n\\\",mini-2);\\n\\n  else puts(\\\"0\\\");\\n\\n}\\n\\n\\n\\nint main(){\\n\\n\\n\\n\\n\\n  while( scanf(\\\"%d %d\\\",&h,&w), h|w ){\\n\\n    rep(i,h) rep(j,w) scanf(\\\"%d\\\",&field[i][j]);\\n\\n    compute();\\n\\n  }\\n\\n  return 0;\\n\\n}\",\"problem_id\":\"p00849\",\"submission_id_v0\":\"s4\",\"cpu_time_v0\":1,\"cpu_time_v1\":1,\"input_time_mean\":695.6398487091,\"input_time_std\":0.8056163788,\"input_acc\":1.0,\"reference_time_mean\":185.4759454727,\"reference_time_std\":0.0845193863,\"reference_acc\":1.0,\"improved_code_time_mean\":185.7244968414,\"improved_code_time_std\":0.1537799835,\"improved_code_acc\":1.0}\n6:{\"input\":\"#include<bits\\/stdc++.h>\\n\\n\\n\\n#define REP(i,s,n) for(int i=s;i<n;i++)\\n\\n#define rep(i,n) REP(i,0,n)\\n\\n\\n\\nusing namespace std;\\n\\n\\n\\nconst int IINF = INT_MAX;\\n\\nconst int MAX_W = 9;\\n\\ntypedef pair<int,int> ii;\\n\\n\\n\\n\\n\\nint h,w;\\n\\nint field[10][10],indice[10][10];\\n\\nint dp[2][1<<((MAX_W+1)*2)];\\n\\nint dx[] = {1,0,-1,0};\\n\\nint dy[] = {0,1,0,-1};\\n\\n\\n\\ninline bool isValid(int x,int y) { return 0 <= x && x < w && 0 <= y && y < h; }\\n\\n\\n\\n#define SET(bitmask,index,value) ( bitmask = ( ( bitmask & ~(1<<(2*index)) & ~(1<<(2*index+1)) ) | ( value << (index*2) ) ) )\\n\\n#define GET(bitmask,x) ( ( ( bitmask >> ( 2 * x ) ) & 1 ) | ( ( ( bitmask >> (2*x+1) ) & 1) << 1 ) )\\n\\n#define FIX(bitmask) ((bitmask<<2)&((1<<(2*(w+1)))-1))\\n\\n#define STAR ( field[y][x] == 2 || field[y][x] == 3 )\\n\\n#define update(x,v) ( ( x == -1 ) ? ( x = v ) : ( x = min(x,v) ) )\\n\\n\\n\\n\\n\\nvoid compute(){\\n\\n\\n\\n  vector<int> state;\\n\\n  rep(bitmask,(1<<((w+1)*2))) {\\n\\n    bool success = true;\\n\\n    for(int i=0;i<(w+1)*2;i+=2) if( ( ( bitmask >> i ) & 1 ) && ( ( bitmask >> (i+1) ) & 1 ) ) { success = false; break; }\\n\\n    if( success ) state.push_back(bitmask);\\n\\n  }\\n\\n  memset(dp,-1,sizeof(dp));\\n\\n\\n\\n  int _size = state.size();\\n\\n  bool initter = true, phase = false;\\n\\n  int mini = IINF;\\n\\n  int encounter = 0;\\n\\n  rep(y,h){\\n\\n    rep(x,w){\\n\\n\\n\\n      if( field[y][x] == 2 || field[y][x] == 3 ) ++encounter;\\n\\n      if( initter ) dp[phase][0] = 0;\\n\\n\\n\\n      rep(i,_size){\\n\\n        int bitmask = state[i];\\n\\n\\n\\n        if( dp[phase][bitmask] == -1 ) continue;\\n\\n\\n\\n        \\/\\/ ?????????\\n\\n        if( field[y][x] == 1 ) {\\n\\n          int nbitmask = bitmask;\\n\\n          SET(nbitmask,x,0);\\n\\n          if( x == w-1 ) nbitmask = FIX(nbitmask);\\n\\n          update(dp[!phase][nbitmask],dp[phase][bitmask]);\\n\\n          continue;\\n\\n        }\\n\\n\\n\\n        int nbitmask;\\n\\n        \\/\\/ 0 0\\n\\n        if( !( ( GET(bitmask,x) == 0 ) && ( GET(bitmask,(x+1)) == 0 ) ) ) goto Label1;\\n\\n        if( STAR ) {\\n\\n          \\/\\/ x 0\\n\\n          if( y+1 < h && field[y+1][x] != 1 ) {\\n\\n            nbitmask = bitmask;\\n\\n            SET(nbitmask,x,((field[y][x]==3)+1));\\n\\n            if( x == w-1 ) nbitmask = FIX(nbitmask);\\n\\n          \\n\\n            update(dp[!phase][nbitmask],dp[phase][bitmask]+1);\\n\\n          }\\n\\n          \\/\\/ 0 x\\n\\n          if( x+1 < w && field[y][x+1] != 1 ) {\\n\\n            nbitmask = bitmask;\\n\\n            SET(nbitmask,(x+1),((field[y][x]==3)+1));\\n\\n\\n\\n            if( x == w-1 ) nbitmask = FIX(nbitmask);\\n\\n\\n\\n            update(dp[!phase][nbitmask],dp[phase][bitmask]+1);\\n\\n          }\\n\\n        } else {\\n\\n          \\/\\/ x x\\n\\n          if( x+1 < w && y+1 < h && field[y][x+1] != 1 && field[y+1][x] != 1 ) {\\n\\n            REP(color,1,3){\\n\\n              nbitmask = bitmask;\\n\\n              SET(nbitmask,x,color);\\n\\n              SET(nbitmask,(x+1),color);\\n\\n              if( x == w-1 ) nbitmask = FIX(nbitmask);\\n\\n              update(dp[!phase][nbitmask],(dp[phase][bitmask]+1));\\n\\n            }\\n\\n          }\\n\\n          \\/\\/ 0 0\\n\\n          nbitmask = bitmask;\\n\\n          SET(nbitmask,x,0);\\n\\n          SET(nbitmask,(x+1),0);\\n\\n          if( x == w-1 ) nbitmask = FIX(nbitmask);\\n\\n          update(dp[!phase][nbitmask],dp[phase][bitmask]);\\n\\n        }\\n\\n\\n\\n        continue;\\n\\n      Label1:;\\n\\n        \\/\\/ x 0\\n\\n        \\/\\/ 0 x\\n\\n        int color;\\n\\n        if( !( ( GET(bitmask,x) && ( GET(bitmask,(x+1)) == 0 ) ) || ( GET(bitmask,(x+1)) && ( GET(bitmask,x) == 0 ) ) ) ) goto Label2;\\n\\n        color = GET(bitmask,x) | GET(bitmask,(x+1));\\n\\n        if( STAR ) {\\n\\n          \\/\\/ 0 0\\n\\n          if( ((color==1)?2:3) == field[y][x] ) {\\n\\n            nbitmask = bitmask;\\n\\n            SET(nbitmask,x,0);\\n\\n            SET(nbitmask,(x+1),0);\\n\\n            if( x == w-1 ) nbitmask = FIX(nbitmask);\\n\\n            update(dp[!phase][nbitmask],dp[phase][bitmask]+1);\\n\\n          }\\n\\n        } else {\\n\\n          \\/\\/ x 0\\n\\n          if( y+1 < h && field[y+1][x] != 1 ) {\\n\\n            nbitmask = bitmask;\\n\\n            SET(nbitmask,x,color);\\n\\n            SET(nbitmask,(x+1),0);\\n\\n            if( x == w-1 ) nbitmask = FIX(nbitmask);\\n\\n\\n\\n\\n\\n            update(dp[!phase][nbitmask],(dp[phase][bitmask]+1));\\n\\n          }\\n\\n          \\n\\n          \\/\\/ 0 x\\n\\n          if( x+1 < w && field[y][x+1] != 1 ) {\\n\\n            nbitmask = bitmask;\\n\\n            SET(nbitmask,x,0);\\n\\n            SET(nbitmask,(x+1),color);\\n\\n\\n\\n            if( x == w-1 ) nbitmask = FIX(nbitmask);\\n\\n            update(dp[!phase][nbitmask],(dp[phase][bitmask]+1));\\n\\n          }\\n\\n        }\\n\\n        continue;\\n\\n      Label2:;\\n\\n        \\/\\/ x x\\n\\n        if( !( GET(bitmask,x) && GET(bitmask,(x+1)) ) ) goto Label3;\\n\\n        if( GET(bitmask,x) != GET(bitmask,(x+1)) ) goto Label3;\\n\\n\\n\\n        color = GET(bitmask,x);\\n\\n        \\n\\n        \\/\\/ 0 0\\n\\n        if( !STAR ) {\\n\\n          nbitmask = bitmask;\\n\\n          SET(nbitmask,x,0);\\n\\n          SET(nbitmask,(x+1),0);\\n\\n          if( x == w-1 ) nbitmask = FIX(nbitmask);\\n\\n          update(dp[!phase][nbitmask],dp[phase][bitmask]+1);\\n\\n        }\\n\\n      Label3:;\\n\\n\\n\\n      }\\n\\n      if( field[y][x] == 2 || field[y][x] == 3 ) initter = false;\\n\\n      rep(i,_size) dp[phase][state[i]] = -1;\\n\\n      if( encounter >= 4 && dp[!phase][0] != -1 ) {\\n\\n        mini = min(mini,dp[!phase][0]);\\n\\n      }\\n\\n      phase = !phase;\\n\\n    }\\n\\n  }\\n\\n  if( dp[phase][0] != -1 ) mini = min(mini,dp[phase][0]);\\n\\n  if( mini != IINF ) printf(\\\"%d\\\\n\\\",mini-2);\\n\\n  else puts(\\\"0\\\");\\n\\n}\\n\\n\\n\\nint main(){\\n\\n  while( scanf(\\\"%d %d\\\",&h,&w), h|w ){\\n\\n    rep(i,h) rep(j,w) scanf(\\\"%d\\\",&field[i][j]);\\n\\n    compute();\\n\\n  }\\n\\n  return 0;\\n\\n}\",\"improved_code\":\"#include<bits\\/stdc++.h>\\n\\n\\n\\n#define REP(i,s,n) for(int i=s;i<n;i++)\\n\\n#define rep(i,n) REP(i,0,n)\\n\\n\\n\\nusing namespace std;\\n\\n\\n\\nconst int IINF = INT_MAX;\\n\\nconst int MAX_W = 9;\\n\\ntypedef pair<int,int> ii;\\n\\n\\n\\n\\n\\nint h,w;\\n\\nint field[10][10],indice[10][10];\\n\\nint dp[2][1<<((MAX_W+1)*2)];\\n\\nint dx[] = {1,0,-1,0};\\n\\nint dy[] = {0,1,0,-1};\\n\\n\\n\\ninline bool isValid(int x,int y) { return 0 <= x && x < w && 0 <= y && y < h; }\\n\\n\\n\\n#define SET(bitmask,index,value) ( bitmask = ( ( bitmask & ~(1<<(2*index)) & ~(1<<(2*index+1)) ) | ( value << (index*2) ) ) )\\n\\n#define GET(bitmask,x) ( ( ( bitmask >> ( 2 * x ) ) & 1 ) | ( ( ( bitmask >> (2*x+1) ) & 1) << 1 ) )\\n\\n#define FIX(bitmask) ((bitmask<<2)&((1<<(2*(w+1)))-1))\\n\\n#define STAR ( field[y][x] == 2 || field[y][x] == 3 )\\n\\n#define update(x,v) ( ( x == -1 ) ? ( x = v ) : ( x = min(x,v) ) )\\n\\n\\n\\n\\n\\nvoid compute(){\\n\\n\\n\\n  vector<int> state;\\n\\n  rep(bitmask,(1<<((w+1)*2))) {\\n\\n    bool success = true;\\n\\n    for(int i=0;i<(w+1)*2;i+=2) if( ( ( bitmask >> i ) & 1 ) && ( ( bitmask >> (i+1) ) & 1 ) ) { success = false; break; }\\n\\n    if( success ) state.push_back(bitmask);\\n\\n  }\\n\\n  memset(dp,-1,sizeof(dp));\\n\\n\\n\\n  int _size = state.size();\\n\\n  bool initter = true, phase = false;\\n\\n  int mini = IINF;\\n\\n  int encounter = 0;\\n\\n  rep(y,h){\\n\\n    rep(x,w){\\n\\n\\n\\n      if( field[y][x] == 2 || field[y][x] == 3 ) ++encounter;\\n\\n      if( initter ) dp[phase][0] = 0;\\n\\n\\n\\n      rep(i,_size){\\n\\n        int bitmask = state[i];\\n\\n\\n\\n        if( dp[phase][bitmask] == -1 ) continue;\\n\\n        if( dp[phase][bitmask] >= mini ) continue;\\n\\n\\n\\n        \\/\\/ ?????????\\n\\n        if( field[y][x] == 1 ) {\\n\\n          int nbitmask = bitmask;\\n\\n          SET(nbitmask,x,0);\\n\\n          if( x == w-1 ) nbitmask = FIX(nbitmask);\\n\\n          update(dp[!phase][nbitmask],dp[phase][bitmask]);\\n\\n          continue;\\n\\n        }\\n\\n\\n\\n        int nbitmask;\\n\\n        \\/\\/ 0 0\\n\\n        if( !( ( GET(bitmask,x) == 0 ) && ( GET(bitmask,(x+1)) == 0 ) ) ) goto Label1;\\n\\n        if( STAR ) {\\n\\n          \\/\\/ x 0\\n\\n          if( y+1 < h && field[y+1][x] != 1 ) {\\n\\n            nbitmask = bitmask;\\n\\n            SET(nbitmask,x,((field[y][x]==3)+1));\\n\\n            if( x == w-1 ) nbitmask = FIX(nbitmask);\\n\\n          \\n\\n            update(dp[!phase][nbitmask],dp[phase][bitmask]+1);\\n\\n          }\\n\\n          \\/\\/ 0 x\\n\\n          if( x+1 < w && field[y][x+1] != 1 ) {\\n\\n            nbitmask = bitmask;\\n\\n            SET(nbitmask,(x+1),((field[y][x]==3)+1));\\n\\n\\n\\n            if( x == w-1 ) nbitmask = FIX(nbitmask);\\n\\n\\n\\n            update(dp[!phase][nbitmask],dp[phase][bitmask]+1);\\n\\n          }\\n\\n        } else {\\n\\n          \\/\\/ x x\\n\\n          if( x+1 < w && y+1 < h && field[y][x+1] != 1 && field[y+1][x] != 1 ) {\\n\\n            REP(color,1,3){\\n\\n              nbitmask = bitmask;\\n\\n              SET(nbitmask,x,color);\\n\\n              SET(nbitmask,(x+1),color);\\n\\n              if( x == w-1 ) nbitmask = FIX(nbitmask);\\n\\n              update(dp[!phase][nbitmask],(dp[phase][bitmask]+1));\\n\\n            }\\n\\n          }\\n\\n          \\/\\/ 0 0\\n\\n          nbitmask = bitmask;\\n\\n          SET(nbitmask,x,0);\\n\\n          SET(nbitmask,(x+1),0);\\n\\n          if( x == w-1 ) nbitmask = FIX(nbitmask);\\n\\n          update(dp[!phase][nbitmask],dp[phase][bitmask]);\\n\\n        }\\n\\n\\n\\n        continue;\\n\\n      Label1:;\\n\\n        \\/\\/ x 0\\n\\n        \\/\\/ 0 x\\n\\n        int color;\\n\\n        if( !( ( GET(bitmask,x) && ( GET(bitmask,(x+1)) == 0 ) ) || ( GET(bitmask,(x+1)) && ( GET(bitmask,x) == 0 ) ) ) ) goto Label2;\\n\\n        color = GET(bitmask,x) | GET(bitmask,(x+1));\\n\\n        if( STAR ) {\\n\\n          \\/\\/ 0 0\\n\\n          if( ((color==1)?2:3) == field[y][x] ) {\\n\\n            nbitmask = bitmask;\\n\\n            SET(nbitmask,x,0);\\n\\n            SET(nbitmask,(x+1),0);\\n\\n            if( x == w-1 ) nbitmask = FIX(nbitmask);\\n\\n            update(dp[!phase][nbitmask],dp[phase][bitmask]+1);\\n\\n          }\\n\\n        } else {\\n\\n          \\/\\/ x 0\\n\\n          if( y+1 < h && field[y+1][x] != 1 ) {\\n\\n            nbitmask = bitmask;\\n\\n            SET(nbitmask,x,color);\\n\\n            SET(nbitmask,(x+1),0);\\n\\n            if( x == w-1 ) nbitmask = FIX(nbitmask);\\n\\n\\n\\n\\n\\n            update(dp[!phase][nbitmask],(dp[phase][bitmask]+1));\\n\\n          }\\n\\n          \\n\\n          \\/\\/ 0 x\\n\\n          if( x+1 < w && field[y][x+1] != 1 ) {\\n\\n            nbitmask = bitmask;\\n\\n            SET(nbitmask,x,0);\\n\\n            SET(nbitmask,(x+1),color);\\n\\n\\n\\n            if( x == w-1 ) nbitmask = FIX(nbitmask);\\n\\n            update(dp[!phase][nbitmask],(dp[phase][bitmask]+1));\\n\\n          }\\n\\n        }\\n\\n        continue;\\n\\n      Label2:;\\n\\n        \\/\\/ x x\\n\\n        if( !( GET(bitmask,x) && GET(bitmask,(x+1)) ) ) goto Label3;\\n\\n        if( GET(bitmask,x) != GET(bitmask,(x+1)) ) goto Label3;\\n\\n\\n\\n        color = GET(bitmask,x);\\n\\n        \\n\\n        \\/\\/ 0 0\\n\\n        if( !STAR ) {\\n\\n          nbitmask = bitmask;\\n\\n          SET(nbitmask,x,0);\\n\\n          SET(nbitmask,(x+1),0);\\n\\n          if( x == w-1 ) nbitmask = FIX(nbitmask);\\n\\n          update(dp[!phase][nbitmask],dp[phase][bitmask]+1);\\n\\n        }\\n\\n      Label3:;\\n\\n\\n\\n      }\\n\\n      if( field[y][x] == 2 || field[y][x] == 3 ) initter = false;\\n\\n      rep(i,_size) dp[phase][state[i]] = -1;\\n\\n      if( encounter >= 4 && dp[!phase][0] != -1 ) {\\n\\n        mini = min(mini,dp[!phase][0]);\\n\\n      }\\n\\n      phase = !phase;\\n\\n    }\\n\\n  }\\n\\n  if( dp[phase][0] != -1 ) mini = min(mini,dp[phase][0]);\\n\\n  if( mini != IINF ) printf(\\\"%d\\\\n\\\",mini-2);\\n\\n  else puts(\\\"0\\\");\\n\\n}\\n\\n\\n\\nint main(){\\n\\n  while( scanf(\\\"%d %d\\\",&h,&w), h|w ){\\n\\n    rep(i,h) rep(j,w) scanf(\\\"%d\\\",&field[i][j]);\\n\\n    compute();\\n\\n  }\\n\\n  return 0;\\n\\n}\",\"slower_program\":\"#include<bits\\/stdc++.h>\\n\\n\\n\\n#define REP(i,s,n) for(int i=s;i<n;i++)\\n\\n#define rep(i,n) REP(i,0,n)\\n\\n\\n\\nusing namespace std;\\n\\n\\n\\nconst int IINF = INT_MAX;\\n\\nconst int MAX_W = 9;\\n\\ntypedef pair<int,int> ii;\\nint h,w;\\n\\nint field[10][10],indice[10][10];\\n\\nint dp[2][1<<((MAX_W+1)*2)];\\n\\nint dx[] = {1,0,-1,0};\\n\\nint dy[] = {0,1,0,-1};\\n\\n\\n\\ninline bool isValid(int x,int y) { return 0 <= x && x < w && 0 <= y && y < h; }\\n\\n\\n\\n#define SET(bitmask,index,value) ( bitmask = ( ( bitmask & ~(1<<(2*index)) & ~(1<<(2*index+1)) ) | ( value << (index*2) ) ) )\\n\\n#define GET(bitmask,x) ( ( ( bitmask >> ( 2 * x ) ) & 1 ) | ( ( ( bitmask >> (2*x+1) ) & 1) << 1 ) )\\n\\n#define FIX(bitmask) ((bitmask<<2)&((1<<(2*(w+1)))-1))\\n\\n#define STAR ( field[y][x] == 2 || field[y][x] == 3 )\\n\\n#define update(x,v) ( ( x == -1 ) ? ( x = v ) : ( x = min(x,v) ) )\\nvoid compute(){\\n\\n\\n\\n  vector<int> state;\\n\\n  rep(bitmask,(1<<((w+1)*2))) {\\n\\n    bool success = true;\\n\\n    for(int i=0;i<(w+1)*2;i+=2) if( ( ( bitmask >> i ) & 1 ) && ( ( bitmask >> (i+1) ) & 1 ) ) { success = false; break; }\\n\\n    if( success ) state.push_back(bitmask);\\n\\n  }\\n\\n  memset(dp,-1,sizeof(dp));\\n\\n\\n\\n  int _size = state.size();\\n\\n  bool initter = true, phase = false;\\n\\n  int mini = IINF;\\n\\n  int encounter = 0;\\n\\n  rep(y,h){\\n\\n    rep(x,w){\\n\\n\\n\\n      if( field[y][x] == 2 || field[y][x] == 3 ) ++encounter;\\n\\n      if( initter ) dp[phase][0] = 0;\\n\\n\\n\\n      rep(i,_size){\\n\\n        int bitmask = state[i];\\n\\n\\n\\n        if( dp[phase][bitmask] == -1 ) continue;\\n\\n\\n\\n        \\/\\/ ?????????\\n\\n        if( field[y][x] == 1 ) {\\n\\n          int nbitmask = bitmask;\\n\\n          SET(nbitmask,x,0);\\n\\n          if( x == w-1 ) nbitmask = FIX(nbitmask);\\n\\n          update(dp[!phase][nbitmask],dp[phase][bitmask]);\\n\\n          continue;\\n\\n        }\\n\\n\\n\\n        int nbitmask;\\n\\n        \\/\\/ 0 0\\n\\n        if( !( ( GET(bitmask,x) == 0 ) && ( GET(bitmask,(x+1)) == 0 ) ) ) goto Label1;\\n\\n        if( STAR ) {\\n\\n          \\/\\/ x 0\\n\\n          if( y+1 < h && field[y+1][x] != 1 ) {\\n\\n            nbitmask = bitmask;\\n\\n            SET(nbitmask,x,((field[y][x]==3)+1));\\n\\n            if( x == w-1 ) nbitmask = FIX(nbitmask);\\n\\n          \\n\\n            update(dp[!phase][nbitmask],dp[phase][bitmask]+1);\\n\\n          }\\n\\n          \\/\\/ 0 x\\n\\n          if( x+1 < w && field[y][x+1] != 1 ) {\\n\\n            nbitmask = bitmask;\\n\\n            SET(nbitmask,(x+1),((field[y][x]==3)+1));\\n\\n\\n\\n            if( x == w-1 ) nbitmask = FIX(nbitmask);\\n\\n\\n\\n            update(dp[!phase][nbitmask],dp[phase][bitmask]+1);\\n\\n          }\\n\\n        } else {\\n\\n          \\/\\/ x x\\n\\n          if( x+1 < w && y+1 < h && field[y][x+1] != 1 && field[y+1][x] != 1 ) {\\n\\n            REP(color,1,3){\\n\\n              nbitmask = bitmask;\\n\\n              SET(nbitmask,x,color);\\n\\n              SET(nbitmask,(x+1),color);\\n\\n              if( x == w-1 ) nbitmask = FIX(nbitmask);\\n\\n              update(dp[!phase][nbitmask],(dp[phase][bitmask]+1));\\n\\n            }\\n\\n          }\\n\\n          \\/\\/ 0 0\\n\\n          nbitmask = bitmask;\\n\\n          SET(nbitmask,x,0);\\n\\n          SET(nbitmask,(x+1),0);\\n\\n          if( x == w-1 ) nbitmask = FIX(nbitmask);\\n\\n          update(dp[!phase][nbitmask],dp[phase][bitmask]);\\n\\n        }\\n\\n\\n\\n        continue;\\n\\n      Label1:;\\n\\n        \\/\\/ x 0\\n\\n        \\/\\/ 0 x\\n\\n        int color;\\n\\n        if( !( ( GET(bitmask,x) && ( GET(bitmask,(x+1)) == 0 ) ) || ( GET(bitmask,(x+1)) && ( GET(bitmask,x) == 0 ) ) ) ) goto Label2;\\n\\n        color = GET(bitmask,x) | GET(bitmask,(x+1));\\n\\n        if( STAR ) {\\n\\n          \\/\\/ 0 0\\n\\n          if( ((color==1)?2:3) == field[y][x] ) {\\n\\n            nbitmask = bitmask;\\n\\n            SET(nbitmask,x,0);\\n\\n            SET(nbitmask,(x+1),0);\\n\\n            if( x == w-1 ) nbitmask = FIX(nbitmask);\\n\\n            update(dp[!phase][nbitmask],dp[phase][bitmask]+1);\\n\\n          }\\n\\n        } else {\\n\\n          \\/\\/ x 0\\n\\n          if( y+1 < h && field[y+1][x] != 1 ) {\\n\\n            nbitmask = bitmask;\\n\\n            SET(nbitmask,x,color);\\n\\n            SET(nbitmask,(x+1),0);\\n\\n            if( x == w-1 ) nbitmask = FIX(nbitmask);\\n            update(dp[!phase][nbitmask],(dp[phase][bitmask]+1));\\n\\n          }\\n\\n          \\n\\n          \\/\\/ 0 x\\n\\n          if( x+1 < w && field[y][x+1] != 1 ) {\\n\\n            nbitmask = bitmask;\\n\\n            SET(nbitmask,x,0);\\n\\n            SET(nbitmask,(x+1),color);\\n\\n\\n\\n            if( x == w-1 ) nbitmask = FIX(nbitmask);\\n\\n            update(dp[!phase][nbitmask],(dp[phase][bitmask]+1));\\n\\n          }\\n\\n        }\\n\\n        continue;\\n\\n      Label2:;\\n\\n        \\/\\/ x x\\n\\n        if( !( GET(bitmask,x) && GET(bitmask,(x+1)) ) ) goto Label3;\\n\\n        if( GET(bitmask,x) != GET(bitmask,(x+1)) ) goto Label3;\\n\\n\\n\\n        color = GET(bitmask,x);\\n\\n        \\n\\n        \\/\\/ 0 0\\n\\n        if( !STAR ) {\\n\\n          nbitmask = bitmask;\\n\\n          SET(nbitmask,x,0);\\n\\n          SET(nbitmask,(x+1),0);\\n\\n          if( x == w-1 ) nbitmask = FIX(nbitmask);\\n\\n          update(dp[!phase][nbitmask],dp[phase][bitmask]+1);\\n\\n        }\\n\\n      Label3:;\\n\\n\\n\\n      }\\n\\n      if( field[y][x] == 2 || field[y][x] == 3 ) initter = false;\\n\\n      rep(i,_size) dp[phase][state[i]] = -1;\\n\\n      if( encounter >= 4 && dp[!phase][0] != -1 ) {\\n\\n        mini = min(mini,dp[!phase][0]);\\n\\n      }\\n\\n      phase = !phase;\\n\\n    }\\n\\n  }\\n\\n  if( dp[phase][0] != -1 ) mini = min(mini,dp[phase][0]);\\n\\n  if( mini != IINF ) printf(\\\"%d\\\\n\\\",mini-2);\\n\\n  else puts(\\\"0\\\");\\n\\n}\\n\\n\\n\\nint main(){\\n\\n  while( scanf(\\\"%d %d\\\",&h,&w), h|w ){\\n\\n    rep(i,h) rep(j,w) scanf(\\\"%d\\\",&field[i][j]);\\n\\n    compute();\\n\\n  }\\n\\n  return 0;\\n\\n}\",\"input_ref\":\"#include<bits\\/stdc++.h>\\n\\n\\n\\n#define REP(i,s,n) for(int i=s;i<n;i++)\\n\\n#define rep(i,n) REP(i,0,n)\\n\\n\\n\\nusing namespace std;\\n\\n\\n\\nconst int IINF = INT_MAX;\\n\\nconst int MAX_W = 9;\\n\\ntypedef pair<int,int> ii;\\n\\n\\n\\n\\n\\nint h,w;\\n\\nint field[10][10],indice[10][10];\\n\\nint dp[2][1<<((MAX_W+1)*2)];\\n\\nint dx[] = {1,0,-1,0};\\n\\nint dy[] = {0,1,0,-1};\\n\\n\\n\\ninline bool isValid(int x,int y) { return 0 <= x && x < w && 0 <= y && y < h; }\\n\\n\\n\\n#define SET(bitmask,index,value) ( bitmask = ( ( bitmask & ~(1<<(2*index)) & ~(1<<(2*index+1)) ) | ( value << (index*2) ) ) )\\n\\n#define GET(bitmask,x) ( ( ( bitmask >> ( 2 * x ) ) & 1 ) | ( ( ( bitmask >> (2*x+1) ) & 1) << 1 ) )\\n\\n#define FIX(bitmask) ((bitmask<<2)&((1<<(2*(w+1)))-1))\\n\\n#define STAR ( field[y][x] == 2 || field[y][x] == 3 )\\n\\n#define update(x,v) ( ( x == -1 ) ? ( x = v ) : ( x = min(x,v) ) )\\n\\n\\n\\n\\n\\nvoid compute(){\\n\\n\\n\\n  vector<int> state;\\n\\n  rep(bitmask,(1<<((w+1)*2))) {\\n\\n    bool success = true;\\n\\n    for(int i=0;i<(w+1)*2;i+=2) if( ( ( bitmask >> i ) & 1 ) && ( ( bitmask >> (i+1) ) & 1 ) ) { success = false; break; }\\n\\n    if( success ) state.push_back(bitmask);\\n\\n  }\\n\\n  memset(dp,-1,sizeof(dp));\\n\\n\\n\\n  int _size = state.size();\\n\\n  bool initter = true, phase = false;\\n\\n  int mini = IINF;\\n\\n  int encounter = 0;\\n\\n  rep(y,h){\\n\\n    rep(x,w){\\n\\n\\n\\n      if( field[y][x] == 2 || field[y][x] == 3 ) ++encounter;\\n\\n      if( initter ) dp[phase][0] = 0;\\n\\n\\n\\n      rep(i,_size){\\n\\n        int bitmask = state[i];\\n\\n\\n\\n        if( dp[phase][bitmask] == -1 ) continue;\\n\\n\\n\\n        \\/\\/ ?????????\\n\\n        if( field[y][x] == 1 ) {\\n\\n          int nbitmask = bitmask;\\n\\n          SET(nbitmask,x,0);\\n\\n          if( x == w-1 ) nbitmask = FIX(nbitmask);\\n\\n          update(dp[!phase][nbitmask],dp[phase][bitmask]);\\n\\n          continue;\\n\\n        }\\n\\n\\n\\n        int nbitmask;\\n\\n        \\/\\/ 0 0\\n\\n        if( !( ( GET(bitmask,x) == 0 ) && ( GET(bitmask,(x+1)) == 0 ) ) ) goto Label1;\\n\\n        if( STAR ) {\\n\\n          \\/\\/ x 0\\n\\n          if( y+1 < h && field[y+1][x] != 1 ) {\\n\\n            nbitmask = bitmask;\\n\\n            SET(nbitmask,x,((field[y][x]==3)+1));\\n\\n            if( x == w-1 ) nbitmask = FIX(nbitmask);\\n\\n          \\n\\n            update(dp[!phase][nbitmask],dp[phase][bitmask]+1);\\n\\n          }\\n\\n          \\/\\/ 0 x\\n\\n          if( x+1 < w && field[y][x+1] != 1 ) {\\n\\n            nbitmask = bitmask;\\n\\n            SET(nbitmask,(x+1),((field[y][x]==3)+1));\\n\\n\\n\\n            if( x == w-1 ) nbitmask = FIX(nbitmask);\\n\\n\\n\\n            update(dp[!phase][nbitmask],dp[phase][bitmask]+1);\\n\\n          }\\n\\n        } else {\\n\\n          \\/\\/ x x\\n\\n          if( x+1 < w && y+1 < h && field[y][x+1] != 1 && field[y+1][x] != 1 ) {\\n\\n            REP(color,1,3){\\n\\n              nbitmask = bitmask;\\n\\n              SET(nbitmask,x,color);\\n\\n              SET(nbitmask,(x+1),color);\\n\\n              if( x == w-1 ) nbitmask = FIX(nbitmask);\\n\\n              update(dp[!phase][nbitmask],(dp[phase][bitmask]+1));\\n\\n            }\\n\\n          }\\n\\n          \\/\\/ 0 0\\n\\n          nbitmask = bitmask;\\n\\n          SET(nbitmask,x,0);\\n\\n          SET(nbitmask,(x+1),0);\\n\\n          if( x == w-1 ) nbitmask = FIX(nbitmask);\\n\\n          update(dp[!phase][nbitmask],dp[phase][bitmask]);\\n\\n        }\\n\\n\\n\\n        continue;\\n\\n      Label1:;\\n\\n        \\/\\/ x 0\\n\\n        \\/\\/ 0 x\\n\\n        int color;\\n\\n        if( !( ( GET(bitmask,x) && ( GET(bitmask,(x+1)) == 0 ) ) || ( GET(bitmask,(x+1)) && ( GET(bitmask,x) == 0 ) ) ) ) goto Label2;\\n\\n        color = GET(bitmask,x) | GET(bitmask,(x+1));\\n\\n        if( STAR ) {\\n\\n          \\/\\/ 0 0\\n\\n          if( ((color==1)?2:3) == field[y][x] ) {\\n\\n            nbitmask = bitmask;\\n\\n            SET(nbitmask,x,0);\\n\\n            SET(nbitmask,(x+1),0);\\n\\n            if( x == w-1 ) nbitmask = FIX(nbitmask);\\n\\n            update(dp[!phase][nbitmask],dp[phase][bitmask]+1);\\n\\n          }\\n\\n        } else {\\n\\n          \\/\\/ x 0\\n\\n          if( y+1 < h && field[y+1][x] != 1 ) {\\n\\n            nbitmask = bitmask;\\n\\n            SET(nbitmask,x,color);\\n\\n            SET(nbitmask,(x+1),0);\\n\\n            if( x == w-1 ) nbitmask = FIX(nbitmask);\\n\\n\\n\\n\\n\\n            update(dp[!phase][nbitmask],(dp[phase][bitmask]+1));\\n\\n          }\\n\\n          \\n\\n          \\/\\/ 0 x\\n\\n          if( x+1 < w && field[y][x+1] != 1 ) {\\n\\n            nbitmask = bitmask;\\n\\n            SET(nbitmask,x,0);\\n\\n            SET(nbitmask,(x+1),color);\\n\\n\\n\\n            if( x == w-1 ) nbitmask = FIX(nbitmask);\\n\\n            update(dp[!phase][nbitmask],(dp[phase][bitmask]+1));\\n\\n          }\\n\\n        }\\n\\n        continue;\\n\\n      Label2:;\\n\\n        \\/\\/ x x\\n\\n        if( !( GET(bitmask,x) && GET(bitmask,(x+1)) ) ) goto Label3;\\n\\n        if( GET(bitmask,x) != GET(bitmask,(x+1)) ) goto Label3;\\n\\n\\n\\n        color = GET(bitmask,x);\\n\\n        \\n\\n        \\/\\/ 0 0\\n\\n        if( !STAR ) {\\n\\n          nbitmask = bitmask;\\n\\n          SET(nbitmask,x,0);\\n\\n          SET(nbitmask,(x+1),0);\\n\\n          if( x == w-1 ) nbitmask = FIX(nbitmask);\\n\\n          update(dp[!phase][nbitmask],dp[phase][bitmask]+1);\\n\\n        }\\n\\n      Label3:;\\n\\n\\n\\n      }\\n\\n      if( field[y][x] == 2 || field[y][x] == 3 ) initter = false;\\n\\n      rep(i,_size) dp[phase][state[i]] = -1;\\n\\n      if( encounter >= 4 && dp[!phase][0] != -1 ) {\\n\\n        mini = min(mini,dp[!phase][0]);\\n\\n      }\\n\\n      phase = !phase;\\n\\n    }\\n\\n  }\\n\\n  if( dp[phase][0] != -1 ) mini = min(mini,dp[phase][0]);\\n\\n  if( mini != IINF ) printf(\\\"%d\\\\n\\\",mini-2);\\n\\n  else puts(\\\"0\\\");\\n\\n}\\n\\n\\n\\nint main(){\\n\\n  while( scanf(\\\"%d %d\\\",&h,&w), h|w ){\\n\\n    rep(i,h) rep(j,w) scanf(\\\"%d\\\",&field[i][j]);\\n\\n    compute();\\n\\n  }\\n\\n  return 0;\\n\\n}\",\"problem_id\":\"p00849\",\"submission_id_v0\":\"s5\",\"cpu_time_v0\":1,\"cpu_time_v1\":1,\"input_time_mean\":186.5291595459,\"input_time_std\":1.4386177063,\"input_acc\":1.0,\"reference_time_mean\":187.2854232788,\"reference_time_std\":0.750541687,\"reference_acc\":1.0,\"improved_code_time_mean\":186.6348981857,\"improved_code_time_std\":0.4979372025,\"improved_code_acc\":1.0}\n7:{\"input\":\"#include<iostream>\\n\\n#include<algorithm>\\n\\nusing namespace std;\\n\\n#define REP(i,b,n) for(int i=b;i<n;i++)\\n\\n#define rep(i,n)   REP(i,0,n)\\n\\n\\n\\nconst int N = 9;\\n\\nconst int inf = (1 <<21);\\n\\n\\n\\nint dx[]={0,1, 0,-1};\\n\\nint dy[]={1,0,-1,0};\\n\\nint op[]={2,3, 0,1};\\n\\nint m[N][N];\\n\\nbool vis2[N][N];\\n\\n\\n\\nbool isok(int r,int c,int y,int x,int last){\\n\\n  rep(i,4){\\n\\n    if (op[i] == last)continue;\\n\\n    int nex=x+dx[i],ney=y+dy[i];\\n\\n    if (nex==-1||ney==-1||nex==c||ney==r)continue;\\n\\n    if (vis2[ney][nex])return false;\\n\\n  }\\n\\n  return true;\\n\\n}\\n\\n\\n\\nvoid output(int r,int c){\\n\\n  cout << \\\"begin\\\"<<endl;\\n\\n  rep(i,r){\\n\\n    rep(j,c){\\n\\n      if (vis2[i][j])cout << 2;\\n\\n      else cout << '0';\\n\\n    }\\n\\n    cout << endl;\\n\\n  }\\n\\n  cout <<endl;\\n\\n}\\n\\n\\n\\n\\n\\nint ans;\\n\\nbool isgoal;\\n\\nint md;\\n\\nbool bfs(int r,int c,int cnt,bool goal2){\\n\\n  static int q[N*N];\\n\\n  static int cost[N][N];\\n\\n  int sy3=-1,sx3=-1,gy3=-1,gx3=-1;\\n\\n  rep(i,r){\\n\\n    rep(j,c){\\n\\n      if (m[i][j] == 3){\\n\\n\\tif (sy3==-1)sy3=i,sx3=j;\\n\\n\\telse gy3=i,gx3=j;\\n\\n      }\\n\\n      cost[i][j]=inf;\\n\\n    }\\n\\n  }\\n\\n  int tail=0,head=0;\\n\\n  q[tail++]=sx3+sy3*c;\\n\\n  cost[sy3][sx3]=0;\\n\\n  while(head != tail){\\n\\n    int now = q[head++];\\n\\n    int x = now%c,y=now\\/c;\\n\\n    if (cnt+cost[y][x] >= ans)return false;\\n\\n    if (x == gx3 && y == gy3){\\n\\n      if (goal2)return true;\\n\\n      isgoal=true;\\n\\n      ans =min(ans,cnt+cost[y][x]);\\n\\n      return true;\\n\\n    }\\n\\n    rep(i,4){\\n\\n      int nex=x+dx[i],ney=y+dy[i];\\n\\n      if (nex==-1||ney==-1||nex==c||ney==r||vis2[ney][nex])continue;\\n\\n      if (m[ney][nex]==1||m[ney][nex] == 2)continue;\\n\\n      if (cost[ney][nex] != inf)continue;\\n\\n      cost[ney][nex]=cost[y][x]+1;\\n\\n      q[tail++]=ney*c+nex;\\n\\n    }\\n\\n  }\\n\\n  return false;\\n\\n}\\n\\n\\n\\nbool bfs2(int r,int c,int cnt,int sy,int sx){\\n\\n  static int q[N*N];\\n\\n  static int cost[N][N];\\n\\n  int sy3=-1,sx3=-1,gy3=-1,gx3=-1;\\n\\n  rep(i,r){\\n\\n    rep(j,c){\\n\\n      if (m[i][j] == 2){\\n\\n\\tif (sy3==-1)sy3=i,sx3=j;\\n\\n\\telse gy3=i,gx3=j;\\n\\n      }\\n\\n      cost[i][j]=inf;\\n\\n    }\\n\\n  }\\n\\n  int tail=0,head=0;\\n\\n  q[tail++]=sx+sy*c;\\n\\n  cost[sy][sx]=0;\\n\\n  while(head != tail){\\n\\n    int now = q[head++];\\n\\n    int x = now%c,y=now\\/c;\\n\\n    if (cnt+cost[y][x] >= ans)return false;\\n\\n    if (x == gx3 && y == gy3){\\n\\n      return true;\\n\\n    }\\n\\n    rep(i,4){\\n\\n      int nex=x+dx[i],ney=y+dy[i];\\n\\n      if (nex==-1||ney==-1||nex==c||ney==r||vis2[ney][nex])continue;\\n\\n      if (m[ney][nex]==1||m[ney][nex] == 3)continue;\\n\\n      if (cost[ney][nex] != inf)continue;\\n\\n      cost[ney][nex]=cost[y][x]+1;\\n\\n      q[tail++]=ney*c+nex;\\n\\n    }\\n\\n  }\\n\\n  return false;\\n\\n}\\n\\n\\n\\n\\n\\nint path[N*N];\\n\\nint pattern[8][5]={\\n\\n  {2,1,1,0,0,},\\n\\n  {1,0,0,3,3,},\\n\\n  {0,3,3,2,2,},\\n\\n  {3,2,2,1,1,},\\n\\n  {2,3,3,0,0,},\\n\\n  {1,2,2,3,3,},\\n\\n  {0,1,1,2,2,},\\n\\n  {3,0,0,1,1,},\\n\\n};\\n\\n\\n\\nint cx[]={-1, 1,1,-1, 1, 1,-1, -1};\\n\\nint cy[]={-1,-1,1, 1,-1, 1, 1,-1};\\n\\n\\n\\nbool isok2(int r,int c,int y,int x,int p){\\n\\n  if (p <5)return true;\\n\\n  rep(i,8){\\n\\n    bool ismatch=true;\\n\\n    rep(j,5){\\n\\n      if (pattern[i][j] == path[p-(5-j)]);\\n\\n      else ismatch=false;\\n\\n    }\\n\\n    if (!ismatch)continue;\\n\\n    int nex=x+cx[i],ney=y+cy[i];\\n\\n    if (nex==-1||ney==-1||nex==c||ney==r)continue;\\n\\n    \\/\\/    cout << \\\"test\\\"<<endl;\\n\\n    \\/\\/    if (m[ney][nex] == 0 && !vis2[ney][nex])cout <<\\\"cut\\\"<<endl;\\n\\n    if (m[ney][nex] == 0 && !vis2[ney][nex])return false;\\n\\n\\n\\n  }\\n\\n  return true;\\n\\n}\\n\\n\\n\\nvoid dfs(int r,int c,int y,int x,int cnt,int last,int gy2,int gx2){\\n\\n  if (!isok(r,c,y,x,last)){\\n\\n    return;\\n\\n  }\\n\\n  if (!isok2(r,c,y,x,cnt))return;\\n\\n\\n\\n  if (cnt+md >= ans)return;\\n\\n  if (!bfs(r,c,cnt,true))return;\\n\\n\\n\\n  \\/\\/  if (!bfs2(r,c,cnt,gy2,gx2))return;\\n\\n  \\/*\\n\\n  for(int i=0;cnt >=5 && i<5;i++){\\n\\n    cout << path[cnt-5+i]<<\\\" \\\";\\n\\n  }\\n\\n  cout << endl;\\n\\n  vis2[y][x]=true;\\n\\n  output(r,c);\\n\\n  vis2[y][x]=false;\\n\\n  *\\/    \\n\\n\\n\\n  if (x == gx2 && y == gy2){\\n\\n    vis2[y][x]=true;\\n\\n    bfs(r,c,cnt,false);\\n\\n    vis2[y][x]=false;\\n\\n    return;\\n\\n  }\\n\\n\\n\\n  vis2[y][x]=true;\\n\\n  rep(i,4){\\n\\n    if (op[i] == last)continue;\\n\\n    int nex=x+dx[i],ney=y+dy[i];\\n\\n    if (nex==-1||ney==-1||nex==c||ney==r||vis2[ney][nex])continue;\\n\\n    if (m[ney][nex] == 3 || m[ney][nex] == 1)continue;\\n\\n    path[cnt]=i;\\n\\n    dfs(r,c,ney,nex,cnt+1,i,gy2,gx2);\\n\\n  }\\n\\n  vis2[y][x]=false;\\n\\n}\\n\\n\\n\\nint bfs2(int r,int c,int tar,int utar){\\n\\n  static int q[N*N];\\n\\n  static int cost[N][N];\\n\\n  int sy3=-1,sx3=-1,gy3=-1,gx3=-1;\\n\\n  rep(i,r){\\n\\n    rep(j,c){\\n\\n      if (m[i][j] == tar){\\n\\n\\tif (sy3==-1)sy3=i,sx3=j;\\n\\n\\telse gy3=i,gx3=j;\\n\\n      }\\n\\n      cost[i][j]=inf;\\n\\n    }\\n\\n  }\\n\\n  int tail=0,head=0;\\n\\n  q[tail++]=sx3+sy3*c;\\n\\n  cost[sy3][sx3]=0;\\n\\n  while(head != tail){\\n\\n    int now = q[head++];\\n\\n    int x = now%c,y=now\\/c;\\n\\n\\n\\n    if (x == gx3 && y == gy3){\\n\\n      return cost[y][x];\\n\\n    }\\n\\n    rep(i,4){\\n\\n      int nex=x+dx[i],ney=y+dy[i];\\n\\n      if (nex==-1||ney==-1||nex==c||ney==r||vis2[ney][nex])continue;\\n\\n      if (m[ney][nex]==1||m[ney][nex] == utar)continue;\\n\\n      if (cost[ney][nex] != inf)continue;\\n\\n      cost[ney][nex]=cost[y][x]+1;\\n\\n      q[tail++]=ney*c+nex;\\n\\n    }\\n\\n  }\\n\\n  return false;\\n\\n}\\n\\n\\n\\n\\n\\n\\n\\nmain(){\\n\\n  int r,c;\\n\\n  while(cin>>r>>c && r){\\n\\n    ans = r*c;\\n\\n    isgoal=false;\\n\\n    rep(i,r)rep(j,c)cin>>m[i][j];\\n\\n    rep(i,r)rep(j,c)vis2[i][j]=false;\\n\\n\\n\\n\\n\\n\\n\\n    \\n\\n    int sx2=-1,sy2=-1;\\n\\n    int gx2=-1,gy2=-1;\\n\\n    rep(i,r){\\n\\n      rep(j,c){\\n\\n\\tif (m[i][j] == 2){\\n\\n\\t  if (sx2 == -1)sx2=j,sy2=i;\\n\\n\\t  else gx2=j,gy2=i;\\n\\n\\t}\\n\\n      }\\n\\n    }\\n\\n    \\n\\n    int sx3=-1,sy3=-1,gx3=-1,gy3=-1;\\n\\n    rep(i,r){\\n\\n      rep(j,c){\\n\\n\\tif (m[i][j] == 3){\\n\\n\\t  if (sx3 == -1)sx3=j,sy3=i;\\n\\n\\t  else gx3=j,gy3=i;\\n\\n\\t}\\n\\n      }\\n\\n    }\\n\\n\\n\\n\\n\\n    \\/*\\n\\n    md = max(sx3,gx3)-min(sx3,gx3)+\\n\\n      max(sy3,gy3)-min(sy3,gy3);\\n\\n    *\\/\\n\\n    md=bfs2(r,c,3,2);\\n\\n\\n\\n\\n\\n    \\n\\n    dfs(r,c,sy2,sx2,0,-1,gy2,gx2);\\n\\n    \\n\\n    if (isgoal)cout << ans << endl;\\n\\n    else cout << 0 << endl;\\n\\n  }\\n\\n  return false;\\n\\n}\",\"improved_code\":\"#include<iostream>\\n\\n#include<algorithm>\\n\\nusing namespace std;\\n\\n#define REP(i,b,n) for(int i=b;i<n;i++)\\n\\n#define rep(i,n)   REP(i,0,n)\\n\\n\\n\\nconst int N = 9;\\n\\nconst int inf = (1 <<21);\\n\\n\\n\\nint dx[]={0,1, 0,-1};\\n\\nint dy[]={1,0,-1,0};\\n\\nint op[]={2,3, 0,1};\\n\\nint m[N][N];\\n\\nbool vis2[N][N];\\n\\n\\n\\nbool isok(int r,int c,int y,int x,int last){\\n\\n  rep(i,4){\\n\\n    if (op[i] == last)continue;\\n\\n    int nex=x+dx[i],ney=y+dy[i];\\n\\n    if (nex==-1||ney==-1||nex==c||ney==r)continue;\\n\\n    if (vis2[ney][nex])return false;\\n\\n  }\\n\\n  return true;\\n\\n}\\n\\n\\n\\nvoid output(int r,int c){\\n\\n  cout << \\\"begin\\\"<<endl;\\n\\n  rep(i,r){\\n\\n    rep(j,c){\\n\\n      if (vis2[i][j])cout << 2;\\n\\n      else cout << '0';\\n\\n    }\\n\\n    cout << endl;\\n\\n  }\\n\\n  cout <<endl;\\n\\n}\\n\\n\\n\\n\\n\\nint ans;\\n\\nbool isgoal;\\n\\nint md;\\n\\nbool bfs(int r,int c,int cnt,bool goal2){\\n\\n  static int q[N*N];\\n\\n  static int cost[N][N];\\n\\n  int sy3=-1,sx3=-1,gy3=-1,gx3=-1;\\n\\n  rep(i,r){\\n\\n    rep(j,c){\\n\\n      if (m[i][j] == 3){\\n\\n\\tif (sy3==-1)sy3=i,sx3=j;\\n\\n\\telse gy3=i,gx3=j;\\n\\n      }\\n\\n      cost[i][j]=inf;\\n\\n    }\\n\\n  }\\n\\n  int tail=0,head=0;\\n\\n  q[tail++]=sx3+sy3*c;\\n\\n  cost[sy3][sx3]=0;\\n\\n  while(head != tail){\\n\\n    int now = q[head++];\\n\\n    int x = now%c,y=now\\/c;\\n\\n    if (cnt+cost[y][x] >= ans)return false;\\n\\n    if (x == gx3 && y == gy3){\\n\\n      if (goal2)return true;\\n\\n      isgoal=true;\\n\\n      ans =min(ans,cnt+cost[y][x]);\\n\\n      return true;\\n\\n    }\\n\\n    rep(i,4){\\n\\n      int nex=x+dx[i],ney=y+dy[i];\\n\\n      if (nex==-1||ney==-1||nex==c||ney==r||vis2[ney][nex])continue;\\n\\n      if (m[ney][nex]==1||m[ney][nex] == 2)continue;\\n\\n      if (cost[ney][nex] != inf)continue;\\n\\n      cost[ney][nex]=cost[y][x]+1;\\n\\n      q[tail++]=ney*c+nex;\\n\\n    }\\n\\n  }\\n\\n  return false;\\n\\n}\\n\\n\\n\\nbool bfs2(int r,int c,int cnt,int sy,int sx){\\n\\n  static int q[N*N];\\n\\n  static int cost[N][N];\\n\\n  int sy3=-1,sx3=-1,gy3=-1,gx3=-1;\\n\\n  rep(i,r){\\n\\n    rep(j,c){\\n\\n      if (m[i][j] == 2){\\n\\n\\tif (sy3==-1)sy3=i,sx3=j;\\n\\n\\telse gy3=i,gx3=j;\\n\\n      }\\n\\n      cost[i][j]=inf;\\n\\n    }\\n\\n  }\\n\\n  int tail=0,head=0;\\n\\n  q[tail++]=sx+sy*c;\\n\\n  cost[sy][sx]=0;\\n\\n  while(head != tail){\\n\\n    int now = q[head++];\\n\\n    int x = now%c,y=now\\/c;\\n\\n    if (cnt+cost[y][x] >= ans)return false;\\n\\n    if (x == gx3 && y == gy3){\\n\\n      return true;\\n\\n    }\\n\\n    rep(i,4){\\n\\n      int nex=x+dx[i],ney=y+dy[i];\\n\\n      if (nex==-1||ney==-1||nex==c||ney==r||vis2[ney][nex])continue;\\n\\n      if (m[ney][nex]==1||m[ney][nex] == 3)continue;\\n\\n      if (cost[ney][nex] != inf)continue;\\n\\n      cost[ney][nex]=cost[y][x]+1;\\n\\n      q[tail++]=ney*c+nex;\\n\\n    }\\n\\n  }\\n\\n  return false;\\n\\n}\\n\\n\\n\\n\\n\\nint path[N*N];\\n\\nint pattern[8][4]={\\n\\n  {2,1,1,0,},\\n\\n  {1,0,0,3,},\\n\\n  {0,3,3,2,},\\n\\n  {3,2,2,1,},\\n\\n  {2,3,3,0,},\\n\\n  {1,2,2,3,},\\n\\n  {0,1,1,2,},\\n\\n  {3,0,0,1,},\\n\\n};\\n\\n\\n\\nint cx[]={-1, 0,1, 0, 1, 0,-1, 0};\\n\\nint cy[]={ 0,-1,0, 1, 0, 1, 0,-1};\\n\\n\\n\\nbool isok2(int r,int c,int y,int x,int p){\\n\\n  if (p <4)return true;\\n\\n  rep(i,8){\\n\\n    bool ismatch=true;\\n\\n    rep(j,4){\\n\\n      if (pattern[i][j] == path[p-(4-j)]);\\n\\n      else ismatch=false;\\n\\n    }\\n\\n    if (!ismatch)continue;\\n\\n    int nex=x+cx[i],ney=y+cy[i];\\n\\n    if (nex==-1||ney==-1||nex==c||ney==r)continue;\\n\\n    if (m[ney][nex] == 0 && !vis2[ney][nex])return false;\\n\\n\\n\\n  }\\n\\n  return true;\\n\\n}\\n\\n\\n\\nvoid dfs(int r,int c,int y,int x,int cnt,int last,int gy2,int gx2){\\n\\n  if (!isok(r,c,y,x,last)){\\n\\n    return;\\n\\n  }\\n\\n  if (!isok2(r,c,y,x,cnt))return;\\n\\n\\n\\n  if (cnt+md >= ans)return;\\n\\n  if (!bfs(r,c,cnt,true))return;\\n\\n\\n\\n  if (!bfs2(r,c,cnt,gy2,gx2))return;\\n\\n\\n\\n  \\/*\\n\\n  for(int i=0;cnt >=5 && i<5;i++){\\n\\n    cout << path[cnt-5+i]<<\\\" \\\";\\n\\n  }\\n\\n  cout << endl;\\n\\n  vis2[y][x]=true;\\n\\n  output(r,c);\\n\\n  vis2[y][x]=false;\\n\\n  *\\/      \\n\\n\\n\\n  if (x == gx2 && y == gy2){\\n\\n    vis2[y][x]=true;\\n\\n    bfs(r,c,cnt,false);\\n\\n    vis2[y][x]=false;\\n\\n    return;\\n\\n  }\\n\\n\\n\\n  vis2[y][x]=true;\\n\\n  rep(i,4){\\n\\n    if (op[i] == last)continue;\\n\\n    int nex=x+dx[i],ney=y+dy[i];\\n\\n    if (nex==-1||ney==-1||nex==c||ney==r||vis2[ney][nex])continue;\\n\\n    if (m[ney][nex] == 3 || m[ney][nex] == 1)continue;\\n\\n    path[cnt]=i;\\n\\n    dfs(r,c,ney,nex,cnt+1,i,gy2,gx2);\\n\\n  }\\n\\n  vis2[y][x]=false;\\n\\n}\\n\\n\\n\\nint bfs2(int r,int c,int tar,int utar){\\n\\n  static int q[N*N];\\n\\n  static int cost[N][N];\\n\\n  int sy3=-1,sx3=-1,gy3=-1,gx3=-1;\\n\\n  rep(i,r){\\n\\n    rep(j,c){\\n\\n      if (m[i][j] == tar){\\n\\n\\tif (sy3==-1)sy3=i,sx3=j;\\n\\n\\telse gy3=i,gx3=j;\\n\\n      }\\n\\n      cost[i][j]=inf;\\n\\n    }\\n\\n  }\\n\\n  int tail=0,head=0;\\n\\n  q[tail++]=sx3+sy3*c;\\n\\n  cost[sy3][sx3]=0;\\n\\n  while(head != tail){\\n\\n    int now = q[head++];\\n\\n    int x = now%c,y=now\\/c;\\n\\n    if (x == gx3 && y == gy3){\\n\\n      return cost[y][x];\\n\\n    }\\n\\n    rep(i,4){\\n\\n      int nex=x+dx[i],ney=y+dy[i];\\n\\n      if (nex==-1||ney==-1||nex==c||ney==r||vis2[ney][nex])continue;\\n\\n      if (m[ney][nex]==1||m[ney][nex] == utar)continue;\\n\\n      if (cost[ney][nex] != inf)continue;\\n\\n      cost[ney][nex]=cost[y][x]+1;\\n\\n      q[tail++]=ney*c+nex;\\n\\n    }\\n\\n  }\\n\\n  return false;\\n\\n}\\n\\n\\n\\nmain(){\\n\\n  int r,c;\\n\\n  while(cin>>r>>c && r){\\n\\n    ans = r*c;\\n\\n    isgoal=false;\\n\\n    rep(i,r)rep(j,c)cin>>m[i][j];\\n\\n    rep(i,r)rep(j,c)vis2[i][j]=false;\\n\\n   \\n\\n    int sx2=-1,sy2=-1;\\n\\n    int gx2=-1,gy2=-1;\\n\\n    rep(i,r){\\n\\n      rep(j,c){\\n\\n\\tif (m[i][j] == 2){\\n\\n\\t  if (sx2 == -1)sx2=j,sy2=i;\\n\\n\\t  else gx2=j,gy2=i;\\n\\n\\t}\\n\\n      }\\n\\n    }\\n\\n    \\n\\n    int sx3=-1,sy3=-1,gx3=-1,gy3=-1;\\n\\n    rep(i,r){\\n\\n      rep(j,c){\\n\\n\\tif (m[i][j] == 3){\\n\\n\\t  if (sx3 == -1)sx3=j,sy3=i;\\n\\n\\t  else gx3=j,gy3=i;\\n\\n\\t}\\n\\n      }\\n\\n    }\\n\\n\\n\\n    md=bfs2(r,c,3,2);\\n\\n    \\n\\n    dfs(r,c,sy2,sx2,0,-1,gy2,gx2);\\n\\n    \\n\\n    if (isgoal)cout << ans << endl;\\n\\n    else cout << 0 << endl;\\n\\n  }\\n\\n  return false;\\n\\n}\",\"slower_program\":\"#include<iostream>\\n\\n#include<algorithm>\\n\\nusing namespace std;\\n\\n#define REP(i,b,n) for(int i=b;i<n;i++)\\n\\n#define rep(i,n)   REP(i,0,n)\\n\\n\\n\\nconst int N = 9;\\n\\nconst int inf = (1 <<21);\\n\\n\\n\\nint dx[]={0,1, 0,-1};\\n\\nint dy[]={1,0,-1,0};\\n\\nint op[]={2,3, 0,1};\\n\\nint m[N][N];\\n\\nbool vis2[N][N];\\n\\n\\n\\nbool isok(int r,int c,int y,int x,int last){\\n\\n  rep(i,4){\\n\\n    if (op[i] == last)continue;\\n\\n    int nex=x+dx[i],ney=y+dy[i];\\n\\n    if (nex==-1||ney==-1||nex==c||ney==r)continue;\\n\\n    if (vis2[ney][nex])return false;\\n\\n  }\\n\\n  return true;\\n\\n}\\n\\n\\n\\nvoid output(int r,int c){\\n\\n  cout << \\\"begin\\\"<<endl;\\n\\n  rep(i,r){\\n\\n    rep(j,c){\\n\\n      if (vis2[i][j])cout << 2;\\n\\n      else cout << '0';\\n\\n    }\\n\\n    cout << endl;\\n\\n  }\\n\\n  cout <<endl;\\n\\n}\\nint ans;\\n\\nbool isgoal;\\n\\nint md;\\n\\nbool bfs(int r,int c,int cnt,bool goal2){\\n\\n  static int q[N*N];\\n\\n  static int cost[N][N];\\n\\n  int sy3=-1,sx3=-1,gy3=-1,gx3=-1;\\n\\n  rep(i,r){\\n\\n    rep(j,c){\\n\\n      if (m[i][j] == 3){\\n\\n\\tif (sy3==-1)sy3=i,sx3=j;\\n\\n\\telse gy3=i,gx3=j;\\n\\n      }\\n\\n      cost[i][j]=inf;\\n\\n    }\\n\\n  }\\n\\n  int tail=0,head=0;\\n\\n  q[tail++]=sx3+sy3*c;\\n\\n  cost[sy3][sx3]=0;\\n\\n  while(head != tail){\\n\\n    int now = q[head++];\\n\\n    int x = now%c,y=now\\/c;\\n\\n    if (cnt+cost[y][x] >= ans)return false;\\n\\n    if (x == gx3 && y == gy3){\\n\\n      if (goal2)return true;\\n\\n      isgoal=true;\\n\\n      ans =min(ans,cnt+cost[y][x]);\\n\\n      return true;\\n\\n    }\\n\\n    rep(i,4){\\n\\n      int nex=x+dx[i],ney=y+dy[i];\\n\\n      if (nex==-1||ney==-1||nex==c||ney==r||vis2[ney][nex])continue;\\n\\n      if (m[ney][nex]==1||m[ney][nex] == 2)continue;\\n\\n      if (cost[ney][nex] != inf)continue;\\n\\n      cost[ney][nex]=cost[y][x]+1;\\n\\n      q[tail++]=ney*c+nex;\\n\\n    }\\n\\n  }\\n\\n  return false;\\n\\n}\\n\\n\\n\\nbool bfs2(int r,int c,int cnt,int sy,int sx){\\n\\n  static int q[N*N];\\n\\n  static int cost[N][N];\\n\\n  int sy3=-1,sx3=-1,gy3=-1,gx3=-1;\\n\\n  rep(i,r){\\n\\n    rep(j,c){\\n\\n      if (m[i][j] == 2){\\n\\n\\tif (sy3==-1)sy3=i,sx3=j;\\n\\n\\telse gy3=i,gx3=j;\\n\\n      }\\n\\n      cost[i][j]=inf;\\n\\n    }\\n\\n  }\\n\\n  int tail=0,head=0;\\n\\n  q[tail++]=sx+sy*c;\\n\\n  cost[sy][sx]=0;\\n\\n  while(head != tail){\\n\\n    int now = q[head++];\\n\\n    int x = now%c,y=now\\/c;\\n\\n    if (cnt+cost[y][x] >= ans)return false;\\n\\n    if (x == gx3 && y == gy3){\\n\\n      return true;\\n\\n    }\\n\\n    rep(i,4){\\n\\n      int nex=x+dx[i],ney=y+dy[i];\\n\\n      if (nex==-1||ney==-1||nex==c||ney==r||vis2[ney][nex])continue;\\n\\n      if (m[ney][nex]==1||m[ney][nex] == 3)continue;\\n\\n      if (cost[ney][nex] != inf)continue;\\n\\n      cost[ney][nex]=cost[y][x]+1;\\n\\n      q[tail++]=ney*c+nex;\\n\\n    }\\n\\n  }\\n\\n  return false;\\n\\n}\\nint path[N*N];\\n\\nint pattern[8][5]={\\n\\n  {2,1,1,0,0,},\\n\\n  {1,0,0,3,3,},\\n\\n  {0,3,3,2,2,},\\n\\n  {3,2,2,1,1,},\\n\\n  {2,3,3,0,0,},\\n\\n  {1,2,2,3,3,},\\n\\n  {0,1,1,2,2,},\\n\\n  {3,0,0,1,1,},\\n\\n};\\n\\n\\n\\nint cx[]={-1, 1,1,-1, 1, 1,-1, -1};\\n\\nint cy[]={-1,-1,1, 1,-1, 1, 1,-1};\\n\\n\\n\\nbool isok2(int r,int c,int y,int x,int p){\\n\\n  if (p <5)return true;\\n\\n  rep(i,8){\\n\\n    bool ismatch=true;\\n\\n    rep(j,5){\\n\\n      if (pattern[i][j] == path[p-(5-j)]);\\n\\n      else ismatch=false;\\n\\n    }\\n\\n    if (!ismatch)continue;\\n\\n    int nex=x+cx[i],ney=y+cy[i];\\n\\n    if (nex==-1||ney==-1||nex==c||ney==r)continue;\\n\\n    \\/\\/    cout << \\\"test\\\"<<endl;\\n\\n    \\/\\/    if (m[ney][nex] == 0 && !vis2[ney][nex])cout <<\\\"cut\\\"<<endl;\\n\\n    if (m[ney][nex] == 0 && !vis2[ney][nex])return false;\\n\\n\\n\\n  }\\n\\n  return true;\\n\\n}\\n\\n\\n\\nvoid dfs(int r,int c,int y,int x,int cnt,int last,int gy2,int gx2){\\n\\n  if (!isok(r,c,y,x,last)){\\n\\n    return;\\n\\n  }\\n\\n  if (!isok2(r,c,y,x,cnt))return;\\n\\n\\n\\n  if (cnt+md >= ans)return;\\n\\n  if (!bfs(r,c,cnt,true))return;\\n\\n\\n\\n  \\/\\/  if (!bfs2(r,c,cnt,gy2,gx2))return;\\n\\n  \\/*\\n\\n  for(int i=0;cnt >=5 && i<5;i++){\\n\\n    cout << path[cnt-5+i]<<\\\" \\\";\\n\\n  }\\n\\n  cout << endl;\\n\\n  vis2[y][x]=true;\\n\\n  output(r,c);\\n\\n  vis2[y][x]=false;\\n\\n  *\\/    \\n\\n\\n\\n  if (x == gx2 && y == gy2){\\n\\n    vis2[y][x]=true;\\n\\n    bfs(r,c,cnt,false);\\n\\n    vis2[y][x]=false;\\n\\n    return;\\n\\n  }\\n\\n\\n\\n  vis2[y][x]=true;\\n\\n  rep(i,4){\\n\\n    if (op[i] == last)continue;\\n\\n    int nex=x+dx[i],ney=y+dy[i];\\n\\n    if (nex==-1||ney==-1||nex==c||ney==r||vis2[ney][nex])continue;\\n\\n    if (m[ney][nex] == 3 || m[ney][nex] == 1)continue;\\n\\n    path[cnt]=i;\\n\\n    dfs(r,c,ney,nex,cnt+1,i,gy2,gx2);\\n\\n  }\\n\\n  vis2[y][x]=false;\\n\\n}\\n\\n\\n\\nint bfs2(int r,int c,int tar,int utar){\\n\\n  static int q[N*N];\\n\\n  static int cost[N][N];\\n\\n  int sy3=-1,sx3=-1,gy3=-1,gx3=-1;\\n\\n  rep(i,r){\\n\\n    rep(j,c){\\n\\n      if (m[i][j] == tar){\\n\\n\\tif (sy3==-1)sy3=i,sx3=j;\\n\\n\\telse gy3=i,gx3=j;\\n\\n      }\\n\\n      cost[i][j]=inf;\\n\\n    }\\n\\n  }\\n\\n  int tail=0,head=0;\\n\\n  q[tail++]=sx3+sy3*c;\\n\\n  cost[sy3][sx3]=0;\\n\\n  while(head != tail){\\n\\n    int now = q[head++];\\n\\n    int x = now%c,y=now\\/c;\\n\\n\\n\\n    if (x == gx3 && y == gy3){\\n\\n      return cost[y][x];\\n\\n    }\\n\\n    rep(i,4){\\n\\n      int nex=x+dx[i],ney=y+dy[i];\\n\\n      if (nex==-1||ney==-1||nex==c||ney==r||vis2[ney][nex])continue;\\n\\n      if (m[ney][nex]==1||m[ney][nex] == utar)continue;\\n\\n      if (cost[ney][nex] != inf)continue;\\n\\n      cost[ney][nex]=cost[y][x]+1;\\n\\n      q[tail++]=ney*c+nex;\\n\\n    }\\n\\n  }\\n\\n  return false;\\n\\n}\\n\\n\\nmain(){\\n\\n  int r,c;\\n\\n  while(cin>>r>>c && r){\\n\\n    ans = r*c;\\n\\n    isgoal=false;\\n\\n    rep(i,r)rep(j,c)cin>>m[i][j];\\n\\n    rep(i,r)rep(j,c)vis2[i][j]=false;\\n\\n\\n    \\n\\n    int sx2=-1,sy2=-1;\\n\\n    int gx2=-1,gy2=-1;\\n\\n    rep(i,r){\\n\\n      rep(j,c){\\n\\n\\tif (m[i][j] == 2){\\n\\n\\t  if (sx2 == -1)sx2=j,sy2=i;\\n\\n\\t  else gx2=j,gy2=i;\\n\\n\\t}\\n\\n      }\\n\\n    }\\n\\n    \\n\\n    int sx3=-1,sy3=-1,gx3=-1,gy3=-1;\\n\\n    rep(i,r){\\n\\n      rep(j,c){\\n\\n\\tif (m[i][j] == 3){\\n\\n\\t  if (sx3 == -1)sx3=j,sy3=i;\\n\\n\\t  else gx3=j,gy3=i;\\n\\n\\t}\\n\\n      }\\n\\n    }\\n    \\/*\\n\\n    md = max(sx3,gx3)-min(sx3,gx3)+\\n\\n      max(sy3,gy3)-min(sy3,gy3);\\n\\n    *\\/\\n\\n    md=bfs2(r,c,3,2);\\n    \\n\\n    dfs(r,c,sy2,sx2,0,-1,gy2,gx2);\\n\\n    \\n\\n    if (isgoal)cout << ans << endl;\\n\\n    else cout << 0 << endl;\\n\\n  }\\n\\n  return false;\\n\\n}\",\"input_ref\":\"#include<iostream>\\n\\n#include<algorithm>\\n\\nusing namespace std;\\n\\n#define REP(i,b,n) for(int i=b;i<n;i++)\\n\\n#define rep(i,n)   REP(i,0,n)\\n\\n\\n\\nconst int N = 9;\\n\\nconst int inf = (1 <<21);\\n\\n\\n\\nint dx[]={0,1, 0,-1};\\n\\nint dy[]={1,0,-1,0};\\n\\nint op[]={2,3, 0,1};\\n\\nint m[N][N];\\n\\nbool vis2[N][N];\\n\\n\\n\\nbool isok(int r,int c,int y,int x,int last){\\n\\n  rep(i,4){\\n\\n    if (op[i] == last)continue;\\n\\n    int nex=x+dx[i],ney=y+dy[i];\\n\\n    if (nex==-1||ney==-1||nex==c||ney==r)continue;\\n\\n    if (vis2[ney][nex])return false;\\n\\n  }\\n\\n  return true;\\n\\n}\\n\\n\\n\\nvoid output(int r,int c){\\n\\n  cout << \\\"begin\\\"<<endl;\\n\\n  rep(i,r){\\n\\n    rep(j,c){\\n\\n      if (vis2[i][j])cout << 2;\\n\\n      else cout << '0';\\n\\n    }\\n\\n    cout << endl;\\n\\n  }\\n\\n  cout <<endl;\\n\\n}\\n\\n\\n\\n\\n\\nint ans;\\n\\nbool isgoal;\\n\\nint md;\\n\\nbool bfs(int r,int c,int cnt,bool goal2){\\n\\n  static int q[N*N];\\n\\n  static int cost[N][N];\\n\\n  int sy3=-1,sx3=-1,gy3=-1,gx3=-1;\\n\\n  rep(i,r){\\n\\n    rep(j,c){\\n\\n      if (m[i][j] == 3){\\n\\n\\tif (sy3==-1)sy3=i,sx3=j;\\n\\n\\telse gy3=i,gx3=j;\\n\\n      }\\n\\n      cost[i][j]=inf;\\n\\n    }\\n\\n  }\\n\\n  int tail=0,head=0;\\n\\n  q[tail++]=sx3+sy3*c;\\n\\n  cost[sy3][sx3]=0;\\n\\n  while(head != tail){\\n\\n    int now = q[head++];\\n\\n    int x = now%c,y=now\\/c;\\n\\n    if (cnt+cost[y][x] >= ans)return false;\\n\\n    if (x == gx3 && y == gy3){\\n\\n      if (goal2)return true;\\n\\n      isgoal=true;\\n\\n      ans =min(ans,cnt+cost[y][x]);\\n\\n      return true;\\n\\n    }\\n\\n    rep(i,4){\\n\\n      int nex=x+dx[i],ney=y+dy[i];\\n\\n      if (nex==-1||ney==-1||nex==c||ney==r||vis2[ney][nex])continue;\\n\\n      if (m[ney][nex]==1||m[ney][nex] == 2)continue;\\n\\n      if (cost[ney][nex] != inf)continue;\\n\\n      cost[ney][nex]=cost[y][x]+1;\\n\\n      q[tail++]=ney*c+nex;\\n\\n    }\\n\\n  }\\n\\n  return false;\\n\\n}\\n\\n\\n\\nbool bfs2(int r,int c,int cnt,int sy,int sx){\\n\\n  static int q[N*N];\\n\\n  static int cost[N][N];\\n\\n  int sy3=-1,sx3=-1,gy3=-1,gx3=-1;\\n\\n  rep(i,r){\\n\\n    rep(j,c){\\n\\n      if (m[i][j] == 2){\\n\\n\\tif (sy3==-1)sy3=i,sx3=j;\\n\\n\\telse gy3=i,gx3=j;\\n\\n      }\\n\\n      cost[i][j]=inf;\\n\\n    }\\n\\n  }\\n\\n  int tail=0,head=0;\\n\\n  q[tail++]=sx+sy*c;\\n\\n  cost[sy][sx]=0;\\n\\n  while(head != tail){\\n\\n    int now = q[head++];\\n\\n    int x = now%c,y=now\\/c;\\n\\n    if (cnt+cost[y][x] >= ans)return false;\\n\\n    if (x == gx3 && y == gy3){\\n\\n      return true;\\n\\n    }\\n\\n    rep(i,4){\\n\\n      int nex=x+dx[i],ney=y+dy[i];\\n\\n      if (nex==-1||ney==-1||nex==c||ney==r||vis2[ney][nex])continue;\\n\\n      if (m[ney][nex]==1||m[ney][nex] == 3)continue;\\n\\n      if (cost[ney][nex] != inf)continue;\\n\\n      cost[ney][nex]=cost[y][x]+1;\\n\\n      q[tail++]=ney*c+nex;\\n\\n    }\\n\\n  }\\n\\n  return false;\\n\\n}\\n\\n\\n\\n\\n\\nint path[N*N];\\n\\nint pattern[8][5]={\\n\\n  {2,1,1,0,0,},\\n\\n  {1,0,0,3,3,},\\n\\n  {0,3,3,2,2,},\\n\\n  {3,2,2,1,1,},\\n\\n  {2,3,3,0,0,},\\n\\n  {1,2,2,3,3,},\\n\\n  {0,1,1,2,2,},\\n\\n  {3,0,0,1,1,},\\n\\n};\\n\\n\\n\\nint cx[]={-1, 1,1,-1, 1, 1,-1, -1};\\n\\nint cy[]={-1,-1,1, 1,-1, 1, 1,-1};\\n\\n\\n\\nbool isok2(int r,int c,int y,int x,int p){\\n\\n  if (p <5)return true;\\n\\n  rep(i,8){\\n\\n    bool ismatch=true;\\n\\n    rep(j,5){\\n\\n      if (pattern[i][j] == path[p-(5-j)]);\\n\\n      else ismatch=false;\\n\\n    }\\n\\n    if (!ismatch)continue;\\n\\n    int nex=x+cx[i],ney=y+cy[i];\\n\\n    if (nex==-1||ney==-1||nex==c||ney==r)continue;\\n\\n    \\/\\/    cout << \\\"test\\\"<<endl;\\n\\n    \\/\\/    if (m[ney][nex] == 0 && !vis2[ney][nex])cout <<\\\"cut\\\"<<endl;\\n\\n    if (m[ney][nex] == 0 && !vis2[ney][nex])return false;\\n\\n\\n\\n  }\\n\\n  return true;\\n\\n}\\n\\n\\n\\nvoid dfs(int r,int c,int y,int x,int cnt,int last,int gy2,int gx2){\\n\\n  if (!isok(r,c,y,x,last)){\\n\\n    return;\\n\\n  }\\n\\n  if (!isok2(r,c,y,x,cnt))return;\\n\\n\\n\\n  if (cnt+md >= ans)return;\\n\\n  if (!bfs(r,c,cnt,true))return;\\n\\n\\n\\n  \\/\\/  if (!bfs2(r,c,cnt,gy2,gx2))return;\\n\\n  \\/*\\n\\n  for(int i=0;cnt >=5 && i<5;i++){\\n\\n    cout << path[cnt-5+i]<<\\\" \\\";\\n\\n  }\\n\\n  cout << endl;\\n\\n  vis2[y][x]=true;\\n\\n  output(r,c);\\n\\n  vis2[y][x]=false;\\n\\n  *\\/    \\n\\n\\n\\n  if (x == gx2 && y == gy2){\\n\\n    vis2[y][x]=true;\\n\\n    bfs(r,c,cnt,false);\\n\\n    vis2[y][x]=false;\\n\\n    return;\\n\\n  }\\n\\n\\n\\n  vis2[y][x]=true;\\n\\n  rep(i,4){\\n\\n    if (op[i] == last)continue;\\n\\n    int nex=x+dx[i],ney=y+dy[i];\\n\\n    if (nex==-1||ney==-1||nex==c||ney==r||vis2[ney][nex])continue;\\n\\n    if (m[ney][nex] == 3 || m[ney][nex] == 1)continue;\\n\\n    path[cnt]=i;\\n\\n    dfs(r,c,ney,nex,cnt+1,i,gy2,gx2);\\n\\n  }\\n\\n  vis2[y][x]=false;\\n\\n}\\n\\n\\n\\nint bfs2(int r,int c,int tar,int utar){\\n\\n  static int q[N*N];\\n\\n  static int cost[N][N];\\n\\n  int sy3=-1,sx3=-1,gy3=-1,gx3=-1;\\n\\n  rep(i,r){\\n\\n    rep(j,c){\\n\\n      if (m[i][j] == tar){\\n\\n\\tif (sy3==-1)sy3=i,sx3=j;\\n\\n\\telse gy3=i,gx3=j;\\n\\n      }\\n\\n      cost[i][j]=inf;\\n\\n    }\\n\\n  }\\n\\n  int tail=0,head=0;\\n\\n  q[tail++]=sx3+sy3*c;\\n\\n  cost[sy3][sx3]=0;\\n\\n  while(head != tail){\\n\\n    int now = q[head++];\\n\\n    int x = now%c,y=now\\/c;\\n\\n\\n\\n    if (x == gx3 && y == gy3){\\n\\n      return cost[y][x];\\n\\n    }\\n\\n    rep(i,4){\\n\\n      int nex=x+dx[i],ney=y+dy[i];\\n\\n      if (nex==-1||ney==-1||nex==c||ney==r||vis2[ney][nex])continue;\\n\\n      if (m[ney][nex]==1||m[ney][nex] == utar)continue;\\n\\n      if (cost[ney][nex] != inf)continue;\\n\\n      cost[ney][nex]=cost[y][x]+1;\\n\\n      q[tail++]=ney*c+nex;\\n\\n    }\\n\\n  }\\n\\n  return false;\\n\\n}\\n\\n\\n\\n\\n\\n\\n\\nmain(){\\n\\n  int r,c;\\n\\n  while(cin>>r>>c && r){\\n\\n    ans = r*c;\\n\\n    isgoal=false;\\n\\n    rep(i,r)rep(j,c)cin>>m[i][j];\\n\\n    rep(i,r)rep(j,c)vis2[i][j]=false;\\n\\n\\n\\n\\n\\n\\n\\n    \\n\\n    int sx2=-1,sy2=-1;\\n\\n    int gx2=-1,gy2=-1;\\n\\n    rep(i,r){\\n\\n      rep(j,c){\\n\\n\\tif (m[i][j] == 2){\\n\\n\\t  if (sx2 == -1)sx2=j,sy2=i;\\n\\n\\t  else gx2=j,gy2=i;\\n\\n\\t}\\n\\n      }\\n\\n    }\\n\\n    \\n\\n    int sx3=-1,sy3=-1,gx3=-1,gy3=-1;\\n\\n    rep(i,r){\\n\\n      rep(j,c){\\n\\n\\tif (m[i][j] == 3){\\n\\n\\t  if (sx3 == -1)sx3=j,sy3=i;\\n\\n\\t  else gx3=j,gy3=i;\\n\\n\\t}\\n\\n      }\\n\\n    }\\n\\n\\n\\n\\n\\n    \\/*\\n\\n    md = max(sx3,gx3)-min(sx3,gx3)+\\n\\n      max(sy3,gy3)-min(sy3,gy3);\\n\\n    *\\/\\n\\n    md=bfs2(r,c,3,2);\\n\\n\\n\\n\\n\\n    \\n\\n    dfs(r,c,sy2,sx2,0,-1,gy2,gx2);\\n\\n    \\n\\n    if (isgoal)cout << ans << endl;\\n\\n    else cout << 0 << endl;\\n\\n  }\\n\\n  return false;\\n\\n}\",\"problem_id\":\"p00849\",\"submission_id_v0\":\"s6\",\"cpu_time_v0\":1,\"cpu_time_v1\":1,\"input_time_mean\":null,\"input_time_std\":null,\"input_acc\":0.0,\"reference_time_mean\":5290.0830507278,\"reference_time_std\":2.5633573532,\"reference_acc\":1.0,\"improved_code_time_mean\":5292.3616170883,\"improved_code_time_std\":3.7578344345,\"improved_code_acc\":1.0}\n8:{\"input\":\"#include<iostream>\\n\\n#include<algorithm>\\n\\nusing namespace std;\\n\\n#define REP(i,b,n) for(int i=b;i<n;i++)\\n\\n#define rep(i,n)   REP(i,0,n)\\n\\n\\n\\nconst int N = 9;\\n\\nconst int inf = (1 <<21);\\n\\n\\n\\nint dx[]={0,1, 0,-1};\\n\\nint dy[]={1,0,-1,0};\\n\\nint op[]={2,3, 0,1};\\n\\nint m[N][N];\\n\\nbool vis2[N][N];\\n\\n\\n\\nbool isok(int r,int c,int y,int x,int last){\\n\\n  rep(i,4){\\n\\n    if (op[i] == last)continue;\\n\\n    int nex=x+dx[i],ney=y+dy[i];\\n\\n    if (nex==-1||ney==-1||nex==c||ney==r)continue;\\n\\n    if (vis2[ney][nex])return false;\\n\\n  }\\n\\n  return true;\\n\\n}\\n\\n\\n\\nvoid output(int r,int c){\\n\\n  cout << \\\"begin\\\"<<endl;\\n\\n  rep(i,r){\\n\\n    rep(j,c){\\n\\n      if (vis2[i][j])cout << 2;\\n\\n      else cout << '0';\\n\\n    }\\n\\n    cout << endl;\\n\\n  }\\n\\n  cout <<endl;\\n\\n}\\n\\n\\n\\n\\n\\nint ans;\\n\\nbool isgoal;\\n\\nint md;\\n\\nbool bfs(int r,int c,int cnt,bool goal2){\\n\\n  static int q[N*N];\\n\\n  static int cost[N][N];\\n\\n  int sy3=-1,sx3=-1,gy3=-1,gx3=-1;\\n\\n  rep(i,r){\\n\\n    rep(j,c){\\n\\n      if (m[i][j] == 3){\\n\\n\\tif (sy3==-1)sy3=i,sx3=j;\\n\\n\\telse gy3=i,gx3=j;\\n\\n      }\\n\\n      cost[i][j]=inf;\\n\\n    }\\n\\n  }\\n\\n  int tail=0,head=0;\\n\\n  q[tail++]=sx3+sy3*c;\\n\\n  cost[sy3][sx3]=0;\\n\\n  while(head != tail){\\n\\n    int now = q[head++];\\n\\n    int x = now%c,y=now\\/c;\\n\\n    if (cnt+cost[y][x] >= ans)return false;\\n\\n    if (x == gx3 && y == gy3){\\n\\n      if (goal2)return true;\\n\\n      isgoal=true;\\n\\n      ans =min(ans,cnt+cost[y][x]);\\n\\n      return true;\\n\\n    }\\n\\n    rep(i,4){\\n\\n      int nex=x+dx[i],ney=y+dy[i];\\n\\n      if (nex==-1||ney==-1||nex==c||ney==r||vis2[ney][nex])continue;\\n\\n      if (m[ney][nex]==1||m[ney][nex] == 2)continue;\\n\\n      if (cost[ney][nex] != inf)continue;\\n\\n      cost[ney][nex]=cost[y][x]+1;\\n\\n      q[tail++]=ney*c+nex;\\n\\n    }\\n\\n  }\\n\\n  return false;\\n\\n}\\n\\n\\n\\nbool bfs2(int r,int c,int cnt,int sy,int sx){\\n\\n  static int q[N*N];\\n\\n  static int cost[N][N];\\n\\n  int sy3=-1,sx3=-1,gy3=-1,gx3=-1;\\n\\n  rep(i,r){\\n\\n    rep(j,c){\\n\\n      if (m[i][j] == 2){\\n\\n\\tif (sy3==-1)sy3=i,sx3=j;\\n\\n\\telse gy3=i,gx3=j;\\n\\n      }\\n\\n      cost[i][j]=inf;\\n\\n    }\\n\\n  }\\n\\n  int tail=0,head=0;\\n\\n  q[tail++]=sx+sy*c;\\n\\n  cost[sy][sx]=0;\\n\\n  while(head != tail){\\n\\n    int now = q[head++];\\n\\n    int x = now%c,y=now\\/c;\\n\\n    if (cnt+cost[y][x] >= ans)return false;\\n\\n    if (x == gx3 && y == gy3){\\n\\n      return true;\\n\\n    }\\n\\n    rep(i,4){\\n\\n      int nex=x+dx[i],ney=y+dy[i];\\n\\n      if (nex==-1||ney==-1||nex==c||ney==r||vis2[ney][nex])continue;\\n\\n      if (m[ney][nex]==1||m[ney][nex] == 3)continue;\\n\\n      if (cost[ney][nex] != inf)continue;\\n\\n      cost[ney][nex]=cost[y][x]+1;\\n\\n      q[tail++]=ney*c+nex;\\n\\n    }\\n\\n  }\\n\\n  return false;\\n\\n}\\n\\n\\n\\n\\n\\nint path[N*N];\\n\\nint pattern[8][4]={\\n\\n  {2,1,1,0,},\\n\\n  {1,0,0,3,},\\n\\n  {0,3,3,2,},\\n\\n  {3,2,2,1,},\\n\\n  {2,3,3,0,},\\n\\n  {1,2,2,3,},\\n\\n  {0,1,1,2,},\\n\\n  {3,0,0,1,},\\n\\n};\\n\\n\\n\\nint cx[]={-1, 0,1, 0, 1, 0,-1, 0};\\n\\nint cy[]={ 0,-1,0, 1, 0, 1, 0,-1};\\n\\n\\n\\nbool isok2(int r,int c,int y,int x,int p){\\n\\n  if (p <4)return true;\\n\\n  rep(i,8){\\n\\n    bool ismatch=true;\\n\\n    rep(j,4){\\n\\n      if (pattern[i][j] == path[p-(4-j)]);\\n\\n      else ismatch=false;\\n\\n    }\\n\\n    if (!ismatch)continue;\\n\\n    int nex=x+cx[i],ney=y+cy[i];\\n\\n    if (nex==-1||ney==-1||nex==c||ney==r)continue;\\n\\n    if (m[ney][nex] == 0 && !vis2[ney][nex])return false;\\n\\n\\n\\n  }\\n\\n  return true;\\n\\n}\\n\\n\\n\\nvoid dfs(int r,int c,int y,int x,int cnt,int last,int gy2,int gx2){\\n\\n  if (!isok(r,c,y,x,last)){\\n\\n    return;\\n\\n  }\\n\\n  if (!isok2(r,c,y,x,cnt))return;\\n\\n\\n\\n  if (cnt+md >= ans)return;\\n\\n  if (!bfs(r,c,cnt,true))return;\\n\\n\\n\\n  if (!bfs2(r,c,cnt,gy2,gx2))return;\\n\\n\\n\\n  \\/*\\n\\n  for(int i=0;cnt >=5 && i<5;i++){\\n\\n    cout << path[cnt-5+i]<<\\\" \\\";\\n\\n  }\\n\\n  cout << endl;\\n\\n  vis2[y][x]=true;\\n\\n  output(r,c);\\n\\n  vis2[y][x]=false;\\n\\n  *\\/      \\n\\n\\n\\n  if (x == gx2 && y == gy2){\\n\\n    vis2[y][x]=true;\\n\\n    bfs(r,c,cnt,false);\\n\\n    vis2[y][x]=false;\\n\\n    return;\\n\\n  }\\n\\n\\n\\n  vis2[y][x]=true;\\n\\n  rep(i,4){\\n\\n    if (op[i] == last)continue;\\n\\n    int nex=x+dx[i],ney=y+dy[i];\\n\\n    if (nex==-1||ney==-1||nex==c||ney==r||vis2[ney][nex])continue;\\n\\n    if (m[ney][nex] == 3 || m[ney][nex] == 1)continue;\\n\\n    path[cnt]=i;\\n\\n    dfs(r,c,ney,nex,cnt+1,i,gy2,gx2);\\n\\n  }\\n\\n  vis2[y][x]=false;\\n\\n}\\n\\n\\n\\nint bfs2(int r,int c,int tar,int utar){\\n\\n  static int q[N*N];\\n\\n  static int cost[N][N];\\n\\n  int sy3=-1,sx3=-1,gy3=-1,gx3=-1;\\n\\n  rep(i,r){\\n\\n    rep(j,c){\\n\\n      if (m[i][j] == tar){\\n\\n\\tif (sy3==-1)sy3=i,sx3=j;\\n\\n\\telse gy3=i,gx3=j;\\n\\n      }\\n\\n      cost[i][j]=inf;\\n\\n    }\\n\\n  }\\n\\n  int tail=0,head=0;\\n\\n  q[tail++]=sx3+sy3*c;\\n\\n  cost[sy3][sx3]=0;\\n\\n  while(head != tail){\\n\\n    int now = q[head++];\\n\\n    int x = now%c,y=now\\/c;\\n\\n    if (x == gx3 && y == gy3){\\n\\n      return cost[y][x];\\n\\n    }\\n\\n    rep(i,4){\\n\\n      int nex=x+dx[i],ney=y+dy[i];\\n\\n      if (nex==-1||ney==-1||nex==c||ney==r||vis2[ney][nex])continue;\\n\\n      if (m[ney][nex]==1||m[ney][nex] == utar)continue;\\n\\n      if (cost[ney][nex] != inf)continue;\\n\\n      cost[ney][nex]=cost[y][x]+1;\\n\\n      q[tail++]=ney*c+nex;\\n\\n    }\\n\\n  }\\n\\n  return false;\\n\\n}\\n\\n\\n\\nmain(){\\n\\n  int r,c;\\n\\n  while(cin>>r>>c && r){\\n\\n    ans = r*c;\\n\\n    isgoal=false;\\n\\n    rep(i,r)rep(j,c)cin>>m[i][j];\\n\\n    rep(i,r)rep(j,c)vis2[i][j]=false;\\n\\n   \\n\\n    int sx2=-1,sy2=-1;\\n\\n    int gx2=-1,gy2=-1;\\n\\n    rep(i,r){\\n\\n      rep(j,c){\\n\\n\\tif (m[i][j] == 2){\\n\\n\\t  if (sx2 == -1)sx2=j,sy2=i;\\n\\n\\t  else gx2=j,gy2=i;\\n\\n\\t}\\n\\n      }\\n\\n    }\\n\\n    \\n\\n    int sx3=-1,sy3=-1,gx3=-1,gy3=-1;\\n\\n    rep(i,r){\\n\\n      rep(j,c){\\n\\n\\tif (m[i][j] == 3){\\n\\n\\t  if (sx3 == -1)sx3=j,sy3=i;\\n\\n\\t  else gx3=j,gy3=i;\\n\\n\\t}\\n\\n      }\\n\\n    }\\n\\n\\n\\n    md=bfs2(r,c,3,2);\\n\\n    \\n\\n    dfs(r,c,sy2,sx2,0,-1,gy2,gx2);\\n\\n    \\n\\n    if (isgoal)cout << ans << endl;\\n\\n    else cout << 0 << endl;\\n\\n  }\\n\\n  return false;\\n\\n}\",\"improved_code\":\"#include<iostream>\\n\\n#include<algorithm>\\n\\nusing namespace std;\\n\\n#define REP(i,b,n) for(int i=b;i<n;i++)\\n\\n#define rep(i,n)   REP(i,0,n)\\n\\n\\n\\nconst int N = 9;\\n\\nconst int inf = (1 <<21);\\n\\n\\n\\nint dx[]={0,1, 0,-1};\\n\\nint dy[]={1,0,-1,0};\\n\\nint op[]={2,3, 0,1};\\n\\nint m[N][N];\\n\\nbool vis2[N][N];\\n\\n\\n\\nbool isok(int r,int c,int y,int x,int last){\\n\\n  rep(i,4){\\n\\n    if (op[i] == last)continue;\\n\\n    int nex=x+dx[i],ney=y+dy[i];\\n\\n    if (nex==-1||ney==-1||nex==c||ney==r)continue;\\n\\n    if (vis2[ney][nex])return false;\\n\\n  }\\n\\n  return true;\\n\\n}\\n\\n\\n\\nvoid output(int r,int c){\\n\\n  cout << \\\"begin\\\"<<endl;\\n\\n  rep(i,r){\\n\\n    rep(j,c){\\n\\n      if (vis2[i][j])cout << 2;\\n\\n      else cout << '0';\\n\\n    }\\n\\n    cout << endl;\\n\\n  }\\n\\n  cout <<endl;\\n\\n}\\n\\n\\n\\n\\n\\nint ans;\\n\\nbool isgoal;\\n\\nint md;\\n\\nbool bfs(int r,int c,int cnt,bool goal2){\\n\\n  static int q[N*N];\\n\\n  static int cost[N][N];\\n\\n  int sy3=-1,sx3=-1,gy3=-1,gx3=-1;\\n\\n  rep(i,r){\\n\\n    rep(j,c){\\n\\n      if (m[i][j] == 3){\\n\\n\\tif (sy3==-1)sy3=i,sx3=j;\\n\\n\\telse gy3=i,gx3=j;\\n\\n      }\\n\\n      cost[i][j]=inf;\\n\\n    }\\n\\n  }\\n\\n  int tail=0,head=0;\\n\\n  q[tail++]=sx3+sy3*c;\\n\\n  cost[sy3][sx3]=0;\\n\\n  while(head != tail){\\n\\n    int now = q[head++];\\n\\n    int x = now%c,y=now\\/c;\\n\\n    if (cnt+cost[y][x] >= ans)return false;\\n\\n    if (x == gx3 && y == gy3){\\n\\n      if (goal2)return true;\\n\\n      isgoal=true;\\n\\n      ans =min(ans,cnt+cost[y][x]);\\n\\n      return true;\\n\\n    }\\n\\n    rep(i,4){\\n\\n      int nex=x+dx[i],ney=y+dy[i];\\n\\n      if (nex==-1||ney==-1||nex==c||ney==r||vis2[ney][nex])continue;\\n\\n      if (m[ney][nex]==1||m[ney][nex] == 2)continue;\\n\\n      if (cost[ney][nex] != inf)continue;\\n\\n      cost[ney][nex]=cost[y][x]+1;\\n\\n      q[tail++]=ney*c+nex;\\n\\n    }\\n\\n  }\\n\\n  return false;\\n\\n}\\n\\n\\n\\nbool bfs2(int r,int c,int cnt,int sy,int sx){\\n\\n  static int q[N*N];\\n\\n  static int cost[N][N];\\n\\n  int sy3=-1,sx3=-1,gy3=-1,gx3=-1;\\n\\n  rep(i,r){\\n\\n    rep(j,c){\\n\\n      if (m[i][j] == 2){\\n\\n\\tif (sy3==-1)sy3=i,sx3=j;\\n\\n\\telse gy3=i,gx3=j;\\n\\n      }\\n\\n      cost[i][j]=inf;\\n\\n    }\\n\\n  }\\n\\n  int tail=0,head=0;\\n\\n  q[tail++]=sx+sy*c;\\n\\n  cost[sy][sx]=0;\\n\\n  while(head != tail){\\n\\n    int now = q[head++];\\n\\n    int x = now%c,y=now\\/c;\\n\\n    if (cnt+cost[y][x] >= ans)return false;\\n\\n    if (x == gx3 && y == gy3){\\n\\n      return true;\\n\\n    }\\n\\n    rep(i,4){\\n\\n      int nex=x+dx[i],ney=y+dy[i];\\n\\n      if (nex==-1||ney==-1||nex==c||ney==r||vis2[ney][nex])continue;\\n\\n      if (m[ney][nex]==1||m[ney][nex] == 3)continue;\\n\\n      if (cost[ney][nex] != inf)continue;\\n\\n      cost[ney][nex]=cost[y][x]+1;\\n\\n      q[tail++]=ney*c+nex;\\n\\n    }\\n\\n  }\\n\\n  return false;\\n\\n}\\n\\n\\n\\n\\n\\nint path[N*N];\\n\\nint pattern[8][4]={\\n\\n  {2,1,1,0,},\\n\\n  {1,0,0,3,},\\n\\n  {0,3,3,2,},\\n\\n  {3,2,2,1,},\\n\\n  {2,3,3,0,},\\n\\n  {1,2,2,3,},\\n\\n  {0,1,1,2,},\\n\\n  {3,0,0,1,},\\n\\n};\\n\\n\\n\\nint cx[]={-1, 0,1, 0, 1, 0,-1, 0};\\n\\nint cy[]={ 0,-1,0, 1, 0, 1, 0,-1};\\n\\n\\n\\nbool isok2(int r,int c,int y,int x,int p){\\n\\n  if (p <4)return true;\\n\\n  rep(i,8){\\n\\n    bool ismatch=true;\\n\\n    rep(j,4){\\n\\n      if (pattern[i][j] == path[p-(4-j)]);\\n\\n      else ismatch=false;\\n\\n    }\\n\\n    if (!ismatch)continue;\\n\\n    int nex=x+cx[i],ney=y+cy[i];\\n\\n    if (nex==-1||ney==-1||nex==c||ney==r)continue;\\n\\n    if (m[ney][nex] == 0 && !vis2[ney][nex])return false;\\n\\n\\n\\n  }\\n\\n  return true;\\n\\n}\\n\\n\\n\\nvoid dfs(int r,int c,int y,int x,int cnt,int last,int gy2,int gx2){\\n\\n  if (!isok(r,c,y,x,last)){\\n\\n    return;\\n\\n  }\\n\\n  if (!isok2(r,c,y,x,cnt))return;\\n\\n\\n\\n  if (cnt+md >= ans)return;\\n\\n  if (!bfs(r,c,cnt,true))return;\\n\\n\\n\\n  \\/\\/  if (!bfs2(r,c,cnt,gy2,gx2))return;\\n\\n\\n\\n  \\/*\\n\\n  for(int i=0;cnt >=5 && i<5;i++){\\n\\n    cout << path[cnt-5+i]<<\\\" \\\";\\n\\n  }\\n\\n  cout << endl;\\n\\n  vis2[y][x]=true;\\n\\n  output(r,c);\\n\\n  vis2[y][x]=false;\\n\\n  *\\/      \\n\\n\\n\\n  if (x == gx2 && y == gy2){\\n\\n    vis2[y][x]=true;\\n\\n    bfs(r,c,cnt,false);\\n\\n    vis2[y][x]=false;\\n\\n    return;\\n\\n  }\\n\\n\\n\\n  vis2[y][x]=true;\\n\\n  rep(i,4){\\n\\n    if (op[i] == last)continue;\\n\\n    int nex=x+dx[i],ney=y+dy[i];\\n\\n    if (nex==-1||ney==-1||nex==c||ney==r||vis2[ney][nex])continue;\\n\\n    if (m[ney][nex] == 3 || m[ney][nex] == 1)continue;\\n\\n    path[cnt]=i;\\n\\n    dfs(r,c,ney,nex,cnt+1,i,gy2,gx2);\\n\\n  }\\n\\n  vis2[y][x]=false;\\n\\n}\\n\\n\\n\\nint bfs2(int r,int c,int tar,int utar){\\n\\n  static int q[N*N];\\n\\n  static int cost[N][N];\\n\\n  int sy3=-1,sx3=-1,gy3=-1,gx3=-1;\\n\\n  rep(i,r){\\n\\n    rep(j,c){\\n\\n      if (m[i][j] == tar){\\n\\n\\tif (sy3==-1)sy3=i,sx3=j;\\n\\n\\telse gy3=i,gx3=j;\\n\\n      }\\n\\n      cost[i][j]=inf;\\n\\n    }\\n\\n  }\\n\\n  int tail=0,head=0;\\n\\n  q[tail++]=sx3+sy3*c;\\n\\n  cost[sy3][sx3]=0;\\n\\n  while(head != tail){\\n\\n    int now = q[head++];\\n\\n    int x = now%c,y=now\\/c;\\n\\n    if (x == gx3 && y == gy3){\\n\\n      return cost[y][x];\\n\\n    }\\n\\n    rep(i,4){\\n\\n      int nex=x+dx[i],ney=y+dy[i];\\n\\n      if (nex==-1||ney==-1||nex==c||ney==r||vis2[ney][nex])continue;\\n\\n      if (m[ney][nex]==1||m[ney][nex] == utar)continue;\\n\\n      if (cost[ney][nex] != inf)continue;\\n\\n      cost[ney][nex]=cost[y][x]+1;\\n\\n      q[tail++]=ney*c+nex;\\n\\n    }\\n\\n  }\\n\\n  return false;\\n\\n}\\n\\n\\n\\nmain(){\\n\\n  int r,c;\\n\\n  while(cin>>r>>c && r){\\n\\n    ans = r*c;\\n\\n    isgoal=false;\\n\\n    rep(i,r)rep(j,c)cin>>m[i][j];\\n\\n    rep(i,r)rep(j,c)vis2[i][j]=false;\\n\\n   \\n\\n    int sx2=-1,sy2=-1;\\n\\n    int gx2=-1,gy2=-1;\\n\\n    rep(i,r){\\n\\n      rep(j,c){\\n\\n\\tif (m[i][j] == 2){\\n\\n\\t  if (sx2 == -1)sx2=j,sy2=i;\\n\\n\\t  else gx2=j,gy2=i;\\n\\n\\t}\\n\\n      }\\n\\n    }\\n\\n    \\n\\n    int sx3=-1,sy3=-1,gx3=-1,gy3=-1;\\n\\n    rep(i,r){\\n\\n      rep(j,c){\\n\\n\\tif (m[i][j] == 3){\\n\\n\\t  if (sx3 == -1)sx3=j,sy3=i;\\n\\n\\t  else gx3=j,gy3=i;\\n\\n\\t}\\n\\n      }\\n\\n    }\\n\\n\\n\\n    md=bfs2(r,c,3,2);\\n\\n    \\n\\n    dfs(r,c,sy2,sx2,0,-1,gy2,gx2);\\n\\n    \\n\\n    if (isgoal)cout << ans << endl;\\n\\n    else cout << 0 << endl;\\n\\n  }\\n\\n  return false;\\n\\n}\",\"slower_program\":\"#include<iostream>\\n\\n#include<algorithm>\\n\\nusing namespace std;\\n\\n#define REP(i,b,n) for(int i=b;i<n;i++)\\n\\n#define rep(i,n)   REP(i,0,n)\\n\\n\\n\\nconst int N = 9;\\n\\nconst int inf = (1 <<21);\\n\\n\\n\\nint dx[]={0,1, 0,-1};\\n\\nint dy[]={1,0,-1,0};\\n\\nint op[]={2,3, 0,1};\\n\\nint m[N][N];\\n\\nbool vis2[N][N];\\n\\n\\n\\nbool isok(int r,int c,int y,int x,int last){\\n\\n  rep(i,4){\\n\\n    if (op[i] == last)continue;\\n\\n    int nex=x+dx[i],ney=y+dy[i];\\n\\n    if (nex==-1||ney==-1||nex==c||ney==r)continue;\\n\\n    if (vis2[ney][nex])return false;\\n\\n  }\\n\\n  return true;\\n\\n}\\n\\n\\n\\nvoid output(int r,int c){\\n\\n  cout << \\\"begin\\\"<<endl;\\n\\n  rep(i,r){\\n\\n    rep(j,c){\\n\\n      if (vis2[i][j])cout << 2;\\n\\n      else cout << '0';\\n\\n    }\\n\\n    cout << endl;\\n\\n  }\\n\\n  cout <<endl;\\n\\n}\\nint ans;\\n\\nbool isgoal;\\n\\nint md;\\n\\nbool bfs(int r,int c,int cnt,bool goal2){\\n\\n  static int q[N*N];\\n\\n  static int cost[N][N];\\n\\n  int sy3=-1,sx3=-1,gy3=-1,gx3=-1;\\n\\n  rep(i,r){\\n\\n    rep(j,c){\\n\\n      if (m[i][j] == 3){\\n\\n\\tif (sy3==-1)sy3=i,sx3=j;\\n\\n\\telse gy3=i,gx3=j;\\n\\n      }\\n\\n      cost[i][j]=inf;\\n\\n    }\\n\\n  }\\n\\n  int tail=0,head=0;\\n\\n  q[tail++]=sx3+sy3*c;\\n\\n  cost[sy3][sx3]=0;\\n\\n  while(head != tail){\\n\\n    int now = q[head++];\\n\\n    int x = now%c,y=now\\/c;\\n\\n    if (cnt+cost[y][x] >= ans)return false;\\n\\n    if (x == gx3 && y == gy3){\\n\\n      if (goal2)return true;\\n\\n      isgoal=true;\\n\\n      ans =min(ans,cnt+cost[y][x]);\\n\\n      return true;\\n\\n    }\\n\\n    rep(i,4){\\n\\n      int nex=x+dx[i],ney=y+dy[i];\\n\\n      if (nex==-1||ney==-1||nex==c||ney==r||vis2[ney][nex])continue;\\n\\n      if (m[ney][nex]==1||m[ney][nex] == 2)continue;\\n\\n      if (cost[ney][nex] != inf)continue;\\n\\n      cost[ney][nex]=cost[y][x]+1;\\n\\n      q[tail++]=ney*c+nex;\\n\\n    }\\n\\n  }\\n\\n  return false;\\n\\n}\\n\\n\\n\\nbool bfs2(int r,int c,int cnt,int sy,int sx){\\n\\n  static int q[N*N];\\n\\n  static int cost[N][N];\\n\\n  int sy3=-1,sx3=-1,gy3=-1,gx3=-1;\\n\\n  rep(i,r){\\n\\n    rep(j,c){\\n\\n      if (m[i][j] == 2){\\n\\n\\tif (sy3==-1)sy3=i,sx3=j;\\n\\n\\telse gy3=i,gx3=j;\\n\\n      }\\n\\n      cost[i][j]=inf;\\n\\n    }\\n\\n  }\\n\\n  int tail=0,head=0;\\n\\n  q[tail++]=sx+sy*c;\\n\\n  cost[sy][sx]=0;\\n\\n  while(head != tail){\\n\\n    int now = q[head++];\\n\\n    int x = now%c,y=now\\/c;\\n\\n    if (cnt+cost[y][x] >= ans)return false;\\n\\n    if (x == gx3 && y == gy3){\\n\\n      return true;\\n\\n    }\\n\\n    rep(i,4){\\n\\n      int nex=x+dx[i],ney=y+dy[i];\\n\\n      if (nex==-1||ney==-1||nex==c||ney==r||vis2[ney][nex])continue;\\n\\n      if (m[ney][nex]==1||m[ney][nex] == 3)continue;\\n\\n      if (cost[ney][nex] != inf)continue;\\n\\n      cost[ney][nex]=cost[y][x]+1;\\n\\n      q[tail++]=ney*c+nex;\\n\\n    }\\n\\n  }\\n\\n  return false;\\n\\n}\\nint path[N*N];\\n\\nint pattern[8][4]={\\n\\n  {2,1,1,0,},\\n\\n  {1,0,0,3,},\\n\\n  {0,3,3,2,},\\n\\n  {3,2,2,1,},\\n\\n  {2,3,3,0,},\\n\\n  {1,2,2,3,},\\n\\n  {0,1,1,2,},\\n\\n  {3,0,0,1,},\\n\\n};\\n\\n\\n\\nint cx[]={-1, 0,1, 0, 1, 0,-1, 0};\\n\\nint cy[]={ 0,-1,0, 1, 0, 1, 0,-1};\\n\\n\\n\\nbool isok2(int r,int c,int y,int x,int p){\\n\\n  if (p <4)return true;\\n\\n  rep(i,8){\\n\\n    bool ismatch=true;\\n\\n    rep(j,4){\\n\\n      if (pattern[i][j] == path[p-(4-j)]);\\n\\n      else ismatch=false;\\n\\n    }\\n\\n    if (!ismatch)continue;\\n\\n    int nex=x+cx[i],ney=y+cy[i];\\n\\n    if (nex==-1||ney==-1||nex==c||ney==r)continue;\\n\\n    if (m[ney][nex] == 0 && !vis2[ney][nex])return false;\\n\\n\\n\\n  }\\n\\n  return true;\\n\\n}\\n\\n\\n\\nvoid dfs(int r,int c,int y,int x,int cnt,int last,int gy2,int gx2){\\n\\n  if (!isok(r,c,y,x,last)){\\n\\n    return;\\n\\n  }\\n\\n  if (!isok2(r,c,y,x,cnt))return;\\n\\n\\n\\n  if (cnt+md >= ans)return;\\n\\n  if (!bfs(r,c,cnt,true))return;\\n\\n\\n\\n  if (!bfs2(r,c,cnt,gy2,gx2))return;\\n\\n\\n\\n  \\/*\\n\\n  for(int i=0;cnt >=5 && i<5;i++){\\n\\n    cout << path[cnt-5+i]<<\\\" \\\";\\n\\n  }\\n\\n  cout << endl;\\n\\n  vis2[y][x]=true;\\n\\n  output(r,c);\\n\\n  vis2[y][x]=false;\\n\\n  *\\/      \\n\\n\\n\\n  if (x == gx2 && y == gy2){\\n\\n    vis2[y][x]=true;\\n\\n    bfs(r,c,cnt,false);\\n\\n    vis2[y][x]=false;\\n\\n    return;\\n\\n  }\\n\\n\\n\\n  vis2[y][x]=true;\\n\\n  rep(i,4){\\n\\n    if (op[i] == last)continue;\\n\\n    int nex=x+dx[i],ney=y+dy[i];\\n\\n    if (nex==-1||ney==-1||nex==c||ney==r||vis2[ney][nex])continue;\\n\\n    if (m[ney][nex] == 3 || m[ney][nex] == 1)continue;\\n\\n    path[cnt]=i;\\n\\n    dfs(r,c,ney,nex,cnt+1,i,gy2,gx2);\\n\\n  }\\n\\n  vis2[y][x]=false;\\n\\n}\\n\\n\\n\\nint bfs2(int r,int c,int tar,int utar){\\n\\n  static int q[N*N];\\n\\n  static int cost[N][N];\\n\\n  int sy3=-1,sx3=-1,gy3=-1,gx3=-1;\\n\\n  rep(i,r){\\n\\n    rep(j,c){\\n\\n      if (m[i][j] == tar){\\n\\n\\tif (sy3==-1)sy3=i,sx3=j;\\n\\n\\telse gy3=i,gx3=j;\\n\\n      }\\n\\n      cost[i][j]=inf;\\n\\n    }\\n\\n  }\\n\\n  int tail=0,head=0;\\n\\n  q[tail++]=sx3+sy3*c;\\n\\n  cost[sy3][sx3]=0;\\n\\n  while(head != tail){\\n\\n    int now = q[head++];\\n\\n    int x = now%c,y=now\\/c;\\n\\n    if (x == gx3 && y == gy3){\\n\\n      return cost[y][x];\\n\\n    }\\n\\n    rep(i,4){\\n\\n      int nex=x+dx[i],ney=y+dy[i];\\n\\n      if (nex==-1||ney==-1||nex==c||ney==r||vis2[ney][nex])continue;\\n\\n      if (m[ney][nex]==1||m[ney][nex] == utar)continue;\\n\\n      if (cost[ney][nex] != inf)continue;\\n\\n      cost[ney][nex]=cost[y][x]+1;\\n\\n      q[tail++]=ney*c+nex;\\n\\n    }\\n\\n  }\\n\\n  return false;\\n\\n}\\n\\n\\n\\nmain(){\\n\\n  int r,c;\\n\\n  while(cin>>r>>c && r){\\n\\n    ans = r*c;\\n\\n    isgoal=false;\\n\\n    rep(i,r)rep(j,c)cin>>m[i][j];\\n\\n    rep(i,r)rep(j,c)vis2[i][j]=false;\\n\\n   \\n\\n    int sx2=-1,sy2=-1;\\n\\n    int gx2=-1,gy2=-1;\\n\\n    rep(i,r){\\n\\n      rep(j,c){\\n\\n\\tif (m[i][j] == 2){\\n\\n\\t  if (sx2 == -1)sx2=j,sy2=i;\\n\\n\\t  else gx2=j,gy2=i;\\n\\n\\t}\\n\\n      }\\n\\n    }\\n\\n    \\n\\n    int sx3=-1,sy3=-1,gx3=-1,gy3=-1;\\n\\n    rep(i,r){\\n\\n      rep(j,c){\\n\\n\\tif (m[i][j] == 3){\\n\\n\\t  if (sx3 == -1)sx3=j,sy3=i;\\n\\n\\t  else gx3=j,gy3=i;\\n\\n\\t}\\n\\n      }\\n\\n    }\\n\\n\\n\\n    md=bfs2(r,c,3,2);\\n\\n    \\n\\n    dfs(r,c,sy2,sx2,0,-1,gy2,gx2);\\n\\n    \\n\\n    if (isgoal)cout << ans << endl;\\n\\n    else cout << 0 << endl;\\n\\n  }\\n\\n  return false;\\n\\n}\",\"input_ref\":\"#include<iostream>\\n\\n#include<algorithm>\\n\\nusing namespace std;\\n\\n#define REP(i,b,n) for(int i=b;i<n;i++)\\n\\n#define rep(i,n)   REP(i,0,n)\\n\\n\\n\\nconst int N = 9;\\n\\nconst int inf = (1 <<21);\\n\\n\\n\\nint dx[]={0,1, 0,-1};\\n\\nint dy[]={1,0,-1,0};\\n\\nint op[]={2,3, 0,1};\\n\\nint m[N][N];\\n\\nbool vis2[N][N];\\n\\n\\n\\nbool isok(int r,int c,int y,int x,int last){\\n\\n  rep(i,4){\\n\\n    if (op[i] == last)continue;\\n\\n    int nex=x+dx[i],ney=y+dy[i];\\n\\n    if (nex==-1||ney==-1||nex==c||ney==r)continue;\\n\\n    if (vis2[ney][nex])return false;\\n\\n  }\\n\\n  return true;\\n\\n}\\n\\n\\n\\nvoid output(int r,int c){\\n\\n  cout << \\\"begin\\\"<<endl;\\n\\n  rep(i,r){\\n\\n    rep(j,c){\\n\\n      if (vis2[i][j])cout << 2;\\n\\n      else cout << '0';\\n\\n    }\\n\\n    cout << endl;\\n\\n  }\\n\\n  cout <<endl;\\n\\n}\\n\\n\\n\\n\\n\\nint ans;\\n\\nbool isgoal;\\n\\nint md;\\n\\nbool bfs(int r,int c,int cnt,bool goal2){\\n\\n  static int q[N*N];\\n\\n  static int cost[N][N];\\n\\n  int sy3=-1,sx3=-1,gy3=-1,gx3=-1;\\n\\n  rep(i,r){\\n\\n    rep(j,c){\\n\\n      if (m[i][j] == 3){\\n\\n\\tif (sy3==-1)sy3=i,sx3=j;\\n\\n\\telse gy3=i,gx3=j;\\n\\n      }\\n\\n      cost[i][j]=inf;\\n\\n    }\\n\\n  }\\n\\n  int tail=0,head=0;\\n\\n  q[tail++]=sx3+sy3*c;\\n\\n  cost[sy3][sx3]=0;\\n\\n  while(head != tail){\\n\\n    int now = q[head++];\\n\\n    int x = now%c,y=now\\/c;\\n\\n    if (cnt+cost[y][x] >= ans)return false;\\n\\n    if (x == gx3 && y == gy3){\\n\\n      if (goal2)return true;\\n\\n      isgoal=true;\\n\\n      ans =min(ans,cnt+cost[y][x]);\\n\\n      return true;\\n\\n    }\\n\\n    rep(i,4){\\n\\n      int nex=x+dx[i],ney=y+dy[i];\\n\\n      if (nex==-1||ney==-1||nex==c||ney==r||vis2[ney][nex])continue;\\n\\n      if (m[ney][nex]==1||m[ney][nex] == 2)continue;\\n\\n      if (cost[ney][nex] != inf)continue;\\n\\n      cost[ney][nex]=cost[y][x]+1;\\n\\n      q[tail++]=ney*c+nex;\\n\\n    }\\n\\n  }\\n\\n  return false;\\n\\n}\\n\\n\\n\\nbool bfs2(int r,int c,int cnt,int sy,int sx){\\n\\n  static int q[N*N];\\n\\n  static int cost[N][N];\\n\\n  int sy3=-1,sx3=-1,gy3=-1,gx3=-1;\\n\\n  rep(i,r){\\n\\n    rep(j,c){\\n\\n      if (m[i][j] == 2){\\n\\n\\tif (sy3==-1)sy3=i,sx3=j;\\n\\n\\telse gy3=i,gx3=j;\\n\\n      }\\n\\n      cost[i][j]=inf;\\n\\n    }\\n\\n  }\\n\\n  int tail=0,head=0;\\n\\n  q[tail++]=sx+sy*c;\\n\\n  cost[sy][sx]=0;\\n\\n  while(head != tail){\\n\\n    int now = q[head++];\\n\\n    int x = now%c,y=now\\/c;\\n\\n    if (cnt+cost[y][x] >= ans)return false;\\n\\n    if (x == gx3 && y == gy3){\\n\\n      return true;\\n\\n    }\\n\\n    rep(i,4){\\n\\n      int nex=x+dx[i],ney=y+dy[i];\\n\\n      if (nex==-1||ney==-1||nex==c||ney==r||vis2[ney][nex])continue;\\n\\n      if (m[ney][nex]==1||m[ney][nex] == 3)continue;\\n\\n      if (cost[ney][nex] != inf)continue;\\n\\n      cost[ney][nex]=cost[y][x]+1;\\n\\n      q[tail++]=ney*c+nex;\\n\\n    }\\n\\n  }\\n\\n  return false;\\n\\n}\\n\\n\\n\\n\\n\\nint path[N*N];\\n\\nint pattern[8][4]={\\n\\n  {2,1,1,0,},\\n\\n  {1,0,0,3,},\\n\\n  {0,3,3,2,},\\n\\n  {3,2,2,1,},\\n\\n  {2,3,3,0,},\\n\\n  {1,2,2,3,},\\n\\n  {0,1,1,2,},\\n\\n  {3,0,0,1,},\\n\\n};\\n\\n\\n\\nint cx[]={-1, 0,1, 0, 1, 0,-1, 0};\\n\\nint cy[]={ 0,-1,0, 1, 0, 1, 0,-1};\\n\\n\\n\\nbool isok2(int r,int c,int y,int x,int p){\\n\\n  if (p <4)return true;\\n\\n  rep(i,8){\\n\\n    bool ismatch=true;\\n\\n    rep(j,4){\\n\\n      if (pattern[i][j] == path[p-(4-j)]);\\n\\n      else ismatch=false;\\n\\n    }\\n\\n    if (!ismatch)continue;\\n\\n    int nex=x+cx[i],ney=y+cy[i];\\n\\n    if (nex==-1||ney==-1||nex==c||ney==r)continue;\\n\\n    if (m[ney][nex] == 0 && !vis2[ney][nex])return false;\\n\\n\\n\\n  }\\n\\n  return true;\\n\\n}\\n\\n\\n\\nvoid dfs(int r,int c,int y,int x,int cnt,int last,int gy2,int gx2){\\n\\n  if (!isok(r,c,y,x,last)){\\n\\n    return;\\n\\n  }\\n\\n  if (!isok2(r,c,y,x,cnt))return;\\n\\n\\n\\n  if (cnt+md >= ans)return;\\n\\n  if (!bfs(r,c,cnt,true))return;\\n\\n\\n\\n  if (!bfs2(r,c,cnt,gy2,gx2))return;\\n\\n\\n\\n  \\/*\\n\\n  for(int i=0;cnt >=5 && i<5;i++){\\n\\n    cout << path[cnt-5+i]<<\\\" \\\";\\n\\n  }\\n\\n  cout << endl;\\n\\n  vis2[y][x]=true;\\n\\n  output(r,c);\\n\\n  vis2[y][x]=false;\\n\\n  *\\/      \\n\\n\\n\\n  if (x == gx2 && y == gy2){\\n\\n    vis2[y][x]=true;\\n\\n    bfs(r,c,cnt,false);\\n\\n    vis2[y][x]=false;\\n\\n    return;\\n\\n  }\\n\\n\\n\\n  vis2[y][x]=true;\\n\\n  rep(i,4){\\n\\n    if (op[i] == last)continue;\\n\\n    int nex=x+dx[i],ney=y+dy[i];\\n\\n    if (nex==-1||ney==-1||nex==c||ney==r||vis2[ney][nex])continue;\\n\\n    if (m[ney][nex] == 3 || m[ney][nex] == 1)continue;\\n\\n    path[cnt]=i;\\n\\n    dfs(r,c,ney,nex,cnt+1,i,gy2,gx2);\\n\\n  }\\n\\n  vis2[y][x]=false;\\n\\n}\\n\\n\\n\\nint bfs2(int r,int c,int tar,int utar){\\n\\n  static int q[N*N];\\n\\n  static int cost[N][N];\\n\\n  int sy3=-1,sx3=-1,gy3=-1,gx3=-1;\\n\\n  rep(i,r){\\n\\n    rep(j,c){\\n\\n      if (m[i][j] == tar){\\n\\n\\tif (sy3==-1)sy3=i,sx3=j;\\n\\n\\telse gy3=i,gx3=j;\\n\\n      }\\n\\n      cost[i][j]=inf;\\n\\n    }\\n\\n  }\\n\\n  int tail=0,head=0;\\n\\n  q[tail++]=sx3+sy3*c;\\n\\n  cost[sy3][sx3]=0;\\n\\n  while(head != tail){\\n\\n    int now = q[head++];\\n\\n    int x = now%c,y=now\\/c;\\n\\n    if (x == gx3 && y == gy3){\\n\\n      return cost[y][x];\\n\\n    }\\n\\n    rep(i,4){\\n\\n      int nex=x+dx[i],ney=y+dy[i];\\n\\n      if (nex==-1||ney==-1||nex==c||ney==r||vis2[ney][nex])continue;\\n\\n      if (m[ney][nex]==1||m[ney][nex] == utar)continue;\\n\\n      if (cost[ney][nex] != inf)continue;\\n\\n      cost[ney][nex]=cost[y][x]+1;\\n\\n      q[tail++]=ney*c+nex;\\n\\n    }\\n\\n  }\\n\\n  return false;\\n\\n}\\n\\n\\n\\nmain(){\\n\\n  int r,c;\\n\\n  while(cin>>r>>c && r){\\n\\n    ans = r*c;\\n\\n    isgoal=false;\\n\\n    rep(i,r)rep(j,c)cin>>m[i][j];\\n\\n    rep(i,r)rep(j,c)vis2[i][j]=false;\\n\\n   \\n\\n    int sx2=-1,sy2=-1;\\n\\n    int gx2=-1,gy2=-1;\\n\\n    rep(i,r){\\n\\n      rep(j,c){\\n\\n\\tif (m[i][j] == 2){\\n\\n\\t  if (sx2 == -1)sx2=j,sy2=i;\\n\\n\\t  else gx2=j,gy2=i;\\n\\n\\t}\\n\\n      }\\n\\n    }\\n\\n    \\n\\n    int sx3=-1,sy3=-1,gx3=-1,gy3=-1;\\n\\n    rep(i,r){\\n\\n      rep(j,c){\\n\\n\\tif (m[i][j] == 3){\\n\\n\\t  if (sx3 == -1)sx3=j,sy3=i;\\n\\n\\t  else gx3=j,gy3=i;\\n\\n\\t}\\n\\n      }\\n\\n    }\\n\\n\\n\\n    md=bfs2(r,c,3,2);\\n\\n    \\n\\n    dfs(r,c,sy2,sx2,0,-1,gy2,gx2);\\n\\n    \\n\\n    if (isgoal)cout << ans << endl;\\n\\n    else cout << 0 << endl;\\n\\n  }\\n\\n  return false;\\n\\n}\",\"problem_id\":\"p00849\",\"submission_id_v0\":\"s7\",\"cpu_time_v0\":1,\"cpu_time_v1\":1,\"input_time_mean\":5288.1550788879,\"input_time_std\":0.9849071503,\"input_acc\":1.0,\"reference_time_mean\":4666.0286188126,\"reference_time_std\":0.7375478745,\"reference_acc\":1.0,\"improved_code_time_mean\":4664.5275354385,\"improved_code_time_std\":0.4552602768,\"improved_code_acc\":1.0}\n9:{\"input\":\"#include<iostream>\\n\\n#include<algorithm>\\n\\nusing namespace std;\\n\\n#define REP(i,b,n) for(int i=b;i<n;i++)\\n\\n#define rep(i,n)   REP(i,0,n)\\n\\n\\n\\nconst int N = 9;\\n\\nconst int inf = (1 <<21);\\n\\n\\n\\nint dx[]={0,1, 0,-1};\\n\\nint dy[]={1,0,-1,0};\\n\\nint op[]={2,3, 0,1};\\n\\nint m[N][N];\\n\\nbool vis2[N][N];\\n\\n\\n\\nbool isok(int r,int c,int y,int x,int last){\\n\\n  rep(i,4){\\n\\n    if (op[i] == last)continue;\\n\\n    int nex=x+dx[i],ney=y+dy[i];\\n\\n    if (nex==-1||ney==-1||nex==c||ney==r)continue;\\n\\n    if (vis2[ney][nex])return false;\\n\\n  }\\n\\n  return true;\\n\\n}\\n\\n\\n\\nvoid output(int r,int c){\\n\\n  cout << \\\"begin\\\"<<endl;\\n\\n  rep(i,r){\\n\\n    rep(j,c){\\n\\n      if (vis2[i][j])cout << 2;\\n\\n      else cout << '0';\\n\\n    }\\n\\n    cout << endl;\\n\\n  }\\n\\n  cout <<endl;\\n\\n}\\n\\n\\n\\n\\n\\nint ans;\\n\\nbool isgoal;\\n\\nint md;\\n\\nbool bfs(int r,int c,int cnt,bool goal2){\\n\\n  static int q[N*N];\\n\\n  static int cost[N][N];\\n\\n  int sy3=-1,sx3=-1,gy3=-1,gx3=-1;\\n\\n  rep(i,r){\\n\\n    rep(j,c){\\n\\n      if (m[i][j] == 3){\\n\\n\\tif (sy3==-1)sy3=i,sx3=j;\\n\\n\\telse gy3=i,gx3=j;\\n\\n      }\\n\\n      cost[i][j]=inf;\\n\\n    }\\n\\n  }\\n\\n  int tail=0,head=0;\\n\\n  q[tail++]=sx3+sy3*c;\\n\\n  cost[sy3][sx3]=0;\\n\\n  while(head != tail){\\n\\n    int now = q[head++];\\n\\n    int x = now%c,y=now\\/c;\\n\\n    if (cnt+cost[y][x] >= ans)return false;\\n\\n    if (x == gx3 && y == gy3){\\n\\n      if (goal2)return true;\\n\\n      isgoal=true;\\n\\n      ans =min(ans,cnt+cost[y][x]);\\n\\n      return true;\\n\\n    }\\n\\n    rep(i,4){\\n\\n      int nex=x+dx[i],ney=y+dy[i];\\n\\n      if (nex==-1||ney==-1||nex==c||ney==r||vis2[ney][nex])continue;\\n\\n      if (m[ney][nex]==1||m[ney][nex] == 2)continue;\\n\\n      if (cost[ney][nex] != inf)continue;\\n\\n      cost[ney][nex]=cost[y][x]+1;\\n\\n      q[tail++]=ney*c+nex;\\n\\n    }\\n\\n  }\\n\\n  return false;\\n\\n}\\n\\n\\n\\nbool bfs2(int r,int c,int cnt,int sy,int sx){\\n\\n  static int q[N*N];\\n\\n  static int cost[N][N];\\n\\n  int sy3=-1,sx3=-1,gy3=-1,gx3=-1;\\n\\n  rep(i,r){\\n\\n    rep(j,c){\\n\\n      if (m[i][j] == 2){\\n\\n\\tif (sy3==-1)sy3=i,sx3=j;\\n\\n\\telse gy3=i,gx3=j;\\n\\n      }\\n\\n      cost[i][j]=inf;\\n\\n    }\\n\\n  }\\n\\n  int tail=0,head=0;\\n\\n  q[tail++]=sx+sy*c;\\n\\n  cost[sy][sx]=0;\\n\\n  while(head != tail){\\n\\n    int now = q[head++];\\n\\n    int x = now%c,y=now\\/c;\\n\\n    if (cnt+cost[y][x] >= ans)return false;\\n\\n    if (x == gx3 && y == gy3){\\n\\n      return true;\\n\\n    }\\n\\n    rep(i,4){\\n\\n      int nex=x+dx[i],ney=y+dy[i];\\n\\n      if (nex==-1||ney==-1||nex==c||ney==r||vis2[ney][nex])continue;\\n\\n      if (m[ney][nex]==1||m[ney][nex] == 3)continue;\\n\\n      if (cost[ney][nex] != inf)continue;\\n\\n      cost[ney][nex]=cost[y][x]+1;\\n\\n      q[tail++]=ney*c+nex;\\n\\n    }\\n\\n  }\\n\\n  return false;\\n\\n}\\n\\n\\n\\n\\n\\nint path[N*N];\\n\\nint pattern[8][4]={\\n\\n  {2,1,1,0,},\\n\\n  {1,0,0,3,},\\n\\n  {0,3,3,2,},\\n\\n  {3,2,2,1,},\\n\\n  {2,3,3,0,},\\n\\n  {1,2,2,3,},\\n\\n  {0,1,1,2,},\\n\\n  {3,0,0,1,},\\n\\n};\\n\\n\\n\\nint cx[]={-1, 0,1, 0, 1, 0,-1, 0};\\n\\nint cy[]={ 0,-1,0, 1, 0, 1, 0,-1};\\n\\n\\n\\nbool isok2(int r,int c,int y,int x,int p){\\n\\n  if (p <4)return true;\\n\\n  rep(i,8){\\n\\n    bool ismatch=true;\\n\\n    rep(j,4){\\n\\n      if (pattern[i][j] == path[p-(4-j)]);\\n\\n      else ismatch=false;\\n\\n    }\\n\\n    if (!ismatch)continue;\\n\\n    int nex=x+cx[i],ney=y+cy[i];\\n\\n    if (nex==-1||ney==-1||nex==c||ney==r)continue;\\n\\n    if (m[ney][nex] == 0 && !vis2[ney][nex])return false;\\n\\n\\n\\n  }\\n\\n  return true;\\n\\n}\\n\\n\\n\\nvoid dfs(int r,int c,int y,int x,int cnt,int last,int gy2,int gx2){\\n\\n  if (!isok(r,c,y,x,last)){\\n\\n    return;\\n\\n  }\\n\\n  if (!isok2(r,c,y,x,cnt))return;\\n\\n\\n\\n  if (cnt+md >= ans)return;\\n\\n  if (!bfs(r,c,cnt,true))return;\\n\\n\\n\\n  \\/\\/  if (!bfs2(r,c,cnt,gy2,gx2))return;\\n\\n\\n\\n  \\/*\\n\\n  for(int i=0;cnt >=5 && i<5;i++){\\n\\n    cout << path[cnt-5+i]<<\\\" \\\";\\n\\n  }\\n\\n  cout << endl;\\n\\n  vis2[y][x]=true;\\n\\n  output(r,c);\\n\\n  vis2[y][x]=false;\\n\\n  *\\/      \\n\\n\\n\\n  if (x == gx2 && y == gy2){\\n\\n    vis2[y][x]=true;\\n\\n    bfs(r,c,cnt,false);\\n\\n    vis2[y][x]=false;\\n\\n    return;\\n\\n  }\\n\\n\\n\\n  vis2[y][x]=true;\\n\\n  rep(i,4){\\n\\n    if (op[i] == last)continue;\\n\\n    int nex=x+dx[i],ney=y+dy[i];\\n\\n    if (nex==-1||ney==-1||nex==c||ney==r||vis2[ney][nex])continue;\\n\\n    if (m[ney][nex] == 3 || m[ney][nex] == 1)continue;\\n\\n    path[cnt]=i;\\n\\n    dfs(r,c,ney,nex,cnt+1,i,gy2,gx2);\\n\\n  }\\n\\n  vis2[y][x]=false;\\n\\n}\\n\\n\\n\\nint bfs2(int r,int c,int tar,int utar){\\n\\n  static int q[N*N];\\n\\n  static int cost[N][N];\\n\\n  int sy3=-1,sx3=-1,gy3=-1,gx3=-1;\\n\\n  rep(i,r){\\n\\n    rep(j,c){\\n\\n      if (m[i][j] == tar){\\n\\n\\tif (sy3==-1)sy3=i,sx3=j;\\n\\n\\telse gy3=i,gx3=j;\\n\\n      }\\n\\n      cost[i][j]=inf;\\n\\n    }\\n\\n  }\\n\\n  int tail=0,head=0;\\n\\n  q[tail++]=sx3+sy3*c;\\n\\n  cost[sy3][sx3]=0;\\n\\n  while(head != tail){\\n\\n    int now = q[head++];\\n\\n    int x = now%c,y=now\\/c;\\n\\n    if (x == gx3 && y == gy3){\\n\\n      return cost[y][x];\\n\\n    }\\n\\n    rep(i,4){\\n\\n      int nex=x+dx[i],ney=y+dy[i];\\n\\n      if (nex==-1||ney==-1||nex==c||ney==r||vis2[ney][nex])continue;\\n\\n      if (m[ney][nex]==1||m[ney][nex] == utar)continue;\\n\\n      if (cost[ney][nex] != inf)continue;\\n\\n      cost[ney][nex]=cost[y][x]+1;\\n\\n      q[tail++]=ney*c+nex;\\n\\n    }\\n\\n  }\\n\\n  return false;\\n\\n}\\n\\n\\n\\nmain(){\\n\\n  int r,c;\\n\\n  while(cin>>r>>c && r){\\n\\n    ans = r*c;\\n\\n    isgoal=false;\\n\\n    rep(i,r)rep(j,c)cin>>m[i][j];\\n\\n    rep(i,r)rep(j,c)vis2[i][j]=false;\\n\\n   \\n\\n    int sx2=-1,sy2=-1;\\n\\n    int gx2=-1,gy2=-1;\\n\\n    rep(i,r){\\n\\n      rep(j,c){\\n\\n\\tif (m[i][j] == 2){\\n\\n\\t  if (sx2 == -1)sx2=j,sy2=i;\\n\\n\\t  else gx2=j,gy2=i;\\n\\n\\t}\\n\\n      }\\n\\n    }\\n\\n    \\n\\n    int sx3=-1,sy3=-1,gx3=-1,gy3=-1;\\n\\n    rep(i,r){\\n\\n      rep(j,c){\\n\\n\\tif (m[i][j] == 3){\\n\\n\\t  if (sx3 == -1)sx3=j,sy3=i;\\n\\n\\t  else gx3=j,gy3=i;\\n\\n\\t}\\n\\n      }\\n\\n    }\\n\\n\\n\\n    md=bfs2(r,c,3,2);\\n\\n    \\n\\n    dfs(r,c,sy2,sx2,0,-1,gy2,gx2);\\n\\n    \\n\\n    if (isgoal)cout << ans << endl;\\n\\n    else cout << 0 << endl;\\n\\n  }\\n\\n  return false;\\n\\n}\",\"improved_code\":\"#include<iostream>\\n\\n#include<algorithm>\\n\\nusing namespace std;\\n\\n#define REP(i,b,n) for(int i=b;i<n;i++)\\n\\n#define rep(i,n)   REP(i,0,n)\\n\\n\\n\\nconst int N = 9;\\n\\nconst int inf = (1 <<21);\\n\\n\\n\\nint dx[]={0,1, 0,-1};\\n\\nint dy[]={1,0,-1,0};\\n\\nint op[]={2,3, 0,1};\\n\\nint m[N][N];\\n\\nbool vis2[N][N];\\n\\n\\n\\nbool isok(int r,int c,int y,int x,int last){\\n\\n  rep(i,4){\\n\\n    if (op[i] == last)continue;\\n\\n    int nex=x+dx[i],ney=y+dy[i];\\n\\n    if (nex==-1||ney==-1||nex==c||ney==r)continue;\\n\\n    if (vis2[ney][nex])return false;\\n\\n  }\\n\\n  return true;\\n\\n}\\n\\n\\n\\nvoid output(int r,int c){\\n\\n  cout << \\\"begin\\\"<<endl;\\n\\n  rep(i,r){\\n\\n    rep(j,c){\\n\\n      if (vis2[i][j])cout << 2;\\n\\n      else cout << '0';\\n\\n    }\\n\\n    cout << endl;\\n\\n  }\\n\\n  cout <<endl;\\n\\n}\\n\\n\\n\\n\\n\\nint ans;\\n\\nbool isgoal;\\n\\nint md;\\n\\nbool bfs(int r,int c,int cnt,bool goal2){\\n\\n  static int q[N*N];\\n\\n  static int cost[N][N];\\n\\n  int sy3=-1,sx3=-1,gy3=-1,gx3=-1;\\n\\n  rep(i,r){\\n\\n    rep(j,c){\\n\\n      if (m[i][j] == 3){\\n\\n\\tif (sy3==-1)sy3=i,sx3=j;\\n\\n\\telse gy3=i,gx3=j;\\n\\n      }\\n\\n      cost[i][j]=inf;\\n\\n    }\\n\\n  }\\n\\n  int tail=0,head=0;\\n\\n  q[tail++]=sx3+sy3*c;\\n\\n  cost[sy3][sx3]=0;\\n\\n  while(head != tail){\\n\\n    int now = q[head++];\\n\\n    int x = now%c,y=now\\/c;\\n\\n    if (cnt+cost[y][x] >= ans)return false;\\n\\n    if (x == gx3 && y == gy3){\\n\\n      if (goal2)return true;\\n\\n      isgoal=true;\\n\\n      ans =min(ans,cnt+cost[y][x]);\\n\\n      return true;\\n\\n    }\\n\\n    rep(i,4){\\n\\n      int nex=x+dx[i],ney=y+dy[i];\\n\\n      if (nex==-1||ney==-1||nex==c||ney==r||vis2[ney][nex])continue;\\n\\n      if (m[ney][nex]==1||m[ney][nex] == 2)continue;\\n\\n      if (cost[ney][nex] != inf)continue;\\n\\n      cost[ney][nex]=cost[y][x]+1;\\n\\n      q[tail++]=ney*c+nex;\\n\\n    }\\n\\n  }\\n\\n  return false;\\n\\n}\\n\\n\\n\\nint path[N*N];\\n\\nint pattern[8][4]={\\n\\n  {2,1,1,0,},\\n\\n  {1,0,0,3,},\\n\\n  {0,3,3,2,},\\n\\n  {3,2,2,1,},\\n\\n  {2,3,3,0,},\\n\\n  {1,2,2,3,},\\n\\n  {0,1,1,2,},\\n\\n  {3,0,0,1,},\\n\\n};\\n\\n\\n\\nint cx[]={-1, 0,1, 0, 1, 0,-1, 0};\\n\\nint cy[]={ 0,-1,0, 1, 0, 1, 0,-1};\\n\\n\\n\\nbool isok2(int r,int c,int y,int x,int p){\\n\\n  if (p <4)return true;\\n\\n  rep(i,8){\\n\\n    bool ismatch=true;\\n\\n    rep(j,4){\\n\\n      if (pattern[i][j] == path[p-(4-j)]);\\n\\n      else ismatch=false;\\n\\n    }\\n\\n    if (!ismatch)continue;\\n\\n    int nex=x+cx[i],ney=y+cy[i];\\n\\n    if (nex==-1||ney==-1||nex==c||ney==r)continue;\\n\\n    if (m[ney][nex] == 0 && !vis2[ney][nex])return false;\\n\\n\\n\\n  }\\n\\n  return true;\\n\\n}\\n\\n\\n\\nvoid dfs(int r,int c,int y,int x,int cnt,int last,int gy2,int gx2){\\n\\n  if (!isok(r,c,y,x,last)){\\n\\n    return;\\n\\n  }\\n\\n  if (!isok2(r,c,y,x,cnt))return;\\n\\n\\n\\n  if (cnt+md >= ans)return;\\n\\n  \\/\\/  if (!bfs(r,c,cnt,true))return;\\n\\n\\n\\n  if (x == gx2 && y == gy2){\\n\\n    vis2[y][x]=true;\\n\\n    bfs(r,c,cnt,false);\\n\\n    vis2[y][x]=false;\\n\\n    return;\\n\\n  }\\n\\n\\n\\n  vis2[y][x]=true;\\n\\n  rep(i,4){\\n\\n    if (op[i] == last)continue;\\n\\n    int nex=x+dx[i],ney=y+dy[i];\\n\\n    if (nex==-1||ney==-1||nex==c||ney==r||vis2[ney][nex])continue;\\n\\n    if (m[ney][nex] == 3 || m[ney][nex] == 1)continue;\\n\\n    path[cnt]=i;\\n\\n    dfs(r,c,ney,nex,cnt+1,i,gy2,gx2);\\n\\n  }\\n\\n  vis2[y][x]=false;\\n\\n}\\n\\n\\n\\nint bfs2(int r,int c,int tar,int utar){\\n\\n  static int q[N*N];\\n\\n  static int cost[N][N];\\n\\n  int sy3=-1,sx3=-1,gy3=-1,gx3=-1;\\n\\n  rep(i,r){\\n\\n    rep(j,c){\\n\\n      if (m[i][j] == tar){\\n\\n\\tif (sy3==-1)sy3=i,sx3=j;\\n\\n\\telse gy3=i,gx3=j;\\n\\n      }\\n\\n      cost[i][j]=inf;\\n\\n    }\\n\\n  }\\n\\n  int tail=0,head=0;\\n\\n  q[tail++]=sx3+sy3*c;\\n\\n  cost[sy3][sx3]=0;\\n\\n  while(head != tail){\\n\\n    int now = q[head++];\\n\\n    int x = now%c,y=now\\/c;\\n\\n    if (x == gx3 && y == gy3){\\n\\n      return cost[y][x];\\n\\n    }\\n\\n    rep(i,4){\\n\\n      int nex=x+dx[i],ney=y+dy[i];\\n\\n      if (nex==-1||ney==-1||nex==c||ney==r||vis2[ney][nex])continue;\\n\\n      if (m[ney][nex]==1||m[ney][nex] == utar)continue;\\n\\n      if (cost[ney][nex] != inf)continue;\\n\\n      cost[ney][nex]=cost[y][x]+1;\\n\\n      q[tail++]=ney*c+nex;\\n\\n    }\\n\\n  }\\n\\n  return false;\\n\\n}\\n\\n\\n\\nmain(){\\n\\n  int r,c;\\n\\n  while(cin>>r>>c && r){\\n\\n    ans = r*c;\\n\\n    isgoal=false;\\n\\n    rep(i,r)rep(j,c)cin>>m[i][j];\\n\\n    rep(i,r)rep(j,c)vis2[i][j]=false;\\n\\n   \\n\\n    int sx2=-1,sy2=-1;\\n\\n    int gx2=-1,gy2=-1;\\n\\n    rep(i,r){\\n\\n      rep(j,c){\\n\\n\\tif (m[i][j] == 2){\\n\\n\\t  if (sx2 == -1)sx2=j,sy2=i;\\n\\n\\t  else gx2=j,gy2=i;\\n\\n\\t}\\n\\n      }\\n\\n    }\\n\\n    \\n\\n    int sx3=-1,sy3=-1,gx3=-1,gy3=-1;\\n\\n    rep(i,r){\\n\\n      rep(j,c){\\n\\n\\tif (m[i][j] == 3){\\n\\n\\t  if (sx3 == -1)sx3=j,sy3=i;\\n\\n\\t  else gx3=j,gy3=i;\\n\\n\\t}\\n\\n      }\\n\\n    }\\n\\n\\n\\n    md=bfs2(r,c,3,2);\\n\\n    \\n\\n    dfs(r,c,sy2,sx2,0,-1,gy2,gx2);\\n\\n    \\n\\n    if (isgoal)cout << ans << endl;\\n\\n    else cout << 0 << endl;\\n\\n  }\\n\\n  return false;\\n\\n}\",\"slower_program\":\"#include<iostream>\\n\\n#include<algorithm>\\n\\nusing namespace std;\\n\\n#define REP(i,b,n) for(int i=b;i<n;i++)\\n\\n#define rep(i,n)   REP(i,0,n)\\n\\n\\n\\nconst int N = 9;\\n\\nconst int inf = (1 <<21);\\n\\n\\n\\nint dx[]={0,1, 0,-1};\\n\\nint dy[]={1,0,-1,0};\\n\\nint op[]={2,3, 0,1};\\n\\nint m[N][N];\\n\\nbool vis2[N][N];\\n\\n\\n\\nbool isok(int r,int c,int y,int x,int last){\\n\\n  rep(i,4){\\n\\n    if (op[i] == last)continue;\\n\\n    int nex=x+dx[i],ney=y+dy[i];\\n\\n    if (nex==-1||ney==-1||nex==c||ney==r)continue;\\n\\n    if (vis2[ney][nex])return false;\\n\\n  }\\n\\n  return true;\\n\\n}\\n\\n\\n\\nvoid output(int r,int c){\\n\\n  cout << \\\"begin\\\"<<endl;\\n\\n  rep(i,r){\\n\\n    rep(j,c){\\n\\n      if (vis2[i][j])cout << 2;\\n\\n      else cout << '0';\\n\\n    }\\n\\n    cout << endl;\\n\\n  }\\n\\n  cout <<endl;\\n\\n}\\nint ans;\\n\\nbool isgoal;\\n\\nint md;\\n\\nbool bfs(int r,int c,int cnt,bool goal2){\\n\\n  static int q[N*N];\\n\\n  static int cost[N][N];\\n\\n  int sy3=-1,sx3=-1,gy3=-1,gx3=-1;\\n\\n  rep(i,r){\\n\\n    rep(j,c){\\n\\n      if (m[i][j] == 3){\\n\\n\\tif (sy3==-1)sy3=i,sx3=j;\\n\\n\\telse gy3=i,gx3=j;\\n\\n      }\\n\\n      cost[i][j]=inf;\\n\\n    }\\n\\n  }\\n\\n  int tail=0,head=0;\\n\\n  q[tail++]=sx3+sy3*c;\\n\\n  cost[sy3][sx3]=0;\\n\\n  while(head != tail){\\n\\n    int now = q[head++];\\n\\n    int x = now%c,y=now\\/c;\\n\\n    if (cnt+cost[y][x] >= ans)return false;\\n\\n    if (x == gx3 && y == gy3){\\n\\n      if (goal2)return true;\\n\\n      isgoal=true;\\n\\n      ans =min(ans,cnt+cost[y][x]);\\n\\n      return true;\\n\\n    }\\n\\n    rep(i,4){\\n\\n      int nex=x+dx[i],ney=y+dy[i];\\n\\n      if (nex==-1||ney==-1||nex==c||ney==r||vis2[ney][nex])continue;\\n\\n      if (m[ney][nex]==1||m[ney][nex] == 2)continue;\\n\\n      if (cost[ney][nex] != inf)continue;\\n\\n      cost[ney][nex]=cost[y][x]+1;\\n\\n      q[tail++]=ney*c+nex;\\n\\n    }\\n\\n  }\\n\\n  return false;\\n\\n}\\n\\n\\n\\nbool bfs2(int r,int c,int cnt,int sy,int sx){\\n\\n  static int q[N*N];\\n\\n  static int cost[N][N];\\n\\n  int sy3=-1,sx3=-1,gy3=-1,gx3=-1;\\n\\n  rep(i,r){\\n\\n    rep(j,c){\\n\\n      if (m[i][j] == 2){\\n\\n\\tif (sy3==-1)sy3=i,sx3=j;\\n\\n\\telse gy3=i,gx3=j;\\n\\n      }\\n\\n      cost[i][j]=inf;\\n\\n    }\\n\\n  }\\n\\n  int tail=0,head=0;\\n\\n  q[tail++]=sx+sy*c;\\n\\n  cost[sy][sx]=0;\\n\\n  while(head != tail){\\n\\n    int now = q[head++];\\n\\n    int x = now%c,y=now\\/c;\\n\\n    if (cnt+cost[y][x] >= ans)return false;\\n\\n    if (x == gx3 && y == gy3){\\n\\n      return true;\\n\\n    }\\n\\n    rep(i,4){\\n\\n      int nex=x+dx[i],ney=y+dy[i];\\n\\n      if (nex==-1||ney==-1||nex==c||ney==r||vis2[ney][nex])continue;\\n\\n      if (m[ney][nex]==1||m[ney][nex] == 3)continue;\\n\\n      if (cost[ney][nex] != inf)continue;\\n\\n      cost[ney][nex]=cost[y][x]+1;\\n\\n      q[tail++]=ney*c+nex;\\n\\n    }\\n\\n  }\\n\\n  return false;\\n\\n}\\nint path[N*N];\\n\\nint pattern[8][4]={\\n\\n  {2,1,1,0,},\\n\\n  {1,0,0,3,},\\n\\n  {0,3,3,2,},\\n\\n  {3,2,2,1,},\\n\\n  {2,3,3,0,},\\n\\n  {1,2,2,3,},\\n\\n  {0,1,1,2,},\\n\\n  {3,0,0,1,},\\n\\n};\\n\\n\\n\\nint cx[]={-1, 0,1, 0, 1, 0,-1, 0};\\n\\nint cy[]={ 0,-1,0, 1, 0, 1, 0,-1};\\n\\n\\n\\nbool isok2(int r,int c,int y,int x,int p){\\n\\n  if (p <4)return true;\\n\\n  rep(i,8){\\n\\n    bool ismatch=true;\\n\\n    rep(j,4){\\n\\n      if (pattern[i][j] == path[p-(4-j)]);\\n\\n      else ismatch=false;\\n\\n    }\\n\\n    if (!ismatch)continue;\\n\\n    int nex=x+cx[i],ney=y+cy[i];\\n\\n    if (nex==-1||ney==-1||nex==c||ney==r)continue;\\n\\n    if (m[ney][nex] == 0 && !vis2[ney][nex])return false;\\n\\n\\n\\n  }\\n\\n  return true;\\n\\n}\\n\\n\\n\\nvoid dfs(int r,int c,int y,int x,int cnt,int last,int gy2,int gx2){\\n\\n  if (!isok(r,c,y,x,last)){\\n\\n    return;\\n\\n  }\\n\\n  if (!isok2(r,c,y,x,cnt))return;\\n\\n\\n\\n  if (cnt+md >= ans)return;\\n\\n  if (!bfs(r,c,cnt,true))return;\\n\\n\\n\\n  \\/\\/  if (!bfs2(r,c,cnt,gy2,gx2))return;\\n\\n\\n\\n  \\/*\\n\\n  for(int i=0;cnt >=5 && i<5;i++){\\n\\n    cout << path[cnt-5+i]<<\\\" \\\";\\n\\n  }\\n\\n  cout << endl;\\n\\n  vis2[y][x]=true;\\n\\n  output(r,c);\\n\\n  vis2[y][x]=false;\\n\\n  *\\/      \\n\\n\\n\\n  if (x == gx2 && y == gy2){\\n\\n    vis2[y][x]=true;\\n\\n    bfs(r,c,cnt,false);\\n\\n    vis2[y][x]=false;\\n\\n    return;\\n\\n  }\\n\\n\\n\\n  vis2[y][x]=true;\\n\\n  rep(i,4){\\n\\n    if (op[i] == last)continue;\\n\\n    int nex=x+dx[i],ney=y+dy[i];\\n\\n    if (nex==-1||ney==-1||nex==c||ney==r||vis2[ney][nex])continue;\\n\\n    if (m[ney][nex] == 3 || m[ney][nex] == 1)continue;\\n\\n    path[cnt]=i;\\n\\n    dfs(r,c,ney,nex,cnt+1,i,gy2,gx2);\\n\\n  }\\n\\n  vis2[y][x]=false;\\n\\n}\\n\\n\\n\\nint bfs2(int r,int c,int tar,int utar){\\n\\n  static int q[N*N];\\n\\n  static int cost[N][N];\\n\\n  int sy3=-1,sx3=-1,gy3=-1,gx3=-1;\\n\\n  rep(i,r){\\n\\n    rep(j,c){\\n\\n      if (m[i][j] == tar){\\n\\n\\tif (sy3==-1)sy3=i,sx3=j;\\n\\n\\telse gy3=i,gx3=j;\\n\\n      }\\n\\n      cost[i][j]=inf;\\n\\n    }\\n\\n  }\\n\\n  int tail=0,head=0;\\n\\n  q[tail++]=sx3+sy3*c;\\n\\n  cost[sy3][sx3]=0;\\n\\n  while(head != tail){\\n\\n    int now = q[head++];\\n\\n    int x = now%c,y=now\\/c;\\n\\n    if (x == gx3 && y == gy3){\\n\\n      return cost[y][x];\\n\\n    }\\n\\n    rep(i,4){\\n\\n      int nex=x+dx[i],ney=y+dy[i];\\n\\n      if (nex==-1||ney==-1||nex==c||ney==r||vis2[ney][nex])continue;\\n\\n      if (m[ney][nex]==1||m[ney][nex] == utar)continue;\\n\\n      if (cost[ney][nex] != inf)continue;\\n\\n      cost[ney][nex]=cost[y][x]+1;\\n\\n      q[tail++]=ney*c+nex;\\n\\n    }\\n\\n  }\\n\\n  return false;\\n\\n}\\n\\n\\n\\nmain(){\\n\\n  int r,c;\\n\\n  while(cin>>r>>c && r){\\n\\n    ans = r*c;\\n\\n    isgoal=false;\\n\\n    rep(i,r)rep(j,c)cin>>m[i][j];\\n\\n    rep(i,r)rep(j,c)vis2[i][j]=false;\\n\\n   \\n\\n    int sx2=-1,sy2=-1;\\n\\n    int gx2=-1,gy2=-1;\\n\\n    rep(i,r){\\n\\n      rep(j,c){\\n\\n\\tif (m[i][j] == 2){\\n\\n\\t  if (sx2 == -1)sx2=j,sy2=i;\\n\\n\\t  else gx2=j,gy2=i;\\n\\n\\t}\\n\\n      }\\n\\n    }\\n\\n    \\n\\n    int sx3=-1,sy3=-1,gx3=-1,gy3=-1;\\n\\n    rep(i,r){\\n\\n      rep(j,c){\\n\\n\\tif (m[i][j] == 3){\\n\\n\\t  if (sx3 == -1)sx3=j,sy3=i;\\n\\n\\t  else gx3=j,gy3=i;\\n\\n\\t}\\n\\n      }\\n\\n    }\\n\\n\\n\\n    md=bfs2(r,c,3,2);\\n\\n    \\n\\n    dfs(r,c,sy2,sx2,0,-1,gy2,gx2);\\n\\n    \\n\\n    if (isgoal)cout << ans << endl;\\n\\n    else cout << 0 << endl;\\n\\n  }\\n\\n  return false;\\n\\n}\",\"input_ref\":\"#include<iostream>\\n\\n#include<algorithm>\\n\\nusing namespace std;\\n\\n#define REP(i,b,n) for(int i=b;i<n;i++)\\n\\n#define rep(i,n)   REP(i,0,n)\\n\\n\\n\\nconst int N = 9;\\n\\nconst int inf = (1 <<21);\\n\\n\\n\\nint dx[]={0,1, 0,-1};\\n\\nint dy[]={1,0,-1,0};\\n\\nint op[]={2,3, 0,1};\\n\\nint m[N][N];\\n\\nbool vis2[N][N];\\n\\n\\n\\nbool isok(int r,int c,int y,int x,int last){\\n\\n  rep(i,4){\\n\\n    if (op[i] == last)continue;\\n\\n    int nex=x+dx[i],ney=y+dy[i];\\n\\n    if (nex==-1||ney==-1||nex==c||ney==r)continue;\\n\\n    if (vis2[ney][nex])return false;\\n\\n  }\\n\\n  return true;\\n\\n}\\n\\n\\n\\nvoid output(int r,int c){\\n\\n  cout << \\\"begin\\\"<<endl;\\n\\n  rep(i,r){\\n\\n    rep(j,c){\\n\\n      if (vis2[i][j])cout << 2;\\n\\n      else cout << '0';\\n\\n    }\\n\\n    cout << endl;\\n\\n  }\\n\\n  cout <<endl;\\n\\n}\\n\\n\\n\\n\\n\\nint ans;\\n\\nbool isgoal;\\n\\nint md;\\n\\nbool bfs(int r,int c,int cnt,bool goal2){\\n\\n  static int q[N*N];\\n\\n  static int cost[N][N];\\n\\n  int sy3=-1,sx3=-1,gy3=-1,gx3=-1;\\n\\n  rep(i,r){\\n\\n    rep(j,c){\\n\\n      if (m[i][j] == 3){\\n\\n\\tif (sy3==-1)sy3=i,sx3=j;\\n\\n\\telse gy3=i,gx3=j;\\n\\n      }\\n\\n      cost[i][j]=inf;\\n\\n    }\\n\\n  }\\n\\n  int tail=0,head=0;\\n\\n  q[tail++]=sx3+sy3*c;\\n\\n  cost[sy3][sx3]=0;\\n\\n  while(head != tail){\\n\\n    int now = q[head++];\\n\\n    int x = now%c,y=now\\/c;\\n\\n    if (cnt+cost[y][x] >= ans)return false;\\n\\n    if (x == gx3 && y == gy3){\\n\\n      if (goal2)return true;\\n\\n      isgoal=true;\\n\\n      ans =min(ans,cnt+cost[y][x]);\\n\\n      return true;\\n\\n    }\\n\\n    rep(i,4){\\n\\n      int nex=x+dx[i],ney=y+dy[i];\\n\\n      if (nex==-1||ney==-1||nex==c||ney==r||vis2[ney][nex])continue;\\n\\n      if (m[ney][nex]==1||m[ney][nex] == 2)continue;\\n\\n      if (cost[ney][nex] != inf)continue;\\n\\n      cost[ney][nex]=cost[y][x]+1;\\n\\n      q[tail++]=ney*c+nex;\\n\\n    }\\n\\n  }\\n\\n  return false;\\n\\n}\\n\\n\\n\\nbool bfs2(int r,int c,int cnt,int sy,int sx){\\n\\n  static int q[N*N];\\n\\n  static int cost[N][N];\\n\\n  int sy3=-1,sx3=-1,gy3=-1,gx3=-1;\\n\\n  rep(i,r){\\n\\n    rep(j,c){\\n\\n      if (m[i][j] == 2){\\n\\n\\tif (sy3==-1)sy3=i,sx3=j;\\n\\n\\telse gy3=i,gx3=j;\\n\\n      }\\n\\n      cost[i][j]=inf;\\n\\n    }\\n\\n  }\\n\\n  int tail=0,head=0;\\n\\n  q[tail++]=sx+sy*c;\\n\\n  cost[sy][sx]=0;\\n\\n  while(head != tail){\\n\\n    int now = q[head++];\\n\\n    int x = now%c,y=now\\/c;\\n\\n    if (cnt+cost[y][x] >= ans)return false;\\n\\n    if (x == gx3 && y == gy3){\\n\\n      return true;\\n\\n    }\\n\\n    rep(i,4){\\n\\n      int nex=x+dx[i],ney=y+dy[i];\\n\\n      if (nex==-1||ney==-1||nex==c||ney==r||vis2[ney][nex])continue;\\n\\n      if (m[ney][nex]==1||m[ney][nex] == 3)continue;\\n\\n      if (cost[ney][nex] != inf)continue;\\n\\n      cost[ney][nex]=cost[y][x]+1;\\n\\n      q[tail++]=ney*c+nex;\\n\\n    }\\n\\n  }\\n\\n  return false;\\n\\n}\\n\\n\\n\\n\\n\\nint path[N*N];\\n\\nint pattern[8][4]={\\n\\n  {2,1,1,0,},\\n\\n  {1,0,0,3,},\\n\\n  {0,3,3,2,},\\n\\n  {3,2,2,1,},\\n\\n  {2,3,3,0,},\\n\\n  {1,2,2,3,},\\n\\n  {0,1,1,2,},\\n\\n  {3,0,0,1,},\\n\\n};\\n\\n\\n\\nint cx[]={-1, 0,1, 0, 1, 0,-1, 0};\\n\\nint cy[]={ 0,-1,0, 1, 0, 1, 0,-1};\\n\\n\\n\\nbool isok2(int r,int c,int y,int x,int p){\\n\\n  if (p <4)return true;\\n\\n  rep(i,8){\\n\\n    bool ismatch=true;\\n\\n    rep(j,4){\\n\\n      if (pattern[i][j] == path[p-(4-j)]);\\n\\n      else ismatch=false;\\n\\n    }\\n\\n    if (!ismatch)continue;\\n\\n    int nex=x+cx[i],ney=y+cy[i];\\n\\n    if (nex==-1||ney==-1||nex==c||ney==r)continue;\\n\\n    if (m[ney][nex] == 0 && !vis2[ney][nex])return false;\\n\\n\\n\\n  }\\n\\n  return true;\\n\\n}\\n\\n\\n\\nvoid dfs(int r,int c,int y,int x,int cnt,int last,int gy2,int gx2){\\n\\n  if (!isok(r,c,y,x,last)){\\n\\n    return;\\n\\n  }\\n\\n  if (!isok2(r,c,y,x,cnt))return;\\n\\n\\n\\n  if (cnt+md >= ans)return;\\n\\n  if (!bfs(r,c,cnt,true))return;\\n\\n\\n\\n  \\/\\/  if (!bfs2(r,c,cnt,gy2,gx2))return;\\n\\n\\n\\n  \\/*\\n\\n  for(int i=0;cnt >=5 && i<5;i++){\\n\\n    cout << path[cnt-5+i]<<\\\" \\\";\\n\\n  }\\n\\n  cout << endl;\\n\\n  vis2[y][x]=true;\\n\\n  output(r,c);\\n\\n  vis2[y][x]=false;\\n\\n  *\\/      \\n\\n\\n\\n  if (x == gx2 && y == gy2){\\n\\n    vis2[y][x]=true;\\n\\n    bfs(r,c,cnt,false);\\n\\n    vis2[y][x]=false;\\n\\n    return;\\n\\n  }\\n\\n\\n\\n  vis2[y][x]=true;\\n\\n  rep(i,4){\\n\\n    if (op[i] == last)continue;\\n\\n    int nex=x+dx[i],ney=y+dy[i];\\n\\n    if (nex==-1||ney==-1||nex==c||ney==r||vis2[ney][nex])continue;\\n\\n    if (m[ney][nex] == 3 || m[ney][nex] == 1)continue;\\n\\n    path[cnt]=i;\\n\\n    dfs(r,c,ney,nex,cnt+1,i,gy2,gx2);\\n\\n  }\\n\\n  vis2[y][x]=false;\\n\\n}\\n\\n\\n\\nint bfs2(int r,int c,int tar,int utar){\\n\\n  static int q[N*N];\\n\\n  static int cost[N][N];\\n\\n  int sy3=-1,sx3=-1,gy3=-1,gx3=-1;\\n\\n  rep(i,r){\\n\\n    rep(j,c){\\n\\n      if (m[i][j] == tar){\\n\\n\\tif (sy3==-1)sy3=i,sx3=j;\\n\\n\\telse gy3=i,gx3=j;\\n\\n      }\\n\\n      cost[i][j]=inf;\\n\\n    }\\n\\n  }\\n\\n  int tail=0,head=0;\\n\\n  q[tail++]=sx3+sy3*c;\\n\\n  cost[sy3][sx3]=0;\\n\\n  while(head != tail){\\n\\n    int now = q[head++];\\n\\n    int x = now%c,y=now\\/c;\\n\\n    if (x == gx3 && y == gy3){\\n\\n      return cost[y][x];\\n\\n    }\\n\\n    rep(i,4){\\n\\n      int nex=x+dx[i],ney=y+dy[i];\\n\\n      if (nex==-1||ney==-1||nex==c||ney==r||vis2[ney][nex])continue;\\n\\n      if (m[ney][nex]==1||m[ney][nex] == utar)continue;\\n\\n      if (cost[ney][nex] != inf)continue;\\n\\n      cost[ney][nex]=cost[y][x]+1;\\n\\n      q[tail++]=ney*c+nex;\\n\\n    }\\n\\n  }\\n\\n  return false;\\n\\n}\\n\\n\\n\\nmain(){\\n\\n  int r,c;\\n\\n  while(cin>>r>>c && r){\\n\\n    ans = r*c;\\n\\n    isgoal=false;\\n\\n    rep(i,r)rep(j,c)cin>>m[i][j];\\n\\n    rep(i,r)rep(j,c)vis2[i][j]=false;\\n\\n   \\n\\n    int sx2=-1,sy2=-1;\\n\\n    int gx2=-1,gy2=-1;\\n\\n    rep(i,r){\\n\\n      rep(j,c){\\n\\n\\tif (m[i][j] == 2){\\n\\n\\t  if (sx2 == -1)sx2=j,sy2=i;\\n\\n\\t  else gx2=j,gy2=i;\\n\\n\\t}\\n\\n      }\\n\\n    }\\n\\n    \\n\\n    int sx3=-1,sy3=-1,gx3=-1,gy3=-1;\\n\\n    rep(i,r){\\n\\n      rep(j,c){\\n\\n\\tif (m[i][j] == 3){\\n\\n\\t  if (sx3 == -1)sx3=j,sy3=i;\\n\\n\\t  else gx3=j,gy3=i;\\n\\n\\t}\\n\\n      }\\n\\n    }\\n\\n\\n\\n    md=bfs2(r,c,3,2);\\n\\n    \\n\\n    dfs(r,c,sy2,sx2,0,-1,gy2,gx2);\\n\\n    \\n\\n    if (isgoal)cout << ans << endl;\\n\\n    else cout << 0 << endl;\\n\\n  }\\n\\n  return false;\\n\\n}\",\"problem_id\":\"p00849\",\"submission_id_v0\":\"s8\",\"cpu_time_v0\":1,\"cpu_time_v1\":1,\"input_time_mean\":4668.2687997818,\"input_time_std\":0.3837347031,\"input_acc\":1.0,\"reference_time_mean\":4597.457408905,\"reference_time_std\":0.3125667572,\"reference_acc\":1.0,\"improved_code_time_mean\":4593.7926769257,\"improved_code_time_std\":1.1234283447,\"improved_code_acc\":1.0}\n10:{\"input\":\"#include<iostream>\\n\\n#include<algorithm>\\n\\nusing namespace std;\\n\\n#define REP(i,b,n) for(int i=b;i<n;i++)\\n\\n#define rep(i,n)   REP(i,0,n)\\n\\n\\n\\nconst int N = 9;\\n\\nconst int inf = (1 <<21);\\n\\n\\n\\nint dx[]={0,1, 0,-1};\\n\\nint dy[]={1,0,-1,0};\\n\\nint op[]={2,3, 0,1};\\n\\nint m[N][N];\\n\\nbool vis2[N][N];\\n\\n\\n\\nbool isok(int r,int c,int y,int x,int last){\\n\\n  rep(i,4){\\n\\n    if (op[i] == last)continue;\\n\\n    int nex=x+dx[i],ney=y+dy[i];\\n\\n    if (nex==-1||ney==-1||nex==c||ney==r)continue;\\n\\n    if (vis2[ney][nex])return false;\\n\\n  }\\n\\n  return true;\\n\\n}\\n\\n\\n\\nvoid output(int r,int c){\\n\\n  cout << \\\"begin\\\"<<endl;\\n\\n  rep(i,r){\\n\\n    rep(j,c){\\n\\n      if (vis2[i][j])cout << 2;\\n\\n      else cout << '0';\\n\\n    }\\n\\n    cout << endl;\\n\\n  }\\n\\n  cout <<endl;\\n\\n}\\n\\n\\n\\n\\n\\nint ans;\\n\\nbool isgoal;\\n\\nint md;\\n\\nbool bfs(int r,int c,int cnt,bool goal2){\\n\\n  static int q[N*N];\\n\\n  static int cost[N][N];\\n\\n  int sy3=-1,sx3=-1,gy3=-1,gx3=-1;\\n\\n  rep(i,r){\\n\\n    rep(j,c){\\n\\n      if (m[i][j] == 3){\\n\\n\\tif (sy3==-1)sy3=i,sx3=j;\\n\\n\\telse gy3=i,gx3=j;\\n\\n      }\\n\\n      cost[i][j]=inf;\\n\\n    }\\n\\n  }\\n\\n  int tail=0,head=0;\\n\\n  q[tail++]=sx3+sy3*c;\\n\\n  cost[sy3][sx3]=0;\\n\\n  while(head != tail){\\n\\n    int now = q[head++];\\n\\n    int x = now%c,y=now\\/c;\\n\\n    if (cnt+cost[y][x] >= ans)return false;\\n\\n    if (x == gx3 && y == gy3){\\n\\n      if (goal2)return true;\\n\\n      isgoal=true;\\n\\n      ans =min(ans,cnt+cost[y][x]);\\n\\n      return true;\\n\\n    }\\n\\n    rep(i,4){\\n\\n      int nex=x+dx[i],ney=y+dy[i];\\n\\n      if (nex==-1||ney==-1||nex==c||ney==r||vis2[ney][nex])continue;\\n\\n      if (m[ney][nex]==1||m[ney][nex] == 2)continue;\\n\\n      if (cost[ney][nex] != inf)continue;\\n\\n      cost[ney][nex]=cost[y][x]+1;\\n\\n      q[tail++]=ney*c+nex;\\n\\n    }\\n\\n  }\\n\\n  return false;\\n\\n}\\n\\n\\n\\nint path[N*N];\\n\\nint pattern[8][4]={\\n\\n  {2,1,1,0,},\\n\\n  {1,0,0,3,},\\n\\n  {0,3,3,2,},\\n\\n  {3,2,2,1,},\\n\\n  {2,3,3,0,},\\n\\n  {1,2,2,3,},\\n\\n  {0,1,1,2,},\\n\\n  {3,0,0,1,},\\n\\n};\\n\\n\\n\\nint cx[]={-1, 0,1, 0, 1, 0,-1, 0};\\n\\nint cy[]={ 0,-1,0, 1, 0, 1, 0,-1};\\n\\n\\n\\nbool isok2(int r,int c,int y,int x,int p){\\n\\n  if (p <4)return true;\\n\\n  rep(i,8){\\n\\n    bool ismatch=true;\\n\\n    rep(j,4){\\n\\n      if (pattern[i][j] == path[p-(4-j)]);\\n\\n      else ismatch=false;\\n\\n    }\\n\\n    if (!ismatch)continue;\\n\\n    int nex=x+cx[i],ney=y+cy[i];\\n\\n    if (nex==-1||ney==-1||nex==c||ney==r)continue;\\n\\n    if (m[ney][nex] == 0 && !vis2[ney][nex])return false;\\n\\n\\n\\n  }\\n\\n  return true;\\n\\n}\\n\\n\\n\\nvoid dfs(int r,int c,int y,int x,int cnt,int last,int gy2,int gx2){\\n\\n  if (!isok(r,c,y,x,last)){\\n\\n    return;\\n\\n  }\\n\\n  if (!isok2(r,c,y,x,cnt))return;\\n\\n\\n\\n  if (cnt+md >= ans)return;\\n\\n  \\/\\/  if (!bfs(r,c,cnt,true))return;\\n\\n\\n\\n  if (x == gx2 && y == gy2){\\n\\n    vis2[y][x]=true;\\n\\n    bfs(r,c,cnt,false);\\n\\n    vis2[y][x]=false;\\n\\n    return;\\n\\n  }\\n\\n\\n\\n  vis2[y][x]=true;\\n\\n  rep(i,4){\\n\\n    if (op[i] == last)continue;\\n\\n    int nex=x+dx[i],ney=y+dy[i];\\n\\n    if (nex==-1||ney==-1||nex==c||ney==r||vis2[ney][nex])continue;\\n\\n    if (m[ney][nex] == 3 || m[ney][nex] == 1)continue;\\n\\n    path[cnt]=i;\\n\\n    dfs(r,c,ney,nex,cnt+1,i,gy2,gx2);\\n\\n  }\\n\\n  vis2[y][x]=false;\\n\\n}\\n\\n\\n\\nint bfs2(int r,int c,int tar,int utar){\\n\\n  static int q[N*N];\\n\\n  static int cost[N][N];\\n\\n  int sy3=-1,sx3=-1,gy3=-1,gx3=-1;\\n\\n  rep(i,r){\\n\\n    rep(j,c){\\n\\n      if (m[i][j] == tar){\\n\\n\\tif (sy3==-1)sy3=i,sx3=j;\\n\\n\\telse gy3=i,gx3=j;\\n\\n      }\\n\\n      cost[i][j]=inf;\\n\\n    }\\n\\n  }\\n\\n  int tail=0,head=0;\\n\\n  q[tail++]=sx3+sy3*c;\\n\\n  cost[sy3][sx3]=0;\\n\\n  while(head != tail){\\n\\n    int now = q[head++];\\n\\n    int x = now%c,y=now\\/c;\\n\\n    if (x == gx3 && y == gy3){\\n\\n      return cost[y][x];\\n\\n    }\\n\\n    rep(i,4){\\n\\n      int nex=x+dx[i],ney=y+dy[i];\\n\\n      if (nex==-1||ney==-1||nex==c||ney==r||vis2[ney][nex])continue;\\n\\n      if (m[ney][nex]==1||m[ney][nex] == utar)continue;\\n\\n      if (cost[ney][nex] != inf)continue;\\n\\n      cost[ney][nex]=cost[y][x]+1;\\n\\n      q[tail++]=ney*c+nex;\\n\\n    }\\n\\n  }\\n\\n  return false;\\n\\n}\\n\\n\\n\\nmain(){\\n\\n  int r,c;\\n\\n  while(cin>>r>>c && r){\\n\\n    ans = r*c;\\n\\n    isgoal=false;\\n\\n    rep(i,r)rep(j,c)cin>>m[i][j];\\n\\n    rep(i,r)rep(j,c)vis2[i][j]=false;\\n\\n   \\n\\n    int sx2=-1,sy2=-1;\\n\\n    int gx2=-1,gy2=-1;\\n\\n    rep(i,r){\\n\\n      rep(j,c){\\n\\n\\tif (m[i][j] == 2){\\n\\n\\t  if (sx2 == -1)sx2=j,sy2=i;\\n\\n\\t  else gx2=j,gy2=i;\\n\\n\\t}\\n\\n      }\\n\\n    }\\n\\n    \\n\\n    int sx3=-1,sy3=-1,gx3=-1,gy3=-1;\\n\\n    rep(i,r){\\n\\n      rep(j,c){\\n\\n\\tif (m[i][j] == 3){\\n\\n\\t  if (sx3 == -1)sx3=j,sy3=i;\\n\\n\\t  else gx3=j,gy3=i;\\n\\n\\t}\\n\\n      }\\n\\n    }\\n\\n\\n\\n    md=bfs2(r,c,3,2);\\n\\n    \\n\\n    dfs(r,c,sy2,sx2,0,-1,gy2,gx2);\\n\\n    \\n\\n    if (isgoal)cout << ans << endl;\\n\\n    else cout << 0 << endl;\\n\\n  }\\n\\n  return false;\\n\\n}\",\"improved_code\":\"#include<iostream>\\n\\n#include<algorithm>\\n\\nusing namespace std;\\n\\n#define REP(i,b,n) for(int i=b;i<n;i++)\\n\\n#define rep(i,n)   REP(i,0,n)\\n\\n\\n\\nconst int N = 9;\\n\\nconst int inf = (1 <<21);\\n\\n\\n\\nint dx[]={0,1, 0,-1};\\n\\nint dy[]={1,0,-1,0};\\n\\nint op[]={2,3, 0,1};\\n\\nint m[N][N];\\n\\nbool vis2[N][N];\\n\\n\\n\\nbool isok(int r,int c,int y,int x,int last){\\n\\n  rep(i,4){\\n\\n    if (op[i] == last)continue;\\n\\n    int nex=x+dx[i],ney=y+dy[i];\\n\\n    if (nex==-1||ney==-1||nex==c||ney==r)continue;\\n\\n    if (vis2[ney][nex])return false;\\n\\n  }\\n\\n  return true;\\n\\n}\\n\\n\\n\\nint ans;\\n\\nbool isgoal;\\n\\nint md;\\n\\nbool bfs(int r,int c,int cnt,bool goal2){\\n\\n  static int q[N*N];\\n\\n  static int cost[N][N];\\n\\n  int sy3=-1,sx3=-1,gy3=-1,gx3=-1;\\n\\n  rep(i,r){\\n\\n    rep(j,c){\\n\\n      if (m[i][j] == 3){\\n\\n\\tif (sy3==-1)sy3=i,sx3=j;\\n\\n\\telse gy3=i,gx3=j;\\n\\n      }\\n\\n      cost[i][j]=inf;\\n\\n    }\\n\\n  }\\n\\n  int tail=0,head=0;\\n\\n  q[tail++]=sx3+sy3*c;\\n\\n  cost[sy3][sx3]=0;\\n\\n  while(head != tail){\\n\\n    int now = q[head++];\\n\\n    int x = now%c,y=now\\/c;\\n\\n    if (cnt+cost[y][x] >= ans)return false;\\n\\n    if (x == gx3 && y == gy3){\\n\\n      if (goal2)return true;\\n\\n      isgoal=true;\\n\\n      ans =min(ans,cnt+cost[y][x]);\\n\\n      return true;\\n\\n    }\\n\\n    rep(i,4){\\n\\n      int nex=x+dx[i],ney=y+dy[i];\\n\\n      if (nex==-1||ney==-1||nex==c||ney==r||vis2[ney][nex])continue;\\n\\n      if (m[ney][nex]==1||m[ney][nex] == 2)continue;\\n\\n      if (cost[ney][nex] != inf)continue;\\n\\n      cost[ney][nex]=cost[y][x]+1;\\n\\n      q[tail++]=ney*c+nex;\\n\\n    }\\n\\n  }\\n\\n  return false;\\n\\n}\\n\\n\\n\\nint path[N*N];\\n\\nint pattern[8][4]={\\n\\n  {2,1,1,0,},\\n\\n  {1,0,0,3,},\\n\\n  {0,3,3,2,},\\n\\n  {3,2,2,1,},\\n\\n  {2,3,3,0,},\\n\\n  {1,2,2,3,},\\n\\n  {0,1,1,2,},\\n\\n  {3,0,0,1,},\\n\\n};\\n\\n\\n\\nint cx[]={-1, 0,1, 0, 1, 0,-1, 0};\\n\\nint cy[]={ 0,-1,0, 1, 0, 1, 0,-1};\\n\\n\\n\\nbool isok2(int r,int c,int y,int x,int p){\\n\\n  if (p <4)return true;\\n\\n  rep(i,8){\\n\\n    bool ismatch=true;\\n\\n    rep(j,4){\\n\\n      if (pattern[i][j] == path[p-(4-j)]);\\n\\n      else ismatch=false;\\n\\n    }\\n\\n    if (!ismatch)continue;\\n\\n    int nex=x+cx[i],ney=y+cy[i];\\n\\n    if (nex==-1||ney==-1||nex==c||ney==r)continue;\\n\\n    if (m[ney][nex] == 0 && !vis2[ney][nex])return false;\\n\\n\\n\\n  }\\n\\n  return true;\\n\\n}\\n\\n\\n\\nvoid dfs(int r,int c,int y,int x,int cnt,int last,int gy2,int gx2){\\n\\n  if (!isok(r,c,y,x,last)){\\n\\n    return;\\n\\n  }\\n\\n  if (!isok2(r,c,y,x,cnt))return;\\n\\n\\n\\n  if (cnt+md >= ans)return;\\n\\n  \\/\\/  if (!bfs(r,c,cnt,true))return;\\n\\n\\n\\n  if (x == gx2 && y == gy2){\\n\\n    vis2[y][x]=true;\\n\\n    bfs(r,c,cnt,false);\\n\\n    vis2[y][x]=false;\\n\\n    return;\\n\\n  }\\n\\n\\n\\n  vis2[y][x]=true;\\n\\n  rep(i,4){\\n\\n    if (op[i] == last)continue;\\n\\n    int nex=x+dx[i],ney=y+dy[i];\\n\\n    if (nex==-1||ney==-1||nex==c||ney==r||vis2[ney][nex])continue;\\n\\n    if (m[ney][nex] == 3 || m[ney][nex] == 1)continue;\\n\\n    path[cnt]=i;\\n\\n    dfs(r,c,ney,nex,cnt+1,i,gy2,gx2);\\n\\n  }\\n\\n  vis2[y][x]=false;\\n\\n}\\n\\n\\n\\nint bfs2(int r,int c,int tar,int utar){\\n\\n  static int q[N*N];\\n\\n  static int cost[N][N];\\n\\n  int sy3=-1,sx3=-1,gy3=-1,gx3=-1;\\n\\n  rep(i,r){\\n\\n    rep(j,c){\\n\\n      if (m[i][j] == tar){\\n\\n\\tif (sy3==-1)sy3=i,sx3=j;\\n\\n\\telse gy3=i,gx3=j;\\n\\n      }\\n\\n      cost[i][j]=inf;\\n\\n    }\\n\\n  }\\n\\n  int tail=0,head=0;\\n\\n  q[tail++]=sx3+sy3*c;\\n\\n  cost[sy3][sx3]=0;\\n\\n  while(head != tail){\\n\\n    int now = q[head++];\\n\\n    int x = now%c,y=now\\/c;\\n\\n    if (x == gx3 && y == gy3){\\n\\n      return cost[y][x];\\n\\n    }\\n\\n    rep(i,4){\\n\\n      int nex=x+dx[i],ney=y+dy[i];\\n\\n      if (nex==-1||ney==-1||nex==c||ney==r||vis2[ney][nex])continue;\\n\\n      if (m[ney][nex]==1||m[ney][nex] == utar)continue;\\n\\n      if (cost[ney][nex] != inf)continue;\\n\\n      cost[ney][nex]=cost[y][x]+1;\\n\\n      q[tail++]=ney*c+nex;\\n\\n    }\\n\\n  }\\n\\n  return false;\\n\\n}\\n\\n\\n\\nmain(){\\n\\n  int r,c;\\n\\n  while(cin>>r>>c && r){\\n\\n    ans = r*c;\\n\\n    isgoal=false;\\n\\n    rep(i,r)rep(j,c)cin>>m[i][j];\\n\\n    rep(i,r)rep(j,c)vis2[i][j]=false;\\n\\n   \\n\\n    int sx2=-1,sy2=-1;\\n\\n    int gx2=-1,gy2=-1;\\n\\n    rep(i,r){\\n\\n      rep(j,c){\\n\\n\\tif (m[i][j] == 2){\\n\\n\\t  if (sx2 == -1)sx2=j,sy2=i;\\n\\n\\t  else gx2=j,gy2=i;\\n\\n\\t}\\n\\n      }\\n\\n    }\\n\\n    \\n\\n    int sx3=-1,sy3=-1,gx3=-1,gy3=-1;\\n\\n    rep(i,r){\\n\\n      rep(j,c){\\n\\n\\tif (m[i][j] == 3){\\n\\n\\t  if (sx3 == -1)sx3=j,sy3=i;\\n\\n\\t  else gx3=j,gy3=i;\\n\\n\\t}\\n\\n      }\\n\\n    }\\n\\n\\n\\n    md=bfs2(r,c,3,2);\\n\\n    \\n\\n    dfs(r,c,sy2,sx2,0,-1,gy2,gx2);\\n\\n    \\n\\n    if (isgoal)cout << ans << endl;\\n\\n    else cout << 0 << endl;\\n\\n  }\\n\\n  return false;\\n\\n}\",\"slower_program\":\"#include<iostream>\\n\\n#include<algorithm>\\n\\nusing namespace std;\\n\\n#define REP(i,b,n) for(int i=b;i<n;i++)\\n\\n#define rep(i,n)   REP(i,0,n)\\n\\n\\n\\nconst int N = 9;\\n\\nconst int inf = (1 <<21);\\n\\n\\n\\nint dx[]={0,1, 0,-1};\\n\\nint dy[]={1,0,-1,0};\\n\\nint op[]={2,3, 0,1};\\n\\nint m[N][N];\\n\\nbool vis2[N][N];\\n\\n\\n\\nbool isok(int r,int c,int y,int x,int last){\\n\\n  rep(i,4){\\n\\n    if (op[i] == last)continue;\\n\\n    int nex=x+dx[i],ney=y+dy[i];\\n\\n    if (nex==-1||ney==-1||nex==c||ney==r)continue;\\n\\n    if (vis2[ney][nex])return false;\\n\\n  }\\n\\n  return true;\\n\\n}\\n\\n\\n\\nvoid output(int r,int c){\\n\\n  cout << \\\"begin\\\"<<endl;\\n\\n  rep(i,r){\\n\\n    rep(j,c){\\n\\n      if (vis2[i][j])cout << 2;\\n\\n      else cout << '0';\\n\\n    }\\n\\n    cout << endl;\\n\\n  }\\n\\n  cout <<endl;\\n\\n}\\nint ans;\\n\\nbool isgoal;\\n\\nint md;\\n\\nbool bfs(int r,int c,int cnt,bool goal2){\\n\\n  static int q[N*N];\\n\\n  static int cost[N][N];\\n\\n  int sy3=-1,sx3=-1,gy3=-1,gx3=-1;\\n\\n  rep(i,r){\\n\\n    rep(j,c){\\n\\n      if (m[i][j] == 3){\\n\\n\\tif (sy3==-1)sy3=i,sx3=j;\\n\\n\\telse gy3=i,gx3=j;\\n\\n      }\\n\\n      cost[i][j]=inf;\\n\\n    }\\n\\n  }\\n\\n  int tail=0,head=0;\\n\\n  q[tail++]=sx3+sy3*c;\\n\\n  cost[sy3][sx3]=0;\\n\\n  while(head != tail){\\n\\n    int now = q[head++];\\n\\n    int x = now%c,y=now\\/c;\\n\\n    if (cnt+cost[y][x] >= ans)return false;\\n\\n    if (x == gx3 && y == gy3){\\n\\n      if (goal2)return true;\\n\\n      isgoal=true;\\n\\n      ans =min(ans,cnt+cost[y][x]);\\n\\n      return true;\\n\\n    }\\n\\n    rep(i,4){\\n\\n      int nex=x+dx[i],ney=y+dy[i];\\n\\n      if (nex==-1||ney==-1||nex==c||ney==r||vis2[ney][nex])continue;\\n\\n      if (m[ney][nex]==1||m[ney][nex] == 2)continue;\\n\\n      if (cost[ney][nex] != inf)continue;\\n\\n      cost[ney][nex]=cost[y][x]+1;\\n\\n      q[tail++]=ney*c+nex;\\n\\n    }\\n\\n  }\\n\\n  return false;\\n\\n}\\n\\n\\n\\nint path[N*N];\\n\\nint pattern[8][4]={\\n\\n  {2,1,1,0,},\\n\\n  {1,0,0,3,},\\n\\n  {0,3,3,2,},\\n\\n  {3,2,2,1,},\\n\\n  {2,3,3,0,},\\n\\n  {1,2,2,3,},\\n\\n  {0,1,1,2,},\\n\\n  {3,0,0,1,},\\n\\n};\\n\\n\\n\\nint cx[]={-1, 0,1, 0, 1, 0,-1, 0};\\n\\nint cy[]={ 0,-1,0, 1, 0, 1, 0,-1};\\n\\n\\n\\nbool isok2(int r,int c,int y,int x,int p){\\n\\n  if (p <4)return true;\\n\\n  rep(i,8){\\n\\n    bool ismatch=true;\\n\\n    rep(j,4){\\n\\n      if (pattern[i][j] == path[p-(4-j)]);\\n\\n      else ismatch=false;\\n\\n    }\\n\\n    if (!ismatch)continue;\\n\\n    int nex=x+cx[i],ney=y+cy[i];\\n\\n    if (nex==-1||ney==-1||nex==c||ney==r)continue;\\n\\n    if (m[ney][nex] == 0 && !vis2[ney][nex])return false;\\n\\n\\n\\n  }\\n\\n  return true;\\n\\n}\\n\\n\\n\\nvoid dfs(int r,int c,int y,int x,int cnt,int last,int gy2,int gx2){\\n\\n  if (!isok(r,c,y,x,last)){\\n\\n    return;\\n\\n  }\\n\\n  if (!isok2(r,c,y,x,cnt))return;\\n\\n\\n\\n  if (cnt+md >= ans)return;\\n\\n  \\/\\/  if (!bfs(r,c,cnt,true))return;\\n\\n\\n\\n  if (x == gx2 && y == gy2){\\n\\n    vis2[y][x]=true;\\n\\n    bfs(r,c,cnt,false);\\n\\n    vis2[y][x]=false;\\n\\n    return;\\n\\n  }\\n\\n\\n\\n  vis2[y][x]=true;\\n\\n  rep(i,4){\\n\\n    if (op[i] == last)continue;\\n\\n    int nex=x+dx[i],ney=y+dy[i];\\n\\n    if (nex==-1||ney==-1||nex==c||ney==r||vis2[ney][nex])continue;\\n\\n    if (m[ney][nex] == 3 || m[ney][nex] == 1)continue;\\n\\n    path[cnt]=i;\\n\\n    dfs(r,c,ney,nex,cnt+1,i,gy2,gx2);\\n\\n  }\\n\\n  vis2[y][x]=false;\\n\\n}\\n\\n\\n\\nint bfs2(int r,int c,int tar,int utar){\\n\\n  static int q[N*N];\\n\\n  static int cost[N][N];\\n\\n  int sy3=-1,sx3=-1,gy3=-1,gx3=-1;\\n\\n  rep(i,r){\\n\\n    rep(j,c){\\n\\n      if (m[i][j] == tar){\\n\\n\\tif (sy3==-1)sy3=i,sx3=j;\\n\\n\\telse gy3=i,gx3=j;\\n\\n      }\\n\\n      cost[i][j]=inf;\\n\\n    }\\n\\n  }\\n\\n  int tail=0,head=0;\\n\\n  q[tail++]=sx3+sy3*c;\\n\\n  cost[sy3][sx3]=0;\\n\\n  while(head != tail){\\n\\n    int now = q[head++];\\n\\n    int x = now%c,y=now\\/c;\\n\\n    if (x == gx3 && y == gy3){\\n\\n      return cost[y][x];\\n\\n    }\\n\\n    rep(i,4){\\n\\n      int nex=x+dx[i],ney=y+dy[i];\\n\\n      if (nex==-1||ney==-1||nex==c||ney==r||vis2[ney][nex])continue;\\n\\n      if (m[ney][nex]==1||m[ney][nex] == utar)continue;\\n\\n      if (cost[ney][nex] != inf)continue;\\n\\n      cost[ney][nex]=cost[y][x]+1;\\n\\n      q[tail++]=ney*c+nex;\\n\\n    }\\n\\n  }\\n\\n  return false;\\n\\n}\\n\\n\\n\\nmain(){\\n\\n  int r,c;\\n\\n  while(cin>>r>>c && r){\\n\\n    ans = r*c;\\n\\n    isgoal=false;\\n\\n    rep(i,r)rep(j,c)cin>>m[i][j];\\n\\n    rep(i,r)rep(j,c)vis2[i][j]=false;\\n\\n   \\n\\n    int sx2=-1,sy2=-1;\\n\\n    int gx2=-1,gy2=-1;\\n\\n    rep(i,r){\\n\\n      rep(j,c){\\n\\n\\tif (m[i][j] == 2){\\n\\n\\t  if (sx2 == -1)sx2=j,sy2=i;\\n\\n\\t  else gx2=j,gy2=i;\\n\\n\\t}\\n\\n      }\\n\\n    }\\n\\n    \\n\\n    int sx3=-1,sy3=-1,gx3=-1,gy3=-1;\\n\\n    rep(i,r){\\n\\n      rep(j,c){\\n\\n\\tif (m[i][j] == 3){\\n\\n\\t  if (sx3 == -1)sx3=j,sy3=i;\\n\\n\\t  else gx3=j,gy3=i;\\n\\n\\t}\\n\\n      }\\n\\n    }\\n\\n\\n\\n    md=bfs2(r,c,3,2);\\n\\n    \\n\\n    dfs(r,c,sy2,sx2,0,-1,gy2,gx2);\\n\\n    \\n\\n    if (isgoal)cout << ans << endl;\\n\\n    else cout << 0 << endl;\\n\\n  }\\n\\n  return false;\\n\\n}\",\"input_ref\":\"#include<iostream>\\n\\n#include<algorithm>\\n\\nusing namespace std;\\n\\n#define REP(i,b,n) for(int i=b;i<n;i++)\\n\\n#define rep(i,n)   REP(i,0,n)\\n\\n\\n\\nconst int N = 9;\\n\\nconst int inf = (1 <<21);\\n\\n\\n\\nint dx[]={0,1, 0,-1};\\n\\nint dy[]={1,0,-1,0};\\n\\nint op[]={2,3, 0,1};\\n\\nint m[N][N];\\n\\nbool vis2[N][N];\\n\\n\\n\\nbool isok(int r,int c,int y,int x,int last){\\n\\n  rep(i,4){\\n\\n    if (op[i] == last)continue;\\n\\n    int nex=x+dx[i],ney=y+dy[i];\\n\\n    if (nex==-1||ney==-1||nex==c||ney==r)continue;\\n\\n    if (vis2[ney][nex])return false;\\n\\n  }\\n\\n  return true;\\n\\n}\\n\\n\\n\\nvoid output(int r,int c){\\n\\n  cout << \\\"begin\\\"<<endl;\\n\\n  rep(i,r){\\n\\n    rep(j,c){\\n\\n      if (vis2[i][j])cout << 2;\\n\\n      else cout << '0';\\n\\n    }\\n\\n    cout << endl;\\n\\n  }\\n\\n  cout <<endl;\\n\\n}\\n\\n\\n\\n\\n\\nint ans;\\n\\nbool isgoal;\\n\\nint md;\\n\\nbool bfs(int r,int c,int cnt,bool goal2){\\n\\n  static int q[N*N];\\n\\n  static int cost[N][N];\\n\\n  int sy3=-1,sx3=-1,gy3=-1,gx3=-1;\\n\\n  rep(i,r){\\n\\n    rep(j,c){\\n\\n      if (m[i][j] == 3){\\n\\n\\tif (sy3==-1)sy3=i,sx3=j;\\n\\n\\telse gy3=i,gx3=j;\\n\\n      }\\n\\n      cost[i][j]=inf;\\n\\n    }\\n\\n  }\\n\\n  int tail=0,head=0;\\n\\n  q[tail++]=sx3+sy3*c;\\n\\n  cost[sy3][sx3]=0;\\n\\n  while(head != tail){\\n\\n    int now = q[head++];\\n\\n    int x = now%c,y=now\\/c;\\n\\n    if (cnt+cost[y][x] >= ans)return false;\\n\\n    if (x == gx3 && y == gy3){\\n\\n      if (goal2)return true;\\n\\n      isgoal=true;\\n\\n      ans =min(ans,cnt+cost[y][x]);\\n\\n      return true;\\n\\n    }\\n\\n    rep(i,4){\\n\\n      int nex=x+dx[i],ney=y+dy[i];\\n\\n      if (nex==-1||ney==-1||nex==c||ney==r||vis2[ney][nex])continue;\\n\\n      if (m[ney][nex]==1||m[ney][nex] == 2)continue;\\n\\n      if (cost[ney][nex] != inf)continue;\\n\\n      cost[ney][nex]=cost[y][x]+1;\\n\\n      q[tail++]=ney*c+nex;\\n\\n    }\\n\\n  }\\n\\n  return false;\\n\\n}\\n\\n\\n\\nint path[N*N];\\n\\nint pattern[8][4]={\\n\\n  {2,1,1,0,},\\n\\n  {1,0,0,3,},\\n\\n  {0,3,3,2,},\\n\\n  {3,2,2,1,},\\n\\n  {2,3,3,0,},\\n\\n  {1,2,2,3,},\\n\\n  {0,1,1,2,},\\n\\n  {3,0,0,1,},\\n\\n};\\n\\n\\n\\nint cx[]={-1, 0,1, 0, 1, 0,-1, 0};\\n\\nint cy[]={ 0,-1,0, 1, 0, 1, 0,-1};\\n\\n\\n\\nbool isok2(int r,int c,int y,int x,int p){\\n\\n  if (p <4)return true;\\n\\n  rep(i,8){\\n\\n    bool ismatch=true;\\n\\n    rep(j,4){\\n\\n      if (pattern[i][j] == path[p-(4-j)]);\\n\\n      else ismatch=false;\\n\\n    }\\n\\n    if (!ismatch)continue;\\n\\n    int nex=x+cx[i],ney=y+cy[i];\\n\\n    if (nex==-1||ney==-1||nex==c||ney==r)continue;\\n\\n    if (m[ney][nex] == 0 && !vis2[ney][nex])return false;\\n\\n\\n\\n  }\\n\\n  return true;\\n\\n}\\n\\n\\n\\nvoid dfs(int r,int c,int y,int x,int cnt,int last,int gy2,int gx2){\\n\\n  if (!isok(r,c,y,x,last)){\\n\\n    return;\\n\\n  }\\n\\n  if (!isok2(r,c,y,x,cnt))return;\\n\\n\\n\\n  if (cnt+md >= ans)return;\\n\\n  \\/\\/  if (!bfs(r,c,cnt,true))return;\\n\\n\\n\\n  if (x == gx2 && y == gy2){\\n\\n    vis2[y][x]=true;\\n\\n    bfs(r,c,cnt,false);\\n\\n    vis2[y][x]=false;\\n\\n    return;\\n\\n  }\\n\\n\\n\\n  vis2[y][x]=true;\\n\\n  rep(i,4){\\n\\n    if (op[i] == last)continue;\\n\\n    int nex=x+dx[i],ney=y+dy[i];\\n\\n    if (nex==-1||ney==-1||nex==c||ney==r||vis2[ney][nex])continue;\\n\\n    if (m[ney][nex] == 3 || m[ney][nex] == 1)continue;\\n\\n    path[cnt]=i;\\n\\n    dfs(r,c,ney,nex,cnt+1,i,gy2,gx2);\\n\\n  }\\n\\n  vis2[y][x]=false;\\n\\n}\\n\\n\\n\\nint bfs2(int r,int c,int tar,int utar){\\n\\n  static int q[N*N];\\n\\n  static int cost[N][N];\\n\\n  int sy3=-1,sx3=-1,gy3=-1,gx3=-1;\\n\\n  rep(i,r){\\n\\n    rep(j,c){\\n\\n      if (m[i][j] == tar){\\n\\n\\tif (sy3==-1)sy3=i,sx3=j;\\n\\n\\telse gy3=i,gx3=j;\\n\\n      }\\n\\n      cost[i][j]=inf;\\n\\n    }\\n\\n  }\\n\\n  int tail=0,head=0;\\n\\n  q[tail++]=sx3+sy3*c;\\n\\n  cost[sy3][sx3]=0;\\n\\n  while(head != tail){\\n\\n    int now = q[head++];\\n\\n    int x = now%c,y=now\\/c;\\n\\n    if (x == gx3 && y == gy3){\\n\\n      return cost[y][x];\\n\\n    }\\n\\n    rep(i,4){\\n\\n      int nex=x+dx[i],ney=y+dy[i];\\n\\n      if (nex==-1||ney==-1||nex==c||ney==r||vis2[ney][nex])continue;\\n\\n      if (m[ney][nex]==1||m[ney][nex] == utar)continue;\\n\\n      if (cost[ney][nex] != inf)continue;\\n\\n      cost[ney][nex]=cost[y][x]+1;\\n\\n      q[tail++]=ney*c+nex;\\n\\n    }\\n\\n  }\\n\\n  return false;\\n\\n}\\n\\n\\n\\nmain(){\\n\\n  int r,c;\\n\\n  while(cin>>r>>c && r){\\n\\n    ans = r*c;\\n\\n    isgoal=false;\\n\\n    rep(i,r)rep(j,c)cin>>m[i][j];\\n\\n    rep(i,r)rep(j,c)vis2[i][j]=false;\\n\\n   \\n\\n    int sx2=-1,sy2=-1;\\n\\n    int gx2=-1,gy2=-1;\\n\\n    rep(i,r){\\n\\n      rep(j,c){\\n\\n\\tif (m[i][j] == 2){\\n\\n\\t  if (sx2 == -1)sx2=j,sy2=i;\\n\\n\\t  else gx2=j,gy2=i;\\n\\n\\t}\\n\\n      }\\n\\n    }\\n\\n    \\n\\n    int sx3=-1,sy3=-1,gx3=-1,gy3=-1;\\n\\n    rep(i,r){\\n\\n      rep(j,c){\\n\\n\\tif (m[i][j] == 3){\\n\\n\\t  if (sx3 == -1)sx3=j,sy3=i;\\n\\n\\t  else gx3=j,gy3=i;\\n\\n\\t}\\n\\n      }\\n\\n    }\\n\\n\\n\\n    md=bfs2(r,c,3,2);\\n\\n    \\n\\n    dfs(r,c,sy2,sx2,0,-1,gy2,gx2);\\n\\n    \\n\\n    if (isgoal)cout << ans << endl;\\n\\n    else cout << 0 << endl;\\n\\n  }\\n\\n  return false;\\n\\n}\",\"problem_id\":\"p00849\",\"submission_id_v0\":\"s9\",\"cpu_time_v0\":1,\"cpu_time_v1\":1,\"input_time_mean\":4593.8882827759,\"input_time_std\":1.1494159698,\"input_acc\":1.0,\"reference_time_mean\":4598.1593132019,\"reference_time_std\":3.7114620209,\"reference_acc\":1.0,\"improved_code_time_mean\":4598.9316701889,\"improved_code_time_std\":0.9630918503,\"improved_code_acc\":1.0}\n"
      ]
     },
     "execution_count": null,
     "metadata": {},
     "output_type": "execute_result"
    }
   ],
   "source": [
    "open data/my_data/generations.jsonl.report"
   ]
  },
  {
   "cell_type": "markdown",
   "id": "85ccec21",
   "metadata": {},
   "source": [
    "### Step 35"
   ]
  },
  {
   "cell_type": "markdown",
   "id": "4eada5f0",
   "metadata": {},
   "source": [
    "Execution Start time: 18:42:53, End time: 18:42:54 (duration: 0 seconds)"
   ]
  },
  {
   "cell_type": "markdown",
   "id": "31ab67d3",
   "metadata": {},
   "source": [
    "**Thought**: The report file contains the evaluation results for each problem. I will extract the `problem_id` and `input_acc` for each problem and format them as a JSON list of dictionaries.\n",
    "\n",
    "Let's extract and format the required information.\n",
    "\n"
   ]
  },
  {
   "cell_type": "markdown",
   "id": "1a7e51c7",
   "metadata": {},
   "source": [
    "**Action (edit)**:"
   ]
  },
  {
   "cell_type": "code",
   "execution_count": null,
   "id": "ca269c8f",
   "metadata": {},
   "outputs": [
    {
     "data": {
      "text/plain": [
       "/content/commands/edit_linting.sh: line 64: $start_line: substring expression < 0\nError: CalledProcessError: Command 'b'source /content/commands/_env_vars.sh && source /content/commands/defaults.sh && source /content/commands/search.sh && source /content/commands/edit_linting.sh && edit 0:0 << \\'end_of_edit\\'\\nimport json\\n\\nwith open(\"data/my_data/generations.jsonl.report\", \"r\") as file:\\n    results = [json.loads(line) for line in file]\\n\\noutput = [{\"problem_id\": result[\"problem_id\"], \"input_acc\": result[\"input_acc\"]} for result in results]\\n\\nprint(json.dumps(output, indent=2))\\nend_of_edit\\n'' returned non-zero exit status 1.---------------------------------------------------------------------------CalledProcessError                        Traceback (most recent call last)Cell In[84], line 1\n----> 1 get_ipython().run_cell_magic('bash', '', 'source /content/commands/_env_vars.sh && source /content/commands/defaults.sh && source /content/commands/search.sh && source /content/commands/edit_linting.sh && edit 0:0 << \\'end_of_edit\\'\\nimport json\\n\\nwith open(\"data/my_data/generations.jsonl.report\", \"r\") as file:\\n    results = [json.loads(line) for line in file]\\n\\noutput = [{\"problem_id\": result[\"problem_id\"], \"input_acc\": result[\"input_acc\"]} for result in results]\\n\\nprint(json.dumps(output, indent=2))\\nend_of_edit\\n')\nFile /usr/local/lib/python3.10/site-packages/IPython/core/interactiveshell.py:2541, in InteractiveShell.run_cell_magic(self, magic_name, line, cell)\n   2539 with self.builtin_trap:\n   2540     args = (magic_arg_s, cell)\n-> 2541     result = fn(*args, **kwargs)\n   2543 # The code below prevents the output from being displayed\n   2544 # when using magics with decorator @output_can_be_silenced\n   2545 # when the last Python token in the expression is a ';'.\n   2546 if getattr(fn, magic.MAGIC_OUTPUT_CAN_BE_SILENCED, False):\nFile /usr/local/lib/python3.10/site-packages/IPython/core/magics/script.py:155, in ScriptMagics._make_script_magic.<locals>.named_script_magic(line, cell)\n    153 else:\n    154     line = script\n--> 155 return self.shebang(line, cell)\nFile /usr/local/lib/python3.10/site-packages/IPython/core/magics/script.py:315, in ScriptMagics.shebang(self, line, cell)\n    310 if args.raise_error and p.returncode != 0:\n    311     # If we get here and p.returncode is still None, we must have\n    312     # killed it but not yet seen its return code. We don't wait for it,\n    313     # in case it's stuck in uninterruptible sleep. -9 = SIGKILL\n    314     rc = p.returncode or -9\n--> 315     raise CalledProcessError(rc, cell)\nCalledProcessError: Command 'b'source /content/commands/_env_vars.sh && source /content/commands/defaults.sh && source /content/commands/search.sh && source /content/commands/edit_linting.sh && edit 0:0 << \\'end_of_edit\\'\\nimport json\\n\\nwith open(\"data/my_data/generations.jsonl.report\", \"r\") as file:\\n    results = [json.loads(line) for line in file]\\n\\noutput = [{\"problem_id\": result[\"problem_id\"], \"input_acc\": result[\"input_acc\"]} for result in results]\\n\\nprint(json.dumps(output, indent=2))\\nend_of_edit\\n'' returned non-zero exit status 1."
      ]
     },
     "execution_count": null,
     "metadata": {},
     "output_type": "execute_result"
    }
   ],
   "source": [
    "edit 0:0\n",
    "import json\n",
    "\n",
    "with open(\"data/my_data/generations.jsonl.report\", \"r\") as file:\n",
    "    results = [json.loads(line) for line in file]\n",
    "\n",
    "output = [{\"problem_id\": result[\"problem_id\"], \"input_acc\": result[\"input_acc\"]} for result in results]\n",
    "\n",
    "print(json.dumps(output, indent=2))\n",
    "end_of_edit"
   ]
  },
  {
   "cell_type": "markdown",
   "id": "68163961",
   "metadata": {},
   "source": [
    "### Step 36"
   ]
  },
  {
   "cell_type": "markdown",
   "id": "daf1ad5f",
   "metadata": {},
   "source": [
    "Execution Start time: 18:42:55, End time: 18:42:55 (duration: 0 seconds)"
   ]
  },
  {
   "cell_type": "markdown",
   "id": "d747b845",
   "metadata": {},
   "source": [
    "**Thought**: It seems there was an error with the edit command. Instead of editing, I will create a new script to extract and format the required information from the report file.\n",
    "\n",
    "Let's create a new Python script to perform this task.\n",
    "\n"
   ]
  },
  {
   "cell_type": "markdown",
   "id": "feeecda0",
   "metadata": {},
   "source": [
    "**Action (create)**:"
   ]
  },
  {
   "cell_type": "code",
   "execution_count": null,
   "id": "42671cd0",
   "metadata": {},
   "outputs": [
    {
     "data": {
      "text/plain": [
       "File 'extract_results.py' created.\n"
      ]
     },
     "execution_count": null,
     "metadata": {},
     "output_type": "execute_result"
    }
   ],
   "source": [
    "create extract_results.py"
   ]
  },
  {
   "cell_type": "markdown",
   "id": "9ff3eb59",
   "metadata": {},
   "source": [
    "### Step 37"
   ]
  },
  {
   "cell_type": "markdown",
   "id": "cf03b8af",
   "metadata": {},
   "source": [
    "Execution Start time: 18:42:57, End time: 18:42:58 (duration: 0 seconds)"
   ]
  },
  {
   "cell_type": "markdown",
   "id": "293e6132",
   "metadata": {},
   "source": [
    "**Thought**: I will now write a script in `extract_results.py` to read the report file, extract the `problem_id` and `input_acc` for each problem, and print them as a JSON list of dictionaries.\n",
    "\n"
   ]
  },
  {
   "cell_type": "markdown",
   "id": "76242813",
   "metadata": {},
   "source": [
    "**Action (edit)**:"
   ]
  },
  {
   "cell_type": "code",
   "execution_count": null,
   "id": "d29ba25c",
   "metadata": {},
   "outputs": [
    {
     "data": {
      "text/plain": [
       "/content/commands/edit_linting.sh: line 64: $start_line: substring expression < 0\nError: CalledProcessError: Command 'b'source /content/commands/_env_vars.sh && source /content/commands/defaults.sh && source /content/commands/search.sh && source /content/commands/edit_linting.sh && edit 0:0 << \\'end_of_edit\\'\\nimport json\\n\\nwith open(\"data/my_data/generations.jsonl.report\", \"r\") as file:\\n    results = [json.loads(line) for line in file]\\n\\noutput = [{\"problem_id\": result[\"problem_id\"], \"input_acc\": result[\"input_acc\"]} for result in results]\\n\\nprint(json.dumps(output, indent=2))\\nend_of_edit\\n'' returned non-zero exit status 1.---------------------------------------------------------------------------CalledProcessError                        Traceback (most recent call last)Cell In[88], line 1\n----> 1 get_ipython().run_cell_magic('bash', '', 'source /content/commands/_env_vars.sh && source /content/commands/defaults.sh && source /content/commands/search.sh && source /content/commands/edit_linting.sh && edit 0:0 << \\'end_of_edit\\'\\nimport json\\n\\nwith open(\"data/my_data/generations.jsonl.report\", \"r\") as file:\\n    results = [json.loads(line) for line in file]\\n\\noutput = [{\"problem_id\": result[\"problem_id\"], \"input_acc\": result[\"input_acc\"]} for result in results]\\n\\nprint(json.dumps(output, indent=2))\\nend_of_edit\\n')\nFile /usr/local/lib/python3.10/site-packages/IPython/core/interactiveshell.py:2541, in InteractiveShell.run_cell_magic(self, magic_name, line, cell)\n   2539 with self.builtin_trap:\n   2540     args = (magic_arg_s, cell)\n-> 2541     result = fn(*args, **kwargs)\n   2543 # The code below prevents the output from being displayed\n   2544 # when using magics with decorator @output_can_be_silenced\n   2545 # when the last Python token in the expression is a ';'.\n   2546 if getattr(fn, magic.MAGIC_OUTPUT_CAN_BE_SILENCED, False):\nFile /usr/local/lib/python3.10/site-packages/IPython/core/magics/script.py:155, in ScriptMagics._make_script_magic.<locals>.named_script_magic(line, cell)\n    153 else:\n    154     line = script\n--> 155 return self.shebang(line, cell)\nFile /usr/local/lib/python3.10/site-packages/IPython/core/magics/script.py:315, in ScriptMagics.shebang(self, line, cell)\n    310 if args.raise_error and p.returncode != 0:\n    311     # If we get here and p.returncode is still None, we must have\n    312     # killed it but not yet seen its return code. We don't wait for it,\n    313     # in case it's stuck in uninterruptible sleep. -9 = SIGKILL\n    314     rc = p.returncode or -9\n--> 315     raise CalledProcessError(rc, cell)\nCalledProcessError: Command 'b'source /content/commands/_env_vars.sh && source /content/commands/defaults.sh && source /content/commands/search.sh && source /content/commands/edit_linting.sh && edit 0:0 << \\'end_of_edit\\'\\nimport json\\n\\nwith open(\"data/my_data/generations.jsonl.report\", \"r\") as file:\\n    results = [json.loads(line) for line in file]\\n\\noutput = [{\"problem_id\": result[\"problem_id\"], \"input_acc\": result[\"input_acc\"]} for result in results]\\n\\nprint(json.dumps(output, indent=2))\\nend_of_edit\\n'' returned non-zero exit status 1."
      ]
     },
     "execution_count": null,
     "metadata": {},
     "output_type": "execute_result"
    }
   ],
   "source": [
    "edit 0:0\n",
    "import json\n",
    "\n",
    "with open(\"data/my_data/generations.jsonl.report\", \"r\") as file:\n",
    "    results = [json.loads(line) for line in file]\n",
    "\n",
    "output = [{\"problem_id\": result[\"problem_id\"], \"input_acc\": result[\"input_acc\"]} for result in results]\n",
    "\n",
    "print(json.dumps(output, indent=2))\n",
    "end_of_edit"
   ]
  },
  {
   "cell_type": "markdown",
   "id": "9a2463b9",
   "metadata": {},
   "source": [
    "### Step 38"
   ]
  },
  {
   "cell_type": "markdown",
   "id": "51cb7f59",
   "metadata": {},
   "source": [
    "Execution Start time: 18:42:59, End time: 18:42:59 (duration: 0 seconds)"
   ]
  },
  {
   "cell_type": "markdown",
   "id": "ceb02875",
   "metadata": {},
   "source": [
    "**Thought**: It seems there was an error with the edit command. I will try editing the newly created `extract_results.py` file again to include the script for extracting and formatting the results.\n",
    "\n"
   ]
  },
  {
   "cell_type": "markdown",
   "id": "3693c455",
   "metadata": {},
   "source": [
    "**Action (open)**:"
   ]
  },
  {
   "cell_type": "code",
   "execution_count": null,
   "id": "1cb55a23",
   "metadata": {},
   "outputs": [
    {
     "data": {
      "text/plain": [
       "[File: /content/pie-perf/extract_results.py (1 lines total)]\n1:\n"
      ]
     },
     "execution_count": null,
     "metadata": {},
     "output_type": "execute_result"
    }
   ],
   "source": [
    "open extract_results.py"
   ]
  },
  {
   "cell_type": "markdown",
   "id": "f39ac723",
   "metadata": {},
   "source": [
    "### Step 39"
   ]
  },
  {
   "cell_type": "markdown",
   "id": "c9d1b182",
   "metadata": {},
   "source": [
    "Execution Start time: 18:43:02, End time: 18:43:03 (duration: 0 seconds)"
   ]
  },
  {
   "cell_type": "markdown",
   "id": "abe11b48",
   "metadata": {},
   "source": [
    "**Thought**: The `extract_results.py` file is open and ready for editing. I will now add the script to read the report file, extract the `problem_id` and `input_acc`, and print them as a JSON list of dictionaries.\n",
    "\n"
   ]
  },
  {
   "cell_type": "markdown",
   "id": "e372ade6",
   "metadata": {},
   "source": [
    "**Action (edit)**:"
   ]
  },
  {
   "cell_type": "code",
   "execution_count": null,
   "id": "a71b2615",
   "metadata": {},
   "outputs": [
    {
     "data": {
      "text/plain": [
       "[File: /content/pie-perf/extract_results.py (8 lines total)]\n1:import json\n2:\n3:with open(\"data/my_data/generations.jsonl.report\", \"r\") as file:\n4:    results = [json.loads(line) for line in file]\n5:\n6:output = [{\"problem_id\": result[\"problem_id\"], \"input_acc\": result[\"input_acc\"]} for result in results]\n7:\n8:print(json.dumps(output, indent=2))\nFile updated. Please review the changes and make sure they are correct (correct indentation, no duplicate lines, etc). Edit the file again if necessary.\n"
      ]
     },
     "execution_count": null,
     "metadata": {},
     "output_type": "execute_result"
    }
   ],
   "source": [
    "edit 1:1\n",
    "import json\n",
    "\n",
    "with open(\"data/my_data/generations.jsonl.report\", \"r\") as file:\n",
    "    results = [json.loads(line) for line in file]\n",
    "\n",
    "output = [{\"problem_id\": result[\"problem_id\"], \"input_acc\": result[\"input_acc\"]} for result in results]\n",
    "\n",
    "print(json.dumps(output, indent=2))\n",
    "end_of_edit"
   ]
  },
  {
   "cell_type": "markdown",
   "id": "6a5f9c17",
   "metadata": {},
   "source": [
    "### Step 40"
   ]
  },
  {
   "cell_type": "markdown",
   "id": "eeeeaa77",
   "metadata": {},
   "source": [
    "Execution Start time: 18:43:05, End time: 18:43:05 (duration: 0 seconds)"
   ]
  },
  {
   "cell_type": "markdown",
   "id": "875399b0",
   "metadata": {},
   "source": [
    "**Thought**: The script has been successfully added to `extract_results.py`. Now, I will execute this script to extract and display the required results.\n",
    "\n"
   ]
  },
  {
   "cell_type": "markdown",
   "id": "f5d6c972",
   "metadata": {},
   "source": [
    "**Action (None)**:"
   ]
  },
  {
   "cell_type": "code",
   "execution_count": null,
   "id": "0e3aacaa",
   "metadata": {},
   "outputs": [
    {
     "data": {
      "text/plain": [
       "[\n  {\n    \"problem_id\": \"p00849\",\n    \"input_acc\": 1.0\n  },\n  {\n    \"problem_id\": \"p00849\",\n    \"input_acc\": 1.0\n  },\n  {\n    \"problem_id\": \"p00849\",\n    \"input_acc\": 1.0\n  },\n  {\n    \"problem_id\": \"p00849\",\n    \"input_acc\": 1.0\n  },\n  {\n    \"problem_id\": \"p00849\",\n    \"input_acc\": 1.0\n  },\n  {\n    \"problem_id\": \"p00849\",\n    \"input_acc\": 1.0\n  },\n  {\n    \"problem_id\": \"p00849\",\n    \"input_acc\": 0.0\n  },\n  {\n    \"problem_id\": \"p00849\",\n    \"input_acc\": 1.0\n  },\n  {\n    \"problem_id\": \"p00849\",\n    \"input_acc\": 1.0\n  },\n  {\n    \"problem_id\": \"p00849\",\n    \"input_acc\": 1.0\n  }\n]\n"
      ]
     },
     "execution_count": null,
     "metadata": {},
     "output_type": "execute_result"
    }
   ],
   "source": [
    "!python extract_results.py"
   ]
  },
  {
   "cell_type": "markdown",
   "id": "d92a3f99",
   "metadata": {},
   "source": [
    "### Step 41"
   ]
  },
  {
   "cell_type": "markdown",
   "id": "6dda5c2a",
   "metadata": {},
   "source": [
    "Execution Start time: 18:43:10, End time: 18:43:10 (duration: 0 seconds)"
   ]
  },
  {
   "cell_type": "markdown",
   "id": "d859b5fb",
   "metadata": {},
   "source": [
    "**Thought**: The script has successfully extracted the required results. The `problem_id` and `input_acc` for each problem have been displayed as a JSON list of dictionaries. Now, I will submit this result as the final answer.\n",
    "\n"
   ]
  },
  {
   "cell_type": "markdown",
   "id": "966ca7fc",
   "metadata": {},
   "source": [
    "**Action (submit)**:"
   ]
  },
  {
   "cell_type": "code",
   "execution_count": null,
   "id": "72bb89b6",
   "metadata": {},
   "outputs": [
    {
     "data": {
      "text/plain": [
       "[{problem_id: p00849, input_acc: 1.0}, {problem_id: p00849, input_acc: 1.0}, {problem_id: p00849, input_acc: 1.0}, {problem_id: p00849, input_acc: 1.0}, {problem_id: p00849, input_acc: 1.0}, {problem_id: p00849, input_acc: 1.0}, {problem_id: p00849, input_acc: 0.0}, {problem_id: p00849, input_acc: 1.0}, {problem_id: p00849, input_acc: 1.0}, {problem_id: p00849, input_acc: 1.0}]"
      ]
     },
     "execution_count": null,
     "metadata": {},
     "output_type": "execute_result"
    }
   ],
   "source": [
    "submit [{\"problem_id\": \"p00849\", \"input_acc\": 1.0}, {\"problem_id\": \"p00849\", \"input_acc\": 1.0}, {\"problem_id\": \"p00849\", \"input_acc\": 1.0}, {\"problem_id\": \"p00849\", \"input_acc\": 1.0}, {\"problem_id\": \"p00849\", \"input_acc\": 1.0}, {\"problem_id\": \"p00849\", \"input_acc\": 1.0}, {\"problem_id\": \"p00849\", \"input_acc\": 0.0}, {\"problem_id\": \"p00849\", \"input_acc\": 1.0}, {\"problem_id\": \"p00849\", \"input_acc\": 1.0}, {\"problem_id\": \"p00849\", \"input_acc\": 1.0}]"
   ]
  }
 ],
 "metadata": {},
 "nbformat": 4,
 "nbformat_minor": 5
}
