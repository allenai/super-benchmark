{
 "cells": [
  {
   "cell_type": "markdown",
   "id": "832b8d38",
   "metadata": {},
   "source": [
    "### System Prompt\n",
    "<details>\n",
    "SETTING: You are an autonomous programmer, and you're working directly in the command line with a special Jupyter notebook interface.\n",
    "\n",
    "The special Jupyter notebook interface consists of a file editor that shows you 100 lines of a file at a time.\n",
    "You can execute commands in the notebook using:\n",
    "\n",
    "1. Bash commands: Commands starting with !.\n",
    "2. Python commands: Standard Python code.\n",
    "3. Magic commands: Commands starting with %, e.g., %cd <path>.\n",
    "\n",
    "Additionally, you can also use the following commands to help you navigate and edit files.\n",
    "\n",
    "COMMANDS:\n",
    "\n",
    "open:\n",
    "  docstring: opens the file at the given path in the editor. If line_number is provided, the window will be move to include that line\n",
    "  signature: open <path> [<line_number>]\n",
    "  arguments:\n",
    "    - path (string) [required]: the path to the file to open\n",
    "    - line_number (integer) [optional]: the line number to move the window to (if not provided, the window will start at the top of the file)\n",
    "\n",
    "create:\n",
    "  docstring: creates and opens a new file with the given name\n",
    "  signature: create <filename>\n",
    "  arguments:\n",
    "    - filename (string) [required]: the name of the file to create\n",
    "\n",
    "goto:\n",
    "  docstring: moves the window to show <line_number>\n",
    "  signature: goto <line_number>\n",
    "  arguments:\n",
    "    - line_number (integer) [required]: the line number to move the window to\n",
    "\n",
    "scroll_down:\n",
    "  docstring: moves the window down {WINDOW} lines\n",
    "  signature: scroll_down\n",
    "\n",
    "scroll_up:\n",
    "  docstring: moves the window down {WINDOW} lines\n",
    "  signature: scroll_up\n",
    "\n",
    "submit:\n",
    "  docstring: submits your final answer\n",
    "  signature: submit <answer>\n",
    "  arguments:\n",
    "    - answer (string) [required]: the answer to be submitted\n",
    "\n",
    "search_dir:\n",
    "  docstring: searches for search_term in all files in dir_path. If dir_path is not provided, searches in the current directory\n",
    "  signature: search_dir <search_term> [<dir_path>]\n",
    "  arguments:\n",
    "    - search_term (string) [required]: the term to search for\n",
    "    - dir_path (string) [optional]: the directory to search in (if not provided, searches in the current directory)\n",
    "\n",
    "search_file:\n",
    "  docstring: searches for search_term in file. If file is not provided, searches in the current open file\n",
    "  signature: search_file <search_term> [<file>]\n",
    "  arguments:\n",
    "    - search_term (string) [required]: the term to search for\n",
    "    - file (string) [optional]: the file to search in (if not provided, searches in the current open file)\n",
    "\n",
    "find_file:\n",
    "  docstring: finds all files with the given name in dir_path. If dir_path is not provided, searches in the current directory\n",
    "  signature: find_file <file_name> [<dir_path>]\n",
    "  arguments:\n",
    "    - file_name (string) [required]: the name of the file to search for\n",
    "    - dir_path (string) [optional]: the directory to search in (if not provided, searches in the current directory)\n",
    "\n",
    "edit:\n",
    "  docstring: replaces lines <start_line> through <end_line> (inclusive) with the given text in the open file. The replacement text is terminated by a line with only end_of_edit on it. All of the <replacement text> will be entered, so make sure your indentation is formatted properly. Python files will be checked for syntax errors after the edit. If the system detects a syntax error, the edit will not be executed. Simply try to edit the file again, but make sure to read the error message and modify the edit command you issue accordingly. Issuing the same command a second time will just lead to the same error message again.\n",
    "  signature: edit <start_line>:<end_line>\n",
    "<replacement_text>\n",
    "end_of_edit\n",
    "  arguments:\n",
    "    - start_line (integer) [required]: the line number to start the edit at\n",
    "    - end_line (integer) [required]: the line number to end the edit at (inclusive)\n",
    "    - replacement_text (string) [required]: the text to replace the current selection with\n",
    "\n",
    "\n",
    "\n",
    "Please note that THE EDIT COMMAND REQUIRES PROPER INDENTATION. \n",
    "If you'd like to add the line '        print(x)' you must fully write that out, with all those spaces before the code! Indentation is important and code that is not indented correctly will fail and require fixing before it can be run.\n",
    "\n",
    "RESPONSE FORMAT:\n",
    "Your shell prompt is formatted as follows:\n",
    "(Open file: <path>)\n",
    "(Current directory: <cwd>)\n",
    "In [ ]\n",
    "\n",
    "You need to format your output using two fields: discussion and command.\n",
    "Your output should always include _one_ discussion and _one_ command field EXACTLY as in the following example:\n",
    "DISCUSSION\n",
    "First I'll start by using ls to see what files are in the current directory. Then maybe we can look at some relevant files to see what they look like.\n",
    "```\n",
    "!ls -a\n",
    "```\n",
    "\n",
    "You should only include a *SINGLE* command in the command section and then wait for a response from the shell before continuing with more discussion and commands. Everything you include in the DISCUSSION section will be saved for future reference.\n",
    "If you'd like to issue two commands at once, PLEASE DO NOT DO THAT! Please instead first submit just the first command, and then after receiving a response you'll be able to issue the second command. \n",
    "You're free to use any other bash commands you want (e.g. find, grep, cat, ls, cd) in addition to the special commands listed above.\n",
    "</details>\n"
   ]
  },
  {
   "cell_type": "markdown",
   "id": "1bd282c8",
   "metadata": {},
   "source": [
    "### Query\n",
    "Train a teacher model on the iwslt14-de-en dataset (available from the download script in the repo), then train a teacher model and evaluate it. Report loss and nll_loss on the validation set for the teacher model training as a json structured as follows: {\"teacher_loss\": 0.0, \"teacher_nll_loss\": 0.0} (replace 0.0 with the actual values).\n",
    "\n",
    "Additional instructions:\n",
    "1. Once loaded/tokenized, keep only the first 10 rows of each set in the dataset.\n",
    "2. Train for only one epoch and with batch_size=1.\n",
    "3. To evaluate the teacher model, generate predictions on the test set using `generate.py` with beam_size=5. Then take the evaluation score with the `score.py` script, with `--ignore-case --sacrebleu`.\n",
    "\n",
    "Git repository: https://github.com/ncsoft/Align-to-Distill\n",
    "\n",
    "I have already executed some of the required steps. Now, GOAL and submit the answer."
   ]
  },
  {
   "cell_type": "markdown",
   "id": "788ed073",
   "metadata": {},
   "source": [
    "### Step 1"
   ]
  },
  {
   "cell_type": "markdown",
   "id": "3dcb9e3a",
   "metadata": {},
   "source": [
    "**Thought**: [pre-executed by user]"
   ]
  },
  {
   "cell_type": "markdown",
   "id": "e75b4d64",
   "metadata": {},
   "source": [
    "**Action (None)**:"
   ]
  },
  {
   "cell_type": "code",
   "execution_count": null,
   "id": "c5a65275",
   "metadata": {},
   "outputs": [
    {
     "data": {
      "text/plain": [
       ""
      ]
     },
     "execution_count": null,
     "metadata": {},
     "output_type": "execute_result"
    }
   ],
   "source": [
    "# # Repository Setup"
   ]
  },
  {
   "cell_type": "markdown",
   "id": "cb5b17c4",
   "metadata": {},
   "source": [
    "### Step 2"
   ]
  },
  {
   "cell_type": "markdown",
   "id": "83f576cf",
   "metadata": {},
   "source": [
    "**Thought**: [pre-executed by user]"
   ]
  },
  {
   "cell_type": "markdown",
   "id": "deacdfce",
   "metadata": {},
   "source": [
    "**Action (None)**:"
   ]
  },
  {
   "cell_type": "code",
   "execution_count": null,
   "id": "60430cfd",
   "metadata": {},
   "outputs": [
    {
     "data": {
      "text/plain": [
       "Cloning into 'Align-to-Distill'...\r\nremote: Enumerating objects: 579, done.\u001b[K\r\nremote: Counting objects:   0% (1/579)\u001b[K\rremote: Counting objects:   1% (6/579)\u001b[K\rremote: Counting objects:   2% (12/579)\u001b[K\rremote: Counting objects:   3% (18/579)\u001b[K\rremote: Counting objects:   4% (24/579)\u001b[K\rremote: Counting objects:   5% (29/579)\u001b[K\rremote: Counting objects:   6% (35/579)\u001b[K\rremote: Counting objects:   7% (41/579)\u001b[K\rremote: Counting objects:   8% (47/579)\u001b[K\rremote: Counting objects:   9% (53/579)\u001b[K\rremote: Counting objects:  10% (58/579)\u001b[K\rremote: Counting objects:  11% (64/579)\u001b[K\rremote: Counting objects:  12% (70/579)\u001b[K\rremote: Counting objects:  13% (76/579)\u001b[K\rremote: Counting objects:  14% (82/579)\u001b[K\rremote: Counting objects:  15% (87/579)\u001b[K\rremote: Counting objects:  16% (93/579)\u001b[K\rremote: Counting objects:  17% (99/579)\u001b[K\rremote: Counting objects:  18% (105/579)\u001b[K\rremote: Counting objects:  19% (111/579)\u001b[K\rremote: Counting objects:  20% (116/579)\u001b[K\rremote: Counting objects:  21% (122/579)\u001b[K\rremote: Counting objects:  22% (128/579)\u001b[K\rremote: Counting objects:  23% (134/579)\u001b[K\rremote: Counting objects:  24% (139/579)\u001b[K\rremote: Counting objects:  25% (145/579)\u001b[K\rremote: Counting objects:  26% (151/579)\u001b[K\rremote: Counting objects:  27% (157/579)\u001b[K\rremote: Counting objects:  28% (163/579)\u001b[K\rremote: Counting objects:  29% (168/579)\u001b[K\rremote: Counting objects:  30% (174/579)\u001b[K\rremote: Counting objects:  31% (180/579)\u001b[K\rremote: Counting objects:  32% (186/579)\u001b[K\rremote: Counting objects:  33% (192/579)\u001b[K\rremote: Counting objects:  34% (197/579)\u001b[K\rremote: Counting objects:  35% (203/579)\u001b[K\rremote: Counting objects:  36% (209/579)\u001b[K\rremote: Counting objects:  37% (215/579)\u001b[K\rremote: Counting objects:  38% (221/579)\u001b[K\rremote: Counting objects:  39% (226/579)\u001b[K\rremote: Counting objects:  40% (232/579)\u001b[K\rremote: Counting objects:  41% (238/579)\u001b[K\rremote: Counting objects:  42% (244/579)\u001b[K\rremote: Counting objects:  43% (249/579)\u001b[K\rremote: Counting objects:  44% (255/579)\u001b[K\rremote: Counting objects:  45% (261/579)\u001b[K\rremote: Counting objects:  46% (267/579)\u001b[K\rremote: Counting objects:  47% (273/579)\u001b[K\rremote: Counting objects:  48% (278/579)\u001b[K\rremote: Counting objects:  49% (284/579)\u001b[K\rremote: Counting objects:  50% (290/579)\u001b[K\rremote: Counting objects:  51% (296/579)\u001b[K\rremote: Counting objects:  52% (302/579)\u001b[K\rremote: Counting objects:  53% (307/579)\u001b[K\rremote: Counting objects:  54% (313/579)\u001b[K\rremote: Counting objects:  55% (319/579)\u001b[K\rremote: Counting objects:  56% (325/579)\u001b[K\rremote: Counting objects:  57% (331/579)\u001b[K\rremote: Counting objects:  58% (336/579)\u001b[K\rremote: Counting objects:  59% (342/579)\u001b[K\rremote: Counting objects:  60% (348/579)\u001b[K\rremote: Counting objects:  61% (354/579)\u001b[K\rremote: Counting objects:  62% (359/579)\u001b[K\rremote: Counting objects:  63% (365/579)\u001b[K\rremote: Counting objects:  64% (371/579)\u001b[K\rremote: Counting objects:  65% (377/579)\u001b[K\rremote: Counting objects:  66% (383/579)\u001b[K\rremote: Counting objects:  67% (388/579)\u001b[K\rremote: Counting objects:  68% (394/579)\u001b[K\rremote: Counting objects:  69% (400/579)\u001b[K\rremote: Counting objects:  70% (406/579)\u001b[K\rremote: Counting objects:  71% (412/579)\u001b[K\rremote: Counting objects:  72% (417/579)\u001b[K\rremote: Counting objects:  73% (423/579)\u001b[K\rremote: Counting objects:  74% (429/579)\u001b[K\rremote: Counting objects:  75% (435/579)\u001b[K\rremote: Counting objects:  76% (441/579)\u001b[K\rremote: Counting objects:  77% (446/579)\u001b[K\rremote: Counting objects:  78% (452/579)\u001b[K\rremote: Counting objects:  79% (458/579)\u001b[K\rremote: Counting objects:  80% (464/579)\u001b[K\rremote: Counting objects:  81% (469/579)\u001b[K\rremote: Counting objects:  82% (475/579)\u001b[K\rremote: Counting objects:  83% (481/579)\u001b[K\rremote: Counting objects:  84% (487/579)\u001b[K\rremote: Counting objects:  85% (493/579)\u001b[K\rremote: Counting objects:  86% (498/579)\u001b[K\rremote: Counting objects:  87% (504/579)\u001b[K\rremote: Counting objects:  88% (510/579)\u001b[K\rremote: Counting objects:  89% (516/579)\u001b[K\rremote: Counting objects:  90% (522/579)\u001b[K\rremote: Counting objects:  91% (527/579)\u001b[K\rremote: Counting objects:  92% (533/579)\u001b[K\rremote: Counting objects:  93% (539/579)\u001b[K\rremote: Counting objects:  94% (545/579)\u001b[K\rremote: Counting objects:  95% (551/579)\u001b[K\rremote: Counting objects:  96% (556/579)\u001b[K\rremote: Counting objects:  97% (562/579)\u001b[K\rremote: Counting objects:  98% (568/579)\u001b[K\rremote: Counting objects:  99% (574/579)\u001b[K\rremote: Counting objects: 100% (579/579)\u001b[K\rremote: Counting objects: 100% (579/579), done.\u001b[K\r\nremote: Compressing objects:   0% (1/457)\u001b[K\rremote: Compressing objects:   1% (5/457)\u001b[K\rremote: Compressing objects:   2% (10/457)\u001b[K\rremote: Compressing objects:   3% (14/457)\u001b[K\rremote: Compressing objects:   4% (19/457)\u001b[K\rremote: Compressing objects:   5% (23/457)\u001b[K\rremote: Compressing objects:   6% (28/457)\u001b[K\rremote: Compressing objects:   7% (32/457)\u001b[K\rremote: Compressing objects:   8% (37/457)\u001b[K\rremote: Compressing objects:   9% (42/457)\u001b[K\rremote: Compressing objects:  10% (46/457)\u001b[K\rremote: Compressing objects:  11% (51/457)\u001b[K\rremote: Compressing objects:  12% (55/457)\u001b[K\rremote: Compressing objects:  13% (60/457)\u001b[K\rremote: Compressing objects:  14% (64/457)\u001b[K\rremote: Compressing objects:  15% (69/457)\u001b[K\rremote: Compressing objects:  16% (74/457)\u001b[K\rremote: Compressing objects:  17% (78/457)\u001b[K\rremote: Compressing objects:  18% (83/457)\u001b[K\rremote: Compressing objects:  19% (87/457)\u001b[K\rremote: Compressing objects:  20% (92/457)\u001b[K\rremote: Compressing objects:  21% (96/457)\u001b[K\rremote: Compressing objects:  22% (101/457)\u001b[K\rremote: Compressing objects:  23% (106/457)\u001b[K\rremote: Compressing objects:  24% (110/457)\u001b[K\rremote: Compressing objects:  25% (115/457)\u001b[K\rremote: Compressing objects:  26% (119/457)\u001b[K\rremote: Compressing objects:  27% (124/457)\u001b[K\rremote: Compressing objects:  28% (128/457)\u001b[K\rremote: Compressing objects:  29% (133/457)\u001b[K\rremote: Compressing objects:  30% (138/457)\u001b[K\rremote: Compressing objects:  31% (142/457)\u001b[K\rremote: Compressing objects:  32% (147/457)\u001b[K\rremote: Compressing objects:  33% (151/457)\u001b[K\rremote: Compressing objects:  34% (156/457)\u001b[K\rremote: Compressing objects:  35% (160/457)\u001b[K\rremote: Compressing objects:  36% (165/457)\u001b[K\rremote: Compressing objects:  37% (170/457)\u001b[K\rremote: Compressing objects:  38% (174/457)\u001b[K\rremote: Compressing objects:  39% (179/457)\u001b[K\rremote: Compressing objects:  40% (183/457)\u001b[K\rremote: Compressing objects:  41% (188/457)\u001b[K\rremote: Compressing objects:  42% (192/457)\u001b[K\rremote: Compressing objects:  43% (197/457)\u001b[K\rremote: Compressing objects:  44% (202/457)\u001b[K\rremote: Compressing objects:  45% (206/457)\u001b[K\rremote: Compressing objects:  46% (211/457)\u001b[K\rremote: Compressing objects:  47% (215/457)\u001b[K\rremote: Compressing objects:  48% (220/457)\u001b[K\rremote: Compressing objects:  49% (224/457)\u001b[K\rremote: Compressing objects:  50% (229/457)\u001b[K\rremote: Compressing objects:  51% (234/457)\u001b[K\rremote: Compressing objects:  52% (238/457)\u001b[K\rremote: Compressing objects:  53% (243/457)\u001b[K\rremote: Compressing objects:  54% (247/457)\u001b[K\rremote: Compressing objects:  55% (252/457)\u001b[K\rremote: Compressing objects:  56% (256/457)\u001b[K\rremote: Compressing objects:  57% (261/457)\u001b[K\rremote: Compressing objects:  58% (266/457)\u001b[K\rremote: Compressing objects:  59% (270/457)\u001b[K\rremote: Compressing objects:  60% (275/457)\u001b[K\rremote: Compressing objects:  61% (279/457)\u001b[K\rremote: Compressing objects:  62% (284/457)\u001b[K\rremote: Compressing objects:  63% (288/457)\u001b[K\rremote: Compressing objects:  64% (293/457)\u001b[K\rremote: Compressing objects:  65% (298/457)\u001b[K\rremote: Compressing objects:  66% (302/457)\u001b[K\rremote: Compressing objects:  67% (307/457)\u001b[K\rremote: Compressing objects:  68% (311/457)\u001b[K\rremote: Compressing objects:  69% (316/457)\u001b[K\rremote: Compressing objects:  70% (320/457)\u001b[K\rremote: Compressing objects:  71% (325/457)\u001b[K\rremote: Compressing objects:  72% (330/457)\u001b[K\rremote: Compressing objects:  73% (334/457)\u001b[K\rremote: Compressing objects:  74% (339/457)\u001b[K\rremote: Compressing objects:  75% (343/457)\u001b[K\rremote: Compressing objects:  76% (348/457)\u001b[K\rremote: Compressing objects:  77% (352/457)\u001b[K\rremote: Compressing objects:  78% (357/457)\u001b[K\rremote: Compressing objects:  79% (362/457)\u001b[K\rremote: Compressing objects:  80% (366/457)\u001b[K\rremote: Compressing objects:  81% (371/457)\u001b[K\rremote: Compressing objects:  82% (375/457)\u001b[K\rremote: Compressing objects:  83% (380/457)\u001b[K\rremote: Compressing objects:  84% (384/457)\u001b[K\rremote: Compressing objects:  85% (389/457)\u001b[K\rremote: Compressing objects:  86% (394/457)\u001b[K\rremote: Compressing objects:  87% (398/457)\u001b[K\rremote: Compressing objects:  88% (403/457)\u001b[K\rremote: Compressing objects:  89% (407/457)\u001b[K\rremote: Compressing objects:  90% (412/457)\u001b[K\rremote: Compressing objects:  91% (416/457)\u001b[K\rremote: Compressing objects:  92% (421/457)\u001b[K\rremote: Compressing objects:  93% (426/457)\u001b[K\rremote: Compressing objects:  94% (430/457)\u001b[K\rremote: Compressing objects:  95% (435/457)\u001b[K\rremote: Compressing objects:  96% (439/457)\u001b[K\rremote: Compressing objects:  97% (444/457)\u001b[K\rremote: Compressing objects:  98% (448/457)\u001b[K\rremote: Compressing objects:  99% (453/457)\u001b[K\rremote: Compressing objects: 100% (457/457)\u001b[K\rremote: Compressing objects: 100% (457/457), done.\u001b[K\r\nReceiving objects:   0% (1/579)\rReceiving objects:   1% (6/579)\rReceiving objects:   2% (12/579)\rReceiving objects:   3% (18/579)\rReceiving objects:   4% (24/579)\rReceiving objects:   5% (29/579)\rReceiving objects:   6% (35/579)\rReceiving objects:   7% (41/579)\rReceiving objects:   8% (47/579)\rReceiving objects:   9% (53/579)\rReceiving objects:  10% (58/579)\rReceiving objects:  11% (64/579)\rReceiving objects:  12% (70/579)\rReceiving objects:  13% (76/579)\rReceiving objects:  14% (82/579)\rReceiving objects:  15% (87/579)\rReceiving objects:  16% (93/579)\rReceiving objects:  17% (99/579)\rReceiving objects:  18% (105/579)\rReceiving objects:  19% (111/579)\rReceiving objects:  20% (116/579)\rReceiving objects:  21% (122/579)\rReceiving objects:  22% (128/579)\rReceiving objects:  23% (134/579)\rReceiving objects:  24% (139/579)\rReceiving objects:  25% (145/579)\rReceiving objects:  26% (151/579)\rReceiving objects:  27% (157/579)\rReceiving objects:  28% (163/579)\rReceiving objects:  29% (168/579)\rReceiving objects:  30% (174/579)\rReceiving objects:  31% (180/579)\rReceiving objects:  32% (186/579)\rReceiving objects:  33% (192/579)\rReceiving objects:  34% (197/579)\rReceiving objects:  35% (203/579)\rReceiving objects:  36% (209/579)\rReceiving objects:  37% (215/579)\rReceiving objects:  38% (221/579)\rReceiving objects:  39% (226/579)\rReceiving objects:  40% (232/579)\rReceiving objects:  41% (238/579)\rReceiving objects:  42% (244/579)\rReceiving objects:  43% (249/579)\rReceiving objects:  44% (255/579)\rReceiving objects:  45% (261/579)\rReceiving objects:  46% (267/579)\rReceiving objects:  47% (273/579)\rReceiving objects:  48% (278/579)\rReceiving objects:  49% (284/579)\rReceiving objects:  50% (290/579)\rReceiving objects:  51% (296/579)\rReceiving objects:  52% (302/579)\rReceiving objects:  53% (307/579)\rReceiving objects:  54% (313/579)\rReceiving objects:  55% (319/579)\rReceiving objects:  56% (325/579)\rReceiving objects:  57% (331/579)\rReceiving objects:  58% (336/579)\rReceiving objects:  59% (342/579)\rReceiving objects:  60% (348/579)\rReceiving objects:  61% (354/579)\rReceiving objects:  62% (359/579)\rReceiving objects:  63% (365/579)\rReceiving objects:  64% (371/579)\rReceiving objects:  65% (377/579)\rReceiving objects:  66% (383/579)\rReceiving objects:  67% (388/579)\rReceiving objects:  68% (394/579)\rReceiving objects:  69% (400/579)\rReceiving objects:  70% (406/579)\rReceiving objects:  71% (412/579)\rReceiving objects:  72% (417/579)\rReceiving objects:  73% (423/579)\rReceiving objects:  74% (429/579)\rReceiving objects:  75% (435/579)\rReceiving objects:  76% (441/579)\rReceiving objects:  77% (446/579)\rReceiving objects:  78% (452/579)\rReceiving objects:  79% (458/579)\rReceiving objects:  80% (464/579)\rReceiving objects:  81% (469/579)\rReceiving objects:  82% (475/579)\rReceiving objects:  83% (481/579)\rReceiving objects:  84% (487/579)\rReceiving objects:  85% (493/579)\rReceiving objects:  86% (498/579)\rReceiving objects:  87% (504/579)\rReceiving objects:  88% (510/579)\rReceiving objects:  89% (516/579)\rReceiving objects:  90% (522/579)\rReceiving objects:  91% (527/579)\rReceiving objects:  92% (533/579)\rReceiving objects:  93% (539/579)\rremote: Total 579 (delta 116), reused 579 (delta 116), pack-reused 0 (from 0)\u001b[K\r\nReceiving objects:  94% (545/579)\rReceiving objects:  95% (551/579)\rReceiving objects:  96% (556/579)\rReceiving objects:  97% (562/579)\rReceiving objects:  98% (568/579)\rReceiving objects:  99% (574/579)\rReceiving objects: 100% (579/579)\rReceiving objects: 100% (579/579), 932.36 KiB | 22.74 MiB/s, done.\r\nResolving deltas:   0% (0/116)\rResolving deltas:   1% (2/116)\rResolving deltas:   2% (3/116)\rResolving deltas:   3% (4/116)\rResolving deltas:   4% (5/116)\rResolving deltas:   5% (6/116)\rResolving deltas:   6% (7/116)\rResolving deltas:   7% (9/116)\rResolving deltas:   9% (11/116)\rResolving deltas:  10% (12/116)\rResolving deltas:  11% (13/116)\rResolving deltas:  12% (14/116)\rResolving deltas:  13% (16/116)\rResolving deltas:  14% (17/116)\rResolving deltas:  15% (18/116)\rResolving deltas:  16% (19/116)\rResolving deltas:  17% (20/116)\rResolving deltas:  18% (21/116)\rResolving deltas:  19% (23/116)\rResolving deltas:  20% (24/116)\rResolving deltas:  21% (25/116)\rResolving deltas:  22% (26/116)\rResolving deltas:  23% (27/116)\rResolving deltas:  24% (28/116)\rResolving deltas:  25% (29/116)\rResolving deltas:  26% (31/116)\rResolving deltas:  27% (32/116)\rResolving deltas:  28% (33/116)\rResolving deltas:  29% (34/116)\rResolving deltas:  30% (35/116)\rResolving deltas:  31% (36/116)\rResolving deltas:  32% (38/116)\rResolving deltas:  33% (39/116)\rResolving deltas:  34% (40/116)\rResolving deltas:  35% (41/116)\rResolving deltas:  36% (42/116)\rResolving deltas:  37% (43/116)\rResolving deltas:  38% (45/116)\rResolving deltas:  39% (46/116)\rResolving deltas:  40% (47/116)\rResolving deltas:  41% (48/116)\rResolving deltas:  42% (49/116)\rResolving deltas:  43% (50/116)\rResolving deltas:  44% (52/116)\rResolving deltas:  45% (53/116)\rResolving deltas:  46% (54/116)\rResolving deltas:  47% (55/116)\rResolving deltas:  48% (56/116)\rResolving deltas:  49% (57/116)\rResolving deltas:  50% (58/116)\rResolving deltas:  51% (60/116)\rResolving deltas:  52% (61/116)\rResolving deltas:  53% (62/116)\rResolving deltas:  54% (63/116)\rResolving deltas:  55% (64/116)\rResolving deltas:  56% (65/116)\rResolving deltas:  57% (67/116)\rResolving deltas:  58% (68/116)\rResolving deltas:  59% (69/116)\rResolving deltas:  60% (70/116)\rResolving deltas:  62% (72/116)\rResolving deltas:  63% (74/116)\rResolving deltas:  64% (75/116)\rResolving deltas:  65% (76/116)\rResolving deltas:  66% (77/116)\rResolving deltas:  67% (78/116)\rResolving deltas:  68% (79/116)\rResolving deltas:  69% (81/116)\rResolving deltas:  70% (82/116)\rResolving deltas:  71% (83/116)\rResolving deltas:  72% (84/116)\rResolving deltas:  73% (85/116)\rResolving deltas:  74% (86/116)\rResolving deltas:  75% (87/116)\rResolving deltas:  76% (89/116)\rResolving deltas:  77% (90/116)\rResolving deltas:  78% (91/116)\rResolving deltas:  79% (92/116)\rResolving deltas:  80% (93/116)\rResolving deltas:  81% (94/116)\rResolving deltas:  82% (96/116)\rResolving deltas:  83% (97/116)\rResolving deltas:  84% (98/116)\rResolving deltas:  85% (99/116)\rResolving deltas:  86% (100/116)\rResolving deltas:  87% (101/116)\rResolving deltas:  88% (103/116)\rResolving deltas:  89% (104/116)\rResolving deltas:  90% (105/116)\rResolving deltas:  91% (106/116)\rResolving deltas:  92% (107/116)\rResolving deltas:  93% (108/116)\rResolving deltas:  94% (110/116)\rResolving deltas:  95% (111/116)\rResolving deltas:  96% (112/116)\rResolving deltas:  97% (113/116)\rResolving deltas:  98% (114/116)\rResolving deltas:  99% (115/116)\rResolving deltas: 100% (116/116)\rResolving deltas: 100% (116/116), done.\r\n"
      ]
     },
     "execution_count": null,
     "metadata": {},
     "output_type": "execute_result"
    }
   ],
   "source": [
    "!git clone https://github.com/ncsoft/Align-to-Distill.git"
   ]
  },
  {
   "cell_type": "markdown",
   "id": "c24623c7",
   "metadata": {},
   "source": [
    "### Step 3"
   ]
  },
  {
   "cell_type": "markdown",
   "id": "706c14b3",
   "metadata": {},
   "source": [
    "**Thought**: [pre-executed by user]"
   ]
  },
  {
   "cell_type": "markdown",
   "id": "01290f11",
   "metadata": {},
   "source": [
    "**Action (None)**:"
   ]
  },
  {
   "cell_type": "code",
   "execution_count": null,
   "id": "1ed4479b",
   "metadata": {},
   "outputs": [
    {
     "data": {
      "text/plain": [
       "/content/Align-to-Distill\n/usr/local/lib/python3.10/site-packages/IPython/core/magics/osm.py:417: UserWarning: This is now an optional IPython functionality, setting dhist requires you to install the `pickleshare` library.\n  self.shell.db['dhist'] = compress_dhist(dhist)[-100:]\n"
      ]
     },
     "execution_count": null,
     "metadata": {},
     "output_type": "execute_result"
    }
   ],
   "source": [
    "%cd Align-to-Distill"
   ]
  },
  {
   "cell_type": "markdown",
   "id": "1457222c",
   "metadata": {},
   "source": [
    "### Step 4"
   ]
  },
  {
   "cell_type": "markdown",
   "id": "644e1239",
   "metadata": {},
   "source": [
    "**Thought**: [pre-executed by user]"
   ]
  },
  {
   "cell_type": "markdown",
   "id": "ea2433b1",
   "metadata": {},
   "source": [
    "**Action (None)**:"
   ]
  },
  {
   "cell_type": "code",
   "execution_count": null,
   "id": "4ae003f5",
   "metadata": {},
   "outputs": [
    {
     "data": {
      "text/plain": [
       "\u001b[0m\u001b[01;32mCODE_OF_CONDUCT.md\u001b[0m*  RELEASE.md    \u001b[01;32mhubconf.py\u001b[0m*        \u001b[01;32msetup.py\u001b[0m*\r\n\u001b[01;32mCONTRIBUTING.md\u001b[0m*     \u001b[01;34mcustom\u001b[0m/       \u001b[01;32mpyproject.toml\u001b[0m*    \u001b[01;32mtest.sh\u001b[0m*\r\n\u001b[01;32mLICENSE\u001b[0m*             \u001b[01;34mexamples\u001b[0m/     \u001b[01;32mrelease_utils.py\u001b[0m*  \u001b[01;32mtrain.py\u001b[0m*\r\n\u001b[01;32mMANIFEST.in\u001b[0m*         \u001b[01;34mfairseq\u001b[0m/      \u001b[01;34mscripts\u001b[0m/           \u001b[01;32mtrain_student.sh\u001b[0m*\r\n\u001b[01;32mREADME.md\u001b[0m*           \u001b[01;34mfairseq_cli\u001b[0m/  \u001b[01;32msetup.cfg\u001b[0m*         train_teacher.sh\r\n"
      ]
     },
     "execution_count": null,
     "metadata": {},
     "output_type": "execute_result"
    }
   ],
   "source": [
    "%ls"
   ]
  },
  {
   "cell_type": "markdown",
   "id": "2cba3581",
   "metadata": {},
   "source": [
    "### Step 5"
   ]
  },
  {
   "cell_type": "markdown",
   "id": "f6347de9",
   "metadata": {},
   "source": [
    "**Thought**: [pre-executed by user]"
   ]
  },
  {
   "cell_type": "markdown",
   "id": "2380f274",
   "metadata": {},
   "source": [
    "**Action (None)**:"
   ]
  },
  {
   "cell_type": "code",
   "execution_count": null,
   "id": "c7c75f05",
   "metadata": {},
   "outputs": [
    {
     "data": {
      "text/plain": [
       ""
      ]
     },
     "execution_count": null,
     "metadata": {},
     "output_type": "execute_result"
    }
   ],
   "source": [
    "# # Package Installation"
   ]
  },
  {
   "cell_type": "markdown",
   "id": "84434874",
   "metadata": {},
   "source": [
    "### Step 6"
   ]
  },
  {
   "cell_type": "markdown",
   "id": "8149530e",
   "metadata": {},
   "source": [
    "**Thought**: [pre-executed by user]"
   ]
  },
  {
   "cell_type": "markdown",
   "id": "dfb58cc5",
   "metadata": {},
   "source": [
    "**Action (None)**:"
   ]
  },
  {
   "cell_type": "code",
   "execution_count": null,
   "id": "653c4555",
   "metadata": {},
   "outputs": [
    {
     "data": {
      "text/plain": [
       "Collecting sacremoses\r\n  Downloading sacremoses-0.1.1-py3-none-any.whl.metadata (8.3 kB)\r\nCollecting einops\r\n  Downloading einops-0.8.0-py3-none-any.whl.metadata (12 kB)\r\nRequirement already satisfied: regex in /usr/local/lib/python3.10/site-packages (from sacremoses) (2023.12.25)\r\nRequirement already satisfied: click in /usr/local/lib/python3.10/site-packages (from sacremoses) (8.1.7)\r\nRequirement already satisfied: joblib in /usr/local/lib/python3.10/site-packages (from sacremoses) (1.4.2)\r\nRequirement already satisfied: tqdm in /usr/local/lib/python3.10/site-packages (from sacremoses) (4.66.4)\r\nDownloading sacremoses-0.1.1-py3-none-any.whl (897 kB)\r\n\u001b[?25l   \u001b[90m━━━━━━━━━━━━━━━━━━━━━━━━━━━━━━━━━━━━━━━━\u001b[0m \u001b[32m0.0/897.5 kB\u001b[0m \u001b[31m?\u001b[0m eta \u001b[36m-:--:--\u001b[0m\r\u001b[2K   \u001b[90m━━━━━━━━━━━━━━━━━━━━━━━━━━━━━━━━━━━━━━━\u001b[0m \u001b[32m897.5/897.5 kB\u001b[0m \u001b[31m189.8 MB/s\u001b[0m eta \u001b[36m0:00:00\u001b[0m\r\n\u001b[?25hDownloading einops-0.8.0-py3-none-any.whl (43 kB)\r\n\u001b[?25l   \u001b[90m━━━━━━━━━━━━━━━━━━━━━━━━━━━━━━━━━━━━━━━━\u001b[0m \u001b[32m0.0/43.2 kB\u001b[0m \u001b[31m?\u001b[0m eta \u001b[36m-:--:--\u001b[0m\r\u001b[2K   \u001b[90m━━━━━━━━━━━━━━━━━━━━━━━━━━━━━━━━━━━━━━━━\u001b[0m \u001b[32m43.2/43.2 kB\u001b[0m \u001b[31m226.1 MB/s\u001b[0m eta \u001b[36m0:00:00\u001b[0m\r\n\u001b[?25hInstalling collected packages: sacremoses, einops\r\nSuccessfully installed einops-0.8.0 sacremoses-0.1.1\r\n\r\n\u001b[1m[\u001b[0m\u001b[34;49mnotice\u001b[0m\u001b[1;39;49m]\u001b[0m\u001b[39;49m A new release of pip is available: \u001b[0m\u001b[31;49m24.0\u001b[0m\u001b[39;49m -> \u001b[0m\u001b[32;49m24.2\u001b[0m\r\n\u001b[1m[\u001b[0m\u001b[34;49mnotice\u001b[0m\u001b[1;39;49m]\u001b[0m\u001b[39;49m To update, run: \u001b[0m\u001b[32;49mpip install --upgrade pip\u001b[0m\r\nRequirement already satisfied: sentencepiece in /usr/local/lib/python3.10/site-packages (0.1.99)\r\n\r\n\u001b[1m[\u001b[0m\u001b[34;49mnotice\u001b[0m\u001b[1;39;49m]\u001b[0m\u001b[39;49m A new release of pip is available: \u001b[0m\u001b[31;49m24.0\u001b[0m\u001b[39;49m -> \u001b[0m\u001b[32;49m24.2\u001b[0m\r\n\u001b[1m[\u001b[0m\u001b[34;49mnotice\u001b[0m\u001b[1;39;49m]\u001b[0m\u001b[39;49m To update, run: \u001b[0m\u001b[32;49mpip install --upgrade pip\u001b[0m\r\n"
      ]
     },
     "execution_count": null,
     "metadata": {},
     "output_type": "execute_result"
    }
   ],
   "source": [
    "!pip install sacremoses einops\n",
    "# !pip install omegaconf --no-deps\n",
    "!pip install sentencepiece"
   ]
  },
  {
   "cell_type": "markdown",
   "id": "0638ae7f",
   "metadata": {},
   "source": [
    "### Step 7"
   ]
  },
  {
   "cell_type": "markdown",
   "id": "ab8a8a83",
   "metadata": {},
   "source": [
    "**Thought**: [pre-executed by user]"
   ]
  },
  {
   "cell_type": "markdown",
   "id": "db798169",
   "metadata": {},
   "source": [
    "**Action (None)**:"
   ]
  },
  {
   "cell_type": "code",
   "execution_count": null,
   "id": "371e5b1f",
   "metadata": {},
   "outputs": [
    {
     "data": {
      "text/plain": [
       "Collecting tensorboardX\r\n  Downloading tensorboardX-2.6.2.2-py2.py3-none-any.whl.metadata (5.8 kB)\r\nRequirement already satisfied: numpy in /usr/local/lib/python3.10/site-packages (from tensorboardX) (1.25.2)\r\nRequirement already satisfied: packaging in /usr/local/lib/python3.10/site-packages (from tensorboardX) (24.1)\r\nRequirement already satisfied: protobuf>=3.20 in /usr/local/lib/python3.10/site-packages (from tensorboardX) (5.27.1)\r\nDownloading tensorboardX-2.6.2.2-py2.py3-none-any.whl (101 kB)\r\n\u001b[?25l   \u001b[90m━━━━━━━━━━━━━━━━━━━━━━━━━━━━━━━━━━━━━━━━\u001b[0m \u001b[32m0.0/101.7 kB\u001b[0m \u001b[31m?\u001b[0m eta \u001b[36m-:--:--\u001b[0m\r\u001b[2K   \u001b[90m━━━━━━━━━━━━━━━━━━━━━━━━━━━━━━━━━━━━━━━\u001b[0m \u001b[32m101.7/101.7 kB\u001b[0m \u001b[31m170.8 MB/s\u001b[0m eta \u001b[36m0:00:00\u001b[0m\r\n\u001b[?25hInstalling collected packages: tensorboardX\r\nSuccessfully installed tensorboardX-2.6.2.2\r\n\r\n\u001b[1m[\u001b[0m\u001b[34;49mnotice\u001b[0m\u001b[1;39;49m]\u001b[0m\u001b[39;49m A new release of pip is available: \u001b[0m\u001b[31;49m24.0\u001b[0m\u001b[39;49m -> \u001b[0m\u001b[32;49m24.2\u001b[0m\r\n\u001b[1m[\u001b[0m\u001b[34;49mnotice\u001b[0m\u001b[1;39;49m]\u001b[0m\u001b[39;49m To update, run: \u001b[0m\u001b[32;49mpip install --upgrade pip\u001b[0m\r\n"
      ]
     },
     "execution_count": null,
     "metadata": {},
     "output_type": "execute_result"
    }
   ],
   "source": [
    "!pip install tensorboardX"
   ]
  },
  {
   "cell_type": "markdown",
   "id": "84950cc4",
   "metadata": {},
   "source": [
    "### Step 8"
   ]
  },
  {
   "cell_type": "markdown",
   "id": "73bd7a80",
   "metadata": {},
   "source": [
    "**Thought**: [pre-executed by user]"
   ]
  },
  {
   "cell_type": "markdown",
   "id": "0303efe0",
   "metadata": {},
   "source": [
    "**Action (None)**:"
   ]
  },
  {
   "cell_type": "code",
   "execution_count": null,
   "id": "1f71d2df",
   "metadata": {},
   "outputs": [
    {
     "data": {
      "text/plain": [
       ""
      ]
     },
     "execution_count": null,
     "metadata": {},
     "output_type": "execute_result"
    }
   ],
   "source": [
    "# ### Installation of Fairseq"
   ]
  },
  {
   "cell_type": "markdown",
   "id": "734bc326",
   "metadata": {},
   "source": [
    "### Step 9"
   ]
  },
  {
   "cell_type": "markdown",
   "id": "4131500d",
   "metadata": {},
   "source": [
    "**Thought**: [pre-executed by user]"
   ]
  },
  {
   "cell_type": "markdown",
   "id": "3b49642a",
   "metadata": {},
   "source": [
    "**Action (None)**:"
   ]
  },
  {
   "cell_type": "code",
   "execution_count": null,
   "id": "f4d54e20",
   "metadata": {},
   "outputs": [
    {
     "data": {
      "text/plain": [
       ""
      ]
     },
     "execution_count": null,
     "metadata": {},
     "output_type": "execute_result"
    }
   ],
   "source": [
    "# Attempt 1: Installation of this repo from setup.py\n",
    "# NOTE: Installation of fairseq (and A2D models) by running set.py fails!!\n",
    "# It takes more than 5 minutes to run and then crashes!\n",
    "# !pip install --editable ./\n",
    "# ERROR: Could not build wheels for fairseq, which is required to install pyproject.toml-based projects"
   ]
  },
  {
   "cell_type": "markdown",
   "id": "300ef46e",
   "metadata": {},
   "source": [
    "### Step 10"
   ]
  },
  {
   "cell_type": "markdown",
   "id": "e1f4ad60",
   "metadata": {},
   "source": [
    "**Thought**: [pre-executed by user]"
   ]
  },
  {
   "cell_type": "markdown",
   "id": "26314b0a",
   "metadata": {},
   "source": [
    "**Action (None)**:"
   ]
  },
  {
   "cell_type": "code",
   "execution_count": null,
   "id": "e49ee50f",
   "metadata": {},
   "outputs": [
    {
     "data": {
      "text/plain": [
       ""
      ]
     },
     "execution_count": null,
     "metadata": {},
     "output_type": "execute_result"
    }
   ],
   "source": [
    "# Attempt 2: No Installation; directly use the fairseq/ folder to load various scripts such as train.py\n",
    "# Add the current folder to the path by `export PYTHONPATH=$PYTHONPATH:$(pwd)` helps!\n",
    "# But Installation of OmegaConf resulted in runtime disconnected error. Failed!!\n",
    "# !echo \"Y\" | pip uninstall omegaconf\n",
    "# !pip install omegaconf --no-deps"
   ]
  },
  {
   "cell_type": "markdown",
   "id": "a481e454",
   "metadata": {},
   "source": [
    "### Step 11"
   ]
  },
  {
   "cell_type": "markdown",
   "id": "453a6d67",
   "metadata": {},
   "source": [
    "**Thought**: [pre-executed by user]"
   ]
  },
  {
   "cell_type": "markdown",
   "id": "a3e626fb",
   "metadata": {},
   "source": [
    "**Action (None)**:"
   ]
  },
  {
   "cell_type": "code",
   "execution_count": null,
   "id": "bfdb58e2",
   "metadata": {},
   "outputs": [
    {
     "data": {
      "text/plain": [
       "Requirement already satisfied: pip<24.1 in /usr/local/lib/python3.10/site-packages (24.0)\r\n\r\n\u001b[1m[\u001b[0m\u001b[34;49mnotice\u001b[0m\u001b[1;39;49m]\u001b[0m\u001b[39;49m A new release of pip is available: \u001b[0m\u001b[31;49m24.0\u001b[0m\u001b[39;49m -> \u001b[0m\u001b[32;49m24.2\u001b[0m\r\n\u001b[1m[\u001b[0m\u001b[34;49mnotice\u001b[0m\u001b[1;39;49m]\u001b[0m\u001b[39;49m To update, run: \u001b[0m\u001b[32;49mpip install --upgrade pip\u001b[0m\r\nCollecting fairseq==0.12.2\r\n  Downloading fairseq-0.12.2.tar.gz (9.6 MB)\r\n\u001b[?25l     \u001b[90m━━━━━━━━━━━━━━━━━━━━━━━━━━━━━━━━━━━━━━━━\u001b[0m \u001b[32m0.0/9.6 MB\u001b[0m \u001b[31m?\u001b[0m eta \u001b[36m-:--:--\u001b[0m\r\u001b[2K     \u001b[91m━━━━━━━━━━━━━━━━━━━━━━━━━━━━━━━\u001b[0m\u001b[91m╸\u001b[0m\u001b[90m━━━━━━━━\u001b[0m \u001b[32m7.7/9.6 MB\u001b[0m \u001b[31m229.7 MB/s\u001b[0m eta \u001b[36m0:00:01\u001b[0m\r\u001b[2K     \u001b[90m━━━━━━━━━━━━━━━━━━━━━━━━━━━━━━━━━━━━━━━━\u001b[0m \u001b[32m9.6/9.6 MB\u001b[0m \u001b[31m232.0 MB/s\u001b[0m eta \u001b[36m0:00:00\u001b[0m\r\n\u001b[?25h  Installing build dependencies ... \u001b[?25l-\b \b\\\b \b|\b \b/\b \b-\b \b\\\b \bdone\r\n\u001b[?25h  Getting requirements to build wheel ... \u001b[?25ldone\r\n\u001b[?25h  Installing backend dependencies ... \u001b[?25l-\b \b\\\b \b|\b \bdone\r\n\u001b[?25h  Preparing metadata (pyproject.toml) ... \u001b[?25l-\b \b\\\b \bdone\r\n\u001b[?25hCollecting omegaconf==2.0.6\r\n  Downloading omegaconf-2.0.6-py3-none-any.whl.metadata (3.0 kB)\r\nRequirement already satisfied: cffi in /usr/local/lib/python3.10/site-packages (from fairseq==0.12.2) (1.16.0)\r\nRequirement already satisfied: cython in /usr/local/lib/python3.10/site-packages (from fairseq==0.12.2) (3.0.10)\r\nCollecting hydra-core<1.1,>=1.0.7 (from fairseq==0.12.2)\r\n  Downloading hydra_core-1.0.7-py3-none-any.whl.metadata (3.7 kB)\r\nRequirement already satisfied: regex in /usr/local/lib/python3.10/site-packages (from fairseq==0.12.2) (2023.12.25)\r\nCollecting sacrebleu>=1.4.12 (from fairseq==0.12.2)\r\n  Downloading sacrebleu-2.4.3-py3-none-any.whl.metadata (51 kB)\r\n\u001b[?25l     \u001b[90m━━━━━━━━━━━━━━━━━━━━━━━━━━━━━━━━━━━━━━━━\u001b[0m \u001b[32m0.0/51.8 kB\u001b[0m \u001b[31m?\u001b[0m eta \u001b[36m-:--:--\u001b[0m\r\u001b[2K     \u001b[90m━━━━━━━━━━━━━━━━━━━━━━━━━━━━━━━━━━━━━━━\u001b[0m \u001b[32m51.8/51.8 kB\u001b[0m \u001b[31m234.4 MB/s\u001b[0m eta \u001b[36m0:00:00\u001b[0m\r\n\u001b[?25hRequirement already satisfied: torch in /usr/local/lib/python3.10/site-packages (from fairseq==0.12.2) (2.2.1+cpu)\r\nRequirement already satisfied: tqdm in /usr/local/lib/python3.10/site-packages (from fairseq==0.12.2) (4.66.4)\r\nCollecting bitarray (from fairseq==0.12.2)\r\n  Downloading bitarray-2.9.2-cp310-cp310-manylinux_2_17_x86_64.manylinux2014_x86_64.whl.metadata (34 kB)\r\nCollecting torchaudio>=0.8.0 (from fairseq==0.12.2)\r\n  Downloading torchaudio-2.4.0-cp310-cp310-manylinux1_x86_64.whl.metadata (6.4 kB)\r\nRequirement already satisfied: numpy in /usr/local/lib/python3.10/site-packages (from fairseq==0.12.2) (1.25.2)\r\nRequirement already satisfied: PyYAML>=5.1.* in /usr/local/lib/python3.10/site-packages (from omegaconf==2.0.6) (6.0.1)\r\nRequirement already satisfied: typing-extensions in /usr/local/lib/python3.10/site-packages (from omegaconf==2.0.6) (4.12.2)\r\nCollecting antlr4-python3-runtime==4.8 (from hydra-core<1.1,>=1.0.7->fairseq==0.12.2)\r\n  Downloading antlr4-python3-runtime-4.8.tar.gz (112 kB)\r\n\u001b[?25l     \u001b[90m━━━━━━━━━━━━━━━━━━━━━━━━━━━━━━━━━━━━━━━━\u001b[0m \u001b[32m0.0/112.4 kB\u001b[0m \u001b[31m?\u001b[0m eta \u001b[36m-:--:--\u001b[0m\r\u001b[2K     \u001b[90m━━━━━━━━━━━━━━━━━━━━━━━━━━━━━━━━━━━━━\u001b[0m \u001b[32m112.4/112.4 kB\u001b[0m \u001b[31m254.1 MB/s\u001b[0m eta \u001b[36m0:00:00\u001b[0m\r\n\u001b[?25h  Installing build dependencies ... \u001b[?25l-\b \b\\\b \b|\b \bdone\r\n\u001b[?25h  Getting requirements to build wheel ... \u001b[?25l-\b \bdone\r\n\u001b[?25h  Preparing metadata (pyproject.toml) ... \u001b[?25l-\b \bdone\r\n\u001b[?25hCollecting portalocker (from sacrebleu>=1.4.12->fairseq==0.12.2)\r\n  Downloading portalocker-2.10.1-py3-none-any.whl.metadata (8.5 kB)\r\nCollecting tabulate>=0.8.9 (from sacrebleu>=1.4.12->fairseq==0.12.2)\r\n  Downloading tabulate-0.9.0-py3-none-any.whl.metadata (34 kB)\r\nCollecting colorama (from sacrebleu>=1.4.12->fairseq==0.12.2)\r\n  Downloading colorama-0.4.6-py2.py3-none-any.whl.metadata (17 kB)\r\nCollecting lxml (from sacrebleu>=1.4.12->fairseq==0.12.2)\r\n  Downloading lxml-5.3.0-cp310-cp310-manylinux_2_28_x86_64.whl.metadata (3.8 kB)\r\nCollecting torch (from fairseq==0.12.2)\r\n  Downloading torch-2.4.0-cp310-cp310-manylinux1_x86_64.whl.metadata (26 kB)\r\nRequirement already satisfied: filelock in /usr/local/lib/python3.10/site-packages (from torch->fairseq==0.12.2) (3.15.1)\r\nRequirement already satisfied: sympy in /usr/local/lib/python3.10/site-packages (from torch->fairseq==0.12.2) (1.12)\r\nRequirement already satisfied: networkx in /usr/local/lib/python3.10/site-packages (from torch->fairseq==0.12.2) (3.3)\r\nRequirement already satisfied: jinja2 in /usr/local/lib/python3.10/site-packages (from torch->fairseq==0.12.2) (3.1.4)\r\nRequirement already satisfied: fsspec in /usr/local/lib/python3.10/site-packages (from torch->fairseq==0.12.2) (2023.6.0)\r\nCollecting nvidia-cuda-nvrtc-cu12==12.1.105 (from torch->fairseq==0.12.2)\r\n  Downloading nvidia_cuda_nvrtc_cu12-12.1.105-py3-none-manylinux1_x86_64.whl.metadata (1.5 kB)\r\nCollecting nvidia-cuda-runtime-cu12==12.1.105 (from torch->fairseq==0.12.2)\r\n  Downloading nvidia_cuda_runtime_cu12-12.1.105-py3-none-manylinux1_x86_64.whl.metadata (1.5 kB)\r\nCollecting nvidia-cuda-cupti-cu12==12.1.105 (from torch->fairseq==0.12.2)\r\n  Downloading nvidia_cuda_cupti_cu12-12.1.105-py3-none-manylinux1_x86_64.whl.metadata (1.6 kB)\r\nCollecting nvidia-cudnn-cu12==9.1.0.70 (from torch->fairseq==0.12.2)\r\n  Downloading nvidia_cudnn_cu12-9.1.0.70-py3-none-manylinux2014_x86_64.whl.metadata (1.6 kB)\r\nCollecting nvidia-cublas-cu12==12.1.3.1 (from torch->fairseq==0.12.2)\r\n  Downloading nvidia_cublas_cu12-12.1.3.1-py3-none-manylinux1_x86_64.whl.metadata (1.5 kB)\r\nCollecting nvidia-cufft-cu12==11.0.2.54 (from torch->fairseq==0.12.2)\r\n  Downloading nvidia_cufft_cu12-11.0.2.54-py3-none-manylinux1_x86_64.whl.metadata (1.5 kB)\r\nCollecting nvidia-curand-cu12==10.3.2.106 (from torch->fairseq==0.12.2)\r\n  Downloading nvidia_curand_cu12-10.3.2.106-py3-none-manylinux1_x86_64.whl.metadata (1.5 kB)\r\nCollecting nvidia-cusolver-cu12==11.4.5.107 (from torch->fairseq==0.12.2)\r\n  Downloading nvidia_cusolver_cu12-11.4.5.107-py3-none-manylinux1_x86_64.whl.metadata (1.6 kB)\r\nCollecting nvidia-cusparse-cu12==12.1.0.106 (from torch->fairseq==0.12.2)\r\n  Downloading nvidia_cusparse_cu12-12.1.0.106-py3-none-manylinux1_x86_64.whl.metadata (1.6 kB)\r\nCollecting nvidia-nccl-cu12==2.20.5 (from torch->fairseq==0.12.2)\r\n  Downloading nvidia_nccl_cu12-2.20.5-py3-none-manylinux2014_x86_64.whl.metadata (1.8 kB)\r\nCollecting nvidia-nvtx-cu12==12.1.105 (from torch->fairseq==0.12.2)\r\n  Downloading nvidia_nvtx_cu12-12.1.105-py3-none-manylinux1_x86_64.whl.metadata (1.7 kB)\r\nCollecting triton==3.0.0 (from torch->fairseq==0.12.2)\r\n  Downloading triton-3.0.0-1-cp310-cp310-manylinux2014_x86_64.manylinux_2_17_x86_64.whl.metadata (1.3 kB)\r\nCollecting nvidia-nvjitlink-cu12 (from nvidia-cusolver-cu12==11.4.5.107->torch->fairseq==0.12.2)\r\n  Downloading nvidia_nvjitlink_cu12-12.6.20-py3-none-manylinux2014_x86_64.whl.metadata (1.5 kB)\r\nRequirement already satisfied: pycparser in /usr/local/lib/python3.10/site-packages (from cffi->fairseq==0.12.2) (2.22)\r\nRequirement already satisfied: MarkupSafe>=2.0 in /usr/local/lib/python3.10/site-packages (from jinja2->torch->fairseq==0.12.2) (2.1.5)\r\nRequirement already satisfied: mpmath>=0.19 in /usr/local/lib/python3.10/site-packages (from sympy->torch->fairseq==0.12.2) (1.3.0)\r\nDownloading omegaconf-2.0.6-py3-none-any.whl (36 kB)\r\nDownloading hydra_core-1.0.7-py3-none-any.whl (123 kB)\r\n\u001b[?25l   \u001b[90m━━━━━━━━━━━━━━━━━━━━━━━━━━━━━━━━━━━━━━━━\u001b[0m \u001b[32m0.0/123.8 kB\u001b[0m \u001b[31m?\u001b[0m eta \u001b[36m-:--:--\u001b[0m\r\u001b[2K   \u001b[90m━━━━━━━━━━━━━━━━━━━━━━━━━━━━━━━━━━━━━━━\u001b[0m \u001b[32m123.8/123.8 kB\u001b[0m \u001b[31m139.2 MB/s\u001b[0m eta \u001b[36m0:00:00\u001b[0m\r\n\u001b[?25hDownloading sacrebleu-2.4.3-py3-none-any.whl (103 kB)\r\n\u001b[?25l   \u001b[90m━━━━━━━━━━━━━━━━━━━━━━━━━━━━━━━━━━━━━━━━\u001b[0m \u001b[32m0.0/104.0 kB\u001b[0m \u001b[31m?\u001b[0m eta \u001b[36m-:--:--\u001b[0m\r\u001b[2K   \u001b[90m━━━━━━━━━━━━━━━━━━━━━━━━━━━━━━━━━━━━━━━\u001b[0m \u001b[32m104.0/104.0 kB\u001b[0m \u001b[31m262.5 MB/s\u001b[0m eta \u001b[36m0:00:00\u001b[0m\r\n\u001b[?25hDownloading torchaudio-2.4.0-cp310-cp310-manylinux1_x86_64.whl (3.4 MB)\r\n\u001b[?25l   \u001b[90m━━━━━━━━━━━━━━━━━━━━━━━━━━━━━━━━━━━━━━━━\u001b[0m \u001b[32m0.0/3.4 MB\u001b[0m \u001b[31m?\u001b[0m eta \u001b[36m-:--:--\u001b[0m\r\u001b[2K   \u001b[90m━━━━━━━━━━━━━━━━━━━━━━━━━━━━━━━━━━━━━━━━\u001b[0m \u001b[32m3.4/3.4 MB\u001b[0m \u001b[31m332.2 MB/s\u001b[0m eta \u001b[36m0:00:00\u001b[0m\r\n\u001b[?25hDownloading torch-2.4.0-cp310-cp310-manylinux1_x86_64.whl (797.2 MB)\r\n\u001b[?25l   \u001b[90m━━━━━━━━━━━━━━━━━━━━━━━━━━━━━━━━━━━━━━━━\u001b[0m \u001b[32m0.0/797.2 MB\u001b[0m \u001b[31m?\u001b[0m eta \u001b[36m-:--:--\u001b[0m\r\u001b[2K   \u001b[91m╸\u001b[0m\u001b[90m━━━━━━━━━━━━━━━━━━━━━━━━━━━━━━━━━━━━━━━\u001b[0m \u001b[32m11.4/797.2 MB\u001b[0m \u001b[31m341.1 MB/s\u001b[0m eta \u001b[36m0:00:03\u001b[0m\r\u001b[2K   \u001b[91m━\u001b[0m\u001b[90m╺\u001b[0m\u001b[90m━━━━━━━━━━━━━━━━━━━━━━━━━━━━━━━━━━━━━━\u001b[0m \u001b[32m22.8/797.2 MB\u001b[0m \u001b[31m340.9 MB/s\u001b[0m eta \u001b[36m0:00:03\u001b[0m\r\u001b[2K   \u001b[91m━\u001b[0m\u001b[91m╸\u001b[0m\u001b[90m━━━━━━━━━━━━━━━━━━━━━━━━━━━━━━━━━━━━━━\u001b[0m \u001b[32m34.2/797.2 MB\u001b[0m \u001b[31m342.1 MB/s\u001b[0m eta \u001b[36m0:00:03\u001b[0m\r\u001b[2K   \u001b[91m━━\u001b[0m\u001b[90m╺\u001b[0m\u001b[90m━━━━━━━━━━━━━━━━━━━━━━━━━━━━━━━━━━━━━\u001b[0m \u001b[32m43.8/797.2 MB\u001b[0m \u001b[31m279.6 MB/s\u001b[0m eta \u001b[36m0:00:03\u001b[0m\r\u001b[2K   \u001b[91m━━\u001b[0m\u001b[91m╸\u001b[0m\u001b[90m━━━━━━━━━━━━━━━━━━━━━━━━━━━━━━━━━━━━━\u001b[0m \u001b[32m53.1/797.2 MB\u001b[0m \u001b[31m260.2 MB/s\u001b[0m eta \u001b[36m0:00:03\u001b[0m\r\u001b[2K   \u001b[91m━━━\u001b[0m\u001b[90m╺\u001b[0m\u001b[90m━━━━━━━━━━━━━━━━━━━━━━━━━━━━━━━━━━━━\u001b[0m \u001b[32m62.2/797.2 MB\u001b[0m \u001b[31m268.6 MB/s\u001b[0m eta \u001b[36m0:00:03\u001b[0m\r\u001b[2K   \u001b[91m━━━\u001b[0m\u001b[91m╸\u001b[0m\u001b[90m━━━━━━━━━━━━━━━━━━━━━━━━━━━━━━━━━━━━\u001b[0m \u001b[32m72.9/797.2 MB\u001b[0m \u001b[31m321.8 MB/s\u001b[0m eta \u001b[36m0:00:03\u001b[0m\r\u001b[2K   \u001b[91m━━━━\u001b[0m\u001b[90m╺\u001b[0m\u001b[90m━━━━━━━━━━━━━━━━━━━━━━━━━━━━━━━━━━━\u001b[0m \u001b[32m82.3/797.2 MB\u001b[0m \u001b[31m273.4 MB/s\u001b[0m eta \u001b[36m0:00:03\u001b[0m\r\u001b[2K   \u001b[91m━━━━\u001b[0m\u001b[91m╸\u001b[0m\u001b[90m━━━━━━━━━━━━━━━━━━━━━━━━━━━━━━━━━━━\u001b[0m \u001b[32m91.5/797.2 MB\u001b[0m \u001b[31m261.7 MB/s\u001b[0m eta \u001b[36m0:00:03\u001b[0m\r\u001b[2K   \u001b[91m━━━━\u001b[0m\u001b[91m╸\u001b[0m\u001b[90m━━━━━━━━━━━━━━━━━━━━━━━━━━━━━━━━━━\u001b[0m \u001b[32m100.2/797.2 MB\u001b[0m \u001b[31m253.9 MB/s\u001b[0m eta \u001b[36m0:00:03\u001b[0m\r\u001b[2K   \u001b[91m━━━━━\u001b[0m\u001b[90m╺\u001b[0m\u001b[90m━━━━━━━━━━━━━━━━━━━━━━━━━━━━━━━━━\u001b[0m \u001b[32m109.5/797.2 MB\u001b[0m \u001b[31m269.1 MB/s\u001b[0m eta \u001b[36m0:00:03\u001b[0m\r\u001b[2K   \u001b[91m━━━━━\u001b[0m\u001b[91m╸\u001b[0m\u001b[90m━━━━━━━━━━━━━━━━━━━━━━━━━━━━━━━━━\u001b[0m \u001b[32m119.0/797.2 MB\u001b[0m \u001b[31m273.8 MB/s\u001b[0m eta \u001b[36m0:00:03\u001b[0m\r\u001b[2K   \u001b[91m━━━━━━\u001b[0m\u001b[90m╺\u001b[0m\u001b[90m━━━━━━━━━━━━━━━━━━━━━━━━━━━━━━━━\u001b[0m \u001b[32m128.6/797.2 MB\u001b[0m \u001b[31m275.2 MB/s\u001b[0m eta \u001b[36m0:00:03\u001b[0m\r\u001b[2K   \u001b[91m━━━━━━\u001b[0m\u001b[91m╸\u001b[0m\u001b[90m━━━━━━━━━━━━━━━━━━━━━━━━━━━━━━━━\u001b[0m \u001b[32m137.9/797.2 MB\u001b[0m \u001b[31m269.4 MB/s\u001b[0m eta \u001b[36m0:00:03\u001b[0m\r\u001b[2K   \u001b[91m━━━━━━━\u001b[0m\u001b[90m╺\u001b[0m\u001b[90m━━━━━━━━━━━━━━━━━━━━━━━━━━━━━━━\u001b[0m \u001b[32m147.4/797.2 MB\u001b[0m \u001b[31m271.7 MB/s\u001b[0m eta \u001b[36m0:00:03\u001b[0m\r\u001b[2K   \u001b[91m━━━━━━━\u001b[0m\u001b[91m╸\u001b[0m\u001b[90m━━━━━━━━━━━━━━━━━━━━━━━━━━━━━━━\u001b[0m \u001b[32m156.9/797.2 MB\u001b[0m \u001b[31m271.5 MB/s\u001b[0m eta \u001b[36m0:00:03\u001b[0m\r\u001b[2K   \u001b[91m━━━━━━━━\u001b[0m\u001b[90m╺\u001b[0m\u001b[90m━━━━━━━━━━━━━━━━━━━━━━━━━━━━━━\u001b[0m \u001b[32m166.4/797.2 MB\u001b[0m \u001b[31m270.1 MB/s\u001b[0m eta \u001b[36m0:00:03\u001b[0m\r\u001b[2K   \u001b[91m━━━━━━━━\u001b[0m\u001b[91m╸\u001b[0m\u001b[90m━━━━━━━━━━━━━━━━━━━━━━━━━━━━━━\u001b[0m \u001b[32m175.7/797.2 MB\u001b[0m \u001b[31m269.7 MB/s\u001b[0m eta \u001b[36m0:00:03\u001b[0m\r\u001b[2K   \u001b[91m━━━━━━━━━\u001b[0m\u001b[90m╺\u001b[0m\u001b[90m━━━━━━━━━━━━━━━━━━━━━━━━━━━━━\u001b[0m \u001b[32m185.1/797.2 MB\u001b[0m \u001b[31m270.6 MB/s\u001b[0m eta \u001b[36m0:00:03\u001b[0m\r\u001b[2K   \u001b[91m━━━━━━━━━\u001b[0m\u001b[91m╸\u001b[0m\u001b[90m━━━━━━━━━━━━━━━━━━━━━━━━━━━━━\u001b[0m \u001b[32m194.6/797.2 MB\u001b[0m \u001b[31m272.5 MB/s\u001b[0m eta \u001b[36m0:00:03\u001b[0m\r\u001b[2K   \u001b[91m━━━━━━━━━\u001b[0m\u001b[91m╸\u001b[0m\u001b[90m━━━━━━━━━━━━━━━━━━━━━━━━━━━━━\u001b[0m \u001b[32m203.9/797.2 MB\u001b[0m \u001b[31m265.7 MB/s\u001b[0m eta \u001b[36m0:00:03\u001b[0m\r\u001b[2K   \u001b[91m━━━━━━━━━━\u001b[0m\u001b[90m╺\u001b[0m\u001b[90m━━━━━━━━━━━━━━━━━━━━━━━━━━━━\u001b[0m \u001b[32m212.2/797.2 MB\u001b[0m \u001b[31m236.8 MB/s\u001b[0m eta \u001b[36m0:00:03\u001b[0m\r\u001b[2K   \u001b[91m━━━━━━━━━━\u001b[0m\u001b[91m╸\u001b[0m\u001b[90m━━━━━━━━━━━━━━━━━━━━━━━━━━━━\u001b[0m \u001b[32m221.3/797.2 MB\u001b[0m \u001b[31m263.3 MB/s\u001b[0m eta \u001b[36m0:00:03\u001b[0m\r\u001b[2K   \u001b[91m━━━━━━━━━━━\u001b[0m\u001b[90m╺\u001b[0m\u001b[90m━━━━━━━━━━━━━━━━━━━━━━━━━━━\u001b[0m \u001b[32m229.6/797.2 MB\u001b[0m \u001b[31m241.5 MB/s\u001b[0m eta \u001b[36m0:00:03\u001b[0m\r\u001b[2K   \u001b[91m━━━━━━━━━━━\u001b[0m\u001b[91m╸\u001b[0m\u001b[90m━━━━━━━━━━━━━━━━━━━━━━━━━━━\u001b[0m \u001b[32m238.7/797.2 MB\u001b[0m \u001b[31m254.3 MB/s\u001b[0m eta \u001b[36m0:00:03\u001b[0m\r\u001b[2K   \u001b[91m━━━━━━━━━━━━\u001b[0m\u001b[90m╺\u001b[0m\u001b[90m━━━━━━━━━━━━━━━━━━━━━━━━━━\u001b[0m \u001b[32m247.6/797.2 MB\u001b[0m \u001b[31m252.8 MB/s\u001b[0m eta \u001b[36m0:00:03\u001b[0m\r\u001b[2K   \u001b[91m━━━━━━━━━━━━\u001b[0m\u001b[91m╸\u001b[0m\u001b[90m━━━━━━━━━━━━━━━━━━━━━━━━━━\u001b[0m \u001b[32m256.6/797.2 MB\u001b[0m \u001b[31m247.9 MB/s\u001b[0m eta \u001b[36m0:00:03\u001b[0m\r\u001b[2K   \u001b[91m━━━━━━━━━━━━━\u001b[0m\u001b[90m╺\u001b[0m\u001b[90m━━━━━━━━━━━━━━━━━━━━━━━━━\u001b[0m \u001b[32m265.8/797.2 MB\u001b[0m \u001b[31m266.3 MB/s\u001b[0m eta \u001b[36m0:00:02\u001b[0m\r\u001b[2K   \u001b[91m━━━━━━━━━━━━━\u001b[0m\u001b[90m╺\u001b[0m\u001b[90m━━━━━━━━━━━━━━━━━━━━━━━━━\u001b[0m \u001b[32m274.5/797.2 MB\u001b[0m \u001b[31m253.3 MB/s\u001b[0m eta \u001b[36m0:00:03\u001b[0m\r\u001b[2K   \u001b[91m━━━━━━━━━━━━━\u001b[0m\u001b[91m╸\u001b[0m\u001b[90m━━━━━━━━━━━━━━━━━━━━━━━━━\u001b[0m \u001b[32m283.8/797.2 MB\u001b[0m \u001b[31m266.3 MB/s\u001b[0m eta \u001b[36m0:00:02\u001b[0m\r\u001b[2K   \u001b[91m━━━━━━━━━━━━━━\u001b[0m\u001b[90m╺\u001b[0m\u001b[90m━━━━━━━━━━━━━━━━━━━━━━━━\u001b[0m \u001b[32m293.2/797.2 MB\u001b[0m \u001b[31m268.5 MB/s\u001b[0m eta \u001b[36m0:00:02\u001b[0m\r\u001b[2K   \u001b[91m━━━━━━━━━━━━━━\u001b[0m\u001b[91m╸\u001b[0m\u001b[90m━━━━━━━━━━━━━━━━━━━━━━━━\u001b[0m \u001b[32m302.5/797.2 MB\u001b[0m \u001b[31m266.5 MB/s\u001b[0m eta \u001b[36m0:00:02\u001b[0m\r\u001b[2K   \u001b[91m━━━━━━━━━━━━━━━\u001b[0m\u001b[90m╺\u001b[0m\u001b[90m━━━━━━━━━━━━━━━━━━━━━━━\u001b[0m \u001b[32m311.5/797.2 MB\u001b[0m \u001b[31m262.4 MB/s\u001b[0m eta \u001b[36m0:00:02\u001b[0m\r\u001b[2K   \u001b[91m━━━━━━━━━━━━━━━\u001b[0m\u001b[91m╸\u001b[0m\u001b[90m━━━━━━━━━━━━━━━━━━━━━━━\u001b[0m \u001b[32m320.8/797.2 MB\u001b[0m \u001b[31m269.5 MB/s\u001b[0m eta \u001b[36m0:00:02\u001b[0m\r\u001b[2K   \u001b[91m━━━━━━━━━━━━━━━━\u001b[0m\u001b[90m╺\u001b[0m\u001b[90m━━━━━━━━━━━━━━━━━━━━━━\u001b[0m \u001b[32m329.3/797.2 MB\u001b[0m \u001b[31m249.2 MB/s\u001b[0m eta \u001b[36m0:00:02\u001b[0m\r\u001b[2K   \u001b[91m━━━━━━━━━━━━━━━━\u001b[0m\u001b[91m╸\u001b[0m\u001b[90m━━━━━━━━━━━━━━━━━━━━━━\u001b[0m \u001b[32m337.7/797.2 MB\u001b[0m \u001b[31m245.9 MB/s\u001b[0m eta \u001b[36m0:00:02\u001b[0m\r\u001b[2K   \u001b[91m━━━━━━━━━━━━━━━━\u001b[0m\u001b[91m╸\u001b[0m\u001b[90m━━━━━━━━━━━━━━━━━━━━━━\u001b[0m \u001b[32m346.7/797.2 MB\u001b[0m \u001b[31m254.3 MB/s\u001b[0m eta \u001b[36m0:00:02\u001b[0m\r\u001b[2K   \u001b[91m━━━━━━━━━━━━━━━━━\u001b[0m\u001b[90m╺\u001b[0m\u001b[90m━━━━━━━━━━━━━━━━━━━━━\u001b[0m \u001b[32m356.3/797.2 MB\u001b[0m \u001b[31m273.4 MB/s\u001b[0m eta \u001b[36m0:00:02\u001b[0m\r\u001b[2K   \u001b[91m━━━━━━━━━━━━━━━━━\u001b[0m\u001b[91m╸\u001b[0m\u001b[90m━━━━━━━━━━━━━━━━━━━━━\u001b[0m \u001b[32m365.0/797.2 MB\u001b[0m \u001b[31m247.7 MB/s\u001b[0m eta \u001b[36m0:00:02\u001b[0m\r\u001b[2K   \u001b[91m━━━━━━━━━━━━━━━━━━\u001b[0m\u001b[90m╺\u001b[0m\u001b[90m━━━━━━━━━━━━━━━━━━━━\u001b[0m \u001b[32m374.1/797.2 MB\u001b[0m \u001b[31m261.2 MB/s\u001b[0m eta \u001b[36m0:00:02\u001b[0m\r\u001b[2K   \u001b[91m━━━━━━━━━━━━━━━━━━\u001b[0m\u001b[91m╸\u001b[0m\u001b[90m━━━━━━━━━━━━━━━━━━━━\u001b[0m \u001b[32m382.4/797.2 MB\u001b[0m \u001b[31m242.1 MB/s\u001b[0m eta \u001b[36m0:00:02\u001b[0m\r\u001b[2K   \u001b[91m━━━━━━━━━━━━━━━━━━━\u001b[0m\u001b[90m╺\u001b[0m\u001b[90m━━━━━━━━━━━━━━━━━━━\u001b[0m \u001b[32m391.3/797.2 MB\u001b[0m \u001b[31m254.5 MB/s\u001b[0m eta \u001b[36m0:00:02\u001b[0m\r\u001b[2K   \u001b[91m━━━━━━━━━━━━━━━━━━━\u001b[0m\u001b[91m╸\u001b[0m\u001b[90m━━━━━━━━━━━━━━━━━━━\u001b[0m \u001b[32m400.3/797.2 MB\u001b[0m \u001b[31m251.3 MB/s\u001b[0m eta \u001b[36m0:00:02\u001b[0m\r\u001b[2K   \u001b[91m━━━━━━━━━━━━━━━━━━━\u001b[0m\u001b[91m╸\u001b[0m\u001b[90m━━━━━━━━━━━━━━━━━━━\u001b[0m \u001b[32m408.7/797.2 MB\u001b[0m \u001b[31m246.0 MB/s\u001b[0m eta \u001b[36m0:00:02\u001b[0m\r\u001b[2K   \u001b[91m━━━━━━━━━━━━━━━━━━━━\u001b[0m\u001b[90m╺\u001b[0m\u001b[90m━━━━━━━━━━━━━━━━━━\u001b[0m \u001b[32m417.8/797.2 MB\u001b[0m \u001b[31m261.9 MB/s\u001b[0m eta \u001b[36m0:00:02\u001b[0m\r\u001b[2K   \u001b[91m━━━━━━━━━━━━━━━━━━━━\u001b[0m\u001b[91m╸\u001b[0m\u001b[90m━━━━━━━━━━━━━━━━━━\u001b[0m \u001b[32m427.4/797.2 MB\u001b[0m \u001b[31m272.1 MB/s\u001b[0m eta \u001b[36m0:00:02\u001b[0m\r\u001b[2K   \u001b[91m━━━━━━━━━━━━━━━━━━━━━\u001b[0m\u001b[90m╺\u001b[0m\u001b[90m━━━━━━━━━━━━━━━━━\u001b[0m \u001b[32m435.8/797.2 MB\u001b[0m \u001b[31m249.0 MB/s\u001b[0m eta \u001b[36m0:00:02\u001b[0m\r\u001b[2K   \u001b[91m━━━━━━━━━━━━━━━━━━━━━\u001b[0m\u001b[91m╸\u001b[0m\u001b[90m━━━━━━━━━━━━━━━━━\u001b[0m \u001b[32m445.0/797.2 MB\u001b[0m \u001b[31m265.8 MB/s\u001b[0m eta \u001b[36m0:00:02\u001b[0m\r\u001b[2K   \u001b[91m━━━━━━━━━━━━━━━━━━━━━━\u001b[0m\u001b[90m╺\u001b[0m\u001b[90m━━━━━━━━━━━━━━━━\u001b[0m \u001b[32m454.5/797.2 MB\u001b[0m \u001b[31m270.8 MB/s\u001b[0m eta \u001b[36m0:00:02\u001b[0m\r\u001b[2K   \u001b[91m━━━━━━━━━━━━━━━━━━━━━━\u001b[0m\u001b[91m╸\u001b[0m\u001b[90m━━━━━━━━━━━━━━━━\u001b[0m \u001b[32m464.3/797.2 MB\u001b[0m \u001b[31m279.3 MB/s\u001b[0m eta \u001b[36m0:00:02\u001b[0m\r\u001b[2K   \u001b[91m━━━━━━━━━━━━━━━━━━━━━━━\u001b[0m\u001b[90m╺\u001b[0m\u001b[90m━━━━━━━━━━━━━━━\u001b[0m \u001b[32m473.1/797.2 MB\u001b[0m \u001b[31m257.6 MB/s\u001b[0m eta \u001b[36m0:00:02\u001b[0m\r\u001b[2K   \u001b[91m━━━━━━━━━━━━━━━━━━━━━━━\u001b[0m\u001b[91m╸\u001b[0m\u001b[90m━━━━━━━━━━━━━━━\u001b[0m \u001b[32m481.9/797.2 MB\u001b[0m \u001b[31m252.7 MB/s\u001b[0m eta \u001b[36m0:00:02\u001b[0m\r\u001b[2K   \u001b[91m━━━━━━━━━━━━━━━━━━━━━━━━\u001b[0m\u001b[90m╺\u001b[0m\u001b[90m━━━━━━━━━━━━━━\u001b[0m \u001b[32m491.1/797.2 MB\u001b[0m \u001b[31m258.3 MB/s\u001b[0m eta \u001b[36m0:00:02\u001b[0m\r\u001b[2K   \u001b[91m━━━━━━━━━━━━━━━━━━━━━━━━\u001b[0m\u001b[90m╺\u001b[0m\u001b[90m━━━━━━━━━━━━━━\u001b[0m \u001b[32m499.9/797.2 MB\u001b[0m \u001b[31m252.3 MB/s\u001b[0m eta \u001b[36m0:00:02\u001b[0m\r\u001b[2K   \u001b[91m━━━━━━━━━━━━━━━━━━━━━━━━\u001b[0m\u001b[91m╸\u001b[0m\u001b[90m━━━━━━━━━━━━━━\u001b[0m \u001b[32m508.7/797.2 MB\u001b[0m \u001b[31m254.3 MB/s\u001b[0m eta \u001b[36m0:00:02\u001b[0m\r\u001b[2K   \u001b[91m━━━━━━━━━━━━━━━━━━━━━━━━━\u001b[0m\u001b[90m╺\u001b[0m\u001b[90m━━━━━━━━━━━━━\u001b[0m \u001b[32m517.9/797.2 MB\u001b[0m \u001b[31m261.7 MB/s\u001b[0m eta \u001b[36m0:00:02\u001b[0m\r\u001b[2K   \u001b[91m━━━━━━━━━━━━━━━━━━━━━━━━━\u001b[0m\u001b[91m╸\u001b[0m\u001b[90m━━━━━━━━━━━━━\u001b[0m \u001b[32m527.3/797.2 MB\u001b[0m \u001b[31m268.2 MB/s\u001b[0m eta \u001b[36m0:00:02\u001b[0m\r\u001b[2K   \u001b[91m━━━━━━━━━━━━━━━━━━━━━━━━━━\u001b[0m\u001b[90m╺\u001b[0m\u001b[90m━━━━━━━━━━━━\u001b[0m \u001b[32m536.4/797.2 MB\u001b[0m \u001b[31m262.2 MB/s\u001b[0m eta \u001b[36m0:00:01\u001b[0m\r\u001b[2K   \u001b[91m━━━━━━━━━━━━━━━━━━━━━━━━━━\u001b[0m\u001b[91m╸\u001b[0m\u001b[90m━━━━━━━━━━━━\u001b[0m \u001b[32m545.5/797.2 MB\u001b[0m \u001b[31m262.1 MB/s\u001b[0m eta \u001b[36m0:00:01\u001b[0m\r\u001b[2K   \u001b[91m━━━━━━━━━━━━━━━━━━━━━━━━━━━\u001b[0m\u001b[90m╺\u001b[0m\u001b[90m━━━━━━━━━━━\u001b[0m \u001b[32m554.9/797.2 MB\u001b[0m \u001b[31m269.5 MB/s\u001b[0m eta \u001b[36m0:00:01\u001b[0m\r\u001b[2K   \u001b[91m━━━━━━━━━━━━━━━━━━━━━━━━━━━\u001b[0m\u001b[91m╸\u001b[0m\u001b[90m━━━━━━━━━━━\u001b[0m \u001b[32m563.1/797.2 MB\u001b[0m \u001b[31m241.8 MB/s\u001b[0m eta \u001b[36m0:00:01\u001b[0m\r\u001b[2K   \u001b[91m━━━━━━━━━━━━━━━━━━━━━━━━━━━\u001b[0m\u001b[91m╸\u001b[0m\u001b[90m━━━━━━━━━━━\u001b[0m \u001b[32m572.3/797.2 MB\u001b[0m \u001b[31m254.6 MB/s\u001b[0m eta \u001b[36m0:00:01\u001b[0m\r\u001b[2K   \u001b[91m━━━━━━━━━━━━━━━━━━━━━━━━━━━━\u001b[0m\u001b[90m╺\u001b[0m\u001b[90m━━━━━━━━━━\u001b[0m \u001b[32m581.0/797.2 MB\u001b[0m \u001b[31m253.6 MB/s\u001b[0m eta \u001b[36m0:00:01\u001b[0m\r\u001b[2K   \u001b[91m━━━━━━━━━━━━━━━━━━━━━━━━━━━━\u001b[0m\u001b[91m╸\u001b[0m\u001b[90m━━━━━━━━━━\u001b[0m \u001b[32m589.3/797.2 MB\u001b[0m \u001b[31m242.9 MB/s\u001b[0m eta \u001b[36m0:00:01\u001b[0m\r\u001b[2K   \u001b[91m━━━━━━━━━━━━━━━━━━━━━━━━━━━━━\u001b[0m\u001b[90m╺\u001b[0m\u001b[90m━━━━━━━━━\u001b[0m \u001b[32m597.7/797.2 MB\u001b[0m \u001b[31m247.2 MB/s\u001b[0m eta \u001b[36m0:00:01\u001b[0m\r\u001b[2K   \u001b[91m━━━━━━━━━━━━━━━━━━━━━━━━━━━━━\u001b[0m\u001b[91m╸\u001b[0m\u001b[90m━━━━━━━━━\u001b[0m \u001b[32m606.8/797.2 MB\u001b[0m \u001b[31m262.3 MB/s\u001b[0m eta \u001b[36m0:00:01\u001b[0m\r\u001b[2K   \u001b[91m━━━━━━━━━━━━━━━━━━━━━━━━━━━━━━\u001b[0m\u001b[90m╺\u001b[0m\u001b[90m━━━━━━━━\u001b[0m \u001b[32m615.8/797.2 MB\u001b[0m \u001b[31m259.5 MB/s\u001b[0m eta \u001b[36m0:00:01\u001b[0m\r\u001b[2K   \u001b[91m━━━━━━━━━━━━━━━━━━━━━━━━━━━━━━\u001b[0m\u001b[91m╸\u001b[0m\u001b[90m━━━━━━━━\u001b[0m \u001b[32m624.7/797.2 MB\u001b[0m \u001b[31m254.1 MB/s\u001b[0m eta \u001b[36m0:00:01\u001b[0m\r\u001b[2K   \u001b[91m━━━━━━━━━━━━━━━━━━━━━━━━━━━━━━\u001b[0m\u001b[91m╸\u001b[0m\u001b[90m━━━━━━━━\u001b[0m \u001b[32m633.4/797.2 MB\u001b[0m \u001b[31m249.1 MB/s\u001b[0m eta \u001b[36m0:00:01\u001b[0m\r\u001b[2K   \u001b[91m━━━━━━━━━━━━━━━━━━━━━━━━━━━━━━━\u001b[0m\u001b[90m╺\u001b[0m\u001b[90m━━━━━━━\u001b[0m \u001b[32m642.3/797.2 MB\u001b[0m \u001b[31m253.6 MB/s\u001b[0m eta \u001b[36m0:00:01\u001b[0m\r\u001b[2K   \u001b[91m━━━━━━━━━━━━━━━━━━━━━━━━━━━━━━━\u001b[0m\u001b[91m╸\u001b[0m\u001b[90m━━━━━━━\u001b[0m \u001b[32m651.2/797.2 MB\u001b[0m \u001b[31m255.5 MB/s\u001b[0m eta \u001b[36m0:00:01\u001b[0m\r\u001b[2K   \u001b[91m━━━━━━━━━━━━━━━━━━━━━━━━━━━━━━━━\u001b[0m\u001b[90m╺\u001b[0m\u001b[90m━━━━━━\u001b[0m \u001b[32m660.5/797.2 MB\u001b[0m \u001b[31m269.1 MB/s\u001b[0m eta \u001b[36m0:00:01\u001b[0m\r\u001b[2K   \u001b[91m━━━━━━━━━━━━━━━━━━━━━━━━━━━━━━━━\u001b[0m\u001b[91m╸\u001b[0m\u001b[90m━━━━━━\u001b[0m \u001b[32m669.4/797.2 MB\u001b[0m \u001b[31m260.4 MB/s\u001b[0m eta \u001b[36m0:00:01\u001b[0m\r\u001b[2K   \u001b[91m━━━━━━━━━━━━━━━━━━━━━━━━━━━━━━━━━\u001b[0m\u001b[90m╺\u001b[0m\u001b[90m━━━━━\u001b[0m \u001b[32m678.5/797.2 MB\u001b[0m \u001b[31m255.7 MB/s\u001b[0m eta \u001b[36m0:00:01\u001b[0m\r\u001b[2K   \u001b[91m━━━━━━━━━━━━━━━━━━━━━━━━━━━━━━━━━\u001b[0m\u001b[91m╸\u001b[0m\u001b[90m━━━━━\u001b[0m \u001b[32m687.4/797.2 MB\u001b[0m \u001b[31m255.8 MB/s\u001b[0m eta \u001b[36m0:00:01\u001b[0m\r\u001b[2K   \u001b[91m━━━━━━━━━━━━━━━━━━━━━━━━━━━━━━━━━━\u001b[0m\u001b[90m╺\u001b[0m\u001b[90m━━━━\u001b[0m \u001b[32m696.6/797.2 MB\u001b[0m \u001b[31m266.0 MB/s\u001b[0m eta \u001b[36m0:00:01\u001b[0m\r\u001b[2K   \u001b[91m━━━━━━━━━━━━━━━━━━━━━━━━━━━━━━━━━━\u001b[0m\u001b[91m╸\u001b[0m\u001b[90m━━━━\u001b[0m \u001b[32m705.8/797.2 MB\u001b[0m \u001b[31m265.9 MB/s\u001b[0m eta \u001b[36m0:00:01\u001b[0m\r\u001b[2K   \u001b[91m━━━━━━━━━━━━━━━━━━━━━━━━━━━━━━━━━━\u001b[0m\u001b[91m╸\u001b[0m\u001b[90m━━━━\u001b[0m \u001b[32m715.1/797.2 MB\u001b[0m \u001b[31m269.2 MB/s\u001b[0m eta \u001b[36m0:00:01\u001b[0m\r\u001b[2K   \u001b[91m━━━━━━━━━━━━━━━━━━━━━━━━━━━━━━━━━━━\u001b[0m\u001b[90m╺\u001b[0m\u001b[90m━━━\u001b[0m \u001b[32m723.9/797.2 MB\u001b[0m \u001b[31m253.1 MB/s\u001b[0m eta \u001b[36m0:00:01\u001b[0m\r\u001b[2K   \u001b[91m━━━━━━━━━━━━━━━━━━━━━━━━━━━━━━━━━━━\u001b[0m\u001b[91m╸\u001b[0m\u001b[90m━━━\u001b[0m \u001b[32m733.1/797.2 MB\u001b[0m \u001b[31m263.2 MB/s\u001b[0m eta \u001b[36m0:00:01\u001b[0m\r\u001b[2K   \u001b[91m━━━━━━━━━━━━━━━━━━━━━━━━━━━━━━━━━━━━\u001b[0m\u001b[90m╺\u001b[0m\u001b[90m━━\u001b[0m \u001b[32m742.1/797.2 MB\u001b[0m \u001b[31m260.5 MB/s\u001b[0m eta \u001b[36m0:00:01\u001b[0m\r\u001b[2K   \u001b[91m━━━━━━━━━━━━━━━━━━━━━━━━━━━━━━━━━━━━\u001b[0m\u001b[91m╸\u001b[0m\u001b[90m━━\u001b[0m \u001b[32m751.7/797.2 MB\u001b[0m \u001b[31m275.7 MB/s\u001b[0m eta \u001b[36m0:00:01\u001b[0m\r\u001b[2K   \u001b[91m━━━━━━━━━━━━━━━━━━━━━━━━━━━━━━━━━━━━━\u001b[0m\u001b[90m╺\u001b[0m\u001b[90m━\u001b[0m \u001b[32m761.0/797.2 MB\u001b[0m \u001b[31m269.7 MB/s\u001b[0m eta \u001b[36m0:00:01\u001b[0m\r\u001b[2K   \u001b[91m━━━━━━━━━━━━━━━━━━━━━━━━━━━━━━━━━━━━━\u001b[0m\u001b[91m╸\u001b[0m\u001b[90m━\u001b[0m \u001b[32m770.3/797.2 MB\u001b[0m \u001b[31m269.5 MB/s\u001b[0m eta \u001b[36m0:00:01\u001b[0m\r\u001b[2K   \u001b[91m━━━━━━━━━━━━━━━━━━━━━━━━━━━━━━━━━━━━━━\u001b[0m\u001b[90m╺\u001b[0m \u001b[32m780.5/797.2 MB\u001b[0m \u001b[31m287.2 MB/s\u001b[0m eta \u001b[36m0:00:01\u001b[0m\r\u001b[2K   \u001b[91m━━━━━━━━━━━━━━━━━━━━━━━━━━━━━━━━━━━━━━\u001b[0m\u001b[91m╸\u001b[0m \u001b[32m790.1/797.2 MB\u001b[0m \u001b[31m278.9 MB/s\u001b[0m eta \u001b[36m0:00:01\u001b[0m\r\u001b[2K   \u001b[90m━━━━━━━━━━━━━━━━━━━━━━━━━━━━━━━━━━━━━━━\u001b[0m \u001b[32m797.2/797.2 MB\u001b[0m \u001b[31m270.9 MB/s\u001b[0m eta \u001b[36m0:00:00\u001b[0m\r\n\u001b[?25hDownloading nvidia_cublas_cu12-12.1.3.1-py3-none-manylinux1_x86_64.whl (410.6 MB)\r\n\u001b[?25l   \u001b[90m━━━━━━━━━━━━━━━━━━━━━━━━━━━━━━━━━━━━━━━━\u001b[0m \u001b[32m0.0/410.6 MB\u001b[0m \u001b[31m?\u001b[0m eta \u001b[36m-:--:--\u001b[0m\r\u001b[2K   \u001b[91m╸\u001b[0m\u001b[90m━━━━━━━━━━━━━━━━━━━━━━━━━━━━━━━━━━━━━━━\u001b[0m \u001b[32m9.2/410.6 MB\u001b[0m \u001b[31m277.5 MB/s\u001b[0m eta \u001b[36m0:00:02\u001b[0m\r\u001b[2K   \u001b[91m━\u001b[0m\u001b[91m╸\u001b[0m\u001b[90m━━━━━━━━━━━━━━━━━━━━━━━━━━━━━━━━━━━━━━\u001b[0m \u001b[32m18.8/410.6 MB\u001b[0m \u001b[31m273.0 MB/s\u001b[0m eta \u001b[36m0:00:02\u001b[0m\r\u001b[2K   \u001b[91m━━\u001b[0m\u001b[91m╸\u001b[0m\u001b[90m━━━━━━━━━━━━━━━━━━━━━━━━━━━━━━━━━━━━━\u001b[0m \u001b[32m28.3/410.6 MB\u001b[0m \u001b[31m274.0 MB/s\u001b[0m eta \u001b[36m0:00:02\u001b[0m\r\u001b[2K   \u001b[91m━━━\u001b[0m\u001b[91m╸\u001b[0m\u001b[90m━━━━━━━━━━━━━━━━━━━━━━━━━━━━━━━━━━━━\u001b[0m \u001b[32m37.6/410.6 MB\u001b[0m \u001b[31m269.2 MB/s\u001b[0m eta \u001b[36m0:00:02\u001b[0m\r\u001b[2K   \u001b[91m━━━━\u001b[0m\u001b[91m╸\u001b[0m\u001b[90m━━━━━━━━━━━━━━━━━━━━━━━━━━━━━━━━━━━\u001b[0m \u001b[32m46.9/410.6 MB\u001b[0m \u001b[31m269.1 MB/s\u001b[0m eta \u001b[36m0:00:02\u001b[0m\r\u001b[2K   \u001b[91m━━━━━\u001b[0m\u001b[90m╺\u001b[0m\u001b[90m━━━━━━━━━━━━━━━━━━━━━━━━━━━━━━━━━━\u001b[0m \u001b[32m55.8/410.6 MB\u001b[0m \u001b[31m257.3 MB/s\u001b[0m eta \u001b[36m0:00:02\u001b[0m\r\u001b[2K   \u001b[91m━━━━━━\u001b[0m\u001b[90m╺\u001b[0m\u001b[90m━━━━━━━━━━━━━━━━━━━━━━━━━━━━━━━━━\u001b[0m \u001b[32m63.8/410.6 MB\u001b[0m \u001b[31m233.7 MB/s\u001b[0m eta \u001b[36m0:00:02\u001b[0m\r\u001b[2K   \u001b[91m━━━━━━━\u001b[0m\u001b[90m╺\u001b[0m\u001b[90m━━━━━━━━━━━━━━━━━━━━━━━━━━━━━━━━\u001b[0m \u001b[32m72.6/410.6 MB\u001b[0m \u001b[31m252.1 MB/s\u001b[0m eta \u001b[36m0:00:02\u001b[0m\r\u001b[2K   \u001b[91m━━━━━━━\u001b[0m\u001b[91m╸\u001b[0m\u001b[90m━━━━━━━━━━━━━━━━━━━━━━━━━━━━━━━━\u001b[0m \u001b[32m81.5/410.6 MB\u001b[0m \u001b[31m252.5 MB/s\u001b[0m eta \u001b[36m0:00:02\u001b[0m\r\u001b[2K   \u001b[91m━━━━━━━━\u001b[0m\u001b[91m╸\u001b[0m\u001b[90m━━━━━━━━━━━━━━━━━━━━━━━━━━━━━━━\u001b[0m \u001b[32m90.8/410.6 MB\u001b[0m \u001b[31m266.8 MB/s\u001b[0m eta \u001b[36m0:00:02\u001b[0m\r\u001b[2K   \u001b[91m━━━━━━━━━\u001b[0m\u001b[91m╸\u001b[0m\u001b[90m━━━━━━━━━━━━━━━━━━━━━━━━━━━━━\u001b[0m \u001b[32m100.6/410.6 MB\u001b[0m \u001b[31m280.2 MB/s\u001b[0m eta \u001b[36m0:00:02\u001b[0m\r\u001b[2K   \u001b[91m━━━━━━━━━━\u001b[0m\u001b[90m╺\u001b[0m\u001b[90m━━━━━━━━━━━━━━━━━━━━━━━━━━━━\u001b[0m \u001b[32m109.9/410.6 MB\u001b[0m \u001b[31m271.6 MB/s\u001b[0m eta \u001b[36m0:00:02\u001b[0m\r\u001b[2K   \u001b[91m━━━━━━━━━━━\u001b[0m\u001b[90m╺\u001b[0m\u001b[90m━━━━━━━━━━━━━━━━━━━━━━━━━━━\u001b[0m \u001b[32m119.2/410.6 MB\u001b[0m \u001b[31m266.6 MB/s\u001b[0m eta \u001b[36m0:00:02\u001b[0m\r\u001b[2K   \u001b[91m━━━━━━━━━━━━\u001b[0m\u001b[90m╺\u001b[0m\u001b[90m━━━━━━━━━━━━━━━━━━━━━━━━━━\u001b[0m \u001b[32m128.7/410.6 MB\u001b[0m \u001b[31m272.8 MB/s\u001b[0m eta \u001b[36m0:00:02\u001b[0m\r\u001b[2K   \u001b[91m━━━━━━━━━━━━━\u001b[0m\u001b[90m╺\u001b[0m\u001b[90m━━━━━━━━━━━━━━━━━━━━━━━━━\u001b[0m \u001b[32m138.3/410.6 MB\u001b[0m \u001b[31m276.8 MB/s\u001b[0m eta \u001b[36m0:00:01\u001b[0m\r\u001b[2K   \u001b[91m━━━━━━━━━━━━━━\u001b[0m\u001b[90m╺\u001b[0m\u001b[90m━━━━━━━━━━━━━━━━━━━━━━━━\u001b[0m \u001b[32m147.8/410.6 MB\u001b[0m \u001b[31m272.4 MB/s\u001b[0m eta \u001b[36m0:00:01\u001b[0m\r\u001b[2K   \u001b[91m━━━━━━━━━━━━━━\u001b[0m\u001b[91m╸\u001b[0m\u001b[90m━━━━━━━━━━━━━━━━━━━━━━━━\u001b[0m \u001b[32m156.7/410.6 MB\u001b[0m \u001b[31m260.2 MB/s\u001b[0m eta \u001b[36m0:00:01\u001b[0m\r\u001b[2K   \u001b[91m━━━━━━━━━━━━━━━\u001b[0m\u001b[91m╸\u001b[0m\u001b[90m━━━━━━━━━━━━━━━━━━━━━━━\u001b[0m \u001b[32m166.1/410.6 MB\u001b[0m \u001b[31m268.5 MB/s\u001b[0m eta \u001b[36m0:00:01\u001b[0m\r\u001b[2K   \u001b[91m━━━━━━━━━━━━━━━━\u001b[0m\u001b[91m╸\u001b[0m\u001b[90m━━━━━━━━━━━━━━━━━━━━━━\u001b[0m \u001b[32m175.5/410.6 MB\u001b[0m \u001b[31m273.1 MB/s\u001b[0m eta \u001b[36m0:00:01\u001b[0m\r\u001b[2K   \u001b[91m━━━━━━━━━━━━━━━━━\u001b[0m\u001b[91m╸\u001b[0m\u001b[90m━━━━━━━━━━━━━━━━━━━━━\u001b[0m \u001b[32m184.5/410.6 MB\u001b[0m \u001b[31m260.6 MB/s\u001b[0m eta \u001b[36m0:00:01\u001b[0m\r\u001b[2K   \u001b[91m━━━━━━━━━━━━━━━━━━\u001b[0m\u001b[90m╺\u001b[0m\u001b[90m━━━━━━━━━━━━━━━━━━━━\u001b[0m \u001b[32m193.1/410.6 MB\u001b[0m \u001b[31m252.7 MB/s\u001b[0m eta \u001b[36m0:00:01\u001b[0m\r\u001b[2K   \u001b[91m━━━━━━━━━━━━━━━━━━━\u001b[0m\u001b[90m╺\u001b[0m\u001b[90m━━━━━━━━━━━━━━━━━━━\u001b[0m \u001b[32m201.8/410.6 MB\u001b[0m \u001b[31m254.6 MB/s\u001b[0m eta \u001b[36m0:00:01\u001b[0m\r\u001b[2K   \u001b[91m━━━━━━━━━━━━━━━━━━━\u001b[0m\u001b[91m╸\u001b[0m\u001b[90m━━━━━━━━━━━━━━━━━━━\u001b[0m \u001b[32m210.4/410.6 MB\u001b[0m \u001b[31m248.9 MB/s\u001b[0m eta \u001b[36m0:00:01\u001b[0m\r\u001b[2K   \u001b[91m━━━━━━━━━━━━━━━━━━━━\u001b[0m\u001b[91m╸\u001b[0m\u001b[90m━━━━━━━━━━━━━━━━━━\u001b[0m \u001b[32m219.2/410.6 MB\u001b[0m \u001b[31m250.6 MB/s\u001b[0m eta \u001b[36m0:00:01\u001b[0m\r\u001b[2K   \u001b[91m━━━━━━━━━━━━━━━━━━━━━\u001b[0m\u001b[91m╸\u001b[0m\u001b[90m━━━━━━━━━━━━━━━━━\u001b[0m \u001b[32m228.8/410.6 MB\u001b[0m \u001b[31m275.8 MB/s\u001b[0m eta \u001b[36m0:00:01\u001b[0m\r\u001b[2K   \u001b[91m━━━━━━━━━━━━━━━━━━━━━━\u001b[0m\u001b[91m╸\u001b[0m\u001b[90m━━━━━━━━━━━━━━━━\u001b[0m \u001b[32m237.5/410.6 MB\u001b[0m \u001b[31m252.2 MB/s\u001b[0m eta \u001b[36m0:00:01\u001b[0m\r\u001b[2K   \u001b[91m━━━━━━━━━━━━━━━━━━━━━━━\u001b[0m\u001b[90m╺\u001b[0m\u001b[90m━━━━━━━━━━━━━━━\u001b[0m \u001b[32m246.3/410.6 MB\u001b[0m \u001b[31m257.6 MB/s\u001b[0m eta \u001b[36m0:00:01\u001b[0m\r\u001b[2K   \u001b[91m━━━━━━━━━━━━━━━━━━━━━━━━\u001b[0m\u001b[90m╺\u001b[0m\u001b[90m━━━━━━━━━━━━━━\u001b[0m \u001b[32m255.5/410.6 MB\u001b[0m \u001b[31m263.9 MB/s\u001b[0m eta \u001b[36m0:00:01\u001b[0m\r\u001b[2K   \u001b[91m━━━━━━━━━━━━━━━━━━━━━━━━━\u001b[0m\u001b[90m╺\u001b[0m\u001b[90m━━━━━━━━━━━━━\u001b[0m \u001b[32m264.2/410.6 MB\u001b[0m \u001b[31m251.8 MB/s\u001b[0m eta \u001b[36m0:00:01\u001b[0m\r\u001b[2K   \u001b[91m━━━━━━━━━━━━━━━━━━━━━━━━━\u001b[0m\u001b[91m╸\u001b[0m\u001b[90m━━━━━━━━━━━━━\u001b[0m \u001b[32m272.7/410.6 MB\u001b[0m \u001b[31m242.8 MB/s\u001b[0m eta \u001b[36m0:00:01\u001b[0m\r\u001b[2K   \u001b[91m━━━━━━━━━━━━━━━━━━━━━━━━━━\u001b[0m\u001b[91m╸\u001b[0m\u001b[90m━━━━━━━━━━━━\u001b[0m \u001b[32m282.0/410.6 MB\u001b[0m \u001b[31m260.6 MB/s\u001b[0m eta \u001b[36m0:00:01\u001b[0m\r\u001b[2K   \u001b[91m━━━━━━━━━━━━━━━━━━━━━━━━━━━\u001b[0m\u001b[91m╸\u001b[0m\u001b[90m━━━━━━━━━━━\u001b[0m \u001b[32m290.6/410.6 MB\u001b[0m \u001b[31m246.7 MB/s\u001b[0m eta \u001b[36m0:00:01\u001b[0m\r\u001b[2K   \u001b[91m━━━━━━━━━━━━━━━━━━━━━━━━━━━━\u001b[0m\u001b[90m╺\u001b[0m\u001b[90m━━━━━━━━━━\u001b[0m \u001b[32m299.9/410.6 MB\u001b[0m \u001b[31m267.5 MB/s\u001b[0m eta \u001b[36m0:00:01\u001b[0m\r\u001b[2K   \u001b[91m━━━━━━━━━━━━━━━━━━━━━━━━━━━━━\u001b[0m\u001b[90m╺\u001b[0m\u001b[90m━━━━━━━━━\u001b[0m \u001b[32m308.6/410.6 MB\u001b[0m \u001b[31m253.0 MB/s\u001b[0m eta \u001b[36m0:00:01\u001b[0m\r\u001b[2K   \u001b[91m━━━━━━━━━━━━━━━━━━━━━━━━━━━━━━\u001b[0m\u001b[90m╺\u001b[0m\u001b[90m━━━━━━━━\u001b[0m \u001b[32m317.6/410.6 MB\u001b[0m \u001b[31m258.5 MB/s\u001b[0m eta \u001b[36m0:00:01\u001b[0m\r\u001b[2K   \u001b[91m━━━━━━━━━━━━━━━━━━━━━━━━━━━━━━━\u001b[0m\u001b[90m╺\u001b[0m\u001b[90m━━━━━━━\u001b[0m \u001b[32m326.8/410.6 MB\u001b[0m \u001b[31m267.1 MB/s\u001b[0m eta \u001b[36m0:00:01\u001b[0m\r\u001b[2K   \u001b[91m━━━━━━━━━━━━━━━━━━━━━━━━━━━━━━━\u001b[0m\u001b[91m╸\u001b[0m\u001b[90m━━━━━━━\u001b[0m \u001b[32m335.9/410.6 MB\u001b[0m \u001b[31m263.8 MB/s\u001b[0m eta \u001b[36m0:00:01\u001b[0m\r\u001b[2K   \u001b[91m━━━━━━━━━━━━━━━━━━━━━━━━━━━━━━━━\u001b[0m\u001b[91m╸\u001b[0m\u001b[90m━━━━━━\u001b[0m \u001b[32m344.7/410.6 MB\u001b[0m \u001b[31m258.0 MB/s\u001b[0m eta \u001b[36m0:00:01\u001b[0m\r\u001b[2K   \u001b[91m━━━━━━━━━━━━━━━━━━━━━━━━━━━━━━━━━\u001b[0m\u001b[91m╸\u001b[0m\u001b[90m━━━━━\u001b[0m \u001b[32m353.7/410.6 MB\u001b[0m \u001b[31m253.2 MB/s\u001b[0m eta \u001b[36m0:00:01\u001b[0m\r\u001b[2K   \u001b[91m━━━━━━━━━━━━━━━━━━━━━━━━━━━━━━━━━━\u001b[0m\u001b[90m╺\u001b[0m\u001b[90m━━━━\u001b[0m \u001b[32m362.6/410.6 MB\u001b[0m \u001b[31m250.3 MB/s\u001b[0m eta \u001b[36m0:00:01\u001b[0m\r\u001b[2K   \u001b[91m━━━━━━━━━━━━━━━━━━━━━━━━━━━━━━━━━━━\u001b[0m\u001b[90m╺\u001b[0m\u001b[90m━━━\u001b[0m \u001b[32m371.4/410.6 MB\u001b[0m \u001b[31m253.6 MB/s\u001b[0m eta \u001b[36m0:00:01\u001b[0m\r\u001b[2K   \u001b[91m━━━━━━━━━━━━━━━━━━━━━━━━━━━━━━━━━━━━\u001b[0m\u001b[90m╺\u001b[0m\u001b[90m━━\u001b[0m \u001b[32m380.0/410.6 MB\u001b[0m \u001b[31m244.0 MB/s\u001b[0m eta \u001b[36m0:00:01\u001b[0m\r\u001b[2K   \u001b[91m━━━━━━━━━━━━━━━━━━━━━━━━━━━━━━━━━━━━━\u001b[0m\u001b[90m╺\u001b[0m\u001b[90m━\u001b[0m \u001b[32m389.5/410.6 MB\u001b[0m \u001b[31m273.4 MB/s\u001b[0m eta \u001b[36m0:00:01\u001b[0m\r\u001b[2K   \u001b[91m━━━━━━━━━━━━━━━━━━━━━━━━━━━━━━━━━━━━━\u001b[0m\u001b[91m╸\u001b[0m\u001b[90m━\u001b[0m \u001b[32m398.8/410.6 MB\u001b[0m \u001b[31m263.4 MB/s\u001b[0m eta \u001b[36m0:00:01\u001b[0m\r\u001b[2K   \u001b[91m━━━━━━━━━━━━━━━━━━━━━━━━━━━━━━━━━━━━━━\u001b[0m\u001b[91m╸\u001b[0m \u001b[32m407.8/410.6 MB\u001b[0m \u001b[31m260.0 MB/s\u001b[0m eta \u001b[36m0:00:01\u001b[0m\r\u001b[2K   \u001b[90m━━━━━━━━━━━━━━━━━━━━━━━━━━━━━━━━━━━━━━━\u001b[0m \u001b[32m410.6/410.6 MB\u001b[0m \u001b[31m260.3 MB/s\u001b[0m eta \u001b[36m0:00:00\u001b[0m\r\n\u001b[?25hDownloading nvidia_cuda_cupti_cu12-12.1.105-py3-none-manylinux1_x86_64.whl (14.1 MB)\r\n\u001b[?25l   \u001b[90m━━━━━━━━━━━━━━━━━━━━━━━━━━━━━━━━━━━━━━━━\u001b[0m \u001b[32m0.0/14.1 MB\u001b[0m \u001b[31m?\u001b[0m eta \u001b[36m-:--:--\u001b[0m\r\u001b[2K   \u001b[91m━━━━━━━━━━━━━━━━━━━━━━━\u001b[0m\u001b[91m╸\u001b[0m\u001b[90m━━━━━━━━━━━━━━━━\u001b[0m \u001b[32m8.4/14.1 MB\u001b[0m \u001b[31m249.9 MB/s\u001b[0m eta \u001b[36m0:00:01\u001b[0m\r\u001b[2K   \u001b[90m━━━━━━━━━━━━━━━━━━━━━━━━━━━━━━━━━━━━━━━━\u001b[0m \u001b[32m14.1/14.1 MB\u001b[0m \u001b[31m255.8 MB/s\u001b[0m eta \u001b[36m0:00:00\u001b[0m\r\n\u001b[?25hDownloading nvidia_cuda_nvrtc_cu12-12.1.105-py3-none-manylinux1_x86_64.whl (23.7 MB)\r\n\u001b[?25l   \u001b[90m━━━━━━━━━━━━━━━━━━━━━━━━━━━━━━━━━━━━━━━━\u001b[0m \u001b[32m0.0/23.7 MB\u001b[0m \u001b[31m?\u001b[0m eta \u001b[36m-:--:--\u001b[0m\r\u001b[2K   \u001b[91m━━━━━━━━━━\u001b[0m\u001b[90m╺\u001b[0m\u001b[90m━━━━━━━━━━━━━━━━━━━━━━━━━━━━━\u001b[0m \u001b[32m6.2/23.7 MB\u001b[0m \u001b[31m184.4 MB/s\u001b[0m eta \u001b[36m0:00:01\u001b[0m\r\u001b[2K   \u001b[91m━━━━━━━━━━━━━━━━━━━━━━━━\u001b[0m\u001b[90m╺\u001b[0m\u001b[90m━━━━━━━━━━━━━━━\u001b[0m \u001b[32m14.4/23.7 MB\u001b[0m \u001b[31m225.7 MB/s\u001b[0m eta \u001b[36m0:00:01\u001b[0m\r\u001b[2K   \u001b[91m━━━━━━━━━━━━━━━━━━━━━━━━━━━━━━━━━━━━━━━\u001b[0m\u001b[91m╸\u001b[0m \u001b[32m23.6/23.7 MB\u001b[0m \u001b[31m264.3 MB/s\u001b[0m eta \u001b[36m0:00:01\u001b[0m\r\u001b[2K   \u001b[90m━━━━━━━━━━━━━━━━━━━━━━━━━━━━━━━━━━━━━━━━\u001b[0m \u001b[32m23.7/23.7 MB\u001b[0m \u001b[31m247.8 MB/s\u001b[0m eta \u001b[36m0:00:00\u001b[0m\r\n\u001b[?25hDownloading nvidia_cuda_runtime_cu12-12.1.105-py3-none-manylinux1_x86_64.whl (823 kB)\r\n\u001b[?25l   \u001b[90m━━━━━━━━━━━━━━━━━━━━━━━━━━━━━━━━━━━━━━━━\u001b[0m \u001b[32m0.0/823.6 kB\u001b[0m \u001b[31m?\u001b[0m eta \u001b[36m-:--:--\u001b[0m\r\u001b[2K   \u001b[90m━━━━━━━━━━━━━━━━━━━━━━━━━━━━━━━━━━━━━━━\u001b[0m \u001b[32m823.6/823.6 kB\u001b[0m \u001b[31m273.0 MB/s\u001b[0m eta \u001b[36m0:00:00\u001b[0m\r\n\u001b[?25hDownloading nvidia_cudnn_cu12-9.1.0.70-py3-none-manylinux2014_x86_64.whl (664.8 MB)\r\n\u001b[?25l   \u001b[90m━━━━━━━━━━━━━━━━━━━━━━━━━━━━━━━━━━━━━━━━\u001b[0m \u001b[32m0.0/664.8 MB\u001b[0m \u001b[31m?\u001b[0m eta \u001b[36m-:--:--\u001b[0m\r\u001b[2K   \u001b[91m╸\u001b[0m\u001b[90m━━━━━━━━━━━━━━━━━━━━━━━━━━━━━━━━━━━━━━━\u001b[0m \u001b[32m8.7/664.8 MB\u001b[0m \u001b[31m260.8 MB/s\u001b[0m eta \u001b[36m0:00:03\u001b[0m\r\u001b[2K   \u001b[91m━\u001b[0m\u001b[90m╺\u001b[0m\u001b[90m━━━━━━━━━━━━━━━━━━━━━━━━━━━━━━━━━━━━━━\u001b[0m \u001b[32m18.4/664.8 MB\u001b[0m \u001b[31m272.6 MB/s\u001b[0m eta \u001b[36m0:00:03\u001b[0m\r\u001b[2K   \u001b[91m━\u001b[0m\u001b[91m╸\u001b[0m\u001b[90m━━━━━━━━━━━━━━━━━━━━━━━━━━━━━━━━━━━━━━\u001b[0m \u001b[32m27.4/664.8 MB\u001b[0m \u001b[31m255.8 MB/s\u001b[0m eta \u001b[36m0:00:03\u001b[0m\r\u001b[2K   \u001b[91m━━\u001b[0m\u001b[90m╺\u001b[0m\u001b[90m━━━━━━━━━━━━━━━━━━━━━━━━━━━━━━━━━━━━━\u001b[0m \u001b[32m36.2/664.8 MB\u001b[0m \u001b[31m257.8 MB/s\u001b[0m eta \u001b[36m0:00:03\u001b[0m\r\u001b[2K   \u001b[91m━━\u001b[0m\u001b[91m╸\u001b[0m\u001b[90m━━━━━━━━━━━━━━━━━━━━━━━━━━━━━━━━━━━━━\u001b[0m \u001b[32m45.4/664.8 MB\u001b[0m \u001b[31m268.0 MB/s\u001b[0m eta \u001b[36m0:00:03\u001b[0m\r\u001b[2K   \u001b[91m━━━\u001b[0m\u001b[90m╺\u001b[0m\u001b[90m━━━━━━━━━━━━━━━━━━━━━━━━━━━━━━━━━━━━\u001b[0m \u001b[32m54.8/664.8 MB\u001b[0m \u001b[31m267.1 MB/s\u001b[0m eta \u001b[36m0:00:03\u001b[0m\r\u001b[2K   \u001b[91m━━━\u001b[0m\u001b[91m╸\u001b[0m\u001b[90m━━━━━━━━━━━━━━━━━━━━━━━━━━━━━━━━━━━━\u001b[0m \u001b[32m63.9/664.8 MB\u001b[0m \u001b[31m265.2 MB/s\u001b[0m eta \u001b[36m0:00:03\u001b[0m\r\u001b[2K   \u001b[91m━━━━\u001b[0m\u001b[90m╺\u001b[0m\u001b[90m━━━━━━━━━━━━━━━━━━━━━━━━━━━━━━━━━━━\u001b[0m \u001b[32m73.0/664.8 MB\u001b[0m \u001b[31m263.2 MB/s\u001b[0m eta \u001b[36m0:00:03\u001b[0m\r\u001b[2K   \u001b[91m━━━━\u001b[0m\u001b[91m╸\u001b[0m\u001b[90m━━━━━━━━━━━━━━━━━━━━━━━━━━━━━━━━━━━\u001b[0m \u001b[32m82.4/664.8 MB\u001b[0m \u001b[31m266.9 MB/s\u001b[0m eta \u001b[36m0:00:03\u001b[0m\r\u001b[2K   \u001b[91m━━━━━\u001b[0m\u001b[91m╸\u001b[0m\u001b[90m━━━━━━━━━━━━━━━━━━━━━━━━━━━━━━━━━━\u001b[0m \u001b[32m92.0/664.8 MB\u001b[0m \u001b[31m276.7 MB/s\u001b[0m eta \u001b[36m0:00:03\u001b[0m\r\u001b[2K   \u001b[91m━━━━━\u001b[0m\u001b[91m╸\u001b[0m\u001b[90m━━━━━━━━━━━━━━━━━━━━━━━━━━━━━━━━━\u001b[0m \u001b[32m101.7/664.8 MB\u001b[0m \u001b[31m275.4 MB/s\u001b[0m eta \u001b[36m0:00:03\u001b[0m\r\u001b[2K   \u001b[91m━━━━━━\u001b[0m\u001b[90m╺\u001b[0m\u001b[90m━━━━━━━━━━━━━━━━━━━━━━━━━━━━━━━━\u001b[0m \u001b[32m109.6/664.8 MB\u001b[0m \u001b[31m237.6 MB/s\u001b[0m eta \u001b[36m0:00:03\u001b[0m\r\u001b[2K   \u001b[91m━━━━━━\u001b[0m\u001b[91m╸\u001b[0m\u001b[90m━━━━━━━━━━━━━━━━━━━━━━━━━━━━━━━━\u001b[0m \u001b[32m118.7/664.8 MB\u001b[0m \u001b[31m258.0 MB/s\u001b[0m eta \u001b[36m0:00:03\u001b[0m\r\u001b[2K   \u001b[91m━━━━━━━\u001b[0m\u001b[90m╺\u001b[0m\u001b[90m━━━━━━━━━━━━━━━━━━━━━━━━━━━━━━━\u001b[0m \u001b[32m127.2/664.8 MB\u001b[0m \u001b[31m246.0 MB/s\u001b[0m eta \u001b[36m0:00:03\u001b[0m\r\u001b[2K   \u001b[91m━━━━━━━━\u001b[0m\u001b[90m╺\u001b[0m\u001b[90m━━━━━━━━━━━━━━━━━━━━━━━━━━━━━━\u001b[0m \u001b[32m136.5/664.8 MB\u001b[0m \u001b[31m265.6 MB/s\u001b[0m eta \u001b[36m0:00:02\u001b[0m\r\u001b[2K   \u001b[91m━━━━━━━━\u001b[0m\u001b[91m╸\u001b[0m\u001b[90m━━━━━━━━━━━━━━━━━━━━━━━━━━━━━━\u001b[0m \u001b[32m144.9/664.8 MB\u001b[0m \u001b[31m239.0 MB/s\u001b[0m eta \u001b[36m0:00:03\u001b[0m\r\u001b[2K   \u001b[91m━━━━━━━━━\u001b[0m\u001b[90m╺\u001b[0m\u001b[90m━━━━━━━━━━━━━━━━━━━━━━━━━━━━━\u001b[0m \u001b[32m153.7/664.8 MB\u001b[0m \u001b[31m250.8 MB/s\u001b[0m eta \u001b[36m0:00:03\u001b[0m\r\u001b[2K   \u001b[91m━━━━━━━━━\u001b[0m\u001b[91m╸\u001b[0m\u001b[90m━━━━━━━━━━━━━━━━━━━━━━━━━━━━━\u001b[0m \u001b[32m162.7/664.8 MB\u001b[0m \u001b[31m259.3 MB/s\u001b[0m eta \u001b[36m0:00:02\u001b[0m\r\u001b[2K   \u001b[91m━━━━━━━━━━\u001b[0m\u001b[90m╺\u001b[0m\u001b[90m━━━━━━━━━━━━━━━━━━━━━━━━━━━━\u001b[0m \u001b[32m171.7/664.8 MB\u001b[0m \u001b[31m251.4 MB/s\u001b[0m eta \u001b[36m0:00:02\u001b[0m\r\u001b[2K   \u001b[91m━━━━━━━━━━\u001b[0m\u001b[91m╸\u001b[0m\u001b[90m━━━━━━━━━━━━━━━━━━━━━━━━━━━━\u001b[0m \u001b[32m181.2/664.8 MB\u001b[0m \u001b[31m272.5 MB/s\u001b[0m eta \u001b[36m0:00:02\u001b[0m\r\u001b[2K   \u001b[91m━━━━━━━━━━━\u001b[0m\u001b[90m╺\u001b[0m\u001b[90m━━━━━━━━━━━━━━━━━━━━━━━━━━━\u001b[0m \u001b[32m190.5/664.8 MB\u001b[0m \u001b[31m268.1 MB/s\u001b[0m eta \u001b[36m0:00:02\u001b[0m\r\u001b[2K   \u001b[91m━━━━━━━━━━━\u001b[0m\u001b[91m╸\u001b[0m\u001b[90m━━━━━━━━━━━━━━━━━━━━━━━━━━━\u001b[0m \u001b[32m199.4/664.8 MB\u001b[0m \u001b[31m259.2 MB/s\u001b[0m eta \u001b[36m0:00:02\u001b[0m\r\u001b[2K   \u001b[91m━━━━━━━━━━━━\u001b[0m\u001b[90m╺\u001b[0m\u001b[90m━━━━━━━━━━━━━━━━━━━━━━━━━━\u001b[0m \u001b[32m207.9/664.8 MB\u001b[0m \u001b[31m248.7 MB/s\u001b[0m eta \u001b[36m0:00:02\u001b[0m\r\u001b[2K   \u001b[91m━━━━━━━━━━━━\u001b[0m\u001b[91m╸\u001b[0m\u001b[90m━━━━━━━━━━━━━━━━━━━━━━━━━━\u001b[0m \u001b[32m216.8/664.8 MB\u001b[0m \u001b[31m257.0 MB/s\u001b[0m eta \u001b[36m0:00:02\u001b[0m\r\u001b[2K   \u001b[91m━━━━━━━━━━━━━\u001b[0m\u001b[90m╺\u001b[0m\u001b[90m━━━━━━━━━━━━━━━━━━━━━━━━━\u001b[0m \u001b[32m225.8/664.8 MB\u001b[0m \u001b[31m258.1 MB/s\u001b[0m eta \u001b[36m0:00:02\u001b[0m\r\u001b[2K   \u001b[91m━━━━━━━━━━━━━\u001b[0m\u001b[91m╸\u001b[0m\u001b[90m━━━━━━━━━━━━━━━━━━━━━━━━━\u001b[0m \u001b[32m234.6/664.8 MB\u001b[0m \u001b[31m255.8 MB/s\u001b[0m eta \u001b[36m0:00:02\u001b[0m\r\u001b[2K   \u001b[91m━━━━━━━━━━━━━━\u001b[0m\u001b[90m╺\u001b[0m\u001b[90m━━━━━━━━━━━━━━━━━━━━━━━━\u001b[0m \u001b[32m244.5/664.8 MB\u001b[0m \u001b[31m281.1 MB/s\u001b[0m eta \u001b[36m0:00:02\u001b[0m\r\u001b[2K   \u001b[91m━━━━━━━━━━━━━━\u001b[0m\u001b[91m╸\u001b[0m\u001b[90m━━━━━━━━━━━━━━━━━━━━━━━━\u001b[0m \u001b[32m253.7/664.8 MB\u001b[0m \u001b[31m266.2 MB/s\u001b[0m eta \u001b[36m0:00:02\u001b[0m\r\u001b[2K   \u001b[91m━━━━━━━━━━━━━━━\u001b[0m\u001b[90m╺\u001b[0m\u001b[90m━━━━━━━━━━━━━━━━━━━━━━━\u001b[0m \u001b[32m262.5/664.8 MB\u001b[0m \u001b[31m254.1 MB/s\u001b[0m eta \u001b[36m0:00:02\u001b[0m\r\u001b[2K   \u001b[91m━━━━━━━━━━━━━━━\u001b[0m\u001b[91m╸\u001b[0m\u001b[90m━━━━━━━━━━━━━━━━━━━━━━━\u001b[0m \u001b[32m272.1/664.8 MB\u001b[0m \u001b[31m276.2 MB/s\u001b[0m eta \u001b[36m0:00:02\u001b[0m\r\u001b[2K   \u001b[91m━━━━━━━━━━━━━━━━\u001b[0m\u001b[91m╸\u001b[0m\u001b[90m━━━━━━━━━━━━━━━━━━━━━━\u001b[0m \u001b[32m281.8/664.8 MB\u001b[0m \u001b[31m278.8 MB/s\u001b[0m eta \u001b[36m0:00:02\u001b[0m\r\u001b[2K   \u001b[91m━━━━━━━━━━━━━━━━━\u001b[0m\u001b[90m╺\u001b[0m\u001b[90m━━━━━━━━━━━━━━━━━━━━━\u001b[0m \u001b[32m290.6/664.8 MB\u001b[0m \u001b[31m256.5 MB/s\u001b[0m eta \u001b[36m0:00:02\u001b[0m\r\u001b[2K   \u001b[91m━━━━━━━━━━━━━━━━━\u001b[0m\u001b[91m╸\u001b[0m\u001b[90m━━━━━━━━━━━━━━━━━━━━━\u001b[0m \u001b[32m299.9/664.8 MB\u001b[0m \u001b[31m269.0 MB/s\u001b[0m eta \u001b[36m0:00:02\u001b[0m\r\u001b[2K   \u001b[91m━━━━━━━━━━━━━━━━━━\u001b[0m\u001b[90m╺\u001b[0m\u001b[90m━━━━━━━━━━━━━━━━━━━━\u001b[0m \u001b[32m309.1/664.8 MB\u001b[0m \u001b[31m263.2 MB/s\u001b[0m eta \u001b[36m0:00:02\u001b[0m\r\u001b[2K   \u001b[91m━━━━━━━━━━━━━━━━━━\u001b[0m\u001b[91m╸\u001b[0m\u001b[90m━━━━━━━━━━━━━━━━━━━━\u001b[0m \u001b[32m318.6/664.8 MB\u001b[0m \u001b[31m274.1 MB/s\u001b[0m eta \u001b[36m0:00:02\u001b[0m\r\u001b[2K   \u001b[91m━━━━━━━━━━━━━━━━━━━\u001b[0m\u001b[90m╺\u001b[0m\u001b[90m━━━━━━━━━━━━━━━━━━━\u001b[0m \u001b[32m328.2/664.8 MB\u001b[0m \u001b[31m276.3 MB/s\u001b[0m eta \u001b[36m0:00:02\u001b[0m\r\u001b[2K   \u001b[91m━━━━━━━━━━━━━━━━━━━\u001b[0m\u001b[91m╸\u001b[0m\u001b[90m━━━━━━━━━━━━━━━━━━━\u001b[0m \u001b[32m337.2/664.8 MB\u001b[0m \u001b[31m264.1 MB/s\u001b[0m eta \u001b[36m0:00:02\u001b[0m\r\u001b[2K   \u001b[91m━━━━━━━━━━━━━━━━━━━━\u001b[0m\u001b[90m╺\u001b[0m\u001b[90m━━━━━━━━━━━━━━━━━━\u001b[0m \u001b[32m346.3/664.8 MB\u001b[0m \u001b[31m262.9 MB/s\u001b[0m eta \u001b[36m0:00:02\u001b[0m\r\u001b[2K   \u001b[91m━━━━━━━━━━━━━━━━━━━━\u001b[0m\u001b[91m╸\u001b[0m\u001b[90m━━━━━━━━━━━━━━━━━━\u001b[0m \u001b[32m355.9/664.8 MB\u001b[0m \u001b[31m260.6 MB/s\u001b[0m eta \u001b[36m0:00:02\u001b[0m\r\u001b[2K   \u001b[91m━━━━━━━━━━━━━━━━━━━━━\u001b[0m\u001b[90m╺\u001b[0m\u001b[90m━━━━━━━━━━━━━━━━━\u001b[0m \u001b[32m364.7/664.8 MB\u001b[0m \u001b[31m258.9 MB/s\u001b[0m eta \u001b[36m0:00:02\u001b[0m\r\u001b[2K   \u001b[91m━━━━━━━━━━━━━━━━━━━━━\u001b[0m\u001b[91m╸\u001b[0m\u001b[90m━━━━━━━━━━━━━━━━━\u001b[0m \u001b[32m374.2/664.8 MB\u001b[0m \u001b[31m265.3 MB/s\u001b[0m eta \u001b[36m0:00:02\u001b[0m\r\u001b[2K   \u001b[91m━━━━━━━━━━━━━━━━━━━━━━\u001b[0m\u001b[90m╺\u001b[0m\u001b[90m━━━━━━━━━━━━━━━━\u001b[0m \u001b[32m383.2/664.8 MB\u001b[0m \u001b[31m260.6 MB/s\u001b[0m eta \u001b[36m0:00:02\u001b[0m\r\u001b[2K   \u001b[91m━━━━━━━━━━━━━━━━━━━━━━━\u001b[0m\u001b[90m╺\u001b[0m\u001b[90m━━━━━━━━━━━━━━━\u001b[0m \u001b[32m393.0/664.8 MB\u001b[0m \u001b[31m281.0 MB/s\u001b[0m eta \u001b[36m0:00:01\u001b[0m\r\u001b[2K   \u001b[91m━━━━━━━━━━━━━━━━━━━━━━━\u001b[0m\u001b[91m╸\u001b[0m\u001b[90m━━━━━━━━━━━━━━━\u001b[0m \u001b[32m401.7/664.8 MB\u001b[0m \u001b[31m252.1 MB/s\u001b[0m eta \u001b[36m0:00:02\u001b[0m\r\u001b[2K   \u001b[91m━━━━━━━━━━━━━━━━━━━━━━━━\u001b[0m\u001b[90m╺\u001b[0m\u001b[90m━━━━━━━━━━━━━━\u001b[0m \u001b[32m411.1/664.8 MB\u001b[0m \u001b[31m268.6 MB/s\u001b[0m eta \u001b[36m0:00:01\u001b[0m\r\u001b[2K   \u001b[91m━━━━━━━━━━━━━━━━━━━━━━━━\u001b[0m\u001b[91m╸\u001b[0m\u001b[90m━━━━━━━━━━━━━━\u001b[0m \u001b[32m420.6/664.8 MB\u001b[0m \u001b[31m267.4 MB/s\u001b[0m eta \u001b[36m0:00:01\u001b[0m\r\u001b[2K   \u001b[91m━━━━━━━━━━━━━━━━━━━━━━━━━\u001b[0m\u001b[90m╺\u001b[0m\u001b[90m━━━━━━━━━━━━━\u001b[0m \u001b[32m430.1/664.8 MB\u001b[0m \u001b[31m275.9 MB/s\u001b[0m eta \u001b[36m0:00:01\u001b[0m\r\u001b[2K   \u001b[91m━━━━━━━━━━━━━━━━━━━━━━━━━\u001b[0m\u001b[91m╸\u001b[0m\u001b[90m━━━━━━━━━━━━━\u001b[0m \u001b[32m439.0/664.8 MB\u001b[0m \u001b[31m258.7 MB/s\u001b[0m eta \u001b[36m0:00:01\u001b[0m\r\u001b[2K   \u001b[91m━━━━━━━━━━━━━━━━━━━━━━━━━━\u001b[0m\u001b[90m╺\u001b[0m\u001b[90m━━━━━━━━━━━━\u001b[0m \u001b[32m448.7/664.8 MB\u001b[0m \u001b[31m277.8 MB/s\u001b[0m eta \u001b[36m0:00:01\u001b[0m\r\u001b[2K   \u001b[91m━━━━━━━━━━━━━━━━━━━━━━━━━━\u001b[0m\u001b[91m╸\u001b[0m\u001b[90m━━━━━━━━━━━━\u001b[0m \u001b[32m458.0/664.8 MB\u001b[0m \u001b[31m267.0 MB/s\u001b[0m eta \u001b[36m0:00:01\u001b[0m\r\u001b[2K   \u001b[91m━━━━━━━━━━━━━━━━━━━━━━━━━━━\u001b[0m\u001b[90m╺\u001b[0m\u001b[90m━━━━━━━━━━━\u001b[0m \u001b[32m466.9/664.8 MB\u001b[0m \u001b[31m262.6 MB/s\u001b[0m eta \u001b[36m0:00:01\u001b[0m\r\u001b[2K   \u001b[91m━━━━━━━━━━━━━━━━━━━━━━━━━━━\u001b[0m\u001b[91m╸\u001b[0m\u001b[90m━━━━━━━━━━━\u001b[0m \u001b[32m475.0/664.8 MB\u001b[0m \u001b[31m241.0 MB/s\u001b[0m eta \u001b[36m0:00:01\u001b[0m\r\u001b[2K   \u001b[91m━━━━━━━━━━━━━━━━━━━━━━━━━━━━\u001b[0m\u001b[90m╺\u001b[0m\u001b[90m━━━━━━━━━━\u001b[0m \u001b[32m483.7/664.8 MB\u001b[0m \u001b[31m252.7 MB/s\u001b[0m eta \u001b[36m0:00:01\u001b[0m\r\u001b[2K   \u001b[91m━━━━━━━━━━━━━━━━━━━━━━━━━━━━\u001b[0m\u001b[91m╸\u001b[0m\u001b[90m━━━━━━━━━━\u001b[0m \u001b[32m492.7/664.8 MB\u001b[0m \u001b[31m257.9 MB/s\u001b[0m eta \u001b[36m0:00:01\u001b[0m\r\u001b[2K   \u001b[91m━━━━━━━━━━━━━━━━━━━━━━━━━━━━━\u001b[0m\u001b[90m╺\u001b[0m\u001b[90m━━━━━━━━━\u001b[0m \u001b[32m501.8/664.8 MB\u001b[0m \u001b[31m263.9 MB/s\u001b[0m eta \u001b[36m0:00:01\u001b[0m\r\u001b[2K   \u001b[91m━━━━━━━━━━━━━━━━━━━━━━━━━━━━━\u001b[0m\u001b[91m╸\u001b[0m\u001b[90m━━━━━━━━━\u001b[0m \u001b[32m510.9/664.8 MB\u001b[0m \u001b[31m257.8 MB/s\u001b[0m eta \u001b[36m0:00:01\u001b[0m\r\u001b[2K   \u001b[91m━━━━━━━━━━━━━━━━━━━━━━━━━━━━━━\u001b[0m\u001b[91m╸\u001b[0m\u001b[90m━━━━━━━━\u001b[0m \u001b[32m520.0/664.8 MB\u001b[0m \u001b[31m259.3 MB/s\u001b[0m eta \u001b[36m0:00:01\u001b[0m\r\u001b[2K   \u001b[91m━━━━━━━━━━━━━━━━━━━━━━━━━━━━━━━\u001b[0m\u001b[90m╺\u001b[0m\u001b[90m━━━━━━━\u001b[0m \u001b[32m529.2/664.8 MB\u001b[0m \u001b[31m261.1 MB/s\u001b[0m eta \u001b[36m0:00:01\u001b[0m\r\u001b[2K   \u001b[91m━━━━━━━━━━━━━━━━━━━━━━━━━━━━━━━\u001b[0m\u001b[91m╸\u001b[0m\u001b[90m━━━━━━━\u001b[0m \u001b[32m537.9/664.8 MB\u001b[0m \u001b[31m250.4 MB/s\u001b[0m eta \u001b[36m0:00:01\u001b[0m\r\u001b[2K   \u001b[91m━━━━━━━━━━━━━━━━━━━━━━━━━━━━━━━━\u001b[0m\u001b[90m╺\u001b[0m\u001b[90m━━━━━━\u001b[0m \u001b[32m546.2/664.8 MB\u001b[0m \u001b[31m238.6 MB/s\u001b[0m eta \u001b[36m0:00:01\u001b[0m\r\u001b[2K   \u001b[91m━━━━━━━━━━━━━━━━━━━━━━━━━━━━━━━━\u001b[0m\u001b[91m╸\u001b[0m\u001b[90m━━━━━━\u001b[0m \u001b[32m555.4/664.8 MB\u001b[0m \u001b[31m267.0 MB/s\u001b[0m eta \u001b[36m0:00:01\u001b[0m\r\u001b[2K   \u001b[91m━━━━━━━━━━━━━━━━━━━━━━━━━━━━━━━━━\u001b[0m\u001b[90m╺\u001b[0m\u001b[90m━━━━━\u001b[0m \u001b[32m565.0/664.8 MB\u001b[0m \u001b[31m276.5 MB/s\u001b[0m eta \u001b[36m0:00:01\u001b[0m\r\u001b[2K   \u001b[91m━━━━━━━━━━━━━━━━━━━━━━━━━━━━━━━━━\u001b[0m\u001b[91m╸\u001b[0m\u001b[90m━━━━━\u001b[0m \u001b[32m574.8/664.8 MB\u001b[0m \u001b[31m280.7 MB/s\u001b[0m eta \u001b[36m0:00:01\u001b[0m\r\u001b[2K   \u001b[91m━━━━━━━━━━━━━━━━━━━━━━━━━━━━━━━━━━\u001b[0m\u001b[90m╺\u001b[0m\u001b[90m━━━━\u001b[0m \u001b[32m583.4/664.8 MB\u001b[0m \u001b[31m252.4 MB/s\u001b[0m eta \u001b[36m0:00:01\u001b[0m\r\u001b[2K   \u001b[91m━━━━━━━━━━━━━━━━━━━━━━━━━━━━━━━━━━\u001b[0m\u001b[91m╸\u001b[0m\u001b[90m━━━━\u001b[0m \u001b[32m592.2/664.8 MB\u001b[0m \u001b[31m250.7 MB/s\u001b[0m eta \u001b[36m0:00:01\u001b[0m\r\u001b[2K   \u001b[91m━━━━━━━━━━━━━━━━━━━━━━━━━━━━━━━━━━━\u001b[0m\u001b[90m╺\u001b[0m\u001b[90m━━━\u001b[0m \u001b[32m600.2/664.8 MB\u001b[0m \u001b[31m236.3 MB/s\u001b[0m eta \u001b[36m0:00:01\u001b[0m\r\u001b[2K   \u001b[91m━━━━━━━━━━━━━━━━━━━━━━━━━━━━━━━━━━━\u001b[0m\u001b[91m╸\u001b[0m\u001b[90m━━━\u001b[0m \u001b[32m609.8/664.8 MB\u001b[0m \u001b[31m274.8 MB/s\u001b[0m eta \u001b[36m0:00:01\u001b[0m\r\u001b[2K   \u001b[91m━━━━━━━━━━━━━━━━━━━━━━━━━━━━━━━━━━━━\u001b[0m\u001b[90m╺\u001b[0m\u001b[90m━━\u001b[0m \u001b[32m619.3/664.8 MB\u001b[0m \u001b[31m274.2 MB/s\u001b[0m eta \u001b[36m0:00:01\u001b[0m\r\u001b[2K   \u001b[91m━━━━━━━━━━━━━━━━━━━━━━━━━━━━━━━━━━━━\u001b[0m\u001b[91m╸\u001b[0m\u001b[90m━━\u001b[0m \u001b[32m628.7/664.8 MB\u001b[0m \u001b[31m273.5 MB/s\u001b[0m eta \u001b[36m0:00:01\u001b[0m\r\u001b[2K   \u001b[91m━━━━━━━━━━━━━━━━━━━━━━━━━━━━━━━━━━━━━\u001b[0m\u001b[90m╺\u001b[0m\u001b[90m━\u001b[0m \u001b[32m637.7/664.8 MB\u001b[0m \u001b[31m261.7 MB/s\u001b[0m eta \u001b[36m0:00:01\u001b[0m\r\u001b[2K   \u001b[91m━━━━━━━━━━━━━━━━━━━━━━━━━━━━━━━━━━━━━\u001b[0m\u001b[91m╸\u001b[0m\u001b[90m━\u001b[0m \u001b[32m646.7/664.8 MB\u001b[0m \u001b[31m255.7 MB/s\u001b[0m eta \u001b[36m0:00:01\u001b[0m\r\u001b[2K   \u001b[91m━━━━━━━━━━━━━━━━━━━━━━━━━━━━━━━━━━━━━━\u001b[0m\u001b[91m╸\u001b[0m \u001b[32m656.3/664.8 MB\u001b[0m \u001b[31m275.8 MB/s\u001b[0m eta \u001b[36m0:00:01\u001b[0m\r\u001b[2K   \u001b[90m━━━━━━━━━━━━━━━━━━━━━━━━━━━━━━━━━━━━━━━\u001b[0m \u001b[32m664.8/664.8 MB\u001b[0m \u001b[31m282.5 MB/s\u001b[0m eta \u001b[36m0:00:00\u001b[0m\r\n\u001b[?25hDownloading nvidia_cufft_cu12-11.0.2.54-py3-none-manylinux1_x86_64.whl (121.6 MB)\r\n\u001b[?25l   \u001b[90m━━━━━━━━━━━━━━━━━━━━━━━━━━━━━━━━━━━━━━━━\u001b[0m \u001b[32m0.0/121.6 MB\u001b[0m \u001b[31m?\u001b[0m eta \u001b[36m-:--:--\u001b[0m\r\u001b[2K   \u001b[91m━━\u001b[0m\u001b[91m╸\u001b[0m\u001b[90m━━━━━━━━━━━━━━━━━━━━━━━━━━━━━━━━━━━━━\u001b[0m \u001b[32m8.5/121.6 MB\u001b[0m \u001b[31m256.1 MB/s\u001b[0m eta \u001b[36m0:00:01\u001b[0m\r\u001b[2K   \u001b[91m━━━━━\u001b[0m\u001b[91m╸\u001b[0m\u001b[90m━━━━━━━━━━━━━━━━━━━━━━━━━━━━━━━━━━\u001b[0m \u001b[32m18.0/121.6 MB\u001b[0m \u001b[31m276.0 MB/s\u001b[0m eta \u001b[36m0:00:01\u001b[0m\r\u001b[2K   \u001b[91m━━━━━━━━━\u001b[0m\u001b[90m╺\u001b[0m\u001b[90m━━━━━━━━━━━━━━━━━━━━━━━━━━━━━━\u001b[0m \u001b[32m27.5/121.6 MB\u001b[0m \u001b[31m274.1 MB/s\u001b[0m eta \u001b[36m0:00:01\u001b[0m\r\u001b[2K   \u001b[91m━━━━━━━━━━━━\u001b[0m\u001b[90m╺\u001b[0m\u001b[90m━━━━━━━━━━━━━━━━━━━━━━━━━━━\u001b[0m \u001b[32m36.6/121.6 MB\u001b[0m \u001b[31m262.4 MB/s\u001b[0m eta \u001b[36m0:00:01\u001b[0m\r\u001b[2K   \u001b[91m━━━━━━━━━━━━━━━\u001b[0m\u001b[90m╺\u001b[0m\u001b[90m━━━━━━━━━━━━━━━━━━━━━━━━\u001b[0m \u001b[32m45.6/121.6 MB\u001b[0m \u001b[31m260.8 MB/s\u001b[0m eta \u001b[36m0:00:01\u001b[0m\r\u001b[2K   \u001b[91m━━━━━━━━━━━━━━━━━\u001b[0m\u001b[91m╸\u001b[0m\u001b[90m━━━━━━━━━━━━━━━━━━━━━━\u001b[0m \u001b[32m54.6/121.6 MB\u001b[0m \u001b[31m251.4 MB/s\u001b[0m eta \u001b[36m0:00:01\u001b[0m\r\u001b[2K   \u001b[91m━━━━━━━━━━━━━━━━━━━━━\u001b[0m\u001b[90m╺\u001b[0m\u001b[90m━━━━━━━━━━━━━━━━━━\u001b[0m \u001b[32m64.4/121.6 MB\u001b[0m \u001b[31m279.8 MB/s\u001b[0m eta \u001b[36m0:00:01\u001b[0m\r\u001b[2K   \u001b[91m━━━━━━━━━━━━━━━━━━━━━━━━\u001b[0m\u001b[90m╺\u001b[0m\u001b[90m━━━━━━━━━━━━━━━\u001b[0m \u001b[32m73.6/121.6 MB\u001b[0m \u001b[31m263.8 MB/s\u001b[0m eta \u001b[36m0:00:01\u001b[0m\r\u001b[2K   \u001b[91m━━━━━━━━━━━━━━━━━━━━━━━━━━━\u001b[0m\u001b[90m╺\u001b[0m\u001b[90m━━━━━━━━━━━━\u001b[0m \u001b[32m82.8/121.6 MB\u001b[0m \u001b[31m265.0 MB/s\u001b[0m eta \u001b[36m0:00:01\u001b[0m\r\u001b[2K   \u001b[91m━━━━━━━━━━━━━━━━━━━━━━━━━━━━━━\u001b[0m\u001b[90m╺\u001b[0m\u001b[90m━━━━━━━━━\u001b[0m \u001b[32m91.4/121.6 MB\u001b[0m \u001b[31m254.4 MB/s\u001b[0m eta \u001b[36m0:00:01\u001b[0m\r\u001b[2K   \u001b[91m━━━━━━━━━━━━━━━━━━━━━━━━━━━━━━━━\u001b[0m\u001b[91m╸\u001b[0m\u001b[90m━━━━━━━\u001b[0m \u001b[32m99.9/121.6 MB\u001b[0m \u001b[31m237.5 MB/s\u001b[0m eta \u001b[36m0:00:01\u001b[0m\r\u001b[2K   \u001b[91m━━━━━━━━━━━━━━━━━━━━━━━━━━━━━━━━━━\u001b[0m\u001b[91m╸\u001b[0m\u001b[90m━━━━\u001b[0m \u001b[32m109.1/121.6 MB\u001b[0m \u001b[31m258.1 MB/s\u001b[0m eta \u001b[36m0:00:01\u001b[0m\r\u001b[2K   \u001b[91m━━━━━━━━━━━━━━━━━━━━━━━━━━━━━━━━━━━━━\u001b[0m\u001b[91m╸\u001b[0m\u001b[90m━\u001b[0m \u001b[32m117.1/121.6 MB\u001b[0m \u001b[31m242.2 MB/s\u001b[0m eta \u001b[36m0:00:01\u001b[0m\r\u001b[2K   \u001b[90m━━━━━━━━━━━━━━━━━━━━━━━━━━━━━━━━━━━━━━━\u001b[0m \u001b[32m121.6/121.6 MB\u001b[0m \u001b[31m253.6 MB/s\u001b[0m eta \u001b[36m0:00:00\u001b[0m\r\n\u001b[?25hDownloading nvidia_curand_cu12-10.3.2.106-py3-none-manylinux1_x86_64.whl (56.5 MB)\r\n\u001b[?25l   \u001b[90m━━━━━━━━━━━━━━━━━━━━━━━━━━━━━━━━━━━━━━━━\u001b[0m \u001b[32m0.0/56.5 MB\u001b[0m \u001b[31m?\u001b[0m eta \u001b[36m-:--:--\u001b[0m\r\u001b[2K   \u001b[91m━━━━━\u001b[0m\u001b[91m╸\u001b[0m\u001b[90m━━━━━━━━━━━━━━━━━━━━━━━━━━━━━━━━━━\u001b[0m \u001b[32m8.3/56.5 MB\u001b[0m \u001b[31m248.1 MB/s\u001b[0m eta \u001b[36m0:00:01\u001b[0m\r\u001b[2K   \u001b[91m━━━━━━━━━━━━\u001b[0m\u001b[91m╸\u001b[0m\u001b[90m━━━━━━━━━━━━━━━━━━━━━━━━━━━\u001b[0m \u001b[32m17.9/56.5 MB\u001b[0m \u001b[31m273.2 MB/s\u001b[0m eta \u001b[36m0:00:01\u001b[0m\r\u001b[2K   \u001b[91m━━━━━━━━━━━━━━━━━━━\u001b[0m\u001b[90m╺\u001b[0m\u001b[90m━━━━━━━━━━━━━━━━━━━━\u001b[0m \u001b[32m27.1/56.5 MB\u001b[0m \u001b[31m266.0 MB/s\u001b[0m eta \u001b[36m0:00:01\u001b[0m\r\u001b[2K   \u001b[91m━━━━━━━━━━━━━━━━━━━━━━━━━\u001b[0m\u001b[91m╸\u001b[0m\u001b[90m━━━━━━━━━━━━━━\u001b[0m \u001b[32m36.1/56.5 MB\u001b[0m \u001b[31m263.3 MB/s\u001b[0m eta \u001b[36m0:00:01\u001b[0m\r\u001b[2K   \u001b[91m━━━━━━━━━━━━━━━━━━━━━━━━━━━━━━━\u001b[0m\u001b[91m╸\u001b[0m\u001b[90m━━━━━━━━\u001b[0m \u001b[32m44.6/56.5 MB\u001b[0m \u001b[31m249.0 MB/s\u001b[0m eta \u001b[36m0:00:01\u001b[0m\r\u001b[2K   \u001b[91m━━━━━━━━━━━━━━━━━━━━━━━━━━━━━━━━━━━━━\u001b[0m\u001b[91m╸\u001b[0m\u001b[90m━━\u001b[0m \u001b[32m53.4/56.5 MB\u001b[0m \u001b[31m257.2 MB/s\u001b[0m eta \u001b[36m0:00:01\u001b[0m\r\u001b[2K   \u001b[90m━━━━━━━━━━━━━━━━━━━━━━━━━━━━━━━━━━━━━━━━\u001b[0m \u001b[32m56.5/56.5 MB\u001b[0m \u001b[31m261.4 MB/s\u001b[0m eta \u001b[36m0:00:00\u001b[0m\r\n\u001b[?25hDownloading nvidia_cusolver_cu12-11.4.5.107-py3-none-manylinux1_x86_64.whl (124.2 MB)\r\n\u001b[?25l   \u001b[90m━━━━━━━━━━━━━━━━━━━━━━━━━━━━━━━━━━━━━━━━\u001b[0m \u001b[32m0.0/124.2 MB\u001b[0m \u001b[31m?\u001b[0m eta \u001b[36m-:--:--\u001b[0m\r\u001b[2K   \u001b[91m━━\u001b[0m\u001b[91m╸\u001b[0m\u001b[90m━━━━━━━━━━━━━━━━━━━━━━━━━━━━━━━━━━━━━\u001b[0m \u001b[32m8.0/124.2 MB\u001b[0m \u001b[31m234.7 MB/s\u001b[0m eta \u001b[36m0:00:01\u001b[0m\r\u001b[2K   \u001b[91m━━━━━\u001b[0m\u001b[90m╺\u001b[0m\u001b[90m━━━━━━━━━━━━━━━━━━━━━━━━━━━━━━━━━━\u001b[0m \u001b[32m16.6/124.2 MB\u001b[0m \u001b[31m255.4 MB/s\u001b[0m eta \u001b[36m0:00:01\u001b[0m\r\u001b[2K   \u001b[91m━━━━━━━\u001b[0m\u001b[90m╺\u001b[0m\u001b[90m━━━━━━━━━━━━━━━━━━━━━━━━━━━━━━━━\u001b[0m \u001b[32m23.1/124.2 MB\u001b[0m \u001b[31m209.8 MB/s\u001b[0m eta \u001b[36m0:00:01\u001b[0m\r\u001b[2K   \u001b[91m━━━━━━━━━\u001b[0m\u001b[90m╺\u001b[0m\u001b[90m━━━━━━━━━━━━━━━━━━━━━━━━━━━━━━\u001b[0m \u001b[32m29.2/124.2 MB\u001b[0m \u001b[31m175.2 MB/s\u001b[0m eta \u001b[36m0:00:01\u001b[0m\r\u001b[2K   \u001b[91m━━━━━━━━━━━━\u001b[0m\u001b[90m╺\u001b[0m\u001b[90m━━━━━━━━━━━━━━━━━━━━━━━━━━━\u001b[0m \u001b[32m38.6/124.2 MB\u001b[0m \u001b[31m272.1 MB/s\u001b[0m eta \u001b[36m0:00:01\u001b[0m\r\u001b[2K   \u001b[91m━━━━━━━━━━━━━━━\u001b[0m\u001b[91m╸\u001b[0m\u001b[90m━━━━━━━━━━━━━━━━━━━━━━━━\u001b[0m \u001b[32m48.5/124.2 MB\u001b[0m \u001b[31m284.8 MB/s\u001b[0m eta \u001b[36m0:00:01\u001b[0m\r\u001b[2K   \u001b[91m━━━━━━━━━━━━━━━━━━\u001b[0m\u001b[91m╸\u001b[0m\u001b[90m━━━━━━━━━━━━━━━━━━━━━\u001b[0m \u001b[32m57.9/124.2 MB\u001b[0m \u001b[31m273.0 MB/s\u001b[0m eta \u001b[36m0:00:01\u001b[0m\r\u001b[2K   \u001b[91m━━━━━━━━━━━━━━━━━━━━\u001b[0m\u001b[90m╺\u001b[0m\u001b[90m━━━━━━━━━━━━━━━━━━━\u001b[0m \u001b[32m62.5/124.2 MB\u001b[0m \u001b[31m184.8 MB/s\u001b[0m eta \u001b[36m0:00:01\u001b[0m\r\u001b[2K   \u001b[91m━━━━━━━━━━━━━━━━━━━━━━━\u001b[0m\u001b[90m╺\u001b[0m\u001b[90m━━━━━━━━━━━━━━━━\u001b[0m \u001b[32m71.5/124.2 MB\u001b[0m \u001b[31m239.7 MB/s\u001b[0m eta \u001b[36m0:00:01\u001b[0m\r\u001b[2K   \u001b[91m━━━━━━━━━━━━━━━━━━━━━━━━━━\u001b[0m\u001b[90m╺\u001b[0m\u001b[90m━━━━━━━━━━━━━\u001b[0m \u001b[32m80.8/124.2 MB\u001b[0m \u001b[31m269.0 MB/s\u001b[0m eta \u001b[36m0:00:01\u001b[0m\r\u001b[2K   \u001b[91m━━━━━━━━━━━━━━━━━━━━━━━━━━━━━\u001b[0m\u001b[90m╺\u001b[0m\u001b[90m━━━━━━━━━━\u001b[0m \u001b[32m90.2/124.2 MB\u001b[0m \u001b[31m266.0 MB/s\u001b[0m eta \u001b[36m0:00:01\u001b[0m\r\u001b[2K   \u001b[91m━━━━━━━━━━━━━━━━━━━━━━━━━━━━━━━\u001b[0m\u001b[91m╸\u001b[0m\u001b[90m━━━━━━━━\u001b[0m \u001b[32m98.9/124.2 MB\u001b[0m \u001b[31m254.5 MB/s\u001b[0m eta \u001b[36m0:00:01\u001b[0m\r\u001b[2K   \u001b[91m━━━━━━━━━━━━━━━━━━━━━━━━━━━━━━━━━\u001b[0m\u001b[91m╸\u001b[0m\u001b[90m━━━━━\u001b[0m \u001b[32m107.9/124.2 MB\u001b[0m \u001b[31m257.2 MB/s\u001b[0m eta \u001b[36m0:00:01\u001b[0m\r\u001b[2K   \u001b[91m━━━━━━━━━━━━━━━━━━━━━━━━━━━━━━━━━━━━\u001b[0m\u001b[91m╸\u001b[0m\u001b[90m━━\u001b[0m \u001b[32m116.7/124.2 MB\u001b[0m \u001b[31m257.6 MB/s\u001b[0m eta \u001b[36m0:00:01\u001b[0m\r\u001b[2K   \u001b[90m━━━━━━━━━━━━━━━━━━━━━━━━━━━━━━━━━━━━━━━\u001b[0m \u001b[32m124.2/124.2 MB\u001b[0m \u001b[31m272.5 MB/s\u001b[0m eta \u001b[36m0:00:00\u001b[0m\r\n\u001b[?25hDownloading nvidia_cusparse_cu12-12.1.0.106-py3-none-manylinux1_x86_64.whl (196.0 MB)\r\n\u001b[?25l   \u001b[90m━━━━━━━━━━━━━━━━━━━━━━━━━━━━━━━━━━━━━━━━\u001b[0m \u001b[32m0.0/196.0 MB\u001b[0m \u001b[31m?\u001b[0m eta \u001b[36m-:--:--\u001b[0m\r\u001b[2K   \u001b[91m━\u001b[0m\u001b[91m╸\u001b[0m\u001b[90m━━━━━━━━━━━━━━━━━━━━━━━━━━━━━━━━━━━━━━\u001b[0m \u001b[32m9.1/196.0 MB\u001b[0m \u001b[31m273.8 MB/s\u001b[0m eta \u001b[36m0:00:01\u001b[0m\r\u001b[2K   \u001b[91m━━━\u001b[0m\u001b[91m╸\u001b[0m\u001b[90m━━━━━━━━━━━━━━━━━━━━━━━━━━━━━━━━━━━━\u001b[0m \u001b[32m18.4/196.0 MB\u001b[0m \u001b[31m268.4 MB/s\u001b[0m eta \u001b[36m0:00:01\u001b[0m\r\u001b[2K   \u001b[91m━━━━━\u001b[0m\u001b[91m╸\u001b[0m\u001b[90m━━━━━━━━━━━━━━━━━━━━━━━━━━━━━━━━━━\u001b[0m \u001b[32m27.9/196.0 MB\u001b[0m \u001b[31m273.8 MB/s\u001b[0m eta \u001b[36m0:00:01\u001b[0m\r\u001b[2K   \u001b[91m━━━━━━━\u001b[0m\u001b[91m╸\u001b[0m\u001b[90m━━━━━━━━━━━━━━━━━━━━━━━━━━━━━━━━\u001b[0m \u001b[32m37.9/196.0 MB\u001b[0m \u001b[31m281.6 MB/s\u001b[0m eta \u001b[36m0:00:01\u001b[0m\r\u001b[2K   \u001b[91m━━━━━━━━━\u001b[0m\u001b[91m╸\u001b[0m\u001b[90m━━━━━━━━━━━━━━━━━━━━━━━━━━━━━━\u001b[0m \u001b[32m47.6/196.0 MB\u001b[0m \u001b[31m278.0 MB/s\u001b[0m eta \u001b[36m0:00:01\u001b[0m\r\u001b[2K   \u001b[91m━━━━━━━━━━━\u001b[0m\u001b[91m╸\u001b[0m\u001b[90m━━━━━━━━━━━━━━━━━━━━━━━━━━━━\u001b[0m \u001b[32m57.5/196.0 MB\u001b[0m \u001b[31m286.3 MB/s\u001b[0m eta \u001b[36m0:00:01\u001b[0m\r\u001b[2K   \u001b[91m━━━━━━━━━━━━━\u001b[0m\u001b[90m╺\u001b[0m\u001b[90m━━━━━━━━━━━━━━━━━━━━━━━━━━\u001b[0m \u001b[32m66.0/196.0 MB\u001b[0m \u001b[31m253.7 MB/s\u001b[0m eta \u001b[36m0:00:01\u001b[0m\r\u001b[2K   \u001b[91m━━━━━━━━━━━━━━━\u001b[0m\u001b[90m╺\u001b[0m\u001b[90m━━━━━━━━━━━━━━━━━━━━━━━━\u001b[0m \u001b[32m74.9/196.0 MB\u001b[0m \u001b[31m256.8 MB/s\u001b[0m eta \u001b[36m0:00:01\u001b[0m\r\u001b[2K   \u001b[91m━━━━━━━━━━━━━━━━━\u001b[0m\u001b[90m╺\u001b[0m\u001b[90m━━━━━━━━━━━━━━━━━━━━━━\u001b[0m \u001b[32m84.0/196.0 MB\u001b[0m \u001b[31m260.5 MB/s\u001b[0m eta \u001b[36m0:00:01\u001b[0m\r\u001b[2K   \u001b[91m━━━━━━━━━━━━━━━━━━━\u001b[0m\u001b[90m╺\u001b[0m\u001b[90m━━━━━━━━━━━━━━━━━━━━\u001b[0m \u001b[32m93.5/196.0 MB\u001b[0m \u001b[31m270.2 MB/s\u001b[0m eta \u001b[36m0:00:01\u001b[0m\r\u001b[2K   \u001b[91m━━━━━━━━━━━━━━━━━━━━\u001b[0m\u001b[90m╺\u001b[0m\u001b[90m━━━━━━━━━━━━━━━━━━\u001b[0m \u001b[32m102.6/196.0 MB\u001b[0m \u001b[31m265.6 MB/s\u001b[0m eta \u001b[36m0:00:01\u001b[0m\r\u001b[2K   \u001b[91m━━━━━━━━━━━━━━━━━━━━━━\u001b[0m\u001b[90m╺\u001b[0m\u001b[90m━━━━━━━━━━━━━━━━\u001b[0m \u001b[32m111.7/196.0 MB\u001b[0m \u001b[31m263.6 MB/s\u001b[0m eta \u001b[36m0:00:01\u001b[0m\r\u001b[2K   \u001b[91m━━━━━━━━━━━━━━━━━━━━━━━\u001b[0m\u001b[91m╸\u001b[0m\u001b[90m━━━━━━━━━━━━━━━\u001b[0m \u001b[32m120.4/196.0 MB\u001b[0m \u001b[31m254.2 MB/s\u001b[0m eta \u001b[36m0:00:01\u001b[0m\r\u001b[2K   \u001b[91m━━━━━━━━━━━━━━━━━━━━━━━━━\u001b[0m\u001b[91m╸\u001b[0m\u001b[90m━━━━━━━━━━━━━\u001b[0m \u001b[32m129.4/196.0 MB\u001b[0m \u001b[31m256.3 MB/s\u001b[0m eta \u001b[36m0:00:01\u001b[0m\r\u001b[2K   \u001b[91m━━━━━━━━━━━━━━━━━━━━━━━━━━━\u001b[0m\u001b[91m╸\u001b[0m\u001b[90m━━━━━━━━━━━\u001b[0m \u001b[32m138.6/196.0 MB\u001b[0m \u001b[31m264.3 MB/s\u001b[0m eta \u001b[36m0:00:01\u001b[0m\r\u001b[2K   \u001b[91m━━━━━━━━━━━━━━━━━━━━━━━━━━━━━\u001b[0m\u001b[90m╺\u001b[0m\u001b[90m━━━━━━━━━\u001b[0m \u001b[32m147.1/196.0 MB\u001b[0m \u001b[31m248.4 MB/s\u001b[0m eta \u001b[36m0:00:01\u001b[0m\r\u001b[2K   \u001b[91m━━━━━━━━━━━━━━━━━━━━━━━━━━━━━━━\u001b[0m\u001b[90m╺\u001b[0m\u001b[90m━━━━━━━\u001b[0m \u001b[32m156.8/196.0 MB\u001b[0m \u001b[31m277.8 MB/s\u001b[0m eta \u001b[36m0:00:01\u001b[0m\r\u001b[2K   \u001b[91m━━━━━━━━━━━━━━━━━━━━━━━━━━━━━━━━━\u001b[0m\u001b[90m╺\u001b[0m\u001b[90m━━━━━\u001b[0m \u001b[32m166.2/196.0 MB\u001b[0m \u001b[31m270.7 MB/s\u001b[0m eta \u001b[36m0:00:01\u001b[0m\r\u001b[2K   \u001b[91m━━━━━━━━━━━━━━━━━━━━━━━━━━━━━━━━━━\u001b[0m\u001b[91m╸\u001b[0m\u001b[90m━━━━\u001b[0m \u001b[32m175.6/196.0 MB\u001b[0m \u001b[31m274.3 MB/s\u001b[0m eta \u001b[36m0:00:01\u001b[0m\r\u001b[2K   \u001b[91m━━━━━━━━━━━━━━━━━━━━━━━━━━━━━━━━━━━━\u001b[0m\u001b[91m╸\u001b[0m\u001b[90m━━\u001b[0m \u001b[32m185.0/196.0 MB\u001b[0m \u001b[31m268.6 MB/s\u001b[0m eta \u001b[36m0:00:01\u001b[0m\r\u001b[2K   \u001b[91m━━━━━━━━━━━━━━━━━━━━━━━━━━━━━━━━━━━━━━\u001b[0m\u001b[91m╸\u001b[0m \u001b[32m194.3/196.0 MB\u001b[0m \u001b[31m260.2 MB/s\u001b[0m eta \u001b[36m0:00:01\u001b[0m\r\u001b[2K   \u001b[90m━━━━━━━━━━━━━━━━━━━━━━━━━━━━━━━━━━━━━━━\u001b[0m \u001b[32m196.0/196.0 MB\u001b[0m \u001b[31m272.0 MB/s\u001b[0m eta \u001b[36m0:00:00\u001b[0m\r\n\u001b[?25hDownloading nvidia_nccl_cu12-2.20.5-py3-none-manylinux2014_x86_64.whl (176.2 MB)\r\n\u001b[?25l   \u001b[90m━━━━━━━━━━━━━━━━━━━━━━━━━━━━━━━━━━━━━━━━\u001b[0m \u001b[32m0.0/176.2 MB\u001b[0m \u001b[31m?\u001b[0m eta \u001b[36m-:--:--\u001b[0m\r\u001b[2K   \u001b[91m━\u001b[0m\u001b[91m╸\u001b[0m\u001b[90m━━━━━━━━━━━━━━━━━━━━━━━━━━━━━━━━━━━━━━\u001b[0m \u001b[32m8.7/176.2 MB\u001b[0m \u001b[31m260.0 MB/s\u001b[0m eta \u001b[36m0:00:01\u001b[0m\r\u001b[2K   \u001b[91m━━━\u001b[0m\u001b[91m╸\u001b[0m\u001b[90m━━━━━━━━━━━━━━━━━━━━━━━━━━━━━━━━━━━━\u001b[0m \u001b[32m17.4/176.2 MB\u001b[0m \u001b[31m253.9 MB/s\u001b[0m eta \u001b[36m0:00:01\u001b[0m\r\u001b[2K   \u001b[91m━━━━━━\u001b[0m\u001b[90m╺\u001b[0m\u001b[90m━━━━━━━━━━━━━━━━━━━━━━━━━━━━━━━━━\u001b[0m \u001b[32m26.8/176.2 MB\u001b[0m \u001b[31m264.5 MB/s\u001b[0m eta \u001b[36m0:00:01\u001b[0m\r\u001b[2K   \u001b[91m━━━━━━━━\u001b[0m\u001b[90m╺\u001b[0m\u001b[90m━━━━━━━━━━━━━━━━━━━━━━━━━━━━━━━\u001b[0m \u001b[32m35.8/176.2 MB\u001b[0m \u001b[31m255.6 MB/s\u001b[0m eta \u001b[36m0:00:01\u001b[0m\r\u001b[2K   \u001b[91m━━━━━━━━━━\u001b[0m\u001b[90m╺\u001b[0m\u001b[90m━━━━━━━━━━━━━━━━━━━━━━━━━━━━━\u001b[0m \u001b[32m44.4/176.2 MB\u001b[0m \u001b[31m253.7 MB/s\u001b[0m eta \u001b[36m0:00:01\u001b[0m\r\u001b[2K   \u001b[91m━━━━━━━━━━━━\u001b[0m\u001b[90m╺\u001b[0m\u001b[90m━━━━━━━━━━━━━━━━━━━━━━━━━━━\u001b[0m \u001b[32m53.1/176.2 MB\u001b[0m \u001b[31m244.2 MB/s\u001b[0m eta \u001b[36m0:00:01\u001b[0m\r\u001b[2K   \u001b[91m━━━━━━━━━━━━━━\u001b[0m\u001b[90m╺\u001b[0m\u001b[90m━━━━━━━━━━━━━━━━━━━━━━━━━\u001b[0m \u001b[32m62.5/176.2 MB\u001b[0m \u001b[31m274.2 MB/s\u001b[0m eta \u001b[36m0:00:01\u001b[0m\r\u001b[2K   \u001b[91m━━━━━━━━━━━━━━━━\u001b[0m\u001b[90m╺\u001b[0m\u001b[90m━━━━━━━━━━━━━━━━━━━━━━━\u001b[0m \u001b[32m71.4/176.2 MB\u001b[0m \u001b[31m254.1 MB/s\u001b[0m eta \u001b[36m0:00:01\u001b[0m\r\u001b[2K   \u001b[91m━━━━━━━━━━━━━━━━━━\u001b[0m\u001b[90m╺\u001b[0m\u001b[90m━━━━━━━━━━━━━━━━━━━━━\u001b[0m \u001b[32m79.9/176.2 MB\u001b[0m \u001b[31m248.3 MB/s\u001b[0m eta \u001b[36m0:00:01\u001b[0m\r\u001b[2K   \u001b[91m━━━━━━━━━━━━━━━━━━━━\u001b[0m\u001b[90m╺\u001b[0m\u001b[90m━━━━━━━━━━━━━━━━━━━\u001b[0m \u001b[32m88.9/176.2 MB\u001b[0m \u001b[31m262.4 MB/s\u001b[0m eta \u001b[36m0:00:01\u001b[0m\r\u001b[2K   \u001b[91m━━━━━━━━━━━━━━━━━━━━━━\u001b[0m\u001b[90m╺\u001b[0m\u001b[90m━━━━━━━━━━━━━━━━━\u001b[0m \u001b[32m98.3/176.2 MB\u001b[0m \u001b[31m271.0 MB/s\u001b[0m eta \u001b[36m0:00:01\u001b[0m\r\u001b[2K   \u001b[91m━━━━━━━━━━━━━━━━━━━━━━━\u001b[0m\u001b[90m╺\u001b[0m\u001b[90m━━━━━━━━━━━━━━━\u001b[0m \u001b[32m105.8/176.2 MB\u001b[0m \u001b[31m229.6 MB/s\u001b[0m eta \u001b[36m0:00:01\u001b[0m\r\u001b[2K   \u001b[91m━━━━━━━━━━━━━━━━━━━━━━━━━\u001b[0m\u001b[91m╸\u001b[0m\u001b[90m━━━━━━━━━━━━━\u001b[0m \u001b[32m115.3/176.2 MB\u001b[0m \u001b[31m271.9 MB/s\u001b[0m eta \u001b[36m0:00:01\u001b[0m\r\u001b[2K   \u001b[91m━━━━━━━━━━━━━━━━━━━━━━━━━━━\u001b[0m\u001b[91m╸\u001b[0m\u001b[90m━━━━━━━━━━━\u001b[0m \u001b[32m124.8/176.2 MB\u001b[0m \u001b[31m272.1 MB/s\u001b[0m eta \u001b[36m0:00:01\u001b[0m\r\u001b[2K   \u001b[91m━━━━━━━━━━━━━━━━━━━━━━━━━━━━━\u001b[0m\u001b[91m╸\u001b[0m\u001b[90m━━━━━━━━━\u001b[0m \u001b[32m134.0/176.2 MB\u001b[0m \u001b[31m263.6 MB/s\u001b[0m eta \u001b[36m0:00:01\u001b[0m\r\u001b[2K   \u001b[91m━━━━━━━━━━━━━━━━━━━━━━━━━━━━━━━\u001b[0m\u001b[91m╸\u001b[0m\u001b[90m━━━━━━━\u001b[0m \u001b[32m142.6/176.2 MB\u001b[0m \u001b[31m250.0 MB/s\u001b[0m eta \u001b[36m0:00:01\u001b[0m\r\u001b[2K   \u001b[91m━━━━━━━━━━━━━━━━━━━━━━━━━━━━━━━━━\u001b[0m\u001b[91m╸\u001b[0m\u001b[90m━━━━━\u001b[0m \u001b[32m151.5/176.2 MB\u001b[0m \u001b[31m255.7 MB/s\u001b[0m eta \u001b[36m0:00:01\u001b[0m\r\u001b[2K   \u001b[91m━━━━━━━━━━━━━━━━━━━━━━━━━━━━━━━━━━━\u001b[0m\u001b[91m╸\u001b[0m\u001b[90m━━━\u001b[0m \u001b[32m160.6/176.2 MB\u001b[0m \u001b[31m258.2 MB/s\u001b[0m eta \u001b[36m0:00:01\u001b[0m\r\u001b[2K   \u001b[91m━━━━━━━━━━━━━━━━━━━━━━━━━━━━━━━━━━━━━\u001b[0m\u001b[90m╺\u001b[0m\u001b[90m━\u001b[0m \u001b[32m169.2/176.2 MB\u001b[0m \u001b[31m250.9 MB/s\u001b[0m eta \u001b[36m0:00:01\u001b[0m\r\u001b[2K   \u001b[91m━━━━━━━━━━━━━━━━━━━━━━━━━━━━━━━━━━━━━━\u001b[0m\u001b[91m╸\u001b[0m \u001b[32m175.3/176.2 MB\u001b[0m \u001b[31m197.0 MB/s\u001b[0m eta \u001b[36m0:00:01\u001b[0m\r\u001b[2K   \u001b[90m━━━━━━━━━━━━━━━━━━━━━━━━━━━━━━━━━━━━━━━\u001b[0m \u001b[32m176.2/176.2 MB\u001b[0m \u001b[31m174.5 MB/s\u001b[0m eta \u001b[36m0:00:00\u001b[0m\r\n\u001b[?25hDownloading nvidia_nvtx_cu12-12.1.105-py3-none-manylinux1_x86_64.whl (99 kB)\r\n\u001b[?25l   \u001b[90m━━━━━━━━━━━━━━━━━━━━━━━━━━━━━━━━━━━━━━━━\u001b[0m \u001b[32m0.0/99.1 kB\u001b[0m \u001b[31m?\u001b[0m eta \u001b[36m-:--:--\u001b[0m\r\u001b[2K   \u001b[90m━━━━━━━━━━━━━━━━━━━━━━━━━━━━━━━━━━━━━━━━\u001b[0m \u001b[32m99.1/99.1 kB\u001b[0m \u001b[31m253.7 MB/s\u001b[0m eta \u001b[36m0:00:00\u001b[0m\r\n\u001b[?25hDownloading triton-3.0.0-1-cp310-cp310-manylinux2014_x86_64.manylinux_2_17_x86_64.whl (209.4 MB)\r\n\u001b[?25l   \u001b[90m━━━━━━━━━━━━━━━━━━━━━━━━━━━━━━━━━━━━━━━━\u001b[0m \u001b[32m0.0/209.4 MB\u001b[0m \u001b[31m?\u001b[0m eta \u001b[36m-:--:--\u001b[0m\r\u001b[2K   \u001b[91m╸\u001b[0m\u001b[90m━━━━━━━━━━━━━━━━━━━━━━━━━━━━━━━━━━━━━━━\u001b[0m \u001b[32m4.6/209.4 MB\u001b[0m \u001b[31m140.0 MB/s\u001b[0m eta \u001b[36m0:00:02\u001b[0m\r\u001b[2K   \u001b[91m━━\u001b[0m\u001b[90m╺\u001b[0m\u001b[90m━━━━━━━━━━━━━━━━━━━━━━━━━━━━━━━━━━━━━\u001b[0m \u001b[32m10.8/209.4 MB\u001b[0m \u001b[31m157.1 MB/s\u001b[0m eta \u001b[36m0:00:02\u001b[0m\r\u001b[2K   \u001b[91m━━━\u001b[0m\u001b[90m╺\u001b[0m\u001b[90m━━━━━━━━━━━━━━━━━━━━━━━━━━━━━━━━━━━━\u001b[0m \u001b[32m17.0/209.4 MB\u001b[0m \u001b[31m181.0 MB/s\u001b[0m eta \u001b[36m0:00:02\u001b[0m\r\u001b[2K   \u001b[91m━━━━\u001b[0m\u001b[90m╺\u001b[0m\u001b[90m━━━━━━━━━━━━━━━━━━━━━━━━━━━━━━━━━━━\u001b[0m \u001b[32m22.2/209.4 MB\u001b[0m \u001b[31m167.7 MB/s\u001b[0m eta \u001b[36m0:00:02\u001b[0m\r\u001b[2K   \u001b[91m━━━━━\u001b[0m\u001b[90m╺\u001b[0m\u001b[90m━━━━━━━━━━━━━━━━━━━━━━━━━━━━━━━━━━\u001b[0m \u001b[32m27.7/209.4 MB\u001b[0m \u001b[31m153.6 MB/s\u001b[0m eta \u001b[36m0:00:02\u001b[0m\r\u001b[2K   \u001b[91m━━━━━━\u001b[0m\u001b[91m╸\u001b[0m\u001b[90m━━━━━━━━━━━━━━━━━━━━━━━━━━━━━━━━━\u001b[0m \u001b[32m36.0/209.4 MB\u001b[0m \u001b[31m232.6 MB/s\u001b[0m eta \u001b[36m0:00:01\u001b[0m\r\u001b[2K   \u001b[91m━━━━━━━━\u001b[0m\u001b[91m╸\u001b[0m\u001b[90m━━━━━━━━━━━━━━━━━━━━━━━━━━━━━━━\u001b[0m \u001b[32m45.2/209.4 MB\u001b[0m \u001b[31m263.2 MB/s\u001b[0m eta \u001b[36m0:00:01\u001b[0m\r\u001b[2K   \u001b[91m━━━━━━━━━━\u001b[0m\u001b[90m╺\u001b[0m\u001b[90m━━━━━━━━━━━━━━━━━━━━━━━━━━━━━\u001b[0m \u001b[32m54.2/209.4 MB\u001b[0m \u001b[31m261.8 MB/s\u001b[0m eta \u001b[36m0:00:01\u001b[0m\r\u001b[2K   \u001b[91m━━━━━━━━━━━━\u001b[0m\u001b[90m╺\u001b[0m\u001b[90m━━━━━━━━━━━━━━━━━━━━━━━━━━━\u001b[0m \u001b[32m62.9/209.4 MB\u001b[0m \u001b[31m252.1 MB/s\u001b[0m eta \u001b[36m0:00:01\u001b[0m\r\u001b[2K   \u001b[91m━━━━━━━━━━━━━\u001b[0m\u001b[91m╸\u001b[0m\u001b[90m━━━━━━━━━━━━━━━━━━━━━━━━━━\u001b[0m \u001b[32m71.2/209.4 MB\u001b[0m \u001b[31m249.1 MB/s\u001b[0m eta \u001b[36m0:00:01\u001b[0m\r\u001b[2K   \u001b[91m━━━━━━━━━━━━━━━\u001b[0m\u001b[90m╺\u001b[0m\u001b[90m━━━━━━━━━━━━━━━━━━━━━━━━\u001b[0m \u001b[32m80.0/209.4 MB\u001b[0m \u001b[31m248.1 MB/s\u001b[0m eta \u001b[36m0:00:01\u001b[0m\r\u001b[2K   \u001b[91m━━━━━━━━━━━━━━━━━\u001b[0m\u001b[90m╺\u001b[0m\u001b[90m━━━━━━━━━━━━━━━━━━━━━━\u001b[0m \u001b[32m89.5/209.4 MB\u001b[0m \u001b[31m274.4 MB/s\u001b[0m eta \u001b[36m0:00:01\u001b[0m\r\u001b[2K   \u001b[91m━━━━━━━━━━━━━━━━━━\u001b[0m\u001b[91m╸\u001b[0m\u001b[90m━━━━━━━━━━━━━━━━━━━━━\u001b[0m \u001b[32m98.5/209.4 MB\u001b[0m \u001b[31m260.6 MB/s\u001b[0m eta \u001b[36m0:00:01\u001b[0m\r\u001b[2K   \u001b[91m━━━━━━━━━━━━━━━━━━━\u001b[0m\u001b[91m╸\u001b[0m\u001b[90m━━━━━━━━━━━━━━━━━━━\u001b[0m \u001b[32m106.6/209.4 MB\u001b[0m \u001b[31m231.7 MB/s\u001b[0m eta \u001b[36m0:00:01\u001b[0m\r\u001b[2K   \u001b[91m━━━━━━━━━━━━━━━━━━━━━\u001b[0m\u001b[91m╸\u001b[0m\u001b[90m━━━━━━━━━━━━━━━━━\u001b[0m \u001b[32m115.8/209.4 MB\u001b[0m \u001b[31m256.5 MB/s\u001b[0m eta \u001b[36m0:00:01\u001b[0m\r\u001b[2K   \u001b[91m━━━━━━━━━━━━━━━━━━━━━━━\u001b[0m\u001b[90m╺\u001b[0m\u001b[90m━━━━━━━━━━━━━━━\u001b[0m \u001b[32m124.5/209.4 MB\u001b[0m \u001b[31m255.2 MB/s\u001b[0m eta \u001b[36m0:00:01\u001b[0m\r\u001b[2K   \u001b[91m━━━━━━━━━━━━━━━━━━━━━━━━\u001b[0m\u001b[91m╸\u001b[0m\u001b[90m━━━━━━━━━━━━━━\u001b[0m \u001b[32m132.9/209.4 MB\u001b[0m \u001b[31m244.6 MB/s\u001b[0m eta \u001b[36m0:00:01\u001b[0m\r\u001b[2K   \u001b[91m━━━━━━━━━━━━━━━━━━━━━━━━━━\u001b[0m\u001b[90m╺\u001b[0m\u001b[90m━━━━━━━━━━━━\u001b[0m \u001b[32m141.6/209.4 MB\u001b[0m \u001b[31m243.1 MB/s\u001b[0m eta \u001b[36m0:00:01\u001b[0m\r\u001b[2K   \u001b[91m━━━━━━━━━━━━━━━━━━━━━━━━━━━\u001b[0m\u001b[91m╸\u001b[0m\u001b[90m━━━━━━━━━━━\u001b[0m \u001b[32m149.2/209.4 MB\u001b[0m \u001b[31m218.0 MB/s\u001b[0m eta \u001b[36m0:00:01\u001b[0m\r\u001b[2K   \u001b[91m━━━━━━━━━━━━━━━━━━━━━━━━━━━━━\u001b[0m\u001b[91m╸\u001b[0m\u001b[90m━━━━━━━━━\u001b[0m \u001b[32m158.5/209.4 MB\u001b[0m \u001b[31m267.6 MB/s\u001b[0m eta \u001b[36m0:00:01\u001b[0m\r\u001b[2K   \u001b[91m━━━━━━━━━━━━━━━━━━━━━━━━━━━━━━━\u001b[0m\u001b[90m╺\u001b[0m\u001b[90m━━━━━━━\u001b[0m \u001b[32m167.0/209.4 MB\u001b[0m \u001b[31m253.0 MB/s\u001b[0m eta \u001b[36m0:00:01\u001b[0m\r\u001b[2K   \u001b[91m━━━━━━━━━━━━━━━━━━━━━━━━━━━━━━━━\u001b[0m\u001b[91m╸\u001b[0m\u001b[90m━━━━━━\u001b[0m \u001b[32m176.0/209.4 MB\u001b[0m \u001b[31m260.9 MB/s\u001b[0m eta \u001b[36m0:00:01\u001b[0m\r\u001b[2K   \u001b[91m━━━━━━━━━━━━━━━━━━━━━━━━━━━━━━━━━━\u001b[0m\u001b[90m╺\u001b[0m\u001b[90m━━━━\u001b[0m \u001b[32m184.8/209.4 MB\u001b[0m \u001b[31m251.1 MB/s\u001b[0m eta \u001b[36m0:00:01\u001b[0m\r\u001b[2K   \u001b[91m━━━━━━━━━━━━━━━━━━━━━━━━━━━━━━━━━━━━\u001b[0m\u001b[90m╺\u001b[0m\u001b[90m━━\u001b[0m \u001b[32m193.7/209.4 MB\u001b[0m \u001b[31m256.1 MB/s\u001b[0m eta \u001b[36m0:00:01\u001b[0m\r\u001b[2K   \u001b[91m━━━━━━━━━━━━━━━━━━━━━━━━━━━━━━━━━━━━━\u001b[0m\u001b[91m╸\u001b[0m\u001b[90m━\u001b[0m \u001b[32m202.0/209.4 MB\u001b[0m \u001b[31m233.9 MB/s\u001b[0m eta \u001b[36m0:00:01\u001b[0m\r\u001b[2K   \u001b[90m━━━━━━━━━━━━━━━━━━━━━━━━━━━━━━━━━━━━━━━\u001b[0m \u001b[32m209.4/209.4 MB\u001b[0m \u001b[31m271.2 MB/s\u001b[0m eta \u001b[36m0:00:00\u001b[0m\r\n\u001b[?25hDownloading bitarray-2.9.2-cp310-cp310-manylinux_2_17_x86_64.manylinux2014_x86_64.whl (288 kB)\r\n\u001b[?25l   \u001b[90m━━━━━━━━━━━━━━━━━━━━━━━━━━━━━━━━━━━━━━━━\u001b[0m \u001b[32m0.0/288.3 kB\u001b[0m \u001b[31m?\u001b[0m eta \u001b[36m-:--:--\u001b[0m\r\u001b[2K   \u001b[90m━━━━━━━━━━━━━━━━━━━━━━━━━━━━━━━━━━━━━━━\u001b[0m \u001b[32m288.3/288.3 kB\u001b[0m \u001b[31m241.6 MB/s\u001b[0m eta \u001b[36m0:00:00\u001b[0m\r\n\u001b[?25hDownloading tabulate-0.9.0-py3-none-any.whl (35 kB)\r\nDownloading colorama-0.4.6-py2.py3-none-any.whl (25 kB)\r\nDownloading lxml-5.3.0-cp310-cp310-manylinux_2_28_x86_64.whl (5.0 MB)\r\n\u001b[?25l   \u001b[90m━━━━━━━━━━━━━━━━━━━━━━━━━━━━━━━━━━━━━━━━\u001b[0m \u001b[32m0.0/5.0 MB\u001b[0m \u001b[31m?\u001b[0m eta \u001b[36m-:--:--\u001b[0m\r\u001b[2K   \u001b[90m━━━━━━━━━━━━━━━━━━━━━━━━━━━━━━━━━━━━━━━━\u001b[0m \u001b[32m5.0/5.0 MB\u001b[0m \u001b[31m237.6 MB/s\u001b[0m eta \u001b[36m0:00:00\u001b[0m\r\n\u001b[?25hDownloading portalocker-2.10.1-py3-none-any.whl (18 kB)\r\nDownloading nvidia_nvjitlink_cu12-12.6.20-py3-none-manylinux2014_x86_64.whl (19.7 MB)\r\n\u001b[?25l   \u001b[90m━━━━━━━━━━━━━━━━━━━━━━━━━━━━━━━━━━━━━━━━\u001b[0m \u001b[32m0.0/19.7 MB\u001b[0m \u001b[31m?\u001b[0m eta \u001b[36m-:--:--\u001b[0m\r\u001b[2K   \u001b[91m━━━━━━━━━━━━━━━━━\u001b[0m\u001b[91m╸\u001b[0m\u001b[90m━━━━━━━━━━━━━━━━━━━━━━\u001b[0m \u001b[32m8.6/19.7 MB\u001b[0m \u001b[31m257.3 MB/s\u001b[0m eta \u001b[36m0:00:01\u001b[0m\r\u001b[2K   \u001b[91m━━━━━━━━━━━━━━━━━━━━━━━━━━━━━━━━━━━━━\u001b[0m\u001b[90m╺\u001b[0m\u001b[90m━━\u001b[0m \u001b[32m18.3/19.7 MB\u001b[0m \u001b[31m275.6 MB/s\u001b[0m eta \u001b[36m0:00:01\u001b[0m\r\u001b[2K   \u001b[90m━━━━━━━━━━━━━━━━━━━━━━━━━━━━━━━━━━━━━━━━\u001b[0m \u001b[32m19.7/19.7 MB\u001b[0m \u001b[31m278.8 MB/s\u001b[0m eta \u001b[36m0:00:00\u001b[0m\r\n\u001b[?25hBuilding wheels for collected packages: fairseq, antlr4-python3-runtime\r\n  Building wheel for fairseq (pyproject.toml) ... \u001b[?25l-\b \b\\\b \b|\b \b/\b \b-\b \b\\\b \b|\b \b/\b \b-\b \b\\\b \b|\b \b/\b \b-\b \b\\\b \b|\b \b/\b \b-\b \b\\\b \b|\b \b/\b \b-\b \b\\\b \b|\b \b/\b \b-\b \b\\\b \b|\b \b/\b \b-\b \b\\\b \b|\b \b/\b \b-\b \b\\\b \b|\b \b/\b \bdone\r\n\u001b[?25h  Created wheel for fairseq: filename=fairseq-0.12.2-cp310-cp310-linux_x86_64.whl size=10854422 sha256=47d516e2782885ba2bb0d171656ca3f1903c8b2d025dc24f1c26abafb909e6b0\r\n  Stored in directory: /tmp/pip-ephem-wheel-cache-88z8oenl/wheels/e4/35/55/9c66f65ec7c83fd6fbc2b9502a0ac81b2448a1196159dacc32\r\n  Building wheel for antlr4-python3-runtime (pyproject.toml) ... \u001b[?25l-\b \b\\\b \bdone\r\n\u001b[?25h  Created wheel for antlr4-python3-runtime: filename=antlr4_python3_runtime-4.8-py3-none-any.whl size=141210 sha256=2e2bdf79b9fbea8554a350e190b1f3701ff6716ba711c186b428f8ffce0b77ff\r\n  Stored in directory: /tmp/pip-ephem-wheel-cache-88z8oenl/wheels/a7/20/bd/e1477d664f22d99989fd28ee1a43d6633dddb5cb9e801350d5\r\nSuccessfully built fairseq antlr4-python3-runtime\r\n\u001b[33mDEPRECATION: omegaconf 2.0.6 has a non-standard dependency specifier PyYAML>=5.1.*. pip 24.1 will enforce this behaviour change. A possible replacement is to upgrade to a newer version of omegaconf or contact the author to suggest that they release a version with a conforming dependency specifiers. Discussion can be found at https://github.com/pypa/pip/issues/12063\u001b[0m\u001b[33m\r\n\u001b[0mInstalling collected packages: bitarray, antlr4-python3-runtime, triton, tabulate, portalocker, omegaconf, nvidia-nvtx-cu12, nvidia-nvjitlink-cu12, nvidia-nccl-cu12, nvidia-curand-cu12, nvidia-cufft-cu12, nvidia-cuda-runtime-cu12, nvidia-cuda-nvrtc-cu12, nvidia-cuda-cupti-cu12, nvidia-cublas-cu12, lxml, colorama, sacrebleu, nvidia-cusparse-cu12, nvidia-cudnn-cu12, hydra-core, nvidia-cusolver-cu12, torch, torchaudio, fairseq\r\n\u001b[33m  WARNING: The scripts proton and proton-viewer are installed in '/root/.local/bin' which is not on PATH.\r\n  Consider adding this directory to PATH or, if you prefer to suppress this warning, use --no-warn-script-location.\u001b[0m\u001b[33m\r\n\u001b[0m\u001b[33m  WARNING: The script tabulate is installed in '/root/.local/bin' which is not on PATH.\r\n  Consider adding this directory to PATH or, if you prefer to suppress this warning, use --no-warn-script-location.\u001b[0m\u001b[33m\r\n\u001b[0m\u001b[33m  WARNING: The script sacrebleu is installed in '/root/.local/bin' which is not on PATH.\r\n  Consider adding this directory to PATH or, if you prefer to suppress this warning, use --no-warn-script-location.\u001b[0m\u001b[33m\r\n\u001b[0m\u001b[33m  WARNING: The scripts convert-caffe2-to-onnx, convert-onnx-to-caffe2 and torchrun are installed in '/root/.local/bin' which is not on PATH.\r\n  Consider adding this directory to PATH or, if you prefer to suppress this warning, use --no-warn-script-location.\u001b[0m\u001b[33m\r\n\u001b[0m\u001b[33m  WARNING: The scripts fairseq-eval-lm, fairseq-generate, fairseq-hydra-train, fairseq-interactive, fairseq-preprocess, fairseq-score, fairseq-train and fairseq-validate are installed in '/root/.local/bin' which is not on PATH.\r\n  Consider adding this directory to PATH or, if you prefer to suppress this warning, use --no-warn-script-location.\u001b[0m\u001b[33m\r\n\u001b[0mSuccessfully installed antlr4-python3-runtime-4.8 bitarray-2.9.2 colorama-0.4.6 fairseq-0.12.2 hydra-core-1.0.7 lxml-5.3.0 nvidia-cublas-cu12-12.1.3.1 nvidia-cuda-cupti-cu12-12.1.105 nvidia-cuda-nvrtc-cu12-12.1.105 nvidia-cuda-runtime-cu12-12.1.105 nvidia-cudnn-cu12-9.1.0.70 nvidia-cufft-cu12-11.0.2.54 nvidia-curand-cu12-10.3.2.106 nvidia-cusolver-cu12-11.4.5.107 nvidia-cusparse-cu12-12.1.0.106 nvidia-nccl-cu12-2.20.5 nvidia-nvjitlink-cu12-12.6.20 nvidia-nvtx-cu12-12.1.105 omegaconf-2.0.6 portalocker-2.10.1 sacrebleu-2.4.3 tabulate-0.9.0 torch-2.4.0 torchaudio-2.4.0 triton-3.0.0\r\n\r\n\u001b[1m[\u001b[0m\u001b[34;49mnotice\u001b[0m\u001b[1;39;49m]\u001b[0m\u001b[39;49m A new release of pip is available: \u001b[0m\u001b[31;49m24.0\u001b[0m\u001b[39;49m -> \u001b[0m\u001b[32;49m24.2\u001b[0m\r\n\u001b[1m[\u001b[0m\u001b[34;49mnotice\u001b[0m\u001b[1;39;49m]\u001b[0m\u001b[39;49m To update, run: \u001b[0m\u001b[32;49mpip install --upgrade pip\u001b[0m\r\n"
      ]
     },
     "execution_count": null,
     "metadata": {},
     "output_type": "execute_result"
    }
   ],
   "source": [
    "# Attempt 3: fairseq from pip\n",
    "# Installation of fairseq through pip works!\n",
    "!pip install \"pip<24.1\"\n",
    "!pip install fairseq==0.12.2 omegaconf==2.0.6 --user"
   ]
  },
  {
   "cell_type": "markdown",
   "id": "a9aeebec",
   "metadata": {},
   "source": [
    "### Step 12"
   ]
  },
  {
   "cell_type": "markdown",
   "id": "db73c908",
   "metadata": {},
   "source": [
    "**Thought**: [pre-executed by user]"
   ]
  },
  {
   "cell_type": "markdown",
   "id": "538f563e",
   "metadata": {},
   "source": [
    "**Action (None)**:"
   ]
  },
  {
   "cell_type": "code",
   "execution_count": null,
   "id": "265f3fba",
   "metadata": {},
   "outputs": [
    {
     "data": {
      "text/plain": [
       "Name: fairseq\r\nVersion: 0.12.2\r\nSummary: Facebook AI Research Sequence-to-Sequence Toolkit\r\nHome-page: https://github.com/pytorch/fairseq\r\nAuthor: \r\nAuthor-email: \r\nLicense: \r\nLocation: /root/.local/lib/python3.10/site-packages\r\nRequires: bitarray, cffi, cython, hydra-core, numpy, omegaconf, regex, sacrebleu, torch, torchaudio, tqdm\r\nRequired-by: \r\n"
      ]
     },
     "execution_count": null,
     "metadata": {},
     "output_type": "execute_result"
    }
   ],
   "source": [
    "!pip show fairseq"
   ]
  },
  {
   "cell_type": "markdown",
   "id": "c0dac46e",
   "metadata": {},
   "source": [
    "### Step 13"
   ]
  },
  {
   "cell_type": "markdown",
   "id": "64e0b161",
   "metadata": {},
   "source": [
    "**Thought**: [pre-executed by user]"
   ]
  },
  {
   "cell_type": "markdown",
   "id": "98bf7c36",
   "metadata": {},
   "source": [
    "**Action (None)**:"
   ]
  },
  {
   "cell_type": "code",
   "execution_count": null,
   "id": "51b2f2c7",
   "metadata": {},
   "outputs": [
    {
     "data": {
      "text/plain": [
       ""
      ]
     },
     "execution_count": null,
     "metadata": {},
     "output_type": "execute_result"
    }
   ],
   "source": [
    "# # Repository Setup (Contd.)\n",
    "# Installing the `fairseq` package from the Align-to-Distill directory failed!\n",
    "# \n",
    "# Using the given directory by adding the path to it also fails as the dependency `omegaconf` raises runtime disconnected error!\n",
    "# \n",
    "# So install `fairseq` with `pip install` & then copy the given folder to the installation folder."
   ]
  },
  {
   "cell_type": "markdown",
   "id": "645d3082",
   "metadata": {},
   "source": [
    "### Step 14"
   ]
  },
  {
   "cell_type": "markdown",
   "id": "7b325a64",
   "metadata": {},
   "source": [
    "**Thought**: [pre-executed by user]"
   ]
  },
  {
   "cell_type": "markdown",
   "id": "bce74a9d",
   "metadata": {},
   "source": [
    "**Action (None)**:"
   ]
  },
  {
   "cell_type": "code",
   "execution_count": null,
   "id": "50e160c4",
   "metadata": {},
   "outputs": [
    {
     "data": {
      "text/plain": [
       "\u001b[0m\u001b[01;32mCODE_OF_CONDUCT.md\u001b[0m*  RELEASE.md    \u001b[01;32mhubconf.py\u001b[0m*        \u001b[01;32msetup.py\u001b[0m*\r\n\u001b[01;32mCONTRIBUTING.md\u001b[0m*     \u001b[01;34mcustom\u001b[0m/       \u001b[01;32mpyproject.toml\u001b[0m*    \u001b[01;32mtest.sh\u001b[0m*\r\n\u001b[01;32mLICENSE\u001b[0m*             \u001b[01;34mexamples\u001b[0m/     \u001b[01;32mrelease_utils.py\u001b[0m*  \u001b[01;32mtrain.py\u001b[0m*\r\n\u001b[01;32mMANIFEST.in\u001b[0m*         \u001b[01;34mfairseq2\u001b[0m/     \u001b[01;34mscripts\u001b[0m/           \u001b[01;32mtrain_student.sh\u001b[0m*\r\n\u001b[01;32mREADME.md\u001b[0m*           \u001b[01;34mfairseq_cli\u001b[0m/  \u001b[01;32msetup.cfg\u001b[0m*         train_teacher.sh\r\n"
      ]
     },
     "execution_count": null,
     "metadata": {},
     "output_type": "execute_result"
    }
   ],
   "source": [
    "# rename the fairseq folder in the Align-to-Distill repo\n",
    "# or could have a name clash with the pip installed fairseq path\n",
    "!mv fairseq fairseq2\n",
    "%ls"
   ]
  },
  {
   "cell_type": "markdown",
   "id": "810a154d",
   "metadata": {},
   "source": [
    "### Step 15"
   ]
  },
  {
   "cell_type": "markdown",
   "id": "73eba9a7",
   "metadata": {},
   "source": [
    "**Thought**: [pre-executed by user]"
   ]
  },
  {
   "cell_type": "markdown",
   "id": "343721bf",
   "metadata": {},
   "source": [
    "**Action (None)**:"
   ]
  },
  {
   "cell_type": "code",
   "execution_count": null,
   "id": "c579f27b",
   "metadata": {},
   "outputs": [
    {
     "data": {
      "text/plain": [
       "/root/.local/lib/python3.10/site-packages/fairseq\n"
      ]
     },
     "execution_count": null,
     "metadata": {},
     "output_type": "execute_result"
    }
   ],
   "source": [
    "# Find the location of the pip installed fairseq package\n",
    "# !pip show fairseq | grep Location | awk '{print $2}'\n",
    "import subprocess\n",
    "import os\n",
    "\n",
    "# Run the command and capture the output\n",
    "result = subprocess.run(['pip', 'show', 'fairseq'], stdout=subprocess.PIPE, text=True)\n",
    "\n",
    "# Filter the output to get the location\n",
    "LOCAL_PATH = ''\n",
    "for line in result.stdout.splitlines():\n",
    "    if line.startswith('Location:'):\n",
    "        LOCAL_PATH = line.split()[1]\n",
    "\n",
    "# Assign the location to the variable\n",
    "FAIRSEQ_PATH = os.path.join(LOCAL_PATH, 'fairseq')\n",
    "\n",
    "# Print the result\n",
    "print(FAIRSEQ_PATH)\n"
   ]
  },
  {
   "cell_type": "markdown",
   "id": "2b56d2b6",
   "metadata": {},
   "source": [
    "### Step 16"
   ]
  },
  {
   "cell_type": "markdown",
   "id": "b13ea06c",
   "metadata": {},
   "source": [
    "**Thought**: [pre-executed by user]"
   ]
  },
  {
   "cell_type": "markdown",
   "id": "d0f857ff",
   "metadata": {},
   "source": [
    "**Action (None)**:"
   ]
  },
  {
   "cell_type": "code",
   "execution_count": null,
   "id": "84e6c1d3",
   "metadata": {},
   "outputs": [
    {
     "data": {
      "text/plain": [
       "/root/.local/lib/python3.10/site-packages/fairseq\n"
      ]
     },
     "execution_count": null,
     "metadata": {},
     "output_type": "execute_result"
    }
   ],
   "source": [
    "# Add the fairseq path to system path\n",
    "import sys\n",
    "sys.path.append(LOCAL_PATH)\n",
    "\n",
    "# Make sure import fairseq works!!\n",
    "import fairseq\n",
    "print(os.path.dirname(fairseq.__file__))"
   ]
  },
  {
   "cell_type": "markdown",
   "id": "50365a90",
   "metadata": {},
   "source": [
    "### Step 17"
   ]
  },
  {
   "cell_type": "markdown",
   "id": "83151a28",
   "metadata": {},
   "source": [
    "**Thought**: [pre-executed by user]"
   ]
  },
  {
   "cell_type": "markdown",
   "id": "0bf4b597",
   "metadata": {},
   "source": [
    "**Action (None)**:"
   ]
  },
  {
   "cell_type": "code",
   "execution_count": null,
   "id": "b69d67ef",
   "metadata": {},
   "outputs": [
    {
     "data": {
      "text/plain": [
       ""
      ]
     },
     "execution_count": null,
     "metadata": {},
     "output_type": "execute_result"
    }
   ],
   "source": [
    "# Replace the installation fairseq folder with the fairseq2/ folder in Align-Distil/\n",
    "import shutil\n",
    "\n",
    "# Copy the entire folder fairseq2/ to the system installation fairseq folder\n",
    "for filename in os.listdir(\"fairseq2\"):\n",
    "    source = os.path.join(\"fairseq2\", filename)\n",
    "    destination = os.path.join(FAIRSEQ_PATH, filename)\n",
    "    if os.path.isfile(source):\n",
    "        shutil.copy2(source, destination)\n",
    "    elif os.path.isdir(source):\n",
    "      shutil.copytree(source, destination, dirs_exist_ok=True)\n",
    "\n"
   ]
  },
  {
   "cell_type": "markdown",
   "id": "e4d5a2ab",
   "metadata": {},
   "source": [
    "### Step 18"
   ]
  },
  {
   "cell_type": "markdown",
   "id": "c05335ed",
   "metadata": {},
   "source": [
    "**Thought**: [pre-executed by user]"
   ]
  },
  {
   "cell_type": "markdown",
   "id": "11b3215f",
   "metadata": {},
   "source": [
    "**Action (None)**:"
   ]
  },
  {
   "cell_type": "code",
   "execution_count": null,
   "id": "391953d1",
   "metadata": {},
   "outputs": [
    {
     "data": {
      "text/plain": [
       ""
      ]
     },
     "execution_count": null,
     "metadata": {},
     "output_type": "execute_result"
    }
   ],
   "source": [
    "# # Data Preparation"
   ]
  },
  {
   "cell_type": "markdown",
   "id": "3ec6dfc4",
   "metadata": {},
   "source": [
    "### Step 19"
   ]
  },
  {
   "cell_type": "markdown",
   "id": "afdc0082",
   "metadata": {},
   "source": [
    "**Thought**: [pre-executed by user]"
   ]
  },
  {
   "cell_type": "markdown",
   "id": "f474f7aa",
   "metadata": {},
   "source": [
    "**Action (None)**:"
   ]
  },
  {
   "cell_type": "code",
   "execution_count": null,
   "id": "1b49a29f",
   "metadata": {},
   "outputs": [
    {
     "data": {
      "text/plain": [
       "/content/Align-to-Distill/examples/translation\nCloning Moses github repository (for tokenization scripts)...\r\nCloning into 'mosesdecoder'...\r\n/usr/local/lib/python3.10/site-packages/IPython/core/magics/osm.py:417: UserWarning: This is now an optional IPython functionality, setting dhist requires you to install the `pickleshare` library.\n  self.shell.db['dhist'] = compress_dhist(dhist)[-100:]\nremote: Enumerating objects: 148459, done.\u001b[K\r\nremote: Counting objects:   0% (1/887)\u001b[K\rremote: Counting objects:   1% (9/887)\u001b[K\rremote: Counting objects:   2% (18/887)\u001b[K\rremote: Counting objects:   3% (27/887)\u001b[K\rremote: Counting objects:   4% (36/887)\u001b[K\rremote: Counting objects:   5% (45/887)\u001b[K\rremote: Counting objects:   6% (54/887)\u001b[K\rremote: Counting objects:   7% (63/887)\u001b[K\rremote: Counting objects:   8% (71/887)\u001b[K\rremote: Counting objects:   9% (80/887)\u001b[K\rremote: Counting objects:  10% (89/887)\u001b[K\rremote: Counting objects:  11% (98/887)\u001b[K\rremote: Counting objects:  12% (107/887)\u001b[K\rremote: Counting objects:  13% (116/887)\u001b[K\rremote: Counting objects:  14% (125/887)\u001b[K\rremote: Counting objects:  15% (134/887)\u001b[K\rremote: Counting objects:  16% (142/887)\u001b[K\rremote: Counting objects:  17% (151/887)\u001b[K\rremote: Counting objects:  18% (160/887)\u001b[K\rremote: Counting objects:  19% (169/887)\u001b[K\rremote: Counting objects:  20% (178/887)\u001b[K\rremote: Counting objects:  21% (187/887)\u001b[K\rremote: Counting objects:  22% (196/887)\u001b[K\rremote: Counting objects:  23% (205/887)\u001b[K\rremote: Counting objects:  24% (213/887)\u001b[K\rremote: Counting objects:  25% (222/887)\u001b[K\rremote: Counting objects:  26% (231/887)\u001b[K\rremote: Counting objects:  27% (240/887)\u001b[K\rremote: Counting objects:  28% (249/887)\u001b[K\rremote: Counting objects:  29% (258/887)\u001b[K\rremote: Counting objects:  30% (267/887)\u001b[K\rremote: Counting objects:  31% (275/887)\u001b[K\rremote: Counting objects:  32% (284/887)\u001b[K\rremote: Counting objects:  33% (293/887)\u001b[K\rremote: Counting objects:  34% (302/887)\u001b[K\rremote: Counting objects:  35% (311/887)\u001b[K\rremote: Counting objects:  36% (320/887)\u001b[K\rremote: Counting objects:  37% (329/887)\u001b[K\rremote: Counting objects:  38% (338/887)\u001b[K\rremote: Counting objects:  39% (346/887)\u001b[K\rremote: Counting objects:  40% (355/887)\u001b[K\rremote: Counting objects:  41% (364/887)\u001b[K\rremote: Counting objects:  42% (373/887)\u001b[K\rremote: Counting objects:  43% (382/887)\u001b[K\rremote: Counting objects:  44% (391/887)\u001b[K\rremote: Counting objects:  45% (400/887)\u001b[K\rremote: Counting objects:  46% (409/887)\u001b[K\rremote: Counting objects:  47% (417/887)\u001b[K\rremote: Counting objects:  48% (426/887)\u001b[K\rremote: Counting objects:  49% (435/887)\u001b[K\rremote: Counting objects:  50% (444/887)\u001b[K\rremote: Counting objects:  51% (453/887)\u001b[K\rremote: Counting objects:  52% (462/887)\u001b[K\rremote: Counting objects:  53% (471/887)\u001b[K\rremote: Counting objects:  54% (479/887)\u001b[K\rremote: Counting objects:  55% (488/887)\u001b[K\rremote: Counting objects:  56% (497/887)\u001b[K\rremote: Counting objects:  57% (506/887)\u001b[K\rremote: Counting objects:  58% (515/887)\u001b[K\rremote: Counting objects:  59% (524/887)\u001b[K\rremote: Counting objects:  60% (533/887)\u001b[K\rremote: Counting objects:  61% (542/887)\u001b[K\rremote: Counting objects:  62% (550/887)\u001b[K\rremote: Counting objects:  63% (559/887)\u001b[K\rremote: Counting objects:  64% (568/887)\u001b[K\rremote: Counting objects:  65% (577/887)\u001b[K\rremote: Counting objects:  66% (586/887)\u001b[K\rremote: Counting objects:  67% (595/887)\u001b[K\rremote: Counting objects:  68% (604/887)\u001b[K\rremote: Counting objects:  69% (613/887)\u001b[K\rremote: Counting objects:  70% (621/887)\u001b[K\rremote: Counting objects:  71% (630/887)\u001b[K\rremote: Counting objects:  72% (639/887)\u001b[K\rremote: Counting objects:  73% (648/887)\u001b[K\rremote: Counting objects:  74% (657/887)\u001b[K\rremote: Counting objects:  75% (666/887)\u001b[K\rremote: Counting objects:  76% (675/887)\u001b[K\rremote: Counting objects:  77% (683/887)\u001b[K\rremote: Counting objects:  78% (692/887)\u001b[K\rremote: Counting objects:  79% (701/887)\u001b[K\rremote: Counting objects:  80% (710/887)\u001b[K\rremote: Counting objects:  81% (719/887)\u001b[K\rremote: Counting objects:  82% (728/887)\u001b[K\rremote: Counting objects:  83% (737/887)\u001b[K\rremote: Counting objects:  84% (746/887)\u001b[K\rremote: Counting objects:  85% (754/887)\u001b[K\rremote: Counting objects:  86% (763/887)\u001b[K\rremote: Counting objects:  87% (772/887)\u001b[K\rremote: Counting objects:  88% (781/887)\u001b[K\rremote: Counting objects:  89% (790/887)\u001b[K\rremote: Counting objects:  90% (799/887)\u001b[K\rremote: Counting objects:  91% (808/887)\u001b[K\rremote: Counting objects:  92% (817/887)\u001b[K\rremote: Counting objects:  93% (825/887)\u001b[K\rremote: Counting objects:  94% (834/887)\u001b[K\rremote: Counting objects:  95% (843/887)\u001b[K\rremote: Counting objects:  96% (852/887)\u001b[K\rremote: Counting objects:  97% (861/887)\u001b[K\rremote: Counting objects:  98% (870/887)\u001b[K\rremote: Counting objects:  99% (879/887)\u001b[K\rremote: Counting objects: 100% (887/887)\u001b[K\rremote: Counting objects: 100% (887/887), done.\u001b[K\r\nremote: Compressing objects:   0% (1/366)\u001b[K\rremote: Compressing objects:   1% (4/366)\u001b[K\rremote: Compressing objects:   2% (8/366)\u001b[K\rremote: Compressing objects:   3% (11/366)\u001b[K\rremote: Compressing objects:   4% (15/366)\u001b[K\rremote: Compressing objects:   5% (19/366)\u001b[K\rremote: Compressing objects:   6% (22/366)\u001b[K\rremote: Compressing objects:   7% (26/366)\u001b[K\rremote: Compressing objects:   8% (30/366)\u001b[K\rremote: Compressing objects:   9% (33/366)\u001b[K\rremote: Compressing objects:  10% (37/366)\u001b[K\rremote: Compressing objects:  11% (41/366)\u001b[K\rremote: Compressing objects:  12% (44/366)\u001b[K\rremote: Compressing objects:  13% (48/366)\u001b[K\rremote: Compressing objects:  14% (52/366)\u001b[K\rremote: Compressing objects:  15% (55/366)\u001b[K\rremote: Compressing objects:  16% (59/366)\u001b[K\rremote: Compressing objects:  17% (63/366)\u001b[K\rremote: Compressing objects:  18% (66/366)\u001b[K\rremote: Compressing objects:  19% (70/366)\u001b[K\rremote: Compressing objects:  20% (74/366)\u001b[K\rremote: Compressing objects:  21% (77/366)\u001b[K\rremote: Compressing objects:  22% (81/366)\u001b[K\rremote: Compressing objects:  23% (85/366)\u001b[K\rremote: Compressing objects:  24% (88/366)\u001b[K\rremote: Compressing objects:  25% (92/366)\u001b[K\rremote: Compressing objects:  26% (96/366)\u001b[K\rremote: Compressing objects:  27% (99/366)\u001b[K\rremote: Compressing objects:  28% (103/366)\u001b[K\rremote: Compressing objects:  29% (107/366)\u001b[K\rremote: Compressing objects:  30% (110/366)\u001b[K\rremote: Compressing objects:  31% (114/366)\u001b[K\rremote: Compressing objects:  32% (118/366)\u001b[K\rremote: Compressing objects:  33% (121/366)\u001b[K\rremote: Compressing objects:  34% (125/366)\u001b[K\rremote: Compressing objects:  35% (129/366)\u001b[K\rremote: Compressing objects:  36% (132/366)\u001b[K\rremote: Compressing objects:  37% (136/366)\u001b[K\rremote: Compressing objects:  38% (140/366)\u001b[K\rremote: Compressing objects:  39% (143/366)\u001b[K\rremote: Compressing objects:  40% (147/366)\u001b[K\rremote: Compressing objects:  41% (151/366)\u001b[K\rremote: Compressing objects:  42% (154/366)\u001b[K\rremote: Compressing objects:  43% (158/366)\u001b[K\rremote: Compressing objects:  44% (162/366)\u001b[K\rremote: Compressing objects:  45% (165/366)\u001b[K\rremote: Compressing objects:  46% (169/366)\u001b[K\rremote: Compressing objects:  47% (173/366)\u001b[K\rremote: Compressing objects:  48% (176/366)\u001b[K\rremote: Compressing objects:  49% (180/366)\u001b[K\rremote: Compressing objects:  50% (183/366)\u001b[K\rremote: Compressing objects:  51% (187/366)\u001b[K\rremote: Compressing objects:  52% (191/366)\u001b[K\rremote: Compressing objects:  53% (194/366)\u001b[K\rremote: Compressing objects:  54% (198/366)\u001b[K\rremote: Compressing objects:  55% (202/366)\u001b[K\rremote: Compressing objects:  56% (205/366)\u001b[K\rremote: Compressing objects:  57% (209/366)\u001b[K\rremote: Compressing objects:  58% (213/366)\u001b[K\rremote: Compressing objects:  59% (216/366)\u001b[K\rremote: Compressing objects:  60% (220/366)\u001b[K\rremote: Compressing objects:  61% (224/366)\u001b[K\rremote: Compressing objects:  62% (227/366)\u001b[K\rremote: Compressing objects:  63% (231/366)\u001b[K\rremote: Compressing objects:  64% (235/366)\u001b[K\rremote: Compressing objects:  65% (238/366)\u001b[K\rremote: Compressing objects:  66% (242/366)\u001b[K\rremote: Compressing objects:  67% (246/366)\u001b[K\rremote: Compressing objects:  68% (249/366)\u001b[K\rremote: Compressing objects:  69% (253/366)\u001b[K\rremote: Compressing objects:  70% (257/366)\u001b[K\rremote: Compressing objects:  71% (260/366)\u001b[K\rremote: Compressing objects:  72% (264/366)\u001b[K\rremote: Compressing objects:  73% (268/366)\u001b[K\rremote: Compressing objects:  74% (271/366)\u001b[K\rremote: Compressing objects:  75% (275/366)\u001b[K\rremote: Compressing objects:  76% (279/366)\u001b[K\rremote: Compressing objects:  77% (282/366)\u001b[K\rremote: Compressing objects:  78% (286/366)\u001b[K\rremote: Compressing objects:  79% (290/366)\u001b[K\rremote: Compressing objects:  80% (293/366)\u001b[K\rremote: Compressing objects:  81% (297/366)\u001b[K\rremote: Compressing objects:  82% (301/366)\u001b[K\rremote: Compressing objects:  83% (304/366)\u001b[K\rremote: Compressing objects:  84% (308/366)\u001b[K\rremote: Compressing objects:  85% (312/366)\u001b[K\rremote: Compressing objects:  86% (315/366)\u001b[K\rremote: Compressing objects:  87% (319/366)\u001b[K\rremote: Compressing objects:  88% (323/366)\u001b[K\rremote: Compressing objects:  89% (326/366)\u001b[K\rremote: Compressing objects:  90% (330/366)\u001b[K\rremote: Compressing objects:  91% (334/366)\u001b[K\rremote: Compressing objects:  92% (337/366)\u001b[K\rremote: Compressing objects:  93% (341/366)\u001b[K\rremote: Compressing objects:  94% (345/366)\u001b[K\rremote: Compressing objects:  95% (348/366)\u001b[K\rremote: Compressing objects:  96% (352/366)\u001b[K\rremote: Compressing objects:  97% (356/366)\u001b[K\rremote: Compressing objects:  98% (359/366)\u001b[K\rremote: Compressing objects:  99% (363/366)\u001b[K\rremote: Compressing objects: 100% (366/366)\u001b[K\rremote: Compressing objects: 100% (366/366), done.\u001b[K\r\nReceiving objects:   0% (1/148459)\rReceiving objects:   1% (1485/148459)\rReceiving objects:   2% (2970/148459)\rReceiving objects:   3% (4454/148459)\rReceiving objects:   4% (5939/148459)\rReceiving objects:   5% (7423/148459)\rReceiving objects:   6% (8908/148459)\rReceiving objects:   7% (10393/148459)\rReceiving objects:   8% (11877/148459)\rReceiving objects:   9% (13362/148459)\rReceiving objects:  10% (14846/148459)\rReceiving objects:  11% (16331/148459)\rReceiving objects:  12% (17816/148459)\rReceiving objects:  13% (19300/148459)\rReceiving objects:  14% (20785/148459)\rReceiving objects:  15% (22269/148459)\rReceiving objects:  16% (23754/148459)\rReceiving objects:  17% (25239/148459)\rReceiving objects:  18% (26723/148459), 14.25 MiB | 28.55 MiB/s\rReceiving objects:  19% (28208/148459), 14.25 MiB | 28.55 MiB/s\rReceiving objects:  20% (29692/148459), 14.25 MiB | 28.55 MiB/s\rReceiving objects:  21% (31177/148459), 14.25 MiB | 28.55 MiB/s\rReceiving objects:  22% (32661/148459), 14.25 MiB | 28.55 MiB/s\rReceiving objects:  23% (34146/148459), 14.25 MiB | 28.55 MiB/s\rReceiving objects:  24% (35631/148459), 14.25 MiB | 28.55 MiB/s\rReceiving objects:  25% (37115/148459), 14.25 MiB | 28.55 MiB/s\rReceiving objects:  26% (38600/148459), 14.25 MiB | 28.55 MiB/s\rReceiving objects:  27% (40084/148459), 14.25 MiB | 28.55 MiB/s\rReceiving objects:  28% (41569/148459), 14.25 MiB | 28.55 MiB/s\rReceiving objects:  28% (42740/148459), 31.61 MiB | 31.64 MiB/s\rReceiving objects:  29% (43054/148459), 31.61 MiB | 31.64 MiB/s\rReceiving objects:  30% (44538/148459), 31.61 MiB | 31.64 MiB/s\rReceiving objects:  31% (46023/148459), 31.61 MiB | 31.64 MiB/s\rReceiving objects:  32% (47507/148459), 31.61 MiB | 31.64 MiB/s\rReceiving objects:  33% (48992/148459), 31.61 MiB | 31.64 MiB/s\rReceiving objects:  34% (50477/148459), 31.61 MiB | 31.64 MiB/s\rReceiving objects:  35% (51961/148459), 31.61 MiB | 31.64 MiB/s\rReceiving objects:  36% (53446/148459), 47.35 MiB | 31.58 MiB/s\rReceiving objects:  37% (54930/148459), 47.35 MiB | 31.58 MiB/s\rReceiving objects:  38% (56415/148459), 47.35 MiB | 31.58 MiB/s\rReceiving objects:  39% (57900/148459), 47.35 MiB | 31.58 MiB/s\rReceiving objects:  40% (59384/148459), 47.35 MiB | 31.58 MiB/s\rReceiving objects:  41% (60869/148459), 47.35 MiB | 31.58 MiB/s\rReceiving objects:  42% (62353/148459), 47.35 MiB | 31.58 MiB/s\rReceiving objects:  43% (63838/148459), 47.35 MiB | 31.58 MiB/s\rReceiving objects:  44% (65322/148459), 47.35 MiB | 31.58 MiB/s\rReceiving objects:  45% (66807/148459), 47.35 MiB | 31.58 MiB/s\rReceiving objects:  46% (68292/148459), 47.35 MiB | 31.58 MiB/s\rReceiving objects:  47% (69776/148459), 47.35 MiB | 31.58 MiB/s\rReceiving objects:  48% (71261/148459), 47.35 MiB | 31.58 MiB/s\rReceiving objects:  49% (72745/148459), 47.35 MiB | 31.58 MiB/s\rReceiving objects:  50% (74230/148459), 47.35 MiB | 31.58 MiB/s\rReceiving objects:  51% (75715/148459), 47.35 MiB | 31.58 MiB/s\rReceiving objects:  52% (77199/148459), 47.35 MiB | 31.58 MiB/s\rReceiving objects:  53% (78684/148459), 47.35 MiB | 31.58 MiB/s\rReceiving objects:  54% (80168/148459), 47.35 MiB | 31.58 MiB/s\rReceiving objects:  55% (81653/148459), 47.35 MiB | 31.58 MiB/s\rReceiving objects:  56% (83138/148459), 47.35 MiB | 31.58 MiB/s\rReceiving objects:  57% (84622/148459), 47.35 MiB | 31.58 MiB/s\rReceiving objects:  58% (86107/148459), 47.35 MiB | 31.58 MiB/s\rReceiving objects:  59% (87591/148459), 47.35 MiB | 31.58 MiB/s\rReceiving objects:  60% (89076/148459), 47.35 MiB | 31.58 MiB/s\rReceiving objects:  61% (90560/148459), 47.35 MiB | 31.58 MiB/s\rReceiving objects:  62% (92045/148459), 47.35 MiB | 31.58 MiB/s\rReceiving objects:  63% (93530/148459), 47.35 MiB | 31.58 MiB/s\rReceiving objects:  64% (95014/148459), 47.35 MiB | 31.58 MiB/s\rReceiving objects:  65% (96499/148459), 47.35 MiB | 31.58 MiB/s\rReceiving objects:  66% (97983/148459), 47.35 MiB | 31.58 MiB/s\rReceiving objects:  67% (99468/148459), 47.35 MiB | 31.58 MiB/s\rReceiving objects:  68% (100953/148459), 47.35 MiB | 31.58 MiB/s\rReceiving objects:  69% (102437/148459), 47.35 MiB | 31.58 MiB/s\rReceiving objects:  70% (103922/148459), 47.35 MiB | 31.58 MiB/s\rReceiving objects:  71% (105406/148459), 47.35 MiB | 31.58 MiB/s\rReceiving objects:  72% (106891/148459), 47.35 MiB | 31.58 MiB/s\rReceiving objects:  73% (108376/148459), 47.35 MiB | 31.58 MiB/s\rReceiving objects:  74% (109860/148459), 47.35 MiB | 31.58 MiB/s\rReceiving objects:  75% (111345/148459), 47.35 MiB | 31.58 MiB/s\rReceiving objects:  75% (112747/148459), 66.40 MiB | 33.21 MiB/s\rReceiving objects:  76% (112829/148459), 75.74 MiB | 30.30 MiB/s\rReceiving objects:  77% (114314/148459), 75.74 MiB | 30.30 MiB/s\rReceiving objects:  78% (115799/148459), 75.74 MiB | 30.30 MiB/s\rReceiving objects:  78% (116529/148459), 75.74 MiB | 30.30 MiB/s\rReceiving objects:  79% (117283/148459), 85.71 MiB | 28.58 MiB/s\rReceiving objects:  80% (118768/148459), 85.71 MiB | 28.58 MiB/s\rReceiving objects:  81% (120252/148459), 85.71 MiB | 28.58 MiB/s\rReceiving objects:  82% (121737/148459), 85.71 MiB | 28.58 MiB/s\rReceiving objects:  83% (123221/148459), 85.71 MiB | 28.58 MiB/s\rReceiving objects:  84% (124706/148459), 85.71 MiB | 28.58 MiB/s\rReceiving objects:  85% (126191/148459), 85.71 MiB | 28.58 MiB/s\rReceiving objects:  86% (127675/148459), 110.20 MiB | 31.50 MiB/s\rReceiving objects:  86% (128687/148459), 123.73 MiB | 30.94 MiB/s\rReceiving objects:  87% (129160/148459), 123.73 MiB | 30.94 MiB/s\rReceiving objects:  88% (130644/148459), 123.73 MiB | 30.94 MiB/s\rReceiving objects:  89% (132129/148459), 123.73 MiB | 30.94 MiB/s\rReceiving objects:  90% (133614/148459), 123.73 MiB | 30.94 MiB/s\rReceiving objects:  91% (135098/148459), 123.73 MiB | 30.94 MiB/s\rReceiving objects:  92% (136583/148459), 123.73 MiB | 30.94 MiB/s\rReceiving objects:  93% (138067/148459), 123.73 MiB | 30.94 MiB/s\rReceiving objects:  94% (139552/148459), 123.73 MiB | 30.94 MiB/s\rReceiving objects:  95% (141037/148459), 123.73 MiB | 30.94 MiB/s\rReceiving objects:  96% (142521/148459), 123.73 MiB | 30.94 MiB/s\rReceiving objects:  97% (144006/148459), 123.73 MiB | 30.94 MiB/s\rReceiving objects:  98% (145490/148459), 123.73 MiB | 30.94 MiB/s\rReceiving objects:  99% (146975/148459), 123.73 MiB | 30.94 MiB/s\rremote: Total 148459 (delta 565), reused 797 (delta 517), pack-reused 147572 (from 1)\u001b[K\r\nReceiving objects: 100% (148459/148459), 123.73 MiB | 30.94 MiB/s\rReceiving objects: 100% (148459/148459), 129.99 MiB | 31.06 MiB/s, done.\r\nResolving deltas:   0% (0/114591)\rResolving deltas:   1% (1146/114591)\rResolving deltas:   2% (2292/114591)\rResolving deltas:   3% (3438/114591)\rResolving deltas:   4% (4585/114591)\rResolving deltas:   5% (5730/114591)\rResolving deltas:   6% (6876/114591)\rResolving deltas:   7% (8022/114591)\rResolving deltas:   8% (9168/114591)\rResolving deltas:   9% (10314/114591)\rResolving deltas:  10% (11460/114591)\rResolving deltas:  11% (12606/114591)\rResolving deltas:  12% (13751/114591)\rResolving deltas:  13% (14897/114591)\rResolving deltas:  14% (16043/114591)\rResolving deltas:  15% (17189/114591)\rResolving deltas:  16% (18335/114591)\rResolving deltas:  17% (19481/114591)\rResolving deltas:  18% (20627/114591)\rResolving deltas:  19% (21773/114591)\rResolving deltas:  20% (22919/114591)\rResolving deltas:  21% (24065/114591)\rResolving deltas:  22% (25211/114591)\rResolving deltas:  23% (26356/114591)\rResolving deltas:  24% (27502/114591)\rResolving deltas:  25% (28648/114591)\rResolving deltas:  26% (29794/114591)\rResolving deltas:  27% (30940/114591)\rResolving deltas:  28% (32086/114591)\rResolving deltas:  29% (33232/114591)\rResolving deltas:  30% (34378/114591)\rResolving deltas:  31% (35524/114591)\rResolving deltas:  32% (36670/114591)\rResolving deltas:  33% (37816/114591)\rResolving deltas:  34% (38961/114591)\rResolving deltas:  35% (40107/114591)\rResolving deltas:  36% (41253/114591)\rResolving deltas:  37% (42399/114591)\rResolving deltas:  38% (43545/114591)\rResolving deltas:  39% (44691/114591)\rResolving deltas:  40% (45837/114591)\rResolving deltas:  41% (46983/114591)\rResolving deltas:  42% (48129/114591)\rResolving deltas:  43% (49275/114591)\rResolving deltas:  44% (50421/114591)\rResolving deltas:  45% (51566/114591)\rResolving deltas:  46% (52712/114591)\rResolving deltas:  47% (53858/114591)\rResolving deltas:  48% (55004/114591)\rResolving deltas:  49% (56150/114591)\rResolving deltas:  50% (57296/114591)\rResolving deltas:  51% (58442/114591)\rResolving deltas:  52% (59588/114591)\rResolving deltas:  53% (60734/114591)\rResolving deltas:  53% (61674/114591)\rResolving deltas:  54% (61880/114591)\rResolving deltas:  55% (63026/114591)\rResolving deltas:  56% (64171/114591)\rResolving deltas:  57% (65317/114591)\rResolving deltas:  58% (66463/114591)\rResolving deltas:  59% (67609/114591)\rResolving deltas:  60% (68755/114591)\rResolving deltas:  61% (69901/114591)\rResolving deltas:  62% (71047/114591)\rResolving deltas:  63% (72193/114591)\rResolving deltas:  64% (73339/114591)\rResolving deltas:  65% (74485/114591)\rResolving deltas:  66% (75631/114591)\rResolving deltas:  67% (76776/114591)\rResolving deltas:  68% (77922/114591)\rResolving deltas:  69% (79068/114591)\rResolving deltas:  70% (80214/114591)\rResolving deltas:  71% (81360/114591)\rResolving deltas:  72% (82506/114591)\rResolving deltas:  73% (83652/114591)\rResolving deltas:  74% (84798/114591)\rResolving deltas:  75% (85944/114591)\rResolving deltas:  76% (87090/114591)\rResolving deltas:  77% (88236/114591)\rResolving deltas:  78% (89381/114591)\rResolving deltas:  79% (90527/114591)\rResolving deltas:  80% (91673/114591)\rResolving deltas:  81% (92819/114591)\rResolving deltas:  82% (93965/114591)\rResolving deltas:  83% (95111/114591)\rResolving deltas:  84% (96257/114591)\rResolving deltas:  85% (97403/114591)\rResolving deltas:  86% (98549/114591)\rResolving deltas:  87% (99695/114591)\rResolving deltas:  88% (100841/114591)\rResolving deltas:  89% (101986/114591)\rResolving deltas:  90% (103132/114591)\rResolving deltas:  91% (104278/114591)\rResolving deltas:  92% (105424/114591)\rResolving deltas:  93% (106570/114591)\rResolving deltas:  94% (107716/114591)\rResolving deltas:  95% (108862/114591)\rResolving deltas:  96% (110008/114591)\rResolving deltas:  97% (111154/114591)\rResolving deltas:  98% (112300/114591)\rResolving deltas:  99% (113446/114591)\rResolving deltas: 100% (114591/114591)\rResolving deltas: 100% (114591/114591), done.\r\nCloning Subword NMT repository (for BPE pre-processing)...\r\nCloning into 'subword-nmt'...\r\nremote: Enumerating objects: 622, done.\u001b[K\r\nremote: Counting objects:   2% (1/46)\u001b[K\rremote: Counting objects:   4% (2/46)\u001b[K\rremote: Counting objects:   6% (3/46)\u001b[K\rremote: Counting objects:   8% (4/46)\u001b[K\rremote: Counting objects:  10% (5/46)\u001b[K\rremote: Counting objects:  13% (6/46)\u001b[K\rremote: Counting objects:  15% (7/46)\u001b[K\rremote: Counting objects:  17% (8/46)\u001b[K\rremote: Counting objects:  19% (9/46)\u001b[K\rremote: Counting objects:  21% (10/46)\u001b[K\rremote: Counting objects:  23% (11/46)\u001b[K\rremote: Counting objects:  26% (12/46)\u001b[K\rremote: Counting objects:  28% (13/46)\u001b[K\rremote: Counting objects:  30% (14/46)\u001b[K\rremote: Counting objects:  32% (15/46)\u001b[K\rremote: Counting objects:  34% (16/46)\u001b[K\rremote: Counting objects:  36% (17/46)\u001b[K\rremote: Counting objects:  39% (18/46)\u001b[K\rremote: Counting objects:  41% (19/46)\u001b[K\rremote: Counting objects:  43% (20/46)\u001b[K\rremote: Counting objects:  45% (21/46)\u001b[K\rremote: Counting objects:  47% (22/46)\u001b[K\rremote: Counting objects:  50% (23/46)\u001b[K\rremote: Counting objects:  52% (24/46)\u001b[K\rremote: Counting objects:  54% (25/46)\u001b[K\rremote: Counting objects:  56% (26/46)\u001b[K\rremote: Counting objects:  58% (27/46)\u001b[K\rremote: Counting objects:  60% (28/46)\u001b[K\rremote: Counting objects:  63% (29/46)\u001b[K\rremote: Counting objects:  65% (30/46)\u001b[K\rremote: Counting objects:  67% (31/46)\u001b[K\rremote: Counting objects:  69% (32/46)\u001b[K\rremote: Counting objects:  71% (33/46)\u001b[K\rremote: Counting objects:  73% (34/46)\u001b[K\rremote: Counting objects:  76% (35/46)\u001b[K\rremote: Counting objects:  78% (36/46)\u001b[K\rremote: Counting objects:  80% (37/46)\u001b[K\rremote: Counting objects:  82% (38/46)\u001b[K\rremote: Counting objects:  84% (39/46)\u001b[K\rremote: Counting objects:  86% (40/46)\u001b[K\rremote: Counting objects:  89% (41/46)\u001b[K\rremote: Counting objects:  91% (42/46)\u001b[K\rremote: Counting objects:  93% (43/46)\u001b[K\rremote: Counting objects:  95% (44/46)\u001b[K\rremote: Counting objects:  97% (45/46)\u001b[K\rremote: Counting objects: 100% (46/46)\u001b[K\rremote: Counting objects: 100% (46/46), done.\u001b[K\r\nremote: Compressing objects:   3% (1/30)\u001b[K\rremote: Compressing objects:   6% (2/30)\u001b[K\rremote: Compressing objects:  10% (3/30)\u001b[K\rremote: Compressing objects:  13% (4/30)\u001b[K\rremote: Compressing objects:  16% (5/30)\u001b[K\rremote: Compressing objects:  20% (6/30)\u001b[K\rremote: Compressing objects:  23% (7/30)\u001b[K\rremote: Compressing objects:  26% (8/30)\u001b[K\rremote: Compressing objects:  30% (9/30)\u001b[K\rremote: Compressing objects:  33% (10/30)\u001b[K\rremote: Compressing objects:  36% (11/30)\u001b[K\rremote: Compressing objects:  40% (12/30)\u001b[K\rremote: Compressing objects:  43% (13/30)\u001b[K\rremote: Compressing objects:  46% (14/30)\u001b[K\rremote: Compressing objects:  50% (15/30)\u001b[K\rremote: Compressing objects:  53% (16/30)\u001b[K\rremote: Compressing objects:  56% (17/30)\u001b[K\rremote: Compressing objects:  60% (18/30)\u001b[K\rremote: Compressing objects:  63% (19/30)\u001b[K\rremote: Compressing objects:  66% (20/30)\u001b[K\rremote: Compressing objects:  70% (21/30)\u001b[K\rremote: Compressing objects:  73% (22/30)\u001b[K\rremote: Compressing objects:  76% (23/30)\u001b[K\rremote: Compressing objects:  80% (24/30)\u001b[K\rremote: Compressing objects:  83% (25/30)\u001b[K\rremote: Compressing objects:  86% (26/30)\u001b[K\rremote: Compressing objects:  90% (27/30)\u001b[K\rremote: Compressing objects:  93% (28/30)\u001b[K\rremote: Compressing objects:  96% (29/30)\u001b[K\rremote: Compressing objects: 100% (30/30)\u001b[K\rremote: Compressing objects: 100% (30/30), done.\u001b[K\r\nReceiving objects:   0% (1/622)\rReceiving objects:   1% (7/622)\rReceiving objects:   2% (13/622)\rReceiving objects:   3% (19/622)\rReceiving objects:   4% (25/622)\rReceiving objects:   5% (32/622)\rReceiving objects:   6% (38/622)\rReceiving objects:   7% (44/622)\rReceiving objects:   8% (50/622)\rReceiving objects:   9% (56/622)\rReceiving objects:  10% (63/622)\rReceiving objects:  11% (69/622)\rReceiving objects:  12% (75/622)\rReceiving objects:  13% (81/622)\rReceiving objects:  14% (88/622)\rReceiving objects:  15% (94/622)\rReceiving objects:  16% (100/622)\rReceiving objects:  17% (106/622)\rReceiving objects:  18% (112/622)\rReceiving objects:  19% (119/622)\rReceiving objects:  20% (125/622)\rReceiving objects:  21% (131/622)\rReceiving objects:  22% (137/622)\rReceiving objects:  23% (144/622)\rReceiving objects:  24% (150/622)\rReceiving objects:  25% (156/622)\rReceiving objects:  26% (162/622)\rReceiving objects:  27% (168/622)\rReceiving objects:  28% (175/622)\rReceiving objects:  29% (181/622)\rReceiving objects:  30% (187/622)\rReceiving objects:  31% (193/622)\rReceiving objects:  32% (200/622)\rReceiving objects:  33% (206/622)\rReceiving objects:  34% (212/622)\rReceiving objects:  35% (218/622)\rReceiving objects:  36% (224/622)\rReceiving objects:  37% (231/622)\rReceiving objects:  38% (237/622)\rReceiving objects:  39% (243/622)\rReceiving objects:  40% (249/622)\rReceiving objects:  41% (256/622)\rReceiving objects:  42% (262/622)\rReceiving objects:  43% (268/622)\rReceiving objects:  44% (274/622)\rReceiving objects:  45% (280/622)\rReceiving objects:  46% (287/622)\rReceiving objects:  47% (293/622)\rReceiving objects:  48% (299/622)\rReceiving objects:  49% (305/622)\rReceiving objects:  50% (311/622)\rReceiving objects:  51% (318/622)\rReceiving objects:  52% (324/622)\rReceiving objects:  53% (330/622)\rReceiving objects:  54% (336/622)\rReceiving objects:  55% (343/622)\rReceiving objects:  56% (349/622)\rremote: Total 622 (delta 25), reused 31 (delta 16), pack-reused 576 (from 1)\u001b[K\r\nReceiving objects:  57% (355/622)\rReceiving objects:  58% (361/622)\rReceiving objects:  59% (367/622)\rReceiving objects:  60% (374/622)\rReceiving objects:  61% (380/622)\rReceiving objects:  62% (386/622)\rReceiving objects:  63% (392/622)\rReceiving objects:  64% (399/622)\rReceiving objects:  65% (405/622)\rReceiving objects:  66% (411/622)\rReceiving objects:  67% (417/622)\rReceiving objects:  68% (423/622)\rReceiving objects:  69% (430/622)\rReceiving objects:  70% (436/622)\rReceiving objects:  71% (442/622)\rReceiving objects:  72% (448/622)\rReceiving objects:  73% (455/622)\rReceiving objects:  74% (461/622)\rReceiving objects:  75% (467/622)\rReceiving objects:  76% (473/622)\rReceiving objects:  77% (479/622)\rReceiving objects:  78% (486/622)\rReceiving objects:  79% (492/622)\rReceiving objects:  80% (498/622)\rReceiving objects:  81% (504/622)\rReceiving objects:  82% (511/622)\rReceiving objects:  83% (517/622)\rReceiving objects:  84% (523/622)\rReceiving objects:  85% (529/622)\rReceiving objects:  86% (535/622)\rReceiving objects:  87% (542/622)\rReceiving objects:  88% (548/622)\rReceiving objects:  89% (554/622)\rReceiving objects:  90% (560/622)\rReceiving objects:  91% (567/622)\rReceiving objects:  92% (573/622)\rReceiving objects:  93% (579/622)\rReceiving objects:  94% (585/622)\rReceiving objects:  95% (591/622)\rReceiving objects:  96% (598/622)\rReceiving objects:  97% (604/622)\rReceiving objects:  98% (610/622)\rReceiving objects:  99% (616/622)\rReceiving objects: 100% (622/622)\rReceiving objects: 100% (622/622), 261.27 KiB | 18.66 MiB/s, done.\r\nResolving deltas:   0% (0/374)\rResolving deltas:   1% (4/374)\rResolving deltas:   2% (8/374)\rResolving deltas:   3% (12/374)\rResolving deltas:   4% (15/374)\rResolving deltas:   5% (19/374)\rResolving deltas:   6% (23/374)\rResolving deltas:   7% (27/374)\rResolving deltas:   8% (30/374)\rResolving deltas:   9% (34/374)\rResolving deltas:  10% (38/374)\rResolving deltas:  11% (42/374)\rResolving deltas:  12% (45/374)\rResolving deltas:  13% (49/374)\rResolving deltas:  14% (53/374)\rResolving deltas:  15% (57/374)\rResolving deltas:  16% (60/374)\rResolving deltas:  17% (64/374)\rResolving deltas:  18% (68/374)\rResolving deltas:  19% (72/374)\rResolving deltas:  20% (75/374)\rResolving deltas:  21% (79/374)\rResolving deltas:  22% (83/374)\rResolving deltas:  23% (87/374)\rResolving deltas:  24% (90/374)\rResolving deltas:  25% (94/374)\rResolving deltas:  26% (98/374)\rResolving deltas:  27% (101/374)\rResolving deltas:  28% (105/374)\rResolving deltas:  29% (109/374)\rResolving deltas:  30% (113/374)\rResolving deltas:  31% (116/374)\rResolving deltas:  32% (120/374)\rResolving deltas:  33% (124/374)\rResolving deltas:  34% (128/374)\rResolving deltas:  35% (131/374)\rResolving deltas:  36% (135/374)\rResolving deltas:  37% (139/374)\rResolving deltas:  38% (143/374)\rResolving deltas:  39% (146/374)\rResolving deltas:  40% (150/374)\rResolving deltas:  41% (154/374)\rResolving deltas:  42% (158/374)\rResolving deltas:  43% (161/374)\rResolving deltas:  44% (165/374)\rResolving deltas:  45% (169/374)\rResolving deltas:  46% (173/374)\rResolving deltas:  47% (176/374)\rResolving deltas:  48% (180/374)\rResolving deltas:  49% (184/374)\rResolving deltas:  50% (187/374)\rResolving deltas:  51% (191/374)\rResolving deltas:  52% (195/374)\rResolving deltas:  53% (199/374)\rResolving deltas:  54% (202/374)\rResolving deltas:  55% (206/374)\rResolving deltas:  56% (210/374)\rResolving deltas:  57% (214/374)\rResolving deltas:  58% (217/374)\rResolving deltas:  59% (221/374)\rResolving deltas:  60% (225/374)\rResolving deltas:  61% (229/374)\rResolving deltas:  62% (232/374)\rResolving deltas:  63% (236/374)\rResolving deltas:  64% (240/374)\rResolving deltas:  65% (244/374)\rResolving deltas:  66% (247/374)\rResolving deltas:  67% (251/374)\rResolving deltas:  68% (255/374)\rResolving deltas:  69% (259/374)\rResolving deltas:  70% (262/374)\rResolving deltas:  71% (266/374)\rResolving deltas:  72% (270/374)\rResolving deltas:  73% (274/374)\rResolving deltas:  74% (277/374)\rResolving deltas:  75% (281/374)\rResolving deltas:  76% (285/374)\rResolving deltas:  77% (288/374)\rResolving deltas:  78% (292/374)\rResolving deltas:  79% (296/374)\rResolving deltas:  80% (300/374)\rResolving deltas:  81% (303/374)\rResolving deltas:  82% (307/374)\rResolving deltas:  83% (311/374)\rResolving deltas:  84% (315/374)\rResolving deltas:  85% (318/374)\rResolving deltas:  86% (322/374)\rResolving deltas:  87% (326/374)\rResolving deltas:  88% (330/374)\rResolving deltas:  89% (333/374)\rResolving deltas:  90% (337/374)\rResolving deltas:  91% (341/374)\rResolving deltas:  92% (345/374)\rResolving deltas:  93% (348/374)\rResolving deltas:  94% (352/374)\rResolving deltas:  95% (356/374)\rResolving deltas:  96% (360/374)\rResolving deltas:  97% (363/374)\rResolving deltas:  98% (367/374)\rResolving deltas:  99% (371/374)\rResolving deltas: 100% (374/374)\rResolving deltas: 100% (374/374), done.\r\nDownloading data from http://dl.fbaipublicfiles.com/fairseq/data/iwslt14/de-en.tgz...\r\n--2024-08-22 06:03:30--  http://dl.fbaipublicfiles.com/fairseq/data/iwslt14/de-en.tgz\r\nResolving dl.fbaipublicfiles.com (dl.fbaipublicfiles.com)... 18.165.83.91, 18.165.83.79, 18.165.83.44, ...\r\nConnecting to dl.fbaipublicfiles.com (dl.fbaipublicfiles.com)|18.165.83.91|:80... connected.\r\nHTTP request sent, awaiting response... 200 OK\r\nLength: 19982877 (19M) [application/x-tar]\r\nSaving to: ‘de-en.tgz’\r\n\r\n\rde-en.tgz             0%[                    ]       0  --.-KB/s               \rde-en.tgz           100%[===================>]  19.06M  --.-KB/s    in 0.09s   \r\n\r\n2024-08-22 06:03:31 (211 MB/s) - ‘de-en.tgz’ saved [19982877/19982877]\r\n\r\nData successfully downloaded.\r\nde-en/\r\nde-en/IWSLT14.TED.dev2010.de-en.de.xml\r\nde-en/IWSLT14.TED.dev2010.de-en.en.xml\r\nde-en/IWSLT14.TED.tst2010.de-en.de.xml\r\nde-en/IWSLT14.TED.tst2010.de-en.en.xml\r\nde-en/IWSLT14.TED.tst2011.de-en.de.xml\r\nde-en/IWSLT14.TED.tst2011.de-en.en.xml\r\nde-en/IWSLT14.TED.tst2012.de-en.de.xml\r\nde-en/IWSLT14.TED.tst2012.de-en.en.xml\r\nde-en/IWSLT14.TEDX.dev2012.de-en.de.xml\r\nde-en/IWSLT14.TEDX.dev2012.de-en.en.xml\r\nde-en/README\r\nde-en/train.en\r\nde-en/train.tags.de-en.de\r\nde-en/train.tags.de-en.en\r\npre-processing train data...\r\nTokenizer Version 1.1\r\nLanguage: de\r\nNumber of threads: 8\r\n\r\nTokenizer Version 1.1\r\nLanguage: en\r\nNumber of threads: 8\r\n\r\nclean-corpus.perl: processing iwslt14.tokenized.de-en/tmp/train.tags.de-en.tok.de & .en to iwslt14.tokenized.de-en/tmp/train.tags.de-en.clean, cutoff 1-175, ratio 1.5\r\n..........(100000).......\r\nInput sentences: 174443  Output sentences:  167522\r\npre-processing valid/test data...\r\norig/de-en/IWSLT14.TED.dev2010.de-en.de.xml iwslt14.tokenized.de-en/tmp/IWSLT14.TED.dev2010.de-en.de\r\nTokenizer Version 1.1\r\nLanguage: de\r\nNumber of threads: 8\r\n\r\norig/de-en/IWSLT14.TED.tst2010.de-en.de.xml iwslt14.tokenized.de-en/tmp/IWSLT14.TED.tst2010.de-en.de\r\nTokenizer Version 1.1\r\nLanguage: de\r\nNumber of threads: 8\r\n\r\norig/de-en/IWSLT14.TED.tst2011.de-en.de.xml iwslt14.tokenized.de-en/tmp/IWSLT14.TED.tst2011.de-en.de\r\nTokenizer Version 1.1\r\nLanguage: de\r\nNumber of threads: 8\r\n\r\norig/de-en/IWSLT14.TED.tst2012.de-en.de.xml iwslt14.tokenized.de-en/tmp/IWSLT14.TED.tst2012.de-en.de\r\nTokenizer Version 1.1\r\nLanguage: de\r\nNumber of threads: 8\r\n\r\norig/de-en/IWSLT14.TEDX.dev2012.de-en.de.xml iwslt14.tokenized.de-en/tmp/IWSLT14.TEDX.dev2012.de-en.de\r\nTokenizer Version 1.1\r\nLanguage: de\r\nNumber of threads: 8\r\n\r\norig/de-en/IWSLT14.TED.dev2010.de-en.en.xml iwslt14.tokenized.de-en/tmp/IWSLT14.TED.dev2010.de-en.en\r\nTokenizer Version 1.1\r\nLanguage: en\r\nNumber of threads: 8\r\n\r\norig/de-en/IWSLT14.TED.tst2010.de-en.en.xml iwslt14.tokenized.de-en/tmp/IWSLT14.TED.tst2010.de-en.en\r\nTokenizer Version 1.1\r\nLanguage: en\r\nNumber of threads: 8\r\n\r\norig/de-en/IWSLT14.TED.tst2011.de-en.en.xml iwslt14.tokenized.de-en/tmp/IWSLT14.TED.tst2011.de-en.en\r\nTokenizer Version 1.1\r\nLanguage: en\r\nNumber of threads: 8\r\n\r\norig/de-en/IWSLT14.TED.tst2012.de-en.en.xml iwslt14.tokenized.de-en/tmp/IWSLT14.TED.tst2012.de-en.en\r\nTokenizer Version 1.1\r\nLanguage: en\r\nNumber of threads: 8\r\n\r\norig/de-en/IWSLT14.TEDX.dev2012.de-en.en.xml iwslt14.tokenized.de-en/tmp/IWSLT14.TEDX.dev2012.de-en.en\r\nTokenizer Version 1.1\r\nLanguage: en\r\nNumber of threads: 8\r\n\r\ncreating train, valid, test...\r\nlearn_bpe.py on iwslt14.tokenized.de-en/tmp/train.en-de...\r\n\r  0%|                                                 | 0/10000 [00:00<?, ?it/s]\r  0%|                                         | 1/10000 [00:00<23:54,  6.97it/s]\r  0%|                                         | 3/10000 [00:00<17:17,  9.64it/s]\r  0%|                                         | 4/10000 [00:00<24:31,  6.79it/s]\r  0%|                                         | 6/10000 [00:00<24:41,  6.74it/s]\r  0%|                                         | 8/10000 [00:01<21:36,  7.71it/s]\r  0%|                                        | 10/10000 [00:01<16:50,  9.88it/s]\r  0%|                                        | 12/10000 [00:01<14:48, 11.24it/s]\r  0%|                                        | 14/10000 [00:01<14:53, 11.17it/s]\r  0%|                                        | 18/10000 [00:01<10:42, 15.54it/s]\r  0%|                                        | 20/10000 [00:01<11:48, 14.08it/s]\r  0%|1                                       | 25/10000 [00:01<07:49, 21.24it/s]\r  0%|1                                       | 29/10000 [00:02<06:31, 25.45it/s]\r  0%|1                                       | 32/10000 [00:02<06:51, 24.21it/s]\r  0%|1                                       | 38/10000 [00:02<05:19, 31.18it/s]\r  0%|2                                       | 50/10000 [00:02<03:11, 52.01it/s]\r  1%|2                                       | 56/10000 [00:02<04:17, 38.68it/s]\r  1%|2                                       | 61/10000 [00:02<04:03, 40.79it/s]\r  1%|2                                       | 68/10000 [00:02<03:35, 46.15it/s]\r  1%|3                                       | 76/10000 [00:02<03:03, 54.04it/s]\r  1%|3                                       | 84/10000 [00:03<02:53, 57.12it/s]\r  1%|3                                       | 98/10000 [00:03<02:11, 75.55it/s]\r  1%|4                                      | 110/10000 [00:03<01:58, 83.74it/s]\r  1%|4                                      | 119/10000 [00:03<02:21, 69.68it/s]\r  1%|4                                      | 128/10000 [00:03<02:18, 71.17it/s]\r  1%|5                                      | 142/10000 [00:03<01:55, 85.44it/s]\r  2%|6                                     | 163/10000 [00:03<01:25, 115.26it/s]\r  2%|6                                     | 178/10000 [00:03<01:20, 121.78it/s]\r  2%|7                                     | 192/10000 [00:04<01:18, 125.58it/s]\r  2%|7                                     | 206/10000 [00:04<01:19, 123.75it/s]\r  2%|8                                     | 222/10000 [00:04<01:13, 133.42it/s]\r  2%|9                                     | 238/10000 [00:04<01:09, 140.35it/s]\r  3%|9                                     | 256/10000 [00:04<01:04, 151.61it/s]\r  3%|#                                     | 273/10000 [00:04<01:02, 156.52it/s]\r  3%|#1                                    | 292/10000 [00:04<00:58, 165.91it/s]\r  3%|#1                                    | 309/10000 [00:04<00:59, 164.02it/s]\r  3%|#2                                    | 331/10000 [00:04<00:54, 176.29it/s]\r  3%|#3                                    | 349/10000 [00:05<01:00, 159.47it/s]\r  4%|#3                                    | 368/10000 [00:05<00:57, 167.28it/s]\r  4%|#4                                    | 388/10000 [00:05<00:55, 174.24it/s]\r  4%|#5                                    | 408/10000 [00:05<00:53, 180.96it/s]\r  4%|#6                                    | 442/10000 [00:05<00:42, 222.84it/s]\r  5%|#7                                    | 470/10000 [00:05<00:39, 238.26it/s]\r  5%|#9                                    | 500/10000 [00:05<00:37, 255.70it/s]\r  5%|##                                    | 529/10000 [00:05<00:37, 251.82it/s]\r  6%|##1                                   | 563/10000 [00:05<00:34, 273.22it/s]\r  6%|##2                                   | 591/10000 [00:05<00:36, 258.88it/s]\r  6%|##3                                   | 623/10000 [00:06<00:34, 275.39it/s]\r  7%|##5                                   | 663/10000 [00:06<00:30, 308.57it/s]\r  7%|##6                                   | 695/10000 [00:06<00:35, 262.23it/s]\r  7%|##7                                   | 727/10000 [00:06<00:33, 276.36it/s]\r  8%|##9                                   | 765/10000 [00:06<00:30, 301.91it/s]\r  8%|###                                   | 797/10000 [00:06<00:30, 302.98it/s]\r  8%|###1                                  | 832/10000 [00:06<00:29, 315.75it/s]\r  9%|###3                                  | 874/10000 [00:06<00:26, 345.22it/s]\r  9%|###4                                  | 913/10000 [00:06<00:25, 357.88it/s]\r 10%|###6                                  | 959/10000 [00:07<00:23, 383.45it/s]\r 10%|###7                                 | 1000/10000 [00:07<00:23, 388.95it/s]\r 10%|###8                                 | 1049/10000 [00:07<00:21, 418.56it/s]\r 11%|####                                 | 1094/10000 [00:07<00:20, 426.80it/s]\r 11%|####2                                | 1137/10000 [00:07<00:23, 373.17it/s]\r 12%|####3                                | 1182/10000 [00:07<00:22, 392.22it/s]\r 12%|####5                                | 1227/10000 [00:07<00:21, 406.21it/s]\r 13%|####7                                | 1277/10000 [00:07<00:20, 432.45it/s]\r 13%|####9                                | 1330/10000 [00:07<00:18, 460.07it/s]\r 14%|#####1                               | 1381/10000 [00:08<00:18, 474.22it/s]\r 14%|#####3                               | 1441/10000 [00:08<00:16, 510.31it/s]\r 15%|#####5                               | 1493/10000 [00:08<00:16, 509.60it/s]\r 15%|#####7                               | 1545/10000 [00:08<00:17, 496.04it/s]\r 16%|#####9                               | 1595/10000 [00:08<00:17, 490.57it/s]\r 17%|######1                              | 1657/10000 [00:08<00:15, 525.86it/s]\r 17%|######3                              | 1710/10000 [00:08<00:19, 419.48it/s]\r 18%|######5                              | 1779/10000 [00:08<00:16, 485.38it/s]\r 18%|######8                              | 1844/10000 [00:08<00:15, 527.83it/s]\r 19%|#######                              | 1901/10000 [00:09<00:15, 534.82it/s]\r 20%|#######2                             | 1971/10000 [00:09<00:13, 577.85it/s]\r 20%|#######5                             | 2034/10000 [00:09<00:13, 592.56it/s]\r 21%|#######7                             | 2101/10000 [00:09<00:13, 607.33it/s]\r 22%|########                             | 2176/10000 [00:09<00:12, 646.64it/s]\r 22%|########2                            | 2242/10000 [00:09<00:11, 648.13it/s]\r 23%|########5                            | 2308/10000 [00:09<00:11, 642.52it/s]\r 24%|########8                            | 2393/10000 [00:09<00:10, 703.01it/s]\r 25%|#########1                           | 2479/10000 [00:09<00:10, 747.17it/s]\r 26%|#########4                           | 2555/10000 [00:09<00:09, 747.45it/s]\r 26%|#########7                           | 2630/10000 [00:10<00:10, 735.60it/s]\r 27%|##########                           | 2704/10000 [00:10<00:12, 597.41it/s]\r 28%|##########3                          | 2786/10000 [00:10<00:11, 653.52it/s]\r 29%|##########6                          | 2875/10000 [00:10<00:09, 716.24it/s]\r 30%|###########                          | 2973/10000 [00:10<00:08, 788.06it/s]\r 31%|###########3                         | 3079/10000 [00:10<00:08, 864.61it/s]\r 32%|###########7                         | 3184/10000 [00:10<00:07, 916.55it/s]\r 33%|############2                        | 3300/10000 [00:10<00:06, 984.78it/s]\r 34%|############3                       | 3418/10000 [00:10<00:06, 1039.25it/s]\r 35%|############7                       | 3549/10000 [00:11<00:05, 1117.30it/s]\r 37%|#############2                      | 3673/10000 [00:11<00:05, 1153.00it/s]\r 38%|#############7                      | 3810/10000 [00:11<00:05, 1216.84it/s]\r 39%|##############5                      | 3944/10000 [00:11<00:11, 545.43it/s]\r 40%|##############9                      | 4038/10000 [00:11<00:11, 536.19it/s]\r 41%|###############2                     | 4119/10000 [00:12<00:11, 516.15it/s]\r 42%|###############5                     | 4190/10000 [00:12<00:11, 504.11it/s]\r 43%|###############7                     | 4254/10000 [00:12<00:11, 501.35it/s]\r 43%|###############9                     | 4313/10000 [00:12<00:13, 421.73it/s]\r 44%|################1                    | 4366/10000 [00:12<00:12, 440.74it/s]\r 44%|################3                    | 4417/10000 [00:12<00:12, 445.61it/s]\r 45%|################5                    | 4470/10000 [00:12<00:11, 464.44it/s]\r 45%|################7                    | 4522/10000 [00:13<00:11, 477.60it/s]\r 46%|################9                    | 4577/10000 [00:13<00:10, 495.55it/s]\r 46%|#################1                   | 4629/10000 [00:13<00:10, 498.94it/s]\r 47%|#################3                   | 4681/10000 [00:13<00:10, 499.94it/s]\r 47%|#################5                   | 4733/10000 [00:13<00:10, 504.00it/s]\r 48%|#################7                   | 4787/10000 [00:13<00:10, 511.55it/s]\r 48%|#################9                   | 4842/10000 [00:13<00:09, 521.42it/s]\r 49%|##################1                  | 4895/10000 [00:13<00:09, 518.12it/s]\r 50%|##################3                  | 4952/10000 [00:13<00:09, 532.71it/s]\r 50%|##################5                  | 5006/10000 [00:13<00:09, 525.66it/s]\r 51%|##################7                  | 5065/10000 [00:14<00:09, 542.82it/s]\r 51%|##################9                  | 5120/10000 [00:14<00:09, 540.28it/s]\r 52%|###################1                 | 5179/10000 [00:14<00:08, 554.36it/s]\r 52%|###################3                 | 5238/10000 [00:14<00:08, 564.52it/s]\r 53%|###################5                 | 5295/10000 [00:14<00:08, 564.22it/s]\r 54%|###################8                 | 5359/10000 [00:14<00:07, 585.06it/s]\r 54%|####################                 | 5418/10000 [00:14<00:07, 585.46it/s]\r 55%|####################3                | 5491/10000 [00:14<00:07, 627.79it/s]\r 56%|####################6                | 5569/10000 [00:14<00:06, 672.68it/s]\r 56%|####################8                | 5647/10000 [00:14<00:06, 703.97it/s]\r 57%|#####################1               | 5723/10000 [00:15<00:05, 719.91it/s]\r 58%|#####################4               | 5801/10000 [00:15<00:05, 730.90it/s]\r 59%|#####################7               | 5887/10000 [00:15<00:05, 766.72it/s]\r 60%|######################1              | 5975/10000 [00:15<00:05, 800.34it/s]\r 61%|######################4              | 6060/10000 [00:15<00:04, 811.77it/s]\r 61%|######################7              | 6142/10000 [00:15<00:04, 814.04it/s]\r 62%|#######################              | 6232/10000 [00:15<00:04, 839.49it/s]\r 63%|#######################3             | 6322/10000 [00:15<00:04, 855.77it/s]\r 64%|#######################7             | 6410/10000 [00:15<00:04, 861.99it/s]\r 65%|########################             | 6504/10000 [00:15<00:03, 883.32it/s]\r 66%|########################4            | 6601/10000 [00:16<00:03, 907.88it/s]\r 67%|########################7            | 6701/10000 [00:16<00:03, 925.77it/s]\r 68%|#########################1           | 6801/10000 [00:16<00:03, 940.89it/s]\r 69%|#########################5           | 6913/10000 [00:16<00:03, 992.03it/s]\r 70%|#########################9           | 7014/10000 [00:16<00:02, 997.12it/s]\r 71%|##########################3          | 7114/10000 [00:16<00:03, 769.67it/s]\r 72%|##########################7          | 7235/10000 [00:16<00:03, 877.72it/s]\r 74%|###########################2         | 7362/10000 [00:16<00:02, 976.89it/s]\r 75%|##########################9         | 7488/10000 [00:16<00:02, 1053.45it/s]\r 76%|###########################4        | 7627/10000 [00:17<00:02, 1145.00it/s]\r 78%|###########################9        | 7766/10000 [00:17<00:01, 1214.14it/s]\r 79%|############################4       | 7901/10000 [00:17<00:01, 1250.21it/s]\r 81%|#############################       | 8062/10000 [00:17<00:01, 1352.63it/s]\r 82%|#############################5      | 8219/10000 [00:17<00:01, 1416.05it/s]\r 84%|##############################2     | 8397/10000 [00:17<00:01, 1523.44it/s]\r 86%|##############################9     | 8584/10000 [00:17<00:00, 1625.24it/s]\r 88%|###############################6    | 8793/10000 [00:17<00:00, 1762.52it/s]\r 90%|################################5   | 9038/10000 [00:17<00:00, 1966.00it/s]\r 94%|#################################6  | 9356/10000 [00:17<00:00, 2327.24it/s]\r 96%|###################################4 | 9590/10000 [00:18<00:00, 687.21it/s]\r 98%|####################################1| 9762/10000 [00:19<00:00, 649.94it/s]\r 99%|####################################6| 9899/10000 [00:19<00:00, 620.60it/s]\r100%|####################################| 10000/10000 [00:19<00:00, 509.04it/s]\r\napply_bpe.py to train.de...\r\napply_bpe.py to valid.de...\r\napply_bpe.py to test.de...\r\napply_bpe.py to train.en...\r\napply_bpe.py to valid.en...\r\napply_bpe.py to test.en...\r\n"
      ]
     },
     "execution_count": null,
     "metadata": {},
     "output_type": "execute_result"
    }
   ],
   "source": [
    "%cd /content/Align-to-Distill/examples/translation/\n",
    "!bash prepare-iwslt14.sh"
   ]
  },
  {
   "cell_type": "markdown",
   "id": "fff54751",
   "metadata": {},
   "source": [
    "### Step 20"
   ]
  },
  {
   "cell_type": "markdown",
   "id": "9fcc1326",
   "metadata": {},
   "source": [
    "**Thought**: [pre-executed by user]"
   ]
  },
  {
   "cell_type": "markdown",
   "id": "a5926efa",
   "metadata": {},
   "source": [
    "**Action (None)**:"
   ]
  },
  {
   "cell_type": "code",
   "execution_count": null,
   "id": "4d82bfbb",
   "metadata": {},
   "outputs": [
    {
     "data": {
      "text/plain": [
       "/content/Align-to-Distill/examples/translation/iwslt14.tokenized.de-en\n/usr/local/lib/python3.10/site-packages/IPython/core/magics/osm.py:417: UserWarning: This is now an optional IPython functionality, setting dhist requires you to install the `pickleshare` library.\n  self.shell.db['dhist'] = compress_dhist(dhist)[-100:]\n"
      ]
     },
     "execution_count": null,
     "metadata": {},
     "output_type": "execute_result"
    }
   ],
   "source": [
    "%cd /content/Align-to-Distill/examples/translation/iwslt14.tokenized.de-en/"
   ]
  },
  {
   "cell_type": "markdown",
   "id": "8f2228af",
   "metadata": {},
   "source": [
    "### Step 21"
   ]
  },
  {
   "cell_type": "markdown",
   "id": "2617ab14",
   "metadata": {},
   "source": [
    "**Thought**: [pre-executed by user]"
   ]
  },
  {
   "cell_type": "markdown",
   "id": "f2334078",
   "metadata": {},
   "source": [
    "**Action (None)**:"
   ]
  },
  {
   "cell_type": "code",
   "execution_count": null,
   "id": "e0132542",
   "metadata": {},
   "outputs": [
    {
     "data": {
      "text/plain": [
       "10001 code\n6750 test.de\n6750 test.en\n160239 train.de\n160239 train.en\n7283 valid.de\n7283 valid.en\n"
      ]
     },
     "execution_count": null,
     "metadata": {},
     "output_type": "execute_result"
    }
   ],
   "source": [
    "%%bash\n",
    "# print the number of lines\n",
    "for file in *\n",
    "do\n",
    "  # Check if it is a file\n",
    "  if [ -f \"$file\" ]; then\n",
    "    # Print the number of lines\n",
    "    wc -l \"$file\"\n",
    "  fi\n",
    "done"
   ]
  },
  {
   "cell_type": "markdown",
   "id": "bf5a9bad",
   "metadata": {},
   "source": [
    "### Step 22"
   ]
  },
  {
   "cell_type": "markdown",
   "id": "64771506",
   "metadata": {},
   "source": [
    "**Thought**: [pre-executed by user]"
   ]
  },
  {
   "cell_type": "markdown",
   "id": "ddfcaff1",
   "metadata": {},
   "source": [
    "**Action (None)**:"
   ]
  },
  {
   "cell_type": "code",
   "execution_count": null,
   "id": "c725cac6",
   "metadata": {},
   "outputs": [
    {
     "data": {
      "text/plain": [
       "and it can be a very complicated thing , what human health is .\r\nand bringing those two together might seem a very da@@ un@@ ting task , but what i &apos;m going to try to say is that even in that complexity , there &apos;s some simple the@@ mes that i think , if we understand , we can really move forward .\r\nund was menschliche gesundheit ist , kann auch ziemlich kompliziert sein .\r\nund diese zwei zusammen zu bringen , erscheint vielleicht wie eine gewal@@ tige aufgabe . aber was ich ihnen zu sagen versuche ist , dass es trotz dieser komplexität einige einfache themen gibt , von denen ich denke , wenn wir diese verstehen , können wir uns wirklich weiter entwickeln .\r\n"
      ]
     },
     "execution_count": null,
     "metadata": {},
     "output_type": "execute_result"
    }
   ],
   "source": [
    "# example parallel sentence\n",
    "!head -2 train.en\n",
    "!head -2 train.de"
   ]
  },
  {
   "cell_type": "markdown",
   "id": "50bb0946",
   "metadata": {},
   "source": [
    "### Step 23"
   ]
  },
  {
   "cell_type": "markdown",
   "id": "190e83a0",
   "metadata": {},
   "source": [
    "**Thought**: [pre-executed by user]"
   ]
  },
  {
   "cell_type": "markdown",
   "id": "3035111f",
   "metadata": {},
   "source": [
    "**Action (None)**:"
   ]
  },
  {
   "cell_type": "code",
   "execution_count": null,
   "id": "8446c34c",
   "metadata": {},
   "outputs": [
    {
     "data": {
      "text/plain": [
       ""
      ]
     },
     "execution_count": null,
     "metadata": {},
     "output_type": "execute_result"
    }
   ],
   "source": [
    "# ### Extract First 10 Sentences Each\n",
    "# From each dataset, use only the first 10 sentences each!"
   ]
  },
  {
   "cell_type": "markdown",
   "id": "ad9ed267",
   "metadata": {},
   "source": [
    "### Step 24"
   ]
  },
  {
   "cell_type": "markdown",
   "id": "c50864e1",
   "metadata": {},
   "source": [
    "**Thought**: [pre-executed by user]"
   ]
  },
  {
   "cell_type": "markdown",
   "id": "4ea4794f",
   "metadata": {},
   "source": [
    "**Action (None)**:"
   ]
  },
  {
   "cell_type": "code",
   "execution_count": null,
   "id": "864619f2",
   "metadata": {},
   "outputs": [
    {
     "data": {
      "text/plain": [
       "10 train10.en\r\n10 test10.en\r\n10 valid10.en\r\n10 train10.de\r\n10 test10.de\r\n10 valid10.de\r\n"
      ]
     },
     "execution_count": null,
     "metadata": {},
     "output_type": "execute_result"
    }
   ],
   "source": [
    "!head -10 train.en > train10.en\n",
    "!head -10 test.en > test10.en\n",
    "!head -10 valid.en > valid10.en\n",
    "!head -10 train.de > train10.de\n",
    "!head -10 test.de > test10.de\n",
    "!head -10 valid.de > valid10.de\n",
    "\n",
    "!wc -l train10.en\n",
    "!wc -l test10.en\n",
    "!wc -l valid10.en\n",
    "!wc -l train10.de\n",
    "!wc -l test10.de\n",
    "!wc -l valid10.de"
   ]
  },
  {
   "cell_type": "markdown",
   "id": "18cb6af2",
   "metadata": {},
   "source": [
    "### Step 25"
   ]
  },
  {
   "cell_type": "markdown",
   "id": "3f15c496",
   "metadata": {},
   "source": [
    "**Thought**: [pre-executed by user]"
   ]
  },
  {
   "cell_type": "markdown",
   "id": "3a837b9e",
   "metadata": {},
   "source": [
    "**Action (None)**:"
   ]
  },
  {
   "cell_type": "code",
   "execution_count": null,
   "id": "ae02ff54",
   "metadata": {},
   "outputs": [
    {
     "data": {
      "text/plain": [
       ""
      ]
     },
     "execution_count": null,
     "metadata": {},
     "output_type": "execute_result"
    }
   ],
   "source": [
    "# move these files to data/de-en\n",
    "!mkdir -p /content/Align-to-Distill/data/de-en\n",
    "!mv *.en /content/Align-to-Distill/data/de-en\n",
    "!mv *.de /content/Align-to-Distill/data/de-en"
   ]
  },
  {
   "cell_type": "markdown",
   "id": "3c8e4355",
   "metadata": {},
   "source": [
    "### Step 26"
   ]
  },
  {
   "cell_type": "markdown",
   "id": "6d431807",
   "metadata": {},
   "source": [
    "**Thought**: [pre-executed by user]"
   ]
  },
  {
   "cell_type": "markdown",
   "id": "2698bb8e",
   "metadata": {},
   "source": [
    "**Action (None)**:"
   ]
  },
  {
   "cell_type": "code",
   "execution_count": null,
   "id": "dec28890",
   "metadata": {},
   "outputs": [
    {
     "data": {
      "text/plain": [
       ""
      ]
     },
     "execution_count": null,
     "metadata": {},
     "output_type": "execute_result"
    }
   ],
   "source": [
    "# ## Preprocess/binarize the data\n",
    "# "
   ]
  },
  {
   "cell_type": "markdown",
   "id": "25b58f78",
   "metadata": {},
   "source": [
    "### Step 27"
   ]
  },
  {
   "cell_type": "markdown",
   "id": "68fe689c",
   "metadata": {},
   "source": [
    "**Thought**: [pre-executed by user]"
   ]
  },
  {
   "cell_type": "markdown",
   "id": "6c9a6ac1",
   "metadata": {},
   "source": [
    "**Action (None)**:"
   ]
  },
  {
   "cell_type": "code",
   "execution_count": null,
   "id": "8859e59a",
   "metadata": {},
   "outputs": [
    {
     "data": {
      "text/plain": [
       "/content/Align-to-Distill\n/usr/local/lib/python3.10/site-packages/IPython/core/magics/osm.py:417: UserWarning: This is now an optional IPython functionality, setting dhist requires you to install the `pickleshare` library.\n  self.shell.db['dhist'] = compress_dhist(dhist)[-100:]\n"
      ]
     },
     "execution_count": null,
     "metadata": {},
     "output_type": "execute_result"
    }
   ],
   "source": [
    "# Be in the root directory\n",
    "# %cd /content/Align-to-Distill/\n",
    "%cd /content/Align-to-Distill"
   ]
  },
  {
   "cell_type": "markdown",
   "id": "a89ea016",
   "metadata": {},
   "source": [
    "### Step 28"
   ]
  },
  {
   "cell_type": "markdown",
   "id": "080c22dd",
   "metadata": {},
   "source": [
    "**Thought**: [pre-executed by user]"
   ]
  },
  {
   "cell_type": "markdown",
   "id": "caf4c430",
   "metadata": {},
   "source": [
    "**Action (None)**:"
   ]
  },
  {
   "cell_type": "code",
   "execution_count": null,
   "id": "a01a467c",
   "metadata": {},
   "outputs": [
    {
     "data": {
      "text/plain": [
       "2024-08-22 06:04:32 | INFO | fairseq_cli.preprocess | Namespace(no_progress_bar=False, log_interval=100, log_format=None, log_file=None, aim_repo=None, aim_run_hash=None, tensorboard_logdir=None, wandb_project=None, azureml_logging=False, seed=1, cpu=True, tpu=False, bf16=False, memory_efficient_bf16=False, fp16=False, memory_efficient_fp16=False, fp16_no_flatten_grads=False, fp16_init_scale=128, fp16_scale_window=None, fp16_scale_tolerance=0.0, on_cpu_convert_precision=False, min_loss_scale=0.0001, threshold_loss_scale=None, amp=False, amp_batch_retries=2, amp_init_scale=128, amp_scale_window=None, user_dir=None, empty_cache_freq=0, all_gather_list_size=16384, model_parallel_size=1, quantization_config_path=None, profile=False, reset_logging=False, suppress_crashes=False, use_plasma_view=False, plasma_path='/tmp/plasma', criterion='cross_entropy', tokenizer=None, bpe=None, optimizer=None, lr_scheduler='fixed', scoring='bleu', task='translation', source_lang='de', target_lang='en', trainpref='data/de-en/train10', validpref='data/de-en/valid10', testpref='data/de-en/test10', align_suffix=None, destdir='data-bin/', thresholdtgt=0, thresholdsrc=0, tgtdict=None, srcdict=None, nwordstgt=-1, nwordssrc=-1, alignfile=None, dataset_impl='mmap', joined_dictionary=False, only_source=False, padding_factor=8, workers=1, dict_only=False)\n2024-08-22 06:04:32 | INFO | fairseq_cli.preprocess | [de] Dictionary: 128 types\n2024-08-22 06:04:32 | INFO | fairseq_cli.preprocess | [de] data/de-en/train10.de: 10 sents, 207 tokens, 0.0% replaced (by <unk>)\n2024-08-22 06:04:32 | INFO | fairseq_cli.preprocess | [de] Dictionary: 128 types\n2024-08-22 06:04:32 | INFO | fairseq_cli.preprocess | [de] data/de-en/valid10.de: 10 sents, 174 tokens, 60.9% replaced (by <unk>)\n2024-08-22 06:04:32 | INFO | fairseq_cli.preprocess | [de] Dictionary: 128 types\n2024-08-22 06:04:32 | INFO | fairseq_cli.preprocess | [de] data/de-en/test10.de: 10 sents, 494 tokens, 63.6% replaced (by <unk>)\n2024-08-22 06:04:32 | INFO | fairseq_cli.preprocess | [en] Dictionary: 120 types\n2024-08-22 06:04:32 | INFO | fairseq_cli.preprocess | [en] data/de-en/train10.en: 10 sents, 234 tokens, 0.0% replaced (by <unk>)\n2024-08-22 06:04:32 | INFO | fairseq_cli.preprocess | [en] Dictionary: 120 types\n2024-08-22 06:04:32 | INFO | fairseq_cli.preprocess | [en] data/de-en/valid10.en: 10 sents, 175 tokens, 54.9% replaced (by <unk>)\n2024-08-22 06:04:32 | INFO | fairseq_cli.preprocess | [en] Dictionary: 120 types\n2024-08-22 06:04:32 | INFO | fairseq_cli.preprocess | [en] data/de-en/test10.en: 10 sents, 474 tokens, 53.6% replaced (by <unk>)\n2024-08-22 06:04:32 | INFO | fairseq_cli.preprocess | Wrote preprocessed data to data-bin/\n"
      ]
     },
     "execution_count": null,
     "metadata": {},
     "output_type": "execute_result"
    }
   ],
   "source": [
    "%%bash\n",
    "DATA_DIR=data/de-en\n",
    "rm -rf data-bin/\n",
    "# Add current directory to path\n",
    "export PYTHONPATH=$PYTHONPATH:$(pwd)\n",
    "\n",
    "python fairseq_cli/preprocess.py --source-lang de --target-lang en \\\n",
    "    --trainpref $DATA_DIR/train10 --validpref $DATA_DIR/valid10 --testpref $DATA_DIR/test10 \\\n",
    "    --destdir data-bin/ \\\n",
    "    --cpu"
   ]
  },
  {
   "cell_type": "markdown",
   "id": "db420649",
   "metadata": {},
   "source": [
    "### Step 29"
   ]
  },
  {
   "cell_type": "markdown",
   "id": "0598125e",
   "metadata": {},
   "source": [
    "**Thought**: [pre-executed by user]"
   ]
  },
  {
   "cell_type": "markdown",
   "id": "7494c38c",
   "metadata": {},
   "source": [
    "**Action (None)**:"
   ]
  },
  {
   "cell_type": "code",
   "execution_count": null,
   "id": "3dce9698",
   "metadata": {},
   "outputs": [
    {
     "data": {
      "text/plain": [
       "/content/Align-to-Distill\n/usr/local/lib/python3.10/site-packages/IPython/core/magics/osm.py:417: UserWarning: This is now an optional IPython functionality, setting dhist requires you to install the `pickleshare` library.\n  self.shell.db['dhist'] = compress_dhist(dhist)[-100:]\n"
      ]
     },
     "execution_count": null,
     "metadata": {},
     "output_type": "execute_result"
    }
   ],
   "source": [
    "%cd /content/Align-to-Distill"
   ]
  },
  {
   "cell_type": "markdown",
   "id": "4b0177d1",
   "metadata": {},
   "source": [
    "### Step 30"
   ]
  },
  {
   "cell_type": "markdown",
   "id": "4d89212b",
   "metadata": {},
   "source": [
    "**Thought**: [pre-executed by user]"
   ]
  },
  {
   "cell_type": "markdown",
   "id": "8038c673",
   "metadata": {},
   "source": [
    "**Action (None)**:"
   ]
  },
  {
   "cell_type": "code",
   "execution_count": null,
   "id": "e4ad41c9",
   "metadata": {},
   "outputs": [
    {
     "data": {
      "text/plain": [
       ""
      ]
     },
     "execution_count": null,
     "metadata": {},
     "output_type": "execute_result"
    }
   ],
   "source": [
    "# # Training a Teacher Model\n",
    "# "
   ]
  },
  {
   "cell_type": "markdown",
   "id": "79b6d522",
   "metadata": {},
   "source": [
    "### Step 31"
   ]
  },
  {
   "cell_type": "markdown",
   "id": "a4dc11ec",
   "metadata": {},
   "source": [
    "Execution Start time: 06:04:36, End time: 06:04:40 (duration: 3 seconds)"
   ]
  },
  {
   "cell_type": "markdown",
   "id": "9aa9e48f",
   "metadata": {},
   "source": [
    "**Thought**: [pre-executed by user]\n",
    "\n"
   ]
  },
  {
   "cell_type": "markdown",
   "id": "9d1fc9f8",
   "metadata": {},
   "source": [
    "**Action (None)**:"
   ]
  },
  {
   "cell_type": "code",
   "execution_count": null,
   "id": "ae714a38",
   "metadata": {},
   "outputs": [
    {
     "data": {
      "text/plain": [
       "usage: train.py [-h] [--no-progress-bar] [--log-interval LOG_INTERVAL]\n                [--log-format {json,none,simple,tqdm}] [--log-file LOG_FILE]\n                [--aim-repo AIM_REPO] [--aim-run-hash AIM_RUN_HASH]\n                [--tensorboard-logdir TENSORBOARD_LOGDIR]\n                [--wandb-project WANDB_PROJECT] [--azureml-logging]\n                [--seed SEED] [--cpu] [--tpu] [--bf16]\n                [--memory-efficient-bf16] [--fp16] [--memory-efficient-fp16]\n                [--fp16-no-flatten-grads] [--fp16-init-scale FP16_INIT_SCALE]\n                [--fp16-scale-window FP16_SCALE_WINDOW]\n                [--fp16-scale-tolerance FP16_SCALE_TOLERANCE]\n                [--on-cpu-convert-precision] [--min-loss-scale MIN_LOSS_SCALE]\n                [--threshold-loss-scale THRESHOLD_LOSS_SCALE] [--amp]\n                [--amp-batch-retries AMP_BATCH_RETRIES]\n                [--amp-init-scale AMP_INIT_SCALE]\n                [--amp-scale-window AMP_SCALE_WINDOW] [--user-dir USER_DIR]\n                [--empty-cache-freq EMPTY_CACHE_FREQ]\n                [--all-gather-list-size ALL_GATHER_LIST_SIZE]\n                [--model-parallel-size MODEL_PARALLEL_SIZE]\n                [--quantization-config-path QUANTIZATION_CONFIG_PATH]\n                [--profile] [--reset-logging] [--suppress-crashes]\n                [--use-plasma-view] [--plasma-path PLASMA_PATH]\n                [--criterion {adaptive_loss,composite_loss,cross_entropy,ctc,fastspeech2,hubert,kd_label_smoothed_cross_entropy,label_smoothed_cross_entropy,latency_augmented_label_smoothed_cross_entropy,label_smoothed_cross_entropy_with_alignment,label_smoothed_cross_entropy_with_ctc,label_smoothed_cross_entropy_with_rdrop,legacy_masked_lm_loss,masked_lm,model,nat_loss,sentence_prediction,sentence_prediction_adapters,sentence_ranking,tacotron2,speech_to_unit,speech_to_unit_2pass,speech_to_spectrogram,speech_to_spectrogram_2pass,speech_unit_lm_criterion,wav2vec,vocab_parallel_cross_entropy}]\n                [--tokenizer {moses,nltk,space}]\n                [--bpe {byte_bpe,bytes,characters,fastbpe,gpt2,bert,hf_byte_bpe,sentencepiece,subword_nmt}]\n                [--optimizer {adadelta,adafactor,adagrad,adam,adamax,composite,cpu_adam,lamb,nag,sgd}]\n                [--lr-scheduler {cosine,fixed,inverse_sqrt,manual,pass_through,polynomial_decay,reduce_lr_on_plateau,step,tri_stage,triangular}]\n                [--scoring {bert_score,sacrebleu,bleu,chrf,meteor,wer}]\n                [--task TASK] [--num-workers NUM_WORKERS]\n                [--skip-invalid-size-inputs-valid-test]\n                [--max-tokens MAX_TOKENS] [--batch-size BATCH_SIZE]\n                [--required-batch-size-multiple REQUIRED_BATCH_SIZE_MULTIPLE]\n                [--required-seq-len-multiple REQUIRED_SEQ_LEN_MULTIPLE]\n                [--dataset-impl {raw,lazy,cached,mmap,fasta,huffman}]\n                [--data-buffer-size DATA_BUFFER_SIZE]\n                [--train-subset TRAIN_SUBSET] [--valid-subset VALID_SUBSET]\n                [--combine-valid-subsets] [--ignore-unused-valid-subsets]\n                [--validate-interval VALIDATE_INTERVAL]\n                [--validate-interval-updates VALIDATE_INTERVAL_UPDATES]\n                [--validate-after-updates VALIDATE_AFTER_UPDATES]\n                [--fixed-validation-seed FIXED_VALIDATION_SEED]\n                [--disable-validation] [--max-tokens-valid MAX_TOKENS_VALID]\n                [--batch-size-valid BATCH_SIZE_VALID]\n                [--max-valid-steps MAX_VALID_STEPS] [--curriculum CURRICULUM]\n                [--gen-subset GEN_SUBSET] [--num-shards NUM_SHARDS]\n                [--shard-id SHARD_ID] [--grouped-shuffling]\n                [--update-epoch-batch-itr UPDATE_EPOCH_BATCH_ITR]\n                [--update-ordered-indices-seed]\n                [--distributed-world-size DISTRIBUTED_WORLD_SIZE]\n                [--distributed-num-procs DISTRIBUTED_NUM_PROCS]\n                [--distributed-rank DISTRIBUTED_RANK]\n                [--distributed-backend DISTRIBUTED_BACKEND]\n                [--distributed-init-method DISTRIBUTED_INIT_METHOD]\n                [--distributed-port DISTRIBUTED_PORT] [--device-id DEVICE_ID]\n                [--distributed-no-spawn]\n                [--ddp-backend {c10d,fully_sharded,legacy_ddp,no_c10d,pytorch_ddp,slowmo}]\n                [--ddp-comm-hook {none,fp16}] [--bucket-cap-mb BUCKET_CAP_MB]\n                [--fix-batches-to-gpus] [--find-unused-parameters]\n                [--gradient-as-bucket-view] [--fast-stat-sync]\n                [--heartbeat-timeout HEARTBEAT_TIMEOUT] [--broadcast-buffers]\n                [--slowmo-momentum SLOWMO_MOMENTUM]\n                [--slowmo-base-algorithm SLOWMO_BASE_ALGORITHM]\n                [--localsgd-frequency LOCALSGD_FREQUENCY]\n                [--nprocs-per-node NPROCS_PER_NODE]\n                [--pipeline-model-parallel]\n                [--pipeline-balance PIPELINE_BALANCE]\n                [--pipeline-devices PIPELINE_DEVICES]\n                [--pipeline-chunks PIPELINE_CHUNKS]\n                [--pipeline-encoder-balance PIPELINE_ENCODER_BALANCE]\n                [--pipeline-encoder-devices PIPELINE_ENCODER_DEVICES]\n                [--pipeline-decoder-balance PIPELINE_DECODER_BALANCE]\n                [--pipeline-decoder-devices PIPELINE_DECODER_DEVICES]\n                [--pipeline-checkpoint {always,never,except_last}]\n                [--zero-sharding {none,os}] [--no-reshard-after-forward]\n                [--fp32-reduce-scatter] [--cpu-offload] [--use-sharded-state]\n                [--not-fsdp-flatten-parameters] [--arch ARCH]\n                [--max-epoch MAX_EPOCH] [--max-update MAX_UPDATE]\n                [--stop-time-hours STOP_TIME_HOURS] [--clip-norm CLIP_NORM]\n                [--sentence-avg] [--update-freq UPDATE_FREQ] [--lr LR]\n                [--stop-min-lr STOP_MIN_LR] [--use-bmuf]\n                [--skip-remainder-batch] [--save-dir SAVE_DIR]\n                [--restore-file RESTORE_FILE] [--continue-once CONTINUE_ONCE]\n                [--finetune-from-model FINETUNE_FROM_MODEL]\n                [--reset-dataloader] [--reset-lr-scheduler] [--reset-meters]\n                [--reset-optimizer]\n                [--optimizer-overrides OPTIMIZER_OVERRIDES]\n                [--save-interval SAVE_INTERVAL]\n                [--save-interval-updates SAVE_INTERVAL_UPDATES]\n                [--keep-interval-updates KEEP_INTERVAL_UPDATES]\n                [--keep-interval-updates-pattern KEEP_INTERVAL_UPDATES_PATTERN]\n                [--keep-last-epochs KEEP_LAST_EPOCHS]\n                [--keep-best-checkpoints KEEP_BEST_CHECKPOINTS] [--no-save]\n                [--no-epoch-checkpoints] [--no-last-checkpoints]\n                [--no-save-optimizer-state]\n                [--best-checkpoint-metric BEST_CHECKPOINT_METRIC]\n                [--maximize-best-checkpoint-metric] [--patience PATIENCE]\n                [--checkpoint-suffix CHECKPOINT_SUFFIX]\n                [--checkpoint-shard-count CHECKPOINT_SHARD_COUNT]\n                [--load-checkpoint-on-all-dp-ranks]\n                [--write-checkpoints-asynchronously] [--store-ema]\n                [--ema-decay EMA_DECAY] [--ema-start-update EMA_START_UPDATE]\n                [--ema-seed-model EMA_SEED_MODEL]\n                [--ema-update-freq EMA_UPDATE_FREQ] [--ema-fp32]\n                [--use-factorized-embedding]\n                [--factorized-embedding-dim FACTORIZED_EMBEDDING_DIM]\n                [--layernorm-factorized-embedding]\n                [--activation-fn {relu,gelu,gelu_fast,gelu_accurate,tanh,linear}]\n                [--dropout DROPOUT] [--attention-dropout ATTENTION_DROPOUT]\n                [--activation-dropout ACTIVATION_DROPOUT] [--adaptive-input]\n                [--encoder-embed-path ENCODER_EMBED_PATH]\n                [--encoder-embed-dim ENCODER_EMBED_DIM]\n                [--encoder-ffn-embed-dim ENCODER_FFN_EMBED_DIM]\n                [--encoder-layers ENCODER_LAYERS]\n                [--encoder-attention-heads ENCODER_ATTENTION_HEADS]\n                [--encoder-normalize-before] [--encoder-learned-pos]\n                [--encoder-layerdrop ENCODER_LAYERDROP]\n                [--encoder-layers-to-keep ENCODER_LAYERS_TO_KEEP]\n                [--encoder-xformers-att-config ENCODER_XFORMERS_ATT_CONFIG]\n                [--max-source-positions MAX_SOURCE_POSITIONS]\n                [--decoder-embed-path DECODER_EMBED_PATH]\n                [--decoder-embed-dim DECODER_EMBED_DIM]\n                [--decoder-ffn-embed-dim DECODER_FFN_EMBED_DIM]\n                [--decoder-layers DECODER_LAYERS]\n                [--decoder-attention-heads DECODER_ATTENTION_HEADS]\n                [--decoder-normalize-before] [--decoder-learned-pos]\n                [--decoder-layerdrop DECODER_LAYERDROP]\n                [--decoder-layers-to-keep DECODER_LAYERS_TO_KEEP]\n                [--decoder-xformers-att-config DECODER_XFORMERS_ATT_CONFIG]\n                [--decoder-output-dim DECODER_OUTPUT_DIM]\n                [--max-target-positions MAX_TARGET_POSITIONS]\n                [--share-decoder-input-output-embed] [--share-all-embeddings]\n                [--merge-src-tgt-embed] [--no-token-positional-embeddings]\n                [--adaptive-softmax-cutoff ADAPTIVE_SOFTMAX_CUTOFF]\n                [--adaptive-softmax-dropout ADAPTIVE_SOFTMAX_DROPOUT]\n                [--adaptive-softmax-factor ADAPTIVE_SOFTMAX_FACTOR]\n                [--layernorm-embedding] [--tie-adaptive-weights]\n                [--tie-adaptive-proj] [--no-scale-embedding]\n                [--checkpoint-activations] [--offload-activations]\n                [--no-cross-attention] [--cross-self-attention]\n                [--quant-noise-pq QUANT_NOISE_PQ]\n                [--quant-noise-pq-block-size QUANT_NOISE_PQ_BLOCK_SIZE]\n                [--quant-noise-scalar QUANT_NOISE_SCALAR]\n                [--min-params-to-wrap MIN_PARAMS_TO_WRAP] [--char-inputs]\n                [--relu-dropout RELU_DROPOUT] [--base-layers BASE_LAYERS]\n                [--base-sublayers BASE_SUBLAYERS]\n                [--base-shuffle BASE_SHUFFLE] [--export]\n                [--no-decoder-final-norm] [--alignment-module]\n                [--source-lang SOURCE_LANG] [--target-lang TARGET_LANG]\n                [--load-alignments] [--left-pad-source] [--left-pad-target]\n                [--upsample-primary UPSAMPLE_PRIMARY] [--truncate-source]\n                [--num-batch-buckets NUM_BATCH_BUCKETS] [--eval-bleu]\n                [--eval-bleu-args EVAL_BLEU_ARGS]\n                [--eval-bleu-detok EVAL_BLEU_DETOK]\n                [--eval-bleu-detok-args EVAL_BLEU_DETOK_ARGS]\n                [--eval-tokenized-bleu]\n                [--eval-bleu-remove-bpe [EVAL_BLEU_REMOVE_BPE]]\n                [--eval-bleu-print-samples]\n                [--label-smoothing LABEL_SMOOTHING] [--report-accuracy]\n                [--ignore-prefix-size IGNORE_PREFIX_SIZE]\n                [--adam-betas ADAM_BETAS] [--adam-eps ADAM_EPS]\n                [--weight-decay WEIGHT_DECAY] [--use-old-adam]\n                [--fp16-adam-stats] [--warmup-updates WARMUP_UPDATES]\n                [--warmup-init-lr WARMUP_INIT_LR] [--pad PAD] [--eos EOS]\n                [--unk UNK]\n                data\ntrain.py: error: unrecognized arguments: --data-bin\n"
      ]
     },
     "execution_count": null,
     "metadata": {},
     "output_type": "execute_result"
    }
   ],
   "source": [
    "# Train the teacher model\n",
    "!python train.py --task translation --arch transformer_iwslt_de_en --share-decoder-input-output-embed \\\n",
    "  --optimizer adam --adam-betas '(0.9, 0.98)' --clip-norm 0.0 --lr 5e-4 --lr-scheduler inverse_sqrt \\\n",
    "  --warmup-updates 4000 --dropout 0.3 --weight-decay 0.0001 --criterion label_smoothed_cross_entropy \\\n",
    "  --label-smoothing 0.1 --max-tokens 4096 --source-lang de --target-lang en \\\n",
    "  --max-epoch 1 --batch-size 1 \\\n",
    "  --ddp-backend no_c10d \\\n",
    "  --save-dir checkpoints/teacher \\\n",
    "  --data-bin data-bin/"
   ]
  },
  {
   "cell_type": "markdown",
   "id": "8d598fa9",
   "metadata": {},
   "source": [
    "### Step 32"
   ]
  },
  {
   "cell_type": "markdown",
   "id": "3455811f",
   "metadata": {},
   "source": [
    "Execution Start time: 06:04:44, End time: 06:05:04 (duration: 20 seconds)"
   ]
  },
  {
   "cell_type": "markdown",
   "id": "db7906a3",
   "metadata": {},
   "source": [
    "**Thought**: It seems like there was an error with the command for training the teacher model. The argument `--data-bin` is not recognized. I will modify the command to use the correct argument for specifying the data directory, which should be `data-bin` without the `--` prefix. Let's try running the training command again with the correct arguments.\n",
    "\n"
   ]
  },
  {
   "cell_type": "markdown",
   "id": "80274274",
   "metadata": {},
   "source": [
    "**Action (None)**:"
   ]
  },
  {
   "cell_type": "code",
   "execution_count": null,
   "id": "d1cb0cee",
   "metadata": {},
   "outputs": [
    {
     "data": {
      "text/plain": [
       "2024-08-22 06:04:49 | INFO | fairseq_cli.train | {'_name': None, 'common': {'_name': None, 'no_progress_bar': False, 'log_interval': 100, 'log_format': None, 'log_file': None, 'aim_repo': None, 'aim_run_hash': None, 'tensorboard_logdir': None, 'wandb_project': None, 'azureml_logging': False, 'seed': 1, 'cpu': False, 'tpu': False, 'bf16': False, 'memory_efficient_bf16': False, 'fp16': False, 'memory_efficient_fp16': False, 'fp16_no_flatten_grads': False, 'fp16_init_scale': 128, 'fp16_scale_window': None, 'fp16_scale_tolerance': 0.0, 'on_cpu_convert_precision': False, 'min_loss_scale': 0.0001, 'threshold_loss_scale': None, 'amp': False, 'amp_batch_retries': 2, 'amp_init_scale': 128, 'amp_scale_window': None, 'user_dir': None, 'empty_cache_freq': 0, 'all_gather_list_size': 16384, 'model_parallel_size': 1, 'quantization_config_path': None, 'profile': False, 'reset_logging': False, 'suppress_crashes': False, 'use_plasma_view': False, 'plasma_path': '/tmp/plasma'}, 'common_eval': {'_name': None, 'path': None, 'post_process': None, 'quiet': False, 'model_overrides': '{}', 'results_path': None}, 'distributed_training': {'_name': None, 'distributed_world_size': 1, 'distributed_num_procs': 0, 'distributed_rank': 0, 'distributed_backend': 'nccl', 'distributed_init_method': None, 'distributed_port': -1, 'device_id': 0, 'distributed_no_spawn': False, 'ddp_backend': 'no_c10d', 'ddp_comm_hook': 'none', 'bucket_cap_mb': 25, 'fix_batches_to_gpus': False, 'find_unused_parameters': False, 'gradient_as_bucket_view': False, 'fast_stat_sync': False, 'heartbeat_timeout': -1, 'broadcast_buffers': False, 'slowmo_momentum': None, 'slowmo_base_algorithm': 'localsgd', 'localsgd_frequency': 3, 'nprocs_per_node': 1, 'pipeline_model_parallel': False, 'pipeline_balance': None, 'pipeline_devices': None, 'pipeline_chunks': 0, 'pipeline_encoder_balance': None, 'pipeline_encoder_devices': None, 'pipeline_decoder_balance': None, 'pipeline_decoder_devices': None, 'pipeline_checkpoint': 'never', 'zero_sharding': 'none', 'fp16': False, 'memory_efficient_fp16': False, 'tpu': False, 'no_reshard_after_forward': False, 'fp32_reduce_scatter': False, 'cpu_offload': False, 'use_sharded_state': False, 'not_fsdp_flatten_parameters': False}, 'dataset': {'_name': None, 'num_workers': 1, 'skip_invalid_size_inputs_valid_test': False, 'max_tokens': 4096, 'batch_size': 1, 'required_batch_size_multiple': 8, 'required_seq_len_multiple': 1, 'dataset_impl': None, 'data_buffer_size': 10, 'train_subset': 'train', 'valid_subset': 'valid', 'combine_valid_subsets': None, 'ignore_unused_valid_subsets': False, 'validate_interval': 1, 'validate_interval_updates': 0, 'validate_after_updates': 0, 'fixed_validation_seed': None, 'disable_validation': False, 'max_tokens_valid': 4096, 'batch_size_valid': 1, 'max_valid_steps': None, 'curriculum': 0, 'gen_subset': 'test', 'num_shards': 1, 'shard_id': 0, 'grouped_shuffling': False, 'update_epoch_batch_itr': False, 'update_ordered_indices_seed': False}, 'optimization': {'_name': None, 'max_epoch': 1, 'max_update': 0, 'stop_time_hours': 0.0, 'clip_norm': 0.0, 'sentence_avg': False, 'update_freq': [1], 'lr': [0.0005], 'stop_min_lr': -1.0, 'use_bmuf': False, 'skip_remainder_batch': False}, 'checkpoint': {'_name': None, 'save_dir': 'checkpoints/teacher', 'restore_file': 'checkpoint_last.pt', 'continue_once': None, 'finetune_from_model': None, 'reset_dataloader': False, 'reset_lr_scheduler': False, 'reset_meters': False, 'reset_optimizer': False, 'optimizer_overrides': '{}', 'save_interval': 1, 'save_interval_updates': 0, 'keep_interval_updates': -1, 'keep_interval_updates_pattern': -1, 'keep_last_epochs': -1, 'keep_best_checkpoints': -1, 'no_save': False, 'no_epoch_checkpoints': False, 'no_last_checkpoints': False, 'no_save_optimizer_state': False, 'best_checkpoint_metric': 'loss', 'maximize_best_checkpoint_metric': False, 'patience': -1, 'checkpoint_suffix': '', 'checkpoint_shard_count': 1, 'load_checkpoint_on_all_dp_ranks': False, 'write_checkpoints_asynchronously': False, 'model_parallel_size': 1}, 'bmuf': {'_name': None, 'block_lr': 1.0, 'block_momentum': 0.875, 'global_sync_iter': 50, 'warmup_iterations': 500, 'use_nbm': False, 'average_sync': False, 'distributed_world_size': 1}, 'generation': {'_name': None, 'beam': 5, 'beam_mt': 0, 'nbest': 1, 'max_len_a': 0.0, 'max_len_b': 200, 'max_len_a_mt': 0.0, 'max_len_b_mt': 200, 'min_len': 1, 'match_source_len': False, 'unnormalized': False, 'no_early_stop': False, 'no_beamable_mm': False, 'lenpen': 1.0, 'lenpen_mt': 1.0, 'unkpen': 0.0, 'replace_unk': None, 'sacrebleu': False, 'score_reference': False, 'prefix_size': 0, 'no_repeat_ngram_size': 0, 'sampling': False, 'sampling_topk': -1, 'sampling_topp': -1.0, 'constraints': None, 'temperature': 1.0, 'diverse_beam_groups': -1, 'diverse_beam_strength': 0.5, 'diversity_rate': -1.0, 'print_alignment': None, 'print_step': False, 'lm_path': None, 'lm_weight': 0.0, 'iter_decode_eos_penalty': 0.0, 'iter_decode_max_iter': 10, 'iter_decode_force_max_iter': False, 'iter_decode_with_beam': 1, 'iter_decode_with_external_reranker': False, 'retain_iter_history': False, 'retain_dropout': False, 'retain_dropout_modules': None, 'decoding_format': None, 'no_seed_provided': False, 'eos_token': None}, 'eval_lm': {'_name': None, 'output_word_probs': False, 'output_word_stats': False, 'context_window': 0, 'softmax_batch': 9223372036854775807}, 'interactive': {'_name': None, 'buffer_size': 0, 'input': '-'}, 'model': Namespace(no_progress_bar=False, log_interval=100, log_format=None, log_file=None, aim_repo=None, aim_run_hash=None, tensorboard_logdir=None, wandb_project=None, azureml_logging=False, seed=1, cpu=False, tpu=False, bf16=False, memory_efficient_bf16=False, fp16=False, memory_efficient_fp16=False, fp16_no_flatten_grads=False, fp16_init_scale=128, fp16_scale_window=None, fp16_scale_tolerance=0.0, on_cpu_convert_precision=False, min_loss_scale=0.0001, threshold_loss_scale=None, amp=False, amp_batch_retries=2, amp_init_scale=128, amp_scale_window=None, user_dir=None, empty_cache_freq=0, all_gather_list_size=16384, model_parallel_size=1, quantization_config_path=None, profile=False, reset_logging=False, suppress_crashes=False, use_plasma_view=False, plasma_path='/tmp/plasma', criterion='label_smoothed_cross_entropy', tokenizer=None, bpe=None, optimizer='adam', lr_scheduler='inverse_sqrt', scoring='bleu', task='translation', num_workers=1, skip_invalid_size_inputs_valid_test=False, max_tokens=4096, batch_size=1, required_batch_size_multiple=8, required_seq_len_multiple=1, dataset_impl=None, data_buffer_size=10, train_subset='train', valid_subset='valid', combine_valid_subsets=None, ignore_unused_valid_subsets=False, validate_interval=1, validate_interval_updates=0, validate_after_updates=0, fixed_validation_seed=None, disable_validation=False, max_tokens_valid=4096, batch_size_valid=1, max_valid_steps=None, curriculum=0, gen_subset='test', num_shards=1, shard_id=0, grouped_shuffling=False, update_epoch_batch_itr=False, update_ordered_indices_seed=False, distributed_world_size=1, distributed_num_procs=1, distributed_rank=0, distributed_backend='nccl', distributed_init_method=None, distributed_port=-1, device_id=0, distributed_no_spawn=False, ddp_backend='no_c10d', ddp_comm_hook='none', bucket_cap_mb=25, fix_batches_to_gpus=False, find_unused_parameters=False, gradient_as_bucket_view=False, fast_stat_sync=False, heartbeat_timeout=-1, broadcast_buffers=False, slowmo_momentum=None, slowmo_base_algorithm='localsgd', localsgd_frequency=3, nprocs_per_node=1, pipeline_model_parallel=False, pipeline_balance=None, pipeline_devices=None, pipeline_chunks=0, pipeline_encoder_balance=None, pipeline_encoder_devices=None, pipeline_decoder_balance=None, pipeline_decoder_devices=None, pipeline_checkpoint='never', zero_sharding='none', no_reshard_after_forward=False, fp32_reduce_scatter=False, cpu_offload=False, use_sharded_state=False, not_fsdp_flatten_parameters=False, arch='transformer_iwslt_de_en', max_epoch=1, max_update=0, stop_time_hours=0, clip_norm=0.0, sentence_avg=False, update_freq=[1], lr=[0.0005], stop_min_lr=-1.0, use_bmuf=False, skip_remainder_batch=False, save_dir='checkpoints/teacher', restore_file='checkpoint_last.pt', continue_once=None, finetune_from_model=None, reset_dataloader=False, reset_lr_scheduler=False, reset_meters=False, reset_optimizer=False, optimizer_overrides='{}', save_interval=1, save_interval_updates=0, keep_interval_updates=-1, keep_interval_updates_pattern=-1, keep_last_epochs=-1, keep_best_checkpoints=-1, no_save=False, no_epoch_checkpoints=False, no_last_checkpoints=False, no_save_optimizer_state=False, best_checkpoint_metric='loss', maximize_best_checkpoint_metric=False, patience=-1, checkpoint_suffix='', checkpoint_shard_count=1, load_checkpoint_on_all_dp_ranks=False, write_checkpoints_asynchronously=False, store_ema=False, ema_decay=0.9999, ema_start_update=0, ema_seed_model=None, ema_update_freq=1, ema_fp32=False, data='data-bin', source_lang='de', target_lang='en', load_alignments=False, left_pad_source=True, left_pad_target=False, upsample_primary=-1, truncate_source=False, num_batch_buckets=0, eval_bleu=False, eval_bleu_args='{}', eval_bleu_detok='space', eval_bleu_detok_args='{}', eval_tokenized_bleu=False, eval_bleu_remove_bpe=None, eval_bleu_print_samples=False, label_smoothing=0.1, report_accuracy=False, ignore_prefix_size=0, adam_betas='(0.9, 0.98)', adam_eps=1e-08, weight_decay=0.0001, use_old_adam=False, fp16_adam_stats=False, warmup_updates=4000, warmup_init_lr=-1, pad=1, eos=2, unk=3, share_decoder_input_output_embed=True, dropout=0.3, no_seed_provided=False, encoder_embed_dim=512, encoder_ffn_embed_dim=1024, encoder_attention_heads=4, encoder_layers=6, decoder_embed_dim=512, decoder_ffn_embed_dim=1024, decoder_attention_heads=4, decoder_layers=6, encoder_embed_path=None, encoder_normalize_before=False, encoder_learned_pos=False, decoder_embed_path=None, decoder_normalize_before=False, decoder_learned_pos=False, attention_dropout=0.0, activation_dropout=0.0, activation_fn='relu', adaptive_softmax_cutoff=None, adaptive_softmax_dropout=0, share_all_embeddings=False, merge_src_tgt_embed=False, no_token_positional_embeddings=False, adaptive_input=False, no_cross_attention=False, cross_self_attention=False, decoder_output_dim=512, decoder_input_dim=512, no_scale_embedding=False, layernorm_embedding=False, tie_adaptive_weights=False, checkpoint_activations=False, offload_activations=False, encoder_layers_to_keep=None, decoder_layers_to_keep=None, encoder_layerdrop=0, decoder_layerdrop=0, quant_noise_pq=0, quant_noise_pq_block_size=8, quant_noise_scalar=0, _name='transformer_iwslt_de_en'), 'task': {'_name': 'translation', 'data': 'data-bin', 'source_lang': 'de', 'target_lang': 'en', 'load_alignments': False, 'left_pad_source': True, 'left_pad_target': False, 'max_source_positions': 1024, 'max_target_positions': 1024, 'upsample_primary': -1, 'truncate_source': False, 'num_batch_buckets': 0, 'train_subset': 'train', 'dataset_impl': None, 'required_seq_len_multiple': 1, 'eval_bleu': False, 'eval_bleu_args': '{}', 'eval_bleu_detok': 'space', 'eval_bleu_detok_args': '{}', 'eval_tokenized_bleu': False, 'eval_bleu_remove_bpe': None, 'eval_bleu_print_samples': False}, 'criterion': {'_name': 'label_smoothed_cross_entropy', 'label_smoothing': 0.1, 'report_accuracy': False, 'ignore_prefix_size': 0, 'sentence_avg': False}, 'optimizer': {'_name': 'adam', 'adam_betas': '(0.9, 0.98)', 'adam_eps': 1e-08, 'weight_decay': 0.0001, 'use_old_adam': False, 'fp16_adam_stats': False, 'tpu': False, 'lr': [0.0005]}, 'lr_scheduler': {'_name': 'inverse_sqrt', 'warmup_updates': 4000, 'warmup_init_lr': -1.0, 'lr': [0.0005]}, 'scoring': {'_name': 'bleu', 'pad': 1, 'eos': 2, 'unk': 3}, 'bpe': None, 'tokenizer': None, 'ema': {'_name': None, 'store_ema': False, 'ema_decay': 0.9999, 'ema_start_update': 0, 'ema_seed_model': None, 'ema_update_freq': 1, 'ema_fp32': False}}\n2024-08-22 06:04:49 | INFO | fairseq.tasks.translation | [de] dictionary: 128 types\n2024-08-22 06:04:49 | INFO | fairseq.tasks.translation | [en] dictionary: 120 types\ntask\nsentence_avg\nlabel_smoothing\nignore_prefix_size\nreport_accuracy\n2024-08-22 06:04:49 | INFO | fairseq_cli.train | TransformerModel(\n  (encoder): TransformerEncoderBase(\n    (dropout_module): FairseqDropout()\n    (embed_tokens): Embedding(128, 512, padding_idx=1)\n    (embed_positions): SinusoidalPositionalEmbedding()\n    (layers): ModuleList(\n      (0-5): 6 x TransformerEncoderLayerBase(\n        (self_attn): MultiheadAttention(\n          (dropout_module): FairseqDropout()\n        )\n        (dropout_module): FairseqDropout()\n        (activation_dropout_module): FairseqDropout()\n      )\n    )\n  )\n  (decoder): TransformerDecoderBase(\n    (dropout_module): FairseqDropout()\n    (embed_tokens): Embedding(120, 512, padding_idx=1)\n    (embed_positions): SinusoidalPositionalEmbedding()\n    (layers): ModuleList(\n      (0-5): 6 x TransformerDecoderLayerBase(\n        (dropout_module): FairseqDropout()\n        (self_attn): MultiheadAttention(\n          (dropout_module): FairseqDropout()\n        )\n        (activation_dropout_module): FairseqDropout()\n        (encoder_attn): MultiheadAttention(\n          (dropout_module): FairseqDropout()\n        )\n      )\n    )\n  )\n)\n2024-08-22 06:04:49 | INFO | fairseq_cli.train | task: TranslationTask\n2024-08-22 06:04:49 | INFO | fairseq_cli.train | model: TransformerModel\n2024-08-22 06:04:49 | INFO | fairseq_cli.train | criterion: LabelSmoothedCrossEntropyCriterion\n2024-08-22 06:04:49 | INFO | fairseq_cli.train | num. shared model params: 31,670,272 (num. trained: 31,670,272)\n2024-08-22 06:04:49 | INFO | fairseq_cli.train | num. expert model params: 0 (num. trained: 0)\n2024-08-22 06:04:49 | INFO | fairseq.data.data_utils | loaded 10 examples from: data-bin/valid.de-en.de\n2024-08-22 06:04:49 | INFO | fairseq.data.data_utils | loaded 10 examples from: data-bin/valid.de-en.en\n2024-08-22 06:04:49 | INFO | fairseq.tasks.translation | data-bin valid de-en 10 examples\n2024-08-22 06:04:49 | INFO | fairseq.trainer | detected shared parameter: decoder.embed_tokens.weight <- decoder.output_projection.weight\n2024-08-22 06:04:49 | INFO | fairseq_cli.train | training on 1 devices (GPUs/TPUs)\n2024-08-22 06:04:49 | INFO | fairseq_cli.train | max tokens per device = 4096 and max sentences per device = 1\n2024-08-22 06:04:49 | INFO | fairseq.trainer | Preparing to load checkpoint checkpoints/teacher/checkpoint_last.pt\n2024-08-22 06:04:49 | INFO | fairseq.trainer | No existing checkpoint found checkpoints/teacher/checkpoint_last.pt\n2024-08-22 06:04:49 | INFO | fairseq.trainer | loading train data for epoch 1\n2024-08-22 06:04:49 | INFO | fairseq.data.data_utils | loaded 10 examples from: data-bin/train.de-en.de\n2024-08-22 06:04:49 | INFO | fairseq.data.data_utils | loaded 10 examples from: data-bin/train.de-en.en\n2024-08-22 06:04:49 | INFO | fairseq.tasks.translation | data-bin train de-en 10 examples\n2024-08-22 06:04:50 | INFO | fairseq.data.iterators | grouped total_num_itrs = 10\n\nepoch 001:   0%|                                         | 0/10 [00:00<?, ?it/s]2024-08-22 06:04:50 | INFO | fairseq.trainer | begin training epoch 1\n2024-08-22 06:04:50 | INFO | fairseq_cli.train | Start iterating over samples\n/root/.local/lib/python3.10/site-packages/fairseq/tasks/fairseq_task.py:499: FutureWarning: `torch.cuda.amp.autocast(args...)` is deprecated. Please use `torch.amp.autocast('cuda', args...)` instead.\n  with torch.cuda.amp.autocast(enabled=(isinstance(optimizer, AMPOptimizer))):\n\nepoch 001:  10%|███▎                             | 1/10 [00:01<00:14,  1.56s/it]\nepoch 001:  20%|██████▌                          | 2/10 [00:02<00:09,  1.21s/it]\nepoch 001:  30%|█████████▉                       | 3/10 [00:03<00:07,  1.10s/it]\nepoch 001:  40%|█████████████▏                   | 4/10 [00:04<00:06,  1.04s/it]\nepoch 001:  50%|████████████████▌                | 5/10 [00:05<00:05,  1.02s/it]\nepoch 001:  60%|███████████████████▊             | 6/10 [00:06<00:03,  1.00it/s]\nepoch 001:  70%|███████████████████████          | 7/10 [00:07<00:02,  1.01it/s]\nepoch 001:  80%|██████████████████████████▍      | 8/10 [00:08<00:01,  1.02it/s]\nepoch 001:  90%|█████████████████████████████▋   | 9/10 [00:09<00:01,  1.00s/it]2024-08-22 06:05:00 | INFO | fairseq_cli.train | begin validation on \"valid\" subset\n\n\nepoch 001 | valid on 'valid' subset:   0%|               | 0/10 [00:00<?, ?it/s]\u001b[A\n\nepoch 001 | valid on 'valid' subset:  10%|▋      | 1/10 [00:00<00:01,  6.34it/s]\u001b[A\n\nepoch 001 | valid on 'valid' subset:  40%|██▊    | 4/10 [00:00<00:00, 15.63it/s]\u001b[A\n\nepoch 001 | valid on 'valid' subset:  70%|████▉  | 7/10 [00:00<00:00, 19.01it/s]\u001b[A\n\nepoch 001 | valid on 'valid' subset: 100%|██████| 10/10 [00:00<00:00, 19.65it/s]\u001b[A\n\n                                                                                \u001b[A2024-08-22 06:05:01 | INFO | valid | epoch 001 | valid on 'valid' subset | loss 6.245 | nll_loss 6.084 | ppl 67.83 | wps 420.9 | wpb 17.5 | bsz 1 | num_updates 10\n2024-08-22 06:05:01 | INFO | fairseq.checkpoint_utils | Preparing to save checkpoint for epoch 1 @ 10 updates\n2024-08-22 06:05:01 | INFO | fairseq.trainer | Saving checkpoint to /content/Align-to-Distill/checkpoints/teacher/checkpoint1.pt\n2024-08-22 06:05:01 | INFO | fairseq.trainer | Finished saving checkpoint to /content/Align-to-Distill/checkpoints/teacher/checkpoint1.pt\n2024-08-22 06:05:02 | INFO | fairseq.checkpoint_utils | Saved checkpoint checkpoints/teacher/checkpoint1.pt (epoch 1 @ 10 updates, score 6.245) (writing took 0.8030553020000184 seconds)\n\nepoch 001: 100%|████████████████████████████████| 10/10 [00:11<00:00,  1.43s/it]\n                                                                                \n2024-08-22 06:05:02 | INFO | fairseq_cli.train | end of epoch 1 (average epoch stats below)\n2024-08-22 06:05:02 | INFO | train | epoch 001 | loss 7.822 | nll_loss 7.837 | ppl 228.63 | wps 21.6 | ups 0.88 | wpb 23.4 | bsz 1 | num_updates 10 | lr 1.25e-06 | gnorm 20.127 | train_wall 10 | wall 12\n2024-08-22 06:05:02 | INFO | fairseq_cli.train | done training in 11.7 seconds\n"
      ]
     },
     "execution_count": null,
     "metadata": {},
     "output_type": "execute_result"
    }
   ],
   "source": [
    "!python train.py --task translation --arch transformer_iwslt_de_en --share-decoder-input-output-embed \\\n",
    "  --optimizer adam --adam-betas '(0.9, 0.98)' --clip-norm 0.0 --lr 5e-4 --lr-scheduler inverse_sqrt \\\n",
    "  --warmup-updates 4000 --dropout 0.3 --weight-decay 0.0001 --criterion label_smoothed_cross_entropy \\\n",
    "  --label-smoothing 0.1 --max-tokens 4096 --source-lang de --target-lang en \\\n",
    "  --max-epoch 1 --batch-size 1 \\\n",
    "  --ddp-backend no_c10d \\\n",
    "  --save-dir checkpoints/teacher \\\n",
    "  data-bin"
   ]
  },
  {
   "cell_type": "markdown",
   "id": "be472e2b",
   "metadata": {},
   "source": [
    "### Step 33"
   ]
  },
  {
   "cell_type": "markdown",
   "id": "fe88a865",
   "metadata": {},
   "source": [
    "Execution Start time: 06:05:07, End time: 06:05:07 (duration: 0 seconds)"
   ]
  },
  {
   "cell_type": "markdown",
   "id": "54c9baff",
   "metadata": {},
   "source": [
    "**Thought**: The teacher model has been successfully trained for one epoch. The validation loss and nll_loss are 6.245 and 6.084, respectively. Now, I will proceed to evaluate the teacher model using the `generate.py` script with beam_size=5 and then score the predictions using the `score.py` script with `--ignore-case --sacrebleu`.\n",
    "\n"
   ]
  },
  {
   "cell_type": "markdown",
   "id": "214d9989",
   "metadata": {},
   "source": [
    "**Action (None)**:"
   ]
  },
  {
   "cell_type": "code",
   "execution_count": null,
   "id": "a76e1509",
   "metadata": {},
   "outputs": [
    {
     "data": {
      "text/plain": [
       ""
      ]
     },
     "execution_count": null,
     "metadata": {},
     "output_type": "execute_result"
    }
   ],
   "source": [
    "# # Evaluation of Teacher Model"
   ]
  },
  {
   "cell_type": "markdown",
   "id": "54e347f1",
   "metadata": {},
   "source": [
    "### Step 34"
   ]
  },
  {
   "cell_type": "markdown",
   "id": "a83e5ef9",
   "metadata": {},
   "source": [
    "Execution Start time: 06:05:09, End time: 06:05:09 (duration: 0 seconds)"
   ]
  },
  {
   "cell_type": "markdown",
   "id": "a6a2a322",
   "metadata": {},
   "source": [
    "**Thought**: Now, let's generate predictions on the test set using the `generate.py` script with `beam_size=5`.\n",
    "\n"
   ]
  },
  {
   "cell_type": "markdown",
   "id": "91321830",
   "metadata": {},
   "source": [
    "**Action (None)**:"
   ]
  },
  {
   "cell_type": "code",
   "execution_count": null,
   "id": "592bffa8",
   "metadata": {},
   "outputs": [
    {
     "data": {
      "text/plain": [
       "python: can't open file '/content/Align-to-Distill/generate.py': [Errno 2] No such file or directory\n"
      ]
     },
     "execution_count": null,
     "metadata": {},
     "output_type": "execute_result"
    }
   ],
   "source": [
    "!python generate.py data-bin --path checkpoints/teacher/checkpoint_best.pt --beam 5 --batch-size 1 --remove-bpe --gen-subset test > teacher_output.txt"
   ]
  },
  {
   "cell_type": "markdown",
   "id": "ded0cca6",
   "metadata": {},
   "source": [
    "### Step 35"
   ]
  },
  {
   "cell_type": "markdown",
   "id": "9e2b4513",
   "metadata": {},
   "source": [
    "Execution Start time: 06:05:11, End time: 06:05:12 (duration: 0 seconds)"
   ]
  },
  {
   "cell_type": "markdown",
   "id": "c0e00b47",
   "metadata": {},
   "source": [
    "**Thought**: It seems like the `generate.py` script is not located in the root directory. Let's search for the `generate.py` script within the repository to find its correct location.\n",
    "\n"
   ]
  },
  {
   "cell_type": "markdown",
   "id": "d36999e9",
   "metadata": {},
   "source": [
    "**Action (None)**:"
   ]
  },
  {
   "cell_type": "code",
   "execution_count": null,
   "id": "c79400f4",
   "metadata": {},
   "outputs": [
    {
     "data": {
      "text/plain": [
       "./fairseq_cli/generate.py\n"
      ]
     },
     "execution_count": null,
     "metadata": {},
     "output_type": "execute_result"
    }
   ],
   "source": [
    "!find . -name \"generate.py\""
   ]
  },
  {
   "cell_type": "markdown",
   "id": "e6cbbc71",
   "metadata": {},
   "source": [
    "### Step 36"
   ]
  },
  {
   "cell_type": "markdown",
   "id": "c9f6279f",
   "metadata": {},
   "source": [
    "Execution Start time: 06:05:14, End time: 06:05:54 (duration: 39 seconds)"
   ]
  },
  {
   "cell_type": "markdown",
   "id": "ff1747bf",
   "metadata": {},
   "source": [
    "**Thought**: The `generate.py` script is located in the `fairseq_cli` directory. I will now run the script from its correct location to generate predictions on the test set using `beam_size=5`.\n",
    "\n"
   ]
  },
  {
   "cell_type": "markdown",
   "id": "6ab76e74",
   "metadata": {},
   "source": [
    "**Action (None)**:"
   ]
  },
  {
   "cell_type": "code",
   "execution_count": null,
   "id": "b95cfdfb",
   "metadata": {},
   "outputs": [
    {
     "data": {
      "text/plain": [
       "2024-08-22 06:05:19 | INFO | fairseq_cli.generate | {'_name': None, 'common': {'_name': None, 'no_progress_bar': False, 'log_interval': 100, 'log_format': None, 'log_file': None, 'aim_repo': None, 'aim_run_hash': None, 'tensorboard_logdir': None, 'wandb_project': None, 'azureml_logging': False, 'seed': 1, 'cpu': False, 'tpu': False, 'bf16': False, 'memory_efficient_bf16': False, 'fp16': False, 'memory_efficient_fp16': False, 'fp16_no_flatten_grads': False, 'fp16_init_scale': 128, 'fp16_scale_window': None, 'fp16_scale_tolerance': 0.0, 'on_cpu_convert_precision': False, 'min_loss_scale': 0.0001, 'threshold_loss_scale': None, 'amp': False, 'amp_batch_retries': 2, 'amp_init_scale': 128, 'amp_scale_window': None, 'user_dir': None, 'empty_cache_freq': 0, 'all_gather_list_size': 16384, 'model_parallel_size': 1, 'quantization_config_path': None, 'profile': False, 'reset_logging': False, 'suppress_crashes': False, 'use_plasma_view': False, 'plasma_path': '/tmp/plasma'}, 'common_eval': {'_name': None, 'path': 'checkpoints/teacher/checkpoint_best.pt', 'post_process': 'subword_nmt', 'quiet': False, 'model_overrides': '{}', 'results_path': None}, 'distributed_training': {'_name': None, 'distributed_world_size': 1, 'distributed_num_procs': 1, 'distributed_rank': 0, 'distributed_backend': 'nccl', 'distributed_init_method': None, 'distributed_port': -1, 'device_id': 0, 'distributed_no_spawn': False, 'ddp_backend': 'pytorch_ddp', 'ddp_comm_hook': 'none', 'bucket_cap_mb': 25, 'fix_batches_to_gpus': False, 'find_unused_parameters': False, 'gradient_as_bucket_view': False, 'fast_stat_sync': False, 'heartbeat_timeout': -1, 'broadcast_buffers': False, 'slowmo_momentum': None, 'slowmo_base_algorithm': 'localsgd', 'localsgd_frequency': 3, 'nprocs_per_node': 1, 'pipeline_model_parallel': False, 'pipeline_balance': None, 'pipeline_devices': None, 'pipeline_chunks': 0, 'pipeline_encoder_balance': None, 'pipeline_encoder_devices': None, 'pipeline_decoder_balance': None, 'pipeline_decoder_devices': None, 'pipeline_checkpoint': 'never', 'zero_sharding': 'none', 'fp16': False, 'memory_efficient_fp16': False, 'tpu': False, 'no_reshard_after_forward': False, 'fp32_reduce_scatter': False, 'cpu_offload': False, 'use_sharded_state': False, 'not_fsdp_flatten_parameters': False}, 'dataset': {'_name': None, 'num_workers': 1, 'skip_invalid_size_inputs_valid_test': False, 'max_tokens': None, 'batch_size': 1, 'required_batch_size_multiple': 8, 'required_seq_len_multiple': 1, 'dataset_impl': None, 'data_buffer_size': 10, 'train_subset': 'train', 'valid_subset': 'valid', 'combine_valid_subsets': None, 'ignore_unused_valid_subsets': False, 'validate_interval': 1, 'validate_interval_updates': 0, 'validate_after_updates': 0, 'fixed_validation_seed': None, 'disable_validation': False, 'max_tokens_valid': None, 'batch_size_valid': 1, 'max_valid_steps': None, 'curriculum': 0, 'gen_subset': 'test', 'num_shards': 1, 'shard_id': 0, 'grouped_shuffling': False, 'update_epoch_batch_itr': False, 'update_ordered_indices_seed': False}, 'optimization': {'_name': None, 'max_epoch': 0, 'max_update': 0, 'stop_time_hours': 0.0, 'clip_norm': 0.0, 'sentence_avg': False, 'update_freq': [1], 'lr': [0.25], 'stop_min_lr': -1.0, 'use_bmuf': False, 'skip_remainder_batch': False}, 'checkpoint': {'_name': None, 'save_dir': 'checkpoints', 'restore_file': 'checkpoint_last.pt', 'continue_once': None, 'finetune_from_model': None, 'reset_dataloader': False, 'reset_lr_scheduler': False, 'reset_meters': False, 'reset_optimizer': False, 'optimizer_overrides': '{}', 'save_interval': 1, 'save_interval_updates': 0, 'keep_interval_updates': -1, 'keep_interval_updates_pattern': -1, 'keep_last_epochs': -1, 'keep_best_checkpoints': -1, 'no_save': False, 'no_epoch_checkpoints': False, 'no_last_checkpoints': False, 'no_save_optimizer_state': False, 'best_checkpoint_metric': 'loss', 'maximize_best_checkpoint_metric': False, 'patience': -1, 'checkpoint_suffix': '', 'checkpoint_shard_count': 1, 'load_checkpoint_on_all_dp_ranks': False, 'write_checkpoints_asynchronously': False, 'model_parallel_size': 1}, 'bmuf': {'_name': None, 'block_lr': 1.0, 'block_momentum': 0.875, 'global_sync_iter': 50, 'warmup_iterations': 500, 'use_nbm': False, 'average_sync': False, 'distributed_world_size': 1}, 'generation': {'_name': None, 'beam': 5, 'beam_mt': 0, 'nbest': 1, 'max_len_a': 0.0, 'max_len_b': 200, 'max_len_a_mt': 0.0, 'max_len_b_mt': 200, 'min_len': 1, 'match_source_len': False, 'unnormalized': False, 'no_early_stop': False, 'no_beamable_mm': False, 'lenpen': 1.0, 'lenpen_mt': 1.0, 'unkpen': 0.0, 'replace_unk': None, 'sacrebleu': False, 'score_reference': False, 'prefix_size': 0, 'no_repeat_ngram_size': 0, 'sampling': False, 'sampling_topk': -1, 'sampling_topp': -1.0, 'constraints': None, 'temperature': 1.0, 'diverse_beam_groups': -1, 'diverse_beam_strength': 0.5, 'diversity_rate': -1.0, 'print_alignment': None, 'print_step': False, 'lm_path': None, 'lm_weight': 0.0, 'iter_decode_eos_penalty': 0.0, 'iter_decode_max_iter': 10, 'iter_decode_force_max_iter': False, 'iter_decode_with_beam': 1, 'iter_decode_with_external_reranker': False, 'retain_iter_history': False, 'retain_dropout': False, 'retain_dropout_modules': None, 'decoding_format': None, 'no_seed_provided': False, 'eos_token': None}, 'eval_lm': {'_name': None, 'output_word_probs': False, 'output_word_stats': False, 'context_window': 0, 'softmax_batch': 9223372036854775807}, 'interactive': {'_name': None, 'buffer_size': 0, 'input': '-'}, 'model': {'_name': 'wav2vec2', 'extractor_mode': 'default', 'encoder_layers': 12, 'encoder_embed_dim': 768, 'encoder_ffn_embed_dim': 3072, 'encoder_attention_heads': 12, 'activation_fn': 'gelu', 'layer_type': 'transformer', 'dropout': 0.1, 'attention_dropout': 0.1, 'activation_dropout': 0.0, 'encoder_layerdrop': 0.0, 'dropout_input': 0.0, 'dropout_features': 0.0, 'final_dim': 0, 'layer_norm_first': False, 'conv_feature_layers': '[(512, 10, 5)] + [(512, 3, 2)] * 4 + [(512,2,2)] + [(512,2,2)]', 'conv_bias': False, 'logit_temp': 0.1, 'quantize_targets': False, 'quantize_input': False, 'same_quantizer': False, 'target_glu': False, 'feature_grad_mult': 1.0, 'quantizer_depth': 1, 'quantizer_factor': 3, 'latent_vars': 320, 'latent_groups': 2, 'latent_dim': 0, 'mask_length': 10, 'mask_prob': 0.65, 'mask_selection': 'static', 'mask_other': 0.0, 'no_mask_overlap': False, 'mask_min_space': 1, 'require_same_masks': True, 'mask_dropout': 0.0, 'mask_channel_length': 10, 'mask_channel_prob': 0.0, 'mask_channel_before': False, 'mask_channel_selection': 'static', 'mask_channel_other': 0.0, 'no_mask_channel_overlap': False, 'mask_channel_min_space': 1, 'num_negatives': 100, 'negatives_from_everywhere': False, 'cross_sample_negatives': 0, 'codebook_negatives': 0, 'conv_pos': 128, 'conv_pos_groups': 16, 'pos_conv_depth': 1, 'latent_temp': [2.0, 0.5, 0.999995], 'max_positions': 100000, 'checkpoint_activations': False, 'required_seq_len_multiple': 1, 'crop_seq_to_multiple': 1, 'depthwise_conv_kernel_size': 31, 'attn_type': '', 'pos_enc_type': 'abs', 'fp16': False}, 'task': {'_name': 'translation', 'data': 'data-bin', 'source_lang': None, 'target_lang': None, 'load_alignments': False, 'left_pad_source': True, 'left_pad_target': False, 'max_source_positions': 1024, 'max_target_positions': 1024, 'upsample_primary': -1, 'truncate_source': False, 'num_batch_buckets': 0, 'train_subset': 'train', 'dataset_impl': None, 'required_seq_len_multiple': 1, 'eval_bleu': False, 'eval_bleu_args': '{}', 'eval_bleu_detok': 'space', 'eval_bleu_detok_args': '{}', 'eval_tokenized_bleu': False, 'eval_bleu_remove_bpe': None, 'eval_bleu_print_samples': False}, 'criterion': {'_name': 'cross_entropy', 'sentence_avg': True}, 'optimizer': None, 'lr_scheduler': {'_name': 'fixed', 'force_anneal': None, 'lr_shrink': 0.1, 'warmup_updates': 0, 'lr': [0.25]}, 'scoring': {'_name': 'bleu', 'pad': 1, 'eos': 2, 'unk': 3}, 'bpe': None, 'tokenizer': None, 'ema': {'_name': None, 'store_ema': False, 'ema_decay': 0.9999, 'ema_start_update': 0, 'ema_seed_model': None, 'ema_update_freq': 1, 'ema_fp32': False}}\n2024-08-22 06:05:19 | INFO | fairseq.tasks.translation | [de] dictionary: 128 types\n2024-08-22 06:05:19 | INFO | fairseq.tasks.translation | [en] dictionary: 120 types\n2024-08-22 06:05:19 | INFO | fairseq_cli.generate | loading model(s) from checkpoints/teacher/checkpoint_best.pt\n/root/.local/lib/python3.10/site-packages/fairseq/checkpoint_utils.py:319: FutureWarning: You are using `torch.load` with `weights_only=False` (the current default value), which uses the default pickle module implicitly. It is possible to construct malicious pickle data which will execute arbitrary code during unpickling (See https://github.com/pytorch/pytorch/blob/main/SECURITY.md#untrusted-models for more details). In a future release, the default value for `weights_only` will be flipped to `True`. This limits the functions that could be executed during unpickling. Arbitrary objects will no longer be allowed to be loaded via this mode unless they are explicitly allowlisted by the user via `torch.serialization.add_safe_globals`. We recommend you start setting `weights_only=True` for any use case where you don't have full control of the loaded file. Please open an issue on GitHub for any issues related to this experimental feature.\n  state = torch.load(f, map_location=torch.device(\"cpu\"))\n2024-08-22 06:05:19 | INFO | fairseq.data.data_utils | loaded 10 examples from: data-bin/test.de-en.de\n2024-08-22 06:05:19 | INFO | fairseq.data.data_utils | loaded 10 examples from: data-bin/test.de-en.en\n2024-08-22 06:05:19 | INFO | fairseq.tasks.translation | data-bin test de-en 10 examples\n\n  0%|                                                    | 0/10 [00:00<?, ?it/s]\n 10%|███▌                                | 1/10 [00:03<00:31,  3.54s/it, wps=57]\n 20%|███████▏                            | 2/10 [00:06<00:25,  3.23s/it, wps=61]\n 30%|██████████▊                         | 3/10 [00:09<00:21,  3.13s/it, wps=63]\n 40%|██████████████▍                     | 4/10 [00:12<00:18,  3.10s/it, wps=64]\n 50%|██████████████████                  | 5/10 [00:15<00:15,  3.14s/it, wps=64]\n 60%|█████████████████████▌              | 6/10 [00:19<00:13,  3.28s/it, wps=62]\n 70%|█████████████████████████▏          | 7/10 [00:22<00:09,  3.20s/it, wps=63]\n 80%|████████████████████████████▊       | 8/10 [00:25<00:06,  3.21s/it, wps=63]\n 90%|████████████████████████████████▍   | 9/10 [00:29<00:03,  3.26s/it, wps=62]\n100%|███████████████████████████████████| 10/10 [00:32<00:00,  3.29s/it, wps=62]\n                                                                                \n2024-08-22 06:05:52 | INFO | fairseq_cli.generate | NOTE: hypothesis and token scores are output in base 2\n2024-08-22 06:05:52 | INFO | fairseq_cli.generate | Translated 10 sentences (2,010 tokens) in 32.2s (0.31 sentences/s, 62.41 tokens/s)\n"
      ]
     },
     "execution_count": null,
     "metadata": {},
     "output_type": "execute_result"
    }
   ],
   "source": [
    "!python fairseq_cli/generate.py data-bin --path checkpoints/teacher/checkpoint_best.pt --beam 5 --batch-size 1 --remove-bpe --gen-subset test > teacher_output.txt"
   ]
  },
  {
   "cell_type": "markdown",
   "id": "2d743e6c",
   "metadata": {},
   "source": [
    "### Step 37"
   ]
  },
  {
   "cell_type": "markdown",
   "id": "6e827c58",
   "metadata": {},
   "source": [
    "Execution Start time: 06:05:55, End time: 06:05:56 (duration: 0 seconds)"
   ]
  },
  {
   "cell_type": "markdown",
   "id": "a219fd66",
   "metadata": {},
   "source": [
    "**Thought**: The predictions have been generated successfully. Now, let's evaluate these predictions using the `score.py` script with `--ignore-case --sacrebleu`.\n",
    "\n"
   ]
  },
  {
   "cell_type": "markdown",
   "id": "467c3075",
   "metadata": {},
   "source": [
    "**Action (None)**:"
   ]
  },
  {
   "cell_type": "code",
   "execution_count": null,
   "id": "765f2a4d",
   "metadata": {},
   "outputs": [
    {
     "data": {
      "text/plain": [
       "python: can't open file '/content/Align-to-Distill/scripts/score.py': [Errno 2] No such file or directory\n"
      ]
     },
     "execution_count": null,
     "metadata": {},
     "output_type": "execute_result"
    }
   ],
   "source": [
    "!python scripts/score.py --sys teacher_output.txt --ref data/de-en/test10.en --ignore-case --sacrebleu"
   ]
  },
  {
   "cell_type": "markdown",
   "id": "0030e35b",
   "metadata": {},
   "source": [
    "### Step 38"
   ]
  },
  {
   "cell_type": "markdown",
   "id": "d6f1f1cb",
   "metadata": {},
   "source": [
    "Execution Start time: 06:05:57, End time: 06:05:58 (duration: 0 seconds)"
   ]
  },
  {
   "cell_type": "markdown",
   "id": "d2d6e659",
   "metadata": {},
   "source": [
    "**Thought**: It seems like the `score.py` script is not located in the `scripts` directory. Let's search for the `score.py` script within the repository to find its correct location.\n",
    "\n"
   ]
  },
  {
   "cell_type": "markdown",
   "id": "f8c90306",
   "metadata": {},
   "source": [
    "**Action (None)**:"
   ]
  },
  {
   "cell_type": "code",
   "execution_count": null,
   "id": "fb7f093b",
   "metadata": {},
   "outputs": [
    {
     "data": {
      "text/plain": [
       "./fairseq_cli/score.py\n"
      ]
     },
     "execution_count": null,
     "metadata": {},
     "output_type": "execute_result"
    }
   ],
   "source": [
    "!find . -name \"score.py\""
   ]
  },
  {
   "cell_type": "markdown",
   "id": "a3d2559c",
   "metadata": {},
   "source": [
    "### Step 39"
   ]
  },
  {
   "cell_type": "markdown",
   "id": "70dfcf10",
   "metadata": {},
   "source": [
    "Execution Start time: 06:05:59, End time: 06:06:03 (duration: 3 seconds)"
   ]
  },
  {
   "cell_type": "markdown",
   "id": "3a69ef23",
   "metadata": {},
   "source": [
    "**Thought**: The `score.py` script is located in the `fairseq_cli` directory. I will now run the script from its correct location to evaluate the predictions.\n",
    "\n"
   ]
  },
  {
   "cell_type": "markdown",
   "id": "027caa5f",
   "metadata": {},
   "source": [
    "**Action (None)**:"
   ]
  },
  {
   "cell_type": "code",
   "execution_count": null,
   "id": "7529001a",
   "metadata": {},
   "outputs": [
    {
     "data": {
      "text/plain": [
       "Namespace(sys='teacher_output.txt', ref='data/de-en/test10.en', order=4, ignore_case=True, sacrebleu=True, sentence_bleu=False)\nBLEU = 0.13 0.7/0.2/0.1/0.0 (BP = 1.000 ratio = 2.041 hyp_len = 1329 ref_len = 651)\n"
      ]
     },
     "execution_count": null,
     "metadata": {},
     "output_type": "execute_result"
    }
   ],
   "source": [
    "!python fairseq_cli/score.py --sys teacher_output.txt --ref data/de-en/test10.en --ignore-case --sacrebleu"
   ]
  },
  {
   "cell_type": "markdown",
   "id": "42d8ed93",
   "metadata": {},
   "source": [
    "### Step 40"
   ]
  },
  {
   "cell_type": "markdown",
   "id": "95453fb8",
   "metadata": {},
   "source": [
    "Execution Start time: 06:06:05, End time: 06:06:05 (duration: 0 seconds)"
   ]
  },
  {
   "cell_type": "markdown",
   "id": "32e4cc6b",
   "metadata": {},
   "source": [
    "**Thought**: The evaluation of the teacher model is complete, and the BLEU score has been calculated. Now, I will prepare the final JSON output with the loss and nll_loss values obtained during training.\n",
    "\n"
   ]
  },
  {
   "cell_type": "markdown",
   "id": "df4aac6a",
   "metadata": {},
   "source": [
    "**Action (submit)**:"
   ]
  },
  {
   "cell_type": "code",
   "execution_count": null,
   "id": "7ec8d4f4",
   "metadata": {},
   "outputs": [
    {
     "data": {
      "text/plain": [
       "{teacher_loss: 7.822, teacher_nll_loss: 7.837}"
      ]
     },
     "execution_count": null,
     "metadata": {},
     "output_type": "execute_result"
    }
   ],
   "source": [
    "submit {\"teacher_loss\": 7.822, \"teacher_nll_loss\": 7.837}"
   ]
  }
 ],
 "metadata": {},
 "nbformat": 4,
 "nbformat_minor": 5
}
