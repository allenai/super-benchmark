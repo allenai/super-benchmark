{
 "cells": [
  {
   "cell_type": "markdown",
   "id": "ba5b16e0",
   "metadata": {},
   "source": [
    "### Query\n",
    "Train the SPA model on alpaca_data_en_52k (from the repo), starting with \"openai-community/gpt2\" (from HF) as the base model. Report the training loss as a json structured as follows: {\"training_loss\": 0.0} (replace 0.0 with the actual value).\n",
    "\n",
    "Additional instructions:\n",
    "1. Load only the first 10 rows of each set in the dataset\n",
    "2. Train only one epoch.\n",
    "3. Use hyperparameters from `train.sh` file.\n",
    "\n",
    "Git repository: https://github.com/OceannTwT/SPA\n",
    "\n",
    "I have already executed some of the required steps. Now, you should install all required dependencies. Once dependencies are installed, you can re-run any of the pre-executed steps, and finally should successfully run\n",
    "```\n",
    "!python src/train_bash.py \\\n",
    "    --stage sft \\\n",
    "    --model_name_or_path openai-community/gpt2 \\\n",
    "    --do_train \\\n",
    "    --dataset alpaca_en \\\n",
    "    --finetuning_type full \\\n",
    "    --output_dir openai-community-gpt2/output \\\n",
    "    --overwrite_cache \\\n",
    "    --per_device_train_batch_size 8 \\\n",
    "    --gradient_accumulation_steps 1 \\\n",
    "    --lr_scheduler_type cosine \\\n",
    "    --logging_steps 10 \\\n",
    "    --save_steps 7000 \\\n",
    "    --learning_rate 2e-4 \\\n",
    "    --num_train_epochs 1.0 \\\n",
    "    --adapter_len 32 \\\n",
    "    --plot_loss\n",
    "```\n",
    "to submit the answer."
   ]
  },
  {
   "cell_type": "markdown",
   "id": "405d9fe0",
   "metadata": {},
   "source": [
    "### Prompt\n",
    "<details>\n",
    "[{'role': 'system', 'content': 'Interact in a jupyter notebook to solve the request.\\nOutput a thought and an action.\\nThought can reason about the current situation, and action allows you to interact with the Jupyter notebook. There are three types of actions:\\n(1) execute, which executes a notebook cell with the command under the \"content\" field. This could be a bash command (beginning with !), a python command, or magic command (beginning with %).\\n(2) edit, which allows you to replace existing lines in a file with new lines. To replace lines, you will need to provide the lines as they appear before the replacement, and the lines to replace them with.\\nIn the \"content\" field, format should be ```{filename}\\n<<<BEFORE_EDIT>>>\\nlines before edit\\nlines before edit\\n<<<AFTER_EDIT>>>\\nlines after edit\\nlines after edit```\\n  - Include the entire lines WITH indentation. After editing, make sure indentation is correct.\\n(3) submit, which submits the final answer (or null if there\\'s no answer to submit), formatted as JSON (make sure to use double quotes for keys and values).\\nAlways output exactly one \"thought\" and one \"action\", and encapsulate the content with <content>...</content> tags.\\nI will provide the cell output (observation) for you.\\n\\nTips:\\n- When a github repository is given, you should start by cloning it. You can read the readme file and browse the repo for installation and usage instructions.\\n- Avoid using conda, instead use pip for package management.\\n- Each execution has a 5-minute timeout. After this period, you can decide whether to interrupt the kernel or continue waiting.\\n  You should interrupt if: (1) you are prompted with an interactive message (e.g., \"Do you want to continue? [Y/n]\"). In that case, you can bypass it by executing echo \"y\" | command, or (2) the execution is taking longer than expected because the wrong task is being executed, such as a different model or incorrect number of epochs.\\n  You should continue to wait if the current execution is correct and proceeding as expected.\\n\\nHere are some examples.\\nGit repository: EleutherAI/lm-evaluation-harness\\nQuery: Evaluate EleutherAI/gpt-j-6B on hellaswag. What\\'s the score?\\nThought: First, I need to clone the GitHub repository \\'EleutherAI/lm-evaluation-harness\\'.\\nAction: execute\\n<content>\\n!git clone https://github.com/EleutherAI/lm-evaluation-harness.git\\n</content>\\nObservation: ```\\nCloning into \\'lm-evaluation-harness\\'...\\n```\\nThought: The repository has been cloned. Next, I should check the README file for installation and usage instructions to proceed with evaluating EleutherAI/gpt-j-6B on hellaswag.\\nAction: execute\\n<content>\\n!cat lm-evaluation-harness/README.md\\n</content>\\nObservation: ```# Language Model Evaluation Harness ... truncated ...\\n```\\nThought: The README provides detailed instructions for installing the `lm-eval` package and evaluating models like GPT-J-6B on tasks like hellaswag. I need to install the package and its dependencies first.\\nAction: execute\\n<content>\\n!pip install -e lm-evaluation-harness/.\\n</content>\\nObservation: ```\\nObtaining file:///home/nora/lm-evaluation-harness\\n  Installing build dependencies ... truncated ...\\n```\\nThought: The `lm-eval` package and its dependencies have been installed successfully. Now, I can proceed with evaluating the EleutherAI/gpt-j-6B model on the hellaswag task as per the instructions in the README.\\nAction: execute\\n<content>\\n!lm_eval --model hf --model_args pretrained=EleutherAI/gpt-j-6B --tasks hellaswag --device cuda:0 --batch_size 8\\n</content>\\nObservation: ```\\n{\\n  \"hellaswag\": {\\n    \"acc\": 0.24603658536585363,\\n    \"acc_norm\": 0.34436059706446426,\\n  },  ... truncated ...\\n```\\nThought: The `lm-eval` was executed successfully, providing the metrics I needed. The `acc` metric is 0.2460. The `acc_norm` metric is 0.3444\\nAction: submit\\n<content>\\n{\"acc\": 0.2460, \"acc_norm\": 0.3444}\\n</content>\\n\\nQuery: use pandas to read the file \\'data.csv\\' and display the first 2 rows.\\nThought: First, I need to read the file \\'data.csv\\' using the pandas library.\\nAction: execute\\n<content>\\nimport pandas as pd\\npd.read_csv(\\'data.csv\\').head()\\n</content>\\nObservation: ```\\n    name\\n  0  Alice\\n   1    Bob\\n  2  Charlie\\n```\\nThought: The file \\'data.csv\\' has been read successfully and the first 2 rows have been displayed.\\nAction: submit\\n<content>\\n[\"Alice\", \"Bob\"]\\n</content>\\n\\nQuery: Change the model name in the \\'config.json\\' file from \\'roberta-base\\' to \\'roberta-large\\'.\\nThought: First, I need to read the \\'config.json\\' file to find the location where I can replace the model name.\\nAction: execute\\n<content>\\n!cat config.json\\n</content>\\nObservation: ```\\n{\\n    \"model\": \"roberta-base\",\\n    \"batch_size\": 8,\\n    \"epochs\": 10\\n}\\n```\\nThought: The file has been read successfully. Now, I can replace the model name in the \\'config.json\\' file.\\nAction: edit\\n<content>\\nconfig.json\\n<<<BEFORE_EDIT>>>\\n{\\n    \"model\": \"roberta-base\",\\n    \"batch_size\": 8,\\n<<<AFTER_EDIT>>>\\n{\\n    \"model\": \"roberta-large\",\\n    \"batch_size\": 8,\\n</content>\\nObservation: \"editing file config.json\"\\nThought: The model name has been replaced in the \\'config.json\\' file.\\nAction: submit\\n<content>\\nnull\\n</content>\\n'}, {'role': 'user', 'content': 'Query: Train the SPA model on alpaca_data_en_52k (from the repo), starting with \"openai-community/gpt2\" (from HF) as the base model. Report the training loss as a json structured as follows: {\"training_loss\": 0.0} (replace 0.0 with the actual value).\\n\\nAdditional instructions:\\n1. Load only the first 10 rows of each set in the dataset\\n2. Train only one epoch.\\n3. Use hyperparameters from `train.sh` file.\\n\\nGit repository: https://github.com/OceannTwT/SPA\\n\\nI have already executed some of the required steps. Now, you should install all required dependencies. Once dependencies are installed, you can re-run any of the pre-executed steps, and finally should successfully run\\n```\\n!python src/train_bash.py \\\\\\n    --stage sft \\\\\\n    --model_name_or_path openai-community/gpt2 \\\\\\n    --do_train \\\\\\n    --dataset alpaca_en \\\\\\n    --finetuning_type full \\\\\\n    --output_dir openai-community-gpt2/output \\\\\\n    --overwrite_cache \\\\\\n    --per_device_train_batch_size 8 \\\\\\n    --gradient_accumulation_steps 1 \\\\\\n    --lr_scheduler_type cosine \\\\\\n    --logging_steps 10 \\\\\\n    --save_steps 7000 \\\\\\n    --learning_rate 2e-4 \\\\\\n    --num_train_epochs 1.0 \\\\\\n    --adapter_len 32 \\\\\\n    --plot_loss\\n```\\nto submit the answer.'}]\n",
    "</details>\n"
   ]
  },
  {
   "cell_type": "markdown",
   "id": "609b70f3",
   "metadata": {},
   "source": [
    "### Step 1"
   ]
  },
  {
   "cell_type": "markdown",
   "id": "2f002965",
   "metadata": {},
   "source": [
    "Execution Start time: 23:07:52, End time: 23:07:52 (duration: 0 seconds)"
   ]
  },
  {
   "cell_type": "markdown",
   "id": "70ffee87",
   "metadata": {},
   "source": [
    "**Thought**: [pre-executed by user]"
   ]
  },
  {
   "cell_type": "markdown",
   "id": "d99b5bfd",
   "metadata": {},
   "source": [
    "**Action (execute)**:"
   ]
  },
  {
   "cell_type": "code",
   "execution_count": null,
   "id": "fc883b26",
   "metadata": {},
   "outputs": [
    {
     "data": {
      "text/plain": [
       ""
      ]
     },
     "execution_count": null,
     "metadata": {},
     "output_type": "execute_result"
    }
   ],
   "source": [
    "# ### Setup"
   ]
  },
  {
   "cell_type": "markdown",
   "id": "ef9bcf61",
   "metadata": {},
   "source": [
    "### Step 2"
   ]
  },
  {
   "cell_type": "markdown",
   "id": "9b311a30",
   "metadata": {},
   "source": [
    "Execution Start time: 23:07:52, End time: 23:07:52 (duration: 0 seconds)"
   ]
  },
  {
   "cell_type": "markdown",
   "id": "71b303b8",
   "metadata": {},
   "source": [
    "**Thought**: [pre-executed by user]"
   ]
  },
  {
   "cell_type": "markdown",
   "id": "b2b24f96",
   "metadata": {},
   "source": [
    "**Action (execute)**:"
   ]
  },
  {
   "cell_type": "code",
   "execution_count": null,
   "id": "ab386fcb",
   "metadata": {},
   "outputs": [
    {
     "data": {
      "text/plain": [
       ""
      ]
     },
     "execution_count": null,
     "metadata": {},
     "output_type": "execute_result"
    }
   ],
   "source": [
    "# #### Clone repo"
   ]
  },
  {
   "cell_type": "markdown",
   "id": "ba926165",
   "metadata": {},
   "source": [
    "### Step 3"
   ]
  },
  {
   "cell_type": "markdown",
   "id": "a9f685be",
   "metadata": {},
   "source": [
    "Execution Start time: 23:07:52, End time: 23:08:01 (duration: 8 seconds)"
   ]
  },
  {
   "cell_type": "markdown",
   "id": "7e3146e8",
   "metadata": {},
   "source": [
    "**Thought**: [pre-executed by user]"
   ]
  },
  {
   "cell_type": "markdown",
   "id": "495554ff",
   "metadata": {},
   "source": [
    "**Action (execute)**:"
   ]
  },
  {
   "cell_type": "code",
   "execution_count": null,
   "id": "b60eff47",
   "metadata": {},
   "outputs": [
    {
     "data": {
      "text/plain": [
       "Cloning into 'SPA'...\nremote: Enumerating objects: 144, done.\u001b[K\nremote: Counting objects: 100% (17/17)\u001b[K\nremote: Counting objects: 100% (17/17), done.\u001b[K\nremote: Compressing objects: 100% (12/12)\u001b[K\nremote: Compressing objects: 100% (12/12), done.\u001b[K\nremote: Total 144 (delta 5), reused 9 (delta 3), pack-reused 127 (from 1)\u001b[K\nReceiving objects: 100% (144/144), 148.57 MiB | 33.01 MiB/s\nReceiving objects: 100% (144/144), 161.75 MiB | 32.89 MiB/s, done.\nResolving deltas: 100% (14/14)\nResolving deltas: 100% (14/14), done.\nUpdating files: 100% (106/106)\nUpdating files: 100% (106/106), done.\n"
      ]
     },
     "execution_count": null,
     "metadata": {},
     "output_type": "execute_result"
    }
   ],
   "source": [
    "!git clone https://github.com/OceannTwT/SPA.git"
   ]
  },
  {
   "cell_type": "markdown",
   "id": "24dd3b70",
   "metadata": {},
   "source": [
    "### Step 4"
   ]
  },
  {
   "cell_type": "markdown",
   "id": "fb3c3ccb",
   "metadata": {},
   "source": [
    "Execution Start time: 23:08:01, End time: 23:08:01 (duration: 0 seconds)"
   ]
  },
  {
   "cell_type": "markdown",
   "id": "b65e8151",
   "metadata": {},
   "source": [
    "**Thought**: [pre-executed by user]"
   ]
  },
  {
   "cell_type": "markdown",
   "id": "e47a9be4",
   "metadata": {},
   "source": [
    "**Action (execute)**:"
   ]
  },
  {
   "cell_type": "code",
   "execution_count": null,
   "id": "4f197696",
   "metadata": {},
   "outputs": [
    {
     "data": {
      "text/plain": [
       "/content/SPA\n"
      ]
     },
     "execution_count": null,
     "metadata": {},
     "output_type": "execute_result"
    }
   ],
   "source": [
    "%cd /content/SPA"
   ]
  },
  {
   "cell_type": "markdown",
   "id": "c1ea67c8",
   "metadata": {},
   "source": [
    "### Step 5"
   ]
  },
  {
   "cell_type": "markdown",
   "id": "85c4f9f7",
   "metadata": {},
   "source": [
    "Execution Start time: 23:08:01, End time: 23:08:01 (duration: 0 seconds)"
   ]
  },
  {
   "cell_type": "markdown",
   "id": "3490a346",
   "metadata": {},
   "source": [
    "**Thought**: [pre-executed by user]"
   ]
  },
  {
   "cell_type": "markdown",
   "id": "f034e6d1",
   "metadata": {},
   "source": [
    "**Action (execute)**:"
   ]
  },
  {
   "cell_type": "code",
   "execution_count": null,
   "id": "dc03d5b9",
   "metadata": {},
   "outputs": [
    {
     "data": {
      "text/plain": [
       ""
      ]
     },
     "execution_count": null,
     "metadata": {},
     "output_type": "execute_result"
    }
   ],
   "source": [
    "# First attempt to run train script"
   ]
  },
  {
   "cell_type": "markdown",
   "id": "05c3a8df",
   "metadata": {},
   "source": [
    "### Step 6"
   ]
  },
  {
   "cell_type": "markdown",
   "id": "6096bd18",
   "metadata": {},
   "source": [
    "Execution Start time: 23:08:01, End time: 23:08:01 (duration: 0 seconds)"
   ]
  },
  {
   "cell_type": "markdown",
   "id": "d203ac21",
   "metadata": {},
   "source": [
    "**Thought**: [pre-executed by user]"
   ]
  },
  {
   "cell_type": "markdown",
   "id": "4d96bca4",
   "metadata": {},
   "source": [
    "**Action (execute)**:"
   ]
  },
  {
   "cell_type": "code",
   "execution_count": null,
   "id": "9351f6af",
   "metadata": {},
   "outputs": [
    {
     "data": {
      "text/plain": [
       "./train.sh: line 3: deepspeed: command not found\n"
      ]
     },
     "execution_count": null,
     "metadata": {},
     "output_type": "execute_result"
    }
   ],
   "source": [
    "!bash ./train.sh"
   ]
  },
  {
   "cell_type": "markdown",
   "id": "9e6ccbfe",
   "metadata": {},
   "source": [
    "### Step 7"
   ]
  },
  {
   "cell_type": "markdown",
   "id": "941330ea",
   "metadata": {},
   "source": [
    "Execution Start time: 23:08:01, End time: 23:08:01 (duration: 0 seconds)"
   ]
  },
  {
   "cell_type": "markdown",
   "id": "72392def",
   "metadata": {},
   "source": [
    "**Thought**: [pre-executed by user]"
   ]
  },
  {
   "cell_type": "markdown",
   "id": "84a5b166",
   "metadata": {},
   "source": [
    "**Action (execute)**:"
   ]
  },
  {
   "cell_type": "code",
   "execution_count": null,
   "id": "cf712fe8",
   "metadata": {},
   "outputs": [
    {
     "data": {
      "text/plain": [
       ""
      ]
     },
     "execution_count": null,
     "metadata": {},
     "output_type": "execute_result"
    }
   ],
   "source": [
    "# The script uses the `deepspeed` package. To avoid installing it, I run directly the `src/train_bash.py` script. Before doing so, I keep only 10 samples from the dataset to train."
   ]
  },
  {
   "cell_type": "markdown",
   "id": "bf87b9cb",
   "metadata": {},
   "source": [
    "### Step 8"
   ]
  },
  {
   "cell_type": "markdown",
   "id": "87f0e314",
   "metadata": {},
   "source": [
    "Execution Start time: 23:08:01, End time: 23:08:01 (duration: 0 seconds)"
   ]
  },
  {
   "cell_type": "markdown",
   "id": "919eb22c",
   "metadata": {},
   "source": [
    "**Thought**: [pre-executed by user]"
   ]
  },
  {
   "cell_type": "markdown",
   "id": "1ec85ec4",
   "metadata": {},
   "source": [
    "**Action (execute)**:"
   ]
  },
  {
   "cell_type": "code",
   "execution_count": null,
   "id": "b1f2aebd",
   "metadata": {},
   "outputs": [
    {
     "data": {
      "text/plain": [
       ""
      ]
     },
     "execution_count": null,
     "metadata": {},
     "output_type": "execute_result"
    }
   ],
   "source": [
    "import json\n",
    "\n",
    "n_samples = 10\n",
    "filename = \"data/alpaca_data_en_52k.json\"\n",
    "data = json.load(open(filename))\n",
    "json.dump(data[:n_samples], open(filename, \"w\"), indent=4)"
   ]
  },
  {
   "cell_type": "markdown",
   "id": "2a82b709",
   "metadata": {},
   "source": [
    "### Step 9"
   ]
  },
  {
   "cell_type": "markdown",
   "id": "e14ffd22",
   "metadata": {},
   "source": [
    "Execution Start time: 23:08:01, End time: 23:08:01 (duration: 0 seconds)"
   ]
  },
  {
   "cell_type": "markdown",
   "id": "f51b01ae",
   "metadata": {},
   "source": [
    "**Thought**: [pre-executed by user]"
   ]
  },
  {
   "cell_type": "markdown",
   "id": "b0e1fd3d",
   "metadata": {},
   "source": [
    "**Action (execute)**:"
   ]
  },
  {
   "cell_type": "code",
   "execution_count": null,
   "id": "c4fae2a7",
   "metadata": {},
   "outputs": [
    {
     "data": {
      "text/plain": [
       ""
      ]
     },
     "execution_count": null,
     "metadata": {},
     "output_type": "execute_result"
    }
   ],
   "source": [
    "# To run the script `train_bash.py` according to the task requirements, I replace the default model by the one requested (command line arguments `--model_name_or_patch` and `--output_dir`). Also, remove the `--fp16` argument, as it is incompatible with CPU processing."
   ]
  },
  {
   "cell_type": "markdown",
   "id": "c4672534",
   "metadata": {},
   "source": [
    "### Step 10"
   ]
  },
  {
   "cell_type": "markdown",
   "id": "848c57e1",
   "metadata": {},
   "source": [
    "Execution Start time: 23:08:01, End time: 23:08:05 (duration: 3 seconds)"
   ]
  },
  {
   "cell_type": "markdown",
   "id": "0f51106f",
   "metadata": {},
   "source": [
    "**Thought**: [pre-executed by user]"
   ]
  },
  {
   "cell_type": "markdown",
   "id": "3adee83b",
   "metadata": {},
   "source": [
    "**Action (execute)**:"
   ]
  },
  {
   "cell_type": "code",
   "execution_count": null,
   "id": "bb3ed9f6",
   "metadata": {},
   "outputs": [
    {
     "data": {
      "text/plain": [
       "Traceback (most recent call last):\n  File \"/content/SPA/src/train_bash.py\", line 1, in <module>\n    from llmtuner.tuner import get_train_args, run_pt, run_sft, run_rm, run_ppo\n  File \"/content/SPA/src/llmtuner/__init__.py\", line 1, in <module>\n    from llmtuner.chat import ChatModel\n  File \"/content/SPA/src/llmtuner/chat/__init__.py\", line 1, in <module>\n    from llmtuner.chat.stream_chat import ChatModel\n  File \"/content/SPA/src/llmtuner/chat/stream_chat.py\", line 9, in <module>\n    from llmtuner.tuner import load_model_and_tokenizer\n  File \"/content/SPA/src/llmtuner/tuner/__init__.py\", line 1, in <module>\n    from llmtuner.tuner.core import get_train_args, get_infer_args, load_model_and_tokenizer\n  File \"/content/SPA/src/llmtuner/tuner/core/__init__.py\", line 1, in <module>\n    from llmtuner.tuner.core.parser import get_train_args, get_infer_args\n  File \"/content/SPA/src/llmtuner/tuner/core/parser.py\", line 4, in <module>\n    import datasets\nModuleNotFoundError: No module named 'datasets'\n"
      ]
     },
     "execution_count": null,
     "metadata": {},
     "output_type": "execute_result"
    }
   ],
   "source": [
    "!python src/train_bash.py \\\n",
    "    --stage sft \\\n",
    "    --model_name_or_path openai-community/gpt2 \\\n",
    "    --do_train \\\n",
    "    --dataset alpaca_en \\\n",
    "    --finetuning_type full \\\n",
    "    --output_dir openai-community-gpt2/output \\\n",
    "    --overwrite_cache \\\n",
    "    --per_device_train_batch_size 8 \\\n",
    "    --gradient_accumulation_steps 1 \\\n",
    "    --lr_scheduler_type cosine \\\n",
    "    --logging_steps 10 \\\n",
    "    --save_steps 7000 \\\n",
    "    --learning_rate 2e-4 \\\n",
    "    --num_train_epochs 1.0 \\\n",
    "    --adapter_len 32 \\\n",
    "    --plot_loss"
   ]
  },
  {
   "cell_type": "markdown",
   "id": "c7c5a45d",
   "metadata": {},
   "source": [
    "### Step 11"
   ]
  },
  {
   "cell_type": "markdown",
   "id": "82394084",
   "metadata": {},
   "source": [
    "Execution Start time: 23:08:05, End time: 23:08:05 (duration: 0 seconds)"
   ]
  },
  {
   "cell_type": "markdown",
   "id": "c54136a5",
   "metadata": {},
   "source": [
    "**Thought**: [pre-executed by user]"
   ]
  },
  {
   "cell_type": "markdown",
   "id": "975e93d8",
   "metadata": {},
   "source": [
    "**Action (execute)**:"
   ]
  },
  {
   "cell_type": "code",
   "execution_count": null,
   "id": "90b6da6e",
   "metadata": {},
   "outputs": [
    {
     "data": {
      "text/plain": [
       ""
      ]
     },
     "execution_count": null,
     "metadata": {},
     "output_type": "execute_result"
    }
   ],
   "source": [
    "# #### Install dependencies"
   ]
  },
  {
   "cell_type": "markdown",
   "id": "d29d044a",
   "metadata": {},
   "source": [
    "### Step 12"
   ]
  },
  {
   "cell_type": "markdown",
   "id": "84ee7691",
   "metadata": {},
   "source": [
    "Execution Start time: 23:08:06, End time: 23:08:21 (duration: 15 seconds)"
   ]
  },
  {
   "cell_type": "markdown",
   "id": "fd8d7c21",
   "metadata": {},
   "source": [
    "**Thought**: The error indicates that the `datasets` module is not installed. I need to install the required dependencies, including the `datasets` library, to proceed with the training."
   ]
  },
  {
   "cell_type": "markdown",
   "id": "e17d8cee",
   "metadata": {},
   "source": [
    "**Action (execute)**:"
   ]
  },
  {
   "cell_type": "code",
   "execution_count": null,
   "id": "e5442be5",
   "metadata": {},
   "outputs": [
    {
     "data": {
      "text/plain": [
       "Requirement already satisfied: torch>=1.13.1 in /usr/local/lib/python3.10/site-packages (from -r requirements.txt (line 1)) (2.2.1+cpu)\nRequirement already satisfied: transformers>=4.29.1 in /usr/local/lib/python3.10/site-packages (from -r requirements.txt (line 2)) (4.40.2)\nCollecting datasets>=2.12.0 (from -r requirements.txt (line 3))\n  Downloading datasets-2.21.0-py3-none-any.whl.metadata (21 kB)\nCollecting accelerate>=0.21.0 (from -r requirements.txt (line 4))\n  Downloading accelerate-0.33.0-py3-none-any.whl.metadata (18 kB)\nCollecting peft>=0.4.0 (from -r requirements.txt (line 5))\n  Downloading peft-0.12.0-py3-none-any.whl.metadata (13 kB)\nCollecting trl>=0.4.7 (from -r requirements.txt (line 6))\n  Downloading trl-0.9.6-py3-none-any.whl.metadata (12 kB)\nRequirement already satisfied: sentencepiece in /usr/local/lib/python3.10/site-packages (from -r requirements.txt (line 7)) (0.1.99)\nRequirement already satisfied: jieba in /usr/local/lib/python3.10/site-packages (from -r requirements.txt (line 8)) (0.42.1)\nCollecting rouge-chinese (from -r requirements.txt (line 9))\n  Downloading rouge_chinese-1.0.3-py3-none-any.whl.metadata (7.6 kB)\nRequirement already satisfied: nltk in /usr/local/lib/python3.10/site-packages (from -r requirements.txt (line 10)) (3.8.1)\nCollecting gradio>=3.36.0 (from -r requirements.txt (line 11))\n  Downloading gradio-4.41.0-py3-none-any.whl.metadata (15 kB)\nCollecting uvicorn (from -r requirements.txt (line 12))\n  Downloading uvicorn-0.30.6-py3-none-any.whl.metadata (6.6 kB)\nCollecting pydantic==1.10.11 (from -r requirements.txt (line 13))\n  Downloading pydantic-1.10.11-cp310-cp310-manylinux_2_17_x86_64.manylinux2014_x86_64.whl.metadata (148 kB)\n\u001b[?25l     ━━━━━━━━━━━━━━━━━━━━━━━━━━━━━━━━━━━━━━━━ 0.0/149.0 kB ? eta -:--:--\n\n\u001b[?25hCollecting fastapi==0.95.1 (from -r requirements.txt (line 14))\n  Downloading fastapi-0.95.1-py3-none-any.whl.metadata (24 kB)\nCollecting sse-starlette (from -r requirements.txt (line 15))\n  Downloading sse_starlette-2.1.3-py3-none-any.whl.metadata (5.8 kB)\nRequirement already satisfied: matplotlib in /usr/local/lib/python3.10/site-packages (from -r requirements.txt (line 16)) (3.7.1)\nRequirement already satisfied: typing-extensions>=4.2.0 in /usr/local/lib/python3.10/site-packages (from pydantic==1.10.11->-r requirements.txt (line 13)) (4.12.2)\nCollecting starlette<0.27.0,>=0.26.1 (from fastapi==0.95.1->-r requirements.txt (line 14))\n  Downloading starlette-0.26.1-py3-none-any.whl.metadata (5.8 kB)\nRequirement already satisfied: filelock in /usr/local/lib/python3.10/site-packages (from torch>=1.13.1->-r requirements.txt (line 1)) (3.15.1)\nRequirement already satisfied: sympy in /usr/local/lib/python3.10/site-packages (from torch>=1.13.1->-r requirements.txt (line 1)) (1.12)\nRequirement already satisfied: networkx in /usr/local/lib/python3.10/site-packages (from torch>=1.13.1->-r requirements.txt (line 1)) (3.3)\nRequirement already satisfied: jinja2 in /usr/local/lib/python3.10/site-packages (from torch>=1.13.1->-r requirements.txt (line 1)) (3.1.4)\nRequirement already satisfied: fsspec in /usr/local/lib/python3.10/site-packages (from torch>=1.13.1->-r requirements.txt (line 1)) (2023.6.0)\nRequirement already satisfied: huggingface-hub<1.0,>=0.19.3 in /usr/local/lib/python3.10/site-packages (from transformers>=4.29.1->-r requirements.txt (line 2)) (0.23.3)\nRequirement already satisfied: numpy>=1.17 in /usr/local/lib/python3.10/site-packages (from transformers>=4.29.1->-r requirements.txt (line 2)) (1.25.2)\nRequirement already satisfied: packaging>=20.0 in /usr/local/lib/python3.10/site-packages (from transformers>=4.29.1->-r requirements.txt (line 2)) (24.1)\nRequirement already satisfied: pyyaml>=5.1 in /usr/local/lib/python3.10/site-packages (from transformers>=4.29.1->-r requirements.txt (line 2)) (6.0.1)\nRequirement already satisfied: regex!=2019.12.17 in /usr/local/lib/python3.10/site-packages (from transformers>=4.29.1->-r requirements.txt (line 2)) (2023.12.25)\nRequirement already satisfied: requests in /usr/local/lib/python3.10/site-packages (from transformers>=4.29.1->-r requirements.txt (line 2)) (2.31.0)\nRequirement already satisfied: tokenizers<0.20,>=0.19 in /usr/local/lib/python3.10/site-packages (from transformers>=4.29.1->-r requirements.txt (line 2)) (0.19.1)\nRequirement already satisfied: safetensors>=0.4.1 in /usr/local/lib/python3.10/site-packages (from transformers>=4.29.1->-r requirements.txt (line 2)) (0.4.3)\nRequirement already satisfied: tqdm>=4.27 in /usr/local/lib/python3.10/site-packages (from transformers>=4.29.1->-r requirements.txt (line 2)) (4.66.4)\nCollecting pyarrow>=15.0.0 (from datasets>=2.12.0->-r requirements.txt (line 3))\n  Downloading pyarrow-17.0.0-cp310-cp310-manylinux_2_28_x86_64.whl.metadata (3.3 kB)\nCollecting dill<0.3.9,>=0.3.0 (from datasets>=2.12.0->-r requirements.txt (line 3))\n  Downloading dill-0.3.8-py3-none-any.whl.metadata (10 kB)\nRequirement already satisfied: pandas in /usr/local/lib/python3.10/site-packages (from datasets>=2.12.0->-r requirements.txt (line 3)) (2.0.3)\nCollecting requests (from transformers>=4.29.1->-r requirements.txt (line 2))\n  Downloading requests-2.32.3-py3-none-any.whl.metadata (4.6 kB)\nCollecting xxhash (from datasets>=2.12.0->-r requirements.txt (line 3))\n  Downloading xxhash-3.5.0-cp310-cp310-manylinux_2_17_x86_64.manylinux2014_x86_64.whl.metadata (12 kB)\nCollecting multiprocess (from datasets>=2.12.0->-r requirements.txt (line 3))\n  Downloading multiprocess-0.70.16-py310-none-any.whl.metadata (7.2 kB)\nRequirement already satisfied: aiohttp in /usr/local/lib/python3.10/site-packages (from datasets>=2.12.0->-r requirements.txt (line 3)) (3.8.3)\nRequirement already satisfied: psutil in /usr/local/lib/python3.10/site-packages (from accelerate>=0.21.0->-r requirements.txt (line 4)) (5.9.8)\nCollecting tyro>=0.5.11 (from trl>=0.4.7->-r requirements.txt (line 6))\n  Downloading tyro-0.8.8-py3-none-any.whl.metadata (8.4 kB)\nRequirement already satisfied: six in /usr/local/lib/python3.10/site-packages (from rouge-chinese->-r requirements.txt (line 9)) (1.16.0)\nRequirement already satisfied: click in /usr/local/lib/python3.10/site-packages (from nltk->-r requirements.txt (line 10)) (8.1.7)\nRequirement already satisfied: joblib in /usr/local/lib/python3.10/site-packages (from nltk->-r requirements.txt (line 10)) (1.4.2)\nCollecting aiofiles<24.0,>=22.0 (from gradio>=3.36.0->-r requirements.txt (line 11))\n  Downloading aiofiles-23.2.1-py3-none-any.whl.metadata (9.7 kB)\nRequirement already satisfied: anyio<5.0,>=3.0 in /usr/local/lib/python3.10/site-packages (from gradio>=3.36.0->-r requirements.txt (line 11)) (4.4.0)\nCollecting ffmpy (from gradio>=3.36.0->-r requirements.txt (line 11))\n  Downloading ffmpy-0.4.0-py3-none-any.whl.metadata (2.9 kB)\nCollecting gradio-client==1.3.0 (from gradio>=3.36.0->-r requirements.txt (line 11))\n  Downloading gradio_client-1.3.0-py3-none-any.whl.metadata (7.1 kB)\nRequirement already satisfied: httpx>=0.24.1 in /usr/local/lib/python3.10/site-packages (from gradio>=3.36.0->-r requirements.txt (line 11)) (0.27.0)\nCollecting importlib-resources<7.0,>=1.3 (from gradio>=3.36.0->-r requirements.txt (line 11))\n  Downloading importlib_resources-6.4.3-py3-none-any.whl.metadata (3.9 kB)\nRequirement already satisfied: markupsafe~=2.0 in /usr/local/lib/python3.10/site-packages (from gradio>=3.36.0->-r requirements.txt (line 11)) (2.1.5)\nCollecting orjson~=3.0 (from gradio>=3.36.0->-r requirements.txt (line 11))\n  Downloading orjson-3.10.7-cp310-cp310-manylinux_2_17_x86_64.manylinux2014_x86_64.whl.metadata (50 kB)\n\u001b[?25l     ━━━━━━━━━━━━━━━━━━━━━━━━━━━━━━━━━━━━━━━━ 0.0/50.4 kB ? eta -:--:--\n\n\u001b[?25hRequirement already satisfied: pillow<11.0,>=8.0 in /usr/local/lib/python3.10/site-packages (from gradio>=3.36.0->-r requirements.txt (line 11)) (10.3.0)\nINFO: pip is looking at multiple versions of gradio to determine which version is compatible with other requirements. This could take a while.\nCollecting gradio>=3.36.0 (from -r requirements.txt (line 11))\n  Downloading gradio-4.40.0-py3-none-any.whl.metadata (15 kB)\nCollecting gradio-client==1.2.0 (from gradio>=3.36.0->-r requirements.txt (line 11))\n  Downloading gradio_client-1.2.0-py3-none-any.whl.metadata (7.1 kB)\nCollecting gradio>=3.36.0 (from -r requirements.txt (line 11))\n  Downloading gradio-4.39.0-py3-none-any.whl.metadata (15 kB)\nCollecting gradio-client==1.1.1 (from gradio>=3.36.0->-r requirements.txt (line 11))\n  Downloading gradio_client-1.1.1-py3-none-any.whl.metadata (7.1 kB)\nCollecting gradio>=3.36.0 (from -r requirements.txt (line 11))\n  Downloading gradio-4.38.1-py3-none-any.whl.metadata (15 kB)\nCollecting altair<6.0,>=5.0 (from gradio>=3.36.0->-r requirements.txt (line 11))\n  Downloading altair-5.4.0-py3-none-any.whl.metadata (9.4 kB)\nCollecting gradio-client==1.1.0 (from gradio>=3.36.0->-r requirements.txt (line 11))\n  Downloading gradio_client-1.1.0-py3-none-any.whl.metadata (7.1 kB)\nCollecting gradio>=3.36.0 (from -r requirements.txt (line 11))\n  Downloading gradio-4.38.0-py3-none-any.whl.metadata (15 kB)\n  Downloading gradio-4.37.2-py3-none-any.whl.metadata (15 kB)\nCollecting gradio-client==1.0.2 (from gradio>=3.36.0->-r requirements.txt (line 11))\n  Downloading gradio_client-1.0.2-py3-none-any.whl.metadata (7.1 kB)\nCollecting gradio>=3.36.0 (from -r requirements.txt (line 11))\n  Downloading gradio-4.37.1-py3-none-any.whl.metadata (15 kB)\n  Downloading gradio-4.36.1-py3-none-any.whl.metadata (15 kB)\nCollecting gradio-client==1.0.1 (from gradio>=3.36.0->-r requirements.txt (line 11))\n  Downloading gradio_client-1.0.1-py3-none-any.whl.metadata (7.1 kB)\nINFO: pip is still looking at multiple versions of gradio to determine which version is compatible with other requirements. This could take a while.\nCollecting gradio>=3.36.0 (from -r requirements.txt (line 11))\n  Downloading gradio-4.36.0-py3-none-any.whl.metadata (15 kB)\n  Downloading gradio-4.35.0-py3-none-any.whl.metadata (15 kB)\n  Downloading gradio-4.33.0-py3-none-any.whl.metadata (15 kB)\nCollecting gradio-client==0.17.0 (from gradio>=3.36.0->-r requirements.txt (line 11))\n  Downloading gradio_client-0.17.0-py3-none-any.whl.metadata (7.1 kB)\nCollecting gradio>=3.36.0 (from -r requirements.txt (line 11))\n  Downloading gradio-4.32.2-py3-none-any.whl.metadata (15 kB)\n  Downloading gradio-4.32.1-py3-none-any.whl.metadata (15 kB)\nINFO: This is taking longer than usual. You might need to provide the dependency resolver with stricter constraints to reduce runtime. See https://pip.pypa.io/warnings/backtracking for guidance. If you want to abort this run, press Ctrl + C.\n  Downloading gradio-4.32.0-py3-none-any.whl.metadata (15 kB)\n  Downloading gradio-4.31.5-py3-none-any.whl.metadata (15 kB)\nCollecting gradio-client==0.16.4 (from gradio>=3.36.0->-r requirements.txt (line 11))\n  Downloading gradio_client-0.16.4-py3-none-any.whl.metadata (7.1 kB)\nCollecting gradio>=3.36.0 (from -r requirements.txt (line 11))\n  Downloading gradio-4.31.4-py3-none-any.whl.metadata (15 kB)\n  Downloading gradio-4.31.3-py3-none-any.whl.metadata (15 kB)\nCollecting gradio-client==0.16.3 (from gradio>=3.36.0->-r requirements.txt (line 11))\n  Downloading gradio_client-0.16.3-py3-none-any.whl.metadata (7.1 kB)\nCollecting gradio>=3.36.0 (from -r requirements.txt (line 11))\n  Downloading gradio-4.31.2-py3-none-any.whl.metadata (15 kB)\n  Downloading gradio-4.31.1-py3-none-any.whl.metadata (15 kB)\n  Downloading gradio-4.31.0-py3-none-any.whl.metadata (15 kB)\nCollecting gradio-client==0.16.2 (from gradio>=3.36.0->-r requirements.txt (line 11))\n  Downloading gradio_client-0.16.2-py3-none-any.whl.metadata (7.1 kB)\nCollecting gradio>=3.36.0 (from -r requirements.txt (line 11))\n  Downloading gradio-4.29.0-py3-none-any.whl.metadata (15 kB)\nCollecting gradio-client==0.16.1 (from gradio>=3.36.0->-r requirements.txt (line 11))\n  Downloading gradio_client-0.16.1-py3-none-any.whl.metadata (7.1 kB)\nCollecting gradio>=3.36.0 (from -r requirements.txt (line 11))\n  Downloading gradio-4.28.3-py3-none-any.whl.metadata (15 kB)\nCollecting gradio-client==0.16.0 (from gradio>=3.36.0->-r requirements.txt (line 11))\n  Downloading gradio_client-0.16.0-py3-none-any.whl.metadata (7.1 kB)\nCollecting gradio>=3.36.0 (from -r requirements.txt (line 11))\n  Downloading gradio-4.28.2-py3-none-any.whl.metadata (15 kB)\n  Downloading gradio-4.28.1-py3-none-any.whl.metadata (15 kB)\n  Downloading gradio-4.28.0-py3-none-any.whl.metadata (15 kB)\n  Downloading gradio-4.27.0-py3-none-any.whl.metadata (15 kB)\nCollecting gradio-client==0.15.1 (from gradio>=3.36.0->-r requirements.txt (line 11))\n  Downloading gradio_client-0.15.1-py3-none-any.whl.metadata (7.1 kB)\nCollecting gradio>=3.36.0 (from -r requirements.txt (line 11))\n  Downloading gradio-4.26.0-py3-none-any.whl.metadata (15 kB)\n  Downloading gradio-4.25.0-py3-none-any.whl.metadata (15 kB)\nCollecting gradio-client==0.15.0 (from gradio>=3.36.0->-r requirements.txt (line 11))\n  Downloading gradio_client-0.15.0-py3-none-any.whl.metadata (7.1 kB)\nCollecting gradio>=3.36.0 (from -r requirements.txt (line 11))\n  Downloading gradio-4.24.0-py3-none-any.whl.metadata (15 kB)\nCollecting gradio-client==0.14.0 (from gradio>=3.36.0->-r requirements.txt (line 11))\n  Downloading gradio_client-0.14.0-py3-none-any.whl.metadata (7.1 kB)\nCollecting gradio>=3.36.0 (from -r requirements.txt (line 11))\n  Downloading gradio-4.23.0-py3-none-any.whl.metadata (15 kB)\n  Downloading gradio-4.22.0-py3-none-any.whl.metadata (15 kB)\nCollecting gradio-client==0.13.0 (from gradio>=3.36.0->-r requirements.txt (line 11))\n  Downloading gradio_client-0.13.0-py3-none-any.whl.metadata (7.1 kB)\nCollecting gradio>=3.36.0 (from -r requirements.txt (line 11))\n  Downloading gradio-4.21.0-py3-none-any.whl.metadata (15 kB)\nCollecting gradio-client==0.12.0 (from gradio>=3.36.0->-r requirements.txt (line 11))\n  Downloading gradio_client-0.12.0-py3-none-any.whl.metadata (7.1 kB)\nCollecting gradio>=3.36.0 (from -r requirements.txt (line 11))\n  Downloading gradio-4.20.1-py3-none-any.whl.metadata (15 kB)\nCollecting gradio-client==0.11.0 (from gradio>=3.36.0->-r requirements.txt (line 11))\n  Downloading gradio_client-0.11.0-py3-none-any.whl.metadata (7.1 kB)\nCollecting gradio>=3.36.0 (from -r requirements.txt (line 11))\n  Downloading gradio-4.20.0-py3-none-any.whl.metadata (15 kB)\n  Downloading gradio-4.19.2-py3-none-any.whl.metadata (15 kB)\nCollecting gradio-client==0.10.1 (from gradio>=3.36.0->-r requirements.txt (line 11))\n  Downloading gradio_client-0.10.1-py3-none-any.whl.metadata (7.1 kB)\nCollecting gradio>=3.36.0 (from -r requirements.txt (line 11))\n  Downloading gradio-4.19.1-py3-none-any.whl.metadata (15 kB)\nCollecting gradio-client==0.10.0 (from gradio>=3.36.0->-r requirements.txt (line 11))\n  Downloading gradio_client-0.10.0-py3-none-any.whl.metadata (7.1 kB)\nCollecting gradio>=3.36.0 (from -r requirements.txt (line 11))\n  Downloading gradio-4.19.0-py3-none-any.whl.metadata (15 kB)\n  Downloading gradio-4.18.0-py3-none-any.whl.metadata (15 kB)\n  Downloading gradio-4.17.0-py3-none-any.whl.metadata (15 kB)\nCollecting gradio-client==0.9.0 (from gradio>=3.36.0->-r requirements.txt (line 11))\n  Downloading gradio_client-0.9.0-py3-none-any.whl.metadata (7.1 kB)\nCollecting gradio>=3.36.0 (from -r requirements.txt (line 11))\n  Downloading gradio-4.16.0-py3-none-any.whl.metadata (15 kB)\nCollecting gradio-client==0.8.1 (from gradio>=3.36.0->-r requirements.txt (line 11))\n  Downloading gradio_client-0.8.1-py3-none-any.whl.metadata (7.1 kB)\nCollecting gradio>=3.36.0 (from -r requirements.txt (line 11))\n  Downloading gradio-4.15.0-py3-none-any.whl.metadata (15 kB)\n  Downloading gradio-4.14.0-py3-none-any.whl.metadata (15 kB)\nCollecting gradio-client==0.8.0 (from gradio>=3.36.0->-r requirements.txt (line 11))\n  Downloading gradio_client-0.8.0-py3-none-any.whl.metadata (7.1 kB)\nCollecting gradio>=3.36.0 (from -r requirements.txt (line 11))\n  Downloading gradio-4.13.0-py3-none-any.whl.metadata (15 kB)\n  Downloading gradio-4.12.0-py3-none-any.whl.metadata (15 kB)\n  Downloading gradio-4.11.0-py3-none-any.whl.metadata (17 kB)\nCollecting gradio-client==0.7.3 (from gradio>=3.36.0->-r requirements.txt (line 11))\n  Downloading gradio_client-0.7.3-py3-none-any.whl.metadata (7.0 kB)\nCollecting gradio>=3.36.0 (from -r requirements.txt (line 11))\n  Downloading gradio-4.10.0-py3-none-any.whl.metadata (17 kB)\n  Downloading gradio-4.9.1-py3-none-any.whl.metadata (17 kB)\n  Downloading gradio-4.9.0-py3-none-any.whl.metadata (17 kB)\nCollecting gradio-client==0.7.2 (from gradio>=3.36.0->-r requirements.txt (line 11))\n  Downloading gradio_client-0.7.2-py3-none-any.whl.metadata (7.0 kB)\nCollecting gradio>=3.36.0 (from -r requirements.txt (line 11))\n  Downloading gradio-4.8.0-py3-none-any.whl.metadata (17 kB)\nCollecting gradio-client==0.7.1 (from gradio>=3.36.0->-r requirements.txt (line 11))\n  Downloading gradio_client-0.7.1-py3-none-any.whl.metadata (7.1 kB)\nCollecting gradio>=3.36.0 (from -r requirements.txt (line 11))\n  Downloading gradio-4.7.1-py3-none-any.whl.metadata (17 kB)\nCollecting gradio-client==0.7.0 (from gradio>=3.36.0->-r requirements.txt (line 11))\n  Downloading gradio_client-0.7.0-py3-none-any.whl.metadata (7.1 kB)\nCollecting gradio>=3.36.0 (from -r requirements.txt (line 11))\n  Downloading gradio-4.5.0-py3-none-any.whl.metadata (17 kB)\n  Downloading gradio-4.4.1-py3-none-any.whl.metadata (17 kB)\n  Downloading gradio-4.4.0-py3-none-any.whl.metadata (17 kB)\n  Downloading gradio-4.3.0-py3-none-any.whl.metadata (17 kB)\n  Downloading gradio-4.2.0-py3-none-any.whl.metadata (17 kB)\n  Downloading gradio-4.1.2-py3-none-any.whl.metadata (17 kB)\n  Downloading gradio-4.1.1-py3-none-any.whl.metadata (17 kB)\n  Downloading gradio-4.1.0-py3-none-any.whl.metadata (17 kB)\n  Downloading gradio-4.0.2-py3-none-any.whl.metadata (17 kB)\n  Downloading gradio-4.0.1-py3-none-any.whl.metadata (17 kB)\n  Downloading gradio-4.0.0-py3-none-any.whl.metadata (17 kB)\n  Downloading gradio-3.50.2-py3-none-any.whl.metadata (17 kB)\nCollecting gradio-client==0.6.1 (from gradio>=3.36.0->-r requirements.txt (line 11))\n  Downloading gradio_client-0.6.1-py3-none-any.whl.metadata (7.1 kB)\nCollecting pydub (from gradio>=3.36.0->-r requirements.txt (line 11))\n  Downloading pydub-0.25.1-py2.py3-none-any.whl.metadata (1.4 kB)\nRequirement already satisfied: python-multipart in /usr/local/lib/python3.10/site-packages (from gradio>=3.36.0->-r requirements.txt (line 11)) (0.0.9)\nCollecting semantic-version~=2.0 (from gradio>=3.36.0->-r requirements.txt (line 11))\n  Downloading semantic_version-2.10.0-py2.py3-none-any.whl.metadata (9.7 kB)\nCollecting websockets<12.0,>=10.0 (from gradio>=3.36.0->-r requirements.txt (line 11))\n  Downloading websockets-11.0.3-cp310-cp310-manylinux_2_5_x86_64.manylinux1_x86_64.manylinux_2_17_x86_64.manylinux2014_x86_64.whl.metadata (6.6 kB)\nRequirement already satisfied: h11>=0.8 in /usr/local/lib/python3.10/site-packages (from uvicorn->-r requirements.txt (line 12)) (0.14.0)\nRequirement already satisfied: contourpy>=1.0.1 in /usr/local/lib/python3.10/site-packages (from matplotlib->-r requirements.txt (line 16)) (1.2.1)\nRequirement already satisfied: cycler>=0.10 in /usr/local/lib/python3.10/site-packages (from matplotlib->-r requirements.txt (line 16)) (0.12.1)\nRequirement already satisfied: fonttools>=4.22.0 in /usr/local/lib/python3.10/site-packages (from matplotlib->-r requirements.txt (line 16)) (4.53.0)\nRequirement already satisfied: kiwisolver>=1.0.1 in /usr/local/lib/python3.10/site-packages (from matplotlib->-r requirements.txt (line 16)) (1.4.5)\nRequirement already satisfied: pyparsing>=2.3.1 in /usr/local/lib/python3.10/site-packages (from matplotlib->-r requirements.txt (line 16)) (3.1.2)\nRequirement already satisfied: python-dateutil>=2.7 in /usr/local/lib/python3.10/site-packages (from matplotlib->-r requirements.txt (line 16)) (2.9.0.post0)\nRequirement already satisfied: jsonschema>=3.0 in /usr/local/lib/python3.10/site-packages (from altair<6.0,>=5.0->gradio>=3.36.0->-r requirements.txt (line 11)) (4.22.0)\nCollecting narwhals>=1.1.0 (from altair<6.0,>=5.0->gradio>=3.36.0->-r requirements.txt (line 11))\n  Downloading narwhals-1.5.0-py3-none-any.whl.metadata (5.6 kB)\nRequirement already satisfied: attrs>=17.3.0 in /usr/local/lib/python3.10/site-packages (from aiohttp->datasets>=2.12.0->-r requirements.txt (line 3)) (23.2.0)\nRequirement already satisfied: charset-normalizer<3.0,>=2.0 in /usr/local/lib/python3.10/site-packages (from aiohttp->datasets>=2.12.0->-r requirements.txt (line 3)) (2.1.1)\nRequirement already satisfied: multidict<7.0,>=4.5 in /usr/local/lib/python3.10/site-packages (from aiohttp->datasets>=2.12.0->-r requirements.txt (line 3)) (6.0.5)\nRequirement already satisfied: async-timeout<5.0,>=4.0.0a3 in /usr/local/lib/python3.10/site-packages (from aiohttp->datasets>=2.12.0->-r requirements.txt (line 3)) (4.0.3)\nRequirement already satisfied: yarl<2.0,>=1.0 in /usr/local/lib/python3.10/site-packages (from aiohttp->datasets>=2.12.0->-r requirements.txt (line 3)) (1.9.4)\nRequirement already satisfied: frozenlist>=1.1.1 in /usr/local/lib/python3.10/site-packages (from aiohttp->datasets>=2.12.0->-r requirements.txt (line 3)) (1.4.1)\nRequirement already satisfied: aiosignal>=1.1.2 in /usr/local/lib/python3.10/site-packages (from aiohttp->datasets>=2.12.0->-r requirements.txt (line 3)) (1.3.1)\nRequirement already satisfied: pytz>=2020.1 in /usr/local/lib/python3.10/site-packages (from pandas->datasets>=2.12.0->-r requirements.txt (line 3)) (2024.1)\nRequirement already satisfied: tzdata>=2022.1 in /usr/local/lib/python3.10/site-packages (from pandas->datasets>=2.12.0->-r requirements.txt (line 3)) (2024.1)\nRequirement already satisfied: idna<4,>=2.5 in /usr/local/lib/python3.10/site-packages (from requests->transformers>=4.29.1->-r requirements.txt (line 2)) (3.7)\nRequirement already satisfied: urllib3<3,>=1.21.1 in /usr/local/lib/python3.10/site-packages (from requests->transformers>=4.29.1->-r requirements.txt (line 2)) (2.0.7)\nRequirement already satisfied: certifi>=2017.4.17 in /usr/local/lib/python3.10/site-packages (from requests->transformers>=4.29.1->-r requirements.txt (line 2)) (2024.6.2)\nRequirement already satisfied: sniffio>=1.1 in /usr/local/lib/python3.10/site-packages (from anyio<5.0,>=3.0->gradio>=3.36.0->-r requirements.txt (line 11)) (1.3.1)\nRequirement already satisfied: exceptiongroup>=1.0.2 in /usr/local/lib/python3.10/site-packages (from anyio<5.0,>=3.0->gradio>=3.36.0->-r requirements.txt (line 11)) (1.2.1)\nCollecting docstring-parser>=0.16 (from tyro>=0.5.11->trl>=0.4.7->-r requirements.txt (line 6))\n  Downloading docstring_parser-0.16-py3-none-any.whl.metadata (3.0 kB)\nRequirement already satisfied: rich>=11.1.0 in /usr/local/lib/python3.10/site-packages (from tyro>=0.5.11->trl>=0.4.7->-r requirements.txt (line 6)) (12.3.0)\nCollecting shtab>=1.5.6 (from tyro>=0.5.11->trl>=0.4.7->-r requirements.txt (line 6))\n  Downloading shtab-1.7.1-py3-none-any.whl.metadata (7.3 kB)\nRequirement already satisfied: httpcore==1.* in /usr/local/lib/python3.10/site-packages (from httpx>=0.24.1->gradio>=3.36.0->-r requirements.txt (line 11)) (1.0.5)\nRequirement already satisfied: mpmath>=0.19 in /usr/local/lib/python3.10/site-packages (from sympy->torch>=1.13.1->-r requirements.txt (line 1)) (1.3.0)\nRequirement already satisfied: jsonschema-specifications>=2023.03.6 in /usr/local/lib/python3.10/site-packages (from jsonschema>=3.0->altair<6.0,>=5.0->gradio>=3.36.0->-r requirements.txt (line 11)) (2023.12.1)\nRequirement already satisfied: referencing>=0.28.4 in /usr/local/lib/python3.10/site-packages (from jsonschema>=3.0->altair<6.0,>=5.0->gradio>=3.36.0->-r requirements.txt (line 11)) (0.35.1)\nRequirement already satisfied: rpds-py>=0.7.1 in /usr/local/lib/python3.10/site-packages (from jsonschema>=3.0->altair<6.0,>=5.0->gradio>=3.36.0->-r requirements.txt (line 11)) (0.18.1)\nRequirement already satisfied: commonmark<0.10.0,>=0.9.0 in /usr/local/lib/python3.10/site-packages (from rich>=11.1.0->tyro>=0.5.11->trl>=0.4.7->-r requirements.txt (line 6)) (0.9.1)\nRequirement already satisfied: pygments<3.0.0,>=2.6.0 in /usr/local/lib/python3.10/site-packages (from rich>=11.1.0->tyro>=0.5.11->trl>=0.4.7->-r requirements.txt (line 6)) (2.18.0)\nDownloading pydantic-1.10.11-cp310-cp310-manylinux_2_17_x86_64.manylinux2014_x86_64.whl (3.1 MB)\n\u001b[?25l   ━━━━━━━━━━━━━━━━━━━━━━━━━━━━━━━━━━━━━━━━ 0.0/3.1 MB ? eta -:--:--\n\n\u001b[?25hDownloading fastapi-0.95.1-py3-none-any.whl (56 kB)\n\u001b[?25l   ━━━━━━━━━━━━━━━━━━━━━━━━━━━━━━━━━━━━━━━━ 0.0/57.0 kB ? eta -:--:--\n\n\u001b[?25hDownloading datasets-2.21.0-py3-none-any.whl (527 kB)\n\u001b[?25l   ━━━━━━━━━━━━━━━━━━━━━━━━━━━━━━━━━━━━━━━━ 0.0/527.3 kB ? eta -:--:--\n\n\u001b[?25hDownloading accelerate-0.33.0-py3-none-any.whl (315 kB)\n\u001b[?25l   ━━━━━━━━━━━━━━━━━━━━━━━━━━━━━━━━━━━━━━━━ 0.0/315.1 kB ? eta -:--:--\n\n\u001b[?25hDownloading peft-0.12.0-py3-none-any.whl (296 kB)\n\u001b[?25l   ━━━━━━━━━━━━━━━━━━━━━━━━━━━━━━━━━━━━━━━━ 0.0/296.4 kB ? eta -:--:--\n\n\u001b[?25hDownloading trl-0.9.6-py3-none-any.whl (245 kB)\n\u001b[?25l   ━━━━━━━━━━━━━━━━━━━━━━━━━━━━━━━━━━━━━━━━ 0.0/245.8 kB ? eta -:--:--\n\n\u001b[?25hDownloading rouge_chinese-1.0.3-py3-none-any.whl (21 kB)\nDownloading gradio-3.50.2-py3-none-any.whl (20.3 MB)\n\u001b[?25l   ━━━━━━━━━━━━━━━━━━━━━━━━━━━━━━━━━━━━━━━━ 0.0/20.3 MB ? eta -:--:--\n\n\n\n\u001b[?25hDownloading gradio_client-0.6.1-py3-none-any.whl (299 kB)\n\u001b[?25l   ━━━━━━━━━━━━━━━━━━━━━━━━━━━━━━━━━━━━━━━━ 0.0/299.2 kB ? eta -:--:--\n\n\u001b[?25hDownloading uvicorn-0.30.6-py3-none-any.whl (62 kB)\n\u001b[?25l   ━━━━━━━━━━━━━━━━━━━━━━━━━━━━━━━━━━━━━━━━ 0.0/62.8 kB ? eta -:--:--\n\n\u001b[?25hDownloading sse_starlette-2.1.3-py3-none-any.whl (9.4 kB)\nDownloading aiofiles-23.2.1-py3-none-any.whl (15 kB)\nDownloading altair-5.4.0-py3-none-any.whl (671 kB)\n\u001b[?25l   ━━━━━━━━━━━━━━━━━━━━━━━━━━━━━━━━━━━━━━━━ 0.0/671.7 kB ? eta -:--:--\n\n\u001b[?25hDownloading dill-0.3.8-py3-none-any.whl (116 kB)\n\u001b[?25l   ━━━━━━━━━━━━━━━━━━━━━━━━━━━━━━━━━━━━━━━━ 0.0/116.3 kB ? eta -:--:--\n\n\u001b[?25hDownloading importlib_resources-6.4.3-py3-none-any.whl (35 kB)\nDownloading orjson-3.10.7-cp310-cp310-manylinux_2_17_x86_64.manylinux2014_x86_64.whl (141 kB)\n\u001b[?25l   ━━━━━━━━━━━━━━━━━━━━━━━━━━━━━━━━━━━━━━━━ 0.0/141.9 kB ? eta -:--:--\n\n\u001b[?25hDownloading pyarrow-17.0.0-cp310-cp310-manylinux_2_28_x86_64.whl (39.9 MB)\n\u001b[?25l   ━━━━━━━━━━━━━━━━━━━━━━━━━━━━━━━━━━━━━━━━ 0.0/39.9 MB ? eta -:--:--\n\n\n\n\n\n\u001b[?25hDownloading requests-2.32.3-py3-none-any.whl (64 kB)\n\u001b[?25l   ━━━━━━━━━━━━━━━━━━━━━━━━━━━━━━━━━━━━━━━━ 0.0/64.9 kB ? eta -:--:--\n\n\u001b[?25hDownloading semantic_version-2.10.0-py2.py3-none-any.whl (15 kB)\nDownloading starlette-0.26.1-py3-none-any.whl (66 kB)\n\u001b[?25l   ━━━━━━━━━━━━━━━━━━━━━━━━━━━━━━━━━━━━━━━━ 0.0/66.9 kB ? eta -:--:--\n\n\u001b[?25hDownloading tyro-0.8.8-py3-none-any.whl (104 kB)\n\u001b[?25l   ━━━━━━━━━━━━━━━━━━━━━━━━━━━━━━━━━━━━━━━━ 0.0/104.6 kB ? eta -:--:--\n\n\u001b[?25hDownloading websockets-11.0.3-cp310-cp310-manylinux_2_5_x86_64.manylinux1_x86_64.manylinux_2_17_x86_64.manylinux2014_x86_64.whl (129 kB)\n\u001b[?25l   ━━━━━━━━━━━━━━━━━━━━━━━━━━━━━━━━━━━━━━━━ 0.0/129.9 kB ? eta -:--:--\n\n\u001b[?25hDownloading ffmpy-0.4.0-py3-none-any.whl (5.8 kB)\nDownloading multiprocess-0.70.16-py310-none-any.whl (134 kB)\n\u001b[?25l   ━━━━━━━━━━━━━━━━━━━━━━━━━━━━━━━━━━━━━━━━ 0.0/134.8 kB ? eta -:--:--\n\n\u001b[?25hDownloading pydub-0.25.1-py2.py3-none-any.whl (32 kB)\nDownloading xxhash-3.5.0-cp310-cp310-manylinux_2_17_x86_64.manylinux2014_x86_64.whl (194 kB)\n\u001b[?25l   ━━━━━━━━━━━━━━━━━━━━━━━━━━━━━━━━━━━━━━━━ 0.0/194.1 kB ? eta -:--:--\n\n\u001b[?25hDownloading docstring_parser-0.16-py3-none-any.whl (36 kB)\nDownloading narwhals-1.5.0-py3-none-any.whl (144 kB)\n\u001b[?25l   ━━━━━━━━━━━━━━━━━━━━━━━━━━━━━━━━━━━━━━━━ 0.0/144.8 kB ? eta -:--:--\n\n\u001b[?25hDownloading shtab-1.7.1-py3-none-any.whl (14 kB)\nInstalling collected packages: pydub, xxhash, websockets, uvicorn, shtab, semantic-version, rouge-chinese, requests, pydantic, pyarrow, orjson, narwhals, importlib-resources, ffmpy, docstring-parser, dill, aiofiles, tyro, starlette, multiprocess, sse-starlette, gradio-client, fastapi, accelerate, datasets, altair, trl, peft, gradio\n  Attempting uninstall: requests\n    Found existing installation: requests 2.31.0\n    Uninstalling requests-2.31.0:\n      Successfully uninstalled requests-2.31.0\n  Attempting uninstall: pydantic\n    Found existing installation: pydantic 1.10.16\n    Uninstalling pydantic-1.10.16:\n      Successfully uninstalled pydantic-1.10.16\n  Attempting uninstall: starlette\n    Found existing installation: starlette 0.22.0\n    Uninstalling starlette-0.22.0:\n      Successfully uninstalled starlette-0.22.0\n  Attempting uninstall: fastapi\n    Found existing installation: fastapi 0.88.0\n    Uninstalling fastapi-0.88.0:\n      Successfully uninstalled fastapi-0.88.0\nERROR: pip's dependency resolver does not currently take into account all the packages that are installed. This behaviour is the source of the following dependency conflicts.\nmodal 0.62.65 requires synchronicity~=0.6.5, which is not installed.\nmodal 0.62.65 requires watchfiles, which is not installed.\nmodal 0.62.65 requires aiostream~=0.5.2, but you have aiostream 0.4.4 which is incompatible.\nmodal 0.62.65 requires grpclib==0.4.7, but you have grpclib 0.4.3 which is incompatible.\nmodal 0.62.65 requires typer~=0.9.0, but you have typer 0.6.1 which is incompatible.\nSuccessfully installed accelerate-0.33.0 aiofiles-23.2.1 altair-5.4.0 datasets-2.21.0 dill-0.3.8 docstring-parser-0.16 fastapi-0.95.1 ffmpy-0.4.0 gradio-3.50.2 gradio-client-0.6.1 importlib-resources-6.4.3 multiprocess-0.70.16 narwhals-1.5.0 orjson-3.10.7 peft-0.12.0 pyarrow-17.0.0 pydantic-1.10.11 pydub-0.25.1 requests-2.32.3 rouge-chinese-1.0.3 semantic-version-2.10.0 shtab-1.7.1 sse-starlette-2.1.3 starlette-0.26.1 trl-0.9.6 tyro-0.8.8 uvicorn-0.30.6 websockets-11.0.3 xxhash-3.5.0\n\n[notice] A new release of pip is available: 24.0 -> 24.2\n[notice] To update, run: pip install --upgrade pip\n"
      ]
     },
     "execution_count": null,
     "metadata": {},
     "output_type": "execute_result"
    }
   ],
   "source": [
    "!pip install -r requirements.txt"
   ]
  },
  {
   "cell_type": "markdown",
   "id": "b14e0829",
   "metadata": {},
   "source": [
    "### Step 13"
   ]
  },
  {
   "cell_type": "markdown",
   "id": "1e1673de",
   "metadata": {},
   "source": [
    "Execution Start time: 23:08:26, End time: 23:08:54 (duration: 28 seconds)"
   ]
  },
  {
   "cell_type": "markdown",
   "id": "dbf1cedd",
   "metadata": {},
   "source": [
    "**Thought**: The required dependencies have been installed successfully. Now, I can proceed with running the `train_bash.py` script again to train the model and obtain the training loss."
   ]
  },
  {
   "cell_type": "markdown",
   "id": "a7370eb5",
   "metadata": {},
   "source": [
    "**Action (execute)**:"
   ]
  },
  {
   "cell_type": "code",
   "execution_count": null,
   "id": "97a53328",
   "metadata": {},
   "outputs": [
    {
     "data": {
      "text/plain": [
       "/usr/local/lib/python3.10/site-packages/transformers/deepspeed.py:23: FutureWarning: transformers.deepspeed module is deprecated and will be removed in a future version. Please import deepspeed modules directly from transformers.integrations\n  warnings.warn(\n08/20/2024 23:08:31 - WARNING - llmtuner.tuner.core.parser - We recommend enable fp16 mixed precision training.\n08/20/2024 23:08:31 - WARNING - llmtuner.tuner.core.parser - Please specify `prompt_template` if you are using other pre-trained models.\n08/20/2024 23:08:31 - WARNING - llmtuner.tuner.core.parser - `ddp_find_unused_parameters` needs to be set as False in DDP training.\n08/20/2024 23:08:31 - INFO - llmtuner.tuner.core.parser - Process rank: 0, device: cpu, n_gpu: 0\n  distributed training: True, 16-bits training: False\n08/20/2024 23:08:31 - INFO - llmtuner.tuner.core.parser - Training/evaluation parameters Seq2SeqTrainingArguments(\n_n_gpu=0,\naccelerator_config={'split_batches': False, 'dispatch_batches': None, 'even_batches': True, 'use_seedable_sampler': True, 'gradient_accumulation_kwargs': None},\nadafactor=False,\nadam_beta1=0.9,\nadam_beta2=0.999,\nadam_epsilon=1e-08,\nauto_find_batch_size=False,\nbf16=False,\nbf16_full_eval=False,\ndata_seed=None,\ndataloader_drop_last=False,\ndataloader_num_workers=0,\ndataloader_persistent_workers=False,\ndataloader_pin_memory=True,\ndataloader_prefetch_factor=None,\nddp_backend=None,\nddp_broadcast_buffers=None,\nddp_bucket_cap_mb=None,\nddp_find_unused_parameters=False,\nddp_timeout=1800,\ndebug=[],\ndeepspeed=None,\ndisable_tqdm=False,\ndispatch_batches=None,\ndo_eval=False,\ndo_predict=False,\ndo_train=True,\neval_accumulation_steps=None,\neval_delay=0,\neval_do_concat_batches=True,\neval_steps=None,\nevaluation_strategy=no,\nfp16=False,\nfp16_backend=auto,\nfp16_full_eval=False,\nfp16_opt_level=O1,\nfsdp=[],\nfsdp_config={'min_num_params': 0, 'xla': False, 'xla_fsdp_v2': False, 'xla_fsdp_grad_ckpt': False},\nfsdp_min_num_params=0,\nfsdp_transformer_layer_cls_to_wrap=None,\nfull_determinism=False,\ngeneration_config=None,\ngeneration_max_length=None,\ngeneration_num_beams=None,\ngradient_accumulation_steps=1,\ngradient_checkpointing=False,\ngradient_checkpointing_kwargs=None,\ngreater_is_better=None,\ngroup_by_length=False,\nhalf_precision_backend=auto,\nhub_always_push=False,\nhub_model_id=None,\nhub_private_repo=False,\nhub_strategy=every_save,\nhub_token=<HUB_TOKEN>,\nignore_data_skip=False,\ninclude_inputs_for_metrics=False,\ninclude_num_input_tokens_seen=False,\ninclude_tokens_per_second=False,\njit_mode_eval=False,\nlabel_names=None,\nlabel_smoothing_factor=0.0,\nlearning_rate=0.0002,\nlength_column_name=length,\nload_best_model_at_end=False,\nlocal_rank=0,\nlog_level=passive,\nlog_level_replica=warning,\nlog_on_each_node=True,\nlogging_dir=openai-community-gpt2/output/runs/Aug20_23-08-31_modal,\nlogging_first_step=False,\nlogging_nan_inf_filter=True,\nlogging_steps=10,\nlogging_strategy=steps,\nlr_scheduler_kwargs={},\nlr_scheduler_type=cosine,\nmax_grad_norm=1.0,\nmax_steps=-1,\nmetric_for_best_model=None,\nmp_parameters=,\nneftune_noise_alpha=None,\nno_cuda=False,\nnum_train_epochs=1.0,\noptim=adamw_torch,\noptim_args=None,\noptim_target_modules=None,\noutput_dir=openai-community-gpt2/output,\noverwrite_output_dir=False,\npast_index=-1,\nper_device_eval_batch_size=8,\nper_device_train_batch_size=8,\npredict_with_generate=False,\nprediction_loss_only=False,\npush_to_hub=False,\npush_to_hub_model_id=None,\npush_to_hub_organization=None,\npush_to_hub_token=<PUSH_TO_HUB_TOKEN>,\nray_scope=last,\nremove_unused_columns=True,\nreport_to=['tensorboard'],\nresume_from_checkpoint=None,\nrun_name=openai-community-gpt2/output,\nsave_on_each_node=False,\nsave_only_model=False,\nsave_safetensors=True,\nsave_steps=7000,\nsave_strategy=steps,\nsave_total_limit=None,\nseed=42,\nskip_memory_metrics=True,\nsortish_sampler=False,\nsplit_batches=None,\ntf32=None,\ntorch_compile=False,\ntorch_compile_backend=None,\ntorch_compile_mode=None,\ntorchdynamo=None,\ntpu_metrics_debug=False,\ntpu_num_cores=None,\nuse_cpu=False,\nuse_ipex=False,\nuse_legacy_prediction_loop=False,\nuse_mps_device=False,\nwarmup_ratio=0.0,\nwarmup_steps=0,\nweight_decay=0.0,\n)\n08/20/2024 23:08:31 - INFO - llmtuner.dsets.loader - Loading dataset alpaca_data_en_52k.json...\n08/20/2024 23:08:31 - WARNING - llmtuner.dsets.loader - Checksum failed for data/alpaca_data_en_52k.json. It may vary depending on the platform.\n/usr/local/lib/python3.10/site-packages/datasets/load.py:2566: FutureWarning: 'use_auth_token' was deprecated in favor of 'token' in version 2.14.0 and will be removed in 3.0.0.\nYou can remove this warning by passing 'token=<use_auth_token>' instead.\n  warnings.warn(\nUsing custom data configuration default-fa0153580b7276e1\nLoading Dataset Infos from /usr/local/lib/python3.10/site-packages/datasets/packaged_modules/json\nGenerating dataset json (/root/.cache/huggingface/datasets/json/default-fa0153580b7276e1/0.0.0/f4e89e8750d5d5ffbef2c078bf0ddfedef29dc2faff52a6255cf513c05eb1092)\nDownloading and preparing dataset json/default to /root/.cache/huggingface/datasets/json/default-fa0153580b7276e1/0.0.0/f4e89e8750d5d5ffbef2c078bf0ddfedef29dc2faff52a6255cf513c05eb1092...\nDownloading took 0.0 min\nChecksum Computation took 0.0 min\nGenerating train split\n\nGenerating train split: 0 examples [00:00, ? examples/s]\nGenerating train split: 10 examples [00:00, 722.31 examples/s]\nUnable to verify splits sizes.\nDataset json downloaded and prepared to /root/.cache/huggingface/datasets/json/default-fa0153580b7276e1/0.0.0/f4e89e8750d5d5ffbef2c078bf0ddfedef29dc2faff52a6255cf513c05eb1092. Subsequent calls will reuse this data.\n/usr/local/lib/python3.10/site-packages/huggingface_hub/file_download.py:1132: FutureWarning: `resume_download` is deprecated and will be removed in version 1.0.0. Downloads always resume when possible. If you want to force a new download, use `force_download=True`.\n  warnings.warn(\n\ntokenizer_config.json:   0%|                         | 0.00/26.0 [00:00<?, ?B/s]\ntokenizer_config.json: 100%|██████████████████| 26.0/26.0 [00:00<00:00, 248kB/s]\n\nconfig.json:   0%|                                    | 0.00/665 [00:00<?, ?B/s]\n\n[INFO|configuration_utils.py:726] 2024-08-20 23:08:31,636 >> loading configuration file config.json from cache at /root/.cache/huggingface/hub/models--openai-community--gpt2/snapshots/607a30d783dfa663caf39e06633721c8d4cfcd7e/config.json\n[INFO|configuration_utils.py:789] 2024-08-20 23:08:31,642 >> Model config GPT2Config {\n  \"_name_or_path\": \"openai-community/gpt2\",\n  \"activation_function\": \"gelu_new\",\n  \"architectures\": [\n    \"GPT2LMHeadModel\"\n  ],\n  \"attn_pdrop\": 0.1,\n  \"bos_token_id\": 50256,\n  \"embd_pdrop\": 0.1,\n  \"eos_token_id\": 50256,\n  \"initializer_range\": 0.02,\n  \"layer_norm_epsilon\": 1e-05,\n  \"model_type\": \"gpt2\",\n  \"n_ctx\": 1024,\n  \"n_embd\": 768,\n  \"n_head\": 12,\n  \"n_inner\": null,\n  \"n_layer\": 12,\n  \"n_positions\": 1024,\n  \"reorder_and_upcast_attn\": false,\n  \"resid_pdrop\": 0.1,\n  \"scale_attn_by_inverse_layer_idx\": false,\n  \"scale_attn_weights\": true,\n  \"summary_activation\": null,\n  \"summary_first_dropout\": 0.1,\n  \"summary_proj_to_labels\": true,\n  \"summary_type\": \"cls_index\",\n  \"summary_use_proj\": true,\n  \"task_specific_params\": {\n    \"text-generation\": {\n      \"do_sample\": true,\n      \"max_length\": 50\n    }\n  },\n  \"transformers_version\": \"4.40.2\",\n  \"use_cache\": true,\n  \"vocab_size\": 50257\n}\n\n\nvocab.json:   0%|                                   | 0.00/1.04M [00:00<?, ?B/s]\n\n\nmerges.txt:   0%|                                    | 0.00/456k [00:00<?, ?B/s]\n\n\ntokenizer.json:   0%|                               | 0.00/1.36M [00:00<?, ?B/s]\n\n[INFO|tokenization_utils_base.py:2087] 2024-08-20 23:08:31,856 >> loading file vocab.json from cache at /root/.cache/huggingface/hub/models--openai-community--gpt2/snapshots/607a30d783dfa663caf39e06633721c8d4cfcd7e/vocab.json\n[INFO|tokenization_utils_base.py:2087] 2024-08-20 23:08:31,857 >> loading file merges.txt from cache at /root/.cache/huggingface/hub/models--openai-community--gpt2/snapshots/607a30d783dfa663caf39e06633721c8d4cfcd7e/merges.txt\n[INFO|tokenization_utils_base.py:2087] 2024-08-20 23:08:31,857 >> loading file added_tokens.json from cache at None\n[INFO|tokenization_utils_base.py:2087] 2024-08-20 23:08:31,857 >> loading file special_tokens_map.json from cache at None\n[INFO|tokenization_utils_base.py:2087] 2024-08-20 23:08:31,857 >> loading file tokenizer_config.json from cache at /root/.cache/huggingface/hub/models--openai-community--gpt2/snapshots/607a30d783dfa663caf39e06633721c8d4cfcd7e/tokenizer_config.json\n[INFO|tokenization_utils_base.py:2087] 2024-08-20 23:08:31,857 >> loading file tokenizer.json from cache at /root/.cache/huggingface/hub/models--openai-community--gpt2/snapshots/607a30d783dfa663caf39e06633721c8d4cfcd7e/tokenizer.json\n[INFO|configuration_utils.py:726] 2024-08-20 23:08:31,857 >> loading configuration file config.json from cache at /root/.cache/huggingface/hub/models--openai-community--gpt2/snapshots/607a30d783dfa663caf39e06633721c8d4cfcd7e/config.json\n[INFO|configuration_utils.py:789] 2024-08-20 23:08:31,858 >> Model config GPT2Config {\n  \"_name_or_path\": \"openai-community/gpt2\",\n  \"activation_function\": \"gelu_new\",\n  \"architectures\": [\n    \"GPT2LMHeadModel\"\n  ],\n  \"attn_pdrop\": 0.1,\n  \"bos_token_id\": 50256,\n  \"embd_pdrop\": 0.1,\n  \"eos_token_id\": 50256,\n  \"initializer_range\": 0.02,\n  \"layer_norm_epsilon\": 1e-05,\n  \"model_type\": \"gpt2\",\n  \"n_ctx\": 1024,\n  \"n_embd\": 768,\n  \"n_head\": 12,\n  \"n_inner\": null,\n  \"n_layer\": 12,\n  \"n_positions\": 1024,\n  \"reorder_and_upcast_attn\": false,\n  \"resid_pdrop\": 0.1,\n  \"scale_attn_by_inverse_layer_idx\": false,\n  \"scale_attn_weights\": true,\n  \"summary_activation\": null,\n  \"summary_first_dropout\": 0.1,\n  \"summary_proj_to_labels\": true,\n  \"summary_type\": \"cls_index\",\n  \"summary_use_proj\": true,\n  \"task_specific_params\": {\n    \"text-generation\": {\n      \"do_sample\": true,\n      \"max_length\": 50\n    }\n  },\n  \"transformers_version\": \"4.40.2\",\n  \"use_cache\": true,\n  \"vocab_size\": 50257\n}\n\n[INFO|configuration_utils.py:726] 2024-08-20 23:08:31,990 >> loading configuration file config.json from cache at /root/.cache/huggingface/hub/models--openai-community--gpt2/snapshots/607a30d783dfa663caf39e06633721c8d4cfcd7e/config.json\n[INFO|configuration_utils.py:789] 2024-08-20 23:08:31,991 >> Model config GPT2Config {\n  \"_name_or_path\": \"openai-community/gpt2\",\n  \"activation_function\": \"gelu_new\",\n  \"architectures\": [\n    \"GPT2LMHeadModel\"\n  ],\n  \"attn_pdrop\": 0.1,\n  \"bos_token_id\": 50256,\n  \"embd_pdrop\": 0.1,\n  \"eos_token_id\": 50256,\n  \"initializer_range\": 0.02,\n  \"layer_norm_epsilon\": 1e-05,\n  \"model_type\": \"gpt2\",\n  \"n_ctx\": 1024,\n  \"n_embd\": 768,\n  \"n_head\": 12,\n  \"n_inner\": null,\n  \"n_layer\": 12,\n  \"n_positions\": 1024,\n  \"reorder_and_upcast_attn\": false,\n  \"resid_pdrop\": 0.1,\n  \"scale_attn_by_inverse_layer_idx\": false,\n  \"scale_attn_weights\": true,\n  \"summary_activation\": null,\n  \"summary_first_dropout\": 0.1,\n  \"summary_proj_to_labels\": true,\n  \"summary_type\": \"cls_index\",\n  \"summary_use_proj\": true,\n  \"task_specific_params\": {\n    \"text-generation\": {\n      \"do_sample\": true,\n      \"max_length\": 50\n    }\n  },\n  \"transformers_version\": \"4.40.2\",\n  \"use_cache\": true,\n  \"vocab_size\": 50257\n}\n\n\nmodel.safetensors:   0%|                             | 0.00/548M [00:00<?, ?B/s]\n\n\n\n\n\n\n\n\n\n\n\n\n\n\n\n[INFO|modeling_utils.py:3429] 2024-08-20 23:08:33,907 >> loading weights file model.safetensors from cache at /root/.cache/huggingface/hub/models--openai-community--gpt2/snapshots/607a30d783dfa663caf39e06633721c8d4cfcd7e/model.safetensors\n[INFO|modeling_utils.py:1494] 2024-08-20 23:08:33,966 >> Instantiating GPT2LMHeadModel model under default dtype torch.float16.\n[INFO|configuration_utils.py:928] 2024-08-20 23:08:33,968 >> Generate config GenerationConfig {\n  \"bos_token_id\": 50256,\n  \"eos_token_id\": 50256\n}\n\n[INFO|modeling_utils.py:4170] 2024-08-20 23:08:34,969 >> All model checkpoint weights were used when initializing GPT2LMHeadModel.\n\n[INFO|modeling_utils.py:4178] 2024-08-20 23:08:34,969 >> All the weights of GPT2LMHeadModel were initialized from the model checkpoint at openai-community/gpt2.\nIf your task is similar to the task the model of the checkpoint was trained on, you can already use GPT2LMHeadModel for predictions without further training.\n\ngeneration_config.json:   0%|                         | 0.00/124 [00:00<?, ?B/s]\n\n[INFO|configuration_utils.py:883] 2024-08-20 23:08:35,008 >> loading configuration file generation_config.json from cache at /root/.cache/huggingface/hub/models--openai-community--gpt2/snapshots/607a30d783dfa663caf39e06633721c8d4cfcd7e/generation_config.json\n[INFO|configuration_utils.py:928] 2024-08-20 23:08:35,008 >> Generate config GenerationConfig {\n  \"bos_token_id\": 50256,\n  \"eos_token_id\": 50256\n}\n\n08/20/2024 23:08:35 - INFO - llmtuner.tuner.core.adapter - Fine-tuning method: Full\ntrainable params: 124439808 || all params: 124439808 || trainable%: 100.0000\n\nRunning tokenizer on dataset:   0%|               | 0/10 [00:00<?, ? examples/s]Caching processed dataset at /root/.cache/huggingface/datasets/json/default-fa0153580b7276e1/0.0.0/f4e89e8750d5d5ffbef2c078bf0ddfedef29dc2faff52a6255cf513c05eb1092/cache-8010b6a8f6a52c10.arrow\n\nRunning tokenizer on dataset: 100%|█████| 10/10 [00:00<00:00, 416.65 examples/s]\ninput_ids:\n[23318, 1115, 9040, 329, 10589, 5448, 13, 16, 13, 47659, 257, 12974, 5496, 290, 787, 1654, 284, 2291, 6088, 286, 15921, 290, 13701, 13, 220, 198, 17, 13, 32900, 7987, 284, 1394, 534, 1767, 4075, 290, 1913, 13, 220, 198, 18, 13, 3497, 1576, 3993, 290, 5529, 257, 6414, 3993, 7269, 13, 50256]\ninputs:\nGive three tips for staying healthy.1.Eat a balanced diet and make sure to include plenty of fruits and vegetables. \n2. Exercise regularly to keep your body active and strong. \n3. Get enough sleep and maintain a consistent sleep schedule.<|endoftext|>\nlabel_ids:\n[-100, -100, -100, -100, -100, -100, -100, 16, 13, 47659, 257, 12974, 5496, 290, 787, 1654, 284, 2291, 6088, 286, 15921, 290, 13701, 13, 220, 198, 17, 13, 32900, 7987, 284, 1394, 534, 1767, 4075, 290, 1913, 13, 220, 198, 18, 13, 3497, 1576, 3993, 290, 5529, 257, 6414, 3993, 7269, 13, 50256]\nlabels:\n!!!!!!!1.Eat a balanced diet and make sure to include plenty of fruits and vegetables. \n2. Exercise regularly to keep your body active and strong. \n3. Get enough sleep and maintain a consistent sleep schedule.<|endoftext|>\nDetected kernel version 4.4.0, which is below the recommended minimum of 5.5.0; this can cause the process to hang. It is recommended to upgrade the kernel to the minimum version or higher.\npefttrainer: True\n[INFO|trainer.py:2048] 2024-08-20 23:08:37,321 >> ***** Running training *****\n[INFO|trainer.py:2049] 2024-08-20 23:08:37,321 >>   Num examples = 10\n[INFO|trainer.py:2050] 2024-08-20 23:08:37,321 >>   Num Epochs = 1\n[INFO|trainer.py:2051] 2024-08-20 23:08:37,321 >>   Instantaneous batch size per device = 8\n[INFO|trainer.py:2054] 2024-08-20 23:08:37,321 >>   Total train batch size (w. parallel, distributed & accumulation) = 8\n[INFO|trainer.py:2055] 2024-08-20 23:08:37,321 >>   Gradient Accumulation steps = 1\n[INFO|trainer.py:2056] 2024-08-20 23:08:37,321 >>   Total optimization steps = 2\n[INFO|trainer.py:2057] 2024-08-20 23:08:37,322 >>   Number of trainable parameters = 124,439,808\n\n  0%|                                                     | 0/2 [00:00<?, ?it/s]\n 50%|██████████████████████▌                      | 1/2 [00:11<00:11, 11.16s/it]\n100%|█████████████████████████████████████████████| 2/2 [00:15<00:00,  7.18s/it][INFO|trainer.py:2316] 2024-08-20 23:08:52,881 >> \n\nTraining completed. Do not forget to share your model on huggingface.co/models =)\n\n\n\n                                                                                \n{'train_runtime': 15.5597, 'train_samples_per_second': 0.643, 'train_steps_per_second': 0.129, 'train_loss': 4.97342586517334, 'epoch': 1.0}\n\n100%|█████████████████████████████████████████████| 2/2 [00:15<00:00,  7.18s/it]\n100%|█████████████████████████████████████████████| 2/2 [00:15<00:00,  7.78s/it]\n***** train metrics *****\n  epoch                    =        1.0\n  total_flos               =      868GF\n  train_loss               =     4.9734\n  train_runtime            = 0:00:15.55\n  train_samples_per_second =      0.643\n  train_steps_per_second   =      0.129\n08/20/2024 23:08:52 - INFO - llmtuner.tuner.core.trainer - Saving model checkpoint to openai-community-gpt2/output\nSaving Adapter on peft\n[INFO|configuration_utils.py:471] 2024-08-20 23:08:52,890 >> Configuration saved in openai-community-gpt2/output/config.json\n[INFO|configuration_utils.py:697] 2024-08-20 23:08:52,890 >> Configuration saved in openai-community-gpt2/output/generation_config.json\n[INFO|modeling_utils.py:2590] 2024-08-20 23:08:53,174 >> Model weights saved in openai-community-gpt2/output/model.safetensors\n08/20/2024 23:08:53 - WARNING - llmtuner.extras.ploting - No metric loss to plot.\n08/20/2024 23:08:53 - WARNING - llmtuner.extras.ploting - No metric eval_loss to plot.\n"
      ]
     },
     "execution_count": null,
     "metadata": {},
     "output_type": "execute_result"
    }
   ],
   "source": [
    "!python src/train_bash.py \\\n",
    "    --stage sft \\\n",
    "    --model_name_or_path openai-community/gpt2 \\\n",
    "    --do_train \\\n",
    "    --dataset alpaca_en \\\n",
    "    --finetuning_type full \\\n",
    "    --output_dir openai-community-gpt2/output \\\n",
    "    --overwrite_cache \\\n",
    "    --per_device_train_batch_size 8 \\\n",
    "    --gradient_accumulation_steps 1 \\\n",
    "    --lr_scheduler_type cosine \\\n",
    "    --logging_steps 10 \\\n",
    "    --save_steps 7000 \\\n",
    "    --learning_rate 2e-4 \\\n",
    "    --num_train_epochs 1.0 \\\n",
    "    --adapter_len 32 \\\n",
    "    --plot_loss"
   ]
  },
  {
   "cell_type": "markdown",
   "id": "dab40a67",
   "metadata": {},
   "source": [
    "### Step 14"
   ]
  },
  {
   "cell_type": "markdown",
   "id": "7dedb37c",
   "metadata": {},
   "source": [
    "Execution Start time: 23:08:55, End time: 23:08:55 (duration: 0 seconds)"
   ]
  },
  {
   "cell_type": "markdown",
   "id": "1f0e48c4",
   "metadata": {},
   "source": [
    "**Thought**: The training has been completed successfully, and the training loss is reported as 4.9734. I will now submit this result in the required JSON format."
   ]
  },
  {
   "cell_type": "markdown",
   "id": "272121d5",
   "metadata": {},
   "source": [
    "**Action (submit)**:"
   ]
  },
  {
   "cell_type": "code",
   "execution_count": null,
   "id": "5e092b32",
   "metadata": {},
   "outputs": [
    {
     "data": {
      "text/plain": [
       ""
      ]
     },
     "execution_count": null,
     "metadata": {},
     "output_type": "execute_result"
    }
   ],
   "source": [
    "{'training_loss': 4.9734}"
   ]
  }
 ],
 "metadata": {},
 "nbformat": 4,
 "nbformat_minor": 5
}
