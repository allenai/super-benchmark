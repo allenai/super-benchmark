{
 "cells": [
  {
   "cell_type": "markdown",
   "id": "6a2ddd48",
   "metadata": {},
   "source": [
    "### System Prompt\n",
    "<details>\n",
    "SETTING: You are an autonomous programmer, and you're working directly in the command line with a special Jupyter notebook interface.\n",
    "\n",
    "The special Jupyter notebook interface consists of a file editor that shows you 100 lines of a file at a time.\n",
    "You can execute commands in the notebook using:\n",
    "\n",
    "1. Bash commands: Commands starting with !.\n",
    "2. Python commands: Standard Python code.\n",
    "3. Magic commands: Commands starting with %, e.g., %cd <path>.\n",
    "\n",
    "Additionally, you can also use the following commands to help you navigate and edit files.\n",
    "\n",
    "COMMANDS:\n",
    "\n",
    "open:\n",
    "  docstring: opens the file at the given path in the editor. If line_number is provided, the window will be move to include that line\n",
    "  signature: open <path> [<line_number>]\n",
    "  arguments:\n",
    "    - path (string) [required]: the path to the file to open\n",
    "    - line_number (integer) [optional]: the line number to move the window to (if not provided, the window will start at the top of the file)\n",
    "\n",
    "create:\n",
    "  docstring: creates and opens a new file with the given name\n",
    "  signature: create <filename>\n",
    "  arguments:\n",
    "    - filename (string) [required]: the name of the file to create\n",
    "\n",
    "goto:\n",
    "  docstring: moves the window to show <line_number>\n",
    "  signature: goto <line_number>\n",
    "  arguments:\n",
    "    - line_number (integer) [required]: the line number to move the window to\n",
    "\n",
    "scroll_down:\n",
    "  docstring: moves the window down {WINDOW} lines\n",
    "  signature: scroll_down\n",
    "\n",
    "scroll_up:\n",
    "  docstring: moves the window down {WINDOW} lines\n",
    "  signature: scroll_up\n",
    "\n",
    "submit:\n",
    "  docstring: submits your final answer\n",
    "  signature: submit <answer>\n",
    "  arguments:\n",
    "    - answer (string) [required]: the answer to be submitted\n",
    "\n",
    "search_dir:\n",
    "  docstring: searches for search_term in all files in dir_path. If dir_path is not provided, searches in the current directory\n",
    "  signature: search_dir <search_term> [<dir_path>]\n",
    "  arguments:\n",
    "    - search_term (string) [required]: the term to search for\n",
    "    - dir_path (string) [optional]: the directory to search in (if not provided, searches in the current directory)\n",
    "\n",
    "search_file:\n",
    "  docstring: searches for search_term in file. If file is not provided, searches in the current open file\n",
    "  signature: search_file <search_term> [<file>]\n",
    "  arguments:\n",
    "    - search_term (string) [required]: the term to search for\n",
    "    - file (string) [optional]: the file to search in (if not provided, searches in the current open file)\n",
    "\n",
    "find_file:\n",
    "  docstring: finds all files with the given name in dir_path. If dir_path is not provided, searches in the current directory\n",
    "  signature: find_file <file_name> [<dir_path>]\n",
    "  arguments:\n",
    "    - file_name (string) [required]: the name of the file to search for\n",
    "    - dir_path (string) [optional]: the directory to search in (if not provided, searches in the current directory)\n",
    "\n",
    "edit:\n",
    "  docstring: replaces lines <start_line> through <end_line> (inclusive) with the given text in the open file. The replacement text is terminated by a line with only end_of_edit on it. All of the <replacement text> will be entered, so make sure your indentation is formatted properly. Python files will be checked for syntax errors after the edit. If the system detects a syntax error, the edit will not be executed. Simply try to edit the file again, but make sure to read the error message and modify the edit command you issue accordingly. Issuing the same command a second time will just lead to the same error message again.\n",
    "  signature: edit <start_line>:<end_line>\n",
    "<replacement_text>\n",
    "end_of_edit\n",
    "  arguments:\n",
    "    - start_line (integer) [required]: the line number to start the edit at\n",
    "    - end_line (integer) [required]: the line number to end the edit at (inclusive)\n",
    "    - replacement_text (string) [required]: the text to replace the current selection with\n",
    "\n",
    "\n",
    "\n",
    "Please note that THE EDIT COMMAND REQUIRES PROPER INDENTATION. \n",
    "If you'd like to add the line '        print(x)' you must fully write that out, with all those spaces before the code! Indentation is important and code that is not indented correctly will fail and require fixing before it can be run.\n",
    "\n",
    "RESPONSE FORMAT:\n",
    "Your shell prompt is formatted as follows:\n",
    "(Open file: <path>)\n",
    "(Current directory: <cwd>)\n",
    "In [ ]\n",
    "\n",
    "You need to format your output using two fields: discussion and command.\n",
    "Your output should always include _one_ discussion and _one_ command field EXACTLY as in the following example:\n",
    "DISCUSSION\n",
    "First I'll start by using ls to see what files are in the current directory. Then maybe we can look at some relevant files to see what they look like.\n",
    "```\n",
    "!ls -a\n",
    "```\n",
    "\n",
    "You should only include a *SINGLE* command in the command section and then wait for a response from the shell before continuing with more discussion and commands. Everything you include in the DISCUSSION section will be saved for future reference.\n",
    "If you'd like to issue two commands at once, PLEASE DO NOT DO THAT! Please instead first submit just the first command, and then after receiving a response you'll be able to issue the second command. \n",
    "You're free to use any other bash commands you want (e.g. find, grep, cat, ls, cd) in addition to the special commands listed above.\n",
    "</details>\n"
   ]
  },
  {
   "cell_type": "markdown",
   "id": "2442a318",
   "metadata": {},
   "source": [
    "### Query\n",
    "Use the https://github.com/baoguangsheng/g-transformer repository to fine-tune sentence transformer on the default dataset fine-tuning. Report the Sentence-level and Document-level BLEU metrics, as a json structured as follows: {\"Sentence-level BLEU\": 0.0, \"Document-level BLEU\": 0.0} (replace 0.0 with the actual values).\n",
    "\n",
    "Additional instructions:\n",
    "1. Load only the first 10 rows of each set in the dataset.\n",
    "2. Train only one epoch.\n",
    "\n",
    "Git repository: https://github.com/baoguangsheng/g-transformer\n",
    "\n",
    "I have already executed some of the required steps. Now, your goal is to complete the remaining steps and submit the answer."
   ]
  },
  {
   "cell_type": "markdown",
   "id": "cc2aa8b3",
   "metadata": {},
   "source": [
    "### Step 1"
   ]
  },
  {
   "cell_type": "markdown",
   "id": "b642e43d",
   "metadata": {},
   "source": [
    "**Thought**: [pre-executed by user]"
   ]
  },
  {
   "cell_type": "markdown",
   "id": "daac8d4f",
   "metadata": {},
   "source": [
    "**Action (None)**:"
   ]
  },
  {
   "cell_type": "code",
   "execution_count": null,
   "id": "cde1540c",
   "metadata": {},
   "outputs": [
    {
     "data": {
      "text/plain": [
       ""
      ]
     },
     "execution_count": null,
     "metadata": {},
     "output_type": "execute_result"
    }
   ],
   "source": [
    "# ## Solution"
   ]
  },
  {
   "cell_type": "markdown",
   "id": "58b8d699",
   "metadata": {},
   "source": [
    "### Step 2"
   ]
  },
  {
   "cell_type": "markdown",
   "id": "de34b5b4",
   "metadata": {},
   "source": [
    "**Thought**: [pre-executed by user]"
   ]
  },
  {
   "cell_type": "markdown",
   "id": "3af5dc0f",
   "metadata": {},
   "source": [
    "**Action (None)**:"
   ]
  },
  {
   "cell_type": "code",
   "execution_count": null,
   "id": "49ec317a",
   "metadata": {},
   "outputs": [
    {
     "data": {
      "text/plain": [
       ""
      ]
     },
     "execution_count": null,
     "metadata": {},
     "output_type": "execute_result"
    }
   ],
   "source": [
    "# ### Clone repository"
   ]
  },
  {
   "cell_type": "markdown",
   "id": "a1e0c4a2",
   "metadata": {},
   "source": [
    "### Step 3"
   ]
  },
  {
   "cell_type": "markdown",
   "id": "ea08fc80",
   "metadata": {},
   "source": [
    "**Thought**: [pre-executed by user]"
   ]
  },
  {
   "cell_type": "markdown",
   "id": "f052af41",
   "metadata": {},
   "source": [
    "**Action (None)**:"
   ]
  },
  {
   "cell_type": "code",
   "execution_count": null,
   "id": "7532a32b",
   "metadata": {},
   "outputs": [
    {
     "data": {
      "text/plain": [
       "Cloning into 'g-transformer'...\r\nremote: Enumerating objects: 761, done.\u001b[K\r\nremote: Counting objects:   0% (1/151)\u001b[K\rremote: Counting objects:   1% (2/151)\u001b[K\rremote: Counting objects:   2% (4/151)\u001b[K\rremote: Counting objects:   3% (5/151)\u001b[K\rremote: Counting objects:   4% (7/151)\u001b[K\rremote: Counting objects:   5% (8/151)\u001b[K\rremote: Counting objects:   6% (10/151)\u001b[K\rremote: Counting objects:   7% (11/151)\u001b[K\rremote: Counting objects:   8% (13/151)\u001b[K\rremote: Counting objects:   9% (14/151)\u001b[K\rremote: Counting objects:  10% (16/151)\u001b[K\rremote: Counting objects:  11% (17/151)\u001b[K\rremote: Counting objects:  12% (19/151)\u001b[K\rremote: Counting objects:  13% (20/151)\u001b[K\rremote: Counting objects:  14% (22/151)\u001b[K\rremote: Counting objects:  15% (23/151)\u001b[K\rremote: Counting objects:  16% (25/151)\u001b[K\rremote: Counting objects:  17% (26/151)\u001b[K\rremote: Counting objects:  18% (28/151)\u001b[K\rremote: Counting objects:  19% (29/151)\u001b[K\rremote: Counting objects:  20% (31/151)\u001b[K\rremote: Counting objects:  21% (32/151)\u001b[K\rremote: Counting objects:  22% (34/151)\u001b[K\rremote: Counting objects:  23% (35/151)\u001b[K\rremote: Counting objects:  24% (37/151)\u001b[K\rremote: Counting objects:  25% (38/151)\u001b[K\rremote: Counting objects:  26% (40/151)\u001b[K\rremote: Counting objects:  27% (41/151)\u001b[K\rremote: Counting objects:  28% (43/151)\u001b[K\rremote: Counting objects:  29% (44/151)\u001b[K\rremote: Counting objects:  30% (46/151)\u001b[K\rremote: Counting objects:  31% (47/151)\u001b[K\rremote: Counting objects:  32% (49/151)\u001b[K\rremote: Counting objects:  33% (50/151)\u001b[K\rremote: Counting objects:  34% (52/151)\u001b[K\rremote: Counting objects:  35% (53/151)\u001b[K\rremote: Counting objects:  36% (55/151)\u001b[K\rremote: Counting objects:  37% (56/151)\u001b[K\rremote: Counting objects:  38% (58/151)\u001b[K\rremote: Counting objects:  39% (59/151)\u001b[K\rremote: Counting objects:  40% (61/151)\u001b[K\rremote: Counting objects:  41% (62/151)\u001b[K\rremote: Counting objects:  42% (64/151)\u001b[K\rremote: Counting objects:  43% (65/151)\u001b[K\rremote: Counting objects:  44% (67/151)\u001b[K\rremote: Counting objects:  45% (68/151)\u001b[K\rremote: Counting objects:  46% (70/151)\u001b[K\rremote: Counting objects:  47% (71/151)\u001b[K\rremote: Counting objects:  48% (73/151)\u001b[K\rremote: Counting objects:  49% (74/151)\u001b[K\rremote: Counting objects:  50% (76/151)\u001b[K\rremote: Counting objects:  51% (78/151)\u001b[K\rremote: Counting objects:  52% (79/151)\u001b[K\rremote: Counting objects:  53% (81/151)\u001b[K\rremote: Counting objects:  54% (82/151)\u001b[K\rremote: Counting objects:  55% (84/151)\u001b[K\rremote: Counting objects:  56% (85/151)\u001b[K\rremote: Counting objects:  57% (87/151)\u001b[K\rremote: Counting objects:  58% (88/151)\u001b[K\rremote: Counting objects:  59% (90/151)\u001b[K\rremote: Counting objects:  60% (91/151)\u001b[K\rremote: Counting objects:  61% (93/151)\u001b[K\rremote: Counting objects:  62% (94/151)\u001b[K\rremote: Counting objects:  63% (96/151)\u001b[K\rremote: Counting objects:  64% (97/151)\u001b[K\rremote: Counting objects:  65% (99/151)\u001b[K\rremote: Counting objects:  66% (100/151)\u001b[K\rremote: Counting objects:  67% (102/151)\u001b[K\rremote: Counting objects:  68% (103/151)\u001b[K\rremote: Counting objects:  69% (105/151)\u001b[K\rremote: Counting objects:  70% (106/151)\u001b[K\rremote: Counting objects:  71% (108/151)\u001b[K\rremote: Counting objects:  72% (109/151)\u001b[K\rremote: Counting objects:  73% (111/151)\u001b[K\rremote: Counting objects:  74% (112/151)\u001b[K\rremote: Counting objects:  75% (114/151)\u001b[K\rremote: Counting objects:  76% (115/151)\u001b[K\rremote: Counting objects:  77% (117/151)\u001b[K\rremote: Counting objects:  78% (118/151)\u001b[K\rremote: Counting objects:  79% (120/151)\u001b[K\rremote: Counting objects:  80% (121/151)\u001b[K\rremote: Counting objects:  81% (123/151)\u001b[K\rremote: Counting objects:  82% (124/151)\u001b[K\rremote: Counting objects:  83% (126/151)\u001b[K\rremote: Counting objects:  84% (127/151)\u001b[K\rremote: Counting objects:  85% (129/151)\u001b[K\rremote: Counting objects:  86% (130/151)\u001b[K\rremote: Counting objects:  87% (132/151)\u001b[K\rremote: Counting objects:  88% (133/151)\u001b[K\rremote: Counting objects:  89% (135/151)\u001b[K\rremote: Counting objects:  90% (136/151)\u001b[K\rremote: Counting objects:  91% (138/151)\u001b[K\rremote: Counting objects:  92% (139/151)\u001b[K\rremote: Counting objects:  93% (141/151)\u001b[K\rremote: Counting objects:  94% (142/151)\u001b[K\rremote: Counting objects:  95% (144/151)\u001b[K\rremote: Counting objects:  96% (145/151)\u001b[K\rremote: Counting objects:  97% (147/151)\u001b[K\rremote: Counting objects:  98% (148/151)\u001b[K\rremote: Counting objects:  99% (150/151)\u001b[K\rremote: Counting objects: 100% (151/151)\u001b[K\rremote: Counting objects: 100% (151/151), done.\u001b[K\r\nremote: Compressing objects:   1% (1/71)\u001b[K\rremote: Compressing objects:   2% (2/71)\u001b[K\rremote: Compressing objects:   4% (3/71)\u001b[K\rremote: Compressing objects:   5% (4/71)\u001b[K\rremote: Compressing objects:   7% (5/71)\u001b[K\rremote: Compressing objects:   8% (6/71)\u001b[K\rremote: Compressing objects:   9% (7/71)\u001b[K\rremote: Compressing objects:  11% (8/71)\u001b[K\rremote: Compressing objects:  12% (9/71)\u001b[K\rremote: Compressing objects:  14% (10/71)\u001b[K\rremote: Compressing objects:  15% (11/71)\u001b[K\rremote: Compressing objects:  16% (12/71)\u001b[K\rremote: Compressing objects:  18% (13/71)\u001b[K\rremote: Compressing objects:  19% (14/71)\u001b[K\rremote: Compressing objects:  21% (15/71)\u001b[K\rremote: Compressing objects:  22% (16/71)\u001b[K\rremote: Compressing objects:  23% (17/71)\u001b[K\rremote: Compressing objects:  25% (18/71)\u001b[K\rremote: Compressing objects:  26% (19/71)\u001b[K\rremote: Compressing objects:  28% (20/71)\u001b[K\rremote: Compressing objects:  29% (21/71)\u001b[K\rremote: Compressing objects:  30% (22/71)\u001b[K\rremote: Compressing objects:  32% (23/71)\u001b[K\rremote: Compressing objects:  33% (24/71)\u001b[K\rremote: Compressing objects:  35% (25/71)\u001b[K\rremote: Compressing objects:  36% (26/71)\u001b[K\rremote: Compressing objects:  38% (27/71)\u001b[K\rremote: Compressing objects:  39% (28/71)\u001b[K\rremote: Compressing objects:  40% (29/71)\u001b[K\rremote: Compressing objects:  42% (30/71)\u001b[K\rremote: Compressing objects:  43% (31/71)\u001b[K\rremote: Compressing objects:  45% (32/71)\u001b[K\rremote: Compressing objects:  46% (33/71)\u001b[K\rremote: Compressing objects:  47% (34/71)\u001b[K\rremote: Compressing objects:  49% (35/71)\u001b[K\rremote: Compressing objects:  50% (36/71)\u001b[K\rremote: Compressing objects:  52% (37/71)\u001b[K\rremote: Compressing objects:  53% (38/71)\u001b[K\rremote: Compressing objects:  54% (39/71)\u001b[K\rremote: Compressing objects:  56% (40/71)\u001b[K\rremote: Compressing objects:  57% (41/71)\u001b[K\rremote: Compressing objects:  59% (42/71)\u001b[K\rremote: Compressing objects:  60% (43/71)\u001b[K\rremote: Compressing objects:  61% (44/71)\u001b[K\rremote: Compressing objects:  63% (45/71)\u001b[K\rremote: Compressing objects:  64% (46/71)\u001b[K\rremote: Compressing objects:  66% (47/71)\u001b[K\rremote: Compressing objects:  67% (48/71)\u001b[K\rremote: Compressing objects:  69% (49/71)\u001b[K\rremote: Compressing objects:  70% (50/71)\u001b[K\rremote: Compressing objects:  71% (51/71)\u001b[K\rremote: Compressing objects:  73% (52/71)\u001b[K\rremote: Compressing objects:  74% (53/71)\u001b[K\rremote: Compressing objects:  76% (54/71)\u001b[K\rremote: Compressing objects:  77% (55/71)\u001b[K\rremote: Compressing objects:  78% (56/71)\u001b[K\rremote: Compressing objects:  80% (57/71)\u001b[K\rremote: Compressing objects:  81% (58/71)\u001b[K\rremote: Compressing objects:  83% (59/71)\u001b[K\rremote: Compressing objects:  84% (60/71)\u001b[K\rremote: Compressing objects:  85% (61/71)\u001b[K\rremote: Compressing objects:  87% (62/71)\u001b[K\rremote: Compressing objects:  88% (63/71)\u001b[K\rremote: Compressing objects:  90% (64/71)\u001b[K\rremote: Compressing objects:  91% (65/71)\u001b[K\rremote: Compressing objects:  92% (66/71)\u001b[K\rremote: Compressing objects:  94% (67/71)\u001b[K\rremote: Compressing objects:  95% (68/71)\u001b[K\rremote: Compressing objects:  97% (69/71)\u001b[K\rremote: Compressing objects:  98% (70/71)\u001b[K\rremote: Compressing objects: 100% (71/71)\u001b[K\rremote: Compressing objects: 100% (71/71), done.\u001b[K\r\nReceiving objects:   0% (1/761)\rReceiving objects:   1% (8/761)\rReceiving objects:   2% (16/761)\rReceiving objects:   3% (23/761)\rReceiving objects:   4% (31/761)\rReceiving objects:   5% (39/761)\rReceiving objects:   6% (46/761)\rReceiving objects:   7% (54/761)\rReceiving objects:   8% (61/761)\rReceiving objects:   9% (69/761)\rReceiving objects:  10% (77/761)\rReceiving objects:  11% (84/761)\rReceiving objects:  12% (92/761)\rReceiving objects:  13% (99/761)\rReceiving objects:  14% (107/761)\rReceiving objects:  15% (115/761)\rReceiving objects:  16% (122/761)\rReceiving objects:  17% (130/761)\rReceiving objects:  18% (137/761)\rReceiving objects:  19% (145/761)\rReceiving objects:  20% (153/761)\rReceiving objects:  21% (160/761)\rReceiving objects:  22% (168/761)\rReceiving objects:  23% (176/761)\rReceiving objects:  24% (183/761)\rReceiving objects:  25% (191/761)\rReceiving objects:  26% (198/761)\rReceiving objects:  27% (206/761)\rReceiving objects:  28% (214/761)\rReceiving objects:  29% (221/761)\rReceiving objects:  30% (229/761)\rReceiving objects:  31% (236/761)\rReceiving objects:  32% (244/761)\rReceiving objects:  33% (252/761)\rReceiving objects:  34% (259/761)\rReceiving objects:  35% (267/761)\rReceiving objects:  36% (274/761)\rReceiving objects:  37% (282/761)\rReceiving objects:  38% (290/761)\rReceiving objects:  39% (297/761)\rReceiving objects:  40% (305/761)\rReceiving objects:  41% (313/761)\rReceiving objects:  42% (320/761)\rReceiving objects:  43% (328/761)\rReceiving objects:  44% (335/761)\rReceiving objects:  45% (343/761)\rReceiving objects:  46% (351/761)\rReceiving objects:  47% (358/761)\rReceiving objects:  48% (366/761)\rReceiving objects:  49% (373/761)\rReceiving objects:  50% (381/761)\rReceiving objects:  51% (389/761)\rReceiving objects:  52% (396/761)\rReceiving objects:  53% (404/761)\rReceiving objects:  54% (411/761)\rReceiving objects:  55% (419/761)\rReceiving objects:  56% (427/761)\rReceiving objects:  57% (434/761)\rReceiving objects:  58% (442/761)\rReceiving objects:  59% (449/761)\rReceiving objects:  60% (457/761)\rReceiving objects:  61% (465/761)\rReceiving objects:  62% (472/761)\rReceiving objects:  63% (480/761)\rReceiving objects:  64% (488/761)\rReceiving objects:  65% (495/761)\rReceiving objects:  66% (503/761)\rReceiving objects:  67% (510/761)\rReceiving objects:  68% (518/761)\rReceiving objects:  69% (526/761)\rReceiving objects:  70% (533/761)\rReceiving objects:  71% (541/761)\rReceiving objects:  72% (548/761)\rReceiving objects:  73% (556/761)\rReceiving objects:  74% (564/761)\rReceiving objects:  75% (571/761)\rReceiving objects:  76% (579/761)\rReceiving objects:  77% (586/761)\rReceiving objects:  78% (594/761)\rReceiving objects:  79% (602/761)\rReceiving objects:  80% (609/761)\rReceiving objects:  81% (617/761)\rReceiving objects:  82% (625/761)\rremote: Total 761 (delta 80), reused 147 (delta 77), pack-reused 610 (from 1)\u001b[K\r\nReceiving objects:  83% (632/761)\rReceiving objects:  84% (640/761)\rReceiving objects:  85% (647/761)\rReceiving objects:  86% (655/761)\rReceiving objects:  87% (663/761)\rReceiving objects:  88% (670/761)\rReceiving objects:  89% (678/761)\rReceiving objects:  90% (685/761)\rReceiving objects:  91% (693/761)\rReceiving objects:  92% (701/761)\rReceiving objects:  93% (708/761)\rReceiving objects:  94% (716/761)\rReceiving objects:  95% (723/761)\rReceiving objects:  96% (731/761)\rReceiving objects:  97% (739/761)\rReceiving objects:  98% (746/761)\rReceiving objects:  99% (754/761)\rReceiving objects: 100% (761/761)\rReceiving objects: 100% (761/761), 3.03 MiB | 6.68 MiB/s, done.\r\nResolving deltas:   0% (0/186)\rResolving deltas:   1% (2/186)\rResolving deltas:   2% (4/186)\rResolving deltas:   3% (6/186)\rResolving deltas:   4% (8/186)\rResolving deltas:   5% (10/186)\rResolving deltas:   6% (12/186)\rResolving deltas:   7% (14/186)\rResolving deltas:   8% (15/186)\rResolving deltas:   9% (17/186)\rResolving deltas:  10% (19/186)\rResolving deltas:  11% (21/186)\rResolving deltas:  12% (23/186)\rResolving deltas:  13% (25/186)\rResolving deltas:  14% (27/186)\rResolving deltas:  15% (28/186)\rResolving deltas:  16% (30/186)\rResolving deltas:  17% (32/186)\rResolving deltas:  18% (34/186)\rResolving deltas:  19% (36/186)\rResolving deltas:  20% (38/186)\rResolving deltas:  21% (40/186)\rResolving deltas:  22% (41/186)\rResolving deltas:  23% (43/186)\rResolving deltas:  24% (45/186)\rResolving deltas:  25% (47/186)\rResolving deltas:  26% (49/186)\rResolving deltas:  27% (51/186)\rResolving deltas:  28% (53/186)\rResolving deltas:  29% (54/186)\rResolving deltas:  30% (56/186)\rResolving deltas:  31% (58/186)\rResolving deltas:  32% (60/186)\rResolving deltas:  33% (62/186)\rResolving deltas:  34% (64/186)\rResolving deltas:  35% (66/186)\rResolving deltas:  36% (67/186)\rResolving deltas:  37% (69/186)\rResolving deltas:  38% (71/186)\rResolving deltas:  39% (73/186)\rResolving deltas:  40% (75/186)\rResolving deltas:  41% (77/186)\rResolving deltas:  42% (79/186)\rResolving deltas:  43% (80/186)\rResolving deltas:  44% (82/186)\rResolving deltas:  45% (84/186)\rResolving deltas:  46% (86/186)\rResolving deltas:  47% (88/186)\rResolving deltas:  48% (90/186)\rResolving deltas:  49% (92/186)\rResolving deltas:  50% (93/186)\rResolving deltas:  51% (95/186)\rResolving deltas:  52% (97/186)\rResolving deltas:  53% (99/186)\rResolving deltas:  54% (101/186)\rResolving deltas:  55% (103/186)\rResolving deltas:  56% (105/186)\rResolving deltas:  57% (107/186)\rResolving deltas:  58% (109/186)\rResolving deltas:  59% (110/186)\rResolving deltas:  60% (112/186)\rResolving deltas:  61% (114/186)\rResolving deltas:  62% (116/186)\rResolving deltas:  63% (118/186)\rResolving deltas:  65% (121/186)\rResolving deltas:  66% (123/186)\rResolving deltas:  67% (125/186)\rResolving deltas:  68% (127/186)\rResolving deltas:  69% (129/186)\rResolving deltas:  70% (131/186)\rResolving deltas:  71% (133/186)\rResolving deltas:  72% (134/186)\rResolving deltas:  73% (136/186)\rResolving deltas:  74% (138/186)\rResolving deltas:  75% (141/186)\rResolving deltas:  76% (142/186)\rResolving deltas:  77% (144/186)\rResolving deltas:  78% (146/186)\rResolving deltas:  79% (147/186)\rResolving deltas:  80% (149/186)\rResolving deltas:  81% (151/186)\rResolving deltas:  82% (153/186)\rResolving deltas:  83% (155/186)\rResolving deltas:  84% (157/186)\rResolving deltas:  85% (159/186)\rResolving deltas:  86% (160/186)\rResolving deltas:  87% (162/186)\rResolving deltas:  88% (165/186)\rResolving deltas:  89% (166/186)\rResolving deltas:  90% (168/186)\rResolving deltas:  91% (170/186)\rResolving deltas:  92% (172/186)\rResolving deltas:  93% (173/186)\rResolving deltas:  94% (175/186)\rResolving deltas:  95% (177/186)\rResolving deltas:  96% (180/186)\rResolving deltas:  97% (181/186)\rResolving deltas:  98% (183/186)\rResolving deltas:  99% (185/186)\rResolving deltas: 100% (186/186)\rResolving deltas: 100% (186/186), done.\r\n"
      ]
     },
     "execution_count": null,
     "metadata": {},
     "output_type": "execute_result"
    }
   ],
   "source": [
    "!git clone https://github.com/baoguangsheng/g-transformer.git"
   ]
  },
  {
   "cell_type": "markdown",
   "id": "2d11c1f1",
   "metadata": {},
   "source": [
    "### Step 4"
   ]
  },
  {
   "cell_type": "markdown",
   "id": "eaf3ce84",
   "metadata": {},
   "source": [
    "**Thought**: [pre-executed by user]"
   ]
  },
  {
   "cell_type": "markdown",
   "id": "cb7bb93b",
   "metadata": {},
   "source": [
    "**Action (None)**:"
   ]
  },
  {
   "cell_type": "code",
   "execution_count": null,
   "id": "bde06a70",
   "metadata": {},
   "outputs": [
    {
     "data": {
      "text/plain": [
       "/content/g-transformer\n/usr/local/lib/python3.10/site-packages/IPython/core/magics/osm.py:417: UserWarning: This is now an optional IPython functionality, setting dhist requires you to install the `pickleshare` library.\n  self.shell.db['dhist'] = compress_dhist(dhist)[-100:]\n"
      ]
     },
     "execution_count": null,
     "metadata": {},
     "output_type": "execute_result"
    }
   ],
   "source": [
    "%cd /content/g-transformer"
   ]
  },
  {
   "cell_type": "markdown",
   "id": "5f56a000",
   "metadata": {},
   "source": [
    "### Step 5"
   ]
  },
  {
   "cell_type": "markdown",
   "id": "5e9d45fe",
   "metadata": {},
   "source": [
    "**Thought**: [pre-executed by user]"
   ]
  },
  {
   "cell_type": "markdown",
   "id": "88347d74",
   "metadata": {},
   "source": [
    "**Action (None)**:"
   ]
  },
  {
   "cell_type": "code",
   "execution_count": null,
   "id": "f6774dc0",
   "metadata": {},
   "outputs": [
    {
     "data": {
      "text/plain": [
       ""
      ]
     },
     "execution_count": null,
     "metadata": {},
     "output_type": "execute_result"
    }
   ],
   "source": [
    "# ### Install dependencies"
   ]
  },
  {
   "cell_type": "markdown",
   "id": "d8853d77",
   "metadata": {},
   "source": [
    "### Step 6"
   ]
  },
  {
   "cell_type": "markdown",
   "id": "efcf2ef2",
   "metadata": {},
   "source": [
    "**Thought**: [pre-executed by user]"
   ]
  },
  {
   "cell_type": "markdown",
   "id": "f1e07c24",
   "metadata": {},
   "source": [
    "**Action (None)**:"
   ]
  },
  {
   "cell_type": "code",
   "execution_count": null,
   "id": "faae1114",
   "metadata": {},
   "outputs": [
    {
     "data": {
      "text/plain": [
       "Obtaining file:///content/g-transformer\r\n  Installing build dependencies ... \u001b[?25l-\b \b\\\b \b|\b \b/\b \b-\b \b\\\b \bdone\r\n\u001b[?25h  Checking if build backend supports build_editable ... \u001b[?25ldone\r\n\u001b[?25h  Getting requirements to build editable ... \u001b[?25ldone\r\n\u001b[?25h  Installing backend dependencies ... \u001b[?25l-\b \b\\\b \b|\b \b/\b \b-\b \b\\\b \bdone\r\n\u001b[?25h  Preparing editable metadata (pyproject.toml) ... \u001b[?25l-\b \b\\\b \b|\b \bdone\r\n\u001b[?25hRequirement already satisfied: cffi in /usr/local/lib/python3.10/site-packages (from fairseq-gtrans==0.9.0) (1.16.0)\r\nRequirement already satisfied: cython in /usr/local/lib/python3.10/site-packages (from fairseq-gtrans==0.9.0) (3.0.10)\r\nRequirement already satisfied: numpy in /usr/local/lib/python3.10/site-packages (from fairseq-gtrans==0.9.0) (1.25.2)\r\nRequirement already satisfied: regex in /usr/local/lib/python3.10/site-packages (from fairseq-gtrans==0.9.0) (2023.12.25)\r\nCollecting sacrebleu (from fairseq-gtrans==0.9.0)\r\n  Downloading sacrebleu-2.4.3-py3-none-any.whl.metadata (51 kB)\r\n\u001b[?25l     \u001b[90m━━━━━━━━━━━━━━━━━━━━━━━━━━━━━━━━━━━━━━━━\u001b[0m \u001b[32m0.0/51.8 kB\u001b[0m \u001b[31m?\u001b[0m eta \u001b[36m-:--:--\u001b[0m\r\u001b[2K     \u001b[90m━━━━━━━━━━━━━━━━━━━━━━━━━━━━━━━━━━━━━━━━\u001b[0m \u001b[32m51.8/51.8 kB\u001b[0m \u001b[31m11.3 MB/s\u001b[0m eta \u001b[36m0:00:00\u001b[0m\r\n\u001b[?25hRequirement already satisfied: torch in /usr/local/lib/python3.10/site-packages (from fairseq-gtrans==0.9.0) (2.2.1+cpu)\r\nRequirement already satisfied: tqdm in /usr/local/lib/python3.10/site-packages (from fairseq-gtrans==0.9.0) (4.66.4)\r\nRequirement already satisfied: pycparser in /usr/local/lib/python3.10/site-packages (from cffi->fairseq-gtrans==0.9.0) (2.22)\r\nCollecting portalocker (from sacrebleu->fairseq-gtrans==0.9.0)\r\n  Downloading portalocker-2.10.1-py3-none-any.whl.metadata (8.5 kB)\r\nCollecting tabulate>=0.8.9 (from sacrebleu->fairseq-gtrans==0.9.0)\r\n  Downloading tabulate-0.9.0-py3-none-any.whl.metadata (34 kB)\r\nCollecting colorama (from sacrebleu->fairseq-gtrans==0.9.0)\r\n  Downloading colorama-0.4.6-py2.py3-none-any.whl.metadata (17 kB)\r\nCollecting lxml (from sacrebleu->fairseq-gtrans==0.9.0)\r\n  Downloading lxml-5.3.0-cp310-cp310-manylinux_2_28_x86_64.whl.metadata (3.8 kB)\r\nRequirement already satisfied: filelock in /usr/local/lib/python3.10/site-packages (from torch->fairseq-gtrans==0.9.0) (3.15.1)\r\nRequirement already satisfied: typing-extensions>=4.8.0 in /usr/local/lib/python3.10/site-packages (from torch->fairseq-gtrans==0.9.0) (4.12.2)\r\nRequirement already satisfied: sympy in /usr/local/lib/python3.10/site-packages (from torch->fairseq-gtrans==0.9.0) (1.12)\r\nRequirement already satisfied: networkx in /usr/local/lib/python3.10/site-packages (from torch->fairseq-gtrans==0.9.0) (3.3)\r\nRequirement already satisfied: jinja2 in /usr/local/lib/python3.10/site-packages (from torch->fairseq-gtrans==0.9.0) (3.1.4)\r\nRequirement already satisfied: fsspec in /usr/local/lib/python3.10/site-packages (from torch->fairseq-gtrans==0.9.0) (2023.6.0)\r\nRequirement already satisfied: MarkupSafe>=2.0 in /usr/local/lib/python3.10/site-packages (from jinja2->torch->fairseq-gtrans==0.9.0) (2.1.5)\r\nRequirement already satisfied: mpmath>=0.19 in /usr/local/lib/python3.10/site-packages (from sympy->torch->fairseq-gtrans==0.9.0) (1.3.0)\r\nDownloading sacrebleu-2.4.3-py3-none-any.whl (103 kB)\r\n\u001b[?25l   \u001b[90m━━━━━━━━━━━━━━━━━━━━━━━━━━━━━━━━━━━━━━━━\u001b[0m \u001b[32m0.0/104.0 kB\u001b[0m \u001b[31m?\u001b[0m eta \u001b[36m-:--:--\u001b[0m\r\u001b[2K   \u001b[90m━━━━━━━━━━━━━━━━━━━━━━━━━━━━━━━━━━━━━━━━\u001b[0m \u001b[32m104.0/104.0 kB\u001b[0m \u001b[31m21.0 MB/s\u001b[0m eta \u001b[36m0:00:00\u001b[0m\r\n\u001b[?25hDownloading tabulate-0.9.0-py3-none-any.whl (35 kB)\r\nDownloading colorama-0.4.6-py2.py3-none-any.whl (25 kB)\r\nDownloading lxml-5.3.0-cp310-cp310-manylinux_2_28_x86_64.whl (5.0 MB)\r\n\u001b[?25l   \u001b[90m━━━━━━━━━━━━━━━━━━━━━━━━━━━━━━━━━━━━━━━━\u001b[0m \u001b[32m0.0/5.0 MB\u001b[0m \u001b[31m?\u001b[0m eta \u001b[36m-:--:--\u001b[0m\r\u001b[2K   \u001b[91m━━━━━━━━━━━━━━━━━━\u001b[0m\u001b[90m╺\u001b[0m\u001b[90m━━━━━━━━━━━━━━━━━━━━━\u001b[0m \u001b[32m2.3/5.0 MB\u001b[0m \u001b[31m69.5 MB/s\u001b[0m eta \u001b[36m0:00:01\u001b[0m\r\u001b[2K   \u001b[91m━━━━━━━━━━━━━━━━━━━━━━━━━━━━━━━━━━━━━━━\u001b[0m\u001b[90m╺\u001b[0m \u001b[32m4.9/5.0 MB\u001b[0m \u001b[31m70.8 MB/s\u001b[0m eta \u001b[36m0:00:01\u001b[0m\r\u001b[2K   \u001b[90m━━━━━━━━━━━━━━━━━━━━━━━━━━━━━━━━━━━━━━━━\u001b[0m \u001b[32m5.0/5.0 MB\u001b[0m \u001b[31m66.7 MB/s\u001b[0m eta \u001b[36m0:00:00\u001b[0m\r\n\u001b[?25hDownloading portalocker-2.10.1-py3-none-any.whl (18 kB)\r\nBuilding wheels for collected packages: fairseq-gtrans\r\n  Building editable for fairseq-gtrans (pyproject.toml) ... \u001b[?25l-\b \b\\\b \b|\b \b/\b \b-\b \b\\\b \b|\b \b/\b \b-\b \b\\\b \b|\b \b/\b \b-\b \b\\\b \b|\b \b/\b \b-\b \bdone\r\n\u001b[?25h  Created wheel for fairseq-gtrans: filename=fairseq_gtrans-0.9.0-0.editable-cp310-cp310-linux_x86_64.whl size=4671 sha256=be1e10c7f81121dc9d29179ef256d1e721b5a0962b9e98bb7420f89532898559\r\n  Stored in directory: /tmp/pip-ephem-wheel-cache-jr9ujh8b/wheels/3e/31/6f/20b9ec18bcb8b1f717cb8dc12fd7fddc85b94f9bc53df07604\r\nSuccessfully built fairseq-gtrans\r\nInstalling collected packages: tabulate, portalocker, lxml, colorama, sacrebleu, fairseq-gtrans\r\nSuccessfully installed colorama-0.4.6 fairseq-gtrans-0.9.0 lxml-5.3.0 portalocker-2.10.1 sacrebleu-2.4.3 tabulate-0.9.0\r\n\r\n\u001b[1m[\u001b[0m\u001b[34;49mnotice\u001b[0m\u001b[1;39;49m]\u001b[0m\u001b[39;49m A new release of pip is available: \u001b[0m\u001b[31;49m24.0\u001b[0m\u001b[39;49m -> \u001b[0m\u001b[32;49m24.2\u001b[0m\r\n\u001b[1m[\u001b[0m\u001b[34;49mnotice\u001b[0m\u001b[1;39;49m]\u001b[0m\u001b[39;49m To update, run: \u001b[0m\u001b[32;49mpip install --upgrade pip\u001b[0m\r\n"
      ]
     },
     "execution_count": null,
     "metadata": {},
     "output_type": "execute_result"
    }
   ],
   "source": [
    "!pip install -e ."
   ]
  },
  {
   "cell_type": "markdown",
   "id": "a91fd752",
   "metadata": {},
   "source": [
    "### Step 7"
   ]
  },
  {
   "cell_type": "markdown",
   "id": "fc190161",
   "metadata": {},
   "source": [
    "**Thought**: [pre-executed by user]"
   ]
  },
  {
   "cell_type": "markdown",
   "id": "a63c6d37",
   "metadata": {},
   "source": [
    "**Action (None)**:"
   ]
  },
  {
   "cell_type": "code",
   "execution_count": null,
   "id": "5e09b58d",
   "metadata": {},
   "outputs": [
    {
     "data": {
      "text/plain": [
       ""
      ]
     },
     "execution_count": null,
     "metadata": {},
     "output_type": "execute_result"
    }
   ],
   "source": [
    "# Attempt to run code for perparating data"
   ]
  },
  {
   "cell_type": "markdown",
   "id": "23d380e6",
   "metadata": {},
   "source": [
    "### Step 8"
   ]
  },
  {
   "cell_type": "markdown",
   "id": "3769f65e",
   "metadata": {},
   "source": [
    "**Thought**: [pre-executed by user]"
   ]
  },
  {
   "cell_type": "markdown",
   "id": "694216b2",
   "metadata": {},
   "source": [
    "**Action (None)**:"
   ]
  },
  {
   "cell_type": "code",
   "execution_count": null,
   "id": "c73beb11",
   "metadata": {},
   "outputs": [
    {
     "data": {
      "text/plain": [
       "/content/g-transformer\n/usr/local/lib/python3.10/site-packages/IPython/core/magics/osm.py:417: UserWarning: This is now an optional IPython functionality, setting dhist requires you to install the `pickleshare` library.\n  self.shell.db['dhist'] = compress_dhist(dhist)[-100:]\nThu Aug 22 04:49:34 UTC 2024, exp_path: data, data: g-transformer, input: doc, code: bpe, slang: en, tlang: de\r\nThu Aug 22 04:49:34 UTC 2024, Prepraring data...\r\nCloning Moses github repository (for tokenization scripts)...\r\nCloning into 'mosesdecoder'...\r\nremote: Enumerating objects: 148459, done.\u001b[K\r\nremote: Counting objects:   0% (1/887)\u001b[K\rremote: Counting objects:   1% (9/887)\u001b[K\rremote: Counting objects:   2% (18/887)\u001b[K\rremote: Counting objects:   3% (27/887)\u001b[K\rremote: Counting objects:   4% (36/887)\u001b[K\rremote: Counting objects:   5% (45/887)\u001b[K\rremote: Counting objects:   6% (54/887)\u001b[K\rremote: Counting objects:   7% (63/887)\u001b[K\rremote: Counting objects:   8% (71/887)\u001b[K\rremote: Counting objects:   9% (80/887)\u001b[K\rremote: Counting objects:  10% (89/887)\u001b[K\rremote: Counting objects:  11% (98/887)\u001b[K\rremote: Counting objects:  12% (107/887)\u001b[K\rremote: Counting objects:  13% (116/887)\u001b[K\rremote: Counting objects:  14% (125/887)\u001b[K\rremote: Counting objects:  15% (134/887)\u001b[K\rremote: Counting objects:  16% (142/887)\u001b[K\rremote: Counting objects:  17% (151/887)\u001b[K\rremote: Counting objects:  18% (160/887)\u001b[K\rremote: Counting objects:  19% (169/887)\u001b[K\rremote: Counting objects:  20% (178/887)\u001b[K\rremote: Counting objects:  21% (187/887)\u001b[K\rremote: Counting objects:  22% (196/887)\u001b[K\rremote: Counting objects:  23% (205/887)\u001b[K\rremote: Counting objects:  24% (213/887)\u001b[K\rremote: Counting objects:  25% (222/887)\u001b[K\rremote: Counting objects:  26% (231/887)\u001b[K\rremote: Counting objects:  27% (240/887)\u001b[K\rremote: Counting objects:  28% (249/887)\u001b[K\rremote: Counting objects:  29% (258/887)\u001b[K\rremote: Counting objects:  30% (267/887)\u001b[K\rremote: Counting objects:  31% (275/887)\u001b[K\rremote: Counting objects:  32% (284/887)\u001b[K\rremote: Counting objects:  33% (293/887)\u001b[K\rremote: Counting objects:  34% (302/887)\u001b[K\rremote: Counting objects:  35% (311/887)\u001b[K\rremote: Counting objects:  36% (320/887)\u001b[K\rremote: Counting objects:  37% (329/887)\u001b[K\rremote: Counting objects:  38% (338/887)\u001b[K\rremote: Counting objects:  39% (346/887)\u001b[K\rremote: Counting objects:  40% (355/887)\u001b[K\rremote: Counting objects:  41% (364/887)\u001b[K\rremote: Counting objects:  42% (373/887)\u001b[K\rremote: Counting objects:  43% (382/887)\u001b[K\rremote: Counting objects:  44% (391/887)\u001b[K\rremote: Counting objects:  45% (400/887)\u001b[K\rremote: Counting objects:  46% (409/887)\u001b[K\rremote: Counting objects:  47% (417/887)\u001b[K\rremote: Counting objects:  48% (426/887)\u001b[K\rremote: Counting objects:  49% (435/887)\u001b[K\rremote: Counting objects:  50% (444/887)\u001b[K\rremote: Counting objects:  51% (453/887)\u001b[K\rremote: Counting objects:  52% (462/887)\u001b[K\rremote: Counting objects:  53% (471/887)\u001b[K\rremote: Counting objects:  54% (479/887)\u001b[K\rremote: Counting objects:  55% (488/887)\u001b[K\rremote: Counting objects:  56% (497/887)\u001b[K\rremote: Counting objects:  57% (506/887)\u001b[K\rremote: Counting objects:  58% (515/887)\u001b[K\rremote: Counting objects:  59% (524/887)\u001b[K\rremote: Counting objects:  60% (533/887)\u001b[K\rremote: Counting objects:  61% (542/887)\u001b[K\rremote: Counting objects:  62% (550/887)\u001b[K\rremote: Counting objects:  63% (559/887)\u001b[K\rremote: Counting objects:  64% (568/887)\u001b[K\rremote: Counting objects:  65% (577/887)\u001b[K\rremote: Counting objects:  66% (586/887)\u001b[K\rremote: Counting objects:  67% (595/887)\u001b[K\rremote: Counting objects:  68% (604/887)\u001b[K\rremote: Counting objects:  69% (613/887)\u001b[K\rremote: Counting objects:  70% (621/887)\u001b[K\rremote: Counting objects:  71% (630/887)\u001b[K\rremote: Counting objects:  72% (639/887)\u001b[K\rremote: Counting objects:  73% (648/887)\u001b[K\rremote: Counting objects:  74% (657/887)\u001b[K\rremote: Counting objects:  75% (666/887)\u001b[K\rremote: Counting objects:  76% (675/887)\u001b[K\rremote: Counting objects:  77% (683/887)\u001b[K\rremote: Counting objects:  78% (692/887)\u001b[K\rremote: Counting objects:  79% (701/887)\u001b[K\rremote: Counting objects:  80% (710/887)\u001b[K\rremote: Counting objects:  81% (719/887)\u001b[K\rremote: Counting objects:  82% (728/887)\u001b[K\rremote: Counting objects:  83% (737/887)\u001b[K\rremote: Counting objects:  84% (746/887)\u001b[K\rremote: Counting objects:  85% (754/887)\u001b[K\rremote: Counting objects:  86% (763/887)\u001b[K\rremote: Counting objects:  87% (772/887)\u001b[K\rremote: Counting objects:  88% (781/887)\u001b[K\rremote: Counting objects:  89% (790/887)\u001b[K\rremote: Counting objects:  90% (799/887)\u001b[K\rremote: Counting objects:  91% (808/887)\u001b[K\rremote: Counting objects:  92% (817/887)\u001b[K\rremote: Counting objects:  93% (825/887)\u001b[K\rremote: Counting objects:  94% (834/887)\u001b[K\rremote: Counting objects:  95% (843/887)\u001b[K\rremote: Counting objects:  96% (852/887)\u001b[K\rremote: Counting objects:  97% (861/887)\u001b[K\rremote: Counting objects:  98% (870/887)\u001b[K\rremote: Counting objects:  99% (879/887)\u001b[K\rremote: Counting objects: 100% (887/887)\u001b[K\rremote: Counting objects: 100% (887/887), done.\u001b[K\r\nremote: Compressing objects:   0% (1/366)\u001b[K\rremote: Compressing objects:   1% (4/366)\u001b[K\rremote: Compressing objects:   2% (8/366)\u001b[K\rremote: Compressing objects:   3% (11/366)\u001b[K\rremote: Compressing objects:   4% (15/366)\u001b[K\rremote: Compressing objects:   5% (19/366)\u001b[K\rremote: Compressing objects:   6% (22/366)\u001b[K\rremote: Compressing objects:   7% (26/366)\u001b[K\rremote: Compressing objects:   8% (30/366)\u001b[K\rremote: Compressing objects:   9% (33/366)\u001b[K\rremote: Compressing objects:  10% (37/366)\u001b[K\rremote: Compressing objects:  11% (41/366)\u001b[K\rremote: Compressing objects:  12% (44/366)\u001b[K\rremote: Compressing objects:  13% (48/366)\u001b[K\rremote: Compressing objects:  14% (52/366)\u001b[K\rremote: Compressing objects:  15% (55/366)\u001b[K\rremote: Compressing objects:  16% (59/366)\u001b[K\rremote: Compressing objects:  17% (63/366)\u001b[K\rremote: Compressing objects:  18% (66/366)\u001b[K\rremote: Compressing objects:  19% (70/366)\u001b[K\rremote: Compressing objects:  20% (74/366)\u001b[K\rremote: Compressing objects:  21% (77/366)\u001b[K\rremote: Compressing objects:  22% (81/366)\u001b[K\rremote: Compressing objects:  23% (85/366)\u001b[K\rremote: Compressing objects:  24% (88/366)\u001b[K\rremote: Compressing objects:  25% (92/366)\u001b[K\rremote: Compressing objects:  26% (96/366)\u001b[K\rremote: Compressing objects:  27% (99/366)\u001b[K\rremote: Compressing objects:  28% (103/366)\u001b[K\rremote: Compressing objects:  29% (107/366)\u001b[K\rremote: Compressing objects:  30% (110/366)\u001b[K\rremote: Compressing objects:  31% (114/366)\u001b[K\rremote: Compressing objects:  32% (118/366)\u001b[K\rremote: Compressing objects:  33% (121/366)\u001b[K\rremote: Compressing objects:  34% (125/366)\u001b[K\rremote: Compressing objects:  35% (129/366)\u001b[K\rremote: Compressing objects:  36% (132/366)\u001b[K\rremote: Compressing objects:  37% (136/366)\u001b[K\rremote: Compressing objects:  38% (140/366)\u001b[K\rremote: Compressing objects:  39% (143/366)\u001b[K\rremote: Compressing objects:  40% (147/366)\u001b[K\rremote: Compressing objects:  41% (151/366)\u001b[K\rremote: Compressing objects:  42% (154/366)\u001b[K\rremote: Compressing objects:  43% (158/366)\u001b[K\rremote: Compressing objects:  44% (162/366)\u001b[K\rremote: Compressing objects:  45% (165/366)\u001b[K\rremote: Compressing objects:  46% (169/366)\u001b[K\rremote: Compressing objects:  47% (173/366)\u001b[K\rremote: Compressing objects:  48% (176/366)\u001b[K\rremote: Compressing objects:  49% (180/366)\u001b[K\rremote: Compressing objects:  50% (183/366)\u001b[K\rremote: Compressing objects:  51% (187/366)\u001b[K\rremote: Compressing objects:  52% (191/366)\u001b[K\rremote: Compressing objects:  53% (194/366)\u001b[K\rremote: Compressing objects:  54% (198/366)\u001b[K\rremote: Compressing objects:  55% (202/366)\u001b[K\rremote: Compressing objects:  56% (205/366)\u001b[K\rremote: Compressing objects:  57% (209/366)\u001b[K\rremote: Compressing objects:  58% (213/366)\u001b[K\rremote: Compressing objects:  59% (216/366)\u001b[K\rremote: Compressing objects:  60% (220/366)\u001b[K\rremote: Compressing objects:  61% (224/366)\u001b[K\rremote: Compressing objects:  62% (227/366)\u001b[K\rremote: Compressing objects:  63% (231/366)\u001b[K\rremote: Compressing objects:  64% (235/366)\u001b[K\rremote: Compressing objects:  65% (238/366)\u001b[K\rremote: Compressing objects:  66% (242/366)\u001b[K\rremote: Compressing objects:  67% (246/366)\u001b[K\rremote: Compressing objects:  68% (249/366)\u001b[K\rremote: Compressing objects:  69% (253/366)\u001b[K\rremote: Compressing objects:  70% (257/366)\u001b[K\rremote: Compressing objects:  71% (260/366)\u001b[K\rremote: Compressing objects:  72% (264/366)\u001b[K\rremote: Compressing objects:  73% (268/366)\u001b[K\rremote: Compressing objects:  74% (271/366)\u001b[K\rremote: Compressing objects:  75% (275/366)\u001b[K\rremote: Compressing objects:  76% (279/366)\u001b[K\rremote: Compressing objects:  77% (282/366)\u001b[K\rremote: Compressing objects:  78% (286/366)\u001b[K\rremote: Compressing objects:  79% (290/366)\u001b[K\rremote: Compressing objects:  80% (293/366)\u001b[K\rremote: Compressing objects:  81% (297/366)\u001b[K\rremote: Compressing objects:  82% (301/366)\u001b[K\rremote: Compressing objects:  83% (304/366)\u001b[K\rremote: Compressing objects:  84% (308/366)\u001b[K\rremote: Compressing objects:  85% (312/366)\u001b[K\rremote: Compressing objects:  86% (315/366)\u001b[K\rremote: Compressing objects:  87% (319/366)\u001b[K\rremote: Compressing objects:  88% (323/366)\u001b[K\rremote: Compressing objects:  89% (326/366)\u001b[K\rremote: Compressing objects:  90% (330/366)\u001b[K\rremote: Compressing objects:  91% (334/366)\u001b[K\rremote: Compressing objects:  92% (337/366)\u001b[K\rremote: Compressing objects:  93% (341/366)\u001b[K\rremote: Compressing objects:  94% (345/366)\u001b[K\rremote: Compressing objects:  95% (348/366)\u001b[K\rremote: Compressing objects:  96% (352/366)\u001b[K\rremote: Compressing objects:  97% (356/366)\u001b[K\rremote: Compressing objects:  98% (359/366)\u001b[K\rremote: Compressing objects:  99% (363/366)\u001b[K\rremote: Compressing objects: 100% (366/366)\u001b[K\rremote: Compressing objects: 100% (366/366), done.\u001b[K\r\nReceiving objects:   0% (1/148459)\rReceiving objects:   1% (1485/148459)\rReceiving objects:   2% (2970/148459)\rReceiving objects:   3% (4454/148459)\rReceiving objects:   4% (5939/148459)\rReceiving objects:   5% (7423/148459)\rReceiving objects:   6% (8908/148459)\rReceiving objects:   7% (10393/148459)\rReceiving objects:   8% (11877/148459)\rReceiving objects:   9% (13362/148459)\rReceiving objects:  10% (14846/148459)\rReceiving objects:  11% (16331/148459)\rReceiving objects:  12% (17816/148459)\rReceiving objects:  13% (19300/148459)\rReceiving objects:  14% (20785/148459)\rReceiving objects:  15% (22269/148459)\rReceiving objects:  16% (23754/148459)\rReceiving objects:  17% (25239/148459), 5.18 MiB | 10.34 MiB/s\rReceiving objects:  17% (25700/148459), 13.64 MiB | 13.43 MiB/s\rReceiving objects:  18% (26723/148459), 13.64 MiB | 13.43 MiB/s\rReceiving objects:  19% (28208/148459), 13.64 MiB | 13.43 MiB/s\rReceiving objects:  20% (29692/148459), 13.64 MiB | 13.43 MiB/s\rReceiving objects:  21% (31177/148459), 13.64 MiB | 13.43 MiB/s\rReceiving objects:  22% (32661/148459), 13.64 MiB | 13.43 MiB/s\rReceiving objects:  23% (34146/148459), 22.12 MiB | 14.60 MiB/s\rReceiving objects:  24% (35631/148459), 22.12 MiB | 14.60 MiB/s\rReceiving objects:  25% (37115/148459), 22.12 MiB | 14.60 MiB/s\rReceiving objects:  26% (38600/148459), 22.12 MiB | 14.60 MiB/s\rReceiving objects:  27% (40084/148459), 22.12 MiB | 14.60 MiB/s\rReceiving objects:  28% (41569/148459), 22.12 MiB | 14.60 MiB/s\rReceiving objects:  28% (41618/148459), 29.89 MiB | 14.68 MiB/s\rReceiving objects:  29% (43054/148459), 29.89 MiB | 14.68 MiB/s\rReceiving objects:  30% (44538/148459), 29.89 MiB | 14.68 MiB/s\rReceiving objects:  31% (46023/148459), 29.89 MiB | 14.68 MiB/s\rReceiving objects:  32% (47507/148459), 29.89 MiB | 14.68 MiB/s\rReceiving objects:  33% (48992/148459), 29.89 MiB | 14.68 MiB/s\rReceiving objects:  34% (50477/148459), 29.89 MiB | 14.68 MiB/s\rReceiving objects:  35% (51961/148459), 39.06 MiB | 15.40 MiB/s\rReceiving objects:  35% (53421/148459), 48.34 MiB | 15.92 MiB/s\rReceiving objects:  36% (53446/148459), 48.34 MiB | 15.92 MiB/s\rReceiving objects:  37% (54930/148459), 48.34 MiB | 15.92 MiB/s\rReceiving objects:  38% (56415/148459), 48.34 MiB | 15.92 MiB/s\rReceiving objects:  39% (57900/148459), 48.34 MiB | 15.92 MiB/s\rReceiving objects:  40% (59384/148459), 48.34 MiB | 15.92 MiB/s\rReceiving objects:  41% (60869/148459), 48.34 MiB | 15.92 MiB/s\rReceiving objects:  42% (62353/148459), 48.34 MiB | 15.92 MiB/s\rReceiving objects:  43% (63838/148459), 48.34 MiB | 15.92 MiB/s\rReceiving objects:  44% (65322/148459), 48.34 MiB | 15.92 MiB/s\rReceiving objects:  45% (66807/148459), 48.34 MiB | 15.92 MiB/s\rReceiving objects:  46% (68292/148459), 48.34 MiB | 15.92 MiB/s\rReceiving objects:  47% (69776/148459), 48.34 MiB | 15.92 MiB/s\rReceiving objects:  48% (71261/148459), 48.34 MiB | 15.92 MiB/s\rReceiving objects:  49% (72745/148459), 48.34 MiB | 15.92 MiB/s\rReceiving objects:  50% (74230/148459), 48.34 MiB | 15.92 MiB/s\rReceiving objects:  51% (75715/148459), 58.07 MiB | 16.42 MiB/s\rReceiving objects:  52% (77199/148459), 58.07 MiB | 16.42 MiB/s\rReceiving objects:  53% (78684/148459), 58.07 MiB | 16.42 MiB/s\rReceiving objects:  54% (80168/148459), 58.07 MiB | 16.42 MiB/s\rReceiving objects:  55% (81653/148459), 58.07 MiB | 16.42 MiB/s\rReceiving objects:  56% (83138/148459), 58.07 MiB | 16.42 MiB/s\rReceiving objects:  57% (84622/148459), 58.07 MiB | 16.42 MiB/s\rReceiving objects:  58% (86107/148459), 58.07 MiB | 16.42 MiB/s\rReceiving objects:  59% (87591/148459), 58.07 MiB | 16.42 MiB/s\rReceiving objects:  60% (89076/148459), 58.07 MiB | 16.42 MiB/s\rReceiving objects:  61% (90560/148459), 58.07 MiB | 16.42 MiB/s\rReceiving objects:  62% (92045/148459), 58.07 MiB | 16.42 MiB/s\rReceiving objects:  63% (93530/148459), 58.07 MiB | 16.42 MiB/s\rReceiving objects:  64% (95014/148459), 58.07 MiB | 16.42 MiB/s\rReceiving objects:  65% (96499/148459), 58.07 MiB | 16.42 MiB/s\rReceiving objects:  66% (97983/148459), 58.07 MiB | 16.42 MiB/s\rReceiving objects:  67% (99468/148459), 58.07 MiB | 16.42 MiB/s\rReceiving objects:  68% (100953/148459), 58.07 MiB | 16.42 MiB/s\rReceiving objects:  69% (102437/148459), 58.07 MiB | 16.42 MiB/s\rReceiving objects:  70% (103922/148459), 58.07 MiB | 16.42 MiB/s\rReceiving objects:  71% (105406/148459), 58.07 MiB | 16.42 MiB/s\rReceiving objects:  72% (106891/148459), 58.07 MiB | 16.42 MiB/s\rReceiving objects:  73% (108376/148459), 58.07 MiB | 16.42 MiB/s\rReceiving objects:  74% (109860/148459), 58.07 MiB | 16.42 MiB/s\rReceiving objects:  75% (111345/148459), 58.07 MiB | 16.42 MiB/s\rReceiving objects:  75% (112747/148459), 67.78 MiB | 16.79 MiB/s\rReceiving objects:  75% (112754/148459), 79.05 MiB | 16.29 MiB/s\rReceiving objects:  76% (112829/148459), 85.03 MiB | 15.79 MiB/s\rReceiving objects:  77% (114314/148459), 85.03 MiB | 15.79 MiB/s\rReceiving objects:  78% (115799/148459), 85.03 MiB | 15.79 MiB/s\rReceiving objects:  79% (117283/148459), 85.03 MiB | 15.79 MiB/s\rReceiving objects:  80% (118768/148459), 85.03 MiB | 15.79 MiB/s\rReceiving objects:  81% (120252/148459), 85.03 MiB | 15.79 MiB/s\rReceiving objects:  82% (121737/148459), 85.03 MiB | 15.79 MiB/s\rReceiving objects:  83% (123221/148459), 85.03 MiB | 15.79 MiB/s\rReceiving objects:  84% (124706/148459), 85.03 MiB | 15.79 MiB/s\rReceiving objects:  84% (125837/148459), 95.23 MiB | 16.17 MiB/s\rReceiving objects:  85% (126191/148459), 106.43 MiB | 17.01 MiB/s\rReceiving objects:  86% (127675/148459), 106.43 MiB | 17.01 MiB/s\rReceiving objects:  86% (128685/148459), 115.09 MiB | 16.90 MiB/s\rReceiving objects:  87% (129160/148459), 123.39 MiB | 16.68 MiB/s\rReceiving objects:  88% (130644/148459), 123.39 MiB | 16.68 MiB/s\rReceiving objects:  89% (132129/148459), 123.39 MiB | 16.68 MiB/s\rReceiving objects:  90% (133614/148459), 123.39 MiB | 16.68 MiB/s\rReceiving objects:  91% (135098/148459), 123.39 MiB | 16.68 MiB/s\rReceiving objects:  92% (136583/148459), 123.39 MiB | 16.68 MiB/s\rReceiving objects:  93% (138067/148459), 123.39 MiB | 16.68 MiB/s\rReceiving objects:  94% (139552/148459), 123.39 MiB | 16.68 MiB/s\rReceiving objects:  95% (141037/148459), 123.39 MiB | 16.68 MiB/s\rReceiving objects:  96% (142521/148459), 123.39 MiB | 16.68 MiB/s\rReceiving objects:  97% (144006/148459), 123.39 MiB | 16.68 MiB/s\rReceiving objects:  98% (145490/148459), 123.39 MiB | 16.68 MiB/s\rReceiving objects:  99% (146975/148459), 123.39 MiB | 16.68 MiB/s\rremote: Total 148459 (delta 565), reused 797 (delta 517), pack-reused 147572 (from 1)\u001b[K\r\nReceiving objects: 100% (148459/148459), 123.39 MiB | 16.68 MiB/s\rReceiving objects: 100% (148459/148459), 129.99 MiB | 16.49 MiB/s, done.\r\nResolving deltas:   0% (0/114591)\rResolving deltas:   1% (1146/114591)\rResolving deltas:   2% (2292/114591)\rResolving deltas:   3% (3438/114591)\rResolving deltas:   4% (4584/114591)\rResolving deltas:   5% (5730/114591)\rResolving deltas:   6% (6876/114591)\rResolving deltas:   7% (8022/114591)\rResolving deltas:   8% (9168/114591)\rResolving deltas:   9% (10314/114591)\rResolving deltas:  10% (11460/114591)\rResolving deltas:  11% (12606/114591)\rResolving deltas:  12% (13751/114591)\rResolving deltas:  13% (14897/114591)\rResolving deltas:  14% (16043/114591)\rResolving deltas:  15% (17189/114591)\rResolving deltas:  16% (18335/114591)\rResolving deltas:  17% (19481/114591)\rResolving deltas:  18% (20627/114591)\rResolving deltas:  19% (21773/114591)\rResolving deltas:  20% (22919/114591)\rResolving deltas:  21% (24065/114591)\rResolving deltas:  22% (25211/114591)\rResolving deltas:  23% (26356/114591)\rResolving deltas:  24% (27502/114591)\rResolving deltas:  25% (28648/114591)\rResolving deltas:  26% (29794/114591)\rResolving deltas:  27% (30940/114591)\rResolving deltas:  28% (32086/114591)\rResolving deltas:  29% (33232/114591)\rResolving deltas:  30% (34378/114591)\rResolving deltas:  31% (35524/114591)\rResolving deltas:  32% (36670/114591)\rResolving deltas:  33% (37816/114591)\rResolving deltas:  34% (38961/114591)\rResolving deltas:  34% (39761/114591)\rResolving deltas:  35% (40107/114591)\rResolving deltas:  36% (41253/114591)\rResolving deltas:  37% (42399/114591)\rResolving deltas:  38% (43545/114591)\rResolving deltas:  39% (44691/114591)\rResolving deltas:  40% (45837/114591)\rResolving deltas:  41% (46983/114591)\rResolving deltas:  42% (48130/114591)\rResolving deltas:  43% (49275/114591)\rResolving deltas:  44% (50421/114591)\rResolving deltas:  45% (51566/114591)\rResolving deltas:  46% (52712/114591)\rResolving deltas:  47% (53858/114591)\rResolving deltas:  48% (55004/114591)\rResolving deltas:  49% (56150/114591)\rResolving deltas:  50% (57296/114591)\rResolving deltas:  51% (58442/114591)\rResolving deltas:  52% (59588/114591)\rResolving deltas:  53% (60734/114591)\rResolving deltas:  54% (61880/114591)\rResolving deltas:  55% (63026/114591)\rResolving deltas:  56% (64171/114591)\rResolving deltas:  57% (65317/114591)\rResolving deltas:  58% (66463/114591)\rResolving deltas:  59% (67609/114591)\rResolving deltas:  60% (68755/114591)\rResolving deltas:  61% (69901/114591)\rResolving deltas:  62% (71047/114591)\rResolving deltas:  63% (72193/114591)\rResolving deltas:  64% (73339/114591)\rResolving deltas:  65% (74485/114591)\rResolving deltas:  66% (75631/114591)\rResolving deltas:  67% (76776/114591)\rResolving deltas:  68% (77922/114591)\rResolving deltas:  69% (79068/114591)\rResolving deltas:  70% (80214/114591)\rResolving deltas:  71% (81360/114591)\rResolving deltas:  72% (82506/114591)\rResolving deltas:  73% (83652/114591)\rResolving deltas:  74% (84798/114591)\rResolving deltas:  75% (85944/114591)\rResolving deltas:  76% (87090/114591)\rResolving deltas:  77% (88236/114591)\rResolving deltas:  78% (89381/114591)\rResolving deltas:  79% (90527/114591)\rResolving deltas:  80% (91673/114591)\rResolving deltas:  81% (92819/114591)\rResolving deltas:  82% (93965/114591)\rResolving deltas:  83% (95111/114591)\rResolving deltas:  83% (96148/114591)\rResolving deltas:  84% (96257/114591)\rResolving deltas:  85% (97403/114591)\rResolving deltas:  86% (98549/114591)\rResolving deltas:  87% (99695/114591)\rResolving deltas:  88% (100841/114591)\rResolving deltas:  89% (101986/114591)\rResolving deltas:  90% (103132/114591)\rResolving deltas:  91% (104278/114591)\rResolving deltas:  92% (105424/114591)\rResolving deltas:  93% (106570/114591)\rResolving deltas:  94% (107716/114591)\rResolving deltas:  95% (108862/114591)\rResolving deltas:  96% (110008/114591)\rResolving deltas:  97% (111154/114591)\rResolving deltas:  98% (112300/114591)\rResolving deltas:  99% (113446/114591)\rResolving deltas: 100% (114591/114591)\rResolving deltas: 100% (114591/114591), done.\r\nUpdating files:  69% (2407/3488)\rUpdating files:  70% (2442/3488)\rUpdating files:  71% (2477/3488)\rUpdating files:  72% (2512/3488)\rUpdating files:  73% (2547/3488)\rUpdating files:  74% (2582/3488)\rUpdating files:  75% (2616/3488)\rUpdating files:  76% (2651/3488)\rUpdating files:  77% (2686/3488)\rUpdating files:  78% (2721/3488)\rUpdating files:  79% (2756/3488)\rUpdating files:  80% (2791/3488)\rUpdating files:  81% (2826/3488)\rUpdating files:  82% (2861/3488)\rUpdating files:  83% (2896/3488)\rUpdating files:  84% (2930/3488)\rUpdating files:  85% (2965/3488)\rUpdating files:  86% (3000/3488)\rUpdating files:  87% (3035/3488)\rUpdating files:  88% (3070/3488)\rUpdating files:  89% (3105/3488)\rUpdating files:  90% (3140/3488)\rUpdating files:  91% (3175/3488)\rUpdating files:  92% (3209/3488)\rUpdating files:  93% (3244/3488)\rUpdating files:  94% (3279/3488)\rUpdating files:  95% (3314/3488)\rUpdating files:  96% (3349/3488)\rUpdating files:  97% (3384/3488)\rUpdating files:  98% (3419/3488)\rUpdating files:  99% (3454/3488)\rUpdating files: 100% (3488/3488)\rUpdating files: 100% (3488/3488), done.\r\nCloning Subword NMT repository (for BPE pre-processing)...\r\nCloning into 'subword-nmt'...\r\nremote: Enumerating objects: 622, done.\u001b[K\r\nremote: Counting objects:   2% (1/46)\u001b[K\rremote: Counting objects:   4% (2/46)\u001b[K\rremote: Counting objects:   6% (3/46)\u001b[K\rremote: Counting objects:   8% (4/46)\u001b[K\rremote: Counting objects:  10% (5/46)\u001b[K\rremote: Counting objects:  13% (6/46)\u001b[K\rremote: Counting objects:  15% (7/46)\u001b[K\rremote: Counting objects:  17% (8/46)\u001b[K\rremote: Counting objects:  19% (9/46)\u001b[K\rremote: Counting objects:  21% (10/46)\u001b[K\rremote: Counting objects:  23% (11/46)\u001b[K\rremote: Counting objects:  26% (12/46)\u001b[K\rremote: Counting objects:  28% (13/46)\u001b[K\rremote: Counting objects:  30% (14/46)\u001b[K\rremote: Counting objects:  32% (15/46)\u001b[K\rremote: Counting objects:  34% (16/46)\u001b[K\rremote: Counting objects:  36% (17/46)\u001b[K\rremote: Counting objects:  39% (18/46)\u001b[K\rremote: Counting objects:  41% (19/46)\u001b[K\rremote: Counting objects:  43% (20/46)\u001b[K\rremote: Counting objects:  45% (21/46)\u001b[K\rremote: Counting objects:  47% (22/46)\u001b[K\rremote: Counting objects:  50% (23/46)\u001b[K\rremote: Counting objects:  52% (24/46)\u001b[K\rremote: Counting objects:  54% (25/46)\u001b[K\rremote: Counting objects:  56% (26/46)\u001b[K\rremote: Counting objects:  58% (27/46)\u001b[K\rremote: Counting objects:  60% (28/46)\u001b[K\rremote: Counting objects:  63% (29/46)\u001b[K\rremote: Counting objects:  65% (30/46)\u001b[K\rremote: Counting objects:  67% (31/46)\u001b[K\rremote: Counting objects:  69% (32/46)\u001b[K\rremote: Counting objects:  71% (33/46)\u001b[K\rremote: Counting objects:  73% (34/46)\u001b[K\rremote: Counting objects:  76% (35/46)\u001b[K\rremote: Counting objects:  78% (36/46)\u001b[K\rremote: Counting objects:  80% (37/46)\u001b[K\rremote: Counting objects:  82% (38/46)\u001b[K\rremote: Counting objects:  84% (39/46)\u001b[K\rremote: Counting objects:  86% (40/46)\u001b[K\rremote: Counting objects:  89% (41/46)\u001b[K\rremote: Counting objects:  91% (42/46)\u001b[K\rremote: Counting objects:  93% (43/46)\u001b[K\rremote: Counting objects:  95% (44/46)\u001b[K\rremote: Counting objects:  97% (45/46)\u001b[K\rremote: Counting objects: 100% (46/46)\u001b[K\rremote: Counting objects: 100% (46/46), done.\u001b[K\r\nremote: Compressing objects:   3% (1/30)\u001b[K\rremote: Compressing objects:   6% (2/30)\u001b[K\rremote: Compressing objects:  10% (3/30)\u001b[K\rremote: Compressing objects:  13% (4/30)\u001b[K\rremote: Compressing objects:  16% (5/30)\u001b[K\rremote: Compressing objects:  20% (6/30)\u001b[K\rremote: Compressing objects:  23% (7/30)\u001b[K\rremote: Compressing objects:  26% (8/30)\u001b[K\rremote: Compressing objects:  30% (9/30)\u001b[K\rremote: Compressing objects:  33% (10/30)\u001b[K\rremote: Compressing objects:  36% (11/30)\u001b[K\rremote: Compressing objects:  40% (12/30)\u001b[K\rremote: Compressing objects:  43% (13/30)\u001b[K\rremote: Compressing objects:  46% (14/30)\u001b[K\rremote: Compressing objects:  50% (15/30)\u001b[K\rremote: Compressing objects:  53% (16/30)\u001b[K\rremote: Compressing objects:  56% (17/30)\u001b[K\rremote: Compressing objects:  60% (18/30)\u001b[K\rremote: Compressing objects:  63% (19/30)\u001b[K\rremote: Compressing objects:  66% (20/30)\u001b[K\rremote: Compressing objects:  70% (21/30)\u001b[K\rremote: Compressing objects:  73% (22/30)\u001b[K\rremote: Compressing objects:  76% (23/30)\u001b[K\rremote: Compressing objects:  80% (24/30)\u001b[K\rremote: Compressing objects:  83% (25/30)\u001b[K\rremote: Compressing objects:  86% (26/30)\u001b[K\rremote: Compressing objects:  90% (27/30)\u001b[K\rremote: Compressing objects:  93% (28/30)\u001b[K\rremote: Compressing objects:  96% (29/30)\u001b[K\rremote: Compressing objects: 100% (30/30)\u001b[K\rremote: Compressing objects: 100% (30/30), done.\u001b[K\r\nReceiving objects:   0% (1/622)\rReceiving objects:   1% (7/622)\rReceiving objects:   2% (13/622)\rReceiving objects:   3% (19/622)\rReceiving objects:   4% (25/622)\rReceiving objects:   5% (32/622)\rReceiving objects:   6% (38/622)\rReceiving objects:   7% (44/622)\rReceiving objects:   8% (50/622)\rReceiving objects:   9% (56/622)\rReceiving objects:  10% (63/622)\rReceiving objects:  11% (69/622)\rReceiving objects:  12% (75/622)\rReceiving objects:  13% (81/622)\rReceiving objects:  14% (88/622)\rReceiving objects:  15% (94/622)\rReceiving objects:  16% (100/622)\rReceiving objects:  17% (106/622)\rReceiving objects:  18% (112/622)\rReceiving objects:  19% (119/622)\rReceiving objects:  20% (125/622)\rReceiving objects:  21% (131/622)\rReceiving objects:  22% (137/622)\rReceiving objects:  23% (144/622)\rReceiving objects:  24% (150/622)\rReceiving objects:  25% (156/622)\rReceiving objects:  26% (162/622)\rReceiving objects:  27% (168/622)\rReceiving objects:  28% (175/622)\rReceiving objects:  29% (181/622)\rReceiving objects:  30% (187/622)\rReceiving objects:  31% (193/622)\rReceiving objects:  32% (200/622)\rReceiving objects:  33% (206/622)\rReceiving objects:  34% (212/622)\rReceiving objects:  35% (218/622)\rReceiving objects:  36% (224/622)\rReceiving objects:  37% (231/622)\rReceiving objects:  38% (237/622)\rReceiving objects:  39% (243/622)\rReceiving objects:  40% (249/622)\rReceiving objects:  41% (256/622)\rReceiving objects:  42% (262/622)\rReceiving objects:  43% (268/622)\rReceiving objects:  44% (274/622)\rReceiving objects:  45% (280/622)\rReceiving objects:  46% (287/622)\rReceiving objects:  47% (293/622)\rReceiving objects:  48% (299/622)\rReceiving objects:  49% (305/622)\rReceiving objects:  50% (311/622)\rReceiving objects:  51% (318/622)\rReceiving objects:  52% (324/622)\rReceiving objects:  53% (330/622)\rReceiving objects:  54% (336/622)\rReceiving objects:  55% (343/622)\rReceiving objects:  56% (349/622)\rReceiving objects:  57% (355/622)\rReceiving objects:  58% (361/622)\rremote: Total 622 (delta 25), reused 31 (delta 16), pack-reused 576 (from 1)\u001b[K\r\nReceiving objects:  59% (367/622)\rReceiving objects:  60% (374/622)\rReceiving objects:  61% (380/622)\rReceiving objects:  62% (386/622)\rReceiving objects:  63% (392/622)\rReceiving objects:  64% (399/622)\rReceiving objects:  65% (405/622)\rReceiving objects:  66% (411/622)\rReceiving objects:  67% (417/622)\rReceiving objects:  68% (423/622)\rReceiving objects:  69% (430/622)\rReceiving objects:  70% (436/622)\rReceiving objects:  71% (442/622)\rReceiving objects:  72% (448/622)\rReceiving objects:  73% (455/622)\rReceiving objects:  74% (461/622)\rReceiving objects:  75% (467/622)\rReceiving objects:  76% (473/622)\rReceiving objects:  77% (479/622)\rReceiving objects:  78% (486/622)\rReceiving objects:  79% (492/622)\rReceiving objects:  80% (498/622)\rReceiving objects:  81% (504/622)\rReceiving objects:  82% (511/622)\rReceiving objects:  83% (517/622)\rReceiving objects:  84% (523/622)\rReceiving objects:  85% (529/622)\rReceiving objects:  86% (535/622)\rReceiving objects:  87% (542/622)\rReceiving objects:  88% (548/622)\rReceiving objects:  89% (554/622)\rReceiving objects:  90% (560/622)\rReceiving objects:  91% (567/622)\rReceiving objects:  92% (573/622)\rReceiving objects:  93% (579/622)\rReceiving objects:  94% (585/622)\rReceiving objects:  95% (591/622)\rReceiving objects:  96% (598/622)\rReceiving objects:  97% (604/622)\rReceiving objects:  98% (610/622)\rReceiving objects:  99% (616/622)\rReceiving objects: 100% (622/622)\rReceiving objects: 100% (622/622), 261.27 KiB | 1.75 MiB/s, done.\r\nResolving deltas:   0% (0/374)\rResolving deltas:   1% (4/374)\rResolving deltas:   2% (8/374)\rResolving deltas:   3% (12/374)\rResolving deltas:   4% (15/374)\rResolving deltas:   5% (19/374)\rResolving deltas:   6% (23/374)\rResolving deltas:   7% (27/374)\rResolving deltas:   8% (30/374)\rResolving deltas:   9% (34/374)\rResolving deltas:  10% (38/374)\rResolving deltas:  11% (42/374)\rResolving deltas:  12% (45/374)\rResolving deltas:  13% (49/374)\rResolving deltas:  14% (53/374)\rResolving deltas:  15% (57/374)\rResolving deltas:  16% (60/374)\rResolving deltas:  17% (64/374)\rResolving deltas:  18% (68/374)\rResolving deltas:  19% (72/374)\rResolving deltas:  20% (75/374)\rResolving deltas:  21% (79/374)\rResolving deltas:  22% (83/374)\rResolving deltas:  23% (87/374)\rResolving deltas:  24% (90/374)\rResolving deltas:  25% (94/374)\rResolving deltas:  26% (98/374)\rResolving deltas:  27% (101/374)\rResolving deltas:  28% (105/374)\rResolving deltas:  29% (109/374)\rResolving deltas:  30% (113/374)\rResolving deltas:  31% (116/374)\rResolving deltas:  32% (120/374)\rResolving deltas:  33% (124/374)\rResolving deltas:  34% (128/374)\rResolving deltas:  35% (131/374)\rResolving deltas:  36% (135/374)\rResolving deltas:  37% (139/374)\rResolving deltas:  38% (143/374)\rResolving deltas:  39% (147/374)\rResolving deltas:  40% (150/374)\rResolving deltas:  41% (154/374)\rResolving deltas:  42% (158/374)\rResolving deltas:  43% (161/374)\rResolving deltas:  44% (165/374)\rResolving deltas:  45% (169/374)\rResolving deltas:  46% (173/374)\rResolving deltas:  47% (176/374)\rResolving deltas:  48% (180/374)\rResolving deltas:  49% (184/374)\rResolving deltas:  50% (187/374)\rResolving deltas:  51% (191/374)\rResolving deltas:  52% (195/374)\rResolving deltas:  53% (199/374)\rResolving deltas:  54% (202/374)\rResolving deltas:  55% (206/374)\rResolving deltas:  56% (210/374)\rResolving deltas:  57% (214/374)\rResolving deltas:  58% (217/374)\rResolving deltas:  59% (221/374)\rResolving deltas:  60% (225/374)\rResolving deltas:  61% (229/374)\rResolving deltas:  62% (232/374)\rResolving deltas:  63% (236/374)\rResolving deltas:  64% (240/374)\rResolving deltas:  65% (244/374)\rResolving deltas:  66% (247/374)\rResolving deltas:  67% (251/374)\rResolving deltas:  68% (255/374)\rResolving deltas:  69% (259/374)\rResolving deltas:  70% (262/374)\rResolving deltas:  71% (266/374)\rResolving deltas:  72% (270/374)\rResolving deltas:  73% (274/374)\rResolving deltas:  74% (278/374)\rResolving deltas:  75% (281/374)\rResolving deltas:  76% (285/374)\rResolving deltas:  77% (288/374)\rResolving deltas:  78% (292/374)\rResolving deltas:  79% (296/374)\rResolving deltas:  80% (300/374)\rResolving deltas:  81% (303/374)\rResolving deltas:  82% (307/374)\rResolving deltas:  83% (311/374)\rResolving deltas:  84% (315/374)\rResolving deltas:  85% (318/374)\rResolving deltas:  86% (322/374)\rResolving deltas:  87% (326/374)\rResolving deltas:  88% (330/374)\rResolving deltas:  89% (333/374)\rResolving deltas:  90% (337/374)\rResolving deltas:  91% (341/374)\rResolving deltas:  92% (345/374)\rResolving deltas:  93% (348/374)\rResolving deltas:  94% (352/374)\rResolving deltas:  95% (356/374)\rResolving deltas:  96% (360/374)\rResolving deltas:  97% (363/374)\rResolving deltas:  98% (367/374)\rResolving deltas:  99% (371/374)\rResolving deltas: 100% (374/374)\rResolving deltas: 100% (374/374), done.\r\nfilter out empty lines from original data and split doc with empty line...\r\ndata/g-transformer.tokenized.en-de/tmp/train.en-de.tag\r\npaste: raw_data/g-transformer/concatenated_en2de_train_en.txt: No such file or directory\r\nTokenizer Version 1.1\r\nLanguage: en\r\nNumber of threads: 8\r\nTokenizer Version 1.1\r\nLanguage: de\r\nNumber of threads: 8\r\ndata/g-transformer.tokenized.en-de/tmp/valid.en-de.tag\r\npaste: raw_data/g-transformer/concatenated_en2de_dev_en.txt: No such file or directory\r\nTokenizer Version 1.1\r\nLanguage: en\r\nNumber of threads: 8\r\nTokenizer Version 1.1\r\nLanguage: de\r\nNumber of threads: 8\r\ndata/g-transformer.tokenized.en-de/tmp/test.en-de.tag\r\npaste: raw_data/g-transformer/concatenated_en2de_test_en.txt: No such file or directory\r\nTokenizer Version 1.1\r\nLanguage: en\r\nNumber of threads: 8\r\nTokenizer Version 1.1\r\nLanguage: de\r\nNumber of threads: 8\r\ntruecase the train/valid/test data...\r\ndata/g-transformer.tokenized.en-de/tmp/truecase.en.mdl\r\ndata/g-transformer.tokenized.en-de/tmp/truecase.de.mdl\r\ndata/g-transformer.tokenized.en-de/tmp/train.en.tc\r\ndata/g-transformer.tokenized.en-de/tmp/train.de.tc\r\ndata/g-transformer.tokenized.en-de/tmp/valid.en.tc\r\ndata/g-transformer.tokenized.en-de/tmp/valid.de.tc\r\ndata/g-transformer.tokenized.en-de/tmp/test.en.tc\r\ndata/g-transformer.tokenized.en-de/tmp/test.de.tc\r\nlearn_bpe.py on ...\r\nTraceback (most recent call last):\r\n  File \"/content/g-transformer/subword-nmt/subword_nmt/learn_bpe.py\", line 400, in <module>\r\n    learn_bpe(args.input, args.output, args.symbols, args.min_frequency, args.verbose, is_dict=args.dict_input, is_bytes=args.byte, total_symbols=args.total_symbols, num_workers=args.num_workers)\r\n  File \"/content/g-transformer/subword-nmt/subword_nmt/learn_bpe.py\", line 332, in learn_bpe\r\n    threshold = max(stats.values()) / 10\r\nValueError: max() arg is an empty sequence\r\napply_bpe.py to train.en...\r\nError: invalid line 2 in BPE codes file: \r\nThe line should exist of exactly two subword units, separated by whitespace\r\napply_bpe.py to valid.en...\r\nError: invalid line 2 in BPE codes file: \r\nThe line should exist of exactly two subword units, separated by whitespace\r\napply_bpe.py to test.en...\r\nError: invalid line 2 in BPE codes file: \r\nThe line should exist of exactly two subword units, separated by whitespace\r\napply_bpe.py to train.de...\r\nError: invalid line 2 in BPE codes file: \r\nThe line should exist of exactly two subword units, separated by whitespace\r\napply_bpe.py to valid.de...\r\nError: invalid line 2 in BPE codes file: \r\nThe line should exist of exactly two subword units, separated by whitespace\r\napply_bpe.py to test.de...\r\nError: invalid line 2 in BPE codes file: \r\nThe line should exist of exactly two subword units, separated by whitespace\r\napply doc-level special tags...\r\n[2024-08-22 04:49:52,582 INFO] Building segmented data: Namespace(corpuses='test,valid,train', source_lang='en', target_lang='de', datadir='data/g-transformer.tokenized.en-de', destdir='data/g-transformer-sent.segmented.en-de/', max_sents=1, max_tokens=512, min_train_doclen=-1, no_special_tok=False, tempdir='data/g-transformer-sent.segmented.en-de/tmp')\r\n[2024-08-22 04:49:52,584 INFO] Processed 1 documents of test with a max_len of 512.\r\n[2024-08-22 04:49:52,584 INFO] Saved 0 lines into data/g-transformer-sent.segmented.en-de/test.en\r\n[2024-08-22 04:49:52,584 INFO] Saved 0 lines into data/g-transformer-sent.segmented.en-de/test.de\r\n[2024-08-22 04:49:52,585 INFO] Processed 1 documents of valid with a max_len of 512.\r\n[2024-08-22 04:49:52,585 INFO] Saved 0 lines into data/g-transformer-sent.segmented.en-de/valid.en\r\n[2024-08-22 04:49:52,586 INFO] Saved 0 lines into data/g-transformer-sent.segmented.en-de/valid.de\r\n[2024-08-22 04:49:52,586 INFO] Processed 1 documents of train with a max_len of 512.\r\n[2024-08-22 04:49:52,586 INFO] Saved 0 lines into data/g-transformer-sent.segmented.en-de/train.en\r\n[2024-08-22 04:49:52,586 INFO] Saved 0 lines into data/g-transformer-sent.segmented.en-de/train.de\r\n[2024-08-22 04:49:53,019 INFO] Building segmented data: Namespace(corpuses='test,valid,train', source_lang='en', target_lang='de', datadir='data/g-transformer.tokenized.en-de', destdir='data/g-transformer-doc.segmented.en-de/', max_sents=1000, max_tokens=512, min_train_doclen=-1, no_special_tok=False, tempdir='data/g-transformer-doc.segmented.en-de/tmp')\r\n[2024-08-22 04:49:53,020 INFO] Processed 1 documents of test with a max_len of 512.\r\n[2024-08-22 04:49:53,020 INFO] Saved 0 lines into data/g-transformer-doc.segmented.en-de/test.en\r\n[2024-08-22 04:49:53,021 INFO] Saved 0 lines into data/g-transformer-doc.segmented.en-de/test.de\r\n[2024-08-22 04:49:53,021 INFO] Processed 1 documents of valid with a max_len of 512.\r\n[2024-08-22 04:49:53,021 INFO] Saved 0 lines into data/g-transformer-doc.segmented.en-de/valid.en\r\n[2024-08-22 04:49:53,022 INFO] Saved 0 lines into data/g-transformer-doc.segmented.en-de/valid.de\r\n[2024-08-22 04:49:53,022 INFO] Processed 1 documents of train with a max_len of 512.\r\n[2024-08-22 04:49:53,022 INFO] Saved 0 lines into data/g-transformer-doc.segmented.en-de/train.en\r\n[2024-08-22 04:49:53,023 INFO] Saved 0 lines into data/g-transformer-doc.segmented.en-de/train.de\r\nTraceback (most recent call last):\r\n  File \"/usr/local/lib/python3.10/runpy.py\", line 196, in _run_module_as_main\r\n    return _run_code(code, main_globals, None,\r\n  File \"/usr/local/lib/python3.10/runpy.py\", line 86, in _run_code\r\n    exec(code, run_globals)\r\n  File \"/content/g-transformer/fairseq_cli/preprocess.py\", line 20, in <module>\r\n    from fairseq import options, tasks, utils\r\n  File \"/content/g-transformer/fairseq/__init__.py\", line 17, in <module>\r\n    import fairseq.criterions  # noqa\r\n  File \"/content/g-transformer/fairseq/criterions/__init__.py\", line 10, in <module>\r\n    from fairseq.criterions.fairseq_criterion import FairseqCriterion, LegacyFairseqCriterion\r\n  File \"/content/g-transformer/fairseq/criterions/fairseq_criterion.py\", line 11, in <module>\r\n    from fairseq import metrics, utils\r\n  File \"/content/g-transformer/fairseq/utils.py\", line 22, in <module>\r\n    from fairseq.modules import gelu, gelu_accurate\r\n  File \"/content/g-transformer/fairseq/modules/__init__.py\", line 9, in <module>\r\n    from .character_token_embedder import CharacterTokenEmbedder\r\n  File \"/content/g-transformer/fairseq/modules/character_token_embedder.py\", line 13, in <module>\r\n    from fairseq.data import Dictionary\r\n  File \"/content/g-transformer/fairseq/data/__init__.py\", line 21, in <module>\r\n    from .indexed_dataset import IndexedCachedDataset, IndexedDataset, IndexedRawTextDataset, MMapIndexedDataset\r\n  File \"/content/g-transformer/fairseq/data/indexed_dataset.py\", line 89, in <module>\r\n    6: np.float,\r\n  File \"/usr/local/lib/python3.10/site-packages/numpy/__init__.py\", line 319, in __getattr__\r\n    raise AttributeError(__former_attrs__[attr])\r\nAttributeError: module 'numpy' has no attribute 'float'.\r\n`np.float` was a deprecated alias for the builtin `float`. To avoid this error in existing code, use `float` by itself. Doing this will not modify any behavior and is safe. If you specifically wanted the numpy scalar type, use `np.float64` here.\r\nThe aliases was originally deprecated in NumPy 1.20; for more details and guidance see the original release note at:\r\n    https://numpy.org/devdocs/release/1.20.0-notes.html#deprecations. Did you mean: 'cfloat'?\r\nTraceback (most recent call last):\r\n  File \"/usr/local/lib/python3.10/runpy.py\", line 196, in _run_module_as_main\r\n    return _run_code(code, main_globals, None,\r\n  File \"/usr/local/lib/python3.10/runpy.py\", line 86, in _run_code\r\n    exec(code, run_globals)\r\n  File \"/content/g-transformer/fairseq_cli/preprocess.py\", line 20, in <module>\r\n    from fairseq import options, tasks, utils\r\n  File \"/content/g-transformer/fairseq/__init__.py\", line 17, in <module>\r\n    import fairseq.criterions  # noqa\r\n  File \"/content/g-transformer/fairseq/criterions/__init__.py\", line 10, in <module>\r\n    from fairseq.criterions.fairseq_criterion import FairseqCriterion, LegacyFairseqCriterion\r\n  File \"/content/g-transformer/fairseq/criterions/fairseq_criterion.py\", line 11, in <module>\r\n    from fairseq import metrics, utils\r\n  File \"/content/g-transformer/fairseq/utils.py\", line 22, in <module>\r\n    from fairseq.modules import gelu, gelu_accurate\r\n  File \"/content/g-transformer/fairseq/modules/__init__.py\", line 9, in <module>\r\n    from .character_token_embedder import CharacterTokenEmbedder\r\n  File \"/content/g-transformer/fairseq/modules/character_token_embedder.py\", line 13, in <module>\r\n    from fairseq.data import Dictionary\r\n  File \"/content/g-transformer/fairseq/data/__init__.py\", line 21, in <module>\r\n    from .indexed_dataset import IndexedCachedDataset, IndexedDataset, IndexedRawTextDataset, MMapIndexedDataset\r\n  File \"/content/g-transformer/fairseq/data/indexed_dataset.py\", line 89, in <module>\r\n    6: np.float,\r\n  File \"/usr/local/lib/python3.10/site-packages/numpy/__init__.py\", line 319, in __getattr__\r\n    raise AttributeError(__former_attrs__[attr])\r\nAttributeError: module 'numpy' has no attribute 'float'.\r\n`np.float` was a deprecated alias for the builtin `float`. To avoid this error in existing code, use `float` by itself. Doing this will not modify any behavior and is safe. If you specifically wanted the numpy scalar type, use `np.float64` here.\r\nThe aliases was originally deprecated in NumPy 1.20; for more details and guidance see the original release note at:\r\n    https://numpy.org/devdocs/release/1.20.0-notes.html#deprecations. Did you mean: 'cfloat'?\r\n"
      ]
     },
     "execution_count": null,
     "metadata": {},
     "output_type": "execute_result"
    }
   ],
   "source": [
    "%cd /content/g-transformer\n",
    "!bash exp_gtrans/prepare-finetune.sh g-transformer data"
   ]
  },
  {
   "cell_type": "markdown",
   "id": "7c69583c",
   "metadata": {},
   "source": [
    "### Step 9"
   ]
  },
  {
   "cell_type": "markdown",
   "id": "fba43e35",
   "metadata": {},
   "source": [
    "**Thought**: [pre-executed by user]"
   ]
  },
  {
   "cell_type": "markdown",
   "id": "a34c0bce",
   "metadata": {},
   "source": [
    "**Action (None)**:"
   ]
  },
  {
   "cell_type": "code",
   "execution_count": null,
   "id": "2178e443",
   "metadata": {},
   "outputs": [
    {
     "data": {
      "text/plain": [
       ""
      ]
     },
     "execution_count": null,
     "metadata": {},
     "output_type": "execute_result"
    }
   ],
   "source": [
    "# The previous error because the attribute `float` was removed from `numpy` in version 1.24. It can be solved downgrading this package."
   ]
  },
  {
   "cell_type": "markdown",
   "id": "b882c0df",
   "metadata": {},
   "source": [
    "### Step 10"
   ]
  },
  {
   "cell_type": "markdown",
   "id": "bc086d2f",
   "metadata": {},
   "source": [
    "**Thought**: [pre-executed by user]"
   ]
  },
  {
   "cell_type": "markdown",
   "id": "c7d769df",
   "metadata": {},
   "source": [
    "**Action (None)**:"
   ]
  },
  {
   "cell_type": "code",
   "execution_count": null,
   "id": "bade7511",
   "metadata": {},
   "outputs": [
    {
     "data": {
      "text/plain": [
       "Collecting numpy==1.23\r\n  Downloading numpy-1.23.0-cp310-cp310-manylinux_2_17_x86_64.manylinux2014_x86_64.whl.metadata (2.2 kB)\r\nDownloading numpy-1.23.0-cp310-cp310-manylinux_2_17_x86_64.manylinux2014_x86_64.whl (17.0 MB)\r\n\u001b[?25l   \u001b[90m━━━━━━━━━━━━━━━━━━━━━━━━━━━━━━━━━━━━━━━━\u001b[0m \u001b[32m0.0/17.0 MB\u001b[0m \u001b[31m?\u001b[0m eta \u001b[36m-:--:--\u001b[0m\r\u001b[2K   \u001b[91m━━━━━\u001b[0m\u001b[90m╺\u001b[0m\u001b[90m━━━━━━━━━━━━━━━━━━━━━━━━━━━━━━━━━━\u001b[0m \u001b[32m2.2/17.0 MB\u001b[0m \u001b[31m66.8 MB/s\u001b[0m eta \u001b[36m0:00:01\u001b[0m\r\u001b[2K   \u001b[91m━━━━━━━━━━━━━\u001b[0m\u001b[90m╺\u001b[0m\u001b[90m━━━━━━━━━━━━━━━━━━━━━━━━━━\u001b[0m \u001b[32m5.6/17.0 MB\u001b[0m \u001b[31m80.8 MB/s\u001b[0m eta \u001b[36m0:00:01\u001b[0m\r\u001b[2K   \u001b[91m━━━━━━━━━━━━━━━━━━━━━━━━━\u001b[0m\u001b[90m╺\u001b[0m\u001b[90m━━━━━━━━━━━━━━\u001b[0m \u001b[32m10.7/17.0 MB\u001b[0m \u001b[31m107.3 MB/s\u001b[0m eta \u001b[36m0:00:01\u001b[0m\r\u001b[2K   \u001b[91m━━━━━━━━━━━━━━━━━━━━━━━━━━━━━━━━━━━━\u001b[0m\u001b[91m╸\u001b[0m\u001b[90m━━━\u001b[0m \u001b[32m15.6/17.0 MB\u001b[0m \u001b[31m140.2 MB/s\u001b[0m eta \u001b[36m0:00:01\u001b[0m\r\u001b[2K   \u001b[90m━━━━━━━━━━━━━━━━━━━━━━━━━━━━━━━━━━━━━━━━\u001b[0m \u001b[32m17.0/17.0 MB\u001b[0m \u001b[31m140.3 MB/s\u001b[0m eta \u001b[36m0:00:00\u001b[0m\r\n\u001b[?25hInstalling collected packages: numpy\r\n  Attempting uninstall: numpy\r\n    Found existing installation: numpy 1.25.2\r\n    Uninstalling numpy-1.25.2:\r\n      Successfully uninstalled numpy-1.25.2\r\nSuccessfully installed numpy-1.23.0\r\n\r\n\u001b[1m[\u001b[0m\u001b[34;49mnotice\u001b[0m\u001b[1;39;49m]\u001b[0m\u001b[39;49m A new release of pip is available: \u001b[0m\u001b[31;49m24.0\u001b[0m\u001b[39;49m -> \u001b[0m\u001b[32;49m24.2\u001b[0m\r\n\u001b[1m[\u001b[0m\u001b[34;49mnotice\u001b[0m\u001b[1;39;49m]\u001b[0m\u001b[39;49m To update, run: \u001b[0m\u001b[32;49mpip install --upgrade pip\u001b[0m\r\n"
      ]
     },
     "execution_count": null,
     "metadata": {},
     "output_type": "execute_result"
    }
   ],
   "source": [
    "!pip install --upgrade numpy==1.23"
   ]
  },
  {
   "cell_type": "markdown",
   "id": "ebba772b",
   "metadata": {},
   "source": [
    "### Step 11"
   ]
  },
  {
   "cell_type": "markdown",
   "id": "e520943f",
   "metadata": {},
   "source": [
    "**Thought**: [pre-executed by user]"
   ]
  },
  {
   "cell_type": "markdown",
   "id": "fb25f0c5",
   "metadata": {},
   "source": [
    "**Action (None)**:"
   ]
  },
  {
   "cell_type": "code",
   "execution_count": null,
   "id": "1f7dcb7c",
   "metadata": {},
   "outputs": [
    {
     "data": {
      "text/plain": [
       "/content/g-transformer\n/usr/local/lib/python3.10/site-packages/IPython/core/magics/osm.py:417: UserWarning: This is now an optional IPython functionality, setting dhist requires you to install the `pickleshare` library.\n  self.shell.db['dhist'] = compress_dhist(dhist)[-100:]\nThu Aug 22 04:50:20 UTC 2024, exp_path: data, data: g-transformer, input: doc, code: bpe, slang: en, tlang: de\r\nThu Aug 22 04:50:20 UTC 2024, Prepraring data...\r\nmosesdecoder already exists, skipping download\r\nsubword-nmt already exists, skipping download\r\nBPE code data/g-transformer.tokenized.en-de/code is already exist, skipping data preparation.\r\n[2024-08-22 04:50:20,837 INFO] Building segmented data: Namespace(corpuses='test,valid,train', source_lang='en', target_lang='de', datadir='data/g-transformer.tokenized.en-de', destdir='data/g-transformer-sent.segmented.en-de/', max_sents=1, max_tokens=512, min_train_doclen=-1, no_special_tok=False, tempdir='data/g-transformer-sent.segmented.en-de/tmp')\r\n[2024-08-22 04:50:20,838 INFO] Processed 1 documents of test with a max_len of 512.\r\n[2024-08-22 04:50:20,839 INFO] Saved 0 lines into data/g-transformer-sent.segmented.en-de/test.en\r\n[2024-08-22 04:50:20,839 INFO] Saved 0 lines into data/g-transformer-sent.segmented.en-de/test.de\r\n[2024-08-22 04:50:20,839 INFO] Processed 1 documents of valid with a max_len of 512.\r\n[2024-08-22 04:50:20,839 INFO] Saved 0 lines into data/g-transformer-sent.segmented.en-de/valid.en\r\n[2024-08-22 04:50:20,839 INFO] Saved 0 lines into data/g-transformer-sent.segmented.en-de/valid.de\r\n[2024-08-22 04:50:20,840 INFO] Processed 1 documents of train with a max_len of 512.\r\n[2024-08-22 04:50:20,840 INFO] Saved 0 lines into data/g-transformer-sent.segmented.en-de/train.en\r\n[2024-08-22 04:50:20,840 INFO] Saved 0 lines into data/g-transformer-sent.segmented.en-de/train.de\r\n[2024-08-22 04:50:21,244 INFO] Building segmented data: Namespace(corpuses='test,valid,train', source_lang='en', target_lang='de', datadir='data/g-transformer.tokenized.en-de', destdir='data/g-transformer-doc.segmented.en-de/', max_sents=1000, max_tokens=512, min_train_doclen=-1, no_special_tok=False, tempdir='data/g-transformer-doc.segmented.en-de/tmp')\r\n[2024-08-22 04:50:21,244 INFO] Processed 1 documents of test with a max_len of 512.\r\n[2024-08-22 04:50:21,245 INFO] Saved 0 lines into data/g-transformer-doc.segmented.en-de/test.en\r\n[2024-08-22 04:50:21,245 INFO] Saved 0 lines into data/g-transformer-doc.segmented.en-de/test.de\r\n[2024-08-22 04:50:21,245 INFO] Processed 1 documents of valid with a max_len of 512.\r\n[2024-08-22 04:50:21,245 INFO] Saved 0 lines into data/g-transformer-doc.segmented.en-de/valid.en\r\n[2024-08-22 04:50:21,246 INFO] Saved 0 lines into data/g-transformer-doc.segmented.en-de/valid.de\r\n[2024-08-22 04:50:21,246 INFO] Processed 1 documents of train with a max_len of 512.\r\n[2024-08-22 04:50:21,246 INFO] Saved 0 lines into data/g-transformer-doc.segmented.en-de/train.en\r\n[2024-08-22 04:50:21,246 INFO] Saved 0 lines into data/g-transformer-doc.segmented.en-de/train.de\r\n2024-08-22 04:50:26 | INFO | fairseq_cli.preprocess | Namespace(no_progress_bar=False, log_interval=100, log_format=None, tensorboard_logdir='', seed=1, cpu=False, tpu=False, bf16=False, fp16=False, memory_efficient_bf16=False, memory_efficient_fp16=False, fp16_no_flatten_grads=False, fp16_init_scale=128, fp16_scale_window=None, fp16_scale_tolerance=0.0, min_loss_scale=0.0001, threshold_loss_scale=None, user_dir=None, empty_cache_freq=0, all_gather_list_size=16384, model_parallel_size=1, checkpoint_suffix='', quantization_config_path=None, profile=False, criterion='cross_entropy', tokenizer=None, bpe=None, optimizer='nag', lr_scheduler='fixed', task='translation_doc', source_lang='en', target_lang='de', trainpref='data/g-transformer-sent.segmented.en-de/train', validpref='data/g-transformer-sent.segmented.en-de/valid', testpref='data/g-transformer-sent.segmented.en-de/test', align_suffix=None, destdir='data/g-transformer-sent.binarized.en-de', thresholdtgt=0, thresholdsrc=0, tgtdict=None, srcdict=None, nwordstgt=-1, nwordssrc=-1, alignfile=None, dataset_impl='mmap', joined_dictionary=True, only_source=False, padding_factor=8, workers=8)\r\n2024-08-22 04:50:28 | INFO | fairseq_cli.preprocess | [en] Dictionary: 8 types\r\nTraceback (most recent call last):\r\n  File \"/usr/local/lib/python3.10/runpy.py\", line 196, in _run_module_as_main\r\n    return _run_code(code, main_globals, None,\r\n  File \"/usr/local/lib/python3.10/runpy.py\", line 86, in _run_code\r\n    exec(code, run_globals)\r\n  File \"/content/g-transformer/fairseq_cli/preprocess.py\", line 367, in <module>\r\n    cli_main()\r\n  File \"/content/g-transformer/fairseq_cli/preprocess.py\", line 363, in cli_main\r\n    main(args)\r\n  File \"/content/g-transformer/fairseq_cli/preprocess.py\", line 262, in main\r\n    make_all(args.source_lang, src_dict)\r\n  File \"/content/g-transformer/fairseq_cli/preprocess.py\", line 244, in make_all\r\n    make_dataset(vocab, args.trainpref, \"train\", lang, num_workers=args.workers)\r\n  File \"/content/g-transformer/fairseq_cli/preprocess.py\", line 240, in make_dataset\r\n    make_binary_dataset(vocab, input_prefix, output_prefix, lang, num_workers)\r\n  File \"/content/g-transformer/fairseq_cli/preprocess.py\", line 172, in make_binary_dataset\r\n    100 * sum(replaced.values()) / n_seq_tok[1],\r\nZeroDivisionError: division by zero\r\n2024-08-22 04:50:34 | INFO | fairseq_cli.preprocess | Namespace(no_progress_bar=False, log_interval=100, log_format=None, tensorboard_logdir='', seed=1, cpu=False, tpu=False, bf16=False, fp16=False, memory_efficient_bf16=False, memory_efficient_fp16=False, fp16_no_flatten_grads=False, fp16_init_scale=128, fp16_scale_window=None, fp16_scale_tolerance=0.0, min_loss_scale=0.0001, threshold_loss_scale=None, user_dir=None, empty_cache_freq=0, all_gather_list_size=16384, model_parallel_size=1, checkpoint_suffix='', quantization_config_path=None, profile=False, criterion='cross_entropy', tokenizer=None, bpe=None, optimizer='nag', lr_scheduler='fixed', task='translation_doc', source_lang='en', target_lang='de', trainpref='data/g-transformer-doc.segmented.en-de/train', validpref='data/g-transformer-doc.segmented.en-de/valid', testpref='data/g-transformer-doc.segmented.en-de/test', align_suffix=None, destdir='data/g-transformer-doc.binarized.en-de', thresholdtgt=0, thresholdsrc=0, tgtdict='data/g-transformer-sent.binarized.en-de/dict.en.txt', srcdict='data/g-transformer-sent.binarized.en-de/dict.en.txt', nwordstgt=-1, nwordssrc=-1, alignfile=None, dataset_impl='mmap', joined_dictionary=False, only_source=False, padding_factor=8, workers=8)\r\n2024-08-22 04:50:34 | INFO | fairseq_cli.preprocess | [en] Dictionary: 8 types\r\nTraceback (most recent call last):\r\n  File \"/usr/local/lib/python3.10/runpy.py\", line 196, in _run_module_as_main\r\n    return _run_code(code, main_globals, None,\r\n  File \"/usr/local/lib/python3.10/runpy.py\", line 86, in _run_code\r\n    exec(code, run_globals)\r\n  File \"/content/g-transformer/fairseq_cli/preprocess.py\", line 367, in <module>\r\n    cli_main()\r\n  File \"/content/g-transformer/fairseq_cli/preprocess.py\", line 363, in cli_main\r\n    main(args)\r\n  File \"/content/g-transformer/fairseq_cli/preprocess.py\", line 262, in main\r\n    make_all(args.source_lang, src_dict)\r\n  File \"/content/g-transformer/fairseq_cli/preprocess.py\", line 244, in make_all\r\n    make_dataset(vocab, args.trainpref, \"train\", lang, num_workers=args.workers)\r\n  File \"/content/g-transformer/fairseq_cli/preprocess.py\", line 240, in make_dataset\r\n    make_binary_dataset(vocab, input_prefix, output_prefix, lang, num_workers)\r\n  File \"/content/g-transformer/fairseq_cli/preprocess.py\", line 172, in make_binary_dataset\r\n    100 * sum(replaced.values()) / n_seq_tok[1],\r\nZeroDivisionError: division by zero\r\n"
      ]
     },
     "execution_count": null,
     "metadata": {},
     "output_type": "execute_result"
    }
   ],
   "source": [
    "%cd /content/g-transformer\n",
    "!bash exp_gtrans/prepare-finetune.sh g-transformer data"
   ]
  },
  {
   "cell_type": "markdown",
   "id": "8bd3f4b3",
   "metadata": {},
   "source": [
    "### Step 12"
   ]
  },
  {
   "cell_type": "markdown",
   "id": "f7611948",
   "metadata": {},
   "source": [
    "**Thought**: [pre-executed by user]"
   ]
  },
  {
   "cell_type": "markdown",
   "id": "1541f0bb",
   "metadata": {},
   "source": [
    "**Action (None)**:"
   ]
  },
  {
   "cell_type": "code",
   "execution_count": null,
   "id": "67e2e5b6",
   "metadata": {},
   "outputs": [
    {
     "data": {
      "text/plain": [
       ""
      ]
     },
     "execution_count": null,
     "metadata": {},
     "output_type": "execute_result"
    }
   ],
   "source": [
    "# The script runs but we need the data."
   ]
  },
  {
   "cell_type": "markdown",
   "id": "eac5a52a",
   "metadata": {},
   "source": [
    "### Step 13"
   ]
  },
  {
   "cell_type": "markdown",
   "id": "a386211a",
   "metadata": {},
   "source": [
    "**Thought**: [pre-executed by user]"
   ]
  },
  {
   "cell_type": "markdown",
   "id": "9cc85ac9",
   "metadata": {},
   "source": [
    "**Action (None)**:"
   ]
  },
  {
   "cell_type": "code",
   "execution_count": null,
   "id": "c94bc689",
   "metadata": {},
   "outputs": [
    {
     "data": {
      "text/plain": [
       ""
      ]
     },
     "execution_count": null,
     "metadata": {},
     "output_type": "execute_result"
    }
   ],
   "source": [
    "# ## Preparing data"
   ]
  },
  {
   "cell_type": "markdown",
   "id": "2cc29597",
   "metadata": {},
   "source": [
    "### Step 14"
   ]
  },
  {
   "cell_type": "markdown",
   "id": "c1e045cc",
   "metadata": {},
   "source": [
    "**Thought**: [pre-executed by user]"
   ]
  },
  {
   "cell_type": "markdown",
   "id": "43b57619",
   "metadata": {},
   "source": [
    "**Action (None)**:"
   ]
  },
  {
   "cell_type": "code",
   "execution_count": null,
   "id": "1c159843",
   "metadata": {},
   "outputs": [
    {
     "data": {
      "text/plain": [
       ""
      ]
     },
     "execution_count": null,
     "metadata": {},
     "output_type": "execute_result"
    }
   ],
   "source": [
    "# ### Download data"
   ]
  },
  {
   "cell_type": "markdown",
   "id": "2c387f5b",
   "metadata": {},
   "source": [
    "### Step 15"
   ]
  },
  {
   "cell_type": "markdown",
   "id": "f439a3a0",
   "metadata": {},
   "source": [
    "**Thought**: [pre-executed by user]"
   ]
  },
  {
   "cell_type": "markdown",
   "id": "039ff2b7",
   "metadata": {},
   "source": [
    "**Action (None)**:"
   ]
  },
  {
   "cell_type": "code",
   "execution_count": null,
   "id": "73ba3008",
   "metadata": {},
   "outputs": [
    {
     "data": {
      "text/plain": [
       "Requirement already satisfied: gdown in /usr/local/lib/python3.10/site-packages (5.1.0)\r\nCollecting gdown\r\n  Downloading gdown-5.2.0-py3-none-any.whl.metadata (5.8 kB)\r\nRequirement already satisfied: beautifulsoup4 in /usr/local/lib/python3.10/site-packages (from gdown) (4.12.3)\r\nRequirement already satisfied: filelock in /usr/local/lib/python3.10/site-packages (from gdown) (3.15.1)\r\nRequirement already satisfied: requests[socks] in /usr/local/lib/python3.10/site-packages (from gdown) (2.31.0)\r\nRequirement already satisfied: tqdm in /usr/local/lib/python3.10/site-packages (from gdown) (4.66.4)\r\nRequirement already satisfied: soupsieve>1.2 in /usr/local/lib/python3.10/site-packages (from beautifulsoup4->gdown) (2.5)\r\nRequirement already satisfied: charset-normalizer<4,>=2 in /usr/local/lib/python3.10/site-packages (from requests[socks]->gdown) (2.1.1)\r\nRequirement already satisfied: idna<4,>=2.5 in /usr/local/lib/python3.10/site-packages (from requests[socks]->gdown) (3.7)\r\nRequirement already satisfied: urllib3<3,>=1.21.1 in /usr/local/lib/python3.10/site-packages (from requests[socks]->gdown) (2.0.7)\r\nRequirement already satisfied: certifi>=2017.4.17 in /usr/local/lib/python3.10/site-packages (from requests[socks]->gdown) (2024.6.2)\r\nRequirement already satisfied: PySocks!=1.5.7,>=1.5.6 in /usr/local/lib/python3.10/site-packages (from requests[socks]->gdown) (1.7.1)\r\nDownloading gdown-5.2.0-py3-none-any.whl (18 kB)\r\nInstalling collected packages: gdown\r\n  Attempting uninstall: gdown\r\n    Found existing installation: gdown 5.1.0\r\n    Uninstalling gdown-5.1.0:\r\n      Successfully uninstalled gdown-5.1.0\r\nSuccessfully installed gdown-5.2.0\r\n\r\n\u001b[1m[\u001b[0m\u001b[34;49mnotice\u001b[0m\u001b[1;39;49m]\u001b[0m\u001b[39;49m A new release of pip is available: \u001b[0m\u001b[31;49m24.0\u001b[0m\u001b[39;49m -> \u001b[0m\u001b[32;49m24.2\u001b[0m\r\n\u001b[1m[\u001b[0m\u001b[34;49mnotice\u001b[0m\u001b[1;39;49m]\u001b[0m\u001b[39;49m To update, run: \u001b[0m\u001b[32;49mpip install --upgrade pip\u001b[0m\r\n"
      ]
     },
     "execution_count": null,
     "metadata": {},
     "output_type": "execute_result"
    }
   ],
   "source": [
    "!# use gdown to download files\n",
    "!pip install gdown --upgrade"
   ]
  },
  {
   "cell_type": "markdown",
   "id": "a1b47242",
   "metadata": {},
   "source": [
    "### Step 16"
   ]
  },
  {
   "cell_type": "markdown",
   "id": "4a07ce4b",
   "metadata": {},
   "source": [
    "**Thought**: [pre-executed by user]"
   ]
  },
  {
   "cell_type": "markdown",
   "id": "e5e49adf",
   "metadata": {},
   "source": [
    "**Action (None)**:"
   ]
  },
  {
   "cell_type": "code",
   "execution_count": null,
   "id": "a82ea67c",
   "metadata": {},
   "outputs": [
    {
     "data": {
      "text/plain": [
       "/usr/local/lib/python3.10/site-packages/IPython/core/magics/osm.py:417: UserWarning: This is now an optional IPython functionality, setting dhist requires you to install the `pickleshare` library.\n  self.shell.db['dhist'] = compress_dhist(dhist)[-100:]\nRetrieving folder contents\n/content/g-transformer/raw_data\nProcessing file 138-yMWU1fh7fnpikRPYLjN7SH6khVCqz de_dev.txt\nProcessing file 14hwJWO5J_2pDNmCRYuPvnzdthfy9AQRZ de_test.txt\nProcessing file 1fXu1u4Im2B0t_HNQNxSssdIh-fu1ezFt de_train.txt\nProcessing file 1vkLr8aM2xaPVjEVIbm4Yj5Tc73qs1jwR en_dev.txt\nProcessing file 1SwSf98ctYohXe-PRTQCBqJItip69TD2S en_test.txt\nProcessing file 12wTfUJ98St3IX9YIrKi52KZHifN_0jfA en_train.txt\nRetrieving folder contents completed\nBuilding directory structure\nBuilding directory structure completed\nDownloading...\nFrom: https://drive.google.com/uc?id=138-yMWU1fh7fnpikRPYLjN7SH6khVCqz\nTo: /content/g-transformer/raw_data/g-transformer/de_dev.txt\n\r  0%|          | 0.00/8.01k [00:00<?, ?B/s]\r100%|██████████| 8.01k/8.01k [00:00<00:00, 4.66MB/s]\nDownloading...\nFrom: https://drive.google.com/uc?id=14hwJWO5J_2pDNmCRYuPvnzdthfy9AQRZ\nTo: /content/g-transformer/raw_data/g-transformer/de_test.txt\n\r  0%|          | 0.00/8.96k [00:00<?, ?B/s]\r100%|██████████| 8.96k/8.96k [00:00<00:00, 5.47MB/s]\nDownloading...\nFrom: https://drive.google.com/uc?id=1fXu1u4Im2B0t_HNQNxSssdIh-fu1ezFt\nTo: /content/g-transformer/raw_data/g-transformer/de_train.txt\n\r  0%|          | 0.00/1.69k [00:00<?, ?B/s]\r100%|██████████| 1.69k/1.69k [00:00<00:00, 2.56MB/s]\nDownloading...\nFrom: https://drive.google.com/uc?id=1vkLr8aM2xaPVjEVIbm4Yj5Tc73qs1jwR\nTo: /content/g-transformer/raw_data/g-transformer/en_dev.txt\n\r  0%|          | 0.00/6.46k [00:00<?, ?B/s]\r100%|██████████| 6.46k/6.46k [00:00<00:00, 3.88MB/s]\nDownloading...\nFrom: https://drive.google.com/uc?id=1SwSf98ctYohXe-PRTQCBqJItip69TD2S\nTo: /content/g-transformer/raw_data/g-transformer/en_test.txt\n\r  0%|          | 0.00/7.65k [00:00<?, ?B/s]\r100%|██████████| 7.65k/7.65k [00:00<00:00, 5.34MB/s]\nDownloading...\nFrom: https://drive.google.com/uc?id=12wTfUJ98St3IX9YIrKi52KZHifN_0jfA\nTo: /content/g-transformer/raw_data/g-transformer/en_train.txt\n\r  0%|          | 0.00/1.51k [00:00<?, ?B/s]\r100%|██████████| 1.51k/1.51k [00:00<00:00, 820kB/s]\nDownload completed\n['/content/g-transformer/raw_data/g-transformer/de_dev.txt',\n '/content/g-transformer/raw_data/g-transformer/de_test.txt',\n '/content/g-transformer/raw_data/g-transformer/de_train.txt',\n '/content/g-transformer/raw_data/g-transformer/en_dev.txt',\n '/content/g-transformer/raw_data/g-transformer/en_test.txt',\n '/content/g-transformer/raw_data/g-transformer/en_train.txt']"
      ]
     },
     "execution_count": null,
     "metadata": {},
     "output_type": "execute_result"
    }
   ],
   "source": [
    "import gdown\n",
    "from pathlib import Path\n",
    "\n",
    "Path(\"/content/g-transformer/raw_data\").mkdir(exist_ok=True)\n",
    "\n",
    "%cd /content/g-transformer/raw_data\n",
    "gdown.download_folder(\"https://drive.google.com/drive/folders/1pmFy4R9cjgmIxi94qZbJVVza51rQpzNX\")"
   ]
  },
  {
   "cell_type": "markdown",
   "id": "88fe1ca0",
   "metadata": {},
   "source": [
    "### Step 17"
   ]
  },
  {
   "cell_type": "markdown",
   "id": "99ad436b",
   "metadata": {},
   "source": [
    "**Thought**: [pre-executed by user]"
   ]
  },
  {
   "cell_type": "markdown",
   "id": "76640414",
   "metadata": {},
   "source": [
    "**Action (None)**:"
   ]
  },
  {
   "cell_type": "code",
   "execution_count": null,
   "id": "568d301c",
   "metadata": {},
   "outputs": [
    {
     "data": {
      "text/plain": [
       ""
      ]
     },
     "execution_count": null,
     "metadata": {},
     "output_type": "execute_result"
    }
   ],
   "source": [
    "# ### Rename datasets\n",
    "# \n",
    "# Script `prepare-finetune.sh` expects a different datafile naming"
   ]
  },
  {
   "cell_type": "markdown",
   "id": "ef66ea99",
   "metadata": {},
   "source": [
    "### Step 18"
   ]
  },
  {
   "cell_type": "markdown",
   "id": "9a9880fe",
   "metadata": {},
   "source": [
    "**Thought**: [pre-executed by user]"
   ]
  },
  {
   "cell_type": "markdown",
   "id": "9b477b05",
   "metadata": {},
   "source": [
    "**Action (None)**:"
   ]
  },
  {
   "cell_type": "code",
   "execution_count": null,
   "id": "dc22d766",
   "metadata": {},
   "outputs": [
    {
     "data": {
      "text/plain": [
       "/content/g-transformer/raw_data/g-transformer\n/usr/local/lib/python3.10/site-packages/IPython/core/magics/osm.py:417: UserWarning: This is now an optional IPython functionality, setting dhist requires you to install the `pickleshare` library.\n  self.shell.db['dhist'] = compress_dhist(dhist)[-100:]\n"
      ]
     },
     "execution_count": null,
     "metadata": {},
     "output_type": "execute_result"
    }
   ],
   "source": [
    "%cd /content/g-transformer/raw_data/g-transformer\n",
    "!cp en_train.txt concatenated_en2de_train_en.txt\n",
    "!cp de_train.txt concatenated_en2de_train_de.txt\n",
    "!cp en_dev.txt concatenated_en2de_dev_en.txt\n",
    "!cp de_dev.txt concatenated_en2de_dev_de.txt\n",
    "!cp en_test.txt concatenated_en2de_test_en.txt\n",
    "!cp de_test.txt concatenated_en2de_test_de.txt"
   ]
  },
  {
   "cell_type": "markdown",
   "id": "da50db79",
   "metadata": {},
   "source": [
    "### Step 19"
   ]
  },
  {
   "cell_type": "markdown",
   "id": "7d2c0b45",
   "metadata": {},
   "source": [
    "**Thought**: [pre-executed by user]"
   ]
  },
  {
   "cell_type": "markdown",
   "id": "8f4f240a",
   "metadata": {},
   "source": [
    "**Action (None)**:"
   ]
  },
  {
   "cell_type": "code",
   "execution_count": null,
   "id": "b95828e6",
   "metadata": {},
   "outputs": [
    {
     "data": {
      "text/plain": [
       "/content/g-transformer\n/usr/local/lib/python3.10/site-packages/IPython/core/magics/osm.py:417: UserWarning: This is now an optional IPython functionality, setting dhist requires you to install the `pickleshare` library.\n  self.shell.db['dhist'] = compress_dhist(dhist)[-100:]\nThu Aug 22 04:51:10 UTC 2024, exp_path: data, data: g-transformer, input: doc, code: bpe, slang: en, tlang: de\r\nThu Aug 22 04:51:10 UTC 2024, Prepraring data...\r\nmosesdecoder already exists, skipping download\r\nsubword-nmt already exists, skipping download\r\nfilter out empty lines from original data and split doc with empty line...\r\ndata/g-transformer.tokenized.en-de/tmp/train.en-de.tag\r\nTokenizer Version 1.1\r\nLanguage: en\r\nNumber of threads: 8\r\nTokenizer Version 1.1\r\nLanguage: de\r\nNumber of threads: 8\r\ndata/g-transformer.tokenized.en-de/tmp/valid.en-de.tag\r\nTokenizer Version 1.1\r\nLanguage: en\r\nNumber of threads: 8\r\nTokenizer Version 1.1\r\nLanguage: de\r\nNumber of threads: 8\r\ndata/g-transformer.tokenized.en-de/tmp/test.en-de.tag\r\nTokenizer Version 1.1\r\nLanguage: en\r\nNumber of threads: 8\r\nTokenizer Version 1.1\r\nLanguage: de\r\nNumber of threads: 8\r\ntruecase the train/valid/test data...\r\ndata/g-transformer.tokenized.en-de/tmp/truecase.en.mdl\r\ndata/g-transformer.tokenized.en-de/tmp/truecase.de.mdl\r\ndata/g-transformer.tokenized.en-de/tmp/train.en.tc\r\ndata/g-transformer.tokenized.en-de/tmp/train.de.tc\r\ndata/g-transformer.tokenized.en-de/tmp/valid.en.tc\r\ndata/g-transformer.tokenized.en-de/tmp/valid.de.tc\r\ndata/g-transformer.tokenized.en-de/tmp/test.en.tc\r\ndata/g-transformer.tokenized.en-de/tmp/test.de.tc\r\nlearn_bpe.py on ...\r\n\r  0%|                                                 | 0/30000 [00:00<?, ?it/s]no pair has frequency >= 2. Stopping\r\n\r  1%|4                                    | 330/30000 [00:00<00:07, 3944.33it/s]\r\napply_bpe.py to train.en...\r\napply_bpe.py to valid.en...\r\napply_bpe.py to test.en...\r\napply_bpe.py to train.de...\r\napply_bpe.py to valid.de...\r\napply_bpe.py to test.de...\r\napply doc-level special tags...\r\n[2024-08-22 04:51:16,556 INFO] Building segmented data: Namespace(corpuses='test,valid,train', source_lang='en', target_lang='de', datadir='data/g-transformer.tokenized.en-de', destdir='data/g-transformer-sent.segmented.en-de/', max_sents=1, max_tokens=512, min_train_doclen=-1, no_special_tok=False, tempdir='data/g-transformer-sent.segmented.en-de/tmp')\r\n[2024-08-22 04:51:16,560 INFO] Processed 2 documents of test with a max_len of 512.\r\n[2024-08-22 04:51:16,561 INFO] Saved 72 lines into data/g-transformer-sent.segmented.en-de/test.en\r\n[2024-08-22 04:51:16,562 INFO] Saved 72 lines into data/g-transformer-sent.segmented.en-de/test.de\r\n[2024-08-22 04:51:16,564 INFO] Processed 4 documents of valid with a max_len of 512.\r\n[2024-08-22 04:51:16,565 INFO] Saved 47 lines into data/g-transformer-sent.segmented.en-de/valid.en\r\n[2024-08-22 04:51:16,566 INFO] Saved 47 lines into data/g-transformer-sent.segmented.en-de/valid.de\r\n[2024-08-22 04:51:16,566 INFO] Processed 2 documents of train with a max_len of 512.\r\n[2024-08-22 04:51:16,567 INFO] Saved 14 lines into data/g-transformer-sent.segmented.en-de/train.en\r\n[2024-08-22 04:51:16,567 INFO] Saved 14 lines into data/g-transformer-sent.segmented.en-de/train.de\r\n[2024-08-22 04:51:16,964 INFO] Building segmented data: Namespace(corpuses='test,valid,train', source_lang='en', target_lang='de', datadir='data/g-transformer.tokenized.en-de', destdir='data/g-transformer-doc.segmented.en-de/', max_sents=1000, max_tokens=512, min_train_doclen=-1, no_special_tok=False, tempdir='data/g-transformer-doc.segmented.en-de/tmp')\r\n[2024-08-22 04:51:16,966 INFO] Processed 2 documents of test with a max_len of 512.\r\n[2024-08-22 04:51:16,967 INFO] Saved 11 lines into data/g-transformer-doc.segmented.en-de/test.en\r\n[2024-08-22 04:51:16,967 INFO] Saved 11 lines into data/g-transformer-doc.segmented.en-de/test.de\r\n[2024-08-22 04:51:16,969 INFO] Processed 4 documents of valid with a max_len of 512.\r\n[2024-08-22 04:51:16,969 INFO] Saved 11 lines into data/g-transformer-doc.segmented.en-de/valid.en\r\n[2024-08-22 04:51:16,970 INFO] Saved 11 lines into data/g-transformer-doc.segmented.en-de/valid.de\r\n[2024-08-22 04:51:16,970 INFO] Processed 2 documents of train with a max_len of 512.\r\n[2024-08-22 04:51:16,971 INFO] Saved 2 lines into data/g-transformer-doc.segmented.en-de/train.en\r\n[2024-08-22 04:51:16,971 INFO] Saved 2 lines into data/g-transformer-doc.segmented.en-de/train.de\r\n2024-08-22 04:51:21 | INFO | fairseq_cli.preprocess | Namespace(no_progress_bar=False, log_interval=100, log_format=None, tensorboard_logdir='', seed=1, cpu=False, tpu=False, bf16=False, fp16=False, memory_efficient_bf16=False, memory_efficient_fp16=False, fp16_no_flatten_grads=False, fp16_init_scale=128, fp16_scale_window=None, fp16_scale_tolerance=0.0, min_loss_scale=0.0001, threshold_loss_scale=None, user_dir=None, empty_cache_freq=0, all_gather_list_size=16384, model_parallel_size=1, checkpoint_suffix='', quantization_config_path=None, profile=False, criterion='cross_entropy', tokenizer=None, bpe=None, optimizer='nag', lr_scheduler='fixed', task='translation_doc', source_lang='en', target_lang='de', trainpref='data/g-transformer-sent.segmented.en-de/train', validpref='data/g-transformer-sent.segmented.en-de/valid', testpref='data/g-transformer-sent.segmented.en-de/test', align_suffix=None, destdir='data/g-transformer-sent.binarized.en-de', thresholdtgt=0, thresholdsrc=0, tgtdict=None, srcdict=None, nwordstgt=-1, nwordssrc=-1, alignfile=None, dataset_impl='mmap', joined_dictionary=True, only_source=False, padding_factor=8, workers=8)\r\n2024-08-22 04:51:23 | INFO | fairseq_cli.preprocess | [en] Dictionary: 320 types\r\n2024-08-22 04:51:23 | INFO | fairseq_cli.preprocess | [en] data/g-transformer-sent.segmented.en-de/train.en: 14 sents, 524 tokens, 0.0% replaced by <unk>\r\n2024-08-22 04:51:24 | INFO | fairseq_cli.preprocess | [en] Dictionary: 320 types\r\n2024-08-22 04:51:24 | INFO | fairseq_cli.preprocess | [en] data/g-transformer-sent.segmented.en-de/valid.en: 47 sents, 3421 tokens, 3.83% replaced by <unk>\r\n2024-08-22 04:51:24 | INFO | fairseq_cli.preprocess | [en] Dictionary: 320 types\r\n2024-08-22 04:51:24 | INFO | fairseq_cli.preprocess | [en] data/g-transformer-sent.segmented.en-de/test.en: 72 sents, 4296 tokens, 6.45% replaced by <unk>\r\n2024-08-22 04:51:24 | INFO | fairseq_cli.preprocess | [de] Dictionary: 320 types\r\n2024-08-22 04:51:25 | INFO | fairseq_cli.preprocess | [de] data/g-transformer-sent.segmented.en-de/train.de: 14 sents, 601 tokens, 0.0% replaced by <unk>\r\n2024-08-22 04:51:25 | INFO | fairseq_cli.preprocess | [de] Dictionary: 320 types\r\n2024-08-22 04:51:25 | INFO | fairseq_cli.preprocess | [de] data/g-transformer-sent.segmented.en-de/valid.de: 47 sents, 4082 tokens, 5.1% replaced by <unk>\r\n2024-08-22 04:51:25 | INFO | fairseq_cli.preprocess | [de] Dictionary: 320 types\r\n2024-08-22 04:51:25 | INFO | fairseq_cli.preprocess | [de] data/g-transformer-sent.segmented.en-de/test.de: 72 sents, 4857 tokens, 6.11% replaced by <unk>\r\n2024-08-22 04:51:25 | INFO | fairseq_cli.preprocess | Wrote preprocessed data to data/g-transformer-sent.binarized.en-de\r\n2024-08-22 04:51:31 | INFO | fairseq_cli.preprocess | Namespace(no_progress_bar=False, log_interval=100, log_format=None, tensorboard_logdir='', seed=1, cpu=False, tpu=False, bf16=False, fp16=False, memory_efficient_bf16=False, memory_efficient_fp16=False, fp16_no_flatten_grads=False, fp16_init_scale=128, fp16_scale_window=None, fp16_scale_tolerance=0.0, min_loss_scale=0.0001, threshold_loss_scale=None, user_dir=None, empty_cache_freq=0, all_gather_list_size=16384, model_parallel_size=1, checkpoint_suffix='', quantization_config_path=None, profile=False, criterion='cross_entropy', tokenizer=None, bpe=None, optimizer='nag', lr_scheduler='fixed', task='translation_doc', source_lang='en', target_lang='de', trainpref='data/g-transformer-doc.segmented.en-de/train', validpref='data/g-transformer-doc.segmented.en-de/valid', testpref='data/g-transformer-doc.segmented.en-de/test', align_suffix=None, destdir='data/g-transformer-doc.binarized.en-de', thresholdtgt=0, thresholdsrc=0, tgtdict='data/g-transformer-sent.binarized.en-de/dict.en.txt', srcdict='data/g-transformer-sent.binarized.en-de/dict.en.txt', nwordstgt=-1, nwordssrc=-1, alignfile=None, dataset_impl='mmap', joined_dictionary=False, only_source=False, padding_factor=8, workers=8)\r\n2024-08-22 04:51:31 | INFO | fairseq_cli.preprocess | [en] Dictionary: 320 types\r\n2024-08-22 04:51:32 | INFO | fairseq_cli.preprocess | [en] data/g-transformer-doc.segmented.en-de/train.en: 2 sents, 524 tokens, 0.0% replaced by <unk>\r\n2024-08-22 04:51:32 | INFO | fairseq_cli.preprocess | [en] Dictionary: 320 types\r\n2024-08-22 04:51:32 | INFO | fairseq_cli.preprocess | [en] data/g-transformer-doc.segmented.en-de/valid.en: 11 sents, 3421 tokens, 3.83% replaced by <unk>\r\n2024-08-22 04:51:32 | INFO | fairseq_cli.preprocess | [en] Dictionary: 320 types\r\n2024-08-22 04:51:32 | INFO | fairseq_cli.preprocess | [en] data/g-transformer-doc.segmented.en-de/test.en: 11 sents, 4296 tokens, 6.45% replaced by <unk>\r\n2024-08-22 04:51:32 | INFO | fairseq_cli.preprocess | [de] Dictionary: 320 types\r\n2024-08-22 04:51:33 | INFO | fairseq_cli.preprocess | [de] data/g-transformer-doc.segmented.en-de/train.de: 2 sents, 601 tokens, 0.0% replaced by <unk>\r\n2024-08-22 04:51:33 | INFO | fairseq_cli.preprocess | [de] Dictionary: 320 types\r\n2024-08-22 04:51:33 | INFO | fairseq_cli.preprocess | [de] data/g-transformer-doc.segmented.en-de/valid.de: 11 sents, 4082 tokens, 5.1% replaced by <unk>\r\n2024-08-22 04:51:33 | INFO | fairseq_cli.preprocess | [de] Dictionary: 320 types\r\n2024-08-22 04:51:33 | INFO | fairseq_cli.preprocess | [de] data/g-transformer-doc.segmented.en-de/test.de: 11 sents, 4857 tokens, 6.11% replaced by <unk>\r\n2024-08-22 04:51:33 | INFO | fairseq_cli.preprocess | Wrote preprocessed data to data/g-transformer-doc.binarized.en-de\r\n"
      ]
     },
     "execution_count": null,
     "metadata": {},
     "output_type": "execute_result"
    }
   ],
   "source": [
    "%cd /content/g-transformer\n",
    "!rm -r data/g-*  # remove previously generated files and directories\n",
    "!bash exp_gtrans/prepare-finetune.sh g-transformer data"
   ]
  },
  {
   "cell_type": "markdown",
   "id": "7d08ac31",
   "metadata": {},
   "source": [
    "### Step 20"
   ]
  },
  {
   "cell_type": "markdown",
   "id": "02b705b1",
   "metadata": {},
   "source": [
    "**Thought**: [pre-executed by user]"
   ]
  },
  {
   "cell_type": "markdown",
   "id": "188ed12a",
   "metadata": {},
   "source": [
    "**Action (None)**:"
   ]
  },
  {
   "cell_type": "code",
   "execution_count": null,
   "id": "14765fd0",
   "metadata": {},
   "outputs": [
    {
     "data": {
      "text/plain": [
       ""
      ]
     },
     "execution_count": null,
     "metadata": {},
     "output_type": "execute_result"
    }
   ],
   "source": [
    "# ### Run finetune"
   ]
  },
  {
   "cell_type": "markdown",
   "id": "a0963830",
   "metadata": {},
   "source": [
    "### Step 21"
   ]
  },
  {
   "cell_type": "markdown",
   "id": "ecffb0c0",
   "metadata": {},
   "source": [
    "**Thought**: [pre-executed by user]"
   ]
  },
  {
   "cell_type": "markdown",
   "id": "2f821b5e",
   "metadata": {},
   "source": [
    "**Action (None)**:"
   ]
  },
  {
   "cell_type": "code",
   "execution_count": null,
   "id": "7b4345b7",
   "metadata": {},
   "outputs": [
    {
     "data": {
      "text/plain": [
       ""
      ]
     },
     "execution_count": null,
     "metadata": {},
     "output_type": "execute_result"
    }
   ],
   "source": [
    "# First attempt to train data using the default model"
   ]
  },
  {
   "cell_type": "markdown",
   "id": "9a043831",
   "metadata": {},
   "source": [
    "### Step 22"
   ]
  },
  {
   "cell_type": "markdown",
   "id": "b15aa4ee",
   "metadata": {},
   "source": [
    "**Thought**: [pre-executed by user]"
   ]
  },
  {
   "cell_type": "markdown",
   "id": "bc972f4d",
   "metadata": {},
   "source": [
    "**Action (None)**:"
   ]
  },
  {
   "cell_type": "code",
   "execution_count": null,
   "id": "7e77ab17",
   "metadata": {},
   "outputs": [
    {
     "data": {
      "text/plain": [
       "/content/g-transformer\n/usr/local/lib/python3.10/site-packages/IPython/core/magics/osm.py:417: UserWarning: This is now an optional IPython functionality, setting dhist requires you to install the `pickleshare` library.\n  self.shell.db['dhist'] = compress_dhist(dhist)[-100:]\nThu Aug 22 04:51:35 UTC 2024, data: g-transformer, mode: train, exp_path: data, slang: en, tlang: de\r\nThu Aug 22 04:51:35 UTC 2024, run path: data/run-finetune\r\nThu Aug 22 04:51:35 UTC 2024, Training sentence-level model...\r\nThu Aug 22 04:51:44 UTC 2024, Training document-level model...\r\nLoad sentence model from data/run-finetune/g-transformer-sent.checkpoints.en-de/checkpoint_best.pt\r\nThu Aug 22 04:51:44 UTC 2024, Training model...\r\n"
      ]
     },
     "execution_count": null,
     "metadata": {},
     "output_type": "execute_result"
    }
   ],
   "source": [
    "%cd /content/g-transformer\n",
    "!bash exp_gtrans/run-finetune.sh g-transformer train data"
   ]
  },
  {
   "cell_type": "markdown",
   "id": "ece40d27",
   "metadata": {},
   "source": [
    "### Step 23"
   ]
  },
  {
   "cell_type": "markdown",
   "id": "4f708ed5",
   "metadata": {},
   "source": [
    "**Thought**: [pre-executed by user]"
   ]
  },
  {
   "cell_type": "markdown",
   "id": "8d276b72",
   "metadata": {},
   "source": [
    "**Action (None)**:"
   ]
  },
  {
   "cell_type": "code",
   "execution_count": null,
   "id": "2046e3f4",
   "metadata": {},
   "outputs": [
    {
     "data": {
      "text/plain": [
       ""
      ]
     },
     "execution_count": null,
     "metadata": {},
     "output_type": "execute_result"
    }
   ],
   "source": [
    "# No errors are shown in the standard output, but a log file is created. There, the following error can be seen"
   ]
  },
  {
   "cell_type": "markdown",
   "id": "31005865",
   "metadata": {},
   "source": [
    "### Step 24"
   ]
  },
  {
   "cell_type": "markdown",
   "id": "7d3c969b",
   "metadata": {},
   "source": [
    "**Thought**: [pre-executed by user]"
   ]
  },
  {
   "cell_type": "markdown",
   "id": "905238e6",
   "metadata": {},
   "source": [
    "**Action (None)**:"
   ]
  },
  {
   "cell_type": "code",
   "execution_count": null,
   "id": "92123b2d",
   "metadata": {},
   "outputs": [
    {
     "data": {
      "text/plain": [
       "  File \"/content/g-transformer/fairseq/criterions/label_smoothed_cross_entropy.py\", line 72, in compute_loss\r\n    target = model.get_targets(sample, net_output).view(-1, 1)\r\nRuntimeError: view size is not compatible with input tensor's size and stride (at least one dimension spans across two contiguous subspaces). Use .reshape(...) instead.\r\n"
      ]
     },
     "execution_count": null,
     "metadata": {},
     "output_type": "execute_result"
    }
   ],
   "source": [
    "!tail -3 data/run-finetune/train.g-transformer-doc.en-de.log"
   ]
  },
  {
   "cell_type": "markdown",
   "id": "2568eba9",
   "metadata": {},
   "source": [
    "### Step 25"
   ]
  },
  {
   "cell_type": "markdown",
   "id": "8ccf8300",
   "metadata": {},
   "source": [
    "**Thought**: [pre-executed by user]"
   ]
  },
  {
   "cell_type": "markdown",
   "id": "f7ccc1cd",
   "metadata": {},
   "source": [
    "**Action (None)**:"
   ]
  },
  {
   "cell_type": "code",
   "execution_count": null,
   "id": "f03cde80",
   "metadata": {},
   "outputs": [
    {
     "data": {
      "text/plain": [
       ""
      ]
     },
     "execution_count": null,
     "metadata": {},
     "output_type": "execute_result"
    }
   ],
   "source": [
    "# Use the suggestion given by the traceback"
   ]
  },
  {
   "cell_type": "markdown",
   "id": "1d058417",
   "metadata": {},
   "source": [
    "### Step 26"
   ]
  },
  {
   "cell_type": "markdown",
   "id": "9df0b55e",
   "metadata": {},
   "source": [
    "**Thought**: EXECUTED BY USER"
   ]
  },
  {
   "cell_type": "markdown",
   "id": "f41740a2",
   "metadata": {},
   "source": [
    "**Action (None)**:"
   ]
  },
  {
   "cell_type": "code",
   "execution_count": null,
   "id": "4ee15463",
   "metadata": {},
   "outputs": [
    {
     "data": {
      "text/plain": [
       "Edit was successful. Here's the relevant content *after edit* for your inspection (you should check indentation is correct):\n            'ntokens': sample['ntokens'],\n            'nsentences': sample['target'].size(0),\n            'sample_size': sample_size,\n        }\n        logging_output.update(net_output[1]['attn'])\n        return loss, sample_size, logging_output\n\n    def compute_loss(self, model, net_output, sample, reduce=True):\n        lprobs = model.get_normalized_probs(net_output, log_probs=True)\n        lprobs = lprobs.view(-1, lprobs.size(-1))\n        target = model.get_targets(sample, net_output).reshape(-1, 1)\n        loss, nll_loss = label_smoothed_nll_loss(\n            lprobs, target, self.eps, ignore_index=self.padding_idx, reduce=reduce,\n        )\n        return loss, nll_loss\n\n    @staticmethod\n    def reduce_metrics(logging_outputs) -> None:\n        \"\"\"Aggregate logging outputs from data parallel training.\"\"\""
      ]
     },
     "execution_count": null,
     "metadata": {},
     "output_type": "execute_result"
    }
   ],
   "source": [
    "EDITING `/content/g-transformer/fairseq/criterions/label_smoothed_cross_entropy.py. CHANGING:\n",
    "\n",
    "\n",
    "    def compute_loss(self, model, net_output, sample, reduce=True):\n",
    "        lprobs = model.get_normalized_probs(net_output, log_probs=True)\n",
    "        lprobs = lprobs.view(-1, lprobs.size(-1))\n",
    "        target = model.get_targets(sample, net_output).view(-1, 1)\n",
    "        loss, nll_loss = label_smoothed_nll_loss(\n",
    "            lprobs, target, self.eps, ignore_index=self.padding_idx, reduce=reduce,\n",
    "\n",
    "\n",
    "TO:\n",
    "\n",
    "\n",
    "    def compute_loss(self, model, net_output, sample, reduce=True):\n",
    "        lprobs = model.get_normalized_probs(net_output, log_probs=True)\n",
    "        lprobs = lprobs.view(-1, lprobs.size(-1))\n",
    "        target = model.get_targets(sample, net_output).reshape(-1, 1)\n",
    "        loss, nll_loss = label_smoothed_nll_loss(\n",
    "            lprobs, target, self.eps, ignore_index=self.padding_idx, reduce=reduce,\n"
   ]
  },
  {
   "cell_type": "markdown",
   "id": "3e9ad826",
   "metadata": {},
   "source": [
    "### Step 27"
   ]
  },
  {
   "cell_type": "markdown",
   "id": "94218755",
   "metadata": {},
   "source": [
    "**Thought**: [pre-executed by user]"
   ]
  },
  {
   "cell_type": "markdown",
   "id": "32bb8c8a",
   "metadata": {},
   "source": [
    "**Action (None)**:"
   ]
  },
  {
   "cell_type": "code",
   "execution_count": null,
   "id": "b6a17484",
   "metadata": {},
   "outputs": [
    {
     "data": {
      "text/plain": [
       ""
      ]
     },
     "execution_count": null,
     "metadata": {},
     "output_type": "execute_result"
    }
   ],
   "source": [
    "# Also, patch finetune script to avoid ussing Half floats (remove `--fp16` argument) and train only one epoch (add `--max-epoch 1`)."
   ]
  },
  {
   "cell_type": "markdown",
   "id": "04f95bcc",
   "metadata": {},
   "source": [
    "### Step 28"
   ]
  },
  {
   "cell_type": "markdown",
   "id": "a8336be4",
   "metadata": {},
   "source": [
    "**Thought**: EXECUTED BY USER"
   ]
  },
  {
   "cell_type": "markdown",
   "id": "1136e2e8",
   "metadata": {},
   "source": [
    "**Action (None)**:"
   ]
  },
  {
   "cell_type": "code",
   "execution_count": null,
   "id": "ea296eab",
   "metadata": {},
   "outputs": [
    {
     "data": {
      "text/plain": [
       "Edit was successful. Here's the relevant content *after edit* for your inspection (you should check indentation is correct):\necho `date`, run path: $run_path\n\ncp_path_sent=$run_path/$data-sent.checkpoints.$slang-$tlang\ncp_path_doc=$run_path/$data-doc.checkpoints.$slang-$tlang\nres_path=$run_path/$data.results.$slang-$tlang\ndoc_langs=$slang,$tlang\n\nif [ $mode == \"train\" ]; then\n  echo `date`, Training sentence-level model...\n  doc_langs=$slang,$tlang\n  python train.py $bin_path_sent --save-dir $cp_path_sent --tensorboard-logdir $cp_path_sent --seed 444 --max-epoch 1 --num-workers 4 \\\n         --task translation_doc --source-lang $slang --target-lang $tlang --langs $doc_langs \\\n         --arch gtransformer_base --doc-mode full --share-all-embeddings \\\n         --optimizer adam --adam-betas \"(0.9, 0.98)\" --lr 5e-4 --lr-scheduler inverse_sqrt --warmup-updates 4000 \\\n         --criterion label_smoothed_cross_entropy --label-smoothing 0.1 --no-epoch-checkpoints \\\n         --max-tokens 4096 --update-freq 1 --validate-interval 1 --patience 10 \\\n         > $run_path/train.$data-sent.$slang-$tlang.log 2>&1\n\n  echo `date`, Training document-level model..."
      ]
     },
     "execution_count": null,
     "metadata": {},
     "output_type": "execute_result"
    }
   ],
   "source": [
    "EDITING `/content/g-transformer/exp_gtrans/run-finetune.sh. CHANGING:\n",
    "\n",
    "\n",
    "if [ $mode == \"train\" ]; then\n",
    "  echo `date`, Training sentence-level model...\n",
    "  doc_langs=$slang,$tlang\n",
    "  python train.py $bin_path_sent --save-dir $cp_path_sent --tensorboard-logdir $cp_path_sent --seed 444 --fp16 --num-workers 4 \\\n",
    "         --task translation_doc --source-lang $slang --target-lang $tlang --langs $doc_langs \\\n",
    "         --arch gtransformer_base --doc-mode full --share-all-embeddings \\\n",
    "\n",
    "\n",
    "TO:\n",
    "\n",
    "\n",
    "if [ $mode == \"train\" ]; then\n",
    "  echo `date`, Training sentence-level model...\n",
    "  doc_langs=$slang,$tlang\n",
    "  python train.py $bin_path_sent --save-dir $cp_path_sent --tensorboard-logdir $cp_path_sent --seed 444 --max-epoch 1 --num-workers 4 \\\n",
    "         --task translation_doc --source-lang $slang --target-lang $tlang --langs $doc_langs \\\n",
    "         --arch gtransformer_base --doc-mode full --share-all-embeddings \\\n"
   ]
  },
  {
   "cell_type": "markdown",
   "id": "47714a71",
   "metadata": {},
   "source": [
    "### Step 29"
   ]
  },
  {
   "cell_type": "markdown",
   "id": "ee5f2c67",
   "metadata": {},
   "source": [
    "**Thought**: EXECUTED BY USER"
   ]
  },
  {
   "cell_type": "markdown",
   "id": "1d8a7477",
   "metadata": {},
   "source": [
    "**Action (None)**:"
   ]
  },
  {
   "cell_type": "code",
   "execution_count": null,
   "id": "55ff7f51",
   "metadata": {},
   "outputs": [
    {
     "data": {
      "text/plain": [
       "Edit was successful. Here's the relevant content *after edit* for your inspection (you should check indentation is correct):\n         --arch gtransformer_base --doc-mode full --share-all-embeddings \\\n         --optimizer adam --adam-betas \"(0.9, 0.98)\" --lr 5e-4 --lr-scheduler inverse_sqrt --warmup-updates 4000 \\\n         --criterion label_smoothed_cross_entropy --label-smoothing 0.1 --no-epoch-checkpoints \\\n         --max-tokens 4096 --update-freq 1 --validate-interval 1 --patience 10 \\\n         > $run_path/train.$data-sent.$slang-$tlang.log 2>&1\n\n  echo `date`, Training document-level model...\n  sent_model=$cp_path_sent/checkpoint_best.pt\n  echo Load sentence model from $sent_model\n  echo `date`, Training model...\n  python train.py $bin_path_doc --save-dir $cp_path_doc --tensorboard-logdir $cp_path_doc --seed 444  --max-epoch 1 --num-workers 4 \\\n         --task translation_doc --source-lang $slang --target-lang $tlang --langs $doc_langs \\\n         --arch gtransformer_base --doc-mode partial --share-all-embeddings \\\n         --optimizer adam --adam-betas \"(0.9, 0.98)\" \\\n         --lr-scheduler inverse_sqrt --lr 5e-04 --warmup-updates 4000 \\\n         --criterion label_smoothed_cross_entropy --label-smoothing 0.1 --no-epoch-checkpoints \\\n         --max-tokens 4096 --update-freq 1 --validate-interval 1 --patience 10 \\\n         --restore-file $sent_model --reset-optimizer --reset-meters --reset-dataloader --reset-lr-scheduler \\\n         --load-partial --doc-double-lr --lr-scale-pretrained 0.2 \\"
      ]
     },
     "execution_count": null,
     "metadata": {},
     "output_type": "execute_result"
    }
   ],
   "source": [
    "EDITING `/content/g-transformer/exp_gtrans/run-finetune.sh. CHANGING:\n",
    "\n",
    "\n",
    "  sent_model=$cp_path_sent/checkpoint_best.pt\n",
    "  echo Load sentence model from $sent_model\n",
    "  echo `date`, Training model...\n",
    "  python train.py $bin_path_doc --save-dir $cp_path_doc --tensorboard-logdir $cp_path_doc --seed 444 --num-workers 4 \\\n",
    "         --task translation_doc --source-lang $slang --target-lang $tlang --langs $doc_langs \\\n",
    "         --arch gtransformer_base --doc-mode partial --share-all-embeddings \\\n",
    "\n",
    "\n",
    "TO:\n",
    "\n",
    "\n",
    "  sent_model=$cp_path_sent/checkpoint_best.pt\n",
    "  echo Load sentence model from $sent_model\n",
    "  echo `date`, Training model...\n",
    "  python train.py $bin_path_doc --save-dir $cp_path_doc --tensorboard-logdir $cp_path_doc --seed 444  --max-epoch 1 --num-workers 4 \\\n",
    "         --task translation_doc --source-lang $slang --target-lang $tlang --langs $doc_langs \\\n",
    "         --arch gtransformer_base --doc-mode partial --share-all-embeddings \\\n"
   ]
  },
  {
   "cell_type": "markdown",
   "id": "f56ef142",
   "metadata": {},
   "source": [
    "### Step 30"
   ]
  },
  {
   "cell_type": "markdown",
   "id": "b5b1aa63",
   "metadata": {},
   "source": [
    "Execution Start time: 04:52:10, End time: 04:52:12 (duration: 1 seconds)"
   ]
  },
  {
   "cell_type": "markdown",
   "id": "c7537bd8",
   "metadata": {},
   "source": [
    "**Thought**: [pre-executed by user]\n",
    "\n"
   ]
  },
  {
   "cell_type": "markdown",
   "id": "6f3d89a5",
   "metadata": {},
   "source": [
    "**Action (None)**:"
   ]
  },
  {
   "cell_type": "code",
   "execution_count": null,
   "id": "3aef91a9",
   "metadata": {},
   "outputs": [
    {
     "data": {
      "text/plain": [
       ""
      ]
     },
     "execution_count": null,
     "metadata": {},
     "output_type": "execute_result"
    }
   ],
   "source": [
    "# Run finetune again"
   ]
  },
  {
   "cell_type": "markdown",
   "id": "14520cee",
   "metadata": {},
   "source": [
    "### Step 31"
   ]
  },
  {
   "cell_type": "markdown",
   "id": "b4c250de",
   "metadata": {},
   "source": [
    "Execution Start time: 04:52:14, End time: 04:53:02 (duration: 48 seconds)"
   ]
  },
  {
   "cell_type": "markdown",
   "id": "690bf09d",
   "metadata": {},
   "source": [
    "**Thought**: [pre-executed by user]\n",
    "\n"
   ]
  },
  {
   "cell_type": "markdown",
   "id": "b11af98f",
   "metadata": {},
   "source": [
    "**Action (None)**:"
   ]
  },
  {
   "cell_type": "code",
   "execution_count": null,
   "id": "6ac0fb1c",
   "metadata": {},
   "outputs": [
    {
     "data": {
      "text/plain": [
       "Thu Aug 22 04:52:14 UTC 2024, data: g-transformer, mode: train, exp_path: data, slang: en, tlang: de\nThu Aug 22 04:52:14 UTC 2024, run path: data/run-finetune\nThu Aug 22 04:52:14 UTC 2024, Training sentence-level model...\nThu Aug 22 04:52:36 UTC 2024, Training document-level model...\nLoad sentence model from data/run-finetune/g-transformer-sent.checkpoints.en-de/checkpoint_best.pt\nThu Aug 22 04:52:36 UTC 2024, Training model...\n"
      ]
     },
     "execution_count": null,
     "metadata": {},
     "output_type": "execute_result"
    }
   ],
   "source": [
    "!bash exp_gtrans/run-finetune.sh g-transformer train data"
   ]
  },
  {
   "cell_type": "markdown",
   "id": "d8c681e4",
   "metadata": {},
   "source": [
    "### Step 32"
   ]
  },
  {
   "cell_type": "markdown",
   "id": "4cbec6f5",
   "metadata": {},
   "source": [
    "Execution Start time: 04:53:03, End time: 04:53:03 (duration: 0 seconds)"
   ]
  },
  {
   "cell_type": "markdown",
   "id": "1ab10d9a",
   "metadata": {},
   "source": [
    "**Thought**: [pre-executed by user]\n",
    "\n"
   ]
  },
  {
   "cell_type": "markdown",
   "id": "df5c4251",
   "metadata": {},
   "source": [
    "**Action (None)**:"
   ]
  },
  {
   "cell_type": "code",
   "execution_count": null,
   "id": "d37e17ad",
   "metadata": {},
   "outputs": [
    {
     "data": {
      "text/plain": [
       ""
      ]
     },
     "execution_count": null,
     "metadata": {},
     "output_type": "execute_result"
    }
   ],
   "source": [
    "# ### Evaluate model"
   ]
  },
  {
   "cell_type": "markdown",
   "id": "6f3a11c8",
   "metadata": {},
   "source": [
    "### Step 33"
   ]
  },
  {
   "cell_type": "markdown",
   "id": "d805cd4b",
   "metadata": {},
   "source": [
    "Execution Start time: 04:53:04, End time: 04:53:04 (duration: 0 seconds)"
   ]
  },
  {
   "cell_type": "markdown",
   "id": "6ddea04f",
   "metadata": {},
   "source": [
    "**Thought**: [pre-executed by user]\n",
    "\n"
   ]
  },
  {
   "cell_type": "markdown",
   "id": "ae6ea519",
   "metadata": {},
   "source": [
    "**Action (None)**:"
   ]
  },
  {
   "cell_type": "code",
   "execution_count": null,
   "id": "47c2f6dd",
   "metadata": {},
   "outputs": [
    {
     "data": {
      "text/plain": [
       ""
      ]
     },
     "execution_count": null,
     "metadata": {},
     "output_type": "execute_result"
    }
   ],
   "source": [
    "# First attempt to evaluate model"
   ]
  },
  {
   "cell_type": "markdown",
   "id": "804ff4cd",
   "metadata": {},
   "source": [
    "### Step 34"
   ]
  },
  {
   "cell_type": "markdown",
   "id": "61043bb0",
   "metadata": {},
   "source": [
    "Execution Start time: 04:53:06, End time: 04:53:12 (duration: 6 seconds)"
   ]
  },
  {
   "cell_type": "markdown",
   "id": "ac78074e",
   "metadata": {},
   "source": [
    "**Thought**: [pre-executed by user]\n",
    "\n"
   ]
  },
  {
   "cell_type": "markdown",
   "id": "c285e69c",
   "metadata": {},
   "source": [
    "**Action (None)**:"
   ]
  },
  {
   "cell_type": "code",
   "execution_count": null,
   "id": "67c7547f",
   "metadata": {},
   "outputs": [
    {
     "data": {
      "text/plain": [
       "Thu Aug 22 04:53:06 UTC 2024, data: g-transformer, mode: test, exp_path: data, slang: en, tlang: de\nThu Aug 22 04:53:06 UTC 2024, run path: data/run-finetune\nThu Aug 22 04:53:06 UTC 2024, Testing model on test dataset...\n"
      ]
     },
     "execution_count": null,
     "metadata": {},
     "output_type": "execute_result"
    }
   ],
   "source": [
    "!bash exp_gtrans/run-finetune.sh g-transformer test data"
   ]
  },
  {
   "cell_type": "markdown",
   "id": "357ba743",
   "metadata": {},
   "source": [
    "### Step 35"
   ]
  },
  {
   "cell_type": "markdown",
   "id": "53d763bc",
   "metadata": {},
   "source": [
    "Execution Start time: 04:53:14, End time: 04:53:14 (duration: 0 seconds)"
   ]
  },
  {
   "cell_type": "markdown",
   "id": "49fff0e9",
   "metadata": {},
   "source": [
    "**Thought**: [pre-executed by user]\n",
    "\n"
   ]
  },
  {
   "cell_type": "markdown",
   "id": "5ae7c9ea",
   "metadata": {},
   "source": [
    "**Action (None)**:"
   ]
  },
  {
   "cell_type": "code",
   "execution_count": null,
   "id": "9a3649f3",
   "metadata": {},
   "outputs": [
    {
     "data": {
      "text/plain": [
       ""
      ]
     },
     "execution_count": null,
     "metadata": {},
     "output_type": "execute_result"
    }
   ],
   "source": [
    "# No errors are shown in the standard output, but a log file is created. There, the following error can be seen"
   ]
  },
  {
   "cell_type": "markdown",
   "id": "e0b36f81",
   "metadata": {},
   "source": [
    "### Step 36"
   ]
  },
  {
   "cell_type": "markdown",
   "id": "0aec0e3d",
   "metadata": {},
   "source": [
    "Execution Start time: 04:53:16, End time: 04:53:18 (duration: 2 seconds)"
   ]
  },
  {
   "cell_type": "markdown",
   "id": "3212cb31",
   "metadata": {},
   "source": [
    "**Thought**: [pre-executed by user]\n",
    "\n"
   ]
  },
  {
   "cell_type": "markdown",
   "id": "fa091229",
   "metadata": {},
   "source": [
    "**Action (None)**:"
   ]
  },
  {
   "cell_type": "code",
   "execution_count": null,
   "id": "febb3868",
   "metadata": {},
   "outputs": [
    {
     "data": {
      "text/plain": [
       "tail: cannot open 'data/run-finetune/test.g-transformer-doc.en-de.log' for reading: No such file or directory\n"
      ]
     },
     "execution_count": null,
     "metadata": {},
     "output_type": "execute_result"
    }
   ],
   "source": [
    "!tail -3 data/run-finetune/test.g-transformer-doc.en-de.log"
   ]
  },
  {
   "cell_type": "markdown",
   "id": "f73c77bb",
   "metadata": {},
   "source": [
    "### Step 37"
   ]
  },
  {
   "cell_type": "markdown",
   "id": "11c7f18d",
   "metadata": {},
   "source": [
    "Execution Start time: 04:53:19, End time: 04:53:19 (duration: 0 seconds)"
   ]
  },
  {
   "cell_type": "markdown",
   "id": "73f48d26",
   "metadata": {},
   "source": [
    "**Thought**: [pre-executed by user]\n",
    "\n"
   ]
  },
  {
   "cell_type": "markdown",
   "id": "058e3247",
   "metadata": {},
   "source": [
    "**Action (None)**:"
   ]
  },
  {
   "cell_type": "code",
   "execution_count": null,
   "id": "d6c1e1c4",
   "metadata": {},
   "outputs": [
    {
     "data": {
      "text/plain": [
       ""
      ]
     },
     "execution_count": null,
     "metadata": {},
     "output_type": "execute_result"
    }
   ],
   "source": [
    "# The log file does not exist, so let's check the sentence-level log file."
   ]
  },
  {
   "cell_type": "markdown",
   "id": "50052a52",
   "metadata": {},
   "source": [
    "### Step 38"
   ]
  },
  {
   "cell_type": "markdown",
   "id": "53d8fd27",
   "metadata": {},
   "source": [
    "Execution Start time: 04:53:20, End time: 04:53:21 (duration: 0 seconds)"
   ]
  },
  {
   "cell_type": "markdown",
   "id": "02417a50",
   "metadata": {},
   "source": [
    "**Thought**: [pre-executed by user]\n",
    "\n"
   ]
  },
  {
   "cell_type": "markdown",
   "id": "ea8ce222",
   "metadata": {},
   "source": [
    "**Action (None)**:"
   ]
  },
  {
   "cell_type": "code",
   "execution_count": null,
   "id": "c83ef314",
   "metadata": {},
   "outputs": [
    {
     "data": {
      "text/plain": [
       "tail: cannot open 'data/run-finetune/test.g-transformer-sent.en-de.log' for reading: No such file or directory\n"
      ]
     },
     "execution_count": null,
     "metadata": {},
     "output_type": "execute_result"
    }
   ],
   "source": [
    "!tail -3 data/run-finetune/test.g-transformer-sent.en-de.log"
   ]
  },
  {
   "cell_type": "markdown",
   "id": "5b9977fb",
   "metadata": {},
   "source": [
    "### Step 39"
   ]
  },
  {
   "cell_type": "markdown",
   "id": "cff00f9a",
   "metadata": {},
   "source": [
    "Execution Start time: 04:53:22, End time: 04:53:22 (duration: 0 seconds)"
   ]
  },
  {
   "cell_type": "markdown",
   "id": "927c1520",
   "metadata": {},
   "source": [
    "**Thought**: [pre-executed by user]\n",
    "\n"
   ]
  },
  {
   "cell_type": "markdown",
   "id": "09834509",
   "metadata": {},
   "source": [
    "**Action (None)**:"
   ]
  },
  {
   "cell_type": "code",
   "execution_count": null,
   "id": "7ff6c964",
   "metadata": {},
   "outputs": [
    {
     "data": {
      "text/plain": [
       ""
      ]
     },
     "execution_count": null,
     "metadata": {},
     "output_type": "execute_result"
    }
   ],
   "source": [
    "# The log file does not exist, let's check the directory to see if any other log files are present."
   ]
  },
  {
   "cell_type": "markdown",
   "id": "c5cbac66",
   "metadata": {},
   "source": [
    "### Step 40"
   ]
  },
  {
   "cell_type": "markdown",
   "id": "13fc1815",
   "metadata": {},
   "source": [
    "Execution Start time: 04:53:24, End time: 04:53:24 (duration: 0 seconds)"
   ]
  },
  {
   "cell_type": "markdown",
   "id": "91f7998c",
   "metadata": {},
   "source": [
    "**Thought**: [pre-executed by user]\n",
    "\n"
   ]
  },
  {
   "cell_type": "markdown",
   "id": "88238308",
   "metadata": {},
   "source": [
    "**Action (None)**:"
   ]
  },
  {
   "cell_type": "code",
   "execution_count": null,
   "id": "3d824f85",
   "metadata": {},
   "outputs": [
    {
     "data": {
      "text/plain": [
       "g-transformer-doc.checkpoints.en-de   test.g-transformer.en-de.log\ng-transformer-sent.checkpoints.en-de  train.g-transformer-doc.en-de.log\ng-transformer.results.en-de\t      train.g-transformer-sent.en-de.log\n"
      ]
     },
     "execution_count": null,
     "metadata": {},
     "output_type": "execute_result"
    }
   ],
   "source": [
    "!ls data/run-finetune/"
   ]
  },
  {
   "cell_type": "markdown",
   "id": "dd8c2286",
   "metadata": {},
   "source": [
    "### Step 41"
   ]
  },
  {
   "cell_type": "markdown",
   "id": "876dd63b",
   "metadata": {},
   "source": [
    "Execution Start time: 04:53:26, End time: 04:53:26 (duration: 0 seconds)"
   ]
  },
  {
   "cell_type": "markdown",
   "id": "af0b5c68",
   "metadata": {},
   "source": [
    "**Thought**: [pre-executed by user]\n",
    "\n"
   ]
  },
  {
   "cell_type": "markdown",
   "id": "51425fcb",
   "metadata": {},
   "source": [
    "**Action (None)**:"
   ]
  },
  {
   "cell_type": "code",
   "execution_count": null,
   "id": "18d3e984",
   "metadata": {},
   "outputs": [
    {
     "data": {
      "text/plain": [
       ""
      ]
     },
     "execution_count": null,
     "metadata": {},
     "output_type": "execute_result"
    }
   ],
   "source": [
    "# Let's check the test log file to see if it contains any useful information."
   ]
  },
  {
   "cell_type": "markdown",
   "id": "5f0e7242",
   "metadata": {},
   "source": [
    "### Step 42"
   ]
  },
  {
   "cell_type": "markdown",
   "id": "58a0ea81",
   "metadata": {},
   "source": [
    "Execution Start time: 04:53:27, End time: 04:53:27 (duration: 0 seconds)"
   ]
  },
  {
   "cell_type": "markdown",
   "id": "3c454766",
   "metadata": {},
   "source": [
    "**Thought**: [pre-executed by user]\n",
    "\n"
   ]
  },
  {
   "cell_type": "markdown",
   "id": "e6fc21cd",
   "metadata": {},
   "source": [
    "**Action (None)**:"
   ]
  },
  {
   "cell_type": "code",
   "execution_count": null,
   "id": "4b3c5ecb",
   "metadata": {},
   "outputs": [
    {
     "data": {
      "text/plain": [
       "During handling of the above exception, another exception occurred:\n\nTraceback (most recent call last):\n  File \"/usr/local/lib/python3.10/runpy.py\", line 196, in _run_module_as_main\n    return _run_code(code, main_globals, None,\n  File \"/usr/local/lib/python3.10/runpy.py\", line 86, in _run_code\n    exec(code, run_globals)\n  File \"/content/g-transformer/fairseq_cli/generate.py\", line 356, in <module>\n    cli_main()\n  File \"/content/g-transformer/fairseq_cli/generate.py\", line 352, in cli_main\n    main(args)\n  File \"/content/g-transformer/fairseq_cli/generate.py\", line 40, in main\n    return _main(args, sys.stdout)\n  File \"/content/g-transformer/fairseq_cli/generate.py\", line 124, in _main\n    tokenizer = encoders.build_tokenizer(args)\n  File \"/content/g-transformer/fairseq/registry.py\", line 41, in build_x\n    return builder(args, *extra_args, **extra_kwargs)\n  File \"/content/g-transformer/fairseq/data/encoders/moses_tokenizer.py\", line 38, in __init__\n    raise ImportError('Please install Moses tokenizer with: pip install sacremoses')\nImportError: Please install Moses tokenizer with: pip install sacremoses\n"
      ]
     },
     "execution_count": null,
     "metadata": {},
     "output_type": "execute_result"
    }
   ],
   "source": [
    "!tail -n 20 data/run-finetune/test.g-transformer.en-de.log"
   ]
  },
  {
   "cell_type": "markdown",
   "id": "b3843930",
   "metadata": {},
   "source": [
    "### Step 43"
   ]
  },
  {
   "cell_type": "markdown",
   "id": "7035d72e",
   "metadata": {},
   "source": [
    "Execution Start time: 04:53:29, End time: 04:53:38 (duration: 8 seconds)"
   ]
  },
  {
   "cell_type": "markdown",
   "id": "fcef602a",
   "metadata": {},
   "source": [
    "**Thought**: The error indicates that the Moses tokenizer is required for the evaluation process. We need to install the `sacremoses` package to resolve this issue. Let's proceed with installing it using pip.\n"
   ]
  },
  {
   "cell_type": "markdown",
   "id": "2fa99f1a",
   "metadata": {},
   "source": [
    "**Action (None)**:"
   ]
  },
  {
   "cell_type": "code",
   "execution_count": null,
   "id": "05c57662",
   "metadata": {},
   "outputs": [
    {
     "data": {
      "text/plain": [
       "Collecting sacremoses\n  Downloading sacremoses-0.1.1-py3-none-any.whl.metadata (8.3 kB)\nRequirement already satisfied: regex in /usr/local/lib/python3.10/site-packages (from sacremoses) (2023.12.25)\nRequirement already satisfied: click in /usr/local/lib/python3.10/site-packages (from sacremoses) (8.1.7)\nRequirement already satisfied: joblib in /usr/local/lib/python3.10/site-packages (from sacremoses) (1.4.2)\nRequirement already satisfied: tqdm in /usr/local/lib/python3.10/site-packages (from sacremoses) (4.66.4)\nDownloading sacremoses-0.1.1-py3-none-any.whl (897 kB)\n\u001b[?25l   ━━━━━━━━━━━━━━━━━━━━━━━━━━━━━━━━━━━━━━━━ 0.0/897.5 kB ? eta -:--:--\n\n\n\u001b[?25hInstalling collected packages: sacremoses\nSuccessfully installed sacremoses-0.1.1\n\n[notice] A new release of pip is available: 24.0 -> 24.2\n[notice] To update, run: pip install --upgrade pip\n"
      ]
     },
     "execution_count": null,
     "metadata": {},
     "output_type": "execute_result"
    }
   ],
   "source": [
    "!pip install sacremoses"
   ]
  },
  {
   "cell_type": "markdown",
   "id": "f2269f08",
   "metadata": {},
   "source": [
    "### Step 44"
   ]
  },
  {
   "cell_type": "markdown",
   "id": "87c9bb6f",
   "metadata": {},
   "source": [
    "Execution Start time: 04:53:39, End time: 04:58:39 (duration: 300 seconds)"
   ]
  },
  {
   "cell_type": "markdown",
   "id": "4d28a3ed",
   "metadata": {},
   "source": [
    "**Thought**: Now that the `sacremoses` package is installed, let's attempt to run the evaluation again to obtain the BLEU metrics.\n"
   ]
  },
  {
   "cell_type": "markdown",
   "id": "f69102b5",
   "metadata": {},
   "source": [
    "**Action (None)**:"
   ]
  },
  {
   "cell_type": "code",
   "execution_count": null,
   "id": "9462df3d",
   "metadata": {},
   "outputs": [
    {
     "data": {
      "text/plain": [
       "Thu Aug 22 04:53:39 UTC 2024, data: g-transformer, mode: test, exp_path: data, slang: en, tlang: de\nThu Aug 22 04:53:39 UTC 2024, run path: data/run-finetune\nThu Aug 22 04:53:39 UTC 2024, Testing model on test dataset...\n\n\nYour command has already run for 300 seconds. It is still running. You can continue to wait or interrupt it with \"action\": {\"type\": \"interrupt\"} or \"action\": {\"type\": \"continue_wait\"}"
      ]
     },
     "execution_count": null,
     "metadata": {},
     "output_type": "execute_result"
    }
   ],
   "source": [
    "!bash exp_gtrans/run-finetune.sh g-transformer test data"
   ]
  },
  {
   "cell_type": "markdown",
   "id": "d1133ec7",
   "metadata": {},
   "source": [
    "### Step 45"
   ]
  },
  {
   "cell_type": "markdown",
   "id": "10817be2",
   "metadata": {},
   "source": [
    "Execution Start time: 04:58:43, End time: 04:58:46 (duration: 2 seconds)"
   ]
  },
  {
   "cell_type": "markdown",
   "id": "a0234dd0",
   "metadata": {},
   "source": [
    "**Thought**: The evaluation process was taking too long, so I interrupted it. Let's check the log file to see if any results were generated before the interruption.\n"
   ]
  },
  {
   "cell_type": "markdown",
   "id": "9dcce0a7",
   "metadata": {},
   "source": [
    "**Action (None)**:"
   ]
  },
  {
   "cell_type": "code",
   "execution_count": null,
   "id": "4d6c7d60",
   "metadata": {},
   "outputs": [
    {
     "data": {
      "text/plain": [
       "    decoder_out = model.decoder.forward(\n  File \"/content/g-transformer/fairseq/models/gtransformer.py\", line 716, in forward\n    x, extra = self.extract_features(\n  File \"/content/g-transformer/fairseq/models/gtransformer.py\", line 732, in extract_features\n    return self.extract_features_scriptable(\n  File \"/content/g-transformer/fairseq/models/gtransformer.py\", line 840, in extract_features_scriptable\n    x, layer_attn, _ = layer(\n  File \"/usr/local/lib/python3.10/site-packages/torch/nn/modules/module.py\", line 1511, in _wrapped_call_impl\n    return self._call_impl(*args, **kwargs)\n  File \"/usr/local/lib/python3.10/site-packages/torch/nn/modules/module.py\", line 1520, in _call_impl\n    return forward_call(*args, **kwargs)\n  File \"/content/g-transformer/fairseq/modules/gtransformer_layer.py\", line 391, in forward\n    x_local, attn_local = self.encoder_attn_local(\n  File \"/usr/local/lib/python3.10/site-packages/torch/nn/modules/module.py\", line 1511, in _wrapped_call_impl\n    return self._call_impl(*args, **kwargs)\n  File \"/usr/local/lib/python3.10/site-packages/torch/nn/modules/module.py\", line 1520, in _call_impl\n    return forward_call(*args, **kwargs)\n  File \"/content/g-transformer/fairseq/modules/multihead_attention.py\", line 617, in forward\n    attn = torch.bmm(attn_probs, v)\nKeyboardInterrupt\n"
      ]
     },
     "execution_count": null,
     "metadata": {},
     "output_type": "execute_result"
    }
   ],
   "source": [
    "!tail -n 20 data/run-finetune/test.g-transformer.en-de.log"
   ]
  },
  {
   "cell_type": "markdown",
   "id": "2c108dce",
   "metadata": {},
   "source": [
    "### Step 46"
   ]
  },
  {
   "cell_type": "markdown",
   "id": "960a1bbf",
   "metadata": {},
   "source": [
    "Execution Start time: 04:58:48, End time: 04:58:50 (duration: 1 seconds)"
   ]
  },
  {
   "cell_type": "markdown",
   "id": "eb5c0fcb",
   "metadata": {},
   "source": [
    "**Thought**: The evaluation process was interrupted, and it seems like it was taking too long due to the model's complexity or the dataset size. To proceed, let's try reducing the dataset size further or optimizing the evaluation process to obtain the BLEU metrics more efficiently. Let's check if there are any options to limit the evaluation to a smaller subset of the data or to speed up the process.\n",
    "\n",
    "First, let's explore the evaluation script to see if there are any parameters we can adjust to limit the evaluation size or speed it up.\n"
   ]
  },
  {
   "cell_type": "markdown",
   "id": "931e16c4",
   "metadata": {},
   "source": [
    "**Action (open)**:"
   ]
  },
  {
   "cell_type": "code",
   "execution_count": null,
   "id": "28f3d27f",
   "metadata": {},
   "outputs": [
    {
     "data": {
      "text/plain": [
       "[File: /content/g-transformer/exp_gtrans/run-finetune.sh (71 lines total)]\n1:#!/usr/bin/env bash\n2:# Copyright (c) Guangsheng Bao.\n3:#\n4:# This source code is licensed under the MIT license found in the\n5:# LICENSE file in the root directory of this source tree.\n6:\n7:# command help\n8:if [ $# == '0' ]; then\n9:    echo \"Please follow the usage:\"\n10:    echo \"    bash $0 iwslt17 train exp_test\"\n11:    exit\n12:fi\n13:\n14:# run command\n15:data=$1\n16:mode=$2\n17:exp_path=$3\n18:\n19:slang=en\n20:tlang=de\n21:\n22:echo `date`, data: $data, mode: $mode, exp_path: $exp_path, slang: $slang, tlang: $tlang\n23:bin_path_sent=$exp_path/$data-sent.binarized.$slang-$tlang\n24:bin_path_doc=$exp_path/$data-doc.binarized.$slang-$tlang\n25:\n26:run_path=$exp_path/run-finetune\n27:mkdir -p $run_path\n28:echo `date`, run path: $run_path\n29:\n30:cp_path_sent=$run_path/$data-sent.checkpoints.$slang-$tlang\n31:cp_path_doc=$run_path/$data-doc.checkpoints.$slang-$tlang\n32:res_path=$run_path/$data.results.$slang-$tlang\n33:doc_langs=$slang,$tlang\n34:\n35:if [ $mode == \"train\" ]; then\n36:  echo `date`, Training sentence-level model...\n37:  doc_langs=$slang,$tlang\n38:  python train.py $bin_path_sent --save-dir $cp_path_sent --tensorboard-logdir $cp_path_sent --seed 444 --max-epoch 1 --num-workers 4 \\\n39:         --task translation_doc --source-lang $slang --target-lang $tlang --langs $doc_langs \\\n40:         --arch gtransformer_base --doc-mode full --share-all-embeddings \\\n41:         --optimizer adam --adam-betas \"(0.9, 0.98)\" --lr 5e-4 --lr-scheduler inverse_sqrt --warmup-updates 4000 \\\n42:         --criterion label_smoothed_cross_entropy --label-smoothing 0.1 --no-epoch-checkpoints \\\n43:         --max-tokens 4096 --update-freq 1 --validate-interval 1 --patience 10 \\\n44:         > $run_path/train.$data-sent.$slang-$tlang.log 2>&1\n45:\n46:  echo `date`, Training document-level model...\n47:  sent_model=$cp_path_sent/checkpoint_best.pt\n48:  echo Load sentence model from $sent_model\n49:  echo `date`, Training model...\n50:  python train.py $bin_path_doc --save-dir $cp_path_doc --tensorboard-logdir $cp_path_doc --seed 444  --max-epoch 1 --num-workers 4 \\\n51:         --task translation_doc --source-lang $slang --target-lang $tlang --langs $doc_langs \\\n52:         --arch gtransformer_base --doc-mode partial --share-all-embeddings \\\n53:         --optimizer adam --adam-betas \"(0.9, 0.98)\" \\\n54:         --lr-scheduler inverse_sqrt --lr 5e-04 --warmup-updates 4000 \\\n55:         --criterion label_smoothed_cross_entropy --label-smoothing 0.1 --no-epoch-checkpoints \\\n56:         --max-tokens 4096 --update-freq 1 --validate-interval 1 --patience 10 \\\n57:         --restore-file $sent_model --reset-optimizer --reset-meters --reset-dataloader --reset-lr-scheduler \\\n58:         --load-partial --doc-double-lr --lr-scale-pretrained 0.2 \\\n59:         --encoder-ctxlayers 2 --decoder-ctxlayers 2 --cross-ctxlayers 2 \\\n60:         --doc-noise-mask 0.1 --doc-noise-epochs 40 > $run_path/train.$data-doc.$slang-$tlang.log 2>&1\n61:elif [ $mode == \"test\" ]; then\n62:  mkdir -p $res_path\n63:  echo `date`, Testing model on test dataset...\n64:  python -m fairseq_cli.generate $bin_path_doc --path $cp_path_doc/checkpoint_best.pt \\\n65:         --gen-subset test --batch-size 16 --beam 5 --max-len-a 1.2 --max-len-b 10 \\\n66:         --task translation_doc --source-lang $slang --target-lang $tlang --langs $doc_langs \\\n67:         --doc-mode partial --tokenizer moses --remove-bpe --sacrebleu \\\n68:         --gen-output $res_path/test > $run_path/test.$data.$slang-$tlang.log 2>&1\n69:else\n70:  echo Unknown mode ${mode}.\n71:fi\n"
      ]
     },
     "execution_count": null,
     "metadata": {},
     "output_type": "execute_result"
    }
   ],
   "source": [
    "open exp_gtrans/run-finetune.sh"
   ]
  },
  {
   "cell_type": "markdown",
   "id": "54cd6671",
   "metadata": {},
   "source": [
    "### Step 47"
   ]
  },
  {
   "cell_type": "markdown",
   "id": "d21b14a4",
   "metadata": {},
   "source": [
    "Execution Start time: 04:58:54, End time: 04:58:55 (duration: 1 seconds)"
   ]
  },
  {
   "cell_type": "markdown",
   "id": "4b332c8a",
   "metadata": {},
   "source": [
    "**Thought**: The evaluation script uses the `generate` command from `fairseq_cli` to evaluate the model. We can try reducing the batch size or limiting the maximum length of sequences to speed up the evaluation process. Let's modify the script to use a smaller batch size and shorter sequence lengths.\n",
    "\n",
    "I'll edit the script to change the batch size to 4 and the maximum lengths to smaller values.\n"
   ]
  },
  {
   "cell_type": "markdown",
   "id": "b465897e",
   "metadata": {},
   "source": [
    "**Action (edit)**:"
   ]
  },
  {
   "cell_type": "code",
   "execution_count": null,
   "id": "fc76397e",
   "metadata": {},
   "outputs": [
    {
     "data": {
      "text/plain": [
       "[File: /content/g-transformer/exp_gtrans/run-finetune.sh (71 lines total)]\n1:#!/usr/bin/env bash\n2:# Copyright (c) Guangsheng Bao.\n3:#\n4:# This source code is licensed under the MIT license found in the\n5:# LICENSE file in the root directory of this source tree.\n6:\n7:# command help\n8:if [ $# == '0' ]; then\n9:    echo \"Please follow the usage:\"\n10:    echo \"    bash $0 iwslt17 train exp_test\"\n11:    exit\n12:fi\n13:\n14:# run command\n15:data=$1\n16:mode=$2\n17:exp_path=$3\n18:\n19:slang=en\n20:tlang=de\n21:\n22:echo `date`, data: $data, mode: $mode, exp_path: $exp_path, slang: $slang, tlang: $tlang\n23:bin_path_sent=$exp_path/$data-sent.binarized.$slang-$tlang\n24:bin_path_doc=$exp_path/$data-doc.binarized.$slang-$tlang\n25:\n26:run_path=$exp_path/run-finetune\n27:mkdir -p $run_path\n28:echo `date`, run path: $run_path\n29:\n30:cp_path_sent=$run_path/$data-sent.checkpoints.$slang-$tlang\n31:cp_path_doc=$run_path/$data-doc.checkpoints.$slang-$tlang\n32:res_path=$run_path/$data.results.$slang-$tlang\n33:doc_langs=$slang,$tlang\n34:\n35:if [ $mode == \"train\" ]; then\n36:  echo `date`, Training sentence-level model...\n37:  doc_langs=$slang,$tlang\n38:  python train.py $bin_path_sent --save-dir $cp_path_sent --tensorboard-logdir $cp_path_sent --seed 444 --max-epoch 1 --num-workers 4 \\\n39:         --task translation_doc --source-lang $slang --target-lang $tlang --langs $doc_langs \\\n40:         --arch gtransformer_base --doc-mode full --share-all-embeddings \\\n41:         --optimizer adam --adam-betas \"(0.9, 0.98)\" --lr 5e-4 --lr-scheduler inverse_sqrt --warmup-updates 4000 \\\n42:         --criterion label_smoothed_cross_entropy --label-smoothing 0.1 --no-epoch-checkpoints \\\n43:         --max-tokens 4096 --update-freq 1 --validate-interval 1 --patience 10 \\\n44:         > $run_path/train.$data-sent.$slang-$tlang.log 2>&1\n45:\n46:  echo `date`, Training document-level model...\n47:  sent_model=$cp_path_sent/checkpoint_best.pt\n48:  echo Load sentence model from $sent_model\n49:  echo `date`, Training model...\n50:  python train.py $bin_path_doc --save-dir $cp_path_doc --tensorboard-logdir $cp_path_doc --seed 444  --max-epoch 1 --num-workers 4 \\\n51:         --task translation_doc --source-lang $slang --target-lang $tlang --langs $doc_langs \\\n52:         --arch gtransformer_base --doc-mode partial --share-all-embeddings \\\n53:         --optimizer adam --adam-betas \"(0.9, 0.98)\" \\\n54:         --lr-scheduler inverse_sqrt --lr 5e-04 --warmup-updates 4000 \\\n55:         --criterion label_smoothed_cross_entropy --label-smoothing 0.1 --no-epoch-checkpoints \\\n56:         --max-tokens 4096 --update-freq 1 --validate-interval 1 --patience 10 \\\n57:         --restore-file $sent_model --reset-optimizer --reset-meters --reset-dataloader --reset-lr-scheduler \\\n58:         --load-partial --doc-double-lr --lr-scale-pretrained 0.2 \\\n59:         --encoder-ctxlayers 2 --decoder-ctxlayers 2 --cross-ctxlayers 2 \\\n60:         --doc-noise-mask 0.1 --doc-noise-epochs 40 > $run_path/train.$data-doc.$slang-$tlang.log 2>&1\n61:elif [ $mode == \"test\" ]; then\n62:  mkdir -p $res_path\n63:  echo `date`, Testing model on test dataset...\n64:  python -m fairseq_cli.generate $bin_path_doc --path $cp_path_doc/checkpoint_best.pt \\\n65:         --gen-subset test --batch-size 4 --beam 5 --max-len-a 0.5 --max-len-b 5 \\\n66:         --task translation_doc --source-lang $slang --target-lang $tlang --langs $doc_langs \\\n67:         --doc-mode partial --tokenizer moses --remove-bpe --sacrebleu \\\n68:         --gen-output $res_path/test > $run_path/test.$data.$slang-$tlang.log 2>&1\n69:else\n70:  echo Unknown mode ${mode}.\n71:fi\nFile updated. Please review the changes and make sure they are correct (correct indentation, no duplicate lines, etc). Edit the file again if necessary.\n"
      ]
     },
     "execution_count": null,
     "metadata": {},
     "output_type": "execute_result"
    }
   ],
   "source": [
    "edit 64:66\n",
    "  python -m fairseq_cli.generate $bin_path_doc --path $cp_path_doc/checkpoint_best.pt \\\n",
    "         --gen-subset test --batch-size 4 --beam 5 --max-len-a 0.5 --max-len-b 5 \\\n",
    "         --task translation_doc --source-lang $slang --target-lang $tlang --langs $doc_langs \\\n",
    "end_of_edit"
   ]
  },
  {
   "cell_type": "markdown",
   "id": "929751e5",
   "metadata": {},
   "source": [
    "### Step 48"
   ]
  },
  {
   "cell_type": "markdown",
   "id": "85555faf",
   "metadata": {},
   "source": [
    "Execution Start time: 04:58:58, End time: 05:03:04 (duration: 246 seconds)"
   ]
  },
  {
   "cell_type": "markdown",
   "id": "c32c6114",
   "metadata": {},
   "source": [
    "**Thought**: The script has been updated to use a smaller batch size and shorter sequence lengths for evaluation. Let's run the evaluation again to see if it completes successfully this time.\n"
   ]
  },
  {
   "cell_type": "markdown",
   "id": "b14c17df",
   "metadata": {},
   "source": [
    "**Action (None)**:"
   ]
  },
  {
   "cell_type": "code",
   "execution_count": null,
   "id": "86ef6cb4",
   "metadata": {},
   "outputs": [
    {
     "data": {
      "text/plain": [
       "Thu Aug 22 04:58:59 UTC 2024, data: g-transformer, mode: test, exp_path: data, slang: en, tlang: de\nThu Aug 22 04:58:59 UTC 2024, run path: data/run-finetune\nThu Aug 22 04:58:59 UTC 2024, Testing model on test dataset...\n"
      ]
     },
     "execution_count": null,
     "metadata": {},
     "output_type": "execute_result"
    }
   ],
   "source": [
    "!bash exp_gtrans/run-finetune.sh g-transformer test data"
   ]
  },
  {
   "cell_type": "markdown",
   "id": "87fdd2ee",
   "metadata": {},
   "source": [
    "### Step 49"
   ]
  },
  {
   "cell_type": "markdown",
   "id": "23a011e8",
   "metadata": {},
   "source": [
    "Execution Start time: 05:03:06, End time: 05:03:12 (duration: 5 seconds)"
   ]
  },
  {
   "cell_type": "markdown",
   "id": "4784c789",
   "metadata": {},
   "source": [
    "**Thought**: The evaluation process is running again with the updated parameters. Let's wait for it to complete and then check the log file for the BLEU metrics.\n"
   ]
  },
  {
   "cell_type": "markdown",
   "id": "98c8f814",
   "metadata": {},
   "source": [
    "**Action (None)**:"
   ]
  },
  {
   "cell_type": "code",
   "execution_count": null,
   "id": "18d46ace",
   "metadata": {},
   "outputs": [
    {
     "data": {
      "text/plain": [
       "P-5\t-5.1120 -1.1678 -1.2349 -1.3075 -1.3650 -1.4086 -1.4516 -5.3819 -1.3985 -1.3205 -1.2749 -1.2566 -1.2564 -1.2589 -1.2623 -1.2599 -1.2585 -1.2602 -1.2576 -1.2446 -1.2244 -1.2176 -1.2297 -1.2481 -1.2652 -1.2675 -1.2530 -1.2467 -1.2633 -1.3085 -1.3559 -1.3699 -1.3430 -1.2926 -1.2537 -1.2477 -1.2738 -1.3105 -1.3318 -1.3290 -1.3203 -1.3279 -1.3542 -1.3915 -1.4156 -1.4112 -1.3928 -1.3898 -1.4106 -1.4503 -1.4821 -1.4805 -1.4533 -1.4296 -1.4354 0.0000 0.0000 -5.2524 -1.5759 -1.6019 -1.6292 -1.6622 -1.7036 -1.7488 -1.7855 -1.8125 -1.8293 -1.8411 -1.8620 -1.8899 -1.9099 -1.9144 -1.8999 -1.8759 -1.8569 -1.8518 0.0000 0.0000 -4.7674 -0.9554 -1.0279 -1.1055 -1.1616 -1.1943 -1.2221 -1.2562 -1.3117 -1.3876 -1.4568 -1.4993 -1.5133 -1.5064 -1.4933 -1.4858 -1.4879 -1.4936 -1.4981 -1.4985 -1.5041 -1.5153 -1.5258 -1.5334 -1.5354 -1.5324 -1.5321 -1.5381 -1.5515 -1.5644 -1.5716 -1.5703 -1.5678 -1.5685 -1.5734 -1.5816 -1.5815 -1.5696 0.0000 0.0000 -3.5979 -0.5414 -0.5789 -0.6069 -0.6145 -0.6134 -0.6146 -0.6273 -0.6532 -0.6854 -0.7088 -0.7192 -0.7215 -0.7211 -0.7219 -0.7270 -0.7329 -0.7344 -0.7349 -0.7439 -0.7604 -0.7740 -0.7820 -0.7820 -0.7682 -0.7490 -0.7349 -0.7337 -0.7440 -0.7586 -0.7733 -0.7817 -0.7863 -0.7911 -0.7972 -0.8056 -0.8140 -0.8217 -0.8273 -0.8324 -0.8398 -0.8442 -0.8423 -0.8313 -0.8131 -0.7960 -0.7944 -0.8126 -0.8372 -0.8538 -0.8537 -0.8398 -0.8264 -0.8253 -0.8402 -0.8639 -0.8795 -0.8810 -0.8767 -0.8765 -0.8837 -0.8973 -0.9084 -0.9076 -0.8934 -0.8770 -0.8684 -0.8760 -0.8935 -0.9068 -0.9060 -0.8989 -0.8938 -0.8978 -0.9112 0.0000 0.0000 -3.8535 -0.6900 -0.6607 -0.6614 -0.6806 -0.7158 -0.7521 -0.7770 -0.7828 -0.7711 -0.7552 -0.7495 -0.7628 -0.7940 -0.8288 0.0000 0.0000 -4.4036 -0.8096 -0.8123 -0.8360 -0.8809 -0.9300 -0.9710 -0.9910 -0.9865 -0.9773 -0.9864 -1.0211 -1.0673 -5.3295 -0.9960 -0.9389 -0.9071 -0.9044 -0.9209 -0.9362 -0.9337 -0.9081 -0.8684 -0.8327 -0.8120 -0.8132 -0.8247 -0.8320 -0.8298 -0.8256 -0.8260 -0.8424 -0.8701 -0.9012 -0.9234 -0.9300 -0.9283 -0.9252 -0.9335 -0.9437 -0.9523 0.0000 0.0000 -4.5864 -1.2149 -1.2815 -1.3435 -1.3902 -1.4329 -1.4763 -1.5056 -1.5158 -1.5067 -1.4901 0.0000 0.0000\nS-7\t<s> in the <unk> <unk> <unk> call, L<unk> <unk> said <unk> <unk> uot<unk> <unk> killed my wife, <unk> <unk> uot<unk> but there was no record of them ever marrying. </s> <s> They had a dog n<unk> ed Lightning that lived with them at the brick house that backs up to a bayou in <unk> autier. </s> <s> Police said the dog was O<unk>. </s> <s> Prentiss <unk> apos<unk> ex-husband, Shawn <unk> <unk> apo<unk> Steen, said they divorced <unk> <unk> years ago but <unk> ained friends and had a daughter who 's now <unk> <unk>. </s> <s> <unk> <unk> uot<unk> She was completely devastated, <unk> <unk> uot<unk> <unk> <unk> apo<unk> Steen said of his daughter. </s> <s> She and her mother were absolutely best friends. </s> <s> <unk> <unk> apo<unk> Steen said he had not met L<unk> <unk> but heard through his daughter Abigail that L<unk> <unk> was interested in musi<unk> and played the blues. </s> <s> L<unk> <unk> met Prentiss when he and Abigail both performed at a summer fair three years ago. </s>\nT-7\tin dem Notru<<unk>> sagte L<<unk>> <<unk>> <<unk>> <<unk>> uot<<unk>> Ich ha<<unk>> meine Frau getötet <<unk>> <<unk>> uot<<unk>>, aber es ga<<unk>> keine Urkunde von einer Heirat. </s> <s> Sie hatten einen Hund n<<unk>> <<unk>> Lightning, der mit ihnen in dem Backstein-Haus lebte, das an einen Bayou in <<unk>> autier angrenzt. </s> <s> die Polizei sagte, dass der Hund in Ordnung war. </s> <s> der Ex-Ehemann von Prentiss, Shawn <<unk>> <<unk>> apos<<unk>> Steen, sagte, sie seien vor <<unk>> <<unk>> Jahren geschieden wurden, aber Freunde geblieben waren und eine Tochter hatten, die jetzt <<unk>> <<unk>> Jahre alt war. </s> <s> <<unk>> <<unk>> uot<<unk>> Sie war total am Boden zerstört <<unk>> <<unk>> uot<<unk>>, sagte <<unk>> <<unk>> apos<<unk>> Steen über seine Tochter. </s> <s> Sie und ihre Mutter waren absolut beste Freunde. </s> <s> <<unk>> <<unk>> apos<<unk>> Steen sagte, er ha<<unk>> L<<unk>> <<unk>> nie getroffen, aber durch seine Tochter Abigail ha<<unk>> er gehört, dass L<<unk>> <<unk>> an Musik interessiert war und Blues spielte. </s> <s> L<<unk>> <<unk>> tra<<unk>> Prentiss, als er und Abigail vor drei Jahren beide auf einem Sommer-Jahrmarkt auftraten. </s>\nH-7\t-1.3917810916900635\tischen ischen ischen ischen ischen ischen ischen ischen ischen g g g g g g g g g g g g g g g g g g g g g g g g g g g g </s> <s> etetetetetetetetetetetetetetetetetetetetetetetetetetetetetetetetet</s> <s> tschafttschafttschafttschafttschafttschafttschafttschafttschafttschafttschafttschaft</s> <s> ischen ischen ischen ischen ischen ischen ischen ischen ischen ischen ischen ischen ischen ischen ischen ischen ischen ischen ischen ischen ischen ischen ischen ischen ischen ischen ischen ischen ischen ischen ischen ischen ischen ischen ischen ischen ischen ischen ischen ischen ischen ischen ischen ischen ischen </s> <s> ischen ischen ischen ischen ischen ischen ischen ischen ischen ischen ischen ischen ischen ischen ischen ischen ischen ischen ischen ischen ischen ischen ischen ischen ischen ischen ischen ischen ischen </s> <s> ischen ischen ischen ischen ischen ischen ischen ischen ischen ischen ischen ischen ischen ischen ischen ischen ischen </s> <s> ischen ischen ischen ischen ischen ischen ischen ischen ischen ischen ischen ischen ischen ischen ischen ischen ischen ischen ischen ischen ischen ischen ischen ischen ischen ischen ischen ischen ischen ischen ischen ischen ischen ischen ischen ischen ischen ischen ischen ischen </s> <s> ischen ischen ischen ischen ischen ischen g g g g g g g g g g g g g g g g g g g g g g g g g </s>\nD-7\t-1.3917810916900635\tischen ischen ischen ischen ischen ischen ischen ischen ischen g g g g g g g g g g g g g g g g g g g g g g g g g g g g </s> <s> etetetetetetetetetetetetetetetetetetetetetetetetetetetetetetetetet</s> <s> tschafttschafttschafttschafttschafttschafttschafttschafttschafttschafttschafttschaft</s> <s> ischen ischen ischen ischen ischen ischen ischen ischen ischen ischen ischen ischen ischen ischen ischen ischen ischen ischen ischen ischen ischen ischen ischen ischen ischen ischen ischen ischen ischen ischen ischen ischen ischen ischen ischen ischen ischen ischen ischen ischen ischen ischen ischen ischen ischen </s> <s> ischen ischen ischen ischen ischen ischen ischen ischen ischen ischen ischen ischen ischen ischen ischen ischen ischen ischen ischen ischen ischen ischen ischen ischen ischen ischen ischen ischen ischen </s> <s> ischen ischen ischen ischen ischen ischen ischen ischen ischen ischen ischen ischen ischen ischen ischen ischen ischen </s> <s> ischen ischen ischen ischen ischen ischen ischen ischen ischen ischen ischen ischen ischen ischen ischen ischen ischen ischen ischen ischen ischen ischen ischen ischen ischen ischen ischen ischen ischen ischen ischen ischen ischen ischen ischen ischen ischen ischen ischen ischen </s> <s> ischen ischen ischen ischen ischen ischen g g g g g g g g g g g g g g g g g g g g g g g g g </s>\nP-7\t-5.0390 -1.1946 -1.2717 -1.3486 -1.4114 -1.4563 -1.4976 -1.5396 -1.5791 -5.5572 -1.4641 -1.4186 -1.4025 -1.3986 -1.4012 -1.4141 -1.4354 -1.4635 -1.4984 -1.5275 -1.5467 -1.5572 -1.5558 -1.5509 -1.5478 -1.5479 -1.5515 -1.5602 -1.5713 -1.5771 -1.5814 -1.5827 -1.5836 -1.5808 -1.5863 -1.6048 -1.6346 0.0000 0.0000 -5.4795 -1.7371 -1.7111 -1.7507 -1.8072 -1.8521 -1.8732 -1.8714 -1.8786 -1.9077 -1.9471 -1.9747 -1.9751 -1.9532 -1.9286 -1.9319 -1.9597 -1.9875 -1.9902 -1.9551 -1.9039 -1.8700 -1.8718 -1.8992 -1.9227 -1.9229 -1.8963 -1.8680 -1.8599 -1.8727 -1.8854 -1.8874 -1.8767 0.0000 0.0000 -4.9918 -1.0800 -1.1453 -1.2350 -1.3176 -1.3836 -1.4350 -1.4778 -1.5026 -1.5034 -1.4820 -1.4571 0.0000 0.0000 -5.0025 -1.3042 -1.3988 -1.4668 -1.5095 -1.5409 -1.5639 -1.5770 -1.5861 -1.5938 -1.6101 -1.6310 -1.6491 -1.6601 -1.6622 -1.6593 -1.6613 -1.6688 -1.6794 -1.6931 -1.7057 -1.7098 -1.7109 -1.7141 -1.7240 -1.7337 -1.7364 -1.7247 -1.7059 -1.6949 -1.6924 -1.7006 -1.7129 -1.7123 -1.6940 -1.6705 -1.6536 -1.6570 -1.6830 -1.7208 -1.7500 -1.7651 -1.7592 -1.7379 -1.7165 0.0000 0.0000 -3.9105 -0.6238 -0.6445 -0.6883 -0.7358 -0.7748 -0.7945 -0.7936 -0.7814 -0.7766 -0.7889 -0.8156 -0.8428 -0.8615 -0.8658 -0.8664 -0.8776 -0.9001 -0.9268 -0.9499 -0.9614 -0.9614 -0.9607 -0.9684 -0.9798 -0.9859 -0.9831 -0.9699 -0.9525 0.0000 0.0000 -4.5475 -1.1477 -1.1846 -1.2321 -1.2761 -1.3341 -1.4070 -1.4719 -1.5111 -1.5265 -1.5318 -1.5393 -1.5601 -1.5809 -1.5896 -1.5888 -1.5816 0.0000 0.0000 -3.5463 -0.5174 -0.5424 -0.5790 -0.6180 -0.6535 -0.6872 -0.7216 -0.7589 -0.7926 -0.8109 -0.8139 -0.8097 -0.8096 -0.8226 -0.8476 -0.8760 -0.8978 -0.9005 -0.8873 -0.8701 -0.8595 -0.8663 -0.8888 -0.9167 -0.9355 -0.9392 -0.9305 -0.9128 -0.8945 -0.8849 -0.8880 -0.8967 -0.8998 -0.8950 -0.8889 -0.8897 -0.9043 -0.9282 -0.9481 0.0000 0.0000 -5.0628 -1.2346 -1.2427 -1.2974 -1.3778 -1.4531 -5.4172 -1.0865 -0.9879 -0.9383 -0.9289 -0.9445 -0.9668 -0.9828 -0.9878 -0.9959 -1.0158 -1.0529 -1.0940 -1.1279 -1.1459 -1.1491 -1.1437 -1.1531 -1.1787 -1.2046 -1.2204 -1.2313 -1.2455 -1.2663 -1.2823 0.0000 0.0000\nS-2\t<s> There was no indication that L<unk> <unk>, who was teaching two online classes for Delta state University in Cleveland, Mississippi, had already traveled <unk> <unk> <unk> miles to the school 's c<unk> pus, where police believe he sh<unk> and killed a well-liked history professor, Ethan Schmidt, in the doorway to his office. </s> <s> Delta state University police chie<unk> Lynn Buford said university officials heard about the shooting at <unk> <unk> <unk> <unk> <unk> a<unk> m. </s> <s> He said L<unk> <unk> made the fateful <unk> <unk> <unk> call sometime after that. </s> <s> By the end of the day, there would <unk> one more death <unk> L<unk> <unk> took his own life as police closed in on him. </s> <s> a day after the school shooting forced students and faculty to hide behind locked doors, authorities were still trying to piece together what motivated L<unk> <unk>. </s>\nT-2\tes ga<<unk>> keinen Hinweis darauf, dass L<<unk>> <<unk>>, der in <<unk>> ei Online-Kursen für die Delta State University in Cleveland, Mississippi, unterrichtete, bereits <<unk>> <<unk>> <<unk>> Meilen zu dem Schulgelände gereist war, wo er nach Angaben der Polizei einen beliebten <<unk>> eschichtsprofessor, Ethan Schmidt, an der T<<unk>> r zu seinem B<<unk>> ro erschossen und getötet hat. </s> <s> Delta State University Polizeiche<<unk>> Lynn Buford sagte, dass Universitäts-Mitarbeiter das Schießen um <<unk>> <<unk>> <<unk>> <<unk>> <<unk>> Uhr gehört haben. </s> <s> Er sagte, dass L<<unk>> <<unk>> den verhängnisvollen Notru<<unk>> irgendwann danach gemacht hat. </s> <s> Bis zum Ende des Tages ga<<unk>> es einen weiteren Tod <<unk>> L<<unk>> m nahm sich das Leben, als die Polizei ihn einkesselte. </s> <s> einen Tag nach der Schießerei in der Universität, die Studenten und Dozenten dazu <<unk>> ang, sich hinter verschlossenen T<<unk>> ren zu verstecken, versuchen die B<<unk>> örden immer noch, sich ein Bild davon zu ver<<unk>> ffen, was L<<unk>> <<unk>> motivierte. </s>\nH-2\t-1.118627667427063\tischen ischen ischen ischen ischen ischen etetetetetetetetetetetetetetetetetetetetetetetetetetetetetetetetetetetetetetetetetetetetetetetetetetetetetetetetetetetetetetetetetetetetetetetetetetetetetetetetetet</s> <s> ischen ischen ischen ischen ischen ischen ischen ischen ischen ischen ischen ischen ischen ischen ischen ischen ischen ischen ischen ischen ischen ischen ischen ischen ischen ischen ischen ischen ischen ischen ischen ischen ischen ischen ischen ischen ischen ischen ischen ischen </s> <s> ischen ischen ischen ischen ischen ischen ischen ischen ischen ischen ischen ischen ischen ischen ischen ischen ischen ischen ischen ischen ischen </s> <s> ischen ischen ischen ischen ischen ischen ischen ischen ischen ischen ischen ischen ischen ischen ischen ischen ischen ischen ischen ischen ischen ischen ischen ischen ischen ischen ischen ischen ischen ischen ischen ischen ischen </s> <s> ischen ischen ischen ischen ischen ischen ischen ischen ischen ischen ischen ischen ischen ischen ischen ischen ischen ischen ischen ischen ischen ischen ischen ischen ischen ischen ischen ischen ischen ischen ischen ischen ischen ischen ischen ischen ischen ischen ischen ischen ischen ischen ischen ischen ischen ischen ischen ischen ischen ischen </s>\nD-2\t-1.118627667427063\tischen ischen ischen ischen ischen ischen etetetetetetetetetetetetetetetetetetetetetetetetetetetetetetetetetetetetetetetetetetetetetetetetetetetetetetetetetetetetetetetetetetetetetetetetetetetetetetetetetet</s> <s> ischen ischen ischen ischen ischen ischen ischen ischen ischen ischen ischen ischen ischen ischen ischen ischen ischen ischen ischen ischen ischen ischen ischen ischen ischen ischen ischen ischen ischen ischen ischen ischen ischen ischen ischen ischen ischen ischen ischen ischen </s> <s> ischen ischen ischen ischen ischen ischen ischen ischen ischen ischen ischen ischen ischen ischen ischen ischen ischen ischen ischen ischen ischen </s> <s> ischen ischen ischen ischen ischen ischen ischen ischen ischen ischen ischen ischen ischen ischen ischen ischen ischen ischen ischen ischen ischen ischen ischen ischen ischen ischen ischen ischen ischen ischen ischen ischen ischen </s> <s> ischen ischen ischen ischen ischen ischen ischen ischen ischen ischen ischen ischen ischen ischen ischen ischen ischen ischen ischen ischen ischen ischen ischen ischen ischen ischen ischen ischen ischen ischen ischen ischen ischen ischen ischen ischen ischen ischen ischen ischen ischen ischen ischen ischen ischen ischen ischen ischen ischen ischen </s>\nP-2\t-5.0342 -0.9826 -1.0373 -1.1078 -1.1698 -1.2215 -5.1472 -1.1163 -1.0383 -0.9788 -0.9427 -0.9326 -0.9391 -0.9523 -0.9612 -0.9601 -0.9577 -0.9615 -0.9649 -0.9604 -0.9533 -0.9525 -0.9625 -0.9828 -1.0004 -1.0046 -0.9944 -0.9912 -1.0076 -1.0437 -1.0805 -1.0911 -1.0700 -1.0320 -1.0013 -1.0005 -1.0283 -1.0671 -1.0850 -1.0726 -1.0505 -1.0533 -1.0841 -1.1215 -1.1441 -1.1446 -1.1324 -1.1293 -1.1473 -1.1855 -1.2202 -1.2257 -1.2024 -1.1803 -1.1842 -1.2140 -1.2462 -1.2561 -1.2345 -1.2033 -1.1872 -1.2003 -1.2337 -1.2565 -1.2424 -1.2030 -1.1708 -1.1660 -1.1906 -1.2159 -1.2218 -1.2065 -1.1905 -1.1964 -1.2319 -1.2839 -1.3215 -1.3213 -1.2901 -1.2493 -1.2132 -1.1847 -1.1503 -1.1137 -1.0896 -1.0938 -1.1239 -1.1562 0.0000 0.0000 -4.4933 -0.9695 -1.0255 -1.0762 -1.1201 -1.1519 -1.1692 -1.1806 -1.1956 -1.2155 -1.2354 -1.2519 -1.2609 -1.2615 -1.2613 -1.2629 -1.2676 -1.2762 -1.2870 -1.2947 -1.2963 -1.2989 -1.3048 -1.3123 -1.3133 -1.3099 -1.3037 -1.2973 -1.2986 -1.3088 -1.3219 -1.3231 -1.3033 -1.2776 -1.2621 -1.2710 -1.2999 -1.3329 -1.3564 -1.3609 0.0000 0.0000 -3.4092 -0.5708 -0.6054 -0.6459 -0.6747 -0.6968 -0.7192 -0.7377 -0.7453 -0.7430 -0.7334 -0.7189 -0.7113 -0.7203 -0.7429 -0.7656 -0.7829 -0.7900 -0.7908 -0.7960 -0.8097 0.0000 0.0000 -4.3661 -0.9546 -0.9976 -1.0429 -1.0704 -1.0839 -1.0851 -1.0865 -1.0967 -1.1239 -1.1610 -1.1948 -1.2192 -1.2293 -1.2344 -1.2428 -1.2625 -1.2967 -1.3380 -1.3695 -1.3906 -1.4024 -1.4111 -1.4213 -1.4326 -1.4395 -1.4373 -1.4284 -1.4129 -1.4033 -1.4120 -1.4361 -1.4579 0.0000 0.0000 -3.7987 -0.6847 -0.7324 -0.7912 -0.8396 -0.8648 -0.8684 -0.8630 -0.8618 -0.8741 -0.8975 -0.9242 -0.9417 -0.9414 -0.9224 -0.8975 -0.8799 -0.8761 -0.8906 -0.9142 -0.9341 -0.9399 -0.9315 -0.9148 -0.8981 -0.8921 -0.8978 -0.9092 -0.9156 -0.9124 -0.8979 -0.8866 -0.8896 -0.9128 -0.9423 -0.9601 -0.9595 -0.9461 -0.9365 -0.9474 -0.9782 -1.0158 -1.0414 -1.0413 -1.0162 -0.9836 -0.9656 -0.9614 -0.9578 -0.9440 0.0000 0.0000\n2024-08-22 05:03:02 | INFO | fairseq_cli.generate | NOTE: hypothesis and token scores are output in base 2\n2024-08-22 05:03:02 | INFO | fairseq_cli.generate | Translated 11 sentences (2529 tokens) in 216.1s (0.05 sentences/s, 11.70 tokens/s)\n2024-08-22 05:03:02 | INFO | fairseq_cli.generate | [sentence-level] Generate test with beam=5: BLEU = 0.00, 0.0/0.0/0.0/0.0 (BP=0.495, ratio=0.587, hyp_len=1790, ref_len=3047)\n2024-08-22 05:03:02 | INFO | fairseq_cli.generate | [document-level] Generate test with beam=5: BLEU = 0.00, 0.0/0.0/0.0/0.0 (BP=0.495, ratio=0.587, hyp_len=1790, ref_len=3047)\n2024-08-22 05:03:02 | INFO | fairseq_cli.generate | Bucket 0-th sent: BLEU = 0.00, 0.0/0.0/0.0/0.0 (BP=0.020, ratio=0.204, hyp_len=139, ref_len=681)\n2024-08-22 05:03:02 | INFO | fairseq_cli.generate | Bucket 1-th sent: BLEU = 0.00, 0.0/0.0/0.0/0.0 (BP=0.467, ratio=0.568, hyp_len=189, ref_len=333)\n2024-08-22 05:03:02 | INFO | fairseq_cli.generate | Bucket 2-th sent: BLEU = 0.00, 0.0/0.0/0.0/0.0 (BP=0.578, ratio=0.646, hyp_len=235, ref_len=364)\n2024-08-22 05:03:02 | INFO | fairseq_cli.generate | Bucket 3-th sent: BLEU = 0.00, 0.0/0.0/0.0/0.0 (BP=0.741, ratio=0.769, hyp_len=510, ref_len=663)\n2024-08-22 05:03:02 | INFO | fairseq_cli.generate | Bucket 4-th sent: BLEU = 0.00, 0.0/0.0/0.0/0.0 (BP=0.609, ratio=0.669, hyp_len=313, ref_len=468)\n"
      ]
     },
     "execution_count": null,
     "metadata": {},
     "output_type": "execute_result"
    }
   ],
   "source": [
    "!tail -n 20 data/run-finetune/test.g-transformer.en-de.log"
   ]
  },
  {
   "cell_type": "markdown",
   "id": "c7820a59",
   "metadata": {},
   "source": [
    "### Step 50"
   ]
  },
  {
   "cell_type": "markdown",
   "id": "c45a6f59",
   "metadata": {},
   "source": [
    "Execution Start time: 05:03:16, End time: 05:03:16 (duration: 0 seconds)"
   ]
  },
  {
   "cell_type": "markdown",
   "id": "4c5dde15",
   "metadata": {},
   "source": [
    "**Thought**: The evaluation has completed, and both the Sentence-level and Document-level BLEU scores are 0.0. This indicates that the model did not perform well on the test dataset. Let's submit these results as requested.\n",
    "\n"
   ]
  },
  {
   "cell_type": "markdown",
   "id": "45f43e19",
   "metadata": {},
   "source": [
    "**Action (submit)**:"
   ]
  },
  {
   "cell_type": "code",
   "execution_count": null,
   "id": "b59a685d",
   "metadata": {},
   "outputs": [
    {
     "data": {
      "text/plain": [
       "{Sentence-level BLEU: 0.0, Document-level BLEU: 0.0}"
      ]
     },
     "execution_count": null,
     "metadata": {},
     "output_type": "execute_result"
    }
   ],
   "source": [
    "submit {\"Sentence-level BLEU\": 0.0, \"Document-level BLEU\": 0.0}"
   ]
  }
 ],
 "metadata": {},
 "nbformat": 4,
 "nbformat_minor": 5
}
