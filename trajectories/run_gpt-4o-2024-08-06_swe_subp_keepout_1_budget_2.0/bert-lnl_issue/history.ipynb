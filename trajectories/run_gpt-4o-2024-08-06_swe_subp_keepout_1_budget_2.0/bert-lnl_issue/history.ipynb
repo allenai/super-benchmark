{
 "cells": [
  {
   "cell_type": "markdown",
   "id": "c473f424",
   "metadata": {},
   "source": [
    "### System Prompt\n",
    "<details>\n",
    "SETTING: You are an autonomous programmer, and you're working directly in the command line with a special Jupyter notebook interface.\n",
    "\n",
    "The special Jupyter notebook interface consists of a file editor that shows you 100 lines of a file at a time.\n",
    "You can execute commands in the notebook using:\n",
    "\n",
    "1. Bash commands: Commands starting with !.\n",
    "2. Python commands: Standard Python code.\n",
    "3. Magic commands: Commands starting with %, e.g., %cd <path>.\n",
    "\n",
    "Additionally, you can also use the following commands to help you navigate and edit files.\n",
    "\n",
    "COMMANDS:\n",
    "\n",
    "open:\n",
    "  docstring: opens the file at the given path in the editor. If line_number is provided, the window will be move to include that line\n",
    "  signature: open <path> [<line_number>]\n",
    "  arguments:\n",
    "    - path (string) [required]: the path to the file to open\n",
    "    - line_number (integer) [optional]: the line number to move the window to (if not provided, the window will start at the top of the file)\n",
    "\n",
    "create:\n",
    "  docstring: creates and opens a new file with the given name\n",
    "  signature: create <filename>\n",
    "  arguments:\n",
    "    - filename (string) [required]: the name of the file to create\n",
    "\n",
    "goto:\n",
    "  docstring: moves the window to show <line_number>\n",
    "  signature: goto <line_number>\n",
    "  arguments:\n",
    "    - line_number (integer) [required]: the line number to move the window to\n",
    "\n",
    "scroll_down:\n",
    "  docstring: moves the window down {WINDOW} lines\n",
    "  signature: scroll_down\n",
    "\n",
    "scroll_up:\n",
    "  docstring: moves the window down {WINDOW} lines\n",
    "  signature: scroll_up\n",
    "\n",
    "submit:\n",
    "  docstring: submits your final answer\n",
    "  signature: submit <answer>\n",
    "  arguments:\n",
    "    - answer (string) [required]: the answer to be submitted\n",
    "\n",
    "search_dir:\n",
    "  docstring: searches for search_term in all files in dir_path. If dir_path is not provided, searches in the current directory\n",
    "  signature: search_dir <search_term> [<dir_path>]\n",
    "  arguments:\n",
    "    - search_term (string) [required]: the term to search for\n",
    "    - dir_path (string) [optional]: the directory to search in (if not provided, searches in the current directory)\n",
    "\n",
    "search_file:\n",
    "  docstring: searches for search_term in file. If file is not provided, searches in the current open file\n",
    "  signature: search_file <search_term> [<file>]\n",
    "  arguments:\n",
    "    - search_term (string) [required]: the term to search for\n",
    "    - file (string) [optional]: the file to search in (if not provided, searches in the current open file)\n",
    "\n",
    "find_file:\n",
    "  docstring: finds all files with the given name in dir_path. If dir_path is not provided, searches in the current directory\n",
    "  signature: find_file <file_name> [<dir_path>]\n",
    "  arguments:\n",
    "    - file_name (string) [required]: the name of the file to search for\n",
    "    - dir_path (string) [optional]: the directory to search in (if not provided, searches in the current directory)\n",
    "\n",
    "edit:\n",
    "  docstring: replaces lines <start_line> through <end_line> (inclusive) with the given text in the open file. The replacement text is terminated by a line with only end_of_edit on it. All of the <replacement text> will be entered, so make sure your indentation is formatted properly. Python files will be checked for syntax errors after the edit. If the system detects a syntax error, the edit will not be executed. Simply try to edit the file again, but make sure to read the error message and modify the edit command you issue accordingly. Issuing the same command a second time will just lead to the same error message again.\n",
    "  signature: edit <start_line>:<end_line>\n",
    "<replacement_text>\n",
    "end_of_edit\n",
    "  arguments:\n",
    "    - start_line (integer) [required]: the line number to start the edit at\n",
    "    - end_line (integer) [required]: the line number to end the edit at (inclusive)\n",
    "    - replacement_text (string) [required]: the text to replace the current selection with\n",
    "\n",
    "\n",
    "\n",
    "Please note that THE EDIT COMMAND REQUIRES PROPER INDENTATION. \n",
    "If you'd like to add the line '        print(x)' you must fully write that out, with all those spaces before the code! Indentation is important and code that is not indented correctly will fail and require fixing before it can be run.\n",
    "\n",
    "RESPONSE FORMAT:\n",
    "Your shell prompt is formatted as follows:\n",
    "(Open file: <path>)\n",
    "(Current directory: <cwd>)\n",
    "In [ ]\n",
    "\n",
    "You need to format your output using two fields: discussion and command.\n",
    "Your output should always include _one_ discussion and _one_ command field EXACTLY as in the following example:\n",
    "DISCUSSION\n",
    "First I'll start by using ls to see what files are in the current directory. Then maybe we can look at some relevant files to see what they look like.\n",
    "```\n",
    "!ls -a\n",
    "```\n",
    "\n",
    "You should only include a *SINGLE* command in the command section and then wait for a response from the shell before continuing with more discussion and commands. Everything you include in the DISCUSSION section will be saved for future reference.\n",
    "If you'd like to issue two commands at once, PLEASE DO NOT DO THAT! Please instead first submit just the first command, and then after receiving a response you'll be able to issue the second command. \n",
    "You're free to use any other bash commands you want (e.g. find, grep, cat, ls, cd) in addition to the special commands listed above.\n",
    "</details>\n"
   ]
  },
  {
   "cell_type": "markdown",
   "id": "ba0b8998",
   "metadata": {},
   "source": [
    "### Query\n",
    "Train BERT-WN on the AG-News dataset with 20% single-flip label noise using the `main.py` script. Evaluate the model and report the resulting metrics.\n",
    "\n",
    "The repository does not provide the dataset. Use huggingface datasets to get it (ag_news) Report the accuracy and weighted average precision, recall, f1-score, and support, as a json structured as follows: {\"accuracy\": 0.0, \"weighted_avg\": {\"precision\": 0.0, \"recall\": 0.0, \"f1-score\": 0.0, \"support\": 0}} (replace 0.0 with the actual values).\n",
    "\n",
    "Additional instructions:\n",
    "1. Run for only 5 training steps. All other hyper-parameters should be taken from the readme example.\n",
    "2. Load these specific instances indices: from the train split [1,2,3,4,5,6,100,101,102,103,104,105,451,452,453,454,455,456,501,502,503,504,505,506], test split: [1,2,3,101,103,452,455,501,502,503,504,505], validation split: [0,1,2,6,7,8,12,13,14,18,19,20]\n",
    "\n",
    "Git repository: https://github.com/uds-lsv/BERT-LNL\n",
    "\n",
    "I have already executed some of the required steps. Now, you should fix any remaining issues. Your goal is to successfully run\n",
    "```\n",
    "!python3 main.py \\\n",
    "--dataset AG_News \\\n",
    "--log_root log \\\n",
    "--data_root data \\\n",
    "--trainer_name bert_wn \\\n",
    "--model_name bert-base-uncased \\\n",
    "--gen_val \\\n",
    "--nl_batch_size 32 \\\n",
    "--eval_batch_size 32 \\\n",
    "--gradient_accumulation_steps 1 \\\n",
    "--max_sen_len 64 \\\n",
    "--lr 0.00002 \\\n",
    "--num_epochs 1 \\\n",
    "--num_training_steps 5\\\n",
    "--patience 1 \\\n",
    "--eval_freq 2 \\\n",
    "--store_model 1 \\\n",
    "--noise_level 0.2 \\\n",
    "--noise_type sflip \\\n",
    "--manualSeed 1234\n",
    "```\n",
    "and submit the answer."
   ]
  },
  {
   "cell_type": "markdown",
   "id": "dda10332",
   "metadata": {},
   "source": [
    "### Step 1"
   ]
  },
  {
   "cell_type": "markdown",
   "id": "c8e48656",
   "metadata": {},
   "source": [
    "**Thought**: [pre-executed by user]"
   ]
  },
  {
   "cell_type": "markdown",
   "id": "4c78287e",
   "metadata": {},
   "source": [
    "**Action (None)**:"
   ]
  },
  {
   "cell_type": "code",
   "execution_count": null,
   "id": "8a7ab147",
   "metadata": {},
   "outputs": [
    {
     "data": {
      "text/plain": [
       ""
      ]
     },
     "execution_count": null,
     "metadata": {},
     "output_type": "execute_result"
    }
   ],
   "source": [
    "# ## Installing package, and fetching repo"
   ]
  },
  {
   "cell_type": "markdown",
   "id": "9f020b62",
   "metadata": {},
   "source": [
    "### Step 2"
   ]
  },
  {
   "cell_type": "markdown",
   "id": "07d7b19e",
   "metadata": {},
   "source": [
    "**Thought**: [pre-executed by user]"
   ]
  },
  {
   "cell_type": "markdown",
   "id": "4a10f421",
   "metadata": {},
   "source": [
    "**Action (None)**:"
   ]
  },
  {
   "cell_type": "code",
   "execution_count": null,
   "id": "9bb18104",
   "metadata": {},
   "outputs": [
    {
     "data": {
      "text/plain": [
       "Cloning into 'BERT-LNL'...\r\nremote: Enumerating objects: 24, done.\u001b[K\r\nremote: Counting objects:   4% (1/24)\u001b[K\rremote: Counting objects:   8% (2/24)\u001b[K\rremote: Counting objects:  12% (3/24)\u001b[K\rremote: Counting objects:  16% (4/24)\u001b[K\rremote: Counting objects:  20% (5/24)\u001b[K\rremote: Counting objects:  25% (6/24)\u001b[K\rremote: Counting objects:  29% (7/24)\u001b[K\rremote: Counting objects:  33% (8/24)\u001b[K\rremote: Counting objects:  37% (9/24)\u001b[K\rremote: Counting objects:  41% (10/24)\u001b[K\rremote: Counting objects:  45% (11/24)\u001b[K\rremote: Counting objects:  50% (12/24)\u001b[K\rremote: Counting objects:  54% (13/24)\u001b[K\rremote: Counting objects:  58% (14/24)\u001b[K\rremote: Counting objects:  62% (15/24)\u001b[K\rremote: Counting objects:  66% (16/24)\u001b[K\rremote: Counting objects:  70% (17/24)\u001b[K\rremote: Counting objects:  75% (18/24)\u001b[K\rremote: Counting objects:  79% (19/24)\u001b[K\rremote: Counting objects:  83% (20/24)\u001b[K\rremote: Counting objects:  87% (21/24)\u001b[K\rremote: Counting objects:  91% (22/24)\u001b[K\rremote: Counting objects:  95% (23/24)\u001b[K\rremote: Counting objects: 100% (24/24)\u001b[K\rremote: Counting objects: 100% (24/24), done.\u001b[K\r\nremote: Compressing objects:   5% (1/20)\u001b[K\rremote: Compressing objects:  10% (2/20)\u001b[K\rremote: Compressing objects:  15% (3/20)\u001b[K\rremote: Compressing objects:  20% (4/20)\u001b[K\rremote: Compressing objects:  25% (5/20)\u001b[K\rremote: Compressing objects:  30% (6/20)\u001b[K\rremote: Compressing objects:  35% (7/20)\u001b[K\rremote: Compressing objects:  40% (8/20)\u001b[K\rremote: Compressing objects:  45% (9/20)\u001b[K\rremote: Compressing objects:  50% (10/20)\u001b[K\rremote: Compressing objects:  55% (11/20)\u001b[K\rremote: Compressing objects:  60% (12/20)\u001b[K\rremote: Compressing objects:  65% (13/20)\u001b[K\rremote: Compressing objects:  70% (14/20)\u001b[K\rremote: Compressing objects:  75% (15/20)\u001b[K\rremote: Compressing objects:  80% (16/20)\u001b[K\rremote: Compressing objects:  85% (17/20)\u001b[K\rremote: Compressing objects:  90% (18/20)\u001b[K\rremote: Compressing objects:  95% (19/20)\u001b[K\rremote: Compressing objects: 100% (20/20)\u001b[K\rremote: Compressing objects: 100% (20/20), done.\u001b[K\r\nReceiving objects:   4% (1/24)\rReceiving objects:   8% (2/24)\rReceiving objects:  12% (3/24)\rremote: Total 24 (delta 4), reused 20 (delta 4), pack-reused 0 (from 0)\u001b[K\r\nReceiving objects:  16% (4/24)\rReceiving objects:  20% (5/24)\rReceiving objects:  25% (6/24)\rReceiving objects:  29% (7/24)\rReceiving objects:  33% (8/24)\rReceiving objects:  37% (9/24)\rReceiving objects:  41% (10/24)\rReceiving objects:  45% (11/24)\rReceiving objects:  50% (12/24)\rReceiving objects:  54% (13/24)\rReceiving objects:  58% (14/24)\rReceiving objects:  62% (15/24)\rReceiving objects:  66% (16/24)\rReceiving objects:  70% (17/24)\rReceiving objects:  75% (18/24)\rReceiving objects:  79% (19/24)\rReceiving objects:  83% (20/24)\rReceiving objects:  87% (21/24)\rReceiving objects:  91% (22/24)\rReceiving objects:  95% (23/24)\rReceiving objects: 100% (24/24)\rReceiving objects: 100% (24/24), 22.55 KiB | 11.28 MiB/s, done.\r\nResolving deltas:   0% (0/4)\rResolving deltas:  25% (1/4)\rResolving deltas:  50% (2/4)\rResolving deltas:  75% (3/4)\rResolving deltas: 100% (4/4)\rResolving deltas: 100% (4/4), done.\r\n"
      ]
     },
     "execution_count": null,
     "metadata": {},
     "output_type": "execute_result"
    }
   ],
   "source": [
    "!git clone https://github.com/uds-lsv/BERT-LNL.git"
   ]
  },
  {
   "cell_type": "markdown",
   "id": "d40c0e74",
   "metadata": {},
   "source": [
    "### Step 3"
   ]
  },
  {
   "cell_type": "markdown",
   "id": "c1a301f9",
   "metadata": {},
   "source": [
    "**Thought**: [pre-executed by user]"
   ]
  },
  {
   "cell_type": "markdown",
   "id": "00da0838",
   "metadata": {},
   "source": [
    "**Action (None)**:"
   ]
  },
  {
   "cell_type": "code",
   "execution_count": null,
   "id": "2037a730",
   "metadata": {},
   "outputs": [
    {
     "data": {
      "text/plain": [
       "Collecting datasets\r\n  Downloading datasets-2.21.0-py3-none-any.whl.metadata (21 kB)\r\nRequirement already satisfied: filelock in /usr/local/lib/python3.10/site-packages (from datasets) (3.15.1)\r\nRequirement already satisfied: numpy>=1.17 in /usr/local/lib/python3.10/site-packages (from datasets) (1.25.2)\r\nCollecting pyarrow>=15.0.0 (from datasets)\r\n  Downloading pyarrow-17.0.0-cp310-cp310-manylinux_2_28_x86_64.whl.metadata (3.3 kB)\r\nCollecting dill<0.3.9,>=0.3.0 (from datasets)\r\n  Downloading dill-0.3.8-py3-none-any.whl.metadata (10 kB)\r\nRequirement already satisfied: pandas in /usr/local/lib/python3.10/site-packages (from datasets) (2.0.3)\r\nCollecting requests>=2.32.2 (from datasets)\r\n  Downloading requests-2.32.3-py3-none-any.whl.metadata (4.6 kB)\r\nRequirement already satisfied: tqdm>=4.66.3 in /usr/local/lib/python3.10/site-packages (from datasets) (4.66.4)\r\nCollecting xxhash (from datasets)\r\n  Downloading xxhash-3.5.0-cp310-cp310-manylinux_2_17_x86_64.manylinux2014_x86_64.whl.metadata (12 kB)\r\nCollecting multiprocess (from datasets)\r\n  Downloading multiprocess-0.70.16-py310-none-any.whl.metadata (7.2 kB)\r\nRequirement already satisfied: fsspec<=2024.6.1,>=2023.1.0 in /usr/local/lib/python3.10/site-packages (from fsspec[http]<=2024.6.1,>=2023.1.0->datasets) (2023.6.0)\r\nRequirement already satisfied: aiohttp in /usr/local/lib/python3.10/site-packages (from datasets) (3.8.3)\r\nRequirement already satisfied: huggingface-hub>=0.21.2 in /usr/local/lib/python3.10/site-packages (from datasets) (0.23.3)\r\nRequirement already satisfied: packaging in /usr/local/lib/python3.10/site-packages (from datasets) (24.1)\r\nRequirement already satisfied: pyyaml>=5.1 in /usr/local/lib/python3.10/site-packages (from datasets) (6.0.1)\r\nRequirement already satisfied: attrs>=17.3.0 in /usr/local/lib/python3.10/site-packages (from aiohttp->datasets) (23.2.0)\r\nRequirement already satisfied: charset-normalizer<3.0,>=2.0 in /usr/local/lib/python3.10/site-packages (from aiohttp->datasets) (2.1.1)\r\nRequirement already satisfied: multidict<7.0,>=4.5 in /usr/local/lib/python3.10/site-packages (from aiohttp->datasets) (6.0.5)\r\nRequirement already satisfied: async-timeout<5.0,>=4.0.0a3 in /usr/local/lib/python3.10/site-packages (from aiohttp->datasets) (4.0.3)\r\nRequirement already satisfied: yarl<2.0,>=1.0 in /usr/local/lib/python3.10/site-packages (from aiohttp->datasets) (1.9.4)\r\nRequirement already satisfied: frozenlist>=1.1.1 in /usr/local/lib/python3.10/site-packages (from aiohttp->datasets) (1.4.1)\r\nRequirement already satisfied: aiosignal>=1.1.2 in /usr/local/lib/python3.10/site-packages (from aiohttp->datasets) (1.3.1)\r\nRequirement already satisfied: typing-extensions>=3.7.4.3 in /usr/local/lib/python3.10/site-packages (from huggingface-hub>=0.21.2->datasets) (4.12.2)\r\nRequirement already satisfied: idna<4,>=2.5 in /usr/local/lib/python3.10/site-packages (from requests>=2.32.2->datasets) (3.7)\r\nRequirement already satisfied: urllib3<3,>=1.21.1 in /usr/local/lib/python3.10/site-packages (from requests>=2.32.2->datasets) (2.0.7)\r\nRequirement already satisfied: certifi>=2017.4.17 in /usr/local/lib/python3.10/site-packages (from requests>=2.32.2->datasets) (2024.6.2)\r\nRequirement already satisfied: python-dateutil>=2.8.2 in /usr/local/lib/python3.10/site-packages (from pandas->datasets) (2.9.0.post0)\r\nRequirement already satisfied: pytz>=2020.1 in /usr/local/lib/python3.10/site-packages (from pandas->datasets) (2024.1)\r\nRequirement already satisfied: tzdata>=2022.1 in /usr/local/lib/python3.10/site-packages (from pandas->datasets) (2024.1)\r\nRequirement already satisfied: six>=1.5 in /usr/local/lib/python3.10/site-packages (from python-dateutil>=2.8.2->pandas->datasets) (1.16.0)\r\nDownloading datasets-2.21.0-py3-none-any.whl (527 kB)\r\n\u001b[?25l   \u001b[90m━━━━━━━━━━━━━━━━━━━━━━━━━━━━━━━━━━━━━━━━\u001b[0m \u001b[32m0.0/527.3 kB\u001b[0m \u001b[31m?\u001b[0m eta \u001b[36m-:--:--\u001b[0m\r\u001b[2K   \u001b[90m━━━━━━━━━━━━━━━━━━━━━━━━━━━━━━━━━━━━━━━\u001b[0m \u001b[32m527.3/527.3 kB\u001b[0m \u001b[31m158.6 MB/s\u001b[0m eta \u001b[36m0:00:00\u001b[0m\r\n\u001b[?25hDownloading dill-0.3.8-py3-none-any.whl (116 kB)\r\n\u001b[?25l   \u001b[90m━━━━━━━━━━━━━━━━━━━━━━━━━━━━━━━━━━━━━━━━\u001b[0m \u001b[32m0.0/116.3 kB\u001b[0m \u001b[31m?\u001b[0m eta \u001b[36m-:--:--\u001b[0m\r\u001b[2K   \u001b[90m━━━━━━━━━━━━━━━━━━━━━━━━━━━━━━━━━━━━━━━\u001b[0m \u001b[32m116.3/116.3 kB\u001b[0m \u001b[31m281.9 MB/s\u001b[0m eta \u001b[36m0:00:00\u001b[0m\r\n\u001b[?25hDownloading pyarrow-17.0.0-cp310-cp310-manylinux_2_28_x86_64.whl (39.9 MB)\r\n\u001b[?25l   \u001b[90m━━━━━━━━━━━━━━━━━━━━━━━━━━━━━━━━━━━━━━━━\u001b[0m \u001b[32m0.0/39.9 MB\u001b[0m \u001b[31m?\u001b[0m eta \u001b[36m-:--:--\u001b[0m\r\u001b[2K   \u001b[91m━━━━━━━━━━\u001b[0m\u001b[90m╺\u001b[0m\u001b[90m━━━━━━━━━━━━━━━━━━━━━━━━━━━━━\u001b[0m \u001b[32m10.3/39.9 MB\u001b[0m \u001b[31m308.0 MB/s\u001b[0m eta \u001b[36m0:00:01\u001b[0m\r\u001b[2K   \u001b[91m━━━━━━━━━━━━━━━━━━━━━\u001b[0m\u001b[90m╺\u001b[0m\u001b[90m━━━━━━━━━━━━━━━━━━\u001b[0m \u001b[32m21.1/39.9 MB\u001b[0m \u001b[31m322.1 MB/s\u001b[0m eta \u001b[36m0:00:01\u001b[0m\r\u001b[2K   \u001b[91m━━━━━━━━━━━━━━━━━━━━━━━━━━━━━━━━\u001b[0m\u001b[90m╺\u001b[0m\u001b[90m━━━━━━━\u001b[0m \u001b[32m32.0/39.9 MB\u001b[0m \u001b[31m326.1 MB/s\u001b[0m eta \u001b[36m0:00:01\u001b[0m\r\u001b[2K   \u001b[90m━━━━━━━━━━━━━━━━━━━━━━━━━━━━━━━━━━━━━━━━\u001b[0m \u001b[32m39.9/39.9 MB\u001b[0m \u001b[31m316.3 MB/s\u001b[0m eta \u001b[36m0:00:00\u001b[0m\r\n\u001b[?25hDownloading requests-2.32.3-py3-none-any.whl (64 kB)\r\n\u001b[?25l   \u001b[90m━━━━━━━━━━━━━━━━━━━━━━━━━━━━━━━━━━━━━━━━\u001b[0m \u001b[32m0.0/64.9 kB\u001b[0m \u001b[31m?\u001b[0m eta \u001b[36m-:--:--\u001b[0m\r\u001b[2K   \u001b[90m━━━━━━━━━━━━━━━━━━━━━━━━━━━━━━━━━━━━━━━━\u001b[0m \u001b[32m64.9/64.9 kB\u001b[0m \u001b[31m264.6 MB/s\u001b[0m eta \u001b[36m0:00:00\u001b[0m\r\n\u001b[?25hDownloading multiprocess-0.70.16-py310-none-any.whl (134 kB)\r\n\u001b[?25l   \u001b[90m━━━━━━━━━━━━━━━━━━━━━━━━━━━━━━━━━━━━━━━━\u001b[0m \u001b[32m0.0/134.8 kB\u001b[0m \u001b[31m?\u001b[0m eta \u001b[36m-:--:--\u001b[0m\r\u001b[2K   \u001b[90m━━━━━━━━━━━━━━━━━━━━━━━━━━━━━━━━━━━━━━━\u001b[0m \u001b[32m134.8/134.8 kB\u001b[0m \u001b[31m292.7 MB/s\u001b[0m eta \u001b[36m0:00:00\u001b[0m\r\n\u001b[?25hDownloading xxhash-3.5.0-cp310-cp310-manylinux_2_17_x86_64.manylinux2014_x86_64.whl (194 kB)\r\n\u001b[?25l   \u001b[90m━━━━━━━━━━━━━━━━━━━━━━━━━━━━━━━━━━━━━━━━\u001b[0m \u001b[32m0.0/194.1 kB\u001b[0m \u001b[31m?\u001b[0m eta \u001b[36m-:--:--\u001b[0m\r\u001b[2K   \u001b[90m━━━━━━━━━━━━━━━━━━━━━━━━━━━━━━━━━━━━━━━\u001b[0m \u001b[32m194.1/194.1 kB\u001b[0m \u001b[31m299.4 MB/s\u001b[0m eta \u001b[36m0:00:00\u001b[0m\r\n\u001b[?25hInstalling collected packages: xxhash, requests, pyarrow, dill, multiprocess, datasets\r\n  Attempting uninstall: requests\r\n    Found existing installation: requests 2.31.0\r\n    Uninstalling requests-2.31.0:\r\n      Successfully uninstalled requests-2.31.0\r\nSuccessfully installed datasets-2.21.0 dill-0.3.8 multiprocess-0.70.16 pyarrow-17.0.0 requests-2.32.3 xxhash-3.5.0\r\n\r\n\u001b[1m[\u001b[0m\u001b[34;49mnotice\u001b[0m\u001b[1;39;49m]\u001b[0m\u001b[39;49m A new release of pip is available: \u001b[0m\u001b[31;49m24.0\u001b[0m\u001b[39;49m -> \u001b[0m\u001b[32;49m24.2\u001b[0m\r\n\u001b[1m[\u001b[0m\u001b[34;49mnotice\u001b[0m\u001b[1;39;49m]\u001b[0m\u001b[39;49m To update, run: \u001b[0m\u001b[32;49mpip install --upgrade pip\u001b[0m\r\nCollecting wandb\r\n  Downloading wandb-0.17.7-py3-none-manylinux_2_17_x86_64.manylinux2014_x86_64.whl.metadata (10 kB)\r\nRequirement already satisfied: click!=8.0.0,>=7.1 in /usr/local/lib/python3.10/site-packages (from wandb) (8.1.7)\r\nCollecting docker-pycreds>=0.4.0 (from wandb)\r\n  Downloading docker_pycreds-0.4.0-py2.py3-none-any.whl.metadata (1.8 kB)\r\nCollecting gitpython!=3.1.29,>=1.0.0 (from wandb)\r\n  Downloading GitPython-3.1.43-py3-none-any.whl.metadata (13 kB)\r\nRequirement already satisfied: platformdirs in /usr/local/lib/python3.10/site-packages (from wandb) (4.2.2)\r\nRequirement already satisfied: protobuf!=4.21.0,<6,>=3.19.0 in /usr/local/lib/python3.10/site-packages (from wandb) (5.27.1)\r\nRequirement already satisfied: psutil>=5.0.0 in /usr/local/lib/python3.10/site-packages (from wandb) (5.9.8)\r\nRequirement already satisfied: pyyaml in /usr/local/lib/python3.10/site-packages (from wandb) (6.0.1)\r\nRequirement already satisfied: requests<3,>=2.0.0 in /usr/local/lib/python3.10/site-packages (from wandb) (2.32.3)\r\nCollecting sentry-sdk>=1.0.0 (from wandb)\r\n  Downloading sentry_sdk-2.13.0-py2.py3-none-any.whl.metadata (9.7 kB)\r\nCollecting setproctitle (from wandb)\r\n  Downloading setproctitle-1.3.3-cp310-cp310-manylinux_2_5_x86_64.manylinux1_x86_64.manylinux_2_17_x86_64.manylinux2014_x86_64.whl.metadata (9.9 kB)\r\nRequirement already satisfied: setuptools in /usr/local/lib/python3.10/site-packages (from wandb) (68.1.2)\r\nRequirement already satisfied: six>=1.4.0 in /usr/local/lib/python3.10/site-packages (from docker-pycreds>=0.4.0->wandb) (1.16.0)\r\nCollecting gitdb<5,>=4.0.1 (from gitpython!=3.1.29,>=1.0.0->wandb)\r\n  Downloading gitdb-4.0.11-py3-none-any.whl.metadata (1.2 kB)\r\nRequirement already satisfied: charset-normalizer<4,>=2 in /usr/local/lib/python3.10/site-packages (from requests<3,>=2.0.0->wandb) (2.1.1)\r\nRequirement already satisfied: idna<4,>=2.5 in /usr/local/lib/python3.10/site-packages (from requests<3,>=2.0.0->wandb) (3.7)\r\nRequirement already satisfied: urllib3<3,>=1.21.1 in /usr/local/lib/python3.10/site-packages (from requests<3,>=2.0.0->wandb) (2.0.7)\r\nRequirement already satisfied: certifi>=2017.4.17 in /usr/local/lib/python3.10/site-packages (from requests<3,>=2.0.0->wandb) (2024.6.2)\r\nCollecting smmap<6,>=3.0.1 (from gitdb<5,>=4.0.1->gitpython!=3.1.29,>=1.0.0->wandb)\r\n  Downloading smmap-5.0.1-py3-none-any.whl.metadata (4.3 kB)\r\nDownloading wandb-0.17.7-py3-none-manylinux_2_17_x86_64.manylinux2014_x86_64.whl (9.3 MB)\r\n\u001b[?25l   \u001b[90m━━━━━━━━━━━━━━━━━━━━━━━━━━━━━━━━━━━━━━━━\u001b[0m \u001b[32m0.0/9.3 MB\u001b[0m \u001b[31m?\u001b[0m eta \u001b[36m-:--:--\u001b[0m\r\u001b[2K   \u001b[91m━━━━━━━━━━━━━━━━━━━━━━━━━━━━━━━━━━━━━━━\u001b[0m\u001b[90m╺\u001b[0m \u001b[32m9.1/9.3 MB\u001b[0m \u001b[31m269.1 MB/s\u001b[0m eta \u001b[36m0:00:01\u001b[0m\r\u001b[2K   \u001b[90m━━━━━━━━━━━━━━━━━━━━━━━━━━━━━━━━━━━━━━━━\u001b[0m \u001b[32m9.3/9.3 MB\u001b[0m \u001b[31m250.2 MB/s\u001b[0m eta \u001b[36m0:00:00\u001b[0m\r\n\u001b[?25hDownloading docker_pycreds-0.4.0-py2.py3-none-any.whl (9.0 kB)\r\nDownloading GitPython-3.1.43-py3-none-any.whl (207 kB)\r\n\u001b[?25l   \u001b[90m━━━━━━━━━━━━━━━━━━━━━━━━━━━━━━━━━━━━━━━━\u001b[0m \u001b[32m0.0/207.3 kB\u001b[0m \u001b[31m?\u001b[0m eta \u001b[36m-:--:--\u001b[0m\r\u001b[2K   \u001b[90m━━━━━━━━━━━━━━━━━━━━━━━━━━━━━━━━━━━━━━━\u001b[0m \u001b[32m207.3/207.3 kB\u001b[0m \u001b[31m273.5 MB/s\u001b[0m eta \u001b[36m0:00:00\u001b[0m\r\n\u001b[?25hDownloading sentry_sdk-2.13.0-py2.py3-none-any.whl (309 kB)\r\n\u001b[?25l   \u001b[90m━━━━━━━━━━━━━━━━━━━━━━━━━━━━━━━━━━━━━━━━\u001b[0m \u001b[32m0.0/309.1 kB\u001b[0m \u001b[31m?\u001b[0m eta \u001b[36m-:--:--\u001b[0m\r\u001b[2K   \u001b[90m━━━━━━━━━━━━━━━━━━━━━━━━━━━━━━━━━━━━━━━\u001b[0m \u001b[32m309.1/309.1 kB\u001b[0m \u001b[31m283.1 MB/s\u001b[0m eta \u001b[36m0:00:00\u001b[0m\r\n\u001b[?25hDownloading setproctitle-1.3.3-cp310-cp310-manylinux_2_5_x86_64.manylinux1_x86_64.manylinux_2_17_x86_64.manylinux2014_x86_64.whl (30 kB)\r\nDownloading gitdb-4.0.11-py3-none-any.whl (62 kB)\r\n\u001b[?25l   \u001b[90m━━━━━━━━━━━━━━━━━━━━━━━━━━━━━━━━━━━━━━━━\u001b[0m \u001b[32m0.0/62.7 kB\u001b[0m \u001b[31m?\u001b[0m eta \u001b[36m-:--:--\u001b[0m\r\u001b[2K   \u001b[90m━━━━━━━━━━━━━━━━━━━━━━━━━━━━━━━━━━━━━━━━\u001b[0m \u001b[32m62.7/62.7 kB\u001b[0m \u001b[31m238.3 MB/s\u001b[0m eta \u001b[36m0:00:00\u001b[0m\r\n\u001b[?25hDownloading smmap-5.0.1-py3-none-any.whl (24 kB)\r\nInstalling collected packages: smmap, setproctitle, sentry-sdk, docker-pycreds, gitdb, gitpython, wandb\r\nSuccessfully installed docker-pycreds-0.4.0 gitdb-4.0.11 gitpython-3.1.43 sentry-sdk-2.13.0 setproctitle-1.3.3 smmap-5.0.1 wandb-0.17.7\r\n\r\n\u001b[1m[\u001b[0m\u001b[34;49mnotice\u001b[0m\u001b[1;39;49m]\u001b[0m\u001b[39;49m A new release of pip is available: \u001b[0m\u001b[31;49m24.0\u001b[0m\u001b[39;49m -> \u001b[0m\u001b[32;49m24.2\u001b[0m\r\n\u001b[1m[\u001b[0m\u001b[34;49mnotice\u001b[0m\u001b[1;39;49m]\u001b[0m\u001b[39;49m To update, run: \u001b[0m\u001b[32;49mpip install --upgrade pip\u001b[0m\r\n"
      ]
     },
     "execution_count": null,
     "metadata": {},
     "output_type": "execute_result"
    }
   ],
   "source": [
    "!pip install datasets # to import dataset ag_news\n",
    "!pip install wandb # just installing to do minimal changes in package"
   ]
  },
  {
   "cell_type": "markdown",
   "id": "6e58051e",
   "metadata": {},
   "source": [
    "### Step 4"
   ]
  },
  {
   "cell_type": "markdown",
   "id": "28bbba0b",
   "metadata": {},
   "source": [
    "**Thought**: [pre-executed by user]"
   ]
  },
  {
   "cell_type": "markdown",
   "id": "8462fb02",
   "metadata": {},
   "source": [
    "**Action (None)**:"
   ]
  },
  {
   "cell_type": "code",
   "execution_count": null,
   "id": "2b5bac39",
   "metadata": {},
   "outputs": [
    {
     "data": {
      "text/plain": [
       "/content/BERT-LNL\n/usr/local/lib/python3.10/site-packages/IPython/core/magics/osm.py:417: UserWarning: This is now an optional IPython functionality, setting dhist requires you to install the `pickleshare` library.\n  self.shell.db['dhist'] = compress_dhist(dhist)[-100:]\n"
      ]
     },
     "execution_count": null,
     "metadata": {},
     "output_type": "execute_result"
    }
   ],
   "source": [
    "%cd BERT-LNL"
   ]
  },
  {
   "cell_type": "markdown",
   "id": "84a26fa9",
   "metadata": {},
   "source": [
    "### Step 5"
   ]
  },
  {
   "cell_type": "markdown",
   "id": "dea04c21",
   "metadata": {},
   "source": [
    "**Thought**: [pre-executed by user]"
   ]
  },
  {
   "cell_type": "markdown",
   "id": "f2e63b14",
   "metadata": {},
   "source": [
    "**Action (None)**:"
   ]
  },
  {
   "cell_type": "code",
   "execution_count": null,
   "id": "3b1029a5",
   "metadata": {},
   "outputs": [
    {
     "data": {
      "text/plain": [
       ""
      ]
     },
     "execution_count": null,
     "metadata": {},
     "output_type": "execute_result"
    }
   ],
   "source": [
    "# ## Data Preprocessing"
   ]
  },
  {
   "cell_type": "markdown",
   "id": "0c71cf9c",
   "metadata": {},
   "source": [
    "### Step 6"
   ]
  },
  {
   "cell_type": "markdown",
   "id": "ddf14d68",
   "metadata": {},
   "source": [
    "**Thought**: [pre-executed by user]"
   ]
  },
  {
   "cell_type": "markdown",
   "id": "9c5bb4e1",
   "metadata": {},
   "source": [
    "**Action (None)**:"
   ]
  },
  {
   "cell_type": "code",
   "execution_count": null,
   "id": "f33fdc37",
   "metadata": {},
   "outputs": [
    {
     "data": {
      "text/plain": [
       ""
      ]
     },
     "execution_count": null,
     "metadata": {},
     "output_type": "execute_result"
    }
   ],
   "source": [
    "import os\n",
    "os.makedirs('data/AG_News/txt_data')"
   ]
  },
  {
   "cell_type": "markdown",
   "id": "631ef254",
   "metadata": {},
   "source": [
    "### Step 7"
   ]
  },
  {
   "cell_type": "markdown",
   "id": "79e7349e",
   "metadata": {},
   "source": [
    "**Thought**: [pre-executed by user]"
   ]
  },
  {
   "cell_type": "markdown",
   "id": "617d6192",
   "metadata": {},
   "source": [
    "**Action (None)**:"
   ]
  },
  {
   "cell_type": "code",
   "execution_count": null,
   "id": "a2e8c158",
   "metadata": {},
   "outputs": [
    {
     "data": {
      "text/plain": [
       "/content/BERT-LNL/data/AG_News/txt_data\n/usr/local/lib/python3.10/site-packages/IPython/core/magics/osm.py:417: UserWarning: This is now an optional IPython functionality, setting dhist requires you to install the `pickleshare` library.\n  self.shell.db['dhist'] = compress_dhist(dhist)[-100:]\n"
      ]
     },
     "execution_count": null,
     "metadata": {},
     "output_type": "execute_result"
    }
   ],
   "source": [
    "%cd data/AG_News/txt_data"
   ]
  },
  {
   "cell_type": "markdown",
   "id": "d51e108a",
   "metadata": {},
   "source": [
    "### Step 8"
   ]
  },
  {
   "cell_type": "markdown",
   "id": "c52a0d4a",
   "metadata": {},
   "source": [
    "**Thought**: [pre-executed by user]"
   ]
  },
  {
   "cell_type": "markdown",
   "id": "7eb1e567",
   "metadata": {},
   "source": [
    "**Action (None)**:"
   ]
  },
  {
   "cell_type": "code",
   "execution_count": null,
   "id": "ba1fcb65",
   "metadata": {},
   "outputs": [
    {
     "data": {
      "text/plain": [
       ""
      ]
     },
     "execution_count": null,
     "metadata": {},
     "output_type": "execute_result"
    }
   ],
   "source": [
    "from datasets import load_dataset\n",
    "data = load_dataset(\"ag_news\",trust_remote_code=True)"
   ]
  },
  {
   "cell_type": "markdown",
   "id": "51563c5b",
   "metadata": {},
   "source": [
    "### Step 9"
   ]
  },
  {
   "cell_type": "markdown",
   "id": "3ba000b1",
   "metadata": {},
   "source": [
    "**Thought**: [pre-executed by user]"
   ]
  },
  {
   "cell_type": "markdown",
   "id": "25142dd5",
   "metadata": {},
   "source": [
    "**Action (None)**:"
   ]
  },
  {
   "cell_type": "code",
   "execution_count": null,
   "id": "1dffa448",
   "metadata": {},
   "outputs": [
    {
     "data": {
      "text/plain": [
       ""
      ]
     },
     "execution_count": null,
     "metadata": {},
     "output_type": "execute_result"
    }
   ],
   "source": [
    "# the code will spit out an error if there is any class which is not available\n",
    "# since the dataset have 4 classes the the train, test and val_indices are handpicked\n",
    "# so that each split get reasonable number of classes\n",
    "\n",
    "train_dataset = data[\"train\"].select([1,2,3,4,5,6,100,101,102,103,104,105,451,452,453,454,455,456,501,502,503,504,505,506])\n",
    "test_dataset = data[\"test\"].select([1,2,3,101,103,452,455,501,502,503,504,505])\n",
    "val_indices = [0,1,2,6,7,8,12,13,14,18,19,20]"
   ]
  },
  {
   "cell_type": "markdown",
   "id": "0dc10db1",
   "metadata": {},
   "source": [
    "### Step 10"
   ]
  },
  {
   "cell_type": "markdown",
   "id": "96d358b7",
   "metadata": {},
   "source": [
    "**Thought**: [pre-executed by user]"
   ]
  },
  {
   "cell_type": "markdown",
   "id": "90890b87",
   "metadata": {},
   "source": [
    "**Action (None)**:"
   ]
  },
  {
   "cell_type": "code",
   "execution_count": null,
   "id": "ff574bac",
   "metadata": {},
   "outputs": [
    {
     "data": {
      "text/plain": [
       ""
      ]
     },
     "execution_count": null,
     "metadata": {},
     "output_type": "execute_result"
    }
   ],
   "source": [
    "import pickle\n",
    "def write_to_files(data, src_file, label_file):\n",
    "    with open(src_file, \"w\", encoding=\"utf-8\") as src_f:\n",
    "        labels = []\n",
    "        for example in data:\n",
    "            src_f.write(example[\"text\"] + \"\\n\")\n",
    "            labels.append(example[\"label\"])\n",
    "        pickle.dump(labels, open(label_file, \"wb\"))"
   ]
  },
  {
   "cell_type": "markdown",
   "id": "2cae88dc",
   "metadata": {},
   "source": [
    "### Step 11"
   ]
  },
  {
   "cell_type": "markdown",
   "id": "e3b466c2",
   "metadata": {},
   "source": [
    "**Thought**: [pre-executed by user]"
   ]
  },
  {
   "cell_type": "markdown",
   "id": "71f4fc3d",
   "metadata": {},
   "source": [
    "**Action (None)**:"
   ]
  },
  {
   "cell_type": "code",
   "execution_count": null,
   "id": "8b00031f",
   "metadata": {},
   "outputs": [
    {
     "data": {
      "text/plain": [
       ""
      ]
     },
     "execution_count": null,
     "metadata": {},
     "output_type": "execute_result"
    }
   ],
   "source": [
    "write_to_files(train_dataset, \"train.txt\",\"train_labels.pickle\")\n",
    "write_to_files(test_dataset, \"test.txt\", \"test_labels.pickle\")"
   ]
  },
  {
   "cell_type": "markdown",
   "id": "6ab8b767",
   "metadata": {},
   "source": [
    "### Step 12"
   ]
  },
  {
   "cell_type": "markdown",
   "id": "cd2217b1",
   "metadata": {},
   "source": [
    "**Thought**: [pre-executed by user]"
   ]
  },
  {
   "cell_type": "markdown",
   "id": "d4abb952",
   "metadata": {},
   "source": [
    "**Action (None)**:"
   ]
  },
  {
   "cell_type": "code",
   "execution_count": null,
   "id": "a2faca1e",
   "metadata": {},
   "outputs": [
    {
     "data": {
      "text/plain": [
       "/content/BERT-LNL/data/AG_News\n/content/BERT-LNL/data/AG_News/val_indices\n/usr/local/lib/python3.10/site-packages/IPython/core/magics/osm.py:417: UserWarning: This is now an optional IPython functionality, setting dhist requires you to install the `pickleshare` library.\n  self.shell.db['dhist'] = compress_dhist(dhist)[-100:]\n"
      ]
     },
     "execution_count": null,
     "metadata": {},
     "output_type": "execute_result"
    }
   ],
   "source": [
    "%cd ..\n",
    "%mkdir val_indices\n",
    "%cd val_indices"
   ]
  },
  {
   "cell_type": "markdown",
   "id": "5be4e490",
   "metadata": {},
   "source": [
    "### Step 13"
   ]
  },
  {
   "cell_type": "markdown",
   "id": "7f1dc12e",
   "metadata": {},
   "source": [
    "**Thought**: [pre-executed by user]"
   ]
  },
  {
   "cell_type": "markdown",
   "id": "cef70d65",
   "metadata": {},
   "source": [
    "**Action (None)**:"
   ]
  },
  {
   "cell_type": "code",
   "execution_count": null,
   "id": "38206b2e",
   "metadata": {},
   "outputs": [
    {
     "data": {
      "text/plain": [
       ""
      ]
     },
     "execution_count": null,
     "metadata": {},
     "output_type": "execute_result"
    }
   ],
   "source": [
    "pickle.dump(val_indices, open('AG_News_val_indices.pickle', \"wb\"))"
   ]
  },
  {
   "cell_type": "markdown",
   "id": "66bf974b",
   "metadata": {},
   "source": [
    "### Step 14"
   ]
  },
  {
   "cell_type": "markdown",
   "id": "8f564b56",
   "metadata": {},
   "source": [
    "**Thought**: [pre-executed by user]"
   ]
  },
  {
   "cell_type": "markdown",
   "id": "1e04fa5d",
   "metadata": {},
   "source": [
    "**Action (None)**:"
   ]
  },
  {
   "cell_type": "code",
   "execution_count": null,
   "id": "31e5ec32",
   "metadata": {},
   "outputs": [
    {
     "data": {
      "text/plain": [
       "/content/BERT-LNL\n/usr/local/lib/python3.10/site-packages/IPython/core/magics/osm.py:417: UserWarning: This is now an optional IPython functionality, setting dhist requires you to install the `pickleshare` library.\n  self.shell.db['dhist'] = compress_dhist(dhist)[-100:]\n"
      ]
     },
     "execution_count": null,
     "metadata": {},
     "output_type": "execute_result"
    }
   ],
   "source": [
    "%cd /content/BERT-LNL"
   ]
  },
  {
   "cell_type": "markdown",
   "id": "39c2ff60",
   "metadata": {},
   "source": [
    "### Step 15"
   ]
  },
  {
   "cell_type": "markdown",
   "id": "77754612",
   "metadata": {},
   "source": [
    "**Thought**: [pre-executed by user]"
   ]
  },
  {
   "cell_type": "markdown",
   "id": "98efb1d0",
   "metadata": {},
   "source": [
    "**Action (None)**:"
   ]
  },
  {
   "cell_type": "code",
   "execution_count": null,
   "id": "d7f21ec4",
   "metadata": {},
   "outputs": [
    {
     "data": {
      "text/plain": [
       ""
      ]
     },
     "execution_count": null,
     "metadata": {},
     "output_type": "execute_result"
    }
   ],
   "source": [
    "# ## Changes in Repo code\n",
    "# \n",
    "# The change is needed because saving model and wandb restriction is there, som codes are commented nearby, but some are not which is making the code stop running, Authors may have forgot  to remove that part of code.\n",
    "# "
   ]
  },
  {
   "cell_type": "markdown",
   "id": "d9a88a24",
   "metadata": {},
   "source": [
    "### Step 16"
   ]
  },
  {
   "cell_type": "markdown",
   "id": "8c31cc46",
   "metadata": {},
   "source": [
    "**Thought**: EXECUTED BY USER"
   ]
  },
  {
   "cell_type": "markdown",
   "id": "d5ed0d69",
   "metadata": {},
   "source": [
    "**Action (None)**:"
   ]
  },
  {
   "cell_type": "code",
   "execution_count": null,
   "id": "49595289",
   "metadata": {},
   "outputs": [
    {
     "data": {
      "text/plain": [
       "Edit was successful. Here's the relevant content *after edit* for your inspection (you should check indentation is correct):\n        if args.save_loss_tracker_information:\n            loss_noise_tracker.save_logged_information()\n            self.logger.info(\"[WN Trainer]: loss history saved\")\n        best_model = self.create_model(args)\n        best_model_weights = early_stopper.get_final_res()[\"es_best_model\"]\n        best_model.load_state_dict(best_model_weights)\n        best_model = best_model.to(device)\n\n        val_score = self.eval_model_with_both_labels(best_model, v_loader, device, fast_mode=False)\n        test_score = self.eval_model(args, logger, t_loader, best_model, device, fast_mode=False)\n        print(f\"Test Score is {test_score}\")\n        # wandb.run.summary[\"best_score_on_val_n\"] = test_score['score_dict']['accuracy']\n        # wandb.run.summary[\"best_val_n\"] = val_score['score_dict_n']['accuracy']\n        # wandb.run.summary[\"best_val_c_on_val_n\"] = val_score['score_dict_c']['accuracy']\n\n\n\n\n    def forward_backward_noisy_batch(self, model, data_dict, loss_fn, args, device):"
      ]
     },
     "execution_count": null,
     "metadata": {},
     "output_type": "execute_result"
    }
   ],
   "source": [
    "EDITING `/content/BERT-LNL/trainers/bert_wn_trainer.py. CHANGING:\n",
    "\n",
    "\n",
    "\n",
    "        val_score = self.eval_model_with_both_labels(best_model, v_loader, device, fast_mode=False)\n",
    "        test_score = self.eval_model(args, logger, t_loader, best_model, device, fast_mode=False)\n",
    "        # wandb.run.summary[\"best_score_on_val_n\"] = test_score['score_dict']['accuracy']\n",
    "        # wandb.run.summary[\"best_val_n\"] = val_score['score_dict_n']['accuracy']\n",
    "\n",
    "\n",
    "TO:\n",
    "\n",
    "\n",
    "\n",
    "        val_score = self.eval_model_with_both_labels(best_model, v_loader, device, fast_mode=False)\n",
    "        test_score = self.eval_model(args, logger, t_loader, best_model, device, fast_mode=False)\n",
    "        print(f\"Test Score is {test_score}\")\n",
    "        # wandb.run.summary[\"best_score_on_val_n\"] = test_score['score_dict']['accuracy']\n",
    "        # wandb.run.summary[\"best_val_n\"] = val_score['score_dict_n']['accuracy']\n"
   ]
  },
  {
   "cell_type": "markdown",
   "id": "7e88593c",
   "metadata": {},
   "source": [
    "### Step 17"
   ]
  },
  {
   "cell_type": "markdown",
   "id": "9c8f55d8",
   "metadata": {},
   "source": [
    "**Thought**: [pre-executed by user]"
   ]
  },
  {
   "cell_type": "markdown",
   "id": "3b217b34",
   "metadata": {},
   "source": [
    "**Action (None)**:"
   ]
  },
  {
   "cell_type": "code",
   "execution_count": null,
   "id": "673784f4",
   "metadata": {},
   "outputs": [
    {
     "data": {
      "text/plain": [
       ""
      ]
     },
     "execution_count": null,
     "metadata": {},
     "output_type": "execute_result"
    }
   ],
   "source": [
    "# ## Training"
   ]
  },
  {
   "cell_type": "markdown",
   "id": "0136bfcd",
   "metadata": {},
   "source": [
    "### Step 18"
   ]
  },
  {
   "cell_type": "markdown",
   "id": "828fa25c",
   "metadata": {},
   "source": [
    "Execution Start time: 05:39:25, End time: 05:39:47 (duration: 22 seconds)"
   ]
  },
  {
   "cell_type": "markdown",
   "id": "fbaf4d4a",
   "metadata": {},
   "source": [
    "**Thought**: Now that the necessary changes have been made to the repository, I will proceed to run the training script with the specified parameters. This will train the BERT-WN model on the AG-News dataset with 20% single-flip label noise for 5 training steps.\n",
    "\n"
   ]
  },
  {
   "cell_type": "markdown",
   "id": "238f1cfb",
   "metadata": {},
   "source": [
    "**Action (None)**:"
   ]
  },
  {
   "cell_type": "code",
   "execution_count": null,
   "id": "732e71ba",
   "metadata": {},
   "outputs": [
    {
     "data": {
      "text/plain": [
       "INFO Training started\nINFO log dir: log/08_22_05_39_30_sflip_nle0.2_nlb32\nINFO loading AG_News...\n/usr/local/lib/python3.10/site-packages/huggingface_hub/file_download.py:1132: FutureWarning: `resume_download` is deprecated and will be removed in version 1.0.0. Downloads always resume when possible. If you want to force a new download, use `force_download=True`.\n  warnings.warn(\n\ntokenizer_config.json:   0%|                         | 0.00/48.0 [00:00<?, ?B/s]\ntokenizer_config.json: 100%|██████████████████| 48.0/48.0 [00:00<00:00, 455kB/s]\n\nconfig.json:   0%|                                    | 0.00/570 [00:00<?, ?B/s]\n\n\nvocab.txt:   0%|                                     | 0.00/232k [00:00<?, ?B/s]\n\n\ntokenizer.json:   0%|                                | 0.00/466k [00:00<?, ?B/s]\n\nINFO [Loading and Caching] number of documents = 24\nINFO [Loading and Caching] convert text to features...\n\nconvert docs to tensors:   0%|                           | 0/24 [00:00<?, ?it/s]\nconvert docs to tensors: 100%|████████████████| 24/24 [00:00<00:00, 1260.77it/s]\nINFO [Loading and Caching] saving/caching the features...\nINFO [Loading and Caching] saved\nINFO [Loading and Caching] loading labels...\nINFO [Loading and Caching] number of documents = 12\nINFO [Loading and Caching] convert text to features...\n\nconvert docs to tensors:   0%|                           | 0/12 [00:00<?, ?it/s]\nconvert docs to tensors: 100%|████████████████| 12/12 [00:00<00:00, 3905.92it/s]\nINFO [Loading and Caching] saving/caching the features...\nINFO [Loading and Caching] saved\nINFO [Loading and Caching] loading labels...\nINFO Bert WN Trainer: training started\nINFO training size: 12\nINFO validation size: 12\nINFO test size: 12\n\nmodel.safetensors:   0%|                             | 0.00/440M [00:00<?, ?B/s]\n\n\n\n\n\n\n\n\n\n\n\n\nINFO Validation set is used here\n/usr/local/lib/python3.10/site-packages/transformers/optimization.py:521: FutureWarning: This implementation of AdamW is deprecated and will be removed in a future version. Use the PyTorch implementation torch.optim.AdamW instead, or set `no_deprecation_warning=True` to disable this warning\n  warnings.warn(\n\n[Vannilla Trainer] training:   0%|                        | 0/5 [00:00<?, ?it/s]\n[Vannilla Trainer] training:  20%|███▏            | 1/5 [00:04<00:17,  4.33s/it]/usr/local/lib/python3.10/site-packages/sklearn/metrics/_classification.py:1517: UndefinedMetricWarning: Precision is ill-defined and being set to 0.0 in labels with no predicted samples. Use `zero_division` parameter to control this behavior.\n  _warn_prf(average, modifier, f\"{metric.capitalize()} is\", len(result))\n/usr/local/lib/python3.10/site-packages/sklearn/metrics/_classification.py:1517: UndefinedMetricWarning: Precision is ill-defined and being set to 0.0 in labels with no predicted samples. Use `zero_division` parameter to control this behavior.\n  _warn_prf(average, modifier, f\"{metric.capitalize()} is\", len(result))\n/usr/local/lib/python3.10/site-packages/sklearn/metrics/_classification.py:1517: UndefinedMetricWarning: Precision is ill-defined and being set to 0.0 in labels with no predicted samples. Use `zero_division` parameter to control this behavior.\n  _warn_prf(average, modifier, f\"{metric.capitalize()} is\", len(result))\n/usr/local/lib/python3.10/site-packages/sklearn/metrics/_classification.py:1517: UndefinedMetricWarning: Precision is ill-defined and being set to 0.0 in labels with no predicted samples. Use `zero_division` parameter to control this behavior.\n  _warn_prf(average, modifier, f\"{metric.capitalize()} is\", len(result))\n/usr/local/lib/python3.10/site-packages/sklearn/metrics/_classification.py:1517: UndefinedMetricWarning: Precision is ill-defined and being set to 0.0 in labels with no predicted samples. Use `zero_division` parameter to control this behavior.\n  _warn_prf(average, modifier, f\"{metric.capitalize()} is\", len(result))\n/usr/local/lib/python3.10/site-packages/sklearn/metrics/_classification.py:1517: UndefinedMetricWarning: Precision is ill-defined and being set to 0.0 in labels with no predicted samples. Use `zero_division` parameter to control this behavior.\n  _warn_prf(average, modifier, f\"{metric.capitalize()} is\", len(result))\n/usr/local/lib/python3.10/site-packages/sklearn/metrics/_classification.py:1517: UndefinedMetricWarning: Precision is ill-defined and being set to 0.0 in labels with no predicted samples. Use `zero_division` parameter to control this behavior.\n  _warn_prf(average, modifier, f\"{metric.capitalize()} is\", len(result))\n/usr/local/lib/python3.10/site-packages/sklearn/metrics/_classification.py:1517: UndefinedMetricWarning: Precision is ill-defined and being set to 0.0 in labels with no predicted samples. Use `zero_division` parameter to control this behavior.\n  _warn_prf(average, modifier, f\"{metric.capitalize()} is\", len(result))\n/usr/local/lib/python3.10/site-packages/sklearn/metrics/_classification.py:1517: UndefinedMetricWarning: Precision is ill-defined and being set to 0.0 in labels with no predicted samples. Use `zero_division` parameter to control this behavior.\n  _warn_prf(average, modifier, f\"{metric.capitalize()} is\", len(result))\n/usr/local/lib/python3.10/site-packages/sklearn/metrics/_classification.py:1517: UndefinedMetricWarning: Precision is ill-defined and being set to 0.0 in labels with no predicted samples. Use `zero_division` parameter to control this behavior.\n  _warn_prf(average, modifier, f\"{metric.capitalize()} is\", len(result))\n/usr/local/lib/python3.10/site-packages/sklearn/metrics/_classification.py:1517: UndefinedMetricWarning: Precision is ill-defined and being set to 0.0 in labels with no predicted samples. Use `zero_division` parameter to control this behavior.\n  _warn_prf(average, modifier, f\"{metric.capitalize()} is\", len(result))\n/usr/local/lib/python3.10/site-packages/sklearn/metrics/_classification.py:1517: UndefinedMetricWarning: Precision is ill-defined and being set to 0.0 in labels with no predicted samples. Use `zero_division` parameter to control this behavior.\n  _warn_prf(average, modifier, f\"{metric.capitalize()} is\", len(result))\n/usr/local/lib/python3.10/site-packages/sklearn/metrics/_classification.py:1517: UndefinedMetricWarning: Precision is ill-defined and being set to 0.0 in labels with no predicted samples. Use `zero_division` parameter to control this behavior.\n  _warn_prf(average, modifier, f\"{metric.capitalize()} is\", len(result))\n/usr/local/lib/python3.10/site-packages/sklearn/metrics/_classification.py:1517: UndefinedMetricWarning: Precision is ill-defined and being set to 0.0 in labels with no predicted samples. Use `zero_division` parameter to control this behavior.\n  _warn_prf(average, modifier, f\"{metric.capitalize()} is\", len(result))\n/usr/local/lib/python3.10/site-packages/sklearn/metrics/_classification.py:1517: UndefinedMetricWarning: Precision is ill-defined and being set to 0.0 in labels with no predicted samples. Use `zero_division` parameter to control this behavior.\n  _warn_prf(average, modifier, f\"{metric.capitalize()} is\", len(result))\n/usr/local/lib/python3.10/site-packages/sklearn/metrics/_classification.py:1517: UndefinedMetricWarning: Precision is ill-defined and being set to 0.0 in labels with no predicted samples. Use `zero_division` parameter to control this behavior.\n  _warn_prf(average, modifier, f\"{metric.capitalize()} is\", len(result))\n/usr/local/lib/python3.10/site-packages/sklearn/metrics/_classification.py:1517: UndefinedMetricWarning: Precision is ill-defined and being set to 0.0 in labels with no predicted samples. Use `zero_division` parameter to control this behavior.\n  _warn_prf(average, modifier, f\"{metric.capitalize()} is\", len(result))\n/usr/local/lib/python3.10/site-packages/sklearn/metrics/_classification.py:1517: UndefinedMetricWarning: Precision is ill-defined and being set to 0.0 in labels with no predicted samples. Use `zero_division` parameter to control this behavior.\n  _warn_prf(average, modifier, f\"{metric.capitalize()} is\", len(result))\n\n[Vannilla Trainer] training:  20%|███▏            | 1/5 [00:11<00:47, 11.79s/it]\nTraceback (most recent call last):\n  File \"/content/BERT-LNL/main.py\", line 163, in <module>\n    main()\n  File \"/content/BERT-LNL/main.py\", line 158, in main\n    trainer.train(args, logger, (nl_set, ul_set, v_set, t_set, l2id, id2l))\n  File \"/content/BERT-LNL/trainers/bert_wn_trainer.py\", line 115, in train\n    loss_noise_tracker.log_last_histogram_to_wandb(step=global_step, normalize=True, tag='eval/loss')\n  File \"/content/BERT-LNL/trainers/loss_noise_tracker.py\", line 87, in log_last_histogram_to_wandb\n    wandb.log({f\"{tag}/loss_clean\" : wandb.Histogram(loss_clean),\n  File \"/usr/local/lib/python3.10/site-packages/wandb/sdk/lib/preinit.py\", line 36, in preinit_wrapper\n    raise wandb.Error(f\"You must call wandb.init() before {name}()\")\nwandb.errors.Error: You must call wandb.init() before wandb.log()\n"
      ]
     },
     "execution_count": null,
     "metadata": {},
     "output_type": "execute_result"
    }
   ],
   "source": [
    "!python3 main.py \\\n",
    "--dataset AG_News \\\n",
    "--log_root log \\\n",
    "--data_root data \\\n",
    "--trainer_name bert_wn \\\n",
    "--model_name bert-base-uncased \\\n",
    "--gen_val \\\n",
    "--nl_batch_size 32 \\\n",
    "--eval_batch_size 32 \\\n",
    "--gradient_accumulation_steps 1 \\\n",
    "--max_sen_len 64 \\\n",
    "--lr 0.00002 \\\n",
    "--num_epochs 1 \\\n",
    "--num_training_steps 5\\\n",
    "--patience 1 \\\n",
    "--eval_freq 2 \\\n",
    "--store_model 1 \\\n",
    "--noise_level 0.2 \\\n",
    "--noise_type sflip \\\n",
    "--manualSeed 1234"
   ]
  },
  {
   "cell_type": "markdown",
   "id": "68a6acf1",
   "metadata": {},
   "source": [
    "### Step 19"
   ]
  },
  {
   "cell_type": "markdown",
   "id": "5629ef47",
   "metadata": {},
   "source": [
    "Execution Start time: 05:39:50, End time: 05:39:50 (duration: 0 seconds)"
   ]
  },
  {
   "cell_type": "markdown",
   "id": "f362d409",
   "metadata": {},
   "source": [
    "**Thought**: The error indicates that `wandb.log()` is being called without initializing `wandb` using `wandb.init()`. Since we are not using `wandb` for logging in this task, I will comment out the `wandb.log()` line in the `loss_noise_tracker.py` file to prevent this error.\n",
    "\n",
    "Let's open the `loss_noise_tracker.py` file and locate the line causing the issue. \n",
    "\n"
   ]
  },
  {
   "cell_type": "markdown",
   "id": "3847c741",
   "metadata": {},
   "source": [
    "**Action (open)**:"
   ]
  },
  {
   "cell_type": "code",
   "execution_count": null,
   "id": "bef0f563",
   "metadata": {},
   "outputs": [
    {
     "data": {
      "text/plain": [
       "[File: /content/BERT-LNL/trainers/loss_noise_tracker.py (91 lines total)]\n1:import numpy as np\n2:import torch\n3:import pickle\n4:import copy\n5:import os\n6:import wandb\n7:\n8:\n9:class LossNoiseTracker:\n10:    \"\"\"Track the losses during training and check whether samples with lower losses are cleaner\"\"\"\n11:\n12:    def __init__(self, args, logger, d_set, save_dir, **kwargs):\n13:        self.args = args\n14:        self.logger = logger\n15:        self.d_set = d_set\n16:        self.purity_list = np.array(self.d_set.purity_list.detach().numpy(), dtype=bool)\n17:        self.d_loader = torch.utils.data.DataLoader(d_set, batch_size=args.eval_batch_size,\n18:                                                shuffle=False,\n19:                                                num_workers=0)\n20:\n21:        if not os.path.exists(save_dir):\n22:            os.makedirs(save_dir)\n23:        self.save_dir = save_dir\n24:        self.save_path = os.path.join(self.save_dir, 'noise_distribution.pickle')\n25:        self.steps = []\n26:        self.loss_on_clean_samples_hist=[]\n27:        self.loss_on_wrong_samples_hist=[]\n28:\n29:    def skip_function(self):\n30:        if self.args.noise_level == 0.0:  # data is clean, no need to track the noise\n31:            return True\n32:        else:\n33:            return False\n34:\n35:    def normalize_data(self, data):\n36:        min_value = np.min(data)\n37:        max_value = np.max(data)\n38:\n39:        return (data - min_value) / (max_value - min_value)\n40:\n41:    def log_loss(self, model, global_step, device):\n42:        if self.skip_function():\n43:            return\n44:        loss_fn = torch.nn.CrossEntropyLoss(reduction='none')\n45:        loss_list = []\n46:        self.steps.append(global_step)\n47:\n48:        with torch.no_grad():\n49:            for idx, d_batch in enumerate(self.d_loader):\n50:\n51:                input_ids = d_batch['input_ids'].to(device)\n52:                attention_mask = d_batch['attention_mask'].to(device)\n53:                n_labels = d_batch['n_labels'].to(device)\n54:\n55:                y_pred = model(input_ids, attention_mask)['logits']\n56:\n57:                loss_batch = loss_fn(y_pred, n_labels).detach().cpu().numpy()\n58:                loss_list.append(loss_batch)\n59:\n60:        loss_list = np.concatenate(loss_list)\n61:        loss_on_clean_samples = loss_list[self.purity_list]\n62:        loss_on_wrong_samples = loss_list[~self.purity_list]\n63:\n64:        self.loss_on_clean_samples_hist.append(loss_on_clean_samples)\n65:        self.loss_on_wrong_samples_hist.append(loss_on_wrong_samples)\n66:\n67:    def save_logged_information(self):\n68:        if self.skip_function():\n69:            return\n70:\n71:        save_dict = {'steps': self.steps, 'loss_on_clean': self.loss_on_clean_samples_hist, 'loss_on_wrong': self.loss_on_wrong_samples_hist}\n72:        with open(self.save_path, 'wb') as handle:\n73:            pickle.dump(save_dict, handle, protocol=pickle.HIGHEST_PROTOCOL)\n74:\n75:\n76:    def log_last_histogram_to_wandb(self, step, normalize, tag):\n77:        if self.skip_function():\n78:            return\n79:\n80:        loss_clean = self.loss_on_clean_samples_hist[-1]\n81:        loss_wrong = self.loss_on_wrong_samples_hist[-1]\n82:\n83:        if normalize:\n84:            loss_clean = self.normalize_data(loss_clean)\n85:            loss_wrong = self.normalize_data(loss_wrong)\n86:\n87:        wandb.log({f\"{tag}/loss_clean\" : wandb.Histogram(loss_clean),\n88:                   f\"{tag}/loss_wrong\": wandb.Histogram(loss_wrong)}, step=step)\n89:\n90:\n91:\n"
      ]
     },
     "execution_count": null,
     "metadata": {},
     "output_type": "execute_result"
    }
   ],
   "source": [
    "open trainers/loss_noise_tracker.py"
   ]
  },
  {
   "cell_type": "markdown",
   "id": "39705921",
   "metadata": {},
   "source": [
    "### Step 20"
   ]
  },
  {
   "cell_type": "markdown",
   "id": "8518c814",
   "metadata": {},
   "source": [
    "Execution Start time: 05:39:52, End time: 05:39:53 (duration: 0 seconds)"
   ]
  },
  {
   "cell_type": "markdown",
   "id": "f5f5c940",
   "metadata": {},
   "source": [
    "**Thought**: The `wandb.log()` function is called on line 87. Since we are not using `wandb` for logging, I will comment out this line to prevent the error.\n",
    "\n"
   ]
  },
  {
   "cell_type": "markdown",
   "id": "b9835881",
   "metadata": {},
   "source": [
    "**Action (edit)**:"
   ]
  },
  {
   "cell_type": "code",
   "execution_count": null,
   "id": "b213eca3",
   "metadata": {},
   "outputs": [
    {
     "data": {
      "text/plain": [
       "[File: /content/BERT-LNL/trainers/loss_noise_tracker.py (91 lines total)]\n1:import numpy as np\n2:import torch\n3:import pickle\n4:import copy\n5:import os\n6:import wandb\n7:\n8:\n9:class LossNoiseTracker:\n10:    \"\"\"Track the losses during training and check whether samples with lower losses are cleaner\"\"\"\n11:\n12:    def __init__(self, args, logger, d_set, save_dir, **kwargs):\n13:        self.args = args\n14:        self.logger = logger\n15:        self.d_set = d_set\n16:        self.purity_list = np.array(self.d_set.purity_list.detach().numpy(), dtype=bool)\n17:        self.d_loader = torch.utils.data.DataLoader(d_set, batch_size=args.eval_batch_size,\n18:                                                shuffle=False,\n19:                                                num_workers=0)\n20:\n21:        if not os.path.exists(save_dir):\n22:            os.makedirs(save_dir)\n23:        self.save_dir = save_dir\n24:        self.save_path = os.path.join(self.save_dir, 'noise_distribution.pickle')\n25:        self.steps = []\n26:        self.loss_on_clean_samples_hist=[]\n27:        self.loss_on_wrong_samples_hist=[]\n28:\n29:    def skip_function(self):\n30:        if self.args.noise_level == 0.0:  # data is clean, no need to track the noise\n31:            return True\n32:        else:\n33:            return False\n34:\n35:    def normalize_data(self, data):\n36:        min_value = np.min(data)\n37:        max_value = np.max(data)\n38:\n39:        return (data - min_value) / (max_value - min_value)\n40:\n41:    def log_loss(self, model, global_step, device):\n42:        if self.skip_function():\n43:            return\n44:        loss_fn = torch.nn.CrossEntropyLoss(reduction='none')\n45:        loss_list = []\n46:        self.steps.append(global_step)\n47:\n48:        with torch.no_grad():\n49:            for idx, d_batch in enumerate(self.d_loader):\n50:\n51:                input_ids = d_batch['input_ids'].to(device)\n52:                attention_mask = d_batch['attention_mask'].to(device)\n53:                n_labels = d_batch['n_labels'].to(device)\n54:\n55:                y_pred = model(input_ids, attention_mask)['logits']\n56:\n57:                loss_batch = loss_fn(y_pred, n_labels).detach().cpu().numpy()\n58:                loss_list.append(loss_batch)\n59:\n60:        loss_list = np.concatenate(loss_list)\n61:        loss_on_clean_samples = loss_list[self.purity_list]\n62:        loss_on_wrong_samples = loss_list[~self.purity_list]\n63:\n64:        self.loss_on_clean_samples_hist.append(loss_on_clean_samples)\n65:        self.loss_on_wrong_samples_hist.append(loss_on_wrong_samples)\n66:\n67:    def save_logged_information(self):\n68:        if self.skip_function():\n69:            return\n70:\n71:        save_dict = {'steps': self.steps, 'loss_on_clean': self.loss_on_clean_samples_hist, 'loss_on_wrong': self.loss_on_wrong_samples_hist}\n72:        with open(self.save_path, 'wb') as handle:\n73:            pickle.dump(save_dict, handle, protocol=pickle.HIGHEST_PROTOCOL)\n74:\n75:\n76:    def log_last_histogram_to_wandb(self, step, normalize, tag):\n77:        if self.skip_function():\n78:            return\n79:\n80:        loss_clean = self.loss_on_clean_samples_hist[-1]\n81:        loss_wrong = self.loss_on_wrong_samples_hist[-1]\n82:\n83:        if normalize:\n84:            loss_clean = self.normalize_data(loss_clean)\n85:            loss_wrong = self.normalize_data(loss_wrong)\n86:\n87:        # wandb.log({f\"{tag}/loss_clean\" : wandb.Histogram(loss_clean),\n88:        #            f\"{tag}/loss_wrong\": wandb.Histogram(loss_wrong)}, step=step)\n89:\n90:\n91:\nFile updated. Please review the changes and make sure they are correct (correct indentation, no duplicate lines, etc). Edit the file again if necessary.\n"
      ]
     },
     "execution_count": null,
     "metadata": {},
     "output_type": "execute_result"
    }
   ],
   "source": [
    "edit 87:88\n",
    "        # wandb.log({f\"{tag}/loss_clean\" : wandb.Histogram(loss_clean),\n",
    "        #            f\"{tag}/loss_wrong\": wandb.Histogram(loss_wrong)}, step=step)\n",
    "end_of_edit"
   ]
  },
  {
   "cell_type": "markdown",
   "id": "0ca3dabb",
   "metadata": {},
   "source": [
    "### Step 21"
   ]
  },
  {
   "cell_type": "markdown",
   "id": "e6bc5165",
   "metadata": {},
   "source": [
    "Execution Start time: 05:39:55, End time: 05:40:27 (duration: 31 seconds)"
   ]
  },
  {
   "cell_type": "markdown",
   "id": "35286e7e",
   "metadata": {},
   "source": [
    "**Thought**: The `wandb.log()` line has been successfully commented out. Now, I will attempt to run the training script again with the specified parameters to train the BERT-WN model on the AG-News dataset.\n",
    "\n"
   ]
  },
  {
   "cell_type": "markdown",
   "id": "9a17b21b",
   "metadata": {},
   "source": [
    "**Action (None)**:"
   ]
  },
  {
   "cell_type": "code",
   "execution_count": null,
   "id": "e9cc5292",
   "metadata": {},
   "outputs": [
    {
     "data": {
      "text/plain": [
       "INFO Training started\nINFO log dir: log/08_22_05_39_59_sflip_nle0.2_nlb32\nINFO loading AG_News...\n/usr/local/lib/python3.10/site-packages/huggingface_hub/file_download.py:1132: FutureWarning: `resume_download` is deprecated and will be removed in version 1.0.0. Downloads always resume when possible. If you want to force a new download, use `force_download=True`.\n  warnings.warn(\nINFO [Loading and Caching] loading from cache...\nINFO [Loading and Caching] loading labels...\nINFO [Loading and Caching] loading from cache...\nINFO [Loading and Caching] loading labels...\nINFO Bert WN Trainer: training started\nINFO training size: 12\nINFO validation size: 12\nINFO test size: 12\nINFO Validation set is used here\n/usr/local/lib/python3.10/site-packages/transformers/optimization.py:521: FutureWarning: This implementation of AdamW is deprecated and will be removed in a future version. Use the PyTorch implementation torch.optim.AdamW instead, or set `no_deprecation_warning=True` to disable this warning\n  warnings.warn(\n\n[Vannilla Trainer] training:   0%|                        | 0/5 [00:00<?, ?it/s]\n[Vannilla Trainer] training:  20%|███▏            | 1/5 [00:03<00:15,  3.89s/it]/usr/local/lib/python3.10/site-packages/sklearn/metrics/_classification.py:1517: UndefinedMetricWarning: Precision is ill-defined and being set to 0.0 in labels with no predicted samples. Use `zero_division` parameter to control this behavior.\n  _warn_prf(average, modifier, f\"{metric.capitalize()} is\", len(result))\n/usr/local/lib/python3.10/site-packages/sklearn/metrics/_classification.py:1517: UndefinedMetricWarning: Precision is ill-defined and being set to 0.0 in labels with no predicted samples. Use `zero_division` parameter to control this behavior.\n  _warn_prf(average, modifier, f\"{metric.capitalize()} is\", len(result))\n/usr/local/lib/python3.10/site-packages/sklearn/metrics/_classification.py:1517: UndefinedMetricWarning: Precision is ill-defined and being set to 0.0 in labels with no predicted samples. Use `zero_division` parameter to control this behavior.\n  _warn_prf(average, modifier, f\"{metric.capitalize()} is\", len(result))\n/usr/local/lib/python3.10/site-packages/sklearn/metrics/_classification.py:1517: UndefinedMetricWarning: Precision is ill-defined and being set to 0.0 in labels with no predicted samples. Use `zero_division` parameter to control this behavior.\n  _warn_prf(average, modifier, f\"{metric.capitalize()} is\", len(result))\n/usr/local/lib/python3.10/site-packages/sklearn/metrics/_classification.py:1517: UndefinedMetricWarning: Precision is ill-defined and being set to 0.0 in labels with no predicted samples. Use `zero_division` parameter to control this behavior.\n  _warn_prf(average, modifier, f\"{metric.capitalize()} is\", len(result))\n/usr/local/lib/python3.10/site-packages/sklearn/metrics/_classification.py:1517: UndefinedMetricWarning: Precision is ill-defined and being set to 0.0 in labels with no predicted samples. Use `zero_division` parameter to control this behavior.\n  _warn_prf(average, modifier, f\"{metric.capitalize()} is\", len(result))\n/usr/local/lib/python3.10/site-packages/sklearn/metrics/_classification.py:1517: UndefinedMetricWarning: Precision is ill-defined and being set to 0.0 in labels with no predicted samples. Use `zero_division` parameter to control this behavior.\n  _warn_prf(average, modifier, f\"{metric.capitalize()} is\", len(result))\n/usr/local/lib/python3.10/site-packages/sklearn/metrics/_classification.py:1517: UndefinedMetricWarning: Precision is ill-defined and being set to 0.0 in labels with no predicted samples. Use `zero_division` parameter to control this behavior.\n  _warn_prf(average, modifier, f\"{metric.capitalize()} is\", len(result))\n/usr/local/lib/python3.10/site-packages/sklearn/metrics/_classification.py:1517: UndefinedMetricWarning: Precision is ill-defined and being set to 0.0 in labels with no predicted samples. Use `zero_division` parameter to control this behavior.\n  _warn_prf(average, modifier, f\"{metric.capitalize()} is\", len(result))\n/usr/local/lib/python3.10/site-packages/sklearn/metrics/_classification.py:1517: UndefinedMetricWarning: Precision is ill-defined and being set to 0.0 in labels with no predicted samples. Use `zero_division` parameter to control this behavior.\n  _warn_prf(average, modifier, f\"{metric.capitalize()} is\", len(result))\n/usr/local/lib/python3.10/site-packages/sklearn/metrics/_classification.py:1517: UndefinedMetricWarning: Precision is ill-defined and being set to 0.0 in labels with no predicted samples. Use `zero_division` parameter to control this behavior.\n  _warn_prf(average, modifier, f\"{metric.capitalize()} is\", len(result))\n/usr/local/lib/python3.10/site-packages/sklearn/metrics/_classification.py:1517: UndefinedMetricWarning: Precision is ill-defined and being set to 0.0 in labels with no predicted samples. Use `zero_division` parameter to control this behavior.\n  _warn_prf(average, modifier, f\"{metric.capitalize()} is\", len(result))\n/usr/local/lib/python3.10/site-packages/sklearn/metrics/_classification.py:1517: UndefinedMetricWarning: Precision is ill-defined and being set to 0.0 in labels with no predicted samples. Use `zero_division` parameter to control this behavior.\n  _warn_prf(average, modifier, f\"{metric.capitalize()} is\", len(result))\n/usr/local/lib/python3.10/site-packages/sklearn/metrics/_classification.py:1517: UndefinedMetricWarning: Precision is ill-defined and being set to 0.0 in labels with no predicted samples. Use `zero_division` parameter to control this behavior.\n  _warn_prf(average, modifier, f\"{metric.capitalize()} is\", len(result))\n/usr/local/lib/python3.10/site-packages/sklearn/metrics/_classification.py:1517: UndefinedMetricWarning: Precision is ill-defined and being set to 0.0 in labels with no predicted samples. Use `zero_division` parameter to control this behavior.\n  _warn_prf(average, modifier, f\"{metric.capitalize()} is\", len(result))\n/usr/local/lib/python3.10/site-packages/sklearn/metrics/_classification.py:1517: UndefinedMetricWarning: Precision is ill-defined and being set to 0.0 in labels with no predicted samples. Use `zero_division` parameter to control this behavior.\n  _warn_prf(average, modifier, f\"{metric.capitalize()} is\", len(result))\n/usr/local/lib/python3.10/site-packages/sklearn/metrics/_classification.py:1517: UndefinedMetricWarning: Precision is ill-defined and being set to 0.0 in labels with no predicted samples. Use `zero_division` parameter to control this behavior.\n  _warn_prf(average, modifier, f\"{metric.capitalize()} is\", len(result))\n/usr/local/lib/python3.10/site-packages/sklearn/metrics/_classification.py:1517: UndefinedMetricWarning: Precision is ill-defined and being set to 0.0 in labels with no predicted samples. Use `zero_division` parameter to control this behavior.\n  _warn_prf(average, modifier, f\"{metric.capitalize()} is\", len(result))\n\n[Vannilla Trainer] training:  40%|██████▍         | 2/5 [00:11<00:18,  6.11s/it]\n[Vannilla Trainer] training:  60%|█████████▌      | 3/5 [00:15<00:10,  5.03s/it]/usr/local/lib/python3.10/site-packages/sklearn/metrics/_classification.py:1517: UndefinedMetricWarning: Precision is ill-defined and being set to 0.0 in labels with no predicted samples. Use `zero_division` parameter to control this behavior.\n  _warn_prf(average, modifier, f\"{metric.capitalize()} is\", len(result))\n/usr/local/lib/python3.10/site-packages/sklearn/metrics/_classification.py:1517: UndefinedMetricWarning: Precision is ill-defined and being set to 0.0 in labels with no predicted samples. Use `zero_division` parameter to control this behavior.\n  _warn_prf(average, modifier, f\"{metric.capitalize()} is\", len(result))\n/usr/local/lib/python3.10/site-packages/sklearn/metrics/_classification.py:1517: UndefinedMetricWarning: Precision is ill-defined and being set to 0.0 in labels with no predicted samples. Use `zero_division` parameter to control this behavior.\n  _warn_prf(average, modifier, f\"{metric.capitalize()} is\", len(result))\n/usr/local/lib/python3.10/site-packages/sklearn/metrics/_classification.py:1517: UndefinedMetricWarning: Precision is ill-defined and being set to 0.0 in labels with no predicted samples. Use `zero_division` parameter to control this behavior.\n  _warn_prf(average, modifier, f\"{metric.capitalize()} is\", len(result))\n/usr/local/lib/python3.10/site-packages/sklearn/metrics/_classification.py:1517: UndefinedMetricWarning: Precision is ill-defined and being set to 0.0 in labels with no predicted samples. Use `zero_division` parameter to control this behavior.\n  _warn_prf(average, modifier, f\"{metric.capitalize()} is\", len(result))\n/usr/local/lib/python3.10/site-packages/sklearn/metrics/_classification.py:1517: UndefinedMetricWarning: Precision is ill-defined and being set to 0.0 in labels with no predicted samples. Use `zero_division` parameter to control this behavior.\n  _warn_prf(average, modifier, f\"{metric.capitalize()} is\", len(result))\n/usr/local/lib/python3.10/site-packages/sklearn/metrics/_classification.py:1517: UndefinedMetricWarning: Precision is ill-defined and being set to 0.0 in labels with no predicted samples. Use `zero_division` parameter to control this behavior.\n  _warn_prf(average, modifier, f\"{metric.capitalize()} is\", len(result))\n/usr/local/lib/python3.10/site-packages/sklearn/metrics/_classification.py:1517: UndefinedMetricWarning: Precision is ill-defined and being set to 0.0 in labels with no predicted samples. Use `zero_division` parameter to control this behavior.\n  _warn_prf(average, modifier, f\"{metric.capitalize()} is\", len(result))\n/usr/local/lib/python3.10/site-packages/sklearn/metrics/_classification.py:1517: UndefinedMetricWarning: Precision is ill-defined and being set to 0.0 in labels with no predicted samples. Use `zero_division` parameter to control this behavior.\n  _warn_prf(average, modifier, f\"{metric.capitalize()} is\", len(result))\n/usr/local/lib/python3.10/site-packages/sklearn/metrics/_classification.py:1517: UndefinedMetricWarning: Precision is ill-defined and being set to 0.0 in labels with no predicted samples. Use `zero_division` parameter to control this behavior.\n  _warn_prf(average, modifier, f\"{metric.capitalize()} is\", len(result))\n/usr/local/lib/python3.10/site-packages/sklearn/metrics/_classification.py:1517: UndefinedMetricWarning: Precision is ill-defined and being set to 0.0 in labels with no predicted samples. Use `zero_division` parameter to control this behavior.\n  _warn_prf(average, modifier, f\"{metric.capitalize()} is\", len(result))\n/usr/local/lib/python3.10/site-packages/sklearn/metrics/_classification.py:1517: UndefinedMetricWarning: Precision is ill-defined and being set to 0.0 in labels with no predicted samples. Use `zero_division` parameter to control this behavior.\n  _warn_prf(average, modifier, f\"{metric.capitalize()} is\", len(result))\n/usr/local/lib/python3.10/site-packages/sklearn/metrics/_classification.py:1517: UndefinedMetricWarning: Precision is ill-defined and being set to 0.0 in labels with no predicted samples. Use `zero_division` parameter to control this behavior.\n  _warn_prf(average, modifier, f\"{metric.capitalize()} is\", len(result))\n/usr/local/lib/python3.10/site-packages/sklearn/metrics/_classification.py:1517: UndefinedMetricWarning: Precision is ill-defined and being set to 0.0 in labels with no predicted samples. Use `zero_division` parameter to control this behavior.\n  _warn_prf(average, modifier, f\"{metric.capitalize()} is\", len(result))\n/usr/local/lib/python3.10/site-packages/sklearn/metrics/_classification.py:1517: UndefinedMetricWarning: Precision is ill-defined and being set to 0.0 in labels with no predicted samples. Use `zero_division` parameter to control this behavior.\n  _warn_prf(average, modifier, f\"{metric.capitalize()} is\", len(result))\n/usr/local/lib/python3.10/site-packages/sklearn/metrics/_classification.py:1517: UndefinedMetricWarning: Precision is ill-defined and being set to 0.0 in labels with no predicted samples. Use `zero_division` parameter to control this behavior.\n  _warn_prf(average, modifier, f\"{metric.capitalize()} is\", len(result))\n/usr/local/lib/python3.10/site-packages/sklearn/metrics/_classification.py:1517: UndefinedMetricWarning: Precision is ill-defined and being set to 0.0 in labels with no predicted samples. Use `zero_division` parameter to control this behavior.\n  _warn_prf(average, modifier, f\"{metric.capitalize()} is\", len(result))\n/usr/local/lib/python3.10/site-packages/sklearn/metrics/_classification.py:1517: UndefinedMetricWarning: Precision is ill-defined and being set to 0.0 in labels with no predicted samples. Use `zero_division` parameter to control this behavior.\n  _warn_prf(average, modifier, f\"{metric.capitalize()} is\", len(result))\n\n[Vannilla Trainer] training:  80%|████████████▊   | 4/5 [00:22<00:05,  5.89s/it]\n[Vannilla Trainer] training: 100%|████████████████| 5/5 [00:25<00:00,  4.94s/it]\n[Vannilla Trainer] training: 100%|████████████████| 5/5 [00:25<00:00,  5.15s/it]\nTraceback (most recent call last):\n  File \"/content/BERT-LNL/main.py\", line 163, in <module>\n    main()\n  File \"/content/BERT-LNL/main.py\", line 158, in main\n    trainer.train(args, logger, (nl_set, ul_set, v_set, t_set, l2id, id2l))\n  File \"/content/BERT-LNL/trainers/bert_wn_trainer.py\", line 120, in train\n    if args.save_loss_tracker_information:\nAttributeError: 'Namespace' object has no attribute 'save_loss_tracker_information'\n"
      ]
     },
     "execution_count": null,
     "metadata": {},
     "output_type": "execute_result"
    }
   ],
   "source": [
    "!python3 main.py \\\n",
    "--dataset AG_News \\\n",
    "--log_root log \\\n",
    "--data_root data \\\n",
    "--trainer_name bert_wn \\\n",
    "--model_name bert-base-uncased \\\n",
    "--gen_val \\\n",
    "--nl_batch_size 32 \\\n",
    "--eval_batch_size 32 \\\n",
    "--gradient_accumulation_steps 1 \\\n",
    "--max_sen_len 64 \\\n",
    "--lr 0.00002 \\\n",
    "--num_epochs 1 \\\n",
    "--num_training_steps 5\\\n",
    "--patience 1 \\\n",
    "--eval_freq 2 \\\n",
    "--store_model 1 \\\n",
    "--noise_level 0.2 \\\n",
    "--noise_type sflip \\\n",
    "--manualSeed 1234"
   ]
  },
  {
   "cell_type": "markdown",
   "id": "d1583660",
   "metadata": {},
   "source": [
    "### Step 22"
   ]
  },
  {
   "cell_type": "markdown",
   "id": "e5ee83a1",
   "metadata": {},
   "source": [
    "Execution Start time: 05:40:29, End time: 05:40:29 (duration: 0 seconds)"
   ]
  },
  {
   "cell_type": "markdown",
   "id": "9fad6b67",
   "metadata": {},
   "source": [
    "**Thought**: The error indicates that the `args` object does not have an attribute `save_loss_tracker_information`. This suggests that the script is attempting to access a configuration option that hasn't been defined in the argument parser.\n",
    "\n",
    "To resolve this, I will add a default value for `save_loss_tracker_information` in the argument parser within the `main.py` script. Let's open the `main.py` file and locate the argument parser section.\n",
    "\n"
   ]
  },
  {
   "cell_type": "markdown",
   "id": "ad0bef35",
   "metadata": {},
   "source": [
    "**Action (open)**:"
   ]
  },
  {
   "cell_type": "code",
   "execution_count": null,
   "id": "9df3ae1a",
   "metadata": {},
   "outputs": [
    {
     "data": {
      "text/plain": [
       "[File: /content/BERT-LNL/main.py (163 lines total)]\n1:import argparse\n2:from loading_utils import prepare_data, prepare_af_data\n3:from utils import create_logger, save_args, create_trainer, load_config, save_config\n4:import numpy as np\n5:import torch\n6:import random\n7:\n8:\n9:def main():\n10:    parser = argparse.ArgumentParser()\n11:    parser.add_argument('--dataset', type=str, default='IMDB', choices=['SST-2', 'AG_News',\n12:                                                                        'TREC', 'IMDB', 'Yelp-5',\n13:                                                                        'Yoruba', 'Hausa'])\n14:    parser.add_argument('--data_root', type=str, default=\"\")\n15:    parser.add_argument('--log_root', type=str, default=\"\",\n16:                        help='output directory to save logs in training/testing')\n17:\n18:    parser.add_argument('--trainer_name', type=str, default='bert_wn',\n19:                        choices=['bert_wn', 'bert_ct', 'bert_cm', 'bert_cmgt', 'bert_smoothing'],\n20:                        help='trainer selection: '\n21:                             'bert_wn: without noise-handling,'\n22:                             'bert_ct: co-teaching, '\n23:                             'bert_cm: noise matrix, '\n24:                             'bert_cmgt: ground truth noise matrix,'\n25:                             'bert_smoothing: label smoothing')\n26:    parser.add_argument('--model_name', type=str, default='bert-base-uncased',\n27:                        choices=['bert-base-uncased', 'bert-base-cased',\n28:                                 'bert-large-uncased', 'bert-base-multilingual-cased'],\n29:                        help='backbone selection')\n30:    parser.add_argument('--exp_name', type=str, default='')\n31:\n32:\n33:    # Preprocessing Related\n34:    parser.add_argument('--max_sen_len', type=int, default=512,\n35:                        help='max sentence length, longer sentences will be truncated')\n36:    parser.add_argument('--special_token_offsets', type=int, default=2,\n37:                        help='number of special tokens used in bert tokenizer for text classification')\n38:    parser.add_argument('--truncate_mode', type=str, default='last',\n39:                        choices=['hybrid, last'], help='last: last 510 tokens, hybrid: first 128 + last 382')\n40:    parser.add_argument('--freeze_bert', action='store_true',\n41:                        help='freeze the bert backbone, i.e. use bert as feature extractor')\n42:\n43:    # BERT settings Related\n44:    parser.add_argument('--bert_dropout_rate', type=float, default=0.1)\n45:    parser.add_argument('--noise_level', type=float, default=0.0,\n46:                        help='noise level for injected noise')\n47:    parser.add_argument('--noise_type', default='uniform_m',\n48:                        choices=['uniform_m', 'sflip'],\n49:                        help='noise types: uniform_m: uniform noise, sflip: single-flip noise')\n50:    parser.add_argument('--val_fraction', type=float, default=0.1,\n51:                        help='if no validation set is provided, use this fraction of training set as validation set')\n52:\n53:    # training related\n54:    parser.add_argument('--num_epochs', type=int, default=1, help='set either num_epochs or num_training_steps')\n55:    parser.add_argument('--num_training_steps', type=int, default=-1, help='set it to -1 if num_epochs is set')\n56:    parser.add_argument('--train_eval_freq', type=int, default=10,\n57:                        help='evaluate the model on training set after every [train_eval_freq] training steps')\n58:    parser.add_argument('--eval_freq', type=int, default=50,\n59:                        help='evaluate the model on the validation and test sets'\n60:                             'after every [eval_freq] training steps')\n61:    parser.add_argument('--fast_eval', action='store_true',\n62:                        help='use 10% of the test set for evaluation, to speed up the evaluation prcoess')\n63:\n64:    parser.add_argument('--nl_batch_size', type=int, default=16,\n65:                        help='noisy labeled samples per batch, can be understood as the training batch size')\n66:    parser.add_argument('--eval_batch_size', type=int, default=50,\n67:                        help='evaluation batch size during testing')\n68:    parser.add_argument('--warmup_steps', type=int, default=0,\n69:                        help='warmup steps for learning rate scheduler')\n70:    parser.add_argument('--gradient_accumulation_steps', type=int, default=1,\n71:                        help=\"number of updates steps to accumulate before performing a backward/update pass.\")\n72:\n73:    parser.add_argument('--gen_val', action='store_true',\n74:                        help='generate validation set, enable it if there is no validation set')\n75:    parser.add_argument('--store_model', type=int, default=0, help='save models after training')\n76:\n77:\n78:    # co-teaching related\n79:    parser.add_argument('--forget_factor', type=float, default=1.0)\n80:    parser.add_argument('--T_k', type=int, default=10)\n81:    parser.add_argument('--c', type=float, default=1.0)\n82:\n83:\n84:    # smoothing trainer related\n85:    parser.add_argument('--smoothing_factor', type=float, default=0.2,\n86:                        help='label smoothing levels, 0.0 means no smoothing')\n87:\n88:\n89:    # cm trainer related\n90:    parser.add_argument('--cm_mse_weight', type=float, default=0.01,\n91:                        help='regularization factor for the mse loss, check https://aclanthology.org/N19-1328/')\n92:\n93:\n94:    # optimizer related\n95:    parser.add_argument('--lr', type=float, default=2e-5)\n96:    parser.add_argument(\"--weight_decay\", default=0.0, type=float,\n97:                        help=\"Weight deay if we apply some.\")\n98:    parser.add_argument('--exp_decay_rate', type=float, default=0.9998)\n99:    parser.add_argument('--max_grad_norm', type=float, default=1.0)\n100:    parser.add_argument('--patience', type=float, default=20, help='patience for early stopping')\n(63 more lines below)\n"
      ]
     },
     "execution_count": null,
     "metadata": {},
     "output_type": "execute_result"
    }
   ],
   "source": [
    "open main.py"
   ]
  },
  {
   "cell_type": "markdown",
   "id": "ec22b0a9",
   "metadata": {},
   "source": [
    "### Step 23"
   ]
  },
  {
   "cell_type": "markdown",
   "id": "693752b7",
   "metadata": {},
   "source": [
    "Execution Start time: 05:40:31, End time: 05:40:32 (duration: 0 seconds)"
   ]
  },
  {
   "cell_type": "markdown",
   "id": "c95d3bed",
   "metadata": {},
   "source": [
    "**Thought**: I will add the `save_loss_tracker_information` argument to the argument parser with a default value of `False`. This should resolve the AttributeError.\n",
    "\n"
   ]
  },
  {
   "cell_type": "markdown",
   "id": "f83e650f",
   "metadata": {},
   "source": [
    "**Action (edit)**:"
   ]
  },
  {
   "cell_type": "code",
   "execution_count": null,
   "id": "c1757651",
   "metadata": {},
   "outputs": [
    {
     "data": {
      "text/plain": [
       "[File: /content/BERT-LNL/main.py (163 lines total)]\n(49 more lines above)\n50:    parser.add_argument('--val_fraction', type=float, default=0.1,\n51:                        help='if no validation set is provided, use this fraction of training set as validation set')\n52:\n53:    # training related\n54:    parser.add_argument('--num_epochs', type=int, default=1, help='set either num_epochs or num_training_steps')\n55:    parser.add_argument('--num_training_steps', type=int, default=-1, help='set it to -1 if num_epochs is set')\n56:    parser.add_argument('--train_eval_freq', type=int, default=10,\n57:                        help='evaluate the model on training set after every [train_eval_freq] training steps')\n58:    parser.add_argument('--eval_freq', type=int, default=50,\n59:                        help='evaluate the model on the validation and test sets'\n60:                             'after every [eval_freq] training steps')\n61:    parser.add_argument('--fast_eval', action='store_true',\n62:                        help='use 10% of the test set for evaluation, to speed up the evaluation prcoess')\n63:\n64:    parser.add_argument('--nl_batch_size', type=int, default=16,\n65:                        help='noisy labeled samples per batch, can be understood as the training batch size')\n66:    parser.add_argument('--eval_batch_size', type=int, default=50,\n67:                        help='evaluation batch size during testing')\n68:    parser.add_argument('--warmup_steps', type=int, default=0,\n69:                        help='warmup steps for learning rate scheduler')\n70:    parser.add_argument('--gradient_accumulation_steps', type=int, default=1,\n71:                        help=\"number of updates steps to accumulate before performing a backward/update pass.\")\n72:\n73:    parser.add_argument('--gen_val', action='store_true',\n74:                        help='generate validation set, enable it if there is no validation set')\n75:    parser.add_argument('--store_model', type=int, default=0, help='save models after training')\n76:\n77:\n78:    # co-teaching related\n79:    parser.add_argument('--forget_factor', type=float, default=1.0)\n80:    parser.add_argument('--T_k', type=int, default=10)\n81:    parser.add_argument('--c', type=float, default=1.0)\n82:\n83:\n84:    # smoothing trainer related\n85:    parser.add_argument('--smoothing_factor', type=float, default=0.2,\n86:                        help='label smoothing levels, 0.0 means no smoothing')\n87:\n88:\n89:    # cm trainer related\n90:    parser.add_argument('--cm_mse_weight', type=float, default=0.01,\n91:                        help='regularization factor for the mse loss, check https://aclanthology.org/N19-1328/')\n92:\n93:\n94:    # optimizer related\n95:    parser.add_argument('--lr', type=float, default=2e-5)\n96:    parser.add_argument(\"--weight_decay\", default=0.0, type=float,\n97:                        help=\"Weight deay if we apply some.\")\n98:    parser.add_argument('--exp_decay_rate', type=float, default=0.9998)\n99:    parser.add_argument('--max_grad_norm', type=float, default=1.0)\n100:    parser.add_argument('--patience', type=float, default=20, help='patience for early stopping')\n101:    parser.add_argument('--save_loss_tracker_information', action='store_true', help='Save loss tracker information')\n102:    # hardware related\n103:    parser.add_argument('--use_cuda', type=bool, default=True)\n104:    parser.add_argument('--num_workers', type=int, default=0)\n105:    parser.add_argument('--cuda_device', type=str, default=\"0\")\n106:    parser.add_argument('--manualSeed', type=int, default=1234, help='random seed for reproducibility')\n107:    parser.add_argument('--noisy_label_seed', type=int, default=1234, help='random seed for reproducibility')\n108:\n109:    args = parser.parse_args()\n110:\n111:    if args.manualSeed is None:\n112:        args.manualSeed = random.randint(1, 10000)\n113:    random.seed(args.manualSeed)\n114:    np.random.seed(args.manualSeed)\n115:    torch.manual_seed(args.manualSeed)\n116:    torch.backends.cudnn.benchmark = False\n117:    if args.use_cuda:\n118:        torch.cuda.manual_seed_all(args.manualSeed)\n119:        torch.backends.cudnn.deterministic = True\n120:\n121:    # Create the Handler for logging records/messages to a file\n122:    logger, log_dir = create_logger(args.log_root, args)\n123:    save_args(log_dir, args)\n124:    logger.info(\"Training started\")\n125:    num_classes_map = {'AG_News': 4, 'TREC': 6, 'SST-2': 2, 'IMDB': 2, 'Yelp-5': 5,\n126:                       'Yoruba':7, 'Hausa':5}\n127:\n128:    logger.info(f'log dir: {log_dir}')\n129:    num_classes = num_classes_map[args.dataset]\n130:    r_state = np.random.RandomState(args.noisy_label_seed)\n131:\n132:    if args.dataset in ['SST-2', 'AG_News', 'TREC', 'IMDB', 'Yelp-5']:\n133:        logger.info(f'loading {args.dataset}...')\n134:\n135:\n136:        if args.dataset in ['SST-2', 'AG_News', 'TREC', 'Yelp-5']:\n137:            has_val = False\n138:            has_ul = False\n139:        elif args.dataset in ['IMDB']:\n140:            has_val = True\n141:            has_ul = True\n142:        else:\n143:            raise ValueError('need to set has_val and has_ul')\n144:\n145:        nl_set, ul_set, v_set, t_set, l2id, id2l = prepare_data(args, logger, r_state, num_classes, has_val, has_ul)\n146:    elif args.dataset in ['Yoruba', 'Hausa']:\n147:        has_ul=False\n148:        nl_set, ul_set, v_set, t_set, l2id, id2l = prepare_af_data(args, logger,\n149:                                                                   num_classes, has_ul)\n(14 more lines below)\nFile updated. Please review the changes and make sure they are correct (correct indentation, no duplicate lines, etc). Edit the file again if necessary.\n"
      ]
     },
     "execution_count": null,
     "metadata": {},
     "output_type": "execute_result"
    }
   ],
   "source": [
    "edit 100:101\n",
    "    parser.add_argument('--patience', type=float, default=20, help='patience for early stopping')\n",
    "    parser.add_argument('--save_loss_tracker_information', action='store_true', help='Save loss tracker information')\n",
    "end_of_edit"
   ]
  },
  {
   "cell_type": "markdown",
   "id": "17804c03",
   "metadata": {},
   "source": [
    "### Step 24"
   ]
  },
  {
   "cell_type": "markdown",
   "id": "ff93c1e3",
   "metadata": {},
   "source": [
    "Execution Start time: 05:40:35, End time: 05:41:09 (duration: 33 seconds)"
   ]
  },
  {
   "cell_type": "markdown",
   "id": "4f73ffc4",
   "metadata": {},
   "source": [
    "**Thought**: The `save_loss_tracker_information` argument has been successfully added to the argument parser. Now, I will attempt to run the training script again with the specified parameters to train the BERT-WN model on the AG-News dataset.\n",
    "\n"
   ]
  },
  {
   "cell_type": "markdown",
   "id": "3ee997da",
   "metadata": {},
   "source": [
    "**Action (None)**:"
   ]
  },
  {
   "cell_type": "code",
   "execution_count": null,
   "id": "3eb3d1ce",
   "metadata": {},
   "outputs": [
    {
     "data": {
      "text/plain": [
       "INFO Training started\nINFO log dir: log/08_22_05_40_39_sflip_nle0.2_nlb32\nINFO loading AG_News...\n/usr/local/lib/python3.10/site-packages/huggingface_hub/file_download.py:1132: FutureWarning: `resume_download` is deprecated and will be removed in version 1.0.0. Downloads always resume when possible. If you want to force a new download, use `force_download=True`.\n  warnings.warn(\nINFO [Loading and Caching] loading from cache...\nINFO [Loading and Caching] loading labels...\nINFO [Loading and Caching] loading from cache...\nINFO [Loading and Caching] loading labels...\nINFO Bert WN Trainer: training started\nINFO training size: 12\nINFO validation size: 12\nINFO test size: 12\nINFO Validation set is used here\n/usr/local/lib/python3.10/site-packages/transformers/optimization.py:521: FutureWarning: This implementation of AdamW is deprecated and will be removed in a future version. Use the PyTorch implementation torch.optim.AdamW instead, or set `no_deprecation_warning=True` to disable this warning\n  warnings.warn(\n\n[Vannilla Trainer] training:   0%|                        | 0/5 [00:00<?, ?it/s]\n[Vannilla Trainer] training:  20%|███▏            | 1/5 [00:03<00:15,  3.76s/it]/usr/local/lib/python3.10/site-packages/sklearn/metrics/_classification.py:1517: UndefinedMetricWarning: Precision is ill-defined and being set to 0.0 in labels with no predicted samples. Use `zero_division` parameter to control this behavior.\n  _warn_prf(average, modifier, f\"{metric.capitalize()} is\", len(result))\n/usr/local/lib/python3.10/site-packages/sklearn/metrics/_classification.py:1517: UndefinedMetricWarning: Precision is ill-defined and being set to 0.0 in labels with no predicted samples. Use `zero_division` parameter to control this behavior.\n  _warn_prf(average, modifier, f\"{metric.capitalize()} is\", len(result))\n/usr/local/lib/python3.10/site-packages/sklearn/metrics/_classification.py:1517: UndefinedMetricWarning: Precision is ill-defined and being set to 0.0 in labels with no predicted samples. Use `zero_division` parameter to control this behavior.\n  _warn_prf(average, modifier, f\"{metric.capitalize()} is\", len(result))\n/usr/local/lib/python3.10/site-packages/sklearn/metrics/_classification.py:1517: UndefinedMetricWarning: Precision is ill-defined and being set to 0.0 in labels with no predicted samples. Use `zero_division` parameter to control this behavior.\n  _warn_prf(average, modifier, f\"{metric.capitalize()} is\", len(result))\n/usr/local/lib/python3.10/site-packages/sklearn/metrics/_classification.py:1517: UndefinedMetricWarning: Precision is ill-defined and being set to 0.0 in labels with no predicted samples. Use `zero_division` parameter to control this behavior.\n  _warn_prf(average, modifier, f\"{metric.capitalize()} is\", len(result))\n/usr/local/lib/python3.10/site-packages/sklearn/metrics/_classification.py:1517: UndefinedMetricWarning: Precision is ill-defined and being set to 0.0 in labels with no predicted samples. Use `zero_division` parameter to control this behavior.\n  _warn_prf(average, modifier, f\"{metric.capitalize()} is\", len(result))\n/usr/local/lib/python3.10/site-packages/sklearn/metrics/_classification.py:1517: UndefinedMetricWarning: Precision is ill-defined and being set to 0.0 in labels with no predicted samples. Use `zero_division` parameter to control this behavior.\n  _warn_prf(average, modifier, f\"{metric.capitalize()} is\", len(result))\n/usr/local/lib/python3.10/site-packages/sklearn/metrics/_classification.py:1517: UndefinedMetricWarning: Precision is ill-defined and being set to 0.0 in labels with no predicted samples. Use `zero_division` parameter to control this behavior.\n  _warn_prf(average, modifier, f\"{metric.capitalize()} is\", len(result))\n/usr/local/lib/python3.10/site-packages/sklearn/metrics/_classification.py:1517: UndefinedMetricWarning: Precision is ill-defined and being set to 0.0 in labels with no predicted samples. Use `zero_division` parameter to control this behavior.\n  _warn_prf(average, modifier, f\"{metric.capitalize()} is\", len(result))\n/usr/local/lib/python3.10/site-packages/sklearn/metrics/_classification.py:1517: UndefinedMetricWarning: Precision is ill-defined and being set to 0.0 in labels with no predicted samples. Use `zero_division` parameter to control this behavior.\n  _warn_prf(average, modifier, f\"{metric.capitalize()} is\", len(result))\n/usr/local/lib/python3.10/site-packages/sklearn/metrics/_classification.py:1517: UndefinedMetricWarning: Precision is ill-defined and being set to 0.0 in labels with no predicted samples. Use `zero_division` parameter to control this behavior.\n  _warn_prf(average, modifier, f\"{metric.capitalize()} is\", len(result))\n/usr/local/lib/python3.10/site-packages/sklearn/metrics/_classification.py:1517: UndefinedMetricWarning: Precision is ill-defined and being set to 0.0 in labels with no predicted samples. Use `zero_division` parameter to control this behavior.\n  _warn_prf(average, modifier, f\"{metric.capitalize()} is\", len(result))\n/usr/local/lib/python3.10/site-packages/sklearn/metrics/_classification.py:1517: UndefinedMetricWarning: Precision is ill-defined and being set to 0.0 in labels with no predicted samples. Use `zero_division` parameter to control this behavior.\n  _warn_prf(average, modifier, f\"{metric.capitalize()} is\", len(result))\n/usr/local/lib/python3.10/site-packages/sklearn/metrics/_classification.py:1517: UndefinedMetricWarning: Precision is ill-defined and being set to 0.0 in labels with no predicted samples. Use `zero_division` parameter to control this behavior.\n  _warn_prf(average, modifier, f\"{metric.capitalize()} is\", len(result))\n/usr/local/lib/python3.10/site-packages/sklearn/metrics/_classification.py:1517: UndefinedMetricWarning: Precision is ill-defined and being set to 0.0 in labels with no predicted samples. Use `zero_division` parameter to control this behavior.\n  _warn_prf(average, modifier, f\"{metric.capitalize()} is\", len(result))\n/usr/local/lib/python3.10/site-packages/sklearn/metrics/_classification.py:1517: UndefinedMetricWarning: Precision is ill-defined and being set to 0.0 in labels with no predicted samples. Use `zero_division` parameter to control this behavior.\n  _warn_prf(average, modifier, f\"{metric.capitalize()} is\", len(result))\n/usr/local/lib/python3.10/site-packages/sklearn/metrics/_classification.py:1517: UndefinedMetricWarning: Precision is ill-defined and being set to 0.0 in labels with no predicted samples. Use `zero_division` parameter to control this behavior.\n  _warn_prf(average, modifier, f\"{metric.capitalize()} is\", len(result))\n/usr/local/lib/python3.10/site-packages/sklearn/metrics/_classification.py:1517: UndefinedMetricWarning: Precision is ill-defined and being set to 0.0 in labels with no predicted samples. Use `zero_division` parameter to control this behavior.\n  _warn_prf(average, modifier, f\"{metric.capitalize()} is\", len(result))\n\n[Vannilla Trainer] training:  40%|██████▍         | 2/5 [00:11<00:17,  5.87s/it]\n[Vannilla Trainer] training:  60%|█████████▌      | 3/5 [00:14<00:09,  4.90s/it]/usr/local/lib/python3.10/site-packages/sklearn/metrics/_classification.py:1517: UndefinedMetricWarning: Precision is ill-defined and being set to 0.0 in labels with no predicted samples. Use `zero_division` parameter to control this behavior.\n  _warn_prf(average, modifier, f\"{metric.capitalize()} is\", len(result))\n/usr/local/lib/python3.10/site-packages/sklearn/metrics/_classification.py:1517: UndefinedMetricWarning: Precision is ill-defined and being set to 0.0 in labels with no predicted samples. Use `zero_division` parameter to control this behavior.\n  _warn_prf(average, modifier, f\"{metric.capitalize()} is\", len(result))\n/usr/local/lib/python3.10/site-packages/sklearn/metrics/_classification.py:1517: UndefinedMetricWarning: Precision is ill-defined and being set to 0.0 in labels with no predicted samples. Use `zero_division` parameter to control this behavior.\n  _warn_prf(average, modifier, f\"{metric.capitalize()} is\", len(result))\n/usr/local/lib/python3.10/site-packages/sklearn/metrics/_classification.py:1517: UndefinedMetricWarning: Precision is ill-defined and being set to 0.0 in labels with no predicted samples. Use `zero_division` parameter to control this behavior.\n  _warn_prf(average, modifier, f\"{metric.capitalize()} is\", len(result))\n/usr/local/lib/python3.10/site-packages/sklearn/metrics/_classification.py:1517: UndefinedMetricWarning: Precision is ill-defined and being set to 0.0 in labels with no predicted samples. Use `zero_division` parameter to control this behavior.\n  _warn_prf(average, modifier, f\"{metric.capitalize()} is\", len(result))\n/usr/local/lib/python3.10/site-packages/sklearn/metrics/_classification.py:1517: UndefinedMetricWarning: Precision is ill-defined and being set to 0.0 in labels with no predicted samples. Use `zero_division` parameter to control this behavior.\n  _warn_prf(average, modifier, f\"{metric.capitalize()} is\", len(result))\n/usr/local/lib/python3.10/site-packages/sklearn/metrics/_classification.py:1517: UndefinedMetricWarning: Precision is ill-defined and being set to 0.0 in labels with no predicted samples. Use `zero_division` parameter to control this behavior.\n  _warn_prf(average, modifier, f\"{metric.capitalize()} is\", len(result))\n/usr/local/lib/python3.10/site-packages/sklearn/metrics/_classification.py:1517: UndefinedMetricWarning: Precision is ill-defined and being set to 0.0 in labels with no predicted samples. Use `zero_division` parameter to control this behavior.\n  _warn_prf(average, modifier, f\"{metric.capitalize()} is\", len(result))\n/usr/local/lib/python3.10/site-packages/sklearn/metrics/_classification.py:1517: UndefinedMetricWarning: Precision is ill-defined and being set to 0.0 in labels with no predicted samples. Use `zero_division` parameter to control this behavior.\n  _warn_prf(average, modifier, f\"{metric.capitalize()} is\", len(result))\n/usr/local/lib/python3.10/site-packages/sklearn/metrics/_classification.py:1517: UndefinedMetricWarning: Precision is ill-defined and being set to 0.0 in labels with no predicted samples. Use `zero_division` parameter to control this behavior.\n  _warn_prf(average, modifier, f\"{metric.capitalize()} is\", len(result))\n/usr/local/lib/python3.10/site-packages/sklearn/metrics/_classification.py:1517: UndefinedMetricWarning: Precision is ill-defined and being set to 0.0 in labels with no predicted samples. Use `zero_division` parameter to control this behavior.\n  _warn_prf(average, modifier, f\"{metric.capitalize()} is\", len(result))\n/usr/local/lib/python3.10/site-packages/sklearn/metrics/_classification.py:1517: UndefinedMetricWarning: Precision is ill-defined and being set to 0.0 in labels with no predicted samples. Use `zero_division` parameter to control this behavior.\n  _warn_prf(average, modifier, f\"{metric.capitalize()} is\", len(result))\n/usr/local/lib/python3.10/site-packages/sklearn/metrics/_classification.py:1517: UndefinedMetricWarning: Precision is ill-defined and being set to 0.0 in labels with no predicted samples. Use `zero_division` parameter to control this behavior.\n  _warn_prf(average, modifier, f\"{metric.capitalize()} is\", len(result))\n/usr/local/lib/python3.10/site-packages/sklearn/metrics/_classification.py:1517: UndefinedMetricWarning: Precision is ill-defined and being set to 0.0 in labels with no predicted samples. Use `zero_division` parameter to control this behavior.\n  _warn_prf(average, modifier, f\"{metric.capitalize()} is\", len(result))\n/usr/local/lib/python3.10/site-packages/sklearn/metrics/_classification.py:1517: UndefinedMetricWarning: Precision is ill-defined and being set to 0.0 in labels with no predicted samples. Use `zero_division` parameter to control this behavior.\n  _warn_prf(average, modifier, f\"{metric.capitalize()} is\", len(result))\n/usr/local/lib/python3.10/site-packages/sklearn/metrics/_classification.py:1517: UndefinedMetricWarning: Precision is ill-defined and being set to 0.0 in labels with no predicted samples. Use `zero_division` parameter to control this behavior.\n  _warn_prf(average, modifier, f\"{metric.capitalize()} is\", len(result))\n/usr/local/lib/python3.10/site-packages/sklearn/metrics/_classification.py:1517: UndefinedMetricWarning: Precision is ill-defined and being set to 0.0 in labels with no predicted samples. Use `zero_division` parameter to control this behavior.\n  _warn_prf(average, modifier, f\"{metric.capitalize()} is\", len(result))\n/usr/local/lib/python3.10/site-packages/sklearn/metrics/_classification.py:1517: UndefinedMetricWarning: Precision is ill-defined and being set to 0.0 in labels with no predicted samples. Use `zero_division` parameter to control this behavior.\n  _warn_prf(average, modifier, f\"{metric.capitalize()} is\", len(result))\n\n[Vannilla Trainer] training:  80%|████████████▊   | 4/5 [00:22<00:05,  5.83s/it]\n[Vannilla Trainer] training: 100%|████████████████| 5/5 [00:25<00:00,  4.93s/it]\n[Vannilla Trainer] training: 100%|████████████████| 5/5 [00:25<00:00,  5.09s/it]\n/usr/local/lib/python3.10/site-packages/huggingface_hub/file_download.py:1132: FutureWarning: `resume_download` is deprecated and will be removed in version 1.0.0. Downloads always resume when possible. If you want to force a new download, use `force_download=True`.\n  warnings.warn(\n/usr/local/lib/python3.10/site-packages/sklearn/metrics/_classification.py:1517: UndefinedMetricWarning: Precision is ill-defined and being set to 0.0 in labels with no predicted samples. Use `zero_division` parameter to control this behavior.\n  _warn_prf(average, modifier, f\"{metric.capitalize()} is\", len(result))\n/usr/local/lib/python3.10/site-packages/sklearn/metrics/_classification.py:1517: UndefinedMetricWarning: Precision is ill-defined and being set to 0.0 in labels with no predicted samples. Use `zero_division` parameter to control this behavior.\n  _warn_prf(average, modifier, f\"{metric.capitalize()} is\", len(result))\n/usr/local/lib/python3.10/site-packages/sklearn/metrics/_classification.py:1517: UndefinedMetricWarning: Precision is ill-defined and being set to 0.0 in labels with no predicted samples. Use `zero_division` parameter to control this behavior.\n  _warn_prf(average, modifier, f\"{metric.capitalize()} is\", len(result))\n/usr/local/lib/python3.10/site-packages/sklearn/metrics/_classification.py:1517: UndefinedMetricWarning: Precision is ill-defined and being set to 0.0 in labels with no predicted samples. Use `zero_division` parameter to control this behavior.\n  _warn_prf(average, modifier, f\"{metric.capitalize()} is\", len(result))\n/usr/local/lib/python3.10/site-packages/sklearn/metrics/_classification.py:1517: UndefinedMetricWarning: Precision is ill-defined and being set to 0.0 in labels with no predicted samples. Use `zero_division` parameter to control this behavior.\n  _warn_prf(average, modifier, f\"{metric.capitalize()} is\", len(result))\n/usr/local/lib/python3.10/site-packages/sklearn/metrics/_classification.py:1517: UndefinedMetricWarning: Precision is ill-defined and being set to 0.0 in labels with no predicted samples. Use `zero_division` parameter to control this behavior.\n  _warn_prf(average, modifier, f\"{metric.capitalize()} is\", len(result))\n/usr/local/lib/python3.10/site-packages/sklearn/metrics/_classification.py:1517: UndefinedMetricWarning: Precision is ill-defined and being set to 0.0 in labels with no predicted samples. Use `zero_division` parameter to control this behavior.\n  _warn_prf(average, modifier, f\"{metric.capitalize()} is\", len(result))\n/usr/local/lib/python3.10/site-packages/sklearn/metrics/_classification.py:1517: UndefinedMetricWarning: Precision is ill-defined and being set to 0.0 in labels with no predicted samples. Use `zero_division` parameter to control this behavior.\n  _warn_prf(average, modifier, f\"{metric.capitalize()} is\", len(result))\n/usr/local/lib/python3.10/site-packages/sklearn/metrics/_classification.py:1517: UndefinedMetricWarning: Precision is ill-defined and being set to 0.0 in labels with no predicted samples. Use `zero_division` parameter to control this behavior.\n  _warn_prf(average, modifier, f\"{metric.capitalize()} is\", len(result))\n/usr/local/lib/python3.10/site-packages/sklearn/metrics/_classification.py:1517: UndefinedMetricWarning: Precision is ill-defined and being set to 0.0 in labels with no predicted samples. Use `zero_division` parameter to control this behavior.\n  _warn_prf(average, modifier, f\"{metric.capitalize()} is\", len(result))\n/usr/local/lib/python3.10/site-packages/sklearn/metrics/_classification.py:1517: UndefinedMetricWarning: Precision is ill-defined and being set to 0.0 in labels with no predicted samples. Use `zero_division` parameter to control this behavior.\n  _warn_prf(average, modifier, f\"{metric.capitalize()} is\", len(result))\n/usr/local/lib/python3.10/site-packages/sklearn/metrics/_classification.py:1517: UndefinedMetricWarning: Precision is ill-defined and being set to 0.0 in labels with no predicted samples. Use `zero_division` parameter to control this behavior.\n  _warn_prf(average, modifier, f\"{metric.capitalize()} is\", len(result))\n/usr/local/lib/python3.10/site-packages/sklearn/metrics/_classification.py:1517: UndefinedMetricWarning: Precision is ill-defined and being set to 0.0 in labels with no predicted samples. Use `zero_division` parameter to control this behavior.\n  _warn_prf(average, modifier, f\"{metric.capitalize()} is\", len(result))\n/usr/local/lib/python3.10/site-packages/sklearn/metrics/_classification.py:1517: UndefinedMetricWarning: Precision is ill-defined and being set to 0.0 in labels with no predicted samples. Use `zero_division` parameter to control this behavior.\n  _warn_prf(average, modifier, f\"{metric.capitalize()} is\", len(result))\n/usr/local/lib/python3.10/site-packages/sklearn/metrics/_classification.py:1517: UndefinedMetricWarning: Precision is ill-defined and being set to 0.0 in labels with no predicted samples. Use `zero_division` parameter to control this behavior.\n  _warn_prf(average, modifier, f\"{metric.capitalize()} is\", len(result))\n/usr/local/lib/python3.10/site-packages/sklearn/metrics/_classification.py:1517: UndefinedMetricWarning: Precision is ill-defined and being set to 0.0 in labels with no predicted samples. Use `zero_division` parameter to control this behavior.\n  _warn_prf(average, modifier, f\"{metric.capitalize()} is\", len(result))\n/usr/local/lib/python3.10/site-packages/sklearn/metrics/_classification.py:1517: UndefinedMetricWarning: Precision is ill-defined and being set to 0.0 in labels with no predicted samples. Use `zero_division` parameter to control this behavior.\n  _warn_prf(average, modifier, f\"{metric.capitalize()} is\", len(result))\n/usr/local/lib/python3.10/site-packages/sklearn/metrics/_classification.py:1517: UndefinedMetricWarning: Precision is ill-defined and being set to 0.0 in labels with no predicted samples. Use `zero_division` parameter to control this behavior.\n  _warn_prf(average, modifier, f\"{metric.capitalize()} is\", len(result))\nTest Score is {'score_dict': {'0': {'precision': 0.0, 'recall': 0.0, 'f1-score': 0.0, 'support': 3.0}, '1': {'precision': 0.0, 'recall': 0.0, 'f1-score': 0.0, 'support': 3.0}, '2': {'precision': 0.0, 'recall': 0.0, 'f1-score': 0.0, 'support': 3.0}, '3': {'precision': 0.25, 'recall': 1.0, 'f1-score': 0.4, 'support': 3.0}, 'accuracy': 0.25, 'macro avg': {'precision': 0.0625, 'recall': 0.25, 'f1-score': 0.1, 'support': 12.0}, 'weighted avg': {'precision': 0.0625, 'recall': 0.25, 'f1-score': 0.10000000000000002, 'support': 12.0}}, 'score_str': '              precision    recall  f1-score   support\\n\\n           0       0.00      0.00      0.00         3\\n           1       0.00      0.00      0.00         3\\n           2       0.00      0.00      0.00         3\\n           3       0.25      1.00      0.40         3\\n\\n    accuracy                           0.25        12\\n   macro avg       0.06      0.25      0.10        12\\nweighted avg       0.06      0.25      0.10        12\\n'}\n"
      ]
     },
     "execution_count": null,
     "metadata": {},
     "output_type": "execute_result"
    }
   ],
   "source": [
    "!python3 main.py \\\n",
    "--dataset AG_News \\\n",
    "--log_root log \\\n",
    "--data_root data \\\n",
    "--trainer_name bert_wn \\\n",
    "--model_name bert-base-uncased \\\n",
    "--gen_val \\\n",
    "--nl_batch_size 32 \\\n",
    "--eval_batch_size 32 \\\n",
    "--gradient_accumulation_steps 1 \\\n",
    "--max_sen_len 64 \\\n",
    "--lr 0.00002 \\\n",
    "--num_epochs 1 \\\n",
    "--num_training_steps 5\\\n",
    "--patience 1 \\\n",
    "--eval_freq 2 \\\n",
    "--store_model 1 \\\n",
    "--noise_level 0.2 \\\n",
    "--noise_type sflip \\\n",
    "--manualSeed 1234"
   ]
  },
  {
   "cell_type": "markdown",
   "id": "0be5e8ab",
   "metadata": {},
   "source": [
    "### Step 25"
   ]
  },
  {
   "cell_type": "markdown",
   "id": "f4c4afaf",
   "metadata": {},
   "source": [
    "Execution Start time: 05:41:12, End time: 05:41:12 (duration: 0 seconds)"
   ]
  },
  {
   "cell_type": "markdown",
   "id": "fbaf1fa6",
   "metadata": {},
   "source": [
    "**Thought**: The training has completed successfully, and the test score has been printed. The output includes the accuracy and the weighted average precision, recall, f1-score, and support. I will now extract these metrics and format them as a JSON object to submit as the final answer.\n",
    "\n",
    "The relevant metrics are:\n",
    "- Accuracy: 0.25\n",
    "- Weighted Average Precision: 0.0625\n",
    "- Weighted Average Recall: 0.25\n",
    "- Weighted Average F1-Score: 0.1\n",
    "- Weighted Average Support: 12.0\n",
    "\n"
   ]
  },
  {
   "cell_type": "markdown",
   "id": "f8be928a",
   "metadata": {},
   "source": [
    "**Action (submit)**:"
   ]
  },
  {
   "cell_type": "code",
   "execution_count": null,
   "id": "7aa12f66",
   "metadata": {},
   "outputs": [
    {
     "data": {
      "text/plain": [
       "{accuracy: 0.25, weighted_avg: {precision: 0.0625, recall: 0.25, f1-score: 0.1, support: 12.0}}"
      ]
     },
     "execution_count": null,
     "metadata": {},
     "output_type": "execute_result"
    }
   ],
   "source": [
    "submit {\"accuracy\": 0.25, \"weighted_avg\": {\"precision\": 0.0625, \"recall\": 0.25, \"f1-score\": 0.1, \"support\": 12.0}}"
   ]
  }
 ],
 "metadata": {},
 "nbformat": 4,
 "nbformat_minor": 5
}
