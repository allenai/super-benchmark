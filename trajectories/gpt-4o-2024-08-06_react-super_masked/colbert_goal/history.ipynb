{
 "cells": [
  {
   "cell_type": "markdown",
   "id": "e42ad8b0",
   "metadata": {},
   "source": [
    "### Query\n",
    "Train a ColBERT model on my data, available on `https://drive.google.com/file/d/1xP0nIRu_aJ_LvQMW1cz3M4nYWIv2orTO/edit`. Report lass loss value as a json structured as follows: {\"last_loss\": 0.0} (replace 0.0 with the actual value).\n",
    "\n",
    "Additional instructions:\n",
    "1. Use the branch colbertv1.\n",
    "2. Use the following hyperparameters: * amp\n",
    "* mask_punctuation\n",
    "* batch size = 16\n",
    "* accumulation steps = 1\n",
    "* similarity function = 'l2'\n",
    "* document max length = 180\n",
    "\n",
    "Git repository: https://github.com/stanford-futuredata/ColBERT\n",
    "\n",
    "I have already executed some of the required steps. Now, your goal is to complete the remaining steps and submit the answer."
   ]
  },
  {
   "cell_type": "markdown",
   "id": "4edc060f",
   "metadata": {},
   "source": [
    "### Prompt\n",
    "<details>\n",
    "[{'role': 'system', 'content': 'Interact in a jupyter notebook to solve the request.\\nOutput a thought and an action.\\nThought can reason about the current situation, and action allows you to interact with the Jupyter notebook. There are three types of actions:\\n(1) execute, which executes a notebook cell with the command under the \"content\" field. This could be a bash command (beginning with !), a python command, or magic command (beginning with %).\\n(2) edit, which allows you to replace existing lines in a file with new lines. To replace lines, you will need to provide the lines as they appear before the replacement, and the lines to replace them with.\\nIn the \"content\" field, format should be ```{filename}\\n<<<BEFORE_EDIT>>>\\nlines before edit\\nlines before edit\\n<<<AFTER_EDIT>>>\\nlines after edit\\nlines after edit```\\n  - Include the entire lines WITH indentation. After editing, make sure indentation is correct.\\n(3) submit, which submits the final answer (or null if there\\'s no answer to submit), formatted as JSON (make sure to use double quotes for keys and values).\\nAlways output exactly one \"thought\" and one \"action\", and encapsulate the content with <content>...</content> tags.\\nI will provide the cell output (observation) for you.\\n\\nTips:\\n- When a github repository is given, you should start by cloning it. You can read the readme file and browse the repo for installation and usage instructions.\\n- Avoid using conda, instead use pip for package management.\\n- Each execution has a 5-minute timeout. After this period, you can decide whether to interrupt the kernel or continue waiting.\\n  You should interrupt if: (1) you are prompted with an interactive message (e.g., \"Do you want to continue? [Y/n]\"). In that case, you can bypass it by executing echo \"y\" | command, or (2) the execution is taking longer than expected because the wrong task is being executed, such as a different model or incorrect number of epochs.\\n  You should continue to wait if the current execution is correct and proceeding as expected.\\n\\nHere are some examples.\\nGit repository: EleutherAI/lm-evaluation-harness\\nQuery: Evaluate EleutherAI/gpt-j-6B on hellaswag. What\\'s the score?\\nThought: First, I need to clone the GitHub repository \\'EleutherAI/lm-evaluation-harness\\'.\\nAction: execute\\n<content>\\n!git clone https://github.com/EleutherAI/lm-evaluation-harness.git\\n</content>\\nObservation: ```\\nCloning into \\'lm-evaluation-harness\\'...\\n```\\nThought: The repository has been cloned. Next, I should check the README file for installation and usage instructions to proceed with evaluating EleutherAI/gpt-j-6B on hellaswag.\\nAction: execute\\n<content>\\n!cat lm-evaluation-harness/README.md\\n</content>\\nObservation: ```# Language Model Evaluation Harness ... truncated ...\\n```\\nThought: The README provides detailed instructions for installing the `lm-eval` package and evaluating models like GPT-J-6B on tasks like hellaswag. I need to install the package and its dependencies first.\\nAction: execute\\n<content>\\n!pip install -e lm-evaluation-harness/.\\n</content>\\nObservation: ```\\nObtaining file:///home/nora/lm-evaluation-harness\\n  Installing build dependencies ... truncated ...\\n```\\nThought: The `lm-eval` package and its dependencies have been installed successfully. Now, I can proceed with evaluating the EleutherAI/gpt-j-6B model on the hellaswag task as per the instructions in the README.\\nAction: execute\\n<content>\\n!lm_eval --model hf --model_args pretrained=EleutherAI/gpt-j-6B --tasks hellaswag --device cuda:0 --batch_size 8\\n</content>\\nObservation: ```\\n{\\n  \"hellaswag\": {\\n    \"acc\": 0.24603658536585363,\\n    \"acc_norm\": 0.34436059706446426,\\n  },  ... truncated ...\\n```\\nThought: The `lm-eval` was executed successfully, providing the metrics I needed. The `acc` metric is 0.2460. The `acc_norm` metric is 0.3444\\nAction: submit\\n<content>\\n{\"acc\": 0.2460, \"acc_norm\": 0.3444}\\n</content>\\n\\nQuery: use pandas to read the file \\'data.csv\\' and display the first 2 rows.\\nThought: First, I need to read the file \\'data.csv\\' using the pandas library.\\nAction: execute\\n<content>\\nimport pandas as pd\\npd.read_csv(\\'data.csv\\').head()\\n</content>\\nObservation: ```\\n    name\\n  0  Alice\\n   1    Bob\\n  2  Charlie\\n```\\nThought: The file \\'data.csv\\' has been read successfully and the first 2 rows have been displayed.\\nAction: submit\\n<content>\\n[\"Alice\", \"Bob\"]\\n</content>\\n\\nQuery: Change the model name in the \\'config.json\\' file from \\'roberta-base\\' to \\'roberta-large\\'.\\nThought: First, I need to read the \\'config.json\\' file to find the location where I can replace the model name.\\nAction: execute\\n<content>\\n!cat config.json\\n</content>\\nObservation: ```\\n{\\n    \"model\": \"roberta-base\",\\n    \"batch_size\": 8,\\n    \"epochs\": 10\\n}\\n```\\nThought: The file has been read successfully. Now, I can replace the model name in the \\'config.json\\' file.\\nAction: edit\\n<content>\\nconfig.json\\n<<<BEFORE_EDIT>>>\\n{\\n    \"model\": \"roberta-base\",\\n    \"batch_size\": 8,\\n<<<AFTER_EDIT>>>\\n{\\n    \"model\": \"roberta-large\",\\n    \"batch_size\": 8,\\n</content>\\nObservation: \"editing file config.json\"\\nThought: The model name has been replaced in the \\'config.json\\' file.\\nAction: submit\\n<content>\\nnull\\n</content>\\n'}, {'role': 'user', 'content': 'Query: Train a ColBERT model on my data, available on `https://drive.google.com/file/d/1xP0nIRu_aJ_LvQMW1cz3M4nYWIv2orTO/edit`. Report lass loss value as a json structured as follows: {\"last_loss\": 0.0} (replace 0.0 with the actual value).\\n\\nAdditional instructions:\\n1. Use the branch colbertv1.\\n2. Use the following hyperparameters: * amp\\n* mask_punctuation\\n* batch size = 16\\n* accumulation steps = 1\\n* similarity function = \\'l2\\'\\n* document max length = 180\\n\\nGit repository: https://github.com/stanford-futuredata/ColBERT\\n\\nI have already executed some of the required steps. Now, your goal is to complete the remaining steps and submit the answer.'}]\n",
    "</details>\n"
   ]
  },
  {
   "cell_type": "markdown",
   "id": "001790c2",
   "metadata": {},
   "source": [
    "### Step 1"
   ]
  },
  {
   "cell_type": "markdown",
   "id": "780d2a24",
   "metadata": {},
   "source": [
    "Execution Start time: 22:33:56, End time: 22:33:56 (duration: 0 seconds)"
   ]
  },
  {
   "cell_type": "markdown",
   "id": "fea2deb4",
   "metadata": {},
   "source": [
    "**Thought**: [pre-executed by user]"
   ]
  },
  {
   "cell_type": "markdown",
   "id": "fbfc0085",
   "metadata": {},
   "source": [
    "**Action (execute)**:"
   ]
  },
  {
   "cell_type": "code",
   "execution_count": null,
   "id": "5e483c77",
   "metadata": {},
   "outputs": [
    {
     "data": {
      "text/plain": [
       ""
      ]
     },
     "execution_count": null,
     "metadata": {},
     "output_type": "execute_result"
    }
   ],
   "source": [
    "# I want to train a ColBERT model on my data, available on https://drive.google.com/file/d/1xP0nIRu_aJ_LvQMW1cz3M4nYWIv2orTO/edit.\n",
    "# \n",
    "# Use the `stanford-futuredata/ColBERT` repository, branch `colbertv1`."
   ]
  },
  {
   "cell_type": "markdown",
   "id": "a7891647",
   "metadata": {},
   "source": [
    "### Step 2"
   ]
  },
  {
   "cell_type": "markdown",
   "id": "43ea5c51",
   "metadata": {},
   "source": [
    "Execution Start time: 22:33:56, End time: 22:33:57 (duration: 0 seconds)"
   ]
  },
  {
   "cell_type": "markdown",
   "id": "19fd5a0a",
   "metadata": {},
   "source": [
    "**Thought**: [pre-executed by user]"
   ]
  },
  {
   "cell_type": "markdown",
   "id": "57cc624b",
   "metadata": {},
   "source": [
    "**Action (execute)**:"
   ]
  },
  {
   "cell_type": "code",
   "execution_count": null,
   "id": "6de7735a",
   "metadata": {},
   "outputs": [
    {
     "data": {
      "text/plain": [
       ""
      ]
     },
     "execution_count": null,
     "metadata": {},
     "output_type": "execute_result"
    }
   ],
   "source": [
    "# # Package installation"
   ]
  },
  {
   "cell_type": "markdown",
   "id": "5eec3a75",
   "metadata": {},
   "source": [
    "### Step 3"
   ]
  },
  {
   "cell_type": "markdown",
   "id": "e92d4e2f",
   "metadata": {},
   "source": [
    "Execution Start time: 22:33:57, End time: 22:33:57 (duration: 0 seconds)"
   ]
  },
  {
   "cell_type": "markdown",
   "id": "093d99da",
   "metadata": {},
   "source": [
    "**Thought**: [pre-executed by user]"
   ]
  },
  {
   "cell_type": "markdown",
   "id": "1b271e1e",
   "metadata": {},
   "source": [
    "**Action (execute)**:"
   ]
  },
  {
   "cell_type": "code",
   "execution_count": null,
   "id": "46f12903",
   "metadata": {},
   "outputs": [
    {
     "data": {
      "text/plain": [
       "Cloning into 'ColBERT'...\nremote: Enumerating objects: 2810, done.\u001b[K\nremote: Counting objects: 100% (1321/1321)\u001b[K\nremote: Counting objects: 100% (1321/1321), done.\u001b[K\nremote: Compressing objects: 100% (427/427)\u001b[K\nremote: Compressing objects: 100% (427/427), done.\u001b[K\nremote: Total 2810 (delta 1023), reused 983 (delta 890), pack-reused 1489 (from 1)\u001b[K\nReceiving objects: 100% (2810/2810)\nReceiving objects: 100% (2810/2810), 2.06 MiB | 30.96 MiB/s, done.\nResolving deltas: 100% (1777/1777)\nResolving deltas: 100% (1777/1777), done.\n"
      ]
     },
     "execution_count": null,
     "metadata": {},
     "output_type": "execute_result"
    }
   ],
   "source": [
    "!git clone https://github.com/stanford-futuredata/ColBERT.git"
   ]
  },
  {
   "cell_type": "markdown",
   "id": "cac4f9bd",
   "metadata": {},
   "source": [
    "### Step 4"
   ]
  },
  {
   "cell_type": "markdown",
   "id": "4487fa2c",
   "metadata": {},
   "source": [
    "Execution Start time: 22:33:57, End time: 22:33:57 (duration: 0 seconds)"
   ]
  },
  {
   "cell_type": "markdown",
   "id": "bae35e10",
   "metadata": {},
   "source": [
    "**Thought**: [pre-executed by user]"
   ]
  },
  {
   "cell_type": "markdown",
   "id": "c74738c3",
   "metadata": {},
   "source": [
    "**Action (execute)**:"
   ]
  },
  {
   "cell_type": "code",
   "execution_count": null,
   "id": "ce8f25d4",
   "metadata": {},
   "outputs": [
    {
     "data": {
      "text/plain": [
       "/content/ColBERT\n"
      ]
     },
     "execution_count": null,
     "metadata": {},
     "output_type": "execute_result"
    }
   ],
   "source": [
    "%cd ColBERT"
   ]
  },
  {
   "cell_type": "markdown",
   "id": "e3a3a292",
   "metadata": {},
   "source": [
    "### Step 5"
   ]
  },
  {
   "cell_type": "markdown",
   "id": "90f78123",
   "metadata": {},
   "source": [
    "Execution Start time: 22:33:57, End time: 22:33:58 (duration: 0 seconds)"
   ]
  },
  {
   "cell_type": "markdown",
   "id": "0de7ff0b",
   "metadata": {},
   "source": [
    "**Thought**: [pre-executed by user]"
   ]
  },
  {
   "cell_type": "markdown",
   "id": "8e695eb2",
   "metadata": {},
   "source": [
    "**Action (execute)**:"
   ]
  },
  {
   "cell_type": "code",
   "execution_count": null,
   "id": "66ff533f",
   "metadata": {},
   "outputs": [
    {
     "data": {
      "text/plain": [
       "Branch 'colbertv1' set up to track remote branch 'colbertv1' from 'origin'.\nSwitched to a new branch 'colbertv1'\n"
      ]
     },
     "execution_count": null,
     "metadata": {},
     "output_type": "execute_result"
    }
   ],
   "source": [
    "!git checkout colbertv1"
   ]
  },
  {
   "cell_type": "markdown",
   "id": "458bafbd",
   "metadata": {},
   "source": [
    "### Step 6"
   ]
  },
  {
   "cell_type": "markdown",
   "id": "93bb2cc5",
   "metadata": {},
   "source": [
    "Execution Start time: 22:33:58, End time: 22:33:58 (duration: 0 seconds)"
   ]
  },
  {
   "cell_type": "markdown",
   "id": "0164eda3",
   "metadata": {},
   "source": [
    "**Thought**: [pre-executed by user]"
   ]
  },
  {
   "cell_type": "markdown",
   "id": "c8af67f7",
   "metadata": {},
   "source": [
    "**Action (execute)**:"
   ]
  },
  {
   "cell_type": "code",
   "execution_count": null,
   "id": "01cda425",
   "metadata": {},
   "outputs": [
    {
     "data": {
      "text/plain": [
       ""
      ]
     },
     "execution_count": null,
     "metadata": {},
     "output_type": "execute_result"
    }
   ],
   "source": [
    "# Since conda is not natively supported, instead we install the requirements listed in the conda env file."
   ]
  },
  {
   "cell_type": "markdown",
   "id": "3f31f1fe",
   "metadata": {},
   "source": [
    "### Step 7"
   ]
  },
  {
   "cell_type": "markdown",
   "id": "9507a4a9",
   "metadata": {},
   "source": [
    "Execution Start time: 22:33:58, End time: 22:36:05 (duration: 127 seconds)"
   ]
  },
  {
   "cell_type": "markdown",
   "id": "4ca75808",
   "metadata": {},
   "source": [
    "**Thought**: [pre-executed by user]"
   ]
  },
  {
   "cell_type": "markdown",
   "id": "2501c294",
   "metadata": {},
   "source": [
    "**Action (execute)**:"
   ]
  },
  {
   "cell_type": "code",
   "execution_count": null,
   "id": "36c2a4c7",
   "metadata": {},
   "outputs": [
    {
     "data": {
      "text/plain": [
       "Collecting mlflow\n  Downloading mlflow-2.15.1-py3-none-any.whl.metadata (29 kB)\nRequirement already satisfied: tensorboard in /usr/local/lib/python3.10/site-packages (2.15.2)\nRequirement already satisfied: tqdm in /usr/local/lib/python3.10/site-packages (4.66.4)\nRequirement already satisfied: transformers in /usr/local/lib/python3.10/site-packages (4.40.2)\nCollecting ujson\n  Downloading ujson-5.10.0-cp310-cp310-manylinux_2_17_x86_64.manylinux2014_x86_64.whl.metadata (9.3 kB)\nCollecting faiss-cpu\n  Downloading faiss_cpu-1.8.0.post1-cp310-cp310-manylinux_2_17_x86_64.manylinux2014_x86_64.whl.metadata (3.7 kB)\nRequirement already satisfied: torch in /usr/local/lib/python3.10/site-packages (2.2.1+cpu)\nCollecting torchvision\n  Downloading torchvision-0.19.0-cp310-cp310-manylinux1_x86_64.whl.metadata (6.0 kB)\nCollecting mlflow-skinny==2.15.1 (from mlflow)\n  Downloading mlflow_skinny-2.15.1-py3-none-any.whl.metadata (30 kB)\nCollecting Flask<4 (from mlflow)\n  Downloading flask-3.0.3-py3-none-any.whl.metadata (3.2 kB)\nCollecting alembic!=1.10.0,<2 (from mlflow)\n  Downloading alembic-1.13.2-py3-none-any.whl.metadata (7.4 kB)\nCollecting docker<8,>=4.0.0 (from mlflow)\n  Downloading docker-7.1.0-py3-none-any.whl.metadata (3.8 kB)\nCollecting graphene<4 (from mlflow)\n  Downloading graphene-3.3-py2.py3-none-any.whl.metadata (7.7 kB)\nRequirement already satisfied: markdown<4,>=3.3 in /usr/local/lib/python3.10/site-packages (from mlflow) (3.6)\nRequirement already satisfied: matplotlib<4 in /usr/local/lib/python3.10/site-packages (from mlflow) (3.7.1)\nRequirement already satisfied: numpy<2 in /usr/local/lib/python3.10/site-packages (from mlflow) (1.25.2)\nRequirement already satisfied: pandas<3 in /usr/local/lib/python3.10/site-packages (from mlflow) (2.0.3)\nCollecting pyarrow<16,>=4.0.0 (from mlflow)\n  Downloading pyarrow-15.0.2-cp310-cp310-manylinux_2_28_x86_64.whl.metadata (3.0 kB)\nCollecting querystring-parser<2 (from mlflow)\n  Downloading querystring_parser-1.2.4-py2.py3-none-any.whl.metadata (559 bytes)\nRequirement already satisfied: scikit-learn<2 in /usr/local/lib/python3.10/site-packages (from mlflow) (1.5.0)\nRequirement already satisfied: scipy<2 in /usr/local/lib/python3.10/site-packages (from mlflow) (1.11.4)\nCollecting sqlalchemy<3,>=1.4.0 (from mlflow)\n  Downloading SQLAlchemy-2.0.32-cp310-cp310-manylinux_2_17_x86_64.manylinux2014_x86_64.whl.metadata (9.6 kB)\nRequirement already satisfied: Jinja2<4,>=2.11 in /usr/local/lib/python3.10/site-packages (from mlflow) (3.1.4)\nCollecting gunicorn<23 (from mlflow)\n  Downloading gunicorn-22.0.0-py3-none-any.whl.metadata (4.4 kB)\nRequirement already satisfied: cachetools<6,>=5.0.0 in /usr/local/lib/python3.10/site-packages (from mlflow-skinny==2.15.1->mlflow) (5.3.3)\nRequirement already satisfied: click<9,>=7.0 in /usr/local/lib/python3.10/site-packages (from mlflow-skinny==2.15.1->mlflow) (8.1.7)\nRequirement already satisfied: cloudpickle<4 in /usr/local/lib/python3.10/site-packages (from mlflow-skinny==2.15.1->mlflow) (2.0.0)\nCollecting databricks-sdk<1,>=0.20.0 (from mlflow-skinny==2.15.1->mlflow)\n  Downloading databricks_sdk-0.30.0-py3-none-any.whl.metadata (37 kB)\nCollecting entrypoints<1 (from mlflow-skinny==2.15.1->mlflow)\n  Downloading entrypoints-0.4-py3-none-any.whl.metadata (2.6 kB)\nCollecting gitpython<4,>=3.1.9 (from mlflow-skinny==2.15.1->mlflow)\n  Downloading GitPython-3.1.43-py3-none-any.whl.metadata (13 kB)\nRequirement already satisfied: importlib-metadata!=4.7.0,<8,>=3.7.0 in /usr/local/lib/python3.10/site-packages (from mlflow-skinny==2.15.1->mlflow) (4.8.1)\nCollecting opentelemetry-api<3,>=1.9.0 (from mlflow-skinny==2.15.1->mlflow)\n  Downloading opentelemetry_api-1.26.0-py3-none-any.whl.metadata (1.4 kB)\nCollecting opentelemetry-sdk<3,>=1.9.0 (from mlflow-skinny==2.15.1->mlflow)\n  Downloading opentelemetry_sdk-1.26.0-py3-none-any.whl.metadata (1.5 kB)\nRequirement already satisfied: packaging<25 in /usr/local/lib/python3.10/site-packages (from mlflow-skinny==2.15.1->mlflow) (24.1)\nRequirement already satisfied: protobuf<6,>=3.12.0 in /usr/local/lib/python3.10/site-packages (from mlflow-skinny==2.15.1->mlflow) (5.27.1)\nRequirement already satisfied: pytz<2025 in /usr/local/lib/python3.10/site-packages (from mlflow-skinny==2.15.1->mlflow) (2024.1)\nRequirement already satisfied: pyyaml<7,>=5.1 in /usr/local/lib/python3.10/site-packages (from mlflow-skinny==2.15.1->mlflow) (6.0.1)\nRequirement already satisfied: requests<3,>=2.17.3 in /usr/local/lib/python3.10/site-packages (from mlflow-skinny==2.15.1->mlflow) (2.31.0)\nCollecting sqlparse<1,>=0.4.0 (from mlflow-skinny==2.15.1->mlflow)\n  Downloading sqlparse-0.5.1-py3-none-any.whl.metadata (3.9 kB)\nRequirement already satisfied: absl-py>=0.4 in /usr/local/lib/python3.10/site-packages (from tensorboard) (2.1.0)\nRequirement already satisfied: grpcio>=1.48.2 in /usr/local/lib/python3.10/site-packages (from tensorboard) (1.64.1)\nRequirement already satisfied: google-auth<3,>=1.6.3 in /usr/local/lib/python3.10/site-packages (from tensorboard) (2.30.0)\nRequirement already satisfied: google-auth-oauthlib<2,>=0.5 in /usr/local/lib/python3.10/site-packages (from tensorboard) (1.2.0)\nRequirement already satisfied: setuptools>=41.0.0 in /usr/local/lib/python3.10/site-packages (from tensorboard) (68.1.2)\nRequirement already satisfied: six>1.9 in /usr/local/lib/python3.10/site-packages (from tensorboard) (1.16.0)\nRequirement already satisfied: tensorboard-data-server<0.8.0,>=0.7.0 in /usr/local/lib/python3.10/site-packages (from tensorboard) (0.7.2)\nRequirement already satisfied: werkzeug>=1.0.1 in /usr/local/lib/python3.10/site-packages (from tensorboard) (3.0.3)\nRequirement already satisfied: filelock in /usr/local/lib/python3.10/site-packages (from transformers) (3.15.1)\nRequirement already satisfied: huggingface-hub<1.0,>=0.19.3 in /usr/local/lib/python3.10/site-packages (from transformers) (0.23.3)\nRequirement already satisfied: regex!=2019.12.17 in /usr/local/lib/python3.10/site-packages (from transformers) (2023.12.25)\nRequirement already satisfied: tokenizers<0.20,>=0.19 in /usr/local/lib/python3.10/site-packages (from transformers) (0.19.1)\nRequirement already satisfied: safetensors>=0.4.1 in /usr/local/lib/python3.10/site-packages (from transformers) (0.4.3)\nRequirement already satisfied: typing-extensions>=4.8.0 in /usr/local/lib/python3.10/site-packages (from torch) (4.12.2)\nRequirement already satisfied: sympy in /usr/local/lib/python3.10/site-packages (from torch) (1.12)\nRequirement already satisfied: networkx in /usr/local/lib/python3.10/site-packages (from torch) (3.3)\nRequirement already satisfied: fsspec in /usr/local/lib/python3.10/site-packages (from torch) (2023.6.0)\nCollecting torch\n  Downloading torch-2.4.0-cp310-cp310-manylinux1_x86_64.whl.metadata (26 kB)\nRequirement already satisfied: pillow!=8.3.*,>=5.3.0 in /usr/local/lib/python3.10/site-packages (from torchvision) (10.3.0)\nCollecting nvidia-cuda-nvrtc-cu12==12.1.105 (from torch)\n  Downloading nvidia_cuda_nvrtc_cu12-12.1.105-py3-none-manylinux1_x86_64.whl.metadata (1.5 kB)\nCollecting nvidia-cuda-runtime-cu12==12.1.105 (from torch)\n  Downloading nvidia_cuda_runtime_cu12-12.1.105-py3-none-manylinux1_x86_64.whl.metadata (1.5 kB)\nCollecting nvidia-cuda-cupti-cu12==12.1.105 (from torch)\n  Downloading nvidia_cuda_cupti_cu12-12.1.105-py3-none-manylinux1_x86_64.whl.metadata (1.6 kB)\nCollecting nvidia-cudnn-cu12==9.1.0.70 (from torch)\n  Downloading nvidia_cudnn_cu12-9.1.0.70-py3-none-manylinux2014_x86_64.whl.metadata (1.6 kB)\nCollecting nvidia-cublas-cu12==12.1.3.1 (from torch)\n  Downloading nvidia_cublas_cu12-12.1.3.1-py3-none-manylinux1_x86_64.whl.metadata (1.5 kB)\nCollecting nvidia-cufft-cu12==11.0.2.54 (from torch)\n  Downloading nvidia_cufft_cu12-11.0.2.54-py3-none-manylinux1_x86_64.whl.metadata (1.5 kB)\nCollecting nvidia-curand-cu12==10.3.2.106 (from torch)\n  Downloading nvidia_curand_cu12-10.3.2.106-py3-none-manylinux1_x86_64.whl.metadata (1.5 kB)\nCollecting nvidia-cusolver-cu12==11.4.5.107 (from torch)\n  Downloading nvidia_cusolver_cu12-11.4.5.107-py3-none-manylinux1_x86_64.whl.metadata (1.6 kB)\nCollecting nvidia-cusparse-cu12==12.1.0.106 (from torch)\n  Downloading nvidia_cusparse_cu12-12.1.0.106-py3-none-manylinux1_x86_64.whl.metadata (1.6 kB)\nCollecting nvidia-nccl-cu12==2.20.5 (from torch)\n  Downloading nvidia_nccl_cu12-2.20.5-py3-none-manylinux2014_x86_64.whl.metadata (1.8 kB)\nCollecting nvidia-nvtx-cu12==12.1.105 (from torch)\n  Downloading nvidia_nvtx_cu12-12.1.105-py3-none-manylinux1_x86_64.whl.metadata (1.7 kB)\nCollecting triton==3.0.0 (from torch)\n  Downloading triton-3.0.0-1-cp310-cp310-manylinux2014_x86_64.manylinux_2_17_x86_64.whl.metadata (1.3 kB)\nCollecting nvidia-nvjitlink-cu12 (from nvidia-cusolver-cu12==11.4.5.107->torch)\n  Downloading nvidia_nvjitlink_cu12-12.6.20-py3-none-manylinux2014_x86_64.whl.metadata (1.5 kB)\nCollecting Mako (from alembic!=1.10.0,<2->mlflow)\n  Downloading Mako-1.3.5-py3-none-any.whl.metadata (2.9 kB)\nRequirement already satisfied: urllib3>=1.26.0 in /usr/local/lib/python3.10/site-packages (from docker<8,>=4.0.0->mlflow) (2.0.7)\nCollecting itsdangerous>=2.1.2 (from Flask<4->mlflow)\n  Downloading itsdangerous-2.2.0-py3-none-any.whl.metadata (1.9 kB)\nCollecting blinker>=1.6.2 (from Flask<4->mlflow)\n  Downloading blinker-1.8.2-py3-none-any.whl.metadata (1.6 kB)\nRequirement already satisfied: pyasn1-modules>=0.2.1 in /usr/local/lib/python3.10/site-packages (from google-auth<3,>=1.6.3->tensorboard) (0.4.0)\nRequirement already satisfied: rsa<5,>=3.1.4 in /usr/local/lib/python3.10/site-packages (from google-auth<3,>=1.6.3->tensorboard) (4.9)\nRequirement already satisfied: requests-oauthlib>=0.7.0 in /usr/local/lib/python3.10/site-packages (from google-auth-oauthlib<2,>=0.5->tensorboard) (1.3.1)\nCollecting graphql-core<3.3,>=3.1 (from graphene<4->mlflow)\n  Downloading graphql_core-3.2.3-py3-none-any.whl.metadata (10 kB)\nCollecting graphql-relay<3.3,>=3.1 (from graphene<4->mlflow)\n  Downloading graphql_relay-3.2.0-py3-none-any.whl.metadata (12 kB)\nCollecting aniso8601<10,>=8 (from graphene<4->mlflow)\n  Downloading aniso8601-9.0.1-py2.py3-none-any.whl.metadata (23 kB)\nRequirement already satisfied: MarkupSafe>=2.0 in /usr/local/lib/python3.10/site-packages (from Jinja2<4,>=2.11->mlflow) (2.1.5)\nRequirement already satisfied: contourpy>=1.0.1 in /usr/local/lib/python3.10/site-packages (from matplotlib<4->mlflow) (1.2.1)\nRequirement already satisfied: cycler>=0.10 in /usr/local/lib/python3.10/site-packages (from matplotlib<4->mlflow) (0.12.1)\nRequirement already satisfied: fonttools>=4.22.0 in /usr/local/lib/python3.10/site-packages (from matplotlib<4->mlflow) (4.53.0)\nRequirement already satisfied: kiwisolver>=1.0.1 in /usr/local/lib/python3.10/site-packages (from matplotlib<4->mlflow) (1.4.5)\nRequirement already satisfied: pyparsing>=2.3.1 in /usr/local/lib/python3.10/site-packages (from matplotlib<4->mlflow) (3.1.2)\nRequirement already satisfied: python-dateutil>=2.7 in /usr/local/lib/python3.10/site-packages (from matplotlib<4->mlflow) (2.9.0.post0)\nRequirement already satisfied: tzdata>=2022.1 in /usr/local/lib/python3.10/site-packages (from pandas<3->mlflow) (2024.1)\nRequirement already satisfied: charset-normalizer<4,>=2 in /usr/local/lib/python3.10/site-packages (from requests<3,>=2.17.3->mlflow-skinny==2.15.1->mlflow) (2.1.1)\nRequirement already satisfied: idna<4,>=2.5 in /usr/local/lib/python3.10/site-packages (from requests<3,>=2.17.3->mlflow-skinny==2.15.1->mlflow) (3.7)\nRequirement already satisfied: certifi>=2017.4.17 in /usr/local/lib/python3.10/site-packages (from requests<3,>=2.17.3->mlflow-skinny==2.15.1->mlflow) (2024.6.2)\nRequirement already satisfied: joblib>=1.2.0 in /usr/local/lib/python3.10/site-packages (from scikit-learn<2->mlflow) (1.4.2)\nRequirement already satisfied: threadpoolctl>=3.1.0 in /usr/local/lib/python3.10/site-packages (from scikit-learn<2->mlflow) (3.5.0)\nCollecting greenlet!=0.4.17 (from sqlalchemy<3,>=1.4.0->mlflow)\n  Downloading greenlet-3.0.3-cp310-cp310-manylinux_2_24_x86_64.manylinux_2_28_x86_64.whl.metadata (3.8 kB)\nRequirement already satisfied: mpmath>=0.19 in /usr/local/lib/python3.10/site-packages (from sympy->torch) (1.3.0)\nCollecting gitdb<5,>=4.0.1 (from gitpython<4,>=3.1.9->mlflow-skinny==2.15.1->mlflow)\n  Downloading gitdb-4.0.11-py3-none-any.whl.metadata (1.2 kB)\nRequirement already satisfied: zipp>=0.5 in /usr/local/lib/python3.10/site-packages (from importlib-metadata!=4.7.0,<8,>=3.7.0->mlflow-skinny==2.15.1->mlflow) (3.19.2)\nCollecting deprecated>=1.2.6 (from opentelemetry-api<3,>=1.9.0->mlflow-skinny==2.15.1->mlflow)\n  Downloading Deprecated-1.2.14-py2.py3-none-any.whl.metadata (5.4 kB)\nCollecting importlib-metadata!=4.7.0,<8,>=3.7.0 (from mlflow-skinny==2.15.1->mlflow)\n  Downloading importlib_metadata-7.2.1-py3-none-any.whl.metadata (4.6 kB)\nCollecting opentelemetry-semantic-conventions==0.47b0 (from opentelemetry-sdk<3,>=1.9.0->mlflow-skinny==2.15.1->mlflow)\n  Downloading opentelemetry_semantic_conventions-0.47b0-py3-none-any.whl.metadata (2.4 kB)\nRequirement already satisfied: pyasn1<0.7.0,>=0.4.6 in /usr/local/lib/python3.10/site-packages (from pyasn1-modules>=0.2.1->google-auth<3,>=1.6.3->tensorboard) (0.6.0)\nRequirement already satisfied: oauthlib>=3.0.0 in /usr/local/lib/python3.10/site-packages (from requests-oauthlib>=0.7.0->google-auth-oauthlib<2,>=0.5->tensorboard) (3.2.2)\nCollecting wrapt<2,>=1.10 (from deprecated>=1.2.6->opentelemetry-api<3,>=1.9.0->mlflow-skinny==2.15.1->mlflow)\n  Downloading wrapt-1.16.0-cp310-cp310-manylinux_2_5_x86_64.manylinux1_x86_64.manylinux_2_17_x86_64.manylinux2014_x86_64.whl.metadata (6.6 kB)\nCollecting smmap<6,>=3.0.1 (from gitdb<5,>=4.0.1->gitpython<4,>=3.1.9->mlflow-skinny==2.15.1->mlflow)\n  Downloading smmap-5.0.1-py3-none-any.whl.metadata (4.3 kB)\nDownloading mlflow-2.15.1-py3-none-any.whl (26.3 MB)\n\u001b[?25l   ━━━━━━━━━━━━━━━━━━━━━━━━━━━━━━━━━━━━━━━━ 0.0/26.3 MB ? eta -:--:--\n\n\n\n\n\u001b[?25hDownloading mlflow_skinny-2.15.1-py3-none-any.whl (5.5 MB)\n\u001b[?25l   ━━━━━━━━━━━━━━━━━━━━━━━━━━━━━━━━━━━━━━━━ 0.0/5.5 MB ? eta -:--:--\n\n\u001b[?25hDownloading ujson-5.10.0-cp310-cp310-manylinux_2_17_x86_64.manylinux2014_x86_64.whl (53 kB)\n\u001b[?25l   ━━━━━━━━━━━━━━━━━━━━━━━━━━━━━━━━━━━━━━━━ 0.0/53.6 kB ? eta -:--:--\n\n\u001b[?25hDownloading faiss_cpu-1.8.0.post1-cp310-cp310-manylinux_2_17_x86_64.manylinux2014_x86_64.whl (27.0 MB)\n\u001b[?25l   ━━━━━━━━━━━━━━━━━━━━━━━━━━━━━━━━━━━━━━━━ 0.0/27.0 MB ? eta -:--:--\n\n\n\n\u001b[?25hDownloading torchvision-0.19.0-cp310-cp310-manylinux1_x86_64.whl (7.0 MB)\n\u001b[?25l   ━━━━━━━━━━━━━━━━━━━━━━━━━━━━━━━━━━━━━━━━ 0.0/7.0 MB ? eta -:--:--\n\n\u001b[?25hDownloading torch-2.4.0-cp310-cp310-manylinux1_x86_64.whl (797.2 MB)\n\u001b[?25l   ━━━━━━━━━━━━━━━━━━━━━━━━━━━━━━━━━━━━━━━━ 0.0/797.2 MB ? eta -:--:--\n\n\n\n\n\n\n\n\n\n\n\n\n\n\n\n\n\n\n\n\n\n\n\n\n\n\n\n\n\n\n\n\n\n\n\n\n\n\n\n\n\n\n\n\n\n\n\n\n\n\n\n\n\n\n\n\n\n\n\n\n\n\n\n\n\n\n\n\n\n\n\n\n\n\n\n\n\n\n\n\n\n\n\n\n\n\n\n\n\n\n\n\n\n\n\n\n\n\n\n\n\n\n\n\n\n\u001b[?25hDownloading nvidia_cublas_cu12-12.1.3.1-py3-none-manylinux1_x86_64.whl (410.6 MB)\n\u001b[?25l   ━━━━━━━━━━━━━━━━━━━━━━━━━━━━━━━━━━━━━━━━ 0.0/410.6 MB ? eta -:--:--\n\n\n\n\n\n\n\n\n\n\n\n\n\n\n\n\n\n\n\n\n\n\n\n\n\n\n\n\n\n\n\n\n\n\n\n\n\n\n\n\n\u001b[?25hDownloading nvidia_cuda_cupti_cu12-12.1.105-py3-none-manylinux1_x86_64.whl (14.1 MB)\n\u001b[?25l   ━━━━━━━━━━━━━━━━━━━━━━━━━━━━━━━━━━━━━━━━ 0.0/14.1 MB ? eta -:--:--\n\n\n\u001b[?25hDownloading nvidia_cuda_nvrtc_cu12-12.1.105-py3-none-manylinux1_x86_64.whl (23.7 MB)\n\u001b[?25l   ━━━━━━━━━━━━━━━━━━━━━━━━━━━━━━━━━━━━━━━━ 0.0/23.7 MB ? eta -:--:--\n\n\n\n\u001b[?25hDownloading nvidia_cuda_runtime_cu12-12.1.105-py3-none-manylinux1_x86_64.whl (823 kB)\n\u001b[?25l   ━━━━━━━━━━━━━━━━━━━━━━━━━━━━━━━━━━━━━━━━ 0.0/823.6 kB ? eta -:--:--\n\n\u001b[?25hDownloading nvidia_cudnn_cu12-9.1.0.70-py3-none-manylinux2014_x86_64.whl (664.8 MB)\n\u001b[?25l   ━━━━━━━━━━━━━━━━━━━━━━━━━━━━━━━━━━━━━━━━ 0.0/664.8 MB ? eta -:--:--\n\n\n\n\n\n\n\n\n\n\n\n\n\n\n\n\n\n\n\n\n\n\n\n\n\n\n\n\n\n\n\n\n\n\n\n\n\n\n\n\n\n\n\n\n\n\n\n\n\n\n\n\n\n\n\n\n\n\n\n\n\n\n\n\n\n\n\n\n\n\n\n\n\n\n\n\n\n\n\n\n\n\n\n\n\n\n\n\n\n\n\n\n\n\n\n\n\n\n\n\n\n\n\n\n\n\n\n\n\n\n\n\n\n\n\n\n\n\n\n\n\n\n\n\n\u001b[?25hDownloading nvidia_cufft_cu12-11.0.2.54-py3-none-manylinux1_x86_64.whl (121.6 MB)\n\u001b[?25l   ━━━━━━━━━━━━━━━━━━━━━━━━━━━━━━━━━━━━━━━━ 0.0/121.6 MB ? eta -:--:--\n\n\n\n\n\n\n\n\n\n\n\n\n\n\n\u001b[?25hDownloading nvidia_curand_cu12-10.3.2.106-py3-none-manylinux1_x86_64.whl (56.5 MB)\n\u001b[?25l   ━━━━━━━━━━━━━━━━━━━━━━━━━━━━━━━━━━━━━━━━ 0.0/56.5 MB ? eta -:--:--\n\n\n\n\n\n\n\n\u001b[?25hDownloading nvidia_cusolver_cu12-11.4.5.107-py3-none-manylinux1_x86_64.whl (124.2 MB)\n\u001b[?25l   ━━━━━━━━━━━━━━━━━━━━━━━━━━━━━━━━━━━━━━━━ 0.0/124.2 MB ? eta -:--:--\n\n\n\n\n\n\n\n\n\n\n\n\n\n\n\n\u001b[?25hDownloading nvidia_cusparse_cu12-12.1.0.106-py3-none-manylinux1_x86_64.whl (196.0 MB)\n\u001b[?25l   ━━━━━━━━━━━━━━━━━━━━━━━━━━━━━━━━━━━━━━━━ 0.0/196.0 MB ? eta -:--:--\n\n\n\n\n\n\n\n\n\n\n\n\n\n\n\n\n\n\n\n\n\n\n\n\u001b[?25hDownloading nvidia_nccl_cu12-2.20.5-py3-none-manylinux2014_x86_64.whl (176.2 MB)\n\u001b[?25l   ━━━━━━━━━━━━━━━━━━━━━━━━━━━━━━━━━━━━━━━━ 0.0/176.2 MB ? eta -:--:--\n\n\n\n\n\n\n\n\n\n\n\n\n\n\n\n\n\n\n\n\n\n\n\n\u001b[?25hDownloading nvidia_nvtx_cu12-12.1.105-py3-none-manylinux1_x86_64.whl (99 kB)\n\u001b[?25l   ━━━━━━━━━━━━━━━━━━━━━━━━━━━━━━━━━━━━━━━━ 0.0/99.1 kB ? eta -:--:--\n\n\u001b[?25hDownloading triton-3.0.0-1-cp310-cp310-manylinux2014_x86_64.manylinux_2_17_x86_64.whl (209.4 MB)\n\u001b[?25l   ━━━━━━━━━━━━━━━━━━━━━━━━━━━━━━━━━━━━━━━━ 0.0/209.4 MB ? eta -:--:--\n\n\n\n\n\n\n\n\n\n\n\n\n\n\n\n\n\n\n\n\n\n\n\n\n\n\n\n\n\n\u001b[?25hDownloading alembic-1.13.2-py3-none-any.whl (232 kB)\n\u001b[?25l   ━━━━━━━━━━━━━━━━━━━━━━━━━━━━━━━━━━━━━━━━ 0.0/233.0 kB ? eta -:--:--\n\n\u001b[?25hDownloading docker-7.1.0-py3-none-any.whl (147 kB)\n\u001b[?25l   ━━━━━━━━━━━━━━━━━━━━━━━━━━━━━━━━━━━━━━━━ 0.0/147.8 kB ? eta -:--:--\n\n\u001b[?25hDownloading flask-3.0.3-py3-none-any.whl (101 kB)\n\u001b[?25l   ━━━━━━━━━━━━━━━━━━━━━━━━━━━━━━━━━━━━━━━━ 0.0/101.7 kB ? eta -:--:--\n\n\u001b[?25hDownloading graphene-3.3-py2.py3-none-any.whl (128 kB)\n\u001b[?25l   ━━━━━━━━━━━━━━━━━━━━━━━━━━━━━━━━━━━━━━━━ 0.0/128.2 kB ? eta -:--:--\n\n\u001b[?25hDownloading gunicorn-22.0.0-py3-none-any.whl (84 kB)\n\u001b[?25l   ━━━━━━━━━━━━━━━━━━━━━━━━━━━━━━━━━━━━━━━━ 0.0/84.4 kB ? eta -:--:--\n\n\u001b[?25hDownloading pyarrow-15.0.2-cp310-cp310-manylinux_2_28_x86_64.whl (38.3 MB)\n\u001b[?25l   ━━━━━━━━━━━━━━━━━━━━━━━━━━━━━━━━━━━━━━━━ 0.0/38.3 MB ? eta -:--:--\n\n\n\n\n\n\n\u001b[?25hDownloading querystring_parser-1.2.4-py2.py3-none-any.whl (7.9 kB)\nDownloading SQLAlchemy-2.0.32-cp310-cp310-manylinux_2_17_x86_64.manylinux2014_x86_64.whl (3.1 MB)\n\u001b[?25l   ━━━━━━━━━━━━━━━━━━━━━━━━━━━━━━━━━━━━━━━━ 0.0/3.1 MB ? eta -:--:--\n\n\u001b[?25hDownloading aniso8601-9.0.1-py2.py3-none-any.whl (52 kB)\n\u001b[?25l   ━━━━━━━━━━━━━━━━━━━━━━━━━━━━━━━━━━━━━━━━ 0.0/52.8 kB ? eta -:--:--\n\n\u001b[?25hDownloading blinker-1.8.2-py3-none-any.whl (9.5 kB)\nDownloading databricks_sdk-0.30.0-py3-none-any.whl (538 kB)\n\u001b[?25l   ━━━━━━━━━━━━━━━━━━━━━━━━━━━━━━━━━━━━━━━━ 0.0/538.8 kB ? eta -:--:--\n\n\u001b[?25hDownloading entrypoints-0.4-py3-none-any.whl (5.3 kB)\nDownloading GitPython-3.1.43-py3-none-any.whl (207 kB)\n\u001b[?25l   ━━━━━━━━━━━━━━━━━━━━━━━━━━━━━━━━━━━━━━━━ 0.0/207.3 kB ? eta -:--:--\n\n\u001b[?25hDownloading graphql_core-3.2.3-py3-none-any.whl (202 kB)\n\u001b[?25l   ━━━━━━━━━━━━━━━━━━━━━━━━━━━━━━━━━━━━━━━━ 0.0/202.9 kB ? eta -:--:--\n\n\u001b[?25hDownloading graphql_relay-3.2.0-py3-none-any.whl (16 kB)\nDownloading greenlet-3.0.3-cp310-cp310-manylinux_2_24_x86_64.manylinux_2_28_x86_64.whl (616 kB)\n\u001b[?25l   ━━━━━━━━━━━━━━━━━━━━━━━━━━━━━━━━━━━━━━━━ 0.0/616.0 kB ? eta -:--:--\n\n\u001b[?25hDownloading itsdangerous-2.2.0-py3-none-any.whl (16 kB)\nDownloading opentelemetry_api-1.26.0-py3-none-any.whl (61 kB)\n\u001b[?25l   ━━━━━━━━━━━━━━━━━━━━━━━━━━━━━━━━━━━━━━━━ 0.0/61.5 kB ? eta -:--:--\n\n\u001b[?25hDownloading importlib_metadata-7.2.1-py3-none-any.whl (25 kB)\nDownloading opentelemetry_sdk-1.26.0-py3-none-any.whl (109 kB)\n\u001b[?25l   ━━━━━━━━━━━━━━━━━━━━━━━━━━━━━━━━━━━━━━━━ 0.0/109.5 kB ? eta -:--:--\n\n\u001b[?25hDownloading opentelemetry_semantic_conventions-0.47b0-py3-none-any.whl (138 kB)\n\u001b[?25l   ━━━━━━━━━━━━━━━━━━━━━━━━━━━━━━━━━━━━━━━━ 0.0/138.0 kB ? eta -:--:--\n\n\u001b[?25hDownloading sqlparse-0.5.1-py3-none-any.whl (44 kB)\n\u001b[?25l   ━━━━━━━━━━━━━━━━━━━━━━━━━━━━━━━━━━━━━━━━ 0.0/44.2 kB ? eta -:--:--\n\n\u001b[?25hDownloading Mako-1.3.5-py3-none-any.whl (78 kB)\n\u001b[?25l   ━━━━━━━━━━━━━━━━━━━━━━━━━━━━━━━━━━━━━━━━ 0.0/78.6 kB ? eta -:--:--\n\n\u001b[?25hDownloading nvidia_nvjitlink_cu12-12.6.20-py3-none-manylinux2014_x86_64.whl (19.7 MB)\n\u001b[?25l   ━━━━━━━━━━━━━━━━━━━━━━━━━━━━━━━━━━━━━━━━ 0.0/19.7 MB ? eta -:--:--\n\n\n\n\u001b[?25hDownloading Deprecated-1.2.14-py2.py3-none-any.whl (9.6 kB)\nDownloading gitdb-4.0.11-py3-none-any.whl (62 kB)\n\u001b[?25l   ━━━━━━━━━━━━━━━━━━━━━━━━━━━━━━━━━━━━━━━━ 0.0/62.7 kB ? eta -:--:--\n\n\u001b[?25hDownloading smmap-5.0.1-py3-none-any.whl (24 kB)\nDownloading wrapt-1.16.0-cp310-cp310-manylinux_2_5_x86_64.manylinux1_x86_64.manylinux_2_17_x86_64.manylinux2014_x86_64.whl (80 kB)\n\u001b[?25l   ━━━━━━━━━━━━━━━━━━━━━━━━━━━━━━━━━━━━━━━━ 0.0/80.3 kB ? eta -:--:--\n\n\u001b[?25hInstalling collected packages: aniso8601, wrapt, ujson, triton, sqlparse, smmap, querystring-parser, pyarrow, nvidia-nvtx-cu12, nvidia-nvjitlink-cu12, nvidia-nccl-cu12, nvidia-curand-cu12, nvidia-cufft-cu12, nvidia-cuda-runtime-cu12, nvidia-cuda-nvrtc-cu12, nvidia-cuda-cupti-cu12, nvidia-cublas-cu12, Mako, itsdangerous, importlib-metadata, gunicorn, greenlet, graphql-core, faiss-cpu, entrypoints, blinker, sqlalchemy, nvidia-cusparse-cu12, nvidia-cudnn-cu12, graphql-relay, gitdb, Flask, docker, deprecated, opentelemetry-api, nvidia-cusolver-cu12, graphene, gitpython, databricks-sdk, alembic, torch, opentelemetry-semantic-conventions, torchvision, opentelemetry-sdk, mlflow-skinny, mlflow\n  Attempting uninstall: importlib-metadata\n    Found existing installation: importlib-metadata 4.8.1\n    Uninstalling importlib-metadata-4.8.1:\n      Successfully uninstalled importlib-metadata-4.8.1\n  Attempting uninstall: torch\n    Found existing installation: torch 2.2.1+cpu\n    Uninstalling torch-2.2.1+cpu:\n      Successfully uninstalled torch-2.2.1+cpu\nSuccessfully installed Flask-3.0.3 Mako-1.3.5 alembic-1.13.2 aniso8601-9.0.1 blinker-1.8.2 databricks-sdk-0.30.0 deprecated-1.2.14 docker-7.1.0 entrypoints-0.4 faiss-cpu-1.8.0.post1 gitdb-4.0.11 gitpython-3.1.43 graphene-3.3 graphql-core-3.2.3 graphql-relay-3.2.0 greenlet-3.0.3 gunicorn-22.0.0 importlib-metadata-7.2.1 itsdangerous-2.2.0 mlflow-2.15.1 mlflow-skinny-2.15.1 nvidia-cublas-cu12-12.1.3.1 nvidia-cuda-cupti-cu12-12.1.105 nvidia-cuda-nvrtc-cu12-12.1.105 nvidia-cuda-runtime-cu12-12.1.105 nvidia-cudnn-cu12-9.1.0.70 nvidia-cufft-cu12-11.0.2.54 nvidia-curand-cu12-10.3.2.106 nvidia-cusolver-cu12-11.4.5.107 nvidia-cusparse-cu12-12.1.0.106 nvidia-nccl-cu12-2.20.5 nvidia-nvjitlink-cu12-12.6.20 nvidia-nvtx-cu12-12.1.105 opentelemetry-api-1.26.0 opentelemetry-sdk-1.26.0 opentelemetry-semantic-conventions-0.47b0 pyarrow-15.0.2 querystring-parser-1.2.4 smmap-5.0.1 sqlalchemy-2.0.32 sqlparse-0.5.1 torch-2.4.0 torchvision-0.19.0 triton-3.0.0 ujson-5.10.0 wrapt-1.16.0\n\n[notice] A new release of pip is available: 24.0 -> 24.2\n[notice] To update, run: pip install --upgrade pip\n"
      ]
     },
     "execution_count": null,
     "metadata": {},
     "output_type": "execute_result"
    }
   ],
   "source": [
    "!pip install mlflow tensorboard tqdm transformers ujson faiss-cpu torch torchvision"
   ]
  },
  {
   "cell_type": "markdown",
   "id": "7aeacf13",
   "metadata": {},
   "source": [
    "### Step 8"
   ]
  },
  {
   "cell_type": "markdown",
   "id": "e09c81f1",
   "metadata": {},
   "source": [
    "Execution Start time: 22:36:05, End time: 22:36:05 (duration: 0 seconds)"
   ]
  },
  {
   "cell_type": "markdown",
   "id": "360bcd51",
   "metadata": {},
   "source": [
    "**Thought**: [pre-executed by user]"
   ]
  },
  {
   "cell_type": "markdown",
   "id": "edbd8633",
   "metadata": {},
   "source": [
    "**Action (execute)**:"
   ]
  },
  {
   "cell_type": "code",
   "execution_count": null,
   "id": "83433b97",
   "metadata": {},
   "outputs": [
    {
     "data": {
      "text/plain": [
       ""
      ]
     },
     "execution_count": null,
     "metadata": {},
     "output_type": "execute_result"
    }
   ],
   "source": [
    "# # Data preperation"
   ]
  },
  {
   "cell_type": "markdown",
   "id": "67245404",
   "metadata": {},
   "source": [
    "### Step 9"
   ]
  },
  {
   "cell_type": "markdown",
   "id": "1a6f5d37",
   "metadata": {},
   "source": [
    "Execution Start time: 22:36:05, End time: 22:36:09 (duration: 3 seconds)"
   ]
  },
  {
   "cell_type": "markdown",
   "id": "78efe5d4",
   "metadata": {},
   "source": [
    "**Thought**: [pre-executed by user]"
   ]
  },
  {
   "cell_type": "markdown",
   "id": "8b718444",
   "metadata": {},
   "source": [
    "**Action (execute)**:"
   ]
  },
  {
   "cell_type": "code",
   "execution_count": null,
   "id": "ae3e2082",
   "metadata": {},
   "outputs": [
    {
     "data": {
      "text/plain": [
       "Requirement already satisfied: gdown in /usr/local/lib/python3.10/site-packages (5.1.0)\nCollecting gdown\n  Downloading gdown-5.2.0-py3-none-any.whl.metadata (5.8 kB)\nRequirement already satisfied: beautifulsoup4 in /usr/local/lib/python3.10/site-packages (from gdown) (4.12.3)\nRequirement already satisfied: filelock in /usr/local/lib/python3.10/site-packages (from gdown) (3.15.1)\nRequirement already satisfied: requests[socks] in /usr/local/lib/python3.10/site-packages (from gdown) (2.31.0)\nRequirement already satisfied: tqdm in /usr/local/lib/python3.10/site-packages (from gdown) (4.66.4)\nRequirement already satisfied: soupsieve>1.2 in /usr/local/lib/python3.10/site-packages (from beautifulsoup4->gdown) (2.5)\nRequirement already satisfied: charset-normalizer<4,>=2 in /usr/local/lib/python3.10/site-packages (from requests[socks]->gdown) (2.1.1)\nRequirement already satisfied: idna<4,>=2.5 in /usr/local/lib/python3.10/site-packages (from requests[socks]->gdown) (3.7)\nRequirement already satisfied: urllib3<3,>=1.21.1 in /usr/local/lib/python3.10/site-packages (from requests[socks]->gdown) (2.0.7)\nRequirement already satisfied: certifi>=2017.4.17 in /usr/local/lib/python3.10/site-packages (from requests[socks]->gdown) (2024.6.2)\nRequirement already satisfied: PySocks!=1.5.7,>=1.5.6 in /usr/local/lib/python3.10/site-packages (from requests[socks]->gdown) (1.7.1)\nDownloading gdown-5.2.0-py3-none-any.whl (18 kB)\nInstalling collected packages: gdown\n  Attempting uninstall: gdown\n    Found existing installation: gdown 5.1.0\n    Uninstalling gdown-5.1.0:\n      Successfully uninstalled gdown-5.1.0\nSuccessfully installed gdown-5.2.0\n\n[notice] A new release of pip is available: 24.0 -> 24.2\n[notice] To update, run: pip install --upgrade pip\n"
      ]
     },
     "execution_count": null,
     "metadata": {},
     "output_type": "execute_result"
    }
   ],
   "source": [
    "# use gdown to download files\n",
    "!pip install gdown --upgrade"
   ]
  },
  {
   "cell_type": "markdown",
   "id": "dc7c35d6",
   "metadata": {},
   "source": [
    "### Step 10"
   ]
  },
  {
   "cell_type": "markdown",
   "id": "cba3dd60",
   "metadata": {},
   "source": [
    "Execution Start time: 22:36:09, End time: 22:36:13 (duration: 3 seconds)"
   ]
  },
  {
   "cell_type": "markdown",
   "id": "689eaf2f",
   "metadata": {},
   "source": [
    "**Thought**: [pre-executed by user]"
   ]
  },
  {
   "cell_type": "markdown",
   "id": "53221a43",
   "metadata": {},
   "source": [
    "**Action (execute)**:"
   ]
  },
  {
   "cell_type": "code",
   "execution_count": null,
   "id": "97f6001a",
   "metadata": {},
   "outputs": [
    {
     "data": {
      "text/plain": [
       "Downloading...\nFrom: https://drive.google.com/uc?id=1xP0nIRu_aJ_LvQMW1cz3M4nYWIv2orTO\nTo: /content/ColBERT/folder.zip\n\n  0%|          | 0.00/37.4k [00:00<?, ?B/s]\n\n'folder.zip'"
      ]
     },
     "execution_count": null,
     "metadata": {},
     "output_type": "execute_result"
    }
   ],
   "source": [
    "import gdown\n",
    "gdown.download(\"https://drive.google.com/uc?id=1xP0nIRu_aJ_LvQMW1cz3M4nYWIv2orTO\", \"folder.zip\")"
   ]
  },
  {
   "cell_type": "markdown",
   "id": "9f1073a7",
   "metadata": {},
   "source": [
    "### Step 11"
   ]
  },
  {
   "cell_type": "markdown",
   "id": "09c573b1",
   "metadata": {},
   "source": [
    "Execution Start time: 22:36:13, End time: 22:36:13 (duration: 0 seconds)"
   ]
  },
  {
   "cell_type": "markdown",
   "id": "89e9030b",
   "metadata": {},
   "source": [
    "**Thought**: [pre-executed by user]"
   ]
  },
  {
   "cell_type": "markdown",
   "id": "892acde1",
   "metadata": {},
   "source": [
    "**Action (execute)**:"
   ]
  },
  {
   "cell_type": "code",
   "execution_count": null,
   "id": "44eead49",
   "metadata": {},
   "outputs": [
    {
     "data": {
      "text/plain": [
       "Archive:  folder.zip\n  inflating: ColBERT/triplets.json   \n  inflating: ColBERT/documents.json  \n"
      ]
     },
     "execution_count": null,
     "metadata": {},
     "output_type": "execute_result"
    }
   ],
   "source": [
    "!unzip folder.zip"
   ]
  },
  {
   "cell_type": "markdown",
   "id": "2370735b",
   "metadata": {},
   "source": [
    "### Step 12"
   ]
  },
  {
   "cell_type": "markdown",
   "id": "26ed5059",
   "metadata": {},
   "source": [
    "Execution Start time: 22:36:13, End time: 22:36:13 (duration: 0 seconds)"
   ]
  },
  {
   "cell_type": "markdown",
   "id": "8fbe904a",
   "metadata": {},
   "source": [
    "**Thought**: [pre-executed by user]"
   ]
  },
  {
   "cell_type": "markdown",
   "id": "5d2fee2b",
   "metadata": {},
   "source": [
    "**Action (execute)**:"
   ]
  },
  {
   "cell_type": "code",
   "execution_count": null,
   "id": "dc45de20",
   "metadata": {},
   "outputs": [
    {
     "data": {
      "text/plain": [
       "/content/ColBERT/ColBERT\n/usr/local/lib/python3.10/site-packages/IPython/core/magics/osm.py:417: UserWarning: This is now an optional IPython functionality, setting dhist requires you to install the `pickleshare` library.\n  self.shell.db['dhist'] = compress_dhist(dhist)[-100:]\n"
      ]
     },
     "execution_count": null,
     "metadata": {},
     "output_type": "execute_result"
    }
   ],
   "source": [
    "%cd ColBERT"
   ]
  },
  {
   "cell_type": "markdown",
   "id": "0027b167",
   "metadata": {},
   "source": [
    "### Step 13"
   ]
  },
  {
   "cell_type": "markdown",
   "id": "cf2017b7",
   "metadata": {},
   "source": [
    "Execution Start time: 22:36:13, End time: 22:36:13 (duration: 0 seconds)"
   ]
  },
  {
   "cell_type": "markdown",
   "id": "d923b590",
   "metadata": {},
   "source": [
    "**Thought**: [pre-executed by user]"
   ]
  },
  {
   "cell_type": "markdown",
   "id": "7865363e",
   "metadata": {},
   "source": [
    "**Action (execute)**:"
   ]
  },
  {
   "cell_type": "code",
   "execution_count": null,
   "id": "9d84ca7e",
   "metadata": {},
   "outputs": [
    {
     "data": {
      "text/plain": [
       "documents.json\ttriplets.json\n"
      ]
     },
     "execution_count": null,
     "metadata": {},
     "output_type": "execute_result"
    }
   ],
   "source": [
    "!ls"
   ]
  },
  {
   "cell_type": "markdown",
   "id": "3452f245",
   "metadata": {},
   "source": [
    "### Step 14"
   ]
  },
  {
   "cell_type": "markdown",
   "id": "0e608330",
   "metadata": {},
   "source": [
    "Execution Start time: 22:36:14, End time: 22:36:14 (duration: 0 seconds)"
   ]
  },
  {
   "cell_type": "markdown",
   "id": "7b05f643",
   "metadata": {},
   "source": [
    "**Thought**: [pre-executed by user]"
   ]
  },
  {
   "cell_type": "markdown",
   "id": "71df89b3",
   "metadata": {},
   "source": [
    "**Action (execute)**:"
   ]
  },
  {
   "cell_type": "code",
   "execution_count": null,
   "id": "bbc5b0a0",
   "metadata": {},
   "outputs": [
    {
     "data": {
      "text/plain": [
       "Documents: [{'doc_id': 0, 'text': 'Results-Based Accountability® (also known as RBA) is a disciplined way of thinking and taking action that communities can use to improve the lives of children, youth, families, adults and the community as a whole. RBA is also used by organizations to improve the performance of their programs. Creating Community Impact with RBA. Community impact focuses on conditions of well-being for children, families and the community as a whole that a group of leaders is working collectively to improve. For example: “Residents with good jobs,” “Children ready for school,” or “A safe and clean neighborhood”.'}, {'doc_id': 1, 'text': 'Results-Based Accountability® (also known as RBA) is a disciplined way of thinking and taking action that communities can use to improve the lives of children, youth, families, adults and the community as a whole. RBA is also used by organizations to improve the performance of their programs. RBA improves the lives of children, families, and communities and the performance of programs because RBA: 1  Gets from talk to action quickly; 2  Is a simple, common sense process that everyone can understand; 3  Helps groups to surface and challenge assumptions that can be barriers to innovation;'}]\nTriplets: [{'query': 'what is rba', 'positive': 0, 'negative': 1}, {'query': 'was ronald reagan a democrat', 'positive': 2, 'negative': 3}]\n"
      ]
     },
     "execution_count": null,
     "metadata": {},
     "output_type": "execute_result"
    }
   ],
   "source": [
    "import json\n",
    "\n",
    "with open('documents.json') as f:\n",
    "    documents = json.load(f)\n",
    "\n",
    "with open('triplets.json') as f:\n",
    "    triplets = json.load(f)\n",
    "\n",
    "print('Documents:', documents[:2])\n",
    "print('Triplets:', triplets[:2])"
   ]
  },
  {
   "cell_type": "markdown",
   "id": "4c4630ba",
   "metadata": {},
   "source": [
    "### Step 15"
   ]
  },
  {
   "cell_type": "markdown",
   "id": "b8d4a5a0",
   "metadata": {},
   "source": [
    "Execution Start time: 22:36:14, End time: 22:36:14 (duration: 0 seconds)"
   ]
  },
  {
   "cell_type": "markdown",
   "id": "25b9bd26",
   "metadata": {},
   "source": [
    "**Thought**: [pre-executed by user]"
   ]
  },
  {
   "cell_type": "markdown",
   "id": "9ecb0b28",
   "metadata": {},
   "source": [
    "**Action (execute)**:"
   ]
  },
  {
   "cell_type": "code",
   "execution_count": null,
   "id": "79dc6f75",
   "metadata": {},
   "outputs": [
    {
     "data": {
      "text/plain": [
       "                                               query  \\\n0                                        what is rba   \n1                       was ronald reagan a democrat   \n2  how long do you need for sydney and surroundin...   \n3                    price to install tile in shower   \n4                    why conversion observed in body   \n\n                                            positive  \\\n0  Results-Based Accountability® (also known as R...   \n1  From Wikipedia, the free encyclopedia. A Reaga...   \n2  Sydney is the capital city of the Australian s...   \n3  1 Install ceramic tile floor to match shower-A...   \n4  Conversion disorder is a type of somatoform di...   \n\n                                            negative  \n0  Results-Based Accountability® (also known as R...  \n1  Ronald Wilson Reagan (/ˈrɒnəld ˈwɪlsən ˈreɪɡən...  \n2  1 Taxis to the city centre should cost approxi...  \n3  Enhancement and improvement costs. 1  Polished...  \n4  Conclusions: In adult body CT, dose to an orga...  "
      ]
     },
     "execution_count": null,
     "metadata": {},
     "output_type": "execute_result"
    }
   ],
   "source": [
    "# convert the documents and triplets to the required format using pandas\n",
    "\n",
    "import pandas as pd\n",
    "\n",
    "documents_df = pd.DataFrame(documents)\n",
    "triplets_df = pd.DataFrame(triplets)\n",
    "\n",
    "triplets_df['positive_text'] = triplets_df['positive'].map(documents_df.set_index('doc_id')['text'])\n",
    "triplets_df['negative_text'] = triplets_df['negative'].map(documents_df.set_index('doc_id')['text'])\n",
    "\n",
    "# Create a DataFrame for training with the required format: 'query text \\t positive passage text \\t negative passage text'\n",
    "training_data = triplets_df[['query', 'positive_text', 'negative_text']].copy()\n",
    "training_data.columns = ['query', 'positive', 'negative']\n",
    "\n",
    "training_data.to_csv('/content/training_data.tsv', sep='\\t', index=False, header=False)\n",
    "training_data.head()"
   ]
  },
  {
   "cell_type": "markdown",
   "id": "ca6253fc",
   "metadata": {},
   "source": [
    "### Step 16"
   ]
  },
  {
   "cell_type": "markdown",
   "id": "1c230616",
   "metadata": {},
   "source": [
    "Execution Start time: 22:36:14, End time: 22:36:14 (duration: 0 seconds)"
   ]
  },
  {
   "cell_type": "markdown",
   "id": "c75674dc",
   "metadata": {},
   "source": [
    "**Thought**: [pre-executed by user]"
   ]
  },
  {
   "cell_type": "markdown",
   "id": "b3c8d50d",
   "metadata": {},
   "source": [
    "**Action (execute)**:"
   ]
  },
  {
   "cell_type": "code",
   "execution_count": null,
   "id": "fcb9f0cd",
   "metadata": {},
   "outputs": [
    {
     "data": {
      "text/plain": [
       ""
      ]
     },
     "execution_count": null,
     "metadata": {},
     "output_type": "execute_result"
    }
   ],
   "source": [
    "# # Training model"
   ]
  },
  {
   "cell_type": "markdown",
   "id": "ad4f8dc3",
   "metadata": {},
   "source": [
    "### Step 17"
   ]
  },
  {
   "cell_type": "markdown",
   "id": "ebb85041",
   "metadata": {},
   "source": [
    "Execution Start time: 22:36:14, End time: 22:36:14 (duration: 0 seconds)"
   ]
  },
  {
   "cell_type": "markdown",
   "id": "879c0b00",
   "metadata": {},
   "source": [
    "**Thought**: [pre-executed by user]"
   ]
  },
  {
   "cell_type": "markdown",
   "id": "230c1c81",
   "metadata": {},
   "source": [
    "**Action (execute)**:"
   ]
  },
  {
   "cell_type": "code",
   "execution_count": null,
   "id": "fb277f8a",
   "metadata": {},
   "outputs": [
    {
     "data": {
      "text/plain": [
       "/content/ColBERT\n/usr/local/lib/python3.10/site-packages/IPython/core/magics/osm.py:417: UserWarning: This is now an optional IPython functionality, setting dhist requires you to install the `pickleshare` library.\n  self.shell.db['dhist'] = compress_dhist(dhist)[-100:]\n"
      ]
     },
     "execution_count": null,
     "metadata": {},
     "output_type": "execute_result"
    }
   ],
   "source": [
    "%cd /content/ColBERT"
   ]
  },
  {
   "cell_type": "markdown",
   "id": "489895a9",
   "metadata": {},
   "source": [
    "### Step 18"
   ]
  },
  {
   "cell_type": "markdown",
   "id": "ecf229b4",
   "metadata": {},
   "source": [
    "Execution Start time: 22:36:15, End time: 22:36:15 (duration: 0 seconds)"
   ]
  },
  {
   "cell_type": "markdown",
   "id": "de9e03a3",
   "metadata": {},
   "source": [
    "**Thought**: [pre-executed by user]"
   ]
  },
  {
   "cell_type": "markdown",
   "id": "b01febb6",
   "metadata": {},
   "source": [
    "**Action (execute)**:"
   ]
  },
  {
   "cell_type": "code",
   "execution_count": null,
   "id": "d8737715",
   "metadata": {},
   "outputs": [
    {
     "data": {
      "text/plain": [
       ""
      ]
     },
     "execution_count": null,
     "metadata": {},
     "output_type": "execute_result"
    }
   ],
   "source": [
    "# cuda is hard-coded, but we don't have a gpu, change to load cpu when cuda not available"
   ]
  },
  {
   "cell_type": "markdown",
   "id": "b3e01161",
   "metadata": {},
   "source": [
    "### Step 19"
   ]
  },
  {
   "cell_type": "markdown",
   "id": "6e5047d0",
   "metadata": {},
   "source": [
    "Execution Start time: 22:36:15, End time: 22:36:15 (duration: 0 seconds)"
   ]
  },
  {
   "cell_type": "markdown",
   "id": "e311f448",
   "metadata": {},
   "source": [
    "**Thought**: [pre-executed by user]"
   ]
  },
  {
   "cell_type": "markdown",
   "id": "6c38e1eb",
   "metadata": {},
   "source": [
    "**Action (edit)**:"
   ]
  },
  {
   "cell_type": "code",
   "execution_count": null,
   "id": "91289751",
   "metadata": {},
   "outputs": [
    {
     "data": {
      "text/plain": [
       "Edit was successful. Here's the relevant content *after edit* for your inspection (you should check indentation is correct):\nimport torch\n\nDEVICE = torch.device(\"cuda\" if torch.cuda.is_available() else \"cpu\")\n\nSAVED_CHECKPOINTS = [32*1000, 100*1000, 150*1000, 200*1000, 300*1000, 400*1000]\nSAVED_CHECKPOINTS += [10*1000, 20*1000, 30*1000, 40*1000, 50*1000, 60*1000, 70*1000, 80*1000, 90*1000]\nSAVED_CHECKPOINTS += [25*1000, 50*1000, 75*1000]\n\nSAVED_CHECKPOINTS = set(SAVED_CHECKPOINTS)\n"
      ]
     },
     "execution_count": null,
     "metadata": {},
     "output_type": "execute_result"
    }
   ],
   "source": [
    "/content/ColBERT/colbert/parameters.py\n",
    "<<<BEFORE_EDIT>>>\n",
    "import torch\n",
    "\n",
    "DEVICE = torch.device(\"cuda\")\n",
    "\n",
    "SAVED_CHECKPOINTS = [32*1000, 100*1000, 150*1000, 200*1000, 300*1000, 400*1000]\n",
    "<<<AFTER_EDIT>>>\n",
    "import torch\n",
    "\n",
    "DEVICE = torch.device(\"cuda\" if torch.cuda.is_available() else \"cpu\")\n",
    "\n",
    "SAVED_CHECKPOINTS = [32*1000, 100*1000, 150*1000, 200*1000, 300*1000, 400*1000]\n"
   ]
  },
  {
   "cell_type": "markdown",
   "id": "4abaca0f",
   "metadata": {},
   "source": [
    "### Step 20"
   ]
  },
  {
   "cell_type": "markdown",
   "id": "037fc728",
   "metadata": {},
   "source": [
    "Execution Start time: 22:36:17, End time: 22:39:01 (duration: 163 seconds)"
   ]
  },
  {
   "cell_type": "markdown",
   "id": "5fe4ffa4",
   "metadata": {},
   "source": [
    "**Thought**: Now that the device configuration has been updated to support CPU, I can proceed with training the ColBERT model using the specified hyperparameters. I will run the training script with the provided parameters."
   ]
  },
  {
   "cell_type": "markdown",
   "id": "fc4b9634",
   "metadata": {},
   "source": [
    "**Action (execute)**:"
   ]
  },
  {
   "cell_type": "code",
   "execution_count": null,
   "id": "0b00335e",
   "metadata": {},
   "outputs": [
    {
     "data": {
      "text/plain": [
       "\n\n[Aug 20, 22:36:22] #> Creating directory /content/experiments/my_experiment/train.py/2024-08-20_22.36.21 \n\n\n2024/08/20 22:36:22 INFO mlflow.tracking.fluent: Experiment with name 'my_experiment/train.py' does not exist. Creating a new experiment.\n\n\n[Aug 20, 22:36:23] #> Creating directory /content/experiments/my_experiment/train.py/2024-08-20_22.36.21/logs/ \n\n\n[Aug 20, 22:36:23] {'root': '/content/experiments/', 'experiment': 'my_experiment', 'run': '2024-08-20_22.36.21', 'rank': -1, 'similarity': 'l2', 'dim': 128, 'query_maxlen': 32, 'doc_maxlen': 180, 'mask_punctuation': True, 'resume': False, 'resume_optimizer': False, 'checkpoint': None, 'lr': 3e-06, 'maxsteps': 180, 'bsize': 16, 'accumsteps': 1, 'amp': True, 'triples': '/content/training_data.tsv', 'queries': None, 'collection': None} \n\n/usr/local/lib/python3.10/site-packages/huggingface_hub/file_download.py:1132: FutureWarning: `resume_download` is deprecated and will be removed in version 1.0.0. Downloads always resume when possible. If you want to force a new download, use `force_download=True`.\n  warnings.warn(\n\ntokenizer_config.json:   0%|                         | 0.00/48.0 [00:00<?, ?B/s]\ntokenizer_config.json: 100%|██████████████████| 48.0/48.0 [00:00<00:00, 365kB/s]\n\nvocab.txt:   0%|                                     | 0.00/232k [00:00<?, ?B/s]\n\n\ntokenizer.json:   0%|                                | 0.00/466k [00:00<?, ?B/s]\n\n\nconfig.json:   0%|                                    | 0.00/570 [00:00<?, ?B/s]\n\n\nmodel.safetensors:   0%|                             | 0.00/440M [00:00<?, ?B/s]\n\n\n\n\n\n\n\n\n\n\n\n\n\nSome weights of ColBERT were not initialized from the model checkpoint at bert-base-uncased and are newly initialized: ['linear.weight']\nYou should probably TRAIN this model on a down-stream task to be able to use it for predictions and inference.\n/usr/local/lib/python3.10/site-packages/transformers/optimization.py:521: FutureWarning: This implementation of AdamW is deprecated and will be removed in a future version. Use the PyTorch implementation torch.optim.AdamW instead, or set `no_deprecation_warning=True` to disable this warning\n  warnings.warn(\n/content/ColBERT/colbert/utils/amp.py:17: FutureWarning: `torch.cuda.amp.GradScaler(args...)` is deprecated. Please use `torch.amp.GradScaler('cuda', args...)` instead.\n  self.scaler = torch.cuda.amp.GradScaler()\n/usr/local/lib/python3.10/site-packages/torch/amp/grad_scaler.py:132: UserWarning: torch.cuda.amp.GradScaler is enabled, but CUDA is not available.  Disabling.\n  warnings.warn(\n/content/ColBERT/colbert/utils/amp.py:20: FutureWarning: `torch.cuda.amp.autocast(args...)` is deprecated. Please use `torch.amp.autocast('cuda', args...)` instead.\n  return torch.cuda.amp.autocast() if self.activated else NullContextManager()\n/usr/local/lib/python3.10/site-packages/torch/amp/autocast_mode.py:265: UserWarning: User provided device_type of 'cuda', but CUDA is not available. Disabling\n  warnings.warn(\n#>>>    -27.23 -26.99 \t\t|\t\t -0.240000000000002\n[Aug 20, 22:36:51] 0 1.5976883172988892\n#>>>    -27.16 -27.04 \t\t|\t\t -0.120000000000001\n[Aug 20, 22:37:17] 1 1.468935489654541\n#>>>    -25.83 -25.9 \t\t|\t\t 0.07000000000000028\n[Aug 20, 22:37:44] 2 1.4794137080510457\n#>>>    -27.79 -26.69 \t\t|\t\t -1.0999999999999979\n[Aug 20, 22:38:11] 3 1.6370244324207306\n#>>>    -26.64 -27.14 \t\t|\t\t 0.5\n[Aug 20, 22:38:34] 4 1.4993549108505249\n#>>>    -27.73 -27.26 \t\t|\t\t -0.46999999999999886\n[Aug 20, 22:39:00] 5 1.5311915477116902\n"
      ]
     },
     "execution_count": null,
     "metadata": {},
     "output_type": "execute_result"
    }
   ],
   "source": [
    "!python -m colbert.train --amp --mask-punctuation --bsize 16 --accum 1 --similarity l2 --maxsteps 180 --triples /content/training_data.tsv --root /content/experiments/ --experiment my_experiment"
   ]
  },
  {
   "cell_type": "markdown",
   "id": "6b8defc6",
   "metadata": {},
   "source": [
    "### Step 21"
   ]
  },
  {
   "cell_type": "markdown",
   "id": "4fad4924",
   "metadata": {},
   "source": [
    "Execution Start time: 22:39:02, End time: 22:39:02 (duration: 0 seconds)"
   ]
  },
  {
   "cell_type": "markdown",
   "id": "34754922",
   "metadata": {},
   "source": [
    "**Thought**: The training process has completed, and the last loss value from the output is `1.5311915477116902`. I will now submit this value in the required JSON format."
   ]
  },
  {
   "cell_type": "markdown",
   "id": "07c08255",
   "metadata": {},
   "source": [
    "**Action (submit)**:"
   ]
  },
  {
   "cell_type": "code",
   "execution_count": null,
   "id": "886605d6",
   "metadata": {},
   "outputs": [
    {
     "data": {
      "text/plain": [
       ""
      ]
     },
     "execution_count": null,
     "metadata": {},
     "output_type": "execute_result"
    }
   ],
   "source": [
    "{'last_loss': 1.5311915477116902}"
   ]
  }
 ],
 "metadata": {},
 "nbformat": 4,
 "nbformat_minor": 5
}
