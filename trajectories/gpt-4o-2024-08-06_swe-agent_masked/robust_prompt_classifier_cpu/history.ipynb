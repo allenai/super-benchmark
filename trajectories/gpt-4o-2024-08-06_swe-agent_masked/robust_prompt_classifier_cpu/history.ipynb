{
 "cells": [
  {
   "cell_type": "markdown",
   "id": "31b06e46",
   "metadata": {},
   "source": [
    "### System Prompt\n",
    "<details>\n",
    "SETTING: You are an autonomous programmer, and you're working directly in the command line with a special Jupyter notebook interface.\n",
    "\n",
    "The special Jupyter notebook interface consists of a file editor that shows you 100 lines of a file at a time.\n",
    "You can execute commands in the notebook using:\n",
    "\n",
    "1. Bash commands: Commands starting with !.\n",
    "2. Python commands: Standard Python code.\n",
    "3. Magic commands: Commands starting with %, e.g., %cd <path>.\n",
    "\n",
    "Additionally, you can also use the following commands to help you navigate and edit files.\n",
    "\n",
    "COMMANDS:\n",
    "\n",
    "open:\n",
    "  docstring: opens the file at the given path in the editor. If line_number is provided, the window will be move to include that line\n",
    "  signature: open <path> [<line_number>]\n",
    "  arguments:\n",
    "    - path (string) [required]: the path to the file to open\n",
    "    - line_number (integer) [optional]: the line number to move the window to (if not provided, the window will start at the top of the file)\n",
    "\n",
    "create:\n",
    "  docstring: creates and opens a new file with the given name\n",
    "  signature: create <filename>\n",
    "  arguments:\n",
    "    - filename (string) [required]: the name of the file to create\n",
    "\n",
    "goto:\n",
    "  docstring: moves the window to show <line_number>\n",
    "  signature: goto <line_number>\n",
    "  arguments:\n",
    "    - line_number (integer) [required]: the line number to move the window to\n",
    "\n",
    "scroll_down:\n",
    "  docstring: moves the window down {WINDOW} lines\n",
    "  signature: scroll_down\n",
    "\n",
    "scroll_up:\n",
    "  docstring: moves the window down {WINDOW} lines\n",
    "  signature: scroll_up\n",
    "\n",
    "submit:\n",
    "  docstring: submits your final answer\n",
    "  signature: submit <answer>\n",
    "  arguments:\n",
    "    - answer (string) [required]: the answer to be submitted\n",
    "\n",
    "search_dir:\n",
    "  docstring: searches for search_term in all files in dir_path. If dir_path is not provided, searches in the current directory\n",
    "  signature: search_dir <search_term> [<dir_path>]\n",
    "  arguments:\n",
    "    - search_term (string) [required]: the term to search for\n",
    "    - dir_path (string) [optional]: the directory to search in (if not provided, searches in the current directory)\n",
    "\n",
    "search_file:\n",
    "  docstring: searches for search_term in file. If file is not provided, searches in the current open file\n",
    "  signature: search_file <search_term> [<file>]\n",
    "  arguments:\n",
    "    - search_term (string) [required]: the term to search for\n",
    "    - file (string) [optional]: the file to search in (if not provided, searches in the current open file)\n",
    "\n",
    "find_file:\n",
    "  docstring: finds all files with the given name in dir_path. If dir_path is not provided, searches in the current directory\n",
    "  signature: find_file <file_name> [<dir_path>]\n",
    "  arguments:\n",
    "    - file_name (string) [required]: the name of the file to search for\n",
    "    - dir_path (string) [optional]: the directory to search in (if not provided, searches in the current directory)\n",
    "\n",
    "edit:\n",
    "  docstring: replaces lines <start_line> through <end_line> (inclusive) with the given text in the open file. The replacement text is terminated by a line with only end_of_edit on it. All of the <replacement text> will be entered, so make sure your indentation is formatted properly. Python files will be checked for syntax errors after the edit. If the system detects a syntax error, the edit will not be executed. Simply try to edit the file again, but make sure to read the error message and modify the edit command you issue accordingly. Issuing the same command a second time will just lead to the same error message again.\n",
    "  signature: edit <start_line>:<end_line>\n",
    "<replacement_text>\n",
    "end_of_edit\n",
    "  arguments:\n",
    "    - start_line (integer) [required]: the line number to start the edit at\n",
    "    - end_line (integer) [required]: the line number to end the edit at (inclusive)\n",
    "    - replacement_text (string) [required]: the text to replace the current selection with\n",
    "\n",
    "\n",
    "\n",
    "Please note that THE EDIT COMMAND REQUIRES PROPER INDENTATION. \n",
    "If you'd like to add the line '        print(x)' you must fully write that out, with all those spaces before the code! Indentation is important and code that is not indented correctly will fail and require fixing before it can be run.\n",
    "\n",
    "RESPONSE FORMAT:\n",
    "Your shell prompt is formatted as follows:\n",
    "(Open file: <path>)\n",
    "(Current directory: <cwd>)\n",
    "In [ ]\n",
    "\n",
    "You need to format your output using two fields: discussion and command.\n",
    "Your output should always include _one_ discussion and _one_ command field EXACTLY as in the following example:\n",
    "DISCUSSION\n",
    "First I'll start by using ls to see what files are in the current directory. Then maybe we can look at some relevant files to see what they look like.\n",
    "```\n",
    "!ls -a\n",
    "```\n",
    "\n",
    "You should only include a *SINGLE* command in the command section and then wait for a response from the shell before continuing with more discussion and commands. Everything you include in the DISCUSSION section will be saved for future reference.\n",
    "If you'd like to issue two commands at once, PLEASE DO NOT DO THAT! Please instead first submit just the first command, and then after receiving a response you'll be able to issue the second command. \n",
    "You're free to use any other bash commands you want (e.g. find, grep, cat, ls, cd) in addition to the special commands listed above.\n",
    "</details>\n"
   ]
  },
  {
   "cell_type": "markdown",
   "id": "ab002e53",
   "metadata": {},
   "source": [
    "### Query\n",
    "Use the `search/sentiment.py` script to generate model outputs for sentiment classification on the imdb dataset with the flan-t5-base model. For the first prompt (prompt 0), for each instance id, report the predicted label (label with highest probability) as a json structured as follows: {\"10345\": 0, ...} (replace 10345 with the actual instance id and 0 with the actual predicted label for each instance id).\n",
    "\n",
    "Additional instructions:\n",
    "1. Only load the first 10 examples of each (training/validation/test) set in the dataset.\n",
    "\n",
    "Git repository: https://github.com/adianliusie/robust-prompt-classifier\n",
    "\n",
    "I have already executed some of the required steps. Now, you should make the necessary changes to make sure the code runs on a CPU. Your goal is to successfully run\n",
    "```\n",
    "!python search/sentiment.py --transformer flan-t5-base --path outputs/flan-t5-large/ --lim 10 --epochs 1\n",
    "ls outputs/flan-t5-large/imdb/prompt_0/\n",
    "import pickle\n",
    "with open(r\"outputs/flan-t5-large/imdb/prompt_0/probs.pk\", \"rb\") as input_file:\n",
    "   probs = pickle.load(input_file)\n",
    "import numpy as np\n",
    "for pid, prob in probs.items():\n",
    "  print(pid, \"::\", np.argmax(prob))\n",
    "```\n",
    "and submit the answer."
   ]
  },
  {
   "cell_type": "markdown",
   "id": "295173f5",
   "metadata": {},
   "source": [
    "### Step 1"
   ]
  },
  {
   "cell_type": "markdown",
   "id": "32d1d970",
   "metadata": {},
   "source": [
    "**Thought**: [pre-executed by user]"
   ]
  },
  {
   "cell_type": "markdown",
   "id": "bc090534",
   "metadata": {},
   "source": [
    "**Action (None)**:"
   ]
  },
  {
   "cell_type": "code",
   "execution_count": null,
   "id": "f44961f7",
   "metadata": {},
   "outputs": [
    {
     "data": {
      "text/plain": [
       "Cloning into 'robust-prompt-classifier'...\r\nremote: Enumerating objects: 90, done.\u001b[K\r\nremote: Counting objects:   1% (1/90)\u001b[K\rremote: Counting objects:   2% (2/90)\u001b[K\rremote: Counting objects:   3% (3/90)\u001b[K\rremote: Counting objects:   4% (4/90)\u001b[K\rremote: Counting objects:   5% (5/90)\u001b[K\rremote: Counting objects:   6% (6/90)\u001b[K\rremote: Counting objects:   7% (7/90)\u001b[K\rremote: Counting objects:   8% (8/90)\u001b[K\rremote: Counting objects:  10% (9/90)\u001b[K\rremote: Counting objects:  11% (10/90)\u001b[K\rremote: Counting objects:  12% (11/90)\u001b[K\rremote: Counting objects:  13% (12/90)\u001b[K\rremote: Counting objects:  14% (13/90)\u001b[K\rremote: Counting objects:  15% (14/90)\u001b[K\rremote: Counting objects:  16% (15/90)\u001b[K\rremote: Counting objects:  17% (16/90)\u001b[K\rremote: Counting objects:  18% (17/90)\u001b[K\rremote: Counting objects:  20% (18/90)\u001b[K\rremote: Counting objects:  21% (19/90)\u001b[K\rremote: Counting objects:  22% (20/90)\u001b[K\rremote: Counting objects:  23% (21/90)\u001b[K\rremote: Counting objects:  24% (22/90)\u001b[K\rremote: Counting objects:  25% (23/90)\u001b[K\rremote: Counting objects:  26% (24/90)\u001b[K\rremote: Counting objects:  27% (25/90)\u001b[K\rremote: Counting objects:  28% (26/90)\u001b[K\rremote: Counting objects:  30% (27/90)\u001b[K\rremote: Counting objects:  31% (28/90)\u001b[K\rremote: Counting objects:  32% (29/90)\u001b[K\rremote: Counting objects:  33% (30/90)\u001b[K\rremote: Counting objects:  34% (31/90)\u001b[K\rremote: Counting objects:  35% (32/90)\u001b[K\rremote: Counting objects:  36% (33/90)\u001b[K\rremote: Counting objects:  37% (34/90)\u001b[K\rremote: Counting objects:  38% (35/90)\u001b[K\rremote: Counting objects:  40% (36/90)\u001b[K\rremote: Counting objects:  41% (37/90)\u001b[K\rremote: Counting objects:  42% (38/90)\u001b[K\rremote: Counting objects:  43% (39/90)\u001b[K\rremote: Counting objects:  44% (40/90)\u001b[K\rremote: Counting objects:  45% (41/90)\u001b[K\rremote: Counting objects:  46% (42/90)\u001b[K\rremote: Counting objects:  47% (43/90)\u001b[K\rremote: Counting objects:  48% (44/90)\u001b[K\rremote: Counting objects:  50% (45/90)\u001b[K\rremote: Counting objects:  51% (46/90)\u001b[K\rremote: Counting objects:  52% (47/90)\u001b[K\rremote: Counting objects:  53% (48/90)\u001b[K\rremote: Counting objects:  54% (49/90)\u001b[K\rremote: Counting objects:  55% (50/90)\u001b[K\rremote: Counting objects:  56% (51/90)\u001b[K\rremote: Counting objects:  57% (52/90)\u001b[K\rremote: Counting objects:  58% (53/90)\u001b[K\rremote: Counting objects:  60% (54/90)\u001b[K\rremote: Counting objects:  61% (55/90)\u001b[K\rremote: Counting objects:  62% (56/90)\u001b[K\rremote: Counting objects:  63% (57/90)\u001b[K\rremote: Counting objects:  64% (58/90)\u001b[K\rremote: Counting objects:  65% (59/90)\u001b[K\rremote: Counting objects:  66% (60/90)\u001b[K\rremote: Counting objects:  67% (61/90)\u001b[K\rremote: Counting objects:  68% (62/90)\u001b[K\rremote: Counting objects:  70% (63/90)\u001b[K\rremote: Counting objects:  71% (64/90)\u001b[K\rremote: Counting objects:  72% (65/90)\u001b[K\rremote: Counting objects:  73% (66/90)\u001b[K\rremote: Counting objects:  74% (67/90)\u001b[K\rremote: Counting objects:  75% (68/90)\u001b[K\rremote: Counting objects:  76% (69/90)\u001b[K\rremote: Counting objects:  77% (70/90)\u001b[K\rremote: Counting objects:  78% (71/90)\u001b[K\rremote: Counting objects:  80% (72/90)\u001b[K\rremote: Counting objects:  81% (73/90)\u001b[K\rremote: Counting objects:  82% (74/90)\u001b[K\rremote: Counting objects:  83% (75/90)\u001b[K\rremote: Counting objects:  84% (76/90)\u001b[K\rremote: Counting objects:  85% (77/90)\u001b[K\rremote: Counting objects:  86% (78/90)\u001b[K\rremote: Counting objects:  87% (79/90)\u001b[K\rremote: Counting objects:  88% (80/90)\u001b[K\rremote: Counting objects:  90% (81/90)\u001b[K\rremote: Counting objects:  91% (82/90)\u001b[K\rremote: Counting objects:  92% (83/90)\u001b[K\rremote: Counting objects:  93% (84/90)\u001b[K\rremote: Counting objects:  94% (85/90)\u001b[K\rremote: Counting objects:  95% (86/90)\u001b[K\rremote: Counting objects:  96% (87/90)\u001b[K\rremote: Counting objects:  97% (88/90)\u001b[K\rremote: Counting objects:  98% (89/90)\u001b[K\rremote: Counting objects: 100% (90/90)\u001b[K\rremote: Counting objects: 100% (90/90), done.\u001b[K\r\nremote: Compressing objects:   1% (1/63)\u001b[K\rremote: Compressing objects:   3% (2/63)\u001b[K\rremote: Compressing objects:   4% (3/63)\u001b[K\rremote: Compressing objects:   6% (4/63)\u001b[K\rremote: Compressing objects:   7% (5/63)\u001b[K\rremote: Compressing objects:   9% (6/63)\u001b[K\rremote: Compressing objects:  11% (7/63)\u001b[K\rremote: Compressing objects:  12% (8/63)\u001b[K\rremote: Compressing objects:  14% (9/63)\u001b[K\rremote: Compressing objects:  15% (10/63)\u001b[K\rremote: Compressing objects:  17% (11/63)\u001b[K\rremote: Compressing objects:  19% (12/63)\u001b[K\rremote: Compressing objects:  20% (13/63)\u001b[K\rremote: Compressing objects:  22% (14/63)\u001b[K\rremote: Compressing objects:  23% (15/63)\u001b[K\rremote: Compressing objects:  25% (16/63)\u001b[K\rremote: Compressing objects:  26% (17/63)\u001b[K\rremote: Compressing objects:  28% (18/63)\u001b[K\rremote: Compressing objects:  30% (19/63)\u001b[K\rremote: Compressing objects:  31% (20/63)\u001b[K\rremote: Compressing objects:  33% (21/63)\u001b[K\rremote: Compressing objects:  34% (22/63)\u001b[K\rremote: Compressing objects:  36% (23/63)\u001b[K\rremote: Compressing objects:  38% (24/63)\u001b[K\rremote: Compressing objects:  39% (25/63)\u001b[K\rremote: Compressing objects:  41% (26/63)\u001b[K\rremote: Compressing objects:  42% (27/63)\u001b[K\rremote: Compressing objects:  44% (28/63)\u001b[K\rremote: Compressing objects:  46% (29/63)\u001b[K\rremote: Compressing objects:  47% (30/63)\u001b[K\rremote: Compressing objects:  49% (31/63)\u001b[K\rremote: Compressing objects:  50% (32/63)\u001b[K\rremote: Compressing objects:  52% (33/63)\u001b[K\rremote: Compressing objects:  53% (34/63)\u001b[K\rremote: Compressing objects:  55% (35/63)\u001b[K\rremote: Compressing objects:  57% (36/63)\u001b[K\rremote: Compressing objects:  58% (37/63)\u001b[K\rremote: Compressing objects:  60% (38/63)\u001b[K\rremote: Compressing objects:  61% (39/63)\u001b[K\rremote: Compressing objects:  63% (40/63)\u001b[K\rremote: Compressing objects:  65% (41/63)\u001b[K\rremote: Compressing objects:  66% (42/63)\u001b[K\rremote: Compressing objects:  68% (43/63)\u001b[K\rremote: Compressing objects:  69% (44/63)\u001b[K\rremote: Compressing objects:  71% (45/63)\u001b[K\rremote: Compressing objects:  73% (46/63)\u001b[K\rremote: Compressing objects:  74% (47/63)\u001b[K\rremote: Compressing objects:  76% (48/63)\u001b[K\rremote: Compressing objects:  77% (49/63)\u001b[K\rremote: Compressing objects:  79% (50/63)\u001b[K\rremote: Compressing objects:  80% (51/63)\u001b[K\rremote: Compressing objects:  82% (52/63)\u001b[K\rremote: Compressing objects:  84% (53/63)\u001b[K\rremote: Compressing objects:  85% (54/63)\u001b[K\rremote: Compressing objects:  87% (55/63)\u001b[K\rremote: Compressing objects:  88% (56/63)\u001b[K\rremote: Compressing objects:  90% (57/63)\u001b[K\rremote: Compressing objects:  92% (58/63)\u001b[K\rremote: Compressing objects:  93% (59/63)\u001b[K\rremote: Compressing objects:  95% (60/63)\u001b[K\rremote: Compressing objects:  96% (61/63)\u001b[K\rremote: Compressing objects:  98% (62/63)\u001b[K\rremote: Compressing objects: 100% (63/63)\u001b[K\rremote: Compressing objects: 100% (63/63), done.\u001b[K\r\nReceiving objects:   1% (1/90)\rReceiving objects:   2% (2/90)\rReceiving objects:   3% (3/90)\rReceiving objects:   4% (4/90)\rReceiving objects:   5% (5/90)\rReceiving objects:   6% (6/90)\rReceiving objects:   7% (7/90)\rReceiving objects:   8% (8/90)\rReceiving objects:  10% (9/90)\rReceiving objects:  11% (10/90)\rReceiving objects:  12% (11/90)\rReceiving objects:  13% (12/90)\rReceiving objects:  14% (13/90)\rReceiving objects:  15% (14/90)\rReceiving objects:  16% (15/90)\rReceiving objects:  17% (16/90)\rReceiving objects:  18% (17/90)\rReceiving objects:  20% (18/90)\rReceiving objects:  21% (19/90)\rReceiving objects:  22% (20/90)\rremote: Total 90 (delta 31), reused 79 (delta 25), pack-reused 0 (from 0)\u001b[K\r\nReceiving objects:  23% (21/90)\rReceiving objects:  24% (22/90)\rReceiving objects:  25% (23/90)\rReceiving objects:  26% (24/90)\rReceiving objects:  27% (25/90)\rReceiving objects:  28% (26/90)\rReceiving objects:  30% (27/90)\rReceiving objects:  31% (28/90)\rReceiving objects:  32% (29/90)\rReceiving objects:  33% (30/90)\rReceiving objects:  34% (31/90)\rReceiving objects:  35% (32/90)\rReceiving objects:  36% (33/90)\rReceiving objects:  37% (34/90)\rReceiving objects:  38% (35/90)\rReceiving objects:  40% (36/90)\rReceiving objects:  41% (37/90)\rReceiving objects:  42% (38/90)\rReceiving objects:  43% (39/90)\rReceiving objects:  44% (40/90)\rReceiving objects:  45% (41/90)\rReceiving objects:  46% (42/90)\rReceiving objects:  47% (43/90)\rReceiving objects:  48% (44/90)\rReceiving objects:  50% (45/90)\rReceiving objects:  51% (46/90)\rReceiving objects:  52% (47/90)\rReceiving objects:  53% (48/90)\rReceiving objects:  54% (49/90)\rReceiving objects:  55% (50/90)\rReceiving objects:  56% (51/90)\rReceiving objects:  57% (52/90)\rReceiving objects:  58% (53/90)\rReceiving objects:  60% (54/90)\rReceiving objects:  61% (55/90)\rReceiving objects:  62% (56/90)\rReceiving objects:  63% (57/90)\rReceiving objects:  64% (58/90)\rReceiving objects:  65% (59/90)\rReceiving objects:  66% (60/90)\rReceiving objects:  67% (61/90)\rReceiving objects:  68% (62/90)\rReceiving objects:  70% (63/90)\rReceiving objects:  71% (64/90)\rReceiving objects:  72% (65/90)\rReceiving objects:  73% (66/90)\rReceiving objects:  74% (67/90)\rReceiving objects:  75% (68/90)\rReceiving objects:  76% (69/90)\rReceiving objects:  77% (70/90)\rReceiving objects:  78% (71/90)\rReceiving objects:  80% (72/90)\rReceiving objects:  81% (73/90)\rReceiving objects:  82% (74/90)\rReceiving objects:  83% (75/90)\rReceiving objects:  84% (76/90)\rReceiving objects:  85% (77/90)\rReceiving objects:  86% (78/90)\rReceiving objects:  87% (79/90)\rReceiving objects:  88% (80/90)\rReceiving objects:  90% (81/90)\rReceiving objects:  91% (82/90)\rReceiving objects:  92% (83/90)\rReceiving objects:  93% (84/90)\rReceiving objects:  94% (85/90)\rReceiving objects:  95% (86/90)\rReceiving objects:  96% (87/90)\rReceiving objects:  97% (88/90)\rReceiving objects:  98% (89/90)\rReceiving objects: 100% (90/90)\rReceiving objects: 100% (90/90), 1.29 MiB | 27.01 MiB/s, done.\r\nResolving deltas:   0% (0/31)\rResolving deltas:   3% (1/31)\rResolving deltas:   6% (2/31)\rResolving deltas:   9% (3/31)\rResolving deltas:  12% (4/31)\rResolving deltas:  16% (5/31)\rResolving deltas:  19% (6/31)\rResolving deltas:  22% (7/31)\rResolving deltas:  25% (8/31)\rResolving deltas:  29% (9/31)\rResolving deltas:  32% (10/31)\rResolving deltas:  35% (11/31)\rResolving deltas:  38% (12/31)\rResolving deltas:  41% (13/31)\rResolving deltas:  45% (14/31)\rResolving deltas:  48% (15/31)\rResolving deltas:  51% (16/31)\rResolving deltas:  54% (17/31)\rResolving deltas:  58% (18/31)\rResolving deltas:  61% (19/31)\rResolving deltas:  64% (20/31)\rResolving deltas:  67% (21/31)\rResolving deltas:  70% (22/31)\rResolving deltas:  74% (23/31)\rResolving deltas:  77% (24/31)\rResolving deltas:  80% (25/31)\rResolving deltas:  83% (26/31)\rResolving deltas:  87% (27/31)\rResolving deltas:  90% (28/31)\rResolving deltas:  93% (29/31)\rResolving deltas:  96% (30/31)\rResolving deltas: 100% (31/31)\rResolving deltas: 100% (31/31), done.\r\n"
      ]
     },
     "execution_count": null,
     "metadata": {},
     "output_type": "execute_result"
    }
   ],
   "source": [
    "!git clone https://github.com/adianliusie/robust-prompt-classifier"
   ]
  },
  {
   "cell_type": "markdown",
   "id": "15bda9c4",
   "metadata": {},
   "source": [
    "### Step 2"
   ]
  },
  {
   "cell_type": "markdown",
   "id": "ac3e4e6b",
   "metadata": {},
   "source": [
    "**Thought**: [pre-executed by user]"
   ]
  },
  {
   "cell_type": "markdown",
   "id": "26e4a803",
   "metadata": {},
   "source": [
    "**Action (None)**:"
   ]
  },
  {
   "cell_type": "code",
   "execution_count": null,
   "id": "3d6d9dc1",
   "metadata": {},
   "outputs": [
    {
     "data": {
      "text/plain": [
       "/content/robust-prompt-classifier\n/usr/local/lib/python3.10/site-packages/IPython/core/magics/osm.py:417: UserWarning: This is now an optional IPython functionality, setting dhist requires you to install the `pickleshare` library.\n  self.shell.db['dhist'] = compress_dhist(dhist)[-100:]\n"
      ]
     },
     "execution_count": null,
     "metadata": {},
     "output_type": "execute_result"
    }
   ],
   "source": [
    "%cd robust-prompt-classifier"
   ]
  },
  {
   "cell_type": "markdown",
   "id": "a34d9c90",
   "metadata": {},
   "source": [
    "### Step 3"
   ]
  },
  {
   "cell_type": "markdown",
   "id": "2f1a91a9",
   "metadata": {},
   "source": [
    "**Thought**: [pre-executed by user]"
   ]
  },
  {
   "cell_type": "markdown",
   "id": "270ad708",
   "metadata": {},
   "source": [
    "**Action (None)**:"
   ]
  },
  {
   "cell_type": "code",
   "execution_count": null,
   "id": "0150ae5c",
   "metadata": {},
   "outputs": [
    {
     "data": {
      "text/plain": [
       ""
      ]
     },
     "execution_count": null,
     "metadata": {},
     "output_type": "execute_result"
    }
   ],
   "source": [
    "# src folder was giving ModuleNotFound Error , so kept the root to path"
   ]
  },
  {
   "cell_type": "markdown",
   "id": "dc6aa199",
   "metadata": {},
   "source": [
    "### Step 4"
   ]
  },
  {
   "cell_type": "markdown",
   "id": "5085976b",
   "metadata": {},
   "source": [
    "**Thought**: EXECUTED BY USER"
   ]
  },
  {
   "cell_type": "markdown",
   "id": "02583138",
   "metadata": {},
   "source": [
    "**Action (None)**:"
   ]
  },
  {
   "cell_type": "code",
   "execution_count": null,
   "id": "03c63e14",
   "metadata": {},
   "outputs": [
    {
     "data": {
      "text/plain": [
       "Edit was successful. Here's the relevant content *after edit* for your inspection (you should check indentation is correct):\nimport torch.nn.functional as F\nimport itertools\n\nfrom collections import defaultdict\n\nfrom copy import deepcopy\nfrom tqdm import tqdm\nfrom typing import List\nfrom types import SimpleNamespace\n\n# src is a folder in the root directory\nimport os\nimport sys\n\n# add the 'src' directory as one where we can import modules,getting error : ModuleNotFoundError: No module named 'src'\nsrc_dir = os.getcwd()\nprint(f\"src_dir: {src_dir}\")\nsys.path.append(src_dir)\n\nfrom src.handlers.trainer import Trainer\nfrom src.handlers.evaluater import Evaluater\nfrom src.utils.general import save_pickle, save_json\nfrom src.utils.parser import get_model_parser, get_train_parser\nfrom src.utils.analysis import probs_to_preds\n\n\ndef prompt_search_experiment("
      ]
     },
     "execution_count": null,
     "metadata": {},
     "output_type": "execute_result"
    }
   ],
   "source": [
    "EDITING `/content/robust-prompt-classifier/search/prompt_search.py. CHANGING:\n",
    "\n",
    "\n",
    "from typing import List\n",
    "from types import SimpleNamespace\n",
    "\n",
    "from src.handlers.trainer import Trainer\n",
    "from src.handlers.evaluater import Evaluater\n",
    "\n",
    "\n",
    "TO:\n",
    "\n",
    "\n",
    "from typing import List\n",
    "from types import SimpleNamespace\n",
    "\n",
    "# src is a folder in the root directory\n",
    "import os\n",
    "import sys\n",
    "\n",
    "# add the 'src' directory as one where we can import modules,getting error : ModuleNotFoundError: No module named 'src'\n",
    "src_dir = os.getcwd()\n",
    "print(f\"src_dir: {src_dir}\")\n",
    "sys.path.append(src_dir)\n",
    "\n",
    "from src.handlers.trainer import Trainer\n",
    "from src.handlers.evaluater import Evaluater\n"
   ]
  },
  {
   "cell_type": "markdown",
   "id": "5da63cba",
   "metadata": {},
   "source": [
    "### Step 5"
   ]
  },
  {
   "cell_type": "markdown",
   "id": "6e684626",
   "metadata": {},
   "source": [
    "**Thought**: EXECUTED BY USER"
   ]
  },
  {
   "cell_type": "markdown",
   "id": "04b87d7d",
   "metadata": {},
   "source": [
    "**Action (None)**:"
   ]
  },
  {
   "cell_type": "code",
   "execution_count": null,
   "id": "5cf20df3",
   "metadata": {},
   "outputs": [
    {
     "data": {
      "text/plain": [
       "Edit was successful. Here's the relevant content *after edit* for your inspection (you should check indentation is correct):\nfrom prompt_search import prompt_search_experiment\n\nif __name__ == '__main__':\n    #== Set Exp arguments (beforehand) ============================================================#\n    # datasets = ['imdb', 'rt', 'amazon-s']\n    datasets = ['imdb']\n\n    templates = [\n        'classify the following review: <t>',\n        'how was the movie? <t>',\n        'which word best describes the text? <t>',\n        'what is the sentiment? <t>',\n        \"what is the reviewer's verdict? <t>\",\n        'is the following movie good or bad? <t>'"
      ]
     },
     "execution_count": null,
     "metadata": {},
     "output_type": "execute_result"
    }
   ],
   "source": [
    "EDITING `/content/robust-prompt-classifier/search/sentiment.py. CHANGING:\n",
    "\n",
    "\n",
    "\n",
    "if __name__ == '__main__':\n",
    "    #== Set Exp arguments (beforehand) ============================================================#\n",
    "    datasets = ['imdb', 'rt', 'amazon-s']\n",
    "\n",
    "    templates = [\n",
    "\n",
    "\n",
    "TO:\n",
    "\n",
    "\n",
    "\n",
    "if __name__ == '__main__':\n",
    "    #== Set Exp arguments (beforehand) ============================================================#\n",
    "    # datasets = ['imdb', 'rt', 'amazon-s']\n",
    "    datasets = ['imdb']\n",
    "\n",
    "    templates = [\n"
   ]
  },
  {
   "cell_type": "markdown",
   "id": "cb22233f",
   "metadata": {},
   "source": [
    "### Step 6"
   ]
  },
  {
   "cell_type": "markdown",
   "id": "ba8fdac0",
   "metadata": {},
   "source": [
    "**Thought**: [pre-executed by user]"
   ]
  },
  {
   "cell_type": "markdown",
   "id": "3ac5875e",
   "metadata": {},
   "source": [
    "**Action (None)**:"
   ]
  },
  {
   "cell_type": "code",
   "execution_count": null,
   "id": "e46c8126",
   "metadata": {},
   "outputs": [
    {
     "data": {
      "text/plain": [
       "Collecting wandb\r\n  Downloading wandb-0.17.7-py3-none-manylinux_2_17_x86_64.manylinux2014_x86_64.whl.metadata (10 kB)\r\nRequirement already satisfied: click!=8.0.0,>=7.1 in /usr/local/lib/python3.10/site-packages (from wandb) (8.1.7)\r\nCollecting docker-pycreds>=0.4.0 (from wandb)\r\n  Downloading docker_pycreds-0.4.0-py2.py3-none-any.whl.metadata (1.8 kB)\r\nCollecting gitpython!=3.1.29,>=1.0.0 (from wandb)\r\n  Downloading GitPython-3.1.43-py3-none-any.whl.metadata (13 kB)\r\nRequirement already satisfied: platformdirs in /usr/local/lib/python3.10/site-packages (from wandb) (4.2.2)\r\nRequirement already satisfied: protobuf!=4.21.0,<6,>=3.19.0 in /usr/local/lib/python3.10/site-packages (from wandb) (5.27.1)\r\nRequirement already satisfied: psutil>=5.0.0 in /usr/local/lib/python3.10/site-packages (from wandb) (5.9.8)\r\nRequirement already satisfied: pyyaml in /usr/local/lib/python3.10/site-packages (from wandb) (6.0.1)\r\nRequirement already satisfied: requests<3,>=2.0.0 in /usr/local/lib/python3.10/site-packages (from wandb) (2.31.0)\r\nCollecting sentry-sdk>=1.0.0 (from wandb)\r\n  Downloading sentry_sdk-2.13.0-py2.py3-none-any.whl.metadata (9.7 kB)\r\nCollecting setproctitle (from wandb)\r\n  Downloading setproctitle-1.3.3-cp310-cp310-manylinux_2_5_x86_64.manylinux1_x86_64.manylinux_2_17_x86_64.manylinux2014_x86_64.whl.metadata (9.9 kB)\r\nRequirement already satisfied: setuptools in /usr/local/lib/python3.10/site-packages (from wandb) (68.1.2)\r\nRequirement already satisfied: six>=1.4.0 in /usr/local/lib/python3.10/site-packages (from docker-pycreds>=0.4.0->wandb) (1.16.0)\r\nCollecting gitdb<5,>=4.0.1 (from gitpython!=3.1.29,>=1.0.0->wandb)\r\n  Downloading gitdb-4.0.11-py3-none-any.whl.metadata (1.2 kB)\r\nRequirement already satisfied: charset-normalizer<4,>=2 in /usr/local/lib/python3.10/site-packages (from requests<3,>=2.0.0->wandb) (2.1.1)\r\nRequirement already satisfied: idna<4,>=2.5 in /usr/local/lib/python3.10/site-packages (from requests<3,>=2.0.0->wandb) (3.7)\r\nRequirement already satisfied: urllib3<3,>=1.21.1 in /usr/local/lib/python3.10/site-packages (from requests<3,>=2.0.0->wandb) (2.0.7)\r\nRequirement already satisfied: certifi>=2017.4.17 in /usr/local/lib/python3.10/site-packages (from requests<3,>=2.0.0->wandb) (2024.6.2)\r\nCollecting smmap<6,>=3.0.1 (from gitdb<5,>=4.0.1->gitpython!=3.1.29,>=1.0.0->wandb)\r\n  Downloading smmap-5.0.1-py3-none-any.whl.metadata (4.3 kB)\r\nDownloading wandb-0.17.7-py3-none-manylinux_2_17_x86_64.manylinux2014_x86_64.whl (9.3 MB)\r\n\u001b[?25l   \u001b[90m━━━━━━━━━━━━━━━━━━━━━━━━━━━━━━━━━━━━━━━━\u001b[0m \u001b[32m0.0/9.3 MB\u001b[0m \u001b[31m?\u001b[0m eta \u001b[36m-:--:--\u001b[0m\r\u001b[2K   \u001b[90m━━━━━━━━━━━━━━━━━━━━━━━━━━━━━━━━━━━━━━━━\u001b[0m \u001b[32m9.3/9.3 MB\u001b[0m \u001b[31m287.1 MB/s\u001b[0m eta \u001b[36m0:00:00\u001b[0m\r\n\u001b[?25hDownloading docker_pycreds-0.4.0-py2.py3-none-any.whl (9.0 kB)\r\nDownloading GitPython-3.1.43-py3-none-any.whl (207 kB)\r\n\u001b[?25l   \u001b[90m━━━━━━━━━━━━━━━━━━━━━━━━━━━━━━━━━━━━━━━━\u001b[0m \u001b[32m0.0/207.3 kB\u001b[0m \u001b[31m?\u001b[0m eta \u001b[36m-:--:--\u001b[0m\r\u001b[2K   \u001b[90m━━━━━━━━━━━━━━━━━━━━━━━━━━━━━━━━━━━━━━━\u001b[0m \u001b[32m207.3/207.3 kB\u001b[0m \u001b[31m277.4 MB/s\u001b[0m eta \u001b[36m0:00:00\u001b[0m\r\n\u001b[?25hDownloading sentry_sdk-2.13.0-py2.py3-none-any.whl (309 kB)\r\n\u001b[?25l   \u001b[90m━━━━━━━━━━━━━━━━━━━━━━━━━━━━━━━━━━━━━━━━\u001b[0m \u001b[32m0.0/309.1 kB\u001b[0m \u001b[31m?\u001b[0m eta \u001b[36m-:--:--\u001b[0m\r\u001b[2K   \u001b[90m━━━━━━━━━━━━━━━━━━━━━━━━━━━━━━━━━━━━━━━\u001b[0m \u001b[32m309.1/309.1 kB\u001b[0m \u001b[31m283.4 MB/s\u001b[0m eta \u001b[36m0:00:00\u001b[0m\r\n\u001b[?25hDownloading setproctitle-1.3.3-cp310-cp310-manylinux_2_5_x86_64.manylinux1_x86_64.manylinux_2_17_x86_64.manylinux2014_x86_64.whl (30 kB)\r\nDownloading gitdb-4.0.11-py3-none-any.whl (62 kB)\r\n\u001b[?25l   \u001b[90m━━━━━━━━━━━━━━━━━━━━━━━━━━━━━━━━━━━━━━━━\u001b[0m \u001b[32m0.0/62.7 kB\u001b[0m \u001b[31m?\u001b[0m eta \u001b[36m-:--:--\u001b[0m\r\u001b[2K   \u001b[90m━━━━━━━━━━━━━━━━━━━━━━━━━━━━━━━━━━━━━━━━\u001b[0m \u001b[32m62.7/62.7 kB\u001b[0m \u001b[31m226.0 MB/s\u001b[0m eta \u001b[36m0:00:00\u001b[0m\r\n\u001b[?25hDownloading smmap-5.0.1-py3-none-any.whl (24 kB)\r\nInstalling collected packages: smmap, setproctitle, sentry-sdk, docker-pycreds, gitdb, gitpython, wandb\r\nSuccessfully installed docker-pycreds-0.4.0 gitdb-4.0.11 gitpython-3.1.43 sentry-sdk-2.13.0 setproctitle-1.3.3 smmap-5.0.1 wandb-0.17.7\r\n\r\n\u001b[1m[\u001b[0m\u001b[34;49mnotice\u001b[0m\u001b[1;39;49m]\u001b[0m\u001b[39;49m A new release of pip is available: \u001b[0m\u001b[31;49m24.0\u001b[0m\u001b[39;49m -> \u001b[0m\u001b[32;49m24.2\u001b[0m\r\n\u001b[1m[\u001b[0m\u001b[34;49mnotice\u001b[0m\u001b[1;39;49m]\u001b[0m\u001b[39;49m To update, run: \u001b[0m\u001b[32;49mpip install --upgrade pip\u001b[0m\r\n"
      ]
     },
     "execution_count": null,
     "metadata": {},
     "output_type": "execute_result"
    }
   ],
   "source": [
    "!pip install wandb"
   ]
  },
  {
   "cell_type": "markdown",
   "id": "0983ac6e",
   "metadata": {},
   "source": [
    "### Step 7"
   ]
  },
  {
   "cell_type": "markdown",
   "id": "75f720b0",
   "metadata": {},
   "source": [
    "**Thought**: [pre-executed by user]"
   ]
  },
  {
   "cell_type": "markdown",
   "id": "54eac10e",
   "metadata": {},
   "source": [
    "**Action (None)**:"
   ]
  },
  {
   "cell_type": "code",
   "execution_count": null,
   "id": "90a1b998",
   "metadata": {},
   "outputs": [
    {
     "data": {
      "text/plain": [
       ""
      ]
     },
     "execution_count": null,
     "metadata": {},
     "output_type": "execute_result"
    }
   ],
   "source": [
    "# We want latest dataset module, despite the repo suggest 2.12.0 we need 2.19.1"
   ]
  },
  {
   "cell_type": "markdown",
   "id": "aa1bbf18",
   "metadata": {},
   "source": [
    "### Step 8"
   ]
  },
  {
   "cell_type": "markdown",
   "id": "239d9db4",
   "metadata": {},
   "source": [
    "**Thought**: [pre-executed by user]"
   ]
  },
  {
   "cell_type": "markdown",
   "id": "588a2500",
   "metadata": {},
   "source": [
    "**Action (None)**:"
   ]
  },
  {
   "cell_type": "code",
   "execution_count": null,
   "id": "ee71716c",
   "metadata": {},
   "outputs": [
    {
     "data": {
      "text/plain": [
       "Collecting datasets\r\n  Downloading datasets-2.21.0-py3-none-any.whl.metadata (21 kB)\r\nRequirement already satisfied: filelock in /usr/local/lib/python3.10/site-packages (from datasets) (3.15.1)\r\nRequirement already satisfied: numpy>=1.17 in /usr/local/lib/python3.10/site-packages (from datasets) (1.25.2)\r\nCollecting pyarrow>=15.0.0 (from datasets)\r\n  Downloading pyarrow-17.0.0-cp310-cp310-manylinux_2_28_x86_64.whl.metadata (3.3 kB)\r\nCollecting dill<0.3.9,>=0.3.0 (from datasets)\r\n  Downloading dill-0.3.8-py3-none-any.whl.metadata (10 kB)\r\nRequirement already satisfied: pandas in /usr/local/lib/python3.10/site-packages (from datasets) (2.0.3)\r\nCollecting requests>=2.32.2 (from datasets)\r\n  Downloading requests-2.32.3-py3-none-any.whl.metadata (4.6 kB)\r\nRequirement already satisfied: tqdm>=4.66.3 in /usr/local/lib/python3.10/site-packages (from datasets) (4.66.4)\r\nCollecting xxhash (from datasets)\r\n  Downloading xxhash-3.5.0-cp310-cp310-manylinux_2_17_x86_64.manylinux2014_x86_64.whl.metadata (12 kB)\r\nCollecting multiprocess (from datasets)\r\n  Downloading multiprocess-0.70.16-py310-none-any.whl.metadata (7.2 kB)\r\nRequirement already satisfied: fsspec<=2024.6.1,>=2023.1.0 in /usr/local/lib/python3.10/site-packages (from fsspec[http]<=2024.6.1,>=2023.1.0->datasets) (2023.6.0)\r\nRequirement already satisfied: aiohttp in /usr/local/lib/python3.10/site-packages (from datasets) (3.8.3)\r\nRequirement already satisfied: huggingface-hub>=0.21.2 in /usr/local/lib/python3.10/site-packages (from datasets) (0.23.3)\r\nRequirement already satisfied: packaging in /usr/local/lib/python3.10/site-packages (from datasets) (24.1)\r\nRequirement already satisfied: pyyaml>=5.1 in /usr/local/lib/python3.10/site-packages (from datasets) (6.0.1)\r\nRequirement already satisfied: attrs>=17.3.0 in /usr/local/lib/python3.10/site-packages (from aiohttp->datasets) (23.2.0)\r\nRequirement already satisfied: charset-normalizer<3.0,>=2.0 in /usr/local/lib/python3.10/site-packages (from aiohttp->datasets) (2.1.1)\r\nRequirement already satisfied: multidict<7.0,>=4.5 in /usr/local/lib/python3.10/site-packages (from aiohttp->datasets) (6.0.5)\r\nRequirement already satisfied: async-timeout<5.0,>=4.0.0a3 in /usr/local/lib/python3.10/site-packages (from aiohttp->datasets) (4.0.3)\r\nRequirement already satisfied: yarl<2.0,>=1.0 in /usr/local/lib/python3.10/site-packages (from aiohttp->datasets) (1.9.4)\r\nRequirement already satisfied: frozenlist>=1.1.1 in /usr/local/lib/python3.10/site-packages (from aiohttp->datasets) (1.4.1)\r\nRequirement already satisfied: aiosignal>=1.1.2 in /usr/local/lib/python3.10/site-packages (from aiohttp->datasets) (1.3.1)\r\nRequirement already satisfied: typing-extensions>=3.7.4.3 in /usr/local/lib/python3.10/site-packages (from huggingface-hub>=0.21.2->datasets) (4.12.2)\r\nRequirement already satisfied: idna<4,>=2.5 in /usr/local/lib/python3.10/site-packages (from requests>=2.32.2->datasets) (3.7)\r\nRequirement already satisfied: urllib3<3,>=1.21.1 in /usr/local/lib/python3.10/site-packages (from requests>=2.32.2->datasets) (2.0.7)\r\nRequirement already satisfied: certifi>=2017.4.17 in /usr/local/lib/python3.10/site-packages (from requests>=2.32.2->datasets) (2024.6.2)\r\nRequirement already satisfied: python-dateutil>=2.8.2 in /usr/local/lib/python3.10/site-packages (from pandas->datasets) (2.9.0.post0)\r\nRequirement already satisfied: pytz>=2020.1 in /usr/local/lib/python3.10/site-packages (from pandas->datasets) (2024.1)\r\nRequirement already satisfied: tzdata>=2022.1 in /usr/local/lib/python3.10/site-packages (from pandas->datasets) (2024.1)\r\nRequirement already satisfied: six>=1.5 in /usr/local/lib/python3.10/site-packages (from python-dateutil>=2.8.2->pandas->datasets) (1.16.0)\r\nDownloading datasets-2.21.0-py3-none-any.whl (527 kB)\r\n\u001b[?25l   \u001b[90m━━━━━━━━━━━━━━━━━━━━━━━━━━━━━━━━━━━━━━━━\u001b[0m \u001b[32m0.0/527.3 kB\u001b[0m \u001b[31m?\u001b[0m eta \u001b[36m-:--:--\u001b[0m\r\u001b[2K   \u001b[90m━━━━━━━━━━━━━━━━━━━━━━━━━━━━━━━━━━━━━━━\u001b[0m \u001b[32m527.3/527.3 kB\u001b[0m \u001b[31m120.4 MB/s\u001b[0m eta \u001b[36m0:00:00\u001b[0m\r\n\u001b[?25hDownloading dill-0.3.8-py3-none-any.whl (116 kB)\r\n\u001b[?25l   \u001b[90m━━━━━━━━━━━━━━━━━━━━━━━━━━━━━━━━━━━━━━━━\u001b[0m \u001b[32m0.0/116.3 kB\u001b[0m \u001b[31m?\u001b[0m eta \u001b[36m-:--:--\u001b[0m\r\u001b[2K   \u001b[90m━━━━━━━━━━━━━━━━━━━━━━━━━━━━━━━━━━━━━━━\u001b[0m \u001b[32m116.3/116.3 kB\u001b[0m \u001b[31m275.1 MB/s\u001b[0m eta \u001b[36m0:00:00\u001b[0m\r\n\u001b[?25hDownloading pyarrow-17.0.0-cp310-cp310-manylinux_2_28_x86_64.whl (39.9 MB)\r\n\u001b[?25l   \u001b[90m━━━━━━━━━━━━━━━━━━━━━━━━━━━━━━━━━━━━━━━━\u001b[0m \u001b[32m0.0/39.9 MB\u001b[0m \u001b[31m?\u001b[0m eta \u001b[36m-:--:--\u001b[0m\r\u001b[2K   \u001b[91m━━━━━━━━\u001b[0m\u001b[90m╺\u001b[0m\u001b[90m━━━━━━━━━━━━━━━━━━━━━━━━━━━━━━━\u001b[0m \u001b[32m8.3/39.9 MB\u001b[0m \u001b[31m246.7 MB/s\u001b[0m eta \u001b[36m0:00:01\u001b[0m\r\u001b[2K   \u001b[91m━━━━━━━━━━━━━━━\u001b[0m\u001b[91m╸\u001b[0m\u001b[90m━━━━━━━━━━━━━━━━━━━━━━━━\u001b[0m \u001b[32m15.9/39.9 MB\u001b[0m \u001b[31m246.0 MB/s\u001b[0m eta \u001b[36m0:00:01\u001b[0m\r\u001b[2K   \u001b[91m━━━━━━━━━━━━━━━━━━━━━━━\u001b[0m\u001b[91m╸\u001b[0m\u001b[90m━━━━━━━━━━━━━━━━\u001b[0m \u001b[32m23.4/39.9 MB\u001b[0m \u001b[31m229.3 MB/s\u001b[0m eta \u001b[36m0:00:01\u001b[0m\r\u001b[2K   \u001b[91m━━━━━━━━━━━━━━━━━━━━━━━\u001b[0m\u001b[91m╸\u001b[0m\u001b[90m━━━━━━━━━━━━━━━━\u001b[0m \u001b[32m23.4/39.9 MB\u001b[0m \u001b[31m229.3 MB/s\u001b[0m eta \u001b[36m0:00:01\u001b[0m\r\u001b[2K   \u001b[91m━━━━━━━━━━━━━━━━━━━━━━━\u001b[0m\u001b[91m╸\u001b[0m\u001b[90m━━━━━━━━━━━━━━━━\u001b[0m \u001b[32m23.4/39.9 MB\u001b[0m \u001b[31m229.3 MB/s\u001b[0m eta \u001b[36m0:00:01\u001b[0m\r\u001b[2K   \u001b[91m━━━━━━━━━━━━━━━━━━━━━━━\u001b[0m\u001b[91m╸\u001b[0m\u001b[90m━━━━━━━━━━━━━━━━\u001b[0m \u001b[32m23.4/39.9 MB\u001b[0m \u001b[31m229.3 MB/s\u001b[0m eta \u001b[36m0:00:01\u001b[0m\r\u001b[2K   \u001b[91m━━━━━━━━━━━━━━━━━━━━━━━\u001b[0m\u001b[91m╸\u001b[0m\u001b[90m━━━━━━━━━━━━━━━━\u001b[0m \u001b[32m23.4/39.9 MB\u001b[0m \u001b[31m229.3 MB/s\u001b[0m eta \u001b[36m0:00:01\u001b[0m\r\u001b[2K   \u001b[91m━━━━━━━━━━━━━━━━━━━━━━━\u001b[0m\u001b[91m╸\u001b[0m\u001b[90m━━━━━━━━━━━━━━━━\u001b[0m \u001b[32m23.4/39.9 MB\u001b[0m \u001b[31m229.3 MB/s\u001b[0m eta \u001b[36m0:00:01\u001b[0m\r\u001b[2K   \u001b[91m━━━━━━━━━━━━━━━━━━━━━━━━━━\u001b[0m\u001b[91m╸\u001b[0m\u001b[90m━━━━━━━━━━━━━\u001b[0m \u001b[32m26.9/39.9 MB\u001b[0m \u001b[31m42.5 MB/s\u001b[0m eta \u001b[36m0:00:01\u001b[0m\r\u001b[2K   \u001b[91m━━━━━━━━━━━━━━━━━━━━━━━━━━━━━━━━━━━\u001b[0m\u001b[91m╸\u001b[0m\u001b[90m━━━━\u001b[0m \u001b[32m35.4/39.9 MB\u001b[0m \u001b[31m242.3 MB/s\u001b[0m eta \u001b[36m0:00:01\u001b[0m\r\u001b[2K   \u001b[90m━━━━━━━━━━━━━━━━━━━━━━━━━━━━━━━━━━━━━━━━\u001b[0m \u001b[32m39.9/39.9 MB\u001b[0m \u001b[31m257.4 MB/s\u001b[0m eta \u001b[36m0:00:00\u001b[0m\r\n\u001b[?25hDownloading requests-2.32.3-py3-none-any.whl (64 kB)\r\n\u001b[?25l   \u001b[90m━━━━━━━━━━━━━━━━━━━━━━━━━━━━━━━━━━━━━━━━\u001b[0m \u001b[32m0.0/64.9 kB\u001b[0m \u001b[31m?\u001b[0m eta \u001b[36m-:--:--\u001b[0m\r\u001b[2K   \u001b[90m━━━━━━━━━━━━━━━━━━━━━━━━━━━━━━━━━━━━━━━━\u001b[0m \u001b[32m64.9/64.9 kB\u001b[0m \u001b[31m170.4 MB/s\u001b[0m eta \u001b[36m0:00:00\u001b[0m\r\n\u001b[?25hDownloading multiprocess-0.70.16-py310-none-any.whl (134 kB)\r\n\u001b[?25l   \u001b[90m━━━━━━━━━━━━━━━━━━━━━━━━━━━━━━━━━━━━━━━━\u001b[0m \u001b[32m0.0/134.8 kB\u001b[0m \u001b[31m?\u001b[0m eta \u001b[36m-:--:--\u001b[0m\r\u001b[2K   \u001b[90m━━━━━━━━━━━━━━━━━━━━━━━━━━━━━━━━━━━━━━━\u001b[0m \u001b[32m134.8/134.8 kB\u001b[0m \u001b[31m195.5 MB/s\u001b[0m eta \u001b[36m0:00:00\u001b[0m\r\n\u001b[?25hDownloading xxhash-3.5.0-cp310-cp310-manylinux_2_17_x86_64.manylinux2014_x86_64.whl (194 kB)\r\n\u001b[?25l   \u001b[90m━━━━━━━━━━━━━━━━━━━━━━━━━━━━━━━━━━━━━━━━\u001b[0m \u001b[32m0.0/194.1 kB\u001b[0m \u001b[31m?\u001b[0m eta \u001b[36m-:--:--\u001b[0m\r\u001b[2K   \u001b[90m━━━━━━━━━━━━━━━━━━━━━━━━━━━━━━━━━━━━━━━\u001b[0m \u001b[32m194.1/194.1 kB\u001b[0m \u001b[31m289.6 MB/s\u001b[0m eta \u001b[36m0:00:00\u001b[0m\r\n\u001b[?25hInstalling collected packages: xxhash, requests, pyarrow, dill, multiprocess, datasets\r\n  Attempting uninstall: requests\r\n    Found existing installation: requests 2.31.0\r\n    Uninstalling requests-2.31.0:\r\n      Successfully uninstalled requests-2.31.0\r\nSuccessfully installed datasets-2.21.0 dill-0.3.8 multiprocess-0.70.16 pyarrow-17.0.0 requests-2.32.3 xxhash-3.5.0\r\n\r\n\u001b[1m[\u001b[0m\u001b[34;49mnotice\u001b[0m\u001b[1;39;49m]\u001b[0m\u001b[39;49m A new release of pip is available: \u001b[0m\u001b[31;49m24.0\u001b[0m\u001b[39;49m -> \u001b[0m\u001b[32;49m24.2\u001b[0m\r\n\u001b[1m[\u001b[0m\u001b[34;49mnotice\u001b[0m\u001b[1;39;49m]\u001b[0m\u001b[39;49m To update, run: \u001b[0m\u001b[32;49mpip install --upgrade pip\u001b[0m\r\n"
      ]
     },
     "execution_count": null,
     "metadata": {},
     "output_type": "execute_result"
    }
   ],
   "source": [
    "!pip install datasets"
   ]
  },
  {
   "cell_type": "markdown",
   "id": "ff002151",
   "metadata": {},
   "source": [
    "### Step 9"
   ]
  },
  {
   "cell_type": "markdown",
   "id": "dcb2e51e",
   "metadata": {},
   "source": [
    "Execution Start time: 05:57:30, End time: 05:57:30 (duration: 0 seconds)"
   ]
  },
  {
   "cell_type": "markdown",
   "id": "975a87a9",
   "metadata": {},
   "source": [
    "**Thought**: Now that the necessary packages are installed, let's proceed to modify the `search/sentiment.py` script to ensure it runs on a CPU. This typically involves setting the device to 'cpu' instead of 'cuda' or 'gpu'.\n",
    "\n",
    "Let's open the `search/sentiment.py` file to locate where the device is set. Once identified, we can make the necessary changes. \n",
    "\n"
   ]
  },
  {
   "cell_type": "markdown",
   "id": "6309473f",
   "metadata": {},
   "source": [
    "**Action (open)**:"
   ]
  },
  {
   "cell_type": "code",
   "execution_count": null,
   "id": "458b9c8f",
   "metadata": {},
   "outputs": [
    {
     "data": {
      "text/plain": [
       "[File: /content/robust-prompt-classifier/search/sentiment.py (27 lines total)]\n1:from prompt_search import prompt_search_experiment\n2:\n3:if __name__ == '__main__':\n4:    #== Set Exp arguments (beforehand) ============================================================#\n5:    # datasets = ['imdb', 'rt', 'amazon-s']\n6:    datasets = ['imdb']\n7:\n8:    templates = [\n9:        'classify the following review: <t>',\n10:        'how was the movie? <t>',\n11:        'which word best describes the text? <t>',\n12:        'what is the sentiment? <t>',\n13:        \"what is the reviewer's verdict? <t>\",\n14:        'is the following movie good or bad? <t>'\n15:    ]\n16:\n17:    label_word_sets = [\n18:        ['bad', 'terrible', 'poor', 'horrible', 'negative'],\n19:        ['good', 'great', 'amazing', 'fantastic', 'positive'],\n20:    ]\n21:\n22:    #== Run main experiment =======================================================================#\n23:    prompt_search_experiment(\n24:        datasets=datasets, \n25:        templates=templates, \n26:        label_word_sets=label_word_sets, \n27:    )\n"
      ]
     },
     "execution_count": null,
     "metadata": {},
     "output_type": "execute_result"
    }
   ],
   "source": [
    "open search/sentiment.py"
   ]
  },
  {
   "cell_type": "markdown",
   "id": "140b1b0e",
   "metadata": {},
   "source": [
    "### Step 10"
   ]
  },
  {
   "cell_type": "markdown",
   "id": "933b1dc7",
   "metadata": {},
   "source": [
    "Execution Start time: 05:57:32, End time: 05:57:33 (duration: 0 seconds)"
   ]
  },
  {
   "cell_type": "markdown",
   "id": "7b56785c",
   "metadata": {},
   "source": [
    "**Thought**: The `search/sentiment.py` script calls the `prompt_search_experiment` function from `prompt_search`. To ensure the code runs on a CPU, we need to check the implementation of `prompt_search_experiment` in `prompt_search.py` and modify it to set the device to 'cpu'.\n",
    "\n",
    "Let's open the `prompt_search.py` file to locate where the device is set and make the necessary changes.\n",
    "\n"
   ]
  },
  {
   "cell_type": "markdown",
   "id": "63e9d8aa",
   "metadata": {},
   "source": [
    "**Action (open)**:"
   ]
  },
  {
   "cell_type": "code",
   "execution_count": null,
   "id": "4338b4c1",
   "metadata": {},
   "outputs": [
    {
     "data": {
      "text/plain": [
       "[File: /content/robust-prompt-classifier/search/prompt_search.py (121 lines total)]\n1:import os\n2:import numpy as np\n3:import torch\n4:import torch.nn.functional as F\n5:import itertools\n6:\n7:from collections import defaultdict\n8:\n9:from copy import deepcopy\n10:from tqdm import tqdm\n11:from typing import List\n12:from types import SimpleNamespace\n13:\n14:# src is a folder in the root directory\n15:import os\n16:import sys\n17:\n18:# add the 'src' directory as one where we can import modules,getting error : ModuleNotFoundError: No module named 'src'\n19:src_dir = os.getcwd()\n20:print(f\"src_dir: {src_dir}\")\n21:sys.path.append(src_dir)\n22:\n23:from src.handlers.trainer import Trainer\n24:from src.handlers.evaluater import Evaluater\n25:from src.utils.general import save_pickle, save_json\n26:from src.utils.parser import get_model_parser, get_train_parser\n27:from src.utils.analysis import probs_to_preds\n28:\n29:\n30:def prompt_search_experiment(\n31:    datasets:List[str], \n32:    templates:List[str], \n33:    label_word_sets:List[List[str]], \n34:):\n35:    #== Parser ====================================================================================#\n36:    model_parser = get_model_parser()\n37:    train_parser = get_train_parser()\n38:\n39:    # Parse system input arguments \n40:    model_args, moargs = model_parser.parse_known_args()\n41:    train_args, toargs = train_parser.parse_known_args()\n42:    \n43:    # Making sure no unkown arguments are given\n44:    assert set(moargs).isdisjoint(toargs), f\"{set(moargs) & set(toargs)}\"\n45:    \n46:    # get experiment specific arguments\n47:    lim = train_args.lim \n48:    output_path = model_args.path\n49:\n50:    #== Set Up Zero Shot Model ====================================================================#\n51:    trainer = Trainer(f'models/{model_args.transformer}', model_args)\n52:    train_args.lim = 0\n53:    trainer.train(train_args)\n54:\n55:    #== Set Up Evaluation =========================================================================#\n56:    evaluater = deepcopy(trainer)\n57:    evaluater.__class__ = Evaluater\n58:    evaluater.device = 'cuda'\n59:    evaluater.model.eval()\n60:\n61:    # update model rods used to get logits\n62:    label_words = [word for label_class in label_word_sets for word in label_class]\n63:    evaluater.model.update_label_words(label_words)\n64:    word_to_idx = {word:k for k, word in enumerate(label_words)}\n65:\n66:    # save prompts used in the experiment\n67:    if not os.path.isdir(output_path):\n68:        os.makedirs(output_path)            \n69:\n70:    # run analysis in the entire domain\n71:    with torch.no_grad():\n72:        for dataset in datasets:\n73:            print(dataset)\n74:            for temp_num, template in enumerate(templates):\n75:                print(temp_num)\n76:                # set the prompt template\n77:                evaluater.data_handler.template = template\n78:                evaluater.data_handler.prep_data.cache_clear()\n79:\n80:                # get the evaluation batches\n81:                eval_data = evaluater.data_handler.prep_split(dataset, 'test', lim=lim)\n82:                eval_batches = evaluater.batcher(\n83:                    data = eval_data, \n84:                    bsz = 1, \n85:                    shuffle = False\n86:                )  \n87:\n88:                # container for outputs\n89:                logits_dict = defaultdict(dict)\n90:                raw_probs_dict = defaultdict(dict)\n91:                \n92:                # go through every example\n93:                for batch in tqdm(eval_batches):\n94:                    ex_id = batch.ex_id[0]\n95:                    output = evaluater.model_loss(batch)\n96:                    \n97:                    logits = output.logits.squeeze(0)\n98:                    vocab_probs = output.model_output.raw_class_probs.squeeze(0)\n99:\n100:                    #save details\n(21 more lines below)\n"
      ]
     },
     "execution_count": null,
     "metadata": {},
     "output_type": "execute_result"
    }
   ],
   "source": [
    "open search/prompt_search.py"
   ]
  },
  {
   "cell_type": "markdown",
   "id": "3047b2d5",
   "metadata": {},
   "source": [
    "### Step 11"
   ]
  },
  {
   "cell_type": "markdown",
   "id": "85d8f602",
   "metadata": {},
   "source": [
    "Execution Start time: 05:57:34, End time: 05:57:35 (duration: 0 seconds)"
   ]
  },
  {
   "cell_type": "markdown",
   "id": "8f390c6f",
   "metadata": {},
   "source": [
    "**Thought**: In the `prompt_search_experiment` function, the device is set to 'cuda' on line 58. To ensure the code runs on a CPU, we need to change this to 'cpu'.\n",
    "\n",
    "Let's edit the file to make this change.\n",
    "\n"
   ]
  },
  {
   "cell_type": "markdown",
   "id": "2b0d6e81",
   "metadata": {},
   "source": [
    "**Action (edit)**:"
   ]
  },
  {
   "cell_type": "code",
   "execution_count": null,
   "id": "fc231097",
   "metadata": {},
   "outputs": [
    {
     "data": {
      "text/plain": [
       "[File: /content/robust-prompt-classifier/search/prompt_search.py (121 lines total)]\n(7 more lines above)\n8:\n9:from copy import deepcopy\n10:from tqdm import tqdm\n11:from typing import List\n12:from types import SimpleNamespace\n13:\n14:# src is a folder in the root directory\n15:import os\n16:import sys\n17:\n18:# add the 'src' directory as one where we can import modules,getting error : ModuleNotFoundError: No module named 'src'\n19:src_dir = os.getcwd()\n20:print(f\"src_dir: {src_dir}\")\n21:sys.path.append(src_dir)\n22:\n23:from src.handlers.trainer import Trainer\n24:from src.handlers.evaluater import Evaluater\n25:from src.utils.general import save_pickle, save_json\n26:from src.utils.parser import get_model_parser, get_train_parser\n27:from src.utils.analysis import probs_to_preds\n28:\n29:\n30:def prompt_search_experiment(\n31:    datasets:List[str], \n32:    templates:List[str], \n33:    label_word_sets:List[List[str]], \n34:):\n35:    #== Parser ====================================================================================#\n36:    model_parser = get_model_parser()\n37:    train_parser = get_train_parser()\n38:\n39:    # Parse system input arguments \n40:    model_args, moargs = model_parser.parse_known_args()\n41:    train_args, toargs = train_parser.parse_known_args()\n42:    \n43:    # Making sure no unkown arguments are given\n44:    assert set(moargs).isdisjoint(toargs), f\"{set(moargs) & set(toargs)}\"\n45:    \n46:    # get experiment specific arguments\n47:    lim = train_args.lim \n48:    output_path = model_args.path\n49:\n50:    #== Set Up Zero Shot Model ====================================================================#\n51:    trainer = Trainer(f'models/{model_args.transformer}', model_args)\n52:    train_args.lim = 0\n53:    trainer.train(train_args)\n54:\n55:    #== Set Up Evaluation =========================================================================#\n56:    evaluater = deepcopy(trainer)\n57:    evaluater.__class__ = Evaluater\n58:    evaluater.device = 'cpu'\n59:    evaluater.model.eval()\n60:\n61:    # update model rods used to get logits\n62:    label_words = [word for label_class in label_word_sets for word in label_class]\n63:    evaluater.model.update_label_words(label_words)\n64:    word_to_idx = {word:k for k, word in enumerate(label_words)}\n65:\n66:    # save prompts used in the experiment\n67:    if not os.path.isdir(output_path):\n68:        os.makedirs(output_path)            \n69:\n70:    # run analysis in the entire domain\n71:    with torch.no_grad():\n72:        for dataset in datasets:\n73:            print(dataset)\n74:            for temp_num, template in enumerate(templates):\n75:                print(temp_num)\n76:                # set the prompt template\n77:                evaluater.data_handler.template = template\n78:                evaluater.data_handler.prep_data.cache_clear()\n79:\n80:                # get the evaluation batches\n81:                eval_data = evaluater.data_handler.prep_split(dataset, 'test', lim=lim)\n82:                eval_batches = evaluater.batcher(\n83:                    data = eval_data, \n84:                    bsz = 1, \n85:                    shuffle = False\n86:                )  \n87:\n88:                # container for outputs\n89:                logits_dict = defaultdict(dict)\n90:                raw_probs_dict = defaultdict(dict)\n91:                \n92:                # go through every example\n93:                for batch in tqdm(eval_batches):\n94:                    ex_id = batch.ex_id[0]\n95:                    output = evaluater.model_loss(batch)\n96:                    \n97:                    logits = output.logits.squeeze(0)\n98:                    vocab_probs = output.model_output.raw_class_probs.squeeze(0)\n99:\n100:                    #save details\n101:                    logits_dict[ex_id] = logits.cpu().numpy()\n102:                    raw_probs_dict[ex_id] = vocab_probs.cpu().numpy()\n103:\n104:                # create results path\n105:                dataset_prompt_path = os.path.join(output_path, dataset, f\"prompt_{temp_num}\")\n106:                os.makedirs(dataset_prompt_path)\n107:\n(14 more lines below)\nFile updated. Please review the changes and make sure they are correct (correct indentation, no duplicate lines, etc). Edit the file again if necessary.\n"
      ]
     },
     "execution_count": null,
     "metadata": {},
     "output_type": "execute_result"
    }
   ],
   "source": [
    "edit 58:58\n",
    "    evaluater.device = 'cpu'\n",
    "end_of_edit"
   ]
  },
  {
   "cell_type": "markdown",
   "id": "0a354cee",
   "metadata": {},
   "source": [
    "### Step 12"
   ]
  },
  {
   "cell_type": "markdown",
   "id": "12e9f053",
   "metadata": {},
   "source": [
    "Execution Start time: 05:57:37, End time: 05:57:54 (duration: 17 seconds)"
   ]
  },
  {
   "cell_type": "markdown",
   "id": "14e5da74",
   "metadata": {},
   "source": [
    "**Thought**: The device has been successfully set to 'cpu' in the `prompt_search.py` file. Now, let's run the `search/sentiment.py` script with the specified parameters to generate the model outputs for sentiment classification on the IMDb dataset.\n",
    "\n"
   ]
  },
  {
   "cell_type": "markdown",
   "id": "5180aad6",
   "metadata": {},
   "source": [
    "**Action (None)**:"
   ]
  },
  {
   "cell_type": "code",
   "execution_count": null,
   "id": "78b5eb1d",
   "metadata": {},
   "outputs": [
    {
     "data": {
      "text/plain": [
       "src_dir: /content/robust-prompt-classifier\n2024-08-22 05:57:43 INFO     generated new fontManager\n2024-08-22 05:57:44 INFO     random seed set to 807\n/usr/local/lib/python3.10/site-packages/huggingface_hub/file_download.py:1132: FutureWarning: `resume_download` is deprecated and will be removed in version 1.0.0. Downloads always resume when possible. If you want to force a new download, use `force_download=True`.\n  warnings.warn(\n\ntokenizer_config.json:   0%|                        | 0.00/2.54k [00:00<?, ?B/s]\n\n\nspiece.model:   0%|                                  | 0.00/792k [00:00<?, ?B/s]\n\n\ntokenizer.json:   0%|                               | 0.00/2.42M [00:00<?, ?B/s]\n\n\nspecial_tokens_map.json:   0%|                      | 0.00/2.20k [00:00<?, ?B/s]\n\n\nconfig.json:   0%|                                  | 0.00/1.40k [00:00<?, ?B/s]\n\n\nmodel.safetensors:   0%|                             | 0.00/990M [00:00<?, ?B/s]\n\n\n\n\n\n\n\n\n\n\n\n\n\n\n\n\n\n\n\n\n\n\n\n\n\n\ngeneration_config.json:   0%|                         | 0.00/147 [00:00<?, ?B/s]\n\n2024-08-22 05:57:51 INFO     Number of parameters in model 247.6M\nTraceback (most recent call last):\n  File \"/content/robust-prompt-classifier/search/sentiment.py\", line 23, in <module>\n    prompt_search_experiment(\n  File \"/content/robust-prompt-classifier/search/prompt_search.py\", line 53, in prompt_search_experiment\n    trainer.train(train_args)\n  File \"/content/robust-prompt-classifier/src/handlers/trainer.py\", line 60, in train\n    optimizer = self.set_up_train(args)\n  File \"/content/robust-prompt-classifier/src/handlers/trainer.py\", line 131, in set_up_train\n    self.to(args.device)\n  File \"/content/robust-prompt-classifier/src/handlers/trainer.py\", line 286, in to\n    self.model.to(device)\n  File \"/content/robust-prompt-classifier/src/models/seq2seq_prompting.py\", line 81, in to\n    super().to(device)\n  File \"/usr/local/lib/python3.10/site-packages/torch/nn/modules/module.py\", line 1152, in to\n    return self._apply(convert)\n  File \"/usr/local/lib/python3.10/site-packages/torch/nn/modules/module.py\", line 802, in _apply\n    module._apply(fn)\n  File \"/usr/local/lib/python3.10/site-packages/torch/nn/modules/module.py\", line 802, in _apply\n    module._apply(fn)\n  File \"/usr/local/lib/python3.10/site-packages/torch/nn/modules/module.py\", line 825, in _apply\n    param_applied = fn(param)\n  File \"/usr/local/lib/python3.10/site-packages/torch/nn/modules/module.py\", line 1150, in convert\n    return t.to(device, dtype if t.is_floating_point() or t.is_complex() else None, non_blocking)\n  File \"/usr/local/lib/python3.10/site-packages/torch/cuda/__init__.py\", line 293, in _lazy_init\n    raise AssertionError(\"Torch not compiled with CUDA enabled\")\nAssertionError: Torch not compiled with CUDA enabled\n"
      ]
     },
     "execution_count": null,
     "metadata": {},
     "output_type": "execute_result"
    }
   ],
   "source": [
    "!python search/sentiment.py --transformer flan-t5-base --path outputs/flan-t5-large/ --lim 10 --epochs 1"
   ]
  },
  {
   "cell_type": "markdown",
   "id": "ec2656d0",
   "metadata": {},
   "source": [
    "### Step 13"
   ]
  },
  {
   "cell_type": "markdown",
   "id": "b7a819ff",
   "metadata": {},
   "source": [
    "Execution Start time: 05:57:56, End time: 05:57:56 (duration: 0 seconds)"
   ]
  },
  {
   "cell_type": "markdown",
   "id": "db7783e6",
   "metadata": {},
   "source": [
    "**Thought**: The error indicates that the code is still attempting to use CUDA, even though we intended to switch to CPU. This suggests that there might be another location in the code where the device is being set to 'cuda'. \n",
    "\n",
    "Let's search for any occurrences of 'cuda' in the `src/handlers/trainer.py` file to identify and modify them to 'cpu'.\n",
    "\n"
   ]
  },
  {
   "cell_type": "markdown",
   "id": "9f4f1b26",
   "metadata": {},
   "source": [
    "**Action (search_file)**:"
   ]
  },
  {
   "cell_type": "code",
   "execution_count": null,
   "id": "0d143684",
   "metadata": {},
   "outputs": [
    {
     "data": {
      "text/plain": [
       "No matches found for \"cuda\" in /content/robust-prompt-classifier/src/handlers/trainer.py\n"
      ]
     },
     "execution_count": null,
     "metadata": {},
     "output_type": "execute_result"
    }
   ],
   "source": [
    "search_file 'cuda' src/handlers/trainer.py"
   ]
  },
  {
   "cell_type": "markdown",
   "id": "6e83c839",
   "metadata": {},
   "source": [
    "### Step 14"
   ]
  },
  {
   "cell_type": "markdown",
   "id": "41fbac03",
   "metadata": {},
   "source": [
    "Execution Start time: 05:57:57, End time: 05:57:57 (duration: 0 seconds)"
   ]
  },
  {
   "cell_type": "markdown",
   "id": "a0d9d6c4",
   "metadata": {},
   "source": [
    "**Thought**: Since there were no occurrences of 'cuda' in `src/handlers/trainer.py`, let's search for 'cuda' in the `src/handlers/evaluater.py` file to see if the device is being set there.\n",
    "\n"
   ]
  },
  {
   "cell_type": "markdown",
   "id": "fb1bb289",
   "metadata": {},
   "source": [
    "**Action (search_file)**:"
   ]
  },
  {
   "cell_type": "code",
   "execution_count": null,
   "id": "7f36f878",
   "metadata": {},
   "outputs": [
    {
     "data": {
      "text/plain": [
       "Found 1 matches for \"cuda\" in /content/robust-prompt-classifier/src/handlers/evaluater.py:\nLine 17:    def __init__(self, path:str, device:str='cuda'):\nEnd of matches for \"cuda\" in /content/robust-prompt-classifier/src/handlers/evaluater.py\n"
      ]
     },
     "execution_count": null,
     "metadata": {},
     "output_type": "execute_result"
    }
   ],
   "source": [
    "search_file 'cuda' src/handlers/evaluater.py"
   ]
  },
  {
   "cell_type": "markdown",
   "id": "64bc5669",
   "metadata": {},
   "source": [
    "### Step 15"
   ]
  },
  {
   "cell_type": "markdown",
   "id": "8d24c7ea",
   "metadata": {},
   "source": [
    "Execution Start time: 05:57:59, End time: 05:57:59 (duration: 0 seconds)"
   ]
  },
  {
   "cell_type": "markdown",
   "id": "dd136724",
   "metadata": {},
   "source": [
    "**Thought**: The `src/handlers/evaluater.py` file has a default parameter `device` set to 'cuda' in the `__init__` method on line 17. We need to change this default to 'cpu' to ensure the code runs on a CPU.\n",
    "\n",
    "Let's edit the file to make this change.\n",
    "\n"
   ]
  },
  {
   "cell_type": "markdown",
   "id": "b2a43485",
   "metadata": {},
   "source": [
    "**Action (edit)**:"
   ]
  },
  {
   "cell_type": "code",
   "execution_count": null,
   "id": "b9452493",
   "metadata": {},
   "outputs": [
    {
     "data": {
      "text/plain": [
       "Usage: edit <start_line>:<end_line>\n"
      ]
     },
     "execution_count": null,
     "metadata": {},
     "output_type": "execute_result"
    }
   ],
   "source": [
    "edit src/handlers/evaluater.py 17:17\n",
    "    def __init__(self, path:str, device:str='cpu'):\n",
    "end_of_edit"
   ]
  },
  {
   "cell_type": "markdown",
   "id": "34fd0655",
   "metadata": {},
   "source": [
    "### Step 16"
   ]
  },
  {
   "cell_type": "markdown",
   "id": "13be2a3b",
   "metadata": {},
   "source": [
    "Execution Start time: 05:58:00, End time: 05:58:01 (duration: 0 seconds)"
   ]
  },
  {
   "cell_type": "markdown",
   "id": "1cef4a2c",
   "metadata": {},
   "source": [
    "**Thought**: It seems I made a mistake in the command format. Let's correct it by specifying the line number correctly.\n",
    "\n"
   ]
  },
  {
   "cell_type": "markdown",
   "id": "54885bb1",
   "metadata": {},
   "source": [
    "**Action (edit)**:"
   ]
  },
  {
   "cell_type": "code",
   "execution_count": null,
   "id": "0844f05a",
   "metadata": {},
   "outputs": [
    {
     "data": {
      "text/plain": [
       "Usage: edit <start_line>:<end_line>\n"
      ]
     },
     "execution_count": null,
     "metadata": {},
     "output_type": "execute_result"
    }
   ],
   "source": [
    "edit src/handlers/evaluater.py 17:17\n",
    "def __init__(self, path:str, device:str='cpu'):\n",
    "end_of_edit"
   ]
  },
  {
   "cell_type": "markdown",
   "id": "79d45bed",
   "metadata": {},
   "source": [
    "### Step 17"
   ]
  },
  {
   "cell_type": "markdown",
   "id": "ddac5a5f",
   "metadata": {},
   "source": [
    "Execution Start time: 05:58:02, End time: 05:58:02 (duration: 0 seconds)"
   ]
  },
  {
   "cell_type": "markdown",
   "id": "7502ec5c",
   "metadata": {},
   "source": [
    "**Thought**: I need to open the `src/handlers/evaluater.py` file first to make the necessary changes. Let's open the file and then proceed with the edit.\n",
    "\n"
   ]
  },
  {
   "cell_type": "markdown",
   "id": "d09d80bf",
   "metadata": {},
   "source": [
    "**Action (open)**:"
   ]
  },
  {
   "cell_type": "code",
   "execution_count": null,
   "id": "a0860cb0",
   "metadata": {},
   "outputs": [
    {
     "data": {
      "text/plain": [
       "[File: /content/robust-prompt-classifier/src/handlers/evaluater.py (130 lines total)]\n1:import torch\n2:import pickle\n3:import numpy as np\n4:import os\n5:import torch.nn.functional as F\n6:\n7:from tqdm import tqdm \n8:from types import SimpleNamespace\n9:\n10:from .trainer import Trainer\n11:from ..data.data_handler import DataHandler\n12:\n13:class Evaluater(Trainer):\n14:    \"\"\" Evaluator class- inherits Trainer so has all experiment methods\n15:        class takes care of evaluation and automatic caching of results\"\"\"\n16:\n17:    def __init__(self, path:str, device:str='cuda'):\n18:        self.exp_path = path\n19:        self.device = device\n20:\n21:    def setup_helpers(self):\n22:        # load arguments \n23:        args = self.load_args('model_args.json')\n24:\n25:        # set up attributes \n26:        super().setup_helpers(args)\n27:\n28:        # load model weights\n29:        self.load_model()\n30:\n31:    #== loading and saving probabilities ==========================================================#\n32:    def load_preds(self, dataset:str, mode:str)->dict:\n33:        probs = self.load_probs(dataset, mode)\n34:        preds = {}\n35:        for ex_id, probs in probs.items():\n36:            preds[ex_id] = int(np.argmax(probs, axis=-1))  \n37:        return preds\n38:\n39:    def load_probs(self, dataset:str, mode:str)->dict:\n40:        \"\"\" loads cached probabilities, if not cached then generate \"\"\"\n41:        if not self.probs_exist(dataset, mode):\n42:            if not hasattr(self, 'model'):\n43:                self.setup_helpers()\n44:                print('setting up helpers')\n45:            probs = self.generate_probs(dataset, mode)\n46:            self.cache_probs(probs, dataset, mode)\n47:        probs = self.load_cached_probs(dataset, mode)\n48:        return probs\n49:\n50:    def cache_probs(self, probs, dataset:str, mode:str):\n51:        prob_cache_path = self.get_prob_cache_path(dataset, mode)\n52:        with open(prob_cache_path, 'wb') as handle:\n53:            pickle.dump(probs, handle)\n54:    \n55:    def load_cached_probs(self, dataset:str, mode:str)->dict:\n56:        prob_cache_path = self.get_prob_cache_path(dataset, mode)\n57:        with open(prob_cache_path, 'rb') as handle:\n58:            probs = pickle.load(handle)\n59:        return probs\n60:    \n61:    def probs_exist(self, dataset:str, mode:str)->bool:\n62:        prob_cache_path = self.get_prob_cache_path(dataset, mode)\n63:        return os.path.isfile(prob_cache_path)\n64:\n65:    def get_prob_cache_path(self, dataset:str, mode:str)->str:\n66:        eval_name = f'{dataset}_{mode}'\n67:        prob_cache_path = os.path.join(self.exp_path, 'eval', f'{eval_name}.pk')\n68:        return prob_cache_path\n69:     \n70:    #== Model probability calculation method ======================================================#\n71:    @torch.no_grad()\n72:    def generate_probs(self, dataset:str, mode:str='test', lim=None):\n73:        \"\"\" get model probabilities for each example in dataset\"\"\"\n74:        self.model.eval()\n75:        self.to(self.device)\n76:\n77:        eval_data = self.data_handler.prep_split(dataset, mode, lim)\n78:        eval_batches = self.batcher(\n79:            data = eval_data, \n80:            bsz = 1, \n81:            shuffle = False\n82:        )        \n83:        probs = {}\n84:        \n85:        for batch in tqdm(eval_batches):\n86:            ex_id = batch.ex_id[0]\n87:            output = self.model_loss(batch)\n88:\n89:            logits = output.logits.squeeze(0)\n90:            if logits.shape and logits.shape[-1] > 1:  # Get probabilities of predictions\n91:                prob = F.softmax(logits, dim=-1)\n92:            probs[ex_id] = prob.cpu().numpy()\n93:        return probs\n94:\n95:    #== loading specific examples =================================================================#\n96:    def load_ex(self, dataset:str, mode:str, k:int=0)->SimpleNamespace:\n97:        data = self.data_handler.prep_split(dataset, mode, lim=10) #TEMP\n98:        ex = data[k]\n99:        return ex\n100:    \n(30 more lines below)\n"
      ]
     },
     "execution_count": null,
     "metadata": {},
     "output_type": "execute_result"
    }
   ],
   "source": [
    "open src/handlers/evaluater.py"
   ]
  },
  {
   "cell_type": "markdown",
   "id": "e373df1b",
   "metadata": {},
   "source": [
    "### Step 18"
   ]
  },
  {
   "cell_type": "markdown",
   "id": "ed37de0d",
   "metadata": {},
   "source": [
    "Execution Start time: 05:58:04, End time: 05:58:05 (duration: 0 seconds)"
   ]
  },
  {
   "cell_type": "markdown",
   "id": "b9faf3cc",
   "metadata": {},
   "source": [
    "**Thought**: Now that the `src/handlers/evaluater.py` file is open, let's edit line 17 to change the default device from 'cuda' to 'cpu'.\n",
    "\n"
   ]
  },
  {
   "cell_type": "markdown",
   "id": "205ccb94",
   "metadata": {},
   "source": [
    "**Action (edit)**:"
   ]
  },
  {
   "cell_type": "code",
   "execution_count": null,
   "id": "4db39aff",
   "metadata": {},
   "outputs": [
    {
     "data": {
      "text/plain": [
       "[File: /content/robust-prompt-classifier/src/handlers/evaluater.py (130 lines total)]\n1:import torch\n2:import pickle\n3:import numpy as np\n4:import os\n5:import torch.nn.functional as F\n6:\n7:from tqdm import tqdm \n8:from types import SimpleNamespace\n9:\n10:from .trainer import Trainer\n11:from ..data.data_handler import DataHandler\n12:\n13:class Evaluater(Trainer):\n14:    \"\"\" Evaluator class- inherits Trainer so has all experiment methods\n15:        class takes care of evaluation and automatic caching of results\"\"\"\n16:\n17:    def __init__(self, path:str, device:str='cpu'):\n18:        self.exp_path = path\n19:        self.device = device\n20:\n21:    def setup_helpers(self):\n22:        # load arguments \n23:        args = self.load_args('model_args.json')\n24:\n25:        # set up attributes \n26:        super().setup_helpers(args)\n27:\n28:        # load model weights\n29:        self.load_model()\n30:\n31:    #== loading and saving probabilities ==========================================================#\n32:    def load_preds(self, dataset:str, mode:str)->dict:\n33:        probs = self.load_probs(dataset, mode)\n34:        preds = {}\n35:        for ex_id, probs in probs.items():\n36:            preds[ex_id] = int(np.argmax(probs, axis=-1))  \n37:        return preds\n38:\n39:    def load_probs(self, dataset:str, mode:str)->dict:\n40:        \"\"\" loads cached probabilities, if not cached then generate \"\"\"\n41:        if not self.probs_exist(dataset, mode):\n42:            if not hasattr(self, 'model'):\n43:                self.setup_helpers()\n44:                print('setting up helpers')\n45:            probs = self.generate_probs(dataset, mode)\n46:            self.cache_probs(probs, dataset, mode)\n47:        probs = self.load_cached_probs(dataset, mode)\n48:        return probs\n49:\n50:    def cache_probs(self, probs, dataset:str, mode:str):\n51:        prob_cache_path = self.get_prob_cache_path(dataset, mode)\n52:        with open(prob_cache_path, 'wb') as handle:\n53:            pickle.dump(probs, handle)\n54:    \n55:    def load_cached_probs(self, dataset:str, mode:str)->dict:\n56:        prob_cache_path = self.get_prob_cache_path(dataset, mode)\n57:        with open(prob_cache_path, 'rb') as handle:\n58:            probs = pickle.load(handle)\n59:        return probs\n60:    \n61:    def probs_exist(self, dataset:str, mode:str)->bool:\n62:        prob_cache_path = self.get_prob_cache_path(dataset, mode)\n63:        return os.path.isfile(prob_cache_path)\n64:\n65:    def get_prob_cache_path(self, dataset:str, mode:str)->str:\n66:        eval_name = f'{dataset}_{mode}'\n67:        prob_cache_path = os.path.join(self.exp_path, 'eval', f'{eval_name}.pk')\n68:        return prob_cache_path\n69:     \n70:    #== Model probability calculation method ======================================================#\n71:    @torch.no_grad()\n72:    def generate_probs(self, dataset:str, mode:str='test', lim=None):\n73:        \"\"\" get model probabilities for each example in dataset\"\"\"\n74:        self.model.eval()\n75:        self.to(self.device)\n76:\n77:        eval_data = self.data_handler.prep_split(dataset, mode, lim)\n78:        eval_batches = self.batcher(\n79:            data = eval_data, \n80:            bsz = 1, \n81:            shuffle = False\n82:        )        \n83:        probs = {}\n84:        \n85:        for batch in tqdm(eval_batches):\n86:            ex_id = batch.ex_id[0]\n87:            output = self.model_loss(batch)\n88:\n89:            logits = output.logits.squeeze(0)\n90:            if logits.shape and logits.shape[-1] > 1:  # Get probabilities of predictions\n91:                prob = F.softmax(logits, dim=-1)\n92:            probs[ex_id] = prob.cpu().numpy()\n93:        return probs\n94:\n95:    #== loading specific examples =================================================================#\n96:    def load_ex(self, dataset:str, mode:str, k:int=0)->SimpleNamespace:\n97:        data = self.data_handler.prep_split(dataset, mode, lim=10) #TEMP\n98:        ex = data[k]\n99:        return ex\n100:    \n(30 more lines below)\nFile updated. Please review the changes and make sure they are correct (correct indentation, no duplicate lines, etc). Edit the file again if necessary.\n"
      ]
     },
     "execution_count": null,
     "metadata": {},
     "output_type": "execute_result"
    }
   ],
   "source": [
    "edit 17:17\n",
    "    def __init__(self, path:str, device:str='cpu'):\n",
    "end_of_edit"
   ]
  },
  {
   "cell_type": "markdown",
   "id": "606530a1",
   "metadata": {},
   "source": [
    "### Step 19"
   ]
  },
  {
   "cell_type": "markdown",
   "id": "2a630eab",
   "metadata": {},
   "source": [
    "Execution Start time: 05:58:07, End time: 05:58:15 (duration: 8 seconds)"
   ]
  },
  {
   "cell_type": "markdown",
   "id": "6194ee89",
   "metadata": {},
   "source": [
    "**Thought**: The default device in the `Evaluater` class has been successfully changed to 'cpu'. Now, let's try running the `search/sentiment.py` script again to generate the model outputs for sentiment classification on the IMDb dataset.\n",
    "\n"
   ]
  },
  {
   "cell_type": "markdown",
   "id": "acc41132",
   "metadata": {},
   "source": [
    "**Action (None)**:"
   ]
  },
  {
   "cell_type": "code",
   "execution_count": null,
   "id": "3aa5e359",
   "metadata": {},
   "outputs": [
    {
     "data": {
      "text/plain": [
       "src_dir: /content/robust-prompt-classifier\n2024-08-22 05:58:12 INFO     random seed set to 445\n/usr/local/lib/python3.10/site-packages/huggingface_hub/file_download.py:1132: FutureWarning: `resume_download` is deprecated and will be removed in version 1.0.0. Downloads always resume when possible. If you want to force a new download, use `force_download=True`.\n  warnings.warn(\n2024-08-22 05:58:13 INFO     Number of parameters in model 247.6M\nTraceback (most recent call last):\n  File \"/content/robust-prompt-classifier/search/sentiment.py\", line 23, in <module>\n    prompt_search_experiment(\n  File \"/content/robust-prompt-classifier/search/prompt_search.py\", line 53, in prompt_search_experiment\n    trainer.train(train_args)\n  File \"/content/robust-prompt-classifier/src/handlers/trainer.py\", line 60, in train\n    optimizer = self.set_up_train(args)\n  File \"/content/robust-prompt-classifier/src/handlers/trainer.py\", line 131, in set_up_train\n    self.to(args.device)\n  File \"/content/robust-prompt-classifier/src/handlers/trainer.py\", line 286, in to\n    self.model.to(device)\n  File \"/content/robust-prompt-classifier/src/models/seq2seq_prompting.py\", line 81, in to\n    super().to(device)\n  File \"/usr/local/lib/python3.10/site-packages/torch/nn/modules/module.py\", line 1152, in to\n    return self._apply(convert)\n  File \"/usr/local/lib/python3.10/site-packages/torch/nn/modules/module.py\", line 802, in _apply\n    module._apply(fn)\n  File \"/usr/local/lib/python3.10/site-packages/torch/nn/modules/module.py\", line 802, in _apply\n    module._apply(fn)\n  File \"/usr/local/lib/python3.10/site-packages/torch/nn/modules/module.py\", line 825, in _apply\n    param_applied = fn(param)\n  File \"/usr/local/lib/python3.10/site-packages/torch/nn/modules/module.py\", line 1150, in convert\n    return t.to(device, dtype if t.is_floating_point() or t.is_complex() else None, non_blocking)\n  File \"/usr/local/lib/python3.10/site-packages/torch/cuda/__init__.py\", line 293, in _lazy_init\n    raise AssertionError(\"Torch not compiled with CUDA enabled\")\nAssertionError: Torch not compiled with CUDA enabled\n"
      ]
     },
     "execution_count": null,
     "metadata": {},
     "output_type": "execute_result"
    }
   ],
   "source": [
    "!python search/sentiment.py --transformer flan-t5-base --path outputs/flan-t5-large/ --lim 10 --epochs 1"
   ]
  },
  {
   "cell_type": "markdown",
   "id": "109ef691",
   "metadata": {},
   "source": [
    "### Step 20"
   ]
  },
  {
   "cell_type": "markdown",
   "id": "fd3f7377",
   "metadata": {},
   "source": [
    "Execution Start time: 05:58:18, End time: 05:58:18 (duration: 0 seconds)"
   ]
  },
  {
   "cell_type": "markdown",
   "id": "ed7a7fc3",
   "metadata": {},
   "source": [
    "**Thought**: The error persists, indicating that the device is still being set to 'cuda' somewhere in the code. The traceback suggests that the issue might be in the `src/handlers/trainer.py` file, specifically in the `set_up_train` method.\n",
    "\n",
    "Let's open the `src/handlers/trainer.py` file and inspect the `set_up_train` method to ensure the device is set to 'cpu'.\n",
    "\n"
   ]
  },
  {
   "cell_type": "markdown",
   "id": "9cd790e7",
   "metadata": {},
   "source": [
    "**Action (open)**:"
   ]
  },
  {
   "cell_type": "code",
   "execution_count": null,
   "id": "c41dad59",
   "metadata": {},
   "outputs": [
    {
     "data": {
      "text/plain": [
       "[File: /content/robust-prompt-classifier/src/handlers/trainer.py (323 lines total)]\n1:import os\n2:import logging\n3:import wandb\n4:import torch\n5:import re\n6:import random\n7:\n8:from collections import namedtuple\n9:from types import SimpleNamespace\n10:from typing import Optional\n11:from tqdm import tqdm\n12:from copy import deepcopy\n13:\n14:from .batcher import Batcher\n15:from ..data.data_handler import DataHandler\n16:from ..models.pre_trained_trans import MLM_TRANSFORMERS, DECODER_TRANSFORMERS, SEQ2SEQ_TRANSFORMERS\n17:from ..models.mlm_prompting import MlmPrompting\n18:from ..models.seq2seq_prompting import Seq2seqPrompting\n19:from ..models.decoder_prompting import DecoderPrompting\n20:from ..utils.general import save_json, load_json\n21:from ..utils.torch import set_rand_seed\n22:from ..loss.cross_entropy import CrossEntropyLoss\n23:\n24:# Create Logger\n25:logging.basicConfig(\n26:    format='%(asctime)s %(levelname)-8s %(message)s',\n27:    datefmt='%Y-%m-%d %H:%M:%S',\n28:    level=logging.INFO)\n29:logger = logging.getLogger(__name__)\n30:\n31:class Trainer(object):\n32:    \"\"\" Base class for finetuning transformer to datasets \"\"\"\n33:    def __init__(self, path: str, args: namedtuple):\n34:        self.setup_exp(path, args)\n35:        self.setup_helpers(args)\n36:        self.log_num_params()\n37:\n38:    def setup_helpers(self, args: namedtuple):\n39:        # quick checks to ensure arguments are valid\n40:        assert len(args.label_words) == args.num_classes, \"need a label word for each class\"\n41:\n42:        # set up attributes \n43:        self.model_args = args\n44:        self.data_handler = DataHandler(trans_name=args.transformer, template=args.template)\n45:        self.batcher = Batcher(max_len=args.maxlen)\n46:\n47:        # set up model\n48:        if args.transformer in MLM_TRANSFORMERS:\n49:            self.model = MlmPrompting(trans_name=args.transformer, label_words=args.label_words)\n50:        elif args.transformer in DECODER_TRANSFORMERS:\n51:            self.model = DecoderPrompting(trans_name=args.transformer, label_words=args.label_words)\n52:        elif args.transformer in SEQ2SEQ_TRANSFORMERS:\n53:            self.model = Seq2seqPrompting(trans_name=args.transformer, label_words=args.label_words)\n54:        \n55:        # select the loss function\n56:        self.model_loss = CrossEntropyLoss(self.model)\n57:\n58:    #== Main Training Methods =====================================================================#\n59:    def train(self, args: namedtuple):\n60:        optimizer = self.set_up_train(args)\n61:\n62:        # if zero shot break\n63:        if args.lim == 0 and args.lim is not None:\n64:            self.save_model()\n65:            return \n66:        \n67:        # Get train and val split of data\n68:        train, dev, test = self.data_handler.prep_data(\n69:            data_name=args.dataset, \n70:            lim=args.lim\n71:        )\n72:\n73:        for epoch in range(1, args.epochs+1):\n74:            #== Training =============================================\n75:            train_batches = self.batcher(\n76:                data = train, \n77:                bsz = args.bsz, \n78:                shuffle = True,\n79:                data_ordering = getattr(args, 'data_ordering', False)\n80:            )\n81:\n82:            for step, batch in enumerate(train_batches, start = 1):\n83:                output = self.model_loss(batch)\n84:                optimizer.zero_grad()\n85:                output.loss.backward()\n86:                if args.grad_clip:\n87:                    torch.nn.utils.clip_grad_norm_(self.model.parameters(), args.grad_clip)\n88:                optimizer.step()\n89:        \n90:                # Print train performance every log_every samples\n91:                if step % (args.log_every//args.bsz) == 0:\n92:                    metrics = self.get_metrics()\n93:                    \n94:                    self.log_metrics(\n95:                        metrics = metrics,\n96:                        mode = 'train', \n97:                        epoch = epoch,\n98:                        ex_step = step*args.bsz\n99:                    )\n100:\n(223 more lines below)\n"
      ]
     },
     "execution_count": null,
     "metadata": {},
     "output_type": "execute_result"
    }
   ],
   "source": [
    "open src/handlers/trainer.py"
   ]
  },
  {
   "cell_type": "markdown",
   "id": "3c6c1d40",
   "metadata": {},
   "source": [
    "### Step 21"
   ]
  },
  {
   "cell_type": "markdown",
   "id": "01314597",
   "metadata": {},
   "source": [
    "Execution Start time: 05:58:19, End time: 05:58:19 (duration: 0 seconds)"
   ]
  },
  {
   "cell_type": "markdown",
   "id": "0b9608b7",
   "metadata": {},
   "source": [
    "**Thought**: The `set_up_train` method is likely responsible for setting the device. Let's search for any occurrences of 'cuda' within this file to identify where the device might be set.\n",
    "\n"
   ]
  },
  {
   "cell_type": "markdown",
   "id": "d43d0938",
   "metadata": {},
   "source": [
    "**Action (search_file)**:"
   ]
  },
  {
   "cell_type": "code",
   "execution_count": null,
   "id": "4bd0a2b1",
   "metadata": {},
   "outputs": [
    {
     "data": {
      "text/plain": [
       "No matches found for \"cuda\" in /content/robust-prompt-classifier/src/handlers/trainer.py\n"
      ]
     },
     "execution_count": null,
     "metadata": {},
     "output_type": "execute_result"
    }
   ],
   "source": [
    "search_file 'cuda' src/handlers/trainer.py"
   ]
  },
  {
   "cell_type": "markdown",
   "id": "d34072e7",
   "metadata": {},
   "source": [
    "### Step 22"
   ]
  },
  {
   "cell_type": "markdown",
   "id": "f73f9d44",
   "metadata": {},
   "source": [
    "Execution Start time: 05:58:23, End time: 05:58:23 (duration: 0 seconds)"
   ]
  },
  {
   "cell_type": "markdown",
   "id": "871476d7",
   "metadata": {},
   "source": [
    "**Thought**: Since there are no direct occurrences of 'cuda' in the `src/handlers/trainer.py` file, the issue might be related to how the device is being set or used elsewhere in the code. \n",
    "\n",
    "Let's search for 'cuda' in the entire `src` directory to ensure we haven't missed any other instances where the device might be set to 'cuda'.\n",
    "\n"
   ]
  },
  {
   "cell_type": "markdown",
   "id": "d2cfbffd",
   "metadata": {},
   "source": [
    "**Action (search_dir)**:"
   ]
  },
  {
   "cell_type": "code",
   "execution_count": null,
   "id": "b81881bb",
   "metadata": {},
   "outputs": [
    {
     "data": {
      "text/plain": [
       "Found 5 matches for \"cuda\" in /content/robust-prompt-classifier/src:\n/content/robust-prompt-classifier/src/handlers/ensemble_evaluater.py (1 matches)\n/content/robust-prompt-classifier/src/handlers/timer.py (3 matches)\n/content/robust-prompt-classifier/src/utils/parser.py (1 matches)\nEnd of matches for \"cuda\" in /content/robust-prompt-classifier/src\n"
      ]
     },
     "execution_count": null,
     "metadata": {},
     "output_type": "execute_result"
    }
   ],
   "source": [
    "search_dir 'cuda' src"
   ]
  },
  {
   "cell_type": "markdown",
   "id": "46d86a4b",
   "metadata": {},
   "source": [
    "### Step 23"
   ]
  },
  {
   "cell_type": "markdown",
   "id": "eef8547a",
   "metadata": {},
   "source": [
    "Execution Start time: 05:58:25, End time: 05:58:25 (duration: 0 seconds)"
   ]
  },
  {
   "cell_type": "markdown",
   "id": "23965bdc",
   "metadata": {},
   "source": [
    "**Thought**: The search results indicate that there are occurrences of 'cuda' in the following files:\n",
    "\n",
    "1. `src/handlers/ensemble_evaluater.py`\n",
    "2. `src/handlers/timer.py`\n",
    "3. `src/utils/parser.py`\n",
    "\n",
    "Let's start by checking the `src/handlers/ensemble_evaluater.py` file to see if it affects the device setting.\n",
    "\n"
   ]
  },
  {
   "cell_type": "markdown",
   "id": "bb63055f",
   "metadata": {},
   "source": [
    "**Action (open)**:"
   ]
  },
  {
   "cell_type": "code",
   "execution_count": null,
   "id": "87fc6b43",
   "metadata": {},
   "outputs": [
    {
     "data": {
      "text/plain": [
       "[File: /content/robust-prompt-classifier/src/handlers/ensemble_evaluater.py (35 lines total)]\n1:import numpy as np\n2:import os\n3:\n4:from .evaluater import Evaluator\n5:\n6:class EnsembleEvaluator(Evaluator):\n7:    def __init__(self, exp_path:str, device:str='cuda'):\n8:        self.exp_path = exp_path\n9:        self.paths = [f'{exp_path}/{seed}' for seed in os.listdir(exp_path) if os.path.isdir(f'{exp_path}/{seed}')]\n10:        self.seeds = [Evaluator(seed_path, device) for seed_path in sorted(self.paths)]\n11:\n12:    def load_probs(self, data_name:str, mode)->dict:\n13:        seed_probs = [seed.load_probs(data_name, mode) for seed in self.seeds]\n14:        ex_ids = seed_probs[0].keys()\n15:        assert all([i.keys() == ex_ids for i in seed_probs])\n16:\n17:        ensemble = {}\n18:        for ex_id in ex_ids:\n19:            probs = [seed[ex_id] for seed in seed_probs]\n20:            probs = np.mean(probs, axis=0)\n21:            ensemble[ex_id] = probs\n22:        return ensemble    \n23:    \n24:    def load_preds(self, data_name:str, mode)->dict:\n25:        probs = self.load_probs(data_name, mode)\n26:        preds = {}\n27:        for ex_id, probs in probs.items():\n28:            preds[ex_id] = int(np.argmax(probs, axis=-1))  \n29:        return preds\n30:\n31:    def load_layer_h(self, *args, **kwargs):\n32:        seed_1 = self.seeds[0]\n33:        h = seed_1.load_layer_h(*args, **kwargs)\n34:        return h\n35:    \n"
      ]
     },
     "execution_count": null,
     "metadata": {},
     "output_type": "execute_result"
    }
   ],
   "source": [
    "open src/handlers/ensemble_evaluater.py"
   ]
  },
  {
   "cell_type": "markdown",
   "id": "ac598868",
   "metadata": {},
   "source": [
    "### Step 24"
   ]
  },
  {
   "cell_type": "markdown",
   "id": "c2bc59d2",
   "metadata": {},
   "source": [
    "Execution Start time: 05:58:28, End time: 05:58:29 (duration: 0 seconds)"
   ]
  },
  {
   "cell_type": "markdown",
   "id": "1b093663",
   "metadata": {},
   "source": [
    "**Thought**: The `EnsembleEvaluator` class in `ensemble_evaluater.py` has a default parameter `device` set to 'cuda' in its `__init__` method on line 7. We need to change this default to 'cpu' to ensure the code runs on a CPU.\n",
    "\n",
    "Let's edit the file to make this change.\n",
    "\n"
   ]
  },
  {
   "cell_type": "markdown",
   "id": "446053a8",
   "metadata": {},
   "source": [
    "**Action (edit)**:"
   ]
  },
  {
   "cell_type": "code",
   "execution_count": null,
   "id": "97669785",
   "metadata": {},
   "outputs": [
    {
     "data": {
      "text/plain": [
       "[File: /content/robust-prompt-classifier/src/handlers/ensemble_evaluater.py (35 lines total)]\n1:import numpy as np\n2:import os\n3:\n4:from .evaluater import Evaluator\n5:\n6:class EnsembleEvaluator(Evaluator):\n7:    def __init__(self, exp_path:str, device:str='cpu'):\n8:        self.exp_path = exp_path\n9:        self.paths = [f'{exp_path}/{seed}' for seed in os.listdir(exp_path) if os.path.isdir(f'{exp_path}/{seed}')]\n10:        self.seeds = [Evaluator(seed_path, device) for seed_path in sorted(self.paths)]\n11:\n12:    def load_probs(self, data_name:str, mode)->dict:\n13:        seed_probs = [seed.load_probs(data_name, mode) for seed in self.seeds]\n14:        ex_ids = seed_probs[0].keys()\n15:        assert all([i.keys() == ex_ids for i in seed_probs])\n16:\n17:        ensemble = {}\n18:        for ex_id in ex_ids:\n19:            probs = [seed[ex_id] for seed in seed_probs]\n20:            probs = np.mean(probs, axis=0)\n21:            ensemble[ex_id] = probs\n22:        return ensemble    \n23:    \n24:    def load_preds(self, data_name:str, mode)->dict:\n25:        probs = self.load_probs(data_name, mode)\n26:        preds = {}\n27:        for ex_id, probs in probs.items():\n28:            preds[ex_id] = int(np.argmax(probs, axis=-1))  \n29:        return preds\n30:\n31:    def load_layer_h(self, *args, **kwargs):\n32:        seed_1 = self.seeds[0]\n33:        h = seed_1.load_layer_h(*args, **kwargs)\n34:        return h\n35:    \nFile updated. Please review the changes and make sure they are correct (correct indentation, no duplicate lines, etc). Edit the file again if necessary.\n"
      ]
     },
     "execution_count": null,
     "metadata": {},
     "output_type": "execute_result"
    }
   ],
   "source": [
    "edit 7:7\n",
    "    def __init__(self, exp_path:str, device:str='cpu'):\n",
    "end_of_edit"
   ]
  },
  {
   "cell_type": "markdown",
   "id": "ed97ee97",
   "metadata": {},
   "source": [
    "### Step 25"
   ]
  },
  {
   "cell_type": "markdown",
   "id": "8e745250",
   "metadata": {},
   "source": [
    "Execution Start time: 05:58:30, End time: 05:58:30 (duration: 0 seconds)"
   ]
  },
  {
   "cell_type": "markdown",
   "id": "bb8b85e4",
   "metadata": {},
   "source": [
    "**Thought**: The default device in the `EnsembleEvaluator` class has been successfully changed to 'cpu'. Now, let's proceed to check the `src/handlers/timer.py` file for any device settings related to 'cuda'.\n",
    "\n"
   ]
  },
  {
   "cell_type": "markdown",
   "id": "de04dec5",
   "metadata": {},
   "source": [
    "**Action (open)**:"
   ]
  },
  {
   "cell_type": "code",
   "execution_count": null,
   "id": "66c4aab2",
   "metadata": {},
   "outputs": [
    {
     "data": {
      "text/plain": [
       "[File: /content/robust-prompt-classifier/src/handlers/timer.py (86 lines total)]\n1:import torch\n2:import logging\n3:import time\n4:\n5:from collections import namedtuple\n6:from .trainer import Trainer\n7:\n8:# Create Logger\n9:logging.basicConfig(\n10:    format='%(asctime)s %(levelname)-8s %(message)s',\n11:    datefmt='%Y-%m-%d %H:%M:%S',\n12:    level=logging.INFO)\n13:logger = logging.getLogger(__name__)\n14:\n15:\n16: #== Main Training Methods =====================================================================#\n17:class Timer(Trainer):\n18:    def time(self, args: namedtuple):\n19:        self.save_args('train_args.json', args)\n20: \n21:        # set up optimization objects\n22:        optimizer = torch.optim.AdamW(\n23:            self.model.parameters(), \n24:            lr=args.lr)\n25:\n26:        # set up model\n27:        self.to(args.device)\n28:        self.model.train()\n29:        self.log_num_params()\n30:\n31:        # Reset loss metrics\n32:        self.best_dev = (0, {})\n33:        self.model_loss.reset_metrics()\n34:\n35:        # Setup wandb for online tracking of experiments\n36:        if args.wandb: self.setup_wandb(args)\n37:\n38:        for epoch in range(1, args.epochs+1):\n39:            start_time = time.time()\n40:            \n41:            # freeze transformer for first couple of epochs if set\n42:            if args.freeze_trans:\n43:                if epoch <= args.freeze_trans: self.model.freeze_transformer()\n44:                else: self.model.unfreeze_transformer()\n45:\n46:            #== Training =============================================\n47:            train_batches = self.batcher.dummy_batches(\n48:                seq_len = args.seq_len,\n49:                data_len = args.data_len,\n50:                bsz = args.bsz, \n51:                decoder_len = args.decoder_len\n52:            )\n53:            \n54:\n55:            for step, batch in enumerate(train_batches, start = 1):\n56:                output = self.model_loss(batch)\n57:                optimizer.zero_grad()\n58:                output.loss.backward()\n59:                if args.grad_clip:\n60:                    torch.nn.utils.clip_grad_norm_(self.model.parameters(), args.grad_clip)\n61:                optimizer.step()\n62:        \n63:                # Print train performance every log_every samples\n64:                if step % (args.log_every//args.bsz) == 0:\n65:                    metrics = self.get_metrics()\n66:                    \n67:                    self.log_metrics(\n68:                        metrics = metrics,\n69:                        mode = 'train', \n70:                        epoch = epoch,\n71:                        ex_step = step*args.bsz\n72:                    )\n73:\n74:                    if args.wandb: self.log_wandb(metrics, mode='train')\n75:                    self.model_loss.reset_metrics()   \n76:\n77:                    \n78:            #== Print Epoch Timing ============================================\n79:            end_time = time.time()\n80:            epoch_time = end_time-start_time\n81:            logger.info(f\"#== EPOCH TIME: {epoch_time:.2f} ======================#\")\n82:\n83:            t = torch.cuda.get_device_properties(0).total_memory\n84:            r = torch.cuda.memory_reserved(0)\n85:            a = torch.cuda.memory_allocated(0)\n86:            print(f\"Total: {t/10**9:.1f},  Allocated + Reserved: {(a + r)/10**9:.1f}\")\n"
      ]
     },
     "execution_count": null,
     "metadata": {},
     "output_type": "execute_result"
    }
   ],
   "source": [
    "open src/handlers/timer.py"
   ]
  },
  {
   "cell_type": "markdown",
   "id": "fbc6d976",
   "metadata": {},
   "source": [
    "### Step 26"
   ]
  },
  {
   "cell_type": "markdown",
   "id": "4b4c7343",
   "metadata": {},
   "source": [
    "Execution Start time: 05:58:34, End time: 05:58:34 (duration: 0 seconds)"
   ]
  },
  {
   "cell_type": "markdown",
   "id": "a5090ada",
   "metadata": {},
   "source": [
    "**Thought**: The `Timer` class in `timer.py` uses `torch.cuda` functions to get device properties and memory usage on lines 83-86. These lines are not necessary for running the model on a CPU and can be removed or commented out to prevent errors related to CUDA.\n",
    "\n",
    "Let's edit the file to comment out these lines.\n",
    "\n"
   ]
  },
  {
   "cell_type": "markdown",
   "id": "b380650a",
   "metadata": {},
   "source": [
    "**Action (edit)**:"
   ]
  },
  {
   "cell_type": "code",
   "execution_count": null,
   "id": "cb8f1ba8",
   "metadata": {},
   "outputs": [
    {
     "data": {
      "text/plain": [
       "[File: /content/robust-prompt-classifier/src/handlers/timer.py (86 lines total)]\n1:import torch\n2:import logging\n3:import time\n4:\n5:from collections import namedtuple\n6:from .trainer import Trainer\n7:\n8:# Create Logger\n9:logging.basicConfig(\n10:    format='%(asctime)s %(levelname)-8s %(message)s',\n11:    datefmt='%Y-%m-%d %H:%M:%S',\n12:    level=logging.INFO)\n13:logger = logging.getLogger(__name__)\n14:\n15:\n16: #== Main Training Methods =====================================================================#\n17:class Timer(Trainer):\n18:    def time(self, args: namedtuple):\n19:        self.save_args('train_args.json', args)\n20: \n21:        # set up optimization objects\n22:        optimizer = torch.optim.AdamW(\n23:            self.model.parameters(), \n24:            lr=args.lr)\n25:\n26:        # set up model\n27:        self.to(args.device)\n28:        self.model.train()\n29:        self.log_num_params()\n30:\n31:        # Reset loss metrics\n32:        self.best_dev = (0, {})\n33:        self.model_loss.reset_metrics()\n34:\n35:        # Setup wandb for online tracking of experiments\n36:        if args.wandb: self.setup_wandb(args)\n37:\n38:        for epoch in range(1, args.epochs+1):\n39:            start_time = time.time()\n40:            \n41:            # freeze transformer for first couple of epochs if set\n42:            if args.freeze_trans:\n43:                if epoch <= args.freeze_trans: self.model.freeze_transformer()\n44:                else: self.model.unfreeze_transformer()\n45:\n46:            #== Training =============================================\n47:            train_batches = self.batcher.dummy_batches(\n48:                seq_len = args.seq_len,\n49:                data_len = args.data_len,\n50:                bsz = args.bsz, \n51:                decoder_len = args.decoder_len\n52:            )\n53:            \n54:\n55:            for step, batch in enumerate(train_batches, start = 1):\n56:                output = self.model_loss(batch)\n57:                optimizer.zero_grad()\n58:                output.loss.backward()\n59:                if args.grad_clip:\n60:                    torch.nn.utils.clip_grad_norm_(self.model.parameters(), args.grad_clip)\n61:                optimizer.step()\n62:        \n63:                # Print train performance every log_every samples\n64:                if step % (args.log_every//args.bsz) == 0:\n65:                    metrics = self.get_metrics()\n66:                    \n67:                    self.log_metrics(\n68:                        metrics = metrics,\n69:                        mode = 'train', \n70:                        epoch = epoch,\n71:                        ex_step = step*args.bsz\n72:                    )\n73:\n74:                    if args.wandb: self.log_wandb(metrics, mode='train')\n75:                    self.model_loss.reset_metrics()   \n76:\n77:                    \n78:            #== Print Epoch Timing ============================================\n79:            end_time = time.time()\n80:            epoch_time = end_time-start_time\n81:            logger.info(f\"#== EPOCH TIME: {epoch_time:.2f} ======================#\")\n82:\n83:        # t = torch.cuda.get_device_properties(0).total_memory\n84:        # r = torch.cuda.memory_reserved(0)\n85:        # a = torch.cuda.memory_allocated(0)\n86:        # print(f\"Total: {t/10**9:.1f},  Allocated + Reserved: {(a + r)/10**9:.1f}\")\nFile updated. Please review the changes and make sure they are correct (correct indentation, no duplicate lines, etc). Edit the file again if necessary.\n"
      ]
     },
     "execution_count": null,
     "metadata": {},
     "output_type": "execute_result"
    }
   ],
   "source": [
    "edit 83:86\n",
    "        # t = torch.cuda.get_device_properties(0).total_memory\n",
    "        # r = torch.cuda.memory_reserved(0)\n",
    "        # a = torch.cuda.memory_allocated(0)\n",
    "        # print(f\"Total: {t/10**9:.1f},  Allocated + Reserved: {(a + r)/10**9:.1f}\")\n",
    "end_of_edit"
   ]
  },
  {
   "cell_type": "markdown",
   "id": "8d2dae20",
   "metadata": {},
   "source": [
    "### Step 27"
   ]
  },
  {
   "cell_type": "markdown",
   "id": "701bfa8b",
   "metadata": {},
   "source": [
    "Execution Start time: 05:58:36, End time: 05:58:36 (duration: 0 seconds)"
   ]
  },
  {
   "cell_type": "markdown",
   "id": "4968a19b",
   "metadata": {},
   "source": [
    "**Thought**: The CUDA-related lines in the `timer.py` file have been successfully commented out. Now, let's proceed to check the `src/utils/parser.py` file for any device settings related to 'cuda'.\n",
    "\n"
   ]
  },
  {
   "cell_type": "markdown",
   "id": "fae8ab88",
   "metadata": {},
   "source": [
    "**Action (open)**:"
   ]
  },
  {
   "cell_type": "code",
   "execution_count": null,
   "id": "8dce6501",
   "metadata": {},
   "outputs": [
    {
     "data": {
      "text/plain": [
       "[File: /content/robust-prompt-classifier/src/utils/parser.py (42 lines total)]\n1:import argparse\n2:\n3:def get_model_parser():\n4:    \"\"\" model arguments for argparse \"\"\"\n5:    model_parser = argparse.ArgumentParser(description='Arguments for system and model configuration')\n6:    model_parser.add_argument('--path', type=str, required=True, help='path to experiment')\n7:    model_parser.add_argument('--transformer', type=str, default='roberta-large', help='transformer to use (default=robert-large)')\n8:    model_parser.add_argument('--prompt-finetuning', action='store_true', help='whether to use prompt finetuning')\n9:    model_parser.add_argument('--label-words', type=str, nargs='+', default=['bad', 'good'], help='which words to use as labels fro prompt finetuning (default=bad good)')\n10:    model_parser.add_argument('--template', type=str, default='<t>', help='which words to use as labels fro prompt finetuning (default=bad good)')\n11:\n12:    model_parser.add_argument('--loss', type=str, default=None, help='loss function to use (default = None (cross entropy))')\n13:    model_parser.add_argument('--maxlen', type=int, default=512, help='max length of transformer inputs')\n14:    model_parser.add_argument('--num-classes', type=int, default=2, help='number of classes (3 for NLI)')\n15:    model_parser.add_argument('--rand-seed', type=int, default=None, help='random seed for reproducibility')\n16:    return model_parser\n17:\n18:def get_train_parser():\n19:    \"\"\" training arguments for argparse \"\"\"\n20:    train_parser = argparse.ArgumentParser(description='Arguments for training the system')\n21:    train_parser.add_argument('--dataset', type=str, default='sst', help='dataset to train the system on')\n22:    train_parser.add_argument('--bias', type=str, default=None, help='whether data should be synthetically biased (e.g. lexical)')\n23:    train_parser.add_argument('--lim', type=int, default=None, help='size of data subset to use for debugging')\n24:\n25:    train_parser.add_argument('--epochs', type=int, default=20, help='number of epochs to train system for')\n26:    train_parser.add_argument('--bsz', type=int, default=4, help='training batch size')\n27:    train_parser.add_argument('--lr', type=float, default=1e-5, help='learning rate')\n28:    train_parser.add_argument('--data-ordering', action='store_true', help='dynamically batches to minimize padding')\n29:\n30:    train_parser.add_argument('--grad-clip', type=float, default=1, help='gradient clipping')\n31:    train_parser.add_argument('--freeze-trans', type=str, default=None, help='number of epochs to freeze transformer')\n32:\n33:    train_parser.add_argument('--log-every', type=int, default=400, help='logging training metrics every number of examples')\n34:    train_parser.add_argument('--val-every', type=int, default=50_000, help='when validation should be done within epoch')\n35:    train_parser.add_argument('--early-stop', type=int, default=3, help='logging training metrics every number of examples')\n36:\n37:    train_parser.add_argument('--wandb', action='store_true', help='if set, will log to wandb')\n38:    train_parser.add_argument('--device', type=str, default='cuda', help='selecting device to use')\n39:    return train_parser\n40:\n41:\n42:    \n"
      ]
     },
     "execution_count": null,
     "metadata": {},
     "output_type": "execute_result"
    }
   ],
   "source": [
    "open src/utils/parser.py"
   ]
  },
  {
   "cell_type": "markdown",
   "id": "a3e5bae7",
   "metadata": {},
   "source": [
    "### Step 28"
   ]
  },
  {
   "cell_type": "markdown",
   "id": "7d918a3d",
   "metadata": {},
   "source": [
    "Execution Start time: 05:58:38, End time: 05:58:38 (duration: 0 seconds)"
   ]
  },
  {
   "cell_type": "markdown",
   "id": "f299f59b",
   "metadata": {},
   "source": [
    "**Thought**: The `get_train_parser` function in `parser.py` has a default parameter `device` set to 'cuda' on line 38. We need to change this default to 'cpu' to ensure the code runs on a CPU.\n",
    "\n",
    "Let's edit the file to make this change.\n",
    "\n"
   ]
  },
  {
   "cell_type": "markdown",
   "id": "5343a29a",
   "metadata": {},
   "source": [
    "**Action (edit)**:"
   ]
  },
  {
   "cell_type": "code",
   "execution_count": null,
   "id": "5bd301fa",
   "metadata": {},
   "outputs": [
    {
     "data": {
      "text/plain": [
       "[File: /content/robust-prompt-classifier/src/utils/parser.py (42 lines total)]\n1:import argparse\n2:\n3:def get_model_parser():\n4:    \"\"\" model arguments for argparse \"\"\"\n5:    model_parser = argparse.ArgumentParser(description='Arguments for system and model configuration')\n6:    model_parser.add_argument('--path', type=str, required=True, help='path to experiment')\n7:    model_parser.add_argument('--transformer', type=str, default='roberta-large', help='transformer to use (default=robert-large)')\n8:    model_parser.add_argument('--prompt-finetuning', action='store_true', help='whether to use prompt finetuning')\n9:    model_parser.add_argument('--label-words', type=str, nargs='+', default=['bad', 'good'], help='which words to use as labels fro prompt finetuning (default=bad good)')\n10:    model_parser.add_argument('--template', type=str, default='<t>', help='which words to use as labels fro prompt finetuning (default=bad good)')\n11:\n12:    model_parser.add_argument('--loss', type=str, default=None, help='loss function to use (default = None (cross entropy))')\n13:    model_parser.add_argument('--maxlen', type=int, default=512, help='max length of transformer inputs')\n14:    model_parser.add_argument('--num-classes', type=int, default=2, help='number of classes (3 for NLI)')\n15:    model_parser.add_argument('--rand-seed', type=int, default=None, help='random seed for reproducibility')\n16:    return model_parser\n17:\n18:def get_train_parser():\n19:    \"\"\" training arguments for argparse \"\"\"\n20:    train_parser = argparse.ArgumentParser(description='Arguments for training the system')\n21:    train_parser.add_argument('--dataset', type=str, default='sst', help='dataset to train the system on')\n22:    train_parser.add_argument('--bias', type=str, default=None, help='whether data should be synthetically biased (e.g. lexical)')\n23:    train_parser.add_argument('--lim', type=int, default=None, help='size of data subset to use for debugging')\n24:\n25:    train_parser.add_argument('--epochs', type=int, default=20, help='number of epochs to train system for')\n26:    train_parser.add_argument('--bsz', type=int, default=4, help='training batch size')\n27:    train_parser.add_argument('--lr', type=float, default=1e-5, help='learning rate')\n28:    train_parser.add_argument('--data-ordering', action='store_true', help='dynamically batches to minimize padding')\n29:\n30:    train_parser.add_argument('--grad-clip', type=float, default=1, help='gradient clipping')\n31:    train_parser.add_argument('--freeze-trans', type=str, default=None, help='number of epochs to freeze transformer')\n32:\n33:    train_parser.add_argument('--log-every', type=int, default=400, help='logging training metrics every number of examples')\n34:    train_parser.add_argument('--val-every', type=int, default=50_000, help='when validation should be done within epoch')\n35:    train_parser.add_argument('--early-stop', type=int, default=3, help='logging training metrics every number of examples')\n36:\n37:    train_parser.add_argument('--wandb', action='store_true', help='if set, will log to wandb')\n38:    train_parser.add_argument('--device', type=str, default='cpu', help='selecting device to use')\n39:    return train_parser\n40:\n41:\n42:    \nFile updated. Please review the changes and make sure they are correct (correct indentation, no duplicate lines, etc). Edit the file again if necessary.\n"
      ]
     },
     "execution_count": null,
     "metadata": {},
     "output_type": "execute_result"
    }
   ],
   "source": [
    "edit 38:38\n",
    "    train_parser.add_argument('--device', type=str, default='cpu', help='selecting device to use')\n",
    "end_of_edit"
   ]
  },
  {
   "cell_type": "markdown",
   "id": "d2d5cccb",
   "metadata": {},
   "source": [
    "### Step 29"
   ]
  },
  {
   "cell_type": "markdown",
   "id": "e24d127f",
   "metadata": {},
   "source": [
    "Execution Start time: 05:58:40, End time: 05:59:22 (duration: 41 seconds)"
   ]
  },
  {
   "cell_type": "markdown",
   "id": "c06c1c1a",
   "metadata": {},
   "source": [
    "**Thought**: The default device in the `get_train_parser` function has been successfully changed to 'cpu'. Now that we've addressed all occurrences of 'cuda', let's try running the `search/sentiment.py` script again to generate the model outputs for sentiment classification on the IMDb dataset.\n",
    "\n"
   ]
  },
  {
   "cell_type": "markdown",
   "id": "a84e8db1",
   "metadata": {},
   "source": [
    "**Action (None)**:"
   ]
  },
  {
   "cell_type": "code",
   "execution_count": null,
   "id": "343eaa9d",
   "metadata": {},
   "outputs": [
    {
     "data": {
      "text/plain": [
       "src_dir: /content/robust-prompt-classifier\n2024-08-22 05:58:44 INFO     random seed set to 521\n/usr/local/lib/python3.10/site-packages/huggingface_hub/file_download.py:1132: FutureWarning: `resume_download` is deprecated and will be removed in version 1.0.0. Downloads always resume when possible. If you want to force a new download, use `force_download=True`.\n  warnings.warn(\n2024-08-22 05:58:46 INFO     Number of parameters in model 247.6M\n[[1282], [9412], [2714], [17425], [2841], [207], [248], [1237], [2723], [1465]]\nimdb\n0\n\nDownloading readme:   0%|                           | 0.00/7.81k [00:00<?, ?B/s]\nDownloading readme: 100%|███████████████████| 7.81k/7.81k [00:00<00:00, 182kB/s]\n\nDownloading data:   0%|                             | 0.00/21.0M [00:00<?, ?B/s]\n\n\n\nDownloading data:   0%|                             | 0.00/20.5M [00:00<?, ?B/s]\n\n\nDownloading data:   0%|                             | 0.00/42.0M [00:00<?, ?B/s]\n\n\n\n\nGenerating train split:   0%|                  | 0/25000 [00:00<?, ? examples/s]\nGenerating train split:  92%|█▊| 23000/25000 [00:00<00:00, 225575.62 examples/s]\nGenerating train split: 100%|██| 25000/25000 [00:00<00:00, 227592.10 examples/s]\n\nGenerating test split:   0%|                   | 0/25000 [00:00<?, ? examples/s]\nGenerating test split: 100%|███| 25000/25000 [00:00<00:00, 278028.46 examples/s]\n\nGenerating unsupervised split:   0%|           | 0/50000 [00:00<?, ? examples/s]\nGenerating unsupervised split:  56%|▌| 28000/50000 [00:00<00:00, 273479.99 examp\nGenerating unsupervised split: 100%|█| 50000/50000 [00:00<00:00, 272793.16 examp\n\n  0%|                                                    | 0/10 [00:00<?, ?it/s]\n100%|█████████████████████████████████████████| 10/10 [00:00<00:00, 1329.92it/s]\n\n  0%|                                                    | 0/10 [00:00<?, ?it/s]\n 10%|████▍                                       | 1/10 [00:00<00:04,  2.21it/s]\n 20%|████████▊                                   | 2/10 [00:00<00:03,  2.42it/s]\n 30%|█████████████▏                              | 3/10 [00:01<00:02,  2.70it/s]\n 40%|█████████████████▌                          | 4/10 [00:01<00:02,  2.57it/s]\n 50%|██████████████████████                      | 5/10 [00:02<00:02,  1.91it/s]\n 60%|██████████████████████████▍                 | 6/10 [00:02<00:01,  2.30it/s]\n 70%|██████████████████████████████▊             | 7/10 [00:03<00:01,  1.67it/s]\n 80%|███████████████████████████████████▏        | 8/10 [00:03<00:00,  2.10it/s]\n 90%|███████████████████████████████████████▌    | 9/10 [00:04<00:00,  2.11it/s]\n100%|███████████████████████████████████████████| 10/10 [00:04<00:00,  2.29it/s]\n100%|███████████████████████████████████████████| 10/10 [00:04<00:00,  2.19it/s]\n1\n\n  0%|                                                    | 0/10 [00:00<?, ?it/s]\n100%|█████████████████████████████████████████| 10/10 [00:00<00:00, 2385.84it/s]\n\n  0%|                                                    | 0/10 [00:00<?, ?it/s]\n 10%|████▍                                       | 1/10 [00:00<00:03,  2.62it/s]\n 20%|████████▊                                   | 2/10 [00:00<00:03,  2.64it/s]\n 30%|█████████████▏                              | 3/10 [00:01<00:02,  2.84it/s]\n 40%|█████████████████▌                          | 4/10 [00:01<00:02,  2.65it/s]\n 50%|██████████████████████                      | 5/10 [00:02<00:02,  1.92it/s]\n 60%|██████████████████████████▍                 | 6/10 [00:02<00:01,  2.30it/s]\n 70%|██████████████████████████████▊             | 7/10 [00:03<00:01,  1.61it/s]\n 80%|███████████████████████████████████▏        | 8/10 [00:03<00:00,  2.03it/s]\n 90%|███████████████████████████████████████▌    | 9/10 [00:04<00:00,  2.04it/s]\n100%|███████████████████████████████████████████| 10/10 [00:04<00:00,  2.23it/s]\n100%|███████████████████████████████████████████| 10/10 [00:04<00:00,  2.18it/s]\n2\n\n  0%|                                                    | 0/10 [00:00<?, ?it/s]\n100%|█████████████████████████████████████████| 10/10 [00:00<00:00, 2339.66it/s]\n\n  0%|                                                    | 0/10 [00:00<?, ?it/s]\n 10%|████▍                                       | 1/10 [00:00<00:03,  2.45it/s]\n 20%|████████▊                                   | 2/10 [00:00<00:03,  2.41it/s]\n 30%|█████████████▏                              | 3/10 [00:01<00:02,  2.61it/s]\n 40%|█████████████████▌                          | 4/10 [00:01<00:02,  2.45it/s]\n 50%|██████████████████████                      | 5/10 [00:02<00:02,  1.82it/s]\n 60%|██████████████████████████▍                 | 6/10 [00:02<00:01,  2.20it/s]\n 70%|██████████████████████████████▊             | 7/10 [00:03<00:01,  1.64it/s]\n 80%|███████████████████████████████████▏        | 8/10 [00:03<00:00,  2.04it/s]\n 90%|███████████████████████████████████████▌    | 9/10 [00:04<00:00,  2.02it/s]\n100%|███████████████████████████████████████████| 10/10 [00:04<00:00,  2.18it/s]\n100%|███████████████████████████████████████████| 10/10 [00:04<00:00,  2.11it/s]\n3\n\n  0%|                                                    | 0/10 [00:00<?, ?it/s]\n100%|█████████████████████████████████████████| 10/10 [00:00<00:00, 2393.87it/s]\n\n  0%|                                                    | 0/10 [00:00<?, ?it/s]\n 10%|████▍                                       | 1/10 [00:00<00:03,  2.56it/s]\n 20%|████████▊                                   | 2/10 [00:00<00:03,  2.63it/s]\n 30%|█████████████▏                              | 3/10 [00:01<00:02,  2.85it/s]\n 40%|█████████████████▌                          | 4/10 [00:01<00:02,  2.67it/s]\n 50%|██████████████████████                      | 5/10 [00:02<00:02,  1.94it/s]\n 60%|██████████████████████████▍                 | 6/10 [00:02<00:01,  2.34it/s]\n 70%|██████████████████████████████▊             | 7/10 [00:03<00:01,  1.64it/s]\n 80%|███████████████████████████████████▏        | 8/10 [00:03<00:00,  2.06it/s]\n 90%|███████████████████████████████████████▌    | 9/10 [00:04<00:00,  2.05it/s]\n100%|███████████████████████████████████████████| 10/10 [00:04<00:00,  2.21it/s]\n100%|███████████████████████████████████████████| 10/10 [00:04<00:00,  2.18it/s]\n4\n\n  0%|                                                    | 0/10 [00:00<?, ?it/s]\n100%|█████████████████████████████████████████| 10/10 [00:00<00:00, 2308.75it/s]\n\n  0%|                                                    | 0/10 [00:00<?, ?it/s]\n 10%|████▍                                       | 1/10 [00:00<00:04,  2.25it/s]\n 20%|████████▊                                   | 2/10 [00:00<00:03,  2.29it/s]\n 30%|█████████████▏                              | 3/10 [00:01<00:02,  2.50it/s]\n 40%|█████████████████▌                          | 4/10 [00:01<00:02,  2.38it/s]\n 50%|██████████████████████                      | 5/10 [00:02<00:02,  1.81it/s]\n 60%|██████████████████████████▍                 | 6/10 [00:02<00:01,  2.20it/s]\n 70%|██████████████████████████████▊             | 7/10 [00:03<00:01,  1.57it/s]\n 80%|███████████████████████████████████▏        | 8/10 [00:03<00:01,  1.99it/s]\n 90%|███████████████████████████████████████▌    | 9/10 [00:04<00:00,  1.99it/s]\n100%|███████████████████████████████████████████| 10/10 [00:04<00:00,  2.15it/s]\n100%|███████████████████████████████████████████| 10/10 [00:04<00:00,  2.06it/s]\n5\n\n  0%|                                                    | 0/10 [00:00<?, ?it/s]\n100%|█████████████████████████████████████████| 10/10 [00:00<00:00, 2279.39it/s]\n\n  0%|                                                    | 0/10 [00:00<?, ?it/s]\n 10%|████▍                                       | 1/10 [00:00<00:03,  2.33it/s]\n 20%|████████▊                                   | 2/10 [00:00<00:03,  2.42it/s]\n 30%|█████████████▏                              | 3/10 [00:01<00:02,  2.61it/s]\n 40%|█████████████████▌                          | 4/10 [00:01<00:02,  2.47it/s]\n 50%|██████████████████████                      | 5/10 [00:02<00:02,  1.87it/s]\n 60%|██████████████████████████▍                 | 6/10 [00:02<00:01,  2.25it/s]\n 70%|██████████████████████████████▊             | 7/10 [00:03<00:01,  1.61it/s]\n 80%|███████████████████████████████████▏        | 8/10 [00:03<00:00,  2.05it/s]\n 90%|███████████████████████████████████████▌    | 9/10 [00:04<00:00,  2.08it/s]\n100%|███████████████████████████████████████████| 10/10 [00:04<00:00,  2.28it/s]\n100%|███████████████████████████████████████████| 10/10 [00:04<00:00,  2.15it/s]\n"
      ]
     },
     "execution_count": null,
     "metadata": {},
     "output_type": "execute_result"
    }
   ],
   "source": [
    "!python search/sentiment.py --transformer flan-t5-base --path outputs/flan-t5-large/ --lim 10 --epochs 1"
   ]
  },
  {
   "cell_type": "markdown",
   "id": "fcc50a9d",
   "metadata": {},
   "source": [
    "### Step 30"
   ]
  },
  {
   "cell_type": "markdown",
   "id": "e5d66a9c",
   "metadata": {},
   "source": [
    "Execution Start time: 05:59:23, End time: 05:59:24 (duration: 0 seconds)"
   ]
  },
  {
   "cell_type": "markdown",
   "id": "58e0f39c",
   "metadata": {},
   "source": [
    "**Thought**: The script has successfully executed, and the model outputs for sentiment classification on the IMDb dataset have been generated. Now, let's check the contents of the `outputs/flan-t5-large/imdb/prompt_0/` directory to ensure the results are saved correctly.\n",
    "\n"
   ]
  },
  {
   "cell_type": "markdown",
   "id": "019fb87e",
   "metadata": {},
   "source": [
    "**Action (None)**:"
   ]
  },
  {
   "cell_type": "code",
   "execution_count": null,
   "id": "6869e8d0",
   "metadata": {},
   "outputs": [
    {
     "data": {
      "text/plain": [
       "info.json  logits.pk  probs.pk\n"
      ]
     },
     "execution_count": null,
     "metadata": {},
     "output_type": "execute_result"
    }
   ],
   "source": [
    "!ls outputs/flan-t5-large/imdb/prompt_0/"
   ]
  },
  {
   "cell_type": "markdown",
   "id": "41dad02c",
   "metadata": {},
   "source": [
    "### Step 31"
   ]
  },
  {
   "cell_type": "markdown",
   "id": "124ec904",
   "metadata": {},
   "source": [
    "Execution Start time: 05:59:26, End time: 05:59:26 (duration: 0 seconds)"
   ]
  },
  {
   "cell_type": "markdown",
   "id": "b2cb9d2f",
   "metadata": {},
   "source": [
    "**Thought**: The directory contains the files `info.json`, `logits.pk`, and `probs.pk`. We need to load the `probs.pk` file to extract the predicted labels for each instance ID.\n",
    "\n",
    "Let's proceed to load the `probs.pk` file and extract the predicted labels.\n",
    "\n"
   ]
  },
  {
   "cell_type": "markdown",
   "id": "55af6c4a",
   "metadata": {},
   "source": [
    "**Action (None)**:"
   ]
  },
  {
   "cell_type": "code",
   "execution_count": null,
   "id": "31d723a5",
   "metadata": {},
   "outputs": [
    {
     "data": {
      "text/plain": [
       "{22896: 9,\n 18555: 9,\n 2703: 4,\n 5196: 4,\n 7537: 4,\n 21732: 9,\n 17004: 0,\n 19284: 5,\n 16260: 4,\n 21790: 9}"
      ]
     },
     "execution_count": null,
     "metadata": {},
     "output_type": "execute_result"
    }
   ],
   "source": [
    "import pickle\n",
    "import numpy as np\n",
    "\n",
    "with open(\"outputs/flan-t5-large/imdb/prompt_0/probs.pk\", \"rb\") as input_file:\n",
    "    probs = pickle.load(input_file)\n",
    "\n",
    "predicted_labels = {pid: int(np.argmax(prob)) for pid, prob in probs.items()}\n",
    "predicted_labels"
   ]
  },
  {
   "cell_type": "markdown",
   "id": "b381727d",
   "metadata": {},
   "source": [
    "### Step 32"
   ]
  },
  {
   "cell_type": "markdown",
   "id": "7d456e94",
   "metadata": {},
   "source": [
    "Execution Start time: 05:59:28, End time: 05:59:28 (duration: 0 seconds)"
   ]
  },
  {
   "cell_type": "markdown",
   "id": "d639952f",
   "metadata": {},
   "source": [
    "**Thought**: The predicted labels for each instance ID have been successfully extracted from the `probs.pk` file. Now, let's submit the answer as required by the task.\n",
    "\n"
   ]
  },
  {
   "cell_type": "markdown",
   "id": "d71ee344",
   "metadata": {},
   "source": [
    "**Action (submit)**:"
   ]
  },
  {
   "cell_type": "code",
   "execution_count": null,
   "id": "b3fb370a",
   "metadata": {},
   "outputs": [
    {
     "data": {
      "text/plain": [
       "{22896: 9, 18555: 9, 2703: 4, 5196: 4, 7537: 4, 21732: 9, 17004: 0, 19284: 5, 16260: 4, 21790: 9}"
      ]
     },
     "execution_count": null,
     "metadata": {},
     "output_type": "execute_result"
    }
   ],
   "source": [
    "submit {22896: 9, 18555: 9, 2703: 4, 5196: 4, 7537: 4, 21732: 9, 17004: 0, 19284: 5, 16260: 4, 21790: 9}"
   ]
  }
 ],
 "metadata": {},
 "nbformat": 4,
 "nbformat_minor": 5
}
