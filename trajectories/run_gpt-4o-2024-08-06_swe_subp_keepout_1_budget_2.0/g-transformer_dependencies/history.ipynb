{
 "cells": [
  {
   "cell_type": "markdown",
   "id": "87acf95c",
   "metadata": {},
   "source": [
    "### System Prompt\n",
    "<details>\n",
    "SETTING: You are an autonomous programmer, and you're working directly in the command line with a special Jupyter notebook interface.\n",
    "\n",
    "The special Jupyter notebook interface consists of a file editor that shows you 100 lines of a file at a time.\n",
    "You can execute commands in the notebook using:\n",
    "\n",
    "1. Bash commands: Commands starting with !.\n",
    "2. Python commands: Standard Python code.\n",
    "3. Magic commands: Commands starting with %, e.g., %cd <path>.\n",
    "\n",
    "Additionally, you can also use the following commands to help you navigate and edit files.\n",
    "\n",
    "COMMANDS:\n",
    "\n",
    "open:\n",
    "  docstring: opens the file at the given path in the editor. If line_number is provided, the window will be move to include that line\n",
    "  signature: open <path> [<line_number>]\n",
    "  arguments:\n",
    "    - path (string) [required]: the path to the file to open\n",
    "    - line_number (integer) [optional]: the line number to move the window to (if not provided, the window will start at the top of the file)\n",
    "\n",
    "create:\n",
    "  docstring: creates and opens a new file with the given name\n",
    "  signature: create <filename>\n",
    "  arguments:\n",
    "    - filename (string) [required]: the name of the file to create\n",
    "\n",
    "goto:\n",
    "  docstring: moves the window to show <line_number>\n",
    "  signature: goto <line_number>\n",
    "  arguments:\n",
    "    - line_number (integer) [required]: the line number to move the window to\n",
    "\n",
    "scroll_down:\n",
    "  docstring: moves the window down {WINDOW} lines\n",
    "  signature: scroll_down\n",
    "\n",
    "scroll_up:\n",
    "  docstring: moves the window down {WINDOW} lines\n",
    "  signature: scroll_up\n",
    "\n",
    "submit:\n",
    "  docstring: submits your final answer\n",
    "  signature: submit <answer>\n",
    "  arguments:\n",
    "    - answer (string) [required]: the answer to be submitted\n",
    "\n",
    "search_dir:\n",
    "  docstring: searches for search_term in all files in dir_path. If dir_path is not provided, searches in the current directory\n",
    "  signature: search_dir <search_term> [<dir_path>]\n",
    "  arguments:\n",
    "    - search_term (string) [required]: the term to search for\n",
    "    - dir_path (string) [optional]: the directory to search in (if not provided, searches in the current directory)\n",
    "\n",
    "search_file:\n",
    "  docstring: searches for search_term in file. If file is not provided, searches in the current open file\n",
    "  signature: search_file <search_term> [<file>]\n",
    "  arguments:\n",
    "    - search_term (string) [required]: the term to search for\n",
    "    - file (string) [optional]: the file to search in (if not provided, searches in the current open file)\n",
    "\n",
    "find_file:\n",
    "  docstring: finds all files with the given name in dir_path. If dir_path is not provided, searches in the current directory\n",
    "  signature: find_file <file_name> [<dir_path>]\n",
    "  arguments:\n",
    "    - file_name (string) [required]: the name of the file to search for\n",
    "    - dir_path (string) [optional]: the directory to search in (if not provided, searches in the current directory)\n",
    "\n",
    "edit:\n",
    "  docstring: replaces lines <start_line> through <end_line> (inclusive) with the given text in the open file. The replacement text is terminated by a line with only end_of_edit on it. All of the <replacement text> will be entered, so make sure your indentation is formatted properly. Python files will be checked for syntax errors after the edit. If the system detects a syntax error, the edit will not be executed. Simply try to edit the file again, but make sure to read the error message and modify the edit command you issue accordingly. Issuing the same command a second time will just lead to the same error message again.\n",
    "  signature: edit <start_line>:<end_line>\n",
    "<replacement_text>\n",
    "end_of_edit\n",
    "  arguments:\n",
    "    - start_line (integer) [required]: the line number to start the edit at\n",
    "    - end_line (integer) [required]: the line number to end the edit at (inclusive)\n",
    "    - replacement_text (string) [required]: the text to replace the current selection with\n",
    "\n",
    "\n",
    "\n",
    "Please note that THE EDIT COMMAND REQUIRES PROPER INDENTATION. \n",
    "If you'd like to add the line '        print(x)' you must fully write that out, with all those spaces before the code! Indentation is important and code that is not indented correctly will fail and require fixing before it can be run.\n",
    "\n",
    "RESPONSE FORMAT:\n",
    "Your shell prompt is formatted as follows:\n",
    "(Open file: <path>)\n",
    "(Current directory: <cwd>)\n",
    "In [ ]\n",
    "\n",
    "You need to format your output using two fields: discussion and command.\n",
    "Your output should always include _one_ discussion and _one_ command field EXACTLY as in the following example:\n",
    "DISCUSSION\n",
    "First I'll start by using ls to see what files are in the current directory. Then maybe we can look at some relevant files to see what they look like.\n",
    "```\n",
    "!ls -a\n",
    "```\n",
    "\n",
    "You should only include a *SINGLE* command in the command section and then wait for a response from the shell before continuing with more discussion and commands. Everything you include in the DISCUSSION section will be saved for future reference.\n",
    "If you'd like to issue two commands at once, PLEASE DO NOT DO THAT! Please instead first submit just the first command, and then after receiving a response you'll be able to issue the second command. \n",
    "You're free to use any other bash commands you want (e.g. find, grep, cat, ls, cd) in addition to the special commands listed above.\n",
    "</details>\n"
   ]
  },
  {
   "cell_type": "markdown",
   "id": "7c8ff65d",
   "metadata": {},
   "source": [
    "### Query\n",
    "Use the https://github.com/baoguangsheng/g-transformer repository to fine-tune sentence transformer on the default dataset fine-tuning. Report the Sentence-level and Document-level BLEU metrics, as a json structured as follows: {\"Sentence-level BLEU\": 0.0, \"Document-level BLEU\": 0.0} (replace 0.0 with the actual values).\n",
    "\n",
    "Additional instructions:\n",
    "1. Load only the first 10 rows of each set in the dataset.\n",
    "2. Train only one epoch.\n",
    "\n",
    "Git repository: https://github.com/baoguangsheng/g-transformer\n",
    "\n",
    "I have already executed some of the required steps. Now, you should install all required dependencies. Once dependencies are installed, you can re-run any of the pre-executed steps, and finally should successfully run\n",
    "```\n",
    "%cd /content/g-transformer\n",
    "!bash exp_gtrans/run-finetune.sh g-transformer train data\n",
    "!tail data/run-finetune/test.g-transformer.en-de.log\n",
    "```\n",
    "to submit the answer."
   ]
  },
  {
   "cell_type": "markdown",
   "id": "7eed318e",
   "metadata": {},
   "source": [
    "### Step 1"
   ]
  },
  {
   "cell_type": "markdown",
   "id": "0f8347c5",
   "metadata": {},
   "source": [
    "**Thought**: [pre-executed by user]"
   ]
  },
  {
   "cell_type": "markdown",
   "id": "ade3347a",
   "metadata": {},
   "source": [
    "**Action (None)**:"
   ]
  },
  {
   "cell_type": "code",
   "execution_count": null,
   "id": "c123dfcf",
   "metadata": {},
   "outputs": [
    {
     "data": {
      "text/plain": [
       ""
      ]
     },
     "execution_count": null,
     "metadata": {},
     "output_type": "execute_result"
    }
   ],
   "source": [
    "# ## Solution"
   ]
  },
  {
   "cell_type": "markdown",
   "id": "b5e02a26",
   "metadata": {},
   "source": [
    "### Step 2"
   ]
  },
  {
   "cell_type": "markdown",
   "id": "dfa56176",
   "metadata": {},
   "source": [
    "**Thought**: [pre-executed by user]"
   ]
  },
  {
   "cell_type": "markdown",
   "id": "0f9d9340",
   "metadata": {},
   "source": [
    "**Action (None)**:"
   ]
  },
  {
   "cell_type": "code",
   "execution_count": null,
   "id": "c614304e",
   "metadata": {},
   "outputs": [
    {
     "data": {
      "text/plain": [
       ""
      ]
     },
     "execution_count": null,
     "metadata": {},
     "output_type": "execute_result"
    }
   ],
   "source": [
    "# ### Clone repository"
   ]
  },
  {
   "cell_type": "markdown",
   "id": "42fc9054",
   "metadata": {},
   "source": [
    "### Step 3"
   ]
  },
  {
   "cell_type": "markdown",
   "id": "4de4dfba",
   "metadata": {},
   "source": [
    "**Thought**: [pre-executed by user]"
   ]
  },
  {
   "cell_type": "markdown",
   "id": "ff4890d3",
   "metadata": {},
   "source": [
    "**Action (None)**:"
   ]
  },
  {
   "cell_type": "code",
   "execution_count": null,
   "id": "06203002",
   "metadata": {},
   "outputs": [
    {
     "data": {
      "text/plain": [
       "Cloning into 'g-transformer'...\r\nremote: Enumerating objects: 761, done.\u001b[K\r\nremote: Counting objects:   0% (1/151)\u001b[K\rremote: Counting objects:   1% (2/151)\u001b[K\rremote: Counting objects:   2% (4/151)\u001b[K\rremote: Counting objects:   3% (5/151)\u001b[K\rremote: Counting objects:   4% (7/151)\u001b[K\rremote: Counting objects:   5% (8/151)\u001b[K\rremote: Counting objects:   6% (10/151)\u001b[K\rremote: Counting objects:   7% (11/151)\u001b[K\rremote: Counting objects:   8% (13/151)\u001b[K\rremote: Counting objects:   9% (14/151)\u001b[K\rremote: Counting objects:  10% (16/151)\u001b[K\rremote: Counting objects:  11% (17/151)\u001b[K\rremote: Counting objects:  12% (19/151)\u001b[K\rremote: Counting objects:  13% (20/151)\u001b[K\rremote: Counting objects:  14% (22/151)\u001b[K\rremote: Counting objects:  15% (23/151)\u001b[K\rremote: Counting objects:  16% (25/151)\u001b[K\rremote: Counting objects:  17% (26/151)\u001b[K\rremote: Counting objects:  18% (28/151)\u001b[K\rremote: Counting objects:  19% (29/151)\u001b[K\rremote: Counting objects:  20% (31/151)\u001b[K\rremote: Counting objects:  21% (32/151)\u001b[K\rremote: Counting objects:  22% (34/151)\u001b[K\rremote: Counting objects:  23% (35/151)\u001b[K\rremote: Counting objects:  24% (37/151)\u001b[K\rremote: Counting objects:  25% (38/151)\u001b[K\rremote: Counting objects:  26% (40/151)\u001b[K\rremote: Counting objects:  27% (41/151)\u001b[K\rremote: Counting objects:  28% (43/151)\u001b[K\rremote: Counting objects:  29% (44/151)\u001b[K\rremote: Counting objects:  30% (46/151)\u001b[K\rremote: Counting objects:  31% (47/151)\u001b[K\rremote: Counting objects:  32% (49/151)\u001b[K\rremote: Counting objects:  33% (50/151)\u001b[K\rremote: Counting objects:  34% (52/151)\u001b[K\rremote: Counting objects:  35% (53/151)\u001b[K\rremote: Counting objects:  36% (55/151)\u001b[K\rremote: Counting objects:  37% (56/151)\u001b[K\rremote: Counting objects:  38% (58/151)\u001b[K\rremote: Counting objects:  39% (59/151)\u001b[K\rremote: Counting objects:  40% (61/151)\u001b[K\rremote: Counting objects:  41% (62/151)\u001b[K\rremote: Counting objects:  42% (64/151)\u001b[K\rremote: Counting objects:  43% (65/151)\u001b[K\rremote: Counting objects:  44% (67/151)\u001b[K\rremote: Counting objects:  45% (68/151)\u001b[K\rremote: Counting objects:  46% (70/151)\u001b[K\rremote: Counting objects:  47% (71/151)\u001b[K\rremote: Counting objects:  48% (73/151)\u001b[K\rremote: Counting objects:  49% (74/151)\u001b[K\rremote: Counting objects:  50% (76/151)\u001b[K\rremote: Counting objects:  51% (78/151)\u001b[K\rremote: Counting objects:  52% (79/151)\u001b[K\rremote: Counting objects:  53% (81/151)\u001b[K\rremote: Counting objects:  54% (82/151)\u001b[K\rremote: Counting objects:  55% (84/151)\u001b[K\rremote: Counting objects:  56% (85/151)\u001b[K\rremote: Counting objects:  57% (87/151)\u001b[K\rremote: Counting objects:  58% (88/151)\u001b[K\rremote: Counting objects:  59% (90/151)\u001b[K\rremote: Counting objects:  60% (91/151)\u001b[K\rremote: Counting objects:  61% (93/151)\u001b[K\rremote: Counting objects:  62% (94/151)\u001b[K\rremote: Counting objects:  63% (96/151)\u001b[K\rremote: Counting objects:  64% (97/151)\u001b[K\rremote: Counting objects:  65% (99/151)\u001b[K\rremote: Counting objects:  66% (100/151)\u001b[K\rremote: Counting objects:  67% (102/151)\u001b[K\rremote: Counting objects:  68% (103/151)\u001b[K\rremote: Counting objects:  69% (105/151)\u001b[K\rremote: Counting objects:  70% (106/151)\u001b[K\rremote: Counting objects:  71% (108/151)\u001b[K\rremote: Counting objects:  72% (109/151)\u001b[K\rremote: Counting objects:  73% (111/151)\u001b[K\rremote: Counting objects:  74% (112/151)\u001b[K\rremote: Counting objects:  75% (114/151)\u001b[K\rremote: Counting objects:  76% (115/151)\u001b[K\rremote: Counting objects:  77% (117/151)\u001b[K\rremote: Counting objects:  78% (118/151)\u001b[K\rremote: Counting objects:  79% (120/151)\u001b[K\rremote: Counting objects:  80% (121/151)\u001b[K\rremote: Counting objects:  81% (123/151)\u001b[K\rremote: Counting objects:  82% (124/151)\u001b[K\rremote: Counting objects:  83% (126/151)\u001b[K\rremote: Counting objects:  84% (127/151)\u001b[K\rremote: Counting objects:  85% (129/151)\u001b[K\rremote: Counting objects:  86% (130/151)\u001b[K\rremote: Counting objects:  87% (132/151)\u001b[K\rremote: Counting objects:  88% (133/151)\u001b[K\rremote: Counting objects:  89% (135/151)\u001b[K\rremote: Counting objects:  90% (136/151)\u001b[K\rremote: Counting objects:  91% (138/151)\u001b[K\rremote: Counting objects:  92% (139/151)\u001b[K\rremote: Counting objects:  93% (141/151)\u001b[K\rremote: Counting objects:  94% (142/151)\u001b[K\rremote: Counting objects:  95% (144/151)\u001b[K\rremote: Counting objects:  96% (145/151)\u001b[K\rremote: Counting objects:  97% (147/151)\u001b[K\rremote: Counting objects:  98% (148/151)\u001b[K\rremote: Counting objects:  99% (150/151)\u001b[K\rremote: Counting objects: 100% (151/151)\u001b[K\rremote: Counting objects: 100% (151/151), done.\u001b[K\r\nremote: Compressing objects:   1% (1/71)\u001b[K\rremote: Compressing objects:   2% (2/71)\u001b[K\rremote: Compressing objects:   4% (3/71)\u001b[K\rremote: Compressing objects:   5% (4/71)\u001b[K\rremote: Compressing objects:   7% (5/71)\u001b[K\rremote: Compressing objects:   8% (6/71)\u001b[K\rremote: Compressing objects:   9% (7/71)\u001b[K\rremote: Compressing objects:  11% (8/71)\u001b[K\rremote: Compressing objects:  12% (9/71)\u001b[K\rremote: Compressing objects:  14% (10/71)\u001b[K\rremote: Compressing objects:  15% (11/71)\u001b[K\rremote: Compressing objects:  16% (12/71)\u001b[K\rremote: Compressing objects:  18% (13/71)\u001b[K\rremote: Compressing objects:  19% (14/71)\u001b[K\rremote: Compressing objects:  21% (15/71)\u001b[K\rremote: Compressing objects:  22% (16/71)\u001b[K\rremote: Compressing objects:  23% (17/71)\u001b[K\rremote: Compressing objects:  25% (18/71)\u001b[K\rremote: Compressing objects:  26% (19/71)\u001b[K\rremote: Compressing objects:  28% (20/71)\u001b[K\rremote: Compressing objects:  29% (21/71)\u001b[K\rremote: Compressing objects:  30% (22/71)\u001b[K\rremote: Compressing objects:  32% (23/71)\u001b[K\rremote: Compressing objects:  33% (24/71)\u001b[K\rremote: Compressing objects:  35% (25/71)\u001b[K\rremote: Compressing objects:  36% (26/71)\u001b[K\rremote: Compressing objects:  38% (27/71)\u001b[K\rremote: Compressing objects:  39% (28/71)\u001b[K\rremote: Compressing objects:  40% (29/71)\u001b[K\rremote: Compressing objects:  42% (30/71)\u001b[K\rremote: Compressing objects:  43% (31/71)\u001b[K\rremote: Compressing objects:  45% (32/71)\u001b[K\rremote: Compressing objects:  46% (33/71)\u001b[K\rremote: Compressing objects:  47% (34/71)\u001b[K\rremote: Compressing objects:  49% (35/71)\u001b[K\rremote: Compressing objects:  50% (36/71)\u001b[K\rremote: Compressing objects:  52% (37/71)\u001b[K\rremote: Compressing objects:  53% (38/71)\u001b[K\rremote: Compressing objects:  54% (39/71)\u001b[K\rremote: Compressing objects:  56% (40/71)\u001b[K\rremote: Compressing objects:  57% (41/71)\u001b[K\rremote: Compressing objects:  59% (42/71)\u001b[K\rremote: Compressing objects:  60% (43/71)\u001b[K\rremote: Compressing objects:  61% (44/71)\u001b[K\rremote: Compressing objects:  63% (45/71)\u001b[K\rremote: Compressing objects:  64% (46/71)\u001b[K\rremote: Compressing objects:  66% (47/71)\u001b[K\rremote: Compressing objects:  67% (48/71)\u001b[K\rremote: Compressing objects:  69% (49/71)\u001b[K\rremote: Compressing objects:  70% (50/71)\u001b[K\rremote: Compressing objects:  71% (51/71)\u001b[K\rremote: Compressing objects:  73% (52/71)\u001b[K\rremote: Compressing objects:  74% (53/71)\u001b[K\rremote: Compressing objects:  76% (54/71)\u001b[K\rremote: Compressing objects:  77% (55/71)\u001b[K\rremote: Compressing objects:  78% (56/71)\u001b[K\rremote: Compressing objects:  80% (57/71)\u001b[K\rremote: Compressing objects:  81% (58/71)\u001b[K\rremote: Compressing objects:  83% (59/71)\u001b[K\rremote: Compressing objects:  84% (60/71)\u001b[K\rremote: Compressing objects:  85% (61/71)\u001b[K\rremote: Compressing objects:  87% (62/71)\u001b[K\rremote: Compressing objects:  88% (63/71)\u001b[K\rremote: Compressing objects:  90% (64/71)\u001b[K\rremote: Compressing objects:  91% (65/71)\u001b[K\rremote: Compressing objects:  92% (66/71)\u001b[K\rremote: Compressing objects:  94% (67/71)\u001b[K\rremote: Compressing objects:  95% (68/71)\u001b[K\rremote: Compressing objects:  97% (69/71)\u001b[K\rremote: Compressing objects:  98% (70/71)\u001b[K\rremote: Compressing objects: 100% (71/71)\u001b[K\rremote: Compressing objects: 100% (71/71), done.\u001b[K\r\nReceiving objects:   0% (1/761)\rReceiving objects:   1% (8/761)\rReceiving objects:   2% (16/761)\rReceiving objects:   3% (23/761)\rReceiving objects:   4% (31/761)\rReceiving objects:   5% (39/761)\rReceiving objects:   6% (46/761)\rReceiving objects:   7% (54/761)\rReceiving objects:   8% (61/761)\rReceiving objects:   9% (69/761)\rReceiving objects:  10% (77/761)\rReceiving objects:  11% (84/761)\rReceiving objects:  12% (92/761)\rReceiving objects:  13% (99/761)\rReceiving objects:  14% (107/761)\rReceiving objects:  15% (115/761)\rReceiving objects:  16% (122/761)\rReceiving objects:  17% (130/761)\rReceiving objects:  18% (137/761)\rReceiving objects:  19% (145/761)\rReceiving objects:  20% (153/761)\rReceiving objects:  21% (160/761)\rReceiving objects:  22% (168/761)\rReceiving objects:  23% (176/761)\rReceiving objects:  24% (183/761)\rReceiving objects:  25% (191/761)\rReceiving objects:  26% (198/761)\rReceiving objects:  27% (206/761)\rReceiving objects:  28% (214/761)\rReceiving objects:  29% (221/761)\rReceiving objects:  30% (229/761)\rReceiving objects:  31% (236/761)\rReceiving objects:  32% (244/761)\rReceiving objects:  33% (252/761)\rReceiving objects:  34% (259/761)\rReceiving objects:  35% (267/761)\rReceiving objects:  36% (274/761)\rReceiving objects:  37% (282/761)\rReceiving objects:  38% (290/761)\rReceiving objects:  39% (297/761)\rReceiving objects:  40% (305/761)\rReceiving objects:  41% (313/761)\rReceiving objects:  42% (320/761)\rReceiving objects:  43% (328/761)\rReceiving objects:  44% (335/761)\rReceiving objects:  45% (343/761)\rReceiving objects:  46% (351/761)\rReceiving objects:  47% (358/761)\rReceiving objects:  48% (366/761)\rReceiving objects:  49% (373/761)\rReceiving objects:  50% (381/761)\rReceiving objects:  51% (389/761)\rReceiving objects:  52% (396/761)\rReceiving objects:  53% (404/761)\rReceiving objects:  54% (411/761)\rReceiving objects:  55% (419/761)\rReceiving objects:  56% (427/761)\rReceiving objects:  57% (434/761)\rReceiving objects:  58% (442/761)\rReceiving objects:  59% (449/761)\rReceiving objects:  60% (457/761)\rReceiving objects:  61% (465/761)\rReceiving objects:  62% (472/761)\rReceiving objects:  63% (480/761)\rReceiving objects:  64% (488/761)\rReceiving objects:  65% (495/761)\rReceiving objects:  66% (503/761)\rReceiving objects:  67% (510/761)\rReceiving objects:  68% (518/761)\rReceiving objects:  69% (526/761)\rReceiving objects:  70% (533/761)\rReceiving objects:  71% (541/761)\rReceiving objects:  72% (548/761)\rReceiving objects:  73% (556/761)\rReceiving objects:  74% (564/761)\rReceiving objects:  75% (571/761)\rReceiving objects:  76% (579/761)\rReceiving objects:  77% (586/761)\rReceiving objects:  78% (594/761)\rReceiving objects:  79% (602/761)\rReceiving objects:  80% (609/761)\rReceiving objects:  81% (617/761)\rReceiving objects:  82% (625/761)\rReceiving objects:  83% (632/761)\rremote: Total 761 (delta 80), reused 147 (delta 77), pack-reused 610 (from 1)\u001b[K\r\nReceiving objects:  84% (640/761)\rReceiving objects:  85% (647/761)\rReceiving objects:  86% (655/761)\rReceiving objects:  87% (663/761)\rReceiving objects:  88% (670/761)\rReceiving objects:  89% (678/761)\rReceiving objects:  90% (685/761)\rReceiving objects:  91% (693/761)\rReceiving objects:  92% (701/761)\rReceiving objects:  93% (708/761)\rReceiving objects:  94% (716/761)\rReceiving objects:  95% (723/761)\rReceiving objects:  96% (731/761)\rReceiving objects:  97% (739/761)\rReceiving objects:  98% (746/761)\rReceiving objects:  99% (754/761)\rReceiving objects: 100% (761/761)\rReceiving objects: 100% (761/761), 3.03 MiB | 39.72 MiB/s, done.\r\nResolving deltas:   0% (0/186)\rResolving deltas:   1% (2/186)\rResolving deltas:   2% (4/186)\rResolving deltas:   3% (7/186)\rResolving deltas:   4% (8/186)\rResolving deltas:   5% (10/186)\rResolving deltas:   6% (12/186)\rResolving deltas:   7% (14/186)\rResolving deltas:   8% (15/186)\rResolving deltas:   9% (17/186)\rResolving deltas:  10% (19/186)\rResolving deltas:  11% (21/186)\rResolving deltas:  12% (23/186)\rResolving deltas:  13% (25/186)\rResolving deltas:  14% (27/186)\rResolving deltas:  15% (28/186)\rResolving deltas:  16% (30/186)\rResolving deltas:  17% (32/186)\rResolving deltas:  18% (34/186)\rResolving deltas:  19% (36/186)\rResolving deltas:  20% (38/186)\rResolving deltas:  21% (40/186)\rResolving deltas:  22% (41/186)\rResolving deltas:  23% (43/186)\rResolving deltas:  24% (45/186)\rResolving deltas:  25% (47/186)\rResolving deltas:  26% (49/186)\rResolving deltas:  27% (51/186)\rResolving deltas:  28% (53/186)\rResolving deltas:  29% (54/186)\rResolving deltas:  30% (56/186)\rResolving deltas:  31% (58/186)\rResolving deltas:  32% (60/186)\rResolving deltas:  33% (62/186)\rResolving deltas:  34% (64/186)\rResolving deltas:  35% (66/186)\rResolving deltas:  36% (67/186)\rResolving deltas:  37% (69/186)\rResolving deltas:  38% (71/186)\rResolving deltas:  39% (73/186)\rResolving deltas:  40% (75/186)\rResolving deltas:  41% (77/186)\rResolving deltas:  42% (79/186)\rResolving deltas:  43% (80/186)\rResolving deltas:  44% (82/186)\rResolving deltas:  45% (84/186)\rResolving deltas:  46% (86/186)\rResolving deltas:  47% (88/186)\rResolving deltas:  48% (90/186)\rResolving deltas:  49% (92/186)\rResolving deltas:  50% (93/186)\rResolving deltas:  51% (95/186)\rResolving deltas:  52% (97/186)\rResolving deltas:  53% (99/186)\rResolving deltas:  54% (101/186)\rResolving deltas:  55% (103/186)\rResolving deltas:  56% (105/186)\rResolving deltas:  57% (107/186)\rResolving deltas:  58% (108/186)\rResolving deltas:  59% (110/186)\rResolving deltas:  60% (113/186)\rResolving deltas:  61% (114/186)\rResolving deltas:  62% (116/186)\rResolving deltas:  63% (118/186)\rResolving deltas:  64% (120/186)\rResolving deltas:  65% (121/186)\rResolving deltas:  66% (123/186)\rResolving deltas:  67% (125/186)\rResolving deltas:  68% (127/186)\rResolving deltas:  69% (129/186)\rResolving deltas:  70% (131/186)\rResolving deltas:  71% (133/186)\rResolving deltas:  72% (134/186)\rResolving deltas:  73% (136/186)\rResolving deltas:  74% (138/186)\rResolving deltas:  75% (140/186)\rResolving deltas:  76% (142/186)\rResolving deltas:  77% (144/186)\rResolving deltas:  78% (146/186)\rResolving deltas:  79% (147/186)\rResolving deltas:  80% (149/186)\rResolving deltas:  81% (151/186)\rResolving deltas:  82% (153/186)\rResolving deltas:  83% (155/186)\rResolving deltas:  84% (157/186)\rResolving deltas:  85% (159/186)\rResolving deltas:  86% (160/186)\rResolving deltas:  87% (163/186)\rResolving deltas:  88% (164/186)\rResolving deltas:  89% (166/186)\rResolving deltas:  90% (168/186)\rResolving deltas:  91% (170/186)\rResolving deltas:  92% (172/186)\rResolving deltas:  93% (173/186)\rResolving deltas:  94% (175/186)\rResolving deltas:  95% (177/186)\rResolving deltas:  96% (179/186)\rResolving deltas:  97% (181/186)\rResolving deltas:  98% (183/186)\rResolving deltas:  99% (185/186)\rResolving deltas: 100% (186/186)\rResolving deltas: 100% (186/186), done.\r\n"
      ]
     },
     "execution_count": null,
     "metadata": {},
     "output_type": "execute_result"
    }
   ],
   "source": [
    "!git clone https://github.com/baoguangsheng/g-transformer.git"
   ]
  },
  {
   "cell_type": "markdown",
   "id": "ce3f8a96",
   "metadata": {},
   "source": [
    "### Step 4"
   ]
  },
  {
   "cell_type": "markdown",
   "id": "027a6182",
   "metadata": {},
   "source": [
    "**Thought**: [pre-executed by user]"
   ]
  },
  {
   "cell_type": "markdown",
   "id": "3985fe8a",
   "metadata": {},
   "source": [
    "**Action (None)**:"
   ]
  },
  {
   "cell_type": "code",
   "execution_count": null,
   "id": "488f8fb3",
   "metadata": {},
   "outputs": [
    {
     "data": {
      "text/plain": [
       "/content/g-transformer\n/usr/local/lib/python3.10/site-packages/IPython/core/magics/osm.py:417: UserWarning: This is now an optional IPython functionality, setting dhist requires you to install the `pickleshare` library.\n  self.shell.db['dhist'] = compress_dhist(dhist)[-100:]\n"
      ]
     },
     "execution_count": null,
     "metadata": {},
     "output_type": "execute_result"
    }
   ],
   "source": [
    "%cd /content/g-transformer"
   ]
  },
  {
   "cell_type": "markdown",
   "id": "f1705a44",
   "metadata": {},
   "source": [
    "### Step 5"
   ]
  },
  {
   "cell_type": "markdown",
   "id": "5b7c198b",
   "metadata": {},
   "source": [
    "**Thought**: [pre-executed by user]"
   ]
  },
  {
   "cell_type": "markdown",
   "id": "fb9a7e95",
   "metadata": {},
   "source": [
    "**Action (None)**:"
   ]
  },
  {
   "cell_type": "code",
   "execution_count": null,
   "id": "75f656aa",
   "metadata": {},
   "outputs": [
    {
     "data": {
      "text/plain": [
       ""
      ]
     },
     "execution_count": null,
     "metadata": {},
     "output_type": "execute_result"
    }
   ],
   "source": [
    "# ### Install dependencies"
   ]
  },
  {
   "cell_type": "markdown",
   "id": "00efb600",
   "metadata": {},
   "source": [
    "### Step 6"
   ]
  },
  {
   "cell_type": "markdown",
   "id": "044c2c46",
   "metadata": {},
   "source": [
    "**Thought**: [pre-executed by user]"
   ]
  },
  {
   "cell_type": "markdown",
   "id": "21410b4a",
   "metadata": {},
   "source": [
    "**Action (None)**:"
   ]
  },
  {
   "cell_type": "code",
   "execution_count": null,
   "id": "20d29297",
   "metadata": {},
   "outputs": [
    {
     "data": {
      "text/plain": [
       ""
      ]
     },
     "execution_count": null,
     "metadata": {},
     "output_type": "execute_result"
    }
   ],
   "source": [
    "# Attempt to run code for perparating data"
   ]
  },
  {
   "cell_type": "markdown",
   "id": "0916932b",
   "metadata": {},
   "source": [
    "### Step 7"
   ]
  },
  {
   "cell_type": "markdown",
   "id": "1cdbea9a",
   "metadata": {},
   "source": [
    "**Thought**: [pre-executed by user]"
   ]
  },
  {
   "cell_type": "markdown",
   "id": "94edf891",
   "metadata": {},
   "source": [
    "**Action (None)**:"
   ]
  },
  {
   "cell_type": "code",
   "execution_count": null,
   "id": "4bde1e8e",
   "metadata": {},
   "outputs": [
    {
     "data": {
      "text/plain": [
       ""
      ]
     },
     "execution_count": null,
     "metadata": {},
     "output_type": "execute_result"
    }
   ],
   "source": [
    "# ## Preparing data"
   ]
  },
  {
   "cell_type": "markdown",
   "id": "dae237bb",
   "metadata": {},
   "source": [
    "### Step 8"
   ]
  },
  {
   "cell_type": "markdown",
   "id": "b2b901ac",
   "metadata": {},
   "source": [
    "**Thought**: [pre-executed by user]"
   ]
  },
  {
   "cell_type": "markdown",
   "id": "1fb73511",
   "metadata": {},
   "source": [
    "**Action (None)**:"
   ]
  },
  {
   "cell_type": "code",
   "execution_count": null,
   "id": "cf8b5d3c",
   "metadata": {},
   "outputs": [
    {
     "data": {
      "text/plain": [
       ""
      ]
     },
     "execution_count": null,
     "metadata": {},
     "output_type": "execute_result"
    }
   ],
   "source": [
    "# ### Download data"
   ]
  },
  {
   "cell_type": "markdown",
   "id": "441c1818",
   "metadata": {},
   "source": [
    "### Step 9"
   ]
  },
  {
   "cell_type": "markdown",
   "id": "288fbcc5",
   "metadata": {},
   "source": [
    "**Thought**: [pre-executed by user]"
   ]
  },
  {
   "cell_type": "markdown",
   "id": "efb1da6a",
   "metadata": {},
   "source": [
    "**Action (None)**:"
   ]
  },
  {
   "cell_type": "code",
   "execution_count": null,
   "id": "808cf6a6",
   "metadata": {},
   "outputs": [
    {
     "data": {
      "text/plain": [
       "Requirement already satisfied: gdown in /usr/local/lib/python3.10/site-packages (5.1.0)\r\nCollecting gdown\r\n  Downloading gdown-5.2.0-py3-none-any.whl.metadata (5.8 kB)\r\nRequirement already satisfied: beautifulsoup4 in /usr/local/lib/python3.10/site-packages (from gdown) (4.12.3)\r\nRequirement already satisfied: filelock in /usr/local/lib/python3.10/site-packages (from gdown) (3.15.1)\r\nRequirement already satisfied: requests[socks] in /usr/local/lib/python3.10/site-packages (from gdown) (2.31.0)\r\nRequirement already satisfied: tqdm in /usr/local/lib/python3.10/site-packages (from gdown) (4.66.4)\r\nRequirement already satisfied: soupsieve>1.2 in /usr/local/lib/python3.10/site-packages (from beautifulsoup4->gdown) (2.5)\r\nRequirement already satisfied: charset-normalizer<4,>=2 in /usr/local/lib/python3.10/site-packages (from requests[socks]->gdown) (2.1.1)\r\nRequirement already satisfied: idna<4,>=2.5 in /usr/local/lib/python3.10/site-packages (from requests[socks]->gdown) (3.7)\r\nRequirement already satisfied: urllib3<3,>=1.21.1 in /usr/local/lib/python3.10/site-packages (from requests[socks]->gdown) (2.0.7)\r\nRequirement already satisfied: certifi>=2017.4.17 in /usr/local/lib/python3.10/site-packages (from requests[socks]->gdown) (2024.6.2)\r\nRequirement already satisfied: PySocks!=1.5.7,>=1.5.6 in /usr/local/lib/python3.10/site-packages (from requests[socks]->gdown) (1.7.1)\r\nDownloading gdown-5.2.0-py3-none-any.whl (18 kB)\r\nInstalling collected packages: gdown\r\n  Attempting uninstall: gdown\r\n    Found existing installation: gdown 5.1.0\r\n    Uninstalling gdown-5.1.0:\r\n      Successfully uninstalled gdown-5.1.0\r\nSuccessfully installed gdown-5.2.0\r\n\r\n\u001b[1m[\u001b[0m\u001b[34;49mnotice\u001b[0m\u001b[1;39;49m]\u001b[0m\u001b[39;49m A new release of pip is available: \u001b[0m\u001b[31;49m24.0\u001b[0m\u001b[39;49m -> \u001b[0m\u001b[32;49m24.2\u001b[0m\r\n\u001b[1m[\u001b[0m\u001b[34;49mnotice\u001b[0m\u001b[1;39;49m]\u001b[0m\u001b[39;49m To update, run: \u001b[0m\u001b[32;49mpip install --upgrade pip\u001b[0m\r\n"
      ]
     },
     "execution_count": null,
     "metadata": {},
     "output_type": "execute_result"
    }
   ],
   "source": [
    "!# use gdown to download files\n",
    "!pip install gdown --upgrade"
   ]
  },
  {
   "cell_type": "markdown",
   "id": "2b7ad2f7",
   "metadata": {},
   "source": [
    "### Step 10"
   ]
  },
  {
   "cell_type": "markdown",
   "id": "e38c9946",
   "metadata": {},
   "source": [
    "**Thought**: [pre-executed by user]"
   ]
  },
  {
   "cell_type": "markdown",
   "id": "d1992f62",
   "metadata": {},
   "source": [
    "**Action (None)**:"
   ]
  },
  {
   "cell_type": "code",
   "execution_count": null,
   "id": "1d7d24f4",
   "metadata": {},
   "outputs": [
    {
     "data": {
      "text/plain": [
       "/usr/local/lib/python3.10/site-packages/IPython/core/magics/osm.py:417: UserWarning: This is now an optional IPython functionality, setting dhist requires you to install the `pickleshare` library.\n  self.shell.db['dhist'] = compress_dhist(dhist)[-100:]\nRetrieving folder contents\n/content/g-transformer/raw_data\nProcessing file 138-yMWU1fh7fnpikRPYLjN7SH6khVCqz de_dev.txt\nProcessing file 14hwJWO5J_2pDNmCRYuPvnzdthfy9AQRZ de_test.txt\nProcessing file 1fXu1u4Im2B0t_HNQNxSssdIh-fu1ezFt de_train.txt\nProcessing file 1vkLr8aM2xaPVjEVIbm4Yj5Tc73qs1jwR en_dev.txt\nProcessing file 1SwSf98ctYohXe-PRTQCBqJItip69TD2S en_test.txt\nProcessing file 12wTfUJ98St3IX9YIrKi52KZHifN_0jfA en_train.txt\nRetrieving folder contents completed\nBuilding directory structure\nBuilding directory structure completed\nDownloading...\nFrom: https://drive.google.com/uc?id=138-yMWU1fh7fnpikRPYLjN7SH6khVCqz\nTo: /content/g-transformer/raw_data/g-transformer/de_dev.txt\n\r  0%|          | 0.00/8.01k [00:00<?, ?B/s]\r100%|██████████| 8.01k/8.01k [00:00<00:00, 15.7MB/s]\nDownloading...\nFrom: https://drive.google.com/uc?id=14hwJWO5J_2pDNmCRYuPvnzdthfy9AQRZ\nTo: /content/g-transformer/raw_data/g-transformer/de_test.txt\n\r  0%|          | 0.00/8.96k [00:00<?, ?B/s]\r100%|██████████| 8.96k/8.96k [00:00<00:00, 19.7MB/s]\nDownloading...\nFrom: https://drive.google.com/uc?id=1fXu1u4Im2B0t_HNQNxSssdIh-fu1ezFt\nTo: /content/g-transformer/raw_data/g-transformer/de_train.txt\n\r  0%|          | 0.00/1.69k [00:00<?, ?B/s]\r100%|██████████| 1.69k/1.69k [00:00<00:00, 8.37MB/s]\nDownloading...\nFrom: https://drive.google.com/uc?id=1vkLr8aM2xaPVjEVIbm4Yj5Tc73qs1jwR\nTo: /content/g-transformer/raw_data/g-transformer/en_dev.txt\n\r  0%|          | 0.00/6.46k [00:00<?, ?B/s]\r100%|██████████| 6.46k/6.46k [00:00<00:00, 13.8MB/s]\nDownloading...\nFrom: https://drive.google.com/uc?id=1SwSf98ctYohXe-PRTQCBqJItip69TD2S\nTo: /content/g-transformer/raw_data/g-transformer/en_test.txt\n\r  0%|          | 0.00/7.65k [00:00<?, ?B/s]\r100%|██████████| 7.65k/7.65k [00:00<00:00, 28.7MB/s]\nDownloading...\nFrom: https://drive.google.com/uc?id=12wTfUJ98St3IX9YIrKi52KZHifN_0jfA\nTo: /content/g-transformer/raw_data/g-transformer/en_train.txt\n\r  0%|          | 0.00/1.51k [00:00<?, ?B/s]\r100%|██████████| 1.51k/1.51k [00:00<00:00, 4.19MB/s]\nDownload completed\n['/content/g-transformer/raw_data/g-transformer/de_dev.txt',\n '/content/g-transformer/raw_data/g-transformer/de_test.txt',\n '/content/g-transformer/raw_data/g-transformer/de_train.txt',\n '/content/g-transformer/raw_data/g-transformer/en_dev.txt',\n '/content/g-transformer/raw_data/g-transformer/en_test.txt',\n '/content/g-transformer/raw_data/g-transformer/en_train.txt']"
      ]
     },
     "execution_count": null,
     "metadata": {},
     "output_type": "execute_result"
    }
   ],
   "source": [
    "import gdown\n",
    "from pathlib import Path\n",
    "\n",
    "Path(\"/content/g-transformer/raw_data\").mkdir(exist_ok=True)\n",
    "\n",
    "%cd /content/g-transformer/raw_data\n",
    "gdown.download_folder(\"https://drive.google.com/drive/folders/1pmFy4R9cjgmIxi94qZbJVVza51rQpzNX\")"
   ]
  },
  {
   "cell_type": "markdown",
   "id": "48470876",
   "metadata": {},
   "source": [
    "### Step 11"
   ]
  },
  {
   "cell_type": "markdown",
   "id": "4e870a0d",
   "metadata": {},
   "source": [
    "**Thought**: [pre-executed by user]"
   ]
  },
  {
   "cell_type": "markdown",
   "id": "37acf200",
   "metadata": {},
   "source": [
    "**Action (None)**:"
   ]
  },
  {
   "cell_type": "code",
   "execution_count": null,
   "id": "9df8b21b",
   "metadata": {},
   "outputs": [
    {
     "data": {
      "text/plain": [
       ""
      ]
     },
     "execution_count": null,
     "metadata": {},
     "output_type": "execute_result"
    }
   ],
   "source": [
    "# ### Rename datasets\n",
    "# \n",
    "# Script `prepare-finetune.sh` expects a different datafile naming"
   ]
  },
  {
   "cell_type": "markdown",
   "id": "903e7163",
   "metadata": {},
   "source": [
    "### Step 12"
   ]
  },
  {
   "cell_type": "markdown",
   "id": "8fff2d3f",
   "metadata": {},
   "source": [
    "**Thought**: [pre-executed by user]"
   ]
  },
  {
   "cell_type": "markdown",
   "id": "1b64738a",
   "metadata": {},
   "source": [
    "**Action (None)**:"
   ]
  },
  {
   "cell_type": "code",
   "execution_count": null,
   "id": "c48bc2ac",
   "metadata": {},
   "outputs": [
    {
     "data": {
      "text/plain": [
       "/content/g-transformer/raw_data/g-transformer\n/usr/local/lib/python3.10/site-packages/IPython/core/magics/osm.py:417: UserWarning: This is now an optional IPython functionality, setting dhist requires you to install the `pickleshare` library.\n  self.shell.db['dhist'] = compress_dhist(dhist)[-100:]\n"
      ]
     },
     "execution_count": null,
     "metadata": {},
     "output_type": "execute_result"
    }
   ],
   "source": [
    "%cd /content/g-transformer/raw_data/g-transformer\n",
    "!cp en_train.txt concatenated_en2de_train_en.txt\n",
    "!cp de_train.txt concatenated_en2de_train_de.txt\n",
    "!cp en_dev.txt concatenated_en2de_dev_en.txt\n",
    "!cp de_dev.txt concatenated_en2de_dev_de.txt\n",
    "!cp en_test.txt concatenated_en2de_test_en.txt\n",
    "!cp de_test.txt concatenated_en2de_test_de.txt"
   ]
  },
  {
   "cell_type": "markdown",
   "id": "c3a24190",
   "metadata": {},
   "source": [
    "### Step 13"
   ]
  },
  {
   "cell_type": "markdown",
   "id": "b6c4ebb3",
   "metadata": {},
   "source": [
    "**Thought**: [pre-executed by user]"
   ]
  },
  {
   "cell_type": "markdown",
   "id": "529d53f4",
   "metadata": {},
   "source": [
    "**Action (None)**:"
   ]
  },
  {
   "cell_type": "code",
   "execution_count": null,
   "id": "38f5a651",
   "metadata": {},
   "outputs": [
    {
     "data": {
      "text/plain": [
       "/content/g-transformer\nrm: cannot remove 'data/g-*': No such file or directory\r\n/usr/local/lib/python3.10/site-packages/IPython/core/magics/osm.py:417: UserWarning: This is now an optional IPython functionality, setting dhist requires you to install the `pickleshare` library.\n  self.shell.db['dhist'] = compress_dhist(dhist)[-100:]\nThu Aug 22 04:48:31 UTC 2024, exp_path: data, data: g-transformer, input: doc, code: bpe, slang: en, tlang: de\r\nThu Aug 22 04:48:31 UTC 2024, Prepraring data...\r\nCloning Moses github repository (for tokenization scripts)...\r\nCloning into 'mosesdecoder'...\r\nremote: Enumerating objects: 148459, done.\u001b[K\r\nremote: Counting objects:   0% (1/887)\u001b[K\rremote: Counting objects:   1% (9/887)\u001b[K\rremote: Counting objects:   2% (18/887)\u001b[K\rremote: Counting objects:   3% (27/887)\u001b[K\rremote: Counting objects:   4% (36/887)\u001b[K\rremote: Counting objects:   5% (45/887)\u001b[K\rremote: Counting objects:   6% (54/887)\u001b[K\rremote: Counting objects:   7% (63/887)\u001b[K\rremote: Counting objects:   8% (71/887)\u001b[K\rremote: Counting objects:   9% (80/887)\u001b[K\rremote: Counting objects:  10% (89/887)\u001b[K\rremote: Counting objects:  11% (98/887)\u001b[K\rremote: Counting objects:  12% (107/887)\u001b[K\rremote: Counting objects:  13% (116/887)\u001b[K\rremote: Counting objects:  14% (125/887)\u001b[K\rremote: Counting objects:  15% (134/887)\u001b[K\rremote: Counting objects:  16% (142/887)\u001b[K\rremote: Counting objects:  17% (151/887)\u001b[K\rremote: Counting objects:  18% (160/887)\u001b[K\rremote: Counting objects:  19% (169/887)\u001b[K\rremote: Counting objects:  20% (178/887)\u001b[K\rremote: Counting objects:  21% (187/887)\u001b[K\rremote: Counting objects:  22% (196/887)\u001b[K\rremote: Counting objects:  23% (205/887)\u001b[K\rremote: Counting objects:  24% (213/887)\u001b[K\rremote: Counting objects:  25% (222/887)\u001b[K\rremote: Counting objects:  26% (231/887)\u001b[K\rremote: Counting objects:  27% (240/887)\u001b[K\rremote: Counting objects:  28% (249/887)\u001b[K\rremote: Counting objects:  29% (258/887)\u001b[K\rremote: Counting objects:  30% (267/887)\u001b[K\rremote: Counting objects:  31% (275/887)\u001b[K\rremote: Counting objects:  32% (284/887)\u001b[K\rremote: Counting objects:  33% (293/887)\u001b[K\rremote: Counting objects:  34% (302/887)\u001b[K\rremote: Counting objects:  35% (311/887)\u001b[K\rremote: Counting objects:  36% (320/887)\u001b[K\rremote: Counting objects:  37% (329/887)\u001b[K\rremote: Counting objects:  38% (338/887)\u001b[K\rremote: Counting objects:  39% (346/887)\u001b[K\rremote: Counting objects:  40% (355/887)\u001b[K\rremote: Counting objects:  41% (364/887)\u001b[K\rremote: Counting objects:  42% (373/887)\u001b[K\rremote: Counting objects:  43% (382/887)\u001b[K\rremote: Counting objects:  44% (391/887)\u001b[K\rremote: Counting objects:  45% (400/887)\u001b[K\rremote: Counting objects:  46% (409/887)\u001b[K\rremote: Counting objects:  47% (417/887)\u001b[K\rremote: Counting objects:  48% (426/887)\u001b[K\rremote: Counting objects:  49% (435/887)\u001b[K\rremote: Counting objects:  50% (444/887)\u001b[K\rremote: Counting objects:  51% (453/887)\u001b[K\rremote: Counting objects:  52% (462/887)\u001b[K\rremote: Counting objects:  53% (471/887)\u001b[K\rremote: Counting objects:  54% (479/887)\u001b[K\rremote: Counting objects:  55% (488/887)\u001b[K\rremote: Counting objects:  56% (497/887)\u001b[K\rremote: Counting objects:  57% (506/887)\u001b[K\rremote: Counting objects:  58% (515/887)\u001b[K\rremote: Counting objects:  59% (524/887)\u001b[K\rremote: Counting objects:  60% (533/887)\u001b[K\rremote: Counting objects:  61% (542/887)\u001b[K\rremote: Counting objects:  62% (550/887)\u001b[K\rremote: Counting objects:  63% (559/887)\u001b[K\rremote: Counting objects:  64% (568/887)\u001b[K\rremote: Counting objects:  65% (577/887)\u001b[K\rremote: Counting objects:  66% (586/887)\u001b[K\rremote: Counting objects:  67% (595/887)\u001b[K\rremote: Counting objects:  68% (604/887)\u001b[K\rremote: Counting objects:  69% (613/887)\u001b[K\rremote: Counting objects:  70% (621/887)\u001b[K\rremote: Counting objects:  71% (630/887)\u001b[K\rremote: Counting objects:  72% (639/887)\u001b[K\rremote: Counting objects:  73% (648/887)\u001b[K\rremote: Counting objects:  74% (657/887)\u001b[K\rremote: Counting objects:  75% (666/887)\u001b[K\rremote: Counting objects:  76% (675/887)\u001b[K\rremote: Counting objects:  77% (683/887)\u001b[K\rremote: Counting objects:  78% (692/887)\u001b[K\rremote: Counting objects:  79% (701/887)\u001b[K\rremote: Counting objects:  80% (710/887)\u001b[K\rremote: Counting objects:  81% (719/887)\u001b[K\rremote: Counting objects:  82% (728/887)\u001b[K\rremote: Counting objects:  83% (737/887)\u001b[K\rremote: Counting objects:  84% (746/887)\u001b[K\rremote: Counting objects:  85% (754/887)\u001b[K\rremote: Counting objects:  86% (763/887)\u001b[K\rremote: Counting objects:  87% (772/887)\u001b[K\rremote: Counting objects:  88% (781/887)\u001b[K\rremote: Counting objects:  89% (790/887)\u001b[K\rremote: Counting objects:  90% (799/887)\u001b[K\rremote: Counting objects:  91% (808/887)\u001b[K\rremote: Counting objects:  92% (817/887)\u001b[K\rremote: Counting objects:  93% (825/887)\u001b[K\rremote: Counting objects:  94% (834/887)\u001b[K\rremote: Counting objects:  95% (843/887)\u001b[K\rremote: Counting objects:  96% (852/887)\u001b[K\rremote: Counting objects:  97% (861/887)\u001b[K\rremote: Counting objects:  98% (870/887)\u001b[K\rremote: Counting objects:  99% (879/887)\u001b[K\rremote: Counting objects: 100% (887/887)\u001b[K\rremote: Counting objects: 100% (887/887), done.\u001b[K\r\nremote: Compressing objects:   0% (1/366)\u001b[K\rremote: Compressing objects:   1% (4/366)\u001b[K\rremote: Compressing objects:   2% (8/366)\u001b[K\rremote: Compressing objects:   3% (11/366)\u001b[K\rremote: Compressing objects:   4% (15/366)\u001b[K\rremote: Compressing objects:   5% (19/366)\u001b[K\rremote: Compressing objects:   6% (22/366)\u001b[K\rremote: Compressing objects:   7% (26/366)\u001b[K\rremote: Compressing objects:   8% (30/366)\u001b[K\rremote: Compressing objects:   9% (33/366)\u001b[K\rremote: Compressing objects:  10% (37/366)\u001b[K\rremote: Compressing objects:  11% (41/366)\u001b[K\rremote: Compressing objects:  12% (44/366)\u001b[K\rremote: Compressing objects:  13% (48/366)\u001b[K\rremote: Compressing objects:  14% (52/366)\u001b[K\rremote: Compressing objects:  15% (55/366)\u001b[K\rremote: Compressing objects:  16% (59/366)\u001b[K\rremote: Compressing objects:  17% (63/366)\u001b[K\rremote: Compressing objects:  18% (66/366)\u001b[K\rremote: Compressing objects:  19% (70/366)\u001b[K\rremote: Compressing objects:  20% (74/366)\u001b[K\rremote: Compressing objects:  21% (77/366)\u001b[K\rremote: Compressing objects:  22% (81/366)\u001b[K\rremote: Compressing objects:  23% (85/366)\u001b[K\rremote: Compressing objects:  24% (88/366)\u001b[K\rremote: Compressing objects:  25% (92/366)\u001b[K\rremote: Compressing objects:  26% (96/366)\u001b[K\rremote: Compressing objects:  27% (99/366)\u001b[K\rremote: Compressing objects:  28% (103/366)\u001b[K\rremote: Compressing objects:  29% (107/366)\u001b[K\rremote: Compressing objects:  30% (110/366)\u001b[K\rremote: Compressing objects:  31% (114/366)\u001b[K\rremote: Compressing objects:  32% (118/366)\u001b[K\rremote: Compressing objects:  33% (121/366)\u001b[K\rremote: Compressing objects:  34% (125/366)\u001b[K\rremote: Compressing objects:  35% (129/366)\u001b[K\rremote: Compressing objects:  36% (132/366)\u001b[K\rremote: Compressing objects:  37% (136/366)\u001b[K\rremote: Compressing objects:  38% (140/366)\u001b[K\rremote: Compressing objects:  39% (143/366)\u001b[K\rremote: Compressing objects:  40% (147/366)\u001b[K\rremote: Compressing objects:  41% (151/366)\u001b[K\rremote: Compressing objects:  42% (154/366)\u001b[K\rremote: Compressing objects:  43% (158/366)\u001b[K\rremote: Compressing objects:  44% (162/366)\u001b[K\rremote: Compressing objects:  45% (165/366)\u001b[K\rremote: Compressing objects:  46% (169/366)\u001b[K\rremote: Compressing objects:  47% (173/366)\u001b[K\rremote: Compressing objects:  48% (176/366)\u001b[K\rremote: Compressing objects:  49% (180/366)\u001b[K\rremote: Compressing objects:  50% (183/366)\u001b[K\rremote: Compressing objects:  51% (187/366)\u001b[K\rremote: Compressing objects:  52% (191/366)\u001b[K\rremote: Compressing objects:  53% (194/366)\u001b[K\rremote: Compressing objects:  54% (198/366)\u001b[K\rremote: Compressing objects:  55% (202/366)\u001b[K\rremote: Compressing objects:  56% (205/366)\u001b[K\rremote: Compressing objects:  57% (209/366)\u001b[K\rremote: Compressing objects:  58% (213/366)\u001b[K\rremote: Compressing objects:  59% (216/366)\u001b[K\rremote: Compressing objects:  60% (220/366)\u001b[K\rremote: Compressing objects:  61% (224/366)\u001b[K\rremote: Compressing objects:  62% (227/366)\u001b[K\rremote: Compressing objects:  63% (231/366)\u001b[K\rremote: Compressing objects:  64% (235/366)\u001b[K\rremote: Compressing objects:  65% (238/366)\u001b[K\rremote: Compressing objects:  66% (242/366)\u001b[K\rremote: Compressing objects:  67% (246/366)\u001b[K\rremote: Compressing objects:  68% (249/366)\u001b[K\rremote: Compressing objects:  69% (253/366)\u001b[K\rremote: Compressing objects:  70% (257/366)\u001b[K\rremote: Compressing objects:  71% (260/366)\u001b[K\rremote: Compressing objects:  72% (264/366)\u001b[K\rremote: Compressing objects:  73% (268/366)\u001b[K\rremote: Compressing objects:  74% (271/366)\u001b[K\rremote: Compressing objects:  75% (275/366)\u001b[K\rremote: Compressing objects:  76% (279/366)\u001b[K\rremote: Compressing objects:  77% (282/366)\u001b[K\rremote: Compressing objects:  78% (286/366)\u001b[K\rremote: Compressing objects:  79% (290/366)\u001b[K\rremote: Compressing objects:  80% (293/366)\u001b[K\rremote: Compressing objects:  81% (297/366)\u001b[K\rremote: Compressing objects:  82% (301/366)\u001b[K\rremote: Compressing objects:  83% (304/366)\u001b[K\rremote: Compressing objects:  84% (308/366)\u001b[K\rremote: Compressing objects:  85% (312/366)\u001b[K\rremote: Compressing objects:  86% (315/366)\u001b[K\rremote: Compressing objects:  87% (319/366)\u001b[K\rremote: Compressing objects:  88% (323/366)\u001b[K\rremote: Compressing objects:  89% (326/366)\u001b[K\rremote: Compressing objects:  90% (330/366)\u001b[K\rremote: Compressing objects:  91% (334/366)\u001b[K\rremote: Compressing objects:  92% (337/366)\u001b[K\rremote: Compressing objects:  93% (341/366)\u001b[K\rremote: Compressing objects:  94% (345/366)\u001b[K\rremote: Compressing objects:  95% (348/366)\u001b[K\rremote: Compressing objects:  96% (352/366)\u001b[K\rremote: Compressing objects:  97% (356/366)\u001b[K\rremote: Compressing objects:  98% (359/366)\u001b[K\rremote: Compressing objects:  99% (363/366)\u001b[K\rremote: Compressing objects: 100% (366/366)\u001b[K\rremote: Compressing objects: 100% (366/366), done.\u001b[K\r\nReceiving objects:   0% (1/148459)\rReceiving objects:   1% (1485/148459)\rReceiving objects:   2% (2970/148459)\rReceiving objects:   3% (4454/148459)\rReceiving objects:   4% (5939/148459)\rReceiving objects:   5% (7423/148459)\rReceiving objects:   6% (8908/148459)\rReceiving objects:   7% (10393/148459)\rReceiving objects:   8% (11877/148459)\rReceiving objects:   9% (13362/148459)\rReceiving objects:  10% (14846/148459)\rReceiving objects:  11% (16331/148459)\rReceiving objects:  12% (17816/148459)\rReceiving objects:  13% (19300/148459)\rReceiving objects:  14% (20785/148459)\rReceiving objects:  15% (22269/148459)\rReceiving objects:  16% (23754/148459)\rReceiving objects:  17% (25239/148459)\rReceiving objects:  18% (26723/148459), 14.35 MiB | 28.69 MiB/s\rReceiving objects:  19% (28208/148459), 14.35 MiB | 28.69 MiB/s\rReceiving objects:  20% (29692/148459), 14.35 MiB | 28.69 MiB/s\rReceiving objects:  21% (31177/148459), 14.35 MiB | 28.69 MiB/s\rReceiving objects:  22% (32661/148459), 14.35 MiB | 28.69 MiB/s\rReceiving objects:  23% (34146/148459), 14.35 MiB | 28.69 MiB/s\rReceiving objects:  24% (35631/148459), 14.35 MiB | 28.69 MiB/s\rReceiving objects:  25% (37115/148459), 14.35 MiB | 28.69 MiB/s\rReceiving objects:  26% (38600/148459), 14.35 MiB | 28.69 MiB/s\rReceiving objects:  27% (40084/148459), 14.35 MiB | 28.69 MiB/s\rReceiving objects:  28% (41569/148459), 14.35 MiB | 28.69 MiB/s\rReceiving objects:  28% (42381/148459), 31.19 MiB | 31.18 MiB/s\rReceiving objects:  29% (43054/148459), 31.19 MiB | 31.18 MiB/s\rReceiving objects:  30% (44538/148459), 31.19 MiB | 31.18 MiB/s\rReceiving objects:  31% (46023/148459), 31.19 MiB | 31.18 MiB/s\rReceiving objects:  32% (47507/148459), 31.19 MiB | 31.18 MiB/s\rReceiving objects:  33% (48992/148459), 31.19 MiB | 31.18 MiB/s\rReceiving objects:  34% (50477/148459), 31.19 MiB | 31.18 MiB/s\rReceiving objects:  35% (51961/148459), 31.19 MiB | 31.18 MiB/s\rReceiving objects:  36% (53446/148459), 46.19 MiB | 30.79 MiB/s\rReceiving objects:  37% (54930/148459), 46.19 MiB | 30.79 MiB/s\rReceiving objects:  38% (56415/148459), 46.19 MiB | 30.79 MiB/s\rReceiving objects:  39% (57900/148459), 46.19 MiB | 30.79 MiB/s\rReceiving objects:  40% (59384/148459), 46.19 MiB | 30.79 MiB/s\rReceiving objects:  41% (60869/148459), 46.19 MiB | 30.79 MiB/s\rReceiving objects:  42% (62353/148459), 46.19 MiB | 30.79 MiB/s\rReceiving objects:  43% (63838/148459), 46.19 MiB | 30.79 MiB/s\rReceiving objects:  44% (65322/148459), 46.19 MiB | 30.79 MiB/s\rReceiving objects:  45% (66807/148459), 46.19 MiB | 30.79 MiB/s\rReceiving objects:  46% (68292/148459), 46.19 MiB | 30.79 MiB/s\rReceiving objects:  47% (69776/148459), 46.19 MiB | 30.79 MiB/s\rReceiving objects:  48% (71261/148459), 46.19 MiB | 30.79 MiB/s\rReceiving objects:  49% (72745/148459), 46.19 MiB | 30.79 MiB/s\rReceiving objects:  50% (74230/148459), 46.19 MiB | 30.79 MiB/s\rReceiving objects:  51% (75715/148459), 46.19 MiB | 30.79 MiB/s\rReceiving objects:  52% (77199/148459), 46.19 MiB | 30.79 MiB/s\rReceiving objects:  53% (78684/148459), 46.19 MiB | 30.79 MiB/s\rReceiving objects:  54% (80168/148459), 46.19 MiB | 30.79 MiB/s\rReceiving objects:  55% (81653/148459), 46.19 MiB | 30.79 MiB/s\rReceiving objects:  56% (83138/148459), 46.19 MiB | 30.79 MiB/s\rReceiving objects:  57% (84622/148459), 46.19 MiB | 30.79 MiB/s\rReceiving objects:  58% (86107/148459), 46.19 MiB | 30.79 MiB/s\rReceiving objects:  59% (87591/148459), 46.19 MiB | 30.79 MiB/s\rReceiving objects:  60% (89076/148459), 46.19 MiB | 30.79 MiB/s\rReceiving objects:  61% (90560/148459), 46.19 MiB | 30.79 MiB/s\rReceiving objects:  62% (92045/148459), 46.19 MiB | 30.79 MiB/s\rReceiving objects:  63% (93530/148459), 46.19 MiB | 30.79 MiB/s\rReceiving objects:  64% (95014/148459), 46.19 MiB | 30.79 MiB/s\rReceiving objects:  65% (96499/148459), 46.19 MiB | 30.79 MiB/s\rReceiving objects:  66% (97983/148459), 46.19 MiB | 30.79 MiB/s\rReceiving objects:  67% (99468/148459), 46.19 MiB | 30.79 MiB/s\rReceiving objects:  67% (100320/148459), 46.19 MiB | 30.79 MiB/s\rReceiving objects:  68% (100953/148459), 63.87 MiB | 31.93 MiB/s\rReceiving objects:  69% (102437/148459), 63.87 MiB | 31.93 MiB/s\rReceiving objects:  70% (103922/148459), 63.87 MiB | 31.93 MiB/s\rReceiving objects:  71% (105406/148459), 63.87 MiB | 31.93 MiB/s\rReceiving objects:  72% (106891/148459), 63.87 MiB | 31.93 MiB/s\rReceiving objects:  73% (108376/148459), 63.87 MiB | 31.93 MiB/s\rReceiving objects:  74% (109860/148459), 63.87 MiB | 31.93 MiB/s\rReceiving objects:  75% (111345/148459), 63.87 MiB | 31.93 MiB/s\rReceiving objects:  75% (112754/148459), 83.27 MiB | 27.75 MiB/s\rReceiving objects:  76% (112829/148459), 83.27 MiB | 27.75 MiB/s\rReceiving objects:  77% (114314/148459), 83.27 MiB | 27.75 MiB/s\rReceiving objects:  78% (115799/148459), 83.27 MiB | 27.75 MiB/s\rReceiving objects:  79% (117283/148459), 83.27 MiB | 27.75 MiB/s\rReceiving objects:  80% (118768/148459), 83.27 MiB | 27.75 MiB/s\rReceiving objects:  81% (120252/148459), 83.27 MiB | 27.75 MiB/s\rReceiving objects:  82% (121737/148459), 83.27 MiB | 27.75 MiB/s\rReceiving objects:  83% (123221/148459), 83.27 MiB | 27.75 MiB/s\rReceiving objects:  84% (124706/148459), 83.27 MiB | 27.75 MiB/s\rReceiving objects:  85% (126191/148459), 103.94 MiB | 29.69 MiB/s\rReceiving objects:  86% (127675/148459), 103.94 MiB | 29.69 MiB/s\rReceiving objects:  86% (128685/148459), 119.65 MiB | 29.91 MiB/s\rReceiving objects:  87% (129160/148459), 119.65 MiB | 29.91 MiB/s\rReceiving objects:  88% (130644/148459), 119.65 MiB | 29.91 MiB/s\rReceiving objects:  89% (132129/148459), 119.65 MiB | 29.91 MiB/s\rReceiving objects:  90% (133614/148459), 119.65 MiB | 29.91 MiB/s\rReceiving objects:  91% (135098/148459), 119.65 MiB | 29.91 MiB/s\rReceiving objects:  92% (136583/148459), 119.65 MiB | 29.91 MiB/s\rReceiving objects:  93% (138067/148459), 119.65 MiB | 29.91 MiB/s\rReceiving objects:  94% (139552/148459), 119.65 MiB | 29.91 MiB/s\rReceiving objects:  95% (141037/148459), 119.65 MiB | 29.91 MiB/s\rReceiving objects:  96% (142521/148459), 119.65 MiB | 29.91 MiB/s\rReceiving objects:  97% (144006/148459), 119.65 MiB | 29.91 MiB/s\rReceiving objects:  98% (145490/148459), 119.65 MiB | 29.91 MiB/s\rReceiving objects:  99% (146975/148459), 119.65 MiB | 29.91 MiB/s\rremote: Total 148459 (delta 565), reused 797 (delta 517), pack-reused 147572 (from 1)\u001b[K\r\nReceiving objects: 100% (148459/148459), 119.65 MiB | 29.91 MiB/s\rReceiving objects: 100% (148459/148459), 129.99 MiB | 29.84 MiB/s, done.\r\nResolving deltas:   0% (0/114591)\rResolving deltas:   1% (1146/114591)\rResolving deltas:   2% (2292/114591)\rResolving deltas:   3% (3438/114591)\rResolving deltas:   4% (4584/114591)\rResolving deltas:   5% (5730/114591)\rResolving deltas:   6% (6876/114591)\rResolving deltas:   7% (8022/114591)\rResolving deltas:   8% (9168/114591)\rResolving deltas:   9% (10314/114591)\rResolving deltas:  10% (11460/114591)\rResolving deltas:  11% (12606/114591)\rResolving deltas:  12% (13751/114591)\rResolving deltas:  13% (14897/114591)\rResolving deltas:  14% (16043/114591)\rResolving deltas:  15% (17189/114591)\rResolving deltas:  16% (18335/114591)\rResolving deltas:  17% (19481/114591)\rResolving deltas:  18% (20627/114591)\rResolving deltas:  19% (21773/114591)\rResolving deltas:  20% (22919/114591)\rResolving deltas:  21% (24065/114591)\rResolving deltas:  22% (25211/114591)\rResolving deltas:  23% (26356/114591)\rResolving deltas:  24% (27502/114591)\rResolving deltas:  25% (28648/114591)\rResolving deltas:  26% (29794/114591)\rResolving deltas:  27% (30940/114591)\rResolving deltas:  28% (32086/114591)\rResolving deltas:  29% (33232/114591)\rResolving deltas:  30% (34378/114591)\rResolving deltas:  31% (35524/114591)\rResolving deltas:  32% (36670/114591)\rResolving deltas:  33% (37816/114591)\rResolving deltas:  34% (38961/114591)\rResolving deltas:  35% (40107/114591)\rResolving deltas:  36% (41253/114591)\rResolving deltas:  37% (42399/114591)\rResolving deltas:  38% (43545/114591)\rResolving deltas:  39% (44691/114591)\rResolving deltas:  40% (45837/114591)\rResolving deltas:  41% (46983/114591)\rResolving deltas:  42% (48129/114591)\rResolving deltas:  43% (49275/114591)\rResolving deltas:  44% (50421/114591)\rResolving deltas:  45% (51566/114591)\rResolving deltas:  46% (52712/114591)\rResolving deltas:  47% (53858/114591)\rResolving deltas:  48% (55004/114591)\rResolving deltas:  48% (55715/114591)\rResolving deltas:  49% (56150/114591)\rResolving deltas:  50% (57296/114591)\rResolving deltas:  51% (58442/114591)\rResolving deltas:  52% (59588/114591)\rResolving deltas:  53% (60734/114591)\rResolving deltas:  54% (61880/114591)\rResolving deltas:  55% (63026/114591)\rResolving deltas:  56% (64171/114591)\rResolving deltas:  57% (65317/114591)\rResolving deltas:  58% (66463/114591)\rResolving deltas:  59% (67609/114591)\rResolving deltas:  60% (68755/114591)\rResolving deltas:  61% (69901/114591)\rResolving deltas:  62% (71047/114591)\rResolving deltas:  63% (72193/114591)\rResolving deltas:  64% (73339/114591)\rResolving deltas:  65% (74485/114591)\rResolving deltas:  66% (75631/114591)\rResolving deltas:  67% (76776/114591)\rResolving deltas:  68% (77922/114591)\rResolving deltas:  69% (79068/114591)\rResolving deltas:  70% (80214/114591)\rResolving deltas:  71% (81360/114591)\rResolving deltas:  72% (82506/114591)\rResolving deltas:  73% (83652/114591)\rResolving deltas:  74% (84798/114591)\rResolving deltas:  75% (85944/114591)\rResolving deltas:  76% (87090/114591)\rResolving deltas:  77% (88236/114591)\rResolving deltas:  78% (89381/114591)\rResolving deltas:  79% (90527/114591)\rResolving deltas:  80% (91673/114591)\rResolving deltas:  81% (92819/114591)\rResolving deltas:  82% (93965/114591)\rResolving deltas:  83% (95111/114591)\rResolving deltas:  84% (96257/114591)\rResolving deltas:  85% (97403/114591)\rResolving deltas:  86% (98549/114591)\rResolving deltas:  87% (99695/114591)\rResolving deltas:  88% (100841/114591)\rResolving deltas:  89% (101986/114591)\rResolving deltas:  90% (103132/114591)\rResolving deltas:  91% (104278/114591)\rResolving deltas:  92% (105424/114591)\rResolving deltas:  93% (106570/114591)\rResolving deltas:  94% (107716/114591)\rResolving deltas:  95% (108862/114591)\rResolving deltas:  96% (110008/114591)\rResolving deltas:  97% (111154/114591)\rResolving deltas:  98% (112300/114591)\rResolving deltas:  99% (113446/114591)\rResolving deltas: 100% (114591/114591)\rResolving deltas: 100% (114591/114591), done.\r\nCloning Subword NMT repository (for BPE pre-processing)...\r\nCloning into 'subword-nmt'...\r\nremote: Enumerating objects: 622, done.\u001b[K\r\nremote: Counting objects:   2% (1/46)\u001b[K\rremote: Counting objects:   4% (2/46)\u001b[K\rremote: Counting objects:   6% (3/46)\u001b[K\rremote: Counting objects:   8% (4/46)\u001b[K\rremote: Counting objects:  10% (5/46)\u001b[K\rremote: Counting objects:  13% (6/46)\u001b[K\rremote: Counting objects:  15% (7/46)\u001b[K\rremote: Counting objects:  17% (8/46)\u001b[K\rremote: Counting objects:  19% (9/46)\u001b[K\rremote: Counting objects:  21% (10/46)\u001b[K\rremote: Counting objects:  23% (11/46)\u001b[K\rremote: Counting objects:  26% (12/46)\u001b[K\rremote: Counting objects:  28% (13/46)\u001b[K\rremote: Counting objects:  30% (14/46)\u001b[K\rremote: Counting objects:  32% (15/46)\u001b[K\rremote: Counting objects:  34% (16/46)\u001b[K\rremote: Counting objects:  36% (17/46)\u001b[K\rremote: Counting objects:  39% (18/46)\u001b[K\rremote: Counting objects:  41% (19/46)\u001b[K\rremote: Counting objects:  43% (20/46)\u001b[K\rremote: Counting objects:  45% (21/46)\u001b[K\rremote: Counting objects:  47% (22/46)\u001b[K\rremote: Counting objects:  50% (23/46)\u001b[K\rremote: Counting objects:  52% (24/46)\u001b[K\rremote: Counting objects:  54% (25/46)\u001b[K\rremote: Counting objects:  56% (26/46)\u001b[K\rremote: Counting objects:  58% (27/46)\u001b[K\rremote: Counting objects:  60% (28/46)\u001b[K\rremote: Counting objects:  63% (29/46)\u001b[K\rremote: Counting objects:  65% (30/46)\u001b[K\rremote: Counting objects:  67% (31/46)\u001b[K\rremote: Counting objects:  69% (32/46)\u001b[K\rremote: Counting objects:  71% (33/46)\u001b[K\rremote: Counting objects:  73% (34/46)\u001b[K\rremote: Counting objects:  76% (35/46)\u001b[K\rremote: Counting objects:  78% (36/46)\u001b[K\rremote: Counting objects:  80% (37/46)\u001b[K\rremote: Counting objects:  82% (38/46)\u001b[K\rremote: Counting objects:  84% (39/46)\u001b[K\rremote: Counting objects:  86% (40/46)\u001b[K\rremote: Counting objects:  89% (41/46)\u001b[K\rremote: Counting objects:  91% (42/46)\u001b[K\rremote: Counting objects:  93% (43/46)\u001b[K\rremote: Counting objects:  95% (44/46)\u001b[K\rremote: Counting objects:  97% (45/46)\u001b[K\rremote: Counting objects: 100% (46/46)\u001b[K\rremote: Counting objects: 100% (46/46), done.\u001b[K\r\nremote: Compressing objects:   3% (1/30)\u001b[K\rremote: Compressing objects:   6% (2/30)\u001b[K\rremote: Compressing objects:  10% (3/30)\u001b[K\rremote: Compressing objects:  13% (4/30)\u001b[K\rremote: Compressing objects:  16% (5/30)\u001b[K\rremote: Compressing objects:  20% (6/30)\u001b[K\rremote: Compressing objects:  23% (7/30)\u001b[K\rremote: Compressing objects:  26% (8/30)\u001b[K\rremote: Compressing objects:  30% (9/30)\u001b[K\rremote: Compressing objects:  33% (10/30)\u001b[K\rremote: Compressing objects:  36% (11/30)\u001b[K\rremote: Compressing objects:  40% (12/30)\u001b[K\rremote: Compressing objects:  43% (13/30)\u001b[K\rremote: Compressing objects:  46% (14/30)\u001b[K\rremote: Compressing objects:  50% (15/30)\u001b[K\rremote: Compressing objects:  53% (16/30)\u001b[K\rremote: Compressing objects:  56% (17/30)\u001b[K\rremote: Compressing objects:  60% (18/30)\u001b[K\rremote: Compressing objects:  63% (19/30)\u001b[K\rremote: Compressing objects:  66% (20/30)\u001b[K\rremote: Compressing objects:  70% (21/30)\u001b[K\rremote: Compressing objects:  73% (22/30)\u001b[K\rremote: Compressing objects:  76% (23/30)\u001b[K\rremote: Compressing objects:  80% (24/30)\u001b[K\rremote: Compressing objects:  83% (25/30)\u001b[K\rremote: Compressing objects:  86% (26/30)\u001b[K\rremote: Compressing objects:  90% (27/30)\u001b[K\rremote: Compressing objects:  93% (28/30)\u001b[K\rremote: Compressing objects:  96% (29/30)\u001b[K\rremote: Compressing objects: 100% (30/30)\u001b[K\rremote: Compressing objects: 100% (30/30), done.\u001b[K\r\nReceiving objects:   0% (1/622)\rReceiving objects:   1% (7/622)\rReceiving objects:   2% (13/622)\rReceiving objects:   3% (19/622)\rReceiving objects:   4% (25/622)\rReceiving objects:   5% (32/622)\rReceiving objects:   6% (38/622)\rReceiving objects:   7% (44/622)\rReceiving objects:   8% (50/622)\rReceiving objects:   9% (56/622)\rReceiving objects:  10% (63/622)\rReceiving objects:  11% (69/622)\rReceiving objects:  12% (75/622)\rReceiving objects:  13% (81/622)\rReceiving objects:  14% (88/622)\rReceiving objects:  15% (94/622)\rReceiving objects:  16% (100/622)\rReceiving objects:  17% (106/622)\rReceiving objects:  18% (112/622)\rReceiving objects:  19% (119/622)\rReceiving objects:  20% (125/622)\rReceiving objects:  21% (131/622)\rReceiving objects:  22% (137/622)\rReceiving objects:  23% (144/622)\rReceiving objects:  24% (150/622)\rReceiving objects:  25% (156/622)\rReceiving objects:  26% (162/622)\rReceiving objects:  27% (168/622)\rReceiving objects:  28% (175/622)\rReceiving objects:  29% (181/622)\rReceiving objects:  30% (187/622)\rReceiving objects:  31% (193/622)\rReceiving objects:  32% (200/622)\rReceiving objects:  33% (206/622)\rReceiving objects:  34% (212/622)\rReceiving objects:  35% (218/622)\rReceiving objects:  36% (224/622)\rReceiving objects:  37% (231/622)\rReceiving objects:  38% (237/622)\rReceiving objects:  39% (243/622)\rReceiving objects:  40% (249/622)\rReceiving objects:  41% (256/622)\rReceiving objects:  42% (262/622)\rReceiving objects:  43% (268/622)\rReceiving objects:  44% (274/622)\rReceiving objects:  45% (280/622)\rReceiving objects:  46% (287/622)\rReceiving objects:  47% (293/622)\rReceiving objects:  48% (299/622)\rReceiving objects:  49% (305/622)\rReceiving objects:  50% (311/622)\rReceiving objects:  51% (318/622)\rReceiving objects:  52% (324/622)\rReceiving objects:  53% (330/622)\rReceiving objects:  54% (336/622)\rReceiving objects:  55% (343/622)\rReceiving objects:  56% (349/622)\rremote: Total 622 (delta 25), reused 31 (delta 16), pack-reused 576 (from 1)\u001b[K\r\nReceiving objects:  57% (355/622)\rReceiving objects:  58% (361/622)\rReceiving objects:  59% (367/622)\rReceiving objects:  60% (374/622)\rReceiving objects:  61% (380/622)\rReceiving objects:  62% (386/622)\rReceiving objects:  63% (392/622)\rReceiving objects:  64% (399/622)\rReceiving objects:  65% (405/622)\rReceiving objects:  66% (411/622)\rReceiving objects:  67% (417/622)\rReceiving objects:  68% (423/622)\rReceiving objects:  69% (430/622)\rReceiving objects:  70% (436/622)\rReceiving objects:  71% (442/622)\rReceiving objects:  72% (448/622)\rReceiving objects:  73% (455/622)\rReceiving objects:  74% (461/622)\rReceiving objects:  75% (467/622)\rReceiving objects:  76% (473/622)\rReceiving objects:  77% (479/622)\rReceiving objects:  78% (486/622)\rReceiving objects:  79% (492/622)\rReceiving objects:  80% (498/622)\rReceiving objects:  81% (504/622)\rReceiving objects:  82% (511/622)\rReceiving objects:  83% (517/622)\rReceiving objects:  84% (523/622)\rReceiving objects:  85% (529/622)\rReceiving objects:  86% (535/622)\rReceiving objects:  87% (542/622)\rReceiving objects:  88% (548/622)\rReceiving objects:  89% (554/622)\rReceiving objects:  90% (560/622)\rReceiving objects:  91% (567/622)\rReceiving objects:  92% (573/622)\rReceiving objects:  93% (579/622)\rReceiving objects:  94% (585/622)\rReceiving objects:  95% (591/622)\rReceiving objects:  96% (598/622)\rReceiving objects:  97% (604/622)\rReceiving objects:  98% (610/622)\rReceiving objects:  99% (616/622)\rReceiving objects: 100% (622/622)\rReceiving objects: 100% (622/622), 261.27 KiB | 17.42 MiB/s, done.\r\nResolving deltas:   0% (0/374)\rResolving deltas:   1% (4/374)\rResolving deltas:   2% (8/374)\rResolving deltas:   3% (12/374)\rResolving deltas:   4% (15/374)\rResolving deltas:   5% (19/374)\rResolving deltas:   6% (23/374)\rResolving deltas:   7% (27/374)\rResolving deltas:   8% (30/374)\rResolving deltas:   9% (34/374)\rResolving deltas:  10% (38/374)\rResolving deltas:  11% (42/374)\rResolving deltas:  12% (45/374)\rResolving deltas:  13% (49/374)\rResolving deltas:  14% (53/374)\rResolving deltas:  15% (57/374)\rResolving deltas:  16% (60/374)\rResolving deltas:  17% (64/374)\rResolving deltas:  18% (68/374)\rResolving deltas:  19% (72/374)\rResolving deltas:  20% (75/374)\rResolving deltas:  21% (79/374)\rResolving deltas:  22% (83/374)\rResolving deltas:  23% (87/374)\rResolving deltas:  24% (90/374)\rResolving deltas:  25% (94/374)\rResolving deltas:  26% (98/374)\rResolving deltas:  27% (101/374)\rResolving deltas:  28% (105/374)\rResolving deltas:  29% (109/374)\rResolving deltas:  30% (113/374)\rResolving deltas:  31% (116/374)\rResolving deltas:  32% (120/374)\rResolving deltas:  33% (124/374)\rResolving deltas:  34% (128/374)\rResolving deltas:  35% (131/374)\rResolving deltas:  36% (135/374)\rResolving deltas:  37% (139/374)\rResolving deltas:  38% (143/374)\rResolving deltas:  39% (146/374)\rResolving deltas:  40% (150/374)\rResolving deltas:  41% (154/374)\rResolving deltas:  42% (158/374)\rResolving deltas:  43% (161/374)\rResolving deltas:  44% (165/374)\rResolving deltas:  45% (169/374)\rResolving deltas:  46% (173/374)\rResolving deltas:  47% (176/374)\rResolving deltas:  48% (180/374)\rResolving deltas:  49% (184/374)\rResolving deltas:  50% (187/374)\rResolving deltas:  51% (191/374)\rResolving deltas:  52% (195/374)\rResolving deltas:  53% (199/374)\rResolving deltas:  54% (202/374)\rResolving deltas:  55% (206/374)\rResolving deltas:  56% (210/374)\rResolving deltas:  57% (214/374)\rResolving deltas:  58% (217/374)\rResolving deltas:  59% (221/374)\rResolving deltas:  60% (225/374)\rResolving deltas:  61% (229/374)\rResolving deltas:  62% (232/374)\rResolving deltas:  63% (236/374)\rResolving deltas:  64% (240/374)\rResolving deltas:  65% (244/374)\rResolving deltas:  66% (247/374)\rResolving deltas:  67% (251/374)\rResolving deltas:  68% (255/374)\rResolving deltas:  69% (259/374)\rResolving deltas:  70% (262/374)\rResolving deltas:  71% (266/374)\rResolving deltas:  72% (270/374)\rResolving deltas:  73% (274/374)\rResolving deltas:  74% (277/374)\rResolving deltas:  75% (281/374)\rResolving deltas:  76% (285/374)\rResolving deltas:  77% (288/374)\rResolving deltas:  78% (292/374)\rResolving deltas:  79% (296/374)\rResolving deltas:  80% (300/374)\rResolving deltas:  81% (303/374)\rResolving deltas:  82% (307/374)\rResolving deltas:  83% (311/374)\rResolving deltas:  84% (315/374)\rResolving deltas:  85% (318/374)\rResolving deltas:  86% (322/374)\rResolving deltas:  87% (326/374)\rResolving deltas:  88% (330/374)\rResolving deltas:  89% (333/374)\rResolving deltas:  90% (337/374)\rResolving deltas:  91% (341/374)\rResolving deltas:  92% (345/374)\rResolving deltas:  93% (348/374)\rResolving deltas:  94% (352/374)\rResolving deltas:  95% (356/374)\rResolving deltas:  96% (360/374)\rResolving deltas:  97% (363/374)\rResolving deltas:  98% (367/374)\rResolving deltas:  99% (371/374)\rResolving deltas: 100% (374/374)\rResolving deltas: 100% (374/374), done.\r\nfilter out empty lines from original data and split doc with empty line...\r\ndata/g-transformer.tokenized.en-de/tmp/train.en-de.tag\r\nTokenizer Version 1.1\r\nLanguage: en\r\nNumber of threads: 8\r\nTokenizer Version 1.1\r\nLanguage: de\r\nNumber of threads: 8\r\ndata/g-transformer.tokenized.en-de/tmp/valid.en-de.tag\r\nTokenizer Version 1.1\r\nLanguage: en\r\nNumber of threads: 8\r\nTokenizer Version 1.1\r\nLanguage: de\r\nNumber of threads: 8\r\ndata/g-transformer.tokenized.en-de/tmp/test.en-de.tag\r\nTokenizer Version 1.1\r\nLanguage: en\r\nNumber of threads: 8\r\nTokenizer Version 1.1\r\nLanguage: de\r\nNumber of threads: 8\r\ntruecase the train/valid/test data...\r\ndata/g-transformer.tokenized.en-de/tmp/truecase.en.mdl\r\ndata/g-transformer.tokenized.en-de/tmp/truecase.de.mdl\r\ndata/g-transformer.tokenized.en-de/tmp/train.en.tc\r\ndata/g-transformer.tokenized.en-de/tmp/train.de.tc\r\ndata/g-transformer.tokenized.en-de/tmp/valid.en.tc\r\ndata/g-transformer.tokenized.en-de/tmp/valid.de.tc\r\ndata/g-transformer.tokenized.en-de/tmp/test.en.tc\r\ndata/g-transformer.tokenized.en-de/tmp/test.de.tc\r\nlearn_bpe.py on ...\r\n\r  0%|                                                 | 0/30000 [00:00<?, ?it/s]no pair has frequency >= 2. Stopping\r\n\r  1%|4                                    | 330/30000 [00:00<00:05, 5828.49it/s]\r\napply_bpe.py to train.en...\r\napply_bpe.py to valid.en...\r\napply_bpe.py to test.en...\r\napply_bpe.py to train.de...\r\napply_bpe.py to valid.de...\r\napply_bpe.py to test.de...\r\napply doc-level special tags...\r\n[2024-08-22 04:48:42,637 INFO] Building segmented data: Namespace(corpuses='test,valid,train', source_lang='en', target_lang='de', datadir='data/g-transformer.tokenized.en-de', destdir='data/g-transformer-sent.segmented.en-de/', max_sents=1, max_tokens=512, min_train_doclen=-1, no_special_tok=False, tempdir='data/g-transformer-sent.segmented.en-de/tmp')\r\n[2024-08-22 04:48:42,639 INFO] Processed 2 documents of test with a max_len of 512.\r\n[2024-08-22 04:48:42,639 INFO] Saved 72 lines into data/g-transformer-sent.segmented.en-de/test.en\r\n[2024-08-22 04:48:42,639 INFO] Saved 72 lines into data/g-transformer-sent.segmented.en-de/test.de\r\n[2024-08-22 04:48:42,641 INFO] Processed 4 documents of valid with a max_len of 512.\r\n[2024-08-22 04:48:42,641 INFO] Saved 47 lines into data/g-transformer-sent.segmented.en-de/valid.en\r\n[2024-08-22 04:48:42,641 INFO] Saved 47 lines into data/g-transformer-sent.segmented.en-de/valid.de\r\n[2024-08-22 04:48:42,642 INFO] Processed 2 documents of train with a max_len of 512.\r\n[2024-08-22 04:48:42,642 INFO] Saved 14 lines into data/g-transformer-sent.segmented.en-de/train.en\r\n[2024-08-22 04:48:42,642 INFO] Saved 14 lines into data/g-transformer-sent.segmented.en-de/train.de\r\n[2024-08-22 04:48:42,916 INFO] Building segmented data: Namespace(corpuses='test,valid,train', source_lang='en', target_lang='de', datadir='data/g-transformer.tokenized.en-de', destdir='data/g-transformer-doc.segmented.en-de/', max_sents=1000, max_tokens=512, min_train_doclen=-1, no_special_tok=False, tempdir='data/g-transformer-doc.segmented.en-de/tmp')\r\n[2024-08-22 04:48:42,918 INFO] Processed 2 documents of test with a max_len of 512.\r\n[2024-08-22 04:48:42,918 INFO] Saved 11 lines into data/g-transformer-doc.segmented.en-de/test.en\r\n[2024-08-22 04:48:42,919 INFO] Saved 11 lines into data/g-transformer-doc.segmented.en-de/test.de\r\n[2024-08-22 04:48:42,920 INFO] Processed 4 documents of valid with a max_len of 512.\r\n[2024-08-22 04:48:42,920 INFO] Saved 11 lines into data/g-transformer-doc.segmented.en-de/valid.en\r\n[2024-08-22 04:48:42,921 INFO] Saved 11 lines into data/g-transformer-doc.segmented.en-de/valid.de\r\n[2024-08-22 04:48:42,921 INFO] Processed 2 documents of train with a max_len of 512.\r\n[2024-08-22 04:48:42,921 INFO] Saved 2 lines into data/g-transformer-doc.segmented.en-de/train.en\r\n[2024-08-22 04:48:42,922 INFO] Saved 2 lines into data/g-transformer-doc.segmented.en-de/train.de\r\nTraceback (most recent call last):\r\n  File \"/usr/local/lib/python3.10/runpy.py\", line 196, in _run_module_as_main\r\n    return _run_code(code, main_globals, None,\r\n  File \"/usr/local/lib/python3.10/runpy.py\", line 86, in _run_code\r\n    exec(code, run_globals)\r\n  File \"/content/g-transformer/fairseq_cli/preprocess.py\", line 20, in <module>\r\n    from fairseq import options, tasks, utils\r\n  File \"/content/g-transformer/fairseq/__init__.py\", line 17, in <module>\r\n    import fairseq.criterions  # noqa\r\n  File \"/content/g-transformer/fairseq/criterions/__init__.py\", line 10, in <module>\r\n    from fairseq.criterions.fairseq_criterion import FairseqCriterion, LegacyFairseqCriterion\r\n  File \"/content/g-transformer/fairseq/criterions/fairseq_criterion.py\", line 11, in <module>\r\n    from fairseq import metrics, utils\r\n  File \"/content/g-transformer/fairseq/utils.py\", line 22, in <module>\r\n    from fairseq.modules import gelu, gelu_accurate\r\n  File \"/content/g-transformer/fairseq/modules/__init__.py\", line 9, in <module>\r\n    from .character_token_embedder import CharacterTokenEmbedder\r\n  File \"/content/g-transformer/fairseq/modules/character_token_embedder.py\", line 13, in <module>\r\n    from fairseq.data import Dictionary\r\n  File \"/content/g-transformer/fairseq/data/__init__.py\", line 21, in <module>\r\n    from .indexed_dataset import IndexedCachedDataset, IndexedDataset, IndexedRawTextDataset, MMapIndexedDataset\r\n  File \"/content/g-transformer/fairseq/data/indexed_dataset.py\", line 89, in <module>\r\n    6: np.float,\r\n  File \"/usr/local/lib/python3.10/site-packages/numpy/__init__.py\", line 319, in __getattr__\r\n    raise AttributeError(__former_attrs__[attr])\r\nAttributeError: module 'numpy' has no attribute 'float'.\r\n`np.float` was a deprecated alias for the builtin `float`. To avoid this error in existing code, use `float` by itself. Doing this will not modify any behavior and is safe. If you specifically wanted the numpy scalar type, use `np.float64` here.\r\nThe aliases was originally deprecated in NumPy 1.20; for more details and guidance see the original release note at:\r\n    https://numpy.org/devdocs/release/1.20.0-notes.html#deprecations. Did you mean: 'cfloat'?\r\nTraceback (most recent call last):\r\n  File \"/usr/local/lib/python3.10/runpy.py\", line 196, in _run_module_as_main\r\n    return _run_code(code, main_globals, None,\r\n  File \"/usr/local/lib/python3.10/runpy.py\", line 86, in _run_code\r\n    exec(code, run_globals)\r\n  File \"/content/g-transformer/fairseq_cli/preprocess.py\", line 20, in <module>\r\n    from fairseq import options, tasks, utils\r\n  File \"/content/g-transformer/fairseq/__init__.py\", line 17, in <module>\r\n    import fairseq.criterions  # noqa\r\n  File \"/content/g-transformer/fairseq/criterions/__init__.py\", line 10, in <module>\r\n    from fairseq.criterions.fairseq_criterion import FairseqCriterion, LegacyFairseqCriterion\r\n  File \"/content/g-transformer/fairseq/criterions/fairseq_criterion.py\", line 11, in <module>\r\n    from fairseq import metrics, utils\r\n  File \"/content/g-transformer/fairseq/utils.py\", line 22, in <module>\r\n    from fairseq.modules import gelu, gelu_accurate\r\n  File \"/content/g-transformer/fairseq/modules/__init__.py\", line 9, in <module>\r\n    from .character_token_embedder import CharacterTokenEmbedder\r\n  File \"/content/g-transformer/fairseq/modules/character_token_embedder.py\", line 13, in <module>\r\n    from fairseq.data import Dictionary\r\n  File \"/content/g-transformer/fairseq/data/__init__.py\", line 21, in <module>\r\n    from .indexed_dataset import IndexedCachedDataset, IndexedDataset, IndexedRawTextDataset, MMapIndexedDataset\r\n  File \"/content/g-transformer/fairseq/data/indexed_dataset.py\", line 89, in <module>\r\n    6: np.float,\r\n  File \"/usr/local/lib/python3.10/site-packages/numpy/__init__.py\", line 319, in __getattr__\r\n    raise AttributeError(__former_attrs__[attr])\r\nAttributeError: module 'numpy' has no attribute 'float'.\r\n`np.float` was a deprecated alias for the builtin `float`. To avoid this error in existing code, use `float` by itself. Doing this will not modify any behavior and is safe. If you specifically wanted the numpy scalar type, use `np.float64` here.\r\nThe aliases was originally deprecated in NumPy 1.20; for more details and guidance see the original release note at:\r\n    https://numpy.org/devdocs/release/1.20.0-notes.html#deprecations. Did you mean: 'cfloat'?\r\n"
      ]
     },
     "execution_count": null,
     "metadata": {},
     "output_type": "execute_result"
    }
   ],
   "source": [
    "%cd /content/g-transformer\n",
    "!rm -r data/g-*  # remove previously generated files and directories\n",
    "!bash exp_gtrans/prepare-finetune.sh g-transformer data"
   ]
  },
  {
   "cell_type": "markdown",
   "id": "73dd62d4",
   "metadata": {},
   "source": [
    "### Step 14"
   ]
  },
  {
   "cell_type": "markdown",
   "id": "850d6bb0",
   "metadata": {},
   "source": [
    "**Thought**: [pre-executed by user]"
   ]
  },
  {
   "cell_type": "markdown",
   "id": "c2a62187",
   "metadata": {},
   "source": [
    "**Action (None)**:"
   ]
  },
  {
   "cell_type": "code",
   "execution_count": null,
   "id": "4dfd5daa",
   "metadata": {},
   "outputs": [
    {
     "data": {
      "text/plain": [
       ""
      ]
     },
     "execution_count": null,
     "metadata": {},
     "output_type": "execute_result"
    }
   ],
   "source": [
    "# ### Run finetune"
   ]
  },
  {
   "cell_type": "markdown",
   "id": "5a5613af",
   "metadata": {},
   "source": [
    "### Step 15"
   ]
  },
  {
   "cell_type": "markdown",
   "id": "d28d9e7c",
   "metadata": {},
   "source": [
    "**Thought**: [pre-executed by user]"
   ]
  },
  {
   "cell_type": "markdown",
   "id": "eaf951c2",
   "metadata": {},
   "source": [
    "**Action (None)**:"
   ]
  },
  {
   "cell_type": "code",
   "execution_count": null,
   "id": "ed23f272",
   "metadata": {},
   "outputs": [
    {
     "data": {
      "text/plain": [
       ""
      ]
     },
     "execution_count": null,
     "metadata": {},
     "output_type": "execute_result"
    }
   ],
   "source": [
    "# First attempt to train data using the default model"
   ]
  },
  {
   "cell_type": "markdown",
   "id": "459de5a7",
   "metadata": {},
   "source": [
    "### Step 16"
   ]
  },
  {
   "cell_type": "markdown",
   "id": "2512f219",
   "metadata": {},
   "source": [
    "**Thought**: [pre-executed by user]"
   ]
  },
  {
   "cell_type": "markdown",
   "id": "6a7ceaf9",
   "metadata": {},
   "source": [
    "**Action (None)**:"
   ]
  },
  {
   "cell_type": "code",
   "execution_count": null,
   "id": "1fe9c026",
   "metadata": {},
   "outputs": [
    {
     "data": {
      "text/plain": [
       "/content/g-transformer\nThu Aug 22 04:48:49 UTC 2024, data: g-transformer, mode: train, exp_path: data, slang: en, tlang: de\r\nThu Aug 22 04:48:49 UTC 2024, run path: data/run-finetune\r\nThu Aug 22 04:48:49 UTC 2024, Training sentence-level model...\r\n/usr/local/lib/python3.10/site-packages/IPython/core/magics/osm.py:417: UserWarning: This is now an optional IPython functionality, setting dhist requires you to install the `pickleshare` library.\n  self.shell.db['dhist'] = compress_dhist(dhist)[-100:]\nThu Aug 22 04:48:51 UTC 2024, Training document-level model...\r\nLoad sentence model from data/run-finetune/g-transformer-sent.checkpoints.en-de/checkpoint_best.pt\r\nThu Aug 22 04:48:51 UTC 2024, Training model...\r\n"
      ]
     },
     "execution_count": null,
     "metadata": {},
     "output_type": "execute_result"
    }
   ],
   "source": [
    "%cd /content/g-transformer\n",
    "!bash exp_gtrans/run-finetune.sh g-transformer train data"
   ]
  },
  {
   "cell_type": "markdown",
   "id": "25226281",
   "metadata": {},
   "source": [
    "### Step 17"
   ]
  },
  {
   "cell_type": "markdown",
   "id": "842ea796",
   "metadata": {},
   "source": [
    "**Thought**: [pre-executed by user]"
   ]
  },
  {
   "cell_type": "markdown",
   "id": "a953c061",
   "metadata": {},
   "source": [
    "**Action (None)**:"
   ]
  },
  {
   "cell_type": "code",
   "execution_count": null,
   "id": "a7a35f6d",
   "metadata": {},
   "outputs": [
    {
     "data": {
      "text/plain": [
       ""
      ]
     },
     "execution_count": null,
     "metadata": {},
     "output_type": "execute_result"
    }
   ],
   "source": [
    "# No errors are shown in the standard output, but a log file is created. There, the following error can be seen"
   ]
  },
  {
   "cell_type": "markdown",
   "id": "df7c0b6e",
   "metadata": {},
   "source": [
    "### Step 18"
   ]
  },
  {
   "cell_type": "markdown",
   "id": "b031ae4d",
   "metadata": {},
   "source": [
    "**Thought**: [pre-executed by user]"
   ]
  },
  {
   "cell_type": "markdown",
   "id": "53309018",
   "metadata": {},
   "source": [
    "**Action (None)**:"
   ]
  },
  {
   "cell_type": "code",
   "execution_count": null,
   "id": "486e5e2b",
   "metadata": {},
   "outputs": [
    {
     "data": {
      "text/plain": [
       "`np.float` was a deprecated alias for the builtin `float`. To avoid this error in existing code, use `float` by itself. Doing this will not modify any behavior and is safe. If you specifically wanted the numpy scalar type, use `np.float64` here.\r\nThe aliases was originally deprecated in NumPy 1.20; for more details and guidance see the original release note at:\r\n    https://numpy.org/devdocs/release/1.20.0-notes.html#deprecations. Did you mean: 'cfloat'?\r\n"
      ]
     },
     "execution_count": null,
     "metadata": {},
     "output_type": "execute_result"
    }
   ],
   "source": [
    "!tail -3 data/run-finetune/train.g-transformer-doc.en-de.log"
   ]
  },
  {
   "cell_type": "markdown",
   "id": "3ed3e639",
   "metadata": {},
   "source": [
    "### Step 19"
   ]
  },
  {
   "cell_type": "markdown",
   "id": "b6429f72",
   "metadata": {},
   "source": [
    "**Thought**: [pre-executed by user]"
   ]
  },
  {
   "cell_type": "markdown",
   "id": "27ccc0b2",
   "metadata": {},
   "source": [
    "**Action (None)**:"
   ]
  },
  {
   "cell_type": "code",
   "execution_count": null,
   "id": "9559934b",
   "metadata": {},
   "outputs": [
    {
     "data": {
      "text/plain": [
       ""
      ]
     },
     "execution_count": null,
     "metadata": {},
     "output_type": "execute_result"
    }
   ],
   "source": [
    "# Use the suggestion given by the traceback"
   ]
  },
  {
   "cell_type": "markdown",
   "id": "b1bc9230",
   "metadata": {},
   "source": [
    "### Step 20"
   ]
  },
  {
   "cell_type": "markdown",
   "id": "b8d47d60",
   "metadata": {},
   "source": [
    "**Thought**: EXECUTED BY USER"
   ]
  },
  {
   "cell_type": "markdown",
   "id": "ed816e54",
   "metadata": {},
   "source": [
    "**Action (None)**:"
   ]
  },
  {
   "cell_type": "code",
   "execution_count": null,
   "id": "7f2a0bae",
   "metadata": {},
   "outputs": [
    {
     "data": {
      "text/plain": [
       "Edit was successful. Here's the relevant content *after edit* for your inspection (you should check indentation is correct):\n            'ntokens': sample['ntokens'],\n            'nsentences': sample['target'].size(0),\n            'sample_size': sample_size,\n        }\n        logging_output.update(net_output[1]['attn'])\n        return loss, sample_size, logging_output\n\n    def compute_loss(self, model, net_output, sample, reduce=True):\n        lprobs = model.get_normalized_probs(net_output, log_probs=True)\n        lprobs = lprobs.view(-1, lprobs.size(-1))\n        target = model.get_targets(sample, net_output).reshape(-1, 1)\n        loss, nll_loss = label_smoothed_nll_loss(\n            lprobs, target, self.eps, ignore_index=self.padding_idx, reduce=reduce,\n        )\n        return loss, nll_loss\n\n    @staticmethod\n    def reduce_metrics(logging_outputs) -> None:\n        \"\"\"Aggregate logging outputs from data parallel training.\"\"\""
      ]
     },
     "execution_count": null,
     "metadata": {},
     "output_type": "execute_result"
    }
   ],
   "source": [
    "EDITING `/content/g-transformer/fairseq/criterions/label_smoothed_cross_entropy.py. CHANGING:\n",
    "\n",
    "\n",
    "    def compute_loss(self, model, net_output, sample, reduce=True):\n",
    "        lprobs = model.get_normalized_probs(net_output, log_probs=True)\n",
    "        lprobs = lprobs.view(-1, lprobs.size(-1))\n",
    "        target = model.get_targets(sample, net_output).view(-1, 1)\n",
    "        loss, nll_loss = label_smoothed_nll_loss(\n",
    "            lprobs, target, self.eps, ignore_index=self.padding_idx, reduce=reduce,\n",
    "\n",
    "\n",
    "TO:\n",
    "\n",
    "\n",
    "    def compute_loss(self, model, net_output, sample, reduce=True):\n",
    "        lprobs = model.get_normalized_probs(net_output, log_probs=True)\n",
    "        lprobs = lprobs.view(-1, lprobs.size(-1))\n",
    "        target = model.get_targets(sample, net_output).reshape(-1, 1)\n",
    "        loss, nll_loss = label_smoothed_nll_loss(\n",
    "            lprobs, target, self.eps, ignore_index=self.padding_idx, reduce=reduce,\n"
   ]
  },
  {
   "cell_type": "markdown",
   "id": "2e502411",
   "metadata": {},
   "source": [
    "### Step 21"
   ]
  },
  {
   "cell_type": "markdown",
   "id": "344b3ee1",
   "metadata": {},
   "source": [
    "**Thought**: [pre-executed by user]"
   ]
  },
  {
   "cell_type": "markdown",
   "id": "c0028a93",
   "metadata": {},
   "source": [
    "**Action (None)**:"
   ]
  },
  {
   "cell_type": "code",
   "execution_count": null,
   "id": "f6f985fb",
   "metadata": {},
   "outputs": [
    {
     "data": {
      "text/plain": [
       ""
      ]
     },
     "execution_count": null,
     "metadata": {},
     "output_type": "execute_result"
    }
   ],
   "source": [
    "# Also, patch finetune script to avoid ussing Half floats (remove `--fp16` argument) and train only one epoch (add `--max-epoch 1`)."
   ]
  },
  {
   "cell_type": "markdown",
   "id": "015b09b4",
   "metadata": {},
   "source": [
    "### Step 22"
   ]
  },
  {
   "cell_type": "markdown",
   "id": "c81282bc",
   "metadata": {},
   "source": [
    "**Thought**: EXECUTED BY USER"
   ]
  },
  {
   "cell_type": "markdown",
   "id": "a6a64da1",
   "metadata": {},
   "source": [
    "**Action (None)**:"
   ]
  },
  {
   "cell_type": "code",
   "execution_count": null,
   "id": "22266163",
   "metadata": {},
   "outputs": [
    {
     "data": {
      "text/plain": [
       "Edit was successful. Here's the relevant content *after edit* for your inspection (you should check indentation is correct):\necho `date`, run path: $run_path\n\ncp_path_sent=$run_path/$data-sent.checkpoints.$slang-$tlang\ncp_path_doc=$run_path/$data-doc.checkpoints.$slang-$tlang\nres_path=$run_path/$data.results.$slang-$tlang\ndoc_langs=$slang,$tlang\n\nif [ $mode == \"train\" ]; then\n  echo `date`, Training sentence-level model...\n  doc_langs=$slang,$tlang\n  python train.py $bin_path_sent --save-dir $cp_path_sent --tensorboard-logdir $cp_path_sent --seed 444 --max-epoch 1 --num-workers 4 \\\n         --task translation_doc --source-lang $slang --target-lang $tlang --langs $doc_langs \\\n         --arch gtransformer_base --doc-mode full --share-all-embeddings \\\n         --optimizer adam --adam-betas \"(0.9, 0.98)\" --lr 5e-4 --lr-scheduler inverse_sqrt --warmup-updates 4000 \\\n         --criterion label_smoothed_cross_entropy --label-smoothing 0.1 --no-epoch-checkpoints \\\n         --max-tokens 4096 --update-freq 1 --validate-interval 1 --patience 10 \\\n         > $run_path/train.$data-sent.$slang-$tlang.log 2>&1\n\n  echo `date`, Training document-level model..."
      ]
     },
     "execution_count": null,
     "metadata": {},
     "output_type": "execute_result"
    }
   ],
   "source": [
    "EDITING `/content/g-transformer/exp_gtrans/run-finetune.sh. CHANGING:\n",
    "\n",
    "\n",
    "if [ $mode == \"train\" ]; then\n",
    "  echo `date`, Training sentence-level model...\n",
    "  doc_langs=$slang,$tlang\n",
    "  python train.py $bin_path_sent --save-dir $cp_path_sent --tensorboard-logdir $cp_path_sent --seed 444 --fp16 --num-workers 4 \\\n",
    "         --task translation_doc --source-lang $slang --target-lang $tlang --langs $doc_langs \\\n",
    "         --arch gtransformer_base --doc-mode full --share-all-embeddings \\\n",
    "\n",
    "\n",
    "TO:\n",
    "\n",
    "\n",
    "if [ $mode == \"train\" ]; then\n",
    "  echo `date`, Training sentence-level model...\n",
    "  doc_langs=$slang,$tlang\n",
    "  python train.py $bin_path_sent --save-dir $cp_path_sent --tensorboard-logdir $cp_path_sent --seed 444 --max-epoch 1 --num-workers 4 \\\n",
    "         --task translation_doc --source-lang $slang --target-lang $tlang --langs $doc_langs \\\n",
    "         --arch gtransformer_base --doc-mode full --share-all-embeddings \\\n"
   ]
  },
  {
   "cell_type": "markdown",
   "id": "9ce80a09",
   "metadata": {},
   "source": [
    "### Step 23"
   ]
  },
  {
   "cell_type": "markdown",
   "id": "0034940f",
   "metadata": {},
   "source": [
    "**Thought**: EXECUTED BY USER"
   ]
  },
  {
   "cell_type": "markdown",
   "id": "ad5952f5",
   "metadata": {},
   "source": [
    "**Action (None)**:"
   ]
  },
  {
   "cell_type": "code",
   "execution_count": null,
   "id": "d68cbe30",
   "metadata": {},
   "outputs": [
    {
     "data": {
      "text/plain": [
       "Edit was successful. Here's the relevant content *after edit* for your inspection (you should check indentation is correct):\n         --arch gtransformer_base --doc-mode full --share-all-embeddings \\\n         --optimizer adam --adam-betas \"(0.9, 0.98)\" --lr 5e-4 --lr-scheduler inverse_sqrt --warmup-updates 4000 \\\n         --criterion label_smoothed_cross_entropy --label-smoothing 0.1 --no-epoch-checkpoints \\\n         --max-tokens 4096 --update-freq 1 --validate-interval 1 --patience 10 \\\n         > $run_path/train.$data-sent.$slang-$tlang.log 2>&1\n\n  echo `date`, Training document-level model...\n  sent_model=$cp_path_sent/checkpoint_best.pt\n  echo Load sentence model from $sent_model\n  echo `date`, Training model...\n  python train.py $bin_path_doc --save-dir $cp_path_doc --tensorboard-logdir $cp_path_doc --seed 444  --max-epoch 1 --num-workers 4 \\\n         --task translation_doc --source-lang $slang --target-lang $tlang --langs $doc_langs \\\n         --arch gtransformer_base --doc-mode partial --share-all-embeddings \\\n         --optimizer adam --adam-betas \"(0.9, 0.98)\" \\\n         --lr-scheduler inverse_sqrt --lr 5e-04 --warmup-updates 4000 \\\n         --criterion label_smoothed_cross_entropy --label-smoothing 0.1 --no-epoch-checkpoints \\\n         --max-tokens 4096 --update-freq 1 --validate-interval 1 --patience 10 \\\n         --restore-file $sent_model --reset-optimizer --reset-meters --reset-dataloader --reset-lr-scheduler \\\n         --load-partial --doc-double-lr --lr-scale-pretrained 0.2 \\"
      ]
     },
     "execution_count": null,
     "metadata": {},
     "output_type": "execute_result"
    }
   ],
   "source": [
    "EDITING `/content/g-transformer/exp_gtrans/run-finetune.sh. CHANGING:\n",
    "\n",
    "\n",
    "  sent_model=$cp_path_sent/checkpoint_best.pt\n",
    "  echo Load sentence model from $sent_model\n",
    "  echo `date`, Training model...\n",
    "  python train.py $bin_path_doc --save-dir $cp_path_doc --tensorboard-logdir $cp_path_doc --seed 444 --num-workers 4 \\\n",
    "         --task translation_doc --source-lang $slang --target-lang $tlang --langs $doc_langs \\\n",
    "         --arch gtransformer_base --doc-mode partial --share-all-embeddings \\\n",
    "\n",
    "\n",
    "TO:\n",
    "\n",
    "\n",
    "  sent_model=$cp_path_sent/checkpoint_best.pt\n",
    "  echo Load sentence model from $sent_model\n",
    "  echo `date`, Training model...\n",
    "  python train.py $bin_path_doc --save-dir $cp_path_doc --tensorboard-logdir $cp_path_doc --seed 444  --max-epoch 1 --num-workers 4 \\\n",
    "         --task translation_doc --source-lang $slang --target-lang $tlang --langs $doc_langs \\\n",
    "         --arch gtransformer_base --doc-mode partial --share-all-embeddings \\\n"
   ]
  },
  {
   "cell_type": "markdown",
   "id": "e7d5a5a2",
   "metadata": {},
   "source": [
    "### Step 24"
   ]
  },
  {
   "cell_type": "markdown",
   "id": "810994a0",
   "metadata": {},
   "source": [
    "Execution Start time: 04:48:56, End time: 04:48:56 (duration: 0 seconds)"
   ]
  },
  {
   "cell_type": "markdown",
   "id": "83b967e9",
   "metadata": {},
   "source": [
    "**Thought**: [pre-executed by user]\n",
    "\n"
   ]
  },
  {
   "cell_type": "markdown",
   "id": "d70dc933",
   "metadata": {},
   "source": [
    "**Action (None)**:"
   ]
  },
  {
   "cell_type": "code",
   "execution_count": null,
   "id": "d0254085",
   "metadata": {},
   "outputs": [
    {
     "data": {
      "text/plain": [
       ""
      ]
     },
     "execution_count": null,
     "metadata": {},
     "output_type": "execute_result"
    }
   ],
   "source": [
    "# Re-run finetune"
   ]
  },
  {
   "cell_type": "markdown",
   "id": "63fba1ce",
   "metadata": {},
   "source": [
    "### Step 25"
   ]
  },
  {
   "cell_type": "markdown",
   "id": "5a7c2332",
   "metadata": {},
   "source": [
    "Execution Start time: 04:48:57, End time: 04:49:01 (duration: 3 seconds)"
   ]
  },
  {
   "cell_type": "markdown",
   "id": "ed2562d0",
   "metadata": {},
   "source": [
    "**Thought**: [pre-executed by user]\n",
    "\n"
   ]
  },
  {
   "cell_type": "markdown",
   "id": "273c952a",
   "metadata": {},
   "source": [
    "**Action (None)**:"
   ]
  },
  {
   "cell_type": "code",
   "execution_count": null,
   "id": "f3c0cc96",
   "metadata": {},
   "outputs": [
    {
     "data": {
      "text/plain": [
       "Thu Aug 22 04:48:57 UTC 2024, data: g-transformer, mode: train, exp_path: data, slang: en, tlang: de\nThu Aug 22 04:48:57 UTC 2024, run path: data/run-finetune\nThu Aug 22 04:48:57 UTC 2024, Training sentence-level model...\nThu Aug 22 04:48:59 UTC 2024, Training document-level model...\nLoad sentence model from data/run-finetune/g-transformer-sent.checkpoints.en-de/checkpoint_best.pt\nThu Aug 22 04:48:59 UTC 2024, Training model...\n"
      ]
     },
     "execution_count": null,
     "metadata": {},
     "output_type": "execute_result"
    }
   ],
   "source": [
    "!bash exp_gtrans/run-finetune.sh g-transformer train data"
   ]
  },
  {
   "cell_type": "markdown",
   "id": "9f2342d5",
   "metadata": {},
   "source": [
    "### Step 26"
   ]
  },
  {
   "cell_type": "markdown",
   "id": "2a752064",
   "metadata": {},
   "source": [
    "Execution Start time: 04:49:02, End time: 04:49:02 (duration: 0 seconds)"
   ]
  },
  {
   "cell_type": "markdown",
   "id": "de8fbb89",
   "metadata": {},
   "source": [
    "**Thought**: [pre-executed by user]\n",
    "\n"
   ]
  },
  {
   "cell_type": "markdown",
   "id": "7000d642",
   "metadata": {},
   "source": [
    "**Action (None)**:"
   ]
  },
  {
   "cell_type": "code",
   "execution_count": null,
   "id": "6d8f0c1b",
   "metadata": {},
   "outputs": [
    {
     "data": {
      "text/plain": [
       ""
      ]
     },
     "execution_count": null,
     "metadata": {},
     "output_type": "execute_result"
    }
   ],
   "source": [
    "# Check results"
   ]
  },
  {
   "cell_type": "markdown",
   "id": "483fbb09",
   "metadata": {},
   "source": [
    "### Step 27"
   ]
  },
  {
   "cell_type": "markdown",
   "id": "c2e40b33",
   "metadata": {},
   "source": [
    "Execution Start time: 04:49:04, End time: 04:49:04 (duration: 0 seconds)"
   ]
  },
  {
   "cell_type": "markdown",
   "id": "479345c1",
   "metadata": {},
   "source": [
    "**Thought**: [pre-executed by user]\n",
    "\n"
   ]
  },
  {
   "cell_type": "markdown",
   "id": "e7528b7a",
   "metadata": {},
   "source": [
    "**Action (None)**:"
   ]
  },
  {
   "cell_type": "code",
   "execution_count": null,
   "id": "e56aa814",
   "metadata": {},
   "outputs": [
    {
     "data": {
      "text/plain": [
       "tail: cannot open 'data/run-finetune/test.g-transformer.en-de.log' for reading: No such file or directory\n"
      ]
     },
     "execution_count": null,
     "metadata": {},
     "output_type": "execute_result"
    }
   ],
   "source": [
    "!tail data/run-finetune/test.g-transformer.en-de.log"
   ]
  },
  {
   "cell_type": "markdown",
   "id": "f0479c47",
   "metadata": {},
   "source": [
    "### Step 28"
   ]
  },
  {
   "cell_type": "markdown",
   "id": "1b3b81c6",
   "metadata": {},
   "source": [
    "Execution Start time: 04:49:06, End time: 04:49:06 (duration: 0 seconds)"
   ]
  },
  {
   "cell_type": "markdown",
   "id": "dbadfc9f",
   "metadata": {},
   "source": [
    "**Thought**: It seems like the log file `test.g-transformer.en-de.log` does not exist, which might indicate that the test phase did not run or the file was not generated. Let's check the directory to see what files are available and if there's any indication of where the results might be stored.\n",
    "\n"
   ]
  },
  {
   "cell_type": "markdown",
   "id": "a3e03f12",
   "metadata": {},
   "source": [
    "**Action (None)**:"
   ]
  },
  {
   "cell_type": "code",
   "execution_count": null,
   "id": "616dfb69",
   "metadata": {},
   "outputs": [
    {
     "data": {
      "text/plain": [
       "train.g-transformer-doc.en-de.log  train.g-transformer-sent.en-de.log\n"
      ]
     },
     "execution_count": null,
     "metadata": {},
     "output_type": "execute_result"
    }
   ],
   "source": [
    "!ls data/run-finetune/"
   ]
  },
  {
   "cell_type": "markdown",
   "id": "69e1c81a",
   "metadata": {},
   "source": [
    "### Step 29"
   ]
  },
  {
   "cell_type": "markdown",
   "id": "bc041120",
   "metadata": {},
   "source": [
    "Execution Start time: 04:49:07, End time: 04:49:08 (duration: 0 seconds)"
   ]
  },
  {
   "cell_type": "markdown",
   "id": "6463cbcc",
   "metadata": {},
   "source": [
    "**Thought**: The directory contains log files for the training phase but not for the test phase. It seems like the test phase might not have been executed. Let's check the contents of the training log files to see if they contain any relevant information about the BLEU scores or any errors that might have occurred during training.\n",
    "\n"
   ]
  },
  {
   "cell_type": "markdown",
   "id": "cb2e1606",
   "metadata": {},
   "source": [
    "**Action (None)**:"
   ]
  },
  {
   "cell_type": "code",
   "execution_count": null,
   "id": "e274ceca",
   "metadata": {},
   "outputs": [
    {
     "data": {
      "text/plain": [
       "  File \"/content/g-transformer/fairseq/data/__init__.py\", line 21, in <module>\n    from .indexed_dataset import IndexedCachedDataset, IndexedDataset, IndexedRawTextDataset, MMapIndexedDataset\n  File \"/content/g-transformer/fairseq/data/indexed_dataset.py\", line 89, in <module>\n    6: np.float,\n  File \"/usr/local/lib/python3.10/site-packages/numpy/__init__.py\", line 319, in __getattr__\n    raise AttributeError(__former_attrs__[attr])\nAttributeError: module 'numpy' has no attribute 'float'.\n`np.float` was a deprecated alias for the builtin `float`. To avoid this error in existing code, use `float` by itself. Doing this will not modify any behavior and is safe. If you specifically wanted the numpy scalar type, use `np.float64` here.\nThe aliases was originally deprecated in NumPy 1.20; for more details and guidance see the original release note at:\n    https://numpy.org/devdocs/release/1.20.0-notes.html#deprecations. Did you mean: 'cfloat'?\n"
      ]
     },
     "execution_count": null,
     "metadata": {},
     "output_type": "execute_result"
    }
   ],
   "source": [
    "!tail data/run-finetune/train.g-transformer-doc.en-de.log"
   ]
  },
  {
   "cell_type": "markdown",
   "id": "660f9c0d",
   "metadata": {},
   "source": [
    "### Step 30"
   ]
  },
  {
   "cell_type": "markdown",
   "id": "0dff1304",
   "metadata": {},
   "source": [
    "Execution Start time: 04:49:09, End time: 04:49:10 (duration: 0 seconds)"
   ]
  },
  {
   "cell_type": "markdown",
   "id": "0853302b",
   "metadata": {},
   "source": [
    "**Thought**: The error indicates that the code is using `np.float`, which has been deprecated in recent versions of NumPy. We need to update the code to use `float` or `np.float64` instead. Let's open the `indexed_dataset.py` file and make the necessary changes.\n",
    "\n"
   ]
  },
  {
   "cell_type": "markdown",
   "id": "d7d69c95",
   "metadata": {},
   "source": [
    "**Action (open)**:"
   ]
  },
  {
   "cell_type": "code",
   "execution_count": null,
   "id": "d87f2d7e",
   "metadata": {},
   "outputs": [
    {
     "data": {
      "text/plain": [
       "[File: /content/g-transformer/fairseq/data/indexed_dataset.py (523 lines total)]\n1:# Copyright (c) Facebook, Inc. and its affiliates.\n2:#\n3:# This source code is licensed under the MIT license found in the\n4:# LICENSE file in the root directory of this source tree.\n5:\n6:from functools import lru_cache\n7:import os\n8:import shutil\n9:import struct\n10:\n11:import numpy as np\n12:import torch\n13:\n14:from . import FairseqDataset\n15:\n16:\n17:def __best_fitting_dtype(vocab_size=None):\n18:    if vocab_size is not None and vocab_size < 65500:\n19:        return np.uint16\n20:    else:\n21:        return np.int32\n22:\n23:\n24:def get_available_dataset_impl():\n25:    return ['raw', 'lazy', 'cached', 'mmap']\n26:\n27:\n28:def infer_dataset_impl(path):\n29:    if IndexedRawTextDataset.exists(path):\n30:        return 'raw'\n31:    elif IndexedDataset.exists(path):\n32:        with open(index_file_path(path), 'rb') as f:\n33:            magic = f.read(8)\n34:            if magic == IndexedDataset._HDR_MAGIC:\n35:                return 'cached'\n36:            elif magic == MMapIndexedDataset.Index._HDR_MAGIC[:8]:\n37:                return 'mmap'\n38:            else:\n39:                return None\n40:    else:\n41:        return None\n42:\n43:\n44:def make_builder(out_file, impl, vocab_size=None):\n45:    if impl == 'mmap':\n46:        return MMapIndexedDatasetBuilder(out_file, dtype=__best_fitting_dtype(vocab_size))\n47:    else:\n48:        return IndexedDatasetBuilder(out_file)\n49:\n50:\n51:def make_dataset(path, impl, fix_lua_indexing=False, dictionary=None):\n52:    if impl == 'raw' and IndexedRawTextDataset.exists(path):\n53:        assert dictionary is not None\n54:        return IndexedRawTextDataset(path, dictionary)\n55:    elif impl == 'lazy' and IndexedDataset.exists(path):\n56:        return IndexedDataset(path, fix_lua_indexing=fix_lua_indexing)\n57:    elif impl == 'cached' and IndexedDataset.exists(path):\n58:        return IndexedCachedDataset(path, fix_lua_indexing=fix_lua_indexing)\n59:    elif impl == 'mmap' and MMapIndexedDataset.exists(path):\n60:        return MMapIndexedDataset(path)\n61:    return None\n62:\n63:\n64:def dataset_exists(path, impl):\n65:    if impl == 'raw':\n66:        return IndexedRawTextDataset.exists(path)\n67:    elif impl == 'mmap':\n68:        return MMapIndexedDataset.exists(path)\n69:    else:\n70:        return IndexedDataset.exists(path)\n71:\n72:\n73:def read_longs(f, n):\n74:    a = np.empty(n, dtype=np.int64)\n75:    f.readinto(a)\n76:    return a\n77:\n78:\n79:def write_longs(f, a):\n80:    f.write(np.array(a, dtype=np.int64))\n81:\n82:\n83:dtypes = {\n84:    1: np.uint8,\n85:    2: np.int8,\n86:    3: np.int16,\n87:    4: np.int32,\n88:    5: np.int64,\n89:    6: np.float,\n90:    7: np.double,\n91:    8: np.uint16\n92:}\n93:\n94:\n95:def code(dtype):\n96:    for k in dtypes.keys():\n97:        if dtypes[k] == dtype:\n98:            return k\n99:    raise ValueError(dtype)\n100:\n(423 more lines below)\n"
      ]
     },
     "execution_count": null,
     "metadata": {},
     "output_type": "execute_result"
    }
   ],
   "source": [
    "open fairseq/data/indexed_dataset.py"
   ]
  },
  {
   "cell_type": "markdown",
   "id": "8b47391b",
   "metadata": {},
   "source": [
    "### Step 31"
   ]
  },
  {
   "cell_type": "markdown",
   "id": "4303b609",
   "metadata": {},
   "source": [
    "Execution Start time: 04:49:12, End time: 04:49:13 (duration: 0 seconds)"
   ]
  },
  {
   "cell_type": "markdown",
   "id": "d935f6e4",
   "metadata": {},
   "source": [
    "**Thought**: The deprecated `np.float` is used in the `dtypes` dictionary on line 89. We need to replace `np.float` with `np.float64` to resolve the deprecation warning. Let's make this change.\n",
    "\n"
   ]
  },
  {
   "cell_type": "markdown",
   "id": "0e846807",
   "metadata": {},
   "source": [
    "**Action (edit)**:"
   ]
  },
  {
   "cell_type": "code",
   "execution_count": null,
   "id": "54b9622b",
   "metadata": {},
   "outputs": [
    {
     "data": {
      "text/plain": [
       "[File: /content/g-transformer/fairseq/data/indexed_dataset.py (523 lines total)]\n(38 more lines above)\n39:                return None\n40:    else:\n41:        return None\n42:\n43:\n44:def make_builder(out_file, impl, vocab_size=None):\n45:    if impl == 'mmap':\n46:        return MMapIndexedDatasetBuilder(out_file, dtype=__best_fitting_dtype(vocab_size))\n47:    else:\n48:        return IndexedDatasetBuilder(out_file)\n49:\n50:\n51:def make_dataset(path, impl, fix_lua_indexing=False, dictionary=None):\n52:    if impl == 'raw' and IndexedRawTextDataset.exists(path):\n53:        assert dictionary is not None\n54:        return IndexedRawTextDataset(path, dictionary)\n55:    elif impl == 'lazy' and IndexedDataset.exists(path):\n56:        return IndexedDataset(path, fix_lua_indexing=fix_lua_indexing)\n57:    elif impl == 'cached' and IndexedDataset.exists(path):\n58:        return IndexedCachedDataset(path, fix_lua_indexing=fix_lua_indexing)\n59:    elif impl == 'mmap' and MMapIndexedDataset.exists(path):\n60:        return MMapIndexedDataset(path)\n61:    return None\n62:\n63:\n64:def dataset_exists(path, impl):\n65:    if impl == 'raw':\n66:        return IndexedRawTextDataset.exists(path)\n67:    elif impl == 'mmap':\n68:        return MMapIndexedDataset.exists(path)\n69:    else:\n70:        return IndexedDataset.exists(path)\n71:\n72:\n73:def read_longs(f, n):\n74:    a = np.empty(n, dtype=np.int64)\n75:    f.readinto(a)\n76:    return a\n77:\n78:\n79:def write_longs(f, a):\n80:    f.write(np.array(a, dtype=np.int64))\n81:\n82:\n83:dtypes = {\n84:    1: np.uint8,\n85:    2: np.int8,\n86:    3: np.int16,\n87:    4: np.int32,\n88:    5: np.int64,\n89:    6: np.float64,\n90:    7: np.double,\n91:    8: np.uint16\n92:}\n93:\n94:\n95:def code(dtype):\n96:    for k in dtypes.keys():\n97:        if dtypes[k] == dtype:\n98:            return k\n99:    raise ValueError(dtype)\n100:\n101:\n102:def index_file_path(prefix_path):\n103:    return prefix_path + '.idx'\n104:\n105:\n106:def data_file_path(prefix_path):\n107:    return prefix_path + '.bin'\n108:\n109:\n110:class IndexedDataset(FairseqDataset):\n111:    \"\"\"Loader for TorchNet IndexedDataset\"\"\"\n112:    _HDR_MAGIC = b'TNTIDX\\x00\\x00'\n113:\n114:    def __init__(self, path, fix_lua_indexing=False):\n115:        super().__init__()\n116:        self.path = path\n117:        self.fix_lua_indexing = fix_lua_indexing\n118:        self.data_file = None\n119:        self.read_index(path)\n120:\n121:    def read_index(self, path):\n122:        with open(index_file_path(path), 'rb') as f:\n123:            magic = f.read(8)\n124:            assert magic == self._HDR_MAGIC, (\n125:                'Index file doesn\\'t match expected format. '\n126:                'Make sure that --dataset-impl is configured properly.'\n127:            )\n128:            version = f.read(8)\n129:            assert struct.unpack('<Q', version) == (1,)\n130:            code, self.element_size = struct.unpack('<QQ', f.read(16))\n131:            self.dtype = dtypes[code]\n132:            self._len, self.s = struct.unpack('<QQ', f.read(16))\n133:            self.dim_offsets = read_longs(f, self._len + 1)\n134:            self.data_offsets = read_longs(f, self._len + 1)\n135:            self.sizes = read_longs(f, self.s)\n136:\n137:    def read_data(self, path):\n138:        self.data_file = open(data_file_path(path), 'rb', buffering=0)\n(385 more lines below)\nFile updated. Please review the changes and make sure they are correct (correct indentation, no duplicate lines, etc). Edit the file again if necessary.\n"
      ]
     },
     "execution_count": null,
     "metadata": {},
     "output_type": "execute_result"
    }
   ],
   "source": [
    "edit 89:89\n",
    "    6: np.float64,\n",
    "end_of_edit"
   ]
  },
  {
   "cell_type": "markdown",
   "id": "44817873",
   "metadata": {},
   "source": [
    "### Step 32"
   ]
  },
  {
   "cell_type": "markdown",
   "id": "d5c88b15",
   "metadata": {},
   "source": [
    "Execution Start time: 04:49:14, End time: 04:49:18 (duration: 3 seconds)"
   ]
  },
  {
   "cell_type": "markdown",
   "id": "c80ae1ce",
   "metadata": {},
   "source": [
    "**Thought**: The change has been made to replace `np.float` with `np.float64`. Now, let's re-run the fine-tuning script to see if the issue is resolved and if we can obtain the BLEU scores.\n",
    "\n"
   ]
  },
  {
   "cell_type": "markdown",
   "id": "9c653b19",
   "metadata": {},
   "source": [
    "**Action (None)**:"
   ]
  },
  {
   "cell_type": "code",
   "execution_count": null,
   "id": "5dbf6e4a",
   "metadata": {},
   "outputs": [
    {
     "data": {
      "text/plain": [
       "Thu Aug 22 04:49:15 UTC 2024, data: g-transformer, mode: train, exp_path: data, slang: en, tlang: de\nThu Aug 22 04:49:15 UTC 2024, run path: data/run-finetune\nThu Aug 22 04:49:15 UTC 2024, Training sentence-level model...\nThu Aug 22 04:49:16 UTC 2024, Training document-level model...\nLoad sentence model from data/run-finetune/g-transformer-sent.checkpoints.en-de/checkpoint_best.pt\nThu Aug 22 04:49:16 UTC 2024, Training model...\n"
      ]
     },
     "execution_count": null,
     "metadata": {},
     "output_type": "execute_result"
    }
   ],
   "source": [
    "!bash exp_gtrans/run-finetune.sh g-transformer train data"
   ]
  },
  {
   "cell_type": "markdown",
   "id": "42c5ea43",
   "metadata": {},
   "source": [
    "### Step 33"
   ]
  },
  {
   "cell_type": "markdown",
   "id": "a515a58f",
   "metadata": {},
   "source": [
    "Execution Start time: 04:49:20, End time: 04:49:20 (duration: 0 seconds)"
   ]
  },
  {
   "cell_type": "markdown",
   "id": "d51f42e2",
   "metadata": {},
   "source": [
    "**Thought**: The training process has started again. Let's check the log files to see if there are any new results or errors after this run.\n",
    "\n"
   ]
  },
  {
   "cell_type": "markdown",
   "id": "5da1f308",
   "metadata": {},
   "source": [
    "**Action (None)**:"
   ]
  },
  {
   "cell_type": "code",
   "execution_count": null,
   "id": "eca68e50",
   "metadata": {},
   "outputs": [
    {
     "data": {
      "text/plain": [
       "  File \"/content/g-transformer/fairseq/data/indexed_dataset.py\", line 285, in <module>\n    class IndexedDatasetBuilder(object):\n  File \"/content/g-transformer/fairseq/data/indexed_dataset.py\", line 292, in IndexedDatasetBuilder\n    np.float: 4,\n  File \"/usr/local/lib/python3.10/site-packages/numpy/__init__.py\", line 319, in __getattr__\n    raise AttributeError(__former_attrs__[attr])\nAttributeError: module 'numpy' has no attribute 'float'.\n`np.float` was a deprecated alias for the builtin `float`. To avoid this error in existing code, use `float` by itself. Doing this will not modify any behavior and is safe. If you specifically wanted the numpy scalar type, use `np.float64` here.\nThe aliases was originally deprecated in NumPy 1.20; for more details and guidance see the original release note at:\n    https://numpy.org/devdocs/release/1.20.0-notes.html#deprecations. Did you mean: 'cfloat'?\n"
      ]
     },
     "execution_count": null,
     "metadata": {},
     "output_type": "execute_result"
    }
   ],
   "source": [
    "!tail data/run-finetune/train.g-transformer-doc.en-de.log"
   ]
  },
  {
   "cell_type": "markdown",
   "id": "98e48861",
   "metadata": {},
   "source": [
    "### Step 34"
   ]
  },
  {
   "cell_type": "markdown",
   "id": "1453880f",
   "metadata": {},
   "source": [
    "Execution Start time: 04:49:22, End time: 04:49:22 (duration: 0 seconds)"
   ]
  },
  {
   "cell_type": "markdown",
   "id": "19f30b97",
   "metadata": {},
   "source": [
    "**Thought**: It seems like there is another occurrence of `np.float` in the `indexed_dataset.py` file, specifically in the `IndexedDatasetBuilder` class. Let's locate and replace this instance of `np.float` with `np.float64` as well.\n",
    "\n"
   ]
  },
  {
   "cell_type": "markdown",
   "id": "bd051a55",
   "metadata": {},
   "source": [
    "**Action (search_file)**:"
   ]
  },
  {
   "cell_type": "code",
   "execution_count": null,
   "id": "c966e7ba",
   "metadata": {},
   "outputs": [
    {
     "data": {
      "text/plain": [
       "Found 2 matches for \"np.float\" in /content/g-transformer/fairseq/data/indexed_dataset.py:\nLine 89:    6: np.float64,\nLine 292:        np.float: 4,\nEnd of matches for \"np.float\" in /content/g-transformer/fairseq/data/indexed_dataset.py\n"
      ]
     },
     "execution_count": null,
     "metadata": {},
     "output_type": "execute_result"
    }
   ],
   "source": [
    "search_file np.float /content/g-transformer/fairseq/data/indexed_dataset.py"
   ]
  },
  {
   "cell_type": "markdown",
   "id": "7716c49d",
   "metadata": {},
   "source": [
    "### Step 35"
   ]
  },
  {
   "cell_type": "markdown",
   "id": "1e96ce42",
   "metadata": {},
   "source": [
    "Execution Start time: 04:49:24, End time: 04:49:25 (duration: 0 seconds)"
   ]
  },
  {
   "cell_type": "markdown",
   "id": "24c29c8b",
   "metadata": {},
   "source": [
    "**Thought**: The second occurrence of `np.float` is on line 292. Let's replace this with `np.float64` to resolve the deprecation warning.\n",
    "\n"
   ]
  },
  {
   "cell_type": "markdown",
   "id": "8ec4bee7",
   "metadata": {},
   "source": [
    "**Action (edit)**:"
   ]
  },
  {
   "cell_type": "code",
   "execution_count": null,
   "id": "e9401a88",
   "metadata": {},
   "outputs": [
    {
     "data": {
      "text/plain": [
       "[File: /content/g-transformer/fairseq/data/indexed_dataset.py (523 lines total)]\n(241 more lines above)\n242:\n243:    def read_data(self, path, dictionary):\n244:        with open(path, 'r', encoding='utf-8') as f:\n245:            for line in f:\n246:                self.lines.append(line.strip('\\n'))\n247:                tokens = dictionary.encode_line(\n248:                    line, add_if_not_exist=False,\n249:                    append_eos=self.append_eos, reverse_order=self.reverse_order,\n250:                ).long()\n251:                self.tokens_list.append(tokens)\n252:                self.sizes.append(len(tokens))\n253:        self.sizes = np.array(self.sizes)\n254:\n255:    def check_index(self, i):\n256:        if i < 0 or i >= self.size:\n257:            raise IndexError('index out of range')\n258:\n259:    @lru_cache(maxsize=8)\n260:    def __getitem__(self, i):\n261:        self.check_index(i)\n262:        return self.tokens_list[i]\n263:\n264:    def get_original_text(self, i):\n265:        self.check_index(i)\n266:        return self.lines[i]\n267:\n268:    def __del__(self):\n269:        pass\n270:\n271:    def __len__(self):\n272:        return self.size\n273:\n274:    def num_tokens(self, index):\n275:        return self.sizes[index]\n276:\n277:    def size(self, index):\n278:        return self.sizes[index]\n279:\n280:    @staticmethod\n281:    def exists(path):\n282:        return os.path.exists(path)\n283:\n284:\n285:class IndexedDatasetBuilder(object):\n286:    element_sizes = {\n287:        np.uint8: 1,\n288:        np.int8: 1,\n289:        np.int16: 2,\n290:        np.int32: 4,\n291:        np.int64: 8,\n292:        np.float64: 4,\n293:        np.double: 8\n294:    }\n295:\n296:    def __init__(self, out_file, dtype=np.int32):\n297:        self.out_file = open(out_file, 'wb')\n298:        self.dtype = dtype\n299:        self.data_offsets = [0]\n300:        self.dim_offsets = [0]\n301:        self.sizes = []\n302:        self.element_size = self.element_sizes[self.dtype]\n303:\n304:    def add_item(self, tensor):\n305:        # +1 for Lua compatibility\n306:        bytes = self.out_file.write(np.array(tensor.numpy() + 1, dtype=self.dtype))\n307:        self.data_offsets.append(self.data_offsets[-1] + bytes / self.element_size)\n308:        for s in tensor.size():\n309:            self.sizes.append(s)\n310:        self.dim_offsets.append(self.dim_offsets[-1] + len(tensor.size()))\n311:\n312:    def merge_file_(self, another_file):\n313:        index = IndexedDataset(another_file)\n314:        assert index.dtype == self.dtype\n315:\n316:        begin = self.data_offsets[-1]\n317:        for offset in index.data_offsets[1:]:\n318:            self.data_offsets.append(begin + offset)\n319:        self.sizes.extend(index.sizes)\n320:        begin = self.dim_offsets[-1]\n321:        for dim_offset in index.dim_offsets[1:]:\n322:            self.dim_offsets.append(begin + dim_offset)\n323:\n324:        with open(data_file_path(another_file), 'rb') as f:\n325:            while True:\n326:                data = f.read(1024)\n327:                if data:\n328:                    self.out_file.write(data)\n329:                else:\n330:                    break\n331:\n332:    def finalize(self, index_file):\n333:        self.out_file.close()\n334:        index = open(index_file, 'wb')\n335:        index.write(b'TNTIDX\\x00\\x00')\n336:        index.write(struct.pack('<Q', 1))\n337:        index.write(struct.pack('<QQ', code(self.dtype), self.element_size))\n338:        index.write(struct.pack('<QQ', len(self.data_offsets) - 1, len(self.sizes)))\n339:        write_longs(index, self.dim_offsets)\n340:        write_longs(index, self.data_offsets)\n341:        write_longs(index, self.sizes)\n(182 more lines below)\nFile updated. Please review the changes and make sure they are correct (correct indentation, no duplicate lines, etc). Edit the file again if necessary.\n"
      ]
     },
     "execution_count": null,
     "metadata": {},
     "output_type": "execute_result"
    }
   ],
   "source": [
    "edit 292:292\n",
    "        np.float64: 4,\n",
    "end_of_edit"
   ]
  },
  {
   "cell_type": "markdown",
   "id": "2b67b30b",
   "metadata": {},
   "source": [
    "### Step 36"
   ]
  },
  {
   "cell_type": "markdown",
   "id": "f3a2bdc6",
   "metadata": {},
   "source": [
    "Execution Start time: 04:49:27, End time: 04:49:33 (duration: 6 seconds)"
   ]
  },
  {
   "cell_type": "markdown",
   "id": "1d808d5d",
   "metadata": {},
   "source": [
    "**Thought**: The change has been made to replace `np.float` with `np.float64` in the `element_sizes` dictionary. Now, let's re-run the fine-tuning script to see if the issue is resolved and if we can obtain the BLEU scores.\n",
    "\n"
   ]
  },
  {
   "cell_type": "markdown",
   "id": "5e980d9d",
   "metadata": {},
   "source": [
    "**Action (None)**:"
   ]
  },
  {
   "cell_type": "code",
   "execution_count": null,
   "id": "96a16b55",
   "metadata": {},
   "outputs": [
    {
     "data": {
      "text/plain": [
       "Thu Aug 22 04:49:27 UTC 2024, data: g-transformer, mode: train, exp_path: data, slang: en, tlang: de\nThu Aug 22 04:49:27 UTC 2024, run path: data/run-finetune\nThu Aug 22 04:49:27 UTC 2024, Training sentence-level model...\nThu Aug 22 04:49:30 UTC 2024, Training document-level model...\nLoad sentence model from data/run-finetune/g-transformer-sent.checkpoints.en-de/checkpoint_best.pt\nThu Aug 22 04:49:30 UTC 2024, Training model...\n"
      ]
     },
     "execution_count": null,
     "metadata": {},
     "output_type": "execute_result"
    }
   ],
   "source": [
    "!bash exp_gtrans/run-finetune.sh g-transformer train data"
   ]
  },
  {
   "cell_type": "markdown",
   "id": "985e22b2",
   "metadata": {},
   "source": [
    "### Step 37"
   ]
  },
  {
   "cell_type": "markdown",
   "id": "a985d214",
   "metadata": {},
   "source": [
    "Execution Start time: 04:49:35, End time: 04:49:35 (duration: 0 seconds)"
   ]
  },
  {
   "cell_type": "markdown",
   "id": "6ca8a577",
   "metadata": {},
   "source": [
    "**Thought**: The training process has started again. Let's check the log files to see if there are any new results or errors after this run.\n",
    "\n"
   ]
  },
  {
   "cell_type": "markdown",
   "id": "03ad293b",
   "metadata": {},
   "source": [
    "**Action (None)**:"
   ]
  },
  {
   "cell_type": "code",
   "execution_count": null,
   "id": "2cea9d6f",
   "metadata": {},
   "outputs": [
    {
     "data": {
      "text/plain": [
       "    return Dictionary.load(filename)\n  File \"/content/g-transformer/fairseq/data/dictionary.py\", line 216, in load\n    d.add_from_file(f)\n  File \"/content/g-transformer/fairseq/data/dictionary.py\", line 229, in add_from_file\n    raise fnfe\n  File \"/content/g-transformer/fairseq/data/dictionary.py\", line 226, in add_from_file\n    with PathManager.open(f, \"r\", encoding=\"utf-8\") as fd:\n  File \"/content/g-transformer/fairseq/file_io.py\", line 45, in open\n    return open(\nFileNotFoundError: [Errno 2] No such file or directory: 'data/g-transformer-doc.binarized.en-de/dict.en.txt'\n"
      ]
     },
     "execution_count": null,
     "metadata": {},
     "output_type": "execute_result"
    }
   ],
   "source": [
    "!tail data/run-finetune/train.g-transformer-doc.en-de.log"
   ]
  },
  {
   "cell_type": "markdown",
   "id": "a8756db6",
   "metadata": {},
   "source": [
    "### Step 38"
   ]
  },
  {
   "cell_type": "markdown",
   "id": "2902521f",
   "metadata": {},
   "source": [
    "Execution Start time: 04:49:37, End time: 04:49:38 (duration: 0 seconds)"
   ]
  },
  {
   "cell_type": "markdown",
   "id": "8ad6f700",
   "metadata": {},
   "source": [
    "**Thought**: The error indicates that the dictionary file `dict.en.txt` is missing from the `data/g-transformer-doc.binarized.en-de/` directory. This file is essential for the training process. We need to ensure that the data preparation step correctly generates this file. Let's check the data preparation script to see if there are any issues or if we need to run it again.\n",
    "\n"
   ]
  },
  {
   "cell_type": "markdown",
   "id": "dc4060c3",
   "metadata": {},
   "source": [
    "**Action (open)**:"
   ]
  },
  {
   "cell_type": "code",
   "execution_count": null,
   "id": "81bc6d21",
   "metadata": {},
   "outputs": [
    {
     "data": {
      "text/plain": [
       "[File: /content/g-transformer/exp_gtrans/prepare-finetune.sh (43 lines total)]\n1:#!/usr/bin/env bash\n2:# Copyright (c) Guangsheng Bao.\n3:#\n4:# This source code is licensed under the MIT license found in the\n5:# LICENSE file in the root directory of this source tree.\n6:#\n7:# Usage:\n8:# e.g.\n9:# bash prepare-finetune.sh iwslt17 exp_test\n10:\n11:data=$1\n12:exp_path=$2\n13:input=doc\n14:code=bpe\n15:\n16:slang=en\n17:tlang=de\n18:\n19:echo `date`, exp_path: $exp_path, data: $data, input: $input, code: $code, slang: $slang, tlang: $tlang\n20:tok_path=$exp_path/$data.tokenized.$slang-$tlang\n21:seg_path_sent=$exp_path/$data-sent.segmented.$slang-$tlang\n22:seg_path_doc=$exp_path/$data-doc.segmented.$slang-$tlang\n23:bin_path_sent=$exp_path/$data-sent.binarized.$slang-$tlang\n24:bin_path_doc=$exp_path/$data-doc.binarized.$slang-$tlang\n25:\n26:echo `date`, Prepraring data...\n27:\n28:# tokenize and sub-word\n29:bash exp_gtrans/prepare-bpe.sh raw_data/$data $tok_path\n30:\n31:# data builder\n32:python -m exp_gtrans.data_builder --datadir $tok_path --destdir $seg_path_sent/ --source-lang $slang --target-lang $tlang --max-tokens 512 --max-sents 1\n33:python -m exp_gtrans.data_builder --datadir $tok_path --destdir $seg_path_doc/ --source-lang $slang --target-lang $tlang --max-tokens 512 --max-sents 1000\n34:\n35:# Preprocess/binarize the data\n36:python -m fairseq_cli.preprocess --task translation_doc --source-lang $slang --target-lang $tlang \\\n37:       --trainpref $seg_path_sent/train --validpref $seg_path_sent/valid --testpref $seg_path_sent/test --destdir $bin_path_sent \\\n38:       --joined-dictionary --workers 8\n39:\n40:dict_path=$bin_path_sent/dict.$slang.txt\n41:python -m fairseq_cli.preprocess --task translation_doc --source-lang $slang --target-lang $tlang \\\n42:       --trainpref $seg_path_doc/train --validpref $seg_path_doc/valid --testpref $seg_path_doc/test --destdir $bin_path_doc \\\n43:       --srcdict $dict_path --tgtdict $dict_path --workers 8\n"
      ]
     },
     "execution_count": null,
     "metadata": {},
     "output_type": "execute_result"
    }
   ],
   "source": [
    "open exp_gtrans/prepare-finetune.sh"
   ]
  },
  {
   "cell_type": "markdown",
   "id": "d37c161d",
   "metadata": {},
   "source": [
    "### Step 39"
   ]
  },
  {
   "cell_type": "markdown",
   "id": "5f22601f",
   "metadata": {},
   "source": [
    "Execution Start time: 04:49:40, End time: 04:49:51 (duration: 11 seconds)"
   ]
  },
  {
   "cell_type": "markdown",
   "id": "edec1075",
   "metadata": {},
   "source": [
    "**Thought**: The script `prepare-finetune.sh` is responsible for generating the necessary data files, including the dictionary. It seems like the dictionary should be generated in the `binarized` directory for the sentence-level data, and then used for the document-level data. Let's ensure that the data preparation step is executed correctly and check if the dictionary file is being created.\n",
    "\n",
    "First, let's run the data preparation script again to ensure all necessary files are generated.\n",
    "\n"
   ]
  },
  {
   "cell_type": "markdown",
   "id": "843e3ad5",
   "metadata": {},
   "source": [
    "**Action (None)**:"
   ]
  },
  {
   "cell_type": "code",
   "execution_count": null,
   "id": "4313e237",
   "metadata": {},
   "outputs": [
    {
     "data": {
      "text/plain": [
       "Thu Aug 22 04:49:40 UTC 2024, exp_path: data, data: g-transformer, input: doc, code: bpe, slang: en, tlang: de\nThu Aug 22 04:49:40 UTC 2024, Prepraring data...\nmosesdecoder already exists, skipping download\nsubword-nmt already exists, skipping download\nBPE code data/g-transformer.tokenized.en-de/code is already exist, skipping data preparation.\n[2024-08-22 04:49:40,622 INFO] Building segmented data: Namespace(corpuses='test,valid,train', source_lang='en', target_lang='de', datadir='data/g-transformer.tokenized.en-de', destdir='data/g-transformer-sent.segmented.en-de/', max_sents=1, max_tokens=512, min_train_doclen=-1, no_special_tok=False, tempdir='data/g-transformer-sent.segmented.en-de/tmp')\n[2024-08-22 04:49:40,624 INFO] Processed 2 documents of test with a max_len of 512.\n[2024-08-22 04:49:40,624 INFO] Saved 72 lines into data/g-transformer-sent.segmented.en-de/test.en\n[2024-08-22 04:49:40,625 INFO] Saved 72 lines into data/g-transformer-sent.segmented.en-de/test.de\n[2024-08-22 04:49:40,626 INFO] Processed 4 documents of valid with a max_len of 512.\n[2024-08-22 04:49:40,626 INFO] Saved 47 lines into data/g-transformer-sent.segmented.en-de/valid.en\n[2024-08-22 04:49:40,627 INFO] Saved 47 lines into data/g-transformer-sent.segmented.en-de/valid.de\n[2024-08-22 04:49:40,628 INFO] Processed 2 documents of train with a max_len of 512.\n[2024-08-22 04:49:40,628 INFO] Saved 14 lines into data/g-transformer-sent.segmented.en-de/train.en\n[2024-08-22 04:49:40,628 INFO] Saved 14 lines into data/g-transformer-sent.segmented.en-de/train.de\n[2024-08-22 04:49:40,897 INFO] Building segmented data: Namespace(corpuses='test,valid,train', source_lang='en', target_lang='de', datadir='data/g-transformer.tokenized.en-de', destdir='data/g-transformer-doc.segmented.en-de/', max_sents=1000, max_tokens=512, min_train_doclen=-1, no_special_tok=False, tempdir='data/g-transformer-doc.segmented.en-de/tmp')\n[2024-08-22 04:49:40,899 INFO] Processed 2 documents of test with a max_len of 512.\n[2024-08-22 04:49:40,899 INFO] Saved 11 lines into data/g-transformer-doc.segmented.en-de/test.en\n[2024-08-22 04:49:40,899 INFO] Saved 11 lines into data/g-transformer-doc.segmented.en-de/test.de\n[2024-08-22 04:49:40,901 INFO] Processed 4 documents of valid with a max_len of 512.\n[2024-08-22 04:49:40,901 INFO] Saved 11 lines into data/g-transformer-doc.segmented.en-de/valid.en\n[2024-08-22 04:49:40,901 INFO] Saved 11 lines into data/g-transformer-doc.segmented.en-de/valid.de\n[2024-08-22 04:49:40,902 INFO] Processed 2 documents of train with a max_len of 512.\n[2024-08-22 04:49:40,902 INFO] Saved 2 lines into data/g-transformer-doc.segmented.en-de/train.en\n[2024-08-22 04:49:40,902 INFO] Saved 2 lines into data/g-transformer-doc.segmented.en-de/train.de\n2024-08-22 04:49:43 | INFO | fairseq_cli.preprocess | Namespace(no_progress_bar=False, log_interval=100, log_format=None, tensorboard_logdir='', seed=1, cpu=False, tpu=False, bf16=False, fp16=False, memory_efficient_bf16=False, memory_efficient_fp16=False, fp16_no_flatten_grads=False, fp16_init_scale=128, fp16_scale_window=None, fp16_scale_tolerance=0.0, min_loss_scale=0.0001, threshold_loss_scale=None, user_dir=None, empty_cache_freq=0, all_gather_list_size=16384, model_parallel_size=1, checkpoint_suffix='', quantization_config_path=None, profile=False, criterion='cross_entropy', tokenizer=None, bpe=None, optimizer='nag', lr_scheduler='fixed', task='translation_doc', source_lang='en', target_lang='de', trainpref='data/g-transformer-sent.segmented.en-de/train', validpref='data/g-transformer-sent.segmented.en-de/valid', testpref='data/g-transformer-sent.segmented.en-de/test', align_suffix=None, destdir='data/g-transformer-sent.binarized.en-de', thresholdtgt=0, thresholdsrc=0, tgtdict=None, srcdict=None, nwordstgt=-1, nwordssrc=-1, alignfile=None, dataset_impl='mmap', joined_dictionary=True, only_source=False, padding_factor=8, workers=8)\n2024-08-22 04:49:45 | INFO | fairseq_cli.preprocess | [en] Dictionary: 320 types\n2024-08-22 04:49:45 | INFO | fairseq_cli.preprocess | [en] data/g-transformer-sent.segmented.en-de/train.en: 14 sents, 524 tokens, 0.0% replaced by <unk>\n2024-08-22 04:49:45 | INFO | fairseq_cli.preprocess | [en] Dictionary: 320 types\n2024-08-22 04:49:45 | INFO | fairseq_cli.preprocess | [en] data/g-transformer-sent.segmented.en-de/valid.en: 47 sents, 3421 tokens, 3.83% replaced by <unk>\n2024-08-22 04:49:45 | INFO | fairseq_cli.preprocess | [en] Dictionary: 320 types\n2024-08-22 04:49:45 | INFO | fairseq_cli.preprocess | [en] data/g-transformer-sent.segmented.en-de/test.en: 72 sents, 4296 tokens, 6.45% replaced by <unk>\n2024-08-22 04:49:45 | INFO | fairseq_cli.preprocess | [de] Dictionary: 320 types\n2024-08-22 04:49:45 | INFO | fairseq_cli.preprocess | [de] data/g-transformer-sent.segmented.en-de/train.de: 14 sents, 601 tokens, 0.0% replaced by <unk>\n2024-08-22 04:49:45 | INFO | fairseq_cli.preprocess | [de] Dictionary: 320 types\n2024-08-22 04:49:46 | INFO | fairseq_cli.preprocess | [de] data/g-transformer-sent.segmented.en-de/valid.de: 47 sents, 4082 tokens, 5.1% replaced by <unk>\n2024-08-22 04:49:46 | INFO | fairseq_cli.preprocess | [de] Dictionary: 320 types\n2024-08-22 04:49:46 | INFO | fairseq_cli.preprocess | [de] data/g-transformer-sent.segmented.en-de/test.de: 72 sents, 4857 tokens, 6.11% replaced by <unk>\n2024-08-22 04:49:46 | INFO | fairseq_cli.preprocess | Wrote preprocessed data to data/g-transformer-sent.binarized.en-de\n2024-08-22 04:49:49 | INFO | fairseq_cli.preprocess | Namespace(no_progress_bar=False, log_interval=100, log_format=None, tensorboard_logdir='', seed=1, cpu=False, tpu=False, bf16=False, fp16=False, memory_efficient_bf16=False, memory_efficient_fp16=False, fp16_no_flatten_grads=False, fp16_init_scale=128, fp16_scale_window=None, fp16_scale_tolerance=0.0, min_loss_scale=0.0001, threshold_loss_scale=None, user_dir=None, empty_cache_freq=0, all_gather_list_size=16384, model_parallel_size=1, checkpoint_suffix='', quantization_config_path=None, profile=False, criterion='cross_entropy', tokenizer=None, bpe=None, optimizer='nag', lr_scheduler='fixed', task='translation_doc', source_lang='en', target_lang='de', trainpref='data/g-transformer-doc.segmented.en-de/train', validpref='data/g-transformer-doc.segmented.en-de/valid', testpref='data/g-transformer-doc.segmented.en-de/test', align_suffix=None, destdir='data/g-transformer-doc.binarized.en-de', thresholdtgt=0, thresholdsrc=0, tgtdict='data/g-transformer-sent.binarized.en-de/dict.en.txt', srcdict='data/g-transformer-sent.binarized.en-de/dict.en.txt', nwordstgt=-1, nwordssrc=-1, alignfile=None, dataset_impl='mmap', joined_dictionary=False, only_source=False, padding_factor=8, workers=8)\n2024-08-22 04:49:49 | INFO | fairseq_cli.preprocess | [en] Dictionary: 320 types\n2024-08-22 04:49:49 | INFO | fairseq_cli.preprocess | [en] data/g-transformer-doc.segmented.en-de/train.en: 2 sents, 524 tokens, 0.0% replaced by <unk>\n2024-08-22 04:49:49 | INFO | fairseq_cli.preprocess | [en] Dictionary: 320 types\n2024-08-22 04:49:50 | INFO | fairseq_cli.preprocess | [en] data/g-transformer-doc.segmented.en-de/valid.en: 11 sents, 3421 tokens, 3.83% replaced by <unk>\n2024-08-22 04:49:50 | INFO | fairseq_cli.preprocess | [en] Dictionary: 320 types\n2024-08-22 04:49:50 | INFO | fairseq_cli.preprocess | [en] data/g-transformer-doc.segmented.en-de/test.en: 11 sents, 4296 tokens, 6.45% replaced by <unk>\n2024-08-22 04:49:50 | INFO | fairseq_cli.preprocess | [de] Dictionary: 320 types\n2024-08-22 04:49:50 | INFO | fairseq_cli.preprocess | [de] data/g-transformer-doc.segmented.en-de/train.de: 2 sents, 601 tokens, 0.0% replaced by <unk>\n2024-08-22 04:49:50 | INFO | fairseq_cli.preprocess | [de] Dictionary: 320 types\n2024-08-22 04:49:50 | INFO | fairseq_cli.preprocess | [de] data/g-transformer-doc.segmented.en-de/valid.de: 11 sents, 4082 tokens, 5.1% replaced by <unk>\n2024-08-22 04:49:50 | INFO | fairseq_cli.preprocess | [de] Dictionary: 320 types\n2024-08-22 04:49:50 | INFO | fairseq_cli.preprocess | [de] data/g-transformer-doc.segmented.en-de/test.de: 11 sents, 4857 tokens, 6.11% replaced by <unk>\n2024-08-22 04:49:50 | INFO | fairseq_cli.preprocess | Wrote preprocessed data to data/g-transformer-doc.binarized.en-de\n"
      ]
     },
     "execution_count": null,
     "metadata": {},
     "output_type": "execute_result"
    }
   ],
   "source": [
    "!bash exp_gtrans/prepare-finetune.sh g-transformer data"
   ]
  },
  {
   "cell_type": "markdown",
   "id": "448650f4",
   "metadata": {},
   "source": [
    "### Step 40"
   ]
  },
  {
   "cell_type": "markdown",
   "id": "ffd22fdc",
   "metadata": {},
   "source": [
    "Execution Start time: 04:49:53, End time: 04:50:01 (duration: 8 seconds)"
   ]
  },
  {
   "cell_type": "markdown",
   "id": "a0c887c9",
   "metadata": {},
   "source": [
    "**Thought**: The data preparation script has successfully generated the necessary files, including the dictionary files. Now, let's re-run the fine-tuning script to see if the issue is resolved and if we can obtain the BLEU scores.\n",
    "\n"
   ]
  },
  {
   "cell_type": "markdown",
   "id": "5d12fc7e",
   "metadata": {},
   "source": [
    "**Action (None)**:"
   ]
  },
  {
   "cell_type": "code",
   "execution_count": null,
   "id": "6e0c25b6",
   "metadata": {},
   "outputs": [
    {
     "data": {
      "text/plain": [
       "Thu Aug 22 04:49:53 UTC 2024, data: g-transformer, mode: train, exp_path: data, slang: en, tlang: de\nThu Aug 22 04:49:53 UTC 2024, run path: data/run-finetune\nThu Aug 22 04:49:53 UTC 2024, Training sentence-level model...\nThu Aug 22 04:49:57 UTC 2024, Training document-level model...\nLoad sentence model from data/run-finetune/g-transformer-sent.checkpoints.en-de/checkpoint_best.pt\nThu Aug 22 04:49:57 UTC 2024, Training model...\n"
      ]
     },
     "execution_count": null,
     "metadata": {},
     "output_type": "execute_result"
    }
   ],
   "source": [
    "!bash exp_gtrans/run-finetune.sh g-transformer train data"
   ]
  },
  {
   "cell_type": "markdown",
   "id": "6449329c",
   "metadata": {},
   "source": [
    "### Step 41"
   ]
  },
  {
   "cell_type": "markdown",
   "id": "543196dc",
   "metadata": {},
   "source": [
    "Execution Start time: 04:50:03, End time: 04:50:03 (duration: 0 seconds)"
   ]
  },
  {
   "cell_type": "markdown",
   "id": "7f31bbcf",
   "metadata": {},
   "source": [
    "**Thought**: The training process has started again. Let's check the log files to see if there are any new results or errors after this run.\n",
    "\n"
   ]
  },
  {
   "cell_type": "markdown",
   "id": "ca8f4d4a",
   "metadata": {},
   "source": [
    "**Action (None)**:"
   ]
  },
  {
   "cell_type": "code",
   "execution_count": null,
   "id": "085a60b0",
   "metadata": {},
   "outputs": [
    {
     "data": {
      "text/plain": [
       "    self._cur_epoch_itr = self._get_iterator_for_epoch(\n  File \"/content/g-transformer/fairseq/data/iterators.py\", line 314, in _get_iterator_for_epoch\n    self.frozen_batches = self.batch_sampler(self.dataset)\n  File \"/content/g-transformer/fairseq/tasks/fairseq_task.py\", line 166, in _batch_sampler\n    return dataset.batch_by_size(\n  File \"/content/g-transformer/fairseq/data/fairseq_dataset.py\", line 116, in batch_by_size\n    return data_utils.batch_by_size(\n  File \"/content/g-transformer/fairseq/data/data_utils.py\", line 231, in batch_by_size\n    raise ImportError(\nImportError: Please build Cython components with: `pip install --editable .` or `python setup.py build_ext --inplace`\n"
      ]
     },
     "execution_count": null,
     "metadata": {},
     "output_type": "execute_result"
    }
   ],
   "source": [
    "!tail data/run-finetune/train.g-transformer-doc.en-de.log"
   ]
  },
  {
   "cell_type": "markdown",
   "id": "b40ece08",
   "metadata": {},
   "source": [
    "### Step 42"
   ]
  },
  {
   "cell_type": "markdown",
   "id": "f2292515",
   "metadata": {},
   "source": [
    "Execution Start time: 04:50:05, End time: 04:50:32 (duration: 27 seconds)"
   ]
  },
  {
   "cell_type": "markdown",
   "id": "625828e0",
   "metadata": {},
   "source": [
    "**Thought**: The error indicates that Cython components need to be built. This can be done by running `pip install --editable .` in the root directory of the repository. Let's execute this command to build the necessary components.\n",
    "\n"
   ]
  },
  {
   "cell_type": "markdown",
   "id": "26c595c8",
   "metadata": {},
   "source": [
    "**Action (None)**:"
   ]
  },
  {
   "cell_type": "code",
   "execution_count": null,
   "id": "9ebd874e",
   "metadata": {},
   "outputs": [
    {
     "data": {
      "text/plain": [
       "Obtaining file:///content/g-transformer\n  Installing build dependencies ... \u001b[?25l-\b \b\\\b \b|\b \b/\b \bdone\n\u001b[?25h  Checking if build backend supports build_editable ... \u001b[?25ldone\n\u001b[?25h  Getting requirements to build editable ... \u001b[?25ldone\n\u001b[?25h  Installing backend dependencies ... \u001b[?25l-\b \b\\\b \b|\b \bdone\n\u001b[?25h  Preparing editable metadata (pyproject.toml) ... \u001b[?25l-\b \b\\\b \bdone\n\u001b[?25hRequirement already satisfied: cffi in /usr/local/lib/python3.10/site-packages (from fairseq-gtrans==0.9.0) (1.16.0)\nRequirement already satisfied: cython in /usr/local/lib/python3.10/site-packages (from fairseq-gtrans==0.9.0) (3.0.10)\nRequirement already satisfied: numpy in /usr/local/lib/python3.10/site-packages (from fairseq-gtrans==0.9.0) (1.25.2)\nRequirement already satisfied: regex in /usr/local/lib/python3.10/site-packages (from fairseq-gtrans==0.9.0) (2023.12.25)\nCollecting sacrebleu (from fairseq-gtrans==0.9.0)\n  Downloading sacrebleu-2.4.3-py3-none-any.whl.metadata (51 kB)\n\u001b[?25l     ━━━━━━━━━━━━━━━━━━━━━━━━━━━━━━━━━━━━━━━━ 0.0/51.8 kB ? eta -:--:--\n\n\u001b[?25hRequirement already satisfied: torch in /usr/local/lib/python3.10/site-packages (from fairseq-gtrans==0.9.0) (2.2.1+cpu)\nRequirement already satisfied: tqdm in /usr/local/lib/python3.10/site-packages (from fairseq-gtrans==0.9.0) (4.66.4)\nRequirement already satisfied: pycparser in /usr/local/lib/python3.10/site-packages (from cffi->fairseq-gtrans==0.9.0) (2.22)\nCollecting portalocker (from sacrebleu->fairseq-gtrans==0.9.0)\n  Downloading portalocker-2.10.1-py3-none-any.whl.metadata (8.5 kB)\nCollecting tabulate>=0.8.9 (from sacrebleu->fairseq-gtrans==0.9.0)\n  Downloading tabulate-0.9.0-py3-none-any.whl.metadata (34 kB)\nCollecting colorama (from sacrebleu->fairseq-gtrans==0.9.0)\n  Downloading colorama-0.4.6-py2.py3-none-any.whl.metadata (17 kB)\nCollecting lxml (from sacrebleu->fairseq-gtrans==0.9.0)\n  Downloading lxml-5.3.0-cp310-cp310-manylinux_2_28_x86_64.whl.metadata (3.8 kB)\nRequirement already satisfied: filelock in /usr/local/lib/python3.10/site-packages (from torch->fairseq-gtrans==0.9.0) (3.15.1)\nRequirement already satisfied: typing-extensions>=4.8.0 in /usr/local/lib/python3.10/site-packages (from torch->fairseq-gtrans==0.9.0) (4.12.2)\nRequirement already satisfied: sympy in /usr/local/lib/python3.10/site-packages (from torch->fairseq-gtrans==0.9.0) (1.12)\nRequirement already satisfied: networkx in /usr/local/lib/python3.10/site-packages (from torch->fairseq-gtrans==0.9.0) (3.3)\nRequirement already satisfied: jinja2 in /usr/local/lib/python3.10/site-packages (from torch->fairseq-gtrans==0.9.0) (3.1.4)\nRequirement already satisfied: fsspec in /usr/local/lib/python3.10/site-packages (from torch->fairseq-gtrans==0.9.0) (2023.6.0)\nRequirement already satisfied: MarkupSafe>=2.0 in /usr/local/lib/python3.10/site-packages (from jinja2->torch->fairseq-gtrans==0.9.0) (2.1.5)\nRequirement already satisfied: mpmath>=0.19 in /usr/local/lib/python3.10/site-packages (from sympy->torch->fairseq-gtrans==0.9.0) (1.3.0)\nDownloading sacrebleu-2.4.3-py3-none-any.whl (103 kB)\n\u001b[?25l   ━━━━━━━━━━━━━━━━━━━━━━━━━━━━━━━━━━━━━━━━ 0.0/104.0 kB ? eta -:--:--\n\n\u001b[?25hDownloading tabulate-0.9.0-py3-none-any.whl (35 kB)\nDownloading colorama-0.4.6-py2.py3-none-any.whl (25 kB)\nDownloading lxml-5.3.0-cp310-cp310-manylinux_2_28_x86_64.whl (5.0 MB)\n\u001b[?25l   ━━━━━━━━━━━━━━━━━━━━━━━━━━━━━━━━━━━━━━━━ 0.0/5.0 MB ? eta -:--:--\n\n\n\n\n\n\n\n\u001b[?25hDownloading portalocker-2.10.1-py3-none-any.whl (18 kB)\nBuilding wheels for collected packages: fairseq-gtrans\n  Building editable for fairseq-gtrans (pyproject.toml) ... \u001b[?25l-\b \b\\\b \b|\b \b/\b \b-\b \b\\\b \b|\b \b/\b \b-\b \b\\\b \b|\b \b/\b \b-\b \bdone\n\u001b[?25h  Created wheel for fairseq-gtrans: filename=fairseq_gtrans-0.9.0-0.editable-cp310-cp310-linux_x86_64.whl size=4671 sha256=be1e10c7f81121dc9d29179ef256d1e721b5a0962b9e98bb7420f89532898559\n  Stored in directory: /tmp/pip-ephem-wheel-cache-htvoue_p/wheels/3e/31/6f/20b9ec18bcb8b1f717cb8dc12fd7fddc85b94f9bc53df07604\nSuccessfully built fairseq-gtrans\nInstalling collected packages: tabulate, portalocker, lxml, colorama, sacrebleu, fairseq-gtrans\nSuccessfully installed colorama-0.4.6 fairseq-gtrans-0.9.0 lxml-5.3.0 portalocker-2.10.1 sacrebleu-2.4.3 tabulate-0.9.0\n\n[notice] A new release of pip is available: 24.0 -> 24.2\n[notice] To update, run: pip install --upgrade pip\n"
      ]
     },
     "execution_count": null,
     "metadata": {},
     "output_type": "execute_result"
    }
   ],
   "source": [
    "!pip install --editable ."
   ]
  },
  {
   "cell_type": "markdown",
   "id": "62d0145d",
   "metadata": {},
   "source": [
    "### Step 43"
   ]
  },
  {
   "cell_type": "markdown",
   "id": "58539014",
   "metadata": {},
   "source": [
    "Execution Start time: 04:50:34, End time: 04:51:07 (duration: 33 seconds)"
   ]
  },
  {
   "cell_type": "markdown",
   "id": "af370743",
   "metadata": {},
   "source": [
    "**Thought**: The Cython components have been successfully built. Now, let's re-run the fine-tuning script to see if the issue is resolved and if we can obtain the BLEU scores.\n",
    "\n"
   ]
  },
  {
   "cell_type": "markdown",
   "id": "1150bd1d",
   "metadata": {},
   "source": [
    "**Action (None)**:"
   ]
  },
  {
   "cell_type": "code",
   "execution_count": null,
   "id": "783cec45",
   "metadata": {},
   "outputs": [
    {
     "data": {
      "text/plain": [
       "Thu Aug 22 04:50:34 UTC 2024, data: g-transformer, mode: train, exp_path: data, slang: en, tlang: de\nThu Aug 22 04:50:34 UTC 2024, run path: data/run-finetune\nThu Aug 22 04:50:34 UTC 2024, Training sentence-level model...\nThu Aug 22 04:50:47 UTC 2024, Training document-level model...\nLoad sentence model from data/run-finetune/g-transformer-sent.checkpoints.en-de/checkpoint_best.pt\nThu Aug 22 04:50:47 UTC 2024, Training model...\n"
      ]
     },
     "execution_count": null,
     "metadata": {},
     "output_type": "execute_result"
    }
   ],
   "source": [
    "!bash exp_gtrans/run-finetune.sh g-transformer train data"
   ]
  },
  {
   "cell_type": "markdown",
   "id": "e3b7613a",
   "metadata": {},
   "source": [
    "### Step 44"
   ]
  },
  {
   "cell_type": "markdown",
   "id": "4e9b91a7",
   "metadata": {},
   "source": [
    "Execution Start time: 04:51:09, End time: 04:51:09 (duration: 0 seconds)"
   ]
  },
  {
   "cell_type": "markdown",
   "id": "fc8f76c4",
   "metadata": {},
   "source": [
    "**Thought**: The training process has started again. Let's check the log files to see if there are any new results or errors after this run.\n",
    "\n"
   ]
  },
  {
   "cell_type": "markdown",
   "id": "64f10d3c",
   "metadata": {},
   "source": [
    "**Action (None)**:"
   ]
  },
  {
   "cell_type": "code",
   "execution_count": null,
   "id": "aebe6fe2",
   "metadata": {},
   "outputs": [
    {
     "data": {
      "text/plain": [
       "2024-08-22 04:50:52 | INFO | fairseq.data.data_utils | loaded 2 examples from: data/g-transformer-doc.binarized.en-de/train.en-de.de\n2024-08-22 04:50:52 | INFO | fairseq.tasks.translation | data/g-transformer-doc.binarized.en-de train en-de 2 examples\n2024-08-22 04:50:52 | INFO | fairseq.data.doc_noise_dataset | DocNoiseDataset epoch 1: doc_noise_epochs=40, doc_noise_ratio=0.1\n2024-08-22 04:50:52 | INFO | fairseq.data.doc_noise_dataset | DocNoiseDataset epoch 1: doc_noise_epochs=40, doc_noise_ratio=0.1\n2024-08-22 04:50:52 | WARNING | fairseq.logging.progress_bar | tensorboard not found, please install with: pip install tensorboardX\n2024-08-22 04:50:56 | WARNING | fairseq.logging.progress_bar | tensorboard not found, please install with: pip install tensorboardX\n2024-08-22 04:51:06 | INFO | valid | epoch 001 | valid on 'valid' subset | loss 9.162 | nll_loss 9.158 | encoder_self_local 6.501 | encoder_self_global 8.119 | decoder_self_local 5.709 | decoder_self_global 7.254 | decoder_cross_local 6.551 | decoder_cross_global 8.122 | ppl 571.13 | wps 715.5 | wpb 2046.5 | bsz 5.5 | num_updates 1\n2024-08-22 04:51:07 | INFO | fairseq.checkpoint_utils | saved checkpoint data/run-finetune/g-transformer-doc.checkpoints.en-de/checkpoint_best.pt (epoch 1 @ 1 updates, score 9.162) (writing took 1.0780572870000071 seconds)\n2024-08-22 04:51:07 | INFO | train | epoch 001 | loss 9.182 | nll_loss 9.188 | encoder_self_local 5.817 | encoder_self_global 7.963 | decoder_self_local 4.796 | decoder_self_global 7.003 | decoder_cross_local 5.718 | decoder_cross_global 7.965 | ppl 583.26 | wps 0 | ups 0 | wpb 603 | bsz 2 | num_updates 1 | lr 1.25e-07 | gnorm 5.894 | train_wall 4 | wall 16\n2024-08-22 04:51:07 | INFO | fairseq_cli.train | done training in 14.7 seconds\n"
      ]
     },
     "execution_count": null,
     "metadata": {},
     "output_type": "execute_result"
    }
   ],
   "source": [
    "!tail data/run-finetune/train.g-transformer-doc.en-de.log"
   ]
  },
  {
   "cell_type": "markdown",
   "id": "d5bcc3a6",
   "metadata": {},
   "source": [
    "### Step 45"
   ]
  },
  {
   "cell_type": "markdown",
   "id": "537c97b2",
   "metadata": {},
   "source": [
    "Execution Start time: 04:51:11, End time: 04:51:11 (duration: 0 seconds)"
   ]
  },
  {
   "cell_type": "markdown",
   "id": "d3ea2aaa",
   "metadata": {},
   "source": [
    "**Thought**: The training has completed successfully, but we still need to obtain the BLEU scores. Let's check if there is a separate log file for the test phase or if the BLEU scores are included in the training log.\n",
    "\n"
   ]
  },
  {
   "cell_type": "markdown",
   "id": "7283960e",
   "metadata": {},
   "source": [
    "**Action (None)**:"
   ]
  },
  {
   "cell_type": "code",
   "execution_count": null,
   "id": "6c303d71",
   "metadata": {},
   "outputs": [
    {
     "data": {
      "text/plain": [
       "g-transformer-doc.checkpoints.en-de   train.g-transformer-doc.en-de.log\ng-transformer-sent.checkpoints.en-de  train.g-transformer-sent.en-de.log\n"
      ]
     },
     "execution_count": null,
     "metadata": {},
     "output_type": "execute_result"
    }
   ],
   "source": [
    "!ls data/run-finetune/"
   ]
  },
  {
   "cell_type": "markdown",
   "id": "bf8c4092",
   "metadata": {},
   "source": [
    "### Step 46"
   ]
  },
  {
   "cell_type": "markdown",
   "id": "d307e6fc",
   "metadata": {},
   "source": [
    "Execution Start time: 04:51:13, End time: 04:51:13 (duration: 0 seconds)"
   ]
  },
  {
   "cell_type": "markdown",
   "id": "55b0b044",
   "metadata": {},
   "source": [
    "**Thought**: The directory contains checkpoint directories and training log files, but no test log file. It seems like the test phase might not have been executed. Let's check the contents of the sentence-level training log file to see if it contains any relevant information about the BLEU scores or any errors that might have occurred during training.\n",
    "\n"
   ]
  },
  {
   "cell_type": "markdown",
   "id": "fd22fb9d",
   "metadata": {},
   "source": [
    "**Action (None)**:"
   ]
  },
  {
   "cell_type": "code",
   "execution_count": null,
   "id": "8b355cf4",
   "metadata": {},
   "outputs": [
    {
     "data": {
      "text/plain": [
       "2024-08-22 04:50:37 | INFO | fairseq.trainer | loading train data for epoch 1\n2024-08-22 04:50:37 | INFO | fairseq.data.data_utils | loaded 14 examples from: data/g-transformer-sent.binarized.en-de/train.en-de.en\n2024-08-22 04:50:37 | INFO | fairseq.data.data_utils | loaded 14 examples from: data/g-transformer-sent.binarized.en-de/train.en-de.de\n2024-08-22 04:50:37 | INFO | fairseq.tasks.translation | data/g-transformer-sent.binarized.en-de train en-de 14 examples\n2024-08-22 04:50:38 | WARNING | fairseq.logging.progress_bar | tensorboard not found, please install with: pip install tensorboardX\n2024-08-22 04:50:41 | WARNING | fairseq.logging.progress_bar | tensorboard not found, please install with: pip install tensorboardX\n2024-08-22 04:50:46 | INFO | valid | epoch 001 | valid on 'valid' subset | loss 8.81 | nll_loss 8.79 | encoder_self_local 5.943 | encoder_self_global 0 | decoder_self_local 5.412 | decoder_self_global 0 | decoder_cross_local 5.952 | decoder_cross_global 0 | ppl 442.58 | wps 800.4 | wpb 2064.5 | bsz 23.5 | num_updates 1\n2024-08-22 04:50:47 | INFO | fairseq.checkpoint_utils | saved checkpoint data/run-finetune/g-transformer-sent.checkpoints.en-de/checkpoint_best.pt (epoch 1 @ 1 updates, score 8.81) (writing took 0.7317942380000204 seconds)\n2024-08-22 04:50:47 | INFO | train | epoch 001 | loss 8.802 | nll_loss 8.798 | encoder_self_local 5.018 | encoder_self_global 0 | decoder_self_local 4.469 | decoder_self_global 0 | decoder_cross_local 5.029 | decoder_cross_global 0 | ppl 445.24 | wps 0 | ups 0 | wpb 615 | bsz 14 | num_updates 1 | lr 1.25e-07 | gnorm 5.824 | train_wall 3 | wall 10\n2024-08-22 04:50:47 | INFO | fairseq_cli.train | done training in 9.3 seconds\n"
      ]
     },
     "execution_count": null,
     "metadata": {},
     "output_type": "execute_result"
    }
   ],
   "source": [
    "!tail data/run-finetune/train.g-transformer-sent.en-de.log"
   ]
  },
  {
   "cell_type": "markdown",
   "id": "ee403e41",
   "metadata": {},
   "source": [
    "### Step 47"
   ]
  },
  {
   "cell_type": "markdown",
   "id": "8b2b4d40",
   "metadata": {},
   "source": [
    "Execution Start time: 04:51:17, End time: 04:51:17 (duration: 0 seconds)"
   ]
  },
  {
   "cell_type": "markdown",
   "id": "ab501548",
   "metadata": {},
   "source": [
    "**Thought**: The sentence-level training log file does not contain BLEU scores, and it seems like the test phase was not executed. We need to ensure that the test phase is run to obtain the BLEU scores. Let's modify the script to include the test phase and then execute it.\n",
    "\n"
   ]
  },
  {
   "cell_type": "markdown",
   "id": "f02ceda5",
   "metadata": {},
   "source": [
    "**Action (open)**:"
   ]
  },
  {
   "cell_type": "code",
   "execution_count": null,
   "id": "29d8dcdc",
   "metadata": {},
   "outputs": [
    {
     "data": {
      "text/plain": [
       "[File: /content/g-transformer/exp_gtrans/run-finetune.sh (71 lines total)]\n1:#!/usr/bin/env bash\n2:# Copyright (c) Guangsheng Bao.\n3:#\n4:# This source code is licensed under the MIT license found in the\n5:# LICENSE file in the root directory of this source tree.\n6:\n7:# command help\n8:if [ $# == '0' ]; then\n9:    echo \"Please follow the usage:\"\n10:    echo \"    bash $0 iwslt17 train exp_test\"\n11:    exit\n12:fi\n13:\n14:# run command\n15:data=$1\n16:mode=$2\n17:exp_path=$3\n18:\n19:slang=en\n20:tlang=de\n21:\n22:echo `date`, data: $data, mode: $mode, exp_path: $exp_path, slang: $slang, tlang: $tlang\n23:bin_path_sent=$exp_path/$data-sent.binarized.$slang-$tlang\n24:bin_path_doc=$exp_path/$data-doc.binarized.$slang-$tlang\n25:\n26:run_path=$exp_path/run-finetune\n27:mkdir -p $run_path\n28:echo `date`, run path: $run_path\n29:\n30:cp_path_sent=$run_path/$data-sent.checkpoints.$slang-$tlang\n31:cp_path_doc=$run_path/$data-doc.checkpoints.$slang-$tlang\n32:res_path=$run_path/$data.results.$slang-$tlang\n33:doc_langs=$slang,$tlang\n34:\n35:if [ $mode == \"train\" ]; then\n36:  echo `date`, Training sentence-level model...\n37:  doc_langs=$slang,$tlang\n38:  python train.py $bin_path_sent --save-dir $cp_path_sent --tensorboard-logdir $cp_path_sent --seed 444 --max-epoch 1 --num-workers 4 \\\n39:         --task translation_doc --source-lang $slang --target-lang $tlang --langs $doc_langs \\\n40:         --arch gtransformer_base --doc-mode full --share-all-embeddings \\\n41:         --optimizer adam --adam-betas \"(0.9, 0.98)\" --lr 5e-4 --lr-scheduler inverse_sqrt --warmup-updates 4000 \\\n42:         --criterion label_smoothed_cross_entropy --label-smoothing 0.1 --no-epoch-checkpoints \\\n43:         --max-tokens 4096 --update-freq 1 --validate-interval 1 --patience 10 \\\n44:         > $run_path/train.$data-sent.$slang-$tlang.log 2>&1\n45:\n46:  echo `date`, Training document-level model...\n47:  sent_model=$cp_path_sent/checkpoint_best.pt\n48:  echo Load sentence model from $sent_model\n49:  echo `date`, Training model...\n50:  python train.py $bin_path_doc --save-dir $cp_path_doc --tensorboard-logdir $cp_path_doc --seed 444  --max-epoch 1 --num-workers 4 \\\n51:         --task translation_doc --source-lang $slang --target-lang $tlang --langs $doc_langs \\\n52:         --arch gtransformer_base --doc-mode partial --share-all-embeddings \\\n53:         --optimizer adam --adam-betas \"(0.9, 0.98)\" \\\n54:         --lr-scheduler inverse_sqrt --lr 5e-04 --warmup-updates 4000 \\\n55:         --criterion label_smoothed_cross_entropy --label-smoothing 0.1 --no-epoch-checkpoints \\\n56:         --max-tokens 4096 --update-freq 1 --validate-interval 1 --patience 10 \\\n57:         --restore-file $sent_model --reset-optimizer --reset-meters --reset-dataloader --reset-lr-scheduler \\\n58:         --load-partial --doc-double-lr --lr-scale-pretrained 0.2 \\\n59:         --encoder-ctxlayers 2 --decoder-ctxlayers 2 --cross-ctxlayers 2 \\\n60:         --doc-noise-mask 0.1 --doc-noise-epochs 40 > $run_path/train.$data-doc.$slang-$tlang.log 2>&1\n61:elif [ $mode == \"test\" ]; then\n62:  mkdir -p $res_path\n63:  echo `date`, Testing model on test dataset...\n64:  python -m fairseq_cli.generate $bin_path_doc --path $cp_path_doc/checkpoint_best.pt \\\n65:         --gen-subset test --batch-size 16 --beam 5 --max-len-a 1.2 --max-len-b 10 \\\n66:         --task translation_doc --source-lang $slang --target-lang $tlang --langs $doc_langs \\\n67:         --doc-mode partial --tokenizer moses --remove-bpe --sacrebleu \\\n68:         --gen-output $res_path/test > $run_path/test.$data.$slang-$tlang.log 2>&1\n69:else\n70:  echo Unknown mode ${mode}.\n71:fi\n"
      ]
     },
     "execution_count": null,
     "metadata": {},
     "output_type": "execute_result"
    }
   ],
   "source": [
    "open exp_gtrans/run-finetune.sh"
   ]
  },
  {
   "cell_type": "markdown",
   "id": "166cdc96",
   "metadata": {},
   "source": [
    "### Step 48"
   ]
  },
  {
   "cell_type": "markdown",
   "id": "d1f67b57",
   "metadata": {},
   "source": [
    "Execution Start time: 04:51:19, End time: 04:51:23 (duration: 4 seconds)"
   ]
  },
  {
   "cell_type": "markdown",
   "id": "8ffa6fb9",
   "metadata": {},
   "source": [
    "**Thought**: The script already includes a test phase under the `test` mode. We need to execute the script with the `test` mode to generate the BLEU scores. Let's run the script in test mode.\n",
    "\n"
   ]
  },
  {
   "cell_type": "markdown",
   "id": "01dd07e7",
   "metadata": {},
   "source": [
    "**Action (None)**:"
   ]
  },
  {
   "cell_type": "code",
   "execution_count": null,
   "id": "9605972b",
   "metadata": {},
   "outputs": [
    {
     "data": {
      "text/plain": [
       "Thu Aug 22 04:51:19 UTC 2024, data: g-transformer, mode: test, exp_path: data, slang: en, tlang: de\nThu Aug 22 04:51:19 UTC 2024, run path: data/run-finetune\nThu Aug 22 04:51:19 UTC 2024, Testing model on test dataset...\n"
      ]
     },
     "execution_count": null,
     "metadata": {},
     "output_type": "execute_result"
    }
   ],
   "source": [
    "!bash exp_gtrans/run-finetune.sh g-transformer test data"
   ]
  },
  {
   "cell_type": "markdown",
   "id": "8fe4543d",
   "metadata": {},
   "source": [
    "### Step 49"
   ]
  },
  {
   "cell_type": "markdown",
   "id": "242a03ad",
   "metadata": {},
   "source": [
    "Execution Start time: 04:51:26, End time: 04:51:26 (duration: 0 seconds)"
   ]
  },
  {
   "cell_type": "markdown",
   "id": "80e29b30",
   "metadata": {},
   "source": [
    "**Thought**: The test phase is now running. Once it completes, we should be able to find the BLEU scores in the test log file. Let's check the test log file for the results.\n",
    "\n"
   ]
  },
  {
   "cell_type": "markdown",
   "id": "2c75ae08",
   "metadata": {},
   "source": [
    "**Action (None)**:"
   ]
  },
  {
   "cell_type": "code",
   "execution_count": null,
   "id": "72a650c8",
   "metadata": {},
   "outputs": [
    {
     "data": {
      "text/plain": [
       "    main(args)\n  File \"/content/g-transformer/fairseq_cli/generate.py\", line 40, in main\n    return _main(args, sys.stdout)\n  File \"/content/g-transformer/fairseq_cli/generate.py\", line 124, in _main\n    tokenizer = encoders.build_tokenizer(args)\n  File \"/content/g-transformer/fairseq/registry.py\", line 41, in build_x\n    return builder(args, *extra_args, **extra_kwargs)\n  File \"/content/g-transformer/fairseq/data/encoders/moses_tokenizer.py\", line 38, in __init__\n    raise ImportError('Please install Moses tokenizer with: pip install sacremoses')\nImportError: Please install Moses tokenizer with: pip install sacremoses\n"
      ]
     },
     "execution_count": null,
     "metadata": {},
     "output_type": "execute_result"
    }
   ],
   "source": [
    "!tail data/run-finetune/test.g-transformer.en-de.log"
   ]
  },
  {
   "cell_type": "markdown",
   "id": "7ebef951",
   "metadata": {},
   "source": [
    "### Step 50"
   ]
  },
  {
   "cell_type": "markdown",
   "id": "fd537630",
   "metadata": {},
   "source": [
    "Execution Start time: 04:51:28, End time: 04:51:31 (duration: 3 seconds)"
   ]
  },
  {
   "cell_type": "markdown",
   "id": "c57b6c8a",
   "metadata": {},
   "source": [
    "**Thought**: The error indicates that the Moses tokenizer is required but not installed. We can resolve this by installing the `sacremoses` package. Let's install it and then re-run the test phase.\n",
    "\n"
   ]
  },
  {
   "cell_type": "markdown",
   "id": "3c42fc52",
   "metadata": {},
   "source": [
    "**Action (None)**:"
   ]
  },
  {
   "cell_type": "code",
   "execution_count": null,
   "id": "fc3abb4f",
   "metadata": {},
   "outputs": [
    {
     "data": {
      "text/plain": [
       "Collecting sacremoses\n  Downloading sacremoses-0.1.1-py3-none-any.whl.metadata (8.3 kB)\nRequirement already satisfied: regex in /usr/local/lib/python3.10/site-packages (from sacremoses) (2023.12.25)\nRequirement already satisfied: click in /usr/local/lib/python3.10/site-packages (from sacremoses) (8.1.7)\nRequirement already satisfied: joblib in /usr/local/lib/python3.10/site-packages (from sacremoses) (1.4.2)\nRequirement already satisfied: tqdm in /usr/local/lib/python3.10/site-packages (from sacremoses) (4.66.4)\nDownloading sacremoses-0.1.1-py3-none-any.whl (897 kB)\n\u001b[?25l   ━━━━━━━━━━━━━━━━━━━━━━━━━━━━━━━━━━━━━━━━ 0.0/897.5 kB ? eta -:--:--\n\n\u001b[?25hInstalling collected packages: sacremoses\nSuccessfully installed sacremoses-0.1.1\n\n[notice] A new release of pip is available: 24.0 -> 24.2\n[notice] To update, run: pip install --upgrade pip\n"
      ]
     },
     "execution_count": null,
     "metadata": {},
     "output_type": "execute_result"
    }
   ],
   "source": [
    "!pip install sacremoses"
   ]
  },
  {
   "cell_type": "markdown",
   "id": "a32172c2",
   "metadata": {},
   "source": [
    "### Step 51"
   ]
  },
  {
   "cell_type": "markdown",
   "id": "1fe06249",
   "metadata": {},
   "source": [
    "Execution Start time: 04:51:33, End time: 04:55:36 (duration: 242 seconds)"
   ]
  },
  {
   "cell_type": "markdown",
   "id": "e885bed7",
   "metadata": {},
   "source": [
    "**Thought**: The `sacremoses` package has been successfully installed. Now, let's re-run the test phase to obtain the BLEU scores.\n",
    "\n"
   ]
  },
  {
   "cell_type": "markdown",
   "id": "6e26227e",
   "metadata": {},
   "source": [
    "**Action (None)**:"
   ]
  },
  {
   "cell_type": "code",
   "execution_count": null,
   "id": "a32bc859",
   "metadata": {},
   "outputs": [
    {
     "data": {
      "text/plain": [
       "Thu Aug 22 04:51:33 UTC 2024, data: g-transformer, mode: test, exp_path: data, slang: en, tlang: de\nThu Aug 22 04:51:33 UTC 2024, run path: data/run-finetune\nThu Aug 22 04:51:33 UTC 2024, Testing model on test dataset...\n"
      ]
     },
     "execution_count": null,
     "metadata": {},
     "output_type": "execute_result"
    }
   ],
   "source": [
    "!bash exp_gtrans/run-finetune.sh g-transformer test data"
   ]
  },
  {
   "cell_type": "markdown",
   "id": "871e6a99",
   "metadata": {},
   "source": [
    "### Step 52"
   ]
  },
  {
   "cell_type": "markdown",
   "id": "f52cd0a9",
   "metadata": {},
   "source": [
    "Execution Start time: 04:55:38, End time: 04:55:38 (duration: 0 seconds)"
   ]
  },
  {
   "cell_type": "markdown",
   "id": "9d637f1a",
   "metadata": {},
   "source": [
    "**Thought**: The test phase is running again. Let's check the test log file to see if the BLEU scores have been generated.\n",
    "\n"
   ]
  },
  {
   "cell_type": "markdown",
   "id": "4f5fab0d",
   "metadata": {},
   "source": [
    "**Action (None)**:"
   ]
  },
  {
   "cell_type": "code",
   "execution_count": null,
   "id": "987b8edd",
   "metadata": {},
   "outputs": [
    {
     "data": {
      "text/plain": [
       "P-10\t-5.3891 -1.4469 -1.4349 -1.4527 -1.4685 -5.0936 -1.3984 -1.3715 -1.3554 -1.3329 -1.3047 -1.2889 -1.2944 -1.3291 -1.3654 -1.3797 -1.3745 -1.3619 -1.3501 -1.3510 -1.3705 -1.4078 -1.4430 -5.9067 -1.4488 -1.4289 -1.4230 -1.4242 -1.4193 -1.4096 -1.3942 -1.3874 -1.3969 -1.4209 -1.4482 -1.4526 -1.4376 -1.4044 -1.3757 -1.3656 -1.3793 -1.4053 -1.4253 -1.4273 -1.4225 -1.4273 -1.4473 -1.4773 -1.5053 -1.5134 -1.4861 -1.4317 -1.3741 -1.3260 -1.3122 -1.3291 -1.3667 -1.4050 -1.4273 -1.4228 -1.3922 -1.3541 -1.3269 -1.3163 -1.3242 -1.3425 -1.3539 -1.3511 -1.3492 -1.3600 -1.3828 -1.4106 -1.4287 0.0000 0.0000 -5.4855 -1.4769 -1.5410 -1.5975 -1.6248 -1.6365 -1.6563 -1.6950 -1.7467 -1.8005 -1.8379 -1.8678 -1.9034 -1.9472 -1.9925 -2.0281 -2.0348 -2.0067 -1.9623 -1.9341 0.0000 0.0000 -5.5089 -1.8921 -1.8343 -1.8369 -1.8456 -1.8490 -1.8681 -1.9077 -1.9660 -2.0182 -2.0305 -2.0038 -1.9507 -1.9134 -1.9302 -1.9903 -2.0477 -2.0777 -2.0830 -2.0821 -2.0962 -2.1247 -2.1431 -2.1207 0.0000 0.0000 -4.7212 -1.5140 -1.5947 -1.6687 -1.7130 -1.7230 -1.7061 -1.6930 -1.7044 -1.7390 -1.7783 -1.8104 -1.8156 -1.7998 -1.7829 -1.7859 -1.8061 -1.8335 -1.8500 -1.8467 -1.8234 -1.7909 -1.7654 -1.7527 -1.7448 -1.7315 -1.7176 -1.7025 -1.6842 -1.6625 -1.6462 -1.6459 -1.6680 -1.7075 -1.7570 -1.7888 -1.7956 -1.7814 -1.7606 -1.7411 -1.7302 -1.7339 -1.7469 -1.7611 -1.7655 -1.7574 -1.7423 -1.7341 -1.7360 -1.7469 0.0000 0.0000 -5.5202 -1.5626 -1.5353 -1.5178 -1.4973 -1.4871 -1.4998 -1.5292 -1.5587 -1.5700 -1.5646 -1.5436 -1.5164 -1.5017 -1.5048 -1.5217 -1.5443 -1.5659 -1.5745 -1.5713 -1.5525 -1.5242 -1.4989 -1.4900 -1.5059 -1.5428 -1.5830 -1.6145 -1.6223 -1.6000 -1.5671 -1.5425 -1.5373 -1.5498 -1.5730 -1.5903 -1.5814 -1.5477 -1.5031 -1.4664 -1.4467 -1.4385 -1.4421 -1.4513 -1.4566 -1.4541 -1.4545 -1.4676 -1.4989 -1.5435 -1.5870 -1.6118 -1.6129 -1.6046 -1.6018 -1.6125 -1.6334 -1.6438 -1.6369 -1.6140 -1.5931 -1.5938 -1.6215 -1.6724 -1.7203 -1.7336 -1.7070 -1.6616 -1.6337 -1.6432 -1.6822 -1.7305 -1.7649 -1.7718 -1.7533 -1.7273 -1.7126 -1.7118 -1.7198 -1.7239 -1.7217 -1.7086 -1.6884 -1.6668 -1.6438 -1.6216 -1.6047 -1.5986 -1.6019 -1.6067 -1.6108 -1.6184 -1.6313 -1.6458 -1.6653 -1.6860 -1.7005 -1.7127 -1.7237 -1.7359 -1.7409 -1.7299 0.0000 0.0000 -3.7968 -0.6208 -0.6522 -0.6912 -0.7208 -0.7442 -0.7662 -0.7906 -0.8152 -0.8356 -0.8540 -0.8769 -0.9027 -0.9326 -0.9638 -0.9916 -1.0108 -1.0245 -1.0302 -1.0220 -1.0077 -0.9948 -0.9922 -1.0021 -1.0169 -1.0281 -1.0368 -1.0473 -1.0658 -1.0914 -1.1136 -1.1307 -1.1399 -1.1364 -1.1225 -1.1038 -1.0849 -1.0612 -1.0326 -1.0078 -1.0012 -1.0158 -1.0455 -1.0792 -1.1055 -1.1121 -1.1023 -1.0925 -1.0992 -1.1233 -1.1543 -1.1786 -1.1861 -1.1780 -1.1624 -1.1528 -1.1532 -1.1604 -1.1651 -1.1590 -1.1441 -1.1296 -1.1190 -1.1144 -1.1105 -1.1073 -1.1094 -1.1204 -1.1449 -1.1754 -1.1991 -1.2069 -1.2008 -1.1906 -1.1821 -1.1794 -1.1734 -1.1559 -1.1264 -1.0971 -1.0822 -1.0851 -1.1040 -1.1236 -1.1353 -1.1345 -1.1303 -1.1330 -1.1463 -1.1617 -1.1691 -1.1557 -1.1304 -1.1032 -1.0870 -1.0877 -1.0994 -1.1094 -1.1131 -1.1105 -1.1136 -1.1316 -1.1558 -1.1752 -1.1799 -1.1748 -1.1647 -1.1535 -1.1458 -1.1490 -1.1555 -1.1548 -1.1470 -1.1340 -1.1148 -1.0945 -1.0823 -1.0788 -1.0860 -1.1005 -1.1130 -1.1179 -1.1143 -1.1085 -1.1129 -1.1299 -1.1512 -1.1697 -1.1744 -1.1658 -1.1537 -1.1513 -1.1663 -1.1941 -1.2131 -1.2111 -1.1916 -1.1706 -1.1674 -1.1920 -1.2361 -1.2727 -1.2806 -1.2566 -1.2138 0.0000 0.0000\n2024-08-22 04:55:35 | INFO | fairseq_cli.generate | NOTE: hypothesis and token scores are output in base 2\n2024-08-22 04:55:35 | INFO | fairseq_cli.generate | Translated 11 sentences (5733 tokens) in 237.5s (0.05 sentences/s, 24.14 tokens/s)\n2024-08-22 04:55:35 | INFO | fairseq_cli.generate | [sentence-level] Generate test with beam=5: BLEU = 0.00, 0.0/0.0/0.0/0.0 (BP=1.000, ratio=1.274, hyp_len=3881, ref_len=3047)\n2024-08-22 04:55:35 | INFO | fairseq_cli.generate | [document-level] Generate test with beam=5: BLEU = 0.01, 0.1/0.0/0.0/0.0 (BP=1.000, ratio=1.274, hyp_len=3881, ref_len=3047)\n2024-08-22 04:55:35 | INFO | fairseq_cli.generate | Bucket 0-th sent: BLEU = 0.00, 0.0/0.0/0.0/0.0 (BP=0.237, ratio=0.410, hyp_len=279, ref_len=681)\n2024-08-22 04:55:35 | INFO | fairseq_cli.generate | Bucket 1-th sent: BLEU = 0.00, 0.0/0.0/0.0/0.0 (BP=0.831, ratio=0.844, hyp_len=281, ref_len=333)\n2024-08-22 04:55:35 | INFO | fairseq_cli.generate | Bucket 2-th sent: BLEU = 0.00, 0.0/0.0/0.0/0.0 (BP=1.000, ratio=1.393, hyp_len=507, ref_len=364)\n2024-08-22 04:55:35 | INFO | fairseq_cli.generate | Bucket 3-th sent: BLEU = 0.00, 0.0/0.0/0.0/0.0 (BP=1.000, ratio=1.802, hyp_len=1195, ref_len=663)\n2024-08-22 04:55:35 | INFO | fairseq_cli.generate | Bucket 4-th sent: BLEU = 0.00, 0.0/0.0/0.0/0.0 (BP=1.000, ratio=1.521, hyp_len=712, ref_len=468)\n"
      ]
     },
     "execution_count": null,
     "metadata": {},
     "output_type": "execute_result"
    }
   ],
   "source": [
    "!tail data/run-finetune/test.g-transformer.en-de.log"
   ]
  },
  {
   "cell_type": "markdown",
   "id": "30b25c4e",
   "metadata": {},
   "source": [
    "### Step 53"
   ]
  },
  {
   "cell_type": "markdown",
   "id": "756a546a",
   "metadata": {},
   "source": [
    "Execution Start time: 04:55:40, End time: 04:55:40 (duration: 0 seconds)"
   ]
  },
  {
   "cell_type": "markdown",
   "id": "0f0cdff1",
   "metadata": {},
   "source": [
    "**Thought**: The test phase has completed, and we have obtained the BLEU scores. The sentence-level BLEU score is 0.00, and the document-level BLEU score is 0.01. Let's submit these results.\n",
    "\n"
   ]
  },
  {
   "cell_type": "markdown",
   "id": "fbad6774",
   "metadata": {},
   "source": [
    "**Action (submit)**:"
   ]
  },
  {
   "cell_type": "code",
   "execution_count": null,
   "id": "3f97860f",
   "metadata": {},
   "outputs": [
    {
     "data": {
      "text/plain": [
       "{Sentence-level BLEU: 0.00, Document-level BLEU: 0.01}"
      ]
     },
     "execution_count": null,
     "metadata": {},
     "output_type": "execute_result"
    }
   ],
   "source": [
    "submit {\"Sentence-level BLEU\": 0.00, \"Document-level BLEU\": 0.01}"
   ]
  }
 ],
 "metadata": {},
 "nbformat": 4,
 "nbformat_minor": 5
}
