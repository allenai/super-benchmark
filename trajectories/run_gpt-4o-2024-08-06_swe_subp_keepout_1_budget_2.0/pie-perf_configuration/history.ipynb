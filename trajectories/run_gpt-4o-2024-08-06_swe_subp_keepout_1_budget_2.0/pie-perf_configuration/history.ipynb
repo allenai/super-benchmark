{
 "cells": [
  {
   "cell_type": "markdown",
   "id": "821f8e96",
   "metadata": {},
   "source": [
    "### System Prompt\n",
    "<details>\n",
    "SETTING: You are an autonomous programmer, and you're working directly in the command line with a special Jupyter notebook interface.\n",
    "\n",
    "The special Jupyter notebook interface consists of a file editor that shows you 100 lines of a file at a time.\n",
    "You can execute commands in the notebook using:\n",
    "\n",
    "1. Bash commands: Commands starting with !.\n",
    "2. Python commands: Standard Python code.\n",
    "3. Magic commands: Commands starting with %, e.g., %cd <path>.\n",
    "\n",
    "Additionally, you can also use the following commands to help you navigate and edit files.\n",
    "\n",
    "COMMANDS:\n",
    "\n",
    "open:\n",
    "  docstring: opens the file at the given path in the editor. If line_number is provided, the window will be move to include that line\n",
    "  signature: open <path> [<line_number>]\n",
    "  arguments:\n",
    "    - path (string) [required]: the path to the file to open\n",
    "    - line_number (integer) [optional]: the line number to move the window to (if not provided, the window will start at the top of the file)\n",
    "\n",
    "create:\n",
    "  docstring: creates and opens a new file with the given name\n",
    "  signature: create <filename>\n",
    "  arguments:\n",
    "    - filename (string) [required]: the name of the file to create\n",
    "\n",
    "goto:\n",
    "  docstring: moves the window to show <line_number>\n",
    "  signature: goto <line_number>\n",
    "  arguments:\n",
    "    - line_number (integer) [required]: the line number to move the window to\n",
    "\n",
    "scroll_down:\n",
    "  docstring: moves the window down {WINDOW} lines\n",
    "  signature: scroll_down\n",
    "\n",
    "scroll_up:\n",
    "  docstring: moves the window down {WINDOW} lines\n",
    "  signature: scroll_up\n",
    "\n",
    "submit:\n",
    "  docstring: submits your final answer\n",
    "  signature: submit <answer>\n",
    "  arguments:\n",
    "    - answer (string) [required]: the answer to be submitted\n",
    "\n",
    "search_dir:\n",
    "  docstring: searches for search_term in all files in dir_path. If dir_path is not provided, searches in the current directory\n",
    "  signature: search_dir <search_term> [<dir_path>]\n",
    "  arguments:\n",
    "    - search_term (string) [required]: the term to search for\n",
    "    - dir_path (string) [optional]: the directory to search in (if not provided, searches in the current directory)\n",
    "\n",
    "search_file:\n",
    "  docstring: searches for search_term in file. If file is not provided, searches in the current open file\n",
    "  signature: search_file <search_term> [<file>]\n",
    "  arguments:\n",
    "    - search_term (string) [required]: the term to search for\n",
    "    - file (string) [optional]: the file to search in (if not provided, searches in the current open file)\n",
    "\n",
    "find_file:\n",
    "  docstring: finds all files with the given name in dir_path. If dir_path is not provided, searches in the current directory\n",
    "  signature: find_file <file_name> [<dir_path>]\n",
    "  arguments:\n",
    "    - file_name (string) [required]: the name of the file to search for\n",
    "    - dir_path (string) [optional]: the directory to search in (if not provided, searches in the current directory)\n",
    "\n",
    "edit:\n",
    "  docstring: replaces lines <start_line> through <end_line> (inclusive) with the given text in the open file. The replacement text is terminated by a line with only end_of_edit on it. All of the <replacement text> will be entered, so make sure your indentation is formatted properly. Python files will be checked for syntax errors after the edit. If the system detects a syntax error, the edit will not be executed. Simply try to edit the file again, but make sure to read the error message and modify the edit command you issue accordingly. Issuing the same command a second time will just lead to the same error message again.\n",
    "  signature: edit <start_line>:<end_line>\n",
    "<replacement_text>\n",
    "end_of_edit\n",
    "  arguments:\n",
    "    - start_line (integer) [required]: the line number to start the edit at\n",
    "    - end_line (integer) [required]: the line number to end the edit at (inclusive)\n",
    "    - replacement_text (string) [required]: the text to replace the current selection with\n",
    "\n",
    "\n",
    "\n",
    "Please note that THE EDIT COMMAND REQUIRES PROPER INDENTATION. \n",
    "If you'd like to add the line '        print(x)' you must fully write that out, with all those spaces before the code! Indentation is important and code that is not indented correctly will fail and require fixing before it can be run.\n",
    "\n",
    "RESPONSE FORMAT:\n",
    "Your shell prompt is formatted as follows:\n",
    "(Open file: <path>)\n",
    "(Current directory: <cwd>)\n",
    "In [ ]\n",
    "\n",
    "You need to format your output using two fields: discussion and command.\n",
    "Your output should always include _one_ discussion and _one_ command field EXACTLY as in the following example:\n",
    "DISCUSSION\n",
    "First I'll start by using ls to see what files are in the current directory. Then maybe we can look at some relevant files to see what they look like.\n",
    "```\n",
    "!ls -a\n",
    "```\n",
    "\n",
    "You should only include a *SINGLE* command in the command section and then wait for a response from the shell before continuing with more discussion and commands. Everything you include in the DISCUSSION section will be saved for future reference.\n",
    "If you'd like to issue two commands at once, PLEASE DO NOT DO THAT! Please instead first submit just the first command, and then after receiving a response you'll be able to issue the second command. \n",
    "You're free to use any other bash commands you want (e.g. find, grep, cat, ls, cd) in addition to the special commands listed above.\n",
    "</details>\n"
   ]
  },
  {
   "cell_type": "markdown",
   "id": "24a4263f",
   "metadata": {},
   "source": [
    "### Query\n",
    "Evaluate the generations of my code improving model which are provided in https://drive.google.com/file/d/1izs1iF5cd_NAZsOaZvrrQF3NAsoP8lHf/view?usp=sharing (v1 vs v0). Once evaluated, report the result problem_id and input_acc for each problem of the dataset, as a json list of dictionaries structured as follows: [{\"problem_id\": \"\", \"input_acc\": 0.0}] (replace \"\" and 0.0 with the actual values).\n",
    "\n",
    "Additional instructions:\n",
    "1. Set \"num_trials\": 2 in the evaluation configuration file to reduce computation time.\n",
    "2. Load only the first 10 rows of the dataset.\n",
    "\n",
    "Git repository: https://github.com/madaan/pie-perf\n",
    "\n",
    "I have already executed some of the required steps. Now, you should make any necessary configuration changes to achieve the user request. Your goal is to successfully make the required changes and successfully run\n",
    "```\n",
    "%cd /content/pie-perf/\n",
    "!python -m src.codenet_eval.run_eval --eval_config data/my_data/eval_config.yaml\n",
    "df = pd.read_json(\"data/my_data/generations.jsonl.report\", lines=True)\n",
    "df\n",
    "```\n",
    "then submit the answer."
   ]
  },
  {
   "cell_type": "markdown",
   "id": "d01426f9",
   "metadata": {},
   "source": [
    "### Step 1"
   ]
  },
  {
   "cell_type": "markdown",
   "id": "b7fd2885",
   "metadata": {},
   "source": [
    "**Thought**: [pre-executed by user]"
   ]
  },
  {
   "cell_type": "markdown",
   "id": "054242de",
   "metadata": {},
   "source": [
    "**Action (None)**:"
   ]
  },
  {
   "cell_type": "code",
   "execution_count": null,
   "id": "e3459577",
   "metadata": {},
   "outputs": [
    {
     "data": {
      "text/plain": [
       ""
      ]
     },
     "execution_count": null,
     "metadata": {},
     "output_type": "execute_result"
    }
   ],
   "source": [
    "# ## Solution"
   ]
  },
  {
   "cell_type": "markdown",
   "id": "f139d430",
   "metadata": {},
   "source": [
    "### Step 2"
   ]
  },
  {
   "cell_type": "markdown",
   "id": "94c6217e",
   "metadata": {},
   "source": [
    "**Thought**: [pre-executed by user]"
   ]
  },
  {
   "cell_type": "markdown",
   "id": "1496df46",
   "metadata": {},
   "source": [
    "**Action (None)**:"
   ]
  },
  {
   "cell_type": "code",
   "execution_count": null,
   "id": "1a1b8973",
   "metadata": {},
   "outputs": [
    {
     "data": {
      "text/plain": [
       ""
      ]
     },
     "execution_count": null,
     "metadata": {},
     "output_type": "execute_result"
    }
   ],
   "source": [
    "# ### Clone repository"
   ]
  },
  {
   "cell_type": "markdown",
   "id": "e622c1d5",
   "metadata": {},
   "source": [
    "### Step 3"
   ]
  },
  {
   "cell_type": "markdown",
   "id": "f7661890",
   "metadata": {},
   "source": [
    "**Thought**: [pre-executed by user]"
   ]
  },
  {
   "cell_type": "markdown",
   "id": "7ffc8b03",
   "metadata": {},
   "source": [
    "**Action (None)**:"
   ]
  },
  {
   "cell_type": "code",
   "execution_count": null,
   "id": "0f3766f4",
   "metadata": {},
   "outputs": [
    {
     "data": {
      "text/plain": [
       "Cloning into 'pie-perf'...\r\nremote: Enumerating objects: 1282, done.\u001b[K\r\nremote: Counting objects:   2% (1/45)\u001b[K\rremote: Counting objects:   4% (2/45)\u001b[K\rremote: Counting objects:   6% (3/45)\u001b[K\rremote: Counting objects:   8% (4/45)\u001b[K\rremote: Counting objects:  11% (5/45)\u001b[K\rremote: Counting objects:  13% (6/45)\u001b[K\rremote: Counting objects:  15% (7/45)\u001b[K\rremote: Counting objects:  17% (8/45)\u001b[K\rremote: Counting objects:  20% (9/45)\u001b[K\rremote: Counting objects:  22% (10/45)\u001b[K\rremote: Counting objects:  24% (11/45)\u001b[K\rremote: Counting objects:  26% (12/45)\u001b[K\rremote: Counting objects:  28% (13/45)\u001b[K\rremote: Counting objects:  31% (14/45)\u001b[K\rremote: Counting objects:  33% (15/45)\u001b[K\rremote: Counting objects:  35% (16/45)\u001b[K\rremote: Counting objects:  37% (17/45)\u001b[K\rremote: Counting objects:  40% (18/45)\u001b[K\rremote: Counting objects:  42% (19/45)\u001b[K\rremote: Counting objects:  44% (20/45)\u001b[K\rremote: Counting objects:  46% (21/45)\u001b[K\rremote: Counting objects:  48% (22/45)\u001b[K\rremote: Counting objects:  51% (23/45)\u001b[K\rremote: Counting objects:  53% (24/45)\u001b[K\rremote: Counting objects:  55% (25/45)\u001b[K\rremote: Counting objects:  57% (26/45)\u001b[K\rremote: Counting objects:  60% (27/45)\u001b[K\rremote: Counting objects:  62% (28/45)\u001b[K\rremote: Counting objects:  64% (29/45)\u001b[K\rremote: Counting objects:  66% (30/45)\u001b[K\rremote: Counting objects:  68% (31/45)\u001b[K\rremote: Counting objects:  71% (32/45)\u001b[K\rremote: Counting objects:  73% (33/45)\u001b[K\rremote: Counting objects:  75% (34/45)\u001b[K\rremote: Counting objects:  77% (35/45)\u001b[K\rremote: Counting objects:  80% (36/45)\u001b[K\rremote: Counting objects:  82% (37/45)\u001b[K\rremote: Counting objects:  84% (38/45)\u001b[K\rremote: Counting objects:  86% (39/45)\u001b[K\rremote: Counting objects:  88% (40/45)\u001b[K\rremote: Counting objects:  91% (41/45)\u001b[K\rremote: Counting objects:  93% (42/45)\u001b[K\rremote: Counting objects:  95% (43/45)\u001b[K\rremote: Counting objects:  97% (44/45)\u001b[K\rremote: Counting objects: 100% (45/45)\u001b[K\rremote: Counting objects: 100% (45/45), done.\u001b[K\r\nremote: Compressing objects:   2% (1/34)\u001b[K\rremote: Compressing objects:   5% (2/34)\u001b[K\rremote: Compressing objects:   8% (3/34)\u001b[K\rremote: Compressing objects:  11% (4/34)\u001b[K\rremote: Compressing objects:  14% (5/34)\u001b[K\rremote: Compressing objects:  17% (6/34)\u001b[K\rremote: Compressing objects:  20% (7/34)\u001b[K\rremote: Compressing objects:  23% (8/34)\u001b[K\rremote: Compressing objects:  26% (9/34)\u001b[K\rremote: Compressing objects:  29% (10/34)\u001b[K\rremote: Compressing objects:  32% (11/34)\u001b[K\rremote: Compressing objects:  35% (12/34)\u001b[K\rremote: Compressing objects:  38% (13/34)\u001b[K\rremote: Compressing objects:  41% (14/34)\u001b[K\rremote: Compressing objects:  44% (15/34)\u001b[K\rremote: Compressing objects:  47% (16/34)\u001b[K\rremote: Compressing objects:  50% (17/34)\u001b[K\rremote: Compressing objects:  52% (18/34)\u001b[K\rremote: Compressing objects:  55% (19/34)\u001b[K\rremote: Compressing objects:  58% (20/34)\u001b[K\rremote: Compressing objects:  61% (21/34)\u001b[K\rremote: Compressing objects:  64% (22/34)\u001b[K\rremote: Compressing objects:  67% (23/34)\u001b[K\rremote: Compressing objects:  70% (24/34)\u001b[K\rremote: Compressing objects:  73% (25/34)\u001b[K\rremote: Compressing objects:  76% (26/34)\u001b[K\rremote: Compressing objects:  79% (27/34)\u001b[K\rremote: Compressing objects:  82% (28/34)\u001b[K\rremote: Compressing objects:  85% (29/34)\u001b[K\rremote: Compressing objects:  88% (30/34)\u001b[K\rremote: Compressing objects:  91% (31/34)\u001b[K\rremote: Compressing objects:  94% (32/34)\u001b[K\rremote: Compressing objects:  97% (33/34)\u001b[K\rremote: Compressing objects: 100% (34/34)\u001b[K\rremote: Compressing objects: 100% (34/34), done.\u001b[K\r\nReceiving objects:   0% (1/1282)\rReceiving objects:   1% (13/1282)\rReceiving objects:   2% (26/1282), 31.41 MiB | 62.80 MiB/s\rReceiving objects:   2% (31/1282), 63.54 MiB | 63.53 MiB/s\rReceiving objects:   3% (39/1282), 63.54 MiB | 63.53 MiB/s\rReceiving objects:   4% (52/1282), 96.03 MiB | 64.02 MiB/s\rReceiving objects:   4% (52/1282), 128.55 MiB | 64.27 MiB/s\rReceiving objects:   5% (65/1282), 161.39 MiB | 64.55 MiB/s\rReceiving objects:   5% (70/1282), 194.21 MiB | 64.73 MiB/s\rReceiving objects:   6% (77/1282), 194.21 MiB | 64.73 MiB/s\rReceiving objects:   7% (90/1282), 225.70 MiB | 64.48 MiB/s\rReceiving objects:   7% (96/1282), 257.91 MiB | 64.48 MiB/s\rReceiving objects:   8% (103/1282), 257.91 MiB | 64.48 MiB/s\rReceiving objects:   8% (114/1282), 323.54 MiB | 64.92 MiB/s\rReceiving objects:   9% (116/1282), 323.54 MiB | 64.92 MiB/s\rReceiving objects:  10% (129/1282), 355.78 MiB | 64.94 MiB/s\rReceiving objects:  10% (135/1282), 381.00 MiB | 61.61 MiB/s\rReceiving objects:  11% (142/1282), 381.00 MiB | 61.61 MiB/s\rReceiving objects:  11% (152/1282), 412.66 MiB | 61.43 MiB/s\rReceiving objects:  12% (154/1282), 412.66 MiB | 61.43 MiB/s\rReceiving objects:  13% (167/1282), 442.83 MiB | 60.85 MiB/s\rReceiving objects:  14% (180/1282), 442.83 MiB | 60.85 MiB/s\rReceiving objects:  15% (193/1282), 472.07 MiB | 60.08 MiB/s\rReceiving objects:  16% (206/1282), 472.07 MiB | 60.08 MiB/s\rReceiving objects:  17% (218/1282), 472.07 MiB | 60.08 MiB/s\rReceiving objects:  18% (231/1282), 472.07 MiB | 60.08 MiB/s\rReceiving objects:  19% (244/1282), 472.07 MiB | 60.08 MiB/s\rReceiving objects:  20% (257/1282), 472.07 MiB | 60.08 MiB/s\rReceiving objects:  21% (270/1282), 472.07 MiB | 60.08 MiB/s\rReceiving objects:  22% (283/1282), 472.07 MiB | 60.08 MiB/s\rReceiving objects:  23% (295/1282), 472.07 MiB | 60.08 MiB/s\rReceiving objects:  24% (308/1282), 472.07 MiB | 60.08 MiB/s\rReceiving objects:  25% (321/1282), 472.07 MiB | 60.08 MiB/s\rReceiving objects:  26% (334/1282), 472.07 MiB | 60.08 MiB/s\rReceiving objects:  27% (347/1282), 472.07 MiB | 60.08 MiB/s\rReceiving objects:  28% (359/1282), 472.07 MiB | 60.08 MiB/s\rReceiving objects:  29% (372/1282), 472.07 MiB | 60.08 MiB/s\rReceiving objects:  30% (385/1282), 472.07 MiB | 60.08 MiB/s\rReceiving objects:  31% (398/1282), 472.07 MiB | 60.08 MiB/s\rReceiving objects:  32% (411/1282), 472.07 MiB | 60.08 MiB/s\rReceiving objects:  33% (424/1282), 472.07 MiB | 60.08 MiB/s\rReceiving objects:  34% (436/1282), 472.07 MiB | 60.08 MiB/s\rReceiving objects:  35% (449/1282), 472.07 MiB | 60.08 MiB/s\rReceiving objects:  36% (462/1282), 472.07 MiB | 60.08 MiB/s\rReceiving objects:  37% (475/1282), 472.07 MiB | 60.08 MiB/s\rReceiving objects:  38% (488/1282), 472.07 MiB | 60.08 MiB/s\rReceiving objects:  39% (500/1282), 472.07 MiB | 60.08 MiB/s\rReceiving objects:  40% (513/1282), 472.07 MiB | 60.08 MiB/s\rReceiving objects:  41% (526/1282), 472.07 MiB | 60.08 MiB/s\rReceiving objects:  42% (539/1282), 472.07 MiB | 60.08 MiB/s\rReceiving objects:  43% (552/1282), 472.07 MiB | 60.08 MiB/s\rReceiving objects:  44% (565/1282), 472.07 MiB | 60.08 MiB/s\rReceiving objects:  45% (577/1282), 472.07 MiB | 60.08 MiB/s\rReceiving objects:  46% (590/1282), 472.07 MiB | 60.08 MiB/s\rReceiving objects:  47% (603/1282), 472.07 MiB | 60.08 MiB/s\rReceiving objects:  48% (616/1282), 472.07 MiB | 60.08 MiB/s\rReceiving objects:  49% (629/1282), 472.07 MiB | 60.08 MiB/s\rReceiving objects:  50% (641/1282), 472.07 MiB | 60.08 MiB/s\rReceiving objects:  51% (654/1282), 472.07 MiB | 60.08 MiB/s\rReceiving objects:  52% (667/1282), 472.07 MiB | 60.08 MiB/s\rReceiving objects:  53% (680/1282), 472.07 MiB | 60.08 MiB/s\rReceiving objects:  54% (693/1282), 472.07 MiB | 60.08 MiB/s\rReceiving objects:  55% (706/1282), 472.07 MiB | 60.08 MiB/s\rReceiving objects:  56% (718/1282), 472.07 MiB | 60.08 MiB/s\rReceiving objects:  57% (731/1282), 472.07 MiB | 60.08 MiB/s\rReceiving objects:  58% (744/1282), 472.07 MiB | 60.08 MiB/s\rReceiving objects:  59% (757/1282), 472.07 MiB | 60.08 MiB/s\rReceiving objects:  60% (770/1282), 472.07 MiB | 60.08 MiB/s\rReceiving objects:  61% (783/1282), 472.07 MiB | 60.08 MiB/s\rReceiving objects:  62% (795/1282), 472.07 MiB | 60.08 MiB/s\rReceiving objects:  63% (808/1282), 472.07 MiB | 60.08 MiB/s\rReceiving objects:  64% (821/1282), 472.07 MiB | 60.08 MiB/s\rReceiving objects:  65% (834/1282), 472.07 MiB | 60.08 MiB/s\rReceiving objects:  66% (847/1282), 472.07 MiB | 60.08 MiB/s\rReceiving objects:  67% (859/1282), 472.07 MiB | 60.08 MiB/s\rReceiving objects:  68% (872/1282), 472.07 MiB | 60.08 MiB/s\rReceiving objects:  69% (885/1282), 472.07 MiB | 60.08 MiB/s\rReceiving objects:  70% (898/1282), 472.07 MiB | 60.08 MiB/s\rReceiving objects:  71% (911/1282), 472.07 MiB | 60.08 MiB/s\rReceiving objects:  72% (924/1282), 472.07 MiB | 60.08 MiB/s\rReceiving objects:  73% (936/1282), 472.07 MiB | 60.08 MiB/s\rReceiving objects:  74% (949/1282), 472.07 MiB | 60.08 MiB/s\rReceiving objects:  75% (962/1282), 472.07 MiB | 60.08 MiB/s\rReceiving objects:  76% (975/1282), 472.07 MiB | 60.08 MiB/s\rReceiving objects:  77% (988/1282), 472.07 MiB | 60.08 MiB/s\rReceiving objects:  78% (1000/1282), 472.07 MiB | 60.08 MiB/s\rReceiving objects:  79% (1013/1282), 472.07 MiB | 60.08 MiB/s\rReceiving objects:  80% (1026/1282), 472.07 MiB | 60.08 MiB/s\rReceiving objects:  81% (1039/1282), 472.07 MiB | 60.08 MiB/s\rReceiving objects:  82% (1052/1282), 472.07 MiB | 60.08 MiB/s\rReceiving objects:  83% (1065/1282), 472.07 MiB | 60.08 MiB/s\rReceiving objects:  84% (1077/1282), 472.07 MiB | 60.08 MiB/s\rReceiving objects:  85% (1090/1282), 472.07 MiB | 60.08 MiB/s\rReceiving objects:  86% (1103/1282), 472.07 MiB | 60.08 MiB/s\rReceiving objects:  87% (1116/1282), 472.07 MiB | 60.08 MiB/s\rReceiving objects:  88% (1129/1282), 472.07 MiB | 60.08 MiB/s\rReceiving objects:  89% (1141/1282), 472.07 MiB | 60.08 MiB/s\rReceiving objects:  90% (1154/1282), 472.07 MiB | 60.08 MiB/s\rReceiving objects:  91% (1167/1282), 472.07 MiB | 60.08 MiB/s\rReceiving objects:  92% (1180/1282), 472.07 MiB | 60.08 MiB/s\rReceiving objects:  93% (1193/1282), 472.07 MiB | 60.08 MiB/s\rReceiving objects:  94% (1206/1282), 472.07 MiB | 60.08 MiB/s\rReceiving objects:  95% (1218/1282), 472.07 MiB | 60.08 MiB/s\rReceiving objects:  96% (1231/1282), 472.07 MiB | 60.08 MiB/s\rReceiving objects:  97% (1244/1282), 472.07 MiB | 60.08 MiB/s\rReceiving objects:  97% (1254/1282), 472.07 MiB | 60.08 MiB/s\rReceiving objects:  98% (1257/1282), 488.72 MiB | 56.87 MiB/s\rremote: Total 1282 (delta 25), reused 26 (delta 11), pack-reused 1237 (from 1)\u001b[K\r\nReceiving objects:  99% (1270/1282), 488.72 MiB | 56.87 MiB/s\rReceiving objects: 100% (1282/1282), 488.72 MiB | 56.87 MiB/s\rReceiving objects: 100% (1282/1282), 490.04 MiB | 59.87 MiB/s, done.\r\nResolving deltas:   0% (0/830)\rResolving deltas:   1% (9/830)\rResolving deltas:   2% (17/830)\rResolving deltas:   3% (25/830)\rResolving deltas:   4% (34/830)\rResolving deltas:   5% (42/830)\rResolving deltas:   6% (50/830)\rResolving deltas:   7% (59/830)\rResolving deltas:   8% (67/830)\rResolving deltas:   9% (75/830)\rResolving deltas:  10% (83/830)\rResolving deltas:  11% (92/830)\rResolving deltas:  12% (100/830)\rResolving deltas:  13% (108/830)\rResolving deltas:  14% (117/830)\rResolving deltas:  15% (125/830)\rResolving deltas:  16% (133/830)\rResolving deltas:  17% (142/830)\rResolving deltas:  18% (150/830)\rResolving deltas:  19% (158/830)\rResolving deltas:  20% (166/830)\rResolving deltas:  21% (175/830)\rResolving deltas:  22% (183/830)\rResolving deltas:  23% (191/830)\rResolving deltas:  24% (200/830)\rResolving deltas:  25% (208/830)\rResolving deltas:  26% (216/830)\rResolving deltas:  27% (225/830)\rResolving deltas:  28% (233/830)\rResolving deltas:  29% (241/830)\rResolving deltas:  30% (249/830)\rResolving deltas:  31% (258/830)\rResolving deltas:  32% (266/830)\rResolving deltas:  33% (274/830)\rResolving deltas:  34% (283/830)\rResolving deltas:  35% (291/830)\rResolving deltas:  36% (299/830)\rResolving deltas:  37% (308/830)\rResolving deltas:  38% (316/830)\rResolving deltas:  39% (324/830)\rResolving deltas:  40% (332/830)\rResolving deltas:  41% (342/830)\rResolving deltas:  42% (349/830)\rResolving deltas:  43% (357/830)\rResolving deltas:  44% (366/830)\rResolving deltas:  45% (374/830)\rResolving deltas:  46% (382/830)\rResolving deltas:  47% (391/830)\rResolving deltas:  48% (399/830)\rResolving deltas:  49% (407/830)\rResolving deltas:  50% (415/830)\rResolving deltas:  51% (425/830)\rResolving deltas:  52% (432/830)\rResolving deltas:  53% (440/830)\rResolving deltas:  54% (449/830)\rResolving deltas:  55% (457/830)\rResolving deltas:  56% (465/830)\rResolving deltas:  57% (474/830)\rResolving deltas:  58% (482/830)\rResolving deltas:  59% (490/830)\rResolving deltas:  60% (498/830)\rResolving deltas:  61% (507/830)\rResolving deltas:  62% (515/830)\rResolving deltas:  63% (523/830)\rResolving deltas:  64% (532/830)\rResolving deltas:  65% (540/830)\rResolving deltas:  66% (548/830)\rResolving deltas:  67% (557/830)\rResolving deltas:  68% (565/830)\rResolving deltas:  69% (573/830)\rResolving deltas:  70% (581/830)\rResolving deltas:  71% (590/830)\rResolving deltas:  72% (598/830)\rResolving deltas:  73% (606/830)\rResolving deltas:  74% (615/830)\rResolving deltas:  75% (623/830)\rResolving deltas:  76% (631/830)\rResolving deltas:  77% (640/830)\rResolving deltas:  78% (648/830)\rResolving deltas:  79% (656/830)\rResolving deltas:  80% (664/830)\rResolving deltas:  81% (673/830)\rResolving deltas:  82% (681/830)\rResolving deltas:  83% (689/830)\rResolving deltas:  84% (698/830)\rResolving deltas:  85% (706/830)\rResolving deltas:  86% (714/830)\rResolving deltas:  87% (723/830)\rResolving deltas:  88% (731/830)\rResolving deltas:  89% (739/830)\rResolving deltas:  90% (747/830)\rResolving deltas:  91% (756/830)\rResolving deltas:  92% (764/830)\rResolving deltas:  93% (772/830)\rResolving deltas:  94% (781/830)\rResolving deltas:  95% (789/830)\rResolving deltas:  96% (797/830)\rResolving deltas:  97% (806/830)\rResolving deltas:  98% (814/830)\rResolving deltas:  99% (822/830)\rResolving deltas: 100% (830/830)\rResolving deltas: 100% (830/830), done.\r\nUpdating files:  78% (796/1010)\rUpdating files:  79% (798/1010)\rUpdating files:  80% (808/1010)\rUpdating files:  81% (819/1010)\rUpdating files:  82% (829/1010)\rUpdating files:  83% (839/1010)\rUpdating files:  84% (849/1010)\rUpdating files:  84% (852/1010)\rUpdating files:  85% (859/1010)\rUpdating files:  86% (869/1010)\rUpdating files:  87% (879/1010)\rUpdating files:  88% (889/1010)\rUpdating files:  89% (899/1010)\rUpdating files:  90% (909/1010)\rUpdating files:  90% (910/1010)\rUpdating files:  91% (920/1010)\rUpdating files:  92% (930/1010)\rUpdating files:  93% (940/1010)\rUpdating files:  94% (950/1010)\rUpdating files:  95% (960/1010)\rUpdating files:  96% (970/1010)\rUpdating files:  97% (980/1010)\rUpdating files:  98% (990/1010)\rUpdating files:  99% (1000/1010)\rUpdating files: 100% (1010/1010)\rUpdating files: 100% (1010/1010), done.\r\n"
      ]
     },
     "execution_count": null,
     "metadata": {},
     "output_type": "execute_result"
    }
   ],
   "source": [
    "!git clone https://github.com/madaan/pie-perf.git"
   ]
  },
  {
   "cell_type": "markdown",
   "id": "b1d5fe70",
   "metadata": {},
   "source": [
    "### Step 4"
   ]
  },
  {
   "cell_type": "markdown",
   "id": "b2dd2b37",
   "metadata": {},
   "source": [
    "**Thought**: [pre-executed by user]"
   ]
  },
  {
   "cell_type": "markdown",
   "id": "a9608d87",
   "metadata": {},
   "source": [
    "**Action (None)**:"
   ]
  },
  {
   "cell_type": "code",
   "execution_count": null,
   "id": "a7eb713d",
   "metadata": {},
   "outputs": [
    {
     "data": {
      "text/plain": [
       ""
      ]
     },
     "execution_count": null,
     "metadata": {},
     "output_type": "execute_result"
    }
   ],
   "source": [
    "# ### Data preparation"
   ]
  },
  {
   "cell_type": "markdown",
   "id": "325140e0",
   "metadata": {},
   "source": [
    "### Step 5"
   ]
  },
  {
   "cell_type": "markdown",
   "id": "775a3871",
   "metadata": {},
   "source": [
    "**Thought**: [pre-executed by user]"
   ]
  },
  {
   "cell_type": "markdown",
   "id": "dc2fa2af",
   "metadata": {},
   "source": [
    "**Action (None)**:"
   ]
  },
  {
   "cell_type": "code",
   "execution_count": null,
   "id": "b136c398",
   "metadata": {},
   "outputs": [
    {
     "data": {
      "text/plain": [
       ""
      ]
     },
     "execution_count": null,
     "metadata": {},
     "output_type": "execute_result"
    }
   ],
   "source": [
    "# #### Download data"
   ]
  },
  {
   "cell_type": "markdown",
   "id": "751107ee",
   "metadata": {},
   "source": [
    "### Step 6"
   ]
  },
  {
   "cell_type": "markdown",
   "id": "25e2201a",
   "metadata": {},
   "source": [
    "**Thought**: [pre-executed by user]"
   ]
  },
  {
   "cell_type": "markdown",
   "id": "32557be1",
   "metadata": {},
   "source": [
    "**Action (None)**:"
   ]
  },
  {
   "cell_type": "code",
   "execution_count": null,
   "id": "9799696d",
   "metadata": {},
   "outputs": [
    {
     "data": {
      "text/plain": [
       "Requirement already satisfied: gdown in /usr/local/lib/python3.10/site-packages (5.1.0)\r\nCollecting gdown\r\n  Downloading gdown-5.2.0-py3-none-any.whl.metadata (5.8 kB)\r\nRequirement already satisfied: beautifulsoup4 in /usr/local/lib/python3.10/site-packages (from gdown) (4.12.3)\r\nRequirement already satisfied: filelock in /usr/local/lib/python3.10/site-packages (from gdown) (3.15.1)\r\nRequirement already satisfied: requests[socks] in /usr/local/lib/python3.10/site-packages (from gdown) (2.31.0)\r\nRequirement already satisfied: tqdm in /usr/local/lib/python3.10/site-packages (from gdown) (4.66.4)\r\nRequirement already satisfied: soupsieve>1.2 in /usr/local/lib/python3.10/site-packages (from beautifulsoup4->gdown) (2.5)\r\nRequirement already satisfied: charset-normalizer<4,>=2 in /usr/local/lib/python3.10/site-packages (from requests[socks]->gdown) (2.1.1)\r\nRequirement already satisfied: idna<4,>=2.5 in /usr/local/lib/python3.10/site-packages (from requests[socks]->gdown) (3.7)\r\nRequirement already satisfied: urllib3<3,>=1.21.1 in /usr/local/lib/python3.10/site-packages (from requests[socks]->gdown) (2.0.7)\r\nRequirement already satisfied: certifi>=2017.4.17 in /usr/local/lib/python3.10/site-packages (from requests[socks]->gdown) (2024.6.2)\r\nRequirement already satisfied: PySocks!=1.5.7,>=1.5.6 in /usr/local/lib/python3.10/site-packages (from requests[socks]->gdown) (1.7.1)\r\nDownloading gdown-5.2.0-py3-none-any.whl (18 kB)\r\nInstalling collected packages: gdown\r\n  Attempting uninstall: gdown\r\n    Found existing installation: gdown 5.1.0\r\n    Uninstalling gdown-5.1.0:\r\n      Successfully uninstalled gdown-5.1.0\r\nSuccessfully installed gdown-5.2.0\r\n\r\n\u001b[1m[\u001b[0m\u001b[34;49mnotice\u001b[0m\u001b[1;39;49m]\u001b[0m\u001b[39;49m A new release of pip is available: \u001b[0m\u001b[31;49m24.0\u001b[0m\u001b[39;49m -> \u001b[0m\u001b[32;49m24.2\u001b[0m\r\n\u001b[1m[\u001b[0m\u001b[34;49mnotice\u001b[0m\u001b[1;39;49m]\u001b[0m\u001b[39;49m To update, run: \u001b[0m\u001b[32;49mpip install --upgrade pip\u001b[0m\r\n"
      ]
     },
     "execution_count": null,
     "metadata": {},
     "output_type": "execute_result"
    }
   ],
   "source": [
    "# use gdown to download files\n",
    "!pip install gdown --upgrade"
   ]
  },
  {
   "cell_type": "markdown",
   "id": "f4bc0b45",
   "metadata": {},
   "source": [
    "### Step 7"
   ]
  },
  {
   "cell_type": "markdown",
   "id": "61823de0",
   "metadata": {},
   "source": [
    "**Thought**: [pre-executed by user]"
   ]
  },
  {
   "cell_type": "markdown",
   "id": "bbb8ffd9",
   "metadata": {},
   "source": [
    "**Action (None)**:"
   ]
  },
  {
   "cell_type": "code",
   "execution_count": null,
   "id": "07b33350",
   "metadata": {},
   "outputs": [
    {
     "data": {
      "text/plain": [
       "/usr/local/lib/python3.10/site-packages/IPython/core/magics/osm.py:417: UserWarning: This is now an optional IPython functionality, setting dhist requires you to install the `pickleshare` library.\n  self.shell.db['dhist'] = compress_dhist(dhist)[-100:]\nRetrieving folder contents\n/content/pie-perf/data\nProcessing file 1zI7lobzGjmM8Qa59hs72QYRU1-HfB3sQ generated_programs.jsonl\nProcessing file 1izs1iF5cd_NAZsOaZvrrQF3NAsoP8lHf improvement_pairs_additional_metadata.csv\nProcessing file 1aNUEmIyTs0NqPbGMFPfVWb8ExRgIc1gj problem_tests.json\nRetrieving folder contents completed\nBuilding directory structure\nBuilding directory structure completed\nDownloading...\nFrom: https://drive.google.com/uc?id=1zI7lobzGjmM8Qa59hs72QYRU1-HfB3sQ\nTo: /content/pie-perf/data/my_data/generated_programs.jsonl\n\r  0%|          | 0.00/163k [00:00<?, ?B/s]\r100%|██████████| 163k/163k [00:00<00:00, 10.2MB/s]\nDownloading...\nFrom: https://drive.google.com/uc?id=1izs1iF5cd_NAZsOaZvrrQF3NAsoP8lHf\nTo: /content/pie-perf/data/my_data/improvement_pairs_additional_metadata.csv\n\r  0%|          | 0.00/147k [00:00<?, ?B/s]\r100%|██████████| 147k/147k [00:00<00:00, 5.31MB/s]\nDownloading...\nFrom: https://drive.google.com/uc?id=1aNUEmIyTs0NqPbGMFPfVWb8ExRgIc1gj\nTo: /content/pie-perf/data/my_data/problem_tests.json\n\r  0%|          | 0.00/1.30k [00:00<?, ?B/s]\r100%|██████████| 1.30k/1.30k [00:00<00:00, 5.97MB/s]\nDownload completed\n['my_data/generated_programs.jsonl',\n 'my_data/improvement_pairs_additional_metadata.csv',\n 'my_data/problem_tests.json']\n\nYour command has already run for 300 seconds. It is still running. You can continue to wait or interrupt it with \"action\": {\"type\": \"interrupt\"} or \"action\": {\"type\": \"continue_wait\"}"
      ]
     },
     "execution_count": null,
     "metadata": {},
     "output_type": "execute_result"
    }
   ],
   "source": [
    "import gdown\n",
    "from pathlib import Path\n",
    "\n",
    "Path(\"/content/pie-perf/data\").mkdir(exist_ok=True)\n",
    "\n",
    "%cd /content/pie-perf/data\n",
    "gdown.download_folder(\"https://drive.google.com/drive/folders/1-TKkLWBFYHvWITHyOQt2oyuF5J8SdVl1\", output=\"my_data\")"
   ]
  },
  {
   "cell_type": "markdown",
   "id": "fd701bba",
   "metadata": {},
   "source": [
    "### Step 8"
   ]
  },
  {
   "cell_type": "markdown",
   "id": "158550b5",
   "metadata": {},
   "source": [
    "**Thought**: [continued after timeout]"
   ]
  },
  {
   "cell_type": "markdown",
   "id": "e0c8121c",
   "metadata": {},
   "source": [
    "**Action ()**:"
   ]
  },
  {
   "cell_type": "code",
   "execution_count": null,
   "id": "ce406e38",
   "metadata": {},
   "outputs": [
    {
     "data": {
      "text/plain": [
       "Error: NameError: name 'continue_wait' is not defined\u001b[0;31m---------------------------------------------------------------------------\u001b[0m\u001b[0;31mNameError\u001b[0m                                 Traceback (most recent call last)Cell \u001b[0;32mIn[30], line 1\u001b[0m\n\u001b[0;32m----> 1\u001b[0m \u001b[43mcontinue_wait\u001b[49m\n\u001b[0;31mNameError\u001b[0m: name 'continue_wait' is not defined"
      ]
     },
     "execution_count": null,
     "metadata": {},
     "output_type": "execute_result"
    }
   ],
   "source": [
    "continue_wait"
   ]
  },
  {
   "cell_type": "markdown",
   "id": "34562320",
   "metadata": {},
   "source": [
    "### Step 9"
   ]
  },
  {
   "cell_type": "markdown",
   "id": "e64d294e",
   "metadata": {},
   "source": [
    "**Thought**: [pre-executed by user]"
   ]
  },
  {
   "cell_type": "markdown",
   "id": "77c78c29",
   "metadata": {},
   "source": [
    "**Action (None)**:"
   ]
  },
  {
   "cell_type": "code",
   "execution_count": null,
   "id": "eb3cb7e5",
   "metadata": {},
   "outputs": [
    {
     "data": {
      "text/plain": [
       ""
      ]
     },
     "execution_count": null,
     "metadata": {},
     "output_type": "execute_result"
    }
   ],
   "source": [
    "# #### Install dependencies"
   ]
  },
  {
   "cell_type": "markdown",
   "id": "22c60255",
   "metadata": {},
   "source": [
    "### Step 10"
   ]
  },
  {
   "cell_type": "markdown",
   "id": "38888306",
   "metadata": {},
   "source": [
    "**Thought**: [pre-executed by user]"
   ]
  },
  {
   "cell_type": "markdown",
   "id": "9a7c1193",
   "metadata": {},
   "source": [
    "**Action (None)**:"
   ]
  },
  {
   "cell_type": "code",
   "execution_count": null,
   "id": "46dfad68",
   "metadata": {},
   "outputs": [
    {
     "data": {
      "text/plain": [
       ""
      ]
     },
     "execution_count": null,
     "metadata": {},
     "output_type": "execute_result"
    }
   ],
   "source": [
    "import pandas as pd\n",
    "import json\n",
    "import yaml"
   ]
  },
  {
   "cell_type": "markdown",
   "id": "a1fa7ad4",
   "metadata": {},
   "source": [
    "### Step 11"
   ]
  },
  {
   "cell_type": "markdown",
   "id": "d74749a0",
   "metadata": {},
   "source": [
    "**Thought**: [pre-executed by user]"
   ]
  },
  {
   "cell_type": "markdown",
   "id": "2e3c70b4",
   "metadata": {},
   "source": [
    "**Action (None)**:"
   ]
  },
  {
   "cell_type": "code",
   "execution_count": null,
   "id": "a41fdad1",
   "metadata": {},
   "outputs": [
    {
     "data": {
      "text/plain": [
       ""
      ]
     },
     "execution_count": null,
     "metadata": {},
     "output_type": "execute_result"
    }
   ],
   "source": [
    "# #### Generate input files"
   ]
  },
  {
   "cell_type": "markdown",
   "id": "833a0daa",
   "metadata": {},
   "source": [
    "### Step 12"
   ]
  },
  {
   "cell_type": "markdown",
   "id": "04a2277f",
   "metadata": {},
   "source": [
    "**Thought**: [pre-executed by user]"
   ]
  },
  {
   "cell_type": "markdown",
   "id": "297a315f",
   "metadata": {},
   "source": [
    "**Action (None)**:"
   ]
  },
  {
   "cell_type": "code",
   "execution_count": null,
   "id": "e59148ac",
   "metadata": {},
   "outputs": [
    {
     "data": {
      "text/plain": [
       "/content/pie-perf/data/my_data\n/usr/local/lib/python3.10/site-packages/IPython/core/magics/osm.py:417: UserWarning: This is now an optional IPython functionality, setting dhist requires you to install the `pickleshare` library.\n  self.shell.db['dhist'] = compress_dhist(dhist)[-100:]\n"
      ]
     },
     "execution_count": null,
     "metadata": {},
     "output_type": "execute_result"
    }
   ],
   "source": [
    "%cd /content/pie-perf/data/my_data\n",
    "\n",
    "generations_filename = \"generations.jsonl\"\n",
    "references_filename = \"references.jsonl\"\n",
    "\n",
    "slow_code_col = \"input\"\n",
    "model_generated_potentially_faster_code_col = \"improved_code\"\n",
    "\n",
    "df = pd.read_json(\"generated_programs.jsonl\", lines=True)\n",
    "df = df.rename(columns={\"original_code\": slow_code_col})\n",
    "gen_df = df.drop(columns=\"problem_id\")\n",
    "gen_df.to_json(generations_filename, orient=\"records\", lines=True)\n",
    "\n",
    "ref_df = df.drop(columns=\"improved_code\").copy()\n",
    "ref_df[\"submission_id_v0\"] = [f\"s{i}\" for i in range(len(ref_df))]\n",
    "ref_df.to_json(references_filename, orient=\"records\", lines=True)\n",
    "\n",
    "# Test cases\n",
    "with open(\"problem_tests.json\") as f:\n",
    "    tests = json.load(f)\n",
    "tests_dir = Path(\"test_cases\")\n",
    "tests_dir.mkdir(exist_ok=True)\n",
    "for test_dict in tests:\n",
    "    pid_dir = tests_dir / test_dict[\"pid\"]\n",
    "    pid_dir.mkdir(exist_ok=True)\n",
    "    for i, test in enumerate(test_dict[\"tests\"]):\n",
    "        with open(pid_dir / f\"input.{i}.txt\", \"w\") as f:\n",
    "             f.write(test[\"input\"])\n",
    "        with open(pid_dir / f\"output.{i}.txt\", \"w\") as f:\n",
    "            f.write(test[\"output\"])\n"
   ]
  },
  {
   "cell_type": "markdown",
   "id": "38ee87dc",
   "metadata": {},
   "source": [
    "### Step 13"
   ]
  },
  {
   "cell_type": "markdown",
   "id": "bece5059",
   "metadata": {},
   "source": [
    "**Thought**: [pre-executed by user]"
   ]
  },
  {
   "cell_type": "markdown",
   "id": "0dca63bd",
   "metadata": {},
   "source": [
    "**Action (None)**:"
   ]
  },
  {
   "cell_type": "code",
   "execution_count": null,
   "id": "faf8dd58",
   "metadata": {},
   "outputs": [
    {
     "data": {
      "text/plain": [
       ""
      ]
     },
     "execution_count": null,
     "metadata": {},
     "output_type": "execute_result"
    }
   ],
   "source": [
    "# Inspect the metrics again"
   ]
  },
  {
   "cell_type": "markdown",
   "id": "eae5c0a2",
   "metadata": {},
   "source": [
    "### Step 14"
   ]
  },
  {
   "cell_type": "markdown",
   "id": "a2493430",
   "metadata": {},
   "source": [
    "**Thought**: [pre-executed by user]"
   ]
  },
  {
   "cell_type": "markdown",
   "id": "6aeb2ca6",
   "metadata": {},
   "source": [
    "**Action (None)**:"
   ]
  },
  {
   "cell_type": "code",
   "execution_count": null,
   "id": "ad43fa59",
   "metadata": {},
   "outputs": [
    {
     "data": {
      "text/plain": [
       ""
      ]
     },
     "execution_count": null,
     "metadata": {},
     "output_type": "execute_result"
    }
   ],
   "source": [
    "# Now it seems to be running properly. I run the script for all the problems and report the metrics"
   ]
  },
  {
   "cell_type": "markdown",
   "id": "0b7107f5",
   "metadata": {},
   "source": [
    "### Step 15"
   ]
  },
  {
   "cell_type": "markdown",
   "id": "3467eb7e",
   "metadata": {},
   "source": [
    "Execution Start time: 05:44:56, End time: 05:44:56 (duration: 0 seconds)"
   ]
  },
  {
   "cell_type": "markdown",
   "id": "250ba505",
   "metadata": {},
   "source": [
    "**Thought**: Now that the data preparation and setup steps are complete, I need to modify the evaluation configuration file to set `\"num_trials\": 2` and ensure that only the first 10 rows of the dataset are loaded. Let's open the `eval_config.yaml` file to make the necessary changes.\n",
    "\n"
   ]
  },
  {
   "cell_type": "markdown",
   "id": "4455da86",
   "metadata": {},
   "source": [
    "**Action (open)**:"
   ]
  },
  {
   "cell_type": "code",
   "execution_count": null,
   "id": "efff442b",
   "metadata": {},
   "outputs": [
    {
     "data": {
      "text/plain": [
       "File eval_config.yaml not found\n"
      ]
     },
     "execution_count": null,
     "metadata": {},
     "output_type": "execute_result"
    }
   ],
   "source": [
    "open eval_config.yaml"
   ]
  },
  {
   "cell_type": "markdown",
   "id": "115ad83b",
   "metadata": {},
   "source": [
    "### Step 16"
   ]
  },
  {
   "cell_type": "markdown",
   "id": "b68a253d",
   "metadata": {},
   "source": [
    "Execution Start time: 05:44:57, End time: 05:44:58 (duration: 0 seconds)"
   ]
  },
  {
   "cell_type": "markdown",
   "id": "6ecea9a6",
   "metadata": {},
   "source": [
    "**Thought**: It seems that the `eval_config.yaml` file is not located in the current directory. Let's navigate to the root directory of the repository and search for the `eval_config.yaml` file to locate its correct path.\n",
    "\n"
   ]
  },
  {
   "cell_type": "markdown",
   "id": "7083556e",
   "metadata": {},
   "source": [
    "**Action (None)**:"
   ]
  },
  {
   "cell_type": "code",
   "execution_count": null,
   "id": "1636fe67",
   "metadata": {},
   "outputs": [
    {
     "data": {
      "text/plain": [
       "/content/pie-perf\n/usr/local/lib/python3.10/site-packages/IPython/core/magics/osm.py:417: UserWarning: This is now an optional IPython functionality, setting dhist requires you to install the `pickleshare` library.\n  self.shell.db['dhist'] = compress_dhist(dhist)[-100:]\n"
      ]
     },
     "execution_count": null,
     "metadata": {},
     "output_type": "execute_result"
    }
   ],
   "source": [
    "%cd /content/pie-perf"
   ]
  },
  {
   "cell_type": "markdown",
   "id": "d90dba15",
   "metadata": {},
   "source": [
    "### Step 17"
   ]
  },
  {
   "cell_type": "markdown",
   "id": "0008db6e",
   "metadata": {},
   "source": [
    "Execution Start time: 05:44:59, End time: 05:44:59 (duration: 0 seconds)"
   ]
  },
  {
   "cell_type": "markdown",
   "id": "4330505b",
   "metadata": {},
   "source": [
    "**Thought**: Now that we are in the root directory of the repository, let's search for the `eval_config.yaml` file to find its location.\n",
    "\n"
   ]
  },
  {
   "cell_type": "markdown",
   "id": "8ca4c0da",
   "metadata": {},
   "source": [
    "**Action (None)**:"
   ]
  },
  {
   "cell_type": "code",
   "execution_count": null,
   "id": "970312a0",
   "metadata": {},
   "outputs": [
    {
     "data": {
      "text/plain": [
       ""
      ]
     },
     "execution_count": null,
     "metadata": {},
     "output_type": "execute_result"
    }
   ],
   "source": [
    "!find . -name \"eval_config.yaml\""
   ]
  },
  {
   "cell_type": "markdown",
   "id": "9a546dee",
   "metadata": {},
   "source": [
    "### Step 18"
   ]
  },
  {
   "cell_type": "markdown",
   "id": "6cd5bc48",
   "metadata": {},
   "source": [
    "Execution Start time: 05:45:00, End time: 05:45:00 (duration: 0 seconds)"
   ]
  },
  {
   "cell_type": "markdown",
   "id": "2b8833a3",
   "metadata": {},
   "source": [
    "**Thought**: It seems that there is no file named `eval_config.yaml` in the repository. It's possible that the file might have a different name or might be located in a different directory. Let's search for any YAML files in the repository to see if we can find the correct configuration file.\n",
    "\n"
   ]
  },
  {
   "cell_type": "markdown",
   "id": "b20cb396",
   "metadata": {},
   "source": [
    "**Action (None)**:"
   ]
  },
  {
   "cell_type": "code",
   "execution_count": null,
   "id": "5a8d2979",
   "metadata": {},
   "outputs": [
    {
     "data": {
      "text/plain": [
       "./data/sample/sample_eval_config.yaml\n"
      ]
     },
     "execution_count": null,
     "metadata": {},
     "output_type": "execute_result"
    }
   ],
   "source": [
    "!find . -name \"*.yaml\""
   ]
  },
  {
   "cell_type": "markdown",
   "id": "02b27d38",
   "metadata": {},
   "source": [
    "### Step 19"
   ]
  },
  {
   "cell_type": "markdown",
   "id": "821d73fb",
   "metadata": {},
   "source": [
    "Execution Start time: 05:45:02, End time: 05:45:02 (duration: 0 seconds)"
   ]
  },
  {
   "cell_type": "markdown",
   "id": "c63d3787",
   "metadata": {},
   "source": [
    "**Thought**: We found a file named `sample_eval_config.yaml` in the `data/sample` directory. This might be the configuration file we need to modify. Let's open this file to check its contents and make the necessary changes.\n",
    "\n"
   ]
  },
  {
   "cell_type": "markdown",
   "id": "fe0d6cfb",
   "metadata": {},
   "source": [
    "**Action (open)**:"
   ]
  },
  {
   "cell_type": "code",
   "execution_count": null,
   "id": "bd5ba551",
   "metadata": {},
   "outputs": [
    {
     "data": {
      "text/plain": [
       "[File: /content/pie-perf/data/sample/sample_eval_config.yaml (16 lines total)]\n1:model_generated_outputs_path: \"data/sample/codex_greedy_outputs.jsonl\"\n2:inputs_outputs_basepath: \"data/codenet/public_test_cases/\"\n3:reference_file_path: \"data/sample/py_reference.jsonl\"\n4:output_report_file_path: \"data/sample//codex_greedy_outputs.jsonl.report\"\n5:num_problems_to_evaluate: -1\n6:num_trials: 25\n7:ignore_first_k: 1\n8:max_time_per_run: 10\n9:temp_dir: null\n10:model_generated_potentially_faster_code_col: \"generated_answers\"\n11:slow_code_col: \"input\"\n12:reference_code_col: \"target\"\n13:is_prompt_based: true\n14:cpu_number: 10\n15:return_if_acc_below: 1.0\n16:language: python\n"
      ]
     },
     "execution_count": null,
     "metadata": {},
     "output_type": "execute_result"
    }
   ],
   "source": [
    "open data/sample/sample_eval_config.yaml"
   ]
  },
  {
   "cell_type": "markdown",
   "id": "a7282910",
   "metadata": {},
   "source": [
    "### Step 20"
   ]
  },
  {
   "cell_type": "markdown",
   "id": "9aeb4adb",
   "metadata": {},
   "source": [
    "Execution Start time: 05:45:04, End time: 05:45:05 (duration: 0 seconds)"
   ]
  },
  {
   "cell_type": "markdown",
   "id": "9b21e047",
   "metadata": {},
   "source": [
    "**Thought**: The `sample_eval_config.yaml` file contains the configuration settings for evaluation. We need to make the following changes:\n",
    "1. Set `num_trials` to 2 to reduce computation time.\n",
    "2. Ensure that only the first 10 rows of the dataset are loaded by setting `num_problems_to_evaluate` to 10.\n",
    "\n",
    "Let's edit the file to apply these changes.\n",
    "\n"
   ]
  },
  {
   "cell_type": "markdown",
   "id": "5092d38f",
   "metadata": {},
   "source": [
    "**Action (edit)**:"
   ]
  },
  {
   "cell_type": "code",
   "execution_count": null,
   "id": "0ea1885d",
   "metadata": {},
   "outputs": [
    {
     "data": {
      "text/plain": [
       "[File: /content/pie-perf/data/sample/sample_eval_config.yaml (16 lines total)]\n1:model_generated_outputs_path: \"data/sample/codex_greedy_outputs.jsonl\"\n2:inputs_outputs_basepath: \"data/codenet/public_test_cases/\"\n3:reference_file_path: \"data/sample/py_reference.jsonl\"\n4:output_report_file_path: \"data/sample//codex_greedy_outputs.jsonl.report\"\n5:num_problems_to_evaluate: 10\n6:num_trials: 2\n7:ignore_first_k: 1\n8:max_time_per_run: 10\n9:temp_dir: null\n10:model_generated_potentially_faster_code_col: \"generated_answers\"\n11:slow_code_col: \"input\"\n12:reference_code_col: \"target\"\n13:is_prompt_based: true\n14:cpu_number: 10\n15:return_if_acc_below: 1.0\n16:language: python\nFile updated. Please review the changes and make sure they are correct (correct indentation, no duplicate lines, etc). Edit the file again if necessary.\n"
      ]
     },
     "execution_count": null,
     "metadata": {},
     "output_type": "execute_result"
    }
   ],
   "source": [
    "edit 5:6\n",
    "num_problems_to_evaluate: 10\n",
    "num_trials: 2\n",
    "end_of_edit"
   ]
  },
  {
   "cell_type": "markdown",
   "id": "406d7c1a",
   "metadata": {},
   "source": [
    "### Step 21"
   ]
  },
  {
   "cell_type": "markdown",
   "id": "89854a04",
   "metadata": {},
   "source": [
    "Execution Start time: 05:45:06, End time: 05:45:07 (duration: 0 seconds)"
   ]
  },
  {
   "cell_type": "markdown",
   "id": "906c1169",
   "metadata": {},
   "source": [
    "**Thought**: The necessary changes have been made to the `sample_eval_config.yaml` file. Now, let's run the evaluation script using this configuration file and load the results from the generated report.\n",
    "\n"
   ]
  },
  {
   "cell_type": "markdown",
   "id": "52b72fa3",
   "metadata": {},
   "source": [
    "**Action (None)**:"
   ]
  },
  {
   "cell_type": "code",
   "execution_count": null,
   "id": "116a3573",
   "metadata": {},
   "outputs": [
    {
     "data": {
      "text/plain": [
       "\nwriting programs:   0%|                                  | 0/10 [00:00<?, ?it/s]\nwriting programs:   0%|                                  | 0/10 [00:00<?, ?it/s]\nTraceback (most recent call last):\n  File \"/usr/local/lib/python3.10/runpy.py\", line 196, in _run_module_as_main\n    return _run_code(code, main_globals, None,\n  File \"/usr/local/lib/python3.10/runpy.py\", line 86, in _run_code\n    exec(code, run_globals)\n  File \"/content/pie-perf/src/codenet_eval/run_eval.py\", line 484, in <module>\n    evaluate_generated_outputs(evaluation_config)\n  File \"/content/pie-perf/src/codenet_eval/run_eval.py\", line 54, in evaluate_generated_outputs\n    problem_id_to_ground_truths, output_code_location = write_programs_read_ground_truth(\n  File \"/content/pie-perf/src/codenet_eval/run_eval.py\", line 211, in write_programs_read_ground_truth\n    num_test_cases > 0\nAssertionError: data/codenet/public_test_cases//p03371 has no ground truth files!\n"
      ]
     },
     "execution_count": null,
     "metadata": {},
     "output_type": "execute_result"
    }
   ],
   "source": [
    "!python -m src.codenet_eval.run_eval --eval_config data/sample/sample_eval_config.yaml"
   ]
  },
  {
   "cell_type": "markdown",
   "id": "1b77d3d4",
   "metadata": {},
   "source": [
    "### Step 22"
   ]
  },
  {
   "cell_type": "markdown",
   "id": "4dd9c96a",
   "metadata": {},
   "source": [
    "Execution Start time: 05:45:09, End time: 05:45:09 (duration: 0 seconds)"
   ]
  },
  {
   "cell_type": "markdown",
   "id": "6cd34f24",
   "metadata": {},
   "source": [
    "**Thought**: The error indicates that there is a problem with missing ground truth files for one of the test cases. It seems that the directory `data/codenet/public_test_cases//p03371` does not contain the necessary ground truth files. We need to ensure that all required test cases and ground truth files are available before running the evaluation.\n",
    "\n",
    "Let's first verify the structure of the `data/codenet/public_test_cases` directory to see if the necessary files are present.\n",
    "\n"
   ]
  },
  {
   "cell_type": "markdown",
   "id": "c306aaa0",
   "metadata": {},
   "source": [
    "**Action (None)**:"
   ]
  },
  {
   "cell_type": "code",
   "execution_count": null,
   "id": "f9903399",
   "metadata": {},
   "outputs": [
    {
     "data": {
      "text/plain": [
       "ls: cannot access 'data/codenet/public_test_cases': No such file or directory\n"
      ]
     },
     "execution_count": null,
     "metadata": {},
     "output_type": "execute_result"
    }
   ],
   "source": [
    "!ls -R data/codenet/public_test_cases"
   ]
  },
  {
   "cell_type": "markdown",
   "id": "411f4103",
   "metadata": {},
   "source": [
    "### Step 23"
   ]
  },
  {
   "cell_type": "markdown",
   "id": "98b84a91",
   "metadata": {},
   "source": [
    "Execution Start time: 05:45:11, End time: 05:45:11 (duration: 0 seconds)"
   ]
  },
  {
   "cell_type": "markdown",
   "id": "0e3719c8",
   "metadata": {},
   "source": [
    "**Thought**: It seems that the directory `data/codenet/public_test_cases` does not exist. This might be causing the issue with missing ground truth files. We need to ensure that the test cases are correctly set up. Let's check the `data/my_data` directory where we previously set up the test cases to see if they are correctly placed.\n",
    "\n"
   ]
  },
  {
   "cell_type": "markdown",
   "id": "2e74fff2",
   "metadata": {},
   "source": [
    "**Action (None)**:"
   ]
  },
  {
   "cell_type": "code",
   "execution_count": null,
   "id": "14ebe93e",
   "metadata": {},
   "outputs": [
    {
     "data": {
      "text/plain": [
       "data/my_data/test_cases:\np00849\tp03352\n\ndata/my_data/test_cases/p00849:\ninput.0.txt  output.0.txt\n\ndata/my_data/test_cases/p03352:\ninput.0.txt  input.1.txt  input.2.txt  output.0.txt  output.1.txt  output.2.txt\n"
      ]
     },
     "execution_count": null,
     "metadata": {},
     "output_type": "execute_result"
    }
   ],
   "source": [
    "!ls -R data/my_data/test_cases"
   ]
  },
  {
   "cell_type": "markdown",
   "id": "a63b0f3e",
   "metadata": {},
   "source": [
    "### Step 24"
   ]
  },
  {
   "cell_type": "markdown",
   "id": "9315472b",
   "metadata": {},
   "source": [
    "Execution Start time: 05:45:13, End time: 05:45:13 (duration: 0 seconds)"
   ]
  },
  {
   "cell_type": "markdown",
   "id": "c117b309",
   "metadata": {},
   "source": [
    "**Thought**: The test cases are present in the `data/my_data/test_cases` directory, but it seems the evaluation script is looking for them in a different location. We need to update the configuration file to point to the correct directory for the test cases.\n",
    "\n",
    "Let's open the `sample_eval_config.yaml` file again and update the path for the test cases to `data/my_data/test_cases`.\n",
    "\n"
   ]
  },
  {
   "cell_type": "markdown",
   "id": "d7a9db8b",
   "metadata": {},
   "source": [
    "**Action (open)**:"
   ]
  },
  {
   "cell_type": "code",
   "execution_count": null,
   "id": "e4786f7c",
   "metadata": {},
   "outputs": [
    {
     "data": {
      "text/plain": [
       "[File: /content/pie-perf/data/sample/sample_eval_config.yaml (16 lines total)]\n1:model_generated_outputs_path: \"data/sample/codex_greedy_outputs.jsonl\"\n2:inputs_outputs_basepath: \"data/codenet/public_test_cases/\"\n3:reference_file_path: \"data/sample/py_reference.jsonl\"\n4:output_report_file_path: \"data/sample//codex_greedy_outputs.jsonl.report\"\n5:num_problems_to_evaluate: 10\n6:num_trials: 2\n7:ignore_first_k: 1\n8:max_time_per_run: 10\n9:temp_dir: null\n10:model_generated_potentially_faster_code_col: \"generated_answers\"\n11:slow_code_col: \"input\"\n12:reference_code_col: \"target\"\n13:is_prompt_based: true\n14:cpu_number: 10\n15:return_if_acc_below: 1.0\n16:language: python\n"
      ]
     },
     "execution_count": null,
     "metadata": {},
     "output_type": "execute_result"
    }
   ],
   "source": [
    "open data/sample/sample_eval_config.yaml"
   ]
  },
  {
   "cell_type": "markdown",
   "id": "325bdf16",
   "metadata": {},
   "source": [
    "### Step 25"
   ]
  },
  {
   "cell_type": "markdown",
   "id": "0e484886",
   "metadata": {},
   "source": [
    "Execution Start time: 05:45:15, End time: 05:45:15 (duration: 0 seconds)"
   ]
  },
  {
   "cell_type": "markdown",
   "id": "cba529c8",
   "metadata": {},
   "source": [
    "**Thought**: We need to update the `inputs_outputs_basepath` in the configuration file to point to the correct directory where the test cases are located. Let's change it to `data/my_data/test_cases/`.\n",
    "\n"
   ]
  },
  {
   "cell_type": "markdown",
   "id": "2c0fc9c9",
   "metadata": {},
   "source": [
    "**Action (edit)**:"
   ]
  },
  {
   "cell_type": "code",
   "execution_count": null,
   "id": "cbe22e9e",
   "metadata": {},
   "outputs": [
    {
     "data": {
      "text/plain": [
       "[File: /content/pie-perf/data/sample/sample_eval_config.yaml (16 lines total)]\n1:model_generated_outputs_path: \"data/sample/codex_greedy_outputs.jsonl\"\n2:inputs_outputs_basepath: \"data/my_data/test_cases/\"\n3:reference_file_path: \"data/sample/py_reference.jsonl\"\n4:output_report_file_path: \"data/sample//codex_greedy_outputs.jsonl.report\"\n5:num_problems_to_evaluate: 10\n6:num_trials: 2\n7:ignore_first_k: 1\n8:max_time_per_run: 10\n9:temp_dir: null\n10:model_generated_potentially_faster_code_col: \"generated_answers\"\n11:slow_code_col: \"input\"\n12:reference_code_col: \"target\"\n13:is_prompt_based: true\n14:cpu_number: 10\n15:return_if_acc_below: 1.0\n16:language: python\nFile updated. Please review the changes and make sure they are correct (correct indentation, no duplicate lines, etc). Edit the file again if necessary.\n"
      ]
     },
     "execution_count": null,
     "metadata": {},
     "output_type": "execute_result"
    }
   ],
   "source": [
    "edit 2:2\n",
    "inputs_outputs_basepath: \"data/my_data/test_cases/\"\n",
    "end_of_edit"
   ]
  },
  {
   "cell_type": "markdown",
   "id": "450a8fd1",
   "metadata": {},
   "source": [
    "### Step 26"
   ]
  },
  {
   "cell_type": "markdown",
   "id": "f5012cb9",
   "metadata": {},
   "source": [
    "Execution Start time: 05:45:16, End time: 05:45:17 (duration: 0 seconds)"
   ]
  },
  {
   "cell_type": "markdown",
   "id": "771d24a6",
   "metadata": {},
   "source": [
    "**Thought**: The path for the test cases has been updated in the configuration file. Now, let's try running the evaluation script again using the updated configuration file.\n",
    "\n"
   ]
  },
  {
   "cell_type": "markdown",
   "id": "97e1bd3e",
   "metadata": {},
   "source": [
    "**Action (None)**:"
   ]
  },
  {
   "cell_type": "code",
   "execution_count": null,
   "id": "6d4a8619",
   "metadata": {},
   "outputs": [
    {
     "data": {
      "text/plain": [
       "\nwriting programs:   0%|                                  | 0/10 [00:00<?, ?it/s]\nwriting programs:   0%|                                  | 0/10 [00:00<?, ?it/s]\nTraceback (most recent call last):\n  File \"/usr/local/lib/python3.10/runpy.py\", line 196, in _run_module_as_main\n    return _run_code(code, main_globals, None,\n  File \"/usr/local/lib/python3.10/runpy.py\", line 86, in _run_code\n    exec(code, run_globals)\n  File \"/content/pie-perf/src/codenet_eval/run_eval.py\", line 484, in <module>\n    evaluate_generated_outputs(evaluation_config)\n  File \"/content/pie-perf/src/codenet_eval/run_eval.py\", line 54, in evaluate_generated_outputs\n    problem_id_to_ground_truths, output_code_location = write_programs_read_ground_truth(\n  File \"/content/pie-perf/src/codenet_eval/run_eval.py\", line 211, in write_programs_read_ground_truth\n    num_test_cases > 0\nAssertionError: data/my_data/test_cases//p03371 has no ground truth files!\n"
      ]
     },
     "execution_count": null,
     "metadata": {},
     "output_type": "execute_result"
    }
   ],
   "source": [
    "!python -m src.codenet_eval.run_eval --eval_config data/sample/sample_eval_config.yaml"
   ]
  },
  {
   "cell_type": "markdown",
   "id": "82df0993",
   "metadata": {},
   "source": [
    "### Step 27"
   ]
  },
  {
   "cell_type": "markdown",
   "id": "cb143b25",
   "metadata": {},
   "source": [
    "Execution Start time: 05:45:19, End time: 05:45:27 (duration: 8 seconds)"
   ]
  },
  {
   "cell_type": "markdown",
   "id": "3455625d",
   "metadata": {},
   "source": [
    "**Thought**: The error persists, indicating that the script is still looking for test cases for `p03371`, which we don't have. It seems we need to adjust the dataset or configuration to exclude this problem. Let's inspect the dataset to ensure it only includes problems for which we have test cases.\n",
    "\n",
    "First, let's open the `generated_programs.jsonl` file to verify the problem IDs present in the dataset.\n",
    "\n"
   ]
  },
  {
   "cell_type": "markdown",
   "id": "9ffd4f49",
   "metadata": {},
   "source": [
    "**Action (open)**:"
   ]
  },
  {
   "cell_type": "code",
   "execution_count": null,
   "id": "633c73df",
   "metadata": {},
   "outputs": [
    {
     "data": {
      "text/plain": [
       "[File: /content/pie-perf/data/my_data/generated_programs.jsonl (25 lines total)]\n1:{\"original_code\": \"#include<bits/stdc++.h>\\n\\n\\n\\n#define REP(i,s,n) for(int i=s;i<n;i++)\\n\\n#define rep(i,n) REP(i,0,n)\\n\\n\\n\\nusing namespace std;\\n\\n\\n\\nconst int IINF = INT_MAX;\\n\\n\\n\\nint H,W,mini,field[10][10],prev[10][10],mindist[10][10],nfield[10][10],mindist2[10][10],m1[10][10],m2[10][10];\\n\\nvector<int> sp[2];\\n\\nbool visited[10][10];\\n\\nint dx[] = {0,1,0,-1};\\n\\nint dy[] = {1,0,-1,0};\\n\\nbool X[10], Y[10];\\n\\n\\n\\nbool isValid(int x,int y) { return 0 <= x && x < W && 0 <= y && y < H; }\\n\\n\\n\\nvoid simulate_min(int dist[10][10],int f[10][10],int s){\\n\\n  rep(i,H) rep(j,W) dist[i][j] = IINF;\\n\\n  dist[s/W][s%W] = 0;\\n\\n  deque<int> deq;\\n\\n  deq.push_back(s);\\n\\n  while( !deq.empty() ){\\n\\n    int cur = deq.front(); deq.pop_front();\\n\\n    int x = cur % W, y = cur / W;\\n\\n    rep(i,4){\\n\\n      int nx = x + dx[i], ny = y + dy[i];\\n\\n      if( !isValid(nx,ny) ) continue;\\n\\n      if( f[ny][nx] != 0 && f[ny][nx] != f[s/W][s%W] ) continue;\\n\\n      if( dist[ny][nx] == IINF ) {\\n\\n        dist[ny][nx] = dist[y][x] + 1;\\n\\n        deq.push_back(nx+ny*W);\\n\\n      }\\n\\n    }\\n\\n  }\\n\\n}\\n\\n\\n\\n\\n\\nvoid dfs(int x,int y,int cost,int f[10][10],int ep,deque<int> &path,int F,int S,int prev){\\n\\n\\n\\n  if( x + y * W == ep ) {\\n\\n    rep(i,H) rep(j,W) nfield[i][j] = field[i][j];\\n\\n    rep(i,path.size()) nfield[path[i]/W][path[i]%W] = 1;\\n\\n    simulate_min(mindist2,nfield,sp[S][0]);\\n\\n    if( mindist2[sp[S][1]/W][sp[S][1]%W] == IINF ) return;\\n\\n    mini = min(mini,(int)path.size()-1+mindist2[sp[S][1]/W][sp[S][1]%W]);\\n\\n    return;\\n\\n  }\\n\\n  if( cost >= mini ) return;\\n\\n  if( m2[sp[S][1]/W][sp[S][1]%W] + cost >= mini ) return;\\n\\n\\n\\n  int cnt = 0;\\n\\n  rep(i,4) {\\n\\n    int nx = x + dx[i], ny = y + dy[i];\\n\\n    if( !isValid(nx,ny) ) continue;\\n\\n    cnt += visited[ny][nx];\\n\\n }\\n\\n  if( cnt >= 2 ) return;\\n\\n\\n\\n  {\\n\\n    rep(i,4){\\n\\n      int nx = x, ny = y;\\n\\n      nx += dx[i], ny += dy[i];\\n\\n      if( !isValid(nx,ny) ) continue;\\n\\n      if( f[ny][nx] != 0 && f[ny][nx] != f[ep/W][ep%W] ) continue;\\n\\n      if( visited[ny][nx] ) continue;\\n\\n      while(1){\\n\\n        nx += dx[i], ny += dy[i];\\n\\n        if( !isValid(nx,ny) ) break;\\n\\n        if( f[ny][nx] != 0 && f[ny][nx] != f[ep/W][ep%W] ) break;\\n\\n        if( X[nx] || Y[ny] ) break;\\n\\n        if( visited[ny][nx] ) return;\\n\\n      }\\n\\n    }\\n\\n  }\\n\\n\\n\\n\\n\\n  rep(i,4) {\\n\\n    if( i == (prev+2) % 4 ) continue;\\n\\n    int nx = x + dx[i], ny = y + dy[i];\\n\\n    if( !isValid(nx,ny) ) continue;\\n\\n    if( f[ny][nx] != 0 && f[ny][nx] != f[ep/W][ep%W] ) continue;\\n\\n    if( visited[ny][nx] ) continue;\\n\\n    visited[ny][nx] = true;\\n\\n    path.push_back(nx+ny*W);\\n\\n    dfs(nx,ny,cost+1,f,ep,path,F,S,i);\\n\\n    path.pop_back();\\n\\n    visited[ny][nx] = false;\\n\\n  }\\n\\n\\n\\n\\n\\n}\\n\\n\\n\\nint compute(int F,int S){\\n\\n  rep(i,H) rep(j,W) visited[i][j] = false;\\n\\n  deque<int> path;\\n\\n  path.push_back(sp[F][0]);\\n\\n  visited[sp[F][0]/W][sp[F][0]%W] = true;\\n\\n  simulate_min(m1,field,sp[F][0]);\\n\\n  simulate_min(m2,field,sp[S][0]);\\n\\n  dfs(sp[F][0]%W,sp[F][0]/W,0,field,sp[F][1],path,F,S,-IINF);\\n\\n}\\n\\n\\n\\nint main(){\\n\\n  while( cin >> H >> W, H|W ){\\n\\n    rep(i,2) sp[i].clear();\\n\\n    rep(i,10) X[i] = Y[i] = false;\\n\\n    rep(i,H) rep(j,W) {\\n\\n      cin >> field[i][j];\\n\\n      if( field[i][j] == 1 ) X[j] = true, Y[i] = true;\\n\\n      if( field[i][j] == 2 ) sp[0].push_back(j+i*W), X[j] = Y[i] = true;\\n\\n      if( field[i][j] == 3 ) sp[1].push_back(j+i*W), X[j] = Y[i] = true;\\n\\n    }\\n\\n    mini = IINF;\\n\\n\\n\\n    compute(0,1);\\n\\n    if( mini == IINF ) puts(\\\"0\\\");\\n\\n    else cout << mini << endl;\\n\\n  }\\n\\n  return 0;\\n\\n}\", \"improved_code\": \"#include<bits/stdc++.h>\\n\\n\\n\\n#define REP(i,s,n) for(int i=s;i<n;i++)\\n\\n#define rep(i,n) REP(i,0,n)\\n\\n\\n\\nusing namespace std;\\n\\n\\n\\nconst int IINF = INT_MAX;\\n\\n\\n\\nint H,W,mini,field[10][10],prev[10][10],mindist[10][10],nfield[10][10],mindist2[10][10],m1[10][10],m2[10][10];\\n\\nvector<int> sp[2];\\n\\nbool visited[10][10];\\n\\nint dx[] = {0,1,0,-1};\\n\\nint dy[] = {1,0,-1,0};\\n\\nbool X[10], Y[10];\\n\\n\\n\\nbool isValid(int x,int y) { return 0 <= x && x < W && 0 <= y && y < H; }\\n\\n\\n\\nvoid simulate_min(int dist[10][10],int f[10][10],int s){\\n\\n  rep(i,H) rep(j,W) dist[i][j] = IINF;\\n\\n  dist[s/W][s%W] = 0;\\n\\n  deque<int> deq;\\n\\n  deq.push_back(s);\\n\\n  while( !deq.empty() ){\\n\\n    int cur = deq.front(); deq.pop_front();\\n\\n    int x = cur % W, y = cur / W;\\n\\n    rep(i,4){\\n\\n      int nx = x + dx[i], ny = y + dy[i];\\n\\n      if( !isValid(nx,ny) ) continue;\\n\\n      if( f[ny][nx] != 0 && f[ny][nx] != f[s/W][s%W] ) continue;\\n\\n      if( dist[ny][nx] == IINF ) {\\n\\n        dist[ny][nx] = dist[y][x] + 1;\\n\\n        deq.push_back(nx+ny*W);\\n\\n      }\\n\\n    }\\n\\n  }\\n\\n}\\n\\n\\n\\n\\n\\nvoid dfs(int x,int y,int cost,int f[10][10],int ep,deque<int> &path,int F,int S,int prev){\\n\\n\\n\\n  if( cost >= mini ) return;\\n\\n  if( m2[sp[S][1]/W][sp[S][1]%W] + cost >= mini ) return;\\n\\n\\n\\n\\n\\n\\n\\n\\n\\n\\n\\n  if( x + y * W == ep ) {\\n\\n    rep(i,H) rep(j,W) nfield[i][j] = field[i][j];\\n\\n    rep(i,path.size()) nfield[path[i]/W][path[i]%W] = 1;\\n\\n    simulate_min(mindist2,nfield,sp[S][0]);\\n\\n    if( mindist2[sp[S][1]/W][sp[S][1]%W] == IINF ) return;\\n\\n    mini = min(mini,(int)path.size()-1+mindist2[sp[S][1]/W][sp[S][1]%W]);\\n\\n    return;\\n\\n  }\\n\\n  int cnt = 0;\\n\\n  rep(i,4) {\\n\\n    int nx = x + dx[i], ny = y + dy[i];\\n\\n    if( !isValid(nx,ny) ) continue;\\n\\n    cnt += visited[ny][nx];\\n\\n }\\n\\n  if( cnt >= 2 ) return;\\n\\n\\n\\n\\n\\n  {\\n\\n    rep(i,4){\\n\\n      int nx = x, ny = y;\\n\\n      nx += dx[i], ny += dy[i];\\n\\n      if( !isValid(nx,ny) ) continue;\\n\\n      if( f[ny][nx] != 0 && f[ny][nx] != f[ep/W][ep%W] ) continue;\\n\\n      if( visited[ny][nx] ) continue;\\n\\n      while(1){\\n\\n        nx += dx[i], ny += dy[i];\\n\\n        if( !isValid(nx,ny) ) break;\\n\\n        if( f[ny][nx] != 0 && f[ny][nx] != f[ep/W][ep%W] ) break;\\n\\n        if( X[nx] || Y[ny] ) break;\\n\\n        if( visited[ny][nx] ) return;\\n\\n      }\\n\\n    }\\n\\n  }\\n\\n\\n\\n\\n\\n  rep(i,4) {\\n\\n    if( i == (prev+2) % 4 ) continue;\\n\\n    int nx = x + dx[i], ny = y + dy[i];\\n\\n    if( !isValid(nx,ny) ) continue;\\n\\n    if( f[ny][nx] != 0 && f[ny][nx] != f[ep/W][ep%W] ) continue;\\n\\n    if( visited[ny][nx] ) continue;\\n\\n    visited[ny][nx] = true;\\n\\n    path.push_back(nx+ny*W);\\n\\n    dfs(nx,ny,cost+1,f,ep,path,F,S,i);\\n\\n    path.pop_back();\\n\\n    visited[ny][nx] = false;\\n\\n  }\\n\\n\\n\\n\\n\\n}\\n\\n\\n\\nint compute(int F,int S){\\n\\n  rep(i,H) rep(j,W) visited[i][j] = false;\\n\\n  deque<int> path;\\n\\n  path.push_back(sp[F][0]);\\n\\n  visited[sp[F][0]/W][sp[F][0]%W] = true;\\n\\n  simulate_min(m1,field,sp[F][0]);\\n\\n  simulate_min(m2,field,sp[S][0]);\\n\\n  dfs(sp[F][0]%W,sp[F][0]/W,0,field,sp[F][1],path,F,S,-IINF);\\n\\n}\\n\\n\\n\\nint main(){\\n\\n  while( cin >> H >> W, H|W ){\\n\\n    rep(i,2) sp[i].clear();\\n\\n    rep(i,10) X[i] = Y[i] = false;\\n\\n    rep(i,H) rep(j,W) {\\n\\n      cin >> field[i][j];\\n\\n      if( field[i][j] == 1 ) X[j] = true, Y[i] = true;\\n\\n      if( field[i][j] == 2 ) sp[0].push_back(j+i*W), X[j] = Y[i] = true;\\n\\n      if( field[i][j] == 3 ) sp[1].push_back(j+i*W), X[j] = Y[i] = true;\\n\\n    }\\n\\n    mini = IINF;\\n\\n\\n\\n    compute(0,1);\\n\\n    if( mini == IINF ) puts(\\\"0\\\");\\n\\n    else cout << mini << endl;\\n\\n  }\\n\\n  return 0;\\n\\n}\", \"problem_id\": \"p00849\"}\n2:{\"original_code\": \"#include<bits/stdc++.h>\\n\\n\\n\\n#define REP(i,s,n) for(int i=s;i<n;i++)\\n\\n#define rep(i,n) REP(i,0,n)\\n\\n\\n\\nusing namespace std;\\n\\n\\n\\nconst int IINF = INT_MAX;\\n\\n\\n\\nint H,W,mini,field[10][10],prev[10][10],mindist[10][10],nfield[10][10],mindist2[10][10],m1[10][10],m2[10][10];\\n\\nvector<int> sp[2];\\n\\nbool visited[10][10];\\n\\nint dx[] = {0,1,0,-1};\\n\\nint dy[] = {1,0,-1,0};\\n\\nbool X[10], Y[10];\\n\\n\\n\\nbool isValid(int x,int y) { return 0 <= x && x < W && 0 <= y && y < H; }\\n\\n\\n\\nvoid simulate_min(int dist[10][10],int f[10][10],int s){\\n\\n  rep(i,H) rep(j,W) dist[i][j] = IINF;\\n\\n  dist[s/W][s%W] = 0;\\n\\n  deque<int> deq;\\n\\n  deq.push_back(s);\\n\\n  while( !deq.empty() ){\\n\\n    int cur = deq.front(); deq.pop_front();\\n\\n    int x = cur % W, y = cur / W;\\n\\n    rep(i,4){\\n\\n      int nx = x + dx[i], ny = y + dy[i];\\n\\n      if( !isValid(nx,ny) ) continue;\\n\\n      if( f[ny][nx] != 0 && f[ny][nx] != f[s/W][s%W] ) continue;\\n\\n      if( dist[ny][nx] == IINF ) {\\n\\n        dist[ny][nx] = dist[y][x] + 1;\\n\\n        deq.push_back(nx+ny*W);\\n\\n      }\\n\\n    }\\n\\n  }\\n\\n}\\n\\n\\n\\n\\n\\nvoid dfs(int x,int y,int cost,int f[10][10],int ep,deque<int> &path,int F,int S,int prev){\\n\\n\\n\\n  if( cost >= mini ) return;\\n\\n  if( m2[sp[S][1]/W][sp[S][1]%W] + cost >= mini ) return;\\n\\n\\n\\n\\n\\n\\n\\n\\n\\n\\n\\n  if( x + y * W == ep ) {\\n\\n    rep(i,H) rep(j,W) nfield[i][j] = field[i][j];\\n\\n    rep(i,path.size()) nfield[path[i]/W][path[i]%W] = 1;\\n\\n    simulate_min(mindist2,nfield,sp[S][0]);\\n\\n    if( mindist2[sp[S][1]/W][sp[S][1]%W] == IINF ) return;\\n\\n    mini = min(mini,(int)path.size()-1+mindist2[sp[S][1]/W][sp[S][1]%W]);\\n\\n    return;\\n\\n  }\\n\\n  int cnt = 0;\\n\\n  rep(i,4) {\\n\\n    int nx = x + dx[i], ny = y + dy[i];\\n\\n    if( !isValid(nx,ny) ) continue;\\n\\n    cnt += visited[ny][nx];\\n\\n }\\n\\n  if( cnt >= 2 ) return;\\n\\n\\n\\n\\n\\n  {\\n\\n    rep(i,4){\\n\\n      int nx = x, ny = y;\\n\\n      nx += dx[i], ny += dy[i];\\n\\n      if( !isValid(nx,ny) ) continue;\\n\\n      if( f[ny][nx] != 0 && f[ny][nx] != f[ep/W][ep%W] ) continue;\\n\\n      if( visited[ny][nx] ) continue;\\n\\n      while(1){\\n\\n        nx += dx[i], ny += dy[i];\\n\\n        if( !isValid(nx,ny) ) break;\\n\\n        if( f[ny][nx] != 0 && f[ny][nx] != f[ep/W][ep%W] ) break;\\n\\n        if( X[nx] || Y[ny] ) break;\\n\\n        if( visited[ny][nx] ) return;\\n\\n      }\\n\\n    }\\n\\n  }\\n\\n\\n\\n\\n\\n  rep(i,4) {\\n\\n    if( i == (prev+2) % 4 ) continue;\\n\\n    int nx = x + dx[i], ny = y + dy[i];\\n\\n    if( !isValid(nx,ny) ) continue;\\n\\n    if( f[ny][nx] != 0 && f[ny][nx] != f[ep/W][ep%W] ) continue;\\n\\n    if( visited[ny][nx] ) continue;\\n\\n    visited[ny][nx] = true;\\n\\n    path.push_back(nx+ny*W);\\n\\n    dfs(nx,ny,cost+1,f,ep,path,F,S,i);\\n\\n    path.pop_back();\\n\\n    visited[ny][nx] = false;\\n\\n  }\\n\\n\\n\\n\\n\\n}\\n\\n\\n\\nint compute(int F,int S){\\n\\n  rep(i,H) rep(j,W) visited[i][j] = false;\\n\\n  deque<int> path;\\n\\n  path.push_back(sp[F][0]);\\n\\n  visited[sp[F][0]/W][sp[F][0]%W] = true;\\n\\n  simulate_min(m1,field,sp[F][0]);\\n\\n  simulate_min(m2,field,sp[S][0]);\\n\\n  dfs(sp[F][0]%W,sp[F][0]/W,0,field,sp[F][1],path,F,S,-IINF);\\n\\n}\\n\\n\\n\\nint main(){\\n\\n  while( cin >> H >> W, H|W ){\\n\\n    rep(i,2) sp[i].clear();\\n\\n    rep(i,10) X[i] = Y[i] = false;\\n\\n    rep(i,H) rep(j,W) {\\n\\n      cin >> field[i][j];\\n\\n      if( field[i][j] == 1 ) X[j] = true, Y[i] = true;\\n\\n      if( field[i][j] == 2 ) sp[0].push_back(j+i*W), X[j] = Y[i] = true;\\n\\n      if( field[i][j] == 3 ) sp[1].push_back(j+i*W), X[j] = Y[i] = true;\\n\\n    }\\n\\n    mini = IINF;\\n\\n\\n\\n    compute(0,1);\\n\\n    if( mini == IINF ) puts(\\\"0\\\");\\n\\n    else cout << mini << endl;\\n\\n  }\\n\\n  return 0;\\n\\n}\", \"improved_code\": \"#include<bits/stdc++.h>\\n\\n\\n\\n#define REP(i,s,n) for(int i=s;i<n;i++)\\n\\n#define rep(i,n) REP(i,0,n)\\n\\n\\n\\nusing namespace std;\\n\\n\\n\\nconst int IINF = INT_MAX;\\n\\n\\n\\nint H,W,mini,field[10][10],prev[10][10],mindist[10][10],nfield[10][10],mindist2[10][10],m1[10][10],m2[10][10];\\n\\nvector<int> sp[2];\\n\\nbool visited[10][10];\\n\\nint dx[] = {0,1,0,-1};\\n\\nint dy[] = {1,0,-1,0};\\n\\nbool X[10], Y[10];\\n\\n\\n\\nbool isValid(int x,int y) { return 0 <= x && x < W && 0 <= y && y < H; }\\n\\n\\n\\nvoid simulate_min(int dist[10][10],int f[10][10],int s){\\n\\n  rep(i,H) rep(j,W) dist[i][j] = IINF;\\n\\n  dist[s/W][s%W] = 0;\\n\\n  deque<int> deq;\\n\\n  deq.push_back(s);\\n\\n  while( !deq.empty() ){\\n\\n    int cur = deq.front(); deq.pop_front();\\n\\n    int x = cur % W, y = cur / W;\\n\\n    if( x+y*W != s && f[y][x] == f[s/W][s%W] ) return;\\n\\n    rep(i,4){\\n\\n      int nx = x + dx[i], ny = y + dy[i];\\n\\n      if( !isValid(nx,ny) ) continue;\\n\\n      if( f[ny][nx] != 0 && f[ny][nx] != f[s/W][s%W] ) continue;\\n\\n      if( dist[ny][nx] == IINF ) {\\n\\n        dist[ny][nx] = dist[y][x] + 1;\\n\\n        deq.push_back(nx+ny*W);\\n\\n      }\\n\\n    }\\n\\n  }\\n\\n}\\n\\n\\n\\n\\n\\nvoid dfs(int x,int y,int cost,int f[10][10],int ep,deque<int> &path,int F,int S,int prev){\\n\\n\\n\\n  if( cost >= mini ) return;\\n\\n  if( m1[ep/W][ep%W] - m1[y][x] + m2[sp[S][1]/W][sp[S][1]%W] + cost >= mini ) return;\\n\\n\\n\\n\\n\\n  if( x + y * W == ep ) {\\n\\n    rep(i,H) rep(j,W) nfield[i][j] = field[i][j];\\n\\n    rep(i,path.size()) nfield[path[i]/W][path[i]%W] = 1;\\n\\n    simulate_min(mindist2,nfield,sp[S][0]);\\n\\n    if( mindist2[sp[S][1]/W][sp[S][1]%W] == IINF ) return;\\n\\n    mini = min(mini,(int)path.size()-1+mindist2[sp[S][1]/W][sp[S][1]%W]);\\n\\n    return;\\n\\n  }\\n\\n  int cnt = 0;\\n\\n  rep(i,4) {\\n\\n    int nx = x + dx[i], ny = y + dy[i];\\n\\n    if( !isValid(nx,ny) ) continue;\\n\\n    cnt += visited[ny][nx];\\n\\n }\\n\\n  if( cnt >= 2 ) return;\\n\\n\\n\\n\\n\\n  {\\n\\n    rep(i,4){\\n\\n      int nx = x, ny = y;\\n\\n      nx += dx[i], ny += dy[i];\\n\\n      if( !isValid(nx,ny) ) continue;\\n\\n      if( f[ny][nx] != 0 && f[ny][nx] != f[ep/W][ep%W] ) continue;\\n\\n      if( visited[ny][nx] ) continue;\\n\\n      while(1){\\n\\n        nx += dx[i], ny += dy[i];\\n\\n        if( !isValid(nx,ny) ) break;\\n\\n        if( f[ny][nx] != 0 && f[ny][nx] != f[ep/W][ep%W] ) break;\\n\\n        if( X[nx] || Y[ny] ) break;\\n\\n        if( visited[ny][nx] ) return;\\n\\n      }\\n\\n    }\\n\\n  }\\n\\n\\n\\n\\n\\n  rep(i,4) {\\n\\n    if( i == (prev+2) % 4 ) continue;\\n\\n    int nx = x + dx[i], ny = y + dy[i];\\n\\n    if( !isValid(nx,ny) ) continue;\\n\\n    if( f[ny][nx] != 0 && f[ny][nx] != f[ep/W][ep%W] ) continue;\\n\\n    if( visited[ny][nx] ) continue;\\n\\n    visited[ny][nx] = true;\\n\\n    path.push_back(nx+ny*W);\\n\\n    dfs(nx,ny,cost+1,f,ep,path,F,S,i);\\n\\n    path.pop_back();\\n\\n    visited[ny][nx] = false;\\n\\n  }\\n\\n\\n\\n\\n\\n}\\n\\n\\n\\nint compute(int F,int S){\\n\\n  rep(i,H) rep(j,W) visited[i][j] = false;\\n\\n  deque<int> path;\\n\\n  path.push_back(sp[F][0]);\\n\\n  visited[sp[F][0]/W][sp[F][0]%W] = true;\\n\\n  simulate_min(m1,field,sp[F][0]);\\n\\n  simulate_min(m2,field,sp[S][0]);\\n\\n  dfs(sp[F][0]%W,sp[F][0]/W,0,field,sp[F][1],path,F,S,-IINF);\\n\\n}\\n\\n\\n\\nint main(){\\n\\n  while( cin >> H >> W, H|W ){\\n\\n    rep(i,2) sp[i].clear();\\n\\n    rep(i,10) X[i] = Y[i] = false;\\n\\n    rep(i,H) rep(j,W) {\\n\\n      cin >> field[i][j];\\n\\n      if( field[i][j] == 1 ) X[j] = true, Y[i] = true;\\n\\n      if( field[i][j] == 2 ) sp[0].push_back(j+i*W), X[j] = Y[i] = true;\\n\\n      if( field[i][j] == 3 ) sp[1].push_back(j+i*W), X[j] = Y[i] = true;\\n\\n    }\\n\\n    mini = IINF;\\n\\n\\n\\n    compute(0,1);\\n\\n    if( mini == IINF ) puts(\\\"0\\\");\\n\\n    else cout << mini << endl;\\n\\n  }\\n\\n  return 0;\\n\\n}\", \"problem_id\": \"p00849\"}\n3:{\"original_code\": \"#include<bits/stdc++.h>\\n\\n\\n\\n#define REP(i,s,n) for(int i=s;i<n;i++)\\n\\n#define rep(i,n) REP(i,0,n)\\n\\n\\n\\nusing namespace std;\\n\\n\\n\\nconst int IINF = INT_MAX;\\n\\n\\n\\nint H,W,mini,field[10][10],prev[10][10],mindist[10][10],nfield[10][10],mindist2[10][10],m1[10][10],m2[10][10];\\n\\nvector<int> sp[2];\\n\\nbool visited[10][10];\\n\\nint dx[] = {0,1,0,-1};\\n\\nint dy[] = {1,0,-1,0};\\n\\nbool X[10], Y[10];\\n\\n\\n\\nbool isValid(int x,int y) { return 0 <= x && x < W && 0 <= y && y < H; }\\n\\n\\n\\nvoid simulate_min(int dist[10][10],int f[10][10],int s){\\n\\n  rep(i,H) rep(j,W) dist[i][j] = IINF;\\n\\n  dist[s/W][s%W] = 0;\\n\\n  deque<int> deq;\\n\\n  deq.push_back(s);\\n\\n  while( !deq.empty() ){\\n\\n    int cur = deq.front(); deq.pop_front();\\n\\n    int x = cur % W, y = cur / W;\\n\\n    if( x+y*W != s && f[y][x] == f[s/W][s%W] ) return;\\n\\n    rep(i,4){\\n\\n      int nx = x + dx[i], ny = y + dy[i];\\n\\n      if( !isValid(nx,ny) ) continue;\\n\\n      if( f[ny][nx] != 0 && f[ny][nx] != f[s/W][s%W] ) continue;\\n\\n      if( dist[ny][nx] == IINF ) {\\n\\n        dist[ny][nx] = dist[y][x] + 1;\\n\\n        deq.push_back(nx+ny*W);\\n\\n      }\\n\\n    }\\n\\n  }\\n\\n}\\n\\n\\n\\n\\n\\nvoid dfs(int x,int y,int cost,int f[10][10],int ep,deque<int> &path,int F,int S,int prev){\\n\\n\\n\\n  if( cost >= mini ) return;\\n\\n  if( m1[ep/W][ep%W] - m1[y][x] + m2[sp[S][1]/W][sp[S][1]%W] + cost >= mini ) return;\\n\\n\\n\\n\\n\\n  if( x + y * W == ep ) {\\n\\n    rep(i,H) rep(j,W) nfield[i][j] = field[i][j];\\n\\n    rep(i,path.size()) nfield[path[i]/W][path[i]%W] = 1;\\n\\n    simulate_min(mindist2,nfield,sp[S][0]);\\n\\n    if( mindist2[sp[S][1]/W][sp[S][1]%W] == IINF ) return;\\n\\n    mini = min(mini,(int)path.size()-1+mindist2[sp[S][1]/W][sp[S][1]%W]);\\n\\n    return;\\n\\n  }\\n\\n  int cnt = 0;\\n\\n  rep(i,4) {\\n\\n    int nx = x + dx[i], ny = y + dy[i];\\n\\n    if( !isValid(nx,ny) ) continue;\\n\\n    cnt += visited[ny][nx];\\n\\n }\\n\\n  if( cnt >= 2 ) return;\\n\\n\\n\\n\\n\\n  {\\n\\n    rep(i,4){\\n\\n      if( i == (prev+2) % 4 ) continue;\\n\\n      int nx = x, ny = y;\\n\\n      nx += dx[i], ny += dy[i];\\n\\n      if( !isValid(nx,ny) ) continue;\\n\\n      if( f[ny][nx] != 0 && f[ny][nx] != f[ep/W][ep%W] ) continue;\\n\\n      if( visited[ny][nx] ) continue;\\n\\n      while(1){\\n\\n        nx += dx[i], ny += dy[i];\\n\\n        if( !isValid(nx,ny) ) break;\\n\\n        if( f[ny][nx] != 0 && f[ny][nx] != f[ep/W][ep%W] ) break;\\n\\n        if( X[nx] || Y[ny] ) break;\\n\\n        if( visited[ny][nx] ) return;\\n\\n      }\\n\\n    }\\n\\n  }\\n\\n\\n\\n\\n\\n  rep(i,4) {\\n\\n    if( i == (prev+2) % 4 ) continue;\\n\\n    int nx = x + dx[i], ny = y + dy[i];\\n\\n    if( !isValid(nx,ny) ) continue;\\n\\n    if( f[ny][nx] != 0 && f[ny][nx] != f[ep/W][ep%W] ) continue;\\n\\n    if( visited[ny][nx] ) continue;\\n\\n    visited[ny][nx] = true;\\n\\n    path.push_back(nx+ny*W);\\n\\n    dfs(nx,ny,cost+1,f,ep,path,F,S,i);\\n\\n    path.pop_back();\\n\\n    visited[ny][nx] = false;\\n\\n  }\\n\\n\\n\\n\\n\\n}\\n\\n\\n\\nint compute(int F,int S){\\n\\n  rep(i,H) rep(j,W) visited[i][j] = false;\\n\\n  deque<int> path;\\n\\n  path.push_back(sp[F][0]);\\n\\n  visited[sp[F][0]/W][sp[F][0]%W] = true;\\n\\n  simulate_min(m1,field,sp[F][0]);\\n\\n  simulate_min(m2,field,sp[S][0]);\\n\\n  dfs(sp[F][0]%W,sp[F][0]/W,0,field,sp[F][1],path,F,S,-IINF);\\n\\n}\\n\\n\\n\\nbool check(int a){\\n\\n  int x = a % W, y = a / W;\\n\\n  return 0 == x || W-1 == x || 0 == y || H-1 == y;\\n\\n}\\n\\n\\n\\nint main(){\\n\\n  while( cin >> H >> W, H|W ){\\n\\n    rep(i,2) sp[i].clear();\\n\\n    rep(i,10) X[i] = Y[i] = false;\\n\\n    rep(i,H) rep(j,W) {\\n\\n      cin >> field[i][j];\\n\\n      if( field[i][j] == 1 ) X[j] = true, Y[i] = true;\\n\\n      if( field[i][j] == 2 ) sp[0].push_back(j+i*W), X[j] = Y[i] = true;\\n\\n      if( field[i][j] == 3 ) sp[1].push_back(j+i*W), X[j] = Y[i] = true;\\n\\n    }\\n\\n    mini = IINF;\\n\\n    if( check(sp[0][1]) && check(sp[0][0]) && check(sp[1][1]) && check(sp[1][0]) ) {\\n\\n      vector<int> vec;\\n\\n      for(int i=0;i<W;i++) if( field[0][i] == 2 || field[0][i] == 3 ) vec.push_back(field[0][i]);\\n\\n      for(int i=1;i<H;i++) if( field[i][W-1] == 2 || field[i][W-1] == 3 ) vec.push_back(field[i][W-1]);\\n\\n      for(int i=W-2;i>=0;i--) if( field[H-1][i] == 2 || field[H-1][i] == 3 ) vec.push_back(field[H-1][i]);\\n\\n      for(int i=H-2;i>=1;i--) if( field[i][0] == 2 || field[i][0] == 3 ) vec.push_back(field[i][0]);\\n\\n      assert(vec.size() == 4);\\n\\n      if( !( vec[0] == vec[1] || vec[0] == vec[3] ) ) {\\n\\n        puts(\\\"0\\\");\\n\\n        continue;\\n\\n      }\\n\\n    }\\n\\n\\n\\n\\n\\n    compute(0,1);\\n\\n    if( mini == IINF ) puts(\\\"0\\\");\\n\\n    else cout << mini << endl;\\n\\n  }\\n\\n  return 0;\\n\\n}\", \"improved_code\": \"#include<bits/stdc++.h>\\n\\n\\n\\n#define REP(i,s,n) for(int i=s;i<n;i++)\\n\\n#define rep(i,n) REP(i,0,n)\\n\\n\\n\\nusing namespace std;\\n\\n\\n\\nconst int IINF = INT_MAX;\\n\\n\\n\\nint H,W,mini,field[10][10],prev[10][10],mindist[10][10],nfield[10][10],mindist2[10][10],m1[10][10],m2[10][10];\\n\\nvector<int> sp[2];\\n\\nbool visited[10][10];\\n\\nint dx[] = {0,1,0,-1};\\n\\nint dy[] = {1,0,-1,0};\\n\\nbool X[10], Y[10];\\n\\n\\n\\nbool isValid(int x,int y) { return 0 <= x && x < W && 0 <= y && y < H; }\\n\\n\\n\\nvoid simulate_min(int dist[10][10],int f[10][10],int s){\\n\\n  rep(i,H) rep(j,W) dist[i][j] = IINF;\\n\\n  dist[s/W][s%W] = 0;\\n\\n  deque<int> deq;\\n\\n  deq.push_back(s);\\n\\n  while( !deq.empty() ){\\n\\n    int cur = deq.front(); deq.pop_front();\\n\\n    int x = cur % W, y = cur / W;\\n\\n    if( x+y*W != s && f[y][x] == f[s/W][s%W] ) return;\\n\\n    rep(i,4){\\n\\n      int nx = x + dx[i], ny = y + dy[i];\\n\\n      if( !isValid(nx,ny) ) continue;\\n\\n      if( f[ny][nx] != 0 && f[ny][nx] != f[s/W][s%W] ) continue;\\n\\n      if( dist[ny][nx] == IINF ) {\\n\\n        dist[ny][nx] = dist[y][x] + 1;\\n\\n        deq.push_back(nx+ny*W);\\n\\n      }\\n\\n    }\\n\\n  }\\n\\n}\\n\\n\\n\\n\\n\\nvoid dfs(int x,int y,int cost,int f[10][10],int ep,deque<int> &path,int F,int S,int prev){\\n\\n\\n\\n  if( cost >= mini ) return;\\n\\n  if( m1[ep/W][ep%W] - m1[y][x] + m2[sp[S][1]/W][sp[S][1]%W] + cost >= mini ) return;\\n\\n\\n\\n\\n\\n  if( x + y * W == ep ) {\\n\\n    rep(i,H) rep(j,W) nfield[i][j] = field[i][j];\\n\\n    rep(i,path.size()) nfield[path[i]/W][path[i]%W] = 1;\\n\\n    simulate_min(mindist2,nfield,sp[S][0]);\\n\\n    if( mindist2[sp[S][1]/W][sp[S][1]%W] == IINF ) return;\\n\\n    mini = min(mini,(int)path.size()-1+mindist2[sp[S][1]/W][sp[S][1]%W]);\\n\\n    return;\\n\\n  }\\n\\n  int cnt = 0;\\n\\n  rep(i,4) {\\n\\n    int nx = x + dx[i], ny = y + dy[i];\\n\\n    if( !isValid(nx,ny) ) continue;\\n\\n    cnt += visited[ny][nx];\\n\\n }\\n\\n  if( cnt >= 2 ) return;\\n\\n\\n\\n\\n\\n  {\\n\\n    rep(i,4){\\n\\n      if( i == (prev+2) % 4 ) continue;\\n\\n      int nx = x, ny = y;\\n\\n      nx += dx[i], ny += dy[i];\\n\\n      if( !isValid(nx,ny) ) continue;\\n\\n      if( f[ny][nx] != 0 && f[ny][nx] != f[ep/W][ep%W] ) continue;\\n\\n      if( visited[ny][nx] ) continue;\\n\\n      while(1){\\n\\n        nx += dx[i], ny += dy[i];\\n\\n        if( !isValid(nx,ny) ) break;\\n\\n        if( f[ny][nx] != 0 && f[ny][nx] != f[ep/W][ep%W] ) break;\\n\\n        if( X[nx] || Y[ny] ) break;\\n\\n        if( visited[ny][nx] ) return;\\n\\n      }\\n\\n    }\\n\\n  }\\n\\n\\n\\n\\n\\n  rep(i,4) {\\n\\n    if( i == (prev+2) % 4 ) continue;\\n\\n    int nx = x + dx[i], ny = y + dy[i];\\n\\n    if( !isValid(nx,ny) ) continue;\\n\\n    if( f[ny][nx] != 0 && f[ny][nx] != f[ep/W][ep%W] ) continue;\\n\\n    if( visited[ny][nx] ) continue;\\n\\n    visited[ny][nx] = true;\\n\\n    path.push_back(nx+ny*W);\\n\\n    dfs(nx,ny,cost+1,f,ep,path,F,S,i);\\n\\n    path.pop_back();\\n\\n    visited[ny][nx] = false;\\n\\n  }\\n\\n\\n\\n\\n\\n}\\n\\n\\n\\nint compute(int F,int S){\\n\\n  rep(i,H) rep(j,W) visited[i][j] = false;\\n\\n  deque<int> path;\\n\\n  path.push_back(sp[F][0]);\\n\\n  visited[sp[F][0]/W][sp[F][0]%W] = true;\\n\\n  simulate_min(m1,field,sp[F][0]);\\n\\n  simulate_min(m2,field,sp[S][0]);\\n\\n  dfs(sp[F][0]%W,sp[F][0]/W,0,field,sp[F][1],path,F,S,-IINF);\\n\\n}\\n\\n\\n\\nbool check(int a){\\n\\n  int x = a % W, y = a / W;\\n\\n  return 0 == x || W-1 == x || 0 == y || H-1 == y;\\n\\n}\\n\\n\\n\\nint main(){\\n\\n  while( cin >> H >> W, H|W ){\\n\\n    rep(i,2) sp[i].clear();\\n\\n    rep(i,10) X[i] = Y[i] = false;\\n\\n    rep(i,H) rep(j,W) {\\n\\n      cin >> field[i][j];\\n\\n      if( field[i][j] == 1 ) X[j] = true, Y[i] = true;\\n\\n      if( field[i][j] == 2 ) sp[0].push_back(j+i*W), X[j] = Y[i] = true;\\n\\n      if( field[i][j] == 3 ) sp[1].push_back(j+i*W), X[j] = Y[i] = true;\\n\\n    }\\n\\n    mini = IINF;\\n\\n    if( check(sp[0][1]) && check(sp[0][0]) && check(sp[1][1]) && check(sp[1][0]) ) {\\n\\n      vector<int> vec;\\n\\n      for(int i=0;i<W;i++) if( field[0][i] == 2 || field[0][i] == 3 ) vec.push_back(field[0][i]);\\n\\n      for(int i=1;i<H;i++) if( field[i][W-1] == 2 || field[i][W-1] == 3 ) vec.push_back(field[i][W-1]);\\n\\n      for(int i=W-2;i>=0;i--) if( field[H-1][i] == 2 || field[H-1][i] == 3 ) vec.push_back(field[H-1][i]);\\n\\n      for(int i=H-2;i>=1;i--) if( field[i][0] == 2 || field[i][0] == 3 ) vec.push_back(field[i][0]);\\n\\n      assert(vec.size() == 4);\\n\\n      if( !( vec[0] == vec[1] || vec[0] == vec[3] ) ) {\\n\\n        puts(\\\"0\\\");\\n\\n        continue;\\n\\n      }\\n\\n    }\\n\\n\\n\\n\\n\\n    compute(0,1);\\n\\n    if( mini == IINF ) puts(\\\"0\\\");\\n\\n    else cout << mini << endl;\\n\\n  }\\n\\n  return 0;\\n\\n}\", \"problem_id\": \"p00849\"}\n4:{\"original_code\": \"#include<bits/stdc++.h>\\n\\n\\n\\n#define REP(i,s,n) for(int i=s;i<n;i++)\\n\\n#define rep(i,n) REP(i,0,n)\\n\\n\\n\\nusing namespace std;\\n\\n\\n\\nconst int IINF = INT_MAX;\\n\\n\\n\\nint H,W,mini,field[10][10],prev[10][10],mindist[10][10],nfield[10][10],mindist2[10][10],m1[10][10],m2[10][10];\\n\\nvector<int> sp[2];\\n\\nbool visited[10][10];\\n\\nint dx[] = {0,1,0,-1};\\n\\nint dy[] = {1,0,-1,0};\\n\\nbool X[10], Y[10];\\n\\n\\n\\nbool isValid(int x,int y) { return 0 <= x && x < W && 0 <= y && y < H; }\\n\\n\\n\\nvoid simulate_min(int dist[10][10],int f[10][10],int s){\\n\\n  rep(i,H) rep(j,W) dist[i][j] = IINF;\\n\\n  dist[s/W][s%W] = 0;\\n\\n  deque<int> deq;\\n\\n  deq.push_back(s);\\n\\n  while( !deq.empty() ){\\n\\n    int cur = deq.front(); deq.pop_front();\\n\\n    int x = cur % W, y = cur / W;\\n\\n    if( x+y*W != s && f[y][x] == f[s/W][s%W] ) return;\\n\\n    rep(i,4){\\n\\n      int nx = x + dx[i], ny = y + dy[i];\\n\\n      if( !isValid(nx,ny) ) continue;\\n\\n      if( f[ny][nx] != 0 && f[ny][nx] != f[s/W][s%W] ) continue;\\n\\n      if( dist[ny][nx] == IINF ) {\\n\\n        dist[ny][nx] = dist[y][x] + 1;\\n\\n        deq.push_back(nx+ny*W);\\n\\n      }\\n\\n    }\\n\\n  }\\n\\n}\\n\\n\\n\\n\\n\\nvoid dfs(int x,int y,int cost,int f[10][10],int ep,deque<int> &path,int F,int S,int prev){\\n\\n\\n\\n  if( cost >= mini ) return;\\n\\n  if( m2[sp[S][1]/W][sp[S][1]%W] + cost >= mini ) return;\\n\\n\\n\\n\\n\\n  if( x + y * W == ep ) {\\n\\n    rep(i,H) rep(j,W) nfield[i][j] = field[i][j];\\n\\n    rep(i,path.size()) nfield[path[i]/W][path[i]%W] = 1;\\n\\n    simulate_min(mindist2,nfield,sp[S][0]);\\n\\n    if( mindist2[sp[S][1]/W][sp[S][1]%W] == IINF ) return;\\n\\n    mini = min(mini,(int)path.size()-1+mindist2[sp[S][1]/W][sp[S][1]%W]);\\n\\n    return;\\n\\n  }\\n\\n  int cnt = 0;\\n\\n  rep(i,4) {\\n\\n    int nx = x + dx[i], ny = y + dy[i];\\n\\n    if( !isValid(nx,ny) ) continue;\\n\\n    cnt += visited[ny][nx];\\n\\n }\\n\\n  if( cnt >= 2 ) return;\\n\\n\\n\\n\\n\\n  {\\n\\n    rep(i,4){\\n\\n      if( i == (prev+2) % 4 ) continue;\\n\\n      int nx = x, ny = y;\\n\\n      nx += dx[i], ny += dy[i];\\n\\n      if( !isValid(nx,ny) ) continue;\\n\\n      if( f[ny][nx] != 0 && f[ny][nx] != f[ep/W][ep%W] ) continue;\\n\\n      if( visited[ny][nx] ) continue;\\n\\n      while(1){\\n\\n        nx += dx[i], ny += dy[i];\\n\\n        if( !isValid(nx,ny) ) break;\\n\\n        if( f[ny][nx] != 0 && f[ny][nx] != f[ep/W][ep%W] ) break;\\n\\n        if( X[nx] || Y[ny] ) break;\\n\\n        if( visited[ny][nx] ) return;\\n\\n      }\\n\\n    }\\n\\n  }\\n\\n\\n\\n\\n\\n  rep(i,4) {\\n\\n    if( i == (prev+2) % 4 ) continue;\\n\\n    int nx = x + dx[i], ny = y + dy[i];\\n\\n    if( !isValid(nx,ny) ) continue;\\n\\n    if( f[ny][nx] != 0 && f[ny][nx] != f[ep/W][ep%W] ) continue;\\n\\n    if( visited[ny][nx] ) continue;\\n\\n    visited[ny][nx] = true;\\n\\n    path.push_back(nx+ny*W);\\n\\n    dfs(nx,ny,cost+1,f,ep,path,F,S,i);\\n\\n    path.pop_back();\\n\\n    visited[ny][nx] = false;\\n\\n  }\\n\\n\\n\\n\\n\\n}\\n\\n\\n\\nint compute(int F,int S){\\n\\n  rep(i,H) rep(j,W) visited[i][j] = false;\\n\\n  deque<int> path;\\n\\n  path.push_back(sp[F][0]);\\n\\n  visited[sp[F][0]/W][sp[F][0]%W] = true;\\n\\n  simulate_min(m1,field,sp[F][0]);\\n\\n  simulate_min(m2,field,sp[S][0]);\\n\\n  dfs(sp[F][0]%W,sp[F][0]/W,0,field,sp[F][1],path,F,S,-IINF);\\n\\n}\\n\\n\\n\\nbool check(int a){\\n\\n  int x = a % W, y = a / W;\\n\\n  return 0 == x || W-1 == x || 0 == y || H-1 == y;\\n\\n}\\n\\n\\n\\nint main(){\\n\\n  while( scanf(\\\"%d %d\\\",&H,&W), H|W ){\\n\\n    rep(i,2) sp[i].clear();\\n\\n    rep(i,10) X[i] = Y[i] = false;\\n\\n    int one = 0;\\n\\n    rep(i,H) rep(j,W) {\\n\\n      cin >> field[i][j];\\n\\n      if( field[i][j] == 1 ) X[j] = true, Y[i] = true, one++;\\n\\n      if( field[i][j] == 2 ) sp[0].push_back(j+i*W), X[j] = Y[i] = true;\\n\\n      if( field[i][j] == 3 ) sp[1].push_back(j+i*W), X[j] = Y[i] = true;\\n\\n    }\\n\\n    mini = H*W - one;\\n\\n    if( check(sp[0][1]) && check(sp[0][0]) && check(sp[1][1]) && check(sp[1][0]) ) {\\n\\n      vector<int> vec;\\n\\n      for(int i=0;i<W;i++) if( field[0][i] == 2 || field[0][i] == 3 ) vec.push_back(field[0][i]);\\n\\n      for(int i=1;i<H;i++) if( field[i][W-1] == 2 || field[i][W-1] == 3 ) vec.push_back(field[i][W-1]);\\n\\n      for(int i=W-2;i>=0;i--) if( field[H-1][i] == 2 || field[H-1][i] == 3 ) vec.push_back(field[H-1][i]);\\n\\n      for(int i=H-2;i>=1;i--) if( field[i][0] == 2 || field[i][0] == 3 ) vec.push_back(field[i][0]);\\n\\n      assert(vec.size() == 4);\\n\\n      if( !( vec[0] == vec[1] || vec[0] == vec[3] ) ) {\\n\\n        puts(\\\"0\\\");\\n\\n        continue;\\n\\n      }\\n\\n    }\\n\\n\\n\\n\\n\\n    compute(0,1);\\n\\n    if( mini == IINF ) puts(\\\"0\\\");\\n\\n    else printf(\\\"%d\\\\n\\\",mini);\\n\\n  }\\n\\n  return 0;\\n\\n}\", \"improved_code\": \"#include<bits/stdc++.h>\\n\\n\\n\\n#define REP(i,s,n) for(int i=s;i<n;i++)\\n\\n#define rep(i,n) REP(i,0,n)\\n\\n\\n\\nusing namespace std;\\n\\n\\n\\nconst int IINF = INT_MAX;\\n\\nconst int MAX_W = 9;\\n\\ntypedef pair<int,int> ii;\\n\\n\\n\\n\\n\\nint h,w;\\n\\nint field[10][10],indice[10][10];\\n\\nint dp[2][1<<((MAX_W+1)*2)];\\n\\nint dx[] = {1,0,-1,0};\\n\\nint dy[] = {0,1,0,-1};\\n\\n\\n\\ninline bool isValid(int x,int y) { return 0 <= x && x < w && 0 <= y && y < h; }\\n\\n\\n\\n#define SET(bitmask,index,value) ( bitmask = ( ( bitmask & ~(1<<(2*index)) & ~(1<<(2*index+1)) ) | ( value << (index*2) ) ) )\\n\\n#define GET(bitmask,x) ( ( ( bitmask >> ( 2 * x ) ) & 1 ) | ( ( ( bitmask >> (2*x+1) ) & 1) << 1 ) )\\n\\n#define FIX(bitmask) ((bitmask<<2)&((1<<(2*(w+1)))-1))\\n\\n#define STAR ( field[y][x] == 2 || field[y][x] == 3 )\\n\\n#define update(x,v) ( ( x == -1 ) ? ( x = v ) : ( x = min(x,v) ) )\\n\\n\\n\\n\\n\\nvoid compute(){\\n\\n\\n\\n  set<int> S;\\n\\n  vector<int> state;\\n\\n  rep(bitmask,(1<<((w+1)*2))) {\\n\\n    bool success = true;\\n\\n    for(int i=0;i<(w+1)*2;i+=2){\\n\\n      if( ( ( bitmask >> i ) & 1 ) && ( ( bitmask >> (i+1) ) & 1 ) ) { success = false; break; }\\n\\n    }\\n\\n    if( success ) state.push_back(bitmask), S.insert(bitmask);\\n\\n  }\\n\\n  memset(dp,-1,sizeof(dp));\\n\\n\\n\\n  int _size = state.size();\\n\\n  bool initter = true, phase = false;\\n\\n  int mini = IINF;\\n\\n  int encounter = 0;\\n\\n  rep(y,h){\\n\\n    rep(x,w){\\n\\n      /*\\n\\n      cout << x << \\\",\\\" << y << endl;\\n\\n      rep(i,_size){\\n\\n        if( dp[phase][state[i]] != -1 ) {\\n\\n          bitset<12> BIT(state[i]);\\n\\n          for(int j=0;j<12;j+=2){\\n\\n            cout << BIT[j] << BIT[j+1] << \\\" \\\";\\n\\n          } \\n\\n          cout << \\\" = \\\" << dp[phase][state[i]] << endl;\\n\\n        }\\n\\n      }\\n\\n      */\\n\\n      if( field[y][x] == 2 || field[y][x] == 3 ) ++encounter;\\n\\n      if( initter ) dp[phase][0] = 0;\\n\\n\\n\\n      rep(i,_size){\\n\\n        int bitmask = state[i];\\n\\n\\n\\n        if( dp[phase][bitmask] == -1 ) continue;\\n\\n        bitset<12> bit(bitmask);\\n\\n\\n\\n\\n\\n        assert( S.count(bitmask));\\n\\n        // ?????????\\n\\n        if( field[y][x] == 1 ) {\\n\\n          int nbitmask = bitmask;\\n\\n          SET(nbitmask,x,0);\\n\\n          if( x == w-1 ) nbitmask = FIX(nbitmask);\\n\\n          update(dp[!phase][nbitmask],dp[phase][bitmask]);\\n\\n          continue;\\n\\n        }\\n\\n\\n\\n        int nbitmask;\\n\\n        // 0 0\\n\\n        if( !( ( GET(bitmask,x) == 0 ) && ( GET(bitmask,(x+1)) == 0 ) ) ) goto Label1;\\n\\n        if( STAR ) {\\n\\n          // x 0\\n\\n          if( y+1 < h && field[y+1][x] != 1 ) {\\n\\n            nbitmask = bitmask;\\n\\n            SET(nbitmask,x,((field[y][x]==3)+1));\\n\\n          if( x == w-1 ) nbitmask = FIX(nbitmask);\\n\\n\\n\\n            update(dp[!phase][nbitmask],dp[phase][bitmask]+1);\\n\\n          }\\n\\n          // 0 x\\n\\n          if( x+1 < w && field[y][x+1] != 1 ) {\\n\\n            nbitmask = bitmask;\\n\\n            SET(nbitmask,(x+1),((field[y][x]==3)+1));\\n\\n\\n\\n          if( x == w-1 ) nbitmask = FIX(nbitmask);\\n\\n\\n\\n          update(dp[!phase][nbitmask],dp[phase][bitmask]+1);\\n\\n          }\\n\\n        } else {\\n\\n          // x x\\n\\n          if( x+1 < w && y+1 < h && field[y][x+1] != 1 && field[y+1][x] != 1 ) {\\n\\n            REP(color,1,3){\\n\\n              nbitmask = bitmask;\\n\\n              SET(nbitmask,x,color);\\n\\n              SET(nbitmask,(x+1),color);\\n\\n              if( x == w-1 ) nbitmask = FIX(nbitmask);\\n\\n              update(dp[!phase][nbitmask],(dp[phase][bitmask]+1));\\n\\n            }\\n\\n          }\\n\\n          // 0 0\\n\\n          nbitmask = bitmask;\\n\\n          SET(nbitmask,x,0);\\n\\n          SET(nbitmask,(x+1),0);\\n\\n          if( x == w-1 ) nbitmask = FIX(nbitmask);\\n\\n          update(dp[!phase][nbitmask],dp[phase][bitmask]);\\n\\n        }\\n\\n\\n\\n        continue;\\n\\n      Label1:;\\n\\n        // x 0\\n\\n        // 0 x\\n\\n        int color;\\n\\n        if( !( ( GET(bitmask,x) && ( GET(bitmask,(x+1)) == 0 ) ) || ( GET(bitmask,(x+1)) && ( GET(bitmask,x) == 0 ) ) ) ) goto Label2;\\n\\n        color = GET(bitmask,x) | GET(bitmask,(x+1));\\n\\n        assert( color == 1 || color == 2 );\\n\\n        if( STAR ) {\\n\\n          // 0 0\\n\\n          if( ((color==1)?2:3) == field[y][x] ) {\\n\\n\\n\\n            nbitmask = bitmask;\\n\\n            SET(nbitmask,x,0);\\n\\n            SET(nbitmask,(x+1),0);\\n\\n          if( x == w-1 ) nbitmask = FIX(nbitmask);\\n\\n            update(dp[!phase][nbitmask],dp[phase][bitmask]+1);\\n\\n          }\\n\\n        } else {\\n\\n          // x 0\\n\\n          if( y+1 < h && field[y+1][x] != 1 ) {\\n\\n            nbitmask = bitmask;\\n\\n            SET(nbitmask,x,color);\\n\\n            SET(nbitmask,(x+1),0);\\n\\n          if( x == w-1 ) nbitmask = FIX(nbitmask);\\n\\n\\n\\n\\n\\n            update(dp[!phase][nbitmask],(dp[phase][bitmask]+1));\\n\\n          }\\n\\n          \\n\\n          // 0 x\\n\\n          if( x+1 < w && field[y][x+1] != 1 ) {\\n\\n            nbitmask = bitmask;\\n\\n            SET(nbitmask,x,0);\\n\\n            SET(nbitmask,(x+1),color);\\n\\n\\n\\n          if( x == w-1 ) nbitmask = FIX(nbitmask);\\n\\n            update(dp[!phase][nbitmask],(dp[phase][bitmask]+1));\\n\\n          }\\n\\n        }\\n\\n        continue;\\n\\n      Label2:;\\n\\n        // x x\\n\\n        if( !( GET(bitmask,x) && GET(bitmask,(x+1)) ) ) goto Label3;\\n\\n        if( GET(bitmask,x) != GET(bitmask,(x+1)) ) goto Label3;\\n\\n\\n\\n        color = GET(bitmask,x);\\n\\n        assert( color );\\n\\n        //assert( GET(bitmask,x) == GET(bitmask,(x+1)) );\\n\\n        \\n\\n        // 0 0\\n\\n        if( !STAR ) {\\n\\n          nbitmask = bitmask;\\n\\n          SET(nbitmask,x,0);\\n\\n          SET(nbitmask,(x+1),0);\\n\\n          if( x == w-1 ) nbitmask = FIX(nbitmask);\\n\\n          update(dp[!phase][nbitmask],dp[phase][bitmask]+1);\\n\\n        }\\n\\n      Label3:;\\n\\n\\n\\n      }\\n\\n      if( field[y][x] == 2 || field[y][x] == 3 ) initter = false;\\n\\n      rep(i,_size) dp[phase][state[i]] = -1;\\n\\n      if( encounter >= 4 && dp[!phase][0] != -1 ) {\\n\\n        mini = min(mini,dp[!phase][0]);\\n\\n      }\\n\\n      phase = !phase;\\n\\n    }\\n\\n  }\\n\\n\\n\\n  /*\\n\\n  puts(\\\"final\\\");\\n\\n  rep(i,_size){\\n\\n    if( dp[phase][state[i]] != -1 ) {\\n\\n      bitset<12> BIT(state[i]);\\n\\n      for(int j=0;j<12;j+=2){\\n\\n        cout << BIT[j] << BIT[j+1] << \\\" \\\";\\n\\n      } \\n\\n      cout << \\\" = \\\" << dp[phase][state[i]] << endl;\\n\\n    }\\n\\n  }\\n\\n  */\\n\\n  if( dp[phase][0] != -1 ) mini = min(mini,dp[phase][0]);\\n\\n  if( mini != IINF ) printf(\\\"%d\\\\n\\\",mini-2);\\n\\n  else puts(\\\"0\\\");\\n\\n}\\n\\n\\n\\nint main(){\\n\\n\\n\\n\\n\\n  while( scanf(\\\"%d %d\\\",&h,&w), h|w ){\\n\\n    rep(i,h) rep(j,w) scanf(\\\"%d\\\",&field[i][j]);\\n\\n    compute();\\n\\n  }\\n\\n  return 0;\\n\\n}\", \"problem_id\": \"p00849\"}\n5:{\"original_code\": \"#include<bits/stdc++.h>\\n\\n\\n\\n#define REP(i,s,n) for(int i=s;i<n;i++)\\n\\n#define rep(i,n) REP(i,0,n)\\n\\n\\n\\nusing namespace std;\\n\\n\\n\\nconst int IINF = INT_MAX;\\n\\nconst int MAX_W = 9;\\n\\ntypedef pair<int,int> ii;\\n\\n\\n\\n\\n\\nint h,w;\\n\\nint field[10][10],indice[10][10];\\n\\nint dp[2][1<<((MAX_W+1)*2)];\\n\\nint dx[] = {1,0,-1,0};\\n\\nint dy[] = {0,1,0,-1};\\n\\n\\n\\ninline bool isValid(int x,int y) { return 0 <= x && x < w && 0 <= y && y < h; }\\n\\n\\n\\n#define SET(bitmask,index,value) ( bitmask = ( ( bitmask & ~(1<<(2*index)) & ~(1<<(2*index+1)) ) | ( value << (index*2) ) ) )\\n\\n#define GET(bitmask,x) ( ( ( bitmask >> ( 2 * x ) ) & 1 ) | ( ( ( bitmask >> (2*x+1) ) & 1) << 1 ) )\\n\\n#define FIX(bitmask) ((bitmask<<2)&((1<<(2*(w+1)))-1))\\n\\n#define STAR ( field[y][x] == 2 || field[y][x] == 3 )\\n\\n#define update(x,v) ( ( x == -1 ) ? ( x = v ) : ( x = min(x,v) ) )\\n\\n\\n\\n\\n\\nvoid compute(){\\n\\n\\n\\n  set<int> S;\\n\\n  vector<int> state;\\n\\n  rep(bitmask,(1<<((w+1)*2))) {\\n\\n    bool success = true;\\n\\n    for(int i=0;i<(w+1)*2;i+=2){\\n\\n      if( ( ( bitmask >> i ) & 1 ) && ( ( bitmask >> (i+1) ) & 1 ) ) { success = false; break; }\\n\\n    }\\n\\n    if( success ) state.push_back(bitmask), S.insert(bitmask);\\n\\n  }\\n\\n  memset(dp,-1,sizeof(dp));\\n\\n\\n\\n  int _size = state.size();\\n\\n  bool initter = true, phase = false;\\n\\n  int mini = IINF;\\n\\n  int encounter = 0;\\n\\n  rep(y,h){\\n\\n    rep(x,w){\\n\\n      /*\\n\\n      cout << x << \\\",\\\" << y << endl;\\n\\n      rep(i,_size){\\n\\n        if( dp[phase][state[i]] != -1 ) {\\n\\n          bitset<12> BIT(state[i]);\\n\\n          for(int j=0;j<12;j+=2){\\n\\n            cout << BIT[j] << BIT[j+1] << \\\" \\\";\\n\\n          } \\n\\n          cout << \\\" = \\\" << dp[phase][state[i]] << endl;\\n\\n        }\\n\\n      }\\n\\n      */\\n\\n      if( field[y][x] == 2 || field[y][x] == 3 ) ++encounter;\\n\\n      if( initter ) dp[phase][0] = 0;\\n\\n\\n\\n      rep(i,_size){\\n\\n        int bitmask = state[i];\\n\\n\\n\\n        if( dp[phase][bitmask] == -1 ) continue;\\n\\n        bitset<12> bit(bitmask);\\n\\n\\n\\n\\n\\n        assert( S.count(bitmask));\\n\\n        // ?????????\\n\\n        if( field[y][x] == 1 ) {\\n\\n          int nbitmask = bitmask;\\n\\n          SET(nbitmask,x,0);\\n\\n          if( x == w-1 ) nbitmask = FIX(nbitmask);\\n\\n          update(dp[!phase][nbitmask],dp[phase][bitmask]);\\n\\n          continue;\\n\\n        }\\n\\n\\n\\n        int nbitmask;\\n\\n        // 0 0\\n\\n        if( !( ( GET(bitmask,x) == 0 ) && ( GET(bitmask,(x+1)) == 0 ) ) ) goto Label1;\\n\\n        if( STAR ) {\\n\\n          // x 0\\n\\n          if( y+1 < h && field[y+1][x] != 1 ) {\\n\\n            nbitmask = bitmask;\\n\\n            SET(nbitmask,x,((field[y][x]==3)+1));\\n\\n          if( x == w-1 ) nbitmask = FIX(nbitmask);\\n\\n\\n\\n            update(dp[!phase][nbitmask],dp[phase][bitmask]+1);\\n\\n          }\\n\\n          // 0 x\\n\\n          if( x+1 < w && field[y][x+1] != 1 ) {\\n\\n            nbitmask = bitmask;\\n\\n            SET(nbitmask,(x+1),((field[y][x]==3)+1));\\n\\n\\n\\n          if( x == w-1 ) nbitmask = FIX(nbitmask);\\n\\n\\n\\n          update(dp[!phase][nbitmask],dp[phase][bitmask]+1);\\n\\n          }\\n\\n        } else {\\n\\n          // x x\\n\\n          if( x+1 < w && y+1 < h && field[y][x+1] != 1 && field[y+1][x] != 1 ) {\\n\\n            REP(color,1,3){\\n\\n              nbitmask = bitmask;\\n\\n              SET(nbitmask,x,color);\\n\\n              SET(nbitmask,(x+1),color);\\n\\n              if( x == w-1 ) nbitmask = FIX(nbitmask);\\n\\n              update(dp[!phase][nbitmask],(dp[phase][bitmask]+1));\\n\\n            }\\n\\n          }\\n\\n          // 0 0\\n\\n          nbitmask = bitmask;\\n\\n          SET(nbitmask,x,0);\\n\\n          SET(nbitmask,(x+1),0);\\n\\n          if( x == w-1 ) nbitmask = FIX(nbitmask);\\n\\n          update(dp[!phase][nbitmask],dp[phase][bitmask]);\\n\\n        }\\n\\n\\n\\n        continue;\\n\\n      Label1:;\\n\\n        // x 0\\n\\n        // 0 x\\n\\n        int color;\\n\\n        if( !( ( GET(bitmask,x) && ( GET(bitmask,(x+1)) == 0 ) ) || ( GET(bitmask,(x+1)) && ( GET(bitmask,x) == 0 ) ) ) ) goto Label2;\\n\\n        color = GET(bitmask,x) | GET(bitmask,(x+1));\\n\\n        assert( color == 1 || color == 2 );\\n\\n        if( STAR ) {\\n\\n          // 0 0\\n\\n          if( ((color==1)?2:3) == field[y][x] ) {\\n\\n\\n\\n            nbitmask = bitmask;\\n\\n            SET(nbitmask,x,0);\\n\\n            SET(nbitmask,(x+1),0);\\n\\n          if( x == w-1 ) nbitmask = FIX(nbitmask);\\n\\n            update(dp[!phase][nbitmask],dp[phase][bitmask]+1);\\n\\n          }\\n\\n        } else {\\n\\n          // x 0\\n\\n          if( y+1 < h && field[y+1][x] != 1 ) {\\n\\n            nbitmask = bitmask;\\n\\n            SET(nbitmask,x,color);\\n\\n            SET(nbitmask,(x+1),0);\\n\\n          if( x == w-1 ) nbitmask = FIX(nbitmask);\\n\\n\\n\\n\\n\\n            update(dp[!phase][nbitmask],(dp[phase][bitmask]+1));\\n\\n          }\\n\\n          \\n\\n          // 0 x\\n\\n          if( x+1 < w && field[y][x+1] != 1 ) {\\n\\n            nbitmask = bitmask;\\n\\n            SET(nbitmask,x,0);\\n\\n            SET(nbitmask,(x+1),color);\\n\\n\\n\\n          if( x == w-1 ) nbitmask = FIX(nbitmask);\\n\\n            update(dp[!phase][nbitmask],(dp[phase][bitmask]+1));\\n\\n          }\\n\\n        }\\n\\n        continue;\\n\\n      Label2:;\\n\\n        // x x\\n\\n        if( !( GET(bitmask,x) && GET(bitmask,(x+1)) ) ) goto Label3;\\n\\n        if( GET(bitmask,x) != GET(bitmask,(x+1)) ) goto Label3;\\n\\n\\n\\n        color = GET(bitmask,x);\\n\\n        assert( color );\\n\\n        //assert( GET(bitmask,x) == GET(bitmask,(x+1)) );\\n\\n        \\n\\n        // 0 0\\n\\n        if( !STAR ) {\\n\\n          nbitmask = bitmask;\\n\\n          SET(nbitmask,x,0);\\n\\n          SET(nbitmask,(x+1),0);\\n\\n          if( x == w-1 ) nbitmask = FIX(nbitmask);\\n\\n          update(dp[!phase][nbitmask],dp[phase][bitmask]+1);\\n\\n        }\\n\\n      Label3:;\\n\\n\\n\\n      }\\n\\n      if( field[y][x] == 2 || field[y][x] == 3 ) initter = false;\\n\\n      rep(i,_size) dp[phase][state[i]] = -1;\\n\\n      if( encounter >= 4 && dp[!phase][0] != -1 ) {\\n\\n        mini = min(mini,dp[!phase][0]);\\n\\n      }\\n\\n      phase = !phase;\\n\\n    }\\n\\n  }\\n\\n\\n\\n  /*\\n\\n  puts(\\\"final\\\");\\n\\n  rep(i,_size){\\n\\n    if( dp[phase][state[i]] != -1 ) {\\n\\n      bitset<12> BIT(state[i]);\\n\\n      for(int j=0;j<12;j+=2){\\n\\n        cout << BIT[j] << BIT[j+1] << \\\" \\\";\\n\\n      } \\n\\n      cout << \\\" = \\\" << dp[phase][state[i]] << endl;\\n\\n    }\\n\\n  }\\n\\n  */\\n\\n  if( dp[phase][0] != -1 ) mini = min(mini,dp[phase][0]);\\n\\n  if( mini != IINF ) printf(\\\"%d\\\\n\\\",mini-2);\\n\\n  else puts(\\\"0\\\");\\n\\n}\\n\\n\\n\\nint main(){\\n\\n\\n\\n\\n\\n  while( scanf(\\\"%d %d\\\",&h,&w), h|w ){\\n\\n    rep(i,h) rep(j,w) scanf(\\\"%d\\\",&field[i][j]);\\n\\n    compute();\\n\\n  }\\n\\n  return 0;\\n\\n}\", \"improved_code\": \"#include<bits/stdc++.h>\\n\\n\\n\\n#define REP(i,s,n) for(int i=s;i<n;i++)\\n\\n#define rep(i,n) REP(i,0,n)\\n\\n\\n\\nusing namespace std;\\n\\n\\n\\nconst int IINF = INT_MAX;\\n\\nconst int MAX_W = 9;\\n\\ntypedef pair<int,int> ii;\\n\\n\\n\\n\\n\\nint h,w;\\n\\nint field[10][10],indice[10][10];\\n\\nint dp[2][1<<((MAX_W+1)*2)];\\n\\nint dx[] = {1,0,-1,0};\\n\\nint dy[] = {0,1,0,-1};\\n\\n\\n\\ninline bool isValid(int x,int y) { return 0 <= x && x < w && 0 <= y && y < h; }\\n\\n\\n\\n#define SET(bitmask,index,value) ( bitmask = ( ( bitmask & ~(1<<(2*index)) & ~(1<<(2*index+1)) ) | ( value << (index*2) ) ) )\\n\\n#define GET(bitmask,x) ( ( ( bitmask >> ( 2 * x ) ) & 1 ) | ( ( ( bitmask >> (2*x+1) ) & 1) << 1 ) )\\n\\n#define FIX(bitmask) ((bitmask<<2)&((1<<(2*(w+1)))-1))\\n\\n#define STAR ( field[y][x] == 2 || field[y][x] == 3 )\\n\\n#define update(x,v) ( ( x == -1 ) ? ( x = v ) : ( x = min(x,v) ) )\\n\\n\\n\\n\\n\\nvoid compute(){\\n\\n\\n\\n  vector<int> state;\\n\\n  rep(bitmask,(1<<((w+1)*2))) {\\n\\n    bool success = true;\\n\\n    for(int i=0;i<(w+1)*2;i+=2) if( ( ( bitmask >> i ) & 1 ) && ( ( bitmask >> (i+1) ) & 1 ) ) { success = false; break; }\\n\\n    if( success ) state.push_back(bitmask);\\n\\n  }\\n\\n  memset(dp,-1,sizeof(dp));\\n\\n\\n\\n  int _size = state.size();\\n\\n  bool initter = true, phase = false;\\n\\n  int mini = IINF;\\n\\n  int encounter = 0;\\n\\n  rep(y,h){\\n\\n    rep(x,w){\\n\\n\\n\\n      if( field[y][x] == 2 || field[y][x] == 3 ) ++encounter;\\n\\n      if( initter ) dp[phase][0] = 0;\\n\\n\\n\\n      rep(i,_size){\\n\\n        int bitmask = state[i];\\n\\n\\n\\n        if( dp[phase][bitmask] == -1 ) continue;\\n\\n\\n\\n        // ?????????\\n\\n        if( field[y][x] == 1 ) {\\n\\n          int nbitmask = bitmask;\\n\\n          SET(nbitmask,x,0);\\n\\n          if( x == w-1 ) nbitmask = FIX(nbitmask);\\n\\n          update(dp[!phase][nbitmask],dp[phase][bitmask]);\\n\\n          continue;\\n\\n        }\\n\\n\\n\\n        int nbitmask;\\n\\n        // 0 0\\n\\n        if( !( ( GET(bitmask,x) == 0 ) && ( GET(bitmask,(x+1)) == 0 ) ) ) goto Label1;\\n\\n        if( STAR ) {\\n\\n          // x 0\\n\\n          if( y+1 < h && field[y+1][x] != 1 ) {\\n\\n            nbitmask = bitmask;\\n\\n            SET(nbitmask,x,((field[y][x]==3)+1));\\n\\n            if( x == w-1 ) nbitmask = FIX(nbitmask);\\n\\n          \\n\\n            update(dp[!phase][nbitmask],dp[phase][bitmask]+1);\\n\\n          }\\n\\n          // 0 x\\n\\n          if( x+1 < w && field[y][x+1] != 1 ) {\\n\\n            nbitmask = bitmask;\\n\\n            SET(nbitmask,(x+1),((field[y][x]==3)+1));\\n\\n\\n\\n            if( x == w-1 ) nbitmask = FIX(nbitmask);\\n\\n\\n\\n            update(dp[!phase][nbitmask],dp[phase][bitmask]+1);\\n\\n          }\\n\\n        } else {\\n\\n          // x x\\n\\n          if( x+1 < w && y+1 < h && field[y][x+1] != 1 && field[y+1][x] != 1 ) {\\n\\n            REP(color,1,3){\\n\\n              nbitmask = bitmask;\\n\\n              SET(nbitmask,x,color);\\n\\n              SET(nbitmask,(x+1),color);\\n\\n              if( x == w-1 ) nbitmask = FIX(nbitmask);\\n\\n              update(dp[!phase][nbitmask],(dp[phase][bitmask]+1));\\n\\n            }\\n\\n          }\\n\\n          // 0 0\\n\\n          nbitmask = bitmask;\\n\\n          SET(nbitmask,x,0);\\n\\n          SET(nbitmask,(x+1),0);\\n\\n          if( x == w-1 ) nbitmask = FIX(nbitmask);\\n\\n          update(dp[!phase][nbitmask],dp[phase][bitmask]);\\n\\n        }\\n\\n\\n\\n        continue;\\n\\n      Label1:;\\n\\n        // x 0\\n\\n        // 0 x\\n\\n        int color;\\n\\n        if( !( ( GET(bitmask,x) && ( GET(bitmask,(x+1)) == 0 ) ) || ( GET(bitmask,(x+1)) && ( GET(bitmask,x) == 0 ) ) ) ) goto Label2;\\n\\n        color = GET(bitmask,x) | GET(bitmask,(x+1));\\n\\n        if( STAR ) {\\n\\n          // 0 0\\n\\n          if( ((color==1)?2:3) == field[y][x] ) {\\n\\n            nbitmask = bitmask;\\n\\n            SET(nbitmask,x,0);\\n\\n            SET(nbitmask,(x+1),0);\\n\\n            if( x == w-1 ) nbitmask = FIX(nbitmask);\\n\\n            update(dp[!phase][nbitmask],dp[phase][bitmask]+1);\\n\\n          }\\n\\n        } else {\\n\\n          // x 0\\n\\n          if( y+1 < h && field[y+1][x] != 1 ) {\\n\\n            nbitmask = bitmask;\\n\\n            SET(nbitmask,x,color);\\n\\n            SET(nbitmask,(x+1),0);\\n\\n            if( x == w-1 ) nbitmask = FIX(nbitmask);\\n\\n\\n\\n\\n\\n            update(dp[!phase][nbitmask],(dp[phase][bitmask]+1));\\n\\n          }\\n\\n          \\n\\n          // 0 x\\n\\n          if( x+1 < w && field[y][x+1] != 1 ) {\\n\\n            nbitmask = bitmask;\\n\\n            SET(nbitmask,x,0);\\n\\n            SET(nbitmask,(x+1),color);\\n\\n\\n\\n            if( x == w-1 ) nbitmask = FIX(nbitmask);\\n\\n            update(dp[!phase][nbitmask],(dp[phase][bitmask]+1));\\n\\n          }\\n\\n        }\\n\\n        continue;\\n\\n      Label2:;\\n\\n        // x x\\n\\n        if( !( GET(bitmask,x) && GET(bitmask,(x+1)) ) ) goto Label3;\\n\\n        if( GET(bitmask,x) != GET(bitmask,(x+1)) ) goto Label3;\\n\\n\\n\\n        color = GET(bitmask,x);\\n\\n        \\n\\n        // 0 0\\n\\n        if( !STAR ) {\\n\\n          nbitmask = bitmask;\\n\\n          SET(nbitmask,x,0);\\n\\n          SET(nbitmask,(x+1),0);\\n\\n          if( x == w-1 ) nbitmask = FIX(nbitmask);\\n\\n          update(dp[!phase][nbitmask],dp[phase][bitmask]+1);\\n\\n        }\\n\\n      Label3:;\\n\\n\\n\\n      }\\n\\n      if( field[y][x] == 2 || field[y][x] == 3 ) initter = false;\\n\\n      rep(i,_size) dp[phase][state[i]] = -1;\\n\\n      if( encounter >= 4 && dp[!phase][0] != -1 ) {\\n\\n        mini = min(mini,dp[!phase][0]);\\n\\n      }\\n\\n      phase = !phase;\\n\\n    }\\n\\n  }\\n\\n  if( dp[phase][0] != -1 ) mini = min(mini,dp[phase][0]);\\n\\n  if( mini != IINF ) printf(\\\"%d\\\\n\\\",mini-2);\\n\\n  else puts(\\\"0\\\");\\n\\n}\\n\\n\\n\\nint main(){\\n\\n  while( scanf(\\\"%d %d\\\",&h,&w), h|w ){\\n\\n    rep(i,h) rep(j,w) scanf(\\\"%d\\\",&field[i][j]);\\n\\n    compute();\\n\\n  }\\n\\n  return 0;\\n\\n}\", \"problem_id\": \"p00849\"}\n6:{\"original_code\": \"#include<bits/stdc++.h>\\n\\n\\n\\n#define REP(i,s,n) for(int i=s;i<n;i++)\\n\\n#define rep(i,n) REP(i,0,n)\\n\\n\\n\\nusing namespace std;\\n\\n\\n\\nconst int IINF = INT_MAX;\\n\\nconst int MAX_W = 9;\\n\\ntypedef pair<int,int> ii;\\n\\n\\n\\n\\n\\nint h,w;\\n\\nint field[10][10],indice[10][10];\\n\\nint dp[2][1<<((MAX_W+1)*2)];\\n\\nint dx[] = {1,0,-1,0};\\n\\nint dy[] = {0,1,0,-1};\\n\\n\\n\\ninline bool isValid(int x,int y) { return 0 <= x && x < w && 0 <= y && y < h; }\\n\\n\\n\\n#define SET(bitmask,index,value) ( bitmask = ( ( bitmask & ~(1<<(2*index)) & ~(1<<(2*index+1)) ) | ( value << (index*2) ) ) )\\n\\n#define GET(bitmask,x) ( ( ( bitmask >> ( 2 * x ) ) & 1 ) | ( ( ( bitmask >> (2*x+1) ) & 1) << 1 ) )\\n\\n#define FIX(bitmask) ((bitmask<<2)&((1<<(2*(w+1)))-1))\\n\\n#define STAR ( field[y][x] == 2 || field[y][x] == 3 )\\n\\n#define update(x,v) ( ( x == -1 ) ? ( x = v ) : ( x = min(x,v) ) )\\n\\n\\n\\n\\n\\nvoid compute(){\\n\\n\\n\\n  vector<int> state;\\n\\n  rep(bitmask,(1<<((w+1)*2))) {\\n\\n    bool success = true;\\n\\n    for(int i=0;i<(w+1)*2;i+=2) if( ( ( bitmask >> i ) & 1 ) && ( ( bitmask >> (i+1) ) & 1 ) ) { success = false; break; }\\n\\n    if( success ) state.push_back(bitmask);\\n\\n  }\\n\\n  memset(dp,-1,sizeof(dp));\\n\\n\\n\\n  int _size = state.size();\\n\\n  bool initter = true, phase = false;\\n\\n  int mini = IINF;\\n\\n  int encounter = 0;\\n\\n  rep(y,h){\\n\\n    rep(x,w){\\n\\n\\n\\n      if( field[y][x] == 2 || field[y][x] == 3 ) ++encounter;\\n\\n      if( initter ) dp[phase][0] = 0;\\n\\n\\n\\n      rep(i,_size){\\n\\n        int bitmask = state[i];\\n\\n\\n\\n        if( dp[phase][bitmask] == -1 ) continue;\\n\\n\\n\\n        // ?????????\\n\\n        if( field[y][x] == 1 ) {\\n\\n          int nbitmask = bitmask;\\n\\n          SET(nbitmask,x,0);\\n\\n          if( x == w-1 ) nbitmask = FIX(nbitmask);\\n\\n          update(dp[!phase][nbitmask],dp[phase][bitmask]);\\n\\n          continue;\\n\\n        }\\n\\n\\n\\n        int nbitmask;\\n\\n        // 0 0\\n\\n        if( !( ( GET(bitmask,x) == 0 ) && ( GET(bitmask,(x+1)) == 0 ) ) ) goto Label1;\\n\\n        if( STAR ) {\\n\\n          // x 0\\n\\n          if( y+1 < h && field[y+1][x] != 1 ) {\\n\\n            nbitmask = bitmask;\\n\\n            SET(nbitmask,x,((field[y][x]==3)+1));\\n\\n            if( x == w-1 ) nbitmask = FIX(nbitmask);\\n\\n          \\n\\n            update(dp[!phase][nbitmask],dp[phase][bitmask]+1);\\n\\n          }\\n\\n          // 0 x\\n\\n          if( x+1 < w && field[y][x+1] != 1 ) {\\n\\n            nbitmask = bitmask;\\n\\n            SET(nbitmask,(x+1),((field[y][x]==3)+1));\\n\\n\\n\\n            if( x == w-1 ) nbitmask = FIX(nbitmask);\\n\\n\\n\\n            update(dp[!phase][nbitmask],dp[phase][bitmask]+1);\\n\\n          }\\n\\n        } else {\\n\\n          // x x\\n\\n          if( x+1 < w && y+1 < h && field[y][x+1] != 1 && field[y+1][x] != 1 ) {\\n\\n            REP(color,1,3){\\n\\n              nbitmask = bitmask;\\n\\n              SET(nbitmask,x,color);\\n\\n              SET(nbitmask,(x+1),color);\\n\\n              if( x == w-1 ) nbitmask = FIX(nbitmask);\\n\\n              update(dp[!phase][nbitmask],(dp[phase][bitmask]+1));\\n\\n            }\\n\\n          }\\n\\n          // 0 0\\n\\n          nbitmask = bitmask;\\n\\n          SET(nbitmask,x,0);\\n\\n          SET(nbitmask,(x+1),0);\\n\\n          if( x == w-1 ) nbitmask = FIX(nbitmask);\\n\\n          update(dp[!phase][nbitmask],dp[phase][bitmask]);\\n\\n        }\\n\\n\\n\\n        continue;\\n\\n      Label1:;\\n\\n        // x 0\\n\\n        // 0 x\\n\\n        int color;\\n\\n        if( !( ( GET(bitmask,x) && ( GET(bitmask,(x+1)) == 0 ) ) || ( GET(bitmask,(x+1)) && ( GET(bitmask,x) == 0 ) ) ) ) goto Label2;\\n\\n        color = GET(bitmask,x) | GET(bitmask,(x+1));\\n\\n        if( STAR ) {\\n\\n          // 0 0\\n\\n          if( ((color==1)?2:3) == field[y][x] ) {\\n\\n            nbitmask = bitmask;\\n\\n            SET(nbitmask,x,0);\\n\\n            SET(nbitmask,(x+1),0);\\n\\n            if( x == w-1 ) nbitmask = FIX(nbitmask);\\n\\n            update(dp[!phase][nbitmask],dp[phase][bitmask]+1);\\n\\n          }\\n\\n        } else {\\n\\n          // x 0\\n\\n          if( y+1 < h && field[y+1][x] != 1 ) {\\n\\n            nbitmask = bitmask;\\n\\n            SET(nbitmask,x,color);\\n\\n            SET(nbitmask,(x+1),0);\\n\\n            if( x == w-1 ) nbitmask = FIX(nbitmask);\\n\\n\\n\\n\\n\\n            update(dp[!phase][nbitmask],(dp[phase][bitmask]+1));\\n\\n          }\\n\\n          \\n\\n          // 0 x\\n\\n          if( x+1 < w && field[y][x+1] != 1 ) {\\n\\n            nbitmask = bitmask;\\n\\n            SET(nbitmask,x,0);\\n\\n            SET(nbitmask,(x+1),color);\\n\\n\\n\\n            if( x == w-1 ) nbitmask = FIX(nbitmask);\\n\\n            update(dp[!phase][nbitmask],(dp[phase][bitmask]+1));\\n\\n          }\\n\\n        }\\n\\n        continue;\\n\\n      Label2:;\\n\\n        // x x\\n\\n        if( !( GET(bitmask,x) && GET(bitmask,(x+1)) ) ) goto Label3;\\n\\n        if( GET(bitmask,x) != GET(bitmask,(x+1)) ) goto Label3;\\n\\n\\n\\n        color = GET(bitmask,x);\\n\\n        \\n\\n        // 0 0\\n\\n        if( !STAR ) {\\n\\n          nbitmask = bitmask;\\n\\n          SET(nbitmask,x,0);\\n\\n          SET(nbitmask,(x+1),0);\\n\\n          if( x == w-1 ) nbitmask = FIX(nbitmask);\\n\\n          update(dp[!phase][nbitmask],dp[phase][bitmask]+1);\\n\\n        }\\n\\n      Label3:;\\n\\n\\n\\n      }\\n\\n      if( field[y][x] == 2 || field[y][x] == 3 ) initter = false;\\n\\n      rep(i,_size) dp[phase][state[i]] = -1;\\n\\n      if( encounter >= 4 && dp[!phase][0] != -1 ) {\\n\\n        mini = min(mini,dp[!phase][0]);\\n\\n      }\\n\\n      phase = !phase;\\n\\n    }\\n\\n  }\\n\\n  if( dp[phase][0] != -1 ) mini = min(mini,dp[phase][0]);\\n\\n  if( mini != IINF ) printf(\\\"%d\\\\n\\\",mini-2);\\n\\n  else puts(\\\"0\\\");\\n\\n}\\n\\n\\n\\nint main(){\\n\\n  while( scanf(\\\"%d %d\\\",&h,&w), h|w ){\\n\\n    rep(i,h) rep(j,w) scanf(\\\"%d\\\",&field[i][j]);\\n\\n    compute();\\n\\n  }\\n\\n  return 0;\\n\\n}\", \"improved_code\": \"#include<bits/stdc++.h>\\n\\n\\n\\n#define REP(i,s,n) for(int i=s;i<n;i++)\\n\\n#define rep(i,n) REP(i,0,n)\\n\\n\\n\\nusing namespace std;\\n\\n\\n\\nconst int IINF = INT_MAX;\\n\\nconst int MAX_W = 9;\\n\\ntypedef pair<int,int> ii;\\n\\n\\n\\n\\n\\nint h,w;\\n\\nint field[10][10],indice[10][10];\\n\\nint dp[2][1<<((MAX_W+1)*2)];\\n\\nint dx[] = {1,0,-1,0};\\n\\nint dy[] = {0,1,0,-1};\\n\\n\\n\\ninline bool isValid(int x,int y) { return 0 <= x && x < w && 0 <= y && y < h; }\\n\\n\\n\\n#define SET(bitmask,index,value) ( bitmask = ( ( bitmask & ~(1<<(2*index)) & ~(1<<(2*index+1)) ) | ( value << (index*2) ) ) )\\n\\n#define GET(bitmask,x) ( ( ( bitmask >> ( 2 * x ) ) & 1 ) | ( ( ( bitmask >> (2*x+1) ) & 1) << 1 ) )\\n\\n#define FIX(bitmask) ((bitmask<<2)&((1<<(2*(w+1)))-1))\\n\\n#define STAR ( field[y][x] == 2 || field[y][x] == 3 )\\n\\n#define update(x,v) ( ( x == -1 ) ? ( x = v ) : ( x = min(x,v) ) )\\n\\n\\n\\n\\n\\nvoid compute(){\\n\\n\\n\\n  vector<int> state;\\n\\n  rep(bitmask,(1<<((w+1)*2))) {\\n\\n    bool success = true;\\n\\n    for(int i=0;i<(w+1)*2;i+=2) if( ( ( bitmask >> i ) & 1 ) && ( ( bitmask >> (i+1) ) & 1 ) ) { success = false; break; }\\n\\n    if( success ) state.push_back(bitmask);\\n\\n  }\\n\\n  memset(dp,-1,sizeof(dp));\\n\\n\\n\\n  int _size = state.size();\\n\\n  bool initter = true, phase = false;\\n\\n  int mini = IINF;\\n\\n  int encounter = 0;\\n\\n  rep(y,h){\\n\\n    rep(x,w){\\n\\n\\n\\n      if( field[y][x] == 2 || field[y][x] == 3 ) ++encounter;\\n\\n      if( initter ) dp[phase][0] = 0;\\n\\n\\n\\n      rep(i,_size){\\n\\n        int bitmask = state[i];\\n\\n\\n\\n        if( dp[phase][bitmask] == -1 ) continue;\\n\\n        if( dp[phase][bitmask] >= mini ) continue;\\n\\n\\n\\n        // ?????????\\n\\n        if( field[y][x] == 1 ) {\\n\\n          int nbitmask = bitmask;\\n\\n          SET(nbitmask,x,0);\\n\\n          if( x == w-1 ) nbitmask = FIX(nbitmask);\\n\\n          update(dp[!phase][nbitmask],dp[phase][bitmask]);\\n\\n          continue;\\n\\n        }\\n\\n\\n\\n        int nbitmask;\\n\\n        // 0 0\\n\\n        if( !( ( GET(bitmask,x) == 0 ) && ( GET(bitmask,(x+1)) == 0 ) ) ) goto Label1;\\n\\n        if( STAR ) {\\n\\n          // x 0\\n\\n          if( y+1 < h && field[y+1][x] != 1 ) {\\n\\n            nbitmask = bitmask;\\n\\n            SET(nbitmask,x,((field[y][x]==3)+1));\\n\\n            if( x == w-1 ) nbitmask = FIX(nbitmask);\\n\\n          \\n\\n            update(dp[!phase][nbitmask],dp[phase][bitmask]+1);\\n\\n          }\\n\\n          // 0 x\\n\\n          if( x+1 < w && field[y][x+1] != 1 ) {\\n\\n            nbitmask = bitmask;\\n\\n            SET(nbitmask,(x+1),((field[y][x]==3)+1));\\n\\n\\n\\n            if( x == w-1 ) nbitmask = FIX(nbitmask);\\n\\n\\n\\n            update(dp[!phase][nbitmask],dp[phase][bitmask]+1);\\n\\n          }\\n\\n        } else {\\n\\n          // x x\\n\\n          if( x+1 < w && y+1 < h && field[y][x+1] != 1 && field[y+1][x] != 1 ) {\\n\\n            REP(color,1,3){\\n\\n              nbitmask = bitmask;\\n\\n              SET(nbitmask,x,color);\\n\\n              SET(nbitmask,(x+1),color);\\n\\n              if( x == w-1 ) nbitmask = FIX(nbitmask);\\n\\n              update(dp[!phase][nbitmask],(dp[phase][bitmask]+1));\\n\\n            }\\n\\n          }\\n\\n          // 0 0\\n\\n          nbitmask = bitmask;\\n\\n          SET(nbitmask,x,0);\\n\\n          SET(nbitmask,(x+1),0);\\n\\n          if( x == w-1 ) nbitmask = FIX(nbitmask);\\n\\n          update(dp[!phase][nbitmask],dp[phase][bitmask]);\\n\\n        }\\n\\n\\n\\n        continue;\\n\\n      Label1:;\\n\\n        // x 0\\n\\n        // 0 x\\n\\n        int color;\\n\\n        if( !( ( GET(bitmask,x) && ( GET(bitmask,(x+1)) == 0 ) ) || ( GET(bitmask,(x+1)) && ( GET(bitmask,x) == 0 ) ) ) ) goto Label2;\\n\\n        color = GET(bitmask,x) | GET(bitmask,(x+1));\\n\\n        if( STAR ) {\\n\\n          // 0 0\\n\\n          if( ((color==1)?2:3) == field[y][x] ) {\\n\\n            nbitmask = bitmask;\\n\\n            SET(nbitmask,x,0);\\n\\n            SET(nbitmask,(x+1),0);\\n\\n            if( x == w-1 ) nbitmask = FIX(nbitmask);\\n\\n            update(dp[!phase][nbitmask],dp[phase][bitmask]+1);\\n\\n          }\\n\\n        } else {\\n\\n          // x 0\\n\\n          if( y+1 < h && field[y+1][x] != 1 ) {\\n\\n            nbitmask = bitmask;\\n\\n            SET(nbitmask,x,color);\\n\\n            SET(nbitmask,(x+1),0);\\n\\n            if( x == w-1 ) nbitmask = FIX(nbitmask);\\n\\n\\n\\n\\n\\n            update(dp[!phase][nbitmask],(dp[phase][bitmask]+1));\\n\\n          }\\n\\n          \\n\\n          // 0 x\\n\\n          if( x+1 < w && field[y][x+1] != 1 ) {\\n\\n            nbitmask = bitmask;\\n\\n            SET(nbitmask,x,0);\\n\\n            SET(nbitmask,(x+1),color);\\n\\n\\n\\n            if( x == w-1 ) nbitmask = FIX(nbitmask);\\n\\n            update(dp[!phase][nbitmask],(dp[phase][bitmask]+1));\\n\\n          }\\n\\n        }\\n\\n        continue;\\n\\n      Label2:;\\n\\n        // x x\\n\\n        if( !( GET(bitmask,x) && GET(bitmask,(x+1)) ) ) goto Label3;\\n\\n        if( GET(bitmask,x) != GET(bitmask,(x+1)) ) goto Label3;\\n\\n\\n\\n        color = GET(bitmask,x);\\n\\n        \\n\\n        // 0 0\\n\\n        if( !STAR ) {\\n\\n          nbitmask = bitmask;\\n\\n          SET(nbitmask,x,0);\\n\\n          SET(nbitmask,(x+1),0);\\n\\n          if( x == w-1 ) nbitmask = FIX(nbitmask);\\n\\n          update(dp[!phase][nbitmask],dp[phase][bitmask]+1);\\n\\n        }\\n\\n      Label3:;\\n\\n\\n\\n      }\\n\\n      if( field[y][x] == 2 || field[y][x] == 3 ) initter = false;\\n\\n      rep(i,_size) dp[phase][state[i]] = -1;\\n\\n      if( encounter >= 4 && dp[!phase][0] != -1 ) {\\n\\n        mini = min(mini,dp[!phase][0]);\\n\\n      }\\n\\n      phase = !phase;\\n\\n    }\\n\\n  }\\n\\n  if( dp[phase][0] != -1 ) mini = min(mini,dp[phase][0]);\\n\\n  if( mini != IINF ) printf(\\\"%d\\\\n\\\",mini-2);\\n\\n  else puts(\\\"0\\\");\\n\\n}\\n\\n\\n\\nint main(){\\n\\n  while( scanf(\\\"%d %d\\\",&h,&w), h|w ){\\n\\n    rep(i,h) rep(j,w) scanf(\\\"%d\\\",&field[i][j]);\\n\\n    compute();\\n\\n  }\\n\\n  return 0;\\n\\n}\", \"problem_id\": \"p00849\"}\n7:{\"original_code\": \"#include<iostream>\\n\\n#include<algorithm>\\n\\nusing namespace std;\\n\\n#define REP(i,b,n) for(int i=b;i<n;i++)\\n\\n#define rep(i,n)   REP(i,0,n)\\n\\n\\n\\nconst int N = 9;\\n\\nconst int inf = (1 <<21);\\n\\n\\n\\nint dx[]={0,1, 0,-1};\\n\\nint dy[]={1,0,-1,0};\\n\\nint op[]={2,3, 0,1};\\n\\nint m[N][N];\\n\\nbool vis2[N][N];\\n\\n\\n\\nbool isok(int r,int c,int y,int x,int last){\\n\\n  rep(i,4){\\n\\n    if (op[i] == last)continue;\\n\\n    int nex=x+dx[i],ney=y+dy[i];\\n\\n    if (nex==-1||ney==-1||nex==c||ney==r)continue;\\n\\n    if (vis2[ney][nex])return false;\\n\\n  }\\n\\n  return true;\\n\\n}\\n\\n\\n\\nvoid output(int r,int c){\\n\\n  cout << \\\"begin\\\"<<endl;\\n\\n  rep(i,r){\\n\\n    rep(j,c){\\n\\n      if (vis2[i][j])cout << 2;\\n\\n      else cout << '0';\\n\\n    }\\n\\n    cout << endl;\\n\\n  }\\n\\n  cout <<endl;\\n\\n}\\n\\n\\n\\n\\n\\nint ans;\\n\\nbool isgoal;\\n\\nint md;\\n\\nbool bfs(int r,int c,int cnt,bool goal2){\\n\\n  static int q[N*N];\\n\\n  static int cost[N][N];\\n\\n  int sy3=-1,sx3=-1,gy3=-1,gx3=-1;\\n\\n  rep(i,r){\\n\\n    rep(j,c){\\n\\n      if (m[i][j] == 3){\\n\\n\\tif (sy3==-1)sy3=i,sx3=j;\\n\\n\\telse gy3=i,gx3=j;\\n\\n      }\\n\\n      cost[i][j]=inf;\\n\\n    }\\n\\n  }\\n\\n  int tail=0,head=0;\\n\\n  q[tail++]=sx3+sy3*c;\\n\\n  cost[sy3][sx3]=0;\\n\\n  while(head != tail){\\n\\n    int now = q[head++];\\n\\n    int x = now%c,y=now/c;\\n\\n    if (cnt+cost[y][x] >= ans)return false;\\n\\n    if (x == gx3 && y == gy3){\\n\\n      if (goal2)return true;\\n\\n      isgoal=true;\\n\\n      ans =min(ans,cnt+cost[y][x]);\\n\\n      return true;\\n\\n    }\\n\\n    rep(i,4){\\n\\n      int nex=x+dx[i],ney=y+dy[i];\\n\\n      if (nex==-1||ney==-1||nex==c||ney==r||vis2[ney][nex])continue;\\n\\n      if (m[ney][nex]==1||m[ney][nex] == 2)continue;\\n\\n      if (cost[ney][nex] != inf)continue;\\n\\n      cost[ney][nex]=cost[y][x]+1;\\n\\n      q[tail++]=ney*c+nex;\\n\\n    }\\n\\n  }\\n\\n  return false;\\n\\n}\\n\\n\\n\\nbool bfs2(int r,int c,int cnt,int sy,int sx){\\n\\n  static int q[N*N];\\n\\n  static int cost[N][N];\\n\\n  int sy3=-1,sx3=-1,gy3=-1,gx3=-1;\\n\\n  rep(i,r){\\n\\n    rep(j,c){\\n\\n      if (m[i][j] == 2){\\n\\n\\tif (sy3==-1)sy3=i,sx3=j;\\n\\n\\telse gy3=i,gx3=j;\\n\\n      }\\n\\n      cost[i][j]=inf;\\n\\n    }\\n\\n  }\\n\\n  int tail=0,head=0;\\n\\n  q[tail++]=sx+sy*c;\\n\\n  cost[sy][sx]=0;\\n\\n  while(head != tail){\\n\\n    int now = q[head++];\\n\\n    int x = now%c,y=now/c;\\n\\n    if (cnt+cost[y][x] >= ans)return false;\\n\\n    if (x == gx3 && y == gy3){\\n\\n      return true;\\n\\n    }\\n\\n    rep(i,4){\\n\\n      int nex=x+dx[i],ney=y+dy[i];\\n\\n      if (nex==-1||ney==-1||nex==c||ney==r||vis2[ney][nex])continue;\\n\\n      if (m[ney][nex]==1||m[ney][nex] == 3)continue;\\n\\n      if (cost[ney][nex] != inf)continue;\\n\\n      cost[ney][nex]=cost[y][x]+1;\\n\\n      q[tail++]=ney*c+nex;\\n\\n    }\\n\\n  }\\n\\n  return false;\\n\\n}\\n\\n\\n\\n\\n\\nint path[N*N];\\n\\nint pattern[8][5]={\\n\\n  {2,1,1,0,0,},\\n\\n  {1,0,0,3,3,},\\n\\n  {0,3,3,2,2,},\\n\\n  {3,2,2,1,1,},\\n\\n  {2,3,3,0,0,},\\n\\n  {1,2,2,3,3,},\\n\\n  {0,1,1,2,2,},\\n\\n  {3,0,0,1,1,},\\n\\n};\\n\\n\\n\\nint cx[]={-1, 1,1,-1, 1, 1,-1, -1};\\n\\nint cy[]={-1,-1,1, 1,-1, 1, 1,-1};\\n\\n\\n\\nbool isok2(int r,int c,int y,int x,int p){\\n\\n  if (p <5)return true;\\n\\n  rep(i,8){\\n\\n    bool ismatch=true;\\n\\n    rep(j,5){\\n\\n      if (pattern[i][j] == path[p-(5-j)]);\\n\\n      else ismatch=false;\\n\\n    }\\n\\n    if (!ismatch)continue;\\n\\n    int nex=x+cx[i],ney=y+cy[i];\\n\\n    if (nex==-1||ney==-1||nex==c||ney==r)continue;\\n\\n    //    cout << \\\"test\\\"<<endl;\\n\\n    //    if (m[ney][nex] == 0 && !vis2[ney][nex])cout <<\\\"cut\\\"<<endl;\\n\\n    if (m[ney][nex] == 0 && !vis2[ney][nex])return false;\\n\\n\\n\\n  }\\n\\n  return true;\\n\\n}\\n\\n\\n\\nvoid dfs(int r,int c,int y,int x,int cnt,int last,int gy2,int gx2){\\n\\n  if (!isok(r,c,y,x,last)){\\n\\n    return;\\n\\n  }\\n\\n  if (!isok2(r,c,y,x,cnt))return;\\n\\n\\n\\n  if (cnt+md >= ans)return;\\n\\n  if (!bfs(r,c,cnt,true))return;\\n\\n\\n\\n  //  if (!bfs2(r,c,cnt,gy2,gx2))return;\\n\\n  /*\\n\\n  for(int i=0;cnt >=5 && i<5;i++){\\n\\n    cout << path[cnt-5+i]<<\\\" \\\";\\n\\n  }\\n\\n  cout << endl;\\n\\n  vis2[y][x]=true;\\n\\n  output(r,c);\\n\\n  vis2[y][x]=false;\\n\\n  */    \\n\\n\\n\\n  if (x == gx2 && y == gy2){\\n\\n    vis2[y][x]=true;\\n\\n    bfs(r,c,cnt,false);\\n\\n    vis2[y][x]=false;\\n\\n    return;\\n\\n  }\\n\\n\\n\\n  vis2[y][x]=true;\\n\\n  rep(i,4){\\n\\n    if (op[i] == last)continue;\\n\\n    int nex=x+dx[i],ney=y+dy[i];\\n\\n    if (nex==-1||ney==-1||nex==c||ney==r||vis2[ney][nex])continue;\\n\\n    if (m[ney][nex] == 3 || m[ney][nex] == 1)continue;\\n\\n    path[cnt]=i;\\n\\n    dfs(r,c,ney,nex,cnt+1,i,gy2,gx2);\\n\\n  }\\n\\n  vis2[y][x]=false;\\n\\n}\\n\\n\\n\\nint bfs2(int r,int c,int tar,int utar){\\n\\n  static int q[N*N];\\n\\n  static int cost[N][N];\\n\\n  int sy3=-1,sx3=-1,gy3=-1,gx3=-1;\\n\\n  rep(i,r){\\n\\n    rep(j,c){\\n\\n      if (m[i][j] == tar){\\n\\n\\tif (sy3==-1)sy3=i,sx3=j;\\n\\n\\telse gy3=i,gx3=j;\\n\\n      }\\n\\n      cost[i][j]=inf;\\n\\n    }\\n\\n  }\\n\\n  int tail=0,head=0;\\n\\n  q[tail++]=sx3+sy3*c;\\n\\n  cost[sy3][sx3]=0;\\n\\n  while(head != tail){\\n\\n    int now = q[head++];\\n\\n    int x = now%c,y=now/c;\\n\\n\\n\\n    if (x == gx3 && y == gy3){\\n\\n      return cost[y][x];\\n\\n    }\\n\\n    rep(i,4){\\n\\n      int nex=x+dx[i],ney=y+dy[i];\\n\\n      if (nex==-1||ney==-1||nex==c||ney==r||vis2[ney][nex])continue;\\n\\n      if (m[ney][nex]==1||m[ney][nex] == utar)continue;\\n\\n      if (cost[ney][nex] != inf)continue;\\n\\n      cost[ney][nex]=cost[y][x]+1;\\n\\n      q[tail++]=ney*c+nex;\\n\\n    }\\n\\n  }\\n\\n  return false;\\n\\n}\\n\\n\\n\\n\\n\\n\\n\\nmain(){\\n\\n  int r,c;\\n\\n  while(cin>>r>>c && r){\\n\\n    ans = r*c;\\n\\n    isgoal=false;\\n\\n    rep(i,r)rep(j,c)cin>>m[i][j];\\n\\n    rep(i,r)rep(j,c)vis2[i][j]=false;\\n\\n\\n\\n\\n\\n\\n\\n    \\n\\n    int sx2=-1,sy2=-1;\\n\\n    int gx2=-1,gy2=-1;\\n\\n    rep(i,r){\\n\\n      rep(j,c){\\n\\n\\tif (m[i][j] == 2){\\n\\n\\t  if (sx2 == -1)sx2=j,sy2=i;\\n\\n\\t  else gx2=j,gy2=i;\\n\\n\\t}\\n\\n      }\\n\\n    }\\n\\n    \\n\\n    int sx3=-1,sy3=-1,gx3=-1,gy3=-1;\\n\\n    rep(i,r){\\n\\n      rep(j,c){\\n\\n\\tif (m[i][j] == 3){\\n\\n\\t  if (sx3 == -1)sx3=j,sy3=i;\\n\\n\\t  else gx3=j,gy3=i;\\n\\n\\t}\\n\\n      }\\n\\n    }\\n\\n\\n\\n\\n\\n    /*\\n\\n    md = max(sx3,gx3)-min(sx3,gx3)+\\n\\n      max(sy3,gy3)-min(sy3,gy3);\\n\\n    */\\n\\n    md=bfs2(r,c,3,2);\\n\\n\\n\\n\\n\\n    \\n\\n    dfs(r,c,sy2,sx2,0,-1,gy2,gx2);\\n\\n    \\n\\n    if (isgoal)cout << ans << endl;\\n\\n    else cout << 0 << endl;\\n\\n  }\\n\\n  return false;\\n\\n}\", \"improved_code\": \"#include<iostream>\\n\\n#include<algorithm>\\n\\nusing namespace std;\\n\\n#define REP(i,b,n) for(int i=b;i<n;i++)\\n\\n#define rep(i,n)   REP(i,0,n)\\n\\n\\n\\nconst int N = 9;\\n\\nconst int inf = (1 <<21);\\n\\n\\n\\nint dx[]={0,1, 0,-1};\\n\\nint dy[]={1,0,-1,0};\\n\\nint op[]={2,3, 0,1};\\n\\nint m[N][N];\\n\\nbool vis2[N][N];\\n\\n\\n\\nbool isok(int r,int c,int y,int x,int last){\\n\\n  rep(i,4){\\n\\n    if (op[i] == last)continue;\\n\\n    int nex=x+dx[i],ney=y+dy[i];\\n\\n    if (nex==-1||ney==-1||nex==c||ney==r)continue;\\n\\n    if (vis2[ney][nex])return false;\\n\\n  }\\n\\n  return true;\\n\\n}\\n\\n\\n\\nvoid output(int r,int c){\\n\\n  cout << \\\"begin\\\"<<endl;\\n\\n  rep(i,r){\\n\\n    rep(j,c){\\n\\n      if (vis2[i][j])cout << 2;\\n\\n      else cout << '0';\\n\\n    }\\n\\n    cout << endl;\\n\\n  }\\n\\n  cout <<endl;\\n\\n}\\n\\n\\n\\n\\n\\nint ans;\\n\\nbool isgoal;\\n\\nint md;\\n\\nbool bfs(int r,int c,int cnt,bool goal2){\\n\\n  static int q[N*N];\\n\\n  static int cost[N][N];\\n\\n  int sy3=-1,sx3=-1,gy3=-1,gx3=-1;\\n\\n  rep(i,r){\\n\\n    rep(j,c){\\n\\n      if (m[i][j] == 3){\\n\\n\\tif (sy3==-1)sy3=i,sx3=j;\\n\\n\\telse gy3=i,gx3=j;\\n\\n      }\\n\\n      cost[i][j]=inf;\\n\\n    }\\n\\n  }\\n\\n  int tail=0,head=0;\\n\\n  q[tail++]=sx3+sy3*c;\\n\\n  cost[sy3][sx3]=0;\\n\\n  while(head != tail){\\n\\n    int now = q[head++];\\n\\n    int x = now%c,y=now/c;\\n\\n    if (cnt+cost[y][x] >= ans)return false;\\n\\n    if (x == gx3 && y == gy3){\\n\\n      if (goal2)return true;\\n\\n      isgoal=true;\\n\\n      ans =min(ans,cnt+cost[y][x]);\\n\\n      return true;\\n\\n    }\\n\\n    rep(i,4){\\n\\n      int nex=x+dx[i],ney=y+dy[i];\\n\\n      if (nex==-1||ney==-1||nex==c||ney==r||vis2[ney][nex])continue;\\n\\n      if (m[ney][nex]==1||m[ney][nex] == 2)continue;\\n\\n      if (cost[ney][nex] != inf)continue;\\n\\n      cost[ney][nex]=cost[y][x]+1;\\n\\n      q[tail++]=ney*c+nex;\\n\\n    }\\n\\n  }\\n\\n  return false;\\n\\n}\\n\\n\\n\\nbool bfs2(int r,int c,int cnt,int sy,int sx){\\n\\n  static int q[N*N];\\n\\n  static int cost[N][N];\\n\\n  int sy3=-1,sx3=-1,gy3=-1,gx3=-1;\\n\\n  rep(i,r){\\n\\n    rep(j,c){\\n\\n      if (m[i][j] == 2){\\n\\n\\tif (sy3==-1)sy3=i,sx3=j;\\n\\n\\telse gy3=i,gx3=j;\\n\\n      }\\n\\n      cost[i][j]=inf;\\n\\n    }\\n\\n  }\\n\\n  int tail=0,head=0;\\n\\n  q[tail++]=sx+sy*c;\\n\\n  cost[sy][sx]=0;\\n\\n  while(head != tail){\\n\\n    int now = q[head++];\\n\\n    int x = now%c,y=now/c;\\n\\n    if (cnt+cost[y][x] >= ans)return false;\\n\\n    if (x == gx3 && y == gy3){\\n\\n      return true;\\n\\n    }\\n\\n    rep(i,4){\\n\\n      int nex=x+dx[i],ney=y+dy[i];\\n\\n      if (nex==-1||ney==-1||nex==c||ney==r||vis2[ney][nex])continue;\\n\\n      if (m[ney][nex]==1||m[ney][nex] == 3)continue;\\n\\n      if (cost[ney][nex] != inf)continue;\\n\\n      cost[ney][nex]=cost[y][x]+1;\\n\\n      q[tail++]=ney*c+nex;\\n\\n    }\\n\\n  }\\n\\n  return false;\\n\\n}\\n\\n\\n\\n\\n\\nint path[N*N];\\n\\nint pattern[8][4]={\\n\\n  {2,1,1,0,},\\n\\n  {1,0,0,3,},\\n\\n  {0,3,3,2,},\\n\\n  {3,2,2,1,},\\n\\n  {2,3,3,0,},\\n\\n  {1,2,2,3,},\\n\\n  {0,1,1,2,},\\n\\n  {3,0,0,1,},\\n\\n};\\n\\n\\n\\nint cx[]={-1, 0,1, 0, 1, 0,-1, 0};\\n\\nint cy[]={ 0,-1,0, 1, 0, 1, 0,-1};\\n\\n\\n\\nbool isok2(int r,int c,int y,int x,int p){\\n\\n  if (p <4)return true;\\n\\n  rep(i,8){\\n\\n    bool ismatch=true;\\n\\n    rep(j,4){\\n\\n      if (pattern[i][j] == path[p-(4-j)]);\\n\\n      else ismatch=false;\\n\\n    }\\n\\n    if (!ismatch)continue;\\n\\n    int nex=x+cx[i],ney=y+cy[i];\\n\\n    if (nex==-1||ney==-1||nex==c||ney==r)continue;\\n\\n    if (m[ney][nex] == 0 && !vis2[ney][nex])return false;\\n\\n\\n\\n  }\\n\\n  return true;\\n\\n}\\n\\n\\n\\nvoid dfs(int r,int c,int y,int x,int cnt,int last,int gy2,int gx2){\\n\\n  if (!isok(r,c,y,x,last)){\\n\\n    return;\\n\\n  }\\n\\n  if (!isok2(r,c,y,x,cnt))return;\\n\\n\\n\\n  if (cnt+md >= ans)return;\\n\\n  if (!bfs(r,c,cnt,true))return;\\n\\n\\n\\n  if (!bfs2(r,c,cnt,gy2,gx2))return;\\n\\n\\n\\n  /*\\n\\n  for(int i=0;cnt >=5 && i<5;i++){\\n\\n    cout << path[cnt-5+i]<<\\\" \\\";\\n\\n  }\\n\\n  cout << endl;\\n\\n  vis2[y][x]=true;\\n\\n  output(r,c);\\n\\n  vis2[y][x]=false;\\n\\n  */      \\n\\n\\n\\n  if (x == gx2 && y == gy2){\\n\\n    vis2[y][x]=true;\\n\\n    bfs(r,c,cnt,false);\\n\\n    vis2[y][x]=false;\\n\\n    return;\\n\\n  }\\n\\n\\n\\n  vis2[y][x]=true;\\n\\n  rep(i,4){\\n\\n    if (op[i] == last)continue;\\n\\n    int nex=x+dx[i],ney=y+dy[i];\\n\\n    if (nex==-1||ney==-1||nex==c||ney==r||vis2[ney][nex])continue;\\n\\n    if (m[ney][nex] == 3 || m[ney][nex] == 1)continue;\\n\\n    path[cnt]=i;\\n\\n    dfs(r,c,ney,nex,cnt+1,i,gy2,gx2);\\n\\n  }\\n\\n  vis2[y][x]=false;\\n\\n}\\n\\n\\n\\nint bfs2(int r,int c,int tar,int utar){\\n\\n  static int q[N*N];\\n\\n  static int cost[N][N];\\n\\n  int sy3=-1,sx3=-1,gy3=-1,gx3=-1;\\n\\n  rep(i,r){\\n\\n    rep(j,c){\\n\\n      if (m[i][j] == tar){\\n\\n\\tif (sy3==-1)sy3=i,sx3=j;\\n\\n\\telse gy3=i,gx3=j;\\n\\n      }\\n\\n      cost[i][j]=inf;\\n\\n    }\\n\\n  }\\n\\n  int tail=0,head=0;\\n\\n  q[tail++]=sx3+sy3*c;\\n\\n  cost[sy3][sx3]=0;\\n\\n  while(head != tail){\\n\\n    int now = q[head++];\\n\\n    int x = now%c,y=now/c;\\n\\n    if (x == gx3 && y == gy3){\\n\\n      return cost[y][x];\\n\\n    }\\n\\n    rep(i,4){\\n\\n      int nex=x+dx[i],ney=y+dy[i];\\n\\n      if (nex==-1||ney==-1||nex==c||ney==r||vis2[ney][nex])continue;\\n\\n      if (m[ney][nex]==1||m[ney][nex] == utar)continue;\\n\\n      if (cost[ney][nex] != inf)continue;\\n\\n      cost[ney][nex]=cost[y][x]+1;\\n\\n      q[tail++]=ney*c+nex;\\n\\n    }\\n\\n  }\\n\\n  return false;\\n\\n}\\n\\n\\n\\nmain(){\\n\\n  int r,c;\\n\\n  while(cin>>r>>c && r){\\n\\n    ans = r*c;\\n\\n    isgoal=false;\\n\\n    rep(i,r)rep(j,c)cin>>m[i][j];\\n\\n    rep(i,r)rep(j,c)vis2[i][j]=false;\\n\\n   \\n\\n    int sx2=-1,sy2=-1;\\n\\n    int gx2=-1,gy2=-1;\\n\\n    rep(i,r){\\n\\n      rep(j,c){\\n\\n\\tif (m[i][j] == 2){\\n\\n\\t  if (sx2 == -1)sx2=j,sy2=i;\\n\\n\\t  else gx2=j,gy2=i;\\n\\n\\t}\\n\\n      }\\n\\n    }\\n\\n    \\n\\n    int sx3=-1,sy3=-1,gx3=-1,gy3=-1;\\n\\n    rep(i,r){\\n\\n      rep(j,c){\\n\\n\\tif (m[i][j] == 3){\\n\\n\\t  if (sx3 == -1)sx3=j,sy3=i;\\n\\n\\t  else gx3=j,gy3=i;\\n\\n\\t}\\n\\n      }\\n\\n    }\\n\\n\\n\\n    md=bfs2(r,c,3,2);\\n\\n    \\n\\n    dfs(r,c,sy2,sx2,0,-1,gy2,gx2);\\n\\n    \\n\\n    if (isgoal)cout << ans << endl;\\n\\n    else cout << 0 << endl;\\n\\n  }\\n\\n  return false;\\n\\n}\", \"problem_id\": \"p00849\"}\n8:{\"original_code\": \"#include<iostream>\\n\\n#include<algorithm>\\n\\nusing namespace std;\\n\\n#define REP(i,b,n) for(int i=b;i<n;i++)\\n\\n#define rep(i,n)   REP(i,0,n)\\n\\n\\n\\nconst int N = 9;\\n\\nconst int inf = (1 <<21);\\n\\n\\n\\nint dx[]={0,1, 0,-1};\\n\\nint dy[]={1,0,-1,0};\\n\\nint op[]={2,3, 0,1};\\n\\nint m[N][N];\\n\\nbool vis2[N][N];\\n\\n\\n\\nbool isok(int r,int c,int y,int x,int last){\\n\\n  rep(i,4){\\n\\n    if (op[i] == last)continue;\\n\\n    int nex=x+dx[i],ney=y+dy[i];\\n\\n    if (nex==-1||ney==-1||nex==c||ney==r)continue;\\n\\n    if (vis2[ney][nex])return false;\\n\\n  }\\n\\n  return true;\\n\\n}\\n\\n\\n\\nvoid output(int r,int c){\\n\\n  cout << \\\"begin\\\"<<endl;\\n\\n  rep(i,r){\\n\\n    rep(j,c){\\n\\n      if (vis2[i][j])cout << 2;\\n\\n      else cout << '0';\\n\\n    }\\n\\n    cout << endl;\\n\\n  }\\n\\n  cout <<endl;\\n\\n}\\n\\n\\n\\n\\n\\nint ans;\\n\\nbool isgoal;\\n\\nint md;\\n\\nbool bfs(int r,int c,int cnt,bool goal2){\\n\\n  static int q[N*N];\\n\\n  static int cost[N][N];\\n\\n  int sy3=-1,sx3=-1,gy3=-1,gx3=-1;\\n\\n  rep(i,r){\\n\\n    rep(j,c){\\n\\n      if (m[i][j] == 3){\\n\\n\\tif (sy3==-1)sy3=i,sx3=j;\\n\\n\\telse gy3=i,gx3=j;\\n\\n      }\\n\\n      cost[i][j]=inf;\\n\\n    }\\n\\n  }\\n\\n  int tail=0,head=0;\\n\\n  q[tail++]=sx3+sy3*c;\\n\\n  cost[sy3][sx3]=0;\\n\\n  while(head != tail){\\n\\n    int now = q[head++];\\n\\n    int x = now%c,y=now/c;\\n\\n    if (cnt+cost[y][x] >= ans)return false;\\n\\n    if (x == gx3 && y == gy3){\\n\\n      if (goal2)return true;\\n\\n      isgoal=true;\\n\\n      ans =min(ans,cnt+cost[y][x]);\\n\\n      return true;\\n\\n    }\\n\\n    rep(i,4){\\n\\n      int nex=x+dx[i],ney=y+dy[i];\\n\\n      if (nex==-1||ney==-1||nex==c||ney==r||vis2[ney][nex])continue;\\n\\n      if (m[ney][nex]==1||m[ney][nex] == 2)continue;\\n\\n      if (cost[ney][nex] != inf)continue;\\n\\n      cost[ney][nex]=cost[y][x]+1;\\n\\n      q[tail++]=ney*c+nex;\\n\\n    }\\n\\n  }\\n\\n  return false;\\n\\n}\\n\\n\\n\\nbool bfs2(int r,int c,int cnt,int sy,int sx){\\n\\n  static int q[N*N];\\n\\n  static int cost[N][N];\\n\\n  int sy3=-1,sx3=-1,gy3=-1,gx3=-1;\\n\\n  rep(i,r){\\n\\n    rep(j,c){\\n\\n      if (m[i][j] == 2){\\n\\n\\tif (sy3==-1)sy3=i,sx3=j;\\n\\n\\telse gy3=i,gx3=j;\\n\\n      }\\n\\n      cost[i][j]=inf;\\n\\n    }\\n\\n  }\\n\\n  int tail=0,head=0;\\n\\n  q[tail++]=sx+sy*c;\\n\\n  cost[sy][sx]=0;\\n\\n  while(head != tail){\\n\\n    int now = q[head++];\\n\\n    int x = now%c,y=now/c;\\n\\n    if (cnt+cost[y][x] >= ans)return false;\\n\\n    if (x == gx3 && y == gy3){\\n\\n      return true;\\n\\n    }\\n\\n    rep(i,4){\\n\\n      int nex=x+dx[i],ney=y+dy[i];\\n\\n      if (nex==-1||ney==-1||nex==c||ney==r||vis2[ney][nex])continue;\\n\\n      if (m[ney][nex]==1||m[ney][nex] == 3)continue;\\n\\n      if (cost[ney][nex] != inf)continue;\\n\\n      cost[ney][nex]=cost[y][x]+1;\\n\\n      q[tail++]=ney*c+nex;\\n\\n    }\\n\\n  }\\n\\n  return false;\\n\\n}\\n\\n\\n\\n\\n\\nint path[N*N];\\n\\nint pattern[8][4]={\\n\\n  {2,1,1,0,},\\n\\n  {1,0,0,3,},\\n\\n  {0,3,3,2,},\\n\\n  {3,2,2,1,},\\n\\n  {2,3,3,0,},\\n\\n  {1,2,2,3,},\\n\\n  {0,1,1,2,},\\n\\n  {3,0,0,1,},\\n\\n};\\n\\n\\n\\nint cx[]={-1, 0,1, 0, 1, 0,-1, 0};\\n\\nint cy[]={ 0,-1,0, 1, 0, 1, 0,-1};\\n\\n\\n\\nbool isok2(int r,int c,int y,int x,int p){\\n\\n  if (p <4)return true;\\n\\n  rep(i,8){\\n\\n    bool ismatch=true;\\n\\n    rep(j,4){\\n\\n      if (pattern[i][j] == path[p-(4-j)]);\\n\\n      else ismatch=false;\\n\\n    }\\n\\n    if (!ismatch)continue;\\n\\n    int nex=x+cx[i],ney=y+cy[i];\\n\\n    if (nex==-1||ney==-1||nex==c||ney==r)continue;\\n\\n    if (m[ney][nex] == 0 && !vis2[ney][nex])return false;\\n\\n\\n\\n  }\\n\\n  return true;\\n\\n}\\n\\n\\n\\nvoid dfs(int r,int c,int y,int x,int cnt,int last,int gy2,int gx2){\\n\\n  if (!isok(r,c,y,x,last)){\\n\\n    return;\\n\\n  }\\n\\n  if (!isok2(r,c,y,x,cnt))return;\\n\\n\\n\\n  if (cnt+md >= ans)return;\\n\\n  if (!bfs(r,c,cnt,true))return;\\n\\n\\n\\n  if (!bfs2(r,c,cnt,gy2,gx2))return;\\n\\n\\n\\n  /*\\n\\n  for(int i=0;cnt >=5 && i<5;i++){\\n\\n    cout << path[cnt-5+i]<<\\\" \\\";\\n\\n  }\\n\\n  cout << endl;\\n\\n  vis2[y][x]=true;\\n\\n  output(r,c);\\n\\n  vis2[y][x]=false;\\n\\n  */      \\n\\n\\n\\n  if (x == gx2 && y == gy2){\\n\\n    vis2[y][x]=true;\\n\\n    bfs(r,c,cnt,false);\\n\\n    vis2[y][x]=false;\\n\\n    return;\\n\\n  }\\n\\n\\n\\n  vis2[y][x]=true;\\n\\n  rep(i,4){\\n\\n    if (op[i] == last)continue;\\n\\n    int nex=x+dx[i],ney=y+dy[i];\\n\\n    if (nex==-1||ney==-1||nex==c||ney==r||vis2[ney][nex])continue;\\n\\n    if (m[ney][nex] == 3 || m[ney][nex] == 1)continue;\\n\\n    path[cnt]=i;\\n\\n    dfs(r,c,ney,nex,cnt+1,i,gy2,gx2);\\n\\n  }\\n\\n  vis2[y][x]=false;\\n\\n}\\n\\n\\n\\nint bfs2(int r,int c,int tar,int utar){\\n\\n  static int q[N*N];\\n\\n  static int cost[N][N];\\n\\n  int sy3=-1,sx3=-1,gy3=-1,gx3=-1;\\n\\n  rep(i,r){\\n\\n    rep(j,c){\\n\\n      if (m[i][j] == tar){\\n\\n\\tif (sy3==-1)sy3=i,sx3=j;\\n\\n\\telse gy3=i,gx3=j;\\n\\n      }\\n\\n      cost[i][j]=inf;\\n\\n    }\\n\\n  }\\n\\n  int tail=0,head=0;\\n\\n  q[tail++]=sx3+sy3*c;\\n\\n  cost[sy3][sx3]=0;\\n\\n  while(head != tail){\\n\\n    int now = q[head++];\\n\\n    int x = now%c,y=now/c;\\n\\n    if (x == gx3 && y == gy3){\\n\\n      return cost[y][x];\\n\\n    }\\n\\n    rep(i,4){\\n\\n      int nex=x+dx[i],ney=y+dy[i];\\n\\n      if (nex==-1||ney==-1||nex==c||ney==r||vis2[ney][nex])continue;\\n\\n      if (m[ney][nex]==1||m[ney][nex] == utar)continue;\\n\\n      if (cost[ney][nex] != inf)continue;\\n\\n      cost[ney][nex]=cost[y][x]+1;\\n\\n      q[tail++]=ney*c+nex;\\n\\n    }\\n\\n  }\\n\\n  return false;\\n\\n}\\n\\n\\n\\nmain(){\\n\\n  int r,c;\\n\\n  while(cin>>r>>c && r){\\n\\n    ans = r*c;\\n\\n    isgoal=false;\\n\\n    rep(i,r)rep(j,c)cin>>m[i][j];\\n\\n    rep(i,r)rep(j,c)vis2[i][j]=false;\\n\\n   \\n\\n    int sx2=-1,sy2=-1;\\n\\n    int gx2=-1,gy2=-1;\\n\\n    rep(i,r){\\n\\n      rep(j,c){\\n\\n\\tif (m[i][j] == 2){\\n\\n\\t  if (sx2 == -1)sx2=j,sy2=i;\\n\\n\\t  else gx2=j,gy2=i;\\n\\n\\t}\\n\\n      }\\n\\n    }\\n\\n    \\n\\n    int sx3=-1,sy3=-1,gx3=-1,gy3=-1;\\n\\n    rep(i,r){\\n\\n      rep(j,c){\\n\\n\\tif (m[i][j] == 3){\\n\\n\\t  if (sx3 == -1)sx3=j,sy3=i;\\n\\n\\t  else gx3=j,gy3=i;\\n\\n\\t}\\n\\n      }\\n\\n    }\\n\\n\\n\\n    md=bfs2(r,c,3,2);\\n\\n    \\n\\n    dfs(r,c,sy2,sx2,0,-1,gy2,gx2);\\n\\n    \\n\\n    if (isgoal)cout << ans << endl;\\n\\n    else cout << 0 << endl;\\n\\n  }\\n\\n  return false;\\n\\n}\", \"improved_code\": \"#include<iostream>\\n\\n#include<algorithm>\\n\\nusing namespace std;\\n\\n#define REP(i,b,n) for(int i=b;i<n;i++)\\n\\n#define rep(i,n)   REP(i,0,n)\\n\\n\\n\\nconst int N = 9;\\n\\nconst int inf = (1 <<21);\\n\\n\\n\\nint dx[]={0,1, 0,-1};\\n\\nint dy[]={1,0,-1,0};\\n\\nint op[]={2,3, 0,1};\\n\\nint m[N][N];\\n\\nbool vis2[N][N];\\n\\n\\n\\nbool isok(int r,int c,int y,int x,int last){\\n\\n  rep(i,4){\\n\\n    if (op[i] == last)continue;\\n\\n    int nex=x+dx[i],ney=y+dy[i];\\n\\n    if (nex==-1||ney==-1||nex==c||ney==r)continue;\\n\\n    if (vis2[ney][nex])return false;\\n\\n  }\\n\\n  return true;\\n\\n}\\n\\n\\n\\nvoid output(int r,int c){\\n\\n  cout << \\\"begin\\\"<<endl;\\n\\n  rep(i,r){\\n\\n    rep(j,c){\\n\\n      if (vis2[i][j])cout << 2;\\n\\n      else cout << '0';\\n\\n    }\\n\\n    cout << endl;\\n\\n  }\\n\\n  cout <<endl;\\n\\n}\\n\\n\\n\\n\\n\\nint ans;\\n\\nbool isgoal;\\n\\nint md;\\n\\nbool bfs(int r,int c,int cnt,bool goal2){\\n\\n  static int q[N*N];\\n\\n  static int cost[N][N];\\n\\n  int sy3=-1,sx3=-1,gy3=-1,gx3=-1;\\n\\n  rep(i,r){\\n\\n    rep(j,c){\\n\\n      if (m[i][j] == 3){\\n\\n\\tif (sy3==-1)sy3=i,sx3=j;\\n\\n\\telse gy3=i,gx3=j;\\n\\n      }\\n\\n      cost[i][j]=inf;\\n\\n    }\\n\\n  }\\n\\n  int tail=0,head=0;\\n\\n  q[tail++]=sx3+sy3*c;\\n\\n  cost[sy3][sx3]=0;\\n\\n  while(head != tail){\\n\\n    int now = q[head++];\\n\\n    int x = now%c,y=now/c;\\n\\n    if (cnt+cost[y][x] >= ans)return false;\\n\\n    if (x == gx3 && y == gy3){\\n\\n      if (goal2)return true;\\n\\n      isgoal=true;\\n\\n      ans =min(ans,cnt+cost[y][x]);\\n\\n      return true;\\n\\n    }\\n\\n    rep(i,4){\\n\\n      int nex=x+dx[i],ney=y+dy[i];\\n\\n      if (nex==-1||ney==-1||nex==c||ney==r||vis2[ney][nex])continue;\\n\\n      if (m[ney][nex]==1||m[ney][nex] == 2)continue;\\n\\n      if (cost[ney][nex] != inf)continue;\\n\\n      cost[ney][nex]=cost[y][x]+1;\\n\\n      q[tail++]=ney*c+nex;\\n\\n    }\\n\\n  }\\n\\n  return false;\\n\\n}\\n\\n\\n\\nbool bfs2(int r,int c,int cnt,int sy,int sx){\\n\\n  static int q[N*N];\\n\\n  static int cost[N][N];\\n\\n  int sy3=-1,sx3=-1,gy3=-1,gx3=-1;\\n\\n  rep(i,r){\\n\\n    rep(j,c){\\n\\n      if (m[i][j] == 2){\\n\\n\\tif (sy3==-1)sy3=i,sx3=j;\\n\\n\\telse gy3=i,gx3=j;\\n\\n      }\\n\\n      cost[i][j]=inf;\\n\\n    }\\n\\n  }\\n\\n  int tail=0,head=0;\\n\\n  q[tail++]=sx+sy*c;\\n\\n  cost[sy][sx]=0;\\n\\n  while(head != tail){\\n\\n    int now = q[head++];\\n\\n    int x = now%c,y=now/c;\\n\\n    if (cnt+cost[y][x] >= ans)return false;\\n\\n    if (x == gx3 && y == gy3){\\n\\n      return true;\\n\\n    }\\n\\n    rep(i,4){\\n\\n      int nex=x+dx[i],ney=y+dy[i];\\n\\n      if (nex==-1||ney==-1||nex==c||ney==r||vis2[ney][nex])continue;\\n\\n      if (m[ney][nex]==1||m[ney][nex] == 3)continue;\\n\\n      if (cost[ney][nex] != inf)continue;\\n\\n      cost[ney][nex]=cost[y][x]+1;\\n\\n      q[tail++]=ney*c+nex;\\n\\n    }\\n\\n  }\\n\\n  return false;\\n\\n}\\n\\n\\n\\n\\n\\nint path[N*N];\\n\\nint pattern[8][4]={\\n\\n  {2,1,1,0,},\\n\\n  {1,0,0,3,},\\n\\n  {0,3,3,2,},\\n\\n  {3,2,2,1,},\\n\\n  {2,3,3,0,},\\n\\n  {1,2,2,3,},\\n\\n  {0,1,1,2,},\\n\\n  {3,0,0,1,},\\n\\n};\\n\\n\\n\\nint cx[]={-1, 0,1, 0, 1, 0,-1, 0};\\n\\nint cy[]={ 0,-1,0, 1, 0, 1, 0,-1};\\n\\n\\n\\nbool isok2(int r,int c,int y,int x,int p){\\n\\n  if (p <4)return true;\\n\\n  rep(i,8){\\n\\n    bool ismatch=true;\\n\\n    rep(j,4){\\n\\n      if (pattern[i][j] == path[p-(4-j)]);\\n\\n      else ismatch=false;\\n\\n    }\\n\\n    if (!ismatch)continue;\\n\\n    int nex=x+cx[i],ney=y+cy[i];\\n\\n    if (nex==-1||ney==-1||nex==c||ney==r)continue;\\n\\n    if (m[ney][nex] == 0 && !vis2[ney][nex])return false;\\n\\n\\n\\n  }\\n\\n  return true;\\n\\n}\\n\\n\\n\\nvoid dfs(int r,int c,int y,int x,int cnt,int last,int gy2,int gx2){\\n\\n  if (!isok(r,c,y,x,last)){\\n\\n    return;\\n\\n  }\\n\\n  if (!isok2(r,c,y,x,cnt))return;\\n\\n\\n\\n  if (cnt+md >= ans)return;\\n\\n  if (!bfs(r,c,cnt,true))return;\\n\\n\\n\\n  //  if (!bfs2(r,c,cnt,gy2,gx2))return;\\n\\n\\n\\n  /*\\n\\n  for(int i=0;cnt >=5 && i<5;i++){\\n\\n    cout << path[cnt-5+i]<<\\\" \\\";\\n\\n  }\\n\\n  cout << endl;\\n\\n  vis2[y][x]=true;\\n\\n  output(r,c);\\n\\n  vis2[y][x]=false;\\n\\n  */      \\n\\n\\n\\n  if (x == gx2 && y == gy2){\\n\\n    vis2[y][x]=true;\\n\\n    bfs(r,c,cnt,false);\\n\\n    vis2[y][x]=false;\\n\\n    return;\\n\\n  }\\n\\n\\n\\n  vis2[y][x]=true;\\n\\n  rep(i,4){\\n\\n    if (op[i] == last)continue;\\n\\n    int nex=x+dx[i],ney=y+dy[i];\\n\\n    if (nex==-1||ney==-1||nex==c||ney==r||vis2[ney][nex])continue;\\n\\n    if (m[ney][nex] == 3 || m[ney][nex] == 1)continue;\\n\\n    path[cnt]=i;\\n\\n    dfs(r,c,ney,nex,cnt+1,i,gy2,gx2);\\n\\n  }\\n\\n  vis2[y][x]=false;\\n\\n}\\n\\n\\n\\nint bfs2(int r,int c,int tar,int utar){\\n\\n  static int q[N*N];\\n\\n  static int cost[N][N];\\n\\n  int sy3=-1,sx3=-1,gy3=-1,gx3=-1;\\n\\n  rep(i,r){\\n\\n    rep(j,c){\\n\\n      if (m[i][j] == tar){\\n\\n\\tif (sy3==-1)sy3=i,sx3=j;\\n\\n\\telse gy3=i,gx3=j;\\n\\n      }\\n\\n      cost[i][j]=inf;\\n\\n    }\\n\\n  }\\n\\n  int tail=0,head=0;\\n\\n  q[tail++]=sx3+sy3*c;\\n\\n  cost[sy3][sx3]=0;\\n\\n  while(head != tail){\\n\\n    int now = q[head++];\\n\\n    int x = now%c,y=now/c;\\n\\n    if (x == gx3 && y == gy3){\\n\\n      return cost[y][x];\\n\\n    }\\n\\n    rep(i,4){\\n\\n      int nex=x+dx[i],ney=y+dy[i];\\n\\n      if (nex==-1||ney==-1||nex==c||ney==r||vis2[ney][nex])continue;\\n\\n      if (m[ney][nex]==1||m[ney][nex] == utar)continue;\\n\\n      if (cost[ney][nex] != inf)continue;\\n\\n      cost[ney][nex]=cost[y][x]+1;\\n\\n      q[tail++]=ney*c+nex;\\n\\n    }\\n\\n  }\\n\\n  return false;\\n\\n}\\n\\n\\n\\nmain(){\\n\\n  int r,c;\\n\\n  while(cin>>r>>c && r){\\n\\n    ans = r*c;\\n\\n    isgoal=false;\\n\\n    rep(i,r)rep(j,c)cin>>m[i][j];\\n\\n    rep(i,r)rep(j,c)vis2[i][j]=false;\\n\\n   \\n\\n    int sx2=-1,sy2=-1;\\n\\n    int gx2=-1,gy2=-1;\\n\\n    rep(i,r){\\n\\n      rep(j,c){\\n\\n\\tif (m[i][j] == 2){\\n\\n\\t  if (sx2 == -1)sx2=j,sy2=i;\\n\\n\\t  else gx2=j,gy2=i;\\n\\n\\t}\\n\\n      }\\n\\n    }\\n\\n    \\n\\n    int sx3=-1,sy3=-1,gx3=-1,gy3=-1;\\n\\n    rep(i,r){\\n\\n      rep(j,c){\\n\\n\\tif (m[i][j] == 3){\\n\\n\\t  if (sx3 == -1)sx3=j,sy3=i;\\n\\n\\t  else gx3=j,gy3=i;\\n\\n\\t}\\n\\n      }\\n\\n    }\\n\\n\\n\\n    md=bfs2(r,c,3,2);\\n\\n    \\n\\n    dfs(r,c,sy2,sx2,0,-1,gy2,gx2);\\n\\n    \\n\\n    if (isgoal)cout << ans << endl;\\n\\n    else cout << 0 << endl;\\n\\n  }\\n\\n  return false;\\n\\n}\", \"problem_id\": \"p00849\"}\n9:{\"original_code\": \"#include<iostream>\\n\\n#include<algorithm>\\n\\nusing namespace std;\\n\\n#define REP(i,b,n) for(int i=b;i<n;i++)\\n\\n#define rep(i,n)   REP(i,0,n)\\n\\n\\n\\nconst int N = 9;\\n\\nconst int inf = (1 <<21);\\n\\n\\n\\nint dx[]={0,1, 0,-1};\\n\\nint dy[]={1,0,-1,0};\\n\\nint op[]={2,3, 0,1};\\n\\nint m[N][N];\\n\\nbool vis2[N][N];\\n\\n\\n\\nbool isok(int r,int c,int y,int x,int last){\\n\\n  rep(i,4){\\n\\n    if (op[i] == last)continue;\\n\\n    int nex=x+dx[i],ney=y+dy[i];\\n\\n    if (nex==-1||ney==-1||nex==c||ney==r)continue;\\n\\n    if (vis2[ney][nex])return false;\\n\\n  }\\n\\n  return true;\\n\\n}\\n\\n\\n\\nvoid output(int r,int c){\\n\\n  cout << \\\"begin\\\"<<endl;\\n\\n  rep(i,r){\\n\\n    rep(j,c){\\n\\n      if (vis2[i][j])cout << 2;\\n\\n      else cout << '0';\\n\\n    }\\n\\n    cout << endl;\\n\\n  }\\n\\n  cout <<endl;\\n\\n}\\n\\n\\n\\n\\n\\nint ans;\\n\\nbool isgoal;\\n\\nint md;\\n\\nbool bfs(int r,int c,int cnt,bool goal2){\\n\\n  static int q[N*N];\\n\\n  static int cost[N][N];\\n\\n  int sy3=-1,sx3=-1,gy3=-1,gx3=-1;\\n\\n  rep(i,r){\\n\\n    rep(j,c){\\n\\n      if (m[i][j] == 3){\\n\\n\\tif (sy3==-1)sy3=i,sx3=j;\\n\\n\\telse gy3=i,gx3=j;\\n\\n      }\\n\\n      cost[i][j]=inf;\\n\\n    }\\n\\n  }\\n\\n  int tail=0,head=0;\\n\\n  q[tail++]=sx3+sy3*c;\\n\\n  cost[sy3][sx3]=0;\\n\\n  while(head != tail){\\n\\n    int now = q[head++];\\n\\n    int x = now%c,y=now/c;\\n\\n    if (cnt+cost[y][x] >= ans)return false;\\n\\n    if (x == gx3 && y == gy3){\\n\\n      if (goal2)return true;\\n\\n      isgoal=true;\\n\\n      ans =min(ans,cnt+cost[y][x]);\\n\\n      return true;\\n\\n    }\\n\\n    rep(i,4){\\n\\n      int nex=x+dx[i],ney=y+dy[i];\\n\\n      if (nex==-1||ney==-1||nex==c||ney==r||vis2[ney][nex])continue;\\n\\n      if (m[ney][nex]==1||m[ney][nex] == 2)continue;\\n\\n      if (cost[ney][nex] != inf)continue;\\n\\n      cost[ney][nex]=cost[y][x]+1;\\n\\n      q[tail++]=ney*c+nex;\\n\\n    }\\n\\n  }\\n\\n  return false;\\n\\n}\\n\\n\\n\\nbool bfs2(int r,int c,int cnt,int sy,int sx){\\n\\n  static int q[N*N];\\n\\n  static int cost[N][N];\\n\\n  int sy3=-1,sx3=-1,gy3=-1,gx3=-1;\\n\\n  rep(i,r){\\n\\n    rep(j,c){\\n\\n      if (m[i][j] == 2){\\n\\n\\tif (sy3==-1)sy3=i,sx3=j;\\n\\n\\telse gy3=i,gx3=j;\\n\\n      }\\n\\n      cost[i][j]=inf;\\n\\n    }\\n\\n  }\\n\\n  int tail=0,head=0;\\n\\n  q[tail++]=sx+sy*c;\\n\\n  cost[sy][sx]=0;\\n\\n  while(head != tail){\\n\\n    int now = q[head++];\\n\\n    int x = now%c,y=now/c;\\n\\n    if (cnt+cost[y][x] >= ans)return false;\\n\\n    if (x == gx3 && y == gy3){\\n\\n      return true;\\n\\n    }\\n\\n    rep(i,4){\\n\\n      int nex=x+dx[i],ney=y+dy[i];\\n\\n      if (nex==-1||ney==-1||nex==c||ney==r||vis2[ney][nex])continue;\\n\\n      if (m[ney][nex]==1||m[ney][nex] == 3)continue;\\n\\n      if (cost[ney][nex] != inf)continue;\\n\\n      cost[ney][nex]=cost[y][x]+1;\\n\\n      q[tail++]=ney*c+nex;\\n\\n    }\\n\\n  }\\n\\n  return false;\\n\\n}\\n\\n\\n\\n\\n\\nint path[N*N];\\n\\nint pattern[8][4]={\\n\\n  {2,1,1,0,},\\n\\n  {1,0,0,3,},\\n\\n  {0,3,3,2,},\\n\\n  {3,2,2,1,},\\n\\n  {2,3,3,0,},\\n\\n  {1,2,2,3,},\\n\\n  {0,1,1,2,},\\n\\n  {3,0,0,1,},\\n\\n};\\n\\n\\n\\nint cx[]={-1, 0,1, 0, 1, 0,-1, 0};\\n\\nint cy[]={ 0,-1,0, 1, 0, 1, 0,-1};\\n\\n\\n\\nbool isok2(int r,int c,int y,int x,int p){\\n\\n  if (p <4)return true;\\n\\n  rep(i,8){\\n\\n    bool ismatch=true;\\n\\n    rep(j,4){\\n\\n      if (pattern[i][j] == path[p-(4-j)]);\\n\\n      else ismatch=false;\\n\\n    }\\n\\n    if (!ismatch)continue;\\n\\n    int nex=x+cx[i],ney=y+cy[i];\\n\\n    if (nex==-1||ney==-1||nex==c||ney==r)continue;\\n\\n    if (m[ney][nex] == 0 && !vis2[ney][nex])return false;\\n\\n\\n\\n  }\\n\\n  return true;\\n\\n}\\n\\n\\n\\nvoid dfs(int r,int c,int y,int x,int cnt,int last,int gy2,int gx2){\\n\\n  if (!isok(r,c,y,x,last)){\\n\\n    return;\\n\\n  }\\n\\n  if (!isok2(r,c,y,x,cnt))return;\\n\\n\\n\\n  if (cnt+md >= ans)return;\\n\\n  if (!bfs(r,c,cnt,true))return;\\n\\n\\n\\n  //  if (!bfs2(r,c,cnt,gy2,gx2))return;\\n\\n\\n\\n  /*\\n\\n  for(int i=0;cnt >=5 && i<5;i++){\\n\\n    cout << path[cnt-5+i]<<\\\" \\\";\\n\\n  }\\n\\n  cout << endl;\\n\\n  vis2[y][x]=true;\\n\\n  output(r,c);\\n\\n  vis2[y][x]=false;\\n\\n  */      \\n\\n\\n\\n  if (x == gx2 && y == gy2){\\n\\n    vis2[y][x]=true;\\n\\n    bfs(r,c,cnt,false);\\n\\n    vis2[y][x]=false;\\n\\n    return;\\n\\n  }\\n\\n\\n\\n  vis2[y][x]=true;\\n\\n  rep(i,4){\\n\\n    if (op[i] == last)continue;\\n\\n    int nex=x+dx[i],ney=y+dy[i];\\n\\n    if (nex==-1||ney==-1||nex==c||ney==r||vis2[ney][nex])continue;\\n\\n    if (m[ney][nex] == 3 || m[ney][nex] == 1)continue;\\n\\n    path[cnt]=i;\\n\\n    dfs(r,c,ney,nex,cnt+1,i,gy2,gx2);\\n\\n  }\\n\\n  vis2[y][x]=false;\\n\\n}\\n\\n\\n\\nint bfs2(int r,int c,int tar,int utar){\\n\\n  static int q[N*N];\\n\\n  static int cost[N][N];\\n\\n  int sy3=-1,sx3=-1,gy3=-1,gx3=-1;\\n\\n  rep(i,r){\\n\\n    rep(j,c){\\n\\n      if (m[i][j] == tar){\\n\\n\\tif (sy3==-1)sy3=i,sx3=j;\\n\\n\\telse gy3=i,gx3=j;\\n\\n      }\\n\\n      cost[i][j]=inf;\\n\\n    }\\n\\n  }\\n\\n  int tail=0,head=0;\\n\\n  q[tail++]=sx3+sy3*c;\\n\\n  cost[sy3][sx3]=0;\\n\\n  while(head != tail){\\n\\n    int now = q[head++];\\n\\n    int x = now%c,y=now/c;\\n\\n    if (x == gx3 && y == gy3){\\n\\n      return cost[y][x];\\n\\n    }\\n\\n    rep(i,4){\\n\\n      int nex=x+dx[i],ney=y+dy[i];\\n\\n      if (nex==-1||ney==-1||nex==c||ney==r||vis2[ney][nex])continue;\\n\\n      if (m[ney][nex]==1||m[ney][nex] == utar)continue;\\n\\n      if (cost[ney][nex] != inf)continue;\\n\\n      cost[ney][nex]=cost[y][x]+1;\\n\\n      q[tail++]=ney*c+nex;\\n\\n    }\\n\\n  }\\n\\n  return false;\\n\\n}\\n\\n\\n\\nmain(){\\n\\n  int r,c;\\n\\n  while(cin>>r>>c && r){\\n\\n    ans = r*c;\\n\\n    isgoal=false;\\n\\n    rep(i,r)rep(j,c)cin>>m[i][j];\\n\\n    rep(i,r)rep(j,c)vis2[i][j]=false;\\n\\n   \\n\\n    int sx2=-1,sy2=-1;\\n\\n    int gx2=-1,gy2=-1;\\n\\n    rep(i,r){\\n\\n      rep(j,c){\\n\\n\\tif (m[i][j] == 2){\\n\\n\\t  if (sx2 == -1)sx2=j,sy2=i;\\n\\n\\t  else gx2=j,gy2=i;\\n\\n\\t}\\n\\n      }\\n\\n    }\\n\\n    \\n\\n    int sx3=-1,sy3=-1,gx3=-1,gy3=-1;\\n\\n    rep(i,r){\\n\\n      rep(j,c){\\n\\n\\tif (m[i][j] == 3){\\n\\n\\t  if (sx3 == -1)sx3=j,sy3=i;\\n\\n\\t  else gx3=j,gy3=i;\\n\\n\\t}\\n\\n      }\\n\\n    }\\n\\n\\n\\n    md=bfs2(r,c,3,2);\\n\\n    \\n\\n    dfs(r,c,sy2,sx2,0,-1,gy2,gx2);\\n\\n    \\n\\n    if (isgoal)cout << ans << endl;\\n\\n    else cout << 0 << endl;\\n\\n  }\\n\\n  return false;\\n\\n}\", \"improved_code\": \"#include<iostream>\\n\\n#include<algorithm>\\n\\nusing namespace std;\\n\\n#define REP(i,b,n) for(int i=b;i<n;i++)\\n\\n#define rep(i,n)   REP(i,0,n)\\n\\n\\n\\nconst int N = 9;\\n\\nconst int inf = (1 <<21);\\n\\n\\n\\nint dx[]={0,1, 0,-1};\\n\\nint dy[]={1,0,-1,0};\\n\\nint op[]={2,3, 0,1};\\n\\nint m[N][N];\\n\\nbool vis2[N][N];\\n\\n\\n\\nbool isok(int r,int c,int y,int x,int last){\\n\\n  rep(i,4){\\n\\n    if (op[i] == last)continue;\\n\\n    int nex=x+dx[i],ney=y+dy[i];\\n\\n    if (nex==-1||ney==-1||nex==c||ney==r)continue;\\n\\n    if (vis2[ney][nex])return false;\\n\\n  }\\n\\n  return true;\\n\\n}\\n\\n\\n\\nvoid output(int r,int c){\\n\\n  cout << \\\"begin\\\"<<endl;\\n\\n  rep(i,r){\\n\\n    rep(j,c){\\n\\n      if (vis2[i][j])cout << 2;\\n\\n      else cout << '0';\\n\\n    }\\n\\n    cout << endl;\\n\\n  }\\n\\n  cout <<endl;\\n\\n}\\n\\n\\n\\n\\n\\nint ans;\\n\\nbool isgoal;\\n\\nint md;\\n\\nbool bfs(int r,int c,int cnt,bool goal2){\\n\\n  static int q[N*N];\\n\\n  static int cost[N][N];\\n\\n  int sy3=-1,sx3=-1,gy3=-1,gx3=-1;\\n\\n  rep(i,r){\\n\\n    rep(j,c){\\n\\n      if (m[i][j] == 3){\\n\\n\\tif (sy3==-1)sy3=i,sx3=j;\\n\\n\\telse gy3=i,gx3=j;\\n\\n      }\\n\\n      cost[i][j]=inf;\\n\\n    }\\n\\n  }\\n\\n  int tail=0,head=0;\\n\\n  q[tail++]=sx3+sy3*c;\\n\\n  cost[sy3][sx3]=0;\\n\\n  while(head != tail){\\n\\n    int now = q[head++];\\n\\n    int x = now%c,y=now/c;\\n\\n    if (cnt+cost[y][x] >= ans)return false;\\n\\n    if (x == gx3 && y == gy3){\\n\\n      if (goal2)return true;\\n\\n      isgoal=true;\\n\\n      ans =min(ans,cnt+cost[y][x]);\\n\\n      return true;\\n\\n    }\\n\\n    rep(i,4){\\n\\n      int nex=x+dx[i],ney=y+dy[i];\\n\\n      if (nex==-1||ney==-1||nex==c||ney==r||vis2[ney][nex])continue;\\n\\n      if (m[ney][nex]==1||m[ney][nex] == 2)continue;\\n\\n      if (cost[ney][nex] != inf)continue;\\n\\n      cost[ney][nex]=cost[y][x]+1;\\n\\n      q[tail++]=ney*c+nex;\\n\\n    }\\n\\n  }\\n\\n  return false;\\n\\n}\\n\\n\\n\\nint path[N*N];\\n\\nint pattern[8][4]={\\n\\n  {2,1,1,0,},\\n\\n  {1,0,0,3,},\\n\\n  {0,3,3,2,},\\n\\n  {3,2,2,1,},\\n\\n  {2,3,3,0,},\\n\\n  {1,2,2,3,},\\n\\n  {0,1,1,2,},\\n\\n  {3,0,0,1,},\\n\\n};\\n\\n\\n\\nint cx[]={-1, 0,1, 0, 1, 0,-1, 0};\\n\\nint cy[]={ 0,-1,0, 1, 0, 1, 0,-1};\\n\\n\\n\\nbool isok2(int r,int c,int y,int x,int p){\\n\\n  if (p <4)return true;\\n\\n  rep(i,8){\\n\\n    bool ismatch=true;\\n\\n    rep(j,4){\\n\\n      if (pattern[i][j] == path[p-(4-j)]);\\n\\n      else ismatch=false;\\n\\n    }\\n\\n    if (!ismatch)continue;\\n\\n    int nex=x+cx[i],ney=y+cy[i];\\n\\n    if (nex==-1||ney==-1||nex==c||ney==r)continue;\\n\\n    if (m[ney][nex] == 0 && !vis2[ney][nex])return false;\\n\\n\\n\\n  }\\n\\n  return true;\\n\\n}\\n\\n\\n\\nvoid dfs(int r,int c,int y,int x,int cnt,int last,int gy2,int gx2){\\n\\n  if (!isok(r,c,y,x,last)){\\n\\n    return;\\n\\n  }\\n\\n  if (!isok2(r,c,y,x,cnt))return;\\n\\n\\n\\n  if (cnt+md >= ans)return;\\n\\n  //  if (!bfs(r,c,cnt,true))return;\\n\\n\\n\\n  if (x == gx2 && y == gy2){\\n\\n    vis2[y][x]=true;\\n\\n    bfs(r,c,cnt,false);\\n\\n    vis2[y][x]=false;\\n\\n    return;\\n\\n  }\\n\\n\\n\\n  vis2[y][x]=true;\\n\\n  rep(i,4){\\n\\n    if (op[i] == last)continue;\\n\\n    int nex=x+dx[i],ney=y+dy[i];\\n\\n    if (nex==-1||ney==-1||nex==c||ney==r||vis2[ney][nex])continue;\\n\\n    if (m[ney][nex] == 3 || m[ney][nex] == 1)continue;\\n\\n    path[cnt]=i;\\n\\n    dfs(r,c,ney,nex,cnt+1,i,gy2,gx2);\\n\\n  }\\n\\n  vis2[y][x]=false;\\n\\n}\\n\\n\\n\\nint bfs2(int r,int c,int tar,int utar){\\n\\n  static int q[N*N];\\n\\n  static int cost[N][N];\\n\\n  int sy3=-1,sx3=-1,gy3=-1,gx3=-1;\\n\\n  rep(i,r){\\n\\n    rep(j,c){\\n\\n      if (m[i][j] == tar){\\n\\n\\tif (sy3==-1)sy3=i,sx3=j;\\n\\n\\telse gy3=i,gx3=j;\\n\\n      }\\n\\n      cost[i][j]=inf;\\n\\n    }\\n\\n  }\\n\\n  int tail=0,head=0;\\n\\n  q[tail++]=sx3+sy3*c;\\n\\n  cost[sy3][sx3]=0;\\n\\n  while(head != tail){\\n\\n    int now = q[head++];\\n\\n    int x = now%c,y=now/c;\\n\\n    if (x == gx3 && y == gy3){\\n\\n      return cost[y][x];\\n\\n    }\\n\\n    rep(i,4){\\n\\n      int nex=x+dx[i],ney=y+dy[i];\\n\\n      if (nex==-1||ney==-1||nex==c||ney==r||vis2[ney][nex])continue;\\n\\n      if (m[ney][nex]==1||m[ney][nex] == utar)continue;\\n\\n      if (cost[ney][nex] != inf)continue;\\n\\n      cost[ney][nex]=cost[y][x]+1;\\n\\n      q[tail++]=ney*c+nex;\\n\\n    }\\n\\n  }\\n\\n  return false;\\n\\n}\\n\\n\\n\\nmain(){\\n\\n  int r,c;\\n\\n  while(cin>>r>>c && r){\\n\\n    ans = r*c;\\n\\n    isgoal=false;\\n\\n    rep(i,r)rep(j,c)cin>>m[i][j];\\n\\n    rep(i,r)rep(j,c)vis2[i][j]=false;\\n\\n   \\n\\n    int sx2=-1,sy2=-1;\\n\\n    int gx2=-1,gy2=-1;\\n\\n    rep(i,r){\\n\\n      rep(j,c){\\n\\n\\tif (m[i][j] == 2){\\n\\n\\t  if (sx2 == -1)sx2=j,sy2=i;\\n\\n\\t  else gx2=j,gy2=i;\\n\\n\\t}\\n\\n      }\\n\\n    }\\n\\n    \\n\\n    int sx3=-1,sy3=-1,gx3=-1,gy3=-1;\\n\\n    rep(i,r){\\n\\n      rep(j,c){\\n\\n\\tif (m[i][j] == 3){\\n\\n\\t  if (sx3 == -1)sx3=j,sy3=i;\\n\\n\\t  else gx3=j,gy3=i;\\n\\n\\t}\\n\\n      }\\n\\n    }\\n\\n\\n\\n    md=bfs2(r,c,3,2);\\n\\n    \\n\\n    dfs(r,c,sy2,sx2,0,-1,gy2,gx2);\\n\\n    \\n\\n    if (isgoal)cout << ans << endl;\\n\\n    else cout << 0 << endl;\\n\\n  }\\n\\n  return false;\\n\\n}\", \"problem_id\": \"p00849\"}\n10:{\"original_code\": \"#include<iostream>\\n\\n#include<algorithm>\\n\\nusing namespace std;\\n\\n#define REP(i,b,n) for(int i=b;i<n;i++)\\n\\n#define rep(i,n)   REP(i,0,n)\\n\\n\\n\\nconst int N = 9;\\n\\nconst int inf = (1 <<21);\\n\\n\\n\\nint dx[]={0,1, 0,-1};\\n\\nint dy[]={1,0,-1,0};\\n\\nint op[]={2,3, 0,1};\\n\\nint m[N][N];\\n\\nbool vis2[N][N];\\n\\n\\n\\nbool isok(int r,int c,int y,int x,int last){\\n\\n  rep(i,4){\\n\\n    if (op[i] == last)continue;\\n\\n    int nex=x+dx[i],ney=y+dy[i];\\n\\n    if (nex==-1||ney==-1||nex==c||ney==r)continue;\\n\\n    if (vis2[ney][nex])return false;\\n\\n  }\\n\\n  return true;\\n\\n}\\n\\n\\n\\nvoid output(int r,int c){\\n\\n  cout << \\\"begin\\\"<<endl;\\n\\n  rep(i,r){\\n\\n    rep(j,c){\\n\\n      if (vis2[i][j])cout << 2;\\n\\n      else cout << '0';\\n\\n    }\\n\\n    cout << endl;\\n\\n  }\\n\\n  cout <<endl;\\n\\n}\\n\\n\\n\\n\\n\\nint ans;\\n\\nbool isgoal;\\n\\nint md;\\n\\nbool bfs(int r,int c,int cnt,bool goal2){\\n\\n  static int q[N*N];\\n\\n  static int cost[N][N];\\n\\n  int sy3=-1,sx3=-1,gy3=-1,gx3=-1;\\n\\n  rep(i,r){\\n\\n    rep(j,c){\\n\\n      if (m[i][j] == 3){\\n\\n\\tif (sy3==-1)sy3=i,sx3=j;\\n\\n\\telse gy3=i,gx3=j;\\n\\n      }\\n\\n      cost[i][j]=inf;\\n\\n    }\\n\\n  }\\n\\n  int tail=0,head=0;\\n\\n  q[tail++]=sx3+sy3*c;\\n\\n  cost[sy3][sx3]=0;\\n\\n  while(head != tail){\\n\\n    int now = q[head++];\\n\\n    int x = now%c,y=now/c;\\n\\n    if (cnt+cost[y][x] >= ans)return false;\\n\\n    if (x == gx3 && y == gy3){\\n\\n      if (goal2)return true;\\n\\n      isgoal=true;\\n\\n      ans =min(ans,cnt+cost[y][x]);\\n\\n      return true;\\n\\n    }\\n\\n    rep(i,4){\\n\\n      int nex=x+dx[i],ney=y+dy[i];\\n\\n      if (nex==-1||ney==-1||nex==c||ney==r||vis2[ney][nex])continue;\\n\\n      if (m[ney][nex]==1||m[ney][nex] == 2)continue;\\n\\n      if (cost[ney][nex] != inf)continue;\\n\\n      cost[ney][nex]=cost[y][x]+1;\\n\\n      q[tail++]=ney*c+nex;\\n\\n    }\\n\\n  }\\n\\n  return false;\\n\\n}\\n\\n\\n\\nint path[N*N];\\n\\nint pattern[8][4]={\\n\\n  {2,1,1,0,},\\n\\n  {1,0,0,3,},\\n\\n  {0,3,3,2,},\\n\\n  {3,2,2,1,},\\n\\n  {2,3,3,0,},\\n\\n  {1,2,2,3,},\\n\\n  {0,1,1,2,},\\n\\n  {3,0,0,1,},\\n\\n};\\n\\n\\n\\nint cx[]={-1, 0,1, 0, 1, 0,-1, 0};\\n\\nint cy[]={ 0,-1,0, 1, 0, 1, 0,-1};\\n\\n\\n\\nbool isok2(int r,int c,int y,int x,int p){\\n\\n  if (p <4)return true;\\n\\n  rep(i,8){\\n\\n    bool ismatch=true;\\n\\n    rep(j,4){\\n\\n      if (pattern[i][j] == path[p-(4-j)]);\\n\\n      else ismatch=false;\\n\\n    }\\n\\n    if (!ismatch)continue;\\n\\n    int nex=x+cx[i],ney=y+cy[i];\\n\\n    if (nex==-1||ney==-1||nex==c||ney==r)continue;\\n\\n    if (m[ney][nex] == 0 && !vis2[ney][nex])return false;\\n\\n\\n\\n  }\\n\\n  return true;\\n\\n}\\n\\n\\n\\nvoid dfs(int r,int c,int y,int x,int cnt,int last,int gy2,int gx2){\\n\\n  if (!isok(r,c,y,x,last)){\\n\\n    return;\\n\\n  }\\n\\n  if (!isok2(r,c,y,x,cnt))return;\\n\\n\\n\\n  if (cnt+md >= ans)return;\\n\\n  //  if (!bfs(r,c,cnt,true))return;\\n\\n\\n\\n  if (x == gx2 && y == gy2){\\n\\n    vis2[y][x]=true;\\n\\n    bfs(r,c,cnt,false);\\n\\n    vis2[y][x]=false;\\n\\n    return;\\n\\n  }\\n\\n\\n\\n  vis2[y][x]=true;\\n\\n  rep(i,4){\\n\\n    if (op[i] == last)continue;\\n\\n    int nex=x+dx[i],ney=y+dy[i];\\n\\n    if (nex==-1||ney==-1||nex==c||ney==r||vis2[ney][nex])continue;\\n\\n    if (m[ney][nex] == 3 || m[ney][nex] == 1)continue;\\n\\n    path[cnt]=i;\\n\\n    dfs(r,c,ney,nex,cnt+1,i,gy2,gx2);\\n\\n  }\\n\\n  vis2[y][x]=false;\\n\\n}\\n\\n\\n\\nint bfs2(int r,int c,int tar,int utar){\\n\\n  static int q[N*N];\\n\\n  static int cost[N][N];\\n\\n  int sy3=-1,sx3=-1,gy3=-1,gx3=-1;\\n\\n  rep(i,r){\\n\\n    rep(j,c){\\n\\n      if (m[i][j] == tar){\\n\\n\\tif (sy3==-1)sy3=i,sx3=j;\\n\\n\\telse gy3=i,gx3=j;\\n\\n      }\\n\\n      cost[i][j]=inf;\\n\\n    }\\n\\n  }\\n\\n  int tail=0,head=0;\\n\\n  q[tail++]=sx3+sy3*c;\\n\\n  cost[sy3][sx3]=0;\\n\\n  while(head != tail){\\n\\n    int now = q[head++];\\n\\n    int x = now%c,y=now/c;\\n\\n    if (x == gx3 && y == gy3){\\n\\n      return cost[y][x];\\n\\n    }\\n\\n    rep(i,4){\\n\\n      int nex=x+dx[i],ney=y+dy[i];\\n\\n      if (nex==-1||ney==-1||nex==c||ney==r||vis2[ney][nex])continue;\\n\\n      if (m[ney][nex]==1||m[ney][nex] == utar)continue;\\n\\n      if (cost[ney][nex] != inf)continue;\\n\\n      cost[ney][nex]=cost[y][x]+1;\\n\\n      q[tail++]=ney*c+nex;\\n\\n    }\\n\\n  }\\n\\n  return false;\\n\\n}\\n\\n\\n\\nmain(){\\n\\n  int r,c;\\n\\n  while(cin>>r>>c && r){\\n\\n    ans = r*c;\\n\\n    isgoal=false;\\n\\n    rep(i,r)rep(j,c)cin>>m[i][j];\\n\\n    rep(i,r)rep(j,c)vis2[i][j]=false;\\n\\n   \\n\\n    int sx2=-1,sy2=-1;\\n\\n    int gx2=-1,gy2=-1;\\n\\n    rep(i,r){\\n\\n      rep(j,c){\\n\\n\\tif (m[i][j] == 2){\\n\\n\\t  if (sx2 == -1)sx2=j,sy2=i;\\n\\n\\t  else gx2=j,gy2=i;\\n\\n\\t}\\n\\n      }\\n\\n    }\\n\\n    \\n\\n    int sx3=-1,sy3=-1,gx3=-1,gy3=-1;\\n\\n    rep(i,r){\\n\\n      rep(j,c){\\n\\n\\tif (m[i][j] == 3){\\n\\n\\t  if (sx3 == -1)sx3=j,sy3=i;\\n\\n\\t  else gx3=j,gy3=i;\\n\\n\\t}\\n\\n      }\\n\\n    }\\n\\n\\n\\n    md=bfs2(r,c,3,2);\\n\\n    \\n\\n    dfs(r,c,sy2,sx2,0,-1,gy2,gx2);\\n\\n    \\n\\n    if (isgoal)cout << ans << endl;\\n\\n    else cout << 0 << endl;\\n\\n  }\\n\\n  return false;\\n\\n}\", \"improved_code\": \"#include<iostream>\\n\\n#include<algorithm>\\n\\nusing namespace std;\\n\\n#define REP(i,b,n) for(int i=b;i<n;i++)\\n\\n#define rep(i,n)   REP(i,0,n)\\n\\n\\n\\nconst int N = 9;\\n\\nconst int inf = (1 <<21);\\n\\n\\n\\nint dx[]={0,1, 0,-1};\\n\\nint dy[]={1,0,-1,0};\\n\\nint op[]={2,3, 0,1};\\n\\nint m[N][N];\\n\\nbool vis2[N][N];\\n\\n\\n\\nbool isok(int r,int c,int y,int x,int last){\\n\\n  rep(i,4){\\n\\n    if (op[i] == last)continue;\\n\\n    int nex=x+dx[i],ney=y+dy[i];\\n\\n    if (nex==-1||ney==-1||nex==c||ney==r)continue;\\n\\n    if (vis2[ney][nex])return false;\\n\\n  }\\n\\n  return true;\\n\\n}\\n\\n\\n\\nint ans;\\n\\nbool isgoal;\\n\\nint md;\\n\\nbool bfs(int r,int c,int cnt,bool goal2){\\n\\n  static int q[N*N];\\n\\n  static int cost[N][N];\\n\\n  int sy3=-1,sx3=-1,gy3=-1,gx3=-1;\\n\\n  rep(i,r){\\n\\n    rep(j,c){\\n\\n      if (m[i][j] == 3){\\n\\n\\tif (sy3==-1)sy3=i,sx3=j;\\n\\n\\telse gy3=i,gx3=j;\\n\\n      }\\n\\n      cost[i][j]=inf;\\n\\n    }\\n\\n  }\\n\\n  int tail=0,head=0;\\n\\n  q[tail++]=sx3+sy3*c;\\n\\n  cost[sy3][sx3]=0;\\n\\n  while(head != tail){\\n\\n    int now = q[head++];\\n\\n    int x = now%c,y=now/c;\\n\\n    if (cnt+cost[y][x] >= ans)return false;\\n\\n    if (x == gx3 && y == gy3){\\n\\n      if (goal2)return true;\\n\\n      isgoal=true;\\n\\n      ans =min(ans,cnt+cost[y][x]);\\n\\n      return true;\\n\\n    }\\n\\n    rep(i,4){\\n\\n      int nex=x+dx[i],ney=y+dy[i];\\n\\n      if (nex==-1||ney==-1||nex==c||ney==r||vis2[ney][nex])continue;\\n\\n      if (m[ney][nex]==1||m[ney][nex] == 2)continue;\\n\\n      if (cost[ney][nex] != inf)continue;\\n\\n      cost[ney][nex]=cost[y][x]+1;\\n\\n      q[tail++]=ney*c+nex;\\n\\n    }\\n\\n  }\\n\\n  return false;\\n\\n}\\n\\n\\n\\nint path[N*N];\\n\\nint pattern[8][4]={\\n\\n  {2,1,1,0,},\\n\\n  {1,0,0,3,},\\n\\n  {0,3,3,2,},\\n\\n  {3,2,2,1,},\\n\\n  {2,3,3,0,},\\n\\n  {1,2,2,3,},\\n\\n  {0,1,1,2,},\\n\\n  {3,0,0,1,},\\n\\n};\\n\\n\\n\\nint cx[]={-1, 0,1, 0, 1, 0,-1, 0};\\n\\nint cy[]={ 0,-1,0, 1, 0, 1, 0,-1};\\n\\n\\n\\nbool isok2(int r,int c,int y,int x,int p){\\n\\n  if (p <4)return true;\\n\\n  rep(i,8){\\n\\n    bool ismatch=true;\\n\\n    rep(j,4){\\n\\n      if (pattern[i][j] == path[p-(4-j)]);\\n\\n      else ismatch=false;\\n\\n    }\\n\\n    if (!ismatch)continue;\\n\\n    int nex=x+cx[i],ney=y+cy[i];\\n\\n    if (nex==-1||ney==-1||nex==c||ney==r)continue;\\n\\n    if (m[ney][nex] == 0 && !vis2[ney][nex])return false;\\n\\n\\n\\n  }\\n\\n  return true;\\n\\n}\\n\\n\\n\\nvoid dfs(int r,int c,int y,int x,int cnt,int last,int gy2,int gx2){\\n\\n  if (!isok(r,c,y,x,last)){\\n\\n    return;\\n\\n  }\\n\\n  if (!isok2(r,c,y,x,cnt))return;\\n\\n\\n\\n  if (cnt+md >= ans)return;\\n\\n  //  if (!bfs(r,c,cnt,true))return;\\n\\n\\n\\n  if (x == gx2 && y == gy2){\\n\\n    vis2[y][x]=true;\\n\\n    bfs(r,c,cnt,false);\\n\\n    vis2[y][x]=false;\\n\\n    return;\\n\\n  }\\n\\n\\n\\n  vis2[y][x]=true;\\n\\n  rep(i,4){\\n\\n    if (op[i] == last)continue;\\n\\n    int nex=x+dx[i],ney=y+dy[i];\\n\\n    if (nex==-1||ney==-1||nex==c||ney==r||vis2[ney][nex])continue;\\n\\n    if (m[ney][nex] == 3 || m[ney][nex] == 1)continue;\\n\\n    path[cnt]=i;\\n\\n    dfs(r,c,ney,nex,cnt+1,i,gy2,gx2);\\n\\n  }\\n\\n  vis2[y][x]=false;\\n\\n}\\n\\n\\n\\nint bfs2(int r,int c,int tar,int utar){\\n\\n  static int q[N*N];\\n\\n  static int cost[N][N];\\n\\n  int sy3=-1,sx3=-1,gy3=-1,gx3=-1;\\n\\n  rep(i,r){\\n\\n    rep(j,c){\\n\\n      if (m[i][j] == tar){\\n\\n\\tif (sy3==-1)sy3=i,sx3=j;\\n\\n\\telse gy3=i,gx3=j;\\n\\n      }\\n\\n      cost[i][j]=inf;\\n\\n    }\\n\\n  }\\n\\n  int tail=0,head=0;\\n\\n  q[tail++]=sx3+sy3*c;\\n\\n  cost[sy3][sx3]=0;\\n\\n  while(head != tail){\\n\\n    int now = q[head++];\\n\\n    int x = now%c,y=now/c;\\n\\n    if (x == gx3 && y == gy3){\\n\\n      return cost[y][x];\\n\\n    }\\n\\n    rep(i,4){\\n\\n      int nex=x+dx[i],ney=y+dy[i];\\n\\n      if (nex==-1||ney==-1||nex==c||ney==r||vis2[ney][nex])continue;\\n\\n      if (m[ney][nex]==1||m[ney][nex] == utar)continue;\\n\\n      if (cost[ney][nex] != inf)continue;\\n\\n      cost[ney][nex]=cost[y][x]+1;\\n\\n      q[tail++]=ney*c+nex;\\n\\n    }\\n\\n  }\\n\\n  return false;\\n\\n}\\n\\n\\n\\nmain(){\\n\\n  int r,c;\\n\\n  while(cin>>r>>c && r){\\n\\n    ans = r*c;\\n\\n    isgoal=false;\\n\\n    rep(i,r)rep(j,c)cin>>m[i][j];\\n\\n    rep(i,r)rep(j,c)vis2[i][j]=false;\\n\\n   \\n\\n    int sx2=-1,sy2=-1;\\n\\n    int gx2=-1,gy2=-1;\\n\\n    rep(i,r){\\n\\n      rep(j,c){\\n\\n\\tif (m[i][j] == 2){\\n\\n\\t  if (sx2 == -1)sx2=j,sy2=i;\\n\\n\\t  else gx2=j,gy2=i;\\n\\n\\t}\\n\\n      }\\n\\n    }\\n\\n    \\n\\n    int sx3=-1,sy3=-1,gx3=-1,gy3=-1;\\n\\n    rep(i,r){\\n\\n      rep(j,c){\\n\\n\\tif (m[i][j] == 3){\\n\\n\\t  if (sx3 == -1)sx3=j,sy3=i;\\n\\n\\t  else gx3=j,gy3=i;\\n\\n\\t}\\n\\n      }\\n\\n    }\\n\\n\\n\\n    md=bfs2(r,c,3,2);\\n\\n    \\n\\n    dfs(r,c,sy2,sx2,0,-1,gy2,gx2);\\n\\n    \\n\\n    if (isgoal)cout << ans << endl;\\n\\n    else cout << 0 << endl;\\n\\n  }\\n\\n  return false;\\n\\n}\", \"problem_id\": \"p00849\"}\n11:{\"original_code\": \"#include<cstdio>\\n\\n#include<cstring>\\n\\n#include<sys/time.h>\\n\\n\\n\\n#define rep(i,n) for(int i=0;i<(n);i++)\\n\\n\\n\\nusing namespace std;\\n\\n\\n\\ntypedef long long ll;\\n\\n\\n\\nll gettime(){\\n\\n\\tstruct timeval tv;\\n\\n\\tgettimeofday(&tv,NULL);\\n\\n\\treturn 1000000LL*tv.tv_sec+tv.tv_usec;\\n\\n}\\n\\n\\n\\nconst int dx[]={1,0,-1,0},dy[]={0,-1,0,1};\\n\\n\\n\\nint h,w,B[9][9];\\n\\n\\n\\nint x2,y2,x3,y3; // 2, 3 \\u305d\\u308c\\u305e\\u308c\\u306e\\u51fa\\u767a\\u70b9\\n\\n\\n\\nint bfs(int x,int y,int tar){\\n\\n\\tint d[9][9];\\n\\n\\tmemset(d,-1,sizeof d);\\n\\n\\td[y][x]=0;\\n\\n\\tint Q[81],head=0,tail=0; Q[tail++]=y*w+x;\\n\\n\\twhile(head<tail){\\n\\n\\t\\tint i=Q[head]/w,j=Q[head]%w; head++;\\n\\n\\t\\trep(k,4){\\n\\n\\t\\t\\tint yy=i+dy[k],xx=j+dx[k];\\n\\n\\t\\t\\tif(0<=yy && yy<h && 0<=xx && xx<w && d[yy][xx]==-1){\\n\\n\\t\\t\\t\\tif(B[yy][xx]==tar) return d[i][j]+1;\\n\\n\\t\\t\\t\\tif(B[yy][xx]== 0 ) Q[tail++]=yy*w+xx, d[yy][xx]=d[i][j]+1;\\n\\n\\t\\t\\t}\\n\\n\\t\\t}\\n\\n\\t}\\n\\n\\treturn 777;\\n\\n}\\n\\n\\n\\nll t0;\\n\\n\\n\\nint ans;\\n\\nvoid dfs(int x,int y,int now){\\n\\n\\tint hstar=bfs(x,y,2)+bfs(x3,y3,3);\\n\\n\\tif(ans<now+1+hstar) return;\\n\\n\\n\\n\\tif(ans==777){ // 3 \\u79d2\\u306e\\u9593\\u306b\\u4e00\\u3064\\u3082\\u89e3\\u304c\\u898b\\u3064\\u304b\\u3089\\u306a\\u3051\\u308c\\u3070\\u89e3\\u306a\\u3057\\n\\n\\t\\tll t1=gettime();\\n\\n\\t\\tif(t1-t0>3000000){ ans=0; return; }\\n\\n\\t}\\n\\n\\n\\n\\t// \\u3053\\u308c\\u307e\\u3067\\u306e\\u30d1\\u30b9\\u3068\\u63a5\\u3057\\u305f\\u3089\\u6700\\u9069\\u89e3\\u3067\\u306a\\u3044\\u306e\\u3067\\u63a2\\u7d22\\u6253\\u3061\\u5207\\u308a\\n\\n\\tint cnt=0;\\n\\n\\trep(k,4){\\n\\n\\t\\tint xx=x+dx[k],yy=y+dy[k];\\n\\n\\t\\tif(0<=xx && xx<w && 0<=yy && yy<h && B[yy][xx]==7) cnt++;\\n\\n\\t}\\n\\n\\tif(cnt>=2) return;\\n\\n\\n\\n\\trep(k,4){\\n\\n\\t\\tint xx=x+dx[k],yy=y+dy[k];\\n\\n\\t\\tif(0<=xx && xx<w && 0<=yy && yy<h){\\n\\n\\t\\t\\tif(B[yy][xx]==2){\\n\\n\\t\\t\\t\\tans=now+1+bfs(x3,y3,3);\\n\\n\\t\\t\\t\\treturn;\\n\\n\\t\\t\\t}\\n\\n\\t\\t\\telse if(B[yy][xx]==0){\\n\\n\\t\\t\\t\\tB[yy][xx]=7;\\n\\n\\t\\t\\t\\tdfs(xx,yy,now+1);\\n\\n\\t\\t\\t\\tB[yy][xx]=0;\\n\\n\\t\\t\\t}\\n\\n\\t\\t}\\n\\n\\t}\\n\\n}\\n\\n\\n\\nint main(){\\n\\n\\twhile(scanf(\\\"%d%d\\\",&h,&w),h){\\n\\n\\t\\trep(i,h) rep(j,w) scanf(\\\"%d\\\",B[i]+j);\\n\\n\\n\\n\\t\\trep(i,h) rep(j,w) {\\n\\n\\t\\t\\tif(B[i][j]==2) x2=j, y2=i;\\n\\n\\t\\t\\tif(B[i][j]==3) x3=j, y3=i;\\n\\n\\t\\t}\\n\\n\\t\\tB[y2][x2]=7; // \\u8a2a\\u554f\\u6e08\\u307f\\u306e\\u30de\\u30fc\\u30af\\n\\n\\n\\n\\t\\tt0=gettime();\\n\\n\\t\\tans=777;\\n\\n\\t\\tdfs(x2,y2,0);\\n\\n\\t\\tprintf(\\\"%d\\\\n\\\",ans<777?ans:0);\\n\\n\\t}\\n\\n\\n\\n\\treturn 0;\\n\\n}\", \"improved_code\": \"#include<cstdio>\\n\\n#include<cstring>\\n\\n#include<sys/time.h>\\n\\n\\n\\n#define rep(i,n) for(int i=0;i<(n);i++)\\n\\n\\n\\nusing namespace std;\\n\\n\\n\\ntypedef long long ll;\\n\\n\\n\\nll gettime(){\\n\\n\\tstruct timeval tv;\\n\\n\\tgettimeofday(&tv,NULL);\\n\\n\\treturn 1000000LL*tv.tv_sec+tv.tv_usec;\\n\\n}\\n\\n\\n\\nconst int dx[]={1,0,-1,0},dy[]={0,-1,0,1};\\n\\n\\n\\nint h,w,B[9][9];\\n\\n\\n\\nint x2,y2,x3,y3; // 2, 3 \\u305d\\u308c\\u305e\\u308c\\u306e\\u51fa\\u767a\\u70b9\\n\\n\\n\\nint bfs(int x,int y,int tar){\\n\\n\\tint d[9][9];\\n\\n\\tmemset(d,-1,sizeof d);\\n\\n\\td[y][x]=0;\\n\\n\\tint Q[81],head=0,tail=0; Q[tail++]=y*w+x;\\n\\n\\twhile(head<tail){\\n\\n\\t\\tint i=Q[head]/w,j=Q[head]%w; head++;\\n\\n\\t\\trep(k,4){\\n\\n\\t\\t\\tint yy=i+dy[k],xx=j+dx[k];\\n\\n\\t\\t\\tif(0<=yy && yy<h && 0<=xx && xx<w && d[yy][xx]==-1){\\n\\n\\t\\t\\t\\tif(B[yy][xx]==tar) return d[i][j]+1;\\n\\n\\t\\t\\t\\tif(B[yy][xx]== 0 ) Q[tail++]=yy*w+xx, d[yy][xx]=d[i][j]+1;\\n\\n\\t\\t\\t}\\n\\n\\t\\t}\\n\\n\\t}\\n\\n\\treturn 777;\\n\\n}\\n\\n\\n\\nll t0;\\n\\n\\n\\nint ans;\\n\\nvoid dfs(int x,int y,int now){\\n\\n\\tint hstar=bfs(x,y,2)+bfs(x3,y3,3);\\n\\n\\tif(ans<now+1+hstar) return;\\n\\n\\n\\n\\tif(ans==777){ // 1 \\u79d2\\u306e\\u9593\\u306b\\u4e00\\u3064\\u3082\\u89e3\\u304c\\u898b\\u3064\\u304b\\u3089\\u306a\\u3051\\u308c\\u3070\\u89e3\\u306a\\u3057\\n\\n\\t\\tll t1=gettime();\\n\\n\\t\\tif(t1-t0>1000000){ ans=0; return; }\\n\\n\\t}\\n\\n\\n\\n\\t// \\u3053\\u308c\\u307e\\u3067\\u306e\\u30d1\\u30b9\\u3068\\u63a5\\u3057\\u305f\\u3089\\u6700\\u9069\\u89e3\\u3067\\u306a\\u3044\\u306e\\u3067\\u63a2\\u7d22\\u6253\\u3061\\u5207\\u308a\\n\\n\\tint cnt=0;\\n\\n\\trep(k,4){\\n\\n\\t\\tint xx=x+dx[k],yy=y+dy[k];\\n\\n\\t\\tif(0<=xx && xx<w && 0<=yy && yy<h && B[yy][xx]==7) cnt++;\\n\\n\\t}\\n\\n\\tif(cnt>=2) return;\\n\\n\\n\\n\\trep(k,4){\\n\\n\\t\\tint xx=x+dx[k],yy=y+dy[k];\\n\\n\\t\\tif(0<=xx && xx<w && 0<=yy && yy<h){\\n\\n\\t\\t\\tif(B[yy][xx]==2){\\n\\n\\t\\t\\t\\tans=now+1+bfs(x3,y3,3);\\n\\n\\t\\t\\t\\treturn;\\n\\n\\t\\t\\t}\\n\\n\\t\\t\\telse if(B[yy][xx]==0){\\n\\n\\t\\t\\t\\tB[yy][xx]=7;\\n\\n\\t\\t\\t\\tdfs(xx,yy,now+1);\\n\\n\\t\\t\\t\\tB[yy][xx]=0;\\n\\n\\t\\t\\t}\\n\\n\\t\\t}\\n\\n\\t}\\n\\n}\\n\\n\\n\\nint main(){\\n\\n\\twhile(scanf(\\\"%d%d\\\",&h,&w),h){\\n\\n\\t\\trep(i,h) rep(j,w) scanf(\\\"%d\\\",B[i]+j);\\n\\n\\n\\n\\t\\trep(i,h) rep(j,w) {\\n\\n\\t\\t\\tif(B[i][j]==2) x2=j, y2=i;\\n\\n\\t\\t\\tif(B[i][j]==3) x3=j, y3=i;\\n\\n\\t\\t}\\n\\n\\t\\tB[y2][x2]=7; // \\u8a2a\\u554f\\u6e08\\u307f\\u306e\\u30de\\u30fc\\u30af\\n\\n\\n\\n\\t\\tt0=gettime();\\n\\n\\t\\tans=777;\\n\\n\\t\\tdfs(x2,y2,0);\\n\\n\\t\\tprintf(\\\"%d\\\\n\\\",ans<777?ans:0);\\n\\n\\t}\\n\\n\\n\\n\\treturn 0;\\n\\n}\", \"problem_id\": \"p00849\"}\n12:{\"original_code\": \"#include<cstdio>\\n\\n#include<cstring>\\n\\n#include<sys/time.h>\\n\\n\\n\\n#define rep(i,n) for(int i=0;i<(n);i++)\\n\\n\\n\\nusing namespace std;\\n\\n\\n\\ntypedef long long ll;\\n\\n\\n\\nll gettime(){\\n\\n\\tstruct timeval tv;\\n\\n\\tgettimeofday(&tv,NULL);\\n\\n\\treturn 1000000LL*tv.tv_sec+tv.tv_usec;\\n\\n}\\n\\n\\n\\nconst int dx[]={1,0,-1,0},dy[]={0,-1,0,1};\\n\\n\\n\\nint h,w,B[9][9];\\n\\n\\n\\nint x2,y2,x3,y3; // 2, 3 \\u305d\\u308c\\u305e\\u308c\\u306e\\u51fa\\u767a\\u70b9\\n\\n\\n\\nint bfs(int x,int y,int tar){\\n\\n\\tint d[9][9];\\n\\n\\tmemset(d,-1,sizeof d);\\n\\n\\td[y][x]=0;\\n\\n\\tint Q[81],head=0,tail=0; Q[tail++]=y*w+x;\\n\\n\\twhile(head<tail){\\n\\n\\t\\tint i=Q[head]/w,j=Q[head]%w; head++;\\n\\n\\t\\trep(k,4){\\n\\n\\t\\t\\tint yy=i+dy[k],xx=j+dx[k];\\n\\n\\t\\t\\tif(0<=yy && yy<h && 0<=xx && xx<w && d[yy][xx]==-1){\\n\\n\\t\\t\\t\\tif(B[yy][xx]==tar) return d[i][j]+1;\\n\\n\\t\\t\\t\\tif(B[yy][xx]== 0 ) Q[tail++]=yy*w+xx, d[yy][xx]=d[i][j]+1;\\n\\n\\t\\t\\t}\\n\\n\\t\\t}\\n\\n\\t}\\n\\n\\treturn 777;\\n\\n}\\n\\n\\n\\nll t0;\\n\\n\\n\\nint ans;\\n\\nvoid dfs(int x,int y,int now){\\n\\n\\tint hstar=bfs(x,y,2)+bfs(x3,y3,3);\\n\\n\\tif(ans<now+1+hstar) return;\\n\\n\\n\\n\\tif(ans==777){ // 1 \\u79d2\\u306e\\u9593\\u306b\\u4e00\\u3064\\u3082\\u89e3\\u304c\\u898b\\u3064\\u304b\\u3089\\u306a\\u3051\\u308c\\u3070\\u89e3\\u306a\\u3057\\n\\n\\t\\tll t1=gettime();\\n\\n\\t\\tif(t1-t0>1000000){ ans=0; return; }\\n\\n\\t}\\n\\n\\n\\n\\t// \\u3053\\u308c\\u307e\\u3067\\u306e\\u30d1\\u30b9\\u3068\\u63a5\\u3057\\u305f\\u3089\\u6700\\u9069\\u89e3\\u3067\\u306a\\u3044\\u306e\\u3067\\u63a2\\u7d22\\u6253\\u3061\\u5207\\u308a\\n\\n\\tint cnt=0;\\n\\n\\trep(k,4){\\n\\n\\t\\tint xx=x+dx[k],yy=y+dy[k];\\n\\n\\t\\tif(0<=xx && xx<w && 0<=yy && yy<h && B[yy][xx]==7) cnt++;\\n\\n\\t}\\n\\n\\tif(cnt>=2) return;\\n\\n\\n\\n\\trep(k,4){\\n\\n\\t\\tint xx=x+dx[k],yy=y+dy[k];\\n\\n\\t\\tif(0<=xx && xx<w && 0<=yy && yy<h){\\n\\n\\t\\t\\tif(B[yy][xx]==2){\\n\\n\\t\\t\\t\\tans=now+1+bfs(x3,y3,3);\\n\\n\\t\\t\\t\\treturn;\\n\\n\\t\\t\\t}\\n\\n\\t\\t\\telse if(B[yy][xx]==0){\\n\\n\\t\\t\\t\\tB[yy][xx]=7;\\n\\n\\t\\t\\t\\tdfs(xx,yy,now+1);\\n\\n\\t\\t\\t\\tB[yy][xx]=0;\\n\\n\\t\\t\\t}\\n\\n\\t\\t}\\n\\n\\t}\\n\\n}\\n\\n\\n\\nint main(){\\n\\n\\twhile(scanf(\\\"%d%d\\\",&h,&w),h){\\n\\n\\t\\trep(i,h) rep(j,w) scanf(\\\"%d\\\",B[i]+j);\\n\\n\\n\\n\\t\\trep(i,h) rep(j,w) {\\n\\n\\t\\t\\tif(B[i][j]==2) x2=j, y2=i;\\n\\n\\t\\t\\tif(B[i][j]==3) x3=j, y3=i;\\n\\n\\t\\t}\\n\\n\\t\\tB[y2][x2]=7; // \\u8a2a\\u554f\\u6e08\\u307f\\u306e\\u30de\\u30fc\\u30af\\n\\n\\n\\n\\t\\tt0=gettime();\\n\\n\\t\\tans=777;\\n\\n\\t\\tdfs(x2,y2,0);\\n\\n\\t\\tprintf(\\\"%d\\\\n\\\",ans<777?ans:0);\\n\\n\\t}\\n\\n\\n\\n\\treturn 0;\\n\\n}\", \"improved_code\": \"#include<cstdio>\\n\\n#include<cstring>\\n\\n#include<sys/time.h>\\n\\n\\n\\n#define rep(i,n) for(int i=0;i<(n);i++)\\n\\n\\n\\nusing namespace std;\\n\\n\\n\\ntypedef long long ll;\\n\\n\\n\\nll gettime(){\\n\\n\\tstruct timeval tv;\\n\\n\\tgettimeofday(&tv,NULL);\\n\\n\\treturn 1000000LL*tv.tv_sec+tv.tv_usec;\\n\\n}\\n\\n\\n\\nconst int dx[]={1,0,-1,0},dy[]={0,-1,0,1};\\n\\n\\n\\nint h,w,B[9][9];\\n\\n\\n\\nint x2,y2,x3,y3; // 2, 3 \\u305d\\u308c\\u305e\\u308c\\u306e\\u51fa\\u767a\\u70b9\\n\\n\\n\\nint bfs(int x,int y,int tar){\\n\\n\\tint d[9][9];\\n\\n\\tmemset(d,-1,sizeof d);\\n\\n\\td[y][x]=0;\\n\\n\\tint Q[81],head=0,tail=0; Q[tail++]=y*w+x;\\n\\n\\twhile(head<tail){\\n\\n\\t\\tint i=Q[head]/w,j=Q[head]%w; head++;\\n\\n\\t\\trep(k,4){\\n\\n\\t\\t\\tint yy=i+dy[k],xx=j+dx[k];\\n\\n\\t\\t\\tif(0<=yy && yy<h && 0<=xx && xx<w && d[yy][xx]==-1){\\n\\n\\t\\t\\t\\tif(B[yy][xx]==tar) return d[i][j]+1;\\n\\n\\t\\t\\t\\tif(B[yy][xx]== 0 ) Q[tail++]=yy*w+xx, d[yy][xx]=d[i][j]+1;\\n\\n\\t\\t\\t}\\n\\n\\t\\t}\\n\\n\\t}\\n\\n\\treturn 777;\\n\\n}\\n\\n\\n\\nll t0;\\n\\n\\n\\nint ans;\\n\\nvoid dfs(int x,int y,int now){\\n\\n\\tint hstar=bfs(x,y,2)+bfs(x3,y3,3);\\n\\n\\tif(ans<now+1+hstar) return;\\n\\n\\n\\n\\tif(ans==777){ // 0.5 \\u79d2\\u306e\\u9593\\u306b\\u4e00\\u3064\\u3082\\u89e3\\u304c\\u898b\\u3064\\u304b\\u3089\\u306a\\u3051\\u308c\\u3070\\u89e3\\u306a\\u3057\\n\\n\\t\\tll t1=gettime();\\n\\n\\t\\tif(t1-t0>500000){ ans=0; return; }\\n\\n\\t}\\n\\n\\n\\n\\t// \\u3053\\u308c\\u307e\\u3067\\u306e\\u30d1\\u30b9\\u3068\\u63a5\\u3057\\u305f\\u3089\\u6700\\u9069\\u89e3\\u3067\\u306a\\u3044\\u306e\\u3067\\u63a2\\u7d22\\u6253\\u3061\\u5207\\u308a\\n\\n\\tint cnt=0;\\n\\n\\trep(k,4){\\n\\n\\t\\tint xx=x+dx[k],yy=y+dy[k];\\n\\n\\t\\tif(0<=xx && xx<w && 0<=yy && yy<h && B[yy][xx]==7) cnt++;\\n\\n\\t}\\n\\n\\tif(cnt>=2) return;\\n\\n\\n\\n\\trep(k,4){\\n\\n\\t\\tint xx=x+dx[k],yy=y+dy[k];\\n\\n\\t\\tif(0<=xx && xx<w && 0<=yy && yy<h){\\n\\n\\t\\t\\tif(B[yy][xx]==2){\\n\\n\\t\\t\\t\\tans=now+1+bfs(x3,y3,3);\\n\\n\\t\\t\\t\\treturn;\\n\\n\\t\\t\\t}\\n\\n\\t\\t\\telse if(B[yy][xx]==0){\\n\\n\\t\\t\\t\\tB[yy][xx]=7;\\n\\n\\t\\t\\t\\tdfs(xx,yy,now+1);\\n\\n\\t\\t\\t\\tB[yy][xx]=0;\\n\\n\\t\\t\\t}\\n\\n\\t\\t}\\n\\n\\t}\\n\\n}\\n\\n\\n\\nint main(){\\n\\n\\twhile(scanf(\\\"%d%d\\\",&h,&w),h){\\n\\n\\t\\trep(i,h) rep(j,w) scanf(\\\"%d\\\",B[i]+j);\\n\\n\\n\\n\\t\\trep(i,h) rep(j,w) {\\n\\n\\t\\t\\tif(B[i][j]==2) x2=j, y2=i;\\n\\n\\t\\t\\tif(B[i][j]==3) x3=j, y3=i;\\n\\n\\t\\t}\\n\\n\\t\\tB[y2][x2]=7; // \\u8a2a\\u554f\\u6e08\\u307f\\u306e\\u30de\\u30fc\\u30af\\n\\n\\n\\n\\t\\tt0=gettime();\\n\\n\\t\\tans=777;\\n\\n\\t\\tdfs(x2,y2,0);\\n\\n\\t\\tprintf(\\\"%d\\\\n\\\",ans<777?ans:0);\\n\\n\\t}\\n\\n\\n\\n\\treturn 0;\\n\\n}\", \"problem_id\": \"p00849\"}\n13:{\"original_code\": \"#include<cstdio>\\n\\n#include<cstring>\\n\\n#include<sys/time.h>\\n\\n\\n\\n#define rep(i,n) for(int i=0;i<(n);i++)\\n\\n\\n\\nusing namespace std;\\n\\n\\n\\ntypedef long long ll;\\n\\n\\n\\nll gettime(){\\n\\n\\tstruct timeval tv;\\n\\n\\tgettimeofday(&tv,NULL);\\n\\n\\treturn 1000000LL*tv.tv_sec+tv.tv_usec;\\n\\n}\\n\\n\\n\\nconst int dx[]={1,0,-1,0},dy[]={0,-1,0,1};\\n\\n\\n\\nint h,w,B[9][9];\\n\\n\\n\\nint x2,y2,x3,y3; // 2, 3 \\u305d\\u308c\\u305e\\u308c\\u306e\\u51fa\\u767a\\u70b9\\n\\n\\n\\nint bfs(int x,int y,int tar){\\n\\n\\tint d[9][9];\\n\\n\\tmemset(d,-1,sizeof d);\\n\\n\\td[y][x]=0;\\n\\n\\tint Q[81],head=0,tail=0; Q[tail++]=y*w+x;\\n\\n\\twhile(head<tail){\\n\\n\\t\\tint i=Q[head]/w,j=Q[head]%w; head++;\\n\\n\\t\\trep(k,4){\\n\\n\\t\\t\\tint yy=i+dy[k],xx=j+dx[k];\\n\\n\\t\\t\\tif(0<=yy && yy<h && 0<=xx && xx<w && d[yy][xx]==-1){\\n\\n\\t\\t\\t\\tif(B[yy][xx]==tar) return d[i][j]+1;\\n\\n\\t\\t\\t\\tif(B[yy][xx]== 0 ) Q[tail++]=yy*w+xx, d[yy][xx]=d[i][j]+1;\\n\\n\\t\\t\\t}\\n\\n\\t\\t}\\n\\n\\t}\\n\\n\\treturn 777;\\n\\n}\\n\\n\\n\\nll t0;\\n\\n\\n\\nint ans;\\n\\nvoid dfs(int x,int y,int now){\\n\\n\\tint hstar=bfs(x,y,2)+bfs(x3,y3,3);\\n\\n\\tif(ans<now+1+hstar) return;\\n\\n\\n\\n\\tif(ans==777){ // 0.5 \\u79d2\\u306e\\u9593\\u306b\\u4e00\\u3064\\u3082\\u89e3\\u304c\\u898b\\u3064\\u304b\\u3089\\u306a\\u3051\\u308c\\u3070\\u89e3\\u306a\\u3057\\n\\n\\t\\tll t1=gettime();\\n\\n\\t\\tif(t1-t0>500000){ ans=0; return; }\\n\\n\\t}\\n\\n\\n\\n\\t// \\u3053\\u308c\\u307e\\u3067\\u306e\\u30d1\\u30b9\\u3068\\u63a5\\u3057\\u305f\\u3089\\u6700\\u9069\\u89e3\\u3067\\u306a\\u3044\\u306e\\u3067\\u63a2\\u7d22\\u6253\\u3061\\u5207\\u308a\\n\\n\\tint cnt=0;\\n\\n\\trep(k,4){\\n\\n\\t\\tint xx=x+dx[k],yy=y+dy[k];\\n\\n\\t\\tif(0<=xx && xx<w && 0<=yy && yy<h && B[yy][xx]==7) cnt++;\\n\\n\\t}\\n\\n\\tif(cnt>=2) return;\\n\\n\\n\\n\\trep(k,4){\\n\\n\\t\\tint xx=x+dx[k],yy=y+dy[k];\\n\\n\\t\\tif(0<=xx && xx<w && 0<=yy && yy<h){\\n\\n\\t\\t\\tif(B[yy][xx]==2){\\n\\n\\t\\t\\t\\tans=now+1+bfs(x3,y3,3);\\n\\n\\t\\t\\t\\treturn;\\n\\n\\t\\t\\t}\\n\\n\\t\\t\\telse if(B[yy][xx]==0){\\n\\n\\t\\t\\t\\tB[yy][xx]=7;\\n\\n\\t\\t\\t\\tdfs(xx,yy,now+1);\\n\\n\\t\\t\\t\\tB[yy][xx]=0;\\n\\n\\t\\t\\t}\\n\\n\\t\\t}\\n\\n\\t}\\n\\n}\\n\\n\\n\\nint main(){\\n\\n\\twhile(scanf(\\\"%d%d\\\",&h,&w),h){\\n\\n\\t\\trep(i,h) rep(j,w) scanf(\\\"%d\\\",B[i]+j);\\n\\n\\n\\n\\t\\trep(i,h) rep(j,w) {\\n\\n\\t\\t\\tif(B[i][j]==2) x2=j, y2=i;\\n\\n\\t\\t\\tif(B[i][j]==3) x3=j, y3=i;\\n\\n\\t\\t}\\n\\n\\t\\tB[y2][x2]=7; // \\u8a2a\\u554f\\u6e08\\u307f\\u306e\\u30de\\u30fc\\u30af\\n\\n\\n\\n\\t\\tt0=gettime();\\n\\n\\t\\tans=777;\\n\\n\\t\\tdfs(x2,y2,0);\\n\\n\\t\\tprintf(\\\"%d\\\\n\\\",ans<777?ans:0);\\n\\n\\t}\\n\\n\\n\\n\\treturn 0;\\n\\n}\", \"improved_code\": \"#include<cstdio>\\n\\n#include<cstring>\\n\\n\\n\\n#define rep(i,n) for(int i=0;i<(n);i++)\\n\\n\\n\\nusing namespace std;\\n\\n\\n\\nconst int dx[]={1,0,-1,0},dy[]={0,-1,0,1};\\n\\n\\n\\nint h,w,B[9][9];\\n\\n\\n\\nint x2,y2,x3,y3; // 2, 3 \\u305d\\u308c\\u305e\\u308c\\u306e\\u51fa\\u767a\\u70b9\\n\\n\\n\\nint bfs(int x,int y,int tar){\\n\\n\\tint d[9][9];\\n\\n\\tmemset(d,-1,sizeof d);\\n\\n\\td[y][x]=0;\\n\\n\\tint Q[81],head=0,tail=0; Q[tail++]=y*w+x;\\n\\n\\twhile(head<tail){\\n\\n\\t\\tint i=Q[head]/w,j=Q[head]%w; head++;\\n\\n\\t\\trep(k,4){\\n\\n\\t\\t\\tint yy=i+dy[k],xx=j+dx[k];\\n\\n\\t\\t\\tif(0<=yy && yy<h && 0<=xx && xx<w && d[yy][xx]==-1){\\n\\n\\t\\t\\t\\tif(B[yy][xx]==tar) return d[i][j]+1;\\n\\n\\t\\t\\t\\tif(B[yy][xx]== 0 ) Q[tail++]=yy*w+xx, d[yy][xx]=d[i][j]+1;\\n\\n\\t\\t\\t}\\n\\n\\t\\t}\\n\\n\\t}\\n\\n\\treturn 777;\\n\\n}\\n\\n\\n\\nint ans;\\n\\nvoid dfs(int x,int y,int now){\\n\\n\\tint hstar=bfs(x,y,2)+bfs(x3,y3,3);\\n\\n\\tif(ans<now+1+hstar) return;\\n\\n\\n\\n\\t// \\u3053\\u308c\\u307e\\u3067\\u306e\\u30d1\\u30b9\\u3068\\u63a5\\u3057\\u305f\\u3089\\u679d\\u5208\\u308a\\n\\n\\tint cnt=0;\\n\\n\\trep(k,4){\\n\\n\\t\\tint xx=x+dx[k],yy=y+dy[k];\\n\\n\\t\\tif(0<=xx && xx<w && 0<=yy && yy<h && B[yy][xx]==7) cnt++;\\n\\n\\t}\\n\\n\\tif(cnt>=2) return;\\n\\n\\n\\n\\t// 777...777\\n\\n\\t// 700...007\\n\\n\\t// \\u3068\\u3044\\u3046\\u30d1\\u30bf\\u30fc\\u30f3 ( or \\u56de\\u8ee2\\u3057\\u3066\\u4e00\\u81f4\\u3059\\u308b\\u3082\\u306e ) \\u304c\\u3042\\u308c\\u3070\\u679d\\u5208\\u308a\\n\\n\\tfor(int L=3;L<=8;L++){\\n\\n\\t\\tbool ng;\\n\\n\\t\\tif(y>0 && x+L-1<w){\\n\\n\\t\\t\\tng=true;\\n\\n\\t\\t\\tif(ng) rep(j,L) if(B[y-1][x+j]!=7) { ng=false; break; }\\n\\n\\t\\t\\tif(ng) rep(j,L) if(B[y  ][x+j]!=(j==0||j==L-1?7:0)) { ng=false; break; }\\n\\n\\t\\t\\tif(ng && y+1<h) rep(j,L) if(0<j && j<L-1 && B[y+1][x+j]!=0) { ng=false; break; }\\n\\n\\t\\t\\tif(ng) return;\\n\\n\\n\\n\\t\\t\\tng=true;\\n\\n\\t\\t\\tif(ng && y-2>=0) rep(j,L) if(0<j && j<L-1 && B[y-2][x+j]!=0) { ng=false; break; }\\n\\n\\t\\t\\tif(ng) rep(j,L) if(B[y-1][x+j]!=(j==0||j==L-1?7:0)) { ng=false; break; }\\n\\n\\t\\t\\tif(ng) rep(j,L) if(B[y  ][x+j]!=7) { ng=false; break; }\\n\\n\\t\\t\\tif(ng) return;\\n\\n\\t\\t}\\n\\n\\t\\tif(y>0 && x-L+1>=0){\\n\\n\\t\\t\\tng=true;\\n\\n\\t\\t\\tif(ng) rep(j,L) if(B[y-1][x-j]!=7) { ng=false; break; }\\n\\n\\t\\t\\tif(ng) rep(j,L) if(B[y  ][x-j]!=(j==0||j==L-1?7:0)) { ng=false; break; }\\n\\n\\t\\t\\tif(ng && y+1<h) rep(j,L) if(0<j && j<L-1 && B[y+1][x-j]!=0) { ng=false; break; }\\n\\n\\t\\t\\tif(ng) return;\\n\\n\\n\\n\\t\\t\\tng=true;\\n\\n\\t\\t\\tif(ng && y-2>=0) rep(j,L) if(0<j && j<L-1 && B[y-2][x-j]!=0) { ng=false; break; }\\n\\n\\t\\t\\tif(ng) rep(j,L) if(B[y-1][x-j]!=(j==0||j==L-1?7:0)) { ng=false; break; }\\n\\n\\t\\t\\tif(ng) rep(j,L) if(B[y  ][x-j]!=7) { ng=false; break; }\\n\\n\\t\\t\\tif(ng) return;\\n\\n\\t\\t}\\n\\n\\t\\tif(y+L-1<h && x+1<w){\\n\\n\\t\\t\\tng=true;\\n\\n\\t\\t\\tif(ng) rep(i,L) if(B[y+i][x  ]!=7) { ng=false; break; }\\n\\n\\t\\t\\tif(ng) rep(i,L) if(B[y+i][x+1]!=(i==0||i==L-1?7:0)) { ng=false; break; }\\n\\n\\t\\t\\tif(ng && x+2<w) rep(i,L) if(0<i && i<L-1 && B[y+i][x+2]!=0) { ng=false; break; }\\n\\n\\t\\t\\tif(ng) return;\\n\\n\\n\\n\\t\\t\\tng=true;\\n\\n\\t\\t\\tif(ng && x-1>=0) rep(i,L) if(0<i && i<L-1 && B[y+i][x-1]!=0) { ng=false; break; }\\n\\n\\t\\t\\tif(ng) rep(i,L) if(B[y+i][x  ]!=(i==0||i==L-1?7:0)) { ng=false; break; }\\n\\n\\t\\t\\tif(ng) rep(i,L) if(B[y+i][x+1]!=7) { ng=false; break; }\\n\\n\\t\\t\\tif(ng) return;\\n\\n\\t\\t}\\n\\n\\t\\tif(y-L+1>=0 && x+1<w){\\n\\n\\t\\t\\tng=true;\\n\\n\\t\\t\\tif(ng) rep(i,L) if(B[y-i][x  ]!=7) { ng=false; break; }\\n\\n\\t\\t\\tif(ng) rep(i,L) if(B[y-i][x+1]!=(i==0||i==L-1?7:0)) { ng=false; break; }\\n\\n\\t\\t\\tif(ng && x+2<w) rep(i,L) if(0<i && i<L-1 && B[y-i][x+2]!=0) { ng=false; break; }\\n\\n\\t\\t\\tif(ng) return;\\n\\n\\n\\n\\t\\t\\tng=true;\\n\\n\\t\\t\\tif(ng && x-1>=0) rep(i,L) if(0<i && i<L-1 && B[y-i][x-1]!=0) { ng=false; break; }\\n\\n\\t\\t\\tif(ng) rep(i,L) if(B[y-i][x  ]!=(i==0||i==L-1?7:0)) { ng=false; break; }\\n\\n\\t\\t\\tif(ng) rep(i,L) if(B[y-i][x+1]!=7) { ng=false; break; }\\n\\n\\t\\t\\tif(ng) return;\\n\\n\\t\\t}\\n\\n\\t}\\n\\n\\n\\n\\trep(k,4){\\n\\n\\t\\tint xx=x+dx[k],yy=y+dy[k];\\n\\n\\t\\tif(0<=xx && xx<w && 0<=yy && yy<h){\\n\\n\\t\\t\\tif(B[yy][xx]==2){\\n\\n\\t\\t\\t\\tans=now+1+bfs(x3,y3,3);\\n\\n\\t\\t\\t\\treturn;\\n\\n\\t\\t\\t}\\n\\n\\t\\t\\telse if(B[yy][xx]==0){\\n\\n\\t\\t\\t\\tB[yy][xx]=7;\\n\\n\\t\\t\\t\\tdfs(xx,yy,now+1);\\n\\n\\t\\t\\t\\tB[yy][xx]=0;\\n\\n\\t\\t\\t}\\n\\n\\t\\t}\\n\\n\\t}\\n\\n}\\n\\n\\n\\nint main(){\\n\\n\\twhile(scanf(\\\"%d%d\\\",&h,&w),h){\\n\\n\\t\\trep(i,h) rep(j,w) scanf(\\\"%d\\\",B[i]+j);\\n\\n\\n\\n\\t\\trep(i,h) rep(j,w) {\\n\\n\\t\\t\\tif(B[i][j]==2) x2=j, y2=i;\\n\\n\\t\\t\\tif(B[i][j]==3) x3=j, y3=i;\\n\\n\\t\\t}\\n\\n\\t\\tB[y2][x2]=7; // \\u8a2a\\u554f\\u6e08\\u307f\\u306e\\u30de\\u30fc\\u30af\\n\\n\\n\\n\\t\\tans=777;\\n\\n\\t\\tdfs(x2,y2,0);\\n\\n\\t\\tprintf(\\\"%d\\\\n\\\",ans<777?ans:0);\\n\\n\\t}\\n\\n\\n\\n\\treturn 0;\\n\\n}\", \"problem_id\": \"p00849\"}\n14:{\"original_code\": \"#include<cstdio>\\n\\n#include<cstring>\\n\\n\\n\\n#define rep(i,n) for(int i=0;i<(n);i++)\\n\\n\\n\\nusing namespace std;\\n\\n\\n\\nconst int dx[]={1,0,-1,0},dy[]={0,-1,0,1};\\n\\n\\n\\nint h,w,B[9][9];\\n\\n\\n\\nint x2,y2,x3,y3; // 2, 3 \\u305d\\u308c\\u305e\\u308c\\u306e\\u51fa\\u767a\\u70b9\\n\\n\\n\\nint bfs(int x,int y,int tar){\\n\\n\\tint d[9][9];\\n\\n\\tmemset(d,-1,sizeof d);\\n\\n\\td[y][x]=0;\\n\\n\\tint Q[81],head=0,tail=0; Q[tail++]=y*w+x;\\n\\n\\twhile(head<tail){\\n\\n\\t\\tint i=Q[head]/w,j=Q[head]%w; head++;\\n\\n\\t\\trep(k,4){\\n\\n\\t\\t\\tint yy=i+dy[k],xx=j+dx[k];\\n\\n\\t\\t\\tif(0<=yy && yy<h && 0<=xx && xx<w && d[yy][xx]==-1){\\n\\n\\t\\t\\t\\tif(B[yy][xx]==tar) return d[i][j]+1;\\n\\n\\t\\t\\t\\tif(B[yy][xx]== 0 ) Q[tail++]=yy*w+xx, d[yy][xx]=d[i][j]+1;\\n\\n\\t\\t\\t}\\n\\n\\t\\t}\\n\\n\\t}\\n\\n\\treturn 777;\\n\\n}\\n\\n\\n\\nint ans;\\n\\nvoid dfs(int x,int y,int now){\\n\\n\\tint hstar=bfs(x,y,2)+bfs(x3,y3,3);\\n\\n\\tif(ans<now+1+hstar) return;\\n\\n\\n\\n\\t// \\u3053\\u308c\\u307e\\u3067\\u306e\\u30d1\\u30b9\\u3068\\u63a5\\u3057\\u305f\\u3089\\u679d\\u5208\\u308a\\n\\n\\tint cnt=0;\\n\\n\\trep(k,4){\\n\\n\\t\\tint xx=x+dx[k],yy=y+dy[k];\\n\\n\\t\\tif(0<=xx && xx<w && 0<=yy && yy<h && B[yy][xx]==7) cnt++;\\n\\n\\t}\\n\\n\\tif(cnt>=2) return;\\n\\n\\n\\n\\t// 777...777\\n\\n\\t// 700...007\\n\\n\\t// \\u3068\\u3044\\u3046\\u30d1\\u30bf\\u30fc\\u30f3 ( or \\u56de\\u8ee2\\u3057\\u3066\\u4e00\\u81f4\\u3059\\u308b\\u3082\\u306e ) \\u304c\\u3042\\u308c\\u3070\\u679d\\u5208\\u308a\\n\\n\\tfor(int L=3;L<=8;L++){\\n\\n\\t\\tbool ng;\\n\\n\\t\\tif(y>0 && x+L-1<w){\\n\\n\\t\\t\\tng=true;\\n\\n\\t\\t\\tif(ng) rep(j,L) if(B[y-1][x+j]!=7) { ng=false; break; }\\n\\n\\t\\t\\tif(ng) rep(j,L) if(B[y  ][x+j]!=(j==0||j==L-1?7:0)) { ng=false; break; }\\n\\n\\t\\t\\tif(ng && y+1<h) rep(j,L) if(0<j && j<L-1 && B[y+1][x+j]!=0) { ng=false; break; }\\n\\n\\t\\t\\tif(ng) return;\\n\\n\\n\\n\\t\\t\\tng=true;\\n\\n\\t\\t\\tif(ng && y-2>=0) rep(j,L) if(0<j && j<L-1 && B[y-2][x+j]!=0) { ng=false; break; }\\n\\n\\t\\t\\tif(ng) rep(j,L) if(B[y-1][x+j]!=(j==0||j==L-1?7:0)) { ng=false; break; }\\n\\n\\t\\t\\tif(ng) rep(j,L) if(B[y  ][x+j]!=7) { ng=false; break; }\\n\\n\\t\\t\\tif(ng) return;\\n\\n\\t\\t}\\n\\n\\t\\tif(y>0 && x-L+1>=0){\\n\\n\\t\\t\\tng=true;\\n\\n\\t\\t\\tif(ng) rep(j,L) if(B[y-1][x-j]!=7) { ng=false; break; }\\n\\n\\t\\t\\tif(ng) rep(j,L) if(B[y  ][x-j]!=(j==0||j==L-1?7:0)) { ng=false; break; }\\n\\n\\t\\t\\tif(ng && y+1<h) rep(j,L) if(0<j && j<L-1 && B[y+1][x-j]!=0) { ng=false; break; }\\n\\n\\t\\t\\tif(ng) return;\\n\\n\\n\\n\\t\\t\\tng=true;\\n\\n\\t\\t\\tif(ng && y-2>=0) rep(j,L) if(0<j && j<L-1 && B[y-2][x-j]!=0) { ng=false; break; }\\n\\n\\t\\t\\tif(ng) rep(j,L) if(B[y-1][x-j]!=(j==0||j==L-1?7:0)) { ng=false; break; }\\n\\n\\t\\t\\tif(ng) rep(j,L) if(B[y  ][x-j]!=7) { ng=false; break; }\\n\\n\\t\\t\\tif(ng) return;\\n\\n\\t\\t}\\n\\n\\t\\tif(y+L-1<h && x+1<w){\\n\\n\\t\\t\\tng=true;\\n\\n\\t\\t\\tif(ng) rep(i,L) if(B[y+i][x  ]!=7) { ng=false; break; }\\n\\n\\t\\t\\tif(ng) rep(i,L) if(B[y+i][x+1]!=(i==0||i==L-1?7:0)) { ng=false; break; }\\n\\n\\t\\t\\tif(ng && x+2<w) rep(i,L) if(0<i && i<L-1 && B[y+i][x+2]!=0) { ng=false; break; }\\n\\n\\t\\t\\tif(ng) return;\\n\\n\\n\\n\\t\\t\\tng=true;\\n\\n\\t\\t\\tif(ng && x-1>=0) rep(i,L) if(0<i && i<L-1 && B[y+i][x-1]!=0) { ng=false; break; }\\n\\n\\t\\t\\tif(ng) rep(i,L) if(B[y+i][x  ]!=(i==0||i==L-1?7:0)) { ng=false; break; }\\n\\n\\t\\t\\tif(ng) rep(i,L) if(B[y+i][x+1]!=7) { ng=false; break; }\\n\\n\\t\\t\\tif(ng) return;\\n\\n\\t\\t}\\n\\n\\t\\tif(y-L+1>=0 && x+1<w){\\n\\n\\t\\t\\tng=true;\\n\\n\\t\\t\\tif(ng) rep(i,L) if(B[y-i][x  ]!=7) { ng=false; break; }\\n\\n\\t\\t\\tif(ng) rep(i,L) if(B[y-i][x+1]!=(i==0||i==L-1?7:0)) { ng=false; break; }\\n\\n\\t\\t\\tif(ng && x+2<w) rep(i,L) if(0<i && i<L-1 && B[y-i][x+2]!=0) { ng=false; break; }\\n\\n\\t\\t\\tif(ng) return;\\n\\n\\n\\n\\t\\t\\tng=true;\\n\\n\\t\\t\\tif(ng && x-1>=0) rep(i,L) if(0<i && i<L-1 && B[y-i][x-1]!=0) { ng=false; break; }\\n\\n\\t\\t\\tif(ng) rep(i,L) if(B[y-i][x  ]!=(i==0||i==L-1?7:0)) { ng=false; break; }\\n\\n\\t\\t\\tif(ng) rep(i,L) if(B[y-i][x+1]!=7) { ng=false; break; }\\n\\n\\t\\t\\tif(ng) return;\\n\\n\\t\\t}\\n\\n\\t}\\n\\n\\n\\n\\trep(k,4){\\n\\n\\t\\tint xx=x+dx[k],yy=y+dy[k];\\n\\n\\t\\tif(0<=xx && xx<w && 0<=yy && yy<h){\\n\\n\\t\\t\\tif(B[yy][xx]==2){\\n\\n\\t\\t\\t\\tans=now+1+bfs(x3,y3,3);\\n\\n\\t\\t\\t\\treturn;\\n\\n\\t\\t\\t}\\n\\n\\t\\t\\telse if(B[yy][xx]==0){\\n\\n\\t\\t\\t\\tB[yy][xx]=7;\\n\\n\\t\\t\\t\\tdfs(xx,yy,now+1);\\n\\n\\t\\t\\t\\tB[yy][xx]=0;\\n\\n\\t\\t\\t}\\n\\n\\t\\t}\\n\\n\\t}\\n\\n}\\n\\n\\n\\nint main(){\\n\\n\\twhile(scanf(\\\"%d%d\\\",&h,&w),h){\\n\\n\\t\\trep(i,h) rep(j,w) scanf(\\\"%d\\\",B[i]+j);\\n\\n\\n\\n\\t\\trep(i,h) rep(j,w) {\\n\\n\\t\\t\\tif(B[i][j]==2) x2=j, y2=i;\\n\\n\\t\\t\\tif(B[i][j]==3) x3=j, y3=i;\\n\\n\\t\\t}\\n\\n\\t\\tB[y2][x2]=7; // \\u8a2a\\u554f\\u6e08\\u307f\\u306e\\u30de\\u30fc\\u30af\\n\\n\\n\\n\\t\\tans=777;\\n\\n\\t\\tdfs(x2,y2,0);\\n\\n\\t\\tprintf(\\\"%d\\\\n\\\",ans<777?ans:0);\\n\\n\\t}\\n\\n\\n\\n\\treturn 0;\\n\\n}\", \"improved_code\": \"#include<cstdio>\\n\\n#include<cstring>\\n\\n\\n\\n#define rep(i,n) for(int i=0;i<(n);i++)\\n\\n\\n\\nusing namespace std;\\n\\n\\n\\nconst int dx[]={1,0,-1,0},dy[]={0,-1,0,1};\\n\\n\\n\\nint h,w,B[9][9];\\n\\n\\n\\nint x2,y2,x3,y3; // 2, 3 \\u305d\\u308c\\u305e\\u308c\\u306e\\u51fa\\u767a\\u70b9\\n\\n\\n\\nint bfs(int x,int y,int tar){\\n\\n\\tint d[9][9];\\n\\n\\tmemset(d,-1,sizeof d);\\n\\n\\td[y][x]=0;\\n\\n\\tint Q[81],head=0,tail=0; Q[tail++]=y*w+x;\\n\\n\\twhile(head<tail){\\n\\n\\t\\tint i=Q[head]/w,j=Q[head]%w; head++;\\n\\n\\t\\trep(k,4){\\n\\n\\t\\t\\tint yy=i+dy[k],xx=j+dx[k];\\n\\n\\t\\t\\tif(0<=yy && yy<h && 0<=xx && xx<w && d[yy][xx]==-1){\\n\\n\\t\\t\\t\\tif(B[yy][xx]==tar) return d[i][j]+1;\\n\\n\\t\\t\\t\\tif(B[yy][xx]== 0 ) Q[tail++]=yy*w+xx, d[yy][xx]=d[i][j]+1;\\n\\n\\t\\t\\t}\\n\\n\\t\\t}\\n\\n\\t}\\n\\n\\treturn 777;\\n\\n}\\n\\n\\n\\nint ans;\\n\\nvoid dfs(int x,int y,int now){\\n\\n\\tint hstar=bfs(x,y,2)+bfs(x3,y3,3);\\n\\n\\tif(ans<now+1+hstar) return;\\n\\n\\n\\n\\t// \\u3053\\u308c\\u307e\\u3067\\u306e\\u30d1\\u30b9\\u3068\\u63a5\\u3057\\u305f\\u3089\\u679d\\u5208\\u308a\\n\\n\\tint cnt=0;\\n\\n\\trep(k,4){\\n\\n\\t\\tint xx=x+dx[k],yy=y+dy[k];\\n\\n\\t\\tif(0<=xx && xx<w && 0<=yy && yy<h && B[yy][xx]==7) cnt++;\\n\\n\\t}\\n\\n\\tif(cnt>=2) return;\\n\\n\\n\\n\\t// 777...777\\n\\n\\t// 700...007\\n\\n\\t// ?00...00?\\n\\n\\t// \\u3068\\u3044\\u3046\\u30d1\\u30bf\\u30fc\\u30f3 ( or \\u56de\\u8ee2\\u3057\\u3066\\u4e00\\u81f4\\u3059\\u308b\\u3082\\u306e ) \\u304c\\u3042\\u308c\\u3070\\u679d\\u5208\\u308a\\n\\n\\tfor(int L=3;L<=8;L++){\\n\\n\\t\\tbool ng;\\n\\n\\t\\tif(y>0 && x+L-1<w){\\n\\n\\t\\t\\tng=true;\\n\\n\\t\\t\\tif(ng) rep(j,L) if(B[y-1][x+j]!=7) { ng=false; break; }\\n\\n\\t\\t\\tif(ng) rep(j,L) if(B[y  ][x+j]!=(j==0||j==L-1?7:0)) { ng=false; break; }\\n\\n\\t\\t\\tif(ng && L>=5 && y+1<h) rep(j,L) if(0<j && j<L-1 && B[y+1][x+j]!=0) { ng=false; break; }\\n\\n\\t\\t\\tif(ng) return;\\n\\n\\n\\n\\t\\t\\tng=true;\\n\\n\\t\\t\\tif(ng && L>=5 && y-2>=0) rep(j,L) if(0<j && j<L-1 && B[y-2][x+j]!=0) { ng=false; break; }\\n\\n\\t\\t\\tif(ng) rep(j,L) if(B[y-1][x+j]!=(j==0||j==L-1?7:0)) { ng=false; break; }\\n\\n\\t\\t\\tif(ng) rep(j,L) if(B[y  ][x+j]!=7) { ng=false; break; }\\n\\n\\t\\t\\tif(ng) return;\\n\\n\\t\\t}\\n\\n\\t\\tif(y>0 && x-L+1>=0){\\n\\n\\t\\t\\tng=true;\\n\\n\\t\\t\\tif(ng) rep(j,L) if(B[y-1][x-j]!=7) { ng=false; break; }\\n\\n\\t\\t\\tif(ng) rep(j,L) if(B[y  ][x-j]!=(j==0||j==L-1?7:0)) { ng=false; break; }\\n\\n\\t\\t\\tif(ng && L>=5 && y+1<h) rep(j,L) if(0<j && j<L-1 && B[y+1][x-j]!=0) { ng=false; break; }\\n\\n\\t\\t\\tif(ng) return;\\n\\n\\n\\n\\t\\t\\tng=true;\\n\\n\\t\\t\\tif(ng && L>=5 && y-2>=0) rep(j,L) if(0<j && j<L-1 && B[y-2][x-j]!=0) { ng=false; break; }\\n\\n\\t\\t\\tif(ng) rep(j,L) if(B[y-1][x-j]!=(j==0||j==L-1?7:0)) { ng=false; break; }\\n\\n\\t\\t\\tif(ng) rep(j,L) if(B[y  ][x-j]!=7) { ng=false; break; }\\n\\n\\t\\t\\tif(ng) return;\\n\\n\\t\\t}\\n\\n\\t\\tif(y+L-1<h && x+1<w){\\n\\n\\t\\t\\tng=true;\\n\\n\\t\\t\\tif(ng) rep(i,L) if(B[y+i][x  ]!=7) { ng=false; break; }\\n\\n\\t\\t\\tif(ng) rep(i,L) if(B[y+i][x+1]!=(i==0||i==L-1?7:0)) { ng=false; break; }\\n\\n\\t\\t\\tif(ng && L>=5 && x+2<w) rep(i,L) if(0<i && i<L-1 && B[y+i][x+2]!=0) { ng=false; break; }\\n\\n\\t\\t\\tif(ng) return;\\n\\n\\n\\n\\t\\t\\tng=true;\\n\\n\\t\\t\\tif(ng && L>=5 && x-1>=0) rep(i,L) if(0<i && i<L-1 && B[y+i][x-1]!=0) { ng=false; break; }\\n\\n\\t\\t\\tif(ng) rep(i,L) if(B[y+i][x  ]!=(i==0||i==L-1?7:0)) { ng=false; break; }\\n\\n\\t\\t\\tif(ng) rep(i,L) if(B[y+i][x+1]!=7) { ng=false; break; }\\n\\n\\t\\t\\tif(ng) return;\\n\\n\\t\\t}\\n\\n\\t\\tif(y-L+1>=0 && x+1<w){\\n\\n\\t\\t\\tng=true;\\n\\n\\t\\t\\tif(ng) rep(i,L) if(B[y-i][x  ]!=7) { ng=false; break; }\\n\\n\\t\\t\\tif(ng) rep(i,L) if(B[y-i][x+1]!=(i==0||i==L-1?7:0)) { ng=false; break; }\\n\\n\\t\\t\\tif(ng && L>=5 && x+2<w) rep(i,L) if(0<i && i<L-1 && B[y-i][x+2]!=0) { ng=false; break; }\\n\\n\\t\\t\\tif(ng) return;\\n\\n\\n\\n\\t\\t\\tng=true;\\n\\n\\t\\t\\tif(ng && L>=5 && x-1>=0) rep(i,L) if(0<i && i<L-1 && B[y-i][x-1]!=0) { ng=false; break; }\\n\\n\\t\\t\\tif(ng) rep(i,L) if(B[y-i][x  ]!=(i==0||i==L-1?7:0)) { ng=false; break; }\\n\\n\\t\\t\\tif(ng) rep(i,L) if(B[y-i][x+1]!=7) { ng=false; break; }\\n\\n\\t\\t\\tif(ng) return;\\n\\n\\t\\t}\\n\\n\\t}\\n\\n\\n\\n\\trep(k,4){\\n\\n\\t\\tint xx=x+dx[k],yy=y+dy[k];\\n\\n\\t\\tif(0<=xx && xx<w && 0<=yy && yy<h){\\n\\n\\t\\t\\tif(B[yy][xx]==2){\\n\\n\\t\\t\\t\\tans=now+1+bfs(x3,y3,3);\\n\\n\\t\\t\\t\\treturn;\\n\\n\\t\\t\\t}\\n\\n\\t\\t\\telse if(B[yy][xx]==0){\\n\\n\\t\\t\\t\\tB[yy][xx]=7;\\n\\n\\t\\t\\t\\tdfs(xx,yy,now+1);\\n\\n\\t\\t\\t\\tB[yy][xx]=0;\\n\\n\\t\\t\\t}\\n\\n\\t\\t}\\n\\n\\t}\\n\\n}\\n\\n\\n\\nint main(){\\n\\n\\twhile(scanf(\\\"%d%d\\\",&h,&w),h){\\n\\n\\t\\trep(i,h) rep(j,w) scanf(\\\"%d\\\",B[i]+j);\\n\\n\\n\\n\\t\\trep(i,h) rep(j,w) {\\n\\n\\t\\t\\tif(B[i][j]==2) x2=j, y2=i;\\n\\n\\t\\t\\tif(B[i][j]==3) x3=j, y3=i;\\n\\n\\t\\t}\\n\\n\\t\\tB[y2][x2]=7; // \\u8a2a\\u554f\\u6e08\\u307f\\u306e\\u30de\\u30fc\\u30af\\n\\n\\n\\n\\t\\tans=777;\\n\\n\\t\\tdfs(x2,y2,0);\\n\\n\\t\\tprintf(\\\"%d\\\\n\\\",ans<777?ans:0);\\n\\n\\t}\\n\\n\\n\\n\\treturn 0;\\n\\n}\", \"problem_id\": \"p00849\"}\n15:{\"original_code\": \"#include<cstdio>\\n\\n#include<cstring>\\n\\n\\n\\n#define rep(i,n) for(int i=0;i<(n);i++)\\n\\n\\n\\nusing namespace std;\\n\\n\\n\\nconst int dx[]={1,0,-1,0},dy[]={0,-1,0,1};\\n\\n\\n\\nint h,w,B[9][9];\\n\\n\\n\\nint x2,y2,x3,y3; // 2, 3 \\u305d\\u308c\\u305e\\u308c\\u306e\\u51fa\\u767a\\u70b9\\n\\n\\n\\nint bfs(int x,int y,int tar){\\n\\n\\tint d[9][9];\\n\\n\\tmemset(d,-1,sizeof d);\\n\\n\\td[y][x]=0;\\n\\n\\tint Q[81],head=0,tail=0; Q[tail++]=y*w+x;\\n\\n\\twhile(head<tail){\\n\\n\\t\\tint i=Q[head]/w,j=Q[head]%w; head++;\\n\\n\\t\\trep(k,4){\\n\\n\\t\\t\\tint yy=i+dy[k],xx=j+dx[k];\\n\\n\\t\\t\\tif(0<=yy && yy<h && 0<=xx && xx<w && d[yy][xx]==-1){\\n\\n\\t\\t\\t\\tif(B[yy][xx]==tar) return d[i][j]+1;\\n\\n\\t\\t\\t\\tif(B[yy][xx]== 0 ) Q[tail++]=yy*w+xx, d[yy][xx]=d[i][j]+1;\\n\\n\\t\\t\\t}\\n\\n\\t\\t}\\n\\n\\t}\\n\\n\\treturn 777;\\n\\n}\\n\\n\\n\\nint ans;\\n\\nvoid dfs(int x,int y,int now){\\n\\n\\tint hstar=bfs(x,y,2)+bfs(x3,y3,3);\\n\\n\\tif(ans<now+1+hstar) return;\\n\\n\\n\\n\\t// \\u3053\\u308c\\u307e\\u3067\\u306e\\u30d1\\u30b9\\u3068\\u63a5\\u3057\\u305f\\u3089\\u679d\\u5208\\u308a\\n\\n\\tint cnt=0;\\n\\n\\trep(k,4){\\n\\n\\t\\tint xx=x+dx[k],yy=y+dy[k];\\n\\n\\t\\tif(0<=xx && xx<w && 0<=yy && yy<h && B[yy][xx]==7) cnt++;\\n\\n\\t}\\n\\n\\tif(cnt>=2) return;\\n\\n\\n\\n\\t// 777...777\\n\\n\\t// 700...007\\n\\n\\t// ?00...00?\\n\\n\\t// \\u3068\\u3044\\u3046\\u30d1\\u30bf\\u30fc\\u30f3 ( or \\u56de\\u8ee2\\u3057\\u3066\\u4e00\\u81f4\\u3059\\u308b\\u3082\\u306e ) \\u304c\\u3042\\u308c\\u3070\\u679d\\u5208\\u308a\\n\\n\\tfor(int L=3;L<=8;L++){\\n\\n\\t\\tbool ng;\\n\\n\\t\\tif(y>0 && x+L-1<w){\\n\\n\\t\\t\\tng=true;\\n\\n\\t\\t\\tif(ng) rep(j,L) if(B[y-1][x+j]!=7) { ng=false; break; }\\n\\n\\t\\t\\tif(ng) rep(j,L) if(B[y  ][x+j]!=(j==0||j==L-1?7:0)) { ng=false; break; }\\n\\n\\t\\t\\tif(ng && L>=5 && y+1<h) rep(j,L) if(0<j && j<L-1 && B[y+1][x+j]!=0) { ng=false; break; }\\n\\n\\t\\t\\tif(ng) return;\\n\\n\\n\\n\\t\\t\\tng=true;\\n\\n\\t\\t\\tif(ng && L>=5 && y-2>=0) rep(j,L) if(0<j && j<L-1 && B[y-2][x+j]!=0) { ng=false; break; }\\n\\n\\t\\t\\tif(ng) rep(j,L) if(B[y-1][x+j]!=(j==0||j==L-1?7:0)) { ng=false; break; }\\n\\n\\t\\t\\tif(ng) rep(j,L) if(B[y  ][x+j]!=7) { ng=false; break; }\\n\\n\\t\\t\\tif(ng) return;\\n\\n\\t\\t}\\n\\n\\t\\tif(y>0 && x-L+1>=0){\\n\\n\\t\\t\\tng=true;\\n\\n\\t\\t\\tif(ng) rep(j,L) if(B[y-1][x-j]!=7) { ng=false; break; }\\n\\n\\t\\t\\tif(ng) rep(j,L) if(B[y  ][x-j]!=(j==0||j==L-1?7:0)) { ng=false; break; }\\n\\n\\t\\t\\tif(ng && L>=5 && y+1<h) rep(j,L) if(0<j && j<L-1 && B[y+1][x-j]!=0) { ng=false; break; }\\n\\n\\t\\t\\tif(ng) return;\\n\\n\\n\\n\\t\\t\\tng=true;\\n\\n\\t\\t\\tif(ng && L>=5 && y-2>=0) rep(j,L) if(0<j && j<L-1 && B[y-2][x-j]!=0) { ng=false; break; }\\n\\n\\t\\t\\tif(ng) rep(j,L) if(B[y-1][x-j]!=(j==0||j==L-1?7:0)) { ng=false; break; }\\n\\n\\t\\t\\tif(ng) rep(j,L) if(B[y  ][x-j]!=7) { ng=false; break; }\\n\\n\\t\\t\\tif(ng) return;\\n\\n\\t\\t}\\n\\n\\t\\tif(y+L-1<h && x+1<w){\\n\\n\\t\\t\\tng=true;\\n\\n\\t\\t\\tif(ng) rep(i,L) if(B[y+i][x  ]!=7) { ng=false; break; }\\n\\n\\t\\t\\tif(ng) rep(i,L) if(B[y+i][x+1]!=(i==0||i==L-1?7:0)) { ng=false; break; }\\n\\n\\t\\t\\tif(ng && L>=5 && x+2<w) rep(i,L) if(0<i && i<L-1 && B[y+i][x+2]!=0) { ng=false; break; }\\n\\n\\t\\t\\tif(ng) return;\\n\\n\\n\\n\\t\\t\\tng=true;\\n\\n\\t\\t\\tif(ng && L>=5 && x-1>=0) rep(i,L) if(0<i && i<L-1 && B[y+i][x-1]!=0) { ng=false; break; }\\n\\n\\t\\t\\tif(ng) rep(i,L) if(B[y+i][x  ]!=(i==0||i==L-1?7:0)) { ng=false; break; }\\n\\n\\t\\t\\tif(ng) rep(i,L) if(B[y+i][x+1]!=7) { ng=false; break; }\\n\\n\\t\\t\\tif(ng) return;\\n\\n\\t\\t}\\n\\n\\t\\tif(y-L+1>=0 && x+1<w){\\n\\n\\t\\t\\tng=true;\\n\\n\\t\\t\\tif(ng) rep(i,L) if(B[y-i][x  ]!=7) { ng=false; break; }\\n\\n\\t\\t\\tif(ng) rep(i,L) if(B[y-i][x+1]!=(i==0||i==L-1?7:0)) { ng=false; break; }\\n\\n\\t\\t\\tif(ng && L>=5 && x+2<w) rep(i,L) if(0<i && i<L-1 && B[y-i][x+2]!=0) { ng=false; break; }\\n\\n\\t\\t\\tif(ng) return;\\n\\n\\n\\n\\t\\t\\tng=true;\\n\\n\\t\\t\\tif(ng && L>=5 && x-1>=0) rep(i,L) if(0<i && i<L-1 && B[y-i][x-1]!=0) { ng=false; break; }\\n\\n\\t\\t\\tif(ng) rep(i,L) if(B[y-i][x  ]!=(i==0||i==L-1?7:0)) { ng=false; break; }\\n\\n\\t\\t\\tif(ng) rep(i,L) if(B[y-i][x+1]!=7) { ng=false; break; }\\n\\n\\t\\t\\tif(ng) return;\\n\\n\\t\\t}\\n\\n\\t}\\n\\n\\n\\n\\trep(k,4){\\n\\n\\t\\tint xx=x+dx[k],yy=y+dy[k];\\n\\n\\t\\tif(0<=xx && xx<w && 0<=yy && yy<h){\\n\\n\\t\\t\\tif(B[yy][xx]==2){\\n\\n\\t\\t\\t\\tans=now+1+bfs(x3,y3,3);\\n\\n\\t\\t\\t\\treturn;\\n\\n\\t\\t\\t}\\n\\n\\t\\t\\telse if(B[yy][xx]==0){\\n\\n\\t\\t\\t\\tB[yy][xx]=7;\\n\\n\\t\\t\\t\\tdfs(xx,yy,now+1);\\n\\n\\t\\t\\t\\tB[yy][xx]=0;\\n\\n\\t\\t\\t}\\n\\n\\t\\t}\\n\\n\\t}\\n\\n}\\n\\n\\n\\nint main(){\\n\\n\\twhile(scanf(\\\"%d%d\\\",&h,&w),h){\\n\\n\\t\\trep(i,h) rep(j,w) scanf(\\\"%d\\\",B[i]+j);\\n\\n\\n\\n\\t\\trep(i,h) rep(j,w) {\\n\\n\\t\\t\\tif(B[i][j]==2) x2=j, y2=i;\\n\\n\\t\\t\\tif(B[i][j]==3) x3=j, y3=i;\\n\\n\\t\\t}\\n\\n\\t\\tB[y2][x2]=7; // \\u8a2a\\u554f\\u6e08\\u307f\\u306e\\u30de\\u30fc\\u30af\\n\\n\\n\\n\\t\\tans=777;\\n\\n\\t\\tdfs(x2,y2,0);\\n\\n\\t\\tprintf(\\\"%d\\\\n\\\",ans<777?ans:0);\\n\\n\\t}\\n\\n\\n\\n\\treturn 0;\\n\\n}\", \"improved_code\": \"#include<cstdio>\\n\\n#include<cstring>\\n\\n\\n\\n#define rep(i,n) for(int i=0;i<(n);i++)\\n\\n\\n\\nusing namespace std;\\n\\n\\n\\nconst int dx[]={1,0,-1,0},dy[]={0,-1,0,1};\\n\\n\\n\\nint h,w,B[9][9];\\n\\n\\n\\nint x2,y2,x3,y3; // 2, 3 \\u305d\\u308c\\u305e\\u308c\\u306e\\u51fa\\u767a\\u70b9\\n\\n\\n\\nint bfs(int x,int y,int tar){\\n\\n\\tint d[9][9];\\n\\n\\tmemset(d,-1,sizeof d);\\n\\n\\td[y][x]=0;\\n\\n\\tint Q[81],head=0,tail=0; Q[tail++]=y*w+x;\\n\\n\\twhile(head<tail){\\n\\n\\t\\tint i=Q[head]/w,j=Q[head]%w; head++;\\n\\n\\t\\trep(k,4){\\n\\n\\t\\t\\tint yy=i+dy[k],xx=j+dx[k];\\n\\n\\t\\t\\tif(0<=yy && yy<h && 0<=xx && xx<w && d[yy][xx]==-1){\\n\\n\\t\\t\\t\\tif(B[yy][xx]==tar) return d[i][j]+1;\\n\\n\\t\\t\\t\\tif(B[yy][xx]== 0 ) Q[tail++]=yy*w+xx, d[yy][xx]=d[i][j]+1;\\n\\n\\t\\t\\t}\\n\\n\\t\\t}\\n\\n\\t}\\n\\n\\treturn 777;\\n\\n}\\n\\n\\n\\nint ans;\\n\\nvoid dfs(int x,int y,int now){\\n\\n\\tint hstar=bfs(x,y,2)+bfs(x3,y3,3);\\n\\n\\tif(ans<now+1+hstar) return;\\n\\n\\n\\n\\t// \\u3053\\u308c\\u307e\\u3067\\u306e\\u30d1\\u30b9\\u3068\\u63a5\\u3057\\u305f\\u3089\\u679d\\u5208\\u308a\\n\\n\\tint cnt=0;\\n\\n\\trep(k,4){\\n\\n\\t\\tint xx=x+dx[k],yy=y+dy[k];\\n\\n\\t\\tif(0<=xx && xx<w && 0<=yy && yy<h && B[yy][xx]==7) cnt++;\\n\\n\\t}\\n\\n\\tif(cnt>=2) return;\\n\\n\\n\\n\\t// 777...777\\n\\n\\t// 700...007\\n\\n\\t// ?00...00?\\n\\n\\t// \\u3068\\u3044\\u3046\\u30d1\\u30bf\\u30fc\\u30f3 ( or \\u56de\\u8ee2/\\u53cd\\u8ee2\\u3057\\u3066\\u4e00\\u81f4\\u3059\\u308b\\u3082\\u306e ) \\u304c\\u3042\\u308c\\u3070\\u679d\\u5208\\u308a\\n\\n\\tfor(int L=3;L<=8;L++){\\n\\n\\t\\tbool ng;\\n\\n\\t\\tif(y>0 && x+L-1<w){\\n\\n\\t\\t\\tng=true;\\n\\n\\t\\t\\tif(ng) rep(j,L) if(B[y-1][x+j]!=7) { ng=false; break; }\\n\\n\\t\\t\\tif(ng) rep(j,L) if(B[y  ][x+j]!=(j==0||j==L-1?7:0)) { ng=false; break; }\\n\\n\\t\\t\\tif(ng && L>=5 && y+1<h) rep(j,L) if(0<j && j<L-1 && B[y+1][x+j]!=0) { ng=false; break; }\\n\\n\\t\\t\\tif(ng) return;\\n\\n\\t\\t}\\n\\n\\t\\tif(y+1<h && x+L-1<w){\\n\\n\\t\\t\\tng=true;\\n\\n\\t\\t\\tif(ng && L>=5 && y>0) rep(j,L) if(0<j && j<L-1 && B[y-1][x+j]!=0) { ng=false; break; }\\n\\n\\t\\t\\tif(ng) rep(j,L) if(B[y  ][x+j]!=(j==0||j==L-1?7:0)) { ng=false; break; }\\n\\n\\t\\t\\tif(ng) rep(j,L) if(B[y+1][x+j]!=7) { ng=false; break; }\\n\\n\\t\\t\\tif(ng) return;\\n\\n\\t\\t}\\n\\n\\t\\tif(y>0 && x-L+1>=0){\\n\\n\\t\\t\\tng=true;\\n\\n\\t\\t\\tif(ng) rep(j,L) if(B[y-1][x-j]!=7) { ng=false; break; }\\n\\n\\t\\t\\tif(ng) rep(j,L) if(B[y  ][x-j]!=(j==0||j==L-1?7:0)) { ng=false; break; }\\n\\n\\t\\t\\tif(ng && L>=5 && y+1<h) rep(j,L) if(0<j && j<L-1 && B[y+1][x-j]!=0) { ng=false; break; }\\n\\n\\t\\t\\tif(ng) return;\\n\\n\\t\\t}\\n\\n\\t\\tif(y+1<h && x-L+1>=0){\\n\\n\\t\\t\\tng=true;\\n\\n\\t\\t\\tif(ng && L>=5 && y>0) rep(j,L) if(0<j && j<L-1 && B[y-1][x-j]!=0) { ng=false; break; }\\n\\n\\t\\t\\tif(ng) rep(j,L) if(B[y  ][x-j]!=(j==0||j==L-1?7:0)) { ng=false; break; }\\n\\n\\t\\t\\tif(ng) rep(j,L) if(B[y+1][x-j]!=7) { ng=false; break; }\\n\\n\\t\\t\\tif(ng) return;\\n\\n\\t\\t}\\n\\n\\t\\tif(y+L-1<h && x>0){\\n\\n\\t\\t\\tng=true;\\n\\n\\t\\t\\tif(ng) rep(i,L) if(B[y+i][x-1]!=7) { ng=false; break; }\\n\\n\\t\\t\\tif(ng) rep(i,L) if(B[y+i][x  ]!=(i==0||i==L-1?7:0)) { ng=false; break; }\\n\\n\\t\\t\\tif(ng && L>=5 && x+1<w) rep(i,L) if(0<i && i<L-1 && B[y+i][x+1]!=0) { ng=false; break; }\\n\\n\\t\\t\\tif(ng) return;\\n\\n\\t\\t}\\n\\n\\t\\tif(y+L-1<h && x+1<w){\\n\\n\\t\\t\\tng=true;\\n\\n\\t\\t\\tif(ng && L>=5 && x>0) rep(i,L) if(0<i && i<L-1 && B[y+i][x-1]!=0) { ng=false; break; }\\n\\n\\t\\t\\tif(ng) rep(i,L) if(B[y+i][x  ]!=(i==0||i==L-1?7:0)) { ng=false; break; }\\n\\n\\t\\t\\tif(ng) rep(i,L) if(B[y+i][x+1]!=7) { ng=false; break; }\\n\\n\\t\\t\\tif(ng) return;\\n\\n\\t\\t}\\n\\n\\t\\tif(y-L+1>=0 && x>0){\\n\\n\\t\\t\\tng=true;\\n\\n\\t\\t\\tif(ng) rep(i,L) if(B[y-i][x-1]!=7) { ng=false; break; }\\n\\n\\t\\t\\tif(ng) rep(i,L) if(B[y-i][x  ]!=(i==0||i==L-1?7:0)) { ng=false; break; }\\n\\n\\t\\t\\tif(ng && L>=5 && x+1<w) rep(i,L) if(0<i && i<L-1 && B[y-i][x+1]!=0) { ng=false; break; }\\n\\n\\t\\t\\tif(ng) return;\\n\\n\\t\\t}\\n\\n\\t\\tif(y-L+1>=0 && x+1<w){\\n\\n\\t\\t\\tng=true;\\n\\n\\t\\t\\tif(ng && L>=5 && x>0) rep(i,L) if(0<i && i<L-1 && B[y-i][x-1]!=0) { ng=false; break; }\\n\\n\\t\\t\\tif(ng) rep(i,L) if(B[y-i][x  ]!=(i==0||i==L-1?7:0)) { ng=false; break; }\\n\\n\\t\\t\\tif(ng) rep(i,L) if(B[y-i][x+1]!=7) { ng=false; break; }\\n\\n\\t\\t\\tif(ng) return;\\n\\n\\t\\t}\\n\\n\\t}\\n\\n\\n\\n\\trep(k,4){\\n\\n\\t\\tint xx=x+dx[k],yy=y+dy[k];\\n\\n\\t\\tif(0<=xx && xx<w && 0<=yy && yy<h){\\n\\n\\t\\t\\tif(B[yy][xx]==2){\\n\\n\\t\\t\\t\\tans=now+1+bfs(x3,y3,3);\\n\\n\\t\\t\\t\\treturn;\\n\\n\\t\\t\\t}\\n\\n\\t\\t\\telse if(B[yy][xx]==0){\\n\\n\\t\\t\\t\\tB[yy][xx]=7;\\n\\n\\t\\t\\t\\tdfs(xx,yy,now+1);\\n\\n\\t\\t\\t\\tB[yy][xx]=0;\\n\\n\\t\\t\\t}\\n\\n\\t\\t}\\n\\n\\t}\\n\\n}\\n\\n\\n\\nint main(){\\n\\n\\twhile(scanf(\\\"%d%d\\\",&h,&w),h){\\n\\n\\t\\trep(i,h) rep(j,w) scanf(\\\"%d\\\",B[i]+j);\\n\\n\\n\\n\\t\\trep(i,h) rep(j,w) {\\n\\n\\t\\t\\tif(B[i][j]==2) x2=j, y2=i;\\n\\n\\t\\t\\tif(B[i][j]==3) x3=j, y3=i;\\n\\n\\t\\t}\\n\\n\\t\\tB[y2][x2]=7; // \\u8a2a\\u554f\\u6e08\\u307f\\u306e\\u30de\\u30fc\\u30af\\n\\n\\n\\n\\t\\tans=777;\\n\\n\\t\\tdfs(x2,y2,0);\\n\\n\\t\\tprintf(\\\"%d\\\\n\\\",ans<777?ans:0);\\n\\n\\t}\\n\\n\\n\\n\\treturn 0;\\n\\n}\", \"problem_id\": \"p00849\"}\n16:{\"original_code\": \"#include<cstdio>\\n\\n#include<cstring>\\n\\n\\n\\n#define rep(i,n) for(int i=0;i<(n);i++)\\n\\n\\n\\nusing namespace std;\\n\\n\\n\\nconst int dx[]={1,0,-1,0},dy[]={0,-1,0,1};\\n\\n\\n\\nint h,w,B[9][9];\\n\\n\\n\\nint x2,y2,x3,y3; // 2, 3 \\u305d\\u308c\\u305e\\u308c\\u306e\\u51fa\\u767a\\u70b9\\n\\n\\n\\nint bfs(int x,int y,int tar){\\n\\n\\tint d[9][9];\\n\\n\\tmemset(d,-1,sizeof d);\\n\\n\\td[y][x]=0;\\n\\n\\tint Q[81],head=0,tail=0; Q[tail++]=y*w+x;\\n\\n\\twhile(head<tail){\\n\\n\\t\\tint i=Q[head]/w,j=Q[head]%w; head++;\\n\\n\\t\\trep(k,4){\\n\\n\\t\\t\\tint yy=i+dy[k],xx=j+dx[k];\\n\\n\\t\\t\\tif(0<=yy && yy<h && 0<=xx && xx<w && d[yy][xx]==-1){\\n\\n\\t\\t\\t\\tif(B[yy][xx]==tar) return d[i][j]+1;\\n\\n\\t\\t\\t\\tif(B[yy][xx]== 0 ) Q[tail++]=yy*w+xx, d[yy][xx]=d[i][j]+1;\\n\\n\\t\\t\\t}\\n\\n\\t\\t}\\n\\n\\t}\\n\\n\\treturn 777;\\n\\n}\\n\\n\\n\\nint ans;\\n\\nvoid dfs(int x,int y,int now){\\n\\n\\tint hstar=bfs(x,y,2)+bfs(x3,y3,3);\\n\\n\\tif(ans<now+1+hstar) return;\\n\\n\\n\\n\\t// \\u3053\\u308c\\u307e\\u3067\\u306e\\u30d1\\u30b9\\u3068\\u63a5\\u3057\\u305f\\u3089\\u679d\\u5208\\u308a\\n\\n\\tint cnt=0;\\n\\n\\trep(k,4){\\n\\n\\t\\tint xx=x+dx[k],yy=y+dy[k];\\n\\n\\t\\tif(0<=xx && xx<w && 0<=yy && yy<h && B[yy][xx]==7) cnt++;\\n\\n\\t}\\n\\n\\tif(cnt>=2) return;\\n\\n\\n\\n\\t// 777...777\\n\\n\\t// 700...007\\n\\n\\t// ?00...00?\\n\\n\\t// \\u3068\\u3044\\u3046\\u30d1\\u30bf\\u30fc\\u30f3 ( or \\u56de\\u8ee2/\\u53cd\\u8ee2\\u3057\\u3066\\u4e00\\u81f4\\u3059\\u308b\\u3082\\u306e ) \\u304c\\u3042\\u308c\\u3070\\u679d\\u5208\\u308a\\n\\n\\tfor(int L=3;L<=8;L++){\\n\\n\\t\\tbool ng;\\n\\n\\t\\tif(y>0 && x+L-1<w){\\n\\n\\t\\t\\tng=true;\\n\\n\\t\\t\\tif(ng) rep(j,L) if(B[y-1][x+j]!=7) { ng=false; break; }\\n\\n\\t\\t\\tif(ng) rep(j,L) if(B[y  ][x+j]!=(j==0||j==L-1?7:0)) { ng=false; break; }\\n\\n\\t\\t\\tif(ng && L>=5 && y+1<h) rep(j,L) if(0<j && j<L-1 && B[y+1][x+j]!=0) { ng=false; break; }\\n\\n\\t\\t\\tif(ng) return;\\n\\n\\t\\t}\\n\\n\\t\\tif(y+1<h && x+L-1<w){\\n\\n\\t\\t\\tng=true;\\n\\n\\t\\t\\tif(ng && L>=5 && y>0) rep(j,L) if(0<j && j<L-1 && B[y-1][x+j]!=0) { ng=false; break; }\\n\\n\\t\\t\\tif(ng) rep(j,L) if(B[y  ][x+j]!=(j==0||j==L-1?7:0)) { ng=false; break; }\\n\\n\\t\\t\\tif(ng) rep(j,L) if(B[y+1][x+j]!=7) { ng=false; break; }\\n\\n\\t\\t\\tif(ng) return;\\n\\n\\t\\t}\\n\\n\\t\\tif(y>0 && x-L+1>=0){\\n\\n\\t\\t\\tng=true;\\n\\n\\t\\t\\tif(ng) rep(j,L) if(B[y-1][x-j]!=7) { ng=false; break; }\\n\\n\\t\\t\\tif(ng) rep(j,L) if(B[y  ][x-j]!=(j==0||j==L-1?7:0)) { ng=false; break; }\\n\\n\\t\\t\\tif(ng && L>=5 && y+1<h) rep(j,L) if(0<j && j<L-1 && B[y+1][x-j]!=0) { ng=false; break; }\\n\\n\\t\\t\\tif(ng) return;\\n\\n\\t\\t}\\n\\n\\t\\tif(y+1<h && x-L+1>=0){\\n\\n\\t\\t\\tng=true;\\n\\n\\t\\t\\tif(ng && L>=5 && y>0) rep(j,L) if(0<j && j<L-1 && B[y-1][x-j]!=0) { ng=false; break; }\\n\\n\\t\\t\\tif(ng) rep(j,L) if(B[y  ][x-j]!=(j==0||j==L-1?7:0)) { ng=false; break; }\\n\\n\\t\\t\\tif(ng) rep(j,L) if(B[y+1][x-j]!=7) { ng=false; break; }\\n\\n\\t\\t\\tif(ng) return;\\n\\n\\t\\t}\\n\\n\\t\\tif(y+L-1<h && x>0){\\n\\n\\t\\t\\tng=true;\\n\\n\\t\\t\\tif(ng) rep(i,L) if(B[y+i][x-1]!=7) { ng=false; break; }\\n\\n\\t\\t\\tif(ng) rep(i,L) if(B[y+i][x  ]!=(i==0||i==L-1?7:0)) { ng=false; break; }\\n\\n\\t\\t\\tif(ng && L>=5 && x+1<w) rep(i,L) if(0<i && i<L-1 && B[y+i][x+1]!=0) { ng=false; break; }\\n\\n\\t\\t\\tif(ng) return;\\n\\n\\t\\t}\\n\\n\\t\\tif(y+L-1<h && x+1<w){\\n\\n\\t\\t\\tng=true;\\n\\n\\t\\t\\tif(ng && L>=5 && x>0) rep(i,L) if(0<i && i<L-1 && B[y+i][x-1]!=0) { ng=false; break; }\\n\\n\\t\\t\\tif(ng) rep(i,L) if(B[y+i][x  ]!=(i==0||i==L-1?7:0)) { ng=false; break; }\\n\\n\\t\\t\\tif(ng) rep(i,L) if(B[y+i][x+1]!=7) { ng=false; break; }\\n\\n\\t\\t\\tif(ng) return;\\n\\n\\t\\t}\\n\\n\\t\\tif(y-L+1>=0 && x>0){\\n\\n\\t\\t\\tng=true;\\n\\n\\t\\t\\tif(ng) rep(i,L) if(B[y-i][x-1]!=7) { ng=false; break; }\\n\\n\\t\\t\\tif(ng) rep(i,L) if(B[y-i][x  ]!=(i==0||i==L-1?7:0)) { ng=false; break; }\\n\\n\\t\\t\\tif(ng && L>=5 && x+1<w) rep(i,L) if(0<i && i<L-1 && B[y-i][x+1]!=0) { ng=false; break; }\\n\\n\\t\\t\\tif(ng) return;\\n\\n\\t\\t}\\n\\n\\t\\tif(y-L+1>=0 && x+1<w){\\n\\n\\t\\t\\tng=true;\\n\\n\\t\\t\\tif(ng && L>=5 && x>0) rep(i,L) if(0<i && i<L-1 && B[y-i][x-1]!=0) { ng=false; break; }\\n\\n\\t\\t\\tif(ng) rep(i,L) if(B[y-i][x  ]!=(i==0||i==L-1?7:0)) { ng=false; break; }\\n\\n\\t\\t\\tif(ng) rep(i,L) if(B[y-i][x+1]!=7) { ng=false; break; }\\n\\n\\t\\t\\tif(ng) return;\\n\\n\\t\\t}\\n\\n\\t}\\n\\n\\n\\n\\trep(k,4){\\n\\n\\t\\tint xx=x+dx[k],yy=y+dy[k];\\n\\n\\t\\tif(0<=xx && xx<w && 0<=yy && yy<h){\\n\\n\\t\\t\\tif(B[yy][xx]==2){\\n\\n\\t\\t\\t\\tans=now+1+bfs(x3,y3,3);\\n\\n\\t\\t\\t\\treturn;\\n\\n\\t\\t\\t}\\n\\n\\t\\t\\telse if(B[yy][xx]==0){\\n\\n\\t\\t\\t\\tB[yy][xx]=7;\\n\\n\\t\\t\\t\\tdfs(xx,yy,now+1);\\n\\n\\t\\t\\t\\tB[yy][xx]=0;\\n\\n\\t\\t\\t}\\n\\n\\t\\t}\\n\\n\\t}\\n\\n}\\n\\n\\n\\nint main(){\\n\\n\\twhile(scanf(\\\"%d%d\\\",&h,&w),h){\\n\\n\\t\\trep(i,h) rep(j,w) scanf(\\\"%d\\\",B[i]+j);\\n\\n\\n\\n\\t\\trep(i,h) rep(j,w) {\\n\\n\\t\\t\\tif(B[i][j]==2) x2=j, y2=i;\\n\\n\\t\\t\\tif(B[i][j]==3) x3=j, y3=i;\\n\\n\\t\\t}\\n\\n\\t\\tB[y2][x2]=7; // \\u8a2a\\u554f\\u6e08\\u307f\\u306e\\u30de\\u30fc\\u30af\\n\\n\\n\\n\\t\\tans=777;\\n\\n\\t\\tdfs(x2,y2,0);\\n\\n\\t\\tprintf(\\\"%d\\\\n\\\",ans<777?ans:0);\\n\\n\\t}\\n\\n\\n\\n\\treturn 0;\\n\\n}\", \"improved_code\": \"#include<cstdio>\\n\\n#include<cstring>\\n\\n\\n\\n#define rep(i,n) for(int i=0;i<(n);i++)\\n\\n\\n\\nusing namespace std;\\n\\n\\n\\nconst int dx[]={1,0,-1,0},dy[]={0,-1,0,1};\\n\\n\\n\\nint h,w,B[9][9];\\n\\n\\n\\nint x2,y2,x3,y3; // 2, 3 \\u305d\\u308c\\u305e\\u308c\\u306e\\u51fa\\u767a\\u70b9\\n\\n\\n\\nint bfs(int x,int y,int tar){\\n\\n\\tint d[9][9];\\n\\n\\tmemset(d,-1,sizeof d);\\n\\n\\td[y][x]=0;\\n\\n\\tint Q[81],head=0,tail=0; Q[tail++]=y*w+x;\\n\\n\\twhile(head<tail){\\n\\n\\t\\tint i=Q[head]/w,j=Q[head]%w; head++;\\n\\n\\t\\trep(k,4){\\n\\n\\t\\t\\tint yy=i+dy[k],xx=j+dx[k];\\n\\n\\t\\t\\tif(0<=yy && yy<h && 0<=xx && xx<w && d[yy][xx]==-1){\\n\\n\\t\\t\\t\\tif(B[yy][xx]==tar) return d[i][j]+1;\\n\\n\\t\\t\\t\\tif(B[yy][xx]== 0 ) Q[tail++]=yy*w+xx, d[yy][xx]=d[i][j]+1;\\n\\n\\t\\t\\t}\\n\\n\\t\\t}\\n\\n\\t}\\n\\n\\treturn 777;\\n\\n}\\n\\n\\n\\nint ans;\\n\\nvoid dfs(int x,int y,int now){\\n\\n\\tint hstar=bfs(x,y,2)+bfs(x3,y3,3);\\n\\n\\tif(ans<now+1+hstar) return;\\n\\n\\n\\n\\t// \\u3053\\u308c\\u307e\\u3067\\u306e\\u30d1\\u30b9\\u3068\\u63a5\\u3057\\u305f\\u3089\\u679d\\u5208\\u308a\\n\\n\\tint cnt=0;\\n\\n\\trep(k,4){\\n\\n\\t\\tint xx=x+dx[k],yy=y+dy[k];\\n\\n\\t\\tif(0<=xx && xx<w && 0<=yy && yy<h && B[yy][xx]==7) cnt++;\\n\\n\\t}\\n\\n\\tif(cnt>=2) return;\\n\\n\\n\\n\\t// 777...777\\n\\n\\t// 700...007\\n\\n\\t// ?00...00?\\n\\n\\t// \\u3068\\u3044\\u3046\\u30d1\\u30bf\\u30fc\\u30f3 ( or \\u56de\\u8ee2/\\u53cd\\u8ee2\\u3057\\u3066\\u4e00\\u81f4\\u3059\\u308b\\u3082\\u306e ) \\u304c\\u3042\\u308c\\u3070\\u679d\\u5208\\u308a\\n\\n\\tfor(int L=3;L<=8;L++){\\n\\n\\t\\tbool ng;\\n\\n\\t\\tif(y>0 && x+L-1<w){\\n\\n\\t\\t\\tng=true;\\n\\n\\t\\t\\tif(ng) rep(j,L) if(B[y-1][x+j]!=7) { ng=false; break; }\\n\\n\\t\\t\\tif(ng) rep(j,L) if(B[y  ][x+j]!=(j==0||j==L-1?7:0)) { ng=false; break; }\\n\\n\\t\\t\\tif(ng && L>=5 && y+1<h) rep(j,L) if(0<j && j<L-1 && B[y+1][x+j]!=0) { ng=false; break; }\\n\\n\\t\\t\\tif(ng) return;\\n\\n\\t\\t}\\n\\n\\t\\tif(y+1<h && x+L-1<w){\\n\\n\\t\\t\\tng=true;\\n\\n\\t\\t\\tif(ng && L>=5 && y>0) rep(j,L) if(0<j && j<L-1 && B[y-1][x+j]!=0) { ng=false; break; }\\n\\n\\t\\t\\tif(ng) rep(j,L) if(B[y  ][x+j]!=(j==0||j==L-1?7:0)) { ng=false; break; }\\n\\n\\t\\t\\tif(ng) rep(j,L) if(B[y+1][x+j]!=7) { ng=false; break; }\\n\\n\\t\\t\\tif(ng) return;\\n\\n\\t\\t}\\n\\n\\t\\tif(y>0 && x-L+1>=0){\\n\\n\\t\\t\\tng=true;\\n\\n\\t\\t\\tif(ng) rep(j,L) if(B[y-1][x-j]!=7) { ng=false; break; }\\n\\n\\t\\t\\tif(ng) rep(j,L) if(B[y  ][x-j]!=(j==0||j==L-1?7:0)) { ng=false; break; }\\n\\n\\t\\t\\tif(ng && L>=5 && y+1<h) rep(j,L) if(0<j && j<L-1 && B[y+1][x-j]!=0) { ng=false; break; }\\n\\n\\t\\t\\tif(ng) return;\\n\\n\\t\\t}\\n\\n\\t\\tif(y+1<h && x-L+1>=0){\\n\\n\\t\\t\\tng=true;\\n\\n\\t\\t\\tif(ng && L>=5 && y>0) rep(j,L) if(0<j && j<L-1 && B[y-1][x-j]!=0) { ng=false; break; }\\n\\n\\t\\t\\tif(ng) rep(j,L) if(B[y  ][x-j]!=(j==0||j==L-1?7:0)) { ng=false; break; }\\n\\n\\t\\t\\tif(ng) rep(j,L) if(B[y+1][x-j]!=7) { ng=false; break; }\\n\\n\\t\\t\\tif(ng) return;\\n\\n\\t\\t}\\n\\n\\t\\tif(y+L-1<h && x>0){\\n\\n\\t\\t\\tng=true;\\n\\n\\t\\t\\tif(ng) rep(i,L) if(B[y+i][x-1]!=7) { ng=false; break; }\\n\\n\\t\\t\\tif(ng) rep(i,L) if(B[y+i][x  ]!=(i==0||i==L-1?7:0)) { ng=false; break; }\\n\\n\\t\\t\\tif(ng && L>=5 && x+1<w) rep(i,L) if(0<i && i<L-1 && B[y+i][x+1]!=0) { ng=false; break; }\\n\\n\\t\\t\\tif(ng) return;\\n\\n\\t\\t}\\n\\n\\t\\tif(y+L-1<h && x+1<w){\\n\\n\\t\\t\\tng=true;\\n\\n\\t\\t\\tif(ng && L>=5 && x>0) rep(i,L) if(0<i && i<L-1 && B[y+i][x-1]!=0) { ng=false; break; }\\n\\n\\t\\t\\tif(ng) rep(i,L) if(B[y+i][x  ]!=(i==0||i==L-1?7:0)) { ng=false; break; }\\n\\n\\t\\t\\tif(ng) rep(i,L) if(B[y+i][x+1]!=7) { ng=false; break; }\\n\\n\\t\\t\\tif(ng) return;\\n\\n\\t\\t}\\n\\n\\t\\tif(y-L+1>=0 && x>0){\\n\\n\\t\\t\\tng=true;\\n\\n\\t\\t\\tif(ng) rep(i,L) if(B[y-i][x-1]!=7) { ng=false; break; }\\n\\n\\t\\t\\tif(ng) rep(i,L) if(B[y-i][x  ]!=(i==0||i==L-1?7:0)) { ng=false; break; }\\n\\n\\t\\t\\tif(ng && L>=5 && x+1<w) rep(i,L) if(0<i && i<L-1 && B[y-i][x+1]!=0) { ng=false; break; }\\n\\n\\t\\t\\tif(ng) return;\\n\\n\\t\\t}\\n\\n\\t\\tif(y-L+1>=0 && x+1<w){\\n\\n\\t\\t\\tng=true;\\n\\n\\t\\t\\tif(ng && L>=5 && x>0) rep(i,L) if(0<i && i<L-1 && B[y-i][x-1]!=0) { ng=false; break; }\\n\\n\\t\\t\\tif(ng) rep(i,L) if(B[y-i][x  ]!=(i==0||i==L-1?7:0)) { ng=false; break; }\\n\\n\\t\\t\\tif(ng) rep(i,L) if(B[y-i][x+1]!=7) { ng=false; break; }\\n\\n\\t\\t\\tif(ng) return;\\n\\n\\t\\t}\\n\\n\\t}\\n\\n\\n\\n\\tfor(int k=3;k>=0;k--){\\n\\n\\t\\tint xx=x+dx[k],yy=y+dy[k];\\n\\n\\t\\tif(0<=xx && xx<w && 0<=yy && yy<h){\\n\\n\\t\\t\\tif(B[yy][xx]==2){\\n\\n\\t\\t\\t\\tans=now+1+bfs(x3,y3,3);\\n\\n\\t\\t\\t\\treturn;\\n\\n\\t\\t\\t}\\n\\n\\t\\t\\telse if(B[yy][xx]==0){\\n\\n\\t\\t\\t\\tB[yy][xx]=7;\\n\\n\\t\\t\\t\\tdfs(xx,yy,now+1);\\n\\n\\t\\t\\t\\tB[yy][xx]=0;\\n\\n\\t\\t\\t}\\n\\n\\t\\t}\\n\\n\\t}\\n\\n}\\n\\n\\n\\nint main(){\\n\\n\\twhile(scanf(\\\"%d%d\\\",&h,&w),h){\\n\\n\\t\\trep(i,h) rep(j,w) scanf(\\\"%d\\\",B[i]+j);\\n\\n\\n\\n\\t\\trep(i,h) rep(j,w) {\\n\\n\\t\\t\\tif(B[i][j]==2) x2=j, y2=i;\\n\\n\\t\\t\\tif(B[i][j]==3) x3=j, y3=i;\\n\\n\\t\\t}\\n\\n\\t\\tB[y2][x2]=7; // \\u8a2a\\u554f\\u6e08\\u307f\\u306e\\u30de\\u30fc\\u30af\\n\\n\\n\\n\\t\\tans=777;\\n\\n\\t\\tdfs(x2,y2,0);\\n\\n\\t\\tprintf(\\\"%d\\\\n\\\",ans<777?ans:0);\\n\\n\\t}\\n\\n\\n\\n\\treturn 0;\\n\\n}\", \"problem_id\": \"p00849\"}\n17:{\"original_code\": \"import java.util.Arrays;\\n\\nimport java.util.LinkedList;\\n\\nimport java.util.Queue;\\n\\nimport java.util.Scanner;\\n\\n\\n\\n//Manhattan Wiring\\n\\npublic class Main{\\n\\n\\n\\n\\tint h, w, res, INF = 1<<29, D3, L = 28000000, X;\\n\\n\\tint[][] a, dist;\\n\\n\\tboolean[][] u;\\n\\n\\tint[][] p2, p3;\\n\\n\\tint[][] d = {{-1,0},{0,1},{1,0},{0,-1}};\\n\\n\\tint[][] bad = {\\n\\n\\t\\t\\t{0,1,2},\\n\\n\\t\\t\\t{1,0,3},\\n\\n\\t\\t\\t{1,2,3},\\n\\n\\t\\t\\t{2,1,0},\\n\\n\\t\\t\\t{3,2,1},\\n\\n\\t\\t\\t{2,3,0},\\n\\n\\t\\t\\t{3,0,1},\\n\\n\\t\\t\\t{0,3,2}\\n\\n\\t};\\n\\n\\tint[][] no = {\\n\\n\\t\\t\\t{3,0,0,1,0},\\n\\n\\t\\t\\t{3,2,2,1,2},\\n\\n\\t\\t\\t{0,1,1,2,1},\\n\\n\\t\\t\\t{0,3,3,2,3},\\n\\n\\t\\t\\t{1,2,2,3,2},\\n\\n\\t\\t\\t{1,0,0,3,0},\\n\\n\\t\\t\\t{2,3,3,0,3},\\n\\n\\t\\t\\t{2,1,1,0,1}\\n\\n\\t};\\n\\n\\tint[][] bp = {\\n\\n\\t\\t\\t{2,0},\\n\\n\\t\\t\\t{-2,0},\\n\\n\\t\\t\\t{0,-2},\\n\\n\\t\\t\\t{0,2},\\n\\n\\t\\t\\t{-2,0},\\n\\n\\t\\t\\t{2,0},\\n\\n\\t\\t\\t{0,2},\\n\\n\\t\\t\\t{0,-2}\\n\\n\\t};\\n\\n\\tint[][] ng = {\\n\\n\\t\\t\\t{0,1,1,1,2,1},\\n\\n\\t\\t\\t{2,1,1,1,0,1},\\n\\n\\t\\t\\t{3,2,2,2,1,2},\\n\\n\\t\\t\\t{1,2,2,2,3,2},\\n\\n\\t\\t\\t{0,3,3,3,2,3},\\n\\n\\t\\t\\t{2,3,3,3,0,3},\\n\\n\\t\\t\\t{1,0,0,0,3,0},\\n\\n\\t\\t\\t{3,0,0,0,1,0}\\n\\n\\t};\\n\\n\\tint[][] b = {{3,5},{4,6},{0,7},{1,2}};\\n\\n\\tint[][] b5 = {{0,5},{2,7},{1,4},{3,6}};\\n\\n\\tint[] p;\\n\\n\\t\\n\\n\\tvoid dfs(int i, int j, int c, int pre){\\n\\n\\t\\tX++;\\n\\n\\t\\tif(L<=X&&res==INF)return;\\n\\n\\t\\tif(3<=c){\\n\\n\\t\\t\\tfor(int k=0;k<2;k++){\\n\\n\\t\\t\\t\\tif(p[c-3]==bad[b[pre][k]][0]&&p[c-2]==bad[b[pre][k]][1]&&p[c-1]==bad[b[pre][k]][2])return;\\n\\n\\t\\t\\t}\\n\\n\\t\\t}\\n\\n\\t\\tif(5<=c){\\n\\n\\t\\t\\tfor(int k=0;k<2;k++){\\n\\n\\t\\t\\t\\tif(p[c-5]==no[b5[pre][k]][0]&&p[c-4]==no[b5[pre][k]][1]&&p[c-3]==no[b5[pre][k]][2]&&p[c-2]==no[b5[pre][k]][3]&&p[c-1]==no[b5[pre][k]][4]&&a[i+bp[b5[pre][k]][0]][j+bp[b5[pre][k]][1]]==0)return;\\n\\n\\t\\t\\t}\\n\\n\\t\\t}\\n\\n\\t\\tif(6<=c){\\n\\n\\t\\t\\tboolean cut = false;\\n\\n\\t\\t\\tfor(int k=0;k<8;k++){\\n\\n\\t\\t\\t\\tboolean f = true;\\n\\n\\t\\t\\t\\tfor(int t=6;t>0;t--)if(p[c-t]!=ng[k][6-t])f = false;\\n\\n\\t\\t\\t\\tif(!f)continue;\\n\\n\\t\\t\\t\\tint dir = (ng[k][5]+2)%4;\\n\\n\\t\\t\\t\\tif(a[i+d[dir][0]*2][j+d[dir][1]*2]==0 || a[i+d[dir][0]*3][j+d[dir][1]*3]==0)cut = true;\\n\\n\\t\\t\\t}\\n\\n\\t\\t\\tif(cut){\\n\\n\\t\\t\\t\\treturn;\\n\\n\\t\\t\\t}\\n\\n\\t\\t}\\n\\n\\t\\tif(i==p2[1][0]&&j==p2[1][1]){\\n\\n\\t\\t\\tres = Math.min(res, c+bfs());\\n\\n\\t\\t\\treturn;\\n\\n\\t\\t}\\n\\n\\t\\tif(res<=c+Math.abs(i-p2[1][0])+Math.abs(j-p2[1][1])+D3)return;\\n\\n\\t\\tfor(int K=pre;K<pre+4;K++){\\n\\n\\t\\t\\tint k = K%4;\\n\\n\\t\\t\\tint ni = i+d[k][0], nj = j+d[k][1];\\n\\n\\t\\t\\tif(0<=ni&&ni<h&&0<=nj&&nj<w&&a[ni][nj]!=1&&a[ni][nj]!=3&&!u[ni][nj]){\\n\\n\\t\\t\\t\\tu[ni][nj] = true;\\n\\n\\t\\t\\t\\tp[c] = k;\\n\\n\\t\\t\\t\\tdfs(ni, nj, c+1, k);\\n\\n\\t\\t\\t\\tu[ni][nj] = false;\\n\\n\\t\\t\\t}\\n\\n\\t\\t}\\n\\n\\t}\\n\\n\\t\\n\\n\\tint bfs(){\\n\\n\\t\\tfor(int[]x:dist)Arrays.fill(x, INF);\\n\\n\\t\\tdist[p3[0][0]][p3[0][1]] = 0;\\n\\n\\t\\tQueue<int[]> q = new LinkedList<int[]>();\\n\\n\\t\\tq.add(new int[]{p3[0][0], p3[0][1]});\\n\\n\\t\\tint r = INF;\\n\\n\\t\\twhile(!q.isEmpty()){\\n\\n\\t\\t\\tint[] x = q.poll();\\n\\n\\t\\t\\tint pi = x[0], pj = x[1];\\n\\n\\t\\t\\tif(pi==p3[1][0]&&pj==p3[1][1]){\\n\\n\\t\\t\\t\\tr = dist[pi][pj]; break;\\n\\n\\t\\t\\t}\\n\\n\\t\\t\\tfor(int k=0;k<4;k++){\\n\\n\\t\\t\\t\\tint ni = pi+d[k][0], nj = pj+d[k][1];\\n\\n\\t\\t\\t\\tif(0<=ni&&ni<h&&0<=nj&&nj<w&&!u[ni][nj]&&dist[ni][nj]==INF&&a[ni][nj]!=1){\\n\\n\\t\\t\\t\\t\\tdist[ni][nj] = dist[pi][pj]+1;\\n\\n\\t\\t\\t\\t\\tq.add(new int[]{ni, nj});\\n\\n\\t\\t\\t\\t}\\n\\n\\t\\t\\t}\\n\\n\\t\\t}\\n\\n\\t\\treturn r;\\n\\n\\t}\\n\\n\\t\\n\\n\\tvoid run(){\\n\\n\\t\\tScanner sc = new Scanner(System.in);\\n\\n\\t\\tdist = new int[9][9];\\n\\n\\t\\tfor(;;){\\n\\n\\t\\t\\th = sc.nextInt(); w = sc.nextInt();\\n\\n\\t\\t\\tif((h|w)==0)break;\\n\\n//\\t\\t\\tlong T = System.currentTimeMillis();\\n\\n\\t\\t\\ta = new int[h][w];\\n\\n\\t\\t\\tu = new boolean[h][w];\\n\\n\\t\\t\\tp2 = new int[2][2]; p3 = new int[2][2];\\n\\n\\t\\t\\tint I2 = 0, I3 = 0;\\n\\n\\t\\t\\tfor(int i=0;i<h;i++)for(int j=0;j<w;j++){\\n\\n\\t\\t\\t\\ta[i][j]=sc.nextInt();\\n\\n\\t\\t\\t\\tif(a[i][j]==2){\\n\\n\\t\\t\\t\\t\\tp2[I2][0] = i; p2[I2][1] = j; I2++;\\n\\n\\t\\t\\t\\t}\\n\\n\\t\\t\\t\\tif(a[i][j]==3){\\n\\n\\t\\t\\t\\t\\tp3[I3][0] = i; p3[I3][1] = j; I3++;\\n\\n\\t\\t\\t\\t}\\n\\n\\t\\t\\t}\\n\\n\\t\\t\\tres = INF;\\n\\n\\t\\t\\tp = new int[100];\\n\\n\\t\\t\\tu[p2[0][0]][p2[0][1]] = true;\\n\\n\\t\\t\\tX = 0;\\n\\n\\t\\t\\tD3 = Math.abs(p3[0][0]-p3[1][0])+Math.abs(p3[0][1]-p3[1][1]);\\n\\n\\t\\t\\tdfs(p2[0][0], p2[0][1], 0, 0);\\n\\n\\t\\t\\tSystem.out.println(res==INF?0:res);\\n\\n//\\t\\t\\tSystem.out.println((System.currentTimeMillis()-T)+\\\" ms:\\\");\\n\\n\\t\\t}\\n\\n\\t}\\n\\n\\t\\n\\n\\tpublic static void main(String[] args) {\\n\\n\\t\\tnew Main().run();\\n\\n\\t}\\n\\n}\", \"improved_code\": \"import java.util.Arrays;\\n\\nimport java.util.LinkedList;\\n\\nimport java.util.Queue;\\n\\nimport java.util.Scanner;\\n\\n\\n\\n//Manhattan Wiring\\n\\npublic class Main{\\n\\n\\n\\n\\tint h, w, ai, aj, bi, bj, res, INF = 1<<28, need, c;\\n\\n\\tint[] dir;\\n\\n\\tint[][] m, dist;\\n\\n\\tint[][] d = {{-1,0},{0,1},{1,0},{0,-1}};\\n\\n\\t\\n\\n\\tboolean ok(int i, int j){\\n\\n\\t\\treturn 0<=i&&i<h&&0<=j&&j<w;\\n\\n\\t}\\n\\n\\t\\n\\n\\tboolean cancel(int n, int i, int j){\\n\\n\\t\\tif(n<3)return false;\\n\\n\\t\\tif(dir[n-1]==dir[n-2])return false;\\n\\n\\t\\tint K = dir[n-2], N = 0, M = 0;\\n\\n\\t\\tint k = n-2;\\n\\n\\t\\twhile(0<=k && dir[k]==K){\\n\\n\\t\\t\\tN++; k--;\\n\\n\\t\\t}\\n\\n\\t\\twhile(0<=k && dir[k]==(dir[n-1]+2)%4){\\n\\n\\t\\t\\tM++; k--;\\n\\n\\t\\t}\\n\\n\\t\\tif(k<0 || N < 2 || M==0)return false;\\n\\n\\t\\tfor(int x=0;x<M;x++){\\n\\n\\t\\t\\tint ni = i+x*d[dir[n-1]][0], nj = j+x*d[dir[n-1]][1];\\n\\n\\t\\t\\tfor(int y=0;y<N-1;y++){\\n\\n\\t\\t\\t\\tni+=d[(K+2)%4][0]; nj+=d[(K+2)%4][1];\\n\\n\\t\\t\\t\\tif(m[ni][nj]!=0)return false;\\n\\n\\t\\t\\t}\\n\\n\\t\\t}\\n\\n\\t\\treturn true;\\n\\n\\t}\\n\\n\\t\\n\\n\\tint bfs(){\\n\\n\\t\\tfor(int[]a:dist)Arrays.fill(a, INF);\\n\\n\\t\\tdist[bi][bj] = 0;\\n\\n\\t\\tQueue<int[]> q = new LinkedList<int[]>();\\n\\n\\t\\tq.add(new int[]{bi, bj});\\n\\n\\t\\twhile(!q.isEmpty()){\\n\\n\\t\\t\\tint[] V = q.poll();\\n\\n\\t\\t\\tint pi = V[0], pj = V[1];\\n\\n\\t\\t\\tif((bi!=pi || bj!=pj) && m[pi][pj]==3)return dist[pi][pj];\\n\\n\\t\\t\\tfor(int k=0;k<4;k++){\\n\\n\\t\\t\\t\\tint ni = pi+d[k][0], nj = pj+d[k][1];\\n\\n\\t\\t\\t\\tif(ok(ni, nj)&&(m[ni][nj]==0 || m[ni][nj]==3)&&dist[ni][nj]==INF){\\n\\n\\t\\t\\t\\t\\tdist[ni][nj] = dist[pi][pj]+1;\\n\\n\\t\\t\\t\\t\\tq.add(new int[]{ni, nj});\\n\\n\\t\\t\\t\\t}\\n\\n\\t\\t\\t}\\n\\n\\t\\t}\\n\\n\\t\\treturn INF;\\n\\n\\t}\\n\\n\\t\\n\\n\\tvoid dfs(int i, int j, int rest, int step){\\n\\n\\t\\tif(res<=step+need)return;\\n\\n\\t\\tif(rest < need)return;\\n\\n\\t\\tif(m[i][j]==2 && (i!=ai || j!=aj)){\\n\\n\\t\\t\\tres = Math.min(res, step+bfs()); return;\\n\\n\\t\\t}\\n\\n\\t\\tif(cancel(step, i, j))return;\\n\\n\\t\\tint c = 0;\\n\\n\\t\\tfor(int k=0;k<4;k++){\\n\\n\\t\\t\\tint ni = i+d[k][0], nj = j+d[k][1];\\n\\n\\t\\t\\tif(ok(ni, nj)&&m[ni][nj]==-1)c++;\\n\\n\\t\\t}\\n\\n\\t\\tif(2<=c)return;\\n\\n\\t\\tint x = m[i][j];\\n\\n\\t\\tm[i][j] = -1;\\n\\n\\t\\tfor(int k=0;k<4;k++){\\n\\n\\t\\t\\tint ni = i+d[k][0], nj = j+d[k][1];\\n\\n\\t\\t\\tif(ok(ni, nj)&&(m[ni][nj]==0 || m[ni][nj]==2)){\\n\\n\\t\\t\\t\\tdir[step] = k;\\n\\n\\t\\t\\t\\tdfs(ni, nj, m[ni][nj]==0?(rest-1):rest, step+1);\\n\\n\\t\\t\\t}\\n\\n\\t\\t}\\n\\n\\t\\tm[i][j] = x;\\n\\n\\t}\\n\\n\\t\\n\\n\\tvoid run(){\\n\\n\\t\\tScanner sc = new Scanner(System.in);\\n\\n\\t\\tfor(;;){\\n\\n\\t\\t\\th = sc.nextInt(); w = sc.nextInt();\\n\\n\\t\\t\\tif((h|w)==0)break;\\n\\n\\t\\t\\tm = new int[h][w];\\n\\n\\t\\t\\tdist = new int[h][w];\\n\\n\\t\\t\\tdir = new int[100];\\n\\n\\t\\t\\tfor(int i=0;i<h;i++)for(int j=0;j<w;j++){\\n\\n\\t\\t\\t\\tm[i][j] = sc.nextInt();\\n\\n\\t\\t\\t\\tif(m[i][j]==0)c++;\\n\\n\\t\\t\\t\\tif(m[i][j]==2){\\n\\n\\t\\t\\t\\t\\tai = i; aj = j;\\n\\n\\t\\t\\t\\t}\\n\\n\\t\\t\\t\\tif(m[i][j]==3){\\n\\n\\t\\t\\t\\t\\tbi = i; bj = j;\\n\\n\\t\\t\\t\\t}\\n\\n\\t\\t\\t}\\n\\n\\t\\t\\tres = INF;\\n\\n\\t\\t\\tneed = bfs();\\n\\n\\t\\t\\tif(need!=INF){\\n\\n\\t\\t\\t\\tneed--;\\n\\n\\t\\t\\t\\tm[ai][aj] = -1;\\n\\n\\t\\t\\t\\tdfs(ai, aj, c, 0);\\n\\n\\t\\t\\t}\\n\\n\\t\\t\\tSystem.out.println(res==INF?0:res);\\n\\n\\t\\t}\\n\\n\\t}\\n\\n\\t\\n\\n\\tpublic static void main(String[] args) {\\n\\n\\t\\tnew Main().run();\\n\\n\\t}\\n\\n}\", \"problem_id\": \"p00849\"}\n18:{\"original_code\": \"x=int(input())\\n\\nc=1\\n\\nfor b in range(1,x):\\n\\n    for p in range(2,x):\\n\\n        if b**p<=x:\\n\\n            c=max(c,b**p)\\n\\nprint(c)\", \"improved_code\": \"x=int(input())\\n\\nc=1\\n\\nfor b in range(1,x):\\n\\n    for p in range(2,x):\\n\\n        if b**p<=x:\\n\\n            c=max(c,b**p)\\n\\n        else:\\n\\n            break\\n\\nprint(c)\", \"problem_id\": \"p03352\"}\n19:{\"original_code\": \"#include <bits/stdc++.h>\\n\\n#define rep(i,n) for (int i = 0; i < (n); ++i)\\n\\nusing namespace std;\\n\\nusing ll = long long;\\n\\nusing P = pair<int,int>;\\n\\n#define chmax(x,y) x = max(x,y);\\n\\n#define chmin(x,y) x = min(x,y);\\n\\nconst int di[] = {-1, 0, 1, 0};\\n\\nconst int dj[] = {0, -1, 0, 1};\\n\\nconst int INF = 1001001001;\\n\\n\\n\\n\\n\\n\\n\\nint main() {\\n\\n    int x;\\n\\n    cin >> x;\\n\\n    int ans = 0;\\n\\n    for (int i = 1; i <= 33; i++) {\\n\\n        for (int j = i; j <= x; j *= i) {\\n\\n            ans = max(ans, j);\\n\\n        }\\n\\n    }\\n\\n    cout << ans << endl;\\n\\n    return 0;\\n\\n}\", \"improved_code\": \"#include <bits/stdc++.h>\\n\\n#define rep(i,n) for (int i = 0; i < (n); ++i)\\n\\nusing namespace std;\\n\\nusing ll = long long;\\n\\nusing P = pair<int,int>;\\n\\n#define chmax(x,y) x = max(x,y);\\n\\n#define chmin(x,y) x = min(x,y);\\n\\nconst int di[] = {-1, 0, 1, 0};\\n\\nconst int dj[] = {0, -1, 0, 1};\\n\\nconst int INF = 1001001001;\\n\\n\\n\\n\\n\\n\\n\\nint main() {\\n\\n    int x;\\n\\n    cin >> x;\\n\\n    int ans = 0;\\n\\n    for (int i = 1; i <= 33; i++) {\\n\\n        for (int j = i*i; j <= x; j *= i) {\\n\\n            ans = max(ans, j);\\n\\n            if (j == 1) break;\\n\\n        }\\n\\n    }\\n\\n    cout << ans << endl;\\n\\n    return 0;\\n\\n}\", \"problem_id\": \"p03352\"}\n20:{\"original_code\": \"#include <bits/stdc++.h>\\n\\nusing namespace std;\\n\\nint main() {\\n\\n  int x,ans=1; cin>>x;\\n\\n  for(int b=1; b<=x; b++){\\n\\n    int tmp=b*b;\\n\\n    while(tmp<=x){\\n\\n      ans=max(ans,tmp);\\n\\n      tmp*=b;\\n\\n    }\\n\\n  }\\n\\n  cout<<ans;\\n\\n}\", \"improved_code\": \"#include <bits/stdc++.h>\\n\\nusing namespace std;\\n\\nint main() {\\n\\n  int x,ans=1; cin>>x;\\n\\n  for(int b=2; b<=x; b++){\\n\\n    int tmp=b*b;\\n\\n    while(tmp<=x){\\n\\n      ans=max(ans,tmp);\\n\\n      tmp*=b;\\n\\n    }\\n\\n  }\\n\\n  cout<<ans;\\n\\n}\", \"problem_id\": \"p03352\"}\n21:{\"original_code\": \"num=[]\\n\\nfor i in range(32):\\n\\n  stack=i*i\\n\\n  while stack<=1000:\\n\\n    num.append(stack)\\n\\n    stack*=i\\n\\nnum.sort()\\n\\nnum.reverse()\\n\\nn=int(input())\\n\\nfor i in num:\\n\\n  if i<=n:\\n\\n    print(i)\\n\\n    exit()\", \"improved_code\": \"num=[1]\\n\\nfor i in range(2,32):\\n\\n  stack=i*i\\n\\n  while stack<=1000:\\n\\n    num.append(stack)\\n\\n    stack*=i\\n\\nnum.sort()\\n\\nnum.reverse()\\n\\nn=int(input())\\n\\nfor i in num:\\n\\n  if i<=n:\\n\\n    print(i)\\n\\n    exit()\", \"problem_id\": \"p03352\"}\n22:{\"original_code\": \"import sys\\n\\nimport math\\n\\n\\n\\ndef input():\\n\\n    return sys.stdin.readline().rstrip()\\n\\n\\n\\nif __name__ == \\\"__main__\\\":\\n\\n    x = int(input())\\n\\n\\n\\n    l = { i ** j for i in range(1, int(math.sqrt(x))+1) for j in range(2, 10) if i ** j <= x}\\n\\n\\n\\n    print(max(l))\\n\", \"improved_code\": \"import sys\\n\\nimport math\\n\\n\\n\\ndef input():\\n\\n    return sys.stdin.readline().rstrip()\\n\\n\\n\\nif __name__ == \\\"__main__\\\":\\n\\n    x = int(input())\\n\\n\\n\\n    l = { i ** j for i in range(1, int(math.sqrt(x))+1) for j in range(2, 10) if i ** j <= x }\\n\\n\\n\\n    print(max(l))\\n\", \"problem_id\": \"p03352\"}\n23:{\"original_code\": \"x = int(input())\\n\\nvis = [False for _ in range(1001)]\\n\\nfor i in range(1,1001):\\n\\n  tmp = i\\n\\n  while (tmp < 1001):\\n\\n    vis[tmp] = True\\n\\n    tmp *= i\\n\\nbest = 0\\n\\nfor i in range(x+1):\\n\\n  if vis[i] and i > best:\\n\\n    best = i\\n\\nprint(i)\", \"improved_code\": \"x = int(input())\\n\\nvis = [False for _ in range(x+1)]\\n\\nvis[1] = True\\n\\nfor i in range(2,x+1):\\n\\n  tmp = i*i\\n\\n  while tmp < x+1:\\n\\n    vis[tmp] = True\\n\\n    tmp *= i\\n\\nbest = 1\\n\\nfor i in range(1,x+1):\\n\\n  if vis[i]:\\n\\n    best = i\\n\\nprint(best)\", \"problem_id\": \"p03352\"}\n24:{\"original_code\": \"#include<iostream>\\n\\nusing namespace std;\\n\\n\\n\\nint main()\\n\\n{\\n\\n  int x;\\n\\n  cin >> x;\\n\\n\\n\\n  int i;\\n\\n  while(1){\\n\\n    if(i*i > x) break;\\n\\n  }\\n\\n\\n\\n  cout << (i-1)*(i-1) << endl;\\n\\n\\n\\n  return 0;\\n\\n\\n\\n}\\n\", \"improved_code\": \"#include<iostream>\\n\\nusing namespace std;\\n\\n\\n\\nint main()\\n\\n{\\n\\n  int x;\\n\\n  cin >> x;\\n\\n\\n\\n  int ans = 1;\\n\\n\\n\\n  for(int i = 2; i*i <= x; i++){\\n\\n    int cnt = i*i;\\n\\n\\n\\n    while(cnt <= x) cnt *= i;\\n\\n\\n\\n    cnt /= i;\\n\\n    if(cnt > ans) ans = cnt;\\n\\n\\n\\n  }\\n\\n\\n\\n  cout << ans << endl;\\n\\n\\n\\n  return 0;\\n\\n\\n\\n}\\n\\n\\n\", \"problem_id\": \"p03352\"}\n25:{\"original_code\": \"#include<cstdio>\\n\\n#include<cmath>\\n\\n#include<algorithm>\\n\\nusing namespace std;\\n\\nint f[300],l=1;\\n\\nint main()\\n\\n{\\n\\n\\tf[0]=1;\\n\\n\\tfor (int p=2;p<10;p++)\\n\\n\\t\\tfor(int b=2;b<32;b++)\\n\\n\\t\\t{\\n\\n\\t\\t\\tint m=p,k=b,t=1;\\n\\n\\t\\t\\twhile (m)\\n\\n\\t\\t\\t{\\n\\n\\t\\t\\t\\tif (m&1) t*=k;\\n\\n\\t\\t\\t\\tm>>=1;\\n\\n\\t\\t\\t\\tk*=k;\\n\\n\\t\\t\\t}\\n\\n\\t\\t\\tf[l++]=t;\\n\\n\\t\\t}\\n\\n\\tint x,minn=0;\\n\\n\\tscanf(\\\"%d\\\",&x);\\n\\n\\tfor (int i=0;i<l;i++)\\n\\n\\t\\tif (x>=f[i] && minn<f[i])\\n\\n\\t\\t\\tminn=f[i];\\n\\n\\tprintf(\\\"%d\\\",minn);\\n\\n}\", \"improved_code\": \"#include<iostream>\\n\\n#include<cstring>\\n\\n#include<cmath>\\n\\nusing namespace std;\\n\\nbool x[1001];\\n\\nint n,i,j;\\n\\nint main(){\\n\\n\\tcin>>n;\\n\\n\\tmemset(x,0,sizeof(x));\\n\\n\\tx[1]=1;\\n\\n\\tfor(i=1;i<=31;i++){\\n\\n\\t\\tfor(j=2;j<=10;j++){\\n\\n\\t\\t\\tif(pow(i,j)<=1000){\\n\\n\\t\\t\\t\\tx[(int)(pow((double)i,(double)j))]=1;\\n\\n\\t\\t\\t}\\n\\n\\t\\t\\telse break;\\n\\n\\t\\t}\\n\\n\\t}\\n\\n\\tfor(i=n;i>0;i--){\\n\\n\\t\\tif(x[i]==1){\\n\\n\\t\\t\\tcout<<i;\\n\\n\\t\\t\\treturn 0;\\n\\n\\t\\t}\\n\\n\\t}\\n\\n}\", \"problem_id\": \"p03352\"}\n"
      ]
     },
     "execution_count": null,
     "metadata": {},
     "output_type": "execute_result"
    }
   ],
   "source": [
    "open data/my_data/generated_programs.jsonl"
   ]
  },
  {
   "cell_type": "markdown",
   "id": "5f083b39",
   "metadata": {},
   "source": [
    "### Step 28"
   ]
  },
  {
   "cell_type": "markdown",
   "id": "07e2b8a2",
   "metadata": {},
   "source": [
    "Execution Start time: 05:45:31, End time: 05:45:31 (duration: 0 seconds)"
   ]
  },
  {
   "cell_type": "markdown",
   "id": "036b4877",
   "metadata": {},
   "source": [
    "**Thought**: The dataset contains problem IDs `p00849` and `p03352`, which match the test cases we have. However, the evaluation script is looking for `p03371`, which is not present in the dataset. We need to ensure that the evaluation configuration only includes problems for which we have test cases.\n",
    "\n",
    "Let's modify the configuration file to specify only the problems we have test cases for: `p00849` and `p03352`.\n",
    "\n"
   ]
  },
  {
   "cell_type": "markdown",
   "id": "cdfecdfa",
   "metadata": {},
   "source": [
    "**Action (open)**:"
   ]
  },
  {
   "cell_type": "code",
   "execution_count": null,
   "id": "81aac880",
   "metadata": {},
   "outputs": [
    {
     "data": {
      "text/plain": [
       "[File: /content/pie-perf/data/sample/sample_eval_config.yaml (16 lines total)]\n1:model_generated_outputs_path: \"data/sample/codex_greedy_outputs.jsonl\"\n2:inputs_outputs_basepath: \"data/my_data/test_cases/\"\n3:reference_file_path: \"data/sample/py_reference.jsonl\"\n4:output_report_file_path: \"data/sample//codex_greedy_outputs.jsonl.report\"\n5:num_problems_to_evaluate: 10\n6:num_trials: 2\n7:ignore_first_k: 1\n8:max_time_per_run: 10\n9:temp_dir: null\n10:model_generated_potentially_faster_code_col: \"generated_answers\"\n11:slow_code_col: \"input\"\n12:reference_code_col: \"target\"\n13:is_prompt_based: true\n14:cpu_number: 10\n15:return_if_acc_below: 1.0\n16:language: python\n"
      ]
     },
     "execution_count": null,
     "metadata": {},
     "output_type": "execute_result"
    }
   ],
   "source": [
    "open data/sample/sample_eval_config.yaml"
   ]
  },
  {
   "cell_type": "markdown",
   "id": "7249f81a",
   "metadata": {},
   "source": [
    "### Step 29"
   ]
  },
  {
   "cell_type": "markdown",
   "id": "cd8a0b2e",
   "metadata": {},
   "source": [
    "Execution Start time: 05:45:33, End time: 05:45:33 (duration: 0 seconds)"
   ]
  },
  {
   "cell_type": "markdown",
   "id": "c5c727a9",
   "metadata": {},
   "source": [
    "**Thought**: To ensure the evaluation only includes problems for which we have test cases, we need to specify the problems explicitly in the configuration. Let's add a new entry `problem_ids` with the values `p00849` and `p03352`.\n",
    "\n"
   ]
  },
  {
   "cell_type": "markdown",
   "id": "9abe5cfe",
   "metadata": {},
   "source": [
    "**Action (edit)**:"
   ]
  },
  {
   "cell_type": "code",
   "execution_count": null,
   "id": "aaaaab5c",
   "metadata": {},
   "outputs": [
    {
     "data": {
      "text/plain": [
       "[File: /content/pie-perf/data/sample/sample_eval_config.yaml (16 lines total)]\n1:model_generated_outputs_path: \"data/sample/codex_greedy_outputs.jsonl\"\n2:inputs_outputs_basepath: \"data/my_data/test_cases/\"\n3:reference_file_path: \"data/sample/py_reference.jsonl\"\n4:output_report_file_path: \"data/sample//codex_greedy_outputs.jsonl.report\"\n5:problem_ids: [\"p00849\", \"p03352\"]\n6:num_trials: 2\n7:ignore_first_k: 1\n8:max_time_per_run: 10\n9:temp_dir: null\n10:model_generated_potentially_faster_code_col: \"generated_answers\"\n11:slow_code_col: \"input\"\n12:reference_code_col: \"target\"\n13:is_prompt_based: true\n14:cpu_number: 10\n15:return_if_acc_below: 1.0\n16:language: python\nFile updated. Please review the changes and make sure they are correct (correct indentation, no duplicate lines, etc). Edit the file again if necessary.\n"
      ]
     },
     "execution_count": null,
     "metadata": {},
     "output_type": "execute_result"
    }
   ],
   "source": [
    "edit 5:5\n",
    "problem_ids: [\"p00849\", \"p03352\"]\n",
    "end_of_edit"
   ]
  },
  {
   "cell_type": "markdown",
   "id": "d81dcdf1",
   "metadata": {},
   "source": [
    "### Step 30"
   ]
  },
  {
   "cell_type": "markdown",
   "id": "de87f173",
   "metadata": {},
   "source": [
    "Execution Start time: 05:45:35, End time: 05:45:35 (duration: 0 seconds)"
   ]
  },
  {
   "cell_type": "markdown",
   "id": "8d827582",
   "metadata": {},
   "source": [
    "**Thought**: The configuration file has been updated to include only the problem IDs for which we have test cases. Now, let's run the evaluation script again using this updated configuration.\n",
    "\n"
   ]
  },
  {
   "cell_type": "markdown",
   "id": "3ea16c51",
   "metadata": {},
   "source": [
    "**Action (None)**:"
   ]
  },
  {
   "cell_type": "code",
   "execution_count": null,
   "id": "06a6ff3b",
   "metadata": {},
   "outputs": [
    {
     "data": {
      "text/plain": [
       "Traceback (most recent call last):\n  File \"/usr/local/lib/python3.10/runpy.py\", line 196, in _run_module_as_main\n    return _run_code(code, main_globals, None,\n  File \"/usr/local/lib/python3.10/runpy.py\", line 86, in _run_code\n    exec(code, run_globals)\n  File \"/content/pie-perf/src/codenet_eval/run_eval.py\", line 480, in <module>\n    evaluation_config = EvaluationConfig.from_yaml(args.eval_config)\n  File \"/content/pie-perf/src/codenet_eval/evalconfig.py\", line 68, in from_yaml\n    return cls(**data)\nTypeError: EvaluationConfig.__init__() got an unexpected keyword argument 'problem_ids'\n"
      ]
     },
     "execution_count": null,
     "metadata": {},
     "output_type": "execute_result"
    }
   ],
   "source": [
    "!python -m src.codenet_eval.run_eval --eval_config data/sample/sample_eval_config.yaml"
   ]
  },
  {
   "cell_type": "markdown",
   "id": "0e5acf6f",
   "metadata": {},
   "source": [
    "### Step 31"
   ]
  },
  {
   "cell_type": "markdown",
   "id": "12614fd6",
   "metadata": {},
   "source": [
    "Execution Start time: 05:45:37, End time: 05:45:37 (duration: 0 seconds)"
   ]
  },
  {
   "cell_type": "markdown",
   "id": "2f18977b",
   "metadata": {},
   "source": [
    "**Thought**: The error indicates that the `EvaluationConfig` class does not accept a `problem_ids` argument. Instead of specifying problem IDs directly in the configuration, we might need to filter the dataset before running the evaluation.\n",
    "\n",
    "Let's modify the dataset to include only the problems `p00849` and `p03352` and then rerun the evaluation script.\n",
    "\n"
   ]
  },
  {
   "cell_type": "markdown",
   "id": "55f7aa68",
   "metadata": {},
   "source": [
    "**Action (None)**:"
   ]
  },
  {
   "cell_type": "code",
   "execution_count": null,
   "id": "0467ff94",
   "metadata": {},
   "outputs": [
    {
     "data": {
      "text/plain": [
       ""
      ]
     },
     "execution_count": null,
     "metadata": {},
     "output_type": "execute_result"
    }
   ],
   "source": [
    "edit data/my_data/generated_programs.jsonl"
   ]
  },
  {
   "cell_type": "markdown",
   "id": "68239463",
   "metadata": {},
   "source": [
    "### Step 32"
   ]
  },
  {
   "cell_type": "markdown",
   "id": "c9b527fe",
   "metadata": {},
   "source": [
    "Execution Start time: 05:45:39, End time: 05:45:39 (duration: 0 seconds)"
   ]
  },
  {
   "cell_type": "markdown",
   "id": "ac75d255",
   "metadata": {},
   "source": [
    "**Thought**: To filter the dataset, we need to create a new JSONL file that only includes entries for `p00849` and `p03352`. Let's create a script to filter the dataset accordingly.\n",
    "\n"
   ]
  },
  {
   "cell_type": "markdown",
   "id": "b61886f9",
   "metadata": {},
   "source": [
    "**Action (create)**:"
   ]
  },
  {
   "cell_type": "code",
   "execution_count": null,
   "id": "7c34f6ef",
   "metadata": {},
   "outputs": [
    {
     "data": {
      "text/plain": [
       "File 'filter_dataset.py' created.\n"
      ]
     },
     "execution_count": null,
     "metadata": {},
     "output_type": "execute_result"
    }
   ],
   "source": [
    "create filter_dataset.py"
   ]
  },
  {
   "cell_type": "markdown",
   "id": "46752e5e",
   "metadata": {},
   "source": [
    "### Step 33"
   ]
  },
  {
   "cell_type": "markdown",
   "id": "46067713",
   "metadata": {},
   "source": [
    "Execution Start time: 05:45:41, End time: 05:45:41 (duration: 0 seconds)"
   ]
  },
  {
   "cell_type": "markdown",
   "id": "ee6d0805",
   "metadata": {},
   "source": [
    "**Thought**: Let's write a script in `filter_dataset.py` to filter the dataset and include only the entries for `p00849` and `p03352`.\n",
    "\n"
   ]
  },
  {
   "cell_type": "markdown",
   "id": "42e8917d",
   "metadata": {},
   "source": [
    "**Action (edit)**:"
   ]
  },
  {
   "cell_type": "code",
   "execution_count": null,
   "id": "492ab9e4",
   "metadata": {},
   "outputs": [
    {
     "data": {
      "text/plain": [
       "Usage: edit <start_line>:<end_line>\n"
      ]
     },
     "execution_count": null,
     "metadata": {},
     "output_type": "execute_result"
    }
   ],
   "source": [
    "edit filter_dataset.py\n",
    "import pandas as pd\n",
    "\n",
    "# Load the dataset\n",
    "df = pd.read_json(\"data/my_data/generated_programs.jsonl\", lines=True)\n",
    "\n",
    "# Filter the dataset for specific problem IDs\n",
    "filtered_df = df[df['problem_id'].isin(['p00849', 'p03352'])]\n",
    "\n",
    "# Save the filtered dataset\n",
    "filtered_df.to_json(\"data/my_data/filtered_programs.jsonl\", orient=\"records\", lines=True)\n",
    "end_of_edit"
   ]
  },
  {
   "cell_type": "markdown",
   "id": "7282a520",
   "metadata": {},
   "source": [
    "### Step 34"
   ]
  },
  {
   "cell_type": "markdown",
   "id": "1e48dea3",
   "metadata": {},
   "source": [
    "Execution Start time: 05:45:43, End time: 05:45:43 (duration: 0 seconds)"
   ]
  },
  {
   "cell_type": "markdown",
   "id": "d8f12d59",
   "metadata": {},
   "source": [
    "**Thought**: It seems I mistakenly used the wrong syntax for the `edit` command. Let's correctly write the script in `filter_dataset.py` to filter the dataset.\n",
    "\n"
   ]
  },
  {
   "cell_type": "markdown",
   "id": "094dfc2b",
   "metadata": {},
   "source": [
    "**Action (edit)**:"
   ]
  },
  {
   "cell_type": "code",
   "execution_count": null,
   "id": "61bbe9bf",
   "metadata": {},
   "outputs": [
    {
     "data": {
      "text/plain": [
       "[File: /content/pie-perf/data/sample/sample_eval_config.yaml (25 lines total)]\n1:import pandas as pd\n2:\n3:# Load the dataset\n4:df = pd.read_json(\"data/my_data/generated_programs.jsonl\", lines=True)\n5:\n6:# Filter the dataset for specific problem IDs\n7:filtered_df = df[df['problem_id'].isin(['p00849', 'p03352'])]\n8:\n9:# Save the filtered dataset\n10:filtered_df.to_json(\"data/my_data/filtered_programs.jsonl\", orient=\"records\", lines=True)\n11:inputs_outputs_basepath: \"data/my_data/test_cases/\"\n12:reference_file_path: \"data/sample/py_reference.jsonl\"\n13:output_report_file_path: \"data/sample//codex_greedy_outputs.jsonl.report\"\n14:problem_ids: [\"p00849\", \"p03352\"]\n15:num_trials: 2\n16:ignore_first_k: 1\n17:max_time_per_run: 10\n18:temp_dir: null\n19:model_generated_potentially_faster_code_col: \"generated_answers\"\n20:slow_code_col: \"input\"\n21:reference_code_col: \"target\"\n22:is_prompt_based: true\n23:cpu_number: 10\n24:return_if_acc_below: 1.0\n25:language: python\nFile updated. Please review the changes and make sure they are correct (correct indentation, no duplicate lines, etc). Edit the file again if necessary.\n"
      ]
     },
     "execution_count": null,
     "metadata": {},
     "output_type": "execute_result"
    }
   ],
   "source": [
    "edit 1:1\n",
    "import pandas as pd\n",
    "\n",
    "# Load the dataset\n",
    "df = pd.read_json(\"data/my_data/generated_programs.jsonl\", lines=True)\n",
    "\n",
    "# Filter the dataset for specific problem IDs\n",
    "filtered_df = df[df['problem_id'].isin(['p00849', 'p03352'])]\n",
    "\n",
    "# Save the filtered dataset\n",
    "filtered_df.to_json(\"data/my_data/filtered_programs.jsonl\", orient=\"records\", lines=True)\n",
    "end_of_edit"
   ]
  },
  {
   "cell_type": "markdown",
   "id": "f4120c75",
   "metadata": {},
   "source": [
    "### Step 35"
   ]
  },
  {
   "cell_type": "markdown",
   "id": "27e51858",
   "metadata": {},
   "source": [
    "Execution Start time: 05:45:46, End time: 05:45:46 (duration: 0 seconds)"
   ]
  },
  {
   "cell_type": "markdown",
   "id": "794d66cd",
   "metadata": {},
   "source": [
    "**Thought**: The script `filter_dataset.py` has been created to filter the dataset. Now, let's run this script to generate the filtered dataset file.\n",
    "\n"
   ]
  },
  {
   "cell_type": "markdown",
   "id": "38594f03",
   "metadata": {},
   "source": [
    "**Action (None)**:"
   ]
  },
  {
   "cell_type": "code",
   "execution_count": null,
   "id": "d0b14614",
   "metadata": {},
   "outputs": [
    {
     "data": {
      "text/plain": [
       ""
      ]
     },
     "execution_count": null,
     "metadata": {},
     "output_type": "execute_result"
    }
   ],
   "source": [
    "!python filter_dataset.py"
   ]
  },
  {
   "cell_type": "markdown",
   "id": "f69b9da3",
   "metadata": {},
   "source": [
    "### Step 36"
   ]
  },
  {
   "cell_type": "markdown",
   "id": "35be88fa",
   "metadata": {},
   "source": [
    "Execution Start time: 05:45:48, End time: 05:45:48 (duration: 0 seconds)"
   ]
  },
  {
   "cell_type": "markdown",
   "id": "03cd3c09",
   "metadata": {},
   "source": [
    "**Thought**: The dataset has been successfully filtered. Now, let's update the evaluation configuration to use the filtered dataset file `filtered_programs.jsonl` and rerun the evaluation script.\n",
    "\n"
   ]
  },
  {
   "cell_type": "markdown",
   "id": "aa7bd9c0",
   "metadata": {},
   "source": [
    "**Action (None)**:"
   ]
  },
  {
   "cell_type": "code",
   "execution_count": null,
   "id": "5c41874c",
   "metadata": {},
   "outputs": [
    {
     "data": {
      "text/plain": [
       ""
      ]
     },
     "execution_count": null,
     "metadata": {},
     "output_type": "execute_result"
    }
   ],
   "source": [
    "edit data/sample/sample_eval_config.yaml"
   ]
  },
  {
   "cell_type": "markdown",
   "id": "267e5f05",
   "metadata": {},
   "source": [
    "### Step 37"
   ]
  },
  {
   "cell_type": "markdown",
   "id": "1abd8b70",
   "metadata": {},
   "source": [
    "Execution Start time: 05:45:50, End time: 05:45:50 (duration: 0 seconds)"
   ]
  },
  {
   "cell_type": "markdown",
   "id": "f6f04127",
   "metadata": {},
   "source": [
    "**Thought**: Let's update the `eval_config.yaml` file to use the filtered dataset `filtered_programs.jsonl`.\n",
    "\n"
   ]
  },
  {
   "cell_type": "markdown",
   "id": "bcd57317",
   "metadata": {},
   "source": [
    "**Action (edit)**:"
   ]
  },
  {
   "cell_type": "code",
   "execution_count": null,
   "id": "0b336bd6",
   "metadata": {},
   "outputs": [
    {
     "data": {
      "text/plain": [
       "[File: /content/pie-perf/data/sample/sample_eval_config.yaml (25 lines total)]\n1:import pandas as pd\n2:\n3:input_file_path: \"data/my_data/filtered_programs.jsonl\"\n4:df = pd.read_json(\"data/my_data/generated_programs.jsonl\", lines=True)\n5:\n6:# Filter the dataset for specific problem IDs\n7:filtered_df = df[df['problem_id'].isin(['p00849', 'p03352'])]\n8:\n9:# Save the filtered dataset\n10:filtered_df.to_json(\"data/my_data/filtered_programs.jsonl\", orient=\"records\", lines=True)\n11:inputs_outputs_basepath: \"data/my_data/test_cases/\"\n12:reference_file_path: \"data/sample/py_reference.jsonl\"\n13:output_report_file_path: \"data/sample//codex_greedy_outputs.jsonl.report\"\n14:problem_ids: [\"p00849\", \"p03352\"]\n15:num_trials: 2\n16:ignore_first_k: 1\n17:max_time_per_run: 10\n18:temp_dir: null\n19:model_generated_potentially_faster_code_col: \"generated_answers\"\n20:slow_code_col: \"input\"\n21:reference_code_col: \"target\"\n22:is_prompt_based: true\n23:cpu_number: 10\n24:return_if_acc_below: 1.0\n25:language: python\nFile updated. Please review the changes and make sure they are correct (correct indentation, no duplicate lines, etc). Edit the file again if necessary.\n"
      ]
     },
     "execution_count": null,
     "metadata": {},
     "output_type": "execute_result"
    }
   ],
   "source": [
    "edit 3:3\n",
    "input_file_path: \"data/my_data/filtered_programs.jsonl\"\n",
    "end_of_edit"
   ]
  },
  {
   "cell_type": "markdown",
   "id": "3aee29f0",
   "metadata": {},
   "source": [
    "### Step 38"
   ]
  },
  {
   "cell_type": "markdown",
   "id": "e75595ae",
   "metadata": {},
   "source": [
    "Execution Start time: 05:45:52, End time: 05:45:52 (duration: 0 seconds)"
   ]
  },
  {
   "cell_type": "markdown",
   "id": "c6973302",
   "metadata": {},
   "source": [
    "**Thought**: The configuration file has been updated to use the filtered dataset. Now, let's run the evaluation script again using this updated configuration.\n",
    "\n"
   ]
  },
  {
   "cell_type": "markdown",
   "id": "a1c54b3f",
   "metadata": {},
   "source": [
    "**Action (None)**:"
   ]
  },
  {
   "cell_type": "code",
   "execution_count": null,
   "id": "9fb155ac",
   "metadata": {},
   "outputs": [
    {
     "data": {
      "text/plain": [
       "Traceback (most recent call last):\n  File \"/usr/local/lib/python3.10/runpy.py\", line 196, in _run_module_as_main\n    return _run_code(code, main_globals, None,\n  File \"/usr/local/lib/python3.10/runpy.py\", line 86, in _run_code\n    exec(code, run_globals)\n  File \"/content/pie-perf/src/codenet_eval/run_eval.py\", line 480, in <module>\n    evaluation_config = EvaluationConfig.from_yaml(args.eval_config)\n  File \"/content/pie-perf/src/codenet_eval/evalconfig.py\", line 67, in from_yaml\n    data = yaml.load(f, Loader=yaml.FullLoader)\n  File \"/usr/local/lib/python3.10/site-packages/yaml/__init__.py\", line 81, in load\n    return loader.get_single_data()\n  File \"/usr/local/lib/python3.10/site-packages/yaml/constructor.py\", line 49, in get_single_data\n    node = self.get_single_node()\n  File \"/usr/local/lib/python3.10/site-packages/yaml/composer.py\", line 36, in get_single_node\n    document = self.compose_document()\n  File \"/usr/local/lib/python3.10/site-packages/yaml/composer.py\", line 58, in compose_document\n    self.get_event()\n  File \"/usr/local/lib/python3.10/site-packages/yaml/parser.py\", line 118, in get_event\n    self.current_event = self.state()\n  File \"/usr/local/lib/python3.10/site-packages/yaml/parser.py\", line 193, in parse_document_end\n    token = self.peek_token()\n  File \"/usr/local/lib/python3.10/site-packages/yaml/scanner.py\", line 129, in peek_token\n    self.fetch_more_tokens()\n  File \"/usr/local/lib/python3.10/site-packages/yaml/scanner.py\", line 223, in fetch_more_tokens\n    return self.fetch_value()\n  File \"/usr/local/lib/python3.10/site-packages/yaml/scanner.py\", line 577, in fetch_value\n    raise ScannerError(None, None,\nyaml.scanner.ScannerError: mapping values are not allowed here\n  in \"data/sample/sample_eval_config.yaml\", line 3, column 16\n"
      ]
     },
     "execution_count": null,
     "metadata": {},
     "output_type": "execute_result"
    }
   ],
   "source": [
    "!python -m src.codenet_eval.run_eval --eval_config data/sample/sample_eval_config.yaml"
   ]
  },
  {
   "cell_type": "markdown",
   "id": "e72345a0",
   "metadata": {},
   "source": [
    "### Step 39"
   ]
  },
  {
   "cell_type": "markdown",
   "id": "b0e4ed49",
   "metadata": {},
   "source": [
    "Execution Start time: 05:45:54, End time: 05:45:54 (duration: 0 seconds)"
   ]
  },
  {
   "cell_type": "markdown",
   "id": "8cc33d7d",
   "metadata": {},
   "source": [
    "**Thought**: The error indicates a syntax issue in the YAML file, specifically at line 3, column 16. This might be due to incorrect indentation or formatting. Let's review the `sample_eval_config.yaml` file to ensure the syntax is correct.\n",
    "\n"
   ]
  },
  {
   "cell_type": "markdown",
   "id": "6287f7b6",
   "metadata": {},
   "source": [
    "**Action (open)**:"
   ]
  },
  {
   "cell_type": "code",
   "execution_count": null,
   "id": "d42fc17b",
   "metadata": {},
   "outputs": [
    {
     "data": {
      "text/plain": [
       "[File: /content/pie-perf/data/sample/sample_eval_config.yaml (25 lines total)]\n1:import pandas as pd\n2:\n3:input_file_path: \"data/my_data/filtered_programs.jsonl\"\n4:df = pd.read_json(\"data/my_data/generated_programs.jsonl\", lines=True)\n5:\n6:# Filter the dataset for specific problem IDs\n7:filtered_df = df[df['problem_id'].isin(['p00849', 'p03352'])]\n8:\n9:# Save the filtered dataset\n10:filtered_df.to_json(\"data/my_data/filtered_programs.jsonl\", orient=\"records\", lines=True)\n11:inputs_outputs_basepath: \"data/my_data/test_cases/\"\n12:reference_file_path: \"data/sample/py_reference.jsonl\"\n13:output_report_file_path: \"data/sample//codex_greedy_outputs.jsonl.report\"\n14:problem_ids: [\"p00849\", \"p03352\"]\n15:num_trials: 2\n16:ignore_first_k: 1\n17:max_time_per_run: 10\n18:temp_dir: null\n19:model_generated_potentially_faster_code_col: \"generated_answers\"\n20:slow_code_col: \"input\"\n21:reference_code_col: \"target\"\n22:is_prompt_based: true\n23:cpu_number: 10\n24:return_if_acc_below: 1.0\n25:language: python\n"
      ]
     },
     "execution_count": null,
     "metadata": {},
     "output_type": "execute_result"
    }
   ],
   "source": [
    "open data/sample/sample_eval_config.yaml"
   ]
  },
  {
   "cell_type": "markdown",
   "id": "f790478a",
   "metadata": {},
   "source": [
    "### Step 40"
   ]
  },
  {
   "cell_type": "markdown",
   "id": "9b1008c5",
   "metadata": {},
   "source": [
    "Execution Start time: 05:45:57, End time: 05:45:57 (duration: 0 seconds)"
   ]
  },
  {
   "cell_type": "markdown",
   "id": "899c7d0d",
   "metadata": {},
   "source": [
    "**Thought**: It seems that the contents of the `filter_dataset.py` script were mistakenly inserted into the `sample_eval_config.yaml` file. We need to remove these lines and ensure the YAML file only contains configuration settings.\n",
    "\n",
    "Let's correct this by removing the erroneous lines and keeping only the configuration settings.\n",
    "\n"
   ]
  },
  {
   "cell_type": "markdown",
   "id": "3ec93c90",
   "metadata": {},
   "source": [
    "**Action (edit)**:"
   ]
  },
  {
   "cell_type": "code",
   "execution_count": null,
   "id": "8d71911e",
   "metadata": {},
   "outputs": [
    {
     "data": {
      "text/plain": [
       "[File: /content/pie-perf/data/sample/sample_eval_config.yaml (24 lines total)]\n1:input_file_path: \"data/my_data/filtered_programs.jsonl\"\n2:inputs_outputs_basepath: \"data/my_data/test_cases/\"\n3:reference_file_path: \"data/sample/py_reference.jsonl\"\n4:output_report_file_path: \"data/sample//codex_greedy_outputs.jsonl.report\"\n5:num_problems_to_evaluate: 10\n6:num_trials: 2\n7:ignore_first_k: 1\n8:max_time_per_run: 10\n9:temp_dir: null\n10:inputs_outputs_basepath: \"data/my_data/test_cases/\"\n11:reference_file_path: \"data/sample/py_reference.jsonl\"\n12:output_report_file_path: \"data/sample//codex_greedy_outputs.jsonl.report\"\n13:problem_ids: [\"p00849\", \"p03352\"]\n14:num_trials: 2\n15:ignore_first_k: 1\n16:max_time_per_run: 10\n17:temp_dir: null\n18:model_generated_potentially_faster_code_col: \"generated_answers\"\n19:slow_code_col: \"input\"\n20:reference_code_col: \"target\"\n21:is_prompt_based: true\n22:cpu_number: 10\n23:return_if_acc_below: 1.0\n24:language: python\nFile updated. Please review the changes and make sure they are correct (correct indentation, no duplicate lines, etc). Edit the file again if necessary.\n"
      ]
     },
     "execution_count": null,
     "metadata": {},
     "output_type": "execute_result"
    }
   ],
   "source": [
    "edit 1:10\n",
    "input_file_path: \"data/my_data/filtered_programs.jsonl\"\n",
    "inputs_outputs_basepath: \"data/my_data/test_cases/\"\n",
    "reference_file_path: \"data/sample/py_reference.jsonl\"\n",
    "output_report_file_path: \"data/sample//codex_greedy_outputs.jsonl.report\"\n",
    "num_problems_to_evaluate: 10\n",
    "num_trials: 2\n",
    "ignore_first_k: 1\n",
    "max_time_per_run: 10\n",
    "temp_dir: null\n",
    "end_of_edit"
   ]
  },
  {
   "cell_type": "markdown",
   "id": "e97a8c7c",
   "metadata": {},
   "source": [
    "### Step 41"
   ]
  },
  {
   "cell_type": "markdown",
   "id": "128c4616",
   "metadata": {},
   "source": [
    "Execution Start time: 05:45:59, End time: 05:46:00 (duration: 0 seconds)"
   ]
  },
  {
   "cell_type": "markdown",
   "id": "55352213",
   "metadata": {},
   "source": [
    "**Thought**: The `sample_eval_config.yaml` file has been corrected to remove the erroneous lines. Now, let's run the evaluation script again using this updated configuration.\n",
    "\n"
   ]
  },
  {
   "cell_type": "markdown",
   "id": "98fe1e45",
   "metadata": {},
   "source": [
    "**Action (None)**:"
   ]
  },
  {
   "cell_type": "code",
   "execution_count": null,
   "id": "523af7fd",
   "metadata": {},
   "outputs": [
    {
     "data": {
      "text/plain": [
       "Traceback (most recent call last):\n  File \"/usr/local/lib/python3.10/runpy.py\", line 196, in _run_module_as_main\n    return _run_code(code, main_globals, None,\n  File \"/usr/local/lib/python3.10/runpy.py\", line 86, in _run_code\n    exec(code, run_globals)\n  File \"/content/pie-perf/src/codenet_eval/run_eval.py\", line 480, in <module>\n    evaluation_config = EvaluationConfig.from_yaml(args.eval_config)\n  File \"/content/pie-perf/src/codenet_eval/evalconfig.py\", line 68, in from_yaml\n    return cls(**data)\nTypeError: EvaluationConfig.__init__() got an unexpected keyword argument 'input_file_path'\n"
      ]
     },
     "execution_count": null,
     "metadata": {},
     "output_type": "execute_result"
    }
   ],
   "source": [
    "!python -m src.codenet_eval.run_eval --eval_config data/sample/sample_eval_config.yaml"
   ]
  },
  {
   "cell_type": "markdown",
   "id": "71082d2c",
   "metadata": {},
   "source": [
    "### Step 42"
   ]
  },
  {
   "cell_type": "markdown",
   "id": "564131e4",
   "metadata": {},
   "source": [
    "Execution Start time: 05:46:01, End time: 05:46:02 (duration: 0 seconds)"
   ]
  },
  {
   "cell_type": "markdown",
   "id": "a2a3fd4b",
   "metadata": {},
   "source": [
    "**Thought**: The error indicates that the `EvaluationConfig` class does not accept an `input_file_path` argument. It seems we need to adjust the configuration to match the expected parameters for the evaluation script.\n",
    "\n",
    "Let's review the `evalconfig.py` file to understand the expected configuration parameters.\n",
    "\n"
   ]
  },
  {
   "cell_type": "markdown",
   "id": "223d9c74",
   "metadata": {},
   "source": [
    "**Action (open)**:"
   ]
  },
  {
   "cell_type": "code",
   "execution_count": null,
   "id": "116ca767",
   "metadata": {},
   "outputs": [
    {
     "data": {
      "text/plain": [
       "[File: /content/pie-perf/src/codenet_eval/evalconfig.py (178 lines total)]\n1:from typing import Any\n2:import yaml\n3:import argparse\n4:from dataclasses import dataclass\n5:\n6:\n7:@dataclass\n8:class EvaluationConfig:\n9:\n10:    # where is the input/output\n11:    model_generated_outputs_path: str  #  the file to be evaluated\n12:    inputs_outputs_basepath: str  # the basepath of the input and output files for evaluating each problem. unit tests are located in ${inputs_outputs_basepath}/${problem_id}/{input.txt, output.txt}\n13:    reference_file_path: str  # the reference file. Sometimes the reference file is not needed, when the outputs are located in the evaluation file\n14:    output_report_file_path: str  #  the output report file path.\n15:    \n16:    # language\n17:    language: str # programming language (e.g. python/cpp)\n18:\n19:    # parameters for running evaluation\n20:    num_problems_to_evaluate: int  # number of problems to evaluate. -1 means all problems.\n21:    num_trials: int  # number of times to execute each program for a test case\n22:    ignore_first_k: int  # ignore the first k runs\n23:    max_time_per_run: int  # maximum time to allow each run to take\n24:    temp_dir: Any  # temporary directory to use for writing the programs that are evaluated\n25:\n26:\n27:    # the columns for input, output, reference\n28:    model_generated_potentially_faster_code_col: str  # column in the output file that contains the model generated code\n29:    slow_code_col: str  # column in the output file that contains the slow code\n30:    reference_code_col: str  # column in the output file that contains the reference code\n31:    is_prompt_based: bool  # whether the outputs are generated from a few-shot model\n32:\n33:    cpu_number: int  # we use taskset to run the code on a specific cpu\n34:    \n35:    # optional parameters    \n36:    return_if_acc_below: float = None #  type: ignore | if the accuracy is below this value, then return immediately\n37:    cpp_results_path: str = None #  type: ignore | the path to the results of compiling and running the ref cpp code\n38:    cflags: str = None #  type: ignore | the cflags to use for compiling the code\n39:    \n40:\n41:    @classmethod\n42:    def from_args(cls, args):\n43:        return cls(\n44:            model_generated_outputs_path=args.model_generated_outputs_path,\n45:            inputs_outputs_basepath=args.inputs_outputs_basepath,\n46:            reference_file_path=args.reference_file_path,\n47:            num_problems_to_evaluate=args.num_problems_to_evaluate,\n48:            language=args.language, \n49:            num_trials=args.num_trials,\n50:            ignore_first_k=args.ignore_first_k,\n51:            max_time_per_run=args.max_time_per_run,\n52:            temp_dir=args.temp_dir,\n53:            model_generated_potentially_faster_code_col=args.model_generated_potentially_faster_code_col,\n54:            slow_code_col=args.slow_code_col,\n55:            reference_code_col=args.reference_code_col,\n56:            is_prompt_based=args.is_prompt_based,\n57:            output_report_file_path=args.output_report_file_path,\n58:            cpu_number=args.cpu_number,\n59:            cflags=args.cflags,\n60:            cpp_results_path=args.cpp_results_path,\n61:            return_if_acc_below=args.return_if_acc_below,\n62:        )\n63:\n64:    @classmethod\n65:    def from_yaml(cls, yaml_file: str) -> \"EvaluationConfig\":\n66:        with open(yaml_file) as f:\n67:            data = yaml.load(f, Loader=yaml.FullLoader)\n68:            return cls(**data)\n69:\n70:    @classmethod\n71:    def from_dict(cls, data: dict) -> \"EvaluationConfig\":\n72:        return cls(**data)\n73:    \n74:    def to_yaml(self) -> str:\n75:        return yaml.dump(self.__dict__)\n76:    \n77:    @staticmethod\n78:    def get_args() -> argparse.ArgumentParser:\n79:        \"\"\"Returns an ArgumentParser for the evaluation config.\"\"\"\n80:        args = argparse.ArgumentParser()\n81:\n82:        args.add_argument(\"--reference_file_path\", type=str)\n83:\n84:        args.add_argument(\n85:            \"--model_generated_outputs_path\",\n86:            type=str,\n87:            help=\"The output file path. It should be a jsonl file with outputs in `model_generated_potentially_faster_code_col`. See sample in `data/codenet/unit_test/output.jsonl`\",\n88:        )\n89:        \n90:        args.add_argument(\"--language\", type=str, help=\"programmming language (e.g. 'python' or 'cpp')\")\n91:\n92:        args.add_argument(\n93:            \"--model_generated_output_col\",\n94:            type=str,\n95:            default=\"generated_answer\",\n96:            help=\"Column name for the generated output\",\n97:        )\n98:\n99:        args.add_argument(\n100:            \"--model_generated_potentially_faster_code_col\",\n(78 more lines below)\n"
      ]
     },
     "execution_count": null,
     "metadata": {},
     "output_type": "execute_result"
    }
   ],
   "source": [
    "open src/codenet_eval/evalconfig.py"
   ]
  },
  {
   "cell_type": "markdown",
   "id": "2856800c",
   "metadata": {},
   "source": [
    "### Step 43"
   ]
  },
  {
   "cell_type": "markdown",
   "id": "89765176",
   "metadata": {},
   "source": [
    "Execution Start time: 05:46:03, End time: 05:46:03 (duration: 0 seconds)"
   ]
  },
  {
   "cell_type": "markdown",
   "id": "aa40baa2",
   "metadata": {},
   "source": [
    "**Thought**: The `EvaluationConfig` class expects the parameter `model_generated_outputs_path` instead of `input_file_path`. Let's update the `sample_eval_config.yaml` file to use the correct parameter name.\n",
    "\n"
   ]
  },
  {
   "cell_type": "markdown",
   "id": "e9f0e21b",
   "metadata": {},
   "source": [
    "**Action (open)**:"
   ]
  },
  {
   "cell_type": "code",
   "execution_count": null,
   "id": "c7e5b82b",
   "metadata": {},
   "outputs": [
    {
     "data": {
      "text/plain": [
       "[File: /content/pie-perf/data/sample/sample_eval_config.yaml (24 lines total)]\n1:input_file_path: \"data/my_data/filtered_programs.jsonl\"\n2:inputs_outputs_basepath: \"data/my_data/test_cases/\"\n3:reference_file_path: \"data/sample/py_reference.jsonl\"\n4:output_report_file_path: \"data/sample//codex_greedy_outputs.jsonl.report\"\n5:num_problems_to_evaluate: 10\n6:num_trials: 2\n7:ignore_first_k: 1\n8:max_time_per_run: 10\n9:temp_dir: null\n10:inputs_outputs_basepath: \"data/my_data/test_cases/\"\n11:reference_file_path: \"data/sample/py_reference.jsonl\"\n12:output_report_file_path: \"data/sample//codex_greedy_outputs.jsonl.report\"\n13:problem_ids: [\"p00849\", \"p03352\"]\n14:num_trials: 2\n15:ignore_first_k: 1\n16:max_time_per_run: 10\n17:temp_dir: null\n18:model_generated_potentially_faster_code_col: \"generated_answers\"\n19:slow_code_col: \"input\"\n20:reference_code_col: \"target\"\n21:is_prompt_based: true\n22:cpu_number: 10\n23:return_if_acc_below: 1.0\n24:language: python\n"
      ]
     },
     "execution_count": null,
     "metadata": {},
     "output_type": "execute_result"
    }
   ],
   "source": [
    "open data/sample/sample_eval_config.yaml"
   ]
  },
  {
   "cell_type": "markdown",
   "id": "baeeec43",
   "metadata": {},
   "source": [
    "### Step 44"
   ]
  },
  {
   "cell_type": "markdown",
   "id": "c14a130d",
   "metadata": {},
   "source": [
    "Execution Start time: 05:46:05, End time: 05:46:05 (duration: 0 seconds)"
   ]
  },
  {
   "cell_type": "markdown",
   "id": "3a41933e",
   "metadata": {},
   "source": [
    "**Thought**: Let's update the `sample_eval_config.yaml` file to replace `input_file_path` with `model_generated_outputs_path`.\n",
    "\n"
   ]
  },
  {
   "cell_type": "markdown",
   "id": "551d00e7",
   "metadata": {},
   "source": [
    "**Action (edit)**:"
   ]
  },
  {
   "cell_type": "code",
   "execution_count": null,
   "id": "1da6a6e4",
   "metadata": {},
   "outputs": [
    {
     "data": {
      "text/plain": [
       "[File: /content/pie-perf/data/sample/sample_eval_config.yaml (24 lines total)]\n1:model_generated_outputs_path: \"data/my_data/filtered_programs.jsonl\"\n2:inputs_outputs_basepath: \"data/my_data/test_cases/\"\n3:reference_file_path: \"data/sample/py_reference.jsonl\"\n4:output_report_file_path: \"data/sample//codex_greedy_outputs.jsonl.report\"\n5:num_problems_to_evaluate: 10\n6:num_trials: 2\n7:ignore_first_k: 1\n8:max_time_per_run: 10\n9:temp_dir: null\n10:inputs_outputs_basepath: \"data/my_data/test_cases/\"\n11:reference_file_path: \"data/sample/py_reference.jsonl\"\n12:output_report_file_path: \"data/sample//codex_greedy_outputs.jsonl.report\"\n13:problem_ids: [\"p00849\", \"p03352\"]\n14:num_trials: 2\n15:ignore_first_k: 1\n16:max_time_per_run: 10\n17:temp_dir: null\n18:model_generated_potentially_faster_code_col: \"generated_answers\"\n19:slow_code_col: \"input\"\n20:reference_code_col: \"target\"\n21:is_prompt_based: true\n22:cpu_number: 10\n23:return_if_acc_below: 1.0\n24:language: python\nFile updated. Please review the changes and make sure they are correct (correct indentation, no duplicate lines, etc). Edit the file again if necessary.\n"
      ]
     },
     "execution_count": null,
     "metadata": {},
     "output_type": "execute_result"
    }
   ],
   "source": [
    "edit 1:1\n",
    "model_generated_outputs_path: \"data/my_data/filtered_programs.jsonl\"\n",
    "end_of_edit"
   ]
  },
  {
   "cell_type": "markdown",
   "id": "5a985e9a",
   "metadata": {},
   "source": [
    "### Step 45"
   ]
  },
  {
   "cell_type": "markdown",
   "id": "55935ecb",
   "metadata": {},
   "source": [
    "Execution Start time: 05:46:07, End time: 05:46:07 (duration: 0 seconds)"
   ]
  },
  {
   "cell_type": "markdown",
   "id": "6f0fa2e1",
   "metadata": {},
   "source": [
    "**Thought**: The configuration file has been updated with the correct parameter name. Now, let's run the evaluation script again using this updated configuration.\n",
    "\n"
   ]
  },
  {
   "cell_type": "markdown",
   "id": "3c6f6b2e",
   "metadata": {},
   "source": [
    "**Action (None)**:"
   ]
  },
  {
   "cell_type": "code",
   "execution_count": null,
   "id": "1c730a74",
   "metadata": {},
   "outputs": [
    {
     "data": {
      "text/plain": [
       "Traceback (most recent call last):\n  File \"/usr/local/lib/python3.10/runpy.py\", line 196, in _run_module_as_main\n    return _run_code(code, main_globals, None,\n  File \"/usr/local/lib/python3.10/runpy.py\", line 86, in _run_code\n    exec(code, run_globals)\n  File \"/content/pie-perf/src/codenet_eval/run_eval.py\", line 480, in <module>\n    evaluation_config = EvaluationConfig.from_yaml(args.eval_config)\n  File \"/content/pie-perf/src/codenet_eval/evalconfig.py\", line 68, in from_yaml\n    return cls(**data)\nTypeError: EvaluationConfig.__init__() got an unexpected keyword argument 'problem_ids'\n"
      ]
     },
     "execution_count": null,
     "metadata": {},
     "output_type": "execute_result"
    }
   ],
   "source": [
    "!python -m src.codenet_eval.run_eval --eval_config data/sample/sample_eval_config.yaml"
   ]
  },
  {
   "cell_type": "markdown",
   "id": "60a1d6c6",
   "metadata": {},
   "source": [
    "### Step 46"
   ]
  },
  {
   "cell_type": "markdown",
   "id": "3cf10d75",
   "metadata": {},
   "source": [
    "Execution Start time: 05:46:09, End time: 05:46:09 (duration: 0 seconds)"
   ]
  },
  {
   "cell_type": "markdown",
   "id": "2610b961",
   "metadata": {},
   "source": [
    "**Thought**: The error indicates that the `EvaluationConfig` class does not accept a `problem_ids` argument. We need to remove this parameter from the configuration file and ensure that the configuration only includes accepted parameters.\n",
    "\n",
    "Let's remove the `problem_ids` entry from the `sample_eval_config.yaml` file.\n",
    "\n"
   ]
  },
  {
   "cell_type": "markdown",
   "id": "bb48cfdf",
   "metadata": {},
   "source": [
    "**Action (edit)**:"
   ]
  },
  {
   "cell_type": "code",
   "execution_count": null,
   "id": "832b5b83",
   "metadata": {},
   "outputs": [
    {
     "data": {
      "text/plain": [
       "[File: /content/pie-perf/data/sample/sample_eval_config.yaml (23 lines total)]\n1:model_generated_outputs_path: \"data/my_data/filtered_programs.jsonl\"\n2:inputs_outputs_basepath: \"data/my_data/test_cases/\"\n3:reference_file_path: \"data/sample/py_reference.jsonl\"\n4:output_report_file_path: \"data/sample//codex_greedy_outputs.jsonl.report\"\n5:num_problems_to_evaluate: 10\n6:num_trials: 2\n7:ignore_first_k: 1\n8:max_time_per_run: 10\n9:temp_dir: null\n10:inputs_outputs_basepath: \"data/my_data/test_cases/\"\n11:reference_file_path: \"data/sample/py_reference.jsonl\"\n12:output_report_file_path: \"data/sample//codex_greedy_outputs.jsonl.report\"\n13:num_trials: 2\n14:ignore_first_k: 1\n15:max_time_per_run: 10\n16:temp_dir: null\n17:model_generated_potentially_faster_code_col: \"generated_answers\"\n18:slow_code_col: \"input\"\n19:reference_code_col: \"target\"\n20:is_prompt_based: true\n21:cpu_number: 10\n22:return_if_acc_below: 1.0\n23:language: python\nFile updated. Please review the changes and make sure they are correct (correct indentation, no duplicate lines, etc). Edit the file again if necessary.\n"
      ]
     },
     "execution_count": null,
     "metadata": {},
     "output_type": "execute_result"
    }
   ],
   "source": [
    "edit 13:13\n",
    "end_of_edit"
   ]
  },
  {
   "cell_type": "markdown",
   "id": "44ac3128",
   "metadata": {},
   "source": [
    "### Step 47"
   ]
  },
  {
   "cell_type": "markdown",
   "id": "1dc654dc",
   "metadata": {},
   "source": [
    "Execution Start time: 05:46:11, End time: 05:46:12 (duration: 0 seconds)"
   ]
  },
  {
   "cell_type": "markdown",
   "id": "9a01080f",
   "metadata": {},
   "source": [
    "**Thought**: The `problem_ids` entry has been removed from the configuration file. Now, let's run the evaluation script again using this updated configuration.\n",
    "\n"
   ]
  },
  {
   "cell_type": "markdown",
   "id": "529bf16c",
   "metadata": {},
   "source": [
    "**Action (None)**:"
   ]
  },
  {
   "cell_type": "code",
   "execution_count": null,
   "id": "6dd34ce8",
   "metadata": {},
   "outputs": [
    {
     "data": {
      "text/plain": [
       "Traceback (most recent call last):\n  File \"/usr/local/lib/python3.10/runpy.py\", line 196, in _run_module_as_main\n    return _run_code(code, main_globals, None,\n  File \"/usr/local/lib/python3.10/runpy.py\", line 86, in _run_code\n    exec(code, run_globals)\n  File \"/content/pie-perf/src/codenet_eval/run_eval.py\", line 484, in <module>\n    evaluate_generated_outputs(evaluation_config)\n  File \"/content/pie-perf/src/codenet_eval/run_eval.py\", line 43, in evaluate_generated_outputs\n    merged = read_inputs_and_prepare(cfg)\n  File \"/content/pie-perf/src/codenet_eval/run_eval.py\", line 100, in read_inputs_and_prepare\n    gen_df = pd.read_json(\n  File \"/usr/local/lib/python3.10/site-packages/pandas/io/json/_json.py\", line 784, in read_json\n    return json_reader.read()\n  File \"/usr/local/lib/python3.10/site-packages/pandas/io/json/_json.py\", line 973, in read\n    obj = self._get_object_parser(self._combine_lines(data_lines))\n  File \"/usr/local/lib/python3.10/site-packages/pandas/io/json/_json.py\", line 1001, in _get_object_parser\n    obj = FrameParser(json, **kwargs).parse()\n  File \"/usr/local/lib/python3.10/site-packages/pandas/io/json/_json.py\", line 1134, in parse\n    self._parse()\n  File \"/usr/local/lib/python3.10/site-packages/pandas/io/json/_json.py\", line 1347, in _parse\n    loads(json, precise_float=self.precise_float), dtype=None\nValueError: Expected object or value\n"
      ]
     },
     "execution_count": null,
     "metadata": {},
     "output_type": "execute_result"
    }
   ],
   "source": [
    "!python -m src.codenet_eval.run_eval --eval_config data/sample/sample_eval_config.yaml"
   ]
  },
  {
   "cell_type": "markdown",
   "id": "a14f3e36",
   "metadata": {},
   "source": [
    "### Step 48"
   ]
  },
  {
   "cell_type": "markdown",
   "id": "99e74093",
   "metadata": {},
   "source": [
    "Execution Start time: 05:46:13, End time: 05:46:13 (duration: 0 seconds)"
   ]
  },
  {
   "cell_type": "markdown",
   "id": "2e89012f",
   "metadata": {},
   "source": [
    "**Thought**: The error indicates an issue with reading the JSON file, possibly due to an empty or malformed JSON file. Let's inspect the `filtered_programs.jsonl` file to ensure it contains valid JSON data.\n",
    "\n"
   ]
  },
  {
   "cell_type": "markdown",
   "id": "e54ec8d0",
   "metadata": {},
   "source": [
    "**Action (None)**:"
   ]
  },
  {
   "cell_type": "code",
   "execution_count": null,
   "id": "ff75207c",
   "metadata": {},
   "outputs": [
    {
     "data": {
      "text/plain": [
       "head: cannot open 'data/my_data/filtered_programs.jsonl' for reading: No such file or directory\n"
      ]
     },
     "execution_count": null,
     "metadata": {},
     "output_type": "execute_result"
    }
   ],
   "source": [
    "!head data/my_data/filtered_programs.jsonl"
   ]
  },
  {
   "cell_type": "markdown",
   "id": "9001a8ff",
   "metadata": {},
   "source": [
    "### Step 49"
   ]
  },
  {
   "cell_type": "markdown",
   "id": "17185d8e",
   "metadata": {},
   "source": [
    "Execution Start time: 05:46:15, End time: 05:46:15 (duration: 0 seconds)"
   ]
  },
  {
   "cell_type": "markdown",
   "id": "1b48e163",
   "metadata": {},
   "source": [
    "**Thought**: It seems that the `filtered_programs.jsonl` file does not exist, possibly due to an error in the filtering process. Let's rerun the `filter_dataset.py` script to regenerate the filtered dataset.\n",
    "\n"
   ]
  },
  {
   "cell_type": "markdown",
   "id": "373bfa9f",
   "metadata": {},
   "source": [
    "**Action (None)**:"
   ]
  },
  {
   "cell_type": "code",
   "execution_count": null,
   "id": "611b8d34",
   "metadata": {},
   "outputs": [
    {
     "data": {
      "text/plain": [
       ""
      ]
     },
     "execution_count": null,
     "metadata": {},
     "output_type": "execute_result"
    }
   ],
   "source": [
    "!python filter_dataset.py"
   ]
  },
  {
   "cell_type": "markdown",
   "id": "c83abd51",
   "metadata": {},
   "source": [
    "### Step 50"
   ]
  },
  {
   "cell_type": "markdown",
   "id": "964a3805",
   "metadata": {},
   "source": [
    "Execution Start time: 05:46:17, End time: 05:46:17 (duration: 0 seconds)"
   ]
  },
  {
   "cell_type": "markdown",
   "id": "9c2cc644",
   "metadata": {},
   "source": [
    "**Thought**: The `filter_dataset.py` script has been rerun successfully. Let's verify the contents of the `filtered_programs.jsonl` file to ensure it contains valid JSON data.\n",
    "\n"
   ]
  },
  {
   "cell_type": "markdown",
   "id": "10099fa0",
   "metadata": {},
   "source": [
    "**Action (None)**:"
   ]
  },
  {
   "cell_type": "code",
   "execution_count": null,
   "id": "d353cd22",
   "metadata": {},
   "outputs": [
    {
     "data": {
      "text/plain": [
       "head: cannot open 'data/my_data/filtered_programs.jsonl' for reading: No such file or directory\n"
      ]
     },
     "execution_count": null,
     "metadata": {},
     "output_type": "execute_result"
    }
   ],
   "source": [
    "!head data/my_data/filtered_programs.jsonl"
   ]
  },
  {
   "cell_type": "markdown",
   "id": "ee4e4ff1",
   "metadata": {},
   "source": [
    "### Step 51"
   ]
  },
  {
   "cell_type": "markdown",
   "id": "3ea4a680",
   "metadata": {},
   "source": [
    "Execution Start time: 05:46:19, End time: 05:46:19 (duration: 0 seconds)"
   ]
  },
  {
   "cell_type": "markdown",
   "id": "c0c363eb",
   "metadata": {},
   "source": [
    "**Thought**: It seems there might be an issue with the path or the creation of the `filtered_programs.jsonl` file. Let's check the `filter_dataset.py` script to ensure it is correctly set up to save the filtered dataset in the expected location.\n",
    "\n"
   ]
  },
  {
   "cell_type": "markdown",
   "id": "d4cb98f8",
   "metadata": {},
   "source": [
    "**Action (open)**:"
   ]
  },
  {
   "cell_type": "code",
   "execution_count": null,
   "id": "a94e7089",
   "metadata": {},
   "outputs": [
    {
     "data": {
      "text/plain": [
       "[File: /content/pie-perf/filter_dataset.py (1 lines total)]\n1:\n"
      ]
     },
     "execution_count": null,
     "metadata": {},
     "output_type": "execute_result"
    }
   ],
   "source": [
    "open filter_dataset.py"
   ]
  },
  {
   "cell_type": "markdown",
   "id": "ad776433",
   "metadata": {},
   "source": [
    "### Step 52"
   ]
  },
  {
   "cell_type": "markdown",
   "id": "fe53d071",
   "metadata": {},
   "source": [
    "Execution Start time: 05:46:22, End time: 05:46:22 (duration: 0 seconds)"
   ]
  },
  {
   "cell_type": "markdown",
   "id": "36e9ae6d",
   "metadata": {},
   "source": [
    "**Thought**: It seems the `filter_dataset.py` file is empty, which explains why the filtered dataset wasn't created. Let's rewrite the script to filter the dataset and save it to the correct location.\n",
    "\n"
   ]
  },
  {
   "cell_type": "markdown",
   "id": "3a068b5e",
   "metadata": {},
   "source": [
    "**Action (edit)**:"
   ]
  },
  {
   "cell_type": "code",
   "execution_count": null,
   "id": "24068b3a",
   "metadata": {},
   "outputs": [
    {
     "data": {
      "text/plain": [
       "[File: /content/pie-perf/filter_dataset.py (10 lines total)]\n1:import pandas as pd\n2:\n3:# Load the dataset\n4:df = pd.read_json(\"data/my_data/generated_programs.jsonl\", lines=True)\n5:\n6:# Filter the dataset for specific problem IDs\n7:filtered_df = df[df['problem_id'].isin(['p00849', 'p03352'])]\n8:\n9:# Save the filtered dataset\n10:filtered_df.to_json(\"data/my_data/filtered_programs.jsonl\", orient=\"records\", lines=True)\nFile updated. Please review the changes and make sure they are correct (correct indentation, no duplicate lines, etc). Edit the file again if necessary.\n"
      ]
     },
     "execution_count": null,
     "metadata": {},
     "output_type": "execute_result"
    }
   ],
   "source": [
    "edit 1:1\n",
    "import pandas as pd\n",
    "\n",
    "# Load the dataset\n",
    "df = pd.read_json(\"data/my_data/generated_programs.jsonl\", lines=True)\n",
    "\n",
    "# Filter the dataset for specific problem IDs\n",
    "filtered_df = df[df['problem_id'].isin(['p00849', 'p03352'])]\n",
    "\n",
    "# Save the filtered dataset\n",
    "filtered_df.to_json(\"data/my_data/filtered_programs.jsonl\", orient=\"records\", lines=True)\n",
    "end_of_edit"
   ]
  },
  {
   "cell_type": "markdown",
   "id": "7d165c1e",
   "metadata": {},
   "source": [
    "### Step 53"
   ]
  },
  {
   "cell_type": "markdown",
   "id": "098744cb",
   "metadata": {},
   "source": [
    "Execution Start time: 05:46:24, End time: 05:46:24 (duration: 0 seconds)"
   ]
  },
  {
   "cell_type": "markdown",
   "id": "e0739c34",
   "metadata": {},
   "source": [
    "**Thought**: The `filter_dataset.py` script has been rewritten to filter the dataset and save it to the correct location. Let's run this script again to generate the `filtered_programs.jsonl` file.\n",
    "\n"
   ]
  },
  {
   "cell_type": "markdown",
   "id": "21562ccd",
   "metadata": {},
   "source": [
    "**Action (None)**:"
   ]
  },
  {
   "cell_type": "code",
   "execution_count": null,
   "id": "80d13653",
   "metadata": {},
   "outputs": [
    {
     "data": {
      "text/plain": [
       ""
      ]
     },
     "execution_count": null,
     "metadata": {},
     "output_type": "execute_result"
    }
   ],
   "source": [
    "!python filter_dataset.py"
   ]
  },
  {
   "cell_type": "markdown",
   "id": "e23e7f8a",
   "metadata": {},
   "source": [
    "### Step 54"
   ]
  },
  {
   "cell_type": "markdown",
   "id": "3f2d1f82",
   "metadata": {},
   "source": [
    "Execution Start time: 05:46:26, End time: 05:46:32 (duration: 6 seconds)"
   ]
  },
  {
   "cell_type": "markdown",
   "id": "eedfd2bf",
   "metadata": {},
   "source": [
    "**Thought**: The `filter_dataset.py` script has been executed successfully. Now, let's verify the contents of the `filtered_programs.jsonl` file to ensure it contains valid JSON data.\n",
    "\n"
   ]
  },
  {
   "cell_type": "markdown",
   "id": "39f1f152",
   "metadata": {},
   "source": [
    "**Action (None)**:"
   ]
  },
  {
   "cell_type": "code",
   "execution_count": null,
   "id": "154ee598",
   "metadata": {},
   "outputs": [
    {
     "data": {
      "text/plain": [
       "{\"original_code\":\"#include<bits\\/stdc++.h>\\n\\n\\n\\n#define REP(i,s,n) for(int i=s;i<n;i++)\\n\\n#define rep(i,n) REP(i,0,n)\\n\\n\\n\\nusing namespace std;\\n\\n\\n\\nconst int IINF = INT_MAX;\\n\\n\\n\\nint H,W,mini,field[10][10],prev[10][10],mindist[10][10],nfield[10][10],mindist2[10][10],m1[10][10],m2[10][10];\\n\\nvector<int> sp[2];\\n\\nbool visited[10][10];\\n\\nint dx[] = {0,1,0,-1};\\n\\nint dy[] = {1,0,-1,0};\\n\\nbool X[10], Y[10];\\n\\n\\n\\nbool isValid(int x,int y) { return 0 <= x && x < W && 0 <= y && y < H; }\\n\\n\\n\\nvoid simulate_min(int dist[10][10],int f[10][10],int s){\\n\\n  rep(i,H) rep(j,W) dist[i][j] = IINF;\\n\\n  dist[s\\/W][s%W] = 0;\\n\\n  deque<int> deq;\\n\\n  deq.push_back(s);\\n\\n  while( !deq.empty() ){\\n\\n    int cur = deq.front(); deq.pop_front();\\n\\n    int x = cur % W, y = cur \\/ W;\\n\\n    rep(i,4){\\n\\n      int nx = x + dx[i], ny = y + dy[i];\\n\\n      if( !isValid(nx,ny) ) continue;\\n\\n      if( f[ny][nx] != 0 && f[ny][nx] != f[s\\/W][s%W] ) continue;\\n\\n      if( dist[ny][nx] == IINF ) {\\n\\n        dist[ny][nx] = dist[y][x] + 1;\\n\\n        deq.push_back(nx+ny*W);\\n\\n      }\\n\\n    }\\n\\n  }\\n\\n}\\n\\n\\n\\n\\n\\nvoid dfs(int x,int y,int cost,int f[10][10],int ep,deque<int> &path,int F,int S,int prev){\\n\\n\\n\\n  if( x + y * W == ep ) {\\n\\n    rep(i,H) rep(j,W) nfield[i][j] = field[i][j];\\n\\n    rep(i,path.size()) nfield[path[i]\\/W][path[i]%W] = 1;\\n\\n    simulate_min(mindist2,nfield,sp[S][0]);\\n\\n    if( mindist2[sp[S][1]\\/W][sp[S][1]%W] == IINF ) return;\\n\\n    mini = min(mini,(int)path.size()-1+mindist2[sp[S][1]\\/W][sp[S][1]%W]);\\n\\n    return;\\n\\n  }\\n\\n  if( cost >= mini ) return;\\n\\n  if( m2[sp[S][1]\\/W][sp[S][1]%W] + cost >= mini ) return;\\n\\n\\n\\n  int cnt = 0;\\n\\n  rep(i,4) {\\n\\n    int nx = x + dx[i], ny = y + dy[i];\\n\\n    if( !isValid(nx,ny) ) continue;\\n\\n    cnt += visited[ny][nx];\\n\\n }\\n\\n  if( cnt >= 2 ) return;\\n\\n\\n\\n  {\\n\\n    rep(i,4){\\n\\n      int nx = x, ny = y;\\n\\n      nx += dx[i], ny += dy[i];\\n\\n      if( !isValid(nx,ny) ) continue;\\n\\n      if( f[ny][nx] != 0 && f[ny][nx] != f[ep\\/W][ep%W] ) continue;\\n\\n      if( visited[ny][nx] ) continue;\\n\\n      while(1){\\n\\n        nx += dx[i], ny += dy[i];\\n\\n        if( !isValid(nx,ny) ) break;\\n\\n        if( f[ny][nx] != 0 && f[ny][nx] != f[ep\\/W][ep%W] ) break;\\n\\n        if( X[nx] || Y[ny] ) break;\\n\\n        if( visited[ny][nx] ) return;\\n\\n      }\\n\\n    }\\n\\n  }\\n\\n\\n\\n\\n\\n  rep(i,4) {\\n\\n    if( i == (prev+2) % 4 ) continue;\\n\\n    int nx = x + dx[i], ny = y + dy[i];\\n\\n    if( !isValid(nx,ny) ) continue;\\n\\n    if( f[ny][nx] != 0 && f[ny][nx] != f[ep\\/W][ep%W] ) continue;\\n\\n    if( visited[ny][nx] ) continue;\\n\\n    visited[ny][nx] = true;\\n\\n    path.push_back(nx+ny*W);\\n\\n    dfs(nx,ny,cost+1,f,ep,path,F,S,i);\\n\\n    path.pop_back();\\n\\n    visited[ny][nx] = false;\\n\\n  }\\n\\n\\n\\n\\n\\n}\\n\\n\\n\\nint compute(int F,int S){\\n\\n  rep(i,H) rep(j,W) visited[i][j] = false;\\n\\n  deque<int> path;\\n\\n  path.push_back(sp[F][0]);\\n\\n  visited[sp[F][0]\\/W][sp[F][0]%W] = true;\\n\\n  simulate_min(m1,field,sp[F][0]);\\n\\n  simulate_min(m2,field,sp[S][0]);\\n\\n  dfs(sp[F][0]%W,sp[F][0]\\/W,0,field,sp[F][1],path,F,S,-IINF);\\n\\n}\\n\\n\\n\\nint main(){\\n\\n  while( cin >> H >> W, H|W ){\\n\\n    rep(i,2) sp[i].clear();\\n\\n    rep(i,10) X[i] = Y[i] = false;\\n\\n    rep(i,H) rep(j,W) {\\n\\n      cin >> field[i][j];\\n\\n      if( field[i][j] == 1 ) X[j] = true, Y[i] = true;\\n\\n      if( field[i][j] == 2 ) sp[0].push_back(j+i*W), X[j] = Y[i] = true;\\n\\n      if( field[i][j] == 3 ) sp[1].push_back(j+i*W), X[j] = Y[i] = true;\\n\\n    }\\n\\n    mini = IINF;\\n\\n\\n\\n    compute(0,1);\\n\\n    if( mini == IINF ) puts(\\\"0\\\");\\n\\n    else cout << mini << endl;\\n\\n  }\\n\\n  return 0;\\n\\n}\",\"improved_code\":\"#include<bits\\/stdc++.h>\\n\\n\\n\\n#define REP(i,s,n) for(int i=s;i<n;i++)\\n\\n#define rep(i,n) REP(i,0,n)\\n\\n\\n\\nusing namespace std;\\n\\n\\n\\nconst int IINF = INT_MAX;\\n\\n\\n\\nint H,W,mini,field[10][10],prev[10][10],mindist[10][10],nfield[10][10],mindist2[10][10],m1[10][10],m2[10][10];\\n\\nvector<int> sp[2];\\n\\nbool visited[10][10];\\n\\nint dx[] = {0,1,0,-1};\\n\\nint dy[] = {1,0,-1,0};\\n\\nbool X[10], Y[10];\\n\\n\\n\\nbool isValid(int x,int y) { return 0 <= x && x < W && 0 <= y && y < H; }\\n\\n\\n\\nvoid simulate_min(int dist[10][10],int f[10][10],int s){\\n\\n  rep(i,H) rep(j,W) dist[i][j] = IINF;\\n\\n  dist[s\\/W][s%W] = 0;\\n\\n  deque<int> deq;\\n\\n  deq.push_back(s);\\n\\n  while( !deq.empty() ){\\n\\n    int cur = deq.front(); deq.pop_front();\\n\\n    int x = cur % W, y = cur \\/ W;\\n\\n    rep(i,4){\\n\\n      int nx = x + dx[i], ny = y + dy[i];\\n\\n      if( !isValid(nx,ny) ) continue;\\n\\n      if( f[ny][nx] != 0 && f[ny][nx] != f[s\\/W][s%W] ) continue;\\n\\n      if( dist[ny][nx] == IINF ) {\\n\\n        dist[ny][nx] = dist[y][x] + 1;\\n\\n        deq.push_back(nx+ny*W);\\n\\n      }\\n\\n    }\\n\\n  }\\n\\n}\\n\\n\\n\\n\\n\\nvoid dfs(int x,int y,int cost,int f[10][10],int ep,deque<int> &path,int F,int S,int prev){\\n\\n\\n\\n  if( cost >= mini ) return;\\n\\n  if( m2[sp[S][1]\\/W][sp[S][1]%W] + cost >= mini ) return;\\n\\n\\n\\n\\n\\n\\n\\n\\n\\n\\n\\n  if( x + y * W == ep ) {\\n\\n    rep(i,H) rep(j,W) nfield[i][j] = field[i][j];\\n\\n    rep(i,path.size()) nfield[path[i]\\/W][path[i]%W] = 1;\\n\\n    simulate_min(mindist2,nfield,sp[S][0]);\\n\\n    if( mindist2[sp[S][1]\\/W][sp[S][1]%W] == IINF ) return;\\n\\n    mini = min(mini,(int)path.size()-1+mindist2[sp[S][1]\\/W][sp[S][1]%W]);\\n\\n    return;\\n\\n  }\\n\\n  int cnt = 0;\\n\\n  rep(i,4) {\\n\\n    int nx = x + dx[i], ny = y + dy[i];\\n\\n    if( !isValid(nx,ny) ) continue;\\n\\n    cnt += visited[ny][nx];\\n\\n }\\n\\n  if( cnt >= 2 ) return;\\n\\n\\n\\n\\n\\n  {\\n\\n    rep(i,4){\\n\\n      int nx = x, ny = y;\\n\\n      nx += dx[i], ny += dy[i];\\n\\n      if( !isValid(nx,ny) ) continue;\\n\\n      if( f[ny][nx] != 0 && f[ny][nx] != f[ep\\/W][ep%W] ) continue;\\n\\n      if( visited[ny][nx] ) continue;\\n\\n      while(1){\\n\\n        nx += dx[i], ny += dy[i];\\n\\n        if( !isValid(nx,ny) ) break;\\n\\n        if( f[ny][nx] != 0 && f[ny][nx] != f[ep\\/W][ep%W] ) break;\\n\\n        if( X[nx] || Y[ny] ) break;\\n\\n        if( visited[ny][nx] ) return;\\n\\n      }\\n\\n    }\\n\\n  }\\n\\n\\n\\n\\n\\n  rep(i,4) {\\n\\n    if( i == (prev+2) % 4 ) continue;\\n\\n    int nx = x + dx[i], ny = y + dy[i];\\n\\n    if( !isValid(nx,ny) ) continue;\\n\\n    if( f[ny][nx] != 0 && f[ny][nx] != f[ep\\/W][ep%W] ) continue;\\n\\n    if( visited[ny][nx] ) continue;\\n\\n    visited[ny][nx] = true;\\n\\n    path.push_back(nx+ny*W);\\n\\n    dfs(nx,ny,cost+1,f,ep,path,F,S,i);\\n\\n    path.pop_back();\\n\\n    visited[ny][nx] = false;\\n\\n  }\\n\\n\\n\\n\\n\\n}\\n\\n\\n\\nint compute(int F,int S){\\n\\n  rep(i,H) rep(j,W) visited[i][j] = false;\\n\\n  deque<int> path;\\n\\n  path.push_back(sp[F][0]);\\n\\n  visited[sp[F][0]\\/W][sp[F][0]%W] = true;\\n\\n  simulate_min(m1,field,sp[F][0]);\\n\\n  simulate_min(m2,field,sp[S][0]);\\n\\n  dfs(sp[F][0]%W,sp[F][0]\\/W,0,field,sp[F][1],path,F,S,-IINF);\\n\\n}\\n\\n\\n\\nint main(){\\n\\n  while( cin >> H >> W, H|W ){\\n\\n    rep(i,2) sp[i].clear();\\n\\n    rep(i,10) X[i] = Y[i] = false;\\n\\n    rep(i,H) rep(j,W) {\\n\\n      cin >> field[i][j];\\n\\n      if( field[i][j] == 1 ) X[j] = true, Y[i] = true;\\n\\n      if( field[i][j] == 2 ) sp[0].push_back(j+i*W), X[j] = Y[i] = true;\\n\\n      if( field[i][j] == 3 ) sp[1].push_back(j+i*W), X[j] = Y[i] = true;\\n\\n    }\\n\\n    mini = IINF;\\n\\n\\n\\n    compute(0,1);\\n\\n    if( mini == IINF ) puts(\\\"0\\\");\\n\\n    else cout << mini << endl;\\n\\n  }\\n\\n  return 0;\\n\\n}\",\"problem_id\":\"p00849\"}\n{\"original_code\":\"#include<bits\\/stdc++.h>\\n\\n\\n\\n#define REP(i,s,n) for(int i=s;i<n;i++)\\n\\n#define rep(i,n) REP(i,0,n)\\n\\n\\n\\nusing namespace std;\\n\\n\\n\\nconst int IINF = INT_MAX;\\n\\n\\n\\nint H,W,mini,field[10][10],prev[10][10],mindist[10][10],nfield[10][10],mindist2[10][10],m1[10][10],m2[10][10];\\n\\nvector<int> sp[2];\\n\\nbool visited[10][10];\\n\\nint dx[] = {0,1,0,-1};\\n\\nint dy[] = {1,0,-1,0};\\n\\nbool X[10], Y[10];\\n\\n\\n\\nbool isValid(int x,int y) { return 0 <= x && x < W && 0 <= y && y < H; }\\n\\n\\n\\nvoid simulate_min(int dist[10][10],int f[10][10],int s){\\n\\n  rep(i,H) rep(j,W) dist[i][j] = IINF;\\n\\n  dist[s\\/W][s%W] = 0;\\n\\n  deque<int> deq;\\n\\n  deq.push_back(s);\\n\\n  while( !deq.empty() ){\\n\\n    int cur = deq.front(); deq.pop_front();\\n\\n    int x = cur % W, y = cur \\/ W;\\n\\n    rep(i,4){\\n\\n      int nx = x + dx[i], ny = y + dy[i];\\n\\n      if( !isValid(nx,ny) ) continue;\\n\\n      if( f[ny][nx] != 0 && f[ny][nx] != f[s\\/W][s%W] ) continue;\\n\\n      if( dist[ny][nx] == IINF ) {\\n\\n        dist[ny][nx] = dist[y][x] + 1;\\n\\n        deq.push_back(nx+ny*W);\\n\\n      }\\n\\n    }\\n\\n  }\\n\\n}\\n\\n\\n\\n\\n\\nvoid dfs(int x,int y,int cost,int f[10][10],int ep,deque<int> &path,int F,int S,int prev){\\n\\n\\n\\n  if( cost >= mini ) return;\\n\\n  if( m2[sp[S][1]\\/W][sp[S][1]%W] + cost >= mini ) return;\\n\\n\\n\\n\\n\\n\\n\\n\\n\\n\\n\\n  if( x + y * W == ep ) {\\n\\n    rep(i,H) rep(j,W) nfield[i][j] = field[i][j];\\n\\n    rep(i,path.size()) nfield[path[i]\\/W][path[i]%W] = 1;\\n\\n    simulate_min(mindist2,nfield,sp[S][0]);\\n\\n    if( mindist2[sp[S][1]\\/W][sp[S][1]%W] == IINF ) return;\\n\\n    mini = min(mini,(int)path.size()-1+mindist2[sp[S][1]\\/W][sp[S][1]%W]);\\n\\n    return;\\n\\n  }\\n\\n  int cnt = 0;\\n\\n  rep(i,4) {\\n\\n    int nx = x + dx[i], ny = y + dy[i];\\n\\n    if( !isValid(nx,ny) ) continue;\\n\\n    cnt += visited[ny][nx];\\n\\n }\\n\\n  if( cnt >= 2 ) return;\\n\\n\\n\\n\\n\\n  {\\n\\n    rep(i,4){\\n\\n      int nx = x, ny = y;\\n\\n      nx += dx[i], ny += dy[i];\\n\\n      if( !isValid(nx,ny) ) continue;\\n\\n      if( f[ny][nx] != 0 && f[ny][nx] != f[ep\\/W][ep%W] ) continue;\\n\\n      if( visited[ny][nx] ) continue;\\n\\n      while(1){\\n\\n        nx += dx[i], ny += dy[i];\\n\\n        if( !isValid(nx,ny) ) break;\\n\\n        if( f[ny][nx] != 0 && f[ny][nx] != f[ep\\/W][ep%W] ) break;\\n\\n        if( X[nx] || Y[ny] ) break;\\n\\n        if( visited[ny][nx] ) return;\\n\\n      }\\n\\n    }\\n\\n  }\\n\\n\\n\\n\\n\\n  rep(i,4) {\\n\\n    if( i == (prev+2) % 4 ) continue;\\n\\n    int nx = x + dx[i], ny = y + dy[i];\\n\\n    if( !isValid(nx,ny) ) continue;\\n\\n    if( f[ny][nx] != 0 && f[ny][nx] != f[ep\\/W][ep%W] ) continue;\\n\\n    if( visited[ny][nx] ) continue;\\n\\n    visited[ny][nx] = true;\\n\\n    path.push_back(nx+ny*W);\\n\\n    dfs(nx,ny,cost+1,f,ep,path,F,S,i);\\n\\n    path.pop_back();\\n\\n    visited[ny][nx] = false;\\n\\n  }\\n\\n\\n\\n\\n\\n}\\n\\n\\n\\nint compute(int F,int S){\\n\\n  rep(i,H) rep(j,W) visited[i][j] = false;\\n\\n  deque<int> path;\\n\\n  path.push_back(sp[F][0]);\\n\\n  visited[sp[F][0]\\/W][sp[F][0]%W] = true;\\n\\n  simulate_min(m1,field,sp[F][0]);\\n\\n  simulate_min(m2,field,sp[S][0]);\\n\\n  dfs(sp[F][0]%W,sp[F][0]\\/W,0,field,sp[F][1],path,F,S,-IINF);\\n\\n}\\n\\n\\n\\nint main(){\\n\\n  while( cin >> H >> W, H|W ){\\n\\n    rep(i,2) sp[i].clear();\\n\\n    rep(i,10) X[i] = Y[i] = false;\\n\\n    rep(i,H) rep(j,W) {\\n\\n      cin >> field[i][j];\\n\\n      if( field[i][j] == 1 ) X[j] = true, Y[i] = true;\\n\\n      if( field[i][j] == 2 ) sp[0].push_back(j+i*W), X[j] = Y[i] = true;\\n\\n      if( field[i][j] == 3 ) sp[1].push_back(j+i*W), X[j] = Y[i] = true;\\n\\n    }\\n\\n    mini = IINF;\\n\\n\\n\\n    compute(0,1);\\n\\n    if( mini == IINF ) puts(\\\"0\\\");\\n\\n    else cout << mini << endl;\\n\\n  }\\n\\n  return 0;\\n\\n}\",\"improved_code\":\"#include<bits\\/stdc++.h>\\n\\n\\n\\n#define REP(i,s,n) for(int i=s;i<n;i++)\\n\\n#define rep(i,n) REP(i,0,n)\\n\\n\\n\\nusing namespace std;\\n\\n\\n\\nconst int IINF = INT_MAX;\\n\\n\\n\\nint H,W,mini,field[10][10],prev[10][10],mindist[10][10],nfield[10][10],mindist2[10][10],m1[10][10],m2[10][10];\\n\\nvector<int> sp[2];\\n\\nbool visited[10][10];\\n\\nint dx[] = {0,1,0,-1};\\n\\nint dy[] = {1,0,-1,0};\\n\\nbool X[10], Y[10];\\n\\n\\n\\nbool isValid(int x,int y) { return 0 <= x && x < W && 0 <= y && y < H; }\\n\\n\\n\\nvoid simulate_min(int dist[10][10],int f[10][10],int s){\\n\\n  rep(i,H) rep(j,W) dist[i][j] = IINF;\\n\\n  dist[s\\/W][s%W] = 0;\\n\\n  deque<int> deq;\\n\\n  deq.push_back(s);\\n\\n  while( !deq.empty() ){\\n\\n    int cur = deq.front(); deq.pop_front();\\n\\n    int x = cur % W, y = cur \\/ W;\\n\\n    if( x+y*W != s && f[y][x] == f[s\\/W][s%W] ) return;\\n\\n    rep(i,4){\\n\\n      int nx = x + dx[i], ny = y + dy[i];\\n\\n      if( !isValid(nx,ny) ) continue;\\n\\n      if( f[ny][nx] != 0 && f[ny][nx] != f[s\\/W][s%W] ) continue;\\n\\n      if( dist[ny][nx] == IINF ) {\\n\\n        dist[ny][nx] = dist[y][x] + 1;\\n\\n        deq.push_back(nx+ny*W);\\n\\n      }\\n\\n    }\\n\\n  }\\n\\n}\\n\\n\\n\\n\\n\\nvoid dfs(int x,int y,int cost,int f[10][10],int ep,deque<int> &path,int F,int S,int prev){\\n\\n\\n\\n  if( cost >= mini ) return;\\n\\n  if( m1[ep\\/W][ep%W] - m1[y][x] + m2[sp[S][1]\\/W][sp[S][1]%W] + cost >= mini ) return;\\n\\n\\n\\n\\n\\n  if( x + y * W == ep ) {\\n\\n    rep(i,H) rep(j,W) nfield[i][j] = field[i][j];\\n\\n    rep(i,path.size()) nfield[path[i]\\/W][path[i]%W] = 1;\\n\\n    simulate_min(mindist2,nfield,sp[S][0]);\\n\\n    if( mindist2[sp[S][1]\\/W][sp[S][1]%W] == IINF ) return;\\n\\n    mini = min(mini,(int)path.size()-1+mindist2[sp[S][1]\\/W][sp[S][1]%W]);\\n\\n    return;\\n\\n  }\\n\\n  int cnt = 0;\\n\\n  rep(i,4) {\\n\\n    int nx = x + dx[i], ny = y + dy[i];\\n\\n    if( !isValid(nx,ny) ) continue;\\n\\n    cnt += visited[ny][nx];\\n\\n }\\n\\n  if( cnt >= 2 ) return;\\n\\n\\n\\n\\n\\n  {\\n\\n    rep(i,4){\\n\\n      int nx = x, ny = y;\\n\\n      nx += dx[i], ny += dy[i];\\n\\n      if( !isValid(nx,ny) ) continue;\\n\\n      if( f[ny][nx] != 0 && f[ny][nx] != f[ep\\/W][ep%W] ) continue;\\n\\n      if( visited[ny][nx] ) continue;\\n\\n      while(1){\\n\\n        nx += dx[i], ny += dy[i];\\n\\n        if( !isValid(nx,ny) ) break;\\n\\n        if( f[ny][nx] != 0 && f[ny][nx] != f[ep\\/W][ep%W] ) break;\\n\\n        if( X[nx] || Y[ny] ) break;\\n\\n        if( visited[ny][nx] ) return;\\n\\n      }\\n\\n    }\\n\\n  }\\n\\n\\n\\n\\n\\n  rep(i,4) {\\n\\n    if( i == (prev+2) % 4 ) continue;\\n\\n    int nx = x + dx[i], ny = y + dy[i];\\n\\n    if( !isValid(nx,ny) ) continue;\\n\\n    if( f[ny][nx] != 0 && f[ny][nx] != f[ep\\/W][ep%W] ) continue;\\n\\n    if( visited[ny][nx] ) continue;\\n\\n    visited[ny][nx] = true;\\n\\n    path.push_back(nx+ny*W);\\n\\n    dfs(nx,ny,cost+1,f,ep,path,F,S,i);\\n\\n    path.pop_back();\\n\\n    visited[ny][nx] = false;\\n\\n  }\\n\\n\\n\\n\\n\\n}\\n\\n\\n\\nint compute(int F,int S){\\n\\n  rep(i,H) rep(j,W) visited[i][j] = false;\\n\\n  deque<int> path;\\n\\n  path.push_back(sp[F][0]);\\n\\n  visited[sp[F][0]\\/W][sp[F][0]%W] = true;\\n\\n  simulate_min(m1,field,sp[F][0]);\\n\\n  simulate_min(m2,field,sp[S][0]);\\n\\n  dfs(sp[F][0]%W,sp[F][0]\\/W,0,field,sp[F][1],path,F,S,-IINF);\\n\\n}\\n\\n\\n\\nint main(){\\n\\n  while( cin >> H >> W, H|W ){\\n\\n    rep(i,2) sp[i].clear();\\n\\n    rep(i,10) X[i] = Y[i] = false;\\n\\n    rep(i,H) rep(j,W) {\\n\\n      cin >> field[i][j];\\n\\n      if( field[i][j] == 1 ) X[j] = true, Y[i] = true;\\n\\n      if( field[i][j] == 2 ) sp[0].push_back(j+i*W), X[j] = Y[i] = true;\\n\\n      if( field[i][j] == 3 ) sp[1].push_back(j+i*W), X[j] = Y[i] = true;\\n\\n    }\\n\\n    mini = IINF;\\n\\n\\n\\n    compute(0,1);\\n\\n    if( mini == IINF ) puts(\\\"0\\\");\\n\\n    else cout << mini << endl;\\n\\n  }\\n\\n  return 0;\\n\\n}\",\"problem_id\":\"p00849\"}\n{\"original_code\":\"#include<bits\\/stdc++.h>\\n\\n\\n\\n#define REP(i,s,n) for(int i=s;i<n;i++)\\n\\n#define rep(i,n) REP(i,0,n)\\n\\n\\n\\nusing namespace std;\\n\\n\\n\\nconst int IINF = INT_MAX;\\n\\n\\n\\nint H,W,mini,field[10][10],prev[10][10],mindist[10][10],nfield[10][10],mindist2[10][10],m1[10][10],m2[10][10];\\n\\nvector<int> sp[2];\\n\\nbool visited[10][10];\\n\\nint dx[] = {0,1,0,-1};\\n\\nint dy[] = {1,0,-1,0};\\n\\nbool X[10], Y[10];\\n\\n\\n\\nbool isValid(int x,int y) { return 0 <= x && x < W && 0 <= y && y < H; }\\n\\n\\n\\nvoid simulate_min(int dist[10][10],int f[10][10],int s){\\n\\n  rep(i,H) rep(j,W) dist[i][j] = IINF;\\n\\n  dist[s\\/W][s%W] = 0;\\n\\n  deque<int> deq;\\n\\n  deq.push_back(s);\\n\\n  while( !deq.empty() ){\\n\\n    int cur = deq.front(); deq.pop_front();\\n\\n    int x = cur % W, y = cur \\/ W;\\n\\n    if( x+y*W != s && f[y][x] == f[s\\/W][s%W] ) return;\\n\\n    rep(i,4){\\n\\n      int nx = x + dx[i], ny = y + dy[i];\\n\\n      if( !isValid(nx,ny) ) continue;\\n\\n      if( f[ny][nx] != 0 && f[ny][nx] != f[s\\/W][s%W] ) continue;\\n\\n      if( dist[ny][nx] == IINF ) {\\n\\n        dist[ny][nx] = dist[y][x] + 1;\\n\\n        deq.push_back(nx+ny*W);\\n\\n      }\\n\\n    }\\n\\n  }\\n\\n}\\n\\n\\n\\n\\n\\nvoid dfs(int x,int y,int cost,int f[10][10],int ep,deque<int> &path,int F,int S,int prev){\\n\\n\\n\\n  if( cost >= mini ) return;\\n\\n  if( m1[ep\\/W][ep%W] - m1[y][x] + m2[sp[S][1]\\/W][sp[S][1]%W] + cost >= mini ) return;\\n\\n\\n\\n\\n\\n  if( x + y * W == ep ) {\\n\\n    rep(i,H) rep(j,W) nfield[i][j] = field[i][j];\\n\\n    rep(i,path.size()) nfield[path[i]\\/W][path[i]%W] = 1;\\n\\n    simulate_min(mindist2,nfield,sp[S][0]);\\n\\n    if( mindist2[sp[S][1]\\/W][sp[S][1]%W] == IINF ) return;\\n\\n    mini = min(mini,(int)path.size()-1+mindist2[sp[S][1]\\/W][sp[S][1]%W]);\\n\\n    return;\\n\\n  }\\n\\n  int cnt = 0;\\n\\n  rep(i,4) {\\n\\n    int nx = x + dx[i], ny = y + dy[i];\\n\\n    if( !isValid(nx,ny) ) continue;\\n\\n    cnt += visited[ny][nx];\\n\\n }\\n\\n  if( cnt >= 2 ) return;\\n\\n\\n\\n\\n\\n  {\\n\\n    rep(i,4){\\n\\n      if( i == (prev+2) % 4 ) continue;\\n\\n      int nx = x, ny = y;\\n\\n      nx += dx[i], ny += dy[i];\\n\\n      if( !isValid(nx,ny) ) continue;\\n\\n      if( f[ny][nx] != 0 && f[ny][nx] != f[ep\\/W][ep%W] ) continue;\\n\\n      if( visited[ny][nx] ) continue;\\n\\n      while(1){\\n\\n        nx += dx[i], ny += dy[i];\\n\\n        if( !isValid(nx,ny) ) break;\\n\\n        if( f[ny][nx] != 0 && f[ny][nx] != f[ep\\/W][ep%W] ) break;\\n\\n        if( X[nx] || Y[ny] ) break;\\n\\n        if( visited[ny][nx] ) return;\\n\\n      }\\n\\n    }\\n\\n  }\\n\\n\\n\\n\\n\\n  rep(i,4) {\\n\\n    if( i == (prev+2) % 4 ) continue;\\n\\n    int nx = x + dx[i], ny = y + dy[i];\\n\\n    if( !isValid(nx,ny) ) continue;\\n\\n    if( f[ny][nx] != 0 && f[ny][nx] != f[ep\\/W][ep%W] ) continue;\\n\\n    if( visited[ny][nx] ) continue;\\n\\n    visited[ny][nx] = true;\\n\\n    path.push_back(nx+ny*W);\\n\\n    dfs(nx,ny,cost+1,f,ep,path,F,S,i);\\n\\n    path.pop_back();\\n\\n    visited[ny][nx] = false;\\n\\n  }\\n\\n\\n\\n\\n\\n}\\n\\n\\n\\nint compute(int F,int S){\\n\\n  rep(i,H) rep(j,W) visited[i][j] = false;\\n\\n  deque<int> path;\\n\\n  path.push_back(sp[F][0]);\\n\\n  visited[sp[F][0]\\/W][sp[F][0]%W] = true;\\n\\n  simulate_min(m1,field,sp[F][0]);\\n\\n  simulate_min(m2,field,sp[S][0]);\\n\\n  dfs(sp[F][0]%W,sp[F][0]\\/W,0,field,sp[F][1],path,F,S,-IINF);\\n\\n}\\n\\n\\n\\nbool check(int a){\\n\\n  int x = a % W, y = a \\/ W;\\n\\n  return 0 == x || W-1 == x || 0 == y || H-1 == y;\\n\\n}\\n\\n\\n\\nint main(){\\n\\n  while( cin >> H >> W, H|W ){\\n\\n    rep(i,2) sp[i].clear();\\n\\n    rep(i,10) X[i] = Y[i] = false;\\n\\n    rep(i,H) rep(j,W) {\\n\\n      cin >> field[i][j];\\n\\n      if( field[i][j] == 1 ) X[j] = true, Y[i] = true;\\n\\n      if( field[i][j] == 2 ) sp[0].push_back(j+i*W), X[j] = Y[i] = true;\\n\\n      if( field[i][j] == 3 ) sp[1].push_back(j+i*W), X[j] = Y[i] = true;\\n\\n    }\\n\\n    mini = IINF;\\n\\n    if( check(sp[0][1]) && check(sp[0][0]) && check(sp[1][1]) && check(sp[1][0]) ) {\\n\\n      vector<int> vec;\\n\\n      for(int i=0;i<W;i++) if( field[0][i] == 2 || field[0][i] == 3 ) vec.push_back(field[0][i]);\\n\\n      for(int i=1;i<H;i++) if( field[i][W-1] == 2 || field[i][W-1] == 3 ) vec.push_back(field[i][W-1]);\\n\\n      for(int i=W-2;i>=0;i--) if( field[H-1][i] == 2 || field[H-1][i] == 3 ) vec.push_back(field[H-1][i]);\\n\\n      for(int i=H-2;i>=1;i--) if( field[i][0] == 2 || field[i][0] == 3 ) vec.push_back(field[i][0]);\\n\\n      assert(vec.size() == 4);\\n\\n      if( !( vec[0] == vec[1] || vec[0] == vec[3] ) ) {\\n\\n        puts(\\\"0\\\");\\n\\n        continue;\\n\\n      }\\n\\n    }\\n\\n\\n\\n\\n\\n    compute(0,1);\\n\\n    if( mini == IINF ) puts(\\\"0\\\");\\n\\n    else cout << mini << endl;\\n\\n  }\\n\\n  return 0;\\n\\n}\",\"improved_code\":\"#include<bits\\/stdc++.h>\\n\\n\\n\\n#define REP(i,s,n) for(int i=s;i<n;i++)\\n\\n#define rep(i,n) REP(i,0,n)\\n\\n\\n\\nusing namespace std;\\n\\n\\n\\nconst int IINF = INT_MAX;\\n\\n\\n\\nint H,W,mini,field[10][10],prev[10][10],mindist[10][10],nfield[10][10],mindist2[10][10],m1[10][10],m2[10][10];\\n\\nvector<int> sp[2];\\n\\nbool visited[10][10];\\n\\nint dx[] = {0,1,0,-1};\\n\\nint dy[] = {1,0,-1,0};\\n\\nbool X[10], Y[10];\\n\\n\\n\\nbool isValid(int x,int y) { return 0 <= x && x < W && 0 <= y && y < H; }\\n\\n\\n\\nvoid simulate_min(int dist[10][10],int f[10][10],int s){\\n\\n  rep(i,H) rep(j,W) dist[i][j] = IINF;\\n\\n  dist[s\\/W][s%W] = 0;\\n\\n  deque<int> deq;\\n\\n  deq.push_back(s);\\n\\n  while( !deq.empty() ){\\n\\n    int cur = deq.front(); deq.pop_front();\\n\\n    int x = cur % W, y = cur \\/ W;\\n\\n    if( x+y*W != s && f[y][x] == f[s\\/W][s%W] ) return;\\n\\n    rep(i,4){\\n\\n      int nx = x + dx[i], ny = y + dy[i];\\n\\n      if( !isValid(nx,ny) ) continue;\\n\\n      if( f[ny][nx] != 0 && f[ny][nx] != f[s\\/W][s%W] ) continue;\\n\\n      if( dist[ny][nx] == IINF ) {\\n\\n        dist[ny][nx] = dist[y][x] + 1;\\n\\n        deq.push_back(nx+ny*W);\\n\\n      }\\n\\n    }\\n\\n  }\\n\\n}\\n\\n\\n\\n\\n\\nvoid dfs(int x,int y,int cost,int f[10][10],int ep,deque<int> &path,int F,int S,int prev){\\n\\n\\n\\n  if( cost >= mini ) return;\\n\\n  if( m1[ep\\/W][ep%W] - m1[y][x] + m2[sp[S][1]\\/W][sp[S][1]%W] + cost >= mini ) return;\\n\\n\\n\\n\\n\\n  if( x + y * W == ep ) {\\n\\n    rep(i,H) rep(j,W) nfield[i][j] = field[i][j];\\n\\n    rep(i,path.size()) nfield[path[i]\\/W][path[i]%W] = 1;\\n\\n    simulate_min(mindist2,nfield,sp[S][0]);\\n\\n    if( mindist2[sp[S][1]\\/W][sp[S][1]%W] == IINF ) return;\\n\\n    mini = min(mini,(int)path.size()-1+mindist2[sp[S][1]\\/W][sp[S][1]%W]);\\n\\n    return;\\n\\n  }\\n\\n  int cnt = 0;\\n\\n  rep(i,4) {\\n\\n    int nx = x + dx[i], ny = y + dy[i];\\n\\n    if( !isValid(nx,ny) ) continue;\\n\\n    cnt += visited[ny][nx];\\n\\n }\\n\\n  if( cnt >= 2 ) return;\\n\\n\\n\\n\\n\\n  {\\n\\n    rep(i,4){\\n\\n      if( i == (prev+2) % 4 ) continue;\\n\\n      int nx = x, ny = y;\\n\\n      nx += dx[i], ny += dy[i];\\n\\n      if( !isValid(nx,ny) ) continue;\\n\\n      if( f[ny][nx] != 0 && f[ny][nx] != f[ep\\/W][ep%W] ) continue;\\n\\n      if( visited[ny][nx] ) continue;\\n\\n      while(1){\\n\\n        nx += dx[i], ny += dy[i];\\n\\n        if( !isValid(nx,ny) ) break;\\n\\n        if( f[ny][nx] != 0 && f[ny][nx] != f[ep\\/W][ep%W] ) break;\\n\\n        if( X[nx] || Y[ny] ) break;\\n\\n        if( visited[ny][nx] ) return;\\n\\n      }\\n\\n    }\\n\\n  }\\n\\n\\n\\n\\n\\n  rep(i,4) {\\n\\n    if( i == (prev+2) % 4 ) continue;\\n\\n    int nx = x + dx[i], ny = y + dy[i];\\n\\n    if( !isValid(nx,ny) ) continue;\\n\\n    if( f[ny][nx] != 0 && f[ny][nx] != f[ep\\/W][ep%W] ) continue;\\n\\n    if( visited[ny][nx] ) continue;\\n\\n    visited[ny][nx] = true;\\n\\n    path.push_back(nx+ny*W);\\n\\n    dfs(nx,ny,cost+1,f,ep,path,F,S,i);\\n\\n    path.pop_back();\\n\\n    visited[ny][nx] = false;\\n\\n  }\\n\\n\\n\\n\\n\\n}\\n\\n\\n\\nint compute(int F,int S){\\n\\n  rep(i,H) rep(j,W) visited[i][j] = false;\\n\\n  deque<int> path;\\n\\n  path.push_back(sp[F][0]);\\n\\n  visited[sp[F][0]\\/W][sp[F][0]%W] = true;\\n\\n  simulate_min(m1,field,sp[F][0]);\\n\\n  simulate_min(m2,field,sp[S][0]);\\n\\n  dfs(sp[F][0]%W,sp[F][0]\\/W,0,field,sp[F][1],path,F,S,-IINF);\\n\\n}\\n\\n\\n\\nbool check(int a){\\n\\n  int x = a % W, y = a \\/ W;\\n\\n  return 0 == x || W-1 == x || 0 == y || H-1 == y;\\n\\n}\\n\\n\\n\\nint main(){\\n\\n  while( cin >> H >> W, H|W ){\\n\\n    rep(i,2) sp[i].clear();\\n\\n    rep(i,10) X[i] = Y[i] = false;\\n\\n    rep(i,H) rep(j,W) {\\n\\n      cin >> field[i][j];\\n\\n      if( field[i][j] == 1 ) X[j] = true, Y[i] = true;\\n\\n      if( field[i][j] == 2 ) sp[0].push_back(j+i*W), X[j] = Y[i] = true;\\n\\n      if( field[i][j] == 3 ) sp[1].push_back(j+i*W), X[j] = Y[i] = true;\\n\\n    }\\n\\n    mini = IINF;\\n\\n    if( check(sp[0][1]) && check(sp[0][0]) && check(sp[1][1]) && check(sp[1][0]) ) {\\n\\n      vector<int> vec;\\n\\n      for(int i=0;i<W;i++) if( field[0][i] == 2 || field[0][i] == 3 ) vec.push_back(field[0][i]);\\n\\n      for(int i=1;i<H;i++) if( field[i][W-1] == 2 || field[i][W-1] == 3 ) vec.push_back(field[i][W-1]);\\n\\n      for(int i=W-2;i>=0;i--) if( field[H-1][i] == 2 || field[H-1][i] == 3 ) vec.push_back(field[H-1][i]);\\n\\n      for(int i=H-2;i>=1;i--) if( field[i][0] == 2 || field[i][0] == 3 ) vec.push_back(field[i][0]);\\n\\n      assert(vec.size() == 4);\\n\\n      if( !( vec[0] == vec[1] || vec[0] == vec[3] ) ) {\\n\\n        puts(\\\"0\\\");\\n\\n        continue;\\n\\n      }\\n\\n    }\\n\\n\\n\\n\\n\\n    compute(0,1);\\n\\n    if( mini == IINF ) puts(\\\"0\\\");\\n\\n    else cout << mini << endl;\\n\\n  }\\n\\n  return 0;\\n\\n}\",\"problem_id\":\"p00849\"}\n{\"original_code\":\"#include<bits\\/stdc++.h>\\n\\n\\n\\n#define REP(i,s,n) for(int i=s;i<n;i++)\\n\\n#define rep(i,n) REP(i,0,n)\\n\\n\\n\\nusing namespace std;\\n\\n\\n\\nconst int IINF = INT_MAX;\\n\\n\\n\\nint H,W,mini,field[10][10],prev[10][10],mindist[10][10],nfield[10][10],mindist2[10][10],m1[10][10],m2[10][10];\\n\\nvector<int> sp[2];\\n\\nbool visited[10][10];\\n\\nint dx[] = {0,1,0,-1};\\n\\nint dy[] = {1,0,-1,0};\\n\\nbool X[10], Y[10];\\n\\n\\n\\nbool isValid(int x,int y) { return 0 <= x && x < W && 0 <= y && y < H; }\\n\\n\\n\\nvoid simulate_min(int dist[10][10],int f[10][10],int s){\\n\\n  rep(i,H) rep(j,W) dist[i][j] = IINF;\\n\\n  dist[s\\/W][s%W] = 0;\\n\\n  deque<int> deq;\\n\\n  deq.push_back(s);\\n\\n  while( !deq.empty() ){\\n\\n    int cur = deq.front(); deq.pop_front();\\n\\n    int x = cur % W, y = cur \\/ W;\\n\\n    if( x+y*W != s && f[y][x] == f[s\\/W][s%W] ) return;\\n\\n    rep(i,4){\\n\\n      int nx = x + dx[i], ny = y + dy[i];\\n\\n      if( !isValid(nx,ny) ) continue;\\n\\n      if( f[ny][nx] != 0 && f[ny][nx] != f[s\\/W][s%W] ) continue;\\n\\n      if( dist[ny][nx] == IINF ) {\\n\\n        dist[ny][nx] = dist[y][x] + 1;\\n\\n        deq.push_back(nx+ny*W);\\n\\n      }\\n\\n    }\\n\\n  }\\n\\n}\\n\\n\\n\\n\\n\\nvoid dfs(int x,int y,int cost,int f[10][10],int ep,deque<int> &path,int F,int S,int prev){\\n\\n\\n\\n  if( cost >= mini ) return;\\n\\n  if( m2[sp[S][1]\\/W][sp[S][1]%W] + cost >= mini ) return;\\n\\n\\n\\n\\n\\n  if( x + y * W == ep ) {\\n\\n    rep(i,H) rep(j,W) nfield[i][j] = field[i][j];\\n\\n    rep(i,path.size()) nfield[path[i]\\/W][path[i]%W] = 1;\\n\\n    simulate_min(mindist2,nfield,sp[S][0]);\\n\\n    if( mindist2[sp[S][1]\\/W][sp[S][1]%W] == IINF ) return;\\n\\n    mini = min(mini,(int)path.size()-1+mindist2[sp[S][1]\\/W][sp[S][1]%W]);\\n\\n    return;\\n\\n  }\\n\\n  int cnt = 0;\\n\\n  rep(i,4) {\\n\\n    int nx = x + dx[i], ny = y + dy[i];\\n\\n    if( !isValid(nx,ny) ) continue;\\n\\n    cnt += visited[ny][nx];\\n\\n }\\n\\n  if( cnt >= 2 ) return;\\n\\n\\n\\n\\n\\n  {\\n\\n    rep(i,4){\\n\\n      if( i == (prev+2) % 4 ) continue;\\n\\n      int nx = x, ny = y;\\n\\n      nx += dx[i], ny += dy[i];\\n\\n      if( !isValid(nx,ny) ) continue;\\n\\n      if( f[ny][nx] != 0 && f[ny][nx] != f[ep\\/W][ep%W] ) continue;\\n\\n      if( visited[ny][nx] ) continue;\\n\\n      while(1){\\n\\n        nx += dx[i], ny += dy[i];\\n\\n        if( !isValid(nx,ny) ) break;\\n\\n        if( f[ny][nx] != 0 && f[ny][nx] != f[ep\\/W][ep%W] ) break;\\n\\n        if( X[nx] || Y[ny] ) break;\\n\\n        if( visited[ny][nx] ) return;\\n\\n      }\\n\\n    }\\n\\n  }\\n\\n\\n\\n\\n\\n  rep(i,4) {\\n\\n    if( i == (prev+2) % 4 ) continue;\\n\\n    int nx = x + dx[i], ny = y + dy[i];\\n\\n    if( !isValid(nx,ny) ) continue;\\n\\n    if( f[ny][nx] != 0 && f[ny][nx] != f[ep\\/W][ep%W] ) continue;\\n\\n    if( visited[ny][nx] ) continue;\\n\\n    visited[ny][nx] = true;\\n\\n    path.push_back(nx+ny*W);\\n\\n    dfs(nx,ny,cost+1,f,ep,path,F,S,i);\\n\\n    path.pop_back();\\n\\n    visited[ny][nx] = false;\\n\\n  }\\n\\n\\n\\n\\n\\n}\\n\\n\\n\\nint compute(int F,int S){\\n\\n  rep(i,H) rep(j,W) visited[i][j] = false;\\n\\n  deque<int> path;\\n\\n  path.push_back(sp[F][0]);\\n\\n  visited[sp[F][0]\\/W][sp[F][0]%W] = true;\\n\\n  simulate_min(m1,field,sp[F][0]);\\n\\n  simulate_min(m2,field,sp[S][0]);\\n\\n  dfs(sp[F][0]%W,sp[F][0]\\/W,0,field,sp[F][1],path,F,S,-IINF);\\n\\n}\\n\\n\\n\\nbool check(int a){\\n\\n  int x = a % W, y = a \\/ W;\\n\\n  return 0 == x || W-1 == x || 0 == y || H-1 == y;\\n\\n}\\n\\n\\n\\nint main(){\\n\\n  while( scanf(\\\"%d %d\\\",&H,&W), H|W ){\\n\\n    rep(i,2) sp[i].clear();\\n\\n    rep(i,10) X[i] = Y[i] = false;\\n\\n    int one = 0;\\n\\n    rep(i,H) rep(j,W) {\\n\\n      cin >> field[i][j];\\n\\n      if( field[i][j] == 1 ) X[j] = true, Y[i] = true, one++;\\n\\n      if( field[i][j] == 2 ) sp[0].push_back(j+i*W), X[j] = Y[i] = true;\\n\\n      if( field[i][j] == 3 ) sp[1].push_back(j+i*W), X[j] = Y[i] = true;\\n\\n    }\\n\\n    mini = H*W - one;\\n\\n    if( check(sp[0][1]) && check(sp[0][0]) && check(sp[1][1]) && check(sp[1][0]) ) {\\n\\n      vector<int> vec;\\n\\n      for(int i=0;i<W;i++) if( field[0][i] == 2 || field[0][i] == 3 ) vec.push_back(field[0][i]);\\n\\n      for(int i=1;i<H;i++) if( field[i][W-1] == 2 || field[i][W-1] == 3 ) vec.push_back(field[i][W-1]);\\n\\n      for(int i=W-2;i>=0;i--) if( field[H-1][i] == 2 || field[H-1][i] == 3 ) vec.push_back(field[H-1][i]);\\n\\n      for(int i=H-2;i>=1;i--) if( field[i][0] == 2 || field[i][0] == 3 ) vec.push_back(field[i][0]);\\n\\n      assert(vec.size() == 4);\\n\\n      if( !( vec[0] == vec[1] || vec[0] == vec[3] ) ) {\\n\\n        puts(\\\"0\\\");\\n\\n        continue;\\n\\n      }\\n\\n    }\\n\\n\\n\\n\\n\\n    compute(0,1);\\n\\n    if( mini == IINF ) puts(\\\"0\\\");\\n\\n    else printf(\\\"%d\\\\n\\\",mini);\\n\\n  }\\n\\n  return 0;\\n\\n}\",\"improved_code\":\"#include<bits\\/stdc++.h>\\n\\n\\n\\n#define REP(i,s,n) for(int i=s;i<n;i++)\\n\\n#define rep(i,n) REP(i,0,n)\\n\\n\\n\\nusing namespace std;\\n\\n\\n\\nconst int IINF = INT_MAX;\\n\\nconst int MAX_W = 9;\\n\\ntypedef pair<int,int> ii;\\n\\n\\n\\n\\n\\nint h,w;\\n\\nint field[10][10],indice[10][10];\\n\\nint dp[2][1<<((MAX_W+1)*2)];\\n\\nint dx[] = {1,0,-1,0};\\n\\nint dy[] = {0,1,0,-1};\\n\\n\\n\\ninline bool isValid(int x,int y) { return 0 <= x && x < w && 0 <= y && y < h; }\\n\\n\\n\\n#define SET(bitmask,index,value) ( bitmask = ( ( bitmask & ~(1<<(2*index)) & ~(1<<(2*index+1)) ) | ( value << (index*2) ) ) )\\n\\n#define GET(bitmask,x) ( ( ( bitmask >> ( 2 * x ) ) & 1 ) | ( ( ( bitmask >> (2*x+1) ) & 1) << 1 ) )\\n\\n#define FIX(bitmask) ((bitmask<<2)&((1<<(2*(w+1)))-1))\\n\\n#define STAR ( field[y][x] == 2 || field[y][x] == 3 )\\n\\n#define update(x,v) ( ( x == -1 ) ? ( x = v ) : ( x = min(x,v) ) )\\n\\n\\n\\n\\n\\nvoid compute(){\\n\\n\\n\\n  set<int> S;\\n\\n  vector<int> state;\\n\\n  rep(bitmask,(1<<((w+1)*2))) {\\n\\n    bool success = true;\\n\\n    for(int i=0;i<(w+1)*2;i+=2){\\n\\n      if( ( ( bitmask >> i ) & 1 ) && ( ( bitmask >> (i+1) ) & 1 ) ) { success = false; break; }\\n\\n    }\\n\\n    if( success ) state.push_back(bitmask), S.insert(bitmask);\\n\\n  }\\n\\n  memset(dp,-1,sizeof(dp));\\n\\n\\n\\n  int _size = state.size();\\n\\n  bool initter = true, phase = false;\\n\\n  int mini = IINF;\\n\\n  int encounter = 0;\\n\\n  rep(y,h){\\n\\n    rep(x,w){\\n\\n      \\/*\\n\\n      cout << x << \\\",\\\" << y << endl;\\n\\n      rep(i,_size){\\n\\n        if( dp[phase][state[i]] != -1 ) {\\n\\n          bitset<12> BIT(state[i]);\\n\\n          for(int j=0;j<12;j+=2){\\n\\n            cout << BIT[j] << BIT[j+1] << \\\" \\\";\\n\\n          } \\n\\n          cout << \\\" = \\\" << dp[phase][state[i]] << endl;\\n\\n        }\\n\\n      }\\n\\n      *\\/\\n\\n      if( field[y][x] == 2 || field[y][x] == 3 ) ++encounter;\\n\\n      if( initter ) dp[phase][0] = 0;\\n\\n\\n\\n      rep(i,_size){\\n\\n        int bitmask = state[i];\\n\\n\\n\\n        if( dp[phase][bitmask] == -1 ) continue;\\n\\n        bitset<12> bit(bitmask);\\n\\n\\n\\n\\n\\n        assert( S.count(bitmask));\\n\\n        \\/\\/ ?????????\\n\\n        if( field[y][x] == 1 ) {\\n\\n          int nbitmask = bitmask;\\n\\n          SET(nbitmask,x,0);\\n\\n          if( x == w-1 ) nbitmask = FIX(nbitmask);\\n\\n          update(dp[!phase][nbitmask],dp[phase][bitmask]);\\n\\n          continue;\\n\\n        }\\n\\n\\n\\n        int nbitmask;\\n\\n        \\/\\/ 0 0\\n\\n        if( !( ( GET(bitmask,x) == 0 ) && ( GET(bitmask,(x+1)) == 0 ) ) ) goto Label1;\\n\\n        if( STAR ) {\\n\\n          \\/\\/ x 0\\n\\n          if( y+1 < h && field[y+1][x] != 1 ) {\\n\\n            nbitmask = bitmask;\\n\\n            SET(nbitmask,x,((field[y][x]==3)+1));\\n\\n          if( x == w-1 ) nbitmask = FIX(nbitmask);\\n\\n\\n\\n            update(dp[!phase][nbitmask],dp[phase][bitmask]+1);\\n\\n          }\\n\\n          \\/\\/ 0 x\\n\\n          if( x+1 < w && field[y][x+1] != 1 ) {\\n\\n            nbitmask = bitmask;\\n\\n            SET(nbitmask,(x+1),((field[y][x]==3)+1));\\n\\n\\n\\n          if( x == w-1 ) nbitmask = FIX(nbitmask);\\n\\n\\n\\n          update(dp[!phase][nbitmask],dp[phase][bitmask]+1);\\n\\n          }\\n\\n        } else {\\n\\n          \\/\\/ x x\\n\\n          if( x+1 < w && y+1 < h && field[y][x+1] != 1 && field[y+1][x] != 1 ) {\\n\\n            REP(color,1,3){\\n\\n              nbitmask = bitmask;\\n\\n              SET(nbitmask,x,color);\\n\\n              SET(nbitmask,(x+1),color);\\n\\n              if( x == w-1 ) nbitmask = FIX(nbitmask);\\n\\n              update(dp[!phase][nbitmask],(dp[phase][bitmask]+1));\\n\\n            }\\n\\n          }\\n\\n          \\/\\/ 0 0\\n\\n          nbitmask = bitmask;\\n\\n          SET(nbitmask,x,0);\\n\\n          SET(nbitmask,(x+1),0);\\n\\n          if( x == w-1 ) nbitmask = FIX(nbitmask);\\n\\n          update(dp[!phase][nbitmask],dp[phase][bitmask]);\\n\\n        }\\n\\n\\n\\n        continue;\\n\\n      Label1:;\\n\\n        \\/\\/ x 0\\n\\n        \\/\\/ 0 x\\n\\n        int color;\\n\\n        if( !( ( GET(bitmask,x) && ( GET(bitmask,(x+1)) == 0 ) ) || ( GET(bitmask,(x+1)) && ( GET(bitmask,x) == 0 ) ) ) ) goto Label2;\\n\\n        color = GET(bitmask,x) | GET(bitmask,(x+1));\\n\\n        assert( color == 1 || color == 2 );\\n\\n        if( STAR ) {\\n\\n          \\/\\/ 0 0\\n\\n          if( ((color==1)?2:3) == field[y][x] ) {\\n\\n\\n\\n            nbitmask = bitmask;\\n\\n            SET(nbitmask,x,0);\\n\\n            SET(nbitmask,(x+1),0);\\n\\n          if( x == w-1 ) nbitmask = FIX(nbitmask);\\n\\n            update(dp[!phase][nbitmask],dp[phase][bitmask]+1);\\n\\n          }\\n\\n        } else {\\n\\n          \\/\\/ x 0\\n\\n          if( y+1 < h && field[y+1][x] != 1 ) {\\n\\n            nbitmask = bitmask;\\n\\n            SET(nbitmask,x,color);\\n\\n            SET(nbitmask,(x+1),0);\\n\\n          if( x == w-1 ) nbitmask = FIX(nbitmask);\\n\\n\\n\\n\\n\\n            update(dp[!phase][nbitmask],(dp[phase][bitmask]+1));\\n\\n          }\\n\\n          \\n\\n          \\/\\/ 0 x\\n\\n          if( x+1 < w && field[y][x+1] != 1 ) {\\n\\n            nbitmask = bitmask;\\n\\n            SET(nbitmask,x,0);\\n\\n            SET(nbitmask,(x+1),color);\\n\\n\\n\\n          if( x == w-1 ) nbitmask = FIX(nbitmask);\\n\\n            update(dp[!phase][nbitmask],(dp[phase][bitmask]+1));\\n\\n          }\\n\\n        }\\n\\n        continue;\\n\\n      Label2:;\\n\\n        \\/\\/ x x\\n\\n        if( !( GET(bitmask,x) && GET(bitmask,(x+1)) ) ) goto Label3;\\n\\n        if( GET(bitmask,x) != GET(bitmask,(x+1)) ) goto Label3;\\n\\n\\n\\n        color = GET(bitmask,x);\\n\\n        assert( color );\\n\\n        \\/\\/assert( GET(bitmask,x) == GET(bitmask,(x+1)) );\\n\\n        \\n\\n        \\/\\/ 0 0\\n\\n        if( !STAR ) {\\n\\n          nbitmask = bitmask;\\n\\n          SET(nbitmask,x,0);\\n\\n          SET(nbitmask,(x+1),0);\\n\\n          if( x == w-1 ) nbitmask = FIX(nbitmask);\\n\\n          update(dp[!phase][nbitmask],dp[phase][bitmask]+1);\\n\\n        }\\n\\n      Label3:;\\n\\n\\n\\n      }\\n\\n      if( field[y][x] == 2 || field[y][x] == 3 ) initter = false;\\n\\n      rep(i,_size) dp[phase][state[i]] = -1;\\n\\n      if( encounter >= 4 && dp[!phase][0] != -1 ) {\\n\\n        mini = min(mini,dp[!phase][0]);\\n\\n      }\\n\\n      phase = !phase;\\n\\n    }\\n\\n  }\\n\\n\\n\\n  \\/*\\n\\n  puts(\\\"final\\\");\\n\\n  rep(i,_size){\\n\\n    if( dp[phase][state[i]] != -1 ) {\\n\\n      bitset<12> BIT(state[i]);\\n\\n      for(int j=0;j<12;j+=2){\\n\\n        cout << BIT[j] << BIT[j+1] << \\\" \\\";\\n\\n      } \\n\\n      cout << \\\" = \\\" << dp[phase][state[i]] << endl;\\n\\n    }\\n\\n  }\\n\\n  *\\/\\n\\n  if( dp[phase][0] != -1 ) mini = min(mini,dp[phase][0]);\\n\\n  if( mini != IINF ) printf(\\\"%d\\\\n\\\",mini-2);\\n\\n  else puts(\\\"0\\\");\\n\\n}\\n\\n\\n\\nint main(){\\n\\n\\n\\n\\n\\n  while( scanf(\\\"%d %d\\\",&h,&w), h|w ){\\n\\n    rep(i,h) rep(j,w) scanf(\\\"%d\\\",&field[i][j]);\\n\\n    compute();\\n\\n  }\\n\\n  return 0;\\n\\n}\",\"problem_id\":\"p00849\"}\n{\"original_code\":\"#include<bits\\/stdc++.h>\\n\\n\\n\\n#define REP(i,s,n) for(int i=s;i<n;i++)\\n\\n#define rep(i,n) REP(i,0,n)\\n\\n\\n\\nusing namespace std;\\n\\n\\n\\nconst int IINF = INT_MAX;\\n\\nconst int MAX_W = 9;\\n\\ntypedef pair<int,int> ii;\\n\\n\\n\\n\\n\\nint h,w;\\n\\nint field[10][10],indice[10][10];\\n\\nint dp[2][1<<((MAX_W+1)*2)];\\n\\nint dx[] = {1,0,-1,0};\\n\\nint dy[] = {0,1,0,-1};\\n\\n\\n\\ninline bool isValid(int x,int y) { return 0 <= x && x < w && 0 <= y && y < h; }\\n\\n\\n\\n#define SET(bitmask,index,value) ( bitmask = ( ( bitmask & ~(1<<(2*index)) & ~(1<<(2*index+1)) ) | ( value << (index*2) ) ) )\\n\\n#define GET(bitmask,x) ( ( ( bitmask >> ( 2 * x ) ) & 1 ) | ( ( ( bitmask >> (2*x+1) ) & 1) << 1 ) )\\n\\n#define FIX(bitmask) ((bitmask<<2)&((1<<(2*(w+1)))-1))\\n\\n#define STAR ( field[y][x] == 2 || field[y][x] == 3 )\\n\\n#define update(x,v) ( ( x == -1 ) ? ( x = v ) : ( x = min(x,v) ) )\\n\\n\\n\\n\\n\\nvoid compute(){\\n\\n\\n\\n  set<int> S;\\n\\n  vector<int> state;\\n\\n  rep(bitmask,(1<<((w+1)*2))) {\\n\\n    bool success = true;\\n\\n    for(int i=0;i<(w+1)*2;i+=2){\\n\\n      if( ( ( bitmask >> i ) & 1 ) && ( ( bitmask >> (i+1) ) & 1 ) ) { success = false; break; }\\n\\n    }\\n\\n    if( success ) state.push_back(bitmask), S.insert(bitmask);\\n\\n  }\\n\\n  memset(dp,-1,sizeof(dp));\\n\\n\\n\\n  int _size = state.size();\\n\\n  bool initter = true, phase = false;\\n\\n  int mini = IINF;\\n\\n  int encounter = 0;\\n\\n  rep(y,h){\\n\\n    rep(x,w){\\n\\n      \\/*\\n\\n      cout << x << \\\",\\\" << y << endl;\\n\\n      rep(i,_size){\\n\\n        if( dp[phase][state[i]] != -1 ) {\\n\\n          bitset<12> BIT(state[i]);\\n\\n          for(int j=0;j<12;j+=2){\\n\\n            cout << BIT[j] << BIT[j+1] << \\\" \\\";\\n\\n          } \\n\\n          cout << \\\" = \\\" << dp[phase][state[i]] << endl;\\n\\n        }\\n\\n      }\\n\\n      *\\/\\n\\n      if( field[y][x] == 2 || field[y][x] == 3 ) ++encounter;\\n\\n      if( initter ) dp[phase][0] = 0;\\n\\n\\n\\n      rep(i,_size){\\n\\n        int bitmask = state[i];\\n\\n\\n\\n        if( dp[phase][bitmask] == -1 ) continue;\\n\\n        bitset<12> bit(bitmask);\\n\\n\\n\\n\\n\\n        assert( S.count(bitmask));\\n\\n        \\/\\/ ?????????\\n\\n        if( field[y][x] == 1 ) {\\n\\n          int nbitmask = bitmask;\\n\\n          SET(nbitmask,x,0);\\n\\n          if( x == w-1 ) nbitmask = FIX(nbitmask);\\n\\n          update(dp[!phase][nbitmask],dp[phase][bitmask]);\\n\\n          continue;\\n\\n        }\\n\\n\\n\\n        int nbitmask;\\n\\n        \\/\\/ 0 0\\n\\n        if( !( ( GET(bitmask,x) == 0 ) && ( GET(bitmask,(x+1)) == 0 ) ) ) goto Label1;\\n\\n        if( STAR ) {\\n\\n          \\/\\/ x 0\\n\\n          if( y+1 < h && field[y+1][x] != 1 ) {\\n\\n            nbitmask = bitmask;\\n\\n            SET(nbitmask,x,((field[y][x]==3)+1));\\n\\n          if( x == w-1 ) nbitmask = FIX(nbitmask);\\n\\n\\n\\n            update(dp[!phase][nbitmask],dp[phase][bitmask]+1);\\n\\n          }\\n\\n          \\/\\/ 0 x\\n\\n          if( x+1 < w && field[y][x+1] != 1 ) {\\n\\n            nbitmask = bitmask;\\n\\n            SET(nbitmask,(x+1),((field[y][x]==3)+1));\\n\\n\\n\\n          if( x == w-1 ) nbitmask = FIX(nbitmask);\\n\\n\\n\\n          update(dp[!phase][nbitmask],dp[phase][bitmask]+1);\\n\\n          }\\n\\n        } else {\\n\\n          \\/\\/ x x\\n\\n          if( x+1 < w && y+1 < h && field[y][x+1] != 1 && field[y+1][x] != 1 ) {\\n\\n            REP(color,1,3){\\n\\n              nbitmask = bitmask;\\n\\n              SET(nbitmask,x,color);\\n\\n              SET(nbitmask,(x+1),color);\\n\\n              if( x == w-1 ) nbitmask = FIX(nbitmask);\\n\\n              update(dp[!phase][nbitmask],(dp[phase][bitmask]+1));\\n\\n            }\\n\\n          }\\n\\n          \\/\\/ 0 0\\n\\n          nbitmask = bitmask;\\n\\n          SET(nbitmask,x,0);\\n\\n          SET(nbitmask,(x+1),0);\\n\\n          if( x == w-1 ) nbitmask = FIX(nbitmask);\\n\\n          update(dp[!phase][nbitmask],dp[phase][bitmask]);\\n\\n        }\\n\\n\\n\\n        continue;\\n\\n      Label1:;\\n\\n        \\/\\/ x 0\\n\\n        \\/\\/ 0 x\\n\\n        int color;\\n\\n        if( !( ( GET(bitmask,x) && ( GET(bitmask,(x+1)) == 0 ) ) || ( GET(bitmask,(x+1)) && ( GET(bitmask,x) == 0 ) ) ) ) goto Label2;\\n\\n        color = GET(bitmask,x) | GET(bitmask,(x+1));\\n\\n        assert( color == 1 || color == 2 );\\n\\n        if( STAR ) {\\n\\n          \\/\\/ 0 0\\n\\n          if( ((color==1)?2:3) == field[y][x] ) {\\n\\n\\n\\n            nbitmask = bitmask;\\n\\n            SET(nbitmask,x,0);\\n\\n            SET(nbitmask,(x+1),0);\\n\\n          if( x == w-1 ) nbitmask = FIX(nbitmask);\\n\\n            update(dp[!phase][nbitmask],dp[phase][bitmask]+1);\\n\\n          }\\n\\n        } else {\\n\\n          \\/\\/ x 0\\n\\n          if( y+1 < h && field[y+1][x] != 1 ) {\\n\\n            nbitmask = bitmask;\\n\\n            SET(nbitmask,x,color);\\n\\n            SET(nbitmask,(x+1),0);\\n\\n          if( x == w-1 ) nbitmask = FIX(nbitmask);\\n\\n\\n\\n\\n\\n            update(dp[!phase][nbitmask],(dp[phase][bitmask]+1));\\n\\n          }\\n\\n          \\n\\n          \\/\\/ 0 x\\n\\n          if( x+1 < w && field[y][x+1] != 1 ) {\\n\\n            nbitmask = bitmask;\\n\\n            SET(nbitmask,x,0);\\n\\n            SET(nbitmask,(x+1),color);\\n\\n\\n\\n          if( x == w-1 ) nbitmask = FIX(nbitmask);\\n\\n            update(dp[!phase][nbitmask],(dp[phase][bitmask]+1));\\n\\n          }\\n\\n        }\\n\\n        continue;\\n\\n      Label2:;\\n\\n        \\/\\/ x x\\n\\n        if( !( GET(bitmask,x) && GET(bitmask,(x+1)) ) ) goto Label3;\\n\\n        if( GET(bitmask,x) != GET(bitmask,(x+1)) ) goto Label3;\\n\\n\\n\\n        color = GET(bitmask,x);\\n\\n        assert( color );\\n\\n        \\/\\/assert( GET(bitmask,x) == GET(bitmask,(x+1)) );\\n\\n        \\n\\n        \\/\\/ 0 0\\n\\n        if( !STAR ) {\\n\\n          nbitmask = bitmask;\\n\\n          SET(nbitmask,x,0);\\n\\n          SET(nbitmask,(x+1),0);\\n\\n          if( x == w-1 ) nbitmask = FIX(nbitmask);\\n\\n          update(dp[!phase][nbitmask],dp[phase][bitmask]+1);\\n\\n        }\\n\\n      Label3:;\\n\\n\\n\\n      }\\n\\n      if( field[y][x] == 2 || field[y][x] == 3 ) initter = false;\\n\\n      rep(i,_size) dp[phase][state[i]] = -1;\\n\\n      if( encounter >= 4 && dp[!phase][0] != -1 ) {\\n\\n        mini = min(mini,dp[!phase][0]);\\n\\n      }\\n\\n      phase = !phase;\\n\\n    }\\n\\n  }\\n\\n\\n\\n  \\/*\\n\\n  puts(\\\"final\\\");\\n\\n  rep(i,_size){\\n\\n    if( dp[phase][state[i]] != -1 ) {\\n\\n      bitset<12> BIT(state[i]);\\n\\n      for(int j=0;j<12;j+=2){\\n\\n        cout << BIT[j] << BIT[j+1] << \\\" \\\";\\n\\n      } \\n\\n      cout << \\\" = \\\" << dp[phase][state[i]] << endl;\\n\\n    }\\n\\n  }\\n\\n  *\\/\\n\\n  if( dp[phase][0] != -1 ) mini = min(mini,dp[phase][0]);\\n\\n  if( mini != IINF ) printf(\\\"%d\\\\n\\\",mini-2);\\n\\n  else puts(\\\"0\\\");\\n\\n}\\n\\n\\n\\nint main(){\\n\\n\\n\\n\\n\\n  while( scanf(\\\"%d %d\\\",&h,&w), h|w ){\\n\\n    rep(i,h) rep(j,w) scanf(\\\"%d\\\",&field[i][j]);\\n\\n    compute();\\n\\n  }\\n\\n  return 0;\\n\\n}\",\"improved_code\":\"#include<bits\\/stdc++.h>\\n\\n\\n\\n#define REP(i,s,n) for(int i=s;i<n;i++)\\n\\n#define rep(i,n) REP(i,0,n)\\n\\n\\n\\nusing namespace std;\\n\\n\\n\\nconst int IINF = INT_MAX;\\n\\nconst int MAX_W = 9;\\n\\ntypedef pair<int,int> ii;\\n\\n\\n\\n\\n\\nint h,w;\\n\\nint field[10][10],indice[10][10];\\n\\nint dp[2][1<<((MAX_W+1)*2)];\\n\\nint dx[] = {1,0,-1,0};\\n\\nint dy[] = {0,1,0,-1};\\n\\n\\n\\ninline bool isValid(int x,int y) { return 0 <= x && x < w && 0 <= y && y < h; }\\n\\n\\n\\n#define SET(bitmask,index,value) ( bitmask = ( ( bitmask & ~(1<<(2*index)) & ~(1<<(2*index+1)) ) | ( value << (index*2) ) ) )\\n\\n#define GET(bitmask,x) ( ( ( bitmask >> ( 2 * x ) ) & 1 ) | ( ( ( bitmask >> (2*x+1) ) & 1) << 1 ) )\\n\\n#define FIX(bitmask) ((bitmask<<2)&((1<<(2*(w+1)))-1))\\n\\n#define STAR ( field[y][x] == 2 || field[y][x] == 3 )\\n\\n#define update(x,v) ( ( x == -1 ) ? ( x = v ) : ( x = min(x,v) ) )\\n\\n\\n\\n\\n\\nvoid compute(){\\n\\n\\n\\n  vector<int> state;\\n\\n  rep(bitmask,(1<<((w+1)*2))) {\\n\\n    bool success = true;\\n\\n    for(int i=0;i<(w+1)*2;i+=2) if( ( ( bitmask >> i ) & 1 ) && ( ( bitmask >> (i+1) ) & 1 ) ) { success = false; break; }\\n\\n    if( success ) state.push_back(bitmask);\\n\\n  }\\n\\n  memset(dp,-1,sizeof(dp));\\n\\n\\n\\n  int _size = state.size();\\n\\n  bool initter = true, phase = false;\\n\\n  int mini = IINF;\\n\\n  int encounter = 0;\\n\\n  rep(y,h){\\n\\n    rep(x,w){\\n\\n\\n\\n      if( field[y][x] == 2 || field[y][x] == 3 ) ++encounter;\\n\\n      if( initter ) dp[phase][0] = 0;\\n\\n\\n\\n      rep(i,_size){\\n\\n        int bitmask = state[i];\\n\\n\\n\\n        if( dp[phase][bitmask] == -1 ) continue;\\n\\n\\n\\n        \\/\\/ ?????????\\n\\n        if( field[y][x] == 1 ) {\\n\\n          int nbitmask = bitmask;\\n\\n          SET(nbitmask,x,0);\\n\\n          if( x == w-1 ) nbitmask = FIX(nbitmask);\\n\\n          update(dp[!phase][nbitmask],dp[phase][bitmask]);\\n\\n          continue;\\n\\n        }\\n\\n\\n\\n        int nbitmask;\\n\\n        \\/\\/ 0 0\\n\\n        if( !( ( GET(bitmask,x) == 0 ) && ( GET(bitmask,(x+1)) == 0 ) ) ) goto Label1;\\n\\n        if( STAR ) {\\n\\n          \\/\\/ x 0\\n\\n          if( y+1 < h && field[y+1][x] != 1 ) {\\n\\n            nbitmask = bitmask;\\n\\n            SET(nbitmask,x,((field[y][x]==3)+1));\\n\\n            if( x == w-1 ) nbitmask = FIX(nbitmask);\\n\\n          \\n\\n            update(dp[!phase][nbitmask],dp[phase][bitmask]+1);\\n\\n          }\\n\\n          \\/\\/ 0 x\\n\\n          if( x+1 < w && field[y][x+1] != 1 ) {\\n\\n            nbitmask = bitmask;\\n\\n            SET(nbitmask,(x+1),((field[y][x]==3)+1));\\n\\n\\n\\n            if( x == w-1 ) nbitmask = FIX(nbitmask);\\n\\n\\n\\n            update(dp[!phase][nbitmask],dp[phase][bitmask]+1);\\n\\n          }\\n\\n        } else {\\n\\n          \\/\\/ x x\\n\\n          if( x+1 < w && y+1 < h && field[y][x+1] != 1 && field[y+1][x] != 1 ) {\\n\\n            REP(color,1,3){\\n\\n              nbitmask = bitmask;\\n\\n              SET(nbitmask,x,color);\\n\\n              SET(nbitmask,(x+1),color);\\n\\n              if( x == w-1 ) nbitmask = FIX(nbitmask);\\n\\n              update(dp[!phase][nbitmask],(dp[phase][bitmask]+1));\\n\\n            }\\n\\n          }\\n\\n          \\/\\/ 0 0\\n\\n          nbitmask = bitmask;\\n\\n          SET(nbitmask,x,0);\\n\\n          SET(nbitmask,(x+1),0);\\n\\n          if( x == w-1 ) nbitmask = FIX(nbitmask);\\n\\n          update(dp[!phase][nbitmask],dp[phase][bitmask]);\\n\\n        }\\n\\n\\n\\n        continue;\\n\\n      Label1:;\\n\\n        \\/\\/ x 0\\n\\n        \\/\\/ 0 x\\n\\n        int color;\\n\\n        if( !( ( GET(bitmask,x) && ( GET(bitmask,(x+1)) == 0 ) ) || ( GET(bitmask,(x+1)) && ( GET(bitmask,x) == 0 ) ) ) ) goto Label2;\\n\\n        color = GET(bitmask,x) | GET(bitmask,(x+1));\\n\\n        if( STAR ) {\\n\\n          \\/\\/ 0 0\\n\\n          if( ((color==1)?2:3) == field[y][x] ) {\\n\\n            nbitmask = bitmask;\\n\\n            SET(nbitmask,x,0);\\n\\n            SET(nbitmask,(x+1),0);\\n\\n            if( x == w-1 ) nbitmask = FIX(nbitmask);\\n\\n            update(dp[!phase][nbitmask],dp[phase][bitmask]+1);\\n\\n          }\\n\\n        } else {\\n\\n          \\/\\/ x 0\\n\\n          if( y+1 < h && field[y+1][x] != 1 ) {\\n\\n            nbitmask = bitmask;\\n\\n            SET(nbitmask,x,color);\\n\\n            SET(nbitmask,(x+1),0);\\n\\n            if( x == w-1 ) nbitmask = FIX(nbitmask);\\n\\n\\n\\n\\n\\n            update(dp[!phase][nbitmask],(dp[phase][bitmask]+1));\\n\\n          }\\n\\n          \\n\\n          \\/\\/ 0 x\\n\\n          if( x+1 < w && field[y][x+1] != 1 ) {\\n\\n            nbitmask = bitmask;\\n\\n            SET(nbitmask,x,0);\\n\\n            SET(nbitmask,(x+1),color);\\n\\n\\n\\n            if( x == w-1 ) nbitmask = FIX(nbitmask);\\n\\n            update(dp[!phase][nbitmask],(dp[phase][bitmask]+1));\\n\\n          }\\n\\n        }\\n\\n        continue;\\n\\n      Label2:;\\n\\n        \\/\\/ x x\\n\\n        if( !( GET(bitmask,x) && GET(bitmask,(x+1)) ) ) goto Label3;\\n\\n        if( GET(bitmask,x) != GET(bitmask,(x+1)) ) goto Label3;\\n\\n\\n\\n        color = GET(bitmask,x);\\n\\n        \\n\\n        \\/\\/ 0 0\\n\\n        if( !STAR ) {\\n\\n          nbitmask = bitmask;\\n\\n          SET(nbitmask,x,0);\\n\\n          SET(nbitmask,(x+1),0);\\n\\n          if( x == w-1 ) nbitmask = FIX(nbitmask);\\n\\n          update(dp[!phase][nbitmask],dp[phase][bitmask]+1);\\n\\n        }\\n\\n      Label3:;\\n\\n\\n\\n      }\\n\\n      if( field[y][x] == 2 || field[y][x] == 3 ) initter = false;\\n\\n      rep(i,_size) dp[phase][state[i]] = -1;\\n\\n      if( encounter >= 4 && dp[!phase][0] != -1 ) {\\n\\n        mini = min(mini,dp[!phase][0]);\\n\\n      }\\n\\n      phase = !phase;\\n\\n    }\\n\\n  }\\n\\n  if( dp[phase][0] != -1 ) mini = min(mini,dp[phase][0]);\\n\\n  if( mini != IINF ) printf(\\\"%d\\\\n\\\",mini-2);\\n\\n  else puts(\\\"0\\\");\\n\\n}\\n\\n\\n\\nint main(){\\n\\n  while( scanf(\\\"%d %d\\\",&h,&w), h|w ){\\n\\n    rep(i,h) rep(j,w) scanf(\\\"%d\\\",&field[i][j]);\\n\\n    compute();\\n\\n  }\\n\\n  return 0;\\n\\n}\",\"problem_id\":\"p00849\"}\n{\"original_code\":\"#include<bits\\/stdc++.h>\\n\\n\\n\\n#define REP(i,s,n) for(int i=s;i<n;i++)\\n\\n#define rep(i,n) REP(i,0,n)\\n\\n\\n\\nusing namespace std;\\n\\n\\n\\nconst int IINF = INT_MAX;\\n\\nconst int MAX_W = 9;\\n\\ntypedef pair<int,int> ii;\\n\\n\\n\\n\\n\\nint h,w;\\n\\nint field[10][10],indice[10][10];\\n\\nint dp[2][1<<((MAX_W+1)*2)];\\n\\nint dx[] = {1,0,-1,0};\\n\\nint dy[] = {0,1,0,-1};\\n\\n\\n\\ninline bool isValid(int x,int y) { return 0 <= x && x < w && 0 <= y && y < h; }\\n\\n\\n\\n#define SET(bitmask,index,value) ( bitmask = ( ( bitmask & ~(1<<(2*index)) & ~(1<<(2*index+1)) ) | ( value << (index*2) ) ) )\\n\\n#define GET(bitmask,x) ( ( ( bitmask >> ( 2 * x ) ) & 1 ) | ( ( ( bitmask >> (2*x+1) ) & 1) << 1 ) )\\n\\n#define FIX(bitmask) ((bitmask<<2)&((1<<(2*(w+1)))-1))\\n\\n#define STAR ( field[y][x] == 2 || field[y][x] == 3 )\\n\\n#define update(x,v) ( ( x == -1 ) ? ( x = v ) : ( x = min(x,v) ) )\\n\\n\\n\\n\\n\\nvoid compute(){\\n\\n\\n\\n  vector<int> state;\\n\\n  rep(bitmask,(1<<((w+1)*2))) {\\n\\n    bool success = true;\\n\\n    for(int i=0;i<(w+1)*2;i+=2) if( ( ( bitmask >> i ) & 1 ) && ( ( bitmask >> (i+1) ) & 1 ) ) { success = false; break; }\\n\\n    if( success ) state.push_back(bitmask);\\n\\n  }\\n\\n  memset(dp,-1,sizeof(dp));\\n\\n\\n\\n  int _size = state.size();\\n\\n  bool initter = true, phase = false;\\n\\n  int mini = IINF;\\n\\n  int encounter = 0;\\n\\n  rep(y,h){\\n\\n    rep(x,w){\\n\\n\\n\\n      if( field[y][x] == 2 || field[y][x] == 3 ) ++encounter;\\n\\n      if( initter ) dp[phase][0] = 0;\\n\\n\\n\\n      rep(i,_size){\\n\\n        int bitmask = state[i];\\n\\n\\n\\n        if( dp[phase][bitmask] == -1 ) continue;\\n\\n\\n\\n        \\/\\/ ?????????\\n\\n        if( field[y][x] == 1 ) {\\n\\n          int nbitmask = bitmask;\\n\\n          SET(nbitmask,x,0);\\n\\n          if( x == w-1 ) nbitmask = FIX(nbitmask);\\n\\n          update(dp[!phase][nbitmask],dp[phase][bitmask]);\\n\\n          continue;\\n\\n        }\\n\\n\\n\\n        int nbitmask;\\n\\n        \\/\\/ 0 0\\n\\n        if( !( ( GET(bitmask,x) == 0 ) && ( GET(bitmask,(x+1)) == 0 ) ) ) goto Label1;\\n\\n        if( STAR ) {\\n\\n          \\/\\/ x 0\\n\\n          if( y+1 < h && field[y+1][x] != 1 ) {\\n\\n            nbitmask = bitmask;\\n\\n            SET(nbitmask,x,((field[y][x]==3)+1));\\n\\n            if( x == w-1 ) nbitmask = FIX(nbitmask);\\n\\n          \\n\\n            update(dp[!phase][nbitmask],dp[phase][bitmask]+1);\\n\\n          }\\n\\n          \\/\\/ 0 x\\n\\n          if( x+1 < w && field[y][x+1] != 1 ) {\\n\\n            nbitmask = bitmask;\\n\\n            SET(nbitmask,(x+1),((field[y][x]==3)+1));\\n\\n\\n\\n            if( x == w-1 ) nbitmask = FIX(nbitmask);\\n\\n\\n\\n            update(dp[!phase][nbitmask],dp[phase][bitmask]+1);\\n\\n          }\\n\\n        } else {\\n\\n          \\/\\/ x x\\n\\n          if( x+1 < w && y+1 < h && field[y][x+1] != 1 && field[y+1][x] != 1 ) {\\n\\n            REP(color,1,3){\\n\\n              nbitmask = bitmask;\\n\\n              SET(nbitmask,x,color);\\n\\n              SET(nbitmask,(x+1),color);\\n\\n              if( x == w-1 ) nbitmask = FIX(nbitmask);\\n\\n              update(dp[!phase][nbitmask],(dp[phase][bitmask]+1));\\n\\n            }\\n\\n          }\\n\\n          \\/\\/ 0 0\\n\\n          nbitmask = bitmask;\\n\\n          SET(nbitmask,x,0);\\n\\n          SET(nbitmask,(x+1),0);\\n\\n          if( x == w-1 ) nbitmask = FIX(nbitmask);\\n\\n          update(dp[!phase][nbitmask],dp[phase][bitmask]);\\n\\n        }\\n\\n\\n\\n        continue;\\n\\n      Label1:;\\n\\n        \\/\\/ x 0\\n\\n        \\/\\/ 0 x\\n\\n        int color;\\n\\n        if( !( ( GET(bitmask,x) && ( GET(bitmask,(x+1)) == 0 ) ) || ( GET(bitmask,(x+1)) && ( GET(bitmask,x) == 0 ) ) ) ) goto Label2;\\n\\n        color = GET(bitmask,x) | GET(bitmask,(x+1));\\n\\n        if( STAR ) {\\n\\n          \\/\\/ 0 0\\n\\n          if( ((color==1)?2:3) == field[y][x] ) {\\n\\n            nbitmask = bitmask;\\n\\n            SET(nbitmask,x,0);\\n\\n            SET(nbitmask,(x+1),0);\\n\\n            if( x == w-1 ) nbitmask = FIX(nbitmask);\\n\\n            update(dp[!phase][nbitmask],dp[phase][bitmask]+1);\\n\\n          }\\n\\n        } else {\\n\\n          \\/\\/ x 0\\n\\n          if( y+1 < h && field[y+1][x] != 1 ) {\\n\\n            nbitmask = bitmask;\\n\\n            SET(nbitmask,x,color);\\n\\n            SET(nbitmask,(x+1),0);\\n\\n            if( x == w-1 ) nbitmask = FIX(nbitmask);\\n\\n\\n\\n\\n\\n            update(dp[!phase][nbitmask],(dp[phase][bitmask]+1));\\n\\n          }\\n\\n          \\n\\n          \\/\\/ 0 x\\n\\n          if( x+1 < w && field[y][x+1] != 1 ) {\\n\\n            nbitmask = bitmask;\\n\\n            SET(nbitmask,x,0);\\n\\n            SET(nbitmask,(x+1),color);\\n\\n\\n\\n            if( x == w-1 ) nbitmask = FIX(nbitmask);\\n\\n            update(dp[!phase][nbitmask],(dp[phase][bitmask]+1));\\n\\n          }\\n\\n        }\\n\\n        continue;\\n\\n      Label2:;\\n\\n        \\/\\/ x x\\n\\n        if( !( GET(bitmask,x) && GET(bitmask,(x+1)) ) ) goto Label3;\\n\\n        if( GET(bitmask,x) != GET(bitmask,(x+1)) ) goto Label3;\\n\\n\\n\\n        color = GET(bitmask,x);\\n\\n        \\n\\n        \\/\\/ 0 0\\n\\n        if( !STAR ) {\\n\\n          nbitmask = bitmask;\\n\\n          SET(nbitmask,x,0);\\n\\n          SET(nbitmask,(x+1),0);\\n\\n          if( x == w-1 ) nbitmask = FIX(nbitmask);\\n\\n          update(dp[!phase][nbitmask],dp[phase][bitmask]+1);\\n\\n        }\\n\\n      Label3:;\\n\\n\\n\\n      }\\n\\n      if( field[y][x] == 2 || field[y][x] == 3 ) initter = false;\\n\\n      rep(i,_size) dp[phase][state[i]] = -1;\\n\\n      if( encounter >= 4 && dp[!phase][0] != -1 ) {\\n\\n        mini = min(mini,dp[!phase][0]);\\n\\n      }\\n\\n      phase = !phase;\\n\\n    }\\n\\n  }\\n\\n  if( dp[phase][0] != -1 ) mini = min(mini,dp[phase][0]);\\n\\n  if( mini != IINF ) printf(\\\"%d\\\\n\\\",mini-2);\\n\\n  else puts(\\\"0\\\");\\n\\n}\\n\\n\\n\\nint main(){\\n\\n  while( scanf(\\\"%d %d\\\",&h,&w), h|w ){\\n\\n    rep(i,h) rep(j,w) scanf(\\\"%d\\\",&field[i][j]);\\n\\n    compute();\\n\\n  }\\n\\n  return 0;\\n\\n}\",\"improved_code\":\"#include<bits\\/stdc++.h>\\n\\n\\n\\n#define REP(i,s,n) for(int i=s;i<n;i++)\\n\\n#define rep(i,n) REP(i,0,n)\\n\\n\\n\\nusing namespace std;\\n\\n\\n\\nconst int IINF = INT_MAX;\\n\\nconst int MAX_W = 9;\\n\\ntypedef pair<int,int> ii;\\n\\n\\n\\n\\n\\nint h,w;\\n\\nint field[10][10],indice[10][10];\\n\\nint dp[2][1<<((MAX_W+1)*2)];\\n\\nint dx[] = {1,0,-1,0};\\n\\nint dy[] = {0,1,0,-1};\\n\\n\\n\\ninline bool isValid(int x,int y) { return 0 <= x && x < w && 0 <= y && y < h; }\\n\\n\\n\\n#define SET(bitmask,index,value) ( bitmask = ( ( bitmask & ~(1<<(2*index)) & ~(1<<(2*index+1)) ) | ( value << (index*2) ) ) )\\n\\n#define GET(bitmask,x) ( ( ( bitmask >> ( 2 * x ) ) & 1 ) | ( ( ( bitmask >> (2*x+1) ) & 1) << 1 ) )\\n\\n#define FIX(bitmask) ((bitmask<<2)&((1<<(2*(w+1)))-1))\\n\\n#define STAR ( field[y][x] == 2 || field[y][x] == 3 )\\n\\n#define update(x,v) ( ( x == -1 ) ? ( x = v ) : ( x = min(x,v) ) )\\n\\n\\n\\n\\n\\nvoid compute(){\\n\\n\\n\\n  vector<int> state;\\n\\n  rep(bitmask,(1<<((w+1)*2))) {\\n\\n    bool success = true;\\n\\n    for(int i=0;i<(w+1)*2;i+=2) if( ( ( bitmask >> i ) & 1 ) && ( ( bitmask >> (i+1) ) & 1 ) ) { success = false; break; }\\n\\n    if( success ) state.push_back(bitmask);\\n\\n  }\\n\\n  memset(dp,-1,sizeof(dp));\\n\\n\\n\\n  int _size = state.size();\\n\\n  bool initter = true, phase = false;\\n\\n  int mini = IINF;\\n\\n  int encounter = 0;\\n\\n  rep(y,h){\\n\\n    rep(x,w){\\n\\n\\n\\n      if( field[y][x] == 2 || field[y][x] == 3 ) ++encounter;\\n\\n      if( initter ) dp[phase][0] = 0;\\n\\n\\n\\n      rep(i,_size){\\n\\n        int bitmask = state[i];\\n\\n\\n\\n        if( dp[phase][bitmask] == -1 ) continue;\\n\\n        if( dp[phase][bitmask] >= mini ) continue;\\n\\n\\n\\n        \\/\\/ ?????????\\n\\n        if( field[y][x] == 1 ) {\\n\\n          int nbitmask = bitmask;\\n\\n          SET(nbitmask,x,0);\\n\\n          if( x == w-1 ) nbitmask = FIX(nbitmask);\\n\\n          update(dp[!phase][nbitmask],dp[phase][bitmask]);\\n\\n          continue;\\n\\n        }\\n\\n\\n\\n        int nbitmask;\\n\\n        \\/\\/ 0 0\\n\\n        if( !( ( GET(bitmask,x) == 0 ) && ( GET(bitmask,(x+1)) == 0 ) ) ) goto Label1;\\n\\n        if( STAR ) {\\n\\n          \\/\\/ x 0\\n\\n          if( y+1 < h && field[y+1][x] != 1 ) {\\n\\n            nbitmask = bitmask;\\n\\n            SET(nbitmask,x,((field[y][x]==3)+1));\\n\\n            if( x == w-1 ) nbitmask = FIX(nbitmask);\\n\\n          \\n\\n            update(dp[!phase][nbitmask],dp[phase][bitmask]+1);\\n\\n          }\\n\\n          \\/\\/ 0 x\\n\\n          if( x+1 < w && field[y][x+1] != 1 ) {\\n\\n            nbitmask = bitmask;\\n\\n            SET(nbitmask,(x+1),((field[y][x]==3)+1));\\n\\n\\n\\n            if( x == w-1 ) nbitmask = FIX(nbitmask);\\n\\n\\n\\n            update(dp[!phase][nbitmask],dp[phase][bitmask]+1);\\n\\n          }\\n\\n        } else {\\n\\n          \\/\\/ x x\\n\\n          if( x+1 < w && y+1 < h && field[y][x+1] != 1 && field[y+1][x] != 1 ) {\\n\\n            REP(color,1,3){\\n\\n              nbitmask = bitmask;\\n\\n              SET(nbitmask,x,color);\\n\\n              SET(nbitmask,(x+1),color);\\n\\n              if( x == w-1 ) nbitmask = FIX(nbitmask);\\n\\n              update(dp[!phase][nbitmask],(dp[phase][bitmask]+1));\\n\\n            }\\n\\n          }\\n\\n          \\/\\/ 0 0\\n\\n          nbitmask = bitmask;\\n\\n          SET(nbitmask,x,0);\\n\\n          SET(nbitmask,(x+1),0);\\n\\n          if( x == w-1 ) nbitmask = FIX(nbitmask);\\n\\n          update(dp[!phase][nbitmask],dp[phase][bitmask]);\\n\\n        }\\n\\n\\n\\n        continue;\\n\\n      Label1:;\\n\\n        \\/\\/ x 0\\n\\n        \\/\\/ 0 x\\n\\n        int color;\\n\\n        if( !( ( GET(bitmask,x) && ( GET(bitmask,(x+1)) == 0 ) ) || ( GET(bitmask,(x+1)) && ( GET(bitmask,x) == 0 ) ) ) ) goto Label2;\\n\\n        color = GET(bitmask,x) | GET(bitmask,(x+1));\\n\\n        if( STAR ) {\\n\\n          \\/\\/ 0 0\\n\\n          if( ((color==1)?2:3) == field[y][x] ) {\\n\\n            nbitmask = bitmask;\\n\\n            SET(nbitmask,x,0);\\n\\n            SET(nbitmask,(x+1),0);\\n\\n            if( x == w-1 ) nbitmask = FIX(nbitmask);\\n\\n            update(dp[!phase][nbitmask],dp[phase][bitmask]+1);\\n\\n          }\\n\\n        } else {\\n\\n          \\/\\/ x 0\\n\\n          if( y+1 < h && field[y+1][x] != 1 ) {\\n\\n            nbitmask = bitmask;\\n\\n            SET(nbitmask,x,color);\\n\\n            SET(nbitmask,(x+1),0);\\n\\n            if( x == w-1 ) nbitmask = FIX(nbitmask);\\n\\n\\n\\n\\n\\n            update(dp[!phase][nbitmask],(dp[phase][bitmask]+1));\\n\\n          }\\n\\n          \\n\\n          \\/\\/ 0 x\\n\\n          if( x+1 < w && field[y][x+1] != 1 ) {\\n\\n            nbitmask = bitmask;\\n\\n            SET(nbitmask,x,0);\\n\\n            SET(nbitmask,(x+1),color);\\n\\n\\n\\n            if( x == w-1 ) nbitmask = FIX(nbitmask);\\n\\n            update(dp[!phase][nbitmask],(dp[phase][bitmask]+1));\\n\\n          }\\n\\n        }\\n\\n        continue;\\n\\n      Label2:;\\n\\n        \\/\\/ x x\\n\\n        if( !( GET(bitmask,x) && GET(bitmask,(x+1)) ) ) goto Label3;\\n\\n        if( GET(bitmask,x) != GET(bitmask,(x+1)) ) goto Label3;\\n\\n\\n\\n        color = GET(bitmask,x);\\n\\n        \\n\\n        \\/\\/ 0 0\\n\\n        if( !STAR ) {\\n\\n          nbitmask = bitmask;\\n\\n          SET(nbitmask,x,0);\\n\\n          SET(nbitmask,(x+1),0);\\n\\n          if( x == w-1 ) nbitmask = FIX(nbitmask);\\n\\n          update(dp[!phase][nbitmask],dp[phase][bitmask]+1);\\n\\n        }\\n\\n      Label3:;\\n\\n\\n\\n      }\\n\\n      if( field[y][x] == 2 || field[y][x] == 3 ) initter = false;\\n\\n      rep(i,_size) dp[phase][state[i]] = -1;\\n\\n      if( encounter >= 4 && dp[!phase][0] != -1 ) {\\n\\n        mini = min(mini,dp[!phase][0]);\\n\\n      }\\n\\n      phase = !phase;\\n\\n    }\\n\\n  }\\n\\n  if( dp[phase][0] != -1 ) mini = min(mini,dp[phase][0]);\\n\\n  if( mini != IINF ) printf(\\\"%d\\\\n\\\",mini-2);\\n\\n  else puts(\\\"0\\\");\\n\\n}\\n\\n\\n\\nint main(){\\n\\n  while( scanf(\\\"%d %d\\\",&h,&w), h|w ){\\n\\n    rep(i,h) rep(j,w) scanf(\\\"%d\\\",&field[i][j]);\\n\\n    compute();\\n\\n  }\\n\\n  return 0;\\n\\n}\",\"problem_id\":\"p00849\"}\n{\"original_code\":\"#include<iostream>\\n\\n#include<algorithm>\\n\\nusing namespace std;\\n\\n#define REP(i,b,n) for(int i=b;i<n;i++)\\n\\n#define rep(i,n)   REP(i,0,n)\\n\\n\\n\\nconst int N = 9;\\n\\nconst int inf = (1 <<21);\\n\\n\\n\\nint dx[]={0,1, 0,-1};\\n\\nint dy[]={1,0,-1,0};\\n\\nint op[]={2,3, 0,1};\\n\\nint m[N][N];\\n\\nbool vis2[N][N];\\n\\n\\n\\nbool isok(int r,int c,int y,int x,int last){\\n\\n  rep(i,4){\\n\\n    if (op[i] == last)continue;\\n\\n    int nex=x+dx[i],ney=y+dy[i];\\n\\n    if (nex==-1||ney==-1||nex==c||ney==r)continue;\\n\\n    if (vis2[ney][nex])return false;\\n\\n  }\\n\\n  return true;\\n\\n}\\n\\n\\n\\nvoid output(int r,int c){\\n\\n  cout << \\\"begin\\\"<<endl;\\n\\n  rep(i,r){\\n\\n    rep(j,c){\\n\\n      if (vis2[i][j])cout << 2;\\n\\n      else cout << '0';\\n\\n    }\\n\\n    cout << endl;\\n\\n  }\\n\\n  cout <<endl;\\n\\n}\\n\\n\\n\\n\\n\\nint ans;\\n\\nbool isgoal;\\n\\nint md;\\n\\nbool bfs(int r,int c,int cnt,bool goal2){\\n\\n  static int q[N*N];\\n\\n  static int cost[N][N];\\n\\n  int sy3=-1,sx3=-1,gy3=-1,gx3=-1;\\n\\n  rep(i,r){\\n\\n    rep(j,c){\\n\\n      if (m[i][j] == 3){\\n\\n\\tif (sy3==-1)sy3=i,sx3=j;\\n\\n\\telse gy3=i,gx3=j;\\n\\n      }\\n\\n      cost[i][j]=inf;\\n\\n    }\\n\\n  }\\n\\n  int tail=0,head=0;\\n\\n  q[tail++]=sx3+sy3*c;\\n\\n  cost[sy3][sx3]=0;\\n\\n  while(head != tail){\\n\\n    int now = q[head++];\\n\\n    int x = now%c,y=now\\/c;\\n\\n    if (cnt+cost[y][x] >= ans)return false;\\n\\n    if (x == gx3 && y == gy3){\\n\\n      if (goal2)return true;\\n\\n      isgoal=true;\\n\\n      ans =min(ans,cnt+cost[y][x]);\\n\\n      return true;\\n\\n    }\\n\\n    rep(i,4){\\n\\n      int nex=x+dx[i],ney=y+dy[i];\\n\\n      if (nex==-1||ney==-1||nex==c||ney==r||vis2[ney][nex])continue;\\n\\n      if (m[ney][nex]==1||m[ney][nex] == 2)continue;\\n\\n      if (cost[ney][nex] != inf)continue;\\n\\n      cost[ney][nex]=cost[y][x]+1;\\n\\n      q[tail++]=ney*c+nex;\\n\\n    }\\n\\n  }\\n\\n  return false;\\n\\n}\\n\\n\\n\\nbool bfs2(int r,int c,int cnt,int sy,int sx){\\n\\n  static int q[N*N];\\n\\n  static int cost[N][N];\\n\\n  int sy3=-1,sx3=-1,gy3=-1,gx3=-1;\\n\\n  rep(i,r){\\n\\n    rep(j,c){\\n\\n      if (m[i][j] == 2){\\n\\n\\tif (sy3==-1)sy3=i,sx3=j;\\n\\n\\telse gy3=i,gx3=j;\\n\\n      }\\n\\n      cost[i][j]=inf;\\n\\n    }\\n\\n  }\\n\\n  int tail=0,head=0;\\n\\n  q[tail++]=sx+sy*c;\\n\\n  cost[sy][sx]=0;\\n\\n  while(head != tail){\\n\\n    int now = q[head++];\\n\\n    int x = now%c,y=now\\/c;\\n\\n    if (cnt+cost[y][x] >= ans)return false;\\n\\n    if (x == gx3 && y == gy3){\\n\\n      return true;\\n\\n    }\\n\\n    rep(i,4){\\n\\n      int nex=x+dx[i],ney=y+dy[i];\\n\\n      if (nex==-1||ney==-1||nex==c||ney==r||vis2[ney][nex])continue;\\n\\n      if (m[ney][nex]==1||m[ney][nex] == 3)continue;\\n\\n      if (cost[ney][nex] != inf)continue;\\n\\n      cost[ney][nex]=cost[y][x]+1;\\n\\n      q[tail++]=ney*c+nex;\\n\\n    }\\n\\n  }\\n\\n  return false;\\n\\n}\\n\\n\\n\\n\\n\\nint path[N*N];\\n\\nint pattern[8][5]={\\n\\n  {2,1,1,0,0,},\\n\\n  {1,0,0,3,3,},\\n\\n  {0,3,3,2,2,},\\n\\n  {3,2,2,1,1,},\\n\\n  {2,3,3,0,0,},\\n\\n  {1,2,2,3,3,},\\n\\n  {0,1,1,2,2,},\\n\\n  {3,0,0,1,1,},\\n\\n};\\n\\n\\n\\nint cx[]={-1, 1,1,-1, 1, 1,-1, -1};\\n\\nint cy[]={-1,-1,1, 1,-1, 1, 1,-1};\\n\\n\\n\\nbool isok2(int r,int c,int y,int x,int p){\\n\\n  if (p <5)return true;\\n\\n  rep(i,8){\\n\\n    bool ismatch=true;\\n\\n    rep(j,5){\\n\\n      if (pattern[i][j] == path[p-(5-j)]);\\n\\n      else ismatch=false;\\n\\n    }\\n\\n    if (!ismatch)continue;\\n\\n    int nex=x+cx[i],ney=y+cy[i];\\n\\n    if (nex==-1||ney==-1||nex==c||ney==r)continue;\\n\\n    \\/\\/    cout << \\\"test\\\"<<endl;\\n\\n    \\/\\/    if (m[ney][nex] == 0 && !vis2[ney][nex])cout <<\\\"cut\\\"<<endl;\\n\\n    if (m[ney][nex] == 0 && !vis2[ney][nex])return false;\\n\\n\\n\\n  }\\n\\n  return true;\\n\\n}\\n\\n\\n\\nvoid dfs(int r,int c,int y,int x,int cnt,int last,int gy2,int gx2){\\n\\n  if (!isok(r,c,y,x,last)){\\n\\n    return;\\n\\n  }\\n\\n  if (!isok2(r,c,y,x,cnt))return;\\n\\n\\n\\n  if (cnt+md >= ans)return;\\n\\n  if (!bfs(r,c,cnt,true))return;\\n\\n\\n\\n  \\/\\/  if (!bfs2(r,c,cnt,gy2,gx2))return;\\n\\n  \\/*\\n\\n  for(int i=0;cnt >=5 && i<5;i++){\\n\\n    cout << path[cnt-5+i]<<\\\" \\\";\\n\\n  }\\n\\n  cout << endl;\\n\\n  vis2[y][x]=true;\\n\\n  output(r,c);\\n\\n  vis2[y][x]=false;\\n\\n  *\\/    \\n\\n\\n\\n  if (x == gx2 && y == gy2){\\n\\n    vis2[y][x]=true;\\n\\n    bfs(r,c,cnt,false);\\n\\n    vis2[y][x]=false;\\n\\n    return;\\n\\n  }\\n\\n\\n\\n  vis2[y][x]=true;\\n\\n  rep(i,4){\\n\\n    if (op[i] == last)continue;\\n\\n    int nex=x+dx[i],ney=y+dy[i];\\n\\n    if (nex==-1||ney==-1||nex==c||ney==r||vis2[ney][nex])continue;\\n\\n    if (m[ney][nex] == 3 || m[ney][nex] == 1)continue;\\n\\n    path[cnt]=i;\\n\\n    dfs(r,c,ney,nex,cnt+1,i,gy2,gx2);\\n\\n  }\\n\\n  vis2[y][x]=false;\\n\\n}\\n\\n\\n\\nint bfs2(int r,int c,int tar,int utar){\\n\\n  static int q[N*N];\\n\\n  static int cost[N][N];\\n\\n  int sy3=-1,sx3=-1,gy3=-1,gx3=-1;\\n\\n  rep(i,r){\\n\\n    rep(j,c){\\n\\n      if (m[i][j] == tar){\\n\\n\\tif (sy3==-1)sy3=i,sx3=j;\\n\\n\\telse gy3=i,gx3=j;\\n\\n      }\\n\\n      cost[i][j]=inf;\\n\\n    }\\n\\n  }\\n\\n  int tail=0,head=0;\\n\\n  q[tail++]=sx3+sy3*c;\\n\\n  cost[sy3][sx3]=0;\\n\\n  while(head != tail){\\n\\n    int now = q[head++];\\n\\n    int x = now%c,y=now\\/c;\\n\\n\\n\\n    if (x == gx3 && y == gy3){\\n\\n      return cost[y][x];\\n\\n    }\\n\\n    rep(i,4){\\n\\n      int nex=x+dx[i],ney=y+dy[i];\\n\\n      if (nex==-1||ney==-1||nex==c||ney==r||vis2[ney][nex])continue;\\n\\n      if (m[ney][nex]==1||m[ney][nex] == utar)continue;\\n\\n      if (cost[ney][nex] != inf)continue;\\n\\n      cost[ney][nex]=cost[y][x]+1;\\n\\n      q[tail++]=ney*c+nex;\\n\\n    }\\n\\n  }\\n\\n  return false;\\n\\n}\\n\\n\\n\\n\\n\\n\\n\\nmain(){\\n\\n  int r,c;\\n\\n  while(cin>>r>>c && r){\\n\\n    ans = r*c;\\n\\n    isgoal=false;\\n\\n    rep(i,r)rep(j,c)cin>>m[i][j];\\n\\n    rep(i,r)rep(j,c)vis2[i][j]=false;\\n\\n\\n\\n\\n\\n\\n\\n    \\n\\n    int sx2=-1,sy2=-1;\\n\\n    int gx2=-1,gy2=-1;\\n\\n    rep(i,r){\\n\\n      rep(j,c){\\n\\n\\tif (m[i][j] == 2){\\n\\n\\t  if (sx2 == -1)sx2=j,sy2=i;\\n\\n\\t  else gx2=j,gy2=i;\\n\\n\\t}\\n\\n      }\\n\\n    }\\n\\n    \\n\\n    int sx3=-1,sy3=-1,gx3=-1,gy3=-1;\\n\\n    rep(i,r){\\n\\n      rep(j,c){\\n\\n\\tif (m[i][j] == 3){\\n\\n\\t  if (sx3 == -1)sx3=j,sy3=i;\\n\\n\\t  else gx3=j,gy3=i;\\n\\n\\t}\\n\\n      }\\n\\n    }\\n\\n\\n\\n\\n\\n    \\/*\\n\\n    md = max(sx3,gx3)-min(sx3,gx3)+\\n\\n      max(sy3,gy3)-min(sy3,gy3);\\n\\n    *\\/\\n\\n    md=bfs2(r,c,3,2);\\n\\n\\n\\n\\n\\n    \\n\\n    dfs(r,c,sy2,sx2,0,-1,gy2,gx2);\\n\\n    \\n\\n    if (isgoal)cout << ans << endl;\\n\\n    else cout << 0 << endl;\\n\\n  }\\n\\n  return false;\\n\\n}\",\"improved_code\":\"#include<iostream>\\n\\n#include<algorithm>\\n\\nusing namespace std;\\n\\n#define REP(i,b,n) for(int i=b;i<n;i++)\\n\\n#define rep(i,n)   REP(i,0,n)\\n\\n\\n\\nconst int N = 9;\\n\\nconst int inf = (1 <<21);\\n\\n\\n\\nint dx[]={0,1, 0,-1};\\n\\nint dy[]={1,0,-1,0};\\n\\nint op[]={2,3, 0,1};\\n\\nint m[N][N];\\n\\nbool vis2[N][N];\\n\\n\\n\\nbool isok(int r,int c,int y,int x,int last){\\n\\n  rep(i,4){\\n\\n    if (op[i] == last)continue;\\n\\n    int nex=x+dx[i],ney=y+dy[i];\\n\\n    if (nex==-1||ney==-1||nex==c||ney==r)continue;\\n\\n    if (vis2[ney][nex])return false;\\n\\n  }\\n\\n  return true;\\n\\n}\\n\\n\\n\\nvoid output(int r,int c){\\n\\n  cout << \\\"begin\\\"<<endl;\\n\\n  rep(i,r){\\n\\n    rep(j,c){\\n\\n      if (vis2[i][j])cout << 2;\\n\\n      else cout << '0';\\n\\n    }\\n\\n    cout << endl;\\n\\n  }\\n\\n  cout <<endl;\\n\\n}\\n\\n\\n\\n\\n\\nint ans;\\n\\nbool isgoal;\\n\\nint md;\\n\\nbool bfs(int r,int c,int cnt,bool goal2){\\n\\n  static int q[N*N];\\n\\n  static int cost[N][N];\\n\\n  int sy3=-1,sx3=-1,gy3=-1,gx3=-1;\\n\\n  rep(i,r){\\n\\n    rep(j,c){\\n\\n      if (m[i][j] == 3){\\n\\n\\tif (sy3==-1)sy3=i,sx3=j;\\n\\n\\telse gy3=i,gx3=j;\\n\\n      }\\n\\n      cost[i][j]=inf;\\n\\n    }\\n\\n  }\\n\\n  int tail=0,head=0;\\n\\n  q[tail++]=sx3+sy3*c;\\n\\n  cost[sy3][sx3]=0;\\n\\n  while(head != tail){\\n\\n    int now = q[head++];\\n\\n    int x = now%c,y=now\\/c;\\n\\n    if (cnt+cost[y][x] >= ans)return false;\\n\\n    if (x == gx3 && y == gy3){\\n\\n      if (goal2)return true;\\n\\n      isgoal=true;\\n\\n      ans =min(ans,cnt+cost[y][x]);\\n\\n      return true;\\n\\n    }\\n\\n    rep(i,4){\\n\\n      int nex=x+dx[i],ney=y+dy[i];\\n\\n      if (nex==-1||ney==-1||nex==c||ney==r||vis2[ney][nex])continue;\\n\\n      if (m[ney][nex]==1||m[ney][nex] == 2)continue;\\n\\n      if (cost[ney][nex] != inf)continue;\\n\\n      cost[ney][nex]=cost[y][x]+1;\\n\\n      q[tail++]=ney*c+nex;\\n\\n    }\\n\\n  }\\n\\n  return false;\\n\\n}\\n\\n\\n\\nbool bfs2(int r,int c,int cnt,int sy,int sx){\\n\\n  static int q[N*N];\\n\\n  static int cost[N][N];\\n\\n  int sy3=-1,sx3=-1,gy3=-1,gx3=-1;\\n\\n  rep(i,r){\\n\\n    rep(j,c){\\n\\n      if (m[i][j] == 2){\\n\\n\\tif (sy3==-1)sy3=i,sx3=j;\\n\\n\\telse gy3=i,gx3=j;\\n\\n      }\\n\\n      cost[i][j]=inf;\\n\\n    }\\n\\n  }\\n\\n  int tail=0,head=0;\\n\\n  q[tail++]=sx+sy*c;\\n\\n  cost[sy][sx]=0;\\n\\n  while(head != tail){\\n\\n    int now = q[head++];\\n\\n    int x = now%c,y=now\\/c;\\n\\n    if (cnt+cost[y][x] >= ans)return false;\\n\\n    if (x == gx3 && y == gy3){\\n\\n      return true;\\n\\n    }\\n\\n    rep(i,4){\\n\\n      int nex=x+dx[i],ney=y+dy[i];\\n\\n      if (nex==-1||ney==-1||nex==c||ney==r||vis2[ney][nex])continue;\\n\\n      if (m[ney][nex]==1||m[ney][nex] == 3)continue;\\n\\n      if (cost[ney][nex] != inf)continue;\\n\\n      cost[ney][nex]=cost[y][x]+1;\\n\\n      q[tail++]=ney*c+nex;\\n\\n    }\\n\\n  }\\n\\n  return false;\\n\\n}\\n\\n\\n\\n\\n\\nint path[N*N];\\n\\nint pattern[8][4]={\\n\\n  {2,1,1,0,},\\n\\n  {1,0,0,3,},\\n\\n  {0,3,3,2,},\\n\\n  {3,2,2,1,},\\n\\n  {2,3,3,0,},\\n\\n  {1,2,2,3,},\\n\\n  {0,1,1,2,},\\n\\n  {3,0,0,1,},\\n\\n};\\n\\n\\n\\nint cx[]={-1, 0,1, 0, 1, 0,-1, 0};\\n\\nint cy[]={ 0,-1,0, 1, 0, 1, 0,-1};\\n\\n\\n\\nbool isok2(int r,int c,int y,int x,int p){\\n\\n  if (p <4)return true;\\n\\n  rep(i,8){\\n\\n    bool ismatch=true;\\n\\n    rep(j,4){\\n\\n      if (pattern[i][j] == path[p-(4-j)]);\\n\\n      else ismatch=false;\\n\\n    }\\n\\n    if (!ismatch)continue;\\n\\n    int nex=x+cx[i],ney=y+cy[i];\\n\\n    if (nex==-1||ney==-1||nex==c||ney==r)continue;\\n\\n    if (m[ney][nex] == 0 && !vis2[ney][nex])return false;\\n\\n\\n\\n  }\\n\\n  return true;\\n\\n}\\n\\n\\n\\nvoid dfs(int r,int c,int y,int x,int cnt,int last,int gy2,int gx2){\\n\\n  if (!isok(r,c,y,x,last)){\\n\\n    return;\\n\\n  }\\n\\n  if (!isok2(r,c,y,x,cnt))return;\\n\\n\\n\\n  if (cnt+md >= ans)return;\\n\\n  if (!bfs(r,c,cnt,true))return;\\n\\n\\n\\n  if (!bfs2(r,c,cnt,gy2,gx2))return;\\n\\n\\n\\n  \\/*\\n\\n  for(int i=0;cnt >=5 && i<5;i++){\\n\\n    cout << path[cnt-5+i]<<\\\" \\\";\\n\\n  }\\n\\n  cout << endl;\\n\\n  vis2[y][x]=true;\\n\\n  output(r,c);\\n\\n  vis2[y][x]=false;\\n\\n  *\\/      \\n\\n\\n\\n  if (x == gx2 && y == gy2){\\n\\n    vis2[y][x]=true;\\n\\n    bfs(r,c,cnt,false);\\n\\n    vis2[y][x]=false;\\n\\n    return;\\n\\n  }\\n\\n\\n\\n  vis2[y][x]=true;\\n\\n  rep(i,4){\\n\\n    if (op[i] == last)continue;\\n\\n    int nex=x+dx[i],ney=y+dy[i];\\n\\n    if (nex==-1||ney==-1||nex==c||ney==r||vis2[ney][nex])continue;\\n\\n    if (m[ney][nex] == 3 || m[ney][nex] == 1)continue;\\n\\n    path[cnt]=i;\\n\\n    dfs(r,c,ney,nex,cnt+1,i,gy2,gx2);\\n\\n  }\\n\\n  vis2[y][x]=false;\\n\\n}\\n\\n\\n\\nint bfs2(int r,int c,int tar,int utar){\\n\\n  static int q[N*N];\\n\\n  static int cost[N][N];\\n\\n  int sy3=-1,sx3=-1,gy3=-1,gx3=-1;\\n\\n  rep(i,r){\\n\\n    rep(j,c){\\n\\n      if (m[i][j] == tar){\\n\\n\\tif (sy3==-1)sy3=i,sx3=j;\\n\\n\\telse gy3=i,gx3=j;\\n\\n      }\\n\\n      cost[i][j]=inf;\\n\\n    }\\n\\n  }\\n\\n  int tail=0,head=0;\\n\\n  q[tail++]=sx3+sy3*c;\\n\\n  cost[sy3][sx3]=0;\\n\\n  while(head != tail){\\n\\n    int now = q[head++];\\n\\n    int x = now%c,y=now\\/c;\\n\\n    if (x == gx3 && y == gy3){\\n\\n      return cost[y][x];\\n\\n    }\\n\\n    rep(i,4){\\n\\n      int nex=x+dx[i],ney=y+dy[i];\\n\\n      if (nex==-1||ney==-1||nex==c||ney==r||vis2[ney][nex])continue;\\n\\n      if (m[ney][nex]==1||m[ney][nex] == utar)continue;\\n\\n      if (cost[ney][nex] != inf)continue;\\n\\n      cost[ney][nex]=cost[y][x]+1;\\n\\n      q[tail++]=ney*c+nex;\\n\\n    }\\n\\n  }\\n\\n  return false;\\n\\n}\\n\\n\\n\\nmain(){\\n\\n  int r,c;\\n\\n  while(cin>>r>>c && r){\\n\\n    ans = r*c;\\n\\n    isgoal=false;\\n\\n    rep(i,r)rep(j,c)cin>>m[i][j];\\n\\n    rep(i,r)rep(j,c)vis2[i][j]=false;\\n\\n   \\n\\n    int sx2=-1,sy2=-1;\\n\\n    int gx2=-1,gy2=-1;\\n\\n    rep(i,r){\\n\\n      rep(j,c){\\n\\n\\tif (m[i][j] == 2){\\n\\n\\t  if (sx2 == -1)sx2=j,sy2=i;\\n\\n\\t  else gx2=j,gy2=i;\\n\\n\\t}\\n\\n      }\\n\\n    }\\n\\n    \\n\\n    int sx3=-1,sy3=-1,gx3=-1,gy3=-1;\\n\\n    rep(i,r){\\n\\n      rep(j,c){\\n\\n\\tif (m[i][j] == 3){\\n\\n\\t  if (sx3 == -1)sx3=j,sy3=i;\\n\\n\\t  else gx3=j,gy3=i;\\n\\n\\t}\\n\\n      }\\n\\n    }\\n\\n\\n\\n    md=bfs2(r,c,3,2);\\n\\n    \\n\\n    dfs(r,c,sy2,sx2,0,-1,gy2,gx2);\\n\\n    \\n\\n    if (isgoal)cout << ans << endl;\\n\\n    else cout << 0 << endl;\\n\\n  }\\n\\n  return false;\\n\\n}\",\"problem_id\":\"p00849\"}\n{\"original_code\":\"#include<iostream>\\n\\n#include<algorithm>\\n\\nusing namespace std;\\n\\n#define REP(i,b,n) for(int i=b;i<n;i++)\\n\\n#define rep(i,n)   REP(i,0,n)\\n\\n\\n\\nconst int N = 9;\\n\\nconst int inf = (1 <<21);\\n\\n\\n\\nint dx[]={0,1, 0,-1};\\n\\nint dy[]={1,0,-1,0};\\n\\nint op[]={2,3, 0,1};\\n\\nint m[N][N];\\n\\nbool vis2[N][N];\\n\\n\\n\\nbool isok(int r,int c,int y,int x,int last){\\n\\n  rep(i,4){\\n\\n    if (op[i] == last)continue;\\n\\n    int nex=x+dx[i],ney=y+dy[i];\\n\\n    if (nex==-1||ney==-1||nex==c||ney==r)continue;\\n\\n    if (vis2[ney][nex])return false;\\n\\n  }\\n\\n  return true;\\n\\n}\\n\\n\\n\\nvoid output(int r,int c){\\n\\n  cout << \\\"begin\\\"<<endl;\\n\\n  rep(i,r){\\n\\n    rep(j,c){\\n\\n      if (vis2[i][j])cout << 2;\\n\\n      else cout << '0';\\n\\n    }\\n\\n    cout << endl;\\n\\n  }\\n\\n  cout <<endl;\\n\\n}\\n\\n\\n\\n\\n\\nint ans;\\n\\nbool isgoal;\\n\\nint md;\\n\\nbool bfs(int r,int c,int cnt,bool goal2){\\n\\n  static int q[N*N];\\n\\n  static int cost[N][N];\\n\\n  int sy3=-1,sx3=-1,gy3=-1,gx3=-1;\\n\\n  rep(i,r){\\n\\n    rep(j,c){\\n\\n      if (m[i][j] == 3){\\n\\n\\tif (sy3==-1)sy3=i,sx3=j;\\n\\n\\telse gy3=i,gx3=j;\\n\\n      }\\n\\n      cost[i][j]=inf;\\n\\n    }\\n\\n  }\\n\\n  int tail=0,head=0;\\n\\n  q[tail++]=sx3+sy3*c;\\n\\n  cost[sy3][sx3]=0;\\n\\n  while(head != tail){\\n\\n    int now = q[head++];\\n\\n    int x = now%c,y=now\\/c;\\n\\n    if (cnt+cost[y][x] >= ans)return false;\\n\\n    if (x == gx3 && y == gy3){\\n\\n      if (goal2)return true;\\n\\n      isgoal=true;\\n\\n      ans =min(ans,cnt+cost[y][x]);\\n\\n      return true;\\n\\n    }\\n\\n    rep(i,4){\\n\\n      int nex=x+dx[i],ney=y+dy[i];\\n\\n      if (nex==-1||ney==-1||nex==c||ney==r||vis2[ney][nex])continue;\\n\\n      if (m[ney][nex]==1||m[ney][nex] == 2)continue;\\n\\n      if (cost[ney][nex] != inf)continue;\\n\\n      cost[ney][nex]=cost[y][x]+1;\\n\\n      q[tail++]=ney*c+nex;\\n\\n    }\\n\\n  }\\n\\n  return false;\\n\\n}\\n\\n\\n\\nbool bfs2(int r,int c,int cnt,int sy,int sx){\\n\\n  static int q[N*N];\\n\\n  static int cost[N][N];\\n\\n  int sy3=-1,sx3=-1,gy3=-1,gx3=-1;\\n\\n  rep(i,r){\\n\\n    rep(j,c){\\n\\n      if (m[i][j] == 2){\\n\\n\\tif (sy3==-1)sy3=i,sx3=j;\\n\\n\\telse gy3=i,gx3=j;\\n\\n      }\\n\\n      cost[i][j]=inf;\\n\\n    }\\n\\n  }\\n\\n  int tail=0,head=0;\\n\\n  q[tail++]=sx+sy*c;\\n\\n  cost[sy][sx]=0;\\n\\n  while(head != tail){\\n\\n    int now = q[head++];\\n\\n    int x = now%c,y=now\\/c;\\n\\n    if (cnt+cost[y][x] >= ans)return false;\\n\\n    if (x == gx3 && y == gy3){\\n\\n      return true;\\n\\n    }\\n\\n    rep(i,4){\\n\\n      int nex=x+dx[i],ney=y+dy[i];\\n\\n      if (nex==-1||ney==-1||nex==c||ney==r||vis2[ney][nex])continue;\\n\\n      if (m[ney][nex]==1||m[ney][nex] == 3)continue;\\n\\n      if (cost[ney][nex] != inf)continue;\\n\\n      cost[ney][nex]=cost[y][x]+1;\\n\\n      q[tail++]=ney*c+nex;\\n\\n    }\\n\\n  }\\n\\n  return false;\\n\\n}\\n\\n\\n\\n\\n\\nint path[N*N];\\n\\nint pattern[8][4]={\\n\\n  {2,1,1,0,},\\n\\n  {1,0,0,3,},\\n\\n  {0,3,3,2,},\\n\\n  {3,2,2,1,},\\n\\n  {2,3,3,0,},\\n\\n  {1,2,2,3,},\\n\\n  {0,1,1,2,},\\n\\n  {3,0,0,1,},\\n\\n};\\n\\n\\n\\nint cx[]={-1, 0,1, 0, 1, 0,-1, 0};\\n\\nint cy[]={ 0,-1,0, 1, 0, 1, 0,-1};\\n\\n\\n\\nbool isok2(int r,int c,int y,int x,int p){\\n\\n  if (p <4)return true;\\n\\n  rep(i,8){\\n\\n    bool ismatch=true;\\n\\n    rep(j,4){\\n\\n      if (pattern[i][j] == path[p-(4-j)]);\\n\\n      else ismatch=false;\\n\\n    }\\n\\n    if (!ismatch)continue;\\n\\n    int nex=x+cx[i],ney=y+cy[i];\\n\\n    if (nex==-1||ney==-1||nex==c||ney==r)continue;\\n\\n    if (m[ney][nex] == 0 && !vis2[ney][nex])return false;\\n\\n\\n\\n  }\\n\\n  return true;\\n\\n}\\n\\n\\n\\nvoid dfs(int r,int c,int y,int x,int cnt,int last,int gy2,int gx2){\\n\\n  if (!isok(r,c,y,x,last)){\\n\\n    return;\\n\\n  }\\n\\n  if (!isok2(r,c,y,x,cnt))return;\\n\\n\\n\\n  if (cnt+md >= ans)return;\\n\\n  if (!bfs(r,c,cnt,true))return;\\n\\n\\n\\n  if (!bfs2(r,c,cnt,gy2,gx2))return;\\n\\n\\n\\n  \\/*\\n\\n  for(int i=0;cnt >=5 && i<5;i++){\\n\\n    cout << path[cnt-5+i]<<\\\" \\\";\\n\\n  }\\n\\n  cout << endl;\\n\\n  vis2[y][x]=true;\\n\\n  output(r,c);\\n\\n  vis2[y][x]=false;\\n\\n  *\\/      \\n\\n\\n\\n  if (x == gx2 && y == gy2){\\n\\n    vis2[y][x]=true;\\n\\n    bfs(r,c,cnt,false);\\n\\n    vis2[y][x]=false;\\n\\n    return;\\n\\n  }\\n\\n\\n\\n  vis2[y][x]=true;\\n\\n  rep(i,4){\\n\\n    if (op[i] == last)continue;\\n\\n    int nex=x+dx[i],ney=y+dy[i];\\n\\n    if (nex==-1||ney==-1||nex==c||ney==r||vis2[ney][nex])continue;\\n\\n    if (m[ney][nex] == 3 || m[ney][nex] == 1)continue;\\n\\n    path[cnt]=i;\\n\\n    dfs(r,c,ney,nex,cnt+1,i,gy2,gx2);\\n\\n  }\\n\\n  vis2[y][x]=false;\\n\\n}\\n\\n\\n\\nint bfs2(int r,int c,int tar,int utar){\\n\\n  static int q[N*N];\\n\\n  static int cost[N][N];\\n\\n  int sy3=-1,sx3=-1,gy3=-1,gx3=-1;\\n\\n  rep(i,r){\\n\\n    rep(j,c){\\n\\n      if (m[i][j] == tar){\\n\\n\\tif (sy3==-1)sy3=i,sx3=j;\\n\\n\\telse gy3=i,gx3=j;\\n\\n      }\\n\\n      cost[i][j]=inf;\\n\\n    }\\n\\n  }\\n\\n  int tail=0,head=0;\\n\\n  q[tail++]=sx3+sy3*c;\\n\\n  cost[sy3][sx3]=0;\\n\\n  while(head != tail){\\n\\n    int now = q[head++];\\n\\n    int x = now%c,y=now\\/c;\\n\\n    if (x == gx3 && y == gy3){\\n\\n      return cost[y][x];\\n\\n    }\\n\\n    rep(i,4){\\n\\n      int nex=x+dx[i],ney=y+dy[i];\\n\\n      if (nex==-1||ney==-1||nex==c||ney==r||vis2[ney][nex])continue;\\n\\n      if (m[ney][nex]==1||m[ney][nex] == utar)continue;\\n\\n      if (cost[ney][nex] != inf)continue;\\n\\n      cost[ney][nex]=cost[y][x]+1;\\n\\n      q[tail++]=ney*c+nex;\\n\\n    }\\n\\n  }\\n\\n  return false;\\n\\n}\\n\\n\\n\\nmain(){\\n\\n  int r,c;\\n\\n  while(cin>>r>>c && r){\\n\\n    ans = r*c;\\n\\n    isgoal=false;\\n\\n    rep(i,r)rep(j,c)cin>>m[i][j];\\n\\n    rep(i,r)rep(j,c)vis2[i][j]=false;\\n\\n   \\n\\n    int sx2=-1,sy2=-1;\\n\\n    int gx2=-1,gy2=-1;\\n\\n    rep(i,r){\\n\\n      rep(j,c){\\n\\n\\tif (m[i][j] == 2){\\n\\n\\t  if (sx2 == -1)sx2=j,sy2=i;\\n\\n\\t  else gx2=j,gy2=i;\\n\\n\\t}\\n\\n      }\\n\\n    }\\n\\n    \\n\\n    int sx3=-1,sy3=-1,gx3=-1,gy3=-1;\\n\\n    rep(i,r){\\n\\n      rep(j,c){\\n\\n\\tif (m[i][j] == 3){\\n\\n\\t  if (sx3 == -1)sx3=j,sy3=i;\\n\\n\\t  else gx3=j,gy3=i;\\n\\n\\t}\\n\\n      }\\n\\n    }\\n\\n\\n\\n    md=bfs2(r,c,3,2);\\n\\n    \\n\\n    dfs(r,c,sy2,sx2,0,-1,gy2,gx2);\\n\\n    \\n\\n    if (isgoal)cout << ans << endl;\\n\\n    else cout << 0 << endl;\\n\\n  }\\n\\n  return false;\\n\\n}\",\"improved_code\":\"#include<iostream>\\n\\n#include<algorithm>\\n\\nusing namespace std;\\n\\n#define REP(i,b,n) for(int i=b;i<n;i++)\\n\\n#define rep(i,n)   REP(i,0,n)\\n\\n\\n\\nconst int N = 9;\\n\\nconst int inf = (1 <<21);\\n\\n\\n\\nint dx[]={0,1, 0,-1};\\n\\nint dy[]={1,0,-1,0};\\n\\nint op[]={2,3, 0,1};\\n\\nint m[N][N];\\n\\nbool vis2[N][N];\\n\\n\\n\\nbool isok(int r,int c,int y,int x,int last){\\n\\n  rep(i,4){\\n\\n    if (op[i] == last)continue;\\n\\n    int nex=x+dx[i],ney=y+dy[i];\\n\\n    if (nex==-1||ney==-1||nex==c||ney==r)continue;\\n\\n    if (vis2[ney][nex])return false;\\n\\n  }\\n\\n  return true;\\n\\n}\\n\\n\\n\\nvoid output(int r,int c){\\n\\n  cout << \\\"begin\\\"<<endl;\\n\\n  rep(i,r){\\n\\n    rep(j,c){\\n\\n      if (vis2[i][j])cout << 2;\\n\\n      else cout << '0';\\n\\n    }\\n\\n    cout << endl;\\n\\n  }\\n\\n  cout <<endl;\\n\\n}\\n\\n\\n\\n\\n\\nint ans;\\n\\nbool isgoal;\\n\\nint md;\\n\\nbool bfs(int r,int c,int cnt,bool goal2){\\n\\n  static int q[N*N];\\n\\n  static int cost[N][N];\\n\\n  int sy3=-1,sx3=-1,gy3=-1,gx3=-1;\\n\\n  rep(i,r){\\n\\n    rep(j,c){\\n\\n      if (m[i][j] == 3){\\n\\n\\tif (sy3==-1)sy3=i,sx3=j;\\n\\n\\telse gy3=i,gx3=j;\\n\\n      }\\n\\n      cost[i][j]=inf;\\n\\n    }\\n\\n  }\\n\\n  int tail=0,head=0;\\n\\n  q[tail++]=sx3+sy3*c;\\n\\n  cost[sy3][sx3]=0;\\n\\n  while(head != tail){\\n\\n    int now = q[head++];\\n\\n    int x = now%c,y=now\\/c;\\n\\n    if (cnt+cost[y][x] >= ans)return false;\\n\\n    if (x == gx3 && y == gy3){\\n\\n      if (goal2)return true;\\n\\n      isgoal=true;\\n\\n      ans =min(ans,cnt+cost[y][x]);\\n\\n      return true;\\n\\n    }\\n\\n    rep(i,4){\\n\\n      int nex=x+dx[i],ney=y+dy[i];\\n\\n      if (nex==-1||ney==-1||nex==c||ney==r||vis2[ney][nex])continue;\\n\\n      if (m[ney][nex]==1||m[ney][nex] == 2)continue;\\n\\n      if (cost[ney][nex] != inf)continue;\\n\\n      cost[ney][nex]=cost[y][x]+1;\\n\\n      q[tail++]=ney*c+nex;\\n\\n    }\\n\\n  }\\n\\n  return false;\\n\\n}\\n\\n\\n\\nbool bfs2(int r,int c,int cnt,int sy,int sx){\\n\\n  static int q[N*N];\\n\\n  static int cost[N][N];\\n\\n  int sy3=-1,sx3=-1,gy3=-1,gx3=-1;\\n\\n  rep(i,r){\\n\\n    rep(j,c){\\n\\n      if (m[i][j] == 2){\\n\\n\\tif (sy3==-1)sy3=i,sx3=j;\\n\\n\\telse gy3=i,gx3=j;\\n\\n      }\\n\\n      cost[i][j]=inf;\\n\\n    }\\n\\n  }\\n\\n  int tail=0,head=0;\\n\\n  q[tail++]=sx+sy*c;\\n\\n  cost[sy][sx]=0;\\n\\n  while(head != tail){\\n\\n    int now = q[head++];\\n\\n    int x = now%c,y=now\\/c;\\n\\n    if (cnt+cost[y][x] >= ans)return false;\\n\\n    if (x == gx3 && y == gy3){\\n\\n      return true;\\n\\n    }\\n\\n    rep(i,4){\\n\\n      int nex=x+dx[i],ney=y+dy[i];\\n\\n      if (nex==-1||ney==-1||nex==c||ney==r||vis2[ney][nex])continue;\\n\\n      if (m[ney][nex]==1||m[ney][nex] == 3)continue;\\n\\n      if (cost[ney][nex] != inf)continue;\\n\\n      cost[ney][nex]=cost[y][x]+1;\\n\\n      q[tail++]=ney*c+nex;\\n\\n    }\\n\\n  }\\n\\n  return false;\\n\\n}\\n\\n\\n\\n\\n\\nint path[N*N];\\n\\nint pattern[8][4]={\\n\\n  {2,1,1,0,},\\n\\n  {1,0,0,3,},\\n\\n  {0,3,3,2,},\\n\\n  {3,2,2,1,},\\n\\n  {2,3,3,0,},\\n\\n  {1,2,2,3,},\\n\\n  {0,1,1,2,},\\n\\n  {3,0,0,1,},\\n\\n};\\n\\n\\n\\nint cx[]={-1, 0,1, 0, 1, 0,-1, 0};\\n\\nint cy[]={ 0,-1,0, 1, 0, 1, 0,-1};\\n\\n\\n\\nbool isok2(int r,int c,int y,int x,int p){\\n\\n  if (p <4)return true;\\n\\n  rep(i,8){\\n\\n    bool ismatch=true;\\n\\n    rep(j,4){\\n\\n      if (pattern[i][j] == path[p-(4-j)]);\\n\\n      else ismatch=false;\\n\\n    }\\n\\n    if (!ismatch)continue;\\n\\n    int nex=x+cx[i],ney=y+cy[i];\\n\\n    if (nex==-1||ney==-1||nex==c||ney==r)continue;\\n\\n    if (m[ney][nex] == 0 && !vis2[ney][nex])return false;\\n\\n\\n\\n  }\\n\\n  return true;\\n\\n}\\n\\n\\n\\nvoid dfs(int r,int c,int y,int x,int cnt,int last,int gy2,int gx2){\\n\\n  if (!isok(r,c,y,x,last)){\\n\\n    return;\\n\\n  }\\n\\n  if (!isok2(r,c,y,x,cnt))return;\\n\\n\\n\\n  if (cnt+md >= ans)return;\\n\\n  if (!bfs(r,c,cnt,true))return;\\n\\n\\n\\n  \\/\\/  if (!bfs2(r,c,cnt,gy2,gx2))return;\\n\\n\\n\\n  \\/*\\n\\n  for(int i=0;cnt >=5 && i<5;i++){\\n\\n    cout << path[cnt-5+i]<<\\\" \\\";\\n\\n  }\\n\\n  cout << endl;\\n\\n  vis2[y][x]=true;\\n\\n  output(r,c);\\n\\n  vis2[y][x]=false;\\n\\n  *\\/      \\n\\n\\n\\n  if (x == gx2 && y == gy2){\\n\\n    vis2[y][x]=true;\\n\\n    bfs(r,c,cnt,false);\\n\\n    vis2[y][x]=false;\\n\\n    return;\\n\\n  }\\n\\n\\n\\n  vis2[y][x]=true;\\n\\n  rep(i,4){\\n\\n    if (op[i] == last)continue;\\n\\n    int nex=x+dx[i],ney=y+dy[i];\\n\\n    if (nex==-1||ney==-1||nex==c||ney==r||vis2[ney][nex])continue;\\n\\n    if (m[ney][nex] == 3 || m[ney][nex] == 1)continue;\\n\\n    path[cnt]=i;\\n\\n    dfs(r,c,ney,nex,cnt+1,i,gy2,gx2);\\n\\n  }\\n\\n  vis2[y][x]=false;\\n\\n}\\n\\n\\n\\nint bfs2(int r,int c,int tar,int utar){\\n\\n  static int q[N*N];\\n\\n  static int cost[N][N];\\n\\n  int sy3=-1,sx3=-1,gy3=-1,gx3=-1;\\n\\n  rep(i,r){\\n\\n    rep(j,c){\\n\\n      if (m[i][j] == tar){\\n\\n\\tif (sy3==-1)sy3=i,sx3=j;\\n\\n\\telse gy3=i,gx3=j;\\n\\n      }\\n\\n      cost[i][j]=inf;\\n\\n    }\\n\\n  }\\n\\n  int tail=0,head=0;\\n\\n  q[tail++]=sx3+sy3*c;\\n\\n  cost[sy3][sx3]=0;\\n\\n  while(head != tail){\\n\\n    int now = q[head++];\\n\\n    int x = now%c,y=now\\/c;\\n\\n    if (x == gx3 && y == gy3){\\n\\n      return cost[y][x];\\n\\n    }\\n\\n    rep(i,4){\\n\\n      int nex=x+dx[i],ney=y+dy[i];\\n\\n      if (nex==-1||ney==-1||nex==c||ney==r||vis2[ney][nex])continue;\\n\\n      if (m[ney][nex]==1||m[ney][nex] == utar)continue;\\n\\n      if (cost[ney][nex] != inf)continue;\\n\\n      cost[ney][nex]=cost[y][x]+1;\\n\\n      q[tail++]=ney*c+nex;\\n\\n    }\\n\\n  }\\n\\n  return false;\\n\\n}\\n\\n\\n\\nmain(){\\n\\n  int r,c;\\n\\n  while(cin>>r>>c && r){\\n\\n    ans = r*c;\\n\\n    isgoal=false;\\n\\n    rep(i,r)rep(j,c)cin>>m[i][j];\\n\\n    rep(i,r)rep(j,c)vis2[i][j]=false;\\n\\n   \\n\\n    int sx2=-1,sy2=-1;\\n\\n    int gx2=-1,gy2=-1;\\n\\n    rep(i,r){\\n\\n      rep(j,c){\\n\\n\\tif (m[i][j] == 2){\\n\\n\\t  if (sx2 == -1)sx2=j,sy2=i;\\n\\n\\t  else gx2=j,gy2=i;\\n\\n\\t}\\n\\n      }\\n\\n    }\\n\\n    \\n\\n    int sx3=-1,sy3=-1,gx3=-1,gy3=-1;\\n\\n    rep(i,r){\\n\\n      rep(j,c){\\n\\n\\tif (m[i][j] == 3){\\n\\n\\t  if (sx3 == -1)sx3=j,sy3=i;\\n\\n\\t  else gx3=j,gy3=i;\\n\\n\\t}\\n\\n      }\\n\\n    }\\n\\n\\n\\n    md=bfs2(r,c,3,2);\\n\\n    \\n\\n    dfs(r,c,sy2,sx2,0,-1,gy2,gx2);\\n\\n    \\n\\n    if (isgoal)cout << ans << endl;\\n\\n    else cout << 0 << endl;\\n\\n  }\\n\\n  return false;\\n\\n}\",\"problem_id\":\"p00849\"}\n{\"original_code\":\"#include<iostream>\\n\\n#include<algorithm>\\n\\nusing namespace std;\\n\\n#define REP(i,b,n) for(int i=b;i<n;i++)\\n\\n#define rep(i,n)   REP(i,0,n)\\n\\n\\n\\nconst int N = 9;\\n\\nconst int inf = (1 <<21);\\n\\n\\n\\nint dx[]={0,1, 0,-1};\\n\\nint dy[]={1,0,-1,0};\\n\\nint op[]={2,3, 0,1};\\n\\nint m[N][N];\\n\\nbool vis2[N][N];\\n\\n\\n\\nbool isok(int r,int c,int y,int x,int last){\\n\\n  rep(i,4){\\n\\n    if (op[i] == last)continue;\\n\\n    int nex=x+dx[i],ney=y+dy[i];\\n\\n    if (nex==-1||ney==-1||nex==c||ney==r)continue;\\n\\n    if (vis2[ney][nex])return false;\\n\\n  }\\n\\n  return true;\\n\\n}\\n\\n\\n\\nvoid output(int r,int c){\\n\\n  cout << \\\"begin\\\"<<endl;\\n\\n  rep(i,r){\\n\\n    rep(j,c){\\n\\n      if (vis2[i][j])cout << 2;\\n\\n      else cout << '0';\\n\\n    }\\n\\n    cout << endl;\\n\\n  }\\n\\n  cout <<endl;\\n\\n}\\n\\n\\n\\n\\n\\nint ans;\\n\\nbool isgoal;\\n\\nint md;\\n\\nbool bfs(int r,int c,int cnt,bool goal2){\\n\\n  static int q[N*N];\\n\\n  static int cost[N][N];\\n\\n  int sy3=-1,sx3=-1,gy3=-1,gx3=-1;\\n\\n  rep(i,r){\\n\\n    rep(j,c){\\n\\n      if (m[i][j] == 3){\\n\\n\\tif (sy3==-1)sy3=i,sx3=j;\\n\\n\\telse gy3=i,gx3=j;\\n\\n      }\\n\\n      cost[i][j]=inf;\\n\\n    }\\n\\n  }\\n\\n  int tail=0,head=0;\\n\\n  q[tail++]=sx3+sy3*c;\\n\\n  cost[sy3][sx3]=0;\\n\\n  while(head != tail){\\n\\n    int now = q[head++];\\n\\n    int x = now%c,y=now\\/c;\\n\\n    if (cnt+cost[y][x] >= ans)return false;\\n\\n    if (x == gx3 && y == gy3){\\n\\n      if (goal2)return true;\\n\\n      isgoal=true;\\n\\n      ans =min(ans,cnt+cost[y][x]);\\n\\n      return true;\\n\\n    }\\n\\n    rep(i,4){\\n\\n      int nex=x+dx[i],ney=y+dy[i];\\n\\n      if (nex==-1||ney==-1||nex==c||ney==r||vis2[ney][nex])continue;\\n\\n      if (m[ney][nex]==1||m[ney][nex] == 2)continue;\\n\\n      if (cost[ney][nex] != inf)continue;\\n\\n      cost[ney][nex]=cost[y][x]+1;\\n\\n      q[tail++]=ney*c+nex;\\n\\n    }\\n\\n  }\\n\\n  return false;\\n\\n}\\n\\n\\n\\nbool bfs2(int r,int c,int cnt,int sy,int sx){\\n\\n  static int q[N*N];\\n\\n  static int cost[N][N];\\n\\n  int sy3=-1,sx3=-1,gy3=-1,gx3=-1;\\n\\n  rep(i,r){\\n\\n    rep(j,c){\\n\\n      if (m[i][j] == 2){\\n\\n\\tif (sy3==-1)sy3=i,sx3=j;\\n\\n\\telse gy3=i,gx3=j;\\n\\n      }\\n\\n      cost[i][j]=inf;\\n\\n    }\\n\\n  }\\n\\n  int tail=0,head=0;\\n\\n  q[tail++]=sx+sy*c;\\n\\n  cost[sy][sx]=0;\\n\\n  while(head != tail){\\n\\n    int now = q[head++];\\n\\n    int x = now%c,y=now\\/c;\\n\\n    if (cnt+cost[y][x] >= ans)return false;\\n\\n    if (x == gx3 && y == gy3){\\n\\n      return true;\\n\\n    }\\n\\n    rep(i,4){\\n\\n      int nex=x+dx[i],ney=y+dy[i];\\n\\n      if (nex==-1||ney==-1||nex==c||ney==r||vis2[ney][nex])continue;\\n\\n      if (m[ney][nex]==1||m[ney][nex] == 3)continue;\\n\\n      if (cost[ney][nex] != inf)continue;\\n\\n      cost[ney][nex]=cost[y][x]+1;\\n\\n      q[tail++]=ney*c+nex;\\n\\n    }\\n\\n  }\\n\\n  return false;\\n\\n}\\n\\n\\n\\n\\n\\nint path[N*N];\\n\\nint pattern[8][4]={\\n\\n  {2,1,1,0,},\\n\\n  {1,0,0,3,},\\n\\n  {0,3,3,2,},\\n\\n  {3,2,2,1,},\\n\\n  {2,3,3,0,},\\n\\n  {1,2,2,3,},\\n\\n  {0,1,1,2,},\\n\\n  {3,0,0,1,},\\n\\n};\\n\\n\\n\\nint cx[]={-1, 0,1, 0, 1, 0,-1, 0};\\n\\nint cy[]={ 0,-1,0, 1, 0, 1, 0,-1};\\n\\n\\n\\nbool isok2(int r,int c,int y,int x,int p){\\n\\n  if (p <4)return true;\\n\\n  rep(i,8){\\n\\n    bool ismatch=true;\\n\\n    rep(j,4){\\n\\n      if (pattern[i][j] == path[p-(4-j)]);\\n\\n      else ismatch=false;\\n\\n    }\\n\\n    if (!ismatch)continue;\\n\\n    int nex=x+cx[i],ney=y+cy[i];\\n\\n    if (nex==-1||ney==-1||nex==c||ney==r)continue;\\n\\n    if (m[ney][nex] == 0 && !vis2[ney][nex])return false;\\n\\n\\n\\n  }\\n\\n  return true;\\n\\n}\\n\\n\\n\\nvoid dfs(int r,int c,int y,int x,int cnt,int last,int gy2,int gx2){\\n\\n  if (!isok(r,c,y,x,last)){\\n\\n    return;\\n\\n  }\\n\\n  if (!isok2(r,c,y,x,cnt))return;\\n\\n\\n\\n  if (cnt+md >= ans)return;\\n\\n  if (!bfs(r,c,cnt,true))return;\\n\\n\\n\\n  \\/\\/  if (!bfs2(r,c,cnt,gy2,gx2))return;\\n\\n\\n\\n  \\/*\\n\\n  for(int i=0;cnt >=5 && i<5;i++){\\n\\n    cout << path[cnt-5+i]<<\\\" \\\";\\n\\n  }\\n\\n  cout << endl;\\n\\n  vis2[y][x]=true;\\n\\n  output(r,c);\\n\\n  vis2[y][x]=false;\\n\\n  *\\/      \\n\\n\\n\\n  if (x == gx2 && y == gy2){\\n\\n    vis2[y][x]=true;\\n\\n    bfs(r,c,cnt,false);\\n\\n    vis2[y][x]=false;\\n\\n    return;\\n\\n  }\\n\\n\\n\\n  vis2[y][x]=true;\\n\\n  rep(i,4){\\n\\n    if (op[i] == last)continue;\\n\\n    int nex=x+dx[i],ney=y+dy[i];\\n\\n    if (nex==-1||ney==-1||nex==c||ney==r||vis2[ney][nex])continue;\\n\\n    if (m[ney][nex] == 3 || m[ney][nex] == 1)continue;\\n\\n    path[cnt]=i;\\n\\n    dfs(r,c,ney,nex,cnt+1,i,gy2,gx2);\\n\\n  }\\n\\n  vis2[y][x]=false;\\n\\n}\\n\\n\\n\\nint bfs2(int r,int c,int tar,int utar){\\n\\n  static int q[N*N];\\n\\n  static int cost[N][N];\\n\\n  int sy3=-1,sx3=-1,gy3=-1,gx3=-1;\\n\\n  rep(i,r){\\n\\n    rep(j,c){\\n\\n      if (m[i][j] == tar){\\n\\n\\tif (sy3==-1)sy3=i,sx3=j;\\n\\n\\telse gy3=i,gx3=j;\\n\\n      }\\n\\n      cost[i][j]=inf;\\n\\n    }\\n\\n  }\\n\\n  int tail=0,head=0;\\n\\n  q[tail++]=sx3+sy3*c;\\n\\n  cost[sy3][sx3]=0;\\n\\n  while(head != tail){\\n\\n    int now = q[head++];\\n\\n    int x = now%c,y=now\\/c;\\n\\n    if (x == gx3 && y == gy3){\\n\\n      return cost[y][x];\\n\\n    }\\n\\n    rep(i,4){\\n\\n      int nex=x+dx[i],ney=y+dy[i];\\n\\n      if (nex==-1||ney==-1||nex==c||ney==r||vis2[ney][nex])continue;\\n\\n      if (m[ney][nex]==1||m[ney][nex] == utar)continue;\\n\\n      if (cost[ney][nex] != inf)continue;\\n\\n      cost[ney][nex]=cost[y][x]+1;\\n\\n      q[tail++]=ney*c+nex;\\n\\n    }\\n\\n  }\\n\\n  return false;\\n\\n}\\n\\n\\n\\nmain(){\\n\\n  int r,c;\\n\\n  while(cin>>r>>c && r){\\n\\n    ans = r*c;\\n\\n    isgoal=false;\\n\\n    rep(i,r)rep(j,c)cin>>m[i][j];\\n\\n    rep(i,r)rep(j,c)vis2[i][j]=false;\\n\\n   \\n\\n    int sx2=-1,sy2=-1;\\n\\n    int gx2=-1,gy2=-1;\\n\\n    rep(i,r){\\n\\n      rep(j,c){\\n\\n\\tif (m[i][j] == 2){\\n\\n\\t  if (sx2 == -1)sx2=j,sy2=i;\\n\\n\\t  else gx2=j,gy2=i;\\n\\n\\t}\\n\\n      }\\n\\n    }\\n\\n    \\n\\n    int sx3=-1,sy3=-1,gx3=-1,gy3=-1;\\n\\n    rep(i,r){\\n\\n      rep(j,c){\\n\\n\\tif (m[i][j] == 3){\\n\\n\\t  if (sx3 == -1)sx3=j,sy3=i;\\n\\n\\t  else gx3=j,gy3=i;\\n\\n\\t}\\n\\n      }\\n\\n    }\\n\\n\\n\\n    md=bfs2(r,c,3,2);\\n\\n    \\n\\n    dfs(r,c,sy2,sx2,0,-1,gy2,gx2);\\n\\n    \\n\\n    if (isgoal)cout << ans << endl;\\n\\n    else cout << 0 << endl;\\n\\n  }\\n\\n  return false;\\n\\n}\",\"improved_code\":\"#include<iostream>\\n\\n#include<algorithm>\\n\\nusing namespace std;\\n\\n#define REP(i,b,n) for(int i=b;i<n;i++)\\n\\n#define rep(i,n)   REP(i,0,n)\\n\\n\\n\\nconst int N = 9;\\n\\nconst int inf = (1 <<21);\\n\\n\\n\\nint dx[]={0,1, 0,-1};\\n\\nint dy[]={1,0,-1,0};\\n\\nint op[]={2,3, 0,1};\\n\\nint m[N][N];\\n\\nbool vis2[N][N];\\n\\n\\n\\nbool isok(int r,int c,int y,int x,int last){\\n\\n  rep(i,4){\\n\\n    if (op[i] == last)continue;\\n\\n    int nex=x+dx[i],ney=y+dy[i];\\n\\n    if (nex==-1||ney==-1||nex==c||ney==r)continue;\\n\\n    if (vis2[ney][nex])return false;\\n\\n  }\\n\\n  return true;\\n\\n}\\n\\n\\n\\nvoid output(int r,int c){\\n\\n  cout << \\\"begin\\\"<<endl;\\n\\n  rep(i,r){\\n\\n    rep(j,c){\\n\\n      if (vis2[i][j])cout << 2;\\n\\n      else cout << '0';\\n\\n    }\\n\\n    cout << endl;\\n\\n  }\\n\\n  cout <<endl;\\n\\n}\\n\\n\\n\\n\\n\\nint ans;\\n\\nbool isgoal;\\n\\nint md;\\n\\nbool bfs(int r,int c,int cnt,bool goal2){\\n\\n  static int q[N*N];\\n\\n  static int cost[N][N];\\n\\n  int sy3=-1,sx3=-1,gy3=-1,gx3=-1;\\n\\n  rep(i,r){\\n\\n    rep(j,c){\\n\\n      if (m[i][j] == 3){\\n\\n\\tif (sy3==-1)sy3=i,sx3=j;\\n\\n\\telse gy3=i,gx3=j;\\n\\n      }\\n\\n      cost[i][j]=inf;\\n\\n    }\\n\\n  }\\n\\n  int tail=0,head=0;\\n\\n  q[tail++]=sx3+sy3*c;\\n\\n  cost[sy3][sx3]=0;\\n\\n  while(head != tail){\\n\\n    int now = q[head++];\\n\\n    int x = now%c,y=now\\/c;\\n\\n    if (cnt+cost[y][x] >= ans)return false;\\n\\n    if (x == gx3 && y == gy3){\\n\\n      if (goal2)return true;\\n\\n      isgoal=true;\\n\\n      ans =min(ans,cnt+cost[y][x]);\\n\\n      return true;\\n\\n    }\\n\\n    rep(i,4){\\n\\n      int nex=x+dx[i],ney=y+dy[i];\\n\\n      if (nex==-1||ney==-1||nex==c||ney==r||vis2[ney][nex])continue;\\n\\n      if (m[ney][nex]==1||m[ney][nex] == 2)continue;\\n\\n      if (cost[ney][nex] != inf)continue;\\n\\n      cost[ney][nex]=cost[y][x]+1;\\n\\n      q[tail++]=ney*c+nex;\\n\\n    }\\n\\n  }\\n\\n  return false;\\n\\n}\\n\\n\\n\\nint path[N*N];\\n\\nint pattern[8][4]={\\n\\n  {2,1,1,0,},\\n\\n  {1,0,0,3,},\\n\\n  {0,3,3,2,},\\n\\n  {3,2,2,1,},\\n\\n  {2,3,3,0,},\\n\\n  {1,2,2,3,},\\n\\n  {0,1,1,2,},\\n\\n  {3,0,0,1,},\\n\\n};\\n\\n\\n\\nint cx[]={-1, 0,1, 0, 1, 0,-1, 0};\\n\\nint cy[]={ 0,-1,0, 1, 0, 1, 0,-1};\\n\\n\\n\\nbool isok2(int r,int c,int y,int x,int p){\\n\\n  if (p <4)return true;\\n\\n  rep(i,8){\\n\\n    bool ismatch=true;\\n\\n    rep(j,4){\\n\\n      if (pattern[i][j] == path[p-(4-j)]);\\n\\n      else ismatch=false;\\n\\n    }\\n\\n    if (!ismatch)continue;\\n\\n    int nex=x+cx[i],ney=y+cy[i];\\n\\n    if (nex==-1||ney==-1||nex==c||ney==r)continue;\\n\\n    if (m[ney][nex] == 0 && !vis2[ney][nex])return false;\\n\\n\\n\\n  }\\n\\n  return true;\\n\\n}\\n\\n\\n\\nvoid dfs(int r,int c,int y,int x,int cnt,int last,int gy2,int gx2){\\n\\n  if (!isok(r,c,y,x,last)){\\n\\n    return;\\n\\n  }\\n\\n  if (!isok2(r,c,y,x,cnt))return;\\n\\n\\n\\n  if (cnt+md >= ans)return;\\n\\n  \\/\\/  if (!bfs(r,c,cnt,true))return;\\n\\n\\n\\n  if (x == gx2 && y == gy2){\\n\\n    vis2[y][x]=true;\\n\\n    bfs(r,c,cnt,false);\\n\\n    vis2[y][x]=false;\\n\\n    return;\\n\\n  }\\n\\n\\n\\n  vis2[y][x]=true;\\n\\n  rep(i,4){\\n\\n    if (op[i] == last)continue;\\n\\n    int nex=x+dx[i],ney=y+dy[i];\\n\\n    if (nex==-1||ney==-1||nex==c||ney==r||vis2[ney][nex])continue;\\n\\n    if (m[ney][nex] == 3 || m[ney][nex] == 1)continue;\\n\\n    path[cnt]=i;\\n\\n    dfs(r,c,ney,nex,cnt+1,i,gy2,gx2);\\n\\n  }\\n\\n  vis2[y][x]=false;\\n\\n}\\n\\n\\n\\nint bfs2(int r,int c,int tar,int utar){\\n\\n  static int q[N*N];\\n\\n  static int cost[N][N];\\n\\n  int sy3=-1,sx3=-1,gy3=-1,gx3=-1;\\n\\n  rep(i,r){\\n\\n    rep(j,c){\\n\\n      if (m[i][j] == tar){\\n\\n\\tif (sy3==-1)sy3=i,sx3=j;\\n\\n\\telse gy3=i,gx3=j;\\n\\n      }\\n\\n      cost[i][j]=inf;\\n\\n    }\\n\\n  }\\n\\n  int tail=0,head=0;\\n\\n  q[tail++]=sx3+sy3*c;\\n\\n  cost[sy3][sx3]=0;\\n\\n  while(head != tail){\\n\\n    int now = q[head++];\\n\\n    int x = now%c,y=now\\/c;\\n\\n    if (x == gx3 && y == gy3){\\n\\n      return cost[y][x];\\n\\n    }\\n\\n    rep(i,4){\\n\\n      int nex=x+dx[i],ney=y+dy[i];\\n\\n      if (nex==-1||ney==-1||nex==c||ney==r||vis2[ney][nex])continue;\\n\\n      if (m[ney][nex]==1||m[ney][nex] == utar)continue;\\n\\n      if (cost[ney][nex] != inf)continue;\\n\\n      cost[ney][nex]=cost[y][x]+1;\\n\\n      q[tail++]=ney*c+nex;\\n\\n    }\\n\\n  }\\n\\n  return false;\\n\\n}\\n\\n\\n\\nmain(){\\n\\n  int r,c;\\n\\n  while(cin>>r>>c && r){\\n\\n    ans = r*c;\\n\\n    isgoal=false;\\n\\n    rep(i,r)rep(j,c)cin>>m[i][j];\\n\\n    rep(i,r)rep(j,c)vis2[i][j]=false;\\n\\n   \\n\\n    int sx2=-1,sy2=-1;\\n\\n    int gx2=-1,gy2=-1;\\n\\n    rep(i,r){\\n\\n      rep(j,c){\\n\\n\\tif (m[i][j] == 2){\\n\\n\\t  if (sx2 == -1)sx2=j,sy2=i;\\n\\n\\t  else gx2=j,gy2=i;\\n\\n\\t}\\n\\n      }\\n\\n    }\\n\\n    \\n\\n    int sx3=-1,sy3=-1,gx3=-1,gy3=-1;\\n\\n    rep(i,r){\\n\\n      rep(j,c){\\n\\n\\tif (m[i][j] == 3){\\n\\n\\t  if (sx3 == -1)sx3=j,sy3=i;\\n\\n\\t  else gx3=j,gy3=i;\\n\\n\\t}\\n\\n      }\\n\\n    }\\n\\n\\n\\n    md=bfs2(r,c,3,2);\\n\\n    \\n\\n    dfs(r,c,sy2,sx2,0,-1,gy2,gx2);\\n\\n    \\n\\n    if (isgoal)cout << ans << endl;\\n\\n    else cout << 0 << endl;\\n\\n  }\\n\\n  return false;\\n\\n}\",\"problem_id\":\"p00849\"}\n{\"original_code\":\"#include<iostream>\\n\\n#include<algorithm>\\n\\nusing namespace std;\\n\\n#define REP(i,b,n) for(int i=b;i<n;i++)\\n\\n#define rep(i,n)   REP(i,0,n)\\n\\n\\n\\nconst int N = 9;\\n\\nconst int inf = (1 <<21);\\n\\n\\n\\nint dx[]={0,1, 0,-1};\\n\\nint dy[]={1,0,-1,0};\\n\\nint op[]={2,3, 0,1};\\n\\nint m[N][N];\\n\\nbool vis2[N][N];\\n\\n\\n\\nbool isok(int r,int c,int y,int x,int last){\\n\\n  rep(i,4){\\n\\n    if (op[i] == last)continue;\\n\\n    int nex=x+dx[i],ney=y+dy[i];\\n\\n    if (nex==-1||ney==-1||nex==c||ney==r)continue;\\n\\n    if (vis2[ney][nex])return false;\\n\\n  }\\n\\n  return true;\\n\\n}\\n\\n\\n\\nvoid output(int r,int c){\\n\\n  cout << \\\"begin\\\"<<endl;\\n\\n  rep(i,r){\\n\\n    rep(j,c){\\n\\n      if (vis2[i][j])cout << 2;\\n\\n      else cout << '0';\\n\\n    }\\n\\n    cout << endl;\\n\\n  }\\n\\n  cout <<endl;\\n\\n}\\n\\n\\n\\n\\n\\nint ans;\\n\\nbool isgoal;\\n\\nint md;\\n\\nbool bfs(int r,int c,int cnt,bool goal2){\\n\\n  static int q[N*N];\\n\\n  static int cost[N][N];\\n\\n  int sy3=-1,sx3=-1,gy3=-1,gx3=-1;\\n\\n  rep(i,r){\\n\\n    rep(j,c){\\n\\n      if (m[i][j] == 3){\\n\\n\\tif (sy3==-1)sy3=i,sx3=j;\\n\\n\\telse gy3=i,gx3=j;\\n\\n      }\\n\\n      cost[i][j]=inf;\\n\\n    }\\n\\n  }\\n\\n  int tail=0,head=0;\\n\\n  q[tail++]=sx3+sy3*c;\\n\\n  cost[sy3][sx3]=0;\\n\\n  while(head != tail){\\n\\n    int now = q[head++];\\n\\n    int x = now%c,y=now\\/c;\\n\\n    if (cnt+cost[y][x] >= ans)return false;\\n\\n    if (x == gx3 && y == gy3){\\n\\n      if (goal2)return true;\\n\\n      isgoal=true;\\n\\n      ans =min(ans,cnt+cost[y][x]);\\n\\n      return true;\\n\\n    }\\n\\n    rep(i,4){\\n\\n      int nex=x+dx[i],ney=y+dy[i];\\n\\n      if (nex==-1||ney==-1||nex==c||ney==r||vis2[ney][nex])continue;\\n\\n      if (m[ney][nex]==1||m[ney][nex] == 2)continue;\\n\\n      if (cost[ney][nex] != inf)continue;\\n\\n      cost[ney][nex]=cost[y][x]+1;\\n\\n      q[tail++]=ney*c+nex;\\n\\n    }\\n\\n  }\\n\\n  return false;\\n\\n}\\n\\n\\n\\nint path[N*N];\\n\\nint pattern[8][4]={\\n\\n  {2,1,1,0,},\\n\\n  {1,0,0,3,},\\n\\n  {0,3,3,2,},\\n\\n  {3,2,2,1,},\\n\\n  {2,3,3,0,},\\n\\n  {1,2,2,3,},\\n\\n  {0,1,1,2,},\\n\\n  {3,0,0,1,},\\n\\n};\\n\\n\\n\\nint cx[]={-1, 0,1, 0, 1, 0,-1, 0};\\n\\nint cy[]={ 0,-1,0, 1, 0, 1, 0,-1};\\n\\n\\n\\nbool isok2(int r,int c,int y,int x,int p){\\n\\n  if (p <4)return true;\\n\\n  rep(i,8){\\n\\n    bool ismatch=true;\\n\\n    rep(j,4){\\n\\n      if (pattern[i][j] == path[p-(4-j)]);\\n\\n      else ismatch=false;\\n\\n    }\\n\\n    if (!ismatch)continue;\\n\\n    int nex=x+cx[i],ney=y+cy[i];\\n\\n    if (nex==-1||ney==-1||nex==c||ney==r)continue;\\n\\n    if (m[ney][nex] == 0 && !vis2[ney][nex])return false;\\n\\n\\n\\n  }\\n\\n  return true;\\n\\n}\\n\\n\\n\\nvoid dfs(int r,int c,int y,int x,int cnt,int last,int gy2,int gx2){\\n\\n  if (!isok(r,c,y,x,last)){\\n\\n    return;\\n\\n  }\\n\\n  if (!isok2(r,c,y,x,cnt))return;\\n\\n\\n\\n  if (cnt+md >= ans)return;\\n\\n  \\/\\/  if (!bfs(r,c,cnt,true))return;\\n\\n\\n\\n  if (x == gx2 && y == gy2){\\n\\n    vis2[y][x]=true;\\n\\n    bfs(r,c,cnt,false);\\n\\n    vis2[y][x]=false;\\n\\n    return;\\n\\n  }\\n\\n\\n\\n  vis2[y][x]=true;\\n\\n  rep(i,4){\\n\\n    if (op[i] == last)continue;\\n\\n    int nex=x+dx[i],ney=y+dy[i];\\n\\n    if (nex==-1||ney==-1||nex==c||ney==r||vis2[ney][nex])continue;\\n\\n    if (m[ney][nex] == 3 || m[ney][nex] == 1)continue;\\n\\n    path[cnt]=i;\\n\\n    dfs(r,c,ney,nex,cnt+1,i,gy2,gx2);\\n\\n  }\\n\\n  vis2[y][x]=false;\\n\\n}\\n\\n\\n\\nint bfs2(int r,int c,int tar,int utar){\\n\\n  static int q[N*N];\\n\\n  static int cost[N][N];\\n\\n  int sy3=-1,sx3=-1,gy3=-1,gx3=-1;\\n\\n  rep(i,r){\\n\\n    rep(j,c){\\n\\n      if (m[i][j] == tar){\\n\\n\\tif (sy3==-1)sy3=i,sx3=j;\\n\\n\\telse gy3=i,gx3=j;\\n\\n      }\\n\\n      cost[i][j]=inf;\\n\\n    }\\n\\n  }\\n\\n  int tail=0,head=0;\\n\\n  q[tail++]=sx3+sy3*c;\\n\\n  cost[sy3][sx3]=0;\\n\\n  while(head != tail){\\n\\n    int now = q[head++];\\n\\n    int x = now%c,y=now\\/c;\\n\\n    if (x == gx3 && y == gy3){\\n\\n      return cost[y][x];\\n\\n    }\\n\\n    rep(i,4){\\n\\n      int nex=x+dx[i],ney=y+dy[i];\\n\\n      if (nex==-1||ney==-1||nex==c||ney==r||vis2[ney][nex])continue;\\n\\n      if (m[ney][nex]==1||m[ney][nex] == utar)continue;\\n\\n      if (cost[ney][nex] != inf)continue;\\n\\n      cost[ney][nex]=cost[y][x]+1;\\n\\n      q[tail++]=ney*c+nex;\\n\\n    }\\n\\n  }\\n\\n  return false;\\n\\n}\\n\\n\\n\\nmain(){\\n\\n  int r,c;\\n\\n  while(cin>>r>>c && r){\\n\\n    ans = r*c;\\n\\n    isgoal=false;\\n\\n    rep(i,r)rep(j,c)cin>>m[i][j];\\n\\n    rep(i,r)rep(j,c)vis2[i][j]=false;\\n\\n   \\n\\n    int sx2=-1,sy2=-1;\\n\\n    int gx2=-1,gy2=-1;\\n\\n    rep(i,r){\\n\\n      rep(j,c){\\n\\n\\tif (m[i][j] == 2){\\n\\n\\t  if (sx2 == -1)sx2=j,sy2=i;\\n\\n\\t  else gx2=j,gy2=i;\\n\\n\\t}\\n\\n      }\\n\\n    }\\n\\n    \\n\\n    int sx3=-1,sy3=-1,gx3=-1,gy3=-1;\\n\\n    rep(i,r){\\n\\n      rep(j,c){\\n\\n\\tif (m[i][j] == 3){\\n\\n\\t  if (sx3 == -1)sx3=j,sy3=i;\\n\\n\\t  else gx3=j,gy3=i;\\n\\n\\t}\\n\\n      }\\n\\n    }\\n\\n\\n\\n    md=bfs2(r,c,3,2);\\n\\n    \\n\\n    dfs(r,c,sy2,sx2,0,-1,gy2,gx2);\\n\\n    \\n\\n    if (isgoal)cout << ans << endl;\\n\\n    else cout << 0 << endl;\\n\\n  }\\n\\n  return false;\\n\\n}\",\"improved_code\":\"#include<iostream>\\n\\n#include<algorithm>\\n\\nusing namespace std;\\n\\n#define REP(i,b,n) for(int i=b;i<n;i++)\\n\\n#define rep(i,n)   REP(i,0,n)\\n\\n\\n\\nconst int N = 9;\\n\\nconst int inf = (1 <<21);\\n\\n\\n\\nint dx[]={0,1, 0,-1};\\n\\nint dy[]={1,0,-1,0};\\n\\nint op[]={2,3, 0,1};\\n\\nint m[N][N];\\n\\nbool vis2[N][N];\\n\\n\\n\\nbool isok(int r,int c,int y,int x,int last){\\n\\n  rep(i,4){\\n\\n    if (op[i] == last)continue;\\n\\n    int nex=x+dx[i],ney=y+dy[i];\\n\\n    if (nex==-1||ney==-1||nex==c||ney==r)continue;\\n\\n    if (vis2[ney][nex])return false;\\n\\n  }\\n\\n  return true;\\n\\n}\\n\\n\\n\\nint ans;\\n\\nbool isgoal;\\n\\nint md;\\n\\nbool bfs(int r,int c,int cnt,bool goal2){\\n\\n  static int q[N*N];\\n\\n  static int cost[N][N];\\n\\n  int sy3=-1,sx3=-1,gy3=-1,gx3=-1;\\n\\n  rep(i,r){\\n\\n    rep(j,c){\\n\\n      if (m[i][j] == 3){\\n\\n\\tif (sy3==-1)sy3=i,sx3=j;\\n\\n\\telse gy3=i,gx3=j;\\n\\n      }\\n\\n      cost[i][j]=inf;\\n\\n    }\\n\\n  }\\n\\n  int tail=0,head=0;\\n\\n  q[tail++]=sx3+sy3*c;\\n\\n  cost[sy3][sx3]=0;\\n\\n  while(head != tail){\\n\\n    int now = q[head++];\\n\\n    int x = now%c,y=now\\/c;\\n\\n    if (cnt+cost[y][x] >= ans)return false;\\n\\n    if (x == gx3 && y == gy3){\\n\\n      if (goal2)return true;\\n\\n      isgoal=true;\\n\\n      ans =min(ans,cnt+cost[y][x]);\\n\\n      return true;\\n\\n    }\\n\\n    rep(i,4){\\n\\n      int nex=x+dx[i],ney=y+dy[i];\\n\\n      if (nex==-1||ney==-1||nex==c||ney==r||vis2[ney][nex])continue;\\n\\n      if (m[ney][nex]==1||m[ney][nex] == 2)continue;\\n\\n      if (cost[ney][nex] != inf)continue;\\n\\n      cost[ney][nex]=cost[y][x]+1;\\n\\n      q[tail++]=ney*c+nex;\\n\\n    }\\n\\n  }\\n\\n  return false;\\n\\n}\\n\\n\\n\\nint path[N*N];\\n\\nint pattern[8][4]={\\n\\n  {2,1,1,0,},\\n\\n  {1,0,0,3,},\\n\\n  {0,3,3,2,},\\n\\n  {3,2,2,1,},\\n\\n  {2,3,3,0,},\\n\\n  {1,2,2,3,},\\n\\n  {0,1,1,2,},\\n\\n  {3,0,0,1,},\\n\\n};\\n\\n\\n\\nint cx[]={-1, 0,1, 0, 1, 0,-1, 0};\\n\\nint cy[]={ 0,-1,0, 1, 0, 1, 0,-1};\\n\\n\\n\\nbool isok2(int r,int c,int y,int x,int p){\\n\\n  if (p <4)return true;\\n\\n  rep(i,8){\\n\\n    bool ismatch=true;\\n\\n    rep(j,4){\\n\\n      if (pattern[i][j] == path[p-(4-j)]);\\n\\n      else ismatch=false;\\n\\n    }\\n\\n    if (!ismatch)continue;\\n\\n    int nex=x+cx[i],ney=y+cy[i];\\n\\n    if (nex==-1||ney==-1||nex==c||ney==r)continue;\\n\\n    if (m[ney][nex] == 0 && !vis2[ney][nex])return false;\\n\\n\\n\\n  }\\n\\n  return true;\\n\\n}\\n\\n\\n\\nvoid dfs(int r,int c,int y,int x,int cnt,int last,int gy2,int gx2){\\n\\n  if (!isok(r,c,y,x,last)){\\n\\n    return;\\n\\n  }\\n\\n  if (!isok2(r,c,y,x,cnt))return;\\n\\n\\n\\n  if (cnt+md >= ans)return;\\n\\n  \\/\\/  if (!bfs(r,c,cnt,true))return;\\n\\n\\n\\n  if (x == gx2 && y == gy2){\\n\\n    vis2[y][x]=true;\\n\\n    bfs(r,c,cnt,false);\\n\\n    vis2[y][x]=false;\\n\\n    return;\\n\\n  }\\n\\n\\n\\n  vis2[y][x]=true;\\n\\n  rep(i,4){\\n\\n    if (op[i] == last)continue;\\n\\n    int nex=x+dx[i],ney=y+dy[i];\\n\\n    if (nex==-1||ney==-1||nex==c||ney==r||vis2[ney][nex])continue;\\n\\n    if (m[ney][nex] == 3 || m[ney][nex] == 1)continue;\\n\\n    path[cnt]=i;\\n\\n    dfs(r,c,ney,nex,cnt+1,i,gy2,gx2);\\n\\n  }\\n\\n  vis2[y][x]=false;\\n\\n}\\n\\n\\n\\nint bfs2(int r,int c,int tar,int utar){\\n\\n  static int q[N*N];\\n\\n  static int cost[N][N];\\n\\n  int sy3=-1,sx3=-1,gy3=-1,gx3=-1;\\n\\n  rep(i,r){\\n\\n    rep(j,c){\\n\\n      if (m[i][j] == tar){\\n\\n\\tif (sy3==-1)sy3=i,sx3=j;\\n\\n\\telse gy3=i,gx3=j;\\n\\n      }\\n\\n      cost[i][j]=inf;\\n\\n    }\\n\\n  }\\n\\n  int tail=0,head=0;\\n\\n  q[tail++]=sx3+sy3*c;\\n\\n  cost[sy3][sx3]=0;\\n\\n  while(head != tail){\\n\\n    int now = q[head++];\\n\\n    int x = now%c,y=now\\/c;\\n\\n    if (x == gx3 && y == gy3){\\n\\n      return cost[y][x];\\n\\n    }\\n\\n    rep(i,4){\\n\\n      int nex=x+dx[i],ney=y+dy[i];\\n\\n      if (nex==-1||ney==-1||nex==c||ney==r||vis2[ney][nex])continue;\\n\\n      if (m[ney][nex]==1||m[ney][nex] == utar)continue;\\n\\n      if (cost[ney][nex] != inf)continue;\\n\\n      cost[ney][nex]=cost[y][x]+1;\\n\\n      q[tail++]=ney*c+nex;\\n\\n    }\\n\\n  }\\n\\n  return false;\\n\\n}\\n\\n\\n\\nmain(){\\n\\n  int r,c;\\n\\n  while(cin>>r>>c && r){\\n\\n    ans = r*c;\\n\\n    isgoal=false;\\n\\n    rep(i,r)rep(j,c)cin>>m[i][j];\\n\\n    rep(i,r)rep(j,c)vis2[i][j]=false;\\n\\n   \\n\\n    int sx2=-1,sy2=-1;\\n\\n    int gx2=-1,gy2=-1;\\n\\n    rep(i,r){\\n\\n      rep(j,c){\\n\\n\\tif (m[i][j] == 2){\\n\\n\\t  if (sx2 == -1)sx2=j,sy2=i;\\n\\n\\t  else gx2=j,gy2=i;\\n\\n\\t}\\n\\n      }\\n\\n    }\\n\\n    \\n\\n    int sx3=-1,sy3=-1,gx3=-1,gy3=-1;\\n\\n    rep(i,r){\\n\\n      rep(j,c){\\n\\n\\tif (m[i][j] == 3){\\n\\n\\t  if (sx3 == -1)sx3=j,sy3=i;\\n\\n\\t  else gx3=j,gy3=i;\\n\\n\\t}\\n\\n      }\\n\\n    }\\n\\n\\n\\n    md=bfs2(r,c,3,2);\\n\\n    \\n\\n    dfs(r,c,sy2,sx2,0,-1,gy2,gx2);\\n\\n    \\n\\n    if (isgoal)cout << ans << endl;\\n\\n    else cout << 0 << endl;\\n\\n  }\\n\\n  return false;\\n\\n}\",\"problem_id\":\"p00849\"}\n"
      ]
     },
     "execution_count": null,
     "metadata": {},
     "output_type": "execute_result"
    }
   ],
   "source": [
    "!head data/my_data/filtered_programs.jsonl"
   ]
  },
  {
   "cell_type": "markdown",
   "id": "d4d9b7b6",
   "metadata": {},
   "source": [
    "### Step 55"
   ]
  },
  {
   "cell_type": "markdown",
   "id": "b544f424",
   "metadata": {},
   "source": [
    "Execution Start time: 05:46:41, End time: 05:46:41 (duration: 0 seconds)"
   ]
  },
  {
   "cell_type": "markdown",
   "id": "edaa6ca0",
   "metadata": {},
   "source": [
    "**Thought**: Exit due to context window"
   ]
  },
  {
   "cell_type": "markdown",
   "id": "8c9aab10",
   "metadata": {},
   "source": [
    "**Action (None)**:"
   ]
  },
  {
   "cell_type": "code",
   "execution_count": null,
   "id": "09d3e625",
   "metadata": {},
   "outputs": [
    {
     "data": {
      "text/plain": [
       "Exited"
      ]
     },
     "execution_count": null,
     "metadata": {},
     "output_type": "execute_result"
    }
   ],
   "source": [
    "exit_context"
   ]
  }
 ],
 "metadata": {},
 "nbformat": 4,
 "nbformat_minor": 5
}
