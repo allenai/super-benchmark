{
 "cells": [
  {
   "cell_type": "markdown",
   "id": "0b90156f",
   "metadata": {},
   "source": [
    "### System Prompt\n",
    "<details>\n",
    "SETTING: You are an autonomous programmer, and you're working directly in the command line with a special Jupyter notebook interface.\n",
    "\n",
    "The special Jupyter notebook interface consists of a file editor that shows you 100 lines of a file at a time.\n",
    "You can execute commands in the notebook using:\n",
    "\n",
    "1. Bash commands: Commands starting with !.\n",
    "2. Python commands: Standard Python code.\n",
    "3. Magic commands: Commands starting with %, e.g., %cd <path>.\n",
    "\n",
    "Additionally, you can also use the following commands to help you navigate and edit files.\n",
    "\n",
    "COMMANDS:\n",
    "\n",
    "open:\n",
    "  docstring: opens the file at the given path in the editor. If line_number is provided, the window will be move to include that line\n",
    "  signature: open <path> [<line_number>]\n",
    "  arguments:\n",
    "    - path (string) [required]: the path to the file to open\n",
    "    - line_number (integer) [optional]: the line number to move the window to (if not provided, the window will start at the top of the file)\n",
    "\n",
    "create:\n",
    "  docstring: creates and opens a new file with the given name\n",
    "  signature: create <filename>\n",
    "  arguments:\n",
    "    - filename (string) [required]: the name of the file to create\n",
    "\n",
    "goto:\n",
    "  docstring: moves the window to show <line_number>\n",
    "  signature: goto <line_number>\n",
    "  arguments:\n",
    "    - line_number (integer) [required]: the line number to move the window to\n",
    "\n",
    "scroll_down:\n",
    "  docstring: moves the window down {WINDOW} lines\n",
    "  signature: scroll_down\n",
    "\n",
    "scroll_up:\n",
    "  docstring: moves the window down {WINDOW} lines\n",
    "  signature: scroll_up\n",
    "\n",
    "submit:\n",
    "  docstring: submits your final answer\n",
    "  signature: submit <answer>\n",
    "  arguments:\n",
    "    - answer (string) [required]: the answer to be submitted\n",
    "\n",
    "search_dir:\n",
    "  docstring: searches for search_term in all files in dir_path. If dir_path is not provided, searches in the current directory\n",
    "  signature: search_dir <search_term> [<dir_path>]\n",
    "  arguments:\n",
    "    - search_term (string) [required]: the term to search for\n",
    "    - dir_path (string) [optional]: the directory to search in (if not provided, searches in the current directory)\n",
    "\n",
    "search_file:\n",
    "  docstring: searches for search_term in file. If file is not provided, searches in the current open file\n",
    "  signature: search_file <search_term> [<file>]\n",
    "  arguments:\n",
    "    - search_term (string) [required]: the term to search for\n",
    "    - file (string) [optional]: the file to search in (if not provided, searches in the current open file)\n",
    "\n",
    "find_file:\n",
    "  docstring: finds all files with the given name in dir_path. If dir_path is not provided, searches in the current directory\n",
    "  signature: find_file <file_name> [<dir_path>]\n",
    "  arguments:\n",
    "    - file_name (string) [required]: the name of the file to search for\n",
    "    - dir_path (string) [optional]: the directory to search in (if not provided, searches in the current directory)\n",
    "\n",
    "edit:\n",
    "  docstring: replaces lines <start_line> through <end_line> (inclusive) with the given text in the open file. The replacement text is terminated by a line with only end_of_edit on it. All of the <replacement text> will be entered, so make sure your indentation is formatted properly. Python files will be checked for syntax errors after the edit. If the system detects a syntax error, the edit will not be executed. Simply try to edit the file again, but make sure to read the error message and modify the edit command you issue accordingly. Issuing the same command a second time will just lead to the same error message again.\n",
    "  signature: edit <start_line>:<end_line>\n",
    "<replacement_text>\n",
    "end_of_edit\n",
    "  arguments:\n",
    "    - start_line (integer) [required]: the line number to start the edit at\n",
    "    - end_line (integer) [required]: the line number to end the edit at (inclusive)\n",
    "    - replacement_text (string) [required]: the text to replace the current selection with\n",
    "\n",
    "\n",
    "\n",
    "Please note that THE EDIT COMMAND REQUIRES PROPER INDENTATION. \n",
    "If you'd like to add the line '        print(x)' you must fully write that out, with all those spaces before the code! Indentation is important and code that is not indented correctly will fail and require fixing before it can be run.\n",
    "\n",
    "RESPONSE FORMAT:\n",
    "Your shell prompt is formatted as follows:\n",
    "(Open file: <path>)\n",
    "(Current directory: <cwd>)\n",
    "In [ ]\n",
    "\n",
    "You need to format your output using two fields: discussion and command.\n",
    "Your output should always include _one_ discussion and _one_ command field EXACTLY as in the following example:\n",
    "DISCUSSION\n",
    "First I'll start by using ls to see what files are in the current directory. Then maybe we can look at some relevant files to see what they look like.\n",
    "```\n",
    "!ls -a\n",
    "```\n",
    "\n",
    "You should only include a *SINGLE* command in the command section and then wait for a response from the shell before continuing with more discussion and commands. Everything you include in the DISCUSSION section will be saved for future reference.\n",
    "If you'd like to issue two commands at once, PLEASE DO NOT DO THAT! Please instead first submit just the first command, and then after receiving a response you'll be able to issue the second command. \n",
    "You're free to use any other bash commands you want (e.g. find, grep, cat, ls, cd) in addition to the special commands listed above.\n",
    "</details>\n"
   ]
  },
  {
   "cell_type": "markdown",
   "id": "0a983a41",
   "metadata": {},
   "source": [
    "### Query\n",
    "Compute data-label alignment on our entailment dataset, located at https://drive.google.com/file/d/1raGLX-2vdX1uizYx2DdqZ_JzAkVeyeDF/view?usp=drive_link, using the `run-on-your-own-data.py` script with the bag-of-words representation. Report the data-dependent complexity (ddc) for both representations as a json structured as follows: {\"bag-of-words-ddc\": 0.0} (replace 0.0 with the actual values).\n",
    "\n",
    "Additional instructions:\n",
    "1. Only load the first 10 examples of each (training/validation/test) set in the dataset.\n",
    "2. Run for only 1 epoch.\n",
    "3. Set the sample size to 2.\n",
    "\n",
    "Git repository: https://github.com/gyauney/data-label-alignment\n",
    "\n",
    "I have already executed some of the required steps. Now, your goal is to complete the remaining steps and submit the answer."
   ]
  },
  {
   "cell_type": "markdown",
   "id": "01115d27",
   "metadata": {},
   "source": [
    "### Step 1"
   ]
  },
  {
   "cell_type": "markdown",
   "id": "76803290",
   "metadata": {},
   "source": [
    "**Thought**: [pre-executed by user]"
   ]
  },
  {
   "cell_type": "markdown",
   "id": "beb674c1",
   "metadata": {},
   "source": [
    "**Action (None)**:"
   ]
  },
  {
   "cell_type": "code",
   "execution_count": null,
   "id": "13144e8a",
   "metadata": {},
   "outputs": [
    {
     "data": {
      "text/plain": [
       "Cloning into 'data-label-alignment'...\r\nremote: Enumerating objects: 36, done.\u001b[K\r\nremote: Counting objects:   2% (1/36)\u001b[K\rremote: Counting objects:   5% (2/36)\u001b[K\rremote: Counting objects:   8% (3/36)\u001b[K\rremote: Counting objects:  11% (4/36)\u001b[K\rremote: Counting objects:  13% (5/36)\u001b[K\rremote: Counting objects:  16% (6/36)\u001b[K\rremote: Counting objects:  19% (7/36)\u001b[K\rremote: Counting objects:  22% (8/36)\u001b[K\rremote: Counting objects:  25% (9/36)\u001b[K\rremote: Counting objects:  27% (10/36)\u001b[K\rremote: Counting objects:  30% (11/36)\u001b[K\rremote: Counting objects:  33% (12/36)\u001b[K\rremote: Counting objects:  36% (13/36)\u001b[K\rremote: Counting objects:  38% (14/36)\u001b[K\rremote: Counting objects:  41% (15/36)\u001b[K\rremote: Counting objects:  44% (16/36)\u001b[K\rremote: Counting objects:  47% (17/36)\u001b[K\rremote: Counting objects:  50% (18/36)\u001b[K\rremote: Counting objects:  52% (19/36)\u001b[K\rremote: Counting objects:  55% (20/36)\u001b[K\rremote: Counting objects:  58% (21/36)\u001b[K\rremote: Counting objects:  61% (22/36)\u001b[K\rremote: Counting objects:  63% (23/36)\u001b[K\rremote: Counting objects:  66% (24/36)\u001b[K\rremote: Counting objects:  69% (25/36)\u001b[K\rremote: Counting objects:  72% (26/36)\u001b[K\rremote: Counting objects:  75% (27/36)\u001b[K\rremote: Counting objects:  77% (28/36)\u001b[K\rremote: Counting objects:  80% (29/36)\u001b[K\rremote: Counting objects:  83% (30/36)\u001b[K\rremote: Counting objects:  86% (31/36)\u001b[K\rremote: Counting objects:  88% (32/36)\u001b[K\rremote: Counting objects:  91% (33/36)\u001b[K\rremote: Counting objects:  94% (34/36)\u001b[K\rremote: Counting objects:  97% (35/36)\u001b[K\rremote: Counting objects: 100% (36/36)\u001b[K\rremote: Counting objects: 100% (36/36), done.\u001b[K\r\nremote: Compressing objects:   3% (1/32)\u001b[K\rremote: Compressing objects:   6% (2/32)\u001b[K\rremote: Compressing objects:   9% (3/32)\u001b[K\rremote: Compressing objects:  12% (4/32)\u001b[K\rremote: Compressing objects:  15% (5/32)\u001b[K\rremote: Compressing objects:  18% (6/32)\u001b[K\rremote: Compressing objects:  21% (7/32)\u001b[K\rremote: Compressing objects:  25% (8/32)\u001b[K\rremote: Compressing objects:  28% (9/32)\u001b[K\rremote: Compressing objects:  31% (10/32)\u001b[K\rremote: Compressing objects:  34% (11/32)\u001b[K\rremote: Compressing objects:  37% (12/32)\u001b[K\rremote: Compressing objects:  40% (13/32)\u001b[K\rremote: Compressing objects:  43% (14/32)\u001b[K\rremote: Compressing objects:  46% (15/32)\u001b[K\rremote: Compressing objects:  50% (16/32)\u001b[K\rremote: Compressing objects:  53% (17/32)\u001b[K\rremote: Compressing objects:  56% (18/32)\u001b[K\rremote: Compressing objects:  59% (19/32)\u001b[K\rremote: Compressing objects:  62% (20/32)\u001b[K\rremote: Compressing objects:  65% (21/32)\u001b[K\rremote: Compressing objects:  68% (22/32)\u001b[K\rremote: Compressing objects:  71% (23/32)\u001b[K\rremote: Compressing objects:  75% (24/32)\u001b[K\rremote: Compressing objects:  78% (25/32)\u001b[K\rremote: Compressing objects:  81% (26/32)\u001b[K\rremote: Compressing objects:  84% (27/32)\u001b[K\rremote: Compressing objects:  87% (28/32)\u001b[K\rremote: Compressing objects:  90% (29/32)\u001b[K\rremote: Compressing objects:  93% (30/32)\u001b[K\rremote: Compressing objects:  96% (31/32)\u001b[K\rremote: Compressing objects: 100% (32/32)\u001b[K\rremote: Compressing objects: 100% (32/32), done.\u001b[K\r\nReceiving objects:   2% (1/36)\rReceiving objects:   5% (2/36)\rReceiving objects:   8% (3/36)\rReceiving objects:  11% (4/36)\rReceiving objects:  13% (5/36)\rReceiving objects:  16% (6/36)\rReceiving objects:  19% (7/36)\rReceiving objects:  22% (8/36)\rReceiving objects:  25% (9/36)\rReceiving objects:  27% (10/36)\rReceiving objects:  30% (11/36)\rReceiving objects:  33% (12/36)\rReceiving objects:  36% (13/36)\rReceiving objects:  38% (14/36)\rReceiving objects:  41% (15/36)\rReceiving objects:  44% (16/36)\rReceiving objects:  47% (17/36)\rReceiving objects:  50% (18/36)\rReceiving objects:  52% (19/36)\rReceiving objects:  55% (20/36)\rReceiving objects:  58% (21/36)\rReceiving objects:  61% (22/36)\rReceiving objects:  63% (23/36)\rReceiving objects:  66% (24/36)\rReceiving objects:  69% (25/36)\rremote: Total 36 (delta 7), reused 27 (delta 3), pack-reused 0 (from 0)\u001b[K\r\nReceiving objects:  72% (26/36)\rReceiving objects:  75% (27/36)\rReceiving objects:  77% (28/36)\rReceiving objects:  80% (29/36)\rReceiving objects:  83% (30/36)\rReceiving objects:  86% (31/36)\rReceiving objects:  88% (32/36)\rReceiving objects:  91% (33/36)\rReceiving objects:  94% (34/36)\rReceiving objects:  97% (35/36)\rReceiving objects: 100% (36/36)\rReceiving objects: 100% (36/36), 886.49 KiB | 3.82 MiB/s, done.\r\nResolving deltas:   0% (0/7)\rResolving deltas:  14% (1/7)\rResolving deltas:  28% (2/7)\rResolving deltas:  42% (3/7)\rResolving deltas:  57% (4/7)\rResolving deltas:  71% (5/7)\rResolving deltas:  85% (6/7)\rResolving deltas: 100% (7/7)\rResolving deltas: 100% (7/7), done.\r\n"
      ]
     },
     "execution_count": null,
     "metadata": {},
     "output_type": "execute_result"
    }
   ],
   "source": [
    "!git clone https://github.com/gyauney/data-label-alignment"
   ]
  },
  {
   "cell_type": "markdown",
   "id": "8386d9cf",
   "metadata": {},
   "source": [
    "### Step 2"
   ]
  },
  {
   "cell_type": "markdown",
   "id": "88efbae5",
   "metadata": {},
   "source": [
    "**Thought**: [pre-executed by user]"
   ]
  },
  {
   "cell_type": "markdown",
   "id": "3541ae57",
   "metadata": {},
   "source": [
    "**Action (None)**:"
   ]
  },
  {
   "cell_type": "code",
   "execution_count": null,
   "id": "bc9ffc0b",
   "metadata": {},
   "outputs": [
    {
     "data": {
      "text/plain": [
       "/content/data-label-alignment\n/usr/local/lib/python3.10/site-packages/IPython/core/magics/osm.py:417: UserWarning: This is now an optional IPython functionality, setting dhist requires you to install the `pickleshare` library.\n  self.shell.db['dhist'] = compress_dhist(dhist)[-100:]\n"
      ]
     },
     "execution_count": null,
     "metadata": {},
     "output_type": "execute_result"
    }
   ],
   "source": [
    "%cd data-label-alignment"
   ]
  },
  {
   "cell_type": "markdown",
   "id": "fd044397",
   "metadata": {},
   "source": [
    "### Step 3"
   ]
  },
  {
   "cell_type": "markdown",
   "id": "de8c5edd",
   "metadata": {},
   "source": [
    "**Thought**: [pre-executed by user]"
   ]
  },
  {
   "cell_type": "markdown",
   "id": "a7cccc28",
   "metadata": {},
   "source": [
    "**Action (None)**:"
   ]
  },
  {
   "cell_type": "code",
   "execution_count": null,
   "id": "85dadb76",
   "metadata": {},
   "outputs": [
    {
     "data": {
      "text/plain": [
       "Collecting certifi==2020.12.5 (from -r requirements.txt (line 1))\r\n  Downloading certifi-2020.12.5-py2.py3-none-any.whl.metadata (3.0 kB)\r\nCollecting chardet==4.0.0 (from -r requirements.txt (line 2))\r\n  Downloading chardet-4.0.0-py2.py3-none-any.whl.metadata (3.5 kB)\r\nCollecting click==7.1.2 (from -r requirements.txt (line 3))\r\n  Downloading click-7.1.2-py2.py3-none-any.whl.metadata (2.9 kB)\r\nCollecting cycler==0.10.0 (from -r requirements.txt (line 4))\r\n  Downloading cycler-0.10.0-py2.py3-none-any.whl.metadata (722 bytes)\r\nCollecting datasets==1.6.2 (from -r requirements.txt (line 5))\r\n  Downloading datasets-1.6.2-py3-none-any.whl.metadata (9.2 kB)\r\nCollecting dill==0.3.3 (from -r requirements.txt (line 6))\r\n  Downloading dill-0.3.3-py2.py3-none-any.whl.metadata (6.8 kB)\r\nCollecting filelock==3.0.12 (from -r requirements.txt (line 7))\r\n  Downloading filelock-3.0.12-py3-none-any.whl.metadata (4.3 kB)\r\nCollecting fsspec==2021.4.0 (from -r requirements.txt (line 8))\r\n  Downloading fsspec-2021.4.0-py3-none-any.whl.metadata (5.2 kB)\r\nCollecting future==0.18.2 (from -r requirements.txt (line 9))\r\n  Downloading future-0.18.2.tar.gz (829 kB)\r\n\u001b[?25l     \u001b[90m━━━━━━━━━━━━━━━━━━━━━━━━━━━━━━━━━━━━━━━━\u001b[0m \u001b[32m0.0/829.2 kB\u001b[0m \u001b[31m?\u001b[0m eta \u001b[36m-:--:--\u001b[0m\r\u001b[2K     \u001b[90m━━━━━━━━━━━━━━━━━━━━━━━━━━━━━━━━━━━━━━\u001b[0m \u001b[32m829.2/829.2 kB\u001b[0m \u001b[31m38.0 MB/s\u001b[0m eta \u001b[36m0:00:00\u001b[0m\r\n\u001b[?25h  Installing build dependencies ... \u001b[?25l-\b \b\\\b \b|\b \b/\b \bdone\r\n\u001b[?25h  Getting requirements to build wheel ... \u001b[?25l-\b \b\\\b \bdone\r\n\u001b[?25h  Preparing metadata (pyproject.toml) ... \u001b[?25l-\b \b\\\b \bdone\r\n\u001b[?25hCollecting huggingface-hub==0.0.8 (from -r requirements.txt (line 10))\r\n  Downloading huggingface_hub-0.0.8-py3-none-any.whl.metadata (8.7 kB)\r\nCollecting idna==2.10 (from -r requirements.txt (line 11))\r\n  Downloading idna-2.10-py2.py3-none-any.whl.metadata (9.1 kB)\r\nCollecting joblib==1.0.1 (from -r requirements.txt (line 12))\r\n  Downloading joblib-1.0.1-py3-none-any.whl.metadata (6.8 kB)\r\nCollecting kiwisolver==1.3.1 (from -r requirements.txt (line 13))\r\n  Downloading kiwisolver-1.3.1.tar.gz (53 kB)\r\n\u001b[?25l     \u001b[90m━━━━━━━━━━━━━━━━━━━━━━━━━━━━━━━━━━━━━━━━\u001b[0m \u001b[32m0.0/53.1 kB\u001b[0m \u001b[31m?\u001b[0m eta \u001b[36m-:--:--\u001b[0m\r\u001b[2K     \u001b[90m━━━━━━━━━━━━━━━━━━━━━━━━━━━━━━━━━━━━━━━\u001b[0m \u001b[32m53.1/53.1 kB\u001b[0m \u001b[31m122.1 MB/s\u001b[0m eta \u001b[36m0:00:00\u001b[0m\r\n\u001b[?25h  Installing build dependencies ... \u001b[?25l-\b \b\\\b \b|\b \b/\b \bdone\r\n\u001b[?25h  Getting requirements to build wheel ... \u001b[?25ldone\r\n\u001b[?25h  Installing backend dependencies ... \u001b[?25l-\b \b\\\b \b|\b \bdone\r\n\u001b[?25h  Preparing metadata (pyproject.toml) ... \u001b[?25l-\b \bdone\r\n\u001b[?25hCollecting matplotlib==3.4.1 (from -r requirements.txt (line 14))\r\n  Downloading matplotlib-3.4.1.tar.gz (37.3 MB)\r\n\u001b[?25l     \u001b[90m━━━━━━━━━━━━━━━━━━━━━━━━━━━━━━━━━━━━━━━━\u001b[0m \u001b[32m0.0/37.3 MB\u001b[0m \u001b[31m?\u001b[0m eta \u001b[36m-:--:--\u001b[0m\r\u001b[2K     \u001b[91m━\u001b[0m\u001b[90m╺\u001b[0m\u001b[90m━━━━━━━━━━━━━━━━━━━━━━━━━━━━━━━━━━━━━━\u001b[0m \u001b[32m1.0/37.3 MB\u001b[0m \u001b[31m120.6 MB/s\u001b[0m eta \u001b[36m0:00:01\u001b[0m\r\u001b[2K     \u001b[91m━━━━\u001b[0m\u001b[90m╺\u001b[0m\u001b[90m━━━━━━━━━━━━━━━━━━━━━━━━━━━━━━━━━━━\u001b[0m \u001b[32m4.1/37.3 MB\u001b[0m \u001b[31m46.8 MB/s\u001b[0m eta \u001b[36m0:00:01\u001b[0m\r\u001b[2K     \u001b[91m━━━━━━━━\u001b[0m\u001b[91m╸\u001b[0m\u001b[90m━━━━━━━━━━━━━━━━━━━━━━━━━━━━━━━\u001b[0m \u001b[32m8.3/37.3 MB\u001b[0m \u001b[31m67.9 MB/s\u001b[0m eta \u001b[36m0:00:01\u001b[0m\r\u001b[2K     \u001b[91m━━━━━━━━━━━━━\u001b[0m\u001b[91m╸\u001b[0m\u001b[90m━━━━━━━━━━━━━━━━━━━━━━━━━\u001b[0m \u001b[32m13.0/37.3 MB\u001b[0m \u001b[31m115.2 MB/s\u001b[0m eta \u001b[36m0:00:01\u001b[0m\r\u001b[2K     \u001b[91m━━━━━━━━━━━━━━━━━━\u001b[0m\u001b[90m╺\u001b[0m\u001b[90m━━━━━━━━━━━━━━━━━━━━\u001b[0m \u001b[32m17.3/37.3 MB\u001b[0m \u001b[31m122.4 MB/s\u001b[0m eta \u001b[36m0:00:01\u001b[0m\r\u001b[2K     \u001b[91m━━━━━━━━━━━━━━━━━━━━━\u001b[0m\u001b[91m╸\u001b[0m\u001b[90m━━━━━━━━━━━━━━━━━\u001b[0m \u001b[32m20.7/37.3 MB\u001b[0m \u001b[31m114.7 MB/s\u001b[0m eta \u001b[36m0:00:01\u001b[0m\r\u001b[2K     \u001b[91m━━━━━━━━━━━━━━━━━━━━━━━━━\u001b[0m\u001b[91m╸\u001b[0m\u001b[90m━━━━━━━━━━━━━\u001b[0m \u001b[32m24.8/37.3 MB\u001b[0m \u001b[31m108.0 MB/s\u001b[0m eta \u001b[36m0:00:01\u001b[0m\r\u001b[2K     \u001b[91m━━━━━━━━━━━━━━━━━━━━━━━━━━━━━\u001b[0m\u001b[90m╺\u001b[0m\u001b[90m━━━━━━━━━\u001b[0m \u001b[32m28.0/37.3 MB\u001b[0m \u001b[31m100.3 MB/s\u001b[0m eta \u001b[36m0:00:01\u001b[0m\r\u001b[2K     \u001b[91m━━━━━━━━━━━━━━━━━━━━━━━━━━━━━━━━━\u001b[0m\u001b[90m╺\u001b[0m\u001b[90m━━━━━━\u001b[0m \u001b[32m31.1/37.3 MB\u001b[0m \u001b[31m99.9 MB/s\u001b[0m eta \u001b[36m0:00:01\u001b[0m\r\u001b[2K     \u001b[91m━━━━━━━━━━━━━━━━━━━━━━━━━━━━━━━━━━━━━\u001b[0m\u001b[90m╺\u001b[0m\u001b[90m━━\u001b[0m \u001b[32m34.5/37.3 MB\u001b[0m \u001b[31m91.2 MB/s\u001b[0m eta \u001b[36m0:00:01\u001b[0m\r\u001b[2K     \u001b[90m━━━━━━━━━━━━━━━━━━━━━━━━━━━━━━━━━━━━━━━━\u001b[0m \u001b[32m37.3/37.3 MB\u001b[0m \u001b[31m98.3 MB/s\u001b[0m eta \u001b[36m0:00:00\u001b[0m\r\n\u001b[?25h  Installing build dependencies ... \u001b[?25l-\b \b\\\b \b|\b \b/\b \b-\b \bdone\r\n\u001b[?25h  Getting requirements to build wheel ... \u001b[?25l-\b \bdone\r\n\u001b[?25h  Installing backend dependencies ... \u001b[?25l-\b \b\\\b \b|\b \b/\b \b-\b \b\\\b \bdone\r\n\u001b[?25h  Preparing metadata (pyproject.toml) ... \u001b[?25l-\b \b\\\b \b|\b \b/\b \bdone\r\n\u001b[?25hCollecting multiprocess==0.70.11.1 (from -r requirements.txt (line 15))\r\n  Downloading multiprocess-0.70.11.1-py39-none-any.whl.metadata (5.1 kB)\r\nCollecting numpy==1.20.2 (from -r requirements.txt (line 16))\r\n  Downloading numpy-1.20.2.zip (7.8 MB)\r\n\u001b[?25l     \u001b[90m━━━━━━━━━━━━━━━━━━━━━━━━━━━━━━━━━━━━━━━━\u001b[0m \u001b[32m0.0/7.8 MB\u001b[0m \u001b[31m?\u001b[0m eta \u001b[36m-:--:--\u001b[0m\r\u001b[2K     \u001b[91m━━━━━━━━━━\u001b[0m\u001b[91m╸\u001b[0m\u001b[90m━━━━━━━━━━━━━━━━━━━━━━━━━━━━━\u001b[0m \u001b[32m2.1/7.8 MB\u001b[0m \u001b[31m69.3 MB/s\u001b[0m eta \u001b[36m0:00:01\u001b[0m\r\u001b[2K     \u001b[91m━━━━━━━━━━━━━━━━━━━━━━━━━━━━━\u001b[0m\u001b[90m╺\u001b[0m\u001b[90m━━━━━━━━━━\u001b[0m \u001b[32m5.7/7.8 MB\u001b[0m \u001b[31m84.6 MB/s\u001b[0m eta \u001b[36m0:00:01\u001b[0m\r\u001b[2K     \u001b[90m━━━━━━━━━━━━━━━━━━━━━━━━━━━━━━━━━━━━━━━━\u001b[0m \u001b[32m7.8/7.8 MB\u001b[0m \u001b[31m90.8 MB/s\u001b[0m eta \u001b[36m0:00:00\u001b[0m\r\n\u001b[?25h  Installing build dependencies ... \u001b[?25l-\b \b\\\b \b|\b \b/\b \bdone\r\n\u001b[?25h  Getting requirements to build wheel ... \u001b[?25l-\b \b\\\b \bdone\r\n\u001b[?25h  Preparing metadata (pyproject.toml) ... \u001b[?25l-\b \b\\\b \b|\b \b/\b \b-\b \b\\\b \b|\b \b/\b \b-\b \b\\\b \b|\b \b/\b \b-\b \b\\\b \b|\b \bdone\r\n\u001b[?25hCollecting packaging==20.9 (from -r requirements.txt (line 17))\r\n  Downloading packaging-20.9-py2.py3-none-any.whl.metadata (13 kB)\r\nCollecting pandas==1.2.4 (from -r requirements.txt (line 18))\r\n  Downloading pandas-1.2.4.tar.gz (5.5 MB)\r\n\u001b[?25l     \u001b[90m━━━━━━━━━━━━━━━━━━━━━━━━━━━━━━━━━━━━━━━━\u001b[0m \u001b[32m0.0/5.5 MB\u001b[0m \u001b[31m?\u001b[0m eta \u001b[36m-:--:--\u001b[0m\r\u001b[2K     \u001b[91m━━━━━━━━━━━━━━━━━━━━━━━━━━━━━━━━━\u001b[0m\u001b[91m╸\u001b[0m\u001b[90m━━━━━━\u001b[0m \u001b[32m4.6/5.5 MB\u001b[0m \u001b[31m144.9 MB/s\u001b[0m eta \u001b[36m0:00:01\u001b[0m\r\u001b[2K     \u001b[90m━━━━━━━━━━━━━━━━━━━━━━━━━━━━━━━━━━━━━━━━\u001b[0m \u001b[32m5.5/5.5 MB\u001b[0m \u001b[31m132.8 MB/s\u001b[0m eta \u001b[36m0:00:00\u001b[0m\r\n\u001b[?25h  Installing build dependencies ... \u001b[?25l-\b \b\\\b \b|\b \b/\b \b-\b \b\\\b \b|\b \b/\b \bdone\r\n\u001b[?25h  Getting requirements to build wheel ... \u001b[?25l-\b \b\\\b \b|\b \b/\b \bdone\r\n\u001b[?25h  Preparing metadata (pyproject.toml) ... \u001b[?25l-\b \b\\\b \b|\b \b/\b \bdone\r\n\u001b[?25hCollecting Pillow==8.2.0 (from -r requirements.txt (line 19))\r\n  Downloading Pillow-8.2.0.tar.gz (47.9 MB)\r\n\u001b[?25l     \u001b[90m━━━━━━━━━━━━━━━━━━━━━━━━━━━━━━━━━━━━━━━━\u001b[0m \u001b[32m0.0/47.9 MB\u001b[0m \u001b[31m?\u001b[0m eta \u001b[36m-:--:--\u001b[0m\r\u001b[2K     \u001b[91m━━━━\u001b[0m\u001b[91m╸\u001b[0m\u001b[90m━━━━━━━━━━━━━━━━━━━━━━━━━━━━━━━━━━━\u001b[0m \u001b[32m5.8/47.9 MB\u001b[0m \u001b[31m179.5 MB/s\u001b[0m eta \u001b[36m0:00:01\u001b[0m\r\u001b[2K     \u001b[91m━━━━━━━━━\u001b[0m\u001b[90m╺\u001b[0m\u001b[90m━━━━━━━━━━━━━━━━━━━━━━━━━━━━━\u001b[0m \u001b[32m11.5/47.9 MB\u001b[0m \u001b[31m169.3 MB/s\u001b[0m eta \u001b[36m0:00:01\u001b[0m\r\u001b[2K     \u001b[91m━━━━━━━━━━━━━\u001b[0m\u001b[91m╸\u001b[0m\u001b[90m━━━━━━━━━━━━━━━━━━━━━━━━━\u001b[0m \u001b[32m17.1/47.9 MB\u001b[0m \u001b[31m158.8 MB/s\u001b[0m eta \u001b[36m0:00:01\u001b[0m\r\u001b[2K     \u001b[91m━━━━━━━━━━━━━━━━━━\u001b[0m\u001b[90m╺\u001b[0m\u001b[90m━━━━━━━━━━━━━━━━━━━━\u001b[0m \u001b[32m22.2/47.9 MB\u001b[0m \u001b[31m153.1 MB/s\u001b[0m eta \u001b[36m0:00:01\u001b[0m\r\u001b[2K     \u001b[91m━━━━━━━━━━━━━━━━━━━━━━\u001b[0m\u001b[90m╺\u001b[0m\u001b[90m━━━━━━━━━━━━━━━━\u001b[0m \u001b[32m27.3/47.9 MB\u001b[0m \u001b[31m141.5 MB/s\u001b[0m eta \u001b[36m0:00:01\u001b[0m\r\u001b[2K     \u001b[91m━━━━━━━━━━━━━━━━━━━━━━━━━━\u001b[0m\u001b[91m╸\u001b[0m\u001b[90m━━━━━━━━━━━━\u001b[0m \u001b[32m32.9/47.9 MB\u001b[0m \u001b[31m156.2 MB/s\u001b[0m eta \u001b[36m0:00:01\u001b[0m\r\u001b[2K     \u001b[91m━━━━━━━━━━━━━━━━━━━━━━━━━━━━━━━\u001b[0m\u001b[90m╺\u001b[0m\u001b[90m━━━━━━━\u001b[0m \u001b[32m38.3/47.9 MB\u001b[0m \u001b[31m162.0 MB/s\u001b[0m eta \u001b[36m0:00:01\u001b[0m\r\u001b[2K     \u001b[91m━━━━━━━━━━━━━━━━━━━━━━━━━━━━━━━━━━━\u001b[0m\u001b[90m╺\u001b[0m\u001b[90m━━━\u001b[0m \u001b[32m43.6/47.9 MB\u001b[0m \u001b[31m155.4 MB/s\u001b[0m eta \u001b[36m0:00:01\u001b[0m\r\u001b[2K     \u001b[90m━━━━━━━━━━━━━━━━━━━━━━━━━━━━━━━━━━━━━━━\u001b[0m \u001b[32m47.9/47.9 MB\u001b[0m \u001b[31m153.0 MB/s\u001b[0m eta \u001b[36m0:00:00\u001b[0m\r\n\u001b[?25h  Installing build dependencies ... \u001b[?25l-\b \b\\\b \b|\b \b/\b \bdone\r\n\u001b[?25h  Getting requirements to build wheel ... \u001b[?25l-\b \b\\\b \bdone\r\n\u001b[?25h  Preparing metadata (pyproject.toml) ... \u001b[?25l-\b \b\\\b \bdone\r\n\u001b[?25hCollecting protobuf==3.15.8 (from -r requirements.txt (line 20))\r\n  Downloading protobuf-3.15.8-py2.py3-none-any.whl.metadata (958 bytes)\r\nCollecting pyarrow==4.0.0 (from -r requirements.txt (line 21))\r\n  Downloading pyarrow-4.0.0.tar.gz (710 kB)\r\n\u001b[?25l     \u001b[90m━━━━━━━━━━━━━━━━━━━━━━━━━━━━━━━━━━━━━━━━\u001b[0m \u001b[32m0.0/710.8 kB\u001b[0m \u001b[31m?\u001b[0m eta \u001b[36m-:--:--\u001b[0m\r\u001b[2K     \u001b[90m━━━━━━━━━━━━━━━━━━━━━━━━━━━━━━━━━━━━━\u001b[0m \u001b[32m710.8/710.8 kB\u001b[0m \u001b[31m120.4 MB/s\u001b[0m eta \u001b[36m0:00:00\u001b[0m\r\n\u001b[?25h  Installing build dependencies ... \u001b[?25l-\b \b\\\b \b|\b \b/\b \b-\b \b\\\b \b|\b \b/\b \b-\b \b\\\b \b|\b \b/\b \b-\b \b\\\b \b|\b \b/\b \berror\r\n  \u001b[1;31merror\u001b[0m: \u001b[1msubprocess-exited-with-error\u001b[0m\r\n  \r\n  \u001b[31m×\u001b[0m \u001b[32mpip subprocess to install build dependencies\u001b[0m did not run successfully.\r\n  \u001b[31m│\u001b[0m exit code: \u001b[1;36m1\u001b[0m\r\n  \u001b[31m╰─>\u001b[0m \u001b[31m[620 lines of output]\u001b[0m\r\n  \u001b[31m   \u001b[0m Ignoring numpy: markers 'python_version < \"3.9\"' don't match your environment\r\n  \u001b[31m   \u001b[0m Collecting cython>=0.29\r\n  \u001b[31m   \u001b[0m   Downloading Cython-3.0.11-cp310-cp310-manylinux_2_17_x86_64.manylinux2014_x86_64.whl.metadata (3.2 kB)\r\n  \u001b[31m   \u001b[0m Collecting numpy==1.19.4\r\n  \u001b[31m   \u001b[0m   Downloading numpy-1.19.4.zip (7.3 MB)\r\n  \u001b[31m   \u001b[0m \u001b[?25l     \u001b[90m━━━━━━━━━━━━━━━━━━━━━━━━━━━━━━━━━━━━━━━━\u001b[0m \u001b[32m0.0/7.3 MB\u001b[0m \u001b[31m?\u001b[0m eta \u001b[36m-:--:--\u001b[0m\r\n  \u001b[31m   \u001b[0m \u001b[2K     \u001b[91m━━\u001b[0m\u001b[90m╺\u001b[0m\u001b[90m━━━━━━━━━━━━━━━━━━━━━━━━━━━━━━━━━━━━━\u001b[0m \u001b[32m0.4/7.3 MB\u001b[0m \u001b[31m12.1 MB/s\u001b[0m eta \u001b[36m0:00:01\u001b[0m\r\n  \u001b[31m   \u001b[0m \u001b[2K     \u001b[91m━━━━━\u001b[0m\u001b[91m╸\u001b[0m\u001b[90m━━━━━━━━━━━━━━━━━━━━━━━━━━━━━━━━━━\u001b[0m \u001b[32m1.1/7.3 MB\u001b[0m \u001b[31m15.4 MB/s\u001b[0m eta \u001b[36m0:00:01\u001b[0m\r\n  \u001b[31m   \u001b[0m \u001b[2K     \u001b[91m━━━━━━━━━━\u001b[0m\u001b[90m╺\u001b[0m\u001b[90m━━━━━━━━━━━━━━━━━━━━━━━━━━━━━\u001b[0m \u001b[32m1.8/7.3 MB\u001b[0m \u001b[31m17.6 MB/s\u001b[0m eta \u001b[36m0:00:01\u001b[0m\r\n  \u001b[31m   \u001b[0m \u001b[2K     \u001b[91m━━━━━━━━━━━━━━━\u001b[0m\u001b[90m╺\u001b[0m\u001b[90m━━━━━━━━━━━━━━━━━━━━━━━━\u001b[0m \u001b[32m2.8/7.3 MB\u001b[0m \u001b[31m20.0 MB/s\u001b[0m eta \u001b[36m0:00:01\u001b[0m\r\n  \u001b[31m   \u001b[0m \u001b[2K     \u001b[91m━━━━━━━━━━━━━━━━━━━━━\u001b[0m\u001b[91m╸\u001b[0m\u001b[90m━━━━━━━━━━━━━━━━━━\u001b[0m \u001b[32m3.9/7.3 MB\u001b[0m \u001b[31m22.5 MB/s\u001b[0m eta \u001b[36m0:00:01\u001b[0m\r\n  \u001b[31m   \u001b[0m \u001b[2K     \u001b[91m━━━━━━━━━━━━━━━━━━━━━━\u001b[0m\u001b[91m╸\u001b[0m\u001b[90m━━━━━━━━━━━━━━━━━\u001b[0m \u001b[32m4.2/7.3 MB\u001b[0m \u001b[31m23.3 MB/s\u001b[0m eta \u001b[36m0:00:01\u001b[0m\r\n  \u001b[31m   \u001b[0m \u001b[2K     \u001b[91m━━━━━━━━━━━━━━━━━━━━━━━━━\u001b[0m\u001b[90m╺\u001b[0m\u001b[90m━━━━━━━━━━━━━━\u001b[0m \u001b[32m4.6/7.3 MB\u001b[0m \u001b[31m18.7 MB/s\u001b[0m eta \u001b[36m0:00:01\u001b[0m\r\n  \u001b[31m   \u001b[0m \u001b[2K     \u001b[91m━━━━━━━━━━━━━━━━━━━━━━━━━━━━━━━━━━\u001b[0m\u001b[90m╺\u001b[0m\u001b[90m━━━━━\u001b[0m \u001b[32m6.2/7.3 MB\u001b[0m \u001b[31m22.2 MB/s\u001b[0m eta \u001b[36m0:00:01\u001b[0m\r\n  \u001b[31m   \u001b[0m \u001b[2K     \u001b[90m━━━━━━━━━━━━━━━━━━━━━━━━━━━━━━━━━━━━━━━━\u001b[0m \u001b[32m7.3/7.3 MB\u001b[0m \u001b[31m24.2 MB/s\u001b[0m eta \u001b[36m0:00:00\u001b[0m\r\n  \u001b[31m   \u001b[0m \u001b[?25h  Installing build dependencies: started\r\n  \u001b[31m   \u001b[0m   Installing build dependencies: finished with status 'done'\r\n  \u001b[31m   \u001b[0m   Getting requirements to build wheel: started\r\n  \u001b[31m   \u001b[0m   Getting requirements to build wheel: finished with status 'done'\r\n  \u001b[31m   \u001b[0m   Preparing metadata (pyproject.toml): started\r\n  \u001b[31m   \u001b[0m   Preparing metadata (pyproject.toml): finished with status 'done'\r\n  \u001b[31m   \u001b[0m Collecting setuptools\r\n  \u001b[31m   \u001b[0m   Downloading setuptools-73.0.1-py3-none-any.whl.metadata (6.6 kB)\r\n  \u001b[31m   \u001b[0m Collecting setuptools_scm\r\n  \u001b[31m   \u001b[0m   Downloading setuptools_scm-8.1.0-py3-none-any.whl.metadata (6.6 kB)\r\n  \u001b[31m   \u001b[0m Collecting wheel\r\n  \u001b[31m   \u001b[0m   Downloading wheel-0.44.0-py3-none-any.whl.metadata (2.3 kB)\r\n  \u001b[31m   \u001b[0m Collecting packaging>=20 (from setuptools_scm)\r\n  \u001b[31m   \u001b[0m   Downloading packaging-24.1-py3-none-any.whl.metadata (3.2 kB)\r\n  \u001b[31m   \u001b[0m Collecting tomli>=1 (from setuptools_scm)\r\n  \u001b[31m   \u001b[0m   Downloading tomli-2.0.1-py3-none-any.whl.metadata (8.9 kB)\r\n  \u001b[31m   \u001b[0m Downloading Cython-3.0.11-cp310-cp310-manylinux_2_17_x86_64.manylinux2014_x86_64.whl (3.6 MB)\r\n  \u001b[31m   \u001b[0m \u001b[?25l   \u001b[90m━━━━━━━━━━━━━━━━━━━━━━━━━━━━━━━━━━━━━━━━\u001b[0m \u001b[32m0.0/3.6 MB\u001b[0m \u001b[31m?\u001b[0m eta \u001b[36m-:--:--\u001b[0m\r\n  \u001b[31m   \u001b[0m \u001b[2K   \u001b[91m━━━━━━━━━━━━━━━━━━━━━━━━━━━\u001b[0m\u001b[90m╺\u001b[0m\u001b[90m━━━━━━━━━━━━\u001b[0m \u001b[32m2.5/3.6 MB\u001b[0m \u001b[31m74.7 MB/s\u001b[0m eta \u001b[36m0:00:01\u001b[0m\r\n  \u001b[31m   \u001b[0m \u001b[2K   \u001b[90m━━━━━━━━━━━━━━━━━━━━━━━━━━━━━━━━━━━━━━━━\u001b[0m \u001b[32m3.6/3.6 MB\u001b[0m \u001b[31m74.7 MB/s\u001b[0m eta \u001b[36m0:00:00\u001b[0m\r\n  \u001b[31m   \u001b[0m \u001b[?25hDownloading setuptools-73.0.1-py3-none-any.whl (2.3 MB)\r\n  \u001b[31m   \u001b[0m \u001b[?25l   \u001b[90m━━━━━━━━━━━━━━━━━━━━━━━━━━━━━━━━━━━━━━━━\u001b[0m \u001b[32m0.0/2.3 MB\u001b[0m \u001b[31m?\u001b[0m eta \u001b[36m-:--:--\u001b[0m\r\n  \u001b[31m   \u001b[0m \u001b[2K   \u001b[90m━━━━━━━━━━━━━━━━━━━━━━━━━━━━━━━━━━━━━━━━\u001b[0m \u001b[32m2.3/2.3 MB\u001b[0m \u001b[31m95.4 MB/s\u001b[0m eta \u001b[36m0:00:00\u001b[0m\r\n  \u001b[31m   \u001b[0m \u001b[?25hDownloading setuptools_scm-8.1.0-py3-none-any.whl (43 kB)\r\n  \u001b[31m   \u001b[0m \u001b[?25l   \u001b[90m━━━━━━━━━━━━━━━━━━━━━━━━━━━━━━━━━━━━━━━━\u001b[0m \u001b[32m0.0/43.7 kB\u001b[0m \u001b[31m?\u001b[0m eta \u001b[36m-:--:--\u001b[0m\r\n  \u001b[31m   \u001b[0m \u001b[2K   \u001b[90m━━━━━━━━━━━━━━━━━━━━━━━━━━━━━━━━━━━━━━━━\u001b[0m \u001b[32m43.7/43.7 kB\u001b[0m \u001b[31m131.2 MB/s\u001b[0m eta \u001b[36m0:00:00\u001b[0m\r\n  \u001b[31m   \u001b[0m \u001b[?25hDownloading wheel-0.44.0-py3-none-any.whl (67 kB)\r\n  \u001b[31m   \u001b[0m \u001b[?25l   \u001b[90m━━━━━━━━━━━━━━━━━━━━━━━━━━━━━━━━━━━━━━━━\u001b[0m \u001b[32m0.0/67.1 kB\u001b[0m \u001b[31m?\u001b[0m eta \u001b[36m-:--:--\u001b[0m\r\n  \u001b[31m   \u001b[0m \u001b[2K   \u001b[90m━━━━━━━━━━━━━━━━━━━━━━━━━━━━━━━━━━━━━━━━\u001b[0m \u001b[32m67.1/67.1 kB\u001b[0m \u001b[31m139.2 MB/s\u001b[0m eta \u001b[36m0:00:00\u001b[0m\r\n  \u001b[31m   \u001b[0m \u001b[?25hDownloading packaging-24.1-py3-none-any.whl (53 kB)\r\n  \u001b[31m   \u001b[0m \u001b[?25l   \u001b[90m━━━━━━━━━━━━━━━━━━━━━━━━━━━━━━━━━━━━━━━━\u001b[0m \u001b[32m0.0/54.0 kB\u001b[0m \u001b[31m?\u001b[0m eta \u001b[36m-:--:--\u001b[0m\r\n  \u001b[31m   \u001b[0m \u001b[2K   \u001b[90m━━━━━━━━━━━━━━━━━━━━━━━━━━━━━━━━━━━━━━━━\u001b[0m \u001b[32m54.0/54.0 kB\u001b[0m \u001b[31m100.1 MB/s\u001b[0m eta \u001b[36m0:00:00\u001b[0m\r\n  \u001b[31m   \u001b[0m \u001b[?25hDownloading tomli-2.0.1-py3-none-any.whl (12 kB)\r\n  \u001b[31m   \u001b[0m Building wheels for collected packages: numpy\r\n  \u001b[31m   \u001b[0m   Building wheel for numpy (pyproject.toml): started\r\n  \u001b[31m   \u001b[0m   Building wheel for numpy (pyproject.toml): finished with status 'error'\r\n  \u001b[31m   \u001b[0m   \u001b[1;31merror\u001b[0m: \u001b[1msubprocess-exited-with-error\u001b[0m\r\n  \u001b[31m   \u001b[0m \r\n  \u001b[31m   \u001b[0m   \u001b[31m×\u001b[0m \u001b[32mBuilding wheel for numpy \u001b[0m\u001b[1;32m(\u001b[0m\u001b[32mpyproject.toml\u001b[0m\u001b[1;32m)\u001b[0m did not run successfully.\r\n  \u001b[31m   \u001b[0m   \u001b[31m│\u001b[0m exit code: \u001b[1;36m1\u001b[0m\r\n  \u001b[31m   \u001b[0m   \u001b[31m╰─>\u001b[0m \u001b[31m[555 lines of output]\u001b[0m\r\n  \u001b[31m   \u001b[0m   \u001b[31m   \u001b[0m setup.py:67: RuntimeWarning: NumPy 1.19.4 may not yet support Python 3.10.\r\n  \u001b[31m   \u001b[0m   \u001b[31m   \u001b[0m   warnings.warn(\r\n  \u001b[31m   \u001b[0m   \u001b[31m   \u001b[0m Running from numpy source directory.\r\n  \u001b[31m   \u001b[0m   \u001b[31m   \u001b[0m numpy/random/_bounded_integers.pxd.in has not changed\r\n  \u001b[31m   \u001b[0m   \u001b[31m   \u001b[0m numpy/random/_mt19937.pyx has not changed\r\n  \u001b[31m   \u001b[0m   \u001b[31m   \u001b[0m numpy/random/_generator.pyx has not changed\r\n  \u001b[31m   \u001b[0m   \u001b[31m   \u001b[0m numpy/random/_philox.pyx has not changed\r\n  \u001b[31m   \u001b[0m   \u001b[31m   \u001b[0m numpy/random/_bounded_integers.pyx.in has not changed\r\n  \u001b[31m   \u001b[0m   \u001b[31m   \u001b[0m numpy/random/_common.pyx has not changed\r\n  \u001b[31m   \u001b[0m   \u001b[31m   \u001b[0m numpy/random/_sfc64.pyx has not changed\r\n  \u001b[31m   \u001b[0m   \u001b[31m   \u001b[0m numpy/random/bit_generator.pyx has not changed\r\n  \u001b[31m   \u001b[0m   \u001b[31m   \u001b[0m numpy/random/_pcg64.pyx has not changed\r\n  \u001b[31m   \u001b[0m   \u001b[31m   \u001b[0m numpy/random/mtrand.pyx has not changed\r\n  \u001b[31m   \u001b[0m   \u001b[31m   \u001b[0m Processing numpy/random/_bounded_integers.pyx\r\n  \u001b[31m   \u001b[0m   \u001b[31m   \u001b[0m Cythonizing sources\r\n  \u001b[31m   \u001b[0m   \u001b[31m   \u001b[0m blas_opt_info:\r\n  \u001b[31m   \u001b[0m   \u001b[31m   \u001b[0m blas_mkl_info:\r\n  \u001b[31m   \u001b[0m   \u001b[31m   \u001b[0m customize UnixCCompiler\r\n  \u001b[31m   \u001b[0m   \u001b[31m   \u001b[0m   libraries mkl_rt not found in ['/usr/local/lib', '/usr/lib64', '/usr/lib', '/usr/lib/x86_64-linux-gnu']\r\n  \u001b[31m   \u001b[0m   \u001b[31m   \u001b[0m   NOT AVAILABLE\r\n  \u001b[31m   \u001b[0m   \u001b[31m   \u001b[0m\r\n  \u001b[31m   \u001b[0m   \u001b[31m   \u001b[0m blis_info:\r\n  \u001b[31m   \u001b[0m   \u001b[31m   \u001b[0m   libraries blis not found in ['/usr/local/lib', '/usr/lib64', '/usr/lib', '/usr/lib/x86_64-linux-gnu']\r\n  \u001b[31m   \u001b[0m   \u001b[31m   \u001b[0m   NOT AVAILABLE\r\n  \u001b[31m   \u001b[0m   \u001b[31m   \u001b[0m\r\n  \u001b[31m   \u001b[0m   \u001b[31m   \u001b[0m openblas_info:\r\n  \u001b[31m   \u001b[0m   \u001b[31m   \u001b[0m C compiler: clang -pthread -Wno-unused-result -Wsign-compare -Wunreachable-code -DNDEBUG -g -fwrapv -O3 -Wall -fPIC -I/tools/deps/include -I/tools/deps/include/ncursesw -I/tools/deps/libedit/include -g0 -fPIC\r\n  \u001b[31m   \u001b[0m   \u001b[31m   \u001b[0m\r\n  \u001b[31m   \u001b[0m   \u001b[31m   \u001b[0m creating /tmp/tmpt98od9si/tmp\r\n  \u001b[31m   \u001b[0m   \u001b[31m   \u001b[0m creating /tmp/tmpt98od9si/tmp/tmpt98od9si\r\n  \u001b[31m   \u001b[0m   \u001b[31m   \u001b[0m compile options: '-c'\r\n  \u001b[31m   \u001b[0m   \u001b[31m   \u001b[0m clang: /tmp/tmpt98od9si/source.c\r\n  \u001b[31m   \u001b[0m   \u001b[31m   \u001b[0m clang -pthread /tmp/tmpt98od9si/tmp/tmpt98od9si/source.o -L/usr/lib/x86_64-linux-gnu -lopenblas -o /tmp/tmpt98od9si/a.out\r\n  \u001b[31m   \u001b[0m   \u001b[31m   \u001b[0m   FOUND:\r\n  \u001b[31m   \u001b[0m   \u001b[31m   \u001b[0m     libraries = ['openblas', 'openblas']\r\n  \u001b[31m   \u001b[0m   \u001b[31m   \u001b[0m     library_dirs = ['/usr/lib/x86_64-linux-gnu']\r\n  \u001b[31m   \u001b[0m   \u001b[31m   \u001b[0m     language = c\r\n  \u001b[31m   \u001b[0m   \u001b[31m   \u001b[0m     define_macros = [('HAVE_CBLAS', None)]\r\n  \u001b[31m   \u001b[0m   \u001b[31m   \u001b[0m\r\n  \u001b[31m   \u001b[0m   \u001b[31m   \u001b[0m   FOUND:\r\n  \u001b[31m   \u001b[0m   \u001b[31m   \u001b[0m     libraries = ['openblas', 'openblas']\r\n  \u001b[31m   \u001b[0m   \u001b[31m   \u001b[0m     library_dirs = ['/usr/lib/x86_64-linux-gnu']\r\n  \u001b[31m   \u001b[0m   \u001b[31m   \u001b[0m     language = c\r\n  \u001b[31m   \u001b[0m   \u001b[31m   \u001b[0m     define_macros = [('HAVE_CBLAS', None)]\r\n  \u001b[31m   \u001b[0m   \u001b[31m   \u001b[0m\r\n  \u001b[31m   \u001b[0m   \u001b[31m   \u001b[0m non-existing path in 'numpy/distutils': 'site.cfg'\r\n  \u001b[31m   \u001b[0m   \u001b[31m   \u001b[0m lapack_opt_info:\r\n  \u001b[31m   \u001b[0m   \u001b[31m   \u001b[0m lapack_mkl_info:\r\n  \u001b[31m   \u001b[0m   \u001b[31m   \u001b[0m   libraries mkl_rt not found in ['/usr/local/lib', '/usr/lib64', '/usr/lib', '/usr/lib/x86_64-linux-gnu']\r\n  \u001b[31m   \u001b[0m   \u001b[31m   \u001b[0m   NOT AVAILABLE\r\n  \u001b[31m   \u001b[0m   \u001b[31m   \u001b[0m\r\n  \u001b[31m   \u001b[0m   \u001b[31m   \u001b[0m openblas_lapack_info:\r\n  \u001b[31m   \u001b[0m   \u001b[31m   \u001b[0m C compiler: clang -pthread -Wno-unused-result -Wsign-compare -Wunreachable-code -DNDEBUG -g -fwrapv -O3 -Wall -fPIC -I/tools/deps/include -I/tools/deps/include/ncursesw -I/tools/deps/libedit/include -g0 -fPIC\r\n  \u001b[31m   \u001b[0m   \u001b[31m   \u001b[0m\r\n  \u001b[31m   \u001b[0m   \u001b[31m   \u001b[0m creating /tmp/tmpqm0h4eoi/tmp\r\n  \u001b[31m   \u001b[0m   \u001b[31m   \u001b[0m creating /tmp/tmpqm0h4eoi/tmp/tmpqm0h4eoi\r\n  \u001b[31m   \u001b[0m   \u001b[31m   \u001b[0m compile options: '-c'\r\n  \u001b[31m   \u001b[0m   \u001b[31m   \u001b[0m clang: /tmp/tmpqm0h4eoi/source.c\r\n  \u001b[31m   \u001b[0m   \u001b[31m   \u001b[0m clang -pthread /tmp/tmpqm0h4eoi/tmp/tmpqm0h4eoi/source.o -L/usr/lib/x86_64-linux-gnu -lopenblas -o /tmp/tmpqm0h4eoi/a.out\r\n  \u001b[31m   \u001b[0m   \u001b[31m   \u001b[0m   FOUND:\r\n  \u001b[31m   \u001b[0m   \u001b[31m   \u001b[0m     libraries = ['openblas', 'openblas']\r\n  \u001b[31m   \u001b[0m   \u001b[31m   \u001b[0m     library_dirs = ['/usr/lib/x86_64-linux-gnu']\r\n  \u001b[31m   \u001b[0m   \u001b[31m   \u001b[0m     language = c\r\n  \u001b[31m   \u001b[0m   \u001b[31m   \u001b[0m     define_macros = [('HAVE_CBLAS', None)]\r\n  \u001b[31m   \u001b[0m   \u001b[31m   \u001b[0m\r\n  \u001b[31m   \u001b[0m   \u001b[31m   \u001b[0m   FOUND:\r\n  \u001b[31m   \u001b[0m   \u001b[31m   \u001b[0m     libraries = ['openblas', 'openblas']\r\n  \u001b[31m   \u001b[0m   \u001b[31m   \u001b[0m     library_dirs = ['/usr/lib/x86_64-linux-gnu']\r\n  \u001b[31m   \u001b[0m   \u001b[31m   \u001b[0m     language = c\r\n  \u001b[31m   \u001b[0m   \u001b[31m   \u001b[0m     define_macros = [('HAVE_CBLAS', None)]\r\n  \u001b[31m   \u001b[0m   \u001b[31m   \u001b[0m\r\n  \u001b[31m   \u001b[0m   \u001b[31m   \u001b[0m /tmp/pip-build-env-t0qipd7h/overlay/lib/python3.10/site-packages/setuptools/_distutils/dist.py:275: UserWarning: Unknown distribution option: 'define_macros'\r\n  \u001b[31m   \u001b[0m   \u001b[31m   \u001b[0m   warnings.warn(msg)\r\n  \u001b[31m   \u001b[0m   \u001b[31m   \u001b[0m running bdist_wheel\r\n  \u001b[31m   \u001b[0m   \u001b[31m   \u001b[0m running build\r\n  \u001b[31m   \u001b[0m   \u001b[31m   \u001b[0m running config_cc\r\n  \u001b[31m   \u001b[0m   \u001b[31m   \u001b[0m unifing config_cc, config, build_clib, build_ext, build commands --compiler options\r\n  \u001b[31m   \u001b[0m   \u001b[31m   \u001b[0m running config_fc\r\n  \u001b[31m   \u001b[0m   \u001b[31m   \u001b[0m unifing config_fc, config, build_clib, build_ext, build commands --fcompiler options\r\n  \u001b[31m   \u001b[0m   \u001b[31m   \u001b[0m running build_src\r\n  \u001b[31m   \u001b[0m   \u001b[31m   \u001b[0m build_src\r\n  \u001b[31m   \u001b[0m   \u001b[31m   \u001b[0m building py_modules sources\r\n  \u001b[31m   \u001b[0m   \u001b[31m   \u001b[0m building library \"npymath\" sources\r\n  \u001b[31m   \u001b[0m   \u001b[31m   \u001b[0m Could not locate executable gfortran\r\n  \u001b[31m   \u001b[0m   \u001b[31m   \u001b[0m Could not locate executable f95\r\n  \u001b[31m   \u001b[0m   \u001b[31m   \u001b[0m Could not locate executable ifort\r\n  \u001b[31m   \u001b[0m   \u001b[31m   \u001b[0m Could not locate executable ifc\r\n  \u001b[31m   \u001b[0m   \u001b[31m   \u001b[0m Could not locate executable lf95\r\n  \u001b[31m   \u001b[0m   \u001b[31m   \u001b[0m Could not locate executable pgfortran\r\n  \u001b[31m   \u001b[0m   \u001b[31m   \u001b[0m Could not locate executable nvfortran\r\n  \u001b[31m   \u001b[0m   \u001b[31m   \u001b[0m Could not locate executable f90\r\n  \u001b[31m   \u001b[0m   \u001b[31m   \u001b[0m Could not locate executable f77\r\n  \u001b[31m   \u001b[0m   \u001b[31m   \u001b[0m Could not locate executable fort\r\n  \u001b[31m   \u001b[0m   \u001b[31m   \u001b[0m Could not locate executable efort\r\n  \u001b[31m   \u001b[0m   \u001b[31m   \u001b[0m Could not locate executable efc\r\n  \u001b[31m   \u001b[0m   \u001b[31m   \u001b[0m Could not locate executable g77\r\n  \u001b[31m   \u001b[0m   \u001b[31m   \u001b[0m Could not locate executable g95\r\n  \u001b[31m   \u001b[0m   \u001b[31m   \u001b[0m Could not locate executable pathf95\r\n  \u001b[31m   \u001b[0m   \u001b[31m   \u001b[0m Could not locate executable nagfor\r\n  \u001b[31m   \u001b[0m   \u001b[31m   \u001b[0m don't know how to compile Fortran code on platform 'posix'\r\n  \u001b[31m   \u001b[0m   \u001b[31m   \u001b[0m   adding 'build/src.linux-x86_64-3.10/numpy/core/src/npymath' to include_dirs.\r\n  \u001b[31m   \u001b[0m   \u001b[31m   \u001b[0m None - nothing done with h_files = ['build/src.linux-x86_64-3.10/numpy/core/src/npymath/npy_math_internal.h']\r\n  \u001b[31m   \u001b[0m   \u001b[31m   \u001b[0m building library \"npysort\" sources\r\n  \u001b[31m   \u001b[0m   \u001b[31m   \u001b[0m   adding 'build/src.linux-x86_64-3.10/numpy/core/src/common' to include_dirs.\r\n  \u001b[31m   \u001b[0m   \u001b[31m   \u001b[0m None - nothing done with h_files = ['build/src.linux-x86_64-3.10/numpy/core/src/common/npy_sort.h', 'build/src.linux-x86_64-3.10/numpy/core/src/common/npy_partition.h', 'build/src.linux-x86_64-3.10/numpy/core/src/common/npy_binsearch.h']\r\n  \u001b[31m   \u001b[0m   \u001b[31m   \u001b[0m building library \"npyrandom\" sources\r\n  \u001b[31m   \u001b[0m   \u001b[31m   \u001b[0m building extension \"numpy.core._multiarray_tests\" sources\r\n  \u001b[31m   \u001b[0m   \u001b[31m   \u001b[0m building extension \"numpy.core._multiarray_umath\" sources\r\n  \u001b[31m   \u001b[0m   \u001b[31m   \u001b[0m   adding 'build/src.linux-x86_64-3.10/numpy/core/src/umath' to include_dirs.\r\n  \u001b[31m   \u001b[0m   \u001b[31m   \u001b[0m   adding 'build/src.linux-x86_64-3.10/numpy/core/src/npymath' to include_dirs.\r\n  \u001b[31m   \u001b[0m   \u001b[31m   \u001b[0m   adding 'build/src.linux-x86_64-3.10/numpy/core/src/common' to include_dirs.\r\n  \u001b[31m   \u001b[0m   \u001b[31m   \u001b[0m numpy.core - nothing done with h_files = ['build/src.linux-x86_64-3.10/numpy/core/src/umath/funcs.inc', 'build/src.linux-x86_64-3.10/numpy/core/src/umath/simd.inc', 'build/src.linux-x86_64-3.10/numpy/core/src/umath/loops.h', 'build/src.linux-x86_64-3.10/numpy/core/src/umath/matmul.h', 'build/src.linux-x86_64-3.10/numpy/core/src/umath/clip.h', 'build/src.linux-x86_64-3.10/numpy/core/src/npymath/npy_math_internal.h', 'build/src.linux-x86_64-3.10/numpy/core/src/common/templ_common.h', 'build/src.linux-x86_64-3.10/numpy/core/include/numpy/config.h', 'build/src.linux-x86_64-3.10/numpy/core/include/numpy/_numpyconfig.h', 'build/src.linux-x86_64-3.10/numpy/core/include/numpy/__multiarray_api.h', 'build/src.linux-x86_64-3.10/numpy/core/include/numpy/__ufunc_api.h']\r\n  \u001b[31m   \u001b[0m   \u001b[31m   \u001b[0m building extension \"numpy.core._umath_tests\" sources\r\n  \u001b[31m   \u001b[0m   \u001b[31m   \u001b[0m building extension \"numpy.core._rational_tests\" sources\r\n  \u001b[31m   \u001b[0m   \u001b[31m   \u001b[0m building extension \"numpy.core._struct_ufunc_tests\" sources\r\n  \u001b[31m   \u001b[0m   \u001b[31m   \u001b[0m building extension \"numpy.core._operand_flag_tests\" sources\r\n  \u001b[31m   \u001b[0m   \u001b[31m   \u001b[0m building extension \"numpy.fft._pocketfft_internal\" sources\r\n  \u001b[31m   \u001b[0m   \u001b[31m   \u001b[0m building extension \"numpy.linalg.lapack_lite\" sources\r\n  \u001b[31m   \u001b[0m   \u001b[31m   \u001b[0m building extension \"numpy.linalg._umath_linalg\" sources\r\n  \u001b[31m   \u001b[0m   \u001b[31m   \u001b[0m building extension \"numpy.random._mt19937\" sources\r\n  \u001b[31m   \u001b[0m   \u001b[31m   \u001b[0m building extension \"numpy.random._philox\" sources\r\n  \u001b[31m   \u001b[0m   \u001b[31m   \u001b[0m building extension \"numpy.random._pcg64\" sources\r\n  \u001b[31m   \u001b[0m   \u001b[31m   \u001b[0m building extension \"numpy.random._sfc64\" sources\r\n  \u001b[31m   \u001b[0m   \u001b[31m   \u001b[0m building extension \"numpy.random._common\" sources\r\n  \u001b[31m   \u001b[0m   \u001b[31m   \u001b[0m building extension \"numpy.random.bit_generator\" sources\r\n  \u001b[31m   \u001b[0m   \u001b[31m   \u001b[0m building extension \"numpy.random._generator\" sources\r\n  \u001b[31m   \u001b[0m   \u001b[31m   \u001b[0m building extension \"numpy.random._bounded_integers\" sources\r\n  \u001b[31m   \u001b[0m   \u001b[31m   \u001b[0m building extension \"numpy.random.mtrand\" sources\r\n  \u001b[31m   \u001b[0m   \u001b[31m   \u001b[0m building data_files sources\r\n  \u001b[31m   \u001b[0m   \u001b[31m   \u001b[0m build_src: building npy-pkg config files\r\n  \u001b[31m   \u001b[0m   \u001b[31m   \u001b[0m running build_py\r\n  \u001b[31m   \u001b[0m   \u001b[31m   \u001b[0m creating build/lib.linux-x86_64-3.10\r\n  \u001b[31m   \u001b[0m   \u001b[31m   \u001b[0m creating build/lib.linux-x86_64-3.10/numpy\r\n  \u001b[31m   \u001b[0m   \u001b[31m   \u001b[0m copying numpy/setup.py -> build/lib.linux-x86_64-3.10/numpy\r\n  \u001b[31m   \u001b[0m   \u001b[31m   \u001b[0m copying numpy/__init__.py -> build/lib.linux-x86_64-3.10/numpy\r\n  \u001b[31m   \u001b[0m   \u001b[31m   \u001b[0m copying numpy/dual.py -> build/lib.linux-x86_64-3.10/numpy\r\n  \u001b[31m   \u001b[0m   \u001b[31m   \u001b[0m copying numpy/_globals.py -> build/lib.linux-x86_64-3.10/numpy\r\n  \u001b[31m   \u001b[0m   \u001b[31m   \u001b[0m copying numpy/_distributor_init.py -> build/lib.linux-x86_64-3.10/numpy\r\n  \u001b[31m   \u001b[0m   \u001b[31m   \u001b[0m copying numpy/conftest.py -> build/lib.linux-x86_64-3.10/numpy\r\n  \u001b[31m   \u001b[0m   \u001b[31m   \u001b[0m copying numpy/matlib.py -> build/lib.linux-x86_64-3.10/numpy\r\n  \u001b[31m   \u001b[0m   \u001b[31m   \u001b[0m copying numpy/version.py -> build/lib.linux-x86_64-3.10/numpy\r\n  \u001b[31m   \u001b[0m   \u001b[31m   \u001b[0m copying numpy/_pytesttester.py -> build/lib.linux-x86_64-3.10/numpy\r\n  \u001b[31m   \u001b[0m   \u001b[31m   \u001b[0m copying numpy/ctypeslib.py -> build/lib.linux-x86_64-3.10/numpy\r\n  \u001b[31m   \u001b[0m   \u001b[31m   \u001b[0m copying build/src.linux-x86_64-3.10/numpy/__config__.py -> build/lib.linux-x86_64-3.10/numpy\r\n  \u001b[31m   \u001b[0m   \u001b[31m   \u001b[0m creating build/lib.linux-x86_64-3.10/numpy/compat\r\n  \u001b[31m   \u001b[0m   \u001b[31m   \u001b[0m copying numpy/compat/setup.py -> build/lib.linux-x86_64-3.10/numpy/compat\r\n  \u001b[31m   \u001b[0m   \u001b[31m   \u001b[0m copying numpy/compat/__init__.py -> build/lib.linux-x86_64-3.10/numpy/compat\r\n  \u001b[31m   \u001b[0m   \u001b[31m   \u001b[0m copying numpy/compat/_inspect.py -> build/lib.linux-x86_64-3.10/numpy/compat\r\n  \u001b[31m   \u001b[0m   \u001b[31m   \u001b[0m copying numpy/compat/py3k.py -> build/lib.linux-x86_64-3.10/numpy/compat\r\n  \u001b[31m   \u001b[0m   \u001b[31m   \u001b[0m creating build/lib.linux-x86_64-3.10/numpy/compat/tests\r\n  \u001b[31m   \u001b[0m   \u001b[31m   \u001b[0m copying numpy/compat/tests/__init__.py -> build/lib.linux-x86_64-3.10/numpy/compat/tests\r\n  \u001b[31m   \u001b[0m   \u001b[31m   \u001b[0m copying numpy/compat/tests/test_compat.py -> build/lib.linux-x86_64-3.10/numpy/compat/tests\r\n  \u001b[31m   \u001b[0m   \u001b[31m   \u001b[0m creating build/lib.linux-x86_64-3.10/numpy/core\r\n  \u001b[31m   \u001b[0m   \u001b[31m   \u001b[0m copying numpy/core/_internal.py -> build/lib.linux-x86_64-3.10/numpy/core\r\n  \u001b[31m   \u001b[0m   \u001b[31m   \u001b[0m copying numpy/core/fromnumeric.py -> build/lib.linux-x86_64-3.10/numpy/core\r\n  \u001b[31m   \u001b[0m   \u001b[31m   \u001b[0m copying numpy/core/_string_helpers.py -> build/lib.linux-x86_64-3.10/numpy/core\r\n  \u001b[31m   \u001b[0m   \u001b[31m   \u001b[0m copying numpy/core/getlimits.py -> build/lib.linux-x86_64-3.10/numpy/core\r\n  \u001b[31m   \u001b[0m   \u001b[31m   \u001b[0m copying numpy/core/_add_newdocs.py -> build/lib.linux-x86_64-3.10/numpy/core\r\n  \u001b[31m   \u001b[0m   \u001b[31m   \u001b[0m copying numpy/core/defchararray.py -> build/lib.linux-x86_64-3.10/numpy/core\r\n  \u001b[31m   \u001b[0m   \u001b[31m   \u001b[0m copying numpy/core/_type_aliases.py -> build/lib.linux-x86_64-3.10/numpy/core\r\n  \u001b[31m   \u001b[0m   \u001b[31m   \u001b[0m copying numpy/core/einsumfunc.py -> build/lib.linux-x86_64-3.10/numpy/core\r\n  \u001b[31m   \u001b[0m   \u001b[31m   \u001b[0m copying numpy/core/setup.py -> build/lib.linux-x86_64-3.10/numpy/core\r\n  \u001b[31m   \u001b[0m   \u001b[31m   \u001b[0m copying numpy/core/_asarray.py -> build/lib.linux-x86_64-3.10/numpy/core\r\n  \u001b[31m   \u001b[0m   \u001b[31m   \u001b[0m copying numpy/core/__init__.py -> build/lib.linux-x86_64-3.10/numpy/core\r\n  \u001b[31m   \u001b[0m   \u001b[31m   \u001b[0m copying numpy/core/records.py -> build/lib.linux-x86_64-3.10/numpy/core\r\n  \u001b[31m   \u001b[0m   \u001b[31m   \u001b[0m copying numpy/core/memmap.py -> build/lib.linux-x86_64-3.10/numpy/core\r\n  \u001b[31m   \u001b[0m   \u001b[31m   \u001b[0m copying numpy/core/function_base.py -> build/lib.linux-x86_64-3.10/numpy/core\r\n  \u001b[31m   \u001b[0m   \u001b[31m   \u001b[0m copying numpy/core/multiarray.py -> build/lib.linux-x86_64-3.10/numpy/core\r\n  \u001b[31m   \u001b[0m   \u001b[31m   \u001b[0m copying numpy/core/arrayprint.py -> build/lib.linux-x86_64-3.10/numpy/core\r\n  \u001b[31m   \u001b[0m   \u001b[31m   \u001b[0m copying numpy/core/overrides.py -> build/lib.linux-x86_64-3.10/numpy/core\r\n  \u001b[31m   \u001b[0m   \u001b[31m   \u001b[0m copying numpy/core/numeric.py -> build/lib.linux-x86_64-3.10/numpy/core\r\n  \u001b[31m   \u001b[0m   \u001b[31m   \u001b[0m copying numpy/core/_dtype_ctypes.py -> build/lib.linux-x86_64-3.10/numpy/core\r\n  \u001b[31m   \u001b[0m   \u001b[31m   \u001b[0m copying numpy/core/_dtype.py -> build/lib.linux-x86_64-3.10/numpy/core\r\n  \u001b[31m   \u001b[0m   \u001b[31m   \u001b[0m copying numpy/core/cversions.py -> build/lib.linux-x86_64-3.10/numpy/core\r\n  \u001b[31m   \u001b[0m   \u001b[31m   \u001b[0m copying numpy/core/umath.py -> build/lib.linux-x86_64-3.10/numpy/core\r\n  \u001b[31m   \u001b[0m   \u001b[31m   \u001b[0m copying numpy/core/numerictypes.py -> build/lib.linux-x86_64-3.10/numpy/core\r\n  \u001b[31m   \u001b[0m   \u001b[31m   \u001b[0m copying numpy/core/shape_base.py -> build/lib.linux-x86_64-3.10/numpy/core\r\n  \u001b[31m   \u001b[0m   \u001b[31m   \u001b[0m copying numpy/core/_exceptions.py -> build/lib.linux-x86_64-3.10/numpy/core\r\n  \u001b[31m   \u001b[0m   \u001b[31m   \u001b[0m copying numpy/core/umath_tests.py -> build/lib.linux-x86_64-3.10/numpy/core\r\n  \u001b[31m   \u001b[0m   \u001b[31m   \u001b[0m copying numpy/core/_ufunc_config.py -> build/lib.linux-x86_64-3.10/numpy/core\r\n  \u001b[31m   \u001b[0m   \u001b[31m   \u001b[0m copying numpy/core/setup_common.py -> build/lib.linux-x86_64-3.10/numpy/core\r\n  \u001b[31m   \u001b[0m   \u001b[31m   \u001b[0m copying numpy/core/machar.py -> build/lib.linux-x86_64-3.10/numpy/core\r\n  \u001b[31m   \u001b[0m   \u001b[31m   \u001b[0m copying numpy/core/_methods.py -> build/lib.linux-x86_64-3.10/numpy/core\r\n  \u001b[31m   \u001b[0m   \u001b[31m   \u001b[0m copying numpy/core/code_generators/generate_numpy_api.py -> build/lib.linux-x86_64-3.10/numpy/core\r\n  \u001b[31m   \u001b[0m   \u001b[31m   \u001b[0m creating build/lib.linux-x86_64-3.10/numpy/core/tests\r\n  \u001b[31m   \u001b[0m   \u001b[31m   \u001b[0m copying numpy/core/tests/test_half.py -> build/lib.linux-x86_64-3.10/numpy/core/tests\r\n  \u001b[31m   \u001b[0m   \u001b[31m   \u001b[0m copying numpy/core/tests/test_extint128.py -> build/lib.linux-x86_64-3.10/numpy/core/tests\r\n  \u001b[31m   \u001b[0m   \u001b[31m   \u001b[0m copying numpy/core/tests/test_umath_accuracy.py -> build/lib.linux-x86_64-3.10/numpy/core/tests\r\n  \u001b[31m   \u001b[0m   \u001b[31m   \u001b[0m copying numpy/core/tests/test_protocols.py -> build/lib.linux-x86_64-3.10/numpy/core/tests\r\n  \u001b[31m   \u001b[0m   \u001b[31m   \u001b[0m copying numpy/core/tests/test_function_base.py -> build/lib.linux-x86_64-3.10/numpy/core/tests\r\n  \u001b[31m   \u001b[0m   \u001b[31m   \u001b[0m copying numpy/core/tests/test_ufunc.py -> build/lib.linux-x86_64-3.10/numpy/core/tests\r\n  \u001b[31m   \u001b[0m   \u001b[31m   \u001b[0m copying numpy/core/tests/test__exceptions.py -> build/lib.linux-x86_64-3.10/numpy/core/tests\r\n  \u001b[31m   \u001b[0m   \u001b[31m   \u001b[0m copying numpy/core/tests/test_nditer.py -> build/lib.linux-x86_64-3.10/numpy/core/tests\r\n  \u001b[31m   \u001b[0m   \u001b[31m   \u001b[0m copying numpy/core/tests/test_umath_complex.py -> build/lib.linux-x86_64-3.10/numpy/core/tests\r\n  \u001b[31m   \u001b[0m   \u001b[31m   \u001b[0m copying numpy/core/tests/__init__.py -> build/lib.linux-x86_64-3.10/numpy/core/tests\r\n  \u001b[31m   \u001b[0m   \u001b[31m   \u001b[0m copying numpy/core/tests/test_memmap.py -> build/lib.linux-x86_64-3.10/numpy/core/tests\r\n  \u001b[31m   \u001b[0m   \u001b[31m   \u001b[0m copying numpy/core/tests/test_item_selection.py -> build/lib.linux-x86_64-3.10/numpy/core/tests\r\n  \u001b[31m   \u001b[0m   \u001b[31m   \u001b[0m copying numpy/core/tests/test_shape_base.py -> build/lib.linux-x86_64-3.10/numpy/core/tests\r\n  \u001b[31m   \u001b[0m   \u001b[31m   \u001b[0m copying numpy/core/tests/test_mem_overlap.py -> build/lib.linux-x86_64-3.10/numpy/core/tests\r\n  \u001b[31m   \u001b[0m   \u001b[31m   \u001b[0m copying numpy/core/tests/test_records.py -> build/lib.linux-x86_64-3.10/numpy/core/tests\r\n  \u001b[31m   \u001b[0m   \u001b[31m   \u001b[0m copying numpy/core/tests/test_numerictypes.py -> build/lib.linux-x86_64-3.10/numpy/core/tests\r\n  \u001b[31m   \u001b[0m   \u001b[31m   \u001b[0m copying numpy/core/tests/test_defchararray.py -> build/lib.linux-x86_64-3.10/numpy/core/tests\r\n  \u001b[31m   \u001b[0m   \u001b[31m   \u001b[0m copying numpy/core/tests/test_scalar_methods.py -> build/lib.linux-x86_64-3.10/numpy/core/tests\r\n  \u001b[31m   \u001b[0m   \u001b[31m   \u001b[0m copying numpy/core/tests/test_scalarinherit.py -> build/lib.linux-x86_64-3.10/numpy/core/tests\r\n  \u001b[31m   \u001b[0m   \u001b[31m   \u001b[0m copying numpy/core/tests/test_dtype.py -> build/lib.linux-x86_64-3.10/numpy/core/tests\r\n  \u001b[31m   \u001b[0m   \u001b[31m   \u001b[0m copying numpy/core/tests/test_arrayprint.py -> build/lib.linux-x86_64-3.10/numpy/core/tests\r\n  \u001b[31m   \u001b[0m   \u001b[31m   \u001b[0m copying numpy/core/tests/test_datetime.py -> build/lib.linux-x86_64-3.10/numpy/core/tests\r\n  \u001b[31m   \u001b[0m   \u001b[31m   \u001b[0m copying numpy/core/tests/test_scalarbuffer.py -> build/lib.linux-x86_64-3.10/numpy/core/tests\r\n  \u001b[31m   \u001b[0m   \u001b[31m   \u001b[0m copying numpy/core/tests/test_longdouble.py -> build/lib.linux-x86_64-3.10/numpy/core/tests\r\n  \u001b[31m   \u001b[0m   \u001b[31m   \u001b[0m copying numpy/core/tests/test_numeric.py -> build/lib.linux-x86_64-3.10/numpy/core/tests\r\n  \u001b[31m   \u001b[0m   \u001b[31m   \u001b[0m copying numpy/core/tests/test_einsum.py -> build/lib.linux-x86_64-3.10/numpy/core/tests\r\n  \u001b[31m   \u001b[0m   \u001b[31m   \u001b[0m copying numpy/core/tests/test_abc.py -> build/lib.linux-x86_64-3.10/numpy/core/tests\r\n  \u001b[31m   \u001b[0m   \u001b[31m   \u001b[0m copying numpy/core/tests/test_indexing.py -> build/lib.linux-x86_64-3.10/numpy/core/tests\r\n  \u001b[31m   \u001b[0m   \u001b[31m   \u001b[0m copying numpy/core/tests/_locales.py -> build/lib.linux-x86_64-3.10/numpy/core/tests\r\n  \u001b[31m   \u001b[0m   \u001b[31m   \u001b[0m copying numpy/core/tests/test_scalarmath.py -> build/lib.linux-x86_64-3.10/numpy/core/tests\r\n  \u001b[31m   \u001b[0m   \u001b[31m   \u001b[0m copying numpy/core/tests/test_api.py -> build/lib.linux-x86_64-3.10/numpy/core/tests\r\n  \u001b[31m   \u001b[0m   \u001b[31m   \u001b[0m copying numpy/core/tests/test_overrides.py -> build/lib.linux-x86_64-3.10/numpy/core/tests\r\n  \u001b[31m   \u001b[0m   \u001b[31m   \u001b[0m copying numpy/core/tests/test_multiarray.py -> build/lib.linux-x86_64-3.10/numpy/core/tests\r\n  \u001b[31m   \u001b[0m   \u001b[31m   \u001b[0m copying numpy/core/tests/test_unicode.py -> build/lib.linux-x86_64-3.10/numpy/core/tests\r\n  \u001b[31m   \u001b[0m   \u001b[31m   \u001b[0m copying numpy/core/tests/test_scalarprint.py -> build/lib.linux-x86_64-3.10/numpy/core/tests\r\n  \u001b[31m   \u001b[0m   \u001b[31m   \u001b[0m copying numpy/core/tests/test_conversion_utils.py -> build/lib.linux-x86_64-3.10/numpy/core/tests\r\n  \u001b[31m   \u001b[0m   \u001b[31m   \u001b[0m copying numpy/core/tests/test_regression.py -> build/lib.linux-x86_64-3.10/numpy/core/tests\r\n  \u001b[31m   \u001b[0m   \u001b[31m   \u001b[0m copying numpy/core/tests/test_deprecations.py -> build/lib.linux-x86_64-3.10/numpy/core/tests\r\n  \u001b[31m   \u001b[0m   \u001b[31m   \u001b[0m copying numpy/core/tests/test_cpu_features.py -> build/lib.linux-x86_64-3.10/numpy/core/tests\r\n  \u001b[31m   \u001b[0m   \u001b[31m   \u001b[0m copying numpy/core/tests/test_print.py -> build/lib.linux-x86_64-3.10/numpy/core/tests\r\n  \u001b[31m   \u001b[0m   \u001b[31m   \u001b[0m copying numpy/core/tests/test_scalar_ctors.py -> build/lib.linux-x86_64-3.10/numpy/core/tests\r\n  \u001b[31m   \u001b[0m   \u001b[31m   \u001b[0m copying numpy/core/tests/test_getlimits.py -> build/lib.linux-x86_64-3.10/numpy/core/tests\r\n  \u001b[31m   \u001b[0m   \u001b[31m   \u001b[0m copying numpy/core/tests/test_machar.py -> build/lib.linux-x86_64-3.10/numpy/core/tests\r\n  \u001b[31m   \u001b[0m   \u001b[31m   \u001b[0m copying numpy/core/tests/test_errstate.py -> build/lib.linux-x86_64-3.10/numpy/core/tests\r\n  \u001b[31m   \u001b[0m   \u001b[31m   \u001b[0m copying numpy/core/tests/test_indexerrors.py -> build/lib.linux-x86_64-3.10/numpy/core/tests\r\n  \u001b[31m   \u001b[0m   \u001b[31m   \u001b[0m copying numpy/core/tests/test_umath.py -> build/lib.linux-x86_64-3.10/numpy/core/tests\r\n  \u001b[31m   \u001b[0m   \u001b[31m   \u001b[0m creating build/lib.linux-x86_64-3.10/numpy/distutils\r\n  \u001b[31m   \u001b[0m   \u001b[31m   \u001b[0m copying numpy/distutils/exec_command.py -> build/lib.linux-x86_64-3.10/numpy/distutils\r\n  \u001b[31m   \u001b[0m   \u001b[31m   \u001b[0m copying numpy/distutils/core.py -> build/lib.linux-x86_64-3.10/numpy/distutils\r\n  \u001b[31m   \u001b[0m   \u001b[31m   \u001b[0m copying numpy/distutils/npy_pkg_config.py -> build/lib.linux-x86_64-3.10/numpy/distutils\r\n  \u001b[31m   \u001b[0m   \u001b[31m   \u001b[0m copying numpy/distutils/mingw32ccompiler.py -> build/lib.linux-x86_64-3.10/numpy/distutils\r\n  \u001b[31m   \u001b[0m   \u001b[31m   \u001b[0m copying numpy/distutils/setup.py -> build/lib.linux-x86_64-3.10/numpy/distutils\r\n  \u001b[31m   \u001b[0m   \u001b[31m   \u001b[0m copying numpy/distutils/__init__.py -> build/lib.linux-x86_64-3.10/numpy/distutils\r\n  \u001b[31m   \u001b[0m   \u001b[31m   \u001b[0m copying numpy/distutils/conv_template.py -> build/lib.linux-x86_64-3.10/numpy/distutils\r\n  \u001b[31m   \u001b[0m   \u001b[31m   \u001b[0m copying numpy/distutils/unixccompiler.py -> build/lib.linux-x86_64-3.10/numpy/distutils\r\n  \u001b[31m   \u001b[0m   \u001b[31m   \u001b[0m copying numpy/distutils/from_template.py -> build/lib.linux-x86_64-3.10/numpy/distutils\r\n  \u001b[31m   \u001b[0m   \u001b[31m   \u001b[0m copying numpy/distutils/numpy_distribution.py -> build/lib.linux-x86_64-3.10/numpy/distutils\r\n  \u001b[31m   \u001b[0m   \u001b[31m   \u001b[0m copying numpy/distutils/misc_util.py -> build/lib.linux-x86_64-3.10/numpy/distutils\r\n  \u001b[31m   \u001b[0m   \u001b[31m   \u001b[0m copying numpy/distutils/msvc9compiler.py -> build/lib.linux-x86_64-3.10/numpy/distutils\r\n  \u001b[31m   \u001b[0m   \u001b[31m   \u001b[0m copying numpy/distutils/pathccompiler.py -> build/lib.linux-x86_64-3.10/numpy/distutils\r\n  \u001b[31m   \u001b[0m   \u001b[31m   \u001b[0m copying numpy/distutils/ccompiler.py -> build/lib.linux-x86_64-3.10/numpy/distutils\r\n  \u001b[31m   \u001b[0m   \u001b[31m   \u001b[0m copying numpy/distutils/system_info.py -> build/lib.linux-x86_64-3.10/numpy/distutils\r\n  \u001b[31m   \u001b[0m   \u001b[31m   \u001b[0m copying numpy/distutils/lib2def.py -> build/lib.linux-x86_64-3.10/numpy/distutils\r\n  \u001b[31m   \u001b[0m   \u001b[31m   \u001b[0m copying numpy/distutils/intelccompiler.py -> build/lib.linux-x86_64-3.10/numpy/distutils\r\n  \u001b[31m   \u001b[0m   \u001b[31m   \u001b[0m copying numpy/distutils/cpuinfo.py -> build/lib.linux-x86_64-3.10/numpy/distutils\r\n  \u001b[31m   \u001b[0m   \u001b[31m   \u001b[0m copying numpy/distutils/_shell_utils.py -> build/lib.linux-x86_64-3.10/numpy/distutils\r\n  \u001b[31m   \u001b[0m   \u001b[31m   \u001b[0m copying numpy/distutils/msvccompiler.py -> build/lib.linux-x86_64-3.10/numpy/distutils\r\n  \u001b[31m   \u001b[0m   \u001b[31m   \u001b[0m copying numpy/distutils/log.py -> build/lib.linux-x86_64-3.10/numpy/distutils\r\n  \u001b[31m   \u001b[0m   \u001b[31m   \u001b[0m copying numpy/distutils/line_endings.py -> build/lib.linux-x86_64-3.10/numpy/distutils\r\n  \u001b[31m   \u001b[0m   \u001b[31m   \u001b[0m copying numpy/distutils/extension.py -> build/lib.linux-x86_64-3.10/numpy/distutils\r\n  \u001b[31m   \u001b[0m   \u001b[31m   \u001b[0m copying build/src.linux-x86_64-3.10/numpy/distutils/__config__.py -> build/lib.linux-x86_64-3.10/numpy/distutils\r\n  \u001b[31m   \u001b[0m   \u001b[31m   \u001b[0m creating build/lib.linux-x86_64-3.10/numpy/distutils/command\r\n  \u001b[31m   \u001b[0m   \u001b[31m   \u001b[0m copying numpy/distutils/command/sdist.py -> build/lib.linux-x86_64-3.10/numpy/distutils/command\r\n  \u001b[31m   \u001b[0m   \u001b[31m   \u001b[0m copying numpy/distutils/command/config_compiler.py -> build/lib.linux-x86_64-3.10/numpy/distutils/command\r\n  \u001b[31m   \u001b[0m   \u001b[31m   \u001b[0m copying numpy/distutils/command/build_scripts.py -> build/lib.linux-x86_64-3.10/numpy/distutils/command\r\n  \u001b[31m   \u001b[0m   \u001b[31m   \u001b[0m copying numpy/distutils/command/config.py -> build/lib.linux-x86_64-3.10/numpy/distutils/command\r\n  \u001b[31m   \u001b[0m   \u001b[31m   \u001b[0m copying numpy/distutils/command/autodist.py -> build/lib.linux-x86_64-3.10/numpy/distutils/command\r\n  \u001b[31m   \u001b[0m   \u001b[31m   \u001b[0m copying numpy/distutils/command/build_src.py -> build/lib.linux-x86_64-3.10/numpy/distutils/command\r\n  \u001b[31m   \u001b[0m   \u001b[31m   \u001b[0m copying numpy/distutils/command/__init__.py -> build/lib.linux-x86_64-3.10/numpy/distutils/command\r\n  \u001b[31m   \u001b[0m   \u001b[31m   \u001b[0m copying numpy/distutils/command/install.py -> build/lib.linux-x86_64-3.10/numpy/distutils/command\r\n  \u001b[31m   \u001b[0m   \u001b[31m   \u001b[0m copying numpy/distutils/command/build_py.py -> build/lib.linux-x86_64-3.10/numpy/distutils/command\r\n  \u001b[31m   \u001b[0m   \u001b[31m   \u001b[0m copying numpy/distutils/command/install_data.py -> build/lib.linux-x86_64-3.10/numpy/distutils/command\r\n  \u001b[31m   \u001b[0m   \u001b[31m   \u001b[0m copying numpy/distutils/command/build_clib.py -> build/lib.linux-x86_64-3.10/numpy/distutils/command\r\n  \u001b[31m   \u001b[0m   \u001b[31m   \u001b[0m copying numpy/distutils/command/build_ext.py -> build/lib.linux-x86_64-3.10/numpy/distutils/command\r\n  \u001b[31m   \u001b[0m   \u001b[31m   \u001b[0m copying numpy/distutils/command/bdist_rpm.py -> build/lib.linux-x86_64-3.10/numpy/distutils/command\r\n  \u001b[31m   \u001b[0m   \u001b[31m   \u001b[0m copying numpy/distutils/command/install_headers.py -> build/lib.linux-x86_64-3.10/numpy/distutils/command\r\n  \u001b[31m   \u001b[0m   \u001b[31m   \u001b[0m copying numpy/distutils/command/install_clib.py -> build/lib.linux-x86_64-3.10/numpy/distutils/command\r\n  \u001b[31m   \u001b[0m   \u001b[31m   \u001b[0m copying numpy/distutils/command/egg_info.py -> build/lib.linux-x86_64-3.10/numpy/distutils/command\r\n  \u001b[31m   \u001b[0m   \u001b[31m   \u001b[0m copying numpy/distutils/command/build.py -> build/lib.linux-x86_64-3.10/numpy/distutils/command\r\n  \u001b[31m   \u001b[0m   \u001b[31m   \u001b[0m copying numpy/distutils/command/develop.py -> build/lib.linux-x86_64-3.10/numpy/distutils/command\r\n  \u001b[31m   \u001b[0m   \u001b[31m   \u001b[0m creating build/lib.linux-x86_64-3.10/numpy/distutils/fcompiler\r\n  \u001b[31m   \u001b[0m   \u001b[31m   \u001b[0m copying numpy/distutils/fcompiler/nag.py -> build/lib.linux-x86_64-3.10/numpy/distutils/fcompiler\r\n  \u001b[31m   \u001b[0m   \u001b[31m   \u001b[0m copying numpy/distutils/fcompiler/pathf95.py -> build/lib.linux-x86_64-3.10/numpy/distutils/fcompiler\r\n  \u001b[31m   \u001b[0m   \u001b[31m   \u001b[0m copying numpy/distutils/fcompiler/intel.py -> build/lib.linux-x86_64-3.10/numpy/distutils/fcompiler\r\n  \u001b[31m   \u001b[0m   \u001b[31m   \u001b[0m copying numpy/distutils/fcompiler/none.py -> build/lib.linux-x86_64-3.10/numpy/distutils/fcompiler\r\n  \u001b[31m   \u001b[0m   \u001b[31m   \u001b[0m copying numpy/distutils/fcompiler/__init__.py -> build/lib.linux-x86_64-3.10/numpy/distutils/fcompiler\r\n  \u001b[31m   \u001b[0m   \u001b[31m   \u001b[0m copying numpy/distutils/fcompiler/vast.py -> build/lib.linux-x86_64-3.10/numpy/distutils/fcompiler\r\n  \u001b[31m   \u001b[0m   \u001b[31m   \u001b[0m copying numpy/distutils/fcompiler/lahey.py -> build/lib.linux-x86_64-3.10/numpy/distutils/fcompiler\r\n  \u001b[31m   \u001b[0m   \u001b[31m   \u001b[0m copying numpy/distutils/fcompiler/mips.py -> build/lib.linux-x86_64-3.10/numpy/distutils/fcompiler\r\n  \u001b[31m   \u001b[0m   \u001b[31m   \u001b[0m copying numpy/distutils/fcompiler/hpux.py -> build/lib.linux-x86_64-3.10/numpy/distutils/fcompiler\r\n  \u001b[31m   \u001b[0m   \u001b[31m   \u001b[0m copying numpy/distutils/fcompiler/nv.py -> build/lib.linux-x86_64-3.10/numpy/distutils/fcompiler\r\n  \u001b[31m   \u001b[0m   \u001b[31m   \u001b[0m copying numpy/distutils/fcompiler/sun.py -> build/lib.linux-x86_64-3.10/numpy/distutils/fcompiler\r\n  \u001b[31m   \u001b[0m   \u001b[31m   \u001b[0m copying numpy/distutils/fcompiler/environment.py -> build/lib.linux-x86_64-3.10/numpy/distutils/fcompiler\r\n  \u001b[31m   \u001b[0m   \u001b[31m   \u001b[0m copying numpy/distutils/fcompiler/pg.py -> build/lib.linux-x86_64-3.10/numpy/distutils/fcompiler\r\n  \u001b[31m   \u001b[0m   \u001b[31m   \u001b[0m copying numpy/distutils/fcompiler/gnu.py -> build/lib.linux-x86_64-3.10/numpy/distutils/fcompiler\r\n  \u001b[31m   \u001b[0m   \u001b[31m   \u001b[0m copying numpy/distutils/fcompiler/g95.py -> build/lib.linux-x86_64-3.10/numpy/distutils/fcompiler\r\n  \u001b[31m   \u001b[0m   \u001b[31m   \u001b[0m copying numpy/distutils/fcompiler/compaq.py -> build/lib.linux-x86_64-3.10/numpy/distutils/fcompiler\r\n  \u001b[31m   \u001b[0m   \u001b[31m   \u001b[0m copying numpy/distutils/fcompiler/absoft.py -> build/lib.linux-x86_64-3.10/numpy/distutils/fcompiler\r\n  \u001b[31m   \u001b[0m   \u001b[31m   \u001b[0m copying numpy/distutils/fcompiler/ibm.py -> build/lib.linux-x86_64-3.10/numpy/distutils/fcompiler\r\n  \u001b[31m   \u001b[0m   \u001b[31m   \u001b[0m creating build/lib.linux-x86_64-3.10/numpy/distutils/tests\r\n  \u001b[31m   \u001b[0m   \u001b[31m   \u001b[0m copying numpy/distutils/tests/test_shell_utils.py -> build/lib.linux-x86_64-3.10/numpy/distutils/tests\r\n  \u001b[31m   \u001b[0m   \u001b[31m   \u001b[0m copying numpy/distutils/tests/test_from_template.py -> build/lib.linux-x86_64-3.10/numpy/distutils/tests\r\n  \u001b[31m   \u001b[0m   \u001b[31m   \u001b[0m copying numpy/distutils/tests/test_fcompiler_nagfor.py -> build/lib.linux-x86_64-3.10/numpy/distutils/tests\r\n  \u001b[31m   \u001b[0m   \u001b[31m   \u001b[0m copying numpy/distutils/tests/test_misc_util.py -> build/lib.linux-x86_64-3.10/numpy/distutils/tests\r\n  \u001b[31m   \u001b[0m   \u001b[31m   \u001b[0m copying numpy/distutils/tests/__init__.py -> build/lib.linux-x86_64-3.10/numpy/distutils/tests\r\n  \u001b[31m   \u001b[0m   \u001b[31m   \u001b[0m copying numpy/distutils/tests/test_fcompiler.py -> build/lib.linux-x86_64-3.10/numpy/distutils/tests\r\n  \u001b[31m   \u001b[0m   \u001b[31m   \u001b[0m copying numpy/distutils/tests/test_fcompiler_intel.py -> build/lib.linux-x86_64-3.10/numpy/distutils/tests\r\n  \u001b[31m   \u001b[0m   \u001b[31m   \u001b[0m copying numpy/distutils/tests/test_fcompiler_gnu.py -> build/lib.linux-x86_64-3.10/numpy/distutils/tests\r\n  \u001b[31m   \u001b[0m   \u001b[31m   \u001b[0m copying numpy/distutils/tests/test_npy_pkg_config.py -> build/lib.linux-x86_64-3.10/numpy/distutils/tests\r\n  \u001b[31m   \u001b[0m   \u001b[31m   \u001b[0m copying numpy/distutils/tests/test_exec_command.py -> build/lib.linux-x86_64-3.10/numpy/distutils/tests\r\n  \u001b[31m   \u001b[0m   \u001b[31m   \u001b[0m copying numpy/distutils/tests/test_system_info.py -> build/lib.linux-x86_64-3.10/numpy/distutils/tests\r\n  \u001b[31m   \u001b[0m   \u001b[31m   \u001b[0m copying numpy/distutils/tests/test_mingw32ccompiler.py -> build/lib.linux-x86_64-3.10/numpy/distutils/tests\r\n  \u001b[31m   \u001b[0m   \u001b[31m   \u001b[0m creating build/lib.linux-x86_64-3.10/numpy/doc\r\n  \u001b[31m   \u001b[0m   \u001b[31m   \u001b[0m copying numpy/doc/__init__.py -> build/lib.linux-x86_64-3.10/numpy/doc\r\n  \u001b[31m   \u001b[0m   \u001b[31m   \u001b[0m copying numpy/doc/constants.py -> build/lib.linux-x86_64-3.10/numpy/doc\r\n  \u001b[31m   \u001b[0m   \u001b[31m   \u001b[0m copying numpy/doc/byteswapping.py -> build/lib.linux-x86_64-3.10/numpy/doc\r\n  \u001b[31m   \u001b[0m   \u001b[31m   \u001b[0m copying numpy/doc/subclassing.py -> build/lib.linux-x86_64-3.10/numpy/doc\r\n  \u001b[31m   \u001b[0m   \u001b[31m   \u001b[0m copying numpy/doc/misc.py -> build/lib.linux-x86_64-3.10/numpy/doc\r\n  \u001b[31m   \u001b[0m   \u001b[31m   \u001b[0m copying numpy/doc/creation.py -> build/lib.linux-x86_64-3.10/numpy/doc\r\n  \u001b[31m   \u001b[0m   \u001b[31m   \u001b[0m copying numpy/doc/glossary.py -> build/lib.linux-x86_64-3.10/numpy/doc\r\n  \u001b[31m   \u001b[0m   \u001b[31m   \u001b[0m copying numpy/doc/broadcasting.py -> build/lib.linux-x86_64-3.10/numpy/doc\r\n  \u001b[31m   \u001b[0m   \u001b[31m   \u001b[0m copying numpy/doc/internals.py -> build/lib.linux-x86_64-3.10/numpy/doc\r\n  \u001b[31m   \u001b[0m   \u001b[31m   \u001b[0m copying numpy/doc/ufuncs.py -> build/lib.linux-x86_64-3.10/numpy/doc\r\n  \u001b[31m   \u001b[0m   \u001b[31m   \u001b[0m copying numpy/doc/indexing.py -> build/lib.linux-x86_64-3.10/numpy/doc\r\n  \u001b[31m   \u001b[0m   \u001b[31m   \u001b[0m copying numpy/doc/structured_arrays.py -> build/lib.linux-x86_64-3.10/numpy/doc\r\n  \u001b[31m   \u001b[0m   \u001b[31m   \u001b[0m copying numpy/doc/dispatch.py -> build/lib.linux-x86_64-3.10/numpy/doc\r\n  \u001b[31m   \u001b[0m   \u001b[31m   \u001b[0m copying numpy/doc/basics.py -> build/lib.linux-x86_64-3.10/numpy/doc\r\n  \u001b[31m   \u001b[0m   \u001b[31m   \u001b[0m creating build/lib.linux-x86_64-3.10/numpy/f2py\r\n  \u001b[31m   \u001b[0m   \u001b[31m   \u001b[0m copying numpy/f2py/f2py_testing.py -> build/lib.linux-x86_64-3.10/numpy/f2py\r\n  \u001b[31m   \u001b[0m   \u001b[31m   \u001b[0m copying numpy/f2py/setup.py -> build/lib.linux-x86_64-3.10/numpy/f2py\r\n  \u001b[31m   \u001b[0m   \u001b[31m   \u001b[0m copying numpy/f2py/__init__.py -> build/lib.linux-x86_64-3.10/numpy/f2py\r\n  \u001b[31m   \u001b[0m   \u001b[31m   \u001b[0m copying numpy/f2py/crackfortran.py -> build/lib.linux-x86_64-3.10/numpy/f2py\r\n  \u001b[31m   \u001b[0m   \u001b[31m   \u001b[0m copying numpy/f2py/rules.py -> build/lib.linux-x86_64-3.10/numpy/f2py\r\n  \u001b[31m   \u001b[0m   \u001b[31m   \u001b[0m copying numpy/f2py/f2py2e.py -> build/lib.linux-x86_64-3.10/numpy/f2py\r\n  \u001b[31m   \u001b[0m   \u001b[31m   \u001b[0m copying numpy/f2py/diagnose.py -> build/lib.linux-x86_64-3.10/numpy/f2py\r\n  \u001b[31m   \u001b[0m   \u001b[31m   \u001b[0m copying numpy/f2py/cb_rules.py -> build/lib.linux-x86_64-3.10/numpy/f2py\r\n  \u001b[31m   \u001b[0m   \u001b[31m   \u001b[0m copying numpy/f2py/cfuncs.py -> build/lib.linux-x86_64-3.10/numpy/f2py\r\n  \u001b[31m   \u001b[0m   \u001b[31m   \u001b[0m copying numpy/f2py/f90mod_rules.py -> build/lib.linux-x86_64-3.10/numpy/f2py\r\n  \u001b[31m   \u001b[0m   \u001b[31m   \u001b[0m copying numpy/f2py/auxfuncs.py -> build/lib.linux-x86_64-3.10/numpy/f2py\r\n  \u001b[31m   \u001b[0m   \u001b[31m   \u001b[0m copying numpy/f2py/__main__.py -> build/lib.linux-x86_64-3.10/numpy/f2py\r\n  \u001b[31m   \u001b[0m   \u001b[31m   \u001b[0m copying numpy/f2py/func2subr.py -> build/lib.linux-x86_64-3.10/numpy/f2py\r\n  \u001b[31m   \u001b[0m   \u001b[31m   \u001b[0m copying numpy/f2py/use_rules.py -> build/lib.linux-x86_64-3.10/numpy/f2py\r\n  \u001b[31m   \u001b[0m   \u001b[31m   \u001b[0m copying numpy/f2py/__version__.py -> build/lib.linux-x86_64-3.10/numpy/f2py\r\n  \u001b[31m   \u001b[0m   \u001b[31m   \u001b[0m copying numpy/f2py/capi_maps.py -> build/lib.linux-x86_64-3.10/numpy/f2py\r\n  \u001b[31m   \u001b[0m   \u001b[31m   \u001b[0m copying numpy/f2py/common_rules.py -> build/lib.linux-x86_64-3.10/numpy/f2py\r\n  \u001b[31m   \u001b[0m   \u001b[31m   \u001b[0m creating build/lib.linux-x86_64-3.10/numpy/f2py/tests\r\n  \u001b[31m   \u001b[0m   \u001b[31m   \u001b[0m copying numpy/f2py/tests/test_return_character.py -> build/lib.linux-x86_64-3.10/numpy/f2py/tests\r\n  \u001b[31m   \u001b[0m   \u001b[31m   \u001b[0m copying numpy/f2py/tests/test_string.py -> build/lib.linux-x86_64-3.10/numpy/f2py/tests\r\n  \u001b[31m   \u001b[0m   \u001b[31m   \u001b[0m copying numpy/f2py/tests/test_semicolon_split.py -> build/lib.linux-x86_64-3.10/numpy/f2py/tests\r\n  \u001b[31m   \u001b[0m   \u001b[31m   \u001b[0m copying numpy/f2py/tests/__init__.py -> build/lib.linux-x86_64-3.10/numpy/f2py/tests\r\n  \u001b[31m   \u001b[0m   \u001b[31m   \u001b[0m copying numpy/f2py/tests/test_callback.py -> build/lib.linux-x86_64-3.10/numpy/f2py/tests\r\n  \u001b[31m   \u001b[0m   \u001b[31m   \u001b[0m copying numpy/f2py/tests/test_return_real.py -> build/lib.linux-x86_64-3.10/numpy/f2py/tests\r\n  \u001b[31m   \u001b[0m   \u001b[31m   \u001b[0m copying numpy/f2py/tests/test_array_from_pyobj.py -> build/lib.linux-x86_64-3.10/numpy/f2py/tests\r\n  \u001b[31m   \u001b[0m   \u001b[31m   \u001b[0m copying numpy/f2py/tests/test_return_integer.py -> build/lib.linux-x86_64-3.10/numpy/f2py/tests\r\n  \u001b[31m   \u001b[0m   \u001b[31m   \u001b[0m copying numpy/f2py/tests/test_return_logical.py -> build/lib.linux-x86_64-3.10/numpy/f2py/tests\r\n  \u001b[31m   \u001b[0m   \u001b[31m   \u001b[0m copying numpy/f2py/tests/test_block_docstring.py -> build/lib.linux-x86_64-3.10/numpy/f2py/tests\r\n  \u001b[31m   \u001b[0m   \u001b[31m   \u001b[0m copying numpy/f2py/tests/test_return_complex.py -> build/lib.linux-x86_64-3.10/numpy/f2py/tests\r\n  \u001b[31m   \u001b[0m   \u001b[31m   \u001b[0m copying numpy/f2py/tests/test_crackfortran.py -> build/lib.linux-x86_64-3.10/numpy/f2py/tests\r\n  \u001b[31m   \u001b[0m   \u001b[31m   \u001b[0m copying numpy/f2py/tests/test_size.py -> build/lib.linux-x86_64-3.10/numpy/f2py/tests\r\n  \u001b[31m   \u001b[0m   \u001b[31m   \u001b[0m copying numpy/f2py/tests/test_kind.py -> build/lib.linux-x86_64-3.10/numpy/f2py/tests\r\n  \u001b[31m   \u001b[0m   \u001b[31m   \u001b[0m copying numpy/f2py/tests/test_quoted_character.py -> build/lib.linux-x86_64-3.10/numpy/f2py/tests\r\n  \u001b[31m   \u001b[0m   \u001b[31m   \u001b[0m copying numpy/f2py/tests/util.py -> build/lib.linux-x86_64-3.10/numpy/f2py/tests\r\n  \u001b[31m   \u001b[0m   \u001b[31m   \u001b[0m copying numpy/f2py/tests/test_regression.py -> build/lib.linux-x86_64-3.10/numpy/f2py/tests\r\n  \u001b[31m   \u001b[0m   \u001b[31m   \u001b[0m copying numpy/f2py/tests/test_assumed_shape.py -> build/lib.linux-x86_64-3.10/numpy/f2py/tests\r\n  \u001b[31m   \u001b[0m   \u001b[31m   \u001b[0m copying numpy/f2py/tests/test_parameter.py -> build/lib.linux-x86_64-3.10/numpy/f2py/tests\r\n  \u001b[31m   \u001b[0m   \u001b[31m   \u001b[0m copying numpy/f2py/tests/test_common.py -> build/lib.linux-x86_64-3.10/numpy/f2py/tests\r\n  \u001b[31m   \u001b[0m   \u001b[31m   \u001b[0m copying numpy/f2py/tests/test_compile_function.py -> build/lib.linux-x86_64-3.10/numpy/f2py/tests\r\n  \u001b[31m   \u001b[0m   \u001b[31m   \u001b[0m copying numpy/f2py/tests/test_mixed.py -> build/lib.linux-x86_64-3.10/numpy/f2py/tests\r\n  \u001b[31m   \u001b[0m   \u001b[31m   \u001b[0m creating build/lib.linux-x86_64-3.10/numpy/fft\r\n  \u001b[31m   \u001b[0m   \u001b[31m   \u001b[0m copying numpy/fft/_pocketfft.py -> build/lib.linux-x86_64-3.10/numpy/fft\r\n  \u001b[31m   \u001b[0m   \u001b[31m   \u001b[0m copying numpy/fft/setup.py -> build/lib.linux-x86_64-3.10/numpy/fft\r\n  \u001b[31m   \u001b[0m   \u001b[31m   \u001b[0m copying numpy/fft/__init__.py -> build/lib.linux-x86_64-3.10/numpy/fft\r\n  \u001b[31m   \u001b[0m   \u001b[31m   \u001b[0m copying numpy/fft/helper.py -> build/lib.linux-x86_64-3.10/numpy/fft\r\n  \u001b[31m   \u001b[0m   \u001b[31m   \u001b[0m creating build/lib.linux-x86_64-3.10/numpy/fft/tests\r\n  \u001b[31m   \u001b[0m   \u001b[31m   \u001b[0m copying numpy/fft/tests/__init__.py -> build/lib.linux-x86_64-3.10/numpy/fft/tests\r\n  \u001b[31m   \u001b[0m   \u001b[31m   \u001b[0m copying numpy/fft/tests/test_helper.py -> build/lib.linux-x86_64-3.10/numpy/fft/tests\r\n  \u001b[31m   \u001b[0m   \u001b[31m   \u001b[0m copying numpy/fft/tests/test_pocketfft.py -> build/lib.linux-x86_64-3.10/numpy/fft/tests\r\n  \u001b[31m   \u001b[0m   \u001b[31m   \u001b[0m creating build/lib.linux-x86_64-3.10/numpy/lib\r\n  \u001b[31m   \u001b[0m   \u001b[31m   \u001b[0m copying numpy/lib/_datasource.py -> build/lib.linux-x86_64-3.10/numpy/lib\r\n  \u001b[31m   \u001b[0m   \u001b[31m   \u001b[0m copying numpy/lib/arrayterator.py -> build/lib.linux-x86_64-3.10/numpy/lib\r\n  \u001b[31m   \u001b[0m   \u001b[31m   \u001b[0m copying numpy/lib/utils.py -> build/lib.linux-x86_64-3.10/numpy/lib\r\n  \u001b[31m   \u001b[0m   \u001b[31m   \u001b[0m copying numpy/lib/_version.py -> build/lib.linux-x86_64-3.10/numpy/lib\r\n  \u001b[31m   \u001b[0m   \u001b[31m   \u001b[0m copying numpy/lib/scimath.py -> build/lib.linux-x86_64-3.10/numpy/lib\r\n  \u001b[31m   \u001b[0m   \u001b[31m   \u001b[0m copying numpy/lib/ufunclike.py -> build/lib.linux-x86_64-3.10/numpy/lib\r\n  \u001b[31m   \u001b[0m   \u001b[31m   \u001b[0m copying numpy/lib/setup.py -> build/lib.linux-x86_64-3.10/numpy/lib\r\n  \u001b[31m   \u001b[0m   \u001b[31m   \u001b[0m copying numpy/lib/__init__.py -> build/lib.linux-x86_64-3.10/numpy/lib\r\n  \u001b[31m   \u001b[0m   \u001b[31m   \u001b[0m copying numpy/lib/nanfunctions.py -> build/lib.linux-x86_64-3.10/numpy/lib\r\n  \u001b[31m   \u001b[0m   \u001b[31m   \u001b[0m copying numpy/lib/_iotools.py -> build/lib.linux-x86_64-3.10/numpy/lib\r\n  \u001b[31m   \u001b[0m   \u001b[31m   \u001b[0m copying numpy/lib/function_base.py -> build/lib.linux-x86_64-3.10/numpy/lib\r\n  \u001b[31m   \u001b[0m   \u001b[31m   \u001b[0m copying numpy/lib/npyio.py -> build/lib.linux-x86_64-3.10/numpy/lib\r\n  \u001b[31m   \u001b[0m   \u001b[31m   \u001b[0m copying numpy/lib/polynomial.py -> build/lib.linux-x86_64-3.10/numpy/lib\r\n  \u001b[31m   \u001b[0m   \u001b[31m   \u001b[0m copying numpy/lib/user_array.py -> build/lib.linux-x86_64-3.10/numpy/lib\r\n  \u001b[31m   \u001b[0m   \u001b[31m   \u001b[0m copying numpy/lib/arraysetops.py -> build/lib.linux-x86_64-3.10/numpy/lib\r\n  \u001b[31m   \u001b[0m   \u001b[31m   \u001b[0m copying numpy/lib/twodim_base.py -> build/lib.linux-x86_64-3.10/numpy/lib\r\n  \u001b[31m   \u001b[0m   \u001b[31m   \u001b[0m copying numpy/lib/index_tricks.py -> build/lib.linux-x86_64-3.10/numpy/lib\r\n  \u001b[31m   \u001b[0m   \u001b[31m   \u001b[0m copying numpy/lib/shape_base.py -> build/lib.linux-x86_64-3.10/numpy/lib\r\n  \u001b[31m   \u001b[0m   \u001b[31m   \u001b[0m copying numpy/lib/stride_tricks.py -> build/lib.linux-x86_64-3.10/numpy/lib\r\n  \u001b[31m   \u001b[0m   \u001b[31m   \u001b[0m copying numpy/lib/type_check.py -> build/lib.linux-x86_64-3.10/numpy/lib\r\n  \u001b[31m   \u001b[0m   \u001b[31m   \u001b[0m copying numpy/lib/histograms.py -> build/lib.linux-x86_64-3.10/numpy/lib\r\n  \u001b[31m   \u001b[0m   \u001b[31m   \u001b[0m copying numpy/lib/arraypad.py -> build/lib.linux-x86_64-3.10/numpy/lib\r\n  \u001b[31m   \u001b[0m   \u001b[31m   \u001b[0m copying numpy/lib/format.py -> build/lib.linux-x86_64-3.10/numpy/lib\r\n  \u001b[31m   \u001b[0m   \u001b[31m   \u001b[0m copying numpy/lib/mixins.py -> build/lib.linux-x86_64-3.10/numpy/lib\r\n  \u001b[31m   \u001b[0m   \u001b[31m   \u001b[0m copying numpy/lib/financial.py -> build/lib.linux-x86_64-3.10/numpy/lib\r\n  \u001b[31m   \u001b[0m   \u001b[31m   \u001b[0m copying numpy/lib/recfunctions.py -> build/lib.linux-x86_64-3.10/numpy/lib\r\n  \u001b[31m   \u001b[0m   \u001b[31m   \u001b[0m creating build/lib.linux-x86_64-3.10/numpy/lib/tests\r\n  \u001b[31m   \u001b[0m   \u001b[31m   \u001b[0m copying numpy/lib/tests/test_histograms.py -> build/lib.linux-x86_64-3.10/numpy/lib/tests\r\n  \u001b[31m   \u001b[0m   \u001b[31m   \u001b[0m copying numpy/lib/tests/test_arrayterator.py -> build/lib.linux-x86_64-3.10/numpy/lib/tests\r\n  \u001b[31m   \u001b[0m   \u001b[31m   \u001b[0m copying numpy/lib/tests/test_ufunclike.py -> build/lib.linux-x86_64-3.10/numpy/lib/tests\r\n  \u001b[31m   \u001b[0m   \u001b[31m   \u001b[0m copying numpy/lib/tests/test_financial.py -> build/lib.linux-x86_64-3.10/numpy/lib/tests\r\n  \u001b[31m   \u001b[0m   \u001b[31m   \u001b[0m copying numpy/lib/tests/test_function_base.py -> build/lib.linux-x86_64-3.10/numpy/lib/tests\r\n  \u001b[31m   \u001b[0m   \u001b[31m   \u001b[0m copying numpy/lib/tests/test_nanfunctions.py -> build/lib.linux-x86_64-3.10/numpy/lib/tests\r\n  \u001b[31m   \u001b[0m   \u001b[31m   \u001b[0m copying numpy/lib/tests/test_arraypad.py -> build/lib.linux-x86_64-3.10/numpy/lib/tests\r\n  \u001b[31m   \u001b[0m   \u001b[31m   \u001b[0m copying numpy/lib/tests/test_recfunctions.py -> build/lib.linux-x86_64-3.10/numpy/lib/tests\r\n  \u001b[31m   \u001b[0m   \u001b[31m   \u001b[0m copying numpy/lib/tests/__init__.py -> build/lib.linux-x86_64-3.10/numpy/lib/tests\r\n  \u001b[31m   \u001b[0m   \u001b[31m   \u001b[0m copying numpy/lib/tests/test_index_tricks.py -> build/lib.linux-x86_64-3.10/numpy/lib/tests\r\n  \u001b[31m   \u001b[0m   \u001b[31m   \u001b[0m copying numpy/lib/tests/test_shape_base.py -> build/lib.linux-x86_64-3.10/numpy/lib/tests\r\n  \u001b[31m   \u001b[0m   \u001b[31m   \u001b[0m copying numpy/lib/tests/test_utils.py -> build/lib.linux-x86_64-3.10/numpy/lib/tests\r\n  \u001b[31m   \u001b[0m   \u001b[31m   \u001b[0m copying numpy/lib/tests/test_mixins.py -> build/lib.linux-x86_64-3.10/numpy/lib/tests\r\n  \u001b[31m   \u001b[0m   \u001b[31m   \u001b[0m copying numpy/lib/tests/test_twodim_base.py -> build/lib.linux-x86_64-3.10/numpy/lib/tests\r\n  \u001b[31m   \u001b[0m   \u001b[31m   \u001b[0m copying numpy/lib/tests/test__version.py -> build/lib.linux-x86_64-3.10/numpy/lib/tests\r\n  \u001b[31m   \u001b[0m   \u001b[31m   \u001b[0m copying numpy/lib/tests/test_io.py -> build/lib.linux-x86_64-3.10/numpy/lib/tests\r\n  \u001b[31m   \u001b[0m   \u001b[31m   \u001b[0m copying numpy/lib/tests/test__datasource.py -> build/lib.linux-x86_64-3.10/numpy/lib/tests\r\n  \u001b[31m   \u001b[0m   \u001b[31m   \u001b[0m copying numpy/lib/tests/test_type_check.py -> build/lib.linux-x86_64-3.10/numpy/lib/tests\r\n  \u001b[31m   \u001b[0m   \u001b[31m   \u001b[0m copying numpy/lib/tests/test_regression.py -> build/lib.linux-x86_64-3.10/numpy/lib/tests\r\n  \u001b[31m   \u001b[0m   \u001b[31m   \u001b[0m copying numpy/lib/tests/test_packbits.py -> build/lib.linux-x86_64-3.10/numpy/lib/tests\r\n  \u001b[31m   \u001b[0m   \u001b[31m   \u001b[0m copying numpy/lib/tests/test__iotools.py -> build/lib.linux-x86_64-3.10/numpy/lib/tests\r\n  \u001b[31m   \u001b[0m   \u001b[31m   \u001b[0m copying numpy/lib/tests/test_stride_tricks.py -> build/lib.linux-x86_64-3.10/numpy/lib/tests\r\n  \u001b[31m   \u001b[0m   \u001b[31m   \u001b[0m copying numpy/lib/tests/test_arraysetops.py -> build/lib.linux-x86_64-3.10/numpy/lib/tests\r\n  \u001b[31m   \u001b[0m   \u001b[31m   \u001b[0m copying numpy/lib/tests/test_polynomial.py -> build/lib.linux-x86_64-3.10/numpy/lib/tests\r\n  \u001b[31m   \u001b[0m   \u001b[31m   \u001b[0m copying numpy/lib/tests/test_format.py -> build/lib.linux-x86_64-3.10/numpy/lib/tests\r\n  \u001b[31m   \u001b[0m   \u001b[31m   \u001b[0m creating build/lib.linux-x86_64-3.10/numpy/linalg\r\n  \u001b[31m   \u001b[0m   \u001b[31m   \u001b[0m copying numpy/linalg/setup.py -> build/lib.linux-x86_64-3.10/numpy/linalg\r\n  \u001b[31m   \u001b[0m   \u001b[31m   \u001b[0m copying numpy/linalg/__init__.py -> build/lib.linux-x86_64-3.10/numpy/linalg\r\n  \u001b[31m   \u001b[0m   \u001b[31m   \u001b[0m copying numpy/linalg/linalg.py -> build/lib.linux-x86_64-3.10/numpy/linalg\r\n  \u001b[31m   \u001b[0m   \u001b[31m   \u001b[0m creating build/lib.linux-x86_64-3.10/numpy/linalg/tests\r\n  \u001b[31m   \u001b[0m   \u001b[31m   \u001b[0m copying numpy/linalg/tests/__init__.py -> build/lib.linux-x86_64-3.10/numpy/linalg/tests\r\n  \u001b[31m   \u001b[0m   \u001b[31m   \u001b[0m copying numpy/linalg/tests/test_build.py -> build/lib.linux-x86_64-3.10/numpy/linalg/tests\r\n  \u001b[31m   \u001b[0m   \u001b[31m   \u001b[0m copying numpy/linalg/tests/test_regression.py -> build/lib.linux-x86_64-3.10/numpy/linalg/tests\r\n  \u001b[31m   \u001b[0m   \u001b[31m   \u001b[0m copying numpy/linalg/tests/test_deprecations.py -> build/lib.linux-x86_64-3.10/numpy/linalg/tests\r\n  \u001b[31m   \u001b[0m   \u001b[31m   \u001b[0m copying numpy/linalg/tests/test_linalg.py -> build/lib.linux-x86_64-3.10/numpy/linalg/tests\r\n  \u001b[31m   \u001b[0m   \u001b[31m   \u001b[0m creating build/lib.linux-x86_64-3.10/numpy/ma\r\n  \u001b[31m   \u001b[0m   \u001b[31m   \u001b[0m copying numpy/ma/core.py -> build/lib.linux-x86_64-3.10/numpy/ma\r\n  \u001b[31m   \u001b[0m   \u001b[31m   \u001b[0m copying numpy/ma/timer_comparison.py -> build/lib.linux-x86_64-3.10/numpy/ma\r\n  \u001b[31m   \u001b[0m   \u001b[31m   \u001b[0m copying numpy/ma/setup.py -> build/lib.linux-x86_64-3.10/numpy/ma\r\n  \u001b[31m   \u001b[0m   \u001b[31m   \u001b[0m copying numpy/ma/testutils.py -> build/lib.linux-x86_64-3.10/numpy/ma\r\n  \u001b[31m   \u001b[0m   \u001b[31m   \u001b[0m copying numpy/ma/bench.py -> build/lib.linux-x86_64-3.10/numpy/ma\r\n  \u001b[31m   \u001b[0m   \u001b[31m   \u001b[0m copying numpy/ma/__init__.py -> build/lib.linux-x86_64-3.10/numpy/ma\r\n  \u001b[31m   \u001b[0m   \u001b[31m   \u001b[0m copying numpy/ma/extras.py -> build/lib.linux-x86_64-3.10/numpy/ma\r\n  \u001b[31m   \u001b[0m   \u001b[31m   \u001b[0m copying numpy/ma/mrecords.py -> build/lib.linux-x86_64-3.10/numpy/ma\r\n  \u001b[31m   \u001b[0m   \u001b[31m   \u001b[0m creating build/lib.linux-x86_64-3.10/numpy/ma/tests\r\n  \u001b[31m   \u001b[0m   \u001b[31m   \u001b[0m copying numpy/ma/tests/test_core.py -> build/lib.linux-x86_64-3.10/numpy/ma/tests\r\n  \u001b[31m   \u001b[0m   \u001b[31m   \u001b[0m copying numpy/ma/tests/test_extras.py -> build/lib.linux-x86_64-3.10/numpy/ma/tests\r\n  \u001b[31m   \u001b[0m   \u001b[31m   \u001b[0m copying numpy/ma/tests/__init__.py -> build/lib.linux-x86_64-3.10/numpy/ma/tests\r\n  \u001b[31m   \u001b[0m   \u001b[31m   \u001b[0m copying numpy/ma/tests/test_old_ma.py -> build/lib.linux-x86_64-3.10/numpy/ma/tests\r\n  \u001b[31m   \u001b[0m   \u001b[31m   \u001b[0m copying numpy/ma/tests/test_subclassing.py -> build/lib.linux-x86_64-3.10/numpy/ma/tests\r\n  \u001b[31m   \u001b[0m   \u001b[31m   \u001b[0m copying numpy/ma/tests/test_mrecords.py -> build/lib.linux-x86_64-3.10/numpy/ma/tests\r\n  \u001b[31m   \u001b[0m   \u001b[31m   \u001b[0m copying numpy/ma/tests/test_regression.py -> build/lib.linux-x86_64-3.10/numpy/ma/tests\r\n  \u001b[31m   \u001b[0m   \u001b[31m   \u001b[0m copying numpy/ma/tests/test_deprecations.py -> build/lib.linux-x86_64-3.10/numpy/ma/tests\r\n  \u001b[31m   \u001b[0m   \u001b[31m   \u001b[0m creating build/lib.linux-x86_64-3.10/numpy/matrixlib\r\n  \u001b[31m   \u001b[0m   \u001b[31m   \u001b[0m copying numpy/matrixlib/setup.py -> build/lib.linux-x86_64-3.10/numpy/matrixlib\r\n  \u001b[31m   \u001b[0m   \u001b[31m   \u001b[0m copying numpy/matrixlib/__init__.py -> build/lib.linux-x86_64-3.10/numpy/matrixlib\r\n  \u001b[31m   \u001b[0m   \u001b[31m   \u001b[0m copying numpy/matrixlib/defmatrix.py -> build/lib.linux-x86_64-3.10/numpy/matrixlib\r\n  \u001b[31m   \u001b[0m   \u001b[31m   \u001b[0m creating build/lib.linux-x86_64-3.10/numpy/matrixlib/tests\r\n  \u001b[31m   \u001b[0m   \u001b[31m   \u001b[0m copying numpy/matrixlib/tests/__init__.py -> build/lib.linux-x86_64-3.10/numpy/matrixlib/tests\r\n  \u001b[31m   \u001b[0m   \u001b[31m   \u001b[0m copying numpy/matrixlib/tests/test_defmatrix.py -> build/lib.linux-x86_64-3.10/numpy/matrixlib/tests\r\n  \u001b[31m   \u001b[0m   \u001b[31m   \u001b[0m copying numpy/matrixlib/tests/test_numeric.py -> build/lib.linux-x86_64-3.10/numpy/matrixlib/tests\r\n  \u001b[31m   \u001b[0m   \u001b[31m   \u001b[0m copying numpy/matrixlib/tests/test_masked_matrix.py -> build/lib.linux-x86_64-3.10/numpy/matrixlib/tests\r\n  \u001b[31m   \u001b[0m   \u001b[31m   \u001b[0m copying numpy/matrixlib/tests/test_multiarray.py -> build/lib.linux-x86_64-3.10/numpy/matrixlib/tests\r\n  \u001b[31m   \u001b[0m   \u001b[31m   \u001b[0m copying numpy/matrixlib/tests/test_matrix_linalg.py -> build/lib.linux-x86_64-3.10/numpy/matrixlib/tests\r\n  \u001b[31m   \u001b[0m   \u001b[31m   \u001b[0m copying numpy/matrixlib/tests/test_regression.py -> build/lib.linux-x86_64-3.10/numpy/matrixlib/tests\r\n  \u001b[31m   \u001b[0m   \u001b[31m   \u001b[0m copying numpy/matrixlib/tests/test_interaction.py -> build/lib.linux-x86_64-3.10/numpy/matrixlib/tests\r\n  \u001b[31m   \u001b[0m   \u001b[31m   \u001b[0m creating build/lib.linux-x86_64-3.10/numpy/polynomial\r\n  \u001b[31m   \u001b[0m   \u001b[31m   \u001b[0m copying numpy/polynomial/hermite.py -> build/lib.linux-x86_64-3.10/numpy/polynomial\r\n  \u001b[31m   \u001b[0m   \u001b[31m   \u001b[0m copying numpy/polynomial/setup.py -> build/lib.linux-x86_64-3.10/numpy/polynomial\r\n  \u001b[31m   \u001b[0m   \u001b[31m   \u001b[0m copying numpy/polynomial/__init__.py -> build/lib.linux-x86_64-3.10/numpy/polynomial\r\n  \u001b[31m   \u001b[0m   \u001b[31m   \u001b[0m copying numpy/polynomial/laguerre.py -> build/lib.linux-x86_64-3.10/numpy/polynomial\r\n  \u001b[31m   \u001b[0m   \u001b[31m   \u001b[0m copying numpy/polynomial/legendre.py -> build/lib.linux-x86_64-3.10/numpy/polynomial\r\n  \u001b[31m   \u001b[0m   \u001b[31m   \u001b[0m copying numpy/polynomial/polynomial.py -> build/lib.linux-x86_64-3.10/numpy/polynomial\r\n  \u001b[31m   \u001b[0m   \u001b[31m   \u001b[0m copying numpy/polynomial/chebyshev.py -> build/lib.linux-x86_64-3.10/numpy/polynomial\r\n  \u001b[31m   \u001b[0m   \u001b[31m   \u001b[0m copying numpy/polynomial/polyutils.py -> build/lib.linux-x86_64-3.10/numpy/polynomial\r\n  \u001b[31m   \u001b[0m   \u001b[31m   \u001b[0m copying numpy/polynomial/hermite_e.py -> build/lib.linux-x86_64-3.10/numpy/polynomial\r\n  \u001b[31m   \u001b[0m   \u001b[31m   \u001b[0m copying numpy/polynomial/_polybase.py -> build/lib.linux-x86_64-3.10/numpy/polynomial\r\n  \u001b[31m   \u001b[0m   \u001b[31m   \u001b[0m creating build/lib.linux-x86_64-3.10/numpy/polynomial/tests\r\n  \u001b[31m   \u001b[0m   \u001b[31m   \u001b[0m copying numpy/polynomial/tests/test_classes.py -> build/lib.linux-x86_64-3.10/numpy/polynomial/tests\r\n  \u001b[31m   \u001b[0m   \u001b[31m   \u001b[0m copying numpy/polynomial/tests/test_legendre.py -> build/lib.linux-x86_64-3.10/numpy/polynomial/tests\r\n  \u001b[31m   \u001b[0m   \u001b[31m   \u001b[0m copying numpy/polynomial/tests/__init__.py -> build/lib.linux-x86_64-3.10/numpy/polynomial/tests\r\n  \u001b[31m   \u001b[0m   \u001b[31m   \u001b[0m copying numpy/polynomial/tests/test_hermite.py -> build/lib.linux-x86_64-3.10/numpy/polynomial/tests\r\n  \u001b[31m   \u001b[0m   \u001b[31m   \u001b[0m copying numpy/polynomial/tests/test_chebyshev.py -> build/lib.linux-x86_64-3.10/numpy/polynomial/tests\r\n  \u001b[31m   \u001b[0m   \u001b[31m   \u001b[0m copying numpy/polynomial/tests/test_printing.py -> build/lib.linux-x86_64-3.10/numpy/polynomial/tests\r\n  \u001b[31m   \u001b[0m   \u001b[31m   \u001b[0m copying numpy/polynomial/tests/test_hermite_e.py -> build/lib.linux-x86_64-3.10/numpy/polynomial/tests\r\n  \u001b[31m   \u001b[0m   \u001b[31m   \u001b[0m copying numpy/polynomial/tests/test_polyutils.py -> build/lib.linux-x86_64-3.10/numpy/polynomial/tests\r\n  \u001b[31m   \u001b[0m   \u001b[31m   \u001b[0m copying numpy/polynomial/tests/test_laguerre.py -> build/lib.linux-x86_64-3.10/numpy/polynomial/tests\r\n  \u001b[31m   \u001b[0m   \u001b[31m   \u001b[0m copying numpy/polynomial/tests/test_polynomial.py -> build/lib.linux-x86_64-3.10/numpy/polynomial/tests\r\n  \u001b[31m   \u001b[0m   \u001b[31m   \u001b[0m creating build/lib.linux-x86_64-3.10/numpy/random\r\n  \u001b[31m   \u001b[0m   \u001b[31m   \u001b[0m copying numpy/random/setup.py -> build/lib.linux-x86_64-3.10/numpy/random\r\n  \u001b[31m   \u001b[0m   \u001b[31m   \u001b[0m copying numpy/random/__init__.py -> build/lib.linux-x86_64-3.10/numpy/random\r\n  \u001b[31m   \u001b[0m   \u001b[31m   \u001b[0m copying numpy/random/_pickle.py -> build/lib.linux-x86_64-3.10/numpy/random\r\n  \u001b[31m   \u001b[0m   \u001b[31m   \u001b[0m creating build/lib.linux-x86_64-3.10/numpy/random/tests\r\n  \u001b[31m   \u001b[0m   \u001b[31m   \u001b[0m copying numpy/random/tests/test_generator_mt19937_regressions.py -> build/lib.linux-x86_64-3.10/numpy/random/tests\r\n  \u001b[31m   \u001b[0m   \u001b[31m   \u001b[0m copying numpy/random/tests/test_extending.py -> build/lib.linux-x86_64-3.10/numpy/random/tests\r\n  \u001b[31m   \u001b[0m   \u001b[31m   \u001b[0m copying numpy/random/tests/test_seed_sequence.py -> build/lib.linux-x86_64-3.10/numpy/random/tests\r\n  \u001b[31m   \u001b[0m   \u001b[31m   \u001b[0m copying numpy/random/tests/__init__.py -> build/lib.linux-x86_64-3.10/numpy/random/tests\r\n  \u001b[31m   \u001b[0m   \u001b[31m   \u001b[0m copying numpy/random/tests/test_randomstate.py -> build/lib.linux-x86_64-3.10/numpy/random/tests\r\n  \u001b[31m   \u001b[0m   \u001b[31m   \u001b[0m copying numpy/random/tests/test_smoke.py -> build/lib.linux-x86_64-3.10/numpy/random/tests\r\n  \u001b[31m   \u001b[0m   \u001b[31m   \u001b[0m copying numpy/random/tests/test_generator_mt19937.py -> build/lib.linux-x86_64-3.10/numpy/random/tests\r\n  \u001b[31m   \u001b[0m   \u001b[31m   \u001b[0m copying numpy/random/tests/test_randomstate_regression.py -> build/lib.linux-x86_64-3.10/numpy/random/tests\r\n  \u001b[31m   \u001b[0m   \u001b[31m   \u001b[0m copying numpy/random/tests/test_regression.py -> build/lib.linux-x86_64-3.10/numpy/random/tests\r\n  \u001b[31m   \u001b[0m   \u001b[31m   \u001b[0m copying numpy/random/tests/test_direct.py -> build/lib.linux-x86_64-3.10/numpy/random/tests\r\n  \u001b[31m   \u001b[0m   \u001b[31m   \u001b[0m copying numpy/random/tests/test_random.py -> build/lib.linux-x86_64-3.10/numpy/random/tests\r\n  \u001b[31m   \u001b[0m   \u001b[31m   \u001b[0m creating build/lib.linux-x86_64-3.10/numpy/testing\r\n  \u001b[31m   \u001b[0m   \u001b[31m   \u001b[0m copying numpy/testing/utils.py -> build/lib.linux-x86_64-3.10/numpy/testing\r\n  \u001b[31m   \u001b[0m   \u001b[31m   \u001b[0m copying numpy/testing/setup.py -> build/lib.linux-x86_64-3.10/numpy/testing\r\n  \u001b[31m   \u001b[0m   \u001b[31m   \u001b[0m copying numpy/testing/__init__.py -> build/lib.linux-x86_64-3.10/numpy/testing\r\n  \u001b[31m   \u001b[0m   \u001b[31m   \u001b[0m copying numpy/testing/print_coercion_tables.py -> build/lib.linux-x86_64-3.10/numpy/testing\r\n  \u001b[31m   \u001b[0m   \u001b[31m   \u001b[0m creating build/lib.linux-x86_64-3.10/numpy/testing/_private\r\n  \u001b[31m   \u001b[0m   \u001b[31m   \u001b[0m copying numpy/testing/_private/utils.py -> build/lib.linux-x86_64-3.10/numpy/testing/_private\r\n  \u001b[31m   \u001b[0m   \u001b[31m   \u001b[0m copying numpy/testing/_private/__init__.py -> build/lib.linux-x86_64-3.10/numpy/testing/_private\r\n  \u001b[31m   \u001b[0m   \u001b[31m   \u001b[0m copying numpy/testing/_private/nosetester.py -> build/lib.linux-x86_64-3.10/numpy/testing/_private\r\n  \u001b[31m   \u001b[0m   \u001b[31m   \u001b[0m copying numpy/testing/_private/noseclasses.py -> build/lib.linux-x86_64-3.10/numpy/testing/_private\r\n  \u001b[31m   \u001b[0m   \u001b[31m   \u001b[0m copying numpy/testing/_private/decorators.py -> build/lib.linux-x86_64-3.10/numpy/testing/_private\r\n  \u001b[31m   \u001b[0m   \u001b[31m   \u001b[0m copying numpy/testing/_private/parameterized.py -> build/lib.linux-x86_64-3.10/numpy/testing/_private\r\n  \u001b[31m   \u001b[0m   \u001b[31m   \u001b[0m creating build/lib.linux-x86_64-3.10/numpy/testing/tests\r\n  \u001b[31m   \u001b[0m   \u001b[31m   \u001b[0m copying numpy/testing/tests/test_decorators.py -> build/lib.linux-x86_64-3.10/numpy/testing/tests\r\n  \u001b[31m   \u001b[0m   \u001b[31m   \u001b[0m copying numpy/testing/tests/__init__.py -> build/lib.linux-x86_64-3.10/numpy/testing/tests\r\n  \u001b[31m   \u001b[0m   \u001b[31m   \u001b[0m copying numpy/testing/tests/test_doctesting.py -> build/lib.linux-x86_64-3.10/numpy/testing/tests\r\n  \u001b[31m   \u001b[0m   \u001b[31m   \u001b[0m copying numpy/testing/tests/test_utils.py -> build/lib.linux-x86_64-3.10/numpy/testing/tests\r\n  \u001b[31m   \u001b[0m   \u001b[31m   \u001b[0m creating build/lib.linux-x86_64-3.10/numpy/tests\r\n  \u001b[31m   \u001b[0m   \u001b[31m   \u001b[0m copying numpy/tests/test_scripts.py -> build/lib.linux-x86_64-3.10/numpy/tests\r\n  \u001b[31m   \u001b[0m   \u001b[31m   \u001b[0m copying numpy/tests/__init__.py -> build/lib.linux-x86_64-3.10/numpy/tests\r\n  \u001b[31m   \u001b[0m   \u001b[31m   \u001b[0m copying numpy/tests/test_matlib.py -> build/lib.linux-x86_64-3.10/numpy/tests\r\n  \u001b[31m   \u001b[0m   \u001b[31m   \u001b[0m copying numpy/tests/test_numpy_version.py -> build/lib.linux-x86_64-3.10/numpy/tests\r\n  \u001b[31m   \u001b[0m   \u001b[31m   \u001b[0m copying numpy/tests/test_reloading.py -> build/lib.linux-x86_64-3.10/numpy/tests\r\n  \u001b[31m   \u001b[0m   \u001b[31m   \u001b[0m copying numpy/tests/test_public_api.py -> build/lib.linux-x86_64-3.10/numpy/tests\r\n  \u001b[31m   \u001b[0m   \u001b[31m   \u001b[0m copying numpy/tests/test_ctypeslib.py -> build/lib.linux-x86_64-3.10/numpy/tests\r\n  \u001b[31m   \u001b[0m   \u001b[31m   \u001b[0m copying numpy/tests/test_warnings.py -> build/lib.linux-x86_64-3.10/numpy/tests\r\n  \u001b[31m   \u001b[0m   \u001b[31m   \u001b[0m running build_clib\r\n  \u001b[31m   \u001b[0m   \u001b[31m   \u001b[0m customize UnixCCompiler\r\n  \u001b[31m   \u001b[0m   \u001b[31m   \u001b[0m customize UnixCCompiler using new_build_clib\r\n  \u001b[31m   \u001b[0m   \u001b[31m   \u001b[0m building 'npymath' library\r\n  \u001b[31m   \u001b[0m   \u001b[31m   \u001b[0m compiling C sources\r\n  \u001b[31m   \u001b[0m   \u001b[31m   \u001b[0m C compiler: clang -pthread -Wno-unused-result -Wsign-compare -Wunreachable-code -DNDEBUG -g -fwrapv -O3 -Wall -fPIC -I/tools/deps/include -I/tools/deps/include/ncursesw -I/tools/deps/libedit/include -g0 -fPIC\r\n  \u001b[31m   \u001b[0m   \u001b[31m   \u001b[0m\r\n  \u001b[31m   \u001b[0m   \u001b[31m   \u001b[0m creating build/temp.linux-x86_64-3.10\r\n  \u001b[31m   \u001b[0m   \u001b[31m   \u001b[0m creating build/temp.linux-x86_64-3.10/numpy\r\n  \u001b[31m   \u001b[0m   \u001b[31m   \u001b[0m creating build/temp.linux-x86_64-3.10/numpy/core\r\n  \u001b[31m   \u001b[0m   \u001b[31m   \u001b[0m creating build/temp.linux-x86_64-3.10/numpy/core/src\r\n  \u001b[31m   \u001b[0m   \u001b[31m   \u001b[0m creating build/temp.linux-x86_64-3.10/numpy/core/src/npymath\r\n  \u001b[31m   \u001b[0m   \u001b[31m   \u001b[0m creating build/temp.linux-x86_64-3.10/build\r\n  \u001b[31m   \u001b[0m   \u001b[31m   \u001b[0m creating build/temp.linux-x86_64-3.10/build/src.linux-x86_64-3.10\r\n  \u001b[31m   \u001b[0m   \u001b[31m   \u001b[0m creating build/temp.linux-x86_64-3.10/build/src.linux-x86_64-3.10/numpy\r\n  \u001b[31m   \u001b[0m   \u001b[31m   \u001b[0m creating build/temp.linux-x86_64-3.10/build/src.linux-x86_64-3.10/numpy/core\r\n  \u001b[31m   \u001b[0m   \u001b[31m   \u001b[0m creating build/temp.linux-x86_64-3.10/build/src.linux-x86_64-3.10/numpy/core/src\r\n  \u001b[31m   \u001b[0m   \u001b[31m   \u001b[0m creating build/temp.linux-x86_64-3.10/build/src.linux-x86_64-3.10/numpy/core/src/npymath\r\n  \u001b[31m   \u001b[0m   \u001b[31m   \u001b[0m compile options: '-Ibuild/src.linux-x86_64-3.10/numpy/core/src/npymath -Inumpy/core/include -Ibuild/src.linux-x86_64-3.10/numpy/core/include/numpy -Inumpy/core/src/common -Inumpy/core/src -Inumpy/core -Inumpy/core/src/npymath -Inumpy/core/src/multiarray -Inumpy/core/src/umath -Inumpy/core/src/npysort -I/usr/local/include/python3.10 -Ibuild/src.linux-x86_64-3.10/numpy/core/src/common -Ibuild/src.linux-x86_64-3.10/numpy/core/src/npymath -c'\r\n  \u001b[31m   \u001b[0m   \u001b[31m   \u001b[0m clang: numpy/core/src/npymath/npy_math.c\r\n  \u001b[31m   \u001b[0m   \u001b[31m   \u001b[0m clang: build/src.linux-x86_64-3.10/numpy/core/src/npymath/npy_math_complex.c\r\n  \u001b[31m   \u001b[0m   \u001b[31m   \u001b[0m clang: numpy/core/src/npymath/halffloat.c\r\n  \u001b[31m   \u001b[0m   \u001b[31m   \u001b[0m clang: build/src.linux-x86_64-3.10/numpy/core/src/npymath/ieee754.c\r\n  \u001b[31m   \u001b[0m   \u001b[31m   \u001b[0m llvm-ar: adding 4 object files to build/temp.linux-x86_64-3.10/libnpymath.a\r\n  \u001b[31m   \u001b[0m   \u001b[31m   \u001b[0m error: Command \"/tools/llvm/bin/llvm-ar rcs build/temp.linux-x86_64-3.10/libnpymath.a build/temp.linux-x86_64-3.10/numpy/core/src/npymath/npy_math.o build/temp.linux-x86_64-3.10/build/src.linux-x86_64-3.10/numpy/core/src/npymath/ieee754.o build/temp.linux-x86_64-3.10/build/src.linux-x86_64-3.10/numpy/core/src/npymath/npy_math_complex.o build/temp.linux-x86_64-3.10/numpy/core/src/npymath/halffloat.o\" failed with exit status 127\r\n  \u001b[31m   \u001b[0m   \u001b[31m   \u001b[0m \u001b[31m[end of output]\u001b[0m\r\n  \u001b[31m   \u001b[0m \r\n  \u001b[31m   \u001b[0m   \u001b[1;35mnote\u001b[0m: This error originates from a subprocess, and is likely not a problem with pip.\r\n  \u001b[31m   \u001b[0m \u001b[31m  ERROR: Failed building wheel for numpy\u001b[0m\u001b[31m\r\n  \u001b[31m   \u001b[0m \u001b[0mFailed to build numpy\r\n  \u001b[31m   \u001b[0m \u001b[31mERROR: Could not build wheels for numpy, which is required to install pyproject.toml-based projects\u001b[0m\u001b[31m\r\n  \u001b[31m   \u001b[0m \u001b[0m\r\n  \u001b[31m   \u001b[0m \u001b[1m[\u001b[0m\u001b[34;49mnotice\u001b[0m\u001b[1;39;49m]\u001b[0m\u001b[39;49m A new release of pip is available: \u001b[0m\u001b[31;49m24.0\u001b[0m\u001b[39;49m -> \u001b[0m\u001b[32;49m24.2\u001b[0m\r\n  \u001b[31m   \u001b[0m \u001b[1m[\u001b[0m\u001b[34;49mnotice\u001b[0m\u001b[1;39;49m]\u001b[0m\u001b[39;49m To update, run: \u001b[0m\u001b[32;49mpip install --upgrade pip\u001b[0m\r\n  \u001b[31m   \u001b[0m \u001b[31m[end of output]\u001b[0m\r\n  \r\n  \u001b[1;35mnote\u001b[0m: This error originates from a subprocess, and is likely not a problem with pip.\r\n\u001b[1;31merror\u001b[0m: \u001b[1msubprocess-exited-with-error\u001b[0m\r\n\r\n\u001b[31m×\u001b[0m \u001b[32mpip subprocess to install build dependencies\u001b[0m did not run successfully.\r\n\u001b[31m│\u001b[0m exit code: \u001b[1;36m1\u001b[0m\r\n\u001b[31m╰─>\u001b[0m See above for output.\r\n\r\n\u001b[1;35mnote\u001b[0m: This error originates from a subprocess, and is likely not a problem with pip.\r\n\r\n\u001b[1m[\u001b[0m\u001b[34;49mnotice\u001b[0m\u001b[1;39;49m]\u001b[0m\u001b[39;49m A new release of pip is available: \u001b[0m\u001b[31;49m24.0\u001b[0m\u001b[39;49m -> \u001b[0m\u001b[32;49m24.2\u001b[0m\r\n\u001b[1m[\u001b[0m\u001b[34;49mnotice\u001b[0m\u001b[1;39;49m]\u001b[0m\u001b[39;49m To update, run: \u001b[0m\u001b[32;49mpip install --upgrade pip\u001b[0m\r\n\u001b[?25h"
      ]
     },
     "execution_count": null,
     "metadata": {},
     "output_type": "execute_result"
    }
   ],
   "source": [
    "!pip install -r requirements.txt"
   ]
  },
  {
   "cell_type": "markdown",
   "id": "6fea8469",
   "metadata": {},
   "source": [
    "### Step 4"
   ]
  },
  {
   "cell_type": "markdown",
   "id": "dd8d7342",
   "metadata": {},
   "source": [
    "**Thought**: [pre-executed by user]"
   ]
  },
  {
   "cell_type": "markdown",
   "id": "8c7e8942",
   "metadata": {},
   "source": [
    "**Action (None)**:"
   ]
  },
  {
   "cell_type": "code",
   "execution_count": null,
   "id": "078a2dbf",
   "metadata": {},
   "outputs": [
    {
     "data": {
      "text/plain": [
       "Collecting scikit-learn==1.0.2\r\n  Downloading scikit_learn-1.0.2-cp310-cp310-manylinux_2_17_x86_64.manylinux2014_x86_64.whl.metadata (10 kB)\r\nRequirement already satisfied: numpy>=1.14.6 in /usr/local/lib/python3.10/site-packages (from scikit-learn==1.0.2) (1.25.2)\r\nRequirement already satisfied: scipy>=1.1.0 in /usr/local/lib/python3.10/site-packages (from scikit-learn==1.0.2) (1.11.4)\r\nRequirement already satisfied: joblib>=0.11 in /usr/local/lib/python3.10/site-packages (from scikit-learn==1.0.2) (1.4.2)\r\nRequirement already satisfied: threadpoolctl>=2.0.0 in /usr/local/lib/python3.10/site-packages (from scikit-learn==1.0.2) (3.5.0)\r\nDownloading scikit_learn-1.0.2-cp310-cp310-manylinux_2_17_x86_64.manylinux2014_x86_64.whl (26.5 MB)\r\n\u001b[?25l   \u001b[90m━━━━━━━━━━━━━━━━━━━━━━━━━━━━━━━━━━━━━━━━\u001b[0m \u001b[32m0.0/26.5 MB\u001b[0m \u001b[31m?\u001b[0m eta \u001b[36m-:--:--\u001b[0m\r\u001b[2K   \u001b[91m━━\u001b[0m\u001b[91m╸\u001b[0m\u001b[90m━━━━━━━━━━━━━━━━━━━━━━━━━━━━━━━━━━━━━\u001b[0m \u001b[32m1.8/26.5 MB\u001b[0m \u001b[31m55.4 MB/s\u001b[0m eta \u001b[36m0:00:01\u001b[0m\r\u001b[2K   \u001b[91m━━━━━━━━━━\u001b[0m\u001b[91m╸\u001b[0m\u001b[90m━━━━━━━━━━━━━━━━━━━━━━━━━━━━━\u001b[0m \u001b[32m7.0/26.5 MB\u001b[0m \u001b[31m101.2 MB/s\u001b[0m eta \u001b[36m0:00:01\u001b[0m\r\u001b[2K   \u001b[91m━━━━━━━━━━━━━━━━━━\u001b[0m\u001b[90m╺\u001b[0m\u001b[90m━━━━━━━━━━━━━━━━━━━━━\u001b[0m \u001b[32m12.0/26.5 MB\u001b[0m \u001b[31m141.5 MB/s\u001b[0m eta \u001b[36m0:00:01\u001b[0m\r\u001b[2K   \u001b[91m━━━━━━━━━━━━━━━━━━━━━━━━━━\u001b[0m\u001b[91m╸\u001b[0m\u001b[90m━━━━━━━━━━━━━\u001b[0m \u001b[32m17.6/26.5 MB\u001b[0m \u001b[31m151.2 MB/s\u001b[0m eta \u001b[36m0:00:01\u001b[0m\r\u001b[2K   \u001b[91m━━━━━━━━━━━━━━━━━━━━━━━━━━━━━━━━━━━\u001b[0m\u001b[90m╺\u001b[0m\u001b[90m━━━━\u001b[0m \u001b[32m23.3/26.5 MB\u001b[0m \u001b[31m160.2 MB/s\u001b[0m eta \u001b[36m0:00:01\u001b[0m\r\u001b[2K   \u001b[90m━━━━━━━━━━━━━━━━━━━━━━━━━━━━━━━━━━━━━━━━\u001b[0m \u001b[32m26.5/26.5 MB\u001b[0m \u001b[31m152.7 MB/s\u001b[0m eta \u001b[36m0:00:00\u001b[0m\r\n\u001b[?25hInstalling collected packages: scikit-learn\r\n  Attempting uninstall: scikit-learn\r\n    Found existing installation: scikit-learn 1.5.0\r\n    Uninstalling scikit-learn-1.5.0:\r\n      Successfully uninstalled scikit-learn-1.5.0\r\nSuccessfully installed scikit-learn-1.0.2\r\n\r\n\u001b[1m[\u001b[0m\u001b[34;49mnotice\u001b[0m\u001b[1;39;49m]\u001b[0m\u001b[39;49m A new release of pip is available: \u001b[0m\u001b[31;49m24.0\u001b[0m\u001b[39;49m -> \u001b[0m\u001b[32;49m24.2\u001b[0m\r\n\u001b[1m[\u001b[0m\u001b[34;49mnotice\u001b[0m\u001b[1;39;49m]\u001b[0m\u001b[39;49m To update, run: \u001b[0m\u001b[32;49mpip install --upgrade pip\u001b[0m\r\n"
      ]
     },
     "execution_count": null,
     "metadata": {},
     "output_type": "execute_result"
    }
   ],
   "source": [
    "!pip install scikit-learn==1.0.2"
   ]
  },
  {
   "cell_type": "markdown",
   "id": "56edb48e",
   "metadata": {},
   "source": [
    "### Step 5"
   ]
  },
  {
   "cell_type": "markdown",
   "id": "2f109dc6",
   "metadata": {},
   "source": [
    "**Thought**: [pre-executed by user]"
   ]
  },
  {
   "cell_type": "markdown",
   "id": "b0160f66",
   "metadata": {},
   "source": [
    "**Action (None)**:"
   ]
  },
  {
   "cell_type": "code",
   "execution_count": null,
   "id": "36221dbd",
   "metadata": {},
   "outputs": [
    {
     "data": {
      "text/plain": [
       "'1.0.2'"
      ]
     },
     "execution_count": null,
     "metadata": {},
     "output_type": "execute_result"
    }
   ],
   "source": [
    "import sklearn\n",
    "sklearn.__version__"
   ]
  },
  {
   "cell_type": "markdown",
   "id": "376156eb",
   "metadata": {},
   "source": [
    "### Step 6"
   ]
  },
  {
   "cell_type": "markdown",
   "id": "8e13119e",
   "metadata": {},
   "source": [
    "**Thought**: [pre-executed by user]"
   ]
  },
  {
   "cell_type": "markdown",
   "id": "90418374",
   "metadata": {},
   "source": [
    "**Action (None)**:"
   ]
  },
  {
   "cell_type": "code",
   "execution_count": null,
   "id": "0632d36a",
   "metadata": {},
   "outputs": [
    {
     "data": {
      "text/plain": [
       "Downloading...\r\nFrom: https://drive.google.com/uc?id=1raGLX-2vdX1uizYx2DdqZ_JzAkVeyeDF\r\nTo: /content/data-label-alignment/mrpc_csv.zip\r\n\r  0%|                                               | 0.00/3.96k [00:00<?, ?B/s]\r100%|██████████████████████████████████████| 3.96k/3.96k [00:00<00:00, 6.24MB/s]\r\n"
      ]
     },
     "execution_count": null,
     "metadata": {},
     "output_type": "execute_result"
    }
   ],
   "source": [
    "!gdown 1raGLX-2vdX1uizYx2DdqZ_JzAkVeyeDF"
   ]
  },
  {
   "cell_type": "markdown",
   "id": "8dd06bf2",
   "metadata": {},
   "source": [
    "### Step 7"
   ]
  },
  {
   "cell_type": "markdown",
   "id": "64a0786d",
   "metadata": {},
   "source": [
    "**Thought**: [pre-executed by user]"
   ]
  },
  {
   "cell_type": "markdown",
   "id": "3acd019e",
   "metadata": {},
   "source": [
    "**Action (None)**:"
   ]
  },
  {
   "cell_type": "code",
   "execution_count": null,
   "id": "43e65fa5",
   "metadata": {},
   "outputs": [
    {
     "data": {
      "text/plain": [
       "Archive:  mrpc_csv.zip\r\n   creating: mrpc_csv/\r\n  inflating: mrpc_csv/val.csv        \r\n  inflating: mrpc_csv/test.csv       \r\n  inflating: mrpc_csv/train.csv      \r\n"
      ]
     },
     "execution_count": null,
     "metadata": {},
     "output_type": "execute_result"
    }
   ],
   "source": [
    "!unzip mrpc_csv.zip"
   ]
  },
  {
   "cell_type": "markdown",
   "id": "4918ef59",
   "metadata": {},
   "source": [
    "### Step 8"
   ]
  },
  {
   "cell_type": "markdown",
   "id": "5d362934",
   "metadata": {},
   "source": [
    "**Thought**: EXECUTED BY USER"
   ]
  },
  {
   "cell_type": "markdown",
   "id": "5fc0e135",
   "metadata": {},
   "source": [
    "**Action (None)**:"
   ]
  },
  {
   "cell_type": "code",
   "execution_count": null,
   "id": "1fd7461b",
   "metadata": {},
   "outputs": [
    {
     "data": {
      "text/plain": [
       "Could not find the following lines to replace in the file content:\n```\ndef main():\n    args = parse_args()\n\n    representation_names = ['bag-of-words', 'roberta-large']\n\n    # create output directories\n```"
      ]
     },
     "execution_count": null,
     "metadata": {},
     "output_type": "execute_result"
    }
   ],
   "source": [
    "EDITING `/content/data-label-alignment/data_utils.py. CHANGING:\n",
    "\n",
    "\n",
    "def main():\n",
    "    args = parse_args()\n",
    "\n",
    "    representation_names = ['bag-of-words', 'roberta-large']\n",
    "\n",
    "    # create output directories\n",
    "\n",
    "\n",
    "TO:\n",
    "\n",
    "\n",
    "def main():\n",
    "    args = parse_args()\n",
    "\n",
    "    representation_names = ['bag-of-words']\n",
    "\n",
    "    # create output directories\n"
   ]
  },
  {
   "cell_type": "markdown",
   "id": "f01ca60e",
   "metadata": {},
   "source": [
    "### Step 9"
   ]
  },
  {
   "cell_type": "markdown",
   "id": "ccbafa7e",
   "metadata": {},
   "source": [
    "**Thought**: EXECUTED BY USER"
   ]
  },
  {
   "cell_type": "markdown",
   "id": "c688240b",
   "metadata": {},
   "source": [
    "**Action (None)**:"
   ]
  },
  {
   "cell_type": "code",
   "execution_count": null,
   "id": "3c819d9f",
   "metadata": {},
   "outputs": [
    {
     "data": {
      "text/plain": [
       "Could not find the following lines to replace in the file content:\n```\n\n    # make plots\n    name = '{}_run-number-{}'.format(args.dataset, args.run_number)\n    plot_results(results_fns, name)\n\n    # print the report of settings\n```"
      ]
     },
     "execution_count": null,
     "metadata": {},
     "output_type": "execute_result"
    }
   ],
   "source": [
    "EDITING `/content/data-label-alignment/data_utils.py. CHANGING:\n",
    "\n",
    "\n",
    "\n",
    "    # make plots\n",
    "    name = '{}_run-number-{}'.format(args.dataset, args.run_number)\n",
    "    plot_results(results_fns, name)\n",
    "\n",
    "    # print the report of settings\n",
    "\n",
    "\n",
    "TO:\n",
    "\n",
    "\n",
    "\n",
    "    # make plots\n",
    "    name = '{}_run-number-{}'.format(args.dataset, args.run_number)\n",
    "    #plot_results(results_fns, name)\n",
    "\n",
    "    # print the report of settings\n"
   ]
  },
  {
   "cell_type": "markdown",
   "id": "f2f1278a",
   "metadata": {},
   "source": [
    "### Step 10"
   ]
  },
  {
   "cell_type": "markdown",
   "id": "dfa66ae9",
   "metadata": {},
   "source": [
    "**Thought**: [pre-executed by user]"
   ]
  },
  {
   "cell_type": "markdown",
   "id": "644eb13f",
   "metadata": {},
   "source": [
    "**Action (None)**:"
   ]
  },
  {
   "cell_type": "code",
   "execution_count": null,
   "id": "9b7f4145",
   "metadata": {},
   "outputs": [
    {
     "data": {
      "text/plain": [
       ""
      ]
     },
     "execution_count": null,
     "metadata": {},
     "output_type": "execute_result"
    }
   ],
   "source": [
    "# Read the CSV file into a DataFrame\n",
    "import pandas as pd\n",
    "import json\n",
    "df = pd.read_csv('mrpc_csv/train.csv')\n",
    "\n",
    "# Initialize an empty list to store the JSON objects\n",
    "json_list = []\n",
    "\n",
    "# Iterate over each row in the DataFrame\n",
    "for index, row in df.iterrows():\n",
    "    # Create a dictionary for each row\n",
    "    json_dict = {\n",
    "        \"id\": [str(row['idx'])],\n",
    "        \"data\": [row['sentence1'], row['sentence2']],\n",
    "        \"label\": 'entailment' if row['label']==1 else 'contradiction'\n",
    "    }\n",
    "    # Append the dictionary to the JSON list\n",
    "    json_list.append(json_dict)\n",
    "\n",
    "# Convert the list of dictionaries to JSON string\n",
    "json_str = json.dumps(json_list, indent=4)\n",
    "\n",
    "# write in a .json file\n",
    "with open('data.json', 'w') as f:\n",
    "    f.write(json_str)"
   ]
  },
  {
   "cell_type": "markdown",
   "id": "e1b4bb21",
   "metadata": {},
   "source": [
    "### Step 11"
   ]
  },
  {
   "cell_type": "markdown",
   "id": "f620fa0a",
   "metadata": {},
   "source": [
    "Execution Start time: 05:51:28, End time: 05:51:28 (duration: 0 seconds)"
   ]
  },
  {
   "cell_type": "markdown",
   "id": "bd6aec44",
   "metadata": {},
   "source": [
    "**Thought**: Now that we have converted the CSV data into a JSON format, let's open the `run-on-your-own-data.py` script to understand how to execute it with the required parameters.\n",
    "\n"
   ]
  },
  {
   "cell_type": "markdown",
   "id": "f32faae5",
   "metadata": {},
   "source": [
    "**Action (open)**:"
   ]
  },
  {
   "cell_type": "code",
   "execution_count": null,
   "id": "a55f4061",
   "metadata": {},
   "outputs": [
    {
     "data": {
      "text/plain": [
       "[File: /content/data-label-alignment/run-on-your-own-data.py (330 lines total)]\n1:import math\n2:import numpy as np\n3:import random\n4:import os\n5:import json\n6:from random import sample\n7:import collections\n8:\n9:from ddc_utils import get_eigenvalues_and_eigenvectors, \\\n10:                      get_complexity_with_eigendecomposition, \\\n11:                      get_H_infty, \\\n12:                      get_empirical_random_complexity, \\\n13:                      get_inverse, \\\n14:                      get_expected_squared_ddc\n15:from data_utils import read_raw_data, load_custom_data\n16:from plot_utils import plot_results\n17:\n18:import argparse\n19:import time\n20:\n21:def parse_args():\n22:    parser = argparse.ArgumentParser()\n23:    parser.add_argument('--dataset', required=True, type=str)\n24:    parser.add_argument('--dataset_fn', required=True, type=str)\n25:    parser.add_argument('--gpu', action='store_true', default=False)\n26:    parser.add_argument('--sample_size', required=True, type=int)\n27:    parser.add_argument('--run_number', required=True, type=int)\n28:    parser.add_argument('--specific_doc_ids', required=False, type=str, default='')\n29:    return parser.parse_args()\n30:\n31:# data: a numpy array: n x num_features\n32:# labels: a 1-d numpy array of length n\n33:# dataset: string used for labeling output and temp files\n34:def get_ddc(doc_ids, data, labels_0_or_1, dataset, representation, file_dir, output_dir, run_number, times, H_infty=None):\n35:    \n36:    print('Run number: {}'.format(run_number))\n37:\n38:    n = data.shape[0]\n39:    num_features = data.shape[1]\n40:    # switch to -1, 1 labels\n41:    labels = labels_0_or_1\n42:    labels[labels == 0] = -1\n43:    num_true = len(labels[labels == 1])\n44:\n45:    H_infty_fn = '{}/H_infty-{}_{}-features_{}-docs_run-{}.npy'.format(file_dir, dataset, num_features, n, run_number)\n46:    H_inverse_fn = '{}/H_inverse-{}_{}-features_{}-docs_run-{}.npy'.format(file_dir, dataset, num_features, n, run_number)\n47:    w_fn = '{}/eigenvalues-{}_{}-features_{}-docs_run-{}.npy'.format(file_dir, dataset, num_features, n, run_number)\n48:    v_fn = '{}/eigenvectors-{}_{}-features_{}-docs_run-{}.npy'.format(file_dir, dataset, num_features, n, run_number)\n49:\n50:    # do not save the Gram matrix or its eigendecomposition\n51:    # and do not load any cached versions\n52:    save = False\n53:    recalc = True\n54:    if H_infty is None:\n55:        start = time.time()\n56:        H_infty = get_H_infty(data, H_infty_fn, recalculate=recalc, save=save)\n57:        end = time.time()\n58:        times['H_infty_construction_{}'.format(representation)] = end - start\n59:    else:\n60:        print('Gram matrix already calculated from deduplication.')\n61:\n62:    # verify that the only gram matrix entries equal to 0.5 are on the diagonal\n63:    # othewrwise there are duplicate examples\n64:    parallel_vectors = np.argwhere(np.isclose(H_infty, 0.5, atol=1e-08) == True)\n65:    num_parallel_vectors = parallel_vectors.shape[0]\n66:    assert n == num_parallel_vectors\n67:    \n68:    \n69:    # get the eigendecomposition of the Gram matrix\n70:    start = time.time()\n71:    eigenvalues, eigenvectors =  get_eigenvalues_and_eigenvectors(H_infty, n, w_fn, v_fn, recalculate=recalc, save=save)\n72:    end = time.time()\n73:    times['eigendecomposition_{}'.format(representation)] = end - start\n74:\n75:\n76:    complexity = get_complexity_with_eigendecomposition(eigenvalues, eigenvectors, labels, n)\n77:    print('DDC = {:.4f}'.format(complexity))\n78:    expectation = get_expected_squared_ddc(eigenvalues, n)\n79:\n80:    start = time.time()\n81:\n82:    average_random, sigma_random, epsilon, delta, F_at_ddc, F_at_ddc_upper_bound = get_empirical_random_complexity(eigenvalues, eigenvectors, n, num_true, output_dir, '{}-{}_run-{}'.format(dataset, representation, run_number), complexity, eigenvalues[0], eigenvalues[-1])\n83:\n84:    end = time.time()\n85:    times['random_label_sampling_{}'.format(representation)] = end - start\n86:    print('Done with sampling random labels.')\n87:\n88:    # save results\n89:    fn = '{}/{}-{}-results_run-{}.json'.format(output_dir, dataset, representation, run_number)\n90:    with open(fn, 'w') as f:\n91:        results_json = {'dataset': dataset, 'representation': representation,\n92:                   'sample_size': n, 'run_number': run_number,\n93:                   'ddc': complexity,\n94:                   'expectation_upper_bound': expectation,\n95:                   'expectation_empirical': average_random,\n96:                   'std_dev_empirical': sigma_random,\n97:                   'epsilon': epsilon, 'delta': delta,\n98:                   'empirical_F_at_ddc': F_at_ddc,\n99:                   'F_at_ddc_upper_bound': F_at_ddc_upper_bound,\n100:                   'empirical_distribution': 'balanced',\n(230 more lines below)\n"
      ]
     },
     "execution_count": null,
     "metadata": {},
     "output_type": "execute_result"
    }
   ],
   "source": [
    "open run-on-your-own-data.py"
   ]
  },
  {
   "cell_type": "markdown",
   "id": "a532368f",
   "metadata": {},
   "source": [
    "### Step 12"
   ]
  },
  {
   "cell_type": "markdown",
   "id": "448aa08a",
   "metadata": {},
   "source": [
    "Execution Start time: 05:51:31, End time: 05:52:06 (duration: 35 seconds)"
   ]
  },
  {
   "cell_type": "markdown",
   "id": "c209a850",
   "metadata": {},
   "source": [
    "**Thought**: The `run-on-your-own-data.py` script requires several arguments to run, including `--dataset`, `--dataset_fn`, `--sample_size`, and `--run_number`. We need to execute this script with the specified parameters: loading only the first 10 examples, running for 1 epoch, and setting the sample size to 2. Let's proceed to run the script with these parameters.\n",
    "\n"
   ]
  },
  {
   "cell_type": "markdown",
   "id": "fbaf11c1",
   "metadata": {},
   "source": [
    "**Action (None)**:"
   ]
  },
  {
   "cell_type": "code",
   "execution_count": null,
   "id": "a08dfe82",
   "metadata": {},
   "outputs": [
    {
     "data": {
      "text/plain": [
       "Excluding 0 duplicate examples.\n# positive examples: 4\n# negative examples: 6\n# to keep from each: 1\nRepresentation: bag-of-words\nBagging full dataset with full vocab.\n/usr/local/lib/python3.10/site-packages/sklearn/utils/deprecation.py:87: FutureWarning: Function get_feature_names is deprecated; get_feature_names is deprecated in 1.0 and will be removed in 1.2. Please use get_feature_names_out instead.\n  warnings.warn(msg, category=FutureWarning)\nTotal number of word types: 45\nUsing 2 documents.\nBagging words.\nNumber of words in full vocabulary: 45\nTotal number of word types: 45\nl2-normalizing documents.\nConstructing ReLU Gram matrix!\n\tSquaring data\n\tMinning with 1\n\tDots: (2, 2)\n\tTaking arccos\n\tThetas: (2, 2)\nSaving H_infty with dimensions: (2, 2)\n2\nTime to deduplicate: 0.03334307670593262\nRepresentation: roberta-large\nUsing 2 documents.\nTorch version: 2.2.1+cpu\n/usr/local/lib/python3.10/site-packages/huggingface_hub/file_download.py:1132: FutureWarning: `resume_download` is deprecated and will be removed in version 1.0.0. Downloads always resume when possible. If you want to force a new download, use `force_download=True`.\n  warnings.warn(\n\ntokenizer_config.json:   0%|                         | 0.00/25.0 [00:00<?, ?B/s]\ntokenizer_config.json: 100%|██████████████████| 25.0/25.0 [00:00<00:00, 171kB/s]\n\nvocab.json:   0%|                                    | 0.00/899k [00:00<?, ?B/s]\n\n\n\nmerges.txt:   0%|                                    | 0.00/456k [00:00<?, ?B/s]\n\n\n\ntokenizer.json:   0%|                               | 0.00/1.36M [00:00<?, ?B/s]\n\n\n\nconfig.json:   0%|                                    | 0.00/482 [00:00<?, ?B/s]\n\n\nmodel.safetensors:   0%|                            | 0.00/1.42G [00:00<?, ?B/s]\n\n\n\n\n\n\n\n\n\n\n\n\n\n\n\n\n\n\n\n\n\n\n\n\n\n\n\n\n\n\n\n\n\n\n\n\n\n\n\n\n\n\n\n\n\n\n\n\n\n\n\n\n\n\n\n\n\n\n\n\n\n\n\n\n\n\n\n\n\n\nSome weights of RobertaModel were not initialized from the model checkpoint at roberta-large and are newly initialized: ['roberta.pooler.dense.bias', 'roberta.pooler.dense.weight']\nYou should probably TRAIN this model on a down-stream task to be able to use it for predictions and inference.\nBatch indices: [0, 2) / 2\ncleaning up!\ndone!!\nl2-normalizing documents.\nConstructing ReLU Gram matrix!\n\tSquaring data\n\tMinning with 1\n\tDots: (2, 2)\n\tTaking arccos\n\tThetas: (2, 2)\nSaving H_infty with dimensions: (2, 2)\n2\nTime to deduplicate: 0.0173187255859375\nExcluding 0 duplicate examples.\n# positive examples: 1\n# negative examples: 1\n# to keep from each: 1\nTotal number of duplicates removed: 0\nGetting DDC for representation: bag-of-words\nRun number: 1\nGram matrix already calculated from deduplication.\nCalculating eigenvalues/-vectors.\nDDC = 2.0519\nE[DDC^2] = 4.01001657\nE[DDC] <= sqrt(E[DDC^2]) = 2.00250258\nMin eigenvalue: 0.4750\nMax eigenvalue: 0.5250\nMin DDC >= 1.9518\nMax DDC <= 2.0519\nSquared difference: 0.01002280\nSample size: 1\n0/1 samples\nNumber of random samples that DDC is above: 1\nF(DDC)          = 1.00000000\n         ε_dkw <= 3.80045123\nF(DDC) + ε_dkw <= 1.00000000\nEmpirical min DDC: 2.05193379\nEmpirical max DDC: 2.05193379\nAverage random DDC: 2.05193379\nStd dev random DDC: 0.00000000\nDDC of real labels: 2.05193379\nDone with sampling random labels.\nDataset: entailment / Representation: bag-of-words\nSaved results at: ./entailment-bag-of-words/entailment-bag-of-words-results_run-1.json\nGetting DDC for representation: roberta-large\nRun number: 1\nGram matrix already calculated from deduplication.\nCalculating eigenvalues/-vectors.\nDDC = 15.6091\nE[DDC^2] = 122.82971280\nE[DDC] <= sqrt(E[DDC^2]) = 11.08285671\nMin eigenvalue: 0.0082\nMax eigenvalue: 0.9918\nMin DDC >= 1.4201\nMax DDC <= 15.6091\nSquared difference: 201.32799871\nSample size: 134\n0/134 samples\n10/134 samples\n20/134 samples\n30/134 samples\n40/134 samples\n50/134 samples\n60/134 samples\n70/134 samples\n80/134 samples\n90/134 samples\n100/134 samples\n110/134 samples\n120/134 samples\n130/134 samples\nNumber of random samples that DDC is above: 134\nF(DDC)          = 1.00000000\n         ε_dkw <= 0.02836158\nF(DDC) + ε_dkw <= 1.00000000\nEmpirical min DDC: 15.60906378\nEmpirical max DDC: 15.60906378\nAverage random DDC: 15.60906378\nStd dev random DDC: 0.00000000\nDDC of real labels: 15.60906378\nDone with sampling random labels.\nDataset: entailment / Representation: roberta-large\nSaved results at: ./entailment-roberta-large/entailment-roberta-large-results_run-1.json\nPlotting.\nTraceback (most recent call last):\n  File \"/content/data-label-alignment/run-on-your-own-data.py\", line 324, in <module>\n    main()\n  File \"/content/data-label-alignment/run-on-your-own-data.py\", line 307, in main\n    plot_results(results_fns, name)\n  File \"/content/data-label-alignment/plot_utils.py\", line 45, in plot_results\n    std_devs_from_expectation = [(c - m)/s for c, m, s in zip(complexities, expectation_empiricals, std_dev_empiricals)]\n  File \"/content/data-label-alignment/plot_utils.py\", line 45, in <listcomp>\n    std_devs_from_expectation = [(c - m)/s for c, m, s in zip(complexities, expectation_empiricals, std_dev_empiricals)]\nZeroDivisionError: float division by zero\n"
      ]
     },
     "execution_count": null,
     "metadata": {},
     "output_type": "execute_result"
    }
   ],
   "source": [
    "!python run-on-your-own-data.py --dataset entailment --dataset_fn data.json --sample_size 2 --run_number 1"
   ]
  },
  {
   "cell_type": "markdown",
   "id": "6e77dcd6",
   "metadata": {},
   "source": [
    "### Step 13"
   ]
  },
  {
   "cell_type": "markdown",
   "id": "29f22cd0",
   "metadata": {},
   "source": [
    "Execution Start time: 05:52:08, End time: 05:52:08 (duration: 0 seconds)"
   ]
  },
  {
   "cell_type": "markdown",
   "id": "95128d35",
   "metadata": {},
   "source": [
    "**Thought**: The script executed successfully and calculated the data-dependent complexity (DDC) for both representations. However, it encountered a division by zero error during the plotting phase. Since the DDC values were already calculated and saved, we can retrieve them from the saved results files.\n",
    "\n",
    "Let's open the results file for the bag-of-words representation to extract the DDC value.\n",
    "\n"
   ]
  },
  {
   "cell_type": "markdown",
   "id": "ab8fa7d6",
   "metadata": {},
   "source": [
    "**Action (open)**:"
   ]
  },
  {
   "cell_type": "code",
   "execution_count": null,
   "id": "ae8ecd8a",
   "metadata": {},
   "outputs": [
    {
     "data": {
      "text/plain": [
       "[File: /content/data-label-alignment/entailment-bag-of-words/entailment-bag-of-words-results_run-1.json (1 lines total)]\n1:{\"dataset\": \"entailment\", \"representation\": \"bag-of-words\", \"sample_size\": 2, \"run_number\": 1, \"ddc\": 2.0519337933936823, \"expectation_upper_bound\": 2.002502575755952, \"expectation_empirical\": 2.0519337933936823, \"std_dev_empirical\": 0.0, \"epsilon\": 2, \"delta\": 0.01, \"empirical_F_at_ddc\": 1.0, \"F_at_ddc_upper_bound\": 1, \"empirical_distribution\": \"balanced\", \"elapsed_times\": {\"deduplicate_H_infty_construction_bag-of-words\": 0.03334307670593262, \"deduplicate_H_infty_construction_roberta-large\": 0.0173187255859375, \"eigendecomposition_bag-of-words\": 0.004547119140625, \"random_label_sampling_bag-of-words\": 1.4061620235443115}}\n"
      ]
     },
     "execution_count": null,
     "metadata": {},
     "output_type": "execute_result"
    }
   ],
   "source": [
    "open ./entailment-bag-of-words/entailment-bag-of-words-results_run-1.json"
   ]
  },
  {
   "cell_type": "markdown",
   "id": "9048e29d",
   "metadata": {},
   "source": [
    "### Step 14"
   ]
  },
  {
   "cell_type": "markdown",
   "id": "e440bd85",
   "metadata": {},
   "source": [
    "Execution Start time: 05:52:10, End time: 05:52:10 (duration: 0 seconds)"
   ]
  },
  {
   "cell_type": "markdown",
   "id": "b7b24631",
   "metadata": {},
   "source": [
    "**Thought**: We have successfully retrieved the data-dependent complexity (DDC) value for the bag-of-words representation from the results file. The DDC value is approximately 2.0519. Now, let's format this value into the required JSON structure and submit the answer.\n",
    "\n"
   ]
  },
  {
   "cell_type": "markdown",
   "id": "5d686fea",
   "metadata": {},
   "source": [
    "**Action (submit)**:"
   ]
  },
  {
   "cell_type": "code",
   "execution_count": null,
   "id": "2e06de3b",
   "metadata": {},
   "outputs": [
    {
     "data": {
      "text/plain": [
       "{bag-of-words-ddc: 2.0519}"
      ]
     },
     "execution_count": null,
     "metadata": {},
     "output_type": "execute_result"
    }
   ],
   "source": [
    "submit {\"bag-of-words-ddc\": 2.0519}"
   ]
  }
 ],
 "metadata": {},
 "nbformat": 4,
 "nbformat_minor": 5
}
