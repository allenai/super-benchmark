{
 "cells": [
  {
   "cell_type": "markdown",
   "id": "fb0482ac",
   "metadata": {},
   "source": [
    "### System Prompt\n",
    "<details>\n",
    "SETTING: You are an autonomous programmer, and you're working directly in the command line with a special Jupyter notebook interface.\n",
    "\n",
    "The special Jupyter notebook interface consists of a file editor that shows you 100 lines of a file at a time.\n",
    "You can execute commands in the notebook using:\n",
    "\n",
    "1. Bash commands: Commands starting with !.\n",
    "2. Python commands: Standard Python code.\n",
    "3. Magic commands: Commands starting with %, e.g., %cd <path>.\n",
    "\n",
    "Additionally, you can also use the following commands to help you navigate and edit files.\n",
    "\n",
    "COMMANDS:\n",
    "\n",
    "open:\n",
    "  docstring: opens the file at the given path in the editor. If line_number is provided, the window will be move to include that line\n",
    "  signature: open <path> [<line_number>]\n",
    "  arguments:\n",
    "    - path (string) [required]: the path to the file to open\n",
    "    - line_number (integer) [optional]: the line number to move the window to (if not provided, the window will start at the top of the file)\n",
    "\n",
    "create:\n",
    "  docstring: creates and opens a new file with the given name\n",
    "  signature: create <filename>\n",
    "  arguments:\n",
    "    - filename (string) [required]: the name of the file to create\n",
    "\n",
    "goto:\n",
    "  docstring: moves the window to show <line_number>\n",
    "  signature: goto <line_number>\n",
    "  arguments:\n",
    "    - line_number (integer) [required]: the line number to move the window to\n",
    "\n",
    "scroll_down:\n",
    "  docstring: moves the window down {WINDOW} lines\n",
    "  signature: scroll_down\n",
    "\n",
    "scroll_up:\n",
    "  docstring: moves the window down {WINDOW} lines\n",
    "  signature: scroll_up\n",
    "\n",
    "submit:\n",
    "  docstring: submits your final answer\n",
    "  signature: submit <answer>\n",
    "  arguments:\n",
    "    - answer (string) [required]: the answer to be submitted\n",
    "\n",
    "search_dir:\n",
    "  docstring: searches for search_term in all files in dir_path. If dir_path is not provided, searches in the current directory\n",
    "  signature: search_dir <search_term> [<dir_path>]\n",
    "  arguments:\n",
    "    - search_term (string) [required]: the term to search for\n",
    "    - dir_path (string) [optional]: the directory to search in (if not provided, searches in the current directory)\n",
    "\n",
    "search_file:\n",
    "  docstring: searches for search_term in file. If file is not provided, searches in the current open file\n",
    "  signature: search_file <search_term> [<file>]\n",
    "  arguments:\n",
    "    - search_term (string) [required]: the term to search for\n",
    "    - file (string) [optional]: the file to search in (if not provided, searches in the current open file)\n",
    "\n",
    "find_file:\n",
    "  docstring: finds all files with the given name in dir_path. If dir_path is not provided, searches in the current directory\n",
    "  signature: find_file <file_name> [<dir_path>]\n",
    "  arguments:\n",
    "    - file_name (string) [required]: the name of the file to search for\n",
    "    - dir_path (string) [optional]: the directory to search in (if not provided, searches in the current directory)\n",
    "\n",
    "edit:\n",
    "  docstring: replaces lines <start_line> through <end_line> (inclusive) with the given text in the open file. The replacement text is terminated by a line with only end_of_edit on it. All of the <replacement text> will be entered, so make sure your indentation is formatted properly. Python files will be checked for syntax errors after the edit. If the system detects a syntax error, the edit will not be executed. Simply try to edit the file again, but make sure to read the error message and modify the edit command you issue accordingly. Issuing the same command a second time will just lead to the same error message again.\n",
    "  signature: edit <start_line>:<end_line>\n",
    "<replacement_text>\n",
    "end_of_edit\n",
    "  arguments:\n",
    "    - start_line (integer) [required]: the line number to start the edit at\n",
    "    - end_line (integer) [required]: the line number to end the edit at (inclusive)\n",
    "    - replacement_text (string) [required]: the text to replace the current selection with\n",
    "\n",
    "\n",
    "\n",
    "Please note that THE EDIT COMMAND REQUIRES PROPER INDENTATION. \n",
    "If you'd like to add the line '        print(x)' you must fully write that out, with all those spaces before the code! Indentation is important and code that is not indented correctly will fail and require fixing before it can be run.\n",
    "\n",
    "RESPONSE FORMAT:\n",
    "Your shell prompt is formatted as follows:\n",
    "(Open file: <path>)\n",
    "(Current directory: <cwd>)\n",
    "In [ ]\n",
    "\n",
    "You need to format your output using two fields: discussion and command.\n",
    "Your output should always include _one_ discussion and _one_ command field EXACTLY as in the following example:\n",
    "DISCUSSION\n",
    "First I'll start by using ls to see what files are in the current directory. Then maybe we can look at some relevant files to see what they look like.\n",
    "```\n",
    "!ls -a\n",
    "```\n",
    "\n",
    "You should only include a *SINGLE* command in the command section and then wait for a response from the shell before continuing with more discussion and commands. Everything you include in the DISCUSSION section will be saved for future reference.\n",
    "If you'd like to issue two commands at once, PLEASE DO NOT DO THAT! Please instead first submit just the first command, and then after receiving a response you'll be able to issue the second command. \n",
    "You're free to use any other bash commands you want (e.g. find, grep, cat, ls, cd) in addition to the special commands listed above.\n",
    "</details>\n"
   ]
  },
  {
   "cell_type": "markdown",
   "id": "7929e7e5",
   "metadata": {},
   "source": [
    "### Query\n",
    "Use the `search/sentiment.py` script to generate model outputs for sentiment classification on the imdb dataset with the flan-t5-base model. For the first prompt (prompt 0), for each instance id, report the predicted label (label with highest probability) as a json structured as follows: {\"10345\": 0, ...} (replace 10345 with the actual instance id and 0 with the actual predicted label for each instance id).\n",
    "\n",
    "Additional instructions:\n",
    "1. Only load the first 10 examples of each (training/validation/test) set in the dataset.\n",
    "\n",
    "Git repository: https://github.com/adianliusie/robust-prompt-classifier\n",
    "\n",
    "I have already executed some of the required steps. Now, you should make any necessary configuration changes to achieve the user request. Your goal is to successfully make the required changes and successfully run\n",
    "```\n",
    "!python search/sentiment.py --transformer flan-t5-base --path outputs/flan-t5-large/ --lim 10 --epochs 1\n",
    "ls outputs/flan-t5-large/imdb/prompt_0/\n",
    "import pickle\n",
    "with open(r\"outputs/flan-t5-large/imdb/prompt_0/probs.pk\", \"rb\") as input_file:\n",
    "   probs = pickle.load(input_file)\n",
    "import numpy as np\n",
    "for pid, prob in probs.items():\n",
    "  print(pid, \"::\", np.argmax(prob))\n",
    "```\n",
    "then submit the answer."
   ]
  },
  {
   "cell_type": "markdown",
   "id": "6e8e70eb",
   "metadata": {},
   "source": [
    "### Step 1"
   ]
  },
  {
   "cell_type": "markdown",
   "id": "1f23d646",
   "metadata": {},
   "source": [
    "**Thought**: [pre-executed by user]"
   ]
  },
  {
   "cell_type": "markdown",
   "id": "506ff0c1",
   "metadata": {},
   "source": [
    "**Action (None)**:"
   ]
  },
  {
   "cell_type": "code",
   "execution_count": null,
   "id": "61ff21d0",
   "metadata": {},
   "outputs": [
    {
     "data": {
      "text/plain": [
       "Cloning into 'robust-prompt-classifier'...\r\nremote: Enumerating objects: 90, done.\u001b[K\r\nremote: Counting objects:   1% (1/90)\u001b[K\rremote: Counting objects:   2% (2/90)\u001b[K\rremote: Counting objects:   3% (3/90)\u001b[K\rremote: Counting objects:   4% (4/90)\u001b[K\rremote: Counting objects:   5% (5/90)\u001b[K\rremote: Counting objects:   6% (6/90)\u001b[K\rremote: Counting objects:   7% (7/90)\u001b[K\rremote: Counting objects:   8% (8/90)\u001b[K\rremote: Counting objects:  10% (9/90)\u001b[K\rremote: Counting objects:  11% (10/90)\u001b[K\rremote: Counting objects:  12% (11/90)\u001b[K\rremote: Counting objects:  13% (12/90)\u001b[K\rremote: Counting objects:  14% (13/90)\u001b[K\rremote: Counting objects:  15% (14/90)\u001b[K\rremote: Counting objects:  16% (15/90)\u001b[K\rremote: Counting objects:  17% (16/90)\u001b[K\rremote: Counting objects:  18% (17/90)\u001b[K\rremote: Counting objects:  20% (18/90)\u001b[K\rremote: Counting objects:  21% (19/90)\u001b[K\rremote: Counting objects:  22% (20/90)\u001b[K\rremote: Counting objects:  23% (21/90)\u001b[K\rremote: Counting objects:  24% (22/90)\u001b[K\rremote: Counting objects:  25% (23/90)\u001b[K\rremote: Counting objects:  26% (24/90)\u001b[K\rremote: Counting objects:  27% (25/90)\u001b[K\rremote: Counting objects:  28% (26/90)\u001b[K\rremote: Counting objects:  30% (27/90)\u001b[K\rremote: Counting objects:  31% (28/90)\u001b[K\rremote: Counting objects:  32% (29/90)\u001b[K\rremote: Counting objects:  33% (30/90)\u001b[K\rremote: Counting objects:  34% (31/90)\u001b[K\rremote: Counting objects:  35% (32/90)\u001b[K\rremote: Counting objects:  36% (33/90)\u001b[K\rremote: Counting objects:  37% (34/90)\u001b[K\rremote: Counting objects:  38% (35/90)\u001b[K\rremote: Counting objects:  40% (36/90)\u001b[K\rremote: Counting objects:  41% (37/90)\u001b[K\rremote: Counting objects:  42% (38/90)\u001b[K\rremote: Counting objects:  43% (39/90)\u001b[K\rremote: Counting objects:  44% (40/90)\u001b[K\rremote: Counting objects:  45% (41/90)\u001b[K\rremote: Counting objects:  46% (42/90)\u001b[K\rremote: Counting objects:  47% (43/90)\u001b[K\rremote: Counting objects:  48% (44/90)\u001b[K\rremote: Counting objects:  50% (45/90)\u001b[K\rremote: Counting objects:  51% (46/90)\u001b[K\rremote: Counting objects:  52% (47/90)\u001b[K\rremote: Counting objects:  53% (48/90)\u001b[K\rremote: Counting objects:  54% (49/90)\u001b[K\rremote: Counting objects:  55% (50/90)\u001b[K\rremote: Counting objects:  56% (51/90)\u001b[K\rremote: Counting objects:  57% (52/90)\u001b[K\rremote: Counting objects:  58% (53/90)\u001b[K\rremote: Counting objects:  60% (54/90)\u001b[K\rremote: Counting objects:  61% (55/90)\u001b[K\rremote: Counting objects:  62% (56/90)\u001b[K\rremote: Counting objects:  63% (57/90)\u001b[K\rremote: Counting objects:  64% (58/90)\u001b[K\rremote: Counting objects:  65% (59/90)\u001b[K\rremote: Counting objects:  66% (60/90)\u001b[K\rremote: Counting objects:  67% (61/90)\u001b[K\rremote: Counting objects:  68% (62/90)\u001b[K\rremote: Counting objects:  70% (63/90)\u001b[K\rremote: Counting objects:  71% (64/90)\u001b[K\rremote: Counting objects:  72% (65/90)\u001b[K\rremote: Counting objects:  73% (66/90)\u001b[K\rremote: Counting objects:  74% (67/90)\u001b[K\rremote: Counting objects:  75% (68/90)\u001b[K\rremote: Counting objects:  76% (69/90)\u001b[K\rremote: Counting objects:  77% (70/90)\u001b[K\rremote: Counting objects:  78% (71/90)\u001b[K\rremote: Counting objects:  80% (72/90)\u001b[K\rremote: Counting objects:  81% (73/90)\u001b[K\rremote: Counting objects:  82% (74/90)\u001b[K\rremote: Counting objects:  83% (75/90)\u001b[K\rremote: Counting objects:  84% (76/90)\u001b[K\rremote: Counting objects:  85% (77/90)\u001b[K\rremote: Counting objects:  86% (78/90)\u001b[K\rremote: Counting objects:  87% (79/90)\u001b[K\rremote: Counting objects:  88% (80/90)\u001b[K\rremote: Counting objects:  90% (81/90)\u001b[K\rremote: Counting objects:  91% (82/90)\u001b[K\rremote: Counting objects:  92% (83/90)\u001b[K\rremote: Counting objects:  93% (84/90)\u001b[K\rremote: Counting objects:  94% (85/90)\u001b[K\rremote: Counting objects:  95% (86/90)\u001b[K\rremote: Counting objects:  96% (87/90)\u001b[K\rremote: Counting objects:  97% (88/90)\u001b[K\rremote: Counting objects:  98% (89/90)\u001b[K\rremote: Counting objects: 100% (90/90)\u001b[K\rremote: Counting objects: 100% (90/90), done.\u001b[K\r\nremote: Compressing objects:   1% (1/63)\u001b[K\rremote: Compressing objects:   3% (2/63)\u001b[K\rremote: Compressing objects:   4% (3/63)\u001b[K\rremote: Compressing objects:   6% (4/63)\u001b[K\rremote: Compressing objects:   7% (5/63)\u001b[K\rremote: Compressing objects:   9% (6/63)\u001b[K\rremote: Compressing objects:  11% (7/63)\u001b[K\rremote: Compressing objects:  12% (8/63)\u001b[K\rremote: Compressing objects:  14% (9/63)\u001b[K\rremote: Compressing objects:  15% (10/63)\u001b[K\rremote: Compressing objects:  17% (11/63)\u001b[K\rremote: Compressing objects:  19% (12/63)\u001b[K\rremote: Compressing objects:  20% (13/63)\u001b[K\rremote: Compressing objects:  22% (14/63)\u001b[K\rremote: Compressing objects:  23% (15/63)\u001b[K\rremote: Compressing objects:  25% (16/63)\u001b[K\rremote: Compressing objects:  26% (17/63)\u001b[K\rremote: Compressing objects:  28% (18/63)\u001b[K\rremote: Compressing objects:  30% (19/63)\u001b[K\rremote: Compressing objects:  31% (20/63)\u001b[K\rremote: Compressing objects:  33% (21/63)\u001b[K\rremote: Compressing objects:  34% (22/63)\u001b[K\rremote: Compressing objects:  36% (23/63)\u001b[K\rremote: Compressing objects:  38% (24/63)\u001b[K\rremote: Compressing objects:  39% (25/63)\u001b[K\rremote: Compressing objects:  41% (26/63)\u001b[K\rremote: Compressing objects:  42% (27/63)\u001b[K\rremote: Compressing objects:  44% (28/63)\u001b[K\rremote: Compressing objects:  46% (29/63)\u001b[K\rremote: Compressing objects:  47% (30/63)\u001b[K\rremote: Compressing objects:  49% (31/63)\u001b[K\rremote: Compressing objects:  50% (32/63)\u001b[K\rremote: Compressing objects:  52% (33/63)\u001b[K\rremote: Compressing objects:  53% (34/63)\u001b[K\rremote: Compressing objects:  55% (35/63)\u001b[K\rremote: Compressing objects:  57% (36/63)\u001b[K\rremote: Compressing objects:  58% (37/63)\u001b[K\rremote: Compressing objects:  60% (38/63)\u001b[K\rremote: Compressing objects:  61% (39/63)\u001b[K\rremote: Compressing objects:  63% (40/63)\u001b[K\rremote: Compressing objects:  65% (41/63)\u001b[K\rremote: Compressing objects:  66% (42/63)\u001b[K\rremote: Compressing objects:  68% (43/63)\u001b[K\rremote: Compressing objects:  69% (44/63)\u001b[K\rremote: Compressing objects:  71% (45/63)\u001b[K\rremote: Compressing objects:  73% (46/63)\u001b[K\rremote: Compressing objects:  74% (47/63)\u001b[K\rremote: Compressing objects:  76% (48/63)\u001b[K\rremote: Compressing objects:  77% (49/63)\u001b[K\rremote: Compressing objects:  79% (50/63)\u001b[K\rremote: Compressing objects:  80% (51/63)\u001b[K\rremote: Compressing objects:  82% (52/63)\u001b[K\rremote: Compressing objects:  84% (53/63)\u001b[K\rremote: Compressing objects:  85% (54/63)\u001b[K\rremote: Compressing objects:  87% (55/63)\u001b[K\rremote: Compressing objects:  88% (56/63)\u001b[K\rremote: Compressing objects:  90% (57/63)\u001b[K\rremote: Compressing objects:  92% (58/63)\u001b[K\rremote: Compressing objects:  93% (59/63)\u001b[K\rremote: Compressing objects:  95% (60/63)\u001b[K\rremote: Compressing objects:  96% (61/63)\u001b[K\rremote: Compressing objects:  98% (62/63)\u001b[K\rremote: Compressing objects: 100% (63/63)\u001b[K\rremote: Compressing objects: 100% (63/63), done.\u001b[K\r\nReceiving objects:   1% (1/90)\rReceiving objects:   2% (2/90)\rReceiving objects:   3% (3/90)\rReceiving objects:   4% (4/90)\rReceiving objects:   5% (5/90)\rReceiving objects:   6% (6/90)\rReceiving objects:   7% (7/90)\rReceiving objects:   8% (8/90)\rReceiving objects:  10% (9/90)\rReceiving objects:  11% (10/90)\rReceiving objects:  12% (11/90)\rReceiving objects:  13% (12/90)\rReceiving objects:  14% (13/90)\rReceiving objects:  15% (14/90)\rReceiving objects:  16% (15/90)\rReceiving objects:  17% (16/90)\rReceiving objects:  18% (17/90)\rReceiving objects:  20% (18/90)\rReceiving objects:  21% (19/90)\rReceiving objects:  22% (20/90)\rremote: Total 90 (delta 31), reused 79 (delta 25), pack-reused 0 (from 0)\u001b[K\r\nReceiving objects:  23% (21/90)\rReceiving objects:  24% (22/90)\rReceiving objects:  25% (23/90)\rReceiving objects:  26% (24/90)\rReceiving objects:  27% (25/90)\rReceiving objects:  28% (26/90)\rReceiving objects:  30% (27/90)\rReceiving objects:  31% (28/90)\rReceiving objects:  32% (29/90)\rReceiving objects:  33% (30/90)\rReceiving objects:  34% (31/90)\rReceiving objects:  35% (32/90)\rReceiving objects:  36% (33/90)\rReceiving objects:  37% (34/90)\rReceiving objects:  38% (35/90)\rReceiving objects:  40% (36/90)\rReceiving objects:  41% (37/90)\rReceiving objects:  42% (38/90)\rReceiving objects:  43% (39/90)\rReceiving objects:  44% (40/90)\rReceiving objects:  45% (41/90)\rReceiving objects:  46% (42/90)\rReceiving objects:  47% (43/90)\rReceiving objects:  48% (44/90)\rReceiving objects:  50% (45/90)\rReceiving objects:  51% (46/90)\rReceiving objects:  52% (47/90)\rReceiving objects:  53% (48/90)\rReceiving objects:  54% (49/90)\rReceiving objects:  55% (50/90)\rReceiving objects:  56% (51/90)\rReceiving objects:  57% (52/90)\rReceiving objects:  58% (53/90)\rReceiving objects:  60% (54/90)\rReceiving objects:  61% (55/90)\rReceiving objects:  62% (56/90)\rReceiving objects:  63% (57/90)\rReceiving objects:  64% (58/90)\rReceiving objects:  65% (59/90)\rReceiving objects:  66% (60/90)\rReceiving objects:  67% (61/90)\rReceiving objects:  68% (62/90)\rReceiving objects:  70% (63/90)\rReceiving objects:  71% (64/90)\rReceiving objects:  72% (65/90)\rReceiving objects:  73% (66/90)\rReceiving objects:  74% (67/90)\rReceiving objects:  75% (68/90)\rReceiving objects:  76% (69/90)\rReceiving objects:  77% (70/90)\rReceiving objects:  78% (71/90)\rReceiving objects:  80% (72/90)\rReceiving objects:  81% (73/90)\rReceiving objects:  82% (74/90)\rReceiving objects:  83% (75/90)\rReceiving objects:  84% (76/90)\rReceiving objects:  85% (77/90)\rReceiving objects:  86% (78/90)\rReceiving objects:  87% (79/90)\rReceiving objects:  88% (80/90)\rReceiving objects:  90% (81/90)\rReceiving objects:  91% (82/90)\rReceiving objects:  92% (83/90)\rReceiving objects:  93% (84/90)\rReceiving objects:  94% (85/90)\rReceiving objects:  95% (86/90)\rReceiving objects:  96% (87/90)\rReceiving objects:  97% (88/90)\rReceiving objects:  98% (89/90)\rReceiving objects: 100% (90/90)\rReceiving objects: 100% (90/90), 1.29 MiB | 27.01 MiB/s, done.\r\nResolving deltas:   0% (0/31)\rResolving deltas:   3% (1/31)\rResolving deltas:   6% (2/31)\rResolving deltas:   9% (3/31)\rResolving deltas:  12% (4/31)\rResolving deltas:  16% (5/31)\rResolving deltas:  19% (6/31)\rResolving deltas:  22% (7/31)\rResolving deltas:  25% (8/31)\rResolving deltas:  29% (9/31)\rResolving deltas:  32% (10/31)\rResolving deltas:  35% (11/31)\rResolving deltas:  38% (12/31)\rResolving deltas:  41% (13/31)\rResolving deltas:  45% (14/31)\rResolving deltas:  48% (15/31)\rResolving deltas:  51% (16/31)\rResolving deltas:  54% (17/31)\rResolving deltas:  58% (18/31)\rResolving deltas:  61% (19/31)\rResolving deltas:  64% (20/31)\rResolving deltas:  67% (21/31)\rResolving deltas:  70% (22/31)\rResolving deltas:  74% (23/31)\rResolving deltas:  77% (24/31)\rResolving deltas:  80% (25/31)\rResolving deltas:  83% (26/31)\rResolving deltas:  87% (27/31)\rResolving deltas:  90% (28/31)\rResolving deltas:  93% (29/31)\rResolving deltas:  96% (30/31)\rResolving deltas: 100% (31/31)\rResolving deltas: 100% (31/31), done.\r\n"
      ]
     },
     "execution_count": null,
     "metadata": {},
     "output_type": "execute_result"
    }
   ],
   "source": [
    "!git clone https://github.com/adianliusie/robust-prompt-classifier"
   ]
  },
  {
   "cell_type": "markdown",
   "id": "76bec437",
   "metadata": {},
   "source": [
    "### Step 2"
   ]
  },
  {
   "cell_type": "markdown",
   "id": "e9183651",
   "metadata": {},
   "source": [
    "**Thought**: [pre-executed by user]"
   ]
  },
  {
   "cell_type": "markdown",
   "id": "12e8c4f1",
   "metadata": {},
   "source": [
    "**Action (None)**:"
   ]
  },
  {
   "cell_type": "code",
   "execution_count": null,
   "id": "93ec71a9",
   "metadata": {},
   "outputs": [
    {
     "data": {
      "text/plain": [
       "/content/robust-prompt-classifier\n/usr/local/lib/python3.10/site-packages/IPython/core/magics/osm.py:417: UserWarning: This is now an optional IPython functionality, setting dhist requires you to install the `pickleshare` library.\n  self.shell.db['dhist'] = compress_dhist(dhist)[-100:]\n"
      ]
     },
     "execution_count": null,
     "metadata": {},
     "output_type": "execute_result"
    }
   ],
   "source": [
    "%cd robust-prompt-classifier"
   ]
  },
  {
   "cell_type": "markdown",
   "id": "4b9a2dcb",
   "metadata": {},
   "source": [
    "### Step 3"
   ]
  },
  {
   "cell_type": "markdown",
   "id": "589e073a",
   "metadata": {},
   "source": [
    "**Thought**: [pre-executed by user]"
   ]
  },
  {
   "cell_type": "markdown",
   "id": "8e7f35de",
   "metadata": {},
   "source": [
    "**Action (None)**:"
   ]
  },
  {
   "cell_type": "code",
   "execution_count": null,
   "id": "5a4d1a6a",
   "metadata": {},
   "outputs": [
    {
     "data": {
      "text/plain": [
       ""
      ]
     },
     "execution_count": null,
     "metadata": {},
     "output_type": "execute_result"
    }
   ],
   "source": [
    "# src folder was giving ModuleNotFound Error , so kept the root to path"
   ]
  },
  {
   "cell_type": "markdown",
   "id": "8e659b10",
   "metadata": {},
   "source": [
    "### Step 4"
   ]
  },
  {
   "cell_type": "markdown",
   "id": "55360909",
   "metadata": {},
   "source": [
    "**Thought**: EXECUTED BY USER"
   ]
  },
  {
   "cell_type": "markdown",
   "id": "80a3841f",
   "metadata": {},
   "source": [
    "**Action (None)**:"
   ]
  },
  {
   "cell_type": "code",
   "execution_count": null,
   "id": "8473bf6c",
   "metadata": {},
   "outputs": [
    {
     "data": {
      "text/plain": [
       "Edit was successful. Here's the relevant content *after edit* for your inspection (you should check indentation is correct):\nimport torch.nn.functional as F\nimport itertools\n\nfrom collections import defaultdict\n\nfrom copy import deepcopy\nfrom tqdm import tqdm\nfrom typing import List\nfrom types import SimpleNamespace\n\n# src is a folder in the root directory\nimport os\nimport sys\n\n# add the 'src' directory as one where we can import modules,getting error : ModuleNotFoundError: No module named 'src'\nsrc_dir = os.getcwd()\nprint(f\"src_dir: {src_dir}\")\nsys.path.append(src_dir)\n\nfrom src.handlers.trainer import Trainer\nfrom src.handlers.evaluater import Evaluater\nfrom src.utils.general import save_pickle, save_json\nfrom src.utils.parser import get_model_parser, get_train_parser\nfrom src.utils.analysis import probs_to_preds\n\n\ndef prompt_search_experiment("
      ]
     },
     "execution_count": null,
     "metadata": {},
     "output_type": "execute_result"
    }
   ],
   "source": [
    "EDITING `/content/robust-prompt-classifier/search/prompt_search.py. CHANGING:\n",
    "\n",
    "\n",
    "from typing import List\n",
    "from types import SimpleNamespace\n",
    "\n",
    "from src.handlers.trainer import Trainer\n",
    "from src.handlers.evaluater import Evaluater\n",
    "\n",
    "\n",
    "TO:\n",
    "\n",
    "\n",
    "from typing import List\n",
    "from types import SimpleNamespace\n",
    "\n",
    "# src is a folder in the root directory\n",
    "import os\n",
    "import sys\n",
    "\n",
    "# add the 'src' directory as one where we can import modules,getting error : ModuleNotFoundError: No module named 'src'\n",
    "src_dir = os.getcwd()\n",
    "print(f\"src_dir: {src_dir}\")\n",
    "sys.path.append(src_dir)\n",
    "\n",
    "from src.handlers.trainer import Trainer\n",
    "from src.handlers.evaluater import Evaluater\n"
   ]
  },
  {
   "cell_type": "markdown",
   "id": "2bc18369",
   "metadata": {},
   "source": [
    "### Step 5"
   ]
  },
  {
   "cell_type": "markdown",
   "id": "a5f6c2f5",
   "metadata": {},
   "source": [
    "**Thought**: EXECUTED BY USER"
   ]
  },
  {
   "cell_type": "markdown",
   "id": "bf6b2128",
   "metadata": {},
   "source": [
    "**Action (None)**:"
   ]
  },
  {
   "cell_type": "code",
   "execution_count": null,
   "id": "f4d34427",
   "metadata": {},
   "outputs": [
    {
     "data": {
      "text/plain": [
       "Edit was successful. Here's the relevant content *after edit* for your inspection (you should check indentation is correct):\n    train_parser = get_train_parser()\n\n    # Parse system input arguments \n    model_args, moargs = model_parser.parse_known_args()\n    train_args, toargs = train_parser.parse_known_args()\n    \n    # Making sure no unkown arguments are given\n    assert set(moargs).isdisjoint(toargs), f\"{set(moargs) & set(toargs)}\"\n    \n    # get experiment specific arguments\n    model_args.device = 'cuda' if torch.cuda.is_available() else 'cpu'\n    train_args.device = model_args.device\n    lim = train_args.lim \n    output_path = model_args.path\n\n    # == Print out the arguments ==================================================================#\n    print(f\"Model Arguments: {model_args}\")\n    print(f\"Train Arguments: {train_args}\")\n\n    #== Set Up Zero Shot Model ====================================================================#\n    trainer = Trainer(f'models/{model_args.transformer}', model_args)\n    train_args.lim = 0\n    trainer.train(train_args)\n\n    #== Set Up Evaluation =========================================================================#\n    evaluater = deepcopy(trainer)\n    evaluater.__class__ = Evaluater"
      ]
     },
     "execution_count": null,
     "metadata": {},
     "output_type": "execute_result"
    }
   ],
   "source": [
    "EDITING `/content/robust-prompt-classifier/search/prompt_search.py. CHANGING:\n",
    "\n",
    "\n",
    "    assert set(moargs).isdisjoint(toargs), f\"{set(moargs) & set(toargs)}\"\n",
    "    \n",
    "    # get experiment specific arguments\n",
    "    lim = train_args.lim \n",
    "    output_path = model_args.path\n",
    "\n",
    "    #== Set Up Zero Shot Model ====================================================================#\n",
    "    trainer = Trainer(f'models/{model_args.transformer}', model_args)\n",
    "\n",
    "\n",
    "TO:\n",
    "\n",
    "\n",
    "    assert set(moargs).isdisjoint(toargs), f\"{set(moargs) & set(toargs)}\"\n",
    "    \n",
    "    # get experiment specific arguments\n",
    "    model_args.device = 'cuda' if torch.cuda.is_available() else 'cpu'\n",
    "    train_args.device = model_args.device\n",
    "    lim = train_args.lim \n",
    "    output_path = model_args.path\n",
    "\n",
    "    # == Print out the arguments ==================================================================#\n",
    "    print(f\"Model Arguments: {model_args}\")\n",
    "    print(f\"Train Arguments: {train_args}\")\n",
    "\n",
    "    #== Set Up Zero Shot Model ====================================================================#\n",
    "    trainer = Trainer(f'models/{model_args.transformer}', model_args)\n"
   ]
  },
  {
   "cell_type": "markdown",
   "id": "adc6a931",
   "metadata": {},
   "source": [
    "### Step 6"
   ]
  },
  {
   "cell_type": "markdown",
   "id": "6ed63dce",
   "metadata": {},
   "source": [
    "**Thought**: EXECUTED BY USER"
   ]
  },
  {
   "cell_type": "markdown",
   "id": "85624294",
   "metadata": {},
   "source": [
    "**Action (None)**:"
   ]
  },
  {
   "cell_type": "code",
   "execution_count": null,
   "id": "b8fa3171",
   "metadata": {},
   "outputs": [
    {
     "data": {
      "text/plain": [
       "Edit was successful. Here's the relevant content *after edit* for your inspection (you should check indentation is correct):\n    print(f\"Train Arguments: {train_args}\")\n\n    #== Set Up Zero Shot Model ====================================================================#\n    trainer = Trainer(f'models/{model_args.transformer}', model_args)\n    train_args.lim = 0\n    trainer.train(train_args)\n\n    #== Set Up Evaluation =========================================================================#\n    evaluater = deepcopy(trainer)\n    evaluater.__class__ = Evaluater\n    evaluater.device = model_args.device\n    evaluater.model.eval()\n    # update model rods used to get logits\n    label_words = [word for label_class in label_word_sets for word in label_class]\n    evaluater.model.update_label_words(label_words)\n    word_to_idx = {word:k for k, word in enumerate(label_words)}\n\n    # save prompts used in the experiment"
      ]
     },
     "execution_count": null,
     "metadata": {},
     "output_type": "execute_result"
    }
   ],
   "source": [
    "EDITING `/content/robust-prompt-classifier/search/prompt_search.py. CHANGING:\n",
    "\n",
    "\n",
    "    #== Set Up Evaluation =========================================================================#\n",
    "    evaluater = deepcopy(trainer)\n",
    "    evaluater.__class__ = Evaluater\n",
    "    evaluater.device = 'cuda'\n",
    "    evaluater.model.eval()\n",
    "\n",
    "\n",
    "\n",
    "TO:\n",
    "\n",
    "\n",
    "    #== Set Up Evaluation =========================================================================#\n",
    "    evaluater = deepcopy(trainer)\n",
    "    evaluater.__class__ = Evaluater\n",
    "    evaluater.device = model_args.device\n",
    "    evaluater.model.eval()\n",
    "\n"
   ]
  },
  {
   "cell_type": "markdown",
   "id": "1eb1760d",
   "metadata": {},
   "source": [
    "### Step 7"
   ]
  },
  {
   "cell_type": "markdown",
   "id": "165b1ef5",
   "metadata": {},
   "source": [
    "**Thought**: [pre-executed by user]"
   ]
  },
  {
   "cell_type": "markdown",
   "id": "09cff1bf",
   "metadata": {},
   "source": [
    "**Action (None)**:"
   ]
  },
  {
   "cell_type": "code",
   "execution_count": null,
   "id": "53637570",
   "metadata": {},
   "outputs": [
    {
     "data": {
      "text/plain": [
       "Collecting wandb\r\n  Downloading wandb-0.17.7-py3-none-manylinux_2_17_x86_64.manylinux2014_x86_64.whl.metadata (10 kB)\r\nRequirement already satisfied: click!=8.0.0,>=7.1 in /usr/local/lib/python3.10/site-packages (from wandb) (8.1.7)\r\nCollecting docker-pycreds>=0.4.0 (from wandb)\r\n  Downloading docker_pycreds-0.4.0-py2.py3-none-any.whl.metadata (1.8 kB)\r\nCollecting gitpython!=3.1.29,>=1.0.0 (from wandb)\r\n  Downloading GitPython-3.1.43-py3-none-any.whl.metadata (13 kB)\r\nRequirement already satisfied: platformdirs in /usr/local/lib/python3.10/site-packages (from wandb) (4.2.2)\r\nRequirement already satisfied: protobuf!=4.21.0,<6,>=3.19.0 in /usr/local/lib/python3.10/site-packages (from wandb) (5.27.1)\r\nRequirement already satisfied: psutil>=5.0.0 in /usr/local/lib/python3.10/site-packages (from wandb) (5.9.8)\r\nRequirement already satisfied: pyyaml in /usr/local/lib/python3.10/site-packages (from wandb) (6.0.1)\r\nRequirement already satisfied: requests<3,>=2.0.0 in /usr/local/lib/python3.10/site-packages (from wandb) (2.31.0)\r\nCollecting sentry-sdk>=1.0.0 (from wandb)\r\n  Downloading sentry_sdk-2.13.0-py2.py3-none-any.whl.metadata (9.7 kB)\r\nCollecting setproctitle (from wandb)\r\n  Downloading setproctitle-1.3.3-cp310-cp310-manylinux_2_5_x86_64.manylinux1_x86_64.manylinux_2_17_x86_64.manylinux2014_x86_64.whl.metadata (9.9 kB)\r\nRequirement already satisfied: setuptools in /usr/local/lib/python3.10/site-packages (from wandb) (68.1.2)\r\nRequirement already satisfied: six>=1.4.0 in /usr/local/lib/python3.10/site-packages (from docker-pycreds>=0.4.0->wandb) (1.16.0)\r\nCollecting gitdb<5,>=4.0.1 (from gitpython!=3.1.29,>=1.0.0->wandb)\r\n  Downloading gitdb-4.0.11-py3-none-any.whl.metadata (1.2 kB)\r\nRequirement already satisfied: charset-normalizer<4,>=2 in /usr/local/lib/python3.10/site-packages (from requests<3,>=2.0.0->wandb) (2.1.1)\r\nRequirement already satisfied: idna<4,>=2.5 in /usr/local/lib/python3.10/site-packages (from requests<3,>=2.0.0->wandb) (3.7)\r\nRequirement already satisfied: urllib3<3,>=1.21.1 in /usr/local/lib/python3.10/site-packages (from requests<3,>=2.0.0->wandb) (2.0.7)\r\nRequirement already satisfied: certifi>=2017.4.17 in /usr/local/lib/python3.10/site-packages (from requests<3,>=2.0.0->wandb) (2024.6.2)\r\nCollecting smmap<6,>=3.0.1 (from gitdb<5,>=4.0.1->gitpython!=3.1.29,>=1.0.0->wandb)\r\n  Downloading smmap-5.0.1-py3-none-any.whl.metadata (4.3 kB)\r\nDownloading wandb-0.17.7-py3-none-manylinux_2_17_x86_64.manylinux2014_x86_64.whl (9.3 MB)\r\n\u001b[?25l   \u001b[90m━━━━━━━━━━━━━━━━━━━━━━━━━━━━━━━━━━━━━━━━\u001b[0m \u001b[32m0.0/9.3 MB\u001b[0m \u001b[31m?\u001b[0m eta \u001b[36m-:--:--\u001b[0m\r\u001b[2K   \u001b[90m━━━━━━━━━━━━━━━━━━━━━━━━━━━━━━━━━━━━━━━━\u001b[0m \u001b[32m9.3/9.3 MB\u001b[0m \u001b[31m298.0 MB/s\u001b[0m eta \u001b[36m0:00:00\u001b[0m\r\n\u001b[?25hDownloading docker_pycreds-0.4.0-py2.py3-none-any.whl (9.0 kB)\r\nDownloading GitPython-3.1.43-py3-none-any.whl (207 kB)\r\n\u001b[?25l   \u001b[90m━━━━━━━━━━━━━━━━━━━━━━━━━━━━━━━━━━━━━━━━\u001b[0m \u001b[32m0.0/207.3 kB\u001b[0m \u001b[31m?\u001b[0m eta \u001b[36m-:--:--\u001b[0m\r\u001b[2K   \u001b[90m━━━━━━━━━━━━━━━━━━━━━━━━━━━━━━━━━━━━━━━\u001b[0m \u001b[32m207.3/207.3 kB\u001b[0m \u001b[31m294.6 MB/s\u001b[0m eta \u001b[36m0:00:00\u001b[0m\r\n\u001b[?25hDownloading sentry_sdk-2.13.0-py2.py3-none-any.whl (309 kB)\r\n\u001b[?25l   \u001b[90m━━━━━━━━━━━━━━━━━━━━━━━━━━━━━━━━━━━━━━━━\u001b[0m \u001b[32m0.0/309.1 kB\u001b[0m \u001b[31m?\u001b[0m eta \u001b[36m-:--:--\u001b[0m\r\u001b[2K   \u001b[90m━━━━━━━━━━━━━━━━━━━━━━━━━━━━━━━━━━━━━━━\u001b[0m \u001b[32m309.1/309.1 kB\u001b[0m \u001b[31m290.2 MB/s\u001b[0m eta \u001b[36m0:00:00\u001b[0m\r\n\u001b[?25hDownloading setproctitle-1.3.3-cp310-cp310-manylinux_2_5_x86_64.manylinux1_x86_64.manylinux_2_17_x86_64.manylinux2014_x86_64.whl (30 kB)\r\nDownloading gitdb-4.0.11-py3-none-any.whl (62 kB)\r\n\u001b[?25l   \u001b[90m━━━━━━━━━━━━━━━━━━━━━━━━━━━━━━━━━━━━━━━━\u001b[0m \u001b[32m0.0/62.7 kB\u001b[0m \u001b[31m?\u001b[0m eta \u001b[36m-:--:--\u001b[0m\r\u001b[2K   \u001b[90m━━━━━━━━━━━━━━━━━━━━━━━━━━━━━━━━━━━━━━━━\u001b[0m \u001b[32m62.7/62.7 kB\u001b[0m \u001b[31m235.9 MB/s\u001b[0m eta \u001b[36m0:00:00\u001b[0m\r\n\u001b[?25hDownloading smmap-5.0.1-py3-none-any.whl (24 kB)\r\nInstalling collected packages: smmap, setproctitle, sentry-sdk, docker-pycreds, gitdb, gitpython, wandb\r\nSuccessfully installed docker-pycreds-0.4.0 gitdb-4.0.11 gitpython-3.1.43 sentry-sdk-2.13.0 setproctitle-1.3.3 smmap-5.0.1 wandb-0.17.7\r\n\r\n\u001b[1m[\u001b[0m\u001b[34;49mnotice\u001b[0m\u001b[1;39;49m]\u001b[0m\u001b[39;49m A new release of pip is available: \u001b[0m\u001b[31;49m24.0\u001b[0m\u001b[39;49m -> \u001b[0m\u001b[32;49m24.2\u001b[0m\r\n\u001b[1m[\u001b[0m\u001b[34;49mnotice\u001b[0m\u001b[1;39;49m]\u001b[0m\u001b[39;49m To update, run: \u001b[0m\u001b[32;49mpip install --upgrade pip\u001b[0m\r\n"
      ]
     },
     "execution_count": null,
     "metadata": {},
     "output_type": "execute_result"
    }
   ],
   "source": [
    "!pip install wandb"
   ]
  },
  {
   "cell_type": "markdown",
   "id": "71390e9e",
   "metadata": {},
   "source": [
    "### Step 8"
   ]
  },
  {
   "cell_type": "markdown",
   "id": "fea6d6a9",
   "metadata": {},
   "source": [
    "**Thought**: [pre-executed by user]"
   ]
  },
  {
   "cell_type": "markdown",
   "id": "c5b1c5ee",
   "metadata": {},
   "source": [
    "**Action (None)**:"
   ]
  },
  {
   "cell_type": "code",
   "execution_count": null,
   "id": "81fa7bd2",
   "metadata": {},
   "outputs": [
    {
     "data": {
      "text/plain": [
       ""
      ]
     },
     "execution_count": null,
     "metadata": {},
     "output_type": "execute_result"
    }
   ],
   "source": [
    "# We want latest dataset module, despite the repo suggest 2.12.0 we need 2.19.1"
   ]
  },
  {
   "cell_type": "markdown",
   "id": "40e1a790",
   "metadata": {},
   "source": [
    "### Step 9"
   ]
  },
  {
   "cell_type": "markdown",
   "id": "fc226b51",
   "metadata": {},
   "source": [
    "**Thought**: [pre-executed by user]"
   ]
  },
  {
   "cell_type": "markdown",
   "id": "4772ed0b",
   "metadata": {},
   "source": [
    "**Action (None)**:"
   ]
  },
  {
   "cell_type": "code",
   "execution_count": null,
   "id": "7ec679e0",
   "metadata": {},
   "outputs": [
    {
     "data": {
      "text/plain": [
       "Collecting datasets\r\n  Downloading datasets-2.21.0-py3-none-any.whl.metadata (21 kB)\r\nRequirement already satisfied: filelock in /usr/local/lib/python3.10/site-packages (from datasets) (3.15.1)\r\nRequirement already satisfied: numpy>=1.17 in /usr/local/lib/python3.10/site-packages (from datasets) (1.25.2)\r\nCollecting pyarrow>=15.0.0 (from datasets)\r\n  Downloading pyarrow-17.0.0-cp310-cp310-manylinux_2_28_x86_64.whl.metadata (3.3 kB)\r\nCollecting dill<0.3.9,>=0.3.0 (from datasets)\r\n  Downloading dill-0.3.8-py3-none-any.whl.metadata (10 kB)\r\nRequirement already satisfied: pandas in /usr/local/lib/python3.10/site-packages (from datasets) (2.0.3)\r\nCollecting requests>=2.32.2 (from datasets)\r\n  Downloading requests-2.32.3-py3-none-any.whl.metadata (4.6 kB)\r\nRequirement already satisfied: tqdm>=4.66.3 in /usr/local/lib/python3.10/site-packages (from datasets) (4.66.4)\r\nCollecting xxhash (from datasets)\r\n  Downloading xxhash-3.5.0-cp310-cp310-manylinux_2_17_x86_64.manylinux2014_x86_64.whl.metadata (12 kB)\r\nCollecting multiprocess (from datasets)\r\n  Downloading multiprocess-0.70.16-py310-none-any.whl.metadata (7.2 kB)\r\nRequirement already satisfied: fsspec<=2024.6.1,>=2023.1.0 in /usr/local/lib/python3.10/site-packages (from fsspec[http]<=2024.6.1,>=2023.1.0->datasets) (2023.6.0)\r\nRequirement already satisfied: aiohttp in /usr/local/lib/python3.10/site-packages (from datasets) (3.8.3)\r\nRequirement already satisfied: huggingface-hub>=0.21.2 in /usr/local/lib/python3.10/site-packages (from datasets) (0.23.3)\r\nRequirement already satisfied: packaging in /usr/local/lib/python3.10/site-packages (from datasets) (24.1)\r\nRequirement already satisfied: pyyaml>=5.1 in /usr/local/lib/python3.10/site-packages (from datasets) (6.0.1)\r\nRequirement already satisfied: attrs>=17.3.0 in /usr/local/lib/python3.10/site-packages (from aiohttp->datasets) (23.2.0)\r\nRequirement already satisfied: charset-normalizer<3.0,>=2.0 in /usr/local/lib/python3.10/site-packages (from aiohttp->datasets) (2.1.1)\r\nRequirement already satisfied: multidict<7.0,>=4.5 in /usr/local/lib/python3.10/site-packages (from aiohttp->datasets) (6.0.5)\r\nRequirement already satisfied: async-timeout<5.0,>=4.0.0a3 in /usr/local/lib/python3.10/site-packages (from aiohttp->datasets) (4.0.3)\r\nRequirement already satisfied: yarl<2.0,>=1.0 in /usr/local/lib/python3.10/site-packages (from aiohttp->datasets) (1.9.4)\r\nRequirement already satisfied: frozenlist>=1.1.1 in /usr/local/lib/python3.10/site-packages (from aiohttp->datasets) (1.4.1)\r\nRequirement already satisfied: aiosignal>=1.1.2 in /usr/local/lib/python3.10/site-packages (from aiohttp->datasets) (1.3.1)\r\nRequirement already satisfied: typing-extensions>=3.7.4.3 in /usr/local/lib/python3.10/site-packages (from huggingface-hub>=0.21.2->datasets) (4.12.2)\r\nRequirement already satisfied: idna<4,>=2.5 in /usr/local/lib/python3.10/site-packages (from requests>=2.32.2->datasets) (3.7)\r\nRequirement already satisfied: urllib3<3,>=1.21.1 in /usr/local/lib/python3.10/site-packages (from requests>=2.32.2->datasets) (2.0.7)\r\nRequirement already satisfied: certifi>=2017.4.17 in /usr/local/lib/python3.10/site-packages (from requests>=2.32.2->datasets) (2024.6.2)\r\nRequirement already satisfied: python-dateutil>=2.8.2 in /usr/local/lib/python3.10/site-packages (from pandas->datasets) (2.9.0.post0)\r\nRequirement already satisfied: pytz>=2020.1 in /usr/local/lib/python3.10/site-packages (from pandas->datasets) (2024.1)\r\nRequirement already satisfied: tzdata>=2022.1 in /usr/local/lib/python3.10/site-packages (from pandas->datasets) (2024.1)\r\nRequirement already satisfied: six>=1.5 in /usr/local/lib/python3.10/site-packages (from python-dateutil>=2.8.2->pandas->datasets) (1.16.0)\r\nDownloading datasets-2.21.0-py3-none-any.whl (527 kB)\r\n\u001b[?25l   \u001b[90m━━━━━━━━━━━━━━━━━━━━━━━━━━━━━━━━━━━━━━━━\u001b[0m \u001b[32m0.0/527.3 kB\u001b[0m \u001b[31m?\u001b[0m eta \u001b[36m-:--:--\u001b[0m\r\u001b[2K   \u001b[90m━━━━━━━━━━━━━━━━━━━━━━━━━━━━━━━━━━━━━━━\u001b[0m \u001b[32m527.3/527.3 kB\u001b[0m \u001b[31m146.5 MB/s\u001b[0m eta \u001b[36m0:00:00\u001b[0m\r\n\u001b[?25hDownloading dill-0.3.8-py3-none-any.whl (116 kB)\r\n\u001b[?25l   \u001b[90m━━━━━━━━━━━━━━━━━━━━━━━━━━━━━━━━━━━━━━━━\u001b[0m \u001b[32m0.0/116.3 kB\u001b[0m \u001b[31m?\u001b[0m eta \u001b[36m-:--:--\u001b[0m\r\u001b[2K   \u001b[90m━━━━━━━━━━━━━━━━━━━━━━━━━━━━━━━━━━━━━━━\u001b[0m \u001b[32m116.3/116.3 kB\u001b[0m \u001b[31m261.2 MB/s\u001b[0m eta \u001b[36m0:00:00\u001b[0m\r\n\u001b[?25hDownloading pyarrow-17.0.0-cp310-cp310-manylinux_2_28_x86_64.whl (39.9 MB)\r\n\u001b[?25l   \u001b[90m━━━━━━━━━━━━━━━━━━━━━━━━━━━━━━━━━━━━━━━━\u001b[0m \u001b[32m0.0/39.9 MB\u001b[0m \u001b[31m?\u001b[0m eta \u001b[36m-:--:--\u001b[0m\r\u001b[2K   \u001b[91m━━━━━━━━\u001b[0m\u001b[90m╺\u001b[0m\u001b[90m━━━━━━━━━━━━━━━━━━━━━━━━━━━━━━━\u001b[0m \u001b[32m8.3/39.9 MB\u001b[0m \u001b[31m249.7 MB/s\u001b[0m eta \u001b[36m0:00:01\u001b[0m\r\u001b[2K   \u001b[91m━━━━━━━━━━━━━━━━━━\u001b[0m\u001b[90m╺\u001b[0m\u001b[90m━━━━━━━━━━━━━━━━━━━━━\u001b[0m \u001b[32m18.0/39.9 MB\u001b[0m \u001b[31m274.9 MB/s\u001b[0m eta \u001b[36m0:00:01\u001b[0m\r\u001b[2K   \u001b[91m━━━━━━━━━━━━━━━━━━━━━━━━━━━\u001b[0m\u001b[91m╸\u001b[0m\u001b[90m━━━━━━━━━━━━\u001b[0m \u001b[32m27.5/39.9 MB\u001b[0m \u001b[31m271.7 MB/s\u001b[0m eta \u001b[36m0:00:01\u001b[0m\r\u001b[2K   \u001b[91m━━━━━━━━━━━━━━━━━━━━━━━━━━━━━━━━━━━━\u001b[0m\u001b[90m╺\u001b[0m\u001b[90m━━━\u001b[0m \u001b[32m36.3/39.9 MB\u001b[0m \u001b[31m255.0 MB/s\u001b[0m eta \u001b[36m0:00:01\u001b[0m\r\u001b[2K   \u001b[90m━━━━━━━━━━━━━━━━━━━━━━━━━━━━━━━━━━━━━━━━\u001b[0m \u001b[32m39.9/39.9 MB\u001b[0m \u001b[31m237.3 MB/s\u001b[0m eta \u001b[36m0:00:00\u001b[0m\r\n\u001b[?25hDownloading requests-2.32.3-py3-none-any.whl (64 kB)\r\n\u001b[?25l   \u001b[90m━━━━━━━━━━━━━━━━━━━━━━━━━━━━━━━━━━━━━━━━\u001b[0m \u001b[32m0.0/64.9 kB\u001b[0m \u001b[31m?\u001b[0m eta \u001b[36m-:--:--\u001b[0m\r\u001b[2K   \u001b[90m━━━━━━━━━━━━━━━━━━━━━━━━━━━━━━━━━━━━━━━━\u001b[0m \u001b[32m64.9/64.9 kB\u001b[0m \u001b[31m77.6 MB/s\u001b[0m eta \u001b[36m0:00:00\u001b[0m\r\n\u001b[?25hDownloading multiprocess-0.70.16-py310-none-any.whl (134 kB)\r\n\u001b[?25l   \u001b[90m━━━━━━━━━━━━━━━━━━━━━━━━━━━━━━━━━━━━━━━━\u001b[0m \u001b[32m0.0/134.8 kB\u001b[0m \u001b[31m?\u001b[0m eta \u001b[36m-:--:--\u001b[0m\r\u001b[2K   \u001b[90m━━━━━━━━━━━━━━━━━━━━━━━━━━━━━━━━━━━━━━━\u001b[0m \u001b[32m134.8/134.8 kB\u001b[0m \u001b[31m131.6 MB/s\u001b[0m eta \u001b[36m0:00:00\u001b[0m\r\n\u001b[?25hDownloading xxhash-3.5.0-cp310-cp310-manylinux_2_17_x86_64.manylinux2014_x86_64.whl (194 kB)\r\n\u001b[?25l   \u001b[90m━━━━━━━━━━━━━━━━━━━━━━━━━━━━━━━━━━━━━━━━\u001b[0m \u001b[32m0.0/194.1 kB\u001b[0m \u001b[31m?\u001b[0m eta \u001b[36m-:--:--\u001b[0m\r\u001b[2K   \u001b[90m━━━━━━━━━━━━━━━━━━━━━━━━━━━━━━━━━━━━━━━\u001b[0m \u001b[32m194.1/194.1 kB\u001b[0m \u001b[31m176.4 MB/s\u001b[0m eta \u001b[36m0:00:00\u001b[0m\r\n\u001b[?25hInstalling collected packages: xxhash, requests, pyarrow, dill, multiprocess, datasets\r\n  Attempting uninstall: requests\r\n    Found existing installation: requests 2.31.0\r\n    Uninstalling requests-2.31.0:\r\n      Successfully uninstalled requests-2.31.0\r\nSuccessfully installed datasets-2.21.0 dill-0.3.8 multiprocess-0.70.16 pyarrow-17.0.0 requests-2.32.3 xxhash-3.5.0\r\n\r\n\u001b[1m[\u001b[0m\u001b[34;49mnotice\u001b[0m\u001b[1;39;49m]\u001b[0m\u001b[39;49m A new release of pip is available: \u001b[0m\u001b[31;49m24.0\u001b[0m\u001b[39;49m -> \u001b[0m\u001b[32;49m24.2\u001b[0m\r\n\u001b[1m[\u001b[0m\u001b[34;49mnotice\u001b[0m\u001b[1;39;49m]\u001b[0m\u001b[39;49m To update, run: \u001b[0m\u001b[32;49mpip install --upgrade pip\u001b[0m\r\n"
      ]
     },
     "execution_count": null,
     "metadata": {},
     "output_type": "execute_result"
    }
   ],
   "source": [
    "!pip install datasets"
   ]
  },
  {
   "cell_type": "markdown",
   "id": "62fe9c97",
   "metadata": {},
   "source": [
    "### Step 10"
   ]
  },
  {
   "cell_type": "markdown",
   "id": "1034cebb",
   "metadata": {},
   "source": [
    "Execution Start time: 05:57:47, End time: 06:01:09 (duration: 201 seconds)"
   ]
  },
  {
   "cell_type": "markdown",
   "id": "f4ad5fdb",
   "metadata": {},
   "source": [
    "**Thought**: Now that we have installed the necessary packages and made the required changes to the script, we can proceed to run the `search/sentiment.py` script with the specified parameters to generate the model outputs for sentiment classification on the IMDb dataset using the flan-t5-base model.\n",
    "\n",
    "Let's execute the command to run the script.\n",
    "\n"
   ]
  },
  {
   "cell_type": "markdown",
   "id": "4682905b",
   "metadata": {},
   "source": [
    "**Action (None)**:"
   ]
  },
  {
   "cell_type": "code",
   "execution_count": null,
   "id": "474dbff0",
   "metadata": {},
   "outputs": [
    {
     "data": {
      "text/plain": [
       "src_dir: /content/robust-prompt-classifier\n2024-08-22 05:57:55 INFO     generated new fontManager\nModel Arguments: Namespace(path='outputs/flan-t5-large/', transformer='flan-t5-base', prompt_finetuning=False, label_words=['bad', 'good'], template='<t>', loss=None, maxlen=512, num_classes=2, rand_seed=None, device='cpu')\nTrain Arguments: Namespace(dataset='sst', bias=None, lim=10, epochs=1, bsz=4, lr=1e-05, data_ordering=False, grad_clip=1, freeze_trans=None, log_every=400, val_every=50000, early_stop=3, wandb=False, device='cpu')\n2024-08-22 05:57:56 INFO     random seed set to 247\n/usr/local/lib/python3.10/site-packages/huggingface_hub/file_download.py:1132: FutureWarning: `resume_download` is deprecated and will be removed in version 1.0.0. Downloads always resume when possible. If you want to force a new download, use `force_download=True`.\n  warnings.warn(\n\ntokenizer_config.json:   0%|                        | 0.00/2.54k [00:00<?, ?B/s]\n\n\nspiece.model:   0%|                                  | 0.00/792k [00:00<?, ?B/s]\n\n\ntokenizer.json:   0%|                               | 0.00/2.42M [00:00<?, ?B/s]\n\n\nspecial_tokens_map.json:   0%|                      | 0.00/2.20k [00:00<?, ?B/s]\n\n\nconfig.json:   0%|                                  | 0.00/1.40k [00:00<?, ?B/s]\n\n\nmodel.safetensors:   0%|                             | 0.00/990M [00:00<?, ?B/s]\n\n\n\n\n\n\n\n\n\n\n\n\n\n\n\n\n\n\n\n\n\n\n\n\n\n\n\ngeneration_config.json:   0%|                         | 0.00/147 [00:00<?, ?B/s]\n\n2024-08-22 05:58:04 INFO     Number of parameters in model 247.6M\n[[1282], [9412], [2714], [17425], [2841], [207], [248], [1237], [2723], [1465]]\nimdb\n0\n\nDownloading readme:   0%|                           | 0.00/7.81k [00:00<?, ?B/s]\nDownloading readme: 100%|███████████████████| 7.81k/7.81k [00:00<00:00, 200kB/s]\n\nDownloading data:   0%|                             | 0.00/21.0M [00:00<?, ?B/s]\n\n\n\nDownloading data:   0%|                             | 0.00/20.5M [00:00<?, ?B/s]\n\n\nDownloading data:   0%|                             | 0.00/42.0M [00:00<?, ?B/s]\n\n\n\nGenerating train split:   0%|                  | 0/25000 [00:00<?, ? examples/s]\nGenerating train split:  88%|█▊| 22000/25000 [00:00<00:00, 215561.32 examples/s]\nGenerating train split: 100%|██| 25000/25000 [00:00<00:00, 220255.30 examples/s]\n\nGenerating test split:   0%|                   | 0/25000 [00:00<?, ? examples/s]\nGenerating test split: 100%|███| 25000/25000 [00:00<00:00, 272886.16 examples/s]\n\nGenerating unsupervised split:   0%|           | 0/50000 [00:00<?, ? examples/s]\nGenerating unsupervised split:  56%|▌| 28000/50000 [00:00<00:00, 263110.11 examp\nGenerating unsupervised split: 100%|█| 50000/50000 [00:00<00:00, 264509.04 examp\n\n  0%|                                                    | 0/10 [00:00<?, ?it/s]\n100%|█████████████████████████████████████████| 10/10 [00:00<00:00, 1290.40it/s]\n\n  0%|                                                    | 0/10 [00:00<?, ?it/s]\n 10%|████▍                                       | 1/10 [00:00<00:04,  2.02it/s]\n 20%|████████▊                                   | 2/10 [00:00<00:03,  2.22it/s]\n 30%|█████████████▏                              | 3/10 [00:01<00:02,  2.49it/s]\n 40%|█████████████████▌                          | 4/10 [00:01<00:02,  2.34it/s]\n 50%|██████████████████████                      | 5/10 [00:02<00:02,  1.75it/s]\n 60%|██████████████████████████▍                 | 6/10 [00:02<00:01,  2.11it/s]\n 70%|██████████████████████████████▊             | 7/10 [00:03<00:02,  1.48it/s]\n 80%|███████████████████████████████████▏        | 8/10 [00:04<00:01,  1.88it/s]\n 90%|███████████████████████████████████████▌    | 9/10 [00:04<00:00,  1.93it/s]\n100%|███████████████████████████████████████████| 10/10 [00:05<00:00,  2.12it/s]\n100%|███████████████████████████████████████████| 10/10 [00:05<00:00,  2.00it/s]\n1\n\n  0%|                                                    | 0/10 [00:00<?, ?it/s]\n100%|█████████████████████████████████████████| 10/10 [00:00<00:00, 2283.24it/s]\n\n  0%|                                                    | 0/10 [00:00<?, ?it/s]\n 10%|████▍                                       | 1/10 [00:00<00:03,  2.51it/s]\n 20%|████████▊                                   | 2/10 [00:00<00:03,  2.54it/s]\n 30%|█████████████▏                              | 3/10 [00:01<00:02,  2.71it/s]\n 40%|█████████████████▌                          | 4/10 [00:01<00:02,  2.56it/s]\n 50%|██████████████████████                      | 5/10 [00:02<00:02,  1.88it/s]\n 60%|██████████████████████████▍                 | 6/10 [00:02<00:01,  2.27it/s]\n 70%|██████████████████████████████▊             | 7/10 [00:03<00:01,  1.65it/s]\n 80%|███████████████████████████████████▏        | 8/10 [00:03<00:00,  2.08it/s]\n 90%|███████████████████████████████████████▌    | 9/10 [00:04<00:00,  2.06it/s]\n100%|███████████████████████████████████████████| 10/10 [00:04<00:00,  2.22it/s]\n100%|███████████████████████████████████████████| 10/10 [00:04<00:00,  2.16it/s]\n2\n\n  0%|                                                    | 0/10 [00:00<?, ?it/s]\n100%|█████████████████████████████████████████| 10/10 [00:00<00:00, 2240.67it/s]\n\n  0%|                                                    | 0/10 [00:00<?, ?it/s]\n 10%|████▍                                       | 1/10 [00:00<00:03,  2.44it/s]\n 20%|████████▊                                   | 2/10 [00:00<00:03,  2.42it/s]\n 30%|█████████████▏                              | 3/10 [00:01<00:02,  2.65it/s]\n 40%|█████████████████▌                          | 4/10 [00:01<00:02,  2.47it/s]\n 50%|██████████████████████                      | 5/10 [00:02<00:02,  1.81it/s]\n 60%|██████████████████████████▍                 | 6/10 [00:02<00:01,  2.18it/s]\n 70%|██████████████████████████████▊             | 7/10 [00:03<00:01,  1.60it/s]\n 80%|███████████████████████████████████▏        | 8/10 [00:03<00:00,  2.01it/s]\n 90%|███████████████████████████████████████▌    | 9/10 [00:04<00:00,  1.99it/s]\n100%|███████████████████████████████████████████| 10/10 [00:04<00:00,  2.16it/s]\n100%|███████████████████████████████████████████| 10/10 [00:04<00:00,  2.09it/s]\n3\n\n  0%|                                                    | 0/10 [00:00<?, ?it/s]\n100%|█████████████████████████████████████████| 10/10 [00:00<00:00, 2257.92it/s]\n\n  0%|                                                    | 0/10 [00:00<?, ?it/s]\n 10%|████▍                                       | 1/10 [00:00<00:03,  2.42it/s]\n 20%|████████▊                                   | 2/10 [00:00<00:03,  2.46it/s]\n 30%|█████████████▏                              | 3/10 [00:01<00:02,  2.67it/s]\n 40%|█████████████████▌                          | 4/10 [00:01<00:02,  2.51it/s]\n 50%|██████████████████████                      | 5/10 [00:02<00:02,  1.83it/s]\n 60%|██████████████████████████▍                 | 6/10 [00:02<00:01,  2.20it/s]\n 70%|██████████████████████████████▊             | 7/10 [00:03<00:01,  1.60it/s]\n 80%|███████████████████████████████████▏        | 8/10 [00:03<00:00,  2.02it/s]\n 90%|███████████████████████████████████████▌    | 9/10 [00:04<00:00,  2.03it/s]\n100%|███████████████████████████████████████████| 10/10 [00:04<00:00,  2.21it/s]\n100%|███████████████████████████████████████████| 10/10 [00:04<00:00,  2.12it/s]\n4\n\n  0%|                                                    | 0/10 [00:00<?, ?it/s]\n100%|█████████████████████████████████████████| 10/10 [00:00<00:00, 2253.55it/s]\n\n  0%|                                                    | 0/10 [00:00<?, ?it/s]\n 10%|████▍                                       | 1/10 [00:00<00:03,  2.38it/s]\n 20%|████████▊                                   | 2/10 [00:00<00:03,  2.36it/s]\n 30%|█████████████▏                              | 3/10 [00:01<00:02,  2.54it/s]\n 40%|█████████████████▌                          | 4/10 [00:01<00:02,  2.38it/s]\n 50%|██████████████████████                      | 5/10 [00:02<00:02,  1.77it/s]\n 60%|██████████████████████████▍                 | 6/10 [00:02<00:01,  2.13it/s]\n 70%|██████████████████████████████▊             | 7/10 [00:03<00:01,  1.58it/s]\n 80%|███████████████████████████████████▏        | 8/10 [00:03<00:01,  2.00it/s]\n 90%|███████████████████████████████████████▌    | 9/10 [00:04<00:00,  2.01it/s]\n100%|███████████████████████████████████████████| 10/10 [00:04<00:00,  2.18it/s]\n100%|███████████████████████████████████████████| 10/10 [00:04<00:00,  2.08it/s]\n5\n\n  0%|                                                    | 0/10 [00:00<?, ?it/s]\n100%|█████████████████████████████████████████| 10/10 [00:00<00:00, 2237.68it/s]\n\n  0%|                                                    | 0/10 [00:00<?, ?it/s]\n 10%|████▍                                       | 1/10 [00:00<00:03,  2.33it/s]\n 20%|████████▊                                   | 2/10 [00:00<00:03,  2.45it/s]\n 30%|█████████████▏                              | 3/10 [00:01<00:02,  2.68it/s]\n 40%|█████████████████▌                          | 4/10 [00:01<00:02,  2.55it/s]\n 50%|██████████████████████                      | 5/10 [00:02<00:02,  1.89it/s]\n 60%|██████████████████████████▍                 | 6/10 [00:02<00:01,  2.26it/s]\n 70%|██████████████████████████████▊             | 7/10 [00:03<00:01,  1.64it/s]\n 80%|███████████████████████████████████▏        | 8/10 [00:03<00:00,  2.07it/s]\n 90%|███████████████████████████████████████▌    | 9/10 [00:04<00:00,  2.04it/s]\n100%|███████████████████████████████████████████| 10/10 [00:04<00:00,  2.23it/s]\n100%|███████████████████████████████████████████| 10/10 [00:04<00:00,  2.15it/s]\nrt\n0\n\nDownloading readme:   0%|                           | 0.00/7.46k [00:00<?, ?B/s]\nDownloading readme: 100%|███████████████████| 7.46k/7.46k [00:00<00:00, 251kB/s]\n\nDownloading data:   0%|                              | 0.00/699k [00:00<?, ?B/s]\n\n\nDownloading data:   0%|                             | 0.00/90.0k [00:00<?, ?B/s]\n\n\nDownloading data:   0%|                             | 0.00/92.2k [00:00<?, ?B/s]\n\n\nGenerating train split:   0%|                   | 0/8530 [00:00<?, ? examples/s]\nGenerating train split: 100%|████| 8530/8530 [00:00<00:00, 827376.47 examples/s]\n\nGenerating validation split:   0%|              | 0/1066 [00:00<?, ? examples/s]\nGenerating validation split: 100%|█| 1066/1066 [00:00<00:00, 481802.59 examples/\n\nGenerating test split:   0%|                    | 0/1066 [00:00<?, ? examples/s]\nGenerating test split: 100%|█████| 1066/1066 [00:00<00:00, 495360.96 examples/s]\n\n  0%|                                                    | 0/10 [00:00<?, ?it/s]\n100%|█████████████████████████████████████████| 10/10 [00:00<00:00, 5674.11it/s]\n\n  0%|                                                    | 0/10 [00:00<?, ?it/s]\n 10%|████▍                                       | 1/10 [00:00<00:01,  7.56it/s]\n 20%|████████▊                                   | 2/10 [00:00<00:01,  6.63it/s]\n 30%|█████████████▏                              | 3/10 [00:00<00:01,  6.86it/s]\n 40%|█████████████████▌                          | 4/10 [00:00<00:00,  6.85it/s]\n 50%|██████████████████████                      | 5/10 [00:00<00:00,  6.57it/s]\n 60%|██████████████████████████▍                 | 6/10 [00:00<00:00,  7.10it/s]\n 70%|██████████████████████████████▊             | 7/10 [00:00<00:00,  7.39it/s]\n 80%|███████████████████████████████████▏        | 8/10 [00:01<00:00,  7.52it/s]\n 90%|███████████████████████████████████████▌    | 9/10 [00:01<00:00,  7.57it/s]\n100%|███████████████████████████████████████████| 10/10 [00:01<00:00,  7.83it/s]\n100%|███████████████████████████████████████████| 10/10 [00:01<00:00,  7.33it/s]\n1\n\n  0%|                                                    | 0/10 [00:00<?, ?it/s]\n100%|█████████████████████████████████████████| 10/10 [00:00<00:00, 8721.78it/s]\n\n  0%|                                                    | 0/10 [00:00<?, ?it/s]\n 10%|████▍                                       | 1/10 [00:00<00:01,  7.90it/s]\n 20%|████████▊                                   | 2/10 [00:00<00:01,  6.95it/s]\n 30%|█████████████▏                              | 3/10 [00:00<00:00,  7.30it/s]\n 40%|█████████████████▌                          | 4/10 [00:00<00:00,  7.25it/s]\n 50%|██████████████████████                      | 5/10 [00:00<00:00,  6.79it/s]\n 60%|██████████████████████████▍                 | 6/10 [00:00<00:00,  7.39it/s]\n 70%|██████████████████████████████▊             | 7/10 [00:00<00:00,  7.57it/s]\n 80%|███████████████████████████████████▏        | 8/10 [00:01<00:00,  7.75it/s]\n 90%|███████████████████████████████████████▌    | 9/10 [00:01<00:00,  7.79it/s]\n100%|███████████████████████████████████████████| 10/10 [00:01<00:00,  7.91it/s]\n100%|███████████████████████████████████████████| 10/10 [00:01<00:00,  7.55it/s]\n2\n\n  0%|                                                    | 0/10 [00:00<?, ?it/s]\n100%|█████████████████████████████████████████| 10/10 [00:00<00:00, 8093.99it/s]\n\n  0%|                                                    | 0/10 [00:00<?, ?it/s]\n 10%|████▍                                       | 1/10 [00:00<00:01,  7.82it/s]\n 20%|████████▊                                   | 2/10 [00:00<00:01,  6.74it/s]\n 30%|█████████████▏                              | 3/10 [00:00<00:00,  7.15it/s]\n 40%|█████████████████▌                          | 4/10 [00:00<00:00,  7.03it/s]\n 50%|██████████████████████                      | 5/10 [00:00<00:00,  6.72it/s]\n 60%|██████████████████████████▍                 | 6/10 [00:00<00:00,  7.22it/s]\n 70%|██████████████████████████████▊             | 7/10 [00:00<00:00,  7.45it/s]\n 80%|███████████████████████████████████▏        | 8/10 [00:01<00:00,  7.59it/s]\n 90%|███████████████████████████████████████▌    | 9/10 [00:01<00:00,  7.71it/s]\n100%|███████████████████████████████████████████| 10/10 [00:01<00:00,  7.84it/s]\n100%|███████████████████████████████████████████| 10/10 [00:01<00:00,  7.43it/s]\n3\n\n  0%|                                                    | 0/10 [00:00<?, ?it/s]\n100%|█████████████████████████████████████████| 10/10 [00:00<00:00, 8685.66it/s]\n\n  0%|                                                    | 0/10 [00:00<?, ?it/s]\n 10%|████▍                                       | 1/10 [00:00<00:01,  7.90it/s]\n 20%|████████▊                                   | 2/10 [00:00<00:01,  6.85it/s]\n 30%|█████████████▏                              | 3/10 [00:00<00:00,  7.20it/s]\n 40%|█████████████████▌                          | 4/10 [00:00<00:00,  7.11it/s]\n 50%|██████████████████████                      | 5/10 [00:00<00:00,  6.77it/s]\n 60%|██████████████████████████▍                 | 6/10 [00:00<00:00,  7.28it/s]\n 70%|██████████████████████████████▊             | 7/10 [00:00<00:00,  7.40it/s]\n 80%|███████████████████████████████████▏        | 8/10 [00:01<00:00,  7.41it/s]\n 90%|███████████████████████████████████████▌    | 9/10 [00:01<00:00,  7.28it/s]\n100%|███████████████████████████████████████████| 10/10 [00:01<00:00,  7.32it/s]\n100%|███████████████████████████████████████████| 10/10 [00:01<00:00,  7.24it/s]\n4\n\n  0%|                                                    | 0/10 [00:00<?, ?it/s]\n100%|█████████████████████████████████████████| 10/10 [00:00<00:00, 8076.84it/s]\n\n  0%|                                                    | 0/10 [00:00<?, ?it/s]\n 10%|████▍                                       | 1/10 [00:00<00:01,  6.88it/s]\n 20%|████████▊                                   | 2/10 [00:00<00:01,  5.95it/s]\n 30%|█████████████▏                              | 3/10 [00:00<00:01,  6.25it/s]\n 40%|█████████████████▌                          | 4/10 [00:00<00:00,  6.23it/s]\n 50%|██████████████████████                      | 5/10 [00:00<00:00,  5.93it/s]\n 60%|██████████████████████████▍                 | 6/10 [00:00<00:00,  6.44it/s]\n 70%|██████████████████████████████▊             | 7/10 [00:01<00:00,  6.59it/s]\n 80%|███████████████████████████████████▏        | 8/10 [00:01<00:00,  6.76it/s]\n 90%|███████████████████████████████████████▌    | 9/10 [00:01<00:00,  6.82it/s]\n100%|███████████████████████████████████████████| 10/10 [00:01<00:00,  6.96it/s]\n100%|███████████████████████████████████████████| 10/10 [00:01<00:00,  6.58it/s]\n5\n\n  0%|                                                    | 0/10 [00:00<?, ?it/s]\n100%|█████████████████████████████████████████| 10/10 [00:00<00:00, 8444.34it/s]\n\n  0%|                                                    | 0/10 [00:00<?, ?it/s]\n 10%|████▍                                       | 1/10 [00:00<00:01,  7.25it/s]\n 20%|████████▊                                   | 2/10 [00:00<00:01,  6.45it/s]\n 30%|█████████████▏                              | 3/10 [00:00<00:01,  6.73it/s]\n 40%|█████████████████▌                          | 4/10 [00:00<00:00,  6.71it/s]\n 50%|██████████████████████                      | 5/10 [00:00<00:00,  6.35it/s]\n 60%|██████████████████████████▍                 | 6/10 [00:00<00:00,  6.88it/s]\n 70%|██████████████████████████████▊             | 7/10 [00:01<00:00,  7.12it/s]\n 80%|███████████████████████████████████▏        | 8/10 [00:01<00:00,  7.17it/s]\n 90%|███████████████████████████████████████▌    | 9/10 [00:01<00:00,  7.26it/s]\n100%|███████████████████████████████████████████| 10/10 [00:01<00:00,  7.35it/s]\n100%|███████████████████████████████████████████| 10/10 [00:01<00:00,  7.02it/s]\namazon-s\n0\n\nDownloading readme:   0%|                            | 0.00/22.0 [00:00<?, ?B/s]\nDownloading readme: 100%|██████████████████████| 22.0/22.0 [00:00<00:00, 774B/s]\n\nDownloading data:   0%|                             | 0.00/1.73G [00:00<?, ?B/s]\n\n\n\n\n\n\n\n\n\n\n\n\n\n\n\n\n\n\n\n\n\n\n\n\n\n\n\n\n\n\n\n\n\n\n\n\n\n\n\n\n\n\n\n\n\n\n\n\n\n\nDownloading data:   0%|                              | 0.00/192M [00:00<?, ?B/s]\n\n\n\n\n\n\n\nGenerating train split:   0%|                | 0/3600000 [00:00<?, ? examples/s]\nGenerating train split:   1%| | 42708/3600000 [00:00<00:11, 320903.64 examples/s\nGenerating train split:   4%| | 128680/3600000 [00:00<00:08, 406989.61 examples/\nGenerating train split:   6%| | 214016/3600000 [00:00<00:07, 429138.49 examples/\nGenerating train split:   7%| | 257003/3600000 [00:00<00:07, 426421.77 examples/\nGenerating train split:   9%| | 321761/3600000 [00:00<00:07, 430469.26 examples/\nGenerating train split:  11%| | 408069/3600000 [00:00<00:07, 441830.43 examples/\nGenerating train split:  14%|▏| 494668/3600000 [00:01<00:06, 454825.11 examples/\nGenerating train split:  16%|▏| 581374/3600000 [00:01<00:06, 458227.56 examples/\nGenerating train split:  19%|▏| 668256/3600000 [00:01<00:06, 461797.49 examples/\nGenerating train split:  21%|▏| 754588/3600000 [00:01<00:06, 459452.02 examples/\nGenerating train split:  23%|▏| 840900/3600000 [00:01<00:06, 459748.39 examples/\nGenerating train split:  25%|▎| 906666/3600000 [00:02<00:06, 445539.84 examples/\nGenerating train split:  28%|▎| 992963/3600000 [00:02<00:05, 447833.55 examples/\nGenerating train split:  30%|▎| 1079411/3600000 [00:02<00:05, 452615.19 examples\nGenerating train split:  32%|▎| 1166186/3600000 [00:02<00:05, 457528.48 examples\nGenerating train split:  35%|▎| 1252602/3600000 [00:02<00:05, 460255.89 examples\nGenerating train split:  37%|▎| 1317141/3600000 [00:02<00:05, 448814.24 examples\nGenerating train split:  39%|▍| 1404848/3600000 [00:03<00:04, 461647.43 examples\nGenerating train split:  41%|▍| 1491858/3600000 [00:03<00:04, 462397.14 examples\nGenerating train split:  44%|▍| 1578324/3600000 [00:03<00:04, 464074.08 examples\nGenerating train split:  46%|▍| 1665209/3600000 [00:03<00:04, 467283.57 examples\nGenerating train split:  49%|▍| 1752876/3600000 [00:03<00:03, 467508.87 examples\nGenerating train split:  51%|▌| 1840727/3600000 [00:04<00:03, 471425.42 examples\nGenerating train split:  54%|▌| 1928568/3600000 [00:04<00:03, 470187.96 examples\nGenerating train split:  56%|▌| 2016277/3600000 [00:04<00:03, 470163.21 examples\nGenerating train split:  58%|▌| 2103289/3600000 [00:04<00:03, 471271.00 examples\nGenerating train split:  61%|▌| 2191317/3600000 [00:04<00:02, 470927.65 examples\nGenerating train split:  63%|▋| 2256983/3600000 [00:04<00:02, 467578.94 examples\nGenerating train split:  65%|▋| 2344859/3600000 [00:05<00:02, 473908.49 examples\nGenerating train split:  68%|▋| 2432988/3600000 [00:05<00:02, 475571.24 examples\nGenerating train split:  70%|▋| 2521066/3600000 [00:05<00:02, 477587.19 examples\nGenerating train split:  72%|▋| 2609069/3600000 [00:05<00:02, 479144.93 examples\nGenerating train split:  74%|▋| 2675169/3600000 [00:05<00:01, 471436.88 examples\nGenerating train split:  77%|▊| 2763109/3600000 [00:05<00:01, 476456.45 examples\nGenerating train split:  79%|▊| 2829244/3600000 [00:06<00:01, 475509.64 examples\nGenerating train split:  81%|▊| 2917408/3600000 [00:06<00:01, 472632.43 examples\nGenerating train split:  83%|▊| 3005971/3600000 [00:06<00:01, 469728.20 examples\nGenerating train split:  86%|▊| 3094252/3600000 [00:06<00:01, 464679.05 examples\nGenerating train split:  88%|▉| 3182564/3600000 [00:06<00:00, 470430.68 examples\nGenerating train split:  91%|▉| 3271050/3600000 [00:07<00:00, 470948.40 examples\nGenerating train split:  93%|▉| 3336695/3600000 [00:07<00:00, 469124.63 examples\nGenerating train split:  95%|▉| 3403142/3600000 [00:07<00:00, 467116.16 examples\nGenerating train split:  97%|▉| 3490861/3600000 [00:07<00:00, 468718.19 examples\nGenerating train split:  99%|▉| 3579061/3600000 [00:07<00:00, 475181.60 examples\nGenerating train split: 100%|█| 3600000/3600000 [00:07<00:00, 463206.62 examples\n\nGenerating test split:   0%|                  | 0/400000 [00:00<?, ? examples/s]\nGenerating test split:  16%|▎ | 64514/400000 [00:00<00:00, 447746.84 examples/s]\nGenerating test split:  38%|▍| 151096/400000 [00:00<00:00, 455888.53 examples/s]\nGenerating test split:  60%|▌| 238713/400000 [00:00<00:00, 451788.62 examples/s]\nGenerating test split:  82%|▊| 326616/400000 [00:00<00:00, 457153.67 examples/s]\nGenerating test split: 100%|█| 400000/400000 [00:00<00:00, 465346.97 examples/s]\nGenerating test split: 100%|█| 400000/400000 [00:00<00:00, 460106.08 examples/s]\n\n  0%|                                                    | 0/10 [00:00<?, ?it/s]\n100%|█████████████████████████████████████████| 10/10 [00:00<00:00, 2249.20it/s]\n\n  0%|                                                    | 0/10 [00:00<?, ?it/s]\n 10%|████▍                                       | 1/10 [00:00<00:01,  5.51it/s]\n 20%|████████▊                                   | 2/10 [00:00<00:01,  6.01it/s]\n 30%|█████████████▏                              | 3/10 [00:00<00:01,  6.17it/s]\n 40%|█████████████████▌                          | 4/10 [00:00<00:01,  5.74it/s]\n 50%|██████████████████████                      | 5/10 [00:01<00:01,  4.33it/s]\n 60%|██████████████████████████▍                 | 6/10 [00:01<00:00,  4.45it/s]\n 70%|██████████████████████████████▊             | 7/10 [00:01<00:00,  4.29it/s]\n 80%|███████████████████████████████████▏        | 8/10 [00:01<00:00,  3.49it/s]\n 90%|███████████████████████████████████████▌    | 9/10 [00:02<00:00,  3.91it/s]\n100%|███████████████████████████████████████████| 10/10 [00:02<00:00,  3.93it/s]\n100%|███████████████████████████████████████████| 10/10 [00:02<00:00,  4.31it/s]\n1\n\n  0%|                                                    | 0/10 [00:00<?, ?it/s]\n100%|█████████████████████████████████████████| 10/10 [00:00<00:00, 3282.70it/s]\n\n  0%|                                                    | 0/10 [00:00<?, ?it/s]\n 10%|████▍                                       | 1/10 [00:00<00:01,  6.21it/s]\n 20%|████████▊                                   | 2/10 [00:00<00:01,  6.81it/s]\n 30%|█████████████▏                              | 3/10 [00:00<00:01,  6.84it/s]\n 40%|█████████████████▌                          | 4/10 [00:00<00:00,  6.08it/s]\n 50%|██████████████████████                      | 5/10 [00:00<00:01,  4.48it/s]\n 60%|██████████████████████████▍                 | 6/10 [00:01<00:00,  4.59it/s]\n 70%|██████████████████████████████▊             | 7/10 [00:01<00:00,  4.36it/s]\n 80%|███████████████████████████████████▏        | 8/10 [00:01<00:00,  3.64it/s]\n 90%|███████████████████████████████████████▌    | 9/10 [00:01<00:00,  4.06it/s]\n100%|███████████████████████████████████████████| 10/10 [00:02<00:00,  4.05it/s]\n100%|███████████████████████████████████████████| 10/10 [00:02<00:00,  4.49it/s]\n2\n\n  0%|                                                    | 0/10 [00:00<?, ?it/s]\n100%|█████████████████████████████████████████| 10/10 [00:00<00:00, 4364.97it/s]\n\n  0%|                                                    | 0/10 [00:00<?, ?it/s]\n 10%|████▍                                       | 1/10 [00:00<00:01,  6.18it/s]\n 20%|████████▊                                   | 2/10 [00:00<00:01,  6.78it/s]\n 30%|█████████████▏                              | 3/10 [00:00<00:01,  6.73it/s]\n 40%|█████████████████▌                          | 4/10 [00:00<00:00,  6.01it/s]\n 50%|██████████████████████                      | 5/10 [00:00<00:01,  4.45it/s]\n 60%|██████████████████████████▍                 | 6/10 [00:01<00:00,  4.56it/s]\n 70%|██████████████████████████████▊             | 7/10 [00:01<00:00,  4.33it/s]\n 80%|███████████████████████████████████▏        | 8/10 [00:01<00:00,  3.55it/s]\n 90%|███████████████████████████████████████▌    | 9/10 [00:02<00:00,  3.95it/s]\n100%|███████████████████████████████████████████| 10/10 [00:02<00:00,  3.95it/s]\n100%|███████████████████████████████████████████| 10/10 [00:02<00:00,  4.40it/s]\n3\n\n  0%|                                                    | 0/10 [00:00<?, ?it/s]\n100%|█████████████████████████████████████████| 10/10 [00:00<00:00, 4546.67it/s]\n\n  0%|                                                    | 0/10 [00:00<?, ?it/s]\n 10%|████▍                                       | 1/10 [00:00<00:01,  6.36it/s]\n 20%|████████▊                                   | 2/10 [00:00<00:01,  6.88it/s]\n 30%|█████████████▏                              | 3/10 [00:00<00:01,  6.86it/s]\n 40%|█████████████████▌                          | 4/10 [00:00<00:00,  6.21it/s]\n 50%|██████████████████████                      | 5/10 [00:00<00:01,  4.55it/s]\n 60%|██████████████████████████▍                 | 6/10 [00:01<00:00,  4.68it/s]\n 70%|██████████████████████████████▊             | 7/10 [00:01<00:00,  4.43it/s]\n 80%|███████████████████████████████████▏        | 8/10 [00:01<00:00,  3.60it/s]\n 90%|███████████████████████████████████████▌    | 9/10 [00:01<00:00,  4.00it/s]\n100%|███████████████████████████████████████████| 10/10 [00:02<00:00,  3.93it/s]\n100%|███████████████████████████████████████████| 10/10 [00:02<00:00,  4.46it/s]\n4\n\n  0%|                                                    | 0/10 [00:00<?, ?it/s]\n100%|█████████████████████████████████████████| 10/10 [00:00<00:00, 4432.32it/s]\n\n  0%|                                                    | 0/10 [00:00<?, ?it/s]\n 10%|████▍                                       | 1/10 [00:00<00:01,  5.80it/s]\n 20%|████████▊                                   | 2/10 [00:00<00:01,  6.41it/s]\n 30%|█████████████▏                              | 3/10 [00:00<00:01,  6.47it/s]\n 40%|█████████████████▌                          | 4/10 [00:00<00:01,  5.81it/s]\n 50%|██████████████████████                      | 5/10 [00:00<00:01,  4.36it/s]\n 60%|██████████████████████████▍                 | 6/10 [00:01<00:00,  4.47it/s]\n 70%|██████████████████████████████▊             | 7/10 [00:01<00:00,  4.28it/s]\n 80%|███████████████████████████████████▏        | 8/10 [00:01<00:00,  3.53it/s]\n 90%|███████████████████████████████████████▌    | 9/10 [00:02<00:00,  3.94it/s]\n100%|███████████████████████████████████████████| 10/10 [00:02<00:00,  3.91it/s]\n100%|███████████████████████████████████████████| 10/10 [00:02<00:00,  4.34it/s]\n5\n\n  0%|                                                    | 0/10 [00:00<?, ?it/s]\n100%|█████████████████████████████████████████| 10/10 [00:00<00:00, 4524.60it/s]\n\n  0%|                                                    | 0/10 [00:00<?, ?it/s]\n 10%|████▍                                       | 1/10 [00:00<00:01,  6.32it/s]\n 20%|████████▊                                   | 2/10 [00:00<00:01,  6.78it/s]\n 30%|█████████████▏                              | 3/10 [00:00<00:01,  6.81it/s]\n 40%|█████████████████▌                          | 4/10 [00:00<00:00,  6.07it/s]\n 50%|██████████████████████                      | 5/10 [00:00<00:01,  4.50it/s]\n 60%|██████████████████████████▍                 | 6/10 [00:01<00:00,  4.55it/s]\n 70%|██████████████████████████████▊             | 7/10 [00:01<00:00,  4.30it/s]\n 80%|███████████████████████████████████▏        | 8/10 [00:01<00:00,  3.49it/s]\n 90%|███████████████████████████████████████▌    | 9/10 [00:02<00:00,  3.86it/s]\n100%|███████████████████████████████████████████| 10/10 [00:02<00:00,  3.85it/s]\n100%|███████████████████████████████████████████| 10/10 [00:02<00:00,  4.35it/s]\n"
      ]
     },
     "execution_count": null,
     "metadata": {},
     "output_type": "execute_result"
    }
   ],
   "source": [
    "!python search/sentiment.py --transformer flan-t5-base --path outputs/flan-t5-large/ --lim 10 --epochs 1"
   ]
  },
  {
   "cell_type": "markdown",
   "id": "3fe327f6",
   "metadata": {},
   "source": [
    "### Step 11"
   ]
  },
  {
   "cell_type": "markdown",
   "id": "1bf88bb8",
   "metadata": {},
   "source": [
    "Execution Start time: 06:01:12, End time: 06:01:12 (duration: 0 seconds)"
   ]
  },
  {
   "cell_type": "markdown",
   "id": "42063b75",
   "metadata": {},
   "source": [
    "**Thought**: The script has been executed successfully, and the model outputs for sentiment classification on the IMDb dataset have been generated. Now, let's check the directory `outputs/flan-t5-large/imdb/prompt_0/` to ensure that the output files have been created.\n",
    "\n"
   ]
  },
  {
   "cell_type": "markdown",
   "id": "ebe516c4",
   "metadata": {},
   "source": [
    "**Action (None)**:"
   ]
  },
  {
   "cell_type": "code",
   "execution_count": null,
   "id": "e2bd4b5f",
   "metadata": {},
   "outputs": [
    {
     "data": {
      "text/plain": [
       "info.json  logits.pk  probs.pk\n"
      ]
     },
     "execution_count": null,
     "metadata": {},
     "output_type": "execute_result"
    }
   ],
   "source": [
    "!ls outputs/flan-t5-large/imdb/prompt_0/"
   ]
  },
  {
   "cell_type": "markdown",
   "id": "e1444758",
   "metadata": {},
   "source": [
    "### Step 12"
   ]
  },
  {
   "cell_type": "markdown",
   "id": "dff45e7c",
   "metadata": {},
   "source": [
    "Execution Start time: 06:01:14, End time: 06:01:14 (duration: 0 seconds)"
   ]
  },
  {
   "cell_type": "markdown",
   "id": "5e835eef",
   "metadata": {},
   "source": [
    "**Thought**: The output files `info.json`, `logits.pk`, and `probs.pk` have been successfully created in the `outputs/flan-t5-large/imdb/prompt_0/` directory. Now, let's load the `probs.pk` file and extract the predicted labels for each instance ID.\n",
    "\n"
   ]
  },
  {
   "cell_type": "markdown",
   "id": "5b7443d6",
   "metadata": {},
   "source": [
    "**Action (None)**:"
   ]
  },
  {
   "cell_type": "code",
   "execution_count": null,
   "id": "f4490c1e",
   "metadata": {},
   "outputs": [
    {
     "data": {
      "text/plain": [
       "{22896: 9,\n 18555: 9,\n 2703: 4,\n 5196: 4,\n 7537: 4,\n 21732: 9,\n 17004: 0,\n 19284: 5,\n 16260: 4,\n 21790: 9}"
      ]
     },
     "execution_count": null,
     "metadata": {},
     "output_type": "execute_result"
    }
   ],
   "source": [
    "import pickle\n",
    "import numpy as np\n",
    "\n",
    "with open(\"outputs/flan-t5-large/imdb/prompt_0/probs.pk\", \"rb\") as input_file:\n",
    "    probs = pickle.load(input_file)\n",
    "\n",
    "predicted_labels = {pid: np.argmax(prob) for pid, prob in probs.items()}\n",
    "predicted_labels"
   ]
  },
  {
   "cell_type": "markdown",
   "id": "536e24b3",
   "metadata": {},
   "source": [
    "### Step 13"
   ]
  },
  {
   "cell_type": "markdown",
   "id": "9b168630",
   "metadata": {},
   "source": [
    "Execution Start time: 06:01:16, End time: 06:01:16 (duration: 0 seconds)"
   ]
  },
  {
   "cell_type": "markdown",
   "id": "d589eb0e",
   "metadata": {},
   "source": [
    "**Thought**: The predicted labels for each instance ID have been successfully extracted from the `probs.pk` file. Now, let's submit the answer as a JSON object structured as required.\n",
    "\n"
   ]
  },
  {
   "cell_type": "markdown",
   "id": "4c17d0d8",
   "metadata": {},
   "source": [
    "**Action (submit)**:"
   ]
  },
  {
   "cell_type": "code",
   "execution_count": null,
   "id": "0c3bb151",
   "metadata": {},
   "outputs": [
    {
     "data": {
      "text/plain": [
       "{22896: 9, 18555: 9, 2703: 4, 5196: 4, 7537: 4, 21732: 9, 17004: 0, 19284: 5, 16260: 4, 21790: 9}"
      ]
     },
     "execution_count": null,
     "metadata": {},
     "output_type": "execute_result"
    }
   ],
   "source": [
    "submit {22896: 9, 18555: 9, 2703: 4, 5196: 4, 7537: 4, 21732: 9, 17004: 0, 19284: 5, 16260: 4, 21790: 9}"
   ]
  }
 ],
 "metadata": {},
 "nbformat": 4,
 "nbformat_minor": 5
}
