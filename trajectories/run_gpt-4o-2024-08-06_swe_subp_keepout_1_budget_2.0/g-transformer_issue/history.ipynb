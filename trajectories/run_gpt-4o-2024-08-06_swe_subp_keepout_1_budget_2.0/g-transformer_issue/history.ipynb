{
 "cells": [
  {
   "cell_type": "markdown",
   "id": "f3f1111e",
   "metadata": {},
   "source": [
    "### System Prompt\n",
    "<details>\n",
    "SETTING: You are an autonomous programmer, and you're working directly in the command line with a special Jupyter notebook interface.\n",
    "\n",
    "The special Jupyter notebook interface consists of a file editor that shows you 100 lines of a file at a time.\n",
    "You can execute commands in the notebook using:\n",
    "\n",
    "1. Bash commands: Commands starting with !.\n",
    "2. Python commands: Standard Python code.\n",
    "3. Magic commands: Commands starting with %, e.g., %cd <path>.\n",
    "\n",
    "Additionally, you can also use the following commands to help you navigate and edit files.\n",
    "\n",
    "COMMANDS:\n",
    "\n",
    "open:\n",
    "  docstring: opens the file at the given path in the editor. If line_number is provided, the window will be move to include that line\n",
    "  signature: open <path> [<line_number>]\n",
    "  arguments:\n",
    "    - path (string) [required]: the path to the file to open\n",
    "    - line_number (integer) [optional]: the line number to move the window to (if not provided, the window will start at the top of the file)\n",
    "\n",
    "create:\n",
    "  docstring: creates and opens a new file with the given name\n",
    "  signature: create <filename>\n",
    "  arguments:\n",
    "    - filename (string) [required]: the name of the file to create\n",
    "\n",
    "goto:\n",
    "  docstring: moves the window to show <line_number>\n",
    "  signature: goto <line_number>\n",
    "  arguments:\n",
    "    - line_number (integer) [required]: the line number to move the window to\n",
    "\n",
    "scroll_down:\n",
    "  docstring: moves the window down {WINDOW} lines\n",
    "  signature: scroll_down\n",
    "\n",
    "scroll_up:\n",
    "  docstring: moves the window down {WINDOW} lines\n",
    "  signature: scroll_up\n",
    "\n",
    "submit:\n",
    "  docstring: submits your final answer\n",
    "  signature: submit <answer>\n",
    "  arguments:\n",
    "    - answer (string) [required]: the answer to be submitted\n",
    "\n",
    "search_dir:\n",
    "  docstring: searches for search_term in all files in dir_path. If dir_path is not provided, searches in the current directory\n",
    "  signature: search_dir <search_term> [<dir_path>]\n",
    "  arguments:\n",
    "    - search_term (string) [required]: the term to search for\n",
    "    - dir_path (string) [optional]: the directory to search in (if not provided, searches in the current directory)\n",
    "\n",
    "search_file:\n",
    "  docstring: searches for search_term in file. If file is not provided, searches in the current open file\n",
    "  signature: search_file <search_term> [<file>]\n",
    "  arguments:\n",
    "    - search_term (string) [required]: the term to search for\n",
    "    - file (string) [optional]: the file to search in (if not provided, searches in the current open file)\n",
    "\n",
    "find_file:\n",
    "  docstring: finds all files with the given name in dir_path. If dir_path is not provided, searches in the current directory\n",
    "  signature: find_file <file_name> [<dir_path>]\n",
    "  arguments:\n",
    "    - file_name (string) [required]: the name of the file to search for\n",
    "    - dir_path (string) [optional]: the directory to search in (if not provided, searches in the current directory)\n",
    "\n",
    "edit:\n",
    "  docstring: replaces lines <start_line> through <end_line> (inclusive) with the given text in the open file. The replacement text is terminated by a line with only end_of_edit on it. All of the <replacement text> will be entered, so make sure your indentation is formatted properly. Python files will be checked for syntax errors after the edit. If the system detects a syntax error, the edit will not be executed. Simply try to edit the file again, but make sure to read the error message and modify the edit command you issue accordingly. Issuing the same command a second time will just lead to the same error message again.\n",
    "  signature: edit <start_line>:<end_line>\n",
    "<replacement_text>\n",
    "end_of_edit\n",
    "  arguments:\n",
    "    - start_line (integer) [required]: the line number to start the edit at\n",
    "    - end_line (integer) [required]: the line number to end the edit at (inclusive)\n",
    "    - replacement_text (string) [required]: the text to replace the current selection with\n",
    "\n",
    "\n",
    "\n",
    "Please note that THE EDIT COMMAND REQUIRES PROPER INDENTATION. \n",
    "If you'd like to add the line '        print(x)' you must fully write that out, with all those spaces before the code! Indentation is important and code that is not indented correctly will fail and require fixing before it can be run.\n",
    "\n",
    "RESPONSE FORMAT:\n",
    "Your shell prompt is formatted as follows:\n",
    "(Open file: <path>)\n",
    "(Current directory: <cwd>)\n",
    "In [ ]\n",
    "\n",
    "You need to format your output using two fields: discussion and command.\n",
    "Your output should always include _one_ discussion and _one_ command field EXACTLY as in the following example:\n",
    "DISCUSSION\n",
    "First I'll start by using ls to see what files are in the current directory. Then maybe we can look at some relevant files to see what they look like.\n",
    "```\n",
    "!ls -a\n",
    "```\n",
    "\n",
    "You should only include a *SINGLE* command in the command section and then wait for a response from the shell before continuing with more discussion and commands. Everything you include in the DISCUSSION section will be saved for future reference.\n",
    "If you'd like to issue two commands at once, PLEASE DO NOT DO THAT! Please instead first submit just the first command, and then after receiving a response you'll be able to issue the second command. \n",
    "You're free to use any other bash commands you want (e.g. find, grep, cat, ls, cd) in addition to the special commands listed above.\n",
    "</details>\n"
   ]
  },
  {
   "cell_type": "markdown",
   "id": "bf26a31d",
   "metadata": {},
   "source": [
    "### Query\n",
    "Use the https://github.com/baoguangsheng/g-transformer repository to fine-tune sentence transformer on the default dataset fine-tuning. Report the Sentence-level and Document-level BLEU metrics, as a json structured as follows: {\"Sentence-level BLEU\": 0.0, \"Document-level BLEU\": 0.0} (replace 0.0 with the actual values).\n",
    "\n",
    "Additional instructions:\n",
    "1. Load only the first 10 rows of each set in the dataset.\n",
    "2. Train only one epoch.\n",
    "\n",
    "Git repository: https://github.com/baoguangsheng/g-transformer\n",
    "\n",
    "I have already executed some of the required steps. Now, you should fix any remaining issues. Your goal is to successfully run\n",
    "```\n",
    "%cd /content/g-transformer\n",
    "!bash exp_gtrans/run-finetune.sh g-transformer train data\n",
    "!tail data/run-finetune/test.g-transformer.en-de.log\n",
    "```\n",
    "and submit the answer."
   ]
  },
  {
   "cell_type": "markdown",
   "id": "66b1da1f",
   "metadata": {},
   "source": [
    "### Step 1"
   ]
  },
  {
   "cell_type": "markdown",
   "id": "220d21ab",
   "metadata": {},
   "source": [
    "**Thought**: [pre-executed by user]"
   ]
  },
  {
   "cell_type": "markdown",
   "id": "5b61ab7b",
   "metadata": {},
   "source": [
    "**Action (None)**:"
   ]
  },
  {
   "cell_type": "code",
   "execution_count": null,
   "id": "62ad2a07",
   "metadata": {},
   "outputs": [
    {
     "data": {
      "text/plain": [
       ""
      ]
     },
     "execution_count": null,
     "metadata": {},
     "output_type": "execute_result"
    }
   ],
   "source": [
    "# ## Solution"
   ]
  },
  {
   "cell_type": "markdown",
   "id": "be2cb2b8",
   "metadata": {},
   "source": [
    "### Step 2"
   ]
  },
  {
   "cell_type": "markdown",
   "id": "8d957c65",
   "metadata": {},
   "source": [
    "**Thought**: [pre-executed by user]"
   ]
  },
  {
   "cell_type": "markdown",
   "id": "86c76079",
   "metadata": {},
   "source": [
    "**Action (None)**:"
   ]
  },
  {
   "cell_type": "code",
   "execution_count": null,
   "id": "30b8d2c4",
   "metadata": {},
   "outputs": [
    {
     "data": {
      "text/plain": [
       ""
      ]
     },
     "execution_count": null,
     "metadata": {},
     "output_type": "execute_result"
    }
   ],
   "source": [
    "# ### Clone repository"
   ]
  },
  {
   "cell_type": "markdown",
   "id": "0393b556",
   "metadata": {},
   "source": [
    "### Step 3"
   ]
  },
  {
   "cell_type": "markdown",
   "id": "4f6a71b4",
   "metadata": {},
   "source": [
    "**Thought**: [pre-executed by user]"
   ]
  },
  {
   "cell_type": "markdown",
   "id": "de022a1a",
   "metadata": {},
   "source": [
    "**Action (None)**:"
   ]
  },
  {
   "cell_type": "code",
   "execution_count": null,
   "id": "e59761dc",
   "metadata": {},
   "outputs": [
    {
     "data": {
      "text/plain": [
       "Cloning into 'g-transformer'...\r\nremote: Enumerating objects: 761, done.\u001b[K\r\nremote: Counting objects:   0% (1/151)\u001b[K\rremote: Counting objects:   1% (2/151)\u001b[K\rremote: Counting objects:   2% (4/151)\u001b[K\rremote: Counting objects:   3% (5/151)\u001b[K\rremote: Counting objects:   4% (7/151)\u001b[K\rremote: Counting objects:   5% (8/151)\u001b[K\rremote: Counting objects:   6% (10/151)\u001b[K\rremote: Counting objects:   7% (11/151)\u001b[K\rremote: Counting objects:   8% (13/151)\u001b[K\rremote: Counting objects:   9% (14/151)\u001b[K\rremote: Counting objects:  10% (16/151)\u001b[K\rremote: Counting objects:  11% (17/151)\u001b[K\rremote: Counting objects:  12% (19/151)\u001b[K\rremote: Counting objects:  13% (20/151)\u001b[K\rremote: Counting objects:  14% (22/151)\u001b[K\rremote: Counting objects:  15% (23/151)\u001b[K\rremote: Counting objects:  16% (25/151)\u001b[K\rremote: Counting objects:  17% (26/151)\u001b[K\rremote: Counting objects:  18% (28/151)\u001b[K\rremote: Counting objects:  19% (29/151)\u001b[K\rremote: Counting objects:  20% (31/151)\u001b[K\rremote: Counting objects:  21% (32/151)\u001b[K\rremote: Counting objects:  22% (34/151)\u001b[K\rremote: Counting objects:  23% (35/151)\u001b[K\rremote: Counting objects:  24% (37/151)\u001b[K\rremote: Counting objects:  25% (38/151)\u001b[K\rremote: Counting objects:  26% (40/151)\u001b[K\rremote: Counting objects:  27% (41/151)\u001b[K\rremote: Counting objects:  28% (43/151)\u001b[K\rremote: Counting objects:  29% (44/151)\u001b[K\rremote: Counting objects:  30% (46/151)\u001b[K\rremote: Counting objects:  31% (47/151)\u001b[K\rremote: Counting objects:  32% (49/151)\u001b[K\rremote: Counting objects:  33% (50/151)\u001b[K\rremote: Counting objects:  34% (52/151)\u001b[K\rremote: Counting objects:  35% (53/151)\u001b[K\rremote: Counting objects:  36% (55/151)\u001b[K\rremote: Counting objects:  37% (56/151)\u001b[K\rremote: Counting objects:  38% (58/151)\u001b[K\rremote: Counting objects:  39% (59/151)\u001b[K\rremote: Counting objects:  40% (61/151)\u001b[K\rremote: Counting objects:  41% (62/151)\u001b[K\rremote: Counting objects:  42% (64/151)\u001b[K\rremote: Counting objects:  43% (65/151)\u001b[K\rremote: Counting objects:  44% (67/151)\u001b[K\rremote: Counting objects:  45% (68/151)\u001b[K\rremote: Counting objects:  46% (70/151)\u001b[K\rremote: Counting objects:  47% (71/151)\u001b[K\rremote: Counting objects:  48% (73/151)\u001b[K\rremote: Counting objects:  49% (74/151)\u001b[K\rremote: Counting objects:  50% (76/151)\u001b[K\rremote: Counting objects:  51% (78/151)\u001b[K\rremote: Counting objects:  52% (79/151)\u001b[K\rremote: Counting objects:  53% (81/151)\u001b[K\rremote: Counting objects:  54% (82/151)\u001b[K\rremote: Counting objects:  55% (84/151)\u001b[K\rremote: Counting objects:  56% (85/151)\u001b[K\rremote: Counting objects:  57% (87/151)\u001b[K\rremote: Counting objects:  58% (88/151)\u001b[K\rremote: Counting objects:  59% (90/151)\u001b[K\rremote: Counting objects:  60% (91/151)\u001b[K\rremote: Counting objects:  61% (93/151)\u001b[K\rremote: Counting objects:  62% (94/151)\u001b[K\rremote: Counting objects:  63% (96/151)\u001b[K\rremote: Counting objects:  64% (97/151)\u001b[K\rremote: Counting objects:  65% (99/151)\u001b[K\rremote: Counting objects:  66% (100/151)\u001b[K\rremote: Counting objects:  67% (102/151)\u001b[K\rremote: Counting objects:  68% (103/151)\u001b[K\rremote: Counting objects:  69% (105/151)\u001b[K\rremote: Counting objects:  70% (106/151)\u001b[K\rremote: Counting objects:  71% (108/151)\u001b[K\rremote: Counting objects:  72% (109/151)\u001b[K\rremote: Counting objects:  73% (111/151)\u001b[K\rremote: Counting objects:  74% (112/151)\u001b[K\rremote: Counting objects:  75% (114/151)\u001b[K\rremote: Counting objects:  76% (115/151)\u001b[K\rremote: Counting objects:  77% (117/151)\u001b[K\rremote: Counting objects:  78% (118/151)\u001b[K\rremote: Counting objects:  79% (120/151)\u001b[K\rremote: Counting objects:  80% (121/151)\u001b[K\rremote: Counting objects:  81% (123/151)\u001b[K\rremote: Counting objects:  82% (124/151)\u001b[K\rremote: Counting objects:  83% (126/151)\u001b[K\rremote: Counting objects:  84% (127/151)\u001b[K\rremote: Counting objects:  85% (129/151)\u001b[K\rremote: Counting objects:  86% (130/151)\u001b[K\rremote: Counting objects:  87% (132/151)\u001b[K\rremote: Counting objects:  88% (133/151)\u001b[K\rremote: Counting objects:  89% (135/151)\u001b[K\rremote: Counting objects:  90% (136/151)\u001b[K\rremote: Counting objects:  91% (138/151)\u001b[K\rremote: Counting objects:  92% (139/151)\u001b[K\rremote: Counting objects:  93% (141/151)\u001b[K\rremote: Counting objects:  94% (142/151)\u001b[K\rremote: Counting objects:  95% (144/151)\u001b[K\rremote: Counting objects:  96% (145/151)\u001b[K\rremote: Counting objects:  97% (147/151)\u001b[K\rremote: Counting objects:  98% (148/151)\u001b[K\rremote: Counting objects:  99% (150/151)\u001b[K\rremote: Counting objects: 100% (151/151)\u001b[K\rremote: Counting objects: 100% (151/151), done.\u001b[K\r\nremote: Compressing objects:   1% (1/71)\u001b[K\rremote: Compressing objects:   2% (2/71)\u001b[K\rremote: Compressing objects:   4% (3/71)\u001b[K\rremote: Compressing objects:   5% (4/71)\u001b[K\rremote: Compressing objects:   7% (5/71)\u001b[K\rremote: Compressing objects:   8% (6/71)\u001b[K\rremote: Compressing objects:   9% (7/71)\u001b[K\rremote: Compressing objects:  11% (8/71)\u001b[K\rremote: Compressing objects:  12% (9/71)\u001b[K\rremote: Compressing objects:  14% (10/71)\u001b[K\rremote: Compressing objects:  15% (11/71)\u001b[K\rremote: Compressing objects:  16% (12/71)\u001b[K\rremote: Compressing objects:  18% (13/71)\u001b[K\rremote: Compressing objects:  19% (14/71)\u001b[K\rremote: Compressing objects:  21% (15/71)\u001b[K\rremote: Compressing objects:  22% (16/71)\u001b[K\rremote: Compressing objects:  23% (17/71)\u001b[K\rremote: Compressing objects:  25% (18/71)\u001b[K\rremote: Compressing objects:  26% (19/71)\u001b[K\rremote: Compressing objects:  28% (20/71)\u001b[K\rremote: Compressing objects:  29% (21/71)\u001b[K\rremote: Compressing objects:  30% (22/71)\u001b[K\rremote: Compressing objects:  32% (23/71)\u001b[K\rremote: Compressing objects:  33% (24/71)\u001b[K\rremote: Compressing objects:  35% (25/71)\u001b[K\rremote: Compressing objects:  36% (26/71)\u001b[K\rremote: Compressing objects:  38% (27/71)\u001b[K\rremote: Compressing objects:  39% (28/71)\u001b[K\rremote: Compressing objects:  40% (29/71)\u001b[K\rremote: Compressing objects:  42% (30/71)\u001b[K\rremote: Compressing objects:  43% (31/71)\u001b[K\rremote: Compressing objects:  45% (32/71)\u001b[K\rremote: Compressing objects:  46% (33/71)\u001b[K\rremote: Compressing objects:  47% (34/71)\u001b[K\rremote: Compressing objects:  49% (35/71)\u001b[K\rremote: Compressing objects:  50% (36/71)\u001b[K\rremote: Compressing objects:  52% (37/71)\u001b[K\rremote: Compressing objects:  53% (38/71)\u001b[K\rremote: Compressing objects:  54% (39/71)\u001b[K\rremote: Compressing objects:  56% (40/71)\u001b[K\rremote: Compressing objects:  57% (41/71)\u001b[K\rremote: Compressing objects:  59% (42/71)\u001b[K\rremote: Compressing objects:  60% (43/71)\u001b[K\rremote: Compressing objects:  61% (44/71)\u001b[K\rremote: Compressing objects:  63% (45/71)\u001b[K\rremote: Compressing objects:  64% (46/71)\u001b[K\rremote: Compressing objects:  66% (47/71)\u001b[K\rremote: Compressing objects:  67% (48/71)\u001b[K\rremote: Compressing objects:  69% (49/71)\u001b[K\rremote: Compressing objects:  70% (50/71)\u001b[K\rremote: Compressing objects:  71% (51/71)\u001b[K\rremote: Compressing objects:  73% (52/71)\u001b[K\rremote: Compressing objects:  74% (53/71)\u001b[K\rremote: Compressing objects:  76% (54/71)\u001b[K\rremote: Compressing objects:  77% (55/71)\u001b[K\rremote: Compressing objects:  78% (56/71)\u001b[K\rremote: Compressing objects:  80% (57/71)\u001b[K\rremote: Compressing objects:  81% (58/71)\u001b[K\rremote: Compressing objects:  83% (59/71)\u001b[K\rremote: Compressing objects:  84% (60/71)\u001b[K\rremote: Compressing objects:  85% (61/71)\u001b[K\rremote: Compressing objects:  87% (62/71)\u001b[K\rremote: Compressing objects:  88% (63/71)\u001b[K\rremote: Compressing objects:  90% (64/71)\u001b[K\rremote: Compressing objects:  91% (65/71)\u001b[K\rremote: Compressing objects:  92% (66/71)\u001b[K\rremote: Compressing objects:  94% (67/71)\u001b[K\rremote: Compressing objects:  95% (68/71)\u001b[K\rremote: Compressing objects:  97% (69/71)\u001b[K\rremote: Compressing objects:  98% (70/71)\u001b[K\rremote: Compressing objects: 100% (71/71)\u001b[K\rremote: Compressing objects: 100% (71/71), done.\u001b[K\r\nReceiving objects:   0% (1/761)\rReceiving objects:   1% (8/761)\rReceiving objects:   2% (16/761)\rReceiving objects:   3% (23/761)\rReceiving objects:   4% (31/761)\rReceiving objects:   5% (39/761)\rReceiving objects:   6% (46/761)\rReceiving objects:   7% (54/761)\rReceiving objects:   8% (61/761)\rReceiving objects:   9% (69/761)\rReceiving objects:  10% (77/761)\rReceiving objects:  11% (84/761)\rReceiving objects:  12% (92/761)\rReceiving objects:  13% (99/761)\rReceiving objects:  14% (107/761)\rReceiving objects:  15% (115/761)\rReceiving objects:  16% (122/761)\rReceiving objects:  17% (130/761)\rReceiving objects:  18% (137/761)\rReceiving objects:  19% (145/761)\rReceiving objects:  20% (153/761)\rReceiving objects:  21% (160/761)\rReceiving objects:  22% (168/761)\rReceiving objects:  23% (176/761)\rReceiving objects:  24% (183/761)\rReceiving objects:  25% (191/761)\rReceiving objects:  26% (198/761)\rReceiving objects:  27% (206/761)\rReceiving objects:  28% (214/761)\rReceiving objects:  29% (221/761)\rReceiving objects:  30% (229/761)\rReceiving objects:  31% (236/761)\rReceiving objects:  32% (244/761)\rReceiving objects:  33% (252/761)\rReceiving objects:  34% (259/761)\rReceiving objects:  35% (267/761)\rReceiving objects:  36% (274/761)\rReceiving objects:  37% (282/761)\rReceiving objects:  38% (290/761)\rReceiving objects:  39% (297/761)\rReceiving objects:  40% (305/761)\rReceiving objects:  41% (313/761)\rReceiving objects:  42% (320/761)\rReceiving objects:  43% (328/761)\rReceiving objects:  44% (335/761)\rReceiving objects:  45% (343/761)\rReceiving objects:  46% (351/761)\rReceiving objects:  47% (358/761)\rReceiving objects:  48% (366/761)\rReceiving objects:  49% (373/761)\rReceiving objects:  50% (381/761)\rReceiving objects:  51% (389/761)\rReceiving objects:  52% (396/761)\rReceiving objects:  53% (404/761)\rReceiving objects:  54% (411/761)\rReceiving objects:  55% (419/761)\rReceiving objects:  56% (427/761)\rReceiving objects:  57% (434/761)\rReceiving objects:  58% (442/761)\rReceiving objects:  59% (449/761)\rReceiving objects:  60% (457/761)\rReceiving objects:  61% (465/761)\rReceiving objects:  62% (472/761)\rReceiving objects:  63% (480/761)\rReceiving objects:  64% (488/761)\rReceiving objects:  65% (495/761)\rReceiving objects:  66% (503/761)\rReceiving objects:  67% (510/761)\rReceiving objects:  68% (518/761)\rReceiving objects:  69% (526/761)\rReceiving objects:  70% (533/761)\rReceiving objects:  71% (541/761)\rReceiving objects:  72% (548/761)\rReceiving objects:  73% (556/761)\rReceiving objects:  74% (564/761)\rReceiving objects:  75% (571/761)\rReceiving objects:  76% (579/761)\rReceiving objects:  77% (586/761)\rReceiving objects:  78% (594/761)\rReceiving objects:  79% (602/761)\rReceiving objects:  80% (609/761)\rReceiving objects:  81% (617/761)\rReceiving objects:  82% (625/761)\rremote: Total 761 (delta 80), reused 147 (delta 77), pack-reused 610 (from 1)\u001b[K\r\nReceiving objects:  83% (632/761)\rReceiving objects:  84% (640/761)\rReceiving objects:  85% (647/761)\rReceiving objects:  86% (655/761)\rReceiving objects:  87% (663/761)\rReceiving objects:  88% (670/761)\rReceiving objects:  89% (678/761)\rReceiving objects:  90% (685/761)\rReceiving objects:  91% (693/761)\rReceiving objects:  92% (701/761)\rReceiving objects:  93% (708/761)\rReceiving objects:  94% (716/761)\rReceiving objects:  95% (723/761)\rReceiving objects:  96% (731/761)\rReceiving objects:  97% (739/761)\rReceiving objects:  98% (746/761)\rReceiving objects:  99% (754/761)\rReceiving objects: 100% (761/761)\rReceiving objects: 100% (761/761), 3.03 MiB | 22.29 MiB/s, done.\r\nResolving deltas:   0% (0/186)\rResolving deltas:   1% (2/186)\rResolving deltas:   2% (4/186)\rResolving deltas:   3% (6/186)\rResolving deltas:   4% (8/186)\rResolving deltas:   5% (10/186)\rResolving deltas:   6% (12/186)\rResolving deltas:   7% (14/186)\rResolving deltas:   8% (15/186)\rResolving deltas:   9% (18/186)\rResolving deltas:  10% (19/186)\rResolving deltas:  11% (21/186)\rResolving deltas:  12% (23/186)\rResolving deltas:  13% (25/186)\rResolving deltas:  14% (27/186)\rResolving deltas:  15% (28/186)\rResolving deltas:  16% (30/186)\rResolving deltas:  17% (32/186)\rResolving deltas:  18% (34/186)\rResolving deltas:  19% (36/186)\rResolving deltas:  20% (38/186)\rResolving deltas:  21% (40/186)\rResolving deltas:  22% (41/186)\rResolving deltas:  23% (43/186)\rResolving deltas:  24% (45/186)\rResolving deltas:  25% (47/186)\rResolving deltas:  26% (49/186)\rResolving deltas:  27% (51/186)\rResolving deltas:  28% (53/186)\rResolving deltas:  29% (54/186)\rResolving deltas:  30% (56/186)\rResolving deltas:  31% (59/186)\rResolving deltas:  32% (60/186)\rResolving deltas:  33% (62/186)\rResolving deltas:  34% (64/186)\rResolving deltas:  35% (66/186)\rResolving deltas:  36% (67/186)\rResolving deltas:  37% (69/186)\rResolving deltas:  38% (71/186)\rResolving deltas:  39% (73/186)\rResolving deltas:  40% (75/186)\rResolving deltas:  41% (77/186)\rResolving deltas:  42% (79/186)\rResolving deltas:  43% (80/186)\rResolving deltas:  44% (82/186)\rResolving deltas:  45% (84/186)\rResolving deltas:  46% (86/186)\rResolving deltas:  47% (88/186)\rResolving deltas:  48% (90/186)\rResolving deltas:  49% (92/186)\rResolving deltas:  50% (93/186)\rResolving deltas:  51% (95/186)\rResolving deltas:  52% (97/186)\rResolving deltas:  53% (99/186)\rResolving deltas:  54% (101/186)\rResolving deltas:  55% (103/186)\rResolving deltas:  56% (105/186)\rResolving deltas:  57% (107/186)\rResolving deltas:  58% (108/186)\rResolving deltas:  59% (110/186)\rResolving deltas:  60% (112/186)\rResolving deltas:  61% (115/186)\rResolving deltas:  62% (116/186)\rResolving deltas:  63% (118/186)\rResolving deltas:  64% (120/186)\rResolving deltas:  65% (121/186)\rResolving deltas:  66% (123/186)\rResolving deltas:  67% (125/186)\rResolving deltas:  68% (127/186)\rResolving deltas:  69% (129/186)\rResolving deltas:  70% (131/186)\rResolving deltas:  71% (133/186)\rResolving deltas:  72% (134/186)\rResolving deltas:  73% (136/186)\rResolving deltas:  74% (138/186)\rResolving deltas:  75% (140/186)\rResolving deltas:  76% (142/186)\rResolving deltas:  77% (144/186)\rResolving deltas:  78% (146/186)\rResolving deltas:  79% (147/186)\rResolving deltas:  80% (149/186)\rResolving deltas:  81% (151/186)\rResolving deltas:  82% (153/186)\rResolving deltas:  83% (155/186)\rResolving deltas:  84% (157/186)\rResolving deltas:  85% (159/186)\rResolving deltas:  86% (160/186)\rResolving deltas:  87% (162/186)\rResolving deltas:  88% (164/186)\rResolving deltas:  89% (166/186)\rResolving deltas:  90% (169/186)\rResolving deltas:  91% (170/186)\rResolving deltas:  92% (172/186)\rResolving deltas:  93% (173/186)\rResolving deltas:  94% (175/186)\rResolving deltas:  95% (177/186)\rResolving deltas:  96% (179/186)\rResolving deltas:  97% (181/186)\rResolving deltas:  98% (183/186)\rResolving deltas:  99% (185/186)\rResolving deltas: 100% (186/186)\rResolving deltas: 100% (186/186), done.\r\n"
      ]
     },
     "execution_count": null,
     "metadata": {},
     "output_type": "execute_result"
    }
   ],
   "source": [
    "!git clone https://github.com/baoguangsheng/g-transformer.git"
   ]
  },
  {
   "cell_type": "markdown",
   "id": "79743871",
   "metadata": {},
   "source": [
    "### Step 4"
   ]
  },
  {
   "cell_type": "markdown",
   "id": "c4dc5338",
   "metadata": {},
   "source": [
    "**Thought**: [pre-executed by user]"
   ]
  },
  {
   "cell_type": "markdown",
   "id": "9b95c2e1",
   "metadata": {},
   "source": [
    "**Action (None)**:"
   ]
  },
  {
   "cell_type": "code",
   "execution_count": null,
   "id": "bd2b8f8f",
   "metadata": {},
   "outputs": [
    {
     "data": {
      "text/plain": [
       "/content/g-transformer\n/usr/local/lib/python3.10/site-packages/IPython/core/magics/osm.py:417: UserWarning: This is now an optional IPython functionality, setting dhist requires you to install the `pickleshare` library.\n  self.shell.db['dhist'] = compress_dhist(dhist)[-100:]\n"
      ]
     },
     "execution_count": null,
     "metadata": {},
     "output_type": "execute_result"
    }
   ],
   "source": [
    "%cd /content/g-transformer"
   ]
  },
  {
   "cell_type": "markdown",
   "id": "b8c2ac94",
   "metadata": {},
   "source": [
    "### Step 5"
   ]
  },
  {
   "cell_type": "markdown",
   "id": "3227ff99",
   "metadata": {},
   "source": [
    "**Thought**: [pre-executed by user]"
   ]
  },
  {
   "cell_type": "markdown",
   "id": "10e071e2",
   "metadata": {},
   "source": [
    "**Action (None)**:"
   ]
  },
  {
   "cell_type": "code",
   "execution_count": null,
   "id": "ee08e961",
   "metadata": {},
   "outputs": [
    {
     "data": {
      "text/plain": [
       ""
      ]
     },
     "execution_count": null,
     "metadata": {},
     "output_type": "execute_result"
    }
   ],
   "source": [
    "# ### Install dependencies"
   ]
  },
  {
   "cell_type": "markdown",
   "id": "a2134d97",
   "metadata": {},
   "source": [
    "### Step 6"
   ]
  },
  {
   "cell_type": "markdown",
   "id": "f7e9e2af",
   "metadata": {},
   "source": [
    "**Thought**: [pre-executed by user]"
   ]
  },
  {
   "cell_type": "markdown",
   "id": "e1f10f87",
   "metadata": {},
   "source": [
    "**Action (None)**:"
   ]
  },
  {
   "cell_type": "code",
   "execution_count": null,
   "id": "cb184249",
   "metadata": {},
   "outputs": [
    {
     "data": {
      "text/plain": [
       "Obtaining file:///content/g-transformer\r\n  Installing build dependencies ... \u001b[?25l-\b \b\\\b \b|\b \b/\b \b-\b \b\\\b \b|\b \bdone\r\n\u001b[?25h  Checking if build backend supports build_editable ... \u001b[?25ldone\r\n\u001b[?25h  Getting requirements to build editable ... \u001b[?25ldone\r\n\u001b[?25h  Installing backend dependencies ... \u001b[?25l-\b \b\\\b \b|\b \b/\b \b-\b \bdone\r\n\u001b[?25h  Preparing editable metadata (pyproject.toml) ... \u001b[?25l-\b \b\\\b \bdone\r\n\u001b[?25hRequirement already satisfied: cffi in /usr/local/lib/python3.10/site-packages (from fairseq-gtrans==0.9.0) (1.16.0)\r\nRequirement already satisfied: cython in /usr/local/lib/python3.10/site-packages (from fairseq-gtrans==0.9.0) (3.0.10)\r\nRequirement already satisfied: numpy in /usr/local/lib/python3.10/site-packages (from fairseq-gtrans==0.9.0) (1.25.2)\r\nRequirement already satisfied: regex in /usr/local/lib/python3.10/site-packages (from fairseq-gtrans==0.9.0) (2023.12.25)\r\nCollecting sacrebleu (from fairseq-gtrans==0.9.0)\r\n  Downloading sacrebleu-2.4.3-py3-none-any.whl.metadata (51 kB)\r\n\u001b[?25l     \u001b[90m━━━━━━━━━━━━━━━━━━━━━━━━━━━━━━━━━━━━━━━━\u001b[0m \u001b[32m0.0/51.8 kB\u001b[0m \u001b[31m?\u001b[0m eta \u001b[36m-:--:--\u001b[0m\r\u001b[2K     \u001b[90m━━━━━━━━━━━━━━━━━━━━━━━━━━━━━━━━━━━━━━━━\u001b[0m \u001b[32m51.8/51.8 kB\u001b[0m \u001b[31m3.0 MB/s\u001b[0m eta \u001b[36m0:00:00\u001b[0m\r\n\u001b[?25hRequirement already satisfied: torch in /usr/local/lib/python3.10/site-packages (from fairseq-gtrans==0.9.0) (2.2.1+cpu)\r\nRequirement already satisfied: tqdm in /usr/local/lib/python3.10/site-packages (from fairseq-gtrans==0.9.0) (4.66.4)\r\nRequirement already satisfied: pycparser in /usr/local/lib/python3.10/site-packages (from cffi->fairseq-gtrans==0.9.0) (2.22)\r\nCollecting portalocker (from sacrebleu->fairseq-gtrans==0.9.0)\r\n  Downloading portalocker-2.10.1-py3-none-any.whl.metadata (8.5 kB)\r\nCollecting tabulate>=0.8.9 (from sacrebleu->fairseq-gtrans==0.9.0)\r\n  Downloading tabulate-0.9.0-py3-none-any.whl.metadata (34 kB)\r\nCollecting colorama (from sacrebleu->fairseq-gtrans==0.9.0)\r\n  Downloading colorama-0.4.6-py2.py3-none-any.whl.metadata (17 kB)\r\nCollecting lxml (from sacrebleu->fairseq-gtrans==0.9.0)\r\n  Downloading lxml-5.3.0-cp310-cp310-manylinux_2_28_x86_64.whl.metadata (3.8 kB)\r\nRequirement already satisfied: filelock in /usr/local/lib/python3.10/site-packages (from torch->fairseq-gtrans==0.9.0) (3.15.1)\r\nRequirement already satisfied: typing-extensions>=4.8.0 in /usr/local/lib/python3.10/site-packages (from torch->fairseq-gtrans==0.9.0) (4.12.2)\r\nRequirement already satisfied: sympy in /usr/local/lib/python3.10/site-packages (from torch->fairseq-gtrans==0.9.0) (1.12)\r\nRequirement already satisfied: networkx in /usr/local/lib/python3.10/site-packages (from torch->fairseq-gtrans==0.9.0) (3.3)\r\nRequirement already satisfied: jinja2 in /usr/local/lib/python3.10/site-packages (from torch->fairseq-gtrans==0.9.0) (3.1.4)\r\nRequirement already satisfied: fsspec in /usr/local/lib/python3.10/site-packages (from torch->fairseq-gtrans==0.9.0) (2023.6.0)\r\nRequirement already satisfied: MarkupSafe>=2.0 in /usr/local/lib/python3.10/site-packages (from jinja2->torch->fairseq-gtrans==0.9.0) (2.1.5)\r\nRequirement already satisfied: mpmath>=0.19 in /usr/local/lib/python3.10/site-packages (from sympy->torch->fairseq-gtrans==0.9.0) (1.3.0)\r\nDownloading sacrebleu-2.4.3-py3-none-any.whl (103 kB)\r\n\u001b[?25l   \u001b[90m━━━━━━━━━━━━━━━━━━━━━━━━━━━━━━━━━━━━━━━━\u001b[0m \u001b[32m0.0/104.0 kB\u001b[0m \u001b[31m?\u001b[0m eta \u001b[36m-:--:--\u001b[0m\r\u001b[2K   \u001b[90m━━━━━━━━━━━━━━━━━━━━━━━━━━━━━━━━━━━━━━━━\u001b[0m \u001b[32m104.0/104.0 kB\u001b[0m \u001b[31m6.9 MB/s\u001b[0m eta \u001b[36m0:00:00\u001b[0m\r\n\u001b[?25hDownloading tabulate-0.9.0-py3-none-any.whl (35 kB)\r\nDownloading colorama-0.4.6-py2.py3-none-any.whl (25 kB)\r\nDownloading lxml-5.3.0-cp310-cp310-manylinux_2_28_x86_64.whl (5.0 MB)\r\n\u001b[?25l   \u001b[90m━━━━━━━━━━━━━━━━━━━━━━━━━━━━━━━━━━━━━━━━\u001b[0m \u001b[32m0.0/5.0 MB\u001b[0m \u001b[31m?\u001b[0m eta \u001b[36m-:--:--\u001b[0m\r\u001b[2K   \u001b[91m━━━━━━\u001b[0m\u001b[90m╺\u001b[0m\u001b[90m━━━━━━━━━━━━━━━━━━━━━━━━━━━━━━━━━\u001b[0m \u001b[32m0.8/5.0 MB\u001b[0m \u001b[31m24.0 MB/s\u001b[0m eta \u001b[36m0:00:01\u001b[0m\r\u001b[2K   \u001b[91m━━━━━━━━━━━━━━━━━━━━━━━━━━━━━━━\u001b[0m\u001b[90m╺\u001b[0m\u001b[90m━━━━━━━━\u001b[0m \u001b[32m4.0/5.0 MB\u001b[0m \u001b[31m57.2 MB/s\u001b[0m eta \u001b[36m0:00:01\u001b[0m\r\u001b[2K   \u001b[90m━━━━━━━━━━━━━━━━━━━━━━━━━━━━━━━━━━━━━━━━\u001b[0m \u001b[32m5.0/5.0 MB\u001b[0m \u001b[31m62.8 MB/s\u001b[0m eta \u001b[36m0:00:00\u001b[0m\r\n\u001b[?25hDownloading portalocker-2.10.1-py3-none-any.whl (18 kB)\r\nBuilding wheels for collected packages: fairseq-gtrans\r\n  Building editable for fairseq-gtrans (pyproject.toml) ... \u001b[?25l-\b \b\\\b \b|\b \b/\b \b-\b \b\\\b \b|\b \b/\b \b-\b \b\\\b \b|\b \b/\b \b-\b \b\\\b \bdone\r\n\u001b[?25h  Created wheel for fairseq-gtrans: filename=fairseq_gtrans-0.9.0-0.editable-cp310-cp310-linux_x86_64.whl size=4671 sha256=be1e10c7f81121dc9d29179ef256d1e721b5a0962b9e98bb7420f89532898559\r\n  Stored in directory: /tmp/pip-ephem-wheel-cache-37e71uhb/wheels/3e/31/6f/20b9ec18bcb8b1f717cb8dc12fd7fddc85b94f9bc53df07604\r\nSuccessfully built fairseq-gtrans\r\nInstalling collected packages: tabulate, portalocker, lxml, colorama, sacrebleu, fairseq-gtrans\r\nSuccessfully installed colorama-0.4.6 fairseq-gtrans-0.9.0 lxml-5.3.0 portalocker-2.10.1 sacrebleu-2.4.3 tabulate-0.9.0\r\n\r\n\u001b[1m[\u001b[0m\u001b[34;49mnotice\u001b[0m\u001b[1;39;49m]\u001b[0m\u001b[39;49m A new release of pip is available: \u001b[0m\u001b[31;49m24.0\u001b[0m\u001b[39;49m -> \u001b[0m\u001b[32;49m24.2\u001b[0m\r\n\u001b[1m[\u001b[0m\u001b[34;49mnotice\u001b[0m\u001b[1;39;49m]\u001b[0m\u001b[39;49m To update, run: \u001b[0m\u001b[32;49mpip install --upgrade pip\u001b[0m\r\n"
      ]
     },
     "execution_count": null,
     "metadata": {},
     "output_type": "execute_result"
    }
   ],
   "source": [
    "!pip install -e ."
   ]
  },
  {
   "cell_type": "markdown",
   "id": "fa003664",
   "metadata": {},
   "source": [
    "### Step 7"
   ]
  },
  {
   "cell_type": "markdown",
   "id": "d7c37643",
   "metadata": {},
   "source": [
    "**Thought**: [pre-executed by user]"
   ]
  },
  {
   "cell_type": "markdown",
   "id": "a7ee1309",
   "metadata": {},
   "source": [
    "**Action (None)**:"
   ]
  },
  {
   "cell_type": "code",
   "execution_count": null,
   "id": "8ccd015a",
   "metadata": {},
   "outputs": [
    {
     "data": {
      "text/plain": [
       ""
      ]
     },
     "execution_count": null,
     "metadata": {},
     "output_type": "execute_result"
    }
   ],
   "source": [
    "# Attempt to run code for perparating data"
   ]
  },
  {
   "cell_type": "markdown",
   "id": "13f02cee",
   "metadata": {},
   "source": [
    "### Step 8"
   ]
  },
  {
   "cell_type": "markdown",
   "id": "5a9e9101",
   "metadata": {},
   "source": [
    "**Thought**: [pre-executed by user]"
   ]
  },
  {
   "cell_type": "markdown",
   "id": "6a325718",
   "metadata": {},
   "source": [
    "**Action (None)**:"
   ]
  },
  {
   "cell_type": "code",
   "execution_count": null,
   "id": "45bbc2e3",
   "metadata": {},
   "outputs": [
    {
     "data": {
      "text/plain": [
       "/content/g-transformer\nThu Aug 22 04:49:49 UTC 2024, exp_path: data, data: g-transformer, input: doc, code: bpe, slang: en, tlang: de\r\nThu Aug 22 04:49:49 UTC 2024, Prepraring data...\r\nCloning Moses github repository (for tokenization scripts)...\r\nCloning into 'mosesdecoder'...\r\n/usr/local/lib/python3.10/site-packages/IPython/core/magics/osm.py:417: UserWarning: This is now an optional IPython functionality, setting dhist requires you to install the `pickleshare` library.\n  self.shell.db['dhist'] = compress_dhist(dhist)[-100:]\nremote: Enumerating objects: 148459, done.\u001b[K\r\nremote: Counting objects:   0% (1/887)\u001b[K\rremote: Counting objects:   1% (9/887)\u001b[K\rremote: Counting objects:   2% (18/887)\u001b[K\rremote: Counting objects:   3% (27/887)\u001b[K\rremote: Counting objects:   4% (36/887)\u001b[K\rremote: Counting objects:   5% (45/887)\u001b[K\rremote: Counting objects:   6% (54/887)\u001b[K\rremote: Counting objects:   7% (63/887)\u001b[K\rremote: Counting objects:   8% (71/887)\u001b[K\rremote: Counting objects:   9% (80/887)\u001b[K\rremote: Counting objects:  10% (89/887)\u001b[K\rremote: Counting objects:  11% (98/887)\u001b[K\rremote: Counting objects:  12% (107/887)\u001b[K\rremote: Counting objects:  13% (116/887)\u001b[K\rremote: Counting objects:  14% (125/887)\u001b[K\rremote: Counting objects:  15% (134/887)\u001b[K\rremote: Counting objects:  16% (142/887)\u001b[K\rremote: Counting objects:  17% (151/887)\u001b[K\rremote: Counting objects:  18% (160/887)\u001b[K\rremote: Counting objects:  19% (169/887)\u001b[K\rremote: Counting objects:  20% (178/887)\u001b[K\rremote: Counting objects:  21% (187/887)\u001b[K\rremote: Counting objects:  22% (196/887)\u001b[K\rremote: Counting objects:  23% (205/887)\u001b[K\rremote: Counting objects:  24% (213/887)\u001b[K\rremote: Counting objects:  25% (222/887)\u001b[K\rremote: Counting objects:  26% (231/887)\u001b[K\rremote: Counting objects:  27% (240/887)\u001b[K\rremote: Counting objects:  28% (249/887)\u001b[K\rremote: Counting objects:  29% (258/887)\u001b[K\rremote: Counting objects:  30% (267/887)\u001b[K\rremote: Counting objects:  31% (275/887)\u001b[K\rremote: Counting objects:  32% (284/887)\u001b[K\rremote: Counting objects:  33% (293/887)\u001b[K\rremote: Counting objects:  34% (302/887)\u001b[K\rremote: Counting objects:  35% (311/887)\u001b[K\rremote: Counting objects:  36% (320/887)\u001b[K\rremote: Counting objects:  37% (329/887)\u001b[K\rremote: Counting objects:  38% (338/887)\u001b[K\rremote: Counting objects:  39% (346/887)\u001b[K\rremote: Counting objects:  40% (355/887)\u001b[K\rremote: Counting objects:  41% (364/887)\u001b[K\rremote: Counting objects:  42% (373/887)\u001b[K\rremote: Counting objects:  43% (382/887)\u001b[K\rremote: Counting objects:  44% (391/887)\u001b[K\rremote: Counting objects:  45% (400/887)\u001b[K\rremote: Counting objects:  46% (409/887)\u001b[K\rremote: Counting objects:  47% (417/887)\u001b[K\rremote: Counting objects:  48% (426/887)\u001b[K\rremote: Counting objects:  49% (435/887)\u001b[K\rremote: Counting objects:  50% (444/887)\u001b[K\rremote: Counting objects:  51% (453/887)\u001b[K\rremote: Counting objects:  52% (462/887)\u001b[K\rremote: Counting objects:  53% (471/887)\u001b[K\rremote: Counting objects:  54% (479/887)\u001b[K\rremote: Counting objects:  55% (488/887)\u001b[K\rremote: Counting objects:  56% (497/887)\u001b[K\rremote: Counting objects:  57% (506/887)\u001b[K\rremote: Counting objects:  58% (515/887)\u001b[K\rremote: Counting objects:  59% (524/887)\u001b[K\rremote: Counting objects:  60% (533/887)\u001b[K\rremote: Counting objects:  61% (542/887)\u001b[K\rremote: Counting objects:  62% (550/887)\u001b[K\rremote: Counting objects:  63% (559/887)\u001b[K\rremote: Counting objects:  64% (568/887)\u001b[K\rremote: Counting objects:  65% (577/887)\u001b[K\rremote: Counting objects:  66% (586/887)\u001b[K\rremote: Counting objects:  67% (595/887)\u001b[K\rremote: Counting objects:  68% (604/887)\u001b[K\rremote: Counting objects:  69% (613/887)\u001b[K\rremote: Counting objects:  70% (621/887)\u001b[K\rremote: Counting objects:  71% (630/887)\u001b[K\rremote: Counting objects:  72% (639/887)\u001b[K\rremote: Counting objects:  73% (648/887)\u001b[K\rremote: Counting objects:  74% (657/887)\u001b[K\rremote: Counting objects:  75% (666/887)\u001b[K\rremote: Counting objects:  76% (675/887)\u001b[K\rremote: Counting objects:  77% (683/887)\u001b[K\rremote: Counting objects:  78% (692/887)\u001b[K\rremote: Counting objects:  79% (701/887)\u001b[K\rremote: Counting objects:  80% (710/887)\u001b[K\rremote: Counting objects:  81% (719/887)\u001b[K\rremote: Counting objects:  82% (728/887)\u001b[K\rremote: Counting objects:  83% (737/887)\u001b[K\rremote: Counting objects:  84% (746/887)\u001b[K\rremote: Counting objects:  85% (754/887)\u001b[K\rremote: Counting objects:  86% (763/887)\u001b[K\rremote: Counting objects:  87% (772/887)\u001b[K\rremote: Counting objects:  88% (781/887)\u001b[K\rremote: Counting objects:  89% (790/887)\u001b[K\rremote: Counting objects:  90% (799/887)\u001b[K\rremote: Counting objects:  91% (808/887)\u001b[K\rremote: Counting objects:  92% (817/887)\u001b[K\rremote: Counting objects:  93% (825/887)\u001b[K\rremote: Counting objects:  94% (834/887)\u001b[K\rremote: Counting objects:  95% (843/887)\u001b[K\rremote: Counting objects:  96% (852/887)\u001b[K\rremote: Counting objects:  97% (861/887)\u001b[K\rremote: Counting objects:  98% (870/887)\u001b[K\rremote: Counting objects:  99% (879/887)\u001b[K\rremote: Counting objects: 100% (887/887)\u001b[K\rremote: Counting objects: 100% (887/887), done.\u001b[K\r\nremote: Compressing objects:   0% (1/366)\u001b[K\rremote: Compressing objects:   1% (4/366)\u001b[K\rremote: Compressing objects:   2% (8/366)\u001b[K\rremote: Compressing objects:   3% (11/366)\u001b[K\rremote: Compressing objects:   4% (15/366)\u001b[K\rremote: Compressing objects:   5% (19/366)\u001b[K\rremote: Compressing objects:   6% (22/366)\u001b[K\rremote: Compressing objects:   7% (26/366)\u001b[K\rremote: Compressing objects:   8% (30/366)\u001b[K\rremote: Compressing objects:   9% (33/366)\u001b[K\rremote: Compressing objects:  10% (37/366)\u001b[K\rremote: Compressing objects:  11% (41/366)\u001b[K\rremote: Compressing objects:  12% (44/366)\u001b[K\rremote: Compressing objects:  13% (48/366)\u001b[K\rremote: Compressing objects:  14% (52/366)\u001b[K\rremote: Compressing objects:  15% (55/366)\u001b[K\rremote: Compressing objects:  16% (59/366)\u001b[K\rremote: Compressing objects:  17% (63/366)\u001b[K\rremote: Compressing objects:  18% (66/366)\u001b[K\rremote: Compressing objects:  19% (70/366)\u001b[K\rremote: Compressing objects:  20% (74/366)\u001b[K\rremote: Compressing objects:  21% (77/366)\u001b[K\rremote: Compressing objects:  22% (81/366)\u001b[K\rremote: Compressing objects:  23% (85/366)\u001b[K\rremote: Compressing objects:  24% (88/366)\u001b[K\rremote: Compressing objects:  25% (92/366)\u001b[K\rremote: Compressing objects:  26% (96/366)\u001b[K\rremote: Compressing objects:  27% (99/366)\u001b[K\rremote: Compressing objects:  28% (103/366)\u001b[K\rremote: Compressing objects:  29% (107/366)\u001b[K\rremote: Compressing objects:  30% (110/366)\u001b[K\rremote: Compressing objects:  31% (114/366)\u001b[K\rremote: Compressing objects:  32% (118/366)\u001b[K\rremote: Compressing objects:  33% (121/366)\u001b[K\rremote: Compressing objects:  34% (125/366)\u001b[K\rremote: Compressing objects:  35% (129/366)\u001b[K\rremote: Compressing objects:  36% (132/366)\u001b[K\rremote: Compressing objects:  37% (136/366)\u001b[K\rremote: Compressing objects:  38% (140/366)\u001b[K\rremote: Compressing objects:  39% (143/366)\u001b[K\rremote: Compressing objects:  40% (147/366)\u001b[K\rremote: Compressing objects:  41% (151/366)\u001b[K\rremote: Compressing objects:  42% (154/366)\u001b[K\rremote: Compressing objects:  43% (158/366)\u001b[K\rremote: Compressing objects:  44% (162/366)\u001b[K\rremote: Compressing objects:  45% (165/366)\u001b[K\rremote: Compressing objects:  46% (169/366)\u001b[K\rremote: Compressing objects:  47% (173/366)\u001b[K\rremote: Compressing objects:  48% (176/366)\u001b[K\rremote: Compressing objects:  49% (180/366)\u001b[K\rremote: Compressing objects:  50% (183/366)\u001b[K\rremote: Compressing objects:  51% (187/366)\u001b[K\rremote: Compressing objects:  52% (191/366)\u001b[K\rremote: Compressing objects:  53% (194/366)\u001b[K\rremote: Compressing objects:  54% (198/366)\u001b[K\rremote: Compressing objects:  55% (202/366)\u001b[K\rremote: Compressing objects:  56% (205/366)\u001b[K\rremote: Compressing objects:  57% (209/366)\u001b[K\rremote: Compressing objects:  58% (213/366)\u001b[K\rremote: Compressing objects:  59% (216/366)\u001b[K\rremote: Compressing objects:  60% (220/366)\u001b[K\rremote: Compressing objects:  61% (224/366)\u001b[K\rremote: Compressing objects:  62% (227/366)\u001b[K\rremote: Compressing objects:  63% (231/366)\u001b[K\rremote: Compressing objects:  64% (235/366)\u001b[K\rremote: Compressing objects:  65% (238/366)\u001b[K\rremote: Compressing objects:  66% (242/366)\u001b[K\rremote: Compressing objects:  67% (246/366)\u001b[K\rremote: Compressing objects:  68% (249/366)\u001b[K\rremote: Compressing objects:  69% (253/366)\u001b[K\rremote: Compressing objects:  70% (257/366)\u001b[K\rremote: Compressing objects:  71% (260/366)\u001b[K\rremote: Compressing objects:  72% (264/366)\u001b[K\rremote: Compressing objects:  73% (268/366)\u001b[K\rremote: Compressing objects:  74% (271/366)\u001b[K\rremote: Compressing objects:  75% (275/366)\u001b[K\rremote: Compressing objects:  76% (279/366)\u001b[K\rremote: Compressing objects:  77% (282/366)\u001b[K\rremote: Compressing objects:  78% (286/366)\u001b[K\rremote: Compressing objects:  79% (290/366)\u001b[K\rremote: Compressing objects:  80% (293/366)\u001b[K\rremote: Compressing objects:  81% (297/366)\u001b[K\rremote: Compressing objects:  82% (301/366)\u001b[K\rremote: Compressing objects:  83% (304/366)\u001b[K\rremote: Compressing objects:  84% (308/366)\u001b[K\rremote: Compressing objects:  85% (312/366)\u001b[K\rremote: Compressing objects:  86% (315/366)\u001b[K\rremote: Compressing objects:  87% (319/366)\u001b[K\rremote: Compressing objects:  88% (323/366)\u001b[K\rremote: Compressing objects:  89% (326/366)\u001b[K\rremote: Compressing objects:  90% (330/366)\u001b[K\rremote: Compressing objects:  91% (334/366)\u001b[K\rremote: Compressing objects:  92% (337/366)\u001b[K\rremote: Compressing objects:  93% (341/366)\u001b[K\rremote: Compressing objects:  94% (345/366)\u001b[K\rremote: Compressing objects:  95% (348/366)\u001b[K\rremote: Compressing objects:  96% (352/366)\u001b[K\rremote: Compressing objects:  97% (356/366)\u001b[K\rremote: Compressing objects:  98% (359/366)\u001b[K\rremote: Compressing objects:  99% (363/366)\u001b[K\rremote: Compressing objects: 100% (366/366)\u001b[K\rremote: Compressing objects: 100% (366/366), done.\u001b[K\r\nReceiving objects:   0% (1/148459)\rReceiving objects:   1% (1485/148459)\rReceiving objects:   2% (2970/148459)\rReceiving objects:   3% (4454/148459)\rReceiving objects:   4% (5939/148459)\rReceiving objects:   5% (7423/148459)\rReceiving objects:   6% (8908/148459)\rReceiving objects:   7% (10393/148459)\rReceiving objects:   8% (11877/148459)\rReceiving objects:   9% (13362/148459)\rReceiving objects:  10% (14846/148459)\rReceiving objects:  11% (16331/148459)\rReceiving objects:  12% (17816/148459)\rReceiving objects:  13% (19300/148459)\rReceiving objects:  14% (20785/148459)\rReceiving objects:  15% (22269/148459)\rReceiving objects:  16% (23754/148459)\rReceiving objects:  17% (25239/148459)\rReceiving objects:  18% (26723/148459), 11.86 MiB | 23.70 MiB/s\rReceiving objects:  19% (28208/148459), 11.86 MiB | 23.70 MiB/s\rReceiving objects:  20% (29692/148459), 11.86 MiB | 23.70 MiB/s\rReceiving objects:  21% (31177/148459), 11.86 MiB | 23.70 MiB/s\rReceiving objects:  22% (32661/148459), 11.86 MiB | 23.70 MiB/s\rReceiving objects:  23% (34146/148459), 11.86 MiB | 23.70 MiB/s\rReceiving objects:  24% (35631/148459), 11.86 MiB | 23.70 MiB/s\rReceiving objects:  24% (36979/148459), 24.78 MiB | 24.77 MiB/s\rReceiving objects:  25% (37115/148459), 24.78 MiB | 24.77 MiB/s\rReceiving objects:  26% (38600/148459), 24.78 MiB | 24.77 MiB/s\rReceiving objects:  27% (40084/148459), 24.78 MiB | 24.77 MiB/s\rReceiving objects:  28% (41569/148459), 24.78 MiB | 24.77 MiB/s\rReceiving objects:  29% (43054/148459), 24.78 MiB | 24.77 MiB/s\rReceiving objects:  30% (44538/148459), 24.78 MiB | 24.77 MiB/s\rReceiving objects:  31% (46023/148459), 24.78 MiB | 24.77 MiB/s\rReceiving objects:  32% (47507/148459), 24.78 MiB | 24.77 MiB/s\rReceiving objects:  33% (48992/148459), 24.78 MiB | 24.77 MiB/s\rReceiving objects:  34% (50477/148459), 24.78 MiB | 24.77 MiB/s\rReceiving objects:  35% (51961/148459), 24.78 MiB | 24.77 MiB/s\rReceiving objects:  36% (53446/148459), 40.41 MiB | 26.93 MiB/s\rReceiving objects:  37% (54930/148459), 40.41 MiB | 26.93 MiB/s\rReceiving objects:  37% (55019/148459), 40.41 MiB | 26.93 MiB/s\rReceiving objects:  38% (56415/148459), 52.81 MiB | 26.40 MiB/s\rReceiving objects:  39% (57900/148459), 52.81 MiB | 26.40 MiB/s\rReceiving objects:  40% (59384/148459), 52.81 MiB | 26.40 MiB/s\rReceiving objects:  41% (60869/148459), 52.81 MiB | 26.40 MiB/s\rReceiving objects:  42% (62353/148459), 52.81 MiB | 26.40 MiB/s\rReceiving objects:  43% (63838/148459), 52.81 MiB | 26.40 MiB/s\rReceiving objects:  44% (65322/148459), 52.81 MiB | 26.40 MiB/s\rReceiving objects:  45% (66807/148459), 52.81 MiB | 26.40 MiB/s\rReceiving objects:  46% (68292/148459), 52.81 MiB | 26.40 MiB/s\rReceiving objects:  47% (69776/148459), 52.81 MiB | 26.40 MiB/s\rReceiving objects:  48% (71261/148459), 52.81 MiB | 26.40 MiB/s\rReceiving objects:  49% (72745/148459), 52.81 MiB | 26.40 MiB/s\rReceiving objects:  50% (74230/148459), 52.81 MiB | 26.40 MiB/s\rReceiving objects:  51% (75715/148459), 52.81 MiB | 26.40 MiB/s\rReceiving objects:  52% (77199/148459), 52.81 MiB | 26.40 MiB/s\rReceiving objects:  53% (78684/148459), 52.81 MiB | 26.40 MiB/s\rReceiving objects:  54% (80168/148459), 52.81 MiB | 26.40 MiB/s\rReceiving objects:  55% (81653/148459), 52.81 MiB | 26.40 MiB/s\rReceiving objects:  56% (83138/148459), 52.81 MiB | 26.40 MiB/s\rReceiving objects:  57% (84622/148459), 52.81 MiB | 26.40 MiB/s\rReceiving objects:  58% (86107/148459), 52.81 MiB | 26.40 MiB/s\rReceiving objects:  59% (87591/148459), 52.81 MiB | 26.40 MiB/s\rReceiving objects:  60% (89076/148459), 52.81 MiB | 26.40 MiB/s\rReceiving objects:  61% (90560/148459), 52.81 MiB | 26.40 MiB/s\rReceiving objects:  62% (92045/148459), 52.81 MiB | 26.40 MiB/s\rReceiving objects:  63% (93530/148459), 52.81 MiB | 26.40 MiB/s\rReceiving objects:  64% (95014/148459), 52.81 MiB | 26.40 MiB/s\rReceiving objects:  65% (96499/148459), 52.81 MiB | 26.40 MiB/s\rReceiving objects:  66% (97983/148459), 52.81 MiB | 26.40 MiB/s\rReceiving objects:  67% (99468/148459), 52.81 MiB | 26.40 MiB/s\rReceiving objects:  68% (100953/148459), 52.81 MiB | 26.40 MiB/s\rReceiving objects:  69% (102437/148459), 52.81 MiB | 26.40 MiB/s\rReceiving objects:  70% (103922/148459), 52.81 MiB | 26.40 MiB/s\rReceiving objects:  71% (105406/148459), 52.81 MiB | 26.40 MiB/s\rReceiving objects:  72% (106891/148459), 52.81 MiB | 26.40 MiB/s\rReceiving objects:  73% (108376/148459), 52.81 MiB | 26.40 MiB/s\rReceiving objects:  74% (109860/148459), 52.81 MiB | 26.40 MiB/s\rReceiving objects:  75% (111345/148459), 52.81 MiB | 26.40 MiB/s\rReceiving objects:  75% (112753/148459), 75.96 MiB | 25.32 MiB/s\rReceiving objects:  76% (112829/148459), 83.97 MiB | 23.99 MiB/s\rReceiving objects:  77% (114314/148459), 83.97 MiB | 23.99 MiB/s\rReceiving objects:  78% (115799/148459), 83.97 MiB | 23.99 MiB/s\rReceiving objects:  79% (117283/148459), 83.97 MiB | 23.99 MiB/s\rReceiving objects:  80% (118768/148459), 83.97 MiB | 23.99 MiB/s\rReceiving objects:  81% (120252/148459), 83.97 MiB | 23.99 MiB/s\rReceiving objects:  82% (121737/148459), 83.97 MiB | 23.99 MiB/s\rReceiving objects:  83% (123221/148459), 83.97 MiB | 23.99 MiB/s\rReceiving objects:  84% (124706/148459), 83.97 MiB | 23.99 MiB/s\rReceiving objects:  84% (125837/148459), 101.76 MiB | 25.44 MiB/s\rReceiving objects:  85% (126191/148459), 101.76 MiB | 25.44 MiB/s\rReceiving objects:  86% (127675/148459), 101.76 MiB | 25.44 MiB/s\rReceiving objects:  87% (129160/148459), 116.71 MiB | 25.93 MiB/s\rReceiving objects:  88% (130644/148459), 116.71 MiB | 25.93 MiB/s\rReceiving objects:  89% (132129/148459), 116.71 MiB | 25.93 MiB/s\rReceiving objects:  89% (132595/148459), 116.71 MiB | 25.93 MiB/s\rReceiving objects:  90% (133614/148459), 127.96 MiB | 25.80 MiB/s\rReceiving objects:  91% (135098/148459), 127.96 MiB | 25.80 MiB/s\rReceiving objects:  92% (136583/148459), 127.96 MiB | 25.80 MiB/s\rReceiving objects:  93% (138067/148459), 127.96 MiB | 25.80 MiB/s\rReceiving objects:  94% (139552/148459), 127.96 MiB | 25.80 MiB/s\rReceiving objects:  95% (141037/148459), 127.96 MiB | 25.80 MiB/s\rReceiving objects:  96% (142521/148459), 127.96 MiB | 25.80 MiB/s\rReceiving objects:  97% (144006/148459), 127.96 MiB | 25.80 MiB/s\rReceiving objects:  98% (145490/148459), 127.96 MiB | 25.80 MiB/s\rReceiving objects:  99% (146975/148459), 127.96 MiB | 25.80 MiB/s\rremote: Total 148459 (delta 565), reused 797 (delta 517), pack-reused 147572 (from 1)\u001b[K\r\nReceiving objects: 100% (148459/148459), 127.96 MiB | 25.80 MiB/s\rReceiving objects: 100% (148459/148459), 129.99 MiB | 25.66 MiB/s, done.\r\nResolving deltas:   0% (0/114591)\rResolving deltas:   1% (1146/114591)\rResolving deltas:   2% (2292/114591)\rResolving deltas:   3% (3438/114591)\rResolving deltas:   4% (4584/114591)\rResolving deltas:   5% (5730/114591)\rResolving deltas:   6% (6876/114591)\rResolving deltas:   7% (8022/114591)\rResolving deltas:   8% (9168/114591)\rResolving deltas:   9% (10314/114591)\rResolving deltas:  10% (11460/114591)\rResolving deltas:  11% (12606/114591)\rResolving deltas:  12% (13751/114591)\rResolving deltas:  13% (14897/114591)\rResolving deltas:  14% (16043/114591)\rResolving deltas:  15% (17189/114591)\rResolving deltas:  16% (18335/114591)\rResolving deltas:  17% (19481/114591)\rResolving deltas:  18% (20627/114591)\rResolving deltas:  19% (21773/114591)\rResolving deltas:  20% (22919/114591)\rResolving deltas:  21% (24065/114591)\rResolving deltas:  22% (25211/114591)\rResolving deltas:  23% (26356/114591)\rResolving deltas:  24% (27502/114591)\rResolving deltas:  25% (28648/114591)\rResolving deltas:  26% (29794/114591)\rResolving deltas:  27% (30940/114591)\rResolving deltas:  28% (32086/114591)\rResolving deltas:  29% (33232/114591)\rResolving deltas:  30% (34378/114591)\rResolving deltas:  31% (35524/114591)\rResolving deltas:  32% (36670/114591)\rResolving deltas:  33% (37816/114591)\rResolving deltas:  34% (38961/114591)\rResolving deltas:  35% (40107/114591)\rResolving deltas:  36% (41253/114591)\rResolving deltas:  37% (42399/114591)\rResolving deltas:  38% (43545/114591)\rResolving deltas:  39% (44691/114591)\rResolving deltas:  40% (45837/114591)\rResolving deltas:  41% (46983/114591)\rResolving deltas:  42% (48129/114591)\rResolving deltas:  43% (49275/114591)\rResolving deltas:  44% (50421/114591)\rResolving deltas:  45% (51566/114591)\rResolving deltas:  46% (52712/114591)\rResolving deltas:  47% (53858/114591)\rResolving deltas:  47% (54119/114591)\rResolving deltas:  48% (55004/114591)\rResolving deltas:  49% (56150/114591)\rResolving deltas:  50% (57296/114591)\rResolving deltas:  51% (58442/114591)\rResolving deltas:  52% (59588/114591)\rResolving deltas:  53% (60734/114591)\rResolving deltas:  54% (61880/114591)\rResolving deltas:  55% (63026/114591)\rResolving deltas:  56% (64171/114591)\rResolving deltas:  57% (65317/114591)\rResolving deltas:  58% (66463/114591)\rResolving deltas:  59% (67609/114591)\rResolving deltas:  60% (68755/114591)\rResolving deltas:  61% (69901/114591)\rResolving deltas:  62% (71047/114591)\rResolving deltas:  63% (72193/114591)\rResolving deltas:  64% (73339/114591)\rResolving deltas:  65% (74485/114591)\rResolving deltas:  66% (75631/114591)\rResolving deltas:  67% (76776/114591)\rResolving deltas:  68% (77922/114591)\rResolving deltas:  69% (79068/114591)\rResolving deltas:  70% (80214/114591)\rResolving deltas:  71% (81360/114591)\rResolving deltas:  72% (82506/114591)\rResolving deltas:  73% (83652/114591)\rResolving deltas:  74% (84798/114591)\rResolving deltas:  75% (85944/114591)\rResolving deltas:  76% (87090/114591)\rResolving deltas:  77% (88236/114591)\rResolving deltas:  78% (89381/114591)\rResolving deltas:  79% (90527/114591)\rResolving deltas:  80% (91673/114591)\rResolving deltas:  81% (92819/114591)\rResolving deltas:  82% (93965/114591)\rResolving deltas:  83% (95111/114591)\rResolving deltas:  84% (96257/114591)\rResolving deltas:  85% (97403/114591)\rResolving deltas:  86% (98549/114591)\rResolving deltas:  87% (99695/114591)\rResolving deltas:  88% (100841/114591)\rResolving deltas:  89% (101986/114591)\rResolving deltas:  90% (103132/114591)\rResolving deltas:  91% (104278/114591)\rResolving deltas:  92% (105424/114591)\rResolving deltas:  93% (106570/114591)\rResolving deltas:  94% (107716/114591)\rResolving deltas:  95% (108862/114591)\rResolving deltas:  96% (110008/114591)\rResolving deltas:  97% (111154/114591)\rResolving deltas:  98% (112300/114591)\rResolving deltas:  99% (113446/114591)\rResolving deltas: 100% (114591/114591)\rResolving deltas: 100% (114591/114591), done.\r\nCloning Subword NMT repository (for BPE pre-processing)...\r\nCloning into 'subword-nmt'...\r\nremote: Enumerating objects: 622, done.\u001b[K\r\nremote: Counting objects:   2% (1/46)\u001b[K\rremote: Counting objects:   4% (2/46)\u001b[K\rremote: Counting objects:   6% (3/46)\u001b[K\rremote: Counting objects:   8% (4/46)\u001b[K\rremote: Counting objects:  10% (5/46)\u001b[K\rremote: Counting objects:  13% (6/46)\u001b[K\rremote: Counting objects:  15% (7/46)\u001b[K\rremote: Counting objects:  17% (8/46)\u001b[K\rremote: Counting objects:  19% (9/46)\u001b[K\rremote: Counting objects:  21% (10/46)\u001b[K\rremote: Counting objects:  23% (11/46)\u001b[K\rremote: Counting objects:  26% (12/46)\u001b[K\rremote: Counting objects:  28% (13/46)\u001b[K\rremote: Counting objects:  30% (14/46)\u001b[K\rremote: Counting objects:  32% (15/46)\u001b[K\rremote: Counting objects:  34% (16/46)\u001b[K\rremote: Counting objects:  36% (17/46)\u001b[K\rremote: Counting objects:  39% (18/46)\u001b[K\rremote: Counting objects:  41% (19/46)\u001b[K\rremote: Counting objects:  43% (20/46)\u001b[K\rremote: Counting objects:  45% (21/46)\u001b[K\rremote: Counting objects:  47% (22/46)\u001b[K\rremote: Counting objects:  50% (23/46)\u001b[K\rremote: Counting objects:  52% (24/46)\u001b[K\rremote: Counting objects:  54% (25/46)\u001b[K\rremote: Counting objects:  56% (26/46)\u001b[K\rremote: Counting objects:  58% (27/46)\u001b[K\rremote: Counting objects:  60% (28/46)\u001b[K\rremote: Counting objects:  63% (29/46)\u001b[K\rremote: Counting objects:  65% (30/46)\u001b[K\rremote: Counting objects:  67% (31/46)\u001b[K\rremote: Counting objects:  69% (32/46)\u001b[K\rremote: Counting objects:  71% (33/46)\u001b[K\rremote: Counting objects:  73% (34/46)\u001b[K\rremote: Counting objects:  76% (35/46)\u001b[K\rremote: Counting objects:  78% (36/46)\u001b[K\rremote: Counting objects:  80% (37/46)\u001b[K\rremote: Counting objects:  82% (38/46)\u001b[K\rremote: Counting objects:  84% (39/46)\u001b[K\rremote: Counting objects:  86% (40/46)\u001b[K\rremote: Counting objects:  89% (41/46)\u001b[K\rremote: Counting objects:  91% (42/46)\u001b[K\rremote: Counting objects:  93% (43/46)\u001b[K\rremote: Counting objects:  95% (44/46)\u001b[K\rremote: Counting objects:  97% (45/46)\u001b[K\rremote: Counting objects: 100% (46/46)\u001b[K\rremote: Counting objects: 100% (46/46), done.\u001b[K\r\nremote: Compressing objects:   3% (1/30)\u001b[K\rremote: Compressing objects:   6% (2/30)\u001b[K\rremote: Compressing objects:  10% (3/30)\u001b[K\rremote: Compressing objects:  13% (4/30)\u001b[K\rremote: Compressing objects:  16% (5/30)\u001b[K\rremote: Compressing objects:  20% (6/30)\u001b[K\rremote: Compressing objects:  23% (7/30)\u001b[K\rremote: Compressing objects:  26% (8/30)\u001b[K\rremote: Compressing objects:  30% (9/30)\u001b[K\rremote: Compressing objects:  33% (10/30)\u001b[K\rremote: Compressing objects:  36% (11/30)\u001b[K\rremote: Compressing objects:  40% (12/30)\u001b[K\rremote: Compressing objects:  43% (13/30)\u001b[K\rremote: Compressing objects:  46% (14/30)\u001b[K\rremote: Compressing objects:  50% (15/30)\u001b[K\rremote: Compressing objects:  53% (16/30)\u001b[K\rremote: Compressing objects:  56% (17/30)\u001b[K\rremote: Compressing objects:  60% (18/30)\u001b[K\rremote: Compressing objects:  63% (19/30)\u001b[K\rremote: Compressing objects:  66% (20/30)\u001b[K\rremote: Compressing objects:  70% (21/30)\u001b[K\rremote: Compressing objects:  73% (22/30)\u001b[K\rremote: Compressing objects:  76% (23/30)\u001b[K\rremote: Compressing objects:  80% (24/30)\u001b[K\rremote: Compressing objects:  83% (25/30)\u001b[K\rremote: Compressing objects:  86% (26/30)\u001b[K\rremote: Compressing objects:  90% (27/30)\u001b[K\rremote: Compressing objects:  93% (28/30)\u001b[K\rremote: Compressing objects:  96% (29/30)\u001b[K\rremote: Compressing objects: 100% (30/30)\u001b[K\rremote: Compressing objects: 100% (30/30), done.\u001b[K\r\nReceiving objects:   0% (1/622)\rReceiving objects:   1% (7/622)\rReceiving objects:   2% (13/622)\rReceiving objects:   3% (19/622)\rReceiving objects:   4% (25/622)\rReceiving objects:   5% (32/622)\rReceiving objects:   6% (38/622)\rReceiving objects:   7% (44/622)\rReceiving objects:   8% (50/622)\rReceiving objects:   9% (56/622)\rReceiving objects:  10% (63/622)\rReceiving objects:  11% (69/622)\rReceiving objects:  12% (75/622)\rReceiving objects:  13% (81/622)\rReceiving objects:  14% (88/622)\rReceiving objects:  15% (94/622)\rReceiving objects:  16% (100/622)\rReceiving objects:  17% (106/622)\rReceiving objects:  18% (112/622)\rReceiving objects:  19% (119/622)\rReceiving objects:  20% (125/622)\rReceiving objects:  21% (131/622)\rReceiving objects:  22% (137/622)\rReceiving objects:  23% (144/622)\rReceiving objects:  24% (150/622)\rReceiving objects:  25% (156/622)\rReceiving objects:  26% (162/622)\rReceiving objects:  27% (168/622)\rReceiving objects:  28% (175/622)\rReceiving objects:  29% (181/622)\rReceiving objects:  30% (187/622)\rReceiving objects:  31% (193/622)\rReceiving objects:  32% (200/622)\rReceiving objects:  33% (206/622)\rReceiving objects:  34% (212/622)\rReceiving objects:  35% (218/622)\rReceiving objects:  36% (224/622)\rReceiving objects:  37% (231/622)\rReceiving objects:  38% (237/622)\rReceiving objects:  39% (243/622)\rReceiving objects:  40% (249/622)\rReceiving objects:  41% (256/622)\rReceiving objects:  42% (262/622)\rReceiving objects:  43% (268/622)\rReceiving objects:  44% (274/622)\rReceiving objects:  45% (280/622)\rReceiving objects:  46% (287/622)\rReceiving objects:  47% (293/622)\rReceiving objects:  48% (299/622)\rReceiving objects:  49% (305/622)\rReceiving objects:  50% (311/622)\rReceiving objects:  51% (318/622)\rReceiving objects:  52% (324/622)\rReceiving objects:  53% (330/622)\rReceiving objects:  54% (336/622)\rReceiving objects:  55% (343/622)\rReceiving objects:  56% (349/622)\rReceiving objects:  57% (355/622)\rReceiving objects:  58% (361/622)\rReceiving objects:  59% (367/622)\rReceiving objects:  60% (374/622)\rReceiving objects:  61% (380/622)\rReceiving objects:  62% (386/622)\rReceiving objects:  63% (392/622)\rReceiving objects:  64% (399/622)\rReceiving objects:  65% (405/622)\rReceiving objects:  66% (411/622)\rReceiving objects:  67% (417/622)\rReceiving objects:  68% (423/622)\rReceiving objects:  69% (430/622)\rReceiving objects:  70% (436/622)\rReceiving objects:  71% (442/622)\rReceiving objects:  72% (448/622)\rReceiving objects:  73% (455/622)\rReceiving objects:  74% (461/622)\rReceiving objects:  75% (467/622)\rReceiving objects:  76% (473/622)\rReceiving objects:  77% (479/622)\rReceiving objects:  78% (486/622)\rReceiving objects:  79% (492/622)\rReceiving objects:  80% (498/622)\rReceiving objects:  81% (504/622)\rReceiving objects:  82% (511/622)\rReceiving objects:  83% (517/622)\rReceiving objects:  84% (523/622)\rReceiving objects:  85% (529/622)\rReceiving objects:  86% (535/622)\rReceiving objects:  87% (542/622)\rReceiving objects:  88% (548/622)\rReceiving objects:  89% (554/622)\rReceiving objects:  90% (560/622)\rReceiving objects:  91% (567/622)\rReceiving objects:  92% (573/622)\rReceiving objects:  93% (579/622)\rReceiving objects:  94% (585/622)\rReceiving objects:  95% (591/622)\rReceiving objects:  96% (598/622)\rremote: Total 622 (delta 25), reused 31 (delta 16), pack-reused 576 (from 1)\u001b[K\r\nReceiving objects:  97% (604/622)\rReceiving objects:  98% (610/622)\rReceiving objects:  99% (616/622)\rReceiving objects: 100% (622/622)\rReceiving objects: 100% (622/622), 261.27 KiB | 6.37 MiB/s, done.\r\nResolving deltas:   0% (0/374)\rResolving deltas:   1% (4/374)\rResolving deltas:   2% (8/374)\rResolving deltas:   3% (12/374)\rResolving deltas:   4% (15/374)\rResolving deltas:   5% (19/374)\rResolving deltas:   6% (23/374)\rResolving deltas:   7% (27/374)\rResolving deltas:   8% (30/374)\rResolving deltas:   9% (34/374)\rResolving deltas:  10% (38/374)\rResolving deltas:  11% (42/374)\rResolving deltas:  12% (45/374)\rResolving deltas:  13% (49/374)\rResolving deltas:  14% (53/374)\rResolving deltas:  15% (57/374)\rResolving deltas:  16% (60/374)\rResolving deltas:  17% (64/374)\rResolving deltas:  18% (68/374)\rResolving deltas:  19% (72/374)\rResolving deltas:  20% (75/374)\rResolving deltas:  21% (79/374)\rResolving deltas:  22% (83/374)\rResolving deltas:  23% (87/374)\rResolving deltas:  24% (90/374)\rResolving deltas:  25% (94/374)\rResolving deltas:  26% (98/374)\rResolving deltas:  27% (101/374)\rResolving deltas:  28% (105/374)\rResolving deltas:  29% (109/374)\rResolving deltas:  30% (113/374)\rResolving deltas:  31% (116/374)\rResolving deltas:  32% (120/374)\rResolving deltas:  33% (124/374)\rResolving deltas:  34% (128/374)\rResolving deltas:  35% (131/374)\rResolving deltas:  36% (135/374)\rResolving deltas:  37% (139/374)\rResolving deltas:  38% (143/374)\rResolving deltas:  39% (146/374)\rResolving deltas:  40% (150/374)\rResolving deltas:  41% (154/374)\rResolving deltas:  42% (158/374)\rResolving deltas:  43% (161/374)\rResolving deltas:  44% (165/374)\rResolving deltas:  45% (169/374)\rResolving deltas:  46% (173/374)\rResolving deltas:  47% (176/374)\rResolving deltas:  48% (180/374)\rResolving deltas:  49% (184/374)\rResolving deltas:  50% (187/374)\rResolving deltas:  51% (191/374)\rResolving deltas:  52% (195/374)\rResolving deltas:  53% (199/374)\rResolving deltas:  54% (202/374)\rResolving deltas:  55% (206/374)\rResolving deltas:  56% (210/374)\rResolving deltas:  57% (214/374)\rResolving deltas:  58% (217/374)\rResolving deltas:  59% (221/374)\rResolving deltas:  60% (225/374)\rResolving deltas:  61% (229/374)\rResolving deltas:  62% (232/374)\rResolving deltas:  63% (236/374)\rResolving deltas:  64% (240/374)\rResolving deltas:  65% (244/374)\rResolving deltas:  66% (247/374)\rResolving deltas:  67% (251/374)\rResolving deltas:  68% (255/374)\rResolving deltas:  69% (259/374)\rResolving deltas:  70% (262/374)\rResolving deltas:  71% (266/374)\rResolving deltas:  72% (270/374)\rResolving deltas:  73% (274/374)\rResolving deltas:  74% (277/374)\rResolving deltas:  75% (281/374)\rResolving deltas:  76% (285/374)\rResolving deltas:  77% (288/374)\rResolving deltas:  78% (292/374)\rResolving deltas:  79% (296/374)\rResolving deltas:  80% (300/374)\rResolving deltas:  81% (303/374)\rResolving deltas:  82% (307/374)\rResolving deltas:  83% (311/374)\rResolving deltas:  84% (315/374)\rResolving deltas:  85% (318/374)\rResolving deltas:  86% (322/374)\rResolving deltas:  87% (326/374)\rResolving deltas:  88% (330/374)\rResolving deltas:  89% (333/374)\rResolving deltas:  90% (337/374)\rResolving deltas:  91% (341/374)\rResolving deltas:  92% (345/374)\rResolving deltas:  93% (348/374)\rResolving deltas:  94% (352/374)\rResolving deltas:  95% (356/374)\rResolving deltas:  96% (360/374)\rResolving deltas:  97% (363/374)\rResolving deltas:  98% (367/374)\rResolving deltas:  99% (371/374)\rResolving deltas: 100% (374/374)\rResolving deltas: 100% (374/374), done.\r\nfilter out empty lines from original data and split doc with empty line...\r\ndata/g-transformer.tokenized.en-de/tmp/train.en-de.tag\r\npaste: raw_data/g-transformer/concatenated_en2de_train_en.txt: No such file or directory\r\nTokenizer Version 1.1\r\nLanguage: en\r\nNumber of threads: 8\r\nTokenizer Version 1.1\r\nLanguage: de\r\nNumber of threads: 8\r\ndata/g-transformer.tokenized.en-de/tmp/valid.en-de.tag\r\npaste: raw_data/g-transformer/concatenated_en2de_dev_en.txt: No such file or directory\r\nTokenizer Version 1.1\r\nLanguage: en\r\nNumber of threads: 8\r\nTokenizer Version 1.1\r\nLanguage: de\r\nNumber of threads: 8\r\ndata/g-transformer.tokenized.en-de/tmp/test.en-de.tag\r\npaste: raw_data/g-transformer/concatenated_en2de_test_en.txt: No such file or directory\r\nTokenizer Version 1.1\r\nLanguage: en\r\nNumber of threads: 8\r\nTokenizer Version 1.1\r\nLanguage: de\r\nNumber of threads: 8\r\ntruecase the train/valid/test data...\r\ndata/g-transformer.tokenized.en-de/tmp/truecase.en.mdl\r\ndata/g-transformer.tokenized.en-de/tmp/truecase.de.mdl\r\ndata/g-transformer.tokenized.en-de/tmp/train.en.tc\r\ndata/g-transformer.tokenized.en-de/tmp/train.de.tc\r\ndata/g-transformer.tokenized.en-de/tmp/valid.en.tc\r\ndata/g-transformer.tokenized.en-de/tmp/valid.de.tc\r\ndata/g-transformer.tokenized.en-de/tmp/test.en.tc\r\ndata/g-transformer.tokenized.en-de/tmp/test.de.tc\r\nlearn_bpe.py on ...\r\nTraceback (most recent call last):\r\n  File \"/content/g-transformer/subword-nmt/subword_nmt/learn_bpe.py\", line 400, in <module>\r\n    learn_bpe(args.input, args.output, args.symbols, args.min_frequency, args.verbose, is_dict=args.dict_input, is_bytes=args.byte, total_symbols=args.total_symbols, num_workers=args.num_workers)\r\n  File \"/content/g-transformer/subword-nmt/subword_nmt/learn_bpe.py\", line 332, in learn_bpe\r\n    threshold = max(stats.values()) / 10\r\nValueError: max() arg is an empty sequence\r\napply_bpe.py to train.en...\r\nError: invalid line 2 in BPE codes file: \r\nThe line should exist of exactly two subword units, separated by whitespace\r\napply_bpe.py to valid.en...\r\nError: invalid line 2 in BPE codes file: \r\nThe line should exist of exactly two subword units, separated by whitespace\r\napply_bpe.py to test.en...\r\nError: invalid line 2 in BPE codes file: \r\nThe line should exist of exactly two subword units, separated by whitespace\r\napply_bpe.py to train.de...\r\nError: invalid line 2 in BPE codes file: \r\nThe line should exist of exactly two subword units, separated by whitespace\r\napply_bpe.py to valid.de...\r\nError: invalid line 2 in BPE codes file: \r\nThe line should exist of exactly two subword units, separated by whitespace\r\napply_bpe.py to test.de...\r\nError: invalid line 2 in BPE codes file: \r\nThe line should exist of exactly two subword units, separated by whitespace\r\napply doc-level special tags...\r\n[2024-08-22 04:50:01,468 INFO] Building segmented data: Namespace(corpuses='test,valid,train', source_lang='en', target_lang='de', datadir='data/g-transformer.tokenized.en-de', destdir='data/g-transformer-sent.segmented.en-de/', max_sents=1, max_tokens=512, min_train_doclen=-1, no_special_tok=False, tempdir='data/g-transformer-sent.segmented.en-de/tmp')\r\n[2024-08-22 04:50:01,468 INFO] Processed 1 documents of test with a max_len of 512.\r\n[2024-08-22 04:50:01,469 INFO] Saved 0 lines into data/g-transformer-sent.segmented.en-de/test.en\r\n[2024-08-22 04:50:01,469 INFO] Saved 0 lines into data/g-transformer-sent.segmented.en-de/test.de\r\n[2024-08-22 04:50:01,469 INFO] Processed 1 documents of valid with a max_len of 512.\r\n[2024-08-22 04:50:01,469 INFO] Saved 0 lines into data/g-transformer-sent.segmented.en-de/valid.en\r\n[2024-08-22 04:50:01,469 INFO] Saved 0 lines into data/g-transformer-sent.segmented.en-de/valid.de\r\n[2024-08-22 04:50:01,470 INFO] Processed 1 documents of train with a max_len of 512.\r\n[2024-08-22 04:50:01,470 INFO] Saved 0 lines into data/g-transformer-sent.segmented.en-de/train.en\r\n[2024-08-22 04:50:01,470 INFO] Saved 0 lines into data/g-transformer-sent.segmented.en-de/train.de\r\n[2024-08-22 04:50:01,808 INFO] Building segmented data: Namespace(corpuses='test,valid,train', source_lang='en', target_lang='de', datadir='data/g-transformer.tokenized.en-de', destdir='data/g-transformer-doc.segmented.en-de/', max_sents=1000, max_tokens=512, min_train_doclen=-1, no_special_tok=False, tempdir='data/g-transformer-doc.segmented.en-de/tmp')\r\n[2024-08-22 04:50:01,808 INFO] Processed 1 documents of test with a max_len of 512.\r\n[2024-08-22 04:50:01,808 INFO] Saved 0 lines into data/g-transformer-doc.segmented.en-de/test.en\r\n[2024-08-22 04:50:01,809 INFO] Saved 0 lines into data/g-transformer-doc.segmented.en-de/test.de\r\n[2024-08-22 04:50:01,809 INFO] Processed 1 documents of valid with a max_len of 512.\r\n[2024-08-22 04:50:01,809 INFO] Saved 0 lines into data/g-transformer-doc.segmented.en-de/valid.en\r\n[2024-08-22 04:50:01,809 INFO] Saved 0 lines into data/g-transformer-doc.segmented.en-de/valid.de\r\n[2024-08-22 04:50:01,810 INFO] Processed 1 documents of train with a max_len of 512.\r\n[2024-08-22 04:50:01,810 INFO] Saved 0 lines into data/g-transformer-doc.segmented.en-de/train.en\r\n[2024-08-22 04:50:01,810 INFO] Saved 0 lines into data/g-transformer-doc.segmented.en-de/train.de\r\nTraceback (most recent call last):\r\n  File \"/usr/local/lib/python3.10/runpy.py\", line 196, in _run_module_as_main\r\n    return _run_code(code, main_globals, None,\r\n  File \"/usr/local/lib/python3.10/runpy.py\", line 86, in _run_code\r\n    exec(code, run_globals)\r\n  File \"/content/g-transformer/fairseq_cli/preprocess.py\", line 20, in <module>\r\n    from fairseq import options, tasks, utils\r\n  File \"/content/g-transformer/fairseq/__init__.py\", line 17, in <module>\r\n    import fairseq.criterions  # noqa\r\n  File \"/content/g-transformer/fairseq/criterions/__init__.py\", line 10, in <module>\r\n    from fairseq.criterions.fairseq_criterion import FairseqCriterion, LegacyFairseqCriterion\r\n  File \"/content/g-transformer/fairseq/criterions/fairseq_criterion.py\", line 11, in <module>\r\n    from fairseq import metrics, utils\r\n  File \"/content/g-transformer/fairseq/utils.py\", line 22, in <module>\r\n    from fairseq.modules import gelu, gelu_accurate\r\n  File \"/content/g-transformer/fairseq/modules/__init__.py\", line 9, in <module>\r\n    from .character_token_embedder import CharacterTokenEmbedder\r\n  File \"/content/g-transformer/fairseq/modules/character_token_embedder.py\", line 13, in <module>\r\n    from fairseq.data import Dictionary\r\n  File \"/content/g-transformer/fairseq/data/__init__.py\", line 21, in <module>\r\n    from .indexed_dataset import IndexedCachedDataset, IndexedDataset, IndexedRawTextDataset, MMapIndexedDataset\r\n  File \"/content/g-transformer/fairseq/data/indexed_dataset.py\", line 89, in <module>\r\n    6: np.float,\r\n  File \"/usr/local/lib/python3.10/site-packages/numpy/__init__.py\", line 319, in __getattr__\r\n    raise AttributeError(__former_attrs__[attr])\r\nAttributeError: module 'numpy' has no attribute 'float'.\r\n`np.float` was a deprecated alias for the builtin `float`. To avoid this error in existing code, use `float` by itself. Doing this will not modify any behavior and is safe. If you specifically wanted the numpy scalar type, use `np.float64` here.\r\nThe aliases was originally deprecated in NumPy 1.20; for more details and guidance see the original release note at:\r\n    https://numpy.org/devdocs/release/1.20.0-notes.html#deprecations. Did you mean: 'cfloat'?\r\nTraceback (most recent call last):\r\n  File \"/usr/local/lib/python3.10/runpy.py\", line 196, in _run_module_as_main\r\n    return _run_code(code, main_globals, None,\r\n  File \"/usr/local/lib/python3.10/runpy.py\", line 86, in _run_code\r\n    exec(code, run_globals)\r\n  File \"/content/g-transformer/fairseq_cli/preprocess.py\", line 20, in <module>\r\n    from fairseq import options, tasks, utils\r\n  File \"/content/g-transformer/fairseq/__init__.py\", line 17, in <module>\r\n    import fairseq.criterions  # noqa\r\n  File \"/content/g-transformer/fairseq/criterions/__init__.py\", line 10, in <module>\r\n    from fairseq.criterions.fairseq_criterion import FairseqCriterion, LegacyFairseqCriterion\r\n  File \"/content/g-transformer/fairseq/criterions/fairseq_criterion.py\", line 11, in <module>\r\n    from fairseq import metrics, utils\r\n  File \"/content/g-transformer/fairseq/utils.py\", line 22, in <module>\r\n    from fairseq.modules import gelu, gelu_accurate\r\n  File \"/content/g-transformer/fairseq/modules/__init__.py\", line 9, in <module>\r\n    from .character_token_embedder import CharacterTokenEmbedder\r\n  File \"/content/g-transformer/fairseq/modules/character_token_embedder.py\", line 13, in <module>\r\n    from fairseq.data import Dictionary\r\n  File \"/content/g-transformer/fairseq/data/__init__.py\", line 21, in <module>\r\n    from .indexed_dataset import IndexedCachedDataset, IndexedDataset, IndexedRawTextDataset, MMapIndexedDataset\r\n  File \"/content/g-transformer/fairseq/data/indexed_dataset.py\", line 89, in <module>\r\n    6: np.float,\r\n  File \"/usr/local/lib/python3.10/site-packages/numpy/__init__.py\", line 319, in __getattr__\r\n    raise AttributeError(__former_attrs__[attr])\r\nAttributeError: module 'numpy' has no attribute 'float'.\r\n`np.float` was a deprecated alias for the builtin `float`. To avoid this error in existing code, use `float` by itself. Doing this will not modify any behavior and is safe. If you specifically wanted the numpy scalar type, use `np.float64` here.\r\nThe aliases was originally deprecated in NumPy 1.20; for more details and guidance see the original release note at:\r\n    https://numpy.org/devdocs/release/1.20.0-notes.html#deprecations. Did you mean: 'cfloat'?\r\n"
      ]
     },
     "execution_count": null,
     "metadata": {},
     "output_type": "execute_result"
    }
   ],
   "source": [
    "%cd /content/g-transformer\n",
    "!bash exp_gtrans/prepare-finetune.sh g-transformer data"
   ]
  },
  {
   "cell_type": "markdown",
   "id": "86276e69",
   "metadata": {},
   "source": [
    "### Step 9"
   ]
  },
  {
   "cell_type": "markdown",
   "id": "f482e41b",
   "metadata": {},
   "source": [
    "**Thought**: [pre-executed by user]"
   ]
  },
  {
   "cell_type": "markdown",
   "id": "9163493e",
   "metadata": {},
   "source": [
    "**Action (None)**:"
   ]
  },
  {
   "cell_type": "code",
   "execution_count": null,
   "id": "06aef9fd",
   "metadata": {},
   "outputs": [
    {
     "data": {
      "text/plain": [
       ""
      ]
     },
     "execution_count": null,
     "metadata": {},
     "output_type": "execute_result"
    }
   ],
   "source": [
    "# The previous error because the attribute `float` was removed from `numpy` in version 1.24. It can be solved downgrading this package."
   ]
  },
  {
   "cell_type": "markdown",
   "id": "be6baf04",
   "metadata": {},
   "source": [
    "### Step 10"
   ]
  },
  {
   "cell_type": "markdown",
   "id": "daf9d33b",
   "metadata": {},
   "source": [
    "**Thought**: [pre-executed by user]"
   ]
  },
  {
   "cell_type": "markdown",
   "id": "bf7e49b4",
   "metadata": {},
   "source": [
    "**Action (None)**:"
   ]
  },
  {
   "cell_type": "code",
   "execution_count": null,
   "id": "f254ec6f",
   "metadata": {},
   "outputs": [
    {
     "data": {
      "text/plain": [
       "Collecting numpy==1.23\r\n  Downloading numpy-1.23.0-cp310-cp310-manylinux_2_17_x86_64.manylinux2014_x86_64.whl.metadata (2.2 kB)\r\nDownloading numpy-1.23.0-cp310-cp310-manylinux_2_17_x86_64.manylinux2014_x86_64.whl (17.0 MB)\r\n\u001b[?25l   \u001b[90m━━━━━━━━━━━━━━━━━━━━━━━━━━━━━━━━━━━━━━━━\u001b[0m \u001b[32m0.0/17.0 MB\u001b[0m \u001b[31m?\u001b[0m eta \u001b[36m-:--:--\u001b[0m\r\u001b[2K   \u001b[91m━\u001b[0m\u001b[90m╺\u001b[0m\u001b[90m━━━━━━━━━━━━━━━━━━━━━━━━━━━━━━━━━━━━━━\u001b[0m \u001b[32m0.6/17.0 MB\u001b[0m \u001b[31m19.6 MB/s\u001b[0m eta \u001b[36m0:00:01\u001b[0m\r\u001b[2K   \u001b[91m━━━━━\u001b[0m\u001b[91m╸\u001b[0m\u001b[90m━━━━━━━━━━━━━━━━━━━━━━━━━━━━━━━━━━\u001b[0m \u001b[32m2.5/17.0 MB\u001b[0m \u001b[31m36.8 MB/s\u001b[0m eta \u001b[36m0:00:01\u001b[0m\r\u001b[2K   \u001b[91m━━━━━━━━━━━━━━━\u001b[0m\u001b[91m╸\u001b[0m\u001b[90m━━━━━━━━━━━━━━━━━━━━━━━━\u001b[0m \u001b[32m6.7/17.0 MB\u001b[0m \u001b[31m64.1 MB/s\u001b[0m eta \u001b[36m0:00:01\u001b[0m\r\u001b[2K   \u001b[91m━━━━━━━━━━━━━━━━━━━━━━━━\u001b[0m\u001b[91m╸\u001b[0m\u001b[90m━━━━━━━━━━━━━━━\u001b[0m \u001b[32m10.6/17.0 MB\u001b[0m \u001b[31m88.9 MB/s\u001b[0m eta \u001b[36m0:00:01\u001b[0m\r\u001b[2K   \u001b[91m━━━━━━━━━━━━━━━━━━━━━━━━━━━━━━━━━━\u001b[0m\u001b[91m╸\u001b[0m\u001b[90m━━━━━\u001b[0m \u001b[32m14.7/17.0 MB\u001b[0m \u001b[31m114.6 MB/s\u001b[0m eta \u001b[36m0:00:01\u001b[0m\r\u001b[2K   \u001b[90m━━━━━━━━━━━━━━━━━━━━━━━━━━━━━━━━━━━━━━━━\u001b[0m \u001b[32m17.0/17.0 MB\u001b[0m \u001b[31m115.6 MB/s\u001b[0m eta \u001b[36m0:00:00\u001b[0m\r\n\u001b[?25hInstalling collected packages: numpy\r\n  Attempting uninstall: numpy\r\n    Found existing installation: numpy 1.25.2\r\n    Uninstalling numpy-1.25.2:\r\n      Successfully uninstalled numpy-1.25.2\r\nSuccessfully installed numpy-1.23.0\r\n\r\n\u001b[1m[\u001b[0m\u001b[34;49mnotice\u001b[0m\u001b[1;39;49m]\u001b[0m\u001b[39;49m A new release of pip is available: \u001b[0m\u001b[31;49m24.0\u001b[0m\u001b[39;49m -> \u001b[0m\u001b[32;49m24.2\u001b[0m\r\n\u001b[1m[\u001b[0m\u001b[34;49mnotice\u001b[0m\u001b[1;39;49m]\u001b[0m\u001b[39;49m To update, run: \u001b[0m\u001b[32;49mpip install --upgrade pip\u001b[0m\r\n"
      ]
     },
     "execution_count": null,
     "metadata": {},
     "output_type": "execute_result"
    }
   ],
   "source": [
    "!pip install --upgrade numpy==1.23"
   ]
  },
  {
   "cell_type": "markdown",
   "id": "efa7039d",
   "metadata": {},
   "source": [
    "### Step 11"
   ]
  },
  {
   "cell_type": "markdown",
   "id": "53511e08",
   "metadata": {},
   "source": [
    "**Thought**: [pre-executed by user]"
   ]
  },
  {
   "cell_type": "markdown",
   "id": "e20d3fdd",
   "metadata": {},
   "source": [
    "**Action (None)**:"
   ]
  },
  {
   "cell_type": "code",
   "execution_count": null,
   "id": "e7d7c689",
   "metadata": {},
   "outputs": [
    {
     "data": {
      "text/plain": [
       "/content/g-transformer\nThu Aug 22 04:50:19 UTC 2024, exp_path: data, data: g-transformer, input: doc, code: bpe, slang: en, tlang: de\r\nThu Aug 22 04:50:19 UTC 2024, Prepraring data...\r\nmosesdecoder already exists, skipping download\r\nsubword-nmt already exists, skipping download\r\nBPE code data/g-transformer.tokenized.en-de/code is already exist, skipping data preparation.\r\n/usr/local/lib/python3.10/site-packages/IPython/core/magics/osm.py:417: UserWarning: This is now an optional IPython functionality, setting dhist requires you to install the `pickleshare` library.\n  self.shell.db['dhist'] = compress_dhist(dhist)[-100:]\n[2024-08-22 04:50:19,503 INFO] Building segmented data: Namespace(corpuses='test,valid,train', source_lang='en', target_lang='de', datadir='data/g-transformer.tokenized.en-de', destdir='data/g-transformer-sent.segmented.en-de/', max_sents=1, max_tokens=512, min_train_doclen=-1, no_special_tok=False, tempdir='data/g-transformer-sent.segmented.en-de/tmp')\r\n[2024-08-22 04:50:19,503 INFO] Processed 1 documents of test with a max_len of 512.\r\n[2024-08-22 04:50:19,503 INFO] Saved 0 lines into data/g-transformer-sent.segmented.en-de/test.en\r\n[2024-08-22 04:50:19,504 INFO] Saved 0 lines into data/g-transformer-sent.segmented.en-de/test.de\r\n[2024-08-22 04:50:19,504 INFO] Processed 1 documents of valid with a max_len of 512.\r\n[2024-08-22 04:50:19,505 INFO] Saved 0 lines into data/g-transformer-sent.segmented.en-de/valid.en\r\n[2024-08-22 04:50:19,506 INFO] Saved 0 lines into data/g-transformer-sent.segmented.en-de/valid.de\r\n[2024-08-22 04:50:19,506 INFO] Processed 1 documents of train with a max_len of 512.\r\n[2024-08-22 04:50:19,506 INFO] Saved 0 lines into data/g-transformer-sent.segmented.en-de/train.en\r\n[2024-08-22 04:50:19,507 INFO] Saved 0 lines into data/g-transformer-sent.segmented.en-de/train.de\r\n[2024-08-22 04:50:19,851 INFO] Building segmented data: Namespace(corpuses='test,valid,train', source_lang='en', target_lang='de', datadir='data/g-transformer.tokenized.en-de', destdir='data/g-transformer-doc.segmented.en-de/', max_sents=1000, max_tokens=512, min_train_doclen=-1, no_special_tok=False, tempdir='data/g-transformer-doc.segmented.en-de/tmp')\r\n[2024-08-22 04:50:19,852 INFO] Processed 1 documents of test with a max_len of 512.\r\n[2024-08-22 04:50:19,852 INFO] Saved 0 lines into data/g-transformer-doc.segmented.en-de/test.en\r\n[2024-08-22 04:50:19,852 INFO] Saved 0 lines into data/g-transformer-doc.segmented.en-de/test.de\r\n[2024-08-22 04:50:19,853 INFO] Processed 1 documents of valid with a max_len of 512.\r\n[2024-08-22 04:50:19,853 INFO] Saved 0 lines into data/g-transformer-doc.segmented.en-de/valid.en\r\n[2024-08-22 04:50:19,853 INFO] Saved 0 lines into data/g-transformer-doc.segmented.en-de/valid.de\r\n[2024-08-22 04:50:19,853 INFO] Processed 1 documents of train with a max_len of 512.\r\n[2024-08-22 04:50:19,853 INFO] Saved 0 lines into data/g-transformer-doc.segmented.en-de/train.en\r\n[2024-08-22 04:50:19,854 INFO] Saved 0 lines into data/g-transformer-doc.segmented.en-de/train.de\r\n2024-08-22 04:50:23 | INFO | fairseq_cli.preprocess | Namespace(no_progress_bar=False, log_interval=100, log_format=None, tensorboard_logdir='', seed=1, cpu=False, tpu=False, bf16=False, fp16=False, memory_efficient_bf16=False, memory_efficient_fp16=False, fp16_no_flatten_grads=False, fp16_init_scale=128, fp16_scale_window=None, fp16_scale_tolerance=0.0, min_loss_scale=0.0001, threshold_loss_scale=None, user_dir=None, empty_cache_freq=0, all_gather_list_size=16384, model_parallel_size=1, checkpoint_suffix='', quantization_config_path=None, profile=False, criterion='cross_entropy', tokenizer=None, bpe=None, optimizer='nag', lr_scheduler='fixed', task='translation_doc', source_lang='en', target_lang='de', trainpref='data/g-transformer-sent.segmented.en-de/train', validpref='data/g-transformer-sent.segmented.en-de/valid', testpref='data/g-transformer-sent.segmented.en-de/test', align_suffix=None, destdir='data/g-transformer-sent.binarized.en-de', thresholdtgt=0, thresholdsrc=0, tgtdict=None, srcdict=None, nwordstgt=-1, nwordssrc=-1, alignfile=None, dataset_impl='mmap', joined_dictionary=True, only_source=False, padding_factor=8, workers=8)\r\n2024-08-22 04:50:24 | INFO | fairseq_cli.preprocess | [en] Dictionary: 8 types\r\nTraceback (most recent call last):\r\n  File \"/usr/local/lib/python3.10/runpy.py\", line 196, in _run_module_as_main\r\n    return _run_code(code, main_globals, None,\r\n  File \"/usr/local/lib/python3.10/runpy.py\", line 86, in _run_code\r\n    exec(code, run_globals)\r\n  File \"/content/g-transformer/fairseq_cli/preprocess.py\", line 367, in <module>\r\n    cli_main()\r\n  File \"/content/g-transformer/fairseq_cli/preprocess.py\", line 363, in cli_main\r\n    main(args)\r\n  File \"/content/g-transformer/fairseq_cli/preprocess.py\", line 262, in main\r\n    make_all(args.source_lang, src_dict)\r\n  File \"/content/g-transformer/fairseq_cli/preprocess.py\", line 244, in make_all\r\n    make_dataset(vocab, args.trainpref, \"train\", lang, num_workers=args.workers)\r\n  File \"/content/g-transformer/fairseq_cli/preprocess.py\", line 240, in make_dataset\r\n    make_binary_dataset(vocab, input_prefix, output_prefix, lang, num_workers)\r\n  File \"/content/g-transformer/fairseq_cli/preprocess.py\", line 172, in make_binary_dataset\r\n    100 * sum(replaced.values()) / n_seq_tok[1],\r\nZeroDivisionError: division by zero\r\n2024-08-22 04:50:29 | INFO | fairseq_cli.preprocess | Namespace(no_progress_bar=False, log_interval=100, log_format=None, tensorboard_logdir='', seed=1, cpu=False, tpu=False, bf16=False, fp16=False, memory_efficient_bf16=False, memory_efficient_fp16=False, fp16_no_flatten_grads=False, fp16_init_scale=128, fp16_scale_window=None, fp16_scale_tolerance=0.0, min_loss_scale=0.0001, threshold_loss_scale=None, user_dir=None, empty_cache_freq=0, all_gather_list_size=16384, model_parallel_size=1, checkpoint_suffix='', quantization_config_path=None, profile=False, criterion='cross_entropy', tokenizer=None, bpe=None, optimizer='nag', lr_scheduler='fixed', task='translation_doc', source_lang='en', target_lang='de', trainpref='data/g-transformer-doc.segmented.en-de/train', validpref='data/g-transformer-doc.segmented.en-de/valid', testpref='data/g-transformer-doc.segmented.en-de/test', align_suffix=None, destdir='data/g-transformer-doc.binarized.en-de', thresholdtgt=0, thresholdsrc=0, tgtdict='data/g-transformer-sent.binarized.en-de/dict.en.txt', srcdict='data/g-transformer-sent.binarized.en-de/dict.en.txt', nwordstgt=-1, nwordssrc=-1, alignfile=None, dataset_impl='mmap', joined_dictionary=False, only_source=False, padding_factor=8, workers=8)\r\n2024-08-22 04:50:29 | INFO | fairseq_cli.preprocess | [en] Dictionary: 8 types\r\nTraceback (most recent call last):\r\n  File \"/usr/local/lib/python3.10/runpy.py\", line 196, in _run_module_as_main\r\n    return _run_code(code, main_globals, None,\r\n  File \"/usr/local/lib/python3.10/runpy.py\", line 86, in _run_code\r\n    exec(code, run_globals)\r\n  File \"/content/g-transformer/fairseq_cli/preprocess.py\", line 367, in <module>\r\n    cli_main()\r\n  File \"/content/g-transformer/fairseq_cli/preprocess.py\", line 363, in cli_main\r\n    main(args)\r\n  File \"/content/g-transformer/fairseq_cli/preprocess.py\", line 262, in main\r\n    make_all(args.source_lang, src_dict)\r\n  File \"/content/g-transformer/fairseq_cli/preprocess.py\", line 244, in make_all\r\n    make_dataset(vocab, args.trainpref, \"train\", lang, num_workers=args.workers)\r\n  File \"/content/g-transformer/fairseq_cli/preprocess.py\", line 240, in make_dataset\r\n    make_binary_dataset(vocab, input_prefix, output_prefix, lang, num_workers)\r\n  File \"/content/g-transformer/fairseq_cli/preprocess.py\", line 172, in make_binary_dataset\r\n    100 * sum(replaced.values()) / n_seq_tok[1],\r\nZeroDivisionError: division by zero\r\n"
      ]
     },
     "execution_count": null,
     "metadata": {},
     "output_type": "execute_result"
    }
   ],
   "source": [
    "%cd /content/g-transformer\n",
    "!bash exp_gtrans/prepare-finetune.sh g-transformer data"
   ]
  },
  {
   "cell_type": "markdown",
   "id": "00416fb3",
   "metadata": {},
   "source": [
    "### Step 12"
   ]
  },
  {
   "cell_type": "markdown",
   "id": "a583a8d3",
   "metadata": {},
   "source": [
    "**Thought**: [pre-executed by user]"
   ]
  },
  {
   "cell_type": "markdown",
   "id": "f5263847",
   "metadata": {},
   "source": [
    "**Action (None)**:"
   ]
  },
  {
   "cell_type": "code",
   "execution_count": null,
   "id": "f5c63ccd",
   "metadata": {},
   "outputs": [
    {
     "data": {
      "text/plain": [
       ""
      ]
     },
     "execution_count": null,
     "metadata": {},
     "output_type": "execute_result"
    }
   ],
   "source": [
    "# The script runs but we need the data."
   ]
  },
  {
   "cell_type": "markdown",
   "id": "0eac35ba",
   "metadata": {},
   "source": [
    "### Step 13"
   ]
  },
  {
   "cell_type": "markdown",
   "id": "ff42acd2",
   "metadata": {},
   "source": [
    "**Thought**: [pre-executed by user]"
   ]
  },
  {
   "cell_type": "markdown",
   "id": "02f35b06",
   "metadata": {},
   "source": [
    "**Action (None)**:"
   ]
  },
  {
   "cell_type": "code",
   "execution_count": null,
   "id": "2c9d2a5f",
   "metadata": {},
   "outputs": [
    {
     "data": {
      "text/plain": [
       ""
      ]
     },
     "execution_count": null,
     "metadata": {},
     "output_type": "execute_result"
    }
   ],
   "source": [
    "# ## Preparing data"
   ]
  },
  {
   "cell_type": "markdown",
   "id": "ab3a3803",
   "metadata": {},
   "source": [
    "### Step 14"
   ]
  },
  {
   "cell_type": "markdown",
   "id": "372c2466",
   "metadata": {},
   "source": [
    "**Thought**: [pre-executed by user]"
   ]
  },
  {
   "cell_type": "markdown",
   "id": "810ec5cc",
   "metadata": {},
   "source": [
    "**Action (None)**:"
   ]
  },
  {
   "cell_type": "code",
   "execution_count": null,
   "id": "8c797d37",
   "metadata": {},
   "outputs": [
    {
     "data": {
      "text/plain": [
       ""
      ]
     },
     "execution_count": null,
     "metadata": {},
     "output_type": "execute_result"
    }
   ],
   "source": [
    "# ### Download data"
   ]
  },
  {
   "cell_type": "markdown",
   "id": "fef118f0",
   "metadata": {},
   "source": [
    "### Step 15"
   ]
  },
  {
   "cell_type": "markdown",
   "id": "eb5b3a5f",
   "metadata": {},
   "source": [
    "**Thought**: [pre-executed by user]"
   ]
  },
  {
   "cell_type": "markdown",
   "id": "f9da6aa1",
   "metadata": {},
   "source": [
    "**Action (None)**:"
   ]
  },
  {
   "cell_type": "code",
   "execution_count": null,
   "id": "05bc3b93",
   "metadata": {},
   "outputs": [
    {
     "data": {
      "text/plain": [
       "Requirement already satisfied: gdown in /usr/local/lib/python3.10/site-packages (5.1.0)\r\nCollecting gdown\r\n  Downloading gdown-5.2.0-py3-none-any.whl.metadata (5.8 kB)\r\nRequirement already satisfied: beautifulsoup4 in /usr/local/lib/python3.10/site-packages (from gdown) (4.12.3)\r\nRequirement already satisfied: filelock in /usr/local/lib/python3.10/site-packages (from gdown) (3.15.1)\r\nRequirement already satisfied: requests[socks] in /usr/local/lib/python3.10/site-packages (from gdown) (2.31.0)\r\nRequirement already satisfied: tqdm in /usr/local/lib/python3.10/site-packages (from gdown) (4.66.4)\r\nRequirement already satisfied: soupsieve>1.2 in /usr/local/lib/python3.10/site-packages (from beautifulsoup4->gdown) (2.5)\r\nRequirement already satisfied: charset-normalizer<4,>=2 in /usr/local/lib/python3.10/site-packages (from requests[socks]->gdown) (2.1.1)\r\nRequirement already satisfied: idna<4,>=2.5 in /usr/local/lib/python3.10/site-packages (from requests[socks]->gdown) (3.7)\r\nRequirement already satisfied: urllib3<3,>=1.21.1 in /usr/local/lib/python3.10/site-packages (from requests[socks]->gdown) (2.0.7)\r\nRequirement already satisfied: certifi>=2017.4.17 in /usr/local/lib/python3.10/site-packages (from requests[socks]->gdown) (2024.6.2)\r\nRequirement already satisfied: PySocks!=1.5.7,>=1.5.6 in /usr/local/lib/python3.10/site-packages (from requests[socks]->gdown) (1.7.1)\r\nDownloading gdown-5.2.0-py3-none-any.whl (18 kB)\r\nInstalling collected packages: gdown\r\n  Attempting uninstall: gdown\r\n    Found existing installation: gdown 5.1.0\r\n    Uninstalling gdown-5.1.0:\r\n      Successfully uninstalled gdown-5.1.0\r\nSuccessfully installed gdown-5.2.0\r\n\r\n\u001b[1m[\u001b[0m\u001b[34;49mnotice\u001b[0m\u001b[1;39;49m]\u001b[0m\u001b[39;49m A new release of pip is available: \u001b[0m\u001b[31;49m24.0\u001b[0m\u001b[39;49m -> \u001b[0m\u001b[32;49m24.2\u001b[0m\r\n\u001b[1m[\u001b[0m\u001b[34;49mnotice\u001b[0m\u001b[1;39;49m]\u001b[0m\u001b[39;49m To update, run: \u001b[0m\u001b[32;49mpip install --upgrade pip\u001b[0m\r\n"
      ]
     },
     "execution_count": null,
     "metadata": {},
     "output_type": "execute_result"
    }
   ],
   "source": [
    "!# use gdown to download files\n",
    "!pip install gdown --upgrade"
   ]
  },
  {
   "cell_type": "markdown",
   "id": "3f9d9e15",
   "metadata": {},
   "source": [
    "### Step 16"
   ]
  },
  {
   "cell_type": "markdown",
   "id": "2cefa7e5",
   "metadata": {},
   "source": [
    "**Thought**: [pre-executed by user]"
   ]
  },
  {
   "cell_type": "markdown",
   "id": "a7987313",
   "metadata": {},
   "source": [
    "**Action (None)**:"
   ]
  },
  {
   "cell_type": "code",
   "execution_count": null,
   "id": "2c9bc553",
   "metadata": {},
   "outputs": [
    {
     "data": {
      "text/plain": [
       "/usr/local/lib/python3.10/site-packages/IPython/core/magics/osm.py:417: UserWarning: This is now an optional IPython functionality, setting dhist requires you to install the `pickleshare` library.\n  self.shell.db['dhist'] = compress_dhist(dhist)[-100:]\nRetrieving folder contents\n/content/g-transformer/raw_data\nProcessing file 138-yMWU1fh7fnpikRPYLjN7SH6khVCqz de_dev.txt\nProcessing file 14hwJWO5J_2pDNmCRYuPvnzdthfy9AQRZ de_test.txt\nProcessing file 1fXu1u4Im2B0t_HNQNxSssdIh-fu1ezFt de_train.txt\nProcessing file 1vkLr8aM2xaPVjEVIbm4Yj5Tc73qs1jwR en_dev.txt\nProcessing file 1SwSf98ctYohXe-PRTQCBqJItip69TD2S en_test.txt\nProcessing file 12wTfUJ98St3IX9YIrKi52KZHifN_0jfA en_train.txt\nRetrieving folder contents completed\nBuilding directory structure\nBuilding directory structure completed\nDownloading...\nFrom: https://drive.google.com/uc?id=138-yMWU1fh7fnpikRPYLjN7SH6khVCqz\nTo: /content/g-transformer/raw_data/g-transformer/de_dev.txt\n\r  0%|          | 0.00/8.01k [00:00<?, ?B/s]\r100%|██████████| 8.01k/8.01k [00:00<00:00, 13.1MB/s]\nDownloading...\nFrom: https://drive.google.com/uc?id=14hwJWO5J_2pDNmCRYuPvnzdthfy9AQRZ\nTo: /content/g-transformer/raw_data/g-transformer/de_test.txt\n\r  0%|          | 0.00/8.96k [00:00<?, ?B/s]\r100%|██████████| 8.96k/8.96k [00:00<00:00, 14.7MB/s]\nDownloading...\nFrom: https://drive.google.com/uc?id=1fXu1u4Im2B0t_HNQNxSssdIh-fu1ezFt\nTo: /content/g-transformer/raw_data/g-transformer/de_train.txt\n\r  0%|          | 0.00/1.69k [00:00<?, ?B/s]\r100%|██████████| 1.69k/1.69k [00:00<00:00, 7.60MB/s]\nDownloading...\nFrom: https://drive.google.com/uc?id=1vkLr8aM2xaPVjEVIbm4Yj5Tc73qs1jwR\nTo: /content/g-transformer/raw_data/g-transformer/en_dev.txt\n\r  0%|          | 0.00/6.46k [00:00<?, ?B/s]\r100%|██████████| 6.46k/6.46k [00:00<00:00, 10.3MB/s]\nDownloading...\nFrom: https://drive.google.com/uc?id=1SwSf98ctYohXe-PRTQCBqJItip69TD2S\nTo: /content/g-transformer/raw_data/g-transformer/en_test.txt\n\r  0%|          | 0.00/7.65k [00:00<?, ?B/s]\r100%|██████████| 7.65k/7.65k [00:00<00:00, 12.7MB/s]\nDownloading...\nFrom: https://drive.google.com/uc?id=12wTfUJ98St3IX9YIrKi52KZHifN_0jfA\nTo: /content/g-transformer/raw_data/g-transformer/en_train.txt\n\r  0%|          | 0.00/1.51k [00:00<?, ?B/s]\r100%|██████████| 1.51k/1.51k [00:00<00:00, 5.76MB/s]\nDownload completed\n['/content/g-transformer/raw_data/g-transformer/de_dev.txt',\n '/content/g-transformer/raw_data/g-transformer/de_test.txt',\n '/content/g-transformer/raw_data/g-transformer/de_train.txt',\n '/content/g-transformer/raw_data/g-transformer/en_dev.txt',\n '/content/g-transformer/raw_data/g-transformer/en_test.txt',\n '/content/g-transformer/raw_data/g-transformer/en_train.txt']"
      ]
     },
     "execution_count": null,
     "metadata": {},
     "output_type": "execute_result"
    }
   ],
   "source": [
    "import gdown\n",
    "from pathlib import Path\n",
    "\n",
    "Path(\"/content/g-transformer/raw_data\").mkdir(exist_ok=True)\n",
    "\n",
    "%cd /content/g-transformer/raw_data\n",
    "gdown.download_folder(\"https://drive.google.com/drive/folders/1pmFy4R9cjgmIxi94qZbJVVza51rQpzNX\")"
   ]
  },
  {
   "cell_type": "markdown",
   "id": "a152df1a",
   "metadata": {},
   "source": [
    "### Step 17"
   ]
  },
  {
   "cell_type": "markdown",
   "id": "e310573c",
   "metadata": {},
   "source": [
    "**Thought**: [pre-executed by user]"
   ]
  },
  {
   "cell_type": "markdown",
   "id": "7e76e15c",
   "metadata": {},
   "source": [
    "**Action (None)**:"
   ]
  },
  {
   "cell_type": "code",
   "execution_count": null,
   "id": "28ca939f",
   "metadata": {},
   "outputs": [
    {
     "data": {
      "text/plain": [
       ""
      ]
     },
     "execution_count": null,
     "metadata": {},
     "output_type": "execute_result"
    }
   ],
   "source": [
    "# ### Rename datasets\n",
    "# \n",
    "# Script `prepare-finetune.sh` expects a different datafile naming"
   ]
  },
  {
   "cell_type": "markdown",
   "id": "dfeaac47",
   "metadata": {},
   "source": [
    "### Step 18"
   ]
  },
  {
   "cell_type": "markdown",
   "id": "73a59c07",
   "metadata": {},
   "source": [
    "**Thought**: [pre-executed by user]"
   ]
  },
  {
   "cell_type": "markdown",
   "id": "a9330c40",
   "metadata": {},
   "source": [
    "**Action (None)**:"
   ]
  },
  {
   "cell_type": "code",
   "execution_count": null,
   "id": "8eace014",
   "metadata": {},
   "outputs": [
    {
     "data": {
      "text/plain": [
       "/content/g-transformer/raw_data/g-transformer\n/usr/local/lib/python3.10/site-packages/IPython/core/magics/osm.py:417: UserWarning: This is now an optional IPython functionality, setting dhist requires you to install the `pickleshare` library.\n  self.shell.db['dhist'] = compress_dhist(dhist)[-100:]\n"
      ]
     },
     "execution_count": null,
     "metadata": {},
     "output_type": "execute_result"
    }
   ],
   "source": [
    "%cd /content/g-transformer/raw_data/g-transformer\n",
    "!cp en_train.txt concatenated_en2de_train_en.txt\n",
    "!cp de_train.txt concatenated_en2de_train_de.txt\n",
    "!cp en_dev.txt concatenated_en2de_dev_en.txt\n",
    "!cp de_dev.txt concatenated_en2de_dev_de.txt\n",
    "!cp en_test.txt concatenated_en2de_test_en.txt\n",
    "!cp de_test.txt concatenated_en2de_test_de.txt"
   ]
  },
  {
   "cell_type": "markdown",
   "id": "5af9fc59",
   "metadata": {},
   "source": [
    "### Step 19"
   ]
  },
  {
   "cell_type": "markdown",
   "id": "b8a46602",
   "metadata": {},
   "source": [
    "**Thought**: [pre-executed by user]"
   ]
  },
  {
   "cell_type": "markdown",
   "id": "1b3d6658",
   "metadata": {},
   "source": [
    "**Action (None)**:"
   ]
  },
  {
   "cell_type": "code",
   "execution_count": null,
   "id": "79097308",
   "metadata": {},
   "outputs": [
    {
     "data": {
      "text/plain": [
       "/content/g-transformer\n/usr/local/lib/python3.10/site-packages/IPython/core/magics/osm.py:417: UserWarning: This is now an optional IPython functionality, setting dhist requires you to install the `pickleshare` library.\n  self.shell.db['dhist'] = compress_dhist(dhist)[-100:]\nThu Aug 22 04:51:01 UTC 2024, exp_path: data, data: g-transformer, input: doc, code: bpe, slang: en, tlang: de\r\nThu Aug 22 04:51:01 UTC 2024, Prepraring data...\r\nmosesdecoder already exists, skipping download\r\nsubword-nmt already exists, skipping download\r\nfilter out empty lines from original data and split doc with empty line...\r\ndata/g-transformer.tokenized.en-de/tmp/train.en-de.tag\r\nTokenizer Version 1.1\r\nLanguage: en\r\nNumber of threads: 8\r\nTokenizer Version 1.1\r\nLanguage: de\r\nNumber of threads: 8\r\ndata/g-transformer.tokenized.en-de/tmp/valid.en-de.tag\r\nTokenizer Version 1.1\r\nLanguage: en\r\nNumber of threads: 8\r\nTokenizer Version 1.1\r\nLanguage: de\r\nNumber of threads: 8\r\ndata/g-transformer.tokenized.en-de/tmp/test.en-de.tag\r\nTokenizer Version 1.1\r\nLanguage: en\r\nNumber of threads: 8\r\nTokenizer Version 1.1\r\nLanguage: de\r\nNumber of threads: 8\r\ntruecase the train/valid/test data...\r\ndata/g-transformer.tokenized.en-de/tmp/truecase.en.mdl\r\ndata/g-transformer.tokenized.en-de/tmp/truecase.de.mdl\r\ndata/g-transformer.tokenized.en-de/tmp/train.en.tc\r\ndata/g-transformer.tokenized.en-de/tmp/train.de.tc\r\ndata/g-transformer.tokenized.en-de/tmp/valid.en.tc\r\ndata/g-transformer.tokenized.en-de/tmp/valid.de.tc\r\ndata/g-transformer.tokenized.en-de/tmp/test.en.tc\r\ndata/g-transformer.tokenized.en-de/tmp/test.de.tc\r\nlearn_bpe.py on ...\r\n\r  0%|                                                 | 0/30000 [00:00<?, ?it/s]no pair has frequency >= 2. Stopping\r\n\r  1%|4                                    | 330/30000 [00:00<00:06, 4428.05it/s]\r\napply_bpe.py to train.en...\r\napply_bpe.py to valid.en...\r\napply_bpe.py to test.en...\r\napply_bpe.py to train.de...\r\napply_bpe.py to valid.de...\r\napply_bpe.py to test.de...\r\napply doc-level special tags...\r\n[2024-08-22 04:51:04,731 INFO] Building segmented data: Namespace(corpuses='test,valid,train', source_lang='en', target_lang='de', datadir='data/g-transformer.tokenized.en-de', destdir='data/g-transformer-sent.segmented.en-de/', max_sents=1, max_tokens=512, min_train_doclen=-1, no_special_tok=False, tempdir='data/g-transformer-sent.segmented.en-de/tmp')\r\n[2024-08-22 04:51:04,735 INFO] Processed 2 documents of test with a max_len of 512.\r\n[2024-08-22 04:51:04,735 INFO] Saved 72 lines into data/g-transformer-sent.segmented.en-de/test.en\r\n[2024-08-22 04:51:04,736 INFO] Saved 72 lines into data/g-transformer-sent.segmented.en-de/test.de\r\n[2024-08-22 04:51:04,737 INFO] Processed 4 documents of valid with a max_len of 512.\r\n[2024-08-22 04:51:04,738 INFO] Saved 47 lines into data/g-transformer-sent.segmented.en-de/valid.en\r\n[2024-08-22 04:51:04,738 INFO] Saved 47 lines into data/g-transformer-sent.segmented.en-de/valid.de\r\n[2024-08-22 04:51:04,739 INFO] Processed 2 documents of train with a max_len of 512.\r\n[2024-08-22 04:51:04,739 INFO] Saved 14 lines into data/g-transformer-sent.segmented.en-de/train.en\r\n[2024-08-22 04:51:04,739 INFO] Saved 14 lines into data/g-transformer-sent.segmented.en-de/train.de\r\n[2024-08-22 04:51:05,069 INFO] Building segmented data: Namespace(corpuses='test,valid,train', source_lang='en', target_lang='de', datadir='data/g-transformer.tokenized.en-de', destdir='data/g-transformer-doc.segmented.en-de/', max_sents=1000, max_tokens=512, min_train_doclen=-1, no_special_tok=False, tempdir='data/g-transformer-doc.segmented.en-de/tmp')\r\n[2024-08-22 04:51:05,071 INFO] Processed 2 documents of test with a max_len of 512.\r\n[2024-08-22 04:51:05,072 INFO] Saved 11 lines into data/g-transformer-doc.segmented.en-de/test.en\r\n[2024-08-22 04:51:05,072 INFO] Saved 11 lines into data/g-transformer-doc.segmented.en-de/test.de\r\n[2024-08-22 04:51:05,074 INFO] Processed 4 documents of valid with a max_len of 512.\r\n[2024-08-22 04:51:05,074 INFO] Saved 11 lines into data/g-transformer-doc.segmented.en-de/valid.en\r\n[2024-08-22 04:51:05,075 INFO] Saved 11 lines into data/g-transformer-doc.segmented.en-de/valid.de\r\n[2024-08-22 04:51:05,075 INFO] Processed 2 documents of train with a max_len of 512.\r\n[2024-08-22 04:51:05,075 INFO] Saved 2 lines into data/g-transformer-doc.segmented.en-de/train.en\r\n[2024-08-22 04:51:05,076 INFO] Saved 2 lines into data/g-transformer-doc.segmented.en-de/train.de\r\n2024-08-22 04:51:08 | INFO | fairseq_cli.preprocess | Namespace(no_progress_bar=False, log_interval=100, log_format=None, tensorboard_logdir='', seed=1, cpu=False, tpu=False, bf16=False, fp16=False, memory_efficient_bf16=False, memory_efficient_fp16=False, fp16_no_flatten_grads=False, fp16_init_scale=128, fp16_scale_window=None, fp16_scale_tolerance=0.0, min_loss_scale=0.0001, threshold_loss_scale=None, user_dir=None, empty_cache_freq=0, all_gather_list_size=16384, model_parallel_size=1, checkpoint_suffix='', quantization_config_path=None, profile=False, criterion='cross_entropy', tokenizer=None, bpe=None, optimizer='nag', lr_scheduler='fixed', task='translation_doc', source_lang='en', target_lang='de', trainpref='data/g-transformer-sent.segmented.en-de/train', validpref='data/g-transformer-sent.segmented.en-de/valid', testpref='data/g-transformer-sent.segmented.en-de/test', align_suffix=None, destdir='data/g-transformer-sent.binarized.en-de', thresholdtgt=0, thresholdsrc=0, tgtdict=None, srcdict=None, nwordstgt=-1, nwordssrc=-1, alignfile=None, dataset_impl='mmap', joined_dictionary=True, only_source=False, padding_factor=8, workers=8)\r\n2024-08-22 04:51:08 | INFO | fairseq_cli.preprocess | [en] Dictionary: 320 types\r\n2024-08-22 04:51:08 | INFO | fairseq_cli.preprocess | [en] data/g-transformer-sent.segmented.en-de/train.en: 14 sents, 524 tokens, 0.0% replaced by <unk>\r\n2024-08-22 04:51:08 | INFO | fairseq_cli.preprocess | [en] Dictionary: 320 types\r\n2024-08-22 04:51:09 | INFO | fairseq_cli.preprocess | [en] data/g-transformer-sent.segmented.en-de/valid.en: 47 sents, 3421 tokens, 3.83% replaced by <unk>\r\n2024-08-22 04:51:09 | INFO | fairseq_cli.preprocess | [en] Dictionary: 320 types\r\n2024-08-22 04:51:09 | INFO | fairseq_cli.preprocess | [en] data/g-transformer-sent.segmented.en-de/test.en: 72 sents, 4296 tokens, 6.45% replaced by <unk>\r\n2024-08-22 04:51:09 | INFO | fairseq_cli.preprocess | [de] Dictionary: 320 types\r\n2024-08-22 04:51:09 | INFO | fairseq_cli.preprocess | [de] data/g-transformer-sent.segmented.en-de/train.de: 14 sents, 601 tokens, 0.0% replaced by <unk>\r\n2024-08-22 04:51:09 | INFO | fairseq_cli.preprocess | [de] Dictionary: 320 types\r\n2024-08-22 04:51:10 | INFO | fairseq_cli.preprocess | [de] data/g-transformer-sent.segmented.en-de/valid.de: 47 sents, 4082 tokens, 5.1% replaced by <unk>\r\n2024-08-22 04:51:10 | INFO | fairseq_cli.preprocess | [de] Dictionary: 320 types\r\n2024-08-22 04:51:10 | INFO | fairseq_cli.preprocess | [de] data/g-transformer-sent.segmented.en-de/test.de: 72 sents, 4857 tokens, 6.11% replaced by <unk>\r\n2024-08-22 04:51:10 | INFO | fairseq_cli.preprocess | Wrote preprocessed data to data/g-transformer-sent.binarized.en-de\r\n2024-08-22 04:51:13 | INFO | fairseq_cli.preprocess | Namespace(no_progress_bar=False, log_interval=100, log_format=None, tensorboard_logdir='', seed=1, cpu=False, tpu=False, bf16=False, fp16=False, memory_efficient_bf16=False, memory_efficient_fp16=False, fp16_no_flatten_grads=False, fp16_init_scale=128, fp16_scale_window=None, fp16_scale_tolerance=0.0, min_loss_scale=0.0001, threshold_loss_scale=None, user_dir=None, empty_cache_freq=0, all_gather_list_size=16384, model_parallel_size=1, checkpoint_suffix='', quantization_config_path=None, profile=False, criterion='cross_entropy', tokenizer=None, bpe=None, optimizer='nag', lr_scheduler='fixed', task='translation_doc', source_lang='en', target_lang='de', trainpref='data/g-transformer-doc.segmented.en-de/train', validpref='data/g-transformer-doc.segmented.en-de/valid', testpref='data/g-transformer-doc.segmented.en-de/test', align_suffix=None, destdir='data/g-transformer-doc.binarized.en-de', thresholdtgt=0, thresholdsrc=0, tgtdict='data/g-transformer-sent.binarized.en-de/dict.en.txt', srcdict='data/g-transformer-sent.binarized.en-de/dict.en.txt', nwordstgt=-1, nwordssrc=-1, alignfile=None, dataset_impl='mmap', joined_dictionary=False, only_source=False, padding_factor=8, workers=8)\r\n2024-08-22 04:51:13 | INFO | fairseq_cli.preprocess | [en] Dictionary: 320 types\r\n2024-08-22 04:51:14 | INFO | fairseq_cli.preprocess | [en] data/g-transformer-doc.segmented.en-de/train.en: 2 sents, 524 tokens, 0.0% replaced by <unk>\r\n2024-08-22 04:51:14 | INFO | fairseq_cli.preprocess | [en] Dictionary: 320 types\r\n2024-08-22 04:51:14 | INFO | fairseq_cli.preprocess | [en] data/g-transformer-doc.segmented.en-de/valid.en: 11 sents, 3421 tokens, 3.83% replaced by <unk>\r\n2024-08-22 04:51:14 | INFO | fairseq_cli.preprocess | [en] Dictionary: 320 types\r\n2024-08-22 04:51:14 | INFO | fairseq_cli.preprocess | [en] data/g-transformer-doc.segmented.en-de/test.en: 11 sents, 4296 tokens, 6.45% replaced by <unk>\r\n2024-08-22 04:51:14 | INFO | fairseq_cli.preprocess | [de] Dictionary: 320 types\r\n2024-08-22 04:51:14 | INFO | fairseq_cli.preprocess | [de] data/g-transformer-doc.segmented.en-de/train.de: 2 sents, 601 tokens, 0.0% replaced by <unk>\r\n2024-08-22 04:51:14 | INFO | fairseq_cli.preprocess | [de] Dictionary: 320 types\r\n2024-08-22 04:51:15 | INFO | fairseq_cli.preprocess | [de] data/g-transformer-doc.segmented.en-de/valid.de: 11 sents, 4082 tokens, 5.1% replaced by <unk>\r\n2024-08-22 04:51:15 | INFO | fairseq_cli.preprocess | [de] Dictionary: 320 types\r\n2024-08-22 04:51:15 | INFO | fairseq_cli.preprocess | [de] data/g-transformer-doc.segmented.en-de/test.de: 11 sents, 4857 tokens, 6.11% replaced by <unk>\r\n2024-08-22 04:51:15 | INFO | fairseq_cli.preprocess | Wrote preprocessed data to data/g-transformer-doc.binarized.en-de\r\n"
      ]
     },
     "execution_count": null,
     "metadata": {},
     "output_type": "execute_result"
    }
   ],
   "source": [
    "%cd /content/g-transformer\n",
    "!rm -r data/g-*  # remove previously generated files and directories\n",
    "!bash exp_gtrans/prepare-finetune.sh g-transformer data"
   ]
  },
  {
   "cell_type": "markdown",
   "id": "9b8ac007",
   "metadata": {},
   "source": [
    "### Step 20"
   ]
  },
  {
   "cell_type": "markdown",
   "id": "2d3cafd1",
   "metadata": {},
   "source": [
    "**Thought**: [pre-executed by user]"
   ]
  },
  {
   "cell_type": "markdown",
   "id": "efdb41ae",
   "metadata": {},
   "source": [
    "**Action (None)**:"
   ]
  },
  {
   "cell_type": "code",
   "execution_count": null,
   "id": "91dff66b",
   "metadata": {},
   "outputs": [
    {
     "data": {
      "text/plain": [
       ""
      ]
     },
     "execution_count": null,
     "metadata": {},
     "output_type": "execute_result"
    }
   ],
   "source": [
    "# ### Run finetune"
   ]
  },
  {
   "cell_type": "markdown",
   "id": "72b50c76",
   "metadata": {},
   "source": [
    "### Step 21"
   ]
  },
  {
   "cell_type": "markdown",
   "id": "fdd001de",
   "metadata": {},
   "source": [
    "**Thought**: [pre-executed by user]"
   ]
  },
  {
   "cell_type": "markdown",
   "id": "4970fb32",
   "metadata": {},
   "source": [
    "**Action (None)**:"
   ]
  },
  {
   "cell_type": "code",
   "execution_count": null,
   "id": "480250a8",
   "metadata": {},
   "outputs": [
    {
     "data": {
      "text/plain": [
       ""
      ]
     },
     "execution_count": null,
     "metadata": {},
     "output_type": "execute_result"
    }
   ],
   "source": [
    "# First attempt to train data using the default model"
   ]
  },
  {
   "cell_type": "markdown",
   "id": "de116bd9",
   "metadata": {},
   "source": [
    "### Step 22"
   ]
  },
  {
   "cell_type": "markdown",
   "id": "92cf1ad1",
   "metadata": {},
   "source": [
    "**Thought**: [pre-executed by user]"
   ]
  },
  {
   "cell_type": "markdown",
   "id": "7c54bb4e",
   "metadata": {},
   "source": [
    "**Action (None)**:"
   ]
  },
  {
   "cell_type": "code",
   "execution_count": null,
   "id": "afeb3ac9",
   "metadata": {},
   "outputs": [
    {
     "data": {
      "text/plain": [
       "/content/g-transformer\nThu Aug 22 04:51:16 UTC 2024, data: g-transformer, mode: train, exp_path: data, slang: en, tlang: de\r\nThu Aug 22 04:51:16 UTC 2024, run path: data/run-finetune\r\nThu Aug 22 04:51:16 UTC 2024, Training sentence-level model...\r\n/usr/local/lib/python3.10/site-packages/IPython/core/magics/osm.py:417: UserWarning: This is now an optional IPython functionality, setting dhist requires you to install the `pickleshare` library.\n  self.shell.db['dhist'] = compress_dhist(dhist)[-100:]\nThu Aug 22 04:51:23 UTC 2024, Training document-level model...\r\nLoad sentence model from data/run-finetune/g-transformer-sent.checkpoints.en-de/checkpoint_best.pt\r\nThu Aug 22 04:51:23 UTC 2024, Training model...\r\n"
      ]
     },
     "execution_count": null,
     "metadata": {},
     "output_type": "execute_result"
    }
   ],
   "source": [
    "%cd /content/g-transformer\n",
    "!bash exp_gtrans/run-finetune.sh g-transformer train data"
   ]
  },
  {
   "cell_type": "markdown",
   "id": "eb2dbefe",
   "metadata": {},
   "source": [
    "### Step 23"
   ]
  },
  {
   "cell_type": "markdown",
   "id": "80362a7c",
   "metadata": {},
   "source": [
    "**Thought**: [pre-executed by user]"
   ]
  },
  {
   "cell_type": "markdown",
   "id": "6252bc3b",
   "metadata": {},
   "source": [
    "**Action (None)**:"
   ]
  },
  {
   "cell_type": "code",
   "execution_count": null,
   "id": "50bee8d0",
   "metadata": {},
   "outputs": [
    {
     "data": {
      "text/plain": [
       ""
      ]
     },
     "execution_count": null,
     "metadata": {},
     "output_type": "execute_result"
    }
   ],
   "source": [
    "# Also, patch finetune script to avoid ussing Half floats (remove `--fp16` argument) and train only one epoch (add `--max-epoch 1`)."
   ]
  },
  {
   "cell_type": "markdown",
   "id": "1592f491",
   "metadata": {},
   "source": [
    "### Step 24"
   ]
  },
  {
   "cell_type": "markdown",
   "id": "573ab8e6",
   "metadata": {},
   "source": [
    "**Thought**: EXECUTED BY USER"
   ]
  },
  {
   "cell_type": "markdown",
   "id": "3485d240",
   "metadata": {},
   "source": [
    "**Action (None)**:"
   ]
  },
  {
   "cell_type": "code",
   "execution_count": null,
   "id": "d3efb054",
   "metadata": {},
   "outputs": [
    {
     "data": {
      "text/plain": [
       "Edit was successful. Here's the relevant content *after edit* for your inspection (you should check indentation is correct):\necho `date`, run path: $run_path\n\ncp_path_sent=$run_path/$data-sent.checkpoints.$slang-$tlang\ncp_path_doc=$run_path/$data-doc.checkpoints.$slang-$tlang\nres_path=$run_path/$data.results.$slang-$tlang\ndoc_langs=$slang,$tlang\n\nif [ $mode == \"train\" ]; then\n  echo `date`, Training sentence-level model...\n  doc_langs=$slang,$tlang\n  python train.py $bin_path_sent --save-dir $cp_path_sent --tensorboard-logdir $cp_path_sent --seed 444 --max-epoch 1 --num-workers 4 \\\n         --task translation_doc --source-lang $slang --target-lang $tlang --langs $doc_langs \\\n         --arch gtransformer_base --doc-mode full --share-all-embeddings \\\n         --optimizer adam --adam-betas \"(0.9, 0.98)\" --lr 5e-4 --lr-scheduler inverse_sqrt --warmup-updates 4000 \\\n         --criterion label_smoothed_cross_entropy --label-smoothing 0.1 --no-epoch-checkpoints \\\n         --max-tokens 4096 --update-freq 1 --validate-interval 1 --patience 10 \\\n         > $run_path/train.$data-sent.$slang-$tlang.log 2>&1\n\n  echo `date`, Training document-level model..."
      ]
     },
     "execution_count": null,
     "metadata": {},
     "output_type": "execute_result"
    }
   ],
   "source": [
    "EDITING `/content/g-transformer/exp_gtrans/run-finetune.sh. CHANGING:\n",
    "\n",
    "\n",
    "if [ $mode == \"train\" ]; then\n",
    "  echo `date`, Training sentence-level model...\n",
    "  doc_langs=$slang,$tlang\n",
    "  python train.py $bin_path_sent --save-dir $cp_path_sent --tensorboard-logdir $cp_path_sent --seed 444 --fp16 --num-workers 4 \\\n",
    "         --task translation_doc --source-lang $slang --target-lang $tlang --langs $doc_langs \\\n",
    "         --arch gtransformer_base --doc-mode full --share-all-embeddings \\\n",
    "\n",
    "\n",
    "TO:\n",
    "\n",
    "\n",
    "if [ $mode == \"train\" ]; then\n",
    "  echo `date`, Training sentence-level model...\n",
    "  doc_langs=$slang,$tlang\n",
    "  python train.py $bin_path_sent --save-dir $cp_path_sent --tensorboard-logdir $cp_path_sent --seed 444 --max-epoch 1 --num-workers 4 \\\n",
    "         --task translation_doc --source-lang $slang --target-lang $tlang --langs $doc_langs \\\n",
    "         --arch gtransformer_base --doc-mode full --share-all-embeddings \\\n"
   ]
  },
  {
   "cell_type": "markdown",
   "id": "ac18128d",
   "metadata": {},
   "source": [
    "### Step 25"
   ]
  },
  {
   "cell_type": "markdown",
   "id": "189beb3b",
   "metadata": {},
   "source": [
    "**Thought**: EXECUTED BY USER"
   ]
  },
  {
   "cell_type": "markdown",
   "id": "e964561b",
   "metadata": {},
   "source": [
    "**Action (None)**:"
   ]
  },
  {
   "cell_type": "code",
   "execution_count": null,
   "id": "88babc05",
   "metadata": {},
   "outputs": [
    {
     "data": {
      "text/plain": [
       "Edit was successful. Here's the relevant content *after edit* for your inspection (you should check indentation is correct):\n         --arch gtransformer_base --doc-mode full --share-all-embeddings \\\n         --optimizer adam --adam-betas \"(0.9, 0.98)\" --lr 5e-4 --lr-scheduler inverse_sqrt --warmup-updates 4000 \\\n         --criterion label_smoothed_cross_entropy --label-smoothing 0.1 --no-epoch-checkpoints \\\n         --max-tokens 4096 --update-freq 1 --validate-interval 1 --patience 10 \\\n         > $run_path/train.$data-sent.$slang-$tlang.log 2>&1\n\n  echo `date`, Training document-level model...\n  sent_model=$cp_path_sent/checkpoint_best.pt\n  echo Load sentence model from $sent_model\n  echo `date`, Training model...\n  python train.py $bin_path_doc --save-dir $cp_path_doc --tensorboard-logdir $cp_path_doc --seed 444  --max-epoch 1 --num-workers 4 \\\n         --task translation_doc --source-lang $slang --target-lang $tlang --langs $doc_langs \\\n         --arch gtransformer_base --doc-mode partial --share-all-embeddings \\\n         --optimizer adam --adam-betas \"(0.9, 0.98)\" \\\n         --lr-scheduler inverse_sqrt --lr 5e-04 --warmup-updates 4000 \\\n         --criterion label_smoothed_cross_entropy --label-smoothing 0.1 --no-epoch-checkpoints \\\n         --max-tokens 4096 --update-freq 1 --validate-interval 1 --patience 10 \\\n         --restore-file $sent_model --reset-optimizer --reset-meters --reset-dataloader --reset-lr-scheduler \\\n         --load-partial --doc-double-lr --lr-scale-pretrained 0.2 \\"
      ]
     },
     "execution_count": null,
     "metadata": {},
     "output_type": "execute_result"
    }
   ],
   "source": [
    "EDITING `/content/g-transformer/exp_gtrans/run-finetune.sh. CHANGING:\n",
    "\n",
    "\n",
    "  sent_model=$cp_path_sent/checkpoint_best.pt\n",
    "  echo Load sentence model from $sent_model\n",
    "  echo `date`, Training model...\n",
    "  python train.py $bin_path_doc --save-dir $cp_path_doc --tensorboard-logdir $cp_path_doc --seed 444 --num-workers 4 \\\n",
    "         --task translation_doc --source-lang $slang --target-lang $tlang --langs $doc_langs \\\n",
    "         --arch gtransformer_base --doc-mode partial --share-all-embeddings \\\n",
    "\n",
    "\n",
    "TO:\n",
    "\n",
    "\n",
    "  sent_model=$cp_path_sent/checkpoint_best.pt\n",
    "  echo Load sentence model from $sent_model\n",
    "  echo `date`, Training model...\n",
    "  python train.py $bin_path_doc --save-dir $cp_path_doc --tensorboard-logdir $cp_path_doc --seed 444  --max-epoch 1 --num-workers 4 \\\n",
    "         --task translation_doc --source-lang $slang --target-lang $tlang --langs $doc_langs \\\n",
    "         --arch gtransformer_base --doc-mode partial --share-all-embeddings \\\n"
   ]
  },
  {
   "cell_type": "markdown",
   "id": "a7a96e62",
   "metadata": {},
   "source": [
    "### Step 26"
   ]
  },
  {
   "cell_type": "markdown",
   "id": "682998fd",
   "metadata": {},
   "source": [
    "Execution Start time: 04:51:43, End time: 04:51:43 (duration: 0 seconds)"
   ]
  },
  {
   "cell_type": "markdown",
   "id": "96f0eeba",
   "metadata": {},
   "source": [
    "**Thought**: [pre-executed by user]\n",
    "\n"
   ]
  },
  {
   "cell_type": "markdown",
   "id": "b35b8455",
   "metadata": {},
   "source": [
    "**Action (None)**:"
   ]
  },
  {
   "cell_type": "code",
   "execution_count": null,
   "id": "3035942d",
   "metadata": {},
   "outputs": [
    {
     "data": {
      "text/plain": [
       ""
      ]
     },
     "execution_count": null,
     "metadata": {},
     "output_type": "execute_result"
    }
   ],
   "source": [
    "# Retry training"
   ]
  },
  {
   "cell_type": "markdown",
   "id": "30cfeac4",
   "metadata": {},
   "source": [
    "### Step 27"
   ]
  },
  {
   "cell_type": "markdown",
   "id": "84b4bad3",
   "metadata": {},
   "source": [
    "Execution Start time: 04:51:44, End time: 04:52:09 (duration: 24 seconds)"
   ]
  },
  {
   "cell_type": "markdown",
   "id": "60f523d1",
   "metadata": {},
   "source": [
    "**Thought**: [pre-executed by user]\n",
    "\n"
   ]
  },
  {
   "cell_type": "markdown",
   "id": "b51f611e",
   "metadata": {},
   "source": [
    "**Action (None)**:"
   ]
  },
  {
   "cell_type": "code",
   "execution_count": null,
   "id": "fd93bc2c",
   "metadata": {},
   "outputs": [
    {
     "data": {
      "text/plain": [
       "/content/g-transformer\nThu Aug 22 04:51:44 UTC 2024, data: g-transformer, mode: train, exp_path: data, slang: en, tlang: de\nThu Aug 22 04:51:44 UTC 2024, run path: data/run-finetune\nThu Aug 22 04:51:44 UTC 2024, Training sentence-level model...\n/usr/local/lib/python3.10/site-packages/IPython/core/magics/osm.py:417: UserWarning: This is now an optional IPython functionality, setting dhist requires you to install the `pickleshare` library.\n  self.shell.db['dhist'] = compress_dhist(dhist)[-100:]\nThu Aug 22 04:51:52 UTC 2024, Training document-level model...\nLoad sentence model from data/run-finetune/g-transformer-sent.checkpoints.en-de/checkpoint_best.pt\nThu Aug 22 04:51:52 UTC 2024, Training model...\n"
      ]
     },
     "execution_count": null,
     "metadata": {},
     "output_type": "execute_result"
    }
   ],
   "source": [
    "%cd /content/g-transformer\n",
    "!bash exp_gtrans/run-finetune.sh g-transformer train data"
   ]
  },
  {
   "cell_type": "markdown",
   "id": "426cabfb",
   "metadata": {},
   "source": [
    "### Step 28"
   ]
  },
  {
   "cell_type": "markdown",
   "id": "e08e8851",
   "metadata": {},
   "source": [
    "Execution Start time: 04:52:10, End time: 04:52:10 (duration: 0 seconds)"
   ]
  },
  {
   "cell_type": "markdown",
   "id": "ff295539",
   "metadata": {},
   "source": [
    "**Thought**: [pre-executed by user]\n",
    "\n"
   ]
  },
  {
   "cell_type": "markdown",
   "id": "ccdf8412",
   "metadata": {},
   "source": [
    "**Action (None)**:"
   ]
  },
  {
   "cell_type": "code",
   "execution_count": null,
   "id": "7ce87377",
   "metadata": {},
   "outputs": [
    {
     "data": {
      "text/plain": [
       ""
      ]
     },
     "execution_count": null,
     "metadata": {},
     "output_type": "execute_result"
    }
   ],
   "source": [
    "# ### Check results"
   ]
  },
  {
   "cell_type": "markdown",
   "id": "fbc442db",
   "metadata": {},
   "source": [
    "### Step 29"
   ]
  },
  {
   "cell_type": "markdown",
   "id": "417ab51b",
   "metadata": {},
   "source": [
    "Execution Start time: 04:52:11, End time: 04:52:12 (duration: 0 seconds)"
   ]
  },
  {
   "cell_type": "markdown",
   "id": "1940c625",
   "metadata": {},
   "source": [
    "**Thought**: [pre-executed by user]\n",
    "\n"
   ]
  },
  {
   "cell_type": "markdown",
   "id": "5ce3d2a0",
   "metadata": {},
   "source": [
    "**Action (None)**:"
   ]
  },
  {
   "cell_type": "code",
   "execution_count": null,
   "id": "2561e37d",
   "metadata": {},
   "outputs": [
    {
     "data": {
      "text/plain": [
       "tail: cannot open 'data/run-finetune/test.g-transformer.en-de.log' for reading: No such file or directory\n"
      ]
     },
     "execution_count": null,
     "metadata": {},
     "output_type": "execute_result"
    }
   ],
   "source": [
    "!tail data/run-finetune/test.g-transformer.en-de.log"
   ]
  },
  {
   "cell_type": "markdown",
   "id": "dbf2b402",
   "metadata": {},
   "source": [
    "### Step 30"
   ]
  },
  {
   "cell_type": "markdown",
   "id": "b1ae04d1",
   "metadata": {},
   "source": [
    "Execution Start time: 04:52:13, End time: 04:52:14 (duration: 0 seconds)"
   ]
  },
  {
   "cell_type": "markdown",
   "id": "f387b3a0",
   "metadata": {},
   "source": [
    "**Thought**: It seems like the log file `test.g-transformer.en-de.log` does not exist in the specified directory. This might be due to the training process not completing successfully or the log file being generated in a different location. Let's check the directory structure to see if the log file is located elsewhere or if there are any other log files available.\n",
    "\n"
   ]
  },
  {
   "cell_type": "markdown",
   "id": "616488f2",
   "metadata": {},
   "source": [
    "**Action (None)**:"
   ]
  },
  {
   "cell_type": "code",
   "execution_count": null,
   "id": "fe0c331e",
   "metadata": {},
   "outputs": [
    {
     "data": {
      "text/plain": [
       "data/run-finetune/:\ng-transformer-doc.checkpoints.en-de   train.g-transformer-doc.en-de.log\ng-transformer-sent.checkpoints.en-de  train.g-transformer-sent.en-de.log\n\ndata/run-finetune/g-transformer-doc.checkpoints.en-de:\n\ndata/run-finetune/g-transformer-sent.checkpoints.en-de:\n"
      ]
     },
     "execution_count": null,
     "metadata": {},
     "output_type": "execute_result"
    }
   ],
   "source": [
    "!ls -R data/run-finetune/"
   ]
  },
  {
   "cell_type": "markdown",
   "id": "0c4d9c6d",
   "metadata": {},
   "source": [
    "### Step 31"
   ]
  },
  {
   "cell_type": "markdown",
   "id": "75aa3d54",
   "metadata": {},
   "source": [
    "Execution Start time: 04:52:15, End time: 04:52:16 (duration: 0 seconds)"
   ]
  },
  {
   "cell_type": "markdown",
   "id": "6b82c5e5",
   "metadata": {},
   "source": [
    "**Thought**: The directory contains two log files: `train.g-transformer-doc.en-de.log` and `train.g-transformer-sent.en-de.log`. It seems like these logs might contain the information we need regarding the training process. Let's check the contents of these log files to find the Sentence-level and Document-level BLEU metrics.\n",
    "\n"
   ]
  },
  {
   "cell_type": "markdown",
   "id": "6833e781",
   "metadata": {},
   "source": [
    "**Action (None)**:"
   ]
  },
  {
   "cell_type": "code",
   "execution_count": null,
   "id": "29bd68ce",
   "metadata": {},
   "outputs": [
    {
     "data": {
      "text/plain": [
       "    loss, sample_size, logging_output = criterion(model, sample)\n  File \"/usr/local/lib/python3.10/site-packages/torch/nn/modules/module.py\", line 1511, in _wrapped_call_impl\n    return self._call_impl(*args, **kwargs)\n  File \"/usr/local/lib/python3.10/site-packages/torch/nn/modules/module.py\", line 1520, in _call_impl\n    return forward_call(*args, **kwargs)\n  File \"/content/g-transformer/fairseq/criterions/label_smoothed_cross_entropy.py\", line 57, in forward\n    loss, nll_loss = self.compute_loss(model, net_output, sample, reduce=reduce)\n  File \"/content/g-transformer/fairseq/criterions/label_smoothed_cross_entropy.py\", line 72, in compute_loss\n    target = model.get_targets(sample, net_output).view(-1, 1)\nRuntimeError: view size is not compatible with input tensor's size and stride (at least one dimension spans across two contiguous subspaces). Use .reshape(...) instead.\n"
      ]
     },
     "execution_count": null,
     "metadata": {},
     "output_type": "execute_result"
    }
   ],
   "source": [
    "!tail data/run-finetune/train.g-transformer-doc.en-de.log"
   ]
  },
  {
   "cell_type": "markdown",
   "id": "38669840",
   "metadata": {},
   "source": [
    "### Step 32"
   ]
  },
  {
   "cell_type": "markdown",
   "id": "0c575f81",
   "metadata": {},
   "source": [
    "Execution Start time: 04:52:18, End time: 04:52:18 (duration: 0 seconds)"
   ]
  },
  {
   "cell_type": "markdown",
   "id": "c187eaae",
   "metadata": {},
   "source": [
    "**Thought**: The error message indicates a runtime error related to tensor reshaping during the training process. This issue arises from the `view` operation, which is not compatible with the input tensor's size and stride. To resolve this, we need to modify the code to use `.reshape(...)` instead of `.view(...)`.\n",
    "\n",
    "Let's locate the `label_smoothed_cross_entropy.py` file and make the necessary changes to fix this issue.\n",
    "\n"
   ]
  },
  {
   "cell_type": "markdown",
   "id": "1b3c1dc3",
   "metadata": {},
   "source": [
    "**Action (open)**:"
   ]
  },
  {
   "cell_type": "code",
   "execution_count": null,
   "id": "70feea64",
   "metadata": {},
   "outputs": [
    {
     "data": {
      "text/plain": [
       "[File: /content/g-transformer/fairseq/criterions/label_smoothed_cross_entropy.py (97 lines total)]\n1:# Copyright (c) Facebook, Inc. and its affiliates.\n2:#\n3:# This source code is licensed under the MIT license found in the\n4:# LICENSE file in the root directory of this source tree.\n5:\n6:import math\n7:\n8:from fairseq import metrics, utils\n9:from fairseq.criterions import FairseqCriterion, register_criterion\n10:\n11:\n12:def label_smoothed_nll_loss(lprobs, target, epsilon, ignore_index=None, reduce=True):\n13:    if target.dim() == lprobs.dim() - 1:\n14:        target = target.unsqueeze(-1)\n15:    nll_loss = -lprobs.gather(dim=-1, index=target)\n16:    smooth_loss = -lprobs.sum(dim=-1, keepdim=True)\n17:    if ignore_index is not None:\n18:        pad_mask = target.eq(ignore_index)\n19:        nll_loss.masked_fill_(pad_mask, 0.)\n20:        smooth_loss.masked_fill_(pad_mask, 0.)\n21:    else:\n22:        nll_loss = nll_loss.squeeze(-1)\n23:        smooth_loss = smooth_loss.squeeze(-1)\n24:    if reduce:\n25:        nll_loss = nll_loss.sum()\n26:        smooth_loss = smooth_loss.sum()\n27:    eps_i = epsilon / lprobs.size(-1)\n28:    loss = (1. - epsilon) * nll_loss + eps_i * smooth_loss\n29:    return loss, nll_loss\n30:\n31:\n32:@register_criterion('label_smoothed_cross_entropy')\n33:class LabelSmoothedCrossEntropyCriterion(FairseqCriterion):\n34:\n35:    def __init__(self, task, sentence_avg, label_smoothing):\n36:        super().__init__(task)\n37:        self.sentence_avg = sentence_avg\n38:        self.eps = label_smoothing\n39:\n40:    @staticmethod\n41:    def add_args(parser):\n42:        \"\"\"Add criterion-specific arguments to the parser.\"\"\"\n43:        # fmt: off\n44:        parser.add_argument('--label-smoothing', default=0., type=float, metavar='D',\n45:                            help='epsilon for label smoothing, 0 means no label smoothing')\n46:        # fmt: on\n47:\n48:    def forward(self, model, sample, reduce=True):\n49:        \"\"\"Compute the loss for the given sample.\n50:\n51:        Returns a tuple with three elements:\n52:        1) the loss\n53:        2) the sample size, which is used as the denominator for the gradient\n54:        3) logging outputs to display while training\n55:        \"\"\"\n56:        net_output = model(**sample['net_input'])\n57:        loss, nll_loss = self.compute_loss(model, net_output, sample, reduce=reduce)\n58:        sample_size = sample['target'].size(0) if self.sentence_avg else sample['ntokens']\n59:        logging_output = {\n60:            'loss': loss.data,\n61:            'nll_loss': nll_loss.data,\n62:            'ntokens': sample['ntokens'],\n63:            'nsentences': sample['target'].size(0),\n64:            'sample_size': sample_size,\n65:        }\n66:        logging_output.update(net_output[1]['attn'])\n67:        return loss, sample_size, logging_output\n68:\n69:    def compute_loss(self, model, net_output, sample, reduce=True):\n70:        lprobs = model.get_normalized_probs(net_output, log_probs=True)\n71:        lprobs = lprobs.view(-1, lprobs.size(-1))\n72:        target = model.get_targets(sample, net_output).view(-1, 1)\n73:        loss, nll_loss = label_smoothed_nll_loss(\n74:            lprobs, target, self.eps, ignore_index=self.padding_idx, reduce=reduce,\n75:        )\n76:        return loss, nll_loss\n77:\n78:    @staticmethod\n79:    def reduce_metrics(logging_outputs) -> None:\n80:        \"\"\"Aggregate logging outputs from data parallel training.\"\"\"\n81:        loss_sum = sum(log.get('loss', 0) for log in logging_outputs)\n82:        nll_loss_sum = sum(log.get('nll_loss', 0) for log in logging_outputs)\n83:        ntokens = sum(log.get('ntokens', 0) for log in logging_outputs)\n84:        sample_size = sum(log.get('sample_size', 0) for log in logging_outputs)\n85:\n86:        metrics.log_scalar('loss', loss_sum / sample_size / math.log(2), sample_size, round=3)\n87:        metrics.log_scalar('nll_loss', nll_loss_sum / ntokens / math.log(2), ntokens, round=3)\n88:        metrics.log_derived('ppl', lambda meters: utils.get_perplexity(meters['nll_loss'].avg))\n89:\n90:    @staticmethod\n91:    def logging_outputs_can_be_summed() -> bool:\n92:        \"\"\"\n93:        Whether the logging outputs returned by `forward` can be summed\n94:        across workers prior to calling `reduce_metrics`. Setting this\n95:        to True will improves distributed training speed.\n96:        \"\"\"\n97:        return True\n"
      ]
     },
     "execution_count": null,
     "metadata": {},
     "output_type": "execute_result"
    }
   ],
   "source": [
    "open /content/g-transformer/fairseq/criterions/label_smoothed_cross_entropy.py"
   ]
  },
  {
   "cell_type": "markdown",
   "id": "3c160253",
   "metadata": {},
   "source": [
    "### Step 33"
   ]
  },
  {
   "cell_type": "markdown",
   "id": "48e2b90d",
   "metadata": {},
   "source": [
    "Execution Start time: 04:52:20, End time: 04:52:21 (duration: 0 seconds)"
   ]
  },
  {
   "cell_type": "markdown",
   "id": "6953e567",
   "metadata": {},
   "source": [
    "**Thought**: We need to modify the line where `view` is used to reshape the tensor. Let's change line 72 to use `reshape` instead of `view`.\n",
    "\n"
   ]
  },
  {
   "cell_type": "markdown",
   "id": "fb58f61a",
   "metadata": {},
   "source": [
    "**Action (edit)**:"
   ]
  },
  {
   "cell_type": "code",
   "execution_count": null,
   "id": "0b20868d",
   "metadata": {},
   "outputs": [
    {
     "data": {
      "text/plain": [
       "[File: /content/g-transformer/fairseq/criterions/label_smoothed_cross_entropy.py (97 lines total)]\n1:# Copyright (c) Facebook, Inc. and its affiliates.\n2:#\n3:# This source code is licensed under the MIT license found in the\n4:# LICENSE file in the root directory of this source tree.\n5:\n6:import math\n7:\n8:from fairseq import metrics, utils\n9:from fairseq.criterions import FairseqCriterion, register_criterion\n10:\n11:\n12:def label_smoothed_nll_loss(lprobs, target, epsilon, ignore_index=None, reduce=True):\n13:    if target.dim() == lprobs.dim() - 1:\n14:        target = target.unsqueeze(-1)\n15:    nll_loss = -lprobs.gather(dim=-1, index=target)\n16:    smooth_loss = -lprobs.sum(dim=-1, keepdim=True)\n17:    if ignore_index is not None:\n18:        pad_mask = target.eq(ignore_index)\n19:        nll_loss.masked_fill_(pad_mask, 0.)\n20:        smooth_loss.masked_fill_(pad_mask, 0.)\n21:    else:\n22:        nll_loss = nll_loss.squeeze(-1)\n23:        smooth_loss = smooth_loss.squeeze(-1)\n24:    if reduce:\n25:        nll_loss = nll_loss.sum()\n26:        smooth_loss = smooth_loss.sum()\n27:    eps_i = epsilon / lprobs.size(-1)\n28:    loss = (1. - epsilon) * nll_loss + eps_i * smooth_loss\n29:    return loss, nll_loss\n30:\n31:\n32:@register_criterion('label_smoothed_cross_entropy')\n33:class LabelSmoothedCrossEntropyCriterion(FairseqCriterion):\n34:\n35:    def __init__(self, task, sentence_avg, label_smoothing):\n36:        super().__init__(task)\n37:        self.sentence_avg = sentence_avg\n38:        self.eps = label_smoothing\n39:\n40:    @staticmethod\n41:    def add_args(parser):\n42:        \"\"\"Add criterion-specific arguments to the parser.\"\"\"\n43:        # fmt: off\n44:        parser.add_argument('--label-smoothing', default=0., type=float, metavar='D',\n45:                            help='epsilon for label smoothing, 0 means no label smoothing')\n46:        # fmt: on\n47:\n48:    def forward(self, model, sample, reduce=True):\n49:        \"\"\"Compute the loss for the given sample.\n50:\n51:        Returns a tuple with three elements:\n52:        1) the loss\n53:        2) the sample size, which is used as the denominator for the gradient\n54:        3) logging outputs to display while training\n55:        \"\"\"\n56:        net_output = model(**sample['net_input'])\n57:        loss, nll_loss = self.compute_loss(model, net_output, sample, reduce=reduce)\n58:        sample_size = sample['target'].size(0) if self.sentence_avg else sample['ntokens']\n59:        logging_output = {\n60:            'loss': loss.data,\n61:            'nll_loss': nll_loss.data,\n62:            'ntokens': sample['ntokens'],\n63:            'nsentences': sample['target'].size(0),\n64:            'sample_size': sample_size,\n65:        }\n66:        logging_output.update(net_output[1]['attn'])\n67:        return loss, sample_size, logging_output\n68:\n69:    def compute_loss(self, model, net_output, sample, reduce=True):\n70:        lprobs = model.get_normalized_probs(net_output, log_probs=True)\n71:        lprobs = lprobs.view(-1, lprobs.size(-1))\n72:        target = model.get_targets(sample, net_output).reshape(-1, 1)\n73:        loss, nll_loss = label_smoothed_nll_loss(\n74:            lprobs, target, self.eps, ignore_index=self.padding_idx, reduce=reduce,\n75:        )\n76:        return loss, nll_loss\n77:\n78:    @staticmethod\n79:    def reduce_metrics(logging_outputs) -> None:\n80:        \"\"\"Aggregate logging outputs from data parallel training.\"\"\"\n81:        loss_sum = sum(log.get('loss', 0) for log in logging_outputs)\n82:        nll_loss_sum = sum(log.get('nll_loss', 0) for log in logging_outputs)\n83:        ntokens = sum(log.get('ntokens', 0) for log in logging_outputs)\n84:        sample_size = sum(log.get('sample_size', 0) for log in logging_outputs)\n85:\n86:        metrics.log_scalar('loss', loss_sum / sample_size / math.log(2), sample_size, round=3)\n87:        metrics.log_scalar('nll_loss', nll_loss_sum / ntokens / math.log(2), ntokens, round=3)\n88:        metrics.log_derived('ppl', lambda meters: utils.get_perplexity(meters['nll_loss'].avg))\n89:\n90:    @staticmethod\n91:    def logging_outputs_can_be_summed() -> bool:\n92:        \"\"\"\n93:        Whether the logging outputs returned by `forward` can be summed\n94:        across workers prior to calling `reduce_metrics`. Setting this\n95:        to True will improves distributed training speed.\n96:        \"\"\"\n97:        return True\nFile updated. Please review the changes and make sure they are correct (correct indentation, no duplicate lines, etc). Edit the file again if necessary.\n"
      ]
     },
     "execution_count": null,
     "metadata": {},
     "output_type": "execute_result"
    }
   ],
   "source": [
    "edit 72:72\n",
    "        target = model.get_targets(sample, net_output).reshape(-1, 1)\n",
    "end_of_edit"
   ]
  },
  {
   "cell_type": "markdown",
   "id": "427f56d9",
   "metadata": {},
   "source": [
    "### Step 34"
   ]
  },
  {
   "cell_type": "markdown",
   "id": "4bb40435",
   "metadata": {},
   "source": [
    "Execution Start time: 04:52:23, End time: 04:53:01 (duration: 38 seconds)"
   ]
  },
  {
   "cell_type": "markdown",
   "id": "91a9bb25",
   "metadata": {},
   "source": [
    "**Thought**: The change from `view` to `reshape` has been made successfully. Let's retry running the fine-tuning script to see if this resolves the issue and allows the training to complete successfully.\n",
    "\n"
   ]
  },
  {
   "cell_type": "markdown",
   "id": "bc41d527",
   "metadata": {},
   "source": [
    "**Action (None)**:"
   ]
  },
  {
   "cell_type": "code",
   "execution_count": null,
   "id": "bb0fb09f",
   "metadata": {},
   "outputs": [
    {
     "data": {
      "text/plain": [
       "Thu Aug 22 04:52:23 UTC 2024, data: g-transformer, mode: train, exp_path: data, slang: en, tlang: de\nThu Aug 22 04:52:23 UTC 2024, run path: data/run-finetune\nThu Aug 22 04:52:23 UTC 2024, Training sentence-level model...\nThu Aug 22 04:52:40 UTC 2024, Training document-level model...\nLoad sentence model from data/run-finetune/g-transformer-sent.checkpoints.en-de/checkpoint_best.pt\nThu Aug 22 04:52:40 UTC 2024, Training model...\n"
      ]
     },
     "execution_count": null,
     "metadata": {},
     "output_type": "execute_result"
    }
   ],
   "source": [
    "!bash exp_gtrans/run-finetune.sh g-transformer train data"
   ]
  },
  {
   "cell_type": "markdown",
   "id": "b8ad4577",
   "metadata": {},
   "source": [
    "### Step 35"
   ]
  },
  {
   "cell_type": "markdown",
   "id": "26160a5e",
   "metadata": {},
   "source": [
    "Execution Start time: 04:53:03, End time: 04:58:03 (duration: 300 seconds)"
   ]
  },
  {
   "cell_type": "markdown",
   "id": "60a6d7f4",
   "metadata": {},
   "source": [
    "**Thought**: The training process has started again. We need to wait for it to complete to check the results. Once the training is finished, we can check the log files for the BLEU metrics. Let's monitor the log file for updates.\n",
    "\n"
   ]
  },
  {
   "cell_type": "markdown",
   "id": "011c4342",
   "metadata": {},
   "source": [
    "**Action (None)**:"
   ]
  },
  {
   "cell_type": "code",
   "execution_count": null,
   "id": "0233ad4a",
   "metadata": {},
   "outputs": [
    {
     "data": {
      "text/plain": [
       "2024-08-22 04:52:45 | INFO | fairseq.data.data_utils | loaded 2 examples from: data/g-transformer-doc.binarized.en-de/train.en-de.de\n2024-08-22 04:52:45 | INFO | fairseq.tasks.translation | data/g-transformer-doc.binarized.en-de train en-de 2 examples\n2024-08-22 04:52:45 | INFO | fairseq.data.doc_noise_dataset | DocNoiseDataset epoch 1: doc_noise_epochs=40, doc_noise_ratio=0.1\n2024-08-22 04:52:45 | INFO | fairseq.data.doc_noise_dataset | DocNoiseDataset epoch 1: doc_noise_epochs=40, doc_noise_ratio=0.1\n2024-08-22 04:52:45 | WARNING | fairseq.logging.progress_bar | tensorboard not found, please install with: pip install tensorboardX\n2024-08-22 04:52:49 | WARNING | fairseq.logging.progress_bar | tensorboard not found, please install with: pip install tensorboardX\n2024-08-22 04:52:58 | INFO | valid | epoch 001 | valid on 'valid' subset | loss 9.162 | nll_loss 9.158 | encoder_self_local 6.501 | encoder_self_global 8.119 | decoder_self_local 5.709 | decoder_self_global 7.254 | decoder_cross_local 6.551 | decoder_cross_global 8.122 | ppl 571.13 | wps 592.7 | wpb 2046.5 | bsz 5.5 | num_updates 1\n2024-08-22 04:53:00 | INFO | fairseq.checkpoint_utils | saved checkpoint data/run-finetune/g-transformer-doc.checkpoints.en-de/checkpoint_best.pt (epoch 1 @ 1 updates, score 9.162) (writing took 1.3527652439999827 seconds)\n2024-08-22 04:53:00 | INFO | train | epoch 001 | loss 9.182 | nll_loss 9.188 | encoder_self_local 5.817 | encoder_self_global 7.963 | decoder_self_local 4.796 | decoder_self_global 7.003 | decoder_cross_local 5.718 | decoder_cross_global 7.965 | ppl 583.26 | wps 0 | ups 0 | wpb 603 | bsz 2 | num_updates 1 | lr 1.25e-07 | gnorm 5.894 | train_wall 4 | wall 17\n2024-08-22 04:53:00 | INFO | fairseq_cli.train | done training in 15.2 seconds\n\n\nYour command has already run for 300 seconds. It is still running. You can continue to wait or interrupt it with \"action\": {\"type\": \"interrupt\"} or \"action\": {\"type\": \"continue_wait\"}"
      ]
     },
     "execution_count": null,
     "metadata": {},
     "output_type": "execute_result"
    }
   ],
   "source": [
    "!tail -f data/run-finetune/train.g-transformer-doc.en-de.log"
   ]
  },
  {
   "cell_type": "markdown",
   "id": "266ab504",
   "metadata": {},
   "source": [
    "### Step 36"
   ]
  },
  {
   "cell_type": "markdown",
   "id": "76158b06",
   "metadata": {},
   "source": [
    "Execution Start time: 04:58:06, End time: 04:58:06 (duration: 0 seconds)"
   ]
  },
  {
   "cell_type": "markdown",
   "id": "3edd45ed",
   "metadata": {},
   "source": [
    "**Thought**: The training process has completed successfully. Now, let's check the log file for the BLEU metrics. Since the training is done, we should look for the evaluation results in the log files.\n",
    "\n",
    "Let's try checking the `train.g-transformer-sent.en-de.log` file for any BLEU score outputs.\n",
    "\n"
   ]
  },
  {
   "cell_type": "markdown",
   "id": "17a65a34",
   "metadata": {},
   "source": [
    "**Action (None)**:"
   ]
  },
  {
   "cell_type": "code",
   "execution_count": null,
   "id": "1af0b78d",
   "metadata": {},
   "outputs": [
    {
     "data": {
      "text/plain": [
       "2024-08-22 04:52:26 | INFO | fairseq.trainer | loading train data for epoch 1\n2024-08-22 04:52:26 | INFO | fairseq.data.data_utils | loaded 14 examples from: data/g-transformer-sent.binarized.en-de/train.en-de.en\n2024-08-22 04:52:26 | INFO | fairseq.data.data_utils | loaded 14 examples from: data/g-transformer-sent.binarized.en-de/train.en-de.de\n2024-08-22 04:52:26 | INFO | fairseq.tasks.translation | data/g-transformer-sent.binarized.en-de train en-de 14 examples\n2024-08-22 04:52:27 | WARNING | fairseq.logging.progress_bar | tensorboard not found, please install with: pip install tensorboardX\n2024-08-22 04:52:31 | WARNING | fairseq.logging.progress_bar | tensorboard not found, please install with: pip install tensorboardX\n2024-08-22 04:52:38 | INFO | valid | epoch 001 | valid on 'valid' subset | loss 8.81 | nll_loss 8.79 | encoder_self_local 5.943 | encoder_self_global 0 | decoder_self_local 5.412 | decoder_self_global 0 | decoder_cross_local 5.952 | decoder_cross_global 0 | ppl 442.58 | wps 575.4 | wpb 2064.5 | bsz 23.5 | num_updates 1\n2024-08-22 04:52:39 | INFO | fairseq.checkpoint_utils | saved checkpoint data/run-finetune/g-transformer-sent.checkpoints.en-de/checkpoint_best.pt (epoch 1 @ 1 updates, score 8.81) (writing took 0.956444710999989 seconds)\n2024-08-22 04:52:39 | INFO | train | epoch 001 | loss 8.802 | nll_loss 8.798 | encoder_self_local 5.018 | encoder_self_global 0 | decoder_self_local 4.469 | decoder_self_global 0 | decoder_cross_local 5.029 | decoder_cross_global 0 | ppl 445.24 | wps 0 | ups 0 | wpb 615 | bsz 14 | num_updates 1 | lr 1.25e-07 | gnorm 5.824 | train_wall 4 | wall 13\n2024-08-22 04:52:39 | INFO | fairseq_cli.train | done training in 11.8 seconds\n"
      ]
     },
     "execution_count": null,
     "metadata": {},
     "output_type": "execute_result"
    }
   ],
   "source": [
    "!tail data/run-finetune/train.g-transformer-sent.en-de.log"
   ]
  },
  {
   "cell_type": "markdown",
   "id": "41df9368",
   "metadata": {},
   "source": [
    "### Step 37"
   ]
  },
  {
   "cell_type": "markdown",
   "id": "37cfd4a0",
   "metadata": {},
   "source": [
    "Execution Start time: 04:58:08, End time: 04:58:09 (duration: 0 seconds)"
   ]
  },
  {
   "cell_type": "markdown",
   "id": "84d98d6d",
   "metadata": {},
   "source": [
    "**Thought**: The log file does not contain the BLEU metrics. It seems like the BLEU evaluation might be conducted separately or logged in a different file. Let's check the `train.g-transformer-doc.en-de.log` file for any BLEU score outputs.\n",
    "\n"
   ]
  },
  {
   "cell_type": "markdown",
   "id": "65b32def",
   "metadata": {},
   "source": [
    "**Action (None)**:"
   ]
  },
  {
   "cell_type": "code",
   "execution_count": null,
   "id": "e4caaa10",
   "metadata": {},
   "outputs": [
    {
     "data": {
      "text/plain": [
       "2024-08-22 04:52:45 | INFO | fairseq.data.data_utils | loaded 2 examples from: data/g-transformer-doc.binarized.en-de/train.en-de.de\n2024-08-22 04:52:45 | INFO | fairseq.tasks.translation | data/g-transformer-doc.binarized.en-de train en-de 2 examples\n2024-08-22 04:52:45 | INFO | fairseq.data.doc_noise_dataset | DocNoiseDataset epoch 1: doc_noise_epochs=40, doc_noise_ratio=0.1\n2024-08-22 04:52:45 | INFO | fairseq.data.doc_noise_dataset | DocNoiseDataset epoch 1: doc_noise_epochs=40, doc_noise_ratio=0.1\n2024-08-22 04:52:45 | WARNING | fairseq.logging.progress_bar | tensorboard not found, please install with: pip install tensorboardX\n2024-08-22 04:52:49 | WARNING | fairseq.logging.progress_bar | tensorboard not found, please install with: pip install tensorboardX\n2024-08-22 04:52:58 | INFO | valid | epoch 001 | valid on 'valid' subset | loss 9.162 | nll_loss 9.158 | encoder_self_local 6.501 | encoder_self_global 8.119 | decoder_self_local 5.709 | decoder_self_global 7.254 | decoder_cross_local 6.551 | decoder_cross_global 8.122 | ppl 571.13 | wps 592.7 | wpb 2046.5 | bsz 5.5 | num_updates 1\n2024-08-22 04:53:00 | INFO | fairseq.checkpoint_utils | saved checkpoint data/run-finetune/g-transformer-doc.checkpoints.en-de/checkpoint_best.pt (epoch 1 @ 1 updates, score 9.162) (writing took 1.3527652439999827 seconds)\n2024-08-22 04:53:00 | INFO | train | epoch 001 | loss 9.182 | nll_loss 9.188 | encoder_self_local 5.817 | encoder_self_global 7.963 | decoder_self_local 4.796 | decoder_self_global 7.003 | decoder_cross_local 5.718 | decoder_cross_global 7.965 | ppl 583.26 | wps 0 | ups 0 | wpb 603 | bsz 2 | num_updates 1 | lr 1.25e-07 | gnorm 5.894 | train_wall 4 | wall 17\n2024-08-22 04:53:00 | INFO | fairseq_cli.train | done training in 15.2 seconds\n"
      ]
     },
     "execution_count": null,
     "metadata": {},
     "output_type": "execute_result"
    }
   ],
   "source": [
    "!tail data/run-finetune/train.g-transformer-doc.en-de.log"
   ]
  },
  {
   "cell_type": "markdown",
   "id": "fbc4ee47",
   "metadata": {},
   "source": [
    "### Step 38"
   ]
  },
  {
   "cell_type": "markdown",
   "id": "ded3d95f",
   "metadata": {},
   "source": [
    "Execution Start time: 04:58:10, End time: 04:58:12 (duration: 1 seconds)"
   ]
  },
  {
   "cell_type": "markdown",
   "id": "0324b68e",
   "metadata": {},
   "source": [
    "**Thought**: The log files do not contain the BLEU metrics. It seems like the BLEU evaluation might need to be conducted separately after training. Let's check if there is a specific script or command for evaluating BLEU scores in the repository.\n",
    "\n",
    "I'll search for any mention of BLEU evaluation in the repository files.\n",
    "\n"
   ]
  },
  {
   "cell_type": "markdown",
   "id": "8aff1cad",
   "metadata": {},
   "source": [
    "**Action (search_dir)**:"
   ]
  },
  {
   "cell_type": "code",
   "execution_count": null,
   "id": "25acde5e",
   "metadata": {},
   "outputs": [
    {
     "data": {
      "text/plain": [
       "Found 507 matches for \"BLEU\" in /content/g-transformer:\n/content/g-transformer/docs/command_line_tools.rst (1 matches)\n/content/g-transformer/docs/tutorial_simple_lstm.rst (4 matches)\n/content/g-transformer/examples/backtranslation/README.md (11 matches)\n/content/g-transformer/examples/byte_level_bpe/README.md (1 matches)\n/content/g-transformer/examples/layerdrop/README.md (1 matches)\n/content/g-transformer/examples/noisychannel/rerank_utils.py (1 matches)\n/content/g-transformer/examples/nonautoregressive_translation/README.md (1 matches)\n/content/g-transformer/examples/pay_less_attention_paper/README.md (1 matches)\n/content/g-transformer/examples/scaling_nmt/README.md (1 matches)\n/content/g-transformer/examples/simultaneous_translation/docs/evaluation.md (2 matches)\n/content/g-transformer/examples/simultaneous_translation/eval/scorers/scorer.py (3 matches)\n/content/g-transformer/examples/translation/README.md (3 matches)\n/content/g-transformer/examples/translation_moe/README.md (3 matches)\n/content/g-transformer/examples/translation_moe/score.py (6 matches)\n/content/g-transformer/fairseq/bleu.py (3 matches)\n/content/g-transformer/fairseq/tasks/translation.py (10 matches)\n/content/g-transformer/fairseq_cli/generate.py (3 matches)\n/content/g-transformer/fairseq_cli/score.py (3 matches)\n/content/g-transformer/mosesdecoder/contrib/expected-bleu-training/ExpectedBleuOptimizer.cpp (1 matches)\n/content/g-transformer/mosesdecoder/contrib/expected-bleu-training/TrainExpectedBleu.cpp (16 matches)\n/content/g-transformer/mosesdecoder/contrib/m4m/modules/obsolete/reporting.m4m (1 matches)\n/content/g-transformer/mosesdecoder/contrib/mert-moses-multi.pl (4 matches)\n/content/g-transformer/mosesdecoder/contrib/mert-sge-nosync/training/mert-moses-sge-nosync.pl (3 matches)\n/content/g-transformer/mosesdecoder/contrib/mert-sge-nosync/training/sge-nosync/create-config-sge-nosync.pl (1 matches)\n/content/g-transformer/mosesdecoder/contrib/mert-sge-nosync/training/sge-nosync/process-moses-result-sge-nosync.pl (3 matches)\n/content/g-transformer/mosesdecoder/contrib/mert-sge-nosync/training/sge-nosync/zipextract-decoder-result.pl (2 matches)\n/content/g-transformer/mosesdecoder/contrib/mira/Main.cpp (10 matches)\n/content/g-transformer/mosesdecoder/contrib/mira/MiraOptimiser.cpp (2 matches)\n/content/g-transformer/mosesdecoder/contrib/mira/Optimiser.h (2 matches)\n/content/g-transformer/mosesdecoder/contrib/mira/training-expt.perl (3 matches)\n/content/g-transformer/mosesdecoder/contrib/promix/test_data/test.nbest.scores (1 matches)\n/content/g-transformer/mosesdecoder/contrib/relent-filter/src/LatticeMBR.cpp (5 matches)\n/content/g-transformer/mosesdecoder/contrib/relent-filter/src/mbr.cpp (7 matches)\n/content/g-transformer/mosesdecoder/contrib/zmert-moses.pl (18 matches)\n/content/g-transformer/mosesdecoder/cruise-control/config.ems (1 matches)\n/content/g-transformer/mosesdecoder/mert/BleuDocScorer.cpp (1 matches)\n/content/g-transformer/mosesdecoder/mert/BleuDocScorer.h (3 matches)\n/content/g-transformer/mosesdecoder/mert/BleuScorer.cpp (2 matches)\n/content/g-transformer/mosesdecoder/mert/BleuScorer.h (2 matches)\n/content/g-transformer/mosesdecoder/mert/DataTest.cpp (3 matches)\n/content/g-transformer/mosesdecoder/mert/HopeFearDecoder.cpp (5 matches)\n/content/g-transformer/mosesdecoder/mert/InterpolatedScorer.cpp (1 matches)\n/content/g-transformer/mosesdecoder/mert/InterpolatedScorer.h (2 matches)\n/content/g-transformer/mosesdecoder/mert/Optimizer.cpp (1 matches)\n/content/g-transformer/mosesdecoder/mert/PermutationScorer.h (1 matches)\n/content/g-transformer/mosesdecoder/mert/Reference.h (1 matches)\n/content/g-transformer/mosesdecoder/mert/ScorerFactory.cpp (4 matches)\n/content/g-transformer/mosesdecoder/mert/StatisticsBasedScorer.h (1 matches)\n/content/g-transformer/mosesdecoder/mert/Vocabulary.h (1 matches)\n/content/g-transformer/mosesdecoder/mert/evaluator.cpp (4 matches)\n/content/g-transformer/mosesdecoder/mert/example/gzipped_test.sh (3 matches)\n/content/g-transformer/mosesdecoder/mert/example/memcheck_extractor.sh (1 matches)\n/content/g-transformer/mosesdecoder/mert/example/memcheck_mert.sh (1 matches)\n/content/g-transformer/mosesdecoder/mert/example/normal_test.sh (4 matches)\n/content/g-transformer/mosesdecoder/mert/extractor.cpp (2 matches)\n/content/g-transformer/mosesdecoder/mert/kbmira.cpp (15 matches)\n/content/g-transformer/mosesdecoder/mert/mert.cpp (2 matches)\n/content/g-transformer/mosesdecoder/moses/FF/BleuScoreFeature.cpp (6 matches)\n/content/g-transformer/mosesdecoder/moses/FF/BleuScoreFeature.h (1 matches)\n/content/g-transformer/mosesdecoder/moses/FF/VW/TrainingLoss.h (6 matches)\n/content/g-transformer/mosesdecoder/moses/FF/VW/VW.cpp (1 matches)\n/content/g-transformer/mosesdecoder/moses/LatticeMBR.cpp (5 matches)\n/content/g-transformer/mosesdecoder/moses/Parameter.cpp (1 matches)\n/content/g-transformer/mosesdecoder/moses/mbr.cpp (7 matches)\n/content/g-transformer/mosesdecoder/moses2/legacy/Parameter.cpp (1 matches)\n/content/g-transformer/mosesdecoder/scripts/README (1 matches)\n/content/g-transformer/mosesdecoder/scripts/analysis/README (1 matches)\n/content/g-transformer/mosesdecoder/scripts/analysis/bootstrap-hypothesis-difference-significance.pl (1 matches)\n/content/g-transformer/mosesdecoder/scripts/analysis/sentence-by-sentence.pl (18 matches)\n/content/g-transformer/mosesdecoder/scripts/analysis/smtgui/Corpus.pm (33 matches)\n/content/g-transformer/mosesdecoder/scripts/analysis/smtgui/newsmtgui.cgi (28 matches)\n/content/g-transformer/mosesdecoder/scripts/analysis/weight-scan-summarize.sh (1 matches)\n/content/g-transformer/mosesdecoder/scripts/analysis/weight-scan.pl (1 matches)\n/content/g-transformer/mosesdecoder/scripts/ems/example/config.basic (1 matches)\n/content/g-transformer/mosesdecoder/scripts/ems/example/config.basic.moses2 (1 matches)\n/content/g-transformer/mosesdecoder/scripts/ems/example/config.factored (1 matches)\n/content/g-transformer/mosesdecoder/scripts/ems/example/config.hierarchical (1 matches)\n/content/g-transformer/mosesdecoder/scripts/ems/example/config.syntax (1 matches)\n/content/g-transformer/mosesdecoder/scripts/ems/example/config.toy (1 matches)\n/content/g-transformer/mosesdecoder/scripts/ems/example/config.toy.bilinguallm (1 matches)\n/content/g-transformer/mosesdecoder/scripts/ems/example/data/config.hierarchical (1 matches)\n/content/g-transformer/mosesdecoder/scripts/ems/experiment.perl (4 matches)\n/content/g-transformer/mosesdecoder/scripts/ems/support/report-experiment-scores.perl (17 matches)\n/content/g-transformer/mosesdecoder/scripts/ems/web/analysis.php (1 matches)\n/content/g-transformer/mosesdecoder/scripts/ems/web/analysis_diff.php (1 matches)\n/content/g-transformer/mosesdecoder/scripts/ems/web/overview.php (2 matches)\n/content/g-transformer/mosesdecoder/scripts/generic/bsbleu.py (3 matches)\n/content/g-transformer/mosesdecoder/scripts/generic/mteval-v11b.pl (25 matches)\n/content/g-transformer/mosesdecoder/scripts/generic/mteval-v12.pl (25 matches)\n/content/g-transformer/mosesdecoder/scripts/generic/mteval-v13a.pl (48 matches)\n/content/g-transformer/mosesdecoder/scripts/generic/mteval-v14.pl (48 matches)\n/content/g-transformer/mosesdecoder/scripts/generic/multi-bleu-detok.perl (2 matches)\n/content/g-transformer/mosesdecoder/scripts/generic/multi-bleu.perl (2 matches)\n/content/g-transformer/mosesdecoder/scripts/nbest-rescore/train.py (1 matches)\n/content/g-transformer/mosesdecoder/scripts/regression-testing/tests/mert-moses-new-continue/data/run5.mert.log (2 matches)\n/content/g-transformer/mosesdecoder/scripts/training/mert-moses.pl (7 matches)\n/content/g-transformer/scripts/compound_split_bleu.sh (1 matches)\nEnd of matches for \"BLEU\" in /content/g-transformer\n"
      ]
     },
     "execution_count": null,
     "metadata": {},
     "output_type": "execute_result"
    }
   ],
   "source": [
    "search_dir \"BLEU\" /content/g-transformer"
   ]
  },
  {
   "cell_type": "markdown",
   "id": "cd0a77b4",
   "metadata": {},
   "source": [
    "### Step 39"
   ]
  },
  {
   "cell_type": "markdown",
   "id": "1dc7c6e4",
   "metadata": {},
   "source": [
    "Execution Start time: 04:58:15, End time: 04:58:15 (duration: 0 seconds)"
   ]
  },
  {
   "cell_type": "markdown",
   "id": "35422fcf",
   "metadata": {},
   "source": [
    "**Thought**: The search results show multiple references to BLEU in various files, including some in the `fairseq_cli` directory, which might be relevant for evaluation. Let's specifically check the `generate.py` and `score.py` files in the `fairseq_cli` directory, as they might contain scripts or functions related to BLEU score evaluation.\n",
    "\n",
    "First, let's open `generate.py` to see if it contains any relevant BLEU evaluation code.\n",
    "\n"
   ]
  },
  {
   "cell_type": "markdown",
   "id": "d5fcd130",
   "metadata": {},
   "source": [
    "**Action (open)**:"
   ]
  },
  {
   "cell_type": "code",
   "execution_count": null,
   "id": "be19dad1",
   "metadata": {},
   "outputs": [
    {
     "data": {
      "text/plain": [
       "[File: /content/g-transformer/fairseq_cli/generate.py (356 lines total)]\n1:#!/usr/bin/env python3 -u\n2:# Guangsheng Bao: changed on 2020/10/3\n3:#\n4:# Copyright (c) Facebook, Inc. and its affiliates.\n5:#\n6:# This source code is licensed under the MIT license found in the\n7:# LICENSE file in the root directory of this source tree.\n8:\"\"\"\n9:Translate pre-processed data with a trained model.\n10:\"\"\"\n11:\n12:import logging\n13:import math\n14:import os\n15:import sys\n16:import numpy as np\n17:import torch\n18:\n19:from fairseq import bleu, checkpoint_utils, options, tasks, utils\n20:from fairseq.logging import progress_bar\n21:from fairseq.logging.meters import StopwatchMeter, TimeMeter\n22:from fairseq.data import encoders\n23:from utils import remove_seps, save_lines\n24:from fairseq.criterions.cross_entropy import CrossEntropyCriterion\n25:from fairseq.data import data_utils\n26:\n27:def main(args):\n28:    assert args.path is not None, '--path required for generation!'\n29:    assert not args.sampling or args.nbest == args.beam, \\\n30:        '--sampling requires --nbest to be equal to --beam'\n31:    assert args.replace_unk is None or args.dataset_impl == 'raw', \\\n32:        '--replace-unk requires a raw text dataset (--dataset-impl=raw)'\n33:\n34:    if args.results_path is not None:\n35:        os.makedirs(args.results_path, exist_ok=True)\n36:        output_path = os.path.join(args.results_path, 'generate-{}.txt'.format(args.gen_subset))\n37:        with open(output_path, 'w', buffering=1) as h:\n38:            return _main(args, h)\n39:    else:\n40:        return _main(args, sys.stdout)\n41:\n42:def _main(args, output_file):\n43:    logging.basicConfig(\n44:        format='%(asctime)s | %(levelname)s | %(name)s | %(message)s',\n45:        datefmt='%Y-%m-%d %H:%M:%S',\n46:        level=logging.INFO,\n47:        stream=output_file,\n48:    )\n49:    logger = logging.getLogger('fairseq_cli.generate')\n50:\n51:    utils.import_user_module(args)\n52:\n53:    if args.max_tokens is None and args.max_sentences is None:\n54:        args.max_tokens = 12000\n55:    logger.info(args)\n56:\n57:    use_cuda = torch.cuda.is_available() and not args.cpu\n58:\n59:    # Load dataset splits\n60:    task = tasks.setup_task(args)\n61:    task.load_dataset(args.gen_subset)\n62:\n63:    # Set dictionaries\n64:    try:\n65:        src_dict = getattr(task, 'source_dictionary', None)\n66:    except NotImplementedError:\n67:        src_dict = None\n68:    tgt_dict = task.target_dictionary\n69:\n70:    # Load ensemble\n71:    logger.info('loading model(s) from {}'.format(args.path))\n72:    arg_overrides = eval(args.model_overrides)\n73:    # arg_overrides['doc_mode'] = args.doc_mode\n74:    models, _model_args = checkpoint_utils.load_model_ensemble(\n75:        utils.split_paths(args.path),\n76:        arg_overrides=arg_overrides,\n77:        task=task,\n78:        suffix=getattr(args, \"checkpoint_suffix\", \"\"),\n79:        strict=not getattr(args, \"load_partial\", False),\n80:    )\n81:\n82:    # Optimize ensemble for generation\n83:    for model in models:\n84:        model.make_generation_fast_(\n85:            beamable_mm_beam_size=None if args.no_beamable_mm else args.beam,\n86:            need_attn=args.print_alignment,\n87:        )\n88:        if args.fp16:\n89:            model.half()\n90:        if use_cuda:\n91:            model.cuda()\n92:\n93:    # Load alignment dictionary for unknown word replacement\n94:    # (None if no unknown word replacement, empty if no path to align dictionary)\n95:    align_dict = utils.load_align_dict(args.replace_unk)\n96:\n97:    # Load dataset (possibly sharded)\n98:    itr = task.get_batch_iterator(\n99:        dataset=task.dataset(args.gen_subset),\n100:        max_tokens=args.max_tokens,\n(256 more lines below)\n"
      ]
     },
     "execution_count": null,
     "metadata": {},
     "output_type": "execute_result"
    }
   ],
   "source": [
    "open /content/g-transformer/fairseq_cli/generate.py"
   ]
  },
  {
   "cell_type": "markdown",
   "id": "20e260fb",
   "metadata": {},
   "source": [
    "### Step 40"
   ]
  },
  {
   "cell_type": "markdown",
   "id": "b7bbd321",
   "metadata": {},
   "source": [
    "Execution Start time: 04:58:17, End time: 04:58:18 (duration: 0 seconds)"
   ]
  },
  {
   "cell_type": "markdown",
   "id": "5b0bdd59",
   "metadata": {},
   "source": [
    "**Thought**: The `generate.py` file is responsible for translating pre-processed data with a trained model and includes references to BLEU scoring. This file likely contains the functionality needed to evaluate BLEU scores after model training.\n",
    "\n",
    "Let's search for the specific function or section in this file that handles BLEU score calculation.\n",
    "\n"
   ]
  },
  {
   "cell_type": "markdown",
   "id": "6260390d",
   "metadata": {},
   "source": [
    "**Action (search_file)**:"
   ]
  },
  {
   "cell_type": "code",
   "execution_count": null,
   "id": "67ce0ce9",
   "metadata": {},
   "outputs": [
    {
     "data": {
      "text/plain": [
       "Found 7 matches for \"bleu\" in /content/g-transformer/fairseq_cli/generate.py:\nLine 19:from fairseq import bleu, checkpoint_utils, options, tasks, utils\nLine 135:        if args.sacrebleu:\nLine 136:            scorer = bleu.SacrebleuScorer()\nLine 138:            scorer = bleu.Scorer(tgt_dict.pad(), tgt_dict.eos(), tgt_dict.unk())\nLine 319:        if args.bpe and not args.sacrebleu:\nLine 321:                logger.warning(\"BLEU score is being computed by splitting detokenized string on spaces, this is probably not what you want. Use --sacrebleu for standard 13a BLEU tokenization\")\nLine 323:                logger.warning(\"If you are using BPE on the target side, the BLEU score is computed on BPE tokens, not on proper words.  Use --sacrebleu for standard 13a BLEU tokenization\")\nEnd of matches for \"bleu\" in /content/g-transformer/fairseq_cli/generate.py\n"
      ]
     },
     "execution_count": null,
     "metadata": {},
     "output_type": "execute_result"
    }
   ],
   "source": [
    "search_file \"bleu\" /content/g-transformer/fairseq_cli/generate.py"
   ]
  },
  {
   "cell_type": "markdown",
   "id": "38306670",
   "metadata": {},
   "source": [
    "### Step 41"
   ]
  },
  {
   "cell_type": "markdown",
   "id": "dcf8e86f",
   "metadata": {},
   "source": [
    "Execution Start time: 04:58:20, End time: 04:58:24 (duration: 4 seconds)"
   ]
  },
  {
   "cell_type": "markdown",
   "id": "1aa726b5",
   "metadata": {},
   "source": [
    "**Thought**: The `generate.py` file imports a `bleu` module and uses it to calculate BLEU scores, with options for using `sacrebleu`. This suggests that running the `generate.py` script with the appropriate arguments could provide the BLEU scores we need.\n",
    "\n",
    "Let's try running the `generate.py` script to evaluate the BLEU scores for our trained model. We will need to specify the model checkpoint and the dataset for evaluation.\n",
    "\n"
   ]
  },
  {
   "cell_type": "markdown",
   "id": "e3970f58",
   "metadata": {},
   "source": [
    "**Action (None)**:"
   ]
  },
  {
   "cell_type": "code",
   "execution_count": null,
   "id": "f0ab37fd",
   "metadata": {},
   "outputs": [
    {
     "data": {
      "text/plain": [
       "Traceback (most recent call last):\n  File \"/content/g-transformer/fairseq_cli/generate.py\", line 23, in <module>\n    from utils import remove_seps, save_lines\nModuleNotFoundError: No module named 'utils'\n"
      ]
     },
     "execution_count": null,
     "metadata": {},
     "output_type": "execute_result"
    }
   ],
   "source": [
    "!python fairseq_cli/generate.py data/g-transformer-doc.binarized.en-de --path data/run-finetune/g-transformer-doc.checkpoints.en-de/checkpoint_best.pt --beam 5 --remove-bpe --sacrebleu"
   ]
  },
  {
   "cell_type": "markdown",
   "id": "4f4d2d4d",
   "metadata": {},
   "source": [
    "### Step 42"
   ]
  },
  {
   "cell_type": "markdown",
   "id": "9e0b54dd",
   "metadata": {},
   "source": [
    "Execution Start time: 04:58:26, End time: 04:58:26 (duration: 0 seconds)"
   ]
  },
  {
   "cell_type": "markdown",
   "id": "7ba41ba8",
   "metadata": {},
   "source": [
    "**Thought**: The error indicates that the `utils` module is not found. This might be due to an incorrect import path or missing module. Let's check the `generate.py` file to see how the `utils` module is being imported and correct the import path if necessary.\n",
    "\n"
   ]
  },
  {
   "cell_type": "markdown",
   "id": "41161252",
   "metadata": {},
   "source": [
    "**Action (open)**:"
   ]
  },
  {
   "cell_type": "code",
   "execution_count": null,
   "id": "ab538228",
   "metadata": {},
   "outputs": [
    {
     "data": {
      "text/plain": [
       "[File: /content/g-transformer/fairseq_cli/generate.py (356 lines total)]\n1:#!/usr/bin/env python3 -u\n2:# Guangsheng Bao: changed on 2020/10/3\n3:#\n4:# Copyright (c) Facebook, Inc. and its affiliates.\n5:#\n6:# This source code is licensed under the MIT license found in the\n7:# LICENSE file in the root directory of this source tree.\n8:\"\"\"\n9:Translate pre-processed data with a trained model.\n10:\"\"\"\n11:\n12:import logging\n13:import math\n14:import os\n15:import sys\n16:import numpy as np\n17:import torch\n18:\n19:from fairseq import bleu, checkpoint_utils, options, tasks, utils\n20:from fairseq.logging import progress_bar\n21:from fairseq.logging.meters import StopwatchMeter, TimeMeter\n22:from fairseq.data import encoders\n23:from utils import remove_seps, save_lines\n24:from fairseq.criterions.cross_entropy import CrossEntropyCriterion\n25:from fairseq.data import data_utils\n26:\n27:def main(args):\n28:    assert args.path is not None, '--path required for generation!'\n29:    assert not args.sampling or args.nbest == args.beam, \\\n30:        '--sampling requires --nbest to be equal to --beam'\n31:    assert args.replace_unk is None or args.dataset_impl == 'raw', \\\n32:        '--replace-unk requires a raw text dataset (--dataset-impl=raw)'\n33:\n34:    if args.results_path is not None:\n35:        os.makedirs(args.results_path, exist_ok=True)\n36:        output_path = os.path.join(args.results_path, 'generate-{}.txt'.format(args.gen_subset))\n37:        with open(output_path, 'w', buffering=1) as h:\n38:            return _main(args, h)\n39:    else:\n40:        return _main(args, sys.stdout)\n41:\n42:def _main(args, output_file):\n43:    logging.basicConfig(\n44:        format='%(asctime)s | %(levelname)s | %(name)s | %(message)s',\n45:        datefmt='%Y-%m-%d %H:%M:%S',\n46:        level=logging.INFO,\n47:        stream=output_file,\n48:    )\n49:    logger = logging.getLogger('fairseq_cli.generate')\n50:\n51:    utils.import_user_module(args)\n52:\n53:    if args.max_tokens is None and args.max_sentences is None:\n54:        args.max_tokens = 12000\n55:    logger.info(args)\n56:\n57:    use_cuda = torch.cuda.is_available() and not args.cpu\n58:\n59:    # Load dataset splits\n60:    task = tasks.setup_task(args)\n61:    task.load_dataset(args.gen_subset)\n62:\n63:    # Set dictionaries\n64:    try:\n65:        src_dict = getattr(task, 'source_dictionary', None)\n66:    except NotImplementedError:\n67:        src_dict = None\n68:    tgt_dict = task.target_dictionary\n69:\n70:    # Load ensemble\n71:    logger.info('loading model(s) from {}'.format(args.path))\n72:    arg_overrides = eval(args.model_overrides)\n73:    # arg_overrides['doc_mode'] = args.doc_mode\n74:    models, _model_args = checkpoint_utils.load_model_ensemble(\n75:        utils.split_paths(args.path),\n76:        arg_overrides=arg_overrides,\n77:        task=task,\n78:        suffix=getattr(args, \"checkpoint_suffix\", \"\"),\n79:        strict=not getattr(args, \"load_partial\", False),\n80:    )\n81:\n82:    # Optimize ensemble for generation\n83:    for model in models:\n84:        model.make_generation_fast_(\n85:            beamable_mm_beam_size=None if args.no_beamable_mm else args.beam,\n86:            need_attn=args.print_alignment,\n87:        )\n88:        if args.fp16:\n89:            model.half()\n90:        if use_cuda:\n91:            model.cuda()\n92:\n93:    # Load alignment dictionary for unknown word replacement\n94:    # (None if no unknown word replacement, empty if no path to align dictionary)\n95:    align_dict = utils.load_align_dict(args.replace_unk)\n96:\n97:    # Load dataset (possibly sharded)\n98:    itr = task.get_batch_iterator(\n99:        dataset=task.dataset(args.gen_subset),\n100:        max_tokens=args.max_tokens,\n(256 more lines below)\n"
      ]
     },
     "execution_count": null,
     "metadata": {},
     "output_type": "execute_result"
    }
   ],
   "source": [
    "open /content/g-transformer/fairseq_cli/generate.py"
   ]
  },
  {
   "cell_type": "markdown",
   "id": "8c42f59e",
   "metadata": {},
   "source": [
    "### Step 43"
   ]
  },
  {
   "cell_type": "markdown",
   "id": "40cfb922",
   "metadata": {},
   "source": [
    "Execution Start time: 04:58:28, End time: 04:58:29 (duration: 0 seconds)"
   ]
  },
  {
   "cell_type": "markdown",
   "id": "86018176",
   "metadata": {},
   "source": [
    "**Thought**: The `generate.py` file is attempting to import `remove_seps` and `save_lines` from a `utils` module, which is not found. This might be a local utility module that is missing or incorrectly referenced. Let's search the repository for these functions to locate the correct module or file.\n",
    "\n"
   ]
  },
  {
   "cell_type": "markdown",
   "id": "34b031d2",
   "metadata": {},
   "source": [
    "**Action (search_dir)**:"
   ]
  },
  {
   "cell_type": "code",
   "execution_count": null,
   "id": "6d5aaa6a",
   "metadata": {},
   "outputs": [
    {
     "data": {
      "text/plain": [
       "Found 1 matches for \"def remove_seps\" in /content/g-transformer:\n/content/g-transformer/utils.py (1 matches)\nEnd of matches for \"def remove_seps\" in /content/g-transformer\n"
      ]
     },
     "execution_count": null,
     "metadata": {},
     "output_type": "execute_result"
    }
   ],
   "source": [
    "search_dir \"def remove_seps\" /content/g-transformer"
   ]
  },
  {
   "cell_type": "markdown",
   "id": "4ea425ea",
   "metadata": {},
   "source": [
    "### Step 44"
   ]
  },
  {
   "cell_type": "markdown",
   "id": "1e23a076",
   "metadata": {},
   "source": [
    "Execution Start time: 04:58:31, End time: 04:58:32 (duration: 0 seconds)"
   ]
  },
  {
   "cell_type": "markdown",
   "id": "5c18a2a8",
   "metadata": {},
   "source": [
    "**Thought**: The `remove_seps` function is defined in the `utils.py` file located in the root directory of the repository. This suggests that the `generate.py` file should import from `utils` in the root directory.\n",
    "\n",
    "Let's update the import statement in `generate.py` to correctly import from the `utils.py` file in the root directory.\n",
    "\n"
   ]
  },
  {
   "cell_type": "markdown",
   "id": "d4590042",
   "metadata": {},
   "source": [
    "**Action (edit)**:"
   ]
  },
  {
   "cell_type": "code",
   "execution_count": null,
   "id": "86f7c5c9",
   "metadata": {},
   "outputs": [
    {
     "data": {
      "text/plain": [
       "[File: /content/g-transformer/fairseq_cli/generate.py (356 lines total)]\n1:#!/usr/bin/env python3 -u\n2:# Guangsheng Bao: changed on 2020/10/3\n3:#\n4:# Copyright (c) Facebook, Inc. and its affiliates.\n5:#\n6:# This source code is licensed under the MIT license found in the\n7:# LICENSE file in the root directory of this source tree.\n8:\"\"\"\n9:Translate pre-processed data with a trained model.\n10:\"\"\"\n11:\n12:import logging\n13:import math\n14:import os\n15:import sys\n16:import numpy as np\n17:import torch\n18:\n19:from fairseq import bleu, checkpoint_utils, options, tasks, utils\n20:from fairseq.logging import progress_bar\n21:from fairseq.logging.meters import StopwatchMeter, TimeMeter\n22:from fairseq.data import encoders\n23:from ..utils import remove_seps, save_lines\n24:from fairseq.criterions.cross_entropy import CrossEntropyCriterion\n25:from fairseq.data import data_utils\n26:\n27:def main(args):\n28:    assert args.path is not None, '--path required for generation!'\n29:    assert not args.sampling or args.nbest == args.beam, \\\n30:        '--sampling requires --nbest to be equal to --beam'\n31:    assert args.replace_unk is None or args.dataset_impl == 'raw', \\\n32:        '--replace-unk requires a raw text dataset (--dataset-impl=raw)'\n33:\n34:    if args.results_path is not None:\n35:        os.makedirs(args.results_path, exist_ok=True)\n36:        output_path = os.path.join(args.results_path, 'generate-{}.txt'.format(args.gen_subset))\n37:        with open(output_path, 'w', buffering=1) as h:\n38:            return _main(args, h)\n39:    else:\n40:        return _main(args, sys.stdout)\n41:\n42:def _main(args, output_file):\n43:    logging.basicConfig(\n44:        format='%(asctime)s | %(levelname)s | %(name)s | %(message)s',\n45:        datefmt='%Y-%m-%d %H:%M:%S',\n46:        level=logging.INFO,\n47:        stream=output_file,\n48:    )\n49:    logger = logging.getLogger('fairseq_cli.generate')\n50:\n51:    utils.import_user_module(args)\n52:\n53:    if args.max_tokens is None and args.max_sentences is None:\n54:        args.max_tokens = 12000\n55:    logger.info(args)\n56:\n57:    use_cuda = torch.cuda.is_available() and not args.cpu\n58:\n59:    # Load dataset splits\n60:    task = tasks.setup_task(args)\n61:    task.load_dataset(args.gen_subset)\n62:\n63:    # Set dictionaries\n64:    try:\n65:        src_dict = getattr(task, 'source_dictionary', None)\n66:    except NotImplementedError:\n67:        src_dict = None\n68:    tgt_dict = task.target_dictionary\n69:\n70:    # Load ensemble\n71:    logger.info('loading model(s) from {}'.format(args.path))\n72:    arg_overrides = eval(args.model_overrides)\n73:    # arg_overrides['doc_mode'] = args.doc_mode\n74:    models, _model_args = checkpoint_utils.load_model_ensemble(\n75:        utils.split_paths(args.path),\n76:        arg_overrides=arg_overrides,\n77:        task=task,\n78:        suffix=getattr(args, \"checkpoint_suffix\", \"\"),\n79:        strict=not getattr(args, \"load_partial\", False),\n80:    )\n81:\n82:    # Optimize ensemble for generation\n83:    for model in models:\n84:        model.make_generation_fast_(\n85:            beamable_mm_beam_size=None if args.no_beamable_mm else args.beam,\n86:            need_attn=args.print_alignment,\n87:        )\n88:        if args.fp16:\n89:            model.half()\n90:        if use_cuda:\n91:            model.cuda()\n92:\n93:    # Load alignment dictionary for unknown word replacement\n94:    # (None if no unknown word replacement, empty if no path to align dictionary)\n95:    align_dict = utils.load_align_dict(args.replace_unk)\n96:\n97:    # Load dataset (possibly sharded)\n98:    itr = task.get_batch_iterator(\n99:        dataset=task.dataset(args.gen_subset),\n100:        max_tokens=args.max_tokens,\n(256 more lines below)\nFile updated. Please review the changes and make sure they are correct (correct indentation, no duplicate lines, etc). Edit the file again if necessary.\n"
      ]
     },
     "execution_count": null,
     "metadata": {},
     "output_type": "execute_result"
    }
   ],
   "source": [
    "edit 23:23\n",
    "from ..utils import remove_seps, save_lines\n",
    "end_of_edit"
   ]
  },
  {
   "cell_type": "markdown",
   "id": "d968985d",
   "metadata": {},
   "source": [
    "### Step 45"
   ]
  },
  {
   "cell_type": "markdown",
   "id": "847dabaa",
   "metadata": {},
   "source": [
    "Execution Start time: 04:58:34, End time: 04:58:37 (duration: 3 seconds)"
   ]
  },
  {
   "cell_type": "markdown",
   "id": "a2c19aee",
   "metadata": {},
   "source": [
    "**Thought**: The import statement has been updated successfully. Let's try running the `generate.py` script again to evaluate the BLEU scores for our trained model.\n",
    "\n"
   ]
  },
  {
   "cell_type": "markdown",
   "id": "19e596b3",
   "metadata": {},
   "source": [
    "**Action (None)**:"
   ]
  },
  {
   "cell_type": "code",
   "execution_count": null,
   "id": "f11bf4e4",
   "metadata": {},
   "outputs": [
    {
     "data": {
      "text/plain": [
       "Traceback (most recent call last):\n  File \"/content/g-transformer/fairseq_cli/generate.py\", line 23, in <module>\n    from ..utils import remove_seps, save_lines\nImportError: attempted relative import with no known parent package\n"
      ]
     },
     "execution_count": null,
     "metadata": {},
     "output_type": "execute_result"
    }
   ],
   "source": [
    "!python fairseq_cli/generate.py data/g-transformer-doc.binarized.en-de --path data/run-finetune/g-transformer-doc.checkpoints.en-de/checkpoint_best.pt --beam 5 --remove-bpe --sacrebleu"
   ]
  },
  {
   "cell_type": "markdown",
   "id": "ff047961",
   "metadata": {},
   "source": [
    "### Step 46"
   ]
  },
  {
   "cell_type": "markdown",
   "id": "10efe5c1",
   "metadata": {},
   "source": [
    "Execution Start time: 04:58:40, End time: 04:58:44 (duration: 3 seconds)"
   ]
  },
  {
   "cell_type": "markdown",
   "id": "649bb9af",
   "metadata": {},
   "source": [
    "**Thought**: The error indicates that the relative import is not working because the script is being run as a standalone module. To resolve this, we can modify the `PYTHONPATH` environment variable to include the root directory of the repository, allowing the script to find the `utils` module.\n",
    "\n",
    "Let's set the `PYTHONPATH` and then run the `generate.py` script again.\n",
    "\n"
   ]
  },
  {
   "cell_type": "markdown",
   "id": "e059abaf",
   "metadata": {},
   "source": [
    "**Action (None)**:"
   ]
  },
  {
   "cell_type": "code",
   "execution_count": null,
   "id": "7888b1d1",
   "metadata": {},
   "outputs": [
    {
     "data": {
      "text/plain": [
       "Traceback (most recent call last):\n  File \"/content/g-transformer/fairseq_cli/generate.py\", line 23, in <module>\n    from ..utils import remove_seps, save_lines\nImportError: attempted relative import with no known parent package\n"
      ]
     },
     "execution_count": null,
     "metadata": {},
     "output_type": "execute_result"
    }
   ],
   "source": [
    "!PYTHONPATH=$(pwd) python fairseq_cli/generate.py data/g-transformer-doc.binarized.en-de --path data/run-finetune/g-transformer-doc.checkpoints.en-de/checkpoint_best.pt --beam 5 --remove-bpe --sacrebleu"
   ]
  },
  {
   "cell_type": "markdown",
   "id": "a3eddaba",
   "metadata": {},
   "source": [
    "### Step 47"
   ]
  },
  {
   "cell_type": "markdown",
   "id": "17f26613",
   "metadata": {},
   "source": [
    "Execution Start time: 04:58:46, End time: 04:58:47 (duration: 0 seconds)"
   ]
  },
  {
   "cell_type": "markdown",
   "id": "96b015ff",
   "metadata": {},
   "source": [
    "**Thought**: The relative import issue persists. To resolve this, we can modify the import statement to use an absolute import instead of a relative one. Let's change the import statement in `generate.py` to directly import from the `utils` module in the root directory.\n",
    "\n"
   ]
  },
  {
   "cell_type": "markdown",
   "id": "67f5016a",
   "metadata": {},
   "source": [
    "**Action (edit)**:"
   ]
  },
  {
   "cell_type": "code",
   "execution_count": null,
   "id": "22fa4f62",
   "metadata": {},
   "outputs": [
    {
     "data": {
      "text/plain": [
       "[File: /content/g-transformer/fairseq_cli/generate.py (356 lines total)]\n1:#!/usr/bin/env python3 -u\n2:# Guangsheng Bao: changed on 2020/10/3\n3:#\n4:# Copyright (c) Facebook, Inc. and its affiliates.\n5:#\n6:# This source code is licensed under the MIT license found in the\n7:# LICENSE file in the root directory of this source tree.\n8:\"\"\"\n9:Translate pre-processed data with a trained model.\n10:\"\"\"\n11:\n12:import logging\n13:import math\n14:import os\n15:import sys\n16:import numpy as np\n17:import torch\n18:\n19:from fairseq import bleu, checkpoint_utils, options, tasks, utils\n20:from fairseq.logging import progress_bar\n21:from fairseq.logging.meters import StopwatchMeter, TimeMeter\n22:from fairseq.data import encoders\n23:from utils import remove_seps, save_lines\n24:from fairseq.criterions.cross_entropy import CrossEntropyCriterion\n25:from fairseq.data import data_utils\n26:\n27:def main(args):\n28:    assert args.path is not None, '--path required for generation!'\n29:    assert not args.sampling or args.nbest == args.beam, \\\n30:        '--sampling requires --nbest to be equal to --beam'\n31:    assert args.replace_unk is None or args.dataset_impl == 'raw', \\\n32:        '--replace-unk requires a raw text dataset (--dataset-impl=raw)'\n33:\n34:    if args.results_path is not None:\n35:        os.makedirs(args.results_path, exist_ok=True)\n36:        output_path = os.path.join(args.results_path, 'generate-{}.txt'.format(args.gen_subset))\n37:        with open(output_path, 'w', buffering=1) as h:\n38:            return _main(args, h)\n39:    else:\n40:        return _main(args, sys.stdout)\n41:\n42:def _main(args, output_file):\n43:    logging.basicConfig(\n44:        format='%(asctime)s | %(levelname)s | %(name)s | %(message)s',\n45:        datefmt='%Y-%m-%d %H:%M:%S',\n46:        level=logging.INFO,\n47:        stream=output_file,\n48:    )\n49:    logger = logging.getLogger('fairseq_cli.generate')\n50:\n51:    utils.import_user_module(args)\n52:\n53:    if args.max_tokens is None and args.max_sentences is None:\n54:        args.max_tokens = 12000\n55:    logger.info(args)\n56:\n57:    use_cuda = torch.cuda.is_available() and not args.cpu\n58:\n59:    # Load dataset splits\n60:    task = tasks.setup_task(args)\n61:    task.load_dataset(args.gen_subset)\n62:\n63:    # Set dictionaries\n64:    try:\n65:        src_dict = getattr(task, 'source_dictionary', None)\n66:    except NotImplementedError:\n67:        src_dict = None\n68:    tgt_dict = task.target_dictionary\n69:\n70:    # Load ensemble\n71:    logger.info('loading model(s) from {}'.format(args.path))\n72:    arg_overrides = eval(args.model_overrides)\n73:    # arg_overrides['doc_mode'] = args.doc_mode\n74:    models, _model_args = checkpoint_utils.load_model_ensemble(\n75:        utils.split_paths(args.path),\n76:        arg_overrides=arg_overrides,\n77:        task=task,\n78:        suffix=getattr(args, \"checkpoint_suffix\", \"\"),\n79:        strict=not getattr(args, \"load_partial\", False),\n80:    )\n81:\n82:    # Optimize ensemble for generation\n83:    for model in models:\n84:        model.make_generation_fast_(\n85:            beamable_mm_beam_size=None if args.no_beamable_mm else args.beam,\n86:            need_attn=args.print_alignment,\n87:        )\n88:        if args.fp16:\n89:            model.half()\n90:        if use_cuda:\n91:            model.cuda()\n92:\n93:    # Load alignment dictionary for unknown word replacement\n94:    # (None if no unknown word replacement, empty if no path to align dictionary)\n95:    align_dict = utils.load_align_dict(args.replace_unk)\n96:\n97:    # Load dataset (possibly sharded)\n98:    itr = task.get_batch_iterator(\n99:        dataset=task.dataset(args.gen_subset),\n100:        max_tokens=args.max_tokens,\n(256 more lines below)\nFile updated. Please review the changes and make sure they are correct (correct indentation, no duplicate lines, etc). Edit the file again if necessary.\n"
      ]
     },
     "execution_count": null,
     "metadata": {},
     "output_type": "execute_result"
    }
   ],
   "source": [
    "edit 23:23\n",
    "from utils import remove_seps, save_lines\n",
    "end_of_edit"
   ]
  },
  {
   "cell_type": "markdown",
   "id": "d9704bd9",
   "metadata": {},
   "source": [
    "### Step 48"
   ]
  },
  {
   "cell_type": "markdown",
   "id": "7a4bf281",
   "metadata": {},
   "source": [
    "Execution Start time: 04:58:50, End time: 04:58:55 (duration: 5 seconds)"
   ]
  },
  {
   "cell_type": "markdown",
   "id": "b5b2c498",
   "metadata": {},
   "source": [
    "**Thought**: The import statement has been updated to use an absolute import. Let's try running the `generate.py` script again to evaluate the BLEU scores for our trained model.\n",
    "\n"
   ]
  },
  {
   "cell_type": "markdown",
   "id": "52e2b114",
   "metadata": {},
   "source": [
    "**Action (None)**:"
   ]
  },
  {
   "cell_type": "code",
   "execution_count": null,
   "id": "1dd52387",
   "metadata": {},
   "outputs": [
    {
     "data": {
      "text/plain": [
       "2024-08-22 04:58:53 | INFO | fairseq_cli.generate | Namespace(no_progress_bar=False, log_interval=100, log_format=None, tensorboard_logdir='', seed=1, cpu=False, tpu=False, bf16=False, fp16=False, memory_efficient_bf16=False, memory_efficient_fp16=False, fp16_no_flatten_grads=False, fp16_init_scale=128, fp16_scale_window=None, fp16_scale_tolerance=0.0, min_loss_scale=0.0001, threshold_loss_scale=None, user_dir=None, empty_cache_freq=0, all_gather_list_size=16384, model_parallel_size=1, checkpoint_suffix='', quantization_config_path=None, profile=False, criterion='cross_entropy', tokenizer=None, bpe=None, optimizer='nag', lr_scheduler='fixed', task='translation', num_workers=1, skip_invalid_size_inputs_valid_test=False, max_tokens=12000, max_sentences=None, required_batch_size_multiple=8, dataset_impl=None, data_buffer_size=10, gen_subset='test', num_shards=1, shard_id=0, distributed_world_size=1, distributed_rank=0, distributed_backend='nccl', distributed_init_method=None, distributed_port=-1, device_id=0, distributed_no_spawn=False, ddp_backend='c10d', bucket_cap_mb=25, fix_batches_to_gpus=False, find_unused_parameters=False, fast_stat_sync=False, broadcast_buffers=False, distributed_wrapper='DDP', slowmo_momentum=None, slowmo_algorithm='LocalSGD', localsgd_frequency=3, nprocs_per_node=1, path='data/run-finetune/g-transformer-doc.checkpoints.en-de/checkpoint_best.pt', remove_bpe='@@ ', quiet=False, model_overrides='{}', results_path=None, beam=5, nbest=1, max_len_a=0, max_len_b=200, min_len=1, match_source_len=False, no_early_stop=False, unnormalized=False, no_beamable_mm=False, lenpen=1, unkpen=0, replace_unk=None, sacrebleu=True, score_reference=False, prefix_size=0, no_repeat_ngram_size=0, sampling=False, sampling_topk=-1, sampling_topp=-1.0, temperature=1.0, diverse_beam_groups=-1, diverse_beam_strength=0.5, diversity_rate=-1.0, print_alignment=False, print_step=False, iter_decode_eos_penalty=0.0, iter_decode_max_iter=10, iter_decode_force_max_iter=False, iter_decode_with_beam=1, iter_decode_with_external_reranker=False, retain_iter_history=False, decoding_format=None, momentum=0.99, weight_decay=0.0, force_anneal=None, lr_shrink=0.1, warmup_updates=0, data='data/g-transformer-doc.binarized.en-de', source_lang=None, target_lang=None, load_alignments=False, left_pad_source='True', left_pad_target='False', max_source_positions=1024, max_target_positions=1024, upsample_primary=1, truncate_source=False, num_batch_buckets=0, eval_bleu=False, eval_bleu_detok='space', eval_bleu_detok_args=None, eval_tokenized_bleu=False, eval_bleu_remove_bpe=None, eval_bleu_args=None, eval_bleu_print_samples=False, output='')\n2024-08-22 04:58:53 | INFO | fairseq.tasks.translation | [en] dictionary: 320 types\n2024-08-22 04:58:53 | INFO | fairseq.tasks.translation | [de] dictionary: 320 types\n2024-08-22 04:58:53 | INFO | fairseq.data.data_utils | loaded 11 examples from: data/g-transformer-doc.binarized.en-de/test.en-de.en\n2024-08-22 04:58:53 | INFO | fairseq.data.data_utils | loaded 11 examples from: data/g-transformer-doc.binarized.en-de/test.en-de.de\n2024-08-22 04:58:53 | INFO | fairseq.tasks.translation | data/g-transformer-doc.binarized.en-de test en-de 11 examples\n2024-08-22 04:58:53 | INFO | fairseq_cli.generate | loading model(s) from data/run-finetune/g-transformer-doc.checkpoints.en-de/checkpoint_best.pt\nTraceback (most recent call last):\n  File \"/content/g-transformer/fairseq_cli/generate.py\", line 356, in <module>\n    cli_main()\n  File \"/content/g-transformer/fairseq_cli/generate.py\", line 352, in cli_main\n    main(args)\n  File \"/content/g-transformer/fairseq_cli/generate.py\", line 40, in main\n    return _main(args, sys.stdout)\n  File \"/content/g-transformer/fairseq_cli/generate.py\", line 74, in _main\n    models, _model_args = checkpoint_utils.load_model_ensemble(\n  File \"/content/g-transformer/fairseq/checkpoint_utils.py\", line 190, in load_model_ensemble\n    ensemble, args, _task = load_model_ensemble_and_task(\n  File \"/content/g-transformer/fairseq/checkpoint_utils.py\", line 212, in load_model_ensemble_and_task\n    model.load_state_dict(state[\"model\"], strict=strict, args=args)\n  File \"/content/g-transformer/fairseq/models/fairseq_model.py\", line 93, in load_state_dict\n    return super().load_state_dict(new_state_dict, strict)\n  File \"/usr/local/lib/python3.10/site-packages/torch/nn/modules/module.py\", line 2153, in load_state_dict\n    raise RuntimeError('Error(s) in loading state_dict for {}:\\n\\t{}'.format(\nRuntimeError: Error(s) in loading state_dict for GTransformerModel:\n\tsize mismatch for encoder.embed_tokens.weight: copying a param with shape torch.Size([323, 512]) from checkpoint, the shape in current model is torch.Size([320, 512]).\n\tsize mismatch for decoder.embed_tokens.weight: copying a param with shape torch.Size([323, 512]) from checkpoint, the shape in current model is torch.Size([320, 512]).\n\tsize mismatch for decoder.output_projection.weight: copying a param with shape torch.Size([323, 512]) from checkpoint, the shape in current model is torch.Size([320, 512]).\n"
      ]
     },
     "execution_count": null,
     "metadata": {},
     "output_type": "execute_result"
    }
   ],
   "source": [
    "!PYTHONPATH=$(pwd) python fairseq_cli/generate.py data/g-transformer-doc.binarized.en-de --path data/run-finetune/g-transformer-doc.checkpoints.en-de/checkpoint_best.pt --beam 5 --remove-bpe --sacrebleu"
   ]
  },
  {
   "cell_type": "markdown",
   "id": "872f879d",
   "metadata": {},
   "source": [
    "### Step 49"
   ]
  },
  {
   "cell_type": "markdown",
   "id": "55bcfac6",
   "metadata": {},
   "source": [
    "Execution Start time: 04:58:58, End time: 04:58:58 (duration: 0 seconds)"
   ]
  },
  {
   "cell_type": "markdown",
   "id": "766d3be0",
   "metadata": {},
   "source": [
    "**Thought**: The error indicates a size mismatch between the model's embedding weights and the checkpoint's weights. This is likely due to a difference in vocabulary size between the training and evaluation datasets. The model was trained with a vocabulary size of 323, but the current dataset has a vocabulary size of 320.\n",
    "\n",
    "To resolve this, we need to ensure that the vocabulary size matches between training and evaluation. We can either adjust the dataset or modify the model to accommodate the different vocabulary size.\n",
    "\n",
    "Let's first check the vocabulary files to understand the difference in vocabulary size.\n",
    "\n"
   ]
  },
  {
   "cell_type": "markdown",
   "id": "7ee39709",
   "metadata": {},
   "source": [
    "**Action (None)**:"
   ]
  },
  {
   "cell_type": "code",
   "execution_count": null,
   "id": "c10b04a0",
   "metadata": {},
   "outputs": [
    {
     "data": {
      "text/plain": [
       "data/g-transformer-doc.binarized.en-de/dict.de.txt\ndata/g-transformer-doc.binarized.en-de/dict.en.txt\n"
      ]
     },
     "execution_count": null,
     "metadata": {},
     "output_type": "execute_result"
    }
   ],
   "source": [
    "!ls data/g-transformer-doc.binarized.en-de/dict.*"
   ]
  },
  {
   "cell_type": "markdown",
   "id": "1f06a7ea",
   "metadata": {},
   "source": [
    "### Step 50"
   ]
  },
  {
   "cell_type": "markdown",
   "id": "595e145f",
   "metadata": {},
   "source": [
    "Execution Start time: 04:59:00, End time: 04:59:00 (duration: 0 seconds)"
   ]
  },
  {
   "cell_type": "markdown",
   "id": "87a2490b",
   "metadata": {},
   "source": [
    "**Thought**: The vocabulary files `dict.de.txt` and `dict.en.txt` are present in the `data/g-transformer-doc.binarized.en-de` directory. Let's inspect these files to understand the vocabulary size and see if there are any discrepancies.\n",
    "\n",
    "We'll start by checking the `dict.en.txt` file.\n",
    "\n"
   ]
  },
  {
   "cell_type": "markdown",
   "id": "5586841c",
   "metadata": {},
   "source": [
    "**Action (None)**:"
   ]
  },
  {
   "cell_type": "code",
   "execution_count": null,
   "id": "c707b044",
   "metadata": {},
   "outputs": [
    {
     "data": {
      "text/plain": [
       ". 26\nthe 23\ne@@ 19\na@@ 18\nen 17\nf@@ 16\n, 15\ner@@ 15\nl@@ 15\nt 15\n"
      ]
     },
     "execution_count": null,
     "metadata": {},
     "output_type": "execute_result"
    }
   ],
   "source": [
    "!head data/g-transformer-doc.binarized.en-de/dict.en.txt"
   ]
  },
  {
   "cell_type": "markdown",
   "id": "e13fb23d",
   "metadata": {},
   "source": [
    "### Step 51"
   ]
  },
  {
   "cell_type": "markdown",
   "id": "ff0fc78e",
   "metadata": {},
   "source": [
    "Execution Start time: 04:59:02, End time: 04:59:03 (duration: 0 seconds)"
   ]
  },
  {
   "cell_type": "markdown",
   "id": "43eb9cf1",
   "metadata": {},
   "source": [
    "**Thought**: The `dict.en.txt` file shows the vocabulary tokens along with their frequency counts. The vocabulary size is indicated by the number of lines in this file. Let's count the total number of lines to determine the vocabulary size.\n",
    "\n"
   ]
  },
  {
   "cell_type": "markdown",
   "id": "cd77d9c2",
   "metadata": {},
   "source": [
    "**Action (None)**:"
   ]
  },
  {
   "cell_type": "code",
   "execution_count": null,
   "id": "6d6a270f",
   "metadata": {},
   "outputs": [
    {
     "data": {
      "text/plain": [
       "316 data/g-transformer-doc.binarized.en-de/dict.en.txt\n"
      ]
     },
     "execution_count": null,
     "metadata": {},
     "output_type": "execute_result"
    }
   ],
   "source": [
    "!wc -l data/g-transformer-doc.binarized.en-de/dict.en.txt"
   ]
  },
  {
   "cell_type": "markdown",
   "id": "03bf76f2",
   "metadata": {},
   "source": [
    "### Step 52"
   ]
  },
  {
   "cell_type": "markdown",
   "id": "407d8cae",
   "metadata": {},
   "source": [
    "Execution Start time: 04:59:05, End time: 04:59:05 (duration: 0 seconds)"
   ]
  },
  {
   "cell_type": "markdown",
   "id": "326d0970",
   "metadata": {},
   "source": [
    "**Thought**: The `dict.en.txt` file contains 316 lines, indicating a vocabulary size of 316. This is less than the 323 size expected by the model checkpoint. We need to ensure that the vocabulary size matches the model's expectations.\n",
    "\n",
    "Let's check the `dict.de.txt` file to see if it has a similar discrepancy.\n",
    "\n"
   ]
  },
  {
   "cell_type": "markdown",
   "id": "919c7a7d",
   "metadata": {},
   "source": [
    "**Action (None)**:"
   ]
  },
  {
   "cell_type": "code",
   "execution_count": null,
   "id": "f12db796",
   "metadata": {},
   "outputs": [
    {
     "data": {
      "text/plain": [
       "316 data/g-transformer-doc.binarized.en-de/dict.de.txt\n"
      ]
     },
     "execution_count": null,
     "metadata": {},
     "output_type": "execute_result"
    }
   ],
   "source": [
    "!wc -l data/g-transformer-doc.binarized.en-de/dict.de.txt"
   ]
  },
  {
   "cell_type": "markdown",
   "id": "b9996ec3",
   "metadata": {},
   "source": [
    "### Step 53"
   ]
  },
  {
   "cell_type": "markdown",
   "id": "21453fb0",
   "metadata": {},
   "source": [
    "Execution Start time: 04:59:07, End time: 04:59:08 (duration: 0 seconds)"
   ]
  },
  {
   "cell_type": "markdown",
   "id": "d122d083",
   "metadata": {},
   "source": [
    "**Thought**: Both `dict.en.txt` and `dict.de.txt` have a vocabulary size of 316, which is less than the 323 size expected by the model checkpoint. This discrepancy is causing the size mismatch error.\n",
    "\n",
    "To resolve this, we can modify the model to accommodate the smaller vocabulary size. Let's adjust the model's embedding layer to match the current vocabulary size and then attempt to run the evaluation again.\n",
    "\n",
    "First, we'll need to locate the model definition file to make the necessary adjustments.\n",
    "\n"
   ]
  },
  {
   "cell_type": "markdown",
   "id": "6bac1ae4",
   "metadata": {},
   "source": [
    "**Action (search_dir)**:"
   ]
  },
  {
   "cell_type": "code",
   "execution_count": null,
   "id": "106e212b",
   "metadata": {},
   "outputs": [
    {
     "data": {
      "text/plain": [
       "Found 1 matches for \"class GTransformerModel\" in /content/g-transformer:\n/content/g-transformer/fairseq/models/gtransformer.py (1 matches)\nEnd of matches for \"class GTransformerModel\" in /content/g-transformer\n"
      ]
     },
     "execution_count": null,
     "metadata": {},
     "output_type": "execute_result"
    }
   ],
   "source": [
    "search_dir \"class GTransformerModel\" /content/g-transformer"
   ]
  },
  {
   "cell_type": "markdown",
   "id": "09ab6549",
   "metadata": {},
   "source": [
    "### Step 54"
   ]
  },
  {
   "cell_type": "markdown",
   "id": "53a92465",
   "metadata": {},
   "source": [
    "Execution Start time: 04:59:10, End time: 04:59:10 (duration: 0 seconds)"
   ]
  },
  {
   "cell_type": "markdown",
   "id": "90ba9cdb",
   "metadata": {},
   "source": [
    "**Thought**: The `GTransformerModel` class is defined in the `gtransformer.py` file located in the `fairseq/models` directory. Let's open this file to locate the embedding layer and adjust its size to match the current vocabulary size.\n",
    "\n"
   ]
  },
  {
   "cell_type": "markdown",
   "id": "5ef9be99",
   "metadata": {},
   "source": [
    "**Action (open)**:"
   ]
  },
  {
   "cell_type": "code",
   "execution_count": null,
   "id": "92e069ba",
   "metadata": {},
   "outputs": [
    {
     "data": {
      "text/plain": [
       "[File: /content/g-transformer/fairseq/models/gtransformer.py (1066 lines total)]\n1:# Guangsheng Bao: changed on 2020/10/3\n2:#\n3:# Copyright (c) Facebook, Inc. and its affiliates.\n4:#\n5:# This source code is licensed under the MIT license found in the\n6:# LICENSE file in the root directory of this source tree.\n7:\n8:import math\n9:from typing import Any, Dict, List, Optional, Tuple\n10:\n11:import torch\n12:import torch.nn as nn\n13:import torch.nn.functional as F\n14:from fairseq import options, utils\n15:from fairseq.models import (\n16:    FairseqEncoder,\n17:    FairseqEncoderDecoderModel,\n18:    FairseqIncrementalDecoder,\n19:    register_model,\n20:    register_model_architecture,\n21:)\n22:from fairseq.models.fairseq_encoder import EncoderOut\n23:from fairseq.modules import (\n24:    AdaptiveSoftmax,\n25:    LayerDropModuleList,\n27:    PositionalEmbedding,\n28:    SinusoidalPositionalEmbedding,\n29:    GTransformerDecoderLayer,\n30:    GTransformerEncoderLayer,\n31:)\n32:from fairseq.modules.quant_noise import quant_noise as apply_quant_noise_\n33:from torch import Tensor\n34:\n35:\n36:DEFAULT_MAX_SOURCE_POSITIONS = 1024\n37:DEFAULT_MAX_TARGET_POSITIONS = 1024\n38:\n39:# Guangsheng Bao: generate group-tags according token sequence\n40:def tokens2tags_depricate(dict, tokens, eod):\n41:    def _toks2tags(tokens):\n42:        tags = []\n43:        next_tag = 1\n44:        for tok in tokens:\n45:            if tok in [dict.pad_index, dict.index(eod)]:\n46:                tags.append(0)\n47:            else:\n48:                tags.append(next_tag)\n49:                if tok == dict.eos_index:  # increase tag per </s>\n50:                    next_tag += 1\n51:        return tags\n52:    tok_tags = [_toks2tags(tokens) for tokens in tokens.data.cpu().numpy().tolist()]\n53:    tok_tags = torch.tensor(tok_tags, dtype=tokens.dtype, device=tokens.device)\n54:    return tok_tags\n55:\n56:def tokens2tags(dict, tokens, eod):\n57:    mask_tag = ~((tokens == dict.pad_index) | (tokens == dict.index(eod)))\n58:    start_tag = (tokens == dict.bos_index).int()\n59:    tok_tags = torch.cumsum(start_tag, dim=1) * mask_tag.int()\n60:    return tok_tags\n61:\n62:@register_model(\"gtransformer\")\n63:class GTransformerModel(FairseqEncoderDecoderModel):\n64:    \"\"\"\n65:    Transformer model from `\"Attention Is All You Need\" (Vaswani, et al, 2017)\n66:    <https://arxiv.org/abs/1706.03762>`_.\n67:\n68:    Args:\n69:        encoder (TransformerEncoder): the encoder\n70:        decoder (TransformerDecoder): the decoder\n71:\n72:    The Transformer model provides the following named architectures and\n73:    command-line arguments:\n74:\n75:    .. argparse::\n76:        :ref: fairseq.models.transformer_parser\n77:        :prog:\n78:    \"\"\"\n79:\n80:    @classmethod\n81:    def hub_models(cls):\n82:        # fmt: off\n83:\n84:        def moses_subword(path):\n85:            return {\n86:                'path': path,\n87:                'tokenizer': 'moses',\n88:                'bpe': 'subword_nmt',\n89:            }\n90:\n91:        def moses_fastbpe(path):\n92:            return {\n93:                'path': path,\n94:                'tokenizer': 'moses',\n95:                'bpe': 'fastbpe',\n96:            }\n97:\n98:        return {\n99:            'transformer.wmt14.en-fr': moses_subword('https://dl.fbaipublicfiles.com/fairseq/models/wmt14.en-fr.joined-dict.transformer.tar.bz2'),\n100:            'transformer.wmt16.en-de': 'https://dl.fbaipublicfiles.com/fairseq/models/wmt16.en-de.joined-dict.transformer.tar.bz2',\n(966 more lines below)\n"
      ]
     },
     "execution_count": null,
     "metadata": {},
     "output_type": "execute_result"
    }
   ],
   "source": [
    "open /content/g-transformer/fairseq/models/gtransformer.py"
   ]
  },
  {
   "cell_type": "markdown",
   "id": "3fd1f749",
   "metadata": {},
   "source": [
    "### Step 55"
   ]
  },
  {
   "cell_type": "markdown",
   "id": "b6d77e5b",
   "metadata": {},
   "source": [
    "Execution Start time: 04:59:12, End time: 04:59:12 (duration: 0 seconds)"
   ]
  },
  {
   "cell_type": "markdown",
   "id": "73725a33",
   "metadata": {},
   "source": [
    "**Thought**: The `GTransformerModel` class is defined in this file. We need to locate the section where the embedding layers are defined to adjust their size to match the current vocabulary size of 316.\n",
    "\n",
    "Let's search for the embedding layer definitions within this file.\n",
    "\n"
   ]
  },
  {
   "cell_type": "markdown",
   "id": "94c2ddf1",
   "metadata": {},
   "source": [
    "**Action (search_file)**:"
   ]
  },
  {
   "cell_type": "code",
   "execution_count": null,
   "id": "ef969d77",
   "metadata": {},
   "outputs": [
    {
     "data": {
      "text/plain": [
       "Found 66 matches for \"embedding\" in /content/g-transformer/fairseq/models/gtransformer.py:\nLine 132:                            help='path to pre-trained encoder embedding')\nLine 134:                            help='encoder embedding dimension')\nLine 136:                            help='encoder embedding dimension for FFN')\nLine 144:                            help='use learned positional embeddings in the encoder')\nLine 146:                            help='path to pre-trained decoder embedding')\nLine 148:                            help='decoder embedding dimension')\nLine 150:                            help='decoder embedding dimension for FFN')\nLine 156:                            help='use learned positional embeddings in the decoder')\nLine 163:                            help='share decoder input and output embeddings')\nLine 164:        parser.add_argument('--share-all-embeddings', action='store_true',\nLine 165:                            help='share encoder, decoder and output embeddings'\nLine 167:        parser.add_argument('--no-token-positional-embeddings', default=False, action='store_true',\nLine 168:                            help='if set, disables positional embeddings (outside self attention)')\nLine 174:        parser.add_argument('--layernorm-embedding', action='store_true',\nLine 175:                            help='add layernorm to embedding')\nLine 176:        parser.add_argument('--no-scale-embedding', action='store_true',\nLine 177:                            help='if True, dont scale embeddings')\nLine 220:        if args.share_all_embeddings:\nLine 222:                raise ValueError(\"--share-all-embeddings requires a joined dictionary\")\nLine 225:                    \"--share-all-embeddings requires --encoder-embed-dim to match --decoder-embed-dim\"\nLine 231:                    \"--share-all-embeddings not compatible with --decoder-embed-path\"\nLine 233:            encoder_embed_tokens = cls.build_embedding(\nLine 239:            encoder_embed_tokens = cls.build_embedding(\nLine 242:            decoder_embed_tokens = cls.build_embedding(\nLine 251:    def build_embedding(cls, args, dictionary, embed_dim, path=None):\nLine 252:        num_embeddings = len(dictionary)\nLine 255:        emb = Embedding(num_embeddings, embed_dim, padding_idx)\nLine 258:            embed_dict = utils.parse_embedding(path)\nLine 259:            utils.load_embedding(embed_dict, dictionary, emb)\nLine 325:        embed_tokens (torch.nn.Embedding): input embedding\nLine 337:        embed_dim = embed_tokens.embedding_dim\nLine 343:        self.embed_scale = 1.0 if args.no_scale_embedding else math.sqrt(embed_dim)\nLine 352:            if not args.no_token_positional_embeddings\nLine 380:        if getattr(args, \"layernorm_embedding\", False):\nLine 383:            self.layernorm_embedding = None\nLine 388:    def forward_embedding(self, src_tokens):\nLine 395:        if self.layernorm_embedding is not None:\nLine 396:            x = self.layernorm_embedding(x)\nLine 418:                - **encoder_embedding** (Tensor): the (scaled) embedding lookup\nLine 424:        x, embedding, src_tags = self.forward_embedding(src_tokens)\nLine 459:            encoder_embedding=embedding,  # B x T x C\nLine 479:        Since encoder_padding_mask and encoder_embedding are both of type\nLine 485:        encoder_embedding: Optional[Tensor] = encoder_out.encoder_embedding\nLine 502:        new_encoder_embedding = (\nLine 503:            encoder_embedding\nLine 504:            if encoder_embedding is None\nLine 505:            else encoder_embedding.index_select(0, new_order)\nLine 524:            encoder_embedding=new_encoder_embedding,  # B x T x C\nLine 570:        embed_tokens (torch.nn.Embedding): output embedding\nLine 588:        input_embed_dim = embed_tokens.embedding_dim\nLine 597:        self.embed_scale = 1.0 if args.no_scale_embedding else math.sqrt(embed_dim)\nLine 621:            if not args.no_token_positional_embeddings\nLine 625:        if getattr(args, \"layernorm_embedding\", False):\nLine 628:            self.layernorm_embedding = None\nLine 801:        if self.layernorm_embedding is not None:\nLine 802:            x = self.layernorm_embedding(x)\nLine 945:def Embedding(num_embeddings, embedding_dim, padding_idx):\nLine 946:    m = nn.Embedding(num_embeddings, embedding_dim, padding_idx=padding_idx)\nLine 947:    nn.init.normal_(m.weight, mean=0, std=embedding_dim ** -0.5)\nLine 986:    args.share_all_embeddings = getattr(args, \"share_all_embeddings\", False)\nLine 987:    args.no_token_positional_embeddings = getattr(\nLine 988:        args, \"no_token_positional_embeddings\", False\nLine 999:    args.no_scale_embedding = getattr(args, \"no_scale_embedding\", False)\nLine 1000:    args.layernorm_embedding = getattr(args, \"layernorm_embedding\", False)\nEnd of matches for \"embedding\" in /content/g-transformer/fairseq/models/gtransformer.py\n"
      ]
     },
     "execution_count": null,
     "metadata": {},
     "output_type": "execute_result"
    }
   ],
   "source": [
    "search_file \"embedding\" /content/g-transformer/fairseq/models/gtransformer.py"
   ]
  },
  {
   "cell_type": "markdown",
   "id": "834bf2f7",
   "metadata": {},
   "source": [
    "### Step 56"
   ]
  },
  {
   "cell_type": "markdown",
   "id": "f0496959",
   "metadata": {},
   "source": [
    "Execution Start time: 04:59:16, End time: 04:59:17 (duration: 1 seconds)"
   ]
  },
  {
   "cell_type": "markdown",
   "id": "db35a906",
   "metadata": {},
   "source": [
    "**Thought**: The `build_embedding` function on line 251 defines the embedding layer, using the number of embeddings from the dictionary. We need to adjust this to match the current vocabulary size of 316.\n",
    "\n",
    "Let's edit the `build_embedding` function to set the `num_embeddings` to 316.\n",
    "\n"
   ]
  },
  {
   "cell_type": "markdown",
   "id": "a3431f99",
   "metadata": {},
   "source": [
    "**Action (edit)**:"
   ]
  },
  {
   "cell_type": "code",
   "execution_count": null,
   "id": "85fcb69b",
   "metadata": {},
   "outputs": [
    {
     "data": {
      "text/plain": [
       "[File: /content/g-transformer/fairseq/models/gtransformer.py (1066 lines total)]\n(201 more lines above)\n202:    def build_model(cls, args, task):\n203:        \"\"\"Build a new model instance.\"\"\"\n204:\n205:        # make sure all arguments are present in older models\n206:        base_architecture(args)\n207:\n208:        if args.encoder_layers_to_keep:\n209:            args.encoder_layers = len(args.encoder_layers_to_keep.split(\",\"))\n210:        if args.decoder_layers_to_keep:\n211:            args.decoder_layers = len(args.decoder_layers_to_keep.split(\",\"))\n212:\n213:        if getattr(args, \"max_source_positions\", None) is None:\n214:            args.max_source_positions = DEFAULT_MAX_SOURCE_POSITIONS\n215:        if getattr(args, \"max_target_positions\", None) is None:\n216:            args.max_target_positions = DEFAULT_MAX_TARGET_POSITIONS\n217:\n218:        src_dict, tgt_dict = task.source_dictionary, task.target_dictionary\n219:\n220:        if args.share_all_embeddings:\n221:            if src_dict != tgt_dict:\n222:                raise ValueError(\"--share-all-embeddings requires a joined dictionary\")\n223:            if args.encoder_embed_dim != args.decoder_embed_dim:\n224:                raise ValueError(\n225:                    \"--share-all-embeddings requires --encoder-embed-dim to match --decoder-embed-dim\"\n226:                )\n227:            if args.decoder_embed_path and (\n228:                args.decoder_embed_path != args.encoder_embed_path\n229:            ):\n230:                raise ValueError(\n231:                    \"--share-all-embeddings not compatible with --decoder-embed-path\"\n232:                )\n233:            encoder_embed_tokens = cls.build_embedding(\n234:                args, src_dict, args.encoder_embed_dim, args.encoder_embed_path\n235:            )\n236:            decoder_embed_tokens = encoder_embed_tokens\n237:            args.share_decoder_input_output_embed = True\n238:        else:\n239:            encoder_embed_tokens = cls.build_embedding(\n240:                args, src_dict, args.encoder_embed_dim, args.encoder_embed_path\n241:            )\n242:            decoder_embed_tokens = cls.build_embedding(\n243:                args, tgt_dict, args.decoder_embed_dim, args.decoder_embed_path\n244:            )\n245:\n246:        encoder = cls.build_encoder(args, src_dict, encoder_embed_tokens)\n247:        decoder = cls.build_decoder(args, tgt_dict, decoder_embed_tokens)\n248:        return cls(args, encoder, decoder)\n249:\n250:    @classmethod\n251:    def build_embedding(cls, args, dictionary, embed_dim, path=None):\n252:        num_embeddings = 316\n253:        padding_idx = dictionary.pad()\n254:\n255:        emb = Embedding(num_embeddings, embed_dim, padding_idx)\n256:        # if provided, load from preloaded dictionaries\n257:        if path:\n258:            embed_dict = utils.parse_embedding(path)\n259:            utils.load_embedding(embed_dict, dictionary, emb)\n260:        return emb\n261:\n262:    @classmethod\n263:    def build_encoder(cls, args, src_dict, embed_tokens):\n264:        return GTransformerEncoder(args, src_dict, embed_tokens)\n265:\n266:    @classmethod\n267:    def build_decoder(cls, args, tgt_dict, embed_tokens):\n268:        return GTransformerDecoder(\n269:            args,\n270:            tgt_dict,\n271:            embed_tokens,\n272:            no_encoder_attn=getattr(args, \"no_cross_attention\", False),\n273:        )\n274:\n275:    # TorchScript doesn't support optional arguments with variable length (**kwargs).\n276:    # Current workaround is to add union of all arguments in child classes.\n277:    def forward(\n278:        self,\n279:        src_tokens,\n280:        src_lengths,\n281:        prev_output_tokens,\n282:        return_all_hiddens: bool = True,\n283:        features_only: bool = False,\n284:    ):\n285:        \"\"\"\n286:        Run the forward pass for an encoder-decoder model.\n287:\n288:        Copied from the base class, but without ``**kwargs``,\n289:        which are not supported by TorchScript.\n290:        \"\"\"\n291:        encoder_out = self.encoder(\n292:            src_tokens, src_lengths=src_lengths, return_all_hiddens=return_all_hiddens\n293:        )\n294:        decoder_out = self.decoder(\n295:            prev_output_tokens,\n296:            encoder_out=encoder_out,\n297:            features_only=features_only,\n298:            src_lengths=src_lengths,\n299:            return_all_hiddens=return_all_hiddens,\n300:        )\n301:        return decoder_out\n(765 more lines below)\nFile updated. Please review the changes and make sure they are correct (correct indentation, no duplicate lines, etc). Edit the file again if necessary.\n"
      ]
     },
     "execution_count": null,
     "metadata": {},
     "output_type": "execute_result"
    }
   ],
   "source": [
    "edit 252:252\n",
    "        num_embeddings = 316\n",
    "end_of_edit"
   ]
  },
  {
   "cell_type": "markdown",
   "id": "f52ca9f0",
   "metadata": {},
   "source": [
    "### Step 57"
   ]
  },
  {
   "cell_type": "markdown",
   "id": "036d444c",
   "metadata": {},
   "source": [
    "Execution Start time: 04:59:20, End time: 04:59:25 (duration: 4 seconds)"
   ]
  },
  {
   "cell_type": "markdown",
   "id": "9b6fa1a4",
   "metadata": {},
   "source": [
    "**Thought**: The embedding layer size has been adjusted to match the current vocabulary size of 316. Let's try running the `generate.py` script again to evaluate the BLEU scores for our trained model.\n",
    "\n"
   ]
  },
  {
   "cell_type": "markdown",
   "id": "03f91149",
   "metadata": {},
   "source": [
    "**Action (None)**:"
   ]
  },
  {
   "cell_type": "code",
   "execution_count": null,
   "id": "8ee90291",
   "metadata": {},
   "outputs": [
    {
     "data": {
      "text/plain": [
       "2024-08-22 04:59:23 | INFO | fairseq_cli.generate | Namespace(no_progress_bar=False, log_interval=100, log_format=None, tensorboard_logdir='', seed=1, cpu=False, tpu=False, bf16=False, fp16=False, memory_efficient_bf16=False, memory_efficient_fp16=False, fp16_no_flatten_grads=False, fp16_init_scale=128, fp16_scale_window=None, fp16_scale_tolerance=0.0, min_loss_scale=0.0001, threshold_loss_scale=None, user_dir=None, empty_cache_freq=0, all_gather_list_size=16384, model_parallel_size=1, checkpoint_suffix='', quantization_config_path=None, profile=False, criterion='cross_entropy', tokenizer=None, bpe=None, optimizer='nag', lr_scheduler='fixed', task='translation', num_workers=1, skip_invalid_size_inputs_valid_test=False, max_tokens=12000, max_sentences=None, required_batch_size_multiple=8, dataset_impl=None, data_buffer_size=10, gen_subset='test', num_shards=1, shard_id=0, distributed_world_size=1, distributed_rank=0, distributed_backend='nccl', distributed_init_method=None, distributed_port=-1, device_id=0, distributed_no_spawn=False, ddp_backend='c10d', bucket_cap_mb=25, fix_batches_to_gpus=False, find_unused_parameters=False, fast_stat_sync=False, broadcast_buffers=False, distributed_wrapper='DDP', slowmo_momentum=None, slowmo_algorithm='LocalSGD', localsgd_frequency=3, nprocs_per_node=1, path='data/run-finetune/g-transformer-doc.checkpoints.en-de/checkpoint_best.pt', remove_bpe='@@ ', quiet=False, model_overrides='{}', results_path=None, beam=5, nbest=1, max_len_a=0, max_len_b=200, min_len=1, match_source_len=False, no_early_stop=False, unnormalized=False, no_beamable_mm=False, lenpen=1, unkpen=0, replace_unk=None, sacrebleu=True, score_reference=False, prefix_size=0, no_repeat_ngram_size=0, sampling=False, sampling_topk=-1, sampling_topp=-1.0, temperature=1.0, diverse_beam_groups=-1, diverse_beam_strength=0.5, diversity_rate=-1.0, print_alignment=False, print_step=False, iter_decode_eos_penalty=0.0, iter_decode_max_iter=10, iter_decode_force_max_iter=False, iter_decode_with_beam=1, iter_decode_with_external_reranker=False, retain_iter_history=False, decoding_format=None, momentum=0.99, weight_decay=0.0, force_anneal=None, lr_shrink=0.1, warmup_updates=0, data='data/g-transformer-doc.binarized.en-de', source_lang=None, target_lang=None, load_alignments=False, left_pad_source='True', left_pad_target='False', max_source_positions=1024, max_target_positions=1024, upsample_primary=1, truncate_source=False, num_batch_buckets=0, eval_bleu=False, eval_bleu_detok='space', eval_bleu_detok_args=None, eval_tokenized_bleu=False, eval_bleu_remove_bpe=None, eval_bleu_args=None, eval_bleu_print_samples=False, output='')\n2024-08-22 04:59:23 | INFO | fairseq.tasks.translation | [en] dictionary: 320 types\n2024-08-22 04:59:23 | INFO | fairseq.tasks.translation | [de] dictionary: 320 types\n2024-08-22 04:59:23 | INFO | fairseq.data.data_utils | loaded 11 examples from: data/g-transformer-doc.binarized.en-de/test.en-de.en\n2024-08-22 04:59:23 | INFO | fairseq.data.data_utils | loaded 11 examples from: data/g-transformer-doc.binarized.en-de/test.en-de.de\n2024-08-22 04:59:23 | INFO | fairseq.tasks.translation | data/g-transformer-doc.binarized.en-de test en-de 11 examples\n2024-08-22 04:59:23 | INFO | fairseq_cli.generate | loading model(s) from data/run-finetune/g-transformer-doc.checkpoints.en-de/checkpoint_best.pt\nTraceback (most recent call last):\n  File \"/content/g-transformer/fairseq_cli/generate.py\", line 356, in <module>\n    cli_main()\n  File \"/content/g-transformer/fairseq_cli/generate.py\", line 352, in cli_main\n    main(args)\n  File \"/content/g-transformer/fairseq_cli/generate.py\", line 40, in main\n    return _main(args, sys.stdout)\n  File \"/content/g-transformer/fairseq_cli/generate.py\", line 74, in _main\n    models, _model_args = checkpoint_utils.load_model_ensemble(\n  File \"/content/g-transformer/fairseq/checkpoint_utils.py\", line 190, in load_model_ensemble\n    ensemble, args, _task = load_model_ensemble_and_task(\n  File \"/content/g-transformer/fairseq/checkpoint_utils.py\", line 212, in load_model_ensemble_and_task\n    model.load_state_dict(state[\"model\"], strict=strict, args=args)\n  File \"/content/g-transformer/fairseq/models/fairseq_model.py\", line 93, in load_state_dict\n    return super().load_state_dict(new_state_dict, strict)\n  File \"/usr/local/lib/python3.10/site-packages/torch/nn/modules/module.py\", line 2153, in load_state_dict\n    raise RuntimeError('Error(s) in loading state_dict for {}:\\n\\t{}'.format(\nRuntimeError: Error(s) in loading state_dict for GTransformerModel:\n\tsize mismatch for encoder.embed_tokens.weight: copying a param with shape torch.Size([323, 512]) from checkpoint, the shape in current model is torch.Size([316, 512]).\n\tsize mismatch for decoder.embed_tokens.weight: copying a param with shape torch.Size([323, 512]) from checkpoint, the shape in current model is torch.Size([316, 512]).\n\tsize mismatch for decoder.output_projection.weight: copying a param with shape torch.Size([323, 512]) from checkpoint, the shape in current model is torch.Size([316, 512]).\n"
      ]
     },
     "execution_count": null,
     "metadata": {},
     "output_type": "execute_result"
    }
   ],
   "source": [
    "!PYTHONPATH=$(pwd) python fairseq_cli/generate.py data/g-transformer-doc.binarized.en-de --path data/run-finetune/g-transformer-doc.checkpoints.en-de/checkpoint_best.pt --beam 5 --remove-bpe --sacrebleu"
   ]
  },
  {
   "cell_type": "markdown",
   "id": "9727632f",
   "metadata": {},
   "source": [
    "### Step 58"
   ]
  },
  {
   "cell_type": "markdown",
   "id": "eb96ed1f",
   "metadata": {},
   "source": [
    "Execution Start time: 04:59:28, End time: 04:59:29 (duration: 1 seconds)"
   ]
  },
  {
   "cell_type": "markdown",
   "id": "217b13fa",
   "metadata": {},
   "source": [
    "**Thought**: The error persists due to a size mismatch between the model's embedding weights and the checkpoint's weights. This indicates that the model was trained with a different vocabulary size than the current dataset.\n",
    "\n",
    "To resolve this, we need to ensure that the vocabulary size matches the model's expectations. One approach is to modify the model to accommodate the different vocabulary size by adjusting the embedding layers to match the checkpoint's vocabulary size.\n",
    "\n",
    "Let's revert the changes made to the embedding layer size and instead adjust the dataset to match the checkpoint's vocabulary size of 323.\n",
    "\n"
   ]
  },
  {
   "cell_type": "markdown",
   "id": "b57ff1c3",
   "metadata": {},
   "source": [
    "**Action (edit)**:"
   ]
  },
  {
   "cell_type": "code",
   "execution_count": null,
   "id": "628c032a",
   "metadata": {},
   "outputs": [
    {
     "data": {
      "text/plain": [
       "[File: /content/g-transformer/fairseq/models/gtransformer.py (1066 lines total)]\n(201 more lines above)\n202:    def build_model(cls, args, task):\n203:        \"\"\"Build a new model instance.\"\"\"\n204:\n205:        # make sure all arguments are present in older models\n206:        base_architecture(args)\n207:\n208:        if args.encoder_layers_to_keep:\n209:            args.encoder_layers = len(args.encoder_layers_to_keep.split(\",\"))\n210:        if args.decoder_layers_to_keep:\n211:            args.decoder_layers = len(args.decoder_layers_to_keep.split(\",\"))\n212:\n213:        if getattr(args, \"max_source_positions\", None) is None:\n214:            args.max_source_positions = DEFAULT_MAX_SOURCE_POSITIONS\n215:        if getattr(args, \"max_target_positions\", None) is None:\n216:            args.max_target_positions = DEFAULT_MAX_TARGET_POSITIONS\n217:\n218:        src_dict, tgt_dict = task.source_dictionary, task.target_dictionary\n219:\n220:        if args.share_all_embeddings:\n221:            if src_dict != tgt_dict:\n222:                raise ValueError(\"--share-all-embeddings requires a joined dictionary\")\n223:            if args.encoder_embed_dim != args.decoder_embed_dim:\n224:                raise ValueError(\n225:                    \"--share-all-embeddings requires --encoder-embed-dim to match --decoder-embed-dim\"\n226:                )\n227:            if args.decoder_embed_path and (\n228:                args.decoder_embed_path != args.encoder_embed_path\n229:            ):\n230:                raise ValueError(\n231:                    \"--share-all-embeddings not compatible with --decoder-embed-path\"\n232:                )\n233:            encoder_embed_tokens = cls.build_embedding(\n234:                args, src_dict, args.encoder_embed_dim, args.encoder_embed_path\n235:            )\n236:            decoder_embed_tokens = encoder_embed_tokens\n237:            args.share_decoder_input_output_embed = True\n238:        else:\n239:            encoder_embed_tokens = cls.build_embedding(\n240:                args, src_dict, args.encoder_embed_dim, args.encoder_embed_path\n241:            )\n242:            decoder_embed_tokens = cls.build_embedding(\n243:                args, tgt_dict, args.decoder_embed_dim, args.decoder_embed_path\n244:            )\n245:\n246:        encoder = cls.build_encoder(args, src_dict, encoder_embed_tokens)\n247:        decoder = cls.build_decoder(args, tgt_dict, decoder_embed_tokens)\n248:        return cls(args, encoder, decoder)\n249:\n250:    @classmethod\n251:    def build_embedding(cls, args, dictionary, embed_dim, path=None):\n252:        num_embeddings = 323\n253:        padding_idx = dictionary.pad()\n254:\n255:        emb = Embedding(num_embeddings, embed_dim, padding_idx)\n256:        # if provided, load from preloaded dictionaries\n257:        if path:\n258:            embed_dict = utils.parse_embedding(path)\n259:            utils.load_embedding(embed_dict, dictionary, emb)\n260:        return emb\n261:\n262:    @classmethod\n263:    def build_encoder(cls, args, src_dict, embed_tokens):\n264:        return GTransformerEncoder(args, src_dict, embed_tokens)\n265:\n266:    @classmethod\n267:    def build_decoder(cls, args, tgt_dict, embed_tokens):\n268:        return GTransformerDecoder(\n269:            args,\n270:            tgt_dict,\n271:            embed_tokens,\n272:            no_encoder_attn=getattr(args, \"no_cross_attention\", False),\n273:        )\n274:\n275:    # TorchScript doesn't support optional arguments with variable length (**kwargs).\n276:    # Current workaround is to add union of all arguments in child classes.\n277:    def forward(\n278:        self,\n279:        src_tokens,\n280:        src_lengths,\n281:        prev_output_tokens,\n282:        return_all_hiddens: bool = True,\n283:        features_only: bool = False,\n284:    ):\n285:        \"\"\"\n286:        Run the forward pass for an encoder-decoder model.\n287:\n288:        Copied from the base class, but without ``**kwargs``,\n289:        which are not supported by TorchScript.\n290:        \"\"\"\n291:        encoder_out = self.encoder(\n292:            src_tokens, src_lengths=src_lengths, return_all_hiddens=return_all_hiddens\n293:        )\n294:        decoder_out = self.decoder(\n295:            prev_output_tokens,\n296:            encoder_out=encoder_out,\n297:            features_only=features_only,\n298:            src_lengths=src_lengths,\n299:            return_all_hiddens=return_all_hiddens,\n300:        )\n301:        return decoder_out\n(765 more lines below)\nFile updated. Please review the changes and make sure they are correct (correct indentation, no duplicate lines, etc). Edit the file again if necessary.\n"
      ]
     },
     "execution_count": null,
     "metadata": {},
     "output_type": "execute_result"
    }
   ],
   "source": [
    "edit 252:252\n",
    "        num_embeddings = 323\n",
    "end_of_edit"
   ]
  },
  {
   "cell_type": "markdown",
   "id": "24786bf0",
   "metadata": {},
   "source": [
    "### Step 59"
   ]
  },
  {
   "cell_type": "markdown",
   "id": "8f79ec5d",
   "metadata": {},
   "source": [
    "Execution Start time: 04:59:31, End time: 04:59:36 (duration: 4 seconds)"
   ]
  },
  {
   "cell_type": "markdown",
   "id": "40bc4c5b",
   "metadata": {},
   "source": [
    "**Thought**: The embedding layer size has been reverted to match the checkpoint's vocabulary size of 323. Let's try running the `generate.py` script again to evaluate the BLEU scores for our trained model.\n",
    "\n"
   ]
  },
  {
   "cell_type": "markdown",
   "id": "1248ed31",
   "metadata": {},
   "source": [
    "**Action (None)**:"
   ]
  },
  {
   "cell_type": "code",
   "execution_count": null,
   "id": "88b97362",
   "metadata": {},
   "outputs": [
    {
     "data": {
      "text/plain": [
       "2024-08-22 04:59:34 | INFO | fairseq_cli.generate | Namespace(no_progress_bar=False, log_interval=100, log_format=None, tensorboard_logdir='', seed=1, cpu=False, tpu=False, bf16=False, fp16=False, memory_efficient_bf16=False, memory_efficient_fp16=False, fp16_no_flatten_grads=False, fp16_init_scale=128, fp16_scale_window=None, fp16_scale_tolerance=0.0, min_loss_scale=0.0001, threshold_loss_scale=None, user_dir=None, empty_cache_freq=0, all_gather_list_size=16384, model_parallel_size=1, checkpoint_suffix='', quantization_config_path=None, profile=False, criterion='cross_entropy', tokenizer=None, bpe=None, optimizer='nag', lr_scheduler='fixed', task='translation', num_workers=1, skip_invalid_size_inputs_valid_test=False, max_tokens=12000, max_sentences=None, required_batch_size_multiple=8, dataset_impl=None, data_buffer_size=10, gen_subset='test', num_shards=1, shard_id=0, distributed_world_size=1, distributed_rank=0, distributed_backend='nccl', distributed_init_method=None, distributed_port=-1, device_id=0, distributed_no_spawn=False, ddp_backend='c10d', bucket_cap_mb=25, fix_batches_to_gpus=False, find_unused_parameters=False, fast_stat_sync=False, broadcast_buffers=False, distributed_wrapper='DDP', slowmo_momentum=None, slowmo_algorithm='LocalSGD', localsgd_frequency=3, nprocs_per_node=1, path='data/run-finetune/g-transformer-doc.checkpoints.en-de/checkpoint_best.pt', remove_bpe='@@ ', quiet=False, model_overrides='{}', results_path=None, beam=5, nbest=1, max_len_a=0, max_len_b=200, min_len=1, match_source_len=False, no_early_stop=False, unnormalized=False, no_beamable_mm=False, lenpen=1, unkpen=0, replace_unk=None, sacrebleu=True, score_reference=False, prefix_size=0, no_repeat_ngram_size=0, sampling=False, sampling_topk=-1, sampling_topp=-1.0, temperature=1.0, diverse_beam_groups=-1, diverse_beam_strength=0.5, diversity_rate=-1.0, print_alignment=False, print_step=False, iter_decode_eos_penalty=0.0, iter_decode_max_iter=10, iter_decode_force_max_iter=False, iter_decode_with_beam=1, iter_decode_with_external_reranker=False, retain_iter_history=False, decoding_format=None, momentum=0.99, weight_decay=0.0, force_anneal=None, lr_shrink=0.1, warmup_updates=0, data='data/g-transformer-doc.binarized.en-de', source_lang=None, target_lang=None, load_alignments=False, left_pad_source='True', left_pad_target='False', max_source_positions=1024, max_target_positions=1024, upsample_primary=1, truncate_source=False, num_batch_buckets=0, eval_bleu=False, eval_bleu_detok='space', eval_bleu_detok_args=None, eval_tokenized_bleu=False, eval_bleu_remove_bpe=None, eval_bleu_args=None, eval_bleu_print_samples=False, output='')\n2024-08-22 04:59:34 | INFO | fairseq.tasks.translation | [en] dictionary: 320 types\n2024-08-22 04:59:34 | INFO | fairseq.tasks.translation | [de] dictionary: 320 types\n2024-08-22 04:59:34 | INFO | fairseq.data.data_utils | loaded 11 examples from: data/g-transformer-doc.binarized.en-de/test.en-de.en\n2024-08-22 04:59:34 | INFO | fairseq.data.data_utils | loaded 11 examples from: data/g-transformer-doc.binarized.en-de/test.en-de.de\n2024-08-22 04:59:34 | INFO | fairseq.tasks.translation | data/g-transformer-doc.binarized.en-de test en-de 11 examples\n2024-08-22 04:59:34 | INFO | fairseq_cli.generate | loading model(s) from data/run-finetune/g-transformer-doc.checkpoints.en-de/checkpoint_best.pt\n\n  0%|                                                     | 0/1 [00:00<?, ?it/s]Traceback (most recent call last):\n  File \"/content/g-transformer/fairseq_cli/generate.py\", line 356, in <module>\n    cli_main()\n  File \"/content/g-transformer/fairseq_cli/generate.py\", line 352, in cli_main\n    main(args)\n  File \"/content/g-transformer/fairseq_cli/generate.py\", line 40, in main\n    return _main(args, sys.stdout)\n  File \"/content/g-transformer/fairseq_cli/generate.py\", line 121, in _main\n    generator = task.build_generator(models, args)\n  File \"/content/g-transformer/fairseq/tasks/fairseq_task.py\", line 301, in build_generator\n    return seq_gen_cls(\nTypeError: SequenceGenerator.__init__() missing 1 required positional argument: 'tgt_dict'\n\n                                                                                \n"
      ]
     },
     "execution_count": null,
     "metadata": {},
     "output_type": "execute_result"
    }
   ],
   "source": [
    "!PYTHONPATH=$(pwd) python fairseq_cli/generate.py data/g-transformer-doc.binarized.en-de --path data/run-finetune/g-transformer-doc.checkpoints.en-de/checkpoint_best.pt --beam 5 --remove-bpe --sacrebleu"
   ]
  },
  {
   "cell_type": "markdown",
   "id": "3459cc98",
   "metadata": {},
   "source": [
    "### Step 60"
   ]
  },
  {
   "cell_type": "markdown",
   "id": "8a92d99b",
   "metadata": {},
   "source": [
    "Execution Start time: 04:59:39, End time: 04:59:39 (duration: 0 seconds)"
   ]
  },
  {
   "cell_type": "markdown",
   "id": "a3ab604f",
   "metadata": {},
   "source": [
    "**Thought**: The error indicates that the `SequenceGenerator` is missing a required positional argument, `tgt_dict`. This suggests that the target dictionary is not being passed correctly to the generator.\n",
    "\n",
    "Let's inspect the `generate.py` file to ensure that the target dictionary is being passed correctly when initializing the `SequenceGenerator`.\n",
    "\n"
   ]
  },
  {
   "cell_type": "markdown",
   "id": "a315f742",
   "metadata": {},
   "source": [
    "**Action (open)**:"
   ]
  },
  {
   "cell_type": "code",
   "execution_count": null,
   "id": "b65b2590",
   "metadata": {},
   "outputs": [
    {
     "data": {
      "text/plain": [
       "[File: /content/g-transformer/fairseq_cli/generate.py (356 lines total)]\n1:#!/usr/bin/env python3 -u\n2:# Guangsheng Bao: changed on 2020/10/3\n3:#\n4:# Copyright (c) Facebook, Inc. and its affiliates.\n5:#\n6:# This source code is licensed under the MIT license found in the\n7:# LICENSE file in the root directory of this source tree.\n8:\"\"\"\n9:Translate pre-processed data with a trained model.\n10:\"\"\"\n11:\n12:import logging\n13:import math\n14:import os\n15:import sys\n16:import numpy as np\n17:import torch\n18:\n19:from fairseq import bleu, checkpoint_utils, options, tasks, utils\n20:from fairseq.logging import progress_bar\n21:from fairseq.logging.meters import StopwatchMeter, TimeMeter\n22:from fairseq.data import encoders\n23:from utils import remove_seps, save_lines\n24:from fairseq.criterions.cross_entropy import CrossEntropyCriterion\n25:from fairseq.data import data_utils\n26:\n27:def main(args):\n28:    assert args.path is not None, '--path required for generation!'\n29:    assert not args.sampling or args.nbest == args.beam, \\\n30:        '--sampling requires --nbest to be equal to --beam'\n31:    assert args.replace_unk is None or args.dataset_impl == 'raw', \\\n32:        '--replace-unk requires a raw text dataset (--dataset-impl=raw)'\n33:\n34:    if args.results_path is not None:\n35:        os.makedirs(args.results_path, exist_ok=True)\n36:        output_path = os.path.join(args.results_path, 'generate-{}.txt'.format(args.gen_subset))\n37:        with open(output_path, 'w', buffering=1) as h:\n38:            return _main(args, h)\n39:    else:\n40:        return _main(args, sys.stdout)\n41:\n42:def _main(args, output_file):\n43:    logging.basicConfig(\n44:        format='%(asctime)s | %(levelname)s | %(name)s | %(message)s',\n45:        datefmt='%Y-%m-%d %H:%M:%S',\n46:        level=logging.INFO,\n47:        stream=output_file,\n48:    )\n49:    logger = logging.getLogger('fairseq_cli.generate')\n50:\n51:    utils.import_user_module(args)\n52:\n53:    if args.max_tokens is None and args.max_sentences is None:\n54:        args.max_tokens = 12000\n55:    logger.info(args)\n56:\n57:    use_cuda = torch.cuda.is_available() and not args.cpu\n58:\n59:    # Load dataset splits\n60:    task = tasks.setup_task(args)\n61:    task.load_dataset(args.gen_subset)\n62:\n63:    # Set dictionaries\n64:    try:\n65:        src_dict = getattr(task, 'source_dictionary', None)\n66:    except NotImplementedError:\n67:        src_dict = None\n68:    tgt_dict = task.target_dictionary\n69:\n70:    # Load ensemble\n71:    logger.info('loading model(s) from {}'.format(args.path))\n72:    arg_overrides = eval(args.model_overrides)\n73:    # arg_overrides['doc_mode'] = args.doc_mode\n74:    models, _model_args = checkpoint_utils.load_model_ensemble(\n75:        utils.split_paths(args.path),\n76:        arg_overrides=arg_overrides,\n77:        task=task,\n78:        suffix=getattr(args, \"checkpoint_suffix\", \"\"),\n79:        strict=not getattr(args, \"load_partial\", False),\n80:    )\n81:\n82:    # Optimize ensemble for generation\n83:    for model in models:\n84:        model.make_generation_fast_(\n85:            beamable_mm_beam_size=None if args.no_beamable_mm else args.beam,\n86:            need_attn=args.print_alignment,\n87:        )\n88:        if args.fp16:\n89:            model.half()\n90:        if use_cuda:\n91:            model.cuda()\n92:\n93:    # Load alignment dictionary for unknown word replacement\n94:    # (None if no unknown word replacement, empty if no path to align dictionary)\n95:    align_dict = utils.load_align_dict(args.replace_unk)\n96:\n97:    # Load dataset (possibly sharded)\n98:    itr = task.get_batch_iterator(\n99:        dataset=task.dataset(args.gen_subset),\n100:        max_tokens=args.max_tokens,\n(256 more lines below)\n"
      ]
     },
     "execution_count": null,
     "metadata": {},
     "output_type": "execute_result"
    }
   ],
   "source": [
    "open /content/g-transformer/fairseq_cli/generate.py"
   ]
  },
  {
   "cell_type": "markdown",
   "id": "d626ee5a",
   "metadata": {},
   "source": [
    "### Step 61"
   ]
  },
  {
   "cell_type": "markdown",
   "id": "2bcfd2a2",
   "metadata": {},
   "source": [
    "Execution Start time: 04:59:41, End time: 04:59:41 (duration: 0 seconds)"
   ]
  },
  {
   "cell_type": "markdown",
   "id": "03286c99",
   "metadata": {},
   "source": [
    "**Thought**: The `tgt_dict` is correctly set from `task.target_dictionary`. However, it seems like it might not be passed to the `SequenceGenerator`. Let's ensure that the `tgt_dict` is being passed when the `SequenceGenerator` is initialized.\n",
    "\n",
    "Let's search for the `SequenceGenerator` initialization in this file.\n",
    "\n"
   ]
  },
  {
   "cell_type": "markdown",
   "id": "4f203b77",
   "metadata": {},
   "source": [
    "**Action (search_file)**:"
   ]
  },
  {
   "cell_type": "code",
   "execution_count": null,
   "id": "6e14c34f",
   "metadata": {},
   "outputs": [
    {
     "data": {
      "text/plain": [
       "No matches found for \"SequenceGenerator\" in /content/g-transformer/fairseq_cli/generate.py\n"
      ]
     },
     "execution_count": null,
     "metadata": {},
     "output_type": "execute_result"
    }
   ],
   "source": [
    "search_file \"SequenceGenerator\" /content/g-transformer/fairseq_cli/generate.py"
   ]
  },
  {
   "cell_type": "markdown",
   "id": "7ca18248",
   "metadata": {},
   "source": [
    "### Step 62"
   ]
  },
  {
   "cell_type": "markdown",
   "id": "a9b81339",
   "metadata": {},
   "source": [
    "Execution Start time: 04:59:44, End time: 04:59:44 (duration: 0 seconds)"
   ]
  },
  {
   "cell_type": "markdown",
   "id": "914650e0",
   "metadata": {},
   "source": [
    "**Thought**: It seems there are no direct references to `SequenceGenerator` in the `generate.py` file. This suggests that the generator might be initialized indirectly through another function or module. Let's search for where the `build_generator` function is called, as it likely involves the generator's initialization.\n",
    "\n"
   ]
  },
  {
   "cell_type": "markdown",
   "id": "d32cb1b0",
   "metadata": {},
   "source": [
    "**Action (search_file)**:"
   ]
  },
  {
   "cell_type": "code",
   "execution_count": null,
   "id": "371f8796",
   "metadata": {},
   "outputs": [
    {
     "data": {
      "text/plain": [
       "Found 1 matches for \"build_generator\" in /content/g-transformer/fairseq_cli/generate.py:\nLine 121:    generator = task.build_generator(models, args)\nEnd of matches for \"build_generator\" in /content/g-transformer/fairseq_cli/generate.py\n"
      ]
     },
     "execution_count": null,
     "metadata": {},
     "output_type": "execute_result"
    }
   ],
   "source": [
    "search_file \"build_generator\" /content/g-transformer/fairseq_cli/generate.py"
   ]
  },
  {
   "cell_type": "markdown",
   "id": "fed76df0",
   "metadata": {},
   "source": [
    "### Step 63"
   ]
  },
  {
   "cell_type": "markdown",
   "id": "60db32e0",
   "metadata": {},
   "source": [
    "Execution Start time: 04:59:52, End time: 04:59:53 (duration: 0 seconds)"
   ]
  },
  {
   "cell_type": "markdown",
   "id": "9d346930",
   "metadata": {},
   "source": [
    "**Thought**: Exit due to context window"
   ]
  },
  {
   "cell_type": "markdown",
   "id": "9dba5550",
   "metadata": {},
   "source": [
    "**Action (None)**:"
   ]
  },
  {
   "cell_type": "code",
   "execution_count": null,
   "id": "5d2201e1",
   "metadata": {},
   "outputs": [
    {
     "data": {
      "text/plain": [
       "Exited"
      ]
     },
     "execution_count": null,
     "metadata": {},
     "output_type": "execute_result"
    }
   ],
   "source": [
    "exit_context"
   ]
  }
 ],
 "metadata": {},
 "nbformat": 4,
 "nbformat_minor": 5
}
