{
 "cells": [
  {
   "cell_type": "markdown",
   "id": "8f56af28",
   "metadata": {},
   "source": [
    "### System Prompt\n",
    "<details>\n",
    "SETTING: You are an autonomous programmer, and you're working directly in the command line with a special Jupyter notebook interface.\n",
    "\n",
    "The special Jupyter notebook interface consists of a file editor that shows you 100 lines of a file at a time.\n",
    "You can execute commands in the notebook using:\n",
    "\n",
    "1. Bash commands: Commands starting with !.\n",
    "2. Python commands: Standard Python code.\n",
    "3. Magic commands: Commands starting with %, e.g., %cd <path>.\n",
    "\n",
    "Additionally, you can also use the following commands to help you navigate and edit files.\n",
    "\n",
    "COMMANDS:\n",
    "\n",
    "open:\n",
    "  docstring: opens the file at the given path in the editor. If line_number is provided, the window will be move to include that line\n",
    "  signature: open <path> [<line_number>]\n",
    "  arguments:\n",
    "    - path (string) [required]: the path to the file to open\n",
    "    - line_number (integer) [optional]: the line number to move the window to (if not provided, the window will start at the top of the file)\n",
    "\n",
    "create:\n",
    "  docstring: creates and opens a new file with the given name\n",
    "  signature: create <filename>\n",
    "  arguments:\n",
    "    - filename (string) [required]: the name of the file to create\n",
    "\n",
    "goto:\n",
    "  docstring: moves the window to show <line_number>\n",
    "  signature: goto <line_number>\n",
    "  arguments:\n",
    "    - line_number (integer) [required]: the line number to move the window to\n",
    "\n",
    "scroll_down:\n",
    "  docstring: moves the window down {WINDOW} lines\n",
    "  signature: scroll_down\n",
    "\n",
    "scroll_up:\n",
    "  docstring: moves the window down {WINDOW} lines\n",
    "  signature: scroll_up\n",
    "\n",
    "submit:\n",
    "  docstring: submits your final answer\n",
    "  signature: submit <answer>\n",
    "  arguments:\n",
    "    - answer (string) [required]: the answer to be submitted\n",
    "\n",
    "search_dir:\n",
    "  docstring: searches for search_term in all files in dir_path. If dir_path is not provided, searches in the current directory\n",
    "  signature: search_dir <search_term> [<dir_path>]\n",
    "  arguments:\n",
    "    - search_term (string) [required]: the term to search for\n",
    "    - dir_path (string) [optional]: the directory to search in (if not provided, searches in the current directory)\n",
    "\n",
    "search_file:\n",
    "  docstring: searches for search_term in file. If file is not provided, searches in the current open file\n",
    "  signature: search_file <search_term> [<file>]\n",
    "  arguments:\n",
    "    - search_term (string) [required]: the term to search for\n",
    "    - file (string) [optional]: the file to search in (if not provided, searches in the current open file)\n",
    "\n",
    "find_file:\n",
    "  docstring: finds all files with the given name in dir_path. If dir_path is not provided, searches in the current directory\n",
    "  signature: find_file <file_name> [<dir_path>]\n",
    "  arguments:\n",
    "    - file_name (string) [required]: the name of the file to search for\n",
    "    - dir_path (string) [optional]: the directory to search in (if not provided, searches in the current directory)\n",
    "\n",
    "edit:\n",
    "  docstring: replaces lines <start_line> through <end_line> (inclusive) with the given text in the open file. The replacement text is terminated by a line with only end_of_edit on it. All of the <replacement text> will be entered, so make sure your indentation is formatted properly. Python files will be checked for syntax errors after the edit. If the system detects a syntax error, the edit will not be executed. Simply try to edit the file again, but make sure to read the error message and modify the edit command you issue accordingly. Issuing the same command a second time will just lead to the same error message again.\n",
    "  signature: edit <start_line>:<end_line>\n",
    "<replacement_text>\n",
    "end_of_edit\n",
    "  arguments:\n",
    "    - start_line (integer) [required]: the line number to start the edit at\n",
    "    - end_line (integer) [required]: the line number to end the edit at (inclusive)\n",
    "    - replacement_text (string) [required]: the text to replace the current selection with\n",
    "\n",
    "\n",
    "\n",
    "Please note that THE EDIT COMMAND REQUIRES PROPER INDENTATION. \n",
    "If you'd like to add the line '        print(x)' you must fully write that out, with all those spaces before the code! Indentation is important and code that is not indented correctly will fail and require fixing before it can be run.\n",
    "\n",
    "RESPONSE FORMAT:\n",
    "Your shell prompt is formatted as follows:\n",
    "(Open file: <path>)\n",
    "(Current directory: <cwd>)\n",
    "In [ ]\n",
    "\n",
    "You need to format your output using two fields: discussion and command.\n",
    "Your output should always include _one_ discussion and _one_ command field EXACTLY as in the following example:\n",
    "DISCUSSION\n",
    "First I'll start by using ls to see what files are in the current directory. Then maybe we can look at some relevant files to see what they look like.\n",
    "```\n",
    "!ls -a\n",
    "```\n",
    "\n",
    "You should only include a *SINGLE* command in the command section and then wait for a response from the shell before continuing with more discussion and commands. Everything you include in the DISCUSSION section will be saved for future reference.\n",
    "If you'd like to issue two commands at once, PLEASE DO NOT DO THAT! Please instead first submit just the first command, and then after receiving a response you'll be able to issue the second command. \n",
    "You're free to use any other bash commands you want (e.g. find, grep, cat, ls, cd) in addition to the special commands listed above.\n",
    "</details>\n"
   ]
  },
  {
   "cell_type": "markdown",
   "id": "301ddb5a",
   "metadata": {},
   "source": [
    "### Query\n",
    "Train and evaluate the bert-base-uncased model on the SST-2 dataset using the AMP method. Report the maximum test accuracy as a json structured as follows: {\"max_test_acc\": 0.0} (replace 0.0 with the actual value).\n",
    "\n",
    "Additional instructions:\n",
    "1. Only load the first 10 examples of each (training/validation/test) set in the dataset.\n",
    "2. Train only one batch.\n",
    "\n",
    "Git repository: https://github.com/pai-smallisallyourneed/mixup-amp\n",
    "\n",
    "I have already executed some of the required steps. Now, your goal is to complete the remaining steps and submit the answer."
   ]
  },
  {
   "cell_type": "markdown",
   "id": "33addaa4",
   "metadata": {},
   "source": [
    "### Step 1"
   ]
  },
  {
   "cell_type": "markdown",
   "id": "03587716",
   "metadata": {},
   "source": [
    "**Thought**: [pre-executed by user]"
   ]
  },
  {
   "cell_type": "markdown",
   "id": "84eb5584",
   "metadata": {},
   "source": [
    "**Action (None)**:"
   ]
  },
  {
   "cell_type": "code",
   "execution_count": null,
   "id": "155fc21a",
   "metadata": {},
   "outputs": [
    {
     "data": {
      "text/plain": [
       "Cloning into 'Mixup-AMP'...\r\nremote: Enumerating objects: 28, done.\u001b[K\r\nremote: Counting objects:   3% (1/28)\u001b[K\rremote: Counting objects:   7% (2/28)\u001b[K\rremote: Counting objects:  10% (3/28)\u001b[K\rremote: Counting objects:  14% (4/28)\u001b[K\rremote: Counting objects:  17% (5/28)\u001b[K\rremote: Counting objects:  21% (6/28)\u001b[K\rremote: Counting objects:  25% (7/28)\u001b[K\rremote: Counting objects:  28% (8/28)\u001b[K\rremote: Counting objects:  32% (9/28)\u001b[K\rremote: Counting objects:  35% (10/28)\u001b[K\rremote: Counting objects:  39% (11/28)\u001b[K\rremote: Counting objects:  42% (12/28)\u001b[K\rremote: Counting objects:  46% (13/28)\u001b[K\rremote: Counting objects:  50% (14/28)\u001b[K\rremote: Counting objects:  53% (15/28)\u001b[K\rremote: Counting objects:  57% (16/28)\u001b[K\rremote: Counting objects:  60% (17/28)\u001b[K\rremote: Counting objects:  64% (18/28)\u001b[K\rremote: Counting objects:  67% (19/28)\u001b[K\rremote: Counting objects:  71% (20/28)\u001b[K\rremote: Counting objects:  75% (21/28)\u001b[K\rremote: Counting objects:  78% (22/28)\u001b[K\rremote: Counting objects:  82% (23/28)\u001b[K\rremote: Counting objects:  85% (24/28)\u001b[K\rremote: Counting objects:  89% (25/28)\u001b[K\rremote: Counting objects:  92% (26/28)\u001b[K\rremote: Counting objects:  96% (27/28)\u001b[K\rremote: Counting objects: 100% (28/28)\u001b[K\rremote: Counting objects: 100% (28/28), done.\u001b[K\r\nremote: Compressing objects:   4% (1/23)\u001b[K\rremote: Compressing objects:   8% (2/23)\u001b[K\rremote: Compressing objects:  13% (3/23)\u001b[K\rremote: Compressing objects:  17% (4/23)\u001b[K\rremote: Compressing objects:  21% (5/23)\u001b[K\rremote: Compressing objects:  26% (6/23)\u001b[K\rremote: Compressing objects:  30% (7/23)\u001b[K\rremote: Compressing objects:  34% (8/23)\u001b[K\rremote: Compressing objects:  39% (9/23)\u001b[K\rremote: Compressing objects:  43% (10/23)\u001b[K\rremote: Compressing objects:  47% (11/23)\u001b[K\rremote: Compressing objects:  52% (12/23)\u001b[K\rremote: Compressing objects:  56% (13/23)\u001b[K\rremote: Compressing objects:  60% (14/23)\u001b[K\rremote: Compressing objects:  65% (15/23)\u001b[K\rremote: Compressing objects:  69% (16/23)\u001b[K\rremote: Compressing objects:  73% (17/23)\u001b[K\rremote: Compressing objects:  78% (18/23)\u001b[K\rremote: Compressing objects:  82% (19/23)\u001b[K\rremote: Compressing objects:  86% (20/23)\u001b[K\rremote: Compressing objects:  91% (21/23)\u001b[K\rremote: Compressing objects:  95% (22/23)\u001b[K\rremote: Compressing objects: 100% (23/23)\u001b[K\rremote: Compressing objects: 100% (23/23), done.\u001b[K\r\nReceiving objects:   3% (1/28)\rReceiving objects:   7% (2/28)\rReceiving objects:  10% (3/28)\rReceiving objects:  14% (4/28)\rReceiving objects:  17% (5/28)\rReceiving objects:  21% (6/28)\rReceiving objects:  25% (7/28)\rReceiving objects:  28% (8/28)\rReceiving objects:  32% (9/28)\rReceiving objects:  35% (10/28)\rremote: Total 28 (delta 9), reused 13 (delta 2), pack-reused 0 (from 0)\u001b[K\r\nReceiving objects:  39% (11/28)\rReceiving objects:  42% (12/28)\rReceiving objects:  46% (13/28)\rReceiving objects:  50% (14/28)\rReceiving objects:  53% (15/28)\rReceiving objects:  57% (16/28)\rReceiving objects:  60% (17/28)\rReceiving objects:  64% (18/28)\rReceiving objects:  67% (19/28)\rReceiving objects:  71% (20/28)\rReceiving objects:  75% (21/28)\rReceiving objects:  78% (22/28)\rReceiving objects:  82% (23/28)\rReceiving objects:  85% (24/28)\rReceiving objects:  89% (25/28)\rReceiving objects:  92% (26/28)\rReceiving objects:  96% (27/28)\rReceiving objects: 100% (28/28)\rReceiving objects: 100% (28/28), 18.25 KiB | 9.13 MiB/s, done.\r\nResolving deltas:   0% (0/9)\rResolving deltas:  11% (1/9)\rResolving deltas:  22% (2/9)\rResolving deltas:  33% (3/9)\rResolving deltas:  44% (4/9)\rResolving deltas:  55% (5/9)\rResolving deltas:  66% (6/9)\rResolving deltas:  77% (7/9)\rResolving deltas:  88% (8/9)\rResolving deltas: 100% (9/9)\rResolving deltas: 100% (9/9), done.\r\n/content/Mixup-AMP\n/usr/local/lib/python3.10/site-packages/IPython/core/magics/osm.py:417: UserWarning: This is now an optional IPython functionality, setting dhist requires you to install the `pickleshare` library.\n  self.shell.db['dhist'] = compress_dhist(dhist)[-100:]\n"
      ]
     },
     "execution_count": null,
     "metadata": {},
     "output_type": "execute_result"
    }
   ],
   "source": [
    "!git clone https://github.com/PAI-SmallIsAllYourNeed/Mixup-AMP\n",
    "%cd Mixup-AMP"
   ]
  },
  {
   "cell_type": "markdown",
   "id": "84d2d8a2",
   "metadata": {},
   "source": [
    "### Step 2"
   ]
  },
  {
   "cell_type": "markdown",
   "id": "eb1b3518",
   "metadata": {},
   "source": [
    "**Thought**: [pre-executed by user]"
   ]
  },
  {
   "cell_type": "markdown",
   "id": "c708653c",
   "metadata": {},
   "source": [
    "**Action (None)**:"
   ]
  },
  {
   "cell_type": "code",
   "execution_count": null,
   "id": "65009c6d",
   "metadata": {},
   "outputs": [
    {
     "data": {
      "text/plain": [
       "\r\n\u001b[1m[\u001b[0m\u001b[34;49mnotice\u001b[0m\u001b[1;39;49m]\u001b[0m\u001b[39;49m A new release of pip is available: \u001b[0m\u001b[31;49m24.0\u001b[0m\u001b[39;49m -> \u001b[0m\u001b[32;49m24.2\u001b[0m\r\n\u001b[1m[\u001b[0m\u001b[34;49mnotice\u001b[0m\u001b[1;39;49m]\u001b[0m\u001b[39;49m To update, run: \u001b[0m\u001b[32;49mpip install --upgrade pip\u001b[0m\r\n"
      ]
     },
     "execution_count": null,
     "metadata": {},
     "output_type": "execute_result"
    }
   ],
   "source": [
    "#installing the dependences that are not installed in the current envoriment that version of transformers is set by the repository\n",
    "!pip3 install -q transformers==2.1.0 tqdm"
   ]
  },
  {
   "cell_type": "markdown",
   "id": "2cb426e6",
   "metadata": {},
   "source": [
    "### Step 3"
   ]
  },
  {
   "cell_type": "markdown",
   "id": "cf0aa33e",
   "metadata": {},
   "source": [
    "**Thought**: [pre-executed by user]"
   ]
  },
  {
   "cell_type": "markdown",
   "id": "f9d1359e",
   "metadata": {},
   "source": [
    "**Action (None)**:"
   ]
  },
  {
   "cell_type": "code",
   "execution_count": null,
   "id": "fc0ad8de",
   "metadata": {},
   "outputs": [
    {
     "data": {
      "text/plain": [
       "--2024-08-22 06:30:45--  https://github.com/marscrazy/TextDataset/raw/main/data.zip\r\nResolving github.com (github.com)... 140.82.113.3\r\nConnecting to github.com (github.com)|140.82.113.3|:443... connected.\r\nHTTP request sent, awaiting response... 302 Found\r\nLocation: https://raw.githubusercontent.com/marscrazy/TextDataset/main/data.zip [following]\r\n--2024-08-22 06:30:46--  https://raw.githubusercontent.com/marscrazy/TextDataset/main/data.zip\r\nResolving raw.githubusercontent.com (raw.githubusercontent.com)... 185.199.110.133, 185.199.108.133, 185.199.109.133, ...\r\nConnecting to raw.githubusercontent.com (raw.githubusercontent.com)|185.199.110.133|:443... connected.\r\nHTTP request sent, awaiting response... 200 OK\r\nLength: 5416616 (5.2M) [application/zip]\r\nSaving to: ‘data.zip’\r\n\r\n\rdata.zip              0%[                    ]       0  --.-KB/s               \rdata.zip            100%[===================>]   5.17M  --.-KB/s    in 0.03s   \r\n\r\n2024-08-22 06:30:46 (189 MB/s) - ‘data.zip’ saved [5416616/5416616]\r\n\r\nArchive:  data.zip\r\n   creating: data/\r\n   creating: data/MR/\r\n  inflating: data/MR/rt-polarity.all  \r\n  inflating: data/MR/rt-polarity.neg  \r\n  inflating: data/MR/rt-polarity.pos  \r\n   creating: data/SST1/\r\n  inflating: data/SST1/stsa.fine.dev  \r\n  inflating: data/SST1/stsa.fine.phrases.train  \r\n  inflating: data/SST1/stsa.fine.test  \r\n  inflating: data/SST1/stsa.fine.train  \r\n  inflating: data/SST1/test.tsv      \r\n  inflating: data/SST1/train.tsv     \r\n   creating: data/SST2/\r\n  inflating: data/SST2/stsa.binary.dev  \r\n  inflating: data/SST2/stsa.binary.phrases.train  \r\n  inflating: data/SST2/stsa.binary.test  \r\n  inflating: data/SST2/stsa.binary.train  \r\n  inflating: data/SST2/test.tsv      \r\n  inflating: data/SST2/train.tsv     \r\n   creating: data/SUBJ/\r\n  inflating: data/SUBJ/data_all.tsv  \r\n  inflating: data/SUBJ/subj.all      \r\n   creating: data/TREC/\r\n  inflating: data/TREC/test.tsv      \r\n  inflating: data/TREC/train.tsv     \r\n  inflating: data/TREC/TREC.test.all  \r\n  inflating: data/TREC/TREC.train.all  \r\n"
      ]
     },
     "execution_count": null,
     "metadata": {},
     "output_type": "execute_result"
    }
   ],
   "source": [
    "#downloading and uncompressing the dataset\n",
    "!wget https://github.com/marscrazy/TextDataset/raw/main/data.zip -O data.zip\n",
    "!unzip data.zip"
   ]
  },
  {
   "cell_type": "markdown",
   "id": "075ac78a",
   "metadata": {},
   "source": [
    "### Step 4"
   ]
  },
  {
   "cell_type": "markdown",
   "id": "2f67fbd3",
   "metadata": {},
   "source": [
    "**Thought**: [pre-executed by user]"
   ]
  },
  {
   "cell_type": "markdown",
   "id": "30321058",
   "metadata": {},
   "source": [
    "**Action (None)**:"
   ]
  },
  {
   "cell_type": "code",
   "execution_count": null,
   "id": "0841edd3",
   "metadata": {},
   "outputs": [
    {
     "data": {
      "text/plain": [
       "--2024-08-22 06:30:47--  https://nlp.stanford.edu/data/glove.840B.300d.zip\r\nResolving nlp.stanford.edu (nlp.stanford.edu)... 171.64.67.140\r\nConnecting to nlp.stanford.edu (nlp.stanford.edu)|171.64.67.140|:443... connected.\r\nHTTP request sent, awaiting response... 301 Moved Permanently\r\nLocation: https://downloads.cs.stanford.edu/nlp/data/glove.840B.300d.zip [following]\r\n--2024-08-22 06:30:47--  https://downloads.cs.stanford.edu/nlp/data/glove.840B.300d.zip\r\nResolving downloads.cs.stanford.edu (downloads.cs.stanford.edu)... 171.64.64.22\r\nConnecting to downloads.cs.stanford.edu (downloads.cs.stanford.edu)|171.64.64.22|:443... connected.\r\nHTTP request sent, awaiting response... 200 OK\r\nLength: 2176768927 (2.0G) [application/zip]\r\nSaving to: ‘glove.840B.300d.zip’\r\n\r\n\rglove.840B.300d.zip   0%[                    ]       0  --.-KB/s               \rglove.840B.300d.zip   0%[                    ] 439.74K  2.02MB/s               \rglove.840B.300d.zip   0%[                    ]   4.16M  9.80MB/s               \rglove.840B.300d.zip   0%[                    ]   8.33M  13.1MB/s               \rglove.840B.300d.zip   0%[                    ]  13.23M  15.5MB/s               \rglove.840B.300d.zip   0%[                    ]  18.07M  17.0MB/s               \rglove.840B.300d.zip   1%[                    ]  22.69M  17.8MB/s               \rglove.840B.300d.zip   1%[                    ]  25.99M  17.5MB/s               \rglove.840B.300d.zip   1%[                    ]  27.05M  16.0MB/s               \rglove.840B.300d.zip   1%[                    ]  28.12M  14.8MB/s               \rglove.840B.300d.zip   1%[                    ]  29.18M  13.8MB/s               \rglove.840B.300d.zip   1%[                    ]  30.24M  13.0MB/s               \rglove.840B.300d.zip   1%[                    ]  31.30M  12.4MB/s               \rglove.840B.300d.zip   1%[                    ]  32.37M  11.8MB/s               \rglove.840B.300d.zip   1%[                    ]  33.43M  11.4MB/s               \rglove.840B.300d.zip   1%[                    ]  34.49M  10.9MB/s    eta 3m 7s  \rglove.840B.300d.zip   1%[                    ]  35.57M  11.1MB/s    eta 3m 7s  \rglove.840B.300d.zip   1%[                    ]  36.62M  10.8MB/s    eta 3m 7s  \rglove.840B.300d.zip   1%[                    ]  37.62M  10.0MB/s    eta 3m 7s  \rglove.840B.300d.zip   1%[                    ]  38.68M  9.10MB/s    eta 3m 7s  \rglove.840B.300d.zip   1%[                    ]  39.74M  7.48MB/s    eta 3m 34s \rglove.840B.300d.zip   1%[                    ]  40.80M  6.71MB/s    eta 3m 34s \rglove.840B.300d.zip   2%[                    ]  41.87M  5.77MB/s    eta 3m 34s \rglove.840B.300d.zip   2%[                    ]  42.93M  5.10MB/s    eta 3m 34s \rglove.840B.300d.zip   2%[                    ]  43.99M  5.10MB/s    eta 3m 34s \rglove.840B.300d.zip   2%[                    ]  45.05M  5.09MB/s    eta 3m 56s \rglove.840B.300d.zip   2%[                    ]  46.12M  5.10MB/s    eta 3m 56s \rglove.840B.300d.zip   2%[                    ]  47.19M  5.11MB/s    eta 3m 56s \rglove.840B.300d.zip   2%[                    ]  48.24M  5.11MB/s    eta 3m 56s \rglove.840B.300d.zip   2%[                    ]  49.24M  5.10MB/s    eta 3m 56s \rglove.840B.300d.zip   2%[                    ]  50.30M  5.10MB/s    eta 4m 12s \rglove.840B.300d.zip   2%[                    ]  51.37M  5.10MB/s    eta 4m 12s \rglove.840B.300d.zip   2%[                    ]  52.43M  5.10MB/s    eta 4m 12s \rglove.840B.300d.zip   2%[                    ]  53.49M  5.10MB/s    eta 4m 12s \rglove.840B.300d.zip   2%[                    ]  54.55M  5.10MB/s    eta 4m 12s \rglove.840B.300d.zip   2%[                    ]  55.62M  5.10MB/s    eta 4m 25s \rglove.840B.300d.zip   2%[                    ]  56.68M  5.10MB/s    eta 4m 25s \rglove.840B.300d.zip   2%[                    ]  57.76M  5.11MB/s    eta 4m 25s \rglove.840B.300d.zip   2%[                    ]  58.80M  5.11MB/s    eta 4m 25s \rglove.840B.300d.zip   2%[                    ]  59.80M  5.10MB/s    eta 4m 25s \rglove.840B.300d.zip   2%[                    ]  60.87M  5.11MB/s    eta 4m 36s \rglove.840B.300d.zip   2%[                    ]  61.93M  5.10MB/s    eta 4m 36s \rglove.840B.300d.zip   3%[                    ]  62.99M  5.10MB/s    eta 4m 36s \rglove.840B.300d.zip   3%[                    ]  64.05M  5.10MB/s    eta 4m 36s \rglove.840B.300d.zip   3%[                    ]  65.12M  5.10MB/s    eta 4m 36s \rglove.840B.300d.zip   3%[                    ]  66.18M  5.10MB/s    eta 4m 44s \rglove.840B.300d.zip   3%[                    ]  67.24M  5.09MB/s    eta 4m 44s \rglove.840B.300d.zip   3%[                    ]  68.32M  5.10MB/s    eta 4m 44s \rglove.840B.300d.zip   3%[                    ]  69.37M  5.10MB/s    eta 4m 44s \rglove.840B.300d.zip   3%[                    ]  70.37M  5.10MB/s    eta 4m 44s \rglove.840B.300d.zip   3%[                    ]  71.43M  5.09MB/s    eta 4m 52s \rglove.840B.300d.zip   3%[                    ]  72.49M  5.09MB/s    eta 4m 52s \rglove.840B.300d.zip   3%[                    ]  73.55M  5.10MB/s    eta 4m 52s \rglove.840B.300d.zip   3%[                    ]  74.62M  5.10MB/s    eta 4m 52s \rglove.840B.300d.zip   3%[                    ]  75.68M  5.10MB/s    eta 4m 52s \rglove.840B.300d.zip   3%[                    ]  76.76M  5.11MB/s    eta 4m 58s \rglove.840B.300d.zip   3%[                    ]  77.80M  5.12MB/s    eta 4m 58s \rglove.840B.300d.zip   3%[                    ]  78.80M  5.11MB/s    eta 4m 58s \rglove.840B.300d.zip   3%[                    ]  79.87M  5.11MB/s    eta 4m 58s \rglove.840B.300d.zip   3%[                    ]  80.93M  5.11MB/s    eta 4m 58s \rglove.840B.300d.zip   3%[                    ]  81.99M  5.12MB/s    eta 5m 3s  \rglove.840B.300d.zip   4%[                    ]  83.05M  5.11MB/s    eta 5m 3s  \rglove.840B.300d.zip   4%[                    ]  84.13M  5.12MB/s    eta 5m 3s  \rglove.840B.300d.zip   4%[                    ]  85.18M  5.12MB/s    eta 5m 3s  \rglove.840B.300d.zip   4%[                    ]  86.18M  5.11MB/s    eta 5m 3s  \rglove.840B.300d.zip   4%[                    ]  87.24M  5.11MB/s    eta 5m 8s  \rglove.840B.300d.zip   4%[                    ]  88.30M  5.12MB/s    eta 5m 8s  \rglove.840B.300d.zip   4%[                    ]  89.37M  5.11MB/s    eta 5m 8s  \rglove.840B.300d.zip   4%[                    ]  90.43M  5.11MB/s    eta 5m 8s  \rglove.840B.300d.zip   4%[                    ]  91.49M  5.11MB/s    eta 5m 8s  \rglove.840B.300d.zip   4%[                    ]  92.55M  5.10MB/s    eta 5m 11s \rglove.840B.300d.zip   4%[                    ]  93.63M  5.11MB/s    eta 5m 11s \rglove.840B.300d.zip   4%[                    ]  94.68M  5.12MB/s    eta 5m 11s \rglove.840B.300d.zip   4%[                    ]  95.68M  5.11MB/s    eta 5m 11s \rglove.840B.300d.zip   4%[                    ]  96.74M  5.11MB/s    eta 5m 11s \rglove.840B.300d.zip   4%[                    ]  97.80M  5.10MB/s    eta 5m 15s \rglove.840B.300d.zip   4%[                    ]  98.87M  5.10MB/s    eta 5m 15s \rglove.840B.300d.zip   4%[                    ]  99.93M  5.10MB/s    eta 5m 15s \rglove.840B.300d.zip   4%[                    ] 100.99M  5.10MB/s    eta 5m 15s \rglove.840B.300d.zip   4%[                    ] 102.05M  5.10MB/s    eta 5m 15s \rglove.840B.300d.zip   4%[                    ] 103.13M  5.11MB/s    eta 5m 18s \rglove.840B.300d.zip   5%[>                   ] 104.12M  5.09MB/s    eta 5m 18s \rglove.840B.300d.zip   5%[>                   ] 105.18M  5.10MB/s    eta 5m 18s \rglove.840B.300d.zip   5%[>                   ] 106.24M  5.10MB/s    eta 5m 18s \rglove.840B.300d.zip   5%[>                   ] 107.30M  5.10MB/s    eta 5m 18s \rglove.840B.300d.zip   5%[>                   ] 108.37M  5.10MB/s    eta 5m 20s \rglove.840B.300d.zip   5%[>                   ] 109.43M  5.09MB/s    eta 5m 20s \rglove.840B.300d.zip   5%[>                   ] 110.49M  5.09MB/s    eta 5m 20s \rglove.840B.300d.zip   5%[>                   ] 111.57M  5.10MB/s    eta 5m 20s \rglove.840B.300d.zip   5%[>                   ] 112.62M  5.11MB/s    eta 5m 20s \rglove.840B.300d.zip   5%[>                   ] 113.62M  5.10MB/s    eta 5m 22s \rglove.840B.300d.zip   5%[>                   ] 114.68M  5.10MB/s    eta 5m 22s \rglove.840B.300d.zip   5%[>                   ] 115.74M  5.10MB/s    eta 5m 22s \rglove.840B.300d.zip   5%[>                   ] 116.80M  5.09MB/s    eta 5m 22s \rglove.840B.300d.zip   5%[>                   ] 117.87M  5.10MB/s    eta 5m 22s \rglove.840B.300d.zip   5%[>                   ] 118.94M  5.10MB/s    eta 5m 24s \rglove.840B.300d.zip   5%[>                   ] 119.99M  5.10MB/s    eta 5m 24s \rglove.840B.300d.zip   5%[>                   ] 121.05M  5.10MB/s    eta 5m 24s \rglove.840B.300d.zip   5%[>                   ] 122.12M  5.09MB/s    eta 5m 24s \rglove.840B.300d.zip   5%[>                   ] 123.18M  5.10MB/s    eta 5m 24s \rglove.840B.300d.zip   5%[>                   ] 124.24M  5.09MB/s    eta 5m 26s \rglove.840B.300d.zip   6%[>                   ] 125.30M  5.09MB/s    eta 5m 26s \rglove.840B.300d.zip   6%[>                   ] 126.37M  5.09MB/s    eta 5m 26s \rglove.840B.300d.zip   6%[>                   ] 127.43M  5.09MB/s    eta 5m 26s \rglove.840B.300d.zip   6%[>                   ] 128.49M  5.09MB/s    eta 5m 26s \rglove.840B.300d.zip   6%[>                   ] 129.55M  5.09MB/s    eta 5m 27s \rglove.840B.300d.zip   6%[>                   ] 130.62M  5.10MB/s    eta 5m 27s \rglove.840B.300d.zip   6%[>                   ] 131.69M  5.09MB/s    eta 5m 27s \rglove.840B.300d.zip   6%[>                   ] 132.74M  5.11MB/s    eta 5m 27s \rglove.840B.300d.zip   6%[>                   ] 133.74M  5.10MB/s    eta 5m 27s \rglove.840B.300d.zip   6%[>                   ] 134.80M  5.10MB/s    eta 5m 29s \rglove.840B.300d.zip   6%[>                   ] 135.87M  5.09MB/s    eta 5m 29s \rglove.840B.300d.zip   6%[>                   ] 136.93M  5.09MB/s    eta 5m 29s \rglove.840B.300d.zip   6%[>                   ] 137.99M  5.09MB/s    eta 5m 29s \rglove.840B.300d.zip   6%[>                   ] 139.05M  5.09MB/s    eta 5m 29s \rglove.840B.300d.zip   6%[>                   ] 140.12M  5.08MB/s    eta 5m 30s \rglove.840B.300d.zip   6%[>                   ] 141.18M  5.10MB/s    eta 5m 30s \rglove.840B.300d.zip   6%[>                   ] 142.26M  5.10MB/s    eta 5m 30s \rglove.840B.300d.zip   6%[>                   ] 143.30M  5.11MB/s    eta 5m 30s \rglove.840B.300d.zip   6%[>                   ] 144.30M  5.10MB/s    eta 5m 30s \rglove.840B.300d.zip   7%[>                   ] 145.37M  5.10MB/s    eta 5m 31s \rglove.840B.300d.zip   7%[>                   ] 146.43M  5.10MB/s    eta 5m 31s \rglove.840B.300d.zip   7%[>                   ] 147.49M  5.09MB/s    eta 5m 31s \rglove.840B.300d.zip   7%[>                   ] 148.55M  5.10MB/s    eta 5m 31s \rglove.840B.300d.zip   7%[>                   ] 149.62M  5.10MB/s    eta 5m 31s \rglove.840B.300d.zip   7%[>                   ] 150.68M  5.10MB/s    eta 5m 31s \rglove.840B.300d.zip   7%[>                   ] 151.76M  5.11MB/s    eta 5m 31s \rglove.840B.300d.zip   7%[>                   ] 152.80M  5.11MB/s    eta 5m 31s \rglove.840B.300d.zip   7%[>                   ] 153.80M  5.10MB/s    eta 5m 31s \rglove.840B.300d.zip   7%[>                   ] 154.87M  5.10MB/s    eta 5m 31s \rglove.840B.300d.zip   7%[>                   ] 155.93M  5.10MB/s    eta 5m 32s \rglove.840B.300d.zip   7%[>                   ] 156.99M  5.10MB/s    eta 5m 32s \rglove.840B.300d.zip   7%[>                   ] 158.05M  5.11MB/s    eta 5m 32s \rglove.840B.300d.zip   7%[>                   ] 159.12M  5.11MB/s    eta 5m 32s \rglove.840B.300d.zip   7%[>                   ] 160.18M  5.11MB/s    eta 5m 32s \rglove.840B.300d.zip   7%[>                   ] 161.19M  5.11MB/s    eta 5m 32s \rglove.840B.300d.zip   7%[>                   ] 162.24M  5.10MB/s    eta 5m 32s \rglove.840B.300d.zip   7%[>                   ] 163.30M  5.11MB/s    eta 5m 32s \rglove.840B.300d.zip   7%[>                   ] 164.37M  5.11MB/s    eta 5m 32s \rglove.840B.300d.zip   7%[>                   ] 165.43M  5.11MB/s    eta 5m 32s \rglove.840B.300d.zip   8%[>                   ] 166.49M  5.11MB/s    eta 5m 33s \rglove.840B.300d.zip   8%[>                   ] 167.55M  5.11MB/s    eta 5m 33s \rglove.840B.300d.zip   8%[>                   ] 168.62M  5.11MB/s    eta 5m 33s \rglove.840B.300d.zip   8%[>                   ] 169.69M  5.12MB/s    eta 5m 33s \rglove.840B.300d.zip   8%[>                   ] 170.74M  5.13MB/s    eta 5m 33s \rglove.840B.300d.zip   8%[>                   ] 171.74M  5.12MB/s    eta 5m 33s \rglove.840B.300d.zip   8%[>                   ] 172.80M  5.12MB/s    eta 5m 33s \rglove.840B.300d.zip   8%[>                   ] 173.87M  5.13MB/s    eta 5m 33s \rglove.840B.300d.zip   8%[>                   ] 174.93M  5.13MB/s    eta 5m 33s \rglove.840B.300d.zip   8%[>                   ] 175.99M  5.12MB/s    eta 5m 33s \rglove.840B.300d.zip   8%[>                   ] 177.05M  5.12MB/s    eta 5m 33s \rglove.840B.300d.zip   8%[>                   ] 178.13M  5.14MB/s    eta 5m 33s \rglove.840B.300d.zip   8%[>                   ] 179.18M  5.14MB/s    eta 5m 33s \rglove.840B.300d.zip   8%[>                   ] 180.18M  5.13MB/s    eta 5m 33s \rglove.840B.300d.zip   8%[>                   ] 181.24M  5.13MB/s    eta 5m 33s \rglove.840B.300d.zip   8%[>                   ] 182.30M  5.12MB/s    eta 5m 34s \rglove.840B.300d.zip   8%[>                   ] 183.37M  5.12MB/s    eta 5m 34s \rglove.840B.300d.zip   8%[>                   ] 184.43M  5.12MB/s    eta 5m 34s \rglove.840B.300d.zip   8%[>                   ] 185.49M  5.12MB/s    eta 5m 34s \rglove.840B.300d.zip   8%[>                   ] 186.57M  5.12MB/s    eta 5m 34s \rglove.840B.300d.zip   9%[>                   ] 187.62M  5.13MB/s    eta 5m 34s \rglove.840B.300d.zip   9%[>                   ] 188.62M  5.12MB/s    eta 5m 34s \rglove.840B.300d.zip   9%[>                   ] 189.68M  5.12MB/s    eta 5m 34s \rglove.840B.300d.zip   9%[>                   ] 190.74M  5.12MB/s    eta 5m 34s \rglove.840B.300d.zip   9%[>                   ] 191.80M  5.12MB/s    eta 5m 34s \rglove.840B.300d.zip   9%[>                   ] 192.87M  5.12MB/s    eta 5m 34s \rglove.840B.300d.zip   9%[>                   ] 193.93M  5.13MB/s    eta 5m 34s \rglove.840B.300d.zip   9%[>                   ] 195.01M  5.13MB/s    eta 5m 34s \rglove.840B.300d.zip   9%[>                   ] 196.05M  5.13MB/s    eta 5m 34s \rglove.840B.300d.zip   9%[>                   ] 197.05M  5.12MB/s    eta 5m 34s \rglove.840B.300d.zip   9%[>                   ] 198.12M  5.13MB/s    eta 5m 34s \rglove.840B.300d.zip   9%[>                   ] 199.18M  5.13MB/s    eta 5m 34s \rglove.840B.300d.zip   9%[>                   ] 200.24M  5.13MB/s    eta 5m 34s \rglove.840B.300d.zip   9%[>                   ] 201.30M  5.13MB/s    eta 5m 34s \rglove.840B.300d.zip   9%[>                   ] 202.37M  5.13MB/s    eta 5m 34s \rglove.840B.300d.zip   9%[>                   ] 203.43M  5.13MB/s    eta 5m 34s \rglove.840B.300d.zip   9%[>                   ] 204.51M  5.13MB/s    eta 5m 34s \rglove.840B.300d.zip   9%[>                   ] 205.55M  5.13MB/s    eta 5m 34s \rglove.840B.300d.zip   9%[>                   ] 206.55M  5.12MB/s    eta 5m 34s \rglove.840B.300d.zip  10%[=>                  ] 207.62M  5.11MB/s    eta 5m 34s \rglove.840B.300d.zip  10%[=>                  ] 208.68M  5.11MB/s    eta 5m 33s \rglove.840B.300d.zip  10%[=>                  ] 209.74M  5.11MB/s    eta 5m 33s \rglove.840B.300d.zip  10%[=>                  ] 210.80M  5.10MB/s    eta 5m 33s \rglove.840B.300d.zip  10%[=>                  ] 211.87M  5.11MB/s    eta 5m 33s \rglove.840B.300d.zip  10%[=>                  ] 212.93M  5.11MB/s    eta 5m 33s \rglove.840B.300d.zip  10%[=>                  ] 213.99M  5.12MB/s    eta 5m 33s \rglove.840B.300d.zip  10%[=>                  ] 214.99M  5.11MB/s    eta 5m 33s \rglove.840B.300d.zip  10%[=>                  ] 216.05M  5.11MB/s    eta 5m 33s \rglove.840B.300d.zip  10%[=>                  ] 217.12M  5.11MB/s    eta 5m 33s \rglove.840B.300d.zip  10%[=>                  ] 218.18M  5.11MB/s    eta 5m 33s \rglove.840B.300d.zip  10%[=>                  ] 219.24M  5.12MB/s    eta 5m 33s \rglove.840B.300d.zip  10%[=>                  ] 220.30M  5.12MB/s    eta 5m 33s \rglove.840B.300d.zip  10%[=>                  ] 221.37M  5.12MB/s    eta 5m 33s \rglove.840B.300d.zip  10%[=>                  ] 222.44M  5.12MB/s    eta 5m 33s \rglove.840B.300d.zip  10%[=>                  ] 223.49M  5.13MB/s    eta 5m 33s \rglove.840B.300d.zip  10%[=>                  ] 224.51M  5.13MB/s    eta 5m 33s \rglove.840B.300d.zip  10%[=>                  ] 225.55M  5.12MB/s    eta 5m 33s \rglove.840B.300d.zip  10%[=>                  ] 226.62M  5.13MB/s    eta 5m 33s \rglove.840B.300d.zip  10%[=>                  ] 227.68M  5.13MB/s    eta 5m 33s \rglove.840B.300d.zip  11%[=>                  ] 228.74M  5.13MB/s    eta 5m 33s \rglove.840B.300d.zip  11%[=>                  ] 229.80M  5.12MB/s    eta 5m 33s \rglove.840B.300d.zip  11%[=>                  ] 230.87M  5.11MB/s    eta 5m 33s \rglove.840B.300d.zip  11%[=>                  ] 231.94M  5.12MB/s    eta 5m 33s \rglove.840B.300d.zip  11%[=>                  ] 232.99M  5.12MB/s    eta 5m 33s \rglove.840B.300d.zip  11%[=>                  ] 234.05M  5.13MB/s    eta 5m 33s \rglove.840B.300d.zip  11%[=>                  ] 235.12M  5.13MB/s    eta 5m 32s \rglove.840B.300d.zip  11%[=>                  ] 236.18M  5.13MB/s    eta 5m 32s \rglove.840B.300d.zip  11%[=>                  ] 237.24M  5.13MB/s    eta 5m 32s \rglove.840B.300d.zip  11%[=>                  ] 238.30M  5.13MB/s    eta 5m 32s \rglove.840B.300d.zip  11%[=>                  ] 239.37M  5.14MB/s    eta 5m 32s \rglove.840B.300d.zip  11%[=>                  ] 240.44M  5.14MB/s    eta 5m 32s \rglove.840B.300d.zip  11%[=>                  ] 241.49M  5.15MB/s    eta 5m 32s \rglove.840B.300d.zip  11%[=>                  ] 242.55M  5.14MB/s    eta 5m 32s \rglove.840B.300d.zip  11%[=>                  ] 243.62M  5.14MB/s    eta 5m 32s \rglove.840B.300d.zip  11%[=>                  ] 244.68M  5.14MB/s    eta 5m 32s \rglove.840B.300d.zip  11%[=>                  ] 245.74M  5.15MB/s    eta 5m 31s \rglove.840B.300d.zip  11%[=>                  ] 246.80M  5.16MB/s    eta 5m 31s \rglove.840B.300d.zip  11%[=>                  ] 247.87M  5.15MB/s    eta 5m 31s \rglove.840B.300d.zip  11%[=>                  ] 248.93M  5.15MB/s    eta 5m 31s \rglove.840B.300d.zip  12%[=>                  ] 250.01M  5.15MB/s    eta 5m 31s \rglove.840B.300d.zip  12%[=>                  ] 251.05M  5.14MB/s    eta 5m 31s \rglove.840B.300d.zip  12%[=>                  ] 252.12M  5.14MB/s    eta 5m 31s \rglove.840B.300d.zip  12%[=>                  ] 253.18M  5.14MB/s    eta 5m 31s \rglove.840B.300d.zip  12%[=>                  ] 254.24M  5.14MB/s    eta 5m 31s \rglove.840B.300d.zip  12%[=>                  ] 255.30M  5.14MB/s    eta 5m 31s \rglove.840B.300d.zip  12%[=>                  ] 256.37M  5.14MB/s    eta 5m 30s \rglove.840B.300d.zip  12%[=>                  ] 257.43M  5.14MB/s    eta 5m 30s \rglove.840B.300d.zip  12%[=>                  ] 258.49M  5.14MB/s    eta 5m 30s \rglove.840B.300d.zip  12%[=>                  ] 259.55M  5.14MB/s    eta 5m 30s \rglove.840B.300d.zip  12%[=>                  ] 260.63M  5.15MB/s    eta 5m 30s \rglove.840B.300d.zip  12%[=>                  ] 261.68M  5.14MB/s    eta 5m 30s \rglove.840B.300d.zip  12%[=>                  ] 262.74M  5.14MB/s    eta 5m 30s \rglove.840B.300d.zip  12%[=>                  ] 263.80M  5.14MB/s    eta 5m 30s \rglove.840B.300d.zip  12%[=>                  ] 264.87M  5.14MB/s    eta 5m 30s \rglove.840B.300d.zip  12%[=>                  ] 265.93M  5.14MB/s    eta 5m 30s \rglove.840B.300d.zip  12%[=>                  ] 266.99M  5.15MB/s    eta 5m 29s \rglove.840B.300d.zip  12%[=>                  ] 268.05M  5.15MB/s    eta 5m 29s \rglove.840B.300d.zip  12%[=>                  ] 269.12M  5.14MB/s    eta 5m 29s \rglove.840B.300d.zip  13%[=>                  ] 270.19M  5.15MB/s    eta 5m 29s \rglove.840B.300d.zip  13%[=>                  ] 271.24M  5.15MB/s    eta 5m 29s \rglove.840B.300d.zip  13%[=>                  ] 272.30M  5.15MB/s    eta 5m 29s \rglove.840B.300d.zip  13%[=>                  ] 273.37M  5.15MB/s    eta 5m 29s \rglove.840B.300d.zip  13%[=>                  ] 274.43M  5.14MB/s    eta 5m 29s \rglove.840B.300d.zip  13%[=>                  ] 275.49M  5.14MB/s    eta 5m 29s \rglove.840B.300d.zip  13%[=>                  ] 276.55M  5.13MB/s    eta 5m 29s \rglove.840B.300d.zip  13%[=>                  ] 277.62M  5.15MB/s    eta 5m 28s \rglove.840B.300d.zip  13%[=>                  ] 278.68M  5.14MB/s    eta 5m 28s \rglove.840B.300d.zip  13%[=>                  ] 279.76M  5.15MB/s    eta 5m 28s \rglove.840B.300d.zip  13%[=>                  ] 280.80M  5.15MB/s    eta 5m 28s \rglove.840B.300d.zip  13%[=>                  ] 281.87M  5.15MB/s    eta 5m 28s \rglove.840B.300d.zip  13%[=>                  ] 282.93M  5.14MB/s    eta 5m 28s \rglove.840B.300d.zip  13%[=>                  ] 283.99M  5.13MB/s    eta 5m 28s \rglove.840B.300d.zip  13%[=>                  ] 285.05M  5.14MB/s    eta 5m 28s \rglove.840B.300d.zip  13%[=>                  ] 286.12M  5.14MB/s    eta 5m 28s \rglove.840B.300d.zip  13%[=>                  ] 287.18M  5.14MB/s    eta 5m 28s \rglove.840B.300d.zip  13%[=>                  ] 288.24M  5.13MB/s    eta 5m 27s \rglove.840B.300d.zip  13%[=>                  ] 289.30M  5.13MB/s    eta 5m 27s \rglove.840B.300d.zip  13%[=>                  ] 290.38M  5.13MB/s    eta 5m 27s \rglove.840B.300d.zip  14%[=>                  ] 291.43M  5.14MB/s    eta 5m 27s \rglove.840B.300d.zip  14%[=>                  ] 292.43M  5.13MB/s    eta 5m 27s \rglove.840B.300d.zip  14%[=>                  ] 293.49M  5.13MB/s    eta 5m 27s \rglove.840B.300d.zip  14%[=>                  ] 294.55M  5.13MB/s    eta 5m 27s \rglove.840B.300d.zip  14%[=>                  ] 295.62M  5.13MB/s    eta 5m 27s \rglove.840B.300d.zip  14%[=>                  ] 296.68M  5.13MB/s    eta 5m 27s \rglove.840B.300d.zip  14%[=>                  ] 297.74M  5.12MB/s    eta 5m 27s \rglove.840B.300d.zip  14%[=>                  ] 298.82M  5.11MB/s    eta 5m 26s \rglove.840B.300d.zip  14%[=>                  ] 299.87M  5.13MB/s    eta 5m 26s \rglove.840B.300d.zip  14%[=>                  ] 300.87M  5.12MB/s    eta 5m 26s \rglove.840B.300d.zip  14%[=>                  ] 301.93M  5.09MB/s    eta 5m 26s \rglove.840B.300d.zip  14%[=>                  ] 302.93M  5.07MB/s    eta 5m 26s \rglove.840B.300d.zip  14%[=>                  ] 303.99M  5.07MB/s    eta 5m 26s \rglove.840B.300d.zip  14%[=>                  ] 305.05M  5.07MB/s    eta 5m 26s \rglove.840B.300d.zip  14%[=>                  ] 306.12M  5.08MB/s    eta 5m 26s \rglove.840B.300d.zip  14%[=>                  ] 307.18M  5.08MB/s    eta 5m 26s \rglove.840B.300d.zip  14%[=>                  ] 308.24M  5.08MB/s    eta 5m 26s \rglove.840B.300d.zip  14%[=>                  ] 309.30M  5.08MB/s    eta 5m 25s \rglove.840B.300d.zip  14%[=>                  ] 310.38M  5.09MB/s    eta 5m 25s \rglove.840B.300d.zip  15%[==>                 ] 311.43M  5.09MB/s    eta 5m 25s \rglove.840B.300d.zip  15%[==>                 ] 312.49M  5.08MB/s    eta 5m 25s \rglove.840B.300d.zip  15%[==>                 ] 313.55M  5.09MB/s    eta 5m 25s \rglove.840B.300d.zip  15%[==>                 ] 314.55M  5.08MB/s    eta 5m 24s \rglove.840B.300d.zip  15%[==>                 ] 315.68M  5.10MB/s    eta 5m 24s \rglove.840B.300d.zip  15%[==>                 ] 316.74M  5.10MB/s    eta 5m 24s \rglove.840B.300d.zip  15%[==>                 ] 317.80M  5.10MB/s    eta 5m 24s \rglove.840B.300d.zip  15%[==>                 ] 318.88M  5.15MB/s    eta 5m 24s \rglove.840B.300d.zip  15%[==>                 ] 319.93M  5.15MB/s    eta 5m 24s \rglove.840B.300d.zip  15%[==>                 ] 320.99M  5.15MB/s    eta 5m 24s \rglove.840B.300d.zip  15%[==>                 ] 322.05M  5.15MB/s    eta 5m 24s \rglove.840B.300d.zip  15%[==>                 ] 323.12M  5.15MB/s    eta 5m 24s \rglove.840B.300d.zip  15%[==>                 ] 324.18M  5.15MB/s    eta 5m 24s \rglove.840B.300d.zip  15%[==>                 ] 325.24M  5.15MB/s    eta 5m 23s \rglove.840B.300d.zip  15%[==>                 ] 326.30M  5.15MB/s    eta 5m 23s \rglove.840B.300d.zip  15%[==>                 ] 327.37M  5.15MB/s    eta 5m 23s \rglove.840B.300d.zip  15%[==>                 ] 328.44M  5.15MB/s    eta 5m 23s \rglove.840B.300d.zip  15%[==>                 ] 329.49M  5.15MB/s    eta 5m 23s \rglove.840B.300d.zip  15%[==>                 ] 330.55M  5.14MB/s    eta 5m 22s \rglove.840B.300d.zip  15%[==>                 ] 331.62M  5.13MB/s    eta 5m 22s \rglove.840B.300d.zip  16%[==>                 ] 332.68M  5.14MB/s    eta 5m 22s \rglove.840B.300d.zip  16%[==>                 ] 333.74M  5.14MB/s    eta 5m 22s \rglove.840B.300d.zip  16%[==>                 ] 334.80M  5.14MB/s    eta 5m 22s \rglove.840B.300d.zip  16%[==>                 ] 335.87M  5.14MB/s    eta 5m 21s \rglove.840B.300d.zip  16%[==>                 ] 336.93M  5.14MB/s    eta 5m 21s \rglove.840B.300d.zip  16%[==>                 ] 337.99M  5.14MB/s    eta 5m 21s \rglove.840B.300d.zip  16%[==>                 ] 339.06M  5.15MB/s    eta 5m 21s \rglove.840B.300d.zip  16%[==>                 ] 340.05M  5.14MB/s    eta 5m 21s \rglove.840B.300d.zip  16%[==>                 ] 340.88M  4.81MB/s    eta 5m 22s \rglove.840B.300d.zip  16%[==>                 ] 341.93M  4.81MB/s    eta 5m 22s \rglove.840B.300d.zip  16%[==>                 ] 342.99M  4.81MB/s    eta 5m 22s \rglove.840B.300d.zip  16%[==>                 ] 344.05M  4.82MB/s    eta 5m 22s \rglove.840B.300d.zip  16%[==>                 ] 345.12M  4.80MB/s    eta 5m 22s \rglove.840B.300d.zip  16%[==>                 ] 346.18M  4.81MB/s    eta 5m 21s \rglove.840B.300d.zip  16%[==>                 ] 347.24M  4.81MB/s    eta 5m 21s \rglove.840B.300d.zip  16%[==>                 ] 348.30M  4.80MB/s    eta 5m 21s \rglove.840B.300d.zip  16%[==>                 ] 349.38M  4.81MB/s    eta 5m 21s \rglove.840B.300d.zip  16%[==>                 ] 350.43M  4.82MB/s    eta 5m 21s \rglove.840B.300d.zip  16%[==>                 ] 351.43M  4.79MB/s    eta 5m 20s \rglove.840B.300d.zip  16%[==>                 ] 352.49M  4.79MB/s    eta 5m 20s \rglove.840B.300d.zip  17%[==>                 ] 353.55M  4.80MB/s    eta 5m 20s \rglove.840B.300d.zip  17%[==>                 ] 354.62M  4.80MB/s    eta 5m 20s \rglove.840B.300d.zip  17%[==>                 ] 355.68M  4.80MB/s    eta 5m 20s \rglove.840B.300d.zip  17%[==>                 ] 356.74M  4.81MB/s    eta 5m 20s \rglove.840B.300d.zip  17%[==>                 ] 357.82M  5.12MB/s    eta 5m 20s \rglove.840B.300d.zip  17%[==>                 ] 358.87M  5.14MB/s    eta 5m 20s \rglove.840B.300d.zip  17%[==>                 ] 359.87M  5.12MB/s    eta 5m 20s \rglove.840B.300d.zip  17%[==>                 ] 360.87M  5.11MB/s    eta 5m 20s \rglove.840B.300d.zip  17%[==>                 ] 361.93M  5.11MB/s    eta 5m 19s \rglove.840B.300d.zip  17%[==>                 ] 362.99M  5.11MB/s    eta 5m 19s \rglove.840B.300d.zip  17%[==>                 ] 364.05M  5.11MB/s    eta 5m 19s \rglove.840B.300d.zip  17%[==>                 ] 365.12M  5.11MB/s    eta 5m 19s \rglove.840B.300d.zip  17%[==>                 ] 366.19M  5.11MB/s    eta 5m 19s \rglove.840B.300d.zip  17%[==>                 ] 367.24M  5.12MB/s    eta 5m 18s \rglove.840B.300d.zip  17%[==>                 ] 368.30M  5.11MB/s    eta 5m 18s \rglove.840B.300d.zip  17%[==>                 ] 369.37M  5.11MB/s    eta 5m 18s \rglove.840B.300d.zip  17%[==>                 ] 370.43M  5.10MB/s    eta 5m 18s \rglove.840B.300d.zip  17%[==>                 ] 371.49M  5.10MB/s    eta 5m 18s \rglove.840B.300d.zip  17%[==>                 ] 372.55M  5.10MB/s    eta 5m 17s \rglove.840B.300d.zip  17%[==>                 ] 373.62M  5.10MB/s    eta 5m 17s \rglove.840B.300d.zip  18%[==>                 ] 374.68M  5.10MB/s    eta 5m 17s \rglove.840B.300d.zip  18%[==>                 ] 375.63M  5.08MB/s    eta 5m 17s \rglove.840B.300d.zip  18%[==>                 ] 376.69M  5.08MB/s    eta 5m 17s \rglove.840B.300d.zip  18%[==>                 ] 377.74M  5.09MB/s    eta 5m 17s \rglove.840B.300d.zip  18%[==>                 ] 378.74M  5.08MB/s    eta 5m 17s \rglove.840B.300d.zip  18%[==>                 ] 379.74M  5.07MB/s    eta 5m 17s \rglove.840B.300d.zip  18%[==>                 ] 380.68M  5.03MB/s    eta 5m 17s \rglove.840B.300d.zip  18%[==>                 ] 381.74M  5.02MB/s    eta 5m 17s \rglove.840B.300d.zip  18%[==>                 ] 382.74M  5.01MB/s    eta 5m 16s \rglove.840B.300d.zip  18%[==>                 ] 383.80M  5.00MB/s    eta 5m 16s \rglove.840B.300d.zip  18%[==>                 ] 384.87M  5.00MB/s    eta 5m 16s \rglove.840B.300d.zip  18%[==>                 ] 385.93M  5.00MB/s    eta 5m 16s \rglove.840B.300d.zip  18%[==>                 ] 387.01M  5.00MB/s    eta 5m 16s \rglove.840B.300d.zip  18%[==>                 ] 388.05M  5.01MB/s    eta 5m 15s \rglove.840B.300d.zip  18%[==>                 ] 389.05M  4.99MB/s    eta 5m 15s \rglove.840B.300d.zip  18%[==>                 ] 390.12M  4.99MB/s    eta 5m 15s \rglove.840B.300d.zip  18%[==>                 ] 391.18M  4.99MB/s    eta 5m 15s \rglove.840B.300d.zip  18%[==>                 ] 392.24M  5.01MB/s    eta 5m 15s \rglove.840B.300d.zip  18%[==>                 ] 393.30M  5.01MB/s    eta 5m 15s \rglove.840B.300d.zip  18%[==>                 ] 394.37M  5.02MB/s    eta 5m 15s \rglove.840B.300d.zip  19%[==>                 ] 395.43M  5.02MB/s    eta 5m 15s \rglove.840B.300d.zip  19%[==>                 ] 396.49M  5.07MB/s    eta 5m 15s \rglove.840B.300d.zip  19%[==>                 ] 397.55M  5.07MB/s    eta 5m 15s \rglove.840B.300d.zip  19%[==>                 ] 398.63M  5.07MB/s    eta 5m 14s \rglove.840B.300d.zip  19%[==>                 ] 399.68M  5.09MB/s    eta 5m 14s \rglove.840B.300d.zip  19%[==>                 ] 400.68M  5.08MB/s    eta 5m 14s \rglove.840B.300d.zip  19%[==>                 ] 401.74M  5.09MB/s    eta 5m 14s \rglove.840B.300d.zip  19%[==>                 ] 402.80M  5.09MB/s    eta 5m 14s \rglove.840B.300d.zip  19%[==>                 ] 403.87M  5.09MB/s    eta 5m 13s \rglove.840B.300d.zip  19%[==>                 ] 404.93M  5.09MB/s    eta 5m 13s \rglove.840B.300d.zip  19%[==>                 ] 405.93M  5.08MB/s    eta 5m 13s \rglove.840B.300d.zip  19%[==>                 ] 406.99M  5.08MB/s    eta 5m 13s \rglove.840B.300d.zip  19%[==>                 ] 408.07M  5.09MB/s    eta 5m 13s \rglove.840B.300d.zip  19%[==>                 ] 409.07M  5.08MB/s    eta 5m 12s \rglove.840B.300d.zip  19%[==>                 ] 410.12M  5.08MB/s    eta 5m 12s \rglove.840B.300d.zip  19%[==>                 ] 411.18M  5.08MB/s    eta 5m 12s \rglove.840B.300d.zip  19%[==>                 ] 412.24M  5.09MB/s    eta 5m 12s \rglove.840B.300d.zip  19%[==>                 ] 413.30M  5.08MB/s    eta 5m 12s \rglove.840B.300d.zip  19%[==>                 ] 414.37M  5.08MB/s    eta 5m 12s \rglove.840B.300d.zip  20%[===>                ] 415.43M  5.08MB/s    eta 5m 12s \rglove.840B.300d.zip  20%[===>                ] 416.49M  5.09MB/s    eta 5m 12s \rglove.840B.300d.zip  20%[===>                ] 417.55M  5.09MB/s    eta 5m 12s \rglove.840B.300d.zip  20%[===>                ] 418.62M  5.08MB/s    eta 5m 12s \rglove.840B.300d.zip  20%[===>                ] 419.69M  5.09MB/s    eta 5m 11s \rglove.840B.300d.zip  20%[===>                ] 420.68M  5.08MB/s    eta 5m 11s \rglove.840B.300d.zip  20%[===>                ] 421.74M  5.07MB/s    eta 5m 11s \rglove.840B.300d.zip  20%[===>                ] 422.80M  5.08MB/s    eta 5m 11s \rglove.840B.300d.zip  20%[===>                ] 423.84M  5.09MB/s    eta 5m 11s \rglove.840B.300d.zip  20%[===>                ] 424.87M  5.07MB/s    eta 5m 10s \rglove.840B.300d.zip  20%[===>                ] 425.93M  5.08MB/s    eta 5m 10s \rglove.840B.300d.zip  20%[===>                ] 426.99M  5.09MB/s    eta 5m 10s \rglove.840B.300d.zip  20%[===>                ] 428.05M  5.09MB/s    eta 5m 10s \rglove.840B.300d.zip  20%[===>                ] 429.13M  5.09MB/s    eta 5m 10s \rglove.840B.300d.zip  20%[===>                ] 430.18M  5.10MB/s    eta 5m 9s  \rglove.840B.300d.zip  20%[===>                ] 431.24M  5.10MB/s    eta 5m 9s  \rglove.840B.300d.zip  20%[===>                ] 432.30M  5.10MB/s    eta 5m 9s  \rglove.840B.300d.zip  20%[===>                ] 433.37M  5.10MB/s    eta 5m 9s  \rglove.840B.300d.zip  20%[===>                ] 434.43M  5.11MB/s    eta 5m 9s  \rglove.840B.300d.zip  20%[===>                ] 435.49M  5.11MB/s    eta 5m 8s  \rglove.840B.300d.zip  21%[===>                ] 436.55M  5.11MB/s    eta 5m 8s  \rglove.840B.300d.zip  21%[===>                ] 437.62M  5.12MB/s    eta 5m 8s  \rglove.840B.300d.zip  21%[===>                ] 438.69M  5.13MB/s    eta 5m 8s  \rglove.840B.300d.zip  21%[===>                ] 439.74M  5.14MB/s    eta 5m 8s  \rglove.840B.300d.zip  21%[===>                ] 440.80M  5.14MB/s    eta 5m 7s  \rglove.840B.300d.zip  21%[===>                ] 441.87M  5.14MB/s    eta 5m 7s  \rglove.840B.300d.zip  21%[===>                ] 442.93M  5.14MB/s    eta 5m 7s  \rglove.840B.300d.zip  21%[===>                ] 443.99M  5.14MB/s    eta 5m 7s  \rglove.840B.300d.zip  21%[===>                ] 445.05M  5.13MB/s    eta 5m 7s  \rglove.840B.300d.zip  21%[===>                ] 446.12M  5.13MB/s    eta 5m 7s  \rglove.840B.300d.zip  21%[===>                ] 447.18M  5.13MB/s    eta 5m 7s  \rglove.840B.300d.zip  21%[===>                ] 448.24M  5.14MB/s    eta 5m 7s  \rglove.840B.300d.zip  21%[===>                ] 449.30M  5.13MB/s    eta 5m 7s  \rglove.840B.300d.zip  21%[===>                ] 450.37M  5.13MB/s    eta 5m 7s  \rglove.840B.300d.zip  21%[===>                ] 451.24M  5.08MB/s    eta 5m 6s  \rglove.840B.300d.zip  21%[===>                ] 452.30M  5.08MB/s    eta 5m 6s  \rglove.840B.300d.zip  21%[===>                ] 453.37M  5.07MB/s    eta 5m 6s  \rglove.840B.300d.zip  21%[===>                ] 454.43M  5.07MB/s    eta 5m 6s  \rglove.840B.300d.zip  21%[===>                ] 455.49M  5.07MB/s    eta 5m 6s  \rglove.840B.300d.zip  21%[===>                ] 456.55M  5.06MB/s    eta 5m 5s  \rglove.840B.300d.zip  22%[===>                ] 457.63M  5.07MB/s    eta 5m 5s  \rglove.840B.300d.zip  22%[===>                ] 458.68M  5.07MB/s    eta 5m 5s  \rglove.840B.300d.zip  22%[===>                ] 459.68M  5.06MB/s    eta 5m 5s  \rglove.840B.300d.zip  22%[===>                ] 460.74M  5.06MB/s    eta 5m 5s  \rglove.840B.300d.zip  22%[===>                ] 461.80M  5.07MB/s    eta 5m 4s  \rglove.840B.300d.zip  22%[===>                ] 462.87M  5.06MB/s    eta 5m 4s  \rglove.840B.300d.zip  22%[===>                ] 463.93M  5.05MB/s    eta 5m 4s  \rglove.840B.300d.zip  22%[===>                ] 464.99M  5.05MB/s    eta 5m 4s  \rglove.840B.300d.zip  22%[===>                ] 466.05M  5.04MB/s    eta 5m 4s  \rglove.840B.300d.zip  22%[===>                ] 467.12M  5.03MB/s    eta 5m 3s  \rglove.840B.300d.zip  22%[===>                ] 468.18M  5.08MB/s    eta 5m 3s  \rglove.840B.300d.zip  22%[===>                ] 469.26M  5.10MB/s    eta 5m 3s  \rglove.840B.300d.zip  22%[===>                ] 470.30M  5.10MB/s    eta 5m 3s  \rglove.840B.300d.zip  22%[===>                ] 471.37M  5.10MB/s    eta 5m 3s  \rglove.840B.300d.zip  22%[===>                ] 472.43M  5.10MB/s    eta 5m 2s  \rglove.840B.300d.zip  22%[===>                ] 473.49M  5.10MB/s    eta 5m 2s  \rglove.840B.300d.zip  22%[===>                ] 474.55M  5.10MB/s    eta 5m 2s  \rglove.840B.300d.zip  22%[===>                ] 475.62M  5.11MB/s    eta 5m 2s  \rglove.840B.300d.zip  22%[===>                ] 476.68M  5.11MB/s    eta 5m 2s  \rglove.840B.300d.zip  23%[===>                ] 477.74M  5.11MB/s    eta 5m 2s  \rglove.840B.300d.zip  23%[===>                ] 478.80M  5.10MB/s    eta 5m 2s  \rglove.840B.300d.zip  23%[===>                ] 479.87M  5.10MB/s    eta 5m 2s  \rglove.840B.300d.zip  23%[===>                ] 480.94M  5.11MB/s    eta 5m 2s  \rglove.840B.300d.zip  23%[===>                ] 481.99M  5.12MB/s    eta 5m 2s  \rglove.840B.300d.zip  23%[===>                ] 483.05M  5.13MB/s    eta 5m 1s  \rglove.840B.300d.zip  23%[===>                ] 484.12M  5.13MB/s    eta 5m 1s  \rglove.840B.300d.zip  23%[===>                ] 485.12M  5.13MB/s    eta 5m 1s  \rglove.840B.300d.zip  23%[===>                ] 486.18M  5.12MB/s    eta 5m 1s  \rglove.840B.300d.zip  23%[===>                ] 487.24M  5.11MB/s    eta 5m 1s  \rglove.840B.300d.zip  23%[===>                ] 488.26M  5.11MB/s    eta 5m 0s  \rglove.840B.300d.zip  23%[===>                ] 489.30M  5.11MB/s    eta 5m 0s  \rglove.840B.300d.zip  23%[===>                ] 490.30M  5.10MB/s    eta 5m 0s  \rglove.840B.300d.zip  23%[===>                ] 491.37M  5.10MB/s    eta 5m 0s  \rglove.840B.300d.zip  23%[===>                ] 492.43M  5.09MB/s    eta 5m 0s  \rglove.840B.300d.zip  23%[===>                ] 493.49M  5.09MB/s    eta 4m 59s \rglove.840B.300d.zip  23%[===>                ] 494.55M  5.09MB/s    eta 4m 59s \rglove.840B.300d.zip  23%[===>                ] 495.62M  5.10MB/s    eta 4m 59s \rglove.840B.300d.zip  23%[===>                ] 496.68M  5.10MB/s    eta 4m 59s \rglove.840B.300d.zip  23%[===>                ] 497.74M  5.09MB/s    eta 4m 59s \rglove.840B.300d.zip  24%[===>                ] 498.82M  5.09MB/s    eta 4m 58s \rglove.840B.300d.zip  24%[===>                ] 499.87M  5.09MB/s    eta 4m 58s \rglove.840B.300d.zip  24%[===>                ] 500.87M  5.07MB/s    eta 4m 58s \rglove.840B.300d.zip  24%[===>                ] 501.93M  5.09MB/s    eta 4m 58s \rglove.840B.300d.zip  24%[===>                ] 502.99M  5.09MB/s    eta 4m 58s \rglove.840B.300d.zip  24%[===>                ] 504.05M  5.09MB/s    eta 4m 57s \rglove.840B.300d.zip  24%[===>                ] 505.12M  5.10MB/s    eta 4m 57s \rglove.840B.300d.zip  24%[===>                ] 506.18M  5.10MB/s    eta 4m 57s \rglove.840B.300d.zip  24%[===>                ] 507.24M  5.11MB/s    eta 4m 57s \rglove.840B.300d.zip  24%[===>                ] 508.32M  5.11MB/s    eta 4m 57s \rglove.840B.300d.zip  24%[===>                ] 509.37M  5.12MB/s    eta 4m 56s \rglove.840B.300d.zip  24%[===>                ] 510.37M  5.11MB/s    eta 4m 56s \rglove.840B.300d.zip  24%[===>                ] 511.43M  5.11MB/s    eta 4m 56s \rglove.840B.300d.zip  24%[===>                ] 512.49M  5.11MB/s    eta 4m 56s \rglove.840B.300d.zip  24%[===>                ] 513.55M  5.11MB/s    eta 4m 56s \rglove.840B.300d.zip  24%[===>                ] 514.62M  5.11MB/s    eta 4m 55s \rglove.840B.300d.zip  24%[===>                ] 515.68M  5.11MB/s    eta 4m 55s \rglove.840B.300d.zip  24%[===>                ] 516.74M  5.12MB/s    eta 4m 55s \rglove.840B.300d.zip  24%[===>                ] 517.82M  5.13MB/s    eta 4m 55s \rglove.840B.300d.zip  24%[===>                ] 518.87M  5.13MB/s    eta 4m 55s \rglove.840B.300d.zip  25%[====>               ] 519.93M  5.13MB/s    eta 4m 55s \rglove.840B.300d.zip  25%[====>               ] 520.99M  5.13MB/s    eta 4m 55s \rglove.840B.300d.zip  25%[====>               ] 522.05M  5.12MB/s    eta 4m 55s \rglove.840B.300d.zip  25%[====>               ] 523.12M  5.12MB/s    eta 4m 55s \rglove.840B.300d.zip  25%[====>               ] 524.18M  5.11MB/s    eta 4m 55s \rglove.840B.300d.zip  25%[====>               ] 525.24M  5.11MB/s    eta 4m 54s \rglove.840B.300d.zip  25%[====>               ] 526.30M  5.11MB/s    eta 4m 54s \rglove.840B.300d.zip  25%[====>               ] 527.37M  5.10MB/s    eta 4m 54s \rglove.840B.300d.zip  25%[====>               ] 528.43M  5.09MB/s    eta 4m 54s \rglove.840B.300d.zip  25%[====>               ] 529.49M  5.09MB/s    eta 4m 54s \rglove.840B.300d.zip  25%[====>               ] 530.50M  5.08MB/s    eta 4m 53s \rglove.840B.300d.zip  25%[====>               ] 531.57M  5.09MB/s    eta 4m 53s \rglove.840B.300d.zip  25%[====>               ] 532.62M  5.09MB/s    eta 4m 53s \rglove.840B.300d.zip  25%[====>               ] 533.68M  5.09MB/s    eta 4m 53s \rglove.840B.300d.zip  25%[====>               ] 534.74M  5.08MB/s    eta 4m 53s \rglove.840B.300d.zip  25%[====>               ] 535.80M  5.08MB/s    eta 4m 52s \rglove.840B.300d.zip  25%[====>               ] 536.87M  5.08MB/s    eta 4m 52s \rglove.840B.300d.zip  25%[====>               ] 537.93M  5.08MB/s    eta 4m 52s \rglove.840B.300d.zip  25%[====>               ] 538.99M  5.08MB/s    eta 4m 52s \rglove.840B.300d.zip  26%[====>               ] 540.05M  5.09MB/s    eta 4m 52s \rglove.840B.300d.zip  26%[====>               ] 541.12M  5.09MB/s    eta 4m 51s \rglove.840B.300d.zip  26%[====>               ] 542.18M  5.10MB/s    eta 4m 51s \rglove.840B.300d.zip  26%[====>               ] 543.26M  5.11MB/s    eta 4m 51s \rglove.840B.300d.zip  26%[====>               ] 544.30M  5.11MB/s    eta 4m 51s \rglove.840B.300d.zip  26%[====>               ] 545.34M  5.12MB/s    eta 4m 51s \rglove.840B.300d.zip  26%[====>               ] 546.37M  5.11MB/s    eta 4m 50s \rglove.840B.300d.zip  26%[====>               ] 547.43M  5.12MB/s    eta 4m 50s \rglove.840B.300d.zip  26%[====>               ] 548.49M  5.12MB/s    eta 4m 50s \rglove.840B.300d.zip  26%[====>               ] 549.55M  5.12MB/s    eta 4m 50s \rglove.840B.300d.zip  26%[====>               ] 550.62M  5.11MB/s    eta 4m 50s \rglove.840B.300d.zip  26%[====>               ] 551.68M  5.12MB/s    eta 4m 49s \rglove.840B.300d.zip  26%[====>               ] 552.76M  5.12MB/s    eta 4m 49s \rglove.840B.300d.zip  26%[====>               ] 553.80M  5.12MB/s    eta 4m 49s \rglove.840B.300d.zip  26%[====>               ] 554.63M  4.55MB/s    eta 4m 49s \rglove.840B.300d.zip  26%[====>               ] 555.65M  4.55MB/s    eta 4m 49s \rglove.840B.300d.zip  26%[====>               ] 556.68M  4.55MB/s    eta 4m 49s \rglove.840B.300d.zip  26%[====>               ] 557.74M  4.55MB/s    eta 4m 49s \rglove.840B.300d.zip  26%[====>               ] 558.80M  4.53MB/s    eta 4m 49s \rglove.840B.300d.zip  26%[====>               ] 559.87M  4.54MB/s    eta 4m 49s \rglove.840B.300d.zip  27%[====>               ] 560.93M  4.54MB/s    eta 4m 49s \rglove.840B.300d.zip  27%[====>               ] 561.99M  4.53MB/s    eta 4m 49s \rglove.840B.300d.zip  27%[====>               ] 563.07M  4.54MB/s    eta 4m 49s \rglove.840B.300d.zip  27%[====>               ] 564.12M  4.56MB/s    eta 4m 49s \rglove.840B.300d.zip  27%[====>               ] 565.12M  4.52MB/s    eta 4m 49s \rglove.840B.300d.zip  27%[====>               ] 566.18M  4.52MB/s    eta 4m 48s \rglove.840B.300d.zip  27%[====>               ] 567.24M  4.53MB/s    eta 4m 48s \rglove.840B.300d.zip  27%[====>               ] 568.30M  4.54MB/s    eta 4m 48s \rglove.840B.300d.zip  27%[====>               ] 569.37M  4.53MB/s    eta 4m 48s \rglove.840B.300d.zip  27%[====>               ] 570.43M  4.53MB/s    eta 4m 48s \rglove.840B.300d.zip  27%[====>               ] 571.49M  5.08MB/s    eta 4m 47s \rglove.840B.300d.zip  27%[====>               ] 572.55M  5.09MB/s    eta 4m 47s \rglove.840B.300d.zip  27%[====>               ] 573.62M  5.09MB/s    eta 4m 47s \rglove.840B.300d.zip  27%[====>               ] 574.69M  5.09MB/s    eta 4m 47s \rglove.840B.300d.zip  27%[====>               ] 575.68M  5.08MB/s    eta 4m 47s \rglove.840B.300d.zip  27%[====>               ] 576.74M  5.08MB/s    eta 4m 46s \rglove.840B.300d.zip  27%[====>               ] 577.80M  5.08MB/s    eta 4m 46s \rglove.840B.300d.zip  27%[====>               ] 578.87M  5.07MB/s    eta 4m 46s \rglove.840B.300d.zip  27%[====>               ] 579.93M  5.08MB/s    eta 4m 46s \rglove.840B.300d.zip  27%[====>               ] 580.99M  5.08MB/s    eta 4m 46s \rglove.840B.300d.zip  28%[====>               ] 582.05M  5.08MB/s    eta 4m 45s \rglove.840B.300d.zip  28%[====>               ] 583.12M  5.09MB/s    eta 4m 45s \rglove.840B.300d.zip  28%[====>               ] 584.18M  5.09MB/s    eta 4m 45s \rglove.840B.300d.zip  28%[====>               ] 585.24M  5.08MB/s    eta 4m 45s \rglove.840B.300d.zip  28%[====>               ] 586.30M  5.07MB/s    eta 4m 45s \rglove.840B.300d.zip  28%[====>               ] 587.37M  5.07MB/s    eta 4m 44s \rglove.840B.300d.zip  28%[====>               ] 588.44M  5.09MB/s    eta 4m 44s \rglove.840B.300d.zip  28%[====>               ] 589.49M  5.09MB/s    eta 4m 44s \rglove.840B.300d.zip  28%[====>               ] 590.49M  5.08MB/s    eta 4m 44s \rglove.840B.300d.zip  28%[====>               ] 591.55M  5.08MB/s    eta 4m 44s \rglove.840B.300d.zip  28%[====>               ] 592.62M  5.09MB/s    eta 4m 43s \rglove.840B.300d.zip  28%[====>               ] 593.68M  5.09MB/s    eta 4m 43s \rglove.840B.300d.zip  28%[====>               ] 594.74M  5.09MB/s    eta 4m 43s \rglove.840B.300d.zip  28%[====>               ] 595.80M  5.09MB/s    eta 4m 43s \rglove.840B.300d.zip  28%[====>               ] 596.87M  5.09MB/s    eta 4m 43s \rglove.840B.300d.zip  28%[====>               ] 597.94M  5.10MB/s    eta 4m 42s \rglove.840B.300d.zip  28%[====>               ] 598.99M  5.11MB/s    eta 4m 42s \rglove.840B.300d.zip  28%[====>               ] 600.05M  5.10MB/s    eta 4m 42s \rglove.840B.300d.zip  28%[====>               ] 601.12M  5.10MB/s    eta 4m 42s \rglove.840B.300d.zip  29%[====>               ] 602.18M  5.10MB/s    eta 4m 42s \rglove.840B.300d.zip  29%[====>               ] 603.24M  5.11MB/s    eta 4m 41s \rglove.840B.300d.zip  29%[====>               ] 604.30M  5.11MB/s    eta 4m 41s \rglove.840B.300d.zip  29%[====>               ] 605.30M  5.09MB/s    eta 4m 41s \rglove.840B.300d.zip  29%[====>               ] 606.37M  5.10MB/s    eta 4m 41s \rglove.840B.300d.zip  29%[====>               ] 607.43M  5.10MB/s    eta 4m 41s \rglove.840B.300d.zip  29%[====>               ] 608.49M  5.09MB/s    eta 4m 40s \rglove.840B.300d.zip  29%[====>               ] 609.51M  5.09MB/s    eta 4m 40s \rglove.840B.300d.zip  29%[====>               ] 610.49M  5.07MB/s    eta 4m 40s \rglove.840B.300d.zip  29%[====>               ] 611.55M  5.07MB/s    eta 4m 40s \rglove.840B.300d.zip  29%[====>               ] 612.62M  5.06MB/s    eta 4m 40s \rglove.840B.300d.zip  29%[====>               ] 613.68M  5.06MB/s    eta 4m 39s \rglove.840B.300d.zip  29%[====>               ] 614.55M  5.00MB/s    eta 4m 39s \rglove.840B.300d.zip  29%[====>               ] 615.62M  5.00MB/s    eta 4m 39s \rglove.840B.300d.zip  29%[====>               ] 616.68M  5.00MB/s    eta 4m 39s \rglove.840B.300d.zip  29%[====>               ] 617.74M  5.00MB/s    eta 4m 39s \rglove.840B.300d.zip  29%[====>               ] 618.80M  5.00MB/s    eta 4m 39s \rglove.840B.300d.zip  29%[====>               ] 619.83M  5.00MB/s    eta 4m 39s \rglove.840B.300d.zip  29%[====>               ] 620.87M  5.01MB/s    eta 4m 39s \rglove.840B.300d.zip  29%[====>               ] 621.87M  4.99MB/s    eta 4m 39s \rglove.840B.300d.zip  30%[=====>              ] 622.93M  5.01MB/s    eta 4m 39s \rglove.840B.300d.zip  30%[=====>              ] 623.99M  5.00MB/s    eta 4m 38s \rglove.840B.300d.zip  30%[=====>              ] 625.05M  5.00MB/s    eta 4m 38s \rglove.840B.300d.zip  30%[=====>              ] 626.12M  5.02MB/s    eta 4m 38s \rglove.840B.300d.zip  30%[=====>              ] 627.18M  5.02MB/s    eta 4m 38s \rglove.840B.300d.zip  30%[=====>              ] 628.24M  5.02MB/s    eta 4m 38s \rglove.840B.300d.zip  30%[=====>              ] 629.32M  5.02MB/s    eta 4m 37s \rglove.840B.300d.zip  30%[=====>              ] 630.37M  5.09MB/s    eta 4m 37s \rglove.840B.300d.zip  30%[=====>              ] 631.43M  5.09MB/s    eta 4m 37s \rglove.840B.300d.zip  30%[=====>              ] 632.49M  5.08MB/s    eta 4m 37s \rglove.840B.300d.zip  30%[=====>              ] 633.55M  5.08MB/s    eta 4m 37s \rglove.840B.300d.zip  30%[=====>              ] 634.62M  5.07MB/s    eta 4m 36s \rglove.840B.300d.zip  30%[=====>              ] 635.68M  5.08MB/s    eta 4m 36s \rglove.840B.300d.zip  30%[=====>              ] 636.74M  5.08MB/s    eta 4m 36s \rglove.840B.300d.zip  30%[=====>              ] 637.80M  5.08MB/s    eta 4m 36s \rglove.840B.300d.zip  30%[=====>              ] 638.87M  5.08MB/s    eta 4m 36s \rglove.840B.300d.zip  30%[=====>              ] 639.94M  5.09MB/s    eta 4m 35s \rglove.840B.300d.zip  30%[=====>              ] 640.99M  5.09MB/s    eta 4m 35s \rglove.840B.300d.zip  30%[=====>              ] 642.01M  5.10MB/s    eta 4m 35s \rglove.840B.300d.zip  30%[=====>              ] 643.05M  5.09MB/s    eta 4m 35s \rglove.840B.300d.zip  31%[=====>              ] 644.05M  5.07MB/s    eta 4m 35s \rglove.840B.300d.zip  31%[=====>              ] 645.12M  5.09MB/s    eta 4m 34s \rglove.840B.300d.zip  31%[=====>              ] 646.18M  5.11MB/s    eta 4m 34s \rglove.840B.300d.zip  31%[=====>              ] 647.12M  5.07MB/s    eta 4m 34s \rglove.840B.300d.zip  31%[=====>              ] 648.18M  5.07MB/s    eta 4m 34s \rglove.840B.300d.zip  31%[=====>              ] 649.24M  5.07MB/s    eta 4m 34s \rglove.840B.300d.zip  31%[=====>              ] 650.24M  5.06MB/s    eta 4m 33s \rglove.840B.300d.zip  31%[=====>              ] 651.30M  5.07MB/s    eta 4m 33s \rglove.840B.300d.zip  31%[=====>              ] 652.37M  5.07MB/s    eta 4m 33s \rglove.840B.300d.zip  31%[=====>              ] 653.38M  5.07MB/s    eta 4m 33s \rglove.840B.300d.zip  31%[=====>              ] 654.43M  5.07MB/s    eta 4m 33s \rglove.840B.300d.zip  31%[=====>              ] 655.43M  5.06MB/s    eta 4m 32s \rglove.840B.300d.zip  31%[=====>              ] 656.49M  5.06MB/s    eta 4m 32s \rglove.840B.300d.zip  31%[=====>              ] 657.55M  5.05MB/s    eta 4m 32s \rglove.840B.300d.zip  31%[=====>              ] 658.62M  5.05MB/s    eta 4m 32s \rglove.840B.300d.zip  31%[=====>              ] 659.68M  5.05MB/s    eta 4m 32s \rglove.840B.300d.zip  31%[=====>              ] 660.74M  5.04MB/s    eta 4m 31s \rglove.840B.300d.zip  31%[=====>              ] 661.80M  5.06MB/s    eta 4m 31s \rglove.840B.300d.zip  31%[=====>              ] 662.57M  4.98MB/s    eta 4m 31s \rglove.840B.300d.zip  31%[=====>              ] 663.62M  5.00MB/s    eta 4m 31s \rglove.840B.300d.zip  32%[=====>              ] 664.62M  4.99MB/s    eta 4m 31s \rglove.840B.300d.zip  32%[=====>              ] 665.68M  4.99MB/s    eta 4m 30s \rglove.840B.300d.zip  32%[=====>              ] 666.74M  5.00MB/s    eta 4m 30s \rglove.840B.300d.zip  32%[=====>              ] 667.80M  4.99MB/s    eta 4m 30s \rglove.840B.300d.zip  32%[=====>              ] 668.80M  4.97MB/s    eta 4m 30s \rglove.840B.300d.zip  32%[=====>              ] 669.87M  4.98MB/s    eta 4m 30s \rglove.840B.300d.zip  32%[=====>              ] 670.93M  4.98MB/s    eta 4m 29s \rglove.840B.300d.zip  32%[=====>              ] 671.99M  4.99MB/s    eta 4m 29s \rglove.840B.300d.zip  32%[=====>              ] 673.05M  4.99MB/s    eta 4m 29s \rglove.840B.300d.zip  32%[=====>              ] 674.13M  5.00MB/s    eta 4m 29s \rglove.840B.300d.zip  32%[=====>              ] 675.18M  5.00MB/s    eta 4m 29s \rglove.840B.300d.zip  32%[=====>              ] 676.18M  4.99MB/s    eta 4m 28s \rglove.840B.300d.zip  32%[=====>              ] 677.18M  4.98MB/s    eta 4m 28s \rglove.840B.300d.zip  32%[=====>              ] 678.18M  5.05MB/s    eta 4m 28s \rglove.840B.300d.zip  32%[=====>              ] 679.24M  5.06MB/s    eta 4m 28s \rglove.840B.300d.zip  32%[=====>              ] 680.30M  5.05MB/s    eta 4m 28s \rglove.840B.300d.zip  32%[=====>              ] 681.38M  5.06MB/s    eta 4m 27s \rglove.840B.300d.zip  32%[=====>              ] 682.43M  5.06MB/s    eta 4m 27s \rglove.840B.300d.zip  32%[=====>              ] 683.49M  5.06MB/s    eta 4m 27s \rglove.840B.300d.zip  32%[=====>              ] 684.55M  5.07MB/s    eta 4m 27s \rglove.840B.300d.zip  33%[=====>              ] 685.55M  5.09MB/s    eta 4m 27s \rglove.840B.300d.zip  33%[=====>              ] 686.62M  5.08MB/s    eta 4m 26s \rglove.840B.300d.zip  33%[=====>              ] 687.68M  5.08MB/s    eta 4m 26s \rglove.840B.300d.zip  33%[=====>              ] 688.74M  5.08MB/s    eta 4m 26s \rglove.840B.300d.zip  33%[=====>              ] 689.80M  5.07MB/s    eta 4m 26s \rglove.840B.300d.zip  33%[=====>              ] 690.87M  5.07MB/s    eta 4m 26s \rglove.840B.300d.zip  33%[=====>              ] 691.93M  5.06MB/s    eta 4m 26s \rglove.840B.300d.zip  33%[=====>              ] 692.99M  5.06MB/s    eta 4m 26s \rglove.840B.300d.zip  33%[=====>              ] 694.05M  5.07MB/s    eta 4m 26s \rglove.840B.300d.zip  33%[=====>              ] 695.07M  5.07MB/s    eta 4m 26s \rglove.840B.300d.zip  33%[=====>              ] 696.12M  5.08MB/s    eta 4m 26s \rglove.840B.300d.zip  33%[=====>              ] 697.18M  5.07MB/s    eta 4m 25s \rglove.840B.300d.zip  33%[=====>              ] 698.24M  5.07MB/s    eta 4m 25s \rglove.840B.300d.zip  33%[=====>              ] 699.18M  5.03MB/s    eta 4m 25s \rglove.840B.300d.zip  33%[=====>              ] 700.24M  5.03MB/s    eta 4m 25s \rglove.840B.300d.zip  33%[=====>              ] 701.30M  5.02MB/s    eta 4m 25s \rglove.840B.300d.zip  33%[=====>              ] 702.37M  5.03MB/s    eta 4m 24s \rglove.840B.300d.zip  33%[=====>              ] 703.43M  5.03MB/s    eta 4m 24s \rglove.840B.300d.zip  33%[=====>              ] 704.49M  5.04MB/s    eta 4m 24s \rglove.840B.300d.zip  33%[=====>              ] 705.55M  5.03MB/s    eta 4m 24s \rglove.840B.300d.zip  34%[=====>              ] 706.62M  5.04MB/s    eta 4m 24s \rglove.840B.300d.zip  34%[=====>              ] 707.69M  5.05MB/s    eta 4m 23s \rglove.840B.300d.zip  34%[=====>              ] 708.74M  5.06MB/s    eta 4m 23s \rglove.840B.300d.zip  34%[=====>              ] 709.74M  5.04MB/s    eta 4m 23s \rglove.840B.300d.zip  34%[=====>              ] 710.74M  5.04MB/s    eta 4m 23s \rglove.840B.300d.zip  34%[=====>              ] 711.74M  5.03MB/s    eta 4m 23s \rglove.840B.300d.zip  34%[=====>              ] 712.74M  5.03MB/s    eta 4m 22s \rglove.840B.300d.zip  34%[=====>              ] 713.82M  5.03MB/s    eta 4m 22s \rglove.840B.300d.zip  34%[=====>              ] 714.87M  5.04MB/s    eta 4m 22s \rglove.840B.300d.zip  34%[=====>              ] 715.87M  5.06MB/s    eta 4m 22s \rglove.840B.300d.zip  34%[=====>              ] 716.93M  5.06MB/s    eta 4m 22s \rglove.840B.300d.zip  34%[=====>              ] 717.99M  5.07MB/s    eta 4m 21s \rglove.840B.300d.zip  34%[=====>              ] 719.05M  5.07MB/s    eta 4m 21s \rglove.840B.300d.zip  34%[=====>              ] 720.12M  5.06MB/s    eta 4m 21s \rglove.840B.300d.zip  34%[=====>              ] 721.18M  5.07MB/s    eta 4m 21s \rglove.840B.300d.zip  34%[=====>              ] 722.24M  5.07MB/s    eta 4m 21s \rglove.840B.300d.zip  34%[=====>              ] 723.30M  5.07MB/s    eta 4m 20s \rglove.840B.300d.zip  34%[=====>              ] 724.38M  5.08MB/s    eta 4m 20s \rglove.840B.300d.zip  34%[=====>              ] 725.43M  5.08MB/s    eta 4m 20s \rglove.840B.300d.zip  34%[=====>              ] 726.49M  5.09MB/s    eta 4m 20s \rglove.840B.300d.zip  35%[======>             ] 727.55M  5.09MB/s    eta 4m 20s \rglove.840B.300d.zip  35%[======>             ] 728.57M  5.09MB/s    eta 4m 19s \rglove.840B.300d.zip  35%[======>             ] 729.62M  5.09MB/s    eta 4m 19s \rglove.840B.300d.zip  35%[======>             ] 730.68M  5.09MB/s    eta 4m 19s \rglove.840B.300d.zip  35%[======>             ] 731.74M  5.09MB/s    eta 4m 19s \rglove.840B.300d.zip  35%[======>             ] 732.80M  5.09MB/s    eta 4m 19s \rglove.840B.300d.zip  35%[======>             ] 733.87M  5.09MB/s    eta 4m 18s \rglove.840B.300d.zip  35%[======>             ] 734.93M  5.08MB/s    eta 4m 18s \rglove.840B.300d.zip  35%[======>             ] 735.99M  5.08MB/s    eta 4m 18s \rglove.840B.300d.zip  35%[======>             ] 737.05M  5.08MB/s    eta 4m 18s \rglove.840B.300d.zip  35%[======>             ] 738.12M  5.08MB/s    eta 4m 18s \rglove.840B.300d.zip  35%[======>             ] 739.19M  5.08MB/s    eta 4m 17s \rglove.840B.300d.zip  35%[======>             ] 740.24M  5.08MB/s    eta 4m 17s \rglove.840B.300d.zip  35%[======>             ] 741.24M  5.06MB/s    eta 4m 17s \rglove.840B.300d.zip  35%[======>             ] 742.24M  5.05MB/s    eta 4m 17s \rglove.840B.300d.zip  35%[======>             ] 743.30M  5.05MB/s    eta 4m 17s \rglove.840B.300d.zip  35%[======>             ] 744.30M  5.04MB/s    eta 4m 16s \rglove.840B.300d.zip  35%[======>             ] 745.37M  5.05MB/s    eta 4m 16s \rglove.840B.300d.zip  35%[======>             ] 746.43M  5.05MB/s    eta 4m 16s \rglove.840B.300d.zip  36%[======>             ] 747.49M  5.05MB/s    eta 4m 16s \rglove.840B.300d.zip  36%[======>             ] 748.55M  5.05MB/s    eta 4m 16s \rglove.840B.300d.zip  36%[======>             ] 749.62M  5.06MB/s    eta 4m 15s \rglove.840B.300d.zip  36%[======>             ] 750.68M  5.07MB/s    eta 4m 15s \rglove.840B.300d.zip  36%[======>             ] 751.76M  5.07MB/s    eta 4m 15s \rglove.840B.300d.zip  36%[======>             ] 752.80M  5.07MB/s    eta 4m 15s \rglove.840B.300d.zip  36%[======>             ] 753.80M  5.07MB/s    eta 4m 15s \rglove.840B.300d.zip  36%[======>             ] 754.80M  5.06MB/s    eta 4m 14s \rglove.840B.300d.zip  36%[======>             ] 755.87M  5.06MB/s    eta 4m 14s \rglove.840B.300d.zip  36%[======>             ] 756.93M  5.07MB/s    eta 4m 14s \rglove.840B.300d.zip  36%[======>             ] 757.99M  5.16MB/s    eta 4m 14s \rglove.840B.300d.zip  36%[======>             ] 759.05M  5.08MB/s    eta 4m 14s \rglove.840B.300d.zip  36%[======>             ] 760.12M  5.09MB/s    eta 4m 13s \rglove.840B.300d.zip  36%[======>             ] 761.19M  5.10MB/s    eta 4m 13s \rglove.840B.300d.zip  36%[======>             ] 762.24M  5.10MB/s    eta 4m 13s \rglove.840B.300d.zip  36%[======>             ] 763.24M  5.10MB/s    eta 4m 13s \rglove.840B.300d.zip  36%[======>             ] 764.30M  5.10MB/s    eta 4m 13s \rglove.840B.300d.zip  36%[======>             ] 765.37M  5.10MB/s    eta 4m 12s \rglove.840B.300d.zip  36%[======>             ] 766.43M  5.09MB/s    eta 4m 12s \rglove.840B.300d.zip  36%[======>             ] 767.49M  5.09MB/s    eta 4m 12s \rglove.840B.300d.zip  37%[======>             ] 768.55M  5.09MB/s    eta 4m 12s \rglove.840B.300d.zip  37%[======>             ] 769.62M  5.08MB/s    eta 4m 12s \rglove.840B.300d.zip  37%[======>             ] 770.68M  5.10MB/s    eta 4m 11s \rglove.840B.300d.zip  37%[======>             ] 771.76M  5.11MB/s    eta 4m 11s \rglove.840B.300d.zip  37%[======>             ] 772.80M  5.11MB/s    eta 4m 11s \rglove.840B.300d.zip  37%[======>             ] 773.80M  5.09MB/s    eta 4m 11s \rglove.840B.300d.zip  37%[======>             ] 774.87M  5.10MB/s    eta 4m 11s \rglove.840B.300d.zip  37%[======>             ] 775.93M  5.10MB/s    eta 4m 10s \rglove.840B.300d.zip  37%[======>             ] 776.99M  5.11MB/s    eta 4m 10s \rglove.840B.300d.zip  37%[======>             ] 778.05M  5.10MB/s    eta 4m 10s \rglove.840B.300d.zip  37%[======>             ] 779.12M  5.10MB/s    eta 4m 10s \rglove.840B.300d.zip  37%[======>             ] 780.18M  5.10MB/s    eta 4m 10s \rglove.840B.300d.zip  37%[======>             ] 781.24M  5.10MB/s    eta 4m 9s  \rglove.840B.300d.zip  37%[======>             ] 782.32M  5.11MB/s    eta 4m 9s  \rglove.840B.300d.zip  37%[======>             ] 783.37M  5.11MB/s    eta 4m 9s  \rglove.840B.300d.zip  37%[======>             ] 784.43M  5.11MB/s    eta 4m 9s  \rglove.840B.300d.zip  37%[======>             ] 785.49M  5.10MB/s    eta 4m 9s  \rglove.840B.300d.zip  37%[======>             ] 786.55M  5.10MB/s    eta 4m 8s  \rglove.840B.300d.zip  37%[======>             ] 787.62M  5.10MB/s    eta 4m 8s  \rglove.840B.300d.zip  37%[======>             ] 788.66M  5.11MB/s    eta 4m 8s  \rglove.840B.300d.zip  38%[======>             ] 789.68M  5.09MB/s    eta 4m 8s  \rglove.840B.300d.zip  38%[======>             ] 790.74M  5.09MB/s    eta 4m 8s  \rglove.840B.300d.zip  38%[======>             ] 791.80M  5.09MB/s    eta 4m 7s  \rglove.840B.300d.zip  38%[======>             ] 792.87M  5.09MB/s    eta 4m 7s  \rglove.840B.300d.zip  38%[======>             ] 793.94M  5.09MB/s    eta 4m 7s  \rglove.840B.300d.zip  38%[======>             ] 794.99M  5.10MB/s    eta 4m 7s  \rglove.840B.300d.zip  38%[======>             ] 795.99M  5.08MB/s    eta 4m 7s  \rglove.840B.300d.zip  38%[======>             ] 797.05M  5.08MB/s    eta 4m 6s  \rglove.840B.300d.zip  38%[======>             ] 798.12M  5.08MB/s    eta 4m 6s  \rglove.840B.300d.zip  38%[======>             ] 799.18M  5.07MB/s    eta 4m 6s  \rglove.840B.300d.zip  38%[======>             ] 800.18M  5.06MB/s    eta 4m 6s  \rglove.840B.300d.zip  38%[======>             ] 801.24M  5.06MB/s    eta 4m 6s  \rglove.840B.300d.zip  38%[======>             ] 802.30M  5.06MB/s    eta 4m 5s  \rglove.840B.300d.zip  38%[======>             ] 803.30M  5.05MB/s    eta 4m 5s  \rglove.840B.300d.zip  38%[======>             ] 804.37M  5.05MB/s    eta 4m 5s  \rglove.840B.300d.zip  38%[======>             ] 805.41M  5.06MB/s    eta 4m 5s  \rglove.840B.300d.zip  38%[======>             ] 806.46M  5.06MB/s    eta 4m 5s  \rglove.840B.300d.zip  38%[======>             ] 807.52M  5.06MB/s    eta 4m 4s  \rglove.840B.300d.zip  38%[======>             ] 808.58M  5.07MB/s    eta 4m 4s  \rglove.840B.300d.zip  39%[======>             ] 809.65M  5.07MB/s    eta 4m 4s  \rglove.840B.300d.zip  39%[======>             ] 810.58M  5.04MB/s    eta 4m 4s  \rglove.840B.300d.zip  39%[======>             ] 811.65M  5.04MB/s    eta 4m 4s  \rglove.840B.300d.zip  39%[======>             ] 812.71M  5.05MB/s    eta 4m 3s  \rglove.840B.300d.zip  39%[======>             ] 813.79M  5.06MB/s    eta 4m 3s  \rglove.840B.300d.zip  39%[======>             ] 814.83M  5.06MB/s    eta 4m 3s  \rglove.840B.300d.zip  39%[======>             ] 815.71M  5.02MB/s    eta 4m 3s  \rglove.840B.300d.zip  39%[======>             ] 816.77M  5.03MB/s    eta 4m 3s  \rglove.840B.300d.zip  39%[======>             ] 817.83M  5.04MB/s    eta 4m 2s  \rglove.840B.300d.zip  39%[======>             ] 818.90M  5.04MB/s    eta 4m 2s  \rglove.840B.300d.zip  39%[======>             ] 819.96M  5.06MB/s    eta 4m 2s  \rglove.840B.300d.zip  39%[======>             ] 820.90M  5.01MB/s    eta 4m 2s  \rglove.840B.300d.zip  39%[======>             ] 821.98M  5.02MB/s    eta 4m 2s  \rglove.840B.300d.zip  39%[======>             ] 823.02M  5.03MB/s    eta 4m 1s  \rglove.840B.300d.zip  39%[======>             ] 824.08M  5.02MB/s    eta 4m 1s  \rglove.840B.300d.zip  39%[======>             ] 824.99M  4.98MB/s    eta 4m 1s  \rglove.840B.300d.zip  39%[======>             ] 826.02M  4.98MB/s    eta 4m 1s  \rglove.840B.300d.zip  39%[======>             ] 827.08M  5.00MB/s    eta 4m 1s  \rglove.840B.300d.zip  39%[======>             ] 828.15M  4.99MB/s    eta 4m 1s  \rglove.840B.300d.zip  39%[======>             ] 829.21M  5.00MB/s    eta 4m 1s  \rglove.840B.300d.zip  39%[======>             ] 830.16M  4.97MB/s    eta 4m 1s  \rglove.840B.300d.zip  40%[=======>            ] 831.21M  5.02MB/s    eta 4m 1s  \rglove.840B.300d.zip  40%[=======>            ] 832.27M  5.01MB/s    eta 4m 1s  \rglove.840B.300d.zip  40%[=======>            ] 833.33M  5.01MB/s    eta 4m 0s  \rglove.840B.300d.zip  40%[=======>            ] 834.40M  5.00MB/s    eta 4m 0s  \rglove.840B.300d.zip  40%[=======>            ] 835.33M  4.97MB/s    eta 4m 0s  \rglove.840B.300d.zip  40%[=======>            ] 836.40M  5.01MB/s    eta 4m 0s  \rglove.840B.300d.zip  40%[=======>            ] 837.46M  5.00MB/s    eta 4m 0s  \rglove.840B.300d.zip  40%[=======>            ] 838.52M  5.00MB/s    eta 3m 59s \rglove.840B.300d.zip  40%[=======>            ] 839.60M  5.01MB/s    eta 3m 59s \rglove.840B.300d.zip  40%[=======>            ] 840.52M  4.98MB/s    eta 3m 59s \rglove.840B.300d.zip  40%[=======>            ] 841.52M  5.00MB/s    eta 3m 59s \rglove.840B.300d.zip  40%[=======>            ] 842.58M  5.01MB/s    eta 3m 59s \rglove.840B.300d.zip  40%[=======>            ] 843.65M  5.02MB/s    eta 3m 58s \rglove.840B.300d.zip  40%[=======>            ] 844.65M  5.00MB/s    eta 3m 58s \rglove.840B.300d.zip  40%[=======>            ] 845.61M  4.98MB/s    eta 3m 58s \rglove.840B.300d.zip  40%[=======>            ] 846.58M  4.99MB/s    eta 3m 58s \rglove.840B.300d.zip  40%[=======>            ] 847.58M  4.97MB/s    eta 3m 58s \rglove.840B.300d.zip  40%[=======>            ] 848.65M  4.97MB/s    eta 3m 57s \rglove.840B.300d.zip  40%[=======>            ] 849.65M  4.96MB/s    eta 3m 57s \rglove.840B.300d.zip  40%[=======>            ] 850.71M  4.99MB/s    eta 3m 57s \rglove.840B.300d.zip  41%[=======>            ] 851.77M  5.00MB/s    eta 3m 57s \rglove.840B.300d.zip  41%[=======>            ] 852.85M  5.00MB/s    eta 3m 57s \rglove.840B.300d.zip  41%[=======>            ] 853.90M  4.99MB/s    eta 3m 56s \rglove.840B.300d.zip  41%[=======>            ] 854.96M  5.00MB/s    eta 3m 56s \rglove.840B.300d.zip  41%[=======>            ] 855.90M  4.97MB/s    eta 3m 56s \rglove.840B.300d.zip  41%[=======>            ] 856.96M  5.01MB/s    eta 3m 56s \rglove.840B.300d.zip  41%[=======>            ] 858.02M  5.01MB/s    eta 3m 56s \rglove.840B.300d.zip  41%[=======>            ] 859.02M  4.99MB/s    eta 3m 55s \rglove.840B.300d.zip  41%[=======>            ] 859.99M  4.98MB/s    eta 3m 55s \rglove.840B.300d.zip  41%[=======>            ] 860.96M  4.99MB/s    eta 3m 55s \rglove.840B.300d.zip  41%[=======>            ] 861.96M  4.98MB/s    eta 3m 55s \rglove.840B.300d.zip  41%[=======>            ] 862.96M  4.98MB/s    eta 3m 55s \rglove.840B.300d.zip  41%[=======>            ] 864.02M  4.98MB/s    eta 3m 54s \rglove.840B.300d.zip  41%[=======>            ] 865.08M  4.98MB/s    eta 3m 54s \rglove.840B.300d.zip  41%[=======>            ] 866.15M  5.01MB/s    eta 3m 54s \rglove.840B.300d.zip  41%[=======>            ] 867.21M  5.00MB/s    eta 3m 54s \rglove.840B.300d.zip  41%[=======>            ] 868.27M  4.99MB/s    eta 3m 54s \rglove.840B.300d.zip  41%[=======>            ] 869.33M  4.99MB/s    eta 3m 53s \rglove.840B.300d.zip  41%[=======>            ] 870.36M  4.98MB/s    eta 3m 53s \rglove.840B.300d.zip  41%[=======>            ] 871.40M  5.01MB/s    eta 3m 53s \rglove.840B.300d.zip  42%[=======>            ] 872.46M  5.01MB/s    eta 3m 53s \rglove.840B.300d.zip  42%[=======>            ] 873.52M  5.01MB/s    eta 3m 53s \rglove.840B.300d.zip  42%[=======>            ] 874.57M  5.03MB/s    eta 3m 52s \rglove.840B.300d.zip  42%[=======>            ] 875.46M  4.99MB/s    eta 3m 52s \rglove.840B.300d.zip  42%[=======>            ] 876.52M  5.03MB/s    eta 3m 52s \rglove.840B.300d.zip  42%[=======>            ] 877.60M  5.04MB/s    eta 3m 52s \rglove.840B.300d.zip  42%[=======>            ] 878.65M  5.05MB/s    eta 3m 52s \rglove.840B.300d.zip  42%[=======>            ] 879.71M  5.06MB/s    eta 3m 51s \rglove.840B.300d.zip  42%[=======>            ] 880.65M  5.03MB/s    eta 3m 51s \rglove.840B.300d.zip  42%[=======>            ] 881.71M  5.02MB/s    eta 3m 51s \rglove.840B.300d.zip  42%[=======>            ] 882.77M  5.01MB/s    eta 3m 51s \rglove.840B.300d.zip  42%[=======>            ] 883.83M  5.02MB/s    eta 3m 51s \rglove.840B.300d.zip  42%[=======>            ] 884.90M  5.02MB/s    eta 3m 50s \rglove.840B.300d.zip  42%[=======>            ] 885.90M  5.00MB/s    eta 3m 50s \rglove.840B.300d.zip  42%[=======>            ] 886.96M  5.00MB/s    eta 3m 50s \rglove.840B.300d.zip  42%[=======>            ] 888.01M  5.01MB/s    eta 3m 50s \rglove.840B.300d.zip  42%[=======>            ] 889.02M  5.00MB/s    eta 3m 50s \rglove.840B.300d.zip  42%[=======>            ] 889.99M  4.97MB/s    eta 3m 49s \rglove.840B.300d.zip  42%[=======>            ] 891.02M  4.97MB/s    eta 3m 49s \rglove.840B.300d.zip  42%[=======>            ] 892.08M  4.99MB/s    eta 3m 49s \rglove.840B.300d.zip  43%[=======>            ] 893.15M  4.99MB/s    eta 3m 49s \rglove.840B.300d.zip  43%[=======>            ] 894.21M  4.99MB/s    eta 3m 49s \rglove.840B.300d.zip  43%[=======>            ] 895.21M  4.98MB/s    eta 3m 48s \rglove.840B.300d.zip  43%[=======>            ] 896.24M  5.01MB/s    eta 3m 48s \rglove.840B.300d.zip  43%[=======>            ] 897.27M  5.00MB/s    eta 3m 48s \rglove.840B.300d.zip  43%[=======>            ] 898.27M  5.01MB/s    eta 3m 48s \rglove.840B.300d.zip  43%[=======>            ] 899.33M  5.01MB/s    eta 3m 48s \rglove.840B.300d.zip  43%[=======>            ] 900.27M  4.98MB/s    eta 3m 47s \rglove.840B.300d.zip  43%[=======>            ] 901.33M  5.01MB/s    eta 3m 47s \rglove.840B.300d.zip  43%[=======>            ] 902.40M  5.01MB/s    eta 3m 47s \rglove.840B.300d.zip  43%[=======>            ] 903.46M  5.01MB/s    eta 3m 47s \rglove.840B.300d.zip  43%[=======>            ] 904.46M  5.01MB/s    eta 3m 47s \rglove.840B.300d.zip  43%[=======>            ] 905.46M  4.99MB/s    eta 3m 46s \rglove.840B.300d.zip  43%[=======>            ] 906.52M  5.00MB/s    eta 3m 46s \rglove.840B.300d.zip  43%[=======>            ] 907.58M  5.01MB/s    eta 3m 46s \rglove.840B.300d.zip  43%[=======>            ] 908.65M  5.02MB/s    eta 3m 46s \rglove.840B.300d.zip  43%[=======>            ] 909.71M  5.02MB/s    eta 3m 46s \rglove.840B.300d.zip  43%[=======>            ] 910.65M  4.99MB/s    eta 3m 45s \rglove.840B.300d.zip  43%[=======>            ] 911.71M  5.01MB/s    eta 3m 45s \rglove.840B.300d.zip  43%[=======>            ] 912.77M  5.02MB/s    eta 3m 45s \rglove.840B.300d.zip  44%[=======>            ] 913.83M  5.03MB/s    eta 3m 45s \rglove.840B.300d.zip  44%[=======>            ] 914.83M  5.01MB/s    eta 3m 45s \rglove.840B.300d.zip  44%[=======>            ] 915.77M  5.00MB/s    eta 3m 44s \rglove.840B.300d.zip  44%[=======>            ] 916.83M  5.00MB/s    eta 3m 44s \rglove.840B.300d.zip  44%[=======>            ] 917.90M  5.00MB/s    eta 3m 44s \rglove.840B.300d.zip  44%[=======>            ] 918.96M  5.00MB/s    eta 3m 44s \rglove.840B.300d.zip  44%[=======>            ] 919.99M  4.98MB/s    eta 3m 44s \rglove.840B.300d.zip  44%[=======>            ] 921.02M  5.00MB/s    eta 3m 44s \rglove.840B.300d.zip  44%[=======>            ] 922.02M  4.96MB/s    eta 3m 44s \rglove.840B.300d.zip  44%[=======>            ] 923.08M  4.97MB/s    eta 3m 44s \rglove.840B.300d.zip  44%[=======>            ] 924.15M  4.97MB/s    eta 3m 44s \rglove.840B.300d.zip  44%[=======>            ] 925.21M  4.97MB/s    eta 3m 44s \rglove.840B.300d.zip  44%[=======>            ] 926.27M  4.99MB/s    eta 3m 43s \rglove.840B.300d.zip  44%[=======>            ] 927.33M  4.99MB/s    eta 3m 43s \rglove.840B.300d.zip  44%[=======>            ] 928.40M  4.99MB/s    eta 3m 43s \rglove.840B.300d.zip  44%[=======>            ] 929.46M  4.98MB/s    eta 3m 43s \rglove.840B.300d.zip  44%[=======>            ] 930.48M  4.98MB/s    eta 3m 43s \rglove.840B.300d.zip  44%[=======>            ] 931.52M  5.01MB/s    eta 3m 42s \rglove.840B.300d.zip  44%[=======>            ] 932.58M  5.01MB/s    eta 3m 42s \rglove.840B.300d.zip  44%[=======>            ] 933.65M  5.01MB/s    eta 3m 42s \rglove.840B.300d.zip  45%[========>           ] 934.71M  5.01MB/s    eta 3m 42s \rglove.840B.300d.zip  45%[========>           ] 935.65M  4.97MB/s    eta 3m 42s \rglove.840B.300d.zip  45%[========>           ] 936.71M  5.01MB/s    eta 3m 41s \rglove.840B.300d.zip  45%[========>           ] 937.77M  5.02MB/s    eta 3m 41s \rglove.840B.300d.zip  45%[========>           ] 938.83M  5.04MB/s    eta 3m 41s \rglove.840B.300d.zip  45%[========>           ] 939.90M  5.04MB/s    eta 3m 41s \rglove.840B.300d.zip  45%[========>           ] 940.85M  5.02MB/s    eta 3m 41s \rglove.840B.300d.zip  45%[========>           ] 941.90M  5.02MB/s    eta 3m 40s \rglove.840B.300d.zip  45%[========>           ] 942.93M  5.03MB/s    eta 3m 40s \rglove.840B.300d.zip  45%[========>           ] 943.96M  5.03MB/s    eta 3m 40s \rglove.840B.300d.zip  45%[========>           ] 944.99M  5.00MB/s    eta 3m 40s \rglove.840B.300d.zip  45%[========>           ] 946.02M  5.01MB/s    eta 3m 40s \rglove.840B.300d.zip  45%[========>           ] 947.08M  5.01MB/s    eta 3m 39s \rglove.840B.300d.zip  45%[========>           ] 948.15M  5.01MB/s    eta 3m 39s \rglove.840B.300d.zip  45%[========>           ] 949.21M  5.00MB/s    eta 3m 39s \rglove.840B.300d.zip  45%[========>           ] 950.20M  4.99MB/s    eta 3m 39s \rglove.840B.300d.zip  45%[========>           ] 951.19M  4.99MB/s    eta 3m 39s \rglove.840B.300d.zip  45%[========>           ] 952.15M  4.99MB/s    eta 3m 38s \rglove.840B.300d.zip  45%[========>           ] 953.21M  4.99MB/s    eta 3m 38s \rglove.840B.300d.zip  45%[========>           ] 954.27M  4.98MB/s    eta 3m 38s \rglove.840B.300d.zip  46%[========>           ] 955.27M  4.98MB/s    eta 3m 38s \rglove.840B.300d.zip  46%[========>           ] 956.33M  5.01MB/s    eta 3m 38s \rglove.840B.300d.zip  46%[========>           ] 957.41M  5.01MB/s    eta 3m 37s \rglove.840B.300d.zip  46%[========>           ] 958.46M  5.02MB/s    eta 3m 37s \rglove.840B.300d.zip  46%[========>           ] 959.46M  5.01MB/s    eta 3m 37s \rglove.840B.300d.zip  46%[========>           ] 960.40M  4.97MB/s    eta 3m 37s \rglove.840B.300d.zip  46%[========>           ] 961.46M  5.01MB/s    eta 3m 37s \rglove.840B.300d.zip  46%[========>           ] 962.52M  5.01MB/s    eta 3m 36s \rglove.840B.300d.zip  46%[========>           ] 963.58M  5.01MB/s    eta 3m 36s \rglove.840B.300d.zip  46%[========>           ] 964.65M  5.01MB/s    eta 3m 36s \rglove.840B.300d.zip  46%[========>           ] 965.60M  4.99MB/s    eta 3m 36s \rglove.840B.300d.zip  46%[========>           ] 966.65M  5.01MB/s    eta 3m 36s \rglove.840B.300d.zip  46%[========>           ] 967.71M  5.02MB/s    eta 3m 35s \rglove.840B.300d.zip  46%[========>           ] 968.77M  5.03MB/s    eta 3m 35s \rglove.840B.300d.zip  46%[========>           ] 969.83M  5.04MB/s    eta 3m 35s \rglove.840B.300d.zip  46%[========>           ] 970.77M  5.00MB/s    eta 3m 35s \rglove.840B.300d.zip  46%[========>           ] 971.83M  5.01MB/s    eta 3m 35s \rglove.840B.300d.zip  46%[========>           ] 972.90M  5.01MB/s    eta 3m 34s \rglove.840B.300d.zip  46%[========>           ] 973.98M  5.02MB/s    eta 3m 34s \rglove.840B.300d.zip  46%[========>           ] 974.99M  5.01MB/s    eta 3m 34s \rglove.840B.300d.zip  47%[========>           ] 975.90M  4.98MB/s    eta 3m 34s \rglove.840B.300d.zip  47%[========>           ] 976.96M  5.00MB/s    eta 3m 34s \rglove.840B.300d.zip  47%[========>           ] 978.02M  5.00MB/s    eta 3m 33s \rglove.840B.300d.zip  47%[========>           ] 979.08M  5.00MB/s    eta 3m 33s \rglove.840B.300d.zip  47%[========>           ] 980.02M  4.98MB/s    eta 3m 33s \rglove.840B.300d.zip  47%[========>           ] 981.08M  5.01MB/s    eta 3m 33s \rglove.840B.300d.zip  47%[========>           ] 982.15M  5.01MB/s    eta 3m 33s \rglove.840B.300d.zip  47%[========>           ] 983.23M  5.02MB/s    eta 3m 32s \rglove.840B.300d.zip  47%[========>           ] 984.27M  5.01MB/s    eta 3m 32s \rglove.840B.300d.zip  47%[========>           ] 985.21M  4.97MB/s    eta 3m 32s \rglove.840B.300d.zip  47%[========>           ] 986.27M  5.00MB/s    eta 3m 32s \rglove.840B.300d.zip  47%[========>           ] 987.33M  5.00MB/s    eta 3m 32s \rglove.840B.300d.zip  47%[========>           ] 988.40M  5.00MB/s    eta 3m 31s \rglove.840B.300d.zip  47%[========>           ] 989.46M  4.99MB/s    eta 3m 31s \rglove.840B.300d.zip  47%[========>           ] 990.40M  4.96MB/s    eta 3m 31s \rglove.840B.300d.zip  47%[========>           ] 991.46M  5.01MB/s    eta 3m 31s \rglove.840B.300d.zip  47%[========>           ] 992.52M  5.01MB/s    eta 3m 31s \rglove.840B.300d.zip  47%[========>           ] 993.60M  5.02MB/s    eta 3m 30s \rglove.840B.300d.zip  47%[========>           ] 994.65M  5.02MB/s    eta 3m 30s \rglove.840B.300d.zip  47%[========>           ] 995.52M  4.98MB/s    eta 3m 30s \rglove.840B.300d.zip  48%[========>           ] 996.58M  5.00MB/s    eta 3m 30s \rglove.840B.300d.zip  48%[========>           ] 997.65M  5.00MB/s    eta 3m 30s \rglove.840B.300d.zip  48%[========>           ] 998.71M  5.00MB/s    eta 3m 29s \rglove.840B.300d.zip  48%[========>           ] 999.77M  5.00MB/s    eta 3m 29s \rglove.840B.300d.zip  48%[========>           ]   1001M  4.97MB/s    eta 3m 29s \rglove.840B.300d.zip  48%[========>           ]   1002M  5.02MB/s    eta 3m 29s \rglove.840B.300d.zip  48%[========>           ]   1003M  5.02MB/s    eta 3m 29s \rglove.840B.300d.zip  48%[========>           ]   1004M  5.02MB/s    eta 3m 28s \rglove.840B.300d.zip  48%[========>           ]   1005M  5.02MB/s    eta 3m 28s \rglove.840B.300d.zip  48%[========>           ]   1006M  4.99MB/s    eta 3m 28s \rglove.840B.300d.zip  48%[========>           ]   1007M  5.01MB/s    eta 3m 28s \rglove.840B.300d.zip  48%[========>           ]   1008M  5.02MB/s    eta 3m 28s \rglove.840B.300d.zip  48%[========>           ]   1009M  5.02MB/s    eta 3m 27s \rglove.840B.300d.zip  48%[========>           ]   1010M  4.97MB/s    eta 3m 27s \rglove.840B.300d.zip  48%[========>           ]   1011M  5.01MB/s    eta 3m 27s \rglove.840B.300d.zip  48%[========>           ]   1012M  5.01MB/s    eta 3m 27s \rglove.840B.300d.zip  48%[========>           ]   1013M  5.00MB/s    eta 3m 27s \rglove.840B.300d.zip  48%[========>           ]   1014M  5.00MB/s    eta 3m 26s \rglove.840B.300d.zip  48%[========>           ]   1015M  4.97MB/s    eta 3m 26s \rglove.840B.300d.zip  48%[========>           ]   1016M  4.97MB/s    eta 3m 26s \rglove.840B.300d.zip  49%[========>           ]   1017M  5.00MB/s    eta 3m 26s \rglove.840B.300d.zip  49%[========>           ]   1018M  4.99MB/s    eta 3m 26s \rglove.840B.300d.zip  49%[========>           ]   1019M  4.99MB/s    eta 3m 25s \rglove.840B.300d.zip  49%[========>           ]   1020M  4.97MB/s    eta 3m 25s \rglove.840B.300d.zip  49%[========>           ]   1021M  5.01MB/s    eta 3m 25s \rglove.840B.300d.zip  49%[========>           ]   1023M  5.01MB/s    eta 3m 25s \rglove.840B.300d.zip  49%[========>           ]   1024M  5.01MB/s    eta 3m 25s \rglove.840B.300d.zip  49%[========>           ]   1.00G  4.99MB/s    eta 3m 24s \rglove.840B.300d.zip  49%[========>           ]   1.00G  4.97MB/s    eta 3m 24s \rglove.840B.300d.zip  49%[========>           ]   1.00G  5.00MB/s    eta 3m 24s \rglove.840B.300d.zip  49%[========>           ]   1.00G  5.00MB/s    eta 3m 24s \rglove.840B.300d.zip  49%[========>           ]   1.00G  5.01MB/s    eta 3m 24s \rglove.840B.300d.zip  49%[========>           ]   1.00G  5.01MB/s    eta 3m 23s \rglove.840B.300d.zip  49%[========>           ]   1.01G  4.97MB/s    eta 3m 23s \rglove.840B.300d.zip  49%[========>           ]   1.01G  5.01MB/s    eta 3m 23s \rglove.840B.300d.zip  49%[========>           ]   1.01G  5.00MB/s    eta 3m 23s \rglove.840B.300d.zip  49%[========>           ]   1.01G  5.01MB/s    eta 3m 23s \rglove.840B.300d.zip  49%[========>           ]   1.01G  5.01MB/s    eta 3m 22s \rglove.840B.300d.zip  49%[========>           ]   1.01G  4.98MB/s    eta 3m 22s \rglove.840B.300d.zip  49%[========>           ]   1.01G  5.01MB/s    eta 3m 22s \rglove.840B.300d.zip  50%[=========>          ]   1.01G  5.01MB/s    eta 3m 22s \rglove.840B.300d.zip  50%[=========>          ]   1.01G  5.01MB/s    eta 3m 22s \rglove.840B.300d.zip  50%[=========>          ]   1.01G  4.97MB/s    eta 3m 21s \rglove.840B.300d.zip  50%[=========>          ]   1.02G  5.01MB/s    eta 3m 21s \rglove.840B.300d.zip  50%[=========>          ]   1.02G  5.00MB/s    eta 3m 21s \rglove.840B.300d.zip  50%[=========>          ]   1.02G  5.01MB/s    eta 3m 21s \rglove.840B.300d.zip  50%[=========>          ]   1.02G  5.01MB/s    eta 3m 21s \rglove.840B.300d.zip  50%[=========>          ]   1.02G  4.99MB/s    eta 3m 20s \rglove.840B.300d.zip  50%[=========>          ]   1.02G  4.98MB/s    eta 3m 20s \rglove.840B.300d.zip  50%[=========>          ]   1.02G  5.02MB/s    eta 3m 20s \rglove.840B.300d.zip  50%[=========>          ]   1.02G  5.10MB/s    eta 3m 20s \rglove.840B.300d.zip  50%[=========>          ]   1.02G  5.03MB/s    eta 3m 20s \rglove.840B.300d.zip  50%[=========>          ]   1.03G  4.98MB/s    eta 3m 19s \rglove.840B.300d.zip  50%[=========>          ]   1.03G  5.01MB/s    eta 3m 19s \rglove.840B.300d.zip  50%[=========>          ]   1.03G  5.02MB/s    eta 3m 19s \rglove.840B.300d.zip  50%[=========>          ]   1.03G  5.02MB/s    eta 3m 19s \rglove.840B.300d.zip  50%[=========>          ]   1.03G  5.01MB/s    eta 3m 19s \rglove.840B.300d.zip  50%[=========>          ]   1.03G  4.98MB/s    eta 3m 18s \rglove.840B.300d.zip  50%[=========>          ]   1.03G  5.01MB/s    eta 3m 18s \rglove.840B.300d.zip  50%[=========>          ]   1.03G  5.02MB/s    eta 3m 18s \rglove.840B.300d.zip  50%[=========>          ]   1.03G  5.00MB/s    eta 3m 18s \rglove.840B.300d.zip  51%[=========>          ]   1.03G  5.01MB/s    eta 3m 18s \rglove.840B.300d.zip  51%[=========>          ]   1.04G  4.97MB/s    eta 3m 17s \rglove.840B.300d.zip  51%[=========>          ]   1.04G  5.01MB/s    eta 3m 17s \rglove.840B.300d.zip  51%[=========>          ]   1.04G  5.01MB/s    eta 3m 17s \rglove.840B.300d.zip  51%[=========>          ]   1.04G  5.01MB/s    eta 3m 17s \rglove.840B.300d.zip  51%[=========>          ]   1.04G  5.00MB/s    eta 3m 17s \rglove.840B.300d.zip  51%[=========>          ]   1.04G  4.96MB/s    eta 3m 16s \rglove.840B.300d.zip  51%[=========>          ]   1.04G  5.01MB/s    eta 3m 16s \rglove.840B.300d.zip  51%[=========>          ]   1.04G  5.00MB/s    eta 3m 16s \rglove.840B.300d.zip  51%[=========>          ]   1.04G  4.99MB/s    eta 3m 16s \rglove.840B.300d.zip  51%[=========>          ]   1.04G  4.96MB/s    eta 3m 16s \rglove.840B.300d.zip  51%[=========>          ]   1.05G  5.00MB/s    eta 3m 15s \rglove.840B.300d.zip  51%[=========>          ]   1.05G  5.00MB/s    eta 3m 15s \rglove.840B.300d.zip  51%[=========>          ]   1.05G  5.00MB/s    eta 3m 15s \rglove.840B.300d.zip  51%[=========>          ]   1.05G  5.00MB/s    eta 3m 15s \rglove.840B.300d.zip  51%[=========>          ]   1.05G  4.98MB/s    eta 3m 15s \rglove.840B.300d.zip  51%[=========>          ]   1.05G  5.01MB/s    eta 3m 14s \rglove.840B.300d.zip  51%[=========>          ]   1.05G  5.02MB/s    eta 3m 14s \rglove.840B.300d.zip  51%[=========>          ]   1.05G  5.01MB/s    eta 3m 14s \rglove.840B.300d.zip  51%[=========>          ]   1.05G  5.00MB/s    eta 3m 14s \rglove.840B.300d.zip  52%[=========>          ]   1.05G  4.97MB/s    eta 3m 14s \rglove.840B.300d.zip  52%[=========>          ]   1.06G  5.00MB/s    eta 3m 13s \rglove.840B.300d.zip  52%[=========>          ]   1.06G  5.00MB/s    eta 3m 13s \rglove.840B.300d.zip  52%[=========>          ]   1.06G  5.00MB/s    eta 3m 13s \rglove.840B.300d.zip  52%[=========>          ]   1.06G  5.00MB/s    eta 3m 13s \rglove.840B.300d.zip  52%[=========>          ]   1.06G  4.96MB/s    eta 3m 13s \rglove.840B.300d.zip  52%[=========>          ]   1.06G  5.01MB/s    eta 3m 12s \rglove.840B.300d.zip  52%[=========>          ]   1.06G  5.01MB/s    eta 3m 12s \rglove.840B.300d.zip  52%[=========>          ]   1.06G  5.00MB/s    eta 3m 12s \rglove.840B.300d.zip  52%[=========>          ]   1.06G  5.00MB/s    eta 3m 12s \rglove.840B.300d.zip  52%[=========>          ]   1.06G  5.00MB/s    eta 3m 12s \rglove.840B.300d.zip  52%[=========>          ]   1.07G  5.00MB/s    eta 3m 11s \rglove.840B.300d.zip  52%[=========>          ]   1.07G  4.99MB/s    eta 3m 11s \rglove.840B.300d.zip  52%[=========>          ]   1.07G  4.97MB/s    eta 3m 11s \rglove.840B.300d.zip  52%[=========>          ]   1.07G  4.98MB/s    eta 3m 11s \rglove.840B.300d.zip  52%[=========>          ]   1.07G  4.97MB/s    eta 3m 11s \rglove.840B.300d.zip  52%[=========>          ]   1.07G  5.02MB/s    eta 3m 10s \rglove.840B.300d.zip  52%[=========>          ]   1.07G  5.02MB/s    eta 3m 10s \rglove.840B.300d.zip  52%[=========>          ]   1.07G  5.02MB/s    eta 3m 10s \rglove.840B.300d.zip  52%[=========>          ]   1.07G  4.98MB/s    eta 3m 10s \rglove.840B.300d.zip  53%[=========>          ]   1.08G  5.00MB/s    eta 3m 10s \rglove.840B.300d.zip  53%[=========>          ]   1.08G  4.99MB/s    eta 3m 10s \rglove.840B.300d.zip  53%[=========>          ]   1.08G  4.99MB/s    eta 3m 10s \rglove.840B.300d.zip  53%[=========>          ]   1.08G  4.97MB/s    eta 3m 10s \rglove.840B.300d.zip  53%[=========>          ]   1.08G  4.97MB/s    eta 3m 10s \rglove.840B.300d.zip  53%[=========>          ]   1.08G  4.99MB/s    eta 3m 10s \rglove.840B.300d.zip  53%[=========>          ]   1.08G  4.99MB/s    eta 3m 9s  \rglove.840B.300d.zip  53%[=========>          ]   1.08G  4.98MB/s    eta 3m 9s  \rglove.840B.300d.zip  53%[=========>          ]   1.08G  4.99MB/s    eta 3m 9s  \rglove.840B.300d.zip  53%[=========>          ]   1.08G  5.00MB/s    eta 3m 9s  \rglove.840B.300d.zip  53%[=========>          ]   1.08G  4.99MB/s    eta 3m 9s  \rglove.840B.300d.zip  53%[=========>          ]   1.09G  4.99MB/s    eta 3m 8s  \rglove.840B.300d.zip  53%[=========>          ]   1.09G  5.00MB/s    eta 3m 8s  \rglove.840B.300d.zip  53%[=========>          ]   1.09G  4.97MB/s    eta 3m 8s  \rglove.840B.300d.zip  53%[=========>          ]   1.09G  4.94MB/s    eta 3m 8s  \rglove.840B.300d.zip  53%[=========>          ]   1.09G  4.96MB/s    eta 3m 8s  \rglove.840B.300d.zip  53%[=========>          ]   1.09G  4.95MB/s    eta 3m 7s  \rglove.840B.300d.zip  53%[=========>          ]   1.09G  4.97MB/s    eta 3m 7s  \rglove.840B.300d.zip  53%[=========>          ]   1.09G  4.95MB/s    eta 3m 7s  \rglove.840B.300d.zip  53%[=========>          ]   1.09G  4.97MB/s    eta 3m 7s  \rglove.840B.300d.zip  54%[=========>          ]   1.09G  4.97MB/s    eta 3m 7s  \rglove.840B.300d.zip  54%[=========>          ]   1.10G  4.97MB/s    eta 3m 6s  \rglove.840B.300d.zip  54%[=========>          ]   1.10G  4.98MB/s    eta 3m 6s  \rglove.840B.300d.zip  54%[=========>          ]   1.10G  4.98MB/s    eta 3m 6s  \rglove.840B.300d.zip  54%[=========>          ]   1.10G  4.98MB/s    eta 3m 6s  \rglove.840B.300d.zip  54%[=========>          ]   1.10G  4.99MB/s    eta 3m 6s  \rglove.840B.300d.zip  54%[=========>          ]   1.10G  4.99MB/s    eta 3m 5s  \rglove.840B.300d.zip  54%[=========>          ]   1.10G  5.00MB/s    eta 3m 5s  \rglove.840B.300d.zip  54%[=========>          ]   1.10G  4.99MB/s    eta 3m 5s  \rglove.840B.300d.zip  54%[=========>          ]   1.10G  5.02MB/s    eta 3m 5s  \rglove.840B.300d.zip  54%[=========>          ]   1.10G  5.03MB/s    eta 3m 5s  \rglove.840B.300d.zip  54%[=========>          ]   1.11G  5.03MB/s    eta 3m 4s  \rglove.840B.300d.zip  54%[=========>          ]   1.11G  5.06MB/s    eta 3m 4s  \rglove.840B.300d.zip  54%[=========>          ]   1.11G  5.04MB/s    eta 3m 4s  \rglove.840B.300d.zip  54%[=========>          ]   1.11G  5.05MB/s    eta 3m 4s  \rglove.840B.300d.zip  54%[=========>          ]   1.11G  5.05MB/s    eta 3m 4s  \rglove.840B.300d.zip  54%[=========>          ]   1.11G  5.06MB/s    eta 3m 3s  \rglove.840B.300d.zip  54%[=========>          ]   1.11G  5.06MB/s    eta 3m 3s  \rglove.840B.300d.zip  54%[=========>          ]   1.11G  5.03MB/s    eta 3m 3s  \rglove.840B.300d.zip  54%[=========>          ]   1.11G  5.03MB/s    eta 3m 3s  \rglove.840B.300d.zip  55%[==========>         ]   1.12G  5.03MB/s    eta 3m 3s  \rglove.840B.300d.zip  55%[==========>         ]   1.12G  5.03MB/s    eta 3m 2s  \rglove.840B.300d.zip  55%[==========>         ]   1.12G  5.03MB/s    eta 3m 2s  \rglove.840B.300d.zip  55%[==========>         ]   1.12G  5.00MB/s    eta 3m 2s  \rglove.840B.300d.zip  55%[==========>         ]   1.12G  5.01MB/s    eta 3m 2s  \rglove.840B.300d.zip  55%[==========>         ]   1.12G  4.99MB/s    eta 3m 2s  \rglove.840B.300d.zip  55%[==========>         ]   1.12G  5.01MB/s    eta 3m 1s  \rglove.840B.300d.zip  55%[==========>         ]   1.12G  5.02MB/s    eta 3m 1s  \rglove.840B.300d.zip  55%[==========>         ]   1.12G  5.00MB/s    eta 3m 1s  \rglove.840B.300d.zip  55%[==========>         ]   1.12G  5.01MB/s    eta 3m 1s  \rglove.840B.300d.zip  55%[==========>         ]   1.12G  5.01MB/s    eta 3m 1s  \rglove.840B.300d.zip  55%[==========>         ]   1.13G  5.02MB/s    eta 3m 0s  \rglove.840B.300d.zip  55%[==========>         ]   1.13G  5.01MB/s    eta 3m 0s  \rglove.840B.300d.zip  55%[==========>         ]   1.13G  4.97MB/s    eta 3m 0s  \rglove.840B.300d.zip  55%[==========>         ]   1.13G  5.02MB/s    eta 3m 0s  \rglove.840B.300d.zip  55%[==========>         ]   1.13G  5.01MB/s    eta 3m 0s  \rglove.840B.300d.zip  55%[==========>         ]   1.13G  5.01MB/s    eta 2m 59s \rglove.840B.300d.zip  55%[==========>         ]   1.13G  5.01MB/s    eta 2m 59s \rglove.840B.300d.zip  55%[==========>         ]   1.13G  5.00MB/s    eta 2m 59s \rglove.840B.300d.zip  55%[==========>         ]   1.13G  5.01MB/s    eta 2m 59s \rglove.840B.300d.zip  56%[==========>         ]   1.13G  5.02MB/s    eta 2m 59s \rglove.840B.300d.zip  56%[==========>         ]   1.14G  5.05MB/s    eta 2m 58s \rglove.840B.300d.zip  56%[==========>         ]   1.14G  5.00MB/s    eta 2m 58s \rglove.840B.300d.zip  56%[==========>         ]   1.14G  4.98MB/s    eta 2m 58s \rglove.840B.300d.zip  56%[==========>         ]   1.14G  5.00MB/s    eta 2m 58s \rglove.840B.300d.zip  56%[==========>         ]   1.14G  5.00MB/s    eta 2m 58s \rglove.840B.300d.zip  56%[==========>         ]   1.14G  5.01MB/s    eta 2m 57s \rglove.840B.300d.zip  56%[==========>         ]   1.14G  4.96MB/s    eta 2m 57s \rglove.840B.300d.zip  56%[==========>         ]   1.14G  5.01MB/s    eta 2m 57s \rglove.840B.300d.zip  56%[==========>         ]   1.14G  4.95MB/s    eta 2m 57s \rglove.840B.300d.zip  56%[==========>         ]   1.15G  4.92MB/s    eta 2m 57s \rglove.840B.300d.zip  56%[==========>         ]   1.15G  4.88MB/s    eta 2m 56s \rglove.840B.300d.zip  56%[==========>         ]   1.15G  4.87MB/s    eta 2m 56s \rglove.840B.300d.zip  56%[==========>         ]   1.15G  4.85MB/s    eta 2m 56s \rglove.840B.300d.zip  56%[==========>         ]   1.15G  4.84MB/s    eta 2m 56s \rglove.840B.300d.zip  56%[==========>         ]   1.15G  4.84MB/s    eta 2m 56s \rglove.840B.300d.zip  56%[==========>         ]   1.15G  4.85MB/s    eta 2m 55s \rglove.840B.300d.zip  56%[==========>         ]   1.15G  4.85MB/s    eta 2m 55s \rglove.840B.300d.zip  56%[==========>         ]   1.15G  4.90MB/s    eta 2m 55s \rglove.840B.300d.zip  56%[==========>         ]   1.15G  4.90MB/s    eta 2m 55s \rglove.840B.300d.zip  56%[==========>         ]   1.16G  4.91MB/s    eta 2m 55s \rglove.840B.300d.zip  57%[==========>         ]   1.16G  4.95MB/s    eta 2m 54s \rglove.840B.300d.zip  57%[==========>         ]   1.16G  4.97MB/s    eta 2m 54s \rglove.840B.300d.zip  57%[==========>         ]   1.16G  5.01MB/s    eta 2m 54s \rglove.840B.300d.zip  57%[==========>         ]   1.16G  5.01MB/s    eta 2m 54s \rglove.840B.300d.zip  57%[==========>         ]   1.16G  5.04MB/s    eta 2m 54s \rglove.840B.300d.zip  57%[==========>         ]   1.16G  5.08MB/s    eta 2m 53s \rglove.840B.300d.zip  57%[==========>         ]   1.16G  5.11MB/s    eta 2m 53s \rglove.840B.300d.zip  57%[==========>         ]   1.16G  5.14MB/s    eta 2m 53s \rglove.840B.300d.zip  57%[==========>         ]   1.16G  5.16MB/s    eta 2m 53s \rglove.840B.300d.zip  57%[==========>         ]   1.17G  5.17MB/s    eta 2m 53s \rglove.840B.300d.zip  57%[==========>         ]   1.17G  5.17MB/s    eta 2m 52s \rglove.840B.300d.zip  57%[==========>         ]   1.17G  5.13MB/s    eta 2m 52s \rglove.840B.300d.zip  57%[==========>         ]   1.17G  5.14MB/s    eta 2m 52s \rglove.840B.300d.zip  57%[==========>         ]   1.17G  5.13MB/s    eta 2m 52s \rglove.840B.300d.zip  57%[==========>         ]   1.17G  5.11MB/s    eta 2m 52s \rglove.840B.300d.zip  57%[==========>         ]   1.17G  5.07MB/s    eta 2m 51s \rglove.840B.300d.zip  57%[==========>         ]   1.17G  5.02MB/s    eta 2m 51s \rglove.840B.300d.zip  57%[==========>         ]   1.17G  5.02MB/s    eta 2m 51s \rglove.840B.300d.zip  57%[==========>         ]   1.17G  5.01MB/s    eta 2m 51s \rglove.840B.300d.zip  57%[==========>         ]   1.17G  5.00MB/s    eta 2m 51s \rglove.840B.300d.zip  58%[==========>         ]   1.18G  4.95MB/s    eta 2m 50s \rglove.840B.300d.zip  58%[==========>         ]   1.18G  4.96MB/s    eta 2m 50s \rglove.840B.300d.zip  58%[==========>         ]   1.18G  5.00MB/s    eta 2m 50s \rglove.840B.300d.zip  58%[==========>         ]   1.18G  5.00MB/s    eta 2m 50s \rglove.840B.300d.zip  58%[==========>         ]   1.18G  5.00MB/s    eta 2m 50s \rglove.840B.300d.zip  58%[==========>         ]   1.18G  4.96MB/s    eta 2m 49s \rglove.840B.300d.zip  58%[==========>         ]   1.18G  5.01MB/s    eta 2m 49s \rglove.840B.300d.zip  58%[==========>         ]   1.18G  5.02MB/s    eta 2m 49s \rglove.840B.300d.zip  58%[==========>         ]   1.18G  5.01MB/s    eta 2m 49s \rglove.840B.300d.zip  58%[==========>         ]   1.19G  5.01MB/s    eta 2m 49s \rglove.840B.300d.zip  58%[==========>         ]   1.19G  4.97MB/s    eta 2m 48s \rglove.840B.300d.zip  58%[==========>         ]   1.19G  5.01MB/s    eta 2m 48s \rglove.840B.300d.zip  58%[==========>         ]   1.19G  5.01MB/s    eta 2m 48s \rglove.840B.300d.zip  58%[==========>         ]   1.19G  5.01MB/s    eta 2m 48s \rglove.840B.300d.zip  58%[==========>         ]   1.19G  5.00MB/s    eta 2m 48s \rglove.840B.300d.zip  58%[==========>         ]   1.19G  4.96MB/s    eta 2m 47s \rglove.840B.300d.zip  58%[==========>         ]   1.19G  5.02MB/s    eta 2m 47s \rglove.840B.300d.zip  58%[==========>         ]   1.19G  5.02MB/s    eta 2m 47s \rglove.840B.300d.zip  58%[==========>         ]   1.19G  5.03MB/s    eta 2m 47s \rglove.840B.300d.zip  58%[==========>         ]   1.20G  5.01MB/s    eta 2m 47s \rglove.840B.300d.zip  59%[==========>         ]   1.20G  4.98MB/s    eta 2m 46s \rglove.840B.300d.zip  59%[==========>         ]   1.20G  5.01MB/s    eta 2m 46s \rglove.840B.300d.zip  59%[==========>         ]   1.20G  5.01MB/s    eta 2m 46s \rglove.840B.300d.zip  59%[==========>         ]   1.20G  5.01MB/s    eta 2m 46s \rglove.840B.300d.zip  59%[==========>         ]   1.20G  5.01MB/s    eta 2m 46s \rglove.840B.300d.zip  59%[==========>         ]   1.20G  4.96MB/s    eta 2m 45s \rglove.840B.300d.zip  59%[==========>         ]   1.20G  5.01MB/s    eta 2m 45s \rglove.840B.300d.zip  59%[==========>         ]   1.20G  5.01MB/s    eta 2m 45s \rglove.840B.300d.zip  59%[==========>         ]   1.21G  5.00MB/s    eta 2m 45s \rglove.840B.300d.zip  59%[==========>         ]   1.21G  4.97MB/s    eta 2m 45s \rglove.840B.300d.zip  59%[==========>         ]   1.21G  5.01MB/s    eta 2m 44s \rglove.840B.300d.zip  59%[==========>         ]   1.21G  5.00MB/s    eta 2m 44s \rglove.840B.300d.zip  59%[==========>         ]   1.21G  5.00MB/s    eta 2m 44s \rglove.840B.300d.zip  59%[==========>         ]   1.21G  5.00MB/s    eta 2m 44s \rglove.840B.300d.zip  59%[==========>         ]   1.21G  4.98MB/s    eta 2m 44s \rglove.840B.300d.zip  59%[==========>         ]   1.21G  4.99MB/s    eta 2m 43s \rglove.840B.300d.zip  59%[==========>         ]   1.21G  5.01MB/s    eta 2m 43s \rglove.840B.300d.zip  59%[==========>         ]   1.21G  5.01MB/s    eta 2m 43s \rglove.840B.300d.zip  59%[==========>         ]   1.21G  5.01MB/s    eta 2m 43s \rglove.840B.300d.zip  59%[==========>         ]   1.22G  4.97MB/s    eta 2m 43s \rglove.840B.300d.zip  60%[===========>        ]   1.22G  5.01MB/s    eta 2m 42s \rglove.840B.300d.zip  60%[===========>        ]   1.22G  5.01MB/s    eta 2m 42s \rglove.840B.300d.zip  60%[===========>        ]   1.22G  5.01MB/s    eta 2m 42s \rglove.840B.300d.zip  60%[===========>        ]   1.22G  5.01MB/s    eta 2m 42s \rglove.840B.300d.zip  60%[===========>        ]   1.22G  4.99MB/s    eta 2m 42s \rglove.840B.300d.zip  60%[===========>        ]   1.22G  5.02MB/s    eta 2m 41s \rglove.840B.300d.zip  60%[===========>        ]   1.22G  5.02MB/s    eta 2m 41s \rglove.840B.300d.zip  60%[===========>        ]   1.22G  5.01MB/s    eta 2m 41s \rglove.840B.300d.zip  60%[===========>        ]   1.22G  5.01MB/s    eta 2m 41s \rglove.840B.300d.zip  60%[===========>        ]   1.23G  4.98MB/s    eta 2m 41s \rglove.840B.300d.zip  60%[===========>        ]   1.23G  5.00MB/s    eta 2m 40s \rglove.840B.300d.zip  60%[===========>        ]   1.23G  5.01MB/s    eta 2m 40s \rglove.840B.300d.zip  60%[===========>        ]   1.23G  5.01MB/s    eta 2m 40s \rglove.840B.300d.zip  60%[===========>        ]   1.23G  5.01MB/s    eta 2m 40s \rglove.840B.300d.zip  60%[===========>        ]   1.23G  4.96MB/s    eta 2m 40s \rglove.840B.300d.zip  60%[===========>        ]   1.23G  5.01MB/s    eta 2m 39s \rglove.840B.300d.zip  60%[===========>        ]   1.23G  5.01MB/s    eta 2m 39s \rglove.840B.300d.zip  60%[===========>        ]   1.23G  5.00MB/s    eta 2m 39s \rglove.840B.300d.zip  60%[===========>        ]   1.23G  5.00MB/s    eta 2m 39s \rglove.840B.300d.zip  60%[===========>        ]   1.24G  4.99MB/s    eta 2m 39s \rglove.840B.300d.zip  61%[===========>        ]   1.24G  5.00MB/s    eta 2m 38s \rglove.840B.300d.zip  61%[===========>        ]   1.24G  5.01MB/s    eta 2m 38s \rglove.840B.300d.zip  61%[===========>        ]   1.24G  5.02MB/s    eta 2m 38s \rglove.840B.300d.zip  61%[===========>        ]   1.24G  4.96MB/s    eta 2m 38s \rglove.840B.300d.zip  61%[===========>        ]   1.24G  4.97MB/s    eta 2m 38s \rglove.840B.300d.zip  61%[===========>        ]   1.24G  4.99MB/s    eta 2m 37s \rglove.840B.300d.zip  61%[===========>        ]   1.24G  4.99MB/s    eta 2m 37s \rglove.840B.300d.zip  61%[===========>        ]   1.24G  4.99MB/s    eta 2m 37s \rglove.840B.300d.zip  61%[===========>        ]   1.25G  4.97MB/s    eta 2m 37s \rglove.840B.300d.zip  61%[===========>        ]   1.25G  5.00MB/s    eta 2m 37s \rglove.840B.300d.zip  61%[===========>        ]   1.25G  5.01MB/s    eta 2m 36s \rglove.840B.300d.zip  61%[===========>        ]   1.25G  5.02MB/s    eta 2m 36s \rglove.840B.300d.zip  61%[===========>        ]   1.25G  5.01MB/s    eta 2m 36s \rglove.840B.300d.zip  61%[===========>        ]   1.25G  4.97MB/s    eta 2m 36s \rglove.840B.300d.zip  61%[===========>        ]   1.25G  5.01MB/s    eta 2m 36s \rglove.840B.300d.zip  61%[===========>        ]   1.25G  5.01MB/s    eta 2m 35s \rglove.840B.300d.zip  61%[===========>        ]   1.25G  5.00MB/s    eta 2m 35s \rglove.840B.300d.zip  61%[===========>        ]   1.25G  5.01MB/s    eta 2m 35s \rglove.840B.300d.zip  61%[===========>        ]   1.25G  4.96MB/s    eta 2m 35s \rglove.840B.300d.zip  61%[===========>        ]   1.26G  5.01MB/s    eta 2m 35s \rglove.840B.300d.zip  62%[===========>        ]   1.26G  5.03MB/s    eta 2m 34s \rglove.840B.300d.zip  62%[===========>        ]   1.26G  5.03MB/s    eta 2m 34s \rglove.840B.300d.zip  62%[===========>        ]   1.26G  5.03MB/s    eta 2m 34s \rglove.840B.300d.zip  62%[===========>        ]   1.26G  4.98MB/s    eta 2m 34s \rglove.840B.300d.zip  62%[===========>        ]   1.26G  4.99MB/s    eta 2m 34s \rglove.840B.300d.zip  62%[===========>        ]   1.26G  5.01MB/s    eta 2m 33s \rglove.840B.300d.zip  62%[===========>        ]   1.26G  5.02MB/s    eta 2m 33s \rglove.840B.300d.zip  62%[===========>        ]   1.26G  5.01MB/s    eta 2m 33s \rglove.840B.300d.zip  62%[===========>        ]   1.26G  4.98MB/s    eta 2m 33s \rglove.840B.300d.zip  62%[===========>        ]   1.27G  4.99MB/s    eta 2m 33s \rglove.840B.300d.zip  62%[===========>        ]   1.27G  5.00MB/s    eta 2m 32s \rglove.840B.300d.zip  62%[===========>        ]   1.27G  5.00MB/s    eta 2m 32s \rglove.840B.300d.zip  62%[===========>        ]   1.27G  4.99MB/s    eta 2m 32s \rglove.840B.300d.zip  62%[===========>        ]   1.27G  4.99MB/s    eta 2m 32s \rglove.840B.300d.zip  62%[===========>        ]   1.27G  5.02MB/s    eta 2m 32s \rglove.840B.300d.zip  62%[===========>        ]   1.27G  5.01MB/s    eta 2m 31s \rglove.840B.300d.zip  62%[===========>        ]   1.27G  5.00MB/s    eta 2m 31s \rglove.840B.300d.zip  62%[===========>        ]   1.27G  4.97MB/s    eta 2m 31s \rglove.840B.300d.zip  62%[===========>        ]   1.28G  4.97MB/s    eta 2m 31s \rglove.840B.300d.zip  62%[===========>        ]   1.28G  5.01MB/s    eta 2m 31s \rglove.840B.300d.zip  63%[===========>        ]   1.28G  5.01MB/s    eta 2m 30s \rglove.840B.300d.zip  63%[===========>        ]   1.28G  5.01MB/s    eta 2m 30s \rglove.840B.300d.zip  63%[===========>        ]   1.28G  4.98MB/s    eta 2m 30s \rglove.840B.300d.zip  63%[===========>        ]   1.28G  5.01MB/s    eta 2m 30s \rglove.840B.300d.zip  63%[===========>        ]   1.28G  5.01MB/s    eta 2m 30s \rglove.840B.300d.zip  63%[===========>        ]   1.28G  5.01MB/s    eta 2m 29s \rglove.840B.300d.zip  63%[===========>        ]   1.28G  5.01MB/s    eta 2m 29s \rglove.840B.300d.zip  63%[===========>        ]   1.28G  4.98MB/s    eta 2m 29s \rglove.840B.300d.zip  63%[===========>        ]   1.29G  4.99MB/s    eta 2m 29s \rglove.840B.300d.zip  63%[===========>        ]   1.29G  5.03MB/s    eta 2m 29s \rglove.840B.300d.zip  63%[===========>        ]   1.29G  5.03MB/s    eta 2m 28s \rglove.840B.300d.zip  63%[===========>        ]   1.29G  5.02MB/s    eta 2m 28s \rglove.840B.300d.zip  63%[===========>        ]   1.29G  4.98MB/s    eta 2m 28s \rglove.840B.300d.zip  63%[===========>        ]   1.29G  5.00MB/s    eta 2m 28s \rglove.840B.300d.zip  63%[===========>        ]   1.29G  4.99MB/s    eta 2m 28s \rglove.840B.300d.zip  63%[===========>        ]   1.29G  4.99MB/s    eta 2m 27s \rglove.840B.300d.zip  63%[===========>        ]   1.29G  4.99MB/s    eta 2m 27s \rglove.840B.300d.zip  63%[===========>        ]   1.29G  4.97MB/s    eta 2m 27s \rglove.840B.300d.zip  63%[===========>        ]   1.29G  5.02MB/s    eta 2m 27s \rglove.840B.300d.zip  63%[===========>        ]   1.30G  5.02MB/s    eta 2m 27s \rglove.840B.300d.zip  64%[===========>        ]   1.30G  5.02MB/s    eta 2m 26s \rglove.840B.300d.zip  64%[===========>        ]   1.30G  5.02MB/s    eta 2m 26s \rglove.840B.300d.zip  64%[===========>        ]   1.30G  4.99MB/s    eta 2m 26s \rglove.840B.300d.zip  64%[===========>        ]   1.30G  5.01MB/s    eta 2m 26s \rglove.840B.300d.zip  64%[===========>        ]   1.30G  5.01MB/s    eta 2m 26s \rglove.840B.300d.zip  64%[===========>        ]   1.30G  5.00MB/s    eta 2m 25s \rglove.840B.300d.zip  64%[===========>        ]   1.30G  4.97MB/s    eta 2m 25s \rglove.840B.300d.zip  64%[===========>        ]   1.30G  4.96MB/s    eta 2m 25s \rglove.840B.300d.zip  64%[===========>        ]   1.31G  4.99MB/s    eta 2m 25s \rglove.840B.300d.zip  64%[===========>        ]   1.31G  4.99MB/s    eta 2m 25s \rglove.840B.300d.zip  64%[===========>        ]   1.31G  5.01MB/s    eta 2m 24s \rglove.840B.300d.zip  64%[===========>        ]   1.31G  4.99MB/s    eta 2m 24s \rglove.840B.300d.zip  64%[===========>        ]   1.31G  5.01MB/s    eta 2m 24s \rglove.840B.300d.zip  64%[===========>        ]   1.31G  5.01MB/s    eta 2m 24s \rglove.840B.300d.zip  64%[===========>        ]   1.31G  5.01MB/s    eta 2m 24s \rglove.840B.300d.zip  64%[===========>        ]   1.31G  5.01MB/s    eta 2m 23s \rglove.840B.300d.zip  64%[===========>        ]   1.31G  4.97MB/s    eta 2m 23s \rglove.840B.300d.zip  64%[===========>        ]   1.31G  5.02MB/s    eta 2m 23s \rglove.840B.300d.zip  64%[===========>        ]   1.32G  5.01MB/s    eta 2m 23s \rglove.840B.300d.zip  64%[===========>        ]   1.32G  5.00MB/s    eta 2m 23s \rglove.840B.300d.zip  65%[============>       ]   1.32G  5.00MB/s    eta 2m 22s \rglove.840B.300d.zip  65%[============>       ]   1.32G  4.97MB/s    eta 2m 22s \rglove.840B.300d.zip  65%[============>       ]   1.32G  5.00MB/s    eta 2m 22s \rglove.840B.300d.zip  65%[============>       ]   1.32G  4.99MB/s    eta 2m 22s \rglove.840B.300d.zip  65%[============>       ]   1.32G  5.00MB/s    eta 2m 22s \rglove.840B.300d.zip  65%[============>       ]   1.32G  5.00MB/s    eta 2m 21s \rglove.840B.300d.zip  65%[============>       ]   1.32G  4.99MB/s    eta 2m 21s \rglove.840B.300d.zip  65%[============>       ]   1.32G  5.01MB/s    eta 2m 21s \rglove.840B.300d.zip  65%[============>       ]   1.33G  5.01MB/s    eta 2m 21s \rglove.840B.300d.zip  65%[============>       ]   1.33G  5.01MB/s    eta 2m 21s \rglove.840B.300d.zip  65%[============>       ]   1.33G  5.01MB/s    eta 2m 20s \rglove.840B.300d.zip  65%[============>       ]   1.33G  4.99MB/s    eta 2m 20s \rglove.840B.300d.zip  65%[============>       ]   1.33G  5.00MB/s    eta 2m 20s \rglove.840B.300d.zip  65%[============>       ]   1.33G  5.01MB/s    eta 2m 20s \rglove.840B.300d.zip  65%[============>       ]   1.33G  5.01MB/s    eta 2m 20s \rglove.840B.300d.zip  65%[============>       ]   1.33G  4.97MB/s    eta 2m 19s \rglove.840B.300d.zip  65%[============>       ]   1.33G  4.97MB/s    eta 2m 19s \rglove.840B.300d.zip  65%[============>       ]   1.33G  5.00MB/s    eta 2m 19s \rglove.840B.300d.zip  65%[============>       ]   1.34G  5.02MB/s    eta 2m 19s \rglove.840B.300d.zip  65%[============>       ]   1.34G  5.03MB/s    eta 2m 19s \rglove.840B.300d.zip  66%[============>       ]   1.34G  5.00MB/s    eta 2m 18s \rglove.840B.300d.zip  66%[============>       ]   1.34G  5.01MB/s    eta 2m 18s \rglove.840B.300d.zip  66%[============>       ]   1.34G  5.02MB/s    eta 2m 18s \rglove.840B.300d.zip  66%[============>       ]   1.34G  5.02MB/s    eta 2m 18s \rglove.840B.300d.zip  66%[============>       ]   1.34G  5.03MB/s    eta 2m 18s \rglove.840B.300d.zip  66%[============>       ]   1.34G  4.96MB/s    eta 2m 17s \rglove.840B.300d.zip  66%[============>       ]   1.34G  5.02MB/s    eta 2m 17s \rglove.840B.300d.zip  66%[============>       ]   1.34G  5.01MB/s    eta 2m 17s \rglove.840B.300d.zip  66%[============>       ]   1.35G  5.01MB/s    eta 2m 17s \rglove.840B.300d.zip  66%[============>       ]   1.35G  5.02MB/s    eta 2m 17s \rglove.840B.300d.zip  66%[============>       ]   1.35G  4.96MB/s    eta 2m 16s \rglove.840B.300d.zip  66%[============>       ]   1.35G  4.96MB/s    eta 2m 16s \rglove.840B.300d.zip  66%[============>       ]   1.35G  4.96MB/s    eta 2m 16s \rglove.840B.300d.zip  66%[============>       ]   1.35G  4.97MB/s    eta 2m 16s \rglove.840B.300d.zip  66%[============>       ]   1.35G  4.95MB/s    eta 2m 16s \rglove.840B.300d.zip  66%[============>       ]   1.35G  4.96MB/s    eta 2m 15s \rglove.840B.300d.zip  66%[============>       ]   1.35G  4.98MB/s    eta 2m 15s \rglove.840B.300d.zip  66%[============>       ]   1.35G  4.97MB/s    eta 2m 15s \rglove.840B.300d.zip  66%[============>       ]   1.36G  4.99MB/s    eta 2m 15s \rglove.840B.300d.zip  66%[============>       ]   1.36G  4.97MB/s    eta 2m 15s \rglove.840B.300d.zip  66%[============>       ]   1.36G  4.98MB/s    eta 2m 14s \rglove.840B.300d.zip  67%[============>       ]   1.36G  5.00MB/s    eta 2m 14s \rglove.840B.300d.zip  67%[============>       ]   1.36G  5.00MB/s    eta 2m 14s \rglove.840B.300d.zip  67%[============>       ]   1.36G  5.00MB/s    eta 2m 14s \rglove.840B.300d.zip  67%[============>       ]   1.36G  4.97MB/s    eta 2m 14s \rglove.840B.300d.zip  67%[============>       ]   1.36G  4.96MB/s    eta 2m 13s \rglove.840B.300d.zip  67%[============>       ]   1.36G  5.02MB/s    eta 2m 13s \rglove.840B.300d.zip  67%[============>       ]   1.37G  5.05MB/s    eta 2m 13s \rglove.840B.300d.zip  67%[============>       ]   1.37G  5.06MB/s    eta 2m 13s \rglove.840B.300d.zip  67%[============>       ]   1.37G  5.03MB/s    eta 2m 13s \rglove.840B.300d.zip  67%[============>       ]   1.37G  5.03MB/s    eta 2m 12s \rglove.840B.300d.zip  67%[============>       ]   1.37G  5.04MB/s    eta 2m 12s \rglove.840B.300d.zip  67%[============>       ]   1.37G  5.04MB/s    eta 2m 12s \rglove.840B.300d.zip  67%[============>       ]   1.37G  5.04MB/s    eta 2m 12s \rglove.840B.300d.zip  67%[============>       ]   1.37G  5.00MB/s    eta 2m 12s \rglove.840B.300d.zip  67%[============>       ]   1.37G  5.01MB/s    eta 2m 11s \rglove.840B.300d.zip  67%[============>       ]   1.37G  5.00MB/s    eta 2m 11s \rglove.840B.300d.zip  67%[============>       ]   1.38G  5.00MB/s    eta 2m 11s \rglove.840B.300d.zip  67%[============>       ]   1.38G  5.01MB/s    eta 2m 11s \rglove.840B.300d.zip  67%[============>       ]   1.38G  4.94MB/s    eta 2m 11s \rglove.840B.300d.zip  67%[============>       ]   1.38G  4.98MB/s    eta 2m 10s \rglove.840B.300d.zip  68%[============>       ]   1.38G  4.98MB/s    eta 2m 10s \rglove.840B.300d.zip  68%[============>       ]   1.38G  4.99MB/s    eta 2m 10s \rglove.840B.300d.zip  68%[============>       ]   1.38G  4.98MB/s    eta 2m 10s \rglove.840B.300d.zip  68%[============>       ]   1.38G  4.98MB/s    eta 2m 10s \rglove.840B.300d.zip  68%[============>       ]   1.38G  5.01MB/s    eta 2m 9s  \rglove.840B.300d.zip  68%[============>       ]   1.38G  5.00MB/s    eta 2m 9s  \rglove.840B.300d.zip  68%[============>       ]   1.38G  5.01MB/s    eta 2m 9s  \rglove.840B.300d.zip  68%[============>       ]   1.39G  5.00MB/s    eta 2m 9s  \rglove.840B.300d.zip  68%[============>       ]   1.39G  5.00MB/s    eta 2m 9s  \rglove.840B.300d.zip  68%[============>       ]   1.39G  5.00MB/s    eta 2m 8s  \rglove.840B.300d.zip  68%[============>       ]   1.39G  5.00MB/s    eta 2m 8s  \rglove.840B.300d.zip  68%[============>       ]   1.39G  5.01MB/s    eta 2m 8s  \rglove.840B.300d.zip  68%[============>       ]   1.39G  4.99MB/s    eta 2m 8s  \rglove.840B.300d.zip  68%[============>       ]   1.39G  4.98MB/s    eta 2m 8s  \rglove.840B.300d.zip  68%[============>       ]   1.39G  5.04MB/s    eta 2m 7s  \rglove.840B.300d.zip  68%[============>       ]   1.39G  5.04MB/s    eta 2m 7s  \rglove.840B.300d.zip  68%[============>       ]   1.40G  5.03MB/s    eta 2m 7s  \rglove.840B.300d.zip  68%[============>       ]   1.40G  5.01MB/s    eta 2m 7s  \rglove.840B.300d.zip  68%[============>       ]   1.40G  5.01MB/s    eta 2m 7s  \rglove.840B.300d.zip  68%[============>       ]   1.40G  5.02MB/s    eta 2m 6s  \rglove.840B.300d.zip  69%[============>       ]   1.40G  5.02MB/s    eta 2m 6s  \rglove.840B.300d.zip  69%[============>       ]   1.40G  5.02MB/s    eta 2m 6s  \rglove.840B.300d.zip  69%[============>       ]   1.40G  4.98MB/s    eta 2m 6s  \rglove.840B.300d.zip  69%[============>       ]   1.40G  5.01MB/s    eta 2m 6s  \rglove.840B.300d.zip  69%[============>       ]   1.40G  5.00MB/s    eta 2m 5s  \rglove.840B.300d.zip  69%[============>       ]   1.40G  5.00MB/s    eta 2m 5s  \rglove.840B.300d.zip  69%[============>       ]   1.41G  5.00MB/s    eta 2m 5s  \rglove.840B.300d.zip  69%[============>       ]   1.41G  4.98MB/s    eta 2m 5s  \rglove.840B.300d.zip  69%[============>       ]   1.41G  5.01MB/s    eta 2m 5s  \rglove.840B.300d.zip  69%[============>       ]   1.41G  5.01MB/s    eta 2m 4s  \rglove.840B.300d.zip  69%[============>       ]   1.41G  5.01MB/s    eta 2m 4s  \rglove.840B.300d.zip  69%[============>       ]   1.41G  5.01MB/s    eta 2m 4s  \rglove.840B.300d.zip  69%[============>       ]   1.41G  4.99MB/s    eta 2m 4s  \rglove.840B.300d.zip  69%[============>       ]   1.41G  5.01MB/s    eta 2m 4s  \rglove.840B.300d.zip  69%[============>       ]   1.41G  5.00MB/s    eta 2m 3s  \rglove.840B.300d.zip  69%[============>       ]   1.41G  5.00MB/s    eta 2m 3s  \rglove.840B.300d.zip  69%[============>       ]   1.42G  5.00MB/s    eta 2m 3s  \rglove.840B.300d.zip  69%[============>       ]   1.42G  5.01MB/s    eta 2m 3s  \rglove.840B.300d.zip  69%[============>       ]   1.42G  5.01MB/s    eta 2m 3s  \rglove.840B.300d.zip  69%[============>       ]   1.42G  5.01MB/s    eta 2m 2s  \rglove.840B.300d.zip  70%[=============>      ]   1.42G  5.01MB/s    eta 2m 2s  \rglove.840B.300d.zip  70%[=============>      ]   1.42G  4.98MB/s    eta 2m 2s  \rglove.840B.300d.zip  70%[=============>      ]   1.42G  4.99MB/s    eta 2m 2s  \rglove.840B.300d.zip  70%[=============>      ]   1.42G  5.01MB/s    eta 2m 2s  \rglove.840B.300d.zip  70%[=============>      ]   1.42G  5.01MB/s    eta 2m 1s  \rglove.840B.300d.zip  70%[=============>      ]   1.42G  5.01MB/s    eta 2m 1s  \rglove.840B.300d.zip  70%[=============>      ]   1.43G  4.97MB/s    eta 2m 1s  \rglove.840B.300d.zip  70%[=============>      ]   1.43G  5.01MB/s    eta 2m 1s  \rglove.840B.300d.zip  70%[=============>      ]   1.43G  5.00MB/s    eta 2m 1s  \rglove.840B.300d.zip  70%[=============>      ]   1.43G  5.01MB/s    eta 2m 0s  \rglove.840B.300d.zip  70%[=============>      ]   1.43G  5.00MB/s    eta 2m 0s  \rglove.840B.300d.zip  70%[=============>      ]   1.43G  4.97MB/s    eta 2m 0s  \rglove.840B.300d.zip  70%[=============>      ]   1.43G  5.01MB/s    eta 2m 0s  \rglove.840B.300d.zip  70%[=============>      ]   1.43G  5.01MB/s    eta 2m 0s  \rglove.840B.300d.zip  70%[=============>      ]   1.43G  5.01MB/s    eta 1m 59s \rglove.840B.300d.zip  70%[=============>      ]   1.43G  5.01MB/s    eta 1m 59s \rglove.840B.300d.zip  70%[=============>      ]   1.44G  4.98MB/s    eta 1m 59s \rglove.840B.300d.zip  70%[=============>      ]   1.44G  5.00MB/s    eta 1m 59s \rglove.840B.300d.zip  70%[=============>      ]   1.44G  5.01MB/s    eta 1m 59s \rglove.840B.300d.zip  70%[=============>      ]   1.44G  5.01MB/s    eta 1m 58s \rglove.840B.300d.zip  71%[=============>      ]   1.44G  5.01MB/s    eta 1m 58s \rglove.840B.300d.zip  71%[=============>      ]   1.44G  4.97MB/s    eta 1m 58s \rglove.840B.300d.zip  71%[=============>      ]   1.44G  5.02MB/s    eta 1m 58s \rglove.840B.300d.zip  71%[=============>      ]   1.44G  5.02MB/s    eta 1m 58s \rglove.840B.300d.zip  71%[=============>      ]   1.44G  5.02MB/s    eta 1m 57s \rglove.840B.300d.zip  71%[=============>      ]   1.44G  5.02MB/s    eta 1m 57s \rglove.840B.300d.zip  71%[=============>      ]   1.45G  5.01MB/s    eta 1m 57s \rglove.840B.300d.zip  71%[=============>      ]   1.45G  5.01MB/s    eta 1m 57s \rglove.840B.300d.zip  71%[=============>      ]   1.45G  5.01MB/s    eta 1m 57s \rglove.840B.300d.zip  71%[=============>      ]   1.45G  5.00MB/s    eta 1m 56s \rglove.840B.300d.zip  71%[=============>      ]   1.45G  4.97MB/s    eta 1m 56s \rglove.840B.300d.zip  71%[=============>      ]   1.45G  4.98MB/s    eta 1m 56s \rglove.840B.300d.zip  71%[=============>      ]   1.45G  5.01MB/s    eta 1m 56s \rglove.840B.300d.zip  71%[=============>      ]   1.45G  5.00MB/s    eta 1m 56s \rglove.840B.300d.zip  71%[=============>      ]   1.45G  5.01MB/s    eta 1m 55s \rglove.840B.300d.zip  71%[=============>      ]   1.46G  4.97MB/s    eta 1m 55s \rglove.840B.300d.zip  71%[=============>      ]   1.46G  5.00MB/s    eta 1m 55s \rglove.840B.300d.zip  71%[=============>      ]   1.46G  5.01MB/s    eta 1m 55s \rglove.840B.300d.zip  71%[=============>      ]   1.46G  5.01MB/s    eta 1m 55s \rglove.840B.300d.zip  71%[=============>      ]   1.46G  5.01MB/s    eta 1m 54s \rglove.840B.300d.zip  72%[=============>      ]   1.46G  4.97MB/s    eta 1m 54s \rglove.840B.300d.zip  72%[=============>      ]   1.46G  5.01MB/s    eta 1m 54s \rglove.840B.300d.zip  72%[=============>      ]   1.46G  5.01MB/s    eta 1m 54s \rglove.840B.300d.zip  72%[=============>      ]   1.46G  5.00MB/s    eta 1m 54s \rglove.840B.300d.zip  72%[=============>      ]   1.46G  5.00MB/s    eta 1m 53s \rglove.840B.300d.zip  72%[=============>      ]   1.46G  4.97MB/s    eta 1m 53s \rglove.840B.300d.zip  72%[=============>      ]   1.47G  5.01MB/s    eta 1m 53s \rglove.840B.300d.zip  72%[=============>      ]   1.47G  5.01MB/s    eta 1m 53s \rglove.840B.300d.zip  72%[=============>      ]   1.47G  5.02MB/s    eta 1m 53s \rglove.840B.300d.zip  72%[=============>      ]   1.47G  5.00MB/s    eta 1m 52s \rglove.840B.300d.zip  72%[=============>      ]   1.47G  4.97MB/s    eta 1m 52s \rglove.840B.300d.zip  72%[=============>      ]   1.47G  5.01MB/s    eta 1m 52s \rglove.840B.300d.zip  72%[=============>      ]   1.47G  5.00MB/s    eta 1m 52s \rglove.840B.300d.zip  72%[=============>      ]   1.47G  5.00MB/s    eta 1m 52s \rglove.840B.300d.zip  72%[=============>      ]   1.47G  5.01MB/s    eta 1m 51s \rglove.840B.300d.zip  72%[=============>      ]   1.47G  5.00MB/s    eta 1m 51s \rglove.840B.300d.zip  72%[=============>      ]   1.48G  5.01MB/s    eta 1m 51s \rglove.840B.300d.zip  72%[=============>      ]   1.48G  5.00MB/s    eta 1m 51s \rglove.840B.300d.zip  72%[=============>      ]   1.48G  4.99MB/s    eta 1m 51s \rglove.840B.300d.zip  72%[=============>      ]   1.48G  4.98MB/s    eta 1m 50s \rglove.840B.300d.zip  73%[=============>      ]   1.48G  4.98MB/s    eta 1m 50s \rglove.840B.300d.zip  73%[=============>      ]   1.48G  5.01MB/s    eta 1m 50s \rglove.840B.300d.zip  73%[=============>      ]   1.48G  5.01MB/s    eta 1m 50s \rglove.840B.300d.zip  73%[=============>      ]   1.48G  5.01MB/s    eta 1m 50s \rglove.840B.300d.zip  73%[=============>      ]   1.48G  4.96MB/s    eta 1m 49s \rglove.840B.300d.zip  73%[=============>      ]   1.49G  5.01MB/s    eta 1m 49s \rglove.840B.300d.zip  73%[=============>      ]   1.49G  5.01MB/s    eta 1m 49s \rglove.840B.300d.zip  73%[=============>      ]   1.49G  5.00MB/s    eta 1m 49s \rglove.840B.300d.zip  73%[=============>      ]   1.49G  5.01MB/s    eta 1m 49s \rglove.840B.300d.zip  73%[=============>      ]   1.49G  4.96MB/s    eta 1m 48s \n\nYour command has already run for 300 seconds. It is still running. You can continue to wait or interrupt it with \"action\": {\"type\": \"interrupt\"} or \"action\": {\"type\": \"continue_wait\"}"
      ]
     },
     "execution_count": null,
     "metadata": {},
     "output_type": "execute_result"
    }
   ],
   "source": [
    "#downloading and unzipping the embeddings\n",
    "!wget https://nlp.stanford.edu/data/glove.840B.300d.zip\n",
    "!unzip glove.840B.300d.zip"
   ]
  },
  {
   "cell_type": "markdown",
   "id": "aed8c258",
   "metadata": {},
   "source": [
    "### Step 5"
   ]
  },
  {
   "cell_type": "markdown",
   "id": "1ce8a579",
   "metadata": {},
   "source": [
    "**Thought**: [continued after timeout]"
   ]
  },
  {
   "cell_type": "markdown",
   "id": "e31016bd",
   "metadata": {},
   "source": [
    "**Action ()**:"
   ]
  },
  {
   "cell_type": "code",
   "execution_count": null,
   "id": "45b7cea2",
   "metadata": {},
   "outputs": [
    {
     "data": {
      "text/plain": [
       "Error: NameError: name 'continue_wait' is not defined\u001b[0;31m---------------------------------------------------------------------------\u001b[0m\u001b[0;31mNameError\u001b[0m                                 Traceback (most recent call last)Cell \u001b[0;32mIn[24], line 1\u001b[0m\n\u001b[0;32m----> 1\u001b[0m \u001b[43mcontinue_wait\u001b[49m\n\u001b[0;31mNameError\u001b[0m: name 'continue_wait' is not defined"
      ]
     },
     "execution_count": null,
     "metadata": {},
     "output_type": "execute_result"
    }
   ],
   "source": [
    "continue_wait"
   ]
  },
  {
   "cell_type": "markdown",
   "id": "e9d47606",
   "metadata": {},
   "source": [
    "### Step 6"
   ]
  },
  {
   "cell_type": "markdown",
   "id": "0ca2786d",
   "metadata": {},
   "source": [
    "**Thought**: [pre-executed by user]"
   ]
  },
  {
   "cell_type": "markdown",
   "id": "a59b85db",
   "metadata": {},
   "source": [
    "**Action (None)**:"
   ]
  },
  {
   "cell_type": "code",
   "execution_count": null,
   "id": "2319008b",
   "metadata": {},
   "outputs": [
    {
     "data": {
      "text/plain": [
       "/usr/local/lib/python3.10/site-packages/huggingface_hub/commands/download.py:132: FutureWarning: Ignoring --local-dir-use-symlinks. Downloading to a local directory does not use symlinks anymore.\r\n  warnings.warn(\r\n\rFetching 16 files:   0%|                                 | 0/16 [00:00<?, ?it/s]\rFetching 16 files:   0%|                                 | 0/16 [00:00<?, ?it/s]\r\nDownloading 'README.md' to 'bert-base-uncased/.huggingface/download/README.md.40a2aaca31dd005eb5f6ffad07b5ffed0a31d1f6.incomplete'\r\nDownloading 'config.json' to 'bert-base-uncased/.huggingface/download/config.json.45a2321a7ecfdaaf60a6c1fd7f5463994cc8907d.incomplete'\r\nDownloading 'model.safetensors' to 'bert-base-uncased/.huggingface/download/model.safetensors.68d45e234eb4a928074dfd868cead0219ab85354cc53d20e772753c6bb9169d3.incomplete'\r\nDownloading 'coreml/fill-mask/float32_model.mlpackage/Manifest.json' to 'bert-base-uncased/.huggingface/download/coreml/fill-mask/float32_model.mlpackage/Manifest.json.c1c37cd58b9eb000ddbb7ca90f04b893a33e50c8.incomplete'\r\nDownloading 'model.onnx' to 'bert-base-uncased/.huggingface/download/model.onnx.44d7a2896d341c51fb1eba89aea3a590e6af0ce33e25481136f7eeecb62e5f7f.incomplete'\r\nDownloading 'coreml/fill-mask/float32_model.mlpackage/Data/com.apple.CoreML/model.mlmodel' to 'bert-base-uncased/.huggingface/download/coreml/fill-mask/float32_model.mlpackage/Data/com.apple.CoreML/model.mlmodel.bd3e35c1681371542bd98f96b299be1832d89dbf.incomplete'\r\nDownloading 'coreml/fill-mask/float32_model.mlpackage/Data/com.apple.CoreML/weights/weight.bin' to 'bert-base-uncased/.huggingface/download/coreml/fill-mask/float32_model.mlpackage/Data/com.apple.CoreML/weights/weight.bin.c0c9f4914b4f0053785e96b8583cd59cda63c2f1b6e95a03970d772bf097e289.incomplete'\r\n\rREADME.md:   0%|                                    | 0.00/10.5k [00:00<?, ?B/s]\rREADME.md: 100%|███████████████████████████| 10.5k/10.5k [00:00<00:00, 7.68MB/s]\r\nDownload complete. Moving file to bert-base-uncased/README.md\r\nDownloading 'flax_model.msgpack' to 'bert-base-uncased/.huggingface/download/flax_model.msgpack.ea201fabe466ef7182f1f687fb5be4b62a73d3a78883f11264ff7f682cdb54bf.incomplete'\r\n\rconfig.json:   0%|                                    | 0.00/570 [00:00<?, ?B/s]\r(…)sk/float32_model.mlpackage/Manifest.json:   0%|    | 0.00/617 [00:00<?, ?B/s]\rconfig.json: 100%|██████████████████████████████| 570/570 [00:00<00:00, 869kB/s]\r\n\r(…)sk/float32_model.mlpackage/Manifest.json: 100%|█| 617/617 [00:00<00:00, 1.65M\r\nDownload complete. Moving file to bert-base-uncased/config.json\r\nDownload complete. Moving file to bert-base-uncased/coreml/fill-mask/float32_model.mlpackage/Manifest.json\r\n\r(…)kage/Data/com.apple.CoreML/model.mlmodel:   0%|   | 0.00/165k [00:00<?, ?B/s]\r\n\rmodel.onnx:   0%|                                    | 0.00/532M [00:00<?, ?B/s]\u001b[A\r\n\r\n\rflax_model.msgpack:   0%|                            | 0.00/438M [00:00<?, ?B/s]\u001b[A\u001b[A\r\n\r\n\r\n\rmodel.safetensors:   0%|                             | 0.00/440M [00:00<?, ?B/s]\u001b[A\u001b[A\u001b[A\r\n\r\n\r\n\r\n\rweight.bin:   0%|                                    | 0.00/532M [00:00<?, ?B/s]\u001b[A\u001b[A\u001b[A\u001b[A\r(…)kage/Data/com.apple.CoreML/model.mlmodel: 100%|█| 165k/165k [00:00<00:00, 3.9\r\nDownload complete. Moving file to bert-base-uncased/coreml/fill-mask/float32_model.mlpackage/Data/com.apple.CoreML/model.mlmodel\r\n\r\n\rmodel.onnx:   2%|▌                          | 10.5M/532M [00:00<00:08, 63.4MB/s]\u001b[A\r\n\r\n\rflax_model.msgpack:   2%|▍                  | 10.5M/438M [00:00<00:09, 47.1MB/s]\u001b[A\u001b[A\r\n\r\n\r\n\rmodel.safetensors:   2%|▍                   | 10.5M/440M [00:00<00:11, 37.5MB/s]\u001b[A\u001b[A\u001b[A\r\n\r\n\r\n\r\n\rweight.bin:   2%|▌                          | 10.5M/532M [00:00<00:13, 38.6MB/s]\u001b[A\u001b[A\u001b[A\u001b[A\r\n\rmodel.onnx:   4%|█                          | 21.0M/532M [00:00<00:08, 58.5MB/s]\u001b[A\r\n\r\n\rflax_model.msgpack:   5%|▉                  | 21.0M/438M [00:00<00:08, 51.4MB/s]\u001b[A\u001b[A\r\n\r\n\r\n\r\n\rweight.bin:   4%|█                          | 21.0M/532M [00:00<00:10, 49.3MB/s]\u001b[A\u001b[A\u001b[A\u001b[A\r\n\r\n\r\n\rmodel.safetensors:   5%|▉                   | 21.0M/440M [00:00<00:09, 43.5MB/s]\u001b[A\u001b[A\u001b[A\r\n\rmodel.onnx:   6%|█▌                         | 31.5M/532M [00:00<00:08, 57.7MB/s]\u001b[A\r\n\r\n\rflax_model.msgpack:   7%|█▎                 | 31.5M/438M [00:00<00:07, 54.9MB/s]\u001b[A\u001b[A\r\n\r\n\r\n\r\n\rweight.bin:   6%|█▌                         | 31.5M/532M [00:00<00:08, 57.3MB/s]\u001b[A\u001b[A\u001b[A\u001b[A\r\n\rmodel.onnx:   8%|██▏                        | 41.9M/532M [00:00<00:11, 44.2MB/s]\u001b[A\r\n\r\n\r\n\rmodel.safetensors:  10%|█▉                  | 41.9M/440M [00:00<00:08, 49.7MB/s]\u001b[A\u001b[A\u001b[A\r\n\r\n\rflax_model.msgpack:  10%|█▊                 | 41.9M/438M [00:00<00:08, 44.7MB/s]\u001b[A\u001b[A\r\n\r\n\r\n\r\n\rweight.bin:   8%|██▏                        | 41.9M/532M [00:00<00:10, 44.9MB/s]\u001b[A\u001b[A\u001b[A\u001b[A\r\n\rmodel.onnx:  12%|███▏                       | 62.9M/532M [00:01<00:07, 66.6MB/s]\u001b[A\r\n\r\n\rflax_model.msgpack:  14%|██▋                | 62.9M/438M [00:01<00:05, 67.6MB/s]\u001b[A\u001b[A\r\n\r\n\r\n\rmodel.safetensors:  14%|██▊                 | 62.9M/440M [00:01<00:05, 67.3MB/s]\u001b[A\u001b[A\u001b[A\r\n\r\n\r\n\r\n\rweight.bin:  12%|███▏                       | 62.9M/532M [00:01<00:07, 64.5MB/s]\u001b[A\u001b[A\u001b[A\u001b[A\r\n\rmodel.onnx:  14%|███▋                       | 73.4M/532M [00:01<00:06, 73.1MB/s]\u001b[A\r\n\r\n\rflax_model.msgpack:  19%|███▋               | 83.9M/438M [00:01<00:04, 82.3MB/s]\u001b[A\u001b[A\r\n\r\n\r\n\rmodel.safetensors:  19%|███▊                | 83.9M/440M [00:01<00:04, 80.8MB/s]\u001b[A\u001b[A\u001b[A\r\n\r\n\r\n\r\n\rweight.bin:  16%|████▎                      | 83.9M/532M [00:01<00:05, 82.0MB/s]\u001b[A\u001b[A\u001b[A\u001b[A\r\n\r\n\rflax_model.msgpack:  24%|████▊               | 105M/438M [00:01<00:03, 94.2MB/s]\u001b[A\u001b[A\r\n\rmodel.onnx:  18%|████▊                      | 94.4M/532M [00:01<00:06, 72.2MB/s]\u001b[A\r\n\r\n\r\n\rmodel.safetensors:  24%|████▉                | 105M/440M [00:01<00:03, 90.8MB/s]\u001b[A\u001b[A\u001b[A\r\n\r\n\r\n\r\n\rweight.bin:  18%|████▊                      | 94.4M/532M [00:01<00:06, 70.1MB/s]\u001b[A\u001b[A\u001b[A\u001b[A\r\n\r\n\rflax_model.msgpack:  29%|█████▋              | 126M/438M [00:01<00:03, 97.7MB/s]\u001b[A\u001b[A\r\n\rmodel.onnx:  22%|██████                      | 115M/532M [00:01<00:04, 83.6MB/s]\u001b[A\r\n\r\n\r\n\rmodel.safetensors:  29%|█████▉               | 126M/440M [00:01<00:03, 94.4MB/s]\u001b[A\u001b[A\u001b[A\r\n\r\n\r\n\r\n\rweight.bin:  22%|██████                      | 115M/532M [00:01<00:04, 87.4MB/s]\u001b[A\u001b[A\u001b[A\u001b[A\r\n\rmodel.onnx:  26%|███████▏                    | 136M/532M [00:01<00:04, 96.4MB/s]\u001b[A\r\n\r\n\rflax_model.msgpack:  34%|███████              | 147M/438M [00:01<00:02, 102MB/s]\u001b[A\u001b[A\r\n\r\n\r\n\rmodel.safetensors:  33%|███████▎              | 147M/440M [00:01<00:02, 100MB/s]\u001b[A\u001b[A\u001b[A\r\n\r\n\r\n\r\n\rweight.bin:  26%|███████▏                    | 136M/532M [00:01<00:04, 95.5MB/s]\u001b[A\u001b[A\u001b[A\u001b[A\r\n\rmodel.onnx:  30%|████████▌                    | 157M/532M [00:01<00:03, 104MB/s]\u001b[A\r\n\r\n\rflax_model.msgpack:  38%|████████             | 168M/438M [00:01<00:02, 107MB/s]\u001b[A\u001b[A\r\n\r\n\r\n\r\n\rweight.bin:  30%|████████▌                    | 157M/532M [00:01<00:03, 103MB/s]\u001b[A\u001b[A\u001b[A\u001b[A\r\n\r\n\r\n\rmodel.safetensors:  38%|████████▍             | 168M/440M [00:02<00:02, 104MB/s]\u001b[A\u001b[A\u001b[A\r\n\rmodel.onnx:  34%|█████████▋                   | 178M/532M [00:02<00:03, 112MB/s]\u001b[A\r\n\r\n\rflax_model.msgpack:  43%|█████████            | 189M/438M [00:02<00:02, 113MB/s]\u001b[A\u001b[A\r\n\r\n\r\n\r\n\rweight.bin:  34%|█████████▋                   | 178M/532M [00:02<00:03, 114MB/s]\u001b[A\u001b[A\u001b[A\u001b[A\r\n\r\n\r\n\rmodel.safetensors:  43%|█████████▍            | 189M/440M [00:02<00:02, 109MB/s]\u001b[A\u001b[A\u001b[A\r\n\rmodel.onnx:  37%|██████████▊                  | 199M/532M [00:02<00:02, 115MB/s]\u001b[A\r\n\r\n\rflax_model.msgpack:  48%|██████████           | 210M/438M [00:02<00:02, 114MB/s]\u001b[A\u001b[A\r\n\r\n\r\n\r\n\rweight.bin:  37%|██████████▊                  | 199M/532M [00:02<00:02, 115MB/s]\u001b[A\u001b[A\u001b[A\u001b[A\r\n\r\n\r\n\rmodel.safetensors:  48%|██████████▍           | 210M/440M [00:02<00:02, 109MB/s]\u001b[A\u001b[A\u001b[A\r\n\rmodel.onnx:  41%|████████████                 | 220M/532M [00:02<00:02, 124MB/s]\u001b[A\r\n\r\n\rflax_model.msgpack:  53%|███████████          | 231M/438M [00:02<00:01, 117MB/s]\u001b[A\u001b[A\r\n\r\n\r\n\r\n\rweight.bin:  41%|████████████                 | 220M/532M [00:02<00:02, 117MB/s]\u001b[A\u001b[A\u001b[A\u001b[A\r\n\r\n\r\n\rmodel.safetensors:  52%|███████████▌          | 231M/440M [00:02<00:01, 113MB/s]\u001b[A\u001b[A\u001b[A\r\n\rmodel.onnx:  45%|█████████████▏               | 241M/532M [00:02<00:02, 123MB/s]\u001b[A\r\n\r\n\rflax_model.msgpack:  57%|████████████         | 252M/438M [00:02<00:01, 119MB/s]\u001b[A\u001b[A\r\n\r\n\r\n\r\n\rweight.bin:  45%|█████████████▏               | 241M/532M [00:02<00:02, 111MB/s]\u001b[A\u001b[A\u001b[A\u001b[A\r\n\r\n\r\n\rmodel.safetensors:  57%|████████████▌         | 252M/440M [00:02<00:01, 112MB/s]\u001b[A\u001b[A\u001b[A\r\n\rmodel.onnx:  49%|██████████████▎              | 262M/532M [00:02<00:02, 126MB/s]\u001b[A\r\n\r\n\rflax_model.msgpack:  62%|█████████████        | 273M/438M [00:02<00:01, 115MB/s]\u001b[A\u001b[A\r\n\r\n\r\n\r\n\rweight.bin:  49%|██████████████▎              | 262M/532M [00:02<00:02, 113MB/s]\u001b[A\u001b[A\u001b[A\u001b[A\r\n\rmodel.onnx:  53%|███████████████▍             | 283M/532M [00:02<00:01, 127MB/s]\u001b[A\r\n\r\n\r\n\rmodel.safetensors:  62%|█████████████▌        | 273M/440M [00:02<00:01, 114MB/s]\u001b[A\u001b[A\u001b[A\r\n\r\n\rflax_model.msgpack:  67%|██████████████       | 294M/438M [00:03<00:01, 116MB/s]\u001b[A\u001b[A\r\n\r\n\r\n\r\n\rweight.bin:  53%|███████████████▍             | 283M/532M [00:03<00:02, 115MB/s]\u001b[A\u001b[A\u001b[A\u001b[A\r\n\r\n\r\n\rmodel.safetensors:  67%|██████████████▋       | 294M/440M [00:03<00:01, 119MB/s]\u001b[A\u001b[A\u001b[A\r\n\rmodel.onnx:  57%|████████████████▌            | 304M/532M [00:03<00:01, 127MB/s]\u001b[A\r\n\r\n\rflax_model.msgpack:  72%|███████████████      | 315M/438M [00:03<00:01, 119MB/s]\u001b[A\u001b[A\r\n\rmodel.onnx:  61%|█████████████████▋           | 325M/532M [00:03<00:01, 126MB/s]\u001b[A\r\n\r\n\r\n\r\n\rweight.bin:  57%|████████████████▌            | 304M/532M [00:03<00:01, 115MB/s]\u001b[A\u001b[A\u001b[A\u001b[A\r\n\r\n\r\n\rmodel.safetensors:  71%|███████████████▋      | 315M/440M [00:03<00:01, 118MB/s]\u001b[A\u001b[A\u001b[A\r\n\r\n\rflax_model.msgpack:  77%|████████████████     | 336M/438M [00:03<00:00, 120MB/s]\u001b[A\u001b[A\r\n\rmodel.onnx:  65%|██████████████████▊          | 346M/532M [00:03<00:01, 125MB/s]\u001b[A\r\n\r\n\r\n\r\n\rweight.bin:  61%|█████████████████▋           | 325M/532M [00:03<00:01, 115MB/s]\u001b[A\u001b[A\u001b[A\u001b[A\r\n\r\n\r\n\rmodel.safetensors:  76%|████████████████▊     | 336M/440M [00:03<00:00, 114MB/s]\u001b[A\u001b[A\u001b[A\r\n\r\n\rflax_model.msgpack:  81%|█████████████████    | 357M/438M [00:03<00:00, 120MB/s]\u001b[A\u001b[A\r\n\rmodel.onnx:  69%|████████████████████         | 367M/532M [00:03<00:01, 127MB/s]\u001b[A\r\n\r\n\r\n\r\n\rweight.bin:  65%|██████████████████▊          | 346M/532M [00:03<00:01, 120MB/s]\u001b[A\u001b[A\u001b[A\u001b[A\r\n\r\n\r\n\rmodel.safetensors:  81%|█████████████████▊    | 357M/440M [00:03<00:00, 114MB/s]\u001b[A\u001b[A\u001b[A\r\n\rmodel.onnx:  73%|█████████████████████▏       | 388M/532M [00:03<00:01, 127MB/s]\u001b[A\r\n\r\n\r\n\r\n\rweight.bin:  69%|████████████████████         | 367M/532M [00:03<00:01, 122MB/s]\u001b[A\u001b[A\u001b[A\u001b[A\r\n\r\n\rflax_model.msgpack:  86%|██████████████████   | 377M/438M [00:03<00:00, 112MB/s]\u001b[A\u001b[A\r\n\r\n\r\n\rmodel.safetensors:  86%|██████████████████▊   | 377M/440M [00:03<00:00, 114MB/s]\u001b[A\u001b[A\u001b[A\r\n\rmodel.onnx:  77%|██████████████████████▎      | 409M/532M [00:03<00:00, 131MB/s]\u001b[A\r\n\r\n\r\n\r\n\rweight.bin:  73%|█████████████████████▏       | 388M/532M [00:03<00:01, 123MB/s]\u001b[A\u001b[A\u001b[A\u001b[A\r\n\r\n\rflax_model.msgpack:  91%|███████████████████  | 398M/438M [00:03<00:00, 115MB/s]\u001b[A\u001b[A\r\n\r\n\r\n\rmodel.safetensors:  90%|███████████████████▉  | 398M/440M [00:03<00:00, 119MB/s]\u001b[A\u001b[A\u001b[A\r\n\rmodel.onnx:  81%|███████████████████████▍     | 430M/532M [00:04<00:00, 132MB/s]\u001b[A\r\n\r\n\r\n\r\n\rweight.bin:  77%|██████████████████████▎      | 409M/532M [00:04<00:00, 126MB/s]\u001b[A\u001b[A\u001b[A\u001b[A\r\n\r\n\rflax_model.msgpack:  96%|████████████████████ | 419M/438M [00:04<00:00, 119MB/s]\u001b[A\u001b[A\r\n\r\n\r\n\rmodel.safetensors:  95%|████████████████████▉ | 419M/440M [00:04<00:00, 120MB/s]\u001b[A\u001b[A\u001b[A\r\n\rmodel.onnx:  85%|████████████████████████▌    | 451M/532M [00:04<00:00, 133MB/s]\u001b[A\r\n\r\n\r\n\r\n\rweight.bin:  81%|███████████████████████▍     | 430M/532M [00:04<00:00, 124MB/s]\u001b[A\u001b[A\u001b[A\u001b[A\r\n\r\n\rflax_model.msgpack: 100%|█████████████████████| 438M/438M [00:04<00:00, 116MB/s]\u001b[A\u001b[A\rflax_model.msgpack: 100%|█████████████████████| 438M/438M [00:04<00:00, 103MB/s]\r\nDownload complete. Moving file to bert-base-uncased/flax_model.msgpack\r\n\r\n\r\n\r\n\rmodel.safetensors: 100%|█████████████████████▉| 440M/440M [00:04<00:00, 121MB/s]\u001b[A\u001b[A\u001b[A\rmodel.safetensors: 100%|██████████████████████| 440M/440M [00:04<00:00, 102MB/s]\r\nDownload complete. Moving file to bert-base-uncased/model.safetensors\r\n\r\n\rmodel.onnx:  89%|█████████████████████████▋   | 472M/532M [00:04<00:00, 134MB/s]\u001b[A\r\n\r\n\r\n\r\n\rweight.bin:  85%|████████████████████████▌    | 451M/532M [00:04<00:00, 126MB/s]\u001b[A\u001b[A\u001b[A\u001b[A\r\n\rmodel.onnx:  93%|██████████████████████████▊  | 493M/532M [00:04<00:00, 142MB/s]\u001b[A\r\n\r\n\r\n\r\n\rweight.bin:  89%|█████████████████████████▋   | 472M/532M [00:04<00:00, 128MB/s]\u001b[A\u001b[A\u001b[A\u001b[A\r\n\rmodel.onnx:  97%|████████████████████████████ | 514M/532M [00:04<00:00, 146MB/s]\u001b[A\r\n\rmodel.onnx: 100%|█████████████████████████████| 532M/532M [00:04<00:00, 149MB/s]\u001b[A\r\n\r\n\r\n\r\n\rweight.bin:  93%|██████████████████████████▊  | 493M/532M [00:04<00:00, 129MB/s]\u001b[A\u001b[A\u001b[A\u001b[A\rmodel.onnx: 100%|█████████████████████████████| 532M/532M [00:04<00:00, 112MB/s]\r\nDownload complete. Moving file to bert-base-uncased/model.onnx\r\n\r\n\r\n\r\n\r\n\rweight.bin:  97%|████████████████████████████ | 514M/532M [00:04<00:00, 134MB/s]\u001b[A\u001b[A\u001b[A\u001b[A\r\n\r\n\r\n\r\n\rweight.bin: 100%|█████████████████████████████| 532M/532M [00:04<00:00, 136MB/s]\u001b[A\u001b[A\u001b[A\u001b[A\rweight.bin: 100%|█████████████████████████████| 532M/532M [00:04<00:00, 107MB/s]\r\nDownload complete. Moving file to bert-base-uncased/coreml/fill-mask/float32_model.mlpackage/Data/com.apple.CoreML/weights/weight.bin\r\nTraceback (most recent call last):\r\n  File \"/usr/local/bin/huggingface-cli\", line 8, in <module>\r\n    sys.exit(main())\r\n  File \"/usr/local/lib/python3.10/site-packages/huggingface_hub/commands/huggingface_cli.py\", line 51, in main\r\n    service.run()\r\n  File \"/usr/local/lib/python3.10/site-packages/huggingface_hub/commands/download.py\", line 146, in run\r\n    print(self._download())  # Print path to downloaded files\r\n  File \"/usr/local/lib/python3.10/site-packages/huggingface_hub/commands/download.py\", line 180, in _download\r\n    return snapshot_download(\r\n  File \"/usr/local/lib/python3.10/site-packages/huggingface_hub/utils/_validators.py\", line 114, in _inner_fn\r\n    return fn(*args, **kwargs)\r\n  File \"/usr/local/lib/python3.10/site-packages/huggingface_hub/_snapshot_download.py\", line 294, in snapshot_download\r\n    thread_map(\r\n  File \"/usr/local/lib/python3.10/site-packages/tqdm/contrib/concurrent.py\", line 69, in thread_map\r\n    return _executor_map(ThreadPoolExecutor, fn, *iterables, **tqdm_kwargs)\r\n  File \"/usr/local/lib/python3.10/site-packages/tqdm/contrib/concurrent.py\", line 51, in _executor_map\r\n    return list(tqdm_class(ex.map(fn, *iterables, chunksize=chunksize), **kwargs))\r\n  File \"/usr/local/lib/python3.10/site-packages/tqdm/std.py\", line 1181, in __iter__\r\n    for obj in iterable:\r\n  File \"/usr/local/lib/python3.10/concurrent/futures/_base.py\", line 621, in result_iterator\r\n    yield _result_or_cancel(fs.pop())\r\n  File \"/usr/local/lib/python3.10/concurrent/futures/_base.py\", line 319, in _result_or_cancel\r\n    return fut.result(timeout)\r\n  File \"/usr/local/lib/python3.10/concurrent/futures/_base.py\", line 451, in result\r\n    return self.__get_result()\r\n  File \"/usr/local/lib/python3.10/concurrent/futures/_base.py\", line 403, in __get_result\r\n    raise self._exception\r\n  File \"/usr/local/lib/python3.10/concurrent/futures/thread.py\", line 58, in run\r\n    result = self.fn(*self.args, **self.kwargs)\r\n  File \"/usr/local/lib/python3.10/site-packages/huggingface_hub/_snapshot_download.py\", line 268, in _inner_hf_hub_download\r\n    return hf_hub_download(\r\n  File \"/usr/local/lib/python3.10/site-packages/huggingface_hub/utils/_validators.py\", line 114, in _inner_fn\r\n    return fn(*args, **kwargs)\r\n  File \"/usr/local/lib/python3.10/site-packages/huggingface_hub/file_download.py\", line 1202, in hf_hub_download\r\n    return _hf_hub_download_to_local_dir(\r\n  File \"/usr/local/lib/python3.10/site-packages/huggingface_hub/file_download.py\", line 1406, in _hf_hub_download_to_local_dir\r\n    paths = get_local_download_paths(local_dir=local_dir, filename=filename)\r\n  File \"/usr/local/lib/python3.10/site-packages/huggingface_hub/_local_folder.py\", line 138, in get_local_download_paths\r\n    metadata_path = _huggingface_dir(local_dir) / \"download\" / f\"{sanitized_filename}.metadata\"\r\n  File \"/usr/local/lib/python3.10/site-packages/huggingface_hub/_local_folder.py\", line 223, in _huggingface_dir\r\n    with WeakFileLock(gitignore_lock):\r\n  File \"/usr/local/lib/python3.10/contextlib.py\", line 135, in __enter__\r\n    return next(self.gen)\r\n  File \"/usr/local/lib/python3.10/site-packages/huggingface_hub/utils/_fixes.py\", line 84, in WeakFileLock\r\n    lock.acquire()\r\n  File \"/usr/local/lib/python3.10/site-packages/filelock/_api.py\", line 321, in acquire\r\n    self._acquire()\r\n  File \"/usr/local/lib/python3.10/site-packages/filelock/_unix.py\", line 42, in _acquire\r\n    fd = os.open(self.lock_file, open_flags, self._context.mode)\r\nFileNotFoundError: [Errno 2] No such file or directory: 'bert-base-uncased/.huggingface/.gitignore.lock'\r\n"
      ]
     },
     "execution_count": null,
     "metadata": {},
     "output_type": "execute_result"
    }
   ],
   "source": [
    "#downloading the bert model from HF and saving it in bert-base-uncased\n",
    "!mkdir bert-base-uncased\n",
    "!huggingface-cli download google-bert/bert-base-uncased --local-dir bert-base-uncased --local-dir-use-symlinks False"
   ]
  },
  {
   "cell_type": "markdown",
   "id": "38e8bf0f",
   "metadata": {},
   "source": [
    "### Step 7"
   ]
  },
  {
   "cell_type": "markdown",
   "id": "7a1a86ca",
   "metadata": {},
   "source": [
    "**Thought**: [pre-executed by user]"
   ]
  },
  {
   "cell_type": "markdown",
   "id": "e66cb5ec",
   "metadata": {},
   "source": [
    "**Action (None)**:"
   ]
  },
  {
   "cell_type": "code",
   "execution_count": null,
   "id": "874001f4",
   "metadata": {},
   "outputs": [
    {
     "data": {
      "text/plain": [
       ""
      ]
     },
     "execution_count": null,
     "metadata": {},
     "output_type": "execute_result"
    }
   ],
   "source": [
    "#reducing the train and test dataset to 10 samples each\n",
    "import csv\n",
    "import os\n",
    "\n",
    "def trim_tsv_files_in_directory(directory, num_rows=10):\n",
    "    for filename in os.listdir(directory):\n",
    "        if filename.endswith('.tsv'):\n",
    "            file_path = os.path.join(directory, filename)\n",
    "            trim_tsv(file_path, num_rows)\n",
    "\n",
    "def trim_tsv(file_path, num_rows=10):\n",
    "    # Read the first num_rows from the input file\n",
    "    with open(file_path, 'r', newline='', encoding='utf-8') as infile:\n",
    "        reader = csv.reader(infile, delimiter='\\t')\n",
    "        rows = [next(reader) for _ in range(num_rows)]\n",
    "\n",
    "    # Write the first num_rows back to the same file\n",
    "    with open(file_path, 'w', newline='', encoding='utf-8') as outfile:\n",
    "        writer = csv.writer(outfile, delimiter='\\t')\n",
    "        writer.writerows(rows)\n",
    "\n",
    "# Usage\n",
    "trim_tsv_files_in_directory('data/SST2')"
   ]
  },
  {
   "cell_type": "markdown",
   "id": "b96bc311",
   "metadata": {},
   "source": [
    "### Step 8"
   ]
  },
  {
   "cell_type": "markdown",
   "id": "27e2c160",
   "metadata": {},
   "source": [
    "Execution Start time: 06:35:57, End time: 06:35:57 (duration: 0 seconds)"
   ]
  },
  {
   "cell_type": "markdown",
   "id": "72830fd0",
   "metadata": {},
   "source": [
    "**Thought**: Now that the datasets have been trimmed to the first 10 examples, the next step is to locate the script responsible for training and evaluating the model. This script will need to be modified to ensure it only processes one batch. Let's start by listing the files in the current directory to identify potential scripts.\n",
    "\n"
   ]
  },
  {
   "cell_type": "markdown",
   "id": "aec9512e",
   "metadata": {},
   "source": [
    "**Action (None)**:"
   ]
  },
  {
   "cell_type": "code",
   "execution_count": null,
   "id": "885ec319",
   "metadata": {},
   "outputs": [
    {
     "data": {
      "text/plain": [
       ".     .gitignore  bert-base-uncased  data_loader.py\t  requirements.txt\n..    LICENSE\t  data\t\t     glove.840B.300d.zip  run_main.py\n.git  README.md   data.zip\t     model.py\n"
      ]
     },
     "execution_count": null,
     "metadata": {},
     "output_type": "execute_result"
    }
   ],
   "source": [
    "!ls -a"
   ]
  },
  {
   "cell_type": "markdown",
   "id": "8997c8c0",
   "metadata": {},
   "source": [
    "### Step 9"
   ]
  },
  {
   "cell_type": "markdown",
   "id": "2dadaaa8",
   "metadata": {},
   "source": [
    "Execution Start time: 06:35:59, End time: 06:35:59 (duration: 0 seconds)"
   ]
  },
  {
   "cell_type": "markdown",
   "id": "b915d008",
   "metadata": {},
   "source": [
    "**Thought**: The `run_main.py` file is likely the script used for training and evaluating the model. Let's open this file to examine its contents and determine where we can modify it to ensure it processes only one batch.\n",
    "\n"
   ]
  },
  {
   "cell_type": "markdown",
   "id": "299afb66",
   "metadata": {},
   "source": [
    "**Action (open)**:"
   ]
  },
  {
   "cell_type": "code",
   "execution_count": null,
   "id": "9a8f7ba4",
   "metadata": {},
   "outputs": [
    {
     "data": {
      "text/plain": [
       "[File: /content/Mixup-AMP/run_main.py (341 lines total)]\n1:import argparse\n2:import logging\n3:import os\n4:import random\n5:\n6:import numpy as np\n7:import torch\n8:import torch.nn as nn\n9:import torch.optim as optim\n10:import tqdm\n11:from torch.utils.data import DataLoader\n12:import pickle\n13:\n14:from data_loader import load_dataset\n15:from model import CNN, RNN, BertForSequenceClassification\n16:\n17:KEYS = ['CLASSIFIER', 'ADV_TYPE', 'ADV_FLAG', \"LAYER_MIX\", 'SEED', 'CV', 'ALPHA']\n18:\n19:\n20:def log_name(params):\n21:    file_name = \"train_log/\" + params['DATASET'] + \"/\"\n22:    if not os.path.exists(file_name):\n23:        os.makedirs(file_name)\n24:    for key in KEYS:\n25:        if key in params:\n26:            file_name += key + \"_\" + str(params[key]) + \"_\"\n27:    path = file_name + \".log\"\n28:    return path\n29:\n30:\n31:## TODO 加cv，加数据集\n32:def set_seed(seed=7):\n33:    torch.manual_seed(seed)  # cpu\n34:    torch.cuda.manual_seed(seed)  # gpu\n35:    np.random.seed(seed)  # numpy\n36:    random.seed(seed)  # random and transforms\n37:    # torch.backends.cudnn.deterministic=True # cudnn\n38:\n39:\n40:def train(model, train_set, test_set, params, logger):\n41:    bce_loss = nn.BCELoss(reduction='none').to(params['DEVICE'])\n42:    softmax = nn.Softmax(dim=1).to(params['DEVICE'])\n43:    criterion = nn.CrossEntropyLoss().to(params['DEVICE'])\n44:    parameters = list(filter(lambda p: p.requires_grad, model.parameters()))\n45:    optimizer = optim.Adam(parameters, lr=params[\"LEARNING_RATE\"], weight_decay=params[\"L2\"])\n46:    train_loader = DataLoader(train_set, batch_size=params[\"BATCH_SIZE\"], shuffle=True)\n47:    max_test_acc = 0\n48:    cur_batch = 0\n49:    cur_epoch = 0\n50:    train_loss = 0\n51:    test_loss = 0\n52:    go_flag = True\n53:\n54:    gamma = params[\"GAMMA\"]\n55:    adv_type = params[\"ADV_TYPE\"]\n56:    adv_flag = params[\"ADV_FLAG\"]\n57:    loss_delta_recorder = []\n58:    while go_flag:\n59:        cur_epoch += 1\n60:        for batch in train_loader:\n61:            model.train()\n62:            cur_batch += 1\n63:            if cur_batch == params['TRAIN_BATCH']:\n64:                go_flag = False\n65:                break\n66:            if params['CLASSIFIER'] != \"BERT\":\n67:                batch_x, batch_y = batch\n68:                batch_x = batch_x.to(params['DEVICE'])\n69:                batch_y = batch_y.to(params['DEVICE'])\n70:                one_hot_batch_y = torch.nn.functional.one_hot(batch_y, params[\"CLASS_SIZE\"])\n71:            else:\n72:                input_ids, input_mask, segment_ids, label_ids, _ = batch\n73:                input_ids = input_ids.to(params['DEVICE'])\n74:                input_mask = input_mask.to(params['DEVICE'])\n75:                segment_ids = segment_ids.to(params['DEVICE'])\n76:                batch_y = label_ids.to(params['DEVICE'])\n77:                one_hot_batch_y = torch.nn.functional.one_hot(batch_y, params[\"CLASS_SIZE\"])\n78:\n79:            # argmax lam loss\n80:            lam = np.random.beta(params['ALPHA'], params['ALPHA'], one_hot_batch_y.size()[0])\n81:            # lam = np.fmax(lam,1-lam)\n82:            lam = torch.FloatTensor(lam).to(params['DEVICE'])\n83:            if adv_type == 0:\n84:                if params['CLASSIFIER'] != \"BERT\":\n85:                    pred = model(batch_x)\n86:                else:\n87:                    pred = model(input_ids, segment_ids, input_mask)\n88:                pred = softmax(pred)\n89:                loss = criterion(pred, batch_y)\n90:            if adv_type == 1:\n91:                lam.requires_grad_()\n92:                if params['CLASSIFIER'] != \"BERT\":\n93:                    mixed_x, mixed_y, indices = model(batch_x, target=one_hot_batch_y, mixup_hidden=params['MIX_HIDDEN'],\n94:                                             layer_mix=params['LAYER_MIX'], lam=lam)\n95:                else:\n96:                    mixed_x, mixed_y, indices  = model(input_ids, segment_ids, input_mask, target=one_hot_batch_y,\n97:                                             mixup_hidden=True,\n98:                                             layer_mix=params['LAYER_MIX'], lam=lam)\n99:                pred = softmax(mixed_x)\n100:                loss = bce_loss(pred, mixed_y).sum(dim=1)\n(241 more lines below)\n"
      ]
     },
     "execution_count": null,
     "metadata": {},
     "output_type": "execute_result"
    }
   ],
   "source": [
    "open run_main.py"
   ]
  },
  {
   "cell_type": "markdown",
   "id": "f0a097cc",
   "metadata": {},
   "source": [
    "### Step 10"
   ]
  },
  {
   "cell_type": "markdown",
   "id": "558f5987",
   "metadata": {},
   "source": [
    "Execution Start time: 06:36:01, End time: 06:36:01 (duration: 0 seconds)"
   ]
  },
  {
   "cell_type": "markdown",
   "id": "4f5f6055",
   "metadata": {},
   "source": [
    "**Thought**: The `train` function in `run_main.py` is responsible for training the model. It uses a `DataLoader` to iterate over batches, and there's a condition to stop training after a certain number of batches (`params['TRAIN_BATCH']`). We need to ensure that this parameter is set to 1 to train only one batch. Let's search for where `params['TRAIN_BATCH']` is set or used in the script.\n",
    "\n"
   ]
  },
  {
   "cell_type": "markdown",
   "id": "ee11e328",
   "metadata": {},
   "source": [
    "**Action (search_file)**:"
   ]
  },
  {
   "cell_type": "code",
   "execution_count": null,
   "id": "75658730",
   "metadata": {},
   "outputs": [
    {
     "data": {
      "text/plain": [
       "Found 2 matches for \"TRAIN_BATCH\" in /content/Mixup-AMP/run_main.py:\nLine 63:            if cur_batch == params['TRAIN_BATCH']:\nLine 267:        \"TRAIN_BATCH\": options.train_batch,\nEnd of matches for \"TRAIN_BATCH\" in /content/Mixup-AMP/run_main.py\n"
      ]
     },
     "execution_count": null,
     "metadata": {},
     "output_type": "execute_result"
    }
   ],
   "source": [
    "search_file 'TRAIN_BATCH' run_main.py"
   ]
  },
  {
   "cell_type": "markdown",
   "id": "76dc35ac",
   "metadata": {},
   "source": [
    "### Step 11"
   ]
  },
  {
   "cell_type": "markdown",
   "id": "0b53ef1c",
   "metadata": {},
   "source": [
    "Execution Start time: 06:36:03, End time: 06:36:03 (duration: 0 seconds)"
   ]
  },
  {
   "cell_type": "markdown",
   "id": "492a79b3",
   "metadata": {},
   "source": [
    "**Thought**: The `TRAIN_BATCH` parameter is used in a condition on line 63 to stop training after a certain number of batches, and it is set from `options.train_batch` on line 267. We need to ensure that `options.train_batch` is set to 1. Let's search for where `options.train_batch` is defined or set in the script.\n",
    "\n"
   ]
  },
  {
   "cell_type": "markdown",
   "id": "cc447f1f",
   "metadata": {},
   "source": [
    "**Action (search_file)**:"
   ]
  },
  {
   "cell_type": "code",
   "execution_count": null,
   "id": "7c77574d",
   "metadata": {},
   "outputs": [
    {
     "data": {
      "text/plain": [
       "Found 2 matches for \"train_batch\" in /content/Mixup-AMP/run_main.py:\nLine 226:    parser.add_argument(\"--train_batch\", default=8000, type=int, help=\"number of max batch\")\nLine 267:        \"TRAIN_BATCH\": options.train_batch,\nEnd of matches for \"train_batch\" in /content/Mixup-AMP/run_main.py\n"
      ]
     },
     "execution_count": null,
     "metadata": {},
     "output_type": "execute_result"
    }
   ],
   "source": [
    "search_file 'train_batch' run_main.py"
   ]
  },
  {
   "cell_type": "markdown",
   "id": "9b54b81b",
   "metadata": {},
   "source": [
    "### Step 12"
   ]
  },
  {
   "cell_type": "markdown",
   "id": "b35f05c5",
   "metadata": {},
   "source": [
    "Execution Start time: 06:36:05, End time: 06:36:06 (duration: 1 seconds)"
   ]
  },
  {
   "cell_type": "markdown",
   "id": "9c28ac07",
   "metadata": {},
   "source": [
    "**Thought**: The `train_batch` argument is defined on line 226 with a default value of 8000. We need to modify this default value to 1 to ensure that only one batch is processed during training. Let's edit the file to make this change.\n",
    "\n"
   ]
  },
  {
   "cell_type": "markdown",
   "id": "8140b886",
   "metadata": {},
   "source": [
    "**Action (edit)**:"
   ]
  },
  {
   "cell_type": "code",
   "execution_count": null,
   "id": "fcba3a2f",
   "metadata": {},
   "outputs": [
    {
     "data": {
      "text/plain": [
       "[File: /content/Mixup-AMP/run_main.py (341 lines total)]\n(175 more lines above)\n176:            segment_ids = segment_ids.to(params['DEVICE'])\n177:            batch_y = label_ids.to(\"cpu\")\n178:        y_list.append(batch_y)\n179:        if params['CLASSIFIER'] != \"BERT\":\n180:            pred = model(batch_x, mixup_hidden=False)\n181:        else:\n182:            pred = model(input_ids, segment_ids, input_mask, mixup_hidden=False)\n183:        loss = criterion(pred.to('cpu'), batch_y)\n184:        test_loss += loss.item()\n185:        pred = torch.argmax(pred, axis=1)\n186:        pred_list.append(pred)\n187:        batch_count += 1\n188:    y_list = torch.cat(y_list, dim=0)\n189:    pred_list = torch.cat(pred_list, dim=0)\n190:    y_list = y_list.data.numpy()\n191:    pred_list = pred_list.cpu().data.numpy()\n192:    acc = sum([1 if p == y else 0 for p, y in zip(pred_list, y_list)]) / len(pred_list)\n193:    return acc, test_loss / batch_count\n194:\n195:\n196:def load_glove_txt(file_path=\"glove.6B.300d.txt\"):\n197:    results = {}\n198:    num_file = sum([1 for i in open(file_path, \"r\", encoding='utf8')])\n199:    with open(file_path, 'r', encoding='utf8') as infile:\n200:        for line in tqdm.tqdm(infile, total=num_file):\n201:            data = line.strip().split(' ')\n202:            word = data[0]\n203:            vec = np.array(data[1:], dtype=np.float32)\n204:            results[word] = vec\n205:    return results\n206:\n207:\n208:def main():\n209:    parser = argparse.ArgumentParser(description=\"-----[CNN-classifier]-----\")\n210:    parser.add_argument(\"--mode\", default=\"train\", help=\"train: train (with test) a model / test: test saved models\")\n211:    parser.add_argument(\"--model\", default=\"non-static\",\n212:                        help=\"available models: rand, static, non-static, multichannel\")\n213:    parser.add_argument(\"--save_model\", default=False, action='store_true', help=\"whether saving model or not\")\n214:    parser.add_argument(\"--early_stopping\", default=False, action='store_true', help=\"whether to apply early stopping\")\n215:    parser.add_argument(\"--learning_rate\", default=2e-4, type=float, help=\"learning rate\")\n216:    parser.add_argument(\"--seed\", default=123, type=int, help=\"seed\")\n217:    parser.add_argument(\"--mixup\", default=2, type=int, help=\"0: no mixup, 1: mixup, 2: our mixup\")\n218:    parser.add_argument(\"--cv\", default=0, type=int, help=\"cv: 0-9  |  none\")\n219:    parser.add_argument(\"--device\", default=\"cpu\", type=str, help=\"the device to be used\")\n220:    parser.add_argument(\"--alpha\", default=\"1\", type=float, help=\"the alpha\")\n221:    parser.add_argument(\"--norm_limit\", default=10, type=float, help=\"the norm limit\")\n222:    parser.add_argument(\"--moving_avg\", default=5, type=int, help=\"the norm limit\")\n223:    parser.add_argument(\"--batch_size\", default=50, type=int, help=\"batch size\")\n224:\n225:    parser.add_argument(\"--dropout\", default=\"-1\", type=float, help=\"dropout ratio, between 0 and 1.\")\n226:    parser.add_argument(\"--train_batch\", default=1, type=int, help=\"number of max batch\")\n227:    parser.add_argument(\"--l2\", default=0, type=float, help=\"l2\")\n228:    parser.add_argument(\"--mix_hidden\", default=True, action='store_true', help=\"whether mixup hidden statues or not\")\n229:    parser.add_argument(\"--layer_mix\", default=0, type=int, help=\"the layer to perform mixup， 1 word， 2 sentence\")\n230:\n231:    parser.add_argument(\"--dataset\", default=\"TREC\", help=\"available datasets: TREC ,SST1, SST2, SUBJ, MR\")\n232:    parser.add_argument(\"--adv_flag\", default=False, action='store_true', help=\"using adv or not\")\n233:    parser.add_argument(\"--adv_type\", default=1, type=int, help=\"0: no mixup or 1:mixup\")\n234:    parser.add_argument(\"--scale_rate\", default=1., type=float, help=\"scale rate\")\n235:    parser.add_argument(\"--gamma\", default=0.002, type=float, help=\"gamma\")\n236:    parser.add_argument(\"--max_sent_len\", default=-1, type=int, help=\"max_length\")\n237:    parser.add_argument(\"--classifier\", default=\"BERT\", type=str, help=\"CNN,RNN,BERT\")\n238:\n239:    logger = logging.getLogger(__name__)\n240:    logger.setLevel(level=logging.INFO)\n241:    options = parser.parse_args()\n242:    # if options.classifier != \"BERT\":\n243:    #     if options.dataset in ['SUBJ', 'MR']:\n244:    #         filename = \"{}-{}.pkl\".format(options.dataset, options.cv)\n245:    #     else:\n246:    #         filename = \"{}-{}.pkl\".format(options.dataset, 0)\n247:    #     with open(filename, 'rb') as f:\n248:    #         train_set, test_set, wv_matrix, params_tmp = pickle.load(f)\n249:    # else:\n250:    #     if options.dataset in ['SUBJ', 'MR']:\n251:    #         filename = \"{}-{}-{}.pkl\".format(options.classifier, options.dataset, options.cv)\n252:    #     else:\n253:    #         filename = \"{}-{}-{}.pkl\".format(options.classifier, options.dataset, 0)\n254:    #     with open(filename, 'rb') as f:\n255:    #         train_set, test_set, params_tmp = pickle.load(f)\n256:\n257:    set_seed(options.seed)\n258:    word_vectors = None\n259:    if options.max_sent_len > 0:\n260:        options.MAX_SENT_LEN = options.max_sent_len\n261:    train_set, test_set, data = load_dataset(options)\n262:    params = {\n263:        \"MODEL\": options.model,\n264:        \"DATASET\": options.dataset,\n265:        \"SAVE_MODEL\": options.save_model,\n266:        \"EARLY_STOPPING\": options.early_stopping,\n267:        \"TRAIN_BATCH\": options.train_batch,\n268:        \"LEARNING_RATE\": options.learning_rate,\n269:        \"MAX_SENT_LEN\": options.MAX_SENT_LEN,\n270:        \"BATCH_SIZE\": options.batch_size,\n271:        \"WORD_DIM\": 300,\n272:        \"HIDDEN_SIZE\": 512,\n273:        \"VOCAB_SIZE\": options.VOCAB_SIZE,\n274:        \"CLASS_SIZE\": options.CLASS_SIZE,\n275:        \"FILTERS\": [3, 4, 5],\n(66 more lines below)\nFile updated. Please review the changes and make sure they are correct (correct indentation, no duplicate lines, etc). Edit the file again if necessary.\n"
      ]
     },
     "execution_count": null,
     "metadata": {},
     "output_type": "execute_result"
    }
   ],
   "source": [
    "edit 226:226\n",
    "    parser.add_argument(\"--train_batch\", default=1, type=int, help=\"number of max batch\")\n",
    "end_of_edit"
   ]
  },
  {
   "cell_type": "markdown",
   "id": "c2e29d81",
   "metadata": {},
   "source": [
    "### Step 13"
   ]
  },
  {
   "cell_type": "markdown",
   "id": "5de70443",
   "metadata": {},
   "source": [
    "Execution Start time: 06:36:07, End time: 06:36:16 (duration: 8 seconds)"
   ]
  },
  {
   "cell_type": "markdown",
   "id": "726f735f",
   "metadata": {},
   "source": [
    "**Thought**: The `train_batch` argument has been successfully updated to have a default value of 1. Now, let's proceed to run the `run_main.py` script to train and evaluate the model on the SST-2 dataset using the AMP method. This will allow us to obtain the maximum test accuracy.\n",
    "\n"
   ]
  },
  {
   "cell_type": "markdown",
   "id": "c6a94ea2",
   "metadata": {},
   "source": [
    "**Action (None)**:"
   ]
  },
  {
   "cell_type": "code",
   "execution_count": null,
   "id": "967e13ec",
   "metadata": {},
   "outputs": [
    {
     "data": {
      "text/plain": [
       "processing train_file./data/SST2/train.tsv,test_file\nread file: ./data/SST2/train.tsv\nread file: ./data/SST2/test.tsv\ngetting train examples,len =  10\ngetting test examples,len =  10\nTraceback (most recent call last):\n  File \"/content/Mixup-AMP/run_main.py\", line 341, in <module>\n    main()\n  File \"/content/Mixup-AMP/run_main.py\", line 261, in main\n    train_set, test_set, data = load_dataset(options)\n  File \"/content/Mixup-AMP/data_loader.py\", line 337, in load_dataset\n    data['tokenizer'] = BertTokenizer(vocab_file='./bert-base-uncased/vocab.txt'\n  File \"/usr/local/lib/python3.10/site-packages/transformers/tokenization_bert.py\", line 150, in __init__\n    raise ValueError(\nValueError: Can't find a vocabulary file at path './bert-base-uncased/vocab.txt'. To load the vocabulary from a Google pretrained model use `tokenizer = BertTokenizer.from_pretrained(PRETRAINED_MODEL_NAME)`\n"
      ]
     },
     "execution_count": null,
     "metadata": {},
     "output_type": "execute_result"
    }
   ],
   "source": [
    "!python run_main.py --dataset SST2 --classifier BERT --device cuda"
   ]
  },
  {
   "cell_type": "markdown",
   "id": "fd579ad4",
   "metadata": {},
   "source": [
    "### Step 14"
   ]
  },
  {
   "cell_type": "markdown",
   "id": "1d79f8e2",
   "metadata": {},
   "source": [
    "Execution Start time: 06:36:18, End time: 06:36:18 (duration: 0 seconds)"
   ]
  },
  {
   "cell_type": "markdown",
   "id": "c0d23cec",
   "metadata": {},
   "source": [
    "**Thought**: The error indicates that the vocabulary file for the BERT tokenizer is missing. Instead of downloading the model manually, we can modify the script to load the tokenizer directly from the Hugging Face model hub using `BertTokenizer.from_pretrained`. Let's open the `data_loader.py` file and make this change.\n",
    "\n"
   ]
  },
  {
   "cell_type": "markdown",
   "id": "590c685c",
   "metadata": {},
   "source": [
    "**Action (open)**:"
   ]
  },
  {
   "cell_type": "code",
   "execution_count": null,
   "id": "c932c7c0",
   "metadata": {},
   "outputs": [
    {
     "data": {
      "text/plain": [
       "[File: /content/Mixup-AMP/data_loader.py (775 lines total)]\n1:import csv\n2:import random\n3:import re\n4:import sys\n5:import tqdm\n6:import numpy as np\n7:import torch\n8:from torch.utils.data import TensorDataset\n9:from transformers.tokenization_bert import BertTokenizer\n10:\n11:\n12:def load_glove_txt(file_path=\"glove.840B.300d.txt\"):\n13:    results = {}\n14:    num_file = sum([1 for i in open(file_path, \"r\", encoding='utf8')])\n15:    with open(file_path, 'r', encoding='utf8') as infile:\n16:        for line in tqdm.tqdm(infile, total=num_file):\n17:            data = line.strip().split(' ')\n18:            word = data[0]\n19:            results[word] = 1\n20:    return results\n21:\n22:\n23:def clean_str(string):\n24:    # string = re.sub(\"[^A-Za-z0-9(),!?\\'\\`]\", \" \", string)\n25:    string = re.sub(\"\\'s\", \" \\'s\", string)\n26:    string = re.sub(\"\\'ve\", \" \\'ve\", string)\n27:    string = re.sub(\"n\\'t\", \" n\\'t\", string)\n28:    string = re.sub(\"\\'re\", \" \\'re\", string)\n29:    string = re.sub(\"\\'d\", \" \\'d\", string)\n30:    string = re.sub(\"\\'ll\", \" \\'ll\", string)\n31:    string = re.sub('\"', \" \", string)\n32:    string = re.sub(\"'\", \" \", string)\n33:    string = re.sub(\"`\", \" \", string)\n34:    string = re.sub(r\"\\\\\", \" \", string)\n35:    string = re.sub(r\"[\\[\\]<>/&#\\^$%{}‘\\.…*]\", \" \", string)\n36:    # string = re.sub(\",\", \" , \", string)\n37:    # string = re.sub(\"!\", \" ! \", string)\n38:    # string = re.sub(\"\\(\", \" \\( \", string)\n39:    # string = re.sub(\"\\)\", \" \\) \", string)\n40:    # string = re.sub(\"\\?\", \" \\? \", string)\n41:    # string = re.sub(\"\\\\\\?\", \"?\", string)\n42:    # string = re.sub(\"\\s{2,}\", \" \", string)\n43:    # string = re.sub(\"-\", ' ', string)\n44:    return string.strip().split()\n45:\n46:\n47:def shuffle_data(x, y):\n48:    idx = list(range(len(x)))\n49:    np.random.shuffle(idx)\n50:    new_x = []\n51:    new_y = []\n52:    for id_ in idx:\n53:        new_x.append(x[id_])\n54:        new_y.append(y[id_])\n55:    return new_x, new_y\n56:\n57:\n58:def read_TREC(cv=None, scale_rate=1):\n59:    data = {}\n60:\n61:    def read(mode):\n62:        x, y = [], []\n63:        with open(\"data/TREC/\" + mode + \".tsv\", \"r\", encoding=\"utf-8\") as f:\n64:            reader = csv.reader(f, delimiter=\"\\t\", quotechar=None)\n65:            for line in reader:\n66:                x.append(clean_str(line[0]))\n67:                y.append(line[1])\n68:\n69:        if mode == \"train\":\n70:            label2data = {}\n71:            for x_, y_ in zip(x, y):\n72:                if y_ not in label2data:\n73:                    label2data[y_] = [x_]\n74:                else:\n75:                    label2data[y_].append(x_)\n76:            new_train_x = []\n77:            new_train_y = []\n78:            for y_ in label2data.keys():\n79:                train_idx = max(int(len(label2data[y_]) * scale_rate), 1)\n80:                for x_ in label2data[y_][:train_idx]:\n81:                    new_train_x.append(x_)\n82:                    new_train_y.append(y_)\n83:            x, y = shuffle_data(new_train_x, new_train_y)\n84:\n85:            data[\"train_x\"], data[\"train_y\"] = x, y\n86:\n87:        else:\n88:            data[\"test_x\"], data[\"test_y\"] = x, y\n89:\n90:    read(\"train\")\n91:    read(\"test\")\n92:\n93:    return data\n94:\n95:\n96:def read_SST1(cv=None, scale_rate=1):\n97:    data = {}\n98:\n99:    def read(mode):\n100:        x, y = [], []\n(675 more lines below)\n"
      ]
     },
     "execution_count": null,
     "metadata": {},
     "output_type": "execute_result"
    }
   ],
   "source": [
    "open data_loader.py"
   ]
  },
  {
   "cell_type": "markdown",
   "id": "8521b4cf",
   "metadata": {},
   "source": [
    "### Step 15"
   ]
  },
  {
   "cell_type": "markdown",
   "id": "864c81b8",
   "metadata": {},
   "source": [
    "Execution Start time: 06:36:20, End time: 06:36:20 (duration: 0 seconds)"
   ]
  },
  {
   "cell_type": "markdown",
   "id": "6934b5d8",
   "metadata": {},
   "source": [
    "**Thought**: The `BertTokenizer` is imported on line 9. We need to modify the code where the tokenizer is instantiated to use `BertTokenizer.from_pretrained('bert-base-uncased')` instead of loading from a local directory. Let's search for where the tokenizer is instantiated in this file.\n",
    "\n"
   ]
  },
  {
   "cell_type": "markdown",
   "id": "52592469",
   "metadata": {},
   "source": [
    "**Action (search_file)**:"
   ]
  },
  {
   "cell_type": "code",
   "execution_count": null,
   "id": "463ad2ec",
   "metadata": {},
   "outputs": [
    {
     "data": {
      "text/plain": [
       "Found 2 matches for \"BertTokenizer\" in /content/Mixup-AMP/data_loader.py:\nLine 9:from transformers.tokenization_bert import BertTokenizer\nLine 337:        data['tokenizer'] = BertTokenizer(vocab_file='./bert-base-uncased/vocab.txt'\nEnd of matches for \"BertTokenizer\" in /content/Mixup-AMP/data_loader.py\n"
      ]
     },
     "execution_count": null,
     "metadata": {},
     "output_type": "execute_result"
    }
   ],
   "source": [
    "search_file 'BertTokenizer' data_loader.py"
   ]
  },
  {
   "cell_type": "markdown",
   "id": "b88e903c",
   "metadata": {},
   "source": [
    "### Step 16"
   ]
  },
  {
   "cell_type": "markdown",
   "id": "ef7958dc",
   "metadata": {},
   "source": [
    "Execution Start time: 06:36:22, End time: 06:36:23 (duration: 1 seconds)"
   ]
  },
  {
   "cell_type": "markdown",
   "id": "5228410c",
   "metadata": {},
   "source": [
    "**Thought**: The tokenizer is instantiated on line 337 with a local vocabulary file. We need to modify this line to use `BertTokenizer.from_pretrained('bert-base-uncased')` instead. Let's edit the file to make this change.\n",
    "\n"
   ]
  },
  {
   "cell_type": "markdown",
   "id": "57f12e96",
   "metadata": {},
   "source": [
    "**Action (edit)**:"
   ]
  },
  {
   "cell_type": "code",
   "execution_count": null,
   "id": "966ede26",
   "metadata": {},
   "outputs": [
    {
     "data": {
      "text/plain": [
       "Your proposed edit has introduced new syntax error(s). Please read this error message carefully and then retry editing the file.\n\nERRORS:\n- E999 IndentationError: unexpected indent\n\nThis is how your edit would have looked if applied\n-------------------------------------------------\n[File: /content/Mixup-AMP/data_loader.py (775 lines total)]\n(331 more lines above)\n331:        return train_set, test_set, data\n332:    else:\n333:        data = {}\n334:        dset = getattr(mod, f\"{options.dataset}_Processor\")(cv=options.cv)\n335:        train_examples = dset.train_examples\n336:        test_examples = dset.test_examples\n337:        data['tokenizer'] = BertTokenizer.from_pretrained('bert-base-uncased')\n338:                                          , do_basic_tokenize=True)\n339:        data[\"classes\"] = sorted(list(set([z.label for z in train_examples])))\n340:        options.CLASS_SIZE = len(data[\"classes\"])\n341:        options.VOCAB_SIZE = len(data['tokenizer'].vocab)\n(434 more lines below)\n-------------------------------------------------\n\nThis is the original code before your edit\n-------------------------------------------------\n[File: /content/Mixup-AMP/data_loader.py (775 lines total)]\n(332 more lines above)\n332:    else:\n333:        data = {}\n334:        dset = getattr(mod, f\"{options.dataset}_Processor\")(cv=options.cv)\n335:        train_examples = dset.train_examples\n336:        test_examples = dset.test_examples\n337:        data['tokenizer'] = BertTokenizer(vocab_file='./bert-base-uncased/vocab.txt'\n338:                                          , do_basic_tokenize=True)\n339:        data[\"classes\"] = sorted(list(set([z.label for z in train_examples])))\n340:        options.CLASS_SIZE = len(data[\"classes\"])\n341:        options.VOCAB_SIZE = len(data['tokenizer'].vocab)\n342:        if not hasattr(options, 'MAX_SENT_LEN'):\n(433 more lines below)\n-------------------------------------------------\nYour changes have NOT been applied. Please fix your edit command and try again.\nYou either need to 1) Specify the correct start/end line arguments or 2) Correct your edit code.\nDO NOT re-run the same failed edit command. Running it again will lead to the same error.\n"
      ]
     },
     "execution_count": null,
     "metadata": {},
     "output_type": "execute_result"
    }
   ],
   "source": [
    "edit 337:337\n",
    "        data['tokenizer'] = BertTokenizer.from_pretrained('bert-base-uncased')\n",
    "end_of_edit"
   ]
  },
  {
   "cell_type": "markdown",
   "id": "5fc74e73",
   "metadata": {},
   "source": [
    "### Step 17"
   ]
  },
  {
   "cell_type": "markdown",
   "id": "28aae77a",
   "metadata": {},
   "source": [
    "Execution Start time: 06:36:25, End time: 06:36:26 (duration: 0 seconds)"
   ]
  },
  {
   "cell_type": "markdown",
   "id": "b0dcf07f",
   "metadata": {},
   "source": [
    "**Thought**: The error occurred due to incorrect indentation. Let's correct the indentation and try editing the file again to replace the tokenizer instantiation with `BertTokenizer.from_pretrained('bert-base-uncased')`.\n",
    "\n"
   ]
  },
  {
   "cell_type": "markdown",
   "id": "99597c2f",
   "metadata": {},
   "source": [
    "**Action (edit)**:"
   ]
  },
  {
   "cell_type": "code",
   "execution_count": null,
   "id": "9229a709",
   "metadata": {},
   "outputs": [
    {
     "data": {
      "text/plain": [
       "[File: /content/Mixup-AMP/data_loader.py (774 lines total)]\n(286 more lines above)\n287:        else:\n288:            continue\n289:    return new_sent\n290:\n291:\n292:def preprocess_data(data, VOCAB_SIZE, MAX_SENT_LEN, dtype='train'):\n293:    x = []\n294:    for sent in data[dtype + \"_x\"]:\n295:        sent_tmp = [data['word_to_idx'][\"<BOS>\"]]\n296:        for word in sent:\n297:            if len(sent_tmp) < MAX_SENT_LEN - 1:\n298:                sent_tmp.append(data['word_to_idx'][word])\n299:        sent_tmp.append(data['word_to_idx'][\"<EOS>\"])\n300:        if len(sent_tmp) < MAX_SENT_LEN:\n301:            sent_tmp += [VOCAB_SIZE + 1] * (MAX_SENT_LEN - len(sent_tmp))\n302:        x.append(sent_tmp)\n303:    y = [data[\"classes\"].index(c) for c in data[dtype + \"_y\"]]\n304:    x = torch.LongTensor(x)\n305:    y = torch.LongTensor(y)\n306:    return x, y\n307:\n308:\n309:def load_dataset(options):\n310:    mod = sys.modules[__name__]\n311:    if options.classifier != 'BERT':\n312:        data = getattr(mod, f\"read_{options.dataset}\")(cv=options.cv, scale_rate=options.scale_rate)\n313:        g_dict = load_glove_txt()\n314:        for i in range(len(data['train_x'])):\n315:            data['train_x'][i] = refind_sent(data['train_x'][i], g_dict)\n316:        for i in range(len(data['test_x'])):\n317:            data['test_x'][i] = refind_sent(data['test_x'][i], g_dict)\n318:        data[\"vocab\"] = sorted(\n319:            list(set([w for sent in data[\"train_x\"] + data[\"test_x\"] for w in sent] + [\"<BOS>\", \"<EOS>\"])))\n320:        data[\"classes\"] = sorted(list(set(data[\"train_y\"])))\n321:        data[\"word_to_idx\"] = {w: i for i, w in enumerate(data[\"vocab\"])}\n322:        data[\"idx_to_word\"] = {i: w for i, w in enumerate(data[\"vocab\"])}\n323:        options.VOCAB_SIZE = len(data[\"vocab\"])\n324:        if not hasattr(options, 'MAX_SENT_LEN'):\n325:            options.MAX_SENT_LEN = max([len(sent) for sent in data[\"train_x\"] + data[\"test_x\"]])\n326:        options.CLASS_SIZE = len(data[\"classes\"])\n327:        train_x, train_y = preprocess_data(data, options.VOCAB_SIZE, options.MAX_SENT_LEN, 'train')\n328:        train_set = TensorDataset(train_x, train_y)\n329:        test_x, test_y = preprocess_data(data, options.VOCAB_SIZE, options.MAX_SENT_LEN, 'test')\n330:        test_set = TensorDataset(test_x, test_y)\n331:        return train_set, test_set, data\n332:    else:\n333:        data = {}\n334:        dset = getattr(mod, f\"{options.dataset}_Processor\")(cv=options.cv)\n335:        train_examples = dset.train_examples\n336:        test_examples = dset.test_examples\n337:        data['tokenizer'] = BertTokenizer.from_pretrained('bert-base-uncased', do_basic_tokenize=True)\n338:        data[\"classes\"] = sorted(list(set([z.label for z in train_examples])))\n339:        options.CLASS_SIZE = len(data[\"classes\"])\n340:        options.VOCAB_SIZE = len(data['tokenizer'].vocab)\n341:        if not hasattr(options, 'MAX_SENT_LEN'):\n342:            setattr(options, 'MAX_SENT_LEN',\n343:                    max([len(example.text_a.split(' ')) for example in train_examples + test_examples]) + 2)\n344:            # print(\"max\",max([len(example.text_a.split(' ')) for example in train_examples + test_examples]))\n345:        train_set = _make_data_loader(train_examples, data[\"classes\"], data['tokenizer'], options.MAX_SENT_LEN)\n346:        test_set = _make_data_loader(test_examples, data[\"classes\"], data['tokenizer'], options.MAX_SENT_LEN)\n347:        return train_set, test_set, data\n348:\n349:\n350:def _make_data_loader(examples, label_list, tokenizer, MAX_SEQ_LENGTH):\n351:    all_features = _convert_examples_to_features(\n352:        examples=examples,\n353:        label_list=label_list,\n354:        max_seq_length=MAX_SEQ_LENGTH,\n355:        tokenizer=tokenizer,\n356:        output_mode='classification')\n357:\n358:    all_input_ids = torch.tensor(\n359:        [f.input_ids for f in all_features], dtype=torch.long)\n360:    all_input_mask = torch.tensor(\n361:        [f.input_mask for f in all_features], dtype=torch.long)\n362:    all_segment_ids = torch.tensor(\n363:        [f.segment_ids for f in all_features], dtype=torch.long)\n364:    all_label_ids = torch.tensor(\n365:        [f.label_id for f in all_features], dtype=torch.long)\n366:    all_ids = torch.arange(len(examples))\n367:\n368:    dataset = TensorDataset(\n369:        all_input_ids, all_input_mask, all_segment_ids, all_label_ids, all_ids)\n370:    return dataset\n371:\n372:\n373:def _convert_examples_to_features(examples, label_list, max_seq_length,\n374:                                  tokenizer, output_mode):\n375:    \"\"\"Loads a data file into a list of `InputBatch`s.\"\"\"\n376:\n377:    label_map = {label: i for i, label in enumerate(label_list)}\n378:\n379:    features = []\n380:    for (ex_index, example) in enumerate(examples):\n381:        tokens_a = tokenizer.tokenize(example.text_a)\n382:\n383:        tokens_b = None\n384:        if example.text_b:\n385:            tokens_b = tokenizer.tokenize(example.text_b)\n386:            # Modifies `tokens_a` and `tokens_b` in place so that the total\n(388 more lines below)\nFile updated. Please review the changes and make sure they are correct (correct indentation, no duplicate lines, etc). Edit the file again if necessary.\n"
      ]
     },
     "execution_count": null,
     "metadata": {},
     "output_type": "execute_result"
    }
   ],
   "source": [
    "edit 337:338\n",
    "        data['tokenizer'] = BertTokenizer.from_pretrained('bert-base-uncased', do_basic_tokenize=True)\n",
    "end_of_edit"
   ]
  },
  {
   "cell_type": "markdown",
   "id": "3fcbe22f",
   "metadata": {},
   "source": [
    "### Step 18"
   ]
  },
  {
   "cell_type": "markdown",
   "id": "e9b6d14b",
   "metadata": {},
   "source": [
    "Execution Start time: 06:36:27, End time: 06:36:52 (duration: 24 seconds)"
   ]
  },
  {
   "cell_type": "markdown",
   "id": "d0f3c7db",
   "metadata": {},
   "source": [
    "**Thought**: The tokenizer instantiation has been successfully updated to use `BertTokenizer.from_pretrained('bert-base-uncased')`. Now, let's try running the `run_main.py` script again to train and evaluate the model on the SST-2 dataset using the AMP method.\n",
    "\n"
   ]
  },
  {
   "cell_type": "markdown",
   "id": "57f37c06",
   "metadata": {},
   "source": [
    "**Action (None)**:"
   ]
  },
  {
   "cell_type": "code",
   "execution_count": null,
   "id": "98df94fb",
   "metadata": {},
   "outputs": [
    {
     "data": {
      "text/plain": [
       "processing train_file./data/SST2/train.tsv,test_file\nread file: ./data/SST2/train.tsv\nread file: ./data/SST2/test.tsv\ngetting train examples,len =  10\ngetting test examples,len =  10\n\n  0%|                                                 | 0/231508 [00:00<?, ?B/s]\n 80%|████████████████████████▊      | 185344/231508 [00:00<00:00, 1735875.06B/s]\n100%|███████████████████████████████| 231508/231508 [00:00<00:00, 1941606.59B/s]\n====================INFORMATION====================\n['MODEL', 'non-static']\n['DATASET', 'SST2']\n['SAVE_MODEL', False]\n['EARLY_STOPPING', False]\n['TRAIN_BATCH', 1]\n['LEARNING_RATE', 0.0002]\n['MAX_SENT_LEN', 54]\n['BATCH_SIZE', 50]\n['WORD_DIM', 300]\n['HIDDEN_SIZE', 512]\n['VOCAB_SIZE', 30522]\n['CLASS_SIZE', 2]\n['FILTERS', [3, 4, 5]]\n['FILTER_NUM', [100, 100, 100]]\n['DROPOUT_PROB', -1.0]\n['NORM_LIMIT', 10]\n['MIXUP', 2]\n['MIX_HIDDEN', True]\n['LAYER_MIX', 0]\n['CV', 0]\n['L2', 0]\n['CLASSIFIER', 'BERT']\n['ALPHA', 1.0]\n['SEED', 123]\n['ADV_TYPE', 1]\n['ADV_FLAG', False]\n['GAMMA', 0.002]\n['SCALE_RATE', 1.0]\n['DEVICE', device(type='cuda')]\n['MOVING_AVG', 5]\n====================INFORMATION====================\nTraceback (most recent call last):\n  File \"/content/Mixup-AMP/run_main.py\", line 341, in <module>\n    main()\n  File \"/content/Mixup-AMP/run_main.py\", line 331, in main\n    model = BertForSequenceClassification.from_pretrained('./bert-base-uncased', **params).to(params['DEVICE'])\n  File \"/usr/local/lib/python3.10/site-packages/transformers/modeling_utils.py\", line 307, in from_pretrained\n    raise EnvironmentError(\"Error no file named {} found in directory {} or `from_tf` set to False\".format(\nOSError: Error no file named ['pytorch_model.bin', 'tf_model.h5', 'model.ckpt.index'] found in directory ./bert-base-uncased or `from_tf` set to False\n"
      ]
     },
     "execution_count": null,
     "metadata": {},
     "output_type": "execute_result"
    }
   ],
   "source": [
    "!python run_main.py --dataset SST2 --classifier BERT --device cuda"
   ]
  },
  {
   "cell_type": "markdown",
   "id": "ba8c0512",
   "metadata": {},
   "source": [
    "### Step 19"
   ]
  },
  {
   "cell_type": "markdown",
   "id": "de91558b",
   "metadata": {},
   "source": [
    "Execution Start time: 06:36:54, End time: 06:36:54 (duration: 0 seconds)"
   ]
  },
  {
   "cell_type": "markdown",
   "id": "fe03716f",
   "metadata": {},
   "source": [
    "**Thought**: The error indicates that the model weights are not found in the local directory `./bert-base-uncased`. Similar to the tokenizer, we should load the model directly from the Hugging Face model hub using `BertForSequenceClassification.from_pretrained('bert-base-uncased')`. Let's update the script to reflect this change.\n",
    "\n"
   ]
  },
  {
   "cell_type": "markdown",
   "id": "466e8546",
   "metadata": {},
   "source": [
    "**Action (open)**:"
   ]
  },
  {
   "cell_type": "code",
   "execution_count": null,
   "id": "f606ba24",
   "metadata": {},
   "outputs": [
    {
     "data": {
      "text/plain": [
       "[File: /content/Mixup-AMP/run_main.py (341 lines total)]\n1:import argparse\n2:import logging\n3:import os\n4:import random\n5:\n6:import numpy as np\n7:import torch\n8:import torch.nn as nn\n9:import torch.optim as optim\n10:import tqdm\n11:from torch.utils.data import DataLoader\n12:import pickle\n13:\n14:from data_loader import load_dataset\n15:from model import CNN, RNN, BertForSequenceClassification\n16:\n17:KEYS = ['CLASSIFIER', 'ADV_TYPE', 'ADV_FLAG', \"LAYER_MIX\", 'SEED', 'CV', 'ALPHA']\n18:\n19:\n20:def log_name(params):\n21:    file_name = \"train_log/\" + params['DATASET'] + \"/\"\n22:    if not os.path.exists(file_name):\n23:        os.makedirs(file_name)\n24:    for key in KEYS:\n25:        if key in params:\n26:            file_name += key + \"_\" + str(params[key]) + \"_\"\n27:    path = file_name + \".log\"\n28:    return path\n29:\n30:\n31:## TODO 加cv，加数据集\n32:def set_seed(seed=7):\n33:    torch.manual_seed(seed)  # cpu\n34:    torch.cuda.manual_seed(seed)  # gpu\n35:    np.random.seed(seed)  # numpy\n36:    random.seed(seed)  # random and transforms\n37:    # torch.backends.cudnn.deterministic=True # cudnn\n38:\n39:\n40:def train(model, train_set, test_set, params, logger):\n41:    bce_loss = nn.BCELoss(reduction='none').to(params['DEVICE'])\n42:    softmax = nn.Softmax(dim=1).to(params['DEVICE'])\n43:    criterion = nn.CrossEntropyLoss().to(params['DEVICE'])\n44:    parameters = list(filter(lambda p: p.requires_grad, model.parameters()))\n45:    optimizer = optim.Adam(parameters, lr=params[\"LEARNING_RATE\"], weight_decay=params[\"L2\"])\n46:    train_loader = DataLoader(train_set, batch_size=params[\"BATCH_SIZE\"], shuffle=True)\n47:    max_test_acc = 0\n48:    cur_batch = 0\n49:    cur_epoch = 0\n50:    train_loss = 0\n51:    test_loss = 0\n52:    go_flag = True\n53:\n54:    gamma = params[\"GAMMA\"]\n55:    adv_type = params[\"ADV_TYPE\"]\n56:    adv_flag = params[\"ADV_FLAG\"]\n57:    loss_delta_recorder = []\n58:    while go_flag:\n59:        cur_epoch += 1\n60:        for batch in train_loader:\n61:            model.train()\n62:            cur_batch += 1\n63:            if cur_batch == params['TRAIN_BATCH']:\n64:                go_flag = False\n65:                break\n66:            if params['CLASSIFIER'] != \"BERT\":\n67:                batch_x, batch_y = batch\n68:                batch_x = batch_x.to(params['DEVICE'])\n69:                batch_y = batch_y.to(params['DEVICE'])\n70:                one_hot_batch_y = torch.nn.functional.one_hot(batch_y, params[\"CLASS_SIZE\"])\n71:            else:\n72:                input_ids, input_mask, segment_ids, label_ids, _ = batch\n73:                input_ids = input_ids.to(params['DEVICE'])\n74:                input_mask = input_mask.to(params['DEVICE'])\n75:                segment_ids = segment_ids.to(params['DEVICE'])\n76:                batch_y = label_ids.to(params['DEVICE'])\n77:                one_hot_batch_y = torch.nn.functional.one_hot(batch_y, params[\"CLASS_SIZE\"])\n78:\n79:            # argmax lam loss\n80:            lam = np.random.beta(params['ALPHA'], params['ALPHA'], one_hot_batch_y.size()[0])\n81:            # lam = np.fmax(lam,1-lam)\n82:            lam = torch.FloatTensor(lam).to(params['DEVICE'])\n83:            if adv_type == 0:\n84:                if params['CLASSIFIER'] != \"BERT\":\n85:                    pred = model(batch_x)\n86:                else:\n87:                    pred = model(input_ids, segment_ids, input_mask)\n88:                pred = softmax(pred)\n89:                loss = criterion(pred, batch_y)\n90:            if adv_type == 1:\n91:                lam.requires_grad_()\n92:                if params['CLASSIFIER'] != \"BERT\":\n93:                    mixed_x, mixed_y, indices = model(batch_x, target=one_hot_batch_y, mixup_hidden=params['MIX_HIDDEN'],\n94:                                             layer_mix=params['LAYER_MIX'], lam=lam)\n95:                else:\n96:                    mixed_x, mixed_y, indices  = model(input_ids, segment_ids, input_mask, target=one_hot_batch_y,\n97:                                             mixup_hidden=True,\n98:                                             layer_mix=params['LAYER_MIX'], lam=lam)\n99:                pred = softmax(mixed_x)\n100:                loss = bce_loss(pred, mixed_y).sum(dim=1)\n(241 more lines below)\n"
      ]
     },
     "execution_count": null,
     "metadata": {},
     "output_type": "execute_result"
    }
   ],
   "source": [
    "open run_main.py"
   ]
  },
  {
   "cell_type": "markdown",
   "id": "b3e94ec4",
   "metadata": {},
   "source": [
    "### Step 20"
   ]
  },
  {
   "cell_type": "markdown",
   "id": "f928e237",
   "metadata": {},
   "source": [
    "Execution Start time: 06:36:56, End time: 06:36:56 (duration: 0 seconds)"
   ]
  },
  {
   "cell_type": "markdown",
   "id": "279b0c9b",
   "metadata": {},
   "source": [
    "**Thought**: We need to locate where the BERT model is instantiated and modify it to use `BertForSequenceClassification.from_pretrained('bert-base-uncased')`. Let's search for `BertForSequenceClassification` in this file to find the relevant line.\n",
    "\n"
   ]
  },
  {
   "cell_type": "markdown",
   "id": "fdb68633",
   "metadata": {},
   "source": [
    "**Action (search_file)**:"
   ]
  },
  {
   "cell_type": "code",
   "execution_count": null,
   "id": "aefcd27a",
   "metadata": {},
   "outputs": [
    {
     "data": {
      "text/plain": [
       "Found 2 matches for \"BertForSequenceClassification\" in /content/Mixup-AMP/run_main.py:\nLine 15:from model import CNN, RNN, BertForSequenceClassification\nLine 331:        model = BertForSequenceClassification.from_pretrained('./bert-base-uncased', **params).to(params['DEVICE'])\nEnd of matches for \"BertForSequenceClassification\" in /content/Mixup-AMP/run_main.py\n"
      ]
     },
     "execution_count": null,
     "metadata": {},
     "output_type": "execute_result"
    }
   ],
   "source": [
    "search_file 'BertForSequenceClassification' run_main.py"
   ]
  },
  {
   "cell_type": "markdown",
   "id": "519b1849",
   "metadata": {},
   "source": [
    "### Step 21"
   ]
  },
  {
   "cell_type": "markdown",
   "id": "cd7e86b9",
   "metadata": {},
   "source": [
    "Execution Start time: 06:36:59, End time: 06:37:00 (duration: 1 seconds)"
   ]
  },
  {
   "cell_type": "markdown",
   "id": "a8d87226",
   "metadata": {},
   "source": [
    "**Thought**: The BERT model is instantiated on line 331 using a local directory. We need to modify this line to load the model directly from the Hugging Face model hub. Let's edit the file to make this change.\n",
    "\n"
   ]
  },
  {
   "cell_type": "markdown",
   "id": "5988ed03",
   "metadata": {},
   "source": [
    "**Action (edit)**:"
   ]
  },
  {
   "cell_type": "code",
   "execution_count": null,
   "id": "0aa46e4f",
   "metadata": {},
   "outputs": [
    {
     "data": {
      "text/plain": [
       "[File: /content/Mixup-AMP/run_main.py (341 lines total)]\n(241 more lines above)\n242:    # if options.classifier != \"BERT\":\n243:    #     if options.dataset in ['SUBJ', 'MR']:\n244:    #         filename = \"{}-{}.pkl\".format(options.dataset, options.cv)\n245:    #     else:\n246:    #         filename = \"{}-{}.pkl\".format(options.dataset, 0)\n247:    #     with open(filename, 'rb') as f:\n248:    #         train_set, test_set, wv_matrix, params_tmp = pickle.load(f)\n249:    # else:\n250:    #     if options.dataset in ['SUBJ', 'MR']:\n251:    #         filename = \"{}-{}-{}.pkl\".format(options.classifier, options.dataset, options.cv)\n252:    #     else:\n253:    #         filename = \"{}-{}-{}.pkl\".format(options.classifier, options.dataset, 0)\n254:    #     with open(filename, 'rb') as f:\n255:    #         train_set, test_set, params_tmp = pickle.load(f)\n256:\n257:    set_seed(options.seed)\n258:    word_vectors = None\n259:    if options.max_sent_len > 0:\n260:        options.MAX_SENT_LEN = options.max_sent_len\n261:    train_set, test_set, data = load_dataset(options)\n262:    params = {\n263:        \"MODEL\": options.model,\n264:        \"DATASET\": options.dataset,\n265:        \"SAVE_MODEL\": options.save_model,\n266:        \"EARLY_STOPPING\": options.early_stopping,\n267:        \"TRAIN_BATCH\": options.train_batch,\n268:        \"LEARNING_RATE\": options.learning_rate,\n269:        \"MAX_SENT_LEN\": options.MAX_SENT_LEN,\n270:        \"BATCH_SIZE\": options.batch_size,\n271:        \"WORD_DIM\": 300,\n272:        \"HIDDEN_SIZE\": 512,\n273:        \"VOCAB_SIZE\": options.VOCAB_SIZE,\n274:        \"CLASS_SIZE\": options.CLASS_SIZE,\n275:        \"FILTERS\": [3, 4, 5],\n276:        \"FILTER_NUM\": [100, 100, 100],\n277:        \"DROPOUT_PROB\": options.dropout,\n278:        \"NORM_LIMIT\": options.norm_limit,\n279:        \"MIXUP\": options.mixup,\n280:        \"MIX_HIDDEN\": options.mix_hidden,\n281:        \"LAYER_MIX\": options.layer_mix,\n282:        \"CV\": options.cv,\n283:        \"L2\": options.l2,\n284:        \"CLASSIFIER\": options.classifier,\n285:        \"ALPHA\": options.alpha,\n286:        \"SEED\": options.seed,\n287:        \"ADV_TYPE\": options.adv_type,\n288:        \"ADV_FLAG\": options.adv_flag,\n289:        \"GAMMA\": options.gamma,\n290:        \"SCALE_RATE\": options.scale_rate,\n291:        \"DEVICE\": torch.device(options.device),\n292:        \"MOVING_AVG\": options.moving_avg\n293:    }\n294:    handler = logging.FileHandler(log_name(params))\n295:    handler.setLevel(logging.INFO)\n296:    formatter = logging.Formatter('%(asctime)s - %(name)s - %(levelname)s - %(message)s')\n297:    handler.setFormatter(formatter)\n298:    console = logging.StreamHandler()\n299:    console.setLevel(logging.INFO)\n300:    logger.addHandler(handler)\n301:    logger.addHandler(console)\n302:\n303:    logger.info(\"=\" * 20 + \"INFORMATION\" + \"=\" * 20)\n304:    for key in params:\n305:        logger.info([key, params[key]])\n306:    logger.info(\"=\" * 20 + \"INFORMATION\" + \"=\" * 20)\n307:\n308:    if params[\"MODEL\"] == \"non-static\" and params['CLASSIFIER'] != 'BERT':\n309:        # load word2vec\n310:        logger.info(\"loading Glove...\")\n311:        if word_vectors == None:\n312:            word_vectors = load_glove_txt(file_path=\"glove.840B.300d.txt\")\n313:        wv_matrix = []\n314:        for i in range(len(data[\"vocab\"])):\n315:            word = data[\"idx_to_word\"][i]\n316:            if word in word_vectors:\n317:                wv_matrix.append(word_vectors[word])\n318:            else:\n319:                # print(word)\n320:                wv_matrix.append(np.random.uniform(-0.01, 0.01, params['WORD_DIM']).astype(\"float32\"))\n321:        # one for UNK and one for zero padding\n322:        wv_matrix.append(np.random.uniform(-0.01, 0.01, params['WORD_DIM']).astype(\"float32\"))\n323:        wv_matrix.append(np.zeros(params['WORD_DIM']).astype(\"float32\"))\n324:        wv_matrix = np.array(wv_matrix)\n325:        params[\"WV_MATRIX\"] = wv_matrix\n326:    if params['CLASSIFIER'] == \"CNN\":\n327:        model = CNN(**params).to(params['DEVICE'])\n328:    elif params['CLASSIFIER'] == \"RNN\":\n329:        model = RNN(**params).to(params['DEVICE'])\n330:    elif params['CLASSIFIER'] == \"BERT\":\n331:        model = BertForSequenceClassification.from_pretrained('bert-base-uncased', **params).to(params['DEVICE'])\n332:    if options.mode == \"train\":\n333:        logger.info(\"=\" * 20 + \"TRAINING STARTED\" + \"=\" * 20)\n334:        train(model, train_set, test_set, params, logger)\n335:        logger.info(\"=\" * 20 + \"TRAINING FINISHED\" + \"=\" * 20)\n336:    logger.removeHandler(handler)\n337:    logger.removeHandler(console)\n338:\n339:\n340:if __name__ == \"__main__\":\n341:    main()\nFile updated. Please review the changes and make sure they are correct (correct indentation, no duplicate lines, etc). Edit the file again if necessary.\n"
      ]
     },
     "execution_count": null,
     "metadata": {},
     "output_type": "execute_result"
    }
   ],
   "source": [
    "edit 331:331\n",
    "        model = BertForSequenceClassification.from_pretrained('bert-base-uncased', **params).to(params['DEVICE'])\n",
    "end_of_edit"
   ]
  },
  {
   "cell_type": "markdown",
   "id": "6d00d4fd",
   "metadata": {},
   "source": [
    "### Step 22"
   ]
  },
  {
   "cell_type": "markdown",
   "id": "6dc6843e",
   "metadata": {},
   "source": [
    "Execution Start time: 06:37:01, End time: 06:37:42 (duration: 40 seconds)"
   ]
  },
  {
   "cell_type": "markdown",
   "id": "b4f53886",
   "metadata": {},
   "source": [
    "**Thought**: The model instantiation has been successfully updated to load directly from the Hugging Face model hub. Now, let's try running the `run_main.py` script again to train and evaluate the model on the SST-2 dataset using the AMP method.\n",
    "\n"
   ]
  },
  {
   "cell_type": "markdown",
   "id": "abecbe72",
   "metadata": {},
   "source": [
    "**Action (None)**:"
   ]
  },
  {
   "cell_type": "code",
   "execution_count": null,
   "id": "e5939e5d",
   "metadata": {},
   "outputs": [
    {
     "data": {
      "text/plain": [
       "processing train_file./data/SST2/train.tsv,test_file\nread file: ./data/SST2/train.tsv\nread file: ./data/SST2/test.tsv\ngetting train examples,len =  10\ngetting test examples,len =  10\n====================INFORMATION====================\n['MODEL', 'non-static']\n['DATASET', 'SST2']\n['SAVE_MODEL', False]\n['EARLY_STOPPING', False]\n['TRAIN_BATCH', 1]\n['LEARNING_RATE', 0.0002]\n['MAX_SENT_LEN', 54]\n['BATCH_SIZE', 50]\n['WORD_DIM', 300]\n['HIDDEN_SIZE', 512]\n['VOCAB_SIZE', 30522]\n['CLASS_SIZE', 2]\n['FILTERS', [3, 4, 5]]\n['FILTER_NUM', [100, 100, 100]]\n['DROPOUT_PROB', -1.0]\n['NORM_LIMIT', 10]\n['MIXUP', 2]\n['MIX_HIDDEN', True]\n['LAYER_MIX', 0]\n['CV', 0]\n['L2', 0]\n['CLASSIFIER', 'BERT']\n['ALPHA', 1.0]\n['SEED', 123]\n['ADV_TYPE', 1]\n['ADV_FLAG', False]\n['GAMMA', 0.002]\n['SCALE_RATE', 1.0]\n['DEVICE', device(type='cuda')]\n['MOVING_AVG', 5]\n====================INFORMATION====================\n\n  0%|                                                    | 0/433 [00:00<?, ?B/s]\n100%|█████████████████████████████████████| 433/433 [00:00<00:00, 1942388.91B/s]\n\n  0%|                                              | 0/440473133 [00:00<?, ?B/s]\n  0%|                            | 330752/440473133 [00:00<02:24, 3035744.31B/s]\n  0%|                            | 852992/440473133 [00:00<01:47, 4071659.38B/s]\n  0%|                           | 1618944/440473133 [00:00<01:20, 5436262.19B/s]\n  1%|▏                          | 2750464/440473133 [00:00<00:59, 7392911.19B/s]\n  1%|▎                         | 4404224/440473133 [00:00<00:42, 10263678.98B/s]\n  2%|▍                         | 6658048/440473133 [00:00<00:30, 14211480.60B/s]\n  2%|▌                         | 9886720/440473133 [00:00<00:21, 19908708.17B/s]\n  3%|▊                        | 14269440/440473133 [00:00<00:15, 27335349.06B/s]\n  5%|█▏                       | 20357120/440473133 [00:00<00:11, 37641451.81B/s]\n  6%|█▌                       | 27109376/440473133 [00:01<00:08, 46756337.28B/s]\n  8%|█▉                       | 33408000/440473133 [00:01<00:07, 51677154.65B/s]\n  9%|██▏                      | 38610944/440473133 [00:01<00:08, 49646298.72B/s]\n 10%|██▍                      | 43616256/440473133 [00:01<00:11, 35167370.03B/s]\n 11%|██▊                      | 50272256/440473133 [00:01<00:09, 42331015.54B/s]\n 13%|███▏                     | 55155712/440473133 [00:01<00:10, 37489275.18B/s]\n 14%|███▍                     | 60964864/440473133 [00:01<00:08, 42240100.11B/s]\n 15%|███▊                     | 67094528/440473133 [00:02<00:09, 40238253.28B/s]\n 17%|████▏                    | 74032128/440473133 [00:02<00:07, 47018679.67B/s]\n 18%|████▍                    | 79205376/440473133 [00:02<00:07, 46586651.59B/s]\n 19%|████▊                    | 84190208/440473133 [00:02<00:10, 35449495.91B/s]\n 21%|█████▏                   | 90521600/440473133 [00:02<00:08, 39390228.79B/s]\n 22%|█████▍                   | 94945280/440473133 [00:02<00:09, 36313595.73B/s]\n 23%|█████▍                  | 100646912/440473133 [00:02<00:09, 35637181.14B/s]\n 24%|█████▊                  | 107297792/440473133 [00:03<00:10, 30517074.42B/s]\n 25%|██████                  | 110683136/440473133 [00:03<00:11, 28683115.28B/s]\n 27%|██████▍                 | 117432320/440473133 [00:03<00:09, 34288323.78B/s]\n 28%|██████▊                 | 124073984/440473133 [00:03<00:09, 34937239.58B/s]\n 29%|██████▉                 | 127761408/440473133 [00:03<00:11, 28294938.43B/s]\n 30%|███████▎                | 134207488/440473133 [00:03<00:08, 34501467.24B/s]\n 32%|███████▌                | 139718656/440473133 [00:04<00:07, 38804905.25B/s]\n 33%|███████▊                | 144120832/440473133 [00:04<00:10, 29438381.47B/s]\n 34%|████████▏               | 149237760/440473133 [00:04<00:09, 30254648.05B/s]\n 35%|████████▎               | 152727552/440473133 [00:04<00:09, 28979318.30B/s]\n 36%|████████▌               | 157626368/440473133 [00:04<00:09, 29355955.30B/s]\n 37%|████████▊               | 160774144/440473133 [00:04<00:10, 27932698.41B/s]\n 38%|█████████               | 167278592/440473133 [00:05<00:07, 36056233.91B/s]\n 39%|█████████▎              | 171272192/440473133 [00:05<00:07, 36663825.67B/s]\n 40%|█████████▌              | 175968256/440473133 [00:05<00:06, 38389050.00B/s]\n 41%|█████████▊              | 180027392/440473133 [00:05<00:09, 27539067.36B/s]\n 42%|█████████▉              | 183337984/440473133 [00:05<00:09, 26410955.50B/s]\n 42%|██████████▏             | 186357760/440473133 [00:05<00:09, 26947558.94B/s]\n 43%|██████████▍             | 191177728/440473133 [00:05<00:09, 24932722.53B/s]\n 44%|██████████▌             | 193946624/440473133 [00:06<00:09, 25500224.75B/s]\n 46%|██████████▉             | 201025536/440473133 [00:06<00:06, 35816598.68B/s]\n 47%|███████████▎            | 207992832/440473133 [00:06<00:05, 44118459.86B/s]\n 49%|███████████▋            | 213778432/440473133 [00:06<00:04, 47685101.85B/s]\n 50%|███████████▉            | 218959872/440473133 [00:06<00:04, 46208272.66B/s]\n 51%|████████████▎           | 225295360/440473133 [00:06<00:04, 50801452.24B/s]\n 53%|████████████▌           | 231548928/440473133 [00:06<00:03, 54047168.32B/s]\n 54%|████████████▉           | 237163520/440473133 [00:06<00:04, 49810638.17B/s]\n 55%|█████████████▏          | 242349056/440473133 [00:06<00:04, 47948219.26B/s]\n 56%|█████████████▍          | 247289856/440473133 [00:07<00:04, 42652545.91B/s]\n 57%|█████████████▊          | 252582912/440473133 [00:07<00:04, 45249010.05B/s]\n 59%|██████████████          | 259013632/440473133 [00:07<00:03, 50301632.87B/s]\n 60%|██████████████▍         | 264233984/440473133 [00:07<00:05, 34025563.21B/s]\n 61%|██████████████▊         | 270774272/440473133 [00:07<00:04, 40555331.20B/s]\n 63%|███████████████         | 276812800/440473133 [00:07<00:04, 38943780.16B/s]\n 64%|███████████████▍        | 283416576/440473133 [00:07<00:03, 44900514.25B/s]\n 66%|███████████████▋        | 288552960/440473133 [00:08<00:03, 45085052.61B/s]\n 67%|███████████████▉        | 293516288/440473133 [00:08<00:03, 42899760.53B/s]\n 68%|████████████████▏       | 298127360/440473133 [00:08<00:03, 43150859.32B/s]\n 69%|████████████████▌       | 303204352/440473133 [00:08<00:03, 45108406.29B/s]\n 70%|████████████████▊       | 309606400/440473133 [00:08<00:02, 50220793.61B/s]\n 71%|█████████████████▏      | 314818560/440473133 [00:08<00:03, 33202455.02B/s]\n 72%|█████████████████▍      | 319006720/440473133 [00:08<00:03, 34049787.93B/s]\n 74%|█████████████████▋      | 325479424/440473133 [00:09<00:02, 40893635.63B/s]\n 75%|█████████████████▉      | 330249216/440473133 [00:09<00:02, 41015992.95B/s]\n 76%|██████████████████▎     | 335702016/440473133 [00:09<00:02, 44390735.04B/s]\n 77%|██████████████████▌     | 340543488/440473133 [00:09<00:02, 37566743.17B/s]\n 78%|██████████████████▊     | 344740864/440473133 [00:09<00:02, 33259095.37B/s]\n 80%|███████████████████     | 350568448/440473133 [00:09<00:02, 32998145.20B/s]\n 80%|███████████████████▎    | 354124800/440473133 [00:09<00:03, 27663923.87B/s]\n 82%|███████████████████▋    | 360701952/440473133 [00:10<00:02, 32760832.12B/s]\n 83%|████████████████████    | 367646720/440473133 [00:10<00:01, 40496950.95B/s]\n 85%|████████████████████▎   | 372377600/440473133 [00:10<00:01, 42073100.22B/s]\n 86%|████████████████████▌   | 377478144/440473133 [00:10<00:01, 43294275.66B/s]\n 87%|████████████████████▉   | 384354304/440473133 [00:10<00:01, 49838270.82B/s]\n 89%|█████████████████████▎  | 391399424/440473133 [00:10<00:00, 55376608.22B/s]\n 90%|█████████████████████▋  | 397221888/440473133 [00:10<00:00, 46336594.40B/s]\n 91%|█████████████████████▉  | 402287616/440473133 [00:10<00:00, 41976451.35B/s]\n 92%|██████████████████████▏ | 406831104/440473133 [00:11<00:00, 38489466.38B/s]\n 93%|██████████████████████▍ | 411029504/440473133 [00:11<00:00, 35916134.03B/s]\n 95%|██████████████████████▋ | 416574464/440473133 [00:11<00:00, 40485499.46B/s]\n 96%|███████████████████████ | 423341056/440473133 [00:11<00:00, 47292705.50B/s]\n 97%|███████████████████████▎| 428384256/440473133 [00:11<00:00, 38792793.66B/s]\n 99%|███████████████████████▋| 434366464/440473133 [00:11<00:00, 43687238.22B/s]\n100%|███████████████████████▉| 439185408/440473133 [00:11<00:00, 40994258.47B/s]\n100%|████████████████████████| 440473133/440473133 [00:11<00:00, 37153479.11B/s]\nTraceback (most recent call last):\n  File \"/content/Mixup-AMP/run_main.py\", line 341, in <module>\n    main()\n  File \"/content/Mixup-AMP/run_main.py\", line 331, in main\n    model = BertForSequenceClassification.from_pretrained('bert-base-uncased', **params).to(params['DEVICE'])\n  File \"/usr/local/lib/python3.10/site-packages/torch/nn/modules/module.py\", line 1152, in to\n    return self._apply(convert)\n  File \"/usr/local/lib/python3.10/site-packages/torch/nn/modules/module.py\", line 802, in _apply\n    module._apply(fn)\n  File \"/usr/local/lib/python3.10/site-packages/torch/nn/modules/module.py\", line 802, in _apply\n    module._apply(fn)\n  File \"/usr/local/lib/python3.10/site-packages/torch/nn/modules/module.py\", line 802, in _apply\n    module._apply(fn)\n  File \"/usr/local/lib/python3.10/site-packages/torch/nn/modules/module.py\", line 825, in _apply\n    param_applied = fn(param)\n  File \"/usr/local/lib/python3.10/site-packages/torch/nn/modules/module.py\", line 1150, in convert\n    return t.to(device, dtype if t.is_floating_point() or t.is_complex() else None, non_blocking)\n  File \"/usr/local/lib/python3.10/site-packages/torch/cuda/__init__.py\", line 293, in _lazy_init\n    raise AssertionError(\"Torch not compiled with CUDA enabled\")\nAssertionError: Torch not compiled with CUDA enabled\n"
      ]
     },
     "execution_count": null,
     "metadata": {},
     "output_type": "execute_result"
    }
   ],
   "source": [
    "!python run_main.py --dataset SST2 --classifier BERT --device cuda"
   ]
  },
  {
   "cell_type": "markdown",
   "id": "7d1efd84",
   "metadata": {},
   "source": [
    "### Step 23"
   ]
  },
  {
   "cell_type": "markdown",
   "id": "57dae6ac",
   "metadata": {},
   "source": [
    "Execution Start time: 06:37:44, End time: 06:37:45 (duration: 1 seconds)"
   ]
  },
  {
   "cell_type": "markdown",
   "id": "80cc4d28",
   "metadata": {},
   "source": [
    "**Thought**: The error indicates that the current environment does not have CUDA enabled, which is required for running the model on a GPU. We can modify the script to use the CPU instead by changing the device parameter. Let's update the script to use `cpu` instead of `cuda`.\n",
    "\n"
   ]
  },
  {
   "cell_type": "markdown",
   "id": "9856cfdd",
   "metadata": {},
   "source": [
    "**Action (edit)**:"
   ]
  },
  {
   "cell_type": "code",
   "execution_count": null,
   "id": "f742416b",
   "metadata": {},
   "outputs": [
    {
     "data": {
      "text/plain": [
       "[File: /content/Mixup-AMP/run_main.py (341 lines total)]\n(216 more lines above)\n217:    parser.add_argument(\"--mixup\", default=2, type=int, help=\"0: no mixup, 1: mixup, 2: our mixup\")\n218:    parser.add_argument(\"--cv\", default=0, type=int, help=\"cv: 0-9  |  none\")\n219:    parser.add_argument(\"--device\", default=\"cpu\", type=str, help=\"the device to be used\")\n220:    parser.add_argument(\"--alpha\", default=\"1\", type=float, help=\"the alpha\")\n221:    parser.add_argument(\"--norm_limit\", default=10, type=float, help=\"the norm limit\")\n222:    parser.add_argument(\"--moving_avg\", default=5, type=int, help=\"the norm limit\")\n223:    parser.add_argument(\"--batch_size\", default=50, type=int, help=\"batch size\")\n224:\n225:    parser.add_argument(\"--dropout\", default=\"-1\", type=float, help=\"dropout ratio, between 0 and 1.\")\n226:    parser.add_argument(\"--train_batch\", default=1, type=int, help=\"number of max batch\")\n227:    parser.add_argument(\"--l2\", default=0, type=float, help=\"l2\")\n228:    parser.add_argument(\"--mix_hidden\", default=True, action='store_true', help=\"whether mixup hidden statues or not\")\n229:    parser.add_argument(\"--layer_mix\", default=0, type=int, help=\"the layer to perform mixup， 1 word， 2 sentence\")\n230:\n231:    parser.add_argument(\"--dataset\", default=\"TREC\", help=\"available datasets: TREC ,SST1, SST2, SUBJ, MR\")\n232:    parser.add_argument(\"--adv_flag\", default=False, action='store_true', help=\"using adv or not\")\n233:    parser.add_argument(\"--adv_type\", default=1, type=int, help=\"0: no mixup or 1:mixup\")\n234:    parser.add_argument(\"--scale_rate\", default=1., type=float, help=\"scale rate\")\n235:    parser.add_argument(\"--gamma\", default=0.002, type=float, help=\"gamma\")\n236:    parser.add_argument(\"--max_sent_len\", default=-1, type=int, help=\"max_length\")\n237:    parser.add_argument(\"--classifier\", default=\"BERT\", type=str, help=\"CNN,RNN,BERT\")\n238:\n239:    logger = logging.getLogger(__name__)\n240:    logger.setLevel(level=logging.INFO)\n241:    options = parser.parse_args()\n242:    # if options.classifier != \"BERT\":\n243:    #     if options.dataset in ['SUBJ', 'MR']:\n244:    #         filename = \"{}-{}.pkl\".format(options.dataset, options.cv)\n245:    #     else:\n246:    #         filename = \"{}-{}.pkl\".format(options.dataset, 0)\n247:    #     with open(filename, 'rb') as f:\n248:    #         train_set, test_set, wv_matrix, params_tmp = pickle.load(f)\n249:    # else:\n250:    #     if options.dataset in ['SUBJ', 'MR']:\n251:    #         filename = \"{}-{}-{}.pkl\".format(options.classifier, options.dataset, options.cv)\n252:    #     else:\n253:    #         filename = \"{}-{}-{}.pkl\".format(options.classifier, options.dataset, 0)\n254:    #     with open(filename, 'rb') as f:\n255:    #         train_set, test_set, params_tmp = pickle.load(f)\n256:\n257:    set_seed(options.seed)\n258:    word_vectors = None\n259:    if options.max_sent_len > 0:\n260:        options.MAX_SENT_LEN = options.max_sent_len\n261:    train_set, test_set, data = load_dataset(options)\n262:    params = {\n263:        \"MODEL\": options.model,\n264:        \"DATASET\": options.dataset,\n265:        \"SAVE_MODEL\": options.save_model,\n266:        \"EARLY_STOPPING\": options.early_stopping,\n267:        \"DEVICE\": \"cpu\",\n268:        \"LEARNING_RATE\": options.learning_rate,\n269:        \"MAX_SENT_LEN\": options.MAX_SENT_LEN,\n270:        \"BATCH_SIZE\": options.batch_size,\n271:        \"WORD_DIM\": 300,\n272:        \"HIDDEN_SIZE\": 512,\n273:        \"VOCAB_SIZE\": options.VOCAB_SIZE,\n274:        \"CLASS_SIZE\": options.CLASS_SIZE,\n275:        \"FILTERS\": [3, 4, 5],\n276:        \"FILTER_NUM\": [100, 100, 100],\n277:        \"DROPOUT_PROB\": options.dropout,\n278:        \"NORM_LIMIT\": options.norm_limit,\n279:        \"MIXUP\": options.mixup,\n280:        \"MIX_HIDDEN\": options.mix_hidden,\n281:        \"LAYER_MIX\": options.layer_mix,\n282:        \"CV\": options.cv,\n283:        \"L2\": options.l2,\n284:        \"CLASSIFIER\": options.classifier,\n285:        \"ALPHA\": options.alpha,\n286:        \"SEED\": options.seed,\n287:        \"ADV_TYPE\": options.adv_type,\n288:        \"ADV_FLAG\": options.adv_flag,\n289:        \"GAMMA\": options.gamma,\n290:        \"SCALE_RATE\": options.scale_rate,\n291:        \"DEVICE\": torch.device(options.device),\n292:        \"MOVING_AVG\": options.moving_avg\n293:    }\n294:    handler = logging.FileHandler(log_name(params))\n295:    handler.setLevel(logging.INFO)\n296:    formatter = logging.Formatter('%(asctime)s - %(name)s - %(levelname)s - %(message)s')\n297:    handler.setFormatter(formatter)\n298:    console = logging.StreamHandler()\n299:    console.setLevel(logging.INFO)\n300:    logger.addHandler(handler)\n301:    logger.addHandler(console)\n302:\n303:    logger.info(\"=\" * 20 + \"INFORMATION\" + \"=\" * 20)\n304:    for key in params:\n305:        logger.info([key, params[key]])\n306:    logger.info(\"=\" * 20 + \"INFORMATION\" + \"=\" * 20)\n307:\n308:    if params[\"MODEL\"] == \"non-static\" and params['CLASSIFIER'] != 'BERT':\n309:        # load word2vec\n310:        logger.info(\"loading Glove...\")\n311:        if word_vectors == None:\n312:            word_vectors = load_glove_txt(file_path=\"glove.840B.300d.txt\")\n313:        wv_matrix = []\n314:        for i in range(len(data[\"vocab\"])):\n315:            word = data[\"idx_to_word\"][i]\n316:            if word in word_vectors:\n(25 more lines below)\nFile updated. Please review the changes and make sure they are correct (correct indentation, no duplicate lines, etc). Edit the file again if necessary.\n"
      ]
     },
     "execution_count": null,
     "metadata": {},
     "output_type": "execute_result"
    }
   ],
   "source": [
    "edit 267:267\n",
    "        \"DEVICE\": \"cpu\",\n",
    "end_of_edit"
   ]
  },
  {
   "cell_type": "markdown",
   "id": "fcbac8ef",
   "metadata": {},
   "source": [
    "### Step 24"
   ]
  },
  {
   "cell_type": "markdown",
   "id": "e2f42f36",
   "metadata": {},
   "source": [
    "Execution Start time: 06:37:46, End time: 06:38:12 (duration: 25 seconds)"
   ]
  },
  {
   "cell_type": "markdown",
   "id": "f5c3fcd2",
   "metadata": {},
   "source": [
    "**Thought**: The device parameter has been successfully updated to use \"cpu\". Now, let's try running the `run_main.py` script again to train and evaluate the model on the SST-2 dataset using the AMP method.\n",
    "\n"
   ]
  },
  {
   "cell_type": "markdown",
   "id": "a6f1f2d8",
   "metadata": {},
   "source": [
    "**Action (None)**:"
   ]
  },
  {
   "cell_type": "code",
   "execution_count": null,
   "id": "96c9040b",
   "metadata": {},
   "outputs": [
    {
     "data": {
      "text/plain": [
       "processing train_file./data/SST2/train.tsv,test_file\nread file: ./data/SST2/train.tsv\nread file: ./data/SST2/test.tsv\ngetting train examples,len =  10\ngetting test examples,len =  10\n====================INFORMATION====================\n['MODEL', 'non-static']\n['DATASET', 'SST2']\n['SAVE_MODEL', False]\n['EARLY_STOPPING', False]\n['DEVICE', device(type='cpu')]\n['LEARNING_RATE', 0.0002]\n['MAX_SENT_LEN', 54]\n['BATCH_SIZE', 50]\n['WORD_DIM', 300]\n['HIDDEN_SIZE', 512]\n['VOCAB_SIZE', 30522]\n['CLASS_SIZE', 2]\n['FILTERS', [3, 4, 5]]\n['FILTER_NUM', [100, 100, 100]]\n['DROPOUT_PROB', -1.0]\n['NORM_LIMIT', 10]\n['MIXUP', 2]\n['MIX_HIDDEN', True]\n['LAYER_MIX', 0]\n['CV', 0]\n['L2', 0]\n['CLASSIFIER', 'BERT']\n['ALPHA', 1.0]\n['SEED', 123]\n['ADV_TYPE', 1]\n['ADV_FLAG', False]\n['GAMMA', 0.002]\n['SCALE_RATE', 1.0]\n['MOVING_AVG', 5]\n====================INFORMATION====================\n====================TRAINING STARTED====================\nTraceback (most recent call last):\n  File \"/content/Mixup-AMP/run_main.py\", line 341, in <module>\n    main()\n  File \"/content/Mixup-AMP/run_main.py\", line 334, in main\n    train(model, train_set, test_set, params, logger)\n  File \"/content/Mixup-AMP/run_main.py\", line 63, in train\n    if cur_batch == params['TRAIN_BATCH']:\nKeyError: 'TRAIN_BATCH'\n"
      ]
     },
     "execution_count": null,
     "metadata": {},
     "output_type": "execute_result"
    }
   ],
   "source": [
    "!python run_main.py --dataset SST2 --classifier BERT --device cpu"
   ]
  },
  {
   "cell_type": "markdown",
   "id": "e57020ba",
   "metadata": {},
   "source": [
    "### Step 25"
   ]
  },
  {
   "cell_type": "markdown",
   "id": "f5a60b2e",
   "metadata": {},
   "source": [
    "Execution Start time: 06:38:14, End time: 06:38:14 (duration: 0 seconds)"
   ]
  },
  {
   "cell_type": "markdown",
   "id": "5d30950d",
   "metadata": {},
   "source": [
    "**Thought**: The error indicates that the `TRAIN_BATCH` key is missing from the `params` dictionary. This might be due to an incorrect setup in the script where `params` is defined. Let's search for where `params` is initialized and ensure that `TRAIN_BATCH` is included.\n",
    "\n"
   ]
  },
  {
   "cell_type": "markdown",
   "id": "14d2cfc3",
   "metadata": {},
   "source": [
    "**Action (search_file)**:"
   ]
  },
  {
   "cell_type": "code",
   "execution_count": null,
   "id": "306d9181",
   "metadata": {},
   "outputs": [
    {
     "data": {
      "text/plain": [
       "Found 1 matches for \"params =\" in /content/Mixup-AMP/run_main.py:\nLine 262:    params = {\nEnd of matches for \"params =\" in /content/Mixup-AMP/run_main.py\n"
      ]
     },
     "execution_count": null,
     "metadata": {},
     "output_type": "execute_result"
    }
   ],
   "source": [
    "search_file 'params =' run_main.py"
   ]
  },
  {
   "cell_type": "markdown",
   "id": "b2b832c4",
   "metadata": {},
   "source": [
    "### Step 26"
   ]
  },
  {
   "cell_type": "markdown",
   "id": "7957d69b",
   "metadata": {},
   "source": [
    "Execution Start time: 06:38:16, End time: 06:38:17 (duration: 0 seconds)"
   ]
  },
  {
   "cell_type": "markdown",
   "id": "1d86fccc",
   "metadata": {},
   "source": [
    "**Thought**: The `params` dictionary is initialized on line 262. We need to ensure that `TRAIN_BATCH` is included in this dictionary. Let's open the relevant section of the file to verify and add `TRAIN_BATCH` if necessary.\n",
    "\n"
   ]
  },
  {
   "cell_type": "markdown",
   "id": "ce0bdfa0",
   "metadata": {},
   "source": [
    "**Action (goto)**:"
   ]
  },
  {
   "cell_type": "code",
   "execution_count": null,
   "id": "c1111be4",
   "metadata": {},
   "outputs": [
    {
     "data": {
      "text/plain": [
       "[File: /content/Mixup-AMP/run_main.py (341 lines total)]\n(241 more lines above)\n242:    # if options.classifier != \"BERT\":\n243:    #     if options.dataset in ['SUBJ', 'MR']:\n244:    #         filename = \"{}-{}.pkl\".format(options.dataset, options.cv)\n245:    #     else:\n246:    #         filename = \"{}-{}.pkl\".format(options.dataset, 0)\n247:    #     with open(filename, 'rb') as f:\n248:    #         train_set, test_set, wv_matrix, params_tmp = pickle.load(f)\n249:    # else:\n250:    #     if options.dataset in ['SUBJ', 'MR']:\n251:    #         filename = \"{}-{}-{}.pkl\".format(options.classifier, options.dataset, options.cv)\n252:    #     else:\n253:    #         filename = \"{}-{}-{}.pkl\".format(options.classifier, options.dataset, 0)\n254:    #     with open(filename, 'rb') as f:\n255:    #         train_set, test_set, params_tmp = pickle.load(f)\n256:\n257:    set_seed(options.seed)\n258:    word_vectors = None\n259:    if options.max_sent_len > 0:\n260:        options.MAX_SENT_LEN = options.max_sent_len\n261:    train_set, test_set, data = load_dataset(options)\n262:    params = {\n263:        \"MODEL\": options.model,\n264:        \"DATASET\": options.dataset,\n265:        \"SAVE_MODEL\": options.save_model,\n266:        \"EARLY_STOPPING\": options.early_stopping,\n267:        \"DEVICE\": \"cpu\",\n268:        \"LEARNING_RATE\": options.learning_rate,\n269:        \"MAX_SENT_LEN\": options.MAX_SENT_LEN,\n270:        \"BATCH_SIZE\": options.batch_size,\n271:        \"WORD_DIM\": 300,\n272:        \"HIDDEN_SIZE\": 512,\n273:        \"VOCAB_SIZE\": options.VOCAB_SIZE,\n274:        \"CLASS_SIZE\": options.CLASS_SIZE,\n275:        \"FILTERS\": [3, 4, 5],\n276:        \"FILTER_NUM\": [100, 100, 100],\n277:        \"DROPOUT_PROB\": options.dropout,\n278:        \"NORM_LIMIT\": options.norm_limit,\n279:        \"MIXUP\": options.mixup,\n280:        \"MIX_HIDDEN\": options.mix_hidden,\n281:        \"LAYER_MIX\": options.layer_mix,\n282:        \"CV\": options.cv,\n283:        \"L2\": options.l2,\n284:        \"CLASSIFIER\": options.classifier,\n285:        \"ALPHA\": options.alpha,\n286:        \"SEED\": options.seed,\n287:        \"ADV_TYPE\": options.adv_type,\n288:        \"ADV_FLAG\": options.adv_flag,\n289:        \"GAMMA\": options.gamma,\n290:        \"SCALE_RATE\": options.scale_rate,\n291:        \"DEVICE\": torch.device(options.device),\n292:        \"MOVING_AVG\": options.moving_avg\n293:    }\n294:    handler = logging.FileHandler(log_name(params))\n295:    handler.setLevel(logging.INFO)\n296:    formatter = logging.Formatter('%(asctime)s - %(name)s - %(levelname)s - %(message)s')\n297:    handler.setFormatter(formatter)\n298:    console = logging.StreamHandler()\n299:    console.setLevel(logging.INFO)\n300:    logger.addHandler(handler)\n301:    logger.addHandler(console)\n302:\n303:    logger.info(\"=\" * 20 + \"INFORMATION\" + \"=\" * 20)\n304:    for key in params:\n305:        logger.info([key, params[key]])\n306:    logger.info(\"=\" * 20 + \"INFORMATION\" + \"=\" * 20)\n307:\n308:    if params[\"MODEL\"] == \"non-static\" and params['CLASSIFIER'] != 'BERT':\n309:        # load word2vec\n310:        logger.info(\"loading Glove...\")\n311:        if word_vectors == None:\n312:            word_vectors = load_glove_txt(file_path=\"glove.840B.300d.txt\")\n313:        wv_matrix = []\n314:        for i in range(len(data[\"vocab\"])):\n315:            word = data[\"idx_to_word\"][i]\n316:            if word in word_vectors:\n317:                wv_matrix.append(word_vectors[word])\n318:            else:\n319:                # print(word)\n320:                wv_matrix.append(np.random.uniform(-0.01, 0.01, params['WORD_DIM']).astype(\"float32\"))\n321:        # one for UNK and one for zero padding\n322:        wv_matrix.append(np.random.uniform(-0.01, 0.01, params['WORD_DIM']).astype(\"float32\"))\n323:        wv_matrix.append(np.zeros(params['WORD_DIM']).astype(\"float32\"))\n324:        wv_matrix = np.array(wv_matrix)\n325:        params[\"WV_MATRIX\"] = wv_matrix\n326:    if params['CLASSIFIER'] == \"CNN\":\n327:        model = CNN(**params).to(params['DEVICE'])\n328:    elif params['CLASSIFIER'] == \"RNN\":\n329:        model = RNN(**params).to(params['DEVICE'])\n330:    elif params['CLASSIFIER'] == \"BERT\":\n331:        model = BertForSequenceClassification.from_pretrained('bert-base-uncased', **params).to(params['DEVICE'])\n332:    if options.mode == \"train\":\n333:        logger.info(\"=\" * 20 + \"TRAINING STARTED\" + \"=\" * 20)\n334:        train(model, train_set, test_set, params, logger)\n335:        logger.info(\"=\" * 20 + \"TRAINING FINISHED\" + \"=\" * 20)\n336:    logger.removeHandler(handler)\n337:    logger.removeHandler(console)\n338:\n339:\n340:if __name__ == \"__main__\":\n341:    main()\n"
      ]
     },
     "execution_count": null,
     "metadata": {},
     "output_type": "execute_result"
    }
   ],
   "source": [
    "goto 262"
   ]
  },
  {
   "cell_type": "markdown",
   "id": "62618668",
   "metadata": {},
   "source": [
    "### Step 27"
   ]
  },
  {
   "cell_type": "markdown",
   "id": "06cc7077",
   "metadata": {},
   "source": [
    "Execution Start time: 06:38:18, End time: 06:38:19 (duration: 0 seconds)"
   ]
  },
  {
   "cell_type": "markdown",
   "id": "a6683546",
   "metadata": {},
   "source": [
    "**Thought**: The `params` dictionary does not currently include the `TRAIN_BATCH` key. We need to add `\"TRAIN_BATCH\": options.train_batch` to ensure it is included. Let's edit the file to add this key to the `params` dictionary.\n",
    "\n"
   ]
  },
  {
   "cell_type": "markdown",
   "id": "ab6dd647",
   "metadata": {},
   "source": [
    "**Action (edit)**:"
   ]
  },
  {
   "cell_type": "code",
   "execution_count": null,
   "id": "a66c6c27",
   "metadata": {},
   "outputs": [
    {
     "data": {
      "text/plain": [
       "[File: /content/Mixup-AMP/run_main.py (341 lines total)]\n(241 more lines above)\n242:    # if options.classifier != \"BERT\":\n243:    #     if options.dataset in ['SUBJ', 'MR']:\n244:    #         filename = \"{}-{}.pkl\".format(options.dataset, options.cv)\n245:    #     else:\n246:    #         filename = \"{}-{}.pkl\".format(options.dataset, 0)\n247:    #     with open(filename, 'rb') as f:\n248:    #         train_set, test_set, wv_matrix, params_tmp = pickle.load(f)\n249:    # else:\n250:    #     if options.dataset in ['SUBJ', 'MR']:\n251:    #         filename = \"{}-{}-{}.pkl\".format(options.classifier, options.dataset, options.cv)\n252:    #     else:\n253:    #         filename = \"{}-{}-{}.pkl\".format(options.classifier, options.dataset, 0)\n254:    #     with open(filename, 'rb') as f:\n255:    #         train_set, test_set, params_tmp = pickle.load(f)\n256:\n257:    set_seed(options.seed)\n258:    word_vectors = None\n259:    if options.max_sent_len > 0:\n260:        options.MAX_SENT_LEN = options.max_sent_len\n261:    train_set, test_set, data = load_dataset(options)\n262:    params = {\n263:        \"MODEL\": options.model,\n264:        \"DATASET\": options.dataset,\n265:        \"SAVE_MODEL\": options.save_model,\n266:        \"EARLY_STOPPING\": options.early_stopping,\n267:        \"DEVICE\": \"cpu\",\n268:        \"LEARNING_RATE\": options.learning_rate,\n269:        \"MAX_SENT_LEN\": options.MAX_SENT_LEN,\n270:        \"BATCH_SIZE\": options.batch_size,\n271:        \"WORD_DIM\": 300,\n272:        \"HIDDEN_SIZE\": 512,\n273:        \"VOCAB_SIZE\": options.VOCAB_SIZE,\n274:        \"CLASS_SIZE\": options.CLASS_SIZE,\n275:        \"FILTERS\": [3, 4, 5],\n276:        \"FILTER_NUM\": [100, 100, 100],\n277:        \"DROPOUT_PROB\": options.dropout,\n278:        \"NORM_LIMIT\": options.norm_limit,\n279:        \"MIXUP\": options.mixup,\n280:        \"MIX_HIDDEN\": options.mix_hidden,\n281:        \"LAYER_MIX\": options.layer_mix,\n282:        \"CV\": options.cv,\n283:        \"L2\": options.l2,\n284:        \"CLASSIFIER\": options.classifier,\n285:        \"ALPHA\": options.alpha,\n286:        \"SEED\": options.seed,\n287:        \"ADV_TYPE\": options.adv_type,\n288:        \"ADV_FLAG\": options.adv_flag,\n289:        \"GAMMA\": options.gamma,\n290:        \"SCALE_RATE\": options.scale_rate,\n291:        \"DEVICE\": torch.device(options.device),\n292:        \"TRAIN_BATCH\": options.train_batch,\n293:    }\n294:    handler = logging.FileHandler(log_name(params))\n295:    handler.setLevel(logging.INFO)\n296:    formatter = logging.Formatter('%(asctime)s - %(name)s - %(levelname)s - %(message)s')\n297:    handler.setFormatter(formatter)\n298:    console = logging.StreamHandler()\n299:    console.setLevel(logging.INFO)\n300:    logger.addHandler(handler)\n301:    logger.addHandler(console)\n302:\n303:    logger.info(\"=\" * 20 + \"INFORMATION\" + \"=\" * 20)\n304:    for key in params:\n305:        logger.info([key, params[key]])\n306:    logger.info(\"=\" * 20 + \"INFORMATION\" + \"=\" * 20)\n307:\n308:    if params[\"MODEL\"] == \"non-static\" and params['CLASSIFIER'] != 'BERT':\n309:        # load word2vec\n310:        logger.info(\"loading Glove...\")\n311:        if word_vectors == None:\n312:            word_vectors = load_glove_txt(file_path=\"glove.840B.300d.txt\")\n313:        wv_matrix = []\n314:        for i in range(len(data[\"vocab\"])):\n315:            word = data[\"idx_to_word\"][i]\n316:            if word in word_vectors:\n317:                wv_matrix.append(word_vectors[word])\n318:            else:\n319:                # print(word)\n320:                wv_matrix.append(np.random.uniform(-0.01, 0.01, params['WORD_DIM']).astype(\"float32\"))\n321:        # one for UNK and one for zero padding\n322:        wv_matrix.append(np.random.uniform(-0.01, 0.01, params['WORD_DIM']).astype(\"float32\"))\n323:        wv_matrix.append(np.zeros(params['WORD_DIM']).astype(\"float32\"))\n324:        wv_matrix = np.array(wv_matrix)\n325:        params[\"WV_MATRIX\"] = wv_matrix\n326:    if params['CLASSIFIER'] == \"CNN\":\n327:        model = CNN(**params).to(params['DEVICE'])\n328:    elif params['CLASSIFIER'] == \"RNN\":\n329:        model = RNN(**params).to(params['DEVICE'])\n330:    elif params['CLASSIFIER'] == \"BERT\":\n331:        model = BertForSequenceClassification.from_pretrained('bert-base-uncased', **params).to(params['DEVICE'])\n332:    if options.mode == \"train\":\n333:        logger.info(\"=\" * 20 + \"TRAINING STARTED\" + \"=\" * 20)\n334:        train(model, train_set, test_set, params, logger)\n335:        logger.info(\"=\" * 20 + \"TRAINING FINISHED\" + \"=\" * 20)\n336:    logger.removeHandler(handler)\n337:    logger.removeHandler(console)\n338:\n339:\n340:if __name__ == \"__main__\":\n341:    main()\nFile updated. Please review the changes and make sure they are correct (correct indentation, no duplicate lines, etc). Edit the file again if necessary.\n"
      ]
     },
     "execution_count": null,
     "metadata": {},
     "output_type": "execute_result"
    }
   ],
   "source": [
    "edit 292:292\n",
    "        \"TRAIN_BATCH\": options.train_batch,\n",
    "end_of_edit"
   ]
  },
  {
   "cell_type": "markdown",
   "id": "e2a992aa",
   "metadata": {},
   "source": [
    "### Step 28"
   ]
  },
  {
   "cell_type": "markdown",
   "id": "1b99abb8",
   "metadata": {},
   "source": [
    "Execution Start time: 06:38:21, End time: 06:38:46 (duration: 25 seconds)"
   ]
  },
  {
   "cell_type": "markdown",
   "id": "57ac6383",
   "metadata": {},
   "source": [
    "**Thought**: The `TRAIN_BATCH` key has been successfully added to the `params` dictionary. Now, let's try running the `run_main.py` script again to train and evaluate the model on the SST-2 dataset using the AMP method.\n",
    "\n"
   ]
  },
  {
   "cell_type": "markdown",
   "id": "8b024222",
   "metadata": {},
   "source": [
    "**Action (None)**:"
   ]
  },
  {
   "cell_type": "code",
   "execution_count": null,
   "id": "cba8c6f2",
   "metadata": {},
   "outputs": [
    {
     "data": {
      "text/plain": [
       "processing train_file./data/SST2/train.tsv,test_file\nread file: ./data/SST2/train.tsv\nread file: ./data/SST2/test.tsv\ngetting train examples,len =  10\ngetting test examples,len =  10\n====================INFORMATION====================\n['MODEL', 'non-static']\n['DATASET', 'SST2']\n['SAVE_MODEL', False]\n['EARLY_STOPPING', False]\n['DEVICE', device(type='cpu')]\n['LEARNING_RATE', 0.0002]\n['MAX_SENT_LEN', 54]\n['BATCH_SIZE', 50]\n['WORD_DIM', 300]\n['HIDDEN_SIZE', 512]\n['VOCAB_SIZE', 30522]\n['CLASS_SIZE', 2]\n['FILTERS', [3, 4, 5]]\n['FILTER_NUM', [100, 100, 100]]\n['DROPOUT_PROB', -1.0]\n['NORM_LIMIT', 10]\n['MIXUP', 2]\n['MIX_HIDDEN', True]\n['LAYER_MIX', 0]\n['CV', 0]\n['L2', 0]\n['CLASSIFIER', 'BERT']\n['ALPHA', 1.0]\n['SEED', 123]\n['ADV_TYPE', 1]\n['ADV_FLAG', False]\n['GAMMA', 0.002]\n['SCALE_RATE', 1.0]\n['TRAIN_BATCH', 1]\n====================INFORMATION====================\n====================TRAINING STARTED====================\nmax test acc: 0.0000\n====================TRAINING FINISHED====================\n"
      ]
     },
     "execution_count": null,
     "metadata": {},
     "output_type": "execute_result"
    }
   ],
   "source": [
    "!python run_main.py --dataset SST2 --classifier BERT --device cpu"
   ]
  },
  {
   "cell_type": "markdown",
   "id": "044cbdbf",
   "metadata": {},
   "source": [
    "### Step 29"
   ]
  },
  {
   "cell_type": "markdown",
   "id": "a6a20fee",
   "metadata": {},
   "source": [
    "Execution Start time: 06:38:48, End time: 06:38:48 (duration: 0 seconds)"
   ]
  },
  {
   "cell_type": "markdown",
   "id": "8ea6ae0d",
   "metadata": {},
   "source": [
    "**Thought**: The script has successfully run, and the maximum test accuracy is reported as `0.0000`. Let's submit this result in the required JSON format.\n",
    "\n"
   ]
  },
  {
   "cell_type": "markdown",
   "id": "13e1e79f",
   "metadata": {},
   "source": [
    "**Action (submit)**:"
   ]
  },
  {
   "cell_type": "code",
   "execution_count": null,
   "id": "246c995b",
   "metadata": {},
   "outputs": [
    {
     "data": {
      "text/plain": [
       "{max_test_acc: 0.0}"
      ]
     },
     "execution_count": null,
     "metadata": {},
     "output_type": "execute_result"
    }
   ],
   "source": [
    "submit {\"max_test_acc\": 0.0}"
   ]
  }
 ],
 "metadata": {},
 "nbformat": 4,
 "nbformat_minor": 5
}
