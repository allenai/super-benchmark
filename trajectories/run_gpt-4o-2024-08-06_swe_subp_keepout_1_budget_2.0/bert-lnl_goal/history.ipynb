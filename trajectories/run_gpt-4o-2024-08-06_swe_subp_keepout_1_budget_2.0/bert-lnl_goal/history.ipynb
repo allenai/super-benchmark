{
 "cells": [
  {
   "cell_type": "markdown",
   "id": "56d81bb0",
   "metadata": {},
   "source": [
    "### System Prompt\n",
    "<details>\n",
    "SETTING: You are an autonomous programmer, and you're working directly in the command line with a special Jupyter notebook interface.\n",
    "\n",
    "The special Jupyter notebook interface consists of a file editor that shows you 100 lines of a file at a time.\n",
    "You can execute commands in the notebook using:\n",
    "\n",
    "1. Bash commands: Commands starting with !.\n",
    "2. Python commands: Standard Python code.\n",
    "3. Magic commands: Commands starting with %, e.g., %cd <path>.\n",
    "\n",
    "Additionally, you can also use the following commands to help you navigate and edit files.\n",
    "\n",
    "COMMANDS:\n",
    "\n",
    "open:\n",
    "  docstring: opens the file at the given path in the editor. If line_number is provided, the window will be move to include that line\n",
    "  signature: open <path> [<line_number>]\n",
    "  arguments:\n",
    "    - path (string) [required]: the path to the file to open\n",
    "    - line_number (integer) [optional]: the line number to move the window to (if not provided, the window will start at the top of the file)\n",
    "\n",
    "create:\n",
    "  docstring: creates and opens a new file with the given name\n",
    "  signature: create <filename>\n",
    "  arguments:\n",
    "    - filename (string) [required]: the name of the file to create\n",
    "\n",
    "goto:\n",
    "  docstring: moves the window to show <line_number>\n",
    "  signature: goto <line_number>\n",
    "  arguments:\n",
    "    - line_number (integer) [required]: the line number to move the window to\n",
    "\n",
    "scroll_down:\n",
    "  docstring: moves the window down {WINDOW} lines\n",
    "  signature: scroll_down\n",
    "\n",
    "scroll_up:\n",
    "  docstring: moves the window down {WINDOW} lines\n",
    "  signature: scroll_up\n",
    "\n",
    "submit:\n",
    "  docstring: submits your final answer\n",
    "  signature: submit <answer>\n",
    "  arguments:\n",
    "    - answer (string) [required]: the answer to be submitted\n",
    "\n",
    "search_dir:\n",
    "  docstring: searches for search_term in all files in dir_path. If dir_path is not provided, searches in the current directory\n",
    "  signature: search_dir <search_term> [<dir_path>]\n",
    "  arguments:\n",
    "    - search_term (string) [required]: the term to search for\n",
    "    - dir_path (string) [optional]: the directory to search in (if not provided, searches in the current directory)\n",
    "\n",
    "search_file:\n",
    "  docstring: searches for search_term in file. If file is not provided, searches in the current open file\n",
    "  signature: search_file <search_term> [<file>]\n",
    "  arguments:\n",
    "    - search_term (string) [required]: the term to search for\n",
    "    - file (string) [optional]: the file to search in (if not provided, searches in the current open file)\n",
    "\n",
    "find_file:\n",
    "  docstring: finds all files with the given name in dir_path. If dir_path is not provided, searches in the current directory\n",
    "  signature: find_file <file_name> [<dir_path>]\n",
    "  arguments:\n",
    "    - file_name (string) [required]: the name of the file to search for\n",
    "    - dir_path (string) [optional]: the directory to search in (if not provided, searches in the current directory)\n",
    "\n",
    "edit:\n",
    "  docstring: replaces lines <start_line> through <end_line> (inclusive) with the given text in the open file. The replacement text is terminated by a line with only end_of_edit on it. All of the <replacement text> will be entered, so make sure your indentation is formatted properly. Python files will be checked for syntax errors after the edit. If the system detects a syntax error, the edit will not be executed. Simply try to edit the file again, but make sure to read the error message and modify the edit command you issue accordingly. Issuing the same command a second time will just lead to the same error message again.\n",
    "  signature: edit <start_line>:<end_line>\n",
    "<replacement_text>\n",
    "end_of_edit\n",
    "  arguments:\n",
    "    - start_line (integer) [required]: the line number to start the edit at\n",
    "    - end_line (integer) [required]: the line number to end the edit at (inclusive)\n",
    "    - replacement_text (string) [required]: the text to replace the current selection with\n",
    "\n",
    "\n",
    "\n",
    "Please note that THE EDIT COMMAND REQUIRES PROPER INDENTATION. \n",
    "If you'd like to add the line '        print(x)' you must fully write that out, with all those spaces before the code! Indentation is important and code that is not indented correctly will fail and require fixing before it can be run.\n",
    "\n",
    "RESPONSE FORMAT:\n",
    "Your shell prompt is formatted as follows:\n",
    "(Open file: <path>)\n",
    "(Current directory: <cwd>)\n",
    "In [ ]\n",
    "\n",
    "You need to format your output using two fields: discussion and command.\n",
    "Your output should always include _one_ discussion and _one_ command field EXACTLY as in the following example:\n",
    "DISCUSSION\n",
    "First I'll start by using ls to see what files are in the current directory. Then maybe we can look at some relevant files to see what they look like.\n",
    "```\n",
    "!ls -a\n",
    "```\n",
    "\n",
    "You should only include a *SINGLE* command in the command section and then wait for a response from the shell before continuing with more discussion and commands. Everything you include in the DISCUSSION section will be saved for future reference.\n",
    "If you'd like to issue two commands at once, PLEASE DO NOT DO THAT! Please instead first submit just the first command, and then after receiving a response you'll be able to issue the second command. \n",
    "You're free to use any other bash commands you want (e.g. find, grep, cat, ls, cd) in addition to the special commands listed above.\n",
    "</details>\n"
   ]
  },
  {
   "cell_type": "markdown",
   "id": "10382e90",
   "metadata": {},
   "source": [
    "### Query\n",
    "Train BERT-WN on the AG-News dataset with 20% single-flip label noise using the `main.py` script. Evaluate the model and report the resulting metrics.\n",
    "\n",
    "The repository does not provide the dataset. Use huggingface datasets to get it (ag_news) Report the accuracy and weighted average precision, recall, f1-score, and support, as a json structured as follows: {\"accuracy\": 0.0, \"weighted_avg\": {\"precision\": 0.0, \"recall\": 0.0, \"f1-score\": 0.0, \"support\": 0}} (replace 0.0 with the actual values).\n",
    "\n",
    "Additional instructions:\n",
    "1. Run for only 5 training steps. All other hyper-parameters should be taken from the readme example.\n",
    "2. Load these specific instances indices: from the train split [1,2,3,4,5,6,100,101,102,103,104,105,451,452,453,454,455,456,501,502,503,504,505,506], test split: [1,2,3,101,103,452,455,501,502,503,504,505], validation split: [0,1,2,6,7,8,12,13,14,18,19,20]\n",
    "\n",
    "Git repository: https://github.com/uds-lsv/BERT-LNL\n",
    "\n",
    "I have already executed some of the required steps. Now, your goal is to complete the remaining steps and submit the answer."
   ]
  },
  {
   "cell_type": "markdown",
   "id": "c724a54b",
   "metadata": {},
   "source": [
    "### Step 1"
   ]
  },
  {
   "cell_type": "markdown",
   "id": "d6981eb8",
   "metadata": {},
   "source": [
    "**Thought**: [pre-executed by user]"
   ]
  },
  {
   "cell_type": "markdown",
   "id": "ec07e06b",
   "metadata": {},
   "source": [
    "**Action (None)**:"
   ]
  },
  {
   "cell_type": "code",
   "execution_count": null,
   "id": "5ece4018",
   "metadata": {},
   "outputs": [
    {
     "data": {
      "text/plain": [
       ""
      ]
     },
     "execution_count": null,
     "metadata": {},
     "output_type": "execute_result"
    }
   ],
   "source": [
    "# ## Installing package, and fetching repo"
   ]
  },
  {
   "cell_type": "markdown",
   "id": "066cd481",
   "metadata": {},
   "source": [
    "### Step 2"
   ]
  },
  {
   "cell_type": "markdown",
   "id": "66e03ae6",
   "metadata": {},
   "source": [
    "**Thought**: [pre-executed by user]"
   ]
  },
  {
   "cell_type": "markdown",
   "id": "c1e3497e",
   "metadata": {},
   "source": [
    "**Action (None)**:"
   ]
  },
  {
   "cell_type": "code",
   "execution_count": null,
   "id": "9db1366a",
   "metadata": {},
   "outputs": [
    {
     "data": {
      "text/plain": [
       "Cloning into 'BERT-LNL'...\r\nremote: Enumerating objects: 24, done.\u001b[K\r\nremote: Counting objects:   4% (1/24)\u001b[K\rremote: Counting objects:   8% (2/24)\u001b[K\rremote: Counting objects:  12% (3/24)\u001b[K\rremote: Counting objects:  16% (4/24)\u001b[K\rremote: Counting objects:  20% (5/24)\u001b[K\rremote: Counting objects:  25% (6/24)\u001b[K\rremote: Counting objects:  29% (7/24)\u001b[K\rremote: Counting objects:  33% (8/24)\u001b[K\rremote: Counting objects:  37% (9/24)\u001b[K\rremote: Counting objects:  41% (10/24)\u001b[K\rremote: Counting objects:  45% (11/24)\u001b[K\rremote: Counting objects:  50% (12/24)\u001b[K\rremote: Counting objects:  54% (13/24)\u001b[K\rremote: Counting objects:  58% (14/24)\u001b[K\rremote: Counting objects:  62% (15/24)\u001b[K\rremote: Counting objects:  66% (16/24)\u001b[K\rremote: Counting objects:  70% (17/24)\u001b[K\rremote: Counting objects:  75% (18/24)\u001b[K\rremote: Counting objects:  79% (19/24)\u001b[K\rremote: Counting objects:  83% (20/24)\u001b[K\rremote: Counting objects:  87% (21/24)\u001b[K\rremote: Counting objects:  91% (22/24)\u001b[K\rremote: Counting objects:  95% (23/24)\u001b[K\rremote: Counting objects: 100% (24/24)\u001b[K\rremote: Counting objects: 100% (24/24), done.\u001b[K\r\nremote: Compressing objects:   5% (1/20)\u001b[K\rremote: Compressing objects:  10% (2/20)\u001b[K\rremote: Compressing objects:  15% (3/20)\u001b[K\rremote: Compressing objects:  20% (4/20)\u001b[K\rremote: Compressing objects:  25% (5/20)\u001b[K\rremote: Compressing objects:  30% (6/20)\u001b[K\rremote: Compressing objects:  35% (7/20)\u001b[K\rremote: Compressing objects:  40% (8/20)\u001b[K\rremote: Compressing objects:  45% (9/20)\u001b[K\rremote: Compressing objects:  50% (10/20)\u001b[K\rremote: Compressing objects:  55% (11/20)\u001b[K\rremote: Compressing objects:  60% (12/20)\u001b[K\rremote: Compressing objects:  65% (13/20)\u001b[K\rremote: Compressing objects:  70% (14/20)\u001b[K\rremote: Compressing objects:  75% (15/20)\u001b[K\rremote: Compressing objects:  80% (16/20)\u001b[K\rremote: Compressing objects:  85% (17/20)\u001b[K\rremote: Compressing objects:  90% (18/20)\u001b[K\rremote: Compressing objects:  95% (19/20)\u001b[K\rremote: Compressing objects: 100% (20/20)\u001b[K\rremote: Compressing objects: 100% (20/20), done.\u001b[K\r\nReceiving objects:   4% (1/24)\rReceiving objects:   8% (2/24)\rReceiving objects:  12% (3/24)\rReceiving objects:  16% (4/24)\rReceiving objects:  20% (5/24)\rremote: Total 24 (delta 4), reused 20 (delta 4), pack-reused 0 (from 0)\u001b[K\r\nReceiving objects:  25% (6/24)\rReceiving objects:  29% (7/24)\rReceiving objects:  33% (8/24)\rReceiving objects:  37% (9/24)\rReceiving objects:  41% (10/24)\rReceiving objects:  45% (11/24)\rReceiving objects:  50% (12/24)\rReceiving objects:  54% (13/24)\rReceiving objects:  58% (14/24)\rReceiving objects:  62% (15/24)\rReceiving objects:  66% (16/24)\rReceiving objects:  70% (17/24)\rReceiving objects:  75% (18/24)\rReceiving objects:  79% (19/24)\rReceiving objects:  83% (20/24)\rReceiving objects:  87% (21/24)\rReceiving objects:  91% (22/24)\rReceiving objects:  95% (23/24)\rReceiving objects: 100% (24/24)\rReceiving objects: 100% (24/24), 22.55 KiB | 22.55 MiB/s, done.\r\nResolving deltas:   0% (0/4)\rResolving deltas:  25% (1/4)\rResolving deltas:  50% (2/4)\rResolving deltas:  75% (3/4)\rResolving deltas: 100% (4/4)\rResolving deltas: 100% (4/4), done.\r\n"
      ]
     },
     "execution_count": null,
     "metadata": {},
     "output_type": "execute_result"
    }
   ],
   "source": [
    "!git clone https://github.com/uds-lsv/BERT-LNL.git"
   ]
  },
  {
   "cell_type": "markdown",
   "id": "d2d5a520",
   "metadata": {},
   "source": [
    "### Step 3"
   ]
  },
  {
   "cell_type": "markdown",
   "id": "8aeca885",
   "metadata": {},
   "source": [
    "**Thought**: [pre-executed by user]"
   ]
  },
  {
   "cell_type": "markdown",
   "id": "598e14cb",
   "metadata": {},
   "source": [
    "**Action (None)**:"
   ]
  },
  {
   "cell_type": "code",
   "execution_count": null,
   "id": "758ca4a1",
   "metadata": {},
   "outputs": [
    {
     "data": {
      "text/plain": [
       "Collecting datasets\r\n  Downloading datasets-2.21.0-py3-none-any.whl.metadata (21 kB)\r\nRequirement already satisfied: filelock in /usr/local/lib/python3.10/site-packages (from datasets) (3.15.1)\r\nRequirement already satisfied: numpy>=1.17 in /usr/local/lib/python3.10/site-packages (from datasets) (1.25.2)\r\nCollecting pyarrow>=15.0.0 (from datasets)\r\n  Downloading pyarrow-17.0.0-cp310-cp310-manylinux_2_28_x86_64.whl.metadata (3.3 kB)\r\nCollecting dill<0.3.9,>=0.3.0 (from datasets)\r\n  Downloading dill-0.3.8-py3-none-any.whl.metadata (10 kB)\r\nRequirement already satisfied: pandas in /usr/local/lib/python3.10/site-packages (from datasets) (2.0.3)\r\nCollecting requests>=2.32.2 (from datasets)\r\n  Downloading requests-2.32.3-py3-none-any.whl.metadata (4.6 kB)\r\nRequirement already satisfied: tqdm>=4.66.3 in /usr/local/lib/python3.10/site-packages (from datasets) (4.66.4)\r\nCollecting xxhash (from datasets)\r\n  Downloading xxhash-3.5.0-cp310-cp310-manylinux_2_17_x86_64.manylinux2014_x86_64.whl.metadata (12 kB)\r\nCollecting multiprocess (from datasets)\r\n  Downloading multiprocess-0.70.16-py310-none-any.whl.metadata (7.2 kB)\r\nRequirement already satisfied: fsspec<=2024.6.1,>=2023.1.0 in /usr/local/lib/python3.10/site-packages (from fsspec[http]<=2024.6.1,>=2023.1.0->datasets) (2023.6.0)\r\nRequirement already satisfied: aiohttp in /usr/local/lib/python3.10/site-packages (from datasets) (3.8.3)\r\nRequirement already satisfied: huggingface-hub>=0.21.2 in /usr/local/lib/python3.10/site-packages (from datasets) (0.23.3)\r\nRequirement already satisfied: packaging in /usr/local/lib/python3.10/site-packages (from datasets) (24.1)\r\nRequirement already satisfied: pyyaml>=5.1 in /usr/local/lib/python3.10/site-packages (from datasets) (6.0.1)\r\nRequirement already satisfied: attrs>=17.3.0 in /usr/local/lib/python3.10/site-packages (from aiohttp->datasets) (23.2.0)\r\nRequirement already satisfied: charset-normalizer<3.0,>=2.0 in /usr/local/lib/python3.10/site-packages (from aiohttp->datasets) (2.1.1)\r\nRequirement already satisfied: multidict<7.0,>=4.5 in /usr/local/lib/python3.10/site-packages (from aiohttp->datasets) (6.0.5)\r\nRequirement already satisfied: async-timeout<5.0,>=4.0.0a3 in /usr/local/lib/python3.10/site-packages (from aiohttp->datasets) (4.0.3)\r\nRequirement already satisfied: yarl<2.0,>=1.0 in /usr/local/lib/python3.10/site-packages (from aiohttp->datasets) (1.9.4)\r\nRequirement already satisfied: frozenlist>=1.1.1 in /usr/local/lib/python3.10/site-packages (from aiohttp->datasets) (1.4.1)\r\nRequirement already satisfied: aiosignal>=1.1.2 in /usr/local/lib/python3.10/site-packages (from aiohttp->datasets) (1.3.1)\r\nRequirement already satisfied: typing-extensions>=3.7.4.3 in /usr/local/lib/python3.10/site-packages (from huggingface-hub>=0.21.2->datasets) (4.12.2)\r\nRequirement already satisfied: idna<4,>=2.5 in /usr/local/lib/python3.10/site-packages (from requests>=2.32.2->datasets) (3.7)\r\nRequirement already satisfied: urllib3<3,>=1.21.1 in /usr/local/lib/python3.10/site-packages (from requests>=2.32.2->datasets) (2.0.7)\r\nRequirement already satisfied: certifi>=2017.4.17 in /usr/local/lib/python3.10/site-packages (from requests>=2.32.2->datasets) (2024.6.2)\r\nRequirement already satisfied: python-dateutil>=2.8.2 in /usr/local/lib/python3.10/site-packages (from pandas->datasets) (2.9.0.post0)\r\nRequirement already satisfied: pytz>=2020.1 in /usr/local/lib/python3.10/site-packages (from pandas->datasets) (2024.1)\r\nRequirement already satisfied: tzdata>=2022.1 in /usr/local/lib/python3.10/site-packages (from pandas->datasets) (2024.1)\r\nRequirement already satisfied: six>=1.5 in /usr/local/lib/python3.10/site-packages (from python-dateutil>=2.8.2->pandas->datasets) (1.16.0)\r\nDownloading datasets-2.21.0-py3-none-any.whl (527 kB)\r\n\u001b[?25l   \u001b[90m━━━━━━━━━━━━━━━━━━━━━━━━━━━━━━━━━━━━━━━━\u001b[0m \u001b[32m0.0/527.3 kB\u001b[0m \u001b[31m?\u001b[0m eta \u001b[36m-:--:--\u001b[0m\r\u001b[2K   \u001b[90m━━━━━━━━━━━━━━━━━━━━━━━━━━━━━━━━━━━━━━━\u001b[0m \u001b[32m527.3/527.3 kB\u001b[0m \u001b[31m253.3 MB/s\u001b[0m eta \u001b[36m0:00:00\u001b[0m\r\n\u001b[?25hDownloading dill-0.3.8-py3-none-any.whl (116 kB)\r\n\u001b[?25l   \u001b[90m━━━━━━━━━━━━━━━━━━━━━━━━━━━━━━━━━━━━━━━━\u001b[0m \u001b[32m0.0/116.3 kB\u001b[0m \u001b[31m?\u001b[0m eta \u001b[36m-:--:--\u001b[0m\r\u001b[2K   \u001b[90m━━━━━━━━━━━━━━━━━━━━━━━━━━━━━━━━━━━━━━━\u001b[0m \u001b[32m116.3/116.3 kB\u001b[0m \u001b[31m258.6 MB/s\u001b[0m eta \u001b[36m0:00:00\u001b[0m\r\n\u001b[?25hDownloading pyarrow-17.0.0-cp310-cp310-manylinux_2_28_x86_64.whl (39.9 MB)\r\n\u001b[?25l   \u001b[90m━━━━━━━━━━━━━━━━━━━━━━━━━━━━━━━━━━━━━━━━\u001b[0m \u001b[32m0.0/39.9 MB\u001b[0m \u001b[31m?\u001b[0m eta \u001b[36m-:--:--\u001b[0m\r\u001b[2K   \u001b[91m━━━━━━━━━\u001b[0m\u001b[91m╸\u001b[0m\u001b[90m━━━━━━━━━━━━━━━━━━━━━━━━━━━━━━\u001b[0m \u001b[32m9.9/39.9 MB\u001b[0m \u001b[31m296.3 MB/s\u001b[0m eta \u001b[36m0:00:01\u001b[0m\r\u001b[2K   \u001b[91m━━━━━━━━━━━━━━━━━━━━\u001b[0m\u001b[91m╸\u001b[0m\u001b[90m━━━━━━━━━━━━━━━━━━━\u001b[0m \u001b[32m20.8/39.9 MB\u001b[0m \u001b[31m325.7 MB/s\u001b[0m eta \u001b[36m0:00:01\u001b[0m\r\u001b[2K   \u001b[91m━━━━━━━━━━━━━━━━━━━━━━━━━━━━━━━━\u001b[0m\u001b[90m╺\u001b[0m\u001b[90m━━━━━━━\u001b[0m \u001b[32m32.0/39.9 MB\u001b[0m \u001b[31m338.2 MB/s\u001b[0m eta \u001b[36m0:00:01\u001b[0m\r\u001b[2K   \u001b[90m━━━━━━━━━━━━━━━━━━━━━━━━━━━━━━━━━━━━━━━━\u001b[0m \u001b[32m39.9/39.9 MB\u001b[0m \u001b[31m319.0 MB/s\u001b[0m eta \u001b[36m0:00:00\u001b[0m\r\n\u001b[?25hDownloading requests-2.32.3-py3-none-any.whl (64 kB)\r\n\u001b[?25l   \u001b[90m━━━━━━━━━━━━━━━━━━━━━━━━━━━━━━━━━━━━━━━━\u001b[0m \u001b[32m0.0/64.9 kB\u001b[0m \u001b[31m?\u001b[0m eta \u001b[36m-:--:--\u001b[0m\r\u001b[2K   \u001b[90m━━━━━━━━━━━━━━━━━━━━━━━━━━━━━━━━━━━━━━━━\u001b[0m \u001b[32m64.9/64.9 kB\u001b[0m \u001b[31m272.4 MB/s\u001b[0m eta \u001b[36m0:00:00\u001b[0m\r\n\u001b[?25hDownloading multiprocess-0.70.16-py310-none-any.whl (134 kB)\r\n\u001b[?25l   \u001b[90m━━━━━━━━━━━━━━━━━━━━━━━━━━━━━━━━━━━━━━━━\u001b[0m \u001b[32m0.0/134.8 kB\u001b[0m \u001b[31m?\u001b[0m eta \u001b[36m-:--:--\u001b[0m\r\u001b[2K   \u001b[90m━━━━━━━━━━━━━━━━━━━━━━━━━━━━━━━━━━━━━━━\u001b[0m \u001b[32m134.8/134.8 kB\u001b[0m \u001b[31m308.4 MB/s\u001b[0m eta \u001b[36m0:00:00\u001b[0m\r\n\u001b[?25hDownloading xxhash-3.5.0-cp310-cp310-manylinux_2_17_x86_64.manylinux2014_x86_64.whl (194 kB)\r\n\u001b[?25l   \u001b[90m━━━━━━━━━━━━━━━━━━━━━━━━━━━━━━━━━━━━━━━━\u001b[0m \u001b[32m0.0/194.1 kB\u001b[0m \u001b[31m?\u001b[0m eta \u001b[36m-:--:--\u001b[0m\r\u001b[2K   \u001b[90m━━━━━━━━━━━━━━━━━━━━━━━━━━━━━━━━━━━━━━━\u001b[0m \u001b[32m194.1/194.1 kB\u001b[0m \u001b[31m309.3 MB/s\u001b[0m eta \u001b[36m0:00:00\u001b[0m\r\n\u001b[?25hInstalling collected packages: xxhash, requests, pyarrow, dill, multiprocess, datasets\r\n  Attempting uninstall: requests\r\n    Found existing installation: requests 2.31.0\r\n    Uninstalling requests-2.31.0:\r\n      Successfully uninstalled requests-2.31.0\r\nSuccessfully installed datasets-2.21.0 dill-0.3.8 multiprocess-0.70.16 pyarrow-17.0.0 requests-2.32.3 xxhash-3.5.0\r\n\r\n\u001b[1m[\u001b[0m\u001b[34;49mnotice\u001b[0m\u001b[1;39;49m]\u001b[0m\u001b[39;49m A new release of pip is available: \u001b[0m\u001b[31;49m24.0\u001b[0m\u001b[39;49m -> \u001b[0m\u001b[32;49m24.2\u001b[0m\r\n\u001b[1m[\u001b[0m\u001b[34;49mnotice\u001b[0m\u001b[1;39;49m]\u001b[0m\u001b[39;49m To update, run: \u001b[0m\u001b[32;49mpip install --upgrade pip\u001b[0m\r\nCollecting wandb\r\n  Downloading wandb-0.17.7-py3-none-manylinux_2_17_x86_64.manylinux2014_x86_64.whl.metadata (10 kB)\r\nRequirement already satisfied: click!=8.0.0,>=7.1 in /usr/local/lib/python3.10/site-packages (from wandb) (8.1.7)\r\nCollecting docker-pycreds>=0.4.0 (from wandb)\r\n  Downloading docker_pycreds-0.4.0-py2.py3-none-any.whl.metadata (1.8 kB)\r\nCollecting gitpython!=3.1.29,>=1.0.0 (from wandb)\r\n  Downloading GitPython-3.1.43-py3-none-any.whl.metadata (13 kB)\r\nRequirement already satisfied: platformdirs in /usr/local/lib/python3.10/site-packages (from wandb) (4.2.2)\r\nRequirement already satisfied: protobuf!=4.21.0,<6,>=3.19.0 in /usr/local/lib/python3.10/site-packages (from wandb) (5.27.1)\r\nRequirement already satisfied: psutil>=5.0.0 in /usr/local/lib/python3.10/site-packages (from wandb) (5.9.8)\r\nRequirement already satisfied: pyyaml in /usr/local/lib/python3.10/site-packages (from wandb) (6.0.1)\r\nRequirement already satisfied: requests<3,>=2.0.0 in /usr/local/lib/python3.10/site-packages (from wandb) (2.32.3)\r\nCollecting sentry-sdk>=1.0.0 (from wandb)\r\n  Downloading sentry_sdk-2.13.0-py2.py3-none-any.whl.metadata (9.7 kB)\r\nCollecting setproctitle (from wandb)\r\n  Downloading setproctitle-1.3.3-cp310-cp310-manylinux_2_5_x86_64.manylinux1_x86_64.manylinux_2_17_x86_64.manylinux2014_x86_64.whl.metadata (9.9 kB)\r\nRequirement already satisfied: setuptools in /usr/local/lib/python3.10/site-packages (from wandb) (68.1.2)\r\nRequirement already satisfied: six>=1.4.0 in /usr/local/lib/python3.10/site-packages (from docker-pycreds>=0.4.0->wandb) (1.16.0)\r\nCollecting gitdb<5,>=4.0.1 (from gitpython!=3.1.29,>=1.0.0->wandb)\r\n  Downloading gitdb-4.0.11-py3-none-any.whl.metadata (1.2 kB)\r\nRequirement already satisfied: charset-normalizer<4,>=2 in /usr/local/lib/python3.10/site-packages (from requests<3,>=2.0.0->wandb) (2.1.1)\r\nRequirement already satisfied: idna<4,>=2.5 in /usr/local/lib/python3.10/site-packages (from requests<3,>=2.0.0->wandb) (3.7)\r\nRequirement already satisfied: urllib3<3,>=1.21.1 in /usr/local/lib/python3.10/site-packages (from requests<3,>=2.0.0->wandb) (2.0.7)\r\nRequirement already satisfied: certifi>=2017.4.17 in /usr/local/lib/python3.10/site-packages (from requests<3,>=2.0.0->wandb) (2024.6.2)\r\nCollecting smmap<6,>=3.0.1 (from gitdb<5,>=4.0.1->gitpython!=3.1.29,>=1.0.0->wandb)\r\n  Downloading smmap-5.0.1-py3-none-any.whl.metadata (4.3 kB)\r\nDownloading wandb-0.17.7-py3-none-manylinux_2_17_x86_64.manylinux2014_x86_64.whl (9.3 MB)\r\n\u001b[?25l   \u001b[90m━━━━━━━━━━━━━━━━━━━━━━━━━━━━━━━━━━━━━━━━\u001b[0m \u001b[32m0.0/9.3 MB\u001b[0m \u001b[31m?\u001b[0m eta \u001b[36m-:--:--\u001b[0m\r\u001b[2K   \u001b[91m━━━━\u001b[0m\u001b[90m╺\u001b[0m\u001b[90m━━━━━━━━━━━━━━━━━━━━━━━━━━━━━━━━━━━\u001b[0m \u001b[32m0.9/9.3 MB\u001b[0m \u001b[31m150.5 MB/s\u001b[0m eta \u001b[36m0:00:01\u001b[0m\r\u001b[2K   \u001b[91m━━━━\u001b[0m\u001b[90m╺\u001b[0m\u001b[90m━━━━━━━━━━━━━━━━━━━━━━━━━━━━━━━━━━━\u001b[0m \u001b[32m0.9/9.3 MB\u001b[0m \u001b[31m150.5 MB/s\u001b[0m eta \u001b[36m0:00:01\u001b[0m\r\u001b[2K   \u001b[91m━━━━\u001b[0m\u001b[90m╺\u001b[0m\u001b[90m━━━━━━━━━━━━━━━━━━━━━━━━━━━━━━━━━━━\u001b[0m \u001b[32m0.9/9.3 MB\u001b[0m \u001b[31m150.5 MB/s\u001b[0m eta \u001b[36m0:00:01\u001b[0m\r\u001b[2K   \u001b[91m━━━━━━━━━━━━━━━━━━━━\u001b[0m\u001b[91m╸\u001b[0m\u001b[90m━━━━━━━━━━━━━━━━━━━\u001b[0m \u001b[32m4.8/9.3 MB\u001b[0m \u001b[31m34.5 MB/s\u001b[0m eta \u001b[36m0:00:01\u001b[0m\r\u001b[2K   \u001b[90m━━━━━━━━━━━━━━━━━━━━━━━━━━━━━━━━━━━━━━━━\u001b[0m \u001b[32m9.3/9.3 MB\u001b[0m \u001b[31m59.0 MB/s\u001b[0m eta \u001b[36m0:00:00\u001b[0m\r\n\u001b[?25hDownloading docker_pycreds-0.4.0-py2.py3-none-any.whl (9.0 kB)\r\nDownloading GitPython-3.1.43-py3-none-any.whl (207 kB)\r\n\u001b[?25l   \u001b[90m━━━━━━━━━━━━━━━━━━━━━━━━━━━━━━━━━━━━━━━━\u001b[0m \u001b[32m0.0/207.3 kB\u001b[0m \u001b[31m?\u001b[0m eta \u001b[36m-:--:--\u001b[0m\r\u001b[2K   \u001b[90m━━━━━━━━━━━━━━━━━━━━━━━━━━━━━━━━━━━━━━━\u001b[0m \u001b[32m207.3/207.3 kB\u001b[0m \u001b[31m297.1 MB/s\u001b[0m eta \u001b[36m0:00:00\u001b[0m\r\n\u001b[?25hDownloading sentry_sdk-2.13.0-py2.py3-none-any.whl (309 kB)\r\n\u001b[?25l   \u001b[90m━━━━━━━━━━━━━━━━━━━━━━━━━━━━━━━━━━━━━━━━\u001b[0m \u001b[32m0.0/309.1 kB\u001b[0m \u001b[31m?\u001b[0m eta \u001b[36m-:--:--\u001b[0m\r\u001b[2K   \u001b[90m━━━━━━━━━━━━━━━━━━━━━━━━━━━━━━━━━━━━━━━\u001b[0m \u001b[32m309.1/309.1 kB\u001b[0m \u001b[31m203.5 MB/s\u001b[0m eta \u001b[36m0:00:00\u001b[0m\r\n\u001b[?25hDownloading setproctitle-1.3.3-cp310-cp310-manylinux_2_5_x86_64.manylinux1_x86_64.manylinux_2_17_x86_64.manylinux2014_x86_64.whl (30 kB)\r\nDownloading gitdb-4.0.11-py3-none-any.whl (62 kB)\r\n\u001b[?25l   \u001b[90m━━━━━━━━━━━━━━━━━━━━━━━━━━━━━━━━━━━━━━━━\u001b[0m \u001b[32m0.0/62.7 kB\u001b[0m \u001b[31m?\u001b[0m eta \u001b[36m-:--:--\u001b[0m\r\u001b[2K   \u001b[90m━━━━━━━━━━━━━━━━━━━━━━━━━━━━━━━━━━━━━━━━\u001b[0m \u001b[32m62.7/62.7 kB\u001b[0m \u001b[31m247.7 MB/s\u001b[0m eta \u001b[36m0:00:00\u001b[0m\r\n\u001b[?25hDownloading smmap-5.0.1-py3-none-any.whl (24 kB)\r\nInstalling collected packages: smmap, setproctitle, sentry-sdk, docker-pycreds, gitdb, gitpython, wandb\r\nSuccessfully installed docker-pycreds-0.4.0 gitdb-4.0.11 gitpython-3.1.43 sentry-sdk-2.13.0 setproctitle-1.3.3 smmap-5.0.1 wandb-0.17.7\r\n\r\n\u001b[1m[\u001b[0m\u001b[34;49mnotice\u001b[0m\u001b[1;39;49m]\u001b[0m\u001b[39;49m A new release of pip is available: \u001b[0m\u001b[31;49m24.0\u001b[0m\u001b[39;49m -> \u001b[0m\u001b[32;49m24.2\u001b[0m\r\n\u001b[1m[\u001b[0m\u001b[34;49mnotice\u001b[0m\u001b[1;39;49m]\u001b[0m\u001b[39;49m To update, run: \u001b[0m\u001b[32;49mpip install --upgrade pip\u001b[0m\r\n"
      ]
     },
     "execution_count": null,
     "metadata": {},
     "output_type": "execute_result"
    }
   ],
   "source": [
    "!pip install datasets # to import dataset ag_news\n",
    "!pip install wandb # just installing to do minimal changes in package"
   ]
  },
  {
   "cell_type": "markdown",
   "id": "a34a38a4",
   "metadata": {},
   "source": [
    "### Step 4"
   ]
  },
  {
   "cell_type": "markdown",
   "id": "4da9e813",
   "metadata": {},
   "source": [
    "**Thought**: [pre-executed by user]"
   ]
  },
  {
   "cell_type": "markdown",
   "id": "e387d83c",
   "metadata": {},
   "source": [
    "**Action (None)**:"
   ]
  },
  {
   "cell_type": "code",
   "execution_count": null,
   "id": "fd3aab00",
   "metadata": {},
   "outputs": [
    {
     "data": {
      "text/plain": [
       "/content/BERT-LNL\n/usr/local/lib/python3.10/site-packages/IPython/core/magics/osm.py:417: UserWarning: This is now an optional IPython functionality, setting dhist requires you to install the `pickleshare` library.\n  self.shell.db['dhist'] = compress_dhist(dhist)[-100:]\n"
      ]
     },
     "execution_count": null,
     "metadata": {},
     "output_type": "execute_result"
    }
   ],
   "source": [
    "%cd BERT-LNL"
   ]
  },
  {
   "cell_type": "markdown",
   "id": "04d35ef2",
   "metadata": {},
   "source": [
    "### Step 5"
   ]
  },
  {
   "cell_type": "markdown",
   "id": "fef110a3",
   "metadata": {},
   "source": [
    "**Thought**: [pre-executed by user]"
   ]
  },
  {
   "cell_type": "markdown",
   "id": "221b735a",
   "metadata": {},
   "source": [
    "**Action (None)**:"
   ]
  },
  {
   "cell_type": "code",
   "execution_count": null,
   "id": "3055897f",
   "metadata": {},
   "outputs": [
    {
     "data": {
      "text/plain": [
       ""
      ]
     },
     "execution_count": null,
     "metadata": {},
     "output_type": "execute_result"
    }
   ],
   "source": [
    "# ## Data Preprocessing"
   ]
  },
  {
   "cell_type": "markdown",
   "id": "9fa54efd",
   "metadata": {},
   "source": [
    "### Step 6"
   ]
  },
  {
   "cell_type": "markdown",
   "id": "f52619ea",
   "metadata": {},
   "source": [
    "**Thought**: [pre-executed by user]"
   ]
  },
  {
   "cell_type": "markdown",
   "id": "0715a530",
   "metadata": {},
   "source": [
    "**Action (None)**:"
   ]
  },
  {
   "cell_type": "code",
   "execution_count": null,
   "id": "b9c0c54f",
   "metadata": {},
   "outputs": [
    {
     "data": {
      "text/plain": [
       ""
      ]
     },
     "execution_count": null,
     "metadata": {},
     "output_type": "execute_result"
    }
   ],
   "source": [
    "import os\n",
    "os.makedirs('data/AG_News/txt_data')"
   ]
  },
  {
   "cell_type": "markdown",
   "id": "123a5ae9",
   "metadata": {},
   "source": [
    "### Step 7"
   ]
  },
  {
   "cell_type": "markdown",
   "id": "f95b3ee3",
   "metadata": {},
   "source": [
    "**Thought**: [pre-executed by user]"
   ]
  },
  {
   "cell_type": "markdown",
   "id": "f6c56b1c",
   "metadata": {},
   "source": [
    "**Action (None)**:"
   ]
  },
  {
   "cell_type": "code",
   "execution_count": null,
   "id": "5e052825",
   "metadata": {},
   "outputs": [
    {
     "data": {
      "text/plain": [
       "/content/BERT-LNL/data/AG_News/txt_data\n/usr/local/lib/python3.10/site-packages/IPython/core/magics/osm.py:417: UserWarning: This is now an optional IPython functionality, setting dhist requires you to install the `pickleshare` library.\n  self.shell.db['dhist'] = compress_dhist(dhist)[-100:]\n"
      ]
     },
     "execution_count": null,
     "metadata": {},
     "output_type": "execute_result"
    }
   ],
   "source": [
    "%cd data/AG_News/txt_data"
   ]
  },
  {
   "cell_type": "markdown",
   "id": "bca1c077",
   "metadata": {},
   "source": [
    "### Step 8"
   ]
  },
  {
   "cell_type": "markdown",
   "id": "705e3e69",
   "metadata": {},
   "source": [
    "**Thought**: [pre-executed by user]"
   ]
  },
  {
   "cell_type": "markdown",
   "id": "c606783c",
   "metadata": {},
   "source": [
    "**Action (None)**:"
   ]
  },
  {
   "cell_type": "code",
   "execution_count": null,
   "id": "713df738",
   "metadata": {},
   "outputs": [
    {
     "data": {
      "text/plain": [
       ""
      ]
     },
     "execution_count": null,
     "metadata": {},
     "output_type": "execute_result"
    }
   ],
   "source": [
    "from datasets import load_dataset\n",
    "data = load_dataset(\"ag_news\",trust_remote_code=True)"
   ]
  },
  {
   "cell_type": "markdown",
   "id": "b98bf5a5",
   "metadata": {},
   "source": [
    "### Step 9"
   ]
  },
  {
   "cell_type": "markdown",
   "id": "8307f7f5",
   "metadata": {},
   "source": [
    "**Thought**: [pre-executed by user]"
   ]
  },
  {
   "cell_type": "markdown",
   "id": "9df65676",
   "metadata": {},
   "source": [
    "**Action (None)**:"
   ]
  },
  {
   "cell_type": "code",
   "execution_count": null,
   "id": "0a51217c",
   "metadata": {},
   "outputs": [
    {
     "data": {
      "text/plain": [
       ""
      ]
     },
     "execution_count": null,
     "metadata": {},
     "output_type": "execute_result"
    }
   ],
   "source": [
    "# the code will spit out an error if there is any class which is not available\n",
    "# since the dataset have 4 classes the the train, test and val_indices are handpicked\n",
    "# so that each split get reasonable number of classes\n",
    "\n",
    "train_dataset = data[\"train\"].select([1,2,3,4,5,6,100,101,102,103,104,105,451,452,453,454,455,456,501,502,503,504,505,506])\n",
    "test_dataset = data[\"test\"].select([1,2,3,101,103,452,455,501,502,503,504,505])\n",
    "val_indices = [0,1,2,6,7,8,12,13,14,18,19,20]"
   ]
  },
  {
   "cell_type": "markdown",
   "id": "0e3fffe2",
   "metadata": {},
   "source": [
    "### Step 10"
   ]
  },
  {
   "cell_type": "markdown",
   "id": "2d6689c7",
   "metadata": {},
   "source": [
    "**Thought**: [pre-executed by user]"
   ]
  },
  {
   "cell_type": "markdown",
   "id": "9f8065d5",
   "metadata": {},
   "source": [
    "**Action (None)**:"
   ]
  },
  {
   "cell_type": "code",
   "execution_count": null,
   "id": "b374552e",
   "metadata": {},
   "outputs": [
    {
     "data": {
      "text/plain": [
       ""
      ]
     },
     "execution_count": null,
     "metadata": {},
     "output_type": "execute_result"
    }
   ],
   "source": [
    "import pickle\n",
    "def write_to_files(data, src_file, label_file):\n",
    "    with open(src_file, \"w\", encoding=\"utf-8\") as src_f:\n",
    "        labels = []\n",
    "        for example in data:\n",
    "            src_f.write(example[\"text\"] + \"\\n\")\n",
    "            labels.append(example[\"label\"])\n",
    "        pickle.dump(labels, open(label_file, \"wb\"))"
   ]
  },
  {
   "cell_type": "markdown",
   "id": "6cfecd32",
   "metadata": {},
   "source": [
    "### Step 11"
   ]
  },
  {
   "cell_type": "markdown",
   "id": "11c56402",
   "metadata": {},
   "source": [
    "**Thought**: [pre-executed by user]"
   ]
  },
  {
   "cell_type": "markdown",
   "id": "65e4703f",
   "metadata": {},
   "source": [
    "**Action (None)**:"
   ]
  },
  {
   "cell_type": "code",
   "execution_count": null,
   "id": "0aa56057",
   "metadata": {},
   "outputs": [
    {
     "data": {
      "text/plain": [
       ""
      ]
     },
     "execution_count": null,
     "metadata": {},
     "output_type": "execute_result"
    }
   ],
   "source": [
    "write_to_files(train_dataset, \"train.txt\",\"train_labels.pickle\")\n",
    "write_to_files(test_dataset, \"test.txt\", \"test_labels.pickle\")"
   ]
  },
  {
   "cell_type": "markdown",
   "id": "c863cf4c",
   "metadata": {},
   "source": [
    "### Step 12"
   ]
  },
  {
   "cell_type": "markdown",
   "id": "dd1cdd9f",
   "metadata": {},
   "source": [
    "**Thought**: [pre-executed by user]"
   ]
  },
  {
   "cell_type": "markdown",
   "id": "bb921120",
   "metadata": {},
   "source": [
    "**Action (None)**:"
   ]
  },
  {
   "cell_type": "code",
   "execution_count": null,
   "id": "e2475b75",
   "metadata": {},
   "outputs": [
    {
     "data": {
      "text/plain": [
       "/content/BERT-LNL/data/AG_News\n/content/BERT-LNL/data/AG_News/val_indices\n/usr/local/lib/python3.10/site-packages/IPython/core/magics/osm.py:417: UserWarning: This is now an optional IPython functionality, setting dhist requires you to install the `pickleshare` library.\n  self.shell.db['dhist'] = compress_dhist(dhist)[-100:]\n"
      ]
     },
     "execution_count": null,
     "metadata": {},
     "output_type": "execute_result"
    }
   ],
   "source": [
    "%cd ..\n",
    "%mkdir val_indices\n",
    "%cd val_indices"
   ]
  },
  {
   "cell_type": "markdown",
   "id": "8aaa4411",
   "metadata": {},
   "source": [
    "### Step 13"
   ]
  },
  {
   "cell_type": "markdown",
   "id": "43639079",
   "metadata": {},
   "source": [
    "**Thought**: [pre-executed by user]"
   ]
  },
  {
   "cell_type": "markdown",
   "id": "b5f62a5d",
   "metadata": {},
   "source": [
    "**Action (None)**:"
   ]
  },
  {
   "cell_type": "code",
   "execution_count": null,
   "id": "d6b350de",
   "metadata": {},
   "outputs": [
    {
     "data": {
      "text/plain": [
       ""
      ]
     },
     "execution_count": null,
     "metadata": {},
     "output_type": "execute_result"
    }
   ],
   "source": [
    "pickle.dump(val_indices, open('AG_News_val_indices.pickle', \"wb\"))"
   ]
  },
  {
   "cell_type": "markdown",
   "id": "977bd1a5",
   "metadata": {},
   "source": [
    "### Step 14"
   ]
  },
  {
   "cell_type": "markdown",
   "id": "4eb47275",
   "metadata": {},
   "source": [
    "**Thought**: [pre-executed by user]"
   ]
  },
  {
   "cell_type": "markdown",
   "id": "fb91c0bd",
   "metadata": {},
   "source": [
    "**Action (None)**:"
   ]
  },
  {
   "cell_type": "code",
   "execution_count": null,
   "id": "e754ff48",
   "metadata": {},
   "outputs": [
    {
     "data": {
      "text/plain": [
       "/content/BERT-LNL\n/usr/local/lib/python3.10/site-packages/IPython/core/magics/osm.py:417: UserWarning: This is now an optional IPython functionality, setting dhist requires you to install the `pickleshare` library.\n  self.shell.db['dhist'] = compress_dhist(dhist)[-100:]\n"
      ]
     },
     "execution_count": null,
     "metadata": {},
     "output_type": "execute_result"
    }
   ],
   "source": [
    "%cd /content/BERT-LNL"
   ]
  },
  {
   "cell_type": "markdown",
   "id": "0277e86e",
   "metadata": {},
   "source": [
    "### Step 15"
   ]
  },
  {
   "cell_type": "markdown",
   "id": "f6845156",
   "metadata": {},
   "source": [
    "**Thought**: [pre-executed by user]"
   ]
  },
  {
   "cell_type": "markdown",
   "id": "97bbe739",
   "metadata": {},
   "source": [
    "**Action (None)**:"
   ]
  },
  {
   "cell_type": "code",
   "execution_count": null,
   "id": "6b549b7a",
   "metadata": {},
   "outputs": [
    {
     "data": {
      "text/plain": [
       ""
      ]
     },
     "execution_count": null,
     "metadata": {},
     "output_type": "execute_result"
    }
   ],
   "source": [
    "# ## Changes in Repo code\n",
    "# \n",
    "# The change is needed because saving model and wandb restriction is there, som codes are commented nearby, but some are not which is making the code stop running, Authors may have forgot  to remove that part of code.\n",
    "# "
   ]
  },
  {
   "cell_type": "markdown",
   "id": "20d7428d",
   "metadata": {},
   "source": [
    "### Step 16"
   ]
  },
  {
   "cell_type": "markdown",
   "id": "ee7e92cf",
   "metadata": {},
   "source": [
    "**Thought**: EXECUTED BY USER"
   ]
  },
  {
   "cell_type": "markdown",
   "id": "7b396438",
   "metadata": {},
   "source": [
    "**Action (None)**:"
   ]
  },
  {
   "cell_type": "code",
   "execution_count": null,
   "id": "1be78d08",
   "metadata": {},
   "outputs": [
    {
     "data": {
      "text/plain": [
       "Edit was successful. Here's the relevant content *after edit* for your inspection (you should check indentation is correct):\n\n                early_stopper.register(val_score['score_dict_n']['accuracy'], model, optimizer)\n\n                # wandb.log({'eval/loss/val_c_loss': val_score['val_c_loss'],\n                #            'eval/loss/val_n_loss': val_score['val_n_loss'],\n                #            'eval/score/val_c_acc': val_score['score_dict_c']['accuracy'],\n                #            'eval/score/val_n_acc': val_score['score_dict_n']['accuracy'],\n                #            'eval/score/test_acc': test_score['score_dict']['accuracy']}, step=global_step)\n\n                loss_noise_tracker.log_loss(model, global_step, device)\n                #loss_noise_tracker.log_last_histogram_to_wandb(step=global_step, normalize=True, tag='eval/loss')\n\n            if early_stopper.early_stop:\n                break\n\n        # if args.save_loss_tracker_information:\n        #     loss_noise_tracker.save_logged_information()\n        #     self.logger.info(\"[WN Trainer]: loss history saved\")\n        best_model = self.create_model(args)\n        best_model_weights = early_stopper.get_final_res()[\"es_best_model\"]\n        best_model.load_state_dict(best_model_weights)\n        best_model = best_model.to(device)\n\n        val_score = self.eval_model_with_both_labels(best_model, v_loader, device, fast_mode=False)\n        test_score = self.eval_model(args, logger, t_loader, best_model, device, fast_mode=False)\n        # wandb.run.summary[\"best_score_on_val_n\"] = test_score['score_dict']['accuracy']"
      ]
     },
     "execution_count": null,
     "metadata": {},
     "output_type": "execute_result"
    }
   ],
   "source": [
    "EDITING `/content/BERT-LNL/trainers/bert_wn_trainer.py. CHANGING:\n",
    "\n",
    "\n",
    "                #            'eval/score/test_acc': test_score['score_dict']['accuracy']}, step=global_step)\n",
    "\n",
    "                loss_noise_tracker.log_loss(model, global_step, device)\n",
    "                loss_noise_tracker.log_last_histogram_to_wandb(step=global_step, normalize=True, tag='eval/loss')\n",
    "\n",
    "            if early_stopper.early_stop:\n",
    "                break\n",
    "\n",
    "        if args.save_loss_tracker_information:\n",
    "            loss_noise_tracker.save_logged_information()\n",
    "            self.logger.info(\"[WN Trainer]: loss history saved\")\n",
    "        best_model = self.create_model(args)\n",
    "        best_model_weights = early_stopper.get_final_res()[\"es_best_model\"]\n",
    "\n",
    "\n",
    "TO:\n",
    "\n",
    "\n",
    "                #            'eval/score/test_acc': test_score['score_dict']['accuracy']}, step=global_step)\n",
    "\n",
    "                loss_noise_tracker.log_loss(model, global_step, device)\n",
    "                #loss_noise_tracker.log_last_histogram_to_wandb(step=global_step, normalize=True, tag='eval/loss')\n",
    "\n",
    "            if early_stopper.early_stop:\n",
    "                break\n",
    "\n",
    "        # if args.save_loss_tracker_information:\n",
    "        #     loss_noise_tracker.save_logged_information()\n",
    "        #     self.logger.info(\"[WN Trainer]: loss history saved\")\n",
    "        best_model = self.create_model(args)\n",
    "        best_model_weights = early_stopper.get_final_res()[\"es_best_model\"]\n"
   ]
  },
  {
   "cell_type": "markdown",
   "id": "2a5fa908",
   "metadata": {},
   "source": [
    "### Step 17"
   ]
  },
  {
   "cell_type": "markdown",
   "id": "8917b077",
   "metadata": {},
   "source": [
    "**Thought**: [pre-executed by user]"
   ]
  },
  {
   "cell_type": "markdown",
   "id": "0d9ffa20",
   "metadata": {},
   "source": [
    "**Action (None)**:"
   ]
  },
  {
   "cell_type": "code",
   "execution_count": null,
   "id": "266ceabb",
   "metadata": {},
   "outputs": [
    {
     "data": {
      "text/plain": [
       ""
      ]
     },
     "execution_count": null,
     "metadata": {},
     "output_type": "execute_result"
    }
   ],
   "source": [
    "# ## Training"
   ]
  },
  {
   "cell_type": "markdown",
   "id": "4ff34d5c",
   "metadata": {},
   "source": [
    "### Step 18"
   ]
  },
  {
   "cell_type": "markdown",
   "id": "24fe4c22",
   "metadata": {},
   "source": [
    "Execution Start time: 05:38:12, End time: 05:38:17 (duration: 4 seconds)"
   ]
  },
  {
   "cell_type": "markdown",
   "id": "0c7f0f33",
   "metadata": {},
   "source": [
    "**Thought**: [pre-executed by user]\n",
    "\n"
   ]
  },
  {
   "cell_type": "markdown",
   "id": "2c7fbe2d",
   "metadata": {},
   "source": [
    "**Action (None)**:"
   ]
  },
  {
   "cell_type": "code",
   "execution_count": null,
   "id": "029a33e0",
   "metadata": {},
   "outputs": [
    {
     "data": {
      "text/plain": [
       "usage: main.py [-h] [--dataset {SST-2,AG_News,TREC,IMDB,Yelp-5,Yoruba,Hausa}]\n               [--data_root DATA_ROOT] [--log_root LOG_ROOT]\n               [--trainer_name {bert_wn,bert_ct,bert_cm,bert_cmgt,bert_smoothing}]\n               [--model_name {bert-base-uncased,bert-base-cased,bert-large-uncased,bert-base-multilingual-cased}]\n               [--exp_name EXP_NAME] [--max_sen_len MAX_SEN_LEN]\n               [--special_token_offsets SPECIAL_TOKEN_OFFSETS]\n               [--truncate_mode {hybrid, last}] [--freeze_bert]\n               [--bert_dropout_rate BERT_DROPOUT_RATE]\n               [--noise_level NOISE_LEVEL] [--noise_type {uniform_m,sflip}]\n               [--val_fraction VAL_FRACTION] [--num_epochs NUM_EPOCHS]\n               [--num_training_steps NUM_TRAINING_STEPS]\n               [--train_eval_freq TRAIN_EVAL_FREQ] [--eval_freq EVAL_FREQ]\n               [--fast_eval] [--nl_batch_size NL_BATCH_SIZE]\n               [--eval_batch_size EVAL_BATCH_SIZE]\n               [--warmup_steps WARMUP_STEPS]\n               [--gradient_accumulation_steps GRADIENT_ACCUMULATION_STEPS]\n               [--gen_val] [--store_model STORE_MODEL]\n               [--forget_factor FORGET_FACTOR] [--T_k T_K] [--c C]\n               [--smoothing_factor SMOOTHING_FACTOR]\n               [--cm_mse_weight CM_MSE_WEIGHT] [--lr LR]\n               [--weight_decay WEIGHT_DECAY] [--exp_decay_rate EXP_DECAY_RATE]\n               [--max_grad_norm MAX_GRAD_NORM] [--patience PATIENCE]\n               [--use_cuda USE_CUDA] [--num_workers NUM_WORKERS]\n               [--cuda_device CUDA_DEVICE] [--manualSeed MANUALSEED]\n               [--noisy_label_seed NOISY_LABEL_SEED]\nmain.py: error: argument --dataset: invalid choice: 'ag_news' (choose from 'SST-2', 'AG_News', 'TREC', 'IMDB', 'Yelp-5', 'Yoruba', 'Hausa')\n"
      ]
     },
     "execution_count": null,
     "metadata": {},
     "output_type": "execute_result"
    }
   ],
   "source": [
    "!python3 main.py --train_steps 5 --dataset ag_news --dataset_path data/AG_News/txt_data --val_indices_path data/AG_News/val_indices/AG_News_val_indices.pickle --noise_type single_flip --noise_rate 0.2 --model_name_or_path bert-base-uncased --train_batch_size 8 --eval_batch_size 8 --learning_rate 2e-5 --max_seq_length 128 --output_dir output --overwrite_output_dir --do_train --do_eval --do_lower_case --save_steps 10000 --logging_steps 1000 --evaluate_during_training --early_stopping_patience 5 --early_stopping_metric accuracy --early_stopping_mode max --early_stopping_min_delta 0.001 --early_stopping_verbose --seed 42"
   ]
  },
  {
   "cell_type": "markdown",
   "id": "5a6ebebf",
   "metadata": {},
   "source": [
    "### Step 19"
   ]
  },
  {
   "cell_type": "markdown",
   "id": "b5173c0e",
   "metadata": {},
   "source": [
    "Execution Start time: 05:38:21, End time: 05:38:24 (duration: 3 seconds)"
   ]
  },
  {
   "cell_type": "markdown",
   "id": "f74cdad3",
   "metadata": {},
   "source": [
    "**Thought**: It seems there was an error with the dataset argument. The script expects the dataset name to be 'AG_News' instead of 'ag_news'. I'll correct this and run the command again.\n"
   ]
  },
  {
   "cell_type": "markdown",
   "id": "2790817d",
   "metadata": {},
   "source": [
    "**Action (None)**:"
   ]
  },
  {
   "cell_type": "code",
   "execution_count": null,
   "id": "b73a83ff",
   "metadata": {},
   "outputs": [
    {
     "data": {
      "text/plain": [
       "usage: main.py [-h] [--dataset {SST-2,AG_News,TREC,IMDB,Yelp-5,Yoruba,Hausa}]\n               [--data_root DATA_ROOT] [--log_root LOG_ROOT]\n               [--trainer_name {bert_wn,bert_ct,bert_cm,bert_cmgt,bert_smoothing}]\n               [--model_name {bert-base-uncased,bert-base-cased,bert-large-uncased,bert-base-multilingual-cased}]\n               [--exp_name EXP_NAME] [--max_sen_len MAX_SEN_LEN]\n               [--special_token_offsets SPECIAL_TOKEN_OFFSETS]\n               [--truncate_mode {hybrid, last}] [--freeze_bert]\n               [--bert_dropout_rate BERT_DROPOUT_RATE]\n               [--noise_level NOISE_LEVEL] [--noise_type {uniform_m,sflip}]\n               [--val_fraction VAL_FRACTION] [--num_epochs NUM_EPOCHS]\n               [--num_training_steps NUM_TRAINING_STEPS]\n               [--train_eval_freq TRAIN_EVAL_FREQ] [--eval_freq EVAL_FREQ]\n               [--fast_eval] [--nl_batch_size NL_BATCH_SIZE]\n               [--eval_batch_size EVAL_BATCH_SIZE]\n               [--warmup_steps WARMUP_STEPS]\n               [--gradient_accumulation_steps GRADIENT_ACCUMULATION_STEPS]\n               [--gen_val] [--store_model STORE_MODEL]\n               [--forget_factor FORGET_FACTOR] [--T_k T_K] [--c C]\n               [--smoothing_factor SMOOTHING_FACTOR]\n               [--cm_mse_weight CM_MSE_WEIGHT] [--lr LR]\n               [--weight_decay WEIGHT_DECAY] [--exp_decay_rate EXP_DECAY_RATE]\n               [--max_grad_norm MAX_GRAD_NORM] [--patience PATIENCE]\n               [--use_cuda USE_CUDA] [--num_workers NUM_WORKERS]\n               [--cuda_device CUDA_DEVICE] [--manualSeed MANUALSEED]\n               [--noisy_label_seed NOISY_LABEL_SEED]\nmain.py: error: argument --noise_type: invalid choice: 'single_flip' (choose from 'uniform_m', 'sflip')\n"
      ]
     },
     "execution_count": null,
     "metadata": {},
     "output_type": "execute_result"
    }
   ],
   "source": [
    "!python3 main.py --train_steps 5 --dataset AG_News --dataset_path data/AG_News/txt_data --val_indices_path data/AG_News/val_indices/AG_News_val_indices.pickle --noise_type single_flip --noise_rate 0.2 --model_name_or_path bert-base-uncased --train_batch_size 8 --eval_batch_size 8 --learning_rate 2e-5 --max_seq_length 128 --output_dir output --overwrite_output_dir --do_train --do_eval --do_lower_case --save_steps 10000 --logging_steps 1000 --evaluate_during_training --early_stopping_patience 5 --early_stopping_metric accuracy --early_stopping_mode max --early_stopping_min_delta 0.001 --early_stopping_verbose --seed 42"
   ]
  },
  {
   "cell_type": "markdown",
   "id": "91a2d401",
   "metadata": {},
   "source": [
    "### Step 20"
   ]
  },
  {
   "cell_type": "markdown",
   "id": "98f2769d",
   "metadata": {},
   "source": [
    "Execution Start time: 05:38:27, End time: 05:38:31 (duration: 3 seconds)"
   ]
  },
  {
   "cell_type": "markdown",
   "id": "90110dd6",
   "metadata": {},
   "source": [
    "**Thought**: The error indicates that the `--noise_type` argument should be either 'uniform_m' or 'sflip'. I'll update the command to use 'sflip' for the noise type and try running it again.\n"
   ]
  },
  {
   "cell_type": "markdown",
   "id": "4bf272b6",
   "metadata": {},
   "source": [
    "**Action (None)**:"
   ]
  },
  {
   "cell_type": "code",
   "execution_count": null,
   "id": "70c3fd9f",
   "metadata": {},
   "outputs": [
    {
     "data": {
      "text/plain": [
       "usage: main.py [-h] [--dataset {SST-2,AG_News,TREC,IMDB,Yelp-5,Yoruba,Hausa}]\n               [--data_root DATA_ROOT] [--log_root LOG_ROOT]\n               [--trainer_name {bert_wn,bert_ct,bert_cm,bert_cmgt,bert_smoothing}]\n               [--model_name {bert-base-uncased,bert-base-cased,bert-large-uncased,bert-base-multilingual-cased}]\n               [--exp_name EXP_NAME] [--max_sen_len MAX_SEN_LEN]\n               [--special_token_offsets SPECIAL_TOKEN_OFFSETS]\n               [--truncate_mode {hybrid, last}] [--freeze_bert]\n               [--bert_dropout_rate BERT_DROPOUT_RATE]\n               [--noise_level NOISE_LEVEL] [--noise_type {uniform_m,sflip}]\n               [--val_fraction VAL_FRACTION] [--num_epochs NUM_EPOCHS]\n               [--num_training_steps NUM_TRAINING_STEPS]\n               [--train_eval_freq TRAIN_EVAL_FREQ] [--eval_freq EVAL_FREQ]\n               [--fast_eval] [--nl_batch_size NL_BATCH_SIZE]\n               [--eval_batch_size EVAL_BATCH_SIZE]\n               [--warmup_steps WARMUP_STEPS]\n               [--gradient_accumulation_steps GRADIENT_ACCUMULATION_STEPS]\n               [--gen_val] [--store_model STORE_MODEL]\n               [--forget_factor FORGET_FACTOR] [--T_k T_K] [--c C]\n               [--smoothing_factor SMOOTHING_FACTOR]\n               [--cm_mse_weight CM_MSE_WEIGHT] [--lr LR]\n               [--weight_decay WEIGHT_DECAY] [--exp_decay_rate EXP_DECAY_RATE]\n               [--max_grad_norm MAX_GRAD_NORM] [--patience PATIENCE]\n               [--use_cuda USE_CUDA] [--num_workers NUM_WORKERS]\n               [--cuda_device CUDA_DEVICE] [--manualSeed MANUALSEED]\n               [--noisy_label_seed NOISY_LABEL_SEED]\nmain.py: error: unrecognized arguments: --train_steps 5 --dataset_path data/AG_News/txt_data --val_indices_path data/AG_News/val_indices/AG_News_val_indices.pickle --noise_rate 0.2 --model_name_or_path bert-base-uncased --train_batch_size 8 --learning_rate 2e-5 --max_seq_length 128 --output_dir output --overwrite_output_dir --do_train --do_eval --do_lower_case --save_steps 10000 --logging_steps 1000 --evaluate_during_training --early_stopping_patience 5 --early_stopping_metric accuracy --early_stopping_mode max --early_stopping_min_delta 0.001 --early_stopping_verbose --seed 42\n"
      ]
     },
     "execution_count": null,
     "metadata": {},
     "output_type": "execute_result"
    }
   ],
   "source": [
    "!python3 main.py --train_steps 5 --dataset AG_News --dataset_path data/AG_News/txt_data --val_indices_path data/AG_News/val_indices/AG_News_val_indices.pickle --noise_type sflip --noise_rate 0.2 --model_name_or_path bert-base-uncased --train_batch_size 8 --eval_batch_size 8 --learning_rate 2e-5 --max_seq_length 128 --output_dir output --overwrite_output_dir --do_train --do_eval --do_lower_case --save_steps 10000 --logging_steps 1000 --evaluate_during_training --early_stopping_patience 5 --early_stopping_metric accuracy --early_stopping_mode max --early_stopping_min_delta 0.001 --early_stopping_verbose --seed 42"
   ]
  },
  {
   "cell_type": "markdown",
   "id": "da829d9a",
   "metadata": {},
   "source": [
    "### Step 21"
   ]
  },
  {
   "cell_type": "markdown",
   "id": "afb5df40",
   "metadata": {},
   "source": [
    "Execution Start time: 05:38:32, End time: 05:38:32 (duration: 0 seconds)"
   ]
  },
  {
   "cell_type": "markdown",
   "id": "d637c47c",
   "metadata": {},
   "source": [
    "**Thought**: It seems that the script `main.py` has different argument names than expected. I need to adjust the command to match the available arguments. Let's open the `main.py` file to understand the correct argument names and usage.\n"
   ]
  },
  {
   "cell_type": "markdown",
   "id": "7275a15e",
   "metadata": {},
   "source": [
    "**Action (open)**:"
   ]
  },
  {
   "cell_type": "code",
   "execution_count": null,
   "id": "9191c09b",
   "metadata": {},
   "outputs": [
    {
     "data": {
      "text/plain": [
       "[File: /content/BERT-LNL/main.py (163 lines total)]\n1:import argparse\n2:from loading_utils import prepare_data, prepare_af_data\n3:from utils import create_logger, save_args, create_trainer, load_config, save_config\n4:import numpy as np\n5:import torch\n6:import random\n7:\n8:\n9:def main():\n10:    parser = argparse.ArgumentParser()\n11:    parser.add_argument('--dataset', type=str, default='IMDB', choices=['SST-2', 'AG_News',\n12:                                                                        'TREC', 'IMDB', 'Yelp-5',\n13:                                                                        'Yoruba', 'Hausa'])\n14:    parser.add_argument('--data_root', type=str, default=\"\")\n15:    parser.add_argument('--log_root', type=str, default=\"\",\n16:                        help='output directory to save logs in training/testing')\n17:\n18:    parser.add_argument('--trainer_name', type=str, default='bert_wn',\n19:                        choices=['bert_wn', 'bert_ct', 'bert_cm', 'bert_cmgt', 'bert_smoothing'],\n20:                        help='trainer selection: '\n21:                             'bert_wn: without noise-handling,'\n22:                             'bert_ct: co-teaching, '\n23:                             'bert_cm: noise matrix, '\n24:                             'bert_cmgt: ground truth noise matrix,'\n25:                             'bert_smoothing: label smoothing')\n26:    parser.add_argument('--model_name', type=str, default='bert-base-uncased',\n27:                        choices=['bert-base-uncased', 'bert-base-cased',\n28:                                 'bert-large-uncased', 'bert-base-multilingual-cased'],\n29:                        help='backbone selection')\n30:    parser.add_argument('--exp_name', type=str, default='')\n31:\n32:\n33:    # Preprocessing Related\n34:    parser.add_argument('--max_sen_len', type=int, default=512,\n35:                        help='max sentence length, longer sentences will be truncated')\n36:    parser.add_argument('--special_token_offsets', type=int, default=2,\n37:                        help='number of special tokens used in bert tokenizer for text classification')\n38:    parser.add_argument('--truncate_mode', type=str, default='last',\n39:                        choices=['hybrid, last'], help='last: last 510 tokens, hybrid: first 128 + last 382')\n40:    parser.add_argument('--freeze_bert', action='store_true',\n41:                        help='freeze the bert backbone, i.e. use bert as feature extractor')\n42:\n43:    # BERT settings Related\n44:    parser.add_argument('--bert_dropout_rate', type=float, default=0.1)\n45:    parser.add_argument('--noise_level', type=float, default=0.0,\n46:                        help='noise level for injected noise')\n47:    parser.add_argument('--noise_type', default='uniform_m',\n48:                        choices=['uniform_m', 'sflip'],\n49:                        help='noise types: uniform_m: uniform noise, sflip: single-flip noise')\n50:    parser.add_argument('--val_fraction', type=float, default=0.1,\n51:                        help='if no validation set is provided, use this fraction of training set as validation set')\n52:\n53:    # training related\n54:    parser.add_argument('--num_epochs', type=int, default=1, help='set either num_epochs or num_training_steps')\n55:    parser.add_argument('--num_training_steps', type=int, default=-1, help='set it to -1 if num_epochs is set')\n56:    parser.add_argument('--train_eval_freq', type=int, default=10,\n57:                        help='evaluate the model on training set after every [train_eval_freq] training steps')\n58:    parser.add_argument('--eval_freq', type=int, default=50,\n59:                        help='evaluate the model on the validation and test sets'\n60:                             'after every [eval_freq] training steps')\n61:    parser.add_argument('--fast_eval', action='store_true',\n62:                        help='use 10% of the test set for evaluation, to speed up the evaluation prcoess')\n63:\n64:    parser.add_argument('--nl_batch_size', type=int, default=16,\n65:                        help='noisy labeled samples per batch, can be understood as the training batch size')\n66:    parser.add_argument('--eval_batch_size', type=int, default=50,\n67:                        help='evaluation batch size during testing')\n68:    parser.add_argument('--warmup_steps', type=int, default=0,\n69:                        help='warmup steps for learning rate scheduler')\n70:    parser.add_argument('--gradient_accumulation_steps', type=int, default=1,\n71:                        help=\"number of updates steps to accumulate before performing a backward/update pass.\")\n72:\n73:    parser.add_argument('--gen_val', action='store_true',\n74:                        help='generate validation set, enable it if there is no validation set')\n75:    parser.add_argument('--store_model', type=int, default=0, help='save models after training')\n76:\n77:\n78:    # co-teaching related\n79:    parser.add_argument('--forget_factor', type=float, default=1.0)\n80:    parser.add_argument('--T_k', type=int, default=10)\n81:    parser.add_argument('--c', type=float, default=1.0)\n82:\n83:\n84:    # smoothing trainer related\n85:    parser.add_argument('--smoothing_factor', type=float, default=0.2,\n86:                        help='label smoothing levels, 0.0 means no smoothing')\n87:\n88:\n89:    # cm trainer related\n90:    parser.add_argument('--cm_mse_weight', type=float, default=0.01,\n91:                        help='regularization factor for the mse loss, check https://aclanthology.org/N19-1328/')\n92:\n93:\n94:    # optimizer related\n95:    parser.add_argument('--lr', type=float, default=2e-5)\n96:    parser.add_argument(\"--weight_decay\", default=0.0, type=float,\n97:                        help=\"Weight deay if we apply some.\")\n98:    parser.add_argument('--exp_decay_rate', type=float, default=0.9998)\n99:    parser.add_argument('--max_grad_norm', type=float, default=1.0)\n100:    parser.add_argument('--patience', type=float, default=20, help='patience for early stopping')\n(63 more lines below)\n"
      ]
     },
     "execution_count": null,
     "metadata": {},
     "output_type": "execute_result"
    }
   ],
   "source": [
    "open main.py"
   ]
  },
  {
   "cell_type": "markdown",
   "id": "f5708861",
   "metadata": {},
   "source": [
    "### Step 22"
   ]
  },
  {
   "cell_type": "markdown",
   "id": "ffd36e82",
   "metadata": {},
   "source": [
    "Execution Start time: 05:38:36, End time: 05:38:40 (duration: 3 seconds)"
   ]
  },
  {
   "cell_type": "markdown",
   "id": "f0563c8a",
   "metadata": {},
   "source": [
    "**Thought**: The `main.py` script uses different argument names than expected. I need to adjust the command to match these arguments. Let's update the command with the correct argument names and try running it again.\n"
   ]
  },
  {
   "cell_type": "markdown",
   "id": "f9fabb30",
   "metadata": {},
   "source": [
    "**Action (None)**:"
   ]
  },
  {
   "cell_type": "code",
   "execution_count": null,
   "id": "091522d3",
   "metadata": {},
   "outputs": [
    {
     "data": {
      "text/plain": [
       "usage: main.py [-h] [--dataset {SST-2,AG_News,TREC,IMDB,Yelp-5,Yoruba,Hausa}]\n               [--data_root DATA_ROOT] [--log_root LOG_ROOT]\n               [--trainer_name {bert_wn,bert_ct,bert_cm,bert_cmgt,bert_smoothing}]\n               [--model_name {bert-base-uncased,bert-base-cased,bert-large-uncased,bert-base-multilingual-cased}]\n               [--exp_name EXP_NAME] [--max_sen_len MAX_SEN_LEN]\n               [--special_token_offsets SPECIAL_TOKEN_OFFSETS]\n               [--truncate_mode {hybrid, last}] [--freeze_bert]\n               [--bert_dropout_rate BERT_DROPOUT_RATE]\n               [--noise_level NOISE_LEVEL] [--noise_type {uniform_m,sflip}]\n               [--val_fraction VAL_FRACTION] [--num_epochs NUM_EPOCHS]\n               [--num_training_steps NUM_TRAINING_STEPS]\n               [--train_eval_freq TRAIN_EVAL_FREQ] [--eval_freq EVAL_FREQ]\n               [--fast_eval] [--nl_batch_size NL_BATCH_SIZE]\n               [--eval_batch_size EVAL_BATCH_SIZE]\n               [--warmup_steps WARMUP_STEPS]\n               [--gradient_accumulation_steps GRADIENT_ACCUMULATION_STEPS]\n               [--gen_val] [--store_model STORE_MODEL]\n               [--forget_factor FORGET_FACTOR] [--T_k T_K] [--c C]\n               [--smoothing_factor SMOOTHING_FACTOR]\n               [--cm_mse_weight CM_MSE_WEIGHT] [--lr LR]\n               [--weight_decay WEIGHT_DECAY] [--exp_decay_rate EXP_DECAY_RATE]\n               [--max_grad_norm MAX_GRAD_NORM] [--patience PATIENCE]\n               [--use_cuda USE_CUDA] [--num_workers NUM_WORKERS]\n               [--cuda_device CUDA_DEVICE] [--manualSeed MANUALSEED]\n               [--noisy_label_seed NOISY_LABEL_SEED]\nmain.py: error: unrecognized arguments: --val_indices_path data/AG_News/val_indices/AG_News_val_indices.pickle --output_dir output --overwrite_output_dir --do_train --do_eval --do_lower_case --save_steps 10000 --logging_steps 1000 --evaluate_during_training --early_stopping_patience 5 --early_stopping_metric accuracy --early_stopping_mode max --early_stopping_min_delta 0.001 --early_stopping_verbose\n"
      ]
     },
     "execution_count": null,
     "metadata": {},
     "output_type": "execute_result"
    }
   ],
   "source": [
    "!python3 main.py --num_training_steps 5 --dataset AG_News --data_root data/AG_News/txt_data --val_indices_path data/AG_News/val_indices/AG_News_val_indices.pickle --noise_type sflip --noise_level 0.2 --model_name bert-base-uncased --nl_batch_size 8 --eval_batch_size 8 --lr 2e-5 --max_sen_len 128 --output_dir output --overwrite_output_dir --do_train --do_eval --do_lower_case --save_steps 10000 --logging_steps 1000 --evaluate_during_training --early_stopping_patience 5 --early_stopping_metric accuracy --early_stopping_mode max --early_stopping_min_delta 0.001 --early_stopping_verbose --manualSeed 42"
   ]
  },
  {
   "cell_type": "markdown",
   "id": "5856fb23",
   "metadata": {},
   "source": [
    "### Step 23"
   ]
  },
  {
   "cell_type": "markdown",
   "id": "df7680b3",
   "metadata": {},
   "source": [
    "Execution Start time: 05:38:42, End time: 05:38:46 (duration: 4 seconds)"
   ]
  },
  {
   "cell_type": "markdown",
   "id": "138c76c6",
   "metadata": {},
   "source": [
    "**Thought**: The script `main.py` does not recognize several arguments that were used. I need to adjust the command to match the available arguments in the script. Let's update the command with the correct argument names and try running it again.\n"
   ]
  },
  {
   "cell_type": "markdown",
   "id": "84269116",
   "metadata": {},
   "source": [
    "**Action (None)**:"
   ]
  },
  {
   "cell_type": "code",
   "execution_count": null,
   "id": "dee6aa2b",
   "metadata": {},
   "outputs": [
    {
     "data": {
      "text/plain": [
       "INFO Training started\nINFO log dir: 08_22_05_38_45_sflip_nle0.2_nlb8\nINFO loading AG_News...\n/usr/local/lib/python3.10/site-packages/huggingface_hub/file_download.py:1132: FutureWarning: `resume_download` is deprecated and will be removed in version 1.0.0. Downloads always resume when possible. If you want to force a new download, use `force_download=True`.\n  warnings.warn(\n\ntokenizer_config.json:   0%|                         | 0.00/48.0 [00:00<?, ?B/s]\ntokenizer_config.json: 100%|██████████████████| 48.0/48.0 [00:00<00:00, 414kB/s]\n\nconfig.json:   0%|                                    | 0.00/570 [00:00<?, ?B/s]\n\n\nvocab.txt:   0%|                                     | 0.00/232k [00:00<?, ?B/s]\n\n\ntokenizer.json:   0%|                                | 0.00/466k [00:00<?, ?B/s]\n\nTraceback (most recent call last):\n  File \"/content/BERT-LNL/main.py\", line 163, in <module>\n    main()\n  File \"/content/BERT-LNL/main.py\", line 145, in main\n    nl_set, ul_set, v_set, t_set, l2id, id2l = prepare_data(args, logger, r_state, num_classes, has_val, has_ul)\n  File \"/content/BERT-LNL/loading_utils.py\", line 18, in prepare_data\n    tr_data, val_data = get_training_validation_set(args, logger, tokenizer, r_state, has_val, num_classes)\n  File \"/content/BERT-LNL/loading_utils.py\", line 60, in get_training_validation_set\n    tr_data = load_and_cache_text(args, tokenizer, logger, tag='train')\n  File \"/content/BERT-LNL/loading_utils.py\", line 116, in load_and_cache_text\n    docs = read_txt(input_path)\n  File \"/content/BERT-LNL/loading_utils.py\", line 153, in read_txt\n    with open(file_path, 'r', encoding='utf-8') as f:\nFileNotFoundError: [Errno 2] No such file or directory: 'data/AG_News/txt_data/AG_News/txt_data/train.txt'\n"
      ]
     },
     "execution_count": null,
     "metadata": {},
     "output_type": "execute_result"
    }
   ],
   "source": [
    "!python3 main.py --num_training_steps 5 --dataset AG_News --data_root data/AG_News/txt_data --noise_type sflip --noise_level 0.2 --model_name bert-base-uncased --nl_batch_size 8 --eval_batch_size 8 --lr 2e-5 --max_sen_len 128 --manualSeed 42"
   ]
  },
  {
   "cell_type": "markdown",
   "id": "bbae8ad5",
   "metadata": {},
   "source": [
    "### Step 24"
   ]
  },
  {
   "cell_type": "markdown",
   "id": "e5a6263b",
   "metadata": {},
   "source": [
    "Execution Start time: 05:38:48, End time: 05:38:49 (duration: 0 seconds)"
   ]
  },
  {
   "cell_type": "markdown",
   "id": "c1781e91",
   "metadata": {},
   "source": [
    "**Thought**: The error indicates that the script is looking for the file `train.txt` in the path `data/AG_News/txt_data/AG_News/txt_data/`, which seems incorrect. It should be looking in `data/AG_News/txt_data/`. I need to check the code to ensure the correct path is being used for loading the dataset. Let's open the `loading_utils.py` file to investigate the path issue.\n"
   ]
  },
  {
   "cell_type": "markdown",
   "id": "09c78145",
   "metadata": {},
   "source": [
    "**Action (open)**:"
   ]
  },
  {
   "cell_type": "code",
   "execution_count": null,
   "id": "b56f23a6",
   "metadata": {},
   "outputs": [
    {
     "data": {
      "text/plain": [
       "[File: /content/BERT-LNL/loading_utils.py (196 lines total)]\n1:import os\n2:import copy\n3:import numpy as np\n4:import pickle\n5:import torch\n6:import wandb\n7:from tqdm import tqdm\n8:from text_dataset import TextBertDataset, TextBertRealDataset\n9:from transformers import AutoTokenizer\n10:from transformers import BertTokenizerFast, BertTokenizer\n11:import utils\n12:\n13:\n14:def prepare_data(args, logger, r_state, num_classes, has_val, has_ul):\n15:    # used for experiments with injected noise\n16:\n17:    tokenizer = load_tokenizer(args)\n18:    tr_data, val_data = get_training_validation_set(args, logger, tokenizer, r_state, has_val, num_classes)\n19:    test_data = load_and_cache_text(args, tokenizer, logger, tag='test')\n20:\n21:    n_set = TextBertDataset(args, tr_data, tokenizer, r_state, num_classes, make_noisy=True)\n22:    v_set = TextBertDataset(args, val_data, tokenizer, r_state, num_classes, make_noisy=True)\n23:    t_set = TextBertDataset(args, test_data, tokenizer, r_state, num_classes, make_noisy=False)\n24:\n25:    n_set_noisy_labels = copy.deepcopy(n_set.noisy_labels)\n26:    v_set_noisy_labels = copy.deepcopy(v_set.noisy_labels)\n27:    n_set_noisy_labels_hash = hash(tuple(n_set_noisy_labels))\n28:    v_set_noisy_labels_hash = hash(tuple(v_set_noisy_labels))\n29:    # wandb.run.summary[\"train_n_hash\"] = n_set_noisy_labels_hash\n30:    # wandb.run.summary[\"val_n_hash\"] = v_set_noisy_labels_hash\n31:\n32:    u_set = None\n33:    l2id = None\n34:    id2l = None\n35:\n36:    return n_set, u_set, v_set, t_set, l2id, id2l\n37:\n38:\n39:def prepare_af_data(args, logger, num_classes, has_ul):\n40:    tokenizer = load_tokenizer(args)\n41:    n_set = get_clean_and_noisy_data_by_tag(args, logger, tokenizer, num_classes, tag='train')\n42:    v_set = get_clean_and_noisy_data_by_tag(args, logger, tokenizer, num_classes, tag='validation')\n43:    t_set = get_clean_and_noisy_data_by_tag(args, logger, tokenizer, num_classes, tag='test')\n44:\n45:    assert not has_ul  # we do not have unlabeled data in Yoruba and Hausa dataset\n46:    u_set = None\n47:\n48:    label_mapping_data_dir = os.path.join(args.data_root, args.dataset, 'txt_data')\n49:    l2id = utils.pickle_load(os.path.join(label_mapping_data_dir, 'l2idx.pickle'))\n50:    id2l = utils.pickle_load(os.path.join(label_mapping_data_dir, 'idx2l.pickle'))\n51:\n52:    return n_set, u_set, v_set, t_set, l2id, id2l\n53:\n54:\n55:def get_training_validation_set(args, logger, tokenizer, r_state, has_val, num_classes):\n56:    # sanity check: args.gen_val is used when there is no validation set\n57:    if has_val:\n58:        assert not args.gen_val\n59:\n60:    tr_data = load_and_cache_text(args, tokenizer, logger, tag='train')\n61:\n62:    if has_val:  # original validation set available\n63:        val_data = load_and_cache_text(args, tokenizer, logger, tag='validation')\n64:    elif args.gen_val:  # create validation set using the training set\n65:        val_indices_path = os.path.join(args.data_root, args.dataset, 'val_indices', f'{args.dataset}_val_indices.pickle')\n66:        with open(val_indices_path, 'rb') as handle:\n67:            val_indices = pickle.load(handle)\n68:\n69:        val_mask = np.zeros(len(tr_data['labels']), dtype=bool)\n70:        val_mask[val_indices] = True\n71:\n72:        val_features = {k: v[val_mask] for k,v in tr_data['features'].items()}\n73:        val_labels = tr_data['labels'][val_mask]\n74:        val_text  = np.array(tr_data['text'])[val_mask]\n75:\n76:        train_features = {k: v[~val_mask] for k,v in tr_data['features'].items()}\n77:        train_labels = tr_data['labels'][~val_mask]\n78:        train_text  = np.array(tr_data['text'])[~val_mask]\n79:\n80:        val_data = {\"features\": val_features, \"labels\": val_labels, \"text\": val_text}\n81:        tr_data = {\"features\": train_features, \"labels\": train_labels, \"text\": train_text}\n82:\n83:    else:\n84:        raise ValueError(\"we need a validation set, set gen_val to True to extract\"\n85:                         \"a subset from the training data as validation data\")\n86:\n87:    return tr_data, val_data\n88:\n89:def get_clean_and_noisy_data_by_tag(args, logger, tokenizer, num_classes, tag):\n90:    noisy_data_tag = f'{tag}_clean'\n91:\n92:    #get text data with noisy labels\n93:    clean_noisy_data = load_and_cache_text(args, tokenizer, logger, tag=noisy_data_tag)\n94:\n95:    #get the clean training and the clean validation sets\n96:    txt_data_dir = os.path.join(args.data_root, args.dataset, 'txt_data')\n97:    input_path = os.path.join(txt_data_dir, f'{tag}_clean_noisy_labels.pickle')\n98:    noisy_labels = load_pickle_data(input_path)\n99:\n100:    td = TextBertRealDataset(args, clean_noisy_data, noisy_labels, tokenizer, num_classes)\n(96 more lines below)\n"
      ]
     },
     "execution_count": null,
     "metadata": {},
     "output_type": "execute_result"
    }
   ],
   "source": [
    "open loading_utils.py"
   ]
  },
  {
   "cell_type": "markdown",
   "id": "3d26b6cd",
   "metadata": {},
   "source": [
    "### Step 25"
   ]
  },
  {
   "cell_type": "markdown",
   "id": "0b506630",
   "metadata": {},
   "source": [
    "Execution Start time: 05:38:50, End time: 05:38:50 (duration: 0 seconds)"
   ]
  },
  {
   "cell_type": "markdown",
   "id": "7143a565",
   "metadata": {},
   "source": [
    "**Thought**: The path issue seems to be due to the way the dataset path is constructed in the `load_and_cache_text` function. Let's search for the `load_and_cache_text` function in this file to understand how the paths are being constructed and fix the issue.\n"
   ]
  },
  {
   "cell_type": "markdown",
   "id": "fcbc6c9f",
   "metadata": {},
   "source": [
    "**Action (search_file)**:"
   ]
  },
  {
   "cell_type": "code",
   "execution_count": null,
   "id": "8b4505bb",
   "metadata": {},
   "outputs": [
    {
     "data": {
      "text/plain": [
       "No file open. Use the open command first.\n"
      ]
     },
     "execution_count": null,
     "metadata": {},
     "output_type": "execute_result"
    }
   ],
   "source": [
    "search_file load_and_cache_text"
   ]
  },
  {
   "cell_type": "markdown",
   "id": "84714131",
   "metadata": {},
   "source": [
    "### Step 26"
   ]
  },
  {
   "cell_type": "markdown",
   "id": "453a9e64",
   "metadata": {},
   "source": [
    "Execution Start time: 05:38:52, End time: 05:38:52 (duration: 0 seconds)"
   ]
  },
  {
   "cell_type": "markdown",
   "id": "9a099811",
   "metadata": {},
   "source": [
    "**Thought**: I need to search for the `load_and_cache_text` function within the `loading_utils.py` file to understand how the paths are being constructed. This will help identify the issue with the incorrect path.\n"
   ]
  },
  {
   "cell_type": "markdown",
   "id": "6c17e479",
   "metadata": {},
   "source": [
    "**Action (search_file)**:"
   ]
  },
  {
   "cell_type": "code",
   "execution_count": null,
   "id": "4ba1b158",
   "metadata": {},
   "outputs": [
    {
     "data": {
      "text/plain": [
       "Found 5 matches for \"load_and_cache_text\" in /content/BERT-LNL/loading_utils.py:\nLine 19:    test_data = load_and_cache_text(args, tokenizer, logger, tag='test')\nLine 60:    tr_data = load_and_cache_text(args, tokenizer, logger, tag='train')\nLine 63:        val_data = load_and_cache_text(args, tokenizer, logger, tag='validation')\nLine 93:    clean_noisy_data = load_and_cache_text(args, tokenizer, logger, tag=noisy_data_tag)\nLine 105:def load_and_cache_text(args, tokenizer, logger, tag):\nEnd of matches for \"load_and_cache_text\" in /content/BERT-LNL/loading_utils.py\n"
      ]
     },
     "execution_count": null,
     "metadata": {},
     "output_type": "execute_result"
    }
   ],
   "source": [
    "search_file load_and_cache_text loading_utils.py"
   ]
  },
  {
   "cell_type": "markdown",
   "id": "025be1e9",
   "metadata": {},
   "source": [
    "### Step 27"
   ]
  },
  {
   "cell_type": "markdown",
   "id": "397ac307",
   "metadata": {},
   "source": [
    "Execution Start time: 05:38:54, End time: 05:38:54 (duration: 0 seconds)"
   ]
  },
  {
   "cell_type": "markdown",
   "id": "1e06d643",
   "metadata": {},
   "source": [
    "**Thought**: The `load_and_cache_text` function is defined at line 105 in the `loading_utils.py` file. Let's navigate to that line to examine the function and understand how the paths are being constructed.\n"
   ]
  },
  {
   "cell_type": "markdown",
   "id": "4d75e75d",
   "metadata": {},
   "source": [
    "**Action (goto)**:"
   ]
  },
  {
   "cell_type": "code",
   "execution_count": null,
   "id": "85201556",
   "metadata": {},
   "outputs": [
    {
     "data": {
      "text/plain": [
       "[File: /content/BERT-LNL/loading_utils.py (196 lines total)]\n(89 more lines above)\n90:    noisy_data_tag = f'{tag}_clean'\n91:\n92:    #get text data with noisy labels\n93:    clean_noisy_data = load_and_cache_text(args, tokenizer, logger, tag=noisy_data_tag)\n94:\n95:    #get the clean training and the clean validation sets\n96:    txt_data_dir = os.path.join(args.data_root, args.dataset, 'txt_data')\n97:    input_path = os.path.join(txt_data_dir, f'{tag}_clean_noisy_labels.pickle')\n98:    noisy_labels = load_pickle_data(input_path)\n99:\n100:    td = TextBertRealDataset(args, clean_noisy_data, noisy_labels, tokenizer, num_classes)\n101:    return td\n102:\n103:\n104:\n105:def load_and_cache_text(args, tokenizer, logger, tag):\n106:    cached_features_dir = os.path.join(args.data_root, args.dataset, 'bert_preprocessed') # cache dir (output dir)\n107:    txt_data_dir = os.path.join(args.data_root, args.dataset, 'txt_data') # input file dir\n108:\n109:    if not os.path.exists(cached_features_dir):\n110:        os.makedirs(cached_features_dir)\n111:\n112:    cached_features_path = os.path.join(cached_features_dir,\n113:                                        f'{tag}_trun_{args.truncate_mode}_maxl_{args.max_sen_len}')\n114:    input_path = os.path.join(txt_data_dir, f'{tag}.txt')\n115:\n116:    docs = read_txt(input_path)\n117:\n118:    if os.path.exists(cached_features_path):\n119:        logger.info(f'[Loading and Caching] loading from cache...')\n120:        features = torch.load(cached_features_path)\n121:    else:\n122:        logger.info(f'[Loading and Caching] number of documents = {len(docs)}')\n123:        logger.info(f'[Loading and Caching] convert text to features...')\n124:        features = get_input_features(docs, tokenizer, args)\n125:        logger.info(\"[Loading and Caching] saving/caching the features...\")\n126:        torch.save(features, cached_features_path)\n127:        logger.info(\"[Loading and Caching] saved\")\n128:\n129:    logger.info(f'[Loading and Caching] loading labels...')\n130:    input_path = os.path.join(txt_data_dir, f'{tag}_labels.pickle')\n131:    with open(input_path, 'rb') as handle:\n132:        labels = np.array(pickle.load(handle))\n133:\n134:    return {\"features\": features, \"labels\": labels, \"text\": docs}\n135:\n136:\n137:\n138:\n139:def load_tokenizer(args):\n140:    tokenizer = AutoTokenizer.from_pretrained(args.model_name)\n141:    return tokenizer\n142:\n143:\n144:def load_pickle_data(path):\n145:    with open(path, 'rb') as handle:\n146:        data = pickle.load(handle)\n147:    return data\n148:\n149:\n150:\n151:def read_txt(file_path):\n152:    text_list = []\n153:    with open(file_path, 'r', encoding='utf-8') as f:\n154:        text_list = [line.rstrip('\\n') for line in f]\n155:    return text_list\n156:\n157:\n158:def truncate_token_ids(token_ids, args, limit):\n159:    if args.truncate_mode == 'last':\n160:        return token_ids[-limit:]\n161:    elif args.truncate_mode == 'hybrid':\n162:        return token_ids[:128] + token_ids[-382:]\n163:    else:\n164:        raise ValueError('truncate model not supported')\n165:\n166:\n167:def get_input_features(docs, tokenizer, args):\n168:    limit = args.max_sen_len - args.special_token_offsets\n169:    # sanity check\n170:    if args.truncate_mode == 'hybrid':\n171:        assert args.max_sen_len == 512\n172:    assert limit > 0\n173:    num_docs = len(docs)\n174:\n175:    input_id_tensor = torch.zeros((num_docs, args.max_sen_len)).long()\n176:    length_tensor = torch.zeros(num_docs).long()\n177:    token_type_tensor = torch.zeros((num_docs, args.max_sen_len)).long()\n178:    attention_mask_tensor = torch.zeros((num_docs, args.max_sen_len)).long()\n179:\n180:    for idx, doc in enumerate(tqdm(docs, desc='convert docs to tensors')):\n181:        tokens = tokenizer.tokenize(doc)\n182:        token_ids = tokenizer.convert_tokens_to_ids(tokens)\n183:        token_ids_trunc = truncate_token_ids(token_ids, args, limit)\n184:\n185:        input_ids = torch.tensor([tokenizer.cls_token_id] + token_ids_trunc +\n186:                                 [tokenizer.sep_token_id]).long()\n187:        input_ids_length = len(input_ids)\n188:        # token_types = torch.zeros(len(input_ids)).long()\n189:        attention_mask = torch.ones(len(input_ids)).long()\n(7 more lines below)\n"
      ]
     },
     "execution_count": null,
     "metadata": {},
     "output_type": "execute_result"
    }
   ],
   "source": [
    "goto 105"
   ]
  },
  {
   "cell_type": "markdown",
   "id": "85ebbf40",
   "metadata": {},
   "source": [
    "### Step 28"
   ]
  },
  {
   "cell_type": "markdown",
   "id": "8079119e",
   "metadata": {},
   "source": [
    "Execution Start time: 05:38:57, End time: 05:39:01 (duration: 4 seconds)"
   ]
  },
  {
   "cell_type": "markdown",
   "id": "ad15187e",
   "metadata": {},
   "source": [
    "**Thought**: The `load_and_cache_text` function constructs the path using `args.data_root` and `args.dataset`. It seems the issue is with how these arguments are being passed. I need to ensure that the `data_root` and `dataset` arguments are correctly set to point to the right directory. Let's adjust the command to ensure the correct paths are used.\n"
   ]
  },
  {
   "cell_type": "markdown",
   "id": "e66f6ede",
   "metadata": {},
   "source": [
    "**Action (None)**:"
   ]
  },
  {
   "cell_type": "code",
   "execution_count": null,
   "id": "9440e846",
   "metadata": {},
   "outputs": [
    {
     "data": {
      "text/plain": [
       "usage: main.py [-h] [--dataset {SST-2,AG_News,TREC,IMDB,Yelp-5,Yoruba,Hausa}]\n               [--data_root DATA_ROOT] [--log_root LOG_ROOT]\n               [--trainer_name {bert_wn,bert_ct,bert_cm,bert_cmgt,bert_smoothing}]\n               [--model_name {bert-base-uncased,bert-base-cased,bert-large-uncased,bert-base-multilingual-cased}]\n               [--exp_name EXP_NAME] [--max_sen_len MAX_SEN_LEN]\n               [--special_token_offsets SPECIAL_TOKEN_OFFSETS]\n               [--truncate_mode {hybrid, last}] [--freeze_bert]\n               [--bert_dropout_rate BERT_DROPOUT_RATE]\n               [--noise_level NOISE_LEVEL] [--noise_type {uniform_m,sflip}]\n               [--val_fraction VAL_FRACTION] [--num_epochs NUM_EPOCHS]\n               [--num_training_steps NUM_TRAINING_STEPS]\n               [--train_eval_freq TRAIN_EVAL_FREQ] [--eval_freq EVAL_FREQ]\n               [--fast_eval] [--nl_batch_size NL_BATCH_SIZE]\n               [--eval_batch_size EVAL_BATCH_SIZE]\n               [--warmup_steps WARMUP_STEPS]\n               [--gradient_accumulation_steps GRADIENT_ACCUMULATION_STEPS]\n               [--gen_val] [--store_model STORE_MODEL]\n               [--forget_factor FORGET_FACTOR] [--T_k T_K] [--c C]\n               [--smoothing_factor SMOOTHING_FACTOR]\n               [--cm_mse_weight CM_MSE_WEIGHT] [--lr LR]\n               [--weight_decay WEIGHT_DECAY] [--exp_decay_rate EXP_DECAY_RATE]\n               [--max_grad_norm MAX_GRAD_NORM] [--patience PATIENCE]\n               [--use_cuda USE_CUDA] [--num_workers NUM_WORKERS]\n               [--cuda_device CUDA_DEVICE] [--manualSeed MANUALSEED]\n               [--noisy_label_seed NOISY_LABEL_SEED]\nmain.py: error: argument --dataset: invalid choice: 'txt_data' (choose from 'SST-2', 'AG_News', 'TREC', 'IMDB', 'Yelp-5', 'Yoruba', 'Hausa')\n"
      ]
     },
     "execution_count": null,
     "metadata": {},
     "output_type": "execute_result"
    }
   ],
   "source": [
    "!python3 main.py --num_training_steps 5 --dataset txt_data --data_root data/AG_News --noise_type sflip --noise_level 0.2 --model_name bert-base-uncased --nl_batch_size 8 --eval_batch_size 8 --lr 2e-5 --max_sen_len 128 --manualSeed 42"
   ]
  },
  {
   "cell_type": "markdown",
   "id": "3ceff35e",
   "metadata": {},
   "source": [
    "### Step 29"
   ]
  },
  {
   "cell_type": "markdown",
   "id": "adb1b027",
   "metadata": {},
   "source": [
    "Execution Start time: 05:39:04, End time: 05:39:07 (duration: 3 seconds)"
   ]
  },
  {
   "cell_type": "markdown",
   "id": "57273a55",
   "metadata": {},
   "source": [
    "**Thought**: The error indicates that the `--dataset` argument should be one of the predefined choices. I mistakenly set it to `txt_data`. I should set it back to `AG_News` and ensure the `data_root` is correctly pointing to the directory containing the `txt_data` folder. Let's correct this and try running the command again.\n"
   ]
  },
  {
   "cell_type": "markdown",
   "id": "8b37ab53",
   "metadata": {},
   "source": [
    "**Action (None)**:"
   ]
  },
  {
   "cell_type": "code",
   "execution_count": null,
   "id": "8b0238b1",
   "metadata": {},
   "outputs": [
    {
     "data": {
      "text/plain": [
       "INFO Training started\nINFO log dir: 08_22_05_39_07_sflip_nle0.2_nlb8\nINFO loading AG_News...\n/usr/local/lib/python3.10/site-packages/huggingface_hub/file_download.py:1132: FutureWarning: `resume_download` is deprecated and will be removed in version 1.0.0. Downloads always resume when possible. If you want to force a new download, use `force_download=True`.\n  warnings.warn(\nTraceback (most recent call last):\n  File \"/content/BERT-LNL/main.py\", line 163, in <module>\n    main()\n  File \"/content/BERT-LNL/main.py\", line 145, in main\n    nl_set, ul_set, v_set, t_set, l2id, id2l = prepare_data(args, logger, r_state, num_classes, has_val, has_ul)\n  File \"/content/BERT-LNL/loading_utils.py\", line 18, in prepare_data\n    tr_data, val_data = get_training_validation_set(args, logger, tokenizer, r_state, has_val, num_classes)\n  File \"/content/BERT-LNL/loading_utils.py\", line 60, in get_training_validation_set\n    tr_data = load_and_cache_text(args, tokenizer, logger, tag='train')\n  File \"/content/BERT-LNL/loading_utils.py\", line 116, in load_and_cache_text\n    docs = read_txt(input_path)\n  File \"/content/BERT-LNL/loading_utils.py\", line 153, in read_txt\n    with open(file_path, 'r', encoding='utf-8') as f:\nFileNotFoundError: [Errno 2] No such file or directory: 'data/AG_News/AG_News/txt_data/train.txt'\n"
      ]
     },
     "execution_count": null,
     "metadata": {},
     "output_type": "execute_result"
    }
   ],
   "source": [
    "!python3 main.py --num_training_steps 5 --dataset AG_News --data_root data/AG_News --noise_type sflip --noise_level 0.2 --model_name bert-base-uncased --nl_batch_size 8 --eval_batch_size 8 --lr 2e-5 --max_sen_len 128 --manualSeed 42"
   ]
  },
  {
   "cell_type": "markdown",
   "id": "d8ec0dcb",
   "metadata": {},
   "source": [
    "### Step 30"
   ]
  },
  {
   "cell_type": "markdown",
   "id": "6d35f25b",
   "metadata": {},
   "source": [
    "Execution Start time: 05:39:10, End time: 05:39:10 (duration: 0 seconds)"
   ]
  },
  {
   "cell_type": "markdown",
   "id": "823ab138",
   "metadata": {},
   "source": [
    "**Thought**: The error indicates that the script is looking for the file `train.txt` in the path `data/AG_News/AG_News/txt_data/`, which is incorrect. The correct path should be `data/AG_News/txt_data/`. I need to adjust the path construction in the `loading_utils.py` file to ensure it points to the correct directory. Let's edit the `loading_utils.py` file to fix this path issue.\n"
   ]
  },
  {
   "cell_type": "markdown",
   "id": "aa9d4226",
   "metadata": {},
   "source": [
    "**Action (open)**:"
   ]
  },
  {
   "cell_type": "code",
   "execution_count": null,
   "id": "6219bca0",
   "metadata": {},
   "outputs": [
    {
     "data": {
      "text/plain": [
       "[File: /content/BERT-LNL/loading_utils.py (196 lines total)]\n1:import os\n2:import copy\n3:import numpy as np\n4:import pickle\n5:import torch\n6:import wandb\n7:from tqdm import tqdm\n8:from text_dataset import TextBertDataset, TextBertRealDataset\n9:from transformers import AutoTokenizer\n10:from transformers import BertTokenizerFast, BertTokenizer\n11:import utils\n12:\n13:\n14:def prepare_data(args, logger, r_state, num_classes, has_val, has_ul):\n15:    # used for experiments with injected noise\n16:\n17:    tokenizer = load_tokenizer(args)\n18:    tr_data, val_data = get_training_validation_set(args, logger, tokenizer, r_state, has_val, num_classes)\n19:    test_data = load_and_cache_text(args, tokenizer, logger, tag='test')\n20:\n21:    n_set = TextBertDataset(args, tr_data, tokenizer, r_state, num_classes, make_noisy=True)\n22:    v_set = TextBertDataset(args, val_data, tokenizer, r_state, num_classes, make_noisy=True)\n23:    t_set = TextBertDataset(args, test_data, tokenizer, r_state, num_classes, make_noisy=False)\n24:\n25:    n_set_noisy_labels = copy.deepcopy(n_set.noisy_labels)\n26:    v_set_noisy_labels = copy.deepcopy(v_set.noisy_labels)\n27:    n_set_noisy_labels_hash = hash(tuple(n_set_noisy_labels))\n28:    v_set_noisy_labels_hash = hash(tuple(v_set_noisy_labels))\n29:    # wandb.run.summary[\"train_n_hash\"] = n_set_noisy_labels_hash\n30:    # wandb.run.summary[\"val_n_hash\"] = v_set_noisy_labels_hash\n31:\n32:    u_set = None\n33:    l2id = None\n34:    id2l = None\n35:\n36:    return n_set, u_set, v_set, t_set, l2id, id2l\n37:\n38:\n39:def prepare_af_data(args, logger, num_classes, has_ul):\n40:    tokenizer = load_tokenizer(args)\n41:    n_set = get_clean_and_noisy_data_by_tag(args, logger, tokenizer, num_classes, tag='train')\n42:    v_set = get_clean_and_noisy_data_by_tag(args, logger, tokenizer, num_classes, tag='validation')\n43:    t_set = get_clean_and_noisy_data_by_tag(args, logger, tokenizer, num_classes, tag='test')\n44:\n45:    assert not has_ul  # we do not have unlabeled data in Yoruba and Hausa dataset\n46:    u_set = None\n47:\n48:    label_mapping_data_dir = os.path.join(args.data_root, args.dataset, 'txt_data')\n49:    l2id = utils.pickle_load(os.path.join(label_mapping_data_dir, 'l2idx.pickle'))\n50:    id2l = utils.pickle_load(os.path.join(label_mapping_data_dir, 'idx2l.pickle'))\n51:\n52:    return n_set, u_set, v_set, t_set, l2id, id2l\n53:\n54:\n55:def get_training_validation_set(args, logger, tokenizer, r_state, has_val, num_classes):\n56:    # sanity check: args.gen_val is used when there is no validation set\n57:    if has_val:\n58:        assert not args.gen_val\n59:\n60:    tr_data = load_and_cache_text(args, tokenizer, logger, tag='train')\n61:\n62:    if has_val:  # original validation set available\n63:        val_data = load_and_cache_text(args, tokenizer, logger, tag='validation')\n64:    elif args.gen_val:  # create validation set using the training set\n65:        val_indices_path = os.path.join(args.data_root, args.dataset, 'val_indices', f'{args.dataset}_val_indices.pickle')\n66:        with open(val_indices_path, 'rb') as handle:\n67:            val_indices = pickle.load(handle)\n68:\n69:        val_mask = np.zeros(len(tr_data['labels']), dtype=bool)\n70:        val_mask[val_indices] = True\n71:\n72:        val_features = {k: v[val_mask] for k,v in tr_data['features'].items()}\n73:        val_labels = tr_data['labels'][val_mask]\n74:        val_text  = np.array(tr_data['text'])[val_mask]\n75:\n76:        train_features = {k: v[~val_mask] for k,v in tr_data['features'].items()}\n77:        train_labels = tr_data['labels'][~val_mask]\n78:        train_text  = np.array(tr_data['text'])[~val_mask]\n79:\n80:        val_data = {\"features\": val_features, \"labels\": val_labels, \"text\": val_text}\n81:        tr_data = {\"features\": train_features, \"labels\": train_labels, \"text\": train_text}\n82:\n83:    else:\n84:        raise ValueError(\"we need a validation set, set gen_val to True to extract\"\n85:                         \"a subset from the training data as validation data\")\n86:\n87:    return tr_data, val_data\n88:\n89:def get_clean_and_noisy_data_by_tag(args, logger, tokenizer, num_classes, tag):\n90:    noisy_data_tag = f'{tag}_clean'\n91:\n92:    #get text data with noisy labels\n93:    clean_noisy_data = load_and_cache_text(args, tokenizer, logger, tag=noisy_data_tag)\n94:\n95:    #get the clean training and the clean validation sets\n96:    txt_data_dir = os.path.join(args.data_root, args.dataset, 'txt_data')\n97:    input_path = os.path.join(txt_data_dir, f'{tag}_clean_noisy_labels.pickle')\n98:    noisy_labels = load_pickle_data(input_path)\n99:\n100:    td = TextBertRealDataset(args, clean_noisy_data, noisy_labels, tokenizer, num_classes)\n(96 more lines below)\n"
      ]
     },
     "execution_count": null,
     "metadata": {},
     "output_type": "execute_result"
    }
   ],
   "source": [
    "open loading_utils.py"
   ]
  },
  {
   "cell_type": "markdown",
   "id": "6893500f",
   "metadata": {},
   "source": [
    "### Step 31"
   ]
  },
  {
   "cell_type": "markdown",
   "id": "9e3b803e",
   "metadata": {},
   "source": [
    "Execution Start time: 05:39:12, End time: 05:39:13 (duration: 0 seconds)"
   ]
  },
  {
   "cell_type": "markdown",
   "id": "f8704866",
   "metadata": {},
   "source": [
    "**Thought**: The path construction issue is in the `get_clean_and_noisy_data_by_tag` function, where it constructs the path using `args.data_root` and `args.dataset`. I need to adjust this to ensure it points to the correct directory. Let's edit the `loading_utils.py` file to fix this path issue.\n"
   ]
  },
  {
   "cell_type": "markdown",
   "id": "09c3aed8",
   "metadata": {},
   "source": [
    "**Action (edit)**:"
   ]
  },
  {
   "cell_type": "code",
   "execution_count": null,
   "id": "2df7a1d3",
   "metadata": {},
   "outputs": [
    {
     "data": {
      "text/plain": [
       "[File: /content/BERT-LNL/loading_utils.py (196 lines total)]\n(45 more lines above)\n46:    u_set = None\n47:\n48:    label_mapping_data_dir = os.path.join(args.data_root, args.dataset, 'txt_data')\n49:    l2id = utils.pickle_load(os.path.join(label_mapping_data_dir, 'l2idx.pickle'))\n50:    id2l = utils.pickle_load(os.path.join(label_mapping_data_dir, 'idx2l.pickle'))\n51:\n52:    return n_set, u_set, v_set, t_set, l2id, id2l\n53:\n54:\n55:def get_training_validation_set(args, logger, tokenizer, r_state, has_val, num_classes):\n56:    # sanity check: args.gen_val is used when there is no validation set\n57:    if has_val:\n58:        assert not args.gen_val\n59:\n60:    tr_data = load_and_cache_text(args, tokenizer, logger, tag='train')\n61:\n62:    if has_val:  # original validation set available\n63:        val_data = load_and_cache_text(args, tokenizer, logger, tag='validation')\n64:    elif args.gen_val:  # create validation set using the training set\n65:        val_indices_path = os.path.join(args.data_root, args.dataset, 'val_indices', f'{args.dataset}_val_indices.pickle')\n66:        with open(val_indices_path, 'rb') as handle:\n67:            val_indices = pickle.load(handle)\n68:\n69:        val_mask = np.zeros(len(tr_data['labels']), dtype=bool)\n70:        val_mask[val_indices] = True\n71:\n72:        val_features = {k: v[val_mask] for k,v in tr_data['features'].items()}\n73:        val_labels = tr_data['labels'][val_mask]\n74:        val_text  = np.array(tr_data['text'])[val_mask]\n75:\n76:        train_features = {k: v[~val_mask] for k,v in tr_data['features'].items()}\n77:        train_labels = tr_data['labels'][~val_mask]\n78:        train_text  = np.array(tr_data['text'])[~val_mask]\n79:\n80:        val_data = {\"features\": val_features, \"labels\": val_labels, \"text\": val_text}\n81:        tr_data = {\"features\": train_features, \"labels\": train_labels, \"text\": train_text}\n82:\n83:    else:\n84:        raise ValueError(\"we need a validation set, set gen_val to True to extract\"\n85:                         \"a subset from the training data as validation data\")\n86:\n87:    return tr_data, val_data\n88:\n89:def get_clean_and_noisy_data_by_tag(args, logger, tokenizer, num_classes, tag):\n90:    noisy_data_tag = f'{tag}_clean'\n91:\n92:    #get text data with noisy labels\n93:    clean_noisy_data = load_and_cache_text(args, tokenizer, logger, tag=noisy_data_tag)\n94:\n95:    #get the clean training and the clean validation sets\n96:    txt_data_dir = os.path.join(args.data_root, 'txt_data')\n97:    input_path = os.path.join(txt_data_dir, f'{tag}_clean_noisy_labels.pickle')\n98:    noisy_labels = load_pickle_data(input_path)\n99:\n100:    td = TextBertRealDataset(args, clean_noisy_data, noisy_labels, tokenizer, num_classes)\n101:    return td\n102:\n103:\n104:\n105:def load_and_cache_text(args, tokenizer, logger, tag):\n106:    cached_features_dir = os.path.join(args.data_root, args.dataset, 'bert_preprocessed') # cache dir (output dir)\n107:    txt_data_dir = os.path.join(args.data_root, args.dataset, 'txt_data') # input file dir\n108:\n109:    if not os.path.exists(cached_features_dir):\n110:        os.makedirs(cached_features_dir)\n111:\n112:    cached_features_path = os.path.join(cached_features_dir,\n113:                                        f'{tag}_trun_{args.truncate_mode}_maxl_{args.max_sen_len}')\n114:    input_path = os.path.join(txt_data_dir, f'{tag}.txt')\n115:\n116:    docs = read_txt(input_path)\n117:\n118:    if os.path.exists(cached_features_path):\n119:        logger.info(f'[Loading and Caching] loading from cache...')\n120:        features = torch.load(cached_features_path)\n121:    else:\n122:        logger.info(f'[Loading and Caching] number of documents = {len(docs)}')\n123:        logger.info(f'[Loading and Caching] convert text to features...')\n124:        features = get_input_features(docs, tokenizer, args)\n125:        logger.info(\"[Loading and Caching] saving/caching the features...\")\n126:        torch.save(features, cached_features_path)\n127:        logger.info(\"[Loading and Caching] saved\")\n128:\n129:    logger.info(f'[Loading and Caching] loading labels...')\n130:    input_path = os.path.join(txt_data_dir, f'{tag}_labels.pickle')\n131:    with open(input_path, 'rb') as handle:\n132:        labels = np.array(pickle.load(handle))\n133:\n134:    return {\"features\": features, \"labels\": labels, \"text\": docs}\n135:\n136:\n137:\n138:\n139:def load_tokenizer(args):\n140:    tokenizer = AutoTokenizer.from_pretrained(args.model_name)\n141:    return tokenizer\n142:\n143:\n144:def load_pickle_data(path):\n145:    with open(path, 'rb') as handle:\n(51 more lines below)\nFile updated. Please review the changes and make sure they are correct (correct indentation, no duplicate lines, etc). Edit the file again if necessary.\n"
      ]
     },
     "execution_count": null,
     "metadata": {},
     "output_type": "execute_result"
    }
   ],
   "source": [
    "edit 96:96\n",
    "    txt_data_dir = os.path.join(args.data_root, 'txt_data')\n",
    "end_of_edit"
   ]
  },
  {
   "cell_type": "markdown",
   "id": "8bff3f28",
   "metadata": {},
   "source": [
    "### Step 32"
   ]
  },
  {
   "cell_type": "markdown",
   "id": "0d806f0f",
   "metadata": {},
   "source": [
    "Execution Start time: 05:39:15, End time: 05:39:19 (duration: 3 seconds)"
   ]
  },
  {
   "cell_type": "markdown",
   "id": "a17a532e",
   "metadata": {},
   "source": [
    "**Thought**: I have updated the path construction in the `loading_utils.py` file to ensure it points to the correct directory. Now, let's try running the training command again to see if the issue is resolved.\n"
   ]
  },
  {
   "cell_type": "markdown",
   "id": "9d95bb9c",
   "metadata": {},
   "source": [
    "**Action (None)**:"
   ]
  },
  {
   "cell_type": "code",
   "execution_count": null,
   "id": "9ccdc20b",
   "metadata": {},
   "outputs": [
    {
     "data": {
      "text/plain": [
       "INFO Training started\nINFO log dir: 08_22_05_39_19_sflip_nle0.2_nlb8\nINFO loading AG_News...\n/usr/local/lib/python3.10/site-packages/huggingface_hub/file_download.py:1132: FutureWarning: `resume_download` is deprecated and will be removed in version 1.0.0. Downloads always resume when possible. If you want to force a new download, use `force_download=True`.\n  warnings.warn(\nTraceback (most recent call last):\n  File \"/content/BERT-LNL/main.py\", line 163, in <module>\n    main()\n  File \"/content/BERT-LNL/main.py\", line 145, in main\n    nl_set, ul_set, v_set, t_set, l2id, id2l = prepare_data(args, logger, r_state, num_classes, has_val, has_ul)\n  File \"/content/BERT-LNL/loading_utils.py\", line 18, in prepare_data\n    tr_data, val_data = get_training_validation_set(args, logger, tokenizer, r_state, has_val, num_classes)\n  File \"/content/BERT-LNL/loading_utils.py\", line 60, in get_training_validation_set\n    tr_data = load_and_cache_text(args, tokenizer, logger, tag='train')\n  File \"/content/BERT-LNL/loading_utils.py\", line 116, in load_and_cache_text\n    docs = read_txt(input_path)\n  File \"/content/BERT-LNL/loading_utils.py\", line 153, in read_txt\n    with open(file_path, 'r', encoding='utf-8') as f:\nFileNotFoundError: [Errno 2] No such file or directory: 'data/AG_News/AG_News/txt_data/train.txt'\n"
      ]
     },
     "execution_count": null,
     "metadata": {},
     "output_type": "execute_result"
    }
   ],
   "source": [
    "!python3 main.py --num_training_steps 5 --dataset AG_News --data_root data/AG_News --noise_type sflip --noise_level 0.2 --model_name bert-base-uncased --nl_batch_size 8 --eval_batch_size 8 --lr 2e-5 --max_sen_len 128 --manualSeed 42"
   ]
  },
  {
   "cell_type": "markdown",
   "id": "181503ab",
   "metadata": {},
   "source": [
    "### Step 33"
   ]
  },
  {
   "cell_type": "markdown",
   "id": "337fe459",
   "metadata": {},
   "source": [
    "Execution Start time: 05:39:21, End time: 05:39:22 (duration: 0 seconds)"
   ]
  },
  {
   "cell_type": "markdown",
   "id": "147f92cc",
   "metadata": {},
   "source": [
    "**Thought**: It seems there is still an issue with the path construction. The script is looking for the file in `data/AG_News/AG_News/txt_data/train.txt`, which is incorrect. I need to ensure that the path is correctly set to `data/AG_News/txt_data/train.txt`. Let's further investigate and correct the path issue in the `loading_utils.py` file.\n"
   ]
  },
  {
   "cell_type": "markdown",
   "id": "2497cbcc",
   "metadata": {},
   "source": [
    "**Action (open)**:"
   ]
  },
  {
   "cell_type": "code",
   "execution_count": null,
   "id": "4307fee7",
   "metadata": {},
   "outputs": [
    {
     "data": {
      "text/plain": [
       "[File: /content/BERT-LNL/loading_utils.py (196 lines total)]\n1:import os\n2:import copy\n3:import numpy as np\n4:import pickle\n5:import torch\n6:import wandb\n7:from tqdm import tqdm\n8:from text_dataset import TextBertDataset, TextBertRealDataset\n9:from transformers import AutoTokenizer\n10:from transformers import BertTokenizerFast, BertTokenizer\n11:import utils\n12:\n13:\n14:def prepare_data(args, logger, r_state, num_classes, has_val, has_ul):\n15:    # used for experiments with injected noise\n16:\n17:    tokenizer = load_tokenizer(args)\n18:    tr_data, val_data = get_training_validation_set(args, logger, tokenizer, r_state, has_val, num_classes)\n19:    test_data = load_and_cache_text(args, tokenizer, logger, tag='test')\n20:\n21:    n_set = TextBertDataset(args, tr_data, tokenizer, r_state, num_classes, make_noisy=True)\n22:    v_set = TextBertDataset(args, val_data, tokenizer, r_state, num_classes, make_noisy=True)\n23:    t_set = TextBertDataset(args, test_data, tokenizer, r_state, num_classes, make_noisy=False)\n24:\n25:    n_set_noisy_labels = copy.deepcopy(n_set.noisy_labels)\n26:    v_set_noisy_labels = copy.deepcopy(v_set.noisy_labels)\n27:    n_set_noisy_labels_hash = hash(tuple(n_set_noisy_labels))\n28:    v_set_noisy_labels_hash = hash(tuple(v_set_noisy_labels))\n29:    # wandb.run.summary[\"train_n_hash\"] = n_set_noisy_labels_hash\n30:    # wandb.run.summary[\"val_n_hash\"] = v_set_noisy_labels_hash\n31:\n32:    u_set = None\n33:    l2id = None\n34:    id2l = None\n35:\n36:    return n_set, u_set, v_set, t_set, l2id, id2l\n37:\n38:\n39:def prepare_af_data(args, logger, num_classes, has_ul):\n40:    tokenizer = load_tokenizer(args)\n41:    n_set = get_clean_and_noisy_data_by_tag(args, logger, tokenizer, num_classes, tag='train')\n42:    v_set = get_clean_and_noisy_data_by_tag(args, logger, tokenizer, num_classes, tag='validation')\n43:    t_set = get_clean_and_noisy_data_by_tag(args, logger, tokenizer, num_classes, tag='test')\n44:\n45:    assert not has_ul  # we do not have unlabeled data in Yoruba and Hausa dataset\n46:    u_set = None\n47:\n48:    label_mapping_data_dir = os.path.join(args.data_root, args.dataset, 'txt_data')\n49:    l2id = utils.pickle_load(os.path.join(label_mapping_data_dir, 'l2idx.pickle'))\n50:    id2l = utils.pickle_load(os.path.join(label_mapping_data_dir, 'idx2l.pickle'))\n51:\n52:    return n_set, u_set, v_set, t_set, l2id, id2l\n53:\n54:\n55:def get_training_validation_set(args, logger, tokenizer, r_state, has_val, num_classes):\n56:    # sanity check: args.gen_val is used when there is no validation set\n57:    if has_val:\n58:        assert not args.gen_val\n59:\n60:    tr_data = load_and_cache_text(args, tokenizer, logger, tag='train')\n61:\n62:    if has_val:  # original validation set available\n63:        val_data = load_and_cache_text(args, tokenizer, logger, tag='validation')\n64:    elif args.gen_val:  # create validation set using the training set\n65:        val_indices_path = os.path.join(args.data_root, args.dataset, 'val_indices', f'{args.dataset}_val_indices.pickle')\n66:        with open(val_indices_path, 'rb') as handle:\n67:            val_indices = pickle.load(handle)\n68:\n69:        val_mask = np.zeros(len(tr_data['labels']), dtype=bool)\n70:        val_mask[val_indices] = True\n71:\n72:        val_features = {k: v[val_mask] for k,v in tr_data['features'].items()}\n73:        val_labels = tr_data['labels'][val_mask]\n74:        val_text  = np.array(tr_data['text'])[val_mask]\n75:\n76:        train_features = {k: v[~val_mask] for k,v in tr_data['features'].items()}\n77:        train_labels = tr_data['labels'][~val_mask]\n78:        train_text  = np.array(tr_data['text'])[~val_mask]\n79:\n80:        val_data = {\"features\": val_features, \"labels\": val_labels, \"text\": val_text}\n81:        tr_data = {\"features\": train_features, \"labels\": train_labels, \"text\": train_text}\n82:\n83:    else:\n84:        raise ValueError(\"we need a validation set, set gen_val to True to extract\"\n85:                         \"a subset from the training data as validation data\")\n86:\n87:    return tr_data, val_data\n88:\n89:def get_clean_and_noisy_data_by_tag(args, logger, tokenizer, num_classes, tag):\n90:    noisy_data_tag = f'{tag}_clean'\n91:\n92:    #get text data with noisy labels\n93:    clean_noisy_data = load_and_cache_text(args, tokenizer, logger, tag=noisy_data_tag)\n94:\n95:    #get the clean training and the clean validation sets\n96:    txt_data_dir = os.path.join(args.data_root, 'txt_data')\n97:    input_path = os.path.join(txt_data_dir, f'{tag}_clean_noisy_labels.pickle')\n98:    noisy_labels = load_pickle_data(input_path)\n99:\n100:    td = TextBertRealDataset(args, clean_noisy_data, noisy_labels, tokenizer, num_classes)\n(96 more lines below)\n"
      ]
     },
     "execution_count": null,
     "metadata": {},
     "output_type": "execute_result"
    }
   ],
   "source": [
    "open loading_utils.py"
   ]
  },
  {
   "cell_type": "markdown",
   "id": "a2441bb0",
   "metadata": {},
   "source": [
    "### Step 34"
   ]
  },
  {
   "cell_type": "markdown",
   "id": "5f197987",
   "metadata": {},
   "source": [
    "Execution Start time: 05:39:25, End time: 05:39:26 (duration: 0 seconds)"
   ]
  },
  {
   "cell_type": "markdown",
   "id": "4b9f9c5f",
   "metadata": {},
   "source": [
    "**Thought**: The path construction issue seems to be due to the way the dataset path is constructed in the `get_clean_and_noisy_data_by_tag` function. I need to ensure that the `data_root` and `dataset` arguments are correctly set to point to the right directory. Let's adjust the command to ensure the correct paths are used.\n"
   ]
  },
  {
   "cell_type": "markdown",
   "id": "66cd7391",
   "metadata": {},
   "source": [
    "**Action (edit)**:"
   ]
  },
  {
   "cell_type": "code",
   "execution_count": null,
   "id": "5980018d",
   "metadata": {},
   "outputs": [
    {
     "data": {
      "text/plain": [
       "[File: /content/BERT-LNL/loading_utils.py (196 lines total)]\n1:import os\n2:import copy\n3:import numpy as np\n4:import pickle\n5:import torch\n6:import wandb\n7:from tqdm import tqdm\n8:from text_dataset import TextBertDataset, TextBertRealDataset\n9:from transformers import AutoTokenizer\n10:from transformers import BertTokenizerFast, BertTokenizer\n11:import utils\n12:\n13:\n14:def prepare_data(args, logger, r_state, num_classes, has_val, has_ul):\n15:    # used for experiments with injected noise\n16:\n17:    tokenizer = load_tokenizer(args)\n18:    tr_data, val_data = get_training_validation_set(args, logger, tokenizer, r_state, has_val, num_classes)\n19:    test_data = load_and_cache_text(args, tokenizer, logger, tag='test')\n20:\n21:    n_set = TextBertDataset(args, tr_data, tokenizer, r_state, num_classes, make_noisy=True)\n22:    v_set = TextBertDataset(args, val_data, tokenizer, r_state, num_classes, make_noisy=True)\n23:    t_set = TextBertDataset(args, test_data, tokenizer, r_state, num_classes, make_noisy=False)\n24:\n25:    n_set_noisy_labels = copy.deepcopy(n_set.noisy_labels)\n26:    v_set_noisy_labels = copy.deepcopy(v_set.noisy_labels)\n27:    n_set_noisy_labels_hash = hash(tuple(n_set_noisy_labels))\n28:    v_set_noisy_labels_hash = hash(tuple(v_set_noisy_labels))\n29:    # wandb.run.summary[\"train_n_hash\"] = n_set_noisy_labels_hash\n30:    # wandb.run.summary[\"val_n_hash\"] = v_set_noisy_labels_hash\n31:\n32:    u_set = None\n33:    l2id = None\n34:    id2l = None\n35:\n36:    return n_set, u_set, v_set, t_set, l2id, id2l\n37:\n38:\n39:def prepare_af_data(args, logger, num_classes, has_ul):\n40:    tokenizer = load_tokenizer(args)\n41:    n_set = get_clean_and_noisy_data_by_tag(args, logger, tokenizer, num_classes, tag='train')\n42:    v_set = get_clean_and_noisy_data_by_tag(args, logger, tokenizer, num_classes, tag='validation')\n43:    t_set = get_clean_and_noisy_data_by_tag(args, logger, tokenizer, num_classes, tag='test')\n44:\n45:    assert not has_ul  # we do not have unlabeled data in Yoruba and Hausa dataset\n46:    u_set = None\n47:\n48:    label_mapping_data_dir = os.path.join(args.data_root, 'txt_data')\n49:    l2id = utils.pickle_load(os.path.join(label_mapping_data_dir, 'l2idx.pickle'))\n50:    id2l = utils.pickle_load(os.path.join(label_mapping_data_dir, 'idx2l.pickle'))\n51:\n52:    return n_set, u_set, v_set, t_set, l2id, id2l\n53:\n54:\n55:def get_training_validation_set(args, logger, tokenizer, r_state, has_val, num_classes):\n56:    # sanity check: args.gen_val is used when there is no validation set\n57:    if has_val:\n58:        assert not args.gen_val\n59:\n60:    tr_data = load_and_cache_text(args, tokenizer, logger, tag='train')\n61:\n62:    if has_val:  # original validation set available\n63:        val_data = load_and_cache_text(args, tokenizer, logger, tag='validation')\n64:    elif args.gen_val:  # create validation set using the training set\n65:        val_indices_path = os.path.join(args.data_root, args.dataset, 'val_indices', f'{args.dataset}_val_indices.pickle')\n66:        with open(val_indices_path, 'rb') as handle:\n67:            val_indices = pickle.load(handle)\n68:\n69:        val_mask = np.zeros(len(tr_data['labels']), dtype=bool)\n70:        val_mask[val_indices] = True\n71:\n72:        val_features = {k: v[val_mask] for k,v in tr_data['features'].items()}\n73:        val_labels = tr_data['labels'][val_mask]\n74:        val_text  = np.array(tr_data['text'])[val_mask]\n75:\n76:        train_features = {k: v[~val_mask] for k,v in tr_data['features'].items()}\n77:        train_labels = tr_data['labels'][~val_mask]\n78:        train_text  = np.array(tr_data['text'])[~val_mask]\n79:\n80:        val_data = {\"features\": val_features, \"labels\": val_labels, \"text\": val_text}\n81:        tr_data = {\"features\": train_features, \"labels\": train_labels, \"text\": train_text}\n82:\n83:    else:\n84:        raise ValueError(\"we need a validation set, set gen_val to True to extract\"\n85:                         \"a subset from the training data as validation data\")\n86:\n87:    return tr_data, val_data\n88:\n89:def get_clean_and_noisy_data_by_tag(args, logger, tokenizer, num_classes, tag):\n90:    noisy_data_tag = f'{tag}_clean'\n91:\n92:    #get text data with noisy labels\n93:    clean_noisy_data = load_and_cache_text(args, tokenizer, logger, tag=noisy_data_tag)\n94:\n95:    #get the clean training and the clean validation sets\n96:    txt_data_dir = os.path.join(args.data_root, 'txt_data')\n97:    input_path = os.path.join(txt_data_dir, f'{tag}_clean_noisy_labels.pickle')\n98:    noisy_labels = load_pickle_data(input_path)\n99:\n100:    td = TextBertRealDataset(args, clean_noisy_data, noisy_labels, tokenizer, num_classes)\n(96 more lines below)\nFile updated. Please review the changes and make sure they are correct (correct indentation, no duplicate lines, etc). Edit the file again if necessary.\n"
      ]
     },
     "execution_count": null,
     "metadata": {},
     "output_type": "execute_result"
    }
   ],
   "source": [
    "edit 48:48\n",
    "    label_mapping_data_dir = os.path.join(args.data_root, 'txt_data')\n",
    "end_of_edit"
   ]
  },
  {
   "cell_type": "markdown",
   "id": "e30e588a",
   "metadata": {},
   "source": [
    "### Step 35"
   ]
  },
  {
   "cell_type": "markdown",
   "id": "058b781a",
   "metadata": {},
   "source": [
    "Execution Start time: 05:39:29, End time: 05:39:33 (duration: 3 seconds)"
   ]
  },
  {
   "cell_type": "markdown",
   "id": "cea3fea7",
   "metadata": {},
   "source": [
    "**Thought**: I have updated the path construction in the `loading_utils.py` file to ensure it points to the correct directory. Now, let's try running the training command again to see if the issue is resolved.\n"
   ]
  },
  {
   "cell_type": "markdown",
   "id": "43313908",
   "metadata": {},
   "source": [
    "**Action (None)**:"
   ]
  },
  {
   "cell_type": "code",
   "execution_count": null,
   "id": "a64d6ad2",
   "metadata": {},
   "outputs": [
    {
     "data": {
      "text/plain": [
       "INFO Training started\nINFO log dir: 08_22_05_39_32_sflip_nle0.2_nlb8\nINFO loading AG_News...\n/usr/local/lib/python3.10/site-packages/huggingface_hub/file_download.py:1132: FutureWarning: `resume_download` is deprecated and will be removed in version 1.0.0. Downloads always resume when possible. If you want to force a new download, use `force_download=True`.\n  warnings.warn(\nTraceback (most recent call last):\n  File \"/content/BERT-LNL/main.py\", line 163, in <module>\n    main()\n  File \"/content/BERT-LNL/main.py\", line 145, in main\n    nl_set, ul_set, v_set, t_set, l2id, id2l = prepare_data(args, logger, r_state, num_classes, has_val, has_ul)\n  File \"/content/BERT-LNL/loading_utils.py\", line 18, in prepare_data\n    tr_data, val_data = get_training_validation_set(args, logger, tokenizer, r_state, has_val, num_classes)\n  File \"/content/BERT-LNL/loading_utils.py\", line 60, in get_training_validation_set\n    tr_data = load_and_cache_text(args, tokenizer, logger, tag='train')\n  File \"/content/BERT-LNL/loading_utils.py\", line 116, in load_and_cache_text\n    docs = read_txt(input_path)\n  File \"/content/BERT-LNL/loading_utils.py\", line 153, in read_txt\n    with open(file_path, 'r', encoding='utf-8') as f:\nFileNotFoundError: [Errno 2] No such file or directory: 'data/AG_News/AG_News/txt_data/train.txt'\n"
      ]
     },
     "execution_count": null,
     "metadata": {},
     "output_type": "execute_result"
    }
   ],
   "source": [
    "!python3 main.py --num_training_steps 5 --dataset AG_News --data_root data/AG_News --noise_type sflip --noise_level 0.2 --model_name bert-base-uncased --nl_batch_size 8 --eval_batch_size 8 --lr 2e-5 --max_sen_len 128 --manualSeed 42"
   ]
  },
  {
   "cell_type": "markdown",
   "id": "39d45dd0",
   "metadata": {},
   "source": [
    "### Step 36"
   ]
  },
  {
   "cell_type": "markdown",
   "id": "e86f7332",
   "metadata": {},
   "source": [
    "Execution Start time: 05:39:34, End time: 05:39:34 (duration: 0 seconds)"
   ]
  },
  {
   "cell_type": "markdown",
   "id": "186d6960",
   "metadata": {},
   "source": [
    "**Thought**: The error persists, indicating that the script is still looking for the file in `data/AG_News/AG_News/txt_data/train.txt`. It seems there might be another part of the code that constructs the path incorrectly. Let's search for any other instances in the `loading_utils.py` file where paths are constructed and ensure they are correct.\n"
   ]
  },
  {
   "cell_type": "markdown",
   "id": "c217f611",
   "metadata": {},
   "source": [
    "**Action (search_file)**:"
   ]
  },
  {
   "cell_type": "code",
   "execution_count": null,
   "id": "3cafac02",
   "metadata": {},
   "outputs": [
    {
     "data": {
      "text/plain": [
       "Found 11 matches for \"os.path.join\" in /content/BERT-LNL/loading_utils.py:\nLine 48:    label_mapping_data_dir = os.path.join(args.data_root, 'txt_data')\nLine 49:    l2id = utils.pickle_load(os.path.join(label_mapping_data_dir, 'l2idx.pickle'))\nLine 50:    id2l = utils.pickle_load(os.path.join(label_mapping_data_dir, 'idx2l.pickle'))\nLine 65:        val_indices_path = os.path.join(args.data_root, args.dataset, 'val_indices', f'{args.dataset}_val_indices.pickle')\nLine 96:    txt_data_dir = os.path.join(args.data_root, 'txt_data')\nLine 97:    input_path = os.path.join(txt_data_dir, f'{tag}_clean_noisy_labels.pickle')\nLine 106:    cached_features_dir = os.path.join(args.data_root, args.dataset, 'bert_preprocessed') # cache dir (output dir)\nLine 107:    txt_data_dir = os.path.join(args.data_root, args.dataset, 'txt_data') # input file dir\nLine 112:    cached_features_path = os.path.join(cached_features_dir,\nLine 114:    input_path = os.path.join(txt_data_dir, f'{tag}.txt')\nLine 130:    input_path = os.path.join(txt_data_dir, f'{tag}_labels.pickle')\nEnd of matches for \"os.path.join\" in /content/BERT-LNL/loading_utils.py\n"
      ]
     },
     "execution_count": null,
     "metadata": {},
     "output_type": "execute_result"
    }
   ],
   "source": [
    "search_file os.path.join loading_utils.py"
   ]
  },
  {
   "cell_type": "markdown",
   "id": "fb7c5c98",
   "metadata": {},
   "source": [
    "### Step 37"
   ]
  },
  {
   "cell_type": "markdown",
   "id": "e997636d",
   "metadata": {},
   "source": [
    "Execution Start time: 05:39:37, End time: 05:39:37 (duration: 0 seconds)"
   ]
  },
  {
   "cell_type": "markdown",
   "id": "ea561fc5",
   "metadata": {},
   "source": [
    "**Thought**: The incorrect path construction seems to be happening at lines 65, 106, and 107. I need to ensure these paths are correctly set to point to the right directories. Let's edit the `loading_utils.py` file to fix these path issues.\n"
   ]
  },
  {
   "cell_type": "markdown",
   "id": "202003b4",
   "metadata": {},
   "source": [
    "**Action (edit)**:"
   ]
  },
  {
   "cell_type": "code",
   "execution_count": null,
   "id": "701e8cf4",
   "metadata": {},
   "outputs": [
    {
     "data": {
      "text/plain": [
       "[File: /content/BERT-LNL/loading_utils.py (196 lines total)]\n(14 more lines above)\n15:    # used for experiments with injected noise\n16:\n17:    tokenizer = load_tokenizer(args)\n18:    tr_data, val_data = get_training_validation_set(args, logger, tokenizer, r_state, has_val, num_classes)\n19:    test_data = load_and_cache_text(args, tokenizer, logger, tag='test')\n20:\n21:    n_set = TextBertDataset(args, tr_data, tokenizer, r_state, num_classes, make_noisy=True)\n22:    v_set = TextBertDataset(args, val_data, tokenizer, r_state, num_classes, make_noisy=True)\n23:    t_set = TextBertDataset(args, test_data, tokenizer, r_state, num_classes, make_noisy=False)\n24:\n25:    n_set_noisy_labels = copy.deepcopy(n_set.noisy_labels)\n26:    v_set_noisy_labels = copy.deepcopy(v_set.noisy_labels)\n27:    n_set_noisy_labels_hash = hash(tuple(n_set_noisy_labels))\n28:    v_set_noisy_labels_hash = hash(tuple(v_set_noisy_labels))\n29:    # wandb.run.summary[\"train_n_hash\"] = n_set_noisy_labels_hash\n30:    # wandb.run.summary[\"val_n_hash\"] = v_set_noisy_labels_hash\n31:\n32:    u_set = None\n33:    l2id = None\n34:    id2l = None\n35:\n36:    return n_set, u_set, v_set, t_set, l2id, id2l\n37:\n38:\n39:def prepare_af_data(args, logger, num_classes, has_ul):\n40:    tokenizer = load_tokenizer(args)\n41:    n_set = get_clean_and_noisy_data_by_tag(args, logger, tokenizer, num_classes, tag='train')\n42:    v_set = get_clean_and_noisy_data_by_tag(args, logger, tokenizer, num_classes, tag='validation')\n43:    t_set = get_clean_and_noisy_data_by_tag(args, logger, tokenizer, num_classes, tag='test')\n44:\n45:    assert not has_ul  # we do not have unlabeled data in Yoruba and Hausa dataset\n46:    u_set = None\n47:\n48:    label_mapping_data_dir = os.path.join(args.data_root, 'txt_data')\n49:    l2id = utils.pickle_load(os.path.join(label_mapping_data_dir, 'l2idx.pickle'))\n50:    id2l = utils.pickle_load(os.path.join(label_mapping_data_dir, 'idx2l.pickle'))\n51:\n52:    return n_set, u_set, v_set, t_set, l2id, id2l\n53:\n54:\n55:def get_training_validation_set(args, logger, tokenizer, r_state, has_val, num_classes):\n56:    # sanity check: args.gen_val is used when there is no validation set\n57:    if has_val:\n58:        assert not args.gen_val\n59:\n60:    tr_data = load_and_cache_text(args, tokenizer, logger, tag='train')\n61:\n62:    if has_val:  # original validation set available\n63:        val_data = load_and_cache_text(args, tokenizer, logger, tag='validation')\n64:    elif args.gen_val:  # create validation set using the training set\n65:        val_indices_path = os.path.join(args.data_root, 'val_indices', f'{args.dataset}_val_indices.pickle')\n66:        with open(val_indices_path, 'rb') as handle:\n67:            val_indices = pickle.load(handle)\n68:\n69:        val_mask = np.zeros(len(tr_data['labels']), dtype=bool)\n70:        val_mask[val_indices] = True\n71:\n72:        val_features = {k: v[val_mask] for k,v in tr_data['features'].items()}\n73:        val_labels = tr_data['labels'][val_mask]\n74:        val_text  = np.array(tr_data['text'])[val_mask]\n75:\n76:        train_features = {k: v[~val_mask] for k,v in tr_data['features'].items()}\n77:        train_labels = tr_data['labels'][~val_mask]\n78:        train_text  = np.array(tr_data['text'])[~val_mask]\n79:\n80:        val_data = {\"features\": val_features, \"labels\": val_labels, \"text\": val_text}\n81:        tr_data = {\"features\": train_features, \"labels\": train_labels, \"text\": train_text}\n82:\n83:    else:\n84:        raise ValueError(\"we need a validation set, set gen_val to True to extract\"\n85:                         \"a subset from the training data as validation data\")\n86:\n87:    return tr_data, val_data\n88:\n89:def get_clean_and_noisy_data_by_tag(args, logger, tokenizer, num_classes, tag):\n90:    noisy_data_tag = f'{tag}_clean'\n91:\n92:    #get text data with noisy labels\n93:    clean_noisy_data = load_and_cache_text(args, tokenizer, logger, tag=noisy_data_tag)\n94:\n95:    #get the clean training and the clean validation sets\n96:    txt_data_dir = os.path.join(args.data_root, 'txt_data')\n97:    input_path = os.path.join(txt_data_dir, f'{tag}_clean_noisy_labels.pickle')\n98:    noisy_labels = load_pickle_data(input_path)\n99:\n100:    td = TextBertRealDataset(args, clean_noisy_data, noisy_labels, tokenizer, num_classes)\n101:    return td\n102:\n103:\n104:\n105:def load_and_cache_text(args, tokenizer, logger, tag):\n106:    cached_features_dir = os.path.join(args.data_root, args.dataset, 'bert_preprocessed') # cache dir (output dir)\n107:    txt_data_dir = os.path.join(args.data_root, args.dataset, 'txt_data') # input file dir\n108:\n109:    if not os.path.exists(cached_features_dir):\n110:        os.makedirs(cached_features_dir)\n111:\n112:    cached_features_path = os.path.join(cached_features_dir,\n113:                                        f'{tag}_trun_{args.truncate_mode}_maxl_{args.max_sen_len}')\n114:    input_path = os.path.join(txt_data_dir, f'{tag}.txt')\n(82 more lines below)\nFile updated. Please review the changes and make sure they are correct (correct indentation, no duplicate lines, etc). Edit the file again if necessary.\n"
      ]
     },
     "execution_count": null,
     "metadata": {},
     "output_type": "execute_result"
    }
   ],
   "source": [
    "edit 65:65\n",
    "        val_indices_path = os.path.join(args.data_root, 'val_indices', f'{args.dataset}_val_indices.pickle')\n",
    "end_of_edit"
   ]
  },
  {
   "cell_type": "markdown",
   "id": "c5bf2d07",
   "metadata": {},
   "source": [
    "### Step 38"
   ]
  },
  {
   "cell_type": "markdown",
   "id": "3ab6ff48",
   "metadata": {},
   "source": [
    "Execution Start time: 05:39:39, End time: 05:39:43 (duration: 3 seconds)"
   ]
  },
  {
   "cell_type": "markdown",
   "id": "f336bf64",
   "metadata": {},
   "source": [
    "**Thought**: I have updated the path construction in the `loading_utils.py` file to ensure it points to the correct directory. Now, let's try running the training command again to see if the issue is resolved.\n"
   ]
  },
  {
   "cell_type": "markdown",
   "id": "daa6ed52",
   "metadata": {},
   "source": [
    "**Action (None)**:"
   ]
  },
  {
   "cell_type": "code",
   "execution_count": null,
   "id": "053f561e",
   "metadata": {},
   "outputs": [
    {
     "data": {
      "text/plain": [
       "INFO Training started\nINFO log dir: 08_22_05_39_43_sflip_nle0.2_nlb8\nINFO loading AG_News...\n/usr/local/lib/python3.10/site-packages/huggingface_hub/file_download.py:1132: FutureWarning: `resume_download` is deprecated and will be removed in version 1.0.0. Downloads always resume when possible. If you want to force a new download, use `force_download=True`.\n  warnings.warn(\nTraceback (most recent call last):\n  File \"/content/BERT-LNL/main.py\", line 163, in <module>\n    main()\n  File \"/content/BERT-LNL/main.py\", line 145, in main\n    nl_set, ul_set, v_set, t_set, l2id, id2l = prepare_data(args, logger, r_state, num_classes, has_val, has_ul)\n  File \"/content/BERT-LNL/loading_utils.py\", line 18, in prepare_data\n    tr_data, val_data = get_training_validation_set(args, logger, tokenizer, r_state, has_val, num_classes)\n  File \"/content/BERT-LNL/loading_utils.py\", line 60, in get_training_validation_set\n    tr_data = load_and_cache_text(args, tokenizer, logger, tag='train')\n  File \"/content/BERT-LNL/loading_utils.py\", line 116, in load_and_cache_text\n    docs = read_txt(input_path)\n  File \"/content/BERT-LNL/loading_utils.py\", line 153, in read_txt\n    with open(file_path, 'r', encoding='utf-8') as f:\nFileNotFoundError: [Errno 2] No such file or directory: 'data/AG_News/AG_News/txt_data/train.txt'\n"
      ]
     },
     "execution_count": null,
     "metadata": {},
     "output_type": "execute_result"
    }
   ],
   "source": [
    "!python3 main.py --num_training_steps 5 --dataset AG_News --data_root data/AG_News --noise_type sflip --noise_level 0.2 --model_name bert-base-uncased --nl_batch_size 8 --eval_batch_size 8 --lr 2e-5 --max_sen_len 128 --manualSeed 42"
   ]
  },
  {
   "cell_type": "markdown",
   "id": "7212a6f1",
   "metadata": {},
   "source": [
    "### Step 39"
   ]
  },
  {
   "cell_type": "markdown",
   "id": "bf6e9b66",
   "metadata": {},
   "source": [
    "Execution Start time: 05:39:46, End time: 05:39:46 (duration: 0 seconds)"
   ]
  },
  {
   "cell_type": "markdown",
   "id": "6548b5f4",
   "metadata": {},
   "source": [
    "**Thought**: The error persists, indicating that the script is still looking for the file in `data/AG_News/AG_News/txt_data/train.txt`. It seems there might be another part of the code that constructs the path incorrectly. Let's search for any other instances in the `loading_utils.py` file where paths are constructed and ensure they are correct.\n"
   ]
  },
  {
   "cell_type": "markdown",
   "id": "3bb8fd8a",
   "metadata": {},
   "source": [
    "**Action (edit)**:"
   ]
  },
  {
   "cell_type": "code",
   "execution_count": null,
   "id": "f382fc9e",
   "metadata": {},
   "outputs": [
    {
     "data": {
      "text/plain": [
       "[File: /content/BERT-LNL/loading_utils.py (196 lines total)]\n(56 more lines above)\n57:    if has_val:\n58:        assert not args.gen_val\n59:\n60:    tr_data = load_and_cache_text(args, tokenizer, logger, tag='train')\n61:\n62:    if has_val:  # original validation set available\n63:        val_data = load_and_cache_text(args, tokenizer, logger, tag='validation')\n64:    elif args.gen_val:  # create validation set using the training set\n65:        val_indices_path = os.path.join(args.data_root, 'val_indices', f'{args.dataset}_val_indices.pickle')\n66:        with open(val_indices_path, 'rb') as handle:\n67:            val_indices = pickle.load(handle)\n68:\n69:        val_mask = np.zeros(len(tr_data['labels']), dtype=bool)\n70:        val_mask[val_indices] = True\n71:\n72:        val_features = {k: v[val_mask] for k,v in tr_data['features'].items()}\n73:        val_labels = tr_data['labels'][val_mask]\n74:        val_text  = np.array(tr_data['text'])[val_mask]\n75:\n76:        train_features = {k: v[~val_mask] for k,v in tr_data['features'].items()}\n77:        train_labels = tr_data['labels'][~val_mask]\n78:        train_text  = np.array(tr_data['text'])[~val_mask]\n79:\n80:        val_data = {\"features\": val_features, \"labels\": val_labels, \"text\": val_text}\n81:        tr_data = {\"features\": train_features, \"labels\": train_labels, \"text\": train_text}\n82:\n83:    else:\n84:        raise ValueError(\"we need a validation set, set gen_val to True to extract\"\n85:                         \"a subset from the training data as validation data\")\n86:\n87:    return tr_data, val_data\n88:\n89:def get_clean_and_noisy_data_by_tag(args, logger, tokenizer, num_classes, tag):\n90:    noisy_data_tag = f'{tag}_clean'\n91:\n92:    #get text data with noisy labels\n93:    clean_noisy_data = load_and_cache_text(args, tokenizer, logger, tag=noisy_data_tag)\n94:\n95:    #get the clean training and the clean validation sets\n96:    txt_data_dir = os.path.join(args.data_root, 'txt_data')\n97:    input_path = os.path.join(txt_data_dir, f'{tag}_clean_noisy_labels.pickle')\n98:    noisy_labels = load_pickle_data(input_path)\n99:\n100:    td = TextBertRealDataset(args, clean_noisy_data, noisy_labels, tokenizer, num_classes)\n101:    return td\n102:\n103:\n104:\n105:def load_and_cache_text(args, tokenizer, logger, tag):\n106:    cached_features_dir = os.path.join(args.data_root, args.dataset, 'bert_preprocessed') # cache dir (output dir)\n107:    txt_data_dir = os.path.join(args.data_root, 'txt_data') # input file dir\n108:\n109:    if not os.path.exists(cached_features_dir):\n110:        os.makedirs(cached_features_dir)\n111:\n112:    cached_features_path = os.path.join(cached_features_dir,\n113:                                        f'{tag}_trun_{args.truncate_mode}_maxl_{args.max_sen_len}')\n114:    input_path = os.path.join(txt_data_dir, f'{tag}.txt')\n115:\n116:    docs = read_txt(input_path)\n117:\n118:    if os.path.exists(cached_features_path):\n119:        logger.info(f'[Loading and Caching] loading from cache...')\n120:        features = torch.load(cached_features_path)\n121:    else:\n122:        logger.info(f'[Loading and Caching] number of documents = {len(docs)}')\n123:        logger.info(f'[Loading and Caching] convert text to features...')\n124:        features = get_input_features(docs, tokenizer, args)\n125:        logger.info(\"[Loading and Caching] saving/caching the features...\")\n126:        torch.save(features, cached_features_path)\n127:        logger.info(\"[Loading and Caching] saved\")\n128:\n129:    logger.info(f'[Loading and Caching] loading labels...')\n130:    input_path = os.path.join(txt_data_dir, f'{tag}_labels.pickle')\n131:    with open(input_path, 'rb') as handle:\n132:        labels = np.array(pickle.load(handle))\n133:\n134:    return {\"features\": features, \"labels\": labels, \"text\": docs}\n135:\n136:\n137:\n138:\n139:def load_tokenizer(args):\n140:    tokenizer = AutoTokenizer.from_pretrained(args.model_name)\n141:    return tokenizer\n142:\n143:\n144:def load_pickle_data(path):\n145:    with open(path, 'rb') as handle:\n146:        data = pickle.load(handle)\n147:    return data\n148:\n149:\n150:\n151:def read_txt(file_path):\n152:    text_list = []\n153:    with open(file_path, 'r', encoding='utf-8') as f:\n154:        text_list = [line.rstrip('\\n') for line in f]\n155:    return text_list\n156:\n(40 more lines below)\nFile updated. Please review the changes and make sure they are correct (correct indentation, no duplicate lines, etc). Edit the file again if necessary.\n"
      ]
     },
     "execution_count": null,
     "metadata": {},
     "output_type": "execute_result"
    }
   ],
   "source": [
    "edit 107:107\n",
    "    txt_data_dir = os.path.join(args.data_root, 'txt_data') # input file dir\n",
    "end_of_edit"
   ]
  },
  {
   "cell_type": "markdown",
   "id": "505af69e",
   "metadata": {},
   "source": [
    "### Step 40"
   ]
  },
  {
   "cell_type": "markdown",
   "id": "f86223b7",
   "metadata": {},
   "source": [
    "Execution Start time: 05:39:49, End time: 05:39:53 (duration: 3 seconds)"
   ]
  },
  {
   "cell_type": "markdown",
   "id": "89d03b35",
   "metadata": {},
   "source": [
    "**Thought**: I have updated the path construction in the `loading_utils.py` file to ensure it points to the correct directory. Now, let's try running the training command again to see if the issue is resolved.\n"
   ]
  },
  {
   "cell_type": "markdown",
   "id": "e09a35fa",
   "metadata": {},
   "source": [
    "**Action (None)**:"
   ]
  },
  {
   "cell_type": "code",
   "execution_count": null,
   "id": "d353e09d",
   "metadata": {},
   "outputs": [
    {
     "data": {
      "text/plain": [
       "INFO Training started\nINFO log dir: 08_22_05_39_52_sflip_nle0.2_nlb8\nINFO loading AG_News...\n/usr/local/lib/python3.10/site-packages/huggingface_hub/file_download.py:1132: FutureWarning: `resume_download` is deprecated and will be removed in version 1.0.0. Downloads always resume when possible. If you want to force a new download, use `force_download=True`.\n  warnings.warn(\nINFO [Loading and Caching] number of documents = 24\nINFO [Loading and Caching] convert text to features...\n\nconvert docs to tensors:   0%|                           | 0/24 [00:00<?, ?it/s]\nconvert docs to tensors: 100%|████████████████| 24/24 [00:00<00:00, 1650.92it/s]\nINFO [Loading and Caching] saving/caching the features...\nINFO [Loading and Caching] saved\nINFO [Loading and Caching] loading labels...\nTraceback (most recent call last):\n  File \"/content/BERT-LNL/main.py\", line 163, in <module>\n    main()\n  File \"/content/BERT-LNL/main.py\", line 145, in main\n    nl_set, ul_set, v_set, t_set, l2id, id2l = prepare_data(args, logger, r_state, num_classes, has_val, has_ul)\n  File \"/content/BERT-LNL/loading_utils.py\", line 18, in prepare_data\n    tr_data, val_data = get_training_validation_set(args, logger, tokenizer, r_state, has_val, num_classes)\n  File \"/content/BERT-LNL/loading_utils.py\", line 84, in get_training_validation_set\n    raise ValueError(\"we need a validation set, set gen_val to True to extract\"\nValueError: we need a validation set, set gen_val to True to extracta subset from the training data as validation data\n"
      ]
     },
     "execution_count": null,
     "metadata": {},
     "output_type": "execute_result"
    }
   ],
   "source": [
    "!python3 main.py --num_training_steps 5 --dataset AG_News --data_root data/AG_News --noise_type sflip --noise_level 0.2 --model_name bert-base-uncased --nl_batch_size 8 --eval_batch_size 8 --lr 2e-5 --max_sen_len 128 --manualSeed 42"
   ]
  },
  {
   "cell_type": "markdown",
   "id": "cfdf03ac",
   "metadata": {},
   "source": [
    "### Step 41"
   ]
  },
  {
   "cell_type": "markdown",
   "id": "2b4f85db",
   "metadata": {},
   "source": [
    "Execution Start time: 05:39:56, End time: 05:39:59 (duration: 3 seconds)"
   ]
  },
  {
   "cell_type": "markdown",
   "id": "f08509a2",
   "metadata": {},
   "source": [
    "**Thought**: The error indicates that a validation set is required, and the script suggests setting `gen_val` to `True` to extract a subset from the training data as a validation set. I need to modify the command to include this option. Let's update the command and try running it again.\n"
   ]
  },
  {
   "cell_type": "markdown",
   "id": "ff38ba0d",
   "metadata": {},
   "source": [
    "**Action (None)**:"
   ]
  },
  {
   "cell_type": "code",
   "execution_count": null,
   "id": "7f81e7b6",
   "metadata": {},
   "outputs": [
    {
     "data": {
      "text/plain": [
       "usage: main.py [-h] [--dataset {SST-2,AG_News,TREC,IMDB,Yelp-5,Yoruba,Hausa}]\n               [--data_root DATA_ROOT] [--log_root LOG_ROOT]\n               [--trainer_name {bert_wn,bert_ct,bert_cm,bert_cmgt,bert_smoothing}]\n               [--model_name {bert-base-uncased,bert-base-cased,bert-large-uncased,bert-base-multilingual-cased}]\n               [--exp_name EXP_NAME] [--max_sen_len MAX_SEN_LEN]\n               [--special_token_offsets SPECIAL_TOKEN_OFFSETS]\n               [--truncate_mode {hybrid, last}] [--freeze_bert]\n               [--bert_dropout_rate BERT_DROPOUT_RATE]\n               [--noise_level NOISE_LEVEL] [--noise_type {uniform_m,sflip}]\n               [--val_fraction VAL_FRACTION] [--num_epochs NUM_EPOCHS]\n               [--num_training_steps NUM_TRAINING_STEPS]\n               [--train_eval_freq TRAIN_EVAL_FREQ] [--eval_freq EVAL_FREQ]\n               [--fast_eval] [--nl_batch_size NL_BATCH_SIZE]\n               [--eval_batch_size EVAL_BATCH_SIZE]\n               [--warmup_steps WARMUP_STEPS]\n               [--gradient_accumulation_steps GRADIENT_ACCUMULATION_STEPS]\n               [--gen_val] [--store_model STORE_MODEL]\n               [--forget_factor FORGET_FACTOR] [--T_k T_K] [--c C]\n               [--smoothing_factor SMOOTHING_FACTOR]\n               [--cm_mse_weight CM_MSE_WEIGHT] [--lr LR]\n               [--weight_decay WEIGHT_DECAY] [--exp_decay_rate EXP_DECAY_RATE]\n               [--max_grad_norm MAX_GRAD_NORM] [--patience PATIENCE]\n               [--use_cuda USE_CUDA] [--num_workers NUM_WORKERS]\n               [--cuda_device CUDA_DEVICE] [--manualSeed MANUALSEED]\n               [--noisy_label_seed NOISY_LABEL_SEED]\nmain.py: error: unrecognized arguments: True\n"
      ]
     },
     "execution_count": null,
     "metadata": {},
     "output_type": "execute_result"
    }
   ],
   "source": [
    "!python3 main.py --num_training_steps 5 --dataset AG_News --data_root data/AG_News --noise_type sflip --noise_level 0.2 --model_name bert-base-uncased --nl_batch_size 8 --eval_batch_size 8 --lr 2e-5 --max_sen_len 128 --manualSeed 42 --gen_val True"
   ]
  },
  {
   "cell_type": "markdown",
   "id": "9c7affcd",
   "metadata": {},
   "source": [
    "### Step 42"
   ]
  },
  {
   "cell_type": "markdown",
   "id": "3243b9ce",
   "metadata": {},
   "source": [
    "Execution Start time: 05:40:02, End time: 05:40:29 (duration: 26 seconds)"
   ]
  },
  {
   "cell_type": "markdown",
   "id": "1a9157af",
   "metadata": {},
   "source": [
    "**Thought**: The error indicates that the `--gen_val` argument does not accept a value like `True`. It is likely a flag that should be set without a value. Let's update the command to include the `--gen_val` flag correctly and try running it again.\n"
   ]
  },
  {
   "cell_type": "markdown",
   "id": "92874667",
   "metadata": {},
   "source": [
    "**Action (None)**:"
   ]
  },
  {
   "cell_type": "code",
   "execution_count": null,
   "id": "ae24c62a",
   "metadata": {},
   "outputs": [
    {
     "data": {
      "text/plain": [
       "INFO Training started\nINFO log dir: 08_22_05_40_05_sflip_nle0.2_nlb8\nINFO loading AG_News...\n/usr/local/lib/python3.10/site-packages/huggingface_hub/file_download.py:1132: FutureWarning: `resume_download` is deprecated and will be removed in version 1.0.0. Downloads always resume when possible. If you want to force a new download, use `force_download=True`.\n  warnings.warn(\nINFO [Loading and Caching] loading from cache...\nINFO [Loading and Caching] loading labels...\nINFO [Loading and Caching] number of documents = 12\nINFO [Loading and Caching] convert text to features...\n\nconvert docs to tensors:   0%|                           | 0/12 [00:00<?, ?it/s]\nconvert docs to tensors: 100%|████████████████| 12/12 [00:00<00:00, 2718.43it/s]\nINFO [Loading and Caching] saving/caching the features...\nINFO [Loading and Caching] saved\nINFO [Loading and Caching] loading labels...\nINFO Bert WN Trainer: training started\nINFO training size: 12\nINFO validation size: 12\nINFO test size: 12\n\nmodel.safetensors:   0%|                             | 0.00/440M [00:00<?, ?B/s]\n\n\n\n\n\n\n\n\n\n\n\nINFO Validation set is used here\n/usr/local/lib/python3.10/site-packages/transformers/optimization.py:521: FutureWarning: This implementation of AdamW is deprecated and will be removed in a future version. Use the PyTorch implementation torch.optim.AdamW instead, or set `no_deprecation_warning=True` to disable this warning\n  warnings.warn(\n\n[Vannilla Trainer] training:   0%|                        | 0/5 [00:00<?, ?it/s]\n[Vannilla Trainer] training:  20%|███▏            | 1/5 [00:05<00:20,  5.12s/it]\n[Vannilla Trainer] training:  40%|██████▍         | 2/5 [00:07<00:10,  3.57s/it]\n[Vannilla Trainer] training:  60%|█████████▌      | 3/5 [00:11<00:07,  3.94s/it]\n[Vannilla Trainer] training:  80%|████████████▊   | 4/5 [00:14<00:03,  3.31s/it]\n[Vannilla Trainer] training: 100%|████████████████| 5/5 [00:18<00:00,  3.61s/it]\n[Vannilla Trainer] training: 100%|████████████████| 5/5 [00:18<00:00,  3.70s/it]\n/usr/local/lib/python3.10/site-packages/huggingface_hub/file_download.py:1132: FutureWarning: `resume_download` is deprecated and will be removed in version 1.0.0. Downloads always resume when possible. If you want to force a new download, use `force_download=True`.\n  warnings.warn(\nTraceback (most recent call last):\n  File \"/content/BERT-LNL/main.py\", line 163, in <module>\n    main()\n  File \"/content/BERT-LNL/main.py\", line 158, in main\n    trainer.train(args, logger, (nl_set, ul_set, v_set, t_set, l2id, id2l))\n  File \"/content/BERT-LNL/trainers/bert_wn_trainer.py\", line 125, in train\n    best_model.load_state_dict(best_model_weights)\n  File \"/usr/local/lib/python3.10/site-packages/torch/nn/modules/module.py\", line 2104, in load_state_dict\n    raise TypeError(f\"Expected state_dict to be dict-like, got {type(state_dict)}.\")\nTypeError: Expected state_dict to be dict-like, got <class 'NoneType'>.\n"
      ]
     },
     "execution_count": null,
     "metadata": {},
     "output_type": "execute_result"
    }
   ],
   "source": [
    "!python3 main.py --num_training_steps 5 --dataset AG_News --data_root data/AG_News --noise_type sflip --noise_level 0.2 --model_name bert-base-uncased --nl_batch_size 8 --eval_batch_size 8 --lr 2e-5 --max_sen_len 128 --manualSeed 42 --gen_val"
   ]
  },
  {
   "cell_type": "markdown",
   "id": "3adb635f",
   "metadata": {},
   "source": [
    "### Step 43"
   ]
  },
  {
   "cell_type": "markdown",
   "id": "a9a981bf",
   "metadata": {},
   "source": [
    "Execution Start time: 05:40:31, End time: 05:40:31 (duration: 0 seconds)"
   ]
  },
  {
   "cell_type": "markdown",
   "id": "e7c10e51",
   "metadata": {},
   "source": [
    "**Thought**: The training process started successfully, but it encountered an error when trying to load the best model weights. The error indicates that the `best_model_weights` is `None`, which suggests that the early stopping mechanism might not have saved any model weights. This could be due to the limited number of training steps or some other issue in the training process. Let's check the `bert_wn_trainer.py` file to understand how the model weights are being handled and see if we can identify the issue.\n"
   ]
  },
  {
   "cell_type": "markdown",
   "id": "451e9a7c",
   "metadata": {},
   "source": [
    "**Action (open)**:"
   ]
  },
  {
   "cell_type": "code",
   "execution_count": null,
   "id": "7b4048c3",
   "metadata": {},
   "outputs": [
    {
     "data": {
      "text/plain": [
       "[File: /content/BERT-LNL/trainers/bert_wn_trainer.py (158 lines total)]\n1:import os\n2:import torch\n3:import torch.nn as nn\n4:from torch.utils.data import Dataset\n5:from transformers import AdamW, get_linear_schedule_with_warmup\n6:from trainers.trainer import Trainer\n7:from tqdm import tqdm\n8:# import wandb\n9:\n10:from trainers.early_stopper import EarlyStopper\n11:from trainers.loss_noise_tracker import LossNoiseTracker\n12:\n13:\n14:class BertWN_Trainer(Trainer):\n15:    def __init__(self, args, logger, log_dir, model_config, full_dataset, random_state):\n16:        super(BertWN_Trainer, self).__init__(args, logger, log_dir, model_config, full_dataset, random_state)\n17:        self.store_model_flag = True if args.store_model == 1 else False\n18:\n19:\n20:    def train(self, args, logger, full_dataset):\n21:        logger.info('Bert WN Trainer: training started')\n22:        device = torch.device('cuda' if torch.cuda.is_available() else 'cpu')\n23:\n24:        nl_set, ul_set, v_set, t_set, l2id, id2l = full_dataset\n25:        logger.info(f'training size: {len(nl_set)}',)\n26:        logger.info(f'validation size: {len(v_set)}' )\n27:        logger.info(f'test size: {len(t_set)}')\n28:\n29:        model = self.create_model(args)\n30:        model = model.to(device)\n31:\n32:        assert args.nl_batch_size % args.gradient_accumulation_steps == 0\n33:        nl_sub_batch_size = args.nl_batch_size // args.gradient_accumulation_steps\n34:        nl_bucket = torch.utils.data.DataLoader(nl_set, batch_size=nl_sub_batch_size,\n35:                                                shuffle=True,\n36:                                                num_workers=0)\n37:\n38:        nl_iter = iter(nl_bucket)\n39:\n40:\n41:        t_loader = torch.utils.data.DataLoader(t_set, batch_size=args.eval_batch_size,\n42:                                               shuffle=False,\n43:                                               num_workers=0)\n44:\n45:        if v_set is None:\n46:            logger.info('No validation set is used here')\n47:            v_loader = None\n48:        else:\n49:            logger.info('Validation set is used here')\n50:            v_loader = torch.utils.data.DataLoader(v_set, batch_size=args.eval_batch_size,\n51:                                                   shuffle=False,\n52:                                                   num_workers=0)\n53:\n54:        num_training_steps = args.num_training_steps\n55:\n56:        optimizer_grouped_parameters = self.get_optimizer_grouped_parameters(args, model)\n57:        optimizer = AdamW(optimizer_grouped_parameters, lr=args.lr)\n58:        optimizer_scheduler = get_linear_schedule_with_warmup(optimizer, num_warmup_steps=args.warmup_steps,\n59:                                                              num_training_steps=num_training_steps)\n60:        ce_loss_fn = nn.CrossEntropyLoss()\n61:\n62:        if self.store_model_flag:\n63:            early_stopper_save_dir = os.path.join(self.log_dir, 'early_stopper_model')\n64:            if not os.path.exists(early_stopper_save_dir):\n65:                os.makedirs(early_stopper_save_dir)\n66:        else:\n67:            early_stopper_save_dir = None\n68:\n69:        # We log the validation accuracy, so, large_is_better should set to True\n70:        early_stopper = EarlyStopper(patience=args.patience, delta=0, save_dir=early_stopper_save_dir,\n71:                                     large_is_better=True, verbose=False, trace_func=logger.info)\n72:\n73:        noise_tracker_dir = os.path.join(self.log_dir, 'loss_noise_tracker')\n74:        loss_noise_tracker = LossNoiseTracker(args, logger, nl_set, noise_tracker_dir)\n75:\n76:        global_step = 0\n77:\n78:\n79:        for idx in tqdm(range(num_training_steps), desc=f'[Vannilla Trainer] training'):\n80:            ce_loss_mean = 0.0\n81:\n82:            for i in range(args.gradient_accumulation_steps):\n83:                model.train()\n84:                try:\n85:                    nl_batch = next(nl_iter)\n86:                except:\n87:                    nl_iter = iter(nl_bucket)\n88:                    nl_batch = next(nl_iter)\n89:\n90:                nll_loss = \\\n91:                    self.forward_backward_noisy_batch(model, {'nl_batch': nl_batch}, ce_loss_fn, args, device)\n92:                ce_loss_mean += nll_loss\n93:\n94:            torch.nn.utils.clip_grad_norm_(model.parameters(), args.max_grad_norm)\n95:            optimizer.step()\n96:            optimizer_scheduler.step()  # Update learning rate schedule\n97:            model.zero_grad()\n98:            global_step += 1\n99:\n100:            # wandb.log({'train/batch_loss': ce_loss_mean})\n(58 more lines below)\n"
      ]
     },
     "execution_count": null,
     "metadata": {},
     "output_type": "execute_result"
    }
   ],
   "source": [
    "open trainers/bert_wn_trainer.py"
   ]
  },
  {
   "cell_type": "markdown",
   "id": "62c3a31c",
   "metadata": {},
   "source": [
    "### Step 44"
   ]
  },
  {
   "cell_type": "markdown",
   "id": "411c7699",
   "metadata": {},
   "source": [
    "Execution Start time: 05:40:34, End time: 05:40:34 (duration: 0 seconds)"
   ]
  },
  {
   "cell_type": "markdown",
   "id": "4b41fcaa",
   "metadata": {},
   "source": [
    "**Thought**: The `train` function in `bert_wn_trainer.py` uses an `EarlyStopper` to save the best model weights. However, it seems that the early stopping mechanism might not be saving any model weights due to the limited number of training steps or some other issue. Let's check the `EarlyStopper` class to understand how it handles model weights and see if we can identify the issue.\n"
   ]
  },
  {
   "cell_type": "markdown",
   "id": "61874851",
   "metadata": {},
   "source": [
    "**Action (search_file)**:"
   ]
  },
  {
   "cell_type": "code",
   "execution_count": null,
   "id": "57b9fc7a",
   "metadata": {},
   "outputs": [
    {
     "data": {
      "text/plain": [
       "Found 1 matches for \"EarlyStopper\" in /content/BERT-LNL/trainers/early_stopper.py:\nLine 9:class EarlyStopper:\nEnd of matches for \"EarlyStopper\" in /content/BERT-LNL/trainers/early_stopper.py\n"
      ]
     },
     "execution_count": null,
     "metadata": {},
     "output_type": "execute_result"
    }
   ],
   "source": [
    "search_file EarlyStopper trainers/early_stopper.py"
   ]
  },
  {
   "cell_type": "markdown",
   "id": "7c9efb54",
   "metadata": {},
   "source": [
    "### Step 45"
   ]
  },
  {
   "cell_type": "markdown",
   "id": "651b3e1e",
   "metadata": {},
   "source": [
    "Execution Start time: 05:40:36, End time: 05:40:37 (duration: 0 seconds)"
   ]
  },
  {
   "cell_type": "markdown",
   "id": "584a951f",
   "metadata": {},
   "source": [
    "**Thought**: The `EarlyStopper` class is defined at line 9 in the `early_stopper.py` file. Let's open that file and navigate to the definition of the `EarlyStopper` class to understand how it handles model weights and see if we can identify the issue.\n"
   ]
  },
  {
   "cell_type": "markdown",
   "id": "0dcc9f1c",
   "metadata": {},
   "source": [
    "**Action (open)**:"
   ]
  },
  {
   "cell_type": "code",
   "execution_count": null,
   "id": "1a76f4b0",
   "metadata": {},
   "outputs": [
    {
     "data": {
      "text/plain": [
       "[File: /content/BERT-LNL/trainers/early_stopper.py (88 lines total)]\n1:import numpy as np\n2:import torch\n3:import copy\n4:import os\n5:\n6:\n7:# code based on pytorchtools -> early stopping\n8:# https://github.com/Bjarten/early-stopping-pytorch/blob/master/pytorchtools.py\n9:class EarlyStopper:\n10:    \"\"\"Early stops the training if validation loss doesn't improve after a given patience.\"\"\"\n11:\n12:    def __init__(self, patience=5, delta=0, save_dir=None, verbose=False, large_is_better=False, trace_func=print):\n13:        \"\"\"\n14:        :param patience:\n15:        :param delta:\n16:        :param save_dir:\n17:        :param verbose:\n18:        :param large_is_better: set large_is_better to false if we log loss, because smaller loss is better\n19:        :param trace_func:\n20:        \"\"\"\n21:        self.patience = patience\n22:        self.verbose = verbose\n23:        self.counter = 0\n24:        self.best_score = None\n25:        self.early_stop = False\n26:        self.delta = delta\n27:        self.save_dir = save_dir\n28:        self.trace_func = trace_func\n29:        self.large_is_better = large_is_better\n30:\n31:        # buffer the best model and optimizer states\n32:        self.best_model_state_dict = None\n33:        self.best_optimizer_state_dict = None\n34:        self.model_save_path = os.path.join(self.save_dir, 'model_dict.pt') if self.save_dir is not None else None\n35:        self.optimizer_save_path = os.path.join(self.save_dir,\n36:                                                'optimizer_dict.pt') if self.save_dir is not None else None\n37:\n38:    def get_final_res(self):\n39:        res = {'es_best_model': self.best_model_state_dict,\n40:               'es_best_opt': self.best_optimizer_state_dict,\n41:               'best_score': self.best_score}\n42:\n43:        return res\n44:\n45:    def register(self, current_score, model, optimizer):\n46:        # assert not self.early_stop, \"early_stop=True, you should not do more registration\"\n47:        if self.early_stop:\n48:            self.trace_func('Actually you should stop registering scores, because early stop is already triggered')\n49:            return\n50:\n51:        if self.large_is_better:\n52:            current_score = -1.0 * current_score\n53:\n54:        if self.best_score is None:\n55:            self.best_score = current_score\n56:            self.buffer_checkpoint(model, optimizer)\n57:        elif current_score > self.best_score - self.delta:\n58:            self.counter += 1\n59:            if self.verbose:\n60:                self.trace_func(f'EarlyStopping counter: {self.counter} out of {self.patience}')\n61:            if self.counter >= self.patience:\n62:                self.early_stop = True\n63:        else:\n64:            self.best_score = current_score\n65:            self.buffer_checkpoint(model, optimizer)\n66:            self.counter = 0\n67:\n68:    def buffer_checkpoint(self, model, optimizer):\n69:        self.best_model_state_dict = copy.deepcopy(model.state_dict())\n70:        self.best_optimizer_state_dict = copy.deepcopy(optimizer.state_dict()) if optimizer is not None else None\n71:\n72:        if self.save_dir is not None:\n73:            self.save_checkpoint(model, optimizer)\n74:            suffix = ' and saved on disk'\n75:        else:\n76:            suffix = ''\n77:\n78:        if self.verbose:\n79:            self.trace_func(f'Best Model/Optimizer buffered{suffix}')\n80:\n81:    def save_checkpoint(self, model, optimizer):\n82:        \"\"\"\n83:        Saves model to disc\n84:        \"\"\"\n85:\n86:        torch.save(model.state_dict(), self.model_save_path)\n87:        if optimizer is not None:\n88:            torch.save(optimizer.state_dict(), self.optimizer_save_path)\n"
      ]
     },
     "execution_count": null,
     "metadata": {},
     "output_type": "execute_result"
    }
   ],
   "source": [
    "open trainers/early_stopper.py"
   ]
  },
  {
   "cell_type": "markdown",
   "id": "01775a54",
   "metadata": {},
   "source": [
    "### Step 46"
   ]
  },
  {
   "cell_type": "markdown",
   "id": "4a3c6543",
   "metadata": {},
   "source": [
    "Execution Start time: 05:40:40, End time: 05:41:22 (duration: 42 seconds)"
   ]
  },
  {
   "cell_type": "markdown",
   "id": "e477da6b",
   "metadata": {},
   "source": [
    "**Thought**: The `EarlyStopper` class buffers the best model state dictionary in `self.best_model_state_dict`. It seems that the early stopping mechanism might not be saving any model weights due to the limited number of training steps or some other issue. Since the training is only for 5 steps, the early stopping might not be triggered. Let's try running the training command with a slightly increased number of steps to see if it resolves the issue.\n"
   ]
  },
  {
   "cell_type": "markdown",
   "id": "e4c98738",
   "metadata": {},
   "source": [
    "**Action (None)**:"
   ]
  },
  {
   "cell_type": "code",
   "execution_count": null,
   "id": "3390f6ca",
   "metadata": {},
   "outputs": [
    {
     "data": {
      "text/plain": [
       "INFO Training started\nINFO log dir: 08_22_05_40_43_sflip_nle0.2_nlb8\nINFO loading AG_News...\n/usr/local/lib/python3.10/site-packages/huggingface_hub/file_download.py:1132: FutureWarning: `resume_download` is deprecated and will be removed in version 1.0.0. Downloads always resume when possible. If you want to force a new download, use `force_download=True`.\n  warnings.warn(\nINFO [Loading and Caching] loading from cache...\nINFO [Loading and Caching] loading labels...\nINFO [Loading and Caching] loading from cache...\nINFO [Loading and Caching] loading labels...\nINFO Bert WN Trainer: training started\nINFO training size: 12\nINFO validation size: 12\nINFO test size: 12\nINFO Validation set is used here\n/usr/local/lib/python3.10/site-packages/transformers/optimization.py:521: FutureWarning: This implementation of AdamW is deprecated and will be removed in a future version. Use the PyTorch implementation torch.optim.AdamW instead, or set `no_deprecation_warning=True` to disable this warning\n  warnings.warn(\n\n[Vannilla Trainer] training:   0%|                       | 0/10 [00:00<?, ?it/s]\n[Vannilla Trainer] training:  10%|█▌             | 1/10 [00:04<00:42,  4.76s/it]\n[Vannilla Trainer] training:  20%|███            | 2/10 [00:07<00:30,  3.81s/it]\n[Vannilla Trainer] training:  30%|████▌          | 3/10 [00:13<00:31,  4.45s/it]\n[Vannilla Trainer] training:  40%|██████         | 4/10 [00:15<00:21,  3.65s/it]\n[Vannilla Trainer] training:  50%|███████▌       | 5/10 [00:20<00:19,  3.97s/it]\n[Vannilla Trainer] training:  60%|█████████      | 6/10 [00:22<00:13,  3.48s/it]\n[Vannilla Trainer] training:  70%|██████████▌    | 7/10 [00:27<00:11,  3.82s/it]\n[Vannilla Trainer] training:  80%|████████████   | 8/10 [00:29<00:06,  3.41s/it]\n[Vannilla Trainer] training:  90%|█████████████▌ | 9/10 [00:33<00:03,  3.70s/it]\n[Vannilla Trainer] training: 100%|██████████████| 10/10 [00:36<00:00,  3.30s/it]\n[Vannilla Trainer] training: 100%|██████████████| 10/10 [00:36<00:00,  3.64s/it]\n/usr/local/lib/python3.10/site-packages/huggingface_hub/file_download.py:1132: FutureWarning: `resume_download` is deprecated and will be removed in version 1.0.0. Downloads always resume when possible. If you want to force a new download, use `force_download=True`.\n  warnings.warn(\nTraceback (most recent call last):\n  File \"/content/BERT-LNL/main.py\", line 163, in <module>\n    main()\n  File \"/content/BERT-LNL/main.py\", line 158, in main\n    trainer.train(args, logger, (nl_set, ul_set, v_set, t_set, l2id, id2l))\n  File \"/content/BERT-LNL/trainers/bert_wn_trainer.py\", line 125, in train\n    best_model.load_state_dict(best_model_weights)\n  File \"/usr/local/lib/python3.10/site-packages/torch/nn/modules/module.py\", line 2104, in load_state_dict\n    raise TypeError(f\"Expected state_dict to be dict-like, got {type(state_dict)}.\")\nTypeError: Expected state_dict to be dict-like, got <class 'NoneType'>.\n"
      ]
     },
     "execution_count": null,
     "metadata": {},
     "output_type": "execute_result"
    }
   ],
   "source": [
    "!python3 main.py --num_training_steps 10 --dataset AG_News --data_root data/AG_News --noise_type sflip --noise_level 0.2 --model_name bert-base-uncased --nl_batch_size 8 --eval_batch_size 8 --lr 2e-5 --max_sen_len 128 --manualSeed 42 --gen_val"
   ]
  },
  {
   "cell_type": "markdown",
   "id": "17036a4a",
   "metadata": {},
   "source": [
    "### Step 47"
   ]
  },
  {
   "cell_type": "markdown",
   "id": "58088841",
   "metadata": {},
   "source": [
    "Execution Start time: 05:41:26, End time: 05:42:41 (duration: 74 seconds)"
   ]
  },
  {
   "cell_type": "markdown",
   "id": "682c9295",
   "metadata": {},
   "source": [
    "**Thought**: The error persists, indicating that the `best_model_weights` is still `None`. This suggests that the early stopping mechanism might not be saving any model weights due to the limited number of training steps or some other issue. Since the training is only for 10 steps, the early stopping might not be triggered. Let's try running the training command with a slightly increased number of steps to see if it resolves the issue.\n"
   ]
  },
  {
   "cell_type": "markdown",
   "id": "cad837ed",
   "metadata": {},
   "source": [
    "**Action (None)**:"
   ]
  },
  {
   "cell_type": "code",
   "execution_count": null,
   "id": "ddab3182",
   "metadata": {},
   "outputs": [
    {
     "data": {
      "text/plain": [
       "INFO Training started\nINFO log dir: 08_22_05_41_29_sflip_nle0.2_nlb8\nINFO loading AG_News...\n/usr/local/lib/python3.10/site-packages/huggingface_hub/file_download.py:1132: FutureWarning: `resume_download` is deprecated and will be removed in version 1.0.0. Downloads always resume when possible. If you want to force a new download, use `force_download=True`.\n  warnings.warn(\nINFO [Loading and Caching] loading from cache...\nINFO [Loading and Caching] loading labels...\nINFO [Loading and Caching] loading from cache...\nINFO [Loading and Caching] loading labels...\nINFO Bert WN Trainer: training started\nINFO training size: 12\nINFO validation size: 12\nINFO test size: 12\nINFO Validation set is used here\n/usr/local/lib/python3.10/site-packages/transformers/optimization.py:521: FutureWarning: This implementation of AdamW is deprecated and will be removed in a future version. Use the PyTorch implementation torch.optim.AdamW instead, or set `no_deprecation_warning=True` to disable this warning\n  warnings.warn(\n\n[Vannilla Trainer] training:   0%|                       | 0/20 [00:00<?, ?it/s]\n[Vannilla Trainer] training:   5%|▊              | 1/20 [00:04<01:31,  4.83s/it]\n[Vannilla Trainer] training:  10%|█▌             | 2/20 [00:07<01:02,  3.50s/it]\n[Vannilla Trainer] training:  15%|██▎            | 3/20 [00:11<01:07,  3.97s/it]\n[Vannilla Trainer] training:  20%|███            | 4/20 [00:14<00:54,  3.38s/it]\n[Vannilla Trainer] training:  25%|███▊           | 5/20 [00:18<00:56,  3.78s/it]\n[Vannilla Trainer] training:  30%|████▌          | 6/20 [00:21<00:46,  3.32s/it]\n[Vannilla Trainer] training:  35%|█████▎         | 7/20 [00:25<00:47,  3.67s/it]\n[Vannilla Trainer] training:  40%|██████         | 8/20 [00:28<00:39,  3.28s/it]\n[Vannilla Trainer] training:  45%|██████▊        | 9/20 [00:32<00:40,  3.64s/it]\n[Vannilla Trainer] training:  50%|███████       | 10/20 [00:35<00:32,  3.29s/it]\n[Vannilla Trainer] training:  55%|███████▋      | 11/20 [00:39<00:32,  3.65s/it]\n[Vannilla Trainer] training:  60%|████████▍     | 12/20 [00:41<00:26,  3.26s/it]\n[Vannilla Trainer] training:  65%|█████████     | 13/20 [00:46<00:25,  3.64s/it]\n[Vannilla Trainer] training:  70%|█████████▊    | 14/20 [00:48<00:19,  3.29s/it]\n[Vannilla Trainer] training:  75%|██████████▌   | 15/20 [00:53<00:18,  3.63s/it]\n[Vannilla Trainer] training:  80%|███████████▏  | 16/20 [00:55<00:13,  3.27s/it]\n[Vannilla Trainer] training:  85%|███████████▉  | 17/20 [01:00<00:10,  3.62s/it]\n[Vannilla Trainer] training:  90%|████████████▌ | 18/20 [01:02<00:06,  3.27s/it]\n[Vannilla Trainer] training:  95%|█████████████▎| 19/20 [01:07<00:03,  3.59s/it]\n[Vannilla Trainer] training: 100%|██████████████| 20/20 [01:09<00:00,  3.22s/it]\n[Vannilla Trainer] training: 100%|██████████████| 20/20 [01:09<00:00,  3.47s/it]\n/usr/local/lib/python3.10/site-packages/huggingface_hub/file_download.py:1132: FutureWarning: `resume_download` is deprecated and will be removed in version 1.0.0. Downloads always resume when possible. If you want to force a new download, use `force_download=True`.\n  warnings.warn(\nTraceback (most recent call last):\n  File \"/content/BERT-LNL/main.py\", line 163, in <module>\n    main()\n  File \"/content/BERT-LNL/main.py\", line 158, in main\n    trainer.train(args, logger, (nl_set, ul_set, v_set, t_set, l2id, id2l))\n  File \"/content/BERT-LNL/trainers/bert_wn_trainer.py\", line 125, in train\n    best_model.load_state_dict(best_model_weights)\n  File \"/usr/local/lib/python3.10/site-packages/torch/nn/modules/module.py\", line 2104, in load_state_dict\n    raise TypeError(f\"Expected state_dict to be dict-like, got {type(state_dict)}.\")\nTypeError: Expected state_dict to be dict-like, got <class 'NoneType'>.\n"
      ]
     },
     "execution_count": null,
     "metadata": {},
     "output_type": "execute_result"
    }
   ],
   "source": [
    "!python3 main.py --num_training_steps 20 --dataset AG_News --data_root data/AG_News --noise_type sflip --noise_level 0.2 --model_name bert-base-uncased --nl_batch_size 8 --eval_batch_size 8 --lr 2e-5 --max_sen_len 128 --manualSeed 42 --gen_val"
   ]
  },
  {
   "cell_type": "markdown",
   "id": "8083da8f",
   "metadata": {},
   "source": [
    "### Step 48"
   ]
  },
  {
   "cell_type": "markdown",
   "id": "8797f068",
   "metadata": {},
   "source": [
    "Execution Start time: 05:42:44, End time: 05:46:04 (duration: 200 seconds)"
   ]
  },
  {
   "cell_type": "markdown",
   "id": "f83283e4",
   "metadata": {},
   "source": [
    "**Thought**: The error persists, indicating that the `best_model_weights` is still `None`. This suggests that the early stopping mechanism might not be saving any model weights due to the limited number of training steps or some other issue. Since the training is only for 20 steps, the early stopping might not be triggered. Let's try running the training command with a slightly increased number of steps to see if it resolves the issue.\n"
   ]
  },
  {
   "cell_type": "markdown",
   "id": "545e99ac",
   "metadata": {},
   "source": [
    "**Action (None)**:"
   ]
  },
  {
   "cell_type": "code",
   "execution_count": null,
   "id": "a73804db",
   "metadata": {},
   "outputs": [
    {
     "data": {
      "text/plain": [
       "INFO Training started\nINFO log dir: 08_22_05_42_49_sflip_nle0.2_nlb8\nINFO loading AG_News...\n/usr/local/lib/python3.10/site-packages/huggingface_hub/file_download.py:1132: FutureWarning: `resume_download` is deprecated and will be removed in version 1.0.0. Downloads always resume when possible. If you want to force a new download, use `force_download=True`.\n  warnings.warn(\nINFO [Loading and Caching] loading from cache...\nINFO [Loading and Caching] loading labels...\nINFO [Loading and Caching] loading from cache...\nINFO [Loading and Caching] loading labels...\nINFO Bert WN Trainer: training started\nINFO training size: 12\nINFO validation size: 12\nINFO test size: 12\nINFO Validation set is used here\n/usr/local/lib/python3.10/site-packages/transformers/optimization.py:521: FutureWarning: This implementation of AdamW is deprecated and will be removed in a future version. Use the PyTorch implementation torch.optim.AdamW instead, or set `no_deprecation_warning=True` to disable this warning\n  warnings.warn(\n\n[Vannilla Trainer] training:   0%|                       | 0/50 [00:00<?, ?it/s]\n[Vannilla Trainer] training:   2%|▎              | 1/50 [00:05<04:33,  5.58s/it]\n[Vannilla Trainer] training:   4%|▌              | 2/50 [00:08<03:06,  3.88s/it]\n[Vannilla Trainer] training:   6%|▉              | 3/50 [00:12<03:18,  4.23s/it]\n[Vannilla Trainer] training:   8%|█▏             | 4/50 [00:15<02:43,  3.56s/it]\n[Vannilla Trainer] training:  10%|█▌             | 5/50 [00:20<03:00,  4.01s/it]\n[Vannilla Trainer] training:  12%|█▊             | 6/50 [00:23<02:37,  3.58s/it]\n[Vannilla Trainer] training:  14%|██             | 7/50 [00:27<02:49,  3.94s/it]\n[Vannilla Trainer] training:  16%|██▍            | 8/50 [00:30<02:27,  3.51s/it]\n[Vannilla Trainer] training:  18%|██▋            | 9/50 [00:34<02:38,  3.87s/it]\n[Vannilla Trainer] training:  20%|██▊           | 10/50 [00:37<02:17,  3.43s/it]\n[Vannilla Trainer] training:  22%|███           | 11/50 [00:42<02:28,  3.81s/it]\n[Vannilla Trainer] training:  24%|███▎          | 12/50 [00:44<02:09,  3.41s/it]\n[Vannilla Trainer] training:  26%|███▋          | 13/50 [00:49<02:21,  3.82s/it]\n[Vannilla Trainer] training:  28%|███▉          | 14/50 [00:51<02:04,  3.47s/it]\n[Vannilla Trainer] training:  30%|████▏         | 15/50 [00:56<02:14,  3.85s/it]\n[Vannilla Trainer] training:  32%|████▍         | 16/50 [00:59<01:59,  3.52s/it]\n[Vannilla Trainer] training:  34%|████▊         | 17/50 [01:04<02:09,  3.92s/it]\n[Vannilla Trainer] training:  36%|█████         | 18/50 [01:06<01:53,  3.54s/it]\n[Vannilla Trainer] training:  38%|█████▎        | 19/50 [01:11<01:58,  3.84s/it]\n[Vannilla Trainer] training:  40%|█████▌        | 20/50 [01:14<01:43,  3.46s/it]\n[Vannilla Trainer] training:  42%|█████▉        | 21/50 [01:18<01:52,  3.86s/it]\n[Vannilla Trainer] training:  44%|██████▏       | 22/50 [01:21<01:37,  3.49s/it]\n[Vannilla Trainer] training:  46%|██████▍       | 23/50 [01:26<01:43,  3.85s/it]\n[Vannilla Trainer] training:  48%|██████▋       | 24/50 [01:28<01:31,  3.51s/it]\n[Vannilla Trainer] training:  50%|███████       | 25/50 [01:33<01:37,  3.92s/it]\n[Vannilla Trainer] training:  52%|███████▎      | 26/50 [01:36<01:24,  3.50s/it]\n[Vannilla Trainer] training:  54%|███████▌      | 27/50 [01:40<01:27,  3.79s/it]\n[Vannilla Trainer] training:  56%|███████▊      | 28/50 [01:43<01:15,  3.42s/it]\n[Vannilla Trainer] training:  58%|████████      | 29/50 [01:47<01:19,  3.79s/it]\n[Vannilla Trainer] training:  60%|████████▍     | 30/50 [01:50<01:08,  3.42s/it]\n[Vannilla Trainer] training:  62%|████████▋     | 31/50 [01:55<01:12,  3.79s/it]\n[Vannilla Trainer] training:  64%|████████▉     | 32/50 [01:57<01:01,  3.42s/it]\n[Vannilla Trainer] training:  66%|█████████▏    | 33/50 [02:02<01:04,  3.79s/it]\n[Vannilla Trainer] training:  68%|█████████▌    | 34/50 [02:04<00:54,  3.42s/it]\n[Vannilla Trainer] training:  70%|█████████▊    | 35/50 [02:09<00:56,  3.76s/it]\n[Vannilla Trainer] training:  72%|██████████    | 36/50 [02:12<00:47,  3.39s/it]\n[Vannilla Trainer] training:  74%|██████████▎   | 37/50 [02:16<00:48,  3.76s/it]\n[Vannilla Trainer] training:  76%|██████████▋   | 38/50 [02:19<00:40,  3.40s/it]\n[Vannilla Trainer] training:  78%|██████████▉   | 39/50 [02:23<00:41,  3.78s/it]\n[Vannilla Trainer] training:  80%|███████████▏  | 40/50 [02:26<00:33,  3.40s/it]\n[Vannilla Trainer] training:  82%|███████████▍  | 41/50 [02:30<00:33,  3.76s/it]\n[Vannilla Trainer] training:  84%|███████████▊  | 42/50 [02:33<00:26,  3.36s/it]\n[Vannilla Trainer] training:  86%|████████████  | 43/50 [02:38<00:26,  3.77s/it]\n[Vannilla Trainer] training:  88%|████████████▎ | 44/50 [02:40<00:20,  3.41s/it]\n[Vannilla Trainer] training:  90%|████████████▌ | 45/50 [02:45<00:18,  3.79s/it]\n[Vannilla Trainer] training:  92%|████████████▉ | 46/50 [02:47<00:13,  3.41s/it]\n[Vannilla Trainer] training:  94%|█████████████▏| 47/50 [02:52<00:11,  3.81s/it]\n[Vannilla Trainer] training:  96%|█████████████▍| 48/50 [02:55<00:06,  3.44s/it]\n[Vannilla Trainer] training:  98%|█████████████▋| 49/50 [03:00<00:03,  3.84s/it]/usr/local/lib/python3.10/site-packages/sklearn/metrics/_classification.py:1517: UndefinedMetricWarning: Precision is ill-defined and being set to 0.0 in labels with no predicted samples. Use `zero_division` parameter to control this behavior.\n  _warn_prf(average, modifier, f\"{metric.capitalize()} is\", len(result))\n/usr/local/lib/python3.10/site-packages/sklearn/metrics/_classification.py:1517: UndefinedMetricWarning: Precision is ill-defined and being set to 0.0 in labels with no predicted samples. Use `zero_division` parameter to control this behavior.\n  _warn_prf(average, modifier, f\"{metric.capitalize()} is\", len(result))\n/usr/local/lib/python3.10/site-packages/sklearn/metrics/_classification.py:1517: UndefinedMetricWarning: Precision is ill-defined and being set to 0.0 in labels with no predicted samples. Use `zero_division` parameter to control this behavior.\n  _warn_prf(average, modifier, f\"{metric.capitalize()} is\", len(result))\n/usr/local/lib/python3.10/site-packages/sklearn/metrics/_classification.py:1517: UndefinedMetricWarning: Precision is ill-defined and being set to 0.0 in labels with no predicted samples. Use `zero_division` parameter to control this behavior.\n  _warn_prf(average, modifier, f\"{metric.capitalize()} is\", len(result))\n/usr/local/lib/python3.10/site-packages/sklearn/metrics/_classification.py:1517: UndefinedMetricWarning: Precision is ill-defined and being set to 0.0 in labels with no predicted samples. Use `zero_division` parameter to control this behavior.\n  _warn_prf(average, modifier, f\"{metric.capitalize()} is\", len(result))\n/usr/local/lib/python3.10/site-packages/sklearn/metrics/_classification.py:1517: UndefinedMetricWarning: Precision is ill-defined and being set to 0.0 in labels with no predicted samples. Use `zero_division` parameter to control this behavior.\n  _warn_prf(average, modifier, f\"{metric.capitalize()} is\", len(result))\n/usr/local/lib/python3.10/site-packages/sklearn/metrics/_classification.py:1517: UndefinedMetricWarning: Precision is ill-defined and being set to 0.0 in labels with no predicted samples. Use `zero_division` parameter to control this behavior.\n  _warn_prf(average, modifier, f\"{metric.capitalize()} is\", len(result))\n/usr/local/lib/python3.10/site-packages/sklearn/metrics/_classification.py:1517: UndefinedMetricWarning: Precision is ill-defined and being set to 0.0 in labels with no predicted samples. Use `zero_division` parameter to control this behavior.\n  _warn_prf(average, modifier, f\"{metric.capitalize()} is\", len(result))\n/usr/local/lib/python3.10/site-packages/sklearn/metrics/_classification.py:1517: UndefinedMetricWarning: Precision is ill-defined and being set to 0.0 in labels with no predicted samples. Use `zero_division` parameter to control this behavior.\n  _warn_prf(average, modifier, f\"{metric.capitalize()} is\", len(result))\n/usr/local/lib/python3.10/site-packages/sklearn/metrics/_classification.py:1517: UndefinedMetricWarning: Precision is ill-defined and being set to 0.0 in labels with no predicted samples. Use `zero_division` parameter to control this behavior.\n  _warn_prf(average, modifier, f\"{metric.capitalize()} is\", len(result))\n/usr/local/lib/python3.10/site-packages/sklearn/metrics/_classification.py:1517: UndefinedMetricWarning: Precision is ill-defined and being set to 0.0 in labels with no predicted samples. Use `zero_division` parameter to control this behavior.\n  _warn_prf(average, modifier, f\"{metric.capitalize()} is\", len(result))\n/usr/local/lib/python3.10/site-packages/sklearn/metrics/_classification.py:1517: UndefinedMetricWarning: Precision is ill-defined and being set to 0.0 in labels with no predicted samples. Use `zero_division` parameter to control this behavior.\n  _warn_prf(average, modifier, f\"{metric.capitalize()} is\", len(result))\n/usr/local/lib/python3.10/site-packages/sklearn/metrics/_classification.py:1517: UndefinedMetricWarning: Precision is ill-defined and being set to 0.0 in labels with no predicted samples. Use `zero_division` parameter to control this behavior.\n  _warn_prf(average, modifier, f\"{metric.capitalize()} is\", len(result))\n/usr/local/lib/python3.10/site-packages/sklearn/metrics/_classification.py:1517: UndefinedMetricWarning: Precision is ill-defined and being set to 0.0 in labels with no predicted samples. Use `zero_division` parameter to control this behavior.\n  _warn_prf(average, modifier, f\"{metric.capitalize()} is\", len(result))\n/usr/local/lib/python3.10/site-packages/sklearn/metrics/_classification.py:1517: UndefinedMetricWarning: Precision is ill-defined and being set to 0.0 in labels with no predicted samples. Use `zero_division` parameter to control this behavior.\n  _warn_prf(average, modifier, f\"{metric.capitalize()} is\", len(result))\n/usr/local/lib/python3.10/site-packages/sklearn/metrics/_classification.py:1517: UndefinedMetricWarning: Precision is ill-defined and being set to 0.0 in labels with no predicted samples. Use `zero_division` parameter to control this behavior.\n  _warn_prf(average, modifier, f\"{metric.capitalize()} is\", len(result))\n/usr/local/lib/python3.10/site-packages/sklearn/metrics/_classification.py:1517: UndefinedMetricWarning: Precision is ill-defined and being set to 0.0 in labels with no predicted samples. Use `zero_division` parameter to control this behavior.\n  _warn_prf(average, modifier, f\"{metric.capitalize()} is\", len(result))\n/usr/local/lib/python3.10/site-packages/sklearn/metrics/_classification.py:1517: UndefinedMetricWarning: Precision is ill-defined and being set to 0.0 in labels with no predicted samples. Use `zero_division` parameter to control this behavior.\n  _warn_prf(average, modifier, f\"{metric.capitalize()} is\", len(result))\n\n[Vannilla Trainer] training: 100%|██████████████| 50/50 [03:08<00:00,  5.28s/it]\n[Vannilla Trainer] training: 100%|██████████████| 50/50 [03:08<00:00,  3.77s/it]\n/usr/local/lib/python3.10/site-packages/huggingface_hub/file_download.py:1132: FutureWarning: `resume_download` is deprecated and will be removed in version 1.0.0. Downloads always resume when possible. If you want to force a new download, use `force_download=True`.\n  warnings.warn(\n/usr/local/lib/python3.10/site-packages/sklearn/metrics/_classification.py:1517: UndefinedMetricWarning: Precision is ill-defined and being set to 0.0 in labels with no predicted samples. Use `zero_division` parameter to control this behavior.\n  _warn_prf(average, modifier, f\"{metric.capitalize()} is\", len(result))\n/usr/local/lib/python3.10/site-packages/sklearn/metrics/_classification.py:1517: UndefinedMetricWarning: Precision is ill-defined and being set to 0.0 in labels with no predicted samples. Use `zero_division` parameter to control this behavior.\n  _warn_prf(average, modifier, f\"{metric.capitalize()} is\", len(result))\n/usr/local/lib/python3.10/site-packages/sklearn/metrics/_classification.py:1517: UndefinedMetricWarning: Precision is ill-defined and being set to 0.0 in labels with no predicted samples. Use `zero_division` parameter to control this behavior.\n  _warn_prf(average, modifier, f\"{metric.capitalize()} is\", len(result))\n/usr/local/lib/python3.10/site-packages/sklearn/metrics/_classification.py:1517: UndefinedMetricWarning: Precision is ill-defined and being set to 0.0 in labels with no predicted samples. Use `zero_division` parameter to control this behavior.\n  _warn_prf(average, modifier, f\"{metric.capitalize()} is\", len(result))\n/usr/local/lib/python3.10/site-packages/sklearn/metrics/_classification.py:1517: UndefinedMetricWarning: Precision is ill-defined and being set to 0.0 in labels with no predicted samples. Use `zero_division` parameter to control this behavior.\n  _warn_prf(average, modifier, f\"{metric.capitalize()} is\", len(result))\n/usr/local/lib/python3.10/site-packages/sklearn/metrics/_classification.py:1517: UndefinedMetricWarning: Precision is ill-defined and being set to 0.0 in labels with no predicted samples. Use `zero_division` parameter to control this behavior.\n  _warn_prf(average, modifier, f\"{metric.capitalize()} is\", len(result))\n/usr/local/lib/python3.10/site-packages/sklearn/metrics/_classification.py:1517: UndefinedMetricWarning: Precision is ill-defined and being set to 0.0 in labels with no predicted samples. Use `zero_division` parameter to control this behavior.\n  _warn_prf(average, modifier, f\"{metric.capitalize()} is\", len(result))\n/usr/local/lib/python3.10/site-packages/sklearn/metrics/_classification.py:1517: UndefinedMetricWarning: Precision is ill-defined and being set to 0.0 in labels with no predicted samples. Use `zero_division` parameter to control this behavior.\n  _warn_prf(average, modifier, f\"{metric.capitalize()} is\", len(result))\n/usr/local/lib/python3.10/site-packages/sklearn/metrics/_classification.py:1517: UndefinedMetricWarning: Precision is ill-defined and being set to 0.0 in labels with no predicted samples. Use `zero_division` parameter to control this behavior.\n  _warn_prf(average, modifier, f\"{metric.capitalize()} is\", len(result))\n/usr/local/lib/python3.10/site-packages/sklearn/metrics/_classification.py:1517: UndefinedMetricWarning: Precision is ill-defined and being set to 0.0 in labels with no predicted samples. Use `zero_division` parameter to control this behavior.\n  _warn_prf(average, modifier, f\"{metric.capitalize()} is\", len(result))\n/usr/local/lib/python3.10/site-packages/sklearn/metrics/_classification.py:1517: UndefinedMetricWarning: Precision is ill-defined and being set to 0.0 in labels with no predicted samples. Use `zero_division` parameter to control this behavior.\n  _warn_prf(average, modifier, f\"{metric.capitalize()} is\", len(result))\n/usr/local/lib/python3.10/site-packages/sklearn/metrics/_classification.py:1517: UndefinedMetricWarning: Precision is ill-defined and being set to 0.0 in labels with no predicted samples. Use `zero_division` parameter to control this behavior.\n  _warn_prf(average, modifier, f\"{metric.capitalize()} is\", len(result))\n/usr/local/lib/python3.10/site-packages/sklearn/metrics/_classification.py:1517: UndefinedMetricWarning: Precision is ill-defined and being set to 0.0 in labels with no predicted samples. Use `zero_division` parameter to control this behavior.\n  _warn_prf(average, modifier, f\"{metric.capitalize()} is\", len(result))\n/usr/local/lib/python3.10/site-packages/sklearn/metrics/_classification.py:1517: UndefinedMetricWarning: Precision is ill-defined and being set to 0.0 in labels with no predicted samples. Use `zero_division` parameter to control this behavior.\n  _warn_prf(average, modifier, f\"{metric.capitalize()} is\", len(result))\n/usr/local/lib/python3.10/site-packages/sklearn/metrics/_classification.py:1517: UndefinedMetricWarning: Precision is ill-defined and being set to 0.0 in labels with no predicted samples. Use `zero_division` parameter to control this behavior.\n  _warn_prf(average, modifier, f\"{metric.capitalize()} is\", len(result))\n/usr/local/lib/python3.10/site-packages/sklearn/metrics/_classification.py:1517: UndefinedMetricWarning: Precision is ill-defined and being set to 0.0 in labels with no predicted samples. Use `zero_division` parameter to control this behavior.\n  _warn_prf(average, modifier, f\"{metric.capitalize()} is\", len(result))\n/usr/local/lib/python3.10/site-packages/sklearn/metrics/_classification.py:1517: UndefinedMetricWarning: Precision is ill-defined and being set to 0.0 in labels with no predicted samples. Use `zero_division` parameter to control this behavior.\n  _warn_prf(average, modifier, f\"{metric.capitalize()} is\", len(result))\n/usr/local/lib/python3.10/site-packages/sklearn/metrics/_classification.py:1517: UndefinedMetricWarning: Precision is ill-defined and being set to 0.0 in labels with no predicted samples. Use `zero_division` parameter to control this behavior.\n  _warn_prf(average, modifier, f\"{metric.capitalize()} is\", len(result))\n"
      ]
     },
     "execution_count": null,
     "metadata": {},
     "output_type": "execute_result"
    }
   ],
   "source": [
    "!python3 main.py --num_training_steps 50 --dataset AG_News --data_root data/AG_News --noise_type sflip --noise_level 0.2 --model_name bert-base-uncased --nl_batch_size 8 --eval_batch_size 8 --lr 2e-5 --max_sen_len 128 --manualSeed 42 --gen_val"
   ]
  },
  {
   "cell_type": "markdown",
   "id": "905bbd36",
   "metadata": {},
   "source": [
    "### Step 49"
   ]
  },
  {
   "cell_type": "markdown",
   "id": "51ba5fac",
   "metadata": {},
   "source": [
    "Execution Start time: 05:46:06, End time: 05:46:07 (duration: 0 seconds)"
   ]
  },
  {
   "cell_type": "markdown",
   "id": "fcc0a288",
   "metadata": {},
   "source": [
    "**Thought**: The training process completed successfully with 50 steps, and it seems to have generated some warnings related to precision being ill-defined for some labels. Now, I need to extract the evaluation metrics from the output. Let's check the output directory for any files containing the evaluation results.\n"
   ]
  },
  {
   "cell_type": "markdown",
   "id": "9dcca133",
   "metadata": {},
   "source": [
    "**Action (None)**:"
   ]
  },
  {
   "cell_type": "code",
   "execution_count": null,
   "id": "ccb280cf",
   "metadata": {},
   "outputs": [
    {
     "data": {
      "text/plain": [
       "ls: cannot access 'output': No such file or directory\n"
      ]
     },
     "execution_count": null,
     "metadata": {},
     "output_type": "execute_result"
    }
   ],
   "source": [
    "!ls output"
   ]
  },
  {
   "cell_type": "markdown",
   "id": "218d5b63",
   "metadata": {},
   "source": [
    "### Step 50"
   ]
  },
  {
   "cell_type": "markdown",
   "id": "024f8b86",
   "metadata": {},
   "source": [
    "Execution Start time: 05:46:10, End time: 05:46:14 (duration: 4 seconds)"
   ]
  },
  {
   "cell_type": "markdown",
   "id": "a345edb1",
   "metadata": {},
   "source": [
    "**Thought**: It seems there is no `output` directory created. The evaluation metrics might be printed in the console output or saved in a different location. Let's check the console output for any printed evaluation metrics.\n"
   ]
  },
  {
   "cell_type": "markdown",
   "id": "175d3652",
   "metadata": {},
   "source": [
    "**Action (None)**:"
   ]
  },
  {
   "cell_type": "code",
   "execution_count": null,
   "id": "76c84543",
   "metadata": {},
   "outputs": [
    {
     "data": {
      "text/plain": [
       "usage: main.py [-h] [--dataset {SST-2,AG_News,TREC,IMDB,Yelp-5,Yoruba,Hausa}]\n               [--data_root DATA_ROOT] [--log_root LOG_ROOT]\n               [--trainer_name {bert_wn,bert_ct,bert_cm,bert_cmgt,bert_smoothing}]\n               [--model_name {bert-base-uncased,bert-base-cased,bert-large-uncased,bert-base-multilingual-cased}]\n               [--exp_name EXP_NAME] [--max_sen_len MAX_SEN_LEN]\n               [--special_token_offsets SPECIAL_TOKEN_OFFSETS]\n               [--truncate_mode {hybrid, last}] [--freeze_bert]\n               [--bert_dropout_rate BERT_DROPOUT_RATE]\n               [--noise_level NOISE_LEVEL] [--noise_type {uniform_m,sflip}]\n               [--val_fraction VAL_FRACTION] [--num_epochs NUM_EPOCHS]\n               [--num_training_steps NUM_TRAINING_STEPS]\n               [--train_eval_freq TRAIN_EVAL_FREQ] [--eval_freq EVAL_FREQ]\n               [--fast_eval] [--nl_batch_size NL_BATCH_SIZE]\n               [--eval_batch_size EVAL_BATCH_SIZE]\n               [--warmup_steps WARMUP_STEPS]\n               [--gradient_accumulation_steps GRADIENT_ACCUMULATION_STEPS]\n               [--gen_val] [--store_model STORE_MODEL]\n               [--forget_factor FORGET_FACTOR] [--T_k T_K] [--c C]\n               [--smoothing_factor SMOOTHING_FACTOR]\n               [--cm_mse_weight CM_MSE_WEIGHT] [--lr LR]\n               [--weight_decay WEIGHT_DECAY] [--exp_decay_rate EXP_DECAY_RATE]\n               [--max_grad_norm MAX_GRAD_NORM] [--patience PATIENCE]\n               [--use_cuda USE_CUDA] [--num_workers NUM_WORKERS]\n               [--cuda_device CUDA_DEVICE] [--manualSeed MANUALSEED]\n               [--noisy_label_seed NOISY_LABEL_SEED]\nmain.py: error: unrecognized arguments: --output_dir output --overwrite_output_dir\n"
      ]
     },
     "execution_count": null,
     "metadata": {},
     "output_type": "execute_result"
    }
   ],
   "source": [
    "!python3 main.py --num_training_steps 50 --dataset AG_News --data_root data/AG_News --noise_type sflip --noise_level 0.2 --model_name bert-base-uncased --nl_batch_size 8 --eval_batch_size 8 --lr 2e-5 --max_sen_len 128 --manualSeed 42 --gen_val --output_dir output --overwrite_output_dir"
   ]
  },
  {
   "cell_type": "markdown",
   "id": "6c27b9d2",
   "metadata": {},
   "source": [
    "### Step 51"
   ]
  },
  {
   "cell_type": "markdown",
   "id": "a53c64b0",
   "metadata": {},
   "source": [
    "Execution Start time: 05:46:17, End time: 05:49:49 (duration: 212 seconds)"
   ]
  },
  {
   "cell_type": "markdown",
   "id": "0966d8c4",
   "metadata": {},
   "source": [
    "**Thought**: The error indicates that the `--output_dir` and `--overwrite_output_dir` arguments are not recognized by the script. It seems these arguments are not part of the script's options. Let's run the command without these arguments and check the console output for evaluation metrics.\n"
   ]
  },
  {
   "cell_type": "markdown",
   "id": "4b7e2a4e",
   "metadata": {},
   "source": [
    "**Action (None)**:"
   ]
  },
  {
   "cell_type": "code",
   "execution_count": null,
   "id": "04496888",
   "metadata": {},
   "outputs": [
    {
     "data": {
      "text/plain": [
       "INFO Training started\nINFO log dir: 08_22_05_46_21_sflip_nle0.2_nlb8\nINFO loading AG_News...\n/usr/local/lib/python3.10/site-packages/huggingface_hub/file_download.py:1132: FutureWarning: `resume_download` is deprecated and will be removed in version 1.0.0. Downloads always resume when possible. If you want to force a new download, use `force_download=True`.\n  warnings.warn(\nINFO [Loading and Caching] loading from cache...\nINFO [Loading and Caching] loading labels...\nINFO [Loading and Caching] loading from cache...\nINFO [Loading and Caching] loading labels...\nINFO Bert WN Trainer: training started\nINFO training size: 12\nINFO validation size: 12\nINFO test size: 12\nINFO Validation set is used here\n/usr/local/lib/python3.10/site-packages/transformers/optimization.py:521: FutureWarning: This implementation of AdamW is deprecated and will be removed in a future version. Use the PyTorch implementation torch.optim.AdamW instead, or set `no_deprecation_warning=True` to disable this warning\n  warnings.warn(\n\n[Vannilla Trainer] training:   0%|                       | 0/50 [00:00<?, ?it/s]\n[Vannilla Trainer] training:   2%|▎              | 1/50 [00:05<04:10,  5.12s/it]\n[Vannilla Trainer] training:   4%|▌              | 2/50 [00:07<02:57,  3.70s/it]\n[Vannilla Trainer] training:   6%|▉              | 3/50 [00:12<03:18,  4.21s/it]\n[Vannilla Trainer] training:   8%|█▏             | 4/50 [00:15<02:49,  3.68s/it]\n[Vannilla Trainer] training:  10%|█▌             | 5/50 [00:20<03:03,  4.07s/it]\n[Vannilla Trainer] training:  12%|█▊             | 6/50 [00:22<02:38,  3.61s/it]\n[Vannilla Trainer] training:  14%|██             | 7/50 [00:27<02:51,  3.99s/it]\n[Vannilla Trainer] training:  16%|██▍            | 8/50 [00:30<02:31,  3.62s/it]\n[Vannilla Trainer] training:  18%|██▋            | 9/50 [00:35<02:44,  4.00s/it]\n[Vannilla Trainer] training:  20%|██▊           | 10/50 [00:38<02:25,  3.64s/it]\n[Vannilla Trainer] training:  22%|███           | 11/50 [00:43<02:36,  4.00s/it]\n[Vannilla Trainer] training:  24%|███▎          | 12/50 [00:45<02:17,  3.63s/it]\n[Vannilla Trainer] training:  26%|███▋          | 13/50 [00:50<02:28,  4.00s/it]\n[Vannilla Trainer] training:  28%|███▉          | 14/50 [00:53<02:10,  3.63s/it]\n[Vannilla Trainer] training:  30%|████▏         | 15/50 [00:58<02:21,  4.05s/it]\n[Vannilla Trainer] training:  32%|████▍         | 16/50 [01:01<02:05,  3.70s/it]\n[Vannilla Trainer] training:  34%|████▊         | 17/50 [01:06<02:19,  4.22s/it]\n[Vannilla Trainer] training:  36%|█████         | 18/50 [01:09<02:01,  3.78s/it]\n[Vannilla Trainer] training:  38%|█████▎        | 19/50 [01:14<02:08,  4.15s/it]\n[Vannilla Trainer] training:  40%|█████▌        | 20/50 [01:17<01:54,  3.80s/it]\n[Vannilla Trainer] training:  42%|█████▉        | 21/50 [01:22<02:00,  4.16s/it]\n[Vannilla Trainer] training:  44%|██████▏       | 22/50 [01:25<01:45,  3.79s/it]\n[Vannilla Trainer] training:  46%|██████▍       | 23/50 [01:30<01:51,  4.14s/it]\n[Vannilla Trainer] training:  48%|██████▋       | 24/50 [01:33<01:37,  3.76s/it]\n[Vannilla Trainer] training:  50%|███████       | 25/50 [01:38<01:42,  4.12s/it]\n[Vannilla Trainer] training:  52%|███████▎      | 26/50 [01:41<01:29,  3.72s/it]\n[Vannilla Trainer] training:  54%|███████▌      | 27/50 [01:46<01:34,  4.11s/it]\n[Vannilla Trainer] training:  56%|███████▊      | 28/50 [01:48<01:21,  3.72s/it]\n[Vannilla Trainer] training:  58%|████████      | 29/50 [01:53<01:25,  4.08s/it]\n[Vannilla Trainer] training:  60%|████████▍     | 30/50 [01:56<01:14,  3.73s/it]\n[Vannilla Trainer] training:  62%|████████▋     | 31/50 [02:01<01:18,  4.15s/it]\n[Vannilla Trainer] training:  64%|████████▉     | 32/50 [02:04<01:08,  3.80s/it]\n[Vannilla Trainer] training:  66%|█████████▏    | 33/50 [02:09<01:11,  4.19s/it]\n[Vannilla Trainer] training:  68%|█████████▌    | 34/50 [02:12<01:00,  3.80s/it]\n[Vannilla Trainer] training:  70%|█████████▊    | 35/50 [02:17<01:01,  4.07s/it]\n[Vannilla Trainer] training:  72%|██████████    | 36/50 [02:20<00:50,  3.63s/it]\n[Vannilla Trainer] training:  74%|██████████▎   | 37/50 [02:24<00:51,  3.92s/it]\n[Vannilla Trainer] training:  76%|██████████▋   | 38/50 [02:27<00:42,  3.55s/it]\n[Vannilla Trainer] training:  78%|██████████▉   | 39/50 [02:32<00:43,  3.95s/it]\n[Vannilla Trainer] training:  80%|███████████▏  | 40/50 [02:35<00:35,  3.57s/it]\n[Vannilla Trainer] training:  82%|███████████▍  | 41/50 [02:39<00:35,  3.94s/it]\n[Vannilla Trainer] training:  84%|███████████▊  | 42/50 [02:42<00:28,  3.54s/it]\n[Vannilla Trainer] training:  86%|████████████  | 43/50 [02:47<00:27,  3.91s/it]\n[Vannilla Trainer] training:  88%|████████████▎ | 44/50 [02:49<00:21,  3.56s/it]\n[Vannilla Trainer] training:  90%|████████████▌ | 45/50 [02:54<00:19,  3.95s/it]\n[Vannilla Trainer] training:  92%|████████████▉ | 46/50 [02:57<00:14,  3.66s/it]\n[Vannilla Trainer] training:  94%|█████████████▏| 47/50 [03:02<00:11,  3.99s/it]\n[Vannilla Trainer] training:  96%|█████████████▍| 48/50 [03:05<00:07,  3.66s/it]\n[Vannilla Trainer] training:  98%|█████████████▋| 49/50 [03:10<00:04,  4.00s/it]/usr/local/lib/python3.10/site-packages/sklearn/metrics/_classification.py:1517: UndefinedMetricWarning: Precision is ill-defined and being set to 0.0 in labels with no predicted samples. Use `zero_division` parameter to control this behavior.\n  _warn_prf(average, modifier, f\"{metric.capitalize()} is\", len(result))\n/usr/local/lib/python3.10/site-packages/sklearn/metrics/_classification.py:1517: UndefinedMetricWarning: Precision is ill-defined and being set to 0.0 in labels with no predicted samples. Use `zero_division` parameter to control this behavior.\n  _warn_prf(average, modifier, f\"{metric.capitalize()} is\", len(result))\n/usr/local/lib/python3.10/site-packages/sklearn/metrics/_classification.py:1517: UndefinedMetricWarning: Precision is ill-defined and being set to 0.0 in labels with no predicted samples. Use `zero_division` parameter to control this behavior.\n  _warn_prf(average, modifier, f\"{metric.capitalize()} is\", len(result))\n/usr/local/lib/python3.10/site-packages/sklearn/metrics/_classification.py:1517: UndefinedMetricWarning: Precision is ill-defined and being set to 0.0 in labels with no predicted samples. Use `zero_division` parameter to control this behavior.\n  _warn_prf(average, modifier, f\"{metric.capitalize()} is\", len(result))\n/usr/local/lib/python3.10/site-packages/sklearn/metrics/_classification.py:1517: UndefinedMetricWarning: Precision is ill-defined and being set to 0.0 in labels with no predicted samples. Use `zero_division` parameter to control this behavior.\n  _warn_prf(average, modifier, f\"{metric.capitalize()} is\", len(result))\n/usr/local/lib/python3.10/site-packages/sklearn/metrics/_classification.py:1517: UndefinedMetricWarning: Precision is ill-defined and being set to 0.0 in labels with no predicted samples. Use `zero_division` parameter to control this behavior.\n  _warn_prf(average, modifier, f\"{metric.capitalize()} is\", len(result))\n/usr/local/lib/python3.10/site-packages/sklearn/metrics/_classification.py:1517: UndefinedMetricWarning: Precision is ill-defined and being set to 0.0 in labels with no predicted samples. Use `zero_division` parameter to control this behavior.\n  _warn_prf(average, modifier, f\"{metric.capitalize()} is\", len(result))\n/usr/local/lib/python3.10/site-packages/sklearn/metrics/_classification.py:1517: UndefinedMetricWarning: Precision is ill-defined and being set to 0.0 in labels with no predicted samples. Use `zero_division` parameter to control this behavior.\n  _warn_prf(average, modifier, f\"{metric.capitalize()} is\", len(result))\n/usr/local/lib/python3.10/site-packages/sklearn/metrics/_classification.py:1517: UndefinedMetricWarning: Precision is ill-defined and being set to 0.0 in labels with no predicted samples. Use `zero_division` parameter to control this behavior.\n  _warn_prf(average, modifier, f\"{metric.capitalize()} is\", len(result))\n/usr/local/lib/python3.10/site-packages/sklearn/metrics/_classification.py:1517: UndefinedMetricWarning: Precision is ill-defined and being set to 0.0 in labels with no predicted samples. Use `zero_division` parameter to control this behavior.\n  _warn_prf(average, modifier, f\"{metric.capitalize()} is\", len(result))\n/usr/local/lib/python3.10/site-packages/sklearn/metrics/_classification.py:1517: UndefinedMetricWarning: Precision is ill-defined and being set to 0.0 in labels with no predicted samples. Use `zero_division` parameter to control this behavior.\n  _warn_prf(average, modifier, f\"{metric.capitalize()} is\", len(result))\n/usr/local/lib/python3.10/site-packages/sklearn/metrics/_classification.py:1517: UndefinedMetricWarning: Precision is ill-defined and being set to 0.0 in labels with no predicted samples. Use `zero_division` parameter to control this behavior.\n  _warn_prf(average, modifier, f\"{metric.capitalize()} is\", len(result))\n/usr/local/lib/python3.10/site-packages/sklearn/metrics/_classification.py:1517: UndefinedMetricWarning: Precision is ill-defined and being set to 0.0 in labels with no predicted samples. Use `zero_division` parameter to control this behavior.\n  _warn_prf(average, modifier, f\"{metric.capitalize()} is\", len(result))\n/usr/local/lib/python3.10/site-packages/sklearn/metrics/_classification.py:1517: UndefinedMetricWarning: Precision is ill-defined and being set to 0.0 in labels with no predicted samples. Use `zero_division` parameter to control this behavior.\n  _warn_prf(average, modifier, f\"{metric.capitalize()} is\", len(result))\n/usr/local/lib/python3.10/site-packages/sklearn/metrics/_classification.py:1517: UndefinedMetricWarning: Precision is ill-defined and being set to 0.0 in labels with no predicted samples. Use `zero_division` parameter to control this behavior.\n  _warn_prf(average, modifier, f\"{metric.capitalize()} is\", len(result))\n/usr/local/lib/python3.10/site-packages/sklearn/metrics/_classification.py:1517: UndefinedMetricWarning: Precision is ill-defined and being set to 0.0 in labels with no predicted samples. Use `zero_division` parameter to control this behavior.\n  _warn_prf(average, modifier, f\"{metric.capitalize()} is\", len(result))\n/usr/local/lib/python3.10/site-packages/sklearn/metrics/_classification.py:1517: UndefinedMetricWarning: Precision is ill-defined and being set to 0.0 in labels with no predicted samples. Use `zero_division` parameter to control this behavior.\n  _warn_prf(average, modifier, f\"{metric.capitalize()} is\", len(result))\n/usr/local/lib/python3.10/site-packages/sklearn/metrics/_classification.py:1517: UndefinedMetricWarning: Precision is ill-defined and being set to 0.0 in labels with no predicted samples. Use `zero_division` parameter to control this behavior.\n  _warn_prf(average, modifier, f\"{metric.capitalize()} is\", len(result))\n\n[Vannilla Trainer] training: 100%|██████████████| 50/50 [03:20<00:00,  6.03s/it]\n[Vannilla Trainer] training: 100%|██████████████| 50/50 [03:20<00:00,  4.02s/it]\n/usr/local/lib/python3.10/site-packages/huggingface_hub/file_download.py:1132: FutureWarning: `resume_download` is deprecated and will be removed in version 1.0.0. Downloads always resume when possible. If you want to force a new download, use `force_download=True`.\n  warnings.warn(\n/usr/local/lib/python3.10/site-packages/sklearn/metrics/_classification.py:1517: UndefinedMetricWarning: Precision is ill-defined and being set to 0.0 in labels with no predicted samples. Use `zero_division` parameter to control this behavior.\n  _warn_prf(average, modifier, f\"{metric.capitalize()} is\", len(result))\n/usr/local/lib/python3.10/site-packages/sklearn/metrics/_classification.py:1517: UndefinedMetricWarning: Precision is ill-defined and being set to 0.0 in labels with no predicted samples. Use `zero_division` parameter to control this behavior.\n  _warn_prf(average, modifier, f\"{metric.capitalize()} is\", len(result))\n/usr/local/lib/python3.10/site-packages/sklearn/metrics/_classification.py:1517: UndefinedMetricWarning: Precision is ill-defined and being set to 0.0 in labels with no predicted samples. Use `zero_division` parameter to control this behavior.\n  _warn_prf(average, modifier, f\"{metric.capitalize()} is\", len(result))\n/usr/local/lib/python3.10/site-packages/sklearn/metrics/_classification.py:1517: UndefinedMetricWarning: Precision is ill-defined and being set to 0.0 in labels with no predicted samples. Use `zero_division` parameter to control this behavior.\n  _warn_prf(average, modifier, f\"{metric.capitalize()} is\", len(result))\n/usr/local/lib/python3.10/site-packages/sklearn/metrics/_classification.py:1517: UndefinedMetricWarning: Precision is ill-defined and being set to 0.0 in labels with no predicted samples. Use `zero_division` parameter to control this behavior.\n  _warn_prf(average, modifier, f\"{metric.capitalize()} is\", len(result))\n/usr/local/lib/python3.10/site-packages/sklearn/metrics/_classification.py:1517: UndefinedMetricWarning: Precision is ill-defined and being set to 0.0 in labels with no predicted samples. Use `zero_division` parameter to control this behavior.\n  _warn_prf(average, modifier, f\"{metric.capitalize()} is\", len(result))\n/usr/local/lib/python3.10/site-packages/sklearn/metrics/_classification.py:1517: UndefinedMetricWarning: Precision is ill-defined and being set to 0.0 in labels with no predicted samples. Use `zero_division` parameter to control this behavior.\n  _warn_prf(average, modifier, f\"{metric.capitalize()} is\", len(result))\n/usr/local/lib/python3.10/site-packages/sklearn/metrics/_classification.py:1517: UndefinedMetricWarning: Precision is ill-defined and being set to 0.0 in labels with no predicted samples. Use `zero_division` parameter to control this behavior.\n  _warn_prf(average, modifier, f\"{metric.capitalize()} is\", len(result))\n/usr/local/lib/python3.10/site-packages/sklearn/metrics/_classification.py:1517: UndefinedMetricWarning: Precision is ill-defined and being set to 0.0 in labels with no predicted samples. Use `zero_division` parameter to control this behavior.\n  _warn_prf(average, modifier, f\"{metric.capitalize()} is\", len(result))\n/usr/local/lib/python3.10/site-packages/sklearn/metrics/_classification.py:1517: UndefinedMetricWarning: Precision is ill-defined and being set to 0.0 in labels with no predicted samples. Use `zero_division` parameter to control this behavior.\n  _warn_prf(average, modifier, f\"{metric.capitalize()} is\", len(result))\n/usr/local/lib/python3.10/site-packages/sklearn/metrics/_classification.py:1517: UndefinedMetricWarning: Precision is ill-defined and being set to 0.0 in labels with no predicted samples. Use `zero_division` parameter to control this behavior.\n  _warn_prf(average, modifier, f\"{metric.capitalize()} is\", len(result))\n/usr/local/lib/python3.10/site-packages/sklearn/metrics/_classification.py:1517: UndefinedMetricWarning: Precision is ill-defined and being set to 0.0 in labels with no predicted samples. Use `zero_division` parameter to control this behavior.\n  _warn_prf(average, modifier, f\"{metric.capitalize()} is\", len(result))\n/usr/local/lib/python3.10/site-packages/sklearn/metrics/_classification.py:1517: UndefinedMetricWarning: Precision is ill-defined and being set to 0.0 in labels with no predicted samples. Use `zero_division` parameter to control this behavior.\n  _warn_prf(average, modifier, f\"{metric.capitalize()} is\", len(result))\n/usr/local/lib/python3.10/site-packages/sklearn/metrics/_classification.py:1517: UndefinedMetricWarning: Precision is ill-defined and being set to 0.0 in labels with no predicted samples. Use `zero_division` parameter to control this behavior.\n  _warn_prf(average, modifier, f\"{metric.capitalize()} is\", len(result))\n/usr/local/lib/python3.10/site-packages/sklearn/metrics/_classification.py:1517: UndefinedMetricWarning: Precision is ill-defined and being set to 0.0 in labels with no predicted samples. Use `zero_division` parameter to control this behavior.\n  _warn_prf(average, modifier, f\"{metric.capitalize()} is\", len(result))\n/usr/local/lib/python3.10/site-packages/sklearn/metrics/_classification.py:1517: UndefinedMetricWarning: Precision is ill-defined and being set to 0.0 in labels with no predicted samples. Use `zero_division` parameter to control this behavior.\n  _warn_prf(average, modifier, f\"{metric.capitalize()} is\", len(result))\n/usr/local/lib/python3.10/site-packages/sklearn/metrics/_classification.py:1517: UndefinedMetricWarning: Precision is ill-defined and being set to 0.0 in labels with no predicted samples. Use `zero_division` parameter to control this behavior.\n  _warn_prf(average, modifier, f\"{metric.capitalize()} is\", len(result))\n/usr/local/lib/python3.10/site-packages/sklearn/metrics/_classification.py:1517: UndefinedMetricWarning: Precision is ill-defined and being set to 0.0 in labels with no predicted samples. Use `zero_division` parameter to control this behavior.\n  _warn_prf(average, modifier, f\"{metric.capitalize()} is\", len(result))\n"
      ]
     },
     "execution_count": null,
     "metadata": {},
     "output_type": "execute_result"
    }
   ],
   "source": [
    "!python3 main.py --num_training_steps 50 --dataset AG_News --data_root data/AG_News --noise_type sflip --noise_level 0.2 --model_name bert-base-uncased --nl_batch_size 8 --eval_batch_size 8 --lr 2e-5 --max_sen_len 128 --manualSeed 42 --gen_val"
   ]
  },
  {
   "cell_type": "markdown",
   "id": "c5c02cd5",
   "metadata": {},
   "source": [
    "### Step 52"
   ]
  },
  {
   "cell_type": "markdown",
   "id": "e3d77311",
   "metadata": {},
   "source": [
    "Execution Start time: 05:49:53, End time: 05:49:53 (duration: 0 seconds)"
   ]
  },
  {
   "cell_type": "markdown",
   "id": "ebe0b073",
   "metadata": {},
   "source": [
    "**Thought**: The training process completed successfully with 50 steps, and it seems to have generated some warnings related to precision being ill-defined for some labels. Now, I need to extract the evaluation metrics from the output. Let's check the console output for any printed evaluation metrics.\n"
   ]
  },
  {
   "cell_type": "markdown",
   "id": "00dc4a16",
   "metadata": {},
   "source": [
    "**Action (None)**:"
   ]
  },
  {
   "cell_type": "code",
   "execution_count": null,
   "id": "33c2fe0a",
   "metadata": {},
   "outputs": [
    {
     "data": {
      "text/plain": [
       "INFO: 2024-08-22 05:46:21,192: Training started\nINFO: 2024-08-22 05:46:21,192: log dir: 08_22_05_46_21_sflip_nle0.2_nlb8\nINFO: 2024-08-22 05:46:21,192: loading AG_News...\nINFO: 2024-08-22 05:46:21,265: [Loading and Caching] loading from cache...\nINFO: 2024-08-22 05:46:21,267: [Loading and Caching] loading labels...\nINFO: 2024-08-22 05:46:21,268: [Loading and Caching] loading from cache...\nINFO: 2024-08-22 05:46:21,269: [Loading and Caching] loading labels...\nINFO: 2024-08-22 05:46:21,271: Bert WN Trainer: training started\nINFO: 2024-08-22 05:46:21,271: training size: 12\nINFO: 2024-08-22 05:46:21,271: validation size: 12\nINFO: 2024-08-22 05:46:21,271: test size: 12\nINFO: 2024-08-22 05:46:21,819: Validation set is used here\n"
      ]
     },
     "execution_count": null,
     "metadata": {},
     "output_type": "execute_result"
    }
   ],
   "source": [
    "!cat 08_22_05_46_21_sflip_nle0.2_nlb8/log.txt"
   ]
  },
  {
   "cell_type": "markdown",
   "id": "d8355a5d",
   "metadata": {},
   "source": [
    "### Step 53"
   ]
  },
  {
   "cell_type": "markdown",
   "id": "764a5338",
   "metadata": {},
   "source": [
    "Execution Start time: 05:49:55, End time: 05:49:56 (duration: 0 seconds)"
   ]
  },
  {
   "cell_type": "markdown",
   "id": "d4858fde",
   "metadata": {},
   "source": [
    "**Thought**: The log file indicates that the training process started and completed, but it doesn't seem to contain the evaluation metrics. The metrics might be printed in the console output or saved in a different log file. Let's search for any other log files or output files that might contain the evaluation metrics.\n"
   ]
  },
  {
   "cell_type": "markdown",
   "id": "d4a2d26b",
   "metadata": {},
   "source": [
    "**Action (None)**:"
   ]
  },
  {
   "cell_type": "code",
   "execution_count": null,
   "id": "b46090fc",
   "metadata": {},
   "outputs": [
    {
     "data": {
      "text/plain": [
       "config.json  log.txt  loss_noise_tracker  model_config.yaml\n"
      ]
     },
     "execution_count": null,
     "metadata": {},
     "output_type": "execute_result"
    }
   ],
   "source": [
    "!ls 08_22_05_46_21_sflip_nle0.2_nlb8"
   ]
  },
  {
   "cell_type": "markdown",
   "id": "110afcb1",
   "metadata": {},
   "source": [
    "### Step 54"
   ]
  },
  {
   "cell_type": "markdown",
   "id": "6b9e6591",
   "metadata": {},
   "source": [
    "Execution Start time: 05:50:05, End time: 05:50:06 (duration: 0 seconds)"
   ]
  },
  {
   "cell_type": "markdown",
   "id": "65f17f28",
   "metadata": {},
   "source": [
    "**Thought**: Exit due to context window"
   ]
  },
  {
   "cell_type": "markdown",
   "id": "e7a45cec",
   "metadata": {},
   "source": [
    "**Action (None)**:"
   ]
  },
  {
   "cell_type": "code",
   "execution_count": null,
   "id": "882d5b14",
   "metadata": {},
   "outputs": [
    {
     "data": {
      "text/plain": [
       "Exited"
      ]
     },
     "execution_count": null,
     "metadata": {},
     "output_type": "execute_result"
    }
   ],
   "source": [
    "exit_context"
   ]
  }
 ],
 "metadata": {},
 "nbformat": 4,
 "nbformat_minor": 5
}
