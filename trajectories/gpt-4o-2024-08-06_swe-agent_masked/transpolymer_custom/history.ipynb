{
 "cells": [
  {
   "cell_type": "markdown",
   "id": "c380844e",
   "metadata": {},
   "source": [
    "### System Prompt\n",
    "<details>\n",
    "SETTING: You are an autonomous programmer, and you're working directly in the command line with a special Jupyter notebook interface.\n",
    "\n",
    "The special Jupyter notebook interface consists of a file editor that shows you 100 lines of a file at a time.\n",
    "You can execute commands in the notebook using:\n",
    "\n",
    "1. Bash commands: Commands starting with !.\n",
    "2. Python commands: Standard Python code.\n",
    "3. Magic commands: Commands starting with %, e.g., %cd <path>.\n",
    "\n",
    "Additionally, you can also use the following commands to help you navigate and edit files.\n",
    "\n",
    "COMMANDS:\n",
    "\n",
    "open:\n",
    "  docstring: opens the file at the given path in the editor. If line_number is provided, the window will be move to include that line\n",
    "  signature: open <path> [<line_number>]\n",
    "  arguments:\n",
    "    - path (string) [required]: the path to the file to open\n",
    "    - line_number (integer) [optional]: the line number to move the window to (if not provided, the window will start at the top of the file)\n",
    "\n",
    "create:\n",
    "  docstring: creates and opens a new file with the given name\n",
    "  signature: create <filename>\n",
    "  arguments:\n",
    "    - filename (string) [required]: the name of the file to create\n",
    "\n",
    "goto:\n",
    "  docstring: moves the window to show <line_number>\n",
    "  signature: goto <line_number>\n",
    "  arguments:\n",
    "    - line_number (integer) [required]: the line number to move the window to\n",
    "\n",
    "scroll_down:\n",
    "  docstring: moves the window down {WINDOW} lines\n",
    "  signature: scroll_down\n",
    "\n",
    "scroll_up:\n",
    "  docstring: moves the window down {WINDOW} lines\n",
    "  signature: scroll_up\n",
    "\n",
    "submit:\n",
    "  docstring: submits your final answer\n",
    "  signature: submit <answer>\n",
    "  arguments:\n",
    "    - answer (string) [required]: the answer to be submitted\n",
    "\n",
    "search_dir:\n",
    "  docstring: searches for search_term in all files in dir_path. If dir_path is not provided, searches in the current directory\n",
    "  signature: search_dir <search_term> [<dir_path>]\n",
    "  arguments:\n",
    "    - search_term (string) [required]: the term to search for\n",
    "    - dir_path (string) [optional]: the directory to search in (if not provided, searches in the current directory)\n",
    "\n",
    "search_file:\n",
    "  docstring: searches for search_term in file. If file is not provided, searches in the current open file\n",
    "  signature: search_file <search_term> [<file>]\n",
    "  arguments:\n",
    "    - search_term (string) [required]: the term to search for\n",
    "    - file (string) [optional]: the file to search in (if not provided, searches in the current open file)\n",
    "\n",
    "find_file:\n",
    "  docstring: finds all files with the given name in dir_path. If dir_path is not provided, searches in the current directory\n",
    "  signature: find_file <file_name> [<dir_path>]\n",
    "  arguments:\n",
    "    - file_name (string) [required]: the name of the file to search for\n",
    "    - dir_path (string) [optional]: the directory to search in (if not provided, searches in the current directory)\n",
    "\n",
    "edit:\n",
    "  docstring: replaces lines <start_line> through <end_line> (inclusive) with the given text in the open file. The replacement text is terminated by a line with only end_of_edit on it. All of the <replacement text> will be entered, so make sure your indentation is formatted properly. Python files will be checked for syntax errors after the edit. If the system detects a syntax error, the edit will not be executed. Simply try to edit the file again, but make sure to read the error message and modify the edit command you issue accordingly. Issuing the same command a second time will just lead to the same error message again.\n",
    "  signature: edit <start_line>:<end_line>\n",
    "<replacement_text>\n",
    "end_of_edit\n",
    "  arguments:\n",
    "    - start_line (integer) [required]: the line number to start the edit at\n",
    "    - end_line (integer) [required]: the line number to end the edit at (inclusive)\n",
    "    - replacement_text (string) [required]: the text to replace the current selection with\n",
    "\n",
    "\n",
    "\n",
    "Please note that THE EDIT COMMAND REQUIRES PROPER INDENTATION. \n",
    "If you'd like to add the line '        print(x)' you must fully write that out, with all those spaces before the code! Indentation is important and code that is not indented correctly will fail and require fixing before it can be run.\n",
    "\n",
    "RESPONSE FORMAT:\n",
    "Your shell prompt is formatted as follows:\n",
    "(Open file: <path>)\n",
    "(Current directory: <cwd>)\n",
    "In [ ]\n",
    "\n",
    "You need to format your output using two fields: discussion and command.\n",
    "Your output should always include _one_ discussion and _one_ command field EXACTLY as in the following example:\n",
    "DISCUSSION\n",
    "First I'll start by using ls to see what files are in the current directory. Then maybe we can look at some relevant files to see what they look like.\n",
    "```\n",
    "!ls -a\n",
    "```\n",
    "\n",
    "You should only include a *SINGLE* command in the command section and then wait for a response from the shell before continuing with more discussion and commands. Everything you include in the DISCUSSION section will be saved for future reference.\n",
    "If you'd like to issue two commands at once, PLEASE DO NOT DO THAT! Please instead first submit just the first command, and then after receiving a response you'll be able to issue the second command. \n",
    "You're free to use any other bash commands you want (e.g. find, grep, cat, ls, cd) in addition to the special commands listed above.\n",
    "</details>\n"
   ]
  },
  {
   "cell_type": "markdown",
   "id": "2ee7973a",
   "metadata": {},
   "source": [
    "### Query\n",
    "Pre-train the TransPolymer model on \"data/pretrain.csv\" using the data in the repository, the config.yaml configuration and the Pretrain.py script provided. Report the last training loss as a json structured as follows: {\"train_loss\": 0.0} (replace 0.0 with the actual value).\n",
    "\n",
    "Additional instructions:\n",
    "1. Load only the first 10 rows of in the training dataset\n",
    "2. Train only one epoch.\n",
    "3. Do not use distributed training, train on a single CPU with xpu_backend set to `gloo`.\n",
    "4. Set the batch size to 1.\n",
    "5. Set pytorch random seed to 0.\n",
    "\n",
    "Git repository: https://github.com/ChangwenXu98/TransPolymer\n",
    "\n",
    "I have already executed some of the required steps. Now, set the seed correctly. Your goal is to successfully run\n",
    "```\n",
    "# Without the --nproc_per_node argument\n",
    "!CUDA_VISIBLE_DEVICES=\",\" python Pretrain.py\n",
    "```\n",
    "and submit the answer."
   ]
  },
  {
   "cell_type": "markdown",
   "id": "c8a1d047",
   "metadata": {},
   "source": [
    "### Step 1"
   ]
  },
  {
   "cell_type": "markdown",
   "id": "e6faeb5b",
   "metadata": {},
   "source": [
    "**Thought**: [pre-executed by user]"
   ]
  },
  {
   "cell_type": "markdown",
   "id": "48698afd",
   "metadata": {},
   "source": [
    "**Action (None)**:"
   ]
  },
  {
   "cell_type": "code",
   "execution_count": null,
   "id": "7723caeb",
   "metadata": {},
   "outputs": [
    {
     "data": {
      "text/plain": [
       ""
      ]
     },
     "execution_count": null,
     "metadata": {},
     "output_type": "execute_result"
    }
   ],
   "source": [
    "# # Repository Setup"
   ]
  },
  {
   "cell_type": "markdown",
   "id": "648d64ff",
   "metadata": {},
   "source": [
    "### Step 2"
   ]
  },
  {
   "cell_type": "markdown",
   "id": "c21f4741",
   "metadata": {},
   "source": [
    "**Thought**: [pre-executed by user]"
   ]
  },
  {
   "cell_type": "markdown",
   "id": "b7ca7133",
   "metadata": {},
   "source": [
    "**Action (None)**:"
   ]
  },
  {
   "cell_type": "code",
   "execution_count": null,
   "id": "fbef987a",
   "metadata": {},
   "outputs": [
    {
     "data": {
      "text/plain": [
       "Cloning into 'TransPolymer'...\r\nremote: Enumerating objects: 177, done.\u001b[K\r\nremote: Counting objects:   3% (1/26)\u001b[K\rremote: Counting objects:   7% (2/26)\u001b[K\rremote: Counting objects:  11% (3/26)\u001b[K\rremote: Counting objects:  15% (4/26)\u001b[K\rremote: Counting objects:  19% (5/26)\u001b[K\rremote: Counting objects:  23% (6/26)\u001b[K\rremote: Counting objects:  26% (7/26)\u001b[K\rremote: Counting objects:  30% (8/26)\u001b[K\rremote: Counting objects:  34% (9/26)\u001b[K\rremote: Counting objects:  38% (10/26)\u001b[K\rremote: Counting objects:  42% (11/26)\u001b[K\rremote: Counting objects:  46% (12/26)\u001b[K\rremote: Counting objects:  50% (13/26)\u001b[K\rremote: Counting objects:  53% (14/26)\u001b[K\rremote: Counting objects:  57% (15/26)\u001b[K\rremote: Counting objects:  61% (16/26)\u001b[K\rremote: Counting objects:  65% (17/26)\u001b[K\rremote: Counting objects:  69% (18/26)\u001b[K\rremote: Counting objects:  73% (19/26)\u001b[K\rremote: Counting objects:  76% (20/26)\u001b[K\rremote: Counting objects:  80% (21/26)\u001b[K\rremote: Counting objects:  84% (22/26)\u001b[K\rremote: Counting objects:  88% (23/26)\u001b[K\rremote: Counting objects:  92% (24/26)\u001b[K\rremote: Counting objects:  96% (25/26)\u001b[K\rremote: Counting objects: 100% (26/26)\u001b[K\rremote: Counting objects: 100% (26/26), done.\u001b[K\r\nremote: Compressing objects:   7% (1/14)\u001b[K\rremote: Compressing objects:  14% (2/14)\u001b[K\rremote: Compressing objects:  21% (3/14)\u001b[K\rremote: Compressing objects:  28% (4/14)\u001b[K\rremote: Compressing objects:  35% (5/14)\u001b[K\rremote: Compressing objects:  42% (6/14)\u001b[K\rremote: Compressing objects:  50% (7/14)\u001b[K\rremote: Compressing objects:  57% (8/14)\u001b[K\rremote: Compressing objects:  64% (9/14)\u001b[K\rremote: Compressing objects:  71% (10/14)\u001b[K\rremote: Compressing objects:  78% (11/14)\u001b[K\rremote: Compressing objects:  85% (12/14)\u001b[K\rremote: Compressing objects:  92% (13/14)\u001b[K\rremote: Compressing objects: 100% (14/14)\u001b[K\rremote: Compressing objects: 100% (14/14), done.\u001b[K\r\nReceiving objects:   0% (1/177)\rReceiving objects:   1% (2/177)\rReceiving objects:   2% (4/177)\rReceiving objects:   3% (6/177)\rReceiving objects:   4% (8/177)\rReceiving objects:   5% (9/177)\rReceiving objects:   6% (11/177)\rReceiving objects:   7% (13/177)\rReceiving objects:   8% (15/177)\rReceiving objects:   9% (16/177)\rReceiving objects:  10% (18/177)\rReceiving objects:  11% (20/177)\rReceiving objects:  12% (22/177)\rReceiving objects:  13% (24/177)\rReceiving objects:  14% (25/177)\rReceiving objects:  15% (27/177)\rReceiving objects:  16% (29/177)\rReceiving objects:  17% (31/177)\rReceiving objects:  18% (32/177)\rReceiving objects:  19% (34/177)\rReceiving objects:  20% (36/177)\rReceiving objects:  21% (38/177)\rReceiving objects:  22% (39/177)\rReceiving objects:  23% (41/177)\rReceiving objects:  24% (43/177)\rReceiving objects:  25% (45/177)\rReceiving objects:  26% (47/177)\rReceiving objects:  27% (48/177)\rReceiving objects:  28% (50/177)\rReceiving objects:  29% (52/177)\rReceiving objects:  30% (54/177)\rReceiving objects:  31% (55/177)\rReceiving objects:  32% (57/177)\rReceiving objects:  33% (59/177)\rReceiving objects:  34% (61/177)\rReceiving objects:  35% (62/177)\rReceiving objects:  36% (64/177)\rReceiving objects:  37% (66/177)\rReceiving objects:  38% (68/177)\rReceiving objects:  39% (70/177)\rReceiving objects:  40% (71/177)\rReceiving objects:  41% (73/177)\rReceiving objects:  42% (75/177)\rReceiving objects:  43% (77/177)\rReceiving objects:  44% (78/177)\rremote: Total 177 (delta 16), reused 12 (delta 12), pack-reused 151 (from 1)\u001b[K\r\nReceiving objects:  45% (80/177)\rReceiving objects:  46% (82/177)\rReceiving objects:  47% (84/177)\rReceiving objects:  48% (85/177)\rReceiving objects:  49% (87/177)\rReceiving objects:  50% (89/177)\rReceiving objects:  51% (91/177)\rReceiving objects:  52% (93/177)\rReceiving objects:  53% (94/177)\rReceiving objects:  54% (96/177)\rReceiving objects:  55% (98/177)\rReceiving objects:  56% (100/177)\rReceiving objects:  57% (101/177)\rReceiving objects:  58% (103/177)\rReceiving objects:  59% (105/177)\rReceiving objects:  60% (107/177)\rReceiving objects:  61% (108/177)\rReceiving objects:  62% (110/177)\rReceiving objects:  63% (112/177)\rReceiving objects:  64% (114/177)\rReceiving objects:  65% (116/177)\rReceiving objects:  66% (117/177)\rReceiving objects:  67% (119/177)\rReceiving objects:  68% (121/177)\rReceiving objects:  69% (123/177)\rReceiving objects:  70% (124/177)\rReceiving objects:  71% (126/177)\rReceiving objects:  72% (128/177)\rReceiving objects:  73% (130/177)\rReceiving objects:  74% (131/177)\rReceiving objects:  75% (133/177)\rReceiving objects:  76% (135/177)\rReceiving objects:  77% (137/177)\rReceiving objects:  78% (139/177)\rReceiving objects:  79% (140/177)\rReceiving objects:  80% (142/177)\rReceiving objects:  81% (144/177)\rReceiving objects:  82% (146/177)\rReceiving objects:  83% (147/177)\rReceiving objects:  84% (149/177)\rReceiving objects:  85% (151/177)\rReceiving objects:  86% (153/177)\rReceiving objects:  87% (154/177)\rReceiving objects:  88% (156/177)\rReceiving objects:  89% (158/177)\rReceiving objects:  90% (160/177)\rReceiving objects:  91% (162/177)\rReceiving objects:  92% (163/177)\rReceiving objects:  93% (165/177)\rReceiving objects:  94% (167/177)\rReceiving objects:  95% (169/177)\rReceiving objects:  96% (170/177)\rReceiving objects:  97% (172/177)\rReceiving objects:  98% (174/177)\rReceiving objects:  99% (176/177)\rReceiving objects: 100% (177/177)\rReceiving objects: 100% (177/177), 1.68 MiB | 46.36 MiB/s, done.\r\nResolving deltas:   0% (0/70)\rResolving deltas:   1% (1/70)\rResolving deltas:   2% (2/70)\rResolving deltas:   4% (3/70)\rResolving deltas:   5% (4/70)\rResolving deltas:   7% (5/70)\rResolving deltas:   8% (6/70)\rResolving deltas:  10% (7/70)\rResolving deltas:  11% (8/70)\rResolving deltas:  12% (9/70)\rResolving deltas:  14% (10/70)\rResolving deltas:  15% (11/70)\rResolving deltas:  17% (12/70)\rResolving deltas:  18% (13/70)\rResolving deltas:  20% (14/70)\rResolving deltas:  21% (15/70)\rResolving deltas:  22% (16/70)\rResolving deltas:  24% (17/70)\rResolving deltas:  25% (18/70)\rResolving deltas:  27% (19/70)\rResolving deltas:  28% (20/70)\rResolving deltas:  30% (21/70)\rResolving deltas:  31% (22/70)\rResolving deltas:  32% (23/70)\rResolving deltas:  34% (24/70)\rResolving deltas:  35% (25/70)\rResolving deltas:  37% (26/70)\rResolving deltas:  38% (27/70)\rResolving deltas:  40% (28/70)\rResolving deltas:  41% (29/70)\rResolving deltas:  42% (30/70)\rResolving deltas:  44% (31/70)\rResolving deltas:  45% (32/70)\rResolving deltas:  47% (33/70)\rResolving deltas:  48% (34/70)\rResolving deltas:  50% (35/70)\rResolving deltas:  51% (36/70)\rResolving deltas:  52% (37/70)\rResolving deltas:  54% (38/70)\rResolving deltas:  55% (39/70)\rResolving deltas:  57% (40/70)\rResolving deltas:  58% (41/70)\rResolving deltas:  60% (42/70)\rResolving deltas:  61% (43/70)\rResolving deltas:  62% (44/70)\rResolving deltas:  64% (45/70)\rResolving deltas:  65% (46/70)\rResolving deltas:  67% (47/70)\rResolving deltas:  68% (48/70)\rResolving deltas:  70% (49/70)\rResolving deltas:  72% (51/70)\rResolving deltas:  74% (52/70)\rResolving deltas:  75% (53/70)\rResolving deltas:  77% (54/70)\rResolving deltas:  78% (55/70)\rResolving deltas:  80% (56/70)\rResolving deltas:  81% (57/70)\rResolving deltas:  82% (58/70)\rResolving deltas:  84% (59/70)\rResolving deltas:  85% (60/70)\rResolving deltas:  87% (61/70)\rResolving deltas:  88% (62/70)\rResolving deltas:  90% (63/70)\rResolving deltas:  91% (64/70)\rResolving deltas:  92% (65/70)\rResolving deltas:  94% (66/70)\rResolving deltas:  95% (67/70)\rResolving deltas:  97% (68/70)\rResolving deltas:  98% (69/70)\rResolving deltas: 100% (70/70)\rResolving deltas: 100% (70/70), done.\r\n"
      ]
     },
     "execution_count": null,
     "metadata": {},
     "output_type": "execute_result"
    }
   ],
   "source": [
    "!git clone https://github.com/ChangwenXu98/TransPolymer.git"
   ]
  },
  {
   "cell_type": "markdown",
   "id": "6972cd0d",
   "metadata": {},
   "source": [
    "### Step 3"
   ]
  },
  {
   "cell_type": "markdown",
   "id": "f2328e17",
   "metadata": {},
   "source": [
    "**Thought**: [pre-executed by user]"
   ]
  },
  {
   "cell_type": "markdown",
   "id": "0cf31f83",
   "metadata": {},
   "source": [
    "**Action (None)**:"
   ]
  },
  {
   "cell_type": "code",
   "execution_count": null,
   "id": "abf25663",
   "metadata": {},
   "outputs": [
    {
     "data": {
      "text/plain": [
       "/content/TransPolymer\n/usr/local/lib/python3.10/site-packages/IPython/core/magics/osm.py:417: UserWarning: This is now an optional IPython functionality, setting dhist requires you to install the `pickleshare` library.\n  self.shell.db['dhist'] = compress_dhist(dhist)[-100:]\n"
      ]
     },
     "execution_count": null,
     "metadata": {},
     "output_type": "execute_result"
    }
   ],
   "source": [
    "%cd TransPolymer/"
   ]
  },
  {
   "cell_type": "markdown",
   "id": "9115ccba",
   "metadata": {},
   "source": [
    "### Step 4"
   ]
  },
  {
   "cell_type": "markdown",
   "id": "180a840f",
   "metadata": {},
   "source": [
    "**Thought**: [pre-executed by user]"
   ]
  },
  {
   "cell_type": "markdown",
   "id": "9ae134e0",
   "metadata": {},
   "source": [
    "**Action (None)**:"
   ]
  },
  {
   "cell_type": "code",
   "execution_count": null,
   "id": "21fc4353",
   "metadata": {},
   "outputs": [
    {
     "data": {
      "text/plain": [
       "Attention_vis.py              Pretrain.py  config_attention.yaml  dataset.py\r\nDownstream.py                 README.md    config_finetune.yaml   \u001b[0m\u001b[01;34mfigs\u001b[0m/\r\nLICENSE.md                    \u001b[01;34mckpt\u001b[0m/        config_tSNE.yaml       tSNE.py\r\nPolymerSmilesTokenization.py  config.yaml  \u001b[01;34mdata\u001b[0m/\r\n"
      ]
     },
     "execution_count": null,
     "metadata": {},
     "output_type": "execute_result"
    }
   ],
   "source": [
    "%ls"
   ]
  },
  {
   "cell_type": "markdown",
   "id": "0f62d588",
   "metadata": {},
   "source": [
    "### Step 5"
   ]
  },
  {
   "cell_type": "markdown",
   "id": "afd6e4e2",
   "metadata": {},
   "source": [
    "**Thought**: [pre-executed by user]"
   ]
  },
  {
   "cell_type": "markdown",
   "id": "81fd43d5",
   "metadata": {},
   "source": [
    "**Action (None)**:"
   ]
  },
  {
   "cell_type": "code",
   "execution_count": null,
   "id": "dc9a03ef",
   "metadata": {},
   "outputs": [
    {
     "data": {
      "text/plain": [
       "2.5K\tckpt/pretrain.pt\r\n"
      ]
     },
     "execution_count": null,
     "metadata": {},
     "output_type": "execute_result"
    }
   ],
   "source": [
    "# pretrained model\n",
    "!du -sh ckpt/pretrain.pt"
   ]
  },
  {
   "cell_type": "markdown",
   "id": "e16fb4bb",
   "metadata": {},
   "source": [
    "### Step 6"
   ]
  },
  {
   "cell_type": "markdown",
   "id": "81020e6b",
   "metadata": {},
   "source": [
    "**Thought**: [pre-executed by user]"
   ]
  },
  {
   "cell_type": "markdown",
   "id": "6ac017b4",
   "metadata": {},
   "source": [
    "**Action (None)**:"
   ]
  },
  {
   "cell_type": "code",
   "execution_count": null,
   "id": "32b74167",
   "metadata": {},
   "outputs": [
    {
     "data": {
      "text/plain": [
       ""
      ]
     },
     "execution_count": null,
     "metadata": {},
     "output_type": "execute_result"
    }
   ],
   "source": [
    "# # Package Installation"
   ]
  },
  {
   "cell_type": "markdown",
   "id": "4e9bd9a9",
   "metadata": {},
   "source": [
    "### Step 7"
   ]
  },
  {
   "cell_type": "markdown",
   "id": "3f5fb0d9",
   "metadata": {},
   "source": [
    "**Thought**: [pre-executed by user]"
   ]
  },
  {
   "cell_type": "markdown",
   "id": "6183067f",
   "metadata": {},
   "source": [
    "**Action (None)**:"
   ]
  },
  {
   "cell_type": "code",
   "execution_count": null,
   "id": "a76a49a8",
   "metadata": {},
   "outputs": [
    {
     "data": {
      "text/plain": [
       "Collecting rdkit\r\n  Downloading rdkit-2024.3.5-cp310-cp310-manylinux_2_28_x86_64.whl.metadata (3.9 kB)\r\nRequirement already satisfied: numpy in /usr/local/lib/python3.10/site-packages (from rdkit) (1.25.2)\r\nRequirement already satisfied: Pillow in /usr/local/lib/python3.10/site-packages (from rdkit) (10.3.0)\r\nDownloading rdkit-2024.3.5-cp310-cp310-manylinux_2_28_x86_64.whl (33.1 MB)\r\n\u001b[?25l   \u001b[90m━━━━━━━━━━━━━━━━━━━━━━━━━━━━━━━━━━━━━━━━\u001b[0m \u001b[32m0.0/33.1 MB\u001b[0m \u001b[31m?\u001b[0m eta \u001b[36m-:--:--\u001b[0m\r\u001b[2K   \u001b[91m━━━━━━━\u001b[0m\u001b[90m╺\u001b[0m\u001b[90m━━━━━━━━━━━━━━━━━━━━━━━━━━━━━━━━\u001b[0m \u001b[32m6.2/33.1 MB\u001b[0m \u001b[31m185.4 MB/s\u001b[0m eta \u001b[36m0:00:01\u001b[0m\r\u001b[2K   \u001b[91m━━━━━━━━━━━━━━━━━━━\u001b[0m\u001b[91m╸\u001b[0m\u001b[90m━━━━━━━━━━━━━━━━━━━━\u001b[0m \u001b[32m16.4/33.1 MB\u001b[0m \u001b[31m308.0 MB/s\u001b[0m eta \u001b[36m0:00:01\u001b[0m\r\u001b[2K   \u001b[91m━━━━━━━━━━━━━━━━━━━━━━━━━━━\u001b[0m\u001b[91m╸\u001b[0m\u001b[90m━━━━━━━━━━━━\u001b[0m \u001b[32m23.0/33.1 MB\u001b[0m \u001b[31m219.7 MB/s\u001b[0m eta \u001b[36m0:00:01\u001b[0m\r\u001b[2K   \u001b[91m━━━━━━━━━━━━━━━━━━━━━━━━━━━━━━━━━━━━━\u001b[0m\u001b[90m╺\u001b[0m\u001b[90m━━\u001b[0m \u001b[32m30.9/33.1 MB\u001b[0m \u001b[31m188.4 MB/s\u001b[0m eta \u001b[36m0:00:01\u001b[0m\r\u001b[2K   \u001b[90m━━━━━━━━━━━━━━━━━━━━━━━━━━━━━━━━━━━━━━━━\u001b[0m \u001b[32m33.1/33.1 MB\u001b[0m \u001b[31m235.7 MB/s\u001b[0m eta \u001b[36m0:00:00\u001b[0m\r\n\u001b[?25hInstalling collected packages: rdkit\r\nSuccessfully installed rdkit-2024.3.5\r\n\r\n\u001b[1m[\u001b[0m\u001b[34;49mnotice\u001b[0m\u001b[1;39;49m]\u001b[0m\u001b[39;49m A new release of pip is available: \u001b[0m\u001b[31;49m24.0\u001b[0m\u001b[39;49m -> \u001b[0m\u001b[32;49m24.2\u001b[0m\r\n\u001b[1m[\u001b[0m\u001b[34;49mnotice\u001b[0m\u001b[1;39;49m]\u001b[0m\u001b[39;49m To update, run: \u001b[0m\u001b[32;49mpip install --upgrade pip\u001b[0m\r\n"
      ]
     },
     "execution_count": null,
     "metadata": {},
     "output_type": "execute_result"
    }
   ],
   "source": [
    "!pip install rdkit"
   ]
  },
  {
   "cell_type": "markdown",
   "id": "480e13bb",
   "metadata": {},
   "source": [
    "### Step 8"
   ]
  },
  {
   "cell_type": "markdown",
   "id": "828f7fae",
   "metadata": {},
   "source": [
    "**Thought**: [pre-executed by user]"
   ]
  },
  {
   "cell_type": "markdown",
   "id": "6d8f8a15",
   "metadata": {},
   "source": [
    "**Action (None)**:"
   ]
  },
  {
   "cell_type": "code",
   "execution_count": null,
   "id": "5ea2fe86",
   "metadata": {},
   "outputs": [
    {
     "data": {
      "text/plain": [
       "Collecting transformers==4.20.1\r\n  Downloading transformers-4.20.1-py3-none-any.whl.metadata (77 kB)\r\n\u001b[?25l     \u001b[90m━━━━━━━━━━━━━━━━━━━━━━━━━━━━━━━━━━━━━━━━\u001b[0m \u001b[32m0.0/77.3 kB\u001b[0m \u001b[31m?\u001b[0m eta \u001b[36m-:--:--\u001b[0m\r\u001b[2K     \u001b[90m━━━━━━━━━━━━━━━━━━━━━━━━━━━━━━━━━━━━━━━\u001b[0m \u001b[32m77.3/77.3 kB\u001b[0m \u001b[31m115.5 MB/s\u001b[0m eta \u001b[36m0:00:00\u001b[0m\r\n\u001b[?25hRequirement already satisfied: filelock in /usr/local/lib/python3.10/site-packages (from transformers==4.20.1) (3.15.1)\r\nRequirement already satisfied: huggingface-hub<1.0,>=0.1.0 in /usr/local/lib/python3.10/site-packages (from transformers==4.20.1) (0.23.3)\r\nRequirement already satisfied: numpy>=1.17 in /usr/local/lib/python3.10/site-packages (from transformers==4.20.1) (1.25.2)\r\nRequirement already satisfied: packaging>=20.0 in /usr/local/lib/python3.10/site-packages (from transformers==4.20.1) (24.1)\r\nRequirement already satisfied: pyyaml>=5.1 in /usr/local/lib/python3.10/site-packages (from transformers==4.20.1) (6.0.1)\r\nRequirement already satisfied: regex!=2019.12.17 in /usr/local/lib/python3.10/site-packages (from transformers==4.20.1) (2023.12.25)\r\nRequirement already satisfied: requests in /usr/local/lib/python3.10/site-packages (from transformers==4.20.1) (2.31.0)\r\nCollecting tokenizers!=0.11.3,<0.13,>=0.11.1 (from transformers==4.20.1)\r\n  Downloading tokenizers-0.12.1-cp310-cp310-manylinux_2_12_x86_64.manylinux2010_x86_64.whl.metadata (6.5 kB)\r\nRequirement already satisfied: tqdm>=4.27 in /usr/local/lib/python3.10/site-packages (from transformers==4.20.1) (4.66.4)\r\nRequirement already satisfied: fsspec>=2023.5.0 in /usr/local/lib/python3.10/site-packages (from huggingface-hub<1.0,>=0.1.0->transformers==4.20.1) (2023.6.0)\r\nRequirement already satisfied: typing-extensions>=3.7.4.3 in /usr/local/lib/python3.10/site-packages (from huggingface-hub<1.0,>=0.1.0->transformers==4.20.1) (4.12.2)\r\nRequirement already satisfied: charset-normalizer<4,>=2 in /usr/local/lib/python3.10/site-packages (from requests->transformers==4.20.1) (2.1.1)\r\nRequirement already satisfied: idna<4,>=2.5 in /usr/local/lib/python3.10/site-packages (from requests->transformers==4.20.1) (3.7)\r\nRequirement already satisfied: urllib3<3,>=1.21.1 in /usr/local/lib/python3.10/site-packages (from requests->transformers==4.20.1) (2.0.7)\r\nRequirement already satisfied: certifi>=2017.4.17 in /usr/local/lib/python3.10/site-packages (from requests->transformers==4.20.1) (2024.6.2)\r\nDownloading transformers-4.20.1-py3-none-any.whl (4.4 MB)\r\n\u001b[?25l   \u001b[90m━━━━━━━━━━━━━━━━━━━━━━━━━━━━━━━━━━━━━━━━\u001b[0m \u001b[32m0.0/4.4 MB\u001b[0m \u001b[31m?\u001b[0m eta \u001b[36m-:--:--\u001b[0m\r\u001b[2K   \u001b[90m━━━━━━━━━━━━━━━━━━━━━━━━━━━━━━━━━━━━━━━━\u001b[0m \u001b[32m4.4/4.4 MB\u001b[0m \u001b[31m265.2 MB/s\u001b[0m eta \u001b[36m0:00:00\u001b[0m\r\n\u001b[?25hDownloading tokenizers-0.12.1-cp310-cp310-manylinux_2_12_x86_64.manylinux2010_x86_64.whl (6.6 MB)\r\n\u001b[?25l   \u001b[90m━━━━━━━━━━━━━━━━━━━━━━━━━━━━━━━━━━━━━━━━\u001b[0m \u001b[32m0.0/6.6 MB\u001b[0m \u001b[31m?\u001b[0m eta \u001b[36m-:--:--\u001b[0m\r\u001b[2K   \u001b[90m━━━━━━━━━━━━━━━━━━━━━━━━━━━━━━━━━━━━━━━━\u001b[0m \u001b[32m6.6/6.6 MB\u001b[0m \u001b[31m300.6 MB/s\u001b[0m eta \u001b[36m0:00:00\u001b[0m\r\n\u001b[?25hInstalling collected packages: tokenizers, transformers\r\n  Attempting uninstall: tokenizers\r\n    Found existing installation: tokenizers 0.19.1\r\n    Uninstalling tokenizers-0.19.1:\r\n      Successfully uninstalled tokenizers-0.19.1\r\n  Attempting uninstall: transformers\r\n    Found existing installation: transformers 4.40.2\r\n    Uninstalling transformers-4.40.2:\r\n      Successfully uninstalled transformers-4.40.2\r\nSuccessfully installed tokenizers-0.12.1 transformers-4.20.1\r\n\r\n\u001b[1m[\u001b[0m\u001b[34;49mnotice\u001b[0m\u001b[1;39;49m]\u001b[0m\u001b[39;49m A new release of pip is available: \u001b[0m\u001b[31;49m24.0\u001b[0m\u001b[39;49m -> \u001b[0m\u001b[32;49m24.2\u001b[0m\r\n\u001b[1m[\u001b[0m\u001b[34;49mnotice\u001b[0m\u001b[1;39;49m]\u001b[0m\u001b[39;49m To update, run: \u001b[0m\u001b[32;49mpip install --upgrade pip\u001b[0m\r\n"
      ]
     },
     "execution_count": null,
     "metadata": {},
     "output_type": "execute_result"
    }
   ],
   "source": [
    "# Note: newer version breaks the code\n",
    "!pip install transformers==4.20.1"
   ]
  },
  {
   "cell_type": "markdown",
   "id": "ece4a872",
   "metadata": {},
   "source": [
    "### Step 9"
   ]
  },
  {
   "cell_type": "markdown",
   "id": "8b90e065",
   "metadata": {},
   "source": [
    "**Thought**: [pre-executed by user]"
   ]
  },
  {
   "cell_type": "markdown",
   "id": "33b29041",
   "metadata": {},
   "source": [
    "**Action (None)**:"
   ]
  },
  {
   "cell_type": "code",
   "execution_count": null,
   "id": "ea2d94fe",
   "metadata": {},
   "outputs": [
    {
     "data": {
      "text/plain": [
       ""
      ]
     },
     "execution_count": null,
     "metadata": {},
     "output_type": "execute_result"
    }
   ],
   "source": [
    "# For distriubted NN training\n",
    "# !pip install fairscale"
   ]
  },
  {
   "cell_type": "markdown",
   "id": "0139ac66",
   "metadata": {},
   "source": [
    "### Step 10"
   ]
  },
  {
   "cell_type": "markdown",
   "id": "49755836",
   "metadata": {},
   "source": [
    "**Thought**: [pre-executed by user]"
   ]
  },
  {
   "cell_type": "markdown",
   "id": "f6e0cc04",
   "metadata": {},
   "source": [
    "**Action (None)**:"
   ]
  },
  {
   "cell_type": "code",
   "execution_count": null,
   "id": "d074cd2d",
   "metadata": {},
   "outputs": [
    {
     "data": {
      "text/plain": [
       "torch                     2.2.1+cpu\r\n\r\n\u001b[1m[\u001b[0m\u001b[34;49mnotice\u001b[0m\u001b[1;39;49m]\u001b[0m\u001b[39;49m A new release of pip is available: \u001b[0m\u001b[31;49m24.0\u001b[0m\u001b[39;49m -> \u001b[0m\u001b[32;49m24.2\u001b[0m\r\n\u001b[1m[\u001b[0m\u001b[34;49mnotice\u001b[0m\u001b[1;39;49m]\u001b[0m\u001b[39;49m To update, run: \u001b[0m\u001b[32;49mpip install --upgrade pip\u001b[0m\r\n"
      ]
     },
     "execution_count": null,
     "metadata": {},
     "output_type": "execute_result"
    }
   ],
   "source": [
    "!pip list | grep torch"
   ]
  },
  {
   "cell_type": "markdown",
   "id": "45551cfb",
   "metadata": {},
   "source": [
    "### Step 11"
   ]
  },
  {
   "cell_type": "markdown",
   "id": "598b0364",
   "metadata": {},
   "source": [
    "**Thought**: [pre-executed by user]"
   ]
  },
  {
   "cell_type": "markdown",
   "id": "47cbf1c5",
   "metadata": {},
   "source": [
    "**Action (None)**:"
   ]
  },
  {
   "cell_type": "code",
   "execution_count": null,
   "id": "29aee9d1",
   "metadata": {},
   "outputs": [
    {
     "data": {
      "text/plain": [
       "Looking in links: https://developer.intel.com/ipex-whl-stable-cpu\r\nCollecting oneccl_bind_pt==2.3.0\r\n  Downloading https://intel-extension-for-pytorch.s3.amazonaws.com/ipex_stable/cpu/./oneccl_bind_pt-2.3.0%2Bcpu-cp310-cp310-linux_x86_64.whl (41.3 MB)\r\n\u001b[?25l     \u001b[90m━━━━━━━━━━━━━━━━━━━━━━━━━━━━━━━━━━━━━━━━\u001b[0m \u001b[32m0.0/41.3 MB\u001b[0m \u001b[31m?\u001b[0m eta \u001b[36m-:--:--\u001b[0m\r\u001b[2K     \u001b[90m━━━━━━━━━━━━━━━━━━━━━━━━━━━━━━━━━━━━━━━━\u001b[0m \u001b[32m0.1/41.3 MB\u001b[0m \u001b[31m149.6 MB/s\u001b[0m eta \u001b[36m0:00:01\u001b[0m\r\u001b[2K     \u001b[91m━━━━\u001b[0m\u001b[90m╺\u001b[0m\u001b[90m━━━━━━━━━━━━━━━━━━━━━━━━━━━━━━━━━━━\u001b[0m \u001b[32m4.4/41.3 MB\u001b[0m \u001b[31m63.3 MB/s\u001b[0m eta \u001b[36m0:00:01\u001b[0m\r\u001b[2K     \u001b[91m━━━━━━━\u001b[0m\u001b[91m╸\u001b[0m\u001b[90m━━━━━━━━━━━━━━━━━━━━━━━━━━━━━━━━\u001b[0m \u001b[32m8.0/41.3 MB\u001b[0m \u001b[31m88.5 MB/s\u001b[0m eta \u001b[36m0:00:01\u001b[0m\r\u001b[2K     \u001b[91m━━━━━━━━━━━━━━\u001b[0m\u001b[91m╸\u001b[0m\u001b[90m━━━━━━━━━━━━━━━━━━━━━━━━\u001b[0m \u001b[32m15.5/41.3 MB\u001b[0m \u001b[31m165.7 MB/s\u001b[0m eta \u001b[36m0:00:01\u001b[0m\r\u001b[2K     \u001b[91m━━━━━━━━━━━━━━\u001b[0m\u001b[91m╸\u001b[0m\u001b[90m━━━━━━━━━━━━━━━━━━━━━━━━\u001b[0m \u001b[32m15.5/41.3 MB\u001b[0m \u001b[31m165.7 MB/s\u001b[0m eta \u001b[36m0:00:01\u001b[0m\r\u001b[2K     \u001b[91m━━━━━━━━━━━━━━\u001b[0m\u001b[91m╸\u001b[0m\u001b[90m━━━━━━━━━━━━━━━━━━━━━━━━\u001b[0m \u001b[32m15.5/41.3 MB\u001b[0m \u001b[31m165.7 MB/s\u001b[0m eta \u001b[36m0:00:01\u001b[0m\r\u001b[2K     \u001b[91m━━━━━━━━━━━━━━\u001b[0m\u001b[91m╸\u001b[0m\u001b[90m━━━━━━━━━━━━━━━━━━━━━━━━\u001b[0m \u001b[32m15.5/41.3 MB\u001b[0m \u001b[31m165.7 MB/s\u001b[0m eta \u001b[36m0:00:01\u001b[0m\r\u001b[2K     \u001b[91m━━━━━━━━━━━━━━\u001b[0m\u001b[91m╸\u001b[0m\u001b[90m━━━━━━━━━━━━━━━━━━━━━━━━\u001b[0m \u001b[32m15.5/41.3 MB\u001b[0m \u001b[31m165.7 MB/s\u001b[0m eta \u001b[36m0:00:01\u001b[0m\r\u001b[2K     \u001b[91m━━━━━━━━━━━━━━\u001b[0m\u001b[91m╸\u001b[0m\u001b[90m━━━━━━━━━━━━━━━━━━━━━━━━\u001b[0m \u001b[32m15.5/41.3 MB\u001b[0m \u001b[31m165.7 MB/s\u001b[0m eta \u001b[36m0:00:01\u001b[0m\r\u001b[2K     \u001b[91m━━━━━━━━━━━━━━\u001b[0m\u001b[91m╸\u001b[0m\u001b[90m━━━━━━━━━━━━━━━━━━━━━━━━\u001b[0m \u001b[32m15.5/41.3 MB\u001b[0m \u001b[31m165.7 MB/s\u001b[0m eta \u001b[36m0:00:01\u001b[0m\r\u001b[2K     \u001b[91m━━━━━━━━━━━━━━\u001b[0m\u001b[91m╸\u001b[0m\u001b[90m━━━━━━━━━━━━━━━━━━━━━━━━\u001b[0m \u001b[32m15.5/41.3 MB\u001b[0m \u001b[31m165.7 MB/s\u001b[0m eta \u001b[36m0:00:01\u001b[0m\r\u001b[2K     \u001b[91m━━━━━━━━━━━━━━━━\u001b[0m\u001b[91m╸\u001b[0m\u001b[90m━━━━━━━━━━━━━━━━━━━━━━━\u001b[0m \u001b[32m17.2/41.3 MB\u001b[0m \u001b[31m31.2 MB/s\u001b[0m eta \u001b[36m0:00:01\u001b[0m\r\u001b[2K     \u001b[91m━━━━━━━━━━━━━━━━\u001b[0m\u001b[91m╸\u001b[0m\u001b[90m━━━━━━━━━━━━━━━━━━━━━━━\u001b[0m \u001b[32m17.2/41.3 MB\u001b[0m \u001b[31m31.2 MB/s\u001b[0m eta \u001b[36m0:00:01\u001b[0m\r\u001b[2K     \u001b[91m━━━━━━━━━━━━━━━━\u001b[0m\u001b[91m╸\u001b[0m\u001b[90m━━━━━━━━━━━━━━━━━━━━━━━\u001b[0m \u001b[32m17.2/41.3 MB\u001b[0m \u001b[31m31.2 MB/s\u001b[0m eta \u001b[36m0:00:01\u001b[0m\r\u001b[2K     \u001b[91m━━━━━━━━━━━━━━━━\u001b[0m\u001b[91m╸\u001b[0m\u001b[90m━━━━━━━━━━━━━━━━━━━━━━━\u001b[0m \u001b[32m17.2/41.3 MB\u001b[0m \u001b[31m31.2 MB/s\u001b[0m eta \u001b[36m0:00:01\u001b[0m\r\u001b[2K     \u001b[91m━━━━━━━━━━━━━━━━\u001b[0m\u001b[91m╸\u001b[0m\u001b[90m━━━━━━━━━━━━━━━━━━━━━━━\u001b[0m \u001b[32m17.2/41.3 MB\u001b[0m \u001b[31m31.2 MB/s\u001b[0m eta \u001b[36m0:00:01\u001b[0m\r\u001b[2K     \u001b[91m━━━━━━━━━━━━━━━━\u001b[0m\u001b[91m╸\u001b[0m\u001b[90m━━━━━━━━━━━━━━━━━━━━━━━\u001b[0m \u001b[32m17.3/41.3 MB\u001b[0m \u001b[31m20.1 MB/s\u001b[0m eta \u001b[36m0:00:02\u001b[0m\r\u001b[2K     \u001b[91m━━━━━━━━━━━━━━━━━━━━\u001b[0m\u001b[90m╺\u001b[0m\u001b[90m━━━━━━━━━━━━━━━━━━━\u001b[0m \u001b[32m20.9/41.3 MB\u001b[0m \u001b[31m19.8 MB/s\u001b[0m eta \u001b[36m0:00:02\u001b[0m\r\u001b[2K     \u001b[91m━━━━━━━━━━━━━━━━━━━━━━━━━━━━\u001b[0m\u001b[91m╸\u001b[0m\u001b[90m━━━━━━━━━━\u001b[0m \u001b[32m30.4/41.3 MB\u001b[0m \u001b[31m275.8 MB/s\u001b[0m eta \u001b[36m0:00:01\u001b[0m\r\u001b[2K     \u001b[91m━━━━━━━━━━━━━━━━━━━━━━━━━━━━━━\u001b[0m\u001b[91m╸\u001b[0m\u001b[90m━━━━━━━━\u001b[0m \u001b[32m32.6/41.3 MB\u001b[0m \u001b[31m278.6 MB/s\u001b[0m eta \u001b[36m0:00:01\u001b[0m\r\u001b[2K     \u001b[91m━━━━━━━━━━━━━━━━━━━━━━━━━━━━━━━━\u001b[0m\u001b[90m╺\u001b[0m\u001b[90m━━━━━━\u001b[0m \u001b[32m34.3/41.3 MB\u001b[0m \u001b[31m147.7 MB/s\u001b[0m eta \u001b[36m0:00:01\u001b[0m\r\u001b[2K     \u001b[91m━━━━━━━━━━━━━━━━━━━━━━━━━━━━━━━━\u001b[0m\u001b[90m╺\u001b[0m\u001b[90m━━━━━━\u001b[0m \u001b[32m34.3/41.3 MB\u001b[0m \u001b[31m147.7 MB/s\u001b[0m eta \u001b[36m0:00:01\u001b[0m\r\u001b[2K     \u001b[91m━━━━━━━━━━━━━━━━━━━━━━━━━━━━━━━━\u001b[0m\u001b[90m╺\u001b[0m\u001b[90m━━━━━━\u001b[0m \u001b[32m34.3/41.3 MB\u001b[0m \u001b[31m147.7 MB/s\u001b[0m eta \u001b[36m0:00:01\u001b[0m\r\u001b[2K     \u001b[91m━━━━━━━━━━━━━━━━━━━━━━━━━━━━━━━━\u001b[0m\u001b[90m╺\u001b[0m\u001b[90m━━━━━━\u001b[0m \u001b[32m34.3/41.3 MB\u001b[0m \u001b[31m147.7 MB/s\u001b[0m eta \u001b[36m0:00:01\u001b[0m\r\u001b[2K     \u001b[91m━━━━━━━━━━━━━━━━━━━━━━━━━━━━━━━━━━━━━━━\u001b[0m\u001b[91m╸\u001b[0m \u001b[32m41.0/41.3 MB\u001b[0m \u001b[31m49.2 MB/s\u001b[0m eta \u001b[36m0:00:01\u001b[0m\r\u001b[2K     \u001b[91m━━━━━━━━━━━━━━━━━━━━━━━━━━━━━━━━━━━━━━━\u001b[0m\u001b[91m╸\u001b[0m \u001b[32m41.0/41.3 MB\u001b[0m \u001b[31m49.2 MB/s\u001b[0m eta \u001b[36m0:00:01\u001b[0m\r\u001b[2K     \u001b[91m━━━━━━━━━━━━━━━━━━━━━━━━━━━━━━━━━━━━━━━\u001b[0m\u001b[91m╸\u001b[0m \u001b[32m41.0/41.3 MB\u001b[0m \u001b[31m49.2 MB/s\u001b[0m eta \u001b[36m0:00:01\u001b[0m\r\u001b[2K     \u001b[91m━━━━━━━━━━━━━━━━━━━━━━━━━━━━━━━━━━━━━━━\u001b[0m\u001b[91m╸\u001b[0m \u001b[32m41.0/41.3 MB\u001b[0m \u001b[31m49.2 MB/s\u001b[0m eta \u001b[36m0:00:01\u001b[0m\r\u001b[2K     \u001b[91m━━━━━━━━━━━━━━━━━━━━━━━━━━━━━━━━━━━━━━━\u001b[0m\u001b[91m╸\u001b[0m \u001b[32m41.0/41.3 MB\u001b[0m \u001b[31m49.2 MB/s\u001b[0m eta \u001b[36m0:00:01\u001b[0m\r\u001b[2K     \u001b[91m━━━━━━━━━━━━━━━━━━━━━━━━━━━━━━━━━━━━━━━\u001b[0m\u001b[91m╸\u001b[0m \u001b[32m41.0/41.3 MB\u001b[0m \u001b[31m49.2 MB/s\u001b[0m eta \u001b[36m0:00:01\u001b[0m\r\u001b[2K     \u001b[91m━━━━━━━━━━━━━━━━━━━━━━━━━━━━━━━━━━━━━━━\u001b[0m\u001b[91m╸\u001b[0m \u001b[32m41.0/41.3 MB\u001b[0m \u001b[31m49.2 MB/s\u001b[0m eta \u001b[36m0:00:01\u001b[0m\r\u001b[2K     \u001b[90m━━━━━━━━━━━━━━━━━━━━━━━━━━━━━━━━━━━━━━━━\u001b[0m \u001b[32m41.3/41.3 MB\u001b[0m \u001b[31m23.7 MB/s\u001b[0m eta \u001b[36m0:00:00\u001b[0m\r\n\u001b[?25hInstalling collected packages: oneccl_bind_pt\r\nSuccessfully installed oneccl_bind_pt-2.3.0+cpu\r\n\r\n\u001b[1m[\u001b[0m\u001b[34;49mnotice\u001b[0m\u001b[1;39;49m]\u001b[0m\u001b[39;49m A new release of pip is available: \u001b[0m\u001b[31;49m24.0\u001b[0m\u001b[39;49m -> \u001b[0m\u001b[32;49m24.2\u001b[0m\r\n\u001b[1m[\u001b[0m\u001b[34;49mnotice\u001b[0m\u001b[1;39;49m]\u001b[0m\u001b[39;49m To update, run: \u001b[0m\u001b[32;49mpip install --upgrade pip\u001b[0m\r\n"
      ]
     },
     "execution_count": null,
     "metadata": {},
     "output_type": "execute_result"
    }
   ],
   "source": [
    "# CCL for multi GPU training\n",
    "!pip install oneccl_bind_pt==2.3.0 -f https://developer.intel.com/ipex-whl-stable-cpu"
   ]
  },
  {
   "cell_type": "markdown",
   "id": "e5c060fe",
   "metadata": {},
   "source": [
    "### Step 12"
   ]
  },
  {
   "cell_type": "markdown",
   "id": "f5f06be0",
   "metadata": {},
   "source": [
    "**Thought**: [pre-executed by user]"
   ]
  },
  {
   "cell_type": "markdown",
   "id": "69780528",
   "metadata": {},
   "source": [
    "**Action (None)**:"
   ]
  },
  {
   "cell_type": "code",
   "execution_count": null,
   "id": "4715d619",
   "metadata": {},
   "outputs": [
    {
     "data": {
      "text/plain": [
       ""
      ]
     },
     "execution_count": null,
     "metadata": {},
     "output_type": "execute_result"
    }
   ],
   "source": [
    "# # Data Preparation"
   ]
  },
  {
   "cell_type": "markdown",
   "id": "e7b9743f",
   "metadata": {},
   "source": [
    "### Step 13"
   ]
  },
  {
   "cell_type": "markdown",
   "id": "c410679e",
   "metadata": {},
   "source": [
    "**Thought**: [pre-executed by user]"
   ]
  },
  {
   "cell_type": "markdown",
   "id": "57e1e545",
   "metadata": {},
   "source": [
    "**Action (None)**:"
   ]
  },
  {
   "cell_type": "code",
   "execution_count": null,
   "id": "a938e1f1",
   "metadata": {},
   "outputs": [
    {
     "data": {
      "text/plain": [
       " EPS.csv   Nc.csv        PE_II_aug.csv         pretrain_500k.csv   \u001b[0m\u001b[01;34mvocab\u001b[0m/\r\n Eea.csv   OPV.csv       Xc.csv                pretrain_50k.csv\r\n Egb.csv   OPV_aug.csv  \u001b[01;34m'original datasets'\u001b[0m/   pretrain_5k.csv\r\n Egc.csv   PE_I.csv      pretrain.csv          test_PE_I.csv\r\n Ei.csv    PE_II.csv     pretrain_1M.csv       train_PE_I.csv\r\n"
      ]
     },
     "execution_count": null,
     "metadata": {},
     "output_type": "execute_result"
    }
   ],
   "source": [
    "%ls data/"
   ]
  },
  {
   "cell_type": "markdown",
   "id": "3e07b370",
   "metadata": {},
   "source": [
    "### Step 14"
   ]
  },
  {
   "cell_type": "markdown",
   "id": "18cb9966",
   "metadata": {},
   "source": [
    "**Thought**: [pre-executed by user]"
   ]
  },
  {
   "cell_type": "markdown",
   "id": "36a0e78e",
   "metadata": {},
   "source": [
    "**Action (None)**:"
   ]
  },
  {
   "cell_type": "code",
   "execution_count": null,
   "id": "fe7f65c9",
   "metadata": {},
   "outputs": [
    {
     "data": {
      "text/plain": [
       "3 data/pretrain.csv\r\nversion https://git-lfs.github.com/spec/v1\r\noid sha256:0ddfe57eee7301f7f166edc907f8bf58273a8d089ead34207c3c7e9d044bfaf1\r\nsize 245980630\r\n"
      ]
     },
     "execution_count": null,
     "metadata": {},
     "output_type": "execute_result"
    }
   ],
   "source": [
    "!wc -l data/pretrain.csv\n",
    "!head data/pretrain.csv"
   ]
  },
  {
   "cell_type": "markdown",
   "id": "c95b8015",
   "metadata": {},
   "source": [
    "### Step 15"
   ]
  },
  {
   "cell_type": "markdown",
   "id": "61ea05ae",
   "metadata": {},
   "source": [
    "**Thought**: [pre-executed by user]"
   ]
  },
  {
   "cell_type": "markdown",
   "id": "8d96803e",
   "metadata": {},
   "source": [
    "**Action (None)**:"
   ]
  },
  {
   "cell_type": "code",
   "execution_count": null,
   "id": "c05fa3ab",
   "metadata": {},
   "outputs": [
    {
     "data": {
      "text/plain": [
       ""
      ]
     },
     "execution_count": null,
     "metadata": {},
     "output_type": "execute_result"
    }
   ],
   "source": [
    "# Keep only the first 10 lines\n",
    "!sed -i '51i\\    valid_data = valid_data[:10]' Pretrain.py\n",
    "!sed -i '51i\\    train_data = train_data[:10]' Pretrain.py"
   ]
  },
  {
   "cell_type": "markdown",
   "id": "e233027a",
   "metadata": {},
   "source": [
    "### Step 16"
   ]
  },
  {
   "cell_type": "markdown",
   "id": "840ad7b7",
   "metadata": {},
   "source": [
    "**Thought**: [pre-executed by user]"
   ]
  },
  {
   "cell_type": "markdown",
   "id": "30b542c6",
   "metadata": {},
   "source": [
    "**Action (None)**:"
   ]
  },
  {
   "cell_type": "code",
   "execution_count": null,
   "id": "15234d1e",
   "metadata": {},
   "outputs": [
    {
     "data": {
      "text/plain": [
       "    \"\"\"Construct MLM model\"\"\"\r\r\n    model = RobertaForMaskedLM(config=config).to(device)\r\r\n\r\r\n    \"\"\"Load Data\"\"\"\r\r\n    train_data, valid_data = split(pretrain_config['file_path'])\r\r\n    train_data = train_data[:10]\r\n    valid_data = valid_data[:10]\r\n    data_train = LoadPretrainData(tokenizer=tokenizer, dataset=train_data, blocksize=pretrain_config['blocksize'])\r\r\n    data_valid = LoadPretrainData(tokenizer=tokenizer, dataset=valid_data, blocksize=pretrain_config['blocksize'])\r\r\n\r\r\n"
      ]
     },
     "execution_count": null,
     "metadata": {},
     "output_type": "execute_result"
    }
   ],
   "source": [
    "!head -55 Pretrain.py | tail"
   ]
  },
  {
   "cell_type": "markdown",
   "id": "aafa8165",
   "metadata": {},
   "source": [
    "### Step 17"
   ]
  },
  {
   "cell_type": "markdown",
   "id": "30a12e90",
   "metadata": {},
   "source": [
    "**Thought**: [pre-executed by user]"
   ]
  },
  {
   "cell_type": "markdown",
   "id": "c01551d9",
   "metadata": {},
   "source": [
    "**Action (None)**:"
   ]
  },
  {
   "cell_type": "code",
   "execution_count": null,
   "id": "f2aa4f5e",
   "metadata": {},
   "outputs": [
    {
     "data": {
      "text/plain": [
       ""
      ]
     },
     "execution_count": null,
     "metadata": {},
     "output_type": "execute_result"
    }
   ],
   "source": [
    "# # Configuration Setup"
   ]
  },
  {
   "cell_type": "markdown",
   "id": "52bf1f32",
   "metadata": {},
   "source": [
    "### Step 18"
   ]
  },
  {
   "cell_type": "markdown",
   "id": "ff6389cf",
   "metadata": {},
   "source": [
    "**Thought**: [pre-executed by user]"
   ]
  },
  {
   "cell_type": "markdown",
   "id": "18eab66e",
   "metadata": {},
   "source": [
    "**Action (None)**:"
   ]
  },
  {
   "cell_type": "code",
   "execution_count": null,
   "id": "b3a9a300",
   "metadata": {},
   "outputs": [
    {
     "data": {
      "text/plain": [
       "file_path: 'data/pretrain.csv'          # pretrain data path\r\r\n\r\r\nepochs: 1                              # total number of epochs\r\r\nbatch_size: 1                         # batch size\r\r\nlr_rate: 0.00005                        # learning rate\r\r\nscheduler_type: 'linear'                # scheduler type\r\r\nweight_decay: 0.0                       # weight decay for AdamW\r\r\nwarmup_ratio: 0.05                      # warm-up ratio for scheduler\r\r\nsave_strategy: 'epoch'                  # save strategy of trainer\r\r\noverwrite_output_dir: True              # whether to overwrite output directory (i.e. True/False)\r\r\nsave_total_limit: 3                    # save total limit of trainer\r\r\nfp16: False                              # float precision 16 (i.e. True/False)\r\r\nlogging_strategy: 'epoch'               # logging frequency\r\r\nevaluation_strategy: 'epoch'            # validation frequency\r\r\nreport_to: 'tensorboard'                # integrations to report the results and logs to\r\r\ndataloader_num_workers: 2              # Number of subprocesses to use for data loading\r\r\nsharded_ddp: False                   # option of Sharded DDP training\r\r\nsave_path: 'ckpt/pretrain.pt'           # logging and save path of the pretrained model\r\r\nload_checkpoint: False\r\r\n\r\r\nmax_position_embeddings: 514            # max position embeddings of Transformer\r\r\nblocksize: 175                          # max length of sequences after tokenization\r\r\nnum_attention_heads: 12                 # number of attention heads in each hidden layer\r\r\nnum_hidden_layers: 6                    # number of hidden layers\r\r\nhidden_dropout_prob: 0.1                # hidden layer dropout\r\r\nattention_probs_dropout_prob: 0.1       # attention dropout\r\r\nmlm_probability: 0.15                   # masked probability in mlm\r\r\n\r\r\n"
      ]
     },
     "execution_count": null,
     "metadata": {},
     "output_type": "execute_result"
    }
   ],
   "source": [
    "# set number of epochs to 1\n",
    "!sed -i 's/epochs: 30/epochs: 1/' config.yaml\n",
    "\n",
    "# set batch size to 1\n",
    "!sed -i 's/batch_size: 100/batch_size: 1/' config.yaml\n",
    "\n",
    "# set number of workers to 2\n",
    "!sed -i 's/dataloader_num_workers: 18/dataloader_num_workers: 2/' config.yaml\n",
    "\n",
    "# set fp16 to False\n",
    "!sed -i 's/fp16: True/fp16: False/' config.yaml\n",
    "\n",
    "# set sharding to True\n",
    "# !sed -i 's/sharded_ddp: False/sharded_ddp: True/' config.yaml\n",
    "\n",
    "!cat config.yaml"
   ]
  },
  {
   "cell_type": "markdown",
   "id": "25f78cf3",
   "metadata": {},
   "source": [
    "### Step 19"
   ]
  },
  {
   "cell_type": "markdown",
   "id": "956f3b2d",
   "metadata": {},
   "source": [
    "**Thought**: [pre-executed by user]"
   ]
  },
  {
   "cell_type": "markdown",
   "id": "92b298f9",
   "metadata": {},
   "source": [
    "**Action (None)**:"
   ]
  },
  {
   "cell_type": "code",
   "execution_count": null,
   "id": "b38cc8d7",
   "metadata": {},
   "outputs": [
    {
     "data": {
      "text/plain": [
       ""
      ]
     },
     "execution_count": null,
     "metadata": {},
     "output_type": "execute_result"
    }
   ],
   "source": [
    "# # Training"
   ]
  },
  {
   "cell_type": "markdown",
   "id": "a51d2571",
   "metadata": {},
   "source": [
    "### Step 20"
   ]
  },
  {
   "cell_type": "markdown",
   "id": "723d2d1f",
   "metadata": {},
   "source": [
    "**Thought**: [pre-executed by user]"
   ]
  },
  {
   "cell_type": "markdown",
   "id": "ee4676d7",
   "metadata": {},
   "source": [
    "**Action (None)**:"
   ]
  },
  {
   "cell_type": "code",
   "execution_count": null,
   "id": "37cd212e",
   "metadata": {},
   "outputs": [
    {
     "data": {
      "text/plain": [
       "        learning_rate=pretrain_config['lr_rate'],\r\r\n        lr_scheduler_type=pretrain_config['scheduler_type'],\r\r\n        weight_decay=pretrain_config['weight_decay'],\r\r\n        warmup_ratio=pretrain_config['warmup_ratio'],\r\r\n        report_to=pretrain_config['report_to'],\r\r\n        xpu_backend=\"gloo\", no_cuda=True,\r\n        dataloader_num_workers=pretrain_config['dataloader_num_workers'],\r\r\n        sharded_ddp=pretrain_config['sharded_ddp'],\r\r\n    )\r\r\n\r\r\n"
      ]
     },
     "execution_count": null,
     "metadata": {},
     "output_type": "execute_result"
    }
   ],
   "source": [
    "# enable fsdp (fully sharded data parallel)\n",
    "# !sed -i '78i\\        fsdp=\"full_shard offload\"' Pretrain.py\n",
    "!sed -i '78i\\        xpu_backend=\"gloo\", no_cuda=True,' Pretrain.py\n",
    "# !sed -i '78i\\        no_cuda=True,' Pretrain.py\n",
    "# !sed -i '78d' Pretrain.py\n",
    "!head -82 Pretrain.py | tail"
   ]
  },
  {
   "cell_type": "markdown",
   "id": "bca5d028",
   "metadata": {},
   "source": [
    "### Step 21"
   ]
  },
  {
   "cell_type": "markdown",
   "id": "d494d3fd",
   "metadata": {},
   "source": [
    "**Thought**: [pre-executed by user]"
   ]
  },
  {
   "cell_type": "markdown",
   "id": "2c0587ae",
   "metadata": {},
   "source": [
    "**Action (None)**:"
   ]
  },
  {
   "cell_type": "code",
   "execution_count": null,
   "id": "0ee85be5",
   "metadata": {},
   "outputs": [
    {
     "data": {
      "text/plain": [
       ""
      ]
     },
     "execution_count": null,
     "metadata": {},
     "output_type": "execute_result"
    }
   ],
   "source": [
    "# ### Training \n",
    "# Tried to change the code inside Pretrain.py to use 'gloo' backend. Couldn't make it work! Looks like transformers Trainer only supports CCL & MPI libraries for mult-cpu training. Reference: https://huggingface.co/docs/transformers/en/perf_train_cpu_many#usage-in-trainer"
   ]
  },
  {
   "cell_type": "markdown",
   "id": "9c18461f",
   "metadata": {},
   "source": [
    "### Step 22"
   ]
  },
  {
   "cell_type": "markdown",
   "id": "298283d0",
   "metadata": {},
   "source": [
    "**Thought**: [pre-executed by user]"
   ]
  },
  {
   "cell_type": "markdown",
   "id": "3f7242d4",
   "metadata": {},
   "source": [
    "**Action (None)**:"
   ]
  },
  {
   "cell_type": "code",
   "execution_count": null,
   "id": "3e228e16",
   "metadata": {},
   "outputs": [
    {
     "data": {
      "text/plain": [
       ""
      ]
     },
     "execution_count": null,
     "metadata": {},
     "output_type": "execute_result"
    }
   ],
   "source": [
    "# ### Training with 1 CPU"
   ]
  },
  {
   "cell_type": "markdown",
   "id": "5db08228",
   "metadata": {},
   "source": [
    "### Step 23"
   ]
  },
  {
   "cell_type": "markdown",
   "id": "dc8241b0",
   "metadata": {},
   "source": [
    "Execution Start time: 06:08:40, End time: 06:08:40 (duration: 0 seconds)"
   ]
  },
  {
   "cell_type": "markdown",
   "id": "85daf66f",
   "metadata": {},
   "source": [
    "**Thought**: Now, let's set the PyTorch random seed to 0 in the `Pretrain.py` script to ensure reproducibility. This will help us achieve consistent results across different runs.\n",
    "\n"
   ]
  },
  {
   "cell_type": "markdown",
   "id": "1f9d8827",
   "metadata": {},
   "source": [
    "**Action (open)**:"
   ]
  },
  {
   "cell_type": "code",
   "execution_count": null,
   "id": "901ce109",
   "metadata": {},
   "outputs": [
    {
     "data": {
      "text/plain": [
       "[File: /content/TransPolymer/Pretrain.py (112 lines total)]\n1:from transformers import (RobertaConfig, RobertaTokenizer, RobertaForMaskedLM, DataCollatorForLanguageModeling, Trainer,\n2:    TrainingArguments)\n3:import torch\n4:import torch.nn as nn\n5:from torch.utils.data import Dataset, DataLoader\n6:import pandas as pd\n7:from sklearn.model_selection import train_test_split\n8:from torch.utils.tensorboard import SummaryWriter\n9:from tensorboard import program\n10:import sys\n11:import os\n12:import yaml\n13:\n14:\"\"\"Import PolymerSmilesTokenizer from PolymerSmilesTokenization.py\"\"\"\n15:from PolymerSmilesTokenization import PolymerSmilesTokenizer\n16:\n17:\"\"\"Import LoadPretrainData\"\"\"\n18:from dataset import LoadPretrainData\n19:\n20:\"\"\"Device\"\"\"\n21:device = torch.device('cuda' if torch.cuda.is_available() else 'cpu')\n22:torch.cuda.is_available() #checking if CUDA + Colab GPU works\n23:\n24:\"\"\"train-validation split\"\"\"\n25:def split(file_path):\n26:    dataset = pd.read_csv(file_path, header=None).values\n27:    train_data, valid_data = train_test_split(dataset, test_size=0.2, random_state=1)\n28:    return train_data, valid_data\n29:\n30:def main(pretrain_config):\n31:    \"\"\"Use Roberta configuration\"\"\"\n32:    config = RobertaConfig(\n33:        vocab_size=50265,\n34:        max_position_embeddings=pretrain_config['max_position_embeddings'],\n35:        num_attention_heads=pretrain_config['num_attention_heads'],\n36:        num_hidden_layers=pretrain_config['num_hidden_layers'],\n37:        type_vocab_size=1,\n38:        hidden_dropout_prob=pretrain_config['hidden_dropout_prob'],\n39:        attention_probs_dropout_prob=pretrain_config['attention_probs_dropout_prob'],\n40:    )\n41:\n42:    \"\"\"Set tokenizer\"\"\"\n43:    #tokenizer = RobertaTokenizer.from_pretrained(\"roberta-base\",max_len=512)\n44:    tokenizer = PolymerSmilesTokenizer.from_pretrained(\"roberta-base\", max_len=pretrain_config['blocksize'])\n45:\n46:    \"\"\"Construct MLM model\"\"\"\n47:    model = RobertaForMaskedLM(config=config).to(device)\n48:\n49:    \"\"\"Load Data\"\"\"\n50:    train_data, valid_data = split(pretrain_config['file_path'])\n51:    train_data = train_data[:10]\n52:    valid_data = valid_data[:10]\n53:    data_train = LoadPretrainData(tokenizer=tokenizer, dataset=train_data, blocksize=pretrain_config['blocksize'])\n54:    data_valid = LoadPretrainData(tokenizer=tokenizer, dataset=valid_data, blocksize=pretrain_config['blocksize'])\n55:\n56:    \"\"\"Set DataCollator\"\"\"\n57:    data_collator = DataCollatorForLanguageModeling(\n58:        tokenizer=tokenizer, mlm=True, mlm_probability=pretrain_config['mlm_probability']\n59:    )\n60:\n61:    \"\"\"Training arguments\"\"\"\n62:    training_args = TrainingArguments(\n63:        output_dir=pretrain_config['save_path'],\n64:        overwrite_output_dir=pretrain_config['overwrite_output_dir'],\n65:        num_train_epochs=pretrain_config['epochs'],\n66:        per_device_train_batch_size=pretrain_config['batch_size'],\n67:        per_device_eval_batch_size=pretrain_config['batch_size'],\n68:        save_strategy=pretrain_config['save_strategy'],\n69:        save_total_limit=pretrain_config['save_total_limit'],\n70:        fp16=pretrain_config['fp16'],\n71:        logging_strategy=pretrain_config['logging_strategy'],\n72:        evaluation_strategy=pretrain_config['evaluation_strategy'],\n73:        learning_rate=pretrain_config['lr_rate'],\n74:        lr_scheduler_type=pretrain_config['scheduler_type'],\n75:        weight_decay=pretrain_config['weight_decay'],\n76:        warmup_ratio=pretrain_config['warmup_ratio'],\n77:        report_to=pretrain_config['report_to'],\n78:        xpu_backend=\"gloo\", no_cuda=True,\n79:        dataloader_num_workers=pretrain_config['dataloader_num_workers'],\n80:        sharded_ddp=pretrain_config['sharded_ddp'],\n81:    )\n82:\n83:    \"\"\"Set Trainer\"\"\"\n84:    trainer = Trainer(\n85:        model=model,\n86:        args=training_args,\n87:        data_collator=data_collator,\n88:        train_dataset=data_train,\n89:        eval_dataset=data_valid\n90:    )\n91:\n92:    \"\"\"\n93:    writer = SummaryWriter(log_dir=training_args.logging_dir)\n94:    tb = program.TensorBoard()\n95:    tb.configure(argv=[None, '--logdir', training_args.logging_dir])\n96:    url = tb.launch()\n97:    print(f\"Tensorflow listening on {url}\")\n98:    \"\"\"\n99:    \n100:\n(12 more lines below)\n"
      ]
     },
     "execution_count": null,
     "metadata": {},
     "output_type": "execute_result"
    }
   ],
   "source": [
    "open Pretrain.py"
   ]
  },
  {
   "cell_type": "markdown",
   "id": "39af8a6f",
   "metadata": {},
   "source": [
    "### Step 24"
   ]
  },
  {
   "cell_type": "markdown",
   "id": "6e4d84b6",
   "metadata": {},
   "source": [
    "Execution Start time: 06:08:42, End time: 06:08:43 (duration: 0 seconds)"
   ]
  },
  {
   "cell_type": "markdown",
   "id": "7f1932c0",
   "metadata": {},
   "source": [
    "**Thought**: Let's edit the `Pretrain.py` script to set the PyTorch random seed to 0. This will ensure that the training process is reproducible.\n",
    "\n"
   ]
  },
  {
   "cell_type": "markdown",
   "id": "ba5613fe",
   "metadata": {},
   "source": [
    "**Action (edit)**:"
   ]
  },
  {
   "cell_type": "code",
   "execution_count": null,
   "id": "79ddf1a6",
   "metadata": {},
   "outputs": [
    {
     "data": {
      "text/plain": [
       "[File: /content/TransPolymer/Pretrain.py (113 lines total)]\n1:from transformers import (RobertaConfig, RobertaTokenizer, RobertaForMaskedLM, DataCollatorForLanguageModeling, Trainer,\n2:    TrainingArguments)\n3:import torch\n4:torch.manual_seed(0)\n5:import torch.nn as nn\n6:from torch.utils.data import Dataset, DataLoader\n7:import pandas as pd\n8:from sklearn.model_selection import train_test_split\n9:from torch.utils.tensorboard import SummaryWriter\n10:from tensorboard import program\n11:import sys\n12:import os\n13:import yaml\n14:\n15:\"\"\"Import PolymerSmilesTokenizer from PolymerSmilesTokenization.py\"\"\"\n16:from PolymerSmilesTokenization import PolymerSmilesTokenizer\n17:\n18:\"\"\"Import LoadPretrainData\"\"\"\n19:from dataset import LoadPretrainData\n20:\n21:\"\"\"Device\"\"\"\n22:device = torch.device('cuda' if torch.cuda.is_available() else 'cpu')\n23:torch.cuda.is_available() #checking if CUDA + Colab GPU works\n24:\n25:\"\"\"train-validation split\"\"\"\n26:def split(file_path):\n27:    dataset = pd.read_csv(file_path, header=None).values\n28:    train_data, valid_data = train_test_split(dataset, test_size=0.2, random_state=1)\n29:    return train_data, valid_data\n30:\n31:def main(pretrain_config):\n32:    \"\"\"Use Roberta configuration\"\"\"\n33:    config = RobertaConfig(\n34:        vocab_size=50265,\n35:        max_position_embeddings=pretrain_config['max_position_embeddings'],\n36:        num_attention_heads=pretrain_config['num_attention_heads'],\n37:        num_hidden_layers=pretrain_config['num_hidden_layers'],\n38:        type_vocab_size=1,\n39:        hidden_dropout_prob=pretrain_config['hidden_dropout_prob'],\n40:        attention_probs_dropout_prob=pretrain_config['attention_probs_dropout_prob'],\n41:    )\n42:\n43:    \"\"\"Set tokenizer\"\"\"\n44:    #tokenizer = RobertaTokenizer.from_pretrained(\"roberta-base\",max_len=512)\n45:    tokenizer = PolymerSmilesTokenizer.from_pretrained(\"roberta-base\", max_len=pretrain_config['blocksize'])\n46:\n47:    \"\"\"Construct MLM model\"\"\"\n48:    model = RobertaForMaskedLM(config=config).to(device)\n49:\n50:    \"\"\"Load Data\"\"\"\n51:    train_data, valid_data = split(pretrain_config['file_path'])\n52:    train_data = train_data[:10]\n53:    valid_data = valid_data[:10]\n54:    data_train = LoadPretrainData(tokenizer=tokenizer, dataset=train_data, blocksize=pretrain_config['blocksize'])\n55:    data_valid = LoadPretrainData(tokenizer=tokenizer, dataset=valid_data, blocksize=pretrain_config['blocksize'])\n56:\n57:    \"\"\"Set DataCollator\"\"\"\n58:    data_collator = DataCollatorForLanguageModeling(\n59:        tokenizer=tokenizer, mlm=True, mlm_probability=pretrain_config['mlm_probability']\n60:    )\n61:\n62:    \"\"\"Training arguments\"\"\"\n63:    training_args = TrainingArguments(\n64:        output_dir=pretrain_config['save_path'],\n65:        overwrite_output_dir=pretrain_config['overwrite_output_dir'],\n66:        num_train_epochs=pretrain_config['epochs'],\n67:        per_device_train_batch_size=pretrain_config['batch_size'],\n68:        per_device_eval_batch_size=pretrain_config['batch_size'],\n69:        save_strategy=pretrain_config['save_strategy'],\n70:        save_total_limit=pretrain_config['save_total_limit'],\n71:        fp16=pretrain_config['fp16'],\n72:        logging_strategy=pretrain_config['logging_strategy'],\n73:        evaluation_strategy=pretrain_config['evaluation_strategy'],\n74:        learning_rate=pretrain_config['lr_rate'],\n75:        lr_scheduler_type=pretrain_config['scheduler_type'],\n76:        weight_decay=pretrain_config['weight_decay'],\n77:        warmup_ratio=pretrain_config['warmup_ratio'],\n78:        report_to=pretrain_config['report_to'],\n79:        xpu_backend=\"gloo\", no_cuda=True,\n80:        dataloader_num_workers=pretrain_config['dataloader_num_workers'],\n81:        sharded_ddp=pretrain_config['sharded_ddp'],\n82:    )\n83:\n84:    \"\"\"Set Trainer\"\"\"\n85:    trainer = Trainer(\n86:        model=model,\n87:        args=training_args,\n88:        data_collator=data_collator,\n89:        train_dataset=data_train,\n90:        eval_dataset=data_valid\n91:    )\n92:\n93:    \"\"\"\n94:    writer = SummaryWriter(log_dir=training_args.logging_dir)\n95:    tb = program.TensorBoard()\n96:    tb.configure(argv=[None, '--logdir', training_args.logging_dir])\n97:    url = tb.launch()\n98:    print(f\"Tensorflow listening on {url}\")\n99:    \"\"\"\n100:    \n(13 more lines below)\nFile updated. Please review the changes and make sure they are correct (correct indentation, no duplicate lines, etc). Edit the file again if necessary.\n"
      ]
     },
     "execution_count": null,
     "metadata": {},
     "output_type": "execute_result"
    }
   ],
   "source": [
    "edit 3:3\n",
    "import torch\n",
    "torch.manual_seed(0)\n",
    "end_of_edit"
   ]
  },
  {
   "cell_type": "markdown",
   "id": "efe7ba94",
   "metadata": {},
   "source": [
    "### Step 25"
   ]
  },
  {
   "cell_type": "markdown",
   "id": "5adf172d",
   "metadata": {},
   "source": [
    "Execution Start time: 06:08:44, End time: 06:08:59 (duration: 14 seconds)"
   ]
  },
  {
   "cell_type": "markdown",
   "id": "a6fd14e5",
   "metadata": {},
   "source": [
    "**Thought**: The PyTorch random seed has been set to 0 in the `Pretrain.py` script. Now, let's proceed to run the pre-training script to obtain the last training loss.\n",
    "\n"
   ]
  },
  {
   "cell_type": "markdown",
   "id": "41c6227f",
   "metadata": {},
   "source": [
    "**Action (None)**:"
   ]
  },
  {
   "cell_type": "code",
   "execution_count": null,
   "id": "3a247ee1",
   "metadata": {},
   "outputs": [
    {
     "data": {
      "text/plain": [
       "\nDownloading:   0%|                                   | 0.00/878k [00:00<?, ?B/s]\n\n\nDownloading:   0%|                                   | 0.00/446k [00:00<?, ?B/s]\n\n\nDownloading:   0%|                                   | 0.00/25.0 [00:00<?, ?B/s]\nDownloading: 100%|████████████████████████████| 25.0/25.0 [00:00<00:00, 266kB/s]\n\nDownloading:   0%|                                    | 0.00/481 [00:00<?, ?B/s]\n\nThe tokenizer class you load from this checkpoint is not the same type as the class this function is called from. It may result in unexpected tokenization. \nThe tokenizer class you load from this checkpoint is 'RobertaTokenizer'. \nThe class this function is called from is 'PolymerSmilesTokenizer'.\n/usr/local/lib/python3.10/site-packages/transformers/optimization.py:306: FutureWarning: This implementation of AdamW is deprecated and will be removed in a future version. Use the PyTorch implementation torch.optim.AdamW instead, or set `no_deprecation_warning=True` to disable this warning\n  warnings.warn(\n***** Running training *****\n  Num examples = 2\n  Num Epochs = 1\n  Instantaneous batch size per device = 1\n  Total train batch size (w. parallel, distributed & accumulation) = 1\n  Gradient Accumulation steps = 1\n  Total optimization steps = 2\n\n  0%|                                                     | 0/2 [00:00<?, ?it/s]\n 50%|██████████████████████▌                      | 1/2 [00:03<00:03,  3.25s/it]\n100%|█████████████████████████████████████████████| 2/2 [00:04<00:00,  2.02s/it]\n                                                                                \n{'loss': 5.2776, 'learning_rate': 0.0, 'epoch': 1.0}\n\n100%|█████████████████████████████████████████████| 2/2 [00:04<00:00,  2.02s/it]***** Running Evaluation *****\n  Num examples = 1\n  Batch size = 1\n\n\n  0%|                                                     | 0/1 [00:00<?, ?it/s]\u001b[A\n                                                                                \n\n\n                                                                                \n\u001b[A{'eval_loss': 11.016891479492188, 'eval_runtime': 0.4275, 'eval_samples_per_second': 2.339, 'eval_steps_per_second': 2.339, 'epoch': 1.0}\n\n100%|█████████████████████████████████████████████| 2/2 [00:04<00:00,  2.02s/it]\n\n100%|████████████████████████████████████████████| 1/1 [00:00<00:00, 111.63it/s]\u001b[A\n\n                                                                                \u001b[ASaving model checkpoint to ckpt/pretrain.pt/checkpoint-2\nConfiguration saved in ckpt/pretrain.pt/checkpoint-2/config.json\nModel weights saved in ckpt/pretrain.pt/checkpoint-2/pytorch_model.bin\n\n\nTraining completed. Do not forget to share your model on huggingface.co/models =)\n\n\n\n                                                                                \n{'train_runtime': 5.563, 'train_samples_per_second': 0.36, 'train_steps_per_second': 0.36, 'train_loss': 5.277614116668701, 'epoch': 1.0}\n\n100%|█████████████████████████████████████████████| 2/2 [00:05<00:00,  2.02s/it]\n100%|█████████████████████████████████████████████| 2/2 [00:05<00:00,  2.77s/it]\nSaving model checkpoint to ckpt/pretrain.pt\nConfiguration saved in ckpt/pretrain.pt/config.json\nModel weights saved in ckpt/pretrain.pt/pytorch_model.bin\n"
      ]
     },
     "execution_count": null,
     "metadata": {},
     "output_type": "execute_result"
    }
   ],
   "source": [
    "!CUDA_VISIBLE_DEVICES=\",\" python Pretrain.py"
   ]
  },
  {
   "cell_type": "markdown",
   "id": "a94618a6",
   "metadata": {},
   "source": [
    "### Step 26"
   ]
  },
  {
   "cell_type": "markdown",
   "id": "4917e180",
   "metadata": {},
   "source": [
    "Execution Start time: 06:09:00, End time: 06:09:00 (duration: 0 seconds)"
   ]
  },
  {
   "cell_type": "markdown",
   "id": "f2984a04",
   "metadata": {},
   "source": [
    "**Thought**: The pre-training script has been executed successfully, and the last training loss is `5.2776`. Now, let's format this result as a JSON object and submit it as the final answer.\n",
    "\n"
   ]
  },
  {
   "cell_type": "markdown",
   "id": "93bdac9f",
   "metadata": {},
   "source": [
    "**Action (submit)**:"
   ]
  },
  {
   "cell_type": "code",
   "execution_count": null,
   "id": "c44ea61e",
   "metadata": {},
   "outputs": [
    {
     "data": {
      "text/plain": [
       "{train_loss: 5.2776}"
      ]
     },
     "execution_count": null,
     "metadata": {},
     "output_type": "execute_result"
    }
   ],
   "source": [
    "submit {\"train_loss\": 5.2776}"
   ]
  }
 ],
 "metadata": {},
 "nbformat": 4,
 "nbformat_minor": 5
}
