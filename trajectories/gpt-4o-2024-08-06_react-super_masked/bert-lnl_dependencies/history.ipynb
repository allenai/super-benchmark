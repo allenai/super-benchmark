{
 "cells": [
  {
   "cell_type": "markdown",
   "id": "2043b4e5",
   "metadata": {},
   "source": [
    "### Query\n",
    "Train BERT-WN on the AG-News dataset with 20% single-flip label noise using the `main.py` script. Evaluate the model and report the resulting metrics.\n",
    "\n",
    "The repository does not provide the dataset. Use huggingface datasets to get it (ag_news) Report the accuracy and weighted average precision, recall, f1-score, and support, as a json structured as follows: {\"accuracy\": 0.0, \"weighted_avg\": {\"precision\": 0.0, \"recall\": 0.0, \"f1-score\": 0.0, \"support\": 0}} (replace 0.0 with the actual values).\n",
    "\n",
    "Additional instructions:\n",
    "1. Run for only 5 training steps. All other hyper-parameters should be taken from the readme example.\n",
    "2. Load these specific instances indices: from the train split [1,2,3,4,5,6,100,101,102,103,104,105,451,452,453,454,455,456,501,502,503,504,505,506], test split: [1,2,3,101,103,452,455,501,502,503,504,505], validation split: [0,1,2,6,7,8,12,13,14,18,19,20]\n",
    "\n",
    "Git repository: https://github.com/uds-lsv/BERT-LNL\n",
    "\n",
    "I have already executed some of the required steps. Now, you should install all required dependencies. Once dependencies are installed, you can re-run any of the pre-executed steps, and finally should successfully run\n",
    "```\n",
    "!python3 main.py \\\n",
    "--dataset AG_News \\\n",
    "--log_root log \\\n",
    "--data_root data \\\n",
    "--trainer_name bert_wn \\\n",
    "--model_name bert-base-uncased \\\n",
    "--gen_val \\\n",
    "--nl_batch_size 32 \\\n",
    "--eval_batch_size 32 \\\n",
    "--gradient_accumulation_steps 1 \\\n",
    "--max_sen_len 64 \\\n",
    "--lr 0.00002 \\\n",
    "--num_epochs 1 \\\n",
    "--num_training_steps 5\\\n",
    "--patience 1 \\\n",
    "--eval_freq 2 \\\n",
    "--store_model 1 \\\n",
    "--noise_level 0.2 \\\n",
    "--noise_type sflip \\\n",
    "--manualSeed 1234\n",
    "```\n",
    "to submit the answer."
   ]
  },
  {
   "cell_type": "markdown",
   "id": "7c683ea2",
   "metadata": {},
   "source": [
    "### Prompt\n",
    "<details>\n",
    "[{'role': 'system', 'content': 'Interact in a jupyter notebook to solve the request.\\nOutput a thought and an action.\\nThought can reason about the current situation, and action allows you to interact with the Jupyter notebook. There are three types of actions:\\n(1) execute, which executes a notebook cell with the command under the \"content\" field. This could be a bash command (beginning with !), a python command, or magic command (beginning with %).\\n(2) edit, which allows you to replace existing lines in a file with new lines. To replace lines, you will need to provide the lines as they appear before the replacement, and the lines to replace them with.\\nIn the \"content\" field, format should be ```{filename}\\n<<<BEFORE_EDIT>>>\\nlines before edit\\nlines before edit\\n<<<AFTER_EDIT>>>\\nlines after edit\\nlines after edit```\\n  - Include the entire lines WITH indentation. After editing, make sure indentation is correct.\\n(3) submit, which submits the final answer (or null if there\\'s no answer to submit), formatted as JSON (make sure to use double quotes for keys and values).\\nAlways output exactly one \"thought\" and one \"action\", and encapsulate the content with <content>...</content> tags.\\nI will provide the cell output (observation) for you.\\n\\nTips:\\n- When a github repository is given, you should start by cloning it. You can read the readme file and browse the repo for installation and usage instructions.\\n- Avoid using conda, instead use pip for package management.\\n- Each execution has a 5-minute timeout. After this period, you can decide whether to interrupt the kernel or continue waiting.\\n  You should interrupt if: (1) you are prompted with an interactive message (e.g., \"Do you want to continue? [Y/n]\"). In that case, you can bypass it by executing echo \"y\" | command, or (2) the execution is taking longer than expected because the wrong task is being executed, such as a different model or incorrect number of epochs.\\n  You should continue to wait if the current execution is correct and proceeding as expected.\\n\\nHere are some examples.\\nGit repository: EleutherAI/lm-evaluation-harness\\nQuery: Evaluate EleutherAI/gpt-j-6B on hellaswag. What\\'s the score?\\nThought: First, I need to clone the GitHub repository \\'EleutherAI/lm-evaluation-harness\\'.\\nAction: execute\\n<content>\\n!git clone https://github.com/EleutherAI/lm-evaluation-harness.git\\n</content>\\nObservation: ```\\nCloning into \\'lm-evaluation-harness\\'...\\n```\\nThought: The repository has been cloned. Next, I should check the README file for installation and usage instructions to proceed with evaluating EleutherAI/gpt-j-6B on hellaswag.\\nAction: execute\\n<content>\\n!cat lm-evaluation-harness/README.md\\n</content>\\nObservation: ```# Language Model Evaluation Harness ... truncated ...\\n```\\nThought: The README provides detailed instructions for installing the `lm-eval` package and evaluating models like GPT-J-6B on tasks like hellaswag. I need to install the package and its dependencies first.\\nAction: execute\\n<content>\\n!pip install -e lm-evaluation-harness/.\\n</content>\\nObservation: ```\\nObtaining file:///home/nora/lm-evaluation-harness\\n  Installing build dependencies ... truncated ...\\n```\\nThought: The `lm-eval` package and its dependencies have been installed successfully. Now, I can proceed with evaluating the EleutherAI/gpt-j-6B model on the hellaswag task as per the instructions in the README.\\nAction: execute\\n<content>\\n!lm_eval --model hf --model_args pretrained=EleutherAI/gpt-j-6B --tasks hellaswag --device cuda:0 --batch_size 8\\n</content>\\nObservation: ```\\n{\\n  \"hellaswag\": {\\n    \"acc\": 0.24603658536585363,\\n    \"acc_norm\": 0.34436059706446426,\\n  },  ... truncated ...\\n```\\nThought: The `lm-eval` was executed successfully, providing the metrics I needed. The `acc` metric is 0.2460. The `acc_norm` metric is 0.3444\\nAction: submit\\n<content>\\n{\"acc\": 0.2460, \"acc_norm\": 0.3444}\\n</content>\\n\\nQuery: use pandas to read the file \\'data.csv\\' and display the first 2 rows.\\nThought: First, I need to read the file \\'data.csv\\' using the pandas library.\\nAction: execute\\n<content>\\nimport pandas as pd\\npd.read_csv(\\'data.csv\\').head()\\n</content>\\nObservation: ```\\n    name\\n  0  Alice\\n   1    Bob\\n  2  Charlie\\n```\\nThought: The file \\'data.csv\\' has been read successfully and the first 2 rows have been displayed.\\nAction: submit\\n<content>\\n[\"Alice\", \"Bob\"]\\n</content>\\n\\nQuery: Change the model name in the \\'config.json\\' file from \\'roberta-base\\' to \\'roberta-large\\'.\\nThought: First, I need to read the \\'config.json\\' file to find the location where I can replace the model name.\\nAction: execute\\n<content>\\n!cat config.json\\n</content>\\nObservation: ```\\n{\\n    \"model\": \"roberta-base\",\\n    \"batch_size\": 8,\\n    \"epochs\": 10\\n}\\n```\\nThought: The file has been read successfully. Now, I can replace the model name in the \\'config.json\\' file.\\nAction: edit\\n<content>\\nconfig.json\\n<<<BEFORE_EDIT>>>\\n{\\n    \"model\": \"roberta-base\",\\n    \"batch_size\": 8,\\n<<<AFTER_EDIT>>>\\n{\\n    \"model\": \"roberta-large\",\\n    \"batch_size\": 8,\\n</content>\\nObservation: \"editing file config.json\"\\nThought: The model name has been replaced in the \\'config.json\\' file.\\nAction: submit\\n<content>\\nnull\\n</content>\\n'}, {'role': 'user', 'content': 'Query: Train BERT-WN on the AG-News dataset with 20% single-flip label noise using the `main.py` script. Evaluate the model and report the resulting metrics.\\n\\nThe repository does not provide the dataset. Use huggingface datasets to get it (ag_news) Report the accuracy and weighted average precision, recall, f1-score, and support, as a json structured as follows: {\"accuracy\": 0.0, \"weighted_avg\": {\"precision\": 0.0, \"recall\": 0.0, \"f1-score\": 0.0, \"support\": 0}} (replace 0.0 with the actual values).\\n\\nAdditional instructions:\\n1. Run for only 5 training steps. All other hyper-parameters should be taken from the readme example.\\n2. Load these specific instances indices: from the train split [1,2,3,4,5,6,100,101,102,103,104,105,451,452,453,454,455,456,501,502,503,504,505,506], test split: [1,2,3,101,103,452,455,501,502,503,504,505], validation split: [0,1,2,6,7,8,12,13,14,18,19,20]\\n\\nGit repository: https://github.com/uds-lsv/BERT-LNL\\n\\nI have already executed some of the required steps. Now, you should install all required dependencies. Once dependencies are installed, you can re-run any of the pre-executed steps, and finally should successfully run\\n```\\n!python3 main.py \\\\\\n--dataset AG_News \\\\\\n--log_root log \\\\\\n--data_root data \\\\\\n--trainer_name bert_wn \\\\\\n--model_name bert-base-uncased \\\\\\n--gen_val \\\\\\n--nl_batch_size 32 \\\\\\n--eval_batch_size 32 \\\\\\n--gradient_accumulation_steps 1 \\\\\\n--max_sen_len 64 \\\\\\n--lr 0.00002 \\\\\\n--num_epochs 1 \\\\\\n--num_training_steps 5\\\\\\n--patience 1 \\\\\\n--eval_freq 2 \\\\\\n--store_model 1 \\\\\\n--noise_level 0.2 \\\\\\n--noise_type sflip \\\\\\n--manualSeed 1234\\n```\\nto submit the answer.'}]\n",
    "</details>\n"
   ]
  },
  {
   "cell_type": "markdown",
   "id": "516fe0d3",
   "metadata": {},
   "source": [
    "### Step 1"
   ]
  },
  {
   "cell_type": "markdown",
   "id": "24826bea",
   "metadata": {},
   "source": [
    "Execution Start time: 23:38:00, End time: 23:38:01 (duration: 0 seconds)"
   ]
  },
  {
   "cell_type": "markdown",
   "id": "b658de06",
   "metadata": {},
   "source": [
    "**Thought**: [pre-executed by user]"
   ]
  },
  {
   "cell_type": "markdown",
   "id": "c91e8a20",
   "metadata": {},
   "source": [
    "**Action (execute)**:"
   ]
  },
  {
   "cell_type": "code",
   "execution_count": null,
   "id": "ac83bea7",
   "metadata": {},
   "outputs": [
    {
     "data": {
      "text/plain": [
       ""
      ]
     },
     "execution_count": null,
     "metadata": {},
     "output_type": "execute_result"
    }
   ],
   "source": [
    "# ## Installing package, and fetching repo"
   ]
  },
  {
   "cell_type": "markdown",
   "id": "e0f62d4b",
   "metadata": {},
   "source": [
    "### Step 2"
   ]
  },
  {
   "cell_type": "markdown",
   "id": "ceb1bd7b",
   "metadata": {},
   "source": [
    "Execution Start time: 23:38:01, End time: 23:38:01 (duration: 0 seconds)"
   ]
  },
  {
   "cell_type": "markdown",
   "id": "8f58d670",
   "metadata": {},
   "source": [
    "**Thought**: [pre-executed by user]"
   ]
  },
  {
   "cell_type": "markdown",
   "id": "471d9d87",
   "metadata": {},
   "source": [
    "**Action (execute)**:"
   ]
  },
  {
   "cell_type": "code",
   "execution_count": null,
   "id": "18168198",
   "metadata": {},
   "outputs": [
    {
     "data": {
      "text/plain": [
       "Cloning into 'BERT-LNL'...\nremote: Enumerating objects: 24, done.\u001b[K\nremote: Counting objects: 100% (24/24)\u001b[K\nremote: Counting objects: 100% (24/24), done.\u001b[K\nremote: Compressing objects: 100% (20/20)\u001b[K\nremote: Compressing objects: 100% (20/20), done.\u001b[K\nremote: Total 24 (delta 4), reused 20 (delta 4), pack-reused 0 (from 0)\u001b[K\nReceiving objects: 100% (24/24)\nReceiving objects: 100% (24/24), 22.55 KiB | 1004.00 KiB/s, done.\nResolving deltas: 100% (4/4)\nResolving deltas: 100% (4/4), done.\n"
      ]
     },
     "execution_count": null,
     "metadata": {},
     "output_type": "execute_result"
    }
   ],
   "source": [
    "!git clone https://github.com/uds-lsv/BERT-LNL.git"
   ]
  },
  {
   "cell_type": "markdown",
   "id": "f72f58c2",
   "metadata": {},
   "source": [
    "### Step 3"
   ]
  },
  {
   "cell_type": "markdown",
   "id": "15ffdcee",
   "metadata": {},
   "source": [
    "Execution Start time: 23:38:01, End time: 23:38:01 (duration: 0 seconds)"
   ]
  },
  {
   "cell_type": "markdown",
   "id": "374bd8a4",
   "metadata": {},
   "source": [
    "**Thought**: [pre-executed by user]"
   ]
  },
  {
   "cell_type": "markdown",
   "id": "e90e7885",
   "metadata": {},
   "source": [
    "**Action (execute)**:"
   ]
  },
  {
   "cell_type": "code",
   "execution_count": null,
   "id": "b71734cf",
   "metadata": {},
   "outputs": [
    {
     "data": {
      "text/plain": [
       "/content/BERT-LNL\n"
      ]
     },
     "execution_count": null,
     "metadata": {},
     "output_type": "execute_result"
    }
   ],
   "source": [
    "%cd BERT-LNL"
   ]
  },
  {
   "cell_type": "markdown",
   "id": "23a6968d",
   "metadata": {},
   "source": [
    "### Step 4"
   ]
  },
  {
   "cell_type": "markdown",
   "id": "8f18cfc2",
   "metadata": {},
   "source": [
    "Execution Start time: 23:38:01, End time: 23:38:01 (duration: 0 seconds)"
   ]
  },
  {
   "cell_type": "markdown",
   "id": "8c1661f5",
   "metadata": {},
   "source": [
    "**Thought**: [pre-executed by user]"
   ]
  },
  {
   "cell_type": "markdown",
   "id": "ebcb15de",
   "metadata": {},
   "source": [
    "**Action (execute)**:"
   ]
  },
  {
   "cell_type": "code",
   "execution_count": null,
   "id": "25311075",
   "metadata": {},
   "outputs": [
    {
     "data": {
      "text/plain": [
       ""
      ]
     },
     "execution_count": null,
     "metadata": {},
     "output_type": "execute_result"
    }
   ],
   "source": [
    "# ## Data Preprocessing"
   ]
  },
  {
   "cell_type": "markdown",
   "id": "0451b84f",
   "metadata": {},
   "source": [
    "### Step 5"
   ]
  },
  {
   "cell_type": "markdown",
   "id": "e369d9a6",
   "metadata": {},
   "source": [
    "Execution Start time: 23:38:01, End time: 23:38:02 (duration: 0 seconds)"
   ]
  },
  {
   "cell_type": "markdown",
   "id": "5e587e8a",
   "metadata": {},
   "source": [
    "**Thought**: [pre-executed by user]"
   ]
  },
  {
   "cell_type": "markdown",
   "id": "45e422f7",
   "metadata": {},
   "source": [
    "**Action (execute)**:"
   ]
  },
  {
   "cell_type": "code",
   "execution_count": null,
   "id": "7211a6e6",
   "metadata": {},
   "outputs": [
    {
     "data": {
      "text/plain": [
       ""
      ]
     },
     "execution_count": null,
     "metadata": {},
     "output_type": "execute_result"
    }
   ],
   "source": [
    "import os\n",
    "os.makedirs('data/AG_News/txt_data')"
   ]
  },
  {
   "cell_type": "markdown",
   "id": "aca0ca3d",
   "metadata": {},
   "source": [
    "### Step 6"
   ]
  },
  {
   "cell_type": "markdown",
   "id": "928da64d",
   "metadata": {},
   "source": [
    "Execution Start time: 23:38:02, End time: 23:38:02 (duration: 0 seconds)"
   ]
  },
  {
   "cell_type": "markdown",
   "id": "58e0c340",
   "metadata": {},
   "source": [
    "**Thought**: [pre-executed by user]"
   ]
  },
  {
   "cell_type": "markdown",
   "id": "bf1f9358",
   "metadata": {},
   "source": [
    "**Action (execute)**:"
   ]
  },
  {
   "cell_type": "code",
   "execution_count": null,
   "id": "68f35f64",
   "metadata": {},
   "outputs": [
    {
     "data": {
      "text/plain": [
       "/content/BERT-LNL/data/AG_News/txt_data\n"
      ]
     },
     "execution_count": null,
     "metadata": {},
     "output_type": "execute_result"
    }
   ],
   "source": [
    "%cd data/AG_News/txt_data"
   ]
  },
  {
   "cell_type": "markdown",
   "id": "00bbe2eb",
   "metadata": {},
   "source": [
    "### Step 7"
   ]
  },
  {
   "cell_type": "markdown",
   "id": "c205bc7f",
   "metadata": {},
   "source": [
    "Execution Start time: 23:38:02, End time: 23:38:02 (duration: 0 seconds)"
   ]
  },
  {
   "cell_type": "markdown",
   "id": "5dcb4b9c",
   "metadata": {},
   "source": [
    "**Thought**: [pre-executed by user]"
   ]
  },
  {
   "cell_type": "markdown",
   "id": "125953d5",
   "metadata": {},
   "source": [
    "**Action (execute)**:"
   ]
  },
  {
   "cell_type": "code",
   "execution_count": null,
   "id": "55546501",
   "metadata": {},
   "outputs": [
    {
     "data": {
      "text/plain": [
       "Error/Traceback: ModuleNotFoundError: No module named 'datasets'---------------------------------------------------------------------------ModuleNotFoundError                       Traceback (most recent call last)Cell In[9], line 1\n----> 1 from datasets import load_dataset\n      2 data = load_dataset(\"ag_news\",trust_remote_code=True)\nModuleNotFoundError: No module named 'datasets'"
      ]
     },
     "execution_count": null,
     "metadata": {},
     "output_type": "execute_result"
    }
   ],
   "source": [
    "from datasets import load_dataset\n",
    "data = load_dataset(\"ag_news\",trust_remote_code=True)"
   ]
  },
  {
   "cell_type": "markdown",
   "id": "5354f1d0",
   "metadata": {},
   "source": [
    "### Step 8"
   ]
  },
  {
   "cell_type": "markdown",
   "id": "574f6e90",
   "metadata": {},
   "source": [
    "Execution Start time: 23:38:02, End time: 23:38:02 (duration: 0 seconds)"
   ]
  },
  {
   "cell_type": "markdown",
   "id": "fb649ab6",
   "metadata": {},
   "source": [
    "**Thought**: [pre-executed by user]"
   ]
  },
  {
   "cell_type": "markdown",
   "id": "bd0ce70e",
   "metadata": {},
   "source": [
    "**Action (execute)**:"
   ]
  },
  {
   "cell_type": "code",
   "execution_count": null,
   "id": "2ec0dcb7",
   "metadata": {},
   "outputs": [
    {
     "data": {
      "text/plain": [
       "Error/Traceback: NameError: name 'data' is not defined---------------------------------------------------------------------------NameError                                 Traceback (most recent call last)Cell In[10], line 5\n      1 # the code will spit out an error if there is any class which is not available\n      2 # since the dataset have 4 classes the the train, test and val_indices are handpicked\n      3 # so that each split get reasonable number of classes\n----> 5 train_dataset = data[\"train\"].select([1,2,3,4,5,6,100,101,102,103,104,105,451,452,453,454,455,456,501,502,503,504,505,506])\n      6 test_dataset = data[\"test\"].select([1,2,3,101,103,452,455,501,502,503,504,505])\n      7 val_indices = [0,1,2,6,7,8,12,13,14,18,19,20]\nNameError: name 'data' is not defined"
      ]
     },
     "execution_count": null,
     "metadata": {},
     "output_type": "execute_result"
    }
   ],
   "source": [
    "# the code will spit out an error if there is any class which is not available\n",
    "# since the dataset have 4 classes the the train, test and val_indices are handpicked\n",
    "# so that each split get reasonable number of classes\n",
    "\n",
    "train_dataset = data[\"train\"].select([1,2,3,4,5,6,100,101,102,103,104,105,451,452,453,454,455,456,501,502,503,504,505,506])\n",
    "test_dataset = data[\"test\"].select([1,2,3,101,103,452,455,501,502,503,504,505])\n",
    "val_indices = [0,1,2,6,7,8,12,13,14,18,19,20]"
   ]
  },
  {
   "cell_type": "markdown",
   "id": "bd4351c5",
   "metadata": {},
   "source": [
    "### Step 9"
   ]
  },
  {
   "cell_type": "markdown",
   "id": "d30b8d13",
   "metadata": {},
   "source": [
    "Execution Start time: 23:38:02, End time: 23:38:02 (duration: 0 seconds)"
   ]
  },
  {
   "cell_type": "markdown",
   "id": "e8e7d63d",
   "metadata": {},
   "source": [
    "**Thought**: [pre-executed by user]"
   ]
  },
  {
   "cell_type": "markdown",
   "id": "9ccba748",
   "metadata": {},
   "source": [
    "**Action (execute)**:"
   ]
  },
  {
   "cell_type": "code",
   "execution_count": null,
   "id": "8a3d088c",
   "metadata": {},
   "outputs": [
    {
     "data": {
      "text/plain": [
       ""
      ]
     },
     "execution_count": null,
     "metadata": {},
     "output_type": "execute_result"
    }
   ],
   "source": [
    "import pickle\n",
    "def write_to_files(data, src_file, label_file):\n",
    "    with open(src_file, \"w\", encoding=\"utf-8\") as src_f:\n",
    "        labels = []\n",
    "        for example in data:\n",
    "            src_f.write(example[\"text\"] + \"\\n\")\n",
    "            labels.append(example[\"label\"])\n",
    "        pickle.dump(labels, open(label_file, \"wb\"))"
   ]
  },
  {
   "cell_type": "markdown",
   "id": "0bf1fd7d",
   "metadata": {},
   "source": [
    "### Step 10"
   ]
  },
  {
   "cell_type": "markdown",
   "id": "c2d930e3",
   "metadata": {},
   "source": [
    "Execution Start time: 23:38:02, End time: 23:38:03 (duration: 0 seconds)"
   ]
  },
  {
   "cell_type": "markdown",
   "id": "e5a1bae5",
   "metadata": {},
   "source": [
    "**Thought**: [pre-executed by user]"
   ]
  },
  {
   "cell_type": "markdown",
   "id": "acfb6ca9",
   "metadata": {},
   "source": [
    "**Action (execute)**:"
   ]
  },
  {
   "cell_type": "code",
   "execution_count": null,
   "id": "585defd3",
   "metadata": {},
   "outputs": [
    {
     "data": {
      "text/plain": [
       "Error/Traceback: NameError: name 'train_dataset' is not defined---------------------------------------------------------------------------NameError                                 Traceback (most recent call last)Cell In[12], line 1\n----> 1 write_to_files(train_dataset, \"train.txt\",\"train_labels.pickle\")\n      2 write_to_files(test_dataset, \"test.txt\", \"test_labels.pickle\")\nNameError: name 'train_dataset' is not defined"
      ]
     },
     "execution_count": null,
     "metadata": {},
     "output_type": "execute_result"
    }
   ],
   "source": [
    "write_to_files(train_dataset, \"train.txt\",\"train_labels.pickle\")\n",
    "write_to_files(test_dataset, \"test.txt\", \"test_labels.pickle\")"
   ]
  },
  {
   "cell_type": "markdown",
   "id": "db16b024",
   "metadata": {},
   "source": [
    "### Step 11"
   ]
  },
  {
   "cell_type": "markdown",
   "id": "ae37b94e",
   "metadata": {},
   "source": [
    "Execution Start time: 23:38:03, End time: 23:38:03 (duration: 0 seconds)"
   ]
  },
  {
   "cell_type": "markdown",
   "id": "22d56b1e",
   "metadata": {},
   "source": [
    "**Thought**: [pre-executed by user]"
   ]
  },
  {
   "cell_type": "markdown",
   "id": "9fc3628e",
   "metadata": {},
   "source": [
    "**Action (execute)**:"
   ]
  },
  {
   "cell_type": "code",
   "execution_count": null,
   "id": "34ef8cf9",
   "metadata": {},
   "outputs": [
    {
     "data": {
      "text/plain": [
       "/content/BERT-LNL/data/AG_News\n/content/BERT-LNL/data/AG_News/val_indices\n"
      ]
     },
     "execution_count": null,
     "metadata": {},
     "output_type": "execute_result"
    }
   ],
   "source": [
    "%cd ..\n",
    "%mkdir val_indices\n",
    "%cd val_indices"
   ]
  },
  {
   "cell_type": "markdown",
   "id": "5e19b215",
   "metadata": {},
   "source": [
    "### Step 12"
   ]
  },
  {
   "cell_type": "markdown",
   "id": "68e10e61",
   "metadata": {},
   "source": [
    "Execution Start time: 23:38:03, End time: 23:38:03 (duration: 0 seconds)"
   ]
  },
  {
   "cell_type": "markdown",
   "id": "7d2064a8",
   "metadata": {},
   "source": [
    "**Thought**: [pre-executed by user]"
   ]
  },
  {
   "cell_type": "markdown",
   "id": "c4247893",
   "metadata": {},
   "source": [
    "**Action (execute)**:"
   ]
  },
  {
   "cell_type": "code",
   "execution_count": null,
   "id": "84f3a1b6",
   "metadata": {},
   "outputs": [
    {
     "data": {
      "text/plain": [
       "Error/Traceback: NameError: name 'val_indices' is not defined---------------------------------------------------------------------------NameError                                 Traceback (most recent call last)Cell In[14], line 1\n----> 1 pickle.dump(val_indices, open('AG_News_val_indices.pickle', \"wb\"))\nNameError: name 'val_indices' is not defined"
      ]
     },
     "execution_count": null,
     "metadata": {},
     "output_type": "execute_result"
    }
   ],
   "source": [
    "pickle.dump(val_indices, open('AG_News_val_indices.pickle', \"wb\"))"
   ]
  },
  {
   "cell_type": "markdown",
   "id": "477a0377",
   "metadata": {},
   "source": [
    "### Step 13"
   ]
  },
  {
   "cell_type": "markdown",
   "id": "c0860f60",
   "metadata": {},
   "source": [
    "Execution Start time: 23:38:03, End time: 23:38:03 (duration: 0 seconds)"
   ]
  },
  {
   "cell_type": "markdown",
   "id": "cfafff0c",
   "metadata": {},
   "source": [
    "**Thought**: [pre-executed by user]"
   ]
  },
  {
   "cell_type": "markdown",
   "id": "b98c6b2c",
   "metadata": {},
   "source": [
    "**Action (execute)**:"
   ]
  },
  {
   "cell_type": "code",
   "execution_count": null,
   "id": "019bed01",
   "metadata": {},
   "outputs": [
    {
     "data": {
      "text/plain": [
       "/content/BERT-LNL\n"
      ]
     },
     "execution_count": null,
     "metadata": {},
     "output_type": "execute_result"
    }
   ],
   "source": [
    "%cd /content/BERT-LNL"
   ]
  },
  {
   "cell_type": "markdown",
   "id": "faea2a76",
   "metadata": {},
   "source": [
    "### Step 14"
   ]
  },
  {
   "cell_type": "markdown",
   "id": "aab63615",
   "metadata": {},
   "source": [
    "Execution Start time: 23:38:03, End time: 23:38:03 (duration: 0 seconds)"
   ]
  },
  {
   "cell_type": "markdown",
   "id": "e76405b4",
   "metadata": {},
   "source": [
    "**Thought**: [pre-executed by user]"
   ]
  },
  {
   "cell_type": "markdown",
   "id": "e3e777cb",
   "metadata": {},
   "source": [
    "**Action (execute)**:"
   ]
  },
  {
   "cell_type": "code",
   "execution_count": null,
   "id": "5a56678e",
   "metadata": {},
   "outputs": [
    {
     "data": {
      "text/plain": [
       ""
      ]
     },
     "execution_count": null,
     "metadata": {},
     "output_type": "execute_result"
    }
   ],
   "source": [
    "# ## Changes in Repo code\n",
    "# \n",
    "# The change is needed because saving model and wandb restriction is there, som codes are commented nearby, but some are not which is making the code stop running, Authors may have forgot  to remove that part of code.\n",
    "# "
   ]
  },
  {
   "cell_type": "markdown",
   "id": "9fbc4696",
   "metadata": {},
   "source": [
    "### Step 15"
   ]
  },
  {
   "cell_type": "markdown",
   "id": "8279eda7",
   "metadata": {},
   "source": [
    "Execution Start time: 23:38:03, End time: 23:38:04 (duration: 0 seconds)"
   ]
  },
  {
   "cell_type": "markdown",
   "id": "c90f131c",
   "metadata": {},
   "source": [
    "**Thought**: [pre-executed by user]"
   ]
  },
  {
   "cell_type": "markdown",
   "id": "a822cd20",
   "metadata": {},
   "source": [
    "**Action (edit)**:"
   ]
  },
  {
   "cell_type": "code",
   "execution_count": null,
   "id": "a82785b7",
   "metadata": {},
   "outputs": [
    {
     "data": {
      "text/plain": [
       "Edit was successful. Here's the relevant content *after edit* for your inspection (you should check indentation is correct):\n\n                early_stopper.register(val_score['score_dict_n']['accuracy'], model, optimizer)\n\n                # wandb.log({'eval/loss/val_c_loss': val_score['val_c_loss'],\n                #            'eval/loss/val_n_loss': val_score['val_n_loss'],\n                #            'eval/score/val_c_acc': val_score['score_dict_c']['accuracy'],\n                #            'eval/score/val_n_acc': val_score['score_dict_n']['accuracy'],\n                #            'eval/score/test_acc': test_score['score_dict']['accuracy']}, step=global_step)\n\n                loss_noise_tracker.log_loss(model, global_step, device)\n                #loss_noise_tracker.log_last_histogram_to_wandb(step=global_step, normalize=True, tag='eval/loss')\n\n            if early_stopper.early_stop:\n                break\n\n        # if args.save_loss_tracker_information:\n        #     loss_noise_tracker.save_logged_information()\n        #     self.logger.info(\"[WN Trainer]: loss history saved\")\n        best_model = self.create_model(args)\n        best_model_weights = early_stopper.get_final_res()[\"es_best_model\"]\n        best_model.load_state_dict(best_model_weights)\n        best_model = best_model.to(device)\n\n        val_score = self.eval_model_with_both_labels(best_model, v_loader, device, fast_mode=False)\n        test_score = self.eval_model(args, logger, t_loader, best_model, device, fast_mode=False)\n        # wandb.run.summary[\"best_score_on_val_n\"] = test_score['score_dict']['accuracy']"
      ]
     },
     "execution_count": null,
     "metadata": {},
     "output_type": "execute_result"
    }
   ],
   "source": [
    "/content/BERT-LNL/trainers/bert_wn_trainer.py\n",
    "<<<BEFORE_EDIT>>>\n",
    "                #            'eval/score/test_acc': test_score['score_dict']['accuracy']}, step=global_step)\n",
    "\n",
    "                loss_noise_tracker.log_loss(model, global_step, device)\n",
    "                loss_noise_tracker.log_last_histogram_to_wandb(step=global_step, normalize=True, tag='eval/loss')\n",
    "\n",
    "            if early_stopper.early_stop:\n",
    "                break\n",
    "\n",
    "        if args.save_loss_tracker_information:\n",
    "            loss_noise_tracker.save_logged_information()\n",
    "            self.logger.info(\"[WN Trainer]: loss history saved\")\n",
    "        best_model = self.create_model(args)\n",
    "        best_model_weights = early_stopper.get_final_res()[\"es_best_model\"]\n",
    "<<<AFTER_EDIT>>>\n",
    "                #            'eval/score/test_acc': test_score['score_dict']['accuracy']}, step=global_step)\n",
    "\n",
    "                loss_noise_tracker.log_loss(model, global_step, device)\n",
    "                #loss_noise_tracker.log_last_histogram_to_wandb(step=global_step, normalize=True, tag='eval/loss')\n",
    "\n",
    "            if early_stopper.early_stop:\n",
    "                break\n",
    "\n",
    "        # if args.save_loss_tracker_information:\n",
    "        #     loss_noise_tracker.save_logged_information()\n",
    "        #     self.logger.info(\"[WN Trainer]: loss history saved\")\n",
    "        best_model = self.create_model(args)\n",
    "        best_model_weights = early_stopper.get_final_res()[\"es_best_model\"]\n"
   ]
  },
  {
   "cell_type": "markdown",
   "id": "6112be46",
   "metadata": {},
   "source": [
    "### Step 16"
   ]
  },
  {
   "cell_type": "markdown",
   "id": "d486e511",
   "metadata": {},
   "source": [
    "Execution Start time: 23:38:04, End time: 23:38:04 (duration: 0 seconds)"
   ]
  },
  {
   "cell_type": "markdown",
   "id": "23808be8",
   "metadata": {},
   "source": [
    "**Thought**: [pre-executed by user]"
   ]
  },
  {
   "cell_type": "markdown",
   "id": "3862e8d1",
   "metadata": {},
   "source": [
    "**Action (edit)**:"
   ]
  },
  {
   "cell_type": "code",
   "execution_count": null,
   "id": "03608fa6",
   "metadata": {},
   "outputs": [
    {
     "data": {
      "text/plain": [
       "Edit was successful. Here's the relevant content *after edit* for your inspection (you should check indentation is correct):\n        # if args.save_loss_tracker_information:\n        #     loss_noise_tracker.save_logged_information()\n        #     self.logger.info(\"[WN Trainer]: loss history saved\")\n        best_model = self.create_model(args)\n        best_model_weights = early_stopper.get_final_res()[\"es_best_model\"]\n        best_model.load_state_dict(best_model_weights)\n        best_model = best_model.to(device)\n\n        val_score = self.eval_model_with_both_labels(best_model, v_loader, device, fast_mode=False)\n        test_score = self.eval_model(args, logger, t_loader, best_model, device, fast_mode=False)\n        print(f\"Test Score is {test_score}\")\n        # wandb.run.summary[\"best_score_on_val_n\"] = test_score['score_dict']['accuracy']\n        # wandb.run.summary[\"best_val_n\"] = val_score['score_dict_n']['accuracy']\n        # wandb.run.summary[\"best_val_c_on_val_n\"] = val_score['score_dict_c']['accuracy']\n\n\n\n\n    def forward_backward_noisy_batch(self, model, data_dict, loss_fn, args, device):"
      ]
     },
     "execution_count": null,
     "metadata": {},
     "output_type": "execute_result"
    }
   ],
   "source": [
    "/content/BERT-LNL/trainers/bert_wn_trainer.py\n",
    "<<<BEFORE_EDIT>>>\n",
    "\n",
    "        val_score = self.eval_model_with_both_labels(best_model, v_loader, device, fast_mode=False)\n",
    "        test_score = self.eval_model(args, logger, t_loader, best_model, device, fast_mode=False)\n",
    "        # wandb.run.summary[\"best_score_on_val_n\"] = test_score['score_dict']['accuracy']\n",
    "        # wandb.run.summary[\"best_val_n\"] = val_score['score_dict_n']['accuracy']\n",
    "<<<AFTER_EDIT>>>\n",
    "\n",
    "        val_score = self.eval_model_with_both_labels(best_model, v_loader, device, fast_mode=False)\n",
    "        test_score = self.eval_model(args, logger, t_loader, best_model, device, fast_mode=False)\n",
    "        print(f\"Test Score is {test_score}\")\n",
    "        # wandb.run.summary[\"best_score_on_val_n\"] = test_score['score_dict']['accuracy']\n",
    "        # wandb.run.summary[\"best_val_n\"] = val_score['score_dict_n']['accuracy']\n"
   ]
  },
  {
   "cell_type": "markdown",
   "id": "50dfc225",
   "metadata": {},
   "source": [
    "### Step 17"
   ]
  },
  {
   "cell_type": "markdown",
   "id": "cbf35172",
   "metadata": {},
   "source": [
    "Execution Start time: 23:38:04, End time: 23:38:04 (duration: 0 seconds)"
   ]
  },
  {
   "cell_type": "markdown",
   "id": "16afeb1c",
   "metadata": {},
   "source": [
    "**Thought**: [pre-executed by user]"
   ]
  },
  {
   "cell_type": "markdown",
   "id": "7fe93d82",
   "metadata": {},
   "source": [
    "**Action (execute)**:"
   ]
  },
  {
   "cell_type": "code",
   "execution_count": null,
   "id": "4fea611b",
   "metadata": {},
   "outputs": [
    {
     "data": {
      "text/plain": [
       ""
      ]
     },
     "execution_count": null,
     "metadata": {},
     "output_type": "execute_result"
    }
   ],
   "source": [
    "# ## Training"
   ]
  },
  {
   "cell_type": "markdown",
   "id": "a8a2cc39",
   "metadata": {},
   "source": [
    "### Step 18"
   ]
  },
  {
   "cell_type": "markdown",
   "id": "e1e61c69",
   "metadata": {},
   "source": [
    "Execution Start time: 23:38:05, End time: 23:38:13 (duration: 7 seconds)"
   ]
  },
  {
   "cell_type": "markdown",
   "id": "eebfed35",
   "metadata": {},
   "source": [
    "**Thought**: The previous steps indicate that the repository has been cloned, and some data preprocessing steps were attempted but failed due to missing dependencies. I need to install the required dependencies, including the `datasets` library, to proceed with the data loading and preprocessing steps."
   ]
  },
  {
   "cell_type": "markdown",
   "id": "47cf5193",
   "metadata": {},
   "source": [
    "**Action (execute)**:"
   ]
  },
  {
   "cell_type": "code",
   "execution_count": null,
   "id": "fbfd30fa",
   "metadata": {},
   "outputs": [
    {
     "data": {
      "text/plain": [
       "Collecting datasets\n  Downloading datasets-2.21.0-py3-none-any.whl.metadata (21 kB)\nRequirement already satisfied: transformers in /usr/local/lib/python3.10/site-packages (4.40.2)\nRequirement already satisfied: filelock in /usr/local/lib/python3.10/site-packages (from datasets) (3.15.1)\nRequirement already satisfied: numpy>=1.17 in /usr/local/lib/python3.10/site-packages (from datasets) (1.25.2)\nCollecting pyarrow>=15.0.0 (from datasets)\n  Downloading pyarrow-17.0.0-cp310-cp310-manylinux_2_28_x86_64.whl.metadata (3.3 kB)\nCollecting dill<0.3.9,>=0.3.0 (from datasets)\n  Downloading dill-0.3.8-py3-none-any.whl.metadata (10 kB)\nRequirement already satisfied: pandas in /usr/local/lib/python3.10/site-packages (from datasets) (2.0.3)\nCollecting requests>=2.32.2 (from datasets)\n  Downloading requests-2.32.3-py3-none-any.whl.metadata (4.6 kB)\nRequirement already satisfied: tqdm>=4.66.3 in /usr/local/lib/python3.10/site-packages (from datasets) (4.66.4)\nCollecting xxhash (from datasets)\n  Downloading xxhash-3.5.0-cp310-cp310-manylinux_2_17_x86_64.manylinux2014_x86_64.whl.metadata (12 kB)\nCollecting multiprocess (from datasets)\n  Downloading multiprocess-0.70.16-py310-none-any.whl.metadata (7.2 kB)\nRequirement already satisfied: fsspec<=2024.6.1,>=2023.1.0 in /usr/local/lib/python3.10/site-packages (from fsspec[http]<=2024.6.1,>=2023.1.0->datasets) (2023.6.0)\nRequirement already satisfied: aiohttp in /usr/local/lib/python3.10/site-packages (from datasets) (3.8.3)\nRequirement already satisfied: huggingface-hub>=0.21.2 in /usr/local/lib/python3.10/site-packages (from datasets) (0.23.3)\nRequirement already satisfied: packaging in /usr/local/lib/python3.10/site-packages (from datasets) (24.1)\nRequirement already satisfied: pyyaml>=5.1 in /usr/local/lib/python3.10/site-packages (from datasets) (6.0.1)\nRequirement already satisfied: regex!=2019.12.17 in /usr/local/lib/python3.10/site-packages (from transformers) (2023.12.25)\nRequirement already satisfied: tokenizers<0.20,>=0.19 in /usr/local/lib/python3.10/site-packages (from transformers) (0.19.1)\nRequirement already satisfied: safetensors>=0.4.1 in /usr/local/lib/python3.10/site-packages (from transformers) (0.4.3)\nRequirement already satisfied: attrs>=17.3.0 in /usr/local/lib/python3.10/site-packages (from aiohttp->datasets) (23.2.0)\nRequirement already satisfied: charset-normalizer<3.0,>=2.0 in /usr/local/lib/python3.10/site-packages (from aiohttp->datasets) (2.1.1)\nRequirement already satisfied: multidict<7.0,>=4.5 in /usr/local/lib/python3.10/site-packages (from aiohttp->datasets) (6.0.5)\nRequirement already satisfied: async-timeout<5.0,>=4.0.0a3 in /usr/local/lib/python3.10/site-packages (from aiohttp->datasets) (4.0.3)\nRequirement already satisfied: yarl<2.0,>=1.0 in /usr/local/lib/python3.10/site-packages (from aiohttp->datasets) (1.9.4)\nRequirement already satisfied: frozenlist>=1.1.1 in /usr/local/lib/python3.10/site-packages (from aiohttp->datasets) (1.4.1)\nRequirement already satisfied: aiosignal>=1.1.2 in /usr/local/lib/python3.10/site-packages (from aiohttp->datasets) (1.3.1)\nRequirement already satisfied: typing-extensions>=3.7.4.3 in /usr/local/lib/python3.10/site-packages (from huggingface-hub>=0.21.2->datasets) (4.12.2)\nRequirement already satisfied: idna<4,>=2.5 in /usr/local/lib/python3.10/site-packages (from requests>=2.32.2->datasets) (3.7)\nRequirement already satisfied: urllib3<3,>=1.21.1 in /usr/local/lib/python3.10/site-packages (from requests>=2.32.2->datasets) (2.0.7)\nRequirement already satisfied: certifi>=2017.4.17 in /usr/local/lib/python3.10/site-packages (from requests>=2.32.2->datasets) (2024.6.2)\nRequirement already satisfied: python-dateutil>=2.8.2 in /usr/local/lib/python3.10/site-packages (from pandas->datasets) (2.9.0.post0)\nRequirement already satisfied: pytz>=2020.1 in /usr/local/lib/python3.10/site-packages (from pandas->datasets) (2024.1)\nRequirement already satisfied: tzdata>=2022.1 in /usr/local/lib/python3.10/site-packages (from pandas->datasets) (2024.1)\nRequirement already satisfied: six>=1.5 in /usr/local/lib/python3.10/site-packages (from python-dateutil>=2.8.2->pandas->datasets) (1.16.0)\nDownloading datasets-2.21.0-py3-none-any.whl (527 kB)\n\u001b[?25l   ━━━━━━━━━━━━━━━━━━━━━━━━━━━━━━━━━━━━━━━━ 0.0/527.3 kB ? eta -:--:--\n\n\n\u001b[?25hDownloading dill-0.3.8-py3-none-any.whl (116 kB)\n\u001b[?25l   ━━━━━━━━━━━━━━━━━━━━━━━━━━━━━━━━━━━━━━━━ 0.0/116.3 kB ? eta -:--:--\n\n\u001b[?25hDownloading pyarrow-17.0.0-cp310-cp310-manylinux_2_28_x86_64.whl (39.9 MB)\n\u001b[?25l   ━━━━━━━━━━━━━━━━━━━━━━━━━━━━━━━━━━━━━━━━ 0.0/39.9 MB ? eta -:--:--\n\n\n\n\n\n\n\n\n\n\n\n\n\n\u001b[?25hDownloading requests-2.32.3-py3-none-any.whl (64 kB)\n\u001b[?25l   ━━━━━━━━━━━━━━━━━━━━━━━━━━━━━━━━━━━━━━━━ 0.0/64.9 kB ? eta -:--:--\n\n\u001b[?25hDownloading multiprocess-0.70.16-py310-none-any.whl (134 kB)\n\u001b[?25l   ━━━━━━━━━━━━━━━━━━━━━━━━━━━━━━━━━━━━━━━━ 0.0/134.8 kB ? eta -:--:--\n\n\u001b[?25hDownloading xxhash-3.5.0-cp310-cp310-manylinux_2_17_x86_64.manylinux2014_x86_64.whl (194 kB)\n\u001b[?25l   ━━━━━━━━━━━━━━━━━━━━━━━━━━━━━━━━━━━━━━━━ 0.0/194.1 kB ? eta -:--:--\n\n\u001b[?25hInstalling collected packages: xxhash, requests, pyarrow, dill, multiprocess, datasets\n  Attempting uninstall: requests\n    Found existing installation: requests 2.31.0\n    Uninstalling requests-2.31.0:\n      Successfully uninstalled requests-2.31.0\nSuccessfully installed datasets-2.21.0 dill-0.3.8 multiprocess-0.70.16 pyarrow-17.0.0 requests-2.32.3 xxhash-3.5.0\n\n[notice] A new release of pip is available: 24.0 -> 24.2\n[notice] To update, run: pip install --upgrade pip\n"
      ]
     },
     "execution_count": null,
     "metadata": {},
     "output_type": "execute_result"
    }
   ],
   "source": [
    "!pip install datasets transformers"
   ]
  },
  {
   "cell_type": "markdown",
   "id": "60b2a911",
   "metadata": {},
   "source": [
    "### Step 19"
   ]
  },
  {
   "cell_type": "markdown",
   "id": "65708600",
   "metadata": {},
   "source": [
    "Execution Start time: 23:38:18, End time: 23:38:21 (duration: 3 seconds)"
   ]
  },
  {
   "cell_type": "markdown",
   "id": "a99a66a6",
   "metadata": {},
   "source": [
    "**Thought**: The required dependencies, including the `datasets` library, have been successfully installed. Now, I can proceed with loading the AG-News dataset using the `datasets` library and continue with the data preprocessing steps that were previously attempted."
   ]
  },
  {
   "cell_type": "markdown",
   "id": "34f2f3e4",
   "metadata": {},
   "source": [
    "**Action (execute)**:"
   ]
  },
  {
   "cell_type": "code",
   "execution_count": null,
   "id": "622b5fd6",
   "metadata": {},
   "outputs": [
    {
     "data": {
      "text/plain": [
       ""
      ]
     },
     "execution_count": null,
     "metadata": {},
     "output_type": "execute_result"
    }
   ],
   "source": [
    "from datasets import load_dataset\n",
    "\n",
    "# Load the AG-News dataset\n",
    "data = load_dataset(\"ag_news\")\n",
    "\n",
    "# Select specific instances for train, test, and validation splits\n",
    "train_dataset = data[\"train\"].select([1,2,3,4,5,6,100,101,102,103,104,105,451,452,453,454,455,456,501,502,503,504,505,506])\n",
    "test_dataset = data[\"test\"].select([1,2,3,101,103,452,455,501,502,503,504,505])\n",
    "val_indices = [0,1,2,6,7,8,12,13,14,18,19,20]\n",
    "\n",
    "# Function to write data to files\n",
    "def write_to_files(data, src_file, label_file):\n",
    "    with open(src_file, \"w\", encoding=\"utf-8\") as src_f:\n",
    "        labels = []\n",
    "        for example in data:\n",
    "            src_f.write(example[\"text\"] + \"\\n\")\n",
    "            labels.append(example[\"label\"])\n",
    "        pickle.dump(labels, open(label_file, \"wb\"))\n",
    "\n",
    "# Write train and test datasets to files\n",
    "write_to_files(train_dataset, \"data/AG_News/txt_data/train.txt\", \"data/AG_News/txt_data/train_labels.pickle\")\n",
    "write_to_files(test_dataset, \"data/AG_News/txt_data/test.txt\", \"data/AG_News/txt_data/test_labels.pickle\")\n",
    "\n",
    "# Write validation indices to file\n",
    "pickle.dump(val_indices, open('data/AG_News/val_indices/AG_News_val_indices.pickle', \"wb\"))"
   ]
  },
  {
   "cell_type": "markdown",
   "id": "d37cfabc",
   "metadata": {},
   "source": [
    "### Step 20"
   ]
  },
  {
   "cell_type": "markdown",
   "id": "aec0dbe6",
   "metadata": {},
   "source": [
    "Execution Start time: 23:38:25, End time: 23:38:28 (duration: 2 seconds)"
   ]
  },
  {
   "cell_type": "markdown",
   "id": "88e9a2f7",
   "metadata": {},
   "source": [
    "**Thought**: The data preprocessing steps have been successfully completed. The AG-News dataset has been loaded, and the specified instances have been selected and written to files. Now, I can proceed with training the BERT-WN model using the `main.py` script with the specified parameters."
   ]
  },
  {
   "cell_type": "markdown",
   "id": "7fc7c228",
   "metadata": {},
   "source": [
    "**Action (execute)**:"
   ]
  },
  {
   "cell_type": "code",
   "execution_count": null,
   "id": "2d94890b",
   "metadata": {},
   "outputs": [
    {
     "data": {
      "text/plain": [
       "Traceback (most recent call last):\n  File \"/content/BERT-LNL/main.py\", line 2, in <module>\n    from loading_utils import prepare_data, prepare_af_data\n  File \"/content/BERT-LNL/loading_utils.py\", line 6, in <module>\n    import wandb\nModuleNotFoundError: No module named 'wandb'\n"
      ]
     },
     "execution_count": null,
     "metadata": {},
     "output_type": "execute_result"
    }
   ],
   "source": [
    "!python3 main.py \\\n",
    "--dataset AG_News \\\n",
    "--log_root log \\\n",
    "--data_root data \\\n",
    "--trainer_name bert_wn \\\n",
    "--model_name bert-base-uncased \\\n",
    "--gen_val \\\n",
    "--nl_batch_size 32 \\\n",
    "--eval_batch_size 32 \\\n",
    "--gradient_accumulation_steps 1 \\\n",
    "--max_sen_len 64 \\\n",
    "--lr 0.00002 \\\n",
    "--num_epochs 1 \\\n",
    "--num_training_steps 5 \\\n",
    "--patience 1 \\\n",
    "--eval_freq 2 \\\n",
    "--store_model 1 \\\n",
    "--noise_level 0.2 \\\n",
    "--noise_type sflip \\\n",
    "--manualSeed 1234"
   ]
  },
  {
   "cell_type": "markdown",
   "id": "301f3df5",
   "metadata": {},
   "source": [
    "### Step 21"
   ]
  },
  {
   "cell_type": "markdown",
   "id": "6ab972d1",
   "metadata": {},
   "source": [
    "Execution Start time: 23:38:29, End time: 23:38:40 (duration: 11 seconds)"
   ]
  },
  {
   "cell_type": "markdown",
   "id": "572a720e",
   "metadata": {},
   "source": [
    "**Thought**: The error indicates that the `wandb` library is missing, which is required by the `main.py` script. I need to install the `wandb` library to proceed with the training process."
   ]
  },
  {
   "cell_type": "markdown",
   "id": "0dc672d3",
   "metadata": {},
   "source": [
    "**Action (execute)**:"
   ]
  },
  {
   "cell_type": "code",
   "execution_count": null,
   "id": "04ec75c8",
   "metadata": {},
   "outputs": [
    {
     "data": {
      "text/plain": [
       "Collecting wandb\n  Downloading wandb-0.17.7-py3-none-manylinux_2_17_x86_64.manylinux2014_x86_64.whl.metadata (10 kB)\nRequirement already satisfied: click!=8.0.0,>=7.1 in /usr/local/lib/python3.10/site-packages (from wandb) (8.1.7)\nCollecting docker-pycreds>=0.4.0 (from wandb)\n  Downloading docker_pycreds-0.4.0-py2.py3-none-any.whl.metadata (1.8 kB)\nCollecting gitpython!=3.1.29,>=1.0.0 (from wandb)\n  Downloading GitPython-3.1.43-py3-none-any.whl.metadata (13 kB)\nRequirement already satisfied: platformdirs in /usr/local/lib/python3.10/site-packages (from wandb) (4.2.2)\nRequirement already satisfied: protobuf!=4.21.0,<6,>=3.19.0 in /usr/local/lib/python3.10/site-packages (from wandb) (5.27.1)\nRequirement already satisfied: psutil>=5.0.0 in /usr/local/lib/python3.10/site-packages (from wandb) (5.9.8)\nRequirement already satisfied: pyyaml in /usr/local/lib/python3.10/site-packages (from wandb) (6.0.1)\nRequirement already satisfied: requests<3,>=2.0.0 in /usr/local/lib/python3.10/site-packages (from wandb) (2.32.3)\nCollecting sentry-sdk>=1.0.0 (from wandb)\n  Downloading sentry_sdk-2.13.0-py2.py3-none-any.whl.metadata (9.7 kB)\nCollecting setproctitle (from wandb)\n  Downloading setproctitle-1.3.3-cp310-cp310-manylinux_2_5_x86_64.manylinux1_x86_64.manylinux_2_17_x86_64.manylinux2014_x86_64.whl.metadata (9.9 kB)\nRequirement already satisfied: setuptools in /usr/local/lib/python3.10/site-packages (from wandb) (68.1.2)\nRequirement already satisfied: six>=1.4.0 in /usr/local/lib/python3.10/site-packages (from docker-pycreds>=0.4.0->wandb) (1.16.0)\nCollecting gitdb<5,>=4.0.1 (from gitpython!=3.1.29,>=1.0.0->wandb)\n  Downloading gitdb-4.0.11-py3-none-any.whl.metadata (1.2 kB)\nRequirement already satisfied: charset-normalizer<4,>=2 in /usr/local/lib/python3.10/site-packages (from requests<3,>=2.0.0->wandb) (2.1.1)\nRequirement already satisfied: idna<4,>=2.5 in /usr/local/lib/python3.10/site-packages (from requests<3,>=2.0.0->wandb) (3.7)\nRequirement already satisfied: urllib3<3,>=1.21.1 in /usr/local/lib/python3.10/site-packages (from requests<3,>=2.0.0->wandb) (2.0.7)\nRequirement already satisfied: certifi>=2017.4.17 in /usr/local/lib/python3.10/site-packages (from requests<3,>=2.0.0->wandb) (2024.6.2)\nCollecting smmap<6,>=3.0.1 (from gitdb<5,>=4.0.1->gitpython!=3.1.29,>=1.0.0->wandb)\n  Downloading smmap-5.0.1-py3-none-any.whl.metadata (4.3 kB)\nDownloading wandb-0.17.7-py3-none-manylinux_2_17_x86_64.manylinux2014_x86_64.whl (9.3 MB)\n\u001b[?25l   ━━━━━━━━━━━━━━━━━━━━━━━━━━━━━━━━━━━━━━━━ 0.0/9.3 MB ? eta -:--:--\n\n\n\n\n\n\n\n\n\n\n\n\n\n\n\n\n\n\n\n\n\n\n\n\n\n\n\n\n\n\n\n\n\n\n\n\n\n\n\n\n\n\n\n\n\n\n\n\n\n\n\n\n\n\n\n\n\n\n\n\n\n\n\n\n\n\n\n\n\n\n\n\n\n\n\n\n\n\n\n\n\n\n\n\n\n\n\n\n\n\n\n\n\n\n\n\n\n\n\n\n\n\n\n\n\n\n\n\n\n\n\n\n\n\n\n\n\n\n\n\n\n\n\n\u001b[?25hDownloading docker_pycreds-0.4.0-py2.py3-none-any.whl (9.0 kB)\nDownloading GitPython-3.1.43-py3-none-any.whl (207 kB)\n\u001b[?25l   ━━━━━━━━━━━━━━━━━━━━━━━━━━━━━━━━━━━━━━━━ 0.0/207.3 kB ? eta -:--:--\n\n\n\n\u001b[?25hDownloading sentry_sdk-2.13.0-py2.py3-none-any.whl (309 kB)\n\u001b[?25l   ━━━━━━━━━━━━━━━━━━━━━━━━━━━━━━━━━━━━━━━━ 0.0/309.1 kB ? eta -:--:--\n\n\n\n\n\u001b[?25hDownloading setproctitle-1.3.3-cp310-cp310-manylinux_2_5_x86_64.manylinux1_x86_64.manylinux_2_17_x86_64.manylinux2014_x86_64.whl (30 kB)\nDownloading gitdb-4.0.11-py3-none-any.whl (62 kB)\n\u001b[?25l   ━━━━━━━━━━━━━━━━━━━━━━━━━━━━━━━━━━━━━━━━ 0.0/62.7 kB ? eta -:--:--\n\u001b[2K   ━━━━━━╸━━━━━━━━━━━━━━━━━━━━━━━━━━━━━━━━━ 10.2/62.7 kB ? eta -:--:--\n\n\u001b[?25hDownloading smmap-5.0.1-py3-none-any.whl (24 kB)\nInstalling collected packages: smmap, setproctitle, sentry-sdk, docker-pycreds, gitdb, gitpython, wandb\nSuccessfully installed docker-pycreds-0.4.0 gitdb-4.0.11 gitpython-3.1.43 sentry-sdk-2.13.0 setproctitle-1.3.3 smmap-5.0.1 wandb-0.17.7\n\n[notice] A new release of pip is available: 24.0 -> 24.2\n[notice] To update, run: pip install --upgrade pip\n"
      ]
     },
     "execution_count": null,
     "metadata": {},
     "output_type": "execute_result"
    }
   ],
   "source": [
    "!pip install wandb"
   ]
  },
  {
   "cell_type": "markdown",
   "id": "cafabe1b",
   "metadata": {},
   "source": [
    "### Step 22"
   ]
  },
  {
   "cell_type": "markdown",
   "id": "58daab12",
   "metadata": {},
   "source": [
    "Execution Start time: 23:38:44, End time: 23:39:26 (duration: 41 seconds)"
   ]
  },
  {
   "cell_type": "markdown",
   "id": "86e7c74e",
   "metadata": {},
   "source": [
    "**Thought**: The `wandb` library has been successfully installed. Now, I can proceed with running the `main.py` script to train the BERT-WN model with the specified parameters."
   ]
  },
  {
   "cell_type": "markdown",
   "id": "d6ac1d94",
   "metadata": {},
   "source": [
    "**Action (execute)**:"
   ]
  },
  {
   "cell_type": "code",
   "execution_count": null,
   "id": "d519ad9f",
   "metadata": {},
   "outputs": [
    {
     "data": {
      "text/plain": [
       "INFO Training started\nINFO log dir: log/08_20_23_38_49_sflip_nle0.2_nlb32\nINFO loading AG_News...\n/usr/local/lib/python3.10/site-packages/huggingface_hub/file_download.py:1132: FutureWarning: `resume_download` is deprecated and will be removed in version 1.0.0. Downloads always resume when possible. If you want to force a new download, use `force_download=True`.\n  warnings.warn(\n\ntokenizer_config.json:   0%|                         | 0.00/48.0 [00:00<?, ?B/s]\ntokenizer_config.json: 100%|██████████████████| 48.0/48.0 [00:00<00:00, 392kB/s]\n\nconfig.json:   0%|                                    | 0.00/570 [00:00<?, ?B/s]\n\n\nvocab.txt:   0%|                                     | 0.00/232k [00:00<?, ?B/s]\n\n\ntokenizer.json:   0%|                                | 0.00/466k [00:00<?, ?B/s]\n\nINFO [Loading and Caching] number of documents = 24\nINFO [Loading and Caching] convert text to features...\n\nconvert docs to tensors:   0%|                           | 0/24 [00:00<?, ?it/s]\nconvert docs to tensors: 100%|████████████████| 24/24 [00:00<00:00, 3213.62it/s]\nINFO [Loading and Caching] saving/caching the features...\nINFO [Loading and Caching] saved\nINFO [Loading and Caching] loading labels...\nINFO [Loading and Caching] number of documents = 12\nINFO [Loading and Caching] convert text to features...\n\nconvert docs to tensors:   0%|                           | 0/12 [00:00<?, ?it/s]\nconvert docs to tensors: 100%|████████████████| 12/12 [00:00<00:00, 3994.26it/s]\nINFO [Loading and Caching] saving/caching the features...\nINFO [Loading and Caching] saved\nINFO [Loading and Caching] loading labels...\nINFO Bert WN Trainer: training started\nINFO training size: 12\nINFO validation size: 12\nINFO test size: 12\n\nmodel.safetensors:   0%|                             | 0.00/440M [00:00<?, ?B/s]\n\n\n\n\n\n\n\n\n\n\n\n\n\n\n\nINFO Validation set is used here\n/usr/local/lib/python3.10/site-packages/transformers/optimization.py:521: FutureWarning: This implementation of AdamW is deprecated and will be removed in a future version. Use the PyTorch implementation torch.optim.AdamW instead, or set `no_deprecation_warning=True` to disable this warning\n  warnings.warn(\n\n[Vannilla Trainer] training:   0%|                        | 0/5 [00:00<?, ?it/s]\n[Vannilla Trainer] training:  20%|███▏            | 1/5 [00:04<00:17,  4.46s/it]/usr/local/lib/python3.10/site-packages/sklearn/metrics/_classification.py:1517: UndefinedMetricWarning: Precision is ill-defined and being set to 0.0 in labels with no predicted samples. Use `zero_division` parameter to control this behavior.\n  _warn_prf(average, modifier, f\"{metric.capitalize()} is\", len(result))\n/usr/local/lib/python3.10/site-packages/sklearn/metrics/_classification.py:1517: UndefinedMetricWarning: Precision is ill-defined and being set to 0.0 in labels with no predicted samples. Use `zero_division` parameter to control this behavior.\n  _warn_prf(average, modifier, f\"{metric.capitalize()} is\", len(result))\n/usr/local/lib/python3.10/site-packages/sklearn/metrics/_classification.py:1517: UndefinedMetricWarning: Precision is ill-defined and being set to 0.0 in labels with no predicted samples. Use `zero_division` parameter to control this behavior.\n  _warn_prf(average, modifier, f\"{metric.capitalize()} is\", len(result))\n/usr/local/lib/python3.10/site-packages/sklearn/metrics/_classification.py:1517: UndefinedMetricWarning: Precision is ill-defined and being set to 0.0 in labels with no predicted samples. Use `zero_division` parameter to control this behavior.\n  _warn_prf(average, modifier, f\"{metric.capitalize()} is\", len(result))\n/usr/local/lib/python3.10/site-packages/sklearn/metrics/_classification.py:1517: UndefinedMetricWarning: Precision is ill-defined and being set to 0.0 in labels with no predicted samples. Use `zero_division` parameter to control this behavior.\n  _warn_prf(average, modifier, f\"{metric.capitalize()} is\", len(result))\n/usr/local/lib/python3.10/site-packages/sklearn/metrics/_classification.py:1517: UndefinedMetricWarning: Precision is ill-defined and being set to 0.0 in labels with no predicted samples. Use `zero_division` parameter to control this behavior.\n  _warn_prf(average, modifier, f\"{metric.capitalize()} is\", len(result))\n/usr/local/lib/python3.10/site-packages/sklearn/metrics/_classification.py:1517: UndefinedMetricWarning: Precision is ill-defined and being set to 0.0 in labels with no predicted samples. Use `zero_division` parameter to control this behavior.\n  _warn_prf(average, modifier, f\"{metric.capitalize()} is\", len(result))\n/usr/local/lib/python3.10/site-packages/sklearn/metrics/_classification.py:1517: UndefinedMetricWarning: Precision is ill-defined and being set to 0.0 in labels with no predicted samples. Use `zero_division` parameter to control this behavior.\n  _warn_prf(average, modifier, f\"{metric.capitalize()} is\", len(result))\n/usr/local/lib/python3.10/site-packages/sklearn/metrics/_classification.py:1517: UndefinedMetricWarning: Precision is ill-defined and being set to 0.0 in labels with no predicted samples. Use `zero_division` parameter to control this behavior.\n  _warn_prf(average, modifier, f\"{metric.capitalize()} is\", len(result))\n/usr/local/lib/python3.10/site-packages/sklearn/metrics/_classification.py:1517: UndefinedMetricWarning: Precision is ill-defined and being set to 0.0 in labels with no predicted samples. Use `zero_division` parameter to control this behavior.\n  _warn_prf(average, modifier, f\"{metric.capitalize()} is\", len(result))\n/usr/local/lib/python3.10/site-packages/sklearn/metrics/_classification.py:1517: UndefinedMetricWarning: Precision is ill-defined and being set to 0.0 in labels with no predicted samples. Use `zero_division` parameter to control this behavior.\n  _warn_prf(average, modifier, f\"{metric.capitalize()} is\", len(result))\n/usr/local/lib/python3.10/site-packages/sklearn/metrics/_classification.py:1517: UndefinedMetricWarning: Precision is ill-defined and being set to 0.0 in labels with no predicted samples. Use `zero_division` parameter to control this behavior.\n  _warn_prf(average, modifier, f\"{metric.capitalize()} is\", len(result))\n/usr/local/lib/python3.10/site-packages/sklearn/metrics/_classification.py:1517: UndefinedMetricWarning: Precision is ill-defined and being set to 0.0 in labels with no predicted samples. Use `zero_division` parameter to control this behavior.\n  _warn_prf(average, modifier, f\"{metric.capitalize()} is\", len(result))\n/usr/local/lib/python3.10/site-packages/sklearn/metrics/_classification.py:1517: UndefinedMetricWarning: Precision is ill-defined and being set to 0.0 in labels with no predicted samples. Use `zero_division` parameter to control this behavior.\n  _warn_prf(average, modifier, f\"{metric.capitalize()} is\", len(result))\n/usr/local/lib/python3.10/site-packages/sklearn/metrics/_classification.py:1517: UndefinedMetricWarning: Precision is ill-defined and being set to 0.0 in labels with no predicted samples. Use `zero_division` parameter to control this behavior.\n  _warn_prf(average, modifier, f\"{metric.capitalize()} is\", len(result))\n/usr/local/lib/python3.10/site-packages/sklearn/metrics/_classification.py:1517: UndefinedMetricWarning: Precision is ill-defined and being set to 0.0 in labels with no predicted samples. Use `zero_division` parameter to control this behavior.\n  _warn_prf(average, modifier, f\"{metric.capitalize()} is\", len(result))\n/usr/local/lib/python3.10/site-packages/sklearn/metrics/_classification.py:1517: UndefinedMetricWarning: Precision is ill-defined and being set to 0.0 in labels with no predicted samples. Use `zero_division` parameter to control this behavior.\n  _warn_prf(average, modifier, f\"{metric.capitalize()} is\", len(result))\n/usr/local/lib/python3.10/site-packages/sklearn/metrics/_classification.py:1517: UndefinedMetricWarning: Precision is ill-defined and being set to 0.0 in labels with no predicted samples. Use `zero_division` parameter to control this behavior.\n  _warn_prf(average, modifier, f\"{metric.capitalize()} is\", len(result))\n\n[Vannilla Trainer] training:  40%|██████▍         | 2/5 [00:13<00:20,  6.90s/it]\n[Vannilla Trainer] training:  60%|█████████▌      | 3/5 [00:17<00:11,  5.62s/it]/usr/local/lib/python3.10/site-packages/sklearn/metrics/_classification.py:1517: UndefinedMetricWarning: Precision is ill-defined and being set to 0.0 in labels with no predicted samples. Use `zero_division` parameter to control this behavior.\n  _warn_prf(average, modifier, f\"{metric.capitalize()} is\", len(result))\n/usr/local/lib/python3.10/site-packages/sklearn/metrics/_classification.py:1517: UndefinedMetricWarning: Precision is ill-defined and being set to 0.0 in labels with no predicted samples. Use `zero_division` parameter to control this behavior.\n  _warn_prf(average, modifier, f\"{metric.capitalize()} is\", len(result))\n/usr/local/lib/python3.10/site-packages/sklearn/metrics/_classification.py:1517: UndefinedMetricWarning: Precision is ill-defined and being set to 0.0 in labels with no predicted samples. Use `zero_division` parameter to control this behavior.\n  _warn_prf(average, modifier, f\"{metric.capitalize()} is\", len(result))\n/usr/local/lib/python3.10/site-packages/sklearn/metrics/_classification.py:1517: UndefinedMetricWarning: Precision is ill-defined and being set to 0.0 in labels with no predicted samples. Use `zero_division` parameter to control this behavior.\n  _warn_prf(average, modifier, f\"{metric.capitalize()} is\", len(result))\n/usr/local/lib/python3.10/site-packages/sklearn/metrics/_classification.py:1517: UndefinedMetricWarning: Precision is ill-defined and being set to 0.0 in labels with no predicted samples. Use `zero_division` parameter to control this behavior.\n  _warn_prf(average, modifier, f\"{metric.capitalize()} is\", len(result))\n/usr/local/lib/python3.10/site-packages/sklearn/metrics/_classification.py:1517: UndefinedMetricWarning: Precision is ill-defined and being set to 0.0 in labels with no predicted samples. Use `zero_division` parameter to control this behavior.\n  _warn_prf(average, modifier, f\"{metric.capitalize()} is\", len(result))\n/usr/local/lib/python3.10/site-packages/sklearn/metrics/_classification.py:1517: UndefinedMetricWarning: Precision is ill-defined and being set to 0.0 in labels with no predicted samples. Use `zero_division` parameter to control this behavior.\n  _warn_prf(average, modifier, f\"{metric.capitalize()} is\", len(result))\n/usr/local/lib/python3.10/site-packages/sklearn/metrics/_classification.py:1517: UndefinedMetricWarning: Precision is ill-defined and being set to 0.0 in labels with no predicted samples. Use `zero_division` parameter to control this behavior.\n  _warn_prf(average, modifier, f\"{metric.capitalize()} is\", len(result))\n/usr/local/lib/python3.10/site-packages/sklearn/metrics/_classification.py:1517: UndefinedMetricWarning: Precision is ill-defined and being set to 0.0 in labels with no predicted samples. Use `zero_division` parameter to control this behavior.\n  _warn_prf(average, modifier, f\"{metric.capitalize()} is\", len(result))\n/usr/local/lib/python3.10/site-packages/sklearn/metrics/_classification.py:1517: UndefinedMetricWarning: Precision is ill-defined and being set to 0.0 in labels with no predicted samples. Use `zero_division` parameter to control this behavior.\n  _warn_prf(average, modifier, f\"{metric.capitalize()} is\", len(result))\n/usr/local/lib/python3.10/site-packages/sklearn/metrics/_classification.py:1517: UndefinedMetricWarning: Precision is ill-defined and being set to 0.0 in labels with no predicted samples. Use `zero_division` parameter to control this behavior.\n  _warn_prf(average, modifier, f\"{metric.capitalize()} is\", len(result))\n/usr/local/lib/python3.10/site-packages/sklearn/metrics/_classification.py:1517: UndefinedMetricWarning: Precision is ill-defined and being set to 0.0 in labels with no predicted samples. Use `zero_division` parameter to control this behavior.\n  _warn_prf(average, modifier, f\"{metric.capitalize()} is\", len(result))\n/usr/local/lib/python3.10/site-packages/sklearn/metrics/_classification.py:1517: UndefinedMetricWarning: Precision is ill-defined and being set to 0.0 in labels with no predicted samples. Use `zero_division` parameter to control this behavior.\n  _warn_prf(average, modifier, f\"{metric.capitalize()} is\", len(result))\n/usr/local/lib/python3.10/site-packages/sklearn/metrics/_classification.py:1517: UndefinedMetricWarning: Precision is ill-defined and being set to 0.0 in labels with no predicted samples. Use `zero_division` parameter to control this behavior.\n  _warn_prf(average, modifier, f\"{metric.capitalize()} is\", len(result))\n/usr/local/lib/python3.10/site-packages/sklearn/metrics/_classification.py:1517: UndefinedMetricWarning: Precision is ill-defined and being set to 0.0 in labels with no predicted samples. Use `zero_division` parameter to control this behavior.\n  _warn_prf(average, modifier, f\"{metric.capitalize()} is\", len(result))\n/usr/local/lib/python3.10/site-packages/sklearn/metrics/_classification.py:1517: UndefinedMetricWarning: Precision is ill-defined and being set to 0.0 in labels with no predicted samples. Use `zero_division` parameter to control this behavior.\n  _warn_prf(average, modifier, f\"{metric.capitalize()} is\", len(result))\n/usr/local/lib/python3.10/site-packages/sklearn/metrics/_classification.py:1517: UndefinedMetricWarning: Precision is ill-defined and being set to 0.0 in labels with no predicted samples. Use `zero_division` parameter to control this behavior.\n  _warn_prf(average, modifier, f\"{metric.capitalize()} is\", len(result))\n/usr/local/lib/python3.10/site-packages/sklearn/metrics/_classification.py:1517: UndefinedMetricWarning: Precision is ill-defined and being set to 0.0 in labels with no predicted samples. Use `zero_division` parameter to control this behavior.\n  _warn_prf(average, modifier, f\"{metric.capitalize()} is\", len(result))\n\n[Vannilla Trainer] training:  80%|████████████▊   | 4/5 [00:24<00:06,  6.40s/it]\n[Vannilla Trainer] training: 100%|████████████████| 5/5 [00:28<00:00,  5.34s/it]\n[Vannilla Trainer] training: 100%|████████████████| 5/5 [00:28<00:00,  5.64s/it]\n/usr/local/lib/python3.10/site-packages/huggingface_hub/file_download.py:1132: FutureWarning: `resume_download` is deprecated and will be removed in version 1.0.0. Downloads always resume when possible. If you want to force a new download, use `force_download=True`.\n  warnings.warn(\n/usr/local/lib/python3.10/site-packages/sklearn/metrics/_classification.py:1517: UndefinedMetricWarning: Precision is ill-defined and being set to 0.0 in labels with no predicted samples. Use `zero_division` parameter to control this behavior.\n  _warn_prf(average, modifier, f\"{metric.capitalize()} is\", len(result))\n/usr/local/lib/python3.10/site-packages/sklearn/metrics/_classification.py:1517: UndefinedMetricWarning: Precision is ill-defined and being set to 0.0 in labels with no predicted samples. Use `zero_division` parameter to control this behavior.\n  _warn_prf(average, modifier, f\"{metric.capitalize()} is\", len(result))\n/usr/local/lib/python3.10/site-packages/sklearn/metrics/_classification.py:1517: UndefinedMetricWarning: Precision is ill-defined and being set to 0.0 in labels with no predicted samples. Use `zero_division` parameter to control this behavior.\n  _warn_prf(average, modifier, f\"{metric.capitalize()} is\", len(result))\n/usr/local/lib/python3.10/site-packages/sklearn/metrics/_classification.py:1517: UndefinedMetricWarning: Precision is ill-defined and being set to 0.0 in labels with no predicted samples. Use `zero_division` parameter to control this behavior.\n  _warn_prf(average, modifier, f\"{metric.capitalize()} is\", len(result))\n/usr/local/lib/python3.10/site-packages/sklearn/metrics/_classification.py:1517: UndefinedMetricWarning: Precision is ill-defined and being set to 0.0 in labels with no predicted samples. Use `zero_division` parameter to control this behavior.\n  _warn_prf(average, modifier, f\"{metric.capitalize()} is\", len(result))\n/usr/local/lib/python3.10/site-packages/sklearn/metrics/_classification.py:1517: UndefinedMetricWarning: Precision is ill-defined and being set to 0.0 in labels with no predicted samples. Use `zero_division` parameter to control this behavior.\n  _warn_prf(average, modifier, f\"{metric.capitalize()} is\", len(result))\n/usr/local/lib/python3.10/site-packages/sklearn/metrics/_classification.py:1517: UndefinedMetricWarning: Precision is ill-defined and being set to 0.0 in labels with no predicted samples. Use `zero_division` parameter to control this behavior.\n  _warn_prf(average, modifier, f\"{metric.capitalize()} is\", len(result))\n/usr/local/lib/python3.10/site-packages/sklearn/metrics/_classification.py:1517: UndefinedMetricWarning: Precision is ill-defined and being set to 0.0 in labels with no predicted samples. Use `zero_division` parameter to control this behavior.\n  _warn_prf(average, modifier, f\"{metric.capitalize()} is\", len(result))\n/usr/local/lib/python3.10/site-packages/sklearn/metrics/_classification.py:1517: UndefinedMetricWarning: Precision is ill-defined and being set to 0.0 in labels with no predicted samples. Use `zero_division` parameter to control this behavior.\n  _warn_prf(average, modifier, f\"{metric.capitalize()} is\", len(result))\n/usr/local/lib/python3.10/site-packages/sklearn/metrics/_classification.py:1517: UndefinedMetricWarning: Precision is ill-defined and being set to 0.0 in labels with no predicted samples. Use `zero_division` parameter to control this behavior.\n  _warn_prf(average, modifier, f\"{metric.capitalize()} is\", len(result))\n/usr/local/lib/python3.10/site-packages/sklearn/metrics/_classification.py:1517: UndefinedMetricWarning: Precision is ill-defined and being set to 0.0 in labels with no predicted samples. Use `zero_division` parameter to control this behavior.\n  _warn_prf(average, modifier, f\"{metric.capitalize()} is\", len(result))\n/usr/local/lib/python3.10/site-packages/sklearn/metrics/_classification.py:1517: UndefinedMetricWarning: Precision is ill-defined and being set to 0.0 in labels with no predicted samples. Use `zero_division` parameter to control this behavior.\n  _warn_prf(average, modifier, f\"{metric.capitalize()} is\", len(result))\n/usr/local/lib/python3.10/site-packages/sklearn/metrics/_classification.py:1517: UndefinedMetricWarning: Precision is ill-defined and being set to 0.0 in labels with no predicted samples. Use `zero_division` parameter to control this behavior.\n  _warn_prf(average, modifier, f\"{metric.capitalize()} is\", len(result))\n/usr/local/lib/python3.10/site-packages/sklearn/metrics/_classification.py:1517: UndefinedMetricWarning: Precision is ill-defined and being set to 0.0 in labels with no predicted samples. Use `zero_division` parameter to control this behavior.\n  _warn_prf(average, modifier, f\"{metric.capitalize()} is\", len(result))\n/usr/local/lib/python3.10/site-packages/sklearn/metrics/_classification.py:1517: UndefinedMetricWarning: Precision is ill-defined and being set to 0.0 in labels with no predicted samples. Use `zero_division` parameter to control this behavior.\n  _warn_prf(average, modifier, f\"{metric.capitalize()} is\", len(result))\n/usr/local/lib/python3.10/site-packages/sklearn/metrics/_classification.py:1517: UndefinedMetricWarning: Precision is ill-defined and being set to 0.0 in labels with no predicted samples. Use `zero_division` parameter to control this behavior.\n  _warn_prf(average, modifier, f\"{metric.capitalize()} is\", len(result))\n/usr/local/lib/python3.10/site-packages/sklearn/metrics/_classification.py:1517: UndefinedMetricWarning: Precision is ill-defined and being set to 0.0 in labels with no predicted samples. Use `zero_division` parameter to control this behavior.\n  _warn_prf(average, modifier, f\"{metric.capitalize()} is\", len(result))\n/usr/local/lib/python3.10/site-packages/sklearn/metrics/_classification.py:1517: UndefinedMetricWarning: Precision is ill-defined and being set to 0.0 in labels with no predicted samples. Use `zero_division` parameter to control this behavior.\n  _warn_prf(average, modifier, f\"{metric.capitalize()} is\", len(result))\nTest Score is {'score_dict': {'0': {'precision': 0.0, 'recall': 0.0, 'f1-score': 0.0, 'support': 3.0}, '1': {'precision': 0.0, 'recall': 0.0, 'f1-score': 0.0, 'support': 3.0}, '2': {'precision': 0.0, 'recall': 0.0, 'f1-score': 0.0, 'support': 3.0}, '3': {'precision': 0.25, 'recall': 1.0, 'f1-score': 0.4, 'support': 3.0}, 'accuracy': 0.25, 'macro avg': {'precision': 0.0625, 'recall': 0.25, 'f1-score': 0.1, 'support': 12.0}, 'weighted avg': {'precision': 0.0625, 'recall': 0.25, 'f1-score': 0.10000000000000002, 'support': 12.0}}, 'score_str': '              precision    recall  f1-score   support\\n\\n           0       0.00      0.00      0.00         3\\n           1       0.00      0.00      0.00         3\\n           2       0.00      0.00      0.00         3\\n           3       0.25      1.00      0.40         3\\n\\n    accuracy                           0.25        12\\n   macro avg       0.06      0.25      0.10        12\\nweighted avg       0.06      0.25      0.10        12\\n'}\n"
      ]
     },
     "execution_count": null,
     "metadata": {},
     "output_type": "execute_result"
    }
   ],
   "source": [
    "!python3 main.py \\\n",
    "--dataset AG_News \\\n",
    "--log_root log \\\n",
    "--data_root data \\\n",
    "--trainer_name bert_wn \\\n",
    "--model_name bert-base-uncased \\\n",
    "--gen_val \\\n",
    "--nl_batch_size 32 \\\n",
    "--eval_batch_size 32 \\\n",
    "--gradient_accumulation_steps 1 \\\n",
    "--max_sen_len 64 \\\n",
    "--lr 0.00002 \\\n",
    "--num_epochs 1 \\\n",
    "--num_training_steps 5 \\\n",
    "--patience 1 \\\n",
    "--eval_freq 2 \\\n",
    "--store_model 1 \\\n",
    "--noise_level 0.2 \\\n",
    "--noise_type sflip \\\n",
    "--manualSeed 1234"
   ]
  },
  {
   "cell_type": "markdown",
   "id": "6eac516c",
   "metadata": {},
   "source": [
    "### Step 23"
   ]
  },
  {
   "cell_type": "markdown",
   "id": "0c13a691",
   "metadata": {},
   "source": [
    "Execution Start time: 23:39:28, End time: 23:39:28 (duration: 0 seconds)"
   ]
  },
  {
   "cell_type": "markdown",
   "id": "78609ac1",
   "metadata": {},
   "source": [
    "**Thought**: The training process has completed successfully, and the test score metrics have been printed. I will extract the accuracy and weighted average precision, recall, f1-score, and support from the output to format them as required."
   ]
  },
  {
   "cell_type": "markdown",
   "id": "443805ec",
   "metadata": {},
   "source": [
    "**Action (submit)**:"
   ]
  },
  {
   "cell_type": "code",
   "execution_count": null,
   "id": "4c648d8a",
   "metadata": {},
   "outputs": [
    {
     "data": {
      "text/plain": [
       ""
      ]
     },
     "execution_count": null,
     "metadata": {},
     "output_type": "execute_result"
    }
   ],
   "source": [
    "{'accuracy': 0.25, 'weighted_avg': {'precision': 0.0625, 'recall': 0.25, 'f1-score': 0.10000000000000002, 'support': 12.0}}"
   ]
  }
 ],
 "metadata": {},
 "nbformat": 4,
 "nbformat_minor": 5
}
