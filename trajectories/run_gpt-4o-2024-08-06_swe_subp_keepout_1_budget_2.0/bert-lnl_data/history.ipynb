{
 "cells": [
  {
   "cell_type": "markdown",
   "id": "06666369",
   "metadata": {},
   "source": [
    "### System Prompt\n",
    "<details>\n",
    "SETTING: You are an autonomous programmer, and you're working directly in the command line with a special Jupyter notebook interface.\n",
    "\n",
    "The special Jupyter notebook interface consists of a file editor that shows you 100 lines of a file at a time.\n",
    "You can execute commands in the notebook using:\n",
    "\n",
    "1. Bash commands: Commands starting with !.\n",
    "2. Python commands: Standard Python code.\n",
    "3. Magic commands: Commands starting with %, e.g., %cd <path>.\n",
    "\n",
    "Additionally, you can also use the following commands to help you navigate and edit files.\n",
    "\n",
    "COMMANDS:\n",
    "\n",
    "open:\n",
    "  docstring: opens the file at the given path in the editor. If line_number is provided, the window will be move to include that line\n",
    "  signature: open <path> [<line_number>]\n",
    "  arguments:\n",
    "    - path (string) [required]: the path to the file to open\n",
    "    - line_number (integer) [optional]: the line number to move the window to (if not provided, the window will start at the top of the file)\n",
    "\n",
    "create:\n",
    "  docstring: creates and opens a new file with the given name\n",
    "  signature: create <filename>\n",
    "  arguments:\n",
    "    - filename (string) [required]: the name of the file to create\n",
    "\n",
    "goto:\n",
    "  docstring: moves the window to show <line_number>\n",
    "  signature: goto <line_number>\n",
    "  arguments:\n",
    "    - line_number (integer) [required]: the line number to move the window to\n",
    "\n",
    "scroll_down:\n",
    "  docstring: moves the window down {WINDOW} lines\n",
    "  signature: scroll_down\n",
    "\n",
    "scroll_up:\n",
    "  docstring: moves the window down {WINDOW} lines\n",
    "  signature: scroll_up\n",
    "\n",
    "submit:\n",
    "  docstring: submits your final answer\n",
    "  signature: submit <answer>\n",
    "  arguments:\n",
    "    - answer (string) [required]: the answer to be submitted\n",
    "\n",
    "search_dir:\n",
    "  docstring: searches for search_term in all files in dir_path. If dir_path is not provided, searches in the current directory\n",
    "  signature: search_dir <search_term> [<dir_path>]\n",
    "  arguments:\n",
    "    - search_term (string) [required]: the term to search for\n",
    "    - dir_path (string) [optional]: the directory to search in (if not provided, searches in the current directory)\n",
    "\n",
    "search_file:\n",
    "  docstring: searches for search_term in file. If file is not provided, searches in the current open file\n",
    "  signature: search_file <search_term> [<file>]\n",
    "  arguments:\n",
    "    - search_term (string) [required]: the term to search for\n",
    "    - file (string) [optional]: the file to search in (if not provided, searches in the current open file)\n",
    "\n",
    "find_file:\n",
    "  docstring: finds all files with the given name in dir_path. If dir_path is not provided, searches in the current directory\n",
    "  signature: find_file <file_name> [<dir_path>]\n",
    "  arguments:\n",
    "    - file_name (string) [required]: the name of the file to search for\n",
    "    - dir_path (string) [optional]: the directory to search in (if not provided, searches in the current directory)\n",
    "\n",
    "edit:\n",
    "  docstring: replaces lines <start_line> through <end_line> (inclusive) with the given text in the open file. The replacement text is terminated by a line with only end_of_edit on it. All of the <replacement text> will be entered, so make sure your indentation is formatted properly. Python files will be checked for syntax errors after the edit. If the system detects a syntax error, the edit will not be executed. Simply try to edit the file again, but make sure to read the error message and modify the edit command you issue accordingly. Issuing the same command a second time will just lead to the same error message again.\n",
    "  signature: edit <start_line>:<end_line>\n",
    "<replacement_text>\n",
    "end_of_edit\n",
    "  arguments:\n",
    "    - start_line (integer) [required]: the line number to start the edit at\n",
    "    - end_line (integer) [required]: the line number to end the edit at (inclusive)\n",
    "    - replacement_text (string) [required]: the text to replace the current selection with\n",
    "\n",
    "\n",
    "\n",
    "Please note that THE EDIT COMMAND REQUIRES PROPER INDENTATION. \n",
    "If you'd like to add the line '        print(x)' you must fully write that out, with all those spaces before the code! Indentation is important and code that is not indented correctly will fail and require fixing before it can be run.\n",
    "\n",
    "RESPONSE FORMAT:\n",
    "Your shell prompt is formatted as follows:\n",
    "(Open file: <path>)\n",
    "(Current directory: <cwd>)\n",
    "In [ ]\n",
    "\n",
    "You need to format your output using two fields: discussion and command.\n",
    "Your output should always include _one_ discussion and _one_ command field EXACTLY as in the following example:\n",
    "DISCUSSION\n",
    "First I'll start by using ls to see what files are in the current directory. Then maybe we can look at some relevant files to see what they look like.\n",
    "```\n",
    "!ls -a\n",
    "```\n",
    "\n",
    "You should only include a *SINGLE* command in the command section and then wait for a response from the shell before continuing with more discussion and commands. Everything you include in the DISCUSSION section will be saved for future reference.\n",
    "If you'd like to issue two commands at once, PLEASE DO NOT DO THAT! Please instead first submit just the first command, and then after receiving a response you'll be able to issue the second command. \n",
    "You're free to use any other bash commands you want (e.g. find, grep, cat, ls, cd) in addition to the special commands listed above.\n",
    "</details>\n"
   ]
  },
  {
   "cell_type": "markdown",
   "id": "b5d4acaf",
   "metadata": {},
   "source": [
    "### Query\n",
    "Train BERT-WN on the AG-News dataset with 20% single-flip label noise using the `main.py` script. Evaluate the model and report the resulting metrics.\n",
    "\n",
    "The repository does not provide the dataset. Use huggingface datasets to get it (ag_news) Report the accuracy and weighted average precision, recall, f1-score, and support, as a json structured as follows: {\"accuracy\": 0.0, \"weighted_avg\": {\"precision\": 0.0, \"recall\": 0.0, \"f1-score\": 0.0, \"support\": 0}} (replace 0.0 with the actual values).\n",
    "\n",
    "Additional instructions:\n",
    "1. Run for only 5 training steps. All other hyper-parameters should be taken from the readme example.\n",
    "2. Load these specific instances indices: from the train split [1,2,3,4,5,6,100,101,102,103,104,105,451,452,453,454,455,456,501,502,503,504,505,506], test split: [1,2,3,101,103,452,455,501,502,503,504,505], validation split: [0,1,2,6,7,8,12,13,14,18,19,20]\n",
    "\n",
    "Git repository: https://github.com/uds-lsv/BERT-LNL\n",
    "\n",
    "I have already executed some of the required steps. However, I did not yet make any required changes to load the request dataset. Your goal is to successfully load the dataset and complete the remaining steps to achieve the user request. You can re-run any of the pre-executed steps, and finally should successfully run\n",
    "```\n",
    "!python3 main.py \\\n",
    "--dataset AG_News \\\n",
    "--log_root log \\\n",
    "--data_root data \\\n",
    "--trainer_name bert_wn \\\n",
    "--model_name bert-base-uncased \\\n",
    "--gen_val \\\n",
    "--nl_batch_size 32 \\\n",
    "--eval_batch_size 32 \\\n",
    "--gradient_accumulation_steps 1 \\\n",
    "--max_sen_len 64 \\\n",
    "--lr 0.00002 \\\n",
    "--num_epochs 1 \\\n",
    "--num_training_steps 5\\\n",
    "--patience 1 \\\n",
    "--eval_freq 2 \\\n",
    "--store_model 1 \\\n",
    "--noise_level 0.2 \\\n",
    "--noise_type sflip \\\n",
    "--manualSeed 1234\n",
    "```\n",
    "to submit the answer."
   ]
  },
  {
   "cell_type": "markdown",
   "id": "728ff83c",
   "metadata": {},
   "source": [
    "### Step 1"
   ]
  },
  {
   "cell_type": "markdown",
   "id": "b5084f3f",
   "metadata": {},
   "source": [
    "**Thought**: [pre-executed by user]"
   ]
  },
  {
   "cell_type": "markdown",
   "id": "413feeb4",
   "metadata": {},
   "source": [
    "**Action (None)**:"
   ]
  },
  {
   "cell_type": "code",
   "execution_count": null,
   "id": "350bd664",
   "metadata": {},
   "outputs": [
    {
     "data": {
      "text/plain": [
       ""
      ]
     },
     "execution_count": null,
     "metadata": {},
     "output_type": "execute_result"
    }
   ],
   "source": [
    "# ## Installing package, and fetching repo"
   ]
  },
  {
   "cell_type": "markdown",
   "id": "bba3935d",
   "metadata": {},
   "source": [
    "### Step 2"
   ]
  },
  {
   "cell_type": "markdown",
   "id": "a8adb8b0",
   "metadata": {},
   "source": [
    "**Thought**: [pre-executed by user]"
   ]
  },
  {
   "cell_type": "markdown",
   "id": "7718862b",
   "metadata": {},
   "source": [
    "**Action (None)**:"
   ]
  },
  {
   "cell_type": "code",
   "execution_count": null,
   "id": "be8061ea",
   "metadata": {},
   "outputs": [
    {
     "data": {
      "text/plain": [
       "Cloning into 'BERT-LNL'...\r\nremote: Enumerating objects: 24, done.\u001b[K\r\nremote: Counting objects:   4% (1/24)\u001b[K\rremote: Counting objects:   8% (2/24)\u001b[K\rremote: Counting objects:  12% (3/24)\u001b[K\rremote: Counting objects:  16% (4/24)\u001b[K\rremote: Counting objects:  20% (5/24)\u001b[K\rremote: Counting objects:  25% (6/24)\u001b[K\rremote: Counting objects:  29% (7/24)\u001b[K\rremote: Counting objects:  33% (8/24)\u001b[K\rremote: Counting objects:  37% (9/24)\u001b[K\rremote: Counting objects:  41% (10/24)\u001b[K\rremote: Counting objects:  45% (11/24)\u001b[K\rremote: Counting objects:  50% (12/24)\u001b[K\rremote: Counting objects:  54% (13/24)\u001b[K\rremote: Counting objects:  58% (14/24)\u001b[K\rremote: Counting objects:  62% (15/24)\u001b[K\rremote: Counting objects:  66% (16/24)\u001b[K\rremote: Counting objects:  70% (17/24)\u001b[K\rremote: Counting objects:  75% (18/24)\u001b[K\rremote: Counting objects:  79% (19/24)\u001b[K\rremote: Counting objects:  83% (20/24)\u001b[K\rremote: Counting objects:  87% (21/24)\u001b[K\rremote: Counting objects:  91% (22/24)\u001b[K\rremote: Counting objects:  95% (23/24)\u001b[K\rremote: Counting objects: 100% (24/24)\u001b[K\rremote: Counting objects: 100% (24/24), done.\u001b[K\r\nremote: Compressing objects:   5% (1/20)\u001b[K\rremote: Compressing objects:  10% (2/20)\u001b[K\rremote: Compressing objects:  15% (3/20)\u001b[K\rremote: Compressing objects:  20% (4/20)\u001b[K\rremote: Compressing objects:  25% (5/20)\u001b[K\rremote: Compressing objects:  30% (6/20)\u001b[K\rremote: Compressing objects:  35% (7/20)\u001b[K\rremote: Compressing objects:  40% (8/20)\u001b[K\rremote: Compressing objects:  45% (9/20)\u001b[K\rremote: Compressing objects:  50% (10/20)\u001b[K\rremote: Compressing objects:  55% (11/20)\u001b[K\rremote: Compressing objects:  60% (12/20)\u001b[K\rremote: Compressing objects:  65% (13/20)\u001b[K\rremote: Compressing objects:  70% (14/20)\u001b[K\rremote: Compressing objects:  75% (15/20)\u001b[K\rremote: Compressing objects:  80% (16/20)\u001b[K\rremote: Compressing objects:  85% (17/20)\u001b[K\rremote: Compressing objects:  90% (18/20)\u001b[K\rremote: Compressing objects:  95% (19/20)\u001b[K\rremote: Compressing objects: 100% (20/20)\u001b[K\rremote: Compressing objects: 100% (20/20), done.\u001b[K\r\nremote: Total 24 (delta 4), reused 20 (delta 4), pack-reused 0 (from 0)\u001b[K\r\nReceiving objects:   4% (1/24)\rReceiving objects:   8% (2/24)\rReceiving objects:  12% (3/24)\rReceiving objects:  16% (4/24)\rReceiving objects:  20% (5/24)\rReceiving objects:  25% (6/24)\rReceiving objects:  29% (7/24)\rReceiving objects:  33% (8/24)\rReceiving objects:  37% (9/24)\rReceiving objects:  41% (10/24)\rReceiving objects:  45% (11/24)\rReceiving objects:  50% (12/24)\rReceiving objects:  54% (13/24)\rReceiving objects:  58% (14/24)\rReceiving objects:  62% (15/24)\rReceiving objects:  66% (16/24)\rReceiving objects:  70% (17/24)\rReceiving objects:  75% (18/24)\rReceiving objects:  79% (19/24)\rReceiving objects:  83% (20/24)\rReceiving objects:  87% (21/24)\rReceiving objects:  91% (22/24)\rReceiving objects:  95% (23/24)\rReceiving objects: 100% (24/24)\rReceiving objects: 100% (24/24), 22.55 KiB | 11.28 MiB/s, done.\r\nResolving deltas:   0% (0/4)\rResolving deltas:  25% (1/4)\rResolving deltas:  50% (2/4)\rResolving deltas:  75% (3/4)\rResolving deltas: 100% (4/4)\rResolving deltas: 100% (4/4), done.\r\n"
      ]
     },
     "execution_count": null,
     "metadata": {},
     "output_type": "execute_result"
    }
   ],
   "source": [
    "!git clone https://github.com/uds-lsv/BERT-LNL.git"
   ]
  },
  {
   "cell_type": "markdown",
   "id": "52b0abe1",
   "metadata": {},
   "source": [
    "### Step 3"
   ]
  },
  {
   "cell_type": "markdown",
   "id": "56e099a1",
   "metadata": {},
   "source": [
    "**Thought**: [pre-executed by user]"
   ]
  },
  {
   "cell_type": "markdown",
   "id": "85b9e4f3",
   "metadata": {},
   "source": [
    "**Action (None)**:"
   ]
  },
  {
   "cell_type": "code",
   "execution_count": null,
   "id": "675d78d5",
   "metadata": {},
   "outputs": [
    {
     "data": {
      "text/plain": [
       "Collecting datasets\r\n  Downloading datasets-2.21.0-py3-none-any.whl.metadata (21 kB)\r\nRequirement already satisfied: filelock in /usr/local/lib/python3.10/site-packages (from datasets) (3.15.1)\r\nRequirement already satisfied: numpy>=1.17 in /usr/local/lib/python3.10/site-packages (from datasets) (1.25.2)\r\nCollecting pyarrow>=15.0.0 (from datasets)\r\n  Downloading pyarrow-17.0.0-cp310-cp310-manylinux_2_28_x86_64.whl.metadata (3.3 kB)\r\nCollecting dill<0.3.9,>=0.3.0 (from datasets)\r\n  Downloading dill-0.3.8-py3-none-any.whl.metadata (10 kB)\r\nRequirement already satisfied: pandas in /usr/local/lib/python3.10/site-packages (from datasets) (2.0.3)\r\nCollecting requests>=2.32.2 (from datasets)\r\n  Downloading requests-2.32.3-py3-none-any.whl.metadata (4.6 kB)\r\nRequirement already satisfied: tqdm>=4.66.3 in /usr/local/lib/python3.10/site-packages (from datasets) (4.66.4)\r\nCollecting xxhash (from datasets)\r\n  Downloading xxhash-3.5.0-cp310-cp310-manylinux_2_17_x86_64.manylinux2014_x86_64.whl.metadata (12 kB)\r\nCollecting multiprocess (from datasets)\r\n  Downloading multiprocess-0.70.16-py310-none-any.whl.metadata (7.2 kB)\r\nRequirement already satisfied: fsspec<=2024.6.1,>=2023.1.0 in /usr/local/lib/python3.10/site-packages (from fsspec[http]<=2024.6.1,>=2023.1.0->datasets) (2023.6.0)\r\nRequirement already satisfied: aiohttp in /usr/local/lib/python3.10/site-packages (from datasets) (3.8.3)\r\nRequirement already satisfied: huggingface-hub>=0.21.2 in /usr/local/lib/python3.10/site-packages (from datasets) (0.23.3)\r\nRequirement already satisfied: packaging in /usr/local/lib/python3.10/site-packages (from datasets) (24.1)\r\nRequirement already satisfied: pyyaml>=5.1 in /usr/local/lib/python3.10/site-packages (from datasets) (6.0.1)\r\nRequirement already satisfied: attrs>=17.3.0 in /usr/local/lib/python3.10/site-packages (from aiohttp->datasets) (23.2.0)\r\nRequirement already satisfied: charset-normalizer<3.0,>=2.0 in /usr/local/lib/python3.10/site-packages (from aiohttp->datasets) (2.1.1)\r\nRequirement already satisfied: multidict<7.0,>=4.5 in /usr/local/lib/python3.10/site-packages (from aiohttp->datasets) (6.0.5)\r\nRequirement already satisfied: async-timeout<5.0,>=4.0.0a3 in /usr/local/lib/python3.10/site-packages (from aiohttp->datasets) (4.0.3)\r\nRequirement already satisfied: yarl<2.0,>=1.0 in /usr/local/lib/python3.10/site-packages (from aiohttp->datasets) (1.9.4)\r\nRequirement already satisfied: frozenlist>=1.1.1 in /usr/local/lib/python3.10/site-packages (from aiohttp->datasets) (1.4.1)\r\nRequirement already satisfied: aiosignal>=1.1.2 in /usr/local/lib/python3.10/site-packages (from aiohttp->datasets) (1.3.1)\r\nRequirement already satisfied: typing-extensions>=3.7.4.3 in /usr/local/lib/python3.10/site-packages (from huggingface-hub>=0.21.2->datasets) (4.12.2)\r\nRequirement already satisfied: idna<4,>=2.5 in /usr/local/lib/python3.10/site-packages (from requests>=2.32.2->datasets) (3.7)\r\nRequirement already satisfied: urllib3<3,>=1.21.1 in /usr/local/lib/python3.10/site-packages (from requests>=2.32.2->datasets) (2.0.7)\r\nRequirement already satisfied: certifi>=2017.4.17 in /usr/local/lib/python3.10/site-packages (from requests>=2.32.2->datasets) (2024.6.2)\r\nRequirement already satisfied: python-dateutil>=2.8.2 in /usr/local/lib/python3.10/site-packages (from pandas->datasets) (2.9.0.post0)\r\nRequirement already satisfied: pytz>=2020.1 in /usr/local/lib/python3.10/site-packages (from pandas->datasets) (2024.1)\r\nRequirement already satisfied: tzdata>=2022.1 in /usr/local/lib/python3.10/site-packages (from pandas->datasets) (2024.1)\r\nRequirement already satisfied: six>=1.5 in /usr/local/lib/python3.10/site-packages (from python-dateutil>=2.8.2->pandas->datasets) (1.16.0)\r\nDownloading datasets-2.21.0-py3-none-any.whl (527 kB)\r\n\u001b[?25l   \u001b[90m━━━━━━━━━━━━━━━━━━━━━━━━━━━━━━━━━━━━━━━━\u001b[0m \u001b[32m0.0/527.3 kB\u001b[0m \u001b[31m?\u001b[0m eta \u001b[36m-:--:--\u001b[0m\r\u001b[2K   \u001b[90m━━━━━━━━━━━━━━━━━━━━━━━━━━━━━━━━━━━━━━━\u001b[0m \u001b[32m527.3/527.3 kB\u001b[0m \u001b[31m219.1 MB/s\u001b[0m eta \u001b[36m0:00:00\u001b[0m\r\n\u001b[?25hDownloading dill-0.3.8-py3-none-any.whl (116 kB)\r\n\u001b[?25l   \u001b[90m━━━━━━━━━━━━━━━━━━━━━━━━━━━━━━━━━━━━━━━━\u001b[0m \u001b[32m0.0/116.3 kB\u001b[0m \u001b[31m?\u001b[0m eta \u001b[36m-:--:--\u001b[0m\r\u001b[2K   \u001b[90m━━━━━━━━━━━━━━━━━━━━━━━━━━━━━━━━━━━━━━━\u001b[0m \u001b[32m116.3/116.3 kB\u001b[0m \u001b[31m276.6 MB/s\u001b[0m eta \u001b[36m0:00:00\u001b[0m\r\n\u001b[?25hDownloading pyarrow-17.0.0-cp310-cp310-manylinux_2_28_x86_64.whl (39.9 MB)\r\n\u001b[?25l   \u001b[90m━━━━━━━━━━━━━━━━━━━━━━━━━━━━━━━━━━━━━━━━\u001b[0m \u001b[32m0.0/39.9 MB\u001b[0m \u001b[31m?\u001b[0m eta \u001b[36m-:--:--\u001b[0m\r\u001b[2K   \u001b[91m━━━━━━━━━\u001b[0m\u001b[91m╸\u001b[0m\u001b[90m━━━━━━━━━━━━━━━━━━━━━━━━━━━━━━\u001b[0m \u001b[32m9.9/39.9 MB\u001b[0m \u001b[31m295.6 MB/s\u001b[0m eta \u001b[36m0:00:01\u001b[0m\r\u001b[2K   \u001b[91m━━━━━━━━━━━━━━━━━━━━\u001b[0m\u001b[91m╸\u001b[0m\u001b[90m━━━━━━━━━━━━━━━━━━━\u001b[0m \u001b[32m20.6/39.9 MB\u001b[0m \u001b[31m323.5 MB/s\u001b[0m eta \u001b[36m0:00:01\u001b[0m\r\u001b[2K   \u001b[91m━━━━━━━━━━━━━━━━━━━━━━━━━━━━━━━\u001b[0m\u001b[90m╺\u001b[0m\u001b[90m━━━━━━━━\u001b[0m \u001b[32m30.9/39.9 MB\u001b[0m \u001b[31m306.9 MB/s\u001b[0m eta \u001b[36m0:00:01\u001b[0m\r\u001b[2K   \u001b[90m━━━━━━━━━━━━━━━━━━━━━━━━━━━━━━━━━━━━━━━━\u001b[0m \u001b[32m39.9/39.9 MB\u001b[0m \u001b[31m295.2 MB/s\u001b[0m eta \u001b[36m0:00:00\u001b[0m\r\n\u001b[?25hDownloading requests-2.32.3-py3-none-any.whl (64 kB)\r\n\u001b[?25l   \u001b[90m━━━━━━━━━━━━━━━━━━━━━━━━━━━━━━━━━━━━━━━━\u001b[0m \u001b[32m0.0/64.9 kB\u001b[0m \u001b[31m?\u001b[0m eta \u001b[36m-:--:--\u001b[0m\r\u001b[2K   \u001b[90m━━━━━━━━━━━━━━━━━━━━━━━━━━━━━━━━━━━━━━━━\u001b[0m \u001b[32m64.9/64.9 kB\u001b[0m \u001b[31m238.6 MB/s\u001b[0m eta \u001b[36m0:00:00\u001b[0m\r\n\u001b[?25hDownloading multiprocess-0.70.16-py310-none-any.whl (134 kB)\r\n\u001b[?25l   \u001b[90m━━━━━━━━━━━━━━━━━━━━━━━━━━━━━━━━━━━━━━━━\u001b[0m \u001b[32m0.0/134.8 kB\u001b[0m \u001b[31m?\u001b[0m eta \u001b[36m-:--:--\u001b[0m\r\u001b[2K   \u001b[90m━━━━━━━━━━━━━━━━━━━━━━━━━━━━━━━━━━━━━━━\u001b[0m \u001b[32m134.8/134.8 kB\u001b[0m \u001b[31m274.5 MB/s\u001b[0m eta \u001b[36m0:00:00\u001b[0m\r\n\u001b[?25hDownloading xxhash-3.5.0-cp310-cp310-manylinux_2_17_x86_64.manylinux2014_x86_64.whl (194 kB)\r\n\u001b[?25l   \u001b[90m━━━━━━━━━━━━━━━━━━━━━━━━━━━━━━━━━━━━━━━━\u001b[0m \u001b[32m0.0/194.1 kB\u001b[0m \u001b[31m?\u001b[0m eta \u001b[36m-:--:--\u001b[0m\r\u001b[2K   \u001b[90m━━━━━━━━━━━━━━━━━━━━━━━━━━━━━━━━━━━━━━━\u001b[0m \u001b[32m194.1/194.1 kB\u001b[0m \u001b[31m282.4 MB/s\u001b[0m eta \u001b[36m0:00:00\u001b[0m\r\n\u001b[?25hInstalling collected packages: xxhash, requests, pyarrow, dill, multiprocess, datasets\r\n  Attempting uninstall: requests\r\n    Found existing installation: requests 2.31.0\r\n    Uninstalling requests-2.31.0:\r\n      Successfully uninstalled requests-2.31.0\r\nSuccessfully installed datasets-2.21.0 dill-0.3.8 multiprocess-0.70.16 pyarrow-17.0.0 requests-2.32.3 xxhash-3.5.0\r\n\r\n\u001b[1m[\u001b[0m\u001b[34;49mnotice\u001b[0m\u001b[1;39;49m]\u001b[0m\u001b[39;49m A new release of pip is available: \u001b[0m\u001b[31;49m24.0\u001b[0m\u001b[39;49m -> \u001b[0m\u001b[32;49m24.2\u001b[0m\r\n\u001b[1m[\u001b[0m\u001b[34;49mnotice\u001b[0m\u001b[1;39;49m]\u001b[0m\u001b[39;49m To update, run: \u001b[0m\u001b[32;49mpip install --upgrade pip\u001b[0m\r\nCollecting wandb\r\n  Downloading wandb-0.17.7-py3-none-manylinux_2_17_x86_64.manylinux2014_x86_64.whl.metadata (10 kB)\r\nRequirement already satisfied: click!=8.0.0,>=7.1 in /usr/local/lib/python3.10/site-packages (from wandb) (8.1.7)\r\nCollecting docker-pycreds>=0.4.0 (from wandb)\r\n  Downloading docker_pycreds-0.4.0-py2.py3-none-any.whl.metadata (1.8 kB)\r\nCollecting gitpython!=3.1.29,>=1.0.0 (from wandb)\r\n  Downloading GitPython-3.1.43-py3-none-any.whl.metadata (13 kB)\r\nRequirement already satisfied: platformdirs in /usr/local/lib/python3.10/site-packages (from wandb) (4.2.2)\r\nRequirement already satisfied: protobuf!=4.21.0,<6,>=3.19.0 in /usr/local/lib/python3.10/site-packages (from wandb) (5.27.1)\r\nRequirement already satisfied: psutil>=5.0.0 in /usr/local/lib/python3.10/site-packages (from wandb) (5.9.8)\r\nRequirement already satisfied: pyyaml in /usr/local/lib/python3.10/site-packages (from wandb) (6.0.1)\r\nRequirement already satisfied: requests<3,>=2.0.0 in /usr/local/lib/python3.10/site-packages (from wandb) (2.32.3)\r\nCollecting sentry-sdk>=1.0.0 (from wandb)\r\n  Downloading sentry_sdk-2.13.0-py2.py3-none-any.whl.metadata (9.7 kB)\r\nCollecting setproctitle (from wandb)\r\n  Downloading setproctitle-1.3.3-cp310-cp310-manylinux_2_5_x86_64.manylinux1_x86_64.manylinux_2_17_x86_64.manylinux2014_x86_64.whl.metadata (9.9 kB)\r\nRequirement already satisfied: setuptools in /usr/local/lib/python3.10/site-packages (from wandb) (68.1.2)\r\nRequirement already satisfied: six>=1.4.0 in /usr/local/lib/python3.10/site-packages (from docker-pycreds>=0.4.0->wandb) (1.16.0)\r\nCollecting gitdb<5,>=4.0.1 (from gitpython!=3.1.29,>=1.0.0->wandb)\r\n  Downloading gitdb-4.0.11-py3-none-any.whl.metadata (1.2 kB)\r\nRequirement already satisfied: charset-normalizer<4,>=2 in /usr/local/lib/python3.10/site-packages (from requests<3,>=2.0.0->wandb) (2.1.1)\r\nRequirement already satisfied: idna<4,>=2.5 in /usr/local/lib/python3.10/site-packages (from requests<3,>=2.0.0->wandb) (3.7)\r\nRequirement already satisfied: urllib3<3,>=1.21.1 in /usr/local/lib/python3.10/site-packages (from requests<3,>=2.0.0->wandb) (2.0.7)\r\nRequirement already satisfied: certifi>=2017.4.17 in /usr/local/lib/python3.10/site-packages (from requests<3,>=2.0.0->wandb) (2024.6.2)\r\nCollecting smmap<6,>=3.0.1 (from gitdb<5,>=4.0.1->gitpython!=3.1.29,>=1.0.0->wandb)\r\n  Downloading smmap-5.0.1-py3-none-any.whl.metadata (4.3 kB)\r\nDownloading wandb-0.17.7-py3-none-manylinux_2_17_x86_64.manylinux2014_x86_64.whl (9.3 MB)\r\n\u001b[?25l   \u001b[90m━━━━━━━━━━━━━━━━━━━━━━━━━━━━━━━━━━━━━━━━\u001b[0m \u001b[32m0.0/9.3 MB\u001b[0m \u001b[31m?\u001b[0m eta \u001b[36m-:--:--\u001b[0m\r\u001b[2K   \u001b[91m━━━━━━━━━━━━━━━━━━━━━━━━━━━━━━━\u001b[0m\u001b[91m╸\u001b[0m\u001b[90m━━━━━━━━\u001b[0m \u001b[32m7.4/9.3 MB\u001b[0m \u001b[31m221.5 MB/s\u001b[0m eta \u001b[36m0:00:01\u001b[0m\r\u001b[2K   \u001b[90m━━━━━━━━━━━━━━━━━━━━━━━━━━━━━━━━━━━━━━━━\u001b[0m \u001b[32m9.3/9.3 MB\u001b[0m \u001b[31m219.0 MB/s\u001b[0m eta \u001b[36m0:00:00\u001b[0m\r\n\u001b[?25hDownloading docker_pycreds-0.4.0-py2.py3-none-any.whl (9.0 kB)\r\nDownloading GitPython-3.1.43-py3-none-any.whl (207 kB)\r\n\u001b[?25l   \u001b[90m━━━━━━━━━━━━━━━━━━━━━━━━━━━━━━━━━━━━━━━━\u001b[0m \u001b[32m0.0/207.3 kB\u001b[0m \u001b[31m?\u001b[0m eta \u001b[36m-:--:--\u001b[0m\r\u001b[2K   \u001b[90m━━━━━━━━━━━━━━━━━━━━━━━━━━━━━━━━━━━━━━━\u001b[0m \u001b[32m207.3/207.3 kB\u001b[0m \u001b[31m213.8 MB/s\u001b[0m eta \u001b[36m0:00:00\u001b[0m\r\n\u001b[?25hDownloading sentry_sdk-2.13.0-py2.py3-none-any.whl (309 kB)\r\n\u001b[?25l   \u001b[90m━━━━━━━━━━━━━━━━━━━━━━━━━━━━━━━━━━━━━━━━\u001b[0m \u001b[32m0.0/309.1 kB\u001b[0m \u001b[31m?\u001b[0m eta \u001b[36m-:--:--\u001b[0m\r\u001b[2K   \u001b[90m━━━━━━━━━━━━━━━━━━━━━━━━━━━━━━━━━━━━━━━\u001b[0m \u001b[32m309.1/309.1 kB\u001b[0m \u001b[31m257.0 MB/s\u001b[0m eta \u001b[36m0:00:00\u001b[0m\r\n\u001b[?25hDownloading setproctitle-1.3.3-cp310-cp310-manylinux_2_5_x86_64.manylinux1_x86_64.manylinux_2_17_x86_64.manylinux2014_x86_64.whl (30 kB)\r\nDownloading gitdb-4.0.11-py3-none-any.whl (62 kB)\r\n\u001b[?25l   \u001b[90m━━━━━━━━━━━━━━━━━━━━━━━━━━━━━━━━━━━━━━━━\u001b[0m \u001b[32m0.0/62.7 kB\u001b[0m \u001b[31m?\u001b[0m eta \u001b[36m-:--:--\u001b[0m\r\u001b[2K   \u001b[90m━━━━━━━━━━━━━━━━━━━━━━━━━━━━━━━━━━━━━━━━\u001b[0m \u001b[32m62.7/62.7 kB\u001b[0m \u001b[31m251.8 MB/s\u001b[0m eta \u001b[36m0:00:00\u001b[0m\r\n\u001b[?25hDownloading smmap-5.0.1-py3-none-any.whl (24 kB)\r\nInstalling collected packages: smmap, setproctitle, sentry-sdk, docker-pycreds, gitdb, gitpython, wandb\r\nSuccessfully installed docker-pycreds-0.4.0 gitdb-4.0.11 gitpython-3.1.43 sentry-sdk-2.13.0 setproctitle-1.3.3 smmap-5.0.1 wandb-0.17.7\r\n\r\n\u001b[1m[\u001b[0m\u001b[34;49mnotice\u001b[0m\u001b[1;39;49m]\u001b[0m\u001b[39;49m A new release of pip is available: \u001b[0m\u001b[31;49m24.0\u001b[0m\u001b[39;49m -> \u001b[0m\u001b[32;49m24.2\u001b[0m\r\n\u001b[1m[\u001b[0m\u001b[34;49mnotice\u001b[0m\u001b[1;39;49m]\u001b[0m\u001b[39;49m To update, run: \u001b[0m\u001b[32;49mpip install --upgrade pip\u001b[0m\r\n"
      ]
     },
     "execution_count": null,
     "metadata": {},
     "output_type": "execute_result"
    }
   ],
   "source": [
    "!pip install datasets # to import dataset ag_news\n",
    "!pip install wandb # just installing to do minimal changes in package"
   ]
  },
  {
   "cell_type": "markdown",
   "id": "fd41a488",
   "metadata": {},
   "source": [
    "### Step 4"
   ]
  },
  {
   "cell_type": "markdown",
   "id": "e8b56f01",
   "metadata": {},
   "source": [
    "**Thought**: [pre-executed by user]"
   ]
  },
  {
   "cell_type": "markdown",
   "id": "0d381b4a",
   "metadata": {},
   "source": [
    "**Action (None)**:"
   ]
  },
  {
   "cell_type": "code",
   "execution_count": null,
   "id": "5a95119d",
   "metadata": {},
   "outputs": [
    {
     "data": {
      "text/plain": [
       "/content/BERT-LNL\n/usr/local/lib/python3.10/site-packages/IPython/core/magics/osm.py:417: UserWarning: This is now an optional IPython functionality, setting dhist requires you to install the `pickleshare` library.\n  self.shell.db['dhist'] = compress_dhist(dhist)[-100:]\n"
      ]
     },
     "execution_count": null,
     "metadata": {},
     "output_type": "execute_result"
    }
   ],
   "source": [
    "%cd BERT-LNL"
   ]
  },
  {
   "cell_type": "markdown",
   "id": "aca6d2ef",
   "metadata": {},
   "source": [
    "### Step 5"
   ]
  },
  {
   "cell_type": "markdown",
   "id": "b160469f",
   "metadata": {},
   "source": [
    "**Thought**: [pre-executed by user]"
   ]
  },
  {
   "cell_type": "markdown",
   "id": "32dbc83a",
   "metadata": {},
   "source": [
    "**Action (None)**:"
   ]
  },
  {
   "cell_type": "code",
   "execution_count": null,
   "id": "33249bda",
   "metadata": {},
   "outputs": [
    {
     "data": {
      "text/plain": [
       ""
      ]
     },
     "execution_count": null,
     "metadata": {},
     "output_type": "execute_result"
    }
   ],
   "source": [
    "# ## Data Preprocessing"
   ]
  },
  {
   "cell_type": "markdown",
   "id": "c7c1ac2b",
   "metadata": {},
   "source": [
    "### Step 6"
   ]
  },
  {
   "cell_type": "markdown",
   "id": "4670c530",
   "metadata": {},
   "source": [
    "**Thought**: [pre-executed by user]"
   ]
  },
  {
   "cell_type": "markdown",
   "id": "7fb53a3d",
   "metadata": {},
   "source": [
    "**Action (None)**:"
   ]
  },
  {
   "cell_type": "code",
   "execution_count": null,
   "id": "3687d712",
   "metadata": {},
   "outputs": [
    {
     "data": {
      "text/plain": [
       "/content/BERT-LNL\n/usr/local/lib/python3.10/site-packages/IPython/core/magics/osm.py:417: UserWarning: This is now an optional IPython functionality, setting dhist requires you to install the `pickleshare` library.\n  self.shell.db['dhist'] = compress_dhist(dhist)[-100:]\n"
      ]
     },
     "execution_count": null,
     "metadata": {},
     "output_type": "execute_result"
    }
   ],
   "source": [
    "%cd /content/BERT-LNL"
   ]
  },
  {
   "cell_type": "markdown",
   "id": "bd3b14e3",
   "metadata": {},
   "source": [
    "### Step 7"
   ]
  },
  {
   "cell_type": "markdown",
   "id": "80a8e96c",
   "metadata": {},
   "source": [
    "**Thought**: [pre-executed by user]"
   ]
  },
  {
   "cell_type": "markdown",
   "id": "83c843ee",
   "metadata": {},
   "source": [
    "**Action (None)**:"
   ]
  },
  {
   "cell_type": "code",
   "execution_count": null,
   "id": "e936e111",
   "metadata": {},
   "outputs": [
    {
     "data": {
      "text/plain": [
       ""
      ]
     },
     "execution_count": null,
     "metadata": {},
     "output_type": "execute_result"
    }
   ],
   "source": [
    "# ## Changes in Repo code\n",
    "# \n",
    "# The change is needed because saving model and wandb restriction is there, som codes are commented nearby, but some are not which is making the code stop running, Authors may have forgot  to remove that part of code.\n",
    "# "
   ]
  },
  {
   "cell_type": "markdown",
   "id": "614d7d82",
   "metadata": {},
   "source": [
    "### Step 8"
   ]
  },
  {
   "cell_type": "markdown",
   "id": "6558e26f",
   "metadata": {},
   "source": [
    "**Thought**: EXECUTED BY USER"
   ]
  },
  {
   "cell_type": "markdown",
   "id": "7de3e496",
   "metadata": {},
   "source": [
    "**Action (None)**:"
   ]
  },
  {
   "cell_type": "code",
   "execution_count": null,
   "id": "dd960c0e",
   "metadata": {},
   "outputs": [
    {
     "data": {
      "text/plain": [
       "Edit was successful. Here's the relevant content *after edit* for your inspection (you should check indentation is correct):\n\n                early_stopper.register(val_score['score_dict_n']['accuracy'], model, optimizer)\n\n                # wandb.log({'eval/loss/val_c_loss': val_score['val_c_loss'],\n                #            'eval/loss/val_n_loss': val_score['val_n_loss'],\n                #            'eval/score/val_c_acc': val_score['score_dict_c']['accuracy'],\n                #            'eval/score/val_n_acc': val_score['score_dict_n']['accuracy'],\n                #            'eval/score/test_acc': test_score['score_dict']['accuracy']}, step=global_step)\n\n                loss_noise_tracker.log_loss(model, global_step, device)\n                #loss_noise_tracker.log_last_histogram_to_wandb(step=global_step, normalize=True, tag='eval/loss')\n\n            if early_stopper.early_stop:\n                break\n\n        # if args.save_loss_tracker_information:\n        #     loss_noise_tracker.save_logged_information()\n        #     self.logger.info(\"[WN Trainer]: loss history saved\")\n        best_model = self.create_model(args)\n        best_model_weights = early_stopper.get_final_res()[\"es_best_model\"]\n        best_model.load_state_dict(best_model_weights)\n        best_model = best_model.to(device)\n\n        val_score = self.eval_model_with_both_labels(best_model, v_loader, device, fast_mode=False)\n        test_score = self.eval_model(args, logger, t_loader, best_model, device, fast_mode=False)\n        # wandb.run.summary[\"best_score_on_val_n\"] = test_score['score_dict']['accuracy']"
      ]
     },
     "execution_count": null,
     "metadata": {},
     "output_type": "execute_result"
    }
   ],
   "source": [
    "EDITING `/content/BERT-LNL/trainers/bert_wn_trainer.py. CHANGING:\n",
    "\n",
    "\n",
    "                #            'eval/score/test_acc': test_score['score_dict']['accuracy']}, step=global_step)\n",
    "\n",
    "                loss_noise_tracker.log_loss(model, global_step, device)\n",
    "                loss_noise_tracker.log_last_histogram_to_wandb(step=global_step, normalize=True, tag='eval/loss')\n",
    "\n",
    "            if early_stopper.early_stop:\n",
    "                break\n",
    "\n",
    "        if args.save_loss_tracker_information:\n",
    "            loss_noise_tracker.save_logged_information()\n",
    "            self.logger.info(\"[WN Trainer]: loss history saved\")\n",
    "        best_model = self.create_model(args)\n",
    "        best_model_weights = early_stopper.get_final_res()[\"es_best_model\"]\n",
    "\n",
    "\n",
    "TO:\n",
    "\n",
    "\n",
    "                #            'eval/score/test_acc': test_score['score_dict']['accuracy']}, step=global_step)\n",
    "\n",
    "                loss_noise_tracker.log_loss(model, global_step, device)\n",
    "                #loss_noise_tracker.log_last_histogram_to_wandb(step=global_step, normalize=True, tag='eval/loss')\n",
    "\n",
    "            if early_stopper.early_stop:\n",
    "                break\n",
    "\n",
    "        # if args.save_loss_tracker_information:\n",
    "        #     loss_noise_tracker.save_logged_information()\n",
    "        #     self.logger.info(\"[WN Trainer]: loss history saved\")\n",
    "        best_model = self.create_model(args)\n",
    "        best_model_weights = early_stopper.get_final_res()[\"es_best_model\"]\n"
   ]
  },
  {
   "cell_type": "markdown",
   "id": "6b5c4932",
   "metadata": {},
   "source": [
    "### Step 9"
   ]
  },
  {
   "cell_type": "markdown",
   "id": "1e0f4906",
   "metadata": {},
   "source": [
    "**Thought**: EXECUTED BY USER"
   ]
  },
  {
   "cell_type": "markdown",
   "id": "a1264523",
   "metadata": {},
   "source": [
    "**Action (None)**:"
   ]
  },
  {
   "cell_type": "code",
   "execution_count": null,
   "id": "71327c51",
   "metadata": {},
   "outputs": [
    {
     "data": {
      "text/plain": [
       "Edit was successful. Here's the relevant content *after edit* for your inspection (you should check indentation is correct):\n        # if args.save_loss_tracker_information:\n        #     loss_noise_tracker.save_logged_information()\n        #     self.logger.info(\"[WN Trainer]: loss history saved\")\n        best_model = self.create_model(args)\n        best_model_weights = early_stopper.get_final_res()[\"es_best_model\"]\n        best_model.load_state_dict(best_model_weights)\n        best_model = best_model.to(device)\n\n        val_score = self.eval_model_with_both_labels(best_model, v_loader, device, fast_mode=False)\n        test_score = self.eval_model(args, logger, t_loader, best_model, device, fast_mode=False)\n        print(f\"Test Score is {test_score}\")\n        # wandb.run.summary[\"best_score_on_val_n\"] = test_score['score_dict']['accuracy']\n        # wandb.run.summary[\"best_val_n\"] = val_score['score_dict_n']['accuracy']\n        # wandb.run.summary[\"best_val_c_on_val_n\"] = val_score['score_dict_c']['accuracy']\n\n\n\n\n    def forward_backward_noisy_batch(self, model, data_dict, loss_fn, args, device):"
      ]
     },
     "execution_count": null,
     "metadata": {},
     "output_type": "execute_result"
    }
   ],
   "source": [
    "EDITING `/content/BERT-LNL/trainers/bert_wn_trainer.py. CHANGING:\n",
    "\n",
    "\n",
    "\n",
    "        val_score = self.eval_model_with_both_labels(best_model, v_loader, device, fast_mode=False)\n",
    "        test_score = self.eval_model(args, logger, t_loader, best_model, device, fast_mode=False)\n",
    "        # wandb.run.summary[\"best_score_on_val_n\"] = test_score['score_dict']['accuracy']\n",
    "        # wandb.run.summary[\"best_val_n\"] = val_score['score_dict_n']['accuracy']\n",
    "\n",
    "\n",
    "TO:\n",
    "\n",
    "\n",
    "\n",
    "        val_score = self.eval_model_with_both_labels(best_model, v_loader, device, fast_mode=False)\n",
    "        test_score = self.eval_model(args, logger, t_loader, best_model, device, fast_mode=False)\n",
    "        print(f\"Test Score is {test_score}\")\n",
    "        # wandb.run.summary[\"best_score_on_val_n\"] = test_score['score_dict']['accuracy']\n",
    "        # wandb.run.summary[\"best_val_n\"] = val_score['score_dict_n']['accuracy']\n"
   ]
  },
  {
   "cell_type": "markdown",
   "id": "894bcc77",
   "metadata": {},
   "source": [
    "### Step 10"
   ]
  },
  {
   "cell_type": "markdown",
   "id": "bec0b586",
   "metadata": {},
   "source": [
    "**Thought**: [pre-executed by user]"
   ]
  },
  {
   "cell_type": "markdown",
   "id": "94179df5",
   "metadata": {},
   "source": [
    "**Action (None)**:"
   ]
  },
  {
   "cell_type": "code",
   "execution_count": null,
   "id": "a45d8331",
   "metadata": {},
   "outputs": [
    {
     "data": {
      "text/plain": [
       ""
      ]
     },
     "execution_count": null,
     "metadata": {},
     "output_type": "execute_result"
    }
   ],
   "source": [
    "# ## Training"
   ]
  },
  {
   "cell_type": "markdown",
   "id": "89ec841e",
   "metadata": {},
   "source": [
    "### Step 11"
   ]
  },
  {
   "cell_type": "markdown",
   "id": "253b4954",
   "metadata": {},
   "source": [
    "Execution Start time: 05:36:56, End time: 05:36:56 (duration: 0 seconds)"
   ]
  },
  {
   "cell_type": "markdown",
   "id": "0f7b5c00",
   "metadata": {},
   "source": [
    "**Thought**: Now that we have made the necessary changes to the code, we need to load the AG-News dataset using the Hugging Face datasets library. After that, we can proceed to run the `main.py` script with the specified parameters to train and evaluate the model.\n",
    "\n",
    "Let's start by opening the `main.py` file to understand where we need to load the dataset and make any necessary modifications to accommodate the specific instance indices for training, testing, and validation. \n",
    "\n",
    "I'll open the `main.py` file to inspect it. \n",
    "\n"
   ]
  },
  {
   "cell_type": "markdown",
   "id": "70cfcf16",
   "metadata": {},
   "source": [
    "**Action (open)**:"
   ]
  },
  {
   "cell_type": "code",
   "execution_count": null,
   "id": "23f4bc2e",
   "metadata": {},
   "outputs": [
    {
     "data": {
      "text/plain": [
       "[File: /content/BERT-LNL/main.py (163 lines total)]\n1:import argparse\n2:from loading_utils import prepare_data, prepare_af_data\n3:from utils import create_logger, save_args, create_trainer, load_config, save_config\n4:import numpy as np\n5:import torch\n6:import random\n7:\n8:\n9:def main():\n10:    parser = argparse.ArgumentParser()\n11:    parser.add_argument('--dataset', type=str, default='IMDB', choices=['SST-2', 'AG_News',\n12:                                                                        'TREC', 'IMDB', 'Yelp-5',\n13:                                                                        'Yoruba', 'Hausa'])\n14:    parser.add_argument('--data_root', type=str, default=\"\")\n15:    parser.add_argument('--log_root', type=str, default=\"\",\n16:                        help='output directory to save logs in training/testing')\n17:\n18:    parser.add_argument('--trainer_name', type=str, default='bert_wn',\n19:                        choices=['bert_wn', 'bert_ct', 'bert_cm', 'bert_cmgt', 'bert_smoothing'],\n20:                        help='trainer selection: '\n21:                             'bert_wn: without noise-handling,'\n22:                             'bert_ct: co-teaching, '\n23:                             'bert_cm: noise matrix, '\n24:                             'bert_cmgt: ground truth noise matrix,'\n25:                             'bert_smoothing: label smoothing')\n26:    parser.add_argument('--model_name', type=str, default='bert-base-uncased',\n27:                        choices=['bert-base-uncased', 'bert-base-cased',\n28:                                 'bert-large-uncased', 'bert-base-multilingual-cased'],\n29:                        help='backbone selection')\n30:    parser.add_argument('--exp_name', type=str, default='')\n31:\n32:\n33:    # Preprocessing Related\n34:    parser.add_argument('--max_sen_len', type=int, default=512,\n35:                        help='max sentence length, longer sentences will be truncated')\n36:    parser.add_argument('--special_token_offsets', type=int, default=2,\n37:                        help='number of special tokens used in bert tokenizer for text classification')\n38:    parser.add_argument('--truncate_mode', type=str, default='last',\n39:                        choices=['hybrid, last'], help='last: last 510 tokens, hybrid: first 128 + last 382')\n40:    parser.add_argument('--freeze_bert', action='store_true',\n41:                        help='freeze the bert backbone, i.e. use bert as feature extractor')\n42:\n43:    # BERT settings Related\n44:    parser.add_argument('--bert_dropout_rate', type=float, default=0.1)\n45:    parser.add_argument('--noise_level', type=float, default=0.0,\n46:                        help='noise level for injected noise')\n47:    parser.add_argument('--noise_type', default='uniform_m',\n48:                        choices=['uniform_m', 'sflip'],\n49:                        help='noise types: uniform_m: uniform noise, sflip: single-flip noise')\n50:    parser.add_argument('--val_fraction', type=float, default=0.1,\n51:                        help='if no validation set is provided, use this fraction of training set as validation set')\n52:\n53:    # training related\n54:    parser.add_argument('--num_epochs', type=int, default=1, help='set either num_epochs or num_training_steps')\n55:    parser.add_argument('--num_training_steps', type=int, default=-1, help='set it to -1 if num_epochs is set')\n56:    parser.add_argument('--train_eval_freq', type=int, default=10,\n57:                        help='evaluate the model on training set after every [train_eval_freq] training steps')\n58:    parser.add_argument('--eval_freq', type=int, default=50,\n59:                        help='evaluate the model on the validation and test sets'\n60:                             'after every [eval_freq] training steps')\n61:    parser.add_argument('--fast_eval', action='store_true',\n62:                        help='use 10% of the test set for evaluation, to speed up the evaluation prcoess')\n63:\n64:    parser.add_argument('--nl_batch_size', type=int, default=16,\n65:                        help='noisy labeled samples per batch, can be understood as the training batch size')\n66:    parser.add_argument('--eval_batch_size', type=int, default=50,\n67:                        help='evaluation batch size during testing')\n68:    parser.add_argument('--warmup_steps', type=int, default=0,\n69:                        help='warmup steps for learning rate scheduler')\n70:    parser.add_argument('--gradient_accumulation_steps', type=int, default=1,\n71:                        help=\"number of updates steps to accumulate before performing a backward/update pass.\")\n72:\n73:    parser.add_argument('--gen_val', action='store_true',\n74:                        help='generate validation set, enable it if there is no validation set')\n75:    parser.add_argument('--store_model', type=int, default=0, help='save models after training')\n76:\n77:\n78:    # co-teaching related\n79:    parser.add_argument('--forget_factor', type=float, default=1.0)\n80:    parser.add_argument('--T_k', type=int, default=10)\n81:    parser.add_argument('--c', type=float, default=1.0)\n82:\n83:\n84:    # smoothing trainer related\n85:    parser.add_argument('--smoothing_factor', type=float, default=0.2,\n86:                        help='label smoothing levels, 0.0 means no smoothing')\n87:\n88:\n89:    # cm trainer related\n90:    parser.add_argument('--cm_mse_weight', type=float, default=0.01,\n91:                        help='regularization factor for the mse loss, check https://aclanthology.org/N19-1328/')\n92:\n93:\n94:    # optimizer related\n95:    parser.add_argument('--lr', type=float, default=2e-5)\n96:    parser.add_argument(\"--weight_decay\", default=0.0, type=float,\n97:                        help=\"Weight deay if we apply some.\")\n98:    parser.add_argument('--exp_decay_rate', type=float, default=0.9998)\n99:    parser.add_argument('--max_grad_norm', type=float, default=1.0)\n100:    parser.add_argument('--patience', type=float, default=20, help='patience for early stopping')\n(63 more lines below)\n"
      ]
     },
     "execution_count": null,
     "metadata": {},
     "output_type": "execute_result"
    }
   ],
   "source": [
    "open main.py"
   ]
  },
  {
   "cell_type": "markdown",
   "id": "72dfd8ce",
   "metadata": {},
   "source": [
    "### Step 12"
   ]
  },
  {
   "cell_type": "markdown",
   "id": "52d75783",
   "metadata": {},
   "source": [
    "Execution Start time: 05:36:58, End time: 05:36:58 (duration: 0 seconds)"
   ]
  },
  {
   "cell_type": "markdown",
   "id": "063807a5",
   "metadata": {},
   "source": [
    "**Thought**: The `main.py` script is responsible for setting up the arguments and running the training and evaluation process. We need to ensure that the AG-News dataset is loaded correctly with the specified instance indices for training, testing, and validation.\n",
    "\n",
    "Let's look for the part of the code where the dataset is loaded, so we can modify it to use the Hugging Face datasets library and apply the specific instance indices.\n",
    "\n",
    "I'll search for the term \"prepare_data\" in the `main.py` file, as it seems related to data preparation.\n",
    "\n"
   ]
  },
  {
   "cell_type": "markdown",
   "id": "6c7dd1d2",
   "metadata": {},
   "source": [
    "**Action (search_file)**:"
   ]
  },
  {
   "cell_type": "code",
   "execution_count": null,
   "id": "4b6533b3",
   "metadata": {},
   "outputs": [
    {
     "data": {
      "text/plain": [
       "Found 2 matches for \"prepare_data\" in /content/BERT-LNL/main.py:\nLine 2:from loading_utils import prepare_data, prepare_af_data\nLine 145:        nl_set, ul_set, v_set, t_set, l2id, id2l = prepare_data(args, logger, r_state, num_classes, has_val, has_ul)\nEnd of matches for \"prepare_data\" in /content/BERT-LNL/main.py\n"
      ]
     },
     "execution_count": null,
     "metadata": {},
     "output_type": "execute_result"
    }
   ],
   "source": [
    "search_file prepare_data main.py"
   ]
  },
  {
   "cell_type": "markdown",
   "id": "de091ed7",
   "metadata": {},
   "source": [
    "### Step 13"
   ]
  },
  {
   "cell_type": "markdown",
   "id": "a37552dd",
   "metadata": {},
   "source": [
    "Execution Start time: 05:37:00, End time: 05:37:00 (duration: 0 seconds)"
   ]
  },
  {
   "cell_type": "markdown",
   "id": "f298dbc4",
   "metadata": {},
   "source": [
    "**Thought**: The `prepare_data` function is imported from `loading_utils` and is called on line 145 in the `main.py` file. This function likely handles the data loading and preparation process. To modify the dataset loading to use the Hugging Face datasets library and apply the specific instance indices, we should inspect the `prepare_data` function in the `loading_utils` module.\n",
    "\n",
    "Let's open the `loading_utils.py` file and locate the `prepare_data` function to understand how the data is being loaded and where we can make the necessary changes.\n",
    "\n"
   ]
  },
  {
   "cell_type": "markdown",
   "id": "752dcfb2",
   "metadata": {},
   "source": [
    "**Action (open)**:"
   ]
  },
  {
   "cell_type": "code",
   "execution_count": null,
   "id": "a0055f87",
   "metadata": {},
   "outputs": [
    {
     "data": {
      "text/plain": [
       "[File: /content/BERT-LNL/loading_utils.py (196 lines total)]\n1:import os\n2:import copy\n3:import numpy as np\n4:import pickle\n5:import torch\n6:import wandb\n7:from tqdm import tqdm\n8:from text_dataset import TextBertDataset, TextBertRealDataset\n9:from transformers import AutoTokenizer\n10:from transformers import BertTokenizerFast, BertTokenizer\n11:import utils\n12:\n13:\n14:def prepare_data(args, logger, r_state, num_classes, has_val, has_ul):\n15:    # used for experiments with injected noise\n16:\n17:    tokenizer = load_tokenizer(args)\n18:    tr_data, val_data = get_training_validation_set(args, logger, tokenizer, r_state, has_val, num_classes)\n19:    test_data = load_and_cache_text(args, tokenizer, logger, tag='test')\n20:\n21:    n_set = TextBertDataset(args, tr_data, tokenizer, r_state, num_classes, make_noisy=True)\n22:    v_set = TextBertDataset(args, val_data, tokenizer, r_state, num_classes, make_noisy=True)\n23:    t_set = TextBertDataset(args, test_data, tokenizer, r_state, num_classes, make_noisy=False)\n24:\n25:    n_set_noisy_labels = copy.deepcopy(n_set.noisy_labels)\n26:    v_set_noisy_labels = copy.deepcopy(v_set.noisy_labels)\n27:    n_set_noisy_labels_hash = hash(tuple(n_set_noisy_labels))\n28:    v_set_noisy_labels_hash = hash(tuple(v_set_noisy_labels))\n29:    # wandb.run.summary[\"train_n_hash\"] = n_set_noisy_labels_hash\n30:    # wandb.run.summary[\"val_n_hash\"] = v_set_noisy_labels_hash\n31:\n32:    u_set = None\n33:    l2id = None\n34:    id2l = None\n35:\n36:    return n_set, u_set, v_set, t_set, l2id, id2l\n37:\n38:\n39:def prepare_af_data(args, logger, num_classes, has_ul):\n40:    tokenizer = load_tokenizer(args)\n41:    n_set = get_clean_and_noisy_data_by_tag(args, logger, tokenizer, num_classes, tag='train')\n42:    v_set = get_clean_and_noisy_data_by_tag(args, logger, tokenizer, num_classes, tag='validation')\n43:    t_set = get_clean_and_noisy_data_by_tag(args, logger, tokenizer, num_classes, tag='test')\n44:\n45:    assert not has_ul  # we do not have unlabeled data in Yoruba and Hausa dataset\n46:    u_set = None\n47:\n48:    label_mapping_data_dir = os.path.join(args.data_root, args.dataset, 'txt_data')\n49:    l2id = utils.pickle_load(os.path.join(label_mapping_data_dir, 'l2idx.pickle'))\n50:    id2l = utils.pickle_load(os.path.join(label_mapping_data_dir, 'idx2l.pickle'))\n51:\n52:    return n_set, u_set, v_set, t_set, l2id, id2l\n53:\n54:\n55:def get_training_validation_set(args, logger, tokenizer, r_state, has_val, num_classes):\n56:    # sanity check: args.gen_val is used when there is no validation set\n57:    if has_val:\n58:        assert not args.gen_val\n59:\n60:    tr_data = load_and_cache_text(args, tokenizer, logger, tag='train')\n61:\n62:    if has_val:  # original validation set available\n63:        val_data = load_and_cache_text(args, tokenizer, logger, tag='validation')\n64:    elif args.gen_val:  # create validation set using the training set\n65:        val_indices_path = os.path.join(args.data_root, args.dataset, 'val_indices', f'{args.dataset}_val_indices.pickle')\n66:        with open(val_indices_path, 'rb') as handle:\n67:            val_indices = pickle.load(handle)\n68:\n69:        val_mask = np.zeros(len(tr_data['labels']), dtype=bool)\n70:        val_mask[val_indices] = True\n71:\n72:        val_features = {k: v[val_mask] for k,v in tr_data['features'].items()}\n73:        val_labels = tr_data['labels'][val_mask]\n74:        val_text  = np.array(tr_data['text'])[val_mask]\n75:\n76:        train_features = {k: v[~val_mask] for k,v in tr_data['features'].items()}\n77:        train_labels = tr_data['labels'][~val_mask]\n78:        train_text  = np.array(tr_data['text'])[~val_mask]\n79:\n80:        val_data = {\"features\": val_features, \"labels\": val_labels, \"text\": val_text}\n81:        tr_data = {\"features\": train_features, \"labels\": train_labels, \"text\": train_text}\n82:\n83:    else:\n84:        raise ValueError(\"we need a validation set, set gen_val to True to extract\"\n85:                         \"a subset from the training data as validation data\")\n86:\n87:    return tr_data, val_data\n88:\n89:def get_clean_and_noisy_data_by_tag(args, logger, tokenizer, num_classes, tag):\n90:    noisy_data_tag = f'{tag}_clean'\n91:\n92:    #get text data with noisy labels\n93:    clean_noisy_data = load_and_cache_text(args, tokenizer, logger, tag=noisy_data_tag)\n94:\n95:    #get the clean training and the clean validation sets\n96:    txt_data_dir = os.path.join(args.data_root, args.dataset, 'txt_data')\n97:    input_path = os.path.join(txt_data_dir, f'{tag}_clean_noisy_labels.pickle')\n98:    noisy_labels = load_pickle_data(input_path)\n99:\n100:    td = TextBertRealDataset(args, clean_noisy_data, noisy_labels, tokenizer, num_classes)\n(96 more lines below)\n"
      ]
     },
     "execution_count": null,
     "metadata": {},
     "output_type": "execute_result"
    }
   ],
   "source": [
    "open loading_utils.py"
   ]
  },
  {
   "cell_type": "markdown",
   "id": "6a796827",
   "metadata": {},
   "source": [
    "### Step 14"
   ]
  },
  {
   "cell_type": "markdown",
   "id": "3e98e79c",
   "metadata": {},
   "source": [
    "Execution Start time: 05:37:03, End time: 05:37:03 (duration: 0 seconds)"
   ]
  },
  {
   "cell_type": "markdown",
   "id": "282527d3",
   "metadata": {},
   "source": [
    "**Thought**: The `prepare_data` function in `loading_utils.py` is responsible for loading and preparing the dataset. It uses helper functions like `get_training_validation_set` and `load_and_cache_text` to load the training, validation, and test data.\n",
    "\n",
    "To load the AG-News dataset using the Hugging Face datasets library and apply the specific instance indices, we need to modify the `get_training_validation_set` and `load_and_cache_text` functions.\n",
    "\n",
    "Let's start by inspecting the `load_and_cache_text` function to see how it loads the data. This will help us determine where to integrate the Hugging Face datasets library.\n",
    "\n",
    "I'll search for the `load_and_cache_text` function in the `loading_utils.py` file.\n",
    "\n"
   ]
  },
  {
   "cell_type": "markdown",
   "id": "9203ff2c",
   "metadata": {},
   "source": [
    "**Action (search_file)**:"
   ]
  },
  {
   "cell_type": "code",
   "execution_count": null,
   "id": "2d604d67",
   "metadata": {},
   "outputs": [
    {
     "data": {
      "text/plain": [
       "Found 5 matches for \"load_and_cache_text\" in /content/BERT-LNL/loading_utils.py:\nLine 19:    test_data = load_and_cache_text(args, tokenizer, logger, tag='test')\nLine 60:    tr_data = load_and_cache_text(args, tokenizer, logger, tag='train')\nLine 63:        val_data = load_and_cache_text(args, tokenizer, logger, tag='validation')\nLine 93:    clean_noisy_data = load_and_cache_text(args, tokenizer, logger, tag=noisy_data_tag)\nLine 105:def load_and_cache_text(args, tokenizer, logger, tag):\nEnd of matches for \"load_and_cache_text\" in /content/BERT-LNL/loading_utils.py\n"
      ]
     },
     "execution_count": null,
     "metadata": {},
     "output_type": "execute_result"
    }
   ],
   "source": [
    "search_file load_and_cache_text loading_utils.py"
   ]
  },
  {
   "cell_type": "markdown",
   "id": "5e30779f",
   "metadata": {},
   "source": [
    "### Step 15"
   ]
  },
  {
   "cell_type": "markdown",
   "id": "6e557a69",
   "metadata": {},
   "source": [
    "Execution Start time: 05:37:06, End time: 05:37:06 (duration: 0 seconds)"
   ]
  },
  {
   "cell_type": "markdown",
   "id": "308ae970",
   "metadata": {},
   "source": [
    "**Thought**: The `load_and_cache_text` function is defined on line 105 in the `loading_utils.py` file. This function is likely responsible for loading the dataset based on the provided tag (e.g., 'train', 'test', 'validation').\n",
    "\n",
    "Let's navigate to line 105 in the `loading_utils.py` file to inspect the `load_and_cache_text` function. This will help us understand how the data is being loaded and where we can integrate the Hugging Face datasets library to load the AG-News dataset with the specified instance indices.\n",
    "\n"
   ]
  },
  {
   "cell_type": "markdown",
   "id": "e2707285",
   "metadata": {},
   "source": [
    "**Action (goto)**:"
   ]
  },
  {
   "cell_type": "code",
   "execution_count": null,
   "id": "761d9fa6",
   "metadata": {},
   "outputs": [
    {
     "data": {
      "text/plain": [
       "[File: /content/BERT-LNL/loading_utils.py (196 lines total)]\n(89 more lines above)\n90:    noisy_data_tag = f'{tag}_clean'\n91:\n92:    #get text data with noisy labels\n93:    clean_noisy_data = load_and_cache_text(args, tokenizer, logger, tag=noisy_data_tag)\n94:\n95:    #get the clean training and the clean validation sets\n96:    txt_data_dir = os.path.join(args.data_root, args.dataset, 'txt_data')\n97:    input_path = os.path.join(txt_data_dir, f'{tag}_clean_noisy_labels.pickle')\n98:    noisy_labels = load_pickle_data(input_path)\n99:\n100:    td = TextBertRealDataset(args, clean_noisy_data, noisy_labels, tokenizer, num_classes)\n101:    return td\n102:\n103:\n104:\n105:def load_and_cache_text(args, tokenizer, logger, tag):\n106:    cached_features_dir = os.path.join(args.data_root, args.dataset, 'bert_preprocessed') # cache dir (output dir)\n107:    txt_data_dir = os.path.join(args.data_root, args.dataset, 'txt_data') # input file dir\n108:\n109:    if not os.path.exists(cached_features_dir):\n110:        os.makedirs(cached_features_dir)\n111:\n112:    cached_features_path = os.path.join(cached_features_dir,\n113:                                        f'{tag}_trun_{args.truncate_mode}_maxl_{args.max_sen_len}')\n114:    input_path = os.path.join(txt_data_dir, f'{tag}.txt')\n115:\n116:    docs = read_txt(input_path)\n117:\n118:    if os.path.exists(cached_features_path):\n119:        logger.info(f'[Loading and Caching] loading from cache...')\n120:        features = torch.load(cached_features_path)\n121:    else:\n122:        logger.info(f'[Loading and Caching] number of documents = {len(docs)}')\n123:        logger.info(f'[Loading and Caching] convert text to features...')\n124:        features = get_input_features(docs, tokenizer, args)\n125:        logger.info(\"[Loading and Caching] saving/caching the features...\")\n126:        torch.save(features, cached_features_path)\n127:        logger.info(\"[Loading and Caching] saved\")\n128:\n129:    logger.info(f'[Loading and Caching] loading labels...')\n130:    input_path = os.path.join(txt_data_dir, f'{tag}_labels.pickle')\n131:    with open(input_path, 'rb') as handle:\n132:        labels = np.array(pickle.load(handle))\n133:\n134:    return {\"features\": features, \"labels\": labels, \"text\": docs}\n135:\n136:\n137:\n138:\n139:def load_tokenizer(args):\n140:    tokenizer = AutoTokenizer.from_pretrained(args.model_name)\n141:    return tokenizer\n142:\n143:\n144:def load_pickle_data(path):\n145:    with open(path, 'rb') as handle:\n146:        data = pickle.load(handle)\n147:    return data\n148:\n149:\n150:\n151:def read_txt(file_path):\n152:    text_list = []\n153:    with open(file_path, 'r', encoding='utf-8') as f:\n154:        text_list = [line.rstrip('\\n') for line in f]\n155:    return text_list\n156:\n157:\n158:def truncate_token_ids(token_ids, args, limit):\n159:    if args.truncate_mode == 'last':\n160:        return token_ids[-limit:]\n161:    elif args.truncate_mode == 'hybrid':\n162:        return token_ids[:128] + token_ids[-382:]\n163:    else:\n164:        raise ValueError('truncate model not supported')\n165:\n166:\n167:def get_input_features(docs, tokenizer, args):\n168:    limit = args.max_sen_len - args.special_token_offsets\n169:    # sanity check\n170:    if args.truncate_mode == 'hybrid':\n171:        assert args.max_sen_len == 512\n172:    assert limit > 0\n173:    num_docs = len(docs)\n174:\n175:    input_id_tensor = torch.zeros((num_docs, args.max_sen_len)).long()\n176:    length_tensor = torch.zeros(num_docs).long()\n177:    token_type_tensor = torch.zeros((num_docs, args.max_sen_len)).long()\n178:    attention_mask_tensor = torch.zeros((num_docs, args.max_sen_len)).long()\n179:\n180:    for idx, doc in enumerate(tqdm(docs, desc='convert docs to tensors')):\n181:        tokens = tokenizer.tokenize(doc)\n182:        token_ids = tokenizer.convert_tokens_to_ids(tokens)\n183:        token_ids_trunc = truncate_token_ids(token_ids, args, limit)\n184:\n185:        input_ids = torch.tensor([tokenizer.cls_token_id] + token_ids_trunc +\n186:                                 [tokenizer.sep_token_id]).long()\n187:        input_ids_length = len(input_ids)\n188:        # token_types = torch.zeros(len(input_ids)).long()\n189:        attention_mask = torch.ones(len(input_ids)).long()\n(7 more lines below)\n"
      ]
     },
     "execution_count": null,
     "metadata": {},
     "output_type": "execute_result"
    }
   ],
   "source": [
    "goto 105"
   ]
  },
  {
   "cell_type": "markdown",
   "id": "36f5c587",
   "metadata": {},
   "source": [
    "### Step 16"
   ]
  },
  {
   "cell_type": "markdown",
   "id": "a937a1c4",
   "metadata": {},
   "source": [
    "Execution Start time: 05:37:12, End time: 05:37:13 (duration: 0 seconds)"
   ]
  },
  {
   "cell_type": "markdown",
   "id": "a5f1c5f5",
   "metadata": {},
   "source": [
    "**Thought**: The `load_and_cache_text` function is responsible for loading text data and caching it. It reads documents from a text file and labels from a pickle file. To integrate the Hugging Face datasets library, we need to modify this function to load the AG-News dataset directly from the library and filter it using the specified instance indices.\n",
    "\n",
    "Let's edit the `load_and_cache_text` function to load the AG-News dataset using the Hugging Face datasets library and apply the specific instance indices for the train, test, and validation splits.\n",
    "\n"
   ]
  },
  {
   "cell_type": "markdown",
   "id": "0894e795",
   "metadata": {},
   "source": [
    "**Action (edit)**:"
   ]
  },
  {
   "cell_type": "code",
   "execution_count": null,
   "id": "8a011128",
   "metadata": {},
   "outputs": [
    {
     "data": {
      "text/plain": [
       "[File: /content/BERT-LNL/loading_utils.py (191 lines total)]\n(54 more lines above)\n55:def get_training_validation_set(args, logger, tokenizer, r_state, has_val, num_classes):\n56:    # sanity check: args.gen_val is used when there is no validation set\n57:    if has_val:\n58:        assert not args.gen_val\n59:\n60:    tr_data = load_and_cache_text(args, tokenizer, logger, tag='train')\n61:\n62:    if has_val:  # original validation set available\n63:        val_data = load_and_cache_text(args, tokenizer, logger, tag='validation')\n64:    elif args.gen_val:  # create validation set using the training set\n65:        val_indices_path = os.path.join(args.data_root, args.dataset, 'val_indices', f'{args.dataset}_val_indices.pickle')\n66:        with open(val_indices_path, 'rb') as handle:\n67:            val_indices = pickle.load(handle)\n68:\n69:        val_mask = np.zeros(len(tr_data['labels']), dtype=bool)\n70:        val_mask[val_indices] = True\n71:\n72:        val_features = {k: v[val_mask] for k,v in tr_data['features'].items()}\n73:        val_labels = tr_data['labels'][val_mask]\n74:        val_text  = np.array(tr_data['text'])[val_mask]\n75:\n76:        train_features = {k: v[~val_mask] for k,v in tr_data['features'].items()}\n77:        train_labels = tr_data['labels'][~val_mask]\n78:        train_text  = np.array(tr_data['text'])[~val_mask]\n79:\n80:        val_data = {\"features\": val_features, \"labels\": val_labels, \"text\": val_text}\n81:        tr_data = {\"features\": train_features, \"labels\": train_labels, \"text\": train_text}\n82:\n83:    else:\n84:        raise ValueError(\"we need a validation set, set gen_val to True to extract\"\n85:                         \"a subset from the training data as validation data\")\n86:\n87:    return tr_data, val_data\n88:\n89:def get_clean_and_noisy_data_by_tag(args, logger, tokenizer, num_classes, tag):\n90:    noisy_data_tag = f'{tag}_clean'\n91:\n92:    #get text data with noisy labels\n93:    clean_noisy_data = load_and_cache_text(args, tokenizer, logger, tag=noisy_data_tag)\n94:\n95:    #get the clean training and the clean validation sets\n96:    txt_data_dir = os.path.join(args.data_root, args.dataset, 'txt_data')\n97:    input_path = os.path.join(txt_data_dir, f'{tag}_clean_noisy_labels.pickle')\n98:    noisy_labels = load_pickle_data(input_path)\n99:\n100:    td = TextBertRealDataset(args, clean_noisy_data, noisy_labels, tokenizer, num_classes)\n101:    return td\n102:\n103:\n104:\n105:def load_and_cache_text(args, tokenizer, logger, tag):\n106:    from datasets import load_dataset\n107:\n108:    # Load the AG-News dataset\n109:    dataset = load_dataset('ag_news')\n110:\n111:    # Select specific instances based on the tag\n112:    if tag == 'train':\n113:        indices = [1, 2, 3, 4, 5, 6, 100, 101, 102, 103, 104, 105, 451, 452, 453, 454, 455, 456, 501, 502, 503, 504, 505, 506]\n114:    elif tag == 'test':\n115:        indices = [1, 2, 3, 101, 103, 452, 455, 501, 502, 503, 504, 505]\n116:    elif tag == 'validation':\n117:        indices = [0, 1, 2, 6, 7, 8, 12, 13, 14, 18, 19, 20]\n118:    else:\n119:        raise ValueError(f\"Unknown tag: {tag}\")\n120:\n121:    # Filter the dataset\n122:    filtered_dataset = dataset[tag].select(indices)\n123:\n124:    # Convert text to features\n125:    docs = filtered_dataset['text']\n126:    labels = filtered_dataset['label']\n127:    features = get_input_features(docs, tokenizer, args)\n128:\n129:    return {\"features\": features, \"labels\": labels, \"text\": docs}\n130:\n131:\n132:\n133:\n134:def load_tokenizer(args):\n135:    tokenizer = AutoTokenizer.from_pretrained(args.model_name)\n136:    return tokenizer\n137:\n138:\n139:def load_pickle_data(path):\n140:    with open(path, 'rb') as handle:\n141:        data = pickle.load(handle)\n142:    return data\n143:\n144:\n145:\n146:def read_txt(file_path):\n147:    text_list = []\n148:    with open(file_path, 'r', encoding='utf-8') as f:\n149:        text_list = [line.rstrip('\\n') for line in f]\n150:    return text_list\n151:\n152:\n153:def truncate_token_ids(token_ids, args, limit):\n154:    if args.truncate_mode == 'last':\n(37 more lines below)\nFile updated. Please review the changes and make sure they are correct (correct indentation, no duplicate lines, etc). Edit the file again if necessary.\n"
      ]
     },
     "execution_count": null,
     "metadata": {},
     "output_type": "execute_result"
    }
   ],
   "source": [
    "edit 105:134\n",
    "def load_and_cache_text(args, tokenizer, logger, tag):\n",
    "    from datasets import load_dataset\n",
    "\n",
    "    # Load the AG-News dataset\n",
    "    dataset = load_dataset('ag_news')\n",
    "\n",
    "    # Select specific instances based on the tag\n",
    "    if tag == 'train':\n",
    "        indices = [1, 2, 3, 4, 5, 6, 100, 101, 102, 103, 104, 105, 451, 452, 453, 454, 455, 456, 501, 502, 503, 504, 505, 506]\n",
    "    elif tag == 'test':\n",
    "        indices = [1, 2, 3, 101, 103, 452, 455, 501, 502, 503, 504, 505]\n",
    "    elif tag == 'validation':\n",
    "        indices = [0, 1, 2, 6, 7, 8, 12, 13, 14, 18, 19, 20]\n",
    "    else:\n",
    "        raise ValueError(f\"Unknown tag: {tag}\")\n",
    "\n",
    "    # Filter the dataset\n",
    "    filtered_dataset = dataset[tag].select(indices)\n",
    "\n",
    "    # Convert text to features\n",
    "    docs = filtered_dataset['text']\n",
    "    labels = filtered_dataset['label']\n",
    "    features = get_input_features(docs, tokenizer, args)\n",
    "\n",
    "    return {\"features\": features, \"labels\": labels, \"text\": docs}\n",
    "end_of_edit"
   ]
  },
  {
   "cell_type": "markdown",
   "id": "de722ded",
   "metadata": {},
   "source": [
    "### Step 17"
   ]
  },
  {
   "cell_type": "markdown",
   "id": "dbe08922",
   "metadata": {},
   "source": [
    "Execution Start time: 05:37:16, End time: 05:37:25 (duration: 9 seconds)"
   ]
  },
  {
   "cell_type": "markdown",
   "id": "dd96cb37",
   "metadata": {},
   "source": [
    "**Thought**: The `load_and_cache_text` function has been successfully modified to load the AG-News dataset using the Hugging Face datasets library and apply the specified instance indices for each data split. Now, we can proceed to run the `main.py` script with the specified parameters to train and evaluate the model.\n",
    "\n",
    "Let's execute the `main.py` script with the provided command to train BERT-WN on the AG-News dataset with 20% single-flip label noise and evaluate the model.\n",
    "\n"
   ]
  },
  {
   "cell_type": "markdown",
   "id": "ef043b31",
   "metadata": {},
   "source": [
    "**Action (None)**:"
   ]
  },
  {
   "cell_type": "code",
   "execution_count": null,
   "id": "6a14ddd7",
   "metadata": {},
   "outputs": [
    {
     "data": {
      "text/plain": [
       "INFO Training started\nINFO log dir: log/08_22_05_37_21_sflip_nle0.2_nlb32\nINFO loading AG_News...\n/usr/local/lib/python3.10/site-packages/huggingface_hub/file_download.py:1132: FutureWarning: `resume_download` is deprecated and will be removed in version 1.0.0. Downloads always resume when possible. If you want to force a new download, use `force_download=True`.\n  warnings.warn(\n\ntokenizer_config.json:   0%|                         | 0.00/48.0 [00:00<?, ?B/s]\ntokenizer_config.json: 100%|██████████████████| 48.0/48.0 [00:00<00:00, 279kB/s]\n\nconfig.json:   0%|                                    | 0.00/570 [00:00<?, ?B/s]\n\n\nvocab.txt:   0%|                                     | 0.00/232k [00:00<?, ?B/s]\n\n\ntokenizer.json:   0%|                                | 0.00/466k [00:00<?, ?B/s]\n\nINFO PyTorch version 2.2.1+cpu available.\n\nDownloading readme:   0%|                           | 0.00/8.07k [00:00<?, ?B/s]\nDownloading readme: 100%|███████████████████| 8.07k/8.07k [00:00<00:00, 111kB/s]\n\nDownloading data:   0%|                             | 0.00/18.6M [00:00<?, ?B/s]\n\n\n\nDownloading data:   0%|                             | 0.00/1.23M [00:00<?, ?B/s]\n\n\n\nGenerating train split:   0%|                 | 0/120000 [00:00<?, ? examples/s]\nGenerating train split:  51%|▌| 61000/120000 [00:00<00:00, 599680.64 examples/s]\nGenerating train split: 100%|█| 120000/120000 [00:00<00:00, 660527.25 examples/s\n\nGenerating test split:   0%|                    | 0/7600 [00:00<?, ? examples/s]\nGenerating test split: 100%|█████| 7600/7600 [00:00<00:00, 643207.30 examples/s]\n\nconvert docs to tensors:   0%|                           | 0/24 [00:00<?, ?it/s]\nconvert docs to tensors: 100%|█████████████████| 24/24 [00:00<00:00, 258.02it/s]\nTraceback (most recent call last):\n  File \"/content/BERT-LNL/main.py\", line 163, in <module>\n    main()\n  File \"/content/BERT-LNL/main.py\", line 145, in main\n    nl_set, ul_set, v_set, t_set, l2id, id2l = prepare_data(args, logger, r_state, num_classes, has_val, has_ul)\n  File \"/content/BERT-LNL/loading_utils.py\", line 18, in prepare_data\n    tr_data, val_data = get_training_validation_set(args, logger, tokenizer, r_state, has_val, num_classes)\n  File \"/content/BERT-LNL/loading_utils.py\", line 66, in get_training_validation_set\n    with open(val_indices_path, 'rb') as handle:\nFileNotFoundError: [Errno 2] No such file or directory: 'data/AG_News/val_indices/AG_News_val_indices.pickle'\n"
      ]
     },
     "execution_count": null,
     "metadata": {},
     "output_type": "execute_result"
    }
   ],
   "source": [
    "!python3 main.py \\\n",
    "--dataset AG_News \\\n",
    "--log_root log \\\n",
    "--data_root data \\\n",
    "--trainer_name bert_wn \\\n",
    "--model_name bert-base-uncased \\\n",
    "--gen_val \\\n",
    "--nl_batch_size 32 \\\n",
    "--eval_batch_size 32 \\\n",
    "--gradient_accumulation_steps 1 \\\n",
    "--max_sen_len 64 \\\n",
    "--lr 0.00002 \\\n",
    "--num_epochs 1 \\\n",
    "--num_training_steps 5 \\\n",
    "--patience 1 \\\n",
    "--eval_freq 2 \\\n",
    "--store_model 1 \\\n",
    "--noise_level 0.2 \\\n",
    "--noise_type sflip \\\n",
    "--manualSeed 1234"
   ]
  },
  {
   "cell_type": "markdown",
   "id": "978870f0",
   "metadata": {},
   "source": [
    "### Step 18"
   ]
  },
  {
   "cell_type": "markdown",
   "id": "c3a8310d",
   "metadata": {},
   "source": [
    "Execution Start time: 05:37:28, End time: 05:37:28 (duration: 0 seconds)"
   ]
  },
  {
   "cell_type": "markdown",
   "id": "827934b4",
   "metadata": {},
   "source": [
    "**Thought**: The error indicates that the script is trying to access a file `AG_News_val_indices.pickle` in the `data/AG_News/val_indices/` directory, which does not exist. This file is likely used to load validation indices, but since we are using specific indices from the Hugging Face datasets, we don't need this file.\n",
    "\n",
    "We need to modify the code to bypass the need for this file and directly use the indices we specified for the validation set. Let's inspect the `get_training_validation_set` function in the `loading_utils.py` file to understand where this file is being used and how we can bypass it.\n",
    "\n",
    "I'll search for the term `val_indices_path` in the `loading_utils.py` file to locate its usage.\n",
    "\n"
   ]
  },
  {
   "cell_type": "markdown",
   "id": "ab62e84b",
   "metadata": {},
   "source": [
    "**Action (search_file)**:"
   ]
  },
  {
   "cell_type": "code",
   "execution_count": null,
   "id": "ae0e2674",
   "metadata": {},
   "outputs": [
    {
     "data": {
      "text/plain": [
       "Found 2 matches for \"val_indices_path\" in /content/BERT-LNL/loading_utils.py:\nLine 65:        val_indices_path = os.path.join(args.data_root, args.dataset, 'val_indices', f'{args.dataset}_val_indices.pickle')\nLine 66:        with open(val_indices_path, 'rb') as handle:\nEnd of matches for \"val_indices_path\" in /content/BERT-LNL/loading_utils.py\n"
      ]
     },
     "execution_count": null,
     "metadata": {},
     "output_type": "execute_result"
    }
   ],
   "source": [
    "search_file val_indices_path loading_utils.py"
   ]
  },
  {
   "cell_type": "markdown",
   "id": "edaded66",
   "metadata": {},
   "source": [
    "### Step 19"
   ]
  },
  {
   "cell_type": "markdown",
   "id": "d65eedd4",
   "metadata": {},
   "source": [
    "Execution Start time: 05:37:31, End time: 05:37:32 (duration: 0 seconds)"
   ]
  },
  {
   "cell_type": "markdown",
   "id": "17d2b370",
   "metadata": {},
   "source": [
    "**Thought**: The `val_indices_path` is defined on line 65 and used on line 66 in the `loading_utils.py` file. It attempts to open a pickle file containing validation indices. Since we are using specific indices from the Hugging Face datasets, we can bypass this file access.\n",
    "\n",
    "Let's edit the code to remove the dependency on this file and directly use the indices we specified for the validation set.\n",
    "\n"
   ]
  },
  {
   "cell_type": "markdown",
   "id": "057e855c",
   "metadata": {},
   "source": [
    "**Action (edit)**:"
   ]
  },
  {
   "cell_type": "code",
   "execution_count": null,
   "id": "74e96d83",
   "metadata": {},
   "outputs": [
    {
     "data": {
      "text/plain": [
       "Your proposed edit has introduced new syntax error(s). Please read this error message carefully and then retry editing the file.\n\nERRORS:\n- E999 IndentationError: expected an indented block after 'elif' statement on line 64\n\nThis is how your edit would have looked if applied\n-------------------------------------------------\n[File: /content/BERT-LNL/loading_utils.py (196 lines total)]\n(59 more lines above)\n59:\n60:    tr_data = load_and_cache_text(args, tokenizer, logger, tag='train')\n61:\n62:    if has_val:  # original validation set available\n63:        val_data = load_and_cache_text(args, tokenizer, logger, tag='validation')\n64:    elif args.gen_val:  # create validation set using the training set\n65:# Comment out the lines that attempt to open the validation indices file\n66:# val_indices_path = os.path.join(args.data_root, args.dataset, 'val_indices', f'{args.dataset}_val_indices.pickle')\n67:# with open(val_indices_path, 'rb') as handle:\n68:#     val_indices = pickle.load(handle)\n69:\n70:# Use the specified validation indices directly\n71:val_indices = [0, 1, 2, 6, 7, 8, 12, 13, 14, 18, 19, 20]\n72:            val_indices = pickle.load(handle)\n73:\n74:        val_mask = np.zeros(len(tr_data['labels']), dtype=bool)\n75:        val_mask[val_indices] = True\n(121 more lines below)\n-------------------------------------------------\n\nThis is the original code before your edit\n-------------------------------------------------\n[File: /content/BERT-LNL/loading_utils.py (191 lines total)]\n(59 more lines above)\n60:    tr_data = load_and_cache_text(args, tokenizer, logger, tag='train')\n61:\n62:    if has_val:  # original validation set available\n63:        val_data = load_and_cache_text(args, tokenizer, logger, tag='validation')\n64:    elif args.gen_val:  # create validation set using the training set\n65:        val_indices_path = os.path.join(args.data_root, args.dataset, 'val_indices', f'{args.dataset}_val_indices.pickle')\n66:        with open(val_indices_path, 'rb') as handle:\n67:            val_indices = pickle.load(handle)\n68:\n69:        val_mask = np.zeros(len(tr_data['labels']), dtype=bool)\n70:        val_mask[val_indices] = True\n71:\n(120 more lines below)\n-------------------------------------------------\nYour changes have NOT been applied. Please fix your edit command and try again.\nYou either need to 1) Specify the correct start/end line arguments or 2) Correct your edit code.\nDO NOT re-run the same failed edit command. Running it again will lead to the same error.\n"
      ]
     },
     "execution_count": null,
     "metadata": {},
     "output_type": "execute_result"
    }
   ],
   "source": [
    "edit 65:66\n",
    "# Comment out the lines that attempt to open the validation indices file\n",
    "# val_indices_path = os.path.join(args.data_root, args.dataset, 'val_indices', f'{args.dataset}_val_indices.pickle')\n",
    "# with open(val_indices_path, 'rb') as handle:\n",
    "#     val_indices = pickle.load(handle)\n",
    "\n",
    "# Use the specified validation indices directly\n",
    "val_indices = [0, 1, 2, 6, 7, 8, 12, 13, 14, 18, 19, 20]\n",
    "end_of_edit"
   ]
  },
  {
   "cell_type": "markdown",
   "id": "636a8375",
   "metadata": {},
   "source": [
    "### Step 20"
   ]
  },
  {
   "cell_type": "markdown",
   "id": "4673e6b5",
   "metadata": {},
   "source": [
    "Execution Start time: 05:37:35, End time: 05:37:36 (duration: 0 seconds)"
   ]
  },
  {
   "cell_type": "markdown",
   "id": "e77a5f21",
   "metadata": {},
   "source": [
    "**Thought**: The error occurred because the indentation was not correctly adjusted after commenting out the lines. We need to ensure that the `val_indices` assignment is properly indented to align with the `elif` block.\n",
    "\n",
    "Let's correct the indentation and try editing the file again.\n",
    "\n"
   ]
  },
  {
   "cell_type": "markdown",
   "id": "7145d094",
   "metadata": {},
   "source": [
    "**Action (edit)**:"
   ]
  },
  {
   "cell_type": "code",
   "execution_count": null,
   "id": "e89d55d9",
   "metadata": {},
   "outputs": [
    {
     "data": {
      "text/plain": [
       "Your proposed edit has introduced new syntax error(s). Please read this error message carefully and then retry editing the file.\n\nERRORS:\n- F821 undefined name 'val_mask'\n- F821 undefined name 'val_mask'\n- F821 undefined name 'val_mask'\n- F821 undefined name 'val_mask'\n- F821 undefined name 'val_mask'\n- F821 undefined name 'val_mask'\n\nThis is how your edit would have looked if applied\n-------------------------------------------------\n[File: /content/BERT-LNL/loading_utils.py (191 lines total)]\n(59 more lines above)\n59:\n60:    tr_data = load_and_cache_text(args, tokenizer, logger, tag='train')\n61:\n62:    if has_val:  # original validation set available\n63:        val_data = load_and_cache_text(args, tokenizer, logger, tag='validation')\n64:    elif args.gen_val:  # create validation set using the training set\n65:        # Comment out the lines that attempt to open the validation indices file\n66:        # val_indices_path = os.path.join(args.data_root, args.dataset, 'val_indices', f'{args.dataset}_val_indices.pickle')\n67:        # with open(val_indices_path, 'rb') as handle:\n68:        #     val_indices = pickle.load(handle)\n69:\n70:        # Use the specified validation indices directly\n71:        val_indices = [0, 1, 2, 6, 7, 8, 12, 13, 14, 18, 19, 20]\n72:        val_features = {k: v[val_mask] for k,v in tr_data['features'].items()}\n73:        val_labels = tr_data['labels'][val_mask]\n74:        val_text  = np.array(tr_data['text'])[val_mask]\n75:\n(116 more lines below)\n-------------------------------------------------\n\nThis is the original code before your edit\n-------------------------------------------------\n[File: /content/BERT-LNL/loading_utils.py (191 lines total)]\n(60 more lines above)\n60:    tr_data = load_and_cache_text(args, tokenizer, logger, tag='train')\n61:\n62:    if has_val:  # original validation set available\n63:        val_data = load_and_cache_text(args, tokenizer, logger, tag='validation')\n64:    elif args.gen_val:  # create validation set using the training set\n65:        val_indices_path = os.path.join(args.data_root, args.dataset, 'val_indices', f'{args.dataset}_val_indices.pickle')\n66:        with open(val_indices_path, 'rb') as handle:\n67:            val_indices = pickle.load(handle)\n68:\n69:        val_mask = np.zeros(len(tr_data['labels']), dtype=bool)\n70:        val_mask[val_indices] = True\n71:\n72:        val_features = {k: v[val_mask] for k,v in tr_data['features'].items()}\n73:        val_labels = tr_data['labels'][val_mask]\n74:        val_text  = np.array(tr_data['text'])[val_mask]\n75:\n76:        train_features = {k: v[~val_mask] for k,v in tr_data['features'].items()}\n(115 more lines below)\n-------------------------------------------------\nYour changes have NOT been applied. Please fix your edit command and try again.\nYou either need to 1) Specify the correct start/end line arguments or 2) Correct your edit code.\nDO NOT re-run the same failed edit command. Running it again will lead to the same error.\n"
      ]
     },
     "execution_count": null,
     "metadata": {},
     "output_type": "execute_result"
    }
   ],
   "source": [
    "edit 65:71\n",
    "        # Comment out the lines that attempt to open the validation indices file\n",
    "        # val_indices_path = os.path.join(args.data_root, args.dataset, 'val_indices', f'{args.dataset}_val_indices.pickle')\n",
    "        # with open(val_indices_path, 'rb') as handle:\n",
    "        #     val_indices = pickle.load(handle)\n",
    "\n",
    "        # Use the specified validation indices directly\n",
    "        val_indices = [0, 1, 2, 6, 7, 8, 12, 13, 14, 18, 19, 20]\n",
    "end_of_edit"
   ]
  },
  {
   "cell_type": "markdown",
   "id": "6bbcffc4",
   "metadata": {},
   "source": [
    "### Step 21"
   ]
  },
  {
   "cell_type": "markdown",
   "id": "f95f7efd",
   "metadata": {},
   "source": [
    "Execution Start time: 05:37:40, End time: 05:37:40 (duration: 0 seconds)"
   ]
  },
  {
   "cell_type": "markdown",
   "id": "3c6a439c",
   "metadata": {},
   "source": [
    "**Thought**: The error indicates that `val_mask` is used to filter the validation data, but it was not defined after commenting out the lines. We need to define `val_mask` using the specified `val_indices` to ensure the code functions correctly.\n",
    "\n",
    "Let's fix this by defining `val_mask` based on the `val_indices` and then apply the edit again.\n",
    "\n"
   ]
  },
  {
   "cell_type": "markdown",
   "id": "f7a9438c",
   "metadata": {},
   "source": [
    "**Action (edit)**:"
   ]
  },
  {
   "cell_type": "code",
   "execution_count": null,
   "id": "7677c853",
   "metadata": {},
   "outputs": [
    {
     "data": {
      "text/plain": [
       "[File: /content/BERT-LNL/loading_utils.py (193 lines total)]\n(14 more lines above)\n15:    # used for experiments with injected noise\n16:\n17:    tokenizer = load_tokenizer(args)\n18:    tr_data, val_data = get_training_validation_set(args, logger, tokenizer, r_state, has_val, num_classes)\n19:    test_data = load_and_cache_text(args, tokenizer, logger, tag='test')\n20:\n21:    n_set = TextBertDataset(args, tr_data, tokenizer, r_state, num_classes, make_noisy=True)\n22:    v_set = TextBertDataset(args, val_data, tokenizer, r_state, num_classes, make_noisy=True)\n23:    t_set = TextBertDataset(args, test_data, tokenizer, r_state, num_classes, make_noisy=False)\n24:\n25:    n_set_noisy_labels = copy.deepcopy(n_set.noisy_labels)\n26:    v_set_noisy_labels = copy.deepcopy(v_set.noisy_labels)\n27:    n_set_noisy_labels_hash = hash(tuple(n_set_noisy_labels))\n28:    v_set_noisy_labels_hash = hash(tuple(v_set_noisy_labels))\n29:    # wandb.run.summary[\"train_n_hash\"] = n_set_noisy_labels_hash\n30:    # wandb.run.summary[\"val_n_hash\"] = v_set_noisy_labels_hash\n31:\n32:    u_set = None\n33:    l2id = None\n34:    id2l = None\n35:\n36:    return n_set, u_set, v_set, t_set, l2id, id2l\n37:\n38:\n39:def prepare_af_data(args, logger, num_classes, has_ul):\n40:    tokenizer = load_tokenizer(args)\n41:    n_set = get_clean_and_noisy_data_by_tag(args, logger, tokenizer, num_classes, tag='train')\n42:    v_set = get_clean_and_noisy_data_by_tag(args, logger, tokenizer, num_classes, tag='validation')\n43:    t_set = get_clean_and_noisy_data_by_tag(args, logger, tokenizer, num_classes, tag='test')\n44:\n45:    assert not has_ul  # we do not have unlabeled data in Yoruba and Hausa dataset\n46:    u_set = None\n47:\n48:    label_mapping_data_dir = os.path.join(args.data_root, args.dataset, 'txt_data')\n49:    l2id = utils.pickle_load(os.path.join(label_mapping_data_dir, 'l2idx.pickle'))\n50:    id2l = utils.pickle_load(os.path.join(label_mapping_data_dir, 'idx2l.pickle'))\n51:\n52:    return n_set, u_set, v_set, t_set, l2id, id2l\n53:\n54:\n55:def get_training_validation_set(args, logger, tokenizer, r_state, has_val, num_classes):\n56:    # sanity check: args.gen_val is used when there is no validation set\n57:    if has_val:\n58:        assert not args.gen_val\n59:\n60:    tr_data = load_and_cache_text(args, tokenizer, logger, tag='train')\n61:\n62:    if has_val:  # original validation set available\n63:        val_data = load_and_cache_text(args, tokenizer, logger, tag='validation')\n64:    elif args.gen_val:  # create validation set using the training set\n65:        # Comment out the lines that attempt to open the validation indices file\n66:        # val_indices_path = os.path.join(args.data_root, args.dataset, 'val_indices', f'{args.dataset}_val_indices.pickle')\n67:        # with open(val_indices_path, 'rb') as handle:\n68:        #     val_indices = pickle.load(handle)\n69:\n70:        # Use the specified validation indices directly\n71:        val_indices = [0, 1, 2, 6, 7, 8, 12, 13, 14, 18, 19, 20]\n72:        val_mask = np.zeros(len(tr_data['labels']), dtype=bool)\n73:        val_mask[val_indices] = True\n74:        val_features = {k: v[val_mask] for k,v in tr_data['features'].items()}\n75:        val_labels = tr_data['labels'][val_mask]\n76:        val_text  = np.array(tr_data['text'])[val_mask]\n77:\n78:        train_features = {k: v[~val_mask] for k,v in tr_data['features'].items()}\n79:        train_labels = tr_data['labels'][~val_mask]\n80:        train_text  = np.array(tr_data['text'])[~val_mask]\n81:\n82:        val_data = {\"features\": val_features, \"labels\": val_labels, \"text\": val_text}\n83:        tr_data = {\"features\": train_features, \"labels\": train_labels, \"text\": train_text}\n84:\n85:    else:\n86:        raise ValueError(\"we need a validation set, set gen_val to True to extract\"\n87:                         \"a subset from the training data as validation data\")\n88:\n89:    return tr_data, val_data\n90:\n91:def get_clean_and_noisy_data_by_tag(args, logger, tokenizer, num_classes, tag):\n92:    noisy_data_tag = f'{tag}_clean'\n93:\n94:    #get text data with noisy labels\n95:    clean_noisy_data = load_and_cache_text(args, tokenizer, logger, tag=noisy_data_tag)\n96:\n97:    #get the clean training and the clean validation sets\n98:    txt_data_dir = os.path.join(args.data_root, args.dataset, 'txt_data')\n99:    input_path = os.path.join(txt_data_dir, f'{tag}_clean_noisy_labels.pickle')\n100:    noisy_labels = load_pickle_data(input_path)\n101:\n102:    td = TextBertRealDataset(args, clean_noisy_data, noisy_labels, tokenizer, num_classes)\n103:    return td\n104:\n105:\n106:\n107:def load_and_cache_text(args, tokenizer, logger, tag):\n108:    from datasets import load_dataset\n109:\n110:    # Load the AG-News dataset\n111:    dataset = load_dataset('ag_news')\n112:\n113:    # Select specific instances based on the tag\n114:    if tag == 'train':\n(79 more lines below)\nFile updated. Please review the changes and make sure they are correct (correct indentation, no duplicate lines, etc). Edit the file again if necessary.\n"
      ]
     },
     "execution_count": null,
     "metadata": {},
     "output_type": "execute_result"
    }
   ],
   "source": [
    "edit 65:71\n",
    "        # Comment out the lines that attempt to open the validation indices file\n",
    "        # val_indices_path = os.path.join(args.data_root, args.dataset, 'val_indices', f'{args.dataset}_val_indices.pickle')\n",
    "        # with open(val_indices_path, 'rb') as handle:\n",
    "        #     val_indices = pickle.load(handle)\n",
    "\n",
    "        # Use the specified validation indices directly\n",
    "        val_indices = [0, 1, 2, 6, 7, 8, 12, 13, 14, 18, 19, 20]\n",
    "        val_mask = np.zeros(len(tr_data['labels']), dtype=bool)\n",
    "        val_mask[val_indices] = True\n",
    "end_of_edit"
   ]
  },
  {
   "cell_type": "markdown",
   "id": "e8b80ce8",
   "metadata": {},
   "source": [
    "### Step 22"
   ]
  },
  {
   "cell_type": "markdown",
   "id": "c577117a",
   "metadata": {},
   "source": [
    "Execution Start time: 05:37:44, End time: 05:37:50 (duration: 6 seconds)"
   ]
  },
  {
   "cell_type": "markdown",
   "id": "a288eba7",
   "metadata": {},
   "source": [
    "**Thought**: The changes have been successfully applied to bypass the need for the validation indices file and use the specified indices directly. Now, we can proceed to run the `main.py` script with the specified parameters to train and evaluate the model.\n",
    "\n",
    "Let's execute the `main.py` script again with the provided command.\n",
    "\n"
   ]
  },
  {
   "cell_type": "markdown",
   "id": "0992463e",
   "metadata": {},
   "source": [
    "**Action (None)**:"
   ]
  },
  {
   "cell_type": "code",
   "execution_count": null,
   "id": "ecc67a4a",
   "metadata": {},
   "outputs": [
    {
     "data": {
      "text/plain": [
       "INFO Training started\nINFO log dir: log/08_22_05_37_48_sflip_nle0.2_nlb32\nINFO loading AG_News...\n/usr/local/lib/python3.10/site-packages/huggingface_hub/file_download.py:1132: FutureWarning: `resume_download` is deprecated and will be removed in version 1.0.0. Downloads always resume when possible. If you want to force a new download, use `force_download=True`.\n  warnings.warn(\nINFO PyTorch version 2.2.1+cpu available.\n\nconvert docs to tensors:   0%|                           | 0/24 [00:00<?, ?it/s]\nconvert docs to tensors: 100%|████████████████| 24/24 [00:00<00:00, 1024.29it/s]\nTraceback (most recent call last):\n  File \"/content/BERT-LNL/main.py\", line 163, in <module>\n    main()\n  File \"/content/BERT-LNL/main.py\", line 145, in main\n    nl_set, ul_set, v_set, t_set, l2id, id2l = prepare_data(args, logger, r_state, num_classes, has_val, has_ul)\n  File \"/content/BERT-LNL/loading_utils.py\", line 18, in prepare_data\n    tr_data, val_data = get_training_validation_set(args, logger, tokenizer, r_state, has_val, num_classes)\n  File \"/content/BERT-LNL/loading_utils.py\", line 75, in get_training_validation_set\n    val_labels = tr_data['labels'][val_mask]\nTypeError: only integer scalar arrays can be converted to a scalar index\n"
      ]
     },
     "execution_count": null,
     "metadata": {},
     "output_type": "execute_result"
    }
   ],
   "source": [
    "!python3 main.py \\\n",
    "--dataset AG_News \\\n",
    "--log_root log \\\n",
    "--data_root data \\\n",
    "--trainer_name bert_wn \\\n",
    "--model_name bert-base-uncased \\\n",
    "--gen_val \\\n",
    "--nl_batch_size 32 \\\n",
    "--eval_batch_size 32 \\\n",
    "--gradient_accumulation_steps 1 \\\n",
    "--max_sen_len 64 \\\n",
    "--lr 0.00002 \\\n",
    "--num_epochs 1 \\\n",
    "--num_training_steps 5 \\\n",
    "--patience 1 \\\n",
    "--eval_freq 2 \\\n",
    "--store_model 1 \\\n",
    "--noise_level 0.2 \\\n",
    "--noise_type sflip \\\n",
    "--manualSeed 1234"
   ]
  },
  {
   "cell_type": "markdown",
   "id": "a5d49e48",
   "metadata": {},
   "source": [
    "### Step 23"
   ]
  },
  {
   "cell_type": "markdown",
   "id": "4aa2001e",
   "metadata": {},
   "source": [
    "Execution Start time: 05:37:53, End time: 05:37:53 (duration: 0 seconds)"
   ]
  },
  {
   "cell_type": "markdown",
   "id": "705d2f63",
   "metadata": {},
   "source": [
    "**Thought**: The error indicates that there is an issue with indexing the `val_labels` using `val_mask`. This is likely because `val_mask` is not being applied correctly to the dataset structure returned by the Hugging Face datasets library.\n",
    "\n",
    "To resolve this, we need to ensure that `val_mask` is applied correctly to filter the validation data. Let's inspect the relevant section of the `get_training_validation_set` function to understand how `val_mask` is being used and make the necessary adjustments.\n",
    "\n",
    "I'll open the relevant section of the `loading_utils.py` file to inspect the `get_training_validation_set` function.\n",
    "\n"
   ]
  },
  {
   "cell_type": "markdown",
   "id": "c606e5b2",
   "metadata": {},
   "source": [
    "**Action (goto)**:"
   ]
  },
  {
   "cell_type": "code",
   "execution_count": null,
   "id": "923f665f",
   "metadata": {},
   "outputs": [
    {
     "data": {
      "text/plain": [
       "[File: /content/BERT-LNL/loading_utils.py (193 lines total)]\n(44 more lines above)\n45:    assert not has_ul  # we do not have unlabeled data in Yoruba and Hausa dataset\n46:    u_set = None\n47:\n48:    label_mapping_data_dir = os.path.join(args.data_root, args.dataset, 'txt_data')\n49:    l2id = utils.pickle_load(os.path.join(label_mapping_data_dir, 'l2idx.pickle'))\n50:    id2l = utils.pickle_load(os.path.join(label_mapping_data_dir, 'idx2l.pickle'))\n51:\n52:    return n_set, u_set, v_set, t_set, l2id, id2l\n53:\n54:\n55:def get_training_validation_set(args, logger, tokenizer, r_state, has_val, num_classes):\n56:    # sanity check: args.gen_val is used when there is no validation set\n57:    if has_val:\n58:        assert not args.gen_val\n59:\n60:    tr_data = load_and_cache_text(args, tokenizer, logger, tag='train')\n61:\n62:    if has_val:  # original validation set available\n63:        val_data = load_and_cache_text(args, tokenizer, logger, tag='validation')\n64:    elif args.gen_val:  # create validation set using the training set\n65:        # Comment out the lines that attempt to open the validation indices file\n66:        # val_indices_path = os.path.join(args.data_root, args.dataset, 'val_indices', f'{args.dataset}_val_indices.pickle')\n67:        # with open(val_indices_path, 'rb') as handle:\n68:        #     val_indices = pickle.load(handle)\n69:\n70:        # Use the specified validation indices directly\n71:        val_indices = [0, 1, 2, 6, 7, 8, 12, 13, 14, 18, 19, 20]\n72:        val_mask = np.zeros(len(tr_data['labels']), dtype=bool)\n73:        val_mask[val_indices] = True\n74:        val_features = {k: v[val_mask] for k,v in tr_data['features'].items()}\n75:        val_labels = tr_data['labels'][val_mask]\n76:        val_text  = np.array(tr_data['text'])[val_mask]\n77:\n78:        train_features = {k: v[~val_mask] for k,v in tr_data['features'].items()}\n79:        train_labels = tr_data['labels'][~val_mask]\n80:        train_text  = np.array(tr_data['text'])[~val_mask]\n81:\n82:        val_data = {\"features\": val_features, \"labels\": val_labels, \"text\": val_text}\n83:        tr_data = {\"features\": train_features, \"labels\": train_labels, \"text\": train_text}\n84:\n85:    else:\n86:        raise ValueError(\"we need a validation set, set gen_val to True to extract\"\n87:                         \"a subset from the training data as validation data\")\n88:\n89:    return tr_data, val_data\n90:\n91:def get_clean_and_noisy_data_by_tag(args, logger, tokenizer, num_classes, tag):\n92:    noisy_data_tag = f'{tag}_clean'\n93:\n94:    #get text data with noisy labels\n95:    clean_noisy_data = load_and_cache_text(args, tokenizer, logger, tag=noisy_data_tag)\n96:\n97:    #get the clean training and the clean validation sets\n98:    txt_data_dir = os.path.join(args.data_root, args.dataset, 'txt_data')\n99:    input_path = os.path.join(txt_data_dir, f'{tag}_clean_noisy_labels.pickle')\n100:    noisy_labels = load_pickle_data(input_path)\n101:\n102:    td = TextBertRealDataset(args, clean_noisy_data, noisy_labels, tokenizer, num_classes)\n103:    return td\n104:\n105:\n106:\n107:def load_and_cache_text(args, tokenizer, logger, tag):\n108:    from datasets import load_dataset\n109:\n110:    # Load the AG-News dataset\n111:    dataset = load_dataset('ag_news')\n112:\n113:    # Select specific instances based on the tag\n114:    if tag == 'train':\n115:        indices = [1, 2, 3, 4, 5, 6, 100, 101, 102, 103, 104, 105, 451, 452, 453, 454, 455, 456, 501, 502, 503, 504, 505, 506]\n116:    elif tag == 'test':\n117:        indices = [1, 2, 3, 101, 103, 452, 455, 501, 502, 503, 504, 505]\n118:    elif tag == 'validation':\n119:        indices = [0, 1, 2, 6, 7, 8, 12, 13, 14, 18, 19, 20]\n120:    else:\n121:        raise ValueError(f\"Unknown tag: {tag}\")\n122:\n123:    # Filter the dataset\n124:    filtered_dataset = dataset[tag].select(indices)\n125:\n126:    # Convert text to features\n127:    docs = filtered_dataset['text']\n128:    labels = filtered_dataset['label']\n129:    features = get_input_features(docs, tokenizer, args)\n130:\n131:    return {\"features\": features, \"labels\": labels, \"text\": docs}\n132:\n133:\n134:\n135:\n136:def load_tokenizer(args):\n137:    tokenizer = AutoTokenizer.from_pretrained(args.model_name)\n138:    return tokenizer\n139:\n140:\n141:def load_pickle_data(path):\n142:    with open(path, 'rb') as handle:\n143:        data = pickle.load(handle)\n144:    return data\n(49 more lines below)\n"
      ]
     },
     "execution_count": null,
     "metadata": {},
     "output_type": "execute_result"
    }
   ],
   "source": [
    "goto 60"
   ]
  },
  {
   "cell_type": "markdown",
   "id": "909e1453",
   "metadata": {},
   "source": [
    "### Step 24"
   ]
  },
  {
   "cell_type": "markdown",
   "id": "d3bc745b",
   "metadata": {},
   "source": [
    "Execution Start time: 05:37:56, End time: 05:37:57 (duration: 0 seconds)"
   ]
  },
  {
   "cell_type": "markdown",
   "id": "2acae2a0",
   "metadata": {},
   "source": [
    "**Thought**: The error arises because `val_mask` is being applied to a list, which is not compatible with boolean indexing. We need to convert the labels and text to a NumPy array before applying `val_mask`.\n",
    "\n",
    "Let's fix this by converting `tr_data['labels']` and `tr_data['text']` to NumPy arrays before applying `val_mask`.\n",
    "\n"
   ]
  },
  {
   "cell_type": "markdown",
   "id": "8ea8441e",
   "metadata": {},
   "source": [
    "**Action (edit)**:"
   ]
  },
  {
   "cell_type": "code",
   "execution_count": null,
   "id": "7c819458",
   "metadata": {},
   "outputs": [
    {
     "data": {
      "text/plain": [
       "[File: /content/BERT-LNL/loading_utils.py (193 lines total)]\n(21 more lines above)\n22:    v_set = TextBertDataset(args, val_data, tokenizer, r_state, num_classes, make_noisy=True)\n23:    t_set = TextBertDataset(args, test_data, tokenizer, r_state, num_classes, make_noisy=False)\n24:\n25:    n_set_noisy_labels = copy.deepcopy(n_set.noisy_labels)\n26:    v_set_noisy_labels = copy.deepcopy(v_set.noisy_labels)\n27:    n_set_noisy_labels_hash = hash(tuple(n_set_noisy_labels))\n28:    v_set_noisy_labels_hash = hash(tuple(v_set_noisy_labels))\n29:    # wandb.run.summary[\"train_n_hash\"] = n_set_noisy_labels_hash\n30:    # wandb.run.summary[\"val_n_hash\"] = v_set_noisy_labels_hash\n31:\n32:    u_set = None\n33:    l2id = None\n34:    id2l = None\n35:\n36:    return n_set, u_set, v_set, t_set, l2id, id2l\n37:\n38:\n39:def prepare_af_data(args, logger, num_classes, has_ul):\n40:    tokenizer = load_tokenizer(args)\n41:    n_set = get_clean_and_noisy_data_by_tag(args, logger, tokenizer, num_classes, tag='train')\n42:    v_set = get_clean_and_noisy_data_by_tag(args, logger, tokenizer, num_classes, tag='validation')\n43:    t_set = get_clean_and_noisy_data_by_tag(args, logger, tokenizer, num_classes, tag='test')\n44:\n45:    assert not has_ul  # we do not have unlabeled data in Yoruba and Hausa dataset\n46:    u_set = None\n47:\n48:    label_mapping_data_dir = os.path.join(args.data_root, args.dataset, 'txt_data')\n49:    l2id = utils.pickle_load(os.path.join(label_mapping_data_dir, 'l2idx.pickle'))\n50:    id2l = utils.pickle_load(os.path.join(label_mapping_data_dir, 'idx2l.pickle'))\n51:\n52:    return n_set, u_set, v_set, t_set, l2id, id2l\n53:\n54:\n55:def get_training_validation_set(args, logger, tokenizer, r_state, has_val, num_classes):\n56:    # sanity check: args.gen_val is used when there is no validation set\n57:    if has_val:\n58:        assert not args.gen_val\n59:\n60:    tr_data = load_and_cache_text(args, tokenizer, logger, tag='train')\n61:\n62:    if has_val:  # original validation set available\n63:        val_data = load_and_cache_text(args, tokenizer, logger, tag='validation')\n64:    elif args.gen_val:  # create validation set using the training set\n65:        # Comment out the lines that attempt to open the validation indices file\n66:        # val_indices_path = os.path.join(args.data_root, args.dataset, 'val_indices', f'{args.dataset}_val_indices.pickle')\n67:        # with open(val_indices_path, 'rb') as handle:\n68:        #     val_indices = pickle.load(handle)\n69:\n70:        # Use the specified validation indices directly\n71:        val_indices = [0, 1, 2, 6, 7, 8, 12, 13, 14, 18, 19, 20]\n72:        val_mask = np.zeros(len(tr_data['labels']), dtype=bool)\n73:        val_mask[val_indices] = True\n74:        val_features = {k: v[val_mask] for k,v in tr_data['features'].items()}\n75:        val_labels = np.array(tr_data['labels'])[val_mask]\n76:        val_text  = np.array(tr_data['text'])[val_mask]\n77:\n78:        train_features = {k: v[~val_mask] for k,v in tr_data['features'].items()}\n79:        train_labels = np.array(tr_data['labels'])[~val_mask]\n80:        train_text  = np.array(tr_data['text'])[~val_mask]\n81:\n82:        val_data = {\"features\": val_features, \"labels\": val_labels, \"text\": val_text}\n83:        tr_data = {\"features\": train_features, \"labels\": train_labels, \"text\": train_text}\n84:\n85:    else:\n86:        raise ValueError(\"we need a validation set, set gen_val to True to extract\"\n87:                         \"a subset from the training data as validation data\")\n88:\n89:    return tr_data, val_data\n90:\n91:def get_clean_and_noisy_data_by_tag(args, logger, tokenizer, num_classes, tag):\n92:    noisy_data_tag = f'{tag}_clean'\n93:\n94:    #get text data with noisy labels\n95:    clean_noisy_data = load_and_cache_text(args, tokenizer, logger, tag=noisy_data_tag)\n96:\n97:    #get the clean training and the clean validation sets\n98:    txt_data_dir = os.path.join(args.data_root, args.dataset, 'txt_data')\n99:    input_path = os.path.join(txt_data_dir, f'{tag}_clean_noisy_labels.pickle')\n100:    noisy_labels = load_pickle_data(input_path)\n101:\n102:    td = TextBertRealDataset(args, clean_noisy_data, noisy_labels, tokenizer, num_classes)\n103:    return td\n104:\n105:\n106:\n107:def load_and_cache_text(args, tokenizer, logger, tag):\n108:    from datasets import load_dataset\n109:\n110:    # Load the AG-News dataset\n111:    dataset = load_dataset('ag_news')\n112:\n113:    # Select specific instances based on the tag\n114:    if tag == 'train':\n115:        indices = [1, 2, 3, 4, 5, 6, 100, 101, 102, 103, 104, 105, 451, 452, 453, 454, 455, 456, 501, 502, 503, 504, 505, 506]\n116:    elif tag == 'test':\n117:        indices = [1, 2, 3, 101, 103, 452, 455, 501, 502, 503, 504, 505]\n118:    elif tag == 'validation':\n119:        indices = [0, 1, 2, 6, 7, 8, 12, 13, 14, 18, 19, 20]\n120:    else:\n121:        raise ValueError(f\"Unknown tag: {tag}\")\n(72 more lines below)\nFile updated. Please review the changes and make sure they are correct (correct indentation, no duplicate lines, etc). Edit the file again if necessary.\n"
      ]
     },
     "execution_count": null,
     "metadata": {},
     "output_type": "execute_result"
    }
   ],
   "source": [
    "edit 72:80\n",
    "        val_mask = np.zeros(len(tr_data['labels']), dtype=bool)\n",
    "        val_mask[val_indices] = True\n",
    "        val_features = {k: v[val_mask] for k,v in tr_data['features'].items()}\n",
    "        val_labels = np.array(tr_data['labels'])[val_mask]\n",
    "        val_text  = np.array(tr_data['text'])[val_mask]\n",
    "\n",
    "        train_features = {k: v[~val_mask] for k,v in tr_data['features'].items()}\n",
    "        train_labels = np.array(tr_data['labels'])[~val_mask]\n",
    "        train_text  = np.array(tr_data['text'])[~val_mask]\n",
    "end_of_edit"
   ]
  },
  {
   "cell_type": "markdown",
   "id": "1c4cf3a2",
   "metadata": {},
   "source": [
    "### Step 25"
   ]
  },
  {
   "cell_type": "markdown",
   "id": "2735fae2",
   "metadata": {},
   "source": [
    "Execution Start time: 05:38:00, End time: 05:38:40 (duration: 39 seconds)"
   ]
  },
  {
   "cell_type": "markdown",
   "id": "1b74df16",
   "metadata": {},
   "source": [
    "**Thought**: The changes have been successfully applied to convert the labels and text to NumPy arrays before applying `val_mask`. Now, we can proceed to run the `main.py` script with the specified parameters to train and evaluate the model.\n",
    "\n",
    "Let's execute the `main.py` script again with the provided command.\n",
    "\n"
   ]
  },
  {
   "cell_type": "markdown",
   "id": "f37e753a",
   "metadata": {},
   "source": [
    "**Action (None)**:"
   ]
  },
  {
   "cell_type": "code",
   "execution_count": null,
   "id": "dcdb810e",
   "metadata": {},
   "outputs": [
    {
     "data": {
      "text/plain": [
       "INFO Training started\nINFO log dir: log/08_22_05_38_04_sflip_nle0.2_nlb32\nINFO loading AG_News...\n/usr/local/lib/python3.10/site-packages/huggingface_hub/file_download.py:1132: FutureWarning: `resume_download` is deprecated and will be removed in version 1.0.0. Downloads always resume when possible. If you want to force a new download, use `force_download=True`.\n  warnings.warn(\nINFO PyTorch version 2.2.1+cpu available.\n\nconvert docs to tensors:   0%|                           | 0/24 [00:00<?, ?it/s]\nconvert docs to tensors: 100%|████████████████| 24/24 [00:00<00:00, 1091.19it/s]\n\nconvert docs to tensors:   0%|                           | 0/12 [00:00<?, ?it/s]\nconvert docs to tensors: 100%|████████████████| 12/12 [00:00<00:00, 3635.10it/s]\nINFO Bert WN Trainer: training started\nINFO training size: 12\nINFO validation size: 12\nINFO test size: 12\n/usr/local/lib/python3.10/site-packages/huggingface_hub/file_download.py:1132: FutureWarning: `resume_download` is deprecated and will be removed in version 1.0.0. Downloads always resume when possible. If you want to force a new download, use `force_download=True`.\n  warnings.warn(\n\nmodel.safetensors:   0%|                             | 0.00/440M [00:00<?, ?B/s]\n\n\n\n\n\n\n\n\n\n\n\n\n\n\n\n\n\n\n\n\nINFO Validation set is used here\n/usr/local/lib/python3.10/site-packages/transformers/optimization.py:521: FutureWarning: This implementation of AdamW is deprecated and will be removed in a future version. Use the PyTorch implementation torch.optim.AdamW instead, or set `no_deprecation_warning=True` to disable this warning\n  warnings.warn(\n\n[Vannilla Trainer] training:   0%|                        | 0/5 [00:00<?, ?it/s]\n[Vannilla Trainer] training:  20%|███▏            | 1/5 [00:03<00:14,  3.74s/it]/usr/local/lib/python3.10/site-packages/sklearn/metrics/_classification.py:1517: UndefinedMetricWarning: Precision is ill-defined and being set to 0.0 in labels with no predicted samples. Use `zero_division` parameter to control this behavior.\n  _warn_prf(average, modifier, f\"{metric.capitalize()} is\", len(result))\n/usr/local/lib/python3.10/site-packages/sklearn/metrics/_classification.py:1517: UndefinedMetricWarning: Precision is ill-defined and being set to 0.0 in labels with no predicted samples. Use `zero_division` parameter to control this behavior.\n  _warn_prf(average, modifier, f\"{metric.capitalize()} is\", len(result))\n/usr/local/lib/python3.10/site-packages/sklearn/metrics/_classification.py:1517: UndefinedMetricWarning: Precision is ill-defined and being set to 0.0 in labels with no predicted samples. Use `zero_division` parameter to control this behavior.\n  _warn_prf(average, modifier, f\"{metric.capitalize()} is\", len(result))\n/usr/local/lib/python3.10/site-packages/sklearn/metrics/_classification.py:1517: UndefinedMetricWarning: Precision is ill-defined and being set to 0.0 in labels with no predicted samples. Use `zero_division` parameter to control this behavior.\n  _warn_prf(average, modifier, f\"{metric.capitalize()} is\", len(result))\n/usr/local/lib/python3.10/site-packages/sklearn/metrics/_classification.py:1517: UndefinedMetricWarning: Precision is ill-defined and being set to 0.0 in labels with no predicted samples. Use `zero_division` parameter to control this behavior.\n  _warn_prf(average, modifier, f\"{metric.capitalize()} is\", len(result))\n/usr/local/lib/python3.10/site-packages/sklearn/metrics/_classification.py:1517: UndefinedMetricWarning: Precision is ill-defined and being set to 0.0 in labels with no predicted samples. Use `zero_division` parameter to control this behavior.\n  _warn_prf(average, modifier, f\"{metric.capitalize()} is\", len(result))\n/usr/local/lib/python3.10/site-packages/sklearn/metrics/_classification.py:1517: UndefinedMetricWarning: Precision is ill-defined and being set to 0.0 in labels with no predicted samples. Use `zero_division` parameter to control this behavior.\n  _warn_prf(average, modifier, f\"{metric.capitalize()} is\", len(result))\n/usr/local/lib/python3.10/site-packages/sklearn/metrics/_classification.py:1517: UndefinedMetricWarning: Precision is ill-defined and being set to 0.0 in labels with no predicted samples. Use `zero_division` parameter to control this behavior.\n  _warn_prf(average, modifier, f\"{metric.capitalize()} is\", len(result))\n/usr/local/lib/python3.10/site-packages/sklearn/metrics/_classification.py:1517: UndefinedMetricWarning: Precision is ill-defined and being set to 0.0 in labels with no predicted samples. Use `zero_division` parameter to control this behavior.\n  _warn_prf(average, modifier, f\"{metric.capitalize()} is\", len(result))\n/usr/local/lib/python3.10/site-packages/sklearn/metrics/_classification.py:1517: UndefinedMetricWarning: Precision is ill-defined and being set to 0.0 in labels with no predicted samples. Use `zero_division` parameter to control this behavior.\n  _warn_prf(average, modifier, f\"{metric.capitalize()} is\", len(result))\n/usr/local/lib/python3.10/site-packages/sklearn/metrics/_classification.py:1517: UndefinedMetricWarning: Precision is ill-defined and being set to 0.0 in labels with no predicted samples. Use `zero_division` parameter to control this behavior.\n  _warn_prf(average, modifier, f\"{metric.capitalize()} is\", len(result))\n/usr/local/lib/python3.10/site-packages/sklearn/metrics/_classification.py:1517: UndefinedMetricWarning: Precision is ill-defined and being set to 0.0 in labels with no predicted samples. Use `zero_division` parameter to control this behavior.\n  _warn_prf(average, modifier, f\"{metric.capitalize()} is\", len(result))\n/usr/local/lib/python3.10/site-packages/sklearn/metrics/_classification.py:1517: UndefinedMetricWarning: Precision is ill-defined and being set to 0.0 in labels with no predicted samples. Use `zero_division` parameter to control this behavior.\n  _warn_prf(average, modifier, f\"{metric.capitalize()} is\", len(result))\n/usr/local/lib/python3.10/site-packages/sklearn/metrics/_classification.py:1517: UndefinedMetricWarning: Precision is ill-defined and being set to 0.0 in labels with no predicted samples. Use `zero_division` parameter to control this behavior.\n  _warn_prf(average, modifier, f\"{metric.capitalize()} is\", len(result))\n/usr/local/lib/python3.10/site-packages/sklearn/metrics/_classification.py:1517: UndefinedMetricWarning: Precision is ill-defined and being set to 0.0 in labels with no predicted samples. Use `zero_division` parameter to control this behavior.\n  _warn_prf(average, modifier, f\"{metric.capitalize()} is\", len(result))\n/usr/local/lib/python3.10/site-packages/sklearn/metrics/_classification.py:1517: UndefinedMetricWarning: Precision is ill-defined and being set to 0.0 in labels with no predicted samples. Use `zero_division` parameter to control this behavior.\n  _warn_prf(average, modifier, f\"{metric.capitalize()} is\", len(result))\n/usr/local/lib/python3.10/site-packages/sklearn/metrics/_classification.py:1517: UndefinedMetricWarning: Precision is ill-defined and being set to 0.0 in labels with no predicted samples. Use `zero_division` parameter to control this behavior.\n  _warn_prf(average, modifier, f\"{metric.capitalize()} is\", len(result))\n/usr/local/lib/python3.10/site-packages/sklearn/metrics/_classification.py:1517: UndefinedMetricWarning: Precision is ill-defined and being set to 0.0 in labels with no predicted samples. Use `zero_division` parameter to control this behavior.\n  _warn_prf(average, modifier, f\"{metric.capitalize()} is\", len(result))\n\n[Vannilla Trainer] training:  40%|██████▍         | 2/5 [00:11<00:17,  5.95s/it]\n[Vannilla Trainer] training:  60%|█████████▌      | 3/5 [00:14<00:09,  4.88s/it]/usr/local/lib/python3.10/site-packages/sklearn/metrics/_classification.py:1517: UndefinedMetricWarning: Precision is ill-defined and being set to 0.0 in labels with no predicted samples. Use `zero_division` parameter to control this behavior.\n  _warn_prf(average, modifier, f\"{metric.capitalize()} is\", len(result))\n/usr/local/lib/python3.10/site-packages/sklearn/metrics/_classification.py:1517: UndefinedMetricWarning: Precision is ill-defined and being set to 0.0 in labels with no predicted samples. Use `zero_division` parameter to control this behavior.\n  _warn_prf(average, modifier, f\"{metric.capitalize()} is\", len(result))\n/usr/local/lib/python3.10/site-packages/sklearn/metrics/_classification.py:1517: UndefinedMetricWarning: Precision is ill-defined and being set to 0.0 in labels with no predicted samples. Use `zero_division` parameter to control this behavior.\n  _warn_prf(average, modifier, f\"{metric.capitalize()} is\", len(result))\n/usr/local/lib/python3.10/site-packages/sklearn/metrics/_classification.py:1517: UndefinedMetricWarning: Precision is ill-defined and being set to 0.0 in labels with no predicted samples. Use `zero_division` parameter to control this behavior.\n  _warn_prf(average, modifier, f\"{metric.capitalize()} is\", len(result))\n/usr/local/lib/python3.10/site-packages/sklearn/metrics/_classification.py:1517: UndefinedMetricWarning: Precision is ill-defined and being set to 0.0 in labels with no predicted samples. Use `zero_division` parameter to control this behavior.\n  _warn_prf(average, modifier, f\"{metric.capitalize()} is\", len(result))\n/usr/local/lib/python3.10/site-packages/sklearn/metrics/_classification.py:1517: UndefinedMetricWarning: Precision is ill-defined and being set to 0.0 in labels with no predicted samples. Use `zero_division` parameter to control this behavior.\n  _warn_prf(average, modifier, f\"{metric.capitalize()} is\", len(result))\n/usr/local/lib/python3.10/site-packages/sklearn/metrics/_classification.py:1517: UndefinedMetricWarning: Precision is ill-defined and being set to 0.0 in labels with no predicted samples. Use `zero_division` parameter to control this behavior.\n  _warn_prf(average, modifier, f\"{metric.capitalize()} is\", len(result))\n/usr/local/lib/python3.10/site-packages/sklearn/metrics/_classification.py:1517: UndefinedMetricWarning: Precision is ill-defined and being set to 0.0 in labels with no predicted samples. Use `zero_division` parameter to control this behavior.\n  _warn_prf(average, modifier, f\"{metric.capitalize()} is\", len(result))\n/usr/local/lib/python3.10/site-packages/sklearn/metrics/_classification.py:1517: UndefinedMetricWarning: Precision is ill-defined and being set to 0.0 in labels with no predicted samples. Use `zero_division` parameter to control this behavior.\n  _warn_prf(average, modifier, f\"{metric.capitalize()} is\", len(result))\n/usr/local/lib/python3.10/site-packages/sklearn/metrics/_classification.py:1517: UndefinedMetricWarning: Precision is ill-defined and being set to 0.0 in labels with no predicted samples. Use `zero_division` parameter to control this behavior.\n  _warn_prf(average, modifier, f\"{metric.capitalize()} is\", len(result))\n/usr/local/lib/python3.10/site-packages/sklearn/metrics/_classification.py:1517: UndefinedMetricWarning: Precision is ill-defined and being set to 0.0 in labels with no predicted samples. Use `zero_division` parameter to control this behavior.\n  _warn_prf(average, modifier, f\"{metric.capitalize()} is\", len(result))\n/usr/local/lib/python3.10/site-packages/sklearn/metrics/_classification.py:1517: UndefinedMetricWarning: Precision is ill-defined and being set to 0.0 in labels with no predicted samples. Use `zero_division` parameter to control this behavior.\n  _warn_prf(average, modifier, f\"{metric.capitalize()} is\", len(result))\n/usr/local/lib/python3.10/site-packages/sklearn/metrics/_classification.py:1517: UndefinedMetricWarning: Precision is ill-defined and being set to 0.0 in labels with no predicted samples. Use `zero_division` parameter to control this behavior.\n  _warn_prf(average, modifier, f\"{metric.capitalize()} is\", len(result))\n/usr/local/lib/python3.10/site-packages/sklearn/metrics/_classification.py:1517: UndefinedMetricWarning: Precision is ill-defined and being set to 0.0 in labels with no predicted samples. Use `zero_division` parameter to control this behavior.\n  _warn_prf(average, modifier, f\"{metric.capitalize()} is\", len(result))\n/usr/local/lib/python3.10/site-packages/sklearn/metrics/_classification.py:1517: UndefinedMetricWarning: Precision is ill-defined and being set to 0.0 in labels with no predicted samples. Use `zero_division` parameter to control this behavior.\n  _warn_prf(average, modifier, f\"{metric.capitalize()} is\", len(result))\n/usr/local/lib/python3.10/site-packages/sklearn/metrics/_classification.py:1517: UndefinedMetricWarning: Precision is ill-defined and being set to 0.0 in labels with no predicted samples. Use `zero_division` parameter to control this behavior.\n  _warn_prf(average, modifier, f\"{metric.capitalize()} is\", len(result))\n/usr/local/lib/python3.10/site-packages/sklearn/metrics/_classification.py:1517: UndefinedMetricWarning: Precision is ill-defined and being set to 0.0 in labels with no predicted samples. Use `zero_division` parameter to control this behavior.\n  _warn_prf(average, modifier, f\"{metric.capitalize()} is\", len(result))\n/usr/local/lib/python3.10/site-packages/sklearn/metrics/_classification.py:1517: UndefinedMetricWarning: Precision is ill-defined and being set to 0.0 in labels with no predicted samples. Use `zero_division` parameter to control this behavior.\n  _warn_prf(average, modifier, f\"{metric.capitalize()} is\", len(result))\n\n[Vannilla Trainer] training:  80%|████████████▊   | 4/5 [00:22<00:06,  6.07s/it]\n[Vannilla Trainer] training: 100%|████████████████| 5/5 [00:25<00:00,  5.01s/it]\n[Vannilla Trainer] training: 100%|████████████████| 5/5 [00:25<00:00,  5.17s/it]\n/usr/local/lib/python3.10/site-packages/huggingface_hub/file_download.py:1132: FutureWarning: `resume_download` is deprecated and will be removed in version 1.0.0. Downloads always resume when possible. If you want to force a new download, use `force_download=True`.\n  warnings.warn(\n/usr/local/lib/python3.10/site-packages/sklearn/metrics/_classification.py:1517: UndefinedMetricWarning: Precision is ill-defined and being set to 0.0 in labels with no predicted samples. Use `zero_division` parameter to control this behavior.\n  _warn_prf(average, modifier, f\"{metric.capitalize()} is\", len(result))\n/usr/local/lib/python3.10/site-packages/sklearn/metrics/_classification.py:1517: UndefinedMetricWarning: Precision is ill-defined and being set to 0.0 in labels with no predicted samples. Use `zero_division` parameter to control this behavior.\n  _warn_prf(average, modifier, f\"{metric.capitalize()} is\", len(result))\n/usr/local/lib/python3.10/site-packages/sklearn/metrics/_classification.py:1517: UndefinedMetricWarning: Precision is ill-defined and being set to 0.0 in labels with no predicted samples. Use `zero_division` parameter to control this behavior.\n  _warn_prf(average, modifier, f\"{metric.capitalize()} is\", len(result))\n/usr/local/lib/python3.10/site-packages/sklearn/metrics/_classification.py:1517: UndefinedMetricWarning: Precision is ill-defined and being set to 0.0 in labels with no predicted samples. Use `zero_division` parameter to control this behavior.\n  _warn_prf(average, modifier, f\"{metric.capitalize()} is\", len(result))\n/usr/local/lib/python3.10/site-packages/sklearn/metrics/_classification.py:1517: UndefinedMetricWarning: Precision is ill-defined and being set to 0.0 in labels with no predicted samples. Use `zero_division` parameter to control this behavior.\n  _warn_prf(average, modifier, f\"{metric.capitalize()} is\", len(result))\n/usr/local/lib/python3.10/site-packages/sklearn/metrics/_classification.py:1517: UndefinedMetricWarning: Precision is ill-defined and being set to 0.0 in labels with no predicted samples. Use `zero_division` parameter to control this behavior.\n  _warn_prf(average, modifier, f\"{metric.capitalize()} is\", len(result))\n/usr/local/lib/python3.10/site-packages/sklearn/metrics/_classification.py:1517: UndefinedMetricWarning: Precision is ill-defined and being set to 0.0 in labels with no predicted samples. Use `zero_division` parameter to control this behavior.\n  _warn_prf(average, modifier, f\"{metric.capitalize()} is\", len(result))\n/usr/local/lib/python3.10/site-packages/sklearn/metrics/_classification.py:1517: UndefinedMetricWarning: Precision is ill-defined and being set to 0.0 in labels with no predicted samples. Use `zero_division` parameter to control this behavior.\n  _warn_prf(average, modifier, f\"{metric.capitalize()} is\", len(result))\n/usr/local/lib/python3.10/site-packages/sklearn/metrics/_classification.py:1517: UndefinedMetricWarning: Precision is ill-defined and being set to 0.0 in labels with no predicted samples. Use `zero_division` parameter to control this behavior.\n  _warn_prf(average, modifier, f\"{metric.capitalize()} is\", len(result))\n/usr/local/lib/python3.10/site-packages/sklearn/metrics/_classification.py:1517: UndefinedMetricWarning: Precision is ill-defined and being set to 0.0 in labels with no predicted samples. Use `zero_division` parameter to control this behavior.\n  _warn_prf(average, modifier, f\"{metric.capitalize()} is\", len(result))\n/usr/local/lib/python3.10/site-packages/sklearn/metrics/_classification.py:1517: UndefinedMetricWarning: Precision is ill-defined and being set to 0.0 in labels with no predicted samples. Use `zero_division` parameter to control this behavior.\n  _warn_prf(average, modifier, f\"{metric.capitalize()} is\", len(result))\n/usr/local/lib/python3.10/site-packages/sklearn/metrics/_classification.py:1517: UndefinedMetricWarning: Precision is ill-defined and being set to 0.0 in labels with no predicted samples. Use `zero_division` parameter to control this behavior.\n  _warn_prf(average, modifier, f\"{metric.capitalize()} is\", len(result))\n/usr/local/lib/python3.10/site-packages/sklearn/metrics/_classification.py:1517: UndefinedMetricWarning: Precision is ill-defined and being set to 0.0 in labels with no predicted samples. Use `zero_division` parameter to control this behavior.\n  _warn_prf(average, modifier, f\"{metric.capitalize()} is\", len(result))\n/usr/local/lib/python3.10/site-packages/sklearn/metrics/_classification.py:1517: UndefinedMetricWarning: Precision is ill-defined and being set to 0.0 in labels with no predicted samples. Use `zero_division` parameter to control this behavior.\n  _warn_prf(average, modifier, f\"{metric.capitalize()} is\", len(result))\n/usr/local/lib/python3.10/site-packages/sklearn/metrics/_classification.py:1517: UndefinedMetricWarning: Precision is ill-defined and being set to 0.0 in labels with no predicted samples. Use `zero_division` parameter to control this behavior.\n  _warn_prf(average, modifier, f\"{metric.capitalize()} is\", len(result))\n/usr/local/lib/python3.10/site-packages/sklearn/metrics/_classification.py:1517: UndefinedMetricWarning: Precision is ill-defined and being set to 0.0 in labels with no predicted samples. Use `zero_division` parameter to control this behavior.\n  _warn_prf(average, modifier, f\"{metric.capitalize()} is\", len(result))\n/usr/local/lib/python3.10/site-packages/sklearn/metrics/_classification.py:1517: UndefinedMetricWarning: Precision is ill-defined and being set to 0.0 in labels with no predicted samples. Use `zero_division` parameter to control this behavior.\n  _warn_prf(average, modifier, f\"{metric.capitalize()} is\", len(result))\n/usr/local/lib/python3.10/site-packages/sklearn/metrics/_classification.py:1517: UndefinedMetricWarning: Precision is ill-defined and being set to 0.0 in labels with no predicted samples. Use `zero_division` parameter to control this behavior.\n  _warn_prf(average, modifier, f\"{metric.capitalize()} is\", len(result))\nTest Score is {'score_dict': {'0': {'precision': 0.0, 'recall': 0.0, 'f1-score': 0.0, 'support': 3.0}, '1': {'precision': 0.0, 'recall': 0.0, 'f1-score': 0.0, 'support': 3.0}, '2': {'precision': 0.0, 'recall': 0.0, 'f1-score': 0.0, 'support': 3.0}, '3': {'precision': 0.25, 'recall': 1.0, 'f1-score': 0.4, 'support': 3.0}, 'accuracy': 0.25, 'macro avg': {'precision': 0.0625, 'recall': 0.25, 'f1-score': 0.1, 'support': 12.0}, 'weighted avg': {'precision': 0.0625, 'recall': 0.25, 'f1-score': 0.10000000000000002, 'support': 12.0}}, 'score_str': '              precision    recall  f1-score   support\\n\\n           0       0.00      0.00      0.00         3\\n           1       0.00      0.00      0.00         3\\n           2       0.00      0.00      0.00         3\\n           3       0.25      1.00      0.40         3\\n\\n    accuracy                           0.25        12\\n   macro avg       0.06      0.25      0.10        12\\nweighted avg       0.06      0.25      0.10        12\\n'}\n"
      ]
     },
     "execution_count": null,
     "metadata": {},
     "output_type": "execute_result"
    }
   ],
   "source": [
    "!python3 main.py \\\n",
    "--dataset AG_News \\\n",
    "--log_root log \\\n",
    "--data_root data \\\n",
    "--trainer_name bert_wn \\\n",
    "--model_name bert-base-uncased \\\n",
    "--gen_val \\\n",
    "--nl_batch_size 32 \\\n",
    "--eval_batch_size 32 \\\n",
    "--gradient_accumulation_steps 1 \\\n",
    "--max_sen_len 64 \\\n",
    "--lr 0.00002 \\\n",
    "--num_epochs 1 \\\n",
    "--num_training_steps 5 \\\n",
    "--patience 1 \\\n",
    "--eval_freq 2 \\\n",
    "--store_model 1 \\\n",
    "--noise_level 0.2 \\\n",
    "--noise_type sflip \\\n",
    "--manualSeed 1234"
   ]
  },
  {
   "cell_type": "markdown",
   "id": "56b1eb68",
   "metadata": {},
   "source": [
    "### Step 26"
   ]
  },
  {
   "cell_type": "markdown",
   "id": "387e00fc",
   "metadata": {},
   "source": [
    "Execution Start time: 05:38:44, End time: 05:38:44 (duration: 0 seconds)"
   ]
  },
  {
   "cell_type": "markdown",
   "id": "313ebebb",
   "metadata": {},
   "source": [
    "**Thought**: The training and evaluation have completed successfully, and we have obtained the test scores. The output includes the accuracy and the weighted average precision, recall, f1-score, and support.\n",
    "\n",
    "Here are the results:\n",
    "- Accuracy: 0.25\n",
    "- Weighted Average Precision: 0.0625\n",
    "- Weighted Average Recall: 0.25\n",
    "- Weighted Average F1-Score: 0.1\n",
    "- Weighted Average Support: 12.0\n",
    "\n",
    "Now, let's format these results into the required JSON structure and submit the answer.\n",
    "\n"
   ]
  },
  {
   "cell_type": "markdown",
   "id": "5ea51db3",
   "metadata": {},
   "source": [
    "**Action (submit)**:"
   ]
  },
  {
   "cell_type": "code",
   "execution_count": null,
   "id": "fa9e580e",
   "metadata": {},
   "outputs": [
    {
     "data": {
      "text/plain": [
       "{accuracy: 0.25, weighted_avg: {precision: 0.0625, recall: 0.25, f1-score: 0.1, support: 12.0}}"
      ]
     },
     "execution_count": null,
     "metadata": {},
     "output_type": "execute_result"
    }
   ],
   "source": [
    "submit {\"accuracy\": 0.25, \"weighted_avg\": {\"precision\": 0.0625, \"recall\": 0.25, \"f1-score\": 0.1, \"support\": 12.0}}"
   ]
  }
 ],
 "metadata": {},
 "nbformat": 4,
 "nbformat_minor": 5
}
